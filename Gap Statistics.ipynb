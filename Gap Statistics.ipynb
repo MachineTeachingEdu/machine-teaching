{
 "cells": [
  {
   "cell_type": "code",
   "execution_count": 60,
   "metadata": {
    "collapsed": true
   },
   "outputs": [],
   "source": [
    "from sklearn import datasets\n",
    "from scipy.cluster import hierarchy\n",
    "from sklearn.cluster import KMeans\n",
    "from scipy.spatial.distance import pdist\n",
    "import scipy\n",
    "import numpy as np"
   ]
  },
  {
   "cell_type": "code",
   "execution_count": 119,
   "metadata": {
    "collapsed": true
   },
   "outputs": [],
   "source": [
    "import matplotlib.pyplot as plt\n",
    "%matplotlib inline"
   ]
  },
  {
   "cell_type": "code",
   "execution_count": 16,
   "metadata": {
    "collapsed": true
   },
   "outputs": [],
   "source": [
    "iris = datasets.load_iris()\n",
    "iris_X = iris.data"
   ]
  },
  {
   "cell_type": "markdown",
   "metadata": {},
   "source": [
    "### Gap Statistics\n",
    "$n_r = |C_r|$ (cardinalidade do cluster r)\n",
    "\n",
    "$D_r = \\sum_{i,i'\\epsilon C_r}{d_{i,i'}}$ (pairwise-distance entre todos os elementos de um cluster)\n",
    "\n",
    "$W_k = \\sum_{r=1}^{k}{\\frac{1}{2n_r}D_r}$ (média ponderada da soma das distâncias dentro de cada cluster - pooled within-cluster sum around the cluster means)\n",
    "\n",
    "A ideia não é escolher a quantidade de clusters que minimiza a distância interna, pois esse sempre diminui conforme aumentamos o número de clusters. A estatística busca encontrar o valor que minimiza essa distância quando comparado a uma distribuição de referência dos dados. (Ou seja, a quantidade de clusters que mais faz diferença pela clusterização e não pelo fato de estamos aumentando o número de clusters)\n",
    "\n",
    "$Gap_n(k) = E^*\\{log(W_k)\\} - log(W_k)$ (onde $E^*$ é o valor esperado de uma amostra de tamanho $n$ da distribuição de referência. O valor estimado $\\widehat{k}$ é o valor que maximiza o $Gap_n(k)$ depois de levar em consideração a distribuição."
   ]
  },
  {
   "cell_type": "code",
   "execution_count": 280,
   "metadata": {
    "collapsed": true
   },
   "outputs": [],
   "source": [
    "def calculate_wk(X, y, distance='euclidean'):\n",
    "    \"\"\" Calculate nr, dr and wk \"\"\"\n",
    "    min_k = np.array(y).min()\n",
    "    max_k = np.array(y).max()\n",
    "    wk = []\n",
    "    \n",
    "    for i in range(min_k, max_k+1):\n",
    "        # Calculate Dr for each cluster\n",
    "        obs_idx = np.where(clusters == i)[0]\n",
    "        nr = obs_idx.shape[0]\n",
    "        \n",
    "        # Get pairwise distance\n",
    "        dist = pdist(X[obs_idx], distance).sum()\n",
    "        \n",
    "        # Calculate Wk\n",
    "        wki = dist/(2*nr)\n",
    "        wk.append(wki)\n",
    "    \n",
    "    return np.array(wk).sum()\n",
    "\n",
    "def get_clusters(X, k, mode='hierarquical', **kwargs):\n",
    "    \"\"\" Different clustering modes. \"\"\"\n",
    "    if mode == 'hierarquical':\n",
    "        # Create linkage matrix for original data\n",
    "        Z = hierarchy.linkage(X, **kwargs)\n",
    "        clusters = hierarchy.fcluster(Z, k, criterion='maxclust')    \n",
    "    elif mode == 'kmeans':\n",
    "        clusters = KMeans(n_clusters=k).fit_predict(X)\n",
    "    return clusters"
   ]
  },
  {
   "cell_type": "markdown",
   "metadata": {},
   "source": [
    "### Prepare reference dataset"
   ]
  },
  {
   "cell_type": "code",
   "execution_count": 281,
   "metadata": {},
   "outputs": [],
   "source": [
    "nrefs = 20\n",
    "shape = iris_X.shape\n",
    "# Set bounding box\n",
    "tops = iris_X.max(axis=0)\n",
    "bots = iris_X.min(axis=0)\n",
    "\n",
    "# Generate distribution\n",
    "rands = scipy.random.random_sample(size=(shape[0],shape[1],nrefs))\n",
    "\n",
    "# Set offset for random uniform samples to be inside bounding boxes\n",
    "dists = scipy.matrix(scipy.diag(tops-bots))\n",
    "for i in range(nrefs):\n",
    "    rands[:,:,i] = rands[:,:,i]*dists+bots"
   ]
  },
  {
   "cell_type": "markdown",
   "metadata": {},
   "source": [
    "#### Clustering using hierarchy"
   ]
  },
  {
   "cell_type": "code",
   "execution_count": 282,
   "metadata": {
    "collapsed": true
   },
   "outputs": [],
   "source": [
    "k_max = 6"
   ]
  },
  {
   "cell_type": "code",
   "execution_count": 283,
   "metadata": {
    "scrolled": false
   },
   "outputs": [],
   "source": [
    "def calculate_gap(X):\n",
    "    gaps = []\n",
    "    error = []\n",
    "    for k in range(2,k_max+1):\n",
    "        # Calculate Wk for original data\n",
    "        clusters = get_clusters(iris_X, k, 'kmeans', method='ward')\n",
    "        wk = calculate_wk(iris_X, clusters)\n",
    "        log_wk = np.log(wk)\n",
    "\n",
    "        # Calculate Wk for reference distribution\n",
    "        wk_refs = []\n",
    "        for ref in range(nrefs):\n",
    "            clusters = get_clusters(rands[:,:,ref], k, 'kmeans', method='ward')\n",
    "            wk_ref = calculate_wk(rands[:,:,ref], clusters)\n",
    "            log_wk_ref = np.log(wk_ref)\n",
    "            wk_refs.append(log_wk_ref)\n",
    "        wkb = np.array(wk_refs)\n",
    "        wkb_sum = wkb.sum()\n",
    "        wkb_std = wkb.std()\n",
    "        B = wkb.shape[0]\n",
    "\n",
    "        # Calculate Gap\n",
    "        gap_k = (1/B*wkb_sum) - log_wk\n",
    "        gaps.append(gap_k)\n",
    "        error.append(np.sqrt(wkb_std*(1+(1/B))))"
   ]
  },
  {
   "cell_type": "code",
   "execution_count": 272,
   "metadata": {},
   "outputs": [
    {
     "data": {
      "image/png": "[encoded data removed]",
      "text/plain": [
       "<matplotlib.figure.Figure at 0x7f4e17ec75c0>"
      ]
     },
     "metadata": {},
     "output_type": "display_data"
    }
   ],
   "source": [
    "plt.errorbar(list(range(2,k_max+1)), gaps, yerr=error)\n",
    "plt.show()"
   ]
  },
  {
   "cell_type": "code",
   "execution_count": 273,
   "metadata": {},
   "outputs": [
    {
     "data": {
      "text/plain": [
       "[0.6052640869429742,\n",
       " 0.78402758524008,\n",
       " 0.8410192386422226,\n",
       " 0.8586295186768358,\n",
       " 0.8978649080418863]"
      ]
     },
     "execution_count": 273,
     "metadata": {},
     "output_type": "execute_result"
    }
   ],
   "source": [
    "gaps"
   ]
  },
  {
   "cell_type": "code",
   "execution_count": 274,
   "metadata": {},
   "outputs": [
    {
     "data": {
      "text/plain": [
       "[0.14150127977566185,\n",
       " 0.12734768668005902,\n",
       " 0.13552250234911448,\n",
       " 0.15010269775133062,\n",
       " 0.14776678260009585]"
      ]
     },
     "execution_count": 274,
     "metadata": {},
     "output_type": "execute_result"
    }
   ],
   "source": [
    "error"
   ]
  },
  {
   "cell_type": "code",
   "execution_count": 275,
   "metadata": {},
   "outputs": [
    {
     "name": "stdout",
     "output_type": "stream",
     "text": [
      "k = 3\n"
     ]
    }
   ],
   "source": [
    "for i in range(2,k_max):\n",
    "    k = i-2\n",
    "    gapi = gaps[k]\n",
    "    gapi1 = gaps[k+1]\n",
    "    std = error[k+1]\n",
    "    if gapi >= (gapi1-std):\n",
    "        print(\"k = %d\" % (k+2))\n",
    "        break"
   ]
  }
 ],
 "metadata": {
  "kernelspec": {
   "display_name": "Python 3",
   "language": "python",
   "name": "python3"
  },
  "language_info": {
   "codemirror_mode": {
    "name": "ipython",
    "version": 3
   },
   "file_extension": ".py",
   "mimetype": "text/x-python",
   "name": "python",
   "nbconvert_exporter": "python",
   "pygments_lexer": "ipython3",
   "version": "3.6.2"
  }
 },
 "nbformat": 4,
 "nbformat_minor": 2
}
