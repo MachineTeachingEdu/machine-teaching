{
 "cells": [
  {
   "cell_type": "code",
   "execution_count": 1,
   "metadata": {},
   "outputs": [],
   "source": [
    "from bs4 import BeautifulSoup\n",
    "import requests\n",
    "from db import PythonProblems\n",
    "from datetime import datetime\n",
    "from urllib.parse import urljoin\n",
    "from tqdm import tqdm"
   ]
  },
  {
   "cell_type": "markdown",
   "metadata": {},
   "source": [
    "### Creating and connecting to database"
   ]
  },
  {
   "cell_type": "code",
   "execution_count": 32,
   "metadata": {
    "collapsed": true
   },
   "outputs": [],
   "source": [
    "db = PythonProblems('python.sqlite', 'init_tables.sql')"
   ]
  },
  {
   "cell_type": "markdown",
   "metadata": {},
   "source": [
    "### Getting the pages to be crawled"
   ]
  },
  {
   "cell_type": "code",
   "execution_count": 33,
   "metadata": {
    "scrolled": false
   },
   "outputs": [
    {
     "name": "stderr",
     "output_type": "stream",
     "text": [
      "100%|██████████| 45/45 [00:00<00:00, 5668.15it/s]\n",
      "43it [00:41,  1.03it/s]"
     ]
    },
    {
     "name": "stdout",
     "output_type": "stream",
     "text": [
      "Got 43 problems inserted, 43 solutions inserted, 0 problems repeated and 0 solutions repeated\n",
      "CPU times: user 3.8 s, sys: 32 ms, total: 3.83 s\n",
      "Wall time: 42.5 s\n"
     ]
    },
    {
     "name": "stderr",
     "output_type": "stream",
     "text": [
      "\n"
     ]
    }
   ],
   "source": [
    "%%time\n",
    "urls = [\n",
    "       # \"https://www.w3resource.com/python-exercises/python-basic-exercises.php\", \n",
    "       # \"https://www.w3resource.com/python-exercises/basic/\", # commit d66ecae4b3ee871ca6d94d90ac9fde7d28dd1c67\n",
    "       # \"https://www.w3resource.com/python-exercises/string/\",\n",
    "       # \"https://www.w3resource.com/python-exercises/list/\", # commit 42e8eb9a78d7474cecf2c373e3c9c9b4652423e7\n",
    "       # \"https://www.w3resource.com/python-exercises/dictionary/\", # commit 6490b5779a9f472edbe7cd286d579557b2b53411\n",
    "       # \"https://www.w3resource.com/python-exercises/tuple/\", # commit aa04882c57893437f896b46e755433a64b34c1c6\n",
    "       # \"https://www.w3resource.com/python-exercises/sets/\", # commit ebd13e285ccaa3437b6b7076d01b18d5f9c06277\n",
    "       # \"https://www.w3resource.com/python-exercises/array/\", # commit 5d43e87ca2614bc42b11a3ada50616c48eac5dd8\n",
    "        \"https://www.w3resource.com/python-exercises/python-conditional-statements-and-loop-exercises.php\"]\n",
    "pms = []\n",
    "for idx, url in enumerate(urls):\n",
    "    response = requests.get(url)\n",
    "    data = response.text\n",
    "    soup = BeautifulSoup(data, 'html5lib')\n",
    "    solution_links, problem_comparison, problems = get_problems(soup)\n",
    "    \n",
    "    #if idx == 0:\n",
    "    #    # Bug-fix, problem is written wrong in the first page\n",
    "    #    problems[145][\"content\"] = \"Write a Python program to test if a variable is a list or tuple or a set.\"\n",
    "    \n",
    "    #if idx == 5:\n",
    "    #if idx == 0:\n",
    "    #    # Bug-fix, problem is written wrong in the first page\n",
    "    #    problems[21][\"content\"] = \"Write a Python program to remove an empty tuple(s) from a list of tuples.\"\n",
    "    \n",
    "    # Dictionary has problem repetition, but different solutions\n",
    "    if idx == 4:\n",
    "        solutions, potential_mismatch = get_solutions(solution_links, problem_comparison, problems)\n",
    "    else:\n",
    "        solutions, potential_mismatch = get_solutions(solution_links, problem_comparison)\n",
    "        \n",
    "    pms.append(potential_mismatch)\n",
    "    insert(problems, solutions)\n",
    "#db.close_connection()"
   ]
  },
  {
   "cell_type": "markdown",
   "metadata": {},
   "source": [
    "## Functions"
   ]
  },
  {
   "cell_type": "markdown",
   "metadata": {},
   "source": [
    "### Problems and solutions links"
   ]
  },
  {
   "cell_type": "code",
   "execution_count": 3,
   "metadata": {
    "collapsed": true
   },
   "outputs": [],
   "source": [
    "def get_problems(soup):\n",
    "    exercises = soup.find_all(\"strong\")\n",
    "    problem_list = []\n",
    "    solution_links = []\n",
    "    problem_comparison = []\n",
    "\n",
    "    title = soup.find_all(\"h2\", class_=\"heading\")[0].text.split(\"[\")[0].strip()\n",
    "\n",
    "    for e in tqdm(exercises):\n",
    "        # Find solutions links\n",
    "        solution_link = e.findNext(\"a\")\n",
    "        try:\n",
    "            while solution_link.text.strip() != \"Click me to see the sample solution\":\n",
    "                solution_link = solution_link.findNext(\"a\")\n",
    "        except AttributeError:\n",
    "            continue\n",
    "        solution_links.append(solution_link)\n",
    "\n",
    "        # Get problem\n",
    "        problem_text = \"\"\n",
    "        problem_text = e.parent.text\n",
    "        if e.parent.next_sibling and e.parent.next_sibling.name == \"pre\":\n",
    "            problem_text += e.parent.next_sibling.text\n",
    "\n",
    "        # Get original text for comparison in solution's page\n",
    "        editor_partition = problem_text.partition(\"Go to the editor\")\n",
    "        #Go to the editor is written\n",
    "        if editor_partition[2] != '':\n",
    "            problem_comparison.append(editor_partition[0].split('.')[1].strip())\n",
    "        # Go to the editor is not written\n",
    "        else:\n",
    "            problem_comparison.append(problem_text.split('.')[1])\n",
    "\n",
    "        problem_text = problem_text.replace(\"Go to the editor\", \"\")\n",
    "        problem_text = problem_text.replace(\"Click me to see the sample solution\", \"\")\n",
    "        problem_text = problem_text.partition('.')[2].strip()\n",
    "        problem_list.append(problem_text)\n",
    "\n",
    "    problems = []\n",
    "\n",
    "    for problem_text in problem_list:\n",
    "        problems.append({\"title\": title, \"link\": url,\n",
    "                         \"content\": problem_text, \"retrieved_date\": datetime.now(),\n",
    "                         \"crawler\": \"W3Resource\"})\n",
    "        \n",
    "    return solution_links, problem_comparison, problems"
   ]
  },
  {
   "cell_type": "markdown",
   "metadata": {},
   "source": [
    "### Solutions"
   ]
  },
  {
   "cell_type": "code",
   "execution_count": 8,
   "metadata": {
    "collapsed": true,
    "scrolled": false
   },
   "outputs": [],
   "source": [
    "def get_solutions(solution_links, problem_comparison, problems=None):\n",
    "    solutions = []\n",
    "    potential_mismatch = []\n",
    "    \n",
    "    if problems:\n",
    "        problems_list = [p['content'] for p in problems]\n",
    "    \n",
    "    for idx, link in tqdm(enumerate(solution_links)):\n",
    "        link_sol = urljoin(url, link['href'])\n",
    "        response = requests.get(link_sol)\n",
    "        soup = BeautifulSoup(response.text, 'html5lib')\n",
    "\n",
    "        # Compare problem inside with original problem\n",
    "        compare_problem = soup.find_all(\"h2\")[0].findNext().text\n",
    "        if compare_problem[:-1].strip() != problem_comparison[idx].strip():\n",
    "            potential_mismatch.append(link_sol + '\\n' + compare_problem[:-1].strip() + '\\n' + problem_comparison[idx] + '\\n\\n')\n",
    "\n",
    "        code = soup.find_all(\"code\")\n",
    "        \n",
    "        if problems:\n",
    "            idx_sol = problems_list.index(problems_list[idx])\n",
    "        else:\n",
    "            idx_sol = idx\n",
    "        \n",
    "        solutions.append({\"content\": code[0].text, \"link\": link_sol,\n",
    "                          \"retrieved_date\": datetime.now(), \"ignore\": False,\n",
    "                          \"idx\": idx_sol})\n",
    "    return solutions, potential_mismatch"
   ]
  },
  {
   "cell_type": "markdown",
   "metadata": {},
   "source": [
    "### Insert rows"
   ]
  },
  {
   "cell_type": "code",
   "execution_count": 5,
   "metadata": {
    "collapsed": true
   },
   "outputs": [],
   "source": [
    "def insert(problems, solutions):\n",
    "    db.insert_rows(problems, solutions)\n",
    "    tp, ts, rp, rs = db.populate()\n",
    "    print(\"Got %d problems inserted, %d solutions inserted, %d problems repeated and %d solutions repeated\" % (\n",
    "          tp, ts, rp, rs))"
   ]
  },
  {
   "cell_type": "markdown",
   "metadata": {},
   "source": [
    "### Control check"
   ]
  },
  {
   "cell_type": "code",
   "execution_count": 30,
   "metadata": {},
   "outputs": [
    {
     "name": "stdout",
     "output_type": "stream",
     "text": [
      "https://www.w3resource.com/python-exercises/array/python-array-exercise-1.php\n",
      "Write a Python program to create an array of 5 integers and display the array items. Access individual element through indexes\n",
      "Write a Python program to create an array of 5 integers and display the array items\n",
      "\n",
      "\n",
      "https://www.w3resource.com/python-exercises/array/python-array-exercise-5.php\n",
      "Write a Python program to get the current memory address and the length in elements of the buffer used to hold an array’s contents and also find the size of the memory buffer in bytes\n",
      "Write a Python program to get the current memory address and the length in elements of the buffer used to hold an array?s contents and also find the size of the memory buffer in bytes\n",
      "\n",
      "\n"
     ]
    }
   ],
   "source": [
    "for item in pms[0]:\n",
    "    print(item)"
   ]
  },
  {
   "cell_type": "code",
   "execution_count": 31,
   "metadata": {
    "scrolled": false
   },
   "outputs": [
    {
     "data": {
      "text/plain": [
       "[{'problem': {'content': 'Write a Python program to create an array of 5 integers and display the array items. Access individual element through indexes.',\n",
       "   'crawler': 'W3Resource',\n",
       "   'link': 'https://www.w3resource.com/python-exercises/array/',\n",
       "   'retrieved_date': datetime.datetime(2017, 12, 11, 17, 7, 46, 380519),\n",
       "   'title': 'Python Array'},\n",
       "  'solution': {'content': 'from array import *\\narray_num = array(\\'i\\', [1,3,5,7,9])\\nfor i in array_num:\\n    print(i)\\nprint(\"Access first three items individually\")\\nprint(array_num[0])\\nprint(array_num[1])\\nprint(array_num[2])\\n',\n",
       "   'ignore': False,\n",
       "   'link': 'https://www.w3resource.com/python-exercises/array/python-array-exercise-1.php',\n",
       "   'problem_id': 565,\n",
       "   'retrieved_date': datetime.datetime(2017, 12, 11, 17, 7, 47, 511228)}},\n",
       " {'problem': {'content': 'Write a Python program to append a new item to the end of the array.',\n",
       "   'crawler': 'W3Resource',\n",
       "   'link': 'https://www.w3resource.com/python-exercises/array/',\n",
       "   'retrieved_date': datetime.datetime(2017, 12, 11, 17, 7, 46, 380525),\n",
       "   'title': 'Python Array'},\n",
       "  'solution': {'content': 'from array import *\\narray_num = array(\\'i\\', [1, 3, 5, 7, 9])\\nprint(\"Original array: \"+str(array_num))\\nprint(\"Append 11 at the end of the array:\")\\narray_num.append(11)\\nprint(\"New array: \"+str(array_num))\\n',\n",
       "   'ignore': False,\n",
       "   'link': 'https://www.w3resource.com/python-exercises/array/python-array-exercise-2.php',\n",
       "   'problem_id': 566,\n",
       "   'retrieved_date': datetime.datetime(2017, 12, 11, 17, 7, 48, 515348)}},\n",
       " {'problem': {'content': 'Write a Python program to reverse the order of the items in the array.',\n",
       "   'crawler': 'W3Resource',\n",
       "   'link': 'https://www.w3resource.com/python-exercises/array/',\n",
       "   'retrieved_date': datetime.datetime(2017, 12, 11, 17, 7, 46, 380526),\n",
       "   'title': 'Python Array'},\n",
       "  'solution': {'content': 'from array import *\\narray_num = array(\\'i\\', [1, 3, 5, 3, 7, 1, 9, 3])\\nprint(\"Original array: \"+str(array_num))\\narray_num.reverse()\\nprint(\"Reverse the order of the items:\")\\nprint(str(array_num))\\n',\n",
       "   'ignore': False,\n",
       "   'link': 'https://www.w3resource.com/python-exercises/array/python-array-exercise-3.php',\n",
       "   'problem_id': 567,\n",
       "   'retrieved_date': datetime.datetime(2017, 12, 11, 17, 7, 49, 478577)}},\n",
       " {'problem': {'content': 'Write a Python program to get the length in bytes of one array item in the internal representation.',\n",
       "   'crawler': 'W3Resource',\n",
       "   'link': 'https://www.w3resource.com/python-exercises/array/',\n",
       "   'retrieved_date': datetime.datetime(2017, 12, 11, 17, 7, 46, 380527),\n",
       "   'title': 'Python Array'},\n",
       "  'solution': {'content': 'from array import *\\narray_num = array(\\'i\\', [1, 3, 5, 7, 9])\\nprint(\"Original array: \"+str(array_num))\\nprint(\"Length in bytes of one array item: \"+str(array_num.itemsize))\\n',\n",
       "   'ignore': False,\n",
       "   'link': 'https://www.w3resource.com/python-exercises/array/python-array-exercise-4.php',\n",
       "   'problem_id': 568,\n",
       "   'retrieved_date': datetime.datetime(2017, 12, 11, 17, 7, 50, 741408)}},\n",
       " {'problem': {'content': 'Write a Python program to get the current memory address and the length in elements of the buffer used to hold an array?s contents and also find the size of the memory buffer in bytes.',\n",
       "   'crawler': 'W3Resource',\n",
       "   'link': 'https://www.w3resource.com/python-exercises/array/',\n",
       "   'retrieved_date': datetime.datetime(2017, 12, 11, 17, 7, 46, 380528),\n",
       "   'title': 'Python Array'},\n",
       "  'solution': {'content': 'from array import *\\narray_num = array(\\'i\\', [1, 3, 5, 7, 9])\\nprint(\"Original array: \"+str(array_num))\\nprint(\"Current memory address and the length in elements of the buffer: \"+str(array_num.buffer_info()))\\nprint(\"The size of the memory buffer in bytes: \"+str(array_num.buffer_info()[1] * array_num.itemsize))\\n',\n",
       "   'ignore': False,\n",
       "   'link': 'https://www.w3resource.com/python-exercises/array/python-array-exercise-5.php',\n",
       "   'problem_id': 569,\n",
       "   'retrieved_date': datetime.datetime(2017, 12, 11, 17, 7, 51, 711537)}},\n",
       " {'problem': {'content': 'Write a Python program to get the number of occurrences of a specified element in an array.',\n",
       "   'crawler': 'W3Resource',\n",
       "   'link': 'https://www.w3resource.com/python-exercises/array/',\n",
       "   'retrieved_date': datetime.datetime(2017, 12, 11, 17, 7, 46, 380529),\n",
       "   'title': 'Python Array'},\n",
       "  'solution': {'content': 'from array import *\\narray_num = array(\\'i\\', [1, 3, 5, 3, 7, 9, 3])\\nprint(\"Original array: \"+str(array_num))\\nprint(\"Number of occurrences of the number 3 in the said array: \"+str(array_num.count(3)))\\n',\n",
       "   'ignore': False,\n",
       "   'link': 'https://www.w3resource.com/python-exercises/array/python-array-exercise-6.php',\n",
       "   'problem_id': 570,\n",
       "   'retrieved_date': datetime.datetime(2017, 12, 11, 17, 7, 52, 730030)}},\n",
       " {'problem': {'content': 'Write a Python program to append items from inerrable to the end of the array.',\n",
       "   'crawler': 'W3Resource',\n",
       "   'link': 'https://www.w3resource.com/python-exercises/array/',\n",
       "   'retrieved_date': datetime.datetime(2017, 12, 11, 17, 7, 46, 380530),\n",
       "   'title': 'Python Array'},\n",
       "  'solution': {'content': 'from array import *\\narray_num = array(\\'i\\', [1, 3, 5, 7, 9])\\nprint(\"Original array: \"+str(array_num))\\narray_num.extend(array_num)\\nprint(\"Extended array: \"+str(array_num))\\n',\n",
       "   'ignore': False,\n",
       "   'link': 'https://www.w3resource.com/python-exercises/array/python-array-exercise-7.php',\n",
       "   'problem_id': 571,\n",
       "   'retrieved_date': datetime.datetime(2017, 12, 11, 17, 7, 53, 251727)}},\n",
       " {'problem': {'content': 'Write a Python program to convert an array to an array of machine values and return the bytes representation.',\n",
       "   'crawler': 'W3Resource',\n",
       "   'link': 'https://www.w3resource.com/python-exercises/array/',\n",
       "   'retrieved_date': datetime.datetime(2017, 12, 11, 17, 7, 46, 380531),\n",
       "   'title': 'Python Array'},\n",
       "  'solution': {'content': 'from array import *\\nprint(\"Bytes to String: \")\\nx = array(\\'b\\', [119, 51, 114, 101,  115, 111, 117, 114, 99, 101])\\ns = x.tobytes()\\nprint(s)\\n',\n",
       "   'ignore': False,\n",
       "   'link': 'https://www.w3resource.com/python-exercises/array/python-array-exercise-8.php',\n",
       "   'problem_id': 572,\n",
       "   'retrieved_date': datetime.datetime(2017, 12, 11, 17, 7, 54, 349661)}},\n",
       " {'problem': {'content': 'Write a Python program to append items from a specified list.',\n",
       "   'crawler': 'W3Resource',\n",
       "   'link': 'https://www.w3resource.com/python-exercises/array/',\n",
       "   'retrieved_date': datetime.datetime(2017, 12, 11, 17, 7, 46, 380532),\n",
       "   'title': 'Python Array'},\n",
       "  'solution': {'content': 'from array import *\\nnum_list = [1, 2, 6, -8]\\narray_num = array(\\'i\\', [])\\nprint(\"Items in the list: \" + str(num_list))\\nprint(\"Append items from the list: \")\\narray_num.fromlist(num_list)\\nprint(\"Items in the array: \"+str(array_num))\\n',\n",
       "   'ignore': False,\n",
       "   'link': 'https://www.w3resource.com/python-exercises/array/python-array-exercise-9.php',\n",
       "   'problem_id': 573,\n",
       "   'retrieved_date': datetime.datetime(2017, 12, 11, 17, 7, 55, 331275)}},\n",
       " {'problem': {'content': 'Write a Python program to insert a new item before the second element in an existing array.',\n",
       "   'crawler': 'W3Resource',\n",
       "   'link': 'https://www.w3resource.com/python-exercises/array/',\n",
       "   'retrieved_date': datetime.datetime(2017, 12, 11, 17, 7, 46, 380533),\n",
       "   'title': 'Python Array'},\n",
       "  'solution': {'content': 'from array import *\\narray_num = array(\\'i\\', [1, 3, 5, 7, 9])\\nprint(\"Original array: \"+str(array_num))\\nprint(\"Insert new value 4 before 3:\")\\narray_num.insert(1, 4)\\nprint(\"New array: \"+str(array_num))\\n',\n",
       "   'ignore': False,\n",
       "   'link': 'https://www.w3resource.com/python-exercises/array/python-array-exercise-10.php',\n",
       "   'problem_id': 574,\n",
       "   'retrieved_date': datetime.datetime(2017, 12, 11, 17, 7, 55, 857359)}},\n",
       " {'problem': {'content': 'Write a Python program to remove a specified item using the index from an array.',\n",
       "   'crawler': 'W3Resource',\n",
       "   'link': 'https://www.w3resource.com/python-exercises/array/',\n",
       "   'retrieved_date': datetime.datetime(2017, 12, 11, 17, 7, 46, 380534),\n",
       "   'title': 'Python Array'},\n",
       "  'solution': {'content': 'from array import *\\narray_num = array(\\'i\\', [1, 3, 5, 7, 9])\\nprint(\"Original array: \"+str(array_num))\\nprint(\"Remove the third item form the array:\")\\narray_num.pop(2)\\nprint(\"New array: \"+str(array_num))\\n',\n",
       "   'ignore': False,\n",
       "   'link': 'https://www.w3resource.com/python-exercises/array/python-array-exercise-11.php',\n",
       "   'problem_id': 575,\n",
       "   'retrieved_date': datetime.datetime(2017, 12, 11, 17, 7, 56, 991112)}},\n",
       " {'problem': {'content': 'Write a Python program to remove the first occurrence of a specified element from an array.',\n",
       "   'crawler': 'W3Resource',\n",
       "   'link': 'https://www.w3resource.com/python-exercises/array/',\n",
       "   'retrieved_date': datetime.datetime(2017, 12, 11, 17, 7, 46, 380535),\n",
       "   'title': 'Python Array'},\n",
       "  'solution': {'content': 'from array import *\\narray_num = array(\\'i\\', [1, 3, 5, 3, 7, 1, 9, 3])\\nprint(\"Original array: \"+str(array_num))\\nprint(\"Remove the first occurrence of 3 from the said array:\")\\narray_num.remove(3)\\nprint(\"New array: \"+str(array_num))\\n',\n",
       "   'ignore': False,\n",
       "   'link': 'https://www.w3resource.com/python-exercises/array/python-array-exercise-12.php',\n",
       "   'problem_id': 576,\n",
       "   'retrieved_date': datetime.datetime(2017, 12, 11, 17, 7, 57, 538178)}},\n",
       " {'problem': {'content': 'Write a Python program to convert an array to an ordinary list with the same items.',\n",
       "   'crawler': 'W3Resource',\n",
       "   'link': 'https://www.w3resource.com/python-exercises/array/',\n",
       "   'retrieved_date': datetime.datetime(2017, 12, 11, 17, 7, 46, 380536),\n",
       "   'title': 'Python Array'},\n",
       "  'solution': {'content': 'from array import *\\narray_num = array(\\'i\\', [1, 3, 5, 3, 7, 1, 9, 3])\\nprint(\"Original array: \"+str(array_num))\\nnum_list = array_num.tolist()\\nprint(\"Convert the said array to an ordinary list with the same items:\")\\nprint(num_list)\\n',\n",
       "   'ignore': False,\n",
       "   'link': 'https://www.w3resource.com/python-exercises/array/python-array-exercise-13.php',\n",
       "   'problem_id': 577,\n",
       "   'retrieved_date': datetime.datetime(2017, 12, 11, 17, 7, 58, 703241)}}]"
      ]
     },
     "execution_count": 31,
     "metadata": {},
     "output_type": "execute_result"
    }
   ],
   "source": [
    "db.rows"
   ]
  },
  {
   "cell_type": "code",
   "execution_count": 26,
   "metadata": {},
   "outputs": [
    {
     "data": {
      "text/plain": [
       "[<a href=\"python-sets-exercise-1.php\" target=\"_blank\">Click me to see the sample solution</a>,\n",
       " <a href=\"python-sets-exercise-2.php\" target=\"_blank\">Click me to see the sample solution</a>,\n",
       " <a href=\"python-sets-exercise-3.php\" target=\"_blank\">Click me to see the sample solution</a>,\n",
       " <a href=\"python-sets-exercise-4.php\" target=\"_blank\">Click me to see the sample solution</a>,\n",
       " <a href=\"python-sets-exercise-5.php\" target=\"_blank\"> Click me to see the sample solution</a>,\n",
       " <a href=\"python-sets-exercise-6.php\" target=\"_blank\">Click me to see the sample solution</a>,\n",
       " <a href=\"python-sets-exercise-7.php\" target=\"_blank\">Click me to see the sample solution</a>,\n",
       " <a href=\"python-sets-exercise-8.php\" target=\"_blank\">Click me to see the sample solution</a>,\n",
       " <a href=\"python-sets-exercise-9.php\" target=\"_blank\">Click me to see the sample solution</a>,\n",
       " <a href=\"python-sets-exercise-10.php\" target=\"_blank\">Click me to see the sample solution</a>,\n",
       " <a href=\"python-sets-exercise-11.php\" target=\"_blank\">Click me to see the sample solution</a>,\n",
       " <a href=\"python-sets-exercise-12.php\" target=\"_blank\">Click me to see the sample solution</a>,\n",
       " <a href=\"python-sets-exercise-13.php\" target=\"_blank\">Click me to see the sample solution</a>,\n",
       " <a href=\"python-sets-exercise-14.php\" target=\"_blank\">Click me to see the sample solution</a>,\n",
       " <a href=\"python-sets-exercise-15.php\" target=\"_blank\">Click me to see the sample solution</a>]"
      ]
     },
     "execution_count": 26,
     "metadata": {},
     "output_type": "execute_result"
    }
   ],
   "source": [
    "solution_links"
   ]
  }
 ],
 "metadata": {
  "kernelspec": {
   "display_name": "Python 3",
   "language": "python",
   "name": "python3"
  },
  "language_info": {
   "codemirror_mode": {
    "name": "ipython",
    "version": 3
   },
   "file_extension": ".py",
   "mimetype": "text/x-python",
   "name": "python",
   "nbconvert_exporter": "python",
   "pygments_lexer": "ipython3",
   "version": "3.6.2"
  }
 },
 "nbformat": 4,
 "nbformat_minor": 2
}
