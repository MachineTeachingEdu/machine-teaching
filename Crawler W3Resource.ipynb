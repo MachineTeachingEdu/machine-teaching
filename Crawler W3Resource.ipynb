{
 "cells": [
  {
   "cell_type": "code",
   "execution_count": 1,
   "metadata": {
    "collapsed": true
   },
   "outputs": [],
   "source": [
    "from bs4 import BeautifulSoup\n",
    "import requests\n",
    "from db import PythonProblems\n",
    "from datetime import datetime\n",
    "from urllib.parse import urljoin\n",
    "from tqdm import tqdm"
   ]
  },
  {
   "cell_type": "markdown",
   "metadata": {},
   "source": [
    "### Creating and connecting to database"
   ]
  },
  {
   "cell_type": "code",
   "execution_count": 14,
   "metadata": {
    "collapsed": true
   },
   "outputs": [],
   "source": [
    "db = PythonProblems('python.sqlite', 'init_tables.sql')"
   ]
  },
  {
   "cell_type": "markdown",
   "metadata": {},
   "source": [
    "### Getting the pages to be crawled"
   ]
  },
  {
   "cell_type": "code",
   "execution_count": 15,
   "metadata": {
    "scrolled": false
   },
   "outputs": [
    {
     "name": "stderr",
     "output_type": "stream",
     "text": [
      "100%|██████████| 153/153 [00:00<00:00, 6498.38it/s]\n",
      "151it [01:21,  2.02it/s]\n"
     ]
    },
    {
     "name": "stdout",
     "output_type": "stream",
     "text": [
      "Got 150 problems inserted, 150 solutions inserted, 1 problems repeated and 0 solutions repeated\n"
     ]
    },
    {
     "name": "stderr",
     "output_type": "stream",
     "text": [
      "100%|██████████| 19/19 [00:00<00:00, 4621.96it/s]\n",
      "17it [00:08,  2.08it/s]"
     ]
    },
    {
     "name": "stdout",
     "output_type": "stream",
     "text": [
      "Got 17 problems inserted, 17 solutions inserted, 0 problems repeated and 0 solutions repeated\n",
      "CPU times: user 16.9 s, sys: 324 ms, total: 17.3 s\n",
      "Wall time: 1min 32s\n"
     ]
    },
    {
     "name": "stderr",
     "output_type": "stream",
     "text": [
      "\n"
     ]
    }
   ],
   "source": [
    "%%time\n",
    "urls = [\"https://www.w3resource.com/python-exercises/python-basic-exercises.php\", \n",
    "        \"https://www.w3resource.com/python-exercises/basic/\",\n",
    "        \"https://www.w3resource.com/python-exercises/string/\"]\n",
    "pms = []\n",
    "for idx, url in enumerate(urls):\n",
    "    response = requests.get(url)\n",
    "    data = response.text\n",
    "    soup = BeautifulSoup(data, 'html5lib')\n",
    "    solution_links, problem_comparison, problems = get_problems(soup)\n",
    "    \n",
    "    if idx == 0:\n",
    "        # Bug-fix, problem is written wrong in the first page\n",
    "        problems[145][\"content\"] = \"Write a Python program to test if a variable is a list or tuple or a set.\"\n",
    "    \n",
    "    solutions, potential_mismatch = get_solutions(solution_links, problem_comparison)\n",
    "    pms.append(potential_mismatch)\n",
    "    insert(problems, solutions)\n",
    "#db.close_connection()"
   ]
  },
  {
   "cell_type": "markdown",
   "metadata": {},
   "source": [
    "## Functions"
   ]
  },
  {
   "cell_type": "markdown",
   "metadata": {},
   "source": [
    "### Problems and solutions links"
   ]
  },
  {
   "cell_type": "code",
   "execution_count": 3,
   "metadata": {},
   "outputs": [],
   "source": [
    "def get_problems(soup):\n",
    "    exercises = soup.find_all(\"strong\")\n",
    "    problem_list = []\n",
    "    solution_links = []\n",
    "    problem_comparison = []\n",
    "\n",
    "    title = soup.find_all(\"h2\", class_=\"heading\")[0].text.split(\"[\")[0].strip()\n",
    "\n",
    "    for e in tqdm(exercises):\n",
    "        # Find solutions links\n",
    "        solution_link = e.findNext(\"a\")\n",
    "        try:\n",
    "            while solution_link.text != \"Click me to see the sample solution\":\n",
    "                solution_link = solution_link.findNext(\"a\")\n",
    "        except AttributeError:\n",
    "            continue\n",
    "        solution_links.append(solution_link)\n",
    "\n",
    "        # Get problem\n",
    "        problem_text = \"\"\n",
    "        problem_text = e.parent.text\n",
    "        if e.parent.next_sibling and e.parent.next_sibling.name == \"pre\":\n",
    "            problem_text += e.parent.next_sibling.text\n",
    "\n",
    "        # Get original text for comparison in solution's page\n",
    "        editor_partition = problem_text.partition(\"Go to the editor\")\n",
    "        #Go to the editor is written\n",
    "        if editor_partition[2] != '':\n",
    "            problem_comparison.append(editor_partition[0].split('.')[1].strip())\n",
    "        # Go to the editor is not written\n",
    "        else:\n",
    "            problem_comparison.append(problem_text.split('.')[1])\n",
    "\n",
    "        problem_text = problem_text.replace(\"Go to the editor\", \"\")\n",
    "        problem_text = problem_text.replace(\"Click me to see the sample solution\", \"\")\n",
    "        problem_text = problem_text.partition('.')[2].strip()\n",
    "        problem_list.append(problem_text)\n",
    "\n",
    "    problems = []\n",
    "\n",
    "    for problem_text in problem_list:\n",
    "        problems.append({\"title\": title, \"link\": url,\n",
    "                         \"content\": problem_text, \"retrieved_date\": datetime.now(),\n",
    "                         \"crawler\": \"W3Resource\"})\n",
    "        \n",
    "    return solution_links, problem_comparison, problems"
   ]
  },
  {
   "cell_type": "markdown",
   "metadata": {},
   "source": [
    "### Solutions"
   ]
  },
  {
   "cell_type": "code",
   "execution_count": 4,
   "metadata": {
    "scrolled": false
   },
   "outputs": [],
   "source": [
    "def get_solutions(solution_links, problem_comparison):\n",
    "    solutions = []\n",
    "    potential_mismatch = []\n",
    "    for idx, link in tqdm(enumerate(solution_links)):\n",
    "        link_sol = urljoin(url, link['href'])\n",
    "        response = requests.get(link_sol)\n",
    "        soup = BeautifulSoup(response.text, 'html5lib')\n",
    "\n",
    "        # Compare problem inside with original problem\n",
    "        compare_problem = soup.find_all(\"h2\")[0].findNext().text\n",
    "        if compare_problem[:-1].strip() != problem_comparison[idx].strip():\n",
    "            potential_mismatch.append(compare_problem[:-1].strip() + '\\n' + problem_comparison[idx] + '\\n\\n')\n",
    "\n",
    "        code = soup.find_all(\"code\")\n",
    "        solutions.append({\"content\": code[0].text, \"link\": link_sol,\n",
    "                          \"retrieved_date\": datetime.now(), \"ignore\": False,\n",
    "                          \"idx\": idx})\n",
    "    return solutions, potential_mismatch"
   ]
  },
  {
   "cell_type": "markdown",
   "metadata": {},
   "source": [
    "### Insert rows"
   ]
  },
  {
   "cell_type": "code",
   "execution_count": 5,
   "metadata": {},
   "outputs": [],
   "source": [
    "def insert(problems, solutions):\n",
    "    db.insert_rows(problems, solutions)\n",
    "    tp, ts, rp, rs = db.populate()\n",
    "    print(\"Got %d problems inserted, %d solutions inserted, %d problems repeated and %d solutions repeated\" % (\n",
    "          tp, ts, rp, rs))"
   ]
  },
  {
   "cell_type": "markdown",
   "metadata": {},
   "source": [
    "### Control check"
   ]
  },
  {
   "cell_type": "code",
   "execution_count": 12,
   "metadata": {},
   "outputs": [
    {
     "name": "stdout",
     "output_type": "stream",
     "text": [
      "Write a Python program to create all possible strings by using 'a', 'e', 'i', 'o', 'u'. Use the characters exactly once\n",
      "Write a Python program to create all possible strings by using 'a', 'e', 'i', 'o', 'u'\n",
      "\n",
      "\n",
      "Write a Python program to count the number of each character of a text file\n",
      "Write a Python program to count the number of each character of a given text of a text file\n",
      "\n",
      "\n",
      "Write a Python program to check the sum of three elements (each from an array) from three arrays is equal to a target value. Print all those three-element combinations\n",
      "Write a Python program to check the sum of three elements (each from an array) from three arrays is equal to a target value\n",
      "\n",
      "\n"
     ]
    }
   ],
   "source": [
    "for item in pms[1]:\n",
    "    print(item)"
   ]
  },
  {
   "cell_type": "code",
   "execution_count": 16,
   "metadata": {
    "scrolled": false
   },
   "outputs": [
    {
     "data": {
      "text/plain": [
       "[{'problem': {'content': 'Write a Python function that takes a sequence of numbers and determines if all the numbers are different from each other.',\n",
       "   'crawler': 'W3Resource',\n",
       "   'link': 'https://www.w3resource.com/python-exercises/basic/',\n",
       "   'retrieved_date': datetime.datetime(2017, 11, 30, 22, 42, 46, 339567),\n",
       "   'title': 'Python basic (Part-II)'},\n",
       "  'solution': {'content': 'def test_distinct(data):\\n  count = 0\\n  for k in data:\\n    for j in range(1, len(data) - 1):\\n      if k == j:\\n        count += 1\\n        if count == 2:\\n          return False\\n          return True\\nprint(test_distinct([2,4,5,7,9]))\\nprint(test_distinct([2,4,5,5,7,9]))\\n',\n",
       "   'ignore': False,\n",
       "   'link': 'https://www.w3resource.com/python-exercises/basic/python-basic-1-exercise-1.php',\n",
       "   'problem_id': 351,\n",
       "   'retrieved_date': datetime.datetime(2017, 11, 30, 22, 42, 47, 202034)}},\n",
       " {'problem': {'content': \"Write a Python program to create all possible strings by using 'a', 'e', 'i', 'o', 'u'. Use the characters exactly once.\",\n",
       "   'crawler': 'W3Resource',\n",
       "   'link': 'https://www.w3resource.com/python-exercises/basic/',\n",
       "   'retrieved_date': datetime.datetime(2017, 11, 30, 22, 42, 46, 339573),\n",
       "   'title': 'Python basic (Part-II)'},\n",
       "  'solution': {'content': \"import random\\nchar_list = ['a','e','i','o','u']\\nrandom.shuffle(char_list)\\nprint(''.join(char_list))\\n\",\n",
       "   'ignore': False,\n",
       "   'link': 'https://www.w3resource.com/python-exercises/basic/python-basic-1-exercise-2.php',\n",
       "   'problem_id': 352,\n",
       "   'retrieved_date': datetime.datetime(2017, 11, 30, 22, 42, 47, 559681)}},\n",
       " {'problem': {'content': 'Write a Python program to remove and print every third number from a list of numbers until the list becomes empty.',\n",
       "   'crawler': 'W3Resource',\n",
       "   'link': 'https://www.w3resource.com/python-exercises/basic/',\n",
       "   'retrieved_date': datetime.datetime(2017, 11, 30, 22, 42, 46, 339575),\n",
       "   'title': 'Python basic (Part-II)'},\n",
       "  'solution': {'content': 'def remove_nums(int_list):\\n  #list starts with 0 index\\n  position = 3 - 1 \\n  idx = 0\\n  len_list = (len(int_list))\\n  while len_list>0:\\n    idx = (position+idx)%len_list\\n    print(int_list.pop(idx))\\n    len_list -= 1\\nnums = [10,20,30,40,50,60,70,80,90]\\nremove_nums(nums)\\n',\n",
       "   'ignore': False,\n",
       "   'link': 'https://www.w3resource.com/python-exercises/basic/python-basic-1-exercise-3.php',\n",
       "   'problem_id': 353,\n",
       "   'retrieved_date': datetime.datetime(2017, 11, 30, 22, 42, 48, 370400)}},\n",
       " {'problem': {'content': 'Write a Python program to find unique triplets whose three elements gives the sum of zero from an array of n integers.',\n",
       "   'crawler': 'W3Resource',\n",
       "   'link': 'https://www.w3resource.com/python-exercises/basic/',\n",
       "   'retrieved_date': datetime.datetime(2017, 11, 30, 22, 42, 46, 339578),\n",
       "   'title': 'Python basic (Part-II)'},\n",
       "  'solution': {'content': 'def three_sum(nums):\\n  result = []\\n  nums.sort()\\n  for i in range(len(nums)-2):\\n    if i> 0 and nums[i] == nums[i-1]:\\n      continue\\n    l, r = i+1, len(nums)-1\\n    while l < r:\\n      s = nums[i] + nums[l] + nums[r]\\n      if s > 0:\\n        r -= 1\\n      elif s < 0:\\n          l += 1\\n      else:\\n        # found three sum\\n        result.append((nums[i], nums[l], nums[r]))\\n        # remove duplicates\\n        while l < r and nums[l] == nums[l+1]:\\n          l+=1\\n          while l < r and nums[r] == nums[r-1]:\\n            r -= 1\\n            l += 1\\n            r -= 1\\n          return result\\n\\nx = [1, -6, 4, 2, -1, 2, 0, -2, 0 ]\\nprint(three_sum(x))\\n',\n",
       "   'ignore': False,\n",
       "   'link': 'https://www.w3resource.com/python-exercises/basic/python-basic-1-exercise-4.php',\n",
       "   'problem_id': 354,\n",
       "   'retrieved_date': datetime.datetime(2017, 11, 30, 22, 42, 48, 722593)}},\n",
       " {'problem': {'content': 'Write a Python program to create the combinations of 3 digit combo.',\n",
       "   'crawler': 'W3Resource',\n",
       "   'link': 'https://www.w3resource.com/python-exercises/basic/',\n",
       "   'retrieved_date': datetime.datetime(2017, 11, 30, 22, 42, 46, 339580),\n",
       "   'title': 'Python basic (Part-II)'},\n",
       "  'solution': {'content': 'numbers = []\\nfor num in range(1000):\\n  num=str(num).zfill(3)\\nprint(num)\\nnumbers.append(num)\\n',\n",
       "   'ignore': False,\n",
       "   'link': 'https://www.w3resource.com/python-exercises/basic/python-basic-1-exercise-5.php',\n",
       "   'problem_id': 355,\n",
       "   'retrieved_date': datetime.datetime(2017, 11, 30, 22, 42, 49, 89048)}},\n",
       " {'problem': {'content': 'Write a Python program to print a long text, convert the string to a list and print all the words and their frequencies.',\n",
       "   'crawler': 'W3Resource',\n",
       "   'link': 'https://www.w3resource.com/python-exercises/basic/',\n",
       "   'retrieved_date': datetime.datetime(2017, 11, 30, 22, 42, 46, 339582),\n",
       "   'title': 'Python basic (Part-II)'},\n",
       "  'solution': {'content': 'string_words = \\'\\'\\'United States Declaration of Independence\\nFrom Wikipedia, the free encyclopedia\\nThe United States Declaration of Independence is the statement\\nadopted by the Second Continental Congress meeting at the Pennsylvania State\\nHouse (Independence Hall) in Philadelphia on July 4, 1776, which announced\\nthat the thirteen American colonies, then at war with the Kingdom of Great\\nBritain, regarded themselves as thirteen independent sovereign states, no longer\\nunder British rule. These states would found a new nation – the United States of\\nAmerica. John Adams was a leader in pushing for independence, which was passed\\non July 2 with no opposing vote cast. A committee of five had already drafted the\\nformal declaration, to be ready when Congress voted on independence.\\n\\nJohn Adams persuaded the committee to select Thomas Jefferson to compose the original\\ndraft of the document, which Congress would edit to produce the final version.\\nThe Declaration was ultimately a formal explanation of why Congress had voted on July\\n2 to declare independence from Great Britain, more than a year after the outbreak of\\nthe American Revolutionary War. The next day, Adams wrote to his wife Abigail: \"The\\nSecond Day of July 1776, will be the most memorable Epocha, in the History of America.\"\\nBut Independence Day is actually celebrated on July 4, the date that the Declaration of\\nIndependence was approved.\\n\\nAfter ratifying the text on July 4, Congress issued the Declaration of Independence in\\nseveral forms. It was initially published as the printed Dunlap broadside that was widely\\ndistributed and read to the public. The source copy used for this printing has been lost,\\nand may have been a copy in Thomas Jefferson\\'s hand.[5] Jefferson\\'s original draft, complete\\nwith changes made by John Adams and Benjamin Franklin, and Jefferson\\'s notes of changes made\\nby Congress, are preserved at the Library of Congress. The best-known version of the Declaration\\nis a signed copy that is displayed at the National Archives in Washington, D.C., and which is\\npopularly regarded as the official document. This engrossed copy was ordered by Congress on\\nJuly 19 and signed primarily on August 2.\\n\\nThe sources and interpretation of the Declaration have been the subject of much scholarly inquiry.\\nThe Declaration justified the independence of the United States by listing colonial grievances against\\nKing George III, and by asserting certain natural and legal rights, including a right of revolution.\\nHaving served its original purpose in announcing independence, references to the text of the\\nDeclaration were few in the following years. Abraham Lincoln made it the centerpiece of his rhetoric\\n(as in the Gettysburg Address of 1863) and his policies. Since then, it has become a well-known statement\\non human rights, particularly its second sentence:\\n\\nWe hold these truths to be self-evident, that all men are created equal, that they are endowed by their\\nCreator with certain unalienable Rights, that among these are Life, Liberty and the pursuit of Happiness.\\n\\nThis has been called \"one of the best-known sentences in the English language\", containing \"the most potent\\nand consequential words in American history\". The passage came to represent a moral standard to which\\nthe United States should strive. This view was notably promoted by Abraham Lincoln, who considered the\\nDeclaration to be the foundation of his political philosophy and argued that it is a statement of principles\\nthrough which the United States Constitution should be interpreted.\\n\\nThe U.S. Declaration of Independence inspired many other similar documents in other countries, the first\\nbeing the 1789 Declaration of Flanders issued during the Brabant Revolution in the Austrian Netherlands\\n(modern-day Belgium). It also served as the primary model for numerous declarations of independence across\\nEurope and Latin America, as well as Africa (Liberia) and Oceania (New Zealand) during the first half of the\\n19th century.\\'\\'\\'\\n\\nword_list = string_words.split()\\n\\nword_freq = [word_list.count(n) for n in word_list]\\n\\nprint(\"String:\\\\n {} \\\\n\".format(string_words))\\nprint(\"List:\\\\n {} \\\\n\".format(str(word_list)))\\nprint(\"Pairs (Words and Frequencies:\\\\n {}\".format(str(list(zip(word_list, word_freq)))))\\n',\n",
       "   'ignore': False,\n",
       "   'link': 'https://www.w3resource.com/python-exercises/basic/python-basic-1-exercise-6.php',\n",
       "   'problem_id': 356,\n",
       "   'retrieved_date': datetime.datetime(2017, 11, 30, 22, 42, 49, 454869)}},\n",
       " {'problem': {'content': 'Write a Python program to count the number of each character of a given text of a text file.',\n",
       "   'crawler': 'W3Resource',\n",
       "   'link': 'https://www.w3resource.com/python-exercises/basic/',\n",
       "   'retrieved_date': datetime.datetime(2017, 11, 30, 22, 42, 46, 339584),\n",
       "   'title': 'Python basic (Part-II)'},\n",
       "  'solution': {'content': \"import collections\\nimport pprint\\nfile_input = input('File Name: ')\\nwith open(file_input, 'r') as info:\\n  count = collections.Counter(info.read().upper())\\n  value = pprint.pformat(count)\\nprint(value)\\n\",\n",
       "   'ignore': False,\n",
       "   'link': 'https://www.w3resource.com/python-exercises/basic/python-basic-1-exercise-7.php',\n",
       "   'problem_id': 357,\n",
       "   'retrieved_date': datetime.datetime(2017, 11, 30, 22, 42, 50, 3366)}},\n",
       " {'problem': {'content': 'Write a Python program to get the top stories from Google news.',\n",
       "   'crawler': 'W3Resource',\n",
       "   'link': 'https://www.w3resource.com/python-exercises/basic/',\n",
       "   'retrieved_date': datetime.datetime(2017, 11, 30, 22, 42, 46, 339586),\n",
       "   'title': 'Python basic (Part-II)'},\n",
       "  'solution': {'content': 'import bs4\\nfrom bs4 import BeautifulSoup as soup\\nfrom urllib.request import urlopen\\n\\nnews_url=\"https://news.google.com/news/rss\"\\nClient=urlopen(news_url)\\nxml_page=Client.read()\\nClient.close()\\n\\nsoup_page=soup(xml_page,\"xml\")\\nnews_list=soup_page.findAll(\"item\")\\n# Print news title, url and publish date\\nfor news in news_list:\\n  print(news.title.text)\\n  print(news.link.text)\\n  print(news.pubDate.text)\\n  print(\"-\"*60)\\n',\n",
       "   'ignore': False,\n",
       "   'link': 'https://www.w3resource.com/python-exercises/basic/python-basic-1-exercise-8.php',\n",
       "   'problem_id': 358,\n",
       "   'retrieved_date': datetime.datetime(2017, 11, 30, 22, 42, 50, 528546)}},\n",
       " {'problem': {'content': 'Write a Python program to get a list of locally installed Python modules.',\n",
       "   'crawler': 'W3Resource',\n",
       "   'link': 'https://www.w3resource.com/python-exercises/basic/',\n",
       "   'retrieved_date': datetime.datetime(2017, 11, 30, 22, 42, 46, 339588),\n",
       "   'title': 'Python basic (Part-II)'},\n",
       "  'solution': {'content': '#https://stackoverflow.com/questions/739993/how-can-i-get-a-list-of-locally-installed-python-modules\\nimport pip\\nimport textwrap\\ninstalled_packages = pip.get_installed_distributions()\\ninstalled_packages_list = sorted([\"%s==%s\" % (i.key, i.version)\\nfor i in installed_packages])\\nprint(installed_packages_list)\\n',\n",
       "   'ignore': False,\n",
       "   'link': 'https://www.w3resource.com/python-exercises/basic/python-basic-1-exercise-9.php',\n",
       "   'problem_id': 359,\n",
       "   'retrieved_date': datetime.datetime(2017, 11, 30, 22, 42, 51, 344815)}},\n",
       " {'problem': {'content': 'Write a Python program to display some information about the OS where the script is running.',\n",
       "   'crawler': 'W3Resource',\n",
       "   'link': 'https://www.w3resource.com/python-exercises/basic/',\n",
       "   'retrieved_date': datetime.datetime(2017, 11, 30, 22, 42, 46, 339590),\n",
       "   'title': 'Python basic (Part-II)'},\n",
       "  'solution': {'content': 'import platform as pl\\n\\nos_profile = [\\n        \\'architecture\\',\\n        \\'linux_distribution\\',\\n        \\'mac_ver\\',\\n        \\'machine\\',\\n        \\'node\\',\\n        \\'platform\\',\\n        \\'processor\\',\\n        \\'python_build\\',\\n        \\'python_compiler\\',\\n        \\'python_version\\',\\n        \\'release\\',\\n        \\'system\\',\\n        \\'uname\\',\\n        \\'version\\',\\n    ]\\nfor key in os_profile:\\n  if hasattr(pl, key):\\n    print(key +  \": \" + str(getattr(pl, key)()))\\n',\n",
       "   'ignore': False,\n",
       "   'link': 'https://www.w3resource.com/python-exercises/basic/python-basic-1-exercise-10.php',\n",
       "   'problem_id': 360,\n",
       "   'retrieved_date': datetime.datetime(2017, 11, 30, 22, 42, 51, 728145)}},\n",
       " {'problem': {'content': 'Write a Python program to check the sum of three elements (each from an array) from three arrays is equal to a target value. Print all those three-element combinations. \\nSample data:\\n/*\\nX = [10, 20, 20, 20]\\nY = [10, 20, 30, 40]\\nZ = [10, 30, 40, 20]\\ntarget = 70\\n*/',\n",
       "   'crawler': 'W3Resource',\n",
       "   'link': 'https://www.w3resource.com/python-exercises/basic/',\n",
       "   'retrieved_date': datetime.datetime(2017, 11, 30, 22, 42, 46, 339592),\n",
       "   'title': 'Python basic (Part-II)'},\n",
       "  'solution': {'content': 'import itertools\\nfrom functools import partial\\nX = [10, 20, 20, 20]\\nY = [10, 20, 30, 40]\\nZ = [10, 30, 40, 20]\\nT = 70\\n\\ndef check_sum_array(N, *nums):\\n  if sum(x for x in nums) == N:\\n    return (True, nums)\\n  else:\\n      return (False, nums)\\npro = itertools.product(X,Y,Z)\\nfunc = partial(check_sum_array, T)\\nsums = list(itertools.starmap(func, pro))\\n\\nresult = set()\\nfor s in sums:\\n    if s[0] == True and s[1] not in result:\\n      result.add(s[1])\\n      print(result)\\n',\n",
       "   'ignore': False,\n",
       "   'link': 'https://www.w3resource.com/python-exercises/basic/python-basic-1-exercise-11.php',\n",
       "   'problem_id': 361,\n",
       "   'retrieved_date': datetime.datetime(2017, 11, 30, 22, 42, 52, 103672)}},\n",
       " {'problem': {'content': 'Write a Python program to create all possible permutations from a given collection of distinct numbers.',\n",
       "   'crawler': 'W3Resource',\n",
       "   'link': 'https://www.w3resource.com/python-exercises/basic/',\n",
       "   'retrieved_date': datetime.datetime(2017, 11, 30, 22, 42, 46, 339594),\n",
       "   'title': 'Python basic (Part-II)'},\n",
       "  'solution': {'content': 'def permute(nums):\\n  result_perms = [[]]\\n  for n in nums:\\n    new_perms = []\\n    for perm in result_perms:\\n      for i in range(len(perm)+1):\\n        new_perms.append(perm[:i] + [n] + perm[i:])\\n        result_perms = new_perms\\n  return result_perms\\n\\nmy_nums = [1,2,3]\\nprint(\"Original Cofllection: \",my_nums)\\nprint(\"Collection of distinct numbers:\\\\n\",permute(my_nums))\\n',\n",
       "   'ignore': False,\n",
       "   'link': 'https://www.w3resource.com/python-exercises/basic/python-basic-1-exercise-12.php',\n",
       "   'problem_id': 362,\n",
       "   'retrieved_date': datetime.datetime(2017, 11, 30, 22, 42, 52, 954125)}},\n",
       " {'problem': {'content': 'Write a Python program to get all possible two digit letter combinations from a digit (1 to 9) string. \\nstring_maps = {\\n\"1\": \"abc\",\\n\"2\": \"def\",\\n\"3\": \"ghi\",\\n\"4\": \"jkl\",\\n\"5\": \"mno\",\\n\"6\": \"pqrs\",\\n\"7\": \"tuv\",\\n\"8\": \"wxy\",\\n\"9\": \"z\"\\n}',\n",
       "   'crawler': 'W3Resource',\n",
       "   'link': 'https://www.w3resource.com/python-exercises/basic/',\n",
       "   'retrieved_date': datetime.datetime(2017, 11, 30, 22, 42, 46, 339596),\n",
       "   'title': 'Python basic (Part-II)'},\n",
       "  'solution': {'content': 'def letter_combinations(digits):\\n    if digits == \"\":\\n        return []\\n    string_maps = {\\n        \"1\": \"abc\",\\n        \"2\": \"def\",\\n        \"3\": \"ghi\",\\n        \"4\": \"jkl\",\\n        \"5\": \"mno\",\\n        \"6\": \"pqrs\",\\n        \"7\": \"tuv\",\\n        \"8\": \"wxy\",\\n        \"9\": \"z\"\\n    }\\n    result = [\"\"]\\n    for num in digits:\\n        temp = []\\n        for an in result:\\n            for char in string_maps[num]:\\n                temp.append(an + char)\\n        result = temp\\n    return result\\n\\ndigit_string = \"47\"\\nprint(letter_combinations(digit_string))\\ndigit_string = \"29\"\\nprint(letter_combinations(digit_string))\\n',\n",
       "   'ignore': False,\n",
       "   'link': 'https://www.w3resource.com/python-exercises/basic/python-basic-1-exercise-13.php',\n",
       "   'problem_id': 363,\n",
       "   'retrieved_date': datetime.datetime(2017, 11, 30, 22, 42, 53, 329905)}},\n",
       " {'problem': {'content': \"Write a Python program to add two positive integers without using the '+' operator. \\nNote: Use bitwise operations to add two numbers.\",\n",
       "   'crawler': 'W3Resource',\n",
       "   'link': 'https://www.w3resource.com/python-exercises/basic/',\n",
       "   'retrieved_date': datetime.datetime(2017, 11, 30, 22, 42, 46, 339598),\n",
       "   'title': 'Python basic (Part-II)'},\n",
       "  'solution': {'content': 'def add_without_plus_operator(a, b):\\n    while b != 0:\\n        data = a & b\\n        a = a ^ b\\n        b = data << 1\\n    return a\\nprint(add_without_plus_operator(2, 10))\\nprint(add_without_plus_operator(-20, 10))\\nprint(add_without_plus_operator(-10, -20))\\n',\n",
       "   'ignore': False,\n",
       "   'link': 'https://www.w3resource.com/python-exercises/basic/python-basic-1-exercise-14.php',\n",
       "   'problem_id': 364,\n",
       "   'retrieved_date': datetime.datetime(2017, 11, 30, 22, 42, 53, 699444)}},\n",
       " {'problem': {'content': 'Write a Python program to check the priority of the four operators (+, -, *, /).',\n",
       "   'crawler': 'W3Resource',\n",
       "   'link': 'https://www.w3resource.com/python-exercises/basic/',\n",
       "   'retrieved_date': datetime.datetime(2017, 11, 30, 22, 42, 46, 339600),\n",
       "   'title': 'Python basic (Part-II)'},\n",
       "  'solution': {'content': 'from collections import deque\\nimport re\\n\\n__operators__ = \"+-/*\"\\n__parenthesis__ = \"()\"\\n__priority__ = {\\n    \\'+\\': 0,\\n    \\'-\\': 0,\\n    \\'*\\': 1,\\n    \\'/\\': 1,\\n}\\n\\ndef test_higher_priority(operator1, operator2):\\n    return __priority__[operator1] >= __priority__[operator2]\\n\\nprint(test_higher_priority(\\'*\\',\\'-\\'))\\nprint(test_higher_priority(\\'+\\',\\'-\\'))\\nprint(test_higher_priority(\\'+\\',\\'*\\'))\\nprint(test_higher_priority(\\'+\\',\\'/\\'))\\nprint(test_higher_priority(\\'*\\',\\'/\\'))\\n',\n",
       "   'ignore': False,\n",
       "   'link': 'https://www.w3resource.com/python-exercises/basic/python-basic-1-exercise-15.php',\n",
       "   'problem_id': 365,\n",
       "   'retrieved_date': datetime.datetime(2017, 11, 30, 22, 42, 54, 511882)}},\n",
       " {'problem': {'content': 'Write a Python program to get the third side of right angled triangle from two given sides.',\n",
       "   'crawler': 'W3Resource',\n",
       "   'link': 'https://www.w3resource.com/python-exercises/basic/',\n",
       "   'retrieved_date': datetime.datetime(2017, 11, 30, 22, 42, 46, 339602),\n",
       "   'title': 'Python basic (Part-II)'},\n",
       "  'solution': {'content': 'def pythagoras(opposite_side,adjacent_side,hypotenuse):\\n        if opposite_side == str(\"x\"):\\n            return (\"Opposite = \" + str(((hypotenuse**2) - (adjacent_side**2))**0.5))\\n        elif adjacent_side == str(\"x\"):\\n            return (\"Adjacent = \" + str(((hypotenuse**2) - (opposite_side**2))**0.5))\\n        elif hypotenuse == str(\"x\"):\\n            return (\"Hypotenuse = \" + str(((opposite_side**2) + (adjacent_side**2))**0.5))\\n        else:\\n            return \"You know the answer!\"\\n    \\nprint(pythagoras(3,4,\\'x\\'))\\nprint(pythagoras(3,\\'x\\',5))\\nprint(pythagoras(\\'x\\',4,5))\\nprint(pythagoras(3,4,5))\\n',\n",
       "   'ignore': False,\n",
       "   'link': 'https://www.w3resource.com/python-exercises/basic/python-basic-1-exercise-16.php',\n",
       "   'problem_id': 366,\n",
       "   'retrieved_date': datetime.datetime(2017, 11, 30, 22, 42, 54, 862674)}},\n",
       " {'problem': {'content': 'Write a Python program to get all strobogrammatic numbers that are of length n. \\nA strobogrammatic number is a number whose numeral is rotationally symmetric, so that it appears the same when rotated 180 degrees. In other words, the numeral looks the same right-side up and upside down (e.g., 69, 96, 1001).\\nFor example,\\nGiven n = 2, return [\"11\", \"69\", \"88\", \"96\"].\\nGiven n = 3, return [\\'818\\', \\'111\\', \\'916\\', \\'619\\', \\'808\\', \\'101\\', \\'906\\', \\'609\\', \\'888\\', \\'181\\', \\'986\\', \\'689\\']',\n",
       "   'crawler': 'W3Resource',\n",
       "   'link': 'https://www.w3resource.com/python-exercises/basic/',\n",
       "   'retrieved_date': datetime.datetime(2017, 11, 30, 22, 42, 46, 339604),\n",
       "   'title': 'Python basic (Part-II)'},\n",
       "  'solution': {'content': '#https://github.com/keon/algorithms/blob/master/math/generate_strobogrammtic.py\\ndef gen_strobogrammatic(n):\\n    \"\"\"\\n    :type n: int\\n    :rtype: List[str]\\n    \"\"\"\\n    result = helper(n, n)\\n    return result\\n\\n\\ndef helper(n, length):\\n    if n == 0:\\n        return [\"\"]\\n    if n == 1:\\n        return [\"1\", \"0\", \"8\"]\\n    middles = helper(n-2, length)\\n    result = []\\n    for middle in middles:\\n        if n != length:\\n            result.append(\"0\" + middle + \"0\")\\n        result.append(\"8\" + middle + \"8\")\\n        result.append(\"1\" + middle + \"1\")\\n        result.append(\"9\" + middle + \"6\")\\n        result.append(\"6\" + middle + \"9\")\\n    return result\\n\\nprint(\"n = 2: \\\\n\",gen_strobogrammatic(2))\\nprint(\"n = 3: \\\\n\",gen_strobogrammatic(3))\\nprint(\"n = 4: \\\\n\",gen_strobogrammatic(4))\\n',\n",
       "   'ignore': False,\n",
       "   'link': 'https://www.w3resource.com/python-exercises/basic/python-basic-1-exercise-17.php',\n",
       "   'problem_id': 367,\n",
       "   'retrieved_date': datetime.datetime(2017, 11, 30, 22, 42, 55, 272487)}}]"
      ]
     },
     "execution_count": 16,
     "metadata": {},
     "output_type": "execute_result"
    }
   ],
   "source": [
    "db.rows"
   ]
  }
 ],
 "metadata": {
  "kernelspec": {
   "display_name": "Python 3",
   "language": "python",
   "name": "python3"
  },
  "language_info": {
   "codemirror_mode": {
    "name": "ipython",
    "version": 3
   },
   "file_extension": ".py",
   "mimetype": "text/x-python",
   "name": "python",
   "nbconvert_exporter": "python",
   "pygments_lexer": "ipython3",
   "version": "3.6.2"
  }
 },
 "nbformat": 4,
 "nbformat_minor": 2
}
