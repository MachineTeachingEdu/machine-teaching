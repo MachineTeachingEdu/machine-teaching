{
 "cells": [
  {
   "cell_type": "code",
   "execution_count": 1,
   "metadata": {
    "collapsed": true
   },
   "outputs": [],
   "source": [
    "from db import PythonProblems\n",
    "import io\n",
    "import tokenize\n",
    "from sklearn.feature_extraction.text import CountVectorizer\n",
    "import numpy as np\n",
    "from sklearn.decomposition import NMF\n",
    "from sklearn.preprocessing import normalize\n",
    "import random\n",
    "import time\n",
    "from itertools import product\n",
    "from collections import Counter\n",
    "from sklearn.decomposition import LatentDirichletAllocation\n",
    "from sklearn.feature_extraction.text import CountVectorizer"
   ]
  },
  {
   "cell_type": "code",
   "execution_count": 22,
   "metadata": {},
   "outputs": [
    {
     "data": {
      "text/html": [
       "\n",
       "    <div class=\"bk-root\">\n",
       "        <a href=\"https://bokeh.pydata.org\" target=\"_blank\" class=\"bk-logo bk-logo-small bk-logo-notebook\"></a>\n",
       "        <span id=\"9f8ef98d-9361-47b9-9ab9-94a8dc55f58c\">Loading BokehJS ...</span>\n",
       "    </div>"
      ]
     },
     "metadata": {},
     "output_type": "display_data"
    },
    {
     "data": {
      "application/javascript": [
       "\n",
       "(function(root) {\n",
       "  function now() {\n",
       "    return new Date();\n",
       "  }\n",
       "\n",
       "  var force = true;\n",
       "\n",
       "  if (typeof (root._bokeh_onload_callbacks) === \"undefined\" || force === true) {\n",
       "    root._bokeh_onload_callbacks = [];\n",
       "    root._bokeh_is_loading = undefined;\n",
       "  }\n",
       "\n",
       "  var JS_MIME_TYPE = 'application/javascript';\n",
       "  var HTML_MIME_TYPE = 'text/html';\n",
       "  var EXEC_MIME_TYPE = 'application/vnd.bokehjs_exec.v0+json';\n",
       "  var CLASS_NAME = 'output_bokeh rendered_html';\n",
       "\n",
       "  /**\n",
       "   * Render data to the DOM node\n",
       "   */\n",
       "  function render(props, node) {\n",
       "    var script = document.createElement(\"script\");\n",
       "    node.appendChild(script);\n",
       "  }\n",
       "\n",
       "  /**\n",
       "   * Handle when an output is cleared or removed\n",
       "   */\n",
       "  function handleClearOutput(event, handle) {\n",
       "    var cell = handle.cell;\n",
       "\n",
       "    var id = cell.output_area._bokeh_element_id;\n",
       "    var server_id = cell.output_area._bokeh_server_id;\n",
       "    // Clean up Bokeh references\n",
       "    if (id !== undefined) {\n",
       "      Bokeh.index[id].model.document.clear();\n",
       "      delete Bokeh.index[id];\n",
       "    }\n",
       "\n",
       "    if (server_id !== undefined) {\n",
       "      // Clean up Bokeh references\n",
       "      var cmd = \"from bokeh.io.state import curstate; print(curstate().uuid_to_server['\" + server_id + \"'].get_sessions()[0].document.roots[0]._id)\";\n",
       "      cell.notebook.kernel.execute(cmd, {\n",
       "        iopub: {\n",
       "          output: function(msg) {\n",
       "            var element_id = msg.content.text.trim();\n",
       "            Bokeh.index[element_id].model.document.clear();\n",
       "            delete Bokeh.index[element_id];\n",
       "          }\n",
       "        }\n",
       "      });\n",
       "      // Destroy server and session\n",
       "      var cmd = \"import bokeh.io.notebook as ion; ion.destroy_server('\" + server_id + \"')\";\n",
       "      cell.notebook.kernel.execute(cmd);\n",
       "    }\n",
       "  }\n",
       "\n",
       "  /**\n",
       "   * Handle when a new output is added\n",
       "   */\n",
       "  function handleAddOutput(event, handle) {\n",
       "    var output_area = handle.output_area;\n",
       "    var output = handle.output;\n",
       "\n",
       "    // limit handleAddOutput to display_data with EXEC_MIME_TYPE content only\n",
       "    if ((output.output_type != \"display_data\") || (!output.data.hasOwnProperty(EXEC_MIME_TYPE))) {\n",
       "      return\n",
       "    }\n",
       "\n",
       "    var toinsert = output_area.element.find(\".\" + CLASS_NAME.split(' ')[0]);\n",
       "\n",
       "    if (output.metadata[EXEC_MIME_TYPE][\"id\"] !== undefined) {\n",
       "      toinsert[0].firstChild.textContent = output.data[JS_MIME_TYPE];\n",
       "      // store reference to embed id on output_area\n",
       "      output_area._bokeh_element_id = output.metadata[EXEC_MIME_TYPE][\"id\"];\n",
       "    }\n",
       "    if (output.metadata[EXEC_MIME_TYPE][\"server_id\"] !== undefined) {\n",
       "      var bk_div = document.createElement(\"div\");\n",
       "      bk_div.innerHTML = output.data[HTML_MIME_TYPE];\n",
       "      var script_attrs = bk_div.children[0].attributes;\n",
       "      for (var i = 0; i < script_attrs.length; i++) {\n",
       "        toinsert[0].firstChild.setAttribute(script_attrs[i].name, script_attrs[i].value);\n",
       "      }\n",
       "      // store reference to server id on output_area\n",
       "      output_area._bokeh_server_id = output.metadata[EXEC_MIME_TYPE][\"server_id\"];\n",
       "    }\n",
       "  }\n",
       "\n",
       "  function register_renderer(events, OutputArea) {\n",
       "\n",
       "    function append_mime(data, metadata, element) {\n",
       "      // create a DOM node to render to\n",
       "      var toinsert = this.create_output_subarea(\n",
       "        metadata,\n",
       "        CLASS_NAME,\n",
       "        EXEC_MIME_TYPE\n",
       "      );\n",
       "      this.keyboard_manager.register_events(toinsert);\n",
       "      // Render to node\n",
       "      var props = {data: data, metadata: metadata[EXEC_MIME_TYPE]};\n",
       "      render(props, toinsert[0]);\n",
       "      element.append(toinsert);\n",
       "      return toinsert\n",
       "    }\n",
       "\n",
       "    /* Handle when an output is cleared or removed */\n",
       "    events.on('clear_output.CodeCell', handleClearOutput);\n",
       "    events.on('delete.Cell', handleClearOutput);\n",
       "\n",
       "    /* Handle when a new output is added */\n",
       "    events.on('output_added.OutputArea', handleAddOutput);\n",
       "\n",
       "    /**\n",
       "     * Register the mime type and append_mime function with output_area\n",
       "     */\n",
       "    OutputArea.prototype.register_mime_type(EXEC_MIME_TYPE, append_mime, {\n",
       "      /* Is output safe? */\n",
       "      safe: true,\n",
       "      /* Index of renderer in `output_area.display_order` */\n",
       "      index: 0\n",
       "    });\n",
       "  }\n",
       "\n",
       "  // register the mime type if in Jupyter Notebook environment and previously unregistered\n",
       "  if (root.Jupyter !== undefined) {\n",
       "    var events = require('base/js/events');\n",
       "    var OutputArea = require('notebook/js/outputarea').OutputArea;\n",
       "\n",
       "    if (OutputArea.prototype.mime_types().indexOf(EXEC_MIME_TYPE) == -1) {\n",
       "      register_renderer(events, OutputArea);\n",
       "    }\n",
       "  }\n",
       "\n",
       "  \n",
       "  if (typeof (root._bokeh_timeout) === \"undefined\" || force === true) {\n",
       "    root._bokeh_timeout = Date.now() + 5000;\n",
       "    root._bokeh_failed_load = false;\n",
       "  }\n",
       "\n",
       "  var NB_LOAD_WARNING = {'data': {'text/html':\n",
       "     \"<div style='background-color: #fdd'>\\n\"+\n",
       "     \"<p>\\n\"+\n",
       "     \"BokehJS does not appear to have successfully loaded. If loading BokehJS from CDN, this \\n\"+\n",
       "     \"may be due to a slow or bad network connection. Possible fixes:\\n\"+\n",
       "     \"</p>\\n\"+\n",
       "     \"<ul>\\n\"+\n",
       "     \"<li>re-rerun `output_notebook()` to attempt to load from CDN again, or</li>\\n\"+\n",
       "     \"<li>use INLINE resources instead, as so:</li>\\n\"+\n",
       "     \"</ul>\\n\"+\n",
       "     \"<code>\\n\"+\n",
       "     \"from bokeh.resources import INLINE\\n\"+\n",
       "     \"output_notebook(resources=INLINE)\\n\"+\n",
       "     \"</code>\\n\"+\n",
       "     \"</div>\"}};\n",
       "\n",
       "  function display_loaded() {\n",
       "    var el = document.getElementById(\"9f8ef98d-9361-47b9-9ab9-94a8dc55f58c\");\n",
       "    if (el != null) {\n",
       "      el.textContent = \"BokehJS is loading...\";\n",
       "    }\n",
       "    if (root.Bokeh !== undefined) {\n",
       "      if (el != null) {\n",
       "        el.textContent = \"BokehJS \" + root.Bokeh.version + \" successfully loaded.\";\n",
       "      }\n",
       "    } else if (Date.now() < root._bokeh_timeout) {\n",
       "      setTimeout(display_loaded, 100)\n",
       "    }\n",
       "  }\n",
       "\n",
       "\n",
       "  function run_callbacks() {\n",
       "    try {\n",
       "      root._bokeh_onload_callbacks.forEach(function(callback) { callback() });\n",
       "    }\n",
       "    finally {\n",
       "      delete root._bokeh_onload_callbacks\n",
       "    }\n",
       "    console.info(\"Bokeh: all callbacks have finished\");\n",
       "  }\n",
       "\n",
       "  function load_libs(js_urls, callback) {\n",
       "    root._bokeh_onload_callbacks.push(callback);\n",
       "    if (root._bokeh_is_loading > 0) {\n",
       "      console.log(\"Bokeh: BokehJS is being loaded, scheduling callback at\", now());\n",
       "      return null;\n",
       "    }\n",
       "    if (js_urls == null || js_urls.length === 0) {\n",
       "      run_callbacks();\n",
       "      return null;\n",
       "    }\n",
       "    console.log(\"Bokeh: BokehJS not loaded, scheduling load and callback at\", now());\n",
       "    root._bokeh_is_loading = js_urls.length;\n",
       "    for (var i = 0; i < js_urls.length; i++) {\n",
       "      var url = js_urls[i];\n",
       "      var s = document.createElement('script');\n",
       "      s.src = url;\n",
       "      s.async = false;\n",
       "      s.onreadystatechange = s.onload = function() {\n",
       "        root._bokeh_is_loading--;\n",
       "        if (root._bokeh_is_loading === 0) {\n",
       "          console.log(\"Bokeh: all BokehJS libraries loaded\");\n",
       "          run_callbacks()\n",
       "        }\n",
       "      };\n",
       "      s.onerror = function() {\n",
       "        console.warn(\"failed to load library \" + url);\n",
       "      };\n",
       "      console.log(\"Bokeh: injecting script tag for BokehJS library: \", url);\n",
       "      document.getElementsByTagName(\"head\")[0].appendChild(s);\n",
       "    }\n",
       "  };var element = document.getElementById(\"9f8ef98d-9361-47b9-9ab9-94a8dc55f58c\");\n",
       "  if (element == null) {\n",
       "    console.log(\"Bokeh: ERROR: autoload.js configured with elementid '9f8ef98d-9361-47b9-9ab9-94a8dc55f58c' but no matching script tag was found. \")\n",
       "    return false;\n",
       "  }\n",
       "\n",
       "  var js_urls = [\"https://cdn.pydata.org/bokeh/release/bokeh-0.12.14.min.js\", \"https://cdn.pydata.org/bokeh/release/bokeh-widgets-0.12.14.min.js\", \"https://cdn.pydata.org/bokeh/release/bokeh-tables-0.12.14.min.js\", \"https://cdn.pydata.org/bokeh/release/bokeh-gl-0.12.14.min.js\"];\n",
       "\n",
       "  var inline_js = [\n",
       "    function(Bokeh) {\n",
       "      Bokeh.set_log_level(\"info\");\n",
       "    },\n",
       "    \n",
       "    function(Bokeh) {\n",
       "      \n",
       "    },\n",
       "    function(Bokeh) {\n",
       "      console.log(\"Bokeh: injecting CSS: https://cdn.pydata.org/bokeh/release/bokeh-0.12.14.min.css\");\n",
       "      Bokeh.embed.inject_css(\"https://cdn.pydata.org/bokeh/release/bokeh-0.12.14.min.css\");\n",
       "      console.log(\"Bokeh: injecting CSS: https://cdn.pydata.org/bokeh/release/bokeh-widgets-0.12.14.min.css\");\n",
       "      Bokeh.embed.inject_css(\"https://cdn.pydata.org/bokeh/release/bokeh-widgets-0.12.14.min.css\");\n",
       "      console.log(\"Bokeh: injecting CSS: https://cdn.pydata.org/bokeh/release/bokeh-tables-0.12.14.min.css\");\n",
       "      Bokeh.embed.inject_css(\"https://cdn.pydata.org/bokeh/release/bokeh-tables-0.12.14.min.css\");\n",
       "    }\n",
       "  ];\n",
       "\n",
       "  function run_inline_js() {\n",
       "    \n",
       "    if ((root.Bokeh !== undefined) || (force === true)) {\n",
       "      for (var i = 0; i < inline_js.length; i++) {\n",
       "        inline_js[i].call(root, root.Bokeh);\n",
       "      }if (force === true) {\n",
       "        display_loaded();\n",
       "      }} else if (Date.now() < root._bokeh_timeout) {\n",
       "      setTimeout(run_inline_js, 100);\n",
       "    } else if (!root._bokeh_failed_load) {\n",
       "      console.log(\"Bokeh: BokehJS failed to load within specified timeout.\");\n",
       "      root._bokeh_failed_load = true;\n",
       "    } else if (force !== true) {\n",
       "      var cell = $(document.getElementById(\"9f8ef98d-9361-47b9-9ab9-94a8dc55f58c\")).parents('.cell').data().cell;\n",
       "      cell.output_area.append_execute_result(NB_LOAD_WARNING)\n",
       "    }\n",
       "\n",
       "  }\n",
       "\n",
       "  if (root._bokeh_is_loading === 0) {\n",
       "    console.log(\"Bokeh: BokehJS loaded, going straight to plotting\");\n",
       "    run_inline_js();\n",
       "  } else {\n",
       "    load_libs(js_urls, function() {\n",
       "      console.log(\"Bokeh: BokehJS plotting callback run at\", now());\n",
       "      run_inline_js();\n",
       "    });\n",
       "  }\n",
       "}(window));"
      ],
      "application/vnd.bokehjs_load.v0+json": "\n(function(root) {\n  function now() {\n    return new Date();\n  }\n\n  var force = true;\n\n  if (typeof (root._bokeh_onload_callbacks) === \"undefined\" || force === true) {\n    root._bokeh_onload_callbacks = [];\n    root._bokeh_is_loading = undefined;\n  }\n\n  \n\n  \n  if (typeof (root._bokeh_timeout) === \"undefined\" || force === true) {\n    root._bokeh_timeout = Date.now() + 5000;\n    root._bokeh_failed_load = false;\n  }\n\n  var NB_LOAD_WARNING = {'data': {'text/html':\n     \"<div style='background-color: #fdd'>\\n\"+\n     \"<p>\\n\"+\n     \"BokehJS does not appear to have successfully loaded. If loading BokehJS from CDN, this \\n\"+\n     \"may be due to a slow or bad network connection. Possible fixes:\\n\"+\n     \"</p>\\n\"+\n     \"<ul>\\n\"+\n     \"<li>re-rerun `output_notebook()` to attempt to load from CDN again, or</li>\\n\"+\n     \"<li>use INLINE resources instead, as so:</li>\\n\"+\n     \"</ul>\\n\"+\n     \"<code>\\n\"+\n     \"from bokeh.resources import INLINE\\n\"+\n     \"output_notebook(resources=INLINE)\\n\"+\n     \"</code>\\n\"+\n     \"</div>\"}};\n\n  function display_loaded() {\n    var el = document.getElementById(\"9f8ef98d-9361-47b9-9ab9-94a8dc55f58c\");\n    if (el != null) {\n      el.textContent = \"BokehJS is loading...\";\n    }\n    if (root.Bokeh !== undefined) {\n      if (el != null) {\n        el.textContent = \"BokehJS \" + root.Bokeh.version + \" successfully loaded.\";\n      }\n    } else if (Date.now() < root._bokeh_timeout) {\n      setTimeout(display_loaded, 100)\n    }\n  }\n\n\n  function run_callbacks() {\n    try {\n      root._bokeh_onload_callbacks.forEach(function(callback) { callback() });\n    }\n    finally {\n      delete root._bokeh_onload_callbacks\n    }\n    console.info(\"Bokeh: all callbacks have finished\");\n  }\n\n  function load_libs(js_urls, callback) {\n    root._bokeh_onload_callbacks.push(callback);\n    if (root._bokeh_is_loading > 0) {\n      console.log(\"Bokeh: BokehJS is being loaded, scheduling callback at\", now());\n      return null;\n    }\n    if (js_urls == null || js_urls.length === 0) {\n      run_callbacks();\n      return null;\n    }\n    console.log(\"Bokeh: BokehJS not loaded, scheduling load and callback at\", now());\n    root._bokeh_is_loading = js_urls.length;\n    for (var i = 0; i < js_urls.length; i++) {\n      var url = js_urls[i];\n      var s = document.createElement('script');\n      s.src = url;\n      s.async = false;\n      s.onreadystatechange = s.onload = function() {\n        root._bokeh_is_loading--;\n        if (root._bokeh_is_loading === 0) {\n          console.log(\"Bokeh: all BokehJS libraries loaded\");\n          run_callbacks()\n        }\n      };\n      s.onerror = function() {\n        console.warn(\"failed to load library \" + url);\n      };\n      console.log(\"Bokeh: injecting script tag for BokehJS library: \", url);\n      document.getElementsByTagName(\"head\")[0].appendChild(s);\n    }\n  };var element = document.getElementById(\"9f8ef98d-9361-47b9-9ab9-94a8dc55f58c\");\n  if (element == null) {\n    console.log(\"Bokeh: ERROR: autoload.js configured with elementid '9f8ef98d-9361-47b9-9ab9-94a8dc55f58c' but no matching script tag was found. \")\n    return false;\n  }\n\n  var js_urls = [\"https://cdn.pydata.org/bokeh/release/bokeh-0.12.14.min.js\", \"https://cdn.pydata.org/bokeh/release/bokeh-widgets-0.12.14.min.js\", \"https://cdn.pydata.org/bokeh/release/bokeh-tables-0.12.14.min.js\", \"https://cdn.pydata.org/bokeh/release/bokeh-gl-0.12.14.min.js\"];\n\n  var inline_js = [\n    function(Bokeh) {\n      Bokeh.set_log_level(\"info\");\n    },\n    \n    function(Bokeh) {\n      \n    },\n    function(Bokeh) {\n      console.log(\"Bokeh: injecting CSS: https://cdn.pydata.org/bokeh/release/bokeh-0.12.14.min.css\");\n      Bokeh.embed.inject_css(\"https://cdn.pydata.org/bokeh/release/bokeh-0.12.14.min.css\");\n      console.log(\"Bokeh: injecting CSS: https://cdn.pydata.org/bokeh/release/bokeh-widgets-0.12.14.min.css\");\n      Bokeh.embed.inject_css(\"https://cdn.pydata.org/bokeh/release/bokeh-widgets-0.12.14.min.css\");\n      console.log(\"Bokeh: injecting CSS: https://cdn.pydata.org/bokeh/release/bokeh-tables-0.12.14.min.css\");\n      Bokeh.embed.inject_css(\"https://cdn.pydata.org/bokeh/release/bokeh-tables-0.12.14.min.css\");\n    }\n  ];\n\n  function run_inline_js() {\n    \n    if ((root.Bokeh !== undefined) || (force === true)) {\n      for (var i = 0; i < inline_js.length; i++) {\n        inline_js[i].call(root, root.Bokeh);\n      }if (force === true) {\n        display_loaded();\n      }} else if (Date.now() < root._bokeh_timeout) {\n      setTimeout(run_inline_js, 100);\n    } else if (!root._bokeh_failed_load) {\n      console.log(\"Bokeh: BokehJS failed to load within specified timeout.\");\n      root._bokeh_failed_load = true;\n    } else if (force !== true) {\n      var cell = $(document.getElementById(\"9f8ef98d-9361-47b9-9ab9-94a8dc55f58c\")).parents('.cell').data().cell;\n      cell.output_area.append_execute_result(NB_LOAD_WARNING)\n    }\n\n  }\n\n  if (root._bokeh_is_loading === 0) {\n    console.log(\"Bokeh: BokehJS loaded, going straight to plotting\");\n    run_inline_js();\n  } else {\n    load_libs(js_urls, function() {\n      console.log(\"Bokeh: BokehJS plotting callback run at\", now());\n      run_inline_js();\n    });\n  }\n}(window));"
     },
     "metadata": {},
     "output_type": "display_data"
    }
   ],
   "source": [
    "from bokeh.models import ColumnDataSource, HoverTool, TapTool, PanTool, WheelZoomTool, Range1d, LinearAxis\n",
    "from bokeh.io import push_notebook, show, output_notebook\n",
    "from bokeh.layouts import row\n",
    "from bokeh.plotting import figure\n",
    "output_notebook()"
   ]
  },
  {
   "cell_type": "markdown",
   "metadata": {},
   "source": [
    "### Connecting to database"
   ]
  },
  {
   "cell_type": "code",
   "execution_count": 5,
   "metadata": {
    "collapsed": true
   },
   "outputs": [],
   "source": [
    "db = PythonProblems('python.sqlite')"
   ]
  },
  {
   "cell_type": "code",
   "execution_count": 6,
   "metadata": {
    "scrolled": false
   },
   "outputs": [
    {
     "name": "stdout",
     "output_type": "stream",
     "text": [
      "Success in parsing all documents! You may go on!\n"
     ]
    }
   ],
   "source": [
    "removed_itens = ['NEWLINE', 'STRING', 'ENDMARKER', 'NUMBER', 'INDENT', 'DEDENT', \"NL\", 'COMMENT', 'ERRORTOKEN']\n",
    "allowed_itens = ['NAME', 'OP']\n",
    "cursor = db.conn.cursor()\n",
    "docs = []\n",
    "errors = []\n",
    "\n",
    "# lendo os dados\n",
    "cursor.execute(\"\"\"\n",
    "SELECT * FROM solution;\n",
    "\"\"\")\n",
    "\n",
    "for idx, linha in enumerate(cursor.fetchall()):\n",
    "    file = io.StringIO(linha[1])\n",
    "    doc = []\n",
    "    try:\n",
    "        for item in tokenize.generate_tokens(file.readline):\n",
    "            if tokenize.tok_name[item[0]] not in removed_itens:\n",
    "                if tokenize.tok_name[item[0]] in allowed_itens:\n",
    "                    doc.append(item[1])\n",
    "                else:\n",
    "                    print(\"%s %s\" % (tokenize.tok_name[item[0]], item[1]))\n",
    "    except (IndentationError, tokenize.TokenError):\n",
    "        errors.append(\"Please, fix solution %d before continuing\" % (idx+1))\n",
    "        \n",
    "    docs.append(' '.join(doc))\n",
    "\n",
    "if not errors:\n",
    "    print(\"Success in parsing all documents! You may go on!\")\n",
    "else:\n",
    "    for item in errors:\n",
    "        print(item)"
   ]
  },
  {
   "cell_type": "code",
   "execution_count": 20,
   "metadata": {
    "collapsed": true
   },
   "outputs": [],
   "source": [
    "# Initialize the \"CountVectorizer\" object, which is scikit-learn's\n",
    "# bag of words tool.  \n",
    "vectorizer = CountVectorizer(analyzer = \"word\",   \\\n",
    "                             tokenizer = None,    \\\n",
    "                             preprocessor = None, \\\n",
    "                             stop_words = None,   \\\n",
    "                             #max_features = 26d,\n",
    "                             binary=False,\n",
    "                             min_df=2\n",
    "                            ) \n",
    "\n",
    "# fit_transform() does two functions: First, it fits the model\n",
    "# and learns the vocabulary; second, it transforms our training data\n",
    "# into feature vectors. The input to fit_transform should be a list of \n",
    "# strings.\n",
    "\n",
    "train_data_features = vectorizer.fit_transform(docs)\n",
    "\n",
    "# Numpy arrays are easy to work with, so convert the result to an \n",
    "# array\n",
    "# Document-term matrix\n",
    "#train_data_features = train_data_features.toarray()"
   ]
  },
  {
   "cell_type": "markdown",
   "metadata": {},
   "source": [
    "### NCut weights"
   ]
  },
  {
   "cell_type": "code",
   "execution_count": 8,
   "metadata": {
    "collapsed": true
   },
   "outputs": [],
   "source": [
    "doc_mat_norm = normalize(train_data_features)"
   ]
  },
  {
   "cell_type": "code",
   "execution_count": 9,
   "metadata": {
    "collapsed": true
   },
   "outputs": [],
   "source": [
    "S = np.dot(doc_mat_norm.T, doc_mat_norm) + 0.001"
   ]
  },
  {
   "cell_type": "code",
   "execution_count": 10,
   "metadata": {},
   "outputs": [
    {
     "data": {
      "text/plain": [
       "(499, 499)"
      ]
     },
     "execution_count": 10,
     "metadata": {},
     "output_type": "execute_result"
    }
   ],
   "source": [
    "S.shape"
   ]
  },
  {
   "cell_type": "code",
   "execution_count": 11,
   "metadata": {
    "collapsed": true
   },
   "outputs": [],
   "source": [
    "D = np.power(np.sum(S, axis=1), -0.5) * np.eye(S.shape[0])"
   ]
  },
  {
   "cell_type": "code",
   "execution_count": 12,
   "metadata": {},
   "outputs": [
    {
     "data": {
      "text/plain": [
       "(499, 499)"
      ]
     },
     "execution_count": 12,
     "metadata": {},
     "output_type": "execute_result"
    }
   ],
   "source": [
    "D.shape"
   ]
  },
  {
   "cell_type": "code",
   "execution_count": 13,
   "metadata": {
    "collapsed": true
   },
   "outputs": [],
   "source": [
    "Y = np.dot(D, train_data_features.T)"
   ]
  },
  {
   "cell_type": "code",
   "execution_count": 14,
   "metadata": {},
   "outputs": [
    {
     "data": {
      "text/plain": [
       "(499, 758)"
      ]
     },
     "execution_count": 14,
     "metadata": {},
     "output_type": "execute_result"
    }
   ],
   "source": [
    "Y.shape"
   ]
  },
  {
   "cell_type": "markdown",
   "metadata": {},
   "source": [
    "# Cálculo da LDA"
   ]
  },
  {
   "cell_type": "code",
   "execution_count": 14,
   "metadata": {},
   "outputs": [
    {
     "data": {
      "text/html": [
       "\n",
       "<div class=\"bk-root\">\n",
       "    <div class=\"bk-plotdiv\" id=\"bfffb37d-b3c0-4834-b5ac-e418ba09426a\"></div>\n",
       "</div>"
      ]
     },
     "metadata": {},
     "output_type": "display_data"
    },
    {
     "data": {
      "application/javascript": [
       "(function(root) {\n",
       "  function embed_document(root) {\n",
       "    \n",
       "  var docs_json = {\"43f2ea58-2de6-43b7-abdf-a1668694e36a\":{\"roots\":{\"references\":[{\"attributes\":{\"fill_color\":{\"value\":\"white\"},\"line_color\":{\"value\":\"#2222aa\"},\"size\":{\"units\":\"screen\",\"value\":8},\"x\":{\"field\":\"x_values\"},\"y\":{\"field\":\"y_values\"}},\"id\":\"d0b707d3-edc9-4fc3-aaae-f060e94492d4\",\"type\":\"Circle\"},{\"attributes\":{\"line_color\":\"#2222aa\",\"line_width\":2,\"x\":{\"field\":\"x_values\"},\"y\":{\"field\":\"y_values\"}},\"id\":\"a41e60e3-5fed-42a5-9a4f-8b844a05ba53\",\"type\":\"Line\"},{\"attributes\":{\"fill_alpha\":{\"value\":0.1},\"fill_color\":{\"value\":\"#1f77b4\"},\"line_alpha\":{\"value\":0.1},\"line_color\":{\"value\":\"#1f77b4\"},\"size\":{\"units\":\"screen\",\"value\":8},\"x\":{\"field\":\"x_values\"},\"y\":{\"field\":\"y_values\"}},\"id\":\"0b733c30-f14b-42f4-9221-f8f614a3f6f6\",\"type\":\"Circle\"},{\"attributes\":{},\"id\":\"4fd52ff7-8cd6-409f-b7db-e1b3ef139c3d\",\"type\":\"BasicTickFormatter\"},{\"attributes\":{\"callback\":null,\"tooltips\":[[\"(x,y)\",\"($x{0}, $y)\"],[\"reconst\",\"@recons\"]]},\"id\":\"041838fd-f0f0-43b9-a098-3bac67b2797c\",\"type\":\"HoverTool\"},{\"attributes\":{\"source\":{\"id\":\"b9926f78-c9fc-486c-8bc6-8ca2312c9ad0\",\"type\":\"ColumnDataSource\"}},\"id\":\"31e83f6d-d430-4685-aa21-f2de4a87b264\",\"type\":\"CDSView\"},{\"attributes\":{\"plot\":null,\"text\":\"Ncut\"},\"id\":\"e243539a-05f4-4c3e-b485-a8746799a805\",\"type\":\"Title\"},{\"attributes\":{\"callback\":null,\"column_names\":[\"x_values\",\"y_values\",\"recons\"],\"data\":{\"recons\":[],\"x_values\":[],\"y_values\":[]}},\"id\":\"b9926f78-c9fc-486c-8bc6-8ca2312c9ad0\",\"type\":\"ColumnDataSource\"},{\"attributes\":{\"below\":[{\"id\":\"82faad12-6374-423e-b640-d9545709999c\",\"type\":\"LinearAxis\"}],\"left\":[{\"id\":\"f576d4c9-e07e-49f2-b2d8-ad5ca93015d7\",\"type\":\"LinearAxis\"}],\"min_border\":0,\"plot_height\":500,\"plot_width\":900,\"renderers\":[{\"id\":\"82faad12-6374-423e-b640-d9545709999c\",\"type\":\"LinearAxis\"},{\"id\":\"c554106a-5698-4165-81e6-07639abb06c4\",\"type\":\"Grid\"},{\"id\":\"f576d4c9-e07e-49f2-b2d8-ad5ca93015d7\",\"type\":\"LinearAxis\"},{\"id\":\"0526b929-a9ae-4a1e-8697-1aa27a7f84e6\",\"type\":\"Grid\"},{\"id\":\"13752360-ce21-4963-9165-f9bb2c8bf26c\",\"type\":\"BoxAnnotation\"},{\"id\":\"13d00fcc-6fb7-4a55-87c5-48b9362529f8\",\"type\":\"GlyphRenderer\"},{\"id\":\"1a8062cf-6ae9-445e-bd1b-52456b97a98f\",\"type\":\"GlyphRenderer\"}],\"title\":{\"id\":\"e243539a-05f4-4c3e-b485-a8746799a805\",\"type\":\"Title\"},\"toolbar\":{\"id\":\"898128b2-cc47-47fb-b08e-697365bf5277\",\"type\":\"Toolbar\"},\"x_range\":{\"id\":\"ce1bc957-c9cc-4fbc-b447-9edd7b23dbad\",\"type\":\"DataRange1d\"},\"x_scale\":{\"id\":\"fe41a2fe-403f-4728-8cca-ca91e330a7b4\",\"type\":\"LinearScale\"},\"y_range\":{\"id\":\"657ce9e3-8852-42f9-b52f-b7df351cf0c1\",\"type\":\"DataRange1d\"},\"y_scale\":{\"id\":\"3b34250f-2c9d-4821-9abf-b1feea155408\",\"type\":\"LinearScale\"}},\"id\":\"67eabc86-29c9-4b24-bb42-8564196cf884\",\"subtype\":\"Figure\",\"type\":\"Plot\"},{\"attributes\":{\"callback\":null},\"id\":\"ce1bc957-c9cc-4fbc-b447-9edd7b23dbad\",\"type\":\"DataRange1d\"},{\"attributes\":{},\"id\":\"7381fd9f-14b5-457c-9fda-1763f11f3b67\",\"type\":\"BasicTicker\"},{\"attributes\":{},\"id\":\"fe41a2fe-403f-4728-8cca-ca91e330a7b4\",\"type\":\"LinearScale\"},{\"attributes\":{\"active_drag\":\"auto\",\"active_inspect\":\"auto\",\"active_scroll\":\"auto\",\"active_tap\":\"auto\",\"tools\":[{\"id\":\"e13df017-8526-4f49-ab27-04ad18e3bc90\",\"type\":\"PanTool\"},{\"id\":\"80aa58c7-0af3-4b67-bf5a-5e0a5d4ea015\",\"type\":\"WheelZoomTool\"},{\"id\":\"13d1f95e-46eb-414a-85e0-b0c8360a1475\",\"type\":\"BoxZoomTool\"},{\"id\":\"09f11011-a215-448d-a376-1d001d4ae088\",\"type\":\"SaveTool\"},{\"id\":\"425def6d-e9ae-4bcd-9165-e63acef2fcea\",\"type\":\"ResetTool\"},{\"id\":\"05c06aab-700c-46c0-b3d2-cd1b17123c77\",\"type\":\"HelpTool\"},{\"id\":\"041838fd-f0f0-43b9-a098-3bac67b2797c\",\"type\":\"HoverTool\"}]},\"id\":\"898128b2-cc47-47fb-b08e-697365bf5277\",\"type\":\"Toolbar\"},{\"attributes\":{\"callback\":null},\"id\":\"657ce9e3-8852-42f9-b52f-b7df351cf0c1\",\"type\":\"DataRange1d\"},{\"attributes\":{\"data_source\":{\"id\":\"b9926f78-c9fc-486c-8bc6-8ca2312c9ad0\",\"type\":\"ColumnDataSource\"},\"glyph\":{\"id\":\"a41e60e3-5fed-42a5-9a4f-8b844a05ba53\",\"type\":\"Line\"},\"hover_glyph\":null,\"muted_glyph\":null,\"nonselection_glyph\":{\"id\":\"d2da6b4a-7fe0-444f-a286-25dfb36c02d0\",\"type\":\"Line\"},\"selection_glyph\":null,\"view\":{\"id\":\"31e83f6d-d430-4685-aa21-f2de4a87b264\",\"type\":\"CDSView\"}},\"id\":\"13d00fcc-6fb7-4a55-87c5-48b9362529f8\",\"type\":\"GlyphRenderer\"},{\"attributes\":{},\"id\":\"3b34250f-2c9d-4821-9abf-b1feea155408\",\"type\":\"LinearScale\"},{\"attributes\":{},\"id\":\"b0d37a1e-4a05-44f6-ab5d-2af0a1d8b1ee\",\"type\":\"BasicTickFormatter\"},{\"attributes\":{\"data_source\":{\"id\":\"b9926f78-c9fc-486c-8bc6-8ca2312c9ad0\",\"type\":\"ColumnDataSource\"},\"glyph\":{\"id\":\"d0b707d3-edc9-4fc3-aaae-f060e94492d4\",\"type\":\"Circle\"},\"hover_glyph\":null,\"muted_glyph\":null,\"nonselection_glyph\":{\"id\":\"0b733c30-f14b-42f4-9221-f8f614a3f6f6\",\"type\":\"Circle\"},\"selection_glyph\":null,\"view\":{\"id\":\"e075608c-f4b7-46de-b527-207be52e70fe\",\"type\":\"CDSView\"}},\"id\":\"1a8062cf-6ae9-445e-bd1b-52456b97a98f\",\"type\":\"GlyphRenderer\"},{\"attributes\":{\"source\":{\"id\":\"b9926f78-c9fc-486c-8bc6-8ca2312c9ad0\",\"type\":\"ColumnDataSource\"}},\"id\":\"e075608c-f4b7-46de-b527-207be52e70fe\",\"type\":\"CDSView\"},{\"attributes\":{\"plot\":{\"id\":\"67eabc86-29c9-4b24-bb42-8564196cf884\",\"subtype\":\"Figure\",\"type\":\"Plot\"},\"ticker\":{\"id\":\"7381fd9f-14b5-457c-9fda-1763f11f3b67\",\"type\":\"BasicTicker\"}},\"id\":\"c554106a-5698-4165-81e6-07639abb06c4\",\"type\":\"Grid\"},{\"attributes\":{\"formatter\":{\"id\":\"b0d37a1e-4a05-44f6-ab5d-2af0a1d8b1ee\",\"type\":\"BasicTickFormatter\"},\"plot\":{\"id\":\"67eabc86-29c9-4b24-bb42-8564196cf884\",\"subtype\":\"Figure\",\"type\":\"Plot\"},\"ticker\":{\"id\":\"07e61518-448e-4521-9401-5a06ac25a30f\",\"type\":\"BasicTicker\"}},\"id\":\"f576d4c9-e07e-49f2-b2d8-ad5ca93015d7\",\"type\":\"LinearAxis\"},{\"attributes\":{},\"id\":\"07e61518-448e-4521-9401-5a06ac25a30f\",\"type\":\"BasicTicker\"},{\"attributes\":{\"dimension\":1,\"plot\":{\"id\":\"67eabc86-29c9-4b24-bb42-8564196cf884\",\"subtype\":\"Figure\",\"type\":\"Plot\"},\"ticker\":{\"id\":\"07e61518-448e-4521-9401-5a06ac25a30f\",\"type\":\"BasicTicker\"}},\"id\":\"0526b929-a9ae-4a1e-8697-1aa27a7f84e6\",\"type\":\"Grid\"},{\"attributes\":{\"bottom_units\":\"screen\",\"fill_alpha\":{\"value\":0.5},\"fill_color\":{\"value\":\"lightgrey\"},\"left_units\":\"screen\",\"level\":\"overlay\",\"line_alpha\":{\"value\":1.0},\"line_color\":{\"value\":\"black\"},\"line_dash\":[4,4],\"line_width\":{\"value\":2},\"plot\":null,\"render_mode\":\"css\",\"right_units\":\"screen\",\"top_units\":\"screen\"},\"id\":\"13752360-ce21-4963-9165-f9bb2c8bf26c\",\"type\":\"BoxAnnotation\"},{\"attributes\":{},\"id\":\"e13df017-8526-4f49-ab27-04ad18e3bc90\",\"type\":\"PanTool\"},{\"attributes\":{\"line_alpha\":0.1,\"line_color\":\"#1f77b4\",\"line_width\":2,\"x\":{\"field\":\"x_values\"},\"y\":{\"field\":\"y_values\"}},\"id\":\"d2da6b4a-7fe0-444f-a286-25dfb36c02d0\",\"type\":\"Line\"},{\"attributes\":{},\"id\":\"80aa58c7-0af3-4b67-bf5a-5e0a5d4ea015\",\"type\":\"WheelZoomTool\"},{\"attributes\":{\"overlay\":{\"id\":\"13752360-ce21-4963-9165-f9bb2c8bf26c\",\"type\":\"BoxAnnotation\"}},\"id\":\"13d1f95e-46eb-414a-85e0-b0c8360a1475\",\"type\":\"BoxZoomTool\"},{\"attributes\":{},\"id\":\"09f11011-a215-448d-a376-1d001d4ae088\",\"type\":\"SaveTool\"},{\"attributes\":{},\"id\":\"425def6d-e9ae-4bcd-9165-e63acef2fcea\",\"type\":\"ResetTool\"},{\"attributes\":{\"formatter\":{\"id\":\"4fd52ff7-8cd6-409f-b7db-e1b3ef139c3d\",\"type\":\"BasicTickFormatter\"},\"plot\":{\"id\":\"67eabc86-29c9-4b24-bb42-8564196cf884\",\"subtype\":\"Figure\",\"type\":\"Plot\"},\"ticker\":{\"id\":\"7381fd9f-14b5-457c-9fda-1763f11f3b67\",\"type\":\"BasicTicker\"}},\"id\":\"82faad12-6374-423e-b640-d9545709999c\",\"type\":\"LinearAxis\"},{\"attributes\":{},\"id\":\"05c06aab-700c-46c0-b3d2-cd1b17123c77\",\"type\":\"HelpTool\"}],\"root_ids\":[\"67eabc86-29c9-4b24-bb42-8564196cf884\"]},\"title\":\"Bokeh Application\",\"version\":\"0.12.14\"}};\n",
       "  var render_items = [{\"docid\":\"43f2ea58-2de6-43b7-abdf-a1668694e36a\",\"elementid\":\"bfffb37d-b3c0-4834-b5ac-e418ba09426a\",\"modelid\":\"67eabc86-29c9-4b24-bb42-8564196cf884\",\"notebook_comms_target\":\"a8793db8-38e8-4b20-93df-baf96f9b5ca8\"}];\n",
       "  root.Bokeh.embed.embed_items_notebook(docs_json, render_items);\n",
       "\n",
       "  }\n",
       "  if (root.Bokeh !== undefined) {\n",
       "    embed_document(root);\n",
       "  } else {\n",
       "    var attempts = 0;\n",
       "    var timer = setInterval(function(root) {\n",
       "      if (root.Bokeh !== undefined) {\n",
       "        embed_document(root);\n",
       "        clearInterval(timer);\n",
       "      }\n",
       "      attempts++;\n",
       "      if (attempts > 100) {\n",
       "        console.log(\"Bokeh: ERROR: Unable to run BokehJS code because BokehJS library is missing\")\n",
       "        clearInterval(timer);\n",
       "      }\n",
       "    }, 10, root)\n",
       "  }\n",
       "})(window);"
      ],
      "application/vnd.bokehjs_exec.v0+json": ""
     },
     "metadata": {
      "application/vnd.bokehjs_exec.v0+json": {
       "id": "67eabc86-29c9-4b24-bb42-8564196cf884"
      }
     },
     "output_type": "display_data"
    }
   ],
   "source": [
    "hover = HoverTool(tooltips=[\n",
    "#    (\"index\", \"$index\"),\n",
    "    (\"(x,y)\", \"($x{0}, $y)\"),\n",
    "    (\"reconst\", \"@recons\"),\n",
    "])\n",
    "opts = dict(plot_width=250, plot_height=250, min_border=0)\n",
    "models = {}\n",
    "\n",
    "data = {'x_values': [],\n",
    "        'y_values': [],\n",
    "        'recons': []}\n",
    "\n",
    "source = ColumnDataSource(data=data)\n",
    "\n",
    "opts = dict(plot_width=900, plot_height=500, min_border=0, title=\"Ncut\")\n",
    "plot = figure(**opts)\n",
    "plot.add_tools(hover)\n",
    "l = plot.line(x='x_values', y='y_values', color=\"#2222aa\", line_width=2, source=source)\n",
    "c = plot.circle(x='x_values', y='y_values', color=\"#2222aa\", fill_color=\"white\", size=8, source=source)\n",
    "h = show(plot, notebook_handle=True)"
   ]
  },
  {
   "cell_type": "code",
   "execution_count": 15,
   "metadata": {
    "collapsed": true
   },
   "outputs": [],
   "source": [
    "def edges_sum(cond_1, cond_2, S):\n",
    "    nodes_1 = np.where(cond_1)[0]\n",
    "    nodes_2 = np.where(cond_2)[0]\n",
    "    \n",
    "    # Every (x, y) index that I should get cooccurence value from S matrix\n",
    "    indices = product(nodes_1, nodes_2)\n",
    "    return np.sum(S[idx] for idx in indices)\n",
    "\n",
    "\n",
    "def n_cut(mat_U, mat_S):\n",
    "    \n",
    "    # Each term belongs to which topic?\n",
    "    # I can't make this assumption!!! \n",
    "    term_clusters = mat_U.argmax(axis=1)\n",
    "    \n",
    "    # Number of clusters\n",
    "    n_k = mat_U.shape[1]\n",
    "    \n",
    "    result = 0.0\n",
    "    for idx_k in range(n_k):\n",
    "        \n",
    "        # Check in which cluster the terms come from\n",
    "        cond_g_k = term_clusters == idx_k\n",
    "        \n",
    "        # Sum edges between terms inside cluster and terms outside\n",
    "        num = edges_sum(cond_g_k, ~cond_g_k, mat_S)\n",
    "        \n",
    "        # Sum all edges\n",
    "        den = edges_sum(cond_g_k,  cond_g_k, mat_S) + num\n",
    "        \n",
    "        try:\n",
    "            result += num/den\n",
    "        except ZeroDivisionError:\n",
    "            return 0\n",
    "        \n",
    "    return 0.5 * result"
   ]
  },
  {
   "cell_type": "code",
   "execution_count": 16,
   "metadata": {
    "collapsed": true
   },
   "outputs": [],
   "source": [
    "num_topics = list(range(2, 100))\n",
    "#random.shuffle(num_topics)\n",
    "#random.shuffle(num_topics)\n",
    "#random.shuffle(num_topics)"
   ]
  },
  {
   "cell_type": "code",
   "execution_count": 40,
   "metadata": {},
   "outputs": [
    {
     "name": "stderr",
     "output_type": "stream",
     "text": [
      "/home/lmoraes/miniconda3/envs/machine_teaching/lib/python3.6/site-packages/sklearn/decomposition/online_lda.py:294: DeprecationWarning: n_topics has been renamed to n_components in version 0.19 and will be removed in 0.21\n",
      "  DeprecationWarning)\n"
     ]
    },
    {
     "name": "stdout",
     "output_type": "stream",
     "text": [
      "[0.04166667 0.04166667 0.04166667 0.04166684 0.04166667 0.04166667\n",
      " 0.04166667 0.04166667 0.04166667 0.54166631 0.04166667 0.04166685] 1.0000000000000002\n"
     ]
    }
   ],
   "source": [
    "NUM_TOPICS = 12\n",
    "# Build a Latent Dirichlet Allocation Model\n",
    "lda_model = LatentDirichletAllocation(n_topics=NUM_TOPICS, max_iter=10, learning_method='online')\n",
    "lda_Z = lda_model.fit_transform(train_data_features)\n",
    " \n",
    "text = \"The economy is working better than ever\"\n",
    "x = lda_model.transform(vectorizer.transform([text]))[0]\n",
    "print(x, x.sum())"
   ]
  },
  {
   "cell_type": "code",
   "execution_count": 41,
   "metadata": {},
   "outputs": [
    {
     "name": "stderr",
     "output_type": "stream",
     "text": [
      "/home/lmoraes/miniconda3/envs/machine_teaching/lib/python3.6/site-packages/pyLDAvis/_prepare.py:387: DeprecationWarning: \n",
      ".ix is deprecated. Please use\n",
      ".loc for label based indexing or\n",
      ".iloc for positional indexing\n",
      "\n",
      "See the documentation here:\n",
      "http://pandas.pydata.org/pandas-docs/stable/indexing.html#ix-indexer-is-deprecated\n",
      "  topic_term_dists = topic_term_dists.ix[topic_order]\n"
     ]
    },
    {
     "data": {
      "text/html": [
       "\n",
       "<link rel=\"stylesheet\" type=\"text/css\" href=\"https://cdn.rawgit.com/bmabey/pyLDAvis/files/ldavis.v1.0.0.css\">\n",
       "\n",
       "\n",
       "<div id=\"ldavis_el234321399191121832641343875556\"></div>\n",
       "<script type=\"text/javascript\">\n",
       "\n",
       "var ldavis_el234321399191121832641343875556_data = {\"mdsDat\": {\"Freq\": [19.251354286806507, 14.864993257043857, 11.203457172604017, 10.480835007378897, 8.769020475071127, 7.872505446319311, 7.297163385362662, 5.451762480120419, 4.890194851376782, 3.818280147160844, 3.312186887254524, 2.788246603501049], \"cluster\": [1, 1, 1, 1, 1, 1, 1, 1, 1, 1, 1, 1], \"topics\": [1, 2, 3, 4, 5, 6, 7, 8, 9, 10, 11, 12], \"x\": [78.2794418334961, 106.23600006103516, 2.462050199508667, -35.5616340637207, -52.712276458740234, 203.24461364746094, -149.4899444580078, 67.60908508300781, 183.81338500976562, -18.36326789855957, -126.17626190185547, -161.91661071777344], \"y\": [-7.158254623413086, -142.42779541015625, -216.6998291015625, 38.70437240600586, 173.09600830078125, -59.515960693359375, -39.40506362915039, 130.56060791015625, 77.80314636230469, -82.81877136230469, -164.87477111816406, 87.60506439208984]}, \"tinfo\": {\"Category\": [\"Default\", \"Default\", \"Default\", \"Default\", \"Default\", \"Default\", \"Default\", \"Default\", \"Default\", \"Default\", \"Default\", \"Default\", \"Default\", \"Default\", \"Default\", \"Default\", \"Default\", \"Default\", \"Default\", \"Default\", \"Default\", \"Default\", \"Default\", \"Default\", \"Default\", \"Default\", \"Default\", \"Default\", \"Default\", \"Default\", \"Topic1\", \"Topic1\", \"Topic1\", \"Topic1\", \"Topic1\", \"Topic1\", \"Topic1\", \"Topic1\", \"Topic1\", \"Topic1\", \"Topic1\", \"Topic1\", \"Topic1\", \"Topic1\", \"Topic1\", \"Topic1\", \"Topic1\", \"Topic1\", \"Topic1\", \"Topic1\", \"Topic1\", \"Topic1\", \"Topic1\", \"Topic1\", \"Topic1\", \"Topic1\", \"Topic1\", \"Topic1\", \"Topic1\", \"Topic1\", \"Topic1\", \"Topic1\", \"Topic1\", \"Topic1\", \"Topic1\", \"Topic1\", \"Topic1\", \"Topic1\", \"Topic1\", \"Topic1\", \"Topic1\", \"Topic1\", \"Topic1\", \"Topic1\", \"Topic1\", \"Topic1\", \"Topic1\", \"Topic1\", \"Topic1\", \"Topic1\", \"Topic1\", \"Topic1\", \"Topic1\", \"Topic1\", \"Topic2\", \"Topic2\", \"Topic2\", \"Topic2\", \"Topic2\", \"Topic2\", \"Topic2\", \"Topic2\", \"Topic2\", \"Topic2\", \"Topic2\", \"Topic2\", \"Topic2\", \"Topic2\", \"Topic2\", \"Topic2\", \"Topic2\", \"Topic2\", \"Topic2\", \"Topic2\", \"Topic2\", \"Topic2\", \"Topic2\", \"Topic2\", \"Topic2\", \"Topic2\", \"Topic2\", \"Topic2\", \"Topic2\", \"Topic2\", \"Topic2\", \"Topic2\", \"Topic2\", \"Topic2\", \"Topic2\", \"Topic2\", \"Topic2\", \"Topic2\", \"Topic2\", \"Topic2\", \"Topic2\", \"Topic2\", \"Topic2\", \"Topic2\", \"Topic2\", \"Topic2\", \"Topic2\", \"Topic2\", \"Topic2\", \"Topic2\", \"Topic2\", \"Topic2\", \"Topic2\", \"Topic3\", \"Topic3\", \"Topic3\", \"Topic3\", \"Topic3\", \"Topic3\", \"Topic3\", \"Topic3\", \"Topic3\", \"Topic3\", \"Topic3\", \"Topic3\", \"Topic3\", \"Topic3\", \"Topic3\", \"Topic3\", \"Topic3\", \"Topic3\", \"Topic3\", \"Topic3\", \"Topic3\", \"Topic3\", \"Topic3\", \"Topic3\", \"Topic3\", \"Topic3\", \"Topic3\", \"Topic3\", \"Topic3\", \"Topic3\", \"Topic3\", \"Topic3\", \"Topic3\", \"Topic3\", \"Topic3\", \"Topic3\", \"Topic3\", \"Topic3\", \"Topic3\", \"Topic3\", \"Topic3\", \"Topic3\", \"Topic3\", \"Topic3\", \"Topic3\", \"Topic3\", \"Topic3\", \"Topic3\", \"Topic3\", \"Topic3\", \"Topic3\", \"Topic3\", \"Topic4\", \"Topic4\", \"Topic4\", \"Topic4\", \"Topic4\", \"Topic4\", \"Topic4\", \"Topic4\", \"Topic4\", \"Topic4\", \"Topic4\", \"Topic4\", \"Topic4\", \"Topic4\", \"Topic4\", \"Topic4\", \"Topic4\", \"Topic4\", \"Topic4\", \"Topic4\", \"Topic4\", \"Topic4\", \"Topic4\", \"Topic4\", \"Topic4\", \"Topic4\", \"Topic4\", \"Topic4\", \"Topic4\", \"Topic4\", \"Topic4\", \"Topic4\", \"Topic4\", \"Topic4\", \"Topic4\", \"Topic4\", \"Topic4\", \"Topic4\", \"Topic4\", \"Topic4\", \"Topic4\", \"Topic4\", \"Topic5\", \"Topic5\", \"Topic5\", \"Topic5\", \"Topic5\", \"Topic5\", \"Topic5\", \"Topic5\", \"Topic5\", \"Topic5\", \"Topic5\", \"Topic5\", \"Topic5\", \"Topic5\", \"Topic5\", \"Topic5\", \"Topic5\", \"Topic5\", \"Topic5\", \"Topic5\", \"Topic5\", \"Topic5\", \"Topic5\", \"Topic5\", \"Topic5\", \"Topic5\", \"Topic5\", \"Topic5\", \"Topic5\", \"Topic5\", \"Topic5\", \"Topic5\", \"Topic5\", \"Topic5\", \"Topic5\", \"Topic5\", \"Topic5\", \"Topic5\", \"Topic5\", \"Topic5\", \"Topic5\", \"Topic5\", \"Topic5\", \"Topic5\", \"Topic6\", \"Topic6\", \"Topic6\", \"Topic6\", \"Topic6\", \"Topic6\", \"Topic6\", \"Topic6\", \"Topic6\", \"Topic6\", \"Topic6\", \"Topic6\", \"Topic6\", \"Topic6\", \"Topic6\", \"Topic6\", \"Topic6\", \"Topic6\", \"Topic6\", \"Topic6\", \"Topic6\", \"Topic6\", \"Topic6\", \"Topic6\", \"Topic6\", \"Topic6\", \"Topic6\", \"Topic6\", \"Topic6\", \"Topic6\", \"Topic6\", \"Topic6\", \"Topic6\", \"Topic6\", \"Topic6\", \"Topic6\", \"Topic6\", \"Topic6\", \"Topic7\", \"Topic7\", \"Topic7\", \"Topic7\", \"Topic7\", \"Topic7\", \"Topic7\", \"Topic7\", \"Topic7\", \"Topic7\", \"Topic7\", \"Topic7\", \"Topic7\", \"Topic7\", \"Topic7\", \"Topic7\", \"Topic7\", \"Topic7\", \"Topic7\", \"Topic7\", \"Topic7\", \"Topic7\", \"Topic7\", \"Topic7\", \"Topic7\", \"Topic7\", \"Topic7\", \"Topic7\", \"Topic7\", \"Topic7\", \"Topic7\", \"Topic7\", \"Topic7\", \"Topic7\", \"Topic7\", \"Topic7\", \"Topic7\", \"Topic7\", \"Topic7\", \"Topic7\", \"Topic7\", \"Topic7\", \"Topic7\", \"Topic7\", \"Topic7\", \"Topic7\", \"Topic8\", \"Topic8\", \"Topic8\", \"Topic8\", \"Topic8\", \"Topic8\", \"Topic8\", \"Topic8\", \"Topic8\", \"Topic8\", \"Topic8\", \"Topic8\", \"Topic8\", \"Topic8\", \"Topic8\", \"Topic8\", \"Topic8\", \"Topic8\", \"Topic8\", \"Topic8\", \"Topic8\", \"Topic8\", \"Topic8\", \"Topic8\", \"Topic8\", \"Topic8\", \"Topic8\", \"Topic8\", \"Topic8\", \"Topic8\", \"Topic8\", \"Topic8\", \"Topic8\", \"Topic8\", \"Topic8\", \"Topic8\", \"Topic8\", \"Topic8\", \"Topic8\", \"Topic8\", \"Topic8\", \"Topic8\", \"Topic8\", \"Topic8\", \"Topic8\", \"Topic9\", \"Topic9\", \"Topic9\", \"Topic9\", \"Topic9\", \"Topic9\", \"Topic9\", \"Topic9\", \"Topic9\", \"Topic9\", \"Topic9\", \"Topic9\", \"Topic9\", \"Topic9\", \"Topic9\", \"Topic9\", \"Topic9\", \"Topic9\", \"Topic9\", \"Topic9\", \"Topic9\", \"Topic9\", \"Topic9\", \"Topic9\", \"Topic9\", \"Topic9\", \"Topic9\", \"Topic9\", \"Topic9\", \"Topic9\", \"Topic9\", \"Topic9\", \"Topic9\", \"Topic9\", \"Topic9\", \"Topic9\", \"Topic9\", \"Topic9\", \"Topic10\", \"Topic10\", \"Topic10\", \"Topic10\", \"Topic10\", \"Topic10\", \"Topic10\", \"Topic10\", \"Topic10\", \"Topic10\", \"Topic10\", \"Topic10\", \"Topic10\", \"Topic10\", \"Topic10\", \"Topic10\", \"Topic10\", \"Topic10\", \"Topic10\", \"Topic10\", \"Topic10\", \"Topic10\", \"Topic10\", \"Topic10\", \"Topic10\", \"Topic10\", \"Topic10\", \"Topic10\", \"Topic10\", \"Topic10\", \"Topic10\", \"Topic10\", \"Topic11\", \"Topic11\", \"Topic11\", \"Topic11\", \"Topic11\", \"Topic11\", \"Topic11\", \"Topic11\", \"Topic11\", \"Topic11\", \"Topic11\", \"Topic11\", \"Topic11\", \"Topic11\", \"Topic11\", \"Topic11\", \"Topic11\", \"Topic11\", \"Topic11\", \"Topic11\", \"Topic11\", \"Topic11\", \"Topic11\", \"Topic11\", \"Topic11\", \"Topic11\", \"Topic11\", \"Topic11\", \"Topic11\", \"Topic11\", \"Topic11\", \"Topic11\", \"Topic11\", \"Topic11\", \"Topic11\", \"Topic11\", \"Topic11\", \"Topic11\", \"Topic11\", \"Topic12\", \"Topic12\", \"Topic12\", \"Topic12\", \"Topic12\", \"Topic12\", \"Topic12\", \"Topic12\", \"Topic12\", \"Topic12\", \"Topic12\", \"Topic12\", \"Topic12\", \"Topic12\", \"Topic12\", \"Topic12\", \"Topic12\", \"Topic12\", \"Topic12\", \"Topic12\", \"Topic12\", \"Topic12\", \"Topic12\", \"Topic12\", \"Topic12\", \"Topic12\", \"Topic12\", \"Topic12\", \"Topic12\", \"Topic12\", \"Topic12\", \"Topic12\", \"Topic12\"], \"Freq\": [1886.0, 126.0, 168.0, 137.0, 135.0, 243.0, 83.0, 73.0, 218.0, 323.0, 100.0, 349.0, 473.0, 100.0, 66.0, 52.0, 70.0, 74.0, 57.0, 80.0, 59.0, 179.0, 76.0, 535.0, 61.0, 459.0, 301.0, 65.0, 70.0, 45.0, 45.91793955630939, 40.8081411920294, 27.804560462582693, 37.05693986606754, 17.731051091285142, 17.335220299110013, 15.86537563712684, 11.776946559328094, 11.639359648487291, 10.140111659749454, 10.034291104448151, 9.870534731935692, 9.870089135927367, 9.871109316556286, 8.237752957120152, 8.074963020538203, 7.85943855703488, 6.067704995006889, 4.9305496531008295, 4.328782396849845, 4.248895320894263, 4.248810245826573, 4.1600597250775175, 4.161238561005272, 7.950810640019857, 22.021404167943466, 3.8454150141408507, 3.5195966817431183, 9.579324210850922, 3.345413449922158, 29.151642949860584, 52.09801606803395, 8.47547173131705, 46.447373217858974, 55.66057580051462, 195.73478961916885, 186.46458335913528, 41.38386891446981, 209.01737397891742, 137.1570370612388, 111.81217414403763, 59.109043250210725, 317.11584289648556, 35.60285695999867, 64.90382857634368, 39.97973343909928, 63.35956314710003, 39.6723233968238, 21.051970323800504, 55.05166819431162, 38.638695584209856, 52.062173238835925, 39.27811806860426, 21.291968929639875, 75.40130485306302, 20.20648109429222, 18.400430433282917, 17.34681553506131, 18.307607512605607, 15.829398410272823, 14.778290269817349, 13.9074810270706, 13.058939921913765, 12.66671944438759, 13.0201017969652, 10.835331542794528, 11.30629397786244, 9.075650318089991, 8.435431777055506, 8.259934994798959, 22.191881488160103, 7.27781889459559, 7.276302766617106, 7.251212804333225, 21.58594859400086, 6.565704788343519, 16.412381286360024, 6.30773630124724, 5.67745117512417, 5.63102444335, 5.485015747026453, 5.484144203907728, 5.484827767321366, 5.484673313979646, 73.2177474426441, 87.3317434077326, 24.587366283893378, 35.019597733881724, 97.35433197877084, 147.1834393361051, 23.598495747977417, 500.4295129349104, 79.69051444052761, 14.364213838158959, 33.30536738564604, 23.24524491765527, 16.909581452095086, 23.236631015365468, 36.983297153733076, 28.67289896094478, 19.140251819219866, 23.737802510539677, 22.893437969001933, 20.275362263408272, 19.628182545813683, 17.694636809414217, 17.997601928744256, 32.77922022345218, 29.15958180928544, 26.56087587182988, 96.50071750538838, 22.14065672432661, 20.606307165804814, 17.730961581488913, 15.198582598265647, 13.144393379946427, 14.566148403320721, 12.069686449806246, 11.640129358743255, 11.541980790870678, 10.691847529635524, 34.994216551064866, 9.807903000660898, 8.63837877199424, 10.64815423636356, 6.555726881246414, 6.431454304947532, 15.557898231415864, 5.9650842644368955, 5.669739415789838, 6.022341911110169, 5.390353195731753, 5.333157298916624, 5.034561037616519, 8.150134371683789, 5.481542341563464, 5.424252038153326, 29.6926439817166, 12.375174602412745, 14.603213880035803, 13.425852384566143, 34.5400184048371, 64.533404835342, 13.078529165688392, 202.5180638728779, 12.076147886497123, 47.69239126881511, 63.901940009506, 57.15606049724274, 52.19219655235295, 42.69979355032881, 30.33442090960423, 34.494971546874275, 22.04652149034429, 19.858441862499017, 17.61971825030601, 22.819142352134712, 16.069400531858744, 18.25336393494309, 99.22378580413286, 135.3835245560613, 133.55738434876338, 73.4571523331079, 20.75973652869045, 20.30982672226553, 16.09668166270436, 13.757681919416711, 11.918382290821828, 10.224106454286295, 24.732496248306877, 9.1964418602822, 8.301883936557413, 8.295329586447645, 8.003723775411695, 7.910526756200178, 7.824594985433147, 7.2337061969482, 5.155776989206848, 5.154032383635341, 5.150529815796631, 4.5419715973118375, 4.30849222548938, 4.306323075063212, 4.004197271255874, 4.038921825699986, 3.468718260898729, 3.469818253579642, 3.4670590323392934, 3.4693691351869766, 11.718531463074944, 54.856688561018984, 73.87948001998666, 92.86653801070486, 95.62775734105139, 93.857746099245, 43.761574008725916, 43.72252954769717, 32.50750552594007, 22.283518706594045, 50.372185946379346, 13.512059202125215, 34.948534674695644, 63.66953875171149, 21.0427506991669, 17.54751313062241, 76.38433942739357, 15.08635609114805, 14.05667370988873, 13.064787207861857, 12.642546452573633, 12.290378953783417, 9.48072487587388, 8.817032067433145, 7.903836126131436, 7.679586814750966, 7.062753810713064, 7.203895993887721, 6.183991310058385, 5.150627847830641, 4.572860376929804, 4.481156771526945, 3.574101684737345, 3.5616300302886836, 18.154459941560912, 11.061629877302435, 33.69019144124205, 6.085854716661901, 22.378903951852642, 5.194606303885696, 3.6691760250226477, 13.924904120095503, 25.73505515629054, 98.27081655264769, 92.20778074359042, 14.830561171549157, 58.46735994611306, 63.578300455645746, 16.66140947287993, 112.16666863829805, 23.99853137882616, 12.34214985784515, 29.11740450013316, 15.499652648718557, 12.691382554866763, 13.091133163012278, 73.44898565043792, 60.20066797313455, 35.58244487461766, 27.058722620532, 25.0390574697275, 8.238812217643918, 6.72678262804528, 6.411831301141907, 4.4411881743323525, 3.5655238315689197, 12.415572991486025, 13.420643884594053, 10.021309708364788, 10.143994616396999, 12.720529492621353, 4.210330378274972, 10.1201117048775, 102.91622894202794, 1.7003126426952855, 2.0586455800821755, 26.075558568006763, 1.243418914649565, 66.52486659323795, 2.4353477888111326, 94.27853341774775, 1.2726674566379848, 1.3698041673641976, 24.981663493246778, 36.55240494952065, 35.48220332366575, 53.46331738615518, 153.88818012577545, 29.856219565555627, 17.979686851237005, 23.836075563242318, 10.150140228962947, 6.49863020562328, 5.666757538882906, 45.13539270700105, 28.90252981691072, 18.936364860743137, 13.239455062376877, 10.051453455686776, 10.06890874564153, 9.728929588193145, 7.939560385590446, 6.693887808483553, 6.690572820750206, 6.185681279577729, 141.079600608292, 24.60671483776288, 8.021026295209177, 3.825111451373523, 3.6624207871365417, 3.56901042194895, 3.5708987902115643, 3.5665908347230912, 3.5622275189883017, 3.3925995687982136, 3.2219895252911446, 3.222351805057071, 2.6363473668369863, 11.467834079361175, 5.183839019220584, 25.04925389222521, 2.001997148972782, 1.818189210620808, 11.58136234311287, 37.45837906481329, 5.353746483722243, 64.05635031808019, 230.87107768562583, 6.413567796154654, 34.652639989208765, 13.396018786685415, 5.908059686300095, 7.804786259330348, 5.846426122438712, 10.615505478199044, 9.45537624138961, 9.58179480227745, 8.525721398028145, 7.5799931005814125, 7.166053179538934, 65.06666235260005, 123.68526730959132, 36.01779696098209, 18.834488819462262, 15.387440641833805, 14.28156168170637, 15.071719579143373, 13.236958046390196, 43.0695345359881, 11.305182983072019, 9.540458501611507, 10.72154418990423, 7.540237258793102, 5.727339449329268, 4.903264385249056, 3.850950785314845, 4.518605379786584, 3.662772270717275, 4.505370441479717, 4.4075852987820685, 3.2422553435631274, 2.901042517886247, 1.972495681948849, 5.181848122556873, 27.823119621404214, 14.63086371943914, 2.4174299672333928, 2.4141564906808184, 4.290606539015467, 2.056206524481378, 3.2420846116359483, 22.2826527180909, 14.122110745123692, 5.4034363676779185, 5.353439614188375, 23.75276120272487, 40.996412758801405, 12.751696566033804, 12.716813785038848, 16.594595596633372, 11.532306300359343, 7.720671304361246, 8.074600690750984, 6.523046768921291, 5.330044972290666, 82.22177241233852, 43.666890295878666, 35.02476858605141, 27.963241291173773, 15.221369433638166, 16.739884859254907, 55.04252809949705, 11.622053164291836, 8.561864383737579, 8.682959792438563, 7.259420738575493, 7.189879483712417, 6.556367174609307, 6.804510542729801, 6.503532282172887, 5.3868533751962175, 5.147185338545691, 4.766731326978391, 6.012816292358451, 4.396935273166946, 4.47606538064278, 4.11307974264694, 4.1143673536028915, 11.643601006495603, 3.588184724604443, 2.7067116977406718, 4.802835946291382, 6.951599283847508, 1.8626152468860657, 1.8611506748106137, 7.077267260425568, 12.402537840044493, 10.47989072467227, 104.80820375766261, 23.97709867491523, 8.436937451477933, 7.947638793449763, 4.639233591984528, 71.98939836235144, 54.745708782547894, 13.296826063075493, 16.8894271698246, 12.257765061761951, 10.22935927273314, 15.122921242241665, 9.235472636613185, 14.172825197576707, 8.212477151667688, 6.123828817347355, 6.897010324996194, 5.159268841110921, 4.579956401975008, 4.135560974031583, 4.132244722720598, 3.558679757654734, 3.5298326094482424, 3.864207449312303, 2.743149308737784, 49.68794713705909, 4.89187031854327, 7.686696818186059, 35.77876366579398, 2.1191188283520592, 2.1193725651544066, 2.1552816430766617, 1.3982350865518431, 2.9774857264460826, 2.116209817327242, 93.78408780524244, 3.385758632272101, 32.18208500894159, 20.313114522409034, 11.243461891986932, 7.328399588095604, 10.293082018330333, 7.150139458723709, 7.144300409754227, 7.143671418045947, 7.829179172309295, 7.123001933773768, 6.594214579059539, 6.025619249842604, 5.657683682946626, 5.859016891380071, 38.4462367775379, 4.194661148123919, 3.625113037418995, 3.6254978423639934, 3.624779146990399, 3.1301606067959535, 3.078314186494542, 3.0292112610232476, 2.139891588001072, 1.9430494208749483, 1.9368534689919186, 1.8550716435689127, 1.8551203358345663, 6.832891530246533, 15.269204644690296, 4.0110331785092335, 4.2677404535707355, 35.335719013766024, 11.730966160943298, 10.90193305347855, 50.207636140972525, 6.970949358319657, 5.637145883847936, 3.9800547570113363, 4.089730705321209, 50.983164913432134, 31.658037016782288, 17.437194173462057, 12.220578620197784, 13.583165399304772, 9.41567694091642, 7.9247515394303, 9.183252757922647, 7.980376538282386, 8.017197652067482, 7.026134710721312, 6.766267362822926, 7.000884471589274, 6.769395805486197, 5.295935038736837, 4.633112393962419, 4.709243574312022, 3.558784877615319, 3.5597054771121415, 3.4595942833272466, 13.750337238145287, 2.187242570931028, 2.7752609761560545, 6.319601018788139, 18.237749416341796, 4.859124133980942, 0.9501590080036192, 0.9494873273200654, 5.740788885326563, 2.014821346243496, 2.013449427979025, 16.205145009226754, 29.66312815179442], \"Term\": [\"print\", \"num\", \"str\", \"result_str\", \"row\", \"import\", \"str1\", \"tuplex\", \"elif\", \"return\", \"column\", \"def\", \"if\", \"random\", \"counter\", \"decimal\", \"set\", \"month\", \"li\", \"result\", \"os\", \"format\", \"game\", \"in\", \"sum\", \"for\", \"input\", \"word\", \"list\", \"index\", \"sys\", \"nums\", \"text\", \"values\", \"amount\", \"continue\", \"numbers\", \"soup\", \"beautifulsoup\", \"find\", \"win\", \"requests\", \"story_heading\", \"base_url\", \"eachnumber\", \"exit\", \"argv\", \"bs4\", \"yield\", \"contents\", \"number2\", \"number1\", \"element_to_find\", \"ordered_list\", \"except\", \"break\", \"product\", \"valueerror\", \"get\", \"find_all\", \"raw_input\", \"number\", \"square\", \"not\", \"true\", \"if\", \"for\", \"count\", \"in\", \"return\", \"def\", \"len\", \"print\", \"false\", \"else\", \"while\", \"range\", \"append\", \"value\", \"elif\", \"and\", \"import\", \"int\", \"input\", \"shoppinglist\", \"radians\", \"nomoreswaps\", \"tempitem\", \"menuchoice\", \"num1\", \"num2\", \"score\", \"question\", \"tempquestionlist\", \"sin\", \"sine\", \"cos\", \"ans\", \"degree\", \"exitlist\", \"round\", \"quizquestions\", \"questionno\", \"sineradians\", \"temp\", \"tan\", \"height\", \"fabs\", \"displaylist\", \"newitem\", \"euroholidaymoney\", \"fridgev\", \"liftv\", \"num3\", \"math\", \"float\", \"finished\", \"element\", \"format\", \"input\", \"each\", \"print\", \"int\", \"sqrt\", \"len\", \"false\", \"item\", \"while\", \"if\", \"else\", \"not\", \"for\", \"in\", \"import\", \"elif\", \"true\", \"def\", \"outputstr\", \"guess\", \"character\", \"random\", \"targetstr\", \"randint\", \"found\", \"string\", \"date\", \"choice\", \"sample\", \"answer\", \"names\", \"eachchar\", \"name\", \"channelschedule\", \"guesses\", \"my_file\", \"output\", \"json\", \"none\", \"randrange\", \"alphabet\", \"minimum\", \"showname\", \"running\", \"datetime\", \"birthdays\", \"mode\", \"encoding\", \"item\", \"lower\", \"try\", \"open\", \"count\", \"format\", \"as\", \"print\", \"with\", \"import\", \"in\", \"if\", \"for\", \"input\", \"len\", \"range\", \"while\", \"true\", \"number\", \"else\", \"false\", \"elif\", \"column\", \"result_str\", \"row\", \"game\", \"total\", \"step\", \"col\", \"textwrap\", \"winner\", \"game_slices\", \"player\", \"wrapped\", \"row_num\", \"col_num\", \"sample_text\", \"start\", \"dic\", \"printdict\", \"display_game\", \"new_row\", \"convert_input_to_coordinate\", \"test\", \"draw_line\", \"display_winner\", \"fill\", \"text_without_indentation\", \"row_number\", \"add_piece\", \"edge\", \"start_game\", \"width\", \"or\", \"and\", \"range\", \"for\", \"in\", \"return\", \"def\", \"if\", \"else\", \"print\", \"append\", \"hexseg\", \"word\", \"hangman\", \"guessedcharacters\", \"result\", \"fact\", \"chances\", \"f1\", \"setupvalues\", \"char\", \"sum_list\", \"currentguess\", \"runningtotal\", \"digits\", \"hexnumber\", \"word_len\", \"lengthhex\", \"reversed\", \"func\", \"abc\", \"placepower\", \"displayresult\", \"sorted\", \"guessed\", \"items\", \"reverse\", \"key\", \"sort\", \"playgame\", \"words\", \"join\", \"def\", \"return\", \"split\", \"for\", \"in\", \"element\", \"print\", \"len\", \"each\", \"if\", \"append\", \"range\", \"input\", \"month\", \"sum\", \"day\", \"year\", \"isinstance\", \"printlist\", \"difference\", \"printvalues\", \"code\", \"mod\", \"keys\", \"dict\", \"ctr\", \"max\", \"end\", \"prime\", \"ast\", \"elif\", \"is_prime\", \"base\", \"or\", \"sub\", \"else\", \"formula\", \"if\", \"pow\", \"is\", \"int\", \"return\", \"def\", \"in\", \"print\", \"input\", \"range\", \"for\", \"append\", \"list\", \"and\", \"array_num\", \"pi\", \"quote\", \"radian\", \"radius\", \"volume\", \"all\", \"new_list\", \"angle\", \"sur_area\", \"platform\", \"str\", \"array\", \"cn\", \"diameter\", \"colors\", \"seconds\", \"environ\", \"minutes\", \"system\", \"age\", \"replacewith\", \"replaceword\", \"days\", \"collections\", \"sleep\", \"time\", \"itemsize\", \"release\", \"area\", \"from\", \"original_list\", \"import\", \"print\", \"user_input\", \"input\", \"float\", \"my_list\", \"join\", \"upper\", \"int\", \"format\", \"in\", \"return\", \"def\", \"for\", \"counter\", \"num\", \"line\", \"binarystring\", \"n2\", \"n1\", \"fib\", \"decimalnumber\", \"startplayer\", \"readline\", \"counter_dict\", \"connect\", \"n3\", \"positionvalue\", \"__doc__\", \"addzeros\", \"overlaplist\", \"max_of_three\", \"happieslist\", \"primeslist\", \"n4\", \"decimalnumbercopy\", \"eachzero\", \"elem\", \"board\", \"denary\", \"d2\", \"d1\", \"x1\", \"setupgame\", \"x2\", \"int\", \"while\", \"with\", \"open\", \"if\", \"print\", \"elif\", \"else\", \"in\", \"for\", \"append\", \"input\", \"def\", \"as\", \"str1\", \"path\", \"data\", \"color\", \"current\", \"matrix\", \"os\", \"min\", \"fn\", \"num_list\", \"p2\", \"__file__\", \"a2\", \"mn\", \"a1\", \"isfile\", \"evennumbers\", \"rsplit\", \"ctime\", \"filter\", \"str2\", \"c1\", \"c2\", \"lambda\", \"listdir\", \"getmtime\", \"reverse_string\", \"p1\", \"isdir\", \"getsize\", \"file\", \"my_dict\", \"ast\", \"print\", \"import\", \"time\", \"list\", \"float\", \"tuplex\", \"li\", \"sety\", \"tuple\", \"setx\", \"num_set\", \"list1\", \"listx\", \"list2\", \"setz\", \"tp\", \"seta\", \"setq\", \"timer\", \"copy\", \"setp\", \"squarednumbers\", \"tp2\", \"update\", \"timeit\", \"set\", \"word_list\", \"map\", \"list\", \"d2\", \"d1\", \"zip\", \"enumerate\", \"my_list\", \"pop\", \"print\", \"append\", \"letter\", \"itertools\", \"socket\", \"next\", \"results\", \"shuffle\", \"s2\", \"s1\", \"itemgetter\", \"printvalue\", \"struct\", \"operator\", \"glob\", \"exp\", \"index\", \"nlargest\", \"emailaddress\", \"r2\", \"pat2\", \"permutations\", \"groupby\", \"chain\", \"heapq\", \"calcsize\", \"gethostname\", \"match\", \"group\", \"is\", \"upper\", \"lst\", \"lines\", \"import\", \"list\", \"from\", \"print\", \"key\", \"my_dict\", \"my_list\", \"def\", \"decimal\", \"self\", \"context\", \"class\", \"fractions\", \"search\", \"student\", \"fraction\", \"__init__\", \"object\", \"prec\", \"students\", \"cmath\", \"multiply\", \"american\", \"color_list\", \"getcontext\", \"rounding\", \"anamerican\", \"getstring\", \"re\", \"limit_denominator\", \"getattr\", \"length\", \"value\", \"pass\", \"exception\", \"error\", \"area\", \"color1\", \"color2\", \"def\", \"print\"], \"Total\": [1886.0, 126.0, 168.0, 137.0, 135.0, 243.0, 83.0, 73.0, 218.0, 323.0, 100.0, 349.0, 473.0, 100.0, 66.0, 52.0, 70.0, 74.0, 57.0, 80.0, 59.0, 179.0, 76.0, 535.0, 61.0, 459.0, 301.0, 65.0, 70.0, 45.0, 46.888692941438315, 41.8579809621218, 28.755751785060927, 38.405332115046534, 18.68969025313226, 18.346386263820833, 16.880798751257075, 12.729652885347903, 12.58779337509935, 11.096725040979354, 10.99885821998176, 10.820091720675844, 10.820120150839248, 10.821806851283673, 9.191036711856123, 9.032484457906339, 8.825066647423661, 7.01886655144983, 5.901201069588107, 5.290794062526395, 5.201006010511775, 5.201767532959792, 5.10957030116505, 5.113755891703881, 9.798439229490107, 27.37722822137859, 4.801602143742533, 4.473623164357808, 12.287928273054552, 4.294281658447413, 39.02218843203325, 70.74601196707191, 11.200980136612483, 77.05639375435031, 103.34643090521251, 473.76410301665214, 459.46184378680357, 76.86185916970754, 535.0101997452914, 323.1272439780377, 349.8406618463439, 148.73574122002162, 1886.8210007148257, 84.51678018228029, 225.5970752457649, 106.18200664195649, 241.0060417557006, 119.15730480669974, 40.161492062772716, 218.39769964721694, 137.3652368132464, 243.9594390029779, 194.76289483353, 301.3873673994067, 76.52924342978653, 21.20184548922584, 19.397528914313092, 18.351044738185838, 19.38571090710947, 16.77230339527319, 15.718954600675199, 14.857963947955573, 14.007226868586907, 13.614159587722012, 13.995063395572103, 11.817834191580367, 12.376224840288616, 10.022966454441818, 9.398396768438102, 9.260523784133827, 25.022200685671155, 8.224075563087547, 8.22294337844549, 8.22202891906522, 24.478652483965515, 7.516134500557194, 19.052165340789706, 7.335188156758107, 6.621456861904136, 6.571865208210973, 6.425846638940636, 6.425892097950383, 6.426937553457198, 6.426859915657235, 87.59033046507052, 107.4729516539325, 34.421542110323266, 54.443094010853166, 179.6171044459478, 301.3873673994067, 38.81357904019975, 1886.8210007148257, 194.76289483353, 24.286062202049695, 148.73574122002162, 84.51678018228029, 47.69375639941316, 106.18200664195649, 473.76410301665214, 225.5970752457649, 77.05639375435031, 459.46184378680357, 535.0101997452914, 243.9594390029779, 218.39769964721694, 103.34643090521251, 349.8406618463439, 33.722209871443674, 30.185292761817223, 27.536535508401883, 100.63494636711438, 23.119739118455698, 21.623682356932036, 18.702294762852727, 16.141685399999663, 14.090286861215134, 15.636678735653245, 13.017940841582668, 12.612324919771302, 12.510118632833244, 11.636129028291634, 38.131742986898594, 10.749496931223815, 9.84821046193715, 12.170563186057006, 7.510226391048929, 7.411790369564802, 17.9559767777128, 6.9259839185455165, 6.612740191838586, 7.0405652392010065, 6.334916759239894, 6.330707301774387, 5.998379859078978, 9.781709913899935, 6.608788742467222, 6.608129632298665, 47.69375639941316, 18.542108337480173, 23.0418741279828, 21.54034152007771, 76.86185916970754, 179.6171044459478, 23.67659491272082, 1886.8210007148257, 21.703668228814028, 243.9594390029779, 535.0101997452914, 473.76410301665214, 459.46184378680357, 301.3873673994067, 148.73574122002162, 241.0060417557006, 106.18200664195649, 103.34643090521251, 70.74601196707191, 225.5970752457649, 84.51678018228029, 218.39769964721694, 100.44306179555355, 137.1711908779529, 135.54963604049485, 76.52260177527599, 21.745650304941613, 21.300169914977953, 17.048366925823284, 14.832591490500842, 12.923977997988198, 11.224129428123337, 27.344111568328017, 10.175863444343888, 9.265293668093847, 9.26525215188862, 8.9800203819319, 8.882384933653867, 8.800423409718546, 8.198398503244155, 6.129767584554296, 6.129085772899291, 6.129513812218296, 5.510057448161083, 5.277741161005993, 5.280104580658568, 4.954917760312943, 5.004181318410603, 4.430559129691441, 4.433925150122679, 4.431035608155436, 4.434127127003553, 15.389466741444258, 86.173593324957, 137.3652368132464, 241.0060417557006, 459.46184378680357, 535.0101997452914, 323.1272439780377, 349.8406618463439, 473.76410301665214, 225.5970752457649, 1886.8210007148257, 119.15730480669974, 35.97036286942746, 65.92842085060911, 21.99846671625834, 18.508369303565036, 80.6311651406934, 16.061683693581674, 15.01035874523476, 14.012690183308031, 13.593805044305219, 13.291279155924416, 10.437203732766745, 9.76909537274588, 8.89044625427147, 8.652214196889389, 8.018471168014406, 8.180974438385414, 7.146405753371679, 6.1017590640656545, 5.526445443559113, 5.4243539344798375, 4.528694019260008, 4.528893939037081, 23.596848322408984, 14.893090802460971, 47.91818243106596, 9.663363117145872, 38.74051567415221, 9.090787958877595, 6.609215788231729, 26.698415013945453, 57.380716069223496, 349.8406618463439, 323.1272439780377, 36.24946163606829, 459.46184378680357, 535.0101997452914, 54.443094010853166, 1886.8210007148257, 148.73574122002162, 38.81357904019975, 473.76410301665214, 119.15730480669974, 241.0060417557006, 301.3873673994067, 74.5571917563653, 61.16699515176323, 36.54995467443873, 28.034175076718252, 26.10353046031176, 9.222097727692846, 7.67928444515273, 7.378569693792185, 5.394091359675053, 4.515579039134875, 17.324659325850998, 18.751642573505485, 14.282908816573721, 15.419367427831768, 21.276569966739103, 7.7130777175198215, 21.471862052261258, 218.39769964721694, 4.610130712507978, 5.6001661911302225, 86.173593324957, 4.209650343278868, 225.5970752457649, 8.459425105100761, 473.76410301665214, 7.039853845270433, 10.593277692339225, 194.76289483353, 323.1272439780377, 349.8406618463439, 535.0101997452914, 1886.8210007148257, 301.3873673994067, 241.0060417557006, 459.46184378680357, 119.15730480669974, 70.19025504093466, 137.3652368132464, 46.505331693212895, 29.865789928170106, 19.888438654626047, 14.28240116127354, 11.033460086496945, 11.062288899554922, 10.692894046450414, 8.906125040592702, 7.652153969942756, 7.651180474334658, 7.1931776159091685, 168.6785338359204, 29.997880880170285, 9.905281474227035, 4.81319873516688, 4.614548723772318, 4.522326665911073, 4.524752835719674, 4.522679274845968, 4.525660059237684, 4.350250597209005, 4.173994374562629, 4.17613275107317, 3.608788057833562, 16.41643291335768, 7.444260965391551, 36.60024813636029, 2.965513199841898, 2.7772608075146525, 18.256843240533236, 64.62705736092052, 8.52125754670499, 243.9594390029779, 1886.8210007148257, 12.858089237874509, 301.3873673994067, 107.4729516539325, 18.429941639191394, 57.380716069223496, 23.955085563262685, 194.76289483353, 179.6171044459478, 535.0101997452914, 323.1272439780377, 349.8406618463439, 459.46184378680357, 66.07383981171007, 126.24089557356943, 37.37881268189219, 19.909289836444714, 16.344230545713227, 15.240895740181813, 16.124385612698255, 14.251082622440075, 46.52496928725881, 12.34993500251318, 10.478579457543992, 11.990024132890591, 8.49928480418378, 6.6977044971338975, 5.983192056349899, 4.808006012493035, 5.706863275516929, 4.628455542580993, 5.705364072302449, 5.683997730493625, 4.185964754708394, 3.862460108467049, 2.9208900635639163, 8.236678445353679, 45.644162453659355, 24.83950953927239, 5.390655048720809, 5.394047321785173, 9.74925844887344, 4.769748328888725, 8.698074634230194, 194.76289483353, 106.18200664195649, 21.703668228814028, 21.54034152007771, 473.76410301665214, 1886.8210007148257, 218.39769964721694, 225.5970752457649, 535.0101997452914, 459.46184378680357, 119.15730480669974, 301.3873673994067, 349.8406618463439, 23.67659491272082, 83.23350644748675, 44.72859061782738, 36.06538733589518, 28.922400611019818, 16.26427667869562, 17.952636277299586, 59.80809312179517, 12.734900884625187, 9.586452600327897, 9.730757324944358, 8.21794406095166, 8.166444901872948, 7.5099648289617065, 7.7990475911535935, 7.465989008947201, 6.384858732586809, 6.111763700703204, 5.729032567273738, 7.269248665192086, 5.355003504626975, 5.491012199998405, 5.068466404650094, 5.071364376629236, 14.57810150059359, 4.597868016454886, 3.7130706633533714, 6.747953202871048, 9.853075194875919, 2.8157241423254655, 2.815158420042193, 11.535471948622279, 24.43847580063489, 21.471862052261258, 1886.8210007148257, 243.9594390029779, 36.60024813636029, 70.19025504093466, 107.4729516539325, 73.32241595549456, 57.05492152772649, 14.265921414304753, 18.235062812920845, 13.252272932667372, 11.214561487045884, 16.623505617812953, 10.194659213699792, 15.660333528293044, 9.17939461326134, 7.132404203522961, 8.164996846017406, 6.124778613012196, 5.534273753008837, 5.105515804504666, 5.105954491014639, 4.523241591981244, 4.520999698265051, 5.116018458687197, 3.6922670913816127, 70.89156865853876, 7.833102596281524, 13.53242752001316, 70.19025504093466, 5.390655048720809, 5.394047321785173, 10.279046104404635, 7.544608778791978, 18.429941639191394, 13.914772247258727, 1886.8210007148257, 119.15730480669974, 33.40558805449401, 21.2677413201598, 12.219383240656654, 8.299569838549127, 11.658471031606203, 8.103900703426492, 8.111207558100581, 8.113442208621372, 8.895192526890964, 8.109502130475423, 7.558159037014926, 7.030160435896472, 6.625200533562042, 6.9249872609004965, 45.5262081287139, 5.1641525906908585, 4.573057169282839, 4.574594790158094, 4.574093438189082, 4.07668529349702, 4.0294429697194465, 3.9798297435492245, 3.097245587675481, 2.897413160696754, 2.89731713325842, 2.8027181570830346, 2.8042341181294193, 10.593277692339225, 23.955085563262685, 6.798719408477582, 9.036636639680856, 243.9594390029779, 70.19025504093466, 64.62705736092052, 1886.8210007148257, 38.74051567415221, 24.43847580063489, 18.429941639191394, 349.8406618463439, 52.131216690240834, 33.168670866418246, 18.460652641716727, 13.393822630938686, 14.98061068189969, 10.484384528739596, 8.88517785378884, 10.329557738595314, 9.031492200858228, 9.07862591682657, 8.003767026443407, 7.723192785034652, 7.999465547022296, 8.006242602734833, 6.269306007999022, 5.583119399566694, 5.678642472700539, 4.517240526846024, 4.52195839672172, 4.434223039116394, 18.620151123455784, 3.345504157374412, 4.363868032859079, 11.40235316144837, 40.161492062772716, 12.807763715075378, 2.7641631024858047, 2.837042959999031, 18.256843240533236, 6.6639072842536216, 6.663031896842146, 349.8406618463439, 1886.8210007148257], \"loglift\": [30.0, 29.0, 28.0, 27.0, 26.0, 25.0, 24.0, 23.0, 22.0, 21.0, 20.0, 19.0, 18.0, 17.0, 16.0, 15.0, 14.0, 13.0, 12.0, 11.0, 10.0, 9.0, 8.0, 7.0, 6.0, 5.0, 4.0, 3.0, 2.0, 1.0, 1.6267, 1.6222, 1.614, 1.6118, 1.5949, 1.5909, 1.5856, 1.5698, 1.5693, 1.5574, 1.5558, 1.5557, 1.5557, 1.5556, 1.5381, 1.5355, 1.5317, 1.502, 1.4679, 1.4469, 1.4454, 1.4452, 1.442, 1.4415, 1.4386, 1.4299, 1.4255, 1.4077, 1.3986, 1.3979, 1.356, 1.3416, 1.3688, 1.1414, 1.0288, 0.7636, 0.7458, 1.0285, 0.7077, 0.7907, 0.5069, 0.7248, -0.1358, 0.7831, 0.4017, 0.6708, 0.3116, 0.5478, 1.0017, 0.2695, 0.3792, 0.103, 0.0465, -1.0025, 1.8913, 1.8581, 1.8534, 1.8499, 1.8489, 1.8483, 1.8445, 1.8401, 1.8361, 1.834, 1.834, 1.8194, 1.8157, 1.8069, 1.7981, 1.7918, 1.7861, 1.7839, 1.7839, 1.7805, 1.7804, 1.771, 1.757, 1.7553, 1.7523, 1.7517, 1.7479, 1.7477, 1.7476, 1.7476, 1.7269, 1.6986, 1.5697, 1.4649, 1.2937, 1.1894, 1.4086, 0.579, 1.0125, 1.381, 0.4097, 0.6153, 0.8692, 0.3867, -0.6441, -0.1566, 0.5134, -1.0568, -1.2453, -0.5814, -0.5032, 0.1413, -1.0611, 2.1606, 2.1544, 2.1529, 2.147, 2.1457, 2.1408, 2.1356, 2.1287, 2.1195, 2.118, 2.1133, 2.1087, 2.1084, 2.1043, 2.1031, 2.0973, 2.0579, 2.0553, 2.053, 2.0471, 2.0456, 2.0396, 2.0351, 2.0327, 2.0275, 2.0175, 2.0138, 2.0065, 2.0019, 1.9915, 1.715, 1.7846, 1.7329, 1.7162, 1.3891, 1.1653, 1.5954, -0.0429, 1.6027, 0.5567, 0.064, 0.074, 0.0138, 0.2347, 0.5991, 0.2449, 0.6169, 0.5395, 0.7989, -0.1022, 0.5289, -0.293, 2.2434, 2.2425, 2.2408, 2.2147, 2.2092, 2.208, 2.1982, 2.1804, 2.1746, 2.1623, 2.1552, 2.1544, 2.1458, 2.145, 2.1405, 2.1397, 2.1381, 2.1304, 2.0826, 2.0824, 2.0816, 2.0624, 2.0527, 2.0518, 2.0426, 2.0413, 2.0109, 2.0104, 2.0103, 2.0103, 1.9831, 1.804, 1.6354, 1.302, 0.686, 0.5151, 0.2563, 0.176, -0.4236, -0.0593, -1.3676, 0.0788, 2.4051, 2.3991, 2.3895, 2.3806, 2.3798, 2.3713, 2.3683, 2.3639, 2.3614, 2.3557, 2.3378, 2.3314, 2.3163, 2.3147, 2.307, 2.3068, 2.2893, 2.2645, 2.2445, 2.2429, 2.1972, 2.1937, 2.1717, 2.1365, 2.0817, 1.9716, 1.8852, 1.8743, 1.8454, 1.783, 1.6321, 1.1642, 1.1799, 1.5402, 0.3724, 0.3039, 1.2499, -0.3887, 0.6098, 1.2882, -0.3554, 0.3943, -0.51, -0.7025, 2.5268, 2.5259, 2.515, 2.5064, 2.5002, 2.429, 2.4094, 2.4014, 2.3474, 2.3056, 2.2086, 2.2073, 2.1874, 2.1231, 2.0274, 1.9364, 1.7896, 1.7894, 1.5443, 1.541, 1.3464, 1.3223, 1.3206, 1.2966, 0.9273, 0.8313, 0.4962, 0.4882, 0.3625, 0.2533, 0.2385, 0.0354, 0.2298, -0.0538, -0.4171, 0.0788, 0.1622, -0.6462, 2.5878, 2.5849, 2.5686, 2.5419, 2.5245, 2.5236, 2.5232, 2.5028, 2.4839, 2.4835, 2.4668, 2.439, 2.4196, 2.4067, 2.3879, 2.3866, 2.3809, 2.3809, 2.3802, 2.3783, 2.369, 2.3588, 2.3584, 2.3037, 2.2589, 2.2558, 2.2385, 2.2248, 2.1941, 2.1625, 2.0723, 2.1529, 1.2804, 0.5169, 1.9221, 0.4547, 0.5354, 1.48, 0.6227, 1.2073, -0.2918, -0.3266, -1.4047, -1.0173, -1.2143, -1.543, 2.8939, 2.8888, 2.8721, 2.8537, 2.8489, 2.8442, 2.8417, 2.8354, 2.8321, 2.8208, 2.8154, 2.7974, 2.7895, 2.7527, 2.7102, 2.6873, 2.6758, 2.6752, 2.6731, 2.6549, 2.6538, 2.623, 2.5166, 2.4458, 2.4142, 2.3799, 2.1073, 2.1053, 2.0885, 2.0678, 1.9223, 0.7413, 0.8918, 1.5188, 1.517, -0.0838, -0.9199, 0.0686, 0.0334, -0.564, -0.7757, 0.1727, -0.7104, -1.0729, 1.4181, 3.0057, 2.9939, 2.9887, 2.9842, 2.9517, 2.948, 2.9349, 2.9265, 2.9049, 2.904, 2.8939, 2.8906, 2.8821, 2.8815, 2.8799, 2.848, 2.8462, 2.8341, 2.8282, 2.8208, 2.8136, 2.8091, 2.8088, 2.7932, 2.77, 2.7018, 2.6779, 2.6691, 2.6047, 2.6041, 2.5294, 2.3397, 2.3007, 0.1274, 0.698, 1.5505, 0.8396, -0.1248, 3.247, 3.2241, 3.195, 3.1887, 3.1874, 3.1734, 3.1708, 3.1666, 3.1656, 3.1541, 3.1129, 3.0966, 3.0938, 3.0761, 3.0547, 3.0538, 3.0255, 3.0179, 2.9848, 2.9682, 2.91, 2.7946, 2.6998, 2.5915, 2.3317, 2.3312, 1.7032, 1.5797, 1.4425, 1.382, 0.2637, -0.2955, 3.3702, 3.3616, 3.3243, 3.2831, 3.283, 3.2823, 3.2806, 3.2803, 3.2799, 3.2779, 3.2711, 3.2534, 3.2497, 3.2404, 3.2385, 3.1996, 3.1753, 3.175, 3.1749, 3.1434, 3.1383, 3.1346, 3.0378, 3.008, 3.0048, 2.9949, 2.9944, 2.9691, 2.9572, 2.8799, 2.6574, 1.4755, 1.6186, 1.6279, -0.2189, 1.6924, 1.9408, 1.8749, -1.0414, 3.5575, 3.5331, 3.5227, 3.4881, 3.4818, 3.4722, 3.4654, 3.4621, 3.456, 3.4554, 3.4495, 3.4475, 3.4464, 3.4119, 3.411, 3.3932, 3.3926, 3.3413, 3.3405, 3.3316, 3.2766, 3.1548, 3.1271, 2.9896, 2.7903, 2.6106, 2.5119, 2.4852, 2.4228, 2.3836, 2.383, 0.5076, -0.573], \"logprob\": [30.0, 29.0, 28.0, 27.0, 26.0, 25.0, 24.0, 23.0, 22.0, 21.0, 20.0, 19.0, 18.0, 17.0, 16.0, 15.0, 14.0, 13.0, 12.0, 11.0, 10.0, 9.0, 8.0, 7.0, 6.0, 5.0, 4.0, 3.0, 2.0, 1.0, -4.0487, -4.1667, -4.5504, -4.2631, -5.0003, -5.0228, -5.1115, -5.4094, -5.4212, -5.5591, -5.5696, -5.586, -5.5861, -5.586, -5.7669, -5.7868, -5.8139, -6.0726, -6.2801, -6.4103, -6.4289, -6.429, -6.4501, -6.4498, -5.8023, -4.7836, -6.5287, -6.6172, -5.616, -6.668, -4.5031, -3.9225, -5.7384, -4.0373, -3.8563, -2.5988, -2.6473, -4.1527, -2.5332, -2.9545, -3.1588, -3.7962, -2.1163, -4.3032, -3.7027, -4.1872, -3.7268, -4.1949, -4.8286, -3.8673, -4.2213, -3.9232, -4.2049, -4.8173, -3.2942, -4.611, -4.7046, -4.7636, -4.7097, -4.8551, -4.9239, -4.9846, -5.0475, -5.078, -5.0505, -5.2342, -5.1917, -5.4114, -5.4846, -5.5056, -4.5173, -5.6322, -5.6324, -5.6358, -4.545, -5.7352, -4.819, -5.7752, -5.8805, -5.8887, -5.915, -5.9152, -5.915, -5.9151, -3.3236, -3.1473, -4.4148, -4.0611, -3.0387, -2.6253, -4.4558, -1.4016, -3.2389, -4.9523, -4.1113, -4.4709, -4.7891, -4.4713, -4.0066, -4.2611, -4.6652, -4.4499, -4.4862, -4.6076, -4.6401, -4.7438, -4.7268, -3.8444, -3.9614, -4.0548, -2.7647, -4.2368, -4.3086, -4.4589, -4.613, -4.7582, -4.6555, -4.8435, -4.8798, -4.8882, -4.9647, -3.779, -5.051, -5.178, -4.9688, -5.4539, -5.473, -4.5897, -5.5483, -5.5991, -5.5388, -5.6496, -5.6603, -5.7179, -5.2362, -5.6328, -5.6434, -3.9433, -4.8185, -4.653, -4.737, -3.7921, -3.167, -4.7633, -2.0234, -4.843, -3.4695, -3.1769, -3.2884, -3.3793, -3.58, -3.9219, -3.7934, -4.2411, -4.3456, -4.4652, -4.2066, -4.5573, -4.4299, -2.6702, -2.3594, -2.373, -2.9709, -4.2345, -4.2565, -4.4889, -4.646, -4.7895, -4.9428, -4.0594, -5.0487, -5.1511, -5.1519, -5.1876, -5.1994, -5.2103, -5.2888, -5.6274, -5.6278, -5.6285, -5.7542, -5.807, -5.8075, -5.8802, -5.8716, -6.0238, -6.0235, -6.0242, -6.0236, -4.8064, -3.2628, -2.9651, -2.7364, -2.7071, -2.7258, -3.4888, -3.4897, -3.7861, -4.1637, -3.3481, -4.664, -3.5354, -2.9355, -4.0427, -4.2243, -2.7535, -4.3754, -4.4461, -4.5193, -4.5522, -4.5804, -4.84, -4.9125, -5.0219, -5.0507, -5.1344, -5.1146, -5.2673, -5.4501, -5.5691, -5.5894, -5.8155, -5.819, -4.1903, -4.6858, -3.572, -5.2833, -3.9811, -5.4416, -5.7893, -4.4556, -3.8414, -2.5015, -2.5652, -4.3925, -3.0208, -2.937, -4.2761, -2.3692, -3.9112, -4.5762, -3.7179, -4.3484, -4.5483, -4.5173, -2.6848, -2.8837, -3.4095, -3.6834, -3.7609, -4.8725, -5.0753, -5.1232, -5.4905, -5.7101, -4.4624, -4.3846, -4.6767, -4.6645, -4.4382, -5.5438, -4.6669, -2.3475, -6.4506, -6.2593, -3.7204, -6.7635, -2.7838, -6.0913, -2.4351, -6.7403, -6.6667, -3.7632, -3.3826, -3.4124, -3.0024, -1.9452, -3.585, -4.0921, -3.8102, -4.6639, -5.1098, -5.2468, -3.0958, -3.5416, -3.9644, -4.3223, -4.5978, -4.596, -4.6304, -4.8336, -5.0043, -5.0048, -5.0833, -1.9562, -3.7025, -4.8234, -5.5639, -5.6074, -5.6332, -5.6327, -5.6339, -5.6351, -5.6839, -5.7355, -5.7354, -5.9361, -4.4659, -5.2599, -3.6846, -6.2113, -6.3077, -4.4561, -3.2823, -5.2277, -2.7457, -1.4636, -5.0471, -3.3601, -4.3105, -5.1292, -4.8508, -5.1397, -4.5432, -4.6589, -4.6456, -4.7624, -4.88, -4.9361, -2.4385, -1.7962, -3.0299, -3.6783, -3.8804, -3.955, -3.9011, -4.0309, -2.8511, -4.1887, -4.3584, -4.2417, -4.5937, -4.8687, -5.024, -5.2656, -5.1057, -5.3157, -5.1087, -5.1306, -5.4377, -5.5489, -5.9346, -4.9688, -3.2881, -3.9308, -5.7312, -5.7326, -5.1575, -5.8931, -5.4377, -3.5101, -3.9662, -4.9269, -4.9362, -3.4462, -2.9005, -4.0683, -4.071, -3.8049, -4.1688, -4.57, -4.5252, -4.7386, -4.9406, -2.0958, -2.7287, -2.9492, -3.1743, -3.7825, -3.6874, -2.4971, -4.0523, -4.3579, -4.3439, -4.5229, -4.5326, -4.6248, -4.5877, -4.6329, -4.8213, -4.8668, -4.9436, -4.7113, -5.0243, -5.0065, -5.0911, -5.0908, -4.0505, -5.2276, -5.5095, -4.936, -4.5663, -5.8833, -5.884, -4.5484, -3.9873, -4.1558, -1.8531, -3.3281, -4.3726, -4.4324, -4.9707, -1.9813, -2.2551, -3.6703, -3.4311, -3.7516, -3.9325, -3.5416, -4.0348, -3.6065, -4.1522, -4.4456, -4.3267, -4.617, -4.7361, -4.8382, -4.839, -4.9884, -4.9966, -4.9061, -5.2487, -2.352, -4.6702, -4.2183, -2.6805, -5.5068, -5.5067, -5.4899, -5.9226, -5.1667, -5.5082, -1.7168, -5.0382, -2.6442, -3.1044, -3.6958, -4.1239, -3.7841, -4.1485, -4.1493, -4.1494, -4.0578, -4.1523, -4.2294, -4.3196, -4.3826, -4.3476, -2.4664, -4.6818, -4.8277, -4.8276, -4.8278, -4.9745, -4.9912, -5.0073, -5.3549, -5.4514, -5.4546, -5.4977, -5.4977, -4.1939, -3.3898, -4.7266, -4.6645, -2.5507, -3.6534, -3.7267, -2.1994, -4.1739, -4.3862, -4.7343, -4.7071, -2.0119, -2.4884, -3.0848, -3.4403, -3.3346, -3.701, -3.8734, -3.726, -3.8664, -3.8618, -3.9938, -4.0315, -3.9974, -4.031, -4.2765, -4.4102, -4.3939, -4.674, -4.6737, -4.7023, -3.3224, -5.1608, -4.9227, -4.0998, -3.0399, -4.3626, -5.9945, -5.9953, -4.1958, -5.2429, -5.2436, -3.1581, -2.5535]}, \"token.table\": {\"Topic\": [8, 9, 12, 9, 9, 5, 4, 8, 7, 7, 3, 12, 1, 12, 1, 2, 3, 4, 5, 6, 7, 2, 3, 1, 2, 3, 4, 5, 6, 7, 8, 10, 7, 12, 1, 4, 7, 7, 1, 3, 8, 12, 6, 9, 6, 7, 1, 1, 8, 3, 7, 1, 8, 1, 3, 6, 1, 9, 9, 11, 11, 5, 3, 5, 3, 3, 12, 12, 7, 12, 6, 4, 4, 7, 8, 9, 7, 12, 7, 12, 12, 7, 4, 8, 1, 12, 1, 4, 10, 2, 1, 3, 8, 8, 9, 5, 6, 9, 5, 8, 10, 8, 10, 9, 3, 3, 6, 7, 12, 8, 8, 1, 2, 3, 4, 5, 6, 7, 8, 11, 12, 2, 3, 5, 8, 7, 4, 4, 6, 6, 5, 4, 4, 2, 5, 4, 2, 5, 8, 3, 1, 8, 4, 1, 8, 1, 2, 5, 1, 1, 2, 3, 5, 6, 8, 1, 2, 3, 4, 5, 6, 8, 11, 3, 3, 6, 1, 3, 9, 10, 7, 11, 12, 2, 9, 1, 3, 1, 12, 1, 2, 11, 5, 2, 5, 1, 2, 3, 4, 5, 6, 8, 1, 9, 4, 9, 1, 1, 2, 3, 1, 2, 7, 9, 9, 1, 2, 3, 4, 5, 6, 7, 8, 1, 2, 3, 5, 7, 8, 2, 6, 3, 12, 12, 2, 1, 7, 11, 5, 1, 4, 7, 4, 1, 11, 3, 12, 12, 11, 9, 9, 12, 11, 11, 11, 3, 5, 11, 5, 3, 5, 8, 11, 2, 4, 5, 5, 1, 2, 3, 4, 5, 6, 7, 8, 1, 2, 3, 7, 9, 11, 1, 2, 3, 4, 5, 6, 7, 8, 11, 4, 11, 1, 2, 3, 4, 5, 6, 7, 8, 1, 2, 3, 4, 5, 6, 7, 8, 4, 6, 11, 6, 8, 9, 9, 6, 2, 3, 11, 1, 5, 7, 11, 1, 4, 5, 7, 11, 3, 1, 3, 5, 9, 11, 5, 6, 9, 10, 1, 2, 3, 5, 8, 11, 5, 12, 5, 11, 6, 10, 2, 12, 8, 1, 11, 1, 5, 6, 9, 10, 11, 10, 10, 9, 10, 1, 3, 7, 9, 7, 11, 7, 9, 10, 11, 1, 2, 7, 9, 9, 6, 9, 8, 2, 9, 3, 7, 9, 6, 3, 6, 12, 5, 9, 11, 3, 12, 4, 7, 10, 11, 8, 8, 8, 8, 3, 7, 3, 7, 4, 2, 11, 11, 2, 1, 3, 1, 2, 3, 5, 6, 8, 2, 2, 2, 9, 10, 1, 3, 1, 1, 1, 1, 12, 1, 3, 8, 11, 1, 4, 6, 1, 7, 11, 7, 9, 3, 3, 8, 1, 9, 9, 1, 12, 11, 9, 11, 7, 5, 7, 1, 4, 5, 8, 1, 3, 7, 10, 8, 1, 2, 6, 12, 1, 6, 8, 1, 2, 3, 4, 5, 6, 7, 8, 9, 10, 11, 12, 4, 6, 11, 6, 1, 2, 2, 2, 7, 11, 7, 2, 7, 3, 3, 11, 3, 1, 2, 3, 4, 5, 6, 8, 1, 5, 8, 11, 12, 11, 12, 8, 7, 7, 7, 1, 3, 5, 4, 6, 11, 1, 2, 4, 5, 6, 7, 8, 12, 5, 7, 11, 5, 9, 5, 1, 2, 12, 1, 4, 4, 4, 9, 3, 5, 11, 11, 3, 4, 2, 12, 7, 4, 12, 1, 2, 3, 5, 10, 10, 10, 10, 5, 8, 5, 10, 10, 10, 2, 3, 11, 2, 2, 2, 3, 7, 11, 5, 11, 1, 5, 9, 1, 1, 5, 7, 9, 1, 2, 9, 1, 12, 10, 4, 4, 3, 8, 4, 1, 1, 3, 4, 7, 8, 9, 9, 3, 11, 12, 12, 4, 6, 6, 5, 7, 1, 7, 2, 3, 2, 12, 2, 2, 4, 1, 4, 4, 3, 7, 9, 10, 10, 4, 10, 10, 1, 2, 3, 4, 5, 6, 11, 1, 3, 10, 10, 10, 2, 7, 11, 12, 4, 7, 1, 12, 1, 1, 7, 1, 2, 3, 4, 5, 8, 2, 4, 1, 4, 1, 3, 8, 12, 5, 11, 5, 10, 11, 3, 5, 4, 2, 8, 2, 8, 6, 1, 1, 10], \"Freq\": [0.8356743278353488, 0.8571661333800921, 0.8857893936109241, 0.9375850930949989, 0.9320949111512401, 0.7374150080019761, 0.6766014081038322, 0.8319457150441312, 0.6896154446653517, 0.9352005132155569, 0.9073394426421247, 0.797536440815058, 0.9630978232495495, 0.8845724902953278, 0.2839146271994717, 0.021839586707651668, 0.08735834683060667, 0.5387098054554078, 0.029119448943535558, 0.043679173415303335, 0.9147751113602286, 0.8979377553450281, 0.9514502739450194, 0.33569070788307187, 0.13427628315322876, 0.09231494466784476, 0.11749174775907516, 0.12588401545615197, 0.08392267697076797, 0.016784535394153595, 0.06713814157661438, 0.025176803091230392, 0.6572877820059275, 0.32864389100296376, 0.9065087346774287, 0.1666784403862736, 0.8333922019313681, 0.9676309868480609, 0.12670740919709608, 0.549065439854083, 0.21117901532849345, 0.08447160613139738, 0.4657257938627113, 0.4657257938627113, 0.35713225853327063, 0.535698387799906, 0.924060107283638, 0.9533044944746155, 0.9543283640996464, 0.8178529183974161, 0.10223161479967702, 0.37244631265300143, 0.6134409855461199, 0.8035875590510083, 0.10958012168877386, 0.03652670722959129, 0.8548388769067891, 0.7891933536996866, 0.7887423783693224, 0.6902709034147726, 0.7538010903261884, 0.93268923398946, 0.9302760923586323, 0.9028476386075418, 0.9805155042747415, 0.9592829943994724, 0.8959354122161463, 0.8750584596999315, 0.8076499411768897, 0.10095624264711121, 0.7415521416457739, 0.9385063138079627, 0.8634411529069167, 0.6700603022627131, 0.24365829173189568, 0.9681077437718509, 0.6002484472513204, 0.3001242236256602, 0.60032730773745, 0.300163653868725, 0.8955567026540844, 0.8668236569685769, 0.9856330365706013, 0.9174293461032499, 0.7560301823749249, 0.9208775187928082, 0.926612999178159, 0.8157253826613826, 0.7834663828619912, 0.8888009180466276, 0.5334245156557277, 0.4553623914134261, 0.9837478824483308, 0.9543278304580263, 0.8253947933753142, 0.21004124849686326, 0.7001374949895441, 0.922266652020764, 0.9212726108815023, 0.3707790978997372, 0.3707790978997372, 0.3710124246355915, 0.3710124246355915, 0.9704595620733893, 0.9226213864945324, 0.8335584136826782, 0.9849533418211502, 0.831304014511999, 0.9783005891275773, 0.9122113978575851, 0.7767070508828255, 0.3201457469491993, 0.051451995045407026, 0.022867553353514234, 0.12577154344432828, 0.28012752858054935, 0.10004554592162476, 0.022867553353514234, 0.020009109184324955, 0.011433776676757117, 0.04573510670702847, 0.8512090090584142, 0.04025844384805403, 0.36232599463248627, 0.6038766577208105, 0.8310481698531641, 0.9090471705219755, 0.21331464613407616, 0.6932725999357475, 0.9115432629167026, 0.9246188106249299, 0.8156916116361298, 0.7575607526131792, 0.9061449957516716, 0.8832178571288131, 0.7578999950875874, 0.6183402972228579, 0.30917014861142894, 0.05152835810190483, 0.9453315594262512, 0.8704132352860993, 0.6847227921887978, 0.6770426296007241, 0.2428163261767494, 0.6070408154418735, 0.03673560506317482, 0.6428730886055593, 0.3122526430369859, 0.7828446942178184, 0.251834154337902, 0.09157605612287346, 0.08241845051058612, 0.04120922525529306, 0.47161668903279835, 0.05952443647986775, 0.2881243027161995, 0.12854776582722746, 0.10195167634573213, 0.09751899476548291, 0.03102877106174456, 0.29698966587669795, 0.0576248605432399, 0.8746883872058159, 0.7566437521990211, 0.3760004555483385, 0.61100074026605, 0.397634932169452, 0.13254497738981733, 0.26508995477963465, 0.13254497738981733, 0.8840261877782302, 0.3524796818728263, 0.3524796818728263, 0.778107583473903, 0.8180944560118895, 0.8164565613595488, 0.1020570701699436, 0.36177315264092147, 0.36177315264092147, 0.8856920858576643, 0.8638820207671731, 0.8664275866436446, 0.9277304949970027, 0.8179749274014243, 0.9338996014467693, 0.425950916757093, 0.2721353079281428, 0.189311518558708, 0.0236639398198385, 0.03549590972975775, 0.047327879639677, 0.9302680027812793, 0.2600673828831338, 0.6068238933939789, 0.8072787871553629, 0.7469649639899978, 0.9011667823678398, 0.698603454223504, 0.7262893661147831, 0.2614641718013219, 0.009304666752059093, 0.809506007429141, 0.12096066777676821, 0.046523333760295466, 0.9388248578720518, 0.4048214286240197, 0.05223502304826061, 0.11317588327123132, 0.20894009219304244, 0.12623463903329646, 0.05223502304826061, 0.015235215055742678, 0.026117511524130305, 0.011134797023753716, 0.5400376556520552, 0.3618809032719958, 0.022269594047507432, 0.050106586606891726, 0.005567398511876858, 0.5910567134148585, 0.2364226853659434, 0.96244873841644, 0.8712860925664261, 0.9345413412896104, 0.7781020788685218, 0.23210092819529154, 0.5725156228817191, 0.1702073473432138, 0.9047406784459137, 0.01306803449962014, 0.9539665184722702, 0.01306803449962014, 0.8909376949043245, 0.8138068336489552, 0.16276136672979105, 0.229154500656343, 0.687463501969029, 0.8804921288911849, 0.6902937814579977, 0.8079566138099352, 0.7104395922308431, 0.6765559543432008, 0.9056329645578437, 0.7132072130033535, 0.7445197816533131, 0.960732772374613, 0.7385975245771236, 0.2014356885210337, 0.9725330041114365, 0.9138716150294065, 0.9546119859562574, 0.8763682626798971, 0.6457350388869303, 0.8397995563131516, 0.10497494453914395, 0.8729843698787524, 0.9730232671560785, 0.4137080009903386, 0.07809793896246188, 0.12031304110433316, 0.06965491853408762, 0.06121189810571336, 0.19841098006679503, 0.008443020428374257, 0.050658122570245545, 0.21315018682005274, 0.08198084108463567, 0.1967540186031256, 0.26233869147083416, 0.0983770093015628, 0.14346647189811243, 0.390646757948729, 0.04298983460679793, 0.11962388760152466, 0.17569758491473936, 0.11962388760152466, 0.09906353192001262, 0.01869123243773823, 0.03177509514415499, 0.0018691232437738228, 0.1317922191770619, 0.8346840547880588, 0.06967777110634578, 0.48774439774442047, 0.14267353131299373, 0.01327195640120872, 0.043133858303928345, 0.09953967300906541, 0.11612961851057631, 0.02654391280241744, 0.20024348084030344, 0.4107558581339558, 0.035941137586721135, 0.02567224113337224, 0.02567224113337224, 0.12836120566686118, 0.05647893049341892, 0.11295786098683784, 0.18879897781272614, 0.09439948890636307, 0.6607964223445415, 0.4338271786033527, 0.4338271786033527, 0.7102968539908988, 0.783102682363383, 0.9577248578697205, 0.3564407856163155, 0.6290131510876155, 0.8993622089477302, 0.2712957658338046, 0.7095427721807197, 0.6744195237797718, 0.9403913513393121, 0.29626678028017944, 0.052282372990619906, 0.45311389925203915, 0.13941966130831973, 0.052282372990619906, 0.8095210065084858, 0.02581276946365489, 0.10325107785461957, 0.5678809282004077, 0.10325107785461957, 0.18068938624558425, 0.2308847709363842, 0.6926543128091526, 0.8231524522936944, 0.1371920753822824, 0.3966766798352963, 0.22187000736550472, 0.20170000669591337, 0.1613600053567307, 0.006723333556530446, 0.006723333556530446, 0.35080478067668486, 0.5262071710150273, 0.8395828906257101, 0.9579235649975358, 0.017526971788297676, 0.9639834483563722, 0.7779755067497715, 0.5978172215363862, 0.9631124537414709, 0.44264256265827534, 0.44264256265827534, 0.09972894379593905, 0.014246991970848435, 0.08548195182509061, 0.11397593576678748, 0.5128917109505436, 0.17096390365018121, 0.9023367480278479, 0.893978405677416, 0.8699684257322673, 0.8828151889477204, 0.05393129960192529, 0.6471755952231034, 0.16179389880577585, 0.05393129960192529, 0.2941730463984326, 0.5883460927968652, 0.2955862866499292, 0.0738965716624823, 0.5911725732998584, 0.7135929793531313, 0.09133428264881657, 0.8334253291704512, 0.03425035599330621, 0.03425035599330621, 0.9469361344715619, 0.6485350353575545, 0.2594140141430218, 0.864219168403086, 0.92851895327701, 0.9422923750029, 0.852204304079555, 0.8844314966676983, 0.8975454910597099, 0.885822164850501, 0.7565682903238602, 0.9791141307809202, 0.8743177477046332, 0.2045954109736297, 0.4910289863367113, 0.24551449316835566, 0.9038201299182242, 0.0821654663562022, 0.271297657794394, 0.3255571893532728, 0.1627785946766364, 0.21703812623551522, 0.9185811804413663, 0.917755042554402, 0.9412556684842462, 0.7166806640274707, 0.9178704475173189, 0.05244973985813251, 0.959223517553669, 0.8982582170738982, 0.8157823507884782, 0.912982815366256, 0.8434172054902175, 0.7745704507668084, 0.9279532501028066, 0.11138352565049132, 0.8910682052039306, 0.5969653880590929, 0.24657266028527752, 0.11679757592460514, 0.025955016872134477, 0.015842726645062966, 0.982249051993904, 0.9539536474464895, 0.9542619328740656, 0.7779849048551545, 0.9249023174104759, 0.8916978173021884, 0.7350237639430889, 0.2544313029033769, 0.7689693887039221, 0.7690819798930405, 0.9478224482007118, 0.9795025717342123, 0.8811906199563289, 0.0928490385417429, 0.6035187505213288, 0.23212259635435722, 0.8534655865552649, 0.046417932056241035, 0.6382465657733143, 0.3017165583655667, 0.7822039386919616, 0.5867678535233812, 0.2347071414093525, 0.06688058072432218, 0.91960798495943, 0.9320624486557366, 0.9785835544527807, 0.876138039166025, 0.2029823136882278, 0.7104380979087973, 0.8517945544629785, 0.5465434993745747, 0.3903882138389819, 0.874490225014649, 0.9837108523259174, 0.7358919769415341, 0.9710106469558513, 0.8832568468941524, 0.8341237100457224, 0.07314188998250536, 0.914273624781317, 0.605215524528998, 0.302607762264499, 0.3593303513095604, 0.2874642810476484, 0.0718660702619121, 0.1437321405238242, 0.895829310261081, 0.284096807115343, 0.42614521067301453, 0.1420484035576715, 0.8745881754020212, 0.38894979538267443, 0.5185997271768992, 0.7037300487543687, 0.1680074579835098, 0.26499599051026784, 0.10758837214716874, 0.026499599051026782, 0.05935910187429999, 0.0816187650771625, 0.12242814761574373, 0.02172967122184196, 0.055649158007156245, 0.049819246215930355, 0.026499599051026782, 0.01589975943061607, 0.8538252924921933, 0.8674815900049471, 0.8631849264450001, 0.8131657284538468, 0.8330552761879315, 0.9280923427573128, 0.8512766874144909, 0.8511594946206945, 0.9553288888054872, 0.8743943854012398, 0.910211094983752, 0.9433141096214204, 0.9063339987279492, 0.9711574399476831, 0.963879879720369, 0.02981071792949595, 0.8663029066431941, 0.26140423510154526, 0.06223910359560602, 0.14107530148337363, 0.3858824422927573, 0.053940556449525216, 0.07468692431472722, 0.016597094292161604, 0.7431669305403166, 0.10250578352280228, 0.02562644588070057, 0.05125289176140114, 0.02562644588070057, 0.2148210276854952, 0.7518735968992333, 0.8906929467856737, 0.7201340236352463, 0.7187359950178069, 0.7183679683623728, 0.9242065832853569, 0.03720645726457378, 0.942563584035869, 0.9841716699836432, 0.007290160518397357, 0.8577454087152531, 0.4239815817242312, 0.00309475607097979, 0.13616926712311075, 0.2847175585301407, 0.11450597462625223, 0.02785280463881811, 0.00618951214195958, 0.00618951214195958, 0.6209018462065341, 0.10348364103442234, 0.20696728206884468, 0.1481930846192784, 0.7409654230963921, 0.8194358294882357, 0.07992902083729551, 0.8792192292102508, 0.8854963503112008, 0.007377371339464567, 0.9885677594882519, 0.8634372839739514, 0.6771154412307617, 0.8727477006435205, 0.7898011646500521, 0.8998423443768472, 0.8627657435658783, 0.8630034368938285, 0.9218047728154439, 0.8908665748795254, 0.9422556178652172, 0.858419488080523, 0.8845004564026018, 0.030148931925169604, 0.9647658216054273, 0.08463629897795062, 0.028212099659316873, 0.08463629897795062, 0.09874234880760906, 0.7053024914829218, 0.8573181511287846, 0.7833990700542128, 0.8163560376496574, 0.4193093350201913, 0.4193093350201913, 0.9563179667230862, 0.9055050451322603, 0.9112625551802503, 0.8715171682937036, 0.9800175284472847, 0.7892763535854154, 0.8637815610253294, 0.928898971912701, 0.930796609740638, 0.8513713669588802, 0.13433166900636756, 0.6716583450318377, 0.9002091008489291, 0.5500073285855555, 0.33000439715133323, 0.08475708165232727, 0.7628137348709454, 0.08475708165232727, 0.9426808498299472, 0.3862126323572754, 0.4137992489542236, 0.1379330829847412, 0.027586616596948242, 0.3294070456314987, 0.5764623298551227, 0.04117588070393734, 0.7142232110429796, 0.1785558027607449, 0.8843215465411263, 0.9006590076601321, 0.6765705885449677, 0.042987669430825694, 0.9242348927627525, 0.9389596458541069, 0.9242041549071305, 0.1007834228422717, 0.017785309913342064, 0.023713746551122752, 0.835909565927077, 0.023713746551122752, 0.9851801696199717, 0.7284631420052503, 0.9292709917392092, 0.9261514564219372, 0.9003758992385977, 0.9063609047237571, 0.47509884121212154, 0.23754942060606077, 0.980921162648782, 0.8622999253856891, 0.9148915024918055, 0.981046753797376, 0.8838489739933697, 0.9313297945215149, 0.9515678307303282, 0.8987422822563811, 0.0817038438414892, 0.9263777753549632, 0.9548881747885566, 0.907431555304145, 0.9737182393731207, 0.7993315480563873, 0.9438674293002639, 0.05464443827125621, 0.6830554783907026, 0.21857775308502483, 0.8125089344166126, 0.9034609098044044, 0.96571036991374, 0.8412310672236405, 0.8847600678971542, 0.5418668018769046, 0.1741714720318622, 0.1935238578131802, 0.01935238578131802, 0.029028578671977032, 0.029028578671977032, 0.01935238578131802, 0.3037947330637907, 0.650988713708123, 0.9322698898494765, 0.9819643701279941, 0.7818580078044569, 0.04174478932079422, 0.2504687359247653, 0.6261718398119134, 0.04174478932079422, 0.4666323190794578, 0.4666323190794578, 0.5228889396633183, 0.4481905197114157, 0.8941298480097178, 0.9634078905804866, 0.9039720523301772, 0.37671166014858964, 0.21660920458543903, 0.20719141308172428, 0.03767116601485896, 0.01883558300742948, 0.13184908105200638, 0.19493852843652584, 0.7797541137461034, 0.9091852808715071, 0.9285066874818242, 0.09215032126895388, 0.5529019276137234, 0.2303758031723847, 0.09215032126895388, 0.9707497794467301, 0.015167965303855158, 0.8556437931349301, 0.6383166744647983, 0.25532666978591934, 0.4494648837293153, 0.5243756976842012, 0.8844458309827777, 0.512859519133762, 0.41028761530700963, 0.5748398594239603, 0.3449039156543762, 0.9631102012494346, 0.847285144335709, 0.6809970428092988, 0.19457058365979968], \"Term\": [\"__doc__\", \"__file__\", \"__init__\", \"a1\", \"a2\", \"abc\", \"add_piece\", \"addzeros\", \"age\", \"all\", \"alphabet\", \"american\", \"amount\", \"anamerican\", \"and\", \"and\", \"and\", \"and\", \"and\", \"and\", \"angle\", \"ans\", \"answer\", \"append\", \"append\", \"append\", \"append\", \"append\", \"append\", \"append\", \"append\", \"append\", \"area\", \"area\", \"argv\", \"array\", \"array\", \"array_num\", \"as\", \"as\", \"as\", \"as\", \"ast\", \"ast\", \"base\", \"base\", \"base_url\", \"beautifulsoup\", \"binarystring\", \"birthdays\", \"birthdays\", \"board\", \"board\", \"break\", \"break\", \"break\", \"bs4\", \"c1\", \"c2\", \"calcsize\", \"chain\", \"chances\", \"channelschedule\", \"char\", \"character\", \"choice\", \"class\", \"cmath\", \"cn\", \"cn\", \"code\", \"col\", \"col_num\", \"collections\", \"collections\", \"color\", \"color1\", \"color1\", \"color2\", \"color2\", \"color_list\", \"colors\", \"column\", \"connect\", \"contents\", \"context\", \"continue\", \"convert_input_to_coordinate\", \"copy\", \"cos\", \"count\", \"count\", \"counter\", \"counter_dict\", \"ctime\", \"ctr\", \"ctr\", \"current\", \"currentguess\", \"d1\", \"d1\", \"d2\", \"d2\", \"data\", \"date\", \"datetime\", \"day\", \"days\", \"decimal\", \"decimalnumber\", \"decimalnumbercopy\", \"def\", \"def\", \"def\", \"def\", \"def\", \"def\", \"def\", \"def\", \"def\", \"def\", \"degree\", \"denary\", \"denary\", \"denary\", \"diameter\", \"dic\", \"dict\", \"dict\", \"difference\", \"digits\", \"display_game\", \"display_winner\", \"displaylist\", \"displayresult\", \"draw_line\", \"each\", \"each\", \"each\", \"eachchar\", \"eachnumber\", \"eachzero\", \"edge\", \"elem\", \"elem\", \"element\", \"element\", \"element\", \"element_to_find\", \"elif\", \"elif\", \"elif\", \"elif\", \"elif\", \"elif\", \"else\", \"else\", \"else\", \"else\", \"else\", \"else\", \"else\", \"emailaddress\", \"encoding\", \"end\", \"end\", \"enumerate\", \"enumerate\", \"enumerate\", \"enumerate\", \"environ\", \"error\", \"error\", \"euroholidaymoney\", \"evennumbers\", \"except\", \"except\", \"exception\", \"exception\", \"exit\", \"exitlist\", \"exp\", \"f1\", \"fabs\", \"fact\", \"false\", \"false\", \"false\", \"false\", \"false\", \"false\", \"fib\", \"file\", \"file\", \"fill\", \"filter\", \"find\", \"find_all\", \"finished\", \"finished\", \"float\", \"float\", \"float\", \"float\", \"fn\", \"for\", \"for\", \"for\", \"for\", \"for\", \"for\", \"for\", \"for\", \"format\", \"format\", \"format\", \"format\", \"format\", \"format\", \"formula\", \"formula\", \"found\", \"fraction\", \"fractions\", \"fridgev\", \"from\", \"from\", \"from\", \"func\", \"game\", \"game\", \"game\", \"game_slices\", \"get\", \"get\", \"getattr\", \"getattr\", \"getcontext\", \"gethostname\", \"getmtime\", \"getsize\", \"getstring\", \"glob\", \"group\", \"groupby\", \"guess\", \"guessed\", \"guessed\", \"guessedcharacters\", \"guesses\", \"hangman\", \"happieslist\", \"heapq\", \"height\", \"height\", \"hexnumber\", \"hexseg\", \"if\", \"if\", \"if\", \"if\", \"if\", \"if\", \"if\", \"if\", \"import\", \"import\", \"import\", \"import\", \"import\", \"import\", \"in\", \"in\", \"in\", \"in\", \"in\", \"in\", \"in\", \"in\", \"in\", \"index\", \"index\", \"input\", \"input\", \"input\", \"input\", \"input\", \"input\", \"input\", \"input\", \"int\", \"int\", \"int\", \"int\", \"int\", \"int\", \"int\", \"int\", \"is\", \"is\", \"is\", \"is_prime\", \"is_prime\", \"isdir\", \"isfile\", \"isinstance\", \"item\", \"item\", \"itemgetter\", \"items\", \"items\", \"itemsize\", \"itertools\", \"join\", \"join\", \"join\", \"join\", \"join\", \"json\", \"key\", \"key\", \"key\", \"key\", \"key\", \"keys\", \"keys\", \"lambda\", \"lambda\", \"len\", \"len\", \"len\", \"len\", \"len\", \"len\", \"length\", \"length\", \"lengthhex\", \"letter\", \"li\", \"li\", \"liftv\", \"limit_denominator\", \"line\", \"lines\", \"lines\", \"list\", \"list\", \"list\", \"list\", \"list\", \"list\", \"list1\", \"list2\", \"listdir\", \"listx\", \"lower\", \"lower\", \"lower\", \"lower\", \"lst\", \"lst\", \"map\", \"map\", \"map\", \"match\", \"math\", \"math\", \"math\", \"math\", \"matrix\", \"max\", \"max\", \"max_of_three\", \"menuchoice\", \"min\", \"minimum\", \"minutes\", \"mn\", \"mod\", \"mode\", \"month\", \"multiply\", \"my_dict\", \"my_dict\", \"my_dict\", \"my_file\", \"my_file\", \"my_list\", \"my_list\", \"my_list\", \"my_list\", \"n1\", \"n2\", \"n3\", \"n4\", \"name\", \"name\", \"names\", \"new_list\", \"new_row\", \"newitem\", \"next\", \"nlargest\", \"nomoreswaps\", \"none\", \"none\", \"not\", \"not\", \"not\", \"not\", \"num\", \"num\", \"num1\", \"num2\", \"num3\", \"num_list\", \"num_set\", \"number\", \"number\", \"number1\", \"number2\", \"numbers\", \"nums\", \"object\", \"open\", \"open\", \"open\", \"operator\", \"or\", \"or\", \"or\", \"ordered_list\", \"original_list\", \"original_list\", \"os\", \"os\", \"output\", \"outputstr\", \"overlaplist\", \"p1\", \"p1\", \"p2\", \"pass\", \"pass\", \"pat2\", \"path\", \"permutations\", \"pi\", \"placepower\", \"platform\", \"player\", \"player\", \"playgame\", \"playgame\", \"pop\", \"pop\", \"pop\", \"pop\", \"positionvalue\", \"pow\", \"pow\", \"pow\", \"prec\", \"prime\", \"prime\", \"primeslist\", \"print\", \"print\", \"print\", \"print\", \"print\", \"print\", \"print\", \"print\", \"print\", \"print\", \"print\", \"print\", \"printdict\", \"printlist\", \"printvalue\", \"printvalues\", \"product\", \"question\", \"questionno\", \"quizquestions\", \"quote\", \"r2\", \"radian\", \"radians\", \"radius\", \"randint\", \"random\", \"random\", \"randrange\", \"range\", \"range\", \"range\", \"range\", \"range\", \"range\", \"range\", \"raw_input\", \"raw_input\", \"raw_input\", \"raw_input\", \"raw_input\", \"re\", \"re\", \"readline\", \"release\", \"replacewith\", \"replaceword\", \"requests\", \"result\", \"result\", \"result_str\", \"result_str\", \"results\", \"return\", \"return\", \"return\", \"return\", \"return\", \"return\", \"return\", \"return\", \"reverse\", \"reverse\", \"reverse\", \"reverse_string\", \"reverse_string\", \"reversed\", \"round\", \"round\", \"rounding\", \"row\", \"row\", \"row_num\", \"row_number\", \"rsplit\", \"running\", \"runningtotal\", \"s1\", \"s2\", \"sample\", \"sample_text\", \"score\", \"search\", \"seconds\", \"self\", \"self\", \"set\", \"set\", \"set\", \"set\", \"set\", \"seta\", \"setp\", \"setq\", \"setupgame\", \"setupgame\", \"setupvalues\", \"setx\", \"sety\", \"setz\", \"shoppinglist\", \"showname\", \"shuffle\", \"sin\", \"sine\", \"sineradians\", \"sleep\", \"sleep\", \"socket\", \"sort\", \"sort\", \"sorted\", \"sorted\", \"sorted\", \"soup\", \"split\", \"split\", \"split\", \"split\", \"sqrt\", \"sqrt\", \"sqrt\", \"square\", \"square\", \"squarednumbers\", \"start\", \"start_game\", \"startplayer\", \"startplayer\", \"step\", \"story_heading\", \"str\", \"str\", \"str\", \"str\", \"str\", \"str1\", \"str2\", \"string\", \"struct\", \"student\", \"students\", \"sub\", \"sub\", \"sum\", \"sum_list\", \"sur_area\", \"sys\", \"system\", \"tan\", \"targetstr\", \"temp\", \"temp\", \"tempitem\", \"tempquestionlist\", \"test\", \"text\", \"text_without_indentation\", \"textwrap\", \"time\", \"time\", \"time\", \"timeit\", \"timer\", \"total\", \"tp\", \"tp2\", \"true\", \"true\", \"true\", \"true\", \"true\", \"true\", \"true\", \"try\", \"try\", \"tuple\", \"tuplex\", \"update\", \"upper\", \"upper\", \"upper\", \"upper\", \"user_input\", \"user_input\", \"value\", \"value\", \"valueerror\", \"values\", \"volume\", \"while\", \"while\", \"while\", \"while\", \"while\", \"while\", \"width\", \"width\", \"win\", \"winner\", \"with\", \"with\", \"with\", \"with\", \"word\", \"word\", \"word_len\", \"word_list\", \"word_list\", \"words\", \"words\", \"wrapped\", \"x1\", \"x1\", \"x2\", \"x2\", \"year\", \"yield\", \"zip\", \"zip\"]}, \"R\": 30, \"lambda.step\": 0.01, \"plot.opts\": {\"xlab\": \"PC1\", \"ylab\": \"PC2\"}, \"topic.order\": [7, 2, 9, 4, 8, 12, 3, 1, 11, 5, 10, 6]};\n",
       "\n",
       "function LDAvis_load_lib(url, callback){\n",
       "  var s = document.createElement('script');\n",
       "  s.src = url;\n",
       "  s.async = true;\n",
       "  s.onreadystatechange = s.onload = callback;\n",
       "  s.onerror = function(){console.warn(\"failed to load library \" + url);};\n",
       "  document.getElementsByTagName(\"head\")[0].appendChild(s);\n",
       "}\n",
       "\n",
       "if(typeof(LDAvis) !== \"undefined\"){\n",
       "   // already loaded: just create the visualization\n",
       "   !function(LDAvis){\n",
       "       new LDAvis(\"#\" + \"ldavis_el234321399191121832641343875556\", ldavis_el234321399191121832641343875556_data);\n",
       "   }(LDAvis);\n",
       "}else if(typeof define === \"function\" && define.amd){\n",
       "   // require.js is available: use it to load d3/LDAvis\n",
       "   require.config({paths: {d3: \"https://cdnjs.cloudflare.com/ajax/libs/d3/3.5.5/d3.min\"}});\n",
       "   require([\"d3\"], function(d3){\n",
       "      window.d3 = d3;\n",
       "      LDAvis_load_lib(\"https://cdn.rawgit.com/bmabey/pyLDAvis/files/ldavis.v1.0.0.js\", function(){\n",
       "        new LDAvis(\"#\" + \"ldavis_el234321399191121832641343875556\", ldavis_el234321399191121832641343875556_data);\n",
       "      });\n",
       "    });\n",
       "}else{\n",
       "    // require.js not available: dynamically load d3 & LDAvis\n",
       "    LDAvis_load_lib(\"https://cdnjs.cloudflare.com/ajax/libs/d3/3.5.5/d3.min.js\", function(){\n",
       "         LDAvis_load_lib(\"https://cdn.rawgit.com/bmabey/pyLDAvis/files/ldavis.v1.0.0.js\", function(){\n",
       "                 new LDAvis(\"#\" + \"ldavis_el234321399191121832641343875556\", ldavis_el234321399191121832641343875556_data);\n",
       "            })\n",
       "         });\n",
       "}\n",
       "</script>"
      ],
      "text/plain": [
       "PreparedData(topic_coordinates=            Freq  cluster  topics           x           y\n",
       "topic                                                    \n",
       "6      19.251354        1       1   78.279442   -7.158255\n",
       "1      14.864993        1       2  106.236000 -142.427795\n",
       "8      11.203457        1       3    2.462050 -216.699829\n",
       "3      10.480835        1       4  -35.561634   38.704372\n",
       "7       8.769020        1       5  -52.712276  173.096008\n",
       "11      7.872505        1       6  203.244614  -59.515961\n",
       "2       7.297163        1       7 -149.489944  -39.405064\n",
       "0       5.451762        1       8   67.609085  130.560608\n",
       "10      4.890195        1       9  183.813385   77.803146\n",
       "4       3.818280        1      10  -18.363268  -82.818771\n",
       "9       3.312187        1      11 -126.176262 -164.874771\n",
       "5       2.788247        1      12 -161.916611   87.605064, topic_info=     Category         Freq               Term        Total  loglift  logprob\n",
       "term                                                                        \n",
       "339   Default  1886.000000              print  1886.000000  30.0000  30.0000\n",
       "299   Default   126.000000                num   126.000000  29.0000  29.0000\n",
       "432   Default   168.000000                str   168.000000  28.0000  28.0000\n",
       "373   Default   137.000000         result_str   137.000000  27.0000  27.0000\n",
       "381   Default   135.000000                row   135.000000  26.0000  26.0000\n",
       "215   Default   243.000000             import   243.000000  25.0000  25.0000\n",
       "433   Default    83.000000               str1    83.000000  24.0000  24.0000\n",
       "471   Default    73.000000             tuplex    73.000000  23.0000  23.0000\n",
       "137   Default   218.000000               elif   218.000000  22.0000  22.0000\n",
       "375   Default   323.000000             return   323.000000  21.0000  21.0000\n",
       "73    Default   100.000000             column   100.000000  20.0000  20.0000\n",
       "101   Default   349.000000                def   349.000000  19.0000  19.0000\n",
       "214   Default   473.000000                 if   473.000000  18.0000  18.0000\n",
       "356   Default   100.000000             random   100.000000  17.0000  17.0000\n",
       "84    Default    66.000000            counter    66.000000  16.0000  16.0000\n",
       "97    Default    52.000000            decimal    52.000000  15.0000  15.0000\n",
       "398   Default    70.000000                set    70.000000  14.0000  14.0000\n",
       "280   Default    74.000000              month    74.000000  13.0000  13.0000\n",
       "245   Default    57.000000                 li    57.000000  12.0000  12.0000\n",
       "372   Default    80.000000             result    80.000000  11.0000  11.0000\n",
       "317   Default    59.000000                 os    59.000000  10.0000  10.0000\n",
       "172   Default   179.000000             format   179.000000   9.0000   9.0000\n",
       "184   Default    76.000000               game    76.000000   8.0000   8.0000\n",
       "216   Default   535.000000                 in   535.000000   7.0000   7.0000\n",
       "442   Default    61.000000                sum    61.000000   6.0000   6.0000\n",
       "171   Default   459.000000                for   459.000000   5.0000   5.0000\n",
       "218   Default   301.000000              input   301.000000   4.0000   4.0000\n",
       "488   Default    65.000000               word    65.000000   3.0000   3.0000\n",
       "255   Default    70.000000               list    70.000000   2.0000   2.0000\n",
       "217   Default    45.000000              index    45.000000   1.0000   1.0000\n",
       "...       ...          ...                ...          ...      ...      ...\n",
       "57    Topic12    12.220579              class    13.393823   3.4881  -3.4403\n",
       "176   Topic12    13.583165          fractions    14.980611   3.4818  -3.3346\n",
       "393   Topic12     9.415677             search    10.484385   3.4722  -3.7010\n",
       "438   Topic12     7.924752            student     8.885178   3.4654  -3.8734\n",
       "175   Topic12     9.183253           fraction    10.329558   3.4621  -3.7260\n",
       "4     Topic12     7.980377           __init__     9.031492   3.4560  -3.8664\n",
       "310   Topic12     8.017198             object     9.078626   3.4554  -3.8618\n",
       "336   Topic12     7.026135               prec     8.003767   3.4495  -3.9938\n",
       "439   Topic12     6.766267           students     7.723193   3.4475  -4.0315\n",
       "61    Topic12     7.000884              cmath     7.999466   3.4464  -3.9974\n",
       "281   Topic12     6.769396           multiply     8.006243   3.4119  -4.0310\n",
       "17    Topic12     5.295935           american     6.269306   3.4110  -4.2765\n",
       "71    Topic12     4.633112         color_list     5.583119   3.3932  -4.4102\n",
       "191   Topic12     4.709244         getcontext     5.678642   3.3926  -4.3939\n",
       "380   Topic12     3.558785           rounding     4.517241   3.3413  -4.6740\n",
       "19    Topic12     3.559705         anamerican     4.521958   3.3405  -4.6737\n",
       "197   Topic12     3.459594          getstring     4.434223   3.3316  -4.7023\n",
       "360   Topic12    13.750337                 re    18.620151   3.2766  -3.3224\n",
       "252   Topic12     2.187243  limit_denominator     3.345504   3.1548  -5.1608\n",
       "190   Topic12     2.775261            getattr     4.363868   3.1271  -4.9227\n",
       "242   Topic12     6.319601             length    11.402353   2.9896  -4.0998\n",
       "478   Topic12    18.237749              value    40.161492   2.7903  -3.0399\n",
       "323   Topic12     4.859124               pass    12.807764   2.6106  -4.3626\n",
       "148   Topic12     0.950159          exception     2.764163   2.5119  -5.9945\n",
       "144   Topic12     0.949487              error     2.837043   2.4852  -5.9953\n",
       "26    Topic12     5.740789               area    18.256843   2.4228  -4.1958\n",
       "69    Topic12     2.014821             color1     6.663907   2.3836  -5.2429\n",
       "70    Topic12     2.013449             color2     6.663032   2.3830  -5.2436\n",
       "101   Topic12    16.205145                def   349.840662   0.5076  -3.1581\n",
       "339   Topic12    29.663128              print  1886.821001  -0.5730  -2.5535\n",
       "\n",
       "[546 rows x 6 columns], token_table=      Topic      Freq        Term\n",
       "term                             \n",
       "2         8  0.835674     __doc__\n",
       "3         9  0.857166    __file__\n",
       "4        12  0.885789    __init__\n",
       "6         9  0.937585          a1\n",
       "7         9  0.932095          a2\n",
       "8         5  0.737415         abc\n",
       "11        4  0.676601   add_piece\n",
       "13        8  0.831946    addzeros\n",
       "14        7  0.689615         age\n",
       "15        7  0.935201         all\n",
       "16        3  0.907339    alphabet\n",
       "17       12  0.797536    american\n",
       "18        1  0.963098      amount\n",
       "19       12  0.884572  anamerican\n",
       "20        1  0.283915         and\n",
       "20        2  0.021840         and\n",
       "20        3  0.087358         and\n",
       "20        4  0.538710         and\n",
       "20        5  0.029119         and\n",
       "20        6  0.043679         and\n",
       "21        7  0.914775       angle\n",
       "22        2  0.897938         ans\n",
       "23        3  0.951450      answer\n",
       "25        1  0.335691      append\n",
       "25        2  0.134276      append\n",
       "25        3  0.092315      append\n",
       "25        4  0.117492      append\n",
       "25        5  0.125884      append\n",
       "25        6  0.083923      append\n",
       "25        7  0.016785      append\n",
       "...     ...       ...         ...\n",
       "483       1  0.376712       while\n",
       "483       2  0.216609       while\n",
       "483       3  0.207191       while\n",
       "483       4  0.037671       while\n",
       "483       5  0.018836       while\n",
       "483       8  0.131849       while\n",
       "484       2  0.194939       width\n",
       "484       4  0.779754       width\n",
       "485       1  0.909185         win\n",
       "486       4  0.928507      winner\n",
       "487       1  0.092150        with\n",
       "487       3  0.552902        with\n",
       "487       8  0.230376        with\n",
       "487      12  0.092150        with\n",
       "488       5  0.970750        word\n",
       "488      11  0.015168        word\n",
       "489       5  0.855644    word_len\n",
       "490      10  0.638317   word_list\n",
       "490      11  0.255327   word_list\n",
       "491       3  0.449465       words\n",
       "491       5  0.524376       words\n",
       "492       4  0.884446     wrapped\n",
       "494       2  0.512860          x1\n",
       "494       8  0.410288          x1\n",
       "495       2  0.574840          x2\n",
       "495       8  0.344904          x2\n",
       "496       6  0.963110        year\n",
       "497       1  0.847285       yield\n",
       "498       1  0.680997         zip\n",
       "498      10  0.194571         zip\n",
       "\n",
       "[686 rows x 3 columns], R=30, lambda_step=0.01, plot_opts={'xlab': 'PC1', 'ylab': 'PC2'}, topic_order=[7, 2, 9, 4, 8, 12, 3, 1, 11, 5, 10, 6])"
      ]
     },
     "execution_count": 41,
     "metadata": {},
     "output_type": "execute_result"
    }
   ],
   "source": [
    "import pyLDAvis.sklearn\n",
    " \n",
    "pyLDAvis.enable_notebook()\n",
    "panel = pyLDAvis.sklearn.prepare(lda_model, train_data_features, vectorizer, mds='tsne')\n",
    "panel\n",
    " "
   ]
  },
  {
   "cell_type": "code",
   "execution_count": 18,
   "metadata": {
    "collapsed": true
   },
   "outputs": [],
   "source": [
    "def coherence_norm(data, tf_idf_norm):\n",
    "    clusters = np.argmax(data['V_T'], axis=1)\n",
    "    n_clusters = data['V_T'].shape[1]\n",
    "    \n",
    "    clusters_norm = []\n",
    "    clusters_size = []\n",
    "    coherence_cluster = []\n",
    "    \n",
    "    for idx_cluster in range(n_clusters):\n",
    "        \n",
    "        cluster_data = tf_idf_norm[clusters == idx_cluster]\n",
    "        avg_vector = np.average(cluster_data, axis=0)\n",
    "        cluster_norm = np.sqrt(np.power(avg_vector, 2).sum())\n",
    "        clusters_norm.append(cluster_norm)\n",
    "        clusters_size.append(cluster_data.shape[0])\n",
    "        \n",
    "        if cluster_data.shape[0] > 3:\n",
    "            coherence_cluster.append(cluster_norm)\n",
    "    \n",
    "    \n",
    "    data['avg_clusters_norm'] = clusters_norm\n",
    "    data['clusters_size'] = clusters_size\n",
    "    data['coherence_norm'] = np.average(clusters_norm)\n",
    "    return np.average(coherence_cluster), np.std(clusters_norm)"
   ]
  },
  {
   "cell_type": "code",
   "execution_count": 19,
   "metadata": {
    "collapsed": true
   },
   "outputs": [],
   "source": [
    "for key in sorted(models.keys()):\n",
    "    coherence_norm(models[key], doc_mat_norm)"
   ]
  },
  {
   "cell_type": "code",
   "execution_count": 23,
   "metadata": {},
   "outputs": [
    {
     "data": {
      "text/html": [
       "\n",
       "<div class=\"bk-root\">\n",
       "    <div class=\"bk-plotdiv\" id=\"e0fbf4ec-6ac6-42cd-b9b1-777d3aa6d902\"></div>\n",
       "</div>"
      ]
     },
     "metadata": {},
     "output_type": "display_data"
    },
    {
     "data": {
      "application/javascript": [
       "(function(root) {\n",
       "  function embed_document(root) {\n",
       "    \n",
       "  var docs_json = {\"6f39911d-1501-4b6f-bec2-48b96469ba06\":{\"roots\":{\"references\":[{\"attributes\":{\"source\":{\"id\":\"900ead62-ca03-4e4f-b662-9f61a1d29efb\",\"type\":\"ColumnDataSource\"}},\"id\":\"89198b7c-a399-4f1c-8d08-2290bff66fb1\",\"type\":\"CDSView\"},{\"attributes\":{},\"id\":\"422b5bb1-8c93-4815-ad8b-7185fa8a1431\",\"type\":\"BasicTicker\"},{\"attributes\":{\"dimension\":1,\"plot\":{\"id\":\"cfa347eb-b788-42aa-ae99-639fc2ae86af\",\"subtype\":\"Figure\",\"type\":\"Plot\"},\"ticker\":{\"id\":\"422b5bb1-8c93-4815-ad8b-7185fa8a1431\",\"type\":\"BasicTicker\"}},\"id\":\"4f52ffa5-3832-4307-9d8e-f66f05781dc9\",\"type\":\"Grid\"},{\"attributes\":{\"line_color\":\"red\",\"line_width\":2,\"x\":{\"field\":\"x\"},\"y\":{\"field\":\"y\"}},\"id\":\"7b247f97-9de4-42d3-b669-033d28808814\",\"type\":\"Line\"},{\"attributes\":{\"line_color\":\"#2222aa\",\"line_width\":2,\"x\":{\"field\":\"x\"},\"y\":{\"field\":\"y\"}},\"id\":\"e5aff942-7c4b-4ec2-8b13-4c726c24e7db\",\"type\":\"Line\"},{\"attributes\":{\"plot\":{\"id\":\"cfa347eb-b788-42aa-ae99-639fc2ae86af\",\"subtype\":\"Figure\",\"type\":\"Plot\"},\"ticker\":{\"id\":\"4b816c45-bd72-4d41-a0a8-3405f8a9c504\",\"type\":\"BasicTicker\"}},\"id\":\"4d3bfd54-f6e0-4a63-a39b-23f1d576cc57\",\"type\":\"Grid\"},{\"attributes\":{\"line_alpha\":0.1,\"line_color\":\"#1f77b4\",\"line_width\":2,\"x\":{\"field\":\"x\"},\"y\":{\"field\":\"y\"}},\"id\":\"3a853fd5-efb9-46f4-bbac-c75b6c50c923\",\"type\":\"Line\"},{\"attributes\":{\"data_source\":{\"id\":\"ea80e015-62c5-4839-bf22-b2ee8a7be0d4\",\"type\":\"ColumnDataSource\"},\"glyph\":{\"id\":\"e5aff942-7c4b-4ec2-8b13-4c726c24e7db\",\"type\":\"Line\"},\"hover_glyph\":null,\"muted_glyph\":null,\"nonselection_glyph\":{\"id\":\"3a853fd5-efb9-46f4-bbac-c75b6c50c923\",\"type\":\"Line\"},\"selection_glyph\":null,\"view\":{\"id\":\"c2167eac-b1c8-45c5-a306-bce7a4365fe8\",\"type\":\"CDSView\"}},\"id\":\"29a60b81-e9b4-40c8-bc73-c0cd2989ad9f\",\"type\":\"GlyphRenderer\"},{\"attributes\":{\"source\":{\"id\":\"ea80e015-62c5-4839-bf22-b2ee8a7be0d4\",\"type\":\"ColumnDataSource\"}},\"id\":\"c2167eac-b1c8-45c5-a306-bce7a4365fe8\",\"type\":\"CDSView\"},{\"attributes\":{},\"id\":\"a1e3b7b2-c8c4-4c29-b361-07d05363b2b1\",\"type\":\"BasicTickFormatter\"},{\"attributes\":{\"callback\":null},\"id\":\"d54f9501-500a-4e66-b8a9-7f3226db8088\",\"type\":\"Range1d\"},{\"attributes\":{},\"id\":\"622a3bd9-2eb9-487b-aafe-9845250c8ada\",\"type\":\"BasicTicker\"},{\"attributes\":{},\"id\":\"51973242-dff0-4299-8e19-601bd3acde99\",\"type\":\"PanTool\"},{\"attributes\":{\"line_alpha\":0.1,\"line_color\":\"#1f77b4\",\"line_width\":2,\"x\":{\"field\":\"x\"},\"y\":{\"field\":\"y\"}},\"id\":\"b8094709-dc77-4de5-b590-d0c103189b27\",\"type\":\"Line\"},{\"attributes\":{\"formatter\":{\"id\":\"4cbe3235-32e2-4628-ad53-85d0f1acdce9\",\"type\":\"BasicTickFormatter\"},\"plot\":{\"id\":\"cfa347eb-b788-42aa-ae99-639fc2ae86af\",\"subtype\":\"Figure\",\"type\":\"Plot\"},\"ticker\":{\"id\":\"622a3bd9-2eb9-487b-aafe-9845250c8ada\",\"type\":\"BasicTicker\"},\"y_range_name\":\"coherence\"},\"id\":\"5a4a318d-bb73-45f8-96c4-91681d18875f\",\"type\":\"LinearAxis\"},{\"attributes\":{\"callback\":null,\"column_names\":[\"x\",\"y\"],\"data\":{\"x\":[2,3,4,5,6,7,8,9,10,11,12,13,14,15,16,17,18,19,20,21,22,23,24,25,26,27,28,29,30,31,32,33,34,35,36,37,38,39,40,41,42,43,44,45,46,47,48,49,50,51,52,53,54,55,56,57,58,59,60,61,62,63,64,65,66,67,68,69,70,71,72,73,74,75,76,77,78,79,80,81,82,83,84,85,86,87,88,89,90,91,92,93,94,95,96,97,98,99],\"y\":[0.4975640548023119,0.4765338141864242,0.5012544847570305,0.5564085317799222,0.55442341069048,0.5490511393839389,0.585394998393087,0.6614261175909201,0.6576128852750913,0.6406785796080463,0.6748815435563947,0.6668449017729189,0.6567349034681303,0.650099191037731,0.6929366084624796,0.6858795321034719,0.6795508630172364,0.6802104611468125,0.708312133440949,0.6854508244446939,0.6809992998895852,0.6754708332458911,0.6805666968563443,0.680283178327023,0.6798261708039909,0.6739548245164713,0.681317596393866,0.6772849941754442,0.6775941387577896,0.6743385713443487,0.6761258786923124,0.6751890096462607,0.6920117648318085,0.6898921715377535,0.6908167809083667,0.6907426151331943,0.6911236760715126,0.6933158650679102,0.6914824930181036,0.694510322693088,0.6968780062409135,0.7202225017754702,0.72419974938924,0.7234472006679872,0.7044469720372843,0.7297380261250395,0.7368209193456744,0.7322024303749803,0.7322263761787379,0.7322632203489928,0.7484909444788314,0.7609195416178116,0.7549860655382115,0.7628748688450634,0.7562369824916539,0.7625293163699569,0.7588400827778744,0.7604106135590413,0.7597561393376034,0.7618965803554631,0.7659171652637399,0.7678752105585523,0.7631295035125469,0.7601436498019442,0.7697264587989425,0.771304262798798,0.7844600419082406,0.7718248315952757,0.779678721353303,0.790022331922853,0.7806465664302453,0.7823419575544709,0.7815382316186252,0.7854845539720281,0.7846871766580991,0.7920461182066683,0.786030139606764,0.7946942718831888,0.7973477463982925,0.7913414198446856,0.7896167077030911,0.7961481431226045,0.8003221094953167,0.7962587673039598,0.8011417427636478,0.7934672819131573,0.7983390945540113,0.7960378452067393,0.7983574061166209,0.7940414537296565,0.7985970124649715,0.8062437543759232,0.8014225903315234,0.8015976786723435,0.7999102020379348,0.8026583553130898,0.8063669814120152,0.8053047512032061]}},\"id\":\"900ead62-ca03-4e4f-b662-9f61a1d29efb\",\"type\":\"ColumnDataSource\"},{\"attributes\":{\"data_source\":{\"id\":\"900ead62-ca03-4e4f-b662-9f61a1d29efb\",\"type\":\"ColumnDataSource\"},\"glyph\":{\"id\":\"7b247f97-9de4-42d3-b669-033d28808814\",\"type\":\"Line\"},\"hover_glyph\":null,\"muted_glyph\":null,\"nonselection_glyph\":{\"id\":\"b8094709-dc77-4de5-b590-d0c103189b27\",\"type\":\"Line\"},\"selection_glyph\":null,\"view\":{\"id\":\"89198b7c-a399-4f1c-8d08-2290bff66fb1\",\"type\":\"CDSView\"},\"y_range_name\":\"coherence\"},\"id\":\"ba7653db-7e0c-4eb9-8328-67dcedb04015\",\"type\":\"GlyphRenderer\"},{\"attributes\":{},\"id\":\"8632cbec-448f-4e0d-b1f8-fac8b220b085\",\"type\":\"BasicTickFormatter\"},{\"attributes\":{},\"id\":\"4cbe3235-32e2-4628-ad53-85d0f1acdce9\",\"type\":\"BasicTickFormatter\"},{\"attributes\":{},\"id\":\"4b816c45-bd72-4d41-a0a8-3405f8a9c504\",\"type\":\"BasicTicker\"},{\"attributes\":{\"formatter\":{\"id\":\"a1e3b7b2-c8c4-4c29-b361-07d05363b2b1\",\"type\":\"BasicTickFormatter\"},\"plot\":{\"id\":\"cfa347eb-b788-42aa-ae99-639fc2ae86af\",\"subtype\":\"Figure\",\"type\":\"Plot\"},\"ticker\":{\"id\":\"422b5bb1-8c93-4815-ad8b-7185fa8a1431\",\"type\":\"BasicTicker\"}},\"id\":\"5e9d60ab-a98b-4746-9dff-568faaf0de64\",\"type\":\"LinearAxis\"},{\"attributes\":{\"active_drag\":\"auto\",\"active_inspect\":\"auto\",\"active_scroll\":\"auto\",\"active_tap\":\"auto\",\"tools\":[{\"id\":\"3386836b-bcdc-4a79-80b0-c4cdc24c8564\",\"type\":\"HoverTool\"},{\"id\":\"51973242-dff0-4299-8e19-601bd3acde99\",\"type\":\"PanTool\"},{\"id\":\"fddf5021-39bb-4c13-be13-871d832a2c01\",\"type\":\"WheelZoomTool\"}]},\"id\":\"21d0238e-9609-4ff3-9790-bf245c8b10c1\",\"type\":\"Toolbar\"},{\"attributes\":{},\"id\":\"57bc25f9-8e3a-436c-91ab-96ec9d537a32\",\"type\":\"LinearScale\"},{\"attributes\":{\"below\":[{\"id\":\"dee63d63-b810-4228-bcbd-9988540b7287\",\"type\":\"LinearAxis\"}],\"extra_y_ranges\":{\"coherence\":{\"id\":\"d54f9501-500a-4e66-b8a9-7f3226db8088\",\"type\":\"Range1d\"}},\"left\":[{\"id\":\"5e9d60ab-a98b-4746-9dff-568faaf0de64\",\"type\":\"LinearAxis\"}],\"plot_height\":500,\"plot_width\":900,\"renderers\":[{\"id\":\"dee63d63-b810-4228-bcbd-9988540b7287\",\"type\":\"LinearAxis\"},{\"id\":\"4d3bfd54-f6e0-4a63-a39b-23f1d576cc57\",\"type\":\"Grid\"},{\"id\":\"5e9d60ab-a98b-4746-9dff-568faaf0de64\",\"type\":\"LinearAxis\"},{\"id\":\"4f52ffa5-3832-4307-9d8e-f66f05781dc9\",\"type\":\"Grid\"},{\"id\":\"29a60b81-e9b4-40c8-bc73-c0cd2989ad9f\",\"type\":\"GlyphRenderer\"},{\"id\":\"ba7653db-7e0c-4eb9-8328-67dcedb04015\",\"type\":\"GlyphRenderer\"},{\"id\":\"5a4a318d-bb73-45f8-96c4-91681d18875f\",\"type\":\"LinearAxis\"}],\"right\":[{\"id\":\"5a4a318d-bb73-45f8-96c4-91681d18875f\",\"type\":\"LinearAxis\"}],\"title\":{\"id\":\"35391e76-2a74-453d-a3ff-9280a5ae5ade\",\"type\":\"Title\"},\"toolbar\":{\"id\":\"21d0238e-9609-4ff3-9790-bf245c8b10c1\",\"type\":\"Toolbar\"},\"x_range\":{\"id\":\"5101afa4-3249-45ed-b5fe-9b1cac9795dc\",\"type\":\"DataRange1d\"},\"x_scale\":{\"id\":\"3440c4f0-99f9-4f01-b63e-5a54020abda5\",\"type\":\"LinearScale\"},\"y_range\":{\"id\":\"1fd4c5d5-ba00-4bdd-a0a7-b6678eb1fae3\",\"type\":\"DataRange1d\"},\"y_scale\":{\"id\":\"57bc25f9-8e3a-436c-91ab-96ec9d537a32\",\"type\":\"LinearScale\"}},\"id\":\"cfa347eb-b788-42aa-ae99-639fc2ae86af\",\"subtype\":\"Figure\",\"type\":\"Plot\"},{\"attributes\":{\"formatter\":{\"id\":\"8632cbec-448f-4e0d-b1f8-fac8b220b085\",\"type\":\"BasicTickFormatter\"},\"plot\":{\"id\":\"cfa347eb-b788-42aa-ae99-639fc2ae86af\",\"subtype\":\"Figure\",\"type\":\"Plot\"},\"ticker\":{\"id\":\"4b816c45-bd72-4d41-a0a8-3405f8a9c504\",\"type\":\"BasicTicker\"}},\"id\":\"dee63d63-b810-4228-bcbd-9988540b7287\",\"type\":\"LinearAxis\"},{\"attributes\":{\"plot\":null,\"text\":\"Ncut vs Coherence\"},\"id\":\"35391e76-2a74-453d-a3ff-9280a5ae5ade\",\"type\":\"Title\"},{\"attributes\":{\"callback\":null},\"id\":\"1fd4c5d5-ba00-4bdd-a0a7-b6678eb1fae3\",\"type\":\"DataRange1d\"},{\"attributes\":{\"callback\":null},\"id\":\"5101afa4-3249-45ed-b5fe-9b1cac9795dc\",\"type\":\"DataRange1d\"},{\"attributes\":{},\"id\":\"fddf5021-39bb-4c13-be13-871d832a2c01\",\"type\":\"WheelZoomTool\"},{\"attributes\":{},\"id\":\"3440c4f0-99f9-4f01-b63e-5a54020abda5\",\"type\":\"LinearScale\"},{\"attributes\":{\"callback\":null,\"column_names\":[\"x\",\"y\"],\"data\":{\"x\":[2,3,4,5,6,7,8,9,10,11,12,13,14,15,16,17,18,19,20,21,22,23,24,25,26,27,28,29,30,31,32,33,34,35,36,37,38,39,40,41,42,43,44,45,46,47,48,49,50,51,52,53,54,55,56,57,58,59,60,61,62,63,64,65,66,67,68,69,70,71,72,73,74,75,76,77,78,79,80,81,82,83,84,85,86,87,88,89,90,91,92,93,94,95,96,97,98,99],\"y\":[0.2045250299173345,0.2622922324000359,0.289114906996033,0.3052565237851538,0.3216307181432011,0.3341961166783934,0.33119484900115126,0.3296982030402599,0.3299514586724571,0.33287999996143725,0.3350362781842331,0.337190266800128,0.3395572746381899,0.3371745383507518,0.35044857094294435,0.35024257292749755,0.35007411935815724,0.34994844654651525,0.35192703423848415,0.3532680058351338,0.35029394754300713,0.3491925313398436,0.3483559885792264,0.35007464557742446,0.3473919254339774,0.3493372890163658,0.35503663223124443,0.3561573853824535,0.35530037521038926,0.3591810026039536,0.35909620838734896,0.35847908765227815,0.3608614007580533,0.3603533686710862,0.3581364515561481,0.3561877236319691,0.35635849630431676,0.3561320757365522,0.35564799645012896,0.3567343201179664,0.35575120897444035,0.3562525426397603,0.3587425440804869,0.358786221899638,0.35711423520431906,0.3569789824578929,0.35908357660674195,0.3593820149252786,0.3620416327708737,0.3626983867388468,0.3605431249585582,0.3636710618689197,0.3609980087474999,0.3628121778041553,0.3591399990967134,0.36174246046182285,0.3620097069854621,0.36126641503452117,0.36128639248557326,0.36316001957886673,0.3638172111764389,0.36427630745470047,0.3650497744655634,0.36412707018787444,0.3620336539757992,0.3648906436479903,0.363616354510826,0.3640399065944504,0.36417019588171745,0.3634587241479753,0.3680925685590268,0.36500961575753516,0.3672637830918614,0.3673807538122504,0.3686885409329724,0.3660734092631268,0.36788054261625003,0.36737668695417336,0.3676509628181755,0.36715445919264517,0.36585211443925536,0.36841741916457016,0.36679682747870457,0.3668616928267475,0.3677355434698005,0.36735258620283234,0.3670651649380383,0.3698671929452527,0.36727223150979743,0.3688630548189422,0.36826622108729806,0.36887057626821224,0.3693681116522784,0.36968488211360573,0.36797027868370175,0.36880584784167514,0.37180061880734927,0.3700789938178295]}},\"id\":\"ea80e015-62c5-4839-bf22-b2ee8a7be0d4\",\"type\":\"ColumnDataSource\"},{\"attributes\":{\"callback\":null,\"tooltips\":[[\"index\",\"$index\"],[\"(x, y)\",\"($x{0}, $y)\"]]},\"id\":\"3386836b-bcdc-4a79-80b0-c4cdc24c8564\",\"type\":\"HoverTool\"}],\"root_ids\":[\"cfa347eb-b788-42aa-ae99-639fc2ae86af\"]},\"title\":\"Bokeh Application\",\"version\":\"0.12.14\"}};\n",
       "  var render_items = [{\"docid\":\"6f39911d-1501-4b6f-bec2-48b96469ba06\",\"elementid\":\"e0fbf4ec-6ac6-42cd-b9b1-777d3aa6d902\",\"modelid\":\"cfa347eb-b788-42aa-ae99-639fc2ae86af\"}];\n",
       "  root.Bokeh.embed.embed_items_notebook(docs_json, render_items);\n",
       "\n",
       "  }\n",
       "  if (root.Bokeh !== undefined) {\n",
       "    embed_document(root);\n",
       "  } else {\n",
       "    var attempts = 0;\n",
       "    var timer = setInterval(function(root) {\n",
       "      if (root.Bokeh !== undefined) {\n",
       "        embed_document(root);\n",
       "        clearInterval(timer);\n",
       "      }\n",
       "      attempts++;\n",
       "      if (attempts > 100) {\n",
       "        console.log(\"Bokeh: ERROR: Unable to run BokehJS code because BokehJS library is missing\")\n",
       "        clearInterval(timer);\n",
       "      }\n",
       "    }, 10, root)\n",
       "  }\n",
       "})(window);"
      ],
      "application/vnd.bokehjs_exec.v0+json": ""
     },
     "metadata": {
      "application/vnd.bokehjs_exec.v0+json": {
       "id": "cfa347eb-b788-42aa-ae99-639fc2ae86af"
      }
     },
     "output_type": "display_data"
    }
   ],
   "source": [
    "data_x = sorted(models.keys())\n",
    "data_ncut = [models[x][\"n_cut\"]/x for x in data_x]\n",
    "data_coh = [models[x][\"coherence_norm\"] for x in data_x]\n",
    "\n",
    "hover = HoverTool(\n",
    "        tooltips=[\n",
    "            (\"index\", \"$index\"),\n",
    "            (\"(x, y)\", \"($x{0}, $y)\"),        ]\n",
    "    )\n",
    "\n",
    "\n",
    "plot = figure(title=\"Ncut vs Coherence\", plot_height=500, plot_width=900,\n",
    "    tools=[hover, PanTool(), WheelZoomTool()])\n",
    "\n",
    "plot.line(data_x, data_ncut, color=\"#2222aa\", line_width=2)\n",
    "#plot.circle(data_x, data_ncut, color=\"#2222aa\", fill_color=\"white\", size=8)\n",
    "\n",
    "plot.extra_y_ranges = {\"coherence\": Range1d(start=0.0, end=1.0)}\n",
    "plot.line(data_x, data_coh, line_width=2, color=\"red\", y_range_name=\"coherence\")\n",
    "plot.add_layout(LinearAxis(y_range_name=\"coherence\"), 'right')\n",
    "\n",
    "show(plot)"
   ]
  },
  {
   "cell_type": "code",
   "execution_count": 25,
   "metadata": {
    "collapsed": true
   },
   "outputs": [],
   "source": [
    "# Take a look at the words in the vocabulary\n",
    "vocab = vectorizer.get_feature_names()\n",
    "vocab_cell = np.asarray(vocab).astype(object)"
   ]
  },
  {
   "cell_type": "code",
   "execution_count": 35,
   "metadata": {
    "collapsed": true
   },
   "outputs": [],
   "source": [
    "import matplotlib.pyplot as plt\n",
    "import numpy as np\n",
    "import seaborn as sns"
   ]
  },
  {
   "cell_type": "code",
   "execution_count": 38,
   "metadata": {},
   "outputs": [
    {
     "data": {
      "text/plain": [
       "(758, 10)"
      ]
     },
     "execution_count": 38,
     "metadata": {},
     "output_type": "execute_result"
    }
   ],
   "source": [
    "V_T = models[10]['V_T']\n",
    "V_T.shape"
   ]
  },
  {
   "cell_type": "code",
   "execution_count": 41,
   "metadata": {},
   "outputs": [
    {
     "name": "stderr",
     "output_type": "stream",
     "text": [
      "/home/lmoraes/miniconda3/envs/machine_teaching/lib/python3.6/site-packages/ipykernel_launcher.py:2: RuntimeWarning: invalid value encountered in true_divide\n",
      "  \n"
     ]
    },
    {
     "data": {
      "text/plain": [
       "(758, 10)"
      ]
     },
     "execution_count": 41,
     "metadata": {},
     "output_type": "execute_result"
    }
   ],
   "source": [
    "row_sums = V_T.sum(axis=1)\n",
    "new_matrix = V_T / row_sums[:, np.newaxis]"
   ]
  },
  {
   "cell_type": "code",
   "execution_count": 46,
   "metadata": {},
   "outputs": [
    {
     "data": {
      "image/png": "[encoded data removed]",
      "text/plain": [
       "<matplotlib.figure.Figure at 0x7f12baf0b2e8>"
      ]
     },
     "metadata": {},
     "output_type": "display_data"
    }
   ],
   "source": [
    "fig = plt.figure(figsize=(12,8))\n",
    "ax = sns.heatmap(new_matrix)\n",
    "plt.show()"
   ]
  },
  {
   "cell_type": "code",
   "execution_count": 24,
   "metadata": {},
   "outputs": [
    {
     "data": {
      "text/plain": [
       "Counter({0: 16, 1: 15, 2: 19, 3: 2, 4: 29, 5: 11, 6: 28, 7: 2, 8: 563, 9: 73})"
      ]
     },
     "execution_count": 24,
     "metadata": {},
     "output_type": "execute_result"
    }
   ],
   "source": [
    "Counter(np.argmax(models[10]['V_T'], axis=1))"
   ]
  },
  {
   "cell_type": "code",
   "execution_count": 26,
   "metadata": {
    "collapsed": true
   },
   "outputs": [],
   "source": [
    "def print_top_words(model, feature_names, n_top_words):\n",
    "    for topic_idx, topic in enumerate(model.components_):\n",
    "        message = \"Topic #%d: \" % topic_idx\n",
    "        message += \" \".join([feature_names[i]\n",
    "                             for i in topic.argsort()[:-n_top_words - 1:-1]])\n",
    "        print(message)\n",
    "    print()"
   ]
  },
  {
   "cell_type": "code",
   "execution_count": 29,
   "metadata": {
    "scrolled": false
   },
   "outputs": [
    {
     "name": "stdout",
     "output_type": "stream",
     "text": [
      "\n",
      "Topics in NMF model (Frobenius norm):\n",
      "Topic #0: startplayer board counter connect win false setupgame playgame column not and else true def if while elif return row format each print range for displayinfo in\n",
      "Topic #1: game player winner game_slices new_row display_game convert_input_to_coordinate draw_line display_winner row col_num row_num switch_player check_row_winner start_game col_number row_number up_diagonal edge get_row get_col filling down_diagonal game_slice add_piece check_winner\n",
      "Topic #2: hangman guessedcharacters chances setupvalues currentguess guessed each word playgame setupgame displayresult def return result displayinfo print format false input if append len else for in while\n",
      "Topic #3: hexseg hexnumber lengthhex denary placepower element elif displayinfo def print return len else int range input if for in setupvalues getstring playgame displayresult randint targetstr result\n",
      "Topic #4: shoppinglist menuchoice nomoreswaps element exitlist tempitem finished temp bubblesort displaylist false item print newitem not true while len displayinfo addtolist getnewitem elif def else if input\n",
      "Topic #5: each tempquestionlist quizquestions questionno score givenanswer question correctanswer answers tempanswer ans finished len print format append input int range for in else if false not while\n",
      "Topic #6: outputstr character targetstr found eachchar format guesses print none len true else false if input startplayer randint displayresult while getstring random displayinfo element elif and range\n",
      "Topic #7: denary binarystring decimalnumber positionvalue addzeros decimalnumbercopy eachzero elif int print len format if str while else for in input range setupvalues count matrix return names quote\n",
      "Topic #8: month day ast elif isinstance year answer if else print try end lower randint input running formula win minimum number setupvalues int maximum in format count\n",
      "Topic #9: result_str column row or and range for win in col else game if print square true matrix current main elif return false names len valueerror __name__\n",
      "\n"
     ]
    }
   ],
   "source": [
    "print(\"\\nTopics in NMF model (Frobenius norm):\")\n",
    "tfidf_feature_names = vectorizer.get_feature_names()\n",
    "print_top_words(models[10]['model'], tfidf_feature_names, 26)"
   ]
  }
 ],
 "metadata": {
  "kernelspec": {
   "display_name": "Python 3",
   "language": "python",
   "name": "python3"
  },
  "language_info": {
   "codemirror_mode": {
    "name": "ipython",
    "version": 3
   },
   "file_extension": ".py",
   "mimetype": "text/x-python",
   "name": "python",
   "nbconvert_exporter": "python",
   "pygments_lexer": "ipython3",
   "version": "3.6.2"
  }
 },
 "nbformat": 4,
 "nbformat_minor": 2
}
