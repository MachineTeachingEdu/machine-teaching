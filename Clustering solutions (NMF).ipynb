{
 "cells": [
  {
   "cell_type": "code",
   "execution_count": 295,
   "metadata": {
    "collapsed": true
   },
   "outputs": [],
   "source": [
    "from db import PythonProblems\n",
    "import io\n",
    "import tokenize\n",
    "from sklearn.feature_extraction.text import CountVectorizer\n",
    "import numpy as np\n",
    "from sklearn.decomposition import NMF\n",
    "from sklearn.preprocessing import normalize\n",
    "import random\n",
    "import time\n",
    "from itertools import product\n",
    "from collections import Counter"
   ]
  },
  {
   "cell_type": "code",
   "execution_count": 92,
   "metadata": {},
   "outputs": [
    {
     "data": {
      "text/html": [
       "\n",
       "    <div class=\"bk-root\">\n",
       "        <a href=\"https://bokeh.pydata.org\" target=\"_blank\" class=\"bk-logo bk-logo-small bk-logo-notebook\"></a>\n",
       "        <span id=\"7e800d1e-2e00-4f4d-9612-8ce0a980c96d\">Loading BokehJS ...</span>\n",
       "    </div>"
      ]
     },
     "metadata": {},
     "output_type": "display_data"
    },
    {
     "data": {
      "application/javascript": [
       "\n",
       "(function(root) {\n",
       "  function now() {\n",
       "    return new Date();\n",
       "  }\n",
       "\n",
       "  var force = true;\n",
       "\n",
       "  if (typeof (root._bokeh_onload_callbacks) === \"undefined\" || force === true) {\n",
       "    root._bokeh_onload_callbacks = [];\n",
       "    root._bokeh_is_loading = undefined;\n",
       "  }\n",
       "\n",
       "  var JS_MIME_TYPE = 'application/javascript';\n",
       "  var HTML_MIME_TYPE = 'text/html';\n",
       "  var EXEC_MIME_TYPE = 'application/vnd.bokehjs_exec.v0+json';\n",
       "  var CLASS_NAME = 'output_bokeh rendered_html';\n",
       "\n",
       "  /**\n",
       "   * Render data to the DOM node\n",
       "   */\n",
       "  function render(props, node) {\n",
       "    var script = document.createElement(\"script\");\n",
       "    node.appendChild(script);\n",
       "  }\n",
       "\n",
       "  /**\n",
       "   * Handle when an output is cleared or removed\n",
       "   */\n",
       "  function handleClearOutput(event, handle) {\n",
       "    var cell = handle.cell;\n",
       "\n",
       "    var id = cell.output_area._bokeh_element_id;\n",
       "    var server_id = cell.output_area._bokeh_server_id;\n",
       "    // Clean up Bokeh references\n",
       "    if (id !== undefined) {\n",
       "      Bokeh.index[id].model.document.clear();\n",
       "      delete Bokeh.index[id];\n",
       "    }\n",
       "\n",
       "    if (server_id !== undefined) {\n",
       "      // Clean up Bokeh references\n",
       "      var cmd = \"from bokeh.io.state import curstate; print(curstate().uuid_to_server['\" + server_id + \"'].get_sessions()[0].document.roots[0]._id)\";\n",
       "      cell.notebook.kernel.execute(cmd, {\n",
       "        iopub: {\n",
       "          output: function(msg) {\n",
       "            var element_id = msg.content.text.trim();\n",
       "            Bokeh.index[element_id].model.document.clear();\n",
       "            delete Bokeh.index[element_id];\n",
       "          }\n",
       "        }\n",
       "      });\n",
       "      // Destroy server and session\n",
       "      var cmd = \"import bokeh.io.notebook as ion; ion.destroy_server('\" + server_id + \"')\";\n",
       "      cell.notebook.kernel.execute(cmd);\n",
       "    }\n",
       "  }\n",
       "\n",
       "  /**\n",
       "   * Handle when a new output is added\n",
       "   */\n",
       "  function handleAddOutput(event, handle) {\n",
       "    var output_area = handle.output_area;\n",
       "    var output = handle.output;\n",
       "\n",
       "    // limit handleAddOutput to display_data with EXEC_MIME_TYPE content only\n",
       "    if ((output.output_type != \"display_data\") || (!output.data.hasOwnProperty(EXEC_MIME_TYPE))) {\n",
       "      return\n",
       "    }\n",
       "\n",
       "    var toinsert = output_area.element.find(\".\" + CLASS_NAME.split(' ')[0]);\n",
       "\n",
       "    if (output.metadata[EXEC_MIME_TYPE][\"id\"] !== undefined) {\n",
       "      toinsert[0].firstChild.textContent = output.data[JS_MIME_TYPE];\n",
       "      // store reference to embed id on output_area\n",
       "      output_area._bokeh_element_id = output.metadata[EXEC_MIME_TYPE][\"id\"];\n",
       "    }\n",
       "    if (output.metadata[EXEC_MIME_TYPE][\"server_id\"] !== undefined) {\n",
       "      var bk_div = document.createElement(\"div\");\n",
       "      bk_div.innerHTML = output.data[HTML_MIME_TYPE];\n",
       "      var script_attrs = bk_div.children[0].attributes;\n",
       "      for (var i = 0; i < script_attrs.length; i++) {\n",
       "        toinsert[0].firstChild.setAttribute(script_attrs[i].name, script_attrs[i].value);\n",
       "      }\n",
       "      // store reference to server id on output_area\n",
       "      output_area._bokeh_server_id = output.metadata[EXEC_MIME_TYPE][\"server_id\"];\n",
       "    }\n",
       "  }\n",
       "\n",
       "  function register_renderer(events, OutputArea) {\n",
       "\n",
       "    function append_mime(data, metadata, element) {\n",
       "      // create a DOM node to render to\n",
       "      var toinsert = this.create_output_subarea(\n",
       "        metadata,\n",
       "        CLASS_NAME,\n",
       "        EXEC_MIME_TYPE\n",
       "      );\n",
       "      this.keyboard_manager.register_events(toinsert);\n",
       "      // Render to node\n",
       "      var props = {data: data, metadata: metadata[EXEC_MIME_TYPE]};\n",
       "      render(props, toinsert[0]);\n",
       "      element.append(toinsert);\n",
       "      return toinsert\n",
       "    }\n",
       "\n",
       "    /* Handle when an output is cleared or removed */\n",
       "    events.on('clear_output.CodeCell', handleClearOutput);\n",
       "    events.on('delete.Cell', handleClearOutput);\n",
       "\n",
       "    /* Handle when a new output is added */\n",
       "    events.on('output_added.OutputArea', handleAddOutput);\n",
       "\n",
       "    /**\n",
       "     * Register the mime type and append_mime function with output_area\n",
       "     */\n",
       "    OutputArea.prototype.register_mime_type(EXEC_MIME_TYPE, append_mime, {\n",
       "      /* Is output safe? */\n",
       "      safe: true,\n",
       "      /* Index of renderer in `output_area.display_order` */\n",
       "      index: 0\n",
       "    });\n",
       "  }\n",
       "\n",
       "  // register the mime type if in Jupyter Notebook environment and previously unregistered\n",
       "  if (root.Jupyter !== undefined) {\n",
       "    var events = require('base/js/events');\n",
       "    var OutputArea = require('notebook/js/outputarea').OutputArea;\n",
       "\n",
       "    if (OutputArea.prototype.mime_types().indexOf(EXEC_MIME_TYPE) == -1) {\n",
       "      register_renderer(events, OutputArea);\n",
       "    }\n",
       "  }\n",
       "\n",
       "  \n",
       "  if (typeof (root._bokeh_timeout) === \"undefined\" || force === true) {\n",
       "    root._bokeh_timeout = Date.now() + 5000;\n",
       "    root._bokeh_failed_load = false;\n",
       "  }\n",
       "\n",
       "  var NB_LOAD_WARNING = {'data': {'text/html':\n",
       "     \"<div style='background-color: #fdd'>\\n\"+\n",
       "     \"<p>\\n\"+\n",
       "     \"BokehJS does not appear to have successfully loaded. If loading BokehJS from CDN, this \\n\"+\n",
       "     \"may be due to a slow or bad network connection. Possible fixes:\\n\"+\n",
       "     \"</p>\\n\"+\n",
       "     \"<ul>\\n\"+\n",
       "     \"<li>re-rerun `output_notebook()` to attempt to load from CDN again, or</li>\\n\"+\n",
       "     \"<li>use INLINE resources instead, as so:</li>\\n\"+\n",
       "     \"</ul>\\n\"+\n",
       "     \"<code>\\n\"+\n",
       "     \"from bokeh.resources import INLINE\\n\"+\n",
       "     \"output_notebook(resources=INLINE)\\n\"+\n",
       "     \"</code>\\n\"+\n",
       "     \"</div>\"}};\n",
       "\n",
       "  function display_loaded() {\n",
       "    var el = document.getElementById(\"7e800d1e-2e00-4f4d-9612-8ce0a980c96d\");\n",
       "    if (el != null) {\n",
       "      el.textContent = \"BokehJS is loading...\";\n",
       "    }\n",
       "    if (root.Bokeh !== undefined) {\n",
       "      if (el != null) {\n",
       "        el.textContent = \"BokehJS \" + root.Bokeh.version + \" successfully loaded.\";\n",
       "      }\n",
       "    } else if (Date.now() < root._bokeh_timeout) {\n",
       "      setTimeout(display_loaded, 100)\n",
       "    }\n",
       "  }\n",
       "\n",
       "\n",
       "  function run_callbacks() {\n",
       "    try {\n",
       "      root._bokeh_onload_callbacks.forEach(function(callback) { callback() });\n",
       "    }\n",
       "    finally {\n",
       "      delete root._bokeh_onload_callbacks\n",
       "    }\n",
       "    console.info(\"Bokeh: all callbacks have finished\");\n",
       "  }\n",
       "\n",
       "  function load_libs(js_urls, callback) {\n",
       "    root._bokeh_onload_callbacks.push(callback);\n",
       "    if (root._bokeh_is_loading > 0) {\n",
       "      console.log(\"Bokeh: BokehJS is being loaded, scheduling callback at\", now());\n",
       "      return null;\n",
       "    }\n",
       "    if (js_urls == null || js_urls.length === 0) {\n",
       "      run_callbacks();\n",
       "      return null;\n",
       "    }\n",
       "    console.log(\"Bokeh: BokehJS not loaded, scheduling load and callback at\", now());\n",
       "    root._bokeh_is_loading = js_urls.length;\n",
       "    for (var i = 0; i < js_urls.length; i++) {\n",
       "      var url = js_urls[i];\n",
       "      var s = document.createElement('script');\n",
       "      s.src = url;\n",
       "      s.async = false;\n",
       "      s.onreadystatechange = s.onload = function() {\n",
       "        root._bokeh_is_loading--;\n",
       "        if (root._bokeh_is_loading === 0) {\n",
       "          console.log(\"Bokeh: all BokehJS libraries loaded\");\n",
       "          run_callbacks()\n",
       "        }\n",
       "      };\n",
       "      s.onerror = function() {\n",
       "        console.warn(\"failed to load library \" + url);\n",
       "      };\n",
       "      console.log(\"Bokeh: injecting script tag for BokehJS library: \", url);\n",
       "      document.getElementsByTagName(\"head\")[0].appendChild(s);\n",
       "    }\n",
       "  };var element = document.getElementById(\"7e800d1e-2e00-4f4d-9612-8ce0a980c96d\");\n",
       "  if (element == null) {\n",
       "    console.log(\"Bokeh: ERROR: autoload.js configured with elementid '7e800d1e-2e00-4f4d-9612-8ce0a980c96d' but no matching script tag was found. \")\n",
       "    return false;\n",
       "  }\n",
       "\n",
       "  var js_urls = [\"https://cdn.pydata.org/bokeh/release/bokeh-0.12.14.min.js\", \"https://cdn.pydata.org/bokeh/release/bokeh-widgets-0.12.14.min.js\", \"https://cdn.pydata.org/bokeh/release/bokeh-tables-0.12.14.min.js\", \"https://cdn.pydata.org/bokeh/release/bokeh-gl-0.12.14.min.js\"];\n",
       "\n",
       "  var inline_js = [\n",
       "    function(Bokeh) {\n",
       "      Bokeh.set_log_level(\"info\");\n",
       "    },\n",
       "    \n",
       "    function(Bokeh) {\n",
       "      \n",
       "    },\n",
       "    function(Bokeh) {\n",
       "      console.log(\"Bokeh: injecting CSS: https://cdn.pydata.org/bokeh/release/bokeh-0.12.14.min.css\");\n",
       "      Bokeh.embed.inject_css(\"https://cdn.pydata.org/bokeh/release/bokeh-0.12.14.min.css\");\n",
       "      console.log(\"Bokeh: injecting CSS: https://cdn.pydata.org/bokeh/release/bokeh-widgets-0.12.14.min.css\");\n",
       "      Bokeh.embed.inject_css(\"https://cdn.pydata.org/bokeh/release/bokeh-widgets-0.12.14.min.css\");\n",
       "      console.log(\"Bokeh: injecting CSS: https://cdn.pydata.org/bokeh/release/bokeh-tables-0.12.14.min.css\");\n",
       "      Bokeh.embed.inject_css(\"https://cdn.pydata.org/bokeh/release/bokeh-tables-0.12.14.min.css\");\n",
       "    }\n",
       "  ];\n",
       "\n",
       "  function run_inline_js() {\n",
       "    \n",
       "    if ((root.Bokeh !== undefined) || (force === true)) {\n",
       "      for (var i = 0; i < inline_js.length; i++) {\n",
       "        inline_js[i].call(root, root.Bokeh);\n",
       "      }if (force === true) {\n",
       "        display_loaded();\n",
       "      }} else if (Date.now() < root._bokeh_timeout) {\n",
       "      setTimeout(run_inline_js, 100);\n",
       "    } else if (!root._bokeh_failed_load) {\n",
       "      console.log(\"Bokeh: BokehJS failed to load within specified timeout.\");\n",
       "      root._bokeh_failed_load = true;\n",
       "    } else if (force !== true) {\n",
       "      var cell = $(document.getElementById(\"7e800d1e-2e00-4f4d-9612-8ce0a980c96d\")).parents('.cell').data().cell;\n",
       "      cell.output_area.append_execute_result(NB_LOAD_WARNING)\n",
       "    }\n",
       "\n",
       "  }\n",
       "\n",
       "  if (root._bokeh_is_loading === 0) {\n",
       "    console.log(\"Bokeh: BokehJS loaded, going straight to plotting\");\n",
       "    run_inline_js();\n",
       "  } else {\n",
       "    load_libs(js_urls, function() {\n",
       "      console.log(\"Bokeh: BokehJS plotting callback run at\", now());\n",
       "      run_inline_js();\n",
       "    });\n",
       "  }\n",
       "}(window));"
      ],
      "application/vnd.bokehjs_load.v0+json": "\n(function(root) {\n  function now() {\n    return new Date();\n  }\n\n  var force = true;\n\n  if (typeof (root._bokeh_onload_callbacks) === \"undefined\" || force === true) {\n    root._bokeh_onload_callbacks = [];\n    root._bokeh_is_loading = undefined;\n  }\n\n  \n\n  \n  if (typeof (root._bokeh_timeout) === \"undefined\" || force === true) {\n    root._bokeh_timeout = Date.now() + 5000;\n    root._bokeh_failed_load = false;\n  }\n\n  var NB_LOAD_WARNING = {'data': {'text/html':\n     \"<div style='background-color: #fdd'>\\n\"+\n     \"<p>\\n\"+\n     \"BokehJS does not appear to have successfully loaded. If loading BokehJS from CDN, this \\n\"+\n     \"may be due to a slow or bad network connection. Possible fixes:\\n\"+\n     \"</p>\\n\"+\n     \"<ul>\\n\"+\n     \"<li>re-rerun `output_notebook()` to attempt to load from CDN again, or</li>\\n\"+\n     \"<li>use INLINE resources instead, as so:</li>\\n\"+\n     \"</ul>\\n\"+\n     \"<code>\\n\"+\n     \"from bokeh.resources import INLINE\\n\"+\n     \"output_notebook(resources=INLINE)\\n\"+\n     \"</code>\\n\"+\n     \"</div>\"}};\n\n  function display_loaded() {\n    var el = document.getElementById(\"7e800d1e-2e00-4f4d-9612-8ce0a980c96d\");\n    if (el != null) {\n      el.textContent = \"BokehJS is loading...\";\n    }\n    if (root.Bokeh !== undefined) {\n      if (el != null) {\n        el.textContent = \"BokehJS \" + root.Bokeh.version + \" successfully loaded.\";\n      }\n    } else if (Date.now() < root._bokeh_timeout) {\n      setTimeout(display_loaded, 100)\n    }\n  }\n\n\n  function run_callbacks() {\n    try {\n      root._bokeh_onload_callbacks.forEach(function(callback) { callback() });\n    }\n    finally {\n      delete root._bokeh_onload_callbacks\n    }\n    console.info(\"Bokeh: all callbacks have finished\");\n  }\n\n  function load_libs(js_urls, callback) {\n    root._bokeh_onload_callbacks.push(callback);\n    if (root._bokeh_is_loading > 0) {\n      console.log(\"Bokeh: BokehJS is being loaded, scheduling callback at\", now());\n      return null;\n    }\n    if (js_urls == null || js_urls.length === 0) {\n      run_callbacks();\n      return null;\n    }\n    console.log(\"Bokeh: BokehJS not loaded, scheduling load and callback at\", now());\n    root._bokeh_is_loading = js_urls.length;\n    for (var i = 0; i < js_urls.length; i++) {\n      var url = js_urls[i];\n      var s = document.createElement('script');\n      s.src = url;\n      s.async = false;\n      s.onreadystatechange = s.onload = function() {\n        root._bokeh_is_loading--;\n        if (root._bokeh_is_loading === 0) {\n          console.log(\"Bokeh: all BokehJS libraries loaded\");\n          run_callbacks()\n        }\n      };\n      s.onerror = function() {\n        console.warn(\"failed to load library \" + url);\n      };\n      console.log(\"Bokeh: injecting script tag for BokehJS library: \", url);\n      document.getElementsByTagName(\"head\")[0].appendChild(s);\n    }\n  };var element = document.getElementById(\"7e800d1e-2e00-4f4d-9612-8ce0a980c96d\");\n  if (element == null) {\n    console.log(\"Bokeh: ERROR: autoload.js configured with elementid '7e800d1e-2e00-4f4d-9612-8ce0a980c96d' but no matching script tag was found. \")\n    return false;\n  }\n\n  var js_urls = [\"https://cdn.pydata.org/bokeh/release/bokeh-0.12.14.min.js\", \"https://cdn.pydata.org/bokeh/release/bokeh-widgets-0.12.14.min.js\", \"https://cdn.pydata.org/bokeh/release/bokeh-tables-0.12.14.min.js\", \"https://cdn.pydata.org/bokeh/release/bokeh-gl-0.12.14.min.js\"];\n\n  var inline_js = [\n    function(Bokeh) {\n      Bokeh.set_log_level(\"info\");\n    },\n    \n    function(Bokeh) {\n      \n    },\n    function(Bokeh) {\n      console.log(\"Bokeh: injecting CSS: https://cdn.pydata.org/bokeh/release/bokeh-0.12.14.min.css\");\n      Bokeh.embed.inject_css(\"https://cdn.pydata.org/bokeh/release/bokeh-0.12.14.min.css\");\n      console.log(\"Bokeh: injecting CSS: https://cdn.pydata.org/bokeh/release/bokeh-widgets-0.12.14.min.css\");\n      Bokeh.embed.inject_css(\"https://cdn.pydata.org/bokeh/release/bokeh-widgets-0.12.14.min.css\");\n      console.log(\"Bokeh: injecting CSS: https://cdn.pydata.org/bokeh/release/bokeh-tables-0.12.14.min.css\");\n      Bokeh.embed.inject_css(\"https://cdn.pydata.org/bokeh/release/bokeh-tables-0.12.14.min.css\");\n    }\n  ];\n\n  function run_inline_js() {\n    \n    if ((root.Bokeh !== undefined) || (force === true)) {\n      for (var i = 0; i < inline_js.length; i++) {\n        inline_js[i].call(root, root.Bokeh);\n      }if (force === true) {\n        display_loaded();\n      }} else if (Date.now() < root._bokeh_timeout) {\n      setTimeout(run_inline_js, 100);\n    } else if (!root._bokeh_failed_load) {\n      console.log(\"Bokeh: BokehJS failed to load within specified timeout.\");\n      root._bokeh_failed_load = true;\n    } else if (force !== true) {\n      var cell = $(document.getElementById(\"7e800d1e-2e00-4f4d-9612-8ce0a980c96d\")).parents('.cell').data().cell;\n      cell.output_area.append_execute_result(NB_LOAD_WARNING)\n    }\n\n  }\n\n  if (root._bokeh_is_loading === 0) {\n    console.log(\"Bokeh: BokehJS loaded, going straight to plotting\");\n    run_inline_js();\n  } else {\n    load_libs(js_urls, function() {\n      console.log(\"Bokeh: BokehJS plotting callback run at\", now());\n      run_inline_js();\n    });\n  }\n}(window));"
     },
     "metadata": {},
     "output_type": "display_data"
    }
   ],
   "source": [
    "from bokeh.models import ColumnDataSource, HoverTool, TapTool\n",
    "from bokeh.io import push_notebook, show, output_notebook\n",
    "from bokeh.layouts import row\n",
    "from bokeh.plotting import figure\n",
    "output_notebook()"
   ]
  },
  {
   "cell_type": "markdown",
   "metadata": {},
   "source": [
    "### Connecting to database"
   ]
  },
  {
   "cell_type": "code",
   "execution_count": 23,
   "metadata": {
    "collapsed": true
   },
   "outputs": [],
   "source": [
    "db = PythonProblems('python.sqlite')"
   ]
  },
  {
   "cell_type": "code",
   "execution_count": 24,
   "metadata": {
    "scrolled": false
   },
   "outputs": [
    {
     "name": "stdout",
     "output_type": "stream",
     "text": [
      "Success in parsing all documents! You may go on!\n"
     ]
    }
   ],
   "source": [
    "removed_itens = ['NEWLINE', 'STRING', 'ENDMARKER', 'NUMBER', 'INDENT', 'DEDENT', \"NL\", 'COMMENT', 'ERRORTOKEN']\n",
    "allowed_itens = ['NAME', 'OP']\n",
    "cursor = db.conn.cursor()\n",
    "docs = []\n",
    "errors = []\n",
    "\n",
    "# lendo os dados\n",
    "cursor.execute(\"\"\"\n",
    "SELECT * FROM solution;\n",
    "\"\"\")\n",
    "\n",
    "for idx, linha in enumerate(cursor.fetchall()):\n",
    "    file = io.StringIO(linha[1])\n",
    "    doc = []\n",
    "    try:\n",
    "        for item in tokenize.generate_tokens(file.readline):\n",
    "            if tokenize.tok_name[item[0]] not in removed_itens:\n",
    "                if tokenize.tok_name[item[0]] in allowed_itens:\n",
    "                    doc.append(item[1])\n",
    "                else:\n",
    "                    print(\"%s %s\" % (tokenize.tok_name[item[0]], item[1]))\n",
    "    except (IndentationError, tokenize.TokenError):\n",
    "        errors.append(\"Please, fix solution %d before continuing\" % (idx+1))\n",
    "        \n",
    "    docs.append(' '.join(doc))\n",
    "\n",
    "if not errors:\n",
    "    print(\"Success in parsing all documents! You may go on!\")\n",
    "else:\n",
    "    for item in errors:\n",
    "        print(item)"
   ]
  },
  {
   "cell_type": "code",
   "execution_count": 305,
   "metadata": {
    "collapsed": true
   },
   "outputs": [],
   "source": [
    "# Initialize the \"CountVectorizer\" object, which is scikit-learn's\n",
    "# bag of words tool.  \n",
    "vectorizer = CountVectorizer(analyzer = \"word\",   \\\n",
    "                             tokenizer = None,    \\\n",
    "                             preprocessor = None, \\\n",
    "                             stop_words = None,   \\\n",
    "                             #max_features = 26d,\n",
    "                             binary=False\n",
    "                            ) \n",
    "\n",
    "# fit_transform() does two functions: First, it fits the model\n",
    "# and learns the vocabulary; second, it transforms our training data\n",
    "# into feature vectors. The input to fit_transform should be a list of \n",
    "# strings.\n",
    "train_data_features = vectorizer.fit_transform(docs)\n",
    "\n",
    "# Numpy arrays are easy to work with, so convert the result to an \n",
    "# array\n",
    "# Document-term matrix\n",
    "train_data_features = train_data_features.toarray()"
   ]
  },
  {
   "cell_type": "markdown",
   "metadata": {},
   "source": [
    "### NCut weights"
   ]
  },
  {
   "cell_type": "code",
   "execution_count": 306,
   "metadata": {
    "collapsed": true
   },
   "outputs": [],
   "source": [
    "doc_mat_norm = normalize(train_data_features)"
   ]
  },
  {
   "cell_type": "code",
   "execution_count": 307,
   "metadata": {
    "collapsed": true
   },
   "outputs": [],
   "source": [
    "S = np.dot(doc_mat_norm.T, doc_mat_norm) + 0.001"
   ]
  },
  {
   "cell_type": "code",
   "execution_count": 308,
   "metadata": {},
   "outputs": [
    {
     "data": {
      "text/plain": [
       "(1508, 1508)"
      ]
     },
     "execution_count": 308,
     "metadata": {},
     "output_type": "execute_result"
    }
   ],
   "source": [
    "S.shape"
   ]
  },
  {
   "cell_type": "code",
   "execution_count": 309,
   "metadata": {
    "collapsed": true
   },
   "outputs": [],
   "source": [
    "D = np.power(np.sum(S, axis=1), -0.5) * np.eye(S.shape[0])"
   ]
  },
  {
   "cell_type": "code",
   "execution_count": 310,
   "metadata": {},
   "outputs": [
    {
     "data": {
      "text/plain": [
       "(1508, 1508)"
      ]
     },
     "execution_count": 310,
     "metadata": {},
     "output_type": "execute_result"
    }
   ],
   "source": [
    "D.shape"
   ]
  },
  {
   "cell_type": "code",
   "execution_count": 311,
   "metadata": {
    "collapsed": true
   },
   "outputs": [],
   "source": [
    "Y = np.dot(D, train_data_features.T)"
   ]
  },
  {
   "cell_type": "code",
   "execution_count": 312,
   "metadata": {},
   "outputs": [
    {
     "data": {
      "text/plain": [
       "(1508, 758)"
      ]
     },
     "execution_count": 312,
     "metadata": {},
     "output_type": "execute_result"
    }
   ],
   "source": [
    "Y.shape"
   ]
  },
  {
   "cell_type": "markdown",
   "metadata": {},
   "source": [
    "# Cálculo da NMF"
   ]
  },
  {
   "cell_type": "code",
   "execution_count": 313,
   "metadata": {},
   "outputs": [
    {
     "data": {
      "text/html": [
       "\n",
       "<div class=\"bk-root\">\n",
       "    <div class=\"bk-plotdiv\" id=\"edbef117-dae8-496e-be27-74acad74fbad\"></div>\n",
       "</div>"
      ]
     },
     "metadata": {},
     "output_type": "display_data"
    },
    {
     "data": {
      "application/javascript": [
       "(function(root) {\n",
       "  function embed_document(root) {\n",
       "    \n",
       "  var docs_json = {\"d09bb74e-a502-43dc-bf95-e9d46f9bd1ae\":{\"roots\":{\"references\":[{\"attributes\":{\"callback\":null},\"id\":\"1ad89c3c-49ec-4eef-9ac3-cc703aef4b61\",\"type\":\"DataRange1d\"},{\"attributes\":{\"plot\":null,\"text\":\"Ncut\"},\"id\":\"d5923dbb-e7de-48d0-971b-2d6bd3bc10e6\",\"type\":\"Title\"},{\"attributes\":{\"plot\":{\"id\":\"106ae284-d2b3-44aa-8f42-a793a44e8f47\",\"subtype\":\"Figure\",\"type\":\"Plot\"},\"ticker\":{\"id\":\"19f33213-7e1d-454c-8fb8-abe044ae6b1e\",\"type\":\"BasicTicker\"}},\"id\":\"31788ec6-0a2a-444a-9a6b-8aff95bbb78e\",\"type\":\"Grid\"},{\"attributes\":{},\"id\":\"c2c2fc80-88d7-44a2-8c52-36f928e0a997\",\"type\":\"PanTool\"},{\"attributes\":{\"source\":{\"id\":\"bd2098e1-d49b-4556-9f7a-e6cb63c3d714\",\"type\":\"ColumnDataSource\"}},\"id\":\"b17c450e-5a50-4b12-9177-e4dc1be786f8\",\"type\":\"CDSView\"},{\"attributes\":{},\"id\":\"d7cc7c47-cc66-47be-a432-5f152420f31e\",\"type\":\"SaveTool\"},{\"attributes\":{\"data_source\":{\"id\":\"bd2098e1-d49b-4556-9f7a-e6cb63c3d714\",\"type\":\"ColumnDataSource\"},\"glyph\":{\"id\":\"0b1e7d14-bc6f-44e4-8e1a-0e6cccd0e83c\",\"type\":\"Circle\"},\"hover_glyph\":null,\"muted_glyph\":null,\"nonselection_glyph\":{\"id\":\"4496b2b8-72e4-420f-85d5-a9ec1632552b\",\"type\":\"Circle\"},\"selection_glyph\":null,\"view\":{\"id\":\"b17c450e-5a50-4b12-9177-e4dc1be786f8\",\"type\":\"CDSView\"}},\"id\":\"adb675b5-8440-4d16-a1ac-0ac7a947d8c9\",\"type\":\"GlyphRenderer\"},{\"attributes\":{\"callback\":null},\"id\":\"7b163af8-4e99-474f-8804-bc71f622448f\",\"type\":\"DataRange1d\"},{\"attributes\":{\"fill_alpha\":{\"value\":0.1},\"fill_color\":{\"value\":\"#1f77b4\"},\"line_alpha\":{\"value\":0.1},\"line_color\":{\"value\":\"#1f77b4\"},\"size\":{\"units\":\"screen\",\"value\":8},\"x\":{\"field\":\"x_values\"},\"y\":{\"field\":\"y_values\"}},\"id\":\"4496b2b8-72e4-420f-85d5-a9ec1632552b\",\"type\":\"Circle\"},{\"attributes\":{},\"id\":\"b8accd56-5699-4628-a436-0def1bb54946\",\"type\":\"ResetTool\"},{\"attributes\":{},\"id\":\"501fec64-89c3-4cf8-a2b0-c1b3c3bbe045\",\"type\":\"BasicTickFormatter\"},{\"attributes\":{\"line_color\":\"#2222aa\",\"line_width\":2,\"x\":{\"field\":\"x_values\"},\"y\":{\"field\":\"y_values\"}},\"id\":\"1cbaaad3-35dc-47ac-b15b-47ca6f0f997e\",\"type\":\"Line\"},{\"attributes\":{\"formatter\":{\"id\":\"1f44eff1-c823-4901-953c-66d2e7e7f670\",\"type\":\"BasicTickFormatter\"},\"plot\":{\"id\":\"106ae284-d2b3-44aa-8f42-a793a44e8f47\",\"subtype\":\"Figure\",\"type\":\"Plot\"},\"ticker\":{\"id\":\"2f92e1a8-780d-4480-bffb-b08db6b5ec39\",\"type\":\"BasicTicker\"}},\"id\":\"ce69be32-5309-4ad8-a899-691644d37f99\",\"type\":\"LinearAxis\"},{\"attributes\":{},\"id\":\"afb5b8e9-3a92-4dd6-a055-85c0dc53a646\",\"type\":\"HelpTool\"},{\"attributes\":{\"active_drag\":\"auto\",\"active_inspect\":\"auto\",\"active_scroll\":\"auto\",\"active_tap\":\"auto\",\"tools\":[{\"id\":\"c2c2fc80-88d7-44a2-8c52-36f928e0a997\",\"type\":\"PanTool\"},{\"id\":\"aa5e1019-0e6c-46a8-b522-cb3bca5eaa34\",\"type\":\"WheelZoomTool\"},{\"id\":\"2472f58b-1c5b-4649-bcad-f81bfc1f90fd\",\"type\":\"BoxZoomTool\"},{\"id\":\"d7cc7c47-cc66-47be-a432-5f152420f31e\",\"type\":\"SaveTool\"},{\"id\":\"b8accd56-5699-4628-a436-0def1bb54946\",\"type\":\"ResetTool\"},{\"id\":\"afb5b8e9-3a92-4dd6-a055-85c0dc53a646\",\"type\":\"HelpTool\"},{\"id\":\"f0e92e89-79a0-4dce-8f81-e215b8ed9da2\",\"type\":\"HoverTool\"}]},\"id\":\"f2252b70-e635-42c6-9692-4ea1ca4c3289\",\"type\":\"Toolbar\"},{\"attributes\":{\"overlay\":{\"id\":\"8b4be1ec-3c45-4234-8160-af33b9670aa5\",\"type\":\"BoxAnnotation\"}},\"id\":\"2472f58b-1c5b-4649-bcad-f81bfc1f90fd\",\"type\":\"BoxZoomTool\"},{\"attributes\":{\"formatter\":{\"id\":\"501fec64-89c3-4cf8-a2b0-c1b3c3bbe045\",\"type\":\"BasicTickFormatter\"},\"plot\":{\"id\":\"106ae284-d2b3-44aa-8f42-a793a44e8f47\",\"subtype\":\"Figure\",\"type\":\"Plot\"},\"ticker\":{\"id\":\"19f33213-7e1d-454c-8fb8-abe044ae6b1e\",\"type\":\"BasicTicker\"}},\"id\":\"2a789e34-655d-4aa4-a5b8-6cb7916feca3\",\"type\":\"LinearAxis\"},{\"attributes\":{\"source\":{\"id\":\"bd2098e1-d49b-4556-9f7a-e6cb63c3d714\",\"type\":\"ColumnDataSource\"}},\"id\":\"5ce369fe-ad91-4833-b329-4960303e156e\",\"type\":\"CDSView\"},{\"attributes\":{\"fill_color\":{\"value\":\"white\"},\"line_color\":{\"value\":\"#2222aa\"},\"size\":{\"units\":\"screen\",\"value\":8},\"x\":{\"field\":\"x_values\"},\"y\":{\"field\":\"y_values\"}},\"id\":\"0b1e7d14-bc6f-44e4-8e1a-0e6cccd0e83c\",\"type\":\"Circle\"},{\"attributes\":{\"below\":[{\"id\":\"2a789e34-655d-4aa4-a5b8-6cb7916feca3\",\"type\":\"LinearAxis\"}],\"left\":[{\"id\":\"ce69be32-5309-4ad8-a899-691644d37f99\",\"type\":\"LinearAxis\"}],\"min_border\":0,\"plot_height\":500,\"plot_width\":900,\"renderers\":[{\"id\":\"2a789e34-655d-4aa4-a5b8-6cb7916feca3\",\"type\":\"LinearAxis\"},{\"id\":\"31788ec6-0a2a-444a-9a6b-8aff95bbb78e\",\"type\":\"Grid\"},{\"id\":\"ce69be32-5309-4ad8-a899-691644d37f99\",\"type\":\"LinearAxis\"},{\"id\":\"c8d2aa6b-1998-4952-833e-30fd8adfb6e0\",\"type\":\"Grid\"},{\"id\":\"8b4be1ec-3c45-4234-8160-af33b9670aa5\",\"type\":\"BoxAnnotation\"},{\"id\":\"e0c2be7f-a6a1-4b73-90c6-87f0df481ac3\",\"type\":\"GlyphRenderer\"},{\"id\":\"adb675b5-8440-4d16-a1ac-0ac7a947d8c9\",\"type\":\"GlyphRenderer\"}],\"title\":{\"id\":\"d5923dbb-e7de-48d0-971b-2d6bd3bc10e6\",\"type\":\"Title\"},\"toolbar\":{\"id\":\"f2252b70-e635-42c6-9692-4ea1ca4c3289\",\"type\":\"Toolbar\"},\"x_range\":{\"id\":\"7b163af8-4e99-474f-8804-bc71f622448f\",\"type\":\"DataRange1d\"},\"x_scale\":{\"id\":\"2352ebeb-8c71-47fc-8013-e1ef96a7db3e\",\"type\":\"LinearScale\"},\"y_range\":{\"id\":\"1ad89c3c-49ec-4eef-9ac3-cc703aef4b61\",\"type\":\"DataRange1d\"},\"y_scale\":{\"id\":\"bb4004d9-f6d9-4884-a727-03171e91ac8e\",\"type\":\"LinearScale\"}},\"id\":\"106ae284-d2b3-44aa-8f42-a793a44e8f47\",\"subtype\":\"Figure\",\"type\":\"Plot\"},{\"attributes\":{},\"id\":\"2352ebeb-8c71-47fc-8013-e1ef96a7db3e\",\"type\":\"LinearScale\"},{\"attributes\":{\"dimension\":1,\"plot\":{\"id\":\"106ae284-d2b3-44aa-8f42-a793a44e8f47\",\"subtype\":\"Figure\",\"type\":\"Plot\"},\"ticker\":{\"id\":\"2f92e1a8-780d-4480-bffb-b08db6b5ec39\",\"type\":\"BasicTicker\"}},\"id\":\"c8d2aa6b-1998-4952-833e-30fd8adfb6e0\",\"type\":\"Grid\"},{\"attributes\":{},\"id\":\"1f44eff1-c823-4901-953c-66d2e7e7f670\",\"type\":\"BasicTickFormatter\"},{\"attributes\":{\"data_source\":{\"id\":\"bd2098e1-d49b-4556-9f7a-e6cb63c3d714\",\"type\":\"ColumnDataSource\"},\"glyph\":{\"id\":\"1cbaaad3-35dc-47ac-b15b-47ca6f0f997e\",\"type\":\"Line\"},\"hover_glyph\":null,\"muted_glyph\":null,\"nonselection_glyph\":{\"id\":\"4a19bf95-9a33-4b28-8e59-633fef4b3ed3\",\"type\":\"Line\"},\"selection_glyph\":null,\"view\":{\"id\":\"5ce369fe-ad91-4833-b329-4960303e156e\",\"type\":\"CDSView\"}},\"id\":\"e0c2be7f-a6a1-4b73-90c6-87f0df481ac3\",\"type\":\"GlyphRenderer\"},{\"attributes\":{},\"id\":\"aa5e1019-0e6c-46a8-b522-cb3bca5eaa34\",\"type\":\"WheelZoomTool\"},{\"attributes\":{\"callback\":null,\"tooltips\":[[\"(x,y)\",\"($x{0}, $y)\"],[\"reconst\",\"@recons\"]]},\"id\":\"f0e92e89-79a0-4dce-8f81-e215b8ed9da2\",\"type\":\"HoverTool\"},{\"attributes\":{\"line_alpha\":0.1,\"line_color\":\"#1f77b4\",\"line_width\":2,\"x\":{\"field\":\"x_values\"},\"y\":{\"field\":\"y_values\"}},\"id\":\"4a19bf95-9a33-4b28-8e59-633fef4b3ed3\",\"type\":\"Line\"},{\"attributes\":{\"callback\":null,\"column_names\":[\"x_values\",\"y_values\",\"recons\"],\"data\":{\"recons\":[],\"x_values\":[],\"y_values\":[]}},\"id\":\"bd2098e1-d49b-4556-9f7a-e6cb63c3d714\",\"type\":\"ColumnDataSource\"},{\"attributes\":{\"bottom_units\":\"screen\",\"fill_alpha\":{\"value\":0.5},\"fill_color\":{\"value\":\"lightgrey\"},\"left_units\":\"screen\",\"level\":\"overlay\",\"line_alpha\":{\"value\":1.0},\"line_color\":{\"value\":\"black\"},\"line_dash\":[4,4],\"line_width\":{\"value\":2},\"plot\":null,\"render_mode\":\"css\",\"right_units\":\"screen\",\"top_units\":\"screen\"},\"id\":\"8b4be1ec-3c45-4234-8160-af33b9670aa5\",\"type\":\"BoxAnnotation\"},{\"attributes\":{},\"id\":\"2f92e1a8-780d-4480-bffb-b08db6b5ec39\",\"type\":\"BasicTicker\"},{\"attributes\":{},\"id\":\"19f33213-7e1d-454c-8fb8-abe044ae6b1e\",\"type\":\"BasicTicker\"},{\"attributes\":{},\"id\":\"bb4004d9-f6d9-4884-a727-03171e91ac8e\",\"type\":\"LinearScale\"}],\"root_ids\":[\"106ae284-d2b3-44aa-8f42-a793a44e8f47\"]},\"title\":\"Bokeh Application\",\"version\":\"0.12.14\"}};\n",
       "  var render_items = [{\"docid\":\"d09bb74e-a502-43dc-bf95-e9d46f9bd1ae\",\"elementid\":\"edbef117-dae8-496e-be27-74acad74fbad\",\"modelid\":\"106ae284-d2b3-44aa-8f42-a793a44e8f47\",\"notebook_comms_target\":\"03e02e37-a563-4937-aae7-19c34c93d63a\"}];\n",
       "  root.Bokeh.embed.embed_items_notebook(docs_json, render_items);\n",
       "\n",
       "  }\n",
       "  if (root.Bokeh !== undefined) {\n",
       "    embed_document(root);\n",
       "  } else {\n",
       "    var attempts = 0;\n",
       "    var timer = setInterval(function(root) {\n",
       "      if (root.Bokeh !== undefined) {\n",
       "        embed_document(root);\n",
       "        clearInterval(timer);\n",
       "      }\n",
       "      attempts++;\n",
       "      if (attempts > 100) {\n",
       "        console.log(\"Bokeh: ERROR: Unable to run BokehJS code because BokehJS library is missing\")\n",
       "        clearInterval(timer);\n",
       "      }\n",
       "    }, 10, root)\n",
       "  }\n",
       "})(window);"
      ],
      "application/vnd.bokehjs_exec.v0+json": ""
     },
     "metadata": {
      "application/vnd.bokehjs_exec.v0+json": {
       "id": "106ae284-d2b3-44aa-8f42-a793a44e8f47"
      }
     },
     "output_type": "display_data"
    }
   ],
   "source": [
    "hover = HoverTool(tooltips=[\n",
    "#    (\"index\", \"$index\"),\n",
    "    (\"(x,y)\", \"($x{0}, $y)\"),\n",
    "    (\"reconst\", \"@recons\"),\n",
    "])\n",
    "opts = dict(plot_width=250, plot_height=250, min_border=0)\n",
    "models = {}\n",
    "\n",
    "data = {'x_values': [],\n",
    "        'y_values': [],\n",
    "        'recons': []}\n",
    "\n",
    "source = ColumnDataSource(data=data)\n",
    "\n",
    "opts = dict(plot_width=900, plot_height=500, min_border=0, title=\"Ncut\")\n",
    "plot = figure(**opts)\n",
    "plot.add_tools(hover)\n",
    "l = plot.line(x='x_values', y='y_values', color=\"#2222aa\", line_width=2, source=source)\n",
    "c = plot.circle(x='x_values', y='y_values', color=\"#2222aa\", fill_color=\"white\", size=8, source=source)\n",
    "h = show(plot, notebook_handle=True)"
   ]
  },
  {
   "cell_type": "code",
   "execution_count": 314,
   "metadata": {
    "collapsed": true
   },
   "outputs": [],
   "source": [
    "def edges_sum(cond_1, cond_2, S):\n",
    "    nodes_1 = np.where(cond_1)[0]\n",
    "    nodes_2 = np.where(cond_2)[0]\n",
    "    \n",
    "    # Every (x, y) index that I should get cooccurence value from S matrix\n",
    "    indices = product(nodes_1, nodes_2)\n",
    "    return np.sum(S[idx] for idx in indices)\n",
    "\n",
    "\n",
    "def n_cut(mat_U, mat_S):\n",
    "    \n",
    "    # Each term belongs to which topic?\n",
    "    term_clusters = mat_U.argmax(axis=1)\n",
    "    \n",
    "    # Number of clusters\n",
    "    n_k = mat_U.shape[1]\n",
    "    \n",
    "    result = 0.0\n",
    "    for idx_k in range(n_k):\n",
    "        \n",
    "        # Check in which cluster the terms come from\n",
    "        cond_g_k = term_clusters == idx_k\n",
    "        \n",
    "        # Sum edges between terms inside cluster and terms outside\n",
    "        num = edges_sum(cond_g_k, ~cond_g_k, mat_S)\n",
    "        \n",
    "        # Sum all edges\n",
    "        den = edges_sum(cond_g_k,  cond_g_k, mat_S) + num\n",
    "        \n",
    "        try:\n",
    "            result += num/den\n",
    "        except ZeroDivisionError:\n",
    "            return 0\n",
    "        \n",
    "    return 0.5 * result"
   ]
  },
  {
   "cell_type": "code",
   "execution_count": 315,
   "metadata": {
    "collapsed": true
   },
   "outputs": [],
   "source": [
    "num_topics = list(range(2, 100))\n",
    "#random.shuffle(num_topics)\n",
    "#random.shuffle(num_topics)\n",
    "#random.shuffle(num_topics)"
   ]
  },
  {
   "cell_type": "code",
   "execution_count": 316,
   "metadata": {
    "collapsed": true
   },
   "outputs": [],
   "source": [
    "#nt = sorted(num_topics[:50])\n",
    "\n",
    "for k in num_topics:\n",
    "    start_time = time.time()\n",
    "    model = NMF(n_components=k, init=\"nndsvda\", max_iter=1000, l1_ratio=0, alpha=1)\n",
    "    V_T = model.fit_transform(Y.T)\n",
    "    U_T = model.components_\n",
    "    \n",
    "    \n",
    "    n_cut_val = n_cut(U_T.T, S)\n",
    "    \n",
    "    if n_cut_val:\n",
    "        models[k] = {\n",
    "            \"model\": model,\n",
    "            \"V_T\": V_T,\n",
    "            \"n_cut\": n_cut_val,\n",
    "            \"recons\": [model.reconstruction_err_]\n",
    "        }\n",
    "\n",
    "        end_time = time.time()\n",
    "\n",
    "        x_values = [k]\n",
    "        y_values = [models[k][\"n_cut\"]/k]\n",
    "        #print(\"%d: %f\" %(k, end_time - start_time))\n",
    "\n",
    "        new_data = {'x_values': x_values,\n",
    "                    'y_values': y_values,\n",
    "                    'recons': models[k]['recons']}\n",
    "        source.stream(new_data)\n",
    "        push_notebook(h)"
   ]
  },
  {
   "cell_type": "code",
   "execution_count": 317,
   "metadata": {
    "collapsed": true
   },
   "outputs": [],
   "source": [
    "def coherence_norm(data, tf_idf_norm):\n",
    "    clusters = np.argmax(data['V_T'], axis=1)\n",
    "    n_clusters = data['V_T'].shape[1]\n",
    "    \n",
    "    clusters_norm = []\n",
    "    clusters_size = []\n",
    "    coherence_cluster = []\n",
    "    \n",
    "    for idx_cluster in range(n_clusters):\n",
    "        \n",
    "        cluster_data = tf_idf_norm[clusters == idx_cluster]\n",
    "        avg_vector = np.average(cluster_data, axis=0)\n",
    "        cluster_norm = np.sqrt(np.power(avg_vector, 2).sum())\n",
    "        clusters_norm.append(cluster_norm)\n",
    "        clusters_size.append(cluster_data.shape[0])\n",
    "        \n",
    "        if cluster_data.shape[0] > 3:\n",
    "            coherence_cluster.append(cluster_norm)\n",
    "    \n",
    "    \n",
    "    data['avg_clusters_norm'] = clusters_norm\n",
    "    data['clusters_size'] = clusters_size\n",
    "    data['coherence_norm'] = np.average(clusters_norm)\n",
    "    return np.average(coherence_cluster), np.std(clusters_norm)"
   ]
  },
  {
   "cell_type": "code",
   "execution_count": 318,
   "metadata": {
    "collapsed": true
   },
   "outputs": [],
   "source": [
    "for key in sorted(models.keys()):\n",
    "    coherence_norm(models[key], doc_mat_norm)"
   ]
  },
  {
   "cell_type": "code",
   "execution_count": 319,
   "metadata": {},
   "outputs": [
    {
     "data": {
      "text/html": [
       "\n",
       "<div class=\"bk-root\">\n",
       "    <div class=\"bk-plotdiv\" id=\"61aa2dcc-ae18-4920-8fe2-cb14d2ffb5da\"></div>\n",
       "</div>"
      ]
     },
     "metadata": {},
     "output_type": "display_data"
    },
    {
     "data": {
      "application/javascript": [
       "(function(root) {\n",
       "  function embed_document(root) {\n",
       "    \n",
       "  var docs_json = {\"4ae519d7-dfc5-4929-bb16-8d01a4f92278\":{\"roots\":{\"references\":[{\"attributes\":{\"formatter\":{\"id\":\"698b614f-bbdf-4f4f-a29f-622c728118b6\",\"type\":\"BasicTickFormatter\"},\"plot\":{\"id\":\"dd2dfdf8-841f-4174-8e46-50cd3885bd66\",\"subtype\":\"Figure\",\"type\":\"Plot\"},\"ticker\":{\"id\":\"d4aa4d1a-4f28-4d6b-bc71-91c48bdb2821\",\"type\":\"BasicTicker\"},\"y_range_name\":\"coherence\"},\"id\":\"2935c987-0e2b-4104-8759-22e7baba5f6a\",\"type\":\"LinearAxis\"},{\"attributes\":{},\"id\":\"0383acd0-b8d0-4b1a-8980-30222c0a1ab3\",\"type\":\"BasicTicker\"},{\"attributes\":{},\"id\":\"df801b5f-4f6e-44f7-b779-c88eaddb37af\",\"type\":\"BasicTickFormatter\"},{\"attributes\":{\"line_alpha\":0.1,\"line_color\":\"#1f77b4\",\"line_width\":2,\"x\":{\"field\":\"x\"},\"y\":{\"field\":\"y\"}},\"id\":\"fe79a61b-6830-4488-9809-0ca90386a169\",\"type\":\"Line\"},{\"attributes\":{\"line_color\":\"red\",\"line_width\":2,\"x\":{\"field\":\"x\"},\"y\":{\"field\":\"y\"}},\"id\":\"4ee9e704-ef5d-44cb-8406-47abcfc5e4b4\",\"type\":\"Line\"},{\"attributes\":{},\"id\":\"28901778-6825-45e6-ac68-a98555a70c2f\",\"type\":\"LinearScale\"},{\"attributes\":{},\"id\":\"e2fa34e7-94b7-4667-88a8-8f4dd8cd217e\",\"type\":\"LinearScale\"},{\"attributes\":{},\"id\":\"d407a6dc-d584-438a-9159-231963e0624f\",\"type\":\"BasicTickFormatter\"},{\"attributes\":{\"data_source\":{\"id\":\"73ce3b18-2657-41f5-b8f0-c381f8f64f84\",\"type\":\"ColumnDataSource\"},\"glyph\":{\"id\":\"87021148-3bc5-4e85-9c3a-29b086d51476\",\"type\":\"Line\"},\"hover_glyph\":null,\"muted_glyph\":null,\"nonselection_glyph\":{\"id\":\"fe79a61b-6830-4488-9809-0ca90386a169\",\"type\":\"Line\"},\"selection_glyph\":null,\"view\":{\"id\":\"783f6756-4e59-442d-b10c-ccf0b6508d32\",\"type\":\"CDSView\"}},\"id\":\"0b9489dc-d958-42e2-bd9b-e3e654d699c8\",\"type\":\"GlyphRenderer\"},{\"attributes\":{\"callback\":null},\"id\":\"64d586cb-7dfa-4e23-a021-6fa624191f7b\",\"type\":\"DataRange1d\"},{\"attributes\":{},\"id\":\"698b614f-bbdf-4f4f-a29f-622c728118b6\",\"type\":\"BasicTickFormatter\"},{\"attributes\":{\"callback\":null,\"column_names\":[\"x\",\"y\"],\"data\":{\"x\":[2,3,4,5,6,7,8,9,10,11,12,13,14,15,16,17,18,19,20,21,22,23,24,25,26,27,28,29,30,31,32,33,34,35,36,37,38,39,40,41,42,43,44,45,46,47,48,49,50,51,52,53,54,55,56,57,58,59,60,61,62,63,64,65,66,67,68,69,70,71,72,73,74,75,76,77,78,79,80,81,82,83,84,85,86,87,88,89,90,91,92,93,94,95,96,97,98,99],\"y\":[0.19253339750390852,0.280684566489701,0.3051856731241419,0.3221250741364138,0.3341494341949052,0.3453013457489481,0.35471439151103146,0.35559368819196546,0.36445476509276,0.3669363225685938,0.3651408822699131,0.3671566192159675,0.3669069334881413,0.37044162844132594,0.37334876212663526,0.37673174551545296,0.37431127898786487,0.3728423740394391,0.3744208447872964,0.3744081847577405,0.3745791517762935,0.3805401082551235,0.3819669269989437,0.3831878375496649,0.3858823064605668,0.38424060562237555,0.3905782595588411,0.3917454434503557,0.39258256824272036,0.39253345919453025,0.39236332039323374,0.39138231911631793,0.3921101894506439,0.3920675297491914,0.39189029656441704,0.391254066582441,0.3909387964170751,0.39061969510387184,0.39048294983646886,0.39083346277289716,0.39144196581008484,0.3910550460261472,0.38946032058180413,0.3896291032621,0.3911291023491695,0.39099739574583153,0.3912388623290491,0.39090905188549924,0.3903946807813061,0.3904576535557135,0.3901504380707016,0.3900852640503274,0.3915318922951937,0.39227485100414733,0.3925405001518806,0.39200888552166996,0.3930230174704855,0.3922487912253053,0.39316584273444094,0.3930954971774919,0.39303393070399173,0.3932751827505849,0.3925605583379655,0.39338742326315845,0.39341531655093387,0.393086569862206,0.39391466338243464,0.394859174774464,0.39524706097235884,0.3952023321174404,0.39653815334280207,0.39601586755680757,0.39608726730442495,0.3970805232808965,0.398103106210643,0.3976143340445732,0.39606657425391373,0.39794359833206916,0.39706080252477943,0.39623317379133055,0.397130062567083,0.39738163502209917,0.39597288115014495,0.39585509837415683,0.3970575477895178,0.3969961174036347,0.39774868101247757,0.39690059284004814,0.39632896972872467,0.39603889179529417,0.3956415542547368,0.3953300028542098,0.3960729848618519,0.39740163329561784,0.3978394899578679,0.3982608956734273,0.39748256687394984,0.39846451342713873]}},\"id\":\"73ce3b18-2657-41f5-b8f0-c381f8f64f84\",\"type\":\"ColumnDataSource\"},{\"attributes\":{\"callback\":null,\"column_names\":[\"x\",\"y\"],\"data\":{\"x\":[2,3,4,5,6,7,8,9,10,11,12,13,14,15,16,17,18,19,20,21,22,23,24,25,26,27,28,29,30,31,32,33,34,35,36,37,38,39,40,41,42,43,44,45,46,47,48,49,50,51,52,53,54,55,56,57,58,59,60,61,62,63,64,65,66,67,68,69,70,71,72,73,74,75,76,77,78,79,80,81,82,83,84,85,86,87,88,89,90,91,92,93,94,95,96,97,98,99],\"y\":[0.4288445432039241,0.4706473069509359,0.4700063619655894,0.45948562157663214,0.46153439989409145,0.5159737718736691,0.512226364787369,0.5202259597943807,0.5313796917517397,0.5253846090780843,0.5295829031846738,0.5332131553752089,0.5325928221135591,0.5306986657957184,0.5696119653392744,0.5702529356664305,0.5744282995888494,0.5848323698355655,0.58605344479769,0.6035515160806945,0.5994300989412568,0.6317794509204111,0.6437197393038129,0.6514976027461169,0.6520259391756833,0.6406386054412992,0.6767375132593436,0.6677004142607396,0.6805599561524366,0.6768906527810501,0.6736683342439188,0.6721591677834862,0.6847011669522106,0.6861692856096602,0.6818637390367264,0.680463514698064,0.6794290908639703,0.6733541265898847,0.6745515119409677,0.6707583235963923,0.6698576512247515,0.6970234134555948,0.6947666789730231,0.6925270062095226,0.6932151973802909,0.6822222431446773,0.6812393113273654,0.6789978893593233,0.6950007270199009,0.6936318385588747,0.6928772942803262,0.6907048936719825,0.6936193100393981,0.6990772151570613,0.7085716601026248,0.7011829458428387,0.7103519312627212,0.7111508144878824,0.7132108774845967,0.7146347285029563,0.7241927927937447,0.7239374399287696,0.7233225783156441,0.7328377763482357,0.7263073395427945,0.7275482986848459,0.742280041069296,0.7412407511823027,0.7435808351829732,0.7484423609802551,0.7506837927711483,0.7541985732442993,0.759846066510017,0.7590935911532077,0.7599869296972502,0.7639227605766759,0.7575027046204035,0.7634553757943626,0.7663564638938987,0.771450334147903,0.7706566643151643,0.7736098385362574,0.7753327635031744,0.7797593518248372,0.7719487167702948,0.7826046190424591,0.7858355279851224,0.7911386449534463,0.7834095213745703,0.7812507817214035,0.7757083694535194,0.7728957922427862,0.7756718575161219,0.7767496846250189,0.7790383650955803,0.7807466683123429,0.7779601552461705,0.7875170944505678]}},\"id\":\"ba7acd96-8e35-4c2b-87bd-8d5e5fdaeb64\",\"type\":\"ColumnDataSource\"},{\"attributes\":{\"data_source\":{\"id\":\"ba7acd96-8e35-4c2b-87bd-8d5e5fdaeb64\",\"type\":\"ColumnDataSource\"},\"glyph\":{\"id\":\"4ee9e704-ef5d-44cb-8406-47abcfc5e4b4\",\"type\":\"Line\"},\"hover_glyph\":null,\"muted_glyph\":null,\"nonselection_glyph\":{\"id\":\"2e0c93c8-cf59-4047-965b-b88ae42dd483\",\"type\":\"Line\"},\"selection_glyph\":null,\"view\":{\"id\":\"8334381b-edc4-4490-b15d-e45d387b46db\",\"type\":\"CDSView\"},\"y_range_name\":\"coherence\"},\"id\":\"9b2c504a-a02e-451a-8243-18ca0ad3e96e\",\"type\":\"GlyphRenderer\"},{\"attributes\":{\"callback\":null,\"tooltips\":[[\"index\",\"$index\"],[\"(x, y)\",\"($x{0}, $y)\"]]},\"id\":\"9cb2a13c-db51-4cb8-a5b6-16948f0ec87e\",\"type\":\"HoverTool\"},{\"attributes\":{\"source\":{\"id\":\"73ce3b18-2657-41f5-b8f0-c381f8f64f84\",\"type\":\"ColumnDataSource\"}},\"id\":\"783f6756-4e59-442d-b10c-ccf0b6508d32\",\"type\":\"CDSView\"},{\"attributes\":{\"source\":{\"id\":\"ba7acd96-8e35-4c2b-87bd-8d5e5fdaeb64\",\"type\":\"ColumnDataSource\"}},\"id\":\"8334381b-edc4-4490-b15d-e45d387b46db\",\"type\":\"CDSView\"},{\"attributes\":{\"dimension\":1,\"plot\":{\"id\":\"dd2dfdf8-841f-4174-8e46-50cd3885bd66\",\"subtype\":\"Figure\",\"type\":\"Plot\"},\"ticker\":{\"id\":\"0383acd0-b8d0-4b1a-8980-30222c0a1ab3\",\"type\":\"BasicTicker\"}},\"id\":\"045748f8-1ba7-41b4-99f2-40c5b512fbc6\",\"type\":\"Grid\"},{\"attributes\":{\"plot\":{\"id\":\"dd2dfdf8-841f-4174-8e46-50cd3885bd66\",\"subtype\":\"Figure\",\"type\":\"Plot\"},\"ticker\":{\"id\":\"86d3c8a6-71ab-48aa-870e-2faf5c157fe0\",\"type\":\"BasicTicker\"}},\"id\":\"02a97e89-85b9-4a79-9999-45ad7aa9114c\",\"type\":\"Grid\"},{\"attributes\":{\"active_drag\":\"auto\",\"active_inspect\":\"auto\",\"active_scroll\":\"auto\",\"active_tap\":\"auto\",\"tools\":[{\"id\":\"9cb2a13c-db51-4cb8-a5b6-16948f0ec87e\",\"type\":\"HoverTool\"},{\"id\":\"7ddcef8c-3c7e-4dad-9937-c1590a73e1f9\",\"type\":\"PanTool\"},{\"id\":\"89e8178d-06c3-42cc-a261-fbcacc77f664\",\"type\":\"WheelZoomTool\"}]},\"id\":\"4ffb333e-151d-444e-9e65-c2e7b1301445\",\"type\":\"Toolbar\"},{\"attributes\":{},\"id\":\"d4aa4d1a-4f28-4d6b-bc71-91c48bdb2821\",\"type\":\"BasicTicker\"},{\"attributes\":{\"callback\":null},\"id\":\"1d881e47-f929-4119-a62a-e0e17f2b38b6\",\"type\":\"DataRange1d\"},{\"attributes\":{},\"id\":\"86d3c8a6-71ab-48aa-870e-2faf5c157fe0\",\"type\":\"BasicTicker\"},{\"attributes\":{\"formatter\":{\"id\":\"df801b5f-4f6e-44f7-b779-c88eaddb37af\",\"type\":\"BasicTickFormatter\"},\"plot\":{\"id\":\"dd2dfdf8-841f-4174-8e46-50cd3885bd66\",\"subtype\":\"Figure\",\"type\":\"Plot\"},\"ticker\":{\"id\":\"0383acd0-b8d0-4b1a-8980-30222c0a1ab3\",\"type\":\"BasicTicker\"}},\"id\":\"c2ff0931-c28f-4b3a-b719-96d535463632\",\"type\":\"LinearAxis\"},{\"attributes\":{\"plot\":null,\"text\":\"Ncut vs Coherence\"},\"id\":\"0154c77b-6787-442c-831e-b5277386eff9\",\"type\":\"Title\"},{\"attributes\":{\"formatter\":{\"id\":\"d407a6dc-d584-438a-9159-231963e0624f\",\"type\":\"BasicTickFormatter\"},\"plot\":{\"id\":\"dd2dfdf8-841f-4174-8e46-50cd3885bd66\",\"subtype\":\"Figure\",\"type\":\"Plot\"},\"ticker\":{\"id\":\"86d3c8a6-71ab-48aa-870e-2faf5c157fe0\",\"type\":\"BasicTicker\"}},\"id\":\"f8672bf0-981e-4fe8-9d6c-a3e42d297b15\",\"type\":\"LinearAxis\"},{\"attributes\":{\"line_color\":\"#2222aa\",\"line_width\":2,\"x\":{\"field\":\"x\"},\"y\":{\"field\":\"y\"}},\"id\":\"87021148-3bc5-4e85-9c3a-29b086d51476\",\"type\":\"Line\"},{\"attributes\":{\"line_alpha\":0.1,\"line_color\":\"#1f77b4\",\"line_width\":2,\"x\":{\"field\":\"x\"},\"y\":{\"field\":\"y\"}},\"id\":\"2e0c93c8-cf59-4047-965b-b88ae42dd483\",\"type\":\"Line\"},{\"attributes\":{\"callback\":null},\"id\":\"503f3c8f-b9e8-4540-9933-91d5abd2a294\",\"type\":\"Range1d\"},{\"attributes\":{},\"id\":\"89e8178d-06c3-42cc-a261-fbcacc77f664\",\"type\":\"WheelZoomTool\"},{\"attributes\":{\"below\":[{\"id\":\"f8672bf0-981e-4fe8-9d6c-a3e42d297b15\",\"type\":\"LinearAxis\"}],\"extra_y_ranges\":{\"coherence\":{\"id\":\"503f3c8f-b9e8-4540-9933-91d5abd2a294\",\"type\":\"Range1d\"}},\"left\":[{\"id\":\"c2ff0931-c28f-4b3a-b719-96d535463632\",\"type\":\"LinearAxis\"}],\"plot_height\":500,\"plot_width\":900,\"renderers\":[{\"id\":\"f8672bf0-981e-4fe8-9d6c-a3e42d297b15\",\"type\":\"LinearAxis\"},{\"id\":\"02a97e89-85b9-4a79-9999-45ad7aa9114c\",\"type\":\"Grid\"},{\"id\":\"c2ff0931-c28f-4b3a-b719-96d535463632\",\"type\":\"LinearAxis\"},{\"id\":\"045748f8-1ba7-41b4-99f2-40c5b512fbc6\",\"type\":\"Grid\"},{\"id\":\"0b9489dc-d958-42e2-bd9b-e3e654d699c8\",\"type\":\"GlyphRenderer\"},{\"id\":\"9b2c504a-a02e-451a-8243-18ca0ad3e96e\",\"type\":\"GlyphRenderer\"},{\"id\":\"2935c987-0e2b-4104-8759-22e7baba5f6a\",\"type\":\"LinearAxis\"}],\"right\":[{\"id\":\"2935c987-0e2b-4104-8759-22e7baba5f6a\",\"type\":\"LinearAxis\"}],\"title\":{\"id\":\"0154c77b-6787-442c-831e-b5277386eff9\",\"type\":\"Title\"},\"toolbar\":{\"id\":\"4ffb333e-151d-444e-9e65-c2e7b1301445\",\"type\":\"Toolbar\"},\"x_range\":{\"id\":\"1d881e47-f929-4119-a62a-e0e17f2b38b6\",\"type\":\"DataRange1d\"},\"x_scale\":{\"id\":\"28901778-6825-45e6-ac68-a98555a70c2f\",\"type\":\"LinearScale\"},\"y_range\":{\"id\":\"64d586cb-7dfa-4e23-a021-6fa624191f7b\",\"type\":\"DataRange1d\"},\"y_scale\":{\"id\":\"e2fa34e7-94b7-4667-88a8-8f4dd8cd217e\",\"type\":\"LinearScale\"}},\"id\":\"dd2dfdf8-841f-4174-8e46-50cd3885bd66\",\"subtype\":\"Figure\",\"type\":\"Plot\"},{\"attributes\":{},\"id\":\"7ddcef8c-3c7e-4dad-9937-c1590a73e1f9\",\"type\":\"PanTool\"}],\"root_ids\":[\"dd2dfdf8-841f-4174-8e46-50cd3885bd66\"]},\"title\":\"Bokeh Application\",\"version\":\"0.12.14\"}};\n",
       "  var render_items = [{\"docid\":\"4ae519d7-dfc5-4929-bb16-8d01a4f92278\",\"elementid\":\"61aa2dcc-ae18-4920-8fe2-cb14d2ffb5da\",\"modelid\":\"dd2dfdf8-841f-4174-8e46-50cd3885bd66\"}];\n",
       "  root.Bokeh.embed.embed_items_notebook(docs_json, render_items);\n",
       "\n",
       "  }\n",
       "  if (root.Bokeh !== undefined) {\n",
       "    embed_document(root);\n",
       "  } else {\n",
       "    var attempts = 0;\n",
       "    var timer = setInterval(function(root) {\n",
       "      if (root.Bokeh !== undefined) {\n",
       "        embed_document(root);\n",
       "        clearInterval(timer);\n",
       "      }\n",
       "      attempts++;\n",
       "      if (attempts > 100) {\n",
       "        console.log(\"Bokeh: ERROR: Unable to run BokehJS code because BokehJS library is missing\")\n",
       "        clearInterval(timer);\n",
       "      }\n",
       "    }, 10, root)\n",
       "  }\n",
       "})(window);"
      ],
      "application/vnd.bokehjs_exec.v0+json": ""
     },
     "metadata": {
      "application/vnd.bokehjs_exec.v0+json": {
       "id": "dd2dfdf8-841f-4174-8e46-50cd3885bd66"
      }
     },
     "output_type": "display_data"
    }
   ],
   "source": [
    "data_x = sorted(models.keys())\n",
    "data_ncut = [models[x][\"n_cut\"]/x for x in data_x]\n",
    "data_coh = [models[x][\"coherence_norm\"] for x in data_x]\n",
    "\n",
    "hover = bokeh.models.HoverTool(\n",
    "        tooltips=[\n",
    "            (\"index\", \"$index\"),\n",
    "            (\"(x, y)\", \"($x{0}, $y)\"),        ]\n",
    "    )\n",
    "\n",
    "\n",
    "plot = figure(title=\"Ncut vs Coherence\", plot_height=500, plot_width=900,\n",
    "    tools=[hover, bokeh.models.PanTool(), bokeh.models.WheelZoomTool()])\n",
    "\n",
    "plot.line(data_x, data_ncut, color=\"#2222aa\", line_width=2)\n",
    "#plot.circle(data_x, data_ncut, color=\"#2222aa\", fill_color=\"white\", size=8)\n",
    "\n",
    "plot.extra_y_ranges = {\"coherence\": bokeh.models.Range1d(start=0.0, end=1.0)}\n",
    "plot.line(data_x, data_coh, line_width=2, color=\"red\", y_range_name=\"coherence\")\n",
    "plot.add_layout(bokeh.models.LinearAxis(y_range_name=\"coherence\"), 'right')\n",
    "\n",
    "show(plot)"
   ]
  },
  {
   "cell_type": "code",
   "execution_count": 12,
   "metadata": {
    "collapsed": true
   },
   "outputs": [],
   "source": [
    "# Take a look at the words in the vocabulary\n",
    "vocab = vectorizer.get_feature_names()\n",
    "vocab_cell = np.asarray(vocab).astype(object)"
   ]
  },
  {
   "cell_type": "code",
   "execution_count": 326,
   "metadata": {},
   "outputs": [
    {
     "data": {
      "text/plain": [
       "Counter({0: 17, 1: 2, 2: 84, 3: 46, 4: 24, 5: 14, 6: 430, 7: 59, 8: 76, 9: 6})"
      ]
     },
     "execution_count": 326,
     "metadata": {},
     "output_type": "execute_result"
    }
   ],
   "source": [
    "Counter(np.argmax(models[10]['V_T'], axis=1))"
   ]
  },
  {
   "cell_type": "code",
   "execution_count": 324,
   "metadata": {
    "collapsed": true
   },
   "outputs": [],
   "source": [
    "def print_top_words(model, feature_names, n_top_words):\n",
    "    for topic_idx, topic in enumerate(model.components_):\n",
    "        message = \"Topic #%d: \" % topic_idx\n",
    "        message += \" \".join([feature_names[i]\n",
    "                             for i in topic.argsort()[:-n_top_words - 1:-1]])\n",
    "        print(message)\n",
    "    print()"
   ]
  },
  {
   "cell_type": "code",
   "execution_count": 325,
   "metadata": {
    "scrolled": false
   },
   "outputs": [
    {
     "name": "stdout",
     "output_type": "stream",
     "text": [
      "\n",
      "Topics in NMF model (Frobenius norm):\n",
      "Topic #0: startplayer board tokens played counter players shot gamewon connect gamestats playersettings token win false setup displaycurrentboard column not and else playcounter setnextplayer orderplayers getplayernames createboard getstartplayer\n",
      "Topic #1: currentgun guns health grunts firepower randomno enemies setupvalues guntype grunt enemyname killed elif print randint switchguns removedeadenemies anykey selectgun selection analysisofbattlefield battlegrunt battlegrunts gruntattack hityou setfirepower\n",
      "Topic #2: game player winner game_slices row new_row display_game convert_input_to_coordinate col_num row_num display_winner draw_line width edge up_diagonal filling row_number game_slice add_piece down_diagonal check_row_winner get_col col_number start_game get_row switch_player\n",
      "Topic #3: problem user_solution solution number_two number_one correct menu_list count check_solution get_user_solution total option user_input display_separator get_user_input percentage title is menu_option display_result display_intro display_menu index randrange str main\n",
      "Topic #4: hangman guessedcharacters chances currentguess setupvalues guessed each word constructhangmanlist getword constructguessedcharacterlist getchances getguesscharacter checkwin checkguesscharacter setupgame playgame displayresult def result return displayinfo false print input append\n",
      "Topic #5: node ast isinstance child recurse expr op end div search_expr returns mult ret iter_child_nodes formula none parse binop right left elif sub is if or add\n",
      "Topic #6: shoppinglist menuchoice nomoreswaps element tempitem exitlist finished temp false print displaylist item bubblesort not while true newitem additems deletelist displaymenu len elif displayinfo addtolist getnewitem def\n",
      "Topic #7: game_state game whos_turn win game_on player_number move start_state full_squares icon true and square swap_turn starting_player check_win show_board yn row elif main false if print valueerror return\n",
      "Topic #8: outputstr character targetstr gplayer noofguesses eachchar found splayer wordfound player2 player1 format guesses none print len true startplayer else false if input randint random while elif\n",
      "Topic #9: hexseg hexnumber lengthhex denary placepower dennum hexnum gethexnumber displaydenaryvalue converttodenary converttosegment element elif displayinfo hextodenary def print return len else range int input if for in\n",
      "Topic #10: points matrix midpoint names pt pts p2 p1 mn newpoint outline chr float dist str minimum c1 c2 remove len distance append pop range list __name__\n",
      "Topic #11: gameboard row_col piece player turn values sublist input_valid game_over searcht draw_board return p1 if continue int else valueerror print elif except in not for while row\n",
      "Topic #12: startx starty sl endy endx p1x origx polygons p1y p5x p4x p5y p6x p3y p3x p2y p2x p6y p4y poly xoffset calculate_polygons yoffset radius origy math\n",
      "Topic #13: astro_sign day month elif else if input int median print date max_3 toordinal random_day start_dt end_dt today hour fromordinal check month_name multiply datetime h_age n2 replace\n",
      "Topic #14: each tempquestionlist quizquestions questionno givenanswer score ans tempanswer correctanswer answers question finished len print append format input int range for in else false not while true\n",
      "Topic #15: denary binarystring eachsegment finalhex decimalnumber hexb hexa positionvalue decimalnumbercopy addzeros elif int eachzero print format str len if for while in else input range month_name menuchoice\n",
      "Topic #16: result_str column row or and range for in else col if print month elif test_number5 isinstance near_thousand default_timer ttl_lst timer sum abs available argv switcha switchb\n",
      "Topic #17: grid checkgrid also_no_winner diag1 diag2 winner_is_1 no_winner winner_is_2 winner_is_also_1 set len and column return row if range or for in def print sub_set is_sublist text s_var_names\n",
      "Topic #18: _slice tuplex print tuple month os menuchoice roundup exitlist file birthdays ord radius eachnumber pi fabs fizzbuzz add_without_plus_operator context insert_sting_middle x2 elif environ x1 check platform\n",
      "Topic #19: sign year elif int else input if print age in median month_name name multiply fizzbuzz menuchoice exit is type argv arg3 arg1 arg2 maxfunction a2 exitlist\n",
      "Topic #20: bid acc amount max_amount exp results avg std next limit count color math pow randint sqrt random format range import maketrans while if and for len\n",
      "Topic #21: side_c side_a side_b formula sqrt input int print elif math from else import if num_roots x1 x2 float getmodule exit check switchb switcha runningtotal a3 median\n",
      "Topic #22: answer try lower running randint maximum minimum number random elif none str and raw_input print in false if true while another else import numlist input_string alphabet\n",
      "Topic #23: response solved false if input not else true print upper elif sub_set is_sublist median test_prime left_pos right_pos test_number5 max_3 multiple check type test_distinct is_group_member common_data factor\n",
      "Topic #24: current row_st col_ed col_st row_ed matrix generatematrix range for row in break return true list while if new_dict num_list def name print gcd factors smallest_multiple sample\n",
      "Topic #25: monthstr month daystr day elif year format int input print in if or else json birthdays load month_name counter calendar multiply start_dt end_dt toordinal random_day today\n",
      "Topic #26: index rstr1 string_reverse tuplex str1 tuple guessed char while lstguessed print len enumerate upper letter game_string return def __name__ width display_winner draw_line word is player num\n",
      "Topic #27: crypting eachletter newletter uppercase outtext lowercase crypttext index realtext caesar_encrypt code step append in elif print return def if for mycode exec list_slice word_len month printvalues\n",
      "Topic #28: remainingeuros euroholidaymoney euro10s euro20s euro50s euro5s holidaymoney exchangerate format int print input float runningtotal enteredvalue word_list eachnumber string_words switcha switchb area radius decimals context round pi\n",
      "Topic #29: mark nextgrade gradeup elif print false true if format else int input sub_set median menuchoice month_name month is_sublist exitlist type check fizzbuzz in switcha switchb is\n",
      "Topic #30: fridgev liftv fridgew liftw liftd lifth fridged fridgeh liftspace depth float width height input print format not and if else radian pi volume area median diameter\n",
      "Topic #31: questions question score reader get_questions multi ask_question csv main answer my_file next_question number remove format mode encoding __name__ print row choice with open as random def\n",
      "Topic #32: step stop start new_start reversed_range new_end none is range return and if else list_slice def default_timer print timer var_list timeit type enteredvalue runningtotal n2 row n1\n",
      "Topic #33: birthday what_next name json list_entries find_date add_entry title date systemexit dump keyerror key ljust load capitalize with open as format raise elif except input try print\n",
      "Topic #34: mean sd el ls data avg_calc sd_calc float return math sqrt len sys def import if for in print test_distinct max_min add_without_plus_operator stat num dir_path num_roots\n",
      "Topic #35: game line_match set_r numpy diagonal_match transpose set_c str if return set len def and elif print available import range check_space_empty moves_exist for in string_both_ends new_string first_three\n",
      "Topic #36: f2 f1 fractions fraction format print traceback import abc print_stack f_pi limited limit_denominator decimal math iimport pi def runningtotal word_list enteredvalue values string_words decimals for in\n",
      "Topic #37: secret_word display_list letter used_list file guesses choose_random_word dashes upper words line readline choice count len append replace randint strip join random while with open as print\n",
      "Topic #38: decimal context prec rounding value getcontext getattr print flags emin emax capitals traps localcontext fractions iimport items import format fraction values with as for in data\n",
      "Topic #39: quote replaceword replacewith stopletter startletter capitalize title print lower input format replace upper int runningtotal input_string enteredvalue alphabet ttl_lst choices url switcha switchb i_convention o_convention eachnumber\n",
      "Topic #40: channelschedule finished showname item starttime channel stoptime eachshow date input false format print append not while true len else if newitem tempitem addtolist getnewitem shoppinglist seen\n",
      "Topic #41: my_matrix sum_list isize magic_square_test result1 result2 lines col extend sum append for in row range len false return true set print sum_numbers def if items multi_list\n",
      "Topic #42: sineradians sine degreesfromnorth distanceinstraightline distanceeast distancenorth sinedegrees math sin round radians float print format degreesfromhorizontal radiansfromhorizontal import input lengthofstring balloonheight inclineangle inclineradians distancetravelled height radius tan\n",
      "Topic #43: middle_index find end_index start_index element_to_find ordered_list middle_element __name__ or true if false return print while len elif else element def sbad snot not_poor sub_set month test_number5\n",
      "Topic #44: logged_in username_found users details attempts username password my_file not password_found and false rstrip encoding mode line true with open as elif if split input print while\n",
      "Topic #45: table entry eachnumber number createtable gettablenumber displaytable displayinfo timestable def print return for in append format int range input exit newitem getnewitem addtolist numlist g2 shoppinglist\n",
      "Topic #46: path stat os file dir_path data cdate s_isreg st_mode st_ctime __file__ argv ctime sys fn listdir basename time isfile isdir dirname lexists exists islink isabs import\n",
      "Topic #47: amicables amicable_numbers_sum sum_fact fact limit sum_fact2 num sum add if isinstance continue range return in for not set and print int def check square_of_sum catalan_number limitn\n",
      "Topic #48: mx df rgb_to_hsv mn elif min max if else return def print count_range_in_list smallest_num_in_list max_num_in_list a1 ctr median my_dict a2 list a3 list2 list1 key_min key_max\n",
      "Topic #49: character targetstr found searchchar searchitem searchstr element finditem lengthoflist linearsearch getsearchcharacter displayresult getstring displayinfo result searchstring def outputstr false eachchar true return else print input format\n",
      "Topic #50: unsorted no_swaps item my_file students bubble_sort encoding mode student splitlines temp with open as read write true false for in while len shopping_list newitem range seen\n",
      "Topic #51: line happieslist primeslist overlaplist elem readline happiesfile primesfile filetolistofints list_to_return with open as filename append while int in for if print all_p_cn_text_body return def select info\n",
      "Topic #52: pos direction steps movement elif math pass round sqrt break int split raw_input not while true if else import print netamount operation num_roots radius sub_set float\n",
      "Topic #53: middle gen_strobogrammatic helper result length middles append return if def print flen in for add_string substring_copy odd_values_string larger_string substr common_data student_data sample result_overlap o_convention i_convention pro\n",
      "Topic #54: season month day elif and or in input print if int else date json today toordinal random_day start_dt end_dt birthdays load argv counter fizzbuzz arg3 arg1\n",
      "Topic #55: self __init__ length shape area class asquare object square strobj def rectangle arectangle printstring inputoutstring getstring pass radius dictobj width circle acircle test msg return do_nothing\n",
      "Topic #56: mid bottom top bin_search li index element floor math and while len elif else int if import return def print euclid_algo seen newli printlist verbose tp\n",
      "Topic #57: fn wrapped hello make_bold make_italic make_underline return def textwrap final_result text_without_indentation sample_text stat dedent indent fill dir_path width data st_ctime st_mode cdate s_isreg print newitem sum\n",
      "Topic #58: u1 u2 user1 user2_answer user2 user1_answer compare return exit sys else elif input if def import median argv print number h_age max_3 arg2 maxfunction arg1 arg3\n",
      "Topic #59: getgender person amale female male afemale class self object return def american anamerican printnationality anewyorker newyorker print pass staticmethod sum euclid_algo newitem right_pos left_pos string verbose\n",
      "Topic #60: story_heading base_url text requests beautifulsoup soup strip find_all bs4 get print_to_text replace class_ write contents paragraph textfile base_url2 filename import ttl_lst from all_p_cn_text_body dir with url\n",
      "Topic #61: discriminant y_value z_value x_value float input elif print median if def x1 x2 pi radian height a2 y_m_point y2 y1 x_m_point angle sur_area num_roots a1 base_1\n",
      "Topic #62: pythagoras adjacent_side hypotenuse opposite_side str return elif print else def if string_both_ends first_three new_string flen remove_char dif game_dict insert_sting_middle substring_copy counts player_a player_b multiply isinstance map\n",
      "Topic #63: array_num array str from print num_list buffer_info import itemsize word_list dif game_dict euclid_algo extend fromlist verbose player_a player_b flen tolist string_words insert my_dict substring_copy in remove\n",
      "Topic #64: fib fibonacci count num elif gen_fib while input append int return if check def square_of_sum x1 print list_count_4 x2 n2 catalan_number sum_of_squares n1 res_num x3 median\n",
      "Topic #65: prime number descriptor prompt print_prime check_number get_number is_prime sep false true exit end if else break def while return sys elif int range input factors for\n",
      "Topic #66: yourage agetovote agetoretire extension main format else int if input print def runningtotal median enteredvalue max_3 number2 number1 check sumofnumbers num message2 message1 n2 sum n1\n",
      "Topic #67: kamal ve ho drawboard not while int def if print left_pos right_pos runningtotal euclid_algo netamount verbose string enteredvalue operation ispalindrome n2 values n1 isinstance lcm n3\n",
      "Topic #68: search re continue break not elif value pass len fizzbuzz items or else if dif game_dict raw_input split emailaddress pat2 r2 player_b player_a in true print\n",
      "Topic #69: roadtype distance time print or round elif input float if format else p2 month p1 math sum sqrt median test_number5 radius zip near_thousand degreesfromhorizontal radiansfromhorizontal pi\n",
      "Topic #70: avgx avgy totalxy totalxx data str float count input add len for in set print int range test_distinct max_min add_without_plus_operator stat median num dir_path map x1\n",
      "Topic #71: teamtwo teamone teamtwoscore teamonescore format football input print elif else if def runningtotal enteredvalue median word_list string_words pi float numberofnumbers radius area decimals word_freq birthdays x1\n",
      "Topic #72: nums three_sum odd_product dt2 dt1 result product len_list idx while and int_list len sums check_sum_array pro partial sort func position remove_nums itertools continue functools if starmap\n",
      "Topic #73: leap_year month_length month year day else elif if int false input true or print in age sub_set is_sublist json birthdays median test_number5 random_day start_dt end_dt today\n",
      "Topic #74: user_guess cowbullcount cowbull playing guesses compare_numbers number str break __name__ randint if print random else false while true len range input numlist return import def for\n",
      "Topic #75: guess rd try number running maximum minimum condition randint random elif none another break int count print while if input and else str import counter runningtotal\n",
      "Topic #76: num2 num1 num3 intans remainder ans int input print format runningtotal enteredvalue x1 x2 numberofnumbers switchb switcha pi check a1 num a3 float n3 average nextnumber\n",
      "Topic #77: sety issubset issuperset setz setx set setb print setc seta input_string alphabet string s_var_names list list1 list2 num_set ascii_lowercase setq color_set setp set1 lower difference ispangram\n",
      "Topic #78: radians cos slat elat sin slon elon acos dist float input math circle_1 center circle_2 from sleep import degreesfromhorizontal radiansfromhorizontal median print tan height x1 x2\n",
      "Topic #79: tuplex listx n2 n1 tuple n3 tuplex_clone print remove n4 deepcopy list item1 second_largest index count append copy list_of_dicts numbers item student_details sum_math_v_vi_average int pop none\n",
      "Topic #80: num_guesses letters_to_guess correct_letters_guessed output incorrect_letters_guessed word guess ask_user_for_next_letter pick_random_word generate_word_string word_string letters_guessed letter words add strip readlines remove set upper __name__ format index continue if randint\n",
      "Topic #81: col rownum multilist dimensions colnum input_str row range multi_list row_num col_num for in split int raw_input print array input subjects verbs objects items sample runningtotal num\n",
      "Topic #82: prev_list next_list permute_string new_str str len range in sub_set return if for not append is_sublist def flen substring_copy verbs objects subjects print string_both_ends first_three substr text\n",
      "Topic #83: name person nico jeffrey birthdays none __init__ self class names age new_dict current platform print __name__ address personal_details num_list my_file nlargest runningtotal format enteredvalue write itemgetter\n",
      "Topic #84: letter guessed lstguessed word upper index is __name__ vowels if list not in vowel break coded num_upper to_uppercase input print len text true while soundex elif\n",
      "Topic #85: numheads numlegs ns solutions solve return range def if for in print sum gcd euclid_algo catalan_number verbose num max_3 square_of_sum res_num trow multiply n2 a2 li\n",
      "Topic #86: test1 reverse_v1 reverse_v2 reverse_v3 reverse_v4 split join word insert result reversed return reverse def raw_input print counts in for freq words list1 list2 coded items word_count\n",
      "Topic #87: binarystring decimalnumber positionvalue addzeros eachzero decimalnumbercopy len print while if format else str range int input for in sub_set denary is_sublist eachsegment text finalhex subjects objects\n",
      "Topic #88: board drawboard print def month runningtotal enteredvalue os ord sum switchb switcha near_thousand environ next context fizzbuzz eachnumber platform num in degreesfromhorizontal radiansfromhorizontal textwrap menuchoice __doc__\n",
      "Topic #89: news client news_url urlopen xml_page soup_page news_list text bs4 urllib link pubdate request soup close findall read title from beautifulsoup import as print conn httpconnection in\n",
      "Topic #90: test_higher_priority __priority__ operator2 operator1 __operators__ __parenthesis__ deque collections re print import from return def counter counter1 counter2 my_list sum r2 emailaddress pat2 month info pprint file_input\n",
      "Topic #91: perm result_perms my_nums new_perms permute nums for in append len range def return print verbs subjects objects li text num my_list all sub_lists subs sentence trow\n",
      "Topic #92: v2 v1 fact eps fabs math float return def print while pi median else import radian radius tan volume radiansfromhorizontal degreesfromhorizontal if euclid_algo sur_area round height\n",
      "Topic #93: digit_string digits letter_combinations temp string_maps an result roundup char num i_convention o_convention in for degree return round ceil print string square_of_sum quit check flen def append\n",
      "Topic #94: counter_dict line readline with open as freq strip while else reverse_string_words if in words print sort split word keys get text median max_3 raw_input game_dict dif\n",
      "Topic #95: time seconds minutes __file__ hour ctime birthdays day sleep hours end_time sum_of_n_numbers start_time getctime days os getmtime choice getatime path getsize input print import int timecount\n",
      "Topic #96: socket ip gethostname af_inet getsockname gethostbyname_ex sock_dgram close startswith connect addr for in host_name not if inet_aton error import print except try string right_pos left_pos li\n",
      "Topic #97: str1 sys snot sbad str2 argv str3 getsizeof add_string not_poor find char arg3 maxfunction arg2 arg1 change_char print length exit reverse_string rsplit ljust replace num_upper to_uppercase\n",
      "Topic #98: s1 s2 len2 len1 printvalue sub_set len is_sublist median print elif else def if a2 a1 int true second_smallest my_list sub_lists subs verbs subjects objects max_3\n",
      "\n"
     ]
    }
   ],
   "source": [
    "print(\"\\nTopics in NMF model (Frobenius norm):\")\n",
    "tfidf_feature_names = vectorizer.get_feature_names()\n",
    "print_top_words(model, tfidf_feature_names, 26)"
   ]
  }
 ],
 "metadata": {
  "kernelspec": {
   "display_name": "Python 3",
   "language": "python",
   "name": "python3"
  },
  "language_info": {
   "codemirror_mode": {
    "name": "ipython",
    "version": 3
   },
   "file_extension": ".py",
   "mimetype": "text/x-python",
   "name": "python",
   "nbconvert_exporter": "python",
   "pygments_lexer": "ipython3",
   "version": "3.6.2"
  }
 },
 "nbformat": 4,
 "nbformat_minor": 2
}
