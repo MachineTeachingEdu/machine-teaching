{
 "cells": [
  {
   "cell_type": "code",
   "execution_count": 43,
   "metadata": {
    "collapsed": true
   },
   "outputs": [],
   "source": [
    "from db import PythonProblems\n",
    "import io\n",
    "import tokenize\n",
    "from sklearn.feature_extraction.text import CountVectorizer\n",
    "import numpy as np\n",
    "from sklearn.decomposition import NMF"
   ]
  },
  {
   "cell_type": "markdown",
   "metadata": {},
   "source": [
    "### Connecting to database"
   ]
  },
  {
   "cell_type": "code",
   "execution_count": 27,
   "metadata": {
    "collapsed": true
   },
   "outputs": [],
   "source": [
    "db = PythonProblems('python.sqlite')"
   ]
  },
  {
   "cell_type": "code",
   "execution_count": 28,
   "metadata": {
    "scrolled": false
   },
   "outputs": [
    {
     "name": "stdout",
     "output_type": "stream",
     "text": [
      "Success in parsing all documents! You may go on!\n"
     ]
    }
   ],
   "source": [
    "removed_itens = ['NEWLINE', 'STRING', 'ENDMARKER', 'NUMBER', 'INDENT', 'DEDENT', \"NL\", 'COMMENT', 'ERRORTOKEN']\n",
    "allowed_itens = ['NAME', 'OP']\n",
    "cursor = db.conn.cursor()\n",
    "docs = []\n",
    "errors = []\n",
    "\n",
    "# lendo os dados\n",
    "cursor.execute(\"\"\"\n",
    "SELECT * FROM solution;\n",
    "\"\"\")\n",
    "\n",
    "for idx, linha in enumerate(cursor.fetchall()):\n",
    "    file = io.StringIO(linha[1])\n",
    "    doc = []\n",
    "    try:\n",
    "        for item in tokenize.generate_tokens(file.readline):\n",
    "            if tokenize.tok_name[item[0]] not in removed_itens:\n",
    "                if tokenize.tok_name[item[0]] in allowed_itens:\n",
    "                    doc.append(item[1])\n",
    "                else:\n",
    "                    print(\"%s %s\" % (tokenize.tok_name[item[0]], item[1]))\n",
    "    except (IndentationError, tokenize.TokenError):\n",
    "        errors.append(\"Please, fix solution %d before continuing\" % (idx+1))\n",
    "        \n",
    "    docs.append(' '.join(doc))\n",
    "\n",
    "if not errors:\n",
    "    print(\"Success in parsing all documents! You may go on!\")\n",
    "else:\n",
    "    for item in errors:\n",
    "        print(item)"
   ]
  },
  {
   "cell_type": "code",
   "execution_count": 56,
   "metadata": {},
   "outputs": [],
   "source": [
    "# Initialize the \"CountVectorizer\" object, which is scikit-learn's\n",
    "# bag of words tool.  \n",
    "vectorizer = CountVectorizer(analyzer = \"word\",   \\\n",
    "                             tokenizer = None,    \\\n",
    "                             preprocessor = None, \\\n",
    "                             stop_words = None,   \\\n",
    "                             max_features = 26) \n",
    "\n",
    "# fit_transform() does two functions: First, it fits the model\n",
    "# and learns the vocabulary; second, it transforms our training data\n",
    "# into feature vectors. The input to fit_transform should be a list of \n",
    "# strings.\n",
    "train_data_features = vectorizer.fit_transform(docs)\n",
    "\n",
    "# Numpy arrays are easy to work with, so convert the result to an \n",
    "# array\n",
    "train_data_features = train_data_features.toarray()"
   ]
  },
  {
   "cell_type": "code",
   "execution_count": 57,
   "metadata": {},
   "outputs": [],
   "source": [
    "# Take a look at the words in the vocabulary\n",
    "vocab = vectorizer.get_feature_names()\n",
    "vocab_cell = np.asarray(vocab).astype(object)"
   ]
  },
  {
   "cell_type": "code",
   "execution_count": 62,
   "metadata": {
    "scrolled": false
   },
   "outputs": [],
   "source": [
    "model = NMF()\n",
    "W = model.fit_transform(train_data_features)\n",
    "H = model.components_"
   ]
  },
  {
   "cell_type": "code",
   "execution_count": 63,
   "metadata": {
    "collapsed": true
   },
   "outputs": [],
   "source": [
    "def print_top_words(model, feature_names, n_top_words):\n",
    "    for topic_idx, topic in enumerate(model.components_):\n",
    "        message = \"Topic #%d: \" % topic_idx\n",
    "        message += \" \".join([feature_names[i]\n",
    "                             for i in topic.argsort()[:-n_top_words - 1:-1]])\n",
    "        print(message)\n",
    "    print()"
   ]
  },
  {
   "cell_type": "code",
   "execution_count": 66,
   "metadata": {},
   "outputs": [
    {
     "name": "stdout",
     "output_type": "stream",
     "text": [
      "\n",
      "Topics in NMF model (Frobenius norm):\n",
      "Topic #0: print len int while if append column def elif else false float for format in import true input num random range result_str return row str and\n",
      "Topic #1: and true while range format return row append column def elif else false float for import if str input int len num print random result_str in\n",
      "Topic #2: true false if append random while import column def elif else float for format in input int len num print range result_str return row str and\n",
      "Topic #3: input false int return while if append column def elif else float for format in import true len num print random range result_str row str and\n",
      "Topic #4: elif if else return while import append column def false float for format in true input int len num print random range result_str row str and\n",
      "Topic #5: format print if input and import append column def elif else false float for while true int len num random range result_str return row str in\n",
      "Topic #6: len while if input return else append column def elif false float for format in import true int num print random range result_str row str and\n",
      "Topic #7: int while input import append column def elif else false float for format if in true len num print random range result_str return row str and\n",
      "Topic #8: print while false if range import append column def elif else float for format in true input int len num random result_str return row str and\n",
      "Topic #9: else if print false range return while append column def elif float for format in import true input int len num random result_str row str and\n",
      "Topic #10: return def if print range while append column elif else false float for format in import true input int len num random result_str row str and\n",
      "Topic #11: num input int import def str append elif while format column else false float for in if true len print random range result_str return row and\n",
      "Topic #12: append while if def format in range random str column row elif else false float for return result_str import true input int len num print and\n",
      "Topic #13: str print input if def elif while append column else false float for format in import true int len num random range result_str return row and\n",
      "Topic #14: float print while input import and def range random append column elif else false str for format if row true return int len num result_str in\n",
      "Topic #15: row true while if def else import append column elif false float for format in input int len num print random range result_str return str and\n",
      "Topic #16: range in for and if def format result_str append column elif else false float str return import true input int len num print random row while\n",
      "Topic #17: import true while format return append column def elif else false float for if in input int len num print random range result_str row str and\n",
      "Topic #18: result_str column for in range and row else print if elif return append str def false float format random import true input int len num while\n",
      "Topic #19: print true else while import append column def elif false float for format if in input int len num random range result_str return row str and\n",
      "Topic #20: def in print for and append result_str format column str elif else false float row if range import true input int len num return random while\n",
      "Topic #21: if for in true append column def elif else false float format import while input int len num print random range result_str return row str and\n",
      "Topic #22: random import print while and range format input row result_str float append column def elif else false if for str true int len num return in\n",
      "Topic #23: for in true append column def elif else false float format if import while input int len num print random range result_str return row str and\n",
      "Topic #24: in true while input row if append column def elif else false float for format import return str int len num print random range result_str and\n",
      "Topic #25: column row and for in if print false append import random return str def elif else float result_str format range true input int len num while\n",
      "\n"
     ]
    }
   ],
   "source": [
    "print(\"\\nTopics in NMF model (Frobenius norm):\")\n",
    "tfidf_feature_names = vectorizer.get_feature_names()\n",
    "print_top_words(model, tfidf_feature_names, 26)"
   ]
  }
 ],
 "metadata": {
  "kernelspec": {
   "display_name": "Python 3",
   "language": "python",
   "name": "python3"
  },
  "language_info": {
   "codemirror_mode": {
    "name": "ipython",
    "version": 3
   },
   "file_extension": ".py",
   "mimetype": "text/x-python",
   "name": "python",
   "nbconvert_exporter": "python",
   "pygments_lexer": "ipython3",
   "version": "3.6.2"
  }
 },
 "nbformat": 4,
 "nbformat_minor": 2
}
