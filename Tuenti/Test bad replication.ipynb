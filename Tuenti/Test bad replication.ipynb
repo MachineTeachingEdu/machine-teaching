{
 "cells": [
  {
   "cell_type": "code",
   "execution_count": 1,
   "metadata": {
    "collapsed": false
   },
   "outputs": [
    {
     "data": {
      "text/plain": [
       "True"
      ]
     },
     "execution_count": 1,
     "metadata": {},
     "output_type": "execute_result"
    }
   ],
   "source": [
    "import elasticsearch\n",
    "es_conn = elasticsearch.Elasticsearch(\"glb-replication-es\")\n",
    "es_conn.ping()"
   ]
  },
  {
   "cell_type": "code",
   "execution_count": 3,
   "metadata": {
    "collapsed": false
   },
   "outputs": [],
   "source": [
    "all_docs = es_conn.search(index=\"crawler_2015-05-17\", doc_type=\"news\")"
   ]
  },
  {
   "cell_type": "code",
   "execution_count": 4,
   "metadata": {
    "collapsed": false
   },
   "outputs": [
    {
     "data": {
      "text/plain": [
       "{'_shards': {'failed': 0, 'successful': 5, 'total': 5},\n",
       " 'hits': {'hits': [{'_id': 'AU4c5LddvgudVhF1ngUh',\n",
       "    '_index': 'crawler_2015-05-17',\n",
       "    '_score': 1.0,\n",
       "    '_source': {'author': None,\n",
       "     'body': 'Community leaders in South Carolina are calling for the removal of a Confederate flag from the grounds of the state capitol. The flag, emblematic of the south during the US civil war, was embraced by the man accused of killing nine people in a black church last week. Leading Republicans in the state, reportedly including Governor Nikki Haley, are now calling for its removal. The Sons of Confederate Veterans says it will fight attempts to remove it. The confederate group says it symbolises their heritage and history, not hate, and has offered condolences to the Emanuel African Methodist Episcopal Church, where the attack took place. Others have coming out strongly to say that the flag represents racial hatred, and is a painful reminder of the system of slavery that existed in southern states until the end of the civil war. The flag was originally the battle flag of the southern states in the civil war when they tried to break away to prevent the abolition of slavery. Only the South Carolina\\'s state legislature may remove the flag, according to a deal hatched when the flag was moved in 2000 off the capitol\\'s dome to the memorial where it now stands. Nine black worshippers were killed by a gunman during a bible study group at the church in Charleston. The suspect, Dylann Roof, has been pictured holding the Confederate flag. State leaders have held crisis meetings as they have tried to find a solution but some leading Republicans have called for action. \"Last week\\'s terrorising act of violence shook the very core of every South Carolinian,\" House Majority Leader Jay Lucas said in a statement. \"Moving South Carolina forward from this terrible tragedy requires a swift resolution of this issue.\" Several reports say that Governor Haley, who in the past favoured leaving the flag where it is, will call for it to be removed at a news conference. Charleston Mayor Joseph Riley, a Democrat, said: \"The flag got appropriated by hate groups. We can\\'t put it in a public place where it can give any oxygen to hate-filled people\". Republicans who have held majorities in the state for about 25 years have pushed back on previous calls to remove the flag. However, there\\'s no apparent consensus between them on how they should respond this time. The flag seen today on houses, bumper stickers and T-shirts - sometimes accompanied by the words \"If this shirt offends you, you need a history lesson\" - is not, and never was, the official national flag of the Confederacy. The design by William Porcher Miles, who chaired the flag committee, was rejected as the national flag in 1861, overlooked in favour of the Stars and Bars. It was instead adopted as a square battle flag by the Army of Northern Virginia under General Lee, the greatest military force of the Confederacy. It fast became a potent symbol of Confederate nationalism. Community leaders in South Carolina are calling for the removal of a Confederate flag from the grounds of the state capitol. The flag, emblematic of the south during the US civil war, was embraced by the man accused of killing nine people in a black church last week. Leading Republicans in the state, reportedly including Governor Nikki Haley, are now calling for its removal. The Sons of Confederate Veterans says it will fight attempts to remove it. The confederate group says it symbolises their heritage and history, not hate, and has offered condolences to the Emanuel African Methodist Episcopal Church, where the attack took place. Others have coming out strongly to say that the flag represents racial hatred, and is a painful reminder of the system of slavery that existed in southern states until the end of the civil war. The flag was originally the battle flag of the southern states in the civil war when they tried to break away to prevent the abolition of slavery. Only the South Carolina\\'s state legislature may remove the flag, according to a deal hatched when the flag was moved in 2000 off the capitol\\'s dome to the memorial where it now stands. Nine black worshippers were killed by a gunman during a bible study group at the church in Charleston. The suspect, Dylann Roof, has been pictured holding the Confederate flag. State leaders have held crisis meetings as they have tried to find a solution but some leading Republicans have called for action. \"Last week\\'s terrorising act of violence shook the very core of every South Carolinian,\" House Majority Leader Jay Lucas said in a statement. \"Moving South Carolina forward from this terrible tragedy requires a swift resolution of this issue.\" Several reports say that Governor Haley, who in the past favoured leaving the flag where it is, will call for it to be removed at a news conference. Charleston Mayor Joseph Riley, a Democrat, said: \"The flag got appropriated by hate groups. We can\\'t put it in a public place where it can give any oxygen to hate-filled people\". Republicans who have held majorities in the state for about 25 years have pushed back on previous calls to remove the flag. However, there\\'s no apparent consensus between them on how they should respond this time. The flag seen today on houses, bumper stickers and T-shirts - sometimes accompanied by the words \"If this shirt offends you, you need a history lesson\" - is not, and never was, the official national flag of the Confederacy. The design by William Porcher Miles, who chaired the flag committee, was rejected as the national flag in 1861, overlooked in favour of the Stars and Bars. It was instead adopted as a square battle flag by the Army of Northern Virginia under General Lee, the greatest military force of the Confederacy. It fast became a potent symbol of Confederate nationalism. Greece proposes new taxes on businesses and the wealthy as part of plans to end the deadlock on its debt crisis, amid hopes of a deal this week. How one woman was liberated by the destruction of rural China Five ways Taylor Swift is changing the world Is it wrong to use \\'impact\\' as a verb? What other cities can teach London about safe cycling Eleven things to know about the England team The religious politics behind World Yoga Day Why would a gay man stay married to a woman? The priest who had both hands blown off by a letter bomb',\n",
       "     'category': 'world',\n",
       "     'date_edit': None,\n",
       "     'date_published': '2015-06-22T20:10:28+00:00',\n",
       "     'date_retrieved': '2015-06-22T20:10:28.042885',\n",
       "     'editorial': 'London',\n",
       "     'keywords': None,\n",
       "     'language': 'en',\n",
       "     'source': None,\n",
       "     'source_location': '{\"london\": {\"lat\": 51.5072, \"lng\": -0.1275}}',\n",
       "     'spider': 'bbc',\n",
       "     'subcategory': None,\n",
       "     'subtitle': 'Leaders in South Carolina are calling for the removal of a Confederate flag from the statehouse grounds, after a racially motivated shooting.',\n",
       "     'title': 'South Carolina urges removal of Confederate flag - BBC News',\n",
       "     'url': 'http://www.bbc.co.uk/news/world-us-canada-33229040'},\n",
       "    '_type': 'news'}],\n",
       "  'max_score': 1.0,\n",
       "  'total': 1},\n",
       " 'timed_out': False,\n",
       " 'took': 4}"
      ]
     },
     "execution_count": 4,
     "metadata": {},
     "output_type": "execute_result"
    }
   ],
   "source": [
    "all_docs"
   ]
  },
  {
   "cell_type": "code",
   "execution_count": 6,
   "metadata": {
    "collapsed": true
   },
   "outputs": [],
   "source": [
    "command = {\n",
    "    \"_index\": \"crawler_2015-05-17\",\n",
    "    \"_type\": \"news\",\n",
    "    \"_id\": \"blabla\",\n",
    "    \"_op_type\": \"delete\"\n",
    "}"
   ]
  },
  {
   "cell_type": "code",
   "execution_count": 27,
   "metadata": {
    "collapsed": true
   },
   "outputs": [],
   "source": [
    "command2 = {\n",
    "    \"_index\": \"crawler_2015-05-17\",\n",
    "    \"_type\": \"news\",\n",
    "    \"_id\": \"AU4c5LddvgudVhF1ngUh\",\n",
    "    \"_op_type\": \"delete\"\n",
    "}"
   ]
  },
  {
   "cell_type": "code",
   "execution_count": 28,
   "metadata": {
    "collapsed": true
   },
   "outputs": [],
   "source": [
    "replication_item = {\n",
    "    \"command\": \"es_bulk\",\n",
    "    \"arguments\": [command, command2]\n",
    "}"
   ]
  },
  {
   "cell_type": "code",
   "execution_count": 8,
   "metadata": {
    "collapsed": true
   },
   "outputs": [],
   "source": [
    "import requests"
   ]
  },
  {
   "cell_type": "code",
   "execution_count": 9,
   "metadata": {
    "collapsed": true
   },
   "outputs": [],
   "source": [
    "session = requests.Session()\n",
    "TOKEN = \"946aa8781d43e9f44d922b1fe7895b031ee5cbdc\""
   ]
  },
  {
   "cell_type": "code",
   "execution_count": 10,
   "metadata": {
    "collapsed": true
   },
   "outputs": [],
   "source": [
    "session.headers['Authorization'] = \"Token %s\" % TOKEN"
   ]
  },
  {
   "cell_type": "code",
   "execution_count": 29,
   "metadata": {
    "collapsed": false
   },
   "outputs": [
    {
     "name": "stdout",
     "output_type": "stream",
     "text": [
      "Status: 200\n",
      "\n",
      "{\"status\":\"ok\"}\n"
     ]
    }
   ],
   "source": [
    "resp = session.put(\"http://glb-dev-frontend:80/data/replication/queue/\", json=replication_item, stream=False)\n",
    "\n",
    "print(\"Status: %s\" % resp.status_code)\n",
    "print()\n",
    "print(resp.text)"
   ]
  },
  {
   "cell_type": "code",
   "execution_count": 30,
   "metadata": {
    "collapsed": false
   },
   "outputs": [
    {
     "name": "stdout",
     "output_type": "stream",
     "text": [
      "Status: 200\n",
      "\n"
     ]
    },
    {
     "data": {
      "text/plain": [
       "[{'enabled': True,\n",
       "  'length': 181156,\n",
       "  'name': 'repl-test',\n",
       "  'title': 'TWIST Replication Test'},\n",
       " {'enabled': True,\n",
       "  'length': 1,\n",
       "  'name': 'test2',\n",
       "  'title': 'Replication Test 2'}]"
      ]
     },
     "execution_count": 30,
     "metadata": {},
     "output_type": "execute_result"
    }
   ],
   "source": [
    "resp = session.get(\"http://glb-dev-frontend:80/data/replication/queue/\", stream=False)\n",
    "\n",
    "print(\"Status: %s\" % resp.status_code)\n",
    "print()\n",
    "resp.json()"
   ]
  }
 ],
 "metadata": {
  "kernelspec": {
   "display_name": "Python 3",
   "language": "python",
   "name": "python3"
  },
  "language_info": {
   "codemirror_mode": {
    "name": "ipython",
    "version": 3
   },
   "file_extension": ".py",
   "mimetype": "text/x-python",
   "name": "python",
   "nbconvert_exporter": "python",
   "pygments_lexer": "ipython3",
   "version": "3.4.3"
  }
 },
 "nbformat": 4,
 "nbformat_minor": 0
}
