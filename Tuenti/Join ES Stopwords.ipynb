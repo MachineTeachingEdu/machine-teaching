{
 "cells": [
  {
   "cell_type": "code",
   "execution_count": 1,
   "metadata": {
    "collapsed": true
   },
   "outputs": [],
   "source": [
    "from stopwords import get_stopwords"
   ]
  },
  {
   "cell_type": "code",
   "execution_count": 7,
   "metadata": {
    "collapsed": false
   },
   "outputs": [],
   "source": [
    "stopwords = set(get_stopwords('es'))\n",
    "\n",
    "stopwords |= set([\n",
    "        'tuenti',\n",
    "        'rt',\n",
    "        'va',\n",
    "        'voy',\n",
    "        'ser',\n",
    "        'voy',\n",
    "        'si',\n",
    "        'ver',\n",
    "        'ahora',\n",
    "        'solo',\n",
    "        'mas',\n",
    "        'dos',\n",
    "        'tres',\n",
    "        '#tuenti',\n",
    "        '@tuenti',\n",
    "        'asi',\n",
    "        'tambien',\n",
    "        'alguien',\n",
    "        'hoy',\n",
    "        'da',\n",
    "        'mia',\n",
    "        '>',\n",
    "        '<',\n",
    "        '€',\n",
    "        '='\n",
    "    ])\n",
    "\n",
    "sw_string = \"|\".join(sorted(stopwords))"
   ]
  },
  {
   "cell_type": "code",
   "execution_count": 8,
   "metadata": {
    "collapsed": false,
    "scrolled": true
   },
   "outputs": [
    {
     "name": "stdout",
     "output_type": "stream",
     "text": [
      "#tuenti|<|=|>|@tuenti|a|ahora|al|algo|alguien|algunas|algunos|ante|antes|asi|como|con|contra|cual|cuando|da|de|del|desde|donde|dos|durante|e|el|ella|ellas|ellos|en|entre|era|erais|eran|eras|eres|es|esa|esas|ese|eso|esos|esta|estaba|estabais|estaban|estabas|estad|estada|estadas|estado|estados|estamos|estando|estar|estaremos|estará|estarán|estarás|estaré|estaréis|estaría|estaríais|estaríamos|estarían|estarías|estas|este|estemos|esto|estos|estoy|estuve|estuviera|estuvierais|estuvieran|estuvieras|estuvieron|estuviese|estuvieseis|estuviesen|estuvieses|estuvimos|estuviste|estuvisteis|estuviéramos|estuviésemos|estuvo|está|estábamos|estáis|están|estás|esté|estéis|estén|estés|fue|fuera|fuerais|fueran|fueras|fueron|fuese|fueseis|fuesen|fueses|fui|fuimos|fuiste|fuisteis|fuéramos|fuésemos|ha|habida|habidas|habido|habidos|habiendo|habremos|habrá|habrán|habrás|habré|habréis|habría|habríais|habríamos|habrían|habrías|habéis|había|habíais|habíamos|habían|habías|han|has|hasta|hay|haya|hayamos|hayan|hayas|hayáis|he|hemos|hoy|hube|hubiera|hubierais|hubieran|hubieras|hubieron|hubiese|hubieseis|hubiesen|hubieses|hubimos|hubiste|hubisteis|hubiéramos|hubiésemos|hubo|la|las|le|les|lo|los|mas|me|mi|mia|mis|mucho|muchos|muy|más|mí|mía|mías|mío|míos|nada|ni|no|nos|nosotras|nosotros|nuestra|nuestras|nuestro|nuestros|o|os|otra|otras|otro|otros|para|pero|poco|por|porque|que|quien|quienes|qué|rt|se|sea|seamos|sean|seas|sentid|sentida|sentidas|sentido|sentidos|ser|seremos|será|serán|serás|seré|seréis|sería|seríais|seríamos|serían|serías|seáis|si|siente|sin|sintiendo|sobre|sois|solo|somos|son|soy|su|sus|suya|suyas|suyo|suyos|sí|tambien|también|tanto|te|tendremos|tendrá|tendrán|tendrás|tendré|tendréis|tendría|tendríais|tendríamos|tendrían|tendrías|tened|tenemos|tenga|tengamos|tengan|tengas|tengo|tengáis|tenida|tenidas|tenido|tenidos|teniendo|tenéis|tenía|teníais|teníamos|tenían|tenías|ti|tiene|tienen|tienes|todo|todos|tres|tu|tuenti|tus|tuve|tuviera|tuvierais|tuvieran|tuvieras|tuvieron|tuviese|tuvieseis|tuviesen|tuvieses|tuvimos|tuviste|tuvisteis|tuviéramos|tuviésemos|tuvo|tuya|tuyas|tuyo|tuyos|tú|un|una|uno|unos|va|ver|vosostras|vosostros|voy|vuestra|vuestras|vuestro|vuestros|y|ya|yo|él|éramos|€\n"
     ]
    }
   ],
   "source": [
    "print(sw_string)"
   ]
  }
 ],
 "metadata": {
  "kernelspec": {
   "display_name": "Python 3",
   "language": "python",
   "name": "python3"
  },
  "language_info": {
   "codemirror_mode": {
    "name": "ipython",
    "version": 3
   },
   "file_extension": ".py",
   "mimetype": "text/x-python",
   "name": "python",
   "nbconvert_exporter": "python",
   "pygments_lexer": "ipython3",
   "version": "3.4.3"
  }
 },
 "nbformat": 4,
 "nbformat_minor": 0
}
