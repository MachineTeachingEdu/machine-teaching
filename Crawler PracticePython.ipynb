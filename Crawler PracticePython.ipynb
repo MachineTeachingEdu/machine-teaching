{
 "cells": [
  {
   "cell_type": "code",
   "execution_count": 1,
   "metadata": {
    "collapsed": true
   },
   "outputs": [],
   "source": [
    "from bs4 import BeautifulSoup\n",
    "import requests\n",
    "from db import PythonProblems\n",
    "from datetime import datetime"
   ]
  },
  {
   "cell_type": "markdown",
   "metadata": {},
   "source": [
    "### Creating and connecting to database"
   ]
  },
  {
   "cell_type": "code",
   "execution_count": 2,
   "metadata": {
    "collapsed": true
   },
   "outputs": [],
   "source": [
    "db = PythonProblems('python.sqlite', 'init_tables.sql')"
   ]
  },
  {
   "cell_type": "markdown",
   "metadata": {},
   "source": [
    "### Getting the page to be crawled"
   ]
  },
  {
   "cell_type": "code",
   "execution_count": 3,
   "metadata": {
    "collapsed": true
   },
   "outputs": [],
   "source": [
    "url = \"http://www.practicepython.org/\"\n",
    "response = requests.get(url)\n",
    "data = response.text\n",
    "soup = BeautifulSoup(data, 'html5lib')"
   ]
  },
  {
   "cell_type": "markdown",
   "metadata": {},
   "source": [
    "### Getting problems and solutions link"
   ]
  },
  {
   "cell_type": "code",
   "execution_count": 4,
   "metadata": {
    "collapsed": true
   },
   "outputs": [],
   "source": [
    "listas = soup.find_all(\"h2\", class_=\"midheader\")\n",
    "\n",
    "## Getting problems links\n",
    "problems_links = []\n",
    "problems = listas[0].parent.find_all(\"li\")\n",
    "for item in problems:\n",
    "    try:\n",
    "        partial_link = item.find_all(\"a\")[0].get('href')\n",
    "        problems_links.append(url + partial_link)\n",
    "    except IndexError:\n",
    "        pass\n",
    "\n",
    "## Getting solutions links\n",
    "solutions_links = []\n",
    "solutions = listas[1].parent.find_all(\"li\")\n",
    "for item in solutions:\n",
    "    try:\n",
    "        partial_link = item.find_all(\"a\")[0].get('href')\n",
    "        solutions_links.append(url + partial_link)\n",
    "    except IndexError:\n",
    "        pass"
   ]
  },
  {
   "cell_type": "markdown",
   "metadata": {},
   "source": [
    "### Problems"
   ]
  },
  {
   "cell_type": "code",
   "execution_count": 5,
   "metadata": {
    "scrolled": true
   },
   "outputs": [
    {
     "name": "stdout",
     "output_type": "stream",
     "text": [
      "CPU times: user 1.74 s, sys: 28 ms, total: 1.77 s\n",
      "Wall time: 17.2 s\n"
     ]
    }
   ],
   "source": [
    "%%time\n",
    "problems = []\n",
    "for link in problems_links:\n",
    "    response = requests.get(link)\n",
    "    soup = BeautifulSoup(response.text, 'html5lib')\n",
    "    # Get title and difficulty\n",
    "    title = soup.find_all('h1', {'class': 'pagetitle'})[0].text.strip()\n",
    "    difficulty = len(soup.find_all('img', {'class': 'chili'}))\n",
    "    \n",
    "    # Get problem\n",
    "    header = soup.find_all('h2')\n",
    "    problem_text = \"\"\n",
    "    for nextNode in header:\n",
    "        if 'Solution' in nextNode.text:\n",
    "            nextNode = nextNode.findNext()\n",
    "            while nextNode.name != 'h2':\n",
    "                try:\n",
    "                    tag_name = nextNode.name\n",
    "                except AttributeError:\n",
    "                    tag_name = \"\"\n",
    "                if tag_name in [\"p\", \"ol\", \"ul\", \"figure\"]:\n",
    "                    problem_text += nextNode.text + \"\\n\"\n",
    "                nextNode = nextNode.findNext()\n",
    "    problems.append({\"title\": title, \"difficulty\": difficulty, \"link\": link,\n",
    "                     \"content\": problem_text, \"retrieved_date\": datetime.now(),\n",
    "                     \"crawler\": \"PracticePython\"})"
   ]
  },
  {
   "cell_type": "markdown",
   "metadata": {},
   "source": [
    "### Solutions"
   ]
  },
  {
   "cell_type": "code",
   "execution_count": 6,
   "metadata": {},
   "outputs": [
    {
     "name": "stdout",
     "output_type": "stream",
     "text": [
      "CPU times: user 7 s, sys: 116 ms, total: 7.12 s\n",
      "Wall time: 4min 30s\n"
     ]
    }
   ],
   "source": [
    "%%time\n",
    "solutions = []\n",
    "idx = 0\n",
    "for link in solutions_links:\n",
    "    response = requests.get(link)\n",
    "    soup = BeautifulSoup(response.text, 'html5lib')\n",
    "    scripts = soup.find_all('script')\n",
    "    for item in scripts:\n",
    "        if item.get('src') and 'github' in item.get('src'):\n",
    "            gist_link = item.get('src')\n",
    "            response = requests.get(gist_link)\n",
    "            soup = BeautifulSoup(response.text, 'html5lib')\n",
    "            try:\n",
    "                raw_link = soup.find_all('a')[0].get('href')[2:-2]\n",
    "                solution = requests.get(raw_link)\n",
    "                solutions.append({\"content\": solution.text, \"link\": link,\n",
    "                                  \"retrieved_date\": datetime.now(), \"ignore\": False,\n",
    "                                 \"idx\": idx})\n",
    "            except IndexError:\n",
    "                solutions.append({\"ignore\": True, \"link\": link,\n",
    "                                  \"retrieved_date\": datetime.now(), \"idx\": idx})\n",
    "    idx += 1"
   ]
  },
  {
   "cell_type": "markdown",
   "metadata": {},
   "source": [
    "### Insert rows"
   ]
  },
  {
   "cell_type": "code",
   "execution_count": 7,
   "metadata": {
    "collapsed": true
   },
   "outputs": [],
   "source": [
    "rows = []\n",
    "for item in solutions:\n",
    "    row_dict = {}\n",
    "    idx = item[\"idx\"]\n",
    "    row_dict[\"problem\"] = problems[idx]\n",
    "    row_dict[\"solution\"] = item\n",
    "    rows.append(row_dict)"
   ]
  },
  {
   "cell_type": "code",
   "execution_count": 11,
   "metadata": {
    "scrolled": false
   },
   "outputs": [],
   "source": [
    "db.populate(rows)\n",
    "db.close_connection()"
   ]
  }
 ],
 "metadata": {
  "kernelspec": {
   "display_name": "Python 3",
   "language": "python",
   "name": "python3"
  },
  "language_info": {
   "codemirror_mode": {
    "name": "ipython",
    "version": 3
   },
   "file_extension": ".py",
   "mimetype": "text/x-python",
   "name": "python",
   "nbconvert_exporter": "python",
   "pygments_lexer": "ipython3",
   "version": "3.6.2"
  }
 },
 "nbformat": 4,
 "nbformat_minor": 2
}
