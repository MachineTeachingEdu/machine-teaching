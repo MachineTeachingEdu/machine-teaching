{
 "cells": [
  {
   "cell_type": "markdown",
   "metadata": {},
   "source": [
    "### Next sample strategy\n",
    "\n",
    "Considered strategies used to propose the next problem:\n",
    "1. Randomly sample from the dataset D. Does not model the student and is therefore unable to adapt to their ability. May present redundant teaching examples of concepts that have already been learned by the student and not reinforce concepts that the student has shown to be uncertain about.\n",
    "2. ~~Worst predicted. Related to uncertainty sampling used in Active Learning. Selects the next teaching image whose prediction deviates most from the ground truth. Prone to proposing outliers. In the learning to program problem, maybe it presents the hardest exercises?~~\n",
    "3. Expected Error Reduction. Chooses the teaching image which, if labeled correctly, would have the greatest reduction on the future error over the images that are not in the teaching set. Student’s conditional distribution given the teaching set can be approximated using Gaussian Random Field."
   ]
  },
  {
   "cell_type": "markdown",
   "metadata": {},
   "source": [
    "#### Import libraries"
   ]
  },
  {
   "cell_type": "code",
   "execution_count": 39,
   "metadata": {
    "collapsed": true
   },
   "outputs": [],
   "source": [
    "# Input\n",
    "from db import PythonProblems\n",
    "import io\n",
    "\n",
    "# Helpers\n",
    "import numpy as np\n",
    "\n",
    "# Preprocessing\n",
    "import tokenize\n",
    "from sklearn.feature_extraction.text import CountVectorizer\n",
    "\n",
    "# Distance\n",
    "# from scipy.spatial.distance import pdist, squareform\n",
    "from sklearn.metrics.pairwise import cosine_similarity\n",
    "\n",
    "# Learning\n",
    "from clustering import Clustering\n",
    "\n",
    "# Visualization\n",
    "import matplotlib.pyplot as plt\n",
    "import seaborn as sns"
   ]
  },
  {
   "cell_type": "code",
   "execution_count": 2,
   "metadata": {
    "collapsed": true
   },
   "outputs": [],
   "source": [
    "db = PythonProblems('python.sqlite')"
   ]
  },
  {
   "cell_type": "code",
   "execution_count": 3,
   "metadata": {},
   "outputs": [
    {
     "name": "stdout",
     "output_type": "stream",
     "text": [
      "Got 758 documents\n",
      "Success in parsing all documents! You may go on!\n"
     ]
    }
   ],
   "source": [
    "removed_itens = ['NEWLINE', 'STRING', 'ENDMARKER', 'NUMBER', 'INDENT', 'DEDENT', \"NL\", 'COMMENT', 'ERRORTOKEN']\n",
    "allowed_itens = ['NAME', 'OP']\n",
    "cursor = db.conn.cursor()\n",
    "docs = []\n",
    "docs_id = []\n",
    "errors = []\n",
    "\n",
    "# lendo os dados\n",
    "cursor.execute(\"\"\"\n",
    "SELECT * FROM solution;\n",
    "\"\"\")\n",
    "\n",
    "\n",
    "for idx, row in enumerate(cursor.fetchall()):\n",
    "    file = io.StringIO(row[1])\n",
    "    doc = []\n",
    "    try:\n",
    "        for item in tokenize.generate_tokens(file.readline):\n",
    "            if tokenize.tok_name[item[0]] not in removed_itens:\n",
    "                if tokenize.tok_name[item[0]] in allowed_itens:\n",
    "                    doc.append(item[1])\n",
    "                else:\n",
    "                    print(\"%s %s\" % (tokenize.tok_name[item[0]], item[1]))\n",
    "    except (IndentationError, tokenize.TokenError):\n",
    "        errors.append(\"Please, fix solution %d before continuing\" % (idx+1))\n",
    "    \n",
    "    if doc == []:\n",
    "        continue\n",
    "    docs.append(' '.join(doc))\n",
    "    docs_id.append(row[0])\n",
    "\n",
    "print(\"Got %d documents\" %(idx+1))\n",
    "\n",
    "if not errors:\n",
    "    print(\"Success in parsing all documents! You may go on!\")\n",
    "else:\n",
    "    for item in errors:\n",
    "        print(item)"
   ]
  },
  {
   "cell_type": "markdown",
   "metadata": {},
   "source": [
    "***Limitação do parser: variável e nome reservado são do mesmo tipo. Não consigo separar sem fazer uma pré-lista. Mas pode ser o critério para ajustar o CountVectorizer***"
   ]
  },
  {
   "cell_type": "markdown",
   "metadata": {},
   "source": [
    "### Preprocessing solutions into bag of words ###"
   ]
  },
  {
   "cell_type": "code",
   "execution_count": 4,
   "metadata": {},
   "outputs": [
    {
     "data": {
      "text/plain": [
       "(753, 16)"
      ]
     },
     "execution_count": 4,
     "metadata": {},
     "output_type": "execute_result"
    }
   ],
   "source": [
    "# Initialize the \"CountVectorizer\" object, which is scikit-learn's\n",
    "# bag of words tool.  \n",
    "vectorizer = CountVectorizer(analyzer = \"word\",   \\\n",
    "                             tokenizer = None,    \\\n",
    "                             preprocessor = None, \\\n",
    "#                              stop_words = ['print'],   \\\n",
    "                             #max_features = 26d,\n",
    "                             binary=False,\n",
    "                             min_df=0.1\n",
    "                            ) \n",
    "\n",
    "# fit_transform() does two functions: First, it fits the model\n",
    "# and learns the vocabulary; second, it transforms our training data\n",
    "# into feature vectors. The input to fit_transform should be a list of \n",
    "# strings.\n",
    "\n",
    "train_data_features = vectorizer.fit_transform(docs)\n",
    "\n",
    "# Numpy arrays are easy to work with, so convert the result to an \n",
    "# array\n",
    "# Document-term matrix\n",
    "train_data_features = train_data_features.toarray()\n",
    "train_data_features.shape"
   ]
  },
  {
   "cell_type": "code",
   "execution_count": 5,
   "metadata": {},
   "outputs": [
    {
     "data": {
      "text/plain": [
       "(750, 16)"
      ]
     },
     "execution_count": 5,
     "metadata": {},
     "output_type": "execute_result"
    }
   ],
   "source": [
    "# Remove rows containing only zeros (weird exercises)\n",
    "solution_sample = train_data_features[~(train_data_features==0).all(1)]\n",
    "solution_sample.shape"
   ]
  },
  {
   "cell_type": "markdown",
   "metadata": {},
   "source": [
    "### Cluster solutions"
   ]
  },
  {
   "cell_type": "code",
   "execution_count": 26,
   "metadata": {},
   "outputs": [
    {
     "name": "stdout",
     "output_type": "stream",
     "text": [
      "1298410490\n"
     ]
    },
    {
     "data": {
      "image/png": "[encoded data removed]",
      "text/plain": [
       "<matplotlib.figure.Figure at 0x7ff8eadeda20>"
      ]
     },
     "metadata": {},
     "output_type": "display_data"
    }
   ],
   "source": [
    "clustering = Clustering(solution_sample, 6)\n",
    "model, document_topic, word_topic = clustering.gaussian_mixture()\n",
    "print(clustering.seed)\n",
    "clustering.plot_topic_distribution()"
   ]
  },
  {
   "cell_type": "markdown",
   "metadata": {},
   "source": [
    "### Get next sample\n",
    "\n",
    "Set initial matrices"
   ]
  },
  {
   "cell_type": "code",
   "execution_count": 29,
   "metadata": {},
   "outputs": [
    {
     "name": "stdout",
     "output_type": "stream",
     "text": [
      "(750, 6)\n",
      "(750, 6)\n",
      "(750, 750)\n"
     ]
    }
   ],
   "source": [
    "# Create X as an empty belief state (X is the machine's model of the student's distribution)\n",
    "X = np.zeros(clustering.document_topic.shape) # nS x nC\n",
    "print(X.shape)\n",
    "\n",
    "# Create Y as a document_topic matrix. For the first version, each document belongs to one topic\n",
    "Y = clustering.document_topic # nS x nC\n",
    "print(Y.shape)\n",
    "\n",
    "# Create W as a similarity matrix\n",
    "W = cosine_similarity(solution_sample) # nS x nS\n",
    "print(W.shape)\n",
    "\n",
    "# Set L as an unlabelled set\n",
    "L = []"
   ]
  },
  {
   "cell_type": "markdown",
   "metadata": {},
   "source": [
    "#### Visualization\n",
    "Reduce to 2 dimensions using TSNE"
   ]
  },
  {
   "cell_type": "code",
   "execution_count": null,
   "metadata": {
    "collapsed": true
   },
   "outputs": [],
   "source": [
    "sql = \"SELECT solution.id, problem.category from solution, problem where solution.problem_id = problem.id\"\n",
    "cursor = db.conn.cursor()\n",
    "cursor.execute(sql)\n",
    "\n",
    "rows = cursor.fetchall()\n",
    "doc_id, doc_category = zip(*rows)"
   ]
  },
  {
   "cell_type": "code",
   "execution_count": 38,
   "metadata": {
    "collapsed": true
   },
   "outputs": [],
   "source": [
    "def set_cluster_color():\n",
    "    # Set color for each pre-labelled cluster\n",
    "    cluster_names = ['', 'conditional', 'dict', 'file', 'function', 'list', 'loop'] #'math', 'string']\n",
    "    cluster_colors = {}\n",
    "    for i in range(len(cluster_names)):\n",
    "        color = cm.tab10(i / len(cluster_names))\n",
    "        color_hex = mpl_colors.rgb2hex(color[:3])\n",
    "        cluster_colors[cluster_names[i]] = color_hex\n",
    "        \n",
    "    return cluster_colors\n",
    "\n",
    "def reduce(solution_sample):    \n",
    "    # convert two components as we're plotting points in a two-dimensional plane\n",
    "    # \"precomputed\" because we provide a distance matrix\n",
    "    # we will also specify `random_state` so the plot is reproducible.\n",
    "    solution_tsne = TSNE(n_components=2, metric='cosine', random_state=1)\n",
    "    pos = solution_tsne.fit_transform(solution_sample)  # shape (n_components, n_samples)\n",
    "    xs, ys = pos[:, 0], pos[:, 1]\n",
    "    \n",
    "def plot():\n",
    "    #some ipython magic to show the matplotlib plots inline\n",
    "    %matplotlib inline \n",
    "\n",
    "    #create data frame that has the result of the MDS plus the cluster numbers and titles\n",
    "    df = pd.DataFrame(dict(x=xs, y=ys, label=doc_category, title=doc_id)) \n",
    "\n",
    "    #group by cluster\n",
    "    groups = df.groupby('label')\n",
    "\n",
    "\n",
    "    # set up plot\n",
    "    fig, ax = plt.subplots(figsize=(17, 9)) # set size\n",
    "    ax.margins(0.05) # Optional, just adds 5% padding to the autoscaling\n",
    "\n",
    "    #iterate through groups to layer the plot\n",
    "    #note that I use the cluster_name and cluster_color dicts with the 'name' lookup to return the appropriate color/label\n",
    "    for name, group in groups:\n",
    "        if name == 'math' or name == 'string':\n",
    "            continue\n",
    "        ax.plot(group.x, group.y, marker='o', linestyle='', ms=12, \n",
    "                label=name, color=cluster_colors[name], \n",
    "                mec='none')\n",
    "        ax.set_aspect('auto')\n",
    "        ax.tick_params(\\\n",
    "            axis= 'x',          # changes apply to the x-axis\n",
    "            which='both',      # both major and minor ticks are affected\n",
    "            bottom='off',      # ticks along the bottom edge are off\n",
    "            top='off',         # ticks along the top edge are off\n",
    "            labelbottom='off')\n",
    "        ax.tick_params(\\\n",
    "            axis= 'y',         # changes apply to the y-axis\n",
    "            which='both',      # both major and minor ticks are affected\n",
    "            left='off',      # ticks along the bottom edge are off\n",
    "            top='off',         # ticks along the top edge are off\n",
    "            labelleft='off')\n",
    "\n",
    "    ax.legend(numpoints=1)  #show legend with only 1 point\n",
    "\n",
    "    N = 10\n",
    "    colors = []\n",
    "    for i in range(N):\n",
    "        color = cm.tab10(i / N)\n",
    "\n",
    "        color_hex = mpl_colors.rgb2hex(color[:3])\n",
    "        colors.append(color_hex)\n",
    "\n",
    "    plt.scatter(xs,ys)\n",
    "    make_ellipses(models[N]['model'], ax)\n",
    "\n",
    "    #add label in x,y position with the label as the film title\n",
    "    # for i in range(len(df)):\n",
    "    #     ax.text(df.ix[i]['x'], df.ix[i]['y'], df.ix[i]['title'], size=8)  \n",
    "\n",
    "\n",
    "\n",
    "    plt.show() #show the plot\n",
    "\n",
    "    #uncomment the below to save the plot if need be\n",
    "    #plt.savefig('clusters_small_noaxes.png', dpi=200)"
   ]
  },
  {
   "cell_type": "code",
   "execution_count": null,
   "metadata": {
    "collapsed": true
   },
   "outputs": [],
   "source": []
  },
  {
   "cell_type": "code",
   "execution_count": 34,
   "metadata": {},
   "outputs": [
    {
     "data": {
      "text/plain": [
       "87"
      ]
     },
     "execution_count": 34,
     "metadata": {},
     "output_type": "execute_result"
    }
   ],
   "source": [
    "get_next_sample(X, Y, W, L)"
   ]
  },
  {
   "cell_type": "code",
   "execution_count": 30,
   "metadata": {
    "collapsed": true
   },
   "outputs": [],
   "source": [
    "########################################################################\n",
    "# Date: June 2015\n",
    "# Author: Edward Johns (e.johns@imperial.ac.uk)\n",
    "# This code may be freely distributed, but citations should be made to:\n",
    "# E. Johns et al, \"Becoming the Expert - Interactive Multi-Class Machine Teaching\", in Proceedings of CVPR 2015\n",
    "########################################################################\n",
    "\n",
    "def get_next_sample(X, Y, W, L):\n",
    "\n",
    "    # Based on \"Zhu et al., Combining Active Learning and Semi-Supervised Learning Using Gaussian Fields and Harmonic Functions, in ICML workshop 2003\"\n",
    "\n",
    "    # Input:\n",
    "    # Below, nS = total number of samples, nC = number of classes, nL = number of observed samples, nT = total number of testing samples to be shown to user\n",
    "    # X: nS*nC belief matrix, with each row representing one sample, and each column representing one column. Each element is the probability that the user thinks that sample is assigned to that class. This would be identical to Y if we were assuming that the user always assigns the ground truth to an observed sample, and never has memory fall-off.\n",
    "    # Y: nS*nC ground truth matrix (NumPy array), with each row in indicator encoding. This represents the ground-truth labels of all points. As such, each row has only one \"1\" and all other entries are \"0\".\n",
    "    # W: nS*nS graph weights matrix (symmetrical NumPy array), with each row and each column corresponding to one sample. Each element is the weight (affinity) between two samples.\n",
    "    # L: nL*1 labeled set, where each element is one sample that has already been shown to the user, with indices between 1 and nS.\n",
    "    # Output:\n",
    "    #    next_sample: the index of the optimum sample to be shown next, as selected by the active teaching algorithm.\n",
    "\n",
    "    # Get the total number of samples (nS) and total number of classes (nC). nC is not actually used.\n",
    "    [nS, nC] = X.shape\n",
    "\n",
    "    # Create the set of unlabelled samples (U)\n",
    "    U = np.setdiff1d(np.arange(nS), L)\n",
    "\n",
    "    # Get the number of unlabelled samples (nU)\n",
    "    nU = len(U)\n",
    "\n",
    "    # Get the ground truth for the unlabelled samples\n",
    "    Yu = Y.take(U, 0)\n",
    "\n",
    "    # Get the unlabelled section of the covariance matrix\n",
    "    Delta = np.subtract(np.diag(np.sum(W, 1)), W)\n",
    "    invDeltaU = np.linalg.inv(Delta.take(U, 0).take(U, 1))\n",
    "\n",
    "    # Get the current state of the GRF, for the unlabelled samples\n",
    "    f = np.dot(invDeltaU, np.dot(W.take(U, 0).take(L, 1), X.take(L, 0)))\n",
    "\n",
    "    # Create a list of risks, one for each unlabelled sample\n",
    "    uRisks = np.zeros(nU)\n",
    "\n",
    "    # Try each unlabelled sample\n",
    "    for u in range(nU):\n",
    "        # Find the sample number (remember that U is just the list of unlabelled samples, not all the samples)\n",
    "        s = U[u]\n",
    "\n",
    "        # Calculate the new state of the GRF if this sample were to be revealed to the user (here, we assume that the user's belief of this sample will then be the ground truth -- debatable...)\n",
    "        GG = invDeltaU[:, u] / invDeltaU[u, u]\n",
    "        diff = Y[s, :] - f[u, :]\n",
    "        fPlus = f + np.dot(GG[..., np.newaxis], diff[np.newaxis, ...])\n",
    "\n",
    "        # Sum up the risks over all unlabelled points (i.e. the difference between the new state, and the ground truth)\n",
    "        D = np.abs(1 - fPlus[Yu == 1])\n",
    "        uRisks[u] = np.sum(D)\n",
    "\n",
    "    # Get the sample which minimised the risk\n",
    "    next_sample_index = np.argmin(uRisks)\n",
    "    next_sample = U[next_sample_index]\n",
    "\n",
    "    # Return this sample\n",
    "    return next_sample"
   ]
  },
  {
   "cell_type": "code",
   "execution_count": null,
   "metadata": {
    "collapsed": true
   },
   "outputs": [],
   "source": []
  },
  {
   "cell_type": "markdown",
   "metadata": {},
   "source": [
    "### References\n",
    "[1] Johns, E., Aodha, O. Mac & Brostow, G. J. Becoming the expert - Interactive multi-class machine teaching. in Proceedings of the IEEE Computer Society Conference on Computer Vision and Pattern Recognition (2015). doi:10.1109/CVPR.2015.7298877\n",
    "\n",
    "[2] Zhu, X., Lafferty, J. & Ghahramani, Z. Combining Active Learning and Semi-Supervised Learning Using Gaussian Fields and Harmonic Functions Xiaojin. … Data Mach. Learn. … (2003)."
   ]
  }
 ],
 "metadata": {
  "kernelspec": {
   "display_name": "Python 3",
   "language": "python",
   "name": "python3"
  },
  "language_info": {
   "codemirror_mode": {
    "name": "ipython",
    "version": 3
   },
   "file_extension": ".py",
   "mimetype": "text/x-python",
   "name": "python",
   "nbconvert_exporter": "python",
   "pygments_lexer": "ipython3",
   "version": "3.6.2"
  }
 },
 "nbformat": 4,
 "nbformat_minor": 2
}
