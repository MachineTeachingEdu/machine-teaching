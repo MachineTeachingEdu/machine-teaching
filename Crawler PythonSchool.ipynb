{
 "cells": [
  {
   "cell_type": "code",
   "execution_count": 57,
   "metadata": {
    "collapsed": true
   },
   "outputs": [],
   "source": [
    "import os\n",
    "from urllib.parse import quote\n",
    "from datetime import datetime\n",
    "from db import PythonProblems"
   ]
  },
  {
   "cell_type": "code",
   "execution_count": 58,
   "metadata": {},
   "outputs": [],
   "source": [
    "db = PythonProblems('python.sqlite', 'init_tables.sql')"
   ]
  },
  {
   "cell_type": "code",
   "execution_count": 12,
   "metadata": {
    "collapsed": true
   },
   "outputs": [],
   "source": [
    "path = 'Basics-master'\n",
    "folders = os.listdir(path)"
   ]
  },
  {
   "cell_type": "code",
   "execution_count": 55,
   "metadata": {},
   "outputs": [
    {
     "name": "stdout",
     "output_type": "stream",
     "text": [
      "https://github.com/pythonschool/Basics/tree/master/1%20-%20Variables/basicsExercise1.py\n",
      "https://github.com/pythonschool/Basics/tree/master/1%20-%20Variables/basicsExercise2.py\n",
      "https://github.com/pythonschool/Basics/tree/master/2%20-%20Selection/ifExercise1.py\n",
      "https://github.com/pythonschool/Basics/tree/master/2%20-%20Selection/ifExercise2.py\n",
      "https://github.com/pythonschool/Basics/tree/master/2%20-%20Selection/ifExercise3.py\n",
      "https://github.com/pythonschool/Basics/tree/master/3%20-%20Iteration/forExercise1.py\n",
      "https://github.com/pythonschool/Basics/tree/master/3%20-%20Iteration/forExercise2.py\n"
     ]
    }
   ],
   "source": [
    "folders.sort()\n",
    "additional = []\n",
    "problems = []\n",
    "solutions = []\n",
    "idx = 0\n",
    "for folder in folders:\n",
    "    if folder[0] in ['1', '2', '3']:\n",
    "        folder_path = os.path.join(path+'/'+folder)\n",
    "        files = os.listdir(folder_path)\n",
    "        for file in files:\n",
    "            file_path = os.path.join(folder_path+'/'+file)\n",
    "            if os.path.isfile(file_path) and file[-2:] == 'py':\n",
    "                with open(file_path) as f:\n",
    "                    content = f.readlines()\n",
    "                for line, text in enumerate(content):\n",
    "                    # Line is comment and the problem is written\n",
    "                    if text.strip() and text.strip()[0] != '#':\n",
    "                        problem = content[:line]\n",
    "                        solution = content[line:]\n",
    "                        break\n",
    "                problem_text = ' '.join(problem).replace('#','').strip()\n",
    "                link = quote(\"https://github.com/pythonschool/Basics/tree/master/%s/%s\" % (folder, file),\n",
    "                             safe=\"%/:=&?~#+!$,;'@()*[]\")\n",
    "                problems.append({\"title\": problem[0].replace('#','').strip(), \"difficulty\": 1, \"link\": link,\n",
    "                     \"content\": problem_text, \"retrieved_date\": datetime.now(),\n",
    "                     \"crawler\": \"PythonSchool\"})\n",
    "                solution_text = ' '.join(solution)\n",
    "                solutions.append({\"content\": solution_text, \"link\": link,\n",
    "                                  \"retrieved_date\": datetime.now(), \"ignore\": False,\n",
    "                                 \"idx\": idx})\n",
    "                idx +=1"
   ]
  },
  {
   "cell_type": "code",
   "execution_count": 59,
   "metadata": {},
   "outputs": [],
   "source": [
    "rows = []\n",
    "for item in solutions:\n",
    "    row_dict = {}\n",
    "    idx = item[\"idx\"]\n",
    "    row_dict[\"problem\"] = problems[idx]\n",
    "    row_dict[\"solution\"] = item\n",
    "    rows.append(row_dict)"
   ]
  },
  {
   "cell_type": "code",
   "execution_count": null,
   "metadata": {
    "collapsed": true
   },
   "outputs": [],
   "source": [
    "db.populate(rows)\n",
    "db.close_connection()"
   ]
  }
 ],
 "metadata": {
  "kernelspec": {
   "display_name": "Python 3",
   "language": "python",
   "name": "python3"
  },
  "language_info": {
   "codemirror_mode": {
    "name": "ipython",
    "version": 3
   },
   "file_extension": ".py",
   "mimetype": "text/x-python",
   "name": "python",
   "nbconvert_exporter": "python",
   "pygments_lexer": "ipython3",
   "version": "3.6.2"
  }
 },
 "nbformat": 4,
 "nbformat_minor": 2
}
