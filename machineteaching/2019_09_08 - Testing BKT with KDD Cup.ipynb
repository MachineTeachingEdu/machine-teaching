{
 "cells": [
  {
   "cell_type": "code",
   "execution_count": 203,
   "metadata": {},
   "outputs": [
    {
     "name": "stdout",
     "output_type": "stream",
     "text": [
      "The autoreload extension is already loaded. To reload it, use:\n",
      "  %reload_ext autoreload\n"
     ]
    }
   ],
   "source": [
    "from spkit import bkt\n",
    "import pandas as pd\n",
    "import re\n",
    "import numpy as np"
   ]
  },
  {
   "cell_type": "code",
   "execution_count": 223,
   "metadata": {},
   "outputs": [
    {
     "name": "stdout",
     "output_type": "stream",
     "text": [
      "The autoreload extension is already loaded. To reload it, use:\n",
      "  %reload_ext autoreload\n"
     ]
    }
   ],
   "source": [
    "%load_ext autoreload\n",
    "%autoreload 0"
   ]
  },
  {
   "cell_type": "code",
   "execution_count": 211,
   "metadata": {},
   "outputs": [],
   "source": [
    "%aimport spkit.bkt"
   ]
  },
  {
   "cell_type": "markdown",
   "metadata": {},
   "source": [
    "### Reading KDD train file\n",
    "Drop rows with null in any of the important columns"
   ]
  },
  {
   "cell_type": "code",
   "execution_count": 2,
   "metadata": {},
   "outputs": [
    {
     "name": "stdout",
     "output_type": "stream",
     "text": [
      "(809694, 19)\n",
      "CPU times: user 4.37 s, sys: 184 ms, total: 4.56 s\n",
      "Wall time: 4.56 s\n"
     ]
    }
   ],
   "source": [
    "%%time\n",
    "df_all = pd.read_csv('algebra_2005_2006_train.txt', delimiter='\\t')\n",
    "print(df_all.shape)"
   ]
  },
  {
   "cell_type": "code",
   "execution_count": 140,
   "metadata": {},
   "outputs": [],
   "source": [
    "df = df_all[['Anon Student Id', 'Correct First Attempt', 'Problem Hierarchy', 'Problem Name', 'Problem View', 'Step Name', 'KC(Default)']]"
   ]
  },
  {
   "cell_type": "code",
   "execution_count": 141,
   "metadata": {},
   "outputs": [],
   "source": [
    "df = df.dropna()"
   ]
  },
  {
   "cell_type": "code",
   "execution_count": 142,
   "metadata": {},
   "outputs": [
    {
     "data": {
      "text/plain": [
       "(607025, 7)"
      ]
     },
     "execution_count": 142,
     "metadata": {},
     "output_type": "execute_result"
    }
   ],
   "source": [
    "df.shape"
   ]
  },
  {
   "cell_type": "markdown",
   "metadata": {},
   "source": [
    "### Preprocessing\n",
    "Transform dataframe in a format understood by the BKT module"
   ]
  },
  {
   "cell_type": "code",
   "execution_count": 143,
   "metadata": {},
   "outputs": [],
   "source": [
    "skipped = []\n",
    "def get_kcs(row):\n",
    "    kc_list = row['KC(Default)'].split('~~')\n",
    "    kc = []\n",
    "    for item in kc_list:\n",
    "        # Option 1: with SkillRule prefix\n",
    "        found_opt1 = re.findall(r'^\\[SkillRule: ([\\w ]+[,/?]*[\\w ]*);.*', item, flags=re.M)\n",
    "        # Option 2: regular words (hyphenized or spaced)\n",
    "        found_opt2 = re.findall(r'^([\\w -]+).*', text, flags=re.M)\n",
    "        if found_opt1:\n",
    "            kc.append(found_opt1[0])\n",
    "        elif found_opt2:\n",
    "            kc.append(found_opt2[0])\n",
    "        else:\n",
    "            skipped.append(item)\n",
    "    return kc\n",
    "\n",
    "def get_steps(row):\n",
    "    step = row['Problem Hierarchy'] + '_' + row[\"Problem Name\"] + '_' + row['Step Name']\n",
    "    return step"
   ]
  },
  {
   "cell_type": "markdown",
   "metadata": {},
   "source": [
    "Separate KCs in a list and create an identifier name for the step"
   ]
  },
  {
   "cell_type": "code",
   "execution_count": 144,
   "metadata": {},
   "outputs": [
    {
     "name": "stdout",
     "output_type": "stream",
     "text": [
      "CPU times: user 32.8 s, sys: 128 ms, total: 33 s\n",
      "Wall time: 33 s\n"
     ]
    }
   ],
   "source": [
    "%%time\n",
    "df['KC'] = df.apply(get_kcs, axis=1)\n",
    "df['step'] = df.apply(get_steps, axis=1)"
   ]
  },
  {
   "cell_type": "code",
   "execution_count": 145,
   "metadata": {},
   "outputs": [
    {
     "name": "stdout",
     "output_type": "stream",
     "text": [
      "CPU times: user 12min 33s, sys: 686 ms, total: 12min 33s\n",
      "Wall time: 12min 35s\n"
     ]
    }
   ],
   "source": [
    "%%time\n",
    "kcs = []\n",
    "for row in df['KC'].iteritems():\n",
    "    kcs.extend(row[1])\n",
    "kcs = list(set(kcs))\n",
    "steps = df['step'].unique().tolist()\n",
    "\n",
    "def create_data(row):\n",
    "    question_id = steps.index(row['step'])\n",
    "    return question_id\n",
    "\n",
    "df['question_id'] = df.apply(create_data, axis=1)"
   ]
  },
  {
   "cell_type": "markdown",
   "metadata": {},
   "source": [
    "Construct Q-Matrix"
   ]
  },
  {
   "cell_type": "code",
   "execution_count": 146,
   "metadata": {},
   "outputs": [
    {
     "name": "stdout",
     "output_type": "stream",
     "text": [
      "(176630, 25)\n",
      "CPU times: user 1min 44s, sys: 91 ms, total: 1min 44s\n",
      "Wall time: 1min 44s\n"
     ]
    }
   ],
   "source": [
    "%%time\n",
    "q_matrix = np.zeros((len(steps), len(kcs)))\n",
    "\n",
    "for idx, item in df.iterrows():\n",
    "    for kc in item['KC']:\n",
    "        kc_col = kcs.index(kc)\n",
    "        q_matrix[item['question_id'], kc_col] = 1\n",
    "    \n",
    "print(q_matrix.shape)"
   ]
  },
  {
   "cell_type": "markdown",
   "metadata": {},
   "source": [
    "Save data"
   ]
  },
  {
   "cell_type": "code",
   "execution_count": 201,
   "metadata": {},
   "outputs": [],
   "source": [
    "import pickle\n",
    "with open('kdd_2005_2005_df.pkl', 'wb') as pklfile:\n",
    "    pickle.dump(df, pklfile)\n",
    "with open('kdd_2005_2005_q_matrix.pkl', 'wb') as pklfile:\n",
    "    pickle.dump(q_matrix, pklfile)"
   ]
  },
  {
   "cell_type": "markdown",
   "metadata": {},
   "source": [
    "### Fitting data"
   ]
  },
  {
   "cell_type": "code",
   "execution_count": 148,
   "metadata": {},
   "outputs": [
    {
     "data": {
      "text/plain": [
       "<spkit.bkt.BKT at 0x7f8bb82257b8>"
      ]
     },
     "execution_count": 148,
     "metadata": {},
     "output_type": "execute_result"
    }
   ],
   "source": [
    "%%time\n",
    "# Data matrix\n",
    "data = df[['Correct First Attempt', 'Anon Student Id', 'question_id']].values.tolist()\n",
    "\n",
    "# Instantiate model\n",
    "model = bkt.BKT()\n",
    "model.fit(data, q_matrix)"
   ]
  },
  {
   "cell_type": "code",
   "execution_count": 158,
   "metadata": {},
   "outputs": [
    {
     "data": {
      "text/plain": [
       "574"
      ]
     },
     "execution_count": 158,
     "metadata": {},
     "output_type": "execute_result"
    }
   ],
   "source": [
    "students = df['Anon Student Id'].unique().tolist()\n",
    "len(students)"
   ]
  },
  {
   "cell_type": "code",
   "execution_count": 217,
   "metadata": {},
   "outputs": [],
   "source": [
    "with open('kdd_2005_2005_students.pkl', 'wb') as pklfile:\n",
    "    pickle.dump(students, pklfile)"
   ]
  },
  {
   "cell_type": "code",
   "execution_count": 222,
   "metadata": {},
   "outputs": [
    {
     "name": "stdout",
     "output_type": "stream",
     "text": [
      "CPU times: user 57.7 s, sys: 123 ms, total: 57.8 s\n",
      "Wall time: 57.8 s\n"
     ]
    }
   ],
   "source": [
    "%%time\n",
    "data_arr = np.asarray(data)\n",
    "rmse = 0\n",
    "n = 0\n",
    "score_df = []\n",
    "outcome_all = []\n",
    "predicted_proba = []\n",
    "for student in students:\n",
    "    student_idx = np.where(data_arr[:,1] == student)\n",
    "    outcome = data_arr[student_idx, 0]\n",
    "    question_id = data_arr[student_idx, 2]\n",
    "    data_student = np.vstack((outcome, question_id)).T.astype('int64').tolist()\n",
    "    inferred_outcome = model.predict_proba(data_student, q_matrix)\n",
    "    s_aic, s_bic, s_rmse, s_acc = model.score()\n",
    "    score_df.append({\"student\": student,\n",
    "                     \"AIC\": s_aic,\n",
    "                     \"BIC\": s_bic,\n",
    "                     \"RMSE\": s_rmse,\n",
    "                     \"Acc\": s_acc,\n",
    "                     \"n questions\": model.n_questions,\n",
    "                     \"LL\": model.loglikelihood.sum(),\n",
    "                     \"correct_outcome\": })"
   ]
  },
  {
   "cell_type": "code",
   "execution_count": 224,
   "metadata": {},
   "outputs": [],
   "source": [
    "score = pd.DataFrame.from_dict(score_df)"
   ]
  },
  {
   "cell_type": "code",
   "execution_count": 227,
   "metadata": {},
   "outputs": [],
   "source": [
    "with open('kdd_2005_2005_score.pkl', 'wb') as pklfile:\n",
    "    pickle.dump(score, pklfile)"
   ]
  },
  {
   "cell_type": "code",
   "execution_count": 225,
   "metadata": {},
   "outputs": [],
   "source": [
    "rmse_train = np.sqrt((score['RMSE']**2*score['n questions']).sum()/score['n questions'].sum())\n",
    "rmse_avg = score['RMSE'].mean()\n",
    "rmse_std = score['RMSE'].std()"
   ]
  },
  {
   "cell_type": "code",
   "execution_count": 226,
   "metadata": {},
   "outputs": [
    {
     "name": "stdout",
     "output_type": "stream",
     "text": [
      "RMSE de treino: 0.42\n",
      "RMSE médio: 0.43 +- 0.05\n"
     ]
    }
   ],
   "source": [
    "print(\"RMSE de treino: %.2f\" % rmse_train)\n",
    "print(\"RMSE médio: %.2f +- %.2f\" % (rmse_avg, rmse_std))"
   ]
  },
  {
   "cell_type": "code",
   "execution_count": 228,
   "metadata": {},
   "outputs": [],
   "source": [
    "acc_train = (score['Acc']*score['n questions']).sum()/score['n questions'].sum()\n",
    "acc_avg = score['Acc'].mean()\n",
    "acc_std = score['Acc'].std()"
   ]
  },
  {
   "cell_type": "code",
   "execution_count": 229,
   "metadata": {},
   "outputs": [
    {
     "name": "stdout",
     "output_type": "stream",
     "text": [
      "Acc de treino: 0.75\n",
      "Acc médio: 0.72 +- 0.11\n"
     ]
    }
   ],
   "source": [
    "print(\"Acc de treino: %.2f\" % acc_train)\n",
    "print(\"Acc médio: %.2f +- %.2f\" % (acc_avg, acc_std))"
   ]
  }
 ],
 "metadata": {
  "kernelspec": {
   "display_name": "Django Shell-Plus",
   "language": "python",
   "name": "django_extensions"
  },
  "language_info": {
   "codemirror_mode": {
    "name": "ipython",
    "version": 3
   },
   "file_extension": ".py",
   "mimetype": "text/x-python",
   "name": "python",
   "nbconvert_exporter": "python",
   "pygments_lexer": "ipython3",
   "version": "3.7.3"
  }
 },
 "nbformat": 4,
 "nbformat_minor": 2
}
