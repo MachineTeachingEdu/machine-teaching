{
 "cells": [
  {
   "cell_type": "code",
   "execution_count": 7,
   "metadata": {
    "scrolled": true
   },
   "outputs": [
    {
     "name": "stdout",
     "output_type": "stream",
     "text": [
      "1 - Before 2019/2\n",
      "15 - Computação 1 - Rafael T1 - PLE\n",
      "70 - Comp I - IFN/IQQ  (2020.2 - João Vitor)\n",
      "56 - EP1 - Natanael - COMP 2\n",
      "21 - comp1PLE_IG1_IQA\n",
      "59 - Comp1_2020_2_EM_(Carla)\n",
      "58 - MAB121_CMT1_11474_REM2020_2\n",
      "27 - Comp1_2020-1_EP_ET1 [Danilo]\n",
      "119 - Comp I - POLI (2021.2 - João Vitor)\n",
      "60 - EC1 - Anamaria (2020-2)\n",
      "65 - Comp1_2020-2_SV_IQT1-IQQ [Danilo]\n",
      "72 - Comp1_2021_1_EM1(Carla)\n",
      "94 - TESTE_CARLA\n",
      "62 - Computação I - CMT2 - 11475 (Rafael / Bernardo)\n",
      "73 - Comp1_2021_1_EP1(Carla)\n",
      "64 - Comp1_2020-2_EP_EC2 [Danilo]\n",
      "63 - Computação I - CMT3 - 11477 (Rafael / Danilo)\n",
      "36 - Introdução à Computação - MAN - 23804 (Rafael)\n",
      "7 - Sem turma\n",
      "18 - COMP1-CMT1-2936-PLE120\n",
      "12 - Comp1 EB1 - PLE\n",
      "16 - Comp1-PLE-CMT2\n",
      "20 - COMP1-PLE-EB3\n",
      "17 - Comp1_PLE_IQA_IG1\n",
      "13 - Comp I EP - EB2 - 2893 - PLE120\n",
      "22 - Comp I + Introd à Comp - IFN/MAN (PLE)\n",
      "67 - CompI_2020.2_EP_ENU/ET1/ER1  [Jéssica]\n",
      "14 - Comp I - MAA - 2940 - PLE120\n",
      "23 - Computação I Ep - EB4 (PLE)\n",
      "38 - ER1 - Daniel Alfaro\n",
      "37 - Comp I + Introd à Comp - IFN/IQN/IQQ - 23775 (Rafael)\n",
      "68 - CompI_2020.2_NTA+MAA [Jéssica]\n",
      "54 - EP1-EPT - João Vitor\n",
      "102 - CompI_2021.2_ITQ1/MEM/IQQ(Jéssica)\n",
      "19 - Vídeo\n",
      "57 - MAB114_EE1_11452_REM2020_2\n",
      "28 - MAB121_CMT_23765_REM2020_1\n",
      "29 - MAB114_NTA_ENU_23762_REM2020_1\n",
      "25 - comp1_2020_1EP_EC2_EM1_Carla\n",
      "11 - Comp 1 - PLE\n",
      "39 - CMT4-EB1 - Thais\n",
      "26 - Comp1_2020-1_EP_EC1 [Danilo]\n",
      "103 - CompI_2021.2_EC1(Raffaela)\n",
      "32 - CMT 3 - Natanael\n",
      "77 - CompI.2021.1 - CMT3 (Luiz Fernando)\n",
      "31 - CMT 2 - Natanael\n",
      "76 - CompI.2021.1 - CMT2 (Luiz Fernando)\n",
      "30 - EE1 - Anamaria\n",
      "5 - Comp 1 - BCMT 2 - 2019/2\n",
      "55 - EM2 - Natanael\n",
      "83 - MAB121 - CMT1 (2021.1) - Eduardo Mangeli\n",
      "84 - MAB114 - EM2 (2021.1) - Eduardo Mangeli\n",
      "85 - MAW112 - MAN (2021.1) - Eduardo Mangeli\n",
      "92 - Comp 1 ET1 - 2021.1 - D. Alfaro\n",
      "90 - J6W-0Dh-G6o\n",
      "91 - qsj-Lps-U1x\n",
      "69 - Comp 1 IGA/IG1- 2020.2 - Daniel Alfaro\n",
      "4 - Comp II + EE1/EE2/ENU - 2019/2\n",
      "3 - Comp I - EM2 - 2019/2\n",
      "2 - Comp I - EE1 - 2019/2\n",
      "95 - 4y1-tDf-gua\n",
      "9 - Comp 1 - BCMT - 2019/2\n",
      "8 - Comp 1 - EC - 2019/2\n",
      "6 - Comp 1 - BCMT 1 - 2019/2\n",
      "97 - CMT2\n",
      "24 - Turma aberta\n",
      "10 - Comp 2 - ENU+ET2+ER2 - 2020/1\n",
      "96 - Alcalá de Henares - Carolina Marcelino\n",
      "99 - ICP114 - EP1 (COMP I) 2021.2\n",
      "100 - ICP121 - IGA/IG1 (COMP I) 2021.2\n",
      "101 - CompI_2021.2_CMT1(Jéssica)\n",
      "33 - IGA-IQT1 - Jéssica\n",
      "34 - Nano-EPT - Jéssica\n",
      "75 - CompI_2021.1_IGA/IG1(Jéssica)\n",
      "104 - Comp1_2021_2_Ep-EM1(Carla)\n",
      "105 - EE1 Comp 1 Thais DELETADO\n",
      "106 - CMT4 Comp 1 Thais DELETADO\n",
      "108 - CMT4 21.2\n",
      "107 - EE1 21.2\n",
      "109 - EE1 Computação 1 2021.2 (Thais)\n",
      "110 - CMT3 Computação 1 2021.2 (Thais)\n",
      "111 - CMT3 Computação 1 2021.2 (Thais)\n",
      "71 - Comp1 EE1 - 2021-1 - Anamaria\n",
      "79 - EE1 - 2021-1 - Anamaria\n",
      "98 - CMT4\n",
      "80 - MAA Computação I MAB121\n",
      "81 - IQT Computação I MAB121\n",
      "82 - IFN-IQQ-IQN Computação I MAB121, MAW112\n",
      "86 - Daniel-Bastos-Teste\n",
      "112 - 2021.2-IFN-IQQ\n",
      "113 - 2021.2-MAN-IQN\n",
      "88 - Computação 1 (EP1) 2021.1 Seg de 13 h às 15 h e Sex de 10 h às 12 h\n",
      "89 - Computação 1 (CMT4) 2021.1 Ter e Qui 15 h às 17 h\n",
      "74 - CompI_2021.1_EC2(Jéssica)\n",
      "78 - CompI.2021.1 - ER1 (Luiz Fernando)\n",
      "93 - Comp 1 ET1 - 2021.1 - Daniel Alfaro\n",
      "115 - Computação I (EP/SV) - 2021.2\n",
      "114 - Computação I (EP/SV) - MAB114/MAC121\n",
      "116 - r95-Yd8-ik6\n",
      "87 - Computação 1 (MAE) 2021.1 Ter e Qui - 8 h às 10 h\n",
      "117 - Comp1 EM2 - 2021.2\n",
      "118 - Cálculo Numérico - Teste\n"
     ]
    }
   ],
   "source": [
    "oc = OnlineClass.objects.all()\n",
    "for item in oc:\n",
    "    print(f\"{item.id} - {item.name}\")\n",
    "    \n",
    "oc_exclude = [1, 56, 94, 7, 19, 11, 90, 91, 95, 24, 96, 105, 106, 86, 116, 118, 15, 70, 21, 18, 12, 16, 20, 17, 119, 13]"
   ]
  },
  {
   "cell_type": "code",
   "execution_count": 18,
   "metadata": {
    "scrolled": true
   },
   "outputs": [
    {
     "name": "stdout",
     "output_type": "stream",
     "text": [
      "61 turmas válidas\n",
      "119 - Comp I - POLI (2021.2 - João Vitor) - 214\n",
      "13 - Comp I EP - EB2 - 2893 - PLE120 - 139\n",
      "113 - 2021.2-MAN-IQN - 621\n"
     ]
    }
   ],
   "source": [
    "oc_valid = OnlineClass.objects.exclude(pk__in=oc_exclude)\n",
    "\n",
    "print(\"%d turmas válidas\" % oc_valid.count())\n",
    "\n",
    "for item in oc_valid:\n",
    "    students_logs = UserLog.objects.filter(user_class=item.pk)\n",
    "    if students_logs.count() < 1000:\n",
    "        oc_exclude += [item.pk]\n",
    "        print(\"%d - %s - %d\" % (item.pk, item.name, students_logs.count()))"
   ]
  },
  {
   "cell_type": "code",
   "execution_count": 24,
   "metadata": {},
   "outputs": [
    {
     "name": "stdout",
     "output_type": "stream",
     "text": [
      "58 turmas válidas\n",
      "59 - Comp1_2020_2_EM_(Carla) - 17 - 5868\n",
      "58 - MAB121_CMT1_11474_REM2020_2 - 27 - 6066\n",
      "27 - Comp1_2020-1_EP_ET1 [Danilo] - 25 - 6662\n",
      "60 - EC1 - Anamaria (2020-2) - 30 - 5936\n",
      "65 - Comp1_2020-2_SV_IQT1-IQQ [Danilo] - 15 - 5342\n",
      "72 - Comp1_2021_1_EM1(Carla) - 33 - 11248\n",
      "62 - Computação I - CMT2 - 11475 (Rafael / Bernardo) - 31 - 7945\n",
      "73 - Comp1_2021_1_EP1(Carla) - 33 - 13396\n",
      "64 - Comp1_2020-2_EP_EC2 [Danilo] - 23 - 9079\n",
      "63 - Computação I - CMT3 - 11477 (Rafael / Danilo) - 34 - 10510\n",
      "36 - Introdução à Computação - MAN - 23804 (Rafael) - 29 - 8285\n",
      "67 - CompI_2020.2_EP_ENU/ET1/ER1  [Jéssica] - 25 - 2555\n",
      "38 - ER1 - Daniel Alfaro - 30 - 6472\n",
      "37 - Comp I + Introd à Comp - IFN/IQN/IQQ - 23775 (Rafael) - 31 - 10670\n",
      "68 - CompI_2020.2_NTA+MAA [Jéssica] - 29 - 2815\n",
      "54 - EP1-EPT - João Vitor - 31 - 4570\n",
      "102 - CompI_2021.2_ITQ1/MEM/IQQ(Jéssica) - 31 - 3802\n",
      "57 - MAB114_EE1_11452_REM2020_2 - 33 - 9509\n",
      "28 - MAB121_CMT_23765_REM2020_1 - 26 - 9472\n",
      "29 - MAB114_NTA_ENU_23762_REM2020_1 - 28 - 9134\n",
      "25 - comp1_2020_1EP_EC2_EM1_Carla - 29 - 8055\n",
      "39 - CMT4-EB1 - Thais - 22 - 5265\n",
      "26 - Comp1_2020-1_EP_EC1 [Danilo] - 29 - 7724\n",
      "103 - CompI_2021.2_EC1(Raffaela) - 34 - 4206\n",
      "32 - CMT 3 - Natanael - 33 - 6776\n",
      "77 - CompI.2021.1 - CMT3 (Luiz Fernando) - 25 - 4571\n",
      "31 - CMT 2 - Natanael - 34 - 7212\n",
      "76 - CompI.2021.1 - CMT2 (Luiz Fernando) - 41 - 13077\n",
      "30 - EE1 - Anamaria - 36 - 7684\n",
      "55 - EM2 - Natanael - 44 - 8676\n",
      "83 - MAB121 - CMT1 (2021.1) - Eduardo Mangeli - 39 - 6983\n",
      "84 - MAB114 - EM2 (2021.1) - Eduardo Mangeli - 29 - 9055\n",
      "85 - MAW112 - MAN (2021.1) - Eduardo Mangeli - 41 - 6382\n",
      "69 - Comp 1 IGA/IG1- 2020.2 - Daniel Alfaro - 17 - 1820\n",
      "97 - CMT2 - 22 - 5623\n",
      "99 - ICP114 - EP1 (COMP I) 2021.2 - 25 - 2967\n",
      "100 - ICP121 - IGA/IG1 (COMP I) 2021.2 - 36 - 6972\n",
      "101 - CompI_2021.2_CMT1(Jéssica) - 36 - 9285\n",
      "33 - IGA-IQT1 - Jéssica - 31 - 6755\n",
      "34 - Nano-EPT - Jéssica - 13 - 3649\n",
      "75 - CompI_2021.1_IGA/IG1(Jéssica) - 38 - 10509\n",
      "104 - Comp1_2021_2_Ep-EM1(Carla) - 30 - 5048\n",
      "109 - EE1 Computação 1 2021.2 (Thais) - 21 - 1239\n",
      "110 - CMT3 Computação 1 2021.2 (Thais) - 18 - 1183\n",
      "79 - EE1 - 2021-1 - Anamaria - 43 - 8003\n",
      "98 - CMT4 - 24 - 6844\n",
      "80 - MAA Computação I MAB121 - 42 - 5902\n",
      "81 - IQT Computação I MAB121 - 31 - 4732\n",
      "82 - IFN-IQQ-IQN Computação I MAB121, MAW112 - 31 - 5110\n",
      "112 - 2021.2-IFN-IQQ - 19 - 1323\n",
      "88 - Computação 1 (EP1) 2021.1 Seg de 13 h às 15 h e Sex de 10 h às 12 h - 42 - 8670\n",
      "89 - Computação 1 (CMT4) 2021.1 Ter e Qui 15 h às 17 h - 30 - 7855\n",
      "74 - CompI_2021.1_EC2(Jéssica) - 41 - 10485\n",
      "78 - CompI.2021.1 - ER1 (Luiz Fernando) - 44 - 9866\n",
      "93 - Comp 1 ET1 - 2021.1 - Daniel Alfaro - 34 - 5863\n",
      "115 - Computação I (EP/SV) - 2021.2 - 17 - 1942\n",
      "87 - Computação 1 (MAE) 2021.1 Ter e Qui - 8 h às 10 h - 31 - 6431\n",
      "117 - Comp1 EM2 - 2021.2 - 28 - 2707\n"
     ]
    }
   ],
   "source": [
    "oc_valid = OnlineClass.objects.exclude(pk__in=oc_exclude)\n",
    "\n",
    "print(\"%d turmas válidas\" % oc_valid.count())\n",
    "students_per_class = []\n",
    "\n",
    "for item in oc_valid:\n",
    "    students_logs = UserLog.objects.filter(user_class=item.pk)\n",
    "    students = students_logs.values_list('user__pk').annotate(Count('user__pk'))\n",
    "    students_per_class.append(students.count())\n",
    "    print(\"%d - %s - %d - %d\" % (item.pk, item.name, students.count(), students_logs.count()))"
   ]
  },
  {
   "cell_type": "code",
   "execution_count": 27,
   "metadata": {},
   "outputs": [],
   "source": [
    "from statistics import mean, median"
   ]
  },
  {
   "cell_type": "code",
   "execution_count": 28,
   "metadata": {},
   "outputs": [
    {
     "data": {
      "text/plain": [
       "30.017241379310345"
      ]
     },
     "execution_count": 28,
     "metadata": {},
     "output_type": "execute_result"
    }
   ],
   "source": [
    "mean(students_per_class)"
   ]
  },
  {
   "cell_type": "code",
   "execution_count": 29,
   "metadata": {},
   "outputs": [
    {
     "data": {
      "text/plain": [
       "30.5"
      ]
     },
     "execution_count": 29,
     "metadata": {},
     "output_type": "execute_result"
    }
   ],
   "source": [
    "median(students_per_class)"
   ]
  }
 ],
 "metadata": {
  "kernelspec": {
   "display_name": "Python 3.10.5 64-bit",
   "language": "python",
   "name": "python3"
  },
  "language_info": {
   "codemirror_mode": {
    "name": "ipython",
    "version": 3
   },
   "file_extension": ".py",
   "mimetype": "text/x-python",
   "name": "python",
   "nbconvert_exporter": "python",
   "pygments_lexer": "ipython3",
   "version": "3.10.5"
  },
  "vscode": {
   "interpreter": {
    "hash": "8b8460abd739cfd285469db4ba70fb777b2c8c6379ab9597621119096d2665b3"
   }
  }
 },
 "nbformat": 4,
 "nbformat_minor": 4
}
