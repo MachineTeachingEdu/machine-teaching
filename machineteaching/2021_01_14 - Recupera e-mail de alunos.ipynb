{
 "cells": [
  {
   "cell_type": "code",
   "execution_count": 19,
   "metadata": {},
   "outputs": [
    {
     "data": {
      "text/plain": [
       "16"
      ]
     },
     "execution_count": 19,
     "metadata": {},
     "output_type": "execute_result"
    }
   ],
   "source": [
    "not_valid = ['Vídeo', 'Sem turma', 'Turma aberta']\n",
    "# onlineclasses = OnlineClass.objects.exclude(name__in=not_valid)\n",
    "onlineclasses = OnlineClass.objects.filter(active=True).exclude(name__in=not_valid)\n",
    "onlineclasses.count()"
   ]
  },
  {
   "cell_type": "code",
   "execution_count": 20,
   "metadata": {},
   "outputs": [
    {
     "data": {
      "text/plain": [
       "<QuerySet [(360,), (658,), (655,), (600,), (373,), (367,), (366,), (365,), (364,), (363,), (362,), (361,), (998,), (696,), (1,), (694,), (1349,), (701,), (709,), (704,), '...(remaining elements truncated)...']>"
      ]
     },
     "execution_count": 20,
     "metadata": {},
     "output_type": "execute_result"
    }
   ],
   "source": [
    "professors = Professor.objects.all().values_list('user')\n",
    "professors"
   ]
  },
  {
   "cell_type": "code",
   "execution_count": 26,
   "metadata": {},
   "outputs": [
    {
     "data": {
      "text/plain": [
       "<QuerySet [('ana2020@astro.ufrj.br', 'Ana', 'Beatriz'), ('brunamelloni97@gmail.com', 'Bruna', 'Melloni'), ('dani90463@gmail.com', 'Daneila', 'Esteves'), ('luishsc1159@hotmail.com', 'Luís Henrique', 'Santos Carvalho'), ('gilsonjjjs@gmail.com', 'Gilson', 'Paulino'), ('amartinsmoreira@gmail.com', 'Anamaria', 'Moreira'), ('matheusmosry@gmail.com', 'Matheus', 'Mosry'), ('giovannarocha403@gmail.com', 'Giovanna', 'Rocha'), ('victormattos@poli.ufrj.br', 'Victor', 'Mattos'), ('iaghettitorres@gmail.com', 'Iago', 'Nora Torres'), ('luisguilhermeneri@poli.ufrj.br', 'Luis Guilherme', 'Neri Ferreira'), ('manzoliluca@poli.ufrj.br', 'Daniel Luca', 'Manzoli de souza'), ('gdaapros3007@gmail.com', 'Gabriel', 'Pacheco'), ('pedrogabriellp@gmail.com', 'Pedro', 'Gadelha'), ('paulohenriquepulici@gmail.com', 'Paulo Henrique', 'Pulici'), ('antoniomello@poli.ufrj.br', 'Antônio', 'de Mello'), ('matheus.thcosta@gmail.com', 'Matheus', 'Thome da Costa'), ('acacia@labnet.ufrj.br', 'Acacia', 'Calegari'), ('danielferbelfort@gmail.com', 'daniel fernando', 'belfort'), ('salloumisabella@gmail.com', 'Isabella', 'Vannucci Salloum'), '...(remaining elements truncated)...']>"
      ]
     },
     "execution_count": 26,
     "metadata": {},
     "output_type": "execute_result"
    }
   ],
   "source": [
    "userprofile = UserProfile.objects.filter(user_class__in=onlineclasses).exclude(user__in=professors).values_list(\n",
    "    'user__email', 'user__first_name', 'user__last_name')\n",
    "userprofile"
   ]
  },
  {
   "cell_type": "code",
   "execution_count": 29,
   "metadata": {},
   "outputs": [],
   "source": [
    "import csv"
   ]
  },
  {
   "cell_type": "code",
   "execution_count": 32,
   "metadata": {},
   "outputs": [],
   "source": [
    "with open('contacts.csv', 'w') as csvfile:\n",
    "    writer = csv.writer(csvfile, delimiter=',',)\n",
    "    writer.writerow(['email', 'first_name', 'last_name', 'address_line_1', \n",
    "                     'address_line_2', 'city', 'state_province_region', \n",
    "                     'postal_code', 'country'])\n",
    "    for row in userprofile:\n",
    "        writer.writerow(list(row) + ['']*6)"
   ]
  }
 ],
 "metadata": {
  "kernelspec": {
   "display_name": "Django Shell-Plus",
   "language": "python",
   "name": "django_extensions"
  },
  "language_info": {
   "codemirror_mode": {
    "name": "ipython",
    "version": 3
   },
   "file_extension": ".py",
   "mimetype": "text/x-python",
   "name": "python",
   "nbconvert_exporter": "python",
   "pygments_lexer": "ipython3",
   "version": "3.6.10"
  }
 },
 "nbformat": 4,
 "nbformat_minor": 4
}
