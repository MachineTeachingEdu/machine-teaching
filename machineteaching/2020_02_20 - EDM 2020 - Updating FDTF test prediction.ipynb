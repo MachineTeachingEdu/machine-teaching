{
 "cells": [
  {
   "cell_type": "code",
   "execution_count": 2,
   "metadata": {},
   "outputs": [],
   "source": [
    "# Helpers\n",
    "import numpy as np\n",
    "\n",
    "# DB \n",
    "import psycopg2\n",
    "from django.conf import settings\n",
    "\n",
    "# Evaluation\n",
    "from sklearn.metrics import roc_curve, auc\n",
    "\n",
    "# Plot\n",
    "import matplotlib.pyplot as plt\n",
    "import seaborn as sns"
   ]
  },
  {
   "cell_type": "code",
   "execution_count": 3,
   "metadata": {},
   "outputs": [],
   "source": [
    "connection = psycopg2.connect(user = settings.DATABASES[\"default\"][\"USER\"],\n",
    "                                  password = settings.DATABASES[\"default\"][\"PASSWORD\"],\n",
    "                                  host = settings.DATABASES[\"default\"][\"HOST\"],\n",
    "                                  port = settings.DATABASES[\"default\"][\"PORT\"],\n",
    "                                  database = settings.DATABASES[\"default\"][\"NAME\"])\n",
    "connection.autocommit=True\n",
    "cursor = connection.cursor()"
   ]
  },
  {
   "cell_type": "code",
   "execution_count": 65,
   "metadata": {},
   "outputs": [
    {
     "name": "stdout",
     "output_type": "stream",
     "text": [
      "CPU times: user 19 s, sys: 9.79 s, total: 28.8 s\n",
      "Wall time: 15min 28s\n"
     ]
    }
   ],
   "source": [
    "%%time\n",
    "query = \"\"\"select experiment_id, sp, sp_test, x, x_test, sp_hat, sk_hat, q_matrix_hat, mu\n",
    "from EDM2020_2020_02_19 where method='fdtf' and dataset = 'run_0'\"\"\"\n",
    "cursor.execute(query)\n",
    "row = cursor.fetchone()"
   ]
  },
  {
   "cell_type": "code",
   "execution_count": 66,
   "metadata": {},
   "outputs": [],
   "source": [
    "# %%time\n",
    "update_queries = []\n",
    "total = 0\n",
    "while row:\n",
    "    exp_id, sp, sp_test, X, X_test, sp_hat, sk_hat, q_matrix_hat, mu = row\n",
    "    sp = np.asarray(sp)\n",
    "    sp_test = np.asarray(sp_test)\n",
    "    X = np.asarray(X)\n",
    "    X_test = np.asarray(X_test)\n",
    "    sp_hat = np.asarray(sp_hat)\n",
    "    sk_hat = np.asarray(sk_hat)\n",
    "    q_matrix_hat = np.asarray(q_matrix_hat)\n",
    "    \n",
    "    attempts_per_question = X.sum(axis=0).sum(axis=1)\n",
    "    del_questions = [idx for idx,value in enumerate(attempts_per_question) if value < 3]\n",
    "    X = np.delete(X, del_questions, axis=1)\n",
    "    \n",
    "    # Get train predicted values\n",
    "    y = sp[np.where(X == 1)]\n",
    "    y_pred = sp_hat[np.where(X == 1)]\n",
    "    \n",
    "    # Calculate AUC and threshold to binarize prediction\n",
    "    fpr, tpr, thresholds = roc_curve(y, y_pred, pos_label=1)\n",
    "    auc_score = auc(fpr, tpr)\n",
    "    J_stats = tpr - fpr\n",
    "    J_opt_thresholds = thresholds[np.argmax(J_stats)]\n",
    "    y_pred_binary = np.where(np.asarray(y_pred) > J_opt_thresholds, 1, 0)\n",
    "    \n",
    "    # Calculate accuracy and RMSE\n",
    "    acc = np.logical_not(np.logical_xor(y, y_pred_binary)).sum()/len(y)\n",
    "    rmse = np.sqrt(np.power((y-y_pred), 2)).mean()\n",
    "    \n",
    "    update = {\n",
    "        \"train_auc\": auc_score,\n",
    "        \"train_acc\": acc,\n",
    "        \"train_rmse\": rmse,\n",
    "        \"auc_threshold\": J_opt_thresholds,\n",
    "        \"train_1\":  np.where(y == 1)[0].shape[0],\n",
    "        \"train_0\":  np.where(y == 0)[0].shape[0],\n",
    "        \"train_pred_1\": np.where(y_pred_binary == 1)[0].shape[0],\n",
    "        \"train_pred_0\": np.where(y_pred_binary == 0)[0].shape[0],\n",
    "    }\n",
    "    \n",
    "    \n",
    "    # Write PSQL query\n",
    "    update_query = \"UPDATE EDM2020_2020_02_19 SET \"\n",
    "    update_list = []\n",
    "    query_values = []\n",
    "    for key, value in update.items():\n",
    "        update_list.append(key + \"= %s\")\n",
    "        query_values.append(value)\n",
    "    \n",
    "    update_query += \", \".join(update_list) + \"where experiment_id = %s\"\n",
    "    query_values.append(exp_id)\n",
    "    query_values = tuple(query_values)\n",
    "    query = cursor.mogrify(update_query, query_values)\n",
    "    update_queries.append(query)\n",
    "    total += 1\n",
    "    try:\n",
    "        row = cursor.fetchone()\n",
    "    except psycopg2.ProgrammingError:\n",
    "        row = False"
   ]
  },
  {
   "cell_type": "code",
   "execution_count": 70,
   "metadata": {},
   "outputs": [],
   "source": [
    "for query in update_queries:\n",
    "    cursor.execute(query)"
   ]
  }
 ],
 "metadata": {
  "kernelspec": {
   "display_name": "Django Shell-Plus",
   "language": "python",
   "name": "django_extensions"
  },
  "language_info": {
   "codemirror_mode": {
    "name": "ipython",
    "version": 3
   },
   "file_extension": ".py",
   "mimetype": "text/x-python",
   "name": "python",
   "nbconvert_exporter": "python",
   "pygments_lexer": "ipython3",
   "version": "3.6.10"
  }
 },
 "nbformat": 4,
 "nbformat_minor": 4
}
