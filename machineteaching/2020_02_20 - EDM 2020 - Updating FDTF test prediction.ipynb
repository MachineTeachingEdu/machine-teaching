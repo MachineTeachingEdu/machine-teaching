{
 "cells": [
  {
   "cell_type": "code",
   "execution_count": 1,
   "metadata": {},
   "outputs": [],
   "source": [
    "# Helpers\n",
    "import numpy as np\n",
    "\n",
    "# DB \n",
    "import psycopg2\n",
    "from django.conf import settings\n",
    "\n",
    "# Evaluation\n",
    "from sklearn.metrics import roc_curve, auc\n",
    "\n",
    "# Plot\n",
    "import matplotlib.pyplot as plt\n",
    "import seaborn as sns"
   ]
  },
  {
   "cell_type": "code",
   "execution_count": 2,
   "metadata": {},
   "outputs": [],
   "source": [
    "connection = psycopg2.connect(user = settings.DATABASES[\"default\"][\"USER\"],\n",
    "                                  password = settings.DATABASES[\"default\"][\"PASSWORD\"],\n",
    "                                  host = settings.DATABASES[\"default\"][\"HOST\"],\n",
    "                                  port = settings.DATABASES[\"default\"][\"PORT\"],\n",
    "                                  database = settings.DATABASES[\"default\"][\"NAME\"])\n",
    "connection.autocommit=True\n",
    "cursor = connection.cursor()"
   ]
  },
  {
   "cell_type": "code",
   "execution_count": 18,
   "metadata": {},
   "outputs": [
    {
     "name": "stdout",
     "output_type": "stream",
     "text": [
      "CPU times: user 568 ms, sys: 48.5 ms, total: 617 ms\n",
      "Wall time: 42.1 s\n"
     ]
    }
   ],
   "source": [
    "%%time\n",
    "query = \"\"\"select experiment_id, sp_test, sp_hat, x, x_test, sk_hat, q_matrix_hat, mu, auc_threshold\n",
    "from EDM2020_2020_02_19 where method='fdtf' and train_rmse is not null\"\"\"\n",
    "cursor.execute(query)\n",
    "row = cursor.fetchone()"
   ]
  },
  {
   "cell_type": "code",
   "execution_count": 22,
   "metadata": {},
   "outputs": [],
   "source": [
    "# %%time\n",
    "update_queries = []\n",
    "total = 0\n",
    "while row:\n",
    "    exp_id, sp_test, sp_hat, X, X_test, sk_hat, q_matrix_hat, mu, auc_threshold = row\n",
    "    sp_test = np.asarray(sp_test)\n",
    "    sp_hat = np.asarray(sp_hat)\n",
    "    sk_hat = np.asarray(sk_hat)\n",
    "    X = np.asarray(X)\n",
    "    X_test = np.asarray(X_test)\n",
    "    sp_hat_test = np.zeros((sp_hat.shape[0], sp_hat.shape[1], sp_test.shape[2]))\n",
    "    attempts = min(sp_test.shape[2], sp_hat.shape[2])\n",
    "    sp_hat_test[:, :, :attempts] = sp_hat[:, :, :attempts]\n",
    "    sk_hat_test = np.zeros((sk_hat.shape[0], sk_hat.shape[1], sp_test.shape[2]))\n",
    "    sk_hat_test[:, :, :attempts] = sk_hat[:, :, :attempts]\n",
    "    q_matrix_hat = np.asarray(q_matrix_hat)\n",
    "    \n",
    "    # Update X_test shape\n",
    "    attempts_per_question = X.sum(axis=0).sum(axis=1)\n",
    "    del_questions = [idx for idx,value in enumerate(attempts_per_question) if value < 3]\n",
    "    X_test = np.delete(X_test, del_questions, axis=1)\n",
    "    sp_test = np.delete(sp_test, del_questions, axis=1)\n",
    "    \n",
    "    # Calculate SK and SP for the next test attempts\n",
    "    for attempt in range(1, attempts):\n",
    "        students = np.where(X_test[:,:, attempt] == 1)\n",
    "        for student in students:\n",
    "            sk_hat_test[student, :, attempt] = (2*sk_hat_test[student, :, attempt-1]) + \\\n",
    "                                            2*(1-sk_hat_test[student, :, attempt-1])/(1+np.exp(\n",
    "                                                -mu*np.dot(X_test[student, :, attempt], q_matrix_hat.T))) - 1\n",
    "            sp_hat_test[student, :, attempt] = np.dot(sk_hat_test[student, :, attempt], q_matrix_hat)\n",
    "    \n",
    "    # Get train predicted values\n",
    "    y = sp_test[np.where(X_test == 1)]\n",
    "    y_pred = sp_hat_test[np.where(X_test == 1)]\n",
    "    \n",
    "    # Binarize prediction\n",
    "    y_pred_binary = np.where(np.asarray(y_pred) > auc_threshold, 1, 0)\n",
    "    \n",
    "    # Calculate accuracy and RMSE\n",
    "    acc = np.logical_not(np.logical_xor(y, y_pred_binary)).sum()/len(y)\n",
    "    rmse = np.sqrt(np.power((y-y_pred), 2)).mean()\n",
    "    \n",
    "    update = {\n",
    "        \"test_acc\": acc,\n",
    "        \"test_rmse\": rmse,\n",
    "        \"test_1\":  np.where(y == 1)[0].shape[0],\n",
    "        \"test_0\":  np.where(y == 0)[0].shape[0],\n",
    "        \"test_pred_1\": np.where(y_pred_binary == 1)[0].shape[0],\n",
    "        \"test_pred_0\": np.where(y_pred_binary == 0)[0].shape[0],\n",
    "    }\n",
    "    \n",
    "    \n",
    "    # Write PSQL query\n",
    "    update_query = \"UPDATE EDM2020_2020_02_19 SET \"\n",
    "    update_list = []\n",
    "    query_values = []\n",
    "    for key, value in update.items():\n",
    "        update_list.append(key + \"= %s\")\n",
    "        query_values.append(value)\n",
    "    \n",
    "    update_query += \", \".join(update_list) + \"where experiment_id = %s\"\n",
    "    query_values.append(exp_id)\n",
    "    query_values = tuple(query_values)\n",
    "    query = cursor.mogrify(update_query, query_values)\n",
    "    update_queries.append(query)\n",
    "    total += 1\n",
    "    try:\n",
    "        row = cursor.fetchone()\n",
    "    except psycopg2.ProgrammingError:\n",
    "        row = False"
   ]
  },
  {
   "cell_type": "code",
   "execution_count": 12,
   "metadata": {},
   "outputs": [],
   "source": [
    "for query in update_queries:\n",
    "    cursor.execute(query)"
   ]
  },
  {
   "cell_type": "code",
   "execution_count": 24,
   "metadata": {},
   "outputs": [
    {
     "data": {
      "text/plain": [
       "1"
      ]
     },
     "execution_count": 24,
     "metadata": {},
     "output_type": "execute_result"
    }
   ],
   "source": [
    "total"
   ]
  }
 ],
 "metadata": {
  "kernelspec": {
   "display_name": "Django Shell-Plus",
   "language": "python",
   "name": "django_extensions"
  },
  "language_info": {
   "codemirror_mode": {
    "name": "ipython",
    "version": 3
   },
   "file_extension": ".py",
   "mimetype": "text/x-python",
   "name": "python",
   "nbconvert_exporter": "python",
   "pygments_lexer": "ipython3",
   "version": "3.6.10"
  }
 },
 "nbformat": 4,
 "nbformat_minor": 4
}
