{
 "cells": [
  {
   "cell_type": "code",
   "execution_count": 30,
   "metadata": {},
   "outputs": [],
   "source": [
    "# Helpers\n",
    "import numpy as np\n",
    "\n",
    "# DB \n",
    "import psycopg2\n",
    "from django.conf import settings\n",
    "\n",
    "# Evaluation\n",
    "from sklearn.metrics import roc_curve, auc, f1_score\n",
    "from scipy import special\n",
    "\n",
    "# Plot\n",
    "import matplotlib.pyplot as plt\n",
    "import seaborn as sns"
   ]
  },
  {
   "cell_type": "code",
   "execution_count": 31,
   "metadata": {},
   "outputs": [],
   "source": [
    "connection = psycopg2.connect(user = settings.DATABASES[\"default\"][\"USER\"],\n",
    "                                  password = settings.DATABASES[\"default\"][\"PASSWORD\"],\n",
    "                                  host = settings.DATABASES[\"default\"][\"HOST\"],\n",
    "                                  port = settings.DATABASES[\"default\"][\"PORT\"],\n",
    "                                  database = settings.DATABASES[\"default\"][\"NAME\"])\n",
    "connection.autocommit=True\n",
    "cursor = connection.cursor()"
   ]
  },
  {
   "cell_type": "code",
   "execution_count": 32,
   "metadata": {},
   "outputs": [
    {
     "name": "stdout",
     "output_type": "stream",
     "text": [
      "CPU times: user 20.3 s, sys: 21.8 s, total: 42 s\n",
      "Wall time: 16min 14s\n"
     ]
    }
   ],
   "source": [
    "%%time\n",
    "query = \"\"\"select experiment_id, sp_test, sp_hat, x, x_test, sk_hat, q_matrix_hat, mu, auc_threshold\n",
    "from EDM2020_2020_02_19 where method='fdtf'\"\"\"\n",
    "cursor.execute(query)\n",
    "row = cursor.fetchone()"
   ]
  },
  {
   "cell_type": "code",
   "execution_count": 33,
   "metadata": {},
   "outputs": [
    {
     "name": "stdout",
     "output_type": "stream",
     "text": [
      "CPU times: user 5min 30s, sys: 22.7 s, total: 5min 53s\n",
      "Wall time: 5min 53s\n"
     ]
    }
   ],
   "source": [
    "%%time\n",
    "update_queries = []\n",
    "total = 0\n",
    "error_count = 0\n",
    "while row:\n",
    "    exp_id, sp_test, sp_hat, X, X_test, sk_hat, q_matrix_hat, mu, auc_threshold = row\n",
    "    sp_test = np.asarray(sp_test)\n",
    "    sp_hat = np.asarray(sp_hat)\n",
    "    sk_hat = np.asarray(sk_hat)\n",
    "    X_test = np.asarray(X_test)\n",
    "    sp_hat_test = np.zeros((sp_hat.shape[0], sp_hat.shape[1], sp_test.shape[2]))\n",
    "    attempts = min(sp_test.shape[2], sp_hat.shape[2])\n",
    "    sp_hat_test[:, :, :attempts] = sp_hat[:, :, :attempts]\n",
    "    sk_hat_test = np.zeros((sk_hat.shape[0], sk_hat.shape[1], sp_test.shape[2]))\n",
    "    sk_hat_test[:, :, :attempts] = sk_hat[:, :, :attempts]\n",
    "    q_matrix_hat = np.asarray(q_matrix_hat)\n",
    "    \n",
    "    # Calculate SK and SP for the next test attempts\n",
    "    for attempt in range(1, attempts):\n",
    "        students = np.where(X_test[:,:, attempt] == 1)\n",
    "        for student in students:\n",
    "            sk_hat_test[student, :, attempt] = (2*sk_hat_test[student, :, attempt-1]) + \\\n",
    "                                            2*(1-sk_hat_test[student, :, attempt-1])/(1+np.exp(\n",
    "                                                -mu*np.dot(X_test[student, :, attempt], q_matrix_hat.T))) - 1\n",
    "            sp_hat_test[student, :, attempt] = np.dot(sk_hat_test[student, :, attempt], q_matrix_hat)\n",
    "    \n",
    "    # Get test predicted values\n",
    "    y = sp_test[np.where(X_test == 1)]\n",
    "    y_pred = sp_hat_test[np.where(X_test == 1)]\n",
    "    \n",
    "    # Binarize prediction\n",
    "    y_pred_binary = np.where(np.asarray(y_pred) > auc_threshold, 1, 0)\n",
    "    \n",
    "    # Calculate accuracy, RMSE, NLL\n",
    "    acc = np.logical_not(np.logical_xor(y, y_pred_binary)).sum()/len(y)\n",
    "    rmse = np.sqrt(np.power((y-y_pred), 2)).mean()\n",
    "    y_1 = y[np.where(y == 1)]\n",
    "    y_pred_1 = y_pred[np.where(y == 1)]\n",
    "    y_0 = y[np.where(y == 0)]\n",
    "    y_pred_0 = y_pred[np.where(y == 0)]\n",
    "    rmse_1 = np.sqrt(np.mean(np.power(y_1 - y_pred_1, 2))) \n",
    "    rmse_0 = np.sqrt(np.mean(np.power(y_0 - y_pred_0, 2))) \n",
    "    f1 = f1_score(y, y_pred_binary)\n",
    "    nll = -special.xlogy(y, y_pred) - special.xlogy(1-y, 1-y_pred)\n",
    "\n",
    "    y_pred_all = np.zeros((y.shape[0], 2))\n",
    "    y_pred_all[:,0] = 1-y_pred\n",
    "    y_pred_all[:,1] = y_pred\n",
    "    nll_special = (-np.ma.log(y_pred_all[range(y.shape[0]),y.astype(int)])).mean()\n",
    "\n",
    "    # Substitute inf by max NLL\n",
    "    idx = np.where(np.isinf(nll))\n",
    "    nll[idx] = 0\n",
    "    max_nll = np.max(nll)\n",
    "    nll[idx] = max_nll\n",
    "    nll = np.mean(nll)\n",
    "    \n",
    "    update = {\n",
    "        \"test_acc\": acc,\n",
    "        \"test_rmse\": rmse,\n",
    "        \"test_1\":  np.where(y == 1)[0].shape[0],\n",
    "        \"test_0\":  np.where(y == 0)[0].shape[0],\n",
    "        \"test_pred_1\": np.where(y_pred_binary == 1)[0].shape[0],\n",
    "        \"test_pred_0\": np.where(y_pred_binary == 0)[0].shape[0],\n",
    "        \"test_f1\": f1,\n",
    "        \"test_nll\": nll,\n",
    "        \"test_nll_special\": nll_special,\n",
    "        \"test_nll_masked\": idx[0].shape[0],\n",
    "        \"test_rmse_1\": rmse_1,\n",
    "        \"test_rmse_0\": rmse_0\n",
    "    }\n",
    "    \n",
    "    # Write PSQL query\n",
    "    update_query = \"UPDATE EDM2020_2020_02_19 SET \"\n",
    "    update_list = []\n",
    "    query_values = []\n",
    "    for key, value in update.items():\n",
    "        update_list.append(key + \"= %s\")\n",
    "        query_values.append(value)\n",
    "    \n",
    "    update_query += \", \".join(update_list) + \"where experiment_id = %s\"\n",
    "    query_values.append(exp_id)\n",
    "    query_values = tuple(query_values)\n",
    "    query = cursor.mogrify(update_query, query_values)\n",
    "    update_queries.append(query)\n",
    "    total += 1\n",
    "    try:\n",
    "        row = cursor.fetchone()\n",
    "    except psycopg2.ProgrammingError:\n",
    "        row = False"
   ]
  },
  {
   "cell_type": "code",
   "execution_count": 36,
   "metadata": {},
   "outputs": [
    {
     "name": "stdout",
     "output_type": "stream",
     "text": [
      "CPU times: user 15.6 ms, sys: 46.9 ms, total: 62.5 ms\n",
      "Wall time: 1min 58s\n"
     ]
    }
   ],
   "source": [
    "%%time\n",
    "for query in update_queries:\n",
    "    cursor.execute(query)"
   ]
  },
  {
   "cell_type": "code",
   "execution_count": 35,
   "metadata": {},
   "outputs": [
    {
     "data": {
      "text/plain": [
       "763"
      ]
     },
     "execution_count": 35,
     "metadata": {},
     "output_type": "execute_result"
    }
   ],
   "source": [
    "total"
   ]
  }
 ],
 "metadata": {
  "kernelspec": {
   "display_name": "Django Shell-Plus",
   "language": "python",
   "name": "django_extensions"
  },
  "language_info": {
   "codemirror_mode": {
    "name": "ipython",
    "version": 3
   },
   "file_extension": ".py",
   "mimetype": "text/x-python",
   "name": "python",
   "nbconvert_exporter": "python",
   "pygments_lexer": "ipython3",
   "version": "3.6.10"
  }
 },
 "nbformat": 4,
 "nbformat_minor": 4
}
