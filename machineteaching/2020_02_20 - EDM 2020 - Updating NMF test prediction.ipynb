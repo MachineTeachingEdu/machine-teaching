{
 "cells": [
  {
   "cell_type": "code",
   "execution_count": 5,
   "metadata": {},
   "outputs": [],
   "source": [
    "# Helpers\n",
    "import numpy as np\n",
    "\n",
    "# DB \n",
    "import psycopg2\n",
    "from django.conf import settings\n",
    "\n",
    "# Evaluation\n",
    "from sklearn.metrics import roc_curve, auc, f1_score\n",
    "\n",
    "# Plot\n",
    "import matplotlib.pyplot as plt\n",
    "import seaborn as sns"
   ]
  },
  {
   "cell_type": "code",
   "execution_count": 2,
   "metadata": {},
   "outputs": [],
   "source": [
    "connection = psycopg2.connect(user = settings.DATABASES[\"default\"][\"USER\"],\n",
    "                                  password = settings.DATABASES[\"default\"][\"PASSWORD\"],\n",
    "                                  host = settings.DATABASES[\"default\"][\"HOST\"],\n",
    "                                  port = settings.DATABASES[\"default\"][\"PORT\"],\n",
    "                                  database = settings.DATABASES[\"default\"][\"NAME\"])\n",
    "connection.autocommit=True\n",
    "cursor = connection.cursor()"
   ]
  },
  {
   "cell_type": "code",
   "execution_count": 3,
   "metadata": {},
   "outputs": [
    {
     "name": "stdout",
     "output_type": "stream",
     "text": [
      "CPU times: user 1.5 s, sys: 2.64 s, total: 4.14 s\n",
      "Wall time: 1min 30s\n"
     ]
    }
   ],
   "source": [
    "%%time\n",
    "query = \"\"\"select experiment_id, sp_test, sp_hat, auc_threshold\n",
    "from EDM2020_2020_02_19 where method='nmf' and attempts_train = 1\"\"\"\n",
    "cursor.execute(query)\n",
    "row = cursor.fetchone()"
   ]
  },
  {
   "cell_type": "code",
   "execution_count": 7,
   "metadata": {},
   "outputs": [],
   "source": [
    "# %%time\n",
    "update_queries = []\n",
    "total = 0\n",
    "while row:\n",
    "    exp_id, sp_test, sp_hat, auc_threshold = row\n",
    "    sp_test = np.asarray(sp_test)\n",
    "    sp_hat = np.asarray(sp_hat)\n",
    "    \n",
    "    # Get train predicted values\n",
    "    # 0 is when there aren't any attempts\n",
    "    y = sp_test[np.where(sp_test > 0)]\n",
    "    y_pred = sp_hat[np.where(sp_test > 0)]\n",
    "    rmse = np.sqrt(np.mean(np.power(y - y_pred, 2))) \n",
    "    \n",
    "    update = {\n",
    "        \"test_rmse\": rmse,\n",
    "    }\n",
    "    \n",
    "    if auc_threshold:\n",
    "        # Binarize prediction\n",
    "        y[np.where(y == 0.1)] = 0\n",
    "        y_pred_binary = np.where(np.asarray(y_pred) > auc_threshold, 1, 0)\n",
    "\n",
    "        # Calculate accuracy and RMSE\n",
    "        acc = np.logical_not(np.logical_xor(y, y_pred_binary)).sum()/len(y)\n",
    "        f1 = f1_score(y, y_pred_binary)\n",
    "        \n",
    "        update.update({\n",
    "            \"test_acc\": acc,\n",
    "            \"test_1\":  np.where(y == 1)[0].shape[0],\n",
    "            \"test_0\":  np.where(y == 0)[0].shape[0],\n",
    "            \"test_pred_1\": np.where(y_pred_binary == 1)[0].shape[0],\n",
    "            \"test_pred_0\": np.where(y_pred_binary == 0)[0].shape[0],\n",
    "            \"test_f1\": f1\n",
    "        })\n",
    "            \n",
    "   # Write PSQL query\n",
    "    update_query = \"UPDATE EDM2020_2020_02_19 SET \"\n",
    "    update_list = []\n",
    "    query_values = []\n",
    "    for key, value in update.items():\n",
    "        update_list.append(key + \"= %s\")\n",
    "        query_values.append(value)\n",
    "    \n",
    "    update_query += \", \".join(update_list) + \"where experiment_id = %s\"\n",
    "    query_values.append(exp_id)\n",
    "    query_values = tuple(query_values)\n",
    "    query = cursor.mogrify(update_query, query_values)\n",
    "    update_queries.append(query)\n",
    "    total += 1\n",
    "    try:\n",
    "        row = cursor.fetchone()\n",
    "    except psycopg2.ProgrammingError:\n",
    "        row = False"
   ]
  },
  {
   "cell_type": "code",
   "execution_count": 8,
   "metadata": {},
   "outputs": [],
   "source": [
    "for query in update_queries:\n",
    "    cursor.execute(query)"
   ]
  },
  {
   "cell_type": "code",
   "execution_count": 9,
   "metadata": {},
   "outputs": [
    {
     "data": {
      "text/plain": [
       "8550"
      ]
     },
     "execution_count": 9,
     "metadata": {},
     "output_type": "execute_result"
    }
   ],
   "source": [
    "total"
   ]
  }
 ],
 "metadata": {
  "kernelspec": {
   "display_name": "Django Shell-Plus",
   "language": "python",
   "name": "django_extensions"
  },
  "language_info": {
   "codemirror_mode": {
    "name": "ipython",
    "version": 3
   },
   "file_extension": ".py",
   "mimetype": "text/x-python",
   "name": "python",
   "nbconvert_exporter": "python",
   "pygments_lexer": "ipython3",
   "version": "3.7.6"
  }
 },
 "nbformat": 4,
 "nbformat_minor": 4
}
