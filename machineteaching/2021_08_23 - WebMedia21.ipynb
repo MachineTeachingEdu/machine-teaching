{
 "cells": [
  {
   "cell_type": "code",
   "execution_count": 1,
   "metadata": {},
   "outputs": [],
   "source": [
    "import seaborn as sns\n",
    "import matplotlib.pyplot as plt\n",
    "\n",
    "import numpy as np\n",
    "import pandas as pd\n",
    "\n",
    "import rpy2"
   ]
  },
  {
   "cell_type": "code",
   "execution_count": 2,
   "metadata": {},
   "outputs": [],
   "source": [
    "%load_ext rpy2.ipython"
   ]
  },
  {
   "cell_type": "code",
   "execution_count": 91,
   "metadata": {},
   "outputs": [],
   "source": [
    "def get_total_normalized(set1, set2):\n",
    "    total = set1 + set2\n",
    "    return total/total.sum(), total.sum()\n",
    "\n",
    "def create_dataframe(sets, labels):\n",
    "    dfs = []\n",
    "    for idx, single_set in enumerate(sets):\n",
    "        df =  pd.DataFrame({\"Id\": [1,2,3],\n",
    "                   \"Target\": [labels[idx]]*3,\n",
    "                   \"Percentage\": [round(single_set[:2].sum(),2), \n",
    "                                   round(single_set[2],2), \n",
    "                                   round(single_set[3:].sum(),2)],\n",
    "                   \"Perception\": [\"Disagree\", \"Neutral\", \"Agree\"]})\n",
    "        dfs.append(df)\n",
    "    df_total = pd.concat(dfs, axis=0)\n",
    "    return df_total"
   ]
  },
  {
   "cell_type": "code",
   "execution_count": 132,
   "metadata": {},
   "outputs": [],
   "source": [
    "%%R\n",
    "library(ggplot2)\n",
    "plot_likert <- function(df, title, fig_name, height=1.4, vjust=0.5, size=8){ \n",
    "    \n",
    "    df$Perception <- reorder(df$Perception, -df$Id)\n",
    "\n",
    "    p<-ggplot(df, aes(fill=Perception, y=Percentage, x=Target)) + \n",
    "        geom_bar(position='stack', stat='identity') + coord_flip() +\n",
    "        geom_text(aes(label = paste0(Percentage*100,\"%\")), \n",
    "                  position = position_stack(vjust = vjust), color='black', size=size) +\n",
    "        theme_minimal() + scale_fill_manual(values = c(\"#00BA38\",\"#619CFF\", \"#F8766D\")) +\n",
    "        theme(axis.text=element_text(size=11),\n",
    "              axis.title=element_text(size=11,face=\"bold\")) + \n",
    "        ggtitle(title)\n",
    "    # ggplot_build(p)$data\n",
    "    ggsave(file=fig_name, width=8, height=height, dpi=300)\n",
    "    p\n",
    "}"
   ]
  },
  {
   "cell_type": "code",
   "execution_count": 133,
   "metadata": {},
   "outputs": [],
   "source": [
    "def run(set1, set2, title, fig_name, height=1.4, vjust=0.5, size=8):\n",
    "    set_total_norm, set_total = get_total_normalized(set1, set2)\n",
    "    df = create_dataframe([set_total_norm], [\"Aluno\"])\n",
    "    fig_name = \"data/webmedia21/\" + fig_name + \".png\"\n",
    "    %Rpush df fig_name height vjust size title\n",
    "    %R plot_likert(df, title, fig_name, height=height, vjust=vjust, size=size)\n",
    "    return set_total, df"
   ]
  },
  {
   "cell_type": "markdown",
   "metadata": {},
   "source": [
    "## Usabilidade"
   ]
  },
  {
   "cell_type": "markdown",
   "metadata": {},
   "source": [
    "### Alunos"
   ]
  },
  {
   "cell_type": "markdown",
   "metadata": {
    "tags": []
   },
   "source": [
    "#### Pergunta: O sistema possui uma interface de uso amigável"
   ]
  },
  {
   "cell_type": "code",
   "execution_count": 134,
   "metadata": {},
   "outputs": [
    {
     "data": {
      "text/plain": [
       "(267,    Id Target  Percentage Perception\n",
       " 0   1  Aluno        0.03   Disagree\n",
       " 1   2  Aluno        0.12    Neutral\n",
       " 2   3  Aluno        0.85      Agree)"
      ]
     },
     "execution_count": 134,
     "metadata": {},
     "output_type": "execute_result"
    }
   ],
   "source": [
    "alunos_2020_1 = np.array([0, 8, 24, 55, 90])\n",
    "alunos_2020_2 = np.array([1,0,8,29,52])\n",
    "run(alunos_2020_1, alunos_2020_2, \"The system has a friendly interface\", \n",
    "    \"percepcao_alunos_e_prof_amigavel\", size=4)"
   ]
  },
  {
   "cell_type": "markdown",
   "metadata": {},
   "source": [
    "#### Pergunta: Eu tive facilidade em encontrar os exercícios passados para estudar"
   ]
  },
  {
   "cell_type": "code",
   "execution_count": 135,
   "metadata": {},
   "outputs": [
    {
     "data": {
      "text/plain": [
       "(267,    Id Target  Percentage Perception\n",
       " 0   1  Aluno        0.09   Disagree\n",
       " 1   2  Aluno        0.11    Neutral\n",
       " 2   3  Aluno        0.79      Agree)"
      ]
     },
     "execution_count": 135,
     "metadata": {},
     "output_type": "execute_result"
    }
   ],
   "source": [
    "alunos_2020_1 = np.array([3,17,18,48,91])\n",
    "alunos_2020_2 = np.array([1,4,12,26,47])\n",
    "run(alunos_2020_1, alunos_2020_2, \"It was easy for me to find past exercises to study\", \n",
    "    \"percepcao_alunos_e_prof_facilidade\", size=4)"
   ]
  },
  {
   "cell_type": "markdown",
   "metadata": {},
   "source": [
    "#### Pergunta: Eu tive facilidade em encontrar os exercícios da lista da semana para fazer"
   ]
  },
  {
   "cell_type": "code",
   "execution_count": 136,
   "metadata": {},
   "outputs": [
    {
     "data": {
      "text/plain": [
       "(267,    Id Target  Percentage Perception\n",
       " 0   1  Aluno        0.03   Disagree\n",
       " 1   2  Aluno        0.05    Neutral\n",
       " 2   3  Aluno        0.92      Agree)"
      ]
     },
     "execution_count": 136,
     "metadata": {},
     "output_type": "execute_result"
    }
   ],
   "source": [
    "alunos_2020_1 = np.array([1,4,10,36,126])\n",
    "alunos_2020_2 = np.array([2,2,3,28,55])\n",
    "run(alunos_2020_1, alunos_2020_2, \" It was easy for me to find this week's exercises\", \n",
    "    \"percepcao_alunos_e_prof_facilidade_semana\", size=4)"
   ]
  },
  {
   "cell_type": "code",
   "execution_count": 137,
   "metadata": {},
   "outputs": [],
   "source": [
    "def create_pie(values, fig_name):\n",
    "    df =  pd.DataFrame({\"Id\": [1,2,3,4],\n",
    "               \"Percentage\": values,\n",
    "               \"Software\": ['I tested the code \\nfirst on IDLE and\\n  then submitted \\nit in the system.',\n",
    "                              '    I wrote the code\\n  first in the system and, \\n if I got it incorrectly, \\nI tested it on IDLE.',\n",
    "                              'I wroted and \\ntested the code\\n only in the system.', 'Other']})\n",
    "\n",
    "    labels = df['Software'].values\n",
    "    values = df['Percentage'].values\n",
    "    #colors\n",
    "    colors = ['#66b3ff','#99ff99','#ffcc99']\n",
    "\n",
    "    plt.rcParams.update({'font.size': 15})\n",
    "    fig, ax1 = plt.subplots(figsize=(8,8))\n",
    "    plt.pie(values, labels=labels, startangle=60, autopct='%1.1f%%', \n",
    "            pctdistance=0.6, \n",
    "            wedgeprops={'alpha':0.5}\n",
    "    #         colors=colors\n",
    "           )\n",
    "\n",
    "    #draw circle\n",
    "    centre_circle = plt.Circle((0,0),0.4,fc='white')\n",
    "    fig.gca().add_artist(centre_circle)\n",
    "    #plt.title(\"Which software did you use to prepare the answers for the questions?\")\n",
    "\n",
    "    # ax1.axis('equal')  \n",
    "    plt.tight_layout()\n",
    "\n",
    "    plt.savefig('data/webmedia21/%s.eps' % fig_name, format='eps')\n",
    "    plt.savefig('data/webmedia21/%s.png' % fig_name, format='png')\n",
    "\n",
    "    plt.show()"
   ]
  },
  {
   "cell_type": "code",
   "execution_count": 138,
   "metadata": {},
   "outputs": [
    {
     "name": "stderr",
     "output_type": "stream",
     "text": [
      "The PostScript backend does not support transparency; partially transparent artists will be rendered opaque.\n",
      "The PostScript backend does not support transparency; partially transparent artists will be rendered opaque.\n",
      "The PostScript backend does not support transparency; partially transparent artists will be rendered opaque.\n",
      "The PostScript backend does not support transparency; partially transparent artists will be rendered opaque.\n"
     ]
    },
    {
     "data": {
      "image/png": "[encoded data removed]",
      "text/plain": [
       "<Figure size 576x576 with 1 Axes>"
      ]
     },
     "metadata": {},
     "output_type": "display_data"
    }
   ],
   "source": [
    "create_pie([47.5, 26,21.5, 5], 'survey_code_2020_1')"
   ]
  },
  {
   "cell_type": "code",
   "execution_count": 139,
   "metadata": {},
   "outputs": [
    {
     "name": "stderr",
     "output_type": "stream",
     "text": [
      "The PostScript backend does not support transparency; partially transparent artists will be rendered opaque.\n",
      "The PostScript backend does not support transparency; partially transparent artists will be rendered opaque.\n",
      "The PostScript backend does not support transparency; partially transparent artists will be rendered opaque.\n",
      "The PostScript backend does not support transparency; partially transparent artists will be rendered opaque.\n"
     ]
    },
    {
     "data": {
      "image/png": "[encoded data removed]",
      "text/plain": [
       "<Figure size 576x576 with 1 Axes>"
      ]
     },
     "metadata": {},
     "output_type": "display_data"
    }
   ],
   "source": [
    "create_pie([34.4, 28.9,31.1, 5.6], 'survey_code_2020_2')"
   ]
  },
  {
   "cell_type": "markdown",
   "metadata": {},
   "source": [
    "## Alunos\n",
    "### Pergunta: A interface do dashboard me ajudou a organizar o tempo de estudo"
   ]
  },
  {
   "cell_type": "code",
   "execution_count": 140,
   "metadata": {},
   "outputs": [
    {
     "data": {
      "text/plain": [
       "array([0.27819549, 0.18796992, 0.31954887, 0.11654135, 0.09774436])"
      ]
     },
     "execution_count": 140,
     "metadata": {},
     "output_type": "execute_result"
    }
   ],
   "source": [
    "alunos_2020_1 = np.array([46, 32, 61, 19, 19])\n",
    "alunos_2020_2 = np.array([28, 18, 24, 12, 7])\n",
    "\n",
    "alunos_total_norm, alunos_total = get_total_normalized(alunos_2020_1, alunos_2020_2)\n",
    "alunos_total_norm"
   ]
  },
  {
   "cell_type": "code",
   "execution_count": 141,
   "metadata": {},
   "outputs": [
    {
     "data": {
      "text/plain": [
       "266"
      ]
     },
     "execution_count": 141,
     "metadata": {},
     "output_type": "execute_result"
    }
   ],
   "source": [
    "alunos_total"
   ]
  },
  {
   "cell_type": "markdown",
   "metadata": {},
   "source": [
    "## Professores\n",
    "\n",
    "### Pergunta: O uso do sistema me ajudou a ter uma visão melhor do esforço e/ou tempo que os alunos gastam para fazer os exercícios"
   ]
  },
  {
   "cell_type": "code",
   "execution_count": 142,
   "metadata": {},
   "outputs": [
    {
     "data": {
      "text/plain": [
       "array([0. , 0.2, 0.3, 0.4, 0.1])"
      ]
     },
     "execution_count": 142,
     "metadata": {},
     "output_type": "execute_result"
    }
   ],
   "source": [
    "professores_2020_1 = np.array([0, 1, 2, 2, 1])\n",
    "professores_2020_2 = np.array([0, 1, 1, 2, 0])\n",
    "\n",
    "professores_total_norm, professores_total = get_total_normalized(professores_2020_1, professores_2020_2)\n",
    "professores_total_norm"
   ]
  },
  {
   "cell_type": "code",
   "execution_count": 143,
   "metadata": {},
   "outputs": [
    {
     "data": {
      "text/html": [
       "<div>\n",
       "<style scoped>\n",
       "    .dataframe tbody tr th:only-of-type {\n",
       "        vertical-align: middle;\n",
       "    }\n",
       "\n",
       "    .dataframe tbody tr th {\n",
       "        vertical-align: top;\n",
       "    }\n",
       "\n",
       "    .dataframe thead th {\n",
       "        text-align: right;\n",
       "    }\n",
       "</style>\n",
       "<table border=\"1\" class=\"dataframe\">\n",
       "  <thead>\n",
       "    <tr style=\"text-align: right;\">\n",
       "      <th></th>\n",
       "      <th>Id</th>\n",
       "      <th>Target</th>\n",
       "      <th>Percentage</th>\n",
       "      <th>Perception</th>\n",
       "    </tr>\n",
       "  </thead>\n",
       "  <tbody>\n",
       "    <tr>\n",
       "      <th>0</th>\n",
       "      <td>1</td>\n",
       "      <td>Aluno</td>\n",
       "      <td>0.47</td>\n",
       "      <td>Disagree</td>\n",
       "    </tr>\n",
       "    <tr>\n",
       "      <th>1</th>\n",
       "      <td>2</td>\n",
       "      <td>Aluno</td>\n",
       "      <td>0.32</td>\n",
       "      <td>Neutral</td>\n",
       "    </tr>\n",
       "    <tr>\n",
       "      <th>2</th>\n",
       "      <td>3</td>\n",
       "      <td>Aluno</td>\n",
       "      <td>0.21</td>\n",
       "      <td>Agree</td>\n",
       "    </tr>\n",
       "    <tr>\n",
       "      <th>0</th>\n",
       "      <td>1</td>\n",
       "      <td>Professor</td>\n",
       "      <td>0.20</td>\n",
       "      <td>Disagree</td>\n",
       "    </tr>\n",
       "    <tr>\n",
       "      <th>1</th>\n",
       "      <td>2</td>\n",
       "      <td>Professor</td>\n",
       "      <td>0.30</td>\n",
       "      <td>Neutral</td>\n",
       "    </tr>\n",
       "    <tr>\n",
       "      <th>2</th>\n",
       "      <td>3</td>\n",
       "      <td>Professor</td>\n",
       "      <td>0.50</td>\n",
       "      <td>Agree</td>\n",
       "    </tr>\n",
       "  </tbody>\n",
       "</table>\n",
       "</div>"
      ],
      "text/plain": [
       "   Id     Target  Percentage Perception\n",
       "0   1      Aluno        0.47   Disagree\n",
       "1   2      Aluno        0.32    Neutral\n",
       "2   3      Aluno        0.21      Agree\n",
       "0   1  Professor        0.20   Disagree\n",
       "1   2  Professor        0.30    Neutral\n",
       "2   3  Professor        0.50      Agree"
      ]
     },
     "execution_count": 143,
     "metadata": {},
     "output_type": "execute_result"
    }
   ],
   "source": [
    "df = create_dataframe([alunos_total_norm, professores_total_norm], [\"Aluno\", \"Professor\"])\n",
    "df"
   ]
  },
  {
   "cell_type": "code",
   "execution_count": 144,
   "metadata": {},
   "outputs": [
    {
     "name": "stderr",
     "output_type": "stream",
     "text": [
      "R[write to console]: Error in ggsave(file = fig_name, width = 8, height = height, dpi = 300) : \n",
      "  argument \"fig_name\" is missing, with no default\n",
      "\n"
     ]
    },
    {
     "name": "stdout",
     "output_type": "stream",
     "text": [
      "\n",
      "Error in ggsave(file = fig_name, width = 8, height = height, dpi = 300) : \n",
      "  argument \"fig_name\" is missing, with no default\n"
     ]
    }
   ],
   "source": [
    "%%R -i df\n",
    "plot_likert(df, \"percepcao_alunos_e_prof_tempo.png\")"
   ]
  },
  {
   "cell_type": "markdown",
   "metadata": {},
   "source": [
    "## Alunos\n",
    "### Pergunta: A indicação dos principais erros no dashboard me ajudou a direcionar o estudo"
   ]
  },
  {
   "cell_type": "code",
   "execution_count": 199,
   "metadata": {},
   "outputs": [
    {
     "data": {
      "text/plain": [
       "array([0.18726592, 0.11985019, 0.27340824, 0.2247191 , 0.19475655])"
      ]
     },
     "execution_count": 199,
     "metadata": {},
     "output_type": "execute_result"
    }
   ],
   "source": [
    "alunos_2020_1 = np.array([32, 19, 47, 39, 40])\n",
    "alunos_2020_2 = np.array([18, 13, 26, 21, 12])\n",
    "\n",
    "alunos_total_norm, alunos_total = get_total_normalized(alunos_2020_1, alunos_2020_2)\n",
    "alunos_total_norm"
   ]
  },
  {
   "cell_type": "code",
   "execution_count": 179,
   "metadata": {},
   "outputs": [
    {
     "data": {
      "text/plain": [
       "267"
      ]
     },
     "execution_count": 179,
     "metadata": {},
     "output_type": "execute_result"
    }
   ],
   "source": [
    "alunos_total"
   ]
  },
  {
   "cell_type": "markdown",
   "metadata": {},
   "source": [
    "## Professores\n",
    "\n",
    "### Pergunta: O uso do sistema me ajudou a identificar conteúdos que são mais difíceis para os alunos"
   ]
  },
  {
   "cell_type": "code",
   "execution_count": 180,
   "metadata": {},
   "outputs": [
    {
     "data": {
      "text/plain": [
       "array([0. , 0.2, 0.4, 0.3, 0.1])"
      ]
     },
     "execution_count": 180,
     "metadata": {},
     "output_type": "execute_result"
    }
   ],
   "source": [
    "professores_2020_1 = np.array([0, 2, 3, 1, 0])\n",
    "professores_2020_2 = np.array([0, 0, 1, 2, 1])\n",
    "\n",
    "professores_total_norm, professores_total = get_total_normalized(professores_2020_1, professores_2020_2)\n",
    "professores_total_norm"
   ]
  },
  {
   "cell_type": "code",
   "execution_count": 181,
   "metadata": {},
   "outputs": [
    {
     "data": {
      "text/plain": [
       "10"
      ]
     },
     "execution_count": 181,
     "metadata": {},
     "output_type": "execute_result"
    }
   ],
   "source": [
    "professores_total"
   ]
  },
  {
   "cell_type": "code",
   "execution_count": 182,
   "metadata": {},
   "outputs": [
    {
     "data": {
      "text/html": [
       "<div>\n",
       "<style scoped>\n",
       "    .dataframe tbody tr th:only-of-type {\n",
       "        vertical-align: middle;\n",
       "    }\n",
       "\n",
       "    .dataframe tbody tr th {\n",
       "        vertical-align: top;\n",
       "    }\n",
       "\n",
       "    .dataframe thead th {\n",
       "        text-align: right;\n",
       "    }\n",
       "</style>\n",
       "<table border=\"1\" class=\"dataframe\">\n",
       "  <thead>\n",
       "    <tr style=\"text-align: right;\">\n",
       "      <th></th>\n",
       "      <th>Id</th>\n",
       "      <th>Público</th>\n",
       "      <th>Porcentagem</th>\n",
       "      <th>Percepção</th>\n",
       "    </tr>\n",
       "  </thead>\n",
       "  <tbody>\n",
       "    <tr>\n",
       "      <th>0</th>\n",
       "      <td>1</td>\n",
       "      <td>Aluno</td>\n",
       "      <td>0.31</td>\n",
       "      <td>Discordam</td>\n",
       "    </tr>\n",
       "    <tr>\n",
       "      <th>1</th>\n",
       "      <td>2</td>\n",
       "      <td>Aluno</td>\n",
       "      <td>0.27</td>\n",
       "      <td>Neutro</td>\n",
       "    </tr>\n",
       "    <tr>\n",
       "      <th>2</th>\n",
       "      <td>3</td>\n",
       "      <td>Aluno</td>\n",
       "      <td>0.42</td>\n",
       "      <td>Concordam</td>\n",
       "    </tr>\n",
       "    <tr>\n",
       "      <th>0</th>\n",
       "      <td>1</td>\n",
       "      <td>Professor</td>\n",
       "      <td>0.20</td>\n",
       "      <td>Discordam</td>\n",
       "    </tr>\n",
       "    <tr>\n",
       "      <th>1</th>\n",
       "      <td>2</td>\n",
       "      <td>Professor</td>\n",
       "      <td>0.40</td>\n",
       "      <td>Neutro</td>\n",
       "    </tr>\n",
       "    <tr>\n",
       "      <th>2</th>\n",
       "      <td>3</td>\n",
       "      <td>Professor</td>\n",
       "      <td>0.40</td>\n",
       "      <td>Concordam</td>\n",
       "    </tr>\n",
       "  </tbody>\n",
       "</table>\n",
       "</div>"
      ],
      "text/plain": [
       "   Id    Público  Porcentagem  Percepção\n",
       "0   1      Aluno         0.31  Discordam\n",
       "1   2      Aluno         0.27     Neutro\n",
       "2   3      Aluno         0.42  Concordam\n",
       "0   1  Professor         0.20  Discordam\n",
       "1   2  Professor         0.40     Neutro\n",
       "2   3  Professor         0.40  Concordam"
      ]
     },
     "execution_count": 182,
     "metadata": {},
     "output_type": "execute_result"
    }
   ],
   "source": [
    "df = create_dataframe([alunos_total_norm, professores_total_norm], [\"Aluno\", \"Professor\"])\n",
    "df"
   ]
  },
  {
   "cell_type": "code",
   "execution_count": 184,
   "metadata": {},
   "outputs": [
    {
     "data": {
      "image/png": "[encoded data removed]"
     },
     "metadata": {},
     "output_type": "display_data"
    }
   ],
   "source": [
    "%%R -i df\n",
    "plot_likert(df, \"percepcao_alunos_e_prof_conteudo.png\")"
   ]
  },
  {
   "cell_type": "code",
   "execution_count": 185,
   "metadata": {},
   "outputs": [],
   "source": [
    "professores_2020_1_norm, professores_2020_1_norm_total = get_total_normalized(professores_2020_1, np.zeros(5))\n",
    "professores_2020_2_norm, professores_2020_2_norm_total = get_total_normalized(professores_2020_2, np.zeros(5))"
   ]
  },
  {
   "cell_type": "code",
   "execution_count": 186,
   "metadata": {},
   "outputs": [
    {
     "data": {
      "text/plain": [
       "array([0.        , 0.33333333, 0.5       , 0.16666667, 0.        ])"
      ]
     },
     "execution_count": 186,
     "metadata": {},
     "output_type": "execute_result"
    }
   ],
   "source": [
    "professores_2020_1_norm"
   ]
  },
  {
   "cell_type": "code",
   "execution_count": 187,
   "metadata": {},
   "outputs": [
    {
     "data": {
      "text/plain": [
       "array([0.  , 0.  , 0.25, 0.5 , 0.25])"
      ]
     },
     "execution_count": 187,
     "metadata": {},
     "output_type": "execute_result"
    }
   ],
   "source": [
    "professores_2020_2_norm"
   ]
  },
  {
   "cell_type": "code",
   "execution_count": 188,
   "metadata": {},
   "outputs": [
    {
     "data": {
      "text/html": [
       "<div>\n",
       "<style scoped>\n",
       "    .dataframe tbody tr th:only-of-type {\n",
       "        vertical-align: middle;\n",
       "    }\n",
       "\n",
       "    .dataframe tbody tr th {\n",
       "        vertical-align: top;\n",
       "    }\n",
       "\n",
       "    .dataframe thead th {\n",
       "        text-align: right;\n",
       "    }\n",
       "</style>\n",
       "<table border=\"1\" class=\"dataframe\">\n",
       "  <thead>\n",
       "    <tr style=\"text-align: right;\">\n",
       "      <th></th>\n",
       "      <th>Id</th>\n",
       "      <th>Público</th>\n",
       "      <th>Porcentagem</th>\n",
       "      <th>Percepção</th>\n",
       "    </tr>\n",
       "  </thead>\n",
       "  <tbody>\n",
       "    <tr>\n",
       "      <th>0</th>\n",
       "      <td>1</td>\n",
       "      <td>Aluno</td>\n",
       "      <td>0.31</td>\n",
       "      <td>Discordam</td>\n",
       "    </tr>\n",
       "    <tr>\n",
       "      <th>1</th>\n",
       "      <td>2</td>\n",
       "      <td>Aluno</td>\n",
       "      <td>0.27</td>\n",
       "      <td>Neutro</td>\n",
       "    </tr>\n",
       "    <tr>\n",
       "      <th>2</th>\n",
       "      <td>3</td>\n",
       "      <td>Aluno</td>\n",
       "      <td>0.42</td>\n",
       "      <td>Concordam</td>\n",
       "    </tr>\n",
       "    <tr>\n",
       "      <th>0</th>\n",
       "      <td>1</td>\n",
       "      <td>Professor 2020/1</td>\n",
       "      <td>0.33</td>\n",
       "      <td>Discordam</td>\n",
       "    </tr>\n",
       "    <tr>\n",
       "      <th>1</th>\n",
       "      <td>2</td>\n",
       "      <td>Professor 2020/1</td>\n",
       "      <td>0.50</td>\n",
       "      <td>Neutro</td>\n",
       "    </tr>\n",
       "    <tr>\n",
       "      <th>2</th>\n",
       "      <td>3</td>\n",
       "      <td>Professor 2020/1</td>\n",
       "      <td>0.17</td>\n",
       "      <td>Concordam</td>\n",
       "    </tr>\n",
       "    <tr>\n",
       "      <th>0</th>\n",
       "      <td>1</td>\n",
       "      <td>Professor 2020/2</td>\n",
       "      <td>NaN</td>\n",
       "      <td>Discordam</td>\n",
       "    </tr>\n",
       "    <tr>\n",
       "      <th>1</th>\n",
       "      <td>2</td>\n",
       "      <td>Professor 2020/2</td>\n",
       "      <td>0.25</td>\n",
       "      <td>Neutro</td>\n",
       "    </tr>\n",
       "    <tr>\n",
       "      <th>2</th>\n",
       "      <td>3</td>\n",
       "      <td>Professor 2020/2</td>\n",
       "      <td>0.75</td>\n",
       "      <td>Concordam</td>\n",
       "    </tr>\n",
       "  </tbody>\n",
       "</table>\n",
       "</div>"
      ],
      "text/plain": [
       "   Id           Público  Porcentagem  Percepção\n",
       "0   1             Aluno         0.31  Discordam\n",
       "1   2             Aluno         0.27     Neutro\n",
       "2   3             Aluno         0.42  Concordam\n",
       "0   1  Professor 2020/1         0.33  Discordam\n",
       "1   2  Professor 2020/1         0.50     Neutro\n",
       "2   3  Professor 2020/1         0.17  Concordam\n",
       "0   1  Professor 2020/2          NaN  Discordam\n",
       "1   2  Professor 2020/2         0.25     Neutro\n",
       "2   3  Professor 2020/2         0.75  Concordam"
      ]
     },
     "execution_count": 188,
     "metadata": {},
     "output_type": "execute_result"
    }
   ],
   "source": [
    "df = create_dataframe([alunos_total_norm, professores_2020_1_norm, professores_2020_2_norm], [\"Aluno\", \n",
    "                                                                                              \"Professor 2020/1\",\n",
    "                                                                                              \"Professor 2020/2\"])\n",
    "df.replace(0, np.nan, inplace=True)\n",
    "df"
   ]
  },
  {
   "cell_type": "code",
   "execution_count": 189,
   "metadata": {},
   "outputs": [
    {
     "data": {
      "image/png": "[encoded data removed]"
     },
     "metadata": {},
     "output_type": "display_data"
    }
   ],
   "source": [
    "%%R -i df\n",
    "plot_likert(df, \"percepcao_alunos_e_prof_conteudo2.png\", height=1.6)"
   ]
  },
  {
   "cell_type": "markdown",
   "metadata": {},
   "source": [
    "## Professores\n",
    "\n",
    "### Pergunta: O uso do sistema me motivou a ajustar o plano de aula ou as atividades didáticas"
   ]
  },
  {
   "cell_type": "code",
   "execution_count": 190,
   "metadata": {},
   "outputs": [
    {
     "data": {
      "text/plain": [
       "array([0.1, 0.1, 0.6, 0.2, 0. ])"
      ]
     },
     "execution_count": 190,
     "metadata": {},
     "output_type": "execute_result"
    }
   ],
   "source": [
    "professores_2020_1 = np.array([0, 1, 4, 1, 0])\n",
    "professores_2020_2 = np.array([1, 0, 2, 1, 0])\n",
    "\n",
    "professores_total_norm, professores_total = get_total_normalized(professores_2020_1, professores_2020_2)\n",
    "professores_total_norm"
   ]
  },
  {
   "cell_type": "code",
   "execution_count": 192,
   "metadata": {},
   "outputs": [
    {
     "data": {
      "text/html": [
       "<div>\n",
       "<style scoped>\n",
       "    .dataframe tbody tr th:only-of-type {\n",
       "        vertical-align: middle;\n",
       "    }\n",
       "\n",
       "    .dataframe tbody tr th {\n",
       "        vertical-align: top;\n",
       "    }\n",
       "\n",
       "    .dataframe thead th {\n",
       "        text-align: right;\n",
       "    }\n",
       "</style>\n",
       "<table border=\"1\" class=\"dataframe\">\n",
       "  <thead>\n",
       "    <tr style=\"text-align: right;\">\n",
       "      <th></th>\n",
       "      <th>Id</th>\n",
       "      <th>Público</th>\n",
       "      <th>Porcentagem</th>\n",
       "      <th>Percepção</th>\n",
       "    </tr>\n",
       "  </thead>\n",
       "  <tbody>\n",
       "    <tr>\n",
       "      <th>0</th>\n",
       "      <td>1</td>\n",
       "      <td>Aluno</td>\n",
       "      <td>0.31</td>\n",
       "      <td>Discordam</td>\n",
       "    </tr>\n",
       "    <tr>\n",
       "      <th>1</th>\n",
       "      <td>2</td>\n",
       "      <td>Aluno</td>\n",
       "      <td>0.27</td>\n",
       "      <td>Neutro</td>\n",
       "    </tr>\n",
       "    <tr>\n",
       "      <th>2</th>\n",
       "      <td>3</td>\n",
       "      <td>Aluno</td>\n",
       "      <td>0.42</td>\n",
       "      <td>Concordam</td>\n",
       "    </tr>\n",
       "    <tr>\n",
       "      <th>0</th>\n",
       "      <td>1</td>\n",
       "      <td>Professor</td>\n",
       "      <td>0.20</td>\n",
       "      <td>Discordam</td>\n",
       "    </tr>\n",
       "    <tr>\n",
       "      <th>1</th>\n",
       "      <td>2</td>\n",
       "      <td>Professor</td>\n",
       "      <td>0.60</td>\n",
       "      <td>Neutro</td>\n",
       "    </tr>\n",
       "    <tr>\n",
       "      <th>2</th>\n",
       "      <td>3</td>\n",
       "      <td>Professor</td>\n",
       "      <td>0.20</td>\n",
       "      <td>Concordam</td>\n",
       "    </tr>\n",
       "  </tbody>\n",
       "</table>\n",
       "</div>"
      ],
      "text/plain": [
       "   Id    Público  Porcentagem  Percepção\n",
       "0   1      Aluno         0.31  Discordam\n",
       "1   2      Aluno         0.27     Neutro\n",
       "2   3      Aluno         0.42  Concordam\n",
       "0   1  Professor         0.20  Discordam\n",
       "1   2  Professor         0.60     Neutro\n",
       "2   3  Professor         0.20  Concordam"
      ]
     },
     "execution_count": 192,
     "metadata": {},
     "output_type": "execute_result"
    }
   ],
   "source": [
    "df = create_dataframe([alunos_total_norm, professores_total_norm], [\"Aluno\", \"Professor\"])\n",
    "df"
   ]
  },
  {
   "cell_type": "code",
   "execution_count": 193,
   "metadata": {},
   "outputs": [
    {
     "data": {
      "image/png": "[encoded data removed]"
     },
     "metadata": {},
     "output_type": "display_data"
    }
   ],
   "source": [
    "%%R -i df\n",
    "plot_likert(df, \"percepcao_alunos_e_prof_plano_de_aula.png\")"
   ]
  },
  {
   "cell_type": "markdown",
   "metadata": {},
   "source": [
    "### Total de Alunos"
   ]
  },
  {
   "cell_type": "code",
   "execution_count": 8,
   "metadata": {},
   "outputs": [
    {
     "data": {
      "text/plain": [
       "30"
      ]
     },
     "execution_count": 8,
     "metadata": {},
     "output_type": "execute_result"
    }
   ],
   "source": [
    "professores = Professor.objects.filter(assistant=False).values_list('user')\n",
    "professores.count()"
   ]
  },
  {
   "cell_type": "code",
   "execution_count": 10,
   "metadata": {},
   "outputs": [
    {
     "data": {
      "text/plain": [
       "1609"
      ]
     },
     "execution_count": 10,
     "metadata": {},
     "output_type": "execute_result"
    }
   ],
   "source": [
    "users = UserProfile.objects.exclude(user__in=professores)\n",
    "users.count()"
   ]
  },
  {
   "cell_type": "code",
   "execution_count": 19,
   "metadata": {},
   "outputs": [
    {
     "data": {
      "text/plain": [
       "datetime.datetime(2018, 10, 22, 22, 19, 8, 483432, tzinfo=<UTC>)"
      ]
     },
     "execution_count": 19,
     "metadata": {},
     "output_type": "execute_result"
    }
   ],
   "source": [
    "users.order_by('user__date_joined')[4].user.date_joined"
   ]
  },
  {
   "cell_type": "code",
   "execution_count": 20,
   "metadata": {},
   "outputs": [
    {
     "data": {
      "text/plain": [
       "284420"
      ]
     },
     "execution_count": 20,
     "metadata": {},
     "output_type": "execute_result"
    }
   ],
   "source": [
    "UserLog.objects.count()"
   ]
  }
 ],
 "metadata": {
  "kernelspec": {
   "display_name": "Django Shell-Plus",
   "language": "python",
   "name": "django_extensions"
  },
  "language_info": {
   "codemirror_mode": {
    "name": "ipython",
    "version": 3
   },
   "file_extension": ".py",
   "mimetype": "text/x-python",
   "name": "python",
   "nbconvert_exporter": "python",
   "pygments_lexer": "ipython3",
   "version": "3.6.10"
  }
 },
 "nbformat": 4,
 "nbformat_minor": 4
}
