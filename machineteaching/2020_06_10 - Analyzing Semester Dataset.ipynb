{
 "cells": [
  {
   "cell_type": "code",
   "execution_count": 1,
   "metadata": {},
   "outputs": [],
   "source": [
    "# Helpers\n",
    "from collections import Counter, defaultdict\n",
    "import numpy as np\n",
    "from itertools import chain\n",
    "import pickle\n",
    "\n",
    "#DB\n",
    "from django.db.models import Case, IntegerField, Value\n",
    "\n",
    "# Plot\n",
    "import matplotlib.pyplot as plt\n",
    "import seaborn as sns"
   ]
  },
  {
   "cell_type": "code",
   "execution_count": 2,
   "metadata": {},
   "outputs": [],
   "source": [
    "folder = \"data/comp1_2019_2/\""
   ]
  },
  {
   "cell_type": "markdown",
   "metadata": {},
   "source": [
    "### Creating train and test sets\n",
    "We have Q-Matrix for the first 54 solutions that were validated by the professors. So, we can only use that students that replied to these problems in the dataset.\n",
    "\n",
    "#### Descriptive statistics"
   ]
  },
  {
   "cell_type": "code",
   "execution_count": 5,
   "metadata": {},
   "outputs": [
    {
     "name": "stdout",
     "output_type": "stream",
     "text": [
      "Total number of questions: 65\n",
      "Total number of solutions: 65\n"
     ]
    }
   ],
   "source": [
    "# Filter used problems and solutions\n",
    "problems = Problem.objects.exclude(chapter=None)\n",
    "solutions = Solution.objects.filter(problem__in=problems, ignore=False).values_list('problem', flat=True)\n",
    "problems = solutions.order_by('problem').values_list(\n",
    "    'problem', flat=True).distinct('problem')\n",
    "print(\"Total number of questions: %d\" % problems.count())\n",
    "print(\"Total number of solutions: %d\" % solutions.count())\n",
    "\n",
    "# print(\"%d problems with 1 solution\" % Counter(Counter(solutions).values())[1])\n",
    "# print(\"%d problems with 2 solutions\" % Counter(Counter(solutions).values())[2])"
   ]
  },
  {
   "cell_type": "markdown",
   "metadata": {},
   "source": [
    "### Build Q-Matrix\n",
    "Total number of weeks: 8 (missed the two first weeks)\n",
    "\n",
    "Total number of problems: 65"
   ]
  },
  {
   "cell_type": "code",
   "execution_count": 32,
   "metadata": {},
   "outputs": [],
   "source": [
    "weeks_idx = list(problems.values_list('problem__chapter', flat=True\n",
    "                                     ).distinct().order_by('problem__chapter__pk'))\n",
    "questions_idx = list(problems)\n",
    "q_matrix = np.zeros((len(weeks_idx), len(questions_idx)))\n",
    "\n",
    "q_matrix_flat = Solution.objects.filter(problem__in=problems, ignore=False\n",
    "                                       ).values_list('problem__pk', 'problem__chapter__pk')\n",
    "\n",
    "for question_id, chapter_id in q_matrix_flat:\n",
    "    q_matrix[ weeks_idx.index(chapter_id), questions_idx.index(question_id)]"
   ]
  },
  {
   "cell_type": "code",
   "execution_count": 33,
   "metadata": {},
   "outputs": [],
   "source": [
    "with open(\"%s/q_matrix.pkl\" % folder, \"wb\") as pklfile:\n",
    "    pickle.dump(q_matrix, pklfile)"
   ]
  },
  {
   "cell_type": "markdown",
   "metadata": {},
   "source": [
    "### Create train and test sets"
   ]
  },
  {
   "cell_type": "code",
   "execution_count": 34,
   "metadata": {},
   "outputs": [],
   "source": [
    "# Get all students\n",
    "user_blacklist = UserProfile.objects.filter(professor__user__username='sem_professor')\n",
    "\n",
    "attempts = UserLog.objects.exclude(outcome='S').filter(\n",
    "    timestamp__lt=OuterRef('timestamp'), user__id=OuterRef('user__id')).annotate(\n",
    "    attempt=Count('*')).values('attempt')\n",
    "\n",
    "# Remove group by values\n",
    "attempts.query.set_group_by()\n",
    "\n",
    "# Get users\n",
    "users = UserLog.objects.filter(problem__in=problems).exclude(outcome='S').exclude(\n",
    "    user__userprofile__in=user_blacklist).annotate(\n",
    "    attempt=Subquery(attempts, output_field=IntegerField())).annotate(\n",
    "    score=Case(\n",
    "        When(outcome='F', then=Value(0.1)),\n",
    "        When(outcome='P', then=Value(1)),\n",
    "        output_field=IntegerField())).values_list(\n",
    "    \"user__id\", \"problem_id\", \"attempt\", \"score\"#\"outcome\", \"timestamp\"\n",
    ").order_by(\"timestamp\").filter(attempt=1).values_list('user_id', flat=True)\n",
    "\n",
    "data = UserLog.objects.filter(problem__in=problems).exclude(outcome='S').annotate(\n",
    "    attempt=Subquery(attempts, output_field=IntegerField())).annotate(\n",
    "    score=Case(\n",
    "        When(outcome='F', then=Value(0)),\n",
    "        When(outcome='P', then=Value(1)),\n",
    "        output_field=IntegerField())).values_list(\n",
    "    \"user__id\", \"problem_id\", \"attempt\", \"score\", #\"outcome\", #\"timestamp\"\n",
    ").order_by(\"timestamp\").filter(user__in=users)"
   ]
  },
  {
   "cell_type": "markdown",
   "metadata": {},
   "source": [
    "Attempts statistics"
   ]
  },
  {
   "cell_type": "code",
   "execution_count": 35,
   "metadata": {},
   "outputs": [
    {
     "name": "stdout",
     "output_type": "stream",
     "text": [
      "Total of 27491 attempts\n",
      "Total of 181 students\n",
      "Average of attempt per student: 151.88\n",
      "Success attempts: 6849 (24.91%)\n",
      "Failed attempts: 20642 (75.09%)\n"
     ]
    }
   ],
   "source": [
    "%%time\n",
    "attempts_total = data.count()\n",
    "users_total = users.count()\n",
    "success_attempts = data.filter(score=1)\n",
    "fail_attempts = data.filter(score=0)\n",
    "\n",
    "print(\"Total of %d attempts\" % attempts_total)\n",
    "print(\"Total of %d students\" % users_total)\n",
    "print(\"Average of attempt per student: %.2f\" % (attempts_total/users_total))\n",
    "print(\"Success attempts: %d (%.2f%%)\" % (success_attempts.count(),100*success_attempts.count()/attempts_total))\n",
    "print(\"Failed attempts: %d (%.2f%%)\" % (fail_attempts.count(), 100*fail_attempts.count()/attempts_total))"
   ]
  },
  {
   "cell_type": "code",
   "execution_count": 99,
   "metadata": {},
   "outputs": [],
   "source": [
    "def print_stats(title, values):\n",
    "    op = {\n",
    "        \"3. Min: %d\": min,\n",
    "        \"4. Max: %d\": max,\n",
    "        \"1. Avg: %.2f:\": np.mean,\n",
    "        \"2. Median: %d\": np.median\n",
    "    }\n",
    "    \n",
    "    stats = title + \"\\n\"\n",
    "    results = []\n",
    "    for key, value in op.items():\n",
    "        results.append(key % value(list(values)))\n",
    "        \n",
    "    results.sort()\n",
    "    stats += \"\\n\".join(results) + \"\\n\"\n",
    "    return stats"
   ]
  },
  {
   "cell_type": "code",
   "execution_count": 94,
   "metadata": {
    "scrolled": false
   },
   "outputs": [
    {
     "name": "stdout",
     "output_type": "stream",
     "text": [
      "Attempts x Question\n",
      "1. Avg: 422.94:\n",
      "2. Median: 349.00\n",
      "3. Min: 85\n",
      "4. Max: 1291\n",
      "\n",
      "Attempts x Student\n",
      "1. Avg: 151.88:\n",
      "2. Median: 114.00\n",
      "3. Min: 2\n",
      "4. Max: 1002\n",
      "\n",
      "Student x Question\n",
      "1. Avg: 87.22:\n",
      "2. Median: 87.00\n",
      "3. Min: 39\n",
      "4. Max: 145\n",
      "\n",
      "Question x Student\n",
      "1. Avg: 31.32:\n",
      "2. Median: 31.00\n",
      "3. Min: 1\n",
      "4. Max: 65\n",
      "\n"
     ]
    },
    {
     "data": {
      "image/png": "[encoded data removed]",
      "text/plain": [
       "<Figure size 432x288 with 1 Axes>"
      ]
     },
     "metadata": {
      "needs_background": "light"
     },
     "output_type": "display_data"
    },
    {
     "data": {
      "image/png": "[encoded data removed]",
      "text/plain": [
       "<Figure size 432x288 with 1 Axes>"
      ]
     },
     "metadata": {
      "needs_background": "light"
     },
     "output_type": "display_data"
    },
    {
     "name": "stderr",
     "output_type": "stream",
     "text": [
      "The PostScript backend does not support transparency; partially transparent artists will be rendered opaque.\n",
      "The PostScript backend does not support transparency; partially transparent artists will be rendered opaque.\n",
      "The PostScript backend does not support transparency; partially transparent artists will be rendered opaque.\n",
      "The PostScript backend does not support transparency; partially transparent artists will be rendered opaque.\n",
      "The PostScript backend does not support transparency; partially transparent artists will be rendered opaque.\n",
      "The PostScript backend does not support transparency; partially transparent artists will be rendered opaque.\n",
      "The PostScript backend does not support transparency; partially transparent artists will be rendered opaque.\n",
      "The PostScript backend does not support transparency; partially transparent artists will be rendered opaque.\n",
      "The PostScript backend does not support transparency; partially transparent artists will be rendered opaque.\n",
      "The PostScript backend does not support transparency; partially transparent artists will be rendered opaque.\n",
      "The PostScript backend does not support transparency; partially transparent artists will be rendered opaque.\n",
      "The PostScript backend does not support transparency; partially transparent artists will be rendered opaque.\n",
      "The PostScript backend does not support transparency; partially transparent artists will be rendered opaque.\n",
      "The PostScript backend does not support transparency; partially transparent artists will be rendered opaque.\n",
      "The PostScript backend does not support transparency; partially transparent artists will be rendered opaque.\n",
      "The PostScript backend does not support transparency; partially transparent artists will be rendered opaque.\n"
     ]
    },
    {
     "data": {
      "image/png": "[encoded data removed]",
      "text/plain": [
       "<Figure size 432x288 with 1 Axes>"
      ]
     },
     "metadata": {
      "needs_background": "light"
     },
     "output_type": "display_data"
    },
    {
     "data": {
      "image/png": "[encoded data removed]",
      "text/plain": [
       "<Figure size 432x288 with 1 Axes>"
      ]
     },
     "metadata": {
      "needs_background": "light"
     },
     "output_type": "display_data"
    },
    {
     "data": {
      "image/png": "[encoded data removed]",
      "text/plain": [
       "<Figure size 432x288 with 1 Axes>"
      ]
     },
     "metadata": {
      "needs_background": "light"
     },
     "output_type": "display_data"
    },
    {
     "name": "stdout",
     "output_type": "stream",
     "text": [
      "CPU times: user 1.88 s, sys: 39.7 ms, total: 1.92 s\n",
      "Wall time: 1.91 s\n"
     ]
    },
    {
     "data": {
      "text/plain": [
       "(array([64., 60., 57.]), array([ 0, 22, 44, 66]), <a list of 3 Patch objects>)"
      ]
     },
     "execution_count": 94,
     "metadata": {},
     "output_type": "execute_result"
    }
   ],
   "source": [
    "%%time\n",
    "attempts_per_question = defaultdict(int)\n",
    "attempts_per_student = defaultdict(int)\n",
    "questions_per_student = defaultdict(set)\n",
    "students_per_question = defaultdict(set)\n",
    "total_questions_per_student = defaultdict(int)\n",
    "total_students_per_question = defaultdict(int)\n",
    "\n",
    "for row in data:\n",
    "    s_idx, q_idx, a_idx, outcome = row\n",
    "    attempts_per_question[q_idx] += 1\n",
    "    attempts_per_student[s_idx] += 1\n",
    "    questions_per_student[s_idx].add(q_idx)\n",
    "    students_per_question[q_idx].add(s_idx)\n",
    "    total_questions_per_student[s_idx] = len(set(questions_per_student[s_idx]))\n",
    "    total_students_per_question[q_idx] = len(set(students_per_question[q_idx]))\n",
    "\n",
    "# Attempts x question\n",
    "print(print_stats(\"Attempts x Question\", attempts_per_question.values()))\n",
    "\n",
    "# Attempts x student\n",
    "print(print_stats(\"Attempts x Student\", attempts_per_student.values()))\n",
    "\n",
    "# Question x student\n",
    "print(print_stats(\"Student x Question\", total_students_per_question.values()))\n",
    "\n",
    "# Student x question\n",
    "print(print_stats(\"Question x Student\", total_questions_per_student.values()))\n",
    "\n",
    "# f, subs = plt.subplots(1, 2, figsize=(12,4))\n",
    "fig = plt.figure(figsize=(6,4))\n",
    "# bins_question = subs[0].hist(attempts_per_question.values(), bins=list(range(0,160, 20)))\n",
    "# subs[0].set_title(\"Quantity of problems per number of attempts (limited at 160)\")\n",
    "# subs[0].set_xlabel(\"Number of attempts\")\n",
    "# subs[0].set_ylabel(\"Quantity of problems\")\n",
    "plt.hist(attempts_per_question.values())#, bins=list(range(0,160, 20)))\n",
    "plt.title(\"Quantity of problems per number of attempts (limited at 160)\")\n",
    "plt.xlabel(\"Number of attempts\")\n",
    "plt.ylabel(\"Quantity of problems\")\n",
    "plt.savefig('edm2020/semester_attempts_problems.eps', format='eps')\n",
    "plt.savefig('edm2020/semester_attempts_problems.png', format='png')\n",
    "plt.show()\n",
    "\n",
    "fig = plt.figure(figsize=(6,4))\n",
    "plt.hist(attempts_per_student.values())#, bins=list(range(0,60,5)))\n",
    "plt.title(\"Quantity of students per number of attempts (limited at 60)\")\n",
    "plt.xlabel(\"Number of attempts\")\n",
    "plt.ylabel(\"Quantity of students\")\n",
    "plt.savefig('edm2020/semester_attempts_students.eps', format='eps')\n",
    "plt.savefig('edm2020/semester_attempts_students.png', format='png')\n",
    "plt.show()\n",
    "\n",
    "# bins_students = subs[1].hist(attempts_per_student.values(), bins=list(range(0,60,5)))\n",
    "# subs[1].set_title(\"Quantity of students per number of attempts (limited at 60)\")\n",
    "# subs[1].set_xlabel(\"Number of attempts\")\n",
    "# subs[1].set_ylabel(\"Quantity of students\")\n",
    "# # subs[1][1].hist(attempts_per_student.values(), bins=list(range(60,400,5)))\n",
    "# plt.tight_layout()\n",
    "\n",
    "fig = plt.figure(figsize=(6,4))\n",
    "bins = plt.hist(total_students_per_question.values())#, bins=list(range(0,50,1)))\n",
    "plt.title(\"Quantity of students per number of questions\")\n",
    "plt.xlabel(\"Number of students\")\n",
    "plt.ylabel(\"Quantity of questions\")\n",
    "# plt.savefig('edm2020/attempts_students.eps', format='eps')\n",
    "# plt.savefig('edm2020/attempts_students.png', format='png')\n",
    "\n",
    "fig = plt.figure(figsize=(6,4))\n",
    "bins = plt.hist(total_questions_per_student.values(),\n",
    "                rwidth=0.85\n",
    "               , bins=list(range(0,70,5))\n",
    "               )\n",
    "plt.title(\"Quantity of students per number of questions\")\n",
    "plt.xlabel(\"Number of questions\")\n",
    "plt.ylabel(\"Quantity of students\")\n",
    "plt.grid(axis='y', alpha=0.75)\n",
    "plt.savefig('edm2020/semester_students_question.eps', format='eps')\n",
    "plt.savefig('edm2020/semester_students_question.png', format='png')\n",
    "\n",
    "fig = plt.figure(figsize=(6,4))\n",
    "bins = plt.hist(total_questions_per_student.values(),\n",
    "                rwidth=0.85\n",
    "               , bins=list(range(0,70,22))\n",
    "               )\n",
    "plt.title(\"Quantity of students per number of questions\")\n",
    "plt.xlabel(\"Number of questions\")\n",
    "plt.ylabel(\"Quantity of students\")\n",
    "plt.grid(axis='y', alpha=0.75)\n",
    "plt.savefig('edm2020/semester_students_question_thirds.eps', format='eps')\n",
    "plt.savefig('edm2020/semester_students_question_thirds.png', format='png')\n",
    "\n",
    "plt.show()\n",
    "bins"
   ]
  },
  {
   "cell_type": "code",
   "execution_count": 98,
   "metadata": {
    "scrolled": false
   },
   "outputs": [
    {
     "name": "stderr",
     "output_type": "stream",
     "text": [
      "The PostScript backend does not support transparency; partially transparent artists will be rendered opaque.\n",
      "The PostScript backend does not support transparency; partially transparent artists will be rendered opaque.\n",
      "The PostScript backend does not support transparency; partially transparent artists will be rendered opaque.\n",
      "The PostScript backend does not support transparency; partially transparent artists will be rendered opaque.\n",
      "The PostScript backend does not support transparency; partially transparent artists will be rendered opaque.\n",
      "The PostScript backend does not support transparency; partially transparent artists will be rendered opaque.\n",
      "The PostScript backend does not support transparency; partially transparent artists will be rendered opaque.\n",
      "The PostScript backend does not support transparency; partially transparent artists will be rendered opaque.\n",
      "The PostScript backend does not support transparency; partially transparent artists will be rendered opaque.\n",
      "The PostScript backend does not support transparency; partially transparent artists will be rendered opaque.\n",
      "The PostScript backend does not support transparency; partially transparent artists will be rendered opaque.\n",
      "The PostScript backend does not support transparency; partially transparent artists will be rendered opaque.\n",
      "The PostScript backend does not support transparency; partially transparent artists will be rendered opaque.\n",
      "The PostScript backend does not support transparency; partially transparent artists will be rendered opaque.\n",
      "The PostScript backend does not support transparency; partially transparent artists will be rendered opaque.\n",
      "The PostScript backend does not support transparency; partially transparent artists will be rendered opaque.\n",
      "The PostScript backend does not support transparency; partially transparent artists will be rendered opaque.\n",
      "The PostScript backend does not support transparency; partially transparent artists will be rendered opaque.\n",
      "The PostScript backend does not support transparency; partially transparent artists will be rendered opaque.\n"
     ]
    },
    {
     "name": "stdout",
     "output_type": "stream",
     "text": [
      "Success attempts x Student\n",
      "1. Avg: 38.26:\n",
      "2. Median: 32.00\n",
      "3. Min: 1\n",
      "4. Max: 159\n",
      "\n",
      "Failed attempts x Student\n",
      "1. Avg: 114.68:\n",
      "2. Median: 70.00\n",
      "3. Min: 1\n",
      "4. Max: 879\n",
      "\n",
      "Success attempts x Question\n",
      "1. Avg: 105.37:\n",
      "2. Median: 105.00\n",
      "3. Min: 49\n",
      "4. Max: 214\n",
      "\n",
      "Failed attempts x Question\n",
      "1. Avg: 317.57:\n",
      "2. Median: 261.00\n",
      "3. Min: 24\n",
      "4. Max: 1155\n",
      "\n"
     ]
    },
    {
     "data": {
      "image/png": "[encoded data removed]",
      "text/plain": [
       "<Figure size 432x288 with 1 Axes>"
      ]
     },
     "metadata": {
      "needs_background": "light"
     },
     "output_type": "display_data"
    },
    {
     "name": "stderr",
     "output_type": "stream",
     "text": [
      "The PostScript backend does not support transparency; partially transparent artists will be rendered opaque.\n",
      "The PostScript backend does not support transparency; partially transparent artists will be rendered opaque.\n"
     ]
    },
    {
     "data": {
      "image/png": "[encoded data removed]",
      "text/plain": [
       "<Figure size 432x288 with 1 Axes>"
      ]
     },
     "metadata": {
      "needs_background": "light"
     },
     "output_type": "display_data"
    },
    {
     "name": "stderr",
     "output_type": "stream",
     "text": [
      "The PostScript backend does not support transparency; partially transparent artists will be rendered opaque.\n",
      "The PostScript backend does not support transparency; partially transparent artists will be rendered opaque.\n",
      "The PostScript backend does not support transparency; partially transparent artists will be rendered opaque.\n",
      "The PostScript backend does not support transparency; partially transparent artists will be rendered opaque.\n",
      "The PostScript backend does not support transparency; partially transparent artists will be rendered opaque.\n",
      "The PostScript backend does not support transparency; partially transparent artists will be rendered opaque.\n",
      "The PostScript backend does not support transparency; partially transparent artists will be rendered opaque.\n",
      "The PostScript backend does not support transparency; partially transparent artists will be rendered opaque.\n",
      "The PostScript backend does not support transparency; partially transparent artists will be rendered opaque.\n",
      "The PostScript backend does not support transparency; partially transparent artists will be rendered opaque.\n",
      "The PostScript backend does not support transparency; partially transparent artists will be rendered opaque.\n",
      "The PostScript backend does not support transparency; partially transparent artists will be rendered opaque.\n",
      "The PostScript backend does not support transparency; partially transparent artists will be rendered opaque.\n",
      "The PostScript backend does not support transparency; partially transparent artists will be rendered opaque.\n",
      "The PostScript backend does not support transparency; partially transparent artists will be rendered opaque.\n",
      "The PostScript backend does not support transparency; partially transparent artists will be rendered opaque.\n",
      "The PostScript backend does not support transparency; partially transparent artists will be rendered opaque.\n",
      "The PostScript backend does not support transparency; partially transparent artists will be rendered opaque.\n",
      "The PostScript backend does not support transparency; partially transparent artists will be rendered opaque.\n",
      "The PostScript backend does not support transparency; partially transparent artists will be rendered opaque.\n",
      "The PostScript backend does not support transparency; partially transparent artists will be rendered opaque.\n",
      "The PostScript backend does not support transparency; partially transparent artists will be rendered opaque.\n",
      "The PostScript backend does not support transparency; partially transparent artists will be rendered opaque.\n",
      "The PostScript backend does not support transparency; partially transparent artists will be rendered opaque.\n",
      "The PostScript backend does not support transparency; partially transparent artists will be rendered opaque.\n",
      "The PostScript backend does not support transparency; partially transparent artists will be rendered opaque.\n",
      "The PostScript backend does not support transparency; partially transparent artists will be rendered opaque.\n",
      "The PostScript backend does not support transparency; partially transparent artists will be rendered opaque.\n",
      "The PostScript backend does not support transparency; partially transparent artists will be rendered opaque.\n",
      "The PostScript backend does not support transparency; partially transparent artists will be rendered opaque.\n",
      "The PostScript backend does not support transparency; partially transparent artists will be rendered opaque.\n",
      "The PostScript backend does not support transparency; partially transparent artists will be rendered opaque.\n",
      "The PostScript backend does not support transparency; partially transparent artists will be rendered opaque.\n",
      "The PostScript backend does not support transparency; partially transparent artists will be rendered opaque.\n",
      "The PostScript backend does not support transparency; partially transparent artists will be rendered opaque.\n",
      "The PostScript backend does not support transparency; partially transparent artists will be rendered opaque.\n",
      "The PostScript backend does not support transparency; partially transparent artists will be rendered opaque.\n",
      "The PostScript backend does not support transparency; partially transparent artists will be rendered opaque.\n",
      "The PostScript backend does not support transparency; partially transparent artists will be rendered opaque.\n",
      "The PostScript backend does not support transparency; partially transparent artists will be rendered opaque.\n"
     ]
    },
    {
     "data": {
      "image/png": "[encoded data removed]",
      "text/plain": [
       "<Figure size 432x288 with 1 Axes>"
      ]
     },
     "metadata": {
      "needs_background": "light"
     },
     "output_type": "display_data"
    },
    {
     "name": "stderr",
     "output_type": "stream",
     "text": [
      "The PostScript backend does not support transparency; partially transparent artists will be rendered opaque.\n",
      "The PostScript backend does not support transparency; partially transparent artists will be rendered opaque.\n"
     ]
    },
    {
     "data": {
      "image/png": "[encoded data removed]",
      "text/plain": [
       "<Figure size 432x288 with 1 Axes>"
      ]
     },
     "metadata": {
      "needs_background": "light"
     },
     "output_type": "display_data"
    },
    {
     "name": "stderr",
     "output_type": "stream",
     "text": [
      "The PostScript backend does not support transparency; partially transparent artists will be rendered opaque.\n",
      "The PostScript backend does not support transparency; partially transparent artists will be rendered opaque.\n"
     ]
    },
    {
     "data": {
      "image/png": "[encoded data removed]",
      "text/plain": [
       "<Figure size 432x288 with 1 Axes>"
      ]
     },
     "metadata": {
      "needs_background": "light"
     },
     "output_type": "display_data"
    },
    {
     "name": "stdout",
     "output_type": "stream",
     "text": [
      "CPU times: user 2.41 s, sys: 47.3 ms, total: 2.45 s\n",
      "Wall time: 2.5 s\n"
     ]
    }
   ],
   "source": [
    "%%time\n",
    "success_per_student = defaultdict(int)\n",
    "fail_per_student = defaultdict(int)\n",
    "success_per_question = defaultdict(int)\n",
    "fail_per_question = defaultdict(int)\n",
    "\n",
    "for row in success_attempts:\n",
    "    s_idx, q_idx, a_idx, outcome = row\n",
    "    success_per_student[s_idx] += 1\n",
    "    success_per_question[q_idx] += 1\n",
    "\n",
    "    \n",
    "for row in fail_attempts:\n",
    "    s_idx, q_idx, a_idx, outcome = row\n",
    "    fail_per_student[s_idx] += 1\n",
    "    fail_per_question[q_idx] += 1\n",
    "    \n",
    "# Success attempt x Student\n",
    "print(print_stats(\"Success attempts x Student\", success_per_student.values()))\n",
    "\n",
    "# Failed attempt x Student\n",
    "print(print_stats(\"Failed attempts x Student\", fail_per_student.values()))\n",
    "\n",
    "# Success attempt x Question\n",
    "print(print_stats(\"Success attempts x Question\", success_per_question.values()))\n",
    "\n",
    "# Fail attempt x Question\n",
    "print(print_stats(\"Failed attempts x Question\", fail_per_question.values()))\n",
    "\n",
    "fig = plt.figure(figsize=(6,4))\n",
    "# plt.hist([list(success_per_question.values()), list(fail_per_question.values())], \n",
    "#          bins=list(range(0,160, 20)), label=[\"Success\", \"Fail\"], histtype='bar')\n",
    "sns.distplot(list(success_per_question.values()), \n",
    "#              bins=list(range(0,160, 20)), \n",
    "             label=\"Success\",\n",
    "#              kde_kws={\"bw\": 8}\n",
    "            )\n",
    "sns.distplot(list(fail_per_question.values()), \n",
    "#              bins=list(range(0,160, 20)), \n",
    "             label=\"Fail\")\n",
    "plt.title(\"Proportion of questions per number of attempts\")\n",
    "plt.xlabel(\"Number of attempts\")\n",
    "plt.ylabel(\"Proportion of questions\")\n",
    "plt.legend()\n",
    "# plt.xlim(-20,160)\n",
    "plt.savefig('edm2020/semester_attempts_questions_sep_kde.eps', format='eps')\n",
    "plt.savefig('edm2020/semester_attempts_questions_sep_kde.png', format='png')\n",
    "plt.show()\n",
    "\n",
    "fig = plt.figure(figsize=(6,4))\n",
    "plt.hist([list(success_per_question.values()), list(fail_per_question.values())], \n",
    "#          bins=list(range(0,160, 20)), \n",
    "         label=[\"Success\", \"Fail\"], histtype='bar')\n",
    "plt.title(\"Quantity of questions per number of attempts (limited at 160)\")\n",
    "plt.xlabel(\"Number of attempts\")\n",
    "plt.ylabel(\"Quantity of questions\")\n",
    "plt.legend()\n",
    "plt.savefig('edm2020/semester_attempts_questions_sep.eps', format='eps')\n",
    "plt.savefig('edm2020/semester_attempts_questions_sep.png', format='png')\n",
    "plt.show()\n",
    "\n",
    "fig = plt.figure(figsize=(6,4))\n",
    "sns.distplot(list(success_per_student.values()), \n",
    "#              bins=list(range(0,60,5)), \n",
    "             label=\"Success\",\n",
    "#              kde_kws={\"bw\": 2}\n",
    "            )\n",
    "sns.distplot(list(fail_per_student.values()), \n",
    "#              bins=list(range(0,60,5)), \n",
    "             label=\"Fail\",\n",
    "#              kde_kws={\"bw\": 6}\n",
    "            )\n",
    "# plt.xlim(-20,80)\n",
    "plt.title(\"Proportion of students per number of attempts (limited at 80)\")\n",
    "plt.xlabel(\"Number of attempts\")\n",
    "plt.ylabel(\"Proportion of students\")\n",
    "plt.legend()\n",
    "plt.savefig('edm2020/semester_attempts_students_sep_kde.eps', format='eps')\n",
    "plt.savefig('edm2020/semester_attempts_students_sep_kde.png', format='png')\n",
    "plt.show()\n",
    "\n",
    "fig = plt.figure(figsize=(6,4))\n",
    "plt.hist([list(success_per_student.values()), list(fail_per_student.values())], \n",
    "#          bins=list(range(0,80,5)), \n",
    "         label=[\"Success\", \"Fail\"], histtype='bar')\n",
    "plt.title(\"Quantity of students per number of attempts (limited at 80)\")\n",
    "plt.xlabel(\"Number of attempts\")\n",
    "plt.ylabel(\"Quantity of students\")\n",
    "plt.legend()\n",
    "plt.savefig('edm2020/semester_attempts_students_sep.eps', format='eps')\n",
    "plt.savefig('edm2020/semester_attempts_students_sep.png', format='png')\n",
    "plt.show()\n",
    "\n",
    "\n",
    "fig = plt.figure(figsize=(6,4))\n",
    "plt.hist([list(success_per_student.values()), list(fail_per_student.values())], \n",
    "#          bins=list(range(0,60,5)), \n",
    "         label=[\"Success\", \"Fail\"], histtype='barstacked')\n",
    "plt.title(\"Quantity of students per number of attempts (limited at 60)\")\n",
    "plt.xlabel(\"Number of attempts\")\n",
    "plt.ylabel(\"Quantity of students\")\n",
    "plt.legend()\n",
    "plt.savefig('edm2020/semester_attempts_students_sep_stacked.eps', format='eps')\n",
    "plt.savefig('edm2020/semester_attempts_students_sep_stacked.png', format='png')\n",
    "plt.show()"
   ]
  },
  {
   "cell_type": "markdown",
   "metadata": {},
   "source": [
    "Delete student that do not meet minimum number of attempts"
   ]
  },
  {
   "cell_type": "code",
   "execution_count": 14,
   "metadata": {},
   "outputs": [],
   "source": [
    "MIN_STUDENT_ATTEMPT = 3\n",
    "MIN_QUESTION_ATTEMPT = 10"
   ]
  },
  {
   "cell_type": "code",
   "execution_count": 15,
   "metadata": {},
   "outputs": [],
   "source": [
    "del_students = [item[0] for item in attempts_per_student.items() if item[1] < MIN_STUDENT_ATTEMPT]\n",
    "del_questions = [item[0] for item in attempts_per_question.items() if item[1] < MIN_QUESTION_ATTEMPT]"
   ]
  },
  {
   "cell_type": "markdown",
   "metadata": {},
   "source": [
    "Splitting in train and test"
   ]
  },
  {
   "cell_type": "code",
   "execution_count": 19,
   "metadata": {},
   "outputs": [],
   "source": [
    "N_RUNS = 5\n",
    "TRAIN_PROPORTION = 0.8\n",
    "TRAIN_ATTEMPTS_TEST = 0.2"
   ]
  },
  {
   "cell_type": "code",
   "execution_count": 17,
   "metadata": {},
   "outputs": [],
   "source": [
    "def get_user_idx(user_id):\n",
    "    return users_idx.index(user_id)\n",
    "\n",
    "def get_question_idx(question_id):\n",
    "    return questions_idx.index(question_id)\n",
    "\n",
    "def separate_users_train_and_test(users_idx):\n",
    "    np.random.shuffle(users_idx)\n",
    "    idx = int(np.ceil(TRAIN_PROPORTION*len(users)))\n",
    "    train_users = users_idx[:idx]\n",
    "    test_users = users_idx[idx:]\n",
    "    return train_users, test_users\n",
    "\n",
    "map_user_id = np.vectorize(get_user_idx)    \n",
    "map_question_id = np.vectorize(get_question_idx)"
   ]
  },
  {
   "cell_type": "markdown",
   "metadata": {},
   "source": [
    "Split in train and test"
   ]
  },
  {
   "cell_type": "code",
   "execution_count": 16,
   "metadata": {},
   "outputs": [],
   "source": [
    "%%time\n",
    "users_filtered = users.exclude(user_id__in=del_students)\n",
    "users_idx = list(users_filtered)\n",
    "\n",
    "for i in range(N_RUNS):\n",
    "    train_users, test_users = separate_users_train_and_test(users_idx)\n",
    "    \n",
    "    # These users will be uniquely used for train\n",
    "    train_set = list(data.filter(user_id__in=train_users))\n",
    "    \n",
    "    # Some users will be used in training up to a 20% of their attempts\n",
    "    test_set = []\n",
    "    # train_attempts = np.random.uniform(size=len(test_users))\n",
    "    for idx, user in enumerate(test_users):\n",
    "        user_attempts = data.filter(user_id=user)\n",
    "        train_attempts = int(np.ceil(TRAIN_ATTEMPTS_TEST*user_attempts.count()))\n",
    "        train_set.extend(list(user_attempts.filter(attempt__lte=train_attempts).order_by('attempt')))\n",
    "        test_set.extend(list(user_attempts.filter(attempt__gt=train_attempts).order_by('attempt')))\n",
    "        \n",
    "    # Mapping users and questions to be in 0-len index\n",
    "    train_set = np.asarray(train_set)\n",
    "    test_set = np.asarray(test_set)\n",
    "    \n",
    "    train_set[:,0] = map_user_id(train_set[:,0])\n",
    "    test_set[:,0] = map_user_id(test_set[:,0])\n",
    "    \n",
    "    train_set[:,1] = map_question_id(train_set[:,1])\n",
    "    test_set[:,1] = map_question_id(test_set[:,1])\n",
    "    \n",
    "    dataset = {\n",
    "        \"train_set\": train_set,\n",
    "        \"test_set\": test_set,\n",
    "        \"concept_idx\": concept_idx,\n",
    "        \"questions_idx\": questions_idx,\n",
    "        \"users_idx\": users_idx,\n",
    "        \"q_matrix\": q_matrix,\n",
    "    }\n",
    "    \n",
    "    # Save data\n",
    "    with open(\"%s/run_%d.pkl\" % (folder, i), \"wb\") as pklfile:\n",
    "        pickle.dump(dataset, pklfile)"
   ]
  },
  {
   "cell_type": "markdown",
   "metadata": {},
   "source": [
    "All data"
   ]
  },
  {
   "cell_type": "code",
   "execution_count": 24,
   "metadata": {},
   "outputs": [],
   "source": [
    "users_filtered = users.exclude(user_id__in=del_students)\n",
    "users_idx = list(users_filtered)\n",
    "\n",
    "# These users will be uniquely used for train\n",
    "train_set = list(data.filter(user_id__in=users_idx))\n",
    "test_set = []\n",
    "\n",
    "# Mapping users and questions to be in 0-len index\n",
    "train_set = np.asarray(train_set)\n",
    "test_set = np.asarray(test_set)\n",
    "\n",
    "train_set[:,0] = map_user_id(train_set[:,0])\n",
    "# test_set[:,0] = map_user_id(test_set[:,0])\n",
    "\n",
    "train_set[:,1] = map_question_id(train_set[:,1])\n",
    "# test_set[:,1] = map_question_id(test_set[:,1])\n",
    "\n",
    "dataset = {\n",
    "    \"train_set\": train_set,\n",
    "    \"test_set\": test_set,\n",
    "    \"concept_idx\": concept_idx,\n",
    "    \"questions_idx\": questions_idx,\n",
    "    \"users_idx\": users_idx,\n",
    "    \"q_matrix\": q_matrix,\n",
    "}\n",
    "\n",
    "# Save data\n",
    "with open(\"%s/all_data.pkl\" % (folder), \"wb\") as pklfile:\n",
    "    pickle.dump(dataset, pklfile)"
   ]
  },
  {
   "cell_type": "code",
   "execution_count": 52,
   "metadata": {},
   "outputs": [],
   "source": [
    "import itertools"
   ]
  },
  {
   "cell_type": "code",
   "execution_count": 57,
   "metadata": {},
   "outputs": [
    {
     "name": "stdout",
     "output_type": "stream",
     "text": [
      "same users in 0 and 1\n",
      "{217}\n",
      "same users in 0 and 2\n",
      "{222, 182, 71}\n",
      "same users in 0 and 3\n",
      "set()\n",
      "same users in 0 and 4\n",
      "{209, 107, 140}\n",
      "same users in 1 and 2\n",
      "{266, 183}\n",
      "same users in 1 and 3\n",
      "{268}\n",
      "same users in 1 and 4\n",
      "{281, 266}\n",
      "same users in 2 and 3\n",
      "{94, 108, 150, 92}\n",
      "same users in 2 and 4\n",
      "{266}\n",
      "same users in 3 and 4\n",
      "{54}\n"
     ]
    }
   ],
   "source": [
    "users = []\n",
    "for i in range(5):\n",
    "# Open data\n",
    "    with open(\"%s/run_%d.pkl\" % (folder, i), \"rb\") as pklfile:\n",
    "        dataset = pickle.load(pklfile)\n",
    "    users.append(dataset['users_idx'][158:])\n",
    "    \n",
    "for a, b in itertools.combinations(range(5), 2):\n",
    "    print(\"same users in %d and %d\" % (a,b))\n",
    "    print(set(users[a]) & set(users[b]))"
   ]
  }
 ],
 "metadata": {
  "kernelspec": {
   "display_name": "Django Shell-Plus",
   "language": "python",
   "name": "django_extensions"
  },
  "language_info": {
   "codemirror_mode": {
    "name": "ipython",
    "version": 3
   },
   "file_extension": ".py",
   "mimetype": "text/x-python",
   "name": "python",
   "nbconvert_exporter": "python",
   "pygments_lexer": "ipython3",
   "version": "3.6.10"
  }
 },
 "nbformat": 4,
 "nbformat_minor": 4
}
