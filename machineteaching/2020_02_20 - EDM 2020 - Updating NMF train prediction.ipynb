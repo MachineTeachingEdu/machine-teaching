{
 "cells": [
  {
   "cell_type": "code",
   "execution_count": 4,
   "metadata": {},
   "outputs": [],
   "source": [
    "# Helpers\n",
    "import numpy as np\n",
    "\n",
    "# DB \n",
    "import psycopg2\n",
    "from django.conf import settings\n",
    "\n",
    "# Evaluation\n",
    "from sklearn.metrics import roc_curve, auc, f1_score\n",
    "\n",
    "# Plot\n",
    "import matplotlib.pyplot as plt\n",
    "import seaborn as sns"
   ]
  },
  {
   "cell_type": "code",
   "execution_count": 5,
   "metadata": {},
   "outputs": [],
   "source": [
    "connection = psycopg2.connect(user = settings.DATABASES[\"default\"][\"USER\"],\n",
    "                                  password = settings.DATABASES[\"default\"][\"PASSWORD\"],\n",
    "                                  host = settings.DATABASES[\"default\"][\"HOST\"],\n",
    "                                  port = settings.DATABASES[\"default\"][\"PORT\"],\n",
    "                                  database = settings.DATABASES[\"default\"][\"NAME\"])\n",
    "connection.autocommit=True\n",
    "cursor = connection.cursor()"
   ]
  },
  {
   "cell_type": "code",
   "execution_count": 9,
   "metadata": {},
   "outputs": [
    {
     "name": "stdout",
     "output_type": "stream",
     "text": [
      "CPU times: user 2.47 s, sys: 2.66 s, total: 5.12 s\n",
      "Wall time: 5min 24s\n"
     ]
    }
   ],
   "source": [
    "%%time\n",
    "query = \"\"\"select experiment_id, sp, sp_test, sp_hat, sk_hat, q_matrix_hat, attempts_train\n",
    "from EDM2020_2020_02_19 where method='nmf' and attempts_train = 1\"\"\"\n",
    "cursor.execute(query)\n",
    "row = cursor.fetchone()"
   ]
  },
  {
   "cell_type": "code",
   "execution_count": 10,
   "metadata": {},
   "outputs": [
    {
     "name": "stdout",
     "output_type": "stream",
     "text": [
      "CPU times: user 57.8 s, sys: 62.5 ms, total: 57.9 s\n",
      "Wall time: 57.9 s\n"
     ]
    }
   ],
   "source": [
    "%%time\n",
    "update_queries = []\n",
    "total = 0\n",
    "while row:\n",
    "    exp_id, sp, sp_test, sp_hat, sk_hat, q_matrix_hat, att = row\n",
    "    sp = np.asarray(sp)\n",
    "    sp_test = np.asarray(sp_test)\n",
    "    sp_hat = np.asarray(sp_hat)\n",
    "    sk_hat = np.asarray(sk_hat)\n",
    "    q_matrix_hat = np.asarray(q_matrix_hat)\n",
    "    \n",
    "    # Get train predicted values\n",
    "    # 0 is when there aren't any attempts\n",
    "    y = sp[np.where(sp > 0)]\n",
    "    y_pred = sp_hat[np.where(sp > 0)]\n",
    "    rmse = np.sqrt(np.mean(np.power(y - y_pred, 2)))\n",
    "    \n",
    "    update = {\n",
    "        \"train_rmse\": rmse\n",
    "    }\n",
    "    \n",
    "    # If just first attempt, we can binarize predictions\n",
    "    if att == 1:\n",
    "        # Calculate AUC and threshold to binarize prediction\n",
    "        y[np.where(y == 0.1)] = 0\n",
    "        fpr, tpr, thresholds = roc_curve(y, y_pred, pos_label=1)\n",
    "        auc_score = auc(fpr, tpr)\n",
    "        J_stats = tpr - fpr\n",
    "        J_opt_thresholds = thresholds[np.argmax(J_stats)]\n",
    "        y_pred_binary = np.where(np.asarray(y_pred) > J_opt_thresholds, 1, 0)\n",
    "    \n",
    "         # Calculate accuracy and F1\n",
    "        acc = np.logical_not(np.logical_xor(y, y_pred_binary)).sum()/len(y)\n",
    "        f1 = f1_score(y, y_pred_binary)\n",
    "        \n",
    "        update.update({\n",
    "            \"train_auc\": auc_score,\n",
    "            \"train_acc\": acc,\n",
    "            \"auc_threshold\": J_opt_thresholds,\n",
    "            \"train_1\":  np.where(y == 1)[0].shape[0],\n",
    "            \"train_0\":  np.where(y == 0)[0].shape[0],\n",
    "            \"train_pred_1\": np.where(y_pred_binary == 1)[0].shape[0],\n",
    "            \"train_pred_0\": np.where(y_pred_binary == 0)[0].shape[0],\n",
    "            \"train_f1\": f1\n",
    "        })\n",
    "\n",
    "        \n",
    "    \n",
    "    # Write PSQL query\n",
    "    update_query = \"UPDATE EDM2020_2020_02_19 SET \"\n",
    "    update_list = []\n",
    "    query_values = []\n",
    "    for key, value in update.items():\n",
    "        update_list.append(key + \"= %s\")\n",
    "        query_values.append(value)\n",
    "    \n",
    "    update_query += \", \".join(update_list) + \"where experiment_id = %s\"\n",
    "    query_values.append(exp_id)\n",
    "    query_values = tuple(query_values)\n",
    "    query = cursor.mogrify(update_query, query_values)\n",
    "    update_queries.append(query)\n",
    "    total += 1\n",
    "    try:\n",
    "        row = cursor.fetchone()\n",
    "    except psycopg2.ProgrammingError:\n",
    "        row = False"
   ]
  },
  {
   "cell_type": "code",
   "execution_count": 11,
   "metadata": {},
   "outputs": [],
   "source": [
    "for query in update_queries:\n",
    "    cursor.execute(query)"
   ]
  }
 ],
 "metadata": {
  "kernelspec": {
   "display_name": "Django Shell-Plus",
   "language": "python",
   "name": "django_extensions"
  },
  "language_info": {
   "codemirror_mode": {
    "name": "ipython",
    "version": 3
   },
   "file_extension": ".py",
   "mimetype": "text/x-python",
   "name": "python",
   "nbconvert_exporter": "python",
   "pygments_lexer": "ipython3",
   "version": "3.7.6"
  }
 },
 "nbformat": 4,
 "nbformat_minor": 4
}
