{
 "cells": [
  {
   "cell_type": "code",
   "execution_count": 1,
   "metadata": {
    "collapsed": true
   },
   "outputs": [],
   "source": [
    "from sklearn import datasets\n",
    "from scipy.cluster import hierarchy\n",
    "from sklearn.cluster import KMeans\n",
    "from scipy.spatial.distance import pdist\n",
    "import scipy\n",
    "import numpy as np"
   ]
  },
  {
   "cell_type": "code",
   "execution_count": 2,
   "metadata": {
    "collapsed": true
   },
   "outputs": [],
   "source": [
    "import matplotlib.pyplot as plt\n",
    "%matplotlib inline"
   ]
  },
  {
   "cell_type": "code",
   "execution_count": 112,
   "metadata": {
    "collapsed": true
   },
   "outputs": [],
   "source": [
    "dataset = datasets.load_breast_cancer()\n",
    "data_X = dataset.data"
   ]
  },
  {
   "cell_type": "markdown",
   "metadata": {},
   "source": [
    "### Gap Statistics\n",
    "$n_r = |C_r|$ (cardinalidade do cluster r)\n",
    "\n",
    "$D_r = \\sum_{i,i'\\epsilon C_r}{d_{i,i'}}$ (pairwise-distance entre todos os elementos de um cluster)\n",
    "\n",
    "$W_k = \\sum_{r=1}^{k}{\\frac{1}{2n_r}D_r}$ (média ponderada da soma das distâncias dentro de cada cluster - pooled within-cluster sum around the cluster means)\n",
    "\n",
    "A ideia não é escolher a quantidade de clusters que minimiza a distância interna, pois esse sempre diminui conforme aumentamos o número de clusters. A estatística busca encontrar o valor que minimiza essa distância quando comparado a uma distribuição de referência dos dados. (Ou seja, a quantidade de clusters que mais faz diferença pela clusterização e não pelo fato de estamos aumentando o número de clusters)\n",
    "\n",
    "$Gap_n(k) = E^*\\{log(W_k)\\} - log(W_k)$ (onde $E^*$ é o valor esperado de uma amostra de tamanho $n$ da distribuição de referência. O valor estimado $\\widehat{k}$ é o valor que maximiza o $Gap_n(k)$ depois de levar em consideração a distribuição."
   ]
  },
  {
   "cell_type": "code",
   "execution_count": 35,
   "metadata": {},
   "outputs": [],
   "source": [
    "def calculate_wk(X, y, distance='euclidean'):\n",
    "    \"\"\" Calculate nr, dr and wk \"\"\"\n",
    "    min_k = np.array(y).min()\n",
    "    max_k = np.array(y).max()\n",
    "    wk = []\n",
    "    \n",
    "    for i in range(min_k, max_k+1):\n",
    "        # Calculate Dr for each cluster\n",
    "        obs_idx = np.where(y == i)[0]\n",
    "        nr = obs_idx.shape[0]\n",
    "        \n",
    "#         if nr == 0:\n",
    "#             raise TypeError(\"There are empty clusters.\")\n",
    "        \n",
    "        # Get pairwise distance\n",
    "        dist = pdist(X[obs_idx], distance).sum()\n",
    "        \n",
    "        # Calculate Wk\n",
    "        wki = dist/(2*nr)\n",
    "        wk.append(wki)\n",
    "    \n",
    "    return np.array(wk).sum()\n",
    "\n",
    "def get_clusters(X, k, mode='hierarquical', **kwargs):\n",
    "    \"\"\" Different clustering modes. \"\"\"\n",
    "    if mode == 'hierarquical':\n",
    "        # Create linkage matrix for original data\n",
    "        Z = hierarchy.linkage(X, **kwargs)\n",
    "        clusters = hierarchy.fcluster(Z, k, criterion='maxclust')    \n",
    "    elif mode == 'kmeans':\n",
    "        clusters = KMeans(n_clusters=k).fit_predict(X)\n",
    "    return clusters"
   ]
  },
  {
   "cell_type": "markdown",
   "metadata": {},
   "source": [
    "### Prepare reference dataset"
   ]
  },
  {
   "cell_type": "code",
   "execution_count": 36,
   "metadata": {
    "collapsed": true
   },
   "outputs": [],
   "source": [
    "def prepare_ref_dataset(data, nrefs=20):\n",
    "    shape = data.shape\n",
    "    # Set bounding box\n",
    "    tops = data.max(axis=0)\n",
    "    bots = data.min(axis=0)\n",
    "\n",
    "    # Generate distribution\n",
    "    rands = scipy.random.random_sample(size=(shape[0],shape[1],nrefs))\n",
    "\n",
    "    # Set offset for random uniform samples to be inside bounding boxes\n",
    "    dists = scipy.matrix(scipy.diag(tops-bots))\n",
    "    for i in range(nrefs):\n",
    "        rands[:,:,i] = rands[:,:,i]*dists+bots\n",
    "        \n",
    "    return rands"
   ]
  },
  {
   "cell_type": "markdown",
   "metadata": {},
   "source": [
    "### Cluster"
   ]
  },
  {
   "cell_type": "code",
   "execution_count": 103,
   "metadata": {
    "collapsed": true,
    "scrolled": false
   },
   "outputs": [],
   "source": [
    "def calculate_gap(X, refs, k_max, mode='hierarquical'):\n",
    "    gaps = []\n",
    "    error = []\n",
    "    \n",
    "    for k in range(2,k_max+1):\n",
    "        # Calculate Wk for original data\n",
    "        clusters = get_clusters(X, k, mode, method='ward')\n",
    "        wk = calculate_wk(X, clusters)\n",
    "        log_wk = np.log(wk)\n",
    "\n",
    "        # Calculate Wk for reference distribution\n",
    "        wk_refs = []\n",
    "        for ref in range(refs.shape[2]):\n",
    "            clusters = get_clusters(refs[:,:,ref], k, mode, method='ward')\n",
    "            wk_ref = calculate_wk(refs[:,:,ref], clusters)\n",
    "            log_wk_ref = np.log(wk_ref)\n",
    "            wk_refs.append(log_wk_ref)\n",
    "        wkb = np.array(wk_refs)\n",
    "        wkb_sum = wkb.sum()\n",
    "        wkb_std = wkb.std()\n",
    "        B = wkb.shape[0]\n",
    "\n",
    "        # Calculate Gap\n",
    "        gap_k = (1/B*wkb_sum) - log_wk\n",
    "        gaps.append(gap_k)\n",
    "        error.append(np.sqrt(wkb_std*(1+(1/B))))\n",
    "    \n",
    "    return gaps, error\n",
    "\n",
    "def define_k(gaps, error):\n",
    "    for i in range(2,k_max):\n",
    "        k = i-2\n",
    "        gapi = gaps[k]\n",
    "        gapi1 = gaps[k+1]\n",
    "        std = error[k+1]\n",
    "        \n",
    "        if gapi >= (gapi1-std):\n",
    "            print(\"k = %d\" % (k+2))\n",
    "            break\n",
    "            \n",
    "    diff = np.array(gaps) - np.array(error)\n",
    "    gaps[1:] = gaps[:-1]\n",
    "    gap_diff = np.array(gaps) > diff\n",
    "    k = np.argmax(gap_diff[1:] == True)\n",
    "    print(\"k = %d\" % (k+2))\n",
    "    \n"
   ]
  },
  {
   "cell_type": "code",
   "execution_count": 113,
   "metadata": {},
   "outputs": [
    {
     "data": {
      "image/png": "[encoded data removed]",
      "text/plain": [
       "<matplotlib.figure.Figure at 0x7fc314d45f60>"
      ]
     },
     "metadata": {},
     "output_type": "display_data"
    },
    {
     "name": "stdout",
     "output_type": "stream",
     "text": [
      "k = 3\n",
      "k = 3\n"
     ]
    }
   ],
   "source": [
    "refs = prepare_ref_dataset(data_X, nrefs=100)\n",
    "k_max = 13\n",
    "\n",
    "# Calculate gaps and error\n",
    "gaps, error = calculate_gap(data_X, refs, k_max, 'hierarquical')\n",
    "\n",
    "# Plot data\n",
    "plt.errorbar(range(2,len(gaps)+2), gaps, yerr=error)\n",
    "plt.show()\n",
    "\n",
    "# Get best k\n",
    "k = define_k(gaps, error)"
   ]
  }
 ],
 "metadata": {
  "kernelspec": {
   "display_name": "Python 3",
   "language": "python",
   "name": "python3"
  },
  "language_info": {
   "codemirror_mode": {
    "name": "ipython",
    "version": 3
   },
   "file_extension": ".py",
   "mimetype": "text/x-python",
   "name": "python",
   "nbconvert_exporter": "python",
   "pygments_lexer": "ipython3",
   "version": "3.6.2"
  }
 },
 "nbformat": 4,
 "nbformat_minor": 2
}
