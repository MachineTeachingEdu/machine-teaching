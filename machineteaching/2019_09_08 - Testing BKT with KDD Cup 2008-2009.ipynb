{
 "cells": [
  {
   "cell_type": "code",
   "execution_count": 1,
   "metadata": {},
   "outputs": [],
   "source": [
    "from spkit import bkt\n",
    "import pandas as pd\n",
    "import re\n",
    "import numpy as np\n",
    "from sklearn.metrics import roc_curve, auc\n",
    "import matplotlib.pyplot as plt\n",
    "import pickle"
   ]
  },
  {
   "cell_type": "markdown",
   "metadata": {},
   "source": [
    "### Reading created files"
   ]
  },
  {
   "cell_type": "code",
   "execution_count": 2,
   "metadata": {},
   "outputs": [],
   "source": [
    "folder = 'data/kdd/2008-2009'"
   ]
  },
  {
   "cell_type": "markdown",
   "metadata": {},
   "source": [
    "### Preprocessing\n",
    "Transform dataframe in a format understood by the BKT module"
   ]
  },
  {
   "cell_type": "code",
   "execution_count": 4,
   "metadata": {},
   "outputs": [],
   "source": [
    "with open('%s/kdd_2008_2009_train_data.pkl' % folder, 'rb') as pklfile:\n",
    "    data = pickle.load(pklfile)\n",
    "with open('%s/kdd_2008_2009_q_matrix.pkl' % folder, 'rb') as pklfile:\n",
    "    q_matrix = pickle.load(pklfile)\n",
    "with open('%s/kdd_2008_2009_students.pkl' % folder, 'rb') as pklfile:\n",
    "    students = pickle.load(pklfile)\n",
    "with open('%s/kdd_2008_2009_kcs.pkl' % folder, 'rb') as pklfile:\n",
    "    kcs = pickle.load(pklfile)"
   ]
  },
  {
   "cell_type": "markdown",
   "metadata": {},
   "source": [
    "## Fit model"
   ]
  },
  {
   "cell_type": "code",
   "execution_count": 5,
   "metadata": {},
   "outputs": [
    {
     "name": "stdout",
     "output_type": "stream",
     "text": [
      "Wall time: 4min 16s\n"
     ]
    },
    {
     "data": {
      "text/plain": [
       "<spkit.bkt.BKT at 0xb4a5e89888>"
      ]
     },
     "execution_count": 5,
     "metadata": {},
     "output_type": "execute_result"
    }
   ],
   "source": [
    "%%time\n",
    "# Instantiate model\n",
    "model = bkt.BKT()\n",
    "model.fit(data, q_matrix)"
   ]
  },
  {
   "cell_type": "code",
   "execution_count": 8,
   "metadata": {},
   "outputs": [],
   "source": [
    "with open('%s/kdd_2008_2009_bkt_model.pkl' % folder, 'wb') as pklfile:\n",
    "    pickle.dump(model, pklfile)"
   ]
  },
  {
   "cell_type": "markdown",
   "metadata": {},
   "source": [
    "### Calculate score"
   ]
  },
  {
   "cell_type": "code",
   "execution_count": 7,
   "metadata": {},
   "outputs": [
    {
     "name": "stderr",
     "output_type": "stream",
     "text": [
      "C:\\Users\\lmoraes\\Miniconda3\\envs\\py3\\lib\\site-packages\\sklearn\\metrics\\ranking.py:651: UndefinedMetricWarning: No negative samples in y_true, false positive value should be meaningless\n",
      "  UndefinedMetricWarning)\n",
      "C:\\Users\\lmoraes\\Miniconda3\\envs\\py3\\lib\\site-packages\\sklearn\\metrics\\ranking.py:113: RuntimeWarning: invalid value encountered in less\n",
      "  if np.any(dx < 0):\n",
      "C:\\Users\\lmoraes\\Miniconda3\\envs\\py3\\lib\\site-packages\\sklearn\\metrics\\ranking.py:659: UndefinedMetricWarning: No positive samples in y_true, true positive value should be meaningless\n",
      "  UndefinedMetricWarning)\n"
     ]
    },
    {
     "name": "stdout",
     "output_type": "stream",
     "text": [
      "Wall time: 19min 52s\n"
     ]
    }
   ],
   "source": [
    "%%time\n",
    "data_arr = np.asarray(data)\n",
    "rmse = 0\n",
    "n = 0\n",
    "score_df = []\n",
    "learning_state = {}\n",
    "outcome_all = []\n",
    "predicted_proba = []\n",
    "for student in students:\n",
    "    student_idx = np.where(data_arr[:,1] == student)\n",
    "    outcome = data_arr[student_idx, 0].astype('int64')\n",
    "    outcome_all += outcome.tolist()[0]\n",
    "    question_id = data_arr[student_idx, 2].astype('int64')\n",
    "    data_student = np.vstack((outcome, question_id)).T.astype('int64').tolist()\n",
    "    predicted = model.predict_proba(data_student, q_matrix)\n",
    "    predicted_proba += predicted[:,1].tolist()\n",
    "    s_ll, s_aic, s_bic, s_rmse, s_acc = model.score()\n",
    "    fpr, tpr, _ = roc_curve(outcome.flatten(), predicted[:,1], pos_label=1)\n",
    "    auc_score = auc(fpr, tpr)\n",
    "    score_df.append({\"student\": student,\n",
    "                     \"AIC\": s_aic,\n",
    "                     \"BIC\": s_bic,\n",
    "                     \"RMSE\": s_rmse,\n",
    "                     \"Acc\": s_acc,\n",
    "                     \"n questions\": model.n_questions,\n",
    "                     \"LL\": s_ll,\n",
    "                     \"correct_outcome\": np.where(outcome == 1)[1].shape[0],\n",
    "                     \"incorrect_outcome\": np.where(outcome == 0)[1].shape[0],\n",
    "                     \"AUC\": auc_score})\n",
    "    learning_state[student] = model.get_learning_state()"
   ]
  },
  {
   "cell_type": "code",
   "execution_count": 9,
   "metadata": {},
   "outputs": [],
   "source": [
    "score = pd.DataFrame.from_dict(score_df)"
   ]
  },
  {
   "cell_type": "code",
   "execution_count": 10,
   "metadata": {},
   "outputs": [],
   "source": [
    "with open('%s/kdd_2008_2009_bkt_score.pkl' % folder, 'wb') as pklfile:\n",
    "    pickle.dump(score, pklfile)\n",
    "with open('%s/kdd_2008_2009_bkt_learning_state.pkl' % folder, 'wb') as pklfile:\n",
    "    pickle.dump(learning_state, pklfile)"
   ]
  },
  {
   "cell_type": "code",
   "execution_count": 11,
   "metadata": {},
   "outputs": [],
   "source": [
    "rmse_train = np.sqrt((score['RMSE']**2*score['n questions']).sum()/score['n questions'].sum())\n",
    "rmse_avg = score['RMSE'].mean()\n",
    "rmse_std = score['RMSE'].std()"
   ]
  },
  {
   "cell_type": "code",
   "execution_count": 12,
   "metadata": {},
   "outputs": [
    {
     "name": "stdout",
     "output_type": "stream",
     "text": [
      "RMSE de treino: 0.36\n",
      "RMSE médio: 0.40 +- 0.07\n"
     ]
    }
   ],
   "source": [
    "print(\"RMSE de treino: %.2f\" % rmse_train)\n",
    "print(\"RMSE médio: %.2f +- %.2f\" % (rmse_avg, rmse_std))"
   ]
  },
  {
   "cell_type": "code",
   "execution_count": 13,
   "metadata": {},
   "outputs": [],
   "source": [
    "acc_train = (score['Acc']*score['n questions']).sum()/score['n questions'].sum()\n",
    "acc_avg = score['Acc'].mean()\n",
    "acc_std = score['Acc'].std()"
   ]
  },
  {
   "cell_type": "code",
   "execution_count": 14,
   "metadata": {},
   "outputs": [
    {
     "name": "stdout",
     "output_type": "stream",
     "text": [
      "Acc de treino: 0.81\n",
      "Acc médio: 0.74 +- 0.15\n"
     ]
    }
   ],
   "source": [
    "print(\"Acc de treino: %.2f\" % acc_train)\n",
    "print(\"Acc médio: %.2f +- %.2f\" % (acc_avg, acc_std))"
   ]
  },
  {
   "cell_type": "code",
   "execution_count": 15,
   "metadata": {},
   "outputs": [
    {
     "name": "stdout",
     "output_type": "stream",
     "text": [
      "Youden's optimum threshold: 0.83\n"
     ]
    }
   ],
   "source": [
    "fpr, tpr, thresholds = roc_curve(outcome_all, predicted_proba, pos_label=1)\n",
    "auc_score = auc(fpr, tpr)\n",
    "auc_avg = score['AUC'].mean()\n",
    "auc_std = score['AUC'].std()\n",
    "\n",
    "# Sensitivity = tpr = TP/(TP+FN)\n",
    "# Specificity = 1-fpr = TN/(TN+FP)\n",
    "# Youden's index = Sensitivity + Specificity - 1 = tpr + (1-fpr) - 1 = tpr - fpr\n",
    "J_stats = tpr - fpr\n",
    "J_opt_thresholds = thresholds[np.argmax(J_stats)]\n",
    "print('Youden\\'s optimum threshold: %.2f' % J_opt_thresholds)"
   ]
  },
  {
   "cell_type": "code",
   "execution_count": 16,
   "metadata": {},
   "outputs": [
    {
     "name": "stdout",
     "output_type": "stream",
     "text": [
      "AUC de treino: 0.73\n",
      "AUC médio: 0.69 +- 0.09\n"
     ]
    }
   ],
   "source": [
    "print(\"AUC de treino: %.2f\" % auc_score)\n",
    "print(\"AUC médio: %.2f +- %.2f\" % (auc_avg, auc_std))"
   ]
  },
  {
   "cell_type": "markdown",
   "metadata": {},
   "source": [
    "Recalculating accuracy after adjusting cutoff point with Youden's Index"
   ]
  },
  {
   "cell_type": "code",
   "execution_count": 17,
   "metadata": {},
   "outputs": [
    {
     "data": {
      "text/plain": [
       "0.6294184678158816"
      ]
     },
     "execution_count": 17,
     "metadata": {},
     "output_type": "execute_result"
    }
   ],
   "source": [
    "estimated_outcome = np.where(np.asarray(predicted_proba) > J_opt_thresholds, 1, 0)\n",
    "acc = (estimated_outcome == np.asarray(outcome_all)).sum()/score['n questions'].sum()\n",
    "acc"
   ]
  },
  {
   "cell_type": "code",
   "execution_count": 18,
   "metadata": {},
   "outputs": [],
   "source": [
    "# Save threshold\n",
    "with open('%s/kdd_2008_2009_bkt_threshold.pkl' % folder, 'wb') as pklfile:\n",
    "    pickle.dump(J_opt_thresholds, pklfile)"
   ]
  },
  {
   "cell_type": "code",
   "execution_count": 19,
   "metadata": {},
   "outputs": [
    {
     "data": {
      "image/png": "[encoded data removed]",
      "text/plain": [
       "<Figure size 432x288 with 1 Axes>"
      ]
     },
     "metadata": {
      "needs_background": "light"
     },
     "output_type": "display_data"
    }
   ],
   "source": [
    "plt.figure()\n",
    "lw = 2\n",
    "plt.plot(fpr, tpr, color='darkorange',\n",
    "         lw=lw, label='ROC curve (area = %0.2f)' % auc_score)\n",
    "plt.plot([0, 1], [0, 1], color='navy', lw=lw, linestyle='--')\n",
    "plt.xlim([0.0, 1.0])\n",
    "plt.ylim([0.0, 1.05])\n",
    "plt.xlabel('False Positive Rate')\n",
    "plt.ylabel('True Positive Rate')\n",
    "plt.title('Receiver operating characteristic example')\n",
    "plt.legend(loc=\"lower right\")\n",
    "plt.show()"
   ]
  },
  {
   "cell_type": "markdown",
   "metadata": {},
   "source": [
    "### Comparing accuracy to random baseline"
   ]
  },
  {
   "cell_type": "code",
   "execution_count": 20,
   "metadata": {},
   "outputs": [
    {
     "data": {
      "text/plain": [
       "0.7383793607618093"
      ]
     },
     "execution_count": 20,
     "metadata": {},
     "output_type": "execute_result"
    }
   ],
   "source": [
    "n_questions = score['n questions'].sum()\n",
    "p = score['correct_outcome'].sum()/n_questions\n",
    "# Save p\n",
    "with open('%s/kdd_2008_2009_bkt_p.pkl' % folder, 'wb') as pklfile:\n",
    "    pickle.dump(p, pklfile)\n",
    "\n",
    "estimated_outcome = np.random.binomial(1, p, n_questions)\n",
    "acc = (estimated_outcome == np.asarray(outcome_all)).sum()/score['n questions'].sum()\n",
    "acc"
   ]
  },
  {
   "cell_type": "code",
   "execution_count": 21,
   "metadata": {},
   "outputs": [
    {
     "data": {
      "text/html": [
       "<div>\n",
       "<style scoped>\n",
       "    .dataframe tbody tr th:only-of-type {\n",
       "        vertical-align: middle;\n",
       "    }\n",
       "\n",
       "    .dataframe tbody tr th {\n",
       "        vertical-align: top;\n",
       "    }\n",
       "\n",
       "    .dataframe thead th {\n",
       "        text-align: right;\n",
       "    }\n",
       "</style>\n",
       "<table border=\"1\" class=\"dataframe\">\n",
       "  <thead>\n",
       "    <tr style=\"text-align: right;\">\n",
       "      <th></th>\n",
       "      <th>student</th>\n",
       "      <th>AIC</th>\n",
       "      <th>BIC</th>\n",
       "      <th>RMSE</th>\n",
       "      <th>Acc</th>\n",
       "      <th>n questions</th>\n",
       "      <th>LL</th>\n",
       "      <th>correct_outcome</th>\n",
       "      <th>incorrect_outcome</th>\n",
       "      <th>AUC</th>\n",
       "    </tr>\n",
       "  </thead>\n",
       "  <tbody>\n",
       "    <tr>\n",
       "      <td>312</td>\n",
       "      <td>h4N48ldyLn</td>\n",
       "      <td>911.648029</td>\n",
       "      <td>1542.602399</td>\n",
       "      <td>0.419527</td>\n",
       "      <td>0.677419</td>\n",
       "      <td>31</td>\n",
       "      <td>-15.824014</td>\n",
       "      <td>19</td>\n",
       "      <td>12</td>\n",
       "      <td>0.890351</td>\n",
       "    </tr>\n",
       "    <tr>\n",
       "      <td>570</td>\n",
       "      <td>w0FMzJORlK</td>\n",
       "      <td>1056.276865</td>\n",
       "      <td>2610.968240</td>\n",
       "      <td>0.321204</td>\n",
       "      <td>0.865613</td>\n",
       "      <td>253</td>\n",
       "      <td>-88.138432</td>\n",
       "      <td>227</td>\n",
       "      <td>26</td>\n",
       "      <td>0.875297</td>\n",
       "    </tr>\n",
       "    <tr>\n",
       "      <td>520</td>\n",
       "      <td>k71nQKqIB3</td>\n",
       "      <td>913.672191</td>\n",
       "      <td>1280.286062</td>\n",
       "      <td>0.625189</td>\n",
       "      <td>0.176471</td>\n",
       "      <td>17</td>\n",
       "      <td>-16.836095</td>\n",
       "      <td>14</td>\n",
       "      <td>3</td>\n",
       "      <td>0.857143</td>\n",
       "    </tr>\n",
       "    <tr>\n",
       "      <td>411</td>\n",
       "      <td>b4WRCgbjkN</td>\n",
       "      <td>1594.558794</td>\n",
       "      <td>3597.662264</td>\n",
       "      <td>0.406271</td>\n",
       "      <td>0.796006</td>\n",
       "      <td>701</td>\n",
       "      <td>-357.279397</td>\n",
       "      <td>302</td>\n",
       "      <td>399</td>\n",
       "      <td>0.856010</td>\n",
       "    </tr>\n",
       "    <tr>\n",
       "      <td>370</td>\n",
       "      <td>h31E235Th5</td>\n",
       "      <td>966.691522</td>\n",
       "      <td>1936.756274</td>\n",
       "      <td>0.486018</td>\n",
       "      <td>0.552239</td>\n",
       "      <td>67</td>\n",
       "      <td>-43.345761</td>\n",
       "      <td>49</td>\n",
       "      <td>18</td>\n",
       "      <td>0.837868</td>\n",
       "    </tr>\n",
       "    <tr>\n",
       "      <td>...</td>\n",
       "      <td>...</td>\n",
       "      <td>...</td>\n",
       "      <td>...</td>\n",
       "      <td>...</td>\n",
       "      <td>...</td>\n",
       "      <td>...</td>\n",
       "      <td>...</td>\n",
       "      <td>...</td>\n",
       "      <td>...</td>\n",
       "      <td>...</td>\n",
       "    </tr>\n",
       "    <tr>\n",
       "      <td>284</td>\n",
       "      <td>XBhl87k165</td>\n",
       "      <td>925.561312</td>\n",
       "      <td>1461.866675</td>\n",
       "      <td>0.594953</td>\n",
       "      <td>0.200000</td>\n",
       "      <td>25</td>\n",
       "      <td>-22.780656</td>\n",
       "      <td>19</td>\n",
       "      <td>6</td>\n",
       "      <td>0.219298</td>\n",
       "    </tr>\n",
       "    <tr>\n",
       "      <td>46</td>\n",
       "      <td>6dGeA2ZpO4</td>\n",
       "      <td>899.074017</td>\n",
       "      <td>1032.211458</td>\n",
       "      <td>0.609739</td>\n",
       "      <td>0.300000</td>\n",
       "      <td>10</td>\n",
       "      <td>-9.537009</td>\n",
       "      <td>7</td>\n",
       "      <td>3</td>\n",
       "      <td>0.190476</td>\n",
       "    </tr>\n",
       "    <tr>\n",
       "      <td>174</td>\n",
       "      <td>X223hIsDU4</td>\n",
       "      <td>898.719986</td>\n",
       "      <td>933.674264</td>\n",
       "      <td>0.689401</td>\n",
       "      <td>0.000000</td>\n",
       "      <td>8</td>\n",
       "      <td>-9.359993</td>\n",
       "      <td>8</td>\n",
       "      <td>0</td>\n",
       "      <td>NaN</td>\n",
       "    </tr>\n",
       "    <tr>\n",
       "      <td>190</td>\n",
       "      <td>EpDb06UO89</td>\n",
       "      <td>956.604856</td>\n",
       "      <td>1761.207070</td>\n",
       "      <td>0.565122</td>\n",
       "      <td>0.347826</td>\n",
       "      <td>46</td>\n",
       "      <td>-38.302428</td>\n",
       "      <td>46</td>\n",
       "      <td>0</td>\n",
       "      <td>NaN</td>\n",
       "    </tr>\n",
       "    <tr>\n",
       "      <td>462</td>\n",
       "      <td>XkcoMK8tfF</td>\n",
       "      <td>909.952517</td>\n",
       "      <td>1249.891555</td>\n",
       "      <td>0.606269</td>\n",
       "      <td>0.187500</td>\n",
       "      <td>16</td>\n",
       "      <td>-14.976259</td>\n",
       "      <td>16</td>\n",
       "      <td>0</td>\n",
       "      <td>NaN</td>\n",
       "    </tr>\n",
       "  </tbody>\n",
       "</table>\n",
       "<p>574 rows × 10 columns</p>\n",
       "</div>"
      ],
      "text/plain": [
       "        student          AIC          BIC      RMSE       Acc  n questions  \\\n",
       "312  h4N48ldyLn   911.648029  1542.602399  0.419527  0.677419           31   \n",
       "570  w0FMzJORlK  1056.276865  2610.968240  0.321204  0.865613          253   \n",
       "520  k71nQKqIB3   913.672191  1280.286062  0.625189  0.176471           17   \n",
       "411  b4WRCgbjkN  1594.558794  3597.662264  0.406271  0.796006          701   \n",
       "370  h31E235Th5   966.691522  1936.756274  0.486018  0.552239           67   \n",
       "..          ...          ...          ...       ...       ...          ...   \n",
       "284  XBhl87k165   925.561312  1461.866675  0.594953  0.200000           25   \n",
       "46   6dGeA2ZpO4   899.074017  1032.211458  0.609739  0.300000           10   \n",
       "174  X223hIsDU4   898.719986   933.674264  0.689401  0.000000            8   \n",
       "190  EpDb06UO89   956.604856  1761.207070  0.565122  0.347826           46   \n",
       "462  XkcoMK8tfF   909.952517  1249.891555  0.606269  0.187500           16   \n",
       "\n",
       "             LL  correct_outcome  incorrect_outcome       AUC  \n",
       "312  -15.824014               19                 12  0.890351  \n",
       "570  -88.138432              227                 26  0.875297  \n",
       "520  -16.836095               14                  3  0.857143  \n",
       "411 -357.279397              302                399  0.856010  \n",
       "370  -43.345761               49                 18  0.837868  \n",
       "..          ...              ...                ...       ...  \n",
       "284  -22.780656               19                  6  0.219298  \n",
       "46    -9.537009                7                  3  0.190476  \n",
       "174   -9.359993                8                  0       NaN  \n",
       "190  -38.302428               46                  0       NaN  \n",
       "462  -14.976259               16                  0       NaN  \n",
       "\n",
       "[574 rows x 10 columns]"
      ]
     },
     "execution_count": 21,
     "metadata": {},
     "output_type": "execute_result"
    }
   ],
   "source": [
    "score.sort_values([\"AUC\"], ascending=False)"
   ]
  },
  {
   "cell_type": "code",
   "execution_count": 22,
   "metadata": {},
   "outputs": [
    {
     "data": {
      "text/html": [
       "<div>\n",
       "<style scoped>\n",
       "    .dataframe tbody tr th:only-of-type {\n",
       "        vertical-align: middle;\n",
       "    }\n",
       "\n",
       "    .dataframe tbody tr th {\n",
       "        vertical-align: top;\n",
       "    }\n",
       "\n",
       "    .dataframe thead th {\n",
       "        text-align: right;\n",
       "    }\n",
       "</style>\n",
       "<table border=\"1\" class=\"dataframe\">\n",
       "  <thead>\n",
       "    <tr style=\"text-align: right;\">\n",
       "      <th></th>\n",
       "      <th>student</th>\n",
       "      <th>AIC</th>\n",
       "      <th>BIC</th>\n",
       "      <th>RMSE</th>\n",
       "      <th>Acc</th>\n",
       "      <th>n questions</th>\n",
       "      <th>LL</th>\n",
       "      <th>correct_outcome</th>\n",
       "      <th>incorrect_outcome</th>\n",
       "      <th>AUC</th>\n",
       "    </tr>\n",
       "  </thead>\n",
       "  <tbody>\n",
       "    <tr>\n",
       "      <td>193</td>\n",
       "      <td>hwF4tyWU50</td>\n",
       "      <td>2461.291993</td>\n",
       "      <td>4963.203407</td>\n",
       "      <td>0.327767</td>\n",
       "      <td>0.865932</td>\n",
       "      <td>2178</td>\n",
       "      <td>-790.645997</td>\n",
       "      <td>1956</td>\n",
       "      <td>222</td>\n",
       "      <td>0.718024</td>\n",
       "    </tr>\n",
       "    <tr>\n",
       "      <td>570</td>\n",
       "      <td>w0FMzJORlK</td>\n",
       "      <td>1056.276865</td>\n",
       "      <td>2610.968240</td>\n",
       "      <td>0.321204</td>\n",
       "      <td>0.865613</td>\n",
       "      <td>253</td>\n",
       "      <td>-88.138432</td>\n",
       "      <td>227</td>\n",
       "      <td>26</td>\n",
       "      <td>0.875297</td>\n",
       "    </tr>\n",
       "    <tr>\n",
       "      <td>41</td>\n",
       "      <td>mNzo8mGzu9</td>\n",
       "      <td>2497.059757</td>\n",
       "      <td>4989.785033</td>\n",
       "      <td>0.338710</td>\n",
       "      <td>0.854665</td>\n",
       "      <td>2133</td>\n",
       "      <td>-808.529878</td>\n",
       "      <td>1883</td>\n",
       "      <td>250</td>\n",
       "      <td>0.715512</td>\n",
       "    </tr>\n",
       "    <tr>\n",
       "      <td>92</td>\n",
       "      <td>5x5fHvFFLv</td>\n",
       "      <td>1877.660522</td>\n",
       "      <td>4167.813227</td>\n",
       "      <td>0.334378</td>\n",
       "      <td>0.849926</td>\n",
       "      <td>1346</td>\n",
       "      <td>-498.830261</td>\n",
       "      <td>1217</td>\n",
       "      <td>129</td>\n",
       "      <td>0.710554</td>\n",
       "    </tr>\n",
       "    <tr>\n",
       "      <td>362</td>\n",
       "      <td>YvD7H8XduF</td>\n",
       "      <td>1732.633721</td>\n",
       "      <td>3941.517633</td>\n",
       "      <td>0.338708</td>\n",
       "      <td>0.848972</td>\n",
       "      <td>1119</td>\n",
       "      <td>-426.316861</td>\n",
       "      <td>995</td>\n",
       "      <td>124</td>\n",
       "      <td>0.721863</td>\n",
       "    </tr>\n",
       "    <tr>\n",
       "      <td>...</td>\n",
       "      <td>...</td>\n",
       "      <td>...</td>\n",
       "      <td>...</td>\n",
       "      <td>...</td>\n",
       "      <td>...</td>\n",
       "      <td>...</td>\n",
       "      <td>...</td>\n",
       "      <td>...</td>\n",
       "      <td>...</td>\n",
       "      <td>...</td>\n",
       "    </tr>\n",
       "    <tr>\n",
       "      <td>462</td>\n",
       "      <td>XkcoMK8tfF</td>\n",
       "      <td>909.952517</td>\n",
       "      <td>1249.891555</td>\n",
       "      <td>0.606269</td>\n",
       "      <td>0.187500</td>\n",
       "      <td>16</td>\n",
       "      <td>-14.976259</td>\n",
       "      <td>16</td>\n",
       "      <td>0</td>\n",
       "      <td>NaN</td>\n",
       "    </tr>\n",
       "    <tr>\n",
       "      <td>255</td>\n",
       "      <td>68xd8R3v7U</td>\n",
       "      <td>902.337864</td>\n",
       "      <td>1077.411784</td>\n",
       "      <td>0.633619</td>\n",
       "      <td>0.181818</td>\n",
       "      <td>11</td>\n",
       "      <td>-11.168932</td>\n",
       "      <td>9</td>\n",
       "      <td>2</td>\n",
       "      <td>0.638889</td>\n",
       "    </tr>\n",
       "    <tr>\n",
       "      <td>520</td>\n",
       "      <td>k71nQKqIB3</td>\n",
       "      <td>913.672191</td>\n",
       "      <td>1280.286062</td>\n",
       "      <td>0.625189</td>\n",
       "      <td>0.176471</td>\n",
       "      <td>17</td>\n",
       "      <td>-16.836095</td>\n",
       "      <td>14</td>\n",
       "      <td>3</td>\n",
       "      <td>0.857143</td>\n",
       "    </tr>\n",
       "    <tr>\n",
       "      <td>146</td>\n",
       "      <td>4k3099QrCN</td>\n",
       "      <td>894.771387</td>\n",
       "      <td>870.971853</td>\n",
       "      <td>0.648615</td>\n",
       "      <td>0.142857</td>\n",
       "      <td>7</td>\n",
       "      <td>-7.385694</td>\n",
       "      <td>6</td>\n",
       "      <td>1</td>\n",
       "      <td>0.333333</td>\n",
       "    </tr>\n",
       "    <tr>\n",
       "      <td>174</td>\n",
       "      <td>X223hIsDU4</td>\n",
       "      <td>898.719986</td>\n",
       "      <td>933.674264</td>\n",
       "      <td>0.689401</td>\n",
       "      <td>0.000000</td>\n",
       "      <td>8</td>\n",
       "      <td>-9.359993</td>\n",
       "      <td>8</td>\n",
       "      <td>0</td>\n",
       "      <td>NaN</td>\n",
       "    </tr>\n",
       "  </tbody>\n",
       "</table>\n",
       "<p>574 rows × 10 columns</p>\n",
       "</div>"
      ],
      "text/plain": [
       "        student          AIC          BIC      RMSE       Acc  n questions  \\\n",
       "193  hwF4tyWU50  2461.291993  4963.203407  0.327767  0.865932         2178   \n",
       "570  w0FMzJORlK  1056.276865  2610.968240  0.321204  0.865613          253   \n",
       "41   mNzo8mGzu9  2497.059757  4989.785033  0.338710  0.854665         2133   \n",
       "92   5x5fHvFFLv  1877.660522  4167.813227  0.334378  0.849926         1346   \n",
       "362  YvD7H8XduF  1732.633721  3941.517633  0.338708  0.848972         1119   \n",
       "..          ...          ...          ...       ...       ...          ...   \n",
       "462  XkcoMK8tfF   909.952517  1249.891555  0.606269  0.187500           16   \n",
       "255  68xd8R3v7U   902.337864  1077.411784  0.633619  0.181818           11   \n",
       "520  k71nQKqIB3   913.672191  1280.286062  0.625189  0.176471           17   \n",
       "146  4k3099QrCN   894.771387   870.971853  0.648615  0.142857            7   \n",
       "174  X223hIsDU4   898.719986   933.674264  0.689401  0.000000            8   \n",
       "\n",
       "             LL  correct_outcome  incorrect_outcome       AUC  \n",
       "193 -790.645997             1956                222  0.718024  \n",
       "570  -88.138432              227                 26  0.875297  \n",
       "41  -808.529878             1883                250  0.715512  \n",
       "92  -498.830261             1217                129  0.710554  \n",
       "362 -426.316861              995                124  0.721863  \n",
       "..          ...              ...                ...       ...  \n",
       "462  -14.976259               16                  0       NaN  \n",
       "255  -11.168932                9                  2  0.638889  \n",
       "520  -16.836095               14                  3  0.857143  \n",
       "146   -7.385694                6                  1  0.333333  \n",
       "174   -9.359993                8                  0       NaN  \n",
       "\n",
       "[574 rows x 10 columns]"
      ]
     },
     "execution_count": 22,
     "metadata": {},
     "output_type": "execute_result"
    }
   ],
   "source": [
    "score.sort_values([\"Acc\"], ascending=False)"
   ]
  }
 ],
 "metadata": {
  "kernelspec": {
   "display_name": "Python 3",
   "language": "python",
   "name": "python3"
  },
  "language_info": {
   "codemirror_mode": {
    "name": "ipython",
    "version": 3
   },
   "file_extension": ".py",
   "mimetype": "text/x-python",
   "name": "python",
   "nbconvert_exporter": "python",
   "pygments_lexer": "ipython3",
   "version": "3.7.4"
  }
 },
 "nbformat": 4,
 "nbformat_minor": 2
}
