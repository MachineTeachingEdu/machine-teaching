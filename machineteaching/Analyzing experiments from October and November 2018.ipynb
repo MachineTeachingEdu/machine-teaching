{
 "cells": [
  {
   "cell_type": "markdown",
   "metadata": {},
   "source": [
    "### Next sample strategy\n",
    "\n",
    "Considered strategies used to propose the next problem:\n",
    "1. Randomly sample from the dataset D. Does not model the student and is therefore unable to adapt to their ability. May present redundant teaching examples of concepts that have already been learned by the student and not reinforce concepts that the student has shown to be uncertain about.\n",
    "2. ~~Worst predicted. Related to uncertainty sampling used in Active Learning. Selects the next teaching image whose prediction deviates most from the ground truth. Prone to proposing outliers. In the learning to program problem, maybe it presents the hardest exercises?~~\n",
    "3. Expected Error Reduction. Chooses the teaching image which, if labeled correctly, would have the greatest reduction on the future error over the images that are not in the teaching set. Student’s conditional distribution given the teaching set can be approximated using Gaussian Random Field."
   ]
  },
  {
   "cell_type": "markdown",
   "metadata": {},
   "source": [
    "#### Import libraries"
   ]
  },
  {
   "cell_type": "code",
   "execution_count": 14,
   "metadata": {
    "collapsed": true
   },
   "outputs": [],
   "source": [
    "# Input\n",
    "# from db import PythonProblems\n",
    "import io\n",
    "\n",
    "#DB\n",
    "from questions.models import Solution, Cluster, UserLog\n",
    "from django.contrib.auth.models import User\n",
    "from django.db.models.functions import Trunc\n",
    "from django.db.models import DateField\n",
    "\n",
    "# Helpers\n",
    "import numpy as np\n",
    "import pickle\n",
    "import pandas as pd\n",
    "\n",
    "# Preprocessing\n",
    "import tokenize\n",
    "from sklearn.feature_extraction.text import CountVectorizer, TfidfVectorizer\n",
    "\n",
    "# Distance\n",
    "# from scipy.spatial.distance import pdist, squareform\n",
    "from sklearn.metrics.pairwise import cosine_similarity, cosine_distances\n",
    "\n",
    "# Learning\n",
    "from clustering import Clustering\n",
    "from plot2d import Plot2D\n",
    "from questions.sampling import get_next_sample\n",
    "\n",
    "# Visualization\n",
    "import matplotlib.pyplot as plt\n",
    "import seaborn as sns\n",
    "from generate_pdf import PDFReport\n",
    "\n",
    "%matplotlib inline"
   ]
  },
  {
   "cell_type": "code",
   "execution_count": 15,
   "metadata": {},
   "outputs": [
    {
     "name": "stdout",
     "output_type": "stream",
     "text": [
      "591\n"
     ]
    },
    {
     "data": {
      "text/plain": [
       "132"
      ]
     },
     "execution_count": 15,
     "metadata": {},
     "output_type": "execute_result"
    }
   ],
   "source": [
    "## Cleaning database\n",
    "last_id = 132\n",
    "problems = Problem.objects.filter(id__gt=132)\n",
    "solutions_obj = Solution.objects.filter(problem__in=problems).update(ignore=True)\n",
    "print(problems.count())\n",
    "problems = Problem.objects.filter(id__lte=132)\n",
    "problems.count()"
   ]
  },
  {
   "cell_type": "code",
   "execution_count": 16,
   "metadata": {
    "collapsed": true
   },
   "outputs": [],
   "source": [
    "solutions_obj = Solution.objects.filter(problem__in=problems, ignore=False).order_by('id')"
   ]
  },
  {
   "cell_type": "code",
   "execution_count": 17,
   "metadata": {},
   "outputs": [
    {
     "data": {
      "text/plain": [
       "54"
      ]
     },
     "execution_count": 17,
     "metadata": {},
     "output_type": "execute_result"
    }
   ],
   "source": [
    "solutions_obj.count()"
   ]
  },
  {
   "cell_type": "code",
   "execution_count": 18,
   "metadata": {},
   "outputs": [
    {
     "name": "stdout",
     "output_type": "stream",
     "text": [
      "Got 54 documents\n",
      "Success in parsing all documents! You may go on!\n"
     ]
    }
   ],
   "source": [
    "removed_itens = ['NEWLINE', 'STRING', 'ENDMARKER', 'NUMBER', 'INDENT', 'DEDENT', \"NL\", 'COMMENT', 'ERRORTOKEN']\n",
    "allowed_itens = ['NAME', 'OP']\n",
    "# cursor = db.conn.cursor()\n",
    "docs = []\n",
    "docs_id = []\n",
    "# doc_category = []\n",
    "errors = []\n",
    "questions = []\n",
    "solutions = []\n",
    "\n",
    "# lendo os dados\n",
    "# cursor.execute(\"\"\"\n",
    "# SELECT solution.id, solution.content, problem.content, problem.category FROM solution, problem where solution.problem_id = problem.id;\n",
    "# \"\"\")\n",
    "\n",
    "\n",
    "for sol in solutions_obj:\n",
    "    file = io.StringIO(sol.content)\n",
    "    doc = []\n",
    "    try:\n",
    "        for item in tokenize.generate_tokens(file.readline):\n",
    "            if tokenize.tok_name[item[0]] not in removed_itens:\n",
    "                if tokenize.tok_name[item[0]] in allowed_itens:\n",
    "                    doc.append(item[1])\n",
    "                else:\n",
    "                    print(\"%s %s\" % (tokenize.tok_name[item[0]], item[1]))\n",
    "    except (IndentationError, tokenize.TokenError):\n",
    "        errors.append(\"Please, fix solution %d before continuing\" % (sol.id))\n",
    "    \n",
    "    if doc == []:\n",
    "        continue\n",
    "    docs.append(' '.join(doc))\n",
    "    docs_id.append(sol.id)\n",
    "#     doc_category.append(row[-1])\n",
    "    questions.append(sol.problem.content)\n",
    "    solutions.append(sol.content)\n",
    "\n",
    "print(\"Got %d documents\" %(solutions_obj.count()))\n",
    "\n",
    "if not errors:\n",
    "    print(\"Success in parsing all documents! You may go on!\")\n",
    "else:\n",
    "    for item in errors:\n",
    "        print(item)"
   ]
  },
  {
   "cell_type": "markdown",
   "metadata": {},
   "source": [
    "***Limitação do parser: variável e nome reservado são do mesmo tipo. Não consigo separar sem fazer uma pré-lista. Mas pode ser o critério para ajustar o CountVectorizer***"
   ]
  },
  {
   "cell_type": "markdown",
   "metadata": {},
   "source": [
    "### Preprocessing solutions into bag of words ###"
   ]
  },
  {
   "cell_type": "code",
   "execution_count": 19,
   "metadata": {},
   "outputs": [
    {
     "data": {
      "text/plain": [
       "(54, 17)"
      ]
     },
     "execution_count": 19,
     "metadata": {},
     "output_type": "execute_result"
    }
   ],
   "source": [
    "# Initialize the \"CountVectorizer\" object, which is scikit-learn's\n",
    "# bag of words tool.  \n",
    "vectorizer = CountVectorizer(analyzer = \"word\",   \\\n",
    "                             tokenizer = None,    \\\n",
    "                             preprocessor = None, \\\n",
    "#                              stop_words = ['print'],   \\\n",
    "                             #max_features = 26d,\n",
    "                             binary=False,\n",
    "                             min_df=0.1\n",
    "                            ) \n",
    "\n",
    "# fit_transform() does two functions: First, it fits the model\n",
    "# and learns the vocabulary; second, it transforms our training data\n",
    "# into feature vectors. The input to fit_transform should be a list of \n",
    "# strings.\n",
    "\n",
    "train_data_features = vectorizer.fit_transform(docs)\n",
    "\n",
    "# Numpy arrays are easy to work with, so convert the result to an \n",
    "# array\n",
    "# Document-term matrix\n",
    "train_data_features = train_data_features.toarray()\n",
    "train_data_features.shape"
   ]
  },
  {
   "cell_type": "code",
   "execution_count": 20,
   "metadata": {},
   "outputs": [
    {
     "data": {
      "text/plain": [
       "['append',\n",
       " 'def',\n",
       " 'elif',\n",
       " 'else',\n",
       " 'false',\n",
       " 'for',\n",
       " 'if',\n",
       " 'in',\n",
       " 'int',\n",
       " 'join',\n",
       " 'len',\n",
       " 'not',\n",
       " 'number',\n",
       " 'range',\n",
       " 'return',\n",
       " 'split',\n",
       " 'true']"
      ]
     },
     "execution_count": 20,
     "metadata": {},
     "output_type": "execute_result"
    }
   ],
   "source": [
    "feature_names = vectorizer.get_feature_names()\n",
    "feature_names"
   ]
  },
  {
   "cell_type": "code",
   "execution_count": 21,
   "metadata": {},
   "outputs": [
    {
     "data": {
      "text/plain": [
       "(54,)"
      ]
     },
     "execution_count": 21,
     "metadata": {},
     "output_type": "execute_result"
    }
   ],
   "source": [
    "# Remove rows containing only zeros (weird exercises)\n",
    "solution_sample = train_data_features[~(train_data_features==0).all(1)]\n",
    "docs_id = np.asarray(docs_id)[~(train_data_features==0).all(1)]\n",
    "# doc_category = np.asarray(doc_category)[~(train_data_features==0).all(1)]\n",
    "questions = np.asarray(questions)[~(train_data_features==0).all(1)]\n",
    "docs_id.shape"
   ]
  },
  {
   "cell_type": "markdown",
   "metadata": {},
   "source": [
    "### Cluster solutions"
   ]
  },
  {
   "cell_type": "code",
   "execution_count": 22,
   "metadata": {},
   "outputs": [
    {
     "name": "stdout",
     "output_type": "stream",
     "text": [
      "2209808447\n"
     ]
    },
    {
     "data": {
      "image/png": "[encoded data removed]",
      "text/plain": [
       "<matplotlib.figure.Figure at 0x7f157953e8d0>"
      ]
     },
     "metadata": {},
     "output_type": "display_data"
    },
    {
     "name": "stdout",
     "output_type": "stream",
     "text": [
      "Count per class:\n",
      "Topic 1: 13\n",
      "Topic 2: 10\n",
      "Topic 3: 31\n"
     ]
    }
   ],
   "source": [
    "# clustering = Clustering(handler.X, )\n",
    "clustering = Clustering(solution_sample, 3)\n",
    "clustering.seed = 2209808447\n",
    "#2124056991\n",
    "#232156180\n",
    "#2539469571\n",
    "# clustering.seed = 0\n",
    "# clustering._generate_random_state()\n",
    "model, document_topic, word_topic = clustering.gaussian_mixture()\n",
    "print(clustering.seed)\n",
    "clustering.plot_topic_distribution()\n",
    "\n",
    "print(\"Count per class:\")\n",
    "counts = np.unique(clustering.document_topic.argmax(axis=1), return_counts=True)\n",
    "for i in range(clustering.k):\n",
    "    print(\"Topic %d: %d\" % ((i+1), counts[1][i]))"
   ]
  },
  {
   "cell_type": "code",
   "execution_count": 23,
   "metadata": {
    "collapsed": true
   },
   "outputs": [],
   "source": [
    "def print_top_words(topic_word, feature_names, n_top_words):\n",
    "    for topic_idx, topic in enumerate(topic_word):\n",
    "        message = \"Topic #%d: \" % (topic_idx+1)\n",
    "        message += \" \".join([feature_names[i]\n",
    "                             for i in topic.argsort()[:-n_top_words - 1:-1]])\n",
    "        print(message)\n",
    "    print()"
   ]
  },
  {
   "cell_type": "code",
   "execution_count": 24,
   "metadata": {},
   "outputs": [
    {
     "name": "stdout",
     "output_type": "stream",
     "text": [
      "\n",
      "Words per topic:\n",
      "Topic #1: int return def join split for in if append len\n",
      "Topic #2: elif return if def in else int number for not\n",
      "Topic #3: in return for def if range number else false true\n",
      "\n"
     ]
    }
   ],
   "source": [
    "print(\"\\nWords per topic:\")\n",
    "feature_names = vectorizer.get_feature_names()\n",
    "print_top_words(word_topic, feature_names, 10)"
   ]
  },
  {
   "cell_type": "markdown",
   "metadata": {},
   "source": [
    "### Get next sample\n",
    "\n",
    "Set initial matrices"
   ]
  },
  {
   "cell_type": "code",
   "execution_count": 25,
   "metadata": {},
   "outputs": [
    {
     "name": "stdout",
     "output_type": "stream",
     "text": [
      "(54, 3)\n",
      "(54, 54)\n"
     ]
    }
   ],
   "source": [
    "# Create X as an empty belief state (X is the machine's model of the student's distribution)\n",
    "X = np.zeros(clustering.document_topic.shape) # nS x nC\n",
    "print(X.shape)\n",
    "\n",
    "# Create Y as a document_topic matrix. For the first version, each document belongs to one topic\n",
    "Y_col = clustering.document_topic.argmax(axis=1) # nS x nC\n",
    "Y = np.zeros(clustering.document_topic.shape)\n",
    "for idx in range(Y.shape[0]):\n",
    "    Y[idx, Y_col[idx]] = 1\n",
    "\n",
    "# Create W as a similarity matrix\n",
    "W = cosine_similarity(clustering.X) # nS x nS\n",
    "print(W.shape)\n",
    "\n",
    "with open('similarity.pkl', 'wb') as picklefile:\n",
    "    pickle.dump(W, picklefile)\n",
    "\n",
    "# Set L as an unlabelled set\n",
    "L = []"
   ]
  },
  {
   "cell_type": "markdown",
   "metadata": {},
   "source": [
    "#### Visualization\n",
    "Reduce to 2 dimensions using TSNE"
   ]
  },
  {
   "cell_type": "code",
   "execution_count": 26,
   "metadata": {},
   "outputs": [
    {
     "name": "stdout",
     "output_type": "stream",
     "text": [
      "2519208671\n"
     ]
    },
    {
     "data": {
      "image/png": "[encoded data removed]",
      "text/plain": [
       "<matplotlib.figure.Figure at 0x7f15742a9588>"
      ]
     },
     "metadata": {},
     "output_type": "display_data"
    }
   ],
   "source": [
    "# %%time\n",
    "# cluster_names = ['', 'conditional', 'dict', 'file', 'function', 'list', 'loop'] #'math', 'string']\n",
    "cluster_names = [\"Topic %d\" % (i+1) for i in range(clustering.k)]\n",
    "doc_category = [\"Topic %d\" % (i+1) for i in clustering.document_topic.argmax(axis=1)]\n",
    "doc_category = [\"Topic %d\" % (i+1) for i in clustering.document_topic.argmax(axis=1)]\n",
    "handler = Plot2D(clusters=cluster_names, doc_category=doc_category, doc_id=docs_id)\n",
    "handler._generate_random_state()\n",
    "# handler.seed = 14875623\n",
    "handler.reduce(solution_sample)\n",
    "print(handler.seed)\n",
    "handler.plot(show_clusters=True)\n",
    "\n",
    "sample = handler.X\n",
    "y = clustering.document_topic.argmax(axis=1)\n",
    "\n",
    "# fig = plt.figure(figsize=(10,5))\n",
    "# plt.scatter(x=sample[:,0], y=sample[:,1], c=y, s=100)"
   ]
  },
  {
   "cell_type": "markdown",
   "metadata": {},
   "source": [
    "### Check if clusters are the same"
   ]
  },
  {
   "cell_type": "code",
   "execution_count": 27,
   "metadata": {},
   "outputs": [
    {
     "data": {
      "text/plain": [
       "True"
      ]
     },
     "execution_count": 27,
     "metadata": {},
     "output_type": "execute_result"
    }
   ],
   "source": [
    "solutions_obj = np.array(Solution.objects.filter(problem__in=problems, ignore=False).order_by('id').values_list('cluster', flat=True))\n",
    "clusters = clustering.document_topic.argmax(axis=1)\n",
    "(solutions_obj == clusters).all()"
   ]
  },
  {
   "cell_type": "code",
   "execution_count": 28,
   "metadata": {},
   "outputs": [
    {
     "data": {
      "text/plain": [
       "GaussianMixture(covariance_type='full', init_params='kmeans', max_iter=100,\n",
       "        means_init=None, n_components=3, n_init=1, precisions_init=None,\n",
       "        random_state=2209808447, reg_covar=1e-06, tol=0.001, verbose=0,\n",
       "        verbose_interval=10, warm_start=False, weights_init=None)"
      ]
     },
     "execution_count": 28,
     "metadata": {},
     "output_type": "execute_result"
    }
   ],
   "source": [
    "clustering.model"
   ]
  },
  {
   "cell_type": "code",
   "execution_count": 29,
   "metadata": {},
   "outputs": [
    {
     "data": {
      "text/plain": [
       "PCA(copy=True, iterated_power='auto', n_components=2, random_state=2519208671,\n",
       "  svd_solver='auto', tol=0.0, whiten=False)"
      ]
     },
     "execution_count": 29,
     "metadata": {},
     "output_type": "execute_result"
    }
   ],
   "source": [
    "handler.solution_tsne"
   ]
  },
  {
   "cell_type": "markdown",
   "metadata": {},
   "source": [
    "### Check professor distribution"
   ]
  },
  {
   "cell_type": "code",
   "execution_count": 30,
   "metadata": {
    "scrolled": false
   },
   "outputs": [
    {
     "data": {
      "text/plain": [
       "<matplotlib.axes._subplots.AxesSubplot at 0x7f156f3f2eb8>"
      ]
     },
     "execution_count": 30,
     "metadata": {},
     "output_type": "execute_result"
    },
    {
     "data": {
      "image/png": "[encoded data removed]",
      "text/plain": [
       "<matplotlib.figure.Figure at 0x7f1578c0d4a8>"
      ]
     },
     "metadata": {},
     "output_type": "display_data"
    },
    {
     "data": {
      "image/png": "[encoded data removed]",
      "text/plain": [
       "<matplotlib.figure.Figure at 0x7f1574295a20>"
      ]
     },
     "metadata": {},
     "output_type": "display_data"
    }
   ],
   "source": [
    "users = UserProfile.objects.all().values('professor', date=Trunc('user__date_joined', 'day', output_field=DateField())).annotate(value=Count('professor'))\n",
    "df = pd.DataFrame(list(users))\n",
    "df = df.set_index(['date', 'professor']).value\n",
    "\n",
    "# Plot users x professors x date\n",
    "df.unstack().plot(kind='bar', stacked=True, figsize=(10,4))\n",
    "\n",
    "# Plot users x professors\n",
    "plt.figure()\n",
    "professor_count = UserProfile.objects.all().values('professor').annotate(value=Count('professor'))\n",
    "df = pd.DataFrame(list(professor_count))\n",
    "df = df.set_index(df['professor']).value\n",
    "df.plot(kind='bar')"
   ]
  },
  {
   "cell_type": "code",
   "execution_count": 31,
   "metadata": {},
   "outputs": [
    {
     "data": {
      "text/plain": [
       "(54, 2)"
      ]
     },
     "execution_count": 31,
     "metadata": {},
     "output_type": "execute_result"
    }
   ],
   "source": [
    "old_X = handler.X.copy()\n",
    "old_xs, old_ys = handler.xs, handler.ys\n",
    "old_category = handler.doc_category\n",
    "old_id = handler.doc_id\n",
    "old_X.shape"
   ]
  },
  {
   "cell_type": "code",
   "execution_count": 32,
   "metadata": {
    "scrolled": false
   },
   "outputs": [
    {
     "data": {
      "image/png": "[encoded data removed]",
      "text/plain": [
       "<matplotlib.figure.Figure at 0x7f156f386cf8>"
      ]
     },
     "metadata": {},
     "output_type": "display_data"
    }
   ],
   "source": [
    "# 118 - Digit Sum\n",
    "problem = Problem.objects.get(pk=118)\n",
    "solution = Solution.objects.filter(problem=118, ignore=False)\n",
    "# USER: jotavesilva@poli.ufrj.br\n",
    "userlog = UserLog.objects.filter(problem=problem, outcome=\"P\").exclude(user__userprofile__professor='').distinct().values_list('solution', flat=True)\n",
    "# solutions = UserLog.objects.filter(problem=problem, user__userprofile__professor='').values('user__username').distinct()\n",
    "\n",
    "test_data_features = vectorizer.transform(list(userlog))\n",
    "pos = handler.solution_tsne.transform(test_data_features.toarray())\n",
    "\n",
    "# Get topic\n",
    "topic = []\n",
    "predict_topics = clustering.model.predict(test_data_features.toarray())\n",
    "for item in predict_topics:\n",
    "    topic.append(\"Topic %s\" % (item+1))\n",
    "\n",
    "# Original points\n",
    "handler.X = old_X.copy()\n",
    "# Add user solution to the original points\n",
    "handler.X = np.vstack((handler.X, pos))\n",
    "handler.xs, handler.ys = handler.X[:, 0], handler.X[:, 1]\n",
    "\n",
    "# Add also as doc_id and category\n",
    "handler.doc_id = old_id.copy()\n",
    "handler.doc_id = np.hstack((handler.doc_id, np.arange(-1, -len(userlog)-1, -1)))\n",
    "handler.doc_category = old_category.copy()\n",
    "handler.doc_category.extend(topic)\n",
    "\n",
    "highlight = []\n",
    "highlight = list(range(old_X.shape[0], handler.X.shape[0]))\n",
    "for item in solution:\n",
    "    idx = np.argwhere(handler.doc_id == item.pk)\n",
    "    highlight.append(idx[0][0])\n",
    "    \n",
    "handler.plot(show_clusters=True, highlight=highlight)"
   ]
  },
  {
   "cell_type": "code",
   "execution_count": 33,
   "metadata": {
    "collapsed": true
   },
   "outputs": [],
   "source": [
    "similarity_outcome = []\n",
    "position = {}\n",
    "\n",
    "for outcome in (\"P\", \"F\"):\n",
    "    userlog = UserLog.objects.filter(problem=problem, outcome=outcome).exclude(user__userprofile__professor='').distinct().values_list('solution', flat=True)\n",
    "    test_data_features = vectorizer.transform(list(userlog))\n",
    "#     print(test_data_features.shape)\n",
    "\n",
    "    solution_pk, solution_cluster = list(zip(*(list(Solution.objects.filter(problem=118, ignore=False).order_by('cluster').values_list('pk', 'cluster')))))\n",
    "    find = lambda x: train_data_features[np.argwhere(handler.doc_id == x)][0][0]\n",
    "    train_feat = np.array(list(map(find, solution_pk)))\n",
    "#     print(train_feat.shape)\n",
    "\n",
    "    position[outcome] = handler.solution_tsne.transform(test_data_features.toarray())\n",
    "    predict_topics = clustering.model.predict(test_data_features.toarray())\n",
    "\n",
    "    # Create similarity matrix\n",
    "    similarity = cosine_similarity(test_data_features, train_feat) # nS x nS\n",
    "#     print(similarity.shape)\n",
    "\n",
    "    # Using max similarity to one of the available solutions\n",
    "    complete_dict = lambda x: {\"type\": \"max\", \"outcome\": outcome, \"value\": x}\n",
    "    similarity_outcome.extend(list(map(complete_dict, np.max(similarity, axis=1))))\n",
    "#     print(similarity_max.shape)\n",
    "\n",
    "    # Using similarity to the same solution that is in your cluster\n",
    "    # find = lambda x: np.argwhere(np.asarray(solution_cluster) == x)[0][0]\n",
    "    find = lambda x: np.asarray(solution_cluster) == x\n",
    "    complete_dict = lambda x: {\"type\": \"cluster\", \"outcome\": outcome, \"value\": x}\n",
    "    similarity_outcome.extend(list(map(complete_dict, similarity[np.array(list(map(find, predict_topics)))])))\n",
    "#     print(similarity_cluster.shape)\n",
    "    \n",
    "df = pd.DataFrame(similarity_outcome)"
   ]
  },
  {
   "cell_type": "code",
   "execution_count": 34,
   "metadata": {
    "collapsed": true
   },
   "outputs": [],
   "source": [
    "solpos = handler.solution_tsne.transform(train_feat)"
   ]
  },
  {
   "cell_type": "code",
   "execution_count": 35,
   "metadata": {},
   "outputs": [
    {
     "data": {
      "text/plain": [
       "<matplotlib.legend.Legend at 0x7f15747a85f8>"
      ]
     },
     "execution_count": 35,
     "metadata": {},
     "output_type": "execute_result"
    },
    {
     "data": {
      "image/png": "[encoded data removed]",
      "text/plain": [
       "<matplotlib.figure.Figure at 0x7f156f0ecba8>"
      ]
     },
     "metadata": {},
     "output_type": "display_data"
    }
   ],
   "source": [
    "plt.scatter(x=position[\"F\"][:,0], y=position[\"F\"][:,1], s=400, label=\"P\")\n",
    "plt.scatter(x=position[\"P\"][:,0], y=position[\"P\"][:,1], s=100, label=\"F\")\n",
    "plt.scatter(x=solpos[:,0], y=solpos[:,1], label=\"Solution\")\n",
    "plt.legend()"
   ]
  },
  {
   "cell_type": "code",
   "execution_count": 36,
   "metadata": {},
   "outputs": [
    {
     "data": {
      "image/png": "[encoded data removed]",
      "text/plain": [
       "<matplotlib.figure.Figure at 0x7f15740aa6d8>"
      ]
     },
     "metadata": {},
     "output_type": "display_data"
    },
    {
     "data": {
      "image/png": "[encoded data removed]",
      "text/plain": [
       "<matplotlib.figure.Figure at 0x7f157423c358>"
      ]
     },
     "metadata": {},
     "output_type": "display_data"
    }
   ],
   "source": [
    "sns.set_palette(\"bright\")\n",
    "ax = sns.swarmplot(x='value', y='outcome', data=df[df['type'] == 'max']).set_title(\"Max Similarity\")\n",
    "# sns.color_palette(\"RdBu\", n_colors=7)\n",
    "sns.set_palette(\"pastel\")\n",
    "ax = sns.violinplot(x='value', y='outcome', data=df[df['type'] == 'max'])\n",
    "\n",
    "plt.figure()\n",
    "sns.set_palette(\"bright\")\n",
    "ax = sns.swarmplot(x='value', y='outcome', data=df[df['type'] == 'cluster']).set_title(\"Cluster Similarity\")\n",
    "# sns.color_palette(\"RdBu\", n_colors=7)\n",
    "sns.set_palette(\"pastel\")\n",
    "ax = sns.violinplot(x='value', y='outcome', data=df[df['type'] == 'cluster'])"
   ]
  },
  {
   "cell_type": "code",
   "execution_count": 35,
   "metadata": {},
   "outputs": [
    {
     "name": "stdout",
     "output_type": "stream",
     "text": [
      "jotavesilva@poli.ufrj.br - P\n",
      "# Complete your function using this header\n",
      "def digit_sum(digit):\n",
      "    soma = digit + int(str(digit)+str(digit)) + int(str(digit)+str(digit)+str(digit)) + int(str(digit)+str(digit)+str(digit)+str(digit))\n",
      "    return soma\n",
      "leopacheco@poli.ufrj.br - P\n",
      "# Complete your function using this header\n",
      "def digit_sum(digit):\n",
      "    val1=digit\n",
      "    val2= digit + digit*10\n",
      "    val3= digit + digit*10 + digit*100\n",
      "    val4= digit + digit*10 + digit*100  + digit*1000 \n",
      "    return (val1+val2+val3+val4)\n",
      "ianetab@hotmail.com - P\n",
      "# Complete your function using this header\n",
      "def digit_sum(digit):\n",
      "    return digit+(10*digit)+digit+((100*digit)+10*digit)+digit+(((1000*digit)+100*digit)+10*digit)+digit\n",
      "pedrohbshbs@gmail.com - P\n",
      "# Complete your function using this header\n",
      "def digit_sum(a):\n",
      "    return a+a*11+a*111+a*1111\n",
      "beatriz-onofre@hotmail.com - P\n",
      "# Complete your function using this header\n",
      "def digit_sum(digit):\n",
      "    soma= digit*1 + digit*11 + digit*111 + digit*1111\n",
      "    return soma\n",
      "bernardo.smotta2207@gmail.com - P\n",
      "# Complete your function using this header\n",
      "def digit_sum(digit):\n",
      "    a = digit\n",
      "    return a + 11*a + 111*a + 1111*a\n",
      "phcrezende2000@gmail.com - P\n",
      "# Complete your function using this header\n",
      "def digit_sum(digit):\n",
      "    a = int(str(digit))+int(str(digit)*2)+int(str(digit)*3)+int(str(digit)*4)\n",
      "    return a\n",
      "livia2000medeiros@gmail.com - P\n",
      "# Complete your function using this header\n",
      "def digit_sum(digit):\n",
      "  return digit + digit*11 + digit*111 + digit*1111\n",
      "adrielly0195@gmail.com - P\n",
      "# Complete your function using this header\n",
      "def digit_sum(digit):\n",
      "    \"Dado um numero a funcao retorna a soma a+aa+aaa+aaaa\"\n",
      "    #int -> int\n",
      "    \n",
      "    d=str(digit)\n",
      "    lista=[d,2*d,3*d,4*d]\n",
      "    lista2=[]\n",
      "    \n",
      "    for n in lista:\n",
      "        list.append(lista2,int(n))\n",
      "    \n",
      "    return sum(lista2)\n",
      "wenya_li@poli.ufrj.br - P\n",
      "# Complete your function using this header\n",
      "def digit_sum(digit):\n",
      "    soma=digit+digit*11+digit*111+digit*1111\n",
      "    return soma\n",
      "patrickmp1809@gmail.com - P\n",
      "# Complete your function using this header\n",
      "def digit_sum(digit):\n",
      "    digito = str(digit)\n",
      "    soma = 0\n",
      "    contador = 1\n",
      "    while contador <= 4:\n",
      "        aux = digito*contador\n",
      "        soma = soma + int(aux)\n",
      "        contador = contador + 1\n",
      "    return soma\n",
      "davi.richards@hotmail.com - P\n",
      "# Complete your function using this header\n",
      "def digit_sum(x):\n",
      "    x=str(x)\n",
      "    soma=int(x)+int(2*x)+int(3*x)+int(4*x)\n",
      "    return soma\n",
      "8thseth@gmail.com - P\n",
      "# Complete your function using this header\n",
      "def digit_sum(x):\n",
      "    return x+(x*10+x)+(x*100+x*10+x)+(x*1000+x*100+x*10+x)\n",
      "jonathan.oliveira2421@gmail.com - P\n",
      "# Complete your function using this header\n",
      "def digit_sum(digit):\n",
      "\ta=int(digit)+int(str(digit)*2)+int(str(digit)*3)+int(str(digit)*4)\n",
      "\treturn a\n",
      "leticia.lsc@hotmail.com - P\n",
      "# Complete your function using this header\n",
      "def digit_sum(a):\n",
      "    x = (a + (a*11) + (a*111) + (a*1111))  \n",
      "    return x\n",
      "julianamello68@gmail.com - P\n",
      "# Complete your function using this header\n",
      "def digit_sum(x): \n",
      "    a= (x + (x*11) + (x*111) + (x*1111))\n",
      "    return a\n",
      "jvictoribeiromendonca@msn.com - P\n",
      "# Complete your function using this header\n",
      "def digit_sum(digit):\n",
      "    aux=str(digit)\n",
      "    soma = int(aux)+int(2*aux)+int(3*aux)+int(4*aux)\n",
      "    return soma\n"
     ]
    }
   ],
   "source": [
    "for item in userlog:\n",
    "    print(\"%s - %s\" % (item.user, item.outcome))\n",
    "    print(item.solution)"
   ]
  },
  {
   "cell_type": "code",
   "execution_count": 37,
   "metadata": {
    "scrolled": false
   },
   "outputs": [
    {
     "data": {
      "image/png": "[encoded data removed]",
      "text/plain": [
       "<matplotlib.figure.Figure at 0x7f15741f7470>"
      ]
     },
     "metadata": {},
     "output_type": "display_data"
    },
    {
     "data": {
      "image/png": "[encoded data removed]",
      "text/plain": [
       "<matplotlib.figure.Figure at 0x7f15742c7588>"
      ]
     },
     "metadata": {},
     "output_type": "display_data"
    },
    {
     "data": {
      "image/png": "[encoded data removed]",
      "text/plain": [
       "<matplotlib.figure.Figure at 0x7f15746ada58>"
      ]
     },
     "metadata": {},
     "output_type": "display_data"
    },
    {
     "data": {
      "image/png": "[encoded data removed]",
      "text/plain": [
       "<matplotlib.figure.Figure at 0x7f15745d0710>"
      ]
     },
     "metadata": {},
     "output_type": "display_data"
    }
   ],
   "source": [
    "logs = UserLog.objects.filter(outcome=\"P\").exclude(user__userprofile__professor='').values_list('user').annotate(count=Count('user'))\n",
    "passed_count = list(zip(*logs))[1]\n",
    "logs = UserLog.objects.filter(outcome=\"F\").exclude(user__userprofile__professor='').values_list('user').annotate(count=Count('user'))\n",
    "failed_count = list(zip(*logs))[1]\n",
    "logs = UserLog.objects.filter(outcome=\"S\").exclude(user__userprofile__professor='').values_list('user').annotate(count=Count('user'))\n",
    "skipped_count = list(zip(*logs))[1]\n",
    "logs = UserLog.objects.exclude(user__userprofile__professor='').values_list('user').annotate(count=Count('user'))\n",
    "all_count = list(zip(*logs))[1]\n",
    "plt.figure()\n",
    "plt.title(\"Passed\")\n",
    "plt.hist(passed_count, bins=list(range(21)), cumulative=-1);\n",
    "plt.figure()\n",
    "plt.title(\"Failed\")\n",
    "plt.hist(failed_count, bins=list(range(40)), cumulative=-1);\n",
    "plt.figure()\n",
    "plt.title(\"Skipped\")\n",
    "plt.hist(skipped_count, bins=list(range(21)), cumulative=-1);\n",
    "plt.figure()\n",
    "plt.title(\"All\")\n",
    "plt.hist(all_count, bins=list(range(40)), cumulative=-1);"
   ]
  },
  {
   "cell_type": "code",
   "execution_count": 94,
   "metadata": {},
   "outputs": [
    {
     "name": "stdout",
     "output_type": "stream",
     "text": [
      "# Complete your function using this header\r\n",
      "def digit_sum(digit):\r\n",
      "    total = 0\r\n",
      "    for i in range(1,5):\r\n",
      "        number = \"%s\" % digit\r\n",
      "        number = int(number * i)\r\n",
      "        total = total + number\r\n",
      "    return total\n",
      "2 - Loop\n",
      "804\n",
      "\n",
      "\n",
      "def digit_sum(digit):\r\n",
      "    n1 = int(\"{0}\".format(digit))\r\n",
      "    n2 = int(\"{0}{1}\".format(digit,digit))\r\n",
      "    n3 = int(\"{0}{1}{2}\".format(digit,digit,digit))\r\n",
      "    n4 = int(\"{0}{1}{2}{3}\".format(digit,digit,digit,digit))\r\n",
      "    total = n1+n2+n3+n4\r\n",
      "    return total\n",
      "0 - Math/String\n",
      "803\n",
      "\n",
      "\n"
     ]
    }
   ],
   "source": [
    "for item in solution:\n",
    "    print(item.content)\n",
    "    print(item.cluster)\n",
    "    print(item.id)\n",
    "    print('\\n')"
   ]
  },
  {
   "cell_type": "code",
   "execution_count": 15,
   "metadata": {
    "collapsed": true
   },
   "outputs": [],
   "source": [
    "# %load plot2d.py\n",
    "# Data\n",
    "import numpy as np\n",
    "import pandas as pd\n",
    "\n",
    "# Visualization\n",
    "import matplotlib as mpl\n",
    "import matplotlib.pyplot as plt\n",
    "from sklearn.manifold import TSNE, MDS\n",
    "from sklearn.decomposition import PCA, TruncatedSVD\n",
    "import matplotlib.cm as cm\n",
    "import matplotlib.colors as mpl_colors\n",
    "from sklearn.metrics.pairwise import cosine_distances\n",
    "\n",
    "class Plot2D(object):\n",
    "    \"\"\" Reduce data to 2 dimensions to plot it.\"\"\"\n",
    "    def __init__(self, clusters=None, doc_category=None, doc_id=None):\n",
    "        if clusters is None:\n",
    "            clusters = ['']\n",
    "\n",
    "        self.doc_category = doc_category\n",
    "        self.doc_id = doc_id\n",
    "        self.cluster_names = clusters\n",
    "        self.cluster_colors = {}\n",
    "        self.seed = 0\n",
    "        self.xs = None\n",
    "        self.ys = None\n",
    "        self.X = None\n",
    "        self.solution_tsne = None\n",
    "\n",
    "        self._set_clusters()\n",
    "        # Generate seed\n",
    "        self._generate_random_state()\n",
    "\n",
    "    def _generate_random_state(self):\n",
    "        self.seed = np.random.randint(2**32 - 1)\n",
    "\n",
    "    def _set_clusters(self):\n",
    "        \"\"\" Set clusters colors \"\"\"\n",
    "        # Set color for each pre-labelled cluster\n",
    "        for i in range(len(self.cluster_names)):\n",
    "            color = cm.tab10(i / len(self.cluster_names))\n",
    "            color_hex = mpl_colors.rgb2hex(color[:3])\n",
    "            self.cluster_colors[self.cluster_names[i]] = color_hex\n",
    "\n",
    "    def reduce(self, solution_sample):\n",
    "        # convert two components as we're plotting points in a two-dimensional plane\n",
    "        # we will also specify `random_state` so the plot is reproducible.\n",
    "        self.solution_tsne = PCA(n_components=3,\n",
    "        # self.solution_tsne = TruncatedSVD(n_components=2,\n",
    "        # self.solution_tsne = MDS(n_components=2, dissimilarity='precomputed',\n",
    "        # self.solution_tsne = TSNE(n_components=2, metric='cosine',\n",
    "                             random_state=self.seed)\n",
    "                             #random_state=1)\n",
    "        dissimilarity = cosine_distances(solution_sample)\n",
    "        pos = self.solution_tsne.fit_transform(solution_sample)  # shape (n_components, n_samples)\n",
    "        # pos = self.solution_tsne.fit_transform(dissimilarity)  # shape (n_components, n_samples)\n",
    "        self.X = pos\n",
    "        self.xs, self.ys = pos[:, 0], pos[:, 1]\n",
    "\n",
    "    def make_ellipses(self, gmm, ax, clusters):\n",
    "        colors = []\n",
    "        for i in range(clusters):\n",
    "            color = cm.tab10(i / clusters)\n",
    "            color_hex = mpl_colors.rgb2hex(color[:3])\n",
    "            colors.append(color_hex)\n",
    "\n",
    "        for n, color in enumerate(colors):\n",
    "            if gmm.covariance_type == 'full':\n",
    "                covariances = gmm.covariances_[n][:2, :2]\n",
    "            elif gmm.covariance_type == 'tied':\n",
    "                covariances = gmm.covariances_[:2, :2]\n",
    "            elif gmm.covariance_type == 'diag':\n",
    "                covariances = np.diag(gmm.covariances_[n][:2])\n",
    "            elif gmm.covariance_type == 'spherical':\n",
    "                covariances = np.eye(gmm.means_.shape[1]) * gmm.covariances_[n]\n",
    "            v, w = np.linalg.eigh(covariances)\n",
    "            u = w[0] / np.linalg.norm(w[0])\n",
    "            angle = np.arctan2(u[1], u[0])\n",
    "            angle = 180 * angle / np.pi  # convert to degrees\n",
    "            v = 2. * np.sqrt(2.) * np.sqrt(v)\n",
    "            ell = mpl.patches.Ellipse(gmm.means_[n, :2], v[0], v[1],\n",
    "                                    180 + angle, color=color)\n",
    "            ell.set_clip_box(ax.bbox)\n",
    "            ell.set_alpha(0.5)\n",
    "            ax.add_artist(ell)\n",
    "\n",
    "    def plot(self, show_clusters=True, highlight=None, show=True,\n",
    "             savefig=False, make_ellipses=False):\n",
    "        # set up plot\n",
    "        fig, ax = plt.subplots(figsize=(13,9)) # set size\n",
    "        ax.margins(0.05) # Optional, just adds 5% padding to the autoscaling\n",
    "\n",
    "        # Show pre-labeled (not by the student!!) samples with the respective color\n",
    "        if show_clusters:\n",
    "            #create data frame that has the result of the MDS plus the cluster numbers and titles\n",
    "            df = pd.DataFrame(dict(x=self.xs, y=self.ys, label=self.doc_category,\n",
    "                                title=self.doc_id))\n",
    "\n",
    "            #group by cluster\n",
    "            groups = df.groupby('label')\n",
    "\n",
    "\n",
    "            #iterate through groups to layer the plot\n",
    "            #note that I use the cluster_name and cluster_color dicts with the 'name' lookup to return the appropriate color/label\n",
    "            for name, group in groups:\n",
    "                # Skip math and string categories\n",
    "                # They are all over the place. Not good manual label.\n",
    "                if name == 'math' or name == 'string':\n",
    "                    continue\n",
    "\n",
    "                # Plot other categories\n",
    "                ax.plot(group.x, group.y, marker='o', linestyle='', ms=12,\n",
    "                        label=name, color=self.cluster_colors[name],\n",
    "                        mec='none', alpha=0.5)\n",
    "                ax.set_aspect('auto')\n",
    "                ax.tick_params(\\\n",
    "                    axis= 'x',          # changes apply to the x-axis\n",
    "                    which='both',      # both major and minor ticks are affected\n",
    "                    bottom='on',      # ticks along the bottom edge are off\n",
    "                    top='on',         # ticks along the top edge are off\n",
    "                    labelbottom='on')\n",
    "                ax.tick_params(\\\n",
    "                    axis= 'y',         # changes apply to the y-axis\n",
    "                    which='both',      # both major and minor ticks are affected\n",
    "                    left='on',      # ticks along the bottom edge are off\n",
    "                    top='on',         # ticks along the top edge are off\n",
    "                    labelleft='on')\n",
    "\n",
    "            ax.legend(numpoints=1)  #show legend with only 1 point\n",
    "\n",
    "        # Plot all docs\n",
    "        plt.scatter(self.xs, self.ys, alpha=0.5)\n",
    "\n",
    "        # If highlight is set, show observation with different color\n",
    "        if highlight is not None:\n",
    "\n",
    "            colors = []\n",
    "            if isinstance(highlight, list):\n",
    "                for i in range(len(highlight)):\n",
    "                    color = cm.tab10(i / len(highlight))\n",
    "                    color_hex = mpl_colors.rgb2hex(color[:3])\n",
    "                    colors.append(color_hex)\n",
    "            else:\n",
    "                colors = ['r']\n",
    "\n",
    "            plt.scatter(self.xs[highlight], self.ys[highlight],\n",
    "                        color=colors, marker=r'$\\star$', s=400)\n",
    "        if make_ellipses:\n",
    "            make_ellipses[\"ax\"] = ax\n",
    "            self.make_ellipses(**make_ellipses)\n",
    "\n",
    "        if savefig:\n",
    "            plt.savefig('images/' + savefig)\n",
    "\n",
    "        if show:\n",
    "            plt.show() #show the plot\n"
   ]
  },
  {
   "cell_type": "markdown",
   "metadata": {},
   "source": [
    "### References\n",
    "[1] Johns, E., Aodha, O. Mac & Brostow, G. J. Becoming the expert - Interactive multi-class machine teaching. in Proceedings of the IEEE Computer Society Conference on Computer Vision and Pattern Recognition (2015). doi:10.1109/CVPR.2015.7298877\n",
    "\n",
    "[2] Zhu, X., Lafferty, J. & Ghahramani, Z. Combining Active Learning and Semi-Supervised Learning Using Gaussian Fields and Harmonic Functions Xiaojin. … Data Mach. Learn. … (2003)."
   ]
  }
 ],
 "metadata": {
  "kernelspec": {
   "display_name": "Django Shell-Plus",
   "language": "python",
   "name": "django_extensions"
  },
  "language_info": {
   "codemirror_mode": {
    "name": "ipython",
    "version": 3
   },
   "file_extension": ".py",
   "mimetype": "text/x-python",
   "name": "python",
   "nbconvert_exporter": "python",
   "pygments_lexer": "ipython3",
   "version": "3.7.3"
  }
 },
 "nbformat": 4,
 "nbformat_minor": 2
}
