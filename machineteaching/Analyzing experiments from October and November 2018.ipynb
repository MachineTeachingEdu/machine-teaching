{
 "cells": [
  {
   "cell_type": "markdown",
   "metadata": {},
   "source": [
    "### Next sample strategy\n",
    "\n",
    "Considered strategies used to propose the next problem:\n",
    "1. Randomly sample from the dataset D. Does not model the student and is therefore unable to adapt to their ability. May present redundant teaching examples of concepts that have already been learned by the student and not reinforce concepts that the student has shown to be uncertain about.\n",
    "2. ~~Worst predicted. Related to uncertainty sampling used in Active Learning. Selects the next teaching image whose prediction deviates most from the ground truth. Prone to proposing outliers. In the learning to program problem, maybe it presents the hardest exercises?~~\n",
    "3. Expected Error Reduction. Chooses the teaching image which, if labeled correctly, would have the greatest reduction on the future error over the images that are not in the teaching set. Student’s conditional distribution given the teaching set can be approximated using Gaussian Random Field."
   ]
  },
  {
   "cell_type": "markdown",
   "metadata": {},
   "source": [
    "#### Import libraries"
   ]
  },
  {
   "cell_type": "code",
   "execution_count": 1,
   "metadata": {},
   "outputs": [],
   "source": [
    "# Input\n",
    "# from db import PythonProblems\n",
    "import io\n",
    "\n",
    "#DB\n",
    "from questions.models import Solution, Cluster, UserLog\n",
    "from django.contrib.auth.models import User\n",
    "from django.db.models.functions import Trunc\n",
    "from django.db.models import DateField\n",
    "\n",
    "# Helpers\n",
    "import numpy as np\n",
    "import pickle\n",
    "import pandas as pd\n",
    "\n",
    "# Preprocessing\n",
    "import tokenize\n",
    "from sklearn.feature_extraction.text import CountVectorizer, TfidfVectorizer\n",
    "\n",
    "# Distance\n",
    "# from scipy.spatial.distance import pdist, squareform\n",
    "from sklearn.metrics.pairwise import cosine_similarity\n",
    "\n",
    "# Learning\n",
    "from clustering import Clustering\n",
    "from plot2d import Plot2D\n",
    "from questions.sampling import get_next_sample\n",
    "\n",
    "# Visualization\n",
    "import matplotlib.pyplot as plt\n",
    "import seaborn as sns\n",
    "from generate_pdf import PDFReport\n",
    "\n",
    "%matplotlib inline"
   ]
  },
  {
   "cell_type": "code",
   "execution_count": 2,
   "metadata": {},
   "outputs": [
    {
     "name": "stdout",
     "output_type": "stream",
     "text": [
      "591\n"
     ]
    },
    {
     "data": {
      "text/plain": [
       "132"
      ]
     },
     "execution_count": 2,
     "metadata": {},
     "output_type": "execute_result"
    }
   ],
   "source": [
    "## Cleaning database\n",
    "last_id = 132\n",
    "problems = Problem.objects.filter(id__gt=132)\n",
    "solutions_obj = Solution.objects.filter(problem__in=problems).update(ignore=True)\n",
    "print(problems.count())\n",
    "problems = Problem.objects.filter(id__lte=132)\n",
    "problems.count()"
   ]
  },
  {
   "cell_type": "code",
   "execution_count": 3,
   "metadata": {
    "collapsed": true
   },
   "outputs": [],
   "source": [
    "solutions_obj = Solution.objects.filter(problem__in=problems, ignore=False).order_by('id')"
   ]
  },
  {
   "cell_type": "code",
   "execution_count": 4,
   "metadata": {},
   "outputs": [
    {
     "data": {
      "text/plain": [
       "54"
      ]
     },
     "execution_count": 4,
     "metadata": {},
     "output_type": "execute_result"
    }
   ],
   "source": [
    "solutions_obj.count()"
   ]
  },
  {
   "cell_type": "code",
   "execution_count": 5,
   "metadata": {},
   "outputs": [
    {
     "name": "stdout",
     "output_type": "stream",
     "text": [
      "Got 54 documents\n",
      "Success in parsing all documents! You may go on!\n"
     ]
    }
   ],
   "source": [
    "removed_itens = ['NEWLINE', 'STRING', 'ENDMARKER', 'NUMBER', 'INDENT', 'DEDENT', \"NL\", 'COMMENT', 'ERRORTOKEN']\n",
    "allowed_itens = ['NAME', 'OP']\n",
    "# cursor = db.conn.cursor()\n",
    "docs = []\n",
    "docs_id = []\n",
    "# doc_category = []\n",
    "errors = []\n",
    "questions = []\n",
    "solutions = []\n",
    "\n",
    "# lendo os dados\n",
    "# cursor.execute(\"\"\"\n",
    "# SELECT solution.id, solution.content, problem.content, problem.category FROM solution, problem where solution.problem_id = problem.id;\n",
    "# \"\"\")\n",
    "\n",
    "\n",
    "for sol in solutions_obj:\n",
    "    file = io.StringIO(sol.content)\n",
    "    doc = []\n",
    "    try:\n",
    "        for item in tokenize.generate_tokens(file.readline):\n",
    "            if tokenize.tok_name[item[0]] not in removed_itens:\n",
    "                if tokenize.tok_name[item[0]] in allowed_itens:\n",
    "                    doc.append(item[1])\n",
    "                else:\n",
    "                    print(\"%s %s\" % (tokenize.tok_name[item[0]], item[1]))\n",
    "    except (IndentationError, tokenize.TokenError):\n",
    "        errors.append(\"Please, fix solution %d before continuing\" % (sol.id))\n",
    "    \n",
    "    if doc == []:\n",
    "        continue\n",
    "    docs.append(' '.join(doc))\n",
    "    docs_id.append(sol.id)\n",
    "#     doc_category.append(row[-1])\n",
    "    questions.append(sol.problem.content)\n",
    "    solutions.append(sol.content)\n",
    "\n",
    "print(\"Got %d documents\" %(solutions_obj.count()))\n",
    "\n",
    "if not errors:\n",
    "    print(\"Success in parsing all documents! You may go on!\")\n",
    "else:\n",
    "    for item in errors:\n",
    "        print(item)"
   ]
  },
  {
   "cell_type": "markdown",
   "metadata": {},
   "source": [
    "***Limitação do parser: variável e nome reservado são do mesmo tipo. Não consigo separar sem fazer uma pré-lista. Mas pode ser o critério para ajustar o CountVectorizer***"
   ]
  },
  {
   "cell_type": "markdown",
   "metadata": {},
   "source": [
    "### Preprocessing solutions into bag of words ###"
   ]
  },
  {
   "cell_type": "code",
   "execution_count": 6,
   "metadata": {},
   "outputs": [
    {
     "data": {
      "text/plain": [
       "(54, 17)"
      ]
     },
     "execution_count": 6,
     "metadata": {},
     "output_type": "execute_result"
    }
   ],
   "source": [
    "# Initialize the \"CountVectorizer\" object, which is scikit-learn's\n",
    "# bag of words tool.  \n",
    "vectorizer = CountVectorizer(analyzer = \"word\",   \\\n",
    "                             tokenizer = None,    \\\n",
    "                             preprocessor = None, \\\n",
    "#                              stop_words = ['print'],   \\\n",
    "                             #max_features = 26d,\n",
    "                             binary=False,\n",
    "                             min_df=0.1\n",
    "                            ) \n",
    "\n",
    "# fit_transform() does two functions: First, it fits the model\n",
    "# and learns the vocabulary; second, it transforms our training data\n",
    "# into feature vectors. The input to fit_transform should be a list of \n",
    "# strings.\n",
    "\n",
    "train_data_features = vectorizer.fit_transform(docs)\n",
    "\n",
    "# Numpy arrays are easy to work with, so convert the result to an \n",
    "# array\n",
    "# Document-term matrix\n",
    "train_data_features = train_data_features.toarray()\n",
    "train_data_features.shape"
   ]
  },
  {
   "cell_type": "code",
   "execution_count": 7,
   "metadata": {},
   "outputs": [
    {
     "data": {
      "text/plain": [
       "['append',\n",
       " 'def',\n",
       " 'elif',\n",
       " 'else',\n",
       " 'false',\n",
       " 'for',\n",
       " 'if',\n",
       " 'in',\n",
       " 'int',\n",
       " 'join',\n",
       " 'len',\n",
       " 'not',\n",
       " 'number',\n",
       " 'range',\n",
       " 'return',\n",
       " 'split',\n",
       " 'true']"
      ]
     },
     "execution_count": 7,
     "metadata": {},
     "output_type": "execute_result"
    }
   ],
   "source": [
    "feature_names = vectorizer.get_feature_names()\n",
    "feature_names"
   ]
  },
  {
   "cell_type": "code",
   "execution_count": 8,
   "metadata": {},
   "outputs": [
    {
     "data": {
      "text/plain": [
       "(54,)"
      ]
     },
     "execution_count": 8,
     "metadata": {},
     "output_type": "execute_result"
    }
   ],
   "source": [
    "# Remove rows containing only zeros (weird exercises)\n",
    "solution_sample = train_data_features[~(train_data_features==0).all(1)]\n",
    "docs_id = np.asarray(docs_id)[~(train_data_features==0).all(1)]\n",
    "# doc_category = np.asarray(doc_category)[~(train_data_features==0).all(1)]\n",
    "questions = np.asarray(questions)[~(train_data_features==0).all(1)]\n",
    "docs_id.shape"
   ]
  },
  {
   "cell_type": "markdown",
   "metadata": {},
   "source": [
    "### Cluster solutions"
   ]
  },
  {
   "cell_type": "code",
   "execution_count": 9,
   "metadata": {},
   "outputs": [
    {
     "name": "stdout",
     "output_type": "stream",
     "text": [
      "2209808447\n"
     ]
    },
    {
     "data": {
      "image/png": "[encoded data removed]",
      "text/plain": [
       "<matplotlib.figure.Figure at 0x7fe1efc827f0>"
      ]
     },
     "metadata": {},
     "output_type": "display_data"
    },
    {
     "name": "stdout",
     "output_type": "stream",
     "text": [
      "Count per class:\n",
      "Topic 1: 13\n",
      "Topic 2: 10\n",
      "Topic 3: 31\n"
     ]
    }
   ],
   "source": [
    "# clustering = Clustering(handler.X, )\n",
    "clustering = Clustering(solution_sample, 3)\n",
    "clustering.seed = 2209808447\n",
    "#2124056991\n",
    "#232156180\n",
    "#2539469571\n",
    "# clustering.seed = 0\n",
    "# clustering._generate_random_state()\n",
    "model, document_topic, word_topic = clustering.gaussian_mixture()\n",
    "print(clustering.seed)\n",
    "clustering.plot_topic_distribution()\n",
    "\n",
    "print(\"Count per class:\")\n",
    "counts = np.unique(clustering.document_topic.argmax(axis=1), return_counts=True)\n",
    "for i in range(clustering.k):\n",
    "    print(\"Topic %d: %d\" % ((i+1), counts[1][i]))"
   ]
  },
  {
   "cell_type": "code",
   "execution_count": 10,
   "metadata": {
    "collapsed": true
   },
   "outputs": [],
   "source": [
    "def print_top_words(topic_word, feature_names, n_top_words):\n",
    "    for topic_idx, topic in enumerate(topic_word):\n",
    "        message = \"Topic #%d: \" % (topic_idx+1)\n",
    "        message += \" \".join([feature_names[i]\n",
    "                             for i in topic.argsort()[:-n_top_words - 1:-1]])\n",
    "        print(message)\n",
    "    print()"
   ]
  },
  {
   "cell_type": "code",
   "execution_count": 11,
   "metadata": {},
   "outputs": [
    {
     "name": "stdout",
     "output_type": "stream",
     "text": [
      "\n",
      "Words per topic:\n",
      "Topic #1: int return def join split for in if append len\n",
      "Topic #2: elif return if def in else int number for not\n",
      "Topic #3: in return for def if range number else false true\n",
      "\n"
     ]
    }
   ],
   "source": [
    "print(\"\\nWords per topic:\")\n",
    "feature_names = vectorizer.get_feature_names()\n",
    "print_top_words(word_topic, feature_names, 10)"
   ]
  },
  {
   "cell_type": "markdown",
   "metadata": {},
   "source": [
    "### Get next sample\n",
    "\n",
    "Set initial matrices"
   ]
  },
  {
   "cell_type": "code",
   "execution_count": 12,
   "metadata": {},
   "outputs": [
    {
     "name": "stdout",
     "output_type": "stream",
     "text": [
      "(54, 3)\n",
      "(54, 54)\n"
     ]
    }
   ],
   "source": [
    "# Create X as an empty belief state (X is the machine's model of the student's distribution)\n",
    "X = np.zeros(clustering.document_topic.shape) # nS x nC\n",
    "print(X.shape)\n",
    "\n",
    "# Create Y as a document_topic matrix. For the first version, each document belongs to one topic\n",
    "Y_col = clustering.document_topic.argmax(axis=1) # nS x nC\n",
    "Y = np.zeros(clustering.document_topic.shape)\n",
    "for idx in range(Y.shape[0]):\n",
    "    Y[idx, Y_col[idx]] = 1\n",
    "\n",
    "# Create W as a similarity matrix\n",
    "W = cosine_similarity(clustering.X) # nS x nS\n",
    "print(W.shape)\n",
    "\n",
    "with open('similarity.pkl', 'wb') as picklefile:\n",
    "    pickle.dump(W, picklefile)\n",
    "\n",
    "# Set L as an unlabelled set\n",
    "L = []"
   ]
  },
  {
   "cell_type": "markdown",
   "metadata": {},
   "source": [
    "#### Visualization\n",
    "Reduce to 2 dimensions using TSNE"
   ]
  },
  {
   "cell_type": "code",
   "execution_count": 15,
   "metadata": {},
   "outputs": [
    {
     "name": "stdout",
     "output_type": "stream",
     "text": [
      "4014033239\n"
     ]
    },
    {
     "data": {
      "image/png": "[encoded data removed]",
      "text/plain": [
       "<matplotlib.figure.Figure at 0x7fe1efc825c0>"
      ]
     },
     "metadata": {},
     "output_type": "display_data"
    }
   ],
   "source": [
    "# %%time\n",
    "# cluster_names = ['', 'conditional', 'dict', 'file', 'function', 'list', 'loop'] #'math', 'string']\n",
    "cluster_names = [\"Topic %d\" % (i+1) for i in range(clustering.k)]\n",
    "doc_category = [\"Topic %d\" % (i+1) for i in clustering.document_topic.argmax(axis=1)]\n",
    "doc_category = [\"Topic %d\" % (i+1) for i in clustering.document_topic.argmax(axis=1)]\n",
    "handler = Plot2D(clusters=cluster_names, doc_category=doc_category, doc_id=docs_id)\n",
    "handler._generate_random_state()\n",
    "# handler.seed = 14875623\n",
    "handler.reduce(solution_sample)\n",
    "print(handler.seed)\n",
    "handler.plot(show_clusters=True)\n",
    "\n",
    "sample = handler.X\n",
    "y = clustering.document_topic.argmax(axis=1)\n",
    "\n",
    "# fig = plt.figure(figsize=(10,5))\n",
    "# plt.scatter(x=sample[:,0], y=sample[:,1], c=y, s=100)"
   ]
  },
  {
   "cell_type": "markdown",
   "metadata": {},
   "source": [
    "### Check if clusters are the same"
   ]
  },
  {
   "cell_type": "code",
   "execution_count": 14,
   "metadata": {},
   "outputs": [
    {
     "data": {
      "text/plain": [
       "True"
      ]
     },
     "execution_count": 14,
     "metadata": {},
     "output_type": "execute_result"
    }
   ],
   "source": [
    "solutions_obj = np.array(Solution.objects.filter(problem__in=problems, ignore=False).order_by('id').values_list('cluster', flat=True))\n",
    "clusters = clustering.document_topic.argmax(axis=1)\n",
    "(solutions_obj == clusters).all()"
   ]
  },
  {
   "cell_type": "code",
   "execution_count": 15,
   "metadata": {},
   "outputs": [
    {
     "data": {
      "text/plain": [
       "GaussianMixture(covariance_type='full', init_params='kmeans', max_iter=100,\n",
       "        means_init=None, n_components=3, n_init=1, precisions_init=None,\n",
       "        random_state=2209808447, reg_covar=1e-06, tol=0.001, verbose=0,\n",
       "        verbose_interval=10, warm_start=False, weights_init=None)"
      ]
     },
     "execution_count": 15,
     "metadata": {},
     "output_type": "execute_result"
    }
   ],
   "source": [
    "clustering.model"
   ]
  },
  {
   "cell_type": "code",
   "execution_count": 16,
   "metadata": {},
   "outputs": [
    {
     "data": {
      "text/plain": [
       "PCA(copy=True, iterated_power='auto', n_components=2, random_state=4014033239,\n",
       "  svd_solver='auto', tol=0.0, whiten=False)"
      ]
     },
     "execution_count": 16,
     "metadata": {},
     "output_type": "execute_result"
    }
   ],
   "source": [
    "handler.solution_tsne"
   ]
  },
  {
   "cell_type": "markdown",
   "metadata": {},
   "source": [
    "### Check professor distribution"
   ]
  },
  {
   "cell_type": "code",
   "execution_count": 132,
   "metadata": {
    "scrolled": false
   },
   "outputs": [
    {
     "data": {
      "text/plain": [
       "<matplotlib.axes._subplots.AxesSubplot at 0x7f002016ecf8>"
      ]
     },
     "execution_count": 132,
     "metadata": {},
     "output_type": "execute_result"
    },
    {
     "data": {
      "image/png": "[encoded data removed]",
      "text/plain": [
       "<matplotlib.figure.Figure at 0x7f001fd85518>"
      ]
     },
     "metadata": {},
     "output_type": "display_data"
    },
    {
     "data": {
      "image/png": "[encoded data removed]",
      "text/plain": [
       "<matplotlib.figure.Figure at 0x7f002016e278>"
      ]
     },
     "metadata": {},
     "output_type": "display_data"
    }
   ],
   "source": [
    "users = UserProfile.objects.all().values('professor', date=Trunc('user__date_joined', 'day', output_field=DateField())).annotate(value=Count('professor'))\n",
    "df = pd.DataFrame(list(users))\n",
    "df = df.set_index(['date', 'professor']).value\n",
    "\n",
    "# Plot users x professors x date\n",
    "df.unstack().plot(kind='bar', stacked=True, figsize=(10,4))\n",
    "\n",
    "# Plot users x professors\n",
    "professor_count = UserProfile.objects.all().values('professor').annotate(value=Count('professor'))\n",
    "df = pd.DataFrame(list(professor_count))\n",
    "df.plot(x=df['professor'], kind='bar')"
   ]
  },
  {
   "cell_type": "code",
   "execution_count": 23,
   "metadata": {},
   "outputs": [
    {
     "data": {
      "text/plain": [
       "array([[-0.61775012,  2.48360956]])"
      ]
     },
     "execution_count": 23,
     "metadata": {},
     "output_type": "execute_result"
    }
   ],
   "source": [
    "# 118 - Digit Sum\n",
    "problem = Problem.objects.get(pk=118)\n",
    "userlog = UserLog.objects.filter(problem=problem).exclude(user__userprofile__professor='').distinct()\n",
    "# solutions = UserLog.objects.filter(problem=problem, user__userprofile__professor='').values('user__username').distinct()\n",
    "test_data_features = vectorizer.transform([userlog[0].solution])\n",
    "pos = handler.solution_tsne.transform(test_data_features.toarray())\n",
    "pos"
   ]
  },
  {
   "cell_type": "markdown",
   "metadata": {},
   "source": [
    "### References\n",
    "[1] Johns, E., Aodha, O. Mac & Brostow, G. J. Becoming the expert - Interactive multi-class machine teaching. in Proceedings of the IEEE Computer Society Conference on Computer Vision and Pattern Recognition (2015). doi:10.1109/CVPR.2015.7298877\n",
    "\n",
    "[2] Zhu, X., Lafferty, J. & Ghahramani, Z. Combining Active Learning and Semi-Supervised Learning Using Gaussian Fields and Harmonic Functions Xiaojin. … Data Mach. Learn. … (2003)."
   ]
  }
 ],
 "metadata": {
  "kernelspec": {
   "display_name": "Django Shell-Plus",
   "language": "python",
   "name": "django_extensions"
  },
  "language_info": {
   "codemirror_mode": {
    "name": "ipython",
    "version": 3
   },
   "file_extension": ".py",
   "mimetype": "text/x-python",
   "name": "python",
   "nbconvert_exporter": "python",
   "pygments_lexer": "ipython3",
   "version": "3.6.2"
  }
 },
 "nbformat": 4,
 "nbformat_minor": 2
}
