{
 "cells": [
  {
   "cell_type": "code",
   "execution_count": 1,
   "metadata": {},
   "outputs": [],
   "source": [
    "import pickle\n",
    "from spkit import bkt\n",
    "import numpy as np\n",
    "import pandas as pd\n",
    "from sklearn.metrics import roc_curve, auc"
   ]
  },
  {
   "cell_type": "code",
   "execution_count": 2,
   "metadata": {},
   "outputs": [],
   "source": [
    "with open('kdd_2005_2005_df.pkl', 'rb') as pklfile:\n",
    "    df = pickle.load(pklfile)\n",
    "with open('kdd_2005_2005_q_matrix.pkl', 'rb') as pklfile:\n",
    "    q_matrix = pickle.load(pklfile)\n",
    "with open('kdd_2005_2005_students.pkl', 'rb') as pklfile:\n",
    "    students = pickle.load(pklfile)\n",
    "with open('kdd_2005_2005_kcs.pkl', 'rb') as pklfile:\n",
    "    kcs = pickle.load(pklfile)\n",
    "with open('kdd_2005_2005_model.pkl', 'rb') as pklfile:\n",
    "    model = pickle.load(pklfile)"
   ]
  },
  {
   "cell_type": "code",
   "execution_count": 5,
   "metadata": {},
   "outputs": [
    {
     "name": "stdout",
     "output_type": "stream",
     "text": [
      "CPU times: user 422 ms, sys: 55.6 ms, total: 477 ms\n",
      "Wall time: 484 ms\n"
     ]
    }
   ],
   "source": [
    "%%time\n",
    "# Data matrix\n",
    "data = df[['Correct First Attempt', 'Anon Student Id', 'question_id']].values.tolist()"
   ]
  },
  {
   "cell_type": "code",
   "execution_count": 6,
   "metadata": {},
   "outputs": [
    {
     "name": "stderr",
     "output_type": "stream",
     "text": [
      "/home/lmoraes/miniconda3/envs/machineteaching/lib/python3.7/site-packages/sklearn/metrics/ranking.py:648: UndefinedMetricWarning: No negative samples in y_true, false positive value should be meaningless\n",
      "  UndefinedMetricWarning)\n",
      "/home/lmoraes/miniconda3/envs/machineteaching/lib/python3.7/site-packages/sklearn/metrics/ranking.py:114: RuntimeWarning: invalid value encountered in less\n",
      "  if np.any(dx < 0):\n"
     ]
    },
    {
     "name": "stdout",
     "output_type": "stream",
     "text": [
      "CPU times: user 1min 4s, sys: 129 ms, total: 1min 4s\n",
      "Wall time: 1min 4s\n"
     ]
    }
   ],
   "source": [
    "%%time\n",
    "data_arr = np.asarray(data)\n",
    "rmse = 0\n",
    "n = 0\n",
    "score_df = []\n",
    "learning_state_df = []\n",
    "outcome_all = []\n",
    "predicted_proba = []\n",
    "for student in students:\n",
    "    student_idx = np.where(data_arr[:,1] == student)\n",
    "    outcome = data_arr[student_idx, 0].astype('int64')\n",
    "    outcome_all += outcome.tolist()[0]\n",
    "    question_id = data_arr[student_idx, 2].astype('int64')\n",
    "    data_student = np.vstack((outcome, question_id)).T.astype('int64').tolist()\n",
    "    predicted = model.predict_proba(data_student, q_matrix)\n",
    "    predicted_proba += predicted[:,1].tolist()\n",
    "    s_ll, s_aic, s_bic, s_rmse, s_acc = model.score()\n",
    "    fpr, tpr, _ = roc_curve(outcome.flatten(), predicted[:,1], pos_label=1)\n",
    "    auc_score = auc(fpr, tpr)\n",
    "    score_df.append({\"student\": student,\n",
    "                     \"AIC\": s_aic,\n",
    "                     \"BIC\": s_bic,\n",
    "                     \"RMSE\": s_rmse,\n",
    "                     \"Acc\": s_acc,\n",
    "                     \"n questions\": model.n_questions,\n",
    "                     \"LL\": s_ll,\n",
    "                     \"correct_outcome\": np.where(outcome == 1)[1].shape[0],\n",
    "                     \"incorrect_outcome\": np.where(outcome == 0)[1].shape[0],\n",
    "                     \"AUC\": auc_score})\n",
    "    learning_state_dict = {\"student\": student}\n",
    "    for idx, kc in enumerate(model.learning_state):\n",
    "        learning_state_dict[kcs[idx]] = kc\n",
    "    learning_state_df.append(learning_state_dict)"
   ]
  },
  {
   "cell_type": "code",
   "execution_count": 7,
   "metadata": {},
   "outputs": [],
   "source": [
    "score = pd.DataFrame.from_dict(score_df)"
   ]
  },
  {
   "cell_type": "code",
   "execution_count": 8,
   "metadata": {},
   "outputs": [],
   "source": [
    "rmse_train = np.sqrt((score['RMSE']**2*score['n questions']).sum()/score['n questions'].sum())\n",
    "rmse_avg = score['RMSE'].mean()\n",
    "rmse_std = score['RMSE'].std()"
   ]
  },
  {
   "cell_type": "code",
   "execution_count": 9,
   "metadata": {},
   "outputs": [
    {
     "name": "stdout",
     "output_type": "stream",
     "text": [
      "RMSE de treino: 0.41\n",
      "RMSE médio: 0.43 +- 0.05\n"
     ]
    }
   ],
   "source": [
    "print(\"RMSE de treino: %.2f\" % rmse_train)\n",
    "print(\"RMSE médio: %.2f +- %.2f\" % (rmse_avg, rmse_std))"
   ]
  },
  {
   "cell_type": "code",
   "execution_count": 10,
   "metadata": {},
   "outputs": [],
   "source": [
    "acc_train = (score['Acc']*score['n questions']).sum()/score['n questions'].sum()\n",
    "acc_avg = score['Acc'].mean()\n",
    "acc_std = score['Acc'].std()"
   ]
  },
  {
   "cell_type": "code",
   "execution_count": 11,
   "metadata": {},
   "outputs": [
    {
     "name": "stdout",
     "output_type": "stream",
     "text": [
      "Acc de treino: 0.75\n",
      "Acc médio: 0.69 +- 0.12\n"
     ]
    }
   ],
   "source": [
    "print(\"Acc de treino: %.2f\" % acc_train)\n",
    "print(\"Acc médio: %.2f +- %.2f\" % (acc_avg, acc_std))"
   ]
  },
  {
   "cell_type": "code",
   "execution_count": 13,
   "metadata": {},
   "outputs": [
    {
     "data": {
      "text/plain": [
       "0    1.0\n",
       "Name: perform-mult-row2-sp, dtype: float64"
      ]
     },
     "execution_count": 13,
     "metadata": {},
     "output_type": "execute_result"
    }
   ],
   "source": [
    "learning_state = pd.DataFrame.from_dict(learning_state_df)\n",
    "learning_state[learning_state['student'] == '0BrbPbwCMz']['perform-mult-row2-sp']"
   ]
  }
 ],
 "metadata": {
  "kernelspec": {
   "display_name": "Django Shell-Plus",
   "language": "python",
   "name": "django_extensions"
  },
  "language_info": {
   "codemirror_mode": {
    "name": "ipython",
    "version": 3
   },
   "file_extension": ".py",
   "mimetype": "text/x-python",
   "name": "python",
   "nbconvert_exporter": "python",
   "pygments_lexer": "ipython3",
   "version": "3.7.3"
  }
 },
 "nbformat": 4,
 "nbformat_minor": 2
}
