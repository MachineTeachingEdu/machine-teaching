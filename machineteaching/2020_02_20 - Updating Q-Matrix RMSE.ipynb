{
 "cells": [
  {
   "cell_type": "code",
   "execution_count": 9,
   "metadata": {},
   "outputs": [],
   "source": [
    "# Helpers\n",
    "import numpy as np\n",
    "\n",
    "# DB \n",
    "import psycopg2\n",
    "from django.conf import settings\n",
    "\n",
    "# Evaluation\n",
    "from sklearn.metrics.pairwise import cosine_similarity"
   ]
  },
  {
   "cell_type": "code",
   "execution_count": 15,
   "metadata": {},
   "outputs": [],
   "source": [
    "connection = psycopg2.connect(user = settings.DATABASES[\"default\"][\"USER\"],\n",
    "                                  password = settings.DATABASES[\"default\"][\"PASSWORD\"],\n",
    "                                  host = settings.DATABASES[\"default\"][\"HOST\"],\n",
    "                                  port = settings.DATABASES[\"default\"][\"PORT\"],\n",
    "                                  database = settings.DATABASES[\"default\"][\"NAME\"])\n",
    "connection.autocommit=True\n",
    "cursor = connection.cursor()"
   ]
  },
  {
   "cell_type": "code",
   "execution_count": 37,
   "metadata": {},
   "outputs": [
    {
     "name": "stdout",
     "output_type": "stream",
     "text": [
      "CPU times: user 1.69 s, sys: 923 ms, total: 2.62 s\n",
      "Wall time: 1min 14s\n"
     ]
    }
   ],
   "source": [
    "%%time\n",
    "query = \"select experiment_id, q_matrix, q_matrix_hat, X, concepts from EDM2020_2020_02_19 where method = 'fdtf'\"\n",
    "cursor.execute(query)\n",
    "row = cursor.fetchone()"
   ]
  },
  {
   "cell_type": "code",
   "execution_count": 38,
   "metadata": {},
   "outputs": [
    {
     "name": "stdout",
     "output_type": "stream",
     "text": [
      "CPU times: user 35.6 s, sys: 137 ms, total: 35.7 s\n",
      "Wall time: 35.7 s\n"
     ]
    }
   ],
   "source": [
    "%%time\n",
    "update_queries = []\n",
    "total = 0\n",
    "while row:\n",
    "    exp_id, q_matrix, q_matrix_hat, X, concepts = row\n",
    "    \n",
    "    # Get deleted questions\n",
    "    q_matrix = np.asarray(q_matrix)\n",
    "    if concepts != 14:\n",
    "        attempts_per_question = np.asarray(X).sum(axis=0).sum(axis=1)\n",
    "        del_questions = [idx for idx,value in enumerate(attempts_per_question) if value < 3]\n",
    "        q_matrix = np.delete(q_matrix, del_questions, axis=1)\n",
    "\n",
    "    # Normalize q-matrix\n",
    "    question_similarity = cosine_similarity(q_matrix.T)\n",
    "    question_hat_similarity = cosine_similarity(np.asarray(q_matrix_hat).T)\n",
    "    error = question_similarity - question_hat_similarity\n",
    "#     error_sum = np.sqrt(np.sum(np.power(error,2)))\n",
    "    rmse = np.sqrt(np.mean(np.power(error,2)))\n",
    "    \n",
    "    update_query = \"update EDM2020_2020_02_19 set q_matrix_rmse = %s where experiment_id = %s\"\n",
    "    query_values = (rmse, exp_id)\n",
    "    query = cursor.mogrify(update_query, query_values)\n",
    "    update_queries.append(query)\n",
    "#     cursor.execute(query)\n",
    "    total += 1\n",
    "    try:\n",
    "        row = cursor.fetchone()\n",
    "    except psycopg2.ProgrammingError:\n",
    "        row = False"
   ]
  },
  {
   "cell_type": "code",
   "execution_count": 39,
   "metadata": {},
   "outputs": [],
   "source": [
    "for query in update_queries:\n",
    "    cursor.execute(query)"
   ]
  },
  {
   "cell_type": "code",
   "execution_count": 40,
   "metadata": {},
   "outputs": [
    {
     "data": {
      "text/plain": [
       "406"
      ]
     },
     "execution_count": 40,
     "metadata": {},
     "output_type": "execute_result"
    }
   ],
   "source": [
    "total"
   ]
  }
 ],
 "metadata": {
  "kernelspec": {
   "display_name": "Django Shell-Plus",
   "language": "python",
   "name": "django_extensions"
  },
  "language_info": {
   "codemirror_mode": {
    "name": "ipython",
    "version": 3
   },
   "file_extension": ".py",
   "mimetype": "text/x-python",
   "name": "python",
   "nbconvert_exporter": "python",
   "pygments_lexer": "ipython3",
   "version": "3.6.10"
  }
 },
 "nbformat": 4,
 "nbformat_minor": 4
}
