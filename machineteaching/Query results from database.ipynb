{
 "cells": [
  {
   "cell_type": "code",
   "execution_count": 8,
   "metadata": {},
   "outputs": [],
   "source": [
    "import psycopg2\n",
    "import pandas as pd"
   ]
  },
  {
   "cell_type": "code",
   "execution_count": 2,
   "metadata": {},
   "outputs": [],
   "source": [
    "connection = psycopg2.connect(user = \"machineteaching\",\n",
    "                                  password = \"***REMOVED***\",\n",
    "                                  host = \"localhost\",\n",
    "#                                   port = \"5432\",\n",
    "                                  database = \"machineteaching\")\n",
    "connection.autocommit=True\n",
    "cursor = connection.cursor()"
   ]
  },
  {
   "cell_type": "code",
   "execution_count": 53,
   "metadata": {},
   "outputs": [],
   "source": [
    "create_table_query = '''CREATE TABLE EXPERIMENTS\n",
    "    (EXPERIMENT_ID SERIAL PRIMARY KEY,\n",
    "    DATASET TEXT NOT NULL,\n",
    "    X REAL ARRAY NOT NULL,\n",
    "    Y REAL ARRAY NOT NULL,\n",
    "    VECTORIZER TEXT NOT NULL,\n",
    "    IS_BINARY BOOLEAN NOT NULL,\n",
    "    MIN_DF REAL NOT NULL,\n",
    "    DISTANCE TEXT NOT NULL,\n",
    "    K INTEGER NOT NULL,\n",
    "    METHOD TEXT NOT NULL,\n",
    "    MODEL  bytea NOT NULL,\n",
    "    CLUSTERING_TIME INTEGER NOT NULL,\n",
    "    GAP REAL NOT NULL,\n",
    "    GAP_STD REAL NOT NULL,\n",
    "    GAP_TIME REAL NOT NULL,\n",
    "    SILHOUETTE REAL NOT NULL,\n",
    "    SILHOUETTE_SAMPLES REAL ARRAY NOT NULL,\n",
    "    SILHOUETTE_TIME REAL NOT NULL,\n",
    "    COHERENCE_SAMPLES REAL ARRAY NOT NULL,\n",
    "    COHERENCE_MED REAL NOT NULL,\n",
    "    COHERENCE_STD REAL NOT NULL,\n",
    "    COHERENCE_TIME REAL NOT NULL,\n",
    "    COHERENCE_K INTEGER NOT NULL)\n",
    "    '''\n",
    "\n",
    "cursor.execute(create_table_query)\n",
    "connection.commit()"
   ]
  },
  {
   "cell_type": "code",
   "execution_count": 54,
   "metadata": {},
   "outputs": [
    {
     "name": "stdout",
     "output_type": "stream",
     "text": [
      "[]\n"
     ]
    }
   ],
   "source": [
    "cols = ['method', 'clustering_time', 'gap_time', 'silhouette_time', 'coherence_time']\n",
    "select_query = '''SELECT %s FROM EXPERIMENTS''' % \", \".join(cols)\n",
    "cursor.execute(select_query)\n",
    "r = cursor.fetchall()\n",
    "print(r)"
   ]
  },
  {
   "cell_type": "code",
   "execution_count": 48,
   "metadata": {},
   "outputs": [],
   "source": [
    "df = pd.DataFrame(r, columns=cols)"
   ]
  },
  {
   "cell_type": "code",
   "execution_count": 49,
   "metadata": {},
   "outputs": [],
   "source": [
    "df['total_time'] = df.sum(axis=1)"
   ]
  },
  {
   "cell_type": "code",
   "execution_count": 50,
   "metadata": {},
   "outputs": [
    {
     "data": {
      "text/html": [
       "<div>\n",
       "<style scoped>\n",
       "    .dataframe tbody tr th:only-of-type {\n",
       "        vertical-align: middle;\n",
       "    }\n",
       "\n",
       "    .dataframe tbody tr th {\n",
       "        vertical-align: top;\n",
       "    }\n",
       "\n",
       "    .dataframe thead th {\n",
       "        text-align: right;\n",
       "    }\n",
       "</style>\n",
       "<table border=\"1\" class=\"dataframe\">\n",
       "  <thead>\n",
       "    <tr style=\"text-align: right;\">\n",
       "      <th></th>\n",
       "      <th>method</th>\n",
       "      <th>clustering_time</th>\n",
       "      <th>gap_time</th>\n",
       "      <th>silhouette_time</th>\n",
       "      <th>coherence_time</th>\n",
       "      <th>total_time</th>\n",
       "    </tr>\n",
       "  </thead>\n",
       "  <tbody>\n",
       "    <tr>\n",
       "      <th>0</th>\n",
       "      <td>nmf</td>\n",
       "      <td>1</td>\n",
       "      <td>353.823</td>\n",
       "      <td>0.102683</td>\n",
       "      <td>3.68096</td>\n",
       "      <td>358.606643</td>\n",
       "    </tr>\n",
       "    <tr>\n",
       "      <th>1</th>\n",
       "      <td>nmf</td>\n",
       "      <td>2</td>\n",
       "      <td>350.142</td>\n",
       "      <td>0.468195</td>\n",
       "      <td>3.35627</td>\n",
       "      <td>355.966465</td>\n",
       "    </tr>\n",
       "    <tr>\n",
       "      <th>2</th>\n",
       "      <td>nmf</td>\n",
       "      <td>1</td>\n",
       "      <td>351.739</td>\n",
       "      <td>0.371906</td>\n",
       "      <td>5.14118</td>\n",
       "      <td>358.252086</td>\n",
       "    </tr>\n",
       "    <tr>\n",
       "      <th>3</th>\n",
       "      <td>nmf</td>\n",
       "      <td>2</td>\n",
       "      <td>353.816</td>\n",
       "      <td>0.727259</td>\n",
       "      <td>4.99744</td>\n",
       "      <td>361.540699</td>\n",
       "    </tr>\n",
       "  </tbody>\n",
       "</table>\n",
       "</div>"
      ],
      "text/plain": [
       "  method  clustering_time  gap_time  silhouette_time  coherence_time  \\\n",
       "0    nmf                1   353.823         0.102683         3.68096   \n",
       "1    nmf                2   350.142         0.468195         3.35627   \n",
       "2    nmf                1   351.739         0.371906         5.14118   \n",
       "3    nmf                2   353.816         0.727259         4.99744   \n",
       "\n",
       "   total_time  \n",
       "0  358.606643  \n",
       "1  355.966465  \n",
       "2  358.252086  \n",
       "3  361.540699  "
      ]
     },
     "execution_count": 50,
     "metadata": {},
     "output_type": "execute_result"
    }
   ],
   "source": [
    "df"
   ]
  },
  {
   "cell_type": "code",
   "execution_count": 52,
   "metadata": {},
   "outputs": [],
   "source": [
    "drop_query = '''DROP TABLE EXPERIMENTS'''\n",
    "cursor.execute(drop_query)\n",
    "connection.commit()"
   ]
  }
 ],
 "metadata": {
  "kernelspec": {
   "display_name": "Python 3",
   "language": "python",
   "name": "python3"
  },
  "language_info": {
   "codemirror_mode": {
    "name": "ipython",
    "version": 3
   },
   "file_extension": ".py",
   "mimetype": "text/x-python",
   "name": "python",
   "nbconvert_exporter": "python",
   "pygments_lexer": "ipython3",
   "version": "3.6.2"
  }
 },
 "nbformat": 4,
 "nbformat_minor": 2
}
