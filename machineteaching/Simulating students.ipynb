{
 "cells": [
  {
   "cell_type": "code",
<<<<<<< Updated upstream
   "execution_count": 13,
=======
   "execution_count": 2,
>>>>>>> Stashed changes
   "metadata": {},
   "outputs": [],
   "source": [
    "import numpy as np\n",
    "import pickle\n",
    "from questions.models import Solution, Cluster\n",
    "from questions.sampling import get_next_sample\n",
    "import matplotlib.pyplot as plt\n",
    "import networkx as nx\n",
    "from IPython.display import Image"
   ]
  },
  {
   "cell_type": "code",
<<<<<<< Updated upstream
   "execution_count": 6,
=======
   "execution_count": 3,
>>>>>>> Stashed changes
   "metadata": {},
   "outputs": [
    {
     "name": "stdout",
     "output_type": "stream",
     "text": [
      "<QuerySet [<Cluster: 0 - Math/String>, <Cluster: 1 - Conditional>, <Cluster: 2 - Loop>]>\n"
     ]
    }
   ],
   "source": [
    "all_clusters = Cluster.objects.all()\n",
    "print(all_clusters)"
   ]
  },
  {
   "cell_type": "code",
<<<<<<< Updated upstream
   "execution_count": 7,
=======
   "execution_count": 4,
>>>>>>> Stashed changes
   "metadata": {},
   "outputs": [
    {
     "data": {
      "text/plain": [
       "<QuerySet [{'cluster': 1, 'count': 10}, {'cluster': 2, 'count': 31}, {'cluster': 0, 'count': 13}]>"
      ]
     },
<<<<<<< Updated upstream
     "execution_count": 7,
=======
     "execution_count": 4,
>>>>>>> Stashed changes
     "metadata": {},
     "output_type": "execute_result"
    }
   ],
   "source": [
    "all_solutions = Solution.objects.filter(ignore=False)\n",
    "clusters = all_solutions.values('cluster').annotate(count=Count('cluster'))\n",
    "clusters"
   ]
  },
  {
   "cell_type": "markdown",
   "metadata": {},
   "source": [
    "### Calculate next problems"
   ]
  },
  {
   "cell_type": "markdown",
   "metadata": {},
   "source": [
    "Initial conditions"
   ]
  },
  {
   "cell_type": "code",
<<<<<<< Updated upstream
   "execution_count": 8,
=======
   "execution_count": 5,
>>>>>>> Stashed changes
   "metadata": {
    "collapsed": true
   },
   "outputs": [],
   "source": [
    "def clear_belief_state():\n",
    "    # Create X as an empty belief state (X is the machine's model of the student's distribution)\n",
    "    X = np.zeros(settings.DOC_TOPIC_SHAPE)\n",
    "\n",
    "    # Get Solution ids in a list, to serve as an index reference to X\n",
    "    all_solutions = Solution.objects.filter(ignore=False)\n",
    "    all_solutions_idx = list(all_solutions.values_list('id', flat=True).order_by('id'))\n",
    "\n",
    "    # Create Y as a document_topic matrix. For the first version, each document belongs to one topic\n",
    "    Y = np.zeros(settings.DOC_TOPIC_SHAPE)\n",
    "    clusters = all_solutions.values_list('cluster', flat=True).order_by('id')\n",
    "    for idx, cluster_value in enumerate(clusters):\n",
    "        Y[idx, cluster_value] = 1\n",
    "\n",
    "    # Unpickle similarity matrix (W)\n",
    "    with open('similarity.pkl', 'rb') as pklfile:\n",
    "        W = pickle.load(pklfile)\n",
    "\n",
    "    # Set L as an unlabelled set\n",
    "    L = []\n",
    "    \n",
    "    return X, Y, W, L, all_solutions_idx"
   ]
  },
  {
   "cell_type": "code",
<<<<<<< Updated upstream
   "execution_count": 9,
=======
   "execution_count": 6,
>>>>>>> Stashed changes
   "metadata": {
    "collapsed": true
   },
   "outputs": [],
   "source": [
    "def update_belief_state(X, Y, W, L, all_solutions_idx, success_rate, clusters):\n",
    "    # Get next sample\n",
    "    solution_idx = get_next_sample(X, Y, W, L)\n",
    "    solution_cluster = Solution.objects.get(pk=all_solutions_idx[solution_idx]).cluster.pk\n",
    "\n",
    "    # Draw if user gets it correctly or not\n",
    "    success = np.random.binomial(1, success_rate)\n",
    "    print(solution_cluster)\n",
    "#     print(success)\n",
    "\n",
    "    if solution_cluster in clusters and success:\n",
    "        # Got it correcly\n",
    "        X[solution_idx, solution_cluster] = 1\n",
    "\n",
    "    # Add it as labeled sample\n",
    "    L.append(solution_idx)\n",
    "    return X, Y, L, solution_cluster"
   ]
  },
  {
   "cell_type": "code",
<<<<<<< Updated upstream
   "execution_count": 22,
=======
   "execution_count": 49,
>>>>>>> Stashed changes
   "metadata": {},
   "outputs": [
    {
     "name": "stdout",
     "output_type": "stream",
     "text": [
      "2\n",
      "2\n",
      "2\n",
      "2\n",
      "2\n",
      "2\n",
<<<<<<< Updated upstream
      "0\n",
      "2\n",
      "0\n",
      "2\n",
      "0\n",
      "2\n",
      "1\n",
      "1\n",
      "2\n",
      "0\n",
      "0\n",
      "2\n",
      "1\n",
      "0\n",
      "1\n",
      "2\n",
      "0\n",
      "1\n",
      "0\n",
      "2\n",
      "0\n",
      "1\n",
      "0\n",
      "1\n"
=======
      "0\n",
      "0\n",
      "2\n",
      "2\n"
>>>>>>> Stashed changes
     ]
    }
   ],
   "source": [
    "# Student A: gets only conditional questions (1) with X% of correctness\n",
    "success_rate = 1\n",
    "correct_clusters = [2]\n",
    "X, Y, W, L, all_solutions_idx = clear_belief_state()\n",
    "states_transition = []\n",
    "\n",
    "for i in range(10):\n",
    "    X, Y, L, solution_cluster = update_belief_state(X, Y, W, L, all_solutions_idx, success_rate, correct_clusters)\n",
    "    states_transition.append(solution_cluster)"
   ]
  },
  {
   "cell_type": "code",
<<<<<<< Updated upstream
   "execution_count": 23,
=======
   "execution_count": 50,
>>>>>>> Stashed changes
   "metadata": {},
   "outputs": [],
   "source": [
    "states = list(all_clusters.values_list('pk', flat=True))\n",
    "\n",
    "# Create transition matrix\n",
    "Q = np.zeros((len(states), len(states)))\n",
    "i = 0\n",
    "while i < len(states_transition)-1:\n",
    "    Q[states_transition[i], states_transition[i+1]] +=1\n",
    "    i+=1\n",
    "    \n",
    "G = nx.MultiDiGraph()\n",
    "labels={}\n",
    "edge_labels={}\n",
    "\n",
    "for i, origin_state in enumerate(states):\n",
    "    for j, destination_state in enumerate(states):\n",
    "        rate = Q[i][j]\n",
    "        if rate > 0:\n",
    "            G.add_edge(origin_state,\n",
    "                       destination_state,\n",
    "                       weight=rate,\n",
    "                       label=\"%d\" % rate)\n",
    "            edge_labels[(origin_state, destination_state)] = label=\"%d\" %rate\n",
    "            \n",
    "plt.figure(figsize=(14,7))\n",
    "node_size = 200\n",
    "# pos = {state:list(state) for state in states}\n",
    "pos = nx.circular_layout(G)\n",
    "# nx.draw_networkx_edges(G,pos,width=1.0,alpha=0.5)\n",
    "nx.draw_networkx_edges(G,pos)\n",
    "nx.draw_networkx_labels(G, pos, font_weight=2)\n",
    "nx.draw_networkx_edge_labels(G, pos, edge_labels)\n",
    "# nx.draw(G, pos=pos, with_labels=True)\n",
    "plt.axis('off');\n",
    "\n",
    "nx.nx_pydot.write_dot(G, 'mc.dot')"
   ]
  },
  {
   "cell_type": "code",
<<<<<<< Updated upstream
   "execution_count": 24,
=======
   "execution_count": 51,
>>>>>>> Stashed changes
   "metadata": {},
   "outputs": [],
   "source": [
    "!neato -Tps -Kcirco -Goverlap=scale mc.dot -o mc.ps; convert mc.ps mc.png"
   ]
  },
  {
   "cell_type": "code",
<<<<<<< Updated upstream
   "execution_count": 25,
=======
   "execution_count": 52,
>>>>>>> Stashed changes
   "metadata": {},
   "outputs": [
    {
     "data": {
<<<<<<< Updated upstream
      "image/png": "iVBORw0KGgoAAAANSUhEUgAAALEAAACUCAQAAAB2QQDLAAAJKWlDQ1BpY2MAAHjalZFnUJSHFobP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\n",
=======
      "image/png": "iVBORw0KGgoAAAANSUhEUgAAANUAAAAyCAQAAABhCFYyAAAABGdBTUEAALGPC/xhBQAAAAFzUkdC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\n",
>>>>>>> Stashed changes
      "text/plain": [
       "<IPython.core.display.Image object>"
      ]
     },
<<<<<<< Updated upstream
     "execution_count": 25,
=======
     "execution_count": 52,
     "metadata": {
      "image/png": {
       "width": "50%"
      }
     },
     "output_type": "execute_result"
    }
   ],
   "source": [
    "Image(\"mc.png\", width=\"50%\")"
   ]
  },
  {
   "cell_type": "code",
   "execution_count": 36,
   "metadata": {},
   "outputs": [
    {
     "data": {
      "image/png": "iVBORw0KGgoAAAANSUhEUgAAALgAAACUCAQAAACKVCsBAAAABGdBTUEAALGPC/xhBQAAAAFzUkdC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\nAAAAE3RFWHRwczpMZXZlbABBZG9iZS0zLjAKgS8TaAAAAABJRU5ErkJggg==\n",
      "text/plain": [
       "<IPython.core.display.Image object>"
      ]
     },
     "execution_count": 36,
>>>>>>> Stashed changes
     "metadata": {
      "image/png": {
       "width": "50%"
      }
     },
     "output_type": "execute_result"
    }
   ],
   "source": [
    "Image(\"mc.png\", width=\"50%\")"
   ]
  }
 ],
 "metadata": {
  "kernelspec": {
   "display_name": "Django Shell-Plus",
   "language": "python",
   "name": "django_extensions"
  },
  "language_info": {
   "codemirror_mode": {
    "name": "ipython",
    "version": 3
   },
   "file_extension": ".py",
   "mimetype": "text/x-python",
   "name": "python",
   "nbconvert_exporter": "python",
   "pygments_lexer": "ipython3",
   "version": "3.6.2"
  }
 },
 "nbformat": 4,
 "nbformat_minor": 2
}
