{
 "cells": [
  {
   "cell_type": "code",
   "execution_count": 43,
   "metadata": {},
   "outputs": [],
   "source": [
    "# Helpers\n",
    "import pickle\n",
    "import numpy as np\n",
    "import time\n",
    "\n",
    "# DB \n",
    "import psycopg2\n",
    "from django.conf import settings\n",
    "\n",
    "# Learning\n",
    "from fdtf import feedback_driven_tensor_factorization\n",
    "from sklearn.cluster import AgglomerativeClustering\n",
    "\n",
    "# Evaluation\n",
    "from sklearn.metrics.pairwise import cosine_similarity, cosine_distances\n",
    "from sklearn.metrics import roc_curve, auc, f1_score, confusion_matrix\n",
    "from skbio.stats.distance import anosim\n",
    "from skbio import DistanceMatrix\n",
    "\n",
    "# Plot\n",
    "import matplotlib.pyplot as plt\n",
    "import seaborn as sns"
   ]
  },
  {
   "cell_type": "code",
   "execution_count": 2,
   "metadata": {},
   "outputs": [],
   "source": [
    "connection = psycopg2.connect(user = settings.DATABASES[\"default\"][\"USER\"],\n",
    "                                  password = settings.DATABASES[\"default\"][\"PASSWORD\"],\n",
    "                                  host = settings.DATABASES[\"default\"][\"HOST\"],\n",
    "                                  port = settings.DATABASES[\"default\"][\"PORT\"],\n",
    "                                  database = settings.DATABASES[\"default\"][\"NAME\"])\n",
    "connection.autocommit=True\n",
    "cursor = connection.cursor()"
   ]
  },
  {
   "cell_type": "code",
   "execution_count": 26,
   "metadata": {},
   "outputs": [
    {
     "name": "stdout",
     "output_type": "stream",
     "text": [
      "CPU times: user 9.95 s, sys: 775 ms, total: 10.7 s\n",
      "Wall time: 8min 43s\n"
     ]
    }
   ],
   "source": [
    "%%time\n",
    "query_test = \"\"\"select experiment_id, sp, x, sp_hat from edm2020_2020_02_19 \n",
    "where method='fdtf' order by train_rmse limit 10\"\"\"\n",
    "\n",
    "cursor.execute(query_test)\n",
    "rows = cursor.fetchall()"
   ]
  },
  {
   "cell_type": "code",
   "execution_count": 73,
   "metadata": {},
   "outputs": [
    {
     "name": "stdout",
     "output_type": "stream",
     "text": [
      "CPU times: user 885 ms, sys: 48.1 ms, total: 933 ms\n",
      "Wall time: 36.3 s\n"
     ]
    }
   ],
   "source": [
    "%%time\n",
    "query_test = \"\"\"select experiment_id, sp, x, sp_hat from edm2020_2020_02_19 \n",
    "where method='fdtf' order by test_rmse limit 10\"\"\"\n",
    "\n",
    "cursor.execute(query_test)\n",
    "rows_test = cursor.fetchall()"
   ]
  },
  {
   "cell_type": "code",
   "execution_count": 96,
   "metadata": {
    "scrolled": true
   },
   "outputs": [
    {
     "name": "stdout",
     "output_type": "stream",
     "text": [
      "Proportional: 0.13\n",
      "Acc: 0.67\n",
      "F-Score: 0.20\n",
      "Train 1: 672\n",
      "Train 1 Pred: 669\n",
      "LL: -0.71\n",
      "[[2067  538]\n",
      " [ 541  131]]\n"
     ]
    },
    {
     "data": {
      "image/png": "[encoded data removed]",
      "text/plain": [
       "<Figure size 432x288 with 1 Axes>"
      ]
     },
     "metadata": {
      "needs_background": "light"
     },
     "output_type": "display_data"
    },
    {
     "name": "stdout",
     "output_type": "stream",
     "text": [
      "Proportional: 0.14\n",
      "Acc: 0.66\n",
      "F-Score: 0.18\n",
      "Train 1: 649\n",
      "Train 1 Pred: 648\n",
      "LL: -0.70\n",
      "[[1982  534]\n",
      " [ 535  114]]\n"
     ]
    },
    {
     "data": {
      "image/png": "[encoded data removed]",
      "text/plain": [
       "<Figure size 432x288 with 1 Axes>"
      ]
     },
     "metadata": {
      "needs_background": "light"
     },
     "output_type": "display_data"
    },
    {
     "name": "stdout",
     "output_type": "stream",
     "text": [
      "Proportional: 0.16\n",
      "Acc: 0.67\n",
      "F-Score: 0.19\n",
      "Train 1: 672\n",
      "Train 1 Pred: 671\n",
      "LL: -0.70\n",
      "[[2062  543]\n",
      " [ 544  128]]\n"
     ]
    },
    {
     "data": {
      "image/png": "[encoded data removed]",
      "text/plain": [
       "<Figure size 432x288 with 1 Axes>"
      ]
     },
     "metadata": {
      "needs_background": "light"
     },
     "output_type": "display_data"
    },
    {
     "name": "stdout",
     "output_type": "stream",
     "text": [
      "Proportional: 0.16\n",
      "Acc: 0.67\n",
      "F-Score: 0.19\n",
      "Train 1: 672\n",
      "Train 1 Pred: 671\n",
      "LL: -0.69\n",
      "[[2060  545]\n",
      " [ 546  126]]\n"
     ]
    },
    {
     "data": {
      "image/png": "[encoded data removed]",
      "text/plain": [
       "<Figure size 432x288 with 1 Axes>"
      ]
     },
     "metadata": {
      "needs_background": "light"
     },
     "output_type": "display_data"
    },
    {
     "name": "stdout",
     "output_type": "stream",
     "text": [
      "Proportional: 0.18\n",
      "Acc: 0.66\n",
      "F-Score: 0.18\n",
      "Train 1: 594\n",
      "Train 1 Pred: 593\n",
      "LL: -0.67\n",
      "[[1763  485]\n",
      " [ 486  108]]\n"
     ]
    },
    {
     "data": {
      "image/png": "[encoded data removed]",
      "text/plain": [
       "<Figure size 432x288 with 1 Axes>"
      ]
     },
     "metadata": {
      "needs_background": "light"
     },
     "output_type": "display_data"
    },
    {
     "name": "stdout",
     "output_type": "stream",
     "text": [
      "Proportional: 0.20\n",
      "Acc: 0.67\n",
      "F-Score: 0.19\n",
      "Train 1: 649\n",
      "Train 1 Pred: 648\n",
      "LL: -0.66\n",
      "[[1993  523]\n",
      " [ 524  125]]\n"
     ]
    },
    {
     "data": {
      "image/png": "[encoded data removed]",
      "text/plain": [
       "<Figure size 432x288 with 1 Axes>"
      ]
     },
     "metadata": {
      "needs_background": "light"
     },
     "output_type": "display_data"
    },
    {
     "name": "stdout",
     "output_type": "stream",
     "text": [
      "Proportional: 0.15\n",
      "Acc: 0.67\n",
      "F-Score: 0.19\n",
      "Train 1: 672\n",
      "Train 1 Pred: 671\n",
      "LL: -0.70\n",
      "[[2060  545]\n",
      " [ 546  126]]\n"
     ]
    },
    {
     "data": {
      "image/png": "[encoded data removed]",
      "text/plain": [
       "<Figure size 432x288 with 1 Axes>"
      ]
     },
     "metadata": {
      "needs_background": "light"
     },
     "output_type": "display_data"
    },
    {
     "name": "stdout",
     "output_type": "stream",
     "text": [
      "Proportional: 0.16\n",
      "Acc: 0.67\n",
      "F-Score: 0.19\n",
      "Train 1: 672\n",
      "Train 1 Pred: 671\n",
      "LL: -0.69\n",
      "[[2060  545]\n",
      " [ 546  126]]\n"
     ]
    },
    {
     "data": {
      "image/png": "[encoded data removed]",
      "text/plain": [
       "<Figure size 432x288 with 1 Axes>"
      ]
     },
     "metadata": {
      "needs_background": "light"
     },
     "output_type": "display_data"
    },
    {
     "name": "stdout",
     "output_type": "stream",
     "text": [
      "Proportional: 0.15\n",
      "Acc: 0.67\n",
      "F-Score: 0.20\n",
      "Train 1: 672\n",
      "Train 1 Pred: 671\n",
      "LL: -0.70\n",
      "[[2067  538]\n",
      " [ 539  133]]\n"
     ]
    },
    {
     "data": {
      "image/png": "[encoded data removed]",
      "text/plain": [
       "<Figure size 432x288 with 1 Axes>"
      ]
     },
     "metadata": {
      "needs_background": "light"
     },
     "output_type": "display_data"
    },
    {
     "name": "stdout",
     "output_type": "stream",
     "text": [
      "Proportional: 0.18\n",
      "Acc: 0.67\n",
      "F-Score: 0.18\n",
      "Train 1: 672\n",
      "Train 1 Pred: 671\n",
      "LL: -0.69\n",
      "[[2057  548]\n",
      " [ 549  123]]\n"
     ]
    },
    {
     "data": {
      "image/png": "[encoded data removed]",
      "text/plain": [
       "<Figure size 432x288 with 1 Axes>"
      ]
     },
     "metadata": {
      "needs_background": "light"
     },
     "output_type": "display_data"
    }
   ],
   "source": [
    "experiments_train = []\n",
    "for row in rows:\n",
    "    exp_id, sp, X, sp_hat = row\n",
    "    X = np.asarray(X)\n",
    "    sp = np.asarray(sp)\n",
    "    sp_hat = np.asarray(sp_hat)\n",
    "    \n",
    "    attempts_per_question = X.sum(axis=0).sum(axis=1)\n",
    "    del_questions = [idx for idx,value in enumerate(attempts_per_question) if value < 3]\n",
    "    X = np.delete(X, del_questions, axis=1)\n",
    "    \n",
    "    # Get train predicted values\n",
    "    plt.figure()\n",
    "    y = sp[np.where(X == 1)]\n",
    "    y_pred = sp_hat[np.where(X == 1)]\n",
    "    \n",
    "    y_pred_sorted =y_pred.copy()\n",
    "    y_pred_sorted.sort()\n",
    "    train_1 = np.where(y == 1)[0].shape[0]\n",
    "    y_pred_binary = np.where(np.asarray(y_pred) > y_pred_sorted[-train_1], 1, 0)\n",
    "    acc = np.logical_not(np.logical_xor(y, y_pred_binary)).sum()/len(y)\n",
    "    f1 = f1_score(y, y_pred_binary)\n",
    "    train_pred_1 = np.where(y_pred_binary == 1)[0].shape[0]\n",
    "    y_pred_all = np.zeros((y.shape[0], 2))\n",
    "    y_pred_all[:,0] = 1-y_pred\n",
    "    y_pred_all[:,1] = y_pred\n",
    "    ll = -np.mean(np.log(y_pred_all[range(y.shape[0]), y.astype(int)]))\n",
    "    \n",
    "    print(\"Proportional: %.2f\" % y_pred_sorted[-train_1])\n",
    "    print(\"Acc: %.2f\" % acc)\n",
    "    print(\"F-Score: %.2f\" % f1)\n",
    "    print(\"Train 1: %d\" % train_1)\n",
    "    print(\"Train 1 Pred: %d\" % train_pred_1)\n",
    "    print(\"LL: %.2f\" % ll)\n",
    "    print(confusion_matrix(y,y_pred_binary))\n",
    "        \n",
    "    sns.distplot(y, kde=False)\n",
    "    sns.distplot(y_pred, kde=False)\n",
    "    sns.distplot(y_pred_binary, kde=False)\n",
    "    plt.title(\"%d\" % exp_id)\n",
    "    plt.show()\n",
    "    \n",
    "     # Calculate AUC and threshold to binarize prediction\n",
    "#     fpr, tpr, thresholds = roc_curve(y, y_pred, pos_label=1)\n",
    "#     auc_score = auc(fpr, tpr)\n",
    "#     plt.figure()\n",
    "#     lw = 2\n",
    "#     plt.plot(fpr, tpr, color='darkorange',\n",
    "#              lw=lw, label='ROC curve (area = %0.2f)' % auc_score)\n",
    "#     plt.plot([0, 1], [0, 1], color='navy', lw=lw, linestyle='--')\n",
    "#     plt.xlim([0.0, 1.0])\n",
    "#     plt.ylim([0.0, 1.05])\n",
    "#     plt.xlabel('False Positive Rate')\n",
    "#     plt.ylabel('True Positive Rate')\n",
    "#     plt.title('Receiver operating characteristic example')\n",
    "#     plt.legend(loc=\"lower right\")\n",
    "#     plt.show()\n",
    "    \n",
    "    experiments_train.append(exp_id)"
   ]
  },
  {
   "cell_type": "code",
   "execution_count": 152,
   "metadata": {},
   "outputs": [],
   "source": [
    "from scipy import special"
   ]
  },
  {
   "cell_type": "code",
   "execution_count": 261,
   "metadata": {},
   "outputs": [
    {
     "name": "stdout",
     "output_type": "stream",
     "text": [
      "CPU times: user 10.6 ms, sys: 12 ms, total: 22.7 ms\n",
      "Wall time: 9.96 s\n"
     ]
    }
   ],
   "source": [
    "%%time\n",
    "query = \"\"\"select experiment_id, sp_test, sp_hat, x, x_test, sk_hat, q_matrix_hat, mu, auc_threshold\n",
    "from EDM2020_2020_02_19 where method='fdtf' and experiment_id=41\"\"\"\n",
    "cursor.execute(query)"
   ]
  },
  {
   "cell_type": "code",
   "execution_count": 262,
   "metadata": {},
   "outputs": [],
   "source": [
    "row = cursor.fetchone()"
   ]
  },
  {
   "cell_type": "code",
   "execution_count": 267,
   "metadata": {},
   "outputs": [
    {
     "name": "stdout",
     "output_type": "stream",
     "text": [
      "CPU times: user 97.6 ms, sys: 0 ns, total: 97.6 ms\n",
      "Wall time: 101 ms\n"
     ]
    }
   ],
   "source": [
    "%%time\n",
    "update_queries = []\n",
    "total = 0\n",
    "error_count = 0\n",
    "\n",
    "exp_id, sp_test, sp_hat, X, X_test, sk_hat, q_matrix_hat, mu, auc_threshold = row\n",
    "sp_test = np.asarray(sp_test)\n",
    "sp_hat = np.asarray(sp_hat)\n",
    "sk_hat = np.asarray(sk_hat)\n",
    "X_test = np.asarray(X_test)\n",
    "sp_hat_test = np.zeros((sp_hat.shape[0], sp_hat.shape[1], sp_test.shape[2]))\n",
    "attempts = min(sp_test.shape[2], sp_hat.shape[2])\n",
    "sp_hat_test[:, :, :attempts] = sp_hat[:, :, :attempts]\n",
    "sk_hat_test = np.zeros((sk_hat.shape[0], sk_hat.shape[1], sp_test.shape[2]))\n",
    "sk_hat_test[:, :, :attempts] = sk_hat[:, :, :attempts]\n",
    "q_matrix_hat = np.asarray(q_matrix_hat)\n",
    "\n",
    "# Calculate SK and SP for the next test attempts\n",
    "for attempt in range(1, attempts):\n",
    "    students = np.where(X_test[:,:, attempt] == 1)\n",
    "    for student in students:\n",
    "        sk_hat_test[student, :, attempt] = (2*sk_hat_test[student, :, attempt-1]) + \\\n",
    "                                        2*(1-sk_hat_test[student, :, attempt-1])/(1+np.exp(\n",
    "                                            -mu*np.dot(X_test[student, :, attempt], q_matrix_hat.T))) - 1\n",
    "        sp_hat_test[student, :, attempt] = np.dot(sk_hat_test[student, :, attempt], q_matrix_hat)\n",
    "\n",
    "# Get test predicted values\n",
    "y = sp_test[np.where(X_test == 1)]\n",
    "y_pred = sp_hat_test[np.where(X_test == 1)]\n",
    "\n",
    "# Binarize prediction\n",
    "y_pred_binary = np.where(np.asarray(y_pred) > auc_threshold, 1, 0)\n",
    "\n",
    "# Calculate accuracy, RMSE, F1, NLL\n",
    "acc = np.logical_not(np.logical_xor(y, y_pred_binary)).sum()/len(y)\n",
    "rmse = np.sqrt(np.power((y-y_pred), 2)).mean()\n",
    "f1 = f1_score(y, y_pred_binary)\n",
    "nll = -special.xlogy(y, y_pred) - special.xlogy(1-y, 1-y_pred)\n",
    "\n",
    "y_pred_all = np.zeros((y.shape[0], 2))\n",
    "y_pred_all[:,0] = 1-y_pred\n",
    "y_pred_all[:,1] = y_pred\n",
    "nll_special = (-np.ma.log(y_pred_all[range(y.shape[0]),y.astype(int)])).mean()\n",
    "\n",
    "# Substitute inf by max NLL\n",
    "idx = np.where(np.isinf(nll))\n",
    "nll[idx] = 0\n",
    "max_nll = np.max(nll)\n",
    "nll[idx] = max_nll\n",
    "nll = np.mean(nll)\n",
    "\n",
    "update = {\n",
    "    \"test_acc\": acc,\n",
    "    \"test_rmse\": rmse,\n",
    "    \"test_1\":  np.where(y == 1)[0].shape[0],\n",
    "    \"test_0\":  np.where(y == 0)[0].shape[0],\n",
    "    \"test_pred_1\": np.where(y_pred_binary == 1)[0].shape[0],\n",
    "    \"test_pred_0\": np.where(y_pred_binary == 0)[0].shape[0],\n",
    "    \"test_f1\": f1,\n",
    "    \"test_nll\": nll,\n",
    "    \"test_nll_special\": nll_special,\n",
    "    \"test_nll_masked\": idx[0].shape[0]\n",
    "}\n",
    "    "
   ]
  },
  {
   "cell_type": "code",
   "execution_count": 268,
   "metadata": {},
   "outputs": [
    {
     "data": {
      "text/plain": [
       "{'test_acc': 0.5752688172043011,\n",
       " 'test_rmse': 0.42105771368309025,\n",
       " 'test_1': 59,\n",
       " 'test_0': 127,\n",
       " 'test_pred_1': 50,\n",
       " 'test_pred_0': 136,\n",
       " 'test_f1': 0.2752293577981651,\n",
       " 'test_nll': 1.8684467736343737,\n",
       " 'test_nll_special': 0.7894348233309708,\n",
       " 'test_nll_masked': 44}"
      ]
     },
     "execution_count": 268,
     "metadata": {},
     "output_type": "execute_result"
    }
   ],
   "source": [
    "update"
   ]
  },
  {
   "cell_type": "code",
   "execution_count": 72,
   "metadata": {},
   "outputs": [
    {
     "ename": "NameError",
     "evalue": "name 'rows_test' is not defined",
     "output_type": "error",
     "traceback": [
      "\u001b[0;31m---------------------------------------------------------------------------\u001b[0m",
      "\u001b[0;31mNameError\u001b[0m                                 Traceback (most recent call last)",
      "\u001b[0;32m<ipython-input-72-91e9a7b22864>\u001b[0m in \u001b[0;36m<module>\u001b[0;34m\u001b[0m\n\u001b[1;32m      1\u001b[0m \u001b[0mexperiments_test\u001b[0m \u001b[0;34m=\u001b[0m \u001b[0;34m[\u001b[0m\u001b[0;34m]\u001b[0m\u001b[0;34m\u001b[0m\u001b[0;34m\u001b[0m\u001b[0m\n\u001b[0;32m----> 2\u001b[0;31m \u001b[0;32mfor\u001b[0m \u001b[0mrow\u001b[0m \u001b[0;32min\u001b[0m \u001b[0mrows_test\u001b[0m\u001b[0;34m:\u001b[0m\u001b[0;34m\u001b[0m\u001b[0;34m\u001b[0m\u001b[0m\n\u001b[0m\u001b[1;32m      3\u001b[0m     \u001b[0mexp_id\u001b[0m\u001b[0;34m,\u001b[0m \u001b[0msp_test\u001b[0m\u001b[0;34m,\u001b[0m \u001b[0msp_hat\u001b[0m\u001b[0;34m,\u001b[0m \u001b[0mX\u001b[0m\u001b[0;34m,\u001b[0m \u001b[0mX_test\u001b[0m\u001b[0;34m,\u001b[0m \u001b[0msk_hat\u001b[0m\u001b[0;34m,\u001b[0m \u001b[0mq_matrix_hat\u001b[0m\u001b[0;34m,\u001b[0m \u001b[0mmu\u001b[0m\u001b[0;34m,\u001b[0m \u001b[0mauc_threshold\u001b[0m \u001b[0;34m=\u001b[0m \u001b[0mrow\u001b[0m\u001b[0;34m\u001b[0m\u001b[0;34m\u001b[0m\u001b[0m\n\u001b[1;32m      4\u001b[0m     \u001b[0msp_test\u001b[0m \u001b[0;34m=\u001b[0m \u001b[0mnp\u001b[0m\u001b[0;34m.\u001b[0m\u001b[0masarray\u001b[0m\u001b[0;34m(\u001b[0m\u001b[0msp_test\u001b[0m\u001b[0;34m)\u001b[0m\u001b[0;34m\u001b[0m\u001b[0;34m\u001b[0m\u001b[0m\n\u001b[1;32m      5\u001b[0m     \u001b[0msp_hat\u001b[0m \u001b[0;34m=\u001b[0m \u001b[0mnp\u001b[0m\u001b[0;34m.\u001b[0m\u001b[0masarray\u001b[0m\u001b[0;34m(\u001b[0m\u001b[0msp_hat\u001b[0m\u001b[0;34m)\u001b[0m\u001b[0;34m\u001b[0m\u001b[0;34m\u001b[0m\u001b[0m\n",
      "\u001b[0;31mNameError\u001b[0m: name 'rows_test' is not defined"
     ]
    }
   ],
   "source": [
    "experiments_test = []\n",
    "for row in rows_test:\n",
    "    exp_id, sp_test, sp_hat, X, X_test, sk_hat, q_matrix_hat, mu, auc_threshold = row\n",
    "    sp_test = np.asarray(sp_test)\n",
    "    sp_hat = np.asarray(sp_hat)\n",
    "    sk_hat = np.asarray(sk_hat)\n",
    "    X = np.asarray(X)\n",
    "    X_test = np.asarray(X_test)\n",
    "    sp_hat_test = np.zeros((sp_hat.shape[0], sp_hat.shape[1], sp_test.shape[2]))\n",
    "    attempts = min(sp_test.shape[2], sp_hat.shape[2])\n",
    "    sp_hat_test[:, :, :attempts] = sp_hat[:, :, :attempts]\n",
    "    sk_hat_test = np.zeros((sk_hat.shape[0], sk_hat.shape[1], sp_test.shape[2]))\n",
    "    sk_hat_test[:, :, :attempts] = sk_hat[:, :, :attempts]\n",
    "    q_matrix_hat = np.asarray(q_matrix_hat)\n",
    "    \n",
    "    # Update X_test shape\n",
    "    attempts_per_question = X.sum(axis=0).sum(axis=1)\n",
    "    del_questions = [idx for idx,value in enumerate(attempts_per_question) if value < 3]\n",
    "    X_test = np.delete(X_test, del_questions, axis=1)\n",
    "    sp_test = np.delete(sp_test, del_questions, axis=1)\n",
    "    \n",
    "    # Calculate SK and SP for the next test attempts\n",
    "    for attempt in range(1, attempts):\n",
    "        students = np.where(X_test[:,:, attempt] == 1)\n",
    "        for student in students:\n",
    "            sk_hat_test[student, :, attempt] = (2*sk_hat_test[student, :, attempt-1]) + \\\n",
    "                                            2*(1-sk_hat_test[student, :, attempt-1])/(1+np.exp(\n",
    "                                                -mu*np.dot(X_test[student, :, attempt], q_matrix_hat.T))) - 1\n",
    "            sp_hat_test[student, :, attempt] = np.dot(sk_hat_test[student, :, attempt], q_matrix_hat)\n",
    "    \n",
    "    # Get train predicted values\n",
    "    y = sp_test[np.where(X_test == 1)]\n",
    "    y_pred = sp_hat_test[np.where(X_test == 1)]\n",
    "    \n",
    "    y_pred_sorted =y_pred.copy()\n",
    "    y_pred_sorted.sort()\n",
    "    test_1 = np.where(y == 1)[0].shape[0]\n",
    "    y_pred_binary = np.where(np.asarray(y_pred) > y_pred_sorted[-test_1], 1, 0)\n",
    "    acc = np.logical_not(np.logical_xor(y, y_pred_binary)).sum()/len(y)\n",
    "    f1 = f1_score(y, y_pred_binary)\n",
    "    test_pred_1 = np.where(y_pred_binary == 1)[0].shape[0]\n",
    "    \n",
    "    print(\"Proportional: %.2f\" % y_pred_sorted[-test_1])\n",
    "    print(\"Acc: %.2f\" % acc)\n",
    "    print(\"F-Score: %.2f\" % f1)\n",
    "    print(\"Train 1: %d\" % test_1)\n",
    "    print(\"Train 1 Pred: %d\" % test_pred_1)\n",
    "    print(confusion_matrix(y,y_pred_binary))\n",
    "        \n",
    "    sns.distplot(y, kde=False)\n",
    "    sns.distplot(y_pred, kde=False)\n",
    "    sns.distplot(y_pred_binary, kde=False)\n",
    "    plt.title(\"%d\" % exp_id)\n",
    "    plt.show()\n",
    "    \n",
    "    experiments_test.append(exp_id)"
   ]
  },
  {
   "cell_type": "code",
   "execution_count": null,
   "metadata": {},
   "outputs": [],
   "source": [
    "row[0]"
   ]
  },
  {
   "cell_type": "code",
   "execution_count": 64,
   "metadata": {},
   "outputs": [
    {
     "data": {
      "text/plain": [
       "(26030, 286, 26028, 26025, 190, 281, 26029, 26027, 26026, 26024)"
      ]
     },
     "execution_count": 64,
     "metadata": {},
     "output_type": "execute_result"
    }
   ],
   "source": [
    "tuple(experiments_train)"
   ]
  },
  {
   "cell_type": "code",
   "execution_count": 49,
   "metadata": {},
   "outputs": [],
   "source": [
    "experiments_train = (\n",
    "    # Best FDTF train_rmse \n",
    "    26030, \n",
    "#     277, \n",
    "    # Best NMF train_rmse with 1 attempt (so we can calculate accuracy) and overall\n",
    "#     52473,\n",
    "#     52126\n",
    ")\n",
    "experiments_q_matrix = (\n",
    "    # Best FDTF Q-Matrix rmse\n",
    "#     274,\n",
    "#     17805,\n",
    "    # Best NMF Q-Matrix rmse,\n",
    "#     56936,\n",
    "#     56954\n",
    ")\n",
    "\n",
    "experiments_test = (\n",
    "    # Best FDTF test rmse\n",
    "#     17,\n",
    "    #16\n",
    "    # Best NMF test rmse,\n",
    "\n",
    "    )"
   ]
  },
  {
   "cell_type": "code",
   "execution_count": 65,
   "metadata": {},
   "outputs": [],
   "source": [
    "query = \"\"\"select q_matrix, q_matrix_hat, concepts, method, experiment_id \n",
    "from EDM2020_2020_02_19 where experiment_id in %s \"\"\"\n",
    "# or experiment_id in %s or experiment_id in %s\"\"\"\n",
    "# query = \"\"\"select q_matrix, q_matrix_hat, q_matrix_rmse from edm2020_2020_02_19 \n",
    "# where method='fdtf' order by q_matrix_rmse\"\"\"\n",
    "\n",
    "query = cursor.mogrify(query, (tuple(experiments_train),))# experiments_q_matrix, experiments_test))\n",
    "cursor.execute(query)\n",
    "response = cursor.fetchall()"
   ]
  },
  {
   "cell_type": "code",
   "execution_count": 66,
   "metadata": {
    "scrolled": false
   },
   "outputs": [
    {
     "name": "stdout",
     "output_type": "stream",
     "text": [
      "190 - fdtf - train_rmse\n",
      "0.2934930471537247\n",
      "281 - fdtf - train_rmse\n",
      "0.2570014146625078\n",
      "286 - fdtf - train_rmse\n",
      "0.2774950123569253\n",
      "26024 - fdtf - train_rmse\n",
      "0.24705709700824485\n",
      "26025 - fdtf - train_rmse\n",
      "0.2398644276567038\n",
      "26026 - fdtf - train_rmse\n",
      "0.24464726296677142\n",
      "26027 - fdtf - train_rmse\n",
      "0.2779089027455871\n",
      "26028 - fdtf - train_rmse\n",
      "0.27048581702371877\n",
      "26029 - fdtf - train_rmse\n",
      "0.2595720626575647\n",
      "26030 - fdtf - train_rmse\n",
      "0.3009935870922348\n"
     ]
    }
   ],
   "source": [
    "data = {}\n",
    "for idx, row in enumerate(response):\n",
    "    data[idx] = {}\n",
    "    data[idx]['exp_id'] = row[-1]\n",
    "    data[idx]['method'] = row[-2]\n",
    "    if data[idx]['exp_id'] in experiments_train:\n",
    "        data[idx]['type'] = 'train_rmse'\n",
    "    elif data[idx]['exp_id'] in experiments_test:\n",
    "        data[idx]['type'] = 'test_rmse'\n",
    "    else:\n",
    "        data[idx]['type'] = 'q_matrix_rmse'\n",
    "    data[idx]['concepts'] = row[2]\n",
    "    print(\"%d - %s - %s\" % (data[idx]['exp_id'], data[idx]['method'], data[idx]['type']))\n",
    "    data[idx]['q_matrix'] = np.asarray(row[0])\n",
    "    q_matrix = data[idx]['q_matrix']\n",
    "#     row_sums = data[idx]['q_matrix'].sum(axis=0)\n",
    "#     data[idx]['q_matrix_norm'] = data[idx]['q_matrix'] / row_sums\n",
    "    data[idx]['q_matrix_hat'] = np.asarray(row[1])\n",
    "    q_matrix_hat = data[idx]['q_matrix_hat']\n",
    "#     row_sums = data[idx]['q_matrix_hat'].sum(axis=0)\n",
    "#     data[idx]['q_matrix_norm_hat'] = data[idx]['q_matrix_hat'] / row_sums\n",
    "    data[idx]['question_similarity'] = cosine_similarity(q_matrix.T)\n",
    "    data[idx]['question_distance'] = cosine_distances(q_matrix.T)\n",
    "    data[idx]['question_hat_similarity'] = cosine_similarity(q_matrix_hat.T)\n",
    "    data[idx]['question_hat_distance'] = cosine_distances(q_matrix_hat.T)\n",
    "    error = data[idx]['question_similarity'] - data[idx]['question_hat_similarity']\n",
    "    data[idx]['error'] = np.sqrt(np.sum(np.power(error,2)))\n",
    "    data[idx]['rmse'] = np.sqrt(np.mean(np.power(error,2)))\n",
    "    qs = data[idx]['question_similarity']\n",
    "    qs_hat = data[idx]['question_hat_similarity']\n",
    "    data[idx]['cmd'] = 1-np.trace(np.dot(qs,\n",
    "                                         qs_hat))/(np.linalg.norm(qs)*np.linalg.norm(qs_hat))\n",
    "    print(data[idx]['cmd'])"
   ]
  },
  {
   "cell_type": "code",
   "execution_count": 67,
   "metadata": {},
   "outputs": [],
   "source": [
    "import pandas as pd"
   ]
  },
  {
   "cell_type": "code",
   "execution_count": 68,
   "metadata": {},
   "outputs": [],
   "source": [
    "df = pd.DataFrame.from_dict(data, orient='index').set_index('exp_id')\n",
    "df = df[['method', 'concepts', 'type', 'error', 'rmse', 'cmd']]"
   ]
  },
  {
   "cell_type": "code",
   "execution_count": 69,
   "metadata": {},
   "outputs": [
    {
     "data": {
      "text/html": [
       "<div>\n",
       "<style scoped>\n",
       "    .dataframe tbody tr th:only-of-type {\n",
       "        vertical-align: middle;\n",
       "    }\n",
       "\n",
       "    .dataframe tbody tr th {\n",
       "        vertical-align: top;\n",
       "    }\n",
       "\n",
       "    .dataframe thead th {\n",
       "        text-align: right;\n",
       "    }\n",
       "</style>\n",
       "<table border=\"1\" class=\"dataframe\">\n",
       "  <thead>\n",
       "    <tr style=\"text-align: right;\">\n",
       "      <th></th>\n",
       "      <th>method</th>\n",
       "      <th>concepts</th>\n",
       "      <th>type</th>\n",
       "      <th>error</th>\n",
       "      <th>rmse</th>\n",
       "      <th>cmd</th>\n",
       "    </tr>\n",
       "    <tr>\n",
       "      <th>exp_id</th>\n",
       "      <th></th>\n",
       "      <th></th>\n",
       "      <th></th>\n",
       "      <th></th>\n",
       "      <th></th>\n",
       "      <th></th>\n",
       "    </tr>\n",
       "  </thead>\n",
       "  <tbody>\n",
       "    <tr>\n",
       "      <th>190</th>\n",
       "      <td>fdtf</td>\n",
       "      <td>7</td>\n",
       "      <td>train_rmse</td>\n",
       "      <td>18.157182</td>\n",
       "      <td>0.378275</td>\n",
       "      <td>0.293493</td>\n",
       "    </tr>\n",
       "    <tr>\n",
       "      <th>281</th>\n",
       "      <td>fdtf</td>\n",
       "      <td>8</td>\n",
       "      <td>train_rmse</td>\n",
       "      <td>17.983306</td>\n",
       "      <td>0.374652</td>\n",
       "      <td>0.257001</td>\n",
       "    </tr>\n",
       "    <tr>\n",
       "      <th>286</th>\n",
       "      <td>fdtf</td>\n",
       "      <td>13</td>\n",
       "      <td>train_rmse</td>\n",
       "      <td>16.607123</td>\n",
       "      <td>0.345982</td>\n",
       "      <td>0.277495</td>\n",
       "    </tr>\n",
       "    <tr>\n",
       "      <th>26024</th>\n",
       "      <td>fdtf</td>\n",
       "      <td>10</td>\n",
       "      <td>train_rmse</td>\n",
       "      <td>17.697634</td>\n",
       "      <td>0.368701</td>\n",
       "      <td>0.247057</td>\n",
       "    </tr>\n",
       "    <tr>\n",
       "      <th>26025</th>\n",
       "      <td>fdtf</td>\n",
       "      <td>11</td>\n",
       "      <td>train_rmse</td>\n",
       "      <td>16.794523</td>\n",
       "      <td>0.349886</td>\n",
       "      <td>0.239864</td>\n",
       "    </tr>\n",
       "    <tr>\n",
       "      <th>26026</th>\n",
       "      <td>fdtf</td>\n",
       "      <td>12</td>\n",
       "      <td>train_rmse</td>\n",
       "      <td>16.718649</td>\n",
       "      <td>0.348305</td>\n",
       "      <td>0.244647</td>\n",
       "    </tr>\n",
       "    <tr>\n",
       "      <th>26027</th>\n",
       "      <td>fdtf</td>\n",
       "      <td>13</td>\n",
       "      <td>train_rmse</td>\n",
       "      <td>16.980592</td>\n",
       "      <td>0.353762</td>\n",
       "      <td>0.277909</td>\n",
       "    </tr>\n",
       "    <tr>\n",
       "      <th>26028</th>\n",
       "      <td>fdtf</td>\n",
       "      <td>14</td>\n",
       "      <td>train_rmse</td>\n",
       "      <td>16.101093</td>\n",
       "      <td>0.335439</td>\n",
       "      <td>0.270486</td>\n",
       "    </tr>\n",
       "    <tr>\n",
       "      <th>26029</th>\n",
       "      <td>fdtf</td>\n",
       "      <td>15</td>\n",
       "      <td>train_rmse</td>\n",
       "      <td>15.990968</td>\n",
       "      <td>0.333145</td>\n",
       "      <td>0.259572</td>\n",
       "    </tr>\n",
       "    <tr>\n",
       "      <th>26030</th>\n",
       "      <td>fdtf</td>\n",
       "      <td>16</td>\n",
       "      <td>train_rmse</td>\n",
       "      <td>17.319678</td>\n",
       "      <td>0.360827</td>\n",
       "      <td>0.300994</td>\n",
       "    </tr>\n",
       "  </tbody>\n",
       "</table>\n",
       "</div>"
      ],
      "text/plain": [
       "       method  concepts        type      error      rmse       cmd\n",
       "exp_id                                                            \n",
       "190      fdtf         7  train_rmse  18.157182  0.378275  0.293493\n",
       "281      fdtf         8  train_rmse  17.983306  0.374652  0.257001\n",
       "286      fdtf        13  train_rmse  16.607123  0.345982  0.277495\n",
       "26024    fdtf        10  train_rmse  17.697634  0.368701  0.247057\n",
       "26025    fdtf        11  train_rmse  16.794523  0.349886  0.239864\n",
       "26026    fdtf        12  train_rmse  16.718649  0.348305  0.244647\n",
       "26027    fdtf        13  train_rmse  16.980592  0.353762  0.277909\n",
       "26028    fdtf        14  train_rmse  16.101093  0.335439  0.270486\n",
       "26029    fdtf        15  train_rmse  15.990968  0.333145  0.259572\n",
       "26030    fdtf        16  train_rmse  17.319678  0.360827  0.300994"
      ]
     },
     "execution_count": 69,
     "metadata": {},
     "output_type": "execute_result"
    }
   ],
   "source": [
    "df"
   ]
  },
  {
   "cell_type": "code",
   "execution_count": 70,
   "metadata": {},
   "outputs": [],
   "source": [
    "from sklearn.cluster import AgglomerativeClustering"
   ]
  },
  {
   "cell_type": "code",
   "execution_count": 71,
   "metadata": {},
   "outputs": [
    {
     "name": "stdout",
     "output_type": "stream",
     "text": [
      "0 - 190 - fdtf - train_rmse - 7\n",
      "0.2934930471537247\n",
      "[]\n",
      "[]\n",
      "\n",
      "1 - 281 - fdtf - train_rmse - 8\n",
      "0.2570014146625078\n",
      "[]\n",
      "[]\n",
      "\n",
      "2 - 286 - fdtf - train_rmse - 13\n",
      "0.2774950123569253\n",
      "[]\n",
      "[]\n",
      "\n",
      "3 - 26024 - fdtf - train_rmse - 10\n",
      "0.24705709700824485\n",
      "[]\n",
      "[]\n",
      "\n",
      "4 - 26025 - fdtf - train_rmse - 11\n",
      "0.2398644276567038\n",
      "[4 5 6 7 8]\n",
      "[0.13054899 0.12946265 0.13256709 0.12857463 0.13129902]\n",
      "\n",
      "5 - 26026 - fdtf - train_rmse - 12\n",
      "0.24464726296677142\n",
      "[5]\n",
      "[0.12265781]\n",
      "\n",
      "6 - 26027 - fdtf - train_rmse - 13\n",
      "0.2779089027455871\n",
      "[4 5]\n",
      "[0.14712613 0.16371109]\n",
      "\n",
      "7 - 26028 - fdtf - train_rmse - 14\n",
      "0.27048581702371877\n",
      "[3 4 5 6 8]\n",
      "[0.19310763 0.12685892 0.14810839 0.11076904 0.09679846]\n",
      "\n",
      "8 - 26029 - fdtf - train_rmse - 15\n",
      "0.2595720626575647\n",
      "[]\n",
      "[]\n",
      "\n",
      "9 - 26030 - fdtf - train_rmse - 16\n",
      "0.3009935870922348\n",
      "[]\n",
      "[]\n",
      "\n"
     ]
    }
   ],
   "source": [
    "for idx in range(len(data)):\n",
    "    print(\"%d - %d - %s - %s - %d\" % (idx, data[idx]['exp_id'], data[idx]['method'], \n",
    "                                      data[idx]['type'], data[idx]['concepts']))\n",
    "    print(data[idx]['cmd'])\n",
    "    models = []\n",
    "    dm = DistanceMatrix(data[idx]['question_distance'])\n",
    "    stats_list = []\n",
    "    p_values = []\n",
    "    for i in range(2, 20):\n",
    "        model = AgglomerativeClustering(n_clusters=i, \n",
    "                                        affinity='cosine',\n",
    "                                        linkage='single').fit(data[idx]['q_matrix_hat'].T)\n",
    "    #     model = SpectralClustering(n_clusters=i, n_init=100, affinity='precomputed').fit(\n",
    "    #         data[idx]['question_hat_similarity'].T)\n",
    "    #     model = SpectralClustering(n_clusters=i, n_init=100, affinity='rbf').fit(\n",
    "    #         data[idx]['q_matrix_hat'].T)\n",
    "    #     model = KMeans(n_clusters=i, n_init=100).fit(data[idx]['q_matrix_hat'].T)\n",
    "        models.append(model)\n",
    "        stats = anosim(dm, model.labels_, permutations=9999)\n",
    "        stats_list.append(stats['test statistic'])\n",
    "        p_values.append(stats['p-value'])\n",
    "    print(np.where(np.asarray(p_values) < 0.1)[0]+1)\n",
    "    print(np.asarray(stats_list)[np.where(np.asarray(p_values) < 0.1)])\n",
    "    print()"
   ]
  },
  {
   "cell_type": "code",
   "execution_count": 378,
   "metadata": {},
   "outputs": [
    {
     "data": {
      "text/plain": [
       "[0.031143933460146832,\n",
       " -0.07877606756022211,\n",
       " -0.04087854087854093,\n",
       " -0.03789377766206707,\n",
       " -0.04706930746140639,\n",
       " 0.039631190169772366,\n",
       " 0.04229587095851908,\n",
       " 0.0758107956458309,\n",
       " 0.07643988701952605,\n",
       " 0.04786588582884877,\n",
       " 0.038074348649297304,\n",
       " 0.05036541643684499,\n",
       " 0.05218367418528789,\n",
       " 0.019998600097993036,\n",
       " 0.038588804980688216,\n",
       " 0.035056068484912876,\n",
       " 0.026571418228330694,\n",
       " 0.005022954361328564]"
      ]
     },
     "execution_count": 378,
     "metadata": {},
     "output_type": "execute_result"
    }
   ],
   "source": [
    "stats_list"
   ]
  },
  {
   "cell_type": "code",
   "execution_count": 351,
   "metadata": {},
   "outputs": [
    {
     "data": {
      "text/plain": [
       "[0.12,\n",
       " 0.42,\n",
       " 0.28,\n",
       " 0.56,\n",
       " 0.73,\n",
       " 0.42,\n",
       " 0.63,\n",
       " 0.59,\n",
       " 0.42,\n",
       " 0.72,\n",
       " 0.74,\n",
       " 0.86,\n",
       " 0.59,\n",
       " 0.6,\n",
       " 0.67,\n",
       " 0.68,\n",
       " 0.52,\n",
       " 0.51]"
      ]
     },
     "execution_count": 351,
     "metadata": {},
     "output_type": "execute_result"
    }
   ],
   "source": [
    "p_values"
   ]
  },
  {
   "cell_type": "markdown",
   "metadata": {},
   "source": [
    "### Organizing data"
   ]
  },
  {
   "cell_type": "code",
   "execution_count": 3,
   "metadata": {},
   "outputs": [],
   "source": [
    "def add_to_tensor(data, tensor, X, filter_attempt=False):\n",
    "    for item in data:\n",
    "        s_idx, q_idx, a_idx, outcome = item\n",
    "\n",
    "        # If attempt is over max value, ignore it\n",
    "        if filter_attempt and a_idx >= filter_attempt:\n",
    "            continue\n",
    "\n",
    "        tensor[s_idx, q_idx, a_idx] = outcome\n",
    "        X[s_idx, q_idx, a_idx] = 1\n",
    "        \n",
    "    tensor[np.where(X[:,:] == 0)] = None\n",
    "    return tensor, X\n",
    "    \n",
    "def transform_data(data, n_attempts):\n",
    "    N_STUDENTS = len(data['users_idx'])\n",
    "    N_QUESTIONS = len(data['questions_idx'])\n",
    "    \n",
    "    student_performance = np.zeros((N_STUDENTS, N_QUESTIONS, n_attempts))\n",
    "    X = np.zeros(student_performance.shape)\n",
    "\n",
    "    student_performance, X = add_to_tensor(data['train_set'], \n",
    "                                           student_performance, \n",
    "                                           X, filter_attempt=n_attempts)\n",
    "    \n",
    "    \n",
    "    max_attempt = np.max(data['test_set'][:,2])+1\n",
    "    student_performance_test = np.zeros((N_STUDENTS, N_QUESTIONS, max_attempt))\n",
    "    X_test = np.zeros(student_performance_test.shape)\n",
    "    student_performance_test, X_test = add_to_tensor(data['test_set'], \n",
    "                                                     student_performance_test, \n",
    "                                                     X_test)\n",
    "    return student_performance, X, student_performance_test, X_test"
   ]
  },
  {
   "cell_type": "markdown",
   "metadata": {},
   "source": [
    "Do grid search to explore parameters"
   ]
  },
  {
   "cell_type": "code",
   "execution_count": 5,
   "metadata": {},
   "outputs": [],
   "source": [
    "# %%time\n",
    "# mu = [0.1, 0.5, 1, 3, 10]\n",
    "mu = [3]\n",
    "# n_concepts = range(2, 20)\n",
    "n_concepts = [14]\n",
    "# attempts = [10, 20, 50, 100, 150, 200]\n",
    "attempts = [10]"
   ]
  },
  {
   "cell_type": "code",
   "execution_count": 24,
   "metadata": {},
   "outputs": [
    {
     "data": {
      "text/plain": [
       "2700"
      ]
     },
     "execution_count": 24,
     "metadata": {},
     "output_type": "execute_result"
    }
   ],
   "source": [
    "search = 1 * N_RUNS * len(attempts) * len(mu) * len(n_concepts)\n",
    "search"
   ]
  },
  {
   "cell_type": "code",
   "execution_count": 18,
   "metadata": {},
   "outputs": [],
   "source": [
    "def run(*args):\n",
    "    dataset, data, att, student_performance, X, student_performance_test, X_test, del_questions, m, concept = args\n",
    "    \n",
    "    # Run FDTF\n",
    "    start = time.time()\n",
    "    (best_student_performance_pred, best_student_knowledge, \n",
    "     best_q_matrix, best_error) = feedback_driven_tensor_factorization(\n",
    "        student_performance, n_concepts=concept, init=10, max_iter=1000, mu=m)\n",
    "#                     student_performance, n_concepts=concept, init=1, max_iter=3, mu=m)\n",
    "    end = time.time()\n",
    "\n",
    "    if concept == 14:\n",
    "        q_matrix = np.delete(data['q_matrix'], del_questions, axis=1)\n",
    "        q_matrix_error = np.sqrt(np.sum(np.power(q_matrix-best_q_matrix, 2)))\n",
    "    else:\n",
    "        q_matrix = data['q_matrix']\n",
    "        q_matrix_error = -1\n",
    "\n",
    "    row = {\n",
    "        \"dataset\": \"run_%d\" % dataset,\n",
    "        \"q_matrix\": q_matrix,\n",
    "        \"X\": X,\n",
    "        \"sp\": student_performance,\n",
    "        \"X_test\": X_test,\n",
    "        \"sp_test\": student_performance_test,\n",
    "        \"sp_hat\": best_student_performance_pred,\n",
    "        \"sk_hat\": best_student_knowledge,\n",
    "        \"q_matrix_hat\": best_q_matrix,\n",
    "        \"mu\": m,\n",
    "        \"concepts\": concept,\n",
    "        \"attempts_train\": att,\n",
    "        \"method\": \"fdtf\",\n",
    "        \"q_matrix_error\": q_matrix_error,\n",
    "        \"reconstruction_error\": best_error,\n",
    "        \"train_error\": 0,\n",
    "        \"test_error\": 0,\n",
    "        \"seconds\": end-start\n",
    "    }\n",
    "    \n",
    "    return row"
   ]
  },
  {
   "cell_type": "code",
   "execution_count": 19,
   "metadata": {},
   "outputs": [],
   "source": [
    "args = []\n",
    "for restart in range(1):\n",
    "    for dataset in range(N_RUNS):\n",
    "        with open(\"%s/run_%d.pkl\" % (folder, dataset), \"rb\") as pklfile:\n",
    "            data = pickle.load(pklfile)\n",
    "        for att in attempts:\n",
    "            # Get train and test data in FDTF format\n",
    "            student_performance, X, student_performance_test, X_test = transform_data(data, att)\n",
    "            # Check if questions have minimum number of attempts\n",
    "            attempts_per_question = X.sum(axis=0).sum(axis=1)\n",
    "            del_questions = [idx for idx,value in enumerate(attempts_per_question) if value < 3]\n",
    "            student_performance = np.delete(student_performance, del_questions, axis=1)\n",
    "            \n",
    "            for m in mu:\n",
    "                for concept in n_concepts:                \n",
    "                    args.append([dataset, \n",
    "                                data, \n",
    "                                att, \n",
    "                                student_performance, \n",
    "                                X, \n",
    "                                student_performance_test, \n",
    "                                X_test, \n",
    "                                del_questions,\n",
    "                                m,\n",
    "                                concept])"
   ]
  },
  {
   "cell_type": "code",
   "execution_count": 20,
   "metadata": {},
   "outputs": [
    {
     "data": {
      "text/plain": [
       "5"
      ]
     },
     "execution_count": 20,
     "metadata": {},
     "output_type": "execute_result"
    }
   ],
   "source": [
    "len(args)"
   ]
  },
  {
   "cell_type": "code",
   "execution_count": 21,
   "metadata": {},
   "outputs": [
    {
     "name": "stdout",
     "output_type": "stream",
     "text": [
      "CPU times: user 2min 9s, sys: 3.93 s, total: 2min 13s\n",
      "Wall time: 1min 7s\n"
     ]
    }
   ],
   "source": [
    "%%time\n",
    "row = run(*args[0])"
   ]
  },
  {
   "cell_type": "code",
   "execution_count": null,
   "metadata": {},
   "outputs": [],
   "source": []
  },
  {
   "cell_type": "code",
   "execution_count": 25,
   "metadata": {},
   "outputs": [
    {
     "data": {
      "text/plain": [
       "0.4616764283646856"
      ]
     },
     "execution_count": 25,
     "metadata": {},
     "output_type": "execute_result"
    }
   ],
   "source": [
    "rmse = np.sqrt(np.mean(np.power(row['q_matrix']-row['q_matrix_hat'], 2)))\n",
    "rmse"
   ]
  }
 ],
 "metadata": {
  "kernelspec": {
   "display_name": "Django Shell-Plus",
   "language": "python",
   "name": "django_extensions"
  },
  "language_info": {
   "codemirror_mode": {
    "name": "ipython",
    "version": 3
   },
   "file_extension": ".py",
   "mimetype": "text/x-python",
   "name": "python",
   "nbconvert_exporter": "python",
   "pygments_lexer": "ipython3",
   "version": "3.6.10"
  }
 },
 "nbformat": 4,
 "nbformat_minor": 4
}
