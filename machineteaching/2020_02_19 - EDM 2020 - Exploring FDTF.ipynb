{
 "cells": [
  {
   "cell_type": "code",
   "execution_count": 83,
   "metadata": {},
   "outputs": [],
   "source": [
    "# Helpers\n",
    "import pickle\n",
    "import numpy as np\n",
    "import time\n",
    "\n",
    "# DB \n",
    "import psycopg2\n",
    "from django.conf import settings\n",
    "\n",
    "# Learning\n",
    "from fdtf import feedback_driven_tensor_factorization\n",
    "from sklearn.cluster import AgglomerativeClustering\n",
    "\n",
    "# Evaluation\n",
    "from sklearn.metrics.pairwise import cosine_similarity, cosine_distances\n",
    "from skbio.stats.distance import anosim\n",
    "from skbio import DistanceMatrix"
   ]
  },
  {
   "cell_type": "code",
   "execution_count": 9,
   "metadata": {},
   "outputs": [],
   "source": [
    "connection = psycopg2.connect(user = settings.DATABASES[\"default\"][\"USER\"],\n",
    "                                  password = settings.DATABASES[\"default\"][\"PASSWORD\"],\n",
    "                                  host = settings.DATABASES[\"default\"][\"HOST\"],\n",
    "                                  port = settings.DATABASES[\"default\"][\"PORT\"],\n",
    "                                  database = settings.DATABASES[\"default\"][\"NAME\"])\n",
    "connection.autocommit=True\n",
    "cursor = connection.cursor()"
   ]
  },
  {
   "cell_type": "code",
   "execution_count": 84,
   "metadata": {},
   "outputs": [],
   "source": [
    "experiments = (189, 277, 37977)"
   ]
  },
  {
   "cell_type": "code",
   "execution_count": 85,
   "metadata": {},
   "outputs": [],
   "source": [
    "query = \"select q_matrix, q_matrix_hat from EDM2020_2020_02_19 where experiment_id in %s\"\n",
    "# query = \"\"\"select q_matrix, q_matrix_hat, q_matrix_rmse from edm2020_2020_02_19 \n",
    "# where method='fdtf' order by q_matrix_rmse\"\"\"\n",
    "\n",
    "query = cursor.mogrify(query, (experiments,))\n",
    "cursor.execute(query)\n",
    "response = cursor.fetchall()"
   ]
  },
  {
   "cell_type": "code",
   "execution_count": 86,
   "metadata": {},
   "outputs": [
    {
     "name": "stdout",
     "output_type": "stream",
     "text": [
      "0.2695369725247976\n",
      "0.2793747805528337\n",
      "0.24075690645224213\n"
     ]
    }
   ],
   "source": [
    "data = {}\n",
    "for idx, row in enumerate(response):\n",
    "    data[idx] = {}\n",
    "    data[idx]['q_matrix'] = np.asarray(row[0])\n",
    "    q_matrix = data[idx]['q_matrix']\n",
    "#     row_sums = data[idx]['q_matrix'].sum(axis=0)\n",
    "#     data[idx]['q_matrix_norm'] = data[idx]['q_matrix'] / row_sums\n",
    "    data[idx]['q_matrix_hat'] = np.asarray(row[1])\n",
    "    q_matrix_hat = data[idx]['q_matrix_hat']\n",
    "#     row_sums = data[idx]['q_matrix_hat'].sum(axis=0)\n",
    "#     data[idx]['q_matrix_norm_hat'] = data[idx]['q_matrix_hat'] / row_sums\n",
    "    data[idx]['question_similarity'] = cosine_similarity(q_matrix.T)\n",
    "    data[idx]['question_distance'] = cosine_distances(q_matrix.T)\n",
    "    data[idx]['question_hat_similarity'] = cosine_similarity(q_matrix_hat.T)\n",
    "    data[idx]['question_hat_distance'] = cosine_distances(q_matrix_hat.T)\n",
    "    error = data[idx]['question_similarity'] - data[idx]['question_hat_similarity']\n",
    "    data[idx]['error'] = np.sqrt(np.sum(np.power(error,2)))\n",
    "    data[idx]['rmse'] = np.sqrt(np.mean(np.power(error,2)))\n",
    "    qs = data[idx]['question_similarity']\n",
    "    qs_hat = data[idx]['question_hat_similarity']\n",
    "    data[idx]['cmd'] = 1-np.trace(np.dot(qs,\n",
    "                                         qs_hat))/(np.linalg.norm(qs)*np.linalg.norm(qs_hat))\n",
    "    print(data[idx]['cmd'])"
   ]
  },
  {
   "cell_type": "code",
   "execution_count": 87,
   "metadata": {},
   "outputs": [],
   "source": [
    "from sklearn.cluster import AgglomerativeClustering"
   ]
  },
  {
   "cell_type": "code",
   "execution_count": 88,
   "metadata": {},
   "outputs": [
    {
     "name": "stdout",
     "output_type": "stream",
     "text": [
      "[ 8  9 10 11 12 13 14 18]\n",
      "[0.10027299 0.12299792 0.14646025 0.15043686 0.1174806  0.11575566\n",
      " 0.12521221 0.11006786]\n"
     ]
    }
   ],
   "source": [
    "idx = 0\n",
    "models = []\n",
    "dm = DistanceMatrix(data[idx]['question_distance'])\n",
    "stats_list = []\n",
    "p_values = []\n",
    "for i in range(2, 20):\n",
    "    model = AgglomerativeClustering(n_clusters=i, \n",
    "                                    affinity='cosine',\n",
    "                                    linkage='single').fit(data[idx]['q_matrix_hat'].T)\n",
    "#     model = SpectralClustering(n_clusters=i, n_init=100, affinity='precomputed').fit(\n",
    "#         data[idx]['question_hat_similarity'].T)\n",
    "#     model = SpectralClustering(n_clusters=i, n_init=100, affinity='rbf').fit(\n",
    "#         data[idx]['q_matrix_hat'].T)\n",
    "#     model = KMeans(n_clusters=i, n_init=100).fit(data[idx]['q_matrix_hat'].T)\n",
    "    models.append(model)\n",
    "    stats = anosim(dm, model.labels_, permutations=9999)\n",
    "    stats_list.append(stats['test statistic'])\n",
    "    p_values.append(stats['p-value'])\n",
    "print(np.where(np.asarray(p_values) < 0.1)[0]+1)\n",
    "print(np.asarray(stats_list)[np.where(np.asarray(p_values) < 0.1)])"
   ]
  },
  {
   "cell_type": "code",
   "execution_count": 89,
   "metadata": {},
   "outputs": [
    {
     "name": "stdout",
     "output_type": "stream",
     "text": [
      "[]\n",
      "[]\n"
     ]
    }
   ],
   "source": [
    "idx = 2\n",
    "models = []\n",
    "dm = DistanceMatrix(data[idx]['question_distance'])\n",
    "stats_list = []\n",
    "p_values = []\n",
    "for i in range(2, 20):\n",
    "    model = AgglomerativeClustering(n_clusters=i, \n",
    "                                    affinity='cosine',\n",
    "                                    linkage='single').fit(data[idx]['q_matrix_hat'].T)\n",
    "#     model = SpectralClustering(n_clusters=i, n_init=100, affinity='precomputed').fit(\n",
    "#         data[idx]['question_hat_similarity'].T)\n",
    "#     model = SpectralClustering(n_clusters=i, n_init=100, affinity='rbf').fit(\n",
    "#         data[idx]['q_matrix_hat'].T)\n",
    "#     model = KMeans(n_clusters=i, n_init=100).fit(data[idx]['q_matrix_hat'].T)\n",
    "    models.append(model)\n",
    "    stats = anosim(dm, model.labels_, permutations=9999)\n",
    "    stats_list.append(stats['test statistic'])\n",
    "    p_values.append(stats['p-value'])\n",
    "print(np.where(np.asarray(p_values) < 0.1)[0]+1)\n",
    "print(np.asarray(stats_list)[np.where(np.asarray(p_values) < 0.1)])"
   ]
  },
  {
   "cell_type": "code",
   "execution_count": 90,
   "metadata": {},
   "outputs": [
    {
     "data": {
      "text/plain": [
       "[0.18769067254512173,\n",
       " 0.08505866216128705,\n",
       " 0.036692321460533514,\n",
       " -0.004287668350168297,\n",
       " -0.021524610083062713,\n",
       " 0.009258333796065065,\n",
       " -0.02640568996415773,\n",
       " -0.020257531109031744,\n",
       " 0.015747852121843292,\n",
       " 0.05151975296039196,\n",
       " -0.008258513153261886,\n",
       " -0.0008737977394821186,\n",
       " -0.04519212909437583,\n",
       " 0.030133493856449867,\n",
       " 0.02377321298889937,\n",
       " 0.05850471866096875,\n",
       " 0.0646559736171488,\n",
       " 0.05830777868958651]"
      ]
     },
     "execution_count": 90,
     "metadata": {},
     "output_type": "execute_result"
    }
   ],
   "source": [
    "stats_list"
   ]
  },
  {
   "cell_type": "code",
   "execution_count": 91,
   "metadata": {},
   "outputs": [
    {
     "data": {
      "text/plain": [
       "[0.1653,\n",
       " 0.1869,\n",
       " 0.3269,\n",
       " 0.4937,\n",
       " 0.5853,\n",
       " 0.4398,\n",
       " 0.623,\n",
       " 0.5869,\n",
       " 0.4,\n",
       " 0.2311,\n",
       " 0.5365,\n",
       " 0.4886,\n",
       " 0.7496,\n",
       " 0.3026,\n",
       " 0.3493,\n",
       " 0.1872,\n",
       " 0.1747,\n",
       " 0.1972]"
      ]
     },
     "execution_count": 91,
     "metadata": {},
     "output_type": "execute_result"
    }
   ],
   "source": [
    "p_values"
   ]
  },
  {
   "cell_type": "code",
   "execution_count": 464,
   "metadata": {},
   "outputs": [
    {
     "name": "stdout",
     "output_type": "stream",
     "text": [
      "[]\n",
      "[]\n"
     ]
    }
   ],
   "source": [
    "idx = 2\n",
    "models = []\n",
    "dm = DistanceMatrix(data[idx]['question_distance'])\n",
    "stats_list = []\n",
    "p_values = []\n",
    "for i in range(2, 20):\n",
    "    model = AgglomerativeClustering(n_clusters=i, \n",
    "                                    affinity='cosine',\n",
    "                                    linkage='average').fit(data[idx]['q_matrix_hat'].T)\n",
    "#     model = SpectralClustering(n_clusters=i, n_init=100, affinity='precomputed').fit(\n",
    "#         data[idx]['question_hat_similarity'].T)\n",
    "#     model = SpectralClustering(n_clusters=i, n_init=100, affinity='rbf').fit(\n",
    "#         data[idx]['q_matrix_hat'].T)\n",
    "    models.append(model)\n",
    "    stats = anosim(dm, model.labels_, permutations=91)\n",
    "    stats_list.append(stats['test statistic'])\n",
    "    p_values.append(stats['p-value'])\n",
    "print(np.where(np.asarray(p_values) < 0.05)[0]+1)\n",
    "print(np.asarray(stats_list)[np.where(np.asarray(p_values) < 0.05)])"
   ]
  },
  {
   "cell_type": "code",
   "execution_count": 418,
   "metadata": {},
   "outputs": [
    {
     "data": {
      "text/plain": [
       "[0.17010577313311695,\n",
       " 0.1426028378026554,\n",
       " 0.13331563899518548,\n",
       " 0.11522183076635278,\n",
       " 0.07442137185940223,\n",
       " 0.11257716830280326,\n",
       " 0.09026458794977302,\n",
       " 0.08995071193866362,\n",
       " 0.08655704464087711,\n",
       " 0.042275406322557545,\n",
       " 0.04635984023238917,\n",
       " 0.05368276742788458,\n",
       " 0.05990725654843966,\n",
       " 0.05960116731517505,\n",
       " 0.057459877154745265,\n",
       " 0.051156419050666535,\n",
       " 0.0042554679848902125,\n",
       " 0.03593536942959545]"
      ]
     },
     "execution_count": 418,
     "metadata": {},
     "output_type": "execute_result"
    }
   ],
   "source": [
    "stats_list"
   ]
  },
  {
   "cell_type": "code",
   "execution_count": 373,
   "metadata": {},
   "outputs": [
    {
     "data": {
      "text/plain": [
       "[0.796,\n",
       " 0.909,\n",
       " 0.834,\n",
       " 0.905,\n",
       " 0.831,\n",
       " 0.414,\n",
       " 0.393,\n",
       " 0.352,\n",
       " 0.403,\n",
       " 0.524,\n",
       " 0.859,\n",
       " 0.903,\n",
       " 0.847,\n",
       " 0.624,\n",
       " 0.507,\n",
       " 0.394,\n",
       " 0.555,\n",
       " 0.606]"
      ]
     },
     "execution_count": 373,
     "metadata": {},
     "output_type": "execute_result"
    }
   ],
   "source": [
    "p_values"
   ]
  },
  {
   "cell_type": "code",
   "execution_count": 377,
   "metadata": {},
   "outputs": [],
   "source": [
    "models = []\n",
    "dm = DistanceMatrix(data[2]['question_distance'])\n",
    "stats_list = []\n",
    "p_values = []\n",
    "for i in range(2, 20):\n",
    "    model = AgglomerativeClustering(n_clusters=i, \n",
    "                                    affinity='cosine',\n",
    "                                    linkage='average').fit(data[2]['q_matrix_hat'].T)\n",
    "    models.append(model)\n",
    "    stats = anosim(dm, model.labels_, permutations=99)\n",
    "    stats_list.append(stats['test statistic'])\n",
    "    p_values.append(stats['p-value'])"
   ]
  },
  {
   "cell_type": "code",
   "execution_count": 378,
   "metadata": {},
   "outputs": [
    {
     "data": {
      "text/plain": [
       "[0.031143933460146832,\n",
       " -0.07877606756022211,\n",
       " -0.04087854087854093,\n",
       " -0.03789377766206707,\n",
       " -0.04706930746140639,\n",
       " 0.039631190169772366,\n",
       " 0.04229587095851908,\n",
       " 0.0758107956458309,\n",
       " 0.07643988701952605,\n",
       " 0.04786588582884877,\n",
       " 0.038074348649297304,\n",
       " 0.05036541643684499,\n",
       " 0.05218367418528789,\n",
       " 0.019998600097993036,\n",
       " 0.038588804980688216,\n",
       " 0.035056068484912876,\n",
       " 0.026571418228330694,\n",
       " 0.005022954361328564]"
      ]
     },
     "execution_count": 378,
     "metadata": {},
     "output_type": "execute_result"
    }
   ],
   "source": [
    "stats_list"
   ]
  },
  {
   "cell_type": "code",
   "execution_count": 379,
   "metadata": {},
   "outputs": [
    {
     "data": {
      "text/plain": [
       "array([], dtype=float64)"
      ]
     },
     "execution_count": 379,
     "metadata": {},
     "output_type": "execute_result"
    }
   ],
   "source": [
    "np.asarray(stats_list)[np.where(np.asarray(p_values) < 0.05)]"
   ]
  },
  {
   "cell_type": "code",
   "execution_count": 351,
   "metadata": {},
   "outputs": [
    {
     "data": {
      "text/plain": [
       "[0.12,\n",
       " 0.42,\n",
       " 0.28,\n",
       " 0.56,\n",
       " 0.73,\n",
       " 0.42,\n",
       " 0.63,\n",
       " 0.59,\n",
       " 0.42,\n",
       " 0.72,\n",
       " 0.74,\n",
       " 0.86,\n",
       " 0.59,\n",
       " 0.6,\n",
       " 0.67,\n",
       " 0.68,\n",
       " 0.52,\n",
       " 0.51]"
      ]
     },
     "execution_count": 351,
     "metadata": {},
     "output_type": "execute_result"
    }
   ],
   "source": [
    "p_values"
   ]
  },
  {
   "cell_type": "code",
   "execution_count": 274,
   "metadata": {},
   "outputs": [],
   "source": [
    "from skbio.stats.distance import anosim, permanova\n",
    "from skbio import DistanceMatrix"
   ]
  },
  {
   "cell_type": "code",
   "execution_count": 275,
   "metadata": {},
   "outputs": [],
   "source": [
    "dm = DistanceMatrix(data[0]['question_distance'])"
   ]
  },
  {
   "cell_type": "code",
   "execution_count": 337,
   "metadata": {},
   "outputs": [
    {
     "data": {
      "text/plain": [
       "0.13919760575912002"
      ]
     },
     "execution_count": 337,
     "metadata": {},
     "output_type": "execute_result"
    }
   ],
   "source": [
    "s = anosim(dm, clustering.labels_, permutations=999)\n",
    "s['test statistic']"
   ]
  },
  {
   "cell_type": "code",
   "execution_count": 336,
   "metadata": {},
   "outputs": [
    {
     "data": {
      "text/plain": [
       "method name                 ANOSIM\n",
       "test statistic name              R\n",
       "sample size                     47\n",
       "number of groups                10\n",
       "test statistic            0.139198\n",
       "p-value                      0.012\n",
       "number of permutations         999\n",
       "Name: ANOSIM results, dtype: object"
      ]
     },
     "execution_count": 336,
     "metadata": {},
     "output_type": "execute_result"
    }
   ],
   "source": [
    "s"
   ]
  },
  {
   "cell_type": "markdown",
   "metadata": {},
   "source": [
    "### Organizing data"
   ]
  },
  {
   "cell_type": "code",
   "execution_count": 3,
   "metadata": {},
   "outputs": [],
   "source": [
    "def add_to_tensor(data, tensor, X, filter_attempt=False):\n",
    "    for item in data:\n",
    "        s_idx, q_idx, a_idx, outcome = item\n",
    "\n",
    "        # If attempt is over max value, ignore it\n",
    "        if filter_attempt and a_idx >= filter_attempt:\n",
    "            continue\n",
    "\n",
    "        tensor[s_idx, q_idx, a_idx] = outcome\n",
    "        X[s_idx, q_idx, a_idx] = 1\n",
    "        \n",
    "    tensor[np.where(X[:,:] == 0)] = None\n",
    "    return tensor, X\n",
    "    \n",
    "def transform_data(data, n_attempts):\n",
    "    N_STUDENTS = len(data['users_idx'])\n",
    "    N_QUESTIONS = len(data['questions_idx'])\n",
    "    \n",
    "    student_performance = np.zeros((N_STUDENTS, N_QUESTIONS, n_attempts))\n",
    "    X = np.zeros(student_performance.shape)\n",
    "\n",
    "    student_performance, X = add_to_tensor(data['train_set'], \n",
    "                                           student_performance, \n",
    "                                           X, filter_attempt=n_attempts)\n",
    "    \n",
    "    \n",
    "    max_attempt = np.max(data['test_set'][:,2])+1\n",
    "    student_performance_test = np.zeros((N_STUDENTS, N_QUESTIONS, max_attempt))\n",
    "    X_test = np.zeros(student_performance_test.shape)\n",
    "    student_performance_test, X_test = add_to_tensor(data['test_set'], \n",
    "                                                     student_performance_test, \n",
    "                                                     X_test)\n",
    "    return student_performance, X, student_performance_test, X_test"
   ]
  },
  {
   "cell_type": "markdown",
   "metadata": {},
   "source": [
    "Do grid search to explore parameters"
   ]
  },
  {
   "cell_type": "code",
   "execution_count": 5,
   "metadata": {},
   "outputs": [],
   "source": [
    "# %%time\n",
    "# mu = [0.1, 0.5, 1, 3, 10]\n",
    "mu = [3]\n",
    "# n_concepts = range(2, 20)\n",
    "n_concepts = [14]\n",
    "# attempts = [10, 20, 50, 100, 150, 200]\n",
    "attempts = [10]"
   ]
  },
  {
   "cell_type": "code",
   "execution_count": 24,
   "metadata": {},
   "outputs": [
    {
     "data": {
      "text/plain": [
       "2700"
      ]
     },
     "execution_count": 24,
     "metadata": {},
     "output_type": "execute_result"
    }
   ],
   "source": [
    "search = 1 * N_RUNS * len(attempts) * len(mu) * len(n_concepts)\n",
    "search"
   ]
  },
  {
   "cell_type": "code",
   "execution_count": 18,
   "metadata": {},
   "outputs": [],
   "source": [
    "def run(*args):\n",
    "    dataset, data, att, student_performance, X, student_performance_test, X_test, del_questions, m, concept = args\n",
    "    \n",
    "    # Run FDTF\n",
    "    start = time.time()\n",
    "    (best_student_performance_pred, best_student_knowledge, \n",
    "     best_q_matrix, best_error) = feedback_driven_tensor_factorization(\n",
    "        student_performance, n_concepts=concept, init=10, max_iter=1000, mu=m)\n",
    "#                     student_performance, n_concepts=concept, init=1, max_iter=3, mu=m)\n",
    "    end = time.time()\n",
    "\n",
    "    if concept == 14:\n",
    "        q_matrix = np.delete(data['q_matrix'], del_questions, axis=1)\n",
    "        q_matrix_error = np.sqrt(np.sum(np.power(q_matrix-best_q_matrix, 2)))\n",
    "    else:\n",
    "        q_matrix = data['q_matrix']\n",
    "        q_matrix_error = -1\n",
    "\n",
    "    row = {\n",
    "        \"dataset\": \"run_%d\" % dataset,\n",
    "        \"q_matrix\": q_matrix,\n",
    "        \"X\": X,\n",
    "        \"sp\": student_performance,\n",
    "        \"X_test\": X_test,\n",
    "        \"sp_test\": student_performance_test,\n",
    "        \"sp_hat\": best_student_performance_pred,\n",
    "        \"sk_hat\": best_student_knowledge,\n",
    "        \"q_matrix_hat\": best_q_matrix,\n",
    "        \"mu\": m,\n",
    "        \"concepts\": concept,\n",
    "        \"attempts_train\": att,\n",
    "        \"method\": \"fdtf\",\n",
    "        \"q_matrix_error\": q_matrix_error,\n",
    "        \"reconstruction_error\": best_error,\n",
    "        \"train_error\": 0,\n",
    "        \"test_error\": 0,\n",
    "        \"seconds\": end-start\n",
    "    }\n",
    "    \n",
    "    return row"
   ]
  },
  {
   "cell_type": "code",
   "execution_count": 19,
   "metadata": {},
   "outputs": [],
   "source": [
    "args = []\n",
    "for restart in range(1):\n",
    "    for dataset in range(N_RUNS):\n",
    "        with open(\"%s/run_%d.pkl\" % (folder, dataset), \"rb\") as pklfile:\n",
    "            data = pickle.load(pklfile)\n",
    "        for att in attempts:\n",
    "            # Get train and test data in FDTF format\n",
    "            student_performance, X, student_performance_test, X_test = transform_data(data, att)\n",
    "            # Check if questions have minimum number of attempts\n",
    "            attempts_per_question = X.sum(axis=0).sum(axis=1)\n",
    "            del_questions = [idx for idx,value in enumerate(attempts_per_question) if value < 3]\n",
    "            student_performance = np.delete(student_performance, del_questions, axis=1)\n",
    "            \n",
    "            for m in mu:\n",
    "                for concept in n_concepts:                \n",
    "                    args.append([dataset, \n",
    "                                data, \n",
    "                                att, \n",
    "                                student_performance, \n",
    "                                X, \n",
    "                                student_performance_test, \n",
    "                                X_test, \n",
    "                                del_questions,\n",
    "                                m,\n",
    "                                concept])"
   ]
  },
  {
   "cell_type": "code",
   "execution_count": 20,
   "metadata": {},
   "outputs": [
    {
     "data": {
      "text/plain": [
       "5"
      ]
     },
     "execution_count": 20,
     "metadata": {},
     "output_type": "execute_result"
    }
   ],
   "source": [
    "len(args)"
   ]
  },
  {
   "cell_type": "code",
   "execution_count": 21,
   "metadata": {},
   "outputs": [
    {
     "name": "stdout",
     "output_type": "stream",
     "text": [
      "CPU times: user 2min 9s, sys: 3.93 s, total: 2min 13s\n",
      "Wall time: 1min 7s\n"
     ]
    }
   ],
   "source": [
    "%%time\n",
    "row = run(*args[0])"
   ]
  },
  {
   "cell_type": "code",
   "execution_count": null,
   "metadata": {},
   "outputs": [],
   "source": []
  },
  {
   "cell_type": "code",
   "execution_count": 25,
   "metadata": {},
   "outputs": [
    {
     "data": {
      "text/plain": [
       "0.4616764283646856"
      ]
     },
     "execution_count": 25,
     "metadata": {},
     "output_type": "execute_result"
    }
   ],
   "source": [
    "rmse = np.sqrt(np.mean(np.power(row['q_matrix']-row['q_matrix_hat'], 2)))\n",
    "rmse"
   ]
  }
 ],
 "metadata": {
  "kernelspec": {
   "display_name": "Django Shell-Plus",
   "language": "python",
   "name": "django_extensions"
  },
  "language_info": {
   "codemirror_mode": {
    "name": "ipython",
    "version": 3
   },
   "file_extension": ".py",
   "mimetype": "text/x-python",
   "name": "python",
   "nbconvert_exporter": "python",
   "pygments_lexer": "ipython3",
   "version": "3.6.10"
  }
 },
 "nbformat": 4,
 "nbformat_minor": 4
}
