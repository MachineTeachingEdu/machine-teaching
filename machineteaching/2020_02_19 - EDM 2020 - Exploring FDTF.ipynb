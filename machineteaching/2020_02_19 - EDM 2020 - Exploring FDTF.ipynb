{
 "cells": [
  {
   "cell_type": "code",
   "execution_count": 5,
   "metadata": {},
   "outputs": [],
   "source": [
    "# Helpers\n",
    "import pickle\n",
    "import numpy as np\n",
    "import time\n",
    "\n",
    "# DB \n",
    "import psycopg2\n",
    "from django.conf import settings\n",
    "\n",
    "# Learning\n",
    "from fdtf import feedback_driven_tensor_factorization\n",
    "from sklearn.cluster import AgglomerativeClustering\n",
    "\n",
    "# Evaluation\n",
    "from sklearn.metrics.pairwise import cosine_similarity, cosine_distances\n",
    "from skbio.stats.distance import anosim\n",
    "from skbio import DistanceMatrix"
   ]
  },
  {
   "cell_type": "code",
   "execution_count": 17,
   "metadata": {},
   "outputs": [],
   "source": [
    "connection = psycopg2.connect(user = settings.DATABASES[\"default\"][\"USER\"],\n",
    "                                  password = settings.DATABASES[\"default\"][\"PASSWORD\"],\n",
    "                                  host = settings.DATABASES[\"default\"][\"HOST\"],\n",
    "                                  port = settings.DATABASES[\"default\"][\"PORT\"],\n",
    "                                  database = settings.DATABASES[\"default\"][\"NAME\"])\n",
    "connection.autocommit=True\n",
    "cursor = connection.cursor()"
   ]
  },
  {
   "cell_type": "code",
   "execution_count": 55,
   "metadata": {},
   "outputs": [],
   "source": [
    "experiments_train = (\n",
    "    # Best FDTF train_rmse \n",
    "    189, \n",
    "    277, \n",
    "    # Best NMF train_rmse with 1 attempt (so we can calculate accuracy) and overall\n",
    "    52473,\n",
    "    52126)\n",
    "experiments_q_matrix = (\n",
    "    # Best FDTF Q-Matrix rmse\n",
    "    274,\n",
    "    17805,\n",
    "    # Best NMF Q-Matrix rmse,\n",
    "    37977,\n",
    "    38013)"
   ]
  },
  {
   "cell_type": "code",
   "execution_count": 69,
   "metadata": {},
   "outputs": [],
   "source": [
    "query = \"\"\"select q_matrix, q_matrix_hat, concepts, method, experiment_id \n",
    "from EDM2020_2020_02_19 where experiment_id in %s or experiment_id in %s\"\"\"\n",
    "# query = \"\"\"select q_matrix, q_matrix_hat, q_matrix_rmse from edm2020_2020_02_19 \n",
    "# where method='fdtf' order by q_matrix_rmse\"\"\"\n",
    "\n",
    "query = cursor.mogrify(query, (experiments_train, experiments_q_matrix))\n",
    "cursor.execute(query)\n",
    "response = cursor.fetchall()"
   ]
  },
  {
   "cell_type": "code",
   "execution_count": 70,
   "metadata": {
    "scrolled": false
   },
   "outputs": [
    {
     "name": "stdout",
     "output_type": "stream",
     "text": [
      "189 - fdtf - train_rmse\n",
      "0.2695369725247976\n",
      "277 - fdtf - train_rmse\n",
      "0.2793747805528337\n",
      "38013 - nmf - q_matrix_rmse\n",
      "0.24081451825830236\n",
      "52126 - nmf2 - train_rmse\n",
      "0.47994553793538286\n",
      "52473 - nmf2 - train_rmse\n",
      "0.4843123088472069\n",
      "37977 - nmf - q_matrix_rmse\n",
      "0.24075690645224213\n",
      "274 - fdtf - q_matrix_rmse\n",
      "0.21209076317635522\n",
      "17805 - fdtf - q_matrix_rmse\n",
      "0.22043665170266746\n"
     ]
    }
   ],
   "source": [
    "data = {}\n",
    "for idx, row in enumerate(response):\n",
    "    data[idx] = {}\n",
    "    data[idx]['exp_id'] = row[-1]\n",
    "    data[idx]['method'] = row[-2]\n",
    "    if data[idx]['exp_id'] in experiments_train:\n",
    "        data[idx]['type'] = 'train_rmse'\n",
    "    else:\n",
    "        data[idx]['type'] = 'q_matrix_rmse'\n",
    "    data[idx]['concepts'] = row[2]\n",
    "    print(\"%d - %s - %s\" % (data[idx]['exp_id'], data[idx]['method'], data[idx]['type']))\n",
    "    data[idx]['q_matrix'] = np.asarray(row[0])\n",
    "    q_matrix = data[idx]['q_matrix']\n",
    "#     row_sums = data[idx]['q_matrix'].sum(axis=0)\n",
    "#     data[idx]['q_matrix_norm'] = data[idx]['q_matrix'] / row_sums\n",
    "    data[idx]['q_matrix_hat'] = np.asarray(row[1])\n",
    "    q_matrix_hat = data[idx]['q_matrix_hat']\n",
    "#     row_sums = data[idx]['q_matrix_hat'].sum(axis=0)\n",
    "#     data[idx]['q_matrix_norm_hat'] = data[idx]['q_matrix_hat'] / row_sums\n",
    "    data[idx]['question_similarity'] = cosine_similarity(q_matrix.T)\n",
    "    data[idx]['question_distance'] = cosine_distances(q_matrix.T)\n",
    "    data[idx]['question_hat_similarity'] = cosine_similarity(q_matrix_hat.T)\n",
    "    data[idx]['question_hat_distance'] = cosine_distances(q_matrix_hat.T)\n",
    "    error = data[idx]['question_similarity'] - data[idx]['question_hat_similarity']\n",
    "    data[idx]['error'] = np.sqrt(np.sum(np.power(error,2)))\n",
    "    data[idx]['rmse'] = np.sqrt(np.mean(np.power(error,2)))\n",
    "    qs = data[idx]['question_similarity']\n",
    "    qs_hat = data[idx]['question_hat_similarity']\n",
    "    data[idx]['cmd'] = 1-np.trace(np.dot(qs,\n",
    "                                         qs_hat))/(np.linalg.norm(qs)*np.linalg.norm(qs_hat))\n",
    "    print(data[idx]['cmd'])"
   ]
  },
  {
   "cell_type": "code",
   "execution_count": 58,
   "metadata": {},
   "outputs": [],
   "source": [
    "import pandas as pd"
   ]
  },
  {
   "cell_type": "code",
   "execution_count": 71,
   "metadata": {},
   "outputs": [],
   "source": [
    "df = pd.DataFrame.from_dict(data, orient='index').set_index('exp_id')\n",
    "df = df[['method', 'concepts', 'type', 'error', 'rmse', 'cmd']]"
   ]
  },
  {
   "cell_type": "code",
   "execution_count": 72,
   "metadata": {},
   "outputs": [
    {
     "data": {
      "text/html": [
       "<div>\n",
       "<style scoped>\n",
       "    .dataframe tbody tr th:only-of-type {\n",
       "        vertical-align: middle;\n",
       "    }\n",
       "\n",
       "    .dataframe tbody tr th {\n",
       "        vertical-align: top;\n",
       "    }\n",
       "\n",
       "    .dataframe thead th {\n",
       "        text-align: right;\n",
       "    }\n",
       "</style>\n",
       "<table border=\"1\" class=\"dataframe\">\n",
       "  <thead>\n",
       "    <tr style=\"text-align: right;\">\n",
       "      <th></th>\n",
       "      <th>method</th>\n",
       "      <th>concepts</th>\n",
       "      <th>type</th>\n",
       "      <th>error</th>\n",
       "      <th>rmse</th>\n",
       "      <th>cmd</th>\n",
       "    </tr>\n",
       "    <tr>\n",
       "      <th>exp_id</th>\n",
       "      <th></th>\n",
       "      <th></th>\n",
       "      <th></th>\n",
       "      <th></th>\n",
       "      <th></th>\n",
       "      <th></th>\n",
       "    </tr>\n",
       "  </thead>\n",
       "  <tbody>\n",
       "    <tr>\n",
       "      <th>189</th>\n",
       "      <td>fdtf</td>\n",
       "      <td>6</td>\n",
       "      <td>train_rmse</td>\n",
       "      <td>17.723227</td>\n",
       "      <td>0.369234</td>\n",
       "      <td>0.269537</td>\n",
       "    </tr>\n",
       "    <tr>\n",
       "      <th>277</th>\n",
       "      <td>fdtf</td>\n",
       "      <td>4</td>\n",
       "      <td>train_rmse</td>\n",
       "      <td>21.516879</td>\n",
       "      <td>0.448268</td>\n",
       "      <td>0.279375</td>\n",
       "    </tr>\n",
       "    <tr>\n",
       "      <th>38013</th>\n",
       "      <td>nmf</td>\n",
       "      <td>19</td>\n",
       "      <td>q_matrix_rmse</td>\n",
       "      <td>14.421630</td>\n",
       "      <td>0.300451</td>\n",
       "      <td>0.240815</td>\n",
       "    </tr>\n",
       "    <tr>\n",
       "      <th>52126</th>\n",
       "      <td>nmf2</td>\n",
       "      <td>19</td>\n",
       "      <td>train_rmse</td>\n",
       "      <td>18.980277</td>\n",
       "      <td>0.395422</td>\n",
       "      <td>0.479946</td>\n",
       "    </tr>\n",
       "    <tr>\n",
       "      <th>52473</th>\n",
       "      <td>nmf2</td>\n",
       "      <td>19</td>\n",
       "      <td>train_rmse</td>\n",
       "      <td>19.116635</td>\n",
       "      <td>0.398263</td>\n",
       "      <td>0.484312</td>\n",
       "    </tr>\n",
       "    <tr>\n",
       "      <th>37977</th>\n",
       "      <td>nmf</td>\n",
       "      <td>19</td>\n",
       "      <td>q_matrix_rmse</td>\n",
       "      <td>14.420258</td>\n",
       "      <td>0.300422</td>\n",
       "      <td>0.240757</td>\n",
       "    </tr>\n",
       "    <tr>\n",
       "      <th>274</th>\n",
       "      <td>fdtf</td>\n",
       "      <td>19</td>\n",
       "      <td>q_matrix_rmse</td>\n",
       "      <td>13.892834</td>\n",
       "      <td>0.289434</td>\n",
       "      <td>0.212091</td>\n",
       "    </tr>\n",
       "    <tr>\n",
       "      <th>17805</th>\n",
       "      <td>fdtf</td>\n",
       "      <td>19</td>\n",
       "      <td>q_matrix_rmse</td>\n",
       "      <td>13.913421</td>\n",
       "      <td>0.289863</td>\n",
       "      <td>0.220437</td>\n",
       "    </tr>\n",
       "  </tbody>\n",
       "</table>\n",
       "</div>"
      ],
      "text/plain": [
       "       method  concepts           type      error      rmse       cmd\n",
       "exp_id                                                               \n",
       "189      fdtf         6     train_rmse  17.723227  0.369234  0.269537\n",
       "277      fdtf         4     train_rmse  21.516879  0.448268  0.279375\n",
       "38013     nmf        19  q_matrix_rmse  14.421630  0.300451  0.240815\n",
       "52126    nmf2        19     train_rmse  18.980277  0.395422  0.479946\n",
       "52473    nmf2        19     train_rmse  19.116635  0.398263  0.484312\n",
       "37977     nmf        19  q_matrix_rmse  14.420258  0.300422  0.240757\n",
       "274      fdtf        19  q_matrix_rmse  13.892834  0.289434  0.212091\n",
       "17805    fdtf        19  q_matrix_rmse  13.913421  0.289863  0.220437"
      ]
     },
     "execution_count": 72,
     "metadata": {},
     "output_type": "execute_result"
    }
   ],
   "source": [
    "df"
   ]
  },
  {
   "cell_type": "code",
   "execution_count": 65,
   "metadata": {},
   "outputs": [],
   "source": [
    "from sklearn.cluster import AgglomerativeClustering"
   ]
  },
  {
   "cell_type": "code",
   "execution_count": 73,
   "metadata": {},
   "outputs": [
    {
     "name": "stdout",
     "output_type": "stream",
     "text": [
      "0 - 189 - fdtf - train_rmse - 6\n",
      "0.2695369725247976\n",
      "[ 8  9 10 11 12 13 14 15 18]\n",
      "[0.10027299 0.12299792 0.14646025 0.15043686 0.1174806  0.11575566\n",
      " 0.12521221 0.08632037 0.11006786]\n",
      "\n",
      "1 - 277 - fdtf - train_rmse - 4\n",
      "0.2793747805528337\n",
      "[10 13 16 17 18]\n",
      "[0.0855395  0.08336955 0.08954729 0.09763461 0.11275464]\n",
      "\n",
      "2 - 38013 - nmf - q_matrix_rmse - 19\n",
      "0.24081451825830236\n",
      "[]\n",
      "[]\n",
      "\n",
      "3 - 52126 - nmf2 - train_rmse - 19\n",
      "0.47994553793538286\n",
      "[]\n",
      "[]\n",
      "\n",
      "4 - 52473 - nmf2 - train_rmse - 19\n",
      "0.4843123088472069\n",
      "[2 3]\n",
      "[0.19853514 0.16394379]\n",
      "\n",
      "5 - 37977 - nmf - q_matrix_rmse - 19\n",
      "0.24075690645224213\n",
      "[]\n",
      "[]\n",
      "\n",
      "6 - 274 - fdtf - q_matrix_rmse - 19\n",
      "0.21209076317635522\n",
      "[]\n",
      "[]\n",
      "\n",
      "7 - 17805 - fdtf - q_matrix_rmse - 19\n",
      "0.22043665170266746\n",
      "[11 12 13 14 15 16 17 18]\n",
      "[0.16499201 0.18144813 0.17765664 0.15394678 0.15511072 0.12896669\n",
      " 0.17364735 0.17354688]\n",
      "\n"
     ]
    }
   ],
   "source": [
    "for idx in range(len(data)):\n",
    "    print(\"%d - %d - %s - %s - %d\" % (idx, data[idx]['exp_id'], data[idx]['method'], \n",
    "                                      data[idx]['type'], data[idx]['concepts']))\n",
    "    print(data[idx]['cmd'])\n",
    "    models = []\n",
    "    dm = DistanceMatrix(data[idx]['question_distance'])\n",
    "    stats_list = []\n",
    "    p_values = []\n",
    "    for i in range(2, 20):\n",
    "        model = AgglomerativeClustering(n_clusters=i, \n",
    "                                        affinity='cosine',\n",
    "                                        linkage='single').fit(data[idx]['q_matrix_hat'].T)\n",
    "    #     model = SpectralClustering(n_clusters=i, n_init=100, affinity='precomputed').fit(\n",
    "    #         data[idx]['question_hat_similarity'].T)\n",
    "    #     model = SpectralClustering(n_clusters=i, n_init=100, affinity='rbf').fit(\n",
    "    #         data[idx]['q_matrix_hat'].T)\n",
    "    #     model = KMeans(n_clusters=i, n_init=100).fit(data[idx]['q_matrix_hat'].T)\n",
    "        models.append(model)\n",
    "        stats = anosim(dm, model.labels_, permutations=9999)\n",
    "        stats_list.append(stats['test statistic'])\n",
    "        p_values.append(stats['p-value'])\n",
    "    print(np.where(np.asarray(p_values) < 0.1)[0]+1)\n",
    "    print(np.asarray(stats_list)[np.where(np.asarray(p_values) < 0.1)])\n",
    "    print()"
   ]
  },
  {
   "cell_type": "code",
   "execution_count": 378,
   "metadata": {},
   "outputs": [
    {
     "data": {
      "text/plain": [
       "[0.031143933460146832,\n",
       " -0.07877606756022211,\n",
       " -0.04087854087854093,\n",
       " -0.03789377766206707,\n",
       " -0.04706930746140639,\n",
       " 0.039631190169772366,\n",
       " 0.04229587095851908,\n",
       " 0.0758107956458309,\n",
       " 0.07643988701952605,\n",
       " 0.04786588582884877,\n",
       " 0.038074348649297304,\n",
       " 0.05036541643684499,\n",
       " 0.05218367418528789,\n",
       " 0.019998600097993036,\n",
       " 0.038588804980688216,\n",
       " 0.035056068484912876,\n",
       " 0.026571418228330694,\n",
       " 0.005022954361328564]"
      ]
     },
     "execution_count": 378,
     "metadata": {},
     "output_type": "execute_result"
    }
   ],
   "source": [
    "stats_list"
   ]
  },
  {
   "cell_type": "code",
   "execution_count": 351,
   "metadata": {},
   "outputs": [
    {
     "data": {
      "text/plain": [
       "[0.12,\n",
       " 0.42,\n",
       " 0.28,\n",
       " 0.56,\n",
       " 0.73,\n",
       " 0.42,\n",
       " 0.63,\n",
       " 0.59,\n",
       " 0.42,\n",
       " 0.72,\n",
       " 0.74,\n",
       " 0.86,\n",
       " 0.59,\n",
       " 0.6,\n",
       " 0.67,\n",
       " 0.68,\n",
       " 0.52,\n",
       " 0.51]"
      ]
     },
     "execution_count": 351,
     "metadata": {},
     "output_type": "execute_result"
    }
   ],
   "source": [
    "p_values"
   ]
  },
  {
   "cell_type": "markdown",
   "metadata": {},
   "source": [
    "### Organizing data"
   ]
  },
  {
   "cell_type": "code",
   "execution_count": 3,
   "metadata": {},
   "outputs": [],
   "source": [
    "def add_to_tensor(data, tensor, X, filter_attempt=False):\n",
    "    for item in data:\n",
    "        s_idx, q_idx, a_idx, outcome = item\n",
    "\n",
    "        # If attempt is over max value, ignore it\n",
    "        if filter_attempt and a_idx >= filter_attempt:\n",
    "            continue\n",
    "\n",
    "        tensor[s_idx, q_idx, a_idx] = outcome\n",
    "        X[s_idx, q_idx, a_idx] = 1\n",
    "        \n",
    "    tensor[np.where(X[:,:] == 0)] = None\n",
    "    return tensor, X\n",
    "    \n",
    "def transform_data(data, n_attempts):\n",
    "    N_STUDENTS = len(data['users_idx'])\n",
    "    N_QUESTIONS = len(data['questions_idx'])\n",
    "    \n",
    "    student_performance = np.zeros((N_STUDENTS, N_QUESTIONS, n_attempts))\n",
    "    X = np.zeros(student_performance.shape)\n",
    "\n",
    "    student_performance, X = add_to_tensor(data['train_set'], \n",
    "                                           student_performance, \n",
    "                                           X, filter_attempt=n_attempts)\n",
    "    \n",
    "    \n",
    "    max_attempt = np.max(data['test_set'][:,2])+1\n",
    "    student_performance_test = np.zeros((N_STUDENTS, N_QUESTIONS, max_attempt))\n",
    "    X_test = np.zeros(student_performance_test.shape)\n",
    "    student_performance_test, X_test = add_to_tensor(data['test_set'], \n",
    "                                                     student_performance_test, \n",
    "                                                     X_test)\n",
    "    return student_performance, X, student_performance_test, X_test"
   ]
  },
  {
   "cell_type": "markdown",
   "metadata": {},
   "source": [
    "Do grid search to explore parameters"
   ]
  },
  {
   "cell_type": "code",
   "execution_count": 5,
   "metadata": {},
   "outputs": [],
   "source": [
    "# %%time\n",
    "# mu = [0.1, 0.5, 1, 3, 10]\n",
    "mu = [3]\n",
    "# n_concepts = range(2, 20)\n",
    "n_concepts = [14]\n",
    "# attempts = [10, 20, 50, 100, 150, 200]\n",
    "attempts = [10]"
   ]
  },
  {
   "cell_type": "code",
   "execution_count": 24,
   "metadata": {},
   "outputs": [
    {
     "data": {
      "text/plain": [
       "2700"
      ]
     },
     "execution_count": 24,
     "metadata": {},
     "output_type": "execute_result"
    }
   ],
   "source": [
    "search = 1 * N_RUNS * len(attempts) * len(mu) * len(n_concepts)\n",
    "search"
   ]
  },
  {
   "cell_type": "code",
   "execution_count": 18,
   "metadata": {},
   "outputs": [],
   "source": [
    "def run(*args):\n",
    "    dataset, data, att, student_performance, X, student_performance_test, X_test, del_questions, m, concept = args\n",
    "    \n",
    "    # Run FDTF\n",
    "    start = time.time()\n",
    "    (best_student_performance_pred, best_student_knowledge, \n",
    "     best_q_matrix, best_error) = feedback_driven_tensor_factorization(\n",
    "        student_performance, n_concepts=concept, init=10, max_iter=1000, mu=m)\n",
    "#                     student_performance, n_concepts=concept, init=1, max_iter=3, mu=m)\n",
    "    end = time.time()\n",
    "\n",
    "    if concept == 14:\n",
    "        q_matrix = np.delete(data['q_matrix'], del_questions, axis=1)\n",
    "        q_matrix_error = np.sqrt(np.sum(np.power(q_matrix-best_q_matrix, 2)))\n",
    "    else:\n",
    "        q_matrix = data['q_matrix']\n",
    "        q_matrix_error = -1\n",
    "\n",
    "    row = {\n",
    "        \"dataset\": \"run_%d\" % dataset,\n",
    "        \"q_matrix\": q_matrix,\n",
    "        \"X\": X,\n",
    "        \"sp\": student_performance,\n",
    "        \"X_test\": X_test,\n",
    "        \"sp_test\": student_performance_test,\n",
    "        \"sp_hat\": best_student_performance_pred,\n",
    "        \"sk_hat\": best_student_knowledge,\n",
    "        \"q_matrix_hat\": best_q_matrix,\n",
    "        \"mu\": m,\n",
    "        \"concepts\": concept,\n",
    "        \"attempts_train\": att,\n",
    "        \"method\": \"fdtf\",\n",
    "        \"q_matrix_error\": q_matrix_error,\n",
    "        \"reconstruction_error\": best_error,\n",
    "        \"train_error\": 0,\n",
    "        \"test_error\": 0,\n",
    "        \"seconds\": end-start\n",
    "    }\n",
    "    \n",
    "    return row"
   ]
  },
  {
   "cell_type": "code",
   "execution_count": 19,
   "metadata": {},
   "outputs": [],
   "source": [
    "args = []\n",
    "for restart in range(1):\n",
    "    for dataset in range(N_RUNS):\n",
    "        with open(\"%s/run_%d.pkl\" % (folder, dataset), \"rb\") as pklfile:\n",
    "            data = pickle.load(pklfile)\n",
    "        for att in attempts:\n",
    "            # Get train and test data in FDTF format\n",
    "            student_performance, X, student_performance_test, X_test = transform_data(data, att)\n",
    "            # Check if questions have minimum number of attempts\n",
    "            attempts_per_question = X.sum(axis=0).sum(axis=1)\n",
    "            del_questions = [idx for idx,value in enumerate(attempts_per_question) if value < 3]\n",
    "            student_performance = np.delete(student_performance, del_questions, axis=1)\n",
    "            \n",
    "            for m in mu:\n",
    "                for concept in n_concepts:                \n",
    "                    args.append([dataset, \n",
    "                                data, \n",
    "                                att, \n",
    "                                student_performance, \n",
    "                                X, \n",
    "                                student_performance_test, \n",
    "                                X_test, \n",
    "                                del_questions,\n",
    "                                m,\n",
    "                                concept])"
   ]
  },
  {
   "cell_type": "code",
   "execution_count": 20,
   "metadata": {},
   "outputs": [
    {
     "data": {
      "text/plain": [
       "5"
      ]
     },
     "execution_count": 20,
     "metadata": {},
     "output_type": "execute_result"
    }
   ],
   "source": [
    "len(args)"
   ]
  },
  {
   "cell_type": "code",
   "execution_count": 21,
   "metadata": {},
   "outputs": [
    {
     "name": "stdout",
     "output_type": "stream",
     "text": [
      "CPU times: user 2min 9s, sys: 3.93 s, total: 2min 13s\n",
      "Wall time: 1min 7s\n"
     ]
    }
   ],
   "source": [
    "%%time\n",
    "row = run(*args[0])"
   ]
  },
  {
   "cell_type": "code",
   "execution_count": null,
   "metadata": {},
   "outputs": [],
   "source": []
  },
  {
   "cell_type": "code",
   "execution_count": 25,
   "metadata": {},
   "outputs": [
    {
     "data": {
      "text/plain": [
       "0.4616764283646856"
      ]
     },
     "execution_count": 25,
     "metadata": {},
     "output_type": "execute_result"
    }
   ],
   "source": [
    "rmse = np.sqrt(np.mean(np.power(row['q_matrix']-row['q_matrix_hat'], 2)))\n",
    "rmse"
   ]
  }
 ],
 "metadata": {
  "kernelspec": {
   "display_name": "Django Shell-Plus",
   "language": "python",
   "name": "django_extensions"
  },
  "language_info": {
   "codemirror_mode": {
    "name": "ipython",
    "version": 3
   },
   "file_extension": ".py",
   "mimetype": "text/x-python",
   "name": "python",
   "nbconvert_exporter": "python",
   "pygments_lexer": "ipython3",
   "version": "3.6.10"
  }
 },
 "nbformat": 4,
 "nbformat_minor": 4
}
