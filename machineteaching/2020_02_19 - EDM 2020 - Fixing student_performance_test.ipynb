{
 "cells": [
  {
   "cell_type": "code",
   "execution_count": 1,
   "metadata": {},
   "outputs": [],
   "source": [
    "# Helpers\n",
    "import pickle\n",
    "import numpy as np\n",
    "import time\n",
    "\n",
    "# DB \n",
    "import psycopg2\n",
    "from django.conf import settings\n",
    "\n",
    "# Learning\n",
    "from fdtf import feedback_driven_tensor_factorization"
   ]
  },
  {
   "cell_type": "code",
   "execution_count": 2,
   "metadata": {},
   "outputs": [],
   "source": [
    "folder = \"data/edm2020\"\n",
    "N_RUNS = 5"
   ]
  },
  {
   "cell_type": "code",
   "execution_count": 5,
   "metadata": {},
   "outputs": [],
   "source": [
    "attempts = [10, 20, 50, 100, 150, 200]"
   ]
  },
  {
   "cell_type": "code",
   "execution_count": 9,
   "metadata": {},
   "outputs": [],
   "source": [
    "connection = psycopg2.connect(user = settings.DATABASES[\"default\"][\"USER\"],\n",
    "                                  password = settings.DATABASES[\"default\"][\"PASSWORD\"],\n",
    "                                  host = settings.DATABASES[\"default\"][\"HOST\"],\n",
    "                                  port = settings.DATABASES[\"default\"][\"PORT\"],\n",
    "                                  database = settings.DATABASES[\"default\"][\"NAME\"])\n",
    "connection.autocommit=True\n",
    "cursor = connection.cursor()"
   ]
  },
  {
   "cell_type": "markdown",
   "metadata": {},
   "source": [
    "### Organizing data"
   ]
  },
  {
   "cell_type": "code",
   "execution_count": 6,
   "metadata": {},
   "outputs": [],
   "source": [
    "def add_to_tensor(data, tensor, X, filter_attempt=False):\n",
    "    for item in data:\n",
    "        s_idx, q_idx, a_idx, outcome = item\n",
    "\n",
    "        # If attempt is over max value, ignore it\n",
    "        if filter_attempt and a_idx >= filter_attempt:\n",
    "            continue\n",
    "\n",
    "        tensor[s_idx, q_idx, a_idx] = outcome\n",
    "        X[s_idx, q_idx, a_idx] = 1\n",
    "        \n",
    "    tensor[np.where(X[:,:] == 0)] = None\n",
    "    return tensor, X\n",
    "    \n",
    "def transform_data(data, n_attempts):\n",
    "    N_STUDENTS = len(data['users_idx'])\n",
    "    N_QUESTIONS = len(data['questions_idx'])\n",
    "    \n",
    "    student_performance = np.zeros((N_STUDENTS, N_QUESTIONS, n_attempts))\n",
    "    X = np.zeros(student_performance.shape)\n",
    "\n",
    "    student_performance, X = add_to_tensor(data['train_set'], \n",
    "                                           student_performance, \n",
    "                                           X, filter_attempt=n_attempts)\n",
    "    \n",
    "    \n",
    "    max_attempt = np.max(data['test_set'][:,2])+1\n",
    "    student_performance_test = np.zeros((N_STUDENTS, N_QUESTIONS, max_attempt))\n",
    "    X_test = np.zeros(student_performance_test.shape)\n",
    "    student_performance_test, X_test = add_to_tensor(data['test_set'], \n",
    "                                                     student_performance_test, \n",
    "                                                     X_test)\n",
    "    return student_performance, X, student_performance_test, X_test"
   ]
  },
  {
   "cell_type": "code",
   "execution_count": 22,
   "metadata": {},
   "outputs": [],
   "source": [
    "update_queries = []\n",
    "total = 0\n",
    "for dataset in range(1):\n",
    "    with open(\"%s/run_%d.pkl\" % (folder, dataset), \"rb\") as pklfile:\n",
    "        data = pickle.load(pklfile)\n",
    "        for att in attempts:\n",
    "            # Get train and test data in FDTF format\n",
    "            student_performance, X, student_performance_test, X_test = transform_data(data, att)\n",
    "            # Check if questions have minimum number of attempts\n",
    "            attempts_per_question = X.sum(axis=0).sum(axis=1)\n",
    "            del_questions = [idx for idx,value in enumerate(attempts_per_question) if value < 3]\n",
    "            X = np.delete(X, del_questions, axis=1)\n",
    "            student_performance = np.delete(student_performance, del_questions, axis=1)\n",
    "            X_test = np.delete(X_test, del_questions, axis=1)\n",
    "            student_performance_test = np.delete(student_performance_test, del_questions, axis=1)\n",
    "\n",
    "            update = {\n",
    "                \"x_test\": X_test,\n",
    "                \"sp_test\": student_performance_test\n",
    "            }\n",
    "\n",
    "            # Write PSQL query\n",
    "            update_query = \"UPDATE EDM2020_2020_02_19 SET \"\n",
    "            update_list = []\n",
    "            query_values = []\n",
    "            for key, value in update.items():\n",
    "                update_list.append(key + \"= %s\")\n",
    "                if isinstance(value, np.ndarray):\n",
    "                    query_values.append(value.tolist())\n",
    "                else:\n",
    "                    query_values.append(value)\n",
    "            update_query += \", \".join(update_list) + \"where dataset = %s and attempts_train = %s\"\n",
    "            query_values.append('run_%d' % dataset)\n",
    "            query_values.append('%d' % att)\n",
    "            query_values = tuple(query_values)\n",
    "            query = cursor.mogrify(update_query, query_values)\n",
    "            update_queries.append(query)\n",
    "            total += 1"
   ]
  },
  {
   "cell_type": "code",
   "execution_count": 23,
   "metadata": {},
   "outputs": [
    {
     "data": {
      "text/plain": [
       "1"
      ]
     },
     "execution_count": 23,
     "metadata": {},
     "output_type": "execute_result"
    }
   ],
   "source": [
    "len(update_queries)"
   ]
  },
  {
   "cell_type": "code",
   "execution_count": 24,
   "metadata": {},
   "outputs": [],
   "source": [
    "for query in update_queries:\n",
    "    cursor.execute(query)"
   ]
  }
 ],
 "metadata": {
  "kernelspec": {
   "display_name": "Django Shell-Plus",
   "language": "python",
   "name": "django_extensions"
  },
  "language_info": {
   "codemirror_mode": {
    "name": "ipython",
    "version": 3
   },
   "file_extension": ".py",
   "mimetype": "text/x-python",
   "name": "python",
   "nbconvert_exporter": "python",
   "pygments_lexer": "ipython3",
   "version": "3.6.10"
  }
 },
 "nbformat": 4,
 "nbformat_minor": 4
}
