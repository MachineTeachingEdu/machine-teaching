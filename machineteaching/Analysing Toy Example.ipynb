{
 "cells": [
  {
   "cell_type": "code",
   "execution_count": 9,
   "metadata": {},
   "outputs": [],
   "source": [
    "#DB\n",
    "import os\n",
    "import psycopg2\n",
    "\n",
    "# Helpers\n",
    "import numpy as np\n",
    "import qgrid\n",
    "from tqdm import tqdm_notebook\n",
    "import time\n",
    "import pandas as pd\n",
    "\n",
    "# Evaluation\n",
    "from gap import define_k\n",
    "\n",
    "# Plots\n",
    "import matplotlib.pyplot as plt"
   ]
  },
  {
   "cell_type": "markdown",
   "metadata": {},
   "source": [
    "## Connect to DB"
   ]
  },
  {
   "cell_type": "code",
   "execution_count": 2,
   "metadata": {},
   "outputs": [],
   "source": [
    "connection = psycopg2.connect(user = \"machineteaching\",\n",
    "                                  password = \"***REMOVED***\",\n",
    "                                  host = \"localhost\",\n",
    "#                                   port = \"5432\",\n",
    "                                  database = \"machineteaching\")\n",
    "connection.autocommit=True\n",
    "cursor = connection.cursor()"
   ]
  },
  {
   "cell_type": "code",
   "execution_count": 37,
   "metadata": {
    "scrolled": false
   },
   "outputs": [
    {
     "data": {
      "application/vnd.jupyter.widget-view+json": {
       "model_id": "98de08e6bef2490c849a7d4579fb0830",
       "version_major": 2,
       "version_minor": 0
      },
      "text/plain": [
       "HBox(children=(IntProgress(value=0, description='docs', max=4, style=ProgressStyle(description_width='initial'…"
      ]
     },
     "metadata": {},
     "output_type": "display_data"
    },
    {
     "data": {
      "application/vnd.jupyter.widget-view+json": {
       "model_id": "",
       "version_major": 2,
       "version_minor": 0
      },
      "text/plain": [
       "HBox(children=(IntProgress(value=0, description='vectorizer', max=3, style=ProgressStyle(description_width='in…"
      ]
     },
     "metadata": {},
     "output_type": "display_data"
    },
    {
     "data": {
      "application/vnd.jupyter.widget-view+json": {
       "model_id": "",
       "version_major": 2,
       "version_minor": 0
      },
      "text/plain": [
       "HBox(children=(IntProgress(value=0, description='min_df', max=9, style=ProgressStyle(description_width='initia…"
      ]
     },
     "metadata": {},
     "output_type": "display_data"
    },
    {
     "data": {
      "application/vnd.jupyter.widget-view+json": {
       "model_id": "",
       "version_major": 2,
       "version_minor": 0
      },
      "text/plain": [
       "HBox(children=(IntProgress(value=0, description='binary', max=2, style=ProgressStyle(description_width='initia…"
      ]
     },
     "metadata": {},
     "output_type": "display_data"
    },
    {
     "data": {
      "application/vnd.jupyter.widget-view+json": {
       "model_id": "",
       "version_major": 2,
       "version_minor": 0
      },
      "text/plain": [
       "HBox(children=(IntProgress(value=0, description='metric', max=3, style=ProgressStyle(description_width='initia…"
      ]
     },
     "metadata": {},
     "output_type": "display_data"
    },
    {
     "data": {
      "application/vnd.jupyter.widget-view+json": {
       "model_id": "",
       "version_major": 2,
       "version_minor": 0
      },
      "text/plain": [
       "HBox(children=(IntProgress(value=0, description='method', max=2, style=ProgressStyle(description_width='initia…"
      ]
     },
     "metadata": {},
     "output_type": "display_data"
    },
    {
     "name": "stderr",
     "output_type": "stream",
     "text": [
      "/home/lmoraes/miniconda3/envs/machine_teaching/lib/python3.6/site-packages/ipykernel_launcher.py:14: RuntimeWarning: invalid value encountered in greater\n",
      "  \n"
     ]
    },
    {
     "data": {
      "application/vnd.jupyter.widget-view+json": {
       "model_id": "",
       "version_major": 2,
       "version_minor": 0
      },
      "text/plain": [
       "HBox(children=(IntProgress(value=0, description='method', max=2, style=ProgressStyle(description_width='initia…"
      ]
     },
     "metadata": {},
     "output_type": "display_data"
    },
    {
     "data": {
      "application/vnd.jupyter.widget-view+json": {
       "model_id": "",
       "version_major": 2,
       "version_minor": 0
      },
      "text/plain": [
       "HBox(children=(IntProgress(value=0, description='method', max=2, style=ProgressStyle(description_width='initia…"
      ]
     },
     "metadata": {},
     "output_type": "display_data"
    },
    {
     "data": {
      "application/vnd.jupyter.widget-view+json": {
       "model_id": "",
       "version_major": 2,
       "version_minor": 0
      },
      "text/plain": [
       "HBox(children=(IntProgress(value=0, description='metric', max=3, style=ProgressStyle(description_width='initia…"
      ]
     },
     "metadata": {},
     "output_type": "display_data"
    },
    {
     "data": {
      "application/vnd.jupyter.widget-view+json": {
       "model_id": "",
       "version_major": 2,
       "version_minor": 0
      },
      "text/plain": [
       "HBox(children=(IntProgress(value=0, description='method', max=2, style=ProgressStyle(description_width='initia…"
      ]
     },
     "metadata": {},
     "output_type": "display_data"
    },
    {
     "data": {
      "application/vnd.jupyter.widget-view+json": {
       "model_id": "",
       "version_major": 2,
       "version_minor": 0
      },
      "text/plain": [
       "HBox(children=(IntProgress(value=0, description='method', max=2, style=ProgressStyle(description_width='initia…"
      ]
     },
     "metadata": {},
     "output_type": "display_data"
    },
    {
     "data": {
      "application/vnd.jupyter.widget-view+json": {
       "model_id": "",
       "version_major": 2,
       "version_minor": 0
      },
      "text/plain": [
       "HBox(children=(IntProgress(value=0, description='method', max=2, style=ProgressStyle(description_width='initia…"
      ]
     },
     "metadata": {},
     "output_type": "display_data"
    },
    {
     "data": {
      "application/vnd.jupyter.widget-view+json": {
       "model_id": "",
       "version_major": 2,
       "version_minor": 0
      },
      "text/plain": [
       "HBox(children=(IntProgress(value=0, description='binary', max=2, style=ProgressStyle(description_width='initia…"
      ]
     },
     "metadata": {},
     "output_type": "display_data"
    },
    {
     "data": {
      "application/vnd.jupyter.widget-view+json": {
       "model_id": "",
       "version_major": 2,
       "version_minor": 0
      },
      "text/plain": [
       "HBox(children=(IntProgress(value=0, description='metric', max=3, style=ProgressStyle(description_width='initia…"
      ]
     },
     "metadata": {},
     "output_type": "display_data"
    },
    {
     "data": {
      "application/vnd.jupyter.widget-view+json": {
       "model_id": "",
       "version_major": 2,
       "version_minor": 0
      },
      "text/plain": [
       "HBox(children=(IntProgress(value=0, description='method', max=2, style=ProgressStyle(description_width='initia…"
      ]
     },
     "metadata": {},
     "output_type": "display_data"
    },
    {
     "data": {
      "application/vnd.jupyter.widget-view+json": {
       "model_id": "",
       "version_major": 2,
       "version_minor": 0
      },
      "text/plain": [
       "HBox(children=(IntProgress(value=0, description='method', max=2, style=ProgressStyle(description_width='initia…"
      ]
     },
     "metadata": {},
     "output_type": "display_data"
    },
    {
     "data": {
      "application/vnd.jupyter.widget-view+json": {
       "model_id": "",
       "version_major": 2,
       "version_minor": 0
      },
      "text/plain": [
       "HBox(children=(IntProgress(value=0, description='method', max=2, style=ProgressStyle(description_width='initia…"
      ]
     },
     "metadata": {},
     "output_type": "display_data"
    },
    {
     "data": {
      "application/vnd.jupyter.widget-view+json": {
       "model_id": "",
       "version_major": 2,
       "version_minor": 0
      },
      "text/plain": [
       "HBox(children=(IntProgress(value=0, description='metric', max=3, style=ProgressStyle(description_width='initia…"
      ]
     },
     "metadata": {},
     "output_type": "display_data"
    },
    {
     "data": {
      "application/vnd.jupyter.widget-view+json": {
       "model_id": "",
       "version_major": 2,
       "version_minor": 0
      },
      "text/plain": [
       "HBox(children=(IntProgress(value=0, description='method', max=2, style=ProgressStyle(description_width='initia…"
      ]
     },
     "metadata": {},
     "output_type": "display_data"
    },
    {
     "data": {
      "application/vnd.jupyter.widget-view+json": {
       "model_id": "",
       "version_major": 2,
       "version_minor": 0
      },
      "text/plain": [
       "HBox(children=(IntProgress(value=0, description='method', max=2, style=ProgressStyle(description_width='initia…"
      ]
     },
     "metadata": {},
     "output_type": "display_data"
    },
    {
     "data": {
      "application/vnd.jupyter.widget-view+json": {
       "model_id": "",
       "version_major": 2,
       "version_minor": 0
      },
      "text/plain": [
       "HBox(children=(IntProgress(value=0, description='method', max=2, style=ProgressStyle(description_width='initia…"
      ]
     },
     "metadata": {},
     "output_type": "display_data"
    },
    {
     "data": {
      "application/vnd.jupyter.widget-view+json": {
       "model_id": "",
       "version_major": 2,
       "version_minor": 0
      },
      "text/plain": [
       "HBox(children=(IntProgress(value=0, description='binary', max=2, style=ProgressStyle(description_width='initia…"
      ]
     },
     "metadata": {},
     "output_type": "display_data"
    },
    {
     "data": {
      "application/vnd.jupyter.widget-view+json": {
       "model_id": "",
       "version_major": 2,
       "version_minor": 0
      },
      "text/plain": [
       "HBox(children=(IntProgress(value=0, description='metric', max=3, style=ProgressStyle(description_width='initia…"
      ]
     },
     "metadata": {},
     "output_type": "display_data"
    },
    {
     "data": {
      "application/vnd.jupyter.widget-view+json": {
       "model_id": "",
       "version_major": 2,
       "version_minor": 0
      },
      "text/plain": [
       "HBox(children=(IntProgress(value=0, description='method', max=2, style=ProgressStyle(description_width='initia…"
      ]
     },
     "metadata": {},
     "output_type": "display_data"
    },
    {
     "data": {
      "application/vnd.jupyter.widget-view+json": {
       "model_id": "",
       "version_major": 2,
       "version_minor": 0
      },
      "text/plain": [
       "HBox(children=(IntProgress(value=0, description='method', max=2, style=ProgressStyle(description_width='initia…"
      ]
     },
     "metadata": {},
     "output_type": "display_data"
    },
    {
     "data": {
      "application/vnd.jupyter.widget-view+json": {
       "model_id": "",
       "version_major": 2,
       "version_minor": 0
      },
      "text/plain": [
       "HBox(children=(IntProgress(value=0, description='method', max=2, style=ProgressStyle(description_width='initia…"
      ]
     },
     "metadata": {},
     "output_type": "display_data"
    },
    {
     "data": {
      "application/vnd.jupyter.widget-view+json": {
       "model_id": "",
       "version_major": 2,
       "version_minor": 0
      },
      "text/plain": [
       "HBox(children=(IntProgress(value=0, description='metric', max=3, style=ProgressStyle(description_width='initia…"
      ]
     },
     "metadata": {},
     "output_type": "display_data"
    },
    {
     "data": {
      "application/vnd.jupyter.widget-view+json": {
       "model_id": "",
       "version_major": 2,
       "version_minor": 0
      },
      "text/plain": [
       "HBox(children=(IntProgress(value=0, description='method', max=2, style=ProgressStyle(description_width='initia…"
      ]
     },
     "metadata": {},
     "output_type": "display_data"
    },
    {
     "data": {
      "application/vnd.jupyter.widget-view+json": {
       "model_id": "",
       "version_major": 2,
       "version_minor": 0
      },
      "text/plain": [
       "HBox(children=(IntProgress(value=0, description='method', max=2, style=ProgressStyle(description_width='initia…"
      ]
     },
     "metadata": {},
     "output_type": "display_data"
    },
    {
     "data": {
      "application/vnd.jupyter.widget-view+json": {
       "model_id": "",
       "version_major": 2,
       "version_minor": 0
      },
      "text/plain": [
       "HBox(children=(IntProgress(value=0, description='method', max=2, style=ProgressStyle(description_width='initia…"
      ]
     },
     "metadata": {},
     "output_type": "display_data"
    },
    {
     "data": {
      "application/vnd.jupyter.widget-view+json": {
       "model_id": "",
       "version_major": 2,
       "version_minor": 0
      },
      "text/plain": [
       "HBox(children=(IntProgress(value=0, description='binary', max=2, style=ProgressStyle(description_width='initia…"
      ]
     },
     "metadata": {},
     "output_type": "display_data"
    },
    {
     "data": {
      "application/vnd.jupyter.widget-view+json": {
       "model_id": "",
       "version_major": 2,
       "version_minor": 0
      },
      "text/plain": [
       "HBox(children=(IntProgress(value=0, description='metric', max=3, style=ProgressStyle(description_width='initia…"
      ]
     },
     "metadata": {},
     "output_type": "display_data"
    },
    {
     "data": {
      "application/vnd.jupyter.widget-view+json": {
       "model_id": "",
       "version_major": 2,
       "version_minor": 0
      },
      "text/plain": [
       "HBox(children=(IntProgress(value=0, description='method', max=2, style=ProgressStyle(description_width='initia…"
      ]
     },
     "metadata": {},
     "output_type": "display_data"
    },
    {
     "data": {
      "application/vnd.jupyter.widget-view+json": {
       "model_id": "",
       "version_major": 2,
       "version_minor": 0
      },
      "text/plain": [
       "HBox(children=(IntProgress(value=0, description='method', max=2, style=ProgressStyle(description_width='initia…"
      ]
     },
     "metadata": {},
     "output_type": "display_data"
    },
    {
     "data": {
      "application/vnd.jupyter.widget-view+json": {
       "model_id": "",
       "version_major": 2,
       "version_minor": 0
      },
      "text/plain": [
       "HBox(children=(IntProgress(value=0, description='method', max=2, style=ProgressStyle(description_width='initia…"
      ]
     },
     "metadata": {},
     "output_type": "display_data"
    },
    {
     "data": {
      "application/vnd.jupyter.widget-view+json": {
       "model_id": "",
       "version_major": 2,
       "version_minor": 0
      },
      "text/plain": [
       "HBox(children=(IntProgress(value=0, description='metric', max=3, style=ProgressStyle(description_width='initia…"
      ]
     },
     "metadata": {},
     "output_type": "display_data"
    },
    {
     "data": {
      "application/vnd.jupyter.widget-view+json": {
       "model_id": "",
       "version_major": 2,
       "version_minor": 0
      },
      "text/plain": [
       "HBox(children=(IntProgress(value=0, description='method', max=2, style=ProgressStyle(description_width='initia…"
      ]
     },
     "metadata": {},
     "output_type": "display_data"
    },
    {
     "data": {
      "application/vnd.jupyter.widget-view+json": {
       "model_id": "",
       "version_major": 2,
       "version_minor": 0
      },
      "text/plain": [
       "HBox(children=(IntProgress(value=0, description='method', max=2, style=ProgressStyle(description_width='initia…"
      ]
     },
     "metadata": {},
     "output_type": "display_data"
    },
    {
     "data": {
      "application/vnd.jupyter.widget-view+json": {
       "model_id": "",
       "version_major": 2,
       "version_minor": 0
      },
      "text/plain": [
       "HBox(children=(IntProgress(value=0, description='method', max=2, style=ProgressStyle(description_width='initia…"
      ]
     },
     "metadata": {},
     "output_type": "display_data"
    },
    {
     "data": {
      "application/vnd.jupyter.widget-view+json": {
       "model_id": "",
       "version_major": 2,
       "version_minor": 0
      },
      "text/plain": [
       "HBox(children=(IntProgress(value=0, description='binary', max=2, style=ProgressStyle(description_width='initia…"
      ]
     },
     "metadata": {},
     "output_type": "display_data"
    },
    {
     "data": {
      "application/vnd.jupyter.widget-view+json": {
       "model_id": "",
       "version_major": 2,
       "version_minor": 0
      },
      "text/plain": [
       "HBox(children=(IntProgress(value=0, description='metric', max=3, style=ProgressStyle(description_width='initia…"
      ]
     },
     "metadata": {},
     "output_type": "display_data"
    },
    {
     "data": {
      "application/vnd.jupyter.widget-view+json": {
       "model_id": "",
       "version_major": 2,
       "version_minor": 0
      },
      "text/plain": [
       "HBox(children=(IntProgress(value=0, description='method', max=2, style=ProgressStyle(description_width='initia…"
      ]
     },
     "metadata": {},
     "output_type": "display_data"
    },
    {
     "data": {
      "application/vnd.jupyter.widget-view+json": {
       "model_id": "",
       "version_major": 2,
       "version_minor": 0
      },
      "text/plain": [
       "HBox(children=(IntProgress(value=0, description='method', max=2, style=ProgressStyle(description_width='initia…"
      ]
     },
     "metadata": {},
     "output_type": "display_data"
    },
    {
     "data": {
      "application/vnd.jupyter.widget-view+json": {
       "model_id": "",
       "version_major": 2,
       "version_minor": 0
      },
      "text/plain": [
       "HBox(children=(IntProgress(value=0, description='method', max=2, style=ProgressStyle(description_width='initia…"
      ]
     },
     "metadata": {},
     "output_type": "display_data"
    },
    {
     "data": {
      "application/vnd.jupyter.widget-view+json": {
       "model_id": "",
       "version_major": 2,
       "version_minor": 0
      },
      "text/plain": [
       "HBox(children=(IntProgress(value=0, description='metric', max=3, style=ProgressStyle(description_width='initia…"
      ]
     },
     "metadata": {},
     "output_type": "display_data"
    },
    {
     "data": {
      "application/vnd.jupyter.widget-view+json": {
       "model_id": "",
       "version_major": 2,
       "version_minor": 0
      },
      "text/plain": [
       "HBox(children=(IntProgress(value=0, description='method', max=2, style=ProgressStyle(description_width='initia…"
      ]
     },
     "metadata": {},
     "output_type": "display_data"
    },
    {
     "data": {
      "application/vnd.jupyter.widget-view+json": {
       "model_id": "",
       "version_major": 2,
       "version_minor": 0
      },
      "text/plain": [
       "HBox(children=(IntProgress(value=0, description='method', max=2, style=ProgressStyle(description_width='initia…"
      ]
     },
     "metadata": {},
     "output_type": "display_data"
    },
    {
     "data": {
      "application/vnd.jupyter.widget-view+json": {
       "model_id": "",
       "version_major": 2,
       "version_minor": 0
      },
      "text/plain": [
       "HBox(children=(IntProgress(value=0, description='method', max=2, style=ProgressStyle(description_width='initia…"
      ]
     },
     "metadata": {},
     "output_type": "display_data"
    },
    {
     "data": {
      "application/vnd.jupyter.widget-view+json": {
       "model_id": "",
       "version_major": 2,
       "version_minor": 0
      },
      "text/plain": [
       "HBox(children=(IntProgress(value=0, description='binary', max=2, style=ProgressStyle(description_width='initia…"
      ]
     },
     "metadata": {},
     "output_type": "display_data"
    },
    {
     "data": {
      "application/vnd.jupyter.widget-view+json": {
       "model_id": "",
       "version_major": 2,
       "version_minor": 0
      },
      "text/plain": [
       "HBox(children=(IntProgress(value=0, description='metric', max=3, style=ProgressStyle(description_width='initia…"
      ]
     },
     "metadata": {},
     "output_type": "display_data"
    },
    {
     "data": {
      "application/vnd.jupyter.widget-view+json": {
       "model_id": "",
       "version_major": 2,
       "version_minor": 0
      },
      "text/plain": [
       "HBox(children=(IntProgress(value=0, description='method', max=2, style=ProgressStyle(description_width='initia…"
      ]
     },
     "metadata": {},
     "output_type": "display_data"
    },
    {
     "data": {
      "application/vnd.jupyter.widget-view+json": {
       "model_id": "",
       "version_major": 2,
       "version_minor": 0
      },
      "text/plain": [
       "HBox(children=(IntProgress(value=0, description='method', max=2, style=ProgressStyle(description_width='initia…"
      ]
     },
     "metadata": {},
     "output_type": "display_data"
    },
    {
     "data": {
      "application/vnd.jupyter.widget-view+json": {
       "model_id": "",
       "version_major": 2,
       "version_minor": 0
      },
      "text/plain": [
       "HBox(children=(IntProgress(value=0, description='method', max=2, style=ProgressStyle(description_width='initia…"
      ]
     },
     "metadata": {},
     "output_type": "display_data"
    },
    {
     "data": {
      "application/vnd.jupyter.widget-view+json": {
       "model_id": "",
       "version_major": 2,
       "version_minor": 0
      },
      "text/plain": [
       "HBox(children=(IntProgress(value=0, description='metric', max=3, style=ProgressStyle(description_width='initia…"
      ]
     },
     "metadata": {},
     "output_type": "display_data"
    },
    {
     "data": {
      "application/vnd.jupyter.widget-view+json": {
       "model_id": "",
       "version_major": 2,
       "version_minor": 0
      },
      "text/plain": [
       "HBox(children=(IntProgress(value=0, description='method', max=2, style=ProgressStyle(description_width='initia…"
      ]
     },
     "metadata": {},
     "output_type": "display_data"
    },
    {
     "data": {
      "application/vnd.jupyter.widget-view+json": {
       "model_id": "",
       "version_major": 2,
       "version_minor": 0
      },
      "text/plain": [
       "HBox(children=(IntProgress(value=0, description='method', max=2, style=ProgressStyle(description_width='initia…"
      ]
     },
     "metadata": {},
     "output_type": "display_data"
    },
    {
     "data": {
      "application/vnd.jupyter.widget-view+json": {
       "model_id": "",
       "version_major": 2,
       "version_minor": 0
      },
      "text/plain": [
       "HBox(children=(IntProgress(value=0, description='method', max=2, style=ProgressStyle(description_width='initia…"
      ]
     },
     "metadata": {},
     "output_type": "display_data"
    },
    {
     "data": {
      "application/vnd.jupyter.widget-view+json": {
       "model_id": "",
       "version_major": 2,
       "version_minor": 0
      },
      "text/plain": [
       "HBox(children=(IntProgress(value=0, description='binary', max=2, style=ProgressStyle(description_width='initia…"
      ]
     },
     "metadata": {},
     "output_type": "display_data"
    },
    {
     "data": {
      "application/vnd.jupyter.widget-view+json": {
       "model_id": "",
       "version_major": 2,
       "version_minor": 0
      },
      "text/plain": [
       "HBox(children=(IntProgress(value=0, description='metric', max=3, style=ProgressStyle(description_width='initia…"
      ]
     },
     "metadata": {},
     "output_type": "display_data"
    },
    {
     "data": {
      "application/vnd.jupyter.widget-view+json": {
       "model_id": "",
       "version_major": 2,
       "version_minor": 0
      },
      "text/plain": [
       "HBox(children=(IntProgress(value=0, description='method', max=2, style=ProgressStyle(description_width='initia…"
      ]
     },
     "metadata": {},
     "output_type": "display_data"
    },
    {
     "data": {
      "application/vnd.jupyter.widget-view+json": {
       "model_id": "",
       "version_major": 2,
       "version_minor": 0
      },
      "text/plain": [
       "HBox(children=(IntProgress(value=0, description='method', max=2, style=ProgressStyle(description_width='initia…"
      ]
     },
     "metadata": {},
     "output_type": "display_data"
    },
    {
     "data": {
      "application/vnd.jupyter.widget-view+json": {
       "model_id": "",
       "version_major": 2,
       "version_minor": 0
      },
      "text/plain": [
       "HBox(children=(IntProgress(value=0, description='method', max=2, style=ProgressStyle(description_width='initia…"
      ]
     },
     "metadata": {},
     "output_type": "display_data"
    },
    {
     "data": {
      "application/vnd.jupyter.widget-view+json": {
       "model_id": "",
       "version_major": 2,
       "version_minor": 0
      },
      "text/plain": [
       "HBox(children=(IntProgress(value=0, description='metric', max=3, style=ProgressStyle(description_width='initia…"
      ]
     },
     "metadata": {},
     "output_type": "display_data"
    },
    {
     "data": {
      "application/vnd.jupyter.widget-view+json": {
       "model_id": "",
       "version_major": 2,
       "version_minor": 0
      },
      "text/plain": [
       "HBox(children=(IntProgress(value=0, description='method', max=2, style=ProgressStyle(description_width='initia…"
      ]
     },
     "metadata": {},
     "output_type": "display_data"
    },
    {
     "data": {
      "application/vnd.jupyter.widget-view+json": {
       "model_id": "",
       "version_major": 2,
       "version_minor": 0
      },
      "text/plain": [
       "HBox(children=(IntProgress(value=0, description='method', max=2, style=ProgressStyle(description_width='initia…"
      ]
     },
     "metadata": {},
     "output_type": "display_data"
    },
    {
     "data": {
      "application/vnd.jupyter.widget-view+json": {
       "model_id": "",
       "version_major": 2,
       "version_minor": 0
      },
      "text/plain": [
       "HBox(children=(IntProgress(value=0, description='method', max=2, style=ProgressStyle(description_width='initia…"
      ]
     },
     "metadata": {},
     "output_type": "display_data"
    },
    {
     "data": {
      "application/vnd.jupyter.widget-view+json": {
       "model_id": "",
       "version_major": 2,
       "version_minor": 0
      },
      "text/plain": [
       "HBox(children=(IntProgress(value=0, description='binary', max=2, style=ProgressStyle(description_width='initia…"
      ]
     },
     "metadata": {},
     "output_type": "display_data"
    },
    {
     "data": {
      "application/vnd.jupyter.widget-view+json": {
       "model_id": "",
       "version_major": 2,
       "version_minor": 0
      },
      "text/plain": [
       "HBox(children=(IntProgress(value=0, description='metric', max=3, style=ProgressStyle(description_width='initia…"
      ]
     },
     "metadata": {},
     "output_type": "display_data"
    },
    {
     "data": {
      "application/vnd.jupyter.widget-view+json": {
       "model_id": "",
       "version_major": 2,
       "version_minor": 0
      },
      "text/plain": [
       "HBox(children=(IntProgress(value=0, description='method', max=2, style=ProgressStyle(description_width='initia…"
      ]
     },
     "metadata": {},
     "output_type": "display_data"
    },
    {
     "data": {
      "application/vnd.jupyter.widget-view+json": {
       "model_id": "",
       "version_major": 2,
       "version_minor": 0
      },
      "text/plain": [
       "HBox(children=(IntProgress(value=0, description='method', max=2, style=ProgressStyle(description_width='initia…"
      ]
     },
     "metadata": {},
     "output_type": "display_data"
    },
    {
     "data": {
      "application/vnd.jupyter.widget-view+json": {
       "model_id": "",
       "version_major": 2,
       "version_minor": 0
      },
      "text/plain": [
       "HBox(children=(IntProgress(value=0, description='method', max=2, style=ProgressStyle(description_width='initia…"
      ]
     },
     "metadata": {},
     "output_type": "display_data"
    },
    {
     "data": {
      "application/vnd.jupyter.widget-view+json": {
       "model_id": "",
       "version_major": 2,
       "version_minor": 0
      },
      "text/plain": [
       "HBox(children=(IntProgress(value=0, description='metric', max=3, style=ProgressStyle(description_width='initia…"
      ]
     },
     "metadata": {},
     "output_type": "display_data"
    },
    {
     "data": {
      "application/vnd.jupyter.widget-view+json": {
       "model_id": "",
       "version_major": 2,
       "version_minor": 0
      },
      "text/plain": [
       "HBox(children=(IntProgress(value=0, description='method', max=2, style=ProgressStyle(description_width='initia…"
      ]
     },
     "metadata": {},
     "output_type": "display_data"
    },
    {
     "data": {
      "application/vnd.jupyter.widget-view+json": {
       "model_id": "",
       "version_major": 2,
       "version_minor": 0
      },
      "text/plain": [
       "HBox(children=(IntProgress(value=0, description='method', max=2, style=ProgressStyle(description_width='initia…"
      ]
     },
     "metadata": {},
     "output_type": "display_data"
    },
    {
     "data": {
      "application/vnd.jupyter.widget-view+json": {
       "model_id": "",
       "version_major": 2,
       "version_minor": 0
      },
      "text/plain": [
       "HBox(children=(IntProgress(value=0, description='method', max=2, style=ProgressStyle(description_width='initia…"
      ]
     },
     "metadata": {},
     "output_type": "display_data"
    },
    {
     "data": {
      "application/vnd.jupyter.widget-view+json": {
       "model_id": "",
       "version_major": 2,
       "version_minor": 0
      },
      "text/plain": [
       "HBox(children=(IntProgress(value=0, description='binary', max=2, style=ProgressStyle(description_width='initia…"
      ]
     },
     "metadata": {},
     "output_type": "display_data"
    },
    {
     "data": {
      "application/vnd.jupyter.widget-view+json": {
       "model_id": "",
       "version_major": 2,
       "version_minor": 0
      },
      "text/plain": [
       "HBox(children=(IntProgress(value=0, description='metric', max=3, style=ProgressStyle(description_width='initia…"
      ]
     },
     "metadata": {},
     "output_type": "display_data"
    },
    {
     "data": {
      "application/vnd.jupyter.widget-view+json": {
       "model_id": "",
       "version_major": 2,
       "version_minor": 0
      },
      "text/plain": [
       "HBox(children=(IntProgress(value=0, description='method', max=2, style=ProgressStyle(description_width='initia…"
      ]
     },
     "metadata": {},
     "output_type": "display_data"
    },
    {
     "data": {
      "application/vnd.jupyter.widget-view+json": {
       "model_id": "",
       "version_major": 2,
       "version_minor": 0
      },
      "text/plain": [
       "HBox(children=(IntProgress(value=0, description='method', max=2, style=ProgressStyle(description_width='initia…"
      ]
     },
     "metadata": {},
     "output_type": "display_data"
    },
    {
     "data": {
      "application/vnd.jupyter.widget-view+json": {
       "model_id": "",
       "version_major": 2,
       "version_minor": 0
      },
      "text/plain": [
       "HBox(children=(IntProgress(value=0, description='method', max=2, style=ProgressStyle(description_width='initia…"
      ]
     },
     "metadata": {},
     "output_type": "display_data"
    },
    {
     "data": {
      "application/vnd.jupyter.widget-view+json": {
       "model_id": "",
       "version_major": 2,
       "version_minor": 0
      },
      "text/plain": [
       "HBox(children=(IntProgress(value=0, description='metric', max=3, style=ProgressStyle(description_width='initia…"
      ]
     },
     "metadata": {},
     "output_type": "display_data"
    },
    {
     "data": {
      "application/vnd.jupyter.widget-view+json": {
       "model_id": "",
       "version_major": 2,
       "version_minor": 0
      },
      "text/plain": [
       "HBox(children=(IntProgress(value=0, description='method', max=2, style=ProgressStyle(description_width='initia…"
      ]
     },
     "metadata": {},
     "output_type": "display_data"
    },
    {
     "data": {
      "application/vnd.jupyter.widget-view+json": {
       "model_id": "",
       "version_major": 2,
       "version_minor": 0
      },
      "text/plain": [
       "HBox(children=(IntProgress(value=0, description='method', max=2, style=ProgressStyle(description_width='initia…"
      ]
     },
     "metadata": {},
     "output_type": "display_data"
    },
    {
     "data": {
      "application/vnd.jupyter.widget-view+json": {
       "model_id": "",
       "version_major": 2,
       "version_minor": 0
      },
      "text/plain": [
       "HBox(children=(IntProgress(value=0, description='method', max=2, style=ProgressStyle(description_width='initia…"
      ]
     },
     "metadata": {},
     "output_type": "display_data"
    },
    {
     "data": {
      "application/vnd.jupyter.widget-view+json": {
       "model_id": "",
       "version_major": 2,
       "version_minor": 0
      },
      "text/plain": [
       "HBox(children=(IntProgress(value=0, description='min_df', max=9, style=ProgressStyle(description_width='initia…"
      ]
     },
     "metadata": {},
     "output_type": "display_data"
    },
    {
     "data": {
      "application/vnd.jupyter.widget-view+json": {
       "model_id": "",
       "version_major": 2,
       "version_minor": 0
      },
      "text/plain": [
       "HBox(children=(IntProgress(value=0, description='binary', max=2, style=ProgressStyle(description_width='initia…"
      ]
     },
     "metadata": {},
     "output_type": "display_data"
    },
    {
     "data": {
      "application/vnd.jupyter.widget-view+json": {
       "model_id": "",
       "version_major": 2,
       "version_minor": 0
      },
      "text/plain": [
       "HBox(children=(IntProgress(value=0, description='metric', max=3, style=ProgressStyle(description_width='initia…"
      ]
     },
     "metadata": {},
     "output_type": "display_data"
    },
    {
     "data": {
      "application/vnd.jupyter.widget-view+json": {
       "model_id": "",
       "version_major": 2,
       "version_minor": 0
      },
      "text/plain": [
       "HBox(children=(IntProgress(value=0, description='method', max=2, style=ProgressStyle(description_width='initia…"
      ]
     },
     "metadata": {},
     "output_type": "display_data"
    },
    {
     "data": {
      "application/vnd.jupyter.widget-view+json": {
       "model_id": "",
       "version_major": 2,
       "version_minor": 0
      },
      "text/plain": [
       "HBox(children=(IntProgress(value=0, description='method', max=2, style=ProgressStyle(description_width='initia…"
      ]
     },
     "metadata": {},
     "output_type": "display_data"
    },
    {
     "data": {
      "application/vnd.jupyter.widget-view+json": {
       "model_id": "",
       "version_major": 2,
       "version_minor": 0
      },
      "text/plain": [
       "HBox(children=(IntProgress(value=0, description='method', max=2, style=ProgressStyle(description_width='initia…"
      ]
     },
     "metadata": {},
     "output_type": "display_data"
    },
    {
     "data": {
      "application/vnd.jupyter.widget-view+json": {
       "model_id": "",
       "version_major": 2,
       "version_minor": 0
      },
      "text/plain": [
       "HBox(children=(IntProgress(value=0, description='metric', max=3, style=ProgressStyle(description_width='initia…"
      ]
     },
     "metadata": {},
     "output_type": "display_data"
    },
    {
     "data": {
      "application/vnd.jupyter.widget-view+json": {
       "model_id": "",
       "version_major": 2,
       "version_minor": 0
      },
      "text/plain": [
       "HBox(children=(IntProgress(value=0, description='method', max=2, style=ProgressStyle(description_width='initia…"
      ]
     },
     "metadata": {},
     "output_type": "display_data"
    },
    {
     "data": {
      "application/vnd.jupyter.widget-view+json": {
       "model_id": "",
       "version_major": 2,
       "version_minor": 0
      },
      "text/plain": [
       "HBox(children=(IntProgress(value=0, description='method', max=2, style=ProgressStyle(description_width='initia…"
      ]
     },
     "metadata": {},
     "output_type": "display_data"
    },
    {
     "data": {
      "application/vnd.jupyter.widget-view+json": {
       "model_id": "",
       "version_major": 2,
       "version_minor": 0
      },
      "text/plain": [
       "HBox(children=(IntProgress(value=0, description='method', max=2, style=ProgressStyle(description_width='initia…"
      ]
     },
     "metadata": {},
     "output_type": "display_data"
    },
    {
     "data": {
      "application/vnd.jupyter.widget-view+json": {
       "model_id": "",
       "version_major": 2,
       "version_minor": 0
      },
      "text/plain": [
       "HBox(children=(IntProgress(value=0, description='binary', max=2, style=ProgressStyle(description_width='initia…"
      ]
     },
     "metadata": {},
     "output_type": "display_data"
    },
    {
     "data": {
      "application/vnd.jupyter.widget-view+json": {
       "model_id": "",
       "version_major": 2,
       "version_minor": 0
      },
      "text/plain": [
       "HBox(children=(IntProgress(value=0, description='metric', max=3, style=ProgressStyle(description_width='initia…"
      ]
     },
     "metadata": {},
     "output_type": "display_data"
    },
    {
     "data": {
      "application/vnd.jupyter.widget-view+json": {
       "model_id": "",
       "version_major": 2,
       "version_minor": 0
      },
      "text/plain": [
       "HBox(children=(IntProgress(value=0, description='method', max=2, style=ProgressStyle(description_width='initia…"
      ]
     },
     "metadata": {},
     "output_type": "display_data"
    },
    {
     "data": {
      "application/vnd.jupyter.widget-view+json": {
       "model_id": "",
       "version_major": 2,
       "version_minor": 0
      },
      "text/plain": [
       "HBox(children=(IntProgress(value=0, description='method', max=2, style=ProgressStyle(description_width='initia…"
      ]
     },
     "metadata": {},
     "output_type": "display_data"
    },
    {
     "data": {
      "application/vnd.jupyter.widget-view+json": {
       "model_id": "",
       "version_major": 2,
       "version_minor": 0
      },
      "text/plain": [
       "HBox(children=(IntProgress(value=0, description='method', max=2, style=ProgressStyle(description_width='initia…"
      ]
     },
     "metadata": {},
     "output_type": "display_data"
    },
    {
     "data": {
      "application/vnd.jupyter.widget-view+json": {
       "model_id": "",
       "version_major": 2,
       "version_minor": 0
      },
      "text/plain": [
       "HBox(children=(IntProgress(value=0, description='metric', max=3, style=ProgressStyle(description_width='initia…"
      ]
     },
     "metadata": {},
     "output_type": "display_data"
    },
    {
     "data": {
      "application/vnd.jupyter.widget-view+json": {
       "model_id": "",
       "version_major": 2,
       "version_minor": 0
      },
      "text/plain": [
       "HBox(children=(IntProgress(value=0, description='method', max=2, style=ProgressStyle(description_width='initia…"
      ]
     },
     "metadata": {},
     "output_type": "display_data"
    },
    {
     "data": {
      "application/vnd.jupyter.widget-view+json": {
       "model_id": "",
       "version_major": 2,
       "version_minor": 0
      },
      "text/plain": [
       "HBox(children=(IntProgress(value=0, description='method', max=2, style=ProgressStyle(description_width='initia…"
      ]
     },
     "metadata": {},
     "output_type": "display_data"
    },
    {
     "data": {
      "application/vnd.jupyter.widget-view+json": {
       "model_id": "",
       "version_major": 2,
       "version_minor": 0
      },
      "text/plain": [
       "HBox(children=(IntProgress(value=0, description='method', max=2, style=ProgressStyle(description_width='initia…"
      ]
     },
     "metadata": {},
     "output_type": "display_data"
    },
    {
     "data": {
      "application/vnd.jupyter.widget-view+json": {
       "model_id": "",
       "version_major": 2,
       "version_minor": 0
      },
      "text/plain": [
       "HBox(children=(IntProgress(value=0, description='binary', max=2, style=ProgressStyle(description_width='initia…"
      ]
     },
     "metadata": {},
     "output_type": "display_data"
    },
    {
     "data": {
      "application/vnd.jupyter.widget-view+json": {
       "model_id": "",
       "version_major": 2,
       "version_minor": 0
      },
      "text/plain": [
       "HBox(children=(IntProgress(value=0, description='metric', max=3, style=ProgressStyle(description_width='initia…"
      ]
     },
     "metadata": {},
     "output_type": "display_data"
    },
    {
     "data": {
      "application/vnd.jupyter.widget-view+json": {
       "model_id": "",
       "version_major": 2,
       "version_minor": 0
      },
      "text/plain": [
       "HBox(children=(IntProgress(value=0, description='method', max=2, style=ProgressStyle(description_width='initia…"
      ]
     },
     "metadata": {},
     "output_type": "display_data"
    },
    {
     "data": {
      "application/vnd.jupyter.widget-view+json": {
       "model_id": "",
       "version_major": 2,
       "version_minor": 0
      },
      "text/plain": [
       "HBox(children=(IntProgress(value=0, description='method', max=2, style=ProgressStyle(description_width='initia…"
      ]
     },
     "metadata": {},
     "output_type": "display_data"
    },
    {
     "data": {
      "application/vnd.jupyter.widget-view+json": {
       "model_id": "",
       "version_major": 2,
       "version_minor": 0
      },
      "text/plain": [
       "HBox(children=(IntProgress(value=0, description='method', max=2, style=ProgressStyle(description_width='initia…"
      ]
     },
     "metadata": {},
     "output_type": "display_data"
    },
    {
     "data": {
      "application/vnd.jupyter.widget-view+json": {
       "model_id": "",
       "version_major": 2,
       "version_minor": 0
      },
      "text/plain": [
       "HBox(children=(IntProgress(value=0, description='metric', max=3, style=ProgressStyle(description_width='initia…"
      ]
     },
     "metadata": {},
     "output_type": "display_data"
    },
    {
     "data": {
      "application/vnd.jupyter.widget-view+json": {
       "model_id": "",
       "version_major": 2,
       "version_minor": 0
      },
      "text/plain": [
       "HBox(children=(IntProgress(value=0, description='method', max=2, style=ProgressStyle(description_width='initia…"
      ]
     },
     "metadata": {},
     "output_type": "display_data"
    },
    {
     "data": {
      "application/vnd.jupyter.widget-view+json": {
       "model_id": "",
       "version_major": 2,
       "version_minor": 0
      },
      "text/plain": [
       "HBox(children=(IntProgress(value=0, description='method', max=2, style=ProgressStyle(description_width='initia…"
      ]
     },
     "metadata": {},
     "output_type": "display_data"
    },
    {
     "data": {
      "application/vnd.jupyter.widget-view+json": {
       "model_id": "",
       "version_major": 2,
       "version_minor": 0
      },
      "text/plain": [
       "HBox(children=(IntProgress(value=0, description='method', max=2, style=ProgressStyle(description_width='initia…"
      ]
     },
     "metadata": {},
     "output_type": "display_data"
    },
    {
     "data": {
      "application/vnd.jupyter.widget-view+json": {
       "model_id": "",
       "version_major": 2,
       "version_minor": 0
      },
      "text/plain": [
       "HBox(children=(IntProgress(value=0, description='binary', max=2, style=ProgressStyle(description_width='initia…"
      ]
     },
     "metadata": {},
     "output_type": "display_data"
    },
    {
     "data": {
      "application/vnd.jupyter.widget-view+json": {
       "model_id": "",
       "version_major": 2,
       "version_minor": 0
      },
      "text/plain": [
       "HBox(children=(IntProgress(value=0, description='metric', max=3, style=ProgressStyle(description_width='initia…"
      ]
     },
     "metadata": {},
     "output_type": "display_data"
    },
    {
     "data": {
      "application/vnd.jupyter.widget-view+json": {
       "model_id": "",
       "version_major": 2,
       "version_minor": 0
      },
      "text/plain": [
       "HBox(children=(IntProgress(value=0, description='method', max=2, style=ProgressStyle(description_width='initia…"
      ]
     },
     "metadata": {},
     "output_type": "display_data"
    },
    {
     "data": {
      "application/vnd.jupyter.widget-view+json": {
       "model_id": "",
       "version_major": 2,
       "version_minor": 0
      },
      "text/plain": [
       "HBox(children=(IntProgress(value=0, description='method', max=2, style=ProgressStyle(description_width='initia…"
      ]
     },
     "metadata": {},
     "output_type": "display_data"
    },
    {
     "data": {
      "application/vnd.jupyter.widget-view+json": {
       "model_id": "",
       "version_major": 2,
       "version_minor": 0
      },
      "text/plain": [
       "HBox(children=(IntProgress(value=0, description='method', max=2, style=ProgressStyle(description_width='initia…"
      ]
     },
     "metadata": {},
     "output_type": "display_data"
    },
    {
     "data": {
      "application/vnd.jupyter.widget-view+json": {
       "model_id": "",
       "version_major": 2,
       "version_minor": 0
      },
      "text/plain": [
       "HBox(children=(IntProgress(value=0, description='metric', max=3, style=ProgressStyle(description_width='initia…"
      ]
     },
     "metadata": {},
     "output_type": "display_data"
    },
    {
     "data": {
      "application/vnd.jupyter.widget-view+json": {
       "model_id": "",
       "version_major": 2,
       "version_minor": 0
      },
      "text/plain": [
       "HBox(children=(IntProgress(value=0, description='method', max=2, style=ProgressStyle(description_width='initia…"
      ]
     },
     "metadata": {},
     "output_type": "display_data"
    },
    {
     "data": {
      "application/vnd.jupyter.widget-view+json": {
       "model_id": "",
       "version_major": 2,
       "version_minor": 0
      },
      "text/plain": [
       "HBox(children=(IntProgress(value=0, description='method', max=2, style=ProgressStyle(description_width='initia…"
      ]
     },
     "metadata": {},
     "output_type": "display_data"
    },
    {
     "data": {
      "application/vnd.jupyter.widget-view+json": {
       "model_id": "",
       "version_major": 2,
       "version_minor": 0
      },
      "text/plain": [
       "HBox(children=(IntProgress(value=0, description='method', max=2, style=ProgressStyle(description_width='initia…"
      ]
     },
     "metadata": {},
     "output_type": "display_data"
    },
    {
     "data": {
      "application/vnd.jupyter.widget-view+json": {
       "model_id": "",
       "version_major": 2,
       "version_minor": 0
      },
      "text/plain": [
       "HBox(children=(IntProgress(value=0, description='binary', max=2, style=ProgressStyle(description_width='initia…"
      ]
     },
     "metadata": {},
     "output_type": "display_data"
    },
    {
     "data": {
      "application/vnd.jupyter.widget-view+json": {
       "model_id": "",
       "version_major": 2,
       "version_minor": 0
      },
      "text/plain": [
       "HBox(children=(IntProgress(value=0, description='metric', max=3, style=ProgressStyle(description_width='initia…"
      ]
     },
     "metadata": {},
     "output_type": "display_data"
    },
    {
     "data": {
      "application/vnd.jupyter.widget-view+json": {
       "model_id": "",
       "version_major": 2,
       "version_minor": 0
      },
      "text/plain": [
       "HBox(children=(IntProgress(value=0, description='method', max=2, style=ProgressStyle(description_width='initia…"
      ]
     },
     "metadata": {},
     "output_type": "display_data"
    },
    {
     "data": {
      "application/vnd.jupyter.widget-view+json": {
       "model_id": "",
       "version_major": 2,
       "version_minor": 0
      },
      "text/plain": [
       "HBox(children=(IntProgress(value=0, description='method', max=2, style=ProgressStyle(description_width='initia…"
      ]
     },
     "metadata": {},
     "output_type": "display_data"
    },
    {
     "data": {
      "application/vnd.jupyter.widget-view+json": {
       "model_id": "",
       "version_major": 2,
       "version_minor": 0
      },
      "text/plain": [
       "HBox(children=(IntProgress(value=0, description='method', max=2, style=ProgressStyle(description_width='initia…"
      ]
     },
     "metadata": {},
     "output_type": "display_data"
    },
    {
     "data": {
      "application/vnd.jupyter.widget-view+json": {
       "model_id": "",
       "version_major": 2,
       "version_minor": 0
      },
      "text/plain": [
       "HBox(children=(IntProgress(value=0, description='metric', max=3, style=ProgressStyle(description_width='initia…"
      ]
     },
     "metadata": {},
     "output_type": "display_data"
    },
    {
     "data": {
      "application/vnd.jupyter.widget-view+json": {
       "model_id": "",
       "version_major": 2,
       "version_minor": 0
      },
      "text/plain": [
       "HBox(children=(IntProgress(value=0, description='method', max=2, style=ProgressStyle(description_width='initia…"
      ]
     },
     "metadata": {},
     "output_type": "display_data"
    },
    {
     "data": {
      "application/vnd.jupyter.widget-view+json": {
       "model_id": "",
       "version_major": 2,
       "version_minor": 0
      },
      "text/plain": [
       "HBox(children=(IntProgress(value=0, description='method', max=2, style=ProgressStyle(description_width='initia…"
      ]
     },
     "metadata": {},
     "output_type": "display_data"
    },
    {
     "data": {
      "application/vnd.jupyter.widget-view+json": {
       "model_id": "",
       "version_major": 2,
       "version_minor": 0
      },
      "text/plain": [
       "HBox(children=(IntProgress(value=0, description='method', max=2, style=ProgressStyle(description_width='initia…"
      ]
     },
     "metadata": {},
     "output_type": "display_data"
    },
    {
     "data": {
      "application/vnd.jupyter.widget-view+json": {
       "model_id": "",
       "version_major": 2,
       "version_minor": 0
      },
      "text/plain": [
       "HBox(children=(IntProgress(value=0, description='binary', max=2, style=ProgressStyle(description_width='initia…"
      ]
     },
     "metadata": {},
     "output_type": "display_data"
    },
    {
     "data": {
      "application/vnd.jupyter.widget-view+json": {
       "model_id": "",
       "version_major": 2,
       "version_minor": 0
      },
      "text/plain": [
       "HBox(children=(IntProgress(value=0, description='metric', max=3, style=ProgressStyle(description_width='initia…"
      ]
     },
     "metadata": {},
     "output_type": "display_data"
    },
    {
     "data": {
      "application/vnd.jupyter.widget-view+json": {
       "model_id": "",
       "version_major": 2,
       "version_minor": 0
      },
      "text/plain": [
       "HBox(children=(IntProgress(value=0, description='method', max=2, style=ProgressStyle(description_width='initia…"
      ]
     },
     "metadata": {},
     "output_type": "display_data"
    },
    {
     "data": {
      "application/vnd.jupyter.widget-view+json": {
       "model_id": "",
       "version_major": 2,
       "version_minor": 0
      },
      "text/plain": [
       "HBox(children=(IntProgress(value=0, description='method', max=2, style=ProgressStyle(description_width='initia…"
      ]
     },
     "metadata": {},
     "output_type": "display_data"
    },
    {
     "data": {
      "application/vnd.jupyter.widget-view+json": {
       "model_id": "",
       "version_major": 2,
       "version_minor": 0
      },
      "text/plain": [
       "HBox(children=(IntProgress(value=0, description='method', max=2, style=ProgressStyle(description_width='initia…"
      ]
     },
     "metadata": {},
     "output_type": "display_data"
    },
    {
     "data": {
      "application/vnd.jupyter.widget-view+json": {
       "model_id": "",
       "version_major": 2,
       "version_minor": 0
      },
      "text/plain": [
       "HBox(children=(IntProgress(value=0, description='metric', max=3, style=ProgressStyle(description_width='initia…"
      ]
     },
     "metadata": {},
     "output_type": "display_data"
    },
    {
     "data": {
      "application/vnd.jupyter.widget-view+json": {
       "model_id": "",
       "version_major": 2,
       "version_minor": 0
      },
      "text/plain": [
       "HBox(children=(IntProgress(value=0, description='method', max=2, style=ProgressStyle(description_width='initia…"
      ]
     },
     "metadata": {},
     "output_type": "display_data"
    },
    {
     "data": {
      "application/vnd.jupyter.widget-view+json": {
       "model_id": "",
       "version_major": 2,
       "version_minor": 0
      },
      "text/plain": [
       "HBox(children=(IntProgress(value=0, description='method', max=2, style=ProgressStyle(description_width='initia…"
      ]
     },
     "metadata": {},
     "output_type": "display_data"
    },
    {
     "data": {
      "application/vnd.jupyter.widget-view+json": {
       "model_id": "",
       "version_major": 2,
       "version_minor": 0
      },
      "text/plain": [
       "HBox(children=(IntProgress(value=0, description='method', max=2, style=ProgressStyle(description_width='initia…"
      ]
     },
     "metadata": {},
     "output_type": "display_data"
    },
    {
     "data": {
      "application/vnd.jupyter.widget-view+json": {
       "model_id": "",
       "version_major": 2,
       "version_minor": 0
      },
      "text/plain": [
       "HBox(children=(IntProgress(value=0, description='binary', max=2, style=ProgressStyle(description_width='initia…"
      ]
     },
     "metadata": {},
     "output_type": "display_data"
    },
    {
     "data": {
      "application/vnd.jupyter.widget-view+json": {
       "model_id": "",
       "version_major": 2,
       "version_minor": 0
      },
      "text/plain": [
       "HBox(children=(IntProgress(value=0, description='metric', max=3, style=ProgressStyle(description_width='initia…"
      ]
     },
     "metadata": {},
     "output_type": "display_data"
    },
    {
     "data": {
      "application/vnd.jupyter.widget-view+json": {
       "model_id": "",
       "version_major": 2,
       "version_minor": 0
      },
      "text/plain": [
       "HBox(children=(IntProgress(value=0, description='method', max=2, style=ProgressStyle(description_width='initia…"
      ]
     },
     "metadata": {},
     "output_type": "display_data"
    },
    {
     "data": {
      "application/vnd.jupyter.widget-view+json": {
       "model_id": "",
       "version_major": 2,
       "version_minor": 0
      },
      "text/plain": [
       "HBox(children=(IntProgress(value=0, description='method', max=2, style=ProgressStyle(description_width='initia…"
      ]
     },
     "metadata": {},
     "output_type": "display_data"
    },
    {
     "data": {
      "application/vnd.jupyter.widget-view+json": {
       "model_id": "",
       "version_major": 2,
       "version_minor": 0
      },
      "text/plain": [
       "HBox(children=(IntProgress(value=0, description='method', max=2, style=ProgressStyle(description_width='initia…"
      ]
     },
     "metadata": {},
     "output_type": "display_data"
    },
    {
     "data": {
      "application/vnd.jupyter.widget-view+json": {
       "model_id": "",
       "version_major": 2,
       "version_minor": 0
      },
      "text/plain": [
       "HBox(children=(IntProgress(value=0, description='metric', max=3, style=ProgressStyle(description_width='initia…"
      ]
     },
     "metadata": {},
     "output_type": "display_data"
    },
    {
     "data": {
      "application/vnd.jupyter.widget-view+json": {
       "model_id": "",
       "version_major": 2,
       "version_minor": 0
      },
      "text/plain": [
       "HBox(children=(IntProgress(value=0, description='method', max=2, style=ProgressStyle(description_width='initia…"
      ]
     },
     "metadata": {},
     "output_type": "display_data"
    },
    {
     "data": {
      "application/vnd.jupyter.widget-view+json": {
       "model_id": "",
       "version_major": 2,
       "version_minor": 0
      },
      "text/plain": [
       "HBox(children=(IntProgress(value=0, description='method', max=2, style=ProgressStyle(description_width='initia…"
      ]
     },
     "metadata": {},
     "output_type": "display_data"
    },
    {
     "data": {
      "application/vnd.jupyter.widget-view+json": {
       "model_id": "",
       "version_major": 2,
       "version_minor": 0
      },
      "text/plain": [
       "HBox(children=(IntProgress(value=0, description='method', max=2, style=ProgressStyle(description_width='initia…"
      ]
     },
     "metadata": {},
     "output_type": "display_data"
    },
    {
     "data": {
      "application/vnd.jupyter.widget-view+json": {
       "model_id": "",
       "version_major": 2,
       "version_minor": 0
      },
      "text/plain": [
       "HBox(children=(IntProgress(value=0, description='binary', max=2, style=ProgressStyle(description_width='initia…"
      ]
     },
     "metadata": {},
     "output_type": "display_data"
    },
    {
     "data": {
      "application/vnd.jupyter.widget-view+json": {
       "model_id": "",
       "version_major": 2,
       "version_minor": 0
      },
      "text/plain": [
       "HBox(children=(IntProgress(value=0, description='metric', max=3, style=ProgressStyle(description_width='initia…"
      ]
     },
     "metadata": {},
     "output_type": "display_data"
    },
    {
     "data": {
      "application/vnd.jupyter.widget-view+json": {
       "model_id": "",
       "version_major": 2,
       "version_minor": 0
      },
      "text/plain": [
       "HBox(children=(IntProgress(value=0, description='method', max=2, style=ProgressStyle(description_width='initia…"
      ]
     },
     "metadata": {},
     "output_type": "display_data"
    },
    {
     "data": {
      "application/vnd.jupyter.widget-view+json": {
       "model_id": "",
       "version_major": 2,
       "version_minor": 0
      },
      "text/plain": [
       "HBox(children=(IntProgress(value=0, description='method', max=2, style=ProgressStyle(description_width='initia…"
      ]
     },
     "metadata": {},
     "output_type": "display_data"
    },
    {
     "data": {
      "application/vnd.jupyter.widget-view+json": {
       "model_id": "",
       "version_major": 2,
       "version_minor": 0
      },
      "text/plain": [
       "HBox(children=(IntProgress(value=0, description='method', max=2, style=ProgressStyle(description_width='initia…"
      ]
     },
     "metadata": {},
     "output_type": "display_data"
    },
    {
     "data": {
      "application/vnd.jupyter.widget-view+json": {
       "model_id": "",
       "version_major": 2,
       "version_minor": 0
      },
      "text/plain": [
       "HBox(children=(IntProgress(value=0, description='metric', max=3, style=ProgressStyle(description_width='initia…"
      ]
     },
     "metadata": {},
     "output_type": "display_data"
    },
    {
     "data": {
      "application/vnd.jupyter.widget-view+json": {
       "model_id": "",
       "version_major": 2,
       "version_minor": 0
      },
      "text/plain": [
       "HBox(children=(IntProgress(value=0, description='method', max=2, style=ProgressStyle(description_width='initia…"
      ]
     },
     "metadata": {},
     "output_type": "display_data"
    },
    {
     "data": {
      "application/vnd.jupyter.widget-view+json": {
       "model_id": "",
       "version_major": 2,
       "version_minor": 0
      },
      "text/plain": [
       "HBox(children=(IntProgress(value=0, description='method', max=2, style=ProgressStyle(description_width='initia…"
      ]
     },
     "metadata": {},
     "output_type": "display_data"
    },
    {
     "data": {
      "application/vnd.jupyter.widget-view+json": {
       "model_id": "",
       "version_major": 2,
       "version_minor": 0
      },
      "text/plain": [
       "HBox(children=(IntProgress(value=0, description='method', max=2, style=ProgressStyle(description_width='initia…"
      ]
     },
     "metadata": {},
     "output_type": "display_data"
    },
    {
     "data": {
      "application/vnd.jupyter.widget-view+json": {
       "model_id": "",
       "version_major": 2,
       "version_minor": 0
      },
      "text/plain": [
       "HBox(children=(IntProgress(value=0, description='binary', max=2, style=ProgressStyle(description_width='initia…"
      ]
     },
     "metadata": {},
     "output_type": "display_data"
    },
    {
     "data": {
      "application/vnd.jupyter.widget-view+json": {
       "model_id": "",
       "version_major": 2,
       "version_minor": 0
      },
      "text/plain": [
       "HBox(children=(IntProgress(value=0, description='metric', max=3, style=ProgressStyle(description_width='initia…"
      ]
     },
     "metadata": {},
     "output_type": "display_data"
    },
    {
     "data": {
      "application/vnd.jupyter.widget-view+json": {
       "model_id": "",
       "version_major": 2,
       "version_minor": 0
      },
      "text/plain": [
       "HBox(children=(IntProgress(value=0, description='method', max=2, style=ProgressStyle(description_width='initia…"
      ]
     },
     "metadata": {},
     "output_type": "display_data"
    },
    {
     "data": {
      "application/vnd.jupyter.widget-view+json": {
       "model_id": "",
       "version_major": 2,
       "version_minor": 0
      },
      "text/plain": [
       "HBox(children=(IntProgress(value=0, description='method', max=2, style=ProgressStyle(description_width='initia…"
      ]
     },
     "metadata": {},
     "output_type": "display_data"
    },
    {
     "data": {
      "application/vnd.jupyter.widget-view+json": {
       "model_id": "",
       "version_major": 2,
       "version_minor": 0
      },
      "text/plain": [
       "HBox(children=(IntProgress(value=0, description='method', max=2, style=ProgressStyle(description_width='initia…"
      ]
     },
     "metadata": {},
     "output_type": "display_data"
    },
    {
     "data": {
      "application/vnd.jupyter.widget-view+json": {
       "model_id": "",
       "version_major": 2,
       "version_minor": 0
      },
      "text/plain": [
       "HBox(children=(IntProgress(value=0, description='metric', max=3, style=ProgressStyle(description_width='initia…"
      ]
     },
     "metadata": {},
     "output_type": "display_data"
    },
    {
     "data": {
      "application/vnd.jupyter.widget-view+json": {
       "model_id": "",
       "version_major": 2,
       "version_minor": 0
      },
      "text/plain": [
       "HBox(children=(IntProgress(value=0, description='method', max=2, style=ProgressStyle(description_width='initia…"
      ]
     },
     "metadata": {},
     "output_type": "display_data"
    },
    {
     "data": {
      "application/vnd.jupyter.widget-view+json": {
       "model_id": "",
       "version_major": 2,
       "version_minor": 0
      },
      "text/plain": [
       "HBox(children=(IntProgress(value=0, description='method', max=2, style=ProgressStyle(description_width='initia…"
      ]
     },
     "metadata": {},
     "output_type": "display_data"
    },
    {
     "data": {
      "application/vnd.jupyter.widget-view+json": {
       "model_id": "",
       "version_major": 2,
       "version_minor": 0
      },
      "text/plain": [
       "HBox(children=(IntProgress(value=0, description='method', max=2, style=ProgressStyle(description_width='initia…"
      ]
     },
     "metadata": {},
     "output_type": "display_data"
    },
    {
     "data": {
      "application/vnd.jupyter.widget-view+json": {
       "model_id": "",
       "version_major": 2,
       "version_minor": 0
      },
      "text/plain": [
       "HBox(children=(IntProgress(value=0, description='min_df', max=9, style=ProgressStyle(description_width='initia…"
      ]
     },
     "metadata": {},
     "output_type": "display_data"
    },
    {
     "data": {
      "application/vnd.jupyter.widget-view+json": {
       "model_id": "",
       "version_major": 2,
       "version_minor": 0
      },
      "text/plain": [
       "HBox(children=(IntProgress(value=0, description='binary', max=2, style=ProgressStyle(description_width='initia…"
      ]
     },
     "metadata": {},
     "output_type": "display_data"
    },
    {
     "data": {
      "application/vnd.jupyter.widget-view+json": {
       "model_id": "",
       "version_major": 2,
       "version_minor": 0
      },
      "text/plain": [
       "HBox(children=(IntProgress(value=0, description='metric', max=3, style=ProgressStyle(description_width='initia…"
      ]
     },
     "metadata": {},
     "output_type": "display_data"
    },
    {
     "data": {
      "application/vnd.jupyter.widget-view+json": {
       "model_id": "",
       "version_major": 2,
       "version_minor": 0
      },
      "text/plain": [
       "HBox(children=(IntProgress(value=0, description='method', max=2, style=ProgressStyle(description_width='initia…"
      ]
     },
     "metadata": {},
     "output_type": "display_data"
    },
    {
     "data": {
      "application/vnd.jupyter.widget-view+json": {
       "model_id": "",
       "version_major": 2,
       "version_minor": 0
      },
      "text/plain": [
       "HBox(children=(IntProgress(value=0, description='method', max=2, style=ProgressStyle(description_width='initia…"
      ]
     },
     "metadata": {},
     "output_type": "display_data"
    },
    {
     "data": {
      "application/vnd.jupyter.widget-view+json": {
       "model_id": "",
       "version_major": 2,
       "version_minor": 0
      },
      "text/plain": [
       "HBox(children=(IntProgress(value=0, description='method', max=2, style=ProgressStyle(description_width='initia…"
      ]
     },
     "metadata": {},
     "output_type": "display_data"
    },
    {
     "data": {
      "application/vnd.jupyter.widget-view+json": {
       "model_id": "",
       "version_major": 2,
       "version_minor": 0
      },
      "text/plain": [
       "HBox(children=(IntProgress(value=0, description='metric', max=3, style=ProgressStyle(description_width='initia…"
      ]
     },
     "metadata": {},
     "output_type": "display_data"
    },
    {
     "data": {
      "application/vnd.jupyter.widget-view+json": {
       "model_id": "",
       "version_major": 2,
       "version_minor": 0
      },
      "text/plain": [
       "HBox(children=(IntProgress(value=0, description='method', max=2, style=ProgressStyle(description_width='initia…"
      ]
     },
     "metadata": {},
     "output_type": "display_data"
    },
    {
     "data": {
      "application/vnd.jupyter.widget-view+json": {
       "model_id": "",
       "version_major": 2,
       "version_minor": 0
      },
      "text/plain": [
       "HBox(children=(IntProgress(value=0, description='method', max=2, style=ProgressStyle(description_width='initia…"
      ]
     },
     "metadata": {},
     "output_type": "display_data"
    },
    {
     "data": {
      "application/vnd.jupyter.widget-view+json": {
       "model_id": "",
       "version_major": 2,
       "version_minor": 0
      },
      "text/plain": [
       "HBox(children=(IntProgress(value=0, description='method', max=2, style=ProgressStyle(description_width='initia…"
      ]
     },
     "metadata": {},
     "output_type": "display_data"
    },
    {
     "data": {
      "application/vnd.jupyter.widget-view+json": {
       "model_id": "",
       "version_major": 2,
       "version_minor": 0
      },
      "text/plain": [
       "HBox(children=(IntProgress(value=0, description='binary', max=2, style=ProgressStyle(description_width='initia…"
      ]
     },
     "metadata": {},
     "output_type": "display_data"
    },
    {
     "data": {
      "application/vnd.jupyter.widget-view+json": {
       "model_id": "",
       "version_major": 2,
       "version_minor": 0
      },
      "text/plain": [
       "HBox(children=(IntProgress(value=0, description='metric', max=3, style=ProgressStyle(description_width='initia…"
      ]
     },
     "metadata": {},
     "output_type": "display_data"
    },
    {
     "data": {
      "application/vnd.jupyter.widget-view+json": {
       "model_id": "",
       "version_major": 2,
       "version_minor": 0
      },
      "text/plain": [
       "HBox(children=(IntProgress(value=0, description='method', max=2, style=ProgressStyle(description_width='initia…"
      ]
     },
     "metadata": {},
     "output_type": "display_data"
    },
    {
     "data": {
      "application/vnd.jupyter.widget-view+json": {
       "model_id": "",
       "version_major": 2,
       "version_minor": 0
      },
      "text/plain": [
       "HBox(children=(IntProgress(value=0, description='method', max=2, style=ProgressStyle(description_width='initia…"
      ]
     },
     "metadata": {},
     "output_type": "display_data"
    },
    {
     "data": {
      "application/vnd.jupyter.widget-view+json": {
       "model_id": "",
       "version_major": 2,
       "version_minor": 0
      },
      "text/plain": [
       "HBox(children=(IntProgress(value=0, description='method', max=2, style=ProgressStyle(description_width='initia…"
      ]
     },
     "metadata": {},
     "output_type": "display_data"
    },
    {
     "data": {
      "application/vnd.jupyter.widget-view+json": {
       "model_id": "",
       "version_major": 2,
       "version_minor": 0
      },
      "text/plain": [
       "HBox(children=(IntProgress(value=0, description='metric', max=3, style=ProgressStyle(description_width='initia…"
      ]
     },
     "metadata": {},
     "output_type": "display_data"
    },
    {
     "data": {
      "application/vnd.jupyter.widget-view+json": {
       "model_id": "",
       "version_major": 2,
       "version_minor": 0
      },
      "text/plain": [
       "HBox(children=(IntProgress(value=0, description='method', max=2, style=ProgressStyle(description_width='initia…"
      ]
     },
     "metadata": {},
     "output_type": "display_data"
    },
    {
     "data": {
      "application/vnd.jupyter.widget-view+json": {
       "model_id": "",
       "version_major": 2,
       "version_minor": 0
      },
      "text/plain": [
       "HBox(children=(IntProgress(value=0, description='method', max=2, style=ProgressStyle(description_width='initia…"
      ]
     },
     "metadata": {},
     "output_type": "display_data"
    },
    {
     "data": {
      "application/vnd.jupyter.widget-view+json": {
       "model_id": "",
       "version_major": 2,
       "version_minor": 0
      },
      "text/plain": [
       "HBox(children=(IntProgress(value=0, description='method', max=2, style=ProgressStyle(description_width='initia…"
      ]
     },
     "metadata": {},
     "output_type": "display_data"
    },
    {
     "data": {
      "application/vnd.jupyter.widget-view+json": {
       "model_id": "",
       "version_major": 2,
       "version_minor": 0
      },
      "text/plain": [
       "HBox(children=(IntProgress(value=0, description='binary', max=2, style=ProgressStyle(description_width='initia…"
      ]
     },
     "metadata": {},
     "output_type": "display_data"
    },
    {
     "data": {
      "application/vnd.jupyter.widget-view+json": {
       "model_id": "",
       "version_major": 2,
       "version_minor": 0
      },
      "text/plain": [
       "HBox(children=(IntProgress(value=0, description='metric', max=3, style=ProgressStyle(description_width='initia…"
      ]
     },
     "metadata": {},
     "output_type": "display_data"
    },
    {
     "data": {
      "application/vnd.jupyter.widget-view+json": {
       "model_id": "",
       "version_major": 2,
       "version_minor": 0
      },
      "text/plain": [
       "HBox(children=(IntProgress(value=0, description='method', max=2, style=ProgressStyle(description_width='initia…"
      ]
     },
     "metadata": {},
     "output_type": "display_data"
    },
    {
     "data": {
      "application/vnd.jupyter.widget-view+json": {
       "model_id": "",
       "version_major": 2,
       "version_minor": 0
      },
      "text/plain": [
       "HBox(children=(IntProgress(value=0, description='method', max=2, style=ProgressStyle(description_width='initia…"
      ]
     },
     "metadata": {},
     "output_type": "display_data"
    },
    {
     "data": {
      "application/vnd.jupyter.widget-view+json": {
       "model_id": "",
       "version_major": 2,
       "version_minor": 0
      },
      "text/plain": [
       "HBox(children=(IntProgress(value=0, description='method', max=2, style=ProgressStyle(description_width='initia…"
      ]
     },
     "metadata": {},
     "output_type": "display_data"
    },
    {
     "data": {
      "application/vnd.jupyter.widget-view+json": {
       "model_id": "",
       "version_major": 2,
       "version_minor": 0
      },
      "text/plain": [
       "HBox(children=(IntProgress(value=0, description='metric', max=3, style=ProgressStyle(description_width='initia…"
      ]
     },
     "metadata": {},
     "output_type": "display_data"
    },
    {
     "data": {
      "application/vnd.jupyter.widget-view+json": {
       "model_id": "",
       "version_major": 2,
       "version_minor": 0
      },
      "text/plain": [
       "HBox(children=(IntProgress(value=0, description='method', max=2, style=ProgressStyle(description_width='initia…"
      ]
     },
     "metadata": {},
     "output_type": "display_data"
    },
    {
     "data": {
      "application/vnd.jupyter.widget-view+json": {
       "model_id": "",
       "version_major": 2,
       "version_minor": 0
      },
      "text/plain": [
       "HBox(children=(IntProgress(value=0, description='method', max=2, style=ProgressStyle(description_width='initia…"
      ]
     },
     "metadata": {},
     "output_type": "display_data"
    },
    {
     "data": {
      "application/vnd.jupyter.widget-view+json": {
       "model_id": "",
       "version_major": 2,
       "version_minor": 0
      },
      "text/plain": [
       "HBox(children=(IntProgress(value=0, description='method', max=2, style=ProgressStyle(description_width='initia…"
      ]
     },
     "metadata": {},
     "output_type": "display_data"
    },
    {
     "data": {
      "application/vnd.jupyter.widget-view+json": {
       "model_id": "",
       "version_major": 2,
       "version_minor": 0
      },
      "text/plain": [
       "HBox(children=(IntProgress(value=0, description='binary', max=2, style=ProgressStyle(description_width='initia…"
      ]
     },
     "metadata": {},
     "output_type": "display_data"
    },
    {
     "data": {
      "application/vnd.jupyter.widget-view+json": {
       "model_id": "",
       "version_major": 2,
       "version_minor": 0
      },
      "text/plain": [
       "HBox(children=(IntProgress(value=0, description='metric', max=3, style=ProgressStyle(description_width='initia…"
      ]
     },
     "metadata": {},
     "output_type": "display_data"
    },
    {
     "data": {
      "application/vnd.jupyter.widget-view+json": {
       "model_id": "",
       "version_major": 2,
       "version_minor": 0
      },
      "text/plain": [
       "HBox(children=(IntProgress(value=0, description='method', max=2, style=ProgressStyle(description_width='initia…"
      ]
     },
     "metadata": {},
     "output_type": "display_data"
    },
    {
     "data": {
      "application/vnd.jupyter.widget-view+json": {
       "model_id": "",
       "version_major": 2,
       "version_minor": 0
      },
      "text/plain": [
       "HBox(children=(IntProgress(value=0, description='method', max=2, style=ProgressStyle(description_width='initia…"
      ]
     },
     "metadata": {},
     "output_type": "display_data"
    },
    {
     "data": {
      "application/vnd.jupyter.widget-view+json": {
       "model_id": "",
       "version_major": 2,
       "version_minor": 0
      },
      "text/plain": [
       "HBox(children=(IntProgress(value=0, description='method', max=2, style=ProgressStyle(description_width='initia…"
      ]
     },
     "metadata": {},
     "output_type": "display_data"
    },
    {
     "data": {
      "application/vnd.jupyter.widget-view+json": {
       "model_id": "",
       "version_major": 2,
       "version_minor": 0
      },
      "text/plain": [
       "HBox(children=(IntProgress(value=0, description='metric', max=3, style=ProgressStyle(description_width='initia…"
      ]
     },
     "metadata": {},
     "output_type": "display_data"
    },
    {
     "data": {
      "application/vnd.jupyter.widget-view+json": {
       "model_id": "",
       "version_major": 2,
       "version_minor": 0
      },
      "text/plain": [
       "HBox(children=(IntProgress(value=0, description='method', max=2, style=ProgressStyle(description_width='initia…"
      ]
     },
     "metadata": {},
     "output_type": "display_data"
    },
    {
     "data": {
      "application/vnd.jupyter.widget-view+json": {
       "model_id": "",
       "version_major": 2,
       "version_minor": 0
      },
      "text/plain": [
       "HBox(children=(IntProgress(value=0, description='method', max=2, style=ProgressStyle(description_width='initia…"
      ]
     },
     "metadata": {},
     "output_type": "display_data"
    },
    {
     "data": {
      "application/vnd.jupyter.widget-view+json": {
       "model_id": "",
       "version_major": 2,
       "version_minor": 0
      },
      "text/plain": [
       "HBox(children=(IntProgress(value=0, description='method', max=2, style=ProgressStyle(description_width='initia…"
      ]
     },
     "metadata": {},
     "output_type": "display_data"
    },
    {
     "data": {
      "application/vnd.jupyter.widget-view+json": {
       "model_id": "",
       "version_major": 2,
       "version_minor": 0
      },
      "text/plain": [
       "HBox(children=(IntProgress(value=0, description='binary', max=2, style=ProgressStyle(description_width='initia…"
      ]
     },
     "metadata": {},
     "output_type": "display_data"
    },
    {
     "data": {
      "application/vnd.jupyter.widget-view+json": {
       "model_id": "",
       "version_major": 2,
       "version_minor": 0
      },
      "text/plain": [
       "HBox(children=(IntProgress(value=0, description='metric', max=3, style=ProgressStyle(description_width='initia…"
      ]
     },
     "metadata": {},
     "output_type": "display_data"
    },
    {
     "data": {
      "application/vnd.jupyter.widget-view+json": {
       "model_id": "",
       "version_major": 2,
       "version_minor": 0
      },
      "text/plain": [
       "HBox(children=(IntProgress(value=0, description='method', max=2, style=ProgressStyle(description_width='initia…"
      ]
     },
     "metadata": {},
     "output_type": "display_data"
    },
    {
     "data": {
      "application/vnd.jupyter.widget-view+json": {
       "model_id": "",
       "version_major": 2,
       "version_minor": 0
      },
      "text/plain": [
       "HBox(children=(IntProgress(value=0, description='method', max=2, style=ProgressStyle(description_width='initia…"
      ]
     },
     "metadata": {},
     "output_type": "display_data"
    },
    {
     "data": {
      "application/vnd.jupyter.widget-view+json": {
       "model_id": "",
       "version_major": 2,
       "version_minor": 0
      },
      "text/plain": [
       "HBox(children=(IntProgress(value=0, description='method', max=2, style=ProgressStyle(description_width='initia…"
      ]
     },
     "metadata": {},
     "output_type": "display_data"
    },
    {
     "data": {
      "application/vnd.jupyter.widget-view+json": {
       "model_id": "",
       "version_major": 2,
       "version_minor": 0
      },
      "text/plain": [
       "HBox(children=(IntProgress(value=0, description='metric', max=3, style=ProgressStyle(description_width='initia…"
      ]
     },
     "metadata": {},
     "output_type": "display_data"
    },
    {
     "data": {
      "application/vnd.jupyter.widget-view+json": {
       "model_id": "",
       "version_major": 2,
       "version_minor": 0
      },
      "text/plain": [
       "HBox(children=(IntProgress(value=0, description='method', max=2, style=ProgressStyle(description_width='initia…"
      ]
     },
     "metadata": {},
     "output_type": "display_data"
    },
    {
     "data": {
      "application/vnd.jupyter.widget-view+json": {
       "model_id": "",
       "version_major": 2,
       "version_minor": 0
      },
      "text/plain": [
       "HBox(children=(IntProgress(value=0, description='method', max=2, style=ProgressStyle(description_width='initia…"
      ]
     },
     "metadata": {},
     "output_type": "display_data"
    },
    {
     "data": {
      "application/vnd.jupyter.widget-view+json": {
       "model_id": "",
       "version_major": 2,
       "version_minor": 0
      },
      "text/plain": [
       "HBox(children=(IntProgress(value=0, description='method', max=2, style=ProgressStyle(description_width='initia…"
      ]
     },
     "metadata": {},
     "output_type": "display_data"
    },
    {
     "data": {
      "application/vnd.jupyter.widget-view+json": {
       "model_id": "",
       "version_major": 2,
       "version_minor": 0
      },
      "text/plain": [
       "HBox(children=(IntProgress(value=0, description='binary', max=2, style=ProgressStyle(description_width='initia…"
      ]
     },
     "metadata": {},
     "output_type": "display_data"
    },
    {
     "data": {
      "application/vnd.jupyter.widget-view+json": {
       "model_id": "",
       "version_major": 2,
       "version_minor": 0
      },
      "text/plain": [
       "HBox(children=(IntProgress(value=0, description='metric', max=3, style=ProgressStyle(description_width='initia…"
      ]
     },
     "metadata": {},
     "output_type": "display_data"
    },
    {
     "data": {
      "application/vnd.jupyter.widget-view+json": {
       "model_id": "",
       "version_major": 2,
       "version_minor": 0
      },
      "text/plain": [
       "HBox(children=(IntProgress(value=0, description='method', max=2, style=ProgressStyle(description_width='initia…"
      ]
     },
     "metadata": {},
     "output_type": "display_data"
    },
    {
     "data": {
      "application/vnd.jupyter.widget-view+json": {
       "model_id": "",
       "version_major": 2,
       "version_minor": 0
      },
      "text/plain": [
       "HBox(children=(IntProgress(value=0, description='method', max=2, style=ProgressStyle(description_width='initia…"
      ]
     },
     "metadata": {},
     "output_type": "display_data"
    },
    {
     "data": {
      "application/vnd.jupyter.widget-view+json": {
       "model_id": "",
       "version_major": 2,
       "version_minor": 0
      },
      "text/plain": [
       "HBox(children=(IntProgress(value=0, description='method', max=2, style=ProgressStyle(description_width='initia…"
      ]
     },
     "metadata": {},
     "output_type": "display_data"
    },
    {
     "data": {
      "application/vnd.jupyter.widget-view+json": {
       "model_id": "",
       "version_major": 2,
       "version_minor": 0
      },
      "text/plain": [
       "HBox(children=(IntProgress(value=0, description='metric', max=3, style=ProgressStyle(description_width='initia…"
      ]
     },
     "metadata": {},
     "output_type": "display_data"
    },
    {
     "data": {
      "application/vnd.jupyter.widget-view+json": {
       "model_id": "",
       "version_major": 2,
       "version_minor": 0
      },
      "text/plain": [
       "HBox(children=(IntProgress(value=0, description='method', max=2, style=ProgressStyle(description_width='initia…"
      ]
     },
     "metadata": {},
     "output_type": "display_data"
    },
    {
     "data": {
      "application/vnd.jupyter.widget-view+json": {
       "model_id": "",
       "version_major": 2,
       "version_minor": 0
      },
      "text/plain": [
       "HBox(children=(IntProgress(value=0, description='method', max=2, style=ProgressStyle(description_width='initia…"
      ]
     },
     "metadata": {},
     "output_type": "display_data"
    },
    {
     "data": {
      "application/vnd.jupyter.widget-view+json": {
       "model_id": "",
       "version_major": 2,
       "version_minor": 0
      },
      "text/plain": [
       "HBox(children=(IntProgress(value=0, description='method', max=2, style=ProgressStyle(description_width='initia…"
      ]
     },
     "metadata": {},
     "output_type": "display_data"
    },
    {
     "data": {
      "application/vnd.jupyter.widget-view+json": {
       "model_id": "",
       "version_major": 2,
       "version_minor": 0
      },
      "text/plain": [
       "HBox(children=(IntProgress(value=0, description='binary', max=2, style=ProgressStyle(description_width='initia…"
      ]
     },
     "metadata": {},
     "output_type": "display_data"
    },
    {
     "data": {
      "application/vnd.jupyter.widget-view+json": {
       "model_id": "",
       "version_major": 2,
       "version_minor": 0
      },
      "text/plain": [
       "HBox(children=(IntProgress(value=0, description='metric', max=3, style=ProgressStyle(description_width='initia…"
      ]
     },
     "metadata": {},
     "output_type": "display_data"
    },
    {
     "data": {
      "application/vnd.jupyter.widget-view+json": {
       "model_id": "",
       "version_major": 2,
       "version_minor": 0
      },
      "text/plain": [
       "HBox(children=(IntProgress(value=0, description='method', max=2, style=ProgressStyle(description_width='initia…"
      ]
     },
     "metadata": {},
     "output_type": "display_data"
    },
    {
     "data": {
      "application/vnd.jupyter.widget-view+json": {
       "model_id": "",
       "version_major": 2,
       "version_minor": 0
      },
      "text/plain": [
       "HBox(children=(IntProgress(value=0, description='method', max=2, style=ProgressStyle(description_width='initia…"
      ]
     },
     "metadata": {},
     "output_type": "display_data"
    },
    {
     "data": {
      "application/vnd.jupyter.widget-view+json": {
       "model_id": "",
       "version_major": 2,
       "version_minor": 0
      },
      "text/plain": [
       "HBox(children=(IntProgress(value=0, description='method', max=2, style=ProgressStyle(description_width='initia…"
      ]
     },
     "metadata": {},
     "output_type": "display_data"
    },
    {
     "data": {
      "application/vnd.jupyter.widget-view+json": {
       "model_id": "",
       "version_major": 2,
       "version_minor": 0
      },
      "text/plain": [
       "HBox(children=(IntProgress(value=0, description='metric', max=3, style=ProgressStyle(description_width='initia…"
      ]
     },
     "metadata": {},
     "output_type": "display_data"
    },
    {
     "data": {
      "application/vnd.jupyter.widget-view+json": {
       "model_id": "",
       "version_major": 2,
       "version_minor": 0
      },
      "text/plain": [
       "HBox(children=(IntProgress(value=0, description='method', max=2, style=ProgressStyle(description_width='initia…"
      ]
     },
     "metadata": {},
     "output_type": "display_data"
    },
    {
     "data": {
      "application/vnd.jupyter.widget-view+json": {
       "model_id": "",
       "version_major": 2,
       "version_minor": 0
      },
      "text/plain": [
       "HBox(children=(IntProgress(value=0, description='method', max=2, style=ProgressStyle(description_width='initia…"
      ]
     },
     "metadata": {},
     "output_type": "display_data"
    },
    {
     "data": {
      "application/vnd.jupyter.widget-view+json": {
       "model_id": "",
       "version_major": 2,
       "version_minor": 0
      },
      "text/plain": [
       "HBox(children=(IntProgress(value=0, description='method', max=2, style=ProgressStyle(description_width='initia…"
      ]
     },
     "metadata": {},
     "output_type": "display_data"
    },
    {
     "data": {
      "application/vnd.jupyter.widget-view+json": {
       "model_id": "",
       "version_major": 2,
       "version_minor": 0
      },
      "text/plain": [
       "HBox(children=(IntProgress(value=0, description='binary', max=2, style=ProgressStyle(description_width='initia…"
      ]
     },
     "metadata": {},
     "output_type": "display_data"
    },
    {
     "data": {
      "application/vnd.jupyter.widget-view+json": {
       "model_id": "",
       "version_major": 2,
       "version_minor": 0
      },
      "text/plain": [
       "HBox(children=(IntProgress(value=0, description='metric', max=3, style=ProgressStyle(description_width='initia…"
      ]
     },
     "metadata": {},
     "output_type": "display_data"
    },
    {
     "data": {
      "application/vnd.jupyter.widget-view+json": {
       "model_id": "",
       "version_major": 2,
       "version_minor": 0
      },
      "text/plain": [
       "HBox(children=(IntProgress(value=0, description='method', max=2, style=ProgressStyle(description_width='initia…"
      ]
     },
     "metadata": {},
     "output_type": "display_data"
    },
    {
     "data": {
      "application/vnd.jupyter.widget-view+json": {
       "model_id": "",
       "version_major": 2,
       "version_minor": 0
      },
      "text/plain": [
       "HBox(children=(IntProgress(value=0, description='method', max=2, style=ProgressStyle(description_width='initia…"
      ]
     },
     "metadata": {},
     "output_type": "display_data"
    },
    {
     "data": {
      "application/vnd.jupyter.widget-view+json": {
       "model_id": "",
       "version_major": 2,
       "version_minor": 0
      },
      "text/plain": [
       "HBox(children=(IntProgress(value=0, description='method', max=2, style=ProgressStyle(description_width='initia…"
      ]
     },
     "metadata": {},
     "output_type": "display_data"
    },
    {
     "data": {
      "application/vnd.jupyter.widget-view+json": {
       "model_id": "",
       "version_major": 2,
       "version_minor": 0
      },
      "text/plain": [
       "HBox(children=(IntProgress(value=0, description='metric', max=3, style=ProgressStyle(description_width='initia…"
      ]
     },
     "metadata": {},
     "output_type": "display_data"
    },
    {
     "data": {
      "application/vnd.jupyter.widget-view+json": {
       "model_id": "",
       "version_major": 2,
       "version_minor": 0
      },
      "text/plain": [
       "HBox(children=(IntProgress(value=0, description='method', max=2, style=ProgressStyle(description_width='initia…"
      ]
     },
     "metadata": {},
     "output_type": "display_data"
    },
    {
     "data": {
      "application/vnd.jupyter.widget-view+json": {
       "model_id": "",
       "version_major": 2,
       "version_minor": 0
      },
      "text/plain": [
       "HBox(children=(IntProgress(value=0, description='method', max=2, style=ProgressStyle(description_width='initia…"
      ]
     },
     "metadata": {},
     "output_type": "display_data"
    },
    {
     "data": {
      "application/vnd.jupyter.widget-view+json": {
       "model_id": "",
       "version_major": 2,
       "version_minor": 0
      },
      "text/plain": [
       "HBox(children=(IntProgress(value=0, description='method', max=2, style=ProgressStyle(description_width='initia…"
      ]
     },
     "metadata": {},
     "output_type": "display_data"
    },
    {
     "data": {
      "application/vnd.jupyter.widget-view+json": {
       "model_id": "",
       "version_major": 2,
       "version_minor": 0
      },
      "text/plain": [
       "HBox(children=(IntProgress(value=0, description='binary', max=2, style=ProgressStyle(description_width='initia…"
      ]
     },
     "metadata": {},
     "output_type": "display_data"
    },
    {
     "data": {
      "application/vnd.jupyter.widget-view+json": {
       "model_id": "",
       "version_major": 2,
       "version_minor": 0
      },
      "text/plain": [
       "HBox(children=(IntProgress(value=0, description='metric', max=3, style=ProgressStyle(description_width='initia…"
      ]
     },
     "metadata": {},
     "output_type": "display_data"
    },
    {
     "data": {
      "application/vnd.jupyter.widget-view+json": {
       "model_id": "",
       "version_major": 2,
       "version_minor": 0
      },
      "text/plain": [
       "HBox(children=(IntProgress(value=0, description='method', max=2, style=ProgressStyle(description_width='initia…"
      ]
     },
     "metadata": {},
     "output_type": "display_data"
    },
    {
     "data": {
      "application/vnd.jupyter.widget-view+json": {
       "model_id": "",
       "version_major": 2,
       "version_minor": 0
      },
      "text/plain": [
       "HBox(children=(IntProgress(value=0, description='method', max=2, style=ProgressStyle(description_width='initia…"
      ]
     },
     "metadata": {},
     "output_type": "display_data"
    },
    {
     "data": {
      "application/vnd.jupyter.widget-view+json": {
       "model_id": "",
       "version_major": 2,
       "version_minor": 0
      },
      "text/plain": [
       "HBox(children=(IntProgress(value=0, description='method', max=2, style=ProgressStyle(description_width='initia…"
      ]
     },
     "metadata": {},
     "output_type": "display_data"
    },
    {
     "data": {
      "application/vnd.jupyter.widget-view+json": {
       "model_id": "",
       "version_major": 2,
       "version_minor": 0
      },
      "text/plain": [
       "HBox(children=(IntProgress(value=0, description='metric', max=3, style=ProgressStyle(description_width='initia…"
      ]
     },
     "metadata": {},
     "output_type": "display_data"
    },
    {
     "data": {
      "application/vnd.jupyter.widget-view+json": {
       "model_id": "",
       "version_major": 2,
       "version_minor": 0
      },
      "text/plain": [
       "HBox(children=(IntProgress(value=0, description='method', max=2, style=ProgressStyle(description_width='initia…"
      ]
     },
     "metadata": {},
     "output_type": "display_data"
    },
    {
     "data": {
      "application/vnd.jupyter.widget-view+json": {
       "model_id": "",
       "version_major": 2,
       "version_minor": 0
      },
      "text/plain": [
       "HBox(children=(IntProgress(value=0, description='method', max=2, style=ProgressStyle(description_width='initia…"
      ]
     },
     "metadata": {},
     "output_type": "display_data"
    },
    {
     "data": {
      "application/vnd.jupyter.widget-view+json": {
       "model_id": "",
       "version_major": 2,
       "version_minor": 0
      },
      "text/plain": [
       "HBox(children=(IntProgress(value=0, description='method', max=2, style=ProgressStyle(description_width='initia…"
      ]
     },
     "metadata": {},
     "output_type": "display_data"
    },
    {
     "data": {
      "application/vnd.jupyter.widget-view+json": {
       "model_id": "",
       "version_major": 2,
       "version_minor": 0
      },
      "text/plain": [
       "HBox(children=(IntProgress(value=0, description='vectorizer', max=3, style=ProgressStyle(description_width='in…"
      ]
     },
     "metadata": {},
     "output_type": "display_data"
    },
    {
     "data": {
      "application/vnd.jupyter.widget-view+json": {
       "model_id": "",
       "version_major": 2,
       "version_minor": 0
      },
      "text/plain": [
       "HBox(children=(IntProgress(value=0, description='min_df', max=9, style=ProgressStyle(description_width='initia…"
      ]
     },
     "metadata": {},
     "output_type": "display_data"
    },
    {
     "data": {
      "application/vnd.jupyter.widget-view+json": {
       "model_id": "",
       "version_major": 2,
       "version_minor": 0
      },
      "text/plain": [
       "HBox(children=(IntProgress(value=0, description='binary', max=2, style=ProgressStyle(description_width='initia…"
      ]
     },
     "metadata": {},
     "output_type": "display_data"
    },
    {
     "data": {
      "application/vnd.jupyter.widget-view+json": {
       "model_id": "",
       "version_major": 2,
       "version_minor": 0
      },
      "text/plain": [
       "HBox(children=(IntProgress(value=0, description='metric', max=3, style=ProgressStyle(description_width='initia…"
      ]
     },
     "metadata": {},
     "output_type": "display_data"
    },
    {
     "data": {
      "application/vnd.jupyter.widget-view+json": {
       "model_id": "",
       "version_major": 2,
       "version_minor": 0
      },
      "text/plain": [
       "HBox(children=(IntProgress(value=0, description='method', max=2, style=ProgressStyle(description_width='initia…"
      ]
     },
     "metadata": {},
     "output_type": "display_data"
    },
    {
     "data": {
      "application/vnd.jupyter.widget-view+json": {
       "model_id": "",
       "version_major": 2,
       "version_minor": 0
      },
      "text/plain": [
       "HBox(children=(IntProgress(value=0, description='method', max=2, style=ProgressStyle(description_width='initia…"
      ]
     },
     "metadata": {},
     "output_type": "display_data"
    },
    {
     "data": {
      "application/vnd.jupyter.widget-view+json": {
       "model_id": "",
       "version_major": 2,
       "version_minor": 0
      },
      "text/plain": [
       "HBox(children=(IntProgress(value=0, description='method', max=2, style=ProgressStyle(description_width='initia…"
      ]
     },
     "metadata": {},
     "output_type": "display_data"
    },
    {
     "data": {
      "application/vnd.jupyter.widget-view+json": {
       "model_id": "",
       "version_major": 2,
       "version_minor": 0
      },
      "text/plain": [
       "HBox(children=(IntProgress(value=0, description='metric', max=3, style=ProgressStyle(description_width='initia…"
      ]
     },
     "metadata": {},
     "output_type": "display_data"
    },
    {
     "data": {
      "application/vnd.jupyter.widget-view+json": {
       "model_id": "",
       "version_major": 2,
       "version_minor": 0
      },
      "text/plain": [
       "HBox(children=(IntProgress(value=0, description='method', max=2, style=ProgressStyle(description_width='initia…"
      ]
     },
     "metadata": {},
     "output_type": "display_data"
    },
    {
     "data": {
      "application/vnd.jupyter.widget-view+json": {
       "model_id": "",
       "version_major": 2,
       "version_minor": 0
      },
      "text/plain": [
       "HBox(children=(IntProgress(value=0, description='method', max=2, style=ProgressStyle(description_width='initia…"
      ]
     },
     "metadata": {},
     "output_type": "display_data"
    },
    {
     "data": {
      "application/vnd.jupyter.widget-view+json": {
       "model_id": "",
       "version_major": 2,
       "version_minor": 0
      },
      "text/plain": [
       "HBox(children=(IntProgress(value=0, description='method', max=2, style=ProgressStyle(description_width='initia…"
      ]
     },
     "metadata": {},
     "output_type": "display_data"
    },
    {
     "data": {
      "application/vnd.jupyter.widget-view+json": {
       "model_id": "",
       "version_major": 2,
       "version_minor": 0
      },
      "text/plain": [
       "HBox(children=(IntProgress(value=0, description='binary', max=2, style=ProgressStyle(description_width='initia…"
      ]
     },
     "metadata": {},
     "output_type": "display_data"
    },
    {
     "data": {
      "application/vnd.jupyter.widget-view+json": {
       "model_id": "",
       "version_major": 2,
       "version_minor": 0
      },
      "text/plain": [
       "HBox(children=(IntProgress(value=0, description='metric', max=3, style=ProgressStyle(description_width='initia…"
      ]
     },
     "metadata": {},
     "output_type": "display_data"
    },
    {
     "data": {
      "application/vnd.jupyter.widget-view+json": {
       "model_id": "",
       "version_major": 2,
       "version_minor": 0
      },
      "text/plain": [
       "HBox(children=(IntProgress(value=0, description='method', max=2, style=ProgressStyle(description_width='initia…"
      ]
     },
     "metadata": {},
     "output_type": "display_data"
    },
    {
     "data": {
      "application/vnd.jupyter.widget-view+json": {
       "model_id": "",
       "version_major": 2,
       "version_minor": 0
      },
      "text/plain": [
       "HBox(children=(IntProgress(value=0, description='method', max=2, style=ProgressStyle(description_width='initia…"
      ]
     },
     "metadata": {},
     "output_type": "display_data"
    },
    {
     "data": {
      "application/vnd.jupyter.widget-view+json": {
       "model_id": "",
       "version_major": 2,
       "version_minor": 0
      },
      "text/plain": [
       "HBox(children=(IntProgress(value=0, description='method', max=2, style=ProgressStyle(description_width='initia…"
      ]
     },
     "metadata": {},
     "output_type": "display_data"
    },
    {
     "data": {
      "application/vnd.jupyter.widget-view+json": {
       "model_id": "",
       "version_major": 2,
       "version_minor": 0
      },
      "text/plain": [
       "HBox(children=(IntProgress(value=0, description='metric', max=3, style=ProgressStyle(description_width='initia…"
      ]
     },
     "metadata": {},
     "output_type": "display_data"
    },
    {
     "data": {
      "application/vnd.jupyter.widget-view+json": {
       "model_id": "",
       "version_major": 2,
       "version_minor": 0
      },
      "text/plain": [
       "HBox(children=(IntProgress(value=0, description='method', max=2, style=ProgressStyle(description_width='initia…"
      ]
     },
     "metadata": {},
     "output_type": "display_data"
    },
    {
     "data": {
      "application/vnd.jupyter.widget-view+json": {
       "model_id": "",
       "version_major": 2,
       "version_minor": 0
      },
      "text/plain": [
       "HBox(children=(IntProgress(value=0, description='method', max=2, style=ProgressStyle(description_width='initia…"
      ]
     },
     "metadata": {},
     "output_type": "display_data"
    },
    {
     "data": {
      "application/vnd.jupyter.widget-view+json": {
       "model_id": "",
       "version_major": 2,
       "version_minor": 0
      },
      "text/plain": [
       "HBox(children=(IntProgress(value=0, description='method', max=2, style=ProgressStyle(description_width='initia…"
      ]
     },
     "metadata": {},
     "output_type": "display_data"
    },
    {
     "data": {
      "application/vnd.jupyter.widget-view+json": {
       "model_id": "",
       "version_major": 2,
       "version_minor": 0
      },
      "text/plain": [
       "HBox(children=(IntProgress(value=0, description='binary', max=2, style=ProgressStyle(description_width='initia…"
      ]
     },
     "metadata": {},
     "output_type": "display_data"
    },
    {
     "data": {
      "application/vnd.jupyter.widget-view+json": {
       "model_id": "",
       "version_major": 2,
       "version_minor": 0
      },
      "text/plain": [
       "HBox(children=(IntProgress(value=0, description='metric', max=3, style=ProgressStyle(description_width='initia…"
      ]
     },
     "metadata": {},
     "output_type": "display_data"
    },
    {
     "data": {
      "application/vnd.jupyter.widget-view+json": {
       "model_id": "",
       "version_major": 2,
       "version_minor": 0
      },
      "text/plain": [
       "HBox(children=(IntProgress(value=0, description='method', max=2, style=ProgressStyle(description_width='initia…"
      ]
     },
     "metadata": {},
     "output_type": "display_data"
    },
    {
     "data": {
      "application/vnd.jupyter.widget-view+json": {
       "model_id": "",
       "version_major": 2,
       "version_minor": 0
      },
      "text/plain": [
       "HBox(children=(IntProgress(value=0, description='method', max=2, style=ProgressStyle(description_width='initia…"
      ]
     },
     "metadata": {},
     "output_type": "display_data"
    },
    {
     "data": {
      "application/vnd.jupyter.widget-view+json": {
       "model_id": "",
       "version_major": 2,
       "version_minor": 0
      },
      "text/plain": [
       "HBox(children=(IntProgress(value=0, description='method', max=2, style=ProgressStyle(description_width='initia…"
      ]
     },
     "metadata": {},
     "output_type": "display_data"
    },
    {
     "data": {
      "application/vnd.jupyter.widget-view+json": {
       "model_id": "",
       "version_major": 2,
       "version_minor": 0
      },
      "text/plain": [
       "HBox(children=(IntProgress(value=0, description='metric', max=3, style=ProgressStyle(description_width='initia…"
      ]
     },
     "metadata": {},
     "output_type": "display_data"
    },
    {
     "data": {
      "application/vnd.jupyter.widget-view+json": {
       "model_id": "",
       "version_major": 2,
       "version_minor": 0
      },
      "text/plain": [
       "HBox(children=(IntProgress(value=0, description='method', max=2, style=ProgressStyle(description_width='initia…"
      ]
     },
     "metadata": {},
     "output_type": "display_data"
    },
    {
     "data": {
      "application/vnd.jupyter.widget-view+json": {
       "model_id": "",
       "version_major": 2,
       "version_minor": 0
      },
      "text/plain": [
       "HBox(children=(IntProgress(value=0, description='method', max=2, style=ProgressStyle(description_width='initia…"
      ]
     },
     "metadata": {},
     "output_type": "display_data"
    },
    {
     "data": {
      "application/vnd.jupyter.widget-view+json": {
       "model_id": "",
       "version_major": 2,
       "version_minor": 0
      },
      "text/plain": [
       "HBox(children=(IntProgress(value=0, description='method', max=2, style=ProgressStyle(description_width='initia…"
      ]
     },
     "metadata": {},
     "output_type": "display_data"
    },
    {
     "data": {
      "application/vnd.jupyter.widget-view+json": {
       "model_id": "",
       "version_major": 2,
       "version_minor": 0
      },
      "text/plain": [
       "HBox(children=(IntProgress(value=0, description='binary', max=2, style=ProgressStyle(description_width='initia…"
      ]
     },
     "metadata": {},
     "output_type": "display_data"
    },
    {
     "data": {
      "application/vnd.jupyter.widget-view+json": {
       "model_id": "",
       "version_major": 2,
       "version_minor": 0
      },
      "text/plain": [
       "HBox(children=(IntProgress(value=0, description='metric', max=3, style=ProgressStyle(description_width='initia…"
      ]
     },
     "metadata": {},
     "output_type": "display_data"
    },
    {
     "data": {
      "application/vnd.jupyter.widget-view+json": {
       "model_id": "",
       "version_major": 2,
       "version_minor": 0
      },
      "text/plain": [
       "HBox(children=(IntProgress(value=0, description='method', max=2, style=ProgressStyle(description_width='initia…"
      ]
     },
     "metadata": {},
     "output_type": "display_data"
    },
    {
     "data": {
      "application/vnd.jupyter.widget-view+json": {
       "model_id": "",
       "version_major": 2,
       "version_minor": 0
      },
      "text/plain": [
       "HBox(children=(IntProgress(value=0, description='method', max=2, style=ProgressStyle(description_width='initia…"
      ]
     },
     "metadata": {},
     "output_type": "display_data"
    },
    {
     "data": {
      "application/vnd.jupyter.widget-view+json": {
       "model_id": "",
       "version_major": 2,
       "version_minor": 0
      },
      "text/plain": [
       "HBox(children=(IntProgress(value=0, description='method', max=2, style=ProgressStyle(description_width='initia…"
      ]
     },
     "metadata": {},
     "output_type": "display_data"
    },
    {
     "data": {
      "application/vnd.jupyter.widget-view+json": {
       "model_id": "",
       "version_major": 2,
       "version_minor": 0
      },
      "text/plain": [
       "HBox(children=(IntProgress(value=0, description='metric', max=3, style=ProgressStyle(description_width='initia…"
      ]
     },
     "metadata": {},
     "output_type": "display_data"
    },
    {
     "data": {
      "application/vnd.jupyter.widget-view+json": {
       "model_id": "",
       "version_major": 2,
       "version_minor": 0
      },
      "text/plain": [
       "HBox(children=(IntProgress(value=0, description='method', max=2, style=ProgressStyle(description_width='initia…"
      ]
     },
     "metadata": {},
     "output_type": "display_data"
    },
    {
     "data": {
      "application/vnd.jupyter.widget-view+json": {
       "model_id": "",
       "version_major": 2,
       "version_minor": 0
      },
      "text/plain": [
       "HBox(children=(IntProgress(value=0, description='method', max=2, style=ProgressStyle(description_width='initia…"
      ]
     },
     "metadata": {},
     "output_type": "display_data"
    },
    {
     "data": {
      "application/vnd.jupyter.widget-view+json": {
       "model_id": "",
       "version_major": 2,
       "version_minor": 0
      },
      "text/plain": [
       "HBox(children=(IntProgress(value=0, description='method', max=2, style=ProgressStyle(description_width='initia…"
      ]
     },
     "metadata": {},
     "output_type": "display_data"
    },
    {
     "data": {
      "application/vnd.jupyter.widget-view+json": {
       "model_id": "",
       "version_major": 2,
       "version_minor": 0
      },
      "text/plain": [
       "HBox(children=(IntProgress(value=0, description='binary', max=2, style=ProgressStyle(description_width='initia…"
      ]
     },
     "metadata": {},
     "output_type": "display_data"
    },
    {
     "data": {
      "application/vnd.jupyter.widget-view+json": {
       "model_id": "",
       "version_major": 2,
       "version_minor": 0
      },
      "text/plain": [
       "HBox(children=(IntProgress(value=0, description='metric', max=3, style=ProgressStyle(description_width='initia…"
      ]
     },
     "metadata": {},
     "output_type": "display_data"
    },
    {
     "data": {
      "application/vnd.jupyter.widget-view+json": {
       "model_id": "",
       "version_major": 2,
       "version_minor": 0
      },
      "text/plain": [
       "HBox(children=(IntProgress(value=0, description='method', max=2, style=ProgressStyle(description_width='initia…"
      ]
     },
     "metadata": {},
     "output_type": "display_data"
    },
    {
     "data": {
      "application/vnd.jupyter.widget-view+json": {
       "model_id": "",
       "version_major": 2,
       "version_minor": 0
      },
      "text/plain": [
       "HBox(children=(IntProgress(value=0, description='method', max=2, style=ProgressStyle(description_width='initia…"
      ]
     },
     "metadata": {},
     "output_type": "display_data"
    },
    {
     "data": {
      "application/vnd.jupyter.widget-view+json": {
       "model_id": "",
       "version_major": 2,
       "version_minor": 0
      },
      "text/plain": [
       "HBox(children=(IntProgress(value=0, description='method', max=2, style=ProgressStyle(description_width='initia…"
      ]
     },
     "metadata": {},
     "output_type": "display_data"
    },
    {
     "data": {
      "application/vnd.jupyter.widget-view+json": {
       "model_id": "",
       "version_major": 2,
       "version_minor": 0
      },
      "text/plain": [
       "HBox(children=(IntProgress(value=0, description='metric', max=3, style=ProgressStyle(description_width='initia…"
      ]
     },
     "metadata": {},
     "output_type": "display_data"
    },
    {
     "data": {
      "application/vnd.jupyter.widget-view+json": {
       "model_id": "",
       "version_major": 2,
       "version_minor": 0
      },
      "text/plain": [
       "HBox(children=(IntProgress(value=0, description='method', max=2, style=ProgressStyle(description_width='initia…"
      ]
     },
     "metadata": {},
     "output_type": "display_data"
    },
    {
     "data": {
      "application/vnd.jupyter.widget-view+json": {
       "model_id": "",
       "version_major": 2,
       "version_minor": 0
      },
      "text/plain": [
       "HBox(children=(IntProgress(value=0, description='method', max=2, style=ProgressStyle(description_width='initia…"
      ]
     },
     "metadata": {},
     "output_type": "display_data"
    },
    {
     "data": {
      "application/vnd.jupyter.widget-view+json": {
       "model_id": "",
       "version_major": 2,
       "version_minor": 0
      },
      "text/plain": [
       "HBox(children=(IntProgress(value=0, description='method', max=2, style=ProgressStyle(description_width='initia…"
      ]
     },
     "metadata": {},
     "output_type": "display_data"
    },
    {
     "data": {
      "application/vnd.jupyter.widget-view+json": {
       "model_id": "",
       "version_major": 2,
       "version_minor": 0
      },
      "text/plain": [
       "HBox(children=(IntProgress(value=0, description='binary', max=2, style=ProgressStyle(description_width='initia…"
      ]
     },
     "metadata": {},
     "output_type": "display_data"
    },
    {
     "data": {
      "application/vnd.jupyter.widget-view+json": {
       "model_id": "",
       "version_major": 2,
       "version_minor": 0
      },
      "text/plain": [
       "HBox(children=(IntProgress(value=0, description='metric', max=3, style=ProgressStyle(description_width='initia…"
      ]
     },
     "metadata": {},
     "output_type": "display_data"
    },
    {
     "data": {
      "application/vnd.jupyter.widget-view+json": {
       "model_id": "",
       "version_major": 2,
       "version_minor": 0
      },
      "text/plain": [
       "HBox(children=(IntProgress(value=0, description='method', max=2, style=ProgressStyle(description_width='initia…"
      ]
     },
     "metadata": {},
     "output_type": "display_data"
    },
    {
     "data": {
      "application/vnd.jupyter.widget-view+json": {
       "model_id": "",
       "version_major": 2,
       "version_minor": 0
      },
      "text/plain": [
       "HBox(children=(IntProgress(value=0, description='method', max=2, style=ProgressStyle(description_width='initia…"
      ]
     },
     "metadata": {},
     "output_type": "display_data"
    },
    {
     "data": {
      "application/vnd.jupyter.widget-view+json": {
       "model_id": "",
       "version_major": 2,
       "version_minor": 0
      },
      "text/plain": [
       "HBox(children=(IntProgress(value=0, description='method', max=2, style=ProgressStyle(description_width='initia…"
      ]
     },
     "metadata": {},
     "output_type": "display_data"
    },
    {
     "data": {
      "application/vnd.jupyter.widget-view+json": {
       "model_id": "",
       "version_major": 2,
       "version_minor": 0
      },
      "text/plain": [
       "HBox(children=(IntProgress(value=0, description='metric', max=3, style=ProgressStyle(description_width='initia…"
      ]
     },
     "metadata": {},
     "output_type": "display_data"
    },
    {
     "data": {
      "application/vnd.jupyter.widget-view+json": {
       "model_id": "",
       "version_major": 2,
       "version_minor": 0
      },
      "text/plain": [
       "HBox(children=(IntProgress(value=0, description='method', max=2, style=ProgressStyle(description_width='initia…"
      ]
     },
     "metadata": {},
     "output_type": "display_data"
    },
    {
     "data": {
      "application/vnd.jupyter.widget-view+json": {
       "model_id": "",
       "version_major": 2,
       "version_minor": 0
      },
      "text/plain": [
       "HBox(children=(IntProgress(value=0, description='method', max=2, style=ProgressStyle(description_width='initia…"
      ]
     },
     "metadata": {},
     "output_type": "display_data"
    },
    {
     "data": {
      "application/vnd.jupyter.widget-view+json": {
       "model_id": "",
       "version_major": 2,
       "version_minor": 0
      },
      "text/plain": [
       "HBox(children=(IntProgress(value=0, description='method', max=2, style=ProgressStyle(description_width='initia…"
      ]
     },
     "metadata": {},
     "output_type": "display_data"
    },
    {
     "data": {
      "application/vnd.jupyter.widget-view+json": {
       "model_id": "",
       "version_major": 2,
       "version_minor": 0
      },
      "text/plain": [
       "HBox(children=(IntProgress(value=0, description='binary', max=2, style=ProgressStyle(description_width='initia…"
      ]
     },
     "metadata": {},
     "output_type": "display_data"
    },
    {
     "data": {
      "application/vnd.jupyter.widget-view+json": {
       "model_id": "",
       "version_major": 2,
       "version_minor": 0
      },
      "text/plain": [
       "HBox(children=(IntProgress(value=0, description='metric', max=3, style=ProgressStyle(description_width='initia…"
      ]
     },
     "metadata": {},
     "output_type": "display_data"
    },
    {
     "data": {
      "application/vnd.jupyter.widget-view+json": {
       "model_id": "",
       "version_major": 2,
       "version_minor": 0
      },
      "text/plain": [
       "HBox(children=(IntProgress(value=0, description='method', max=2, style=ProgressStyle(description_width='initia…"
      ]
     },
     "metadata": {},
     "output_type": "display_data"
    },
    {
     "data": {
      "application/vnd.jupyter.widget-view+json": {
       "model_id": "",
       "version_major": 2,
       "version_minor": 0
      },
      "text/plain": [
       "HBox(children=(IntProgress(value=0, description='method', max=2, style=ProgressStyle(description_width='initia…"
      ]
     },
     "metadata": {},
     "output_type": "display_data"
    },
    {
     "data": {
      "application/vnd.jupyter.widget-view+json": {
       "model_id": "",
       "version_major": 2,
       "version_minor": 0
      },
      "text/plain": [
       "HBox(children=(IntProgress(value=0, description='method', max=2, style=ProgressStyle(description_width='initia…"
      ]
     },
     "metadata": {},
     "output_type": "display_data"
    },
    {
     "data": {
      "application/vnd.jupyter.widget-view+json": {
       "model_id": "",
       "version_major": 2,
       "version_minor": 0
      },
      "text/plain": [
       "HBox(children=(IntProgress(value=0, description='metric', max=3, style=ProgressStyle(description_width='initia…"
      ]
     },
     "metadata": {},
     "output_type": "display_data"
    },
    {
     "data": {
      "application/vnd.jupyter.widget-view+json": {
       "model_id": "",
       "version_major": 2,
       "version_minor": 0
      },
      "text/plain": [
       "HBox(children=(IntProgress(value=0, description='method', max=2, style=ProgressStyle(description_width='initia…"
      ]
     },
     "metadata": {},
     "output_type": "display_data"
    },
    {
     "data": {
      "application/vnd.jupyter.widget-view+json": {
       "model_id": "",
       "version_major": 2,
       "version_minor": 0
      },
      "text/plain": [
       "HBox(children=(IntProgress(value=0, description='method', max=2, style=ProgressStyle(description_width='initia…"
      ]
     },
     "metadata": {},
     "output_type": "display_data"
    },
    {
     "data": {
      "application/vnd.jupyter.widget-view+json": {
       "model_id": "",
       "version_major": 2,
       "version_minor": 0
      },
      "text/plain": [
       "HBox(children=(IntProgress(value=0, description='method', max=2, style=ProgressStyle(description_width='initia…"
      ]
     },
     "metadata": {},
     "output_type": "display_data"
    },
    {
     "data": {
      "application/vnd.jupyter.widget-view+json": {
       "model_id": "",
       "version_major": 2,
       "version_minor": 0
      },
      "text/plain": [
       "HBox(children=(IntProgress(value=0, description='binary', max=2, style=ProgressStyle(description_width='initia…"
      ]
     },
     "metadata": {},
     "output_type": "display_data"
    },
    {
     "data": {
      "application/vnd.jupyter.widget-view+json": {
       "model_id": "",
       "version_major": 2,
       "version_minor": 0
      },
      "text/plain": [
       "HBox(children=(IntProgress(value=0, description='metric', max=3, style=ProgressStyle(description_width='initia…"
      ]
     },
     "metadata": {},
     "output_type": "display_data"
    },
    {
     "data": {
      "application/vnd.jupyter.widget-view+json": {
       "model_id": "",
       "version_major": 2,
       "version_minor": 0
      },
      "text/plain": [
       "HBox(children=(IntProgress(value=0, description='method', max=2, style=ProgressStyle(description_width='initia…"
      ]
     },
     "metadata": {},
     "output_type": "display_data"
    },
    {
     "data": {
      "application/vnd.jupyter.widget-view+json": {
       "model_id": "",
       "version_major": 2,
       "version_minor": 0
      },
      "text/plain": [
       "HBox(children=(IntProgress(value=0, description='method', max=2, style=ProgressStyle(description_width='initia…"
      ]
     },
     "metadata": {},
     "output_type": "display_data"
    },
    {
     "data": {
      "application/vnd.jupyter.widget-view+json": {
       "model_id": "",
       "version_major": 2,
       "version_minor": 0
      },
      "text/plain": [
       "HBox(children=(IntProgress(value=0, description='method', max=2, style=ProgressStyle(description_width='initia…"
      ]
     },
     "metadata": {},
     "output_type": "display_data"
    },
    {
     "data": {
      "application/vnd.jupyter.widget-view+json": {
       "model_id": "",
       "version_major": 2,
       "version_minor": 0
      },
      "text/plain": [
       "HBox(children=(IntProgress(value=0, description='metric', max=3, style=ProgressStyle(description_width='initia…"
      ]
     },
     "metadata": {},
     "output_type": "display_data"
    },
    {
     "data": {
      "application/vnd.jupyter.widget-view+json": {
       "model_id": "",
       "version_major": 2,
       "version_minor": 0
      },
      "text/plain": [
       "HBox(children=(IntProgress(value=0, description='method', max=2, style=ProgressStyle(description_width='initia…"
      ]
     },
     "metadata": {},
     "output_type": "display_data"
    },
    {
     "data": {
      "application/vnd.jupyter.widget-view+json": {
       "model_id": "",
       "version_major": 2,
       "version_minor": 0
      },
      "text/plain": [
       "HBox(children=(IntProgress(value=0, description='method', max=2, style=ProgressStyle(description_width='initia…"
      ]
     },
     "metadata": {},
     "output_type": "display_data"
    },
    {
     "data": {
      "application/vnd.jupyter.widget-view+json": {
       "model_id": "",
       "version_major": 2,
       "version_minor": 0
      },
      "text/plain": [
       "HBox(children=(IntProgress(value=0, description='method', max=2, style=ProgressStyle(description_width='initia…"
      ]
     },
     "metadata": {},
     "output_type": "display_data"
    },
    {
     "data": {
      "application/vnd.jupyter.widget-view+json": {
       "model_id": "",
       "version_major": 2,
       "version_minor": 0
      },
      "text/plain": [
       "HBox(children=(IntProgress(value=0, description='binary', max=2, style=ProgressStyle(description_width='initia…"
      ]
     },
     "metadata": {},
     "output_type": "display_data"
    },
    {
     "data": {
      "application/vnd.jupyter.widget-view+json": {
       "model_id": "",
       "version_major": 2,
       "version_minor": 0
      },
      "text/plain": [
       "HBox(children=(IntProgress(value=0, description='metric', max=3, style=ProgressStyle(description_width='initia…"
      ]
     },
     "metadata": {},
     "output_type": "display_data"
    },
    {
     "data": {
      "application/vnd.jupyter.widget-view+json": {
       "model_id": "",
       "version_major": 2,
       "version_minor": 0
      },
      "text/plain": [
       "HBox(children=(IntProgress(value=0, description='method', max=2, style=ProgressStyle(description_width='initia…"
      ]
     },
     "metadata": {},
     "output_type": "display_data"
    },
    {
     "data": {
      "application/vnd.jupyter.widget-view+json": {
       "model_id": "",
       "version_major": 2,
       "version_minor": 0
      },
      "text/plain": [
       "HBox(children=(IntProgress(value=0, description='method', max=2, style=ProgressStyle(description_width='initia…"
      ]
     },
     "metadata": {},
     "output_type": "display_data"
    },
    {
     "data": {
      "application/vnd.jupyter.widget-view+json": {
       "model_id": "",
       "version_major": 2,
       "version_minor": 0
      },
      "text/plain": [
       "HBox(children=(IntProgress(value=0, description='method', max=2, style=ProgressStyle(description_width='initia…"
      ]
     },
     "metadata": {},
     "output_type": "display_data"
    },
    {
     "data": {
      "application/vnd.jupyter.widget-view+json": {
       "model_id": "",
       "version_major": 2,
       "version_minor": 0
      },
      "text/plain": [
       "HBox(children=(IntProgress(value=0, description='metric', max=3, style=ProgressStyle(description_width='initia…"
      ]
     },
     "metadata": {},
     "output_type": "display_data"
    },
    {
     "data": {
      "application/vnd.jupyter.widget-view+json": {
       "model_id": "",
       "version_major": 2,
       "version_minor": 0
      },
      "text/plain": [
       "HBox(children=(IntProgress(value=0, description='method', max=2, style=ProgressStyle(description_width='initia…"
      ]
     },
     "metadata": {},
     "output_type": "display_data"
    },
    {
     "data": {
      "application/vnd.jupyter.widget-view+json": {
       "model_id": "",
       "version_major": 2,
       "version_minor": 0
      },
      "text/plain": [
       "HBox(children=(IntProgress(value=0, description='method', max=2, style=ProgressStyle(description_width='initia…"
      ]
     },
     "metadata": {},
     "output_type": "display_data"
    },
    {
     "data": {
      "application/vnd.jupyter.widget-view+json": {
       "model_id": "",
       "version_major": 2,
       "version_minor": 0
      },
      "text/plain": [
       "HBox(children=(IntProgress(value=0, description='method', max=2, style=ProgressStyle(description_width='initia…"
      ]
     },
     "metadata": {},
     "output_type": "display_data"
    },
    {
     "data": {
      "application/vnd.jupyter.widget-view+json": {
       "model_id": "",
       "version_major": 2,
       "version_minor": 0
      },
      "text/plain": [
       "HBox(children=(IntProgress(value=0, description='min_df', max=9, style=ProgressStyle(description_width='initia…"
      ]
     },
     "metadata": {},
     "output_type": "display_data"
    },
    {
     "data": {
      "application/vnd.jupyter.widget-view+json": {
       "model_id": "",
       "version_major": 2,
       "version_minor": 0
      },
      "text/plain": [
       "HBox(children=(IntProgress(value=0, description='binary', max=2, style=ProgressStyle(description_width='initia…"
      ]
     },
     "metadata": {},
     "output_type": "display_data"
    },
    {
     "data": {
      "application/vnd.jupyter.widget-view+json": {
       "model_id": "",
       "version_major": 2,
       "version_minor": 0
      },
      "text/plain": [
       "HBox(children=(IntProgress(value=0, description='metric', max=3, style=ProgressStyle(description_width='initia…"
      ]
     },
     "metadata": {},
     "output_type": "display_data"
    },
    {
     "data": {
      "application/vnd.jupyter.widget-view+json": {
       "model_id": "",
       "version_major": 2,
       "version_minor": 0
      },
      "text/plain": [
       "HBox(children=(IntProgress(value=0, description='method', max=2, style=ProgressStyle(description_width='initia…"
      ]
     },
     "metadata": {},
     "output_type": "display_data"
    },
    {
     "data": {
      "application/vnd.jupyter.widget-view+json": {
       "model_id": "",
       "version_major": 2,
       "version_minor": 0
      },
      "text/plain": [
       "HBox(children=(IntProgress(value=0, description='method', max=2, style=ProgressStyle(description_width='initia…"
      ]
     },
     "metadata": {},
     "output_type": "display_data"
    },
    {
     "data": {
      "application/vnd.jupyter.widget-view+json": {
       "model_id": "",
       "version_major": 2,
       "version_minor": 0
      },
      "text/plain": [
       "HBox(children=(IntProgress(value=0, description='method', max=2, style=ProgressStyle(description_width='initia…"
      ]
     },
     "metadata": {},
     "output_type": "display_data"
    },
    {
     "data": {
      "application/vnd.jupyter.widget-view+json": {
       "model_id": "",
       "version_major": 2,
       "version_minor": 0
      },
      "text/plain": [
       "HBox(children=(IntProgress(value=0, description='metric', max=3, style=ProgressStyle(description_width='initia…"
      ]
     },
     "metadata": {},
     "output_type": "display_data"
    },
    {
     "data": {
      "application/vnd.jupyter.widget-view+json": {
       "model_id": "",
       "version_major": 2,
       "version_minor": 0
      },
      "text/plain": [
       "HBox(children=(IntProgress(value=0, description='method', max=2, style=ProgressStyle(description_width='initia…"
      ]
     },
     "metadata": {},
     "output_type": "display_data"
    },
    {
     "data": {
      "application/vnd.jupyter.widget-view+json": {
       "model_id": "",
       "version_major": 2,
       "version_minor": 0
      },
      "text/plain": [
       "HBox(children=(IntProgress(value=0, description='method', max=2, style=ProgressStyle(description_width='initia…"
      ]
     },
     "metadata": {},
     "output_type": "display_data"
    },
    {
     "data": {
      "application/vnd.jupyter.widget-view+json": {
       "model_id": "",
       "version_major": 2,
       "version_minor": 0
      },
      "text/plain": [
       "HBox(children=(IntProgress(value=0, description='method', max=2, style=ProgressStyle(description_width='initia…"
      ]
     },
     "metadata": {},
     "output_type": "display_data"
    },
    {
     "data": {
      "application/vnd.jupyter.widget-view+json": {
       "model_id": "",
       "version_major": 2,
       "version_minor": 0
      },
      "text/plain": [
       "HBox(children=(IntProgress(value=0, description='binary', max=2, style=ProgressStyle(description_width='initia…"
      ]
     },
     "metadata": {},
     "output_type": "display_data"
    },
    {
     "data": {
      "application/vnd.jupyter.widget-view+json": {
       "model_id": "",
       "version_major": 2,
       "version_minor": 0
      },
      "text/plain": [
       "HBox(children=(IntProgress(value=0, description='metric', max=3, style=ProgressStyle(description_width='initia…"
      ]
     },
     "metadata": {},
     "output_type": "display_data"
    },
    {
     "data": {
      "application/vnd.jupyter.widget-view+json": {
       "model_id": "",
       "version_major": 2,
       "version_minor": 0
      },
      "text/plain": [
       "HBox(children=(IntProgress(value=0, description='method', max=2, style=ProgressStyle(description_width='initia…"
      ]
     },
     "metadata": {},
     "output_type": "display_data"
    },
    {
     "data": {
      "application/vnd.jupyter.widget-view+json": {
       "model_id": "",
       "version_major": 2,
       "version_minor": 0
      },
      "text/plain": [
       "HBox(children=(IntProgress(value=0, description='method', max=2, style=ProgressStyle(description_width='initia…"
      ]
     },
     "metadata": {},
     "output_type": "display_data"
    },
    {
     "data": {
      "application/vnd.jupyter.widget-view+json": {
       "model_id": "",
       "version_major": 2,
       "version_minor": 0
      },
      "text/plain": [
       "HBox(children=(IntProgress(value=0, description='method', max=2, style=ProgressStyle(description_width='initia…"
      ]
     },
     "metadata": {},
     "output_type": "display_data"
    },
    {
     "data": {
      "application/vnd.jupyter.widget-view+json": {
       "model_id": "",
       "version_major": 2,
       "version_minor": 0
      },
      "text/plain": [
       "HBox(children=(IntProgress(value=0, description='metric', max=3, style=ProgressStyle(description_width='initia…"
      ]
     },
     "metadata": {},
     "output_type": "display_data"
    },
    {
     "data": {
      "application/vnd.jupyter.widget-view+json": {
       "model_id": "",
       "version_major": 2,
       "version_minor": 0
      },
      "text/plain": [
       "HBox(children=(IntProgress(value=0, description='method', max=2, style=ProgressStyle(description_width='initia…"
      ]
     },
     "metadata": {},
     "output_type": "display_data"
    },
    {
     "data": {
      "application/vnd.jupyter.widget-view+json": {
       "model_id": "",
       "version_major": 2,
       "version_minor": 0
      },
      "text/plain": [
       "HBox(children=(IntProgress(value=0, description='method', max=2, style=ProgressStyle(description_width='initia…"
      ]
     },
     "metadata": {},
     "output_type": "display_data"
    },
    {
     "data": {
      "application/vnd.jupyter.widget-view+json": {
       "model_id": "",
       "version_major": 2,
       "version_minor": 0
      },
      "text/plain": [
       "HBox(children=(IntProgress(value=0, description='method', max=2, style=ProgressStyle(description_width='initia…"
      ]
     },
     "metadata": {},
     "output_type": "display_data"
    },
    {
     "data": {
      "application/vnd.jupyter.widget-view+json": {
       "model_id": "",
       "version_major": 2,
       "version_minor": 0
      },
      "text/plain": [
       "HBox(children=(IntProgress(value=0, description='binary', max=2, style=ProgressStyle(description_width='initia…"
      ]
     },
     "metadata": {},
     "output_type": "display_data"
    },
    {
     "data": {
      "application/vnd.jupyter.widget-view+json": {
       "model_id": "",
       "version_major": 2,
       "version_minor": 0
      },
      "text/plain": [
       "HBox(children=(IntProgress(value=0, description='metric', max=3, style=ProgressStyle(description_width='initia…"
      ]
     },
     "metadata": {},
     "output_type": "display_data"
    },
    {
     "data": {
      "application/vnd.jupyter.widget-view+json": {
       "model_id": "",
       "version_major": 2,
       "version_minor": 0
      },
      "text/plain": [
       "HBox(children=(IntProgress(value=0, description='method', max=2, style=ProgressStyle(description_width='initia…"
      ]
     },
     "metadata": {},
     "output_type": "display_data"
    },
    {
     "data": {
      "application/vnd.jupyter.widget-view+json": {
       "model_id": "",
       "version_major": 2,
       "version_minor": 0
      },
      "text/plain": [
       "HBox(children=(IntProgress(value=0, description='method', max=2, style=ProgressStyle(description_width='initia…"
      ]
     },
     "metadata": {},
     "output_type": "display_data"
    },
    {
     "data": {
      "application/vnd.jupyter.widget-view+json": {
       "model_id": "",
       "version_major": 2,
       "version_minor": 0
      },
      "text/plain": [
       "HBox(children=(IntProgress(value=0, description='method', max=2, style=ProgressStyle(description_width='initia…"
      ]
     },
     "metadata": {},
     "output_type": "display_data"
    },
    {
     "data": {
      "application/vnd.jupyter.widget-view+json": {
       "model_id": "",
       "version_major": 2,
       "version_minor": 0
      },
      "text/plain": [
       "HBox(children=(IntProgress(value=0, description='metric', max=3, style=ProgressStyle(description_width='initia…"
      ]
     },
     "metadata": {},
     "output_type": "display_data"
    },
    {
     "data": {
      "application/vnd.jupyter.widget-view+json": {
       "model_id": "",
       "version_major": 2,
       "version_minor": 0
      },
      "text/plain": [
       "HBox(children=(IntProgress(value=0, description='method', max=2, style=ProgressStyle(description_width='initia…"
      ]
     },
     "metadata": {},
     "output_type": "display_data"
    },
    {
     "data": {
      "application/vnd.jupyter.widget-view+json": {
       "model_id": "",
       "version_major": 2,
       "version_minor": 0
      },
      "text/plain": [
       "HBox(children=(IntProgress(value=0, description='method', max=2, style=ProgressStyle(description_width='initia…"
      ]
     },
     "metadata": {},
     "output_type": "display_data"
    },
    {
     "data": {
      "application/vnd.jupyter.widget-view+json": {
       "model_id": "",
       "version_major": 2,
       "version_minor": 0
      },
      "text/plain": [
       "HBox(children=(IntProgress(value=0, description='method', max=2, style=ProgressStyle(description_width='initia…"
      ]
     },
     "metadata": {},
     "output_type": "display_data"
    },
    {
     "data": {
      "application/vnd.jupyter.widget-view+json": {
       "model_id": "",
       "version_major": 2,
       "version_minor": 0
      },
      "text/plain": [
       "HBox(children=(IntProgress(value=0, description='binary', max=2, style=ProgressStyle(description_width='initia…"
      ]
     },
     "metadata": {},
     "output_type": "display_data"
    },
    {
     "data": {
      "application/vnd.jupyter.widget-view+json": {
       "model_id": "",
       "version_major": 2,
       "version_minor": 0
      },
      "text/plain": [
       "HBox(children=(IntProgress(value=0, description='metric', max=3, style=ProgressStyle(description_width='initia…"
      ]
     },
     "metadata": {},
     "output_type": "display_data"
    },
    {
     "data": {
      "application/vnd.jupyter.widget-view+json": {
       "model_id": "",
       "version_major": 2,
       "version_minor": 0
      },
      "text/plain": [
       "HBox(children=(IntProgress(value=0, description='method', max=2, style=ProgressStyle(description_width='initia…"
      ]
     },
     "metadata": {},
     "output_type": "display_data"
    },
    {
     "data": {
      "application/vnd.jupyter.widget-view+json": {
       "model_id": "",
       "version_major": 2,
       "version_minor": 0
      },
      "text/plain": [
       "HBox(children=(IntProgress(value=0, description='method', max=2, style=ProgressStyle(description_width='initia…"
      ]
     },
     "metadata": {},
     "output_type": "display_data"
    },
    {
     "data": {
      "application/vnd.jupyter.widget-view+json": {
       "model_id": "",
       "version_major": 2,
       "version_minor": 0
      },
      "text/plain": [
       "HBox(children=(IntProgress(value=0, description='method', max=2, style=ProgressStyle(description_width='initia…"
      ]
     },
     "metadata": {},
     "output_type": "display_data"
    },
    {
     "data": {
      "application/vnd.jupyter.widget-view+json": {
       "model_id": "",
       "version_major": 2,
       "version_minor": 0
      },
      "text/plain": [
       "HBox(children=(IntProgress(value=0, description='metric', max=3, style=ProgressStyle(description_width='initia…"
      ]
     },
     "metadata": {},
     "output_type": "display_data"
    },
    {
     "data": {
      "application/vnd.jupyter.widget-view+json": {
       "model_id": "",
       "version_major": 2,
       "version_minor": 0
      },
      "text/plain": [
       "HBox(children=(IntProgress(value=0, description='method', max=2, style=ProgressStyle(description_width='initia…"
      ]
     },
     "metadata": {},
     "output_type": "display_data"
    },
    {
     "data": {
      "application/vnd.jupyter.widget-view+json": {
       "model_id": "",
       "version_major": 2,
       "version_minor": 0
      },
      "text/plain": [
       "HBox(children=(IntProgress(value=0, description='method', max=2, style=ProgressStyle(description_width='initia…"
      ]
     },
     "metadata": {},
     "output_type": "display_data"
    },
    {
     "data": {
      "application/vnd.jupyter.widget-view+json": {
       "model_id": "",
       "version_major": 2,
       "version_minor": 0
      },
      "text/plain": [
       "HBox(children=(IntProgress(value=0, description='method', max=2, style=ProgressStyle(description_width='initia…"
      ]
     },
     "metadata": {},
     "output_type": "display_data"
    },
    {
     "data": {
      "application/vnd.jupyter.widget-view+json": {
       "model_id": "",
       "version_major": 2,
       "version_minor": 0
      },
      "text/plain": [
       "HBox(children=(IntProgress(value=0, description='binary', max=2, style=ProgressStyle(description_width='initia…"
      ]
     },
     "metadata": {},
     "output_type": "display_data"
    },
    {
     "data": {
      "application/vnd.jupyter.widget-view+json": {
       "model_id": "",
       "version_major": 2,
       "version_minor": 0
      },
      "text/plain": [
       "HBox(children=(IntProgress(value=0, description='metric', max=3, style=ProgressStyle(description_width='initia…"
      ]
     },
     "metadata": {},
     "output_type": "display_data"
    },
    {
     "data": {
      "application/vnd.jupyter.widget-view+json": {
       "model_id": "",
       "version_major": 2,
       "version_minor": 0
      },
      "text/plain": [
       "HBox(children=(IntProgress(value=0, description='method', max=2, style=ProgressStyle(description_width='initia…"
      ]
     },
     "metadata": {},
     "output_type": "display_data"
    },
    {
     "data": {
      "application/vnd.jupyter.widget-view+json": {
       "model_id": "",
       "version_major": 2,
       "version_minor": 0
      },
      "text/plain": [
       "HBox(children=(IntProgress(value=0, description='method', max=2, style=ProgressStyle(description_width='initia…"
      ]
     },
     "metadata": {},
     "output_type": "display_data"
    },
    {
     "data": {
      "application/vnd.jupyter.widget-view+json": {
       "model_id": "",
       "version_major": 2,
       "version_minor": 0
      },
      "text/plain": [
       "HBox(children=(IntProgress(value=0, description='method', max=2, style=ProgressStyle(description_width='initia…"
      ]
     },
     "metadata": {},
     "output_type": "display_data"
    },
    {
     "data": {
      "application/vnd.jupyter.widget-view+json": {
       "model_id": "",
       "version_major": 2,
       "version_minor": 0
      },
      "text/plain": [
       "HBox(children=(IntProgress(value=0, description='metric', max=3, style=ProgressStyle(description_width='initia…"
      ]
     },
     "metadata": {},
     "output_type": "display_data"
    },
    {
     "data": {
      "application/vnd.jupyter.widget-view+json": {
       "model_id": "",
       "version_major": 2,
       "version_minor": 0
      },
      "text/plain": [
       "HBox(children=(IntProgress(value=0, description='method', max=2, style=ProgressStyle(description_width='initia…"
      ]
     },
     "metadata": {},
     "output_type": "display_data"
    },
    {
     "data": {
      "application/vnd.jupyter.widget-view+json": {
       "model_id": "",
       "version_major": 2,
       "version_minor": 0
      },
      "text/plain": [
       "HBox(children=(IntProgress(value=0, description='method', max=2, style=ProgressStyle(description_width='initia…"
      ]
     },
     "metadata": {},
     "output_type": "display_data"
    },
    {
     "data": {
      "application/vnd.jupyter.widget-view+json": {
       "model_id": "",
       "version_major": 2,
       "version_minor": 0
      },
      "text/plain": [
       "HBox(children=(IntProgress(value=0, description='method', max=2, style=ProgressStyle(description_width='initia…"
      ]
     },
     "metadata": {},
     "output_type": "display_data"
    },
    {
     "data": {
      "application/vnd.jupyter.widget-view+json": {
       "model_id": "",
       "version_major": 2,
       "version_minor": 0
      },
      "text/plain": [
       "HBox(children=(IntProgress(value=0, description='binary', max=2, style=ProgressStyle(description_width='initia…"
      ]
     },
     "metadata": {},
     "output_type": "display_data"
    },
    {
     "data": {
      "application/vnd.jupyter.widget-view+json": {
       "model_id": "",
       "version_major": 2,
       "version_minor": 0
      },
      "text/plain": [
       "HBox(children=(IntProgress(value=0, description='metric', max=3, style=ProgressStyle(description_width='initia…"
      ]
     },
     "metadata": {},
     "output_type": "display_data"
    },
    {
     "data": {
      "application/vnd.jupyter.widget-view+json": {
       "model_id": "",
       "version_major": 2,
       "version_minor": 0
      },
      "text/plain": [
       "HBox(children=(IntProgress(value=0, description='method', max=2, style=ProgressStyle(description_width='initia…"
      ]
     },
     "metadata": {},
     "output_type": "display_data"
    },
    {
     "data": {
      "application/vnd.jupyter.widget-view+json": {
       "model_id": "",
       "version_major": 2,
       "version_minor": 0
      },
      "text/plain": [
       "HBox(children=(IntProgress(value=0, description='method', max=2, style=ProgressStyle(description_width='initia…"
      ]
     },
     "metadata": {},
     "output_type": "display_data"
    },
    {
     "data": {
      "application/vnd.jupyter.widget-view+json": {
       "model_id": "",
       "version_major": 2,
       "version_minor": 0
      },
      "text/plain": [
       "HBox(children=(IntProgress(value=0, description='method', max=2, style=ProgressStyle(description_width='initia…"
      ]
     },
     "metadata": {},
     "output_type": "display_data"
    },
    {
     "data": {
      "application/vnd.jupyter.widget-view+json": {
       "model_id": "",
       "version_major": 2,
       "version_minor": 0
      },
      "text/plain": [
       "HBox(children=(IntProgress(value=0, description='metric', max=3, style=ProgressStyle(description_width='initia…"
      ]
     },
     "metadata": {},
     "output_type": "display_data"
    },
    {
     "data": {
      "application/vnd.jupyter.widget-view+json": {
       "model_id": "",
       "version_major": 2,
       "version_minor": 0
      },
      "text/plain": [
       "HBox(children=(IntProgress(value=0, description='method', max=2, style=ProgressStyle(description_width='initia…"
      ]
     },
     "metadata": {},
     "output_type": "display_data"
    },
    {
     "data": {
      "application/vnd.jupyter.widget-view+json": {
       "model_id": "",
       "version_major": 2,
       "version_minor": 0
      },
      "text/plain": [
       "HBox(children=(IntProgress(value=0, description='method', max=2, style=ProgressStyle(description_width='initia…"
      ]
     },
     "metadata": {},
     "output_type": "display_data"
    },
    {
     "data": {
      "application/vnd.jupyter.widget-view+json": {
       "model_id": "",
       "version_major": 2,
       "version_minor": 0
      },
      "text/plain": [
       "HBox(children=(IntProgress(value=0, description='method', max=2, style=ProgressStyle(description_width='initia…"
      ]
     },
     "metadata": {},
     "output_type": "display_data"
    },
    {
     "data": {
      "application/vnd.jupyter.widget-view+json": {
       "model_id": "",
       "version_major": 2,
       "version_minor": 0
      },
      "text/plain": [
       "HBox(children=(IntProgress(value=0, description='binary', max=2, style=ProgressStyle(description_width='initia…"
      ]
     },
     "metadata": {},
     "output_type": "display_data"
    },
    {
     "data": {
      "application/vnd.jupyter.widget-view+json": {
       "model_id": "",
       "version_major": 2,
       "version_minor": 0
      },
      "text/plain": [
       "HBox(children=(IntProgress(value=0, description='metric', max=3, style=ProgressStyle(description_width='initia…"
      ]
     },
     "metadata": {},
     "output_type": "display_data"
    },
    {
     "data": {
      "application/vnd.jupyter.widget-view+json": {
       "model_id": "",
       "version_major": 2,
       "version_minor": 0
      },
      "text/plain": [
       "HBox(children=(IntProgress(value=0, description='method', max=2, style=ProgressStyle(description_width='initia…"
      ]
     },
     "metadata": {},
     "output_type": "display_data"
    },
    {
     "data": {
      "application/vnd.jupyter.widget-view+json": {
       "model_id": "",
       "version_major": 2,
       "version_minor": 0
      },
      "text/plain": [
       "HBox(children=(IntProgress(value=0, description='method', max=2, style=ProgressStyle(description_width='initia…"
      ]
     },
     "metadata": {},
     "output_type": "display_data"
    },
    {
     "data": {
      "application/vnd.jupyter.widget-view+json": {
       "model_id": "",
       "version_major": 2,
       "version_minor": 0
      },
      "text/plain": [
       "HBox(children=(IntProgress(value=0, description='method', max=2, style=ProgressStyle(description_width='initia…"
      ]
     },
     "metadata": {},
     "output_type": "display_data"
    },
    {
     "data": {
      "application/vnd.jupyter.widget-view+json": {
       "model_id": "",
       "version_major": 2,
       "version_minor": 0
      },
      "text/plain": [
       "HBox(children=(IntProgress(value=0, description='metric', max=3, style=ProgressStyle(description_width='initia…"
      ]
     },
     "metadata": {},
     "output_type": "display_data"
    },
    {
     "data": {
      "application/vnd.jupyter.widget-view+json": {
       "model_id": "",
       "version_major": 2,
       "version_minor": 0
      },
      "text/plain": [
       "HBox(children=(IntProgress(value=0, description='method', max=2, style=ProgressStyle(description_width='initia…"
      ]
     },
     "metadata": {},
     "output_type": "display_data"
    },
    {
     "data": {
      "application/vnd.jupyter.widget-view+json": {
       "model_id": "",
       "version_major": 2,
       "version_minor": 0
      },
      "text/plain": [
       "HBox(children=(IntProgress(value=0, description='method', max=2, style=ProgressStyle(description_width='initia…"
      ]
     },
     "metadata": {},
     "output_type": "display_data"
    },
    {
     "data": {
      "application/vnd.jupyter.widget-view+json": {
       "model_id": "",
       "version_major": 2,
       "version_minor": 0
      },
      "text/plain": [
       "HBox(children=(IntProgress(value=0, description='method', max=2, style=ProgressStyle(description_width='initia…"
      ]
     },
     "metadata": {},
     "output_type": "display_data"
    },
    {
     "data": {
      "application/vnd.jupyter.widget-view+json": {
       "model_id": "",
       "version_major": 2,
       "version_minor": 0
      },
      "text/plain": [
       "HBox(children=(IntProgress(value=0, description='binary', max=2, style=ProgressStyle(description_width='initia…"
      ]
     },
     "metadata": {},
     "output_type": "display_data"
    },
    {
     "data": {
      "application/vnd.jupyter.widget-view+json": {
       "model_id": "",
       "version_major": 2,
       "version_minor": 0
      },
      "text/plain": [
       "HBox(children=(IntProgress(value=0, description='metric', max=3, style=ProgressStyle(description_width='initia…"
      ]
     },
     "metadata": {},
     "output_type": "display_data"
    },
    {
     "data": {
      "application/vnd.jupyter.widget-view+json": {
       "model_id": "",
       "version_major": 2,
       "version_minor": 0
      },
      "text/plain": [
       "HBox(children=(IntProgress(value=0, description='method', max=2, style=ProgressStyle(description_width='initia…"
      ]
     },
     "metadata": {},
     "output_type": "display_data"
    },
    {
     "data": {
      "application/vnd.jupyter.widget-view+json": {
       "model_id": "",
       "version_major": 2,
       "version_minor": 0
      },
      "text/plain": [
       "HBox(children=(IntProgress(value=0, description='method', max=2, style=ProgressStyle(description_width='initia…"
      ]
     },
     "metadata": {},
     "output_type": "display_data"
    },
    {
     "data": {
      "application/vnd.jupyter.widget-view+json": {
       "model_id": "",
       "version_major": 2,
       "version_minor": 0
      },
      "text/plain": [
       "HBox(children=(IntProgress(value=0, description='method', max=2, style=ProgressStyle(description_width='initia…"
      ]
     },
     "metadata": {},
     "output_type": "display_data"
    },
    {
     "data": {
      "application/vnd.jupyter.widget-view+json": {
       "model_id": "",
       "version_major": 2,
       "version_minor": 0
      },
      "text/plain": [
       "HBox(children=(IntProgress(value=0, description='metric', max=3, style=ProgressStyle(description_width='initia…"
      ]
     },
     "metadata": {},
     "output_type": "display_data"
    },
    {
     "data": {
      "application/vnd.jupyter.widget-view+json": {
       "model_id": "",
       "version_major": 2,
       "version_minor": 0
      },
      "text/plain": [
       "HBox(children=(IntProgress(value=0, description='method', max=2, style=ProgressStyle(description_width='initia…"
      ]
     },
     "metadata": {},
     "output_type": "display_data"
    },
    {
     "data": {
      "application/vnd.jupyter.widget-view+json": {
       "model_id": "",
       "version_major": 2,
       "version_minor": 0
      },
      "text/plain": [
       "HBox(children=(IntProgress(value=0, description='method', max=2, style=ProgressStyle(description_width='initia…"
      ]
     },
     "metadata": {},
     "output_type": "display_data"
    },
    {
     "data": {
      "application/vnd.jupyter.widget-view+json": {
       "model_id": "",
       "version_major": 2,
       "version_minor": 0
      },
      "text/plain": [
       "HBox(children=(IntProgress(value=0, description='method', max=2, style=ProgressStyle(description_width='initia…"
      ]
     },
     "metadata": {},
     "output_type": "display_data"
    },
    {
     "data": {
      "application/vnd.jupyter.widget-view+json": {
       "model_id": "",
       "version_major": 2,
       "version_minor": 0
      },
      "text/plain": [
       "HBox(children=(IntProgress(value=0, description='binary', max=2, style=ProgressStyle(description_width='initia…"
      ]
     },
     "metadata": {},
     "output_type": "display_data"
    },
    {
     "data": {
      "application/vnd.jupyter.widget-view+json": {
       "model_id": "",
       "version_major": 2,
       "version_minor": 0
      },
      "text/plain": [
       "HBox(children=(IntProgress(value=0, description='metric', max=3, style=ProgressStyle(description_width='initia…"
      ]
     },
     "metadata": {},
     "output_type": "display_data"
    },
    {
     "data": {
      "application/vnd.jupyter.widget-view+json": {
       "model_id": "",
       "version_major": 2,
       "version_minor": 0
      },
      "text/plain": [
       "HBox(children=(IntProgress(value=0, description='method', max=2, style=ProgressStyle(description_width='initia…"
      ]
     },
     "metadata": {},
     "output_type": "display_data"
    },
    {
     "data": {
      "application/vnd.jupyter.widget-view+json": {
       "model_id": "",
       "version_major": 2,
       "version_minor": 0
      },
      "text/plain": [
       "HBox(children=(IntProgress(value=0, description='method', max=2, style=ProgressStyle(description_width='initia…"
      ]
     },
     "metadata": {},
     "output_type": "display_data"
    },
    {
     "data": {
      "application/vnd.jupyter.widget-view+json": {
       "model_id": "",
       "version_major": 2,
       "version_minor": 0
      },
      "text/plain": [
       "HBox(children=(IntProgress(value=0, description='method', max=2, style=ProgressStyle(description_width='initia…"
      ]
     },
     "metadata": {},
     "output_type": "display_data"
    },
    {
     "data": {
      "application/vnd.jupyter.widget-view+json": {
       "model_id": "",
       "version_major": 2,
       "version_minor": 0
      },
      "text/plain": [
       "HBox(children=(IntProgress(value=0, description='metric', max=3, style=ProgressStyle(description_width='initia…"
      ]
     },
     "metadata": {},
     "output_type": "display_data"
    },
    {
     "data": {
      "application/vnd.jupyter.widget-view+json": {
       "model_id": "",
       "version_major": 2,
       "version_minor": 0
      },
      "text/plain": [
       "HBox(children=(IntProgress(value=0, description='method', max=2, style=ProgressStyle(description_width='initia…"
      ]
     },
     "metadata": {},
     "output_type": "display_data"
    },
    {
     "data": {
      "application/vnd.jupyter.widget-view+json": {
       "model_id": "",
       "version_major": 2,
       "version_minor": 0
      },
      "text/plain": [
       "HBox(children=(IntProgress(value=0, description='method', max=2, style=ProgressStyle(description_width='initia…"
      ]
     },
     "metadata": {},
     "output_type": "display_data"
    },
    {
     "data": {
      "application/vnd.jupyter.widget-view+json": {
       "model_id": "",
       "version_major": 2,
       "version_minor": 0
      },
      "text/plain": [
       "HBox(children=(IntProgress(value=0, description='method', max=2, style=ProgressStyle(description_width='initia…"
      ]
     },
     "metadata": {},
     "output_type": "display_data"
    },
    {
     "data": {
      "application/vnd.jupyter.widget-view+json": {
       "model_id": "",
       "version_major": 2,
       "version_minor": 0
      },
      "text/plain": [
       "HBox(children=(IntProgress(value=0, description='min_df', max=9, style=ProgressStyle(description_width='initia…"
      ]
     },
     "metadata": {},
     "output_type": "display_data"
    },
    {
     "data": {
      "application/vnd.jupyter.widget-view+json": {
       "model_id": "",
       "version_major": 2,
       "version_minor": 0
      },
      "text/plain": [
       "HBox(children=(IntProgress(value=0, description='binary', max=2, style=ProgressStyle(description_width='initia…"
      ]
     },
     "metadata": {},
     "output_type": "display_data"
    },
    {
     "data": {
      "application/vnd.jupyter.widget-view+json": {
       "model_id": "",
       "version_major": 2,
       "version_minor": 0
      },
      "text/plain": [
       "HBox(children=(IntProgress(value=0, description='metric', max=3, style=ProgressStyle(description_width='initia…"
      ]
     },
     "metadata": {},
     "output_type": "display_data"
    },
    {
     "data": {
      "application/vnd.jupyter.widget-view+json": {
       "model_id": "",
       "version_major": 2,
       "version_minor": 0
      },
      "text/plain": [
       "HBox(children=(IntProgress(value=0, description='method', max=2, style=ProgressStyle(description_width='initia…"
      ]
     },
     "metadata": {},
     "output_type": "display_data"
    },
    {
     "data": {
      "application/vnd.jupyter.widget-view+json": {
       "model_id": "",
       "version_major": 2,
       "version_minor": 0
      },
      "text/plain": [
       "HBox(children=(IntProgress(value=0, description='method', max=2, style=ProgressStyle(description_width='initia…"
      ]
     },
     "metadata": {},
     "output_type": "display_data"
    },
    {
     "data": {
      "application/vnd.jupyter.widget-view+json": {
       "model_id": "",
       "version_major": 2,
       "version_minor": 0
      },
      "text/plain": [
       "HBox(children=(IntProgress(value=0, description='method', max=2, style=ProgressStyle(description_width='initia…"
      ]
     },
     "metadata": {},
     "output_type": "display_data"
    },
    {
     "data": {
      "application/vnd.jupyter.widget-view+json": {
       "model_id": "",
       "version_major": 2,
       "version_minor": 0
      },
      "text/plain": [
       "HBox(children=(IntProgress(value=0, description='metric', max=3, style=ProgressStyle(description_width='initia…"
      ]
     },
     "metadata": {},
     "output_type": "display_data"
    },
    {
     "data": {
      "application/vnd.jupyter.widget-view+json": {
       "model_id": "",
       "version_major": 2,
       "version_minor": 0
      },
      "text/plain": [
       "HBox(children=(IntProgress(value=0, description='method', max=2, style=ProgressStyle(description_width='initia…"
      ]
     },
     "metadata": {},
     "output_type": "display_data"
    },
    {
     "data": {
      "application/vnd.jupyter.widget-view+json": {
       "model_id": "",
       "version_major": 2,
       "version_minor": 0
      },
      "text/plain": [
       "HBox(children=(IntProgress(value=0, description='method', max=2, style=ProgressStyle(description_width='initia…"
      ]
     },
     "metadata": {},
     "output_type": "display_data"
    },
    {
     "data": {
      "application/vnd.jupyter.widget-view+json": {
       "model_id": "",
       "version_major": 2,
       "version_minor": 0
      },
      "text/plain": [
       "HBox(children=(IntProgress(value=0, description='method', max=2, style=ProgressStyle(description_width='initia…"
      ]
     },
     "metadata": {},
     "output_type": "display_data"
    },
    {
     "data": {
      "application/vnd.jupyter.widget-view+json": {
       "model_id": "",
       "version_major": 2,
       "version_minor": 0
      },
      "text/plain": [
       "HBox(children=(IntProgress(value=0, description='binary', max=2, style=ProgressStyle(description_width='initia…"
      ]
     },
     "metadata": {},
     "output_type": "display_data"
    },
    {
     "data": {
      "application/vnd.jupyter.widget-view+json": {
       "model_id": "",
       "version_major": 2,
       "version_minor": 0
      },
      "text/plain": [
       "HBox(children=(IntProgress(value=0, description='metric', max=3, style=ProgressStyle(description_width='initia…"
      ]
     },
     "metadata": {},
     "output_type": "display_data"
    },
    {
     "data": {
      "application/vnd.jupyter.widget-view+json": {
       "model_id": "",
       "version_major": 2,
       "version_minor": 0
      },
      "text/plain": [
       "HBox(children=(IntProgress(value=0, description='method', max=2, style=ProgressStyle(description_width='initia…"
      ]
     },
     "metadata": {},
     "output_type": "display_data"
    },
    {
     "data": {
      "application/vnd.jupyter.widget-view+json": {
       "model_id": "",
       "version_major": 2,
       "version_minor": 0
      },
      "text/plain": [
       "HBox(children=(IntProgress(value=0, description='method', max=2, style=ProgressStyle(description_width='initia…"
      ]
     },
     "metadata": {},
     "output_type": "display_data"
    },
    {
     "data": {
      "application/vnd.jupyter.widget-view+json": {
       "model_id": "",
       "version_major": 2,
       "version_minor": 0
      },
      "text/plain": [
       "HBox(children=(IntProgress(value=0, description='method', max=2, style=ProgressStyle(description_width='initia…"
      ]
     },
     "metadata": {},
     "output_type": "display_data"
    },
    {
     "data": {
      "application/vnd.jupyter.widget-view+json": {
       "model_id": "",
       "version_major": 2,
       "version_minor": 0
      },
      "text/plain": [
       "HBox(children=(IntProgress(value=0, description='metric', max=3, style=ProgressStyle(description_width='initia…"
      ]
     },
     "metadata": {},
     "output_type": "display_data"
    },
    {
     "data": {
      "application/vnd.jupyter.widget-view+json": {
       "model_id": "",
       "version_major": 2,
       "version_minor": 0
      },
      "text/plain": [
       "HBox(children=(IntProgress(value=0, description='method', max=2, style=ProgressStyle(description_width='initia…"
      ]
     },
     "metadata": {},
     "output_type": "display_data"
    },
    {
     "data": {
      "application/vnd.jupyter.widget-view+json": {
       "model_id": "",
       "version_major": 2,
       "version_minor": 0
      },
      "text/plain": [
       "HBox(children=(IntProgress(value=0, description='method', max=2, style=ProgressStyle(description_width='initia…"
      ]
     },
     "metadata": {},
     "output_type": "display_data"
    },
    {
     "data": {
      "application/vnd.jupyter.widget-view+json": {
       "model_id": "",
       "version_major": 2,
       "version_minor": 0
      },
      "text/plain": [
       "HBox(children=(IntProgress(value=0, description='method', max=2, style=ProgressStyle(description_width='initia…"
      ]
     },
     "metadata": {},
     "output_type": "display_data"
    },
    {
     "data": {
      "application/vnd.jupyter.widget-view+json": {
       "model_id": "",
       "version_major": 2,
       "version_minor": 0
      },
      "text/plain": [
       "HBox(children=(IntProgress(value=0, description='binary', max=2, style=ProgressStyle(description_width='initia…"
      ]
     },
     "metadata": {},
     "output_type": "display_data"
    },
    {
     "data": {
      "application/vnd.jupyter.widget-view+json": {
       "model_id": "",
       "version_major": 2,
       "version_minor": 0
      },
      "text/plain": [
       "HBox(children=(IntProgress(value=0, description='metric', max=3, style=ProgressStyle(description_width='initia…"
      ]
     },
     "metadata": {},
     "output_type": "display_data"
    },
    {
     "data": {
      "application/vnd.jupyter.widget-view+json": {
       "model_id": "",
       "version_major": 2,
       "version_minor": 0
      },
      "text/plain": [
       "HBox(children=(IntProgress(value=0, description='method', max=2, style=ProgressStyle(description_width='initia…"
      ]
     },
     "metadata": {},
     "output_type": "display_data"
    },
    {
     "data": {
      "application/vnd.jupyter.widget-view+json": {
       "model_id": "",
       "version_major": 2,
       "version_minor": 0
      },
      "text/plain": [
       "HBox(children=(IntProgress(value=0, description='method', max=2, style=ProgressStyle(description_width='initia…"
      ]
     },
     "metadata": {},
     "output_type": "display_data"
    },
    {
     "data": {
      "application/vnd.jupyter.widget-view+json": {
       "model_id": "",
       "version_major": 2,
       "version_minor": 0
      },
      "text/plain": [
       "HBox(children=(IntProgress(value=0, description='method', max=2, style=ProgressStyle(description_width='initia…"
      ]
     },
     "metadata": {},
     "output_type": "display_data"
    },
    {
     "data": {
      "application/vnd.jupyter.widget-view+json": {
       "model_id": "",
       "version_major": 2,
       "version_minor": 0
      },
      "text/plain": [
       "HBox(children=(IntProgress(value=0, description='metric', max=3, style=ProgressStyle(description_width='initia…"
      ]
     },
     "metadata": {},
     "output_type": "display_data"
    },
    {
     "data": {
      "application/vnd.jupyter.widget-view+json": {
       "model_id": "",
       "version_major": 2,
       "version_minor": 0
      },
      "text/plain": [
       "HBox(children=(IntProgress(value=0, description='method', max=2, style=ProgressStyle(description_width='initia…"
      ]
     },
     "metadata": {},
     "output_type": "display_data"
    },
    {
     "data": {
      "application/vnd.jupyter.widget-view+json": {
       "model_id": "",
       "version_major": 2,
       "version_minor": 0
      },
      "text/plain": [
       "HBox(children=(IntProgress(value=0, description='method', max=2, style=ProgressStyle(description_width='initia…"
      ]
     },
     "metadata": {},
     "output_type": "display_data"
    },
    {
     "data": {
      "application/vnd.jupyter.widget-view+json": {
       "model_id": "",
       "version_major": 2,
       "version_minor": 0
      },
      "text/plain": [
       "HBox(children=(IntProgress(value=0, description='method', max=2, style=ProgressStyle(description_width='initia…"
      ]
     },
     "metadata": {},
     "output_type": "display_data"
    },
    {
     "data": {
      "application/vnd.jupyter.widget-view+json": {
       "model_id": "",
       "version_major": 2,
       "version_minor": 0
      },
      "text/plain": [
       "HBox(children=(IntProgress(value=0, description='binary', max=2, style=ProgressStyle(description_width='initia…"
      ]
     },
     "metadata": {},
     "output_type": "display_data"
    },
    {
     "data": {
      "application/vnd.jupyter.widget-view+json": {
       "model_id": "",
       "version_major": 2,
       "version_minor": 0
      },
      "text/plain": [
       "HBox(children=(IntProgress(value=0, description='metric', max=3, style=ProgressStyle(description_width='initia…"
      ]
     },
     "metadata": {},
     "output_type": "display_data"
    },
    {
     "data": {
      "application/vnd.jupyter.widget-view+json": {
       "model_id": "",
       "version_major": 2,
       "version_minor": 0
      },
      "text/plain": [
       "HBox(children=(IntProgress(value=0, description='method', max=2, style=ProgressStyle(description_width='initia…"
      ]
     },
     "metadata": {},
     "output_type": "display_data"
    },
    {
     "data": {
      "application/vnd.jupyter.widget-view+json": {
       "model_id": "",
       "version_major": 2,
       "version_minor": 0
      },
      "text/plain": [
       "HBox(children=(IntProgress(value=0, description='method', max=2, style=ProgressStyle(description_width='initia…"
      ]
     },
     "metadata": {},
     "output_type": "display_data"
    },
    {
     "data": {
      "application/vnd.jupyter.widget-view+json": {
       "model_id": "",
       "version_major": 2,
       "version_minor": 0
      },
      "text/plain": [
       "HBox(children=(IntProgress(value=0, description='method', max=2, style=ProgressStyle(description_width='initia…"
      ]
     },
     "metadata": {},
     "output_type": "display_data"
    },
    {
     "data": {
      "application/vnd.jupyter.widget-view+json": {
       "model_id": "",
       "version_major": 2,
       "version_minor": 0
      },
      "text/plain": [
       "HBox(children=(IntProgress(value=0, description='metric', max=3, style=ProgressStyle(description_width='initia…"
      ]
     },
     "metadata": {},
     "output_type": "display_data"
    },
    {
     "data": {
      "application/vnd.jupyter.widget-view+json": {
       "model_id": "",
       "version_major": 2,
       "version_minor": 0
      },
      "text/plain": [
       "HBox(children=(IntProgress(value=0, description='method', max=2, style=ProgressStyle(description_width='initia…"
      ]
     },
     "metadata": {},
     "output_type": "display_data"
    },
    {
     "data": {
      "application/vnd.jupyter.widget-view+json": {
       "model_id": "",
       "version_major": 2,
       "version_minor": 0
      },
      "text/plain": [
       "HBox(children=(IntProgress(value=0, description='method', max=2, style=ProgressStyle(description_width='initia…"
      ]
     },
     "metadata": {},
     "output_type": "display_data"
    },
    {
     "data": {
      "application/vnd.jupyter.widget-view+json": {
       "model_id": "",
       "version_major": 2,
       "version_minor": 0
      },
      "text/plain": [
       "HBox(children=(IntProgress(value=0, description='method', max=2, style=ProgressStyle(description_width='initia…"
      ]
     },
     "metadata": {},
     "output_type": "display_data"
    },
    {
     "data": {
      "application/vnd.jupyter.widget-view+json": {
       "model_id": "",
       "version_major": 2,
       "version_minor": 0
      },
      "text/plain": [
       "HBox(children=(IntProgress(value=0, description='binary', max=2, style=ProgressStyle(description_width='initia…"
      ]
     },
     "metadata": {},
     "output_type": "display_data"
    },
    {
     "data": {
      "application/vnd.jupyter.widget-view+json": {
       "model_id": "",
       "version_major": 2,
       "version_minor": 0
      },
      "text/plain": [
       "HBox(children=(IntProgress(value=0, description='metric', max=3, style=ProgressStyle(description_width='initia…"
      ]
     },
     "metadata": {},
     "output_type": "display_data"
    },
    {
     "data": {
      "application/vnd.jupyter.widget-view+json": {
       "model_id": "",
       "version_major": 2,
       "version_minor": 0
      },
      "text/plain": [
       "HBox(children=(IntProgress(value=0, description='method', max=2, style=ProgressStyle(description_width='initia…"
      ]
     },
     "metadata": {},
     "output_type": "display_data"
    },
    {
     "data": {
      "application/vnd.jupyter.widget-view+json": {
       "model_id": "",
       "version_major": 2,
       "version_minor": 0
      },
      "text/plain": [
       "HBox(children=(IntProgress(value=0, description='method', max=2, style=ProgressStyle(description_width='initia…"
      ]
     },
     "metadata": {},
     "output_type": "display_data"
    },
    {
     "data": {
      "application/vnd.jupyter.widget-view+json": {
       "model_id": "",
       "version_major": 2,
       "version_minor": 0
      },
      "text/plain": [
       "HBox(children=(IntProgress(value=0, description='method', max=2, style=ProgressStyle(description_width='initia…"
      ]
     },
     "metadata": {},
     "output_type": "display_data"
    },
    {
     "data": {
      "application/vnd.jupyter.widget-view+json": {
       "model_id": "",
       "version_major": 2,
       "version_minor": 0
      },
      "text/plain": [
       "HBox(children=(IntProgress(value=0, description='metric', max=3, style=ProgressStyle(description_width='initia…"
      ]
     },
     "metadata": {},
     "output_type": "display_data"
    },
    {
     "data": {
      "application/vnd.jupyter.widget-view+json": {
       "model_id": "",
       "version_major": 2,
       "version_minor": 0
      },
      "text/plain": [
       "HBox(children=(IntProgress(value=0, description='method', max=2, style=ProgressStyle(description_width='initia…"
      ]
     },
     "metadata": {},
     "output_type": "display_data"
    },
    {
     "data": {
      "application/vnd.jupyter.widget-view+json": {
       "model_id": "",
       "version_major": 2,
       "version_minor": 0
      },
      "text/plain": [
       "HBox(children=(IntProgress(value=0, description='method', max=2, style=ProgressStyle(description_width='initia…"
      ]
     },
     "metadata": {},
     "output_type": "display_data"
    },
    {
     "data": {
      "application/vnd.jupyter.widget-view+json": {
       "model_id": "",
       "version_major": 2,
       "version_minor": 0
      },
      "text/plain": [
       "HBox(children=(IntProgress(value=0, description='method', max=2, style=ProgressStyle(description_width='initia…"
      ]
     },
     "metadata": {},
     "output_type": "display_data"
    },
    {
     "data": {
      "application/vnd.jupyter.widget-view+json": {
       "model_id": "",
       "version_major": 2,
       "version_minor": 0
      },
      "text/plain": [
       "HBox(children=(IntProgress(value=0, description='binary', max=2, style=ProgressStyle(description_width='initia…"
      ]
     },
     "metadata": {},
     "output_type": "display_data"
    },
    {
     "data": {
      "application/vnd.jupyter.widget-view+json": {
       "model_id": "",
       "version_major": 2,
       "version_minor": 0
      },
      "text/plain": [
       "HBox(children=(IntProgress(value=0, description='metric', max=3, style=ProgressStyle(description_width='initia…"
      ]
     },
     "metadata": {},
     "output_type": "display_data"
    },
    {
     "data": {
      "application/vnd.jupyter.widget-view+json": {
       "model_id": "",
       "version_major": 2,
       "version_minor": 0
      },
      "text/plain": [
       "HBox(children=(IntProgress(value=0, description='method', max=2, style=ProgressStyle(description_width='initia…"
      ]
     },
     "metadata": {},
     "output_type": "display_data"
    },
    {
     "data": {
      "application/vnd.jupyter.widget-view+json": {
       "model_id": "",
       "version_major": 2,
       "version_minor": 0
      },
      "text/plain": [
       "HBox(children=(IntProgress(value=0, description='method', max=2, style=ProgressStyle(description_width='initia…"
      ]
     },
     "metadata": {},
     "output_type": "display_data"
    },
    {
     "data": {
      "application/vnd.jupyter.widget-view+json": {
       "model_id": "",
       "version_major": 2,
       "version_minor": 0
      },
      "text/plain": [
       "HBox(children=(IntProgress(value=0, description='method', max=2, style=ProgressStyle(description_width='initia…"
      ]
     },
     "metadata": {},
     "output_type": "display_data"
    },
    {
     "data": {
      "application/vnd.jupyter.widget-view+json": {
       "model_id": "",
       "version_major": 2,
       "version_minor": 0
      },
      "text/plain": [
       "HBox(children=(IntProgress(value=0, description='metric', max=3, style=ProgressStyle(description_width='initia…"
      ]
     },
     "metadata": {},
     "output_type": "display_data"
    },
    {
     "data": {
      "application/vnd.jupyter.widget-view+json": {
       "model_id": "",
       "version_major": 2,
       "version_minor": 0
      },
      "text/plain": [
       "HBox(children=(IntProgress(value=0, description='method', max=2, style=ProgressStyle(description_width='initia…"
      ]
     },
     "metadata": {},
     "output_type": "display_data"
    },
    {
     "data": {
      "application/vnd.jupyter.widget-view+json": {
       "model_id": "",
       "version_major": 2,
       "version_minor": 0
      },
      "text/plain": [
       "HBox(children=(IntProgress(value=0, description='method', max=2, style=ProgressStyle(description_width='initia…"
      ]
     },
     "metadata": {},
     "output_type": "display_data"
    },
    {
     "data": {
      "application/vnd.jupyter.widget-view+json": {
       "model_id": "",
       "version_major": 2,
       "version_minor": 0
      },
      "text/plain": [
       "HBox(children=(IntProgress(value=0, description='method', max=2, style=ProgressStyle(description_width='initia…"
      ]
     },
     "metadata": {},
     "output_type": "display_data"
    },
    {
     "data": {
      "application/vnd.jupyter.widget-view+json": {
       "model_id": "",
       "version_major": 2,
       "version_minor": 0
      },
      "text/plain": [
       "HBox(children=(IntProgress(value=0, description='binary', max=2, style=ProgressStyle(description_width='initia…"
      ]
     },
     "metadata": {},
     "output_type": "display_data"
    },
    {
     "data": {
      "application/vnd.jupyter.widget-view+json": {
       "model_id": "",
       "version_major": 2,
       "version_minor": 0
      },
      "text/plain": [
       "HBox(children=(IntProgress(value=0, description='metric', max=3, style=ProgressStyle(description_width='initia…"
      ]
     },
     "metadata": {},
     "output_type": "display_data"
    },
    {
     "data": {
      "application/vnd.jupyter.widget-view+json": {
       "model_id": "",
       "version_major": 2,
       "version_minor": 0
      },
      "text/plain": [
       "HBox(children=(IntProgress(value=0, description='method', max=2, style=ProgressStyle(description_width='initia…"
      ]
     },
     "metadata": {},
     "output_type": "display_data"
    },
    {
     "data": {
      "application/vnd.jupyter.widget-view+json": {
       "model_id": "",
       "version_major": 2,
       "version_minor": 0
      },
      "text/plain": [
       "HBox(children=(IntProgress(value=0, description='method', max=2, style=ProgressStyle(description_width='initia…"
      ]
     },
     "metadata": {},
     "output_type": "display_data"
    },
    {
     "data": {
      "application/vnd.jupyter.widget-view+json": {
       "model_id": "",
       "version_major": 2,
       "version_minor": 0
      },
      "text/plain": [
       "HBox(children=(IntProgress(value=0, description='method', max=2, style=ProgressStyle(description_width='initia…"
      ]
     },
     "metadata": {},
     "output_type": "display_data"
    },
    {
     "data": {
      "application/vnd.jupyter.widget-view+json": {
       "model_id": "",
       "version_major": 2,
       "version_minor": 0
      },
      "text/plain": [
       "HBox(children=(IntProgress(value=0, description='metric', max=3, style=ProgressStyle(description_width='initia…"
      ]
     },
     "metadata": {},
     "output_type": "display_data"
    },
    {
     "data": {
      "application/vnd.jupyter.widget-view+json": {
       "model_id": "",
       "version_major": 2,
       "version_minor": 0
      },
      "text/plain": [
       "HBox(children=(IntProgress(value=0, description='method', max=2, style=ProgressStyle(description_width='initia…"
      ]
     },
     "metadata": {},
     "output_type": "display_data"
    },
    {
     "data": {
      "application/vnd.jupyter.widget-view+json": {
       "model_id": "",
       "version_major": 2,
       "version_minor": 0
      },
      "text/plain": [
       "HBox(children=(IntProgress(value=0, description='method', max=2, style=ProgressStyle(description_width='initia…"
      ]
     },
     "metadata": {},
     "output_type": "display_data"
    },
    {
     "data": {
      "application/vnd.jupyter.widget-view+json": {
       "model_id": "",
       "version_major": 2,
       "version_minor": 0
      },
      "text/plain": [
       "HBox(children=(IntProgress(value=0, description='method', max=2, style=ProgressStyle(description_width='initia…"
      ]
     },
     "metadata": {},
     "output_type": "display_data"
    },
    {
     "data": {
      "application/vnd.jupyter.widget-view+json": {
       "model_id": "",
       "version_major": 2,
       "version_minor": 0
      },
      "text/plain": [
       "HBox(children=(IntProgress(value=0, description='binary', max=2, style=ProgressStyle(description_width='initia…"
      ]
     },
     "metadata": {},
     "output_type": "display_data"
    },
    {
     "data": {
      "application/vnd.jupyter.widget-view+json": {
       "model_id": "",
       "version_major": 2,
       "version_minor": 0
      },
      "text/plain": [
       "HBox(children=(IntProgress(value=0, description='metric', max=3, style=ProgressStyle(description_width='initia…"
      ]
     },
     "metadata": {},
     "output_type": "display_data"
    },
    {
     "data": {
      "application/vnd.jupyter.widget-view+json": {
       "model_id": "",
       "version_major": 2,
       "version_minor": 0
      },
      "text/plain": [
       "HBox(children=(IntProgress(value=0, description='method', max=2, style=ProgressStyle(description_width='initia…"
      ]
     },
     "metadata": {},
     "output_type": "display_data"
    },
    {
     "data": {
      "application/vnd.jupyter.widget-view+json": {
       "model_id": "",
       "version_major": 2,
       "version_minor": 0
      },
      "text/plain": [
       "HBox(children=(IntProgress(value=0, description='method', max=2, style=ProgressStyle(description_width='initia…"
      ]
     },
     "metadata": {},
     "output_type": "display_data"
    },
    {
     "data": {
      "application/vnd.jupyter.widget-view+json": {
       "model_id": "",
       "version_major": 2,
       "version_minor": 0
      },
      "text/plain": [
       "HBox(children=(IntProgress(value=0, description='method', max=2, style=ProgressStyle(description_width='initia…"
      ]
     },
     "metadata": {},
     "output_type": "display_data"
    },
    {
     "data": {
      "application/vnd.jupyter.widget-view+json": {
       "model_id": "",
       "version_major": 2,
       "version_minor": 0
      },
      "text/plain": [
       "HBox(children=(IntProgress(value=0, description='metric', max=3, style=ProgressStyle(description_width='initia…"
      ]
     },
     "metadata": {},
     "output_type": "display_data"
    },
    {
     "data": {
      "application/vnd.jupyter.widget-view+json": {
       "model_id": "",
       "version_major": 2,
       "version_minor": 0
      },
      "text/plain": [
       "HBox(children=(IntProgress(value=0, description='method', max=2, style=ProgressStyle(description_width='initia…"
      ]
     },
     "metadata": {},
     "output_type": "display_data"
    },
    {
     "data": {
      "application/vnd.jupyter.widget-view+json": {
       "model_id": "",
       "version_major": 2,
       "version_minor": 0
      },
      "text/plain": [
       "HBox(children=(IntProgress(value=0, description='method', max=2, style=ProgressStyle(description_width='initia…"
      ]
     },
     "metadata": {},
     "output_type": "display_data"
    },
    {
     "data": {
      "application/vnd.jupyter.widget-view+json": {
       "model_id": "",
       "version_major": 2,
       "version_minor": 0
      },
      "text/plain": [
       "HBox(children=(IntProgress(value=0, description='method', max=2, style=ProgressStyle(description_width='initia…"
      ]
     },
     "metadata": {},
     "output_type": "display_data"
    },
    {
     "data": {
      "application/vnd.jupyter.widget-view+json": {
       "model_id": "",
       "version_major": 2,
       "version_minor": 0
      },
      "text/plain": [
       "HBox(children=(IntProgress(value=0, description='binary', max=2, style=ProgressStyle(description_width='initia…"
      ]
     },
     "metadata": {},
     "output_type": "display_data"
    },
    {
     "data": {
      "application/vnd.jupyter.widget-view+json": {
       "model_id": "",
       "version_major": 2,
       "version_minor": 0
      },
      "text/plain": [
       "HBox(children=(IntProgress(value=0, description='metric', max=3, style=ProgressStyle(description_width='initia…"
      ]
     },
     "metadata": {},
     "output_type": "display_data"
    },
    {
     "data": {
      "application/vnd.jupyter.widget-view+json": {
       "model_id": "",
       "version_major": 2,
       "version_minor": 0
      },
      "text/plain": [
       "HBox(children=(IntProgress(value=0, description='method', max=2, style=ProgressStyle(description_width='initia…"
      ]
     },
     "metadata": {},
     "output_type": "display_data"
    },
    {
     "data": {
      "application/vnd.jupyter.widget-view+json": {
       "model_id": "",
       "version_major": 2,
       "version_minor": 0
      },
      "text/plain": [
       "HBox(children=(IntProgress(value=0, description='method', max=2, style=ProgressStyle(description_width='initia…"
      ]
     },
     "metadata": {},
     "output_type": "display_data"
    },
    {
     "data": {
      "application/vnd.jupyter.widget-view+json": {
       "model_id": "",
       "version_major": 2,
       "version_minor": 0
      },
      "text/plain": [
       "HBox(children=(IntProgress(value=0, description='method', max=2, style=ProgressStyle(description_width='initia…"
      ]
     },
     "metadata": {},
     "output_type": "display_data"
    },
    {
     "data": {
      "application/vnd.jupyter.widget-view+json": {
       "model_id": "",
       "version_major": 2,
       "version_minor": 0
      },
      "text/plain": [
       "HBox(children=(IntProgress(value=0, description='metric', max=3, style=ProgressStyle(description_width='initia…"
      ]
     },
     "metadata": {},
     "output_type": "display_data"
    },
    {
     "data": {
      "application/vnd.jupyter.widget-view+json": {
       "model_id": "",
       "version_major": 2,
       "version_minor": 0
      },
      "text/plain": [
       "HBox(children=(IntProgress(value=0, description='method', max=2, style=ProgressStyle(description_width='initia…"
      ]
     },
     "metadata": {},
     "output_type": "display_data"
    },
    {
     "data": {
      "application/vnd.jupyter.widget-view+json": {
       "model_id": "",
       "version_major": 2,
       "version_minor": 0
      },
      "text/plain": [
       "HBox(children=(IntProgress(value=0, description='method', max=2, style=ProgressStyle(description_width='initia…"
      ]
     },
     "metadata": {},
     "output_type": "display_data"
    },
    {
     "data": {
      "application/vnd.jupyter.widget-view+json": {
       "model_id": "",
       "version_major": 2,
       "version_minor": 0
      },
      "text/plain": [
       "HBox(children=(IntProgress(value=0, description='method', max=2, style=ProgressStyle(description_width='initia…"
      ]
     },
     "metadata": {},
     "output_type": "display_data"
    },
    {
     "data": {
      "application/vnd.jupyter.widget-view+json": {
       "model_id": "",
       "version_major": 2,
       "version_minor": 0
      },
      "text/plain": [
       "HBox(children=(IntProgress(value=0, description='vectorizer', max=3, style=ProgressStyle(description_width='in…"
      ]
     },
     "metadata": {},
     "output_type": "display_data"
    },
    {
     "data": {
      "application/vnd.jupyter.widget-view+json": {
       "model_id": "",
       "version_major": 2,
       "version_minor": 0
      },
      "text/plain": [
       "HBox(children=(IntProgress(value=0, description='min_df', max=9, style=ProgressStyle(description_width='initia…"
      ]
     },
     "metadata": {},
     "output_type": "display_data"
    },
    {
     "data": {
      "application/vnd.jupyter.widget-view+json": {
       "model_id": "",
       "version_major": 2,
       "version_minor": 0
      },
      "text/plain": [
       "HBox(children=(IntProgress(value=0, description='binary', max=2, style=ProgressStyle(description_width='initia…"
      ]
     },
     "metadata": {},
     "output_type": "display_data"
    },
    {
     "data": {
      "application/vnd.jupyter.widget-view+json": {
       "model_id": "",
       "version_major": 2,
       "version_minor": 0
      },
      "text/plain": [
       "HBox(children=(IntProgress(value=0, description='metric', max=3, style=ProgressStyle(description_width='initia…"
      ]
     },
     "metadata": {},
     "output_type": "display_data"
    },
    {
     "data": {
      "application/vnd.jupyter.widget-view+json": {
       "model_id": "",
       "version_major": 2,
       "version_minor": 0
      },
      "text/plain": [
       "HBox(children=(IntProgress(value=0, description='method', max=2, style=ProgressStyle(description_width='initia…"
      ]
     },
     "metadata": {},
     "output_type": "display_data"
    },
    {
     "data": {
      "application/vnd.jupyter.widget-view+json": {
       "model_id": "",
       "version_major": 2,
       "version_minor": 0
      },
      "text/plain": [
       "HBox(children=(IntProgress(value=0, description='method', max=2, style=ProgressStyle(description_width='initia…"
      ]
     },
     "metadata": {},
     "output_type": "display_data"
    },
    {
     "data": {
      "application/vnd.jupyter.widget-view+json": {
       "model_id": "",
       "version_major": 2,
       "version_minor": 0
      },
      "text/plain": [
       "HBox(children=(IntProgress(value=0, description='method', max=2, style=ProgressStyle(description_width='initia…"
      ]
     },
     "metadata": {},
     "output_type": "display_data"
    },
    {
     "data": {
      "application/vnd.jupyter.widget-view+json": {
       "model_id": "",
       "version_major": 2,
       "version_minor": 0
      },
      "text/plain": [
       "HBox(children=(IntProgress(value=0, description='metric', max=3, style=ProgressStyle(description_width='initia…"
      ]
     },
     "metadata": {},
     "output_type": "display_data"
    },
    {
     "data": {
      "application/vnd.jupyter.widget-view+json": {
       "model_id": "",
       "version_major": 2,
       "version_minor": 0
      },
      "text/plain": [
       "HBox(children=(IntProgress(value=0, description='method', max=2, style=ProgressStyle(description_width='initia…"
      ]
     },
     "metadata": {},
     "output_type": "display_data"
    },
    {
     "data": {
      "application/vnd.jupyter.widget-view+json": {
       "model_id": "",
       "version_major": 2,
       "version_minor": 0
      },
      "text/plain": [
       "HBox(children=(IntProgress(value=0, description='method', max=2, style=ProgressStyle(description_width='initia…"
      ]
     },
     "metadata": {},
     "output_type": "display_data"
    },
    {
     "data": {
      "application/vnd.jupyter.widget-view+json": {
       "model_id": "",
       "version_major": 2,
       "version_minor": 0
      },
      "text/plain": [
       "HBox(children=(IntProgress(value=0, description='method', max=2, style=ProgressStyle(description_width='initia…"
      ]
     },
     "metadata": {},
     "output_type": "display_data"
    },
    {
     "data": {
      "application/vnd.jupyter.widget-view+json": {
       "model_id": "",
       "version_major": 2,
       "version_minor": 0
      },
      "text/plain": [
       "HBox(children=(IntProgress(value=0, description='binary', max=2, style=ProgressStyle(description_width='initia…"
      ]
     },
     "metadata": {},
     "output_type": "display_data"
    },
    {
     "data": {
      "application/vnd.jupyter.widget-view+json": {
       "model_id": "",
       "version_major": 2,
       "version_minor": 0
      },
      "text/plain": [
       "HBox(children=(IntProgress(value=0, description='metric', max=3, style=ProgressStyle(description_width='initia…"
      ]
     },
     "metadata": {},
     "output_type": "display_data"
    },
    {
     "data": {
      "application/vnd.jupyter.widget-view+json": {
       "model_id": "",
       "version_major": 2,
       "version_minor": 0
      },
      "text/plain": [
       "HBox(children=(IntProgress(value=0, description='method', max=2, style=ProgressStyle(description_width='initia…"
      ]
     },
     "metadata": {},
     "output_type": "display_data"
    },
    {
     "data": {
      "application/vnd.jupyter.widget-view+json": {
       "model_id": "",
       "version_major": 2,
       "version_minor": 0
      },
      "text/plain": [
       "HBox(children=(IntProgress(value=0, description='method', max=2, style=ProgressStyle(description_width='initia…"
      ]
     },
     "metadata": {},
     "output_type": "display_data"
    },
    {
     "data": {
      "application/vnd.jupyter.widget-view+json": {
       "model_id": "",
       "version_major": 2,
       "version_minor": 0
      },
      "text/plain": [
       "HBox(children=(IntProgress(value=0, description='method', max=2, style=ProgressStyle(description_width='initia…"
      ]
     },
     "metadata": {},
     "output_type": "display_data"
    },
    {
     "data": {
      "application/vnd.jupyter.widget-view+json": {
       "model_id": "",
       "version_major": 2,
       "version_minor": 0
      },
      "text/plain": [
       "HBox(children=(IntProgress(value=0, description='metric', max=3, style=ProgressStyle(description_width='initia…"
      ]
     },
     "metadata": {},
     "output_type": "display_data"
    },
    {
     "data": {
      "application/vnd.jupyter.widget-view+json": {
       "model_id": "",
       "version_major": 2,
       "version_minor": 0
      },
      "text/plain": [
       "HBox(children=(IntProgress(value=0, description='method', max=2, style=ProgressStyle(description_width='initia…"
      ]
     },
     "metadata": {},
     "output_type": "display_data"
    },
    {
     "data": {
      "application/vnd.jupyter.widget-view+json": {
       "model_id": "",
       "version_major": 2,
       "version_minor": 0
      },
      "text/plain": [
       "HBox(children=(IntProgress(value=0, description='method', max=2, style=ProgressStyle(description_width='initia…"
      ]
     },
     "metadata": {},
     "output_type": "display_data"
    },
    {
     "data": {
      "application/vnd.jupyter.widget-view+json": {
       "model_id": "",
       "version_major": 2,
       "version_minor": 0
      },
      "text/plain": [
       "HBox(children=(IntProgress(value=0, description='method', max=2, style=ProgressStyle(description_width='initia…"
      ]
     },
     "metadata": {},
     "output_type": "display_data"
    },
    {
     "data": {
      "application/vnd.jupyter.widget-view+json": {
       "model_id": "",
       "version_major": 2,
       "version_minor": 0
      },
      "text/plain": [
       "HBox(children=(IntProgress(value=0, description='binary', max=2, style=ProgressStyle(description_width='initia…"
      ]
     },
     "metadata": {},
     "output_type": "display_data"
    },
    {
     "data": {
      "application/vnd.jupyter.widget-view+json": {
       "model_id": "",
       "version_major": 2,
       "version_minor": 0
      },
      "text/plain": [
       "HBox(children=(IntProgress(value=0, description='metric', max=3, style=ProgressStyle(description_width='initia…"
      ]
     },
     "metadata": {},
     "output_type": "display_data"
    },
    {
     "data": {
      "application/vnd.jupyter.widget-view+json": {
       "model_id": "",
       "version_major": 2,
       "version_minor": 0
      },
      "text/plain": [
       "HBox(children=(IntProgress(value=0, description='method', max=2, style=ProgressStyle(description_width='initia…"
      ]
     },
     "metadata": {},
     "output_type": "display_data"
    },
    {
     "data": {
      "application/vnd.jupyter.widget-view+json": {
       "model_id": "",
       "version_major": 2,
       "version_minor": 0
      },
      "text/plain": [
       "HBox(children=(IntProgress(value=0, description='method', max=2, style=ProgressStyle(description_width='initia…"
      ]
     },
     "metadata": {},
     "output_type": "display_data"
    },
    {
     "data": {
      "application/vnd.jupyter.widget-view+json": {
       "model_id": "",
       "version_major": 2,
       "version_minor": 0
      },
      "text/plain": [
       "HBox(children=(IntProgress(value=0, description='method', max=2, style=ProgressStyle(description_width='initia…"
      ]
     },
     "metadata": {},
     "output_type": "display_data"
    },
    {
     "data": {
      "application/vnd.jupyter.widget-view+json": {
       "model_id": "",
       "version_major": 2,
       "version_minor": 0
      },
      "text/plain": [
       "HBox(children=(IntProgress(value=0, description='metric', max=3, style=ProgressStyle(description_width='initia…"
      ]
     },
     "metadata": {},
     "output_type": "display_data"
    },
    {
     "data": {
      "application/vnd.jupyter.widget-view+json": {
       "model_id": "",
       "version_major": 2,
       "version_minor": 0
      },
      "text/plain": [
       "HBox(children=(IntProgress(value=0, description='method', max=2, style=ProgressStyle(description_width='initia…"
      ]
     },
     "metadata": {},
     "output_type": "display_data"
    },
    {
     "data": {
      "application/vnd.jupyter.widget-view+json": {
       "model_id": "",
       "version_major": 2,
       "version_minor": 0
      },
      "text/plain": [
       "HBox(children=(IntProgress(value=0, description='method', max=2, style=ProgressStyle(description_width='initia…"
      ]
     },
     "metadata": {},
     "output_type": "display_data"
    },
    {
     "data": {
      "application/vnd.jupyter.widget-view+json": {
       "model_id": "",
       "version_major": 2,
       "version_minor": 0
      },
      "text/plain": [
       "HBox(children=(IntProgress(value=0, description='method', max=2, style=ProgressStyle(description_width='initia…"
      ]
     },
     "metadata": {},
     "output_type": "display_data"
    },
    {
     "data": {
      "application/vnd.jupyter.widget-view+json": {
       "model_id": "",
       "version_major": 2,
       "version_minor": 0
      },
      "text/plain": [
       "HBox(children=(IntProgress(value=0, description='binary', max=2, style=ProgressStyle(description_width='initia…"
      ]
     },
     "metadata": {},
     "output_type": "display_data"
    },
    {
     "data": {
      "application/vnd.jupyter.widget-view+json": {
       "model_id": "",
       "version_major": 2,
       "version_minor": 0
      },
      "text/plain": [
       "HBox(children=(IntProgress(value=0, description='metric', max=3, style=ProgressStyle(description_width='initia…"
      ]
     },
     "metadata": {},
     "output_type": "display_data"
    },
    {
     "data": {
      "application/vnd.jupyter.widget-view+json": {
       "model_id": "",
       "version_major": 2,
       "version_minor": 0
      },
      "text/plain": [
       "HBox(children=(IntProgress(value=0, description='method', max=2, style=ProgressStyle(description_width='initia…"
      ]
     },
     "metadata": {},
     "output_type": "display_data"
    },
    {
     "data": {
      "application/vnd.jupyter.widget-view+json": {
       "model_id": "",
       "version_major": 2,
       "version_minor": 0
      },
      "text/plain": [
       "HBox(children=(IntProgress(value=0, description='method', max=2, style=ProgressStyle(description_width='initia…"
      ]
     },
     "metadata": {},
     "output_type": "display_data"
    },
    {
     "data": {
      "application/vnd.jupyter.widget-view+json": {
       "model_id": "",
       "version_major": 2,
       "version_minor": 0
      },
      "text/plain": [
       "HBox(children=(IntProgress(value=0, description='method', max=2, style=ProgressStyle(description_width='initia…"
      ]
     },
     "metadata": {},
     "output_type": "display_data"
    },
    {
     "data": {
      "application/vnd.jupyter.widget-view+json": {
       "model_id": "",
       "version_major": 2,
       "version_minor": 0
      },
      "text/plain": [
       "HBox(children=(IntProgress(value=0, description='metric', max=3, style=ProgressStyle(description_width='initia…"
      ]
     },
     "metadata": {},
     "output_type": "display_data"
    },
    {
     "data": {
      "application/vnd.jupyter.widget-view+json": {
       "model_id": "",
       "version_major": 2,
       "version_minor": 0
      },
      "text/plain": [
       "HBox(children=(IntProgress(value=0, description='method', max=2, style=ProgressStyle(description_width='initia…"
      ]
     },
     "metadata": {},
     "output_type": "display_data"
    },
    {
     "data": {
      "application/vnd.jupyter.widget-view+json": {
       "model_id": "",
       "version_major": 2,
       "version_minor": 0
      },
      "text/plain": [
       "HBox(children=(IntProgress(value=0, description='method', max=2, style=ProgressStyle(description_width='initia…"
      ]
     },
     "metadata": {},
     "output_type": "display_data"
    },
    {
     "data": {
      "application/vnd.jupyter.widget-view+json": {
       "model_id": "",
       "version_major": 2,
       "version_minor": 0
      },
      "text/plain": [
       "HBox(children=(IntProgress(value=0, description='method', max=2, style=ProgressStyle(description_width='initia…"
      ]
     },
     "metadata": {},
     "output_type": "display_data"
    },
    {
     "data": {
      "application/vnd.jupyter.widget-view+json": {
       "model_id": "",
       "version_major": 2,
       "version_minor": 0
      },
      "text/plain": [
       "HBox(children=(IntProgress(value=0, description='binary', max=2, style=ProgressStyle(description_width='initia…"
      ]
     },
     "metadata": {},
     "output_type": "display_data"
    },
    {
     "data": {
      "application/vnd.jupyter.widget-view+json": {
       "model_id": "",
       "version_major": 2,
       "version_minor": 0
      },
      "text/plain": [
       "HBox(children=(IntProgress(value=0, description='metric', max=3, style=ProgressStyle(description_width='initia…"
      ]
     },
     "metadata": {},
     "output_type": "display_data"
    },
    {
     "data": {
      "application/vnd.jupyter.widget-view+json": {
       "model_id": "",
       "version_major": 2,
       "version_minor": 0
      },
      "text/plain": [
       "HBox(children=(IntProgress(value=0, description='method', max=2, style=ProgressStyle(description_width='initia…"
      ]
     },
     "metadata": {},
     "output_type": "display_data"
    },
    {
     "data": {
      "application/vnd.jupyter.widget-view+json": {
       "model_id": "",
       "version_major": 2,
       "version_minor": 0
      },
      "text/plain": [
       "HBox(children=(IntProgress(value=0, description='method', max=2, style=ProgressStyle(description_width='initia…"
      ]
     },
     "metadata": {},
     "output_type": "display_data"
    },
    {
     "data": {
      "application/vnd.jupyter.widget-view+json": {
       "model_id": "",
       "version_major": 2,
       "version_minor": 0
      },
      "text/plain": [
       "HBox(children=(IntProgress(value=0, description='method', max=2, style=ProgressStyle(description_width='initia…"
      ]
     },
     "metadata": {},
     "output_type": "display_data"
    },
    {
     "data": {
      "application/vnd.jupyter.widget-view+json": {
       "model_id": "",
       "version_major": 2,
       "version_minor": 0
      },
      "text/plain": [
       "HBox(children=(IntProgress(value=0, description='metric', max=3, style=ProgressStyle(description_width='initia…"
      ]
     },
     "metadata": {},
     "output_type": "display_data"
    },
    {
     "data": {
      "application/vnd.jupyter.widget-view+json": {
       "model_id": "",
       "version_major": 2,
       "version_minor": 0
      },
      "text/plain": [
       "HBox(children=(IntProgress(value=0, description='method', max=2, style=ProgressStyle(description_width='initia…"
      ]
     },
     "metadata": {},
     "output_type": "display_data"
    },
    {
     "data": {
      "application/vnd.jupyter.widget-view+json": {
       "model_id": "",
       "version_major": 2,
       "version_minor": 0
      },
      "text/plain": [
       "HBox(children=(IntProgress(value=0, description='method', max=2, style=ProgressStyle(description_width='initia…"
      ]
     },
     "metadata": {},
     "output_type": "display_data"
    },
    {
     "data": {
      "application/vnd.jupyter.widget-view+json": {
       "model_id": "",
       "version_major": 2,
       "version_minor": 0
      },
      "text/plain": [
       "HBox(children=(IntProgress(value=0, description='method', max=2, style=ProgressStyle(description_width='initia…"
      ]
     },
     "metadata": {},
     "output_type": "display_data"
    },
    {
     "data": {
      "application/vnd.jupyter.widget-view+json": {
       "model_id": "",
       "version_major": 2,
       "version_minor": 0
      },
      "text/plain": [
       "HBox(children=(IntProgress(value=0, description='binary', max=2, style=ProgressStyle(description_width='initia…"
      ]
     },
     "metadata": {},
     "output_type": "display_data"
    },
    {
     "data": {
      "application/vnd.jupyter.widget-view+json": {
       "model_id": "",
       "version_major": 2,
       "version_minor": 0
      },
      "text/plain": [
       "HBox(children=(IntProgress(value=0, description='metric', max=3, style=ProgressStyle(description_width='initia…"
      ]
     },
     "metadata": {},
     "output_type": "display_data"
    },
    {
     "data": {
      "application/vnd.jupyter.widget-view+json": {
       "model_id": "",
       "version_major": 2,
       "version_minor": 0
      },
      "text/plain": [
       "HBox(children=(IntProgress(value=0, description='method', max=2, style=ProgressStyle(description_width='initia…"
      ]
     },
     "metadata": {},
     "output_type": "display_data"
    },
    {
     "data": {
      "application/vnd.jupyter.widget-view+json": {
       "model_id": "",
       "version_major": 2,
       "version_minor": 0
      },
      "text/plain": [
       "HBox(children=(IntProgress(value=0, description='method', max=2, style=ProgressStyle(description_width='initia…"
      ]
     },
     "metadata": {},
     "output_type": "display_data"
    },
    {
     "data": {
      "application/vnd.jupyter.widget-view+json": {
       "model_id": "",
       "version_major": 2,
       "version_minor": 0
      },
      "text/plain": [
       "HBox(children=(IntProgress(value=0, description='method', max=2, style=ProgressStyle(description_width='initia…"
      ]
     },
     "metadata": {},
     "output_type": "display_data"
    },
    {
     "data": {
      "application/vnd.jupyter.widget-view+json": {
       "model_id": "",
       "version_major": 2,
       "version_minor": 0
      },
      "text/plain": [
       "HBox(children=(IntProgress(value=0, description='metric', max=3, style=ProgressStyle(description_width='initia…"
      ]
     },
     "metadata": {},
     "output_type": "display_data"
    },
    {
     "data": {
      "application/vnd.jupyter.widget-view+json": {
       "model_id": "",
       "version_major": 2,
       "version_minor": 0
      },
      "text/plain": [
       "HBox(children=(IntProgress(value=0, description='method', max=2, style=ProgressStyle(description_width='initia…"
      ]
     },
     "metadata": {},
     "output_type": "display_data"
    },
    {
     "data": {
      "application/vnd.jupyter.widget-view+json": {
       "model_id": "",
       "version_major": 2,
       "version_minor": 0
      },
      "text/plain": [
       "HBox(children=(IntProgress(value=0, description='method', max=2, style=ProgressStyle(description_width='initia…"
      ]
     },
     "metadata": {},
     "output_type": "display_data"
    },
    {
     "data": {
      "application/vnd.jupyter.widget-view+json": {
       "model_id": "",
       "version_major": 2,
       "version_minor": 0
      },
      "text/plain": [
       "HBox(children=(IntProgress(value=0, description='method', max=2, style=ProgressStyle(description_width='initia…"
      ]
     },
     "metadata": {},
     "output_type": "display_data"
    },
    {
     "data": {
      "application/vnd.jupyter.widget-view+json": {
       "model_id": "",
       "version_major": 2,
       "version_minor": 0
      },
      "text/plain": [
       "HBox(children=(IntProgress(value=0, description='binary', max=2, style=ProgressStyle(description_width='initia…"
      ]
     },
     "metadata": {},
     "output_type": "display_data"
    },
    {
     "data": {
      "application/vnd.jupyter.widget-view+json": {
       "model_id": "",
       "version_major": 2,
       "version_minor": 0
      },
      "text/plain": [
       "HBox(children=(IntProgress(value=0, description='metric', max=3, style=ProgressStyle(description_width='initia…"
      ]
     },
     "metadata": {},
     "output_type": "display_data"
    },
    {
     "data": {
      "application/vnd.jupyter.widget-view+json": {
       "model_id": "",
       "version_major": 2,
       "version_minor": 0
      },
      "text/plain": [
       "HBox(children=(IntProgress(value=0, description='method', max=2, style=ProgressStyle(description_width='initia…"
      ]
     },
     "metadata": {},
     "output_type": "display_data"
    },
    {
     "data": {
      "application/vnd.jupyter.widget-view+json": {
       "model_id": "",
       "version_major": 2,
       "version_minor": 0
      },
      "text/plain": [
       "HBox(children=(IntProgress(value=0, description='method', max=2, style=ProgressStyle(description_width='initia…"
      ]
     },
     "metadata": {},
     "output_type": "display_data"
    },
    {
     "data": {
      "application/vnd.jupyter.widget-view+json": {
       "model_id": "",
       "version_major": 2,
       "version_minor": 0
      },
      "text/plain": [
       "HBox(children=(IntProgress(value=0, description='method', max=2, style=ProgressStyle(description_width='initia…"
      ]
     },
     "metadata": {},
     "output_type": "display_data"
    },
    {
     "data": {
      "application/vnd.jupyter.widget-view+json": {
       "model_id": "",
       "version_major": 2,
       "version_minor": 0
      },
      "text/plain": [
       "HBox(children=(IntProgress(value=0, description='metric', max=3, style=ProgressStyle(description_width='initia…"
      ]
     },
     "metadata": {},
     "output_type": "display_data"
    },
    {
     "data": {
      "application/vnd.jupyter.widget-view+json": {
       "model_id": "",
       "version_major": 2,
       "version_minor": 0
      },
      "text/plain": [
       "HBox(children=(IntProgress(value=0, description='method', max=2, style=ProgressStyle(description_width='initia…"
      ]
     },
     "metadata": {},
     "output_type": "display_data"
    },
    {
     "data": {
      "application/vnd.jupyter.widget-view+json": {
       "model_id": "",
       "version_major": 2,
       "version_minor": 0
      },
      "text/plain": [
       "HBox(children=(IntProgress(value=0, description='method', max=2, style=ProgressStyle(description_width='initia…"
      ]
     },
     "metadata": {},
     "output_type": "display_data"
    },
    {
     "data": {
      "application/vnd.jupyter.widget-view+json": {
       "model_id": "",
       "version_major": 2,
       "version_minor": 0
      },
      "text/plain": [
       "HBox(children=(IntProgress(value=0, description='method', max=2, style=ProgressStyle(description_width='initia…"
      ]
     },
     "metadata": {},
     "output_type": "display_data"
    },
    {
     "data": {
      "application/vnd.jupyter.widget-view+json": {
       "model_id": "",
       "version_major": 2,
       "version_minor": 0
      },
      "text/plain": [
       "HBox(children=(IntProgress(value=0, description='binary', max=2, style=ProgressStyle(description_width='initia…"
      ]
     },
     "metadata": {},
     "output_type": "display_data"
    },
    {
     "data": {
      "application/vnd.jupyter.widget-view+json": {
       "model_id": "",
       "version_major": 2,
       "version_minor": 0
      },
      "text/plain": [
       "HBox(children=(IntProgress(value=0, description='metric', max=3, style=ProgressStyle(description_width='initia…"
      ]
     },
     "metadata": {},
     "output_type": "display_data"
    },
    {
     "data": {
      "application/vnd.jupyter.widget-view+json": {
       "model_id": "",
       "version_major": 2,
       "version_minor": 0
      },
      "text/plain": [
       "HBox(children=(IntProgress(value=0, description='method', max=2, style=ProgressStyle(description_width='initia…"
      ]
     },
     "metadata": {},
     "output_type": "display_data"
    },
    {
     "data": {
      "application/vnd.jupyter.widget-view+json": {
       "model_id": "",
       "version_major": 2,
       "version_minor": 0
      },
      "text/plain": [
       "HBox(children=(IntProgress(value=0, description='method', max=2, style=ProgressStyle(description_width='initia…"
      ]
     },
     "metadata": {},
     "output_type": "display_data"
    },
    {
     "data": {
      "application/vnd.jupyter.widget-view+json": {
       "model_id": "",
       "version_major": 2,
       "version_minor": 0
      },
      "text/plain": [
       "HBox(children=(IntProgress(value=0, description='method', max=2, style=ProgressStyle(description_width='initia…"
      ]
     },
     "metadata": {},
     "output_type": "display_data"
    },
    {
     "data": {
      "application/vnd.jupyter.widget-view+json": {
       "model_id": "",
       "version_major": 2,
       "version_minor": 0
      },
      "text/plain": [
       "HBox(children=(IntProgress(value=0, description='metric', max=3, style=ProgressStyle(description_width='initia…"
      ]
     },
     "metadata": {},
     "output_type": "display_data"
    },
    {
     "data": {
      "application/vnd.jupyter.widget-view+json": {
       "model_id": "",
       "version_major": 2,
       "version_minor": 0
      },
      "text/plain": [
       "HBox(children=(IntProgress(value=0, description='method', max=2, style=ProgressStyle(description_width='initia…"
      ]
     },
     "metadata": {},
     "output_type": "display_data"
    },
    {
     "data": {
      "application/vnd.jupyter.widget-view+json": {
       "model_id": "",
       "version_major": 2,
       "version_minor": 0
      },
      "text/plain": [
       "HBox(children=(IntProgress(value=0, description='method', max=2, style=ProgressStyle(description_width='initia…"
      ]
     },
     "metadata": {},
     "output_type": "display_data"
    },
    {
     "data": {
      "application/vnd.jupyter.widget-view+json": {
       "model_id": "",
       "version_major": 2,
       "version_minor": 0
      },
      "text/plain": [
       "HBox(children=(IntProgress(value=0, description='method', max=2, style=ProgressStyle(description_width='initia…"
      ]
     },
     "metadata": {},
     "output_type": "display_data"
    },
    {
     "data": {
      "application/vnd.jupyter.widget-view+json": {
       "model_id": "",
       "version_major": 2,
       "version_minor": 0
      },
      "text/plain": [
       "HBox(children=(IntProgress(value=0, description='binary', max=2, style=ProgressStyle(description_width='initia…"
      ]
     },
     "metadata": {},
     "output_type": "display_data"
    },
    {
     "data": {
      "application/vnd.jupyter.widget-view+json": {
       "model_id": "",
       "version_major": 2,
       "version_minor": 0
      },
      "text/plain": [
       "HBox(children=(IntProgress(value=0, description='metric', max=3, style=ProgressStyle(description_width='initia…"
      ]
     },
     "metadata": {},
     "output_type": "display_data"
    },
    {
     "data": {
      "application/vnd.jupyter.widget-view+json": {
       "model_id": "",
       "version_major": 2,
       "version_minor": 0
      },
      "text/plain": [
       "HBox(children=(IntProgress(value=0, description='method', max=2, style=ProgressStyle(description_width='initia…"
      ]
     },
     "metadata": {},
     "output_type": "display_data"
    },
    {
     "data": {
      "application/vnd.jupyter.widget-view+json": {
       "model_id": "",
       "version_major": 2,
       "version_minor": 0
      },
      "text/plain": [
       "HBox(children=(IntProgress(value=0, description='method', max=2, style=ProgressStyle(description_width='initia…"
      ]
     },
     "metadata": {},
     "output_type": "display_data"
    },
    {
     "data": {
      "application/vnd.jupyter.widget-view+json": {
       "model_id": "",
       "version_major": 2,
       "version_minor": 0
      },
      "text/plain": [
       "HBox(children=(IntProgress(value=0, description='method', max=2, style=ProgressStyle(description_width='initia…"
      ]
     },
     "metadata": {},
     "output_type": "display_data"
    },
    {
     "data": {
      "application/vnd.jupyter.widget-view+json": {
       "model_id": "",
       "version_major": 2,
       "version_minor": 0
      },
      "text/plain": [
       "HBox(children=(IntProgress(value=0, description='metric', max=3, style=ProgressStyle(description_width='initia…"
      ]
     },
     "metadata": {},
     "output_type": "display_data"
    },
    {
     "data": {
      "application/vnd.jupyter.widget-view+json": {
       "model_id": "",
       "version_major": 2,
       "version_minor": 0
      },
      "text/plain": [
       "HBox(children=(IntProgress(value=0, description='method', max=2, style=ProgressStyle(description_width='initia…"
      ]
     },
     "metadata": {},
     "output_type": "display_data"
    },
    {
     "data": {
      "application/vnd.jupyter.widget-view+json": {
       "model_id": "",
       "version_major": 2,
       "version_minor": 0
      },
      "text/plain": [
       "HBox(children=(IntProgress(value=0, description='method', max=2, style=ProgressStyle(description_width='initia…"
      ]
     },
     "metadata": {},
     "output_type": "display_data"
    },
    {
     "data": {
      "application/vnd.jupyter.widget-view+json": {
       "model_id": "",
       "version_major": 2,
       "version_minor": 0
      },
      "text/plain": [
       "HBox(children=(IntProgress(value=0, description='method', max=2, style=ProgressStyle(description_width='initia…"
      ]
     },
     "metadata": {},
     "output_type": "display_data"
    },
    {
     "data": {
      "application/vnd.jupyter.widget-view+json": {
       "model_id": "",
       "version_major": 2,
       "version_minor": 0
      },
      "text/plain": [
       "HBox(children=(IntProgress(value=0, description='min_df', max=9, style=ProgressStyle(description_width='initia…"
      ]
     },
     "metadata": {},
     "output_type": "display_data"
    },
    {
     "data": {
      "application/vnd.jupyter.widget-view+json": {
       "model_id": "",
       "version_major": 2,
       "version_minor": 0
      },
      "text/plain": [
       "HBox(children=(IntProgress(value=0, description='binary', max=2, style=ProgressStyle(description_width='initia…"
      ]
     },
     "metadata": {},
     "output_type": "display_data"
    },
    {
     "data": {
      "application/vnd.jupyter.widget-view+json": {
       "model_id": "",
       "version_major": 2,
       "version_minor": 0
      },
      "text/plain": [
       "HBox(children=(IntProgress(value=0, description='metric', max=3, style=ProgressStyle(description_width='initia…"
      ]
     },
     "metadata": {},
     "output_type": "display_data"
    },
    {
     "data": {
      "application/vnd.jupyter.widget-view+json": {
       "model_id": "",
       "version_major": 2,
       "version_minor": 0
      },
      "text/plain": [
       "HBox(children=(IntProgress(value=0, description='method', max=2, style=ProgressStyle(description_width='initia…"
      ]
     },
     "metadata": {},
     "output_type": "display_data"
    },
    {
     "data": {
      "application/vnd.jupyter.widget-view+json": {
       "model_id": "",
       "version_major": 2,
       "version_minor": 0
      },
      "text/plain": [
       "HBox(children=(IntProgress(value=0, description='method', max=2, style=ProgressStyle(description_width='initia…"
      ]
     },
     "metadata": {},
     "output_type": "display_data"
    },
    {
     "data": {
      "application/vnd.jupyter.widget-view+json": {
       "model_id": "",
       "version_major": 2,
       "version_minor": 0
      },
      "text/plain": [
       "HBox(children=(IntProgress(value=0, description='method', max=2, style=ProgressStyle(description_width='initia…"
      ]
     },
     "metadata": {},
     "output_type": "display_data"
    },
    {
     "data": {
      "application/vnd.jupyter.widget-view+json": {
       "model_id": "",
       "version_major": 2,
       "version_minor": 0
      },
      "text/plain": [
       "HBox(children=(IntProgress(value=0, description='metric', max=3, style=ProgressStyle(description_width='initia…"
      ]
     },
     "metadata": {},
     "output_type": "display_data"
    },
    {
     "data": {
      "application/vnd.jupyter.widget-view+json": {
       "model_id": "",
       "version_major": 2,
       "version_minor": 0
      },
      "text/plain": [
       "HBox(children=(IntProgress(value=0, description='method', max=2, style=ProgressStyle(description_width='initia…"
      ]
     },
     "metadata": {},
     "output_type": "display_data"
    },
    {
     "data": {
      "application/vnd.jupyter.widget-view+json": {
       "model_id": "",
       "version_major": 2,
       "version_minor": 0
      },
      "text/plain": [
       "HBox(children=(IntProgress(value=0, description='method', max=2, style=ProgressStyle(description_width='initia…"
      ]
     },
     "metadata": {},
     "output_type": "display_data"
    },
    {
     "data": {
      "application/vnd.jupyter.widget-view+json": {
       "model_id": "",
       "version_major": 2,
       "version_minor": 0
      },
      "text/plain": [
       "HBox(children=(IntProgress(value=0, description='method', max=2, style=ProgressStyle(description_width='initia…"
      ]
     },
     "metadata": {},
     "output_type": "display_data"
    },
    {
     "data": {
      "application/vnd.jupyter.widget-view+json": {
       "model_id": "",
       "version_major": 2,
       "version_minor": 0
      },
      "text/plain": [
       "HBox(children=(IntProgress(value=0, description='binary', max=2, style=ProgressStyle(description_width='initia…"
      ]
     },
     "metadata": {},
     "output_type": "display_data"
    },
    {
     "data": {
      "application/vnd.jupyter.widget-view+json": {
       "model_id": "",
       "version_major": 2,
       "version_minor": 0
      },
      "text/plain": [
       "HBox(children=(IntProgress(value=0, description='metric', max=3, style=ProgressStyle(description_width='initia…"
      ]
     },
     "metadata": {},
     "output_type": "display_data"
    },
    {
     "data": {
      "application/vnd.jupyter.widget-view+json": {
       "model_id": "",
       "version_major": 2,
       "version_minor": 0
      },
      "text/plain": [
       "HBox(children=(IntProgress(value=0, description='method', max=2, style=ProgressStyle(description_width='initia…"
      ]
     },
     "metadata": {},
     "output_type": "display_data"
    },
    {
     "data": {
      "application/vnd.jupyter.widget-view+json": {
       "model_id": "",
       "version_major": 2,
       "version_minor": 0
      },
      "text/plain": [
       "HBox(children=(IntProgress(value=0, description='method', max=2, style=ProgressStyle(description_width='initia…"
      ]
     },
     "metadata": {},
     "output_type": "display_data"
    },
    {
     "data": {
      "application/vnd.jupyter.widget-view+json": {
       "model_id": "",
       "version_major": 2,
       "version_minor": 0
      },
      "text/plain": [
       "HBox(children=(IntProgress(value=0, description='method', max=2, style=ProgressStyle(description_width='initia…"
      ]
     },
     "metadata": {},
     "output_type": "display_data"
    },
    {
     "data": {
      "application/vnd.jupyter.widget-view+json": {
       "model_id": "",
       "version_major": 2,
       "version_minor": 0
      },
      "text/plain": [
       "HBox(children=(IntProgress(value=0, description='metric', max=3, style=ProgressStyle(description_width='initia…"
      ]
     },
     "metadata": {},
     "output_type": "display_data"
    },
    {
     "data": {
      "application/vnd.jupyter.widget-view+json": {
       "model_id": "",
       "version_major": 2,
       "version_minor": 0
      },
      "text/plain": [
       "HBox(children=(IntProgress(value=0, description='method', max=2, style=ProgressStyle(description_width='initia…"
      ]
     },
     "metadata": {},
     "output_type": "display_data"
    },
    {
     "data": {
      "application/vnd.jupyter.widget-view+json": {
       "model_id": "",
       "version_major": 2,
       "version_minor": 0
      },
      "text/plain": [
       "HBox(children=(IntProgress(value=0, description='method', max=2, style=ProgressStyle(description_width='initia…"
      ]
     },
     "metadata": {},
     "output_type": "display_data"
    },
    {
     "data": {
      "application/vnd.jupyter.widget-view+json": {
       "model_id": "",
       "version_major": 2,
       "version_minor": 0
      },
      "text/plain": [
       "HBox(children=(IntProgress(value=0, description='method', max=2, style=ProgressStyle(description_width='initia…"
      ]
     },
     "metadata": {},
     "output_type": "display_data"
    },
    {
     "data": {
      "application/vnd.jupyter.widget-view+json": {
       "model_id": "",
       "version_major": 2,
       "version_minor": 0
      },
      "text/plain": [
       "HBox(children=(IntProgress(value=0, description='binary', max=2, style=ProgressStyle(description_width='initia…"
      ]
     },
     "metadata": {},
     "output_type": "display_data"
    },
    {
     "data": {
      "application/vnd.jupyter.widget-view+json": {
       "model_id": "",
       "version_major": 2,
       "version_minor": 0
      },
      "text/plain": [
       "HBox(children=(IntProgress(value=0, description='metric', max=3, style=ProgressStyle(description_width='initia…"
      ]
     },
     "metadata": {},
     "output_type": "display_data"
    },
    {
     "data": {
      "application/vnd.jupyter.widget-view+json": {
       "model_id": "",
       "version_major": 2,
       "version_minor": 0
      },
      "text/plain": [
       "HBox(children=(IntProgress(value=0, description='method', max=2, style=ProgressStyle(description_width='initia…"
      ]
     },
     "metadata": {},
     "output_type": "display_data"
    },
    {
     "data": {
      "application/vnd.jupyter.widget-view+json": {
       "model_id": "",
       "version_major": 2,
       "version_minor": 0
      },
      "text/plain": [
       "HBox(children=(IntProgress(value=0, description='method', max=2, style=ProgressStyle(description_width='initia…"
      ]
     },
     "metadata": {},
     "output_type": "display_data"
    },
    {
     "data": {
      "application/vnd.jupyter.widget-view+json": {
       "model_id": "",
       "version_major": 2,
       "version_minor": 0
      },
      "text/plain": [
       "HBox(children=(IntProgress(value=0, description='method', max=2, style=ProgressStyle(description_width='initia…"
      ]
     },
     "metadata": {},
     "output_type": "display_data"
    },
    {
     "data": {
      "application/vnd.jupyter.widget-view+json": {
       "model_id": "",
       "version_major": 2,
       "version_minor": 0
      },
      "text/plain": [
       "HBox(children=(IntProgress(value=0, description='metric', max=3, style=ProgressStyle(description_width='initia…"
      ]
     },
     "metadata": {},
     "output_type": "display_data"
    },
    {
     "data": {
      "application/vnd.jupyter.widget-view+json": {
       "model_id": "",
       "version_major": 2,
       "version_minor": 0
      },
      "text/plain": [
       "HBox(children=(IntProgress(value=0, description='method', max=2, style=ProgressStyle(description_width='initia…"
      ]
     },
     "metadata": {},
     "output_type": "display_data"
    },
    {
     "data": {
      "application/vnd.jupyter.widget-view+json": {
       "model_id": "",
       "version_major": 2,
       "version_minor": 0
      },
      "text/plain": [
       "HBox(children=(IntProgress(value=0, description='method', max=2, style=ProgressStyle(description_width='initia…"
      ]
     },
     "metadata": {},
     "output_type": "display_data"
    },
    {
     "data": {
      "application/vnd.jupyter.widget-view+json": {
       "model_id": "",
       "version_major": 2,
       "version_minor": 0
      },
      "text/plain": [
       "HBox(children=(IntProgress(value=0, description='method', max=2, style=ProgressStyle(description_width='initia…"
      ]
     },
     "metadata": {},
     "output_type": "display_data"
    },
    {
     "data": {
      "application/vnd.jupyter.widget-view+json": {
       "model_id": "",
       "version_major": 2,
       "version_minor": 0
      },
      "text/plain": [
       "HBox(children=(IntProgress(value=0, description='binary', max=2, style=ProgressStyle(description_width='initia…"
      ]
     },
     "metadata": {},
     "output_type": "display_data"
    },
    {
     "data": {
      "application/vnd.jupyter.widget-view+json": {
       "model_id": "",
       "version_major": 2,
       "version_minor": 0
      },
      "text/plain": [
       "HBox(children=(IntProgress(value=0, description='metric', max=3, style=ProgressStyle(description_width='initia…"
      ]
     },
     "metadata": {},
     "output_type": "display_data"
    },
    {
     "data": {
      "application/vnd.jupyter.widget-view+json": {
       "model_id": "",
       "version_major": 2,
       "version_minor": 0
      },
      "text/plain": [
       "HBox(children=(IntProgress(value=0, description='method', max=2, style=ProgressStyle(description_width='initia…"
      ]
     },
     "metadata": {},
     "output_type": "display_data"
    },
    {
     "data": {
      "application/vnd.jupyter.widget-view+json": {
       "model_id": "",
       "version_major": 2,
       "version_minor": 0
      },
      "text/plain": [
       "HBox(children=(IntProgress(value=0, description='method', max=2, style=ProgressStyle(description_width='initia…"
      ]
     },
     "metadata": {},
     "output_type": "display_data"
    },
    {
     "data": {
      "application/vnd.jupyter.widget-view+json": {
       "model_id": "",
       "version_major": 2,
       "version_minor": 0
      },
      "text/plain": [
       "HBox(children=(IntProgress(value=0, description='method', max=2, style=ProgressStyle(description_width='initia…"
      ]
     },
     "metadata": {},
     "output_type": "display_data"
    },
    {
     "data": {
      "application/vnd.jupyter.widget-view+json": {
       "model_id": "",
       "version_major": 2,
       "version_minor": 0
      },
      "text/plain": [
       "HBox(children=(IntProgress(value=0, description='metric', max=3, style=ProgressStyle(description_width='initia…"
      ]
     },
     "metadata": {},
     "output_type": "display_data"
    },
    {
     "data": {
      "application/vnd.jupyter.widget-view+json": {
       "model_id": "",
       "version_major": 2,
       "version_minor": 0
      },
      "text/plain": [
       "HBox(children=(IntProgress(value=0, description='method', max=2, style=ProgressStyle(description_width='initia…"
      ]
     },
     "metadata": {},
     "output_type": "display_data"
    },
    {
     "data": {
      "application/vnd.jupyter.widget-view+json": {
       "model_id": "",
       "version_major": 2,
       "version_minor": 0
      },
      "text/plain": [
       "HBox(children=(IntProgress(value=0, description='method', max=2, style=ProgressStyle(description_width='initia…"
      ]
     },
     "metadata": {},
     "output_type": "display_data"
    },
    {
     "data": {
      "application/vnd.jupyter.widget-view+json": {
       "model_id": "",
       "version_major": 2,
       "version_minor": 0
      },
      "text/plain": [
       "HBox(children=(IntProgress(value=0, description='method', max=2, style=ProgressStyle(description_width='initia…"
      ]
     },
     "metadata": {},
     "output_type": "display_data"
    },
    {
     "data": {
      "application/vnd.jupyter.widget-view+json": {
       "model_id": "",
       "version_major": 2,
       "version_minor": 0
      },
      "text/plain": [
       "HBox(children=(IntProgress(value=0, description='binary', max=2, style=ProgressStyle(description_width='initia…"
      ]
     },
     "metadata": {},
     "output_type": "display_data"
    },
    {
     "data": {
      "application/vnd.jupyter.widget-view+json": {
       "model_id": "",
       "version_major": 2,
       "version_minor": 0
      },
      "text/plain": [
       "HBox(children=(IntProgress(value=0, description='metric', max=3, style=ProgressStyle(description_width='initia…"
      ]
     },
     "metadata": {},
     "output_type": "display_data"
    },
    {
     "data": {
      "application/vnd.jupyter.widget-view+json": {
       "model_id": "",
       "version_major": 2,
       "version_minor": 0
      },
      "text/plain": [
       "HBox(children=(IntProgress(value=0, description='method', max=2, style=ProgressStyle(description_width='initia…"
      ]
     },
     "metadata": {},
     "output_type": "display_data"
    },
    {
     "data": {
      "application/vnd.jupyter.widget-view+json": {
       "model_id": "",
       "version_major": 2,
       "version_minor": 0
      },
      "text/plain": [
       "HBox(children=(IntProgress(value=0, description='method', max=2, style=ProgressStyle(description_width='initia…"
      ]
     },
     "metadata": {},
     "output_type": "display_data"
    },
    {
     "data": {
      "application/vnd.jupyter.widget-view+json": {
       "model_id": "",
       "version_major": 2,
       "version_minor": 0
      },
      "text/plain": [
       "HBox(children=(IntProgress(value=0, description='method', max=2, style=ProgressStyle(description_width='initia…"
      ]
     },
     "metadata": {},
     "output_type": "display_data"
    },
    {
     "data": {
      "application/vnd.jupyter.widget-view+json": {
       "model_id": "",
       "version_major": 2,
       "version_minor": 0
      },
      "text/plain": [
       "HBox(children=(IntProgress(value=0, description='metric', max=3, style=ProgressStyle(description_width='initia…"
      ]
     },
     "metadata": {},
     "output_type": "display_data"
    },
    {
     "data": {
      "application/vnd.jupyter.widget-view+json": {
       "model_id": "",
       "version_major": 2,
       "version_minor": 0
      },
      "text/plain": [
       "HBox(children=(IntProgress(value=0, description='method', max=2, style=ProgressStyle(description_width='initia…"
      ]
     },
     "metadata": {},
     "output_type": "display_data"
    },
    {
     "data": {
      "application/vnd.jupyter.widget-view+json": {
       "model_id": "",
       "version_major": 2,
       "version_minor": 0
      },
      "text/plain": [
       "HBox(children=(IntProgress(value=0, description='method', max=2, style=ProgressStyle(description_width='initia…"
      ]
     },
     "metadata": {},
     "output_type": "display_data"
    },
    {
     "data": {
      "application/vnd.jupyter.widget-view+json": {
       "model_id": "",
       "version_major": 2,
       "version_minor": 0
      },
      "text/plain": [
       "HBox(children=(IntProgress(value=0, description='method', max=2, style=ProgressStyle(description_width='initia…"
      ]
     },
     "metadata": {},
     "output_type": "display_data"
    },
    {
     "data": {
      "application/vnd.jupyter.widget-view+json": {
       "model_id": "",
       "version_major": 2,
       "version_minor": 0
      },
      "text/plain": [
       "HBox(children=(IntProgress(value=0, description='binary', max=2, style=ProgressStyle(description_width='initia…"
      ]
     },
     "metadata": {},
     "output_type": "display_data"
    },
    {
     "data": {
      "application/vnd.jupyter.widget-view+json": {
       "model_id": "",
       "version_major": 2,
       "version_minor": 0
      },
      "text/plain": [
       "HBox(children=(IntProgress(value=0, description='metric', max=3, style=ProgressStyle(description_width='initia…"
      ]
     },
     "metadata": {},
     "output_type": "display_data"
    },
    {
     "data": {
      "application/vnd.jupyter.widget-view+json": {
       "model_id": "",
       "version_major": 2,
       "version_minor": 0
      },
      "text/plain": [
       "HBox(children=(IntProgress(value=0, description='method', max=2, style=ProgressStyle(description_width='initia…"
      ]
     },
     "metadata": {},
     "output_type": "display_data"
    },
    {
     "data": {
      "application/vnd.jupyter.widget-view+json": {
       "model_id": "",
       "version_major": 2,
       "version_minor": 0
      },
      "text/plain": [
       "HBox(children=(IntProgress(value=0, description='method', max=2, style=ProgressStyle(description_width='initia…"
      ]
     },
     "metadata": {},
     "output_type": "display_data"
    },
    {
     "data": {
      "application/vnd.jupyter.widget-view+json": {
       "model_id": "",
       "version_major": 2,
       "version_minor": 0
      },
      "text/plain": [
       "HBox(children=(IntProgress(value=0, description='method', max=2, style=ProgressStyle(description_width='initia…"
      ]
     },
     "metadata": {},
     "output_type": "display_data"
    },
    {
     "data": {
      "application/vnd.jupyter.widget-view+json": {
       "model_id": "",
       "version_major": 2,
       "version_minor": 0
      },
      "text/plain": [
       "HBox(children=(IntProgress(value=0, description='metric', max=3, style=ProgressStyle(description_width='initia…"
      ]
     },
     "metadata": {},
     "output_type": "display_data"
    },
    {
     "data": {
      "application/vnd.jupyter.widget-view+json": {
       "model_id": "",
       "version_major": 2,
       "version_minor": 0
      },
      "text/plain": [
       "HBox(children=(IntProgress(value=0, description='method', max=2, style=ProgressStyle(description_width='initia…"
      ]
     },
     "metadata": {},
     "output_type": "display_data"
    },
    {
     "data": {
      "application/vnd.jupyter.widget-view+json": {
       "model_id": "",
       "version_major": 2,
       "version_minor": 0
      },
      "text/plain": [
       "HBox(children=(IntProgress(value=0, description='method', max=2, style=ProgressStyle(description_width='initia…"
      ]
     },
     "metadata": {},
     "output_type": "display_data"
    },
    {
     "data": {
      "application/vnd.jupyter.widget-view+json": {
       "model_id": "",
       "version_major": 2,
       "version_minor": 0
      },
      "text/plain": [
       "HBox(children=(IntProgress(value=0, description='method', max=2, style=ProgressStyle(description_width='initia…"
      ]
     },
     "metadata": {},
     "output_type": "display_data"
    },
    {
     "data": {
      "application/vnd.jupyter.widget-view+json": {
       "model_id": "",
       "version_major": 2,
       "version_minor": 0
      },
      "text/plain": [
       "HBox(children=(IntProgress(value=0, description='binary', max=2, style=ProgressStyle(description_width='initia…"
      ]
     },
     "metadata": {},
     "output_type": "display_data"
    },
    {
     "data": {
      "application/vnd.jupyter.widget-view+json": {
       "model_id": "",
       "version_major": 2,
       "version_minor": 0
      },
      "text/plain": [
       "HBox(children=(IntProgress(value=0, description='metric', max=3, style=ProgressStyle(description_width='initia…"
      ]
     },
     "metadata": {},
     "output_type": "display_data"
    },
    {
     "data": {
      "application/vnd.jupyter.widget-view+json": {
       "model_id": "",
       "version_major": 2,
       "version_minor": 0
      },
      "text/plain": [
       "HBox(children=(IntProgress(value=0, description='method', max=2, style=ProgressStyle(description_width='initia…"
      ]
     },
     "metadata": {},
     "output_type": "display_data"
    },
    {
     "data": {
      "application/vnd.jupyter.widget-view+json": {
       "model_id": "",
       "version_major": 2,
       "version_minor": 0
      },
      "text/plain": [
       "HBox(children=(IntProgress(value=0, description='method', max=2, style=ProgressStyle(description_width='initia…"
      ]
     },
     "metadata": {},
     "output_type": "display_data"
    },
    {
     "data": {
      "application/vnd.jupyter.widget-view+json": {
       "model_id": "",
       "version_major": 2,
       "version_minor": 0
      },
      "text/plain": [
       "HBox(children=(IntProgress(value=0, description='method', max=2, style=ProgressStyle(description_width='initia…"
      ]
     },
     "metadata": {},
     "output_type": "display_data"
    },
    {
     "data": {
      "application/vnd.jupyter.widget-view+json": {
       "model_id": "",
       "version_major": 2,
       "version_minor": 0
      },
      "text/plain": [
       "HBox(children=(IntProgress(value=0, description='metric', max=3, style=ProgressStyle(description_width='initia…"
      ]
     },
     "metadata": {},
     "output_type": "display_data"
    },
    {
     "data": {
      "application/vnd.jupyter.widget-view+json": {
       "model_id": "",
       "version_major": 2,
       "version_minor": 0
      },
      "text/plain": [
       "HBox(children=(IntProgress(value=0, description='method', max=2, style=ProgressStyle(description_width='initia…"
      ]
     },
     "metadata": {},
     "output_type": "display_data"
    },
    {
     "data": {
      "application/vnd.jupyter.widget-view+json": {
       "model_id": "",
       "version_major": 2,
       "version_minor": 0
      },
      "text/plain": [
       "HBox(children=(IntProgress(value=0, description='method', max=2, style=ProgressStyle(description_width='initia…"
      ]
     },
     "metadata": {},
     "output_type": "display_data"
    },
    {
     "data": {
      "application/vnd.jupyter.widget-view+json": {
       "model_id": "",
       "version_major": 2,
       "version_minor": 0
      },
      "text/plain": [
       "HBox(children=(IntProgress(value=0, description='method', max=2, style=ProgressStyle(description_width='initia…"
      ]
     },
     "metadata": {},
     "output_type": "display_data"
    },
    {
     "data": {
      "application/vnd.jupyter.widget-view+json": {
       "model_id": "",
       "version_major": 2,
       "version_minor": 0
      },
      "text/plain": [
       "HBox(children=(IntProgress(value=0, description='binary', max=2, style=ProgressStyle(description_width='initia…"
      ]
     },
     "metadata": {},
     "output_type": "display_data"
    },
    {
     "data": {
      "application/vnd.jupyter.widget-view+json": {
       "model_id": "",
       "version_major": 2,
       "version_minor": 0
      },
      "text/plain": [
       "HBox(children=(IntProgress(value=0, description='metric', max=3, style=ProgressStyle(description_width='initia…"
      ]
     },
     "metadata": {},
     "output_type": "display_data"
    },
    {
     "data": {
      "application/vnd.jupyter.widget-view+json": {
       "model_id": "",
       "version_major": 2,
       "version_minor": 0
      },
      "text/plain": [
       "HBox(children=(IntProgress(value=0, description='method', max=2, style=ProgressStyle(description_width='initia…"
      ]
     },
     "metadata": {},
     "output_type": "display_data"
    },
    {
     "data": {
      "application/vnd.jupyter.widget-view+json": {
       "model_id": "",
       "version_major": 2,
       "version_minor": 0
      },
      "text/plain": [
       "HBox(children=(IntProgress(value=0, description='method', max=2, style=ProgressStyle(description_width='initia…"
      ]
     },
     "metadata": {},
     "output_type": "display_data"
    },
    {
     "data": {
      "application/vnd.jupyter.widget-view+json": {
       "model_id": "",
       "version_major": 2,
       "version_minor": 0
      },
      "text/plain": [
       "HBox(children=(IntProgress(value=0, description='method', max=2, style=ProgressStyle(description_width='initia…"
      ]
     },
     "metadata": {},
     "output_type": "display_data"
    },
    {
     "data": {
      "application/vnd.jupyter.widget-view+json": {
       "model_id": "",
       "version_major": 2,
       "version_minor": 0
      },
      "text/plain": [
       "HBox(children=(IntProgress(value=0, description='metric', max=3, style=ProgressStyle(description_width='initia…"
      ]
     },
     "metadata": {},
     "output_type": "display_data"
    },
    {
     "data": {
      "application/vnd.jupyter.widget-view+json": {
       "model_id": "",
       "version_major": 2,
       "version_minor": 0
      },
      "text/plain": [
       "HBox(children=(IntProgress(value=0, description='method', max=2, style=ProgressStyle(description_width='initia…"
      ]
     },
     "metadata": {},
     "output_type": "display_data"
    },
    {
     "data": {
      "application/vnd.jupyter.widget-view+json": {
       "model_id": "",
       "version_major": 2,
       "version_minor": 0
      },
      "text/plain": [
       "HBox(children=(IntProgress(value=0, description='method', max=2, style=ProgressStyle(description_width='initia…"
      ]
     },
     "metadata": {},
     "output_type": "display_data"
    },
    {
     "data": {
      "application/vnd.jupyter.widget-view+json": {
       "model_id": "",
       "version_major": 2,
       "version_minor": 0
      },
      "text/plain": [
       "HBox(children=(IntProgress(value=0, description='method', max=2, style=ProgressStyle(description_width='initia…"
      ]
     },
     "metadata": {},
     "output_type": "display_data"
    },
    {
     "data": {
      "application/vnd.jupyter.widget-view+json": {
       "model_id": "",
       "version_major": 2,
       "version_minor": 0
      },
      "text/plain": [
       "HBox(children=(IntProgress(value=0, description='binary', max=2, style=ProgressStyle(description_width='initia…"
      ]
     },
     "metadata": {},
     "output_type": "display_data"
    },
    {
     "data": {
      "application/vnd.jupyter.widget-view+json": {
       "model_id": "",
       "version_major": 2,
       "version_minor": 0
      },
      "text/plain": [
       "HBox(children=(IntProgress(value=0, description='metric', max=3, style=ProgressStyle(description_width='initia…"
      ]
     },
     "metadata": {},
     "output_type": "display_data"
    },
    {
     "data": {
      "application/vnd.jupyter.widget-view+json": {
       "model_id": "",
       "version_major": 2,
       "version_minor": 0
      },
      "text/plain": [
       "HBox(children=(IntProgress(value=0, description='method', max=2, style=ProgressStyle(description_width='initia…"
      ]
     },
     "metadata": {},
     "output_type": "display_data"
    },
    {
     "data": {
      "application/vnd.jupyter.widget-view+json": {
       "model_id": "",
       "version_major": 2,
       "version_minor": 0
      },
      "text/plain": [
       "HBox(children=(IntProgress(value=0, description='method', max=2, style=ProgressStyle(description_width='initia…"
      ]
     },
     "metadata": {},
     "output_type": "display_data"
    },
    {
     "data": {
      "application/vnd.jupyter.widget-view+json": {
       "model_id": "",
       "version_major": 2,
       "version_minor": 0
      },
      "text/plain": [
       "HBox(children=(IntProgress(value=0, description='method', max=2, style=ProgressStyle(description_width='initia…"
      ]
     },
     "metadata": {},
     "output_type": "display_data"
    },
    {
     "data": {
      "application/vnd.jupyter.widget-view+json": {
       "model_id": "",
       "version_major": 2,
       "version_minor": 0
      },
      "text/plain": [
       "HBox(children=(IntProgress(value=0, description='metric', max=3, style=ProgressStyle(description_width='initia…"
      ]
     },
     "metadata": {},
     "output_type": "display_data"
    },
    {
     "data": {
      "application/vnd.jupyter.widget-view+json": {
       "model_id": "",
       "version_major": 2,
       "version_minor": 0
      },
      "text/plain": [
       "HBox(children=(IntProgress(value=0, description='method', max=2, style=ProgressStyle(description_width='initia…"
      ]
     },
     "metadata": {},
     "output_type": "display_data"
    },
    {
     "data": {
      "application/vnd.jupyter.widget-view+json": {
       "model_id": "",
       "version_major": 2,
       "version_minor": 0
      },
      "text/plain": [
       "HBox(children=(IntProgress(value=0, description='method', max=2, style=ProgressStyle(description_width='initia…"
      ]
     },
     "metadata": {},
     "output_type": "display_data"
    },
    {
     "data": {
      "application/vnd.jupyter.widget-view+json": {
       "model_id": "",
       "version_major": 2,
       "version_minor": 0
      },
      "text/plain": [
       "HBox(children=(IntProgress(value=0, description='method', max=2, style=ProgressStyle(description_width='initia…"
      ]
     },
     "metadata": {},
     "output_type": "display_data"
    },
    {
     "data": {
      "application/vnd.jupyter.widget-view+json": {
       "model_id": "",
       "version_major": 2,
       "version_minor": 0
      },
      "text/plain": [
       "HBox(children=(IntProgress(value=0, description='min_df', max=9, style=ProgressStyle(description_width='initia…"
      ]
     },
     "metadata": {},
     "output_type": "display_data"
    },
    {
     "data": {
      "application/vnd.jupyter.widget-view+json": {
       "model_id": "",
       "version_major": 2,
       "version_minor": 0
      },
      "text/plain": [
       "HBox(children=(IntProgress(value=0, description='binary', max=2, style=ProgressStyle(description_width='initia…"
      ]
     },
     "metadata": {},
     "output_type": "display_data"
    },
    {
     "data": {
      "application/vnd.jupyter.widget-view+json": {
       "model_id": "",
       "version_major": 2,
       "version_minor": 0
      },
      "text/plain": [
       "HBox(children=(IntProgress(value=0, description='metric', max=3, style=ProgressStyle(description_width='initia…"
      ]
     },
     "metadata": {},
     "output_type": "display_data"
    },
    {
     "data": {
      "application/vnd.jupyter.widget-view+json": {
       "model_id": "",
       "version_major": 2,
       "version_minor": 0
      },
      "text/plain": [
       "HBox(children=(IntProgress(value=0, description='method', max=2, style=ProgressStyle(description_width='initia…"
      ]
     },
     "metadata": {},
     "output_type": "display_data"
    },
    {
     "data": {
      "application/vnd.jupyter.widget-view+json": {
       "model_id": "",
       "version_major": 2,
       "version_minor": 0
      },
      "text/plain": [
       "HBox(children=(IntProgress(value=0, description='method', max=2, style=ProgressStyle(description_width='initia…"
      ]
     },
     "metadata": {},
     "output_type": "display_data"
    },
    {
     "data": {
      "application/vnd.jupyter.widget-view+json": {
       "model_id": "",
       "version_major": 2,
       "version_minor": 0
      },
      "text/plain": [
       "HBox(children=(IntProgress(value=0, description='method', max=2, style=ProgressStyle(description_width='initia…"
      ]
     },
     "metadata": {},
     "output_type": "display_data"
    },
    {
     "data": {
      "application/vnd.jupyter.widget-view+json": {
       "model_id": "",
       "version_major": 2,
       "version_minor": 0
      },
      "text/plain": [
       "HBox(children=(IntProgress(value=0, description='metric', max=3, style=ProgressStyle(description_width='initia…"
      ]
     },
     "metadata": {},
     "output_type": "display_data"
    },
    {
     "data": {
      "application/vnd.jupyter.widget-view+json": {
       "model_id": "",
       "version_major": 2,
       "version_minor": 0
      },
      "text/plain": [
       "HBox(children=(IntProgress(value=0, description='method', max=2, style=ProgressStyle(description_width='initia…"
      ]
     },
     "metadata": {},
     "output_type": "display_data"
    },
    {
     "data": {
      "application/vnd.jupyter.widget-view+json": {
       "model_id": "",
       "version_major": 2,
       "version_minor": 0
      },
      "text/plain": [
       "HBox(children=(IntProgress(value=0, description='method', max=2, style=ProgressStyle(description_width='initia…"
      ]
     },
     "metadata": {},
     "output_type": "display_data"
    },
    {
     "data": {
      "application/vnd.jupyter.widget-view+json": {
       "model_id": "",
       "version_major": 2,
       "version_minor": 0
      },
      "text/plain": [
       "HBox(children=(IntProgress(value=0, description='method', max=2, style=ProgressStyle(description_width='initia…"
      ]
     },
     "metadata": {},
     "output_type": "display_data"
    },
    {
     "data": {
      "application/vnd.jupyter.widget-view+json": {
       "model_id": "",
       "version_major": 2,
       "version_minor": 0
      },
      "text/plain": [
       "HBox(children=(IntProgress(value=0, description='binary', max=2, style=ProgressStyle(description_width='initia…"
      ]
     },
     "metadata": {},
     "output_type": "display_data"
    },
    {
     "data": {
      "application/vnd.jupyter.widget-view+json": {
       "model_id": "",
       "version_major": 2,
       "version_minor": 0
      },
      "text/plain": [
       "HBox(children=(IntProgress(value=0, description='metric', max=3, style=ProgressStyle(description_width='initia…"
      ]
     },
     "metadata": {},
     "output_type": "display_data"
    },
    {
     "data": {
      "application/vnd.jupyter.widget-view+json": {
       "model_id": "",
       "version_major": 2,
       "version_minor": 0
      },
      "text/plain": [
       "HBox(children=(IntProgress(value=0, description='method', max=2, style=ProgressStyle(description_width='initia…"
      ]
     },
     "metadata": {},
     "output_type": "display_data"
    },
    {
     "data": {
      "application/vnd.jupyter.widget-view+json": {
       "model_id": "",
       "version_major": 2,
       "version_minor": 0
      },
      "text/plain": [
       "HBox(children=(IntProgress(value=0, description='method', max=2, style=ProgressStyle(description_width='initia…"
      ]
     },
     "metadata": {},
     "output_type": "display_data"
    },
    {
     "data": {
      "application/vnd.jupyter.widget-view+json": {
       "model_id": "",
       "version_major": 2,
       "version_minor": 0
      },
      "text/plain": [
       "HBox(children=(IntProgress(value=0, description='method', max=2, style=ProgressStyle(description_width='initia…"
      ]
     },
     "metadata": {},
     "output_type": "display_data"
    },
    {
     "data": {
      "application/vnd.jupyter.widget-view+json": {
       "model_id": "",
       "version_major": 2,
       "version_minor": 0
      },
      "text/plain": [
       "HBox(children=(IntProgress(value=0, description='metric', max=3, style=ProgressStyle(description_width='initia…"
      ]
     },
     "metadata": {},
     "output_type": "display_data"
    },
    {
     "data": {
      "application/vnd.jupyter.widget-view+json": {
       "model_id": "",
       "version_major": 2,
       "version_minor": 0
      },
      "text/plain": [
       "HBox(children=(IntProgress(value=0, description='method', max=2, style=ProgressStyle(description_width='initia…"
      ]
     },
     "metadata": {},
     "output_type": "display_data"
    },
    {
     "data": {
      "application/vnd.jupyter.widget-view+json": {
       "model_id": "",
       "version_major": 2,
       "version_minor": 0
      },
      "text/plain": [
       "HBox(children=(IntProgress(value=0, description='method', max=2, style=ProgressStyle(description_width='initia…"
      ]
     },
     "metadata": {},
     "output_type": "display_data"
    },
    {
     "data": {
      "application/vnd.jupyter.widget-view+json": {
       "model_id": "",
       "version_major": 2,
       "version_minor": 0
      },
      "text/plain": [
       "HBox(children=(IntProgress(value=0, description='method', max=2, style=ProgressStyle(description_width='initia…"
      ]
     },
     "metadata": {},
     "output_type": "display_data"
    },
    {
     "data": {
      "application/vnd.jupyter.widget-view+json": {
       "model_id": "",
       "version_major": 2,
       "version_minor": 0
      },
      "text/plain": [
       "HBox(children=(IntProgress(value=0, description='binary', max=2, style=ProgressStyle(description_width='initia…"
      ]
     },
     "metadata": {},
     "output_type": "display_data"
    },
    {
     "data": {
      "application/vnd.jupyter.widget-view+json": {
       "model_id": "",
       "version_major": 2,
       "version_minor": 0
      },
      "text/plain": [
       "HBox(children=(IntProgress(value=0, description='metric', max=3, style=ProgressStyle(description_width='initia…"
      ]
     },
     "metadata": {},
     "output_type": "display_data"
    },
    {
     "data": {
      "application/vnd.jupyter.widget-view+json": {
       "model_id": "",
       "version_major": 2,
       "version_minor": 0
      },
      "text/plain": [
       "HBox(children=(IntProgress(value=0, description='method', max=2, style=ProgressStyle(description_width='initia…"
      ]
     },
     "metadata": {},
     "output_type": "display_data"
    },
    {
     "data": {
      "application/vnd.jupyter.widget-view+json": {
       "model_id": "",
       "version_major": 2,
       "version_minor": 0
      },
      "text/plain": [
       "HBox(children=(IntProgress(value=0, description='method', max=2, style=ProgressStyle(description_width='initia…"
      ]
     },
     "metadata": {},
     "output_type": "display_data"
    },
    {
     "data": {
      "application/vnd.jupyter.widget-view+json": {
       "model_id": "",
       "version_major": 2,
       "version_minor": 0
      },
      "text/plain": [
       "HBox(children=(IntProgress(value=0, description='method', max=2, style=ProgressStyle(description_width='initia…"
      ]
     },
     "metadata": {},
     "output_type": "display_data"
    },
    {
     "data": {
      "application/vnd.jupyter.widget-view+json": {
       "model_id": "",
       "version_major": 2,
       "version_minor": 0
      },
      "text/plain": [
       "HBox(children=(IntProgress(value=0, description='metric', max=3, style=ProgressStyle(description_width='initia…"
      ]
     },
     "metadata": {},
     "output_type": "display_data"
    },
    {
     "data": {
      "application/vnd.jupyter.widget-view+json": {
       "model_id": "",
       "version_major": 2,
       "version_minor": 0
      },
      "text/plain": [
       "HBox(children=(IntProgress(value=0, description='method', max=2, style=ProgressStyle(description_width='initia…"
      ]
     },
     "metadata": {},
     "output_type": "display_data"
    },
    {
     "data": {
      "application/vnd.jupyter.widget-view+json": {
       "model_id": "",
       "version_major": 2,
       "version_minor": 0
      },
      "text/plain": [
       "HBox(children=(IntProgress(value=0, description='method', max=2, style=ProgressStyle(description_width='initia…"
      ]
     },
     "metadata": {},
     "output_type": "display_data"
    },
    {
     "data": {
      "application/vnd.jupyter.widget-view+json": {
       "model_id": "",
       "version_major": 2,
       "version_minor": 0
      },
      "text/plain": [
       "HBox(children=(IntProgress(value=0, description='method', max=2, style=ProgressStyle(description_width='initia…"
      ]
     },
     "metadata": {},
     "output_type": "display_data"
    },
    {
     "data": {
      "application/vnd.jupyter.widget-view+json": {
       "model_id": "",
       "version_major": 2,
       "version_minor": 0
      },
      "text/plain": [
       "HBox(children=(IntProgress(value=0, description='binary', max=2, style=ProgressStyle(description_width='initia…"
      ]
     },
     "metadata": {},
     "output_type": "display_data"
    },
    {
     "data": {
      "application/vnd.jupyter.widget-view+json": {
       "model_id": "",
       "version_major": 2,
       "version_minor": 0
      },
      "text/plain": [
       "HBox(children=(IntProgress(value=0, description='metric', max=3, style=ProgressStyle(description_width='initia…"
      ]
     },
     "metadata": {},
     "output_type": "display_data"
    },
    {
     "data": {
      "application/vnd.jupyter.widget-view+json": {
       "model_id": "",
       "version_major": 2,
       "version_minor": 0
      },
      "text/plain": [
       "HBox(children=(IntProgress(value=0, description='method', max=2, style=ProgressStyle(description_width='initia…"
      ]
     },
     "metadata": {},
     "output_type": "display_data"
    },
    {
     "data": {
      "application/vnd.jupyter.widget-view+json": {
       "model_id": "",
       "version_major": 2,
       "version_minor": 0
      },
      "text/plain": [
       "HBox(children=(IntProgress(value=0, description='method', max=2, style=ProgressStyle(description_width='initia…"
      ]
     },
     "metadata": {},
     "output_type": "display_data"
    },
    {
     "data": {
      "application/vnd.jupyter.widget-view+json": {
       "model_id": "",
       "version_major": 2,
       "version_minor": 0
      },
      "text/plain": [
       "HBox(children=(IntProgress(value=0, description='method', max=2, style=ProgressStyle(description_width='initia…"
      ]
     },
     "metadata": {},
     "output_type": "display_data"
    },
    {
     "data": {
      "application/vnd.jupyter.widget-view+json": {
       "model_id": "",
       "version_major": 2,
       "version_minor": 0
      },
      "text/plain": [
       "HBox(children=(IntProgress(value=0, description='metric', max=3, style=ProgressStyle(description_width='initia…"
      ]
     },
     "metadata": {},
     "output_type": "display_data"
    },
    {
     "data": {
      "application/vnd.jupyter.widget-view+json": {
       "model_id": "",
       "version_major": 2,
       "version_minor": 0
      },
      "text/plain": [
       "HBox(children=(IntProgress(value=0, description='method', max=2, style=ProgressStyle(description_width='initia…"
      ]
     },
     "metadata": {},
     "output_type": "display_data"
    },
    {
     "data": {
      "application/vnd.jupyter.widget-view+json": {
       "model_id": "",
       "version_major": 2,
       "version_minor": 0
      },
      "text/plain": [
       "HBox(children=(IntProgress(value=0, description='method', max=2, style=ProgressStyle(description_width='initia…"
      ]
     },
     "metadata": {},
     "output_type": "display_data"
    },
    {
     "data": {
      "application/vnd.jupyter.widget-view+json": {
       "model_id": "",
       "version_major": 2,
       "version_minor": 0
      },
      "text/plain": [
       "HBox(children=(IntProgress(value=0, description='method', max=2, style=ProgressStyle(description_width='initia…"
      ]
     },
     "metadata": {},
     "output_type": "display_data"
    },
    {
     "data": {
      "application/vnd.jupyter.widget-view+json": {
       "model_id": "",
       "version_major": 2,
       "version_minor": 0
      },
      "text/plain": [
       "HBox(children=(IntProgress(value=0, description='binary', max=2, style=ProgressStyle(description_width='initia…"
      ]
     },
     "metadata": {},
     "output_type": "display_data"
    },
    {
     "data": {
      "application/vnd.jupyter.widget-view+json": {
       "model_id": "",
       "version_major": 2,
       "version_minor": 0
      },
      "text/plain": [
       "HBox(children=(IntProgress(value=0, description='metric', max=3, style=ProgressStyle(description_width='initia…"
      ]
     },
     "metadata": {},
     "output_type": "display_data"
    },
    {
     "data": {
      "application/vnd.jupyter.widget-view+json": {
       "model_id": "",
       "version_major": 2,
       "version_minor": 0
      },
      "text/plain": [
       "HBox(children=(IntProgress(value=0, description='method', max=2, style=ProgressStyle(description_width='initia…"
      ]
     },
     "metadata": {},
     "output_type": "display_data"
    },
    {
     "data": {
      "application/vnd.jupyter.widget-view+json": {
       "model_id": "",
       "version_major": 2,
       "version_minor": 0
      },
      "text/plain": [
       "HBox(children=(IntProgress(value=0, description='method', max=2, style=ProgressStyle(description_width='initia…"
      ]
     },
     "metadata": {},
     "output_type": "display_data"
    },
    {
     "data": {
      "application/vnd.jupyter.widget-view+json": {
       "model_id": "",
       "version_major": 2,
       "version_minor": 0
      },
      "text/plain": [
       "HBox(children=(IntProgress(value=0, description='method', max=2, style=ProgressStyle(description_width='initia…"
      ]
     },
     "metadata": {},
     "output_type": "display_data"
    },
    {
     "data": {
      "application/vnd.jupyter.widget-view+json": {
       "model_id": "",
       "version_major": 2,
       "version_minor": 0
      },
      "text/plain": [
       "HBox(children=(IntProgress(value=0, description='metric', max=3, style=ProgressStyle(description_width='initia…"
      ]
     },
     "metadata": {},
     "output_type": "display_data"
    },
    {
     "data": {
      "application/vnd.jupyter.widget-view+json": {
       "model_id": "",
       "version_major": 2,
       "version_minor": 0
      },
      "text/plain": [
       "HBox(children=(IntProgress(value=0, description='method', max=2, style=ProgressStyle(description_width='initia…"
      ]
     },
     "metadata": {},
     "output_type": "display_data"
    },
    {
     "data": {
      "application/vnd.jupyter.widget-view+json": {
       "model_id": "",
       "version_major": 2,
       "version_minor": 0
      },
      "text/plain": [
       "HBox(children=(IntProgress(value=0, description='method', max=2, style=ProgressStyle(description_width='initia…"
      ]
     },
     "metadata": {},
     "output_type": "display_data"
    },
    {
     "data": {
      "application/vnd.jupyter.widget-view+json": {
       "model_id": "",
       "version_major": 2,
       "version_minor": 0
      },
      "text/plain": [
       "HBox(children=(IntProgress(value=0, description='method', max=2, style=ProgressStyle(description_width='initia…"
      ]
     },
     "metadata": {},
     "output_type": "display_data"
    },
    {
     "data": {
      "application/vnd.jupyter.widget-view+json": {
       "model_id": "",
       "version_major": 2,
       "version_minor": 0
      },
      "text/plain": [
       "HBox(children=(IntProgress(value=0, description='binary', max=2, style=ProgressStyle(description_width='initia…"
      ]
     },
     "metadata": {},
     "output_type": "display_data"
    },
    {
     "data": {
      "application/vnd.jupyter.widget-view+json": {
       "model_id": "",
       "version_major": 2,
       "version_minor": 0
      },
      "text/plain": [
       "HBox(children=(IntProgress(value=0, description='metric', max=3, style=ProgressStyle(description_width='initia…"
      ]
     },
     "metadata": {},
     "output_type": "display_data"
    },
    {
     "data": {
      "application/vnd.jupyter.widget-view+json": {
       "model_id": "",
       "version_major": 2,
       "version_minor": 0
      },
      "text/plain": [
       "HBox(children=(IntProgress(value=0, description='method', max=2, style=ProgressStyle(description_width='initia…"
      ]
     },
     "metadata": {},
     "output_type": "display_data"
    },
    {
     "data": {
      "application/vnd.jupyter.widget-view+json": {
       "model_id": "",
       "version_major": 2,
       "version_minor": 0
      },
      "text/plain": [
       "HBox(children=(IntProgress(value=0, description='method', max=2, style=ProgressStyle(description_width='initia…"
      ]
     },
     "metadata": {},
     "output_type": "display_data"
    },
    {
     "data": {
      "application/vnd.jupyter.widget-view+json": {
       "model_id": "",
       "version_major": 2,
       "version_minor": 0
      },
      "text/plain": [
       "HBox(children=(IntProgress(value=0, description='method', max=2, style=ProgressStyle(description_width='initia…"
      ]
     },
     "metadata": {},
     "output_type": "display_data"
    },
    {
     "data": {
      "application/vnd.jupyter.widget-view+json": {
       "model_id": "",
       "version_major": 2,
       "version_minor": 0
      },
      "text/plain": [
       "HBox(children=(IntProgress(value=0, description='metric', max=3, style=ProgressStyle(description_width='initia…"
      ]
     },
     "metadata": {},
     "output_type": "display_data"
    },
    {
     "data": {
      "application/vnd.jupyter.widget-view+json": {
       "model_id": "",
       "version_major": 2,
       "version_minor": 0
      },
      "text/plain": [
       "HBox(children=(IntProgress(value=0, description='method', max=2, style=ProgressStyle(description_width='initia…"
      ]
     },
     "metadata": {},
     "output_type": "display_data"
    },
    {
     "data": {
      "application/vnd.jupyter.widget-view+json": {
       "model_id": "",
       "version_major": 2,
       "version_minor": 0
      },
      "text/plain": [
       "HBox(children=(IntProgress(value=0, description='method', max=2, style=ProgressStyle(description_width='initia…"
      ]
     },
     "metadata": {},
     "output_type": "display_data"
    },
    {
     "data": {
      "application/vnd.jupyter.widget-view+json": {
       "model_id": "",
       "version_major": 2,
       "version_minor": 0
      },
      "text/plain": [
       "HBox(children=(IntProgress(value=0, description='method', max=2, style=ProgressStyle(description_width='initia…"
      ]
     },
     "metadata": {},
     "output_type": "display_data"
    },
    {
     "data": {
      "application/vnd.jupyter.widget-view+json": {
       "model_id": "",
       "version_major": 2,
       "version_minor": 0
      },
      "text/plain": [
       "HBox(children=(IntProgress(value=0, description='binary', max=2, style=ProgressStyle(description_width='initia…"
      ]
     },
     "metadata": {},
     "output_type": "display_data"
    },
    {
     "data": {
      "application/vnd.jupyter.widget-view+json": {
       "model_id": "",
       "version_major": 2,
       "version_minor": 0
      },
      "text/plain": [
       "HBox(children=(IntProgress(value=0, description='metric', max=3, style=ProgressStyle(description_width='initia…"
      ]
     },
     "metadata": {},
     "output_type": "display_data"
    },
    {
     "data": {
      "application/vnd.jupyter.widget-view+json": {
       "model_id": "",
       "version_major": 2,
       "version_minor": 0
      },
      "text/plain": [
       "HBox(children=(IntProgress(value=0, description='method', max=2, style=ProgressStyle(description_width='initia…"
      ]
     },
     "metadata": {},
     "output_type": "display_data"
    },
    {
     "data": {
      "application/vnd.jupyter.widget-view+json": {
       "model_id": "",
       "version_major": 2,
       "version_minor": 0
      },
      "text/plain": [
       "HBox(children=(IntProgress(value=0, description='method', max=2, style=ProgressStyle(description_width='initia…"
      ]
     },
     "metadata": {},
     "output_type": "display_data"
    },
    {
     "data": {
      "application/vnd.jupyter.widget-view+json": {
       "model_id": "",
       "version_major": 2,
       "version_minor": 0
      },
      "text/plain": [
       "HBox(children=(IntProgress(value=0, description='method', max=2, style=ProgressStyle(description_width='initia…"
      ]
     },
     "metadata": {},
     "output_type": "display_data"
    },
    {
     "data": {
      "application/vnd.jupyter.widget-view+json": {
       "model_id": "",
       "version_major": 2,
       "version_minor": 0
      },
      "text/plain": [
       "HBox(children=(IntProgress(value=0, description='metric', max=3, style=ProgressStyle(description_width='initia…"
      ]
     },
     "metadata": {},
     "output_type": "display_data"
    },
    {
     "data": {
      "application/vnd.jupyter.widget-view+json": {
       "model_id": "",
       "version_major": 2,
       "version_minor": 0
      },
      "text/plain": [
       "HBox(children=(IntProgress(value=0, description='method', max=2, style=ProgressStyle(description_width='initia…"
      ]
     },
     "metadata": {},
     "output_type": "display_data"
    },
    {
     "data": {
      "application/vnd.jupyter.widget-view+json": {
       "model_id": "",
       "version_major": 2,
       "version_minor": 0
      },
      "text/plain": [
       "HBox(children=(IntProgress(value=0, description='method', max=2, style=ProgressStyle(description_width='initia…"
      ]
     },
     "metadata": {},
     "output_type": "display_data"
    },
    {
     "data": {
      "application/vnd.jupyter.widget-view+json": {
       "model_id": "",
       "version_major": 2,
       "version_minor": 0
      },
      "text/plain": [
       "HBox(children=(IntProgress(value=0, description='method', max=2, style=ProgressStyle(description_width='initia…"
      ]
     },
     "metadata": {},
     "output_type": "display_data"
    },
    {
     "data": {
      "application/vnd.jupyter.widget-view+json": {
       "model_id": "",
       "version_major": 2,
       "version_minor": 0
      },
      "text/plain": [
       "HBox(children=(IntProgress(value=0, description='binary', max=2, style=ProgressStyle(description_width='initia…"
      ]
     },
     "metadata": {},
     "output_type": "display_data"
    },
    {
     "data": {
      "application/vnd.jupyter.widget-view+json": {
       "model_id": "",
       "version_major": 2,
       "version_minor": 0
      },
      "text/plain": [
       "HBox(children=(IntProgress(value=0, description='metric', max=3, style=ProgressStyle(description_width='initia…"
      ]
     },
     "metadata": {},
     "output_type": "display_data"
    },
    {
     "data": {
      "application/vnd.jupyter.widget-view+json": {
       "model_id": "",
       "version_major": 2,
       "version_minor": 0
      },
      "text/plain": [
       "HBox(children=(IntProgress(value=0, description='method', max=2, style=ProgressStyle(description_width='initia…"
      ]
     },
     "metadata": {},
     "output_type": "display_data"
    },
    {
     "data": {
      "application/vnd.jupyter.widget-view+json": {
       "model_id": "",
       "version_major": 2,
       "version_minor": 0
      },
      "text/plain": [
       "HBox(children=(IntProgress(value=0, description='method', max=2, style=ProgressStyle(description_width='initia…"
      ]
     },
     "metadata": {},
     "output_type": "display_data"
    },
    {
     "data": {
      "application/vnd.jupyter.widget-view+json": {
       "model_id": "",
       "version_major": 2,
       "version_minor": 0
      },
      "text/plain": [
       "HBox(children=(IntProgress(value=0, description='method', max=2, style=ProgressStyle(description_width='initia…"
      ]
     },
     "metadata": {},
     "output_type": "display_data"
    },
    {
     "data": {
      "application/vnd.jupyter.widget-view+json": {
       "model_id": "",
       "version_major": 2,
       "version_minor": 0
      },
      "text/plain": [
       "HBox(children=(IntProgress(value=0, description='metric', max=3, style=ProgressStyle(description_width='initia…"
      ]
     },
     "metadata": {},
     "output_type": "display_data"
    },
    {
     "data": {
      "application/vnd.jupyter.widget-view+json": {
       "model_id": "",
       "version_major": 2,
       "version_minor": 0
      },
      "text/plain": [
       "HBox(children=(IntProgress(value=0, description='method', max=2, style=ProgressStyle(description_width='initia…"
      ]
     },
     "metadata": {},
     "output_type": "display_data"
    },
    {
     "data": {
      "application/vnd.jupyter.widget-view+json": {
       "model_id": "",
       "version_major": 2,
       "version_minor": 0
      },
      "text/plain": [
       "HBox(children=(IntProgress(value=0, description='method', max=2, style=ProgressStyle(description_width='initia…"
      ]
     },
     "metadata": {},
     "output_type": "display_data"
    },
    {
     "data": {
      "application/vnd.jupyter.widget-view+json": {
       "model_id": "",
       "version_major": 2,
       "version_minor": 0
      },
      "text/plain": [
       "HBox(children=(IntProgress(value=0, description='method', max=2, style=ProgressStyle(description_width='initia…"
      ]
     },
     "metadata": {},
     "output_type": "display_data"
    },
    {
     "data": {
      "application/vnd.jupyter.widget-view+json": {
       "model_id": "",
       "version_major": 2,
       "version_minor": 0
      },
      "text/plain": [
       "HBox(children=(IntProgress(value=0, description='binary', max=2, style=ProgressStyle(description_width='initia…"
      ]
     },
     "metadata": {},
     "output_type": "display_data"
    },
    {
     "data": {
      "application/vnd.jupyter.widget-view+json": {
       "model_id": "",
       "version_major": 2,
       "version_minor": 0
      },
      "text/plain": [
       "HBox(children=(IntProgress(value=0, description='metric', max=3, style=ProgressStyle(description_width='initia…"
      ]
     },
     "metadata": {},
     "output_type": "display_data"
    },
    {
     "data": {
      "application/vnd.jupyter.widget-view+json": {
       "model_id": "",
       "version_major": 2,
       "version_minor": 0
      },
      "text/plain": [
       "HBox(children=(IntProgress(value=0, description='method', max=2, style=ProgressStyle(description_width='initia…"
      ]
     },
     "metadata": {},
     "output_type": "display_data"
    },
    {
     "data": {
      "application/vnd.jupyter.widget-view+json": {
       "model_id": "",
       "version_major": 2,
       "version_minor": 0
      },
      "text/plain": [
       "HBox(children=(IntProgress(value=0, description='method', max=2, style=ProgressStyle(description_width='initia…"
      ]
     },
     "metadata": {},
     "output_type": "display_data"
    },
    {
     "data": {
      "application/vnd.jupyter.widget-view+json": {
       "model_id": "",
       "version_major": 2,
       "version_minor": 0
      },
      "text/plain": [
       "HBox(children=(IntProgress(value=0, description='method', max=2, style=ProgressStyle(description_width='initia…"
      ]
     },
     "metadata": {},
     "output_type": "display_data"
    },
    {
     "data": {
      "application/vnd.jupyter.widget-view+json": {
       "model_id": "",
       "version_major": 2,
       "version_minor": 0
      },
      "text/plain": [
       "HBox(children=(IntProgress(value=0, description='metric', max=3, style=ProgressStyle(description_width='initia…"
      ]
     },
     "metadata": {},
     "output_type": "display_data"
    },
    {
     "data": {
      "application/vnd.jupyter.widget-view+json": {
       "model_id": "",
       "version_major": 2,
       "version_minor": 0
      },
      "text/plain": [
       "HBox(children=(IntProgress(value=0, description='method', max=2, style=ProgressStyle(description_width='initia…"
      ]
     },
     "metadata": {},
     "output_type": "display_data"
    },
    {
     "data": {
      "application/vnd.jupyter.widget-view+json": {
       "model_id": "",
       "version_major": 2,
       "version_minor": 0
      },
      "text/plain": [
       "HBox(children=(IntProgress(value=0, description='method', max=2, style=ProgressStyle(description_width='initia…"
      ]
     },
     "metadata": {},
     "output_type": "display_data"
    },
    {
     "data": {
      "application/vnd.jupyter.widget-view+json": {
       "model_id": "",
       "version_major": 2,
       "version_minor": 0
      },
      "text/plain": [
       "HBox(children=(IntProgress(value=0, description='method', max=2, style=ProgressStyle(description_width='initia…"
      ]
     },
     "metadata": {},
     "output_type": "display_data"
    },
    {
     "data": {
      "application/vnd.jupyter.widget-view+json": {
       "model_id": "",
       "version_major": 2,
       "version_minor": 0
      },
      "text/plain": [
       "HBox(children=(IntProgress(value=0, description='vectorizer', max=3, style=ProgressStyle(description_width='in…"
      ]
     },
     "metadata": {},
     "output_type": "display_data"
    },
    {
     "data": {
      "application/vnd.jupyter.widget-view+json": {
       "model_id": "",
       "version_major": 2,
       "version_minor": 0
      },
      "text/plain": [
       "HBox(children=(IntProgress(value=0, description='min_df', max=9, style=ProgressStyle(description_width='initia…"
      ]
     },
     "metadata": {},
     "output_type": "display_data"
    },
    {
     "data": {
      "application/vnd.jupyter.widget-view+json": {
       "model_id": "",
       "version_major": 2,
       "version_minor": 0
      },
      "text/plain": [
       "HBox(children=(IntProgress(value=0, description='binary', max=2, style=ProgressStyle(description_width='initia…"
      ]
     },
     "metadata": {},
     "output_type": "display_data"
    },
    {
     "data": {
      "application/vnd.jupyter.widget-view+json": {
       "model_id": "",
       "version_major": 2,
       "version_minor": 0
      },
      "text/plain": [
       "HBox(children=(IntProgress(value=0, description='metric', max=3, style=ProgressStyle(description_width='initia…"
      ]
     },
     "metadata": {},
     "output_type": "display_data"
    },
    {
     "data": {
      "application/vnd.jupyter.widget-view+json": {
       "model_id": "",
       "version_major": 2,
       "version_minor": 0
      },
      "text/plain": [
       "HBox(children=(IntProgress(value=0, description='method', max=2, style=ProgressStyle(description_width='initia…"
      ]
     },
     "metadata": {},
     "output_type": "display_data"
    },
    {
     "data": {
      "application/vnd.jupyter.widget-view+json": {
       "model_id": "",
       "version_major": 2,
       "version_minor": 0
      },
      "text/plain": [
       "HBox(children=(IntProgress(value=0, description='method', max=2, style=ProgressStyle(description_width='initia…"
      ]
     },
     "metadata": {},
     "output_type": "display_data"
    },
    {
     "data": {
      "application/vnd.jupyter.widget-view+json": {
       "model_id": "",
       "version_major": 2,
       "version_minor": 0
      },
      "text/plain": [
       "HBox(children=(IntProgress(value=0, description='method', max=2, style=ProgressStyle(description_width='initia…"
      ]
     },
     "metadata": {},
     "output_type": "display_data"
    },
    {
     "data": {
      "application/vnd.jupyter.widget-view+json": {
       "model_id": "",
       "version_major": 2,
       "version_minor": 0
      },
      "text/plain": [
       "HBox(children=(IntProgress(value=0, description='metric', max=3, style=ProgressStyle(description_width='initia…"
      ]
     },
     "metadata": {},
     "output_type": "display_data"
    },
    {
     "data": {
      "application/vnd.jupyter.widget-view+json": {
       "model_id": "",
       "version_major": 2,
       "version_minor": 0
      },
      "text/plain": [
       "HBox(children=(IntProgress(value=0, description='method', max=2, style=ProgressStyle(description_width='initia…"
      ]
     },
     "metadata": {},
     "output_type": "display_data"
    },
    {
     "data": {
      "application/vnd.jupyter.widget-view+json": {
       "model_id": "",
       "version_major": 2,
       "version_minor": 0
      },
      "text/plain": [
       "HBox(children=(IntProgress(value=0, description='method', max=2, style=ProgressStyle(description_width='initia…"
      ]
     },
     "metadata": {},
     "output_type": "display_data"
    },
    {
     "data": {
      "application/vnd.jupyter.widget-view+json": {
       "model_id": "",
       "version_major": 2,
       "version_minor": 0
      },
      "text/plain": [
       "HBox(children=(IntProgress(value=0, description='method', max=2, style=ProgressStyle(description_width='initia…"
      ]
     },
     "metadata": {},
     "output_type": "display_data"
    },
    {
     "data": {
      "application/vnd.jupyter.widget-view+json": {
       "model_id": "",
       "version_major": 2,
       "version_minor": 0
      },
      "text/plain": [
       "HBox(children=(IntProgress(value=0, description='binary', max=2, style=ProgressStyle(description_width='initia…"
      ]
     },
     "metadata": {},
     "output_type": "display_data"
    },
    {
     "data": {
      "application/vnd.jupyter.widget-view+json": {
       "model_id": "",
       "version_major": 2,
       "version_minor": 0
      },
      "text/plain": [
       "HBox(children=(IntProgress(value=0, description='metric', max=3, style=ProgressStyle(description_width='initia…"
      ]
     },
     "metadata": {},
     "output_type": "display_data"
    },
    {
     "data": {
      "application/vnd.jupyter.widget-view+json": {
       "model_id": "",
       "version_major": 2,
       "version_minor": 0
      },
      "text/plain": [
       "HBox(children=(IntProgress(value=0, description='method', max=2, style=ProgressStyle(description_width='initia…"
      ]
     },
     "metadata": {},
     "output_type": "display_data"
    },
    {
     "data": {
      "application/vnd.jupyter.widget-view+json": {
       "model_id": "",
       "version_major": 2,
       "version_minor": 0
      },
      "text/plain": [
       "HBox(children=(IntProgress(value=0, description='method', max=2, style=ProgressStyle(description_width='initia…"
      ]
     },
     "metadata": {},
     "output_type": "display_data"
    },
    {
     "data": {
      "application/vnd.jupyter.widget-view+json": {
       "model_id": "",
       "version_major": 2,
       "version_minor": 0
      },
      "text/plain": [
       "HBox(children=(IntProgress(value=0, description='method', max=2, style=ProgressStyle(description_width='initia…"
      ]
     },
     "metadata": {},
     "output_type": "display_data"
    },
    {
     "data": {
      "application/vnd.jupyter.widget-view+json": {
       "model_id": "",
       "version_major": 2,
       "version_minor": 0
      },
      "text/plain": [
       "HBox(children=(IntProgress(value=0, description='metric', max=3, style=ProgressStyle(description_width='initia…"
      ]
     },
     "metadata": {},
     "output_type": "display_data"
    },
    {
     "data": {
      "application/vnd.jupyter.widget-view+json": {
       "model_id": "",
       "version_major": 2,
       "version_minor": 0
      },
      "text/plain": [
       "HBox(children=(IntProgress(value=0, description='method', max=2, style=ProgressStyle(description_width='initia…"
      ]
     },
     "metadata": {},
     "output_type": "display_data"
    },
    {
     "data": {
      "application/vnd.jupyter.widget-view+json": {
       "model_id": "",
       "version_major": 2,
       "version_minor": 0
      },
      "text/plain": [
       "HBox(children=(IntProgress(value=0, description='method', max=2, style=ProgressStyle(description_width='initia…"
      ]
     },
     "metadata": {},
     "output_type": "display_data"
    },
    {
     "data": {
      "application/vnd.jupyter.widget-view+json": {
       "model_id": "",
       "version_major": 2,
       "version_minor": 0
      },
      "text/plain": [
       "HBox(children=(IntProgress(value=0, description='method', max=2, style=ProgressStyle(description_width='initia…"
      ]
     },
     "metadata": {},
     "output_type": "display_data"
    },
    {
     "data": {
      "application/vnd.jupyter.widget-view+json": {
       "model_id": "",
       "version_major": 2,
       "version_minor": 0
      },
      "text/plain": [
       "HBox(children=(IntProgress(value=0, description='binary', max=2, style=ProgressStyle(description_width='initia…"
      ]
     },
     "metadata": {},
     "output_type": "display_data"
    },
    {
     "data": {
      "application/vnd.jupyter.widget-view+json": {
       "model_id": "",
       "version_major": 2,
       "version_minor": 0
      },
      "text/plain": [
       "HBox(children=(IntProgress(value=0, description='metric', max=3, style=ProgressStyle(description_width='initia…"
      ]
     },
     "metadata": {},
     "output_type": "display_data"
    },
    {
     "data": {
      "application/vnd.jupyter.widget-view+json": {
       "model_id": "",
       "version_major": 2,
       "version_minor": 0
      },
      "text/plain": [
       "HBox(children=(IntProgress(value=0, description='method', max=2, style=ProgressStyle(description_width='initia…"
      ]
     },
     "metadata": {},
     "output_type": "display_data"
    },
    {
     "data": {
      "application/vnd.jupyter.widget-view+json": {
       "model_id": "",
       "version_major": 2,
       "version_minor": 0
      },
      "text/plain": [
       "HBox(children=(IntProgress(value=0, description='method', max=2, style=ProgressStyle(description_width='initia…"
      ]
     },
     "metadata": {},
     "output_type": "display_data"
    },
    {
     "data": {
      "application/vnd.jupyter.widget-view+json": {
       "model_id": "",
       "version_major": 2,
       "version_minor": 0
      },
      "text/plain": [
       "HBox(children=(IntProgress(value=0, description='method', max=2, style=ProgressStyle(description_width='initia…"
      ]
     },
     "metadata": {},
     "output_type": "display_data"
    },
    {
     "data": {
      "application/vnd.jupyter.widget-view+json": {
       "model_id": "",
       "version_major": 2,
       "version_minor": 0
      },
      "text/plain": [
       "HBox(children=(IntProgress(value=0, description='metric', max=3, style=ProgressStyle(description_width='initia…"
      ]
     },
     "metadata": {},
     "output_type": "display_data"
    },
    {
     "data": {
      "application/vnd.jupyter.widget-view+json": {
       "model_id": "",
       "version_major": 2,
       "version_minor": 0
      },
      "text/plain": [
       "HBox(children=(IntProgress(value=0, description='method', max=2, style=ProgressStyle(description_width='initia…"
      ]
     },
     "metadata": {},
     "output_type": "display_data"
    },
    {
     "data": {
      "application/vnd.jupyter.widget-view+json": {
       "model_id": "",
       "version_major": 2,
       "version_minor": 0
      },
      "text/plain": [
       "HBox(children=(IntProgress(value=0, description='method', max=2, style=ProgressStyle(description_width='initia…"
      ]
     },
     "metadata": {},
     "output_type": "display_data"
    },
    {
     "data": {
      "application/vnd.jupyter.widget-view+json": {
       "model_id": "",
       "version_major": 2,
       "version_minor": 0
      },
      "text/plain": [
       "HBox(children=(IntProgress(value=0, description='method', max=2, style=ProgressStyle(description_width='initia…"
      ]
     },
     "metadata": {},
     "output_type": "display_data"
    },
    {
     "data": {
      "application/vnd.jupyter.widget-view+json": {
       "model_id": "",
       "version_major": 2,
       "version_minor": 0
      },
      "text/plain": [
       "HBox(children=(IntProgress(value=0, description='binary', max=2, style=ProgressStyle(description_width='initia…"
      ]
     },
     "metadata": {},
     "output_type": "display_data"
    },
    {
     "data": {
      "application/vnd.jupyter.widget-view+json": {
       "model_id": "",
       "version_major": 2,
       "version_minor": 0
      },
      "text/plain": [
       "HBox(children=(IntProgress(value=0, description='metric', max=3, style=ProgressStyle(description_width='initia…"
      ]
     },
     "metadata": {},
     "output_type": "display_data"
    },
    {
     "data": {
      "application/vnd.jupyter.widget-view+json": {
       "model_id": "",
       "version_major": 2,
       "version_minor": 0
      },
      "text/plain": [
       "HBox(children=(IntProgress(value=0, description='method', max=2, style=ProgressStyle(description_width='initia…"
      ]
     },
     "metadata": {},
     "output_type": "display_data"
    },
    {
     "data": {
      "application/vnd.jupyter.widget-view+json": {
       "model_id": "",
       "version_major": 2,
       "version_minor": 0
      },
      "text/plain": [
       "HBox(children=(IntProgress(value=0, description='method', max=2, style=ProgressStyle(description_width='initia…"
      ]
     },
     "metadata": {},
     "output_type": "display_data"
    },
    {
     "data": {
      "application/vnd.jupyter.widget-view+json": {
       "model_id": "",
       "version_major": 2,
       "version_minor": 0
      },
      "text/plain": [
       "HBox(children=(IntProgress(value=0, description='method', max=2, style=ProgressStyle(description_width='initia…"
      ]
     },
     "metadata": {},
     "output_type": "display_data"
    },
    {
     "data": {
      "application/vnd.jupyter.widget-view+json": {
       "model_id": "",
       "version_major": 2,
       "version_minor": 0
      },
      "text/plain": [
       "HBox(children=(IntProgress(value=0, description='metric', max=3, style=ProgressStyle(description_width='initia…"
      ]
     },
     "metadata": {},
     "output_type": "display_data"
    },
    {
     "data": {
      "application/vnd.jupyter.widget-view+json": {
       "model_id": "",
       "version_major": 2,
       "version_minor": 0
      },
      "text/plain": [
       "HBox(children=(IntProgress(value=0, description='method', max=2, style=ProgressStyle(description_width='initia…"
      ]
     },
     "metadata": {},
     "output_type": "display_data"
    },
    {
     "data": {
      "application/vnd.jupyter.widget-view+json": {
       "model_id": "",
       "version_major": 2,
       "version_minor": 0
      },
      "text/plain": [
       "HBox(children=(IntProgress(value=0, description='method', max=2, style=ProgressStyle(description_width='initia…"
      ]
     },
     "metadata": {},
     "output_type": "display_data"
    },
    {
     "data": {
      "application/vnd.jupyter.widget-view+json": {
       "model_id": "",
       "version_major": 2,
       "version_minor": 0
      },
      "text/plain": [
       "HBox(children=(IntProgress(value=0, description='method', max=2, style=ProgressStyle(description_width='initia…"
      ]
     },
     "metadata": {},
     "output_type": "display_data"
    },
    {
     "data": {
      "application/vnd.jupyter.widget-view+json": {
       "model_id": "",
       "version_major": 2,
       "version_minor": 0
      },
      "text/plain": [
       "HBox(children=(IntProgress(value=0, description='binary', max=2, style=ProgressStyle(description_width='initia…"
      ]
     },
     "metadata": {},
     "output_type": "display_data"
    },
    {
     "data": {
      "application/vnd.jupyter.widget-view+json": {
       "model_id": "",
       "version_major": 2,
       "version_minor": 0
      },
      "text/plain": [
       "HBox(children=(IntProgress(value=0, description='metric', max=3, style=ProgressStyle(description_width='initia…"
      ]
     },
     "metadata": {},
     "output_type": "display_data"
    },
    {
     "data": {
      "application/vnd.jupyter.widget-view+json": {
       "model_id": "",
       "version_major": 2,
       "version_minor": 0
      },
      "text/plain": [
       "HBox(children=(IntProgress(value=0, description='method', max=2, style=ProgressStyle(description_width='initia…"
      ]
     },
     "metadata": {},
     "output_type": "display_data"
    },
    {
     "data": {
      "application/vnd.jupyter.widget-view+json": {
       "model_id": "",
       "version_major": 2,
       "version_minor": 0
      },
      "text/plain": [
       "HBox(children=(IntProgress(value=0, description='method', max=2, style=ProgressStyle(description_width='initia…"
      ]
     },
     "metadata": {},
     "output_type": "display_data"
    },
    {
     "data": {
      "application/vnd.jupyter.widget-view+json": {
       "model_id": "",
       "version_major": 2,
       "version_minor": 0
      },
      "text/plain": [
       "HBox(children=(IntProgress(value=0, description='method', max=2, style=ProgressStyle(description_width='initia…"
      ]
     },
     "metadata": {},
     "output_type": "display_data"
    },
    {
     "data": {
      "application/vnd.jupyter.widget-view+json": {
       "model_id": "",
       "version_major": 2,
       "version_minor": 0
      },
      "text/plain": [
       "HBox(children=(IntProgress(value=0, description='metric', max=3, style=ProgressStyle(description_width='initia…"
      ]
     },
     "metadata": {},
     "output_type": "display_data"
    },
    {
     "data": {
      "application/vnd.jupyter.widget-view+json": {
       "model_id": "",
       "version_major": 2,
       "version_minor": 0
      },
      "text/plain": [
       "HBox(children=(IntProgress(value=0, description='method', max=2, style=ProgressStyle(description_width='initia…"
      ]
     },
     "metadata": {},
     "output_type": "display_data"
    },
    {
     "data": {
      "application/vnd.jupyter.widget-view+json": {
       "model_id": "",
       "version_major": 2,
       "version_minor": 0
      },
      "text/plain": [
       "HBox(children=(IntProgress(value=0, description='method', max=2, style=ProgressStyle(description_width='initia…"
      ]
     },
     "metadata": {},
     "output_type": "display_data"
    },
    {
     "data": {
      "application/vnd.jupyter.widget-view+json": {
       "model_id": "",
       "version_major": 2,
       "version_minor": 0
      },
      "text/plain": [
       "HBox(children=(IntProgress(value=0, description='method', max=2, style=ProgressStyle(description_width='initia…"
      ]
     },
     "metadata": {},
     "output_type": "display_data"
    },
    {
     "data": {
      "application/vnd.jupyter.widget-view+json": {
       "model_id": "",
       "version_major": 2,
       "version_minor": 0
      },
      "text/plain": [
       "HBox(children=(IntProgress(value=0, description='binary', max=2, style=ProgressStyle(description_width='initia…"
      ]
     },
     "metadata": {},
     "output_type": "display_data"
    },
    {
     "data": {
      "application/vnd.jupyter.widget-view+json": {
       "model_id": "",
       "version_major": 2,
       "version_minor": 0
      },
      "text/plain": [
       "HBox(children=(IntProgress(value=0, description='metric', max=3, style=ProgressStyle(description_width='initia…"
      ]
     },
     "metadata": {},
     "output_type": "display_data"
    },
    {
     "data": {
      "application/vnd.jupyter.widget-view+json": {
       "model_id": "",
       "version_major": 2,
       "version_minor": 0
      },
      "text/plain": [
       "HBox(children=(IntProgress(value=0, description='method', max=2, style=ProgressStyle(description_width='initia…"
      ]
     },
     "metadata": {},
     "output_type": "display_data"
    },
    {
     "data": {
      "application/vnd.jupyter.widget-view+json": {
       "model_id": "",
       "version_major": 2,
       "version_minor": 0
      },
      "text/plain": [
       "HBox(children=(IntProgress(value=0, description='method', max=2, style=ProgressStyle(description_width='initia…"
      ]
     },
     "metadata": {},
     "output_type": "display_data"
    },
    {
     "data": {
      "application/vnd.jupyter.widget-view+json": {
       "model_id": "",
       "version_major": 2,
       "version_minor": 0
      },
      "text/plain": [
       "HBox(children=(IntProgress(value=0, description='method', max=2, style=ProgressStyle(description_width='initia…"
      ]
     },
     "metadata": {},
     "output_type": "display_data"
    },
    {
     "data": {
      "application/vnd.jupyter.widget-view+json": {
       "model_id": "",
       "version_major": 2,
       "version_minor": 0
      },
      "text/plain": [
       "HBox(children=(IntProgress(value=0, description='metric', max=3, style=ProgressStyle(description_width='initia…"
      ]
     },
     "metadata": {},
     "output_type": "display_data"
    },
    {
     "data": {
      "application/vnd.jupyter.widget-view+json": {
       "model_id": "",
       "version_major": 2,
       "version_minor": 0
      },
      "text/plain": [
       "HBox(children=(IntProgress(value=0, description='method', max=2, style=ProgressStyle(description_width='initia…"
      ]
     },
     "metadata": {},
     "output_type": "display_data"
    },
    {
     "data": {
      "application/vnd.jupyter.widget-view+json": {
       "model_id": "",
       "version_major": 2,
       "version_minor": 0
      },
      "text/plain": [
       "HBox(children=(IntProgress(value=0, description='method', max=2, style=ProgressStyle(description_width='initia…"
      ]
     },
     "metadata": {},
     "output_type": "display_data"
    },
    {
     "data": {
      "application/vnd.jupyter.widget-view+json": {
       "model_id": "",
       "version_major": 2,
       "version_minor": 0
      },
      "text/plain": [
       "HBox(children=(IntProgress(value=0, description='method', max=2, style=ProgressStyle(description_width='initia…"
      ]
     },
     "metadata": {},
     "output_type": "display_data"
    },
    {
     "data": {
      "application/vnd.jupyter.widget-view+json": {
       "model_id": "",
       "version_major": 2,
       "version_minor": 0
      },
      "text/plain": [
       "HBox(children=(IntProgress(value=0, description='binary', max=2, style=ProgressStyle(description_width='initia…"
      ]
     },
     "metadata": {},
     "output_type": "display_data"
    },
    {
     "data": {
      "application/vnd.jupyter.widget-view+json": {
       "model_id": "",
       "version_major": 2,
       "version_minor": 0
      },
      "text/plain": [
       "HBox(children=(IntProgress(value=0, description='metric', max=3, style=ProgressStyle(description_width='initia…"
      ]
     },
     "metadata": {},
     "output_type": "display_data"
    },
    {
     "data": {
      "application/vnd.jupyter.widget-view+json": {
       "model_id": "",
       "version_major": 2,
       "version_minor": 0
      },
      "text/plain": [
       "HBox(children=(IntProgress(value=0, description='method', max=2, style=ProgressStyle(description_width='initia…"
      ]
     },
     "metadata": {},
     "output_type": "display_data"
    },
    {
     "data": {
      "application/vnd.jupyter.widget-view+json": {
       "model_id": "",
       "version_major": 2,
       "version_minor": 0
      },
      "text/plain": [
       "HBox(children=(IntProgress(value=0, description='method', max=2, style=ProgressStyle(description_width='initia…"
      ]
     },
     "metadata": {},
     "output_type": "display_data"
    },
    {
     "data": {
      "application/vnd.jupyter.widget-view+json": {
       "model_id": "",
       "version_major": 2,
       "version_minor": 0
      },
      "text/plain": [
       "HBox(children=(IntProgress(value=0, description='method', max=2, style=ProgressStyle(description_width='initia…"
      ]
     },
     "metadata": {},
     "output_type": "display_data"
    },
    {
     "data": {
      "application/vnd.jupyter.widget-view+json": {
       "model_id": "",
       "version_major": 2,
       "version_minor": 0
      },
      "text/plain": [
       "HBox(children=(IntProgress(value=0, description='metric', max=3, style=ProgressStyle(description_width='initia…"
      ]
     },
     "metadata": {},
     "output_type": "display_data"
    },
    {
     "data": {
      "application/vnd.jupyter.widget-view+json": {
       "model_id": "",
       "version_major": 2,
       "version_minor": 0
      },
      "text/plain": [
       "HBox(children=(IntProgress(value=0, description='method', max=2, style=ProgressStyle(description_width='initia…"
      ]
     },
     "metadata": {},
     "output_type": "display_data"
    },
    {
     "data": {
      "application/vnd.jupyter.widget-view+json": {
       "model_id": "",
       "version_major": 2,
       "version_minor": 0
      },
      "text/plain": [
       "HBox(children=(IntProgress(value=0, description='method', max=2, style=ProgressStyle(description_width='initia…"
      ]
     },
     "metadata": {},
     "output_type": "display_data"
    },
    {
     "data": {
      "application/vnd.jupyter.widget-view+json": {
       "model_id": "",
       "version_major": 2,
       "version_minor": 0
      },
      "text/plain": [
       "HBox(children=(IntProgress(value=0, description='method', max=2, style=ProgressStyle(description_width='initia…"
      ]
     },
     "metadata": {},
     "output_type": "display_data"
    },
    {
     "data": {
      "application/vnd.jupyter.widget-view+json": {
       "model_id": "",
       "version_major": 2,
       "version_minor": 0
      },
      "text/plain": [
       "HBox(children=(IntProgress(value=0, description='binary', max=2, style=ProgressStyle(description_width='initia…"
      ]
     },
     "metadata": {},
     "output_type": "display_data"
    },
    {
     "data": {
      "application/vnd.jupyter.widget-view+json": {
       "model_id": "",
       "version_major": 2,
       "version_minor": 0
      },
      "text/plain": [
       "HBox(children=(IntProgress(value=0, description='metric', max=3, style=ProgressStyle(description_width='initia…"
      ]
     },
     "metadata": {},
     "output_type": "display_data"
    },
    {
     "data": {
      "application/vnd.jupyter.widget-view+json": {
       "model_id": "",
       "version_major": 2,
       "version_minor": 0
      },
      "text/plain": [
       "HBox(children=(IntProgress(value=0, description='method', max=2, style=ProgressStyle(description_width='initia…"
      ]
     },
     "metadata": {},
     "output_type": "display_data"
    },
    {
     "data": {
      "application/vnd.jupyter.widget-view+json": {
       "model_id": "",
       "version_major": 2,
       "version_minor": 0
      },
      "text/plain": [
       "HBox(children=(IntProgress(value=0, description='method', max=2, style=ProgressStyle(description_width='initia…"
      ]
     },
     "metadata": {},
     "output_type": "display_data"
    },
    {
     "data": {
      "application/vnd.jupyter.widget-view+json": {
       "model_id": "",
       "version_major": 2,
       "version_minor": 0
      },
      "text/plain": [
       "HBox(children=(IntProgress(value=0, description='method', max=2, style=ProgressStyle(description_width='initia…"
      ]
     },
     "metadata": {},
     "output_type": "display_data"
    },
    {
     "data": {
      "application/vnd.jupyter.widget-view+json": {
       "model_id": "",
       "version_major": 2,
       "version_minor": 0
      },
      "text/plain": [
       "HBox(children=(IntProgress(value=0, description='metric', max=3, style=ProgressStyle(description_width='initia…"
      ]
     },
     "metadata": {},
     "output_type": "display_data"
    },
    {
     "data": {
      "application/vnd.jupyter.widget-view+json": {
       "model_id": "",
       "version_major": 2,
       "version_minor": 0
      },
      "text/plain": [
       "HBox(children=(IntProgress(value=0, description='method', max=2, style=ProgressStyle(description_width='initia…"
      ]
     },
     "metadata": {},
     "output_type": "display_data"
    },
    {
     "data": {
      "application/vnd.jupyter.widget-view+json": {
       "model_id": "",
       "version_major": 2,
       "version_minor": 0
      },
      "text/plain": [
       "HBox(children=(IntProgress(value=0, description='method', max=2, style=ProgressStyle(description_width='initia…"
      ]
     },
     "metadata": {},
     "output_type": "display_data"
    },
    {
     "data": {
      "application/vnd.jupyter.widget-view+json": {
       "model_id": "",
       "version_major": 2,
       "version_minor": 0
      },
      "text/plain": [
       "HBox(children=(IntProgress(value=0, description='method', max=2, style=ProgressStyle(description_width='initia…"
      ]
     },
     "metadata": {},
     "output_type": "display_data"
    },
    {
     "data": {
      "application/vnd.jupyter.widget-view+json": {
       "model_id": "",
       "version_major": 2,
       "version_minor": 0
      },
      "text/plain": [
       "HBox(children=(IntProgress(value=0, description='binary', max=2, style=ProgressStyle(description_width='initia…"
      ]
     },
     "metadata": {},
     "output_type": "display_data"
    },
    {
     "data": {
      "application/vnd.jupyter.widget-view+json": {
       "model_id": "",
       "version_major": 2,
       "version_minor": 0
      },
      "text/plain": [
       "HBox(children=(IntProgress(value=0, description='metric', max=3, style=ProgressStyle(description_width='initia…"
      ]
     },
     "metadata": {},
     "output_type": "display_data"
    },
    {
     "data": {
      "application/vnd.jupyter.widget-view+json": {
       "model_id": "",
       "version_major": 2,
       "version_minor": 0
      },
      "text/plain": [
       "HBox(children=(IntProgress(value=0, description='method', max=2, style=ProgressStyle(description_width='initia…"
      ]
     },
     "metadata": {},
     "output_type": "display_data"
    },
    {
     "data": {
      "application/vnd.jupyter.widget-view+json": {
       "model_id": "",
       "version_major": 2,
       "version_minor": 0
      },
      "text/plain": [
       "HBox(children=(IntProgress(value=0, description='method', max=2, style=ProgressStyle(description_width='initia…"
      ]
     },
     "metadata": {},
     "output_type": "display_data"
    },
    {
     "data": {
      "application/vnd.jupyter.widget-view+json": {
       "model_id": "",
       "version_major": 2,
       "version_minor": 0
      },
      "text/plain": [
       "HBox(children=(IntProgress(value=0, description='method', max=2, style=ProgressStyle(description_width='initia…"
      ]
     },
     "metadata": {},
     "output_type": "display_data"
    },
    {
     "data": {
      "application/vnd.jupyter.widget-view+json": {
       "model_id": "",
       "version_major": 2,
       "version_minor": 0
      },
      "text/plain": [
       "HBox(children=(IntProgress(value=0, description='metric', max=3, style=ProgressStyle(description_width='initia…"
      ]
     },
     "metadata": {},
     "output_type": "display_data"
    },
    {
     "data": {
      "application/vnd.jupyter.widget-view+json": {
       "model_id": "",
       "version_major": 2,
       "version_minor": 0
      },
      "text/plain": [
       "HBox(children=(IntProgress(value=0, description='method', max=2, style=ProgressStyle(description_width='initia…"
      ]
     },
     "metadata": {},
     "output_type": "display_data"
    },
    {
     "data": {
      "application/vnd.jupyter.widget-view+json": {
       "model_id": "",
       "version_major": 2,
       "version_minor": 0
      },
      "text/plain": [
       "HBox(children=(IntProgress(value=0, description='method', max=2, style=ProgressStyle(description_width='initia…"
      ]
     },
     "metadata": {},
     "output_type": "display_data"
    },
    {
     "data": {
      "application/vnd.jupyter.widget-view+json": {
       "model_id": "",
       "version_major": 2,
       "version_minor": 0
      },
      "text/plain": [
       "HBox(children=(IntProgress(value=0, description='method', max=2, style=ProgressStyle(description_width='initia…"
      ]
     },
     "metadata": {},
     "output_type": "display_data"
    },
    {
     "data": {
      "application/vnd.jupyter.widget-view+json": {
       "model_id": "",
       "version_major": 2,
       "version_minor": 0
      },
      "text/plain": [
       "HBox(children=(IntProgress(value=0, description='min_df', max=9, style=ProgressStyle(description_width='initia…"
      ]
     },
     "metadata": {},
     "output_type": "display_data"
    },
    {
     "data": {
      "application/vnd.jupyter.widget-view+json": {
       "model_id": "",
       "version_major": 2,
       "version_minor": 0
      },
      "text/plain": [
       "HBox(children=(IntProgress(value=0, description='binary', max=2, style=ProgressStyle(description_width='initia…"
      ]
     },
     "metadata": {},
     "output_type": "display_data"
    },
    {
     "data": {
      "application/vnd.jupyter.widget-view+json": {
       "model_id": "",
       "version_major": 2,
       "version_minor": 0
      },
      "text/plain": [
       "HBox(children=(IntProgress(value=0, description='metric', max=3, style=ProgressStyle(description_width='initia…"
      ]
     },
     "metadata": {},
     "output_type": "display_data"
    },
    {
     "data": {
      "application/vnd.jupyter.widget-view+json": {
       "model_id": "",
       "version_major": 2,
       "version_minor": 0
      },
      "text/plain": [
       "HBox(children=(IntProgress(value=0, description='method', max=2, style=ProgressStyle(description_width='initia…"
      ]
     },
     "metadata": {},
     "output_type": "display_data"
    },
    {
     "data": {
      "application/vnd.jupyter.widget-view+json": {
       "model_id": "",
       "version_major": 2,
       "version_minor": 0
      },
      "text/plain": [
       "HBox(children=(IntProgress(value=0, description='method', max=2, style=ProgressStyle(description_width='initia…"
      ]
     },
     "metadata": {},
     "output_type": "display_data"
    },
    {
     "data": {
      "application/vnd.jupyter.widget-view+json": {
       "model_id": "",
       "version_major": 2,
       "version_minor": 0
      },
      "text/plain": [
       "HBox(children=(IntProgress(value=0, description='method', max=2, style=ProgressStyle(description_width='initia…"
      ]
     },
     "metadata": {},
     "output_type": "display_data"
    },
    {
     "data": {
      "application/vnd.jupyter.widget-view+json": {
       "model_id": "",
       "version_major": 2,
       "version_minor": 0
      },
      "text/plain": [
       "HBox(children=(IntProgress(value=0, description='metric', max=3, style=ProgressStyle(description_width='initia…"
      ]
     },
     "metadata": {},
     "output_type": "display_data"
    },
    {
     "data": {
      "application/vnd.jupyter.widget-view+json": {
       "model_id": "",
       "version_major": 2,
       "version_minor": 0
      },
      "text/plain": [
       "HBox(children=(IntProgress(value=0, description='method', max=2, style=ProgressStyle(description_width='initia…"
      ]
     },
     "metadata": {},
     "output_type": "display_data"
    },
    {
     "data": {
      "application/vnd.jupyter.widget-view+json": {
       "model_id": "",
       "version_major": 2,
       "version_minor": 0
      },
      "text/plain": [
       "HBox(children=(IntProgress(value=0, description='method', max=2, style=ProgressStyle(description_width='initia…"
      ]
     },
     "metadata": {},
     "output_type": "display_data"
    },
    {
     "data": {
      "application/vnd.jupyter.widget-view+json": {
       "model_id": "",
       "version_major": 2,
       "version_minor": 0
      },
      "text/plain": [
       "HBox(children=(IntProgress(value=0, description='method', max=2, style=ProgressStyle(description_width='initia…"
      ]
     },
     "metadata": {},
     "output_type": "display_data"
    },
    {
     "data": {
      "application/vnd.jupyter.widget-view+json": {
       "model_id": "",
       "version_major": 2,
       "version_minor": 0
      },
      "text/plain": [
       "HBox(children=(IntProgress(value=0, description='binary', max=2, style=ProgressStyle(description_width='initia…"
      ]
     },
     "metadata": {},
     "output_type": "display_data"
    },
    {
     "data": {
      "application/vnd.jupyter.widget-view+json": {
       "model_id": "",
       "version_major": 2,
       "version_minor": 0
      },
      "text/plain": [
       "HBox(children=(IntProgress(value=0, description='metric', max=3, style=ProgressStyle(description_width='initia…"
      ]
     },
     "metadata": {},
     "output_type": "display_data"
    },
    {
     "data": {
      "application/vnd.jupyter.widget-view+json": {
       "model_id": "",
       "version_major": 2,
       "version_minor": 0
      },
      "text/plain": [
       "HBox(children=(IntProgress(value=0, description='method', max=2, style=ProgressStyle(description_width='initia…"
      ]
     },
     "metadata": {},
     "output_type": "display_data"
    },
    {
     "data": {
      "application/vnd.jupyter.widget-view+json": {
       "model_id": "",
       "version_major": 2,
       "version_minor": 0
      },
      "text/plain": [
       "HBox(children=(IntProgress(value=0, description='method', max=2, style=ProgressStyle(description_width='initia…"
      ]
     },
     "metadata": {},
     "output_type": "display_data"
    },
    {
     "data": {
      "application/vnd.jupyter.widget-view+json": {
       "model_id": "",
       "version_major": 2,
       "version_minor": 0
      },
      "text/plain": [
       "HBox(children=(IntProgress(value=0, description='method', max=2, style=ProgressStyle(description_width='initia…"
      ]
     },
     "metadata": {},
     "output_type": "display_data"
    },
    {
     "data": {
      "application/vnd.jupyter.widget-view+json": {
       "model_id": "",
       "version_major": 2,
       "version_minor": 0
      },
      "text/plain": [
       "HBox(children=(IntProgress(value=0, description='metric', max=3, style=ProgressStyle(description_width='initia…"
      ]
     },
     "metadata": {},
     "output_type": "display_data"
    },
    {
     "data": {
      "application/vnd.jupyter.widget-view+json": {
       "model_id": "",
       "version_major": 2,
       "version_minor": 0
      },
      "text/plain": [
       "HBox(children=(IntProgress(value=0, description='method', max=2, style=ProgressStyle(description_width='initia…"
      ]
     },
     "metadata": {},
     "output_type": "display_data"
    },
    {
     "data": {
      "application/vnd.jupyter.widget-view+json": {
       "model_id": "",
       "version_major": 2,
       "version_minor": 0
      },
      "text/plain": [
       "HBox(children=(IntProgress(value=0, description='method', max=2, style=ProgressStyle(description_width='initia…"
      ]
     },
     "metadata": {},
     "output_type": "display_data"
    },
    {
     "data": {
      "application/vnd.jupyter.widget-view+json": {
       "model_id": "",
       "version_major": 2,
       "version_minor": 0
      },
      "text/plain": [
       "HBox(children=(IntProgress(value=0, description='method', max=2, style=ProgressStyle(description_width='initia…"
      ]
     },
     "metadata": {},
     "output_type": "display_data"
    },
    {
     "data": {
      "application/vnd.jupyter.widget-view+json": {
       "model_id": "",
       "version_major": 2,
       "version_minor": 0
      },
      "text/plain": [
       "HBox(children=(IntProgress(value=0, description='binary', max=2, style=ProgressStyle(description_width='initia…"
      ]
     },
     "metadata": {},
     "output_type": "display_data"
    },
    {
     "data": {
      "application/vnd.jupyter.widget-view+json": {
       "model_id": "",
       "version_major": 2,
       "version_minor": 0
      },
      "text/plain": [
       "HBox(children=(IntProgress(value=0, description='metric', max=3, style=ProgressStyle(description_width='initia…"
      ]
     },
     "metadata": {},
     "output_type": "display_data"
    },
    {
     "data": {
      "application/vnd.jupyter.widget-view+json": {
       "model_id": "",
       "version_major": 2,
       "version_minor": 0
      },
      "text/plain": [
       "HBox(children=(IntProgress(value=0, description='method', max=2, style=ProgressStyle(description_width='initia…"
      ]
     },
     "metadata": {},
     "output_type": "display_data"
    },
    {
     "data": {
      "application/vnd.jupyter.widget-view+json": {
       "model_id": "",
       "version_major": 2,
       "version_minor": 0
      },
      "text/plain": [
       "HBox(children=(IntProgress(value=0, description='method', max=2, style=ProgressStyle(description_width='initia…"
      ]
     },
     "metadata": {},
     "output_type": "display_data"
    },
    {
     "data": {
      "application/vnd.jupyter.widget-view+json": {
       "model_id": "",
       "version_major": 2,
       "version_minor": 0
      },
      "text/plain": [
       "HBox(children=(IntProgress(value=0, description='method', max=2, style=ProgressStyle(description_width='initia…"
      ]
     },
     "metadata": {},
     "output_type": "display_data"
    },
    {
     "data": {
      "application/vnd.jupyter.widget-view+json": {
       "model_id": "",
       "version_major": 2,
       "version_minor": 0
      },
      "text/plain": [
       "HBox(children=(IntProgress(value=0, description='metric', max=3, style=ProgressStyle(description_width='initia…"
      ]
     },
     "metadata": {},
     "output_type": "display_data"
    },
    {
     "data": {
      "application/vnd.jupyter.widget-view+json": {
       "model_id": "",
       "version_major": 2,
       "version_minor": 0
      },
      "text/plain": [
       "HBox(children=(IntProgress(value=0, description='method', max=2, style=ProgressStyle(description_width='initia…"
      ]
     },
     "metadata": {},
     "output_type": "display_data"
    },
    {
     "data": {
      "application/vnd.jupyter.widget-view+json": {
       "model_id": "",
       "version_major": 2,
       "version_minor": 0
      },
      "text/plain": [
       "HBox(children=(IntProgress(value=0, description='method', max=2, style=ProgressStyle(description_width='initia…"
      ]
     },
     "metadata": {},
     "output_type": "display_data"
    },
    {
     "data": {
      "application/vnd.jupyter.widget-view+json": {
       "model_id": "",
       "version_major": 2,
       "version_minor": 0
      },
      "text/plain": [
       "HBox(children=(IntProgress(value=0, description='method', max=2, style=ProgressStyle(description_width='initia…"
      ]
     },
     "metadata": {},
     "output_type": "display_data"
    },
    {
     "data": {
      "application/vnd.jupyter.widget-view+json": {
       "model_id": "",
       "version_major": 2,
       "version_minor": 0
      },
      "text/plain": [
       "HBox(children=(IntProgress(value=0, description='binary', max=2, style=ProgressStyle(description_width='initia…"
      ]
     },
     "metadata": {},
     "output_type": "display_data"
    },
    {
     "data": {
      "application/vnd.jupyter.widget-view+json": {
       "model_id": "",
       "version_major": 2,
       "version_minor": 0
      },
      "text/plain": [
       "HBox(children=(IntProgress(value=0, description='metric', max=3, style=ProgressStyle(description_width='initia…"
      ]
     },
     "metadata": {},
     "output_type": "display_data"
    },
    {
     "data": {
      "application/vnd.jupyter.widget-view+json": {
       "model_id": "",
       "version_major": 2,
       "version_minor": 0
      },
      "text/plain": [
       "HBox(children=(IntProgress(value=0, description='method', max=2, style=ProgressStyle(description_width='initia…"
      ]
     },
     "metadata": {},
     "output_type": "display_data"
    },
    {
     "data": {
      "application/vnd.jupyter.widget-view+json": {
       "model_id": "",
       "version_major": 2,
       "version_minor": 0
      },
      "text/plain": [
       "HBox(children=(IntProgress(value=0, description='method', max=2, style=ProgressStyle(description_width='initia…"
      ]
     },
     "metadata": {},
     "output_type": "display_data"
    },
    {
     "data": {
      "application/vnd.jupyter.widget-view+json": {
       "model_id": "",
       "version_major": 2,
       "version_minor": 0
      },
      "text/plain": [
       "HBox(children=(IntProgress(value=0, description='method', max=2, style=ProgressStyle(description_width='initia…"
      ]
     },
     "metadata": {},
     "output_type": "display_data"
    },
    {
     "data": {
      "application/vnd.jupyter.widget-view+json": {
       "model_id": "",
       "version_major": 2,
       "version_minor": 0
      },
      "text/plain": [
       "HBox(children=(IntProgress(value=0, description='metric', max=3, style=ProgressStyle(description_width='initia…"
      ]
     },
     "metadata": {},
     "output_type": "display_data"
    },
    {
     "data": {
      "application/vnd.jupyter.widget-view+json": {
       "model_id": "",
       "version_major": 2,
       "version_minor": 0
      },
      "text/plain": [
       "HBox(children=(IntProgress(value=0, description='method', max=2, style=ProgressStyle(description_width='initia…"
      ]
     },
     "metadata": {},
     "output_type": "display_data"
    },
    {
     "data": {
      "application/vnd.jupyter.widget-view+json": {
       "model_id": "",
       "version_major": 2,
       "version_minor": 0
      },
      "text/plain": [
       "HBox(children=(IntProgress(value=0, description='method', max=2, style=ProgressStyle(description_width='initia…"
      ]
     },
     "metadata": {},
     "output_type": "display_data"
    },
    {
     "data": {
      "application/vnd.jupyter.widget-view+json": {
       "model_id": "",
       "version_major": 2,
       "version_minor": 0
      },
      "text/plain": [
       "HBox(children=(IntProgress(value=0, description='method', max=2, style=ProgressStyle(description_width='initia…"
      ]
     },
     "metadata": {},
     "output_type": "display_data"
    },
    {
     "data": {
      "application/vnd.jupyter.widget-view+json": {
       "model_id": "",
       "version_major": 2,
       "version_minor": 0
      },
      "text/plain": [
       "HBox(children=(IntProgress(value=0, description='binary', max=2, style=ProgressStyle(description_width='initia…"
      ]
     },
     "metadata": {},
     "output_type": "display_data"
    },
    {
     "data": {
      "application/vnd.jupyter.widget-view+json": {
       "model_id": "",
       "version_major": 2,
       "version_minor": 0
      },
      "text/plain": [
       "HBox(children=(IntProgress(value=0, description='metric', max=3, style=ProgressStyle(description_width='initia…"
      ]
     },
     "metadata": {},
     "output_type": "display_data"
    },
    {
     "data": {
      "application/vnd.jupyter.widget-view+json": {
       "model_id": "",
       "version_major": 2,
       "version_minor": 0
      },
      "text/plain": [
       "HBox(children=(IntProgress(value=0, description='method', max=2, style=ProgressStyle(description_width='initia…"
      ]
     },
     "metadata": {},
     "output_type": "display_data"
    },
    {
     "data": {
      "application/vnd.jupyter.widget-view+json": {
       "model_id": "",
       "version_major": 2,
       "version_minor": 0
      },
      "text/plain": [
       "HBox(children=(IntProgress(value=0, description='method', max=2, style=ProgressStyle(description_width='initia…"
      ]
     },
     "metadata": {},
     "output_type": "display_data"
    },
    {
     "data": {
      "application/vnd.jupyter.widget-view+json": {
       "model_id": "",
       "version_major": 2,
       "version_minor": 0
      },
      "text/plain": [
       "HBox(children=(IntProgress(value=0, description='method', max=2, style=ProgressStyle(description_width='initia…"
      ]
     },
     "metadata": {},
     "output_type": "display_data"
    },
    {
     "data": {
      "application/vnd.jupyter.widget-view+json": {
       "model_id": "",
       "version_major": 2,
       "version_minor": 0
      },
      "text/plain": [
       "HBox(children=(IntProgress(value=0, description='metric', max=3, style=ProgressStyle(description_width='initia…"
      ]
     },
     "metadata": {},
     "output_type": "display_data"
    },
    {
     "data": {
      "application/vnd.jupyter.widget-view+json": {
       "model_id": "",
       "version_major": 2,
       "version_minor": 0
      },
      "text/plain": [
       "HBox(children=(IntProgress(value=0, description='method', max=2, style=ProgressStyle(description_width='initia…"
      ]
     },
     "metadata": {},
     "output_type": "display_data"
    },
    {
     "data": {
      "application/vnd.jupyter.widget-view+json": {
       "model_id": "",
       "version_major": 2,
       "version_minor": 0
      },
      "text/plain": [
       "HBox(children=(IntProgress(value=0, description='method', max=2, style=ProgressStyle(description_width='initia…"
      ]
     },
     "metadata": {},
     "output_type": "display_data"
    },
    {
     "data": {
      "application/vnd.jupyter.widget-view+json": {
       "model_id": "",
       "version_major": 2,
       "version_minor": 0
      },
      "text/plain": [
       "HBox(children=(IntProgress(value=0, description='method', max=2, style=ProgressStyle(description_width='initia…"
      ]
     },
     "metadata": {},
     "output_type": "display_data"
    },
    {
     "data": {
      "application/vnd.jupyter.widget-view+json": {
       "model_id": "",
       "version_major": 2,
       "version_minor": 0
      },
      "text/plain": [
       "HBox(children=(IntProgress(value=0, description='binary', max=2, style=ProgressStyle(description_width='initia…"
      ]
     },
     "metadata": {},
     "output_type": "display_data"
    },
    {
     "data": {
      "application/vnd.jupyter.widget-view+json": {
       "model_id": "",
       "version_major": 2,
       "version_minor": 0
      },
      "text/plain": [
       "HBox(children=(IntProgress(value=0, description='metric', max=3, style=ProgressStyle(description_width='initia…"
      ]
     },
     "metadata": {},
     "output_type": "display_data"
    },
    {
     "data": {
      "application/vnd.jupyter.widget-view+json": {
       "model_id": "",
       "version_major": 2,
       "version_minor": 0
      },
      "text/plain": [
       "HBox(children=(IntProgress(value=0, description='method', max=2, style=ProgressStyle(description_width='initia…"
      ]
     },
     "metadata": {},
     "output_type": "display_data"
    },
    {
     "data": {
      "application/vnd.jupyter.widget-view+json": {
       "model_id": "",
       "version_major": 2,
       "version_minor": 0
      },
      "text/plain": [
       "HBox(children=(IntProgress(value=0, description='method', max=2, style=ProgressStyle(description_width='initia…"
      ]
     },
     "metadata": {},
     "output_type": "display_data"
    },
    {
     "data": {
      "application/vnd.jupyter.widget-view+json": {
       "model_id": "",
       "version_major": 2,
       "version_minor": 0
      },
      "text/plain": [
       "HBox(children=(IntProgress(value=0, description='method', max=2, style=ProgressStyle(description_width='initia…"
      ]
     },
     "metadata": {},
     "output_type": "display_data"
    },
    {
     "data": {
      "application/vnd.jupyter.widget-view+json": {
       "model_id": "",
       "version_major": 2,
       "version_minor": 0
      },
      "text/plain": [
       "HBox(children=(IntProgress(value=0, description='metric', max=3, style=ProgressStyle(description_width='initia…"
      ]
     },
     "metadata": {},
     "output_type": "display_data"
    },
    {
     "data": {
      "application/vnd.jupyter.widget-view+json": {
       "model_id": "",
       "version_major": 2,
       "version_minor": 0
      },
      "text/plain": [
       "HBox(children=(IntProgress(value=0, description='method', max=2, style=ProgressStyle(description_width='initia…"
      ]
     },
     "metadata": {},
     "output_type": "display_data"
    },
    {
     "data": {
      "application/vnd.jupyter.widget-view+json": {
       "model_id": "",
       "version_major": 2,
       "version_minor": 0
      },
      "text/plain": [
       "HBox(children=(IntProgress(value=0, description='method', max=2, style=ProgressStyle(description_width='initia…"
      ]
     },
     "metadata": {},
     "output_type": "display_data"
    },
    {
     "data": {
      "application/vnd.jupyter.widget-view+json": {
       "model_id": "",
       "version_major": 2,
       "version_minor": 0
      },
      "text/plain": [
       "HBox(children=(IntProgress(value=0, description='method', max=2, style=ProgressStyle(description_width='initia…"
      ]
     },
     "metadata": {},
     "output_type": "display_data"
    },
    {
     "data": {
      "application/vnd.jupyter.widget-view+json": {
       "model_id": "",
       "version_major": 2,
       "version_minor": 0
      },
      "text/plain": [
       "HBox(children=(IntProgress(value=0, description='binary', max=2, style=ProgressStyle(description_width='initia…"
      ]
     },
     "metadata": {},
     "output_type": "display_data"
    },
    {
     "data": {
      "application/vnd.jupyter.widget-view+json": {
       "model_id": "",
       "version_major": 2,
       "version_minor": 0
      },
      "text/plain": [
       "HBox(children=(IntProgress(value=0, description='metric', max=3, style=ProgressStyle(description_width='initia…"
      ]
     },
     "metadata": {},
     "output_type": "display_data"
    },
    {
     "data": {
      "application/vnd.jupyter.widget-view+json": {
       "model_id": "",
       "version_major": 2,
       "version_minor": 0
      },
      "text/plain": [
       "HBox(children=(IntProgress(value=0, description='method', max=2, style=ProgressStyle(description_width='initia…"
      ]
     },
     "metadata": {},
     "output_type": "display_data"
    },
    {
     "data": {
      "application/vnd.jupyter.widget-view+json": {
       "model_id": "",
       "version_major": 2,
       "version_minor": 0
      },
      "text/plain": [
       "HBox(children=(IntProgress(value=0, description='method', max=2, style=ProgressStyle(description_width='initia…"
      ]
     },
     "metadata": {},
     "output_type": "display_data"
    },
    {
     "data": {
      "application/vnd.jupyter.widget-view+json": {
       "model_id": "",
       "version_major": 2,
       "version_minor": 0
      },
      "text/plain": [
       "HBox(children=(IntProgress(value=0, description='method', max=2, style=ProgressStyle(description_width='initia…"
      ]
     },
     "metadata": {},
     "output_type": "display_data"
    },
    {
     "data": {
      "application/vnd.jupyter.widget-view+json": {
       "model_id": "",
       "version_major": 2,
       "version_minor": 0
      },
      "text/plain": [
       "HBox(children=(IntProgress(value=0, description='metric', max=3, style=ProgressStyle(description_width='initia…"
      ]
     },
     "metadata": {},
     "output_type": "display_data"
    },
    {
     "data": {
      "application/vnd.jupyter.widget-view+json": {
       "model_id": "",
       "version_major": 2,
       "version_minor": 0
      },
      "text/plain": [
       "HBox(children=(IntProgress(value=0, description='method', max=2, style=ProgressStyle(description_width='initia…"
      ]
     },
     "metadata": {},
     "output_type": "display_data"
    },
    {
     "data": {
      "application/vnd.jupyter.widget-view+json": {
       "model_id": "",
       "version_major": 2,
       "version_minor": 0
      },
      "text/plain": [
       "HBox(children=(IntProgress(value=0, description='method', max=2, style=ProgressStyle(description_width='initia…"
      ]
     },
     "metadata": {},
     "output_type": "display_data"
    },
    {
     "data": {
      "application/vnd.jupyter.widget-view+json": {
       "model_id": "",
       "version_major": 2,
       "version_minor": 0
      },
      "text/plain": [
       "HBox(children=(IntProgress(value=0, description='method', max=2, style=ProgressStyle(description_width='initia…"
      ]
     },
     "metadata": {},
     "output_type": "display_data"
    },
    {
     "data": {
      "application/vnd.jupyter.widget-view+json": {
       "model_id": "",
       "version_major": 2,
       "version_minor": 0
      },
      "text/plain": [
       "HBox(children=(IntProgress(value=0, description='binary', max=2, style=ProgressStyle(description_width='initia…"
      ]
     },
     "metadata": {},
     "output_type": "display_data"
    },
    {
     "data": {
      "application/vnd.jupyter.widget-view+json": {
       "model_id": "",
       "version_major": 2,
       "version_minor": 0
      },
      "text/plain": [
       "HBox(children=(IntProgress(value=0, description='metric', max=3, style=ProgressStyle(description_width='initia…"
      ]
     },
     "metadata": {},
     "output_type": "display_data"
    },
    {
     "data": {
      "application/vnd.jupyter.widget-view+json": {
       "model_id": "",
       "version_major": 2,
       "version_minor": 0
      },
      "text/plain": [
       "HBox(children=(IntProgress(value=0, description='method', max=2, style=ProgressStyle(description_width='initia…"
      ]
     },
     "metadata": {},
     "output_type": "display_data"
    },
    {
     "data": {
      "application/vnd.jupyter.widget-view+json": {
       "model_id": "",
       "version_major": 2,
       "version_minor": 0
      },
      "text/plain": [
       "HBox(children=(IntProgress(value=0, description='method', max=2, style=ProgressStyle(description_width='initia…"
      ]
     },
     "metadata": {},
     "output_type": "display_data"
    },
    {
     "data": {
      "application/vnd.jupyter.widget-view+json": {
       "model_id": "",
       "version_major": 2,
       "version_minor": 0
      },
      "text/plain": [
       "HBox(children=(IntProgress(value=0, description='method', max=2, style=ProgressStyle(description_width='initia…"
      ]
     },
     "metadata": {},
     "output_type": "display_data"
    },
    {
     "data": {
      "application/vnd.jupyter.widget-view+json": {
       "model_id": "",
       "version_major": 2,
       "version_minor": 0
      },
      "text/plain": [
       "HBox(children=(IntProgress(value=0, description='metric', max=3, style=ProgressStyle(description_width='initia…"
      ]
     },
     "metadata": {},
     "output_type": "display_data"
    },
    {
     "data": {
      "application/vnd.jupyter.widget-view+json": {
       "model_id": "",
       "version_major": 2,
       "version_minor": 0
      },
      "text/plain": [
       "HBox(children=(IntProgress(value=0, description='method', max=2, style=ProgressStyle(description_width='initia…"
      ]
     },
     "metadata": {},
     "output_type": "display_data"
    },
    {
     "data": {
      "application/vnd.jupyter.widget-view+json": {
       "model_id": "",
       "version_major": 2,
       "version_minor": 0
      },
      "text/plain": [
       "HBox(children=(IntProgress(value=0, description='method', max=2, style=ProgressStyle(description_width='initia…"
      ]
     },
     "metadata": {},
     "output_type": "display_data"
    },
    {
     "data": {
      "application/vnd.jupyter.widget-view+json": {
       "model_id": "",
       "version_major": 2,
       "version_minor": 0
      },
      "text/plain": [
       "HBox(children=(IntProgress(value=0, description='method', max=2, style=ProgressStyle(description_width='initia…"
      ]
     },
     "metadata": {},
     "output_type": "display_data"
    },
    {
     "data": {
      "application/vnd.jupyter.widget-view+json": {
       "model_id": "",
       "version_major": 2,
       "version_minor": 0
      },
      "text/plain": [
       "HBox(children=(IntProgress(value=0, description='binary', max=2, style=ProgressStyle(description_width='initia…"
      ]
     },
     "metadata": {},
     "output_type": "display_data"
    },
    {
     "data": {
      "application/vnd.jupyter.widget-view+json": {
       "model_id": "",
       "version_major": 2,
       "version_minor": 0
      },
      "text/plain": [
       "HBox(children=(IntProgress(value=0, description='metric', max=3, style=ProgressStyle(description_width='initia…"
      ]
     },
     "metadata": {},
     "output_type": "display_data"
    },
    {
     "data": {
      "application/vnd.jupyter.widget-view+json": {
       "model_id": "",
       "version_major": 2,
       "version_minor": 0
      },
      "text/plain": [
       "HBox(children=(IntProgress(value=0, description='method', max=2, style=ProgressStyle(description_width='initia…"
      ]
     },
     "metadata": {},
     "output_type": "display_data"
    },
    {
     "data": {
      "application/vnd.jupyter.widget-view+json": {
       "model_id": "",
       "version_major": 2,
       "version_minor": 0
      },
      "text/plain": [
       "HBox(children=(IntProgress(value=0, description='method', max=2, style=ProgressStyle(description_width='initia…"
      ]
     },
     "metadata": {},
     "output_type": "display_data"
    },
    {
     "data": {
      "application/vnd.jupyter.widget-view+json": {
       "model_id": "",
       "version_major": 2,
       "version_minor": 0
      },
      "text/plain": [
       "HBox(children=(IntProgress(value=0, description='method', max=2, style=ProgressStyle(description_width='initia…"
      ]
     },
     "metadata": {},
     "output_type": "display_data"
    },
    {
     "data": {
      "application/vnd.jupyter.widget-view+json": {
       "model_id": "",
       "version_major": 2,
       "version_minor": 0
      },
      "text/plain": [
       "HBox(children=(IntProgress(value=0, description='metric', max=3, style=ProgressStyle(description_width='initia…"
      ]
     },
     "metadata": {},
     "output_type": "display_data"
    },
    {
     "data": {
      "application/vnd.jupyter.widget-view+json": {
       "model_id": "",
       "version_major": 2,
       "version_minor": 0
      },
      "text/plain": [
       "HBox(children=(IntProgress(value=0, description='method', max=2, style=ProgressStyle(description_width='initia…"
      ]
     },
     "metadata": {},
     "output_type": "display_data"
    },
    {
     "data": {
      "application/vnd.jupyter.widget-view+json": {
       "model_id": "",
       "version_major": 2,
       "version_minor": 0
      },
      "text/plain": [
       "HBox(children=(IntProgress(value=0, description='method', max=2, style=ProgressStyle(description_width='initia…"
      ]
     },
     "metadata": {},
     "output_type": "display_data"
    },
    {
     "data": {
      "application/vnd.jupyter.widget-view+json": {
       "model_id": "",
       "version_major": 2,
       "version_minor": 0
      },
      "text/plain": [
       "HBox(children=(IntProgress(value=0, description='method', max=2, style=ProgressStyle(description_width='initia…"
      ]
     },
     "metadata": {},
     "output_type": "display_data"
    },
    {
     "data": {
      "application/vnd.jupyter.widget-view+json": {
       "model_id": "",
       "version_major": 2,
       "version_minor": 0
      },
      "text/plain": [
       "HBox(children=(IntProgress(value=0, description='min_df', max=9, style=ProgressStyle(description_width='initia…"
      ]
     },
     "metadata": {},
     "output_type": "display_data"
    },
    {
     "data": {
      "application/vnd.jupyter.widget-view+json": {
       "model_id": "",
       "version_major": 2,
       "version_minor": 0
      },
      "text/plain": [
       "HBox(children=(IntProgress(value=0, description='binary', max=2, style=ProgressStyle(description_width='initia…"
      ]
     },
     "metadata": {},
     "output_type": "display_data"
    },
    {
     "data": {
      "application/vnd.jupyter.widget-view+json": {
       "model_id": "",
       "version_major": 2,
       "version_minor": 0
      },
      "text/plain": [
       "HBox(children=(IntProgress(value=0, description='metric', max=3, style=ProgressStyle(description_width='initia…"
      ]
     },
     "metadata": {},
     "output_type": "display_data"
    },
    {
     "data": {
      "application/vnd.jupyter.widget-view+json": {
       "model_id": "",
       "version_major": 2,
       "version_minor": 0
      },
      "text/plain": [
       "HBox(children=(IntProgress(value=0, description='method', max=2, style=ProgressStyle(description_width='initia…"
      ]
     },
     "metadata": {},
     "output_type": "display_data"
    },
    {
     "data": {
      "application/vnd.jupyter.widget-view+json": {
       "model_id": "",
       "version_major": 2,
       "version_minor": 0
      },
      "text/plain": [
       "HBox(children=(IntProgress(value=0, description='method', max=2, style=ProgressStyle(description_width='initia…"
      ]
     },
     "metadata": {},
     "output_type": "display_data"
    },
    {
     "data": {
      "application/vnd.jupyter.widget-view+json": {
       "model_id": "",
       "version_major": 2,
       "version_minor": 0
      },
      "text/plain": [
       "HBox(children=(IntProgress(value=0, description='method', max=2, style=ProgressStyle(description_width='initia…"
      ]
     },
     "metadata": {},
     "output_type": "display_data"
    },
    {
     "data": {
      "application/vnd.jupyter.widget-view+json": {
       "model_id": "",
       "version_major": 2,
       "version_minor": 0
      },
      "text/plain": [
       "HBox(children=(IntProgress(value=0, description='metric', max=3, style=ProgressStyle(description_width='initia…"
      ]
     },
     "metadata": {},
     "output_type": "display_data"
    },
    {
     "data": {
      "application/vnd.jupyter.widget-view+json": {
       "model_id": "",
       "version_major": 2,
       "version_minor": 0
      },
      "text/plain": [
       "HBox(children=(IntProgress(value=0, description='method', max=2, style=ProgressStyle(description_width='initia…"
      ]
     },
     "metadata": {},
     "output_type": "display_data"
    },
    {
     "data": {
      "application/vnd.jupyter.widget-view+json": {
       "model_id": "",
       "version_major": 2,
       "version_minor": 0
      },
      "text/plain": [
       "HBox(children=(IntProgress(value=0, description='method', max=2, style=ProgressStyle(description_width='initia…"
      ]
     },
     "metadata": {},
     "output_type": "display_data"
    },
    {
     "data": {
      "application/vnd.jupyter.widget-view+json": {
       "model_id": "",
       "version_major": 2,
       "version_minor": 0
      },
      "text/plain": [
       "HBox(children=(IntProgress(value=0, description='method', max=2, style=ProgressStyle(description_width='initia…"
      ]
     },
     "metadata": {},
     "output_type": "display_data"
    },
    {
     "data": {
      "application/vnd.jupyter.widget-view+json": {
       "model_id": "",
       "version_major": 2,
       "version_minor": 0
      },
      "text/plain": [
       "HBox(children=(IntProgress(value=0, description='binary', max=2, style=ProgressStyle(description_width='initia…"
      ]
     },
     "metadata": {},
     "output_type": "display_data"
    },
    {
     "data": {
      "application/vnd.jupyter.widget-view+json": {
       "model_id": "",
       "version_major": 2,
       "version_minor": 0
      },
      "text/plain": [
       "HBox(children=(IntProgress(value=0, description='metric', max=3, style=ProgressStyle(description_width='initia…"
      ]
     },
     "metadata": {},
     "output_type": "display_data"
    },
    {
     "data": {
      "application/vnd.jupyter.widget-view+json": {
       "model_id": "",
       "version_major": 2,
       "version_minor": 0
      },
      "text/plain": [
       "HBox(children=(IntProgress(value=0, description='method', max=2, style=ProgressStyle(description_width='initia…"
      ]
     },
     "metadata": {},
     "output_type": "display_data"
    },
    {
     "data": {
      "application/vnd.jupyter.widget-view+json": {
       "model_id": "",
       "version_major": 2,
       "version_minor": 0
      },
      "text/plain": [
       "HBox(children=(IntProgress(value=0, description='method', max=2, style=ProgressStyle(description_width='initia…"
      ]
     },
     "metadata": {},
     "output_type": "display_data"
    },
    {
     "data": {
      "application/vnd.jupyter.widget-view+json": {
       "model_id": "",
       "version_major": 2,
       "version_minor": 0
      },
      "text/plain": [
       "HBox(children=(IntProgress(value=0, description='method', max=2, style=ProgressStyle(description_width='initia…"
      ]
     },
     "metadata": {},
     "output_type": "display_data"
    },
    {
     "data": {
      "application/vnd.jupyter.widget-view+json": {
       "model_id": "",
       "version_major": 2,
       "version_minor": 0
      },
      "text/plain": [
       "HBox(children=(IntProgress(value=0, description='metric', max=3, style=ProgressStyle(description_width='initia…"
      ]
     },
     "metadata": {},
     "output_type": "display_data"
    },
    {
     "data": {
      "application/vnd.jupyter.widget-view+json": {
       "model_id": "",
       "version_major": 2,
       "version_minor": 0
      },
      "text/plain": [
       "HBox(children=(IntProgress(value=0, description='method', max=2, style=ProgressStyle(description_width='initia…"
      ]
     },
     "metadata": {},
     "output_type": "display_data"
    },
    {
     "data": {
      "application/vnd.jupyter.widget-view+json": {
       "model_id": "",
       "version_major": 2,
       "version_minor": 0
      },
      "text/plain": [
       "HBox(children=(IntProgress(value=0, description='method', max=2, style=ProgressStyle(description_width='initia…"
      ]
     },
     "metadata": {},
     "output_type": "display_data"
    },
    {
     "data": {
      "application/vnd.jupyter.widget-view+json": {
       "model_id": "",
       "version_major": 2,
       "version_minor": 0
      },
      "text/plain": [
       "HBox(children=(IntProgress(value=0, description='method', max=2, style=ProgressStyle(description_width='initia…"
      ]
     },
     "metadata": {},
     "output_type": "display_data"
    },
    {
     "data": {
      "application/vnd.jupyter.widget-view+json": {
       "model_id": "",
       "version_major": 2,
       "version_minor": 0
      },
      "text/plain": [
       "HBox(children=(IntProgress(value=0, description='binary', max=2, style=ProgressStyle(description_width='initia…"
      ]
     },
     "metadata": {},
     "output_type": "display_data"
    },
    {
     "data": {
      "application/vnd.jupyter.widget-view+json": {
       "model_id": "",
       "version_major": 2,
       "version_minor": 0
      },
      "text/plain": [
       "HBox(children=(IntProgress(value=0, description='metric', max=3, style=ProgressStyle(description_width='initia…"
      ]
     },
     "metadata": {},
     "output_type": "display_data"
    },
    {
     "data": {
      "application/vnd.jupyter.widget-view+json": {
       "model_id": "",
       "version_major": 2,
       "version_minor": 0
      },
      "text/plain": [
       "HBox(children=(IntProgress(value=0, description='method', max=2, style=ProgressStyle(description_width='initia…"
      ]
     },
     "metadata": {},
     "output_type": "display_data"
    },
    {
     "data": {
      "application/vnd.jupyter.widget-view+json": {
       "model_id": "",
       "version_major": 2,
       "version_minor": 0
      },
      "text/plain": [
       "HBox(children=(IntProgress(value=0, description='method', max=2, style=ProgressStyle(description_width='initia…"
      ]
     },
     "metadata": {},
     "output_type": "display_data"
    },
    {
     "data": {
      "application/vnd.jupyter.widget-view+json": {
       "model_id": "",
       "version_major": 2,
       "version_minor": 0
      },
      "text/plain": [
       "HBox(children=(IntProgress(value=0, description='method', max=2, style=ProgressStyle(description_width='initia…"
      ]
     },
     "metadata": {},
     "output_type": "display_data"
    },
    {
     "data": {
      "application/vnd.jupyter.widget-view+json": {
       "model_id": "",
       "version_major": 2,
       "version_minor": 0
      },
      "text/plain": [
       "HBox(children=(IntProgress(value=0, description='metric', max=3, style=ProgressStyle(description_width='initia…"
      ]
     },
     "metadata": {},
     "output_type": "display_data"
    },
    {
     "data": {
      "application/vnd.jupyter.widget-view+json": {
       "model_id": "",
       "version_major": 2,
       "version_minor": 0
      },
      "text/plain": [
       "HBox(children=(IntProgress(value=0, description='method', max=2, style=ProgressStyle(description_width='initia…"
      ]
     },
     "metadata": {},
     "output_type": "display_data"
    },
    {
     "data": {
      "application/vnd.jupyter.widget-view+json": {
       "model_id": "",
       "version_major": 2,
       "version_minor": 0
      },
      "text/plain": [
       "HBox(children=(IntProgress(value=0, description='method', max=2, style=ProgressStyle(description_width='initia…"
      ]
     },
     "metadata": {},
     "output_type": "display_data"
    },
    {
     "data": {
      "application/vnd.jupyter.widget-view+json": {
       "model_id": "",
       "version_major": 2,
       "version_minor": 0
      },
      "text/plain": [
       "HBox(children=(IntProgress(value=0, description='method', max=2, style=ProgressStyle(description_width='initia…"
      ]
     },
     "metadata": {},
     "output_type": "display_data"
    },
    {
     "data": {
      "application/vnd.jupyter.widget-view+json": {
       "model_id": "",
       "version_major": 2,
       "version_minor": 0
      },
      "text/plain": [
       "HBox(children=(IntProgress(value=0, description='binary', max=2, style=ProgressStyle(description_width='initia…"
      ]
     },
     "metadata": {},
     "output_type": "display_data"
    },
    {
     "data": {
      "application/vnd.jupyter.widget-view+json": {
       "model_id": "",
       "version_major": 2,
       "version_minor": 0
      },
      "text/plain": [
       "HBox(children=(IntProgress(value=0, description='metric', max=3, style=ProgressStyle(description_width='initia…"
      ]
     },
     "metadata": {},
     "output_type": "display_data"
    },
    {
     "data": {
      "application/vnd.jupyter.widget-view+json": {
       "model_id": "",
       "version_major": 2,
       "version_minor": 0
      },
      "text/plain": [
       "HBox(children=(IntProgress(value=0, description='method', max=2, style=ProgressStyle(description_width='initia…"
      ]
     },
     "metadata": {},
     "output_type": "display_data"
    },
    {
     "data": {
      "application/vnd.jupyter.widget-view+json": {
       "model_id": "",
       "version_major": 2,
       "version_minor": 0
      },
      "text/plain": [
       "HBox(children=(IntProgress(value=0, description='method', max=2, style=ProgressStyle(description_width='initia…"
      ]
     },
     "metadata": {},
     "output_type": "display_data"
    },
    {
     "data": {
      "application/vnd.jupyter.widget-view+json": {
       "model_id": "",
       "version_major": 2,
       "version_minor": 0
      },
      "text/plain": [
       "HBox(children=(IntProgress(value=0, description='method', max=2, style=ProgressStyle(description_width='initia…"
      ]
     },
     "metadata": {},
     "output_type": "display_data"
    },
    {
     "data": {
      "application/vnd.jupyter.widget-view+json": {
       "model_id": "",
       "version_major": 2,
       "version_minor": 0
      },
      "text/plain": [
       "HBox(children=(IntProgress(value=0, description='metric', max=3, style=ProgressStyle(description_width='initia…"
      ]
     },
     "metadata": {},
     "output_type": "display_data"
    },
    {
     "data": {
      "application/vnd.jupyter.widget-view+json": {
       "model_id": "",
       "version_major": 2,
       "version_minor": 0
      },
      "text/plain": [
       "HBox(children=(IntProgress(value=0, description='method', max=2, style=ProgressStyle(description_width='initia…"
      ]
     },
     "metadata": {},
     "output_type": "display_data"
    },
    {
     "data": {
      "application/vnd.jupyter.widget-view+json": {
       "model_id": "",
       "version_major": 2,
       "version_minor": 0
      },
      "text/plain": [
       "HBox(children=(IntProgress(value=0, description='method', max=2, style=ProgressStyle(description_width='initia…"
      ]
     },
     "metadata": {},
     "output_type": "display_data"
    },
    {
     "data": {
      "application/vnd.jupyter.widget-view+json": {
       "model_id": "",
       "version_major": 2,
       "version_minor": 0
      },
      "text/plain": [
       "HBox(children=(IntProgress(value=0, description='method', max=2, style=ProgressStyle(description_width='initia…"
      ]
     },
     "metadata": {},
     "output_type": "display_data"
    },
    {
     "data": {
      "application/vnd.jupyter.widget-view+json": {
       "model_id": "",
       "version_major": 2,
       "version_minor": 0
      },
      "text/plain": [
       "HBox(children=(IntProgress(value=0, description='binary', max=2, style=ProgressStyle(description_width='initia…"
      ]
     },
     "metadata": {},
     "output_type": "display_data"
    },
    {
     "data": {
      "application/vnd.jupyter.widget-view+json": {
       "model_id": "",
       "version_major": 2,
       "version_minor": 0
      },
      "text/plain": [
       "HBox(children=(IntProgress(value=0, description='metric', max=3, style=ProgressStyle(description_width='initia…"
      ]
     },
     "metadata": {},
     "output_type": "display_data"
    },
    {
     "data": {
      "application/vnd.jupyter.widget-view+json": {
       "model_id": "",
       "version_major": 2,
       "version_minor": 0
      },
      "text/plain": [
       "HBox(children=(IntProgress(value=0, description='method', max=2, style=ProgressStyle(description_width='initia…"
      ]
     },
     "metadata": {},
     "output_type": "display_data"
    },
    {
     "data": {
      "application/vnd.jupyter.widget-view+json": {
       "model_id": "",
       "version_major": 2,
       "version_minor": 0
      },
      "text/plain": [
       "HBox(children=(IntProgress(value=0, description='method', max=2, style=ProgressStyle(description_width='initia…"
      ]
     },
     "metadata": {},
     "output_type": "display_data"
    },
    {
     "data": {
      "application/vnd.jupyter.widget-view+json": {
       "model_id": "",
       "version_major": 2,
       "version_minor": 0
      },
      "text/plain": [
       "HBox(children=(IntProgress(value=0, description='method', max=2, style=ProgressStyle(description_width='initia…"
      ]
     },
     "metadata": {},
     "output_type": "display_data"
    },
    {
     "data": {
      "application/vnd.jupyter.widget-view+json": {
       "model_id": "",
       "version_major": 2,
       "version_minor": 0
      },
      "text/plain": [
       "HBox(children=(IntProgress(value=0, description='metric', max=3, style=ProgressStyle(description_width='initia…"
      ]
     },
     "metadata": {},
     "output_type": "display_data"
    },
    {
     "data": {
      "application/vnd.jupyter.widget-view+json": {
       "model_id": "",
       "version_major": 2,
       "version_minor": 0
      },
      "text/plain": [
       "HBox(children=(IntProgress(value=0, description='method', max=2, style=ProgressStyle(description_width='initia…"
      ]
     },
     "metadata": {},
     "output_type": "display_data"
    },
    {
     "data": {
      "application/vnd.jupyter.widget-view+json": {
       "model_id": "",
       "version_major": 2,
       "version_minor": 0
      },
      "text/plain": [
       "HBox(children=(IntProgress(value=0, description='method', max=2, style=ProgressStyle(description_width='initia…"
      ]
     },
     "metadata": {},
     "output_type": "display_data"
    },
    {
     "data": {
      "application/vnd.jupyter.widget-view+json": {
       "model_id": "",
       "version_major": 2,
       "version_minor": 0
      },
      "text/plain": [
       "HBox(children=(IntProgress(value=0, description='method', max=2, style=ProgressStyle(description_width='initia…"
      ]
     },
     "metadata": {},
     "output_type": "display_data"
    },
    {
     "data": {
      "application/vnd.jupyter.widget-view+json": {
       "model_id": "",
       "version_major": 2,
       "version_minor": 0
      },
      "text/plain": [
       "HBox(children=(IntProgress(value=0, description='binary', max=2, style=ProgressStyle(description_width='initia…"
      ]
     },
     "metadata": {},
     "output_type": "display_data"
    },
    {
     "data": {
      "application/vnd.jupyter.widget-view+json": {
       "model_id": "",
       "version_major": 2,
       "version_minor": 0
      },
      "text/plain": [
       "HBox(children=(IntProgress(value=0, description='metric', max=3, style=ProgressStyle(description_width='initia…"
      ]
     },
     "metadata": {},
     "output_type": "display_data"
    },
    {
     "data": {
      "application/vnd.jupyter.widget-view+json": {
       "model_id": "",
       "version_major": 2,
       "version_minor": 0
      },
      "text/plain": [
       "HBox(children=(IntProgress(value=0, description='method', max=2, style=ProgressStyle(description_width='initia…"
      ]
     },
     "metadata": {},
     "output_type": "display_data"
    },
    {
     "data": {
      "application/vnd.jupyter.widget-view+json": {
       "model_id": "",
       "version_major": 2,
       "version_minor": 0
      },
      "text/plain": [
       "HBox(children=(IntProgress(value=0, description='method', max=2, style=ProgressStyle(description_width='initia…"
      ]
     },
     "metadata": {},
     "output_type": "display_data"
    },
    {
     "data": {
      "application/vnd.jupyter.widget-view+json": {
       "model_id": "",
       "version_major": 2,
       "version_minor": 0
      },
      "text/plain": [
       "HBox(children=(IntProgress(value=0, description='method', max=2, style=ProgressStyle(description_width='initia…"
      ]
     },
     "metadata": {},
     "output_type": "display_data"
    },
    {
     "data": {
      "application/vnd.jupyter.widget-view+json": {
       "model_id": "",
       "version_major": 2,
       "version_minor": 0
      },
      "text/plain": [
       "HBox(children=(IntProgress(value=0, description='metric', max=3, style=ProgressStyle(description_width='initia…"
      ]
     },
     "metadata": {},
     "output_type": "display_data"
    },
    {
     "data": {
      "application/vnd.jupyter.widget-view+json": {
       "model_id": "",
       "version_major": 2,
       "version_minor": 0
      },
      "text/plain": [
       "HBox(children=(IntProgress(value=0, description='method', max=2, style=ProgressStyle(description_width='initia…"
      ]
     },
     "metadata": {},
     "output_type": "display_data"
    },
    {
     "data": {
      "application/vnd.jupyter.widget-view+json": {
       "model_id": "",
       "version_major": 2,
       "version_minor": 0
      },
      "text/plain": [
       "HBox(children=(IntProgress(value=0, description='method', max=2, style=ProgressStyle(description_width='initia…"
      ]
     },
     "metadata": {},
     "output_type": "display_data"
    },
    {
     "data": {
      "application/vnd.jupyter.widget-view+json": {
       "model_id": "",
       "version_major": 2,
       "version_minor": 0
      },
      "text/plain": [
       "HBox(children=(IntProgress(value=0, description='method', max=2, style=ProgressStyle(description_width='initia…"
      ]
     },
     "metadata": {},
     "output_type": "display_data"
    },
    {
     "data": {
      "application/vnd.jupyter.widget-view+json": {
       "model_id": "",
       "version_major": 2,
       "version_minor": 0
      },
      "text/plain": [
       "HBox(children=(IntProgress(value=0, description='binary', max=2, style=ProgressStyle(description_width='initia…"
      ]
     },
     "metadata": {},
     "output_type": "display_data"
    },
    {
     "data": {
      "application/vnd.jupyter.widget-view+json": {
       "model_id": "",
       "version_major": 2,
       "version_minor": 0
      },
      "text/plain": [
       "HBox(children=(IntProgress(value=0, description='metric', max=3, style=ProgressStyle(description_width='initia…"
      ]
     },
     "metadata": {},
     "output_type": "display_data"
    },
    {
     "data": {
      "application/vnd.jupyter.widget-view+json": {
       "model_id": "",
       "version_major": 2,
       "version_minor": 0
      },
      "text/plain": [
       "HBox(children=(IntProgress(value=0, description='method', max=2, style=ProgressStyle(description_width='initia…"
      ]
     },
     "metadata": {},
     "output_type": "display_data"
    },
    {
     "data": {
      "application/vnd.jupyter.widget-view+json": {
       "model_id": "",
       "version_major": 2,
       "version_minor": 0
      },
      "text/plain": [
       "HBox(children=(IntProgress(value=0, description='method', max=2, style=ProgressStyle(description_width='initia…"
      ]
     },
     "metadata": {},
     "output_type": "display_data"
    },
    {
     "data": {
      "application/vnd.jupyter.widget-view+json": {
       "model_id": "",
       "version_major": 2,
       "version_minor": 0
      },
      "text/plain": [
       "HBox(children=(IntProgress(value=0, description='method', max=2, style=ProgressStyle(description_width='initia…"
      ]
     },
     "metadata": {},
     "output_type": "display_data"
    },
    {
     "data": {
      "application/vnd.jupyter.widget-view+json": {
       "model_id": "",
       "version_major": 2,
       "version_minor": 0
      },
      "text/plain": [
       "HBox(children=(IntProgress(value=0, description='metric', max=3, style=ProgressStyle(description_width='initia…"
      ]
     },
     "metadata": {},
     "output_type": "display_data"
    },
    {
     "data": {
      "application/vnd.jupyter.widget-view+json": {
       "model_id": "",
       "version_major": 2,
       "version_minor": 0
      },
      "text/plain": [
       "HBox(children=(IntProgress(value=0, description='method', max=2, style=ProgressStyle(description_width='initia…"
      ]
     },
     "metadata": {},
     "output_type": "display_data"
    },
    {
     "data": {
      "application/vnd.jupyter.widget-view+json": {
       "model_id": "",
       "version_major": 2,
       "version_minor": 0
      },
      "text/plain": [
       "HBox(children=(IntProgress(value=0, description='method', max=2, style=ProgressStyle(description_width='initia…"
      ]
     },
     "metadata": {},
     "output_type": "display_data"
    },
    {
     "data": {
      "application/vnd.jupyter.widget-view+json": {
       "model_id": "",
       "version_major": 2,
       "version_minor": 0
      },
      "text/plain": [
       "HBox(children=(IntProgress(value=0, description='method', max=2, style=ProgressStyle(description_width='initia…"
      ]
     },
     "metadata": {},
     "output_type": "display_data"
    },
    {
     "data": {
      "application/vnd.jupyter.widget-view+json": {
       "model_id": "",
       "version_major": 2,
       "version_minor": 0
      },
      "text/plain": [
       "HBox(children=(IntProgress(value=0, description='binary', max=2, style=ProgressStyle(description_width='initia…"
      ]
     },
     "metadata": {},
     "output_type": "display_data"
    },
    {
     "data": {
      "application/vnd.jupyter.widget-view+json": {
       "model_id": "",
       "version_major": 2,
       "version_minor": 0
      },
      "text/plain": [
       "HBox(children=(IntProgress(value=0, description='metric', max=3, style=ProgressStyle(description_width='initia…"
      ]
     },
     "metadata": {},
     "output_type": "display_data"
    },
    {
     "data": {
      "application/vnd.jupyter.widget-view+json": {
       "model_id": "",
       "version_major": 2,
       "version_minor": 0
      },
      "text/plain": [
       "HBox(children=(IntProgress(value=0, description='method', max=2, style=ProgressStyle(description_width='initia…"
      ]
     },
     "metadata": {},
     "output_type": "display_data"
    },
    {
     "data": {
      "application/vnd.jupyter.widget-view+json": {
       "model_id": "",
       "version_major": 2,
       "version_minor": 0
      },
      "text/plain": [
       "HBox(children=(IntProgress(value=0, description='method', max=2, style=ProgressStyle(description_width='initia…"
      ]
     },
     "metadata": {},
     "output_type": "display_data"
    },
    {
     "data": {
      "application/vnd.jupyter.widget-view+json": {
       "model_id": "",
       "version_major": 2,
       "version_minor": 0
      },
      "text/plain": [
       "HBox(children=(IntProgress(value=0, description='method', max=2, style=ProgressStyle(description_width='initia…"
      ]
     },
     "metadata": {},
     "output_type": "display_data"
    },
    {
     "data": {
      "application/vnd.jupyter.widget-view+json": {
       "model_id": "",
       "version_major": 2,
       "version_minor": 0
      },
      "text/plain": [
       "HBox(children=(IntProgress(value=0, description='metric', max=3, style=ProgressStyle(description_width='initia…"
      ]
     },
     "metadata": {},
     "output_type": "display_data"
    },
    {
     "data": {
      "application/vnd.jupyter.widget-view+json": {
       "model_id": "",
       "version_major": 2,
       "version_minor": 0
      },
      "text/plain": [
       "HBox(children=(IntProgress(value=0, description='method', max=2, style=ProgressStyle(description_width='initia…"
      ]
     },
     "metadata": {},
     "output_type": "display_data"
    },
    {
     "data": {
      "application/vnd.jupyter.widget-view+json": {
       "model_id": "",
       "version_major": 2,
       "version_minor": 0
      },
      "text/plain": [
       "HBox(children=(IntProgress(value=0, description='method', max=2, style=ProgressStyle(description_width='initia…"
      ]
     },
     "metadata": {},
     "output_type": "display_data"
    },
    {
     "data": {
      "application/vnd.jupyter.widget-view+json": {
       "model_id": "",
       "version_major": 2,
       "version_minor": 0
      },
      "text/plain": [
       "HBox(children=(IntProgress(value=0, description='method', max=2, style=ProgressStyle(description_width='initia…"
      ]
     },
     "metadata": {},
     "output_type": "display_data"
    },
    {
     "data": {
      "application/vnd.jupyter.widget-view+json": {
       "model_id": "",
       "version_major": 2,
       "version_minor": 0
      },
      "text/plain": [
       "HBox(children=(IntProgress(value=0, description='binary', max=2, style=ProgressStyle(description_width='initia…"
      ]
     },
     "metadata": {},
     "output_type": "display_data"
    },
    {
     "data": {
      "application/vnd.jupyter.widget-view+json": {
       "model_id": "",
       "version_major": 2,
       "version_minor": 0
      },
      "text/plain": [
       "HBox(children=(IntProgress(value=0, description='metric', max=3, style=ProgressStyle(description_width='initia…"
      ]
     },
     "metadata": {},
     "output_type": "display_data"
    },
    {
     "data": {
      "application/vnd.jupyter.widget-view+json": {
       "model_id": "",
       "version_major": 2,
       "version_minor": 0
      },
      "text/plain": [
       "HBox(children=(IntProgress(value=0, description='method', max=2, style=ProgressStyle(description_width='initia…"
      ]
     },
     "metadata": {},
     "output_type": "display_data"
    },
    {
     "data": {
      "application/vnd.jupyter.widget-view+json": {
       "model_id": "",
       "version_major": 2,
       "version_minor": 0
      },
      "text/plain": [
       "HBox(children=(IntProgress(value=0, description='method', max=2, style=ProgressStyle(description_width='initia…"
      ]
     },
     "metadata": {},
     "output_type": "display_data"
    },
    {
     "data": {
      "application/vnd.jupyter.widget-view+json": {
       "model_id": "",
       "version_major": 2,
       "version_minor": 0
      },
      "text/plain": [
       "HBox(children=(IntProgress(value=0, description='method', max=2, style=ProgressStyle(description_width='initia…"
      ]
     },
     "metadata": {},
     "output_type": "display_data"
    },
    {
     "data": {
      "application/vnd.jupyter.widget-view+json": {
       "model_id": "",
       "version_major": 2,
       "version_minor": 0
      },
      "text/plain": [
       "HBox(children=(IntProgress(value=0, description='metric', max=3, style=ProgressStyle(description_width='initia…"
      ]
     },
     "metadata": {},
     "output_type": "display_data"
    },
    {
     "data": {
      "application/vnd.jupyter.widget-view+json": {
       "model_id": "",
       "version_major": 2,
       "version_minor": 0
      },
      "text/plain": [
       "HBox(children=(IntProgress(value=0, description='method', max=2, style=ProgressStyle(description_width='initia…"
      ]
     },
     "metadata": {},
     "output_type": "display_data"
    },
    {
     "data": {
      "application/vnd.jupyter.widget-view+json": {
       "model_id": "",
       "version_major": 2,
       "version_minor": 0
      },
      "text/plain": [
       "HBox(children=(IntProgress(value=0, description='method', max=2, style=ProgressStyle(description_width='initia…"
      ]
     },
     "metadata": {},
     "output_type": "display_data"
    },
    {
     "data": {
      "application/vnd.jupyter.widget-view+json": {
       "model_id": "",
       "version_major": 2,
       "version_minor": 0
      },
      "text/plain": [
       "HBox(children=(IntProgress(value=0, description='method', max=2, style=ProgressStyle(description_width='initia…"
      ]
     },
     "metadata": {},
     "output_type": "display_data"
    },
    {
     "name": "stdout",
     "output_type": "stream",
     "text": [
      "\n",
      "CPU times: user 42.6 s, sys: 1.51 s, total: 44.1 s\n",
      "Wall time: 3min 54s\n"
     ]
    }
   ],
   "source": [
    "%%time\n",
    "\n",
    "vectorizers = ['CountVectorizer',\n",
    "               'TfidfVectorizer', \n",
    "               'NCutVectorizer']\n",
    "min_df = np.arange(0.05, 0.5, 0.05)\n",
    "binary = [True, False]\n",
    "cluster_methods = ['nmf', 'lda']\n",
    "#, 'hierarchical', 'gaussian_mixture', 'spectral_clustering']\n",
    "metric = ['correlation', 'euclidean', 'cosine']\n",
    "\n",
    "topics = [\"bbc2\", \"bbc3\", \"bbc4\", \"bbc5\"]\n",
    "\n",
    "\n",
    "# Testing how the metrics work for several group of topics\n",
    "for topic_list in tqdm_notebook(topics, desc=\"docs\"):\n",
    "    \n",
    "    # Grid search\n",
    "    for v in tqdm_notebook(vectorizers, desc=\"vectorizer\", leave=False):\n",
    "        for m in tqdm_notebook(min_df, desc=\"min_df\", leave=False):\n",
    "            for b in tqdm_notebook(binary, desc=\"binary\", leave=False):\n",
    "                for dist in tqdm_notebook(metric, desc=\"metric\", leave=False):\n",
    "                    for method in tqdm_notebook(cluster_methods, desc=\"method\", leave=False):\n",
    "                        # Get results for each combination and get best k value\n",
    "                        cols = [\"experiment_id\", \"dataset\", \"k\", \"gap\", \"gap_std\", \"silhouette\", \"silhouette_samples\", \n",
    "                                \"coherence_samples\", \"coherence_med\", \"coherence_std\", \"coherence_k\"]\n",
    "\n",
    "                        query = \"SELECT %s from experiments where \" % \", \".join(cols)\n",
    "                        where_clause = [(\"vectorizer\", v), (\"min_df\", m), (\"is_binary\", b), \n",
    "                                        (\"distance\", dist), (\"method\", method)]\n",
    "                        query += \" AND \".join([\"%s = '%s'\" % item for item in where_clause])\n",
    "                        cursor.execute(query)\n",
    "                        r = cursor.fetchall()\n",
    "                        df = pd.DataFrame(r, columns=cols)\n",
    "                        \n",
    "                        if df.shape[0]:\n",
    "                            experiment_id = df['experiment_id'].values.tolist()[0]\n",
    "\n",
    "                            # Get measure values\n",
    "                            gaps_original = df['gap'].values.tolist()\n",
    "                            gaps = gaps_original[:]\n",
    "                            error = df['gap_std'].values.tolist()\n",
    "                            sils = df['silhouette'].values.tolist()\n",
    "                            coherence = df['coherence_med'].values.tolist()\n",
    "                            coherence_std = df['coherence_std'].values.tolist()\n",
    "                            coherence_array = df['coherence_samples'].values.tolist()\n",
    "\n",
    "                            # Gap\n",
    "                            gap_k, gap_k2 = define_k(gaps, error)\n",
    "                            # Silhouette\n",
    "                            silhouette_k = np.argsort(np.asarray(sils))[::-1][0]+2\n",
    "                            silhouette_k2 = np.argsort(np.asarray(sils))[::-1][1]+2\n",
    "                            # Coherence\n",
    "                            coherence_med = []\n",
    "    #                         coherence_std = []\n",
    "                            for c in coherence_array:\n",
    "                                coherence_med.append(np.median(np.asarray([i for i in c if str(i) != 'nan'])))\n",
    "    #                             coherence_std.append(np.std(np.asarray([i for i in c if str(i) != 'nan'])))\n",
    "                            coherence_k = np.argsort(np.asarray(coherence_med))[::-1][0]+2\n",
    "                            coherence_k2 = np.argsort(np.asarray(coherence_med))[::-1][1]+2\n",
    "\n",
    "                            cols = [\"experiment_id\", \"gap_k\", \"gap_k2\", \"silhouette_k\", \"silhouette_k2\", \"coherence_k\", \"coherence_k2\"]\n",
    "                            insert_query = \"INSERT INTO EXPERIMENTS_RESULT (%s) VALUES \" % \", \".join(cols)\n",
    "                            values = [experiment_id, gap_k, gap_k2, silhouette_k, silhouette_k2, coherence_k, coherence_k2]\n",
    "                            values = [int(i) for i in values]\n",
    "                            insert_query += \"(\" + \", \".join([\"%s\"]*len(values)) + \")\"\n",
    "                            query = cursor.mogrify(insert_query, values)\n",
    "                            try:\n",
    "                                cursor.execute(query)\n",
    "                            except psycopg2.IntegrityError:\n",
    "                                pass\n",
    "#                         break\n",
    "#                     break\n",
    "#                 break\n",
    "#             break\n",
    "#         break\n",
    "#     break"
   ]
  },
  {
   "cell_type": "code",
   "execution_count": 62,
   "metadata": {},
   "outputs": [
    {
     "name": "stderr",
     "output_type": "stream",
     "text": [
      "/home/lmoraes/miniconda3/envs/machine_teaching/lib/python3.6/site-packages/ipykernel_launcher.py:14: RuntimeWarning: invalid value encountered in greater\n",
      "  \n"
     ]
    }
   ],
   "source": [
    "# Get experiment conditions\n",
    "exp_id = 122\n",
    "cols = [\"vectorizer\", \"min_df\", \"is_binary\", \"distance\", \"method\"]\n",
    "query = \"SELECT %s from experiments where experiment_id = %s\" % (\", \".join(cols), exp_id) \n",
    "cursor.execute(query)\n",
    "r = cursor.fetchall()\n",
    "r[0]\n",
    "where_clause = zip(*[cols, r[0]])\n",
    "\n",
    "# Get all k\n",
    "cols = [\"experiment_id\", \"dataset\", \"k\", \"gap\", \"gap_std\", \"silhouette\", \"silhouette_samples\", \n",
    "                                \"coherence_samples\", \"coherence_med\", \"coherence_std\", \"coherence_k\"]\n",
    "\n",
    "query = \"SELECT %s from experiments where \" % \", \".join(cols)\n",
    "query += \" AND \".join([\"%s = '%s'\" % item for item in where_clause])\n",
    "cursor.execute(query)\n",
    "r = cursor.fetchall()\n",
    "df = pd.DataFrame(r, columns=cols)\n",
    "\n",
    "gaps_original = df['gap'].values.tolist()\n",
    "gaps = gaps_original[:]\n",
    "error = df['gap_std'].values.tolist()\n",
    "sils = df['silhouette'].values.tolist()\n",
    "coherence = df['coherence_med'].values.tolist()\n",
    "coherence_std = df['coherence_std'].values.tolist()\n",
    "coherence_array = df['coherence_samples'].values.tolist()\n",
    "\n",
    "# Get measure values\n",
    "gaps_original = df['gap'].values.tolist()\n",
    "gaps = gaps_original[:]\n",
    "error = df['gap_std'].values.tolist()\n",
    "sils = df['silhouette'].values.tolist()\n",
    "coherence = df['coherence_med'].values.tolist()\n",
    "coherence_std = df['coherence_std'].values.tolist()\n",
    "coherence_array = df['coherence_samples'].values.tolist()\n",
    "\n",
    "# Gap\n",
    "gap_k, gap_k2 = define_k(gaps, error)\n",
    "# Silhouette\n",
    "silhouette_k = np.argsort(np.asarray(sils))[::-1][0]+2\n",
    "silhouette_k2 = np.argsort(np.asarray(sils))[::-1][1]+2\n",
    "# Coherence\n",
    "coherence_med = []\n",
    "#                         coherence_std = []\n",
    "for c in coherence_array:\n",
    "    coherence_med.append(np.median(np.asarray([i for i in c if str(i) != 'nan'])))\n",
    "#                             coherence_std.append(np.std(np.asarray([i for i in c if str(i) != 'nan'])))\n",
    "coherence_k = np.argsort(np.asarray(coherence_med))[::-1][0]+2\n",
    "coherence_k2 = np.argsort(np.asarray(coherence_med))[::-1][1]+2"
   ]
  },
  {
   "cell_type": "code",
   "execution_count": 60,
   "metadata": {},
   "outputs": [
    {
     "data": {
      "text/html": [
       "<div>\n",
       "<style scoped>\n",
       "    .dataframe tbody tr th:only-of-type {\n",
       "        vertical-align: middle;\n",
       "    }\n",
       "\n",
       "    .dataframe tbody tr th {\n",
       "        vertical-align: top;\n",
       "    }\n",
       "\n",
       "    .dataframe thead th {\n",
       "        text-align: right;\n",
       "    }\n",
       "</style>\n",
       "<table border=\"1\" class=\"dataframe\">\n",
       "  <thead>\n",
       "    <tr style=\"text-align: right;\">\n",
       "      <th></th>\n",
       "      <th>experiment_id</th>\n",
       "      <th>dataset</th>\n",
       "      <th>k</th>\n",
       "      <th>gap</th>\n",
       "      <th>gap_std</th>\n",
       "      <th>silhouette</th>\n",
       "      <th>silhouette_samples</th>\n",
       "      <th>coherence_samples</th>\n",
       "      <th>coherence_med</th>\n",
       "      <th>coherence_std</th>\n",
       "      <th>coherence_k</th>\n",
       "    </tr>\n",
       "  </thead>\n",
       "  <tbody>\n",
       "    <tr>\n",
       "      <th>0</th>\n",
       "      <td>122</td>\n",
       "      <td>bbc2</td>\n",
       "      <td>5</td>\n",
       "      <td>-0.330245</td>\n",
       "      <td>0.020410</td>\n",
       "      <td>0.032902</td>\n",
       "      <td>[0.0637975, 0.0537108, 0.16985, 0.0345861, 0.1...</td>\n",
       "      <td>[-1.54702, -3.56375, -3.65616, -2.34255, -3.17...</td>\n",
       "      <td>-3.17055</td>\n",
       "      <td>0.802142</td>\n",
       "      <td>5</td>\n",
       "    </tr>\n",
       "    <tr>\n",
       "      <th>1</th>\n",
       "      <td>127</td>\n",
       "      <td>bbc2</td>\n",
       "      <td>6</td>\n",
       "      <td>-0.334212</td>\n",
       "      <td>0.016845</td>\n",
       "      <td>0.047394</td>\n",
       "      <td>[0.0556416, 0.0433508, 0.153089, 0.0614036, 0....</td>\n",
       "      <td>[-1.983, -3.59234, -3.21547, -4.29214, -3.7004...</td>\n",
       "      <td>-3.64642</td>\n",
       "      <td>0.785485</td>\n",
       "      <td>6</td>\n",
       "    </tr>\n",
       "    <tr>\n",
       "      <th>2</th>\n",
       "      <td>135</td>\n",
       "      <td>bbc2</td>\n",
       "      <td>7</td>\n",
       "      <td>-0.313414</td>\n",
       "      <td>0.023657</td>\n",
       "      <td>0.034345</td>\n",
       "      <td>[-0.105722, -0.0314994, 0.138871, 0.0564991, 0...</td>\n",
       "      <td>[-2.6056, -2.89574, -2.92194, -3.84857, -3.429...</td>\n",
       "      <td>-3.42919</td>\n",
       "      <td>0.886936</td>\n",
       "      <td>7</td>\n",
       "    </tr>\n",
       "    <tr>\n",
       "      <th>3</th>\n",
       "      <td>140</td>\n",
       "      <td>bbc2</td>\n",
       "      <td>8</td>\n",
       "      <td>-0.330359</td>\n",
       "      <td>0.017864</td>\n",
       "      <td>0.032001</td>\n",
       "      <td>[-0.111072, -0.0451676, 0.124545, 0.0547686, 0...</td>\n",
       "      <td>[-2.23125, -2.85773, -3.22107, -4.98671, -3.20...</td>\n",
       "      <td>NaN</td>\n",
       "      <td>NaN</td>\n",
       "      <td>8</td>\n",
       "    </tr>\n",
       "    <tr>\n",
       "      <th>4</th>\n",
       "      <td>146</td>\n",
       "      <td>bbc2</td>\n",
       "      <td>9</td>\n",
       "      <td>-0.330122</td>\n",
       "      <td>0.018909</td>\n",
       "      <td>0.033926</td>\n",
       "      <td>[-0.110191, -0.0356851, 0.132098, -0.0560888, ...</td>\n",
       "      <td>[-1.95003, -2.55686, -2.81577, -2.87771, -3.27...</td>\n",
       "      <td>-3.27686</td>\n",
       "      <td>1.282360</td>\n",
       "      <td>9</td>\n",
       "    </tr>\n",
       "    <tr>\n",
       "      <th>5</th>\n",
       "      <td>152</td>\n",
       "      <td>bbc2</td>\n",
       "      <td>10</td>\n",
       "      <td>NaN</td>\n",
       "      <td>NaN</td>\n",
       "      <td>0.074761</td>\n",
       "      <td>[0.0689213, 0.0601012, 0.159788, -0.0557, 0.16...</td>\n",
       "      <td>[-2.0873, -2.95459, -3.52577, -3.90273, -4.491...</td>\n",
       "      <td>-3.86699</td>\n",
       "      <td>0.862012</td>\n",
       "      <td>9</td>\n",
       "    </tr>\n",
       "    <tr>\n",
       "      <th>6</th>\n",
       "      <td>157</td>\n",
       "      <td>bbc2</td>\n",
       "      <td>11</td>\n",
       "      <td>NaN</td>\n",
       "      <td>NaN</td>\n",
       "      <td>0.035814</td>\n",
       "      <td>[-0.0366373, 0.0515053, 0.0332522, -0.0630054,...</td>\n",
       "      <td>[-2.16294, -3.01997, -4.31854, -4.60517, -4.60...</td>\n",
       "      <td>-4.00546</td>\n",
       "      <td>0.927794</td>\n",
       "      <td>10</td>\n",
       "    </tr>\n",
       "    <tr>\n",
       "      <th>7</th>\n",
       "      <td>165</td>\n",
       "      <td>bbc2</td>\n",
       "      <td>12</td>\n",
       "      <td>NaN</td>\n",
       "      <td>NaN</td>\n",
       "      <td>0.052427</td>\n",
       "      <td>[0.0756551, 0.0519188, 0.106314, 0.0707328, 0....</td>\n",
       "      <td>[-2.24478, -2.91631, -3.45139, -4.60517, nan, ...</td>\n",
       "      <td>NaN</td>\n",
       "      <td>NaN</td>\n",
       "      <td>11</td>\n",
       "    </tr>\n",
       "  </tbody>\n",
       "</table>\n",
       "</div>"
      ],
      "text/plain": [
       "   experiment_id dataset   k       gap   gap_std  silhouette  \\\n",
       "0            122    bbc2   5 -0.330245  0.020410    0.032902   \n",
       "1            127    bbc2   6 -0.334212  0.016845    0.047394   \n",
       "2            135    bbc2   7 -0.313414  0.023657    0.034345   \n",
       "3            140    bbc2   8 -0.330359  0.017864    0.032001   \n",
       "4            146    bbc2   9 -0.330122  0.018909    0.033926   \n",
       "5            152    bbc2  10       NaN       NaN    0.074761   \n",
       "6            157    bbc2  11       NaN       NaN    0.035814   \n",
       "7            165    bbc2  12       NaN       NaN    0.052427   \n",
       "\n",
       "                                  silhouette_samples  \\\n",
       "0  [0.0637975, 0.0537108, 0.16985, 0.0345861, 0.1...   \n",
       "1  [0.0556416, 0.0433508, 0.153089, 0.0614036, 0....   \n",
       "2  [-0.105722, -0.0314994, 0.138871, 0.0564991, 0...   \n",
       "3  [-0.111072, -0.0451676, 0.124545, 0.0547686, 0...   \n",
       "4  [-0.110191, -0.0356851, 0.132098, -0.0560888, ...   \n",
       "5  [0.0689213, 0.0601012, 0.159788, -0.0557, 0.16...   \n",
       "6  [-0.0366373, 0.0515053, 0.0332522, -0.0630054,...   \n",
       "7  [0.0756551, 0.0519188, 0.106314, 0.0707328, 0....   \n",
       "\n",
       "                                   coherence_samples  coherence_med  \\\n",
       "0  [-1.54702, -3.56375, -3.65616, -2.34255, -3.17...       -3.17055   \n",
       "1  [-1.983, -3.59234, -3.21547, -4.29214, -3.7004...       -3.64642   \n",
       "2  [-2.6056, -2.89574, -2.92194, -3.84857, -3.429...       -3.42919   \n",
       "3  [-2.23125, -2.85773, -3.22107, -4.98671, -3.20...            NaN   \n",
       "4  [-1.95003, -2.55686, -2.81577, -2.87771, -3.27...       -3.27686   \n",
       "5  [-2.0873, -2.95459, -3.52577, -3.90273, -4.491...       -3.86699   \n",
       "6  [-2.16294, -3.01997, -4.31854, -4.60517, -4.60...       -4.00546   \n",
       "7  [-2.24478, -2.91631, -3.45139, -4.60517, nan, ...            NaN   \n",
       "\n",
       "   coherence_std  coherence_k  \n",
       "0       0.802142            5  \n",
       "1       0.785485            6  \n",
       "2       0.886936            7  \n",
       "3            NaN            8  \n",
       "4       1.282360            9  \n",
       "5       0.862012            9  \n",
       "6       0.927794           10  \n",
       "7            NaN           11  "
      ]
     },
     "execution_count": 60,
     "metadata": {},
     "output_type": "execute_result"
    }
   ],
   "source": [
    "df"
   ]
  },
  {
   "cell_type": "code",
   "execution_count": 63,
   "metadata": {},
   "outputs": [],
   "source": [
    "%matplotlib notebook"
   ]
  },
  {
   "cell_type": "code",
   "execution_count": 64,
   "metadata": {},
   "outputs": [
    {
     "data": {
      "application/javascript": [
       "/* Put everything inside the global mpl namespace */\n",
       "window.mpl = {};\n",
       "\n",
       "\n",
       "mpl.get_websocket_type = function() {\n",
       "    if (typeof(WebSocket) !== 'undefined') {\n",
       "        return WebSocket;\n",
       "    } else if (typeof(MozWebSocket) !== 'undefined') {\n",
       "        return MozWebSocket;\n",
       "    } else {\n",
       "        alert('Your browser does not have WebSocket support.' +\n",
       "              'Please try Chrome, Safari or Firefox ≥ 6. ' +\n",
       "              'Firefox 4 and 5 are also supported but you ' +\n",
       "              'have to enable WebSockets in about:config.');\n",
       "    };\n",
       "}\n",
       "\n",
       "mpl.figure = function(figure_id, websocket, ondownload, parent_element) {\n",
       "    this.id = figure_id;\n",
       "\n",
       "    this.ws = websocket;\n",
       "\n",
       "    this.supports_binary = (this.ws.binaryType != undefined);\n",
       "\n",
       "    if (!this.supports_binary) {\n",
       "        var warnings = document.getElementById(\"mpl-warnings\");\n",
       "        if (warnings) {\n",
       "            warnings.style.display = 'block';\n",
       "            warnings.textContent = (\n",
       "                \"This browser does not support binary websocket messages. \" +\n",
       "                    \"Performance may be slow.\");\n",
       "        }\n",
       "    }\n",
       "\n",
       "    this.imageObj = new Image();\n",
       "\n",
       "    this.context = undefined;\n",
       "    this.message = undefined;\n",
       "    this.canvas = undefined;\n",
       "    this.rubberband_canvas = undefined;\n",
       "    this.rubberband_context = undefined;\n",
       "    this.format_dropdown = undefined;\n",
       "\n",
       "    this.image_mode = 'full';\n",
       "\n",
       "    this.root = $('<div/>');\n",
       "    this._root_extra_style(this.root)\n",
       "    this.root.attr('style', 'display: inline-block');\n",
       "\n",
       "    $(parent_element).append(this.root);\n",
       "\n",
       "    this._init_header(this);\n",
       "    this._init_canvas(this);\n",
       "    this._init_toolbar(this);\n",
       "\n",
       "    var fig = this;\n",
       "\n",
       "    this.waiting = false;\n",
       "\n",
       "    this.ws.onopen =  function () {\n",
       "            fig.send_message(\"supports_binary\", {value: fig.supports_binary});\n",
       "            fig.send_message(\"send_image_mode\", {});\n",
       "            if (mpl.ratio != 1) {\n",
       "                fig.send_message(\"set_dpi_ratio\", {'dpi_ratio': mpl.ratio});\n",
       "            }\n",
       "            fig.send_message(\"refresh\", {});\n",
       "        }\n",
       "\n",
       "    this.imageObj.onload = function() {\n",
       "            if (fig.image_mode == 'full') {\n",
       "                // Full images could contain transparency (where diff images\n",
       "                // almost always do), so we need to clear the canvas so that\n",
       "                // there is no ghosting.\n",
       "                fig.context.clearRect(0, 0, fig.canvas.width, fig.canvas.height);\n",
       "            }\n",
       "            fig.context.drawImage(fig.imageObj, 0, 0);\n",
       "        };\n",
       "\n",
       "    this.imageObj.onunload = function() {\n",
       "        fig.ws.close();\n",
       "    }\n",
       "\n",
       "    this.ws.onmessage = this._make_on_message_function(this);\n",
       "\n",
       "    this.ondownload = ondownload;\n",
       "}\n",
       "\n",
       "mpl.figure.prototype._init_header = function() {\n",
       "    var titlebar = $(\n",
       "        '<div class=\"ui-dialog-titlebar ui-widget-header ui-corner-all ' +\n",
       "        'ui-helper-clearfix\"/>');\n",
       "    var titletext = $(\n",
       "        '<div class=\"ui-dialog-title\" style=\"width: 100%; ' +\n",
       "        'text-align: center; padding: 3px;\"/>');\n",
       "    titlebar.append(titletext)\n",
       "    this.root.append(titlebar);\n",
       "    this.header = titletext[0];\n",
       "}\n",
       "\n",
       "\n",
       "\n",
       "mpl.figure.prototype._canvas_extra_style = function(canvas_div) {\n",
       "\n",
       "}\n",
       "\n",
       "\n",
       "mpl.figure.prototype._root_extra_style = function(canvas_div) {\n",
       "\n",
       "}\n",
       "\n",
       "mpl.figure.prototype._init_canvas = function() {\n",
       "    var fig = this;\n",
       "\n",
       "    var canvas_div = $('<div/>');\n",
       "\n",
       "    canvas_div.attr('style', 'position: relative; clear: both; outline: 0');\n",
       "\n",
       "    function canvas_keyboard_event(event) {\n",
       "        return fig.key_event(event, event['data']);\n",
       "    }\n",
       "\n",
       "    canvas_div.keydown('key_press', canvas_keyboard_event);\n",
       "    canvas_div.keyup('key_release', canvas_keyboard_event);\n",
       "    this.canvas_div = canvas_div\n",
       "    this._canvas_extra_style(canvas_div)\n",
       "    this.root.append(canvas_div);\n",
       "\n",
       "    var canvas = $('<canvas/>');\n",
       "    canvas.addClass('mpl-canvas');\n",
       "    canvas.attr('style', \"left: 0; top: 0; z-index: 0; outline: 0\")\n",
       "\n",
       "    this.canvas = canvas[0];\n",
       "    this.context = canvas[0].getContext(\"2d\");\n",
       "\n",
       "    var backingStore = this.context.backingStorePixelRatio ||\n",
       "\tthis.context.webkitBackingStorePixelRatio ||\n",
       "\tthis.context.mozBackingStorePixelRatio ||\n",
       "\tthis.context.msBackingStorePixelRatio ||\n",
       "\tthis.context.oBackingStorePixelRatio ||\n",
       "\tthis.context.backingStorePixelRatio || 1;\n",
       "\n",
       "    mpl.ratio = (window.devicePixelRatio || 1) / backingStore;\n",
       "\n",
       "    var rubberband = $('<canvas/>');\n",
       "    rubberband.attr('style', \"position: absolute; left: 0; top: 0; z-index: 1;\")\n",
       "\n",
       "    var pass_mouse_events = true;\n",
       "\n",
       "    canvas_div.resizable({\n",
       "        start: function(event, ui) {\n",
       "            pass_mouse_events = false;\n",
       "        },\n",
       "        resize: function(event, ui) {\n",
       "            fig.request_resize(ui.size.width, ui.size.height);\n",
       "        },\n",
       "        stop: function(event, ui) {\n",
       "            pass_mouse_events = true;\n",
       "            fig.request_resize(ui.size.width, ui.size.height);\n",
       "        },\n",
       "    });\n",
       "\n",
       "    function mouse_event_fn(event) {\n",
       "        if (pass_mouse_events)\n",
       "            return fig.mouse_event(event, event['data']);\n",
       "    }\n",
       "\n",
       "    rubberband.mousedown('button_press', mouse_event_fn);\n",
       "    rubberband.mouseup('button_release', mouse_event_fn);\n",
       "    // Throttle sequential mouse events to 1 every 20ms.\n",
       "    rubberband.mousemove('motion_notify', mouse_event_fn);\n",
       "\n",
       "    rubberband.mouseenter('figure_enter', mouse_event_fn);\n",
       "    rubberband.mouseleave('figure_leave', mouse_event_fn);\n",
       "\n",
       "    canvas_div.on(\"wheel\", function (event) {\n",
       "        event = event.originalEvent;\n",
       "        event['data'] = 'scroll'\n",
       "        if (event.deltaY < 0) {\n",
       "            event.step = 1;\n",
       "        } else {\n",
       "            event.step = -1;\n",
       "        }\n",
       "        mouse_event_fn(event);\n",
       "    });\n",
       "\n",
       "    canvas_div.append(canvas);\n",
       "    canvas_div.append(rubberband);\n",
       "\n",
       "    this.rubberband = rubberband;\n",
       "    this.rubberband_canvas = rubberband[0];\n",
       "    this.rubberband_context = rubberband[0].getContext(\"2d\");\n",
       "    this.rubberband_context.strokeStyle = \"#000000\";\n",
       "\n",
       "    this._resize_canvas = function(width, height) {\n",
       "        // Keep the size of the canvas, canvas container, and rubber band\n",
       "        // canvas in synch.\n",
       "        canvas_div.css('width', width)\n",
       "        canvas_div.css('height', height)\n",
       "\n",
       "        canvas.attr('width', width * mpl.ratio);\n",
       "        canvas.attr('height', height * mpl.ratio);\n",
       "        canvas.attr('style', 'width: ' + width + 'px; height: ' + height + 'px;');\n",
       "\n",
       "        rubberband.attr('width', width);\n",
       "        rubberband.attr('height', height);\n",
       "    }\n",
       "\n",
       "    // Set the figure to an initial 600x600px, this will subsequently be updated\n",
       "    // upon first draw.\n",
       "    this._resize_canvas(600, 600);\n",
       "\n",
       "    // Disable right mouse context menu.\n",
       "    $(this.rubberband_canvas).bind(\"contextmenu\",function(e){\n",
       "        return false;\n",
       "    });\n",
       "\n",
       "    function set_focus () {\n",
       "        canvas.focus();\n",
       "        canvas_div.focus();\n",
       "    }\n",
       "\n",
       "    window.setTimeout(set_focus, 100);\n",
       "}\n",
       "\n",
       "mpl.figure.prototype._init_toolbar = function() {\n",
       "    var fig = this;\n",
       "\n",
       "    var nav_element = $('<div/>')\n",
       "    nav_element.attr('style', 'width: 100%');\n",
       "    this.root.append(nav_element);\n",
       "\n",
       "    // Define a callback function for later on.\n",
       "    function toolbar_event(event) {\n",
       "        return fig.toolbar_button_onclick(event['data']);\n",
       "    }\n",
       "    function toolbar_mouse_event(event) {\n",
       "        return fig.toolbar_button_onmouseover(event['data']);\n",
       "    }\n",
       "\n",
       "    for(var toolbar_ind in mpl.toolbar_items) {\n",
       "        var name = mpl.toolbar_items[toolbar_ind][0];\n",
       "        var tooltip = mpl.toolbar_items[toolbar_ind][1];\n",
       "        var image = mpl.toolbar_items[toolbar_ind][2];\n",
       "        var method_name = mpl.toolbar_items[toolbar_ind][3];\n",
       "\n",
       "        if (!name) {\n",
       "            // put a spacer in here.\n",
       "            continue;\n",
       "        }\n",
       "        var button = $('<button/>');\n",
       "        button.addClass('ui-button ui-widget ui-state-default ui-corner-all ' +\n",
       "                        'ui-button-icon-only');\n",
       "        button.attr('role', 'button');\n",
       "        button.attr('aria-disabled', 'false');\n",
       "        button.click(method_name, toolbar_event);\n",
       "        button.mouseover(tooltip, toolbar_mouse_event);\n",
       "\n",
       "        var icon_img = $('<span/>');\n",
       "        icon_img.addClass('ui-button-icon-primary ui-icon');\n",
       "        icon_img.addClass(image);\n",
       "        icon_img.addClass('ui-corner-all');\n",
       "\n",
       "        var tooltip_span = $('<span/>');\n",
       "        tooltip_span.addClass('ui-button-text');\n",
       "        tooltip_span.html(tooltip);\n",
       "\n",
       "        button.append(icon_img);\n",
       "        button.append(tooltip_span);\n",
       "\n",
       "        nav_element.append(button);\n",
       "    }\n",
       "\n",
       "    var fmt_picker_span = $('<span/>');\n",
       "\n",
       "    var fmt_picker = $('<select/>');\n",
       "    fmt_picker.addClass('mpl-toolbar-option ui-widget ui-widget-content');\n",
       "    fmt_picker_span.append(fmt_picker);\n",
       "    nav_element.append(fmt_picker_span);\n",
       "    this.format_dropdown = fmt_picker[0];\n",
       "\n",
       "    for (var ind in mpl.extensions) {\n",
       "        var fmt = mpl.extensions[ind];\n",
       "        var option = $(\n",
       "            '<option/>', {selected: fmt === mpl.default_extension}).html(fmt);\n",
       "        fmt_picker.append(option)\n",
       "    }\n",
       "\n",
       "    // Add hover states to the ui-buttons\n",
       "    $( \".ui-button\" ).hover(\n",
       "        function() { $(this).addClass(\"ui-state-hover\");},\n",
       "        function() { $(this).removeClass(\"ui-state-hover\");}\n",
       "    );\n",
       "\n",
       "    var status_bar = $('<span class=\"mpl-message\"/>');\n",
       "    nav_element.append(status_bar);\n",
       "    this.message = status_bar[0];\n",
       "}\n",
       "\n",
       "mpl.figure.prototype.request_resize = function(x_pixels, y_pixels) {\n",
       "    // Request matplotlib to resize the figure. Matplotlib will then trigger a resize in the client,\n",
       "    // which will in turn request a refresh of the image.\n",
       "    this.send_message('resize', {'width': x_pixels, 'height': y_pixels});\n",
       "}\n",
       "\n",
       "mpl.figure.prototype.send_message = function(type, properties) {\n",
       "    properties['type'] = type;\n",
       "    properties['figure_id'] = this.id;\n",
       "    this.ws.send(JSON.stringify(properties));\n",
       "}\n",
       "\n",
       "mpl.figure.prototype.send_draw_message = function() {\n",
       "    if (!this.waiting) {\n",
       "        this.waiting = true;\n",
       "        this.ws.send(JSON.stringify({type: \"draw\", figure_id: this.id}));\n",
       "    }\n",
       "}\n",
       "\n",
       "\n",
       "mpl.figure.prototype.handle_save = function(fig, msg) {\n",
       "    var format_dropdown = fig.format_dropdown;\n",
       "    var format = format_dropdown.options[format_dropdown.selectedIndex].value;\n",
       "    fig.ondownload(fig, format);\n",
       "}\n",
       "\n",
       "\n",
       "mpl.figure.prototype.handle_resize = function(fig, msg) {\n",
       "    var size = msg['size'];\n",
       "    if (size[0] != fig.canvas.width || size[1] != fig.canvas.height) {\n",
       "        fig._resize_canvas(size[0], size[1]);\n",
       "        fig.send_message(\"refresh\", {});\n",
       "    };\n",
       "}\n",
       "\n",
       "mpl.figure.prototype.handle_rubberband = function(fig, msg) {\n",
       "    var x0 = msg['x0'] / mpl.ratio;\n",
       "    var y0 = (fig.canvas.height - msg['y0']) / mpl.ratio;\n",
       "    var x1 = msg['x1'] / mpl.ratio;\n",
       "    var y1 = (fig.canvas.height - msg['y1']) / mpl.ratio;\n",
       "    x0 = Math.floor(x0) + 0.5;\n",
       "    y0 = Math.floor(y0) + 0.5;\n",
       "    x1 = Math.floor(x1) + 0.5;\n",
       "    y1 = Math.floor(y1) + 0.5;\n",
       "    var min_x = Math.min(x0, x1);\n",
       "    var min_y = Math.min(y0, y1);\n",
       "    var width = Math.abs(x1 - x0);\n",
       "    var height = Math.abs(y1 - y0);\n",
       "\n",
       "    fig.rubberband_context.clearRect(\n",
       "        0, 0, fig.canvas.width, fig.canvas.height);\n",
       "\n",
       "    fig.rubberband_context.strokeRect(min_x, min_y, width, height);\n",
       "}\n",
       "\n",
       "mpl.figure.prototype.handle_figure_label = function(fig, msg) {\n",
       "    // Updates the figure title.\n",
       "    fig.header.textContent = msg['label'];\n",
       "}\n",
       "\n",
       "mpl.figure.prototype.handle_cursor = function(fig, msg) {\n",
       "    var cursor = msg['cursor'];\n",
       "    switch(cursor)\n",
       "    {\n",
       "    case 0:\n",
       "        cursor = 'pointer';\n",
       "        break;\n",
       "    case 1:\n",
       "        cursor = 'default';\n",
       "        break;\n",
       "    case 2:\n",
       "        cursor = 'crosshair';\n",
       "        break;\n",
       "    case 3:\n",
       "        cursor = 'move';\n",
       "        break;\n",
       "    }\n",
       "    fig.rubberband_canvas.style.cursor = cursor;\n",
       "}\n",
       "\n",
       "mpl.figure.prototype.handle_message = function(fig, msg) {\n",
       "    fig.message.textContent = msg['message'];\n",
       "}\n",
       "\n",
       "mpl.figure.prototype.handle_draw = function(fig, msg) {\n",
       "    // Request the server to send over a new figure.\n",
       "    fig.send_draw_message();\n",
       "}\n",
       "\n",
       "mpl.figure.prototype.handle_image_mode = function(fig, msg) {\n",
       "    fig.image_mode = msg['mode'];\n",
       "}\n",
       "\n",
       "mpl.figure.prototype.updated_canvas_event = function() {\n",
       "    // Called whenever the canvas gets updated.\n",
       "    this.send_message(\"ack\", {});\n",
       "}\n",
       "\n",
       "// A function to construct a web socket function for onmessage handling.\n",
       "// Called in the figure constructor.\n",
       "mpl.figure.prototype._make_on_message_function = function(fig) {\n",
       "    return function socket_on_message(evt) {\n",
       "        if (evt.data instanceof Blob) {\n",
       "            /* FIXME: We get \"Resource interpreted as Image but\n",
       "             * transferred with MIME type text/plain:\" errors on\n",
       "             * Chrome.  But how to set the MIME type?  It doesn't seem\n",
       "             * to be part of the websocket stream */\n",
       "            evt.data.type = \"image/png\";\n",
       "\n",
       "            /* Free the memory for the previous frames */\n",
       "            if (fig.imageObj.src) {\n",
       "                (window.URL || window.webkitURL).revokeObjectURL(\n",
       "                    fig.imageObj.src);\n",
       "            }\n",
       "\n",
       "            fig.imageObj.src = (window.URL || window.webkitURL).createObjectURL(\n",
       "                evt.data);\n",
       "            fig.updated_canvas_event();\n",
       "            fig.waiting = false;\n",
       "            return;\n",
       "        }\n",
       "        else if (typeof evt.data === 'string' && evt.data.slice(0, 21) == \"data:image/png;base64\") {\n",
       "            fig.imageObj.src = evt.data;\n",
       "            fig.updated_canvas_event();\n",
       "            fig.waiting = false;\n",
       "            return;\n",
       "        }\n",
       "\n",
       "        var msg = JSON.parse(evt.data);\n",
       "        var msg_type = msg['type'];\n",
       "\n",
       "        // Call the  \"handle_{type}\" callback, which takes\n",
       "        // the figure and JSON message as its only arguments.\n",
       "        try {\n",
       "            var callback = fig[\"handle_\" + msg_type];\n",
       "        } catch (e) {\n",
       "            console.log(\"No handler for the '\" + msg_type + \"' message type: \", msg);\n",
       "            return;\n",
       "        }\n",
       "\n",
       "        if (callback) {\n",
       "            try {\n",
       "                // console.log(\"Handling '\" + msg_type + \"' message: \", msg);\n",
       "                callback(fig, msg);\n",
       "            } catch (e) {\n",
       "                console.log(\"Exception inside the 'handler_\" + msg_type + \"' callback:\", e, e.stack, msg);\n",
       "            }\n",
       "        }\n",
       "    };\n",
       "}\n",
       "\n",
       "// from http://stackoverflow.com/questions/1114465/getting-mouse-location-in-canvas\n",
       "mpl.findpos = function(e) {\n",
       "    //this section is from http://www.quirksmode.org/js/events_properties.html\n",
       "    var targ;\n",
       "    if (!e)\n",
       "        e = window.event;\n",
       "    if (e.target)\n",
       "        targ = e.target;\n",
       "    else if (e.srcElement)\n",
       "        targ = e.srcElement;\n",
       "    if (targ.nodeType == 3) // defeat Safari bug\n",
       "        targ = targ.parentNode;\n",
       "\n",
       "    // jQuery normalizes the pageX and pageY\n",
       "    // pageX,Y are the mouse positions relative to the document\n",
       "    // offset() returns the position of the element relative to the document\n",
       "    var x = e.pageX - $(targ).offset().left;\n",
       "    var y = e.pageY - $(targ).offset().top;\n",
       "\n",
       "    return {\"x\": x, \"y\": y};\n",
       "};\n",
       "\n",
       "/*\n",
       " * return a copy of an object with only non-object keys\n",
       " * we need this to avoid circular references\n",
       " * http://stackoverflow.com/a/24161582/3208463\n",
       " */\n",
       "function simpleKeys (original) {\n",
       "  return Object.keys(original).reduce(function (obj, key) {\n",
       "    if (typeof original[key] !== 'object')\n",
       "        obj[key] = original[key]\n",
       "    return obj;\n",
       "  }, {});\n",
       "}\n",
       "\n",
       "mpl.figure.prototype.mouse_event = function(event, name) {\n",
       "    var canvas_pos = mpl.findpos(event)\n",
       "\n",
       "    if (name === 'button_press')\n",
       "    {\n",
       "        this.canvas.focus();\n",
       "        this.canvas_div.focus();\n",
       "    }\n",
       "\n",
       "    var x = canvas_pos.x * mpl.ratio;\n",
       "    var y = canvas_pos.y * mpl.ratio;\n",
       "\n",
       "    this.send_message(name, {x: x, y: y, button: event.button,\n",
       "                             step: event.step,\n",
       "                             guiEvent: simpleKeys(event)});\n",
       "\n",
       "    /* This prevents the web browser from automatically changing to\n",
       "     * the text insertion cursor when the button is pressed.  We want\n",
       "     * to control all of the cursor setting manually through the\n",
       "     * 'cursor' event from matplotlib */\n",
       "    event.preventDefault();\n",
       "    return false;\n",
       "}\n",
       "\n",
       "mpl.figure.prototype._key_event_extra = function(event, name) {\n",
       "    // Handle any extra behaviour associated with a key event\n",
       "}\n",
       "\n",
       "mpl.figure.prototype.key_event = function(event, name) {\n",
       "\n",
       "    // Prevent repeat events\n",
       "    if (name == 'key_press')\n",
       "    {\n",
       "        if (event.which === this._key)\n",
       "            return;\n",
       "        else\n",
       "            this._key = event.which;\n",
       "    }\n",
       "    if (name == 'key_release')\n",
       "        this._key = null;\n",
       "\n",
       "    var value = '';\n",
       "    if (event.ctrlKey && event.which != 17)\n",
       "        value += \"ctrl+\";\n",
       "    if (event.altKey && event.which != 18)\n",
       "        value += \"alt+\";\n",
       "    if (event.shiftKey && event.which != 16)\n",
       "        value += \"shift+\";\n",
       "\n",
       "    value += 'k';\n",
       "    value += event.which.toString();\n",
       "\n",
       "    this._key_event_extra(event, name);\n",
       "\n",
       "    this.send_message(name, {key: value,\n",
       "                             guiEvent: simpleKeys(event)});\n",
       "    return false;\n",
       "}\n",
       "\n",
       "mpl.figure.prototype.toolbar_button_onclick = function(name) {\n",
       "    if (name == 'download') {\n",
       "        this.handle_save(this, null);\n",
       "    } else {\n",
       "        this.send_message(\"toolbar_button\", {name: name});\n",
       "    }\n",
       "};\n",
       "\n",
       "mpl.figure.prototype.toolbar_button_onmouseover = function(tooltip) {\n",
       "    this.message.textContent = tooltip;\n",
       "};\n",
       "mpl.toolbar_items = [[\"Home\", \"Reset original view\", \"fa fa-home icon-home\", \"home\"], [\"Back\", \"Back to previous view\", \"fa fa-arrow-left icon-arrow-left\", \"back\"], [\"Forward\", \"Forward to next view\", \"fa fa-arrow-right icon-arrow-right\", \"forward\"], [\"\", \"\", \"\", \"\"], [\"Pan\", \"Pan axes with left mouse, zoom with right\", \"fa fa-arrows icon-move\", \"pan\"], [\"Zoom\", \"Zoom to rectangle\", \"fa fa-square-o icon-check-empty\", \"zoom\"], [\"\", \"\", \"\", \"\"], [\"Download\", \"Download plot\", \"fa fa-floppy-o icon-save\", \"download\"]];\n",
       "\n",
       "mpl.extensions = [\"eps\", \"pdf\", \"png\", \"ps\", \"raw\", \"svg\"];\n",
       "\n",
       "mpl.default_extension = \"png\";var comm_websocket_adapter = function(comm) {\n",
       "    // Create a \"websocket\"-like object which calls the given IPython comm\n",
       "    // object with the appropriate methods. Currently this is a non binary\n",
       "    // socket, so there is still some room for performance tuning.\n",
       "    var ws = {};\n",
       "\n",
       "    ws.close = function() {\n",
       "        comm.close()\n",
       "    };\n",
       "    ws.send = function(m) {\n",
       "        //console.log('sending', m);\n",
       "        comm.send(m);\n",
       "    };\n",
       "    // Register the callback with on_msg.\n",
       "    comm.on_msg(function(msg) {\n",
       "        //console.log('receiving', msg['content']['data'], msg);\n",
       "        // Pass the mpl event to the overridden (by mpl) onmessage function.\n",
       "        ws.onmessage(msg['content']['data'])\n",
       "    });\n",
       "    return ws;\n",
       "}\n",
       "\n",
       "mpl.mpl_figure_comm = function(comm, msg) {\n",
       "    // This is the function which gets called when the mpl process\n",
       "    // starts-up an IPython Comm through the \"matplotlib\" channel.\n",
       "\n",
       "    var id = msg.content.data.id;\n",
       "    // Get hold of the div created by the display call when the Comm\n",
       "    // socket was opened in Python.\n",
       "    var element = $(\"#\" + id);\n",
       "    var ws_proxy = comm_websocket_adapter(comm)\n",
       "\n",
       "    function ondownload(figure, format) {\n",
       "        window.open(figure.imageObj.src);\n",
       "    }\n",
       "\n",
       "    var fig = new mpl.figure(id, ws_proxy,\n",
       "                           ondownload,\n",
       "                           element.get(0));\n",
       "\n",
       "    // Call onopen now - mpl needs it, as it is assuming we've passed it a real\n",
       "    // web socket which is closed, not our websocket->open comm proxy.\n",
       "    ws_proxy.onopen();\n",
       "\n",
       "    fig.parent_element = element.get(0);\n",
       "    fig.cell_info = mpl.find_output_cell(\"<div id='\" + id + \"'></div>\");\n",
       "    if (!fig.cell_info) {\n",
       "        console.error(\"Failed to find cell for figure\", id, fig);\n",
       "        return;\n",
       "    }\n",
       "\n",
       "    var output_index = fig.cell_info[2]\n",
       "    var cell = fig.cell_info[0];\n",
       "\n",
       "};\n",
       "\n",
       "mpl.figure.prototype.handle_close = function(fig, msg) {\n",
       "    var width = fig.canvas.width/mpl.ratio\n",
       "    fig.root.unbind('remove')\n",
       "\n",
       "    // Update the output cell to use the data from the current canvas.\n",
       "    fig.push_to_output();\n",
       "    var dataURL = fig.canvas.toDataURL();\n",
       "    // Re-enable the keyboard manager in IPython - without this line, in FF,\n",
       "    // the notebook keyboard shortcuts fail.\n",
       "    IPython.keyboard_manager.enable()\n",
       "    $(fig.parent_element).html('<img src=\"' + dataURL + '\" width=\"' + width + '\">');\n",
       "    fig.close_ws(fig, msg);\n",
       "}\n",
       "\n",
       "mpl.figure.prototype.close_ws = function(fig, msg){\n",
       "    fig.send_message('closing', msg);\n",
       "    // fig.ws.close()\n",
       "}\n",
       "\n",
       "mpl.figure.prototype.push_to_output = function(remove_interactive) {\n",
       "    // Turn the data on the canvas into data in the output cell.\n",
       "    var width = this.canvas.width/mpl.ratio\n",
       "    var dataURL = this.canvas.toDataURL();\n",
       "    this.cell_info[1]['text/html'] = '<img src=\"' + dataURL + '\" width=\"' + width + '\">';\n",
       "}\n",
       "\n",
       "mpl.figure.prototype.updated_canvas_event = function() {\n",
       "    // Tell IPython that the notebook contents must change.\n",
       "    IPython.notebook.set_dirty(true);\n",
       "    this.send_message(\"ack\", {});\n",
       "    var fig = this;\n",
       "    // Wait a second, then push the new image to the DOM so\n",
       "    // that it is saved nicely (might be nice to debounce this).\n",
       "    setTimeout(function () { fig.push_to_output() }, 1000);\n",
       "}\n",
       "\n",
       "mpl.figure.prototype._init_toolbar = function() {\n",
       "    var fig = this;\n",
       "\n",
       "    var nav_element = $('<div/>')\n",
       "    nav_element.attr('style', 'width: 100%');\n",
       "    this.root.append(nav_element);\n",
       "\n",
       "    // Define a callback function for later on.\n",
       "    function toolbar_event(event) {\n",
       "        return fig.toolbar_button_onclick(event['data']);\n",
       "    }\n",
       "    function toolbar_mouse_event(event) {\n",
       "        return fig.toolbar_button_onmouseover(event['data']);\n",
       "    }\n",
       "\n",
       "    for(var toolbar_ind in mpl.toolbar_items){\n",
       "        var name = mpl.toolbar_items[toolbar_ind][0];\n",
       "        var tooltip = mpl.toolbar_items[toolbar_ind][1];\n",
       "        var image = mpl.toolbar_items[toolbar_ind][2];\n",
       "        var method_name = mpl.toolbar_items[toolbar_ind][3];\n",
       "\n",
       "        if (!name) { continue; };\n",
       "\n",
       "        var button = $('<button class=\"btn btn-default\" href=\"#\" title=\"' + name + '\"><i class=\"fa ' + image + ' fa-lg\"></i></button>');\n",
       "        button.click(method_name, toolbar_event);\n",
       "        button.mouseover(tooltip, toolbar_mouse_event);\n",
       "        nav_element.append(button);\n",
       "    }\n",
       "\n",
       "    // Add the status bar.\n",
       "    var status_bar = $('<span class=\"mpl-message\" style=\"text-align:right; float: right;\"/>');\n",
       "    nav_element.append(status_bar);\n",
       "    this.message = status_bar[0];\n",
       "\n",
       "    // Add the close button to the window.\n",
       "    var buttongrp = $('<div class=\"btn-group inline pull-right\"></div>');\n",
       "    var button = $('<button class=\"btn btn-mini btn-primary\" href=\"#\" title=\"Stop Interaction\"><i class=\"fa fa-power-off icon-remove icon-large\"></i></button>');\n",
       "    button.click(function (evt) { fig.handle_close(fig, {}); } );\n",
       "    button.mouseover('Stop Interaction', toolbar_mouse_event);\n",
       "    buttongrp.append(button);\n",
       "    var titlebar = this.root.find($('.ui-dialog-titlebar'));\n",
       "    titlebar.prepend(buttongrp);\n",
       "}\n",
       "\n",
       "mpl.figure.prototype._root_extra_style = function(el){\n",
       "    var fig = this\n",
       "    el.on(\"remove\", function(){\n",
       "\tfig.close_ws(fig, {});\n",
       "    });\n",
       "}\n",
       "\n",
       "mpl.figure.prototype._canvas_extra_style = function(el){\n",
       "    // this is important to make the div 'focusable\n",
       "    el.attr('tabindex', 0)\n",
       "    // reach out to IPython and tell the keyboard manager to turn it's self\n",
       "    // off when our div gets focus\n",
       "\n",
       "    // location in version 3\n",
       "    if (IPython.notebook.keyboard_manager) {\n",
       "        IPython.notebook.keyboard_manager.register_events(el);\n",
       "    }\n",
       "    else {\n",
       "        // location in version 2\n",
       "        IPython.keyboard_manager.register_events(el);\n",
       "    }\n",
       "\n",
       "}\n",
       "\n",
       "mpl.figure.prototype._key_event_extra = function(event, name) {\n",
       "    var manager = IPython.notebook.keyboard_manager;\n",
       "    if (!manager)\n",
       "        manager = IPython.keyboard_manager;\n",
       "\n",
       "    // Check for shift+enter\n",
       "    if (event.shiftKey && event.which == 13) {\n",
       "        this.canvas_div.blur();\n",
       "        event.shiftKey = false;\n",
       "        // Send a \"J\" for go to next cell\n",
       "        event.which = 74;\n",
       "        event.keyCode = 74;\n",
       "        manager.command_mode();\n",
       "        manager.handle_keydown(event);\n",
       "    }\n",
       "}\n",
       "\n",
       "mpl.figure.prototype.handle_save = function(fig, msg) {\n",
       "    fig.ondownload(fig, null);\n",
       "}\n",
       "\n",
       "\n",
       "mpl.find_output_cell = function(html_output) {\n",
       "    // Return the cell and output element which can be found *uniquely* in the notebook.\n",
       "    // Note - this is a bit hacky, but it is done because the \"notebook_saving.Notebook\"\n",
       "    // IPython event is triggered only after the cells have been serialised, which for\n",
       "    // our purposes (turning an active figure into a static one), is too late.\n",
       "    var cells = IPython.notebook.get_cells();\n",
       "    var ncells = cells.length;\n",
       "    for (var i=0; i<ncells; i++) {\n",
       "        var cell = cells[i];\n",
       "        if (cell.cell_type === 'code'){\n",
       "            for (var j=0; j<cell.output_area.outputs.length; j++) {\n",
       "                var data = cell.output_area.outputs[j];\n",
       "                if (data.data) {\n",
       "                    // IPython >= 3 moved mimebundle to data attribute of output\n",
       "                    data = data.data;\n",
       "                }\n",
       "                if (data['text/html'] == html_output) {\n",
       "                    return [cell, data, j];\n",
       "                }\n",
       "            }\n",
       "        }\n",
       "    }\n",
       "}\n",
       "\n",
       "// Register the function which deals with the matplotlib target/channel.\n",
       "// The kernel may be null if the page has been refreshed.\n",
       "if (IPython.notebook.kernel != null) {\n",
       "    IPython.notebook.kernel.comm_manager.register_target('matplotlib', mpl.mpl_figure_comm);\n",
       "}\n"
      ],
      "text/plain": [
       "<IPython.core.display.Javascript object>"
      ]
     },
     "metadata": {},
     "output_type": "display_data"
    },
    {
     "data": {
      "text/html": [
       "<img src=\"data:image/png;base64,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\" width=\"640\">"
      ],
      "text/plain": [
       "<IPython.core.display.HTML object>"
      ]
     },
     "metadata": {},
     "output_type": "display_data"
    },
    {
     "name": "stdout",
     "output_type": "stream",
     "text": [
      "k = 2\n",
      "2nd k = 3\n"
     ]
    }
   ],
   "source": [
    "# Plot data\n",
    "plt.figure()\n",
    "plt.errorbar(range(2,len(gaps)+2), gaps_original, yerr=error)\n",
    "plt.show()\n",
    "\n",
    "# Get best k\n",
    "print(\"k = %d\" % gap_k)\n",
    "print(\"2nd k = %d\" % gap_k2)"
   ]
  },
  {
   "cell_type": "code",
   "execution_count": 65,
   "metadata": {},
   "outputs": [
    {
     "data": {
      "application/javascript": [
       "/* Put everything inside the global mpl namespace */\n",
       "window.mpl = {};\n",
       "\n",
       "\n",
       "mpl.get_websocket_type = function() {\n",
       "    if (typeof(WebSocket) !== 'undefined') {\n",
       "        return WebSocket;\n",
       "    } else if (typeof(MozWebSocket) !== 'undefined') {\n",
       "        return MozWebSocket;\n",
       "    } else {\n",
       "        alert('Your browser does not have WebSocket support.' +\n",
       "              'Please try Chrome, Safari or Firefox ≥ 6. ' +\n",
       "              'Firefox 4 and 5 are also supported but you ' +\n",
       "              'have to enable WebSockets in about:config.');\n",
       "    };\n",
       "}\n",
       "\n",
       "mpl.figure = function(figure_id, websocket, ondownload, parent_element) {\n",
       "    this.id = figure_id;\n",
       "\n",
       "    this.ws = websocket;\n",
       "\n",
       "    this.supports_binary = (this.ws.binaryType != undefined);\n",
       "\n",
       "    if (!this.supports_binary) {\n",
       "        var warnings = document.getElementById(\"mpl-warnings\");\n",
       "        if (warnings) {\n",
       "            warnings.style.display = 'block';\n",
       "            warnings.textContent = (\n",
       "                \"This browser does not support binary websocket messages. \" +\n",
       "                    \"Performance may be slow.\");\n",
       "        }\n",
       "    }\n",
       "\n",
       "    this.imageObj = new Image();\n",
       "\n",
       "    this.context = undefined;\n",
       "    this.message = undefined;\n",
       "    this.canvas = undefined;\n",
       "    this.rubberband_canvas = undefined;\n",
       "    this.rubberband_context = undefined;\n",
       "    this.format_dropdown = undefined;\n",
       "\n",
       "    this.image_mode = 'full';\n",
       "\n",
       "    this.root = $('<div/>');\n",
       "    this._root_extra_style(this.root)\n",
       "    this.root.attr('style', 'display: inline-block');\n",
       "\n",
       "    $(parent_element).append(this.root);\n",
       "\n",
       "    this._init_header(this);\n",
       "    this._init_canvas(this);\n",
       "    this._init_toolbar(this);\n",
       "\n",
       "    var fig = this;\n",
       "\n",
       "    this.waiting = false;\n",
       "\n",
       "    this.ws.onopen =  function () {\n",
       "            fig.send_message(\"supports_binary\", {value: fig.supports_binary});\n",
       "            fig.send_message(\"send_image_mode\", {});\n",
       "            if (mpl.ratio != 1) {\n",
       "                fig.send_message(\"set_dpi_ratio\", {'dpi_ratio': mpl.ratio});\n",
       "            }\n",
       "            fig.send_message(\"refresh\", {});\n",
       "        }\n",
       "\n",
       "    this.imageObj.onload = function() {\n",
       "            if (fig.image_mode == 'full') {\n",
       "                // Full images could contain transparency (where diff images\n",
       "                // almost always do), so we need to clear the canvas so that\n",
       "                // there is no ghosting.\n",
       "                fig.context.clearRect(0, 0, fig.canvas.width, fig.canvas.height);\n",
       "            }\n",
       "            fig.context.drawImage(fig.imageObj, 0, 0);\n",
       "        };\n",
       "\n",
       "    this.imageObj.onunload = function() {\n",
       "        fig.ws.close();\n",
       "    }\n",
       "\n",
       "    this.ws.onmessage = this._make_on_message_function(this);\n",
       "\n",
       "    this.ondownload = ondownload;\n",
       "}\n",
       "\n",
       "mpl.figure.prototype._init_header = function() {\n",
       "    var titlebar = $(\n",
       "        '<div class=\"ui-dialog-titlebar ui-widget-header ui-corner-all ' +\n",
       "        'ui-helper-clearfix\"/>');\n",
       "    var titletext = $(\n",
       "        '<div class=\"ui-dialog-title\" style=\"width: 100%; ' +\n",
       "        'text-align: center; padding: 3px;\"/>');\n",
       "    titlebar.append(titletext)\n",
       "    this.root.append(titlebar);\n",
       "    this.header = titletext[0];\n",
       "}\n",
       "\n",
       "\n",
       "\n",
       "mpl.figure.prototype._canvas_extra_style = function(canvas_div) {\n",
       "\n",
       "}\n",
       "\n",
       "\n",
       "mpl.figure.prototype._root_extra_style = function(canvas_div) {\n",
       "\n",
       "}\n",
       "\n",
       "mpl.figure.prototype._init_canvas = function() {\n",
       "    var fig = this;\n",
       "\n",
       "    var canvas_div = $('<div/>');\n",
       "\n",
       "    canvas_div.attr('style', 'position: relative; clear: both; outline: 0');\n",
       "\n",
       "    function canvas_keyboard_event(event) {\n",
       "        return fig.key_event(event, event['data']);\n",
       "    }\n",
       "\n",
       "    canvas_div.keydown('key_press', canvas_keyboard_event);\n",
       "    canvas_div.keyup('key_release', canvas_keyboard_event);\n",
       "    this.canvas_div = canvas_div\n",
       "    this._canvas_extra_style(canvas_div)\n",
       "    this.root.append(canvas_div);\n",
       "\n",
       "    var canvas = $('<canvas/>');\n",
       "    canvas.addClass('mpl-canvas');\n",
       "    canvas.attr('style', \"left: 0; top: 0; z-index: 0; outline: 0\")\n",
       "\n",
       "    this.canvas = canvas[0];\n",
       "    this.context = canvas[0].getContext(\"2d\");\n",
       "\n",
       "    var backingStore = this.context.backingStorePixelRatio ||\n",
       "\tthis.context.webkitBackingStorePixelRatio ||\n",
       "\tthis.context.mozBackingStorePixelRatio ||\n",
       "\tthis.context.msBackingStorePixelRatio ||\n",
       "\tthis.context.oBackingStorePixelRatio ||\n",
       "\tthis.context.backingStorePixelRatio || 1;\n",
       "\n",
       "    mpl.ratio = (window.devicePixelRatio || 1) / backingStore;\n",
       "\n",
       "    var rubberband = $('<canvas/>');\n",
       "    rubberband.attr('style', \"position: absolute; left: 0; top: 0; z-index: 1;\")\n",
       "\n",
       "    var pass_mouse_events = true;\n",
       "\n",
       "    canvas_div.resizable({\n",
       "        start: function(event, ui) {\n",
       "            pass_mouse_events = false;\n",
       "        },\n",
       "        resize: function(event, ui) {\n",
       "            fig.request_resize(ui.size.width, ui.size.height);\n",
       "        },\n",
       "        stop: function(event, ui) {\n",
       "            pass_mouse_events = true;\n",
       "            fig.request_resize(ui.size.width, ui.size.height);\n",
       "        },\n",
       "    });\n",
       "\n",
       "    function mouse_event_fn(event) {\n",
       "        if (pass_mouse_events)\n",
       "            return fig.mouse_event(event, event['data']);\n",
       "    }\n",
       "\n",
       "    rubberband.mousedown('button_press', mouse_event_fn);\n",
       "    rubberband.mouseup('button_release', mouse_event_fn);\n",
       "    // Throttle sequential mouse events to 1 every 20ms.\n",
       "    rubberband.mousemove('motion_notify', mouse_event_fn);\n",
       "\n",
       "    rubberband.mouseenter('figure_enter', mouse_event_fn);\n",
       "    rubberband.mouseleave('figure_leave', mouse_event_fn);\n",
       "\n",
       "    canvas_div.on(\"wheel\", function (event) {\n",
       "        event = event.originalEvent;\n",
       "        event['data'] = 'scroll'\n",
       "        if (event.deltaY < 0) {\n",
       "            event.step = 1;\n",
       "        } else {\n",
       "            event.step = -1;\n",
       "        }\n",
       "        mouse_event_fn(event);\n",
       "    });\n",
       "\n",
       "    canvas_div.append(canvas);\n",
       "    canvas_div.append(rubberband);\n",
       "\n",
       "    this.rubberband = rubberband;\n",
       "    this.rubberband_canvas = rubberband[0];\n",
       "    this.rubberband_context = rubberband[0].getContext(\"2d\");\n",
       "    this.rubberband_context.strokeStyle = \"#000000\";\n",
       "\n",
       "    this._resize_canvas = function(width, height) {\n",
       "        // Keep the size of the canvas, canvas container, and rubber band\n",
       "        // canvas in synch.\n",
       "        canvas_div.css('width', width)\n",
       "        canvas_div.css('height', height)\n",
       "\n",
       "        canvas.attr('width', width * mpl.ratio);\n",
       "        canvas.attr('height', height * mpl.ratio);\n",
       "        canvas.attr('style', 'width: ' + width + 'px; height: ' + height + 'px;');\n",
       "\n",
       "        rubberband.attr('width', width);\n",
       "        rubberband.attr('height', height);\n",
       "    }\n",
       "\n",
       "    // Set the figure to an initial 600x600px, this will subsequently be updated\n",
       "    // upon first draw.\n",
       "    this._resize_canvas(600, 600);\n",
       "\n",
       "    // Disable right mouse context menu.\n",
       "    $(this.rubberband_canvas).bind(\"contextmenu\",function(e){\n",
       "        return false;\n",
       "    });\n",
       "\n",
       "    function set_focus () {\n",
       "        canvas.focus();\n",
       "        canvas_div.focus();\n",
       "    }\n",
       "\n",
       "    window.setTimeout(set_focus, 100);\n",
       "}\n",
       "\n",
       "mpl.figure.prototype._init_toolbar = function() {\n",
       "    var fig = this;\n",
       "\n",
       "    var nav_element = $('<div/>')\n",
       "    nav_element.attr('style', 'width: 100%');\n",
       "    this.root.append(nav_element);\n",
       "\n",
       "    // Define a callback function for later on.\n",
       "    function toolbar_event(event) {\n",
       "        return fig.toolbar_button_onclick(event['data']);\n",
       "    }\n",
       "    function toolbar_mouse_event(event) {\n",
       "        return fig.toolbar_button_onmouseover(event['data']);\n",
       "    }\n",
       "\n",
       "    for(var toolbar_ind in mpl.toolbar_items) {\n",
       "        var name = mpl.toolbar_items[toolbar_ind][0];\n",
       "        var tooltip = mpl.toolbar_items[toolbar_ind][1];\n",
       "        var image = mpl.toolbar_items[toolbar_ind][2];\n",
       "        var method_name = mpl.toolbar_items[toolbar_ind][3];\n",
       "\n",
       "        if (!name) {\n",
       "            // put a spacer in here.\n",
       "            continue;\n",
       "        }\n",
       "        var button = $('<button/>');\n",
       "        button.addClass('ui-button ui-widget ui-state-default ui-corner-all ' +\n",
       "                        'ui-button-icon-only');\n",
       "        button.attr('role', 'button');\n",
       "        button.attr('aria-disabled', 'false');\n",
       "        button.click(method_name, toolbar_event);\n",
       "        button.mouseover(tooltip, toolbar_mouse_event);\n",
       "\n",
       "        var icon_img = $('<span/>');\n",
       "        icon_img.addClass('ui-button-icon-primary ui-icon');\n",
       "        icon_img.addClass(image);\n",
       "        icon_img.addClass('ui-corner-all');\n",
       "\n",
       "        var tooltip_span = $('<span/>');\n",
       "        tooltip_span.addClass('ui-button-text');\n",
       "        tooltip_span.html(tooltip);\n",
       "\n",
       "        button.append(icon_img);\n",
       "        button.append(tooltip_span);\n",
       "\n",
       "        nav_element.append(button);\n",
       "    }\n",
       "\n",
       "    var fmt_picker_span = $('<span/>');\n",
       "\n",
       "    var fmt_picker = $('<select/>');\n",
       "    fmt_picker.addClass('mpl-toolbar-option ui-widget ui-widget-content');\n",
       "    fmt_picker_span.append(fmt_picker);\n",
       "    nav_element.append(fmt_picker_span);\n",
       "    this.format_dropdown = fmt_picker[0];\n",
       "\n",
       "    for (var ind in mpl.extensions) {\n",
       "        var fmt = mpl.extensions[ind];\n",
       "        var option = $(\n",
       "            '<option/>', {selected: fmt === mpl.default_extension}).html(fmt);\n",
       "        fmt_picker.append(option)\n",
       "    }\n",
       "\n",
       "    // Add hover states to the ui-buttons\n",
       "    $( \".ui-button\" ).hover(\n",
       "        function() { $(this).addClass(\"ui-state-hover\");},\n",
       "        function() { $(this).removeClass(\"ui-state-hover\");}\n",
       "    );\n",
       "\n",
       "    var status_bar = $('<span class=\"mpl-message\"/>');\n",
       "    nav_element.append(status_bar);\n",
       "    this.message = status_bar[0];\n",
       "}\n",
       "\n",
       "mpl.figure.prototype.request_resize = function(x_pixels, y_pixels) {\n",
       "    // Request matplotlib to resize the figure. Matplotlib will then trigger a resize in the client,\n",
       "    // which will in turn request a refresh of the image.\n",
       "    this.send_message('resize', {'width': x_pixels, 'height': y_pixels});\n",
       "}\n",
       "\n",
       "mpl.figure.prototype.send_message = function(type, properties) {\n",
       "    properties['type'] = type;\n",
       "    properties['figure_id'] = this.id;\n",
       "    this.ws.send(JSON.stringify(properties));\n",
       "}\n",
       "\n",
       "mpl.figure.prototype.send_draw_message = function() {\n",
       "    if (!this.waiting) {\n",
       "        this.waiting = true;\n",
       "        this.ws.send(JSON.stringify({type: \"draw\", figure_id: this.id}));\n",
       "    }\n",
       "}\n",
       "\n",
       "\n",
       "mpl.figure.prototype.handle_save = function(fig, msg) {\n",
       "    var format_dropdown = fig.format_dropdown;\n",
       "    var format = format_dropdown.options[format_dropdown.selectedIndex].value;\n",
       "    fig.ondownload(fig, format);\n",
       "}\n",
       "\n",
       "\n",
       "mpl.figure.prototype.handle_resize = function(fig, msg) {\n",
       "    var size = msg['size'];\n",
       "    if (size[0] != fig.canvas.width || size[1] != fig.canvas.height) {\n",
       "        fig._resize_canvas(size[0], size[1]);\n",
       "        fig.send_message(\"refresh\", {});\n",
       "    };\n",
       "}\n",
       "\n",
       "mpl.figure.prototype.handle_rubberband = function(fig, msg) {\n",
       "    var x0 = msg['x0'] / mpl.ratio;\n",
       "    var y0 = (fig.canvas.height - msg['y0']) / mpl.ratio;\n",
       "    var x1 = msg['x1'] / mpl.ratio;\n",
       "    var y1 = (fig.canvas.height - msg['y1']) / mpl.ratio;\n",
       "    x0 = Math.floor(x0) + 0.5;\n",
       "    y0 = Math.floor(y0) + 0.5;\n",
       "    x1 = Math.floor(x1) + 0.5;\n",
       "    y1 = Math.floor(y1) + 0.5;\n",
       "    var min_x = Math.min(x0, x1);\n",
       "    var min_y = Math.min(y0, y1);\n",
       "    var width = Math.abs(x1 - x0);\n",
       "    var height = Math.abs(y1 - y0);\n",
       "\n",
       "    fig.rubberband_context.clearRect(\n",
       "        0, 0, fig.canvas.width, fig.canvas.height);\n",
       "\n",
       "    fig.rubberband_context.strokeRect(min_x, min_y, width, height);\n",
       "}\n",
       "\n",
       "mpl.figure.prototype.handle_figure_label = function(fig, msg) {\n",
       "    // Updates the figure title.\n",
       "    fig.header.textContent = msg['label'];\n",
       "}\n",
       "\n",
       "mpl.figure.prototype.handle_cursor = function(fig, msg) {\n",
       "    var cursor = msg['cursor'];\n",
       "    switch(cursor)\n",
       "    {\n",
       "    case 0:\n",
       "        cursor = 'pointer';\n",
       "        break;\n",
       "    case 1:\n",
       "        cursor = 'default';\n",
       "        break;\n",
       "    case 2:\n",
       "        cursor = 'crosshair';\n",
       "        break;\n",
       "    case 3:\n",
       "        cursor = 'move';\n",
       "        break;\n",
       "    }\n",
       "    fig.rubberband_canvas.style.cursor = cursor;\n",
       "}\n",
       "\n",
       "mpl.figure.prototype.handle_message = function(fig, msg) {\n",
       "    fig.message.textContent = msg['message'];\n",
       "}\n",
       "\n",
       "mpl.figure.prototype.handle_draw = function(fig, msg) {\n",
       "    // Request the server to send over a new figure.\n",
       "    fig.send_draw_message();\n",
       "}\n",
       "\n",
       "mpl.figure.prototype.handle_image_mode = function(fig, msg) {\n",
       "    fig.image_mode = msg['mode'];\n",
       "}\n",
       "\n",
       "mpl.figure.prototype.updated_canvas_event = function() {\n",
       "    // Called whenever the canvas gets updated.\n",
       "    this.send_message(\"ack\", {});\n",
       "}\n",
       "\n",
       "// A function to construct a web socket function for onmessage handling.\n",
       "// Called in the figure constructor.\n",
       "mpl.figure.prototype._make_on_message_function = function(fig) {\n",
       "    return function socket_on_message(evt) {\n",
       "        if (evt.data instanceof Blob) {\n",
       "            /* FIXME: We get \"Resource interpreted as Image but\n",
       "             * transferred with MIME type text/plain:\" errors on\n",
       "             * Chrome.  But how to set the MIME type?  It doesn't seem\n",
       "             * to be part of the websocket stream */\n",
       "            evt.data.type = \"image/png\";\n",
       "\n",
       "            /* Free the memory for the previous frames */\n",
       "            if (fig.imageObj.src) {\n",
       "                (window.URL || window.webkitURL).revokeObjectURL(\n",
       "                    fig.imageObj.src);\n",
       "            }\n",
       "\n",
       "            fig.imageObj.src = (window.URL || window.webkitURL).createObjectURL(\n",
       "                evt.data);\n",
       "            fig.updated_canvas_event();\n",
       "            fig.waiting = false;\n",
       "            return;\n",
       "        }\n",
       "        else if (typeof evt.data === 'string' && evt.data.slice(0, 21) == \"data:image/png;base64\") {\n",
       "            fig.imageObj.src = evt.data;\n",
       "            fig.updated_canvas_event();\n",
       "            fig.waiting = false;\n",
       "            return;\n",
       "        }\n",
       "\n",
       "        var msg = JSON.parse(evt.data);\n",
       "        var msg_type = msg['type'];\n",
       "\n",
       "        // Call the  \"handle_{type}\" callback, which takes\n",
       "        // the figure and JSON message as its only arguments.\n",
       "        try {\n",
       "            var callback = fig[\"handle_\" + msg_type];\n",
       "        } catch (e) {\n",
       "            console.log(\"No handler for the '\" + msg_type + \"' message type: \", msg);\n",
       "            return;\n",
       "        }\n",
       "\n",
       "        if (callback) {\n",
       "            try {\n",
       "                // console.log(\"Handling '\" + msg_type + \"' message: \", msg);\n",
       "                callback(fig, msg);\n",
       "            } catch (e) {\n",
       "                console.log(\"Exception inside the 'handler_\" + msg_type + \"' callback:\", e, e.stack, msg);\n",
       "            }\n",
       "        }\n",
       "    };\n",
       "}\n",
       "\n",
       "// from http://stackoverflow.com/questions/1114465/getting-mouse-location-in-canvas\n",
       "mpl.findpos = function(e) {\n",
       "    //this section is from http://www.quirksmode.org/js/events_properties.html\n",
       "    var targ;\n",
       "    if (!e)\n",
       "        e = window.event;\n",
       "    if (e.target)\n",
       "        targ = e.target;\n",
       "    else if (e.srcElement)\n",
       "        targ = e.srcElement;\n",
       "    if (targ.nodeType == 3) // defeat Safari bug\n",
       "        targ = targ.parentNode;\n",
       "\n",
       "    // jQuery normalizes the pageX and pageY\n",
       "    // pageX,Y are the mouse positions relative to the document\n",
       "    // offset() returns the position of the element relative to the document\n",
       "    var x = e.pageX - $(targ).offset().left;\n",
       "    var y = e.pageY - $(targ).offset().top;\n",
       "\n",
       "    return {\"x\": x, \"y\": y};\n",
       "};\n",
       "\n",
       "/*\n",
       " * return a copy of an object with only non-object keys\n",
       " * we need this to avoid circular references\n",
       " * http://stackoverflow.com/a/24161582/3208463\n",
       " */\n",
       "function simpleKeys (original) {\n",
       "  return Object.keys(original).reduce(function (obj, key) {\n",
       "    if (typeof original[key] !== 'object')\n",
       "        obj[key] = original[key]\n",
       "    return obj;\n",
       "  }, {});\n",
       "}\n",
       "\n",
       "mpl.figure.prototype.mouse_event = function(event, name) {\n",
       "    var canvas_pos = mpl.findpos(event)\n",
       "\n",
       "    if (name === 'button_press')\n",
       "    {\n",
       "        this.canvas.focus();\n",
       "        this.canvas_div.focus();\n",
       "    }\n",
       "\n",
       "    var x = canvas_pos.x * mpl.ratio;\n",
       "    var y = canvas_pos.y * mpl.ratio;\n",
       "\n",
       "    this.send_message(name, {x: x, y: y, button: event.button,\n",
       "                             step: event.step,\n",
       "                             guiEvent: simpleKeys(event)});\n",
       "\n",
       "    /* This prevents the web browser from automatically changing to\n",
       "     * the text insertion cursor when the button is pressed.  We want\n",
       "     * to control all of the cursor setting manually through the\n",
       "     * 'cursor' event from matplotlib */\n",
       "    event.preventDefault();\n",
       "    return false;\n",
       "}\n",
       "\n",
       "mpl.figure.prototype._key_event_extra = function(event, name) {\n",
       "    // Handle any extra behaviour associated with a key event\n",
       "}\n",
       "\n",
       "mpl.figure.prototype.key_event = function(event, name) {\n",
       "\n",
       "    // Prevent repeat events\n",
       "    if (name == 'key_press')\n",
       "    {\n",
       "        if (event.which === this._key)\n",
       "            return;\n",
       "        else\n",
       "            this._key = event.which;\n",
       "    }\n",
       "    if (name == 'key_release')\n",
       "        this._key = null;\n",
       "\n",
       "    var value = '';\n",
       "    if (event.ctrlKey && event.which != 17)\n",
       "        value += \"ctrl+\";\n",
       "    if (event.altKey && event.which != 18)\n",
       "        value += \"alt+\";\n",
       "    if (event.shiftKey && event.which != 16)\n",
       "        value += \"shift+\";\n",
       "\n",
       "    value += 'k';\n",
       "    value += event.which.toString();\n",
       "\n",
       "    this._key_event_extra(event, name);\n",
       "\n",
       "    this.send_message(name, {key: value,\n",
       "                             guiEvent: simpleKeys(event)});\n",
       "    return false;\n",
       "}\n",
       "\n",
       "mpl.figure.prototype.toolbar_button_onclick = function(name) {\n",
       "    if (name == 'download') {\n",
       "        this.handle_save(this, null);\n",
       "    } else {\n",
       "        this.send_message(\"toolbar_button\", {name: name});\n",
       "    }\n",
       "};\n",
       "\n",
       "mpl.figure.prototype.toolbar_button_onmouseover = function(tooltip) {\n",
       "    this.message.textContent = tooltip;\n",
       "};\n",
       "mpl.toolbar_items = [[\"Home\", \"Reset original view\", \"fa fa-home icon-home\", \"home\"], [\"Back\", \"Back to previous view\", \"fa fa-arrow-left icon-arrow-left\", \"back\"], [\"Forward\", \"Forward to next view\", \"fa fa-arrow-right icon-arrow-right\", \"forward\"], [\"\", \"\", \"\", \"\"], [\"Pan\", \"Pan axes with left mouse, zoom with right\", \"fa fa-arrows icon-move\", \"pan\"], [\"Zoom\", \"Zoom to rectangle\", \"fa fa-square-o icon-check-empty\", \"zoom\"], [\"\", \"\", \"\", \"\"], [\"Download\", \"Download plot\", \"fa fa-floppy-o icon-save\", \"download\"]];\n",
       "\n",
       "mpl.extensions = [\"eps\", \"pdf\", \"png\", \"ps\", \"raw\", \"svg\"];\n",
       "\n",
       "mpl.default_extension = \"png\";var comm_websocket_adapter = function(comm) {\n",
       "    // Create a \"websocket\"-like object which calls the given IPython comm\n",
       "    // object with the appropriate methods. Currently this is a non binary\n",
       "    // socket, so there is still some room for performance tuning.\n",
       "    var ws = {};\n",
       "\n",
       "    ws.close = function() {\n",
       "        comm.close()\n",
       "    };\n",
       "    ws.send = function(m) {\n",
       "        //console.log('sending', m);\n",
       "        comm.send(m);\n",
       "    };\n",
       "    // Register the callback with on_msg.\n",
       "    comm.on_msg(function(msg) {\n",
       "        //console.log('receiving', msg['content']['data'], msg);\n",
       "        // Pass the mpl event to the overridden (by mpl) onmessage function.\n",
       "        ws.onmessage(msg['content']['data'])\n",
       "    });\n",
       "    return ws;\n",
       "}\n",
       "\n",
       "mpl.mpl_figure_comm = function(comm, msg) {\n",
       "    // This is the function which gets called when the mpl process\n",
       "    // starts-up an IPython Comm through the \"matplotlib\" channel.\n",
       "\n",
       "    var id = msg.content.data.id;\n",
       "    // Get hold of the div created by the display call when the Comm\n",
       "    // socket was opened in Python.\n",
       "    var element = $(\"#\" + id);\n",
       "    var ws_proxy = comm_websocket_adapter(comm)\n",
       "\n",
       "    function ondownload(figure, format) {\n",
       "        window.open(figure.imageObj.src);\n",
       "    }\n",
       "\n",
       "    var fig = new mpl.figure(id, ws_proxy,\n",
       "                           ondownload,\n",
       "                           element.get(0));\n",
       "\n",
       "    // Call onopen now - mpl needs it, as it is assuming we've passed it a real\n",
       "    // web socket which is closed, not our websocket->open comm proxy.\n",
       "    ws_proxy.onopen();\n",
       "\n",
       "    fig.parent_element = element.get(0);\n",
       "    fig.cell_info = mpl.find_output_cell(\"<div id='\" + id + \"'></div>\");\n",
       "    if (!fig.cell_info) {\n",
       "        console.error(\"Failed to find cell for figure\", id, fig);\n",
       "        return;\n",
       "    }\n",
       "\n",
       "    var output_index = fig.cell_info[2]\n",
       "    var cell = fig.cell_info[0];\n",
       "\n",
       "};\n",
       "\n",
       "mpl.figure.prototype.handle_close = function(fig, msg) {\n",
       "    var width = fig.canvas.width/mpl.ratio\n",
       "    fig.root.unbind('remove')\n",
       "\n",
       "    // Update the output cell to use the data from the current canvas.\n",
       "    fig.push_to_output();\n",
       "    var dataURL = fig.canvas.toDataURL();\n",
       "    // Re-enable the keyboard manager in IPython - without this line, in FF,\n",
       "    // the notebook keyboard shortcuts fail.\n",
       "    IPython.keyboard_manager.enable()\n",
       "    $(fig.parent_element).html('<img src=\"' + dataURL + '\" width=\"' + width + '\">');\n",
       "    fig.close_ws(fig, msg);\n",
       "}\n",
       "\n",
       "mpl.figure.prototype.close_ws = function(fig, msg){\n",
       "    fig.send_message('closing', msg);\n",
       "    // fig.ws.close()\n",
       "}\n",
       "\n",
       "mpl.figure.prototype.push_to_output = function(remove_interactive) {\n",
       "    // Turn the data on the canvas into data in the output cell.\n",
       "    var width = this.canvas.width/mpl.ratio\n",
       "    var dataURL = this.canvas.toDataURL();\n",
       "    this.cell_info[1]['text/html'] = '<img src=\"' + dataURL + '\" width=\"' + width + '\">';\n",
       "}\n",
       "\n",
       "mpl.figure.prototype.updated_canvas_event = function() {\n",
       "    // Tell IPython that the notebook contents must change.\n",
       "    IPython.notebook.set_dirty(true);\n",
       "    this.send_message(\"ack\", {});\n",
       "    var fig = this;\n",
       "    // Wait a second, then push the new image to the DOM so\n",
       "    // that it is saved nicely (might be nice to debounce this).\n",
       "    setTimeout(function () { fig.push_to_output() }, 1000);\n",
       "}\n",
       "\n",
       "mpl.figure.prototype._init_toolbar = function() {\n",
       "    var fig = this;\n",
       "\n",
       "    var nav_element = $('<div/>')\n",
       "    nav_element.attr('style', 'width: 100%');\n",
       "    this.root.append(nav_element);\n",
       "\n",
       "    // Define a callback function for later on.\n",
       "    function toolbar_event(event) {\n",
       "        return fig.toolbar_button_onclick(event['data']);\n",
       "    }\n",
       "    function toolbar_mouse_event(event) {\n",
       "        return fig.toolbar_button_onmouseover(event['data']);\n",
       "    }\n",
       "\n",
       "    for(var toolbar_ind in mpl.toolbar_items){\n",
       "        var name = mpl.toolbar_items[toolbar_ind][0];\n",
       "        var tooltip = mpl.toolbar_items[toolbar_ind][1];\n",
       "        var image = mpl.toolbar_items[toolbar_ind][2];\n",
       "        var method_name = mpl.toolbar_items[toolbar_ind][3];\n",
       "\n",
       "        if (!name) { continue; };\n",
       "\n",
       "        var button = $('<button class=\"btn btn-default\" href=\"#\" title=\"' + name + '\"><i class=\"fa ' + image + ' fa-lg\"></i></button>');\n",
       "        button.click(method_name, toolbar_event);\n",
       "        button.mouseover(tooltip, toolbar_mouse_event);\n",
       "        nav_element.append(button);\n",
       "    }\n",
       "\n",
       "    // Add the status bar.\n",
       "    var status_bar = $('<span class=\"mpl-message\" style=\"text-align:right; float: right;\"/>');\n",
       "    nav_element.append(status_bar);\n",
       "    this.message = status_bar[0];\n",
       "\n",
       "    // Add the close button to the window.\n",
       "    var buttongrp = $('<div class=\"btn-group inline pull-right\"></div>');\n",
       "    var button = $('<button class=\"btn btn-mini btn-primary\" href=\"#\" title=\"Stop Interaction\"><i class=\"fa fa-power-off icon-remove icon-large\"></i></button>');\n",
       "    button.click(function (evt) { fig.handle_close(fig, {}); } );\n",
       "    button.mouseover('Stop Interaction', toolbar_mouse_event);\n",
       "    buttongrp.append(button);\n",
       "    var titlebar = this.root.find($('.ui-dialog-titlebar'));\n",
       "    titlebar.prepend(buttongrp);\n",
       "}\n",
       "\n",
       "mpl.figure.prototype._root_extra_style = function(el){\n",
       "    var fig = this\n",
       "    el.on(\"remove\", function(){\n",
       "\tfig.close_ws(fig, {});\n",
       "    });\n",
       "}\n",
       "\n",
       "mpl.figure.prototype._canvas_extra_style = function(el){\n",
       "    // this is important to make the div 'focusable\n",
       "    el.attr('tabindex', 0)\n",
       "    // reach out to IPython and tell the keyboard manager to turn it's self\n",
       "    // off when our div gets focus\n",
       "\n",
       "    // location in version 3\n",
       "    if (IPython.notebook.keyboard_manager) {\n",
       "        IPython.notebook.keyboard_manager.register_events(el);\n",
       "    }\n",
       "    else {\n",
       "        // location in version 2\n",
       "        IPython.keyboard_manager.register_events(el);\n",
       "    }\n",
       "\n",
       "}\n",
       "\n",
       "mpl.figure.prototype._key_event_extra = function(event, name) {\n",
       "    var manager = IPython.notebook.keyboard_manager;\n",
       "    if (!manager)\n",
       "        manager = IPython.keyboard_manager;\n",
       "\n",
       "    // Check for shift+enter\n",
       "    if (event.shiftKey && event.which == 13) {\n",
       "        this.canvas_div.blur();\n",
       "        event.shiftKey = false;\n",
       "        // Send a \"J\" for go to next cell\n",
       "        event.which = 74;\n",
       "        event.keyCode = 74;\n",
       "        manager.command_mode();\n",
       "        manager.handle_keydown(event);\n",
       "    }\n",
       "}\n",
       "\n",
       "mpl.figure.prototype.handle_save = function(fig, msg) {\n",
       "    fig.ondownload(fig, null);\n",
       "}\n",
       "\n",
       "\n",
       "mpl.find_output_cell = function(html_output) {\n",
       "    // Return the cell and output element which can be found *uniquely* in the notebook.\n",
       "    // Note - this is a bit hacky, but it is done because the \"notebook_saving.Notebook\"\n",
       "    // IPython event is triggered only after the cells have been serialised, which for\n",
       "    // our purposes (turning an active figure into a static one), is too late.\n",
       "    var cells = IPython.notebook.get_cells();\n",
       "    var ncells = cells.length;\n",
       "    for (var i=0; i<ncells; i++) {\n",
       "        var cell = cells[i];\n",
       "        if (cell.cell_type === 'code'){\n",
       "            for (var j=0; j<cell.output_area.outputs.length; j++) {\n",
       "                var data = cell.output_area.outputs[j];\n",
       "                if (data.data) {\n",
       "                    // IPython >= 3 moved mimebundle to data attribute of output\n",
       "                    data = data.data;\n",
       "                }\n",
       "                if (data['text/html'] == html_output) {\n",
       "                    return [cell, data, j];\n",
       "                }\n",
       "            }\n",
       "        }\n",
       "    }\n",
       "}\n",
       "\n",
       "// Register the function which deals with the matplotlib target/channel.\n",
       "// The kernel may be null if the page has been refreshed.\n",
       "if (IPython.notebook.kernel != null) {\n",
       "    IPython.notebook.kernel.comm_manager.register_target('matplotlib', mpl.mpl_figure_comm);\n",
       "}\n"
      ],
      "text/plain": [
       "<IPython.core.display.Javascript object>"
      ]
     },
     "metadata": {},
     "output_type": "display_data"
    },
    {
     "data": {
      "text/html": [
       "<img src=\"data:image/png;base64,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\" width=\"640\">"
      ],
      "text/plain": [
       "<IPython.core.display.HTML object>"
      ]
     },
     "metadata": {},
     "output_type": "display_data"
    },
    {
     "name": "stdout",
     "output_type": "stream",
     "text": [
      "k = 7\n",
      "2nd k = 9\n"
     ]
    }
   ],
   "source": [
    "# Plot data\n",
    "plt.figure()\n",
    "plt.plot(range(2,len(sils)+2), sils)\n",
    "plt.show()\n",
    "\n",
    "# Get best k\n",
    "print(\"k = %d\" % silhouette_k)\n",
    "print(\"2nd k = %d\" % silhouette_k2)"
   ]
  },
  {
   "cell_type": "code",
   "execution_count": 66,
   "metadata": {},
   "outputs": [
    {
     "data": {
      "application/javascript": [
       "/* Put everything inside the global mpl namespace */\n",
       "window.mpl = {};\n",
       "\n",
       "\n",
       "mpl.get_websocket_type = function() {\n",
       "    if (typeof(WebSocket) !== 'undefined') {\n",
       "        return WebSocket;\n",
       "    } else if (typeof(MozWebSocket) !== 'undefined') {\n",
       "        return MozWebSocket;\n",
       "    } else {\n",
       "        alert('Your browser does not have WebSocket support.' +\n",
       "              'Please try Chrome, Safari or Firefox ≥ 6. ' +\n",
       "              'Firefox 4 and 5 are also supported but you ' +\n",
       "              'have to enable WebSockets in about:config.');\n",
       "    };\n",
       "}\n",
       "\n",
       "mpl.figure = function(figure_id, websocket, ondownload, parent_element) {\n",
       "    this.id = figure_id;\n",
       "\n",
       "    this.ws = websocket;\n",
       "\n",
       "    this.supports_binary = (this.ws.binaryType != undefined);\n",
       "\n",
       "    if (!this.supports_binary) {\n",
       "        var warnings = document.getElementById(\"mpl-warnings\");\n",
       "        if (warnings) {\n",
       "            warnings.style.display = 'block';\n",
       "            warnings.textContent = (\n",
       "                \"This browser does not support binary websocket messages. \" +\n",
       "                    \"Performance may be slow.\");\n",
       "        }\n",
       "    }\n",
       "\n",
       "    this.imageObj = new Image();\n",
       "\n",
       "    this.context = undefined;\n",
       "    this.message = undefined;\n",
       "    this.canvas = undefined;\n",
       "    this.rubberband_canvas = undefined;\n",
       "    this.rubberband_context = undefined;\n",
       "    this.format_dropdown = undefined;\n",
       "\n",
       "    this.image_mode = 'full';\n",
       "\n",
       "    this.root = $('<div/>');\n",
       "    this._root_extra_style(this.root)\n",
       "    this.root.attr('style', 'display: inline-block');\n",
       "\n",
       "    $(parent_element).append(this.root);\n",
       "\n",
       "    this._init_header(this);\n",
       "    this._init_canvas(this);\n",
       "    this._init_toolbar(this);\n",
       "\n",
       "    var fig = this;\n",
       "\n",
       "    this.waiting = false;\n",
       "\n",
       "    this.ws.onopen =  function () {\n",
       "            fig.send_message(\"supports_binary\", {value: fig.supports_binary});\n",
       "            fig.send_message(\"send_image_mode\", {});\n",
       "            if (mpl.ratio != 1) {\n",
       "                fig.send_message(\"set_dpi_ratio\", {'dpi_ratio': mpl.ratio});\n",
       "            }\n",
       "            fig.send_message(\"refresh\", {});\n",
       "        }\n",
       "\n",
       "    this.imageObj.onload = function() {\n",
       "            if (fig.image_mode == 'full') {\n",
       "                // Full images could contain transparency (where diff images\n",
       "                // almost always do), so we need to clear the canvas so that\n",
       "                // there is no ghosting.\n",
       "                fig.context.clearRect(0, 0, fig.canvas.width, fig.canvas.height);\n",
       "            }\n",
       "            fig.context.drawImage(fig.imageObj, 0, 0);\n",
       "        };\n",
       "\n",
       "    this.imageObj.onunload = function() {\n",
       "        fig.ws.close();\n",
       "    }\n",
       "\n",
       "    this.ws.onmessage = this._make_on_message_function(this);\n",
       "\n",
       "    this.ondownload = ondownload;\n",
       "}\n",
       "\n",
       "mpl.figure.prototype._init_header = function() {\n",
       "    var titlebar = $(\n",
       "        '<div class=\"ui-dialog-titlebar ui-widget-header ui-corner-all ' +\n",
       "        'ui-helper-clearfix\"/>');\n",
       "    var titletext = $(\n",
       "        '<div class=\"ui-dialog-title\" style=\"width: 100%; ' +\n",
       "        'text-align: center; padding: 3px;\"/>');\n",
       "    titlebar.append(titletext)\n",
       "    this.root.append(titlebar);\n",
       "    this.header = titletext[0];\n",
       "}\n",
       "\n",
       "\n",
       "\n",
       "mpl.figure.prototype._canvas_extra_style = function(canvas_div) {\n",
       "\n",
       "}\n",
       "\n",
       "\n",
       "mpl.figure.prototype._root_extra_style = function(canvas_div) {\n",
       "\n",
       "}\n",
       "\n",
       "mpl.figure.prototype._init_canvas = function() {\n",
       "    var fig = this;\n",
       "\n",
       "    var canvas_div = $('<div/>');\n",
       "\n",
       "    canvas_div.attr('style', 'position: relative; clear: both; outline: 0');\n",
       "\n",
       "    function canvas_keyboard_event(event) {\n",
       "        return fig.key_event(event, event['data']);\n",
       "    }\n",
       "\n",
       "    canvas_div.keydown('key_press', canvas_keyboard_event);\n",
       "    canvas_div.keyup('key_release', canvas_keyboard_event);\n",
       "    this.canvas_div = canvas_div\n",
       "    this._canvas_extra_style(canvas_div)\n",
       "    this.root.append(canvas_div);\n",
       "\n",
       "    var canvas = $('<canvas/>');\n",
       "    canvas.addClass('mpl-canvas');\n",
       "    canvas.attr('style', \"left: 0; top: 0; z-index: 0; outline: 0\")\n",
       "\n",
       "    this.canvas = canvas[0];\n",
       "    this.context = canvas[0].getContext(\"2d\");\n",
       "\n",
       "    var backingStore = this.context.backingStorePixelRatio ||\n",
       "\tthis.context.webkitBackingStorePixelRatio ||\n",
       "\tthis.context.mozBackingStorePixelRatio ||\n",
       "\tthis.context.msBackingStorePixelRatio ||\n",
       "\tthis.context.oBackingStorePixelRatio ||\n",
       "\tthis.context.backingStorePixelRatio || 1;\n",
       "\n",
       "    mpl.ratio = (window.devicePixelRatio || 1) / backingStore;\n",
       "\n",
       "    var rubberband = $('<canvas/>');\n",
       "    rubberband.attr('style', \"position: absolute; left: 0; top: 0; z-index: 1;\")\n",
       "\n",
       "    var pass_mouse_events = true;\n",
       "\n",
       "    canvas_div.resizable({\n",
       "        start: function(event, ui) {\n",
       "            pass_mouse_events = false;\n",
       "        },\n",
       "        resize: function(event, ui) {\n",
       "            fig.request_resize(ui.size.width, ui.size.height);\n",
       "        },\n",
       "        stop: function(event, ui) {\n",
       "            pass_mouse_events = true;\n",
       "            fig.request_resize(ui.size.width, ui.size.height);\n",
       "        },\n",
       "    });\n",
       "\n",
       "    function mouse_event_fn(event) {\n",
       "        if (pass_mouse_events)\n",
       "            return fig.mouse_event(event, event['data']);\n",
       "    }\n",
       "\n",
       "    rubberband.mousedown('button_press', mouse_event_fn);\n",
       "    rubberband.mouseup('button_release', mouse_event_fn);\n",
       "    // Throttle sequential mouse events to 1 every 20ms.\n",
       "    rubberband.mousemove('motion_notify', mouse_event_fn);\n",
       "\n",
       "    rubberband.mouseenter('figure_enter', mouse_event_fn);\n",
       "    rubberband.mouseleave('figure_leave', mouse_event_fn);\n",
       "\n",
       "    canvas_div.on(\"wheel\", function (event) {\n",
       "        event = event.originalEvent;\n",
       "        event['data'] = 'scroll'\n",
       "        if (event.deltaY < 0) {\n",
       "            event.step = 1;\n",
       "        } else {\n",
       "            event.step = -1;\n",
       "        }\n",
       "        mouse_event_fn(event);\n",
       "    });\n",
       "\n",
       "    canvas_div.append(canvas);\n",
       "    canvas_div.append(rubberband);\n",
       "\n",
       "    this.rubberband = rubberband;\n",
       "    this.rubberband_canvas = rubberband[0];\n",
       "    this.rubberband_context = rubberband[0].getContext(\"2d\");\n",
       "    this.rubberband_context.strokeStyle = \"#000000\";\n",
       "\n",
       "    this._resize_canvas = function(width, height) {\n",
       "        // Keep the size of the canvas, canvas container, and rubber band\n",
       "        // canvas in synch.\n",
       "        canvas_div.css('width', width)\n",
       "        canvas_div.css('height', height)\n",
       "\n",
       "        canvas.attr('width', width * mpl.ratio);\n",
       "        canvas.attr('height', height * mpl.ratio);\n",
       "        canvas.attr('style', 'width: ' + width + 'px; height: ' + height + 'px;');\n",
       "\n",
       "        rubberband.attr('width', width);\n",
       "        rubberband.attr('height', height);\n",
       "    }\n",
       "\n",
       "    // Set the figure to an initial 600x600px, this will subsequently be updated\n",
       "    // upon first draw.\n",
       "    this._resize_canvas(600, 600);\n",
       "\n",
       "    // Disable right mouse context menu.\n",
       "    $(this.rubberband_canvas).bind(\"contextmenu\",function(e){\n",
       "        return false;\n",
       "    });\n",
       "\n",
       "    function set_focus () {\n",
       "        canvas.focus();\n",
       "        canvas_div.focus();\n",
       "    }\n",
       "\n",
       "    window.setTimeout(set_focus, 100);\n",
       "}\n",
       "\n",
       "mpl.figure.prototype._init_toolbar = function() {\n",
       "    var fig = this;\n",
       "\n",
       "    var nav_element = $('<div/>')\n",
       "    nav_element.attr('style', 'width: 100%');\n",
       "    this.root.append(nav_element);\n",
       "\n",
       "    // Define a callback function for later on.\n",
       "    function toolbar_event(event) {\n",
       "        return fig.toolbar_button_onclick(event['data']);\n",
       "    }\n",
       "    function toolbar_mouse_event(event) {\n",
       "        return fig.toolbar_button_onmouseover(event['data']);\n",
       "    }\n",
       "\n",
       "    for(var toolbar_ind in mpl.toolbar_items) {\n",
       "        var name = mpl.toolbar_items[toolbar_ind][0];\n",
       "        var tooltip = mpl.toolbar_items[toolbar_ind][1];\n",
       "        var image = mpl.toolbar_items[toolbar_ind][2];\n",
       "        var method_name = mpl.toolbar_items[toolbar_ind][3];\n",
       "\n",
       "        if (!name) {\n",
       "            // put a spacer in here.\n",
       "            continue;\n",
       "        }\n",
       "        var button = $('<button/>');\n",
       "        button.addClass('ui-button ui-widget ui-state-default ui-corner-all ' +\n",
       "                        'ui-button-icon-only');\n",
       "        button.attr('role', 'button');\n",
       "        button.attr('aria-disabled', 'false');\n",
       "        button.click(method_name, toolbar_event);\n",
       "        button.mouseover(tooltip, toolbar_mouse_event);\n",
       "\n",
       "        var icon_img = $('<span/>');\n",
       "        icon_img.addClass('ui-button-icon-primary ui-icon');\n",
       "        icon_img.addClass(image);\n",
       "        icon_img.addClass('ui-corner-all');\n",
       "\n",
       "        var tooltip_span = $('<span/>');\n",
       "        tooltip_span.addClass('ui-button-text');\n",
       "        tooltip_span.html(tooltip);\n",
       "\n",
       "        button.append(icon_img);\n",
       "        button.append(tooltip_span);\n",
       "\n",
       "        nav_element.append(button);\n",
       "    }\n",
       "\n",
       "    var fmt_picker_span = $('<span/>');\n",
       "\n",
       "    var fmt_picker = $('<select/>');\n",
       "    fmt_picker.addClass('mpl-toolbar-option ui-widget ui-widget-content');\n",
       "    fmt_picker_span.append(fmt_picker);\n",
       "    nav_element.append(fmt_picker_span);\n",
       "    this.format_dropdown = fmt_picker[0];\n",
       "\n",
       "    for (var ind in mpl.extensions) {\n",
       "        var fmt = mpl.extensions[ind];\n",
       "        var option = $(\n",
       "            '<option/>', {selected: fmt === mpl.default_extension}).html(fmt);\n",
       "        fmt_picker.append(option)\n",
       "    }\n",
       "\n",
       "    // Add hover states to the ui-buttons\n",
       "    $( \".ui-button\" ).hover(\n",
       "        function() { $(this).addClass(\"ui-state-hover\");},\n",
       "        function() { $(this).removeClass(\"ui-state-hover\");}\n",
       "    );\n",
       "\n",
       "    var status_bar = $('<span class=\"mpl-message\"/>');\n",
       "    nav_element.append(status_bar);\n",
       "    this.message = status_bar[0];\n",
       "}\n",
       "\n",
       "mpl.figure.prototype.request_resize = function(x_pixels, y_pixels) {\n",
       "    // Request matplotlib to resize the figure. Matplotlib will then trigger a resize in the client,\n",
       "    // which will in turn request a refresh of the image.\n",
       "    this.send_message('resize', {'width': x_pixels, 'height': y_pixels});\n",
       "}\n",
       "\n",
       "mpl.figure.prototype.send_message = function(type, properties) {\n",
       "    properties['type'] = type;\n",
       "    properties['figure_id'] = this.id;\n",
       "    this.ws.send(JSON.stringify(properties));\n",
       "}\n",
       "\n",
       "mpl.figure.prototype.send_draw_message = function() {\n",
       "    if (!this.waiting) {\n",
       "        this.waiting = true;\n",
       "        this.ws.send(JSON.stringify({type: \"draw\", figure_id: this.id}));\n",
       "    }\n",
       "}\n",
       "\n",
       "\n",
       "mpl.figure.prototype.handle_save = function(fig, msg) {\n",
       "    var format_dropdown = fig.format_dropdown;\n",
       "    var format = format_dropdown.options[format_dropdown.selectedIndex].value;\n",
       "    fig.ondownload(fig, format);\n",
       "}\n",
       "\n",
       "\n",
       "mpl.figure.prototype.handle_resize = function(fig, msg) {\n",
       "    var size = msg['size'];\n",
       "    if (size[0] != fig.canvas.width || size[1] != fig.canvas.height) {\n",
       "        fig._resize_canvas(size[0], size[1]);\n",
       "        fig.send_message(\"refresh\", {});\n",
       "    };\n",
       "}\n",
       "\n",
       "mpl.figure.prototype.handle_rubberband = function(fig, msg) {\n",
       "    var x0 = msg['x0'] / mpl.ratio;\n",
       "    var y0 = (fig.canvas.height - msg['y0']) / mpl.ratio;\n",
       "    var x1 = msg['x1'] / mpl.ratio;\n",
       "    var y1 = (fig.canvas.height - msg['y1']) / mpl.ratio;\n",
       "    x0 = Math.floor(x0) + 0.5;\n",
       "    y0 = Math.floor(y0) + 0.5;\n",
       "    x1 = Math.floor(x1) + 0.5;\n",
       "    y1 = Math.floor(y1) + 0.5;\n",
       "    var min_x = Math.min(x0, x1);\n",
       "    var min_y = Math.min(y0, y1);\n",
       "    var width = Math.abs(x1 - x0);\n",
       "    var height = Math.abs(y1 - y0);\n",
       "\n",
       "    fig.rubberband_context.clearRect(\n",
       "        0, 0, fig.canvas.width, fig.canvas.height);\n",
       "\n",
       "    fig.rubberband_context.strokeRect(min_x, min_y, width, height);\n",
       "}\n",
       "\n",
       "mpl.figure.prototype.handle_figure_label = function(fig, msg) {\n",
       "    // Updates the figure title.\n",
       "    fig.header.textContent = msg['label'];\n",
       "}\n",
       "\n",
       "mpl.figure.prototype.handle_cursor = function(fig, msg) {\n",
       "    var cursor = msg['cursor'];\n",
       "    switch(cursor)\n",
       "    {\n",
       "    case 0:\n",
       "        cursor = 'pointer';\n",
       "        break;\n",
       "    case 1:\n",
       "        cursor = 'default';\n",
       "        break;\n",
       "    case 2:\n",
       "        cursor = 'crosshair';\n",
       "        break;\n",
       "    case 3:\n",
       "        cursor = 'move';\n",
       "        break;\n",
       "    }\n",
       "    fig.rubberband_canvas.style.cursor = cursor;\n",
       "}\n",
       "\n",
       "mpl.figure.prototype.handle_message = function(fig, msg) {\n",
       "    fig.message.textContent = msg['message'];\n",
       "}\n",
       "\n",
       "mpl.figure.prototype.handle_draw = function(fig, msg) {\n",
       "    // Request the server to send over a new figure.\n",
       "    fig.send_draw_message();\n",
       "}\n",
       "\n",
       "mpl.figure.prototype.handle_image_mode = function(fig, msg) {\n",
       "    fig.image_mode = msg['mode'];\n",
       "}\n",
       "\n",
       "mpl.figure.prototype.updated_canvas_event = function() {\n",
       "    // Called whenever the canvas gets updated.\n",
       "    this.send_message(\"ack\", {});\n",
       "}\n",
       "\n",
       "// A function to construct a web socket function for onmessage handling.\n",
       "// Called in the figure constructor.\n",
       "mpl.figure.prototype._make_on_message_function = function(fig) {\n",
       "    return function socket_on_message(evt) {\n",
       "        if (evt.data instanceof Blob) {\n",
       "            /* FIXME: We get \"Resource interpreted as Image but\n",
       "             * transferred with MIME type text/plain:\" errors on\n",
       "             * Chrome.  But how to set the MIME type?  It doesn't seem\n",
       "             * to be part of the websocket stream */\n",
       "            evt.data.type = \"image/png\";\n",
       "\n",
       "            /* Free the memory for the previous frames */\n",
       "            if (fig.imageObj.src) {\n",
       "                (window.URL || window.webkitURL).revokeObjectURL(\n",
       "                    fig.imageObj.src);\n",
       "            }\n",
       "\n",
       "            fig.imageObj.src = (window.URL || window.webkitURL).createObjectURL(\n",
       "                evt.data);\n",
       "            fig.updated_canvas_event();\n",
       "            fig.waiting = false;\n",
       "            return;\n",
       "        }\n",
       "        else if (typeof evt.data === 'string' && evt.data.slice(0, 21) == \"data:image/png;base64\") {\n",
       "            fig.imageObj.src = evt.data;\n",
       "            fig.updated_canvas_event();\n",
       "            fig.waiting = false;\n",
       "            return;\n",
       "        }\n",
       "\n",
       "        var msg = JSON.parse(evt.data);\n",
       "        var msg_type = msg['type'];\n",
       "\n",
       "        // Call the  \"handle_{type}\" callback, which takes\n",
       "        // the figure and JSON message as its only arguments.\n",
       "        try {\n",
       "            var callback = fig[\"handle_\" + msg_type];\n",
       "        } catch (e) {\n",
       "            console.log(\"No handler for the '\" + msg_type + \"' message type: \", msg);\n",
       "            return;\n",
       "        }\n",
       "\n",
       "        if (callback) {\n",
       "            try {\n",
       "                // console.log(\"Handling '\" + msg_type + \"' message: \", msg);\n",
       "                callback(fig, msg);\n",
       "            } catch (e) {\n",
       "                console.log(\"Exception inside the 'handler_\" + msg_type + \"' callback:\", e, e.stack, msg);\n",
       "            }\n",
       "        }\n",
       "    };\n",
       "}\n",
       "\n",
       "// from http://stackoverflow.com/questions/1114465/getting-mouse-location-in-canvas\n",
       "mpl.findpos = function(e) {\n",
       "    //this section is from http://www.quirksmode.org/js/events_properties.html\n",
       "    var targ;\n",
       "    if (!e)\n",
       "        e = window.event;\n",
       "    if (e.target)\n",
       "        targ = e.target;\n",
       "    else if (e.srcElement)\n",
       "        targ = e.srcElement;\n",
       "    if (targ.nodeType == 3) // defeat Safari bug\n",
       "        targ = targ.parentNode;\n",
       "\n",
       "    // jQuery normalizes the pageX and pageY\n",
       "    // pageX,Y are the mouse positions relative to the document\n",
       "    // offset() returns the position of the element relative to the document\n",
       "    var x = e.pageX - $(targ).offset().left;\n",
       "    var y = e.pageY - $(targ).offset().top;\n",
       "\n",
       "    return {\"x\": x, \"y\": y};\n",
       "};\n",
       "\n",
       "/*\n",
       " * return a copy of an object with only non-object keys\n",
       " * we need this to avoid circular references\n",
       " * http://stackoverflow.com/a/24161582/3208463\n",
       " */\n",
       "function simpleKeys (original) {\n",
       "  return Object.keys(original).reduce(function (obj, key) {\n",
       "    if (typeof original[key] !== 'object')\n",
       "        obj[key] = original[key]\n",
       "    return obj;\n",
       "  }, {});\n",
       "}\n",
       "\n",
       "mpl.figure.prototype.mouse_event = function(event, name) {\n",
       "    var canvas_pos = mpl.findpos(event)\n",
       "\n",
       "    if (name === 'button_press')\n",
       "    {\n",
       "        this.canvas.focus();\n",
       "        this.canvas_div.focus();\n",
       "    }\n",
       "\n",
       "    var x = canvas_pos.x * mpl.ratio;\n",
       "    var y = canvas_pos.y * mpl.ratio;\n",
       "\n",
       "    this.send_message(name, {x: x, y: y, button: event.button,\n",
       "                             step: event.step,\n",
       "                             guiEvent: simpleKeys(event)});\n",
       "\n",
       "    /* This prevents the web browser from automatically changing to\n",
       "     * the text insertion cursor when the button is pressed.  We want\n",
       "     * to control all of the cursor setting manually through the\n",
       "     * 'cursor' event from matplotlib */\n",
       "    event.preventDefault();\n",
       "    return false;\n",
       "}\n",
       "\n",
       "mpl.figure.prototype._key_event_extra = function(event, name) {\n",
       "    // Handle any extra behaviour associated with a key event\n",
       "}\n",
       "\n",
       "mpl.figure.prototype.key_event = function(event, name) {\n",
       "\n",
       "    // Prevent repeat events\n",
       "    if (name == 'key_press')\n",
       "    {\n",
       "        if (event.which === this._key)\n",
       "            return;\n",
       "        else\n",
       "            this._key = event.which;\n",
       "    }\n",
       "    if (name == 'key_release')\n",
       "        this._key = null;\n",
       "\n",
       "    var value = '';\n",
       "    if (event.ctrlKey && event.which != 17)\n",
       "        value += \"ctrl+\";\n",
       "    if (event.altKey && event.which != 18)\n",
       "        value += \"alt+\";\n",
       "    if (event.shiftKey && event.which != 16)\n",
       "        value += \"shift+\";\n",
       "\n",
       "    value += 'k';\n",
       "    value += event.which.toString();\n",
       "\n",
       "    this._key_event_extra(event, name);\n",
       "\n",
       "    this.send_message(name, {key: value,\n",
       "                             guiEvent: simpleKeys(event)});\n",
       "    return false;\n",
       "}\n",
       "\n",
       "mpl.figure.prototype.toolbar_button_onclick = function(name) {\n",
       "    if (name == 'download') {\n",
       "        this.handle_save(this, null);\n",
       "    } else {\n",
       "        this.send_message(\"toolbar_button\", {name: name});\n",
       "    }\n",
       "};\n",
       "\n",
       "mpl.figure.prototype.toolbar_button_onmouseover = function(tooltip) {\n",
       "    this.message.textContent = tooltip;\n",
       "};\n",
       "mpl.toolbar_items = [[\"Home\", \"Reset original view\", \"fa fa-home icon-home\", \"home\"], [\"Back\", \"Back to previous view\", \"fa fa-arrow-left icon-arrow-left\", \"back\"], [\"Forward\", \"Forward to next view\", \"fa fa-arrow-right icon-arrow-right\", \"forward\"], [\"\", \"\", \"\", \"\"], [\"Pan\", \"Pan axes with left mouse, zoom with right\", \"fa fa-arrows icon-move\", \"pan\"], [\"Zoom\", \"Zoom to rectangle\", \"fa fa-square-o icon-check-empty\", \"zoom\"], [\"\", \"\", \"\", \"\"], [\"Download\", \"Download plot\", \"fa fa-floppy-o icon-save\", \"download\"]];\n",
       "\n",
       "mpl.extensions = [\"eps\", \"pdf\", \"png\", \"ps\", \"raw\", \"svg\"];\n",
       "\n",
       "mpl.default_extension = \"png\";var comm_websocket_adapter = function(comm) {\n",
       "    // Create a \"websocket\"-like object which calls the given IPython comm\n",
       "    // object with the appropriate methods. Currently this is a non binary\n",
       "    // socket, so there is still some room for performance tuning.\n",
       "    var ws = {};\n",
       "\n",
       "    ws.close = function() {\n",
       "        comm.close()\n",
       "    };\n",
       "    ws.send = function(m) {\n",
       "        //console.log('sending', m);\n",
       "        comm.send(m);\n",
       "    };\n",
       "    // Register the callback with on_msg.\n",
       "    comm.on_msg(function(msg) {\n",
       "        //console.log('receiving', msg['content']['data'], msg);\n",
       "        // Pass the mpl event to the overridden (by mpl) onmessage function.\n",
       "        ws.onmessage(msg['content']['data'])\n",
       "    });\n",
       "    return ws;\n",
       "}\n",
       "\n",
       "mpl.mpl_figure_comm = function(comm, msg) {\n",
       "    // This is the function which gets called when the mpl process\n",
       "    // starts-up an IPython Comm through the \"matplotlib\" channel.\n",
       "\n",
       "    var id = msg.content.data.id;\n",
       "    // Get hold of the div created by the display call when the Comm\n",
       "    // socket was opened in Python.\n",
       "    var element = $(\"#\" + id);\n",
       "    var ws_proxy = comm_websocket_adapter(comm)\n",
       "\n",
       "    function ondownload(figure, format) {\n",
       "        window.open(figure.imageObj.src);\n",
       "    }\n",
       "\n",
       "    var fig = new mpl.figure(id, ws_proxy,\n",
       "                           ondownload,\n",
       "                           element.get(0));\n",
       "\n",
       "    // Call onopen now - mpl needs it, as it is assuming we've passed it a real\n",
       "    // web socket which is closed, not our websocket->open comm proxy.\n",
       "    ws_proxy.onopen();\n",
       "\n",
       "    fig.parent_element = element.get(0);\n",
       "    fig.cell_info = mpl.find_output_cell(\"<div id='\" + id + \"'></div>\");\n",
       "    if (!fig.cell_info) {\n",
       "        console.error(\"Failed to find cell for figure\", id, fig);\n",
       "        return;\n",
       "    }\n",
       "\n",
       "    var output_index = fig.cell_info[2]\n",
       "    var cell = fig.cell_info[0];\n",
       "\n",
       "};\n",
       "\n",
       "mpl.figure.prototype.handle_close = function(fig, msg) {\n",
       "    var width = fig.canvas.width/mpl.ratio\n",
       "    fig.root.unbind('remove')\n",
       "\n",
       "    // Update the output cell to use the data from the current canvas.\n",
       "    fig.push_to_output();\n",
       "    var dataURL = fig.canvas.toDataURL();\n",
       "    // Re-enable the keyboard manager in IPython - without this line, in FF,\n",
       "    // the notebook keyboard shortcuts fail.\n",
       "    IPython.keyboard_manager.enable()\n",
       "    $(fig.parent_element).html('<img src=\"' + dataURL + '\" width=\"' + width + '\">');\n",
       "    fig.close_ws(fig, msg);\n",
       "}\n",
       "\n",
       "mpl.figure.prototype.close_ws = function(fig, msg){\n",
       "    fig.send_message('closing', msg);\n",
       "    // fig.ws.close()\n",
       "}\n",
       "\n",
       "mpl.figure.prototype.push_to_output = function(remove_interactive) {\n",
       "    // Turn the data on the canvas into data in the output cell.\n",
       "    var width = this.canvas.width/mpl.ratio\n",
       "    var dataURL = this.canvas.toDataURL();\n",
       "    this.cell_info[1]['text/html'] = '<img src=\"' + dataURL + '\" width=\"' + width + '\">';\n",
       "}\n",
       "\n",
       "mpl.figure.prototype.updated_canvas_event = function() {\n",
       "    // Tell IPython that the notebook contents must change.\n",
       "    IPython.notebook.set_dirty(true);\n",
       "    this.send_message(\"ack\", {});\n",
       "    var fig = this;\n",
       "    // Wait a second, then push the new image to the DOM so\n",
       "    // that it is saved nicely (might be nice to debounce this).\n",
       "    setTimeout(function () { fig.push_to_output() }, 1000);\n",
       "}\n",
       "\n",
       "mpl.figure.prototype._init_toolbar = function() {\n",
       "    var fig = this;\n",
       "\n",
       "    var nav_element = $('<div/>')\n",
       "    nav_element.attr('style', 'width: 100%');\n",
       "    this.root.append(nav_element);\n",
       "\n",
       "    // Define a callback function for later on.\n",
       "    function toolbar_event(event) {\n",
       "        return fig.toolbar_button_onclick(event['data']);\n",
       "    }\n",
       "    function toolbar_mouse_event(event) {\n",
       "        return fig.toolbar_button_onmouseover(event['data']);\n",
       "    }\n",
       "\n",
       "    for(var toolbar_ind in mpl.toolbar_items){\n",
       "        var name = mpl.toolbar_items[toolbar_ind][0];\n",
       "        var tooltip = mpl.toolbar_items[toolbar_ind][1];\n",
       "        var image = mpl.toolbar_items[toolbar_ind][2];\n",
       "        var method_name = mpl.toolbar_items[toolbar_ind][3];\n",
       "\n",
       "        if (!name) { continue; };\n",
       "\n",
       "        var button = $('<button class=\"btn btn-default\" href=\"#\" title=\"' + name + '\"><i class=\"fa ' + image + ' fa-lg\"></i></button>');\n",
       "        button.click(method_name, toolbar_event);\n",
       "        button.mouseover(tooltip, toolbar_mouse_event);\n",
       "        nav_element.append(button);\n",
       "    }\n",
       "\n",
       "    // Add the status bar.\n",
       "    var status_bar = $('<span class=\"mpl-message\" style=\"text-align:right; float: right;\"/>');\n",
       "    nav_element.append(status_bar);\n",
       "    this.message = status_bar[0];\n",
       "\n",
       "    // Add the close button to the window.\n",
       "    var buttongrp = $('<div class=\"btn-group inline pull-right\"></div>');\n",
       "    var button = $('<button class=\"btn btn-mini btn-primary\" href=\"#\" title=\"Stop Interaction\"><i class=\"fa fa-power-off icon-remove icon-large\"></i></button>');\n",
       "    button.click(function (evt) { fig.handle_close(fig, {}); } );\n",
       "    button.mouseover('Stop Interaction', toolbar_mouse_event);\n",
       "    buttongrp.append(button);\n",
       "    var titlebar = this.root.find($('.ui-dialog-titlebar'));\n",
       "    titlebar.prepend(buttongrp);\n",
       "}\n",
       "\n",
       "mpl.figure.prototype._root_extra_style = function(el){\n",
       "    var fig = this\n",
       "    el.on(\"remove\", function(){\n",
       "\tfig.close_ws(fig, {});\n",
       "    });\n",
       "}\n",
       "\n",
       "mpl.figure.prototype._canvas_extra_style = function(el){\n",
       "    // this is important to make the div 'focusable\n",
       "    el.attr('tabindex', 0)\n",
       "    // reach out to IPython and tell the keyboard manager to turn it's self\n",
       "    // off when our div gets focus\n",
       "\n",
       "    // location in version 3\n",
       "    if (IPython.notebook.keyboard_manager) {\n",
       "        IPython.notebook.keyboard_manager.register_events(el);\n",
       "    }\n",
       "    else {\n",
       "        // location in version 2\n",
       "        IPython.keyboard_manager.register_events(el);\n",
       "    }\n",
       "\n",
       "}\n",
       "\n",
       "mpl.figure.prototype._key_event_extra = function(event, name) {\n",
       "    var manager = IPython.notebook.keyboard_manager;\n",
       "    if (!manager)\n",
       "        manager = IPython.keyboard_manager;\n",
       "\n",
       "    // Check for shift+enter\n",
       "    if (event.shiftKey && event.which == 13) {\n",
       "        this.canvas_div.blur();\n",
       "        event.shiftKey = false;\n",
       "        // Send a \"J\" for go to next cell\n",
       "        event.which = 74;\n",
       "        event.keyCode = 74;\n",
       "        manager.command_mode();\n",
       "        manager.handle_keydown(event);\n",
       "    }\n",
       "}\n",
       "\n",
       "mpl.figure.prototype.handle_save = function(fig, msg) {\n",
       "    fig.ondownload(fig, null);\n",
       "}\n",
       "\n",
       "\n",
       "mpl.find_output_cell = function(html_output) {\n",
       "    // Return the cell and output element which can be found *uniquely* in the notebook.\n",
       "    // Note - this is a bit hacky, but it is done because the \"notebook_saving.Notebook\"\n",
       "    // IPython event is triggered only after the cells have been serialised, which for\n",
       "    // our purposes (turning an active figure into a static one), is too late.\n",
       "    var cells = IPython.notebook.get_cells();\n",
       "    var ncells = cells.length;\n",
       "    for (var i=0; i<ncells; i++) {\n",
       "        var cell = cells[i];\n",
       "        if (cell.cell_type === 'code'){\n",
       "            for (var j=0; j<cell.output_area.outputs.length; j++) {\n",
       "                var data = cell.output_area.outputs[j];\n",
       "                if (data.data) {\n",
       "                    // IPython >= 3 moved mimebundle to data attribute of output\n",
       "                    data = data.data;\n",
       "                }\n",
       "                if (data['text/html'] == html_output) {\n",
       "                    return [cell, data, j];\n",
       "                }\n",
       "            }\n",
       "        }\n",
       "    }\n",
       "}\n",
       "\n",
       "// Register the function which deals with the matplotlib target/channel.\n",
       "// The kernel may be null if the page has been refreshed.\n",
       "if (IPython.notebook.kernel != null) {\n",
       "    IPython.notebook.kernel.comm_manager.register_target('matplotlib', mpl.mpl_figure_comm);\n",
       "}\n"
      ],
      "text/plain": [
       "<IPython.core.display.Javascript object>"
      ]
     },
     "metadata": {},
     "output_type": "display_data"
    },
    {
     "data": {
      "text/html": [
       "<img src=\"data:image/png;base64,iVBORw0KGgoAAAANSUhEUgAAAoAAAAHgCAYAAAA10dzkAAAgAElEQVR4nO3de3TU1b3//1EquLDVI16OLZVBLoLVVlulJdAfOR57qrWtfvG02otaq8dK8bTaemQCqKkgaFFRqoXipV4KUgSt2AkJlxCugUC4BTCBBEKYQELCJQmBXGdevz8wUyIhJHxmz2dm9vOx1metdsjks9973rP3y8nMZzwCAACAVTxuDwAAAADRRQAEAACwDAEQAADAMgRAAAAAyxAAAQAALEMABAAAsAwBEAAAwDIEQAAAAMsQAAEAACxDAAQAALAMARAAAMAyBEAAAADLEAABAAAsQwAEAACwDAEQAADAMgRAAAAAyxAAAQAALEMABAAAsAwBEAAAwDIEQAAAAMsQAAEAACxDAAQAALAMARAAAMAyBEAAAADLEAABAAAsQwAEAACwDAEQAADAMgRAAAAAyxAAAQAALEMABAAAsAwBEAAAwDIEQAAAAMsQAAEAACxDAAQAALAMARAAAMAyBEAAAADLEAABAAAsQwAEAACwDAEQAADAMgRAAAAAyxAAAQAALEMABAAAsAwBEAAAwDIEQAAAAMsQAAEAACxDAAQAALAMARAAAMAyBEAAAADLEAABAAAsQwAEAACwDAEQAADAMgRAAAAAyxAAAQAALEMABAAAsAwBEAAAwDIEQAAAAMsQAB0IBoMKBAKqqqpSdXU1BwcHBwcHRxwcVVVVCgQCCgaDbkcJ1xAAHQgEAvJ4PBwcHBwcHBxxeAQCAbejhGsIgA5UVVWFG8jt/5rh4ODg4ODg6NjR8gJOVVWV21HCNQRAB6qrq+XxeFRdXe32UAAAQAexfxMAHaGBAACIP+zfBEBHaCAAAOIP+zcB0BEaCACA+MP+TQB0hAYCACD+sH8TAB2hgQAAiD/s3wRAR2ggAADiD/s3AdARGggAgPjD/k0AdIQGAgAg/rB/EwAdoYEAAIg/7N8EQEdoIAAA4g/7dwIEwOLiYt1///3q3bu3zj33XPXp00dPPfWUGhoa2r1fXV2dRo4cqR49eui8887THXfcofLy8k6dmwYCACD+sH8nQABMT0/XfffdpwULFmjnzp2aN2+eLr30Uj322GPt3m/EiBG6/PLLlZmZqdzcXA0ePFhDhgzp1LlpIAAA4g/7dwIEwLZMmjRJV1xxxSn/vaqqSuecc47mzJkTvi0/P18ej0erV6/u8HloIAAA4g/7d4IGwLFjx+r6668/5b9nZmbK4/Ho8OHDrW7v1auXJk+efMr71dfXq7q6OnwEAgHrGwhA5B1taJLX55fX59fRhia3hwMkHAJgAgbAwsJCnX/++XrttddO+TMzZ85U165dT7p90KBBGjVq1Cnvl5qaKo/Hc9JhcwMBiDwCIGAWATCGA6DP52szbJ145Ofnt7pPaWmp+vbtqwceeKDd332mAZBXAAFEAwEQMIsAGMMBsKKiQvn5+e0eJ37Sd+/everfv7/uueceBYPBdn/3mf4J+LNoIAAmEAABs9i/YzgAdkZpaan69++vn/zkJ2pubj7tz7d8CGTu3Lnh2woKCvgQCICYQAAEzGL/ToAAWFpaqn79+ummm25SaWmpysrKwseJPzNgwADl5OSEbxsxYoR69eqlJUuWKDc3V0lJSUpKSurUuWkgACYQAAGz2L8TIAC+9dZbp3yPYIvi4mJ5PB5lZWWFb2u5EPSFF16o7t27a/jw4a1CY0fQQABMIAACZrF/J0AAdBMNBMAEAiBgFvs3AdARGgiACQRAwCz2bwKgIzQQABMIgIBZ7N8EQEdoIAAmEAABs9i/CYCO0EAATCAAAmaxfxMAHaGBAJhAAATMYv8mADpCAwEwgQAImMX+TQB0hAYCYAIBEDCL/ZsA6AgNBMAEAiBgFvs3AdARGgiACQRAwCz2bwKgIzQQABMIgIBZ7N8EQEdoIAAmEAABs9i/CYCO0EAATCAAAmaxfxMAHaGBAJhAAATMYv8mADpCAwEwgQAImMX+TQB0hAYCYAIBEDCL/ZsA6AgNBMAEAiBgFvs3AdARGgiACQRAwCz2bwKgIzQQABMIgIBZ7N8EQEdoIAAmEAABs9i/CYCO0EAATCAAAmaxfxMAHaGBAJhAAATMYv8mADpCAwEwgQAImMX+TQB0hAYCYAIBEDCL/ZsA6AgNBMAEAiBgFvs3AdARGgiACQRAwCz2bwKgIzQQABMIgIBZ7N8EQEdoIAAmEAABs9i/CYCO0EAATCAAAmaxfxMAHaGBAJhAAATMYv8mADpCAwEwgQAImMX+TQB0hAYCYAIBEDCL/ZsA6AgNBMAEAiBgFvs3AdARGgiACQRAwCz2bwKgIzQQABMIgIBZ7N8EQEdoIAAmEAABs9i/CYCOmGogFn/AbqwBgFkEQAKgIwRAACawBgBmEQAJgI4QAAGYwBoAmEUAJAA6QgAEYAJrAGAWAZAA6AgBEIAJrAGAWQRAAqAjBEAAJrAGAGYRAAmAjhAAAZjAGgCYRQAkADpCAARgAmsAYBYBkADoCAEQgAmsAYBZBEACoCMEQAAmsAYAZhEACYCOEAABmMAaAJhFAEyAAFhcXKz7779fvXv31rnnnqs+ffroqaeeUkNDQ7v3S05OlsfjaXU89NBDnTo3ARCACawBgFkEwAQIgOnp6brvvvu0YMEC7dy5U/PmzdOll16qxx57rN37JScn68EHH1RZWVn46GwjEAABmMAaAJhFAEyAANiWSZMm6Yorrmj3Z5KTk/XII484Og8BEIAJrAGAWQTABA2AY8eO1fXXX9/uzyQnJ+viiy/WRRddpKuvvlopKSk6evRou/epr69XdXV1+AgEAgRAABHHGgCYRQBMwABYWFio888/X6+99lq7Pzd9+nRlZGQoLy9PM2bMUM+ePTV8+PB275OamnrS+wYJgAAijTUAMIsAGMMB0OfztRm2Tjzy8/Nb3ae0tFR9+/bVAw880OnzZWZmyuPxqKio6JQ/wyuAAKKBNQAwiwAYwwGwoqJC+fn57R4nftJ379696t+/v+655x4Fg8FOn6+2tlYej0cZGRkdvg/vAQRgAmsAYBYBMIYDYGeUlpaqf//++slPfqLm5uYz+h0rV66Ux+PR5s2bO3wfAiAAE1gDALMIgAkQAEtLS9WvXz/ddNNNKi0tbXVZlxN/ZsCAAcrJyZEkFRUVady4ccrNzVVxcbHmzZunPn36aNiwYZ06NwEQgAmsAYBZBMAECIBvvfXWKd8j2KK4uFgej0dZWVmSpD179mjYsGHq0aOHunXrpn79+unxxx/nOoCICTz+oAcAswiACRAA3UQAhAk8/qAHALMIgARARwiAMIHHH/QAYBYBkADoCAEQJvD4gx4AzCIAEgAdIQDCBB5/0AOAWQRAAqAjBECYwOMPegAwiwBIAHSEAAgTePxBDwBmEQAJgI4QAGECjz/oAcAsAiAB0BECIEzg8Qc9AJhFACQAOkIAhAk8/qAHALMIgARARwiAMIHHH/QAYBYBkADoCAEQJvD4gx4AzCIAEgAdIQDCBB5/0AOAWQRAAqAjBECYwOMPegAwiwBIAHSEAAgTePxBDwBmEQAJgI4QAGECjz/oAcAsAiAB0BECIEzg8Qc9AJhFACQAOkIAhAk8/qAHALMIgARARwiAMIHHH/QAYBYBkADoCAEQJvD4gx4AzCIAEgAdIQDCBB5/0AOAWQRAAqAjBECYwOMPegAwiwBIAHSEAAgTePxBDwBmEQAJgI4QAGECjz/oAcAsAiAB0BECIEzg8Qc9AJhFACQAOkIAhAk8/qAHALMIgARARwiAMIHHH/QAYBYBkADoCAEQJvD4gx4AzCIAEgAdIQDCBB5/0AOAWQRAAqAjBECYwOMPegAwiwBIAHSEAAgTePxBDwBmEQAJgI4QAGECjz/oAcAsAiAB0BECIEzg8Qc9AJhFACQAOkIAhAk8/qAHALMIgARARwiAMIHHH/QAYBYBkADoCAEQJvD4gx4AzCIAEgAdIQCaQf121w96ADCNAEgAdIQAaAb1210/6AHANAIgAdARAqAZ1G93/aAHANMIgARARwiAZlC/3fWDHgBMIwASAB0hAJpB/XbXD3oAMI0ASAB0hABoBvXbXT/oAcA0AiAB0BECoBnUb3f9oAcA0wiABEBHCIBmUL/d9YMeAEwjABIAHSEAmkH9dtcPegAwjQBIAHSEAGgG9dtdP+gBwDQCIAHQEQKgGdRvd/2gBwDTCIAEQEcIgGZQv931gx4ATCMAJkgA/OEPf6jLL79c3bp102WXXaa7775be/fubfc+dXV1GjlypHr06KHzzjtPd9xxh8rLyzt1XgKgGdRvd/2gBwDTCIAJEgAnT56s1atXa/fu3Vq1apWSkpKUlJTU7n1GjBihyy+/XJmZmcrNzdXgwYM1ZMiQTp2XAGgG9dtdP+gBwDQCYIIEwM+aN2+ezjrrLDU2Nrb571VVVTrnnHM0Z86c8G35+fnyeDxavXp1h89DADSD+u2uH/QAYBoBMAED4MGDB3XnnXdq6NChp/yZzMxMeTweHT58uNXtvXr10uTJk095v/r6elVXV4ePQCBAADSA+u2uH/QAYBoBMIEC4KhRo9S9e3d5PB4NHjxYBw4cOOXPzpw5U127dj3p9kGDBmnUqFGnvF9qaqo8Hs9JBwEwsqjf7vpBDwCmEQBjOAD6fL42w9aJR35+fvjnKysrtX37di1cuFBDhw7VrbfeqlAo1ObvPtMAyCuA0UH9dtcPekBiDmAWATCGA2BFRYXy8/PbPRoaGtq8b0swy87ObvPfz/RPwJ/FewDNoH676wc9IDEHMIsAGMMB0ImSkhJ5PB5lZWW1+e8tHwKZO3du+LaCggI+BBIjqN/u+kEPSMwBzCIAJkAAXLNmjV555RVt3LhRu3fvVmZmpoYMGaK+ffuqvr5eklRaWqoBAwYoJycnfL8RI0aoV69eWrJkiXJzczt06ZjPIgCaQf121w96QGIOYBYBMAECYF5enm688Ub16NFD3bp1U+/evTVixAiVlpaGf6a4uPikVwRbLgR94YUXqnv37ho+fLjKyso6dW4CoBnUb3f9oAck5gBmEQATIAC6iQBoBvXbXT/oAYk5gFkEQAKgIwRAM6jf7vpBD0jMAcwiABIAHSEAmkH9dtcPekBiDmAWAZAA6AgB0Azqt7t+0AMSc2B7/aYRAAmAjhAAzaB+u+sHPSAxB7bXbxoBkADoCAHQDOq3u37QAxJzYHv9phEACYCOEADNoH676wc9IDEHttdvGgGQAOgIAdAM6re7ftADEnNge/2mEQAJgI4QAM2gfrvrBz0gMQe2128aAZAA6AgB0Azqt7t+0AMSc2B7/aYRAAmAjhAAzaB+u+sHPSAxB7bXbxoBkADoCAHQDOq3u37QAxJzYHv9phEACYCOmGqgI3WNVj/xbV/4bK8f9IDEHNhev2kEQAKgI6Ya6Nn5n4Sf+BU1dRH93fHA9oXP9vpBD0jMge31m0YAJAA6YqqBZq8rCT/xb35pmfZVHYvo7491ti98ttcPekBiDmyv3zQCIAHQkWi8B9Dr82vQM4u0OXA4oueIZbYvfLbXD3pAYg5sr980AiAB0JFoBMCbXlwqr8+vAU/M1/y8fRE9T6yyfeGzvX7QAxJzYHv9phEACYCORCMA7q+u071v5oT//6tLChUKhSJ6vlhj+8Jne/2gByTmwPb6TSMAEgAdidZlYJqag0qdtzV82+9nb1J9U3NEzxlLbF/4bK9fkmrrm5SWt08fb9qrNTsPaFdlrVVzQQ8wB7bXbxoBkADoSLSvA/hudrH6jE6T1+fXj6dl62BtQ0TPGytsX/hsrT8YDGllYaV+N3ujrnoyvdX7YFuOq5/K0I3PZ+mu6dn6zXsbNP6f2/Tasp36aGOpVhVVqqjiiGrqGuP+VXJbe+BEts+B7fWbRgAkADrixoWgl26v0DVPZcjr8+v/++MSFe6viei5Y4HtC59t9RdVHNEf0/OVNHFxq7A3bNIS/fgv2UqetOSUgfBUx8An0pU8aYl+PC1bD89cr6c/3qZpS4v04YaAVhZWakd5jaqOxW5QtK0H2mL7HNhev2kEQAKgI259E8iO8hp9+4+Z8vr8uiY1Q8t3VET0/G6zfeGzof7DRxv0bnaxbnt1Zavgdk1qhkZ/mKfc3QdPCmdH6ptUVHFE2UUH9NHGUr22bKee8W/Tb2dt0F3Ts3XjC1nh/zjq6HHl2Pn69h8z9d9TV+nXM3KVOm+r/pxVqDm5AS3bXqGCshodqm2IelC0oQdOx/Y5sL1+0wiABEBH3PwquANH6vXfU1fJ6/Orz+g0/W317oiOwU22L3yJWn9jc1ALt5XroXdz1W9MWrjGPqPT9Mu31sq/eZ/qGp2/t/VoQ5OKK2u1ZucBfbxpr95YsUsT0z7Ro3/fqJ+9vlo3vbhUX03tXFDsP2a+hjybqf/355V66N1cPfnRFr2SuUOz1+1RVsF+bdtbrQNH6hUMRiYoJmoPdIbtc2B7/aYRAAmAjrj9XcD1Tc169O8bwz/79Mfb1ByhDchNti98iVR/KBRSXqBKqfO26uvjFrYKVbe8vFyvL9+p/S59201dY7NKDhzVuuKDSsvbp7+u3KXn0vP1+9mbdPcba/Tdyct03dMLOhUU+45O0+CJi3Xbqyv1P++s05gP8zRl8Q7NyilRZn65tpRWaX9N3Wmfp4nUA2fK9jmwvX7TCIAEQEfcDoDS8Q32lcwd4Z//5VtrdaQ+vhcL2xe+RKi/vLpOf1lapP+avLRVQLp+/CKN/+c2bdsbP4tufVOzAoeOan3JIaVv2ad3sos1KSNf//f+Jt37Zo5ufmmZvvGZcHu6o8/oNH1zwiL94E8r9MDba5XyQZ4mL9yumWtKtGhbuXJ2HYj7HnAqEZ4HTthev2kEQAKgI7EQAFv4N+/TlWPny+s7/vVxgUNHIzqmaLJ94YvX+o81NOujjaW6580cXZFywp9Px87XyJnrtSR/v5qag24P05iGpqD2Hj6mjXsOa8HWMr27erdeXFAg39zNuu+vObp1ynLd8Mwi9U7peFD0+vxavbPS7dJcEa/Pg0ixvX7TCIAEQEdiKQBK0sY9h3X9+EXhV1o2lByK6LiixfaFL57qDwZDWrPzgEbN2ayrP/MBjP+eukoz15So6lij28OMKU3NQZVX1ykvUKVF28o1c02JXlq0XSkf5OmBt9fqB39aoUHPLArP41f/kKFP9tm3ScXT88AE2+s3jQBIAHQk1gKgJJUePqabX1oWfuXl4017Izq2aLB94YuH+ncfqNWLC7eHP43ecgx9LlMvLtyu4spat4cY107sAa/Pr2+MW6jC/UfcHlZUxcPzwCTb6zeNAEgAdCQWA6B0/HIZD7y9Nvw7Xl60I2avd9YW2xe+WK2/uq5R7+WU6EfTVrUKJ1c/laHH52zS6p0HIvYpWNud2AO3vHz8P+i+NWGx9hyM37d2dFasPg+ixfb6TSMAEgAdidUAKEnNwZCe8W8L/57fztoQkUtsRIPtC18s1d/UHNSSgv16eOb68HtMvT6/rkjx6+431uijjaU61hAffRVPTuyB0kNH9Z0Xj3+Y5tt/zNS+qmNuDy8qYul54Abb6zeNAEgAdCSWA2CL93JK1PfTr48b/ueVqjxSH6FRmmP7whcL9eeXVesZ/zbdcMJ70bw+v77z4lJNW1qksip3Lt1ii8/2wP7qOg2btERen183vpAVF89jp2LheeAm2+s3jQBIAHQkHgKgJK0qrAxf+Hboc5kqKIvtr4+zfeFzq/6Kmnq9sWKXvvfy8lah77qnFyh13lblBari6q0E8aytHggcOhr+urybX1qmw0cT87vAW7AO2F2/aQRAAqAj8RIApePft5r86SsIVz+VoayC/RH5vSbYvvBFs/66xmb5N+/T/W+tVZ/R//p2jn5j0vTQu7lasLVMDU2Je+mWWHWqHthVWRt+Vfa2V1eqpi5xP2HNOmB3/aYRAAmAjsRTAJSkQ7UNuvMv2eH3cL29qjhivzuSbF/4TNcfCoWUu/uQRn+Yd9JXot326kq9k12sQ7WJ/epSrGuvB7aX14S/oeTH07IT9j2YrAN2128aAZAA6Ei8BUDp+MVq/+/9TeHf/+RHW2Lu4ry2L3ym6g8cOqo/Ld6h/3g+q1XoGzxxsf6Ynq/C/bH91gCbnK4HtpRW6ZpPr7t49xtrVN+UeCGQdcDu+k0jABIAHYnHACgdfwVo2tKi8DcS3P3GGlXH0J+SbF/4Iln/kfomvb9uj+6ant0q9A18Il2/+/tGrSysTIjvj040HemB3N0HNfCJdHl9fv3PO+vUGGP/IecU64Dd9ZtGACQAOhKvAbBF+pay8AbynReXquRAbFxjzPaFz2n9zcGQVuyo1KN/3xh+fFuOn0xfrTm5gbj/vuhE19EeWFlYqf6fXp7nN+9tSKgwzzpgd/2mEQAJgI7EewCUjv8p6ZsTjr+p/OvjFmpd8UGj5+sI2xe+M62/cP8RPZeer8GfflK05fiP57P0SuaOuP5+aNt0pgcy88vDl3oaNWdzwlyMm3XA7vpNIwASAB1JhAAoSWVVdfr+n45f+qP/mPn6cEPA+DnbY/vC15n6D9U26J3sYt32yopWoe+rqRka82Ge1pcc4tItcaizzwH/5n264tO3dKTO25oQjznrgN31m0YAJAA6kigBsOWcv3p3Xfi8LywocO2VBNsXvtPV39AU1IKtZfrVu+vUb8y/Lt3SZ3Sa7n9rrdLy9sXNt76gbWfyHJibGwjfZ1JGvuERmsc6YHf9phEACYCOJFIAlKRgMKTn0vPD5x45c70rQcL2ha+t+kOhkDYHDit13lZ9fdzCVq/23Tplud5YscuKb4ewxZk+B95dvTt8v1eXFBocoXmsA3bXbxoBkADoSKIFwBbvr9sTfmXptldXan9NdL/2y+363XZi/bsqj2hqVlH4u2BbjhueWaQJaZ8ov8zexSuROXkOTF9WFL7vmyt2GRqheawDdtdvGgGQAOhIogZASVqz84Cu/fRis0kTF2vb3ug9SWKhfjcdqq0P19/yvi6vz68rx87X/763QUsK9sfctRsRWU6fAy8t2h6+/6ycEgMjNM/2dcD2+k0jABIAHUnkAChJxZW1uvGF4xcN/sqT6Vr8SXlUzhsr9UfbltIqPfXRFn31D62/neNH01ZpVk5JTF2rEWY5fQ6EQiFNSPtEXp9fvVP8+mhjqYFRmmXrOtDC9vpNIwASAB1J9AAoSVVHG/Wz11eHN5LXl+80/gnDWKrftKqjjXonu1i3TlneKvS1HPyJ106ReA6EQiGN/Ude+ANCGVvLIjxKs2xaB9pie/2mEQAJgI7YEAAlqbE5qJQP8sJjSvkgz+i3DsRa/ZEWDIa0srBSv3lvQ/givi2X4Bk5c70WbitL6PpxepF6DgSDIf1u9sZwfy3dXhHBUZqV6OvA6dhev2kEQAKgI7YEQOn4qwmvL98Z/vq4n72+WlVHzfxJMhbrj4TSw8f08qIdGvpcZqtX+W5+aZneXLFLh2obJCVu/ei4SPZAU3NQI2esl9fn14An5mvNzgMRGqVZtj8PbK/fNAJgggTAH/7wh7r88svVrVs3XXbZZbr77ru1d+/edu+TnJwsj8fT6njooYc6dV6bAmCLRdvKddWTx79e7MYXslRcWRvxc8Ry/Z1V39Ssf27eq3vezAmHZ6/Pr2ueOn6h5s2Bwyf9ST2R6seZiXQPNDQF9cu31obfz7txz+EIjNIs258HttdvGgEwQQLg5MmTtXr1au3evVurVq1SUlKSkpKS2r1PcnKyHnzwQZWVlYWPzjaCjQFQkrbtrVbSp183du3TC7Q6wq8oxHr9HfHJvmr94eOtuu7TT1K3HHdNz9aHGwI61nDq6ysmQv1wxkQP1DU266evHX8/71dTM6L6yf4zYfvzwPb6TSMAJkgA/Kx58+bprLPOUmPjqf9EmZycrEceecTReWwNgJK0v6ZOt726Ul6fX/3GpGn2uj0R+93xUH9bqusa9bfVu/XDz3wt27cmLNbzGQXafaBjr5bGa/2IHFM9UFvfpDumrpLX59c3xi1U4f4jEfvdkWb788D2+k0jACZgADx48KDuvPNODR06tN2fS05O1sUXX6yLLrpIV199tVJSUnT06NFOncvmACgdf0Vh5Mz14bE+Oz8/Il8fFy/1S8ffG5lddECP/n2jrjzhAx39xqRpxN9ytaRgv5o7OSfxVD/MMNkDVccaw9/9/c0Ji1RyoHPrXrTY/jywvX7TCIAJFABHjRql7t27y+PxaPDgwTpwoP0/S06fPl0ZGRnKy8vTjBkz1LNnTw0fPrzd+9TX16u6ujp8BAIBqwOgdPxThi8uKAiP91fvrnM85niov6yqTq9k7tCwSUtavdr3nReX6vXlO3XAwdeyxUP9MMt0DxysbdB/TT7+7TJDn8vUvqpjET+HU7Y/D2yv3zQCYAwHQJ/Pd9KHND575Of/6wvPKysrtX37di1cuFBDhw7Vrbfe2qnr1WVmZsrj8aioqOiUP5OamtrmOGwOgC3+saFU/cccfwXs+39arrKqM//6uFitv6EpqPl5+3TfX3NafUPH1U9lKOWDzdpQcigi10iM1foRPdHogf3VdUr+9D9gbnw+SxU1sfVd0rY/D2yv3zQCYAwHwIqKCuXn57d7NDQ0tHnfllfmsrOzO3y+2tpaeTweZWRknPJneAWwfeuKD+ob4xaG/7S0pbTqjH5PrNW/o7xG4/+5LVxby/HjadmakxuI+BhjrX5EX7R6oPTwMQ15NjN8OaLDR9teU91g+/PA9vpNIwDGcAB0oqSkRB6PR1lZWR2+z8qVK+XxeLR58+YO38f29wC2Zc/Bo/rOi8f/tDTwifQz+vaBWKi/pq5R7+WU6PZPP+jScgx6ZpGeS8/Xzgpzb56Phfrhrmj2QHFlrW54ZpG8Pr9ue2WFamLkKwdtfx7YXr9pBMAECIBr1qzRK6+8oo0bN2r37t3KzMzUkCFD1MWFKXcAACAASURBVLdvX9XXH/+TRmlpqQYMGKCcnBxJUlFRkcaNG6fc3FwVFxdr3rx56tOnj4YNG9apcxMA21Zd16h73syR13f86+OmLS3q1J9G3ao/FAopZ9dB/X72Jg18Ij08hr6j0/TgO+u0aFu5mgx+A0qLeH/84Vy0e2B7eU34kkU/npbd7mWKosX254Ht9ZtGAEyAAJiXl6cbb7xRPXr0ULdu3dS7d2+NGDFCpaX/+vLz4uLiVq8I7tmzR8OGDQvfp1+/fnr88ce5DmAENTUH9eRHW8J1/N/7m9TQ1LHwFO3691fX6c9ZhfqP57Navdp34wtZ+svSoqi/NyoRHn8440YPbCmt0jWpGfL6/Lr7jTWqb3I3BNr+PLC9ftMIgAkQAN1EADy9t1cVhz8wcedfssNfd9aeaNTf2BzUgq1leuDtteozOi18vqueTNfjczYpd/fBiHyg40wk0uOPM+NWD+TuPhj+pp//eWed0e/8Ph3bnwe2128aAZAA6AgBsGOyCvbr6qeOv7KQPGmJik7z/jmT9RfuP6KJaZ/o+vGLWr3ad8fUVZq9do9q692f70R7/NF5bvbAqsJK9f/0mpb/+96GTl/HMlJsfx7YXr9pBEACoCMEwI4rKKvR0OeOf9rwq6kZWlVYecqfjXT9tfVNmr12T/gbEFqO68cv1MS0T1S4v8bxOSIpER9/dI7bPbAkf7/6jTn+yvjjczZF5ALvneX2HLjN9vpNIwASAB0hAHZO5ZH6cAjrOzpNs3JK2vy5SNQfCoWUu/ugHp+zKfwnLa/Prz6j0/TA22u1YGuZq3/eak+iPv7ouFjogbS8feG3b6TO2xr1t0TEwhy4yfb6TSMAEgAdIQB2Xl1jsx6ZtSFc3zP+bSf9iclJ/RU19frL0iL95wutP9DxH89naWpWkfZXn/kFqqMlkR9/dEys9MDc3EB4HH9Mzz/9HSIoVubALbbXbxoBkADoCAHwzIRCIU1ZvCNc4wNvr2313rvO1t/UHNTiT8r14Dvr1PeED3QMfCJdj72/STm73PtAx5lI9McfpxdLPfC31bvDY3l1SWHUzhtLc+AG2+s3jQBIAHSEAOjMx5v26spP32x+y8vLtffw8e8j7Wj9uypr9Vx6vgY90/oDHbe/ulLv5ZTEzAVtO8uWxx+nFms98NqyneHxvLFiV1TOGWtzEG22128aAZAA6AgB0LkNJYfCn8i94ZlF2rjncLv1H21o0pzcgH48LbtV6Pv6uIUa/89t2l4eWx/oOBM2Pf5oWyz2wMuL/vWq/XuneP9uJMXiHEST7fWbRgAkADpCAIyMwKGjuvmlZfL6/Lpy7Hx9sD7Qqv5QKKQNJYeU8sHm8OVkvD6/rkjx676/5ih9y74OX2Q6Htj2+ONksdgDoVBIE9M+kdd3/Bt+PtpYevo7ORCLcxBNttdvGgGQAOgIATByjtQ36ZdvrW31qp7X59fUrEL91+SlrW4bNmmJXl1SqH1Vx9wethE2Pv5oLVZ7IBQK6Yl/bAl/oj59S+e/67ujYnUOosX2+k0jABIAHSEARlZzMKRx/9x2UghseWXw0b9vVHbRAVeuSRZNtj7++JdY7oFgMKTfz94kr8+vfmPSlFWw38h5YnkOosH2+k0jABIAHSEAmvHmyl3h+r8/Zbn+tnq3quP0Ax1nwvbHH7HfA03NQY2csT78H2erdx6I+DlifQ5Ms71+0wiABEBHCIBmUL/d9SM+eqChKaj7P33bxleeTNeGkkMR/f3xMAcm2V6/aQRAAqAjBEAzqN/u+hE/PVDX2Kyfvb5aXt/xr3jctjdya2G8zIEpttdvGgGQAOgIAdAM6re7fsRXDxxtaNJ/f/oVj98YtzBi360dT3Nggu31m0YAJAA6QgA0g/rtrh/x1wPVdY36/p+Wy+vz65sTFqnkwFHHvzPe5iDSbK/fNAIgAdARAqAZ1G93/YjPHjhY2xC+ZNPQ5zLD3+xzpuJxDiLJ9vpNIwASAB0hAJpB/XbXj/jtgf01dUqetERen183Pp+lipr6M/5d8ToHkWJ7/aYRAAmAjhAAzaB+u+tHfPdA6eFjGvJsprw+v25+aZkOH204o98Tz3MQCbbXbxoBkADoCAHQDOq3u37Efw8UV9Zq0DPHv+P7tldWqOYMruMZ73PglO31m0YAJAA6QgA0g/rtrh+J0QM7ymt03dML5PX59aNpqzpdRyLMgRO2128aAZAA6AgB0Azqt7t+JE4PbCmt0jWpGfL6/Lr7jTWqa2zu8H0TZQ7OlO31m0YAJAA6QgA0g/rtrh+J1QO5uw/pqifT5fX59cDb69TYHOzQ/RJpDs6E7fWbRgAkADpCADSD+u2uH4nXA6uKKnXl2Pny+vz63/c2qDkYOu19Em0OOsv2+k0jABIAHSEAmkH9dtePxOyBJfn71W9Mmrw+vx6fs0nB04TARJyDzrC9ftMIgARARwiAZlC/3fUjcXtgft4+XZFyvK7UeVsVCp06BCbqHHSU7fWbRgAkADpCADSD+u2uH4ndAx+sD6j3pyHwufT8U4bARJ6DjrC9ftMIgARARwiAZlC/3fUj8Xtgxprd4fpeydzR5s8k+hycju31m0YAJAA6QgA0g/rtrh929MDry3eGa3xjxa6T/t2GOWiP7fWbRgAkADpCADSD+u2uH/b0wJTFO8J1vpdT0urfbJmDU7G9ftMIgARARwiAZlC/3fXDnh4IhUKaOP8TeX1+9U7x6x8bSsP/ZsscnIrt9ZtGACQAOkIANIP67a4fdvVAKBTSkx9tkdfnV5/RaUrfUibJrjloi+31m0YAJAA6QgA0g/rtrh/29UAwGNJj72+S1+dXvzFpyirYb90cfJbt9ZtGACQAOkIANIP67a4fdvZAczCkkTPXy+vz68qx87W0YL91c3AiG3sgmgiABEBHCIBmUL/d9cPeHmhsDuqBt9fK6/OHvz/YtjloYWsPRAsBkADoCAHQDOq3u37Y3QN1jc362eurw/V7fX7tKK9xe1hRZ3MPRAMBkADoCAHQDOq3u37QA0cbmjT8zytbhcAhz2bqd3/fqL+vLVFxZW27XyOXCGzvAdMIgARARwiAZlC/3fWDHpCk/dV14TnoOzqtVRj0+vz65oRF+t/3Nuhvq3ercH9NwgVCesAsAiAB0BECoBnUb3f9oAek1nNQeaROy3dU6PmMAv1o2ir1HzP/pEB4/fiF+vWMXL29qlj5ZdUKBuM7ENIDZhEACYCOEADNoH676wc9ILU/B3WNzcouOqCXFm3XT6av1pVjTw6E1z69QA++s05vrNilLaVVao6zQEgPmEUAJAA6QgA0g/rtrh/0gNS5Oahvatba4oN6JXOH7n5jjQY+kX5SILwmNUO/fGut/rK0SBv3HFZTczBKlZwZesAsAiAB0BECoBnUb3f9oAckZ3PQ2BzU+pJDmppVpF/8NUdXP5VxUiD8ypPpuufNHL26pFC5uw+qoSm2AiE9YBYBkADoCAHQDOq3u37QA1Jk56CpOajNgcN6bdlOPfD2Wn019eRAOOCJ+frZ66s1ZfEOrdl5QHWNzRGq5MzQA2YRAAmAjhAAzaB+u+sHPSCZnYNgMKRte6v115W79NC7ufr6uIUnBcL+Y+frx3/J1osLCrSysFLHGqIbCOkBswiABEBHCIBmUL/d9YMekKI7B8FgSNvLa/RudrFGzlyv68cvOikQ9huTpjumrtIf0/O1dHuFjtSbHRM9YBYBkADoCAHQDOq3u37QA5K7cxAKhVRUcUQz15Tot7M26FsTFp8UCPuMTtNtr67UhLRPtPiTclUda4zoGOgBswiABEBHCIBmUL/d9YMekGJrDkKhkHYfqNXsdXv0+9mbNPS5zJMCYe8Uv26dslxPf7xNGVvLdKi2wdE5Y6n+REQATLAAWF9fr2uvvVYej0cbN25s92fr6uo0cuRI9ejRQ+edd57uuOMOlZeXd+p8BEAzqN/u+kEPSLE/B6WHj+mD9QGNmrNZyZOWnBQIvT6/bn5pmZ76aIvS8vap8kh9p35/rNcf7wiACRYAf/vb3+p73/tehwLgiBEjdPnllyszM1O5ubkaPHiwhgwZ0qnzEQDNoH676wc9IMXfHJRV1emjjaUa/WGe/vOFrDYD4U0vLtXoD/P00cZSlVfXtfv74q3+eEMATKAAOH/+fA0cOFDbtm07bQCsqqrSOeecozlz5oRvy8/Pl8fj0erVqzt8ThrIDNsXPtvrBz0gxf8cVNTUy795n578aItufmlZm4EwedISjZqzWR+sD6j08LFW94/3+mMd+3eCBMDy8nL17NlT69atU3Fx8WkDYGZmpjwejw4fPtzq9l69emny5MkdPi8NZIbtC5/t9YMekBJvDg7VNihja5me/nibbp2yXL1TTg6EQ5/L1O9nb9LsdXtUUFadUPXHGvbvBAiAoVBIt9xyi8aPHy9JHQqAM2fOVNeuXU+6fdCgQRo1atQp71dfX6/q6urwEQgErG8gExJt4e8s2+sHPSAl/hxUHWvU4k/KNSHtE932ygr1GZ3W5quEXp9f1cecfaAEJyMAxnAA9Pl88ng87R75+fmaMmWKhg4dqubm4xfpNBkAU1NT2xyHzQ1kQqIv/Kdje/2gByT75uBIfZOyCvbrufR8Df/zSvU9IRD+5r0NCgZDbg8xoRAAYzgAVlRUKD8/v92joaFBt99+u84++2x16dIlfHg8HnXp0kX33ntvm7/7TP8EzCuA0WHbwv9ZttcPekBiDiqP1LV6FXDMh3kKhQiBkUIAjOEA2FElJSXasmVL+FiwYIE8Ho/mzp2rQCDQ5n1aPgQyd+7c8G0FBQV8CCRG2L7w214/6AGJOTix/pb3C05M+4QQGCHs3wkQAD+rrT8Bl5aWasCAAcrJyQnfNmLECPXq1UtLlixRbm6ukpKSlJSU1Klz0UBmsPDbXT/oAYk5OLH+d7KLw/97yuIdbg8tIbB/WxIAW27LysoK39ZyIegLL7xQ3bt31/Dhw1VWVtapc9FAZrDw210/6AGJOfhs/W+s2BX+/2+s2OX28OIe+3cCBsBoooHMYOG3u37QAxJz0Fb9Ly/aEb5tVk6JyyOMb+zfBEBHaCAzWPjtrh/0gMQctFV/KBTShLRPwu8L/GhjqcujjF/s3wRAR2ggM1j47a4f9IDEHJyq/lAopDEf5snr86vP6DQt3Na577DHcezfBEBHaCAzWPjtrh/0gMQctFd/MBjSo3/fKK/Pr/5j5mvFjkqXRhm/2L8JgI7QQGaw8NtdP+gBiTk4Xf1NzUH96t118vr8GvhEunJ3H3RhlPGL/ZsA6AgNZAYLv931gx6QmIOO1F/f1Kx73syR1+fXNakZ2lJaFeVRxi/2bwKgIzSQGSz8dtcPekBiDjpa/7GGZv14Wra8Pr++Pm6hdpTXRHGU8Yv9mwDoCA1kBgu/3fWDHpCYg87UX1PXqB++skJen1/fnLBIJQeORmmU8Yv9mwDoCA1kBgu/3fWDHpCYg87Wf6i2Qd+dvExen19Dn8vUvqpjURhl/GL/JgA6QgOZwcJvd/2gByTm4Ezq319dp+RJS+T1+XXjC1mqPFJveJTxi/2bAOgIDWQGC7/d9YMekJiDM60/cOiokiYultfn1y0vL1fV0UaDo4xf7N8EQEdoIDNY+O2uH/SAxBw4qX9nxRFdP36RvD6//t+fV+pIvX3zdzrs3wRAR2ggM1j47a4f9IDEHDitP7+sWl/7wwJ5fX79ZPpq1TU2Gxhl/GL/JgA6QgOZwcJvd/2gByTmIBL1b9xzWF95Ml1en1+/fGutGpqCER5l/GL/JgA6QgOZwcJvd/2gByTmIFL1r955QFeOnS+vz6+RM9erORiK4CjjF/s3AdARGsgMFn676wc9IDEHkaw/q2C/+o1Jk9fn1+NzNilICGT/FgHQERrIDBZ+u+sHPSAxB5Guf37ePl2Rcvz3pc7bqlDI7hDI/k0AdIQGMoOF3+76QQ9IzIGJ+ufmBsK/8/mMgoj8znjF/k0AdIQGMoOF3+76QQ9IzIGp+t/NLg7/3qlZRRH7vfGG/ZsA6AgNZAYLv931gx6QmAOT9U/NKgr/7neyiyP6u+MF+zcB0BEayAwWfrvrBz0gMQem638+oyD8++fkBiL++2Md+zcB0BEayAwWfrvrBz0gMQem6w+FQkqdt1Ven19XpPiVlrcv4ueIZezfBEBHaCAzWPjtrh/0gMQcRKP+YDCkx+dsktfnV78xaVqSv9/IeWIR+zcB0BEayAwWfrvrBz0gMQfRqr85GNLDM9fL6/PryrHzlV10wNi5Ygn7NwHQERrIDBZ+u+sHPSAxB9Gsv7E5qPvfWiuvz6+vPJmujXsOGz1fLGD/JgA6QgOZwcJvd/2gByTmINr11zU266evrZbX59fX/rBAn+xL7H2N/ZsA6AgNZAYLv931gx6QmAM36q+tb9LwP6+U1+fX9eMXamfFkaic1w3s3wRAR2ggM1j47a4f9IDEHLhVf9WxRn3v5eXy+vxKmrhYgUNHo3buaGL/JgA6QgOZwcJvd/2gByTmwM36K4/U6z9fyJLX59ewSUu0v7ouquePBvZvAqAjNJAZLPx21w96QGIO3K5/X9UxDX0uU16fX/81eakO1jZEfQwmsX8TAB2hgcxwe+Fzm+31gx6QmINYqL/kwFF9c8IieX1+/eBPK1Rd1+jKOExg/yYAOkIDmRELCx/gJp4DzEGs1F+4v0ZfH7dQXp9fP5q2KmEeC/ZvAqAjNJAZsbLwAW7hOcAcxFL9W0qrdE1qhrw+v+5+Y43qm5pdHU8ksH8TAB2hgcyIpYUPcAPPAeYg1urP3X1QVz2ZLq/PrwffWafG5qDbQ3KE/ZsA6AgNZEasLXxAtPEcYA5isf6VhZXqP3a+vD6/Hpm1QcFgyO0hnTH2bwKgIzSQGbG48AHRxHOAOYjV+hdtK1ff0Wny+vwa82GeQqH4DIHs3wRAR2ggM2J14QOihecAcxDL9c/btFe9U46PbULaJ3EZAtm/CYCO0EBmxPLCB0QDzwHmINbrn5VTEh7fy4t2uD2cTmP/JgA6QgOZEesLH2AazwHmIB7qf2PFrvAYX1++0+3hdAr7NwHQERrIjHhY+ACTeA4wB/FS/5TFO8LjfC+nxO3hdBj7NwHQERrIjHhZ+ABTeA4wB/FSfygU0sS0T+T1+dU7xa+PNpa6PaQOYf8mADpCA5kRLwsfYArPAeYgnuoPhUIa+488eX1+9RmdpgVby9we0mmxfxMAHaGBzIinhQ8wgecAcxBv9QeDIf3u7xvl9fnVf8x8Ld9R4faQ2sX+TQB0hAYyI94WPiDSeA4wB/FYf1NzUA+9myuvz6+BT6RrbfFBt4d0SuzfBEBHaCAAJsTj5h9pts9BvNZf39Sse9/Mkdfn1zVPZSgvUOX2kNrE/k0AdIQGAmBCvG7+kWT7HMRz/ccamvXjadny+vy67ukF2lFe4/aQTsL+TQB0hAYCYEI8b/6RYvscxHv9NXWN+uErK+T1+TXomUXafaDW7SG1wv6dYAGwvr5e1157rTwejzZu3NjuzyYnJ8vj8bQ6HnrooU6djwYCYEK8b/6RYPscJEL9h2ob9N3Jy+T1+TXk2Uztqzrm9pDC2L8TLAD+9re/1fe+970OB8AHH3xQZWVl4aOzjUADATAhETZ/p2yfg0Spf39NnZInLZHX59eNL2Sp8ki920OSxP4tJVAAnD9/vgYOHKht27Z1OAA+8sgjjs5JAwEwIVE2fydsn4NEqj9w6KiSJi6W1+fXLS8vV9XRRreHxP6tBAmA5eXl6tmzp9atW6fi4uIOB8CLL75YF110ka6++mqlpKTo6NGjnTovDQTAhETa/M+U7XOQaPXvqqzV9eMXyevz6/ZXV+pIvbs1sX8nQAAMhUK65ZZbNH78eEnqcACcPn26MjIylJeXpxkzZqhnz54aPnx4u/epr69XdXV1+AgEAtY3EIDIS7TN/0zYPgeJWH9+WbWufXqBvD6/7pqerbrGZtfGQgCM4QDo8/lO+pDGZ4/8/HxNmTJFQ4cOVXPz8UbqaAD8rMzMTHk8HhUVFZ3yZ1JTU9sch80NBCDyEnHz7yzb5yBR69+057CufipDXp9f9/01Rw1NQVfGQQCM4QBYUVGh/Pz8do+GhgbdfvvtOvvss9WlS5fw4fF41KVLF917770dPl9tba08Ho8yMjJO+TO8AgggGhJ18+8M2+cgketfs/OABjwxX16fXyNnrFdTc/RDIAEwhgNgR5WUlGjLli3hY8GCBfJ4PJo7d64CgUCHf8/KlSvl8Xi0efPmDt+HBgJgQiJv/h1l+xwkev1ZBfvVb0yavD6/Hnt/k4LBUFTPz/6dAAHws9r6E3BpaakGDBignJwcSVJRUZHGjRun3NxcFRcXa968eerTp4+GDRvWqXPRQABMSPTNvyNsnwMb6p+ft09XpByvMXXeVoVC0QuB7N+WBMCW27KysiRJe/bs0bBhw9SjRw9169ZN/fr10+OPP851AAHEBBs2/9OxfQ5sqX9ubiBc56SM/Kidl/07AQNgNNFAAEywZfNvj+1zYFP972YXh2v9c1ZhVM7J/k0AdIQGAmCCTZv/qdg+B7bVP21pUbjet1cVGz8f+zcB0BEaCADMsC0AfZaN9b+woCBc8/vr9hg9F/s3AdARGggAzLAxAJ3IxvpDoZD+8PFWeX1+XZHil3/zPmPnYv8mADpCAwGAGTYGoBPZWn8oFNKoOZvl9fnVd3SaluTvN3Ie9m8CoCM0EACYYWsAamFz/c3BkP73vQ3y+vy6cux8ZRcdiPg52L8JgI7QQABghs0BSKL+xuagHnh7rbw+v1I+6PgXNHQU+zcB0BEaCADMsD0A2V6/JNU1NuvNFbvUbOBbQti/CYCO0EAAYIbtAcj2+k1j/yYAOkIDAYAZtgcg2+s3jf2bAOgIDQQAZtgegGyv3zT2bwKgIzQQAJhhewCyvX7T2L8JgI7QQABghu0ByPb6TWP/JgA6QgMBgBm2ByDb6zeN/ZsA6AgNBABm2B6AbK/fNPZvAqAjNBAAmGF7ALK9ftPYvwmAjtBAAGCG7QHI9vpNY/8mADpCAwGAGbYHINvrN439mwDoCA0EAGbYHoBsr9809m8CoCM0EACYYXsAsr1+09i/CYCO0EAAYIbtAcj2+k1j/yYAOkIDAQBMIACaxf5NAHSEBgIAmEAANIv9mwDoCA0EADCBAGgW+zcB0BEaCABgAgHQLPZvAqAjNBAAwAQCoFns3wRAR2ggAIAJBECz2L8JgI7QQAAAEwiAZrF/EwAdoYEAACYQAM1i/yYAOkIDAQBMIACaxf5NAHSEBgIAmEAANIv9mwDoCA0EADCBAGgW+zcB0BEaCABgAgHQLPZvAqAjNBAAwAQCoFns3wRAR2ggAIAJBECz2L8JgI7QQAAAEwiAZrF/EwAdoYEAACYQAM1i/yYAOkIDAQBMIACaxf5NAHSEBgIAmEAANIv9mwDoCA0EADCBAGgW+zcB0BEaCABgAgHQLPZvAqAjNBAAwAQCoFns3wRAR2ggAIAJBECz2L8JgI7QQAAAEwiAZrF/EwAdoYEAAIg/7N8EQEdoIAAA4g/7NwHQERoIAID4w/5NAHSEBgIAIP6wfydIAPR6vfJ4PK2OZ599tt371NXVaeTIkerRo4fOO+883XHHHSovL+/UeWkgAADiD/t3AgXAcePGqaysLHzU1ta2e58RI0bo8ssvV2ZmpnJzczV48GANGTKkU+elgQAAiD/s3wkUAF966aUO/3xVVZXOOecczZkzJ3xbfn6+PB6PVq9e3eHfQwMBABB/2L8TKAD++7//u3r06KHrrrtOkyZNUlPTqa+blJmZKY/Ho8OHD7e6vVevXpo8efIp71dfX6/q6urwEQgErG8gAADiDQEwQQLgiy++qKysLG3evFnTpk3Tv/3bv+l3v/vdKX9+5syZ6tq160m3Dxo0SKNGjTrl/VJTU096r6HtDQQAQLwhAMZwAPT5fG2GrROP/Pz8Nu/75ptv6nOf+5zq6+vb/PczDYC8AggAQPwjAMZwAKyoqFB+fn67R0NDQ5v33bp1qzwejwoKCtr89zP9E/Bn0UAAAMQf9u8YDoBOzJgxQ2effbYOHTrU5r+3fAhk7ty54dsKCgr4EAgAABZg/06AAJidna2XXnpJmzZt0s6dOzVjxgxdcskluvfee8M/U1paqgEDBignJyd824gRI9SrVy8tWbJEubm5SkpKUlJSUqfOTQMBABB/2L8TIACuX79e3/rWt3TBBRfo3HPP1VVXXaWJEye2ev9fcXGxPB6PsrKywre1XAj6wgsvVPfu3TV8+HCVlZV16tw0EAAA8Yf9OwECoJtoIAAA4g/7NwHQERoIAID4w/5NAHSkqqpKHo9HgUCg1eVhODg4ODg4OGL3aLmMW1VVldtRwjUEQAdaGoiDg4ODg4Mj/o5AIOB2lHANAdCBYDCoQCCgqqoqY/91Yuuri9Rvd/3MAfUzB9Rvsv6qqioFAgEFg0G3o4RrCIAxqrra7vcnUL/d9UvMge31S8wB9dtdv2kEwBhle+NTv931S8yB7fVLzAH1212/aQTAGGV741O/3fVLzIHt9UvMAfXbXb9pBMAYVV9fr9TU1FYXtLYJ9dtdv8Qc2F6/xBxQv931m0YABAAAsAwBEAAAwDIEQAAAAMsQAAEAACxDAAQAALAMATCGTJw4UTfccIM+//nP65JLLtHtt9+ugoICt4cVVVOnTtVXv/pVfeELX9AXvvAFDR48WPPnz3d7WK559tln5fF49Mgjj7g9lKhITU096auaBgwY4Pawoq60tFQ///nP1aNHD5177rm65pprtG7dOreHFRVer7fNr+waOXKk20OLmubmZj3xxBPq3bu3zj33XPXp00fjxo1TKBRye2hRU1NTo0ceeUS9evXSueeeq6SkJK1du9btYSUUAmAMufnmm/XWW29p69atsA7TOQAABmdJREFU2rRpk2699Vb16tVLtbW1bg8taj7++GOlpaVpx44d2r59u8aMGaNzzjlHW7dudXtoUbd27Vr17t1bX/va16wKgFdffbXKysrCR2VlpdvDiqpDhw7J6/XqvvvuU05Ojnbt2qUFCxaoqKjI7aFFRUVFRavHf9GiRfJ4PMrKynJ7aFEzYcIEXXTRRfL7/SouLtacOXP0+c9/XlOmTHF7aFFz55136itf+YqWLVumwsJCpaam6vzzz1dpaanbQ0sYBMAYVlFRIY/Ho2XLlrk9FFddeOGFeuONN9weRlQdOXJE/fv316JFi5ScnGxVALz22mvdHoarfD6fvv3tb7s9jJjxyCOPqG/fvla9+vX9739f999/f6vb7rjjDv385z93aUTRdezYMXXp0kV+v7/V7d/4xjc0duxYl0aVeAiAMaywsFAej0dbtmxxeyiuaG5u1qxZs9S1a1dt27bN7eFE1b333qtHH31UkqwLgN27d9cXv/hFXXHFFfrZz36mkpISt4cVVVdddZUeffRR/ehHP9Ill1yi6667Tq+99prbw3JFQ0ODLrroIk2YMMHtoUTVhAkT5PV6tX37dknSpk2bdOmll2rGjBkujyw6ampq5PF4tHjx4la3Dx06VMnJye4MKgERAGNUMBjU97//fQ0dOtTtoURdXl6ezjvvPHXp0kUXXHCB0tLS3B5SVM2aNUvXXHON6urqJNkVAOfPn6/3339fmzdvVkZGhpKSktSrVy/V1NS4PbSo6datm7p166bRo0drw4YNmj59us4991y9/fbbbg8t6mbPnq0uXbpo7969bg8lqoLBoHw+n8466yx97nOf01lnnaWJEye6PayoSkpKUnJysvbu3avm5mb97W9/09lnn60rr7zS7aElDAJgjBoxYoS8Xq8CgYDbQ4m6hoYGFRYWKjc3VykpKbr44outeQVwz549uvTSS7V58+bwbTYFwM86fPiwzj//fKveAnDOOecoKSmp1W2/+c1vNHjwYJdG5J7vfve7+sEPfuD2MKJu1qxZ+vKXv6xZs2YpLy9P7777rnr06GHVfwQUFRVp2LBh8ng86tKliwYNGqSf//znGjhwoNtDSxgEwBj08MMP68tf/rJ27drl9lBiwk033aRf/epXbg8jKv7xj3+EF7yWw+Px6KyzzlKXLl3U3Nzs9hCj7oYbblBKSorbw4iaXr166YEHHmh129SpU/WlL33JpRG5Y/fu3Tr77LP10UcfuT2UqPvyl7+sV199tdVt48ePt/IT8bW1tdq3b5+k4x8MufXWW10eUeIgAMaQUCikhx9+WF/60pe0Y8cOt4cTM2688Ub94he/cHsYUVFTU6MtW7a0Om644QbdfffdVr4X9MiRI7rwwgut+vTjT3/605M+BPLoo4+e9KpgoktNTdVll12mpqYmt4cSdT169NDUqVNb3TZx4kT179/fpRG579ChQ7rgggs0ffp0t4eSMAiAMeTXv/61LrjgAi1durTVZRCOHTvm9tCiJiUlRcuWLVNxcbHy8vKUkpKis846SwsXLnR7aK6x6U/Ajz32mJYuXari4mKtWrVK3/nOd3TxxReroqLC7aFFzdq1a/W5z31OEyZMUGFhoWbOnKnu3btb8wEA6fh74Hr16iWfz+f2UFzxi1/8Qj179gxfBubDDz/UxRdfrFGjRrk9tKjJyMhQenq6du3apYULF+raa6/Vt771LTU2Nro9tIRBAIwhbV381OPx6K233nJ7aFFz//33y+v1qmvXrrrkkkt00003WR3+JLsC4F133aUvfvGL6tq1q3r27Km77rrLmuvfneif//ynrrnmGnXr1k0DBw607lPACxYskMfjCX8K1jafvQhynz59NHbsWDU0NLg9tKiZPXu2+vTpo65du+qyyy7Tww8/rKqqKreHlVAIgAAAAJYhAAIAAFiGAAgAAGAZAiAAAIBlCIAAAACWIQACAABYhgAIAABgGQIgAACAZQiAAAAAliEAAgAAWIYACAAAYBkCIAAAgGUIgAAAAJYhAAIAAFiGAAgAAGAZAiAAAIBlCIAAAACWIQACAABYhgAIAABgGQIgAACAZQiAAAAAliEAAgAAWIYACAAAYBkCIAAAgGUIgAAAAJYhAAIAAFiGAAgAAGAZAiAAAIBlCIAAAACWIQACAABYhgAIAABgGQIgAACAZf5/FMAcay0c6VMAAAAASUVORK5CYII=\" width=\"640\">"
      ],
      "text/plain": [
       "<IPython.core.display.HTML object>"
      ]
     },
     "metadata": {},
     "output_type": "display_data"
    },
    {
     "name": "stdout",
     "output_type": "stream",
     "text": [
      "k = 2\n",
      "2nd k = 5\n",
      "CPU times: user 24 ms, sys: 0 ns, total: 24 ms\n",
      "Wall time: 42.9 ms\n"
     ]
    }
   ],
   "source": [
    "%%time\n",
    "\n",
    "# Plot data\n",
    "plt.figure()\n",
    "plt.errorbar(range(2,len(coherence)+2), coherence_med, yerr=coherence_std)\n",
    "plt.show()\n",
    "\n",
    "# Get best k\n",
    "# Get best k\n",
    "print(\"k = %d\" % coherence_k)\n",
    "print(\"2nd k = %d\" % coherence_k2)"
   ]
  },
  {
   "cell_type": "code",
   "execution_count": 67,
   "metadata": {},
   "outputs": [
    {
     "data": {
      "application/javascript": [
       "/* Put everything inside the global mpl namespace */\n",
       "window.mpl = {};\n",
       "\n",
       "\n",
       "mpl.get_websocket_type = function() {\n",
       "    if (typeof(WebSocket) !== 'undefined') {\n",
       "        return WebSocket;\n",
       "    } else if (typeof(MozWebSocket) !== 'undefined') {\n",
       "        return MozWebSocket;\n",
       "    } else {\n",
       "        alert('Your browser does not have WebSocket support.' +\n",
       "              'Please try Chrome, Safari or Firefox ≥ 6. ' +\n",
       "              'Firefox 4 and 5 are also supported but you ' +\n",
       "              'have to enable WebSockets in about:config.');\n",
       "    };\n",
       "}\n",
       "\n",
       "mpl.figure = function(figure_id, websocket, ondownload, parent_element) {\n",
       "    this.id = figure_id;\n",
       "\n",
       "    this.ws = websocket;\n",
       "\n",
       "    this.supports_binary = (this.ws.binaryType != undefined);\n",
       "\n",
       "    if (!this.supports_binary) {\n",
       "        var warnings = document.getElementById(\"mpl-warnings\");\n",
       "        if (warnings) {\n",
       "            warnings.style.display = 'block';\n",
       "            warnings.textContent = (\n",
       "                \"This browser does not support binary websocket messages. \" +\n",
       "                    \"Performance may be slow.\");\n",
       "        }\n",
       "    }\n",
       "\n",
       "    this.imageObj = new Image();\n",
       "\n",
       "    this.context = undefined;\n",
       "    this.message = undefined;\n",
       "    this.canvas = undefined;\n",
       "    this.rubberband_canvas = undefined;\n",
       "    this.rubberband_context = undefined;\n",
       "    this.format_dropdown = undefined;\n",
       "\n",
       "    this.image_mode = 'full';\n",
       "\n",
       "    this.root = $('<div/>');\n",
       "    this._root_extra_style(this.root)\n",
       "    this.root.attr('style', 'display: inline-block');\n",
       "\n",
       "    $(parent_element).append(this.root);\n",
       "\n",
       "    this._init_header(this);\n",
       "    this._init_canvas(this);\n",
       "    this._init_toolbar(this);\n",
       "\n",
       "    var fig = this;\n",
       "\n",
       "    this.waiting = false;\n",
       "\n",
       "    this.ws.onopen =  function () {\n",
       "            fig.send_message(\"supports_binary\", {value: fig.supports_binary});\n",
       "            fig.send_message(\"send_image_mode\", {});\n",
       "            if (mpl.ratio != 1) {\n",
       "                fig.send_message(\"set_dpi_ratio\", {'dpi_ratio': mpl.ratio});\n",
       "            }\n",
       "            fig.send_message(\"refresh\", {});\n",
       "        }\n",
       "\n",
       "    this.imageObj.onload = function() {\n",
       "            if (fig.image_mode == 'full') {\n",
       "                // Full images could contain transparency (where diff images\n",
       "                // almost always do), so we need to clear the canvas so that\n",
       "                // there is no ghosting.\n",
       "                fig.context.clearRect(0, 0, fig.canvas.width, fig.canvas.height);\n",
       "            }\n",
       "            fig.context.drawImage(fig.imageObj, 0, 0);\n",
       "        };\n",
       "\n",
       "    this.imageObj.onunload = function() {\n",
       "        fig.ws.close();\n",
       "    }\n",
       "\n",
       "    this.ws.onmessage = this._make_on_message_function(this);\n",
       "\n",
       "    this.ondownload = ondownload;\n",
       "}\n",
       "\n",
       "mpl.figure.prototype._init_header = function() {\n",
       "    var titlebar = $(\n",
       "        '<div class=\"ui-dialog-titlebar ui-widget-header ui-corner-all ' +\n",
       "        'ui-helper-clearfix\"/>');\n",
       "    var titletext = $(\n",
       "        '<div class=\"ui-dialog-title\" style=\"width: 100%; ' +\n",
       "        'text-align: center; padding: 3px;\"/>');\n",
       "    titlebar.append(titletext)\n",
       "    this.root.append(titlebar);\n",
       "    this.header = titletext[0];\n",
       "}\n",
       "\n",
       "\n",
       "\n",
       "mpl.figure.prototype._canvas_extra_style = function(canvas_div) {\n",
       "\n",
       "}\n",
       "\n",
       "\n",
       "mpl.figure.prototype._root_extra_style = function(canvas_div) {\n",
       "\n",
       "}\n",
       "\n",
       "mpl.figure.prototype._init_canvas = function() {\n",
       "    var fig = this;\n",
       "\n",
       "    var canvas_div = $('<div/>');\n",
       "\n",
       "    canvas_div.attr('style', 'position: relative; clear: both; outline: 0');\n",
       "\n",
       "    function canvas_keyboard_event(event) {\n",
       "        return fig.key_event(event, event['data']);\n",
       "    }\n",
       "\n",
       "    canvas_div.keydown('key_press', canvas_keyboard_event);\n",
       "    canvas_div.keyup('key_release', canvas_keyboard_event);\n",
       "    this.canvas_div = canvas_div\n",
       "    this._canvas_extra_style(canvas_div)\n",
       "    this.root.append(canvas_div);\n",
       "\n",
       "    var canvas = $('<canvas/>');\n",
       "    canvas.addClass('mpl-canvas');\n",
       "    canvas.attr('style', \"left: 0; top: 0; z-index: 0; outline: 0\")\n",
       "\n",
       "    this.canvas = canvas[0];\n",
       "    this.context = canvas[0].getContext(\"2d\");\n",
       "\n",
       "    var backingStore = this.context.backingStorePixelRatio ||\n",
       "\tthis.context.webkitBackingStorePixelRatio ||\n",
       "\tthis.context.mozBackingStorePixelRatio ||\n",
       "\tthis.context.msBackingStorePixelRatio ||\n",
       "\tthis.context.oBackingStorePixelRatio ||\n",
       "\tthis.context.backingStorePixelRatio || 1;\n",
       "\n",
       "    mpl.ratio = (window.devicePixelRatio || 1) / backingStore;\n",
       "\n",
       "    var rubberband = $('<canvas/>');\n",
       "    rubberband.attr('style', \"position: absolute; left: 0; top: 0; z-index: 1;\")\n",
       "\n",
       "    var pass_mouse_events = true;\n",
       "\n",
       "    canvas_div.resizable({\n",
       "        start: function(event, ui) {\n",
       "            pass_mouse_events = false;\n",
       "        },\n",
       "        resize: function(event, ui) {\n",
       "            fig.request_resize(ui.size.width, ui.size.height);\n",
       "        },\n",
       "        stop: function(event, ui) {\n",
       "            pass_mouse_events = true;\n",
       "            fig.request_resize(ui.size.width, ui.size.height);\n",
       "        },\n",
       "    });\n",
       "\n",
       "    function mouse_event_fn(event) {\n",
       "        if (pass_mouse_events)\n",
       "            return fig.mouse_event(event, event['data']);\n",
       "    }\n",
       "\n",
       "    rubberband.mousedown('button_press', mouse_event_fn);\n",
       "    rubberband.mouseup('button_release', mouse_event_fn);\n",
       "    // Throttle sequential mouse events to 1 every 20ms.\n",
       "    rubberband.mousemove('motion_notify', mouse_event_fn);\n",
       "\n",
       "    rubberband.mouseenter('figure_enter', mouse_event_fn);\n",
       "    rubberband.mouseleave('figure_leave', mouse_event_fn);\n",
       "\n",
       "    canvas_div.on(\"wheel\", function (event) {\n",
       "        event = event.originalEvent;\n",
       "        event['data'] = 'scroll'\n",
       "        if (event.deltaY < 0) {\n",
       "            event.step = 1;\n",
       "        } else {\n",
       "            event.step = -1;\n",
       "        }\n",
       "        mouse_event_fn(event);\n",
       "    });\n",
       "\n",
       "    canvas_div.append(canvas);\n",
       "    canvas_div.append(rubberband);\n",
       "\n",
       "    this.rubberband = rubberband;\n",
       "    this.rubberband_canvas = rubberband[0];\n",
       "    this.rubberband_context = rubberband[0].getContext(\"2d\");\n",
       "    this.rubberband_context.strokeStyle = \"#000000\";\n",
       "\n",
       "    this._resize_canvas = function(width, height) {\n",
       "        // Keep the size of the canvas, canvas container, and rubber band\n",
       "        // canvas in synch.\n",
       "        canvas_div.css('width', width)\n",
       "        canvas_div.css('height', height)\n",
       "\n",
       "        canvas.attr('width', width * mpl.ratio);\n",
       "        canvas.attr('height', height * mpl.ratio);\n",
       "        canvas.attr('style', 'width: ' + width + 'px; height: ' + height + 'px;');\n",
       "\n",
       "        rubberband.attr('width', width);\n",
       "        rubberband.attr('height', height);\n",
       "    }\n",
       "\n",
       "    // Set the figure to an initial 600x600px, this will subsequently be updated\n",
       "    // upon first draw.\n",
       "    this._resize_canvas(600, 600);\n",
       "\n",
       "    // Disable right mouse context menu.\n",
       "    $(this.rubberband_canvas).bind(\"contextmenu\",function(e){\n",
       "        return false;\n",
       "    });\n",
       "\n",
       "    function set_focus () {\n",
       "        canvas.focus();\n",
       "        canvas_div.focus();\n",
       "    }\n",
       "\n",
       "    window.setTimeout(set_focus, 100);\n",
       "}\n",
       "\n",
       "mpl.figure.prototype._init_toolbar = function() {\n",
       "    var fig = this;\n",
       "\n",
       "    var nav_element = $('<div/>')\n",
       "    nav_element.attr('style', 'width: 100%');\n",
       "    this.root.append(nav_element);\n",
       "\n",
       "    // Define a callback function for later on.\n",
       "    function toolbar_event(event) {\n",
       "        return fig.toolbar_button_onclick(event['data']);\n",
       "    }\n",
       "    function toolbar_mouse_event(event) {\n",
       "        return fig.toolbar_button_onmouseover(event['data']);\n",
       "    }\n",
       "\n",
       "    for(var toolbar_ind in mpl.toolbar_items) {\n",
       "        var name = mpl.toolbar_items[toolbar_ind][0];\n",
       "        var tooltip = mpl.toolbar_items[toolbar_ind][1];\n",
       "        var image = mpl.toolbar_items[toolbar_ind][2];\n",
       "        var method_name = mpl.toolbar_items[toolbar_ind][3];\n",
       "\n",
       "        if (!name) {\n",
       "            // put a spacer in here.\n",
       "            continue;\n",
       "        }\n",
       "        var button = $('<button/>');\n",
       "        button.addClass('ui-button ui-widget ui-state-default ui-corner-all ' +\n",
       "                        'ui-button-icon-only');\n",
       "        button.attr('role', 'button');\n",
       "        button.attr('aria-disabled', 'false');\n",
       "        button.click(method_name, toolbar_event);\n",
       "        button.mouseover(tooltip, toolbar_mouse_event);\n",
       "\n",
       "        var icon_img = $('<span/>');\n",
       "        icon_img.addClass('ui-button-icon-primary ui-icon');\n",
       "        icon_img.addClass(image);\n",
       "        icon_img.addClass('ui-corner-all');\n",
       "\n",
       "        var tooltip_span = $('<span/>');\n",
       "        tooltip_span.addClass('ui-button-text');\n",
       "        tooltip_span.html(tooltip);\n",
       "\n",
       "        button.append(icon_img);\n",
       "        button.append(tooltip_span);\n",
       "\n",
       "        nav_element.append(button);\n",
       "    }\n",
       "\n",
       "    var fmt_picker_span = $('<span/>');\n",
       "\n",
       "    var fmt_picker = $('<select/>');\n",
       "    fmt_picker.addClass('mpl-toolbar-option ui-widget ui-widget-content');\n",
       "    fmt_picker_span.append(fmt_picker);\n",
       "    nav_element.append(fmt_picker_span);\n",
       "    this.format_dropdown = fmt_picker[0];\n",
       "\n",
       "    for (var ind in mpl.extensions) {\n",
       "        var fmt = mpl.extensions[ind];\n",
       "        var option = $(\n",
       "            '<option/>', {selected: fmt === mpl.default_extension}).html(fmt);\n",
       "        fmt_picker.append(option)\n",
       "    }\n",
       "\n",
       "    // Add hover states to the ui-buttons\n",
       "    $( \".ui-button\" ).hover(\n",
       "        function() { $(this).addClass(\"ui-state-hover\");},\n",
       "        function() { $(this).removeClass(\"ui-state-hover\");}\n",
       "    );\n",
       "\n",
       "    var status_bar = $('<span class=\"mpl-message\"/>');\n",
       "    nav_element.append(status_bar);\n",
       "    this.message = status_bar[0];\n",
       "}\n",
       "\n",
       "mpl.figure.prototype.request_resize = function(x_pixels, y_pixels) {\n",
       "    // Request matplotlib to resize the figure. Matplotlib will then trigger a resize in the client,\n",
       "    // which will in turn request a refresh of the image.\n",
       "    this.send_message('resize', {'width': x_pixels, 'height': y_pixels});\n",
       "}\n",
       "\n",
       "mpl.figure.prototype.send_message = function(type, properties) {\n",
       "    properties['type'] = type;\n",
       "    properties['figure_id'] = this.id;\n",
       "    this.ws.send(JSON.stringify(properties));\n",
       "}\n",
       "\n",
       "mpl.figure.prototype.send_draw_message = function() {\n",
       "    if (!this.waiting) {\n",
       "        this.waiting = true;\n",
       "        this.ws.send(JSON.stringify({type: \"draw\", figure_id: this.id}));\n",
       "    }\n",
       "}\n",
       "\n",
       "\n",
       "mpl.figure.prototype.handle_save = function(fig, msg) {\n",
       "    var format_dropdown = fig.format_dropdown;\n",
       "    var format = format_dropdown.options[format_dropdown.selectedIndex].value;\n",
       "    fig.ondownload(fig, format);\n",
       "}\n",
       "\n",
       "\n",
       "mpl.figure.prototype.handle_resize = function(fig, msg) {\n",
       "    var size = msg['size'];\n",
       "    if (size[0] != fig.canvas.width || size[1] != fig.canvas.height) {\n",
       "        fig._resize_canvas(size[0], size[1]);\n",
       "        fig.send_message(\"refresh\", {});\n",
       "    };\n",
       "}\n",
       "\n",
       "mpl.figure.prototype.handle_rubberband = function(fig, msg) {\n",
       "    var x0 = msg['x0'] / mpl.ratio;\n",
       "    var y0 = (fig.canvas.height - msg['y0']) / mpl.ratio;\n",
       "    var x1 = msg['x1'] / mpl.ratio;\n",
       "    var y1 = (fig.canvas.height - msg['y1']) / mpl.ratio;\n",
       "    x0 = Math.floor(x0) + 0.5;\n",
       "    y0 = Math.floor(y0) + 0.5;\n",
       "    x1 = Math.floor(x1) + 0.5;\n",
       "    y1 = Math.floor(y1) + 0.5;\n",
       "    var min_x = Math.min(x0, x1);\n",
       "    var min_y = Math.min(y0, y1);\n",
       "    var width = Math.abs(x1 - x0);\n",
       "    var height = Math.abs(y1 - y0);\n",
       "\n",
       "    fig.rubberband_context.clearRect(\n",
       "        0, 0, fig.canvas.width, fig.canvas.height);\n",
       "\n",
       "    fig.rubberband_context.strokeRect(min_x, min_y, width, height);\n",
       "}\n",
       "\n",
       "mpl.figure.prototype.handle_figure_label = function(fig, msg) {\n",
       "    // Updates the figure title.\n",
       "    fig.header.textContent = msg['label'];\n",
       "}\n",
       "\n",
       "mpl.figure.prototype.handle_cursor = function(fig, msg) {\n",
       "    var cursor = msg['cursor'];\n",
       "    switch(cursor)\n",
       "    {\n",
       "    case 0:\n",
       "        cursor = 'pointer';\n",
       "        break;\n",
       "    case 1:\n",
       "        cursor = 'default';\n",
       "        break;\n",
       "    case 2:\n",
       "        cursor = 'crosshair';\n",
       "        break;\n",
       "    case 3:\n",
       "        cursor = 'move';\n",
       "        break;\n",
       "    }\n",
       "    fig.rubberband_canvas.style.cursor = cursor;\n",
       "}\n",
       "\n",
       "mpl.figure.prototype.handle_message = function(fig, msg) {\n",
       "    fig.message.textContent = msg['message'];\n",
       "}\n",
       "\n",
       "mpl.figure.prototype.handle_draw = function(fig, msg) {\n",
       "    // Request the server to send over a new figure.\n",
       "    fig.send_draw_message();\n",
       "}\n",
       "\n",
       "mpl.figure.prototype.handle_image_mode = function(fig, msg) {\n",
       "    fig.image_mode = msg['mode'];\n",
       "}\n",
       "\n",
       "mpl.figure.prototype.updated_canvas_event = function() {\n",
       "    // Called whenever the canvas gets updated.\n",
       "    this.send_message(\"ack\", {});\n",
       "}\n",
       "\n",
       "// A function to construct a web socket function for onmessage handling.\n",
       "// Called in the figure constructor.\n",
       "mpl.figure.prototype._make_on_message_function = function(fig) {\n",
       "    return function socket_on_message(evt) {\n",
       "        if (evt.data instanceof Blob) {\n",
       "            /* FIXME: We get \"Resource interpreted as Image but\n",
       "             * transferred with MIME type text/plain:\" errors on\n",
       "             * Chrome.  But how to set the MIME type?  It doesn't seem\n",
       "             * to be part of the websocket stream */\n",
       "            evt.data.type = \"image/png\";\n",
       "\n",
       "            /* Free the memory for the previous frames */\n",
       "            if (fig.imageObj.src) {\n",
       "                (window.URL || window.webkitURL).revokeObjectURL(\n",
       "                    fig.imageObj.src);\n",
       "            }\n",
       "\n",
       "            fig.imageObj.src = (window.URL || window.webkitURL).createObjectURL(\n",
       "                evt.data);\n",
       "            fig.updated_canvas_event();\n",
       "            fig.waiting = false;\n",
       "            return;\n",
       "        }\n",
       "        else if (typeof evt.data === 'string' && evt.data.slice(0, 21) == \"data:image/png;base64\") {\n",
       "            fig.imageObj.src = evt.data;\n",
       "            fig.updated_canvas_event();\n",
       "            fig.waiting = false;\n",
       "            return;\n",
       "        }\n",
       "\n",
       "        var msg = JSON.parse(evt.data);\n",
       "        var msg_type = msg['type'];\n",
       "\n",
       "        // Call the  \"handle_{type}\" callback, which takes\n",
       "        // the figure and JSON message as its only arguments.\n",
       "        try {\n",
       "            var callback = fig[\"handle_\" + msg_type];\n",
       "        } catch (e) {\n",
       "            console.log(\"No handler for the '\" + msg_type + \"' message type: \", msg);\n",
       "            return;\n",
       "        }\n",
       "\n",
       "        if (callback) {\n",
       "            try {\n",
       "                // console.log(\"Handling '\" + msg_type + \"' message: \", msg);\n",
       "                callback(fig, msg);\n",
       "            } catch (e) {\n",
       "                console.log(\"Exception inside the 'handler_\" + msg_type + \"' callback:\", e, e.stack, msg);\n",
       "            }\n",
       "        }\n",
       "    };\n",
       "}\n",
       "\n",
       "// from http://stackoverflow.com/questions/1114465/getting-mouse-location-in-canvas\n",
       "mpl.findpos = function(e) {\n",
       "    //this section is from http://www.quirksmode.org/js/events_properties.html\n",
       "    var targ;\n",
       "    if (!e)\n",
       "        e = window.event;\n",
       "    if (e.target)\n",
       "        targ = e.target;\n",
       "    else if (e.srcElement)\n",
       "        targ = e.srcElement;\n",
       "    if (targ.nodeType == 3) // defeat Safari bug\n",
       "        targ = targ.parentNode;\n",
       "\n",
       "    // jQuery normalizes the pageX and pageY\n",
       "    // pageX,Y are the mouse positions relative to the document\n",
       "    // offset() returns the position of the element relative to the document\n",
       "    var x = e.pageX - $(targ).offset().left;\n",
       "    var y = e.pageY - $(targ).offset().top;\n",
       "\n",
       "    return {\"x\": x, \"y\": y};\n",
       "};\n",
       "\n",
       "/*\n",
       " * return a copy of an object with only non-object keys\n",
       " * we need this to avoid circular references\n",
       " * http://stackoverflow.com/a/24161582/3208463\n",
       " */\n",
       "function simpleKeys (original) {\n",
       "  return Object.keys(original).reduce(function (obj, key) {\n",
       "    if (typeof original[key] !== 'object')\n",
       "        obj[key] = original[key]\n",
       "    return obj;\n",
       "  }, {});\n",
       "}\n",
       "\n",
       "mpl.figure.prototype.mouse_event = function(event, name) {\n",
       "    var canvas_pos = mpl.findpos(event)\n",
       "\n",
       "    if (name === 'button_press')\n",
       "    {\n",
       "        this.canvas.focus();\n",
       "        this.canvas_div.focus();\n",
       "    }\n",
       "\n",
       "    var x = canvas_pos.x * mpl.ratio;\n",
       "    var y = canvas_pos.y * mpl.ratio;\n",
       "\n",
       "    this.send_message(name, {x: x, y: y, button: event.button,\n",
       "                             step: event.step,\n",
       "                             guiEvent: simpleKeys(event)});\n",
       "\n",
       "    /* This prevents the web browser from automatically changing to\n",
       "     * the text insertion cursor when the button is pressed.  We want\n",
       "     * to control all of the cursor setting manually through the\n",
       "     * 'cursor' event from matplotlib */\n",
       "    event.preventDefault();\n",
       "    return false;\n",
       "}\n",
       "\n",
       "mpl.figure.prototype._key_event_extra = function(event, name) {\n",
       "    // Handle any extra behaviour associated with a key event\n",
       "}\n",
       "\n",
       "mpl.figure.prototype.key_event = function(event, name) {\n",
       "\n",
       "    // Prevent repeat events\n",
       "    if (name == 'key_press')\n",
       "    {\n",
       "        if (event.which === this._key)\n",
       "            return;\n",
       "        else\n",
       "            this._key = event.which;\n",
       "    }\n",
       "    if (name == 'key_release')\n",
       "        this._key = null;\n",
       "\n",
       "    var value = '';\n",
       "    if (event.ctrlKey && event.which != 17)\n",
       "        value += \"ctrl+\";\n",
       "    if (event.altKey && event.which != 18)\n",
       "        value += \"alt+\";\n",
       "    if (event.shiftKey && event.which != 16)\n",
       "        value += \"shift+\";\n",
       "\n",
       "    value += 'k';\n",
       "    value += event.which.toString();\n",
       "\n",
       "    this._key_event_extra(event, name);\n",
       "\n",
       "    this.send_message(name, {key: value,\n",
       "                             guiEvent: simpleKeys(event)});\n",
       "    return false;\n",
       "}\n",
       "\n",
       "mpl.figure.prototype.toolbar_button_onclick = function(name) {\n",
       "    if (name == 'download') {\n",
       "        this.handle_save(this, null);\n",
       "    } else {\n",
       "        this.send_message(\"toolbar_button\", {name: name});\n",
       "    }\n",
       "};\n",
       "\n",
       "mpl.figure.prototype.toolbar_button_onmouseover = function(tooltip) {\n",
       "    this.message.textContent = tooltip;\n",
       "};\n",
       "mpl.toolbar_items = [[\"Home\", \"Reset original view\", \"fa fa-home icon-home\", \"home\"], [\"Back\", \"Back to previous view\", \"fa fa-arrow-left icon-arrow-left\", \"back\"], [\"Forward\", \"Forward to next view\", \"fa fa-arrow-right icon-arrow-right\", \"forward\"], [\"\", \"\", \"\", \"\"], [\"Pan\", \"Pan axes with left mouse, zoom with right\", \"fa fa-arrows icon-move\", \"pan\"], [\"Zoom\", \"Zoom to rectangle\", \"fa fa-square-o icon-check-empty\", \"zoom\"], [\"\", \"\", \"\", \"\"], [\"Download\", \"Download plot\", \"fa fa-floppy-o icon-save\", \"download\"]];\n",
       "\n",
       "mpl.extensions = [\"eps\", \"pdf\", \"png\", \"ps\", \"raw\", \"svg\"];\n",
       "\n",
       "mpl.default_extension = \"png\";var comm_websocket_adapter = function(comm) {\n",
       "    // Create a \"websocket\"-like object which calls the given IPython comm\n",
       "    // object with the appropriate methods. Currently this is a non binary\n",
       "    // socket, so there is still some room for performance tuning.\n",
       "    var ws = {};\n",
       "\n",
       "    ws.close = function() {\n",
       "        comm.close()\n",
       "    };\n",
       "    ws.send = function(m) {\n",
       "        //console.log('sending', m);\n",
       "        comm.send(m);\n",
       "    };\n",
       "    // Register the callback with on_msg.\n",
       "    comm.on_msg(function(msg) {\n",
       "        //console.log('receiving', msg['content']['data'], msg);\n",
       "        // Pass the mpl event to the overridden (by mpl) onmessage function.\n",
       "        ws.onmessage(msg['content']['data'])\n",
       "    });\n",
       "    return ws;\n",
       "}\n",
       "\n",
       "mpl.mpl_figure_comm = function(comm, msg) {\n",
       "    // This is the function which gets called when the mpl process\n",
       "    // starts-up an IPython Comm through the \"matplotlib\" channel.\n",
       "\n",
       "    var id = msg.content.data.id;\n",
       "    // Get hold of the div created by the display call when the Comm\n",
       "    // socket was opened in Python.\n",
       "    var element = $(\"#\" + id);\n",
       "    var ws_proxy = comm_websocket_adapter(comm)\n",
       "\n",
       "    function ondownload(figure, format) {\n",
       "        window.open(figure.imageObj.src);\n",
       "    }\n",
       "\n",
       "    var fig = new mpl.figure(id, ws_proxy,\n",
       "                           ondownload,\n",
       "                           element.get(0));\n",
       "\n",
       "    // Call onopen now - mpl needs it, as it is assuming we've passed it a real\n",
       "    // web socket which is closed, not our websocket->open comm proxy.\n",
       "    ws_proxy.onopen();\n",
       "\n",
       "    fig.parent_element = element.get(0);\n",
       "    fig.cell_info = mpl.find_output_cell(\"<div id='\" + id + \"'></div>\");\n",
       "    if (!fig.cell_info) {\n",
       "        console.error(\"Failed to find cell for figure\", id, fig);\n",
       "        return;\n",
       "    }\n",
       "\n",
       "    var output_index = fig.cell_info[2]\n",
       "    var cell = fig.cell_info[0];\n",
       "\n",
       "};\n",
       "\n",
       "mpl.figure.prototype.handle_close = function(fig, msg) {\n",
       "    var width = fig.canvas.width/mpl.ratio\n",
       "    fig.root.unbind('remove')\n",
       "\n",
       "    // Update the output cell to use the data from the current canvas.\n",
       "    fig.push_to_output();\n",
       "    var dataURL = fig.canvas.toDataURL();\n",
       "    // Re-enable the keyboard manager in IPython - without this line, in FF,\n",
       "    // the notebook keyboard shortcuts fail.\n",
       "    IPython.keyboard_manager.enable()\n",
       "    $(fig.parent_element).html('<img src=\"' + dataURL + '\" width=\"' + width + '\">');\n",
       "    fig.close_ws(fig, msg);\n",
       "}\n",
       "\n",
       "mpl.figure.prototype.close_ws = function(fig, msg){\n",
       "    fig.send_message('closing', msg);\n",
       "    // fig.ws.close()\n",
       "}\n",
       "\n",
       "mpl.figure.prototype.push_to_output = function(remove_interactive) {\n",
       "    // Turn the data on the canvas into data in the output cell.\n",
       "    var width = this.canvas.width/mpl.ratio\n",
       "    var dataURL = this.canvas.toDataURL();\n",
       "    this.cell_info[1]['text/html'] = '<img src=\"' + dataURL + '\" width=\"' + width + '\">';\n",
       "}\n",
       "\n",
       "mpl.figure.prototype.updated_canvas_event = function() {\n",
       "    // Tell IPython that the notebook contents must change.\n",
       "    IPython.notebook.set_dirty(true);\n",
       "    this.send_message(\"ack\", {});\n",
       "    var fig = this;\n",
       "    // Wait a second, then push the new image to the DOM so\n",
       "    // that it is saved nicely (might be nice to debounce this).\n",
       "    setTimeout(function () { fig.push_to_output() }, 1000);\n",
       "}\n",
       "\n",
       "mpl.figure.prototype._init_toolbar = function() {\n",
       "    var fig = this;\n",
       "\n",
       "    var nav_element = $('<div/>')\n",
       "    nav_element.attr('style', 'width: 100%');\n",
       "    this.root.append(nav_element);\n",
       "\n",
       "    // Define a callback function for later on.\n",
       "    function toolbar_event(event) {\n",
       "        return fig.toolbar_button_onclick(event['data']);\n",
       "    }\n",
       "    function toolbar_mouse_event(event) {\n",
       "        return fig.toolbar_button_onmouseover(event['data']);\n",
       "    }\n",
       "\n",
       "    for(var toolbar_ind in mpl.toolbar_items){\n",
       "        var name = mpl.toolbar_items[toolbar_ind][0];\n",
       "        var tooltip = mpl.toolbar_items[toolbar_ind][1];\n",
       "        var image = mpl.toolbar_items[toolbar_ind][2];\n",
       "        var method_name = mpl.toolbar_items[toolbar_ind][3];\n",
       "\n",
       "        if (!name) { continue; };\n",
       "\n",
       "        var button = $('<button class=\"btn btn-default\" href=\"#\" title=\"' + name + '\"><i class=\"fa ' + image + ' fa-lg\"></i></button>');\n",
       "        button.click(method_name, toolbar_event);\n",
       "        button.mouseover(tooltip, toolbar_mouse_event);\n",
       "        nav_element.append(button);\n",
       "    }\n",
       "\n",
       "    // Add the status bar.\n",
       "    var status_bar = $('<span class=\"mpl-message\" style=\"text-align:right; float: right;\"/>');\n",
       "    nav_element.append(status_bar);\n",
       "    this.message = status_bar[0];\n",
       "\n",
       "    // Add the close button to the window.\n",
       "    var buttongrp = $('<div class=\"btn-group inline pull-right\"></div>');\n",
       "    var button = $('<button class=\"btn btn-mini btn-primary\" href=\"#\" title=\"Stop Interaction\"><i class=\"fa fa-power-off icon-remove icon-large\"></i></button>');\n",
       "    button.click(function (evt) { fig.handle_close(fig, {}); } );\n",
       "    button.mouseover('Stop Interaction', toolbar_mouse_event);\n",
       "    buttongrp.append(button);\n",
       "    var titlebar = this.root.find($('.ui-dialog-titlebar'));\n",
       "    titlebar.prepend(buttongrp);\n",
       "}\n",
       "\n",
       "mpl.figure.prototype._root_extra_style = function(el){\n",
       "    var fig = this\n",
       "    el.on(\"remove\", function(){\n",
       "\tfig.close_ws(fig, {});\n",
       "    });\n",
       "}\n",
       "\n",
       "mpl.figure.prototype._canvas_extra_style = function(el){\n",
       "    // this is important to make the div 'focusable\n",
       "    el.attr('tabindex', 0)\n",
       "    // reach out to IPython and tell the keyboard manager to turn it's self\n",
       "    // off when our div gets focus\n",
       "\n",
       "    // location in version 3\n",
       "    if (IPython.notebook.keyboard_manager) {\n",
       "        IPython.notebook.keyboard_manager.register_events(el);\n",
       "    }\n",
       "    else {\n",
       "        // location in version 2\n",
       "        IPython.keyboard_manager.register_events(el);\n",
       "    }\n",
       "\n",
       "}\n",
       "\n",
       "mpl.figure.prototype._key_event_extra = function(event, name) {\n",
       "    var manager = IPython.notebook.keyboard_manager;\n",
       "    if (!manager)\n",
       "        manager = IPython.keyboard_manager;\n",
       "\n",
       "    // Check for shift+enter\n",
       "    if (event.shiftKey && event.which == 13) {\n",
       "        this.canvas_div.blur();\n",
       "        event.shiftKey = false;\n",
       "        // Send a \"J\" for go to next cell\n",
       "        event.which = 74;\n",
       "        event.keyCode = 74;\n",
       "        manager.command_mode();\n",
       "        manager.handle_keydown(event);\n",
       "    }\n",
       "}\n",
       "\n",
       "mpl.figure.prototype.handle_save = function(fig, msg) {\n",
       "    fig.ondownload(fig, null);\n",
       "}\n",
       "\n",
       "\n",
       "mpl.find_output_cell = function(html_output) {\n",
       "    // Return the cell and output element which can be found *uniquely* in the notebook.\n",
       "    // Note - this is a bit hacky, but it is done because the \"notebook_saving.Notebook\"\n",
       "    // IPython event is triggered only after the cells have been serialised, which for\n",
       "    // our purposes (turning an active figure into a static one), is too late.\n",
       "    var cells = IPython.notebook.get_cells();\n",
       "    var ncells = cells.length;\n",
       "    for (var i=0; i<ncells; i++) {\n",
       "        var cell = cells[i];\n",
       "        if (cell.cell_type === 'code'){\n",
       "            for (var j=0; j<cell.output_area.outputs.length; j++) {\n",
       "                var data = cell.output_area.outputs[j];\n",
       "                if (data.data) {\n",
       "                    // IPython >= 3 moved mimebundle to data attribute of output\n",
       "                    data = data.data;\n",
       "                }\n",
       "                if (data['text/html'] == html_output) {\n",
       "                    return [cell, data, j];\n",
       "                }\n",
       "            }\n",
       "        }\n",
       "    }\n",
       "}\n",
       "\n",
       "// Register the function which deals with the matplotlib target/channel.\n",
       "// The kernel may be null if the page has been refreshed.\n",
       "if (IPython.notebook.kernel != null) {\n",
       "    IPython.notebook.kernel.comm_manager.register_target('matplotlib', mpl.mpl_figure_comm);\n",
       "}\n"
      ],
      "text/plain": [
       "<IPython.core.display.Javascript object>"
      ]
     },
     "metadata": {},
     "output_type": "display_data"
    },
    {
     "data": {
      "text/html": [
       "<img src=\"data:image/png;base64,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\" width=\"640\">"
      ],
      "text/plain": [
       "<IPython.core.display.HTML object>"
      ]
     },
     "metadata": {},
     "output_type": "display_data"
    }
   ],
   "source": [
    "plt.figure()\n",
    "for idx, i in enumerate(coherence_array):\n",
    "    median = np.median([item for item in i if str(item) != 'nan'])\n",
    "    plt.scatter(i, [idx+2]*len(i))\n",
    "    plt.scatter(median, idx+2, marker=\"*\")"
   ]
  },
  {
   "cell_type": "code",
   "execution_count": 48,
   "metadata": {
    "collapsed": true
   },
   "outputs": [],
   "source": [
    "import pickle\n",
    "\n",
    "with open(\"clustering_bcc.pkl\", \"wb\") as pklfile:\n",
    "    pickle.dump(df, pklfile)"
   ]
  }
 ],
 "metadata": {
  "kernelspec": {
   "display_name": "Django Shell-Plus",
   "language": "python",
   "name": "django_extensions"
  },
  "language_info": {
   "codemirror_mode": {
    "name": "ipython",
    "version": 3
   },
   "file_extension": ".py",
   "mimetype": "text/x-python",
   "name": "python",
   "nbconvert_exporter": "python",
   "pygments_lexer": "ipython3",
   "version": "3.6.2"
  }
 },
 "nbformat": 4,
 "nbformat_minor": 2
}
