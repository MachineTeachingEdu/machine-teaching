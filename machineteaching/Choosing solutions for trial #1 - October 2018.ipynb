{
 "cells": [
  {
   "cell_type": "code",
   "execution_count": 1,
   "metadata": {
    "collapsed": true
   },
   "outputs": [],
   "source": [
    "from questions.models import Solution\n",
    "import pickle\n",
    "from IPython.display import clear_output\n",
    "from datetime import datetime"
   ]
  },
  {
   "cell_type": "code",
   "execution_count": 9,
   "metadata": {
    "collapsed": true
   },
   "outputs": [],
   "source": [
    "try:\n",
    "    with open(\"data/reviewed.pkl\", \"rb\") as pklfile:\n",
    "        reviewed = pickle.load(pklfile)\n",
    "except EOFError:\n",
    "    reviewed = []"
   ]
  },
  {
   "cell_type": "code",
   "execution_count": 10,
   "metadata": {},
   "outputs": [
    {
     "data": {
      "text/plain": [
       "90"
      ]
     },
     "execution_count": 10,
     "metadata": {},
     "output_type": "execute_result"
    }
   ],
   "source": [
    "reviewed[-1]"
   ]
  },
  {
   "cell_type": "code",
   "execution_count": 11,
   "metadata": {
    "scrolled": false
   },
   "outputs": [
    {
     "name": "stdout",
     "output_type": "stream",
     "text": [
      "Create a program which will allow the user to enter the state of two switches (either 1 (on) or 0 (off)). The program should work out if both switches are on and then output the message 'the light is on'. Otherwise, the program should output the message 'the light is off'.\n",
      "print(\"AND Gate Simulator\")\n",
      " print(\"This program asks for the state of two switches and then displays whether the light is\")\n",
      " print(\"on or not\")\n",
      " print()\n",
      " switchA = int(input(\"Please enter the state of switch A (1 or 0): \"))\n",
      " switchB = int(input(\"Please enter the state of switch B (1 or 0): \"))\n",
      " print()\n",
      " if switchA == 1 and switchB == 1:\n",
      "     print(\"the light is on\")\n",
      " else:\n",
      "     print(\"the light is off\")\n",
      "     \n",
      "\n"
     ]
    },
    {
     "ename": "KeyboardInterrupt",
     "evalue": "",
     "output_type": "error",
     "traceback": [
      "\u001b[0;31m---------------------------------------------------------------------------\u001b[0m",
      "\u001b[0;31mKeyboardInterrupt\u001b[0m                         Traceback (most recent call last)",
      "\u001b[0;32m~/miniconda3/envs/machine_teaching/lib/python3.6/site-packages/ipykernel/kernelbase.py\u001b[0m in \u001b[0;36m_input_request\u001b[0;34m(self, prompt, ident, parent, password)\u001b[0m\n\u001b[1;32m    729\u001b[0m             \u001b[0;32mtry\u001b[0m\u001b[0;34m:\u001b[0m\u001b[0;34m\u001b[0m\u001b[0m\n\u001b[0;32m--> 730\u001b[0;31m                 \u001b[0mident\u001b[0m\u001b[0;34m,\u001b[0m \u001b[0mreply\u001b[0m \u001b[0;34m=\u001b[0m \u001b[0mself\u001b[0m\u001b[0;34m.\u001b[0m\u001b[0msession\u001b[0m\u001b[0;34m.\u001b[0m\u001b[0mrecv\u001b[0m\u001b[0;34m(\u001b[0m\u001b[0mself\u001b[0m\u001b[0;34m.\u001b[0m\u001b[0mstdin_socket\u001b[0m\u001b[0;34m,\u001b[0m \u001b[0;36m0\u001b[0m\u001b[0;34m)\u001b[0m\u001b[0;34m\u001b[0m\u001b[0m\n\u001b[0m\u001b[1;32m    731\u001b[0m             \u001b[0;32mexcept\u001b[0m \u001b[0mException\u001b[0m\u001b[0;34m:\u001b[0m\u001b[0;34m\u001b[0m\u001b[0m\n",
      "\u001b[0;32m~/miniconda3/envs/machine_teaching/lib/python3.6/site-packages/jupyter_client/session.py\u001b[0m in \u001b[0;36mrecv\u001b[0;34m(self, socket, mode, content, copy)\u001b[0m\n\u001b[1;32m    795\u001b[0m         \u001b[0;32mtry\u001b[0m\u001b[0;34m:\u001b[0m\u001b[0;34m\u001b[0m\u001b[0m\n\u001b[0;32m--> 796\u001b[0;31m             \u001b[0mmsg_list\u001b[0m \u001b[0;34m=\u001b[0m \u001b[0msocket\u001b[0m\u001b[0;34m.\u001b[0m\u001b[0mrecv_multipart\u001b[0m\u001b[0;34m(\u001b[0m\u001b[0mmode\u001b[0m\u001b[0;34m,\u001b[0m \u001b[0mcopy\u001b[0m\u001b[0;34m=\u001b[0m\u001b[0mcopy\u001b[0m\u001b[0;34m)\u001b[0m\u001b[0;34m\u001b[0m\u001b[0m\n\u001b[0m\u001b[1;32m    797\u001b[0m         \u001b[0;32mexcept\u001b[0m \u001b[0mzmq\u001b[0m\u001b[0;34m.\u001b[0m\u001b[0mZMQError\u001b[0m \u001b[0;32mas\u001b[0m \u001b[0me\u001b[0m\u001b[0;34m:\u001b[0m\u001b[0;34m\u001b[0m\u001b[0m\n",
      "\u001b[0;32m~/miniconda3/envs/machine_teaching/lib/python3.6/site-packages/zmq/sugar/socket.py\u001b[0m in \u001b[0;36mrecv_multipart\u001b[0;34m(self, flags, copy, track)\u001b[0m\n\u001b[1;32m    394\u001b[0m         \"\"\"\n\u001b[0;32m--> 395\u001b[0;31m         \u001b[0mparts\u001b[0m \u001b[0;34m=\u001b[0m \u001b[0;34m[\u001b[0m\u001b[0mself\u001b[0m\u001b[0;34m.\u001b[0m\u001b[0mrecv\u001b[0m\u001b[0;34m(\u001b[0m\u001b[0mflags\u001b[0m\u001b[0;34m,\u001b[0m \u001b[0mcopy\u001b[0m\u001b[0;34m=\u001b[0m\u001b[0mcopy\u001b[0m\u001b[0;34m,\u001b[0m \u001b[0mtrack\u001b[0m\u001b[0;34m=\u001b[0m\u001b[0mtrack\u001b[0m\u001b[0;34m)\u001b[0m\u001b[0;34m]\u001b[0m\u001b[0;34m\u001b[0m\u001b[0m\n\u001b[0m\u001b[1;32m    396\u001b[0m         \u001b[0;31m# have first part already, only loop while more to receive\u001b[0m\u001b[0;34m\u001b[0m\u001b[0;34m\u001b[0m\u001b[0m\n",
      "\u001b[0;32mzmq/backend/cython/socket.pyx\u001b[0m in \u001b[0;36mzmq.backend.cython.socket.Socket.recv (zmq/backend/cython/socket.c:7683)\u001b[0;34m()\u001b[0m\n",
      "\u001b[0;32mzmq/backend/cython/socket.pyx\u001b[0m in \u001b[0;36mzmq.backend.cython.socket.Socket.recv (zmq/backend/cython/socket.c:7460)\u001b[0;34m()\u001b[0m\n",
      "\u001b[0;32mzmq/backend/cython/socket.pyx\u001b[0m in \u001b[0;36mzmq.backend.cython.socket._recv_copy (zmq/backend/cython/socket.c:2344)\u001b[0;34m()\u001b[0m\n",
      "\u001b[0;32m~/miniconda3/envs/machine_teaching/lib/python3.6/site-packages/zmq/backend/cython/checkrc.pxd\u001b[0m in \u001b[0;36mzmq.backend.cython.checkrc._check_rc (zmq/backend/cython/socket.c:9621)\u001b[0;34m()\u001b[0m\n",
      "\u001b[0;31mKeyboardInterrupt\u001b[0m: ",
      "\nDuring handling of the above exception, another exception occurred:\n",
      "\u001b[0;31mKeyboardInterrupt\u001b[0m                         Traceback (most recent call last)",
      "\u001b[0;32m<ipython-input-11-ec861e8a4b6f>\u001b[0m in \u001b[0;36m<module>\u001b[0;34m()\u001b[0m\n\u001b[1;32m     16\u001b[0m \u001b[0;34m\u001b[0m\u001b[0m\n\u001b[1;32m     17\u001b[0m     \u001b[0;31m# Ask if user would like to modify it, keep it or discard it\u001b[0m\u001b[0;34m\u001b[0m\u001b[0;34m\u001b[0m\u001b[0m\n\u001b[0;32m---> 18\u001b[0;31m     \u001b[0maction\u001b[0m \u001b[0;34m=\u001b[0m \u001b[0minput\u001b[0m\u001b[0;34m(\u001b[0m\u001b[0;34m\"Add new solution (A), keep this one (K) or ignore it (I)?\"\u001b[0m\u001b[0;34m)\u001b[0m\u001b[0;34m\u001b[0m\u001b[0m\n\u001b[0m\u001b[1;32m     19\u001b[0m \u001b[0;34m\u001b[0m\u001b[0m\n\u001b[1;32m     20\u001b[0m     \u001b[0;31m# Ignore old solution\u001b[0m\u001b[0;34m\u001b[0m\u001b[0;34m\u001b[0m\u001b[0m\n",
      "\u001b[0;32m~/miniconda3/envs/machine_teaching/lib/python3.6/site-packages/ipykernel/kernelbase.py\u001b[0m in \u001b[0;36mraw_input\u001b[0;34m(self, prompt)\u001b[0m\n\u001b[1;32m    703\u001b[0m             \u001b[0mself\u001b[0m\u001b[0;34m.\u001b[0m\u001b[0m_parent_ident\u001b[0m\u001b[0;34m,\u001b[0m\u001b[0;34m\u001b[0m\u001b[0m\n\u001b[1;32m    704\u001b[0m             \u001b[0mself\u001b[0m\u001b[0;34m.\u001b[0m\u001b[0m_parent_header\u001b[0m\u001b[0;34m,\u001b[0m\u001b[0;34m\u001b[0m\u001b[0m\n\u001b[0;32m--> 705\u001b[0;31m             \u001b[0mpassword\u001b[0m\u001b[0;34m=\u001b[0m\u001b[0;32mFalse\u001b[0m\u001b[0;34m,\u001b[0m\u001b[0;34m\u001b[0m\u001b[0m\n\u001b[0m\u001b[1;32m    706\u001b[0m         )\n\u001b[1;32m    707\u001b[0m \u001b[0;34m\u001b[0m\u001b[0m\n",
      "\u001b[0;32m~/miniconda3/envs/machine_teaching/lib/python3.6/site-packages/ipykernel/kernelbase.py\u001b[0m in \u001b[0;36m_input_request\u001b[0;34m(self, prompt, ident, parent, password)\u001b[0m\n\u001b[1;32m    733\u001b[0m             \u001b[0;32mexcept\u001b[0m \u001b[0mKeyboardInterrupt\u001b[0m\u001b[0;34m:\u001b[0m\u001b[0;34m\u001b[0m\u001b[0m\n\u001b[1;32m    734\u001b[0m                 \u001b[0;31m# re-raise KeyboardInterrupt, to truncate traceback\u001b[0m\u001b[0;34m\u001b[0m\u001b[0;34m\u001b[0m\u001b[0m\n\u001b[0;32m--> 735\u001b[0;31m                 \u001b[0;32mraise\u001b[0m \u001b[0mKeyboardInterrupt\u001b[0m\u001b[0;34m\u001b[0m\u001b[0m\n\u001b[0m\u001b[1;32m    736\u001b[0m             \u001b[0;32melse\u001b[0m\u001b[0;34m:\u001b[0m\u001b[0;34m\u001b[0m\u001b[0m\n\u001b[1;32m    737\u001b[0m                 \u001b[0;32mbreak\u001b[0m\u001b[0;34m\u001b[0m\u001b[0m\n",
      "\u001b[0;31mKeyboardInterrupt\u001b[0m: "
     ]
    }
   ],
   "source": [
    "sols = Solution.objects.all()\n",
    "\n",
    "for s in sols:\n",
    "    \n",
    "    # If this problem was reviewed in the past, skip it\n",
    "    if s.id in reviewed:\n",
    "        continue\n",
    "    \n",
    "    # Otherwise, add it to the reviewed list\n",
    "    reviewed.append(s.id)\n",
    "    \n",
    "    # Show problem and solution\n",
    "    p = s.problem\n",
    "    print(p.content)\n",
    "    print(s.content)\n",
    "    \n",
    "    # Ask if user would like to modify it, keep it or discard it\n",
    "    action = input(\"Add new solution (A), keep this one (K) or ignore it (I)?\")\n",
    "    \n",
    "    # Ignore old solution\n",
    "    if action.upper() == 'I' or action.upper() == 'A':\n",
    "        s.ignore = 1\n",
    "        s.save()\n",
    "        \n",
    "    # Dump action into pickle\n",
    "    with open(\"data/pickles/solution_%d.pkl\" % s.id, \"wb\") as pklfile:\n",
    "        pickle.dump(s, pklfile)\n",
    "    \n",
    "    # Create new one if necessary\n",
    "    if action.upper() == 'A':\n",
    "        input(\"\"\"Please, write your solution in the file data/solutions/%d.py, \n",
    "                 the header in data/headers/%s.txt and the tip in the data/tips/%d.py files. \n",
    "                 Press ENTER to continue.\"\"\" % (s.id, s.id, s.id))\n",
    "        with open(\"data/solutions/%d.py\" % s.id, \"r\") as solfile:\n",
    "            s_new = Solution()\n",
    "            s_new.content = solfile.read()\n",
    "            s_new.retrieved_date = datetime.now()\n",
    "            s_new.ignore = 0\n",
    "            s_new.problem = p\n",
    "        with open(\"data/headers/%d.txt\" % s.id, \"r\") as solfile:\n",
    "            s_new.header = solfile.read().strip('\\n')\n",
    "        with open(\"data/tips/%d.py\" % s.id, \"r\") as solfile:\n",
    "            s_new.tip = solfile.read()\n",
    "        s_new.save()\n",
    "        \n",
    "        # Dump action into pickle\n",
    "        with open(\"data/pickles/solution_%d.pkl\" % s_new.id, \"wb\") as pklfile:\n",
    "            pickle.dump(s_new, pklfile)\n",
    "    \n",
    "    # Now, create test cases\n",
    "    test_number = input(\"Time to create test cases! How many?\")\n",
    "    for i in range(int(test_number)):\n",
    "        tc = TestCase()\n",
    "        tc.content = input(\"Test case %d:\" % (i+1))\n",
    "        tc.problem = p\n",
    "        tc.save()\n",
    "        \n",
    "        # Dump action into pickle\n",
    "        with open(\"data/pickles/testcase_%d.pkl\" % tc.id, \"wb\") as pklfile:\n",
    "            pickle.dump(tc, pklfile)\n",
    "            \n",
    "    # Want to review the problem?\n",
    "    review_problem = input(\"Do you want to rewrite the problem? Y or N\")\n",
    "    if review_problem.upper() == 'Y':\n",
    "        input(\"\"\"Please, write your problem in the file data/problems/%d.txt and title in data/titles/%d.txt.\n",
    "                 Press ENTER to continue.\"\"\" % (p.id, p.id))\n",
    "        with open(\"data/problems/%d.txt\" % p.id, \"r\") as problemfile:\n",
    "            p.content = problemfile.read()\n",
    "        with open(\"data/titles/%d.txt\" % p.id, \"r\") as problemfile:\n",
    "            p.title = problemfile.read()\n",
    "        p.save()\n",
    "        \n",
    "    # Dump edited problem into pickle\n",
    "    with open(\"data/pickles/problem_%d.pkl\" % p.id, \"wb\") as pklfile:\n",
    "        pickle.dump(p, pklfile)\n",
    "            \n",
    "    # Dump reviewed items into pickle\n",
    "    with open(\"data/reviewed.pkl\", \"wb\") as pklfile:\n",
    "        pickle.dump(reviewed, pklfile)\n",
    "        \n",
    "    clear_output()"
   ]
  },
  {
   "cell_type": "code",
   "execution_count": 26,
   "metadata": {},
   "outputs": [
    {
     "data": {
      "text/plain": [
       "'num = input(\"Enter a number: \")\\nmod = num % 2\\nif mod > 0:\\n    print(\"You picked an odd number.\")\\nelse:\\n    print(\"You picked an even number.\")'"
      ]
     },
     "execution_count": 26,
     "metadata": {},
     "output_type": "execute_result"
    }
   ],
   "source": [
    "with open(\"data/pickles/solution_2.pkl\",\"rb\") as pklfile:\n",
    "    d = pickle.load(pklfile)\n",
    "d.content"
   ]
  },
  {
   "cell_type": "code",
   "execution_count": 28,
   "metadata": {},
   "outputs": [
    {
     "data": {
      "text/plain": [
       "[1, 2, 3]"
      ]
     },
     "execution_count": 28,
     "metadata": {},
     "output_type": "execute_result"
    }
   ],
   "source": [
    "with open(\"data/reviewed.pkl\",\"rb\") as pklfile:\n",
    "    d = pickle.load(pklfile)\n",
    "d"
   ]
  }
 ],
 "metadata": {
  "kernelspec": {
   "display_name": "Django Shell-Plus",
   "language": "python",
   "name": "django_extensions"
  },
  "language_info": {
   "codemirror_mode": {
    "name": "ipython",
    "version": 3
   },
   "file_extension": ".py",
   "mimetype": "text/x-python",
   "name": "python",
   "nbconvert_exporter": "python",
   "pygments_lexer": "ipython3",
   "version": "3.6.2"
  }
 },
 "nbformat": 4,
 "nbformat_minor": 2
}
