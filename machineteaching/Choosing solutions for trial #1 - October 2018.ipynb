{
 "cells": [
  {
   "cell_type": "code",
   "execution_count": 1,
   "metadata": {
    "collapsed": true
   },
   "outputs": [],
   "source": [
    "from questions.models import Solution\n",
    "import pickle\n",
    "from IPython.display import clear_output\n",
    "from datetime import datetime"
   ]
  },
  {
   "cell_type": "code",
   "execution_count": 13,
   "metadata": {
    "collapsed": true
   },
   "outputs": [],
   "source": [
    "try:\n",
    "    with open(\"data/reviewed.pkl\", \"rb\") as pklfile:\n",
    "        reviewed = pickle.load(pklfile)\n",
    "except EOFError:\n",
    "    reviewed = []"
   ]
  },
  {
   "cell_type": "code",
   "execution_count": 14,
   "metadata": {},
   "outputs": [
    {
     "data": {
      "text/plain": [
       "164"
      ]
     },
     "execution_count": 14,
     "metadata": {},
     "output_type": "execute_result"
    }
   ],
   "source": [
    "reviewed[-1]"
   ]
  },
  {
   "cell_type": "code",
   "execution_count": null,
   "metadata": {},
   "outputs": [
    {
     "name": "stdout",
     "output_type": "stream",
     "text": [
      "Define a function that can accept two strings as input and print the string with maximum length in console. If two strings have the same length, then the function should print al l strings line by line.\n",
      "def printValue(s1,s2):\n",
      "\tlen1 = len(s1)\n",
      "\tlen2 = len(s2)\n",
      "\tif len1>len2:\n",
      "\t\tprint s1\n",
      "\telif len2>len1:\n",
      "\t\tprint s2\n",
      "\telse:\n",
      "\t\tprint s1\n",
      "\t\tprint s2\n",
      "\t\t\n",
      "\n",
      "printValue(\"one\",\"three\")\n"
     ]
    }
   ],
   "source": [
    "sols = Solution.objects.all()\n",
    "\n",
    "for s in sols:\n",
    "    \n",
    "    # If this problem was reviewed in the past, skip it\n",
    "    if s.id in reviewed:\n",
    "        continue\n",
    "    \n",
    "    # Otherwise, add it to the reviewed list\n",
    "    reviewed.append(s.id)\n",
    "    \n",
    "    # Show problem and solution\n",
    "    p = s.problem\n",
    "    print(p.content)\n",
    "    print(s.content)\n",
    "    \n",
    "    # Ask if user would like to modify it, keep it or discard it\n",
    "    action = input(\"Add new solution (A), keep this one (K) or ignore it (I)?\")\n",
    "    \n",
    "    # Ignore old solution\n",
    "    if action.upper() == 'I' or action.upper() == 'A':\n",
    "        s.ignore = 1\n",
    "        s.save()\n",
    "        \n",
    "    # Dump action into pickle\n",
    "    with open(\"data/pickles/solution_%d.pkl\" % s.id, \"wb\") as pklfile:\n",
    "        pickle.dump(s, pklfile)\n",
    "    \n",
    "    # Create new one if necessary\n",
    "    if action.upper() == 'A':\n",
    "        input(\"\"\"Please, write your solution in the file data/solutions/%d.py, \n",
    "                 the header in data/headers/%s.txt and the tip in the data/tips/%d.py files. \n",
    "                 Press ENTER to continue.\"\"\" % (s.id, s.id, s.id))\n",
    "        with open(\"data/solutions/%d.py\" % s.id, \"r\") as solfile:\n",
    "            s_new = Solution()\n",
    "            s_new.content = solfile.read()\n",
    "            s_new.retrieved_date = datetime.now()\n",
    "            s_new.ignore = 0\n",
    "            s_new.problem = p\n",
    "        with open(\"data/headers/%d.txt\" % s.id, \"r\") as solfile:\n",
    "            s_new.header = solfile.read().strip('\\n')\n",
    "        with open(\"data/tips/%d.py\" % s.id, \"r\") as solfile:\n",
    "            s_new.tip = solfile.read()\n",
    "        s_new.save()\n",
    "        \n",
    "        # Dump action into pickle\n",
    "        with open(\"data/pickles/solution_%d.pkl\" % s_new.id, \"wb\") as pklfile:\n",
    "            pickle.dump(s_new, pklfile)\n",
    "    \n",
    "    # Now, create test cases\n",
    "    test_number = input(\"Time to create test cases! How many?\")\n",
    "    for i in range(int(test_number)):\n",
    "        tc = TestCase()\n",
    "        tc.content = input(\"Test case %d:\" % (i+1))\n",
    "        tc.problem = p\n",
    "        tc.save()\n",
    "        \n",
    "        # Dump action into pickle\n",
    "        with open(\"data/pickles/testcase_%d.pkl\" % tc.id, \"wb\") as pklfile:\n",
    "            pickle.dump(tc, pklfile)\n",
    "            \n",
    "    # Want to review the problem?\n",
    "    review_problem = input(\"Do you want to rewrite the problem? Y or N\")\n",
    "    if review_problem.upper() == 'Y':\n",
    "        input(\"\"\"Please, write your problem in the file data/problems/%d.txt and title in data/titles/%d.txt.\n",
    "                 Press ENTER to continue.\"\"\" % (p.id, p.id))\n",
    "        with open(\"data/problems/%d.txt\" % p.id, \"r\") as problemfile:\n",
    "            p.content = problemfile.read()\n",
    "        with open(\"data/titles/%d.txt\" % p.id, \"r\") as problemfile:\n",
    "            p.title = problemfile.read()\n",
    "        p.save()\n",
    "        \n",
    "    # Dump edited problem into pickle\n",
    "    with open(\"data/pickles/problem_%d.pkl\" % p.id, \"wb\") as pklfile:\n",
    "        pickle.dump(p, pklfile)\n",
    "            \n",
    "    # Dump reviewed items into pickle\n",
    "    with open(\"data/reviewed.pkl\", \"wb\") as pklfile:\n",
    "        pickle.dump(reviewed, pklfile)\n",
    "        \n",
    "    clear_output()"
   ]
  },
  {
   "cell_type": "code",
   "execution_count": 26,
   "metadata": {},
   "outputs": [
    {
     "data": {
      "text/plain": [
       "'num = input(\"Enter a number: \")\\nmod = num % 2\\nif mod > 0:\\n    print(\"You picked an odd number.\")\\nelse:\\n    print(\"You picked an even number.\")'"
      ]
     },
     "execution_count": 26,
     "metadata": {},
     "output_type": "execute_result"
    }
   ],
   "source": [
    "with open(\"data/pickles/solution_2.pkl\",\"rb\") as pklfile:\n",
    "    d = pickle.load(pklfile)\n",
    "d.content"
   ]
  },
  {
   "cell_type": "code",
   "execution_count": 28,
   "metadata": {},
   "outputs": [
    {
     "data": {
      "text/plain": [
       "[1, 2, 3]"
      ]
     },
     "execution_count": 28,
     "metadata": {},
     "output_type": "execute_result"
    }
   ],
   "source": [
    "with open(\"data/reviewed.pkl\",\"rb\") as pklfile:\n",
    "    d = pickle.load(pklfile)\n",
    "d"
   ]
  }
 ],
 "metadata": {
  "kernelspec": {
   "display_name": "Django Shell-Plus",
   "language": "python",
   "name": "django_extensions"
  },
  "language_info": {
   "codemirror_mode": {
    "name": "ipython",
    "version": 3
   },
   "file_extension": ".py",
   "mimetype": "text/x-python",
   "name": "python",
   "nbconvert_exporter": "python",
   "pygments_lexer": "ipython3",
   "version": "3.6.2"
  }
 },
 "nbformat": 4,
 "nbformat_minor": 2
}
