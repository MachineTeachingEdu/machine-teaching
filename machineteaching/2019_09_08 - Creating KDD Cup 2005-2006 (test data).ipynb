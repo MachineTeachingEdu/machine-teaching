{
 "cells": [
  {
   "cell_type": "code",
   "execution_count": 1,
   "metadata": {},
   "outputs": [],
   "source": [
    "import pandas as pd\n",
    "import re\n",
    "import numpy as np\n",
    "from sklearn.metrics import roc_curve, auc\n",
    "import matplotlib.pyplot as plt\n",
    "import pickle"
   ]
  },
  {
   "cell_type": "markdown",
   "metadata": {},
   "source": [
    "### Reading KDD train file\n",
    "Drop rows with null in any of the important columns"
   ]
  },
  {
   "cell_type": "code",
   "execution_count": 2,
   "metadata": {},
   "outputs": [],
   "source": [
    "folder = 'data/kdd/2005-2006'"
   ]
  },
  {
   "cell_type": "code",
   "execution_count": 3,
   "metadata": {},
   "outputs": [
    {
     "name": "stdout",
     "output_type": "stream",
     "text": [
      "(3967, 19)\n",
      "CPU times: user 78.1 ms, sys: 15.6 ms, total: 93.8 ms\n",
      "Wall time: 82.5 ms\n"
     ]
    }
   ],
   "source": [
    "%%time\n",
    "df_all = pd.read_csv('%s/algebra_2005_2006_master.txt' % folder, delimiter='\\t')\n",
    "print(df_all.shape)"
   ]
  },
  {
   "cell_type": "code",
   "execution_count": 4,
   "metadata": {},
   "outputs": [],
   "source": [
    "df = df_all[['Row', 'Anon Student Id', 'Correct First Attempt', 'Problem Hierarchy', 'Problem Name', 'Problem View', 'Step Name', 'KC(Default)']]"
   ]
  },
  {
   "cell_type": "code",
   "execution_count": 5,
   "metadata": {},
   "outputs": [],
   "source": [
    "df = df.dropna(subset=['KC(Default)'])\n",
    "df = df.reset_index()"
   ]
  },
  {
   "cell_type": "code",
   "execution_count": 6,
   "metadata": {},
   "outputs": [
    {
     "data": {
      "text/plain": [
       "(2954, 9)"
      ]
     },
     "execution_count": 6,
     "metadata": {},
     "output_type": "execute_result"
    }
   ],
   "source": [
    "df.shape"
   ]
  },
  {
   "cell_type": "code",
   "execution_count": 7,
   "metadata": {},
   "outputs": [
    {
     "data": {
      "text/plain": [
       "2953"
      ]
     },
     "execution_count": 7,
     "metadata": {},
     "output_type": "execute_result"
    }
   ],
   "source": [
    "idx_df = df[df[\"Row\"] == int(1080617)].index.values.astype(int)[0]\n",
    "idx_df"
   ]
  },
  {
   "cell_type": "markdown",
   "metadata": {},
   "source": [
    "### Preprocessing\n",
    "Transform dataframe in a format understood by the BKT module"
   ]
  },
  {
   "cell_type": "code",
   "execution_count": 8,
   "metadata": {},
   "outputs": [],
   "source": [
    "skipped = []\n",
    "def get_kcs(row):\n",
    "    text = row['KC(Default)'].replace(',','')\n",
    "    kc_list = text.split('~~')\n",
    "    kc = []\n",
    "    for item in kc_list:\n",
    "        # Option 1: with SkillRule prefix\n",
    "        found_opt1 = re.findall(r'^\\[SkillRule: ([\\w ]+[ ,/?-]*[\\w ]*);.*', item, flags=re.M)\n",
    "        # Option 2: regular words (hyphenized or spaced)\n",
    "        found_opt2 = re.findall(r'^([\\w -]+).*', item, flags=re.M)\n",
    "        # Option 3: get what couldn't be extracted from previous patterns\n",
    "        found_opt3 = re.findall(r'^\\[SkillRule: (.*);.*', item, flags=re.M)\n",
    "        if found_opt1:\n",
    "            kc.append(found_opt1[0])\n",
    "        elif found_opt2:\n",
    "            kc.append(found_opt2[0])\n",
    "        elif found_opt3:\n",
    "            kc.append(found_opt3[0])\n",
    "        else:\n",
    "            skipped.append(item)\n",
    "    return kc\n",
    "\n",
    "def get_steps(row):\n",
    "    step = row['Problem Hierarchy'] + '_' + row[\"Problem Name\"] + '_' + row['Step Name']\n",
    "    return step"
   ]
  },
  {
   "cell_type": "markdown",
   "metadata": {},
   "source": [
    "Separate KCs in a list and create an identifier name for the step"
   ]
  },
  {
   "cell_type": "code",
   "execution_count": 9,
   "metadata": {},
   "outputs": [
    {
     "name": "stdout",
     "output_type": "stream",
     "text": [
      "CPU times: user 203 ms, sys: 0 ns, total: 203 ms\n",
      "Wall time: 190 ms\n"
     ]
    }
   ],
   "source": [
    "%%time\n",
    "df['KC'] = df.apply(get_kcs, axis=1)\n",
    "df['step'] = df.apply(get_steps, axis=1)"
   ]
  },
  {
   "cell_type": "code",
   "execution_count": 10,
   "metadata": {},
   "outputs": [
    {
     "name": "stdout",
     "output_type": "stream",
     "text": [
      "CPU times: user 109 ms, sys: 15.6 ms, total: 125 ms\n",
      "Wall time: 112 ms\n"
     ]
    }
   ],
   "source": [
    "%%time\n",
    "kcs = []\n",
    "for row in df['KC'].iteritems():\n",
    "    kcs.extend(row[1])\n",
    "kcs = list(set(kcs))\n",
    "steps = df['step'].unique().tolist()\n",
    "\n",
    "def create_data(row):\n",
    "    question_id = steps.index(row['step'])\n",
    "    return question_id\n",
    "\n",
    "df['question_id'] = df.apply(create_data, axis=1)"
   ]
  },
  {
   "cell_type": "markdown",
   "metadata": {},
   "source": [
    "Construct Q-Matrix"
   ]
  },
  {
   "cell_type": "code",
   "execution_count": 12,
   "metadata": {},
   "outputs": [],
   "source": [
    "with open('%s/kdd_2005_2006_kcs.pkl' % folder, 'rb') as pklfile:\n",
    "    kcs_train = pickle.load(pklfile)"
   ]
  },
  {
   "cell_type": "code",
   "execution_count": 13,
   "metadata": {},
   "outputs": [
    {
     "name": "stdout",
     "output_type": "stream",
     "text": [
      "(2391, 110)\n",
      "CPU times: user 469 ms, sys: 0 ns, total: 469 ms\n",
      "Wall time: 462 ms\n"
     ]
    }
   ],
   "source": [
    "%%time\n",
    "q_matrix = np.zeros((len(steps), len(kcs_train)))\n",
    "\n",
    "for idx, item in df.iterrows():\n",
    "    for kc in item['KC']:\n",
    "        kc_col = kcs_train.index(kc)\n",
    "        q_matrix[item['question_id'], kc_col] = 1\n",
    "    \n",
    "print(q_matrix.shape)"
   ]
  },
  {
   "cell_type": "markdown",
   "metadata": {},
   "source": [
    "Save data"
   ]
  },
  {
   "cell_type": "code",
   "execution_count": 14,
   "metadata": {},
   "outputs": [],
   "source": [
    "with open('%s/kdd_2005_2006_test_df.pkl' % folder, 'wb') as pklfile:\n",
    "    pickle.dump(df, pklfile)\n",
    "with open('%s/kdd_2005_2006_test_q_matrix.pkl' % folder, 'wb') as pklfile:\n",
    "    pickle.dump(q_matrix, pklfile)"
   ]
  },
  {
   "cell_type": "code",
   "execution_count": 15,
   "metadata": {},
   "outputs": [
    {
     "data": {
      "text/plain": [
       "551"
      ]
     },
     "execution_count": 15,
     "metadata": {},
     "output_type": "execute_result"
    }
   ],
   "source": [
    "# Data matrix\n",
    "data = df[['Correct First Attempt', 'Anon Student Id', 'question_id']].values.tolist()\n",
    "students = df['Anon Student Id'].unique().tolist()\n",
    "len(students)"
   ]
  },
  {
   "cell_type": "code",
   "execution_count": 16,
   "metadata": {},
   "outputs": [],
   "source": [
    "with open('%s/kdd_2005_2006_test_data.pkl' % folder, 'wb') as pklfile:\n",
    "    pickle.dump(data, pklfile)\n",
    "with open('%s/kdd_2005_2006_test_students.pkl' % folder, 'wb') as pklfile:\n",
    "    pickle.dump(students, pklfile)"
   ]
  }
 ],
 "metadata": {
  "kernelspec": {
   "display_name": "Python 3",
   "language": "python",
   "name": "python3"
  },
  "language_info": {
   "codemirror_mode": {
    "name": "ipython",
    "version": 3
   },
   "file_extension": ".py",
   "mimetype": "text/x-python",
   "name": "python",
   "nbconvert_exporter": "python",
   "pygments_lexer": "ipython3",
   "version": "3.7.6"
  }
 },
 "nbformat": 4,
 "nbformat_minor": 2
}
