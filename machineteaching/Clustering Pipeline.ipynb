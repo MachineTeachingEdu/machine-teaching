{
 "cells": [
  {
   "cell_type": "code",
   "execution_count": 1,
   "metadata": {},
   "outputs": [],
   "source": [
    "#DB\n",
    "from questions.models import Solution, Cluster\n",
    "\n",
    "# Helpers\n",
    "import numpy as np\n",
    "\n",
    "# Preprocessing\n",
    "from analyzer import python_analyzer\n",
    "from sklearn.feature_extraction.text import CountVectorizer, TfidfVectorizer\n",
    "from vectorizer import NCutVectorizer"
   ]
  },
  {
   "cell_type": "markdown",
   "metadata": {},
   "source": [
    "## Data"
   ]
  },
  {
   "cell_type": "code",
   "execution_count": 2,
   "metadata": {},
   "outputs": [
    {
     "name": "stdout",
     "output_type": "stream",
     "text": [
      "Problems to be ignored: 591\n",
      "Problems to be used: 132\n",
      "Solutions to be user: 54\n",
      "Got 54 documents\n"
     ]
    }
   ],
   "source": [
    "## Cleaning database\n",
    "last_id = 132\n",
    "problems = Problem.objects.filter(id__gt=132)\n",
    "solutions_obj = Solution.objects.filter(problem__in=problems).update(ignore=True)\n",
    "print(\"Problems to be ignored: %d\" % problems.count())\n",
    "\n",
    "problems = Problem.objects.filter(id__lte=132)\n",
    "print(\"Problems to be used: %d\" % problems.count())\n",
    "\n",
    "solutions_obj = Solution.objects.filter(problem__in=problems, ignore=False).order_by('id')\n",
    "print(\"Solutions to be user: %d\" % solutions_obj.count())\n",
    "\n",
    "docs_id = []\n",
    "questions = []\n",
    "solutions = []\n",
    "\n",
    "# Fill separated structures\n",
    "for sol in solutions_obj:\n",
    "    docs_id.append(sol.id)\n",
    "    questions.append(sol.problem.content)\n",
    "    solutions.append(sol.content)\n",
    "\n",
    "print(\"Got %d documents\" %(solutions_obj.count()))"
   ]
  },
  {
   "cell_type": "markdown",
   "metadata": {},
   "source": [
    "### Preprocessing solutions into bag of words ###"
   ]
  },
  {
   "cell_type": "code",
   "execution_count": 3,
   "metadata": {},
   "outputs": [],
   "source": [
    "def create_bag_of_words(docs, vectorizer_method, binary=False, min_df=0.2):\n",
    "    vectorizer = vectorizer_method(analyzer = python_analyzer,\n",
    "                                   binary=binary,\n",
    "                                   min_df=min_df) \n",
    "    train_data_features = vectorizer.fit_transform(docs)\n",
    "    try:\n",
    "        train_data_features = train_data_features.toarray()\n",
    "    # It's already an array\n",
    "    except AttributeError:\n",
    "        pass\n",
    "    return train_data_features"
   ]
  },
  {
   "cell_type": "code",
   "execution_count": 4,
   "metadata": {},
   "outputs": [
    {
     "name": "stdout",
     "output_type": "stream",
     "text": [
      "(54, 236)\n",
      "(54, 236)\n",
      "(54, 83)\n",
      "(54, 83)\n",
      "(54, 54)\n",
      "(54, 54)\n",
      "(54, 44)\n",
      "(54, 44)\n",
      "(54, 39)\n",
      "(54, 39)\n",
      "(54, 31)\n",
      "(54, 31)\n",
      "(54, 23)\n",
      "(54, 23)\n",
      "(54, 22)\n",
      "(54, 22)\n",
      "(54, 18)\n",
      "(54, 18)\n",
      "(54, 236)\n",
      "(54, 236)\n",
      "(54, 83)\n",
      "(54, 83)\n",
      "(54, 54)\n",
      "(54, 54)\n",
      "(54, 44)\n",
      "(54, 44)\n",
      "(54, 39)\n",
      "(54, 39)\n",
      "(54, 31)\n",
      "(54, 31)\n",
      "(54, 23)\n",
      "(54, 23)\n",
      "(54, 22)\n",
      "(54, 22)\n",
      "(54, 18)\n",
      "(54, 18)\n",
      "(54, 236)\n",
      "(54, 236)\n",
      "(54, 83)\n",
      "(54, 83)\n",
      "(54, 54)\n",
      "(54, 54)\n",
      "(54, 44)\n",
      "(54, 44)\n",
      "(54, 39)\n",
      "(54, 39)\n",
      "(54, 31)\n",
      "(54, 31)\n",
      "(54, 23)\n",
      "(54, 23)\n",
      "(54, 22)\n",
      "(54, 22)\n",
      "(54, 18)\n",
      "(54, 18)\n"
     ]
    }
   ],
   "source": [
    "vectorizers = [CountVectorizer, TfidfVectorizer, NCutVectorizer]\n",
    "min_df = np.arange(0.05, 0.5, 0.05)\n",
    "binary = [True, False]\n",
    "clustering = ['nmf', 'lda', 'hierarchical', 'gm', 'spectral']\n",
    "k = range(2, min(solution_sample.shape))\n",
    "    \n",
    "# Grid search\n",
    "for v in vectorizers:\n",
    "    for m in min_df:\n",
    "        for b in binary:\n",
    "            train_data_features = create_bag_of_words(solutions, v, binary=b, min_df=m)\n",
    "            print(train_data_features.shape)"
   ]
  }
 ],
 "metadata": {
  "kernelspec": {
   "display_name": "Django Shell-Plus",
   "language": "python",
   "name": "django_extensions"
  },
  "language_info": {
   "codemirror_mode": {
    "name": "ipython",
    "version": 3
   },
   "file_extension": ".py",
   "mimetype": "text/x-python",
   "name": "python",
   "nbconvert_exporter": "python",
   "pygments_lexer": "ipython3",
   "version": "3.6.2"
  }
 },
 "nbformat": 4,
 "nbformat_minor": 2
}
