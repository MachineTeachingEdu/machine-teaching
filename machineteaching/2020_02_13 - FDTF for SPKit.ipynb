{
 "cells": [
  {
   "cell_type": "code",
   "execution_count": 1,
   "metadata": {},
   "outputs": [],
   "source": [
    "import numpy as np\n",
    "from scipy import sparse\n",
    "import matplotlib.pyplot as plt\n",
    "from spkit.simulate_student import SimulateStudent\n",
    "from spkit import bkt, pfa\n",
    "from sklearn.metrics import roc_curve, auc\n",
    "import pandas as pd"
   ]
  },
  {
   "cell_type": "markdown",
   "metadata": {},
   "source": [
    "### Simulate students"
   ]
  },
  {
   "cell_type": "markdown",
   "metadata": {},
   "source": [
    "Create data"
   ]
  },
  {
   "cell_type": "code",
   "execution_count": 244,
   "metadata": {},
   "outputs": [],
   "source": [
    "N_CONCEPTS = 3\n",
    "N_QUESTIONS = 20\n",
    "N_STUDENTS = 25\n",
    "N_ATTEMPTS = 3\n",
    "\n",
    "# Save original params: P_L0 P_T, P_S, P_G\n",
    "bkt_params = np.zeros((N_CONCEPTS, 4))\n",
    "\n",
    "# # Create and fill Q Matrix (more than one concept per question)\n",
    "# q_matrix = np.random.rand(N_QUESTIONS, N_CONCEPTS)\n",
    "# q_matrix[q_matrix >= 0.5] = 1\n",
    "# q_matrix[q_matrix < 0.5] = 0\n",
    "# # If there is any zeroed column in the q matrix (question not belonging to concept), substitute it per 1\n",
    "# q_matrix[:, np.where(q_matrix.sum(axis=0) == 0)] = 1\n",
    "\n",
    "# Create and fill Q Matrix (just one concept per question)\n",
    "q_matrix = np.zeros((N_QUESTIONS, N_CONCEPTS))\n",
    "q_matrix[:,0] = np.random.rand(N_QUESTIONS)\n",
    "q_matrix[q_matrix >= 0.5] = 1\n",
    "q_matrix[q_matrix < 0.5] = 0\n",
    "q_matrix[:,1] = 1-q_matrix[:,0]\n",
    "\n",
    "# Create and fill Q Matrix (just one concept)\n",
    "# q_matrix = np.ones((N_QUESTIONS, N_CONCEPTS))\n",
    "data = []\n",
    "\n",
    "# Generate a BKT model for each concept\n",
    "for concept in range(N_CONCEPTS):\n",
    "    p_L0 = np.random.uniform(0.1, 0.3)\n",
    "    p_T = np.random.uniform(0.1, 0.2)\n",
    "    p_S = np.random.uniform(0.1, 0.3)\n",
    "    p_G = np.random.uniform(0, 0.15)\n",
    "    bkt_params[concept,:] = (p_L0, p_T, p_S, p_G)\n",
    "\n",
    "#     data_time = []\n",
    "#     students = SimulateStudent(p_L0, p_T, p_S, p_G, timestamp_prior)\n",
    "    students = SimulateStudent(p_L0, p_T, p_S, p_G)\n",
    "    for i in range(N_STUDENTS):\n",
    "#         last_time = datetime(2019,12,17)\n",
    "        answered_questions = []\n",
    "        for question_id in range(N_QUESTIONS):\n",
    "            # Check if question belongs to concept\n",
    "            if q_matrix[question_id, concept] == 1:\n",
    "                # Draw result\n",
    "                new_attempt = True\n",
    "                while new_attempt:\n",
    "                    answered_questions.append(question_id)\n",
    "                    new_attempt = np.random.binomial(1, 0.5)\n",
    "        observations = students.simulate(len(answered_questions))\n",
    "        for idx, question_id in enumerate(answered_questions):\n",
    "            data.append([observations[idx], i, question_id])\n",
    "\n",
    "        else:\n",
    "            continue\n",
    "data = np.asarray(data)\n",
    "students = list(range(N_STUDENTS))"
   ]
  },
  {
   "cell_type": "markdown",
   "metadata": {},
   "source": [
    "Separate in train and test"
   ]
  },
  {
   "cell_type": "code",
   "execution_count": 245,
   "metadata": {},
   "outputs": [],
   "source": [
    "np.random.seed(1)\n",
    "np.random.shuffle(students)"
   ]
  },
  {
   "cell_type": "code",
   "execution_count": 246,
   "metadata": {},
   "outputs": [],
   "source": [
    "TRAIN_PROPORTION = 0.8\n",
    "idx = int(np.ceil(TRAIN_PROPORTION*len(students)))\n",
    "train_students = students[:idx]\n",
    "test_students = students[idx:]"
   ]
  },
  {
   "cell_type": "code",
   "execution_count": 247,
   "metadata": {},
   "outputs": [],
   "source": [
    "train_set = data[np.where(np.isin(data[:,1], train_students))]\n",
    "test_set = data[np.where(np.isin(data[:,1], test_students))]"
   ]
  },
  {
   "cell_type": "markdown",
   "metadata": {},
   "source": [
    "Some users will be used in training up to a certain number of attempts"
   ]
  },
  {
   "cell_type": "code",
   "execution_count": 248,
   "metadata": {},
   "outputs": [],
   "source": [
    "# %%time\n",
    "test_set = np.empty((0,3), int)\n",
    "np.random.seed(1)\n",
    "train_attempts = np.random.uniform(size=len(test_students))\n",
    "for idx, student in enumerate(test_students):\n",
    "    student_attempts = data[np.where(data[:,1] == student)]\n",
    "    ta = int(np.floor(0.2*len(student_attempts)))\n",
    "    train_set = np.vstack((train_set, data[np.where(data[:,1] == student)][:ta]))\n",
    "    test_set  = np.vstack((test_set,  data[np.where(data[:,1] == student)][ta:]))"
   ]
  },
  {
   "cell_type": "code",
   "execution_count": 253,
   "metadata": {},
   "outputs": [],
   "source": [
    "train_students = list(set(train_set[:,1]))\n",
    "n_students = len(train_students)\n",
    "n_questions = len(list(set(train_set[:,2])))\n",
    "\n",
    "attempt_distribution = []\n",
    "max_attempt = 0\n",
    "for student in train_students:\n",
    "    student_attempts = len(data[np.where(data[:,1] == student)])\n",
    "    attempt_distribution.append(student_attempts)\n",
    "    if student_attempts > max_attempt:\n",
    "        max_attempt = student_attempts\n",
    "        \n",
    "median_attempt = int(np.median(np.asarray(attempt_distribution)))\n",
    "student_performance = np.zeros((n_students, n_questions, median_attempt))\n",
    "X = np.zeros((n_students, n_questions, median_attempt))"
   ]
  },
  {
   "cell_type": "code",
   "execution_count": 250,
   "metadata": {},
   "outputs": [],
   "source": [
    "from collections import defaultdict"
   ]
  },
  {
   "cell_type": "code",
   "execution_count": 260,
   "metadata": {},
   "outputs": [],
   "source": [
    "student_attempts = defaultdict(int)\n",
    "for item in train_set:\n",
    "    outcome, s_idx, q_idx = item\n",
    "    a_idx = student_attempts[(s_idx, q_idx)]\n",
    "    student_performance[s_idx, q_idx, a_idx] = outcome\n",
    "    X[s_idx, q_idx, a_idx] = 1\n",
    "    student_attempts[(s_idx, q_idx)] += 1\n",
    "    \n",
    "student_performance[np.where(X[:,:] == 0)] = None"
   ]
  },
  {
   "cell_type": "code",
   "execution_count": 261,
   "metadata": {},
   "outputs": [
    {
     "data": {
      "text/plain": [
       "array([[[1., 1., 0., ..., 0., 0., 0.],\n",
       "        [1., 1., 0., ..., 0., 0., 0.],\n",
       "        [1., 1., 0., ..., 0., 0., 0.],\n",
       "        ...,\n",
       "        [1., 0., 0., ..., 0., 0., 0.],\n",
       "        [1., 1., 0., ..., 0., 0., 0.],\n",
       "        [1., 0., 0., ..., 0., 0., 0.]],\n",
       "\n",
       "       [[1., 0., 0., ..., 0., 0., 0.],\n",
       "        [1., 1., 1., ..., 0., 0., 0.],\n",
       "        [1., 0., 0., ..., 0., 0., 0.],\n",
       "        ...,\n",
       "        [1., 0., 0., ..., 0., 0., 0.],\n",
       "        [1., 1., 0., ..., 0., 0., 0.],\n",
       "        [1., 1., 1., ..., 0., 0., 0.]],\n",
       "\n",
       "       [[1., 1., 1., ..., 0., 0., 0.],\n",
       "        [1., 1., 1., ..., 0., 0., 0.],\n",
       "        [1., 1., 1., ..., 0., 0., 0.],\n",
       "        ...,\n",
       "        [1., 0., 0., ..., 0., 0., 0.],\n",
       "        [1., 0., 0., ..., 0., 0., 0.],\n",
       "        [1., 1., 1., ..., 0., 0., 0.]],\n",
       "\n",
       "       ...,\n",
       "\n",
       "       [[1., 1., 1., ..., 0., 0., 0.],\n",
       "        [1., 1., 0., ..., 0., 0., 0.],\n",
       "        [1., 1., 1., ..., 0., 0., 0.],\n",
       "        ...,\n",
       "        [1., 0., 0., ..., 0., 0., 0.],\n",
       "        [1., 1., 0., ..., 0., 0., 0.],\n",
       "        [1., 1., 1., ..., 0., 0., 0.]],\n",
       "\n",
       "       [[1., 0., 0., ..., 0., 0., 0.],\n",
       "        [1., 1., 1., ..., 0., 0., 0.],\n",
       "        [1., 0., 0., ..., 0., 0., 0.],\n",
       "        ...,\n",
       "        [1., 0., 0., ..., 0., 0., 0.],\n",
       "        [1., 0., 0., ..., 0., 0., 0.],\n",
       "        [1., 0., 0., ..., 0., 0., 0.]],\n",
       "\n",
       "       [[1., 1., 0., ..., 0., 0., 0.],\n",
       "        [1., 1., 1., ..., 0., 0., 0.],\n",
       "        [1., 0., 0., ..., 0., 0., 0.],\n",
       "        ...,\n",
       "        [1., 1., 1., ..., 0., 0., 0.],\n",
       "        [1., 0., 0., ..., 0., 0., 0.],\n",
       "        [1., 0., 0., ..., 0., 0., 0.]]])"
      ]
     },
     "execution_count": 261,
     "metadata": {},
     "output_type": "execute_result"
    }
   ],
   "source": [
    "X"
   ]
  },
  {
   "cell_type": "code",
   "execution_count": 258,
   "metadata": {},
   "outputs": [
    {
     "data": {
      "text/plain": [
       "array([[[ 0., nan, nan, ..., nan, nan, nan],\n",
       "        [ 0., nan, nan, ..., nan, nan, nan],\n",
       "        [ 0., nan, nan, ..., nan, nan, nan],\n",
       "        ...,\n",
       "        [ 1., nan, nan, ..., nan, nan, nan],\n",
       "        [ 0., nan, nan, ..., nan, nan, nan],\n",
       "        [ 1., nan, nan, ..., nan, nan, nan]],\n",
       "\n",
       "       [[ 1., nan, nan, ..., nan, nan, nan],\n",
       "        [ 0., nan, nan, ..., nan, nan, nan],\n",
       "        [ 0., nan, nan, ..., nan, nan, nan],\n",
       "        ...,\n",
       "        [ 1., nan, nan, ..., nan, nan, nan],\n",
       "        [ 1., nan, nan, ..., nan, nan, nan],\n",
       "        [ 0., nan, nan, ..., nan, nan, nan]],\n",
       "\n",
       "       [[ 0., nan, nan, ..., nan, nan, nan],\n",
       "        [ 0., nan, nan, ..., nan, nan, nan],\n",
       "        [ 1., nan, nan, ..., nan, nan, nan],\n",
       "        ...,\n",
       "        [ 1., nan, nan, ..., nan, nan, nan],\n",
       "        [ 1., nan, nan, ..., nan, nan, nan],\n",
       "        [ 1., nan, nan, ..., nan, nan, nan]],\n",
       "\n",
       "       ...,\n",
       "\n",
       "       [[ 0., nan, nan, ..., nan, nan, nan],\n",
       "        [ 1., nan, nan, ..., nan, nan, nan],\n",
       "        [ 1., nan, nan, ..., nan, nan, nan],\n",
       "        ...,\n",
       "        [ 1., nan, nan, ..., nan, nan, nan],\n",
       "        [ 1., nan, nan, ..., nan, nan, nan],\n",
       "        [ 1., nan, nan, ..., nan, nan, nan]],\n",
       "\n",
       "       [[ 0., nan, nan, ..., nan, nan, nan],\n",
       "        [ 0., nan, nan, ..., nan, nan, nan],\n",
       "        [ 0., nan, nan, ..., nan, nan, nan],\n",
       "        ...,\n",
       "        [ 0., nan, nan, ..., nan, nan, nan],\n",
       "        [ 0., nan, nan, ..., nan, nan, nan],\n",
       "        [ 1., nan, nan, ..., nan, nan, nan]],\n",
       "\n",
       "       [[ 1., nan, nan, ..., nan, nan, nan],\n",
       "        [ 1., nan, nan, ..., nan, nan, nan],\n",
       "        [ 1., nan, nan, ..., nan, nan, nan],\n",
       "        ...,\n",
       "        [ 1., nan, nan, ..., nan, nan, nan],\n",
       "        [ 0., nan, nan, ..., nan, nan, nan],\n",
       "        [ 1., nan, nan, ..., nan, nan, nan]]])"
      ]
     },
     "execution_count": 258,
     "metadata": {},
     "output_type": "execute_result"
    }
   ],
   "source": [
    "student_performance"
   ]
  },
  {
   "cell_type": "code",
   "execution_count": 252,
   "metadata": {},
   "outputs": [
    {
     "data": {
      "text/plain": [
       "(array([20240.,     0.,     0.,     0.,     0.,     0.,     0.,     0.,\n",
       "            0.,   260.]),\n",
       " array([0. , 0.1, 0.2, 0.3, 0.4, 0.5, 0.6, 0.7, 0.8, 0.9, 1. ]),\n",
       " <a list of 10 Patch objects>)"
      ]
     },
     "execution_count": 252,
     "metadata": {},
     "output_type": "execute_result"
    },
    {
     "data": {
      "image/png": "[encoded data removed]",
      "text/plain": [
       "<Figure size 432x288 with 1 Axes>"
      ]
     },
     "metadata": {
      "needs_background": "light"
     },
     "output_type": "display_data"
    }
   ],
   "source": [
    "plt.hist(student_performance.flatten())"
   ]
  },
  {
   "cell_type": "code",
   "execution_count": 59,
   "metadata": {},
   "outputs": [
    {
     "data": {
      "text/plain": [
       "(882, 3)"
      ]
     },
     "execution_count": 59,
     "metadata": {},
     "output_type": "execute_result"
    }
   ],
   "source": [
    "train_set.shape"
   ]
  },
  {
   "cell_type": "code",
   "execution_count": 60,
   "metadata": {},
   "outputs": [
    {
     "data": {
      "text/plain": [
       "(193, 3)"
      ]
     },
     "execution_count": 60,
     "metadata": {},
     "output_type": "execute_result"
    }
   ],
   "source": [
    "test_set.shape"
   ]
  },
  {
   "cell_type": "code",
   "execution_count": 61,
   "metadata": {},
   "outputs": [
    {
     "name": "stdout",
     "output_type": "stream",
     "text": [
      "CPU times: user 32 µs, sys: 0 ns, total: 32 µs\n",
      "Wall time: 36 µs\n"
     ]
    }
   ],
   "source": [
    "%%time\n",
    "# Instantiate model\n",
    "model_bkt = bkt.BKT()\n",
    "model_pfa = pfa.PFA()\n",
    "#model_tpfa = tpfa.TPFA()"
   ]
  },
  {
   "cell_type": "code",
   "execution_count": 62,
   "metadata": {},
   "outputs": [
    {
     "data": {
      "text/plain": [
       "<spkit.pfa.PFA at 0x7f4bc3903fd0>"
      ]
     },
     "execution_count": 62,
     "metadata": {},
     "output_type": "execute_result"
    }
   ],
   "source": [
    "model_bkt.fit(train_set, q_matrix)\n",
    "model_pfa.fit(train_set, q_matrix)"
   ]
  },
  {
   "cell_type": "code",
   "execution_count": 63,
   "metadata": {},
   "outputs": [],
   "source": [
    "import copy"
   ]
  },
  {
   "cell_type": "code",
   "execution_count": 64,
   "metadata": {},
   "outputs": [],
   "source": [
    "def get_results(model, data, learning_state=None):\n",
    "    print(\"Results for model %s\" % model)\n",
    "#     data_arr = np.asarray(data)\n",
    "    students = set(list(data[:,1]))\n",
    "    rmse = 0\n",
    "    n = 0\n",
    "    score_df = []\n",
    "    outcome_all = []\n",
    "    predicted_proba = []\n",
    "    \n",
    "    if learning_state is None:\n",
    "        learning_state = {}\n",
    "    else:\n",
    "        learning_state = copy.deepcopy(learning_state)\n",
    "        \n",
    "    for student in students:\n",
    "        student_idx = np.where(data[:,1] == student)\n",
    "        outcome = data[student_idx, 0].astype('int64')\n",
    "        outcome_all += outcome.tolist()[0]\n",
    "        question_id = data[student_idx, 2].astype('int64')\n",
    "        try:\n",
    "            timestamp = data[student_idx, 3]\n",
    "            data_student = np.vstack((outcome, question_id, timestamp)).T.tolist()\n",
    "        except IndexError:\n",
    "            data_student = np.vstack((outcome, question_id)).T.astype('int64').tolist()\n",
    "        # Already seen the student, get last learning state\n",
    "        if student in learning_state.keys():\n",
    "            predicted = model.predict_proba(data_student, q_matrix, learning_state[student])\n",
    "        else:\n",
    "            predicted = model.predict_proba(data_student, q_matrix)\n",
    "        predicted_proba += predicted[:,1].tolist()\n",
    "        s_ll, s_aic, s_bic, s_rmse, s_acc = model.score()\n",
    "        fpr, tpr, _ = roc_curve(model.outcomes, predicted[:,1], pos_label=1)\n",
    "        auc_score = auc(fpr, tpr)\n",
    "        score_df.append({\"student\": student,\n",
    "                         \"AIC\": s_aic,\n",
    "                         \"BIC\": s_bic,\n",
    "                         \"RMSE\": s_rmse,\n",
    "                         \"Acc\": s_acc,\n",
    "                         \"n questions\": model.n_questions,\n",
    "                         \"LL\": s_ll,\n",
    "                         \"correct_outcome\": np.where(outcome == 1)[1].shape[0],\n",
    "                         \"incorrect_outcome\": np.where(outcome == 0)[1].shape[0],\n",
    "                         \"AUC\": auc_score})\n",
    "#         learning_state[student] = copy.deepcopy(model.get_learning_state())\n",
    "        learning_state[student] = model.get_learning_state()\n",
    "        \n",
    "    return pd.DataFrame.from_dict(score_df), outcome_all, predicted_proba, learning_state\n",
    "\n",
    "def print_scores(score, outcome, predicted):\n",
    "    \n",
    "    # RMSE\n",
    "    rmse_train = np.sqrt((score['RMSE']**2*score['n questions']).sum()/score['n questions'].sum())\n",
    "    rmse_avg = score['RMSE'].mean()\n",
    "    rmse_std = score['RMSE'].std()\n",
    "    print(\"RMSE de treino: %.2f\" % rmse_train)\n",
    "    print(\"RMSE médio: %.2f +- %.2f\" % (rmse_avg, rmse_std))\n",
    "    \n",
    "    # Accuracy\n",
    "    acc_train = (score['Acc']*score['n questions']).sum()/score['n questions'].sum()\n",
    "    acc_avg = score['Acc'].mean()\n",
    "    acc_std = score['Acc'].std()\n",
    "    print(\"Acc de treino: %.2f\" % acc_train)\n",
    "    print(\"Acc médio: %.2f +- %.2f\" % (acc_avg, acc_std))\n",
    "    \n",
    "    # AUC\n",
    "    fpr, tpr, thresholds = roc_curve(outcome, predicted, pos_label=1)\n",
    "    auc_score = auc(fpr, tpr)\n",
    "    auc_avg = score['AUC'].mean()\n",
    "    auc_std = score['AUC'].std()\n",
    "    # Sensitivity = tpr = TP/(TP+FN)\n",
    "    # Specificity = 1-fpr = TN/(TN+FP)\n",
    "    # Youden's index = Sensitivity + Specificity - 1 = tpr + (1-fpr) - 1 = tpr - fpr\n",
    "    J_stats = tpr - fpr\n",
    "    J_opt_thresholds = thresholds[np.argmax(J_stats)]\n",
    "    print('Youden\\'s optimum threshold: %.2f' % J_opt_thresholds)\n",
    "    print(\"AUC de treino: %.2f\" % auc_score)\n",
    "    print(\"AUC médio: %.2f +- %.2f\" % (auc_avg, auc_std))\n",
    "    estimated_outcome = np.where(np.asarray(predicted) > J_opt_thresholds, 1, 0)\n",
    "    adjusted_acc = (estimated_outcome == np.asarray(outcome)).sum()/score['n questions'].sum()\n",
    "    print(\"Adjusted Acc: %.2f\" % adjusted_acc)\n",
    "    plt.figure()\n",
    "    lw = 2\n",
    "    plt.plot(fpr, tpr, color='darkorange',\n",
    "             lw=lw, label='ROC curve (area = %0.2f)' % auc_score)\n",
    "    plt.plot([0, 1], [0, 1], color='navy', lw=lw, linestyle='--')\n",
    "    plt.xlim([0.0, 1.0])\n",
    "    plt.ylim([0.0, 1.05])\n",
    "    plt.xlabel('False Positive Rate')\n",
    "    plt.ylabel('True Positive Rate')\n",
    "    plt.title('Receiver operating characteristic example')\n",
    "    plt.legend(loc=\"lower right\")\n",
    "    plt.show()"
   ]
  },
  {
   "cell_type": "code",
   "execution_count": 65,
   "metadata": {},
   "outputs": [
    {
     "name": "stdout",
     "output_type": "stream",
     "text": [
      "Results for model <spkit.bkt.BKT object at 0x7f4bc3605860>\n",
      "Results for model <spkit.pfa.PFA object at 0x7f4bc3903fd0>\n"
     ]
    },
    {
     "name": "stderr",
     "output_type": "stream",
     "text": [
      "/data2/miniconda3/envs/machineteaching/lib/python3.6/site-packages/sklearn/metrics/_ranking.py:808: UndefinedMetricWarning: No positive samples in y_true, true positive value should be meaningless\n",
      "  UndefinedMetricWarning)\n",
      "/data2/miniconda3/envs/machineteaching/lib/python3.6/site-packages/sklearn/metrics/_ranking.py:808: UndefinedMetricWarning: No positive samples in y_true, true positive value should be meaningless\n",
      "  UndefinedMetricWarning)\n",
      "/data2/miniconda3/envs/machineteaching/lib/python3.6/site-packages/sklearn/metrics/_ranking.py:808: UndefinedMetricWarning: No positive samples in y_true, true positive value should be meaningless\n",
      "  UndefinedMetricWarning)\n"
     ]
    },
    {
     "name": "stdout",
     "output_type": "stream",
     "text": [
      "RMSE de treino: 0.39\n",
      "RMSE médio: 0.36 +- 0.09\n",
      "Acc de treino: 0.81\n",
      "Acc médio: 0.82 +- 0.09\n",
      "Youden's optimum threshold: 0.51\n",
      "AUC de treino: 0.82\n",
      "AUC médio: 0.71 +- 0.16\n",
      "Adjusted Acc: 0.82\n"
     ]
    },
    {
     "data": {
      "image/png": "[encoded data removed]",
      "text/plain": [
       "<Figure size 432x288 with 1 Axes>"
      ]
     },
     "metadata": {
      "needs_background": "light"
     },
     "output_type": "display_data"
    },
    {
     "name": "stdout",
     "output_type": "stream",
     "text": [
      "RMSE de treino: 0.43\n",
      "RMSE médio: 0.41 +- 0.08\n",
      "Acc de treino: 0.75\n",
      "Acc médio: 0.78 +- 0.12\n",
      "Youden's optimum threshold: 0.42\n",
      "AUC de treino: 0.81\n",
      "AUC médio: 0.68 +- 0.15\n",
      "Adjusted Acc: 0.78\n"
     ]
    },
    {
     "data": {
      "image/png": "[encoded data removed]",
      "text/plain": [
       "<Figure size 432x288 with 1 Axes>"
      ]
     },
     "metadata": {
      "needs_background": "light"
     },
     "output_type": "display_data"
    }
   ],
   "source": [
    "# Run model with train data to get students' updated learning state\n",
    "score_bkt, outcome_bkt, predicted_bkt, learning_state_bkt = get_results(model_bkt, train_set)\n",
    "score_pfa, outcome_pfa, predicted_pfa, learning_state_pfa = get_results(model_pfa, train_set)\n",
    "#score_tpfa, outcome_tpfa, predicted_tpfa = get_results(model_tpfa, data_time)\n",
    "\n",
    "print_scores(score_bkt, outcome_bkt, predicted_bkt)\n",
    "print_scores(score_pfa, outcome_pfa, predicted_pfa)"
   ]
  },
  {
   "cell_type": "code",
   "execution_count": 66,
   "metadata": {},
   "outputs": [
    {
     "name": "stdout",
     "output_type": "stream",
     "text": [
      "Results for model <spkit.bkt.BKT object at 0x7f4bc3605860>\n",
      "RMSE de treino: 0.33\n",
      "RMSE médio: 0.32 +- 0.11\n",
      "Acc de treino: 0.88\n",
      "Acc médio: 0.88 +- 0.08\n",
      "Youden's optimum threshold: 0.51\n",
      "AUC de treino: 0.90\n",
      "AUC médio: 0.84 +- 0.09\n",
      "Adjusted Acc: 0.88\n"
     ]
    },
    {
     "name": "stderr",
     "output_type": "stream",
     "text": [
      "/data2/miniconda3/envs/machineteaching/lib/python3.6/site-packages/sklearn/metrics/_ranking.py:808: UndefinedMetricWarning: No positive samples in y_true, true positive value should be meaningless\n",
      "  UndefinedMetricWarning)\n"
     ]
    },
    {
     "data": {
      "image/png": "[encoded data removed]",
      "text/plain": [
       "<Figure size 432x288 with 1 Axes>"
      ]
     },
     "metadata": {
      "needs_background": "light"
     },
     "output_type": "display_data"
    }
   ],
   "source": [
    "score_bkt, outcome_bkt, predicted_bkt, _ = get_results(model_bkt, test_set, learning_state_bkt)\n",
    "print_scores(score_bkt, outcome_bkt, predicted_bkt)"
   ]
  },
  {
   "cell_type": "code",
   "execution_count": 67,
   "metadata": {},
   "outputs": [
    {
     "name": "stdout",
     "output_type": "stream",
     "text": [
      "Results for model <spkit.pfa.PFA object at 0x7f4bc3903fd0>\n",
      "RMSE de treino: 0.42\n",
      "RMSE médio: 0.42 +- 0.04\n",
      "Acc de treino: 0.72\n",
      "Acc médio: 0.73 +- 0.16\n",
      "Youden's optimum threshold: 0.68\n",
      "AUC de treino: 0.86\n",
      "AUC médio: 0.79 +- 0.09\n",
      "Adjusted Acc: 0.80\n"
     ]
    },
    {
     "name": "stderr",
     "output_type": "stream",
     "text": [
      "/data2/miniconda3/envs/machineteaching/lib/python3.6/site-packages/sklearn/metrics/_ranking.py:808: UndefinedMetricWarning: No positive samples in y_true, true positive value should be meaningless\n",
      "  UndefinedMetricWarning)\n"
     ]
    },
    {
     "data": {
      "image/png": "[encoded data removed]",
      "text/plain": [
       "<Figure size 432x288 with 1 Axes>"
      ]
     },
     "metadata": {
      "needs_background": "light"
     },
     "output_type": "display_data"
    }
   ],
   "source": [
    "score_pfa, outcome_pfa, predicted_pfa, _ = get_results(model_pfa, test_set, learning_state_pfa)\n",
    "print_scores(score_pfa, outcome_pfa, predicted_pfa)"
   ]
  },
  {
   "cell_type": "code",
   "execution_count": 195,
   "metadata": {},
   "outputs": [],
   "source": [
    "# %load Create_simulation.py\n",
    "import numpy as np\n",
    "import pandas as pd\n",
    "import pickle as pk\n",
    "import matplotlib.pyplot as plt\n",
    "\n",
    "def simulated_data(n, a, q, e, c, num_view, datatype = None):\n",
    "    ''' create simulated data\n",
    "        n as number of student,\n",
    "        a as number of attempt,\n",
    "        p as number of problem,\n",
    "        q as number of question,\n",
    "        c as number of concept'''\n",
    "\n",
    "    # create matrix for q and e\n",
    "    quiz_concept = np.random.uniform(0,1, [c, q])\n",
    "#     example_concept = np.random.uniform(0,1, [c, e])\n",
    "\n",
    "    sumq = sum(quiz_concept)\n",
    "#     sume = sum(example_concept)\n",
    "\n",
    "    quiz_concept = quiz_concept/sumq # normalized q and e\n",
    "#     example_concept = example_concept/sume\n",
    "\n",
    "    # random create student activity sequence\n",
    "    sequence_matrix = np.zeros([n,q])\n",
    "    # For each student and question, draw the number of attempts\n",
    "    for i in range(0, n):\n",
    "        for j in range(0, q):\n",
    "            tried_question = np.random.binomial(1,0.5,1)\n",
    "            if tried_question:\n",
    "                sequence_matrix[i, j] = np.random.randint(0, a+5)\n",
    "            else:\n",
    "                sequence_matrix[i, j] = 0\n",
    "#     sequence_matrix = np.zeros([n,a])\n",
    "#     if num_view == 1:\n",
    "#         for i in range(0, n):\n",
    "#             sequence_matrix[i, :] = np.random.choice(range(0, q), a)\n",
    "\n",
    "    # create tensor t\n",
    "    t = np.random.normal(0,1, [n, a, c]) # randomly create a tensor\n",
    "    t1 = np.random.uniform(0,0.3, [n,c])   # create first slice of tensor as the student ability\n",
    "    t[:, 0, :] = np.copy(t1)\n",
    "\n",
    "    \n",
    "    for i in range(1, a): #according to\n",
    "        temp = np.copy(t1)\n",
    "        for s in range(0,n):\n",
    "            for q in range(q):\n",
    "                q_attempts = sequence_matrix[s,q]\n",
    "                if q_attempts == a:\n",
    "                    forgetornot = np.random.uniform(0,0.5) # probability for random forget\n",
    "                    if forgetornot >= 0.5: # if probability >= 0.5, then forget the knowledge instead of learning knowledge\n",
    "                        random_forget = np.random.uniform(0,0.05,c)\n",
    "                        temp[s, :] =  temp[s,:] - random_forget\n",
    "                        temp[s, :][temp[s,:] < 0] = 0\n",
    "                    else: # if not forget, then random increase the knowledge based on the question\n",
    "                        temp[s,:] = t1[s,:] + np.multiply(quiz_concept[:,q], np.random.uniform(0, 0.8, c))\n",
    "        t[:,i,:] = np.copy(temp)\n",
    "        t1 = np.copy(temp)\n",
    "\n",
    "    # quiz transpose, so that the shape of quiz and example be the [student, quiz, score]\n",
    "    quiz = np.transpose(np.dot(t, quiz_concept), (0, 2, 1))\n",
    "#     example = np.transpose(np.dot(t, example_concept), (0, 2, 1))\n",
    "    \n",
    "    return quiz, t, quiz_concept, sequence_matrix\n",
    "\n",
    "#     final_q = np.zeros([n,q,a])\n",
    "#     final_e = np.zeros([n,e,a])\n",
    "#     for i in range(0,n):\n",
    "#         for j in range(0,a):\n",
    "#             activty = int(sequence_matrix[i,j])\n",
    "#             if activty < q:\n",
    "#                 final_q[i,activty,j] = np.copy(quiz[i,activty,j])\n",
    "\n",
    "#     for i in range(0,n):\n",
    "#         for j in range(0,a):\n",
    "#             activty = int(sequence_matrix[i,j])\n",
    "#             if activty >= q:\n",
    "#                 activty = activty - q\n",
    "#                 if datatype == 'Quiz_Discussion': # if the learning resource want to create is binary, then make example to be binary\n",
    "#                     final_e[i, activty, j] = 1\n",
    "#                 else:\n",
    "#                     final_e[i,activty,j] = np.copy(example[i,activty,j])\n",
    "#     return final_q, final_e, t, quiz_concept, example_concept"
   ]
  },
  {
   "cell_type": "code",
   "execution_count": 196,
   "metadata": {},
   "outputs": [
    {
     "data": {
      "image/png": "[encoded data removed]",
      "text/plain": [
       "<Figure size 432x288 with 1 Axes>"
      ]
     },
     "metadata": {
      "needs_background": "light"
     },
     "output_type": "display_data"
    }
   ],
   "source": [
    "n = 100      # n as number of student\n",
    "a = 20        # a as number of attempt\n",
    "q = 10        # p as number of problem\n",
    "e = 15        # q as number of question\n",
    "c = 3         # c as number of concept\n",
    "# k = 3         # k as number of latent student feature\n",
    "# data_type = 'Quiz_Assignment' #simulation data type, assignment(continous) or discussion(binary)\n",
    "# data_type = 'Quiz_Discussion'\n",
    "# data_type = 'Quiz_Discussion_STQ'\n",
    "# data_type = 'Quiz_Discussion_STQ_Thresholded'\n",
    "data_type = 'Quiz_Only'\n",
    "# data_type = 'Quiz_Only_Discussion_STQ'\n",
    "# num_view = 1\n",
    "num_view = 1\n",
    "\n",
    "\n",
    "# quiz, example, t, quiz_concept, example_concept = simulated_data(n, a, q, e, c,num_view, data_type)\n",
    "quiz, t, quiz_concept, sequence_matrix = simulated_data(n, a, q, e, c, num_view, data_type)\n",
    "\n",
    "quiz_score_bf = []\n",
    "for i in range(0, n):\n",
    "    for j in range(0, q):\n",
    "        for k in range(0, a):\n",
    "            # print i, j, k\n",
    "            # print quiz[i,j,k]\n",
    "            if quiz[i, j, k] != 0:\n",
    "                quiz_score_bf.append(quiz[i, j, k])\n",
    "\n",
    "plt.hist(quiz_score_bf)\n",
    "plt.show()\n",
    "\n",
    "quiz[quiz > 0.15] = 1\n",
    "quiz[quiz < 0.15] = 0\n",
    "\n",
    "\n",
    "# quiz_score = []\n",
    "# for i in range(0, n):\n",
    "#     for j in range(0, q):\n",
    "#         for k in range(0, a):\n",
    "#             # print i, j, k\n",
    "#             # print quiz[i,j,k]\n",
    "#             if quiz[i, j, k] != 0:\n",
    "#                 quiz_score.append(quiz[i,j,k])\n",
    "\n",
    "# plt.hist(quiz_score)\n",
    "# plt.show()"
   ]
  },
  {
   "cell_type": "code",
   "execution_count": 197,
   "metadata": {},
   "outputs": [
    {
     "data": {
      "text/plain": [
       "20000"
      ]
     },
     "execution_count": 197,
     "metadata": {},
     "output_type": "execute_result"
    }
   ],
   "source": [
    "total = np.prod(quiz.shape)\n",
    "total"
   ]
  },
  {
   "cell_type": "code",
   "execution_count": 198,
   "metadata": {},
   "outputs": [
    {
     "data": {
      "text/plain": [
       "10320.0"
      ]
     },
     "execution_count": 198,
     "metadata": {},
     "output_type": "execute_result"
    }
   ],
   "source": [
    "quiz.sum()"
   ]
  },
  {
   "cell_type": "code",
   "execution_count": 199,
   "metadata": {},
   "outputs": [
    {
     "data": {
      "text/plain": [
       "array([[ 0., 15., 17., 14.,  5., 12.,  3.,  1.,  0.,  0.],\n",
       "       [14.,  0.,  0.,  5., 14., 12.,  0.,  0.,  1., 19.],\n",
       "       [13., 12., 24.,  0.,  0., 15., 16.,  0.,  0.,  0.],\n",
       "       [ 0., 13.,  0.,  0.,  0., 13.,  0.,  0.,  0.,  0.],\n",
       "       [ 8.,  0., 12.,  0., 12., 13.,  0.,  0.,  0.,  0.],\n",
       "       [ 0.,  0., 11., 22., 12.,  0.,  0., 10.,  0.,  4.],\n",
       "       [ 0., 24.,  0., 17., 11., 22., 15.,  6.,  0.,  0.],\n",
       "       [ 5., 16.,  0., 13.,  0.,  0.,  7., 21.,  0.,  0.],\n",
       "       [11.,  0., 20., 16., 23.,  0., 11., 24., 14.,  0.],\n",
       "       [ 9.,  0.,  0., 17.,  9.,  4.,  0.,  0.,  0., 20.],\n",
       "       [ 0.,  0.,  0., 11.,  0.,  0.,  0.,  0., 12.,  0.],\n",
       "       [15.,  0.,  0., 20.,  0.,  4.,  0., 16.,  0.,  2.],\n",
       "       [ 7.,  3., 16., 15.,  0.,  0.,  0.,  0., 15.,  2.],\n",
       "       [15.,  0., 17.,  0.,  4.,  0.,  0., 13.,  0., 19.],\n",
       "       [13.,  0.,  0.,  0.,  5., 23., 12.,  0.,  0.,  0.],\n",
       "       [ 0., 23.,  0., 21.,  1.,  0.,  0., 20.,  0.,  0.],\n",
       "       [15.,  6., 19.,  0.,  6.,  0.,  0., 19., 18., 20.],\n",
       "       [ 0.,  0., 18.,  0.,  6., 23.,  0., 20.,  9.,  9.],\n",
       "       [ 0.,  3., 12., 12.,  4.,  0.,  0.,  0.,  0.,  0.],\n",
       "       [ 0.,  0.,  0.,  2.,  0., 23., 11.,  1.,  0.,  0.],\n",
       "       [ 0., 18.,  0., 23.,  6., 17.,  0.,  8., 19.,  0.],\n",
       "       [ 0.,  3.,  0., 23., 11.,  7.,  6.,  0., 19.,  0.],\n",
       "       [21.,  6.,  0.,  0.,  0.,  0.,  0., 19.,  0.,  4.],\n",
       "       [21., 20., 11.,  0.,  0.,  0.,  0.,  0., 21.,  9.],\n",
       "       [14.,  0.,  0.,  0.,  0., 14.,  0.,  0.,  0.,  0.],\n",
       "       [ 0.,  1., 24., 13.,  0.,  0.,  0., 19., 22., 20.],\n",
       "       [23.,  0.,  0.,  0., 17.,  0.,  0.,  3.,  0.,  0.],\n",
       "       [13.,  0.,  0.,  0.,  0.,  0.,  0.,  0., 24.,  0.],\n",
       "       [19.,  0.,  7.,  0.,  0.,  4.,  0.,  0.,  0.,  0.],\n",
       "       [23., 13., 15.,  0.,  0., 18., 20.,  6.,  0., 13.],\n",
       "       [ 0.,  0., 10., 21., 13.,  1.,  0.,  6.,  0., 16.],\n",
       "       [ 0.,  5.,  0.,  0.,  0.,  0.,  0., 10., 18.,  3.],\n",
       "       [21., 11.,  0., 10.,  0.,  0.,  0.,  8.,  0., 24.],\n",
       "       [ 0.,  0.,  0.,  3., 24.,  0.,  3.,  0., 22.,  0.],\n",
       "       [ 0., 23.,  0.,  0.,  4.,  0.,  0.,  0., 14.,  3.],\n",
       "       [ 6., 13.,  0.,  0.,  0.,  0.,  9.,  0., 21.,  0.],\n",
       "       [24.,  8.,  6.,  9.,  1.,  0.,  0.,  0.,  5.,  0.],\n",
       "       [ 0.,  0.,  0., 23.,  0.,  0.,  0.,  0.,  0.,  0.],\n",
       "       [11.,  0., 16.,  0.,  5.,  3., 19.,  0.,  0.,  0.],\n",
       "       [ 0., 14.,  5.,  0., 16.,  0.,  4.,  0., 19., 12.],\n",
       "       [22.,  0., 14.,  0.,  0., 17.,  0.,  8.,  1.,  0.],\n",
       "       [ 0.,  0.,  0., 14.,  0.,  0.,  0.,  0., 17.,  0.],\n",
       "       [11.,  0.,  0.,  3., 17.,  8.,  0.,  0.,  0., 21.],\n",
       "       [19., 16.,  6.,  0., 14.,  0.,  8.,  0., 24.,  0.],\n",
       "       [ 0., 14.,  0.,  3., 14.,  0., 16.,  0.,  0., 20.],\n",
       "       [13.,  1., 24.,  4.,  0.,  0.,  0.,  0., 24.,  5.],\n",
       "       [24., 22.,  5.,  0.,  6.,  0.,  0., 19.,  0., 16.],\n",
       "       [ 0.,  2., 16.,  0.,  0., 16.,  0., 13.,  6.,  7.],\n",
       "       [ 3.,  1., 13.,  0.,  5.,  0., 24.,  0.,  9.,  0.],\n",
       "       [10.,  0., 17.,  0.,  0., 16., 23.,  0.,  0.,  8.],\n",
       "       [ 6.,  0.,  0.,  0.,  0., 17.,  0., 12., 12., 15.],\n",
       "       [ 0., 13.,  5.,  0., 12.,  0.,  0.,  3., 21.,  0.],\n",
       "       [10.,  2.,  5.,  0., 19.,  0., 20., 24.,  3.,  0.],\n",
       "       [ 1.,  0.,  0.,  0., 22.,  0., 14.,  0.,  0., 12.],\n",
       "       [18., 17.,  8.,  0., 13.,  0.,  0.,  0.,  2.,  0.],\n",
       "       [ 0.,  0.,  0., 13.,  0., 11., 14.,  0.,  0., 15.],\n",
       "       [ 0.,  0., 11.,  0., 22., 22.,  0.,  0.,  0.,  0.],\n",
       "       [ 0.,  3.,  0.,  3., 12.,  0.,  3.,  0.,  0.,  2.],\n",
       "       [ 0., 10.,  0.,  0.,  8.,  0., 10.,  0., 20.,  0.],\n",
       "       [ 0.,  8.,  0.,  0.,  4., 16.,  0., 17., 12.,  0.],\n",
       "       [24., 14.,  0.,  0., 12.,  7.,  0.,  4.,  0.,  0.],\n",
       "       [10., 13.,  0.,  7.,  4.,  0.,  4.,  0.,  0., 21.],\n",
       "       [ 0.,  0., 22., 11., 12.,  0.,  0.,  0.,  5.,  0.],\n",
       "       [ 6.,  0.,  0.,  0.,  0., 10.,  0.,  0., 20.,  0.],\n",
       "       [ 0., 15.,  7., 10.,  0.,  0.,  0.,  0.,  0.,  0.],\n",
       "       [ 0.,  0.,  0.,  0.,  6.,  0.,  0.,  0.,  0.,  0.],\n",
       "       [ 0., 10., 24., 20., 18.,  0., 14., 16.,  5., 23.],\n",
       "       [20., 21.,  7.,  0.,  0.,  0.,  0.,  0.,  0.,  0.],\n",
       "       [ 0.,  0.,  0.,  3.,  0.,  0., 24.,  5., 24.,  0.],\n",
       "       [ 3., 21.,  0.,  4.,  8.,  1.,  0.,  0.,  0., 23.],\n",
       "       [ 0.,  0.,  3.,  3.,  0.,  0.,  0.,  8.,  0.,  0.],\n",
       "       [16.,  5.,  9.,  0.,  0., 14.,  0.,  7.,  2.,  5.],\n",
       "       [ 0.,  9.,  8., 14.,  2., 18.,  4.,  0., 19.,  0.],\n",
       "       [ 0.,  0.,  0.,  0., 23.,  0.,  0.,  9.,  0.,  0.],\n",
       "       [11.,  0., 23.,  0.,  0.,  0., 18.,  4.,  0., 12.],\n",
       "       [ 0., 13.,  0.,  0.,  0.,  2.,  1., 17.,  0.,  0.],\n",
       "       [23.,  4., 19.,  0., 18.,  0.,  0.,  0., 17.,  0.],\n",
       "       [20., 20.,  4.,  0., 24.,  0., 21.,  0.,  0.,  0.],\n",
       "       [10.,  0.,  1.,  0.,  0.,  0.,  0.,  0.,  0.,  0.],\n",
       "       [ 0., 18.,  0.,  0.,  0.,  0.,  0.,  0.,  2.,  3.],\n",
       "       [12., 23., 22.,  0.,  0.,  0.,  4.,  0.,  0.,  0.],\n",
       "       [ 0.,  0.,  0.,  0., 10.,  5., 23.,  9.,  9.,  1.],\n",
       "       [ 0.,  0.,  0.,  6., 16., 21.,  4.,  0.,  0.,  0.],\n",
       "       [ 0., 19.,  0., 17.,  0., 12.,  6.,  0.,  0.,  0.],\n",
       "       [ 4.,  0.,  0.,  0., 12.,  6.,  0., 21.,  0.,  0.],\n",
       "       [ 6.,  9., 12., 19., 19., 23., 20.,  0.,  0., 10.],\n",
       "       [ 0.,  0.,  0., 10.,  0.,  0.,  0.,  0.,  8.,  0.],\n",
       "       [17.,  0.,  0.,  2., 11.,  3.,  0.,  0., 16.,  0.],\n",
       "       [15.,  8., 21.,  0.,  1.,  0., 22.,  0.,  0.,  7.],\n",
       "       [ 0.,  7., 22., 14., 22.,  0.,  0.,  0.,  0.,  0.],\n",
       "       [ 0.,  0.,  0.,  0.,  0., 10., 17., 22.,  3.,  0.],\n",
       "       [20.,  4.,  9.,  0., 24.,  0.,  0.,  0.,  0.,  2.],\n",
       "       [ 3.,  6.,  5., 11.,  0.,  0.,  0.,  0.,  8.,  0.],\n",
       "       [22.,  0.,  6.,  0.,  0., 16.,  0.,  0., 15.,  0.],\n",
       "       [ 0., 14.,  0.,  1.,  0.,  7., 17.,  4.,  0.,  8.],\n",
       "       [ 3., 17.,  0.,  0.,  0.,  0.,  7., 16., 17.,  0.],\n",
       "       [ 0.,  0.,  0., 24.,  0.,  6., 16.,  0.,  0.,  0.],\n",
       "       [ 5.,  0.,  0.,  0.,  0.,  0., 10., 23.,  8.,  0.],\n",
       "       [ 0.,  2.,  0.,  0., 23.,  0.,  0.,  0.,  0., 18.],\n",
       "       [24., 19.,  0., 12.,  0.,  0.,  4., 10., 15.,  1.]])"
      ]
     },
     "execution_count": 199,
     "metadata": {},
     "output_type": "execute_result"
    }
   ],
   "source": [
    "sequence_matrix"
   ]
  },
  {
   "cell_type": "code",
   "execution_count": 200,
   "metadata": {},
   "outputs": [],
   "source": [
    "X = np.zeros(quiz.shape)\n",
    "# Substitute not observed items per None\n",
    "for (student, question_id), attempt in np.ndenumerate(sequence_matrix):\n",
    "    X[student, question_id, 0:min(20,int(attempt))] = 1\n",
    "    \n",
    "quiz[np.where(X == 0)] = None\n",
    "quiz_original = quiz.copy()"
   ]
  },
  {
   "cell_type": "markdown",
   "metadata": {},
   "source": [
    "### FDTF Tensor Factorization"
   ]
  },
  {
   "cell_type": "code",
   "execution_count": 145,
   "metadata": {},
   "outputs": [],
   "source": [
    "def feedback_driven_tensor_factorization(student_performance, n_concepts=2, mu=1, init=3, max_iter=100):\n",
    "    \"\"\" Student performance: 0 if incorrect, 1 if correct or None if not observed \"\"\"\n",
    "    \n",
    "    # Get values from student performance tensor shape\n",
    "    n_students, n_questions, n_attempts = student_performance.shape\n",
    "    \n",
    "    # Construct tensor X denoting when a student has or has not chosen to work on a problem\n",
    "    X = np.ones(student_performance.shape)\n",
    "    X[np.where(np.isnan(student_performance))] = 0\n",
    "    # Complete student knowledge tensor with zero where is NaN\n",
    "    student_performance[np.where(np.isnan(student_performance))] = 0\n",
    "    \n",
    "    # Create student knowledge tensor\n",
    "    student_knowledge = np.zeros((n_students, n_concepts, n_attempts))\n",
    "\n",
    "#     error_run = []\n",
    "#     error_total_run = []\n",
    "#     student_performance_pred_run = []\n",
    "    best_error = 9999\n",
    "    \n",
    "    \n",
    "    # Several starts\n",
    "    for run in range(init):\n",
    "#         error = []\n",
    "        student_performance_pred_list = []\n",
    "\n",
    "        for attempt in range(N_ATTEMPTS):\n",
    "            student_knowledge[:, :, attempt] = np.random.rand(n_students, n_concepts)\n",
    "\n",
    "        student_performance_pred = np.zeros(student_performance.shape)\n",
    "        for i in range(max_iter):\n",
    "            # Phase 1: prediction\n",
    "            # Update Q: Q = (T'T)^(-1)T'Y = T^(-1)Y\n",
    "            # (T'T)^(-1)\n",
    "            student_knowledge_transposed = np.zeros((n_concepts, n_concepts, n_attempts))\n",
    "            for attempt in range(n_attempts):\n",
    "                student_knowledge_transposed[:, :, attempt] = np.dot(student_knowledge[:, :, attempt].T, \n",
    "                                                                     student_knowledge[:, :, attempt])\n",
    "            student_knowledge_transposed = student_knowledge_transposed.sum(axis=2)\n",
    "            student_knowledge_transposed_inv = np.linalg.pinv(student_knowledge_transposed)\n",
    "            \n",
    "            # T'Y\n",
    "            TY = np.zeros((n_concepts, n_questions, n_attempts))\n",
    "            for attempt in range(n_attempts):\n",
    "                TY[:, :, attempt] = np.dot(student_knowledge[:, :, attempt].T, \n",
    "                                           student_performance[:, :, attempt])\n",
    "            TY = TY.sum(axis=2)\n",
    "            \n",
    "            ## TODO: add regularization parameters (lambda)\n",
    "            # Q = (T'T)^(-1)T'Y\n",
    "            q_matrix = np.dot(student_knowledge_transposed_inv, TY)\n",
    "            # Impose non-negativity constraint\n",
    "            q_matrix[q_matrix < 0] = 0\n",
    "            # Normalize rows to sum one\n",
    "            row_sums = q_matrix.sum(axis=0, keepdims=True)\n",
    "            q_matrix = q_matrix / row_sums\n",
    "            \n",
    "            # Phase 2: learning\n",
    "            # Update T: T = 2*(T_{t-1}) + 2*((1-T_{t-1})/(1+exp(-mu*X_{t}*Q'))) - 1\n",
    "            # For T0 user T-1 as 0\n",
    "            student_knowledge[:, :, 0] = 2/(1+np.exp(-mu*np.dot(X[:,:,0], q_matrix.T)))\n",
    "            for attempt in range(n_attempts):\n",
    "                student_knowledge[:, :, attempt] = (2*student_knowledge[:, :, attempt-1]) + \\\n",
    "                2*(1-student_knowledge[:, :, attempt-1])/(1+np.exp(-mu*np.dot(X[:,:,attempt], q_matrix.T))) - 1\n",
    "                \n",
    "            # Y = TQ\n",
    "            for attempt in range(n_attempts):\n",
    "                student_performance_pred[:, :, attempt] = np.dot(student_knowledge[:, :, attempt], q_matrix)\n",
    "                \n",
    "            \n",
    "            diff = np.zeros((n_students, n_questions, n_attempts))\n",
    "            for attempt in range(n_attempts):\n",
    "                diff[:, :, attempt] = student_performance[:, :, attempt] - student_performance_pred[:, :, attempt]\n",
    "            # Frobenius norm (norm-2)\n",
    "            error = np.sqrt(np.sum(np.power(diff, 2)))\n",
    "#             error.append(np.sqrt(np.sum(np.power(diff, 2))))\n",
    "            if error < best_error:\n",
    "                best_student_performance_pred = student_performance_pred.copy()\n",
    "                best_student_knowledge = student_knowledge.copy()\n",
    "                best_q_matrix = q_matrix.copy()\n",
    "                best_error = error\n",
    "            \n",
    "#             student_performance_pred_iter = student_performance_pred.copy()\n",
    "#             student_performance_pred_list.append(student_performance_pred_iter)\n",
    "#         student_performance_pred_run.append(student_performance_pred_list)\n",
    "#         error_run.append(error)\n",
    "#         error_total_run.append(error[-1])\n",
    "                \n",
    "#     return np.asarray(student_performance_pred_run), np.asarray(error_run), error_total_run\n",
    "    if best_error == 9999:\n",
    "        raise RuntimeError(\"Could not converge\")\n",
    "    return best_student_performance_pred, best_student_knowledge, best_q_matrix, best_error\n",
    "#     return (np.asarray(student_performance_pred_run), np.asarray(error_run), error_total_run, \n",
    "#             best_student_performance_pred, best_student_knowledge, best_q_matrix, best_error)"
   ]
  },
  {
   "cell_type": "code",
   "execution_count": 31,
   "metadata": {},
   "outputs": [],
   "source": [
    "def predict(previous_student_knowledge, q_matrix, X):\n",
    "    # Get values from student performance tensor shape\n",
    "    current_student_knowledge = np.zeros(previous_student_knowledge.shape)\n",
    "    current_student_knowledge = (2*previous_student_knowledge) + \\\n",
    "                2*(1-previous_student_knowledge)/(1+np.exp(-mu*np.dot(X, q_matrix.T))) - 1\n",
    "    next_student_performance = np.dot(current_student_knowledge, q_matrix)\n",
    "    return next_student_performance"
   ]
  },
  {
   "cell_type": "code",
   "execution_count": 201,
   "metadata": {},
   "outputs": [
    {
     "name": "stdout",
     "output_type": "stream",
     "text": [
      "CPU times: user 4min 18s, sys: 51 ms, total: 4min 18s\n",
      "Wall time: 4min 18s\n"
     ]
    },
    {
     "data": {
      "text/plain": [
       "125.53504195397154"
      ]
     },
     "execution_count": 201,
     "metadata": {},
     "output_type": "execute_result"
    }
   ],
   "source": [
    "%%time\n",
    "best_student_performance_pred, best_student_knowledge, best_q_matrix, best_error = feedback_driven_tensor_factorization(\n",
    "    quiz, n_concepts=3, init=100, max_iter=1000)\n",
    "best_error"
   ]
  },
  {
   "cell_type": "code",
   "execution_count": 202,
   "metadata": {},
   "outputs": [
    {
     "data": {
      "text/plain": [
       "array([0., 0., 0., ..., 1., 1., 1.])"
      ]
     },
     "execution_count": 202,
     "metadata": {},
     "output_type": "execute_result"
    }
   ],
   "source": [
    "quiz_original[np.where(X == 1)]"
   ]
  },
  {
   "cell_type": "code",
   "execution_count": 203,
   "metadata": {},
   "outputs": [
    {
     "data": {
      "text/plain": [
       "(array([2736.,    0.,    0.,    0.,    0.,    0.,    0.,    0.,    0.,\n",
       "        2819.]),\n",
       " array([0. , 0.1, 0.2, 0.3, 0.4, 0.5, 0.6, 0.7, 0.8, 0.9, 1. ]),\n",
       " <a list of 10 Patch objects>)"
      ]
     },
     "execution_count": 203,
     "metadata": {},
     "output_type": "execute_result"
    },
    {
     "data": {
      "image/png": "[encoded data removed]",
      "text/plain": [
       "<Figure size 432x288 with 1 Axes>"
      ]
     },
     "metadata": {
      "needs_background": "light"
     },
     "output_type": "display_data"
    }
   ],
   "source": [
    "plt.hist(quiz_original[np.where(X == 1)])"
   ]
  },
  {
   "cell_type": "code",
   "execution_count": 204,
   "metadata": {},
   "outputs": [
    {
     "data": {
      "text/plain": [
       "(array([2736.,    0.,    0.,    0.,    0.,    0.,    0.,    0.,    0.,\n",
       "        2819.]),\n",
       " array([0. , 0.1, 0.2, 0.3, 0.4, 0.5, 0.6, 0.7, 0.8, 0.9, 1. ]),\n",
       " <a list of 10 Patch objects>)"
      ]
     },
     "execution_count": 204,
     "metadata": {},
     "output_type": "execute_result"
    },
    {
     "data": {
      "image/png": "[encoded data removed]",
      "text/plain": [
       "<Figure size 432x288 with 1 Axes>"
      ]
     },
     "metadata": {
      "needs_background": "light"
     },
     "output_type": "display_data"
    }
   ],
   "source": [
    "plt.hist(quiz_original.flatten())"
   ]
  },
  {
   "cell_type": "code",
   "execution_count": 205,
   "metadata": {},
   "outputs": [
    {
     "data": {
      "text/plain": [
       "array([0.820422  , 0.95482894, 0.98847887, ..., 0.99999982, 0.99999991,\n",
       "       0.84028713])"
      ]
     },
     "execution_count": 205,
     "metadata": {},
     "output_type": "execute_result"
    }
   ],
   "source": [
    "best_student_performance_pred[np.where(X == 1)]"
   ]
  },
  {
   "cell_type": "code",
   "execution_count": 206,
   "metadata": {},
   "outputs": [
    {
     "data": {
      "image/png": "[encoded data removed]",
      "text/plain": [
       "<Figure size 432x288 with 1 Axes>"
      ]
     },
     "metadata": {
      "needs_background": "light"
     },
     "output_type": "display_data"
    }
   ],
   "source": [
    "plt.hist(best_student_performance_pred[np.where(X == 1)])\n",
    "plt.show()"
   ]
  },
  {
   "cell_type": "code",
   "execution_count": 208,
   "metadata": {},
   "outputs": [
    {
     "data": {
      "image/png": "[encoded data removed]",
      "text/plain": [
       "<Figure size 432x288 with 1 Axes>"
      ]
     },
     "metadata": {
      "needs_background": "light"
     },
     "output_type": "display_data"
    }
   ],
   "source": [
    "plt.hist(best_student_performance_pred.flatten())\n",
    "plt.show()"
   ]
  },
  {
   "cell_type": "code",
   "execution_count": 209,
   "metadata": {},
   "outputs": [
    {
     "data": {
      "text/plain": [
       "0.11836477883303471"
      ]
     },
     "execution_count": 209,
     "metadata": {},
     "output_type": "execute_result"
    }
   ],
   "source": [
    "best_student_performance_pred.min()"
   ]
  },
  {
   "cell_type": "code",
   "execution_count": 210,
   "metadata": {},
   "outputs": [
    {
     "data": {
      "text/plain": [
       "0.9999999999999559"
      ]
     },
     "execution_count": 210,
     "metadata": {},
     "output_type": "execute_result"
    }
   ],
   "source": [
    "best_student_performance_pred.max()"
   ]
  },
  {
   "cell_type": "code",
   "execution_count": 151,
   "metadata": {},
   "outputs": [],
   "source": [
    "best_student_performance_pred[best_student_performance_pred > 0.5] = 1\n",
    "best_student_performance_pred[best_student_performance_pred < 0.5] = 0"
   ]
  },
  {
   "cell_type": "code",
   "execution_count": 156,
   "metadata": {},
   "outputs": [
    {
     "data": {
      "text/plain": [
       "(100, 10, 20)"
      ]
     },
     "execution_count": 156,
     "metadata": {},
     "output_type": "execute_result"
    }
   ],
   "source": [
    "best_student_performance_pred.shape"
   ]
  },
  {
   "cell_type": "code",
   "execution_count": 159,
   "metadata": {},
   "outputs": [],
   "source": [
    "y = quiz[np.where(X == 1)]"
   ]
  },
  {
   "cell_type": "code",
   "execution_count": 160,
   "metadata": {},
   "outputs": [],
   "source": [
    "y_pred = best_student_performance_pred[np.where(X == 1)]"
   ]
  },
  {
   "cell_type": "code",
   "execution_count": 161,
   "metadata": {},
   "outputs": [
    {
     "name": "stdout",
     "output_type": "stream",
     "text": [
      "Accuracy: 14.77%\n"
     ]
    }
   ],
   "source": [
    "acc = 100*(np.logical_not(np.logical_xor(\n",
    "    y, y_pred)).sum())/(np.prod(quiz.shape))\n",
    "print(\"Accuracy: %.2f%%\" % acc)"
   ]
  },
  {
   "cell_type": "markdown",
   "metadata": {},
   "source": [
    "### Simulation 1 - Student Performance is the exact multiplication of  Q Matrix and Student Knowledge"
   ]
  },
  {
   "cell_type": "code",
   "execution_count": 75,
   "metadata": {},
   "outputs": [],
   "source": [
    "N_CONCEPTS = 2\n",
    "N_QUESTIONS = 5\n",
    "N_STUDENTS = 10\n",
    "N_ATTEMPTS = 3"
   ]
  },
  {
   "cell_type": "code",
   "execution_count": 76,
   "metadata": {},
   "outputs": [],
   "source": [
    "def generate_sample(noise=0):\n",
    "    DENSITY = 0.8\n",
    "\n",
    "    # Create sparse q_matrix and normalize it to sum 1\n",
    "    q_matrix = sparse.rand(N_CONCEPTS, N_QUESTIONS, DENSITY).todense()\n",
    "    row_sums = q_matrix.sum(axis=0)\n",
    "    while not(np.all(row_sums)):\n",
    "        q_matrix = sparse.rand(N_CONCEPTS, N_QUESTIONS, DENSITY).todense()\n",
    "        row_sums = q_matrix.sum(axis=0)\n",
    "    q_matrix = q_matrix / row_sums\n",
    "\n",
    "    student_knowledge = np.zeros((N_STUDENTS, N_CONCEPTS, N_ATTEMPTS))\n",
    "    for attempt in range(N_ATTEMPTS):\n",
    "        student_knowledge[:, :, attempt] = sparse.rand(N_STUDENTS, N_CONCEPTS, DENSITY).todense()\n",
    "\n",
    "    student_performance = np.zeros((N_STUDENTS, N_QUESTIONS, N_ATTEMPTS))\n",
    "    for attempt in range(N_ATTEMPTS):\n",
    "        student_performance[:, :, attempt] = np.dot(student_knowledge[:, :, attempt], q_matrix)\n",
    "        \n",
    "    if noise:\n",
    "        noise = np.random.normal(0, noise, (N_STUDENTS, N_QUESTIONS, N_ATTEMPTS))\n",
    "        student_performance = student_performance + noise\n",
    "        \n",
    "    return student_performance"
   ]
  },
  {
   "cell_type": "code",
   "execution_count": 109,
   "metadata": {},
   "outputs": [],
   "source": [
    "student_performance = generate_sample()"
   ]
  },
  {
   "cell_type": "code",
   "execution_count": 128,
   "metadata": {},
   "outputs": [
    {
     "data": {
      "text/plain": [
       "7.179852801172138"
      ]
     },
     "execution_count": 128,
     "metadata": {},
     "output_type": "execute_result"
    }
   ],
   "source": [
    "# student_performance_pred_run, error_run, error_total_run = feedback_driven_tensor_factorization(\n",
    "#     student_performance, n_concepts=2, init=1, max_iter=4)\n",
    "best_student_performance_pred, best_student_knowledge, best_q_matrix, best_error = feedback_driven_tensor_factorization(\n",
    "    student_performance, n_concepts=2, init=1, max_iter=4)\n",
    "best_error"
   ]
  },
  {
   "cell_type": "markdown",
   "metadata": {},
   "source": [
    "### Simulation 2 - Student Performance is the multiplication of Q Matrix and Student Knowledge plus noise"
   ]
  },
  {
   "cell_type": "code",
   "execution_count": 129,
   "metadata": {},
   "outputs": [],
   "source": [
    "student_performance = generate_sample(0.5)\n",
    "# Add random None\n",
    "random_questions = np.random.randint(0, N_QUESTIONS, int(0.2*total))\n",
    "random_students = np.random.randint(0, N_QUESTIONS, int(0.2*total))\n",
    "random_attempts = np.random.randint(0, N_ATTEMPTS, int(0.2*total))\n",
    "\n",
    "student_performance[random_questions, random_students, random_attempts] = None"
   ]
  },
  {
   "cell_type": "code",
   "execution_count": 130,
   "metadata": {},
   "outputs": [
    {
     "data": {
      "text/plain": [
       "7.773789328315481"
      ]
     },
     "execution_count": 130,
     "metadata": {},
     "output_type": "execute_result"
    }
   ],
   "source": [
    "# student_performance_pred_run, error_run, error_total_run = feedback_driven_tensor_factorization(\n",
    "#     student_performance, n_concepts=2, init=3, max_iter=5)\n",
    "best_student_performance_pred, best_student_knowledge, best_q_matrix, best_error = feedback_driven_tensor_factorization(\n",
    "    student_performance, n_concepts=2, init=3, max_iter=5)\n",
    "best_error"
   ]
  },
  {
   "cell_type": "markdown",
   "metadata": {},
   "source": [
    "### Simulation 3 - Student Performance contains only zeros and ones"
   ]
  },
  {
   "cell_type": "code",
   "execution_count": 131,
   "metadata": {},
   "outputs": [],
   "source": [
    "student_performance = generate_sample(0.5)"
   ]
  },
  {
   "cell_type": "code",
   "execution_count": 132,
   "metadata": {},
   "outputs": [],
   "source": [
    "student_performance[student_performance > 0.5] = 1\n",
    "student_performance[student_performance < 0.5] = 0"
   ]
  },
  {
   "cell_type": "code",
   "execution_count": 133,
   "metadata": {},
   "outputs": [],
   "source": [
    "# Add random None\n",
    "random_questions = np.random.randint(0, N_QUESTIONS, int(0.2*total))\n",
    "random_students = np.random.randint(0, N_QUESTIONS, int(0.2*total))\n",
    "random_attempts = np.random.randint(0, N_ATTEMPTS, int(0.2*total))\n",
    "\n",
    "student_performance[random_questions, random_students, random_attempts] = None"
   ]
  },
  {
   "cell_type": "code",
   "execution_count": 135,
   "metadata": {},
   "outputs": [
    {
     "data": {
      "text/plain": [
       "9.969006306135684"
      ]
     },
     "execution_count": 135,
     "metadata": {},
     "output_type": "execute_result"
    }
   ],
   "source": [
    "best_student_performance_pred, best_student_knowledge, best_q_matrix, best_error = feedback_driven_tensor_factorization(\n",
    "    student_performance, n_concepts=2, init=3, max_iter=100)\n",
    "best_error"
   ]
  },
  {
   "cell_type": "code",
   "execution_count": 136,
   "metadata": {},
   "outputs": [],
   "source": [
    "best_student_performance_pred[best_student_performance_pred > 0.5] = 1\n",
    "best_student_performance_pred[best_student_performance_pred < 0.5] = 0"
   ]
  },
  {
   "cell_type": "code",
   "execution_count": 137,
   "metadata": {},
   "outputs": [
    {
     "name": "stdout",
     "output_type": "stream",
     "text": [
      "Accuracy: 28.67%\n"
     ]
    }
   ],
   "source": [
    "acc = 100*(np.logical_not(np.logical_xor(\n",
    "    student_performance, best_student_performance_pred)).sum())/(\n",
    "    student_performance.shape[0]*student_performance.shape[1]*student_performance.shape[2])\n",
    "print(\"Accuracy: %.2f%%\" % acc)"
   ]
  },
  {
   "cell_type": "code",
   "execution_count": 147,
   "metadata": {},
   "outputs": [
    {
     "name": "stderr",
     "output_type": "stream",
     "text": [
      "/data2/miniconda3/envs/machineteaching/lib/python3.6/site-packages/ipykernel_launcher.py:56: RuntimeWarning: invalid value encountered in true_divide\n",
      "/data2/miniconda3/envs/machineteaching/lib/python3.6/site-packages/numpy/linalg/linalg.py:1974: RuntimeWarning: invalid value encountered in greater\n",
      "  large = s > cutoff\n",
      "/data2/miniconda3/envs/machineteaching/lib/python3.6/site-packages/ipykernel_launcher.py:53: RuntimeWarning: invalid value encountered in less\n"
     ]
    },
    {
     "name": "stdout",
     "output_type": "stream",
     "text": [
      "Error in 44 for noise 0.35\n"
     ]
    },
    {
     "data": {
      "image/png": "[encoded data removed]",
      "text/plain": [
       "<Figure size 432x288 with 1 Axes>"
      ]
     },
     "metadata": {
      "needs_background": "light"
     },
     "output_type": "display_data"
    },
    {
     "name": "stdout",
     "output_type": "stream",
     "text": [
      "CPU times: user 1min 5s, sys: 16.7 ms, total: 1min 5s\n",
      "Wall time: 1min 5s\n"
     ]
    }
   ],
   "source": [
    "%%time\n",
    "accs = []\n",
    "accs_std = []\n",
    "\n",
    "for noise in np.arange(0, 1, 0.05):\n",
    "    accs_run = []\n",
    "    for run in range(50):\n",
    "        # Generate sample and approximate values to 0 and 1\n",
    "        student_performance = generate_sample(noise)\n",
    "        student_performance[student_performance > 0.5] = 1\n",
    "        student_performance[student_performance < 0.5] = 0\n",
    "        \n",
    "        # Add random None\n",
    "        random_questions = np.random.randint(0, N_QUESTIONS, int(0.1*total))\n",
    "        random_students = np.random.randint(0, N_QUESTIONS, int(0.1*total))\n",
    "        random_attempts = np.random.randint(0, N_ATTEMPTS, int(0.1*total))\n",
    "\n",
    "        student_performance[random_questions, random_students, random_attempts] = None\n",
    "        \n",
    "\n",
    "#         Run tensor factorization\n",
    "        try:\n",
    "            best_student_performance_pred, best_student_knowledge, best_q_matrix, best_error = feedback_driven_tensor_factorization(\n",
    "            student_performance, n_concepts=2, init=3, max_iter=50)\n",
    "        except RuntimeError:\n",
    "            print(\"Error in run %d for noise %.2f\" % (run, noise))\n",
    "            continue\n",
    "        \n",
    "\n",
    "#         Get best run results\n",
    "        best_student_performance_pred[best_student_performance_pred > 0.5] = 1\n",
    "        best_student_performance_pred[best_student_performance_pred < 0.5] = 0\n",
    "        \n",
    "\n",
    "#         Calculate accuracy\n",
    "        acc = 100*(np.logical_not(np.logical_xor(\n",
    "            student_performance, best_student_performance_pred)).sum())/(\n",
    "            student_performance.shape[0]*student_performance.shape[1]*student_performance.shape[2])\n",
    "        accs_run.append(acc)\n",
    "\n",
    "    accs.append(np.asarray(accs_run).mean())\n",
    "    accs_std.append(np.asarray(accs_run).std())\n",
    "    \n",
    "plt.errorbar(np.arange(0, 1, 0.05), accs, yerr=accs_std)\n",
    "plt.show()"
   ]
  },
  {
   "cell_type": "code",
   "execution_count": 485,
   "metadata": {},
   "outputs": [],
   "source": [
    "diff = np.zeros((N_QUESTIONS, N_STUDENTS, N_ATTEMPTS))\n",
    "for attempt in range(N_ATTEMPTS):\n",
    "    diff[:, :, attempt] = student_performance[:, :, attempt] - best_student_performance_pred[:, :, attempt]"
   ]
  },
  {
   "cell_type": "code",
   "execution_count": 486,
   "metadata": {},
   "outputs": [
    {
     "data": {
      "text/plain": [
       "4.898979485566356"
      ]
     },
     "execution_count": 486,
     "metadata": {},
     "output_type": "execute_result"
    }
   ],
   "source": [
    "np.sqrt(np.sum(np.power(diff, 2)))"
   ]
  }
 ],
 "metadata": {
  "kernelspec": {
   "display_name": "Python 3",
   "language": "python",
   "name": "python3"
  },
  "language_info": {
   "codemirror_mode": {
    "name": "ipython",
    "version": 3
   },
   "file_extension": ".py",
   "mimetype": "text/x-python",
   "name": "python",
   "nbconvert_exporter": "python",
   "pygments_lexer": "ipython3",
   "version": "3.6.10"
  }
 },
 "nbformat": 4,
 "nbformat_minor": 4
}
