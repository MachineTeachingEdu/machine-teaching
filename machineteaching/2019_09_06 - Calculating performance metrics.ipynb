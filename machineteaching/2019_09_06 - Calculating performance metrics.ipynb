{
 "cells": [
  {
   "cell_type": "code",
   "execution_count": 8,
   "metadata": {
    "collapsed": true
   },
   "outputs": [],
   "source": [
    "import numpy as np"
   ]
  },
  {
   "cell_type": "code",
   "execution_count": 10,
   "metadata": {
    "collapsed": true
   },
   "outputs": [],
   "source": [
    "# Constants\n",
    "# Initial learning state\n",
    "L0 = 0\n",
    "# Probability of transition\n",
    "T = 0.1667616137\n",
    "# Probability of slip\n",
    "S = 0.0004405928\n",
    "# Probability of guess\n",
    "G = 0.0003857303"
   ]
  },
  {
   "cell_type": "code",
   "execution_count": 11,
   "metadata": {
    "collapsed": true
   },
   "outputs": [],
   "source": [
    "def correct(learning_state):\n",
    "#     global S\n",
    "#     S = 0.4 * learning_state[5] + 0.1\n",
    "#     print(S)\n",
    "#     global G\n",
    "#     G = -0.3 * learning_state[5] + 0.4\n",
    "    learning_correct = learning_state * (1 - S)\n",
    "    guess_correct = ((1 - learning_state) * G)\n",
    "    learning_evidence = learning_correct/(learning_correct + guess_correct)\n",
    "    return learning_evidence\n",
    "\n",
    "def incorrect(learning_state):\n",
    "#     global S\n",
    "#     S = 0.4 * learning_state[5] + 0.1\n",
    "#     print(\"inc\")\n",
    "#     print(S)\n",
    "#     global G\n",
    "#     G = -0.3 * learning_state[5] + 0.4\n",
    "    learning_incorrect = learning_state * S\n",
    "    guess_incorrect = ((1 - learning_state) * (1 - G))\n",
    "    learning_evidence = learning_incorrect/(learning_incorrect + guess_incorrect)\n",
    "    return learning_evidence\n",
    "    \n",
    "def update(learning_state, iscorrect=True):\n",
    "    if iscorrect:\n",
    "        learning_evidence = correct(learning_state)\n",
    "    else:\n",
    "        learning_evidence = incorrect(learning_state)\n",
    "#     print(\"Learning evidence: %s\" % (learning_evidence*100//1))\n",
    "    learning_state = learning_evidence + ((1 - learning_evidence) * T)\n",
    "    return learning_state"
   ]
  },
  {
   "cell_type": "code",
   "execution_count": 16,
   "metadata": {},
   "outputs": [
    {
     "name": "stdout",
     "output_type": "stream",
     "text": [
      "2\t0.00000000\\1.00000000\n",
      "2\t0.16676161\\0.83323839\n",
      "2\t0.16683511\\0.83316489\n",
      "2\t0.16683515\\0.83316485\n",
      "2\t0.16683515\\0.83316485\n",
      "2\t0.16683515\\0.83316485\n",
      "1\t0.16683515\\0.83316485\n",
      "1\t0.99839730\\0.00160270\n",
      "1\t0.99999948\\0.00000052\n",
      "1\t1.00000000\\0.00000000\n",
      "1\t1.00000000\\0.00000000\n",
      "1\t1.00000000\\0.00000000\n",
      "1\t1.00000000\\0.00000000\n",
      "1\t1.00000000\\0.00000000\n",
      "1\t1.00000000\\0.00000000\n",
      "1\t1.00000000\\0.00000000\n",
      "1\t1.00000000\\0.00000000\n",
      "1\t1.00000000\\0.00000000\n",
      "1\t1.00000000\\0.00000000\n",
      "2\t1.00000000\\0.00000000\n",
      "1.00000000\\0.00000000\n"
     ]
    }
   ],
   "source": [
    "outcomes = [2,2,2,2,2,2,1,1,1,1,1,1,1,1,1,1,1,1,1,2]\n",
    "\n",
    "# Initial learning state\n",
    "l = np.random.binomial(1, L0)\n",
    "l_comp = 1 - l\n",
    "\n",
    "for outcome in outcomes:\n",
    "    print(\"%d\\t%.8f\\%.8f\" % (outcome, l, l_comp))\n",
    "    if outcome == 1:\n",
    "        l = update(l, True)\n",
    "    else:\n",
    "        l = update(l, False)\n",
    "    l_comp = 1 - l\n",
    "print(\"%.8f\\%.8f\" % (l, l_comp))"
   ]
  },
  {
   "cell_type": "code",
   "execution_count": null,
   "metadata": {
    "collapsed": true
   },
   "outputs": [],
   "source": [
    "# %load hmm-scalable-818d905234a8600a8e3a65bb0f7aa4cf06423f1a/predict.txt\n",
    " 2\t0.0003857303\t0.9996142697\n",
    " 2\t0.1670095450\t0.8329904550\n",
    " 2\t0.1670829801\t0.8329170199\n",
    " 2\t0.1670830190\t0.8329169810\n",
    " 2\t0.1670830190\t0.8329169810\n",
    " 2\t0.1670830190\t0.8329169810\n",
    " 1\t0.1670830190\t0.8329169810\n",
    " 1\t0.9979580338\t0.0020419662\n",
    " 1\t0.9995588914\t0.0004411086\n",
    " 1\t0.9995594070\t0.0004405930\n",
    " 1\t0.9995594072\t0.0004405928\n",
    " 1\t0.9995594072\t0.0004405928\n",
    " 1\t0.9995594072\t0.0004405928\n",
    " 1\t0.9995594072\t0.0004405928\n",
    " 1\t0.9995594072\t0.0004405928\n",
    " 1\t0.9995594072\t0.0004405928\n",
    " 1\t0.9995594072\t0.0004405928\n",
    " 1\t0.9995594072\t0.0004405928\n",
    " 1\t0.9995594072\t0.0004405928\n",
    " 2\t0.9995594072\t0.0004405928\n"
   ]
  }
 ],
 "metadata": {
  "kernelspec": {
   "display_name": "Django Shell-Plus",
   "language": "python",
   "name": "django_extensions"
  },
  "language_info": {
   "codemirror_mode": {
    "name": "ipython",
    "version": 3
   },
   "file_extension": ".py",
   "mimetype": "text/x-python",
   "name": "python",
   "nbconvert_exporter": "python",
   "pygments_lexer": "ipython3",
   "version": "3.6.2"
  }
 },
 "nbformat": 4,
 "nbformat_minor": 2
}
