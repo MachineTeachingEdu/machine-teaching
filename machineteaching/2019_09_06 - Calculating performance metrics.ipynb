{
 "cells": [
  {
   "cell_type": "code",
   "execution_count": 174,
   "metadata": {},
   "outputs": [],
   "source": [
    "import numpy as np"
   ]
  },
  {
   "cell_type": "code",
   "execution_count": 321,
   "metadata": {},
   "outputs": [],
   "source": [
    "# # Constants\n",
    "# # Initial learning state\n",
    "# L0 = 0.00000000000000000000012597752379894839687836118057015069025276\n",
    "# # Probability of transition\n",
    "# T = 0.16676161371777709074848417003522627055644989013671875000000000\n",
    "# # Probability of slip\n",
    "# S = 0.00044059281213343283629957358726869642850942909717559814453125\n",
    "# # Probability of guess\n",
    "# G = 0.00038573027973671982632231092225083557423204183578491210937500\n",
    "\n",
    "# \t1.00000000000000000000000000000000000000000000000000000000000000\n",
    "# A\t1.00000000000000000000000000000000000000000000000000000000000000\t0.00000000000000000000000000000000000000000000000000000000000000\t0.16676161371777709074848417003522627055644989013671875000000000\t0.83323838628222279822921336744911968708038330078125000000000000\n",
    "# B\t0.99955940718786673304663281669490970671176910400390625000000000\t0.00044059281213343283629957358726869642850942909717559814453125\t0.00038573027973671982632231092225083557423204183578491210937500\t0.99961426972026345971755745267728343605995178222656250000000000\n",
    "# 1\tskillB\n",
    "# PI\t0.00000682511445010079077669144786977284411477739922702312469482\t0.99999317488554984034720973795629106462001800537109375000000000\n",
    "# A\t1.00000000000000000000000000000000000000000000000000000000000000\t0.00000000000000000000000000000000000000000000000000000000000000\t0.00134817995705797184953500522652802828815765678882598876953125\t0.99865182004294206219441321081831119954586029052734375000000000\n",
    "# B\t0.69999999999999995559107901499373838305473327636718750000000000\t0.29999999999999998889776975374843459576368331909179687500000000\t0.00000000000000000000000000000000000000000000000000000000000000\t1.00000000000000000000000000000000000000000000000000000000000000\n",
    "\n",
    "\n",
    "#     params = {'skills': [{'skill': '0', \n",
    "#                           'priors': np.array([0.00000000000000000000012597752379894839687836118057015069025276, 1.00000000000000000000000000000000000000000000000000000000000000]), \n",
    "#                           'transitions': np.array([1.        , 0.        , 0.16676161371777709074848417003522627055644989013671875000000000, 0.83323838628222279822921336744911968708038330078125000000000000]), \n",
    "#                           'emissions': np.array([0.99955940718786673304663281669490970671176910400390625000000000, 0.00044059281213343283629957358726869642850942909717559814453125, 0.00038573027973671982632231092225083557423204183578491210937500, 0.99961426972026345971755745267728343605995178222656250000000000])}, \n",
    "#                          {'skill': '2', \n",
    "#                           'priors': np.array([0.00000682511445010079077669144786977284411477739922702312469482, 0.99999317488554984034720973795629106462001800537109375000000000]), \n",
    "#                           'transitions': np.array([1.        , 0.        , 0.00134817995705797184953500522652802828815765678882598876953125, 0.99865182004294206219441321081831119954586029052734375000000000]), \n",
    "#                           'emissions': np.array([0.69999999999999995559107901499373838305473327636718750000000000, 0.29999999999999998889776975374843459576368331909179687500000000, 0.00000000000000000000000000000000000000000000000000000000000000, 1.00000000000000000000000000000000000000000000000000000000000000])}], \n",
    "#               'SolverId': '1.1', 'nK': '2', 'nG': '50', 'nS': '2', 'nO': '2', 'nZ': '1', 'Null skill ratios': '  1.0000000\\t  0.0000000'}\n",
    "\n",
    "    \n",
    "params = {'skills': [{'skill': '0', \n",
    "                      'priors': np.array([0., 1.]), \n",
    "                      'transitions': np.array([1.        , 0.        , 0.16676161, 0.83323839]), \n",
    "                      'emissions': np.array([9.99559407e-01, 4.40592800e-04, 3.85730300e-04, 9.99614270e-01])}, \n",
    "                     {'skill': '1', \n",
    "                      'priors': np.array([6.82510000e-06, 9.99993175e-01]), \n",
    "                      'transitions': np.array([1.        , 0.        , 0.00134818, 0.99865182]), \n",
    "                      'emissions': np.array([0.7, 0.3, 0. , 1. ])}]}"
   ]
  },
  {
   "cell_type": "code",
   "execution_count": 278,
   "metadata": {},
   "outputs": [],
   "source": [
    "def correct(learning_state, skills_idx):\n",
    "    learning_correct = learning_state * (1 - S[skills_idx])\n",
    "    guess_correct = ((1 - learning_state) * G[skills_idx])\n",
    "    learning_evidence = learning_correct/(learning_correct + guess_correct)\n",
    "    return learning_evidence\n",
    "\n",
    "def incorrect(learning_state, skills_idx):\n",
    "    learning_incorrect = learning_state * S[skills_idx]\n",
    "    guess_incorrect = ((1 - learning_state) * (1 - G[skills_idx]))\n",
    "    learning_evidence = learning_incorrect/(learning_incorrect + guess_incorrect)\n",
    "    return learning_evidence\n",
    "    \n",
    "def update(learning_state, skills_idx, iscorrect=True):\n",
    "    if iscorrect:\n",
    "        learning_evidence = correct(learning_state, skills_idx)\n",
    "    else:\n",
    "        learning_evidence = incorrect(learning_state, skills_idx)\n",
    "#     print(\"Learning evidence: %s\" % (learning_evidence))\n",
    "    learning_state = learning_evidence + ((1 - learning_evidence) * T[skills_idx])\n",
    "    return learning_state\n",
    "\n",
    "def get_correct_prob(learning_state, skills_idx):\n",
    "    return (1-S[skills_idx])*learning_state + G[skills_idx]*(1-learning_state)"
   ]
  },
  {
   "cell_type": "code",
   "execution_count": 323,
   "metadata": {},
   "outputs": [
    {
     "name": "stdout",
     "output_type": "stream",
     "text": [
      "2\t0.00019\t0.99981\t-0.00019\t-0.00019\t\n",
      "2\t0.08398\t0.91602\t-0.08771\t-0.08791\t\n",
      "2\t0.16708\t0.83292\t-0.18282\t-0.27073\t\n",
      "2\t0.16708\t0.83292\t-0.18282\t-0.45355\t\n",
      "2\t0.16708\t0.83292\t-0.18282\t-0.63637\t\n",
      "2\t0.16708\t0.83292\t-0.18282\t-0.81919\t\n",
      "1\t0.16708\t0.83292\t-1.78926\t-2.60846\t\n",
      "1\t0.99796\t0.00204\t-0.00204\t-2.61050\t\n",
      "1\t0.99956\t0.00044\t-0.00044\t-2.61094\t\n",
      "1\t0.99956\t0.00044\t-0.00044\t-2.61138\t\n",
      "1\t0.99956\t0.00044\t-0.00044\t-2.61182\t\n",
      "1\t0.99956\t0.00044\t-0.00044\t-2.61226\t\n",
      "1\t0.99956\t0.00044\t-0.00044\t-2.61270\t\n",
      "1\t0.99956\t0.00044\t-0.00044\t-2.61314\t\n",
      "1\t0.99956\t0.00044\t-0.00044\t-2.61359\t\n",
      "1\t0.99956\t0.00044\t-0.00044\t-2.61403\t\n",
      "1\t0.99956\t0.00044\t-0.00044\t-2.61447\t\n",
      "1\t0.99956\t0.00044\t-0.00044\t-2.61491\t\n",
      "1\t0.99956\t0.00044\t-0.00044\t-2.61535\t\n",
      "2\t0.99956\t0.00044\t-7.72739\t-10.34274\t\n"
     ]
    }
   ],
   "source": [
    "# Contruct params matrix\n",
    "skills = np.zeros(len(params['skills']))\n",
    "learning_state = np.zeros(len(params['skills']))\n",
    "T = np.zeros(len(params['skills']))\n",
    "S = np.zeros(len(params['skills']))\n",
    "G = np.zeros(len(params['skills']))\n",
    "for idx, skill in enumerate(params['skills']):\n",
    "    skills[idx] = skill['skill']\n",
    "    L0[idx] = skill['priors'][0]\n",
    "    T[idx] = skill['transitions'][2]\n",
    "    S[idx] = skill['emissions'][1]\n",
    "    G[idx] = skill['emissions'][2]\n",
    "\n",
    "outcomes = [2,2,2,2,2,2,1,1,1,1,1,1,1,1,1,1,1,1,1,2]\n",
    "    \n",
    "loglikelihood = np.zeros(len(outcomes))\n",
    "ll_local = 0\n",
    "outcome_prob_skill = np.zeros((L0.shape[0], len(outcomes)))\n",
    "outcome_prob = np.zeros((len(outcomes),2))\n",
    "\n",
    "q_matrix = np.array([[1,0]]*len(outcomes))\n",
    "q_matrix[[0,1],1] = 1\n",
    "\n",
    "for idx, outcome in enumerate(outcomes):\n",
    "    skills_idx = np.where(q_matrix[idx,:] == 1)\n",
    "    \n",
    "    # Sliced learning states (skill is present in this question)\n",
    "    l_sliced = learning_state[skills_idx]\n",
    "    \n",
    "    # Calculate chance of being correct for each skill\n",
    "    outcome_prob_skill[skills_idx, idx] = get_correct_prob(l_sliced, skills_idx)\n",
    "    outcome_prob[idx,0] = outcome_prob_skill[:,idx].sum()/skills_idx[0].shape[0]\n",
    "    outcome_prob[idx,1] = 1-outcome_prob[idx,0]\n",
    "    \n",
    "    # Calculate LL and update state\n",
    "    if outcome == 1:\n",
    "        ll_local = np.log(outcome_prob[idx,0])\n",
    "        l_sliced = update(l_sliced, skills_idx, True)\n",
    "    else:\n",
    "        ll_local = np.log(outcome_prob[idx,1])\n",
    "        l_sliced = update(l_sliced, skills_idx, False)\n",
    "    learning_state[skills_idx] = l_sliced\n",
    "        \n",
    "    loglikelihood[idx] += ll_local\n",
    "    print(\"%d\\t%.5f\\t%.5f\\t%.5f\\t%.5f\\t\" % (outcome, outcome_prob[idx,0], outcome_prob[idx,1], ll_local, loglikelihood.sum()))"
   ]
  },
  {
   "cell_type": "code",
   "execution_count": 326,
   "metadata": {},
   "outputs": [
    {
     "data": {
      "text/plain": [
       "36.685475118198525"
      ]
     },
     "execution_count": 326,
     "metadata": {},
     "output_type": "execute_result"
    }
   ],
   "source": [
    "aic = -2*loglikelihood.sum() + 2*4*skills.shape[0]\n",
    "aic"
   ]
  },
  {
   "cell_type": "code",
   "execution_count": 327,
   "metadata": {},
   "outputs": [
    {
     "data": {
      "text/plain": [
       "44.651333306630455"
      ]
     },
     "execution_count": 327,
     "metadata": {},
     "output_type": "execute_result"
    }
   ],
   "source": [
    "bic = -2*loglikelihood.sum() + 4*skills.shape[0]*np.log(len(outcomes))\n",
    "bic"
   ]
  },
  {
   "cell_type": "code",
   "execution_count": 328,
   "metadata": {},
   "outputs": [
    {
     "data": {
      "text/plain": [
       "0.9"
      ]
     },
     "execution_count": 328,
     "metadata": {},
     "output_type": "execute_result"
    }
   ],
   "source": [
    "estimated_outcome = np.argmax(outcome_prob, axis=1)\n",
    "acc = (estimated_outcome == np.asarray(outcomes)-1).sum()/len(outcomes)\n",
    "acc"
   ]
  },
  {
   "cell_type": "code",
   "execution_count": 329,
   "metadata": {},
   "outputs": [
    {
     "data": {
      "text/plain": [
       "0.3009647032927156"
      ]
     },
     "execution_count": 329,
     "metadata": {},
     "output_type": "execute_result"
    }
   ],
   "source": [
    "rmse = ((1-outcome_prob[range(len(outcomes)), (np.asarray(outcomes)-1)])**2).sum()\n",
    "rmse = np.sqrt(rmse/len(outcomes))\n",
    "rmse"
   ]
  }
 ],
 "metadata": {
  "kernelspec": {
   "display_name": "Django Shell-Plus",
   "language": "python",
   "name": "django_extensions"
  },
  "language_info": {
   "codemirror_mode": {
    "name": "ipython",
    "version": 3
   },
   "file_extension": ".py",
   "mimetype": "text/x-python",
   "name": "python",
   "nbconvert_exporter": "python",
   "pygments_lexer": "ipython3",
   "version": "3.7.3"
  }
 },
 "nbformat": 4,
 "nbformat_minor": 2
}
