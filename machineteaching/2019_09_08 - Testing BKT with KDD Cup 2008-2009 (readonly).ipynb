{
 "cells": [
  {
   "cell_type": "code",
   "execution_count": 1,
   "metadata": {},
   "outputs": [],
   "source": [
    "from spkit import bkt\n",
    "import pandas as pd\n",
    "import re\n",
    "import numpy as np\n",
    "from sklearn.metrics import roc_curve, auc\n",
    "import matplotlib.pyplot as plt\n",
    "import pickle"
   ]
  },
  {
   "cell_type": "code",
   "execution_count": 2,
   "metadata": {},
   "outputs": [],
   "source": [
    "%load_ext autoreload"
   ]
  },
  {
   "cell_type": "code",
   "execution_count": 10,
   "metadata": {},
   "outputs": [
    {
     "name": "stderr",
     "output_type": "stream",
     "text": [
      "UsageError: Line magic function `%autoreload` not found.\n"
     ]
    }
   ],
   "source": [
    "%autoreload 1"
   ]
  },
  {
   "cell_type": "code",
   "execution_count": null,
   "metadata": {},
   "outputs": [],
   "source": [
    "%aimport spkit.bkt"
   ]
  },
  {
   "cell_type": "markdown",
   "metadata": {},
   "source": [
    "### Reading KDD train file\n",
    "Drop rows with null in any of the important columns"
   ]
  },
  {
   "cell_type": "code",
   "execution_count": 2,
   "metadata": {},
   "outputs": [],
   "source": [
    "folder = 'data/kdd/2008-2009'"
   ]
  },
  {
   "cell_type": "markdown",
   "metadata": {},
   "source": [
    "### Fitting data"
   ]
  },
  {
   "cell_type": "code",
   "execution_count": 3,
   "metadata": {},
   "outputs": [],
   "source": [
    "with open('%s/kdd_2008_2009_df.pkl' % folder, 'rb') as pklfile:\n",
    "    df = pickle.load(pklfile)\n",
    "with open('%s/kdd_2008_2009_q_matrix.pkl' % folder, 'rb') as pklfile:\n",
    "    q_matrix = pickle.load(pklfile)"
   ]
  },
  {
   "cell_type": "code",
   "execution_count": 4,
   "metadata": {},
   "outputs": [
    {
     "data": {
      "text/plain": [
       "(6442137, 10)"
      ]
     },
     "execution_count": 4,
     "metadata": {},
     "output_type": "execute_result"
    }
   ],
   "source": [
    "df.shape"
   ]
  },
  {
   "cell_type": "code",
   "execution_count": 5,
   "metadata": {},
   "outputs": [
    {
     "data": {
      "text/plain": [
       "(819699, 536)"
      ]
     },
     "execution_count": 5,
     "metadata": {},
     "output_type": "execute_result"
    }
   ],
   "source": [
    "q_matrix.shape"
   ]
  },
  {
   "cell_type": "code",
   "execution_count": 6,
   "metadata": {
    "scrolled": true
   },
   "outputs": [
    {
     "name": "stdout",
     "output_type": "stream",
     "text": [
      "Wall time: 3.98 s\n"
     ]
    }
   ],
   "source": [
    "%%time\n",
    "# Data matrix\n",
    "data = df[['Correct First Attempt', 'Anon Student Id', 'question_id']].values.tolist()"
   ]
  },
  {
   "cell_type": "code",
   "execution_count": 8,
   "metadata": {},
   "outputs": [
    {
     "name": "stdout",
     "output_type": "stream",
     "text": [
      "hmm_files/cbcf4debb158451a930e69a6eb0dcb90\n",
      "Wall time: 4min 23s\n"
     ]
    },
    {
     "data": {
      "text/plain": [
       "<spkit.bkt.BKT at 0xc3d2c65c88>"
      ]
     },
     "execution_count": 8,
     "metadata": {},
     "output_type": "execute_result"
    }
   ],
   "source": [
    "%%time\n",
    "# Instantiate model\n",
    "model = bkt.BKT()\n",
    "model.fit(data, q_matrix)"
   ]
  },
  {
   "cell_type": "code",
   "execution_count": 9,
   "metadata": {},
   "outputs": [
    {
     "data": {
      "text/plain": [
       "3292"
      ]
     },
     "execution_count": 9,
     "metadata": {},
     "output_type": "execute_result"
    }
   ],
   "source": [
    "students = df['Anon Student Id'].unique().tolist()\n",
    "len(students)"
   ]
  },
  {
   "cell_type": "code",
   "execution_count": 10,
   "metadata": {},
   "outputs": [],
   "source": [
    "with open('%s/kdd_2008_2009_students.pkl' % folder, 'wb') as pklfile:\n",
    "    pickle.dump(students, pklfile)\n",
    "with open('%s/kdd_2008_2009_model.pkl' % folder, 'wb') as pklfile:\n",
    "    pickle.dump(model, pklfile)"
   ]
  },
  {
   "cell_type": "code",
   "execution_count": 16,
   "metadata": {},
   "outputs": [
    {
     "name": "stderr",
     "output_type": "stream",
     "text": [
      "C:\\Users\\lmoraes\\Miniconda3\\envs\\py3\\lib\\site-packages\\sklearn\\metrics\\ranking.py:648: UndefinedMetricWarning: No negative samples in y_true, false positive value should be meaningless\n",
      "  UndefinedMetricWarning)\n",
      "C:\\Users\\lmoraes\\Miniconda3\\envs\\py3\\lib\\site-packages\\sklearn\\metrics\\ranking.py:114: RuntimeWarning: invalid value encountered in less\n",
      "  if np.any(dx < 0):\n",
      "C:\\Users\\lmoraes\\Miniconda3\\envs\\py3\\lib\\site-packages\\sklearn\\metrics\\ranking.py:656: UndefinedMetricWarning: No positive samples in y_true, true positive value should be meaningless\n",
      "  UndefinedMetricWarning)\n"
     ]
    },
    {
     "name": "stdout",
     "output_type": "stream",
     "text": [
      "Wall time: 20min 23s\n"
     ]
    }
   ],
   "source": [
    "%%time\n",
    "data_arr = np.asarray(data)\n",
    "rmse = 0\n",
    "n = 0\n",
    "score_df = []\n",
    "learning_state = {}\n",
    "outcome_all = []\n",
    "predicted_proba = []\n",
    "for student in students:\n",
    "    student_idx = np.where(data_arr[:,1] == student)\n",
    "    outcome = data_arr[student_idx, 0].astype('int64')\n",
    "    outcome_all += outcome.tolist()[0]\n",
    "    question_id = data_arr[student_idx, 2].astype('int64')\n",
    "    data_student = np.vstack((outcome, question_id)).T.astype('int64').tolist()\n",
    "    predicted = model.predict_proba(data_student, q_matrix)\n",
    "    predicted_proba += predicted[:,1].tolist()\n",
    "    s_aic, s_bic, s_rmse, s_acc = model.score()\n",
    "    fpr, tpr, _ = roc_curve(outcome.flatten(), predicted[:,1], pos_label=1)\n",
    "    auc_score = auc(fpr, tpr)\n",
    "    score_df.append({\"student\": student,\n",
    "                     \"AIC\": s_aic,\n",
    "                     \"BIC\": s_bic,\n",
    "                     \"RMSE\": s_rmse,\n",
    "                     \"Acc\": s_acc,\n",
    "                     \"n questions\": model.n_questions,\n",
    "                     \"LL\": model.loglikelihood.sum(),\n",
    "                     \"correct_outcome\": np.where(outcome == 1)[1].shape[0],\n",
    "                     \"incorrect_outcome\": np.where(outcome == 0)[1].shape[0],\n",
    "                     \"AUC\": auc_score})\n",
    "    #learning_state[student] = model.learning_state"
   ]
  },
  {
   "cell_type": "code",
   "execution_count": 17,
   "metadata": {},
   "outputs": [],
   "source": [
    "score = pd.DataFrame.from_dict(score_df)"
   ]
  },
  {
   "cell_type": "code",
   "execution_count": 18,
   "metadata": {},
   "outputs": [],
   "source": [
    "with open('%s/kdd_2008_2009_score.pkl' % folder, 'wb') as pklfile:\n",
    "    pickle.dump(score, pklfile)\n",
    "#with open('%s/kdd_2005_2005_learning_state.pkl' % folder, 'wb') as pklfile:\n",
    "#    pickle.dump(learning_state, pklfile)"
   ]
  },
  {
   "cell_type": "code",
   "execution_count": 19,
   "metadata": {},
   "outputs": [],
   "source": [
    "rmse_train = np.sqrt((score['RMSE']**2*score['n questions']).sum()/score['n questions'].sum())\n",
    "rmse_avg = score['RMSE'].mean()\n",
    "rmse_std = score['RMSE'].std()"
   ]
  },
  {
   "cell_type": "code",
   "execution_count": 20,
   "metadata": {},
   "outputs": [
    {
     "name": "stdout",
     "output_type": "stream",
     "text": [
      "RMSE de treino: 0.36\n",
      "RMSE médio: 0.40 +- 0.07\n"
     ]
    }
   ],
   "source": [
    "print(\"RMSE de treino: %.2f\" % rmse_train)\n",
    "print(\"RMSE médio: %.2f +- %.2f\" % (rmse_avg, rmse_std))"
   ]
  },
  {
   "cell_type": "code",
   "execution_count": 21,
   "metadata": {},
   "outputs": [],
   "source": [
    "acc_train = (score['Acc']*score['n questions']).sum()/score['n questions'].sum()\n",
    "acc_avg = score['Acc'].mean()\n",
    "acc_std = score['Acc'].std()"
   ]
  },
  {
   "cell_type": "code",
   "execution_count": 22,
   "metadata": {},
   "outputs": [
    {
     "name": "stdout",
     "output_type": "stream",
     "text": [
      "Acc de treino: 0.81\n",
      "Acc médio: 0.74 +- 0.15\n"
     ]
    }
   ],
   "source": [
    "print(\"Acc de treino: %.2f\" % acc_train)\n",
    "print(\"Acc médio: %.2f +- %.2f\" % (acc_avg, acc_std))"
   ]
  },
  {
   "cell_type": "code",
   "execution_count": 23,
   "metadata": {},
   "outputs": [
    {
     "name": "stdout",
     "output_type": "stream",
     "text": [
      "Youden's optimum threshold: 0.83\n"
     ]
    }
   ],
   "source": [
    "fpr, tpr, thresholds = roc_curve(outcome_all, predicted_proba, pos_label=1)\n",
    "auc_score = auc(fpr, tpr)\n",
    "auc_avg = score['AUC'].mean()\n",
    "auc_std = score['AUC'].std()\n",
    "\n",
    "# Sensitivity = tpr = TP/(TP+FN)\n",
    "# Specificity = 1-fpr = TN/(TN+FP)\n",
    "# Youden's index = Sensitivity + Specificity - 1 = tpr + (1-fpr) - 1 = tpr - fpr\n",
    "J_stats = tpr - fpr\n",
    "J_opt_thresholds = thresholds[np.argmax(J_stats)]\n",
    "print('Youden\\'s optimum threshold: %.2f' % J_opt_thresholds)"
   ]
  },
  {
   "cell_type": "code",
   "execution_count": 24,
   "metadata": {},
   "outputs": [
    {
     "name": "stdout",
     "output_type": "stream",
     "text": [
      "AUC de treino: 0.73\n",
      "AUC médio: 0.69 +- 0.09\n"
     ]
    }
   ],
   "source": [
    "print(\"AUC de treino: %.2f\" % auc_score)\n",
    "print(\"AUC médio: %.2f +- %.2f\" % (auc_avg, auc_std))"
   ]
  },
  {
   "cell_type": "markdown",
   "metadata": {},
   "source": [
    "Recalculating accuracy after adjusting cutoff point with Youden's Index"
   ]
  },
  {
   "cell_type": "code",
   "execution_count": 25,
   "metadata": {},
   "outputs": [
    {
     "data": {
      "text/plain": [
       "0.6294184678158816"
      ]
     },
     "execution_count": 25,
     "metadata": {},
     "output_type": "execute_result"
    }
   ],
   "source": [
    "estimated_outcome = np.where(np.asarray(predicted_proba) > J_opt_thresholds, 1, 0)\n",
    "acc = (estimated_outcome == np.asarray(outcome_all)).sum()/score['n questions'].sum()\n",
    "acc"
   ]
  },
  {
   "cell_type": "code",
   "execution_count": 26,
   "metadata": {},
   "outputs": [],
   "source": [
    "# Save threshold\n",
    "with open('%s/kdd_2008_2009_threshold.pkl' % folder, 'wb') as pklfile:\n",
    "    pickle.dump(J_opt_thresholds, pklfile)"
   ]
  },
  {
   "cell_type": "code",
   "execution_count": 27,
   "metadata": {},
   "outputs": [
    {
     "data": {
      "image/png": "[encoded data removed]",
      "text/plain": [
       "<Figure size 432x288 with 1 Axes>"
      ]
     },
     "metadata": {
      "needs_background": "light"
     },
     "output_type": "display_data"
    }
   ],
   "source": [
    "plt.figure()\n",
    "lw = 2\n",
    "plt.plot(fpr, tpr, color='darkorange',\n",
    "         lw=lw, label='ROC curve (area = %0.2f)' % auc_score)\n",
    "plt.plot([0, 1], [0, 1], color='navy', lw=lw, linestyle='--')\n",
    "plt.xlim([0.0, 1.0])\n",
    "plt.ylim([0.0, 1.05])\n",
    "plt.xlabel('False Positive Rate')\n",
    "plt.ylabel('True Positive Rate')\n",
    "plt.title('Receiver operating characteristic example')\n",
    "plt.legend(loc=\"lower right\")\n",
    "plt.show()"
   ]
  },
  {
   "cell_type": "markdown",
   "metadata": {},
   "source": [
    "### Comparing accuracy to random baseline"
   ]
  },
  {
   "cell_type": "code",
   "execution_count": 29,
   "metadata": {},
   "outputs": [
    {
     "data": {
      "text/plain": [
       "0.7384080779405964"
      ]
     },
     "execution_count": 29,
     "metadata": {},
     "output_type": "execute_result"
    }
   ],
   "source": [
    "n_questions = score['n questions'].sum()\n",
    "p = score['correct_outcome'].sum()/n_questions\n",
    "# Save p\n",
    "with open('%s/kdd_2008_2009_p.pkl' % folder, 'wb') as pklfile:\n",
    "    pickle.dump(p, pklfile)\n",
    "\n",
    "estimated_outcome = np.random.binomial(1, p, n_questions)\n",
    "acc = (estimated_outcome == np.asarray(outcome_all)).sum()/score['n questions'].sum()\n",
    "acc"
   ]
  },
  {
   "cell_type": "code",
   "execution_count": 30,
   "metadata": {},
   "outputs": [
    {
     "data": {
      "text/html": [
       "<div>\n",
       "<style scoped>\n",
       "    .dataframe tbody tr th:only-of-type {\n",
       "        vertical-align: middle;\n",
       "    }\n",
       "\n",
       "    .dataframe tbody tr th {\n",
       "        vertical-align: top;\n",
       "    }\n",
       "\n",
       "    .dataframe thead th {\n",
       "        text-align: right;\n",
       "    }\n",
       "</style>\n",
       "<table border=\"1\" class=\"dataframe\">\n",
       "  <thead>\n",
       "    <tr style=\"text-align: right;\">\n",
       "      <th></th>\n",
       "      <th>student</th>\n",
       "      <th>AIC</th>\n",
       "      <th>BIC</th>\n",
       "      <th>RMSE</th>\n",
       "      <th>Acc</th>\n",
       "      <th>n questions</th>\n",
       "      <th>LL</th>\n",
       "      <th>correct_outcome</th>\n",
       "      <th>incorrect_outcome</th>\n",
       "      <th>AUC</th>\n",
       "    </tr>\n",
       "  </thead>\n",
       "  <tbody>\n",
       "    <tr>\n",
       "      <td>292</td>\n",
       "      <td>stu_d0530f38dd</td>\n",
       "      <td>4302.756146</td>\n",
       "      <td>4186.787506</td>\n",
       "      <td>0.648509</td>\n",
       "      <td>0.142857</td>\n",
       "      <td>7</td>\n",
       "      <td>-7.378073</td>\n",
       "      <td>6</td>\n",
       "      <td>1</td>\n",
       "      <td>1.0</td>\n",
       "    </tr>\n",
       "    <tr>\n",
       "      <td>322</td>\n",
       "      <td>stu_52acf1f373</td>\n",
       "      <td>4291.608862</td>\n",
       "      <td>2359.033609</td>\n",
       "      <td>0.455006</td>\n",
       "      <td>0.666667</td>\n",
       "      <td>3</td>\n",
       "      <td>-1.804431</td>\n",
       "      <td>1</td>\n",
       "      <td>2</td>\n",
       "      <td>1.0</td>\n",
       "    </tr>\n",
       "    <tr>\n",
       "      <td>1919</td>\n",
       "      <td>stu_e16ccb82a7</td>\n",
       "      <td>4297.033909</td>\n",
       "      <td>3850.566211</td>\n",
       "      <td>0.527457</td>\n",
       "      <td>0.500000</td>\n",
       "      <td>6</td>\n",
       "      <td>-4.516954</td>\n",
       "      <td>3</td>\n",
       "      <td>3</td>\n",
       "      <td>1.0</td>\n",
       "    </tr>\n",
       "    <tr>\n",
       "      <td>2722</td>\n",
       "      <td>stu_89a8cd0b97</td>\n",
       "      <td>4326.048205</td>\n",
       "      <td>8590.430000</td>\n",
       "      <td>0.334827</td>\n",
       "      <td>0.814815</td>\n",
       "      <td>54</td>\n",
       "      <td>-19.024102</td>\n",
       "      <td>52</td>\n",
       "      <td>2</td>\n",
       "      <td>1.0</td>\n",
       "    </tr>\n",
       "    <tr>\n",
       "      <td>1266</td>\n",
       "      <td>stu_75dcf55c12</td>\n",
       "      <td>4295.433380</td>\n",
       "      <td>3848.965682</td>\n",
       "      <td>0.463600</td>\n",
       "      <td>0.666667</td>\n",
       "      <td>6</td>\n",
       "      <td>-3.716690</td>\n",
       "      <td>2</td>\n",
       "      <td>4</td>\n",
       "      <td>1.0</td>\n",
       "    </tr>\n",
       "    <tr>\n",
       "      <td>...</td>\n",
       "      <td>...</td>\n",
       "      <td>...</td>\n",
       "      <td>...</td>\n",
       "      <td>...</td>\n",
       "      <td>...</td>\n",
       "      <td>...</td>\n",
       "      <td>...</td>\n",
       "      <td>...</td>\n",
       "      <td>...</td>\n",
       "      <td>...</td>\n",
       "    </tr>\n",
       "    <tr>\n",
       "      <td>2873</td>\n",
       "      <td>stu_9d06de42ae</td>\n",
       "      <td>4302.447674</td>\n",
       "      <td>3855.979976</td>\n",
       "      <td>0.700000</td>\n",
       "      <td>0.000000</td>\n",
       "      <td>6</td>\n",
       "      <td>-7.223837</td>\n",
       "      <td>6</td>\n",
       "      <td>0</td>\n",
       "      <td>NaN</td>\n",
       "    </tr>\n",
       "    <tr>\n",
       "      <td>2875</td>\n",
       "      <td>stu_2db80775a4</td>\n",
       "      <td>4336.997628</td>\n",
       "      <td>6771.497227</td>\n",
       "      <td>0.653048</td>\n",
       "      <td>0.086957</td>\n",
       "      <td>23</td>\n",
       "      <td>-24.498814</td>\n",
       "      <td>23</td>\n",
       "      <td>0</td>\n",
       "      <td>NaN</td>\n",
       "    </tr>\n",
       "    <tr>\n",
       "      <td>2876</td>\n",
       "      <td>stu_194c917f07</td>\n",
       "      <td>4302.117696</td>\n",
       "      <td>3855.649998</td>\n",
       "      <td>0.691528</td>\n",
       "      <td>0.000000</td>\n",
       "      <td>6</td>\n",
       "      <td>-7.058848</td>\n",
       "      <td>6</td>\n",
       "      <td>0</td>\n",
       "      <td>NaN</td>\n",
       "    </tr>\n",
       "    <tr>\n",
       "      <td>2900</td>\n",
       "      <td>stu_6f1e1519cc</td>\n",
       "      <td>4302.117696</td>\n",
       "      <td>3855.649998</td>\n",
       "      <td>0.691528</td>\n",
       "      <td>0.000000</td>\n",
       "      <td>6</td>\n",
       "      <td>-7.058848</td>\n",
       "      <td>6</td>\n",
       "      <td>0</td>\n",
       "      <td>NaN</td>\n",
       "    </tr>\n",
       "    <tr>\n",
       "      <td>3180</td>\n",
       "      <td>stu_2e8c7e9010</td>\n",
       "      <td>4316.785637</td>\n",
       "      <td>5834.845268</td>\n",
       "      <td>0.613280</td>\n",
       "      <td>0.266667</td>\n",
       "      <td>15</td>\n",
       "      <td>-14.392819</td>\n",
       "      <td>15</td>\n",
       "      <td>0</td>\n",
       "      <td>NaN</td>\n",
       "    </tr>\n",
       "  </tbody>\n",
       "</table>\n",
       "<p>3292 rows × 10 columns</p>\n",
       "</div>"
      ],
      "text/plain": [
       "             student          AIC          BIC      RMSE       Acc  \\\n",
       "292   stu_d0530f38dd  4302.756146  4186.787506  0.648509  0.142857   \n",
       "322   stu_52acf1f373  4291.608862  2359.033609  0.455006  0.666667   \n",
       "1919  stu_e16ccb82a7  4297.033909  3850.566211  0.527457  0.500000   \n",
       "2722  stu_89a8cd0b97  4326.048205  8590.430000  0.334827  0.814815   \n",
       "1266  stu_75dcf55c12  4295.433380  3848.965682  0.463600  0.666667   \n",
       "...              ...          ...          ...       ...       ...   \n",
       "2873  stu_9d06de42ae  4302.447674  3855.979976  0.700000  0.000000   \n",
       "2875  stu_2db80775a4  4336.997628  6771.497227  0.653048  0.086957   \n",
       "2876  stu_194c917f07  4302.117696  3855.649998  0.691528  0.000000   \n",
       "2900  stu_6f1e1519cc  4302.117696  3855.649998  0.691528  0.000000   \n",
       "3180  stu_2e8c7e9010  4316.785637  5834.845268  0.613280  0.266667   \n",
       "\n",
       "      n questions         LL  correct_outcome  incorrect_outcome  AUC  \n",
       "292             7  -7.378073                6                  1  1.0  \n",
       "322             3  -1.804431                1                  2  1.0  \n",
       "1919            6  -4.516954                3                  3  1.0  \n",
       "2722           54 -19.024102               52                  2  1.0  \n",
       "1266            6  -3.716690                2                  4  1.0  \n",
       "...           ...        ...              ...                ...  ...  \n",
       "2873            6  -7.223837                6                  0  NaN  \n",
       "2875           23 -24.498814               23                  0  NaN  \n",
       "2876            6  -7.058848                6                  0  NaN  \n",
       "2900            6  -7.058848                6                  0  NaN  \n",
       "3180           15 -14.392819               15                  0  NaN  \n",
       "\n",
       "[3292 rows x 10 columns]"
      ]
     },
     "execution_count": 30,
     "metadata": {},
     "output_type": "execute_result"
    }
   ],
   "source": [
    "score.sort_values([\"AUC\"], ascending=False)"
   ]
  },
  {
   "cell_type": "code",
   "execution_count": 31,
   "metadata": {},
   "outputs": [
    {
     "data": {
      "text/html": [
       "<div>\n",
       "<style scoped>\n",
       "    .dataframe tbody tr th:only-of-type {\n",
       "        vertical-align: middle;\n",
       "    }\n",
       "\n",
       "    .dataframe tbody tr th {\n",
       "        vertical-align: top;\n",
       "    }\n",
       "\n",
       "    .dataframe thead th {\n",
       "        text-align: right;\n",
       "    }\n",
       "</style>\n",
       "<table border=\"1\" class=\"dataframe\">\n",
       "  <thead>\n",
       "    <tr style=\"text-align: right;\">\n",
       "      <th></th>\n",
       "      <th>student</th>\n",
       "      <th>AIC</th>\n",
       "      <th>BIC</th>\n",
       "      <th>RMSE</th>\n",
       "      <th>Acc</th>\n",
       "      <th>n questions</th>\n",
       "      <th>LL</th>\n",
       "      <th>correct_outcome</th>\n",
       "      <th>incorrect_outcome</th>\n",
       "      <th>AUC</th>\n",
       "    </tr>\n",
       "  </thead>\n",
       "  <tbody>\n",
       "    <tr>\n",
       "      <td>1966</td>\n",
       "      <td>stu_257e9e7014</td>\n",
       "      <td>4290.960099</td>\n",
       "      <td>2975.175209</td>\n",
       "      <td>0.309350</td>\n",
       "      <td>1.0</td>\n",
       "      <td>4</td>\n",
       "      <td>-1.480050</td>\n",
       "      <td>0</td>\n",
       "      <td>4</td>\n",
       "      <td>NaN</td>\n",
       "    </tr>\n",
       "    <tr>\n",
       "      <td>1323</td>\n",
       "      <td>stu_1241e78717</td>\n",
       "      <td>4289.440848</td>\n",
       "      <td>1487.548403</td>\n",
       "      <td>0.302477</td>\n",
       "      <td>1.0</td>\n",
       "      <td>2</td>\n",
       "      <td>-0.720424</td>\n",
       "      <td>0</td>\n",
       "      <td>2</td>\n",
       "      <td>NaN</td>\n",
       "    </tr>\n",
       "    <tr>\n",
       "      <td>2263</td>\n",
       "      <td>stu_8f126c4ab8</td>\n",
       "      <td>4288.713350</td>\n",
       "      <td>0.713350</td>\n",
       "      <td>0.300000</td>\n",
       "      <td>1.0</td>\n",
       "      <td>1</td>\n",
       "      <td>-0.356675</td>\n",
       "      <td>0</td>\n",
       "      <td>1</td>\n",
       "      <td>NaN</td>\n",
       "    </tr>\n",
       "    <tr>\n",
       "      <td>2020</td>\n",
       "      <td>stu_b3d0d32ad6</td>\n",
       "      <td>4289.291417</td>\n",
       "      <td>1487.398972</td>\n",
       "      <td>0.276122</td>\n",
       "      <td>1.0</td>\n",
       "      <td>2</td>\n",
       "      <td>-0.645709</td>\n",
       "      <td>0</td>\n",
       "      <td>2</td>\n",
       "      <td>NaN</td>\n",
       "    </tr>\n",
       "    <tr>\n",
       "      <td>1959</td>\n",
       "      <td>stu_6fd686a1de</td>\n",
       "      <td>4289.426700</td>\n",
       "      <td>1487.534255</td>\n",
       "      <td>0.300000</td>\n",
       "      <td>1.0</td>\n",
       "      <td>2</td>\n",
       "      <td>-0.713350</td>\n",
       "      <td>0</td>\n",
       "      <td>2</td>\n",
       "      <td>NaN</td>\n",
       "    </tr>\n",
       "    <tr>\n",
       "      <td>...</td>\n",
       "      <td>...</td>\n",
       "      <td>...</td>\n",
       "      <td>...</td>\n",
       "      <td>...</td>\n",
       "      <td>...</td>\n",
       "      <td>...</td>\n",
       "      <td>...</td>\n",
       "      <td>...</td>\n",
       "      <td>...</td>\n",
       "      <td>...</td>\n",
       "    </tr>\n",
       "    <tr>\n",
       "      <td>2147</td>\n",
       "      <td>stu_9e49bf057b</td>\n",
       "      <td>4302.117696</td>\n",
       "      <td>3855.649998</td>\n",
       "      <td>0.691528</td>\n",
       "      <td>0.0</td>\n",
       "      <td>6</td>\n",
       "      <td>-7.058848</td>\n",
       "      <td>6</td>\n",
       "      <td>0</td>\n",
       "      <td>NaN</td>\n",
       "    </tr>\n",
       "    <tr>\n",
       "      <td>1893</td>\n",
       "      <td>stu_a4e1e088a5</td>\n",
       "      <td>4302.117696</td>\n",
       "      <td>3855.649998</td>\n",
       "      <td>0.691528</td>\n",
       "      <td>0.0</td>\n",
       "      <td>6</td>\n",
       "      <td>-7.058848</td>\n",
       "      <td>6</td>\n",
       "      <td>0</td>\n",
       "      <td>NaN</td>\n",
       "    </tr>\n",
       "    <tr>\n",
       "      <td>1582</td>\n",
       "      <td>stu_a12972b247</td>\n",
       "      <td>4308.649317</td>\n",
       "      <td>4957.391756</td>\n",
       "      <td>0.641573</td>\n",
       "      <td>0.0</td>\n",
       "      <td>10</td>\n",
       "      <td>-10.324658</td>\n",
       "      <td>10</td>\n",
       "      <td>0</td>\n",
       "      <td>NaN</td>\n",
       "    </tr>\n",
       "    <tr>\n",
       "      <td>47</td>\n",
       "      <td>stu_e5ada900f8</td>\n",
       "      <td>4302.117696</td>\n",
       "      <td>3855.649998</td>\n",
       "      <td>0.691528</td>\n",
       "      <td>0.0</td>\n",
       "      <td>6</td>\n",
       "      <td>-7.058848</td>\n",
       "      <td>6</td>\n",
       "      <td>0</td>\n",
       "      <td>NaN</td>\n",
       "    </tr>\n",
       "    <tr>\n",
       "      <td>1082</td>\n",
       "      <td>stu_c9f5fe89b3</td>\n",
       "      <td>4302.117696</td>\n",
       "      <td>3855.649998</td>\n",
       "      <td>0.691528</td>\n",
       "      <td>0.0</td>\n",
       "      <td>6</td>\n",
       "      <td>-7.058848</td>\n",
       "      <td>6</td>\n",
       "      <td>0</td>\n",
       "      <td>NaN</td>\n",
       "    </tr>\n",
       "  </tbody>\n",
       "</table>\n",
       "<p>3292 rows × 10 columns</p>\n",
       "</div>"
      ],
      "text/plain": [
       "             student          AIC          BIC      RMSE  Acc  n questions  \\\n",
       "1966  stu_257e9e7014  4290.960099  2975.175209  0.309350  1.0            4   \n",
       "1323  stu_1241e78717  4289.440848  1487.548403  0.302477  1.0            2   \n",
       "2263  stu_8f126c4ab8  4288.713350     0.713350  0.300000  1.0            1   \n",
       "2020  stu_b3d0d32ad6  4289.291417  1487.398972  0.276122  1.0            2   \n",
       "1959  stu_6fd686a1de  4289.426700  1487.534255  0.300000  1.0            2   \n",
       "...              ...          ...          ...       ...  ...          ...   \n",
       "2147  stu_9e49bf057b  4302.117696  3855.649998  0.691528  0.0            6   \n",
       "1893  stu_a4e1e088a5  4302.117696  3855.649998  0.691528  0.0            6   \n",
       "1582  stu_a12972b247  4308.649317  4957.391756  0.641573  0.0           10   \n",
       "47    stu_e5ada900f8  4302.117696  3855.649998  0.691528  0.0            6   \n",
       "1082  stu_c9f5fe89b3  4302.117696  3855.649998  0.691528  0.0            6   \n",
       "\n",
       "             LL  correct_outcome  incorrect_outcome  AUC  \n",
       "1966  -1.480050                0                  4  NaN  \n",
       "1323  -0.720424                0                  2  NaN  \n",
       "2263  -0.356675                0                  1  NaN  \n",
       "2020  -0.645709                0                  2  NaN  \n",
       "1959  -0.713350                0                  2  NaN  \n",
       "...         ...              ...                ...  ...  \n",
       "2147  -7.058848                6                  0  NaN  \n",
       "1893  -7.058848                6                  0  NaN  \n",
       "1582 -10.324658               10                  0  NaN  \n",
       "47    -7.058848                6                  0  NaN  \n",
       "1082  -7.058848                6                  0  NaN  \n",
       "\n",
       "[3292 rows x 10 columns]"
      ]
     },
     "execution_count": 31,
     "metadata": {},
     "output_type": "execute_result"
    }
   ],
   "source": [
    "score.sort_values([\"Acc\"], ascending=False)"
   ]
  }
 ],
 "metadata": {
  "kernelspec": {
   "display_name": "Python 3",
   "language": "python",
   "name": "python3"
  },
  "language_info": {
   "codemirror_mode": {
    "name": "ipython",
    "version": 3
   },
   "file_extension": ".py",
   "mimetype": "text/x-python",
   "name": "python",
   "nbconvert_exporter": "python",
   "pygments_lexer": "ipython3",
   "version": "3.7.4"
  }
 },
 "nbformat": 4,
 "nbformat_minor": 2
}
