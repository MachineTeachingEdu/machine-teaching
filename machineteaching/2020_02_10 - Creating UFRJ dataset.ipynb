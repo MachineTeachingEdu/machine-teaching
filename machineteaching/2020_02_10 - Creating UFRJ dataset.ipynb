{
 "cells": [
  {
   "cell_type": "code",
   "execution_count": 30,
   "metadata": {},
   "outputs": [],
   "source": [
    "# Helpers\n",
    "import pickle\n",
    "import numpy as np\n",
    "\n",
    "# Plot\n",
    "import matplotlib.pyplot as plt"
   ]
  },
  {
   "cell_type": "markdown",
   "metadata": {},
   "source": [
    "### Analying distribution from SUNY dataset"
   ]
  },
  {
   "cell_type": "code",
   "execution_count": 2,
   "metadata": {},
   "outputs": [],
   "source": [
    "folder = \"data/suny/\""
   ]
  },
  {
   "cell_type": "code",
   "execution_count": 5,
   "metadata": {},
   "outputs": [],
   "source": [
    "with open(\"%s/1_train_test.pkl\" % folder, \"rb\") as pklfile:\n",
    "    data = pickle.load(pklfile)"
   ]
  },
  {
   "cell_type": "code",
   "execution_count": 16,
   "metadata": {},
   "outputs": [
    {
     "data": {
      "text/plain": [
       "dict_keys(['num_users', 'num_attempts', 'num_quizs', 'num_disicussions', 'train', 'test', 'cross_train', 'cross_validation'])"
      ]
     },
     "execution_count": 16,
     "metadata": {},
     "output_type": "execute_result"
    }
   ],
   "source": [
    "data.keys()"
   ]
  },
  {
   "cell_type": "code",
   "execution_count": 56,
   "metadata": {},
   "outputs": [
    {
     "name": "stdout",
     "output_type": "stream",
     "text": [
      "Fold 0 has 5715 items\n",
      "Fold 1 has 5625 items\n",
      "Fold 2 has 5661 items\n",
      "Fold 3 has 5682 items\n"
     ]
    }
   ],
   "source": [
    "total = 0\n",
    "for i, fold in enumerate(data[\"cross_train\"]):\n",
    "    total += len(fold)\n",
    "    print(\"Fold %d has %d items\" % (i, len(fold)))"
   ]
  },
  {
   "cell_type": "code",
   "execution_count": 71,
   "metadata": {},
   "outputs": [],
   "source": [
    "total = 0\n",
    "cross_train_items = []\n",
    "repeated_cross_train_items = []\n",
    "for i, fold in enumerate(data[\"cross_train\"]):\n",
    "    for row in fold:\n",
    "        # Check if row is not in train or if it was repeated\n",
    "        if row not in data[\"train\"] and row not in data[\"test\"]:\n",
    "            if row not in cross_train_items:\n",
    "                cross_train_items.append(row)\n",
    "            else:\n",
    "                repeated_cross_train_items.append(row)"
   ]
  },
  {
   "cell_type": "code",
   "execution_count": 76,
   "metadata": {},
   "outputs": [],
   "source": [
    "total = 0\n",
    "cross_test_items = []\n",
    "repeated_cross_test_items = []\n",
    "for i, fold in enumerate(data[\"cross_validation\"]):\n",
    "    for row in fold:\n",
    "        # Check if row is not in train or if it was repeated\n",
    "        if row not in data[\"train\"] and row not in data[\"test\"]:\n",
    "            if row not in cross_test_items:\n",
    "                cross_test_items.append(row)\n",
    "            else:\n",
    "                repeated_cross_test_items.append(row)"
   ]
  },
  {
   "cell_type": "code",
   "execution_count": 57,
   "metadata": {},
   "outputs": [
    {
     "name": "stdout",
     "output_type": "stream",
     "text": [
      "Fold 0 has 527 items\n",
      "Fold 1 has 617 items\n",
      "Fold 2 has 581 items\n",
      "Fold 3 has 560 items\n"
     ]
    }
   ],
   "source": [
    "total = 0\n",
    "for i, fold in enumerate(data[\"cross_validation\"]):\n",
    "    total += len(fold)\n",
    "    print(\"Fold %d has %d items\" % (i, len(fold)))"
   ]
  },
  {
   "cell_type": "code",
   "execution_count": 20,
   "metadata": {},
   "outputs": [
    {
     "name": "stdout",
     "output_type": "stream",
     "text": [
      "Total of 4682 items in train belonging to 458 different students\n"
     ]
    }
   ],
   "source": [
    "students_train_list = [item[0] for item in data[\"train\"]]\n",
    "students_train_set = set(students_train_list)\n",
    "\n",
    "print(\"Total of %d items in train belonging to %d different students\" % (len(students_train_list), \n",
    "                                                                         len(students_train_set)))"
   ]
  },
  {
   "cell_type": "code",
   "execution_count": 21,
   "metadata": {},
   "outputs": [
    {
     "name": "stdout",
     "output_type": "stream",
     "text": [
      "Total of 439 items in train belonging to 71 different students\n"
     ]
    }
   ],
   "source": [
    "students_test_list = [item[0] for item in data[\"test\"]]\n",
    "students_test_set = set(students_test_list)\n",
    "\n",
    "print(\"Total of %d items in train belonging to %d different students\" % (len(students_test_list), \n",
    "                                                                         len(students_test_set)))"
   ]
  },
  {
   "cell_type": "code",
   "execution_count": 22,
   "metadata": {},
   "outputs": [
    {
     "data": {
      "text/plain": [
       "71"
      ]
     },
     "execution_count": 22,
     "metadata": {},
     "output_type": "execute_result"
    }
   ],
   "source": [
    "common_students = students_train_set & students_test_set\n",
    "len(common_students)"
   ]
  },
  {
   "cell_type": "code",
   "execution_count": 43,
   "metadata": {},
   "outputs": [],
   "source": [
    "only_train = students_train_set - students_test_set"
   ]
  },
  {
   "cell_type": "code",
   "execution_count": 46,
   "metadata": {},
   "outputs": [],
   "source": [
    "# Number of attempts from test students in train set\n",
    "attempts_train = []\n",
    "attempts_test = []\n",
    "for student in students_test_set:\n",
    "    attempts_train.append(students_train_list.count(student))\n",
    "    attempts_test.append(students_test_list.count(student))\n",
    "    \n",
    "# Number of attempts from train students in train set\n",
    "attempts_all_train = []\n",
    "for student in students_train_set:\n",
    "    attempts_all_train.append(students_train_list.count(student))\n",
    "    \n",
    "# Number of attempts from train students in train set that are not in test set\n",
    "attempts_only_train = []\n",
    "for student in only_train:\n",
    "    attempts_only_train.append(students_train_list.count(student))"
   ]
  },
  {
   "cell_type": "code",
   "execution_count": 47,
   "metadata": {},
   "outputs": [
    {
     "data": {
      "image/png": "[encoded data removed]",
      "text/plain": [
       "<Figure size 432x288 with 1 Axes>"
      ]
     },
     "metadata": {
      "needs_background": "light"
     },
     "output_type": "display_data"
    },
    {
     "data": {
      "image/png": "[encoded data removed]",
      "text/plain": [
       "<Figure size 432x288 with 1 Axes>"
      ]
     },
     "metadata": {
      "needs_background": "light"
     },
     "output_type": "display_data"
    },
    {
     "data": {
      "image/png": "[encoded data removed]",
      "text/plain": [
       "<Figure size 432x288 with 1 Axes>"
      ]
     },
     "metadata": {
      "needs_background": "light"
     },
     "output_type": "display_data"
    },
    {
     "data": {
      "image/png": "[encoded data removed]",
      "text/plain": [
       "<Figure size 432x288 with 1 Axes>"
      ]
     },
     "metadata": {
      "needs_background": "light"
     },
     "output_type": "display_data"
    }
   ],
   "source": [
    "plt.hist(attempts_all_train)\n",
    "plt.show()\n",
    "\n",
    "plt.hist(attempts_only_train)\n",
    "plt.show()\n",
    "\n",
    "plt.hist(attempts_train)\n",
    "plt.show()\n",
    "\n",
    "plt.hist(attempts_test)\n",
    "plt.show()"
   ]
  },
  {
   "cell_type": "markdown",
   "metadata": {},
   "source": [
    "### Retrieving my data"
   ]
  },
  {
   "cell_type": "code",
   "execution_count": 161,
   "metadata": {},
   "outputs": [],
   "source": [
    "from django.db.models import Case, IntegerField, Value"
   ]
  },
  {
   "cell_type": "code",
   "execution_count": 393,
   "metadata": {},
   "outputs": [],
   "source": [
    "attempts = UserLog.objects.filter(timestamp__lt=OuterRef('timestamp'), \n",
    "                                           user__id=OuterRef('user__id')).annotate(attempt=Count('*')+1\n",
    "                                                                                  ).values('attempt')\n",
    "\n",
    "# Remove group by values\n",
    "attempts.query.set_group_by()"
   ]
  },
  {
   "cell_type": "code",
   "execution_count": 394,
   "metadata": {},
   "outputs": [],
   "source": [
    "# Get users (students who have started this semester with lab exercises)\n",
    "users = UserLog.objects.filter(problem__in=problems).exclude(outcome='S').annotate(\n",
    "    attempt=Subquery(attempts, output_field=IntegerField())).annotate(\n",
    "    score=Case(\n",
    "        When(outcome='F', then=Value(0)),\n",
    "        When(outcome='P', then=Value(1)),\n",
    "        output_field=IntegerField())).values_list(\"user__id\", \"problem\", \"attempt\", \"score\", #\"outcome\", \"timestamp\"\n",
    "                                                                    ).order_by(\"timestamp\").filter(attempt=1).values('user_id')"
   ]
  },
  {
   "cell_type": "code",
   "execution_count": 395,
   "metadata": {},
   "outputs": [],
   "source": [
    "problems = Problem.objects.exclude(chapter=None)\n",
    "solutions = UserLog.objects.filter(problem__in=problems).exclude(outcome='S').annotate(\n",
    "    attempt=Subquery(attempts, output_field=IntegerField())).annotate(\n",
    "    score=Case(\n",
    "        When(outcome='F', then=Value(0)),\n",
    "        When(outcome='P', then=Value(1)),\n",
    "        output_field=IntegerField())).values_list(\"user__id\", \"problem\", \"attempt\", \"score\", #\"outcome\", \"timestamp\"\n",
    "                                                                    ).order_by(\"timestamp\").filter(user__in=users)"
   ]
  },
  {
   "cell_type": "code",
   "execution_count": 400,
   "metadata": {},
   "outputs": [
    {
     "data": {
      "text/plain": [
       "119"
      ]
     },
     "execution_count": 400,
     "metadata": {},
     "output_type": "execute_result"
    }
   ],
   "source": [
    "users.count()"
   ]
  },
  {
   "cell_type": "code",
   "execution_count": 398,
   "metadata": {},
   "outputs": [
    {
     "data": {
      "text/plain": [
       "18447"
      ]
     },
     "execution_count": 398,
     "metadata": {},
     "output_type": "execute_result"
    }
   ],
   "source": [
    "solutions.count()"
   ]
  },
  {
   "cell_type": "code",
   "execution_count": null,
   "metadata": {},
   "outputs": [],
   "source": [
    "ufrj_dataset = {}\n",
    "ufrj_dataset[\"num_users\"] = users.count()\n",
    "#ufrj_dataset[\"num_attempts\"] = users.count()\n",
    "ufrj_dataset[\"num_problems\"] = problems.count()\n",
    "#ufrj_dataset[\"\"]"
   ]
  }
 ],
 "metadata": {
  "kernelspec": {
   "display_name": "Django Shell-Plus",
   "language": "python",
   "name": "django_extensions"
  },
  "language_info": {
   "codemirror_mode": {
    "name": "ipython",
    "version": 3
   },
   "file_extension": ".py",
   "mimetype": "text/x-python",
   "name": "python",
   "nbconvert_exporter": "python",
   "pygments_lexer": "ipython3",
   "version": "3.6.10"
  }
 },
 "nbformat": 4,
 "nbformat_minor": 4
}
