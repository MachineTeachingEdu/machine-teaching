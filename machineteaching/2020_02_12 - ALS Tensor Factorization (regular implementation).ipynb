{
 "cells": [
  {
   "cell_type": "code",
   "execution_count": 2,
   "metadata": {},
   "outputs": [],
   "source": [
    "import numpy as np\n",
    "from scipy import sparse\n",
    "import matplotlib.pyplot as plt"
   ]
  },
  {
   "cell_type": "code",
   "execution_count": 3,
   "metadata": {},
   "outputs": [],
   "source": [
    "N_CONCEPTS = 2\n",
    "N_STUDENTS = 10\n",
    "N_ATTEMPTS = 3\n",
    "N_QUESTIONS = 5\n",
    "\n",
    "# Algorithm parameters\n",
    "INIT = 3\n",
    "MAX_ITER = 100"
   ]
  },
  {
   "cell_type": "markdown",
   "metadata": {},
   "source": [
    "### ALS Tensor Factorization"
   ]
  },
  {
   "cell_type": "code",
   "execution_count": 25,
   "metadata": {},
   "outputs": [],
   "source": [
    "def als_tensor_factorization(student_performance, n_concepts=2, init=3, max_iter=100):\n",
    "    \n",
    "    # Get values from student performance tensor shape\n",
    "    n_students, n_questions, n_attempts = student_performance.shape\n",
    "    \n",
    "    # Create student knowledge tensor\n",
    "    student_knowledge = np.zeros((n_students, n_concepts, n_attempts))\n",
    "\n",
    "    error_run = []\n",
    "    error_total_run = []\n",
    "    student_performance_pred_run = []\n",
    "    \n",
    "    # Several starts\n",
    "    for run in range(init):\n",
    "        error = []\n",
    "        student_performance_pred_list = []\n",
    "    #     q_matrix = np.random.rand(N_QUESTIONS, N_CONCEPTS)\n",
    "\n",
    "        for attempt in range(N_ATTEMPTS):\n",
    "            student_knowledge[:, :, attempt] = np.random.rand(n_students, n_concepts)\n",
    "\n",
    "        # Phase 1: prediction\n",
    "        student_performance_pred = np.zeros(student_performance.shape)\n",
    "        for i in range(max_iter):\n",
    "\n",
    "            # Update Q: Q = (T'T)^(-1)T'Y = T^(-1)Y\n",
    "            # (T'T)^(-1)\n",
    "            student_knowledge_transposed = np.zeros((n_concepts, n_concepts, n_attempts))\n",
    "            for attempt in range(n_attempts):\n",
    "                student_knowledge_transposed[:, :, attempt] = np.dot(student_knowledge[:, :, attempt].T, \n",
    "                                                                     student_knowledge[:, :, attempt])\n",
    "            student_knowledge_transposed = student_knowledge_transposed.sum(axis=2)\n",
    "            student_knowledge_transposed_inv = np.linalg.pinv(student_knowledge_transposed)\n",
    "            \n",
    "            # T'Y\n",
    "            TY = np.zeros((n_concepts, n_questions, n_attempts))\n",
    "            for attempt in range(n_attempts):\n",
    "                TY[:, :, attempt] = np.dot(student_knowledge[:, :, attempt].T, \n",
    "                                           student_performance[:, :, attempt])\n",
    "            TY = TY.sum(axis=2)\n",
    "            \n",
    "            ## TODO: add regularization parameters (lambda)\n",
    "            # Q = (T'T)^(-1)T'Y\n",
    "            q_matrix = np.dot(student_knowledge_transposed_inv, TY)\n",
    "            # Impose non-negativity constraint\n",
    "            q_matrix[q_matrix < 0] = 0\n",
    "            # Normalize rows to sum one\n",
    "            row_sums = q_matrix.sum(axis=0, keepdims=True)\n",
    "            q_matrix = q_matrix / row_sums\n",
    "            \n",
    "            \n",
    "            # Update T: T = YQ'(QQ')^(-1) = YQ^(-1)\n",
    "            # (QQ')^(-1)\n",
    "            q_matrix_transpose_inv = np.linalg.pinv(np.dot(q_matrix, q_matrix.T))\n",
    "            \n",
    "            # YQ'\n",
    "            YQ = np.zeros((n_students, n_concepts, n_attempts))\n",
    "            for attempt in range(n_attempts):\n",
    "                YQ[:, :, attempt] = np.dot(student_performance[:, :, attempt], q_matrix.T)\n",
    "                \n",
    "            # T = YQ'(QQ')^(-1)\n",
    "            for attempt in range(n_attempts):\n",
    "                student_knowledge[:, :, attempt] = np.dot(YQ[:, :, attempt], q_matrix_transpose_inv)\n",
    "                \n",
    "            # Y = TQ\n",
    "            for attempt in range(n_attempts):\n",
    "                student_performance_pred[:, :, attempt] = np.dot(student_knowledge[:, :, attempt], q_matrix)\n",
    "                \n",
    "            \n",
    "            diff = np.zeros((n_students, n_questions, n_attempts))\n",
    "            for attempt in range(n_attempts):\n",
    "                diff[:, :, attempt] = student_performance[:, :, attempt] - student_performance_pred[:, :, attempt]\n",
    "            # Frobenius norm (norm-2)\n",
    "            error.append(np.sqrt(np.sum(np.power(diff, 2))))\n",
    "            \n",
    "            student_performance_pred_iter = student_performance_pred.copy()\n",
    "            student_performance_pred_list.append(student_performance_pred_iter)\n",
    "        student_performance_pred_run.append(student_performance_pred_list)\n",
    "        error_run.append(error)\n",
    "        error_total_run.append(error[-1])\n",
    "                \n",
    "            \n",
    "    return np.asarray(student_performance_pred_run), np.asarray(error_run), error_total_run"
   ]
  },
  {
   "cell_type": "code",
   "execution_count": 26,
   "metadata": {},
   "outputs": [
    {
     "name": "stdout",
     "output_type": "stream",
     "text": [
      "[[0.58543776 0.67279455 0.67279455 0.64561084 0.8336423 ]]\n",
      "[[0.84251784 0.66021096 1.17567053 0.65414206 0.93900949]]\n",
      "[[0.78357543 0.81184836 0.80766993 0.81184836 0.83941291]]\n",
      "[[0.66980563 0.66980563 0.61514976 0.67642634 0.6071293 ]]\n",
      "[[0.74016358 0.74016358 0.75374345 0.74016358 0.75374345]]\n",
      "[[0.4601472  0.57590317 0.57590317 0.71025061 0.61132091]]\n",
      "[[0.80651603 0.88864907 0.80651603 0.88864907 0.88864907]]\n",
      "[[0.61723735 0.71835617 0.71835617 0.71835617 0.57700709]]\n",
      "[[0.71087886 0.88862715 0.71087886 0.70746038 0.70746038]]\n",
      "[[0.56842574 0.56842574 0.47643974 0.64895311 0.51998945]]\n",
      "[[0.65996133 0.65996133 0.55686638 0.70429671 0.55686638]]\n",
      "[[0.3747665  0.43826424 0.53335403 0.50923123 0.43826424]]\n",
      "[[0.5273482  0.45771781 0.63232432 0.44388233 0.80257103]]\n",
      "[[0.75286462 0.76790699 0.76790699 0.84582139 0.98020756]]\n",
      "[[0.68475227 0.68475227 0.58930654 0.60559517 0.58930654]]\n",
      "[[0.75223673 0.58059019 0.75223673 0.53766882 0.70969643]]\n",
      "[[0.61756325 0.96176382 0.67805682 0.81126997 0.55994511]]\n",
      "[[1.1306294  1.03480896 0.95525768 0.86579912 1.1306294 ]]\n",
      "[[0.91471032 0.91332072 0.70712084 0.85252252 0.91471032]]\n",
      "[[0.47899353 0.69112499 0.68792677 0.69112499 0.68792677]]\n",
      "[[0.68264057 0.58898675 0.68264057 0.57445778 0.71516783]]\n",
      "[[0.43292133 0.43292133 0.43080426 0.46896824 0.37839192]]\n",
      "[[0.71969884 0.6331844  0.65970907 0.71969884 0.48752424]]\n",
      "[[0.68878351 0.73587042 0.73587042 0.961223   0.67199962]]\n",
      "[[0.8450779  0.76570438 0.77301543 0.8450779  0.69272918]]\n",
      "[[0.58916016 0.74785158 0.72719708 0.74785158 0.74785158]]\n",
      "[[0.68071113 0.53960276 0.77388046 0.59987214 0.53960276]]\n",
      "[[0.58780425 0.58780425 0.57953795 0.65298117 0.46664148]]\n",
      "[[0.90142785 0.83709567 0.89593458 0.90142785 0.85213073]]\n",
      "[[0.50817231 0.63089084 0.64920403 0.64920403 0.63089084]]\n",
      "[[0.76442736 0.92666388 0.76442736 0.75665014 0.87802485]]\n",
      "[[0.77861989 0.35202301 0.53253398 0.34397176 0.69977282]]\n",
      "[[0.47848721 0.47800608 1.06569839 0.48483086 0.96972713]]\n",
      "[[0.95815225 0.83825987 0.83825987 0.83825987 0.95815225]]\n",
      "[[0.61213327 0.61213327 0.51185972 0.61213327 0.61213327]]\n",
      "[[0.589599   0.4708264  0.66658624 0.589599   0.71019389]]\n",
      "[[0.58371241 0.70943543 0.58371241 0.53119173 0.69435492]]\n",
      "[[0.55014837 0.41739629 0.76188658 0.34106401 0.60686496]]\n",
      "[[0.40691488 0.46769704 0.370044   0.46769704 0.370044  ]]\n",
      "[[0.79781303 0.87511697 0.65708421 0.88410121 0.85799736]]\n",
      "[[0.77075166 0.66602583 0.55401832 0.74888691 0.51410429]]\n",
      "[[0.63451911 0.58242073 0.63597154 0.63451911 0.63451911]]\n",
      "[[0.52409717 0.32545583 0.32545583 0.52409717 0.52409717]]\n",
      "[[0.72247341 0.72247341 0.51825016 0.69103339 0.72247341]]\n",
      "[[0.89341455 0.45463072 0.61091126 0.58909263 0.58909263]]\n",
      "[[0.38581356 0.33868091 0.35653478 0.64816937 0.33868091]]\n",
      "[[0.51893412 0.45759268 0.50072471 0.51893412 0.51893412]]\n",
      "[[0.84712808 0.88543655 0.66539546 0.88543655 0.53980118]]\n",
      "[[0.58378126 0.76468354 0.5164653  0.93324259 0.93324259]]\n",
      "[[0.79531574 0.33876169 0.37453462 0.68860975 0.3388706 ]]\n"
     ]
    }
   ],
   "source": [
    "for run in range(50):\n",
    "    student_performance = generate_sample(noise)\n",
    "    student_performance[student_performance > 0.5] = 1\n",
    "    student_performance[student_performance < 0.5] = 0\n",
    "    q_matrix = als_tensor_factorization(student_performance, n_concepts=2, init=3, max_iter=50)\n",
    "    row_sums = q_matrix.sum(axis=0, keepdims=True)\n",
    "    print(row_sums)\n",
    "#     print(X)"
   ]
  },
  {
   "cell_type": "markdown",
   "metadata": {},
   "source": [
    "### Simulation 1 - Student Performance is the exact multiplication of  Q Matrix and Student Knowledge"
   ]
  },
  {
   "cell_type": "code",
   "execution_count": 5,
   "metadata": {},
   "outputs": [],
   "source": [
    "def generate_sample(noise=0):\n",
    "    DENSITY = 0.8\n",
    "\n",
    "    # Create sparse q_matrix and normalize it to sum 1\n",
    "    q_matrix = sparse.rand(N_CONCEPTS, N_QUESTIONS, DENSITY).todense()\n",
    "    row_sums = q_matrix.sum(axis=0)\n",
    "    while not(np.all(row_sums)):\n",
    "        q_matrix = sparse.rand(N_CONCEPTS, N_QUESTIONS, DENSITY).todense()\n",
    "        row_sums = q_matrix.sum(axis=0)\n",
    "    q_matrix = q_matrix / row_sums\n",
    "\n",
    "    student_knowledge = np.zeros((N_STUDENTS, N_CONCEPTS, N_ATTEMPTS))\n",
    "    for attempt in range(N_ATTEMPTS):\n",
    "        student_knowledge[:, :, attempt] = sparse.rand(N_STUDENTS, N_CONCEPTS, DENSITY).todense()\n",
    "\n",
    "    student_performance = np.zeros((N_STUDENTS, N_QUESTIONS, N_ATTEMPTS))\n",
    "    for attempt in range(N_ATTEMPTS):\n",
    "        student_performance[:, :, attempt] = np.dot(student_knowledge[:, :, attempt], q_matrix)\n",
    "        \n",
    "    if noise:\n",
    "        noise = np.random.normal(0, noise, (N_STUDENTS, N_QUESTIONS, N_ATTEMPTS))\n",
    "        student_performance = student_performance + noise\n",
    "        \n",
    "    return student_performance"
   ]
  },
  {
   "cell_type": "code",
   "execution_count": 6,
   "metadata": {},
   "outputs": [],
   "source": [
    "student_performance = generate_sample()"
   ]
  },
  {
   "cell_type": "code",
   "execution_count": 7,
   "metadata": {},
   "outputs": [],
   "source": [
    "student_performance_pred_run, error_run, error_total_run = als_tensor_factorization(\n",
    "    student_performance, n_concepts=2, init=1, max_iter=4)"
   ]
  },
  {
   "cell_type": "code",
   "execution_count": 8,
   "metadata": {},
   "outputs": [
    {
     "data": {
      "text/plain": [
       "array([[3.99132192e-02, 1.47108740e-14, 1.51478071e-14, 1.59328638e-14]])"
      ]
     },
     "execution_count": 8,
     "metadata": {},
     "output_type": "execute_result"
    }
   ],
   "source": [
    "error_run"
   ]
  },
  {
   "cell_type": "markdown",
   "metadata": {},
   "source": [
    "### Simulation 2 - Student Performance is the multiplication of Q Matrix and Student Knowledge plus noise"
   ]
  },
  {
   "cell_type": "code",
   "execution_count": 9,
   "metadata": {},
   "outputs": [],
   "source": [
    "student_performance = generate_sample(0.5)"
   ]
  },
  {
   "cell_type": "code",
   "execution_count": 10,
   "metadata": {},
   "outputs": [],
   "source": [
    "student_performance_pred_run, error_run, error_total_run = als_tensor_factorization(\n",
    "    student_performance, n_concepts=2, init=3, max_iter=50)"
   ]
  },
  {
   "cell_type": "code",
   "execution_count": 11,
   "metadata": {},
   "outputs": [
    {
     "data": {
      "text/plain": [
       "array([[4.28762926, 4.28232382, 4.278913  , 4.27662949, 4.27503454,\n",
       "        4.27387484, 4.27300197, 4.27232667, 4.27179325, 4.27136545,\n",
       "        4.27101855, 4.27073501, 4.27050189, 4.27030938, 4.27014987,\n",
       "        4.27001735, 4.26990701, 4.26981497, 4.26973808, 4.26967374,\n",
       "        4.26961986, 4.26957467, 4.26953675, 4.2695049 , 4.26947812,\n",
       "        4.26945559, 4.26943663, 4.26942067, 4.26940722, 4.26939588,\n",
       "        4.26938632, 4.26937826, 4.26937145, 4.26936571, 4.26936087,\n",
       "        4.26935678, 4.26935332, 4.26935041, 4.26934794, 4.26934586,\n",
       "        4.26934411, 4.26934262, 4.26934137, 4.26934031, 4.26933941,\n",
       "        4.26933865, 4.26933801, 4.26933747, 4.26933702, 4.26933663],\n",
       "       [4.36485323, 4.26647555, 4.26240973, 4.26119492, 4.26089667,\n",
       "        4.26105314, 4.26231548, 4.26365721, 4.26484984, 4.26582978,\n",
       "        4.26660365, 4.26720266, 4.2676623 , 4.26801439, 4.26828482,\n",
       "        4.26849369, 4.26865618, 4.26878363, 4.26888442, 4.26896481,\n",
       "        4.26902941, 4.26908171, 4.26912433, 4.26915926, 4.26918803,\n",
       "        4.26921183, 4.26923159, 4.26924805, 4.26926179, 4.2692733 ,\n",
       "        4.26928294, 4.26929104, 4.26929785, 4.26930358, 4.2693084 ,\n",
       "        4.26931247, 4.2693159 , 4.26931879, 4.26932123, 4.2693233 ,\n",
       "        4.26932504, 4.26932651, 4.26932775, 4.2693288 , 4.26932968,\n",
       "        4.26933043, 4.26933107, 4.2693316 , 4.26933205, 4.26933244],\n",
       "       [4.6356662 , 4.53295711, 4.39331609, 4.30163083, 4.28365603,\n",
       "        4.28019206, 4.29472762, 4.30312996, 4.30764854, 4.30303939,\n",
       "        4.29349346, 4.28707137, 4.28254471, 4.27928723, 4.27691194,\n",
       "        4.27516088, 4.27385678, 4.27287593, 4.27213107, 4.27156009,\n",
       "        4.27111841, 4.27077376, 4.27050259, 4.27028757, 4.27011583,\n",
       "        4.26997773, 4.26986599, 4.26977509, 4.26970076, 4.26963971,\n",
       "        4.26958938, 4.26954773, 4.26951316, 4.2694844 , 4.26946041,\n",
       "        4.26944036, 4.26942358, 4.26940951, 4.2693977 , 4.26938778,\n",
       "        4.26937943, 4.26937241, 4.26936649, 4.26936151, 4.2693573 ,\n",
       "        4.26935376, 4.26935077, 4.26934824, 4.26934611, 4.26934432]])"
      ]
     },
     "execution_count": 11,
     "metadata": {},
     "output_type": "execute_result"
    }
   ],
   "source": [
    "error_run"
   ]
  },
  {
   "cell_type": "markdown",
   "metadata": {},
   "source": [
    "### Simulation 3 - Student Performance contains only zeros and ones"
   ]
  },
  {
   "cell_type": "code",
   "execution_count": 12,
   "metadata": {},
   "outputs": [],
   "source": [
    "student_performance = generate_sample(0.5)"
   ]
  },
  {
   "cell_type": "code",
   "execution_count": 13,
   "metadata": {},
   "outputs": [],
   "source": [
    "student_performance[student_performance > 0.5] = 1\n",
    "student_performance[student_performance < 0.5] = 0"
   ]
  },
  {
   "cell_type": "code",
   "execution_count": 14,
   "metadata": {},
   "outputs": [],
   "source": [
    "student_performance_pred_run, error_run, error_total_run = als_tensor_factorization(\n",
    "    student_performance, n_concepts=2, init=3, max_iter=100)"
   ]
  },
  {
   "cell_type": "code",
   "execution_count": 15,
   "metadata": {},
   "outputs": [],
   "source": [
    "best_run = np.unravel_index(error_run.argmin(), error_run.shape)\n",
    "best_student_performance_pred = student_performance_pred_run[best_run]"
   ]
  },
  {
   "cell_type": "code",
   "execution_count": 16,
   "metadata": {},
   "outputs": [],
   "source": [
    "best_student_performance_pred[best_student_performance_pred > 0.5] = 1\n",
    "best_student_performance_pred[best_student_performance_pred < 0.5] = 0"
   ]
  },
  {
   "cell_type": "code",
   "execution_count": 17,
   "metadata": {},
   "outputs": [
    {
     "name": "stdout",
     "output_type": "stream",
     "text": [
      "Accuracy: 82.67%\n"
     ]
    }
   ],
   "source": [
    "acc = 100*(np.logical_not(np.logical_xor(\n",
    "    student_performance, best_student_performance_pred)).sum())/(\n",
    "    student_performance.shape[0]*student_performance.shape[1]*student_performance.shape[2])\n",
    "print(\"Accuracy: %.2f%%\" % acc)"
   ]
  },
  {
   "cell_type": "code",
   "execution_count": 19,
   "metadata": {},
   "outputs": [
    {
     "data": {
      "image/png": "[encoded data removed]",
      "text/plain": [
       "<Figure size 432x288 with 1 Axes>"
      ]
     },
     "metadata": {
      "needs_background": "light"
     },
     "output_type": "display_data"
    },
    {
     "name": "stdout",
     "output_type": "stream",
     "text": [
      "CPU times: user 1min 26s, sys: 59 ms, total: 1min 26s\n",
      "Wall time: 1min 28s\n"
     ]
    }
   ],
   "source": [
    "%%time\n",
    "accs = []\n",
    "accs_std = []\n",
    "\n",
    "for noise in np.arange(0, 1, 0.05):\n",
    "    accs_run = []\n",
    "    for run in range(50):\n",
    "        # Generate sample and approximate values to 0 and 1\n",
    "        student_performance = generate_sample(noise)\n",
    "        student_performance[student_performance > 0.5] = 1\n",
    "        student_performance[student_performance < 0.5] = 0\n",
    "        \n",
    "\n",
    "#         Run tensor factorization\n",
    "        student_performance_pred_run, error_run, error_total_run = als_tensor_factorization(\n",
    "            student_performance, n_concepts=2, init=3, max_iter=50)\n",
    "        \n",
    "\n",
    "#         Get best run results\n",
    "        best_run = np.unravel_index(error_run.argmin(), error_run.shape)\n",
    "        best_student_performance_pred = student_performance_pred_run[best_run]\n",
    "        best_student_performance_pred[best_student_performance_pred > 0.5] = 1\n",
    "        best_student_performance_pred[best_student_performance_pred < 0.5] = 0\n",
    "        \n",
    "\n",
    "#         Calculate accuracy\n",
    "        acc = 100*(np.logical_not(np.logical_xor(\n",
    "            student_performance, best_student_performance_pred)).sum())/(\n",
    "            student_performance.shape[0]*student_performance.shape[1]*student_performance.shape[2])\n",
    "        accs_run.append(acc)\n",
    "\n",
    "    accs.append(np.asarray(accs_run).mean())\n",
    "    accs_std.append(np.asarray(accs_run).std())\n",
    "    \n",
    "plt.errorbar(np.arange(0, 1, 0.05), accs, yerr=accs_std)\n",
    "plt.show()"
   ]
  },
  {
   "cell_type": "code",
   "execution_count": 20,
   "metadata": {},
   "outputs": [
    {
     "ename": "ValueError",
     "evalue": "too many values to unpack (expected 2)",
     "output_type": "error",
     "traceback": [
      "\u001b[0;31m---------------------------------------------------------------------------\u001b[0m",
      "\u001b[0;31mValueError\u001b[0m                                Traceback (most recent call last)",
      "\u001b[0;32m<timed exec>\u001b[0m in \u001b[0;36m<module>\u001b[0;34m\u001b[0m\n",
      "\u001b[0;31mValueError\u001b[0m: too many values to unpack (expected 2)"
     ]
    }
   ],
   "source": [
    "%%time\n",
    "accs = []\n",
    "accs_std = []\n",
    "for noise in np.arange(0, 1, 0.05):\n",
    "    accs_run = []\n",
    "    for run in range(50):\n",
    "        # Generate sample and approximate values to 0 and 1\n",
    "        student_performance, student_performance_t = generate_sample(noise)\n",
    "        student_performance[student_performance > 0.5] = 1\n",
    "        student_performance[student_performance < 0.5] = 0\n",
    "\n",
    "        # Run tensor factorization\n",
    "        student_performance_pred_run, error_run, error_total_run = als_tensor_factorization(\n",
    "            student_performance, n_concepts=2, init=3, max_iter=50)\n",
    "\n",
    "        # Get best run results\n",
    "        best_run = np.unravel_index(error_run.argmin(), error_run.shape)\n",
    "        best_student_performance_pred = student_performance_pred_run[best_run]\n",
    "        best_student_performance_pred[best_student_performance_pred > 0.5] = 1\n",
    "        best_student_performance_pred[best_student_performance_pred < 0.5] = 0\n",
    "\n",
    "        # Calculate accuracy\n",
    "        acc = 100*(np.logical_not(np.logical_xor(\n",
    "            student_performance, best_student_performance_pred)).sum())/(\n",
    "            student_performance.shape[0]*student_performance.shape[1]*student_performance.shape[2])\n",
    "        accs_run.append(acc)\n",
    "    accs.append(np.asarray(accs_run).mean())\n",
    "    accs_std.append(np.asarray(accs_run).std())\n",
    "    \n",
    "plt.errorbar(np.arange(0, 1, 0.05), accs, yerr=accs_std)\n",
    "plt.show()"
   ]
  },
  {
   "cell_type": "code",
   "execution_count": 485,
   "metadata": {},
   "outputs": [],
   "source": [
    "diff = np.zeros((N_QUESTIONS, N_STUDENTS, N_ATTEMPTS))\n",
    "for attempt in range(N_ATTEMPTS):\n",
    "    diff[:, :, attempt] = student_performance[:, :, attempt] - best_student_performance_pred[:, :, attempt]"
   ]
  },
  {
   "cell_type": "code",
   "execution_count": 486,
   "metadata": {},
   "outputs": [
    {
     "data": {
      "text/plain": [
       "4.898979485566356"
      ]
     },
     "execution_count": 486,
     "metadata": {},
     "output_type": "execute_result"
    }
   ],
   "source": [
    "np.sqrt(np.sum(np.power(diff, 2)))"
   ]
  }
 ],
 "metadata": {
  "kernelspec": {
   "display_name": "Python 3",
   "language": "python",
   "name": "python3"
  },
  "language_info": {
   "codemirror_mode": {
    "name": "ipython",
    "version": 3
   },
   "file_extension": ".py",
   "mimetype": "text/x-python",
   "name": "python",
   "nbconvert_exporter": "python",
   "pygments_lexer": "ipython3",
   "version": "3.6.10"
  }
 },
 "nbformat": 4,
 "nbformat_minor": 4
}
