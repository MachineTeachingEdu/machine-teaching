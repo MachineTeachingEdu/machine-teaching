{
 "cells": [
  {
   "cell_type": "code",
   "execution_count": 3,
   "metadata": {},
   "outputs": [],
   "source": [
    "# Helpers\n",
    "import pickle\n",
    "import numpy as np\n",
    "import time\n",
    "\n",
    "# DB \n",
    "import psycopg2\n",
    "from django.conf import settings\n",
    "\n",
    "# Learning\n",
    "from fdtf import feedback_driven_tensor_factorization"
   ]
  },
  {
   "cell_type": "code",
   "execution_count": 4,
   "metadata": {},
   "outputs": [],
   "source": [
    "connection = psycopg2.connect(user = settings.DATABASES[\"default\"][\"USER\"],\n",
    "                                  password = settings.DATABASES[\"default\"][\"PASSWORD\"],\n",
    "                                  host = settings.DATABASES[\"default\"][\"HOST\"],\n",
    "                                  port = settings.DATABASES[\"default\"][\"PORT\"],\n",
    "                                  database = settings.DATABASES[\"default\"][\"NAME\"])\n",
    "connection.autocommit=True\n",
    "cursor = connection.cursor()"
   ]
  },
  {
   "cell_type": "code",
   "execution_count": 5,
   "metadata": {},
   "outputs": [],
   "source": [
    "folder = \"data/edm2020\"\n",
    "N_RUNS = 5"
   ]
  },
  {
   "cell_type": "markdown",
   "metadata": {},
   "source": [
    "### Organizing data"
   ]
  },
  {
   "cell_type": "code",
   "execution_count": 6,
   "metadata": {},
   "outputs": [],
   "source": [
    "def add_to_tensor(data, tensor, X, filter_attempt=False):\n",
    "    for item in data:\n",
    "        s_idx, q_idx, a_idx, outcome = item\n",
    "\n",
    "        # If attempt is over max value, ignore it\n",
    "        if filter_attempt and a_idx >= filter_attempt:\n",
    "            continue\n",
    "\n",
    "        tensor[s_idx, q_idx, a_idx] = outcome\n",
    "        X[s_idx, q_idx, a_idx] = 1\n",
    "        \n",
    "    tensor[np.where(X[:,:] == 0)] = None\n",
    "    return tensor, X\n",
    "    \n",
    "def transform_data(data, n_attempts):\n",
    "    N_STUDENTS = len(data['users_idx'])\n",
    "    N_QUESTIONS = len(data['questions_idx'])\n",
    "    \n",
    "    student_performance = np.zeros((N_STUDENTS, N_QUESTIONS, n_attempts))\n",
    "    X = np.zeros(student_performance.shape)\n",
    "\n",
    "    student_performance, X = add_to_tensor(data['train_set'], \n",
    "                                           student_performance, \n",
    "                                           X, filter_attempt=n_attempts)\n",
    "    \n",
    "    \n",
    "    max_attempt = np.max(data['test_set'][:,2])+1\n",
    "    student_performance_test = np.zeros((N_STUDENTS, N_QUESTIONS, max_attempt))\n",
    "    X_test = np.zeros(student_performance_test.shape)\n",
    "    student_performance_test, X_test = add_to_tensor(data['test_set'], \n",
    "                                                     student_performance_test, \n",
    "                                                     X_test)\n",
    "    return student_performance, X, student_performance_test, X_test"
   ]
  },
  {
   "cell_type": "markdown",
   "metadata": {},
   "source": [
    "Do grid search to explore parameters"
   ]
  },
  {
   "cell_type": "code",
   "execution_count": 140,
   "metadata": {},
   "outputs": [],
   "source": [
    "# %%time\n",
    "mu = [0.1, 0.5, 1, 3, 10]\n",
    "n_concepts = range(2, 20)\n",
    "attempts = [10, 20, 50, 100, 150, 200]"
   ]
  },
  {
   "cell_type": "code",
   "execution_count": 143,
   "metadata": {},
   "outputs": [
    {
     "data": {
      "text/plain": [
       "2700"
      ]
     },
     "execution_count": 143,
     "metadata": {},
     "output_type": "execute_result"
    }
   ],
   "source": [
    "search = 1 * N_RUNS * len(attempts) * len(mu) * len(n_concepts)\n",
    "search"
   ]
  },
  {
   "cell_type": "code",
   "execution_count": 144,
   "metadata": {},
   "outputs": [
    {
     "data": {
      "text/plain": [
       "1.03125"
      ]
     },
     "execution_count": 144,
     "metadata": {},
     "output_type": "execute_result"
    }
   ],
   "source": [
    "days = (33*search)/(60*60*24)\n",
    "days"
   ]
  },
  {
   "cell_type": "code",
   "execution_count": null,
   "metadata": {},
   "outputs": [],
   "source": [
    "for restart in range(1):\n",
    "    for dataset in range(N_RUNS):\n",
    "        with open(\"%s/run_%d.pkl\" % (folder, dataset), \"rb\") as pklfile:\n",
    "            data = pickle.load(pklfile)\n",
    "        for att in attempts:\n",
    "            # Get train and test data in FDTF format\n",
    "            student_performance, X, student_performance_test, X_test = transform_data(data, att)\n",
    "            # Check if questions have minimum number of attempts\n",
    "            attempts_per_question = X.sum(axis=0).sum(axis=1)\n",
    "            del_questions = [idx for idx,value in enumerate(attempts_per_question) if value < 3]\n",
    "            student_performance = np.delete(student_performance, del_questions, axis=1)\n",
    "            \n",
    "            for m in mu:\n",
    "                for concept in n_concepts:                \n",
    "                    # Run FDTF\n",
    "                    start = time.time()\n",
    "                    (best_student_performance_pred, best_student_knowledge, \n",
    "                     best_q_matrix, best_error) = feedback_driven_tensor_factorization(\n",
    "                        student_performance, n_concepts=concept, init=10, max_iter=1000, mu=m)\n",
    "    #                     student_performance, n_concepts=concept, init=1, max_iter=3, mu=m)\n",
    "                    end = time.time()\n",
    "\n",
    "                    if concept == 14:\n",
    "                        q_matrix = np.delete(data['q_matrix'], del_questions, axis=1)\n",
    "                        q_matrix_error = np.sqrt(np.sum(np.power(data['q_matrix']-best_q_matrix, 2)))\n",
    "                    else:\n",
    "                        q_matrix = data['q_matrix']\n",
    "                        q_matrix_error = -1\n",
    "\n",
    "                    row = {\n",
    "                        \"dataset\": \"run_%d\" % dataset,\n",
    "                        \"q_matrix\": q_matrix,\n",
    "                        \"X\": X,\n",
    "                        \"sp\": student_performance,\n",
    "                        \"X_test\": X_test,\n",
    "                        \"sp_test\": student_performance_test,\n",
    "                        \"sp_hat\": best_student_performance_pred,\n",
    "                        \"sk_hat\": best_student_knowledge,\n",
    "                        \"q_matrix_hat\": best_q_matrix,\n",
    "                        \"mu\": m,\n",
    "                        \"concepts\": concept,\n",
    "                        \"attempts_train\": att,\n",
    "                        \"method\": \"fdtf\",\n",
    "                        \"q_matrix_error\": q_matrix_error,\n",
    "                        \"reconstruction_error\": best_error,\n",
    "                        \"train_error\": 0,\n",
    "                        \"test_error\": 0,\n",
    "                        \"seconds\": end-start\n",
    "                    }\n",
    "\n",
    "                    # Write PSQL query\n",
    "                    insert_query_base = \"INSERT INTO EDM2020_2020_02_19 \"\n",
    "                    column_value = []\n",
    "                    insert_format = []\n",
    "                    query_values = []\n",
    "                    for col in row.keys():\n",
    "                        if isinstance(row[col], np.ndarray):\n",
    "                            query_values.append(row[col].tolist())\n",
    "                        else:\n",
    "                            query_values.append(row[col])\n",
    "                        column_value.append(col)\n",
    "                        insert_format.append(\"%s\")\n",
    "\n",
    "                    insert_query = insert_query_base + \"(\" + \", \".join(column_value) + \") VALUES \"\n",
    "                    insert_query += \"(\" + \", \".join(insert_format) + \")\"\n",
    "                    query_values = tuple(query_values)\n",
    "                    query = cursor.mogrify(insert_query, query_values)\n",
    "                    cursor.execute(query)"
   ]
  }
 ],
 "metadata": {
  "kernelspec": {
   "display_name": "Django Shell-Plus",
   "language": "python",
   "name": "django_extensions"
  },
  "language_info": {
   "codemirror_mode": {
    "name": "ipython",
    "version": 3
   },
   "file_extension": ".py",
   "mimetype": "text/x-python",
   "name": "python",
   "nbconvert_exporter": "python",
   "pygments_lexer": "ipython3",
   "version": "3.6.10"
  }
 },
 "nbformat": 4,
 "nbformat_minor": 4
}
