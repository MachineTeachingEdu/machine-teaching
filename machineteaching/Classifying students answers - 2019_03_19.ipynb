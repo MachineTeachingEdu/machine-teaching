{
 "cells": [
  {
   "cell_type": "markdown",
   "metadata": {},
   "source": [
    "### Classifying students's answers"
   ]
  },
  {
   "cell_type": "markdown",
   "metadata": {},
   "source": [
    "#### Import libraries"
   ]
  },
  {
   "cell_type": "code",
   "execution_count": 429,
   "metadata": {},
   "outputs": [],
   "source": [
    "# Input\n",
    "# from db import PythonProblems\n",
    "import io\n",
    "\n",
    "#DB\n",
    "from questions.models import Solution, Cluster, UserLog\n",
    "import psycopg2\n",
    "\n",
    "# Helpers\n",
    "import numpy as np\n",
    "import pickle\n",
    "import base64\n",
    "import pandas as pd\n",
    "\n",
    "# Preprocessing\n",
    "import tokenize\n",
    "from sklearn.feature_extraction.text import CountVectorizer\n",
    "\n",
    "# Distance\n",
    "from sklearn.metrics.pairwise import euclidean_distances\n",
    "\n",
    "# Learning\n",
    "from clustering import Clustering\n",
    "# from questions.sampling import get_next_sample\n",
    "from analyzer import python_analyzer\n",
    "\n",
    "# Visualization\n",
    "# from plot2d import Plot2D\n",
    "# import matplotlib.pyplot as plt\n",
    "# import seaborn as sns\n",
    "# from generate_pdf import PDFReport\n",
    "# import pyLDAvis.sklearn\n",
    "from IPython.display import display\n",
    "import ipywidgets as widgets\n",
    "\n",
    "\n",
    "%matplotlib inline"
   ]
  },
  {
   "cell_type": "code",
   "execution_count": 3,
   "metadata": {
    "scrolled": false
   },
   "outputs": [
    {
     "name": "stdout",
     "output_type": "stream",
     "text": [
      "Problems to be ignored: 591\n",
      "Problems to be used: 132\n",
      "Solutions to be used: 54\n",
      "Got 54 documents\n"
     ]
    }
   ],
   "source": [
    "## Cleaning database\n",
    "last_id = 132\n",
    "problems = Problem.objects.filter(id__gt=last_id)\n",
    "solutions_obj = Solution.objects.filter(problem__in=problems).update(ignore=True)\n",
    "print(\"Problems to be ignored: %d\" % problems.count())\n",
    "\n",
    "problems = Problem.objects.filter(id__lte=last_id)\n",
    "# problems = Problem.objects.all()\n",
    "print(\"Problems to be used: %d\" % problems.count())\n",
    "\n",
    "solutions_obj = Solution.objects.filter(problem__in=problems, ignore=False).order_by('id')\n",
    "# solutions_obj = Solution.objects.all().order_by('id')\n",
    "print(\"Solutions to be used: %d\" % solutions_obj.count())\n",
    "\n",
    "docs_id = []\n",
    "questions = []\n",
    "solutions = []\n",
    "\n",
    "# Fill separated structures\n",
    "for sol in solutions_obj:\n",
    "    docs_id.append(sol.id)\n",
    "    questions.append(sol.problem.content)\n",
    "    solutions.append(sol.content)\n",
    "\n",
    "print(\"Got %d documents\" %(solutions_obj.count()))"
   ]
  },
  {
   "cell_type": "markdown",
   "metadata": {},
   "source": [
    "***Limitações do parser:***\n",
    "\n",
    "***1. Variável e nome reservado são do mesmo tipo. Não consigo separar sem fazer uma pré-lista. Mas pode ser o critério para ajustar o CountVectorizer***\n",
    "\n",
    "***2. Não é possível processar solução sintaticamente errada. Talvez uma tokenização básica possa ajudar quando esse for o caso e já é uma indicação de que está errado.***"
   ]
  },
  {
   "cell_type": "markdown",
   "metadata": {},
   "source": [
    "### Preprocessing solutions into bag of words ###"
   ]
  },
  {
   "cell_type": "code",
   "execution_count": 4,
   "metadata": {},
   "outputs": [],
   "source": [
    "def create_bag_of_words(docs, vectorizer_method, binary=False, min_df=0.2):\n",
    "    vectorizer = vectorizer_method(analyzer = python_analyzer,\n",
    "                                   binary=binary,\n",
    "                                   min_df=min_df) \n",
    "    train_data_features = vectorizer.fit_transform(docs)\n",
    "    try:\n",
    "        train_data_features = train_data_features.toarray()\n",
    "    # It's already an array\n",
    "    except AttributeError:\n",
    "        pass\n",
    "    return train_data_features, vectorizer, vectorizer.get_feature_names()"
   ]
  },
  {
   "cell_type": "code",
   "execution_count": 5,
   "metadata": {},
   "outputs": [],
   "source": [
    "# %load vectorizer.py\n",
    "from sklearn.feature_extraction.text import CountVectorizer\n",
    "from sklearn.preprocessing import normalize\n",
    "from analyzer import python_analyzer\n",
    "import numpy as np\n",
    "\n",
    "\n",
    "class NCutVectorizer(object):\n",
    "    def __init__(self, analyzer, binary, min_df):\n",
    "        self.vectorizer = CountVectorizer(analyzer = python_analyzer,\n",
    "                                          binary=binary,\n",
    "                                          min_df=min_df)\n",
    "\n",
    "    def fit_transform(self, docs):\n",
    "        train_data_features = self.vectorizer.fit_transform(docs)\n",
    "        train_data_features = train_data_features.toarray()\n",
    "\n",
    "        # Calculate NCut-weight\n",
    "        doc_mat_norm = normalize(train_data_features)\n",
    "        S = np.dot(doc_mat_norm.T, doc_mat_norm) + 0.001\n",
    "        D = np.power(np.sum(S, axis=1), -0.5) * np.eye(S.shape[0])\n",
    "        Y = np.dot(D, train_data_features.T)\n",
    "        return Y.T\n",
    "    \n",
    "    def get_feature_names(self):\n",
    "        return self.vectorizer.get_feature_names()\n",
    "\n",
    "    def transform(object):\n",
    "        train_data_features = self.vectorizer.transform(docs)\n",
    "        train_data_features = train_data_features.toarray()\n",
    "        "
   ]
  },
  {
   "cell_type": "markdown",
   "metadata": {},
   "source": [
    "# Connect to DB"
   ]
  },
  {
   "cell_type": "code",
   "execution_count": 6,
   "metadata": {},
   "outputs": [],
   "source": [
    "connection = psycopg2.connect(user = \"machineteaching\",\n",
    "                                  password = \"***REMOVED***\",\n",
    "                                  host = \"localhost\",\n",
    "#                                   port = \"5432\",\n",
    "                                  database = \"machineteaching\")\n",
    "connection.autocommit=True\n",
    "cursor = connection.cursor()"
   ]
  },
  {
   "cell_type": "code",
   "execution_count": 158,
   "metadata": {},
   "outputs": [],
   "source": [
    "def get_where_items(exp_id):\n",
    "    cols = [\"vectorizer\", \"min_df\", \"is_binary\", \"distance\", \"method\", \"dataset\", \"k\", \"model\", \"X\"]\n",
    "    query = \"SELECT %s from experiments_solution where experiment_id = %s\" % (\", \".join(cols), exp_id) \n",
    "    cursor.execute(query)\n",
    "    where_items = cursor.fetchall()\n",
    "    return where_items\n",
    "\n",
    "def analyze(solutions, where_items, exp_id):\n",
    "    v = eval(where_items[0][0])\n",
    "    m = where_items[0][1]\n",
    "    b = where_items[0][2]\n",
    "    dist = where_items[0][3]\n",
    "    method = where_items[0][4]\n",
    "    k = where_items[0][6]\n",
    "    model_db = pickle.loads(base64.b64decode(where_items[0][7]))\n",
    "    X = np.asarray(where_items[0][8])\n",
    "\n",
    "    train_data_features, vectorizer, feature_names = create_bag_of_words(solutions, v, binary=b, min_df=m)\n",
    "    clustering = Clustering(train_data_features, k, metric=dist)\n",
    "    clustering.seed = model_db.random_state\n",
    "    \n",
    "    model, document_topic, word_topic = getattr(clustering, method)()\n",
    "    \n",
    "#     savefig='problems_20190101_%s_%s_exp_%s_%s_document_topic_distribution' % (method, clustering.seed, \n",
    "#                                                                                    exp_id, clustering.k)\n",
    "#     clustering.plot_topic_distribution(title=\"Document distribution per topic\", ylabel=\"Document ID\", savefig=savefig)\n",
    "\n",
    "#     print(\"Count per class:\")\n",
    "#     clusters = clustering.document_topic.argmax(axis=1)\n",
    "#     counts = np.unique(clusters, return_counts=True)\n",
    "#     print(counts)\n",
    "    return model, vectorizer\n",
    "\n",
    "def transform(student, solutions, model_db, vectorizer, exp_id):\n",
    "    train_data_features_student = vectorizer.transform([student]).toarray()\n",
    "    train_data_features_solutions = vectorizer.transform(solutions).toarray()\n",
    "    \n",
    "    X = np.concatenate((train_data_features_student, train_data_features_solutions), axis=0)\n",
    "\n",
    "    y_student = model_db.transform(train_data_features_student)\n",
    "    y_solutions = model_db.transform(train_data_features_solutions)\n",
    "    return X, y_student, y_solutions\n",
    "#     print(\"Count per class:\")\n",
    "#     clusters = clustering.document_topic.argmax(axis=1)\n",
    "#     counts = np.unique(clusters, return_counts=True)\n",
    "#     print(counts)\n",
    "#     return clustering, method, feature_names, model"
   ]
  },
  {
   "cell_type": "code",
   "execution_count": 8,
   "metadata": {},
   "outputs": [],
   "source": [
    "import random"
   ]
  },
  {
   "cell_type": "code",
   "execution_count": 618,
   "metadata": {},
   "outputs": [],
   "source": [
    "def get_student_exercises():\n",
    "#     student = random.choice(User.objects.all())\n",
    "    student = User.objects.get(username=\"bianca.martins@poli.ufrj.br\")\n",
    "    exercises = UserLog.objects.filter(user=student, outcome__in=['P', 'F']).order_by('timestamp')\n",
    "    return student, exercises"
   ]
  },
  {
   "cell_type": "code",
   "execution_count": 129,
   "metadata": {},
   "outputs": [
    {
     "name": "stdout",
     "output_type": "stream",
     "text": [
      "# Complete your function using this header\n",
      "def amount(transaction_list):\n",
      "    soma = 0 \n",
      "    for i in range(len(transaction_list)):\n",
      "        if transaction_list[i][0] == 'D':\n",
      "            soma = soma + transaction_list[i][1]\n",
      "        else:\n",
      "            soma = soma - transaction_list[i][1]\n",
      "    return soma\n",
      "# Complete your function using this header\n",
      "def amount(transaction_list):\n",
      "    op = {\"D\": 1, \"W\": -1}\n",
      "    values = [op[item[0]]*item[1] for item in transaction_list]\n",
      "    return sum(values)\n",
      "def amount(transaction_list):\n",
      "    total = 0\n",
      "    for item in transaction_list:\n",
      "        op, value = item\n",
      "        if op == 'D':\n",
      "            total += value\n",
      "        elif op == 'W':\n",
      "            total -= value\n",
      "    return total\n",
      "\n"
     ]
    }
   ],
   "source": [
    "exercise = exercises[1]\n",
    "student_solution = exercise.solution\n",
    "print(student_solution)\n",
    "solutions_problem = Solution.objects.filter(problem=exercise.problem, ignore=False).values_list('content', flat=True)\n",
    "\n",
    "for item in solutions_problem:\n",
    "    print(item)"
   ]
  },
  {
   "cell_type": "markdown",
   "metadata": {},
   "source": [
    "# Experiment 1463\n",
    "\n",
    "- Min DF: 0.35\n",
    "- Binary: True\n",
    "- Vectorizer: NCut\n",
    "- Method: NMF\n",
    "- Best k: 7"
   ]
  },
  {
   "cell_type": "code",
   "execution_count": 66,
   "metadata": {},
   "outputs": [
    {
     "name": "stdout",
     "output_type": "stream",
     "text": [
      "Conditions\n",
      "('NCutVectorizer', 0.35, True, 'euclidean', 'nmf', 'solution_all', 7)\n"
     ]
    },
    {
     "name": "stderr",
     "output_type": "stream",
     "text": [
      "/home/lmoraes/miniconda3/envs/machine_teaching/lib/python3.6/site-packages/sklearn/base.py:311: UserWarning: Trying to unpickle estimator NMF from version 0.20.1 when using version 0.19.1. This might lead to breaking code or invalid results. Use at your own risk.\n",
      "  UserWarning)\n"
     ]
    },
    {
     "ename": "AttributeError",
     "evalue": "'NCutVectorizer' object has no attribute 'transform'",
     "output_type": "error",
     "traceback": [
      "\u001b[0;31m---------------------------------------------------------------------------\u001b[0m",
      "\u001b[0;31mAttributeError\u001b[0m                            Traceback (most recent call last)",
      "\u001b[0;32m<ipython-input-66-684b8e8ada12>\u001b[0m in \u001b[0;36m<module>\u001b[0;34m()\u001b[0m\n\u001b[1;32m      7\u001b[0m \u001b[0mmodel_db\u001b[0m \u001b[0;34m=\u001b[0m \u001b[0mpickle\u001b[0m\u001b[0;34m.\u001b[0m\u001b[0mloads\u001b[0m\u001b[0;34m(\u001b[0m\u001b[0mbase64\u001b[0m\u001b[0;34m.\u001b[0m\u001b[0mb64decode\u001b[0m\u001b[0;34m(\u001b[0m\u001b[0mwhere_items\u001b[0m\u001b[0;34m[\u001b[0m\u001b[0;36m0\u001b[0m\u001b[0;34m]\u001b[0m\u001b[0;34m[\u001b[0m\u001b[0;36m7\u001b[0m\u001b[0;34m]\u001b[0m\u001b[0;34m)\u001b[0m\u001b[0;34m)\u001b[0m\u001b[0;34m\u001b[0m\u001b[0m\n\u001b[1;32m      8\u001b[0m \u001b[0mmodel\u001b[0m\u001b[0;34m,\u001b[0m \u001b[0mvectorizer\u001b[0m \u001b[0;34m=\u001b[0m \u001b[0manalyze\u001b[0m\u001b[0;34m(\u001b[0m\u001b[0msolutions\u001b[0m\u001b[0;34m,\u001b[0m \u001b[0mwhere_items\u001b[0m\u001b[0;34m,\u001b[0m \u001b[0mexp_id\u001b[0m\u001b[0;34m)\u001b[0m\u001b[0;34m\u001b[0m\u001b[0m\n\u001b[0;32m----> 9\u001b[0;31m \u001b[0my_student\u001b[0m\u001b[0;34m,\u001b[0m \u001b[0my_solutions\u001b[0m \u001b[0;34m=\u001b[0m \u001b[0mtransform\u001b[0m\u001b[0;34m(\u001b[0m\u001b[0mstudent_solution\u001b[0m\u001b[0;34m,\u001b[0m \u001b[0msolutions\u001b[0m\u001b[0;34m,\u001b[0m \u001b[0mmodel_db\u001b[0m\u001b[0;34m,\u001b[0m \u001b[0mvectorizer\u001b[0m\u001b[0;34m,\u001b[0m \u001b[0mexp_id\u001b[0m\u001b[0;34m)\u001b[0m\u001b[0;34m\u001b[0m\u001b[0m\n\u001b[0m\u001b[1;32m     10\u001b[0m \u001b[0;34m\u001b[0m\u001b[0m\n\u001b[1;32m     11\u001b[0m \u001b[0;31m# X = np.asarray(where_items[0][8])\u001b[0m\u001b[0;34m\u001b[0m\u001b[0;34m\u001b[0m\u001b[0m\n",
      "\u001b[0;32m<ipython-input-64-fd688ab120b6>\u001b[0m in \u001b[0;36mtransform\u001b[0;34m(student, solutions, model_db, vectorizer, exp_id)\u001b[0m\n\u001b[1;32m     33\u001b[0m \u001b[0;34m\u001b[0m\u001b[0m\n\u001b[1;32m     34\u001b[0m \u001b[0;32mdef\u001b[0m \u001b[0mtransform\u001b[0m\u001b[0;34m(\u001b[0m\u001b[0mstudent\u001b[0m\u001b[0;34m,\u001b[0m \u001b[0msolutions\u001b[0m\u001b[0;34m,\u001b[0m \u001b[0mmodel_db\u001b[0m\u001b[0;34m,\u001b[0m \u001b[0mvectorizer\u001b[0m\u001b[0;34m,\u001b[0m \u001b[0mexp_id\u001b[0m\u001b[0;34m)\u001b[0m\u001b[0;34m:\u001b[0m\u001b[0;34m\u001b[0m\u001b[0m\n\u001b[0;32m---> 35\u001b[0;31m     \u001b[0mtrain_data_features_student\u001b[0m \u001b[0;34m=\u001b[0m \u001b[0mvectorizer\u001b[0m\u001b[0;34m.\u001b[0m\u001b[0mtransform\u001b[0m\u001b[0;34m(\u001b[0m\u001b[0;34m[\u001b[0m\u001b[0mstudent\u001b[0m\u001b[0;34m]\u001b[0m\u001b[0;34m)\u001b[0m\u001b[0;34m\u001b[0m\u001b[0m\n\u001b[0m\u001b[1;32m     36\u001b[0m     \u001b[0mtrain_data_features_solutions\u001b[0m \u001b[0;34m=\u001b[0m \u001b[0mvectorizer\u001b[0m\u001b[0;34m.\u001b[0m\u001b[0mtransform\u001b[0m\u001b[0;34m(\u001b[0m\u001b[0msolutions_problem\u001b[0m\u001b[0;34m)\u001b[0m\u001b[0;34m\u001b[0m\u001b[0m\n\u001b[1;32m     37\u001b[0m \u001b[0;34m\u001b[0m\u001b[0m\n",
      "\u001b[0;31mAttributeError\u001b[0m: 'NCutVectorizer' object has no attribute 'transform'"
     ]
    }
   ],
   "source": [
    "# Get experiment conditions\n",
    "exp_id = 1463\n",
    "where_items = get_where_items(exp_id)\n",
    "print(\"Conditions\")\n",
    "print(where_items[0][0:7])\n",
    "\n",
    "model_db = pickle.loads(base64.b64decode(where_items[0][7]))\n",
    "model, vectorizer  = analyze(solutions, where_items, exp_id)\n",
    "y_student, y_solutions = transform(student_solution, solutions, model_db, vectorizer, exp_id)\n",
    "\n"
   ]
  },
  {
   "cell_type": "markdown",
   "metadata": {},
   "source": [
    "# Experiment 26\n",
    "\n",
    "- Min DF: 0.05\n",
    "- Binary: True\n",
    "- Vectorizer: Count\n",
    "- Method: LDA\n",
    "- Best k: 12"
   ]
  },
  {
   "cell_type": "code",
   "execution_count": 362,
   "metadata": {
    "scrolled": false
   },
   "outputs": [],
   "source": [
    "def get_proportions(student_solution, possible_solutions):\n",
    "    # Get experiment conditions\n",
    "    exp_id = 26\n",
    "    where_items = get_where_items(exp_id)\n",
    "#     print(\"Conditions\")\n",
    "#     print(where_items[0][0:7])\n",
    "\n",
    "    model_db = pickle.loads(base64.b64decode(where_items[0][7]))\n",
    "    model_db.n_jobs = 1\n",
    "    model, vectorizer = analyze(solutions, where_items, exp_id)\n",
    "\n",
    "    X, y_student, y_solutions = transform(student_solution, possible_solutions, model_db, vectorizer, exp_id)\n",
    "\n",
    "    c = Clustering(X, where_items[0][6])\n",
    "    c.document_topic = np.concatenate((y_student, y_solutions), axis=0)\n",
    "    # c.plot_topic_distribution()\n",
    "#     print(np.array([xi * 100//1 for xi in c.document_topic]))\n",
    "    return c.document_topic\n",
    "\n",
    "#     X, y_student, y_solutions = transform(student_solution, solutions_problem, model, vectorizer, exp_id)\n",
    "#     c = Clustering(X, where_items[0][6])\n",
    "#     c.document_topic = np.concatenate((y_student, y_solutions), axis=0)\n",
    "#     print(np.array([xi * 100//1 for xi in c.document_topic]))\n",
    "    # c.plot_topic_distribution()"
   ]
  },
  {
   "cell_type": "code",
   "execution_count": 134,
   "metadata": {},
   "outputs": [],
   "source": [
    "# Constants\n",
    "# Initial learning state\n",
    "L0 = 0\n",
    "# Probability of transition\n",
    "T = 0.1\n",
    "# Probability of slip\n",
    "S = 0.3\n",
    "# Probability of guess\n",
    "G = 0.3"
   ]
  },
  {
   "cell_type": "code",
   "execution_count": 608,
   "metadata": {},
   "outputs": [],
   "source": [
    "def correct(learning_state):\n",
    "    learning_correct = learning_state * (1 - S)\n",
    "    guess_correct = ((1 - learning_state) * G)\n",
    "    learning_evidence = learning_correct/(learning_correct + guess_correct)\n",
    "    return learning_evidence\n",
    "\n",
    "def incorrect(learning_state):\n",
    "    learning_incorrect = learning_state * S\n",
    "    guess_incorrect = ((1 - learning_state) * (1 - G))\n",
    "    learning_evidence = learning_incorrect/(learning_incorrect + guess_incorrect)\n",
    "    return learning_evidence\n",
    "    \n",
    "def update(learning_state, distribution, iscorrect=True):\n",
    "    if iscorrect:\n",
    "        learning_evidence = correct(learning_state)\n",
    "    else:\n",
    "        learning_evidence = incorrect(learning_state)\n",
    "    print(\"Learning evidence: %s\" % (learning_evidence*100//1))\n",
    "    learning_state = learning_evidence + ((1 - learning_evidence) * T * distribution)\n",
    "    return learning_state"
   ]
  },
  {
   "cell_type": "code",
   "execution_count": 377,
   "metadata": {},
   "outputs": [],
   "source": [
    "l = 0"
   ]
  },
  {
   "cell_type": "code",
   "execution_count": 378,
   "metadata": {},
   "outputs": [
    {
     "name": "stdout",
     "output_type": "stream",
     "text": [
      "Learning evidence: 0.0\n",
      "0.1\n"
     ]
    }
   ],
   "source": [
    "l = update(l, True)\n",
    "print(l)"
   ]
  },
  {
   "cell_type": "code",
   "execution_count": 606,
   "metadata": {},
   "outputs": [],
   "source": [
    "def get_new_student(b):\n",
    "    global student\n",
    "    global exercises\n",
    "    student, exercises = get_student_exercises()\n",
    "    print(\"Student %s submitted %d responses\" % (student.email, exercises.count()))\n",
    "    \n",
    "def update_learning(b):\n",
    "    try:\n",
    "        idx, distribution, outcome = next(l)\n",
    "    except StopIteration:\n",
    "        label_finished.value = \"Finished\"\n",
    "    \n",
    "    label_submission.value = \"Submission \" + str(idx+1)\n",
    "    if outcome == \"Passed\":\n",
    "        layout=widgets.Layout(border='1px solid green')\n",
    "    else:\n",
    "        layout=widgets.Layout(border='1px solid red')\n",
    "    label_outcome.value = \"Outcome: \" + outcome\n",
    "    label_outcome.layout = layout\n",
    "    \n",
    "    # Topic 6: simple math\n",
    "    simple_math.value = distribution[5]*100//1\n",
    "    label_simple_math.value = str(simple_math.value)\n",
    "    # Topic 8: conditional\n",
    "    conditional.value = distribution[7]*100//1\n",
    "    label_conditional.value = str(conditional.value)\n",
    "    # Topic 12: loop \n",
    "    loop.value = distribution[11]*100//1\n",
    "    label_loop.value = str(loop.value)\n",
    "    # Topic 10: list manipulation\n",
    "    list_manipulation.value = distribution[9]*100//1\n",
    "    label_list_manipulation.value = str(list_manipulation.value)\n",
    "    # Topics 2 and 4: string\n",
    "    string.value = (distribution[1] + distribution[3])*100//1\n",
    "    label_string.value = str(string.value)\n",
    "    \n",
    "def go_to_next_passed(b):\n",
    "    outcome = \"Failed\"\n",
    "    \n",
    "    try:\n",
    "        while outcome != \"Passed\":\n",
    "            idx, distribution, outcome = next(l)\n",
    "    except StopIteration:\n",
    "        label_finished.value = \"Finished\"\n",
    "\n",
    "    label_submission.value = \"Submission \" + str(idx+1)\n",
    "    if outcome == \"Passed\":\n",
    "        layout=widgets.Layout(border='1px solid green')\n",
    "    else:\n",
    "        layout=widgets.Layout(border='1px solid red')\n",
    "    label_outcome.value = \"Outcome: \" + outcome\n",
    "    label_outcome.layout = layout\n",
    "    \n",
    "    # Topic 6: simple math\n",
    "    simple_math.value = distribution[5]*100//1\n",
    "    label_simple_math.value = str(simple_math.value)\n",
    "    # Topic 8: conditional\n",
    "    conditional.value = distribution[7]*100//1\n",
    "    label_conditional.value = str(conditional.value)\n",
    "    # Topic 12: loop \n",
    "    loop.value = distribution[11]*100//1\n",
    "    label_loop.value = str(loop.value)\n",
    "    # Topic 10: list manipulation\n",
    "    list_manipulation.value = distribution[9]*100//1\n",
    "    label_list_manipulation.value = str(list_manipulation.value)\n",
    "    # Topics 2 and 4: string\n",
    "    string.value = (distribution[1] + distribution[3])*100//1\n",
    "    label_string.value = str(string.value)\n",
    "    \n",
    "def calculate_learning_state():\n",
    "    l = np.zeros((12,))\n",
    "    previous_exercise = ''\n",
    "    for idx, exercise in enumerate(exercises):\n",
    "        student_solution = exercise.solution\n",
    "        solutions_problem = Solution.objects.filter(problem=exercise.problem, ignore=False).values_list('content', flat=True)\n",
    "        solutions_students = UserLog.objects.filter(problem=exercise.problem, outcome='P').values_list('solution', flat=True)\n",
    "        \n",
    "        possible_solutions = list(solutions_problem) + list(solutions_students)\n",
    "        # Hyp 1: use the closest correct answer\n",
    "        if hyp == 1:\n",
    "            document_topic = get_proportions(student_solution, possible_solutions)\n",
    "        # Hyp 2: use only original answers\n",
    "        elif hyp == 2:\n",
    "            document_topic = get_proportions(student_solution, solutions_problem)\n",
    "        # Hyp 3: use only student answer\n",
    "        elif hyp == 3:\n",
    "            document_topic = get_proportions(student_solution, [student_solution])\n",
    "        \n",
    "        idx_model_answer = np.argmin(euclidean_distances(document_topic, document_topic)[0,1:])+1\n",
    "        print(np.array([xi * 100//1 for xi in document_topic[[0,idx_model_answer],:]]))\n",
    "\n",
    "        print(\"Submission #%d: %s\" %(idx+1, exercise.outcome))\n",
    "        distribution = document_topic[idx_model_answer,:]\n",
    "        if exercise.outcome == 'P':\n",
    "            outcome = \"Passed\"\n",
    "            l = update(l, distribution, True)\n",
    "#             print(exercise.solution)\n",
    "#             print(possible_solutions[idx_model_answer-1])\n",
    "        else:\n",
    "            # Hack to skip identifical solutions that are just apart from indents and spaces\n",
    "            if student_solution.replace(\"\\n\", \"\").replace(\" \",\"\") == previous_exercise.replace(\"\\n\", \"\").replace(\" \",\"\"):\n",
    "                continue\n",
    "            else:\n",
    "                previous_exercise = student_solution\n",
    "                outcome = \"Failed\"\n",
    "                l = update(l, distribution, False)\n",
    "#                 print(exercise.solution)\n",
    "#                 print(possible_solutions[idx_model_answer-1])\n",
    "        print(\"Learning state: %s\" % (l*100//1))\n",
    "        yield idx, l, outcome"
   ]
  },
  {
   "cell_type": "code",
   "execution_count": 623,
   "metadata": {},
   "outputs": [
    {
     "ename": "AttributeError",
     "evalue": "'tuple' object has no attribute 'user'",
     "output_type": "error",
     "traceback": [
      "\u001b[0;31m---------------------------------------------------------------------------\u001b[0m",
      "\u001b[0;31mAttributeError\u001b[0m                            Traceback (most recent call last)",
      "\u001b[0;32m<ipython-input-623-db626eca74f5>\u001b[0m in \u001b[0;36m<module>\u001b[0;34m\u001b[0m\n\u001b[1;32m      1\u001b[0m \u001b[0;32mfor\u001b[0m \u001b[0mi\u001b[0m \u001b[0;32min\u001b[0m \u001b[0mset\u001b[0m\u001b[0;34m(\u001b[0m\u001b[0mlist\u001b[0m\u001b[0;34m(\u001b[0m\u001b[0mUserLog\u001b[0m\u001b[0;34m.\u001b[0m\u001b[0mobjects\u001b[0m\u001b[0;34m.\u001b[0m\u001b[0mfilter\u001b[0m\u001b[0;34m(\u001b[0m\u001b[0muser__username__contains\u001b[0m\u001b[0;34m=\u001b[0m\u001b[0;34m\"bi\"\u001b[0m\u001b[0;34m)\u001b[0m\u001b[0;34m.\u001b[0m\u001b[0mvalues_list\u001b[0m\u001b[0;34m(\u001b[0m\u001b[0;34m'user__username'\u001b[0m\u001b[0;34m)\u001b[0m\u001b[0;34m)\u001b[0m\u001b[0;34m)\u001b[0m\u001b[0;34m:\u001b[0m\u001b[0;34m\u001b[0m\u001b[0;34m\u001b[0m\u001b[0m\n\u001b[0;32m----> 2\u001b[0;31m     \u001b[0mprint\u001b[0m\u001b[0;34m(\u001b[0m\u001b[0mi\u001b[0m\u001b[0;34m.\u001b[0m\u001b[0muser\u001b[0m\u001b[0;34m.\u001b[0m\u001b[0musername\u001b[0m\u001b[0;34m)\u001b[0m\u001b[0;34m\u001b[0m\u001b[0;34m\u001b[0m\u001b[0m\n\u001b[0m",
      "\u001b[0;31mAttributeError\u001b[0m: 'tuple' object has no attribute 'user'"
     ]
    }
   ],
   "source": [
    "for i in set(list(UserLog.objects.filter(user__username__contains=\"bi\").values_list('user__username'))):\n",
    "    print(i.user.username)"
   ]
  },
  {
   "cell_type": "code",
   "execution_count": null,
   "metadata": {},
   "outputs": [],
   "source": [
    "gabriellacavalcante1@hotmail.com\n",
    "davi.richards@hotmail.com"
   ]
  },
  {
   "cell_type": "code",
   "execution_count": 572,
   "metadata": {},
   "outputs": [
    {
     "data": {
      "application/vnd.jupyter.widget-view+json": {
       "model_id": "d6c88ce8fd104c109534c1f88dcfc94e",
       "version_major": 2,
       "version_minor": 0
      },
      "text/plain": [
       "Button(description='Get new student', style=ButtonStyle())"
      ]
     },
     "metadata": {},
     "output_type": "display_data"
    },
    {
     "name": "stdout",
     "output_type": "stream",
     "text": [
      "Student gabriellacavalcante1@hotmail.com submitted 4 responses\n",
      "Student rafaelquartieri@poli.ufrj.br submitted 8 responses\n",
      "Student davi.richards@hotmail.com submitted 141 responses\n",
      "Student mari.ziglio@poli.ufrj.br submitted 7 responses\n",
      "Student leonardoyocogawa@poli.ufrj.br submitted 7 responses\n",
      "Student quezia.menezes@poli.ufrj.br submitted 2 responses\n",
      "Student cnayara.santos@gmail.com submitted 0 responses\n",
      "Student joabefelix@poli.ufrj.br submitted 0 responses\n",
      "Student bellapantojo@gmail.com submitted 2 responses\n",
      "Student pedroh.porto02@gmail.com submitted 0 responses\n",
      "Student bianca.martins@poli.ufrj.br submitted 25 responses\n",
      "Student bianca.martins@poli.ufrj.br submitted 25 responses\n"
     ]
    }
   ],
   "source": [
    "new_student_button = widgets.Button(description=\"Get new student\")\n",
    "display(new_student_button)\n",
    "new_student_button.on_click(get_new_student)"
   ]
  },
  {
   "cell_type": "code",
   "execution_count": 624,
   "metadata": {
    "scrolled": false
   },
   "outputs": [
    {
     "data": {
      "application/vnd.jupyter.widget-view+json": {
       "model_id": "e9174ec1883942289366354e501731d4",
       "version_major": 2,
       "version_minor": 0
      },
      "text/plain": [
       "Button(description='Update learning state', style=ButtonStyle())"
      ]
     },
     "metadata": {},
     "output_type": "display_data"
    },
    {
     "data": {
      "application/vnd.jupyter.widget-view+json": {
       "model_id": "1338040590c843b3bd01d4b444eb972e",
       "version_major": 2,
       "version_minor": 0
      },
      "text/plain": [
       "Button(description='Next passed state', style=ButtonStyle())"
      ]
     },
     "metadata": {},
     "output_type": "display_data"
    },
    {
     "data": {
      "application/vnd.jupyter.widget-view+json": {
       "model_id": "faee8176df5b489ea2e16b1d1d5748e6",
       "version_major": 2,
       "version_minor": 0
      },
      "text/plain": [
       "Label(value='')"
      ]
     },
     "metadata": {},
     "output_type": "display_data"
    },
    {
     "data": {
      "application/vnd.jupyter.widget-view+json": {
       "model_id": "f4bc93fc4d8d475ba18e6ec4cb27a89a",
       "version_major": 2,
       "version_minor": 0
      },
      "text/plain": [
       "Label(value='Submission 0')"
      ]
     },
     "metadata": {},
     "output_type": "display_data"
    },
    {
     "data": {
      "application/vnd.jupyter.widget-view+json": {
       "model_id": "ef073b79763d4a5095a9b486ffe433bb",
       "version_major": 2,
       "version_minor": 0
      },
      "text/plain": [
       "Label(value='Outcome:')"
      ]
     },
     "metadata": {},
     "output_type": "display_data"
    },
    {
     "data": {
      "application/vnd.jupyter.widget-view+json": {
       "model_id": "15392fb8bc8040cb9bb30e63bc7e05d8",
       "version_major": 2,
       "version_minor": 0
      },
      "text/plain": [
       "HBox(children=(FloatProgress(value=0.0, bar_style='info', description='Simple Math'), Label(value='0')))"
      ]
     },
     "metadata": {},
     "output_type": "display_data"
    },
    {
     "data": {
      "application/vnd.jupyter.widget-view+json": {
       "model_id": "c9a1c8bc072948afbc23815f77e3cf92",
       "version_major": 2,
       "version_minor": 0
      },
      "text/plain": [
       "HBox(children=(FloatProgress(value=0.0, bar_style='warning', description='Conditional'), Label(value='0')))"
      ]
     },
     "metadata": {},
     "output_type": "display_data"
    },
    {
     "data": {
      "application/vnd.jupyter.widget-view+json": {
       "model_id": "f2300bfac7254c0793885b95874fc65e",
       "version_major": 2,
       "version_minor": 0
      },
      "text/plain": [
       "HBox(children=(FloatProgress(value=0.0, bar_style='danger', description='Loop'), Label(value='0')))"
      ]
     },
     "metadata": {},
     "output_type": "display_data"
    },
    {
     "data": {
      "application/vnd.jupyter.widget-view+json": {
       "model_id": "7c2a93e54aaf4a2383063bd6558c8413",
       "version_major": 2,
       "version_minor": 0
      },
      "text/plain": [
       "HBox(children=(FloatProgress(value=0.0, bar_style='success', description='List Manipulation'), Label(value='0'…"
      ]
     },
     "metadata": {},
     "output_type": "display_data"
    },
    {
     "data": {
      "application/vnd.jupyter.widget-view+json": {
       "model_id": "52a7414fe9c046d48be0d0df2044b6bb",
       "version_major": 2,
       "version_minor": 0
      },
      "text/plain": [
       "HBox(children=(FloatProgress(value=0.0, description='String'), Label(value='0')))"
      ]
     },
     "metadata": {},
     "output_type": "display_data"
    }
   ],
   "source": [
    "button = widgets.Button(description=\"Update learning state\")\n",
    "display(button)\n",
    "button.on_click(update_learning)\n",
    "\n",
    "button_next_p = widgets.Button(description=\"Next passed state\")\n",
    "display(button_next_p)\n",
    "button_next_p.on_click(go_to_next_passed)\n",
    "\n",
    "label_finished = widgets.Label(value='')\n",
    "display(label_finished)\n",
    "\n",
    "# Topics/Concepts\n",
    "simple_math = FloatProgress(min=0, max=100,  bar_style='info', description=\"Simple Math\")\n",
    "conditional = FloatProgress(min=0, max=100,  bar_style='warning', description=\"Conditional\")\n",
    "loop = FloatProgress(min=0, max=100,  bar_style='danger', description=\"Loop\")\n",
    "list_manipulation = FloatProgress(min=0, max=100,  bar_style='success', description=\"List Manipulation\")\n",
    "string = FloatProgress(min=0, max=100,  bar_style='', description=\"String\")\n",
    "\n",
    "# Labels\n",
    "label_submission = widgets.Label(value=\"Submission \"+str(0))\n",
    "style = {'border': 'solid', \"border-color\": \"black\"}\n",
    "label_outcome = widgets.Label(value=\"Outcome:\")\n",
    "label_simple_math = widgets.Label(value=str(0))\n",
    "label_conditional = widgets.Label(value=str(0))\n",
    "label_loop = widgets.Label(value=str(0))\n",
    "label_list_manipulation = widgets.Label(value=str(0))\n",
    "label_string = widgets.Label(value=str(0))\n",
    "\n",
    "display(label_submission)\n",
    "display(label_outcome)\n",
    "display(widgets.HBox([simple_math, label_simple_math]))\n",
    "display(widgets.HBox([conditional, label_conditional]))\n",
    "display(widgets.HBox([loop, label_loop]))\n",
    "display(widgets.HBox([list_manipulation, label_list_manipulation]))\n",
    "display(widgets.HBox([string, label_string]))\n",
    "\n",
    "hyp = 3\n",
    "l = calculate_learning_state()"
   ]
  },
  {
   "cell_type": "code",
   "execution_count": 393,
   "metadata": {
    "scrolled": false
   },
   "outputs": [
    {
     "name": "stdout",
     "output_type": "stream",
     "text": [
      "Student livia2000medeiros@gmail.com submitted 20 responses\n"
     ]
    },
    {
     "name": "stderr",
     "output_type": "stream",
     "text": [
      "/home/lmoraes/miniconda3/envs/machineteaching/lib/python3.7/site-packages/sklearn/base.py:253: UserWarning: Trying to unpickle estimator LatentDirichletAllocation from version 0.20.1 when using version 0.20.3. This might lead to breaking code or invalid results. Use at your own risk.\n",
      "  UserWarning)\n"
     ]
    },
    {
     "name": "stdout",
     "output_type": "stream",
     "text": [
      "[[ 0.  0.  0.  0.  0. 86.  0.  0.  0.  0.  0.  8.]\n",
      " [ 0.  0.  0.  0.  0. 86.  0.  0.  0.  0.  0.  8.]]\n",
      "Submission #1: F\n",
      "Learning evidence: [0. 0. 0. 0. 0. 0. 0. 0. 0. 0. 0. 0.]\n",
      "Learning state: [0. 0. 0. 0. 0. 8. 0. 0. 0. 0. 0. 0.]\n"
     ]
    },
    {
     "name": "stderr",
     "output_type": "stream",
     "text": [
      "/home/lmoraes/miniconda3/envs/machineteaching/lib/python3.7/site-packages/sklearn/base.py:253: UserWarning: Trying to unpickle estimator LatentDirichletAllocation from version 0.20.1 when using version 0.20.3. This might lead to breaking code or invalid results. Use at your own risk.\n",
      "  UserWarning)\n"
     ]
    },
    {
     "name": "stdout",
     "output_type": "stream",
     "text": [
      "[[ 0.  0.  0.  0.  0. 86.  0.  0.  0.  0.  0.  8.]\n",
      " [ 0.  0.  0.  0.  0. 86.  0.  0.  0.  0.  0.  8.]]\n",
      "Submission #2: F\n",
      "Learning evidence: [0.0002233  0.00022328 0.00022329 0.00022328 0.00022328 0.03879541\n",
      " 0.00022328 0.00022328 0.00022328 0.00022328 0.00022328 0.00375635]\n",
      "Learning state: [ 0.  0.  0.  0.  0. 12.  0.  0.  0.  0.  0.  1.]\n"
     ]
    },
    {
     "name": "stderr",
     "output_type": "stream",
     "text": [
      "/home/lmoraes/miniconda3/envs/machineteaching/lib/python3.7/site-packages/sklearn/base.py:253: UserWarning: Trying to unpickle estimator LatentDirichletAllocation from version 0.20.1 when using version 0.20.3. This might lead to breaking code or invalid results. Use at your own risk.\n",
      "  UserWarning)\n"
     ]
    },
    {
     "name": "stdout",
     "output_type": "stream",
     "text": [
      "[[ 0.  0.  0.  0.  0. 85.  0.  0.  0.  0.  0.  9.]\n",
      " [ 0.  0.  0.  0.  0. 86.  0.  0.  0.  0.  0.  8.]]\n",
      "Submission #3: F\n",
      "Learning evidence: [0.00031901 0.00031899 0.00031901 0.00031899 0.00031899 0.05596962\n",
      " 0.00031899 0.000319   0.00031899 0.00031899 0.00031899 0.00537166]\n",
      "Learning state: [ 0.  0.  0.  0.  0. 13.  0.  0.  0.  0.  0.  1.]\n"
     ]
    },
    {
     "name": "stderr",
     "output_type": "stream",
     "text": [
      "/home/lmoraes/miniconda3/envs/machineteaching/lib/python3.7/site-packages/sklearn/base.py:253: UserWarning: Trying to unpickle estimator LatentDirichletAllocation from version 0.20.1 when using version 0.20.3. This might lead to breaking code or invalid results. Use at your own risk.\n",
      "  UserWarning)\n"
     ]
    },
    {
     "name": "stdout",
     "output_type": "stream",
     "text": [
      "[[ 0.  0.  0.  0.  0. 86.  0.  0.  0.  0.  0.  8.]\n",
      " [ 0.  0.  0.  0.  0. 86.  0.  0.  0.  0.  0.  8.]]\n",
      "Submission #4: P\n",
      "Learning evidence: [0.00195715 0.00195702 0.00195712 0.00195702 0.00195703 0.27066458\n",
      " 0.00195703 0.00195704 0.00195701 0.00195703 0.00195701 0.03217138]\n",
      "# Complete your function using this header\n",
      "def digit_sum(digit):\n",
      "  return digit + digit*11 + digit*111 + digit*1111\n",
      "# Complete your function using this header\n",
      "def digit_sum(a):\n",
      "    return a+a*11+a*111+a*1111\n",
      "Learning state: [ 0.  0.  0.  0.  0. 33.  0.  0.  0.  0.  0.  4.]\n"
     ]
    },
    {
     "name": "stderr",
     "output_type": "stream",
     "text": [
      "/home/lmoraes/miniconda3/envs/machineteaching/lib/python3.7/site-packages/sklearn/base.py:253: UserWarning: Trying to unpickle estimator LatentDirichletAllocation from version 0.20.1 when using version 0.20.3. This might lead to breaking code or invalid results. Use at your own risk.\n",
      "  UserWarning)\n"
     ]
    },
    {
     "name": "stdout",
     "output_type": "stream",
     "text": [
      "[[ 0.  0.  0.  0.  0. 80.  0.  0.  0. 13.  0.  0.]\n",
      " [10.  0.  0.  0.  0. 42.  0. 17.  0. 17.  0. 10.]]\n",
      "Submission #5: F\n",
      "Learning evidence: [0.00106307 0.00106301 0.00106306 0.00106301 0.00106301 0.17653957\n",
      " 0.00106301 0.00106302 0.001063   0.00106301 0.001063   0.01781864]\n",
      "Learning state: [ 1.  0.  0.  0.  0. 21.  0.  1.  0.  1.  0.  2.]\n"
     ]
    },
    {
     "name": "stderr",
     "output_type": "stream",
     "text": [
      "/home/lmoraes/miniconda3/envs/machineteaching/lib/python3.7/site-packages/sklearn/base.py:253: UserWarning: Trying to unpickle estimator LatentDirichletAllocation from version 0.20.1 when using version 0.20.3. This might lead to breaking code or invalid results. Use at your own risk.\n",
      "  UserWarning)\n"
     ]
    },
    {
     "name": "stdout",
     "output_type": "stream",
     "text": [
      "[[ 7.  0.  0.  0.  0. 73.  0.  0.  0. 13.  0.  0.]\n",
      " [ 0.  0.  0.  0.  0. 42.  0. 19.  0. 29.  0.  7.]]\n",
      "Submission #6: F\n",
      "Learning evidence: [0.00482141 0.0005711  0.00057112 0.0005711  0.0005711  0.10323984\n",
      " 0.0005711  0.00795934 0.00057109 0.00811438 0.00057109 0.01213158]\n",
      "Learning state: [ 0.  0.  0.  0.  0. 14.  0.  2.  0.  3.  0.  1.]\n"
     ]
    },
    {
     "name": "stderr",
     "output_type": "stream",
     "text": [
      "/home/lmoraes/miniconda3/envs/machineteaching/lib/python3.7/site-packages/sklearn/base.py:253: UserWarning: Trying to unpickle estimator LatentDirichletAllocation from version 0.20.1 when using version 0.20.3. This might lead to breaking code or invalid results. Use at your own risk.\n",
      "  UserWarning)\n"
     ]
    },
    {
     "name": "stdout",
     "output_type": "stream",
     "text": [
      "[[ 8.  0.  0.  0.  0. 67.  0.  0.  0. 19.  0.  0.]\n",
      " [ 0.  0.  0.  0.  0. 42.  0. 19.  0. 29.  0.  7.]]\n",
      "Submission #7: F\n",
      "Learning evidence: [0.00217716 0.0003499  0.00034991 0.0003499  0.0003499  0.06572949\n",
      " 0.0003499  0.011756   0.0003499  0.0162223  0.0003499  0.00848908]\n",
      "Learning state: [ 0.  0.  0.  0.  0. 10.  0.  3.  0.  4.  0.  1.]\n"
     ]
    },
    {
     "name": "stderr",
     "output_type": "stream",
     "text": [
      "/home/lmoraes/miniconda3/envs/machineteaching/lib/python3.7/site-packages/sklearn/base.py:253: UserWarning: Trying to unpickle estimator LatentDirichletAllocation from version 0.20.1 when using version 0.20.3. This might lead to breaking code or invalid results. Use at your own risk.\n",
      "  UserWarning)\n"
     ]
    },
    {
     "name": "stdout",
     "output_type": "stream",
     "text": [
      "[[ 8.  0.  0.  0.  0. 67.  0.  0.  0. 19.  0.  0.]\n",
      " [ 0.  0.  0.  0.  0. 42.  0. 19.  0. 29.  0.  7.]]\n",
      "Submission #8: F\n",
      "Learning evidence: [0.00103933 0.00025505 0.00025506 0.00025505 0.00025505 0.04791127\n",
      " 0.00025505 0.01340589 0.00025505 0.01975951 0.00025505 0.00690782]\n",
      "Learning state: [0. 0. 0. 0. 0. 8. 0. 3. 0. 4. 0. 1.]\n"
     ]
    },
    {
     "name": "stderr",
     "output_type": "stream",
     "text": [
      "/home/lmoraes/miniconda3/envs/machineteaching/lib/python3.7/site-packages/sklearn/base.py:253: UserWarning: Trying to unpickle estimator LatentDirichletAllocation from version 0.20.1 when using version 0.20.3. This might lead to breaking code or invalid results. Use at your own risk.\n",
      "  UserWarning)\n"
     ]
    },
    {
     "name": "stdout",
     "output_type": "stream",
     "text": [
      "[[ 8.  0.  0.  0.  0. 67.  0.  0.  0. 19.  0.  0.]\n",
      " [ 0.  0.  0.  0.  0. 42.  0. 19.  0. 29.  0.  7.]]\n",
      "Submission #9: F\n",
      "Learning evidence: [0.00055077 0.00021439 0.00021439 0.00021439 0.00021439 0.03971715\n",
      " 0.00021439 0.01412509 0.00021438 0.02131293 0.00021438 0.00622342]\n",
      "Learning state: [0. 0. 0. 0. 0. 8. 0. 3. 0. 4. 0. 1.]\n"
     ]
    },
    {
     "name": "stderr",
     "output_type": "stream",
     "text": [
      "/home/lmoraes/miniconda3/envs/machineteaching/lib/python3.7/site-packages/sklearn/base.py:253: UserWarning: Trying to unpickle estimator LatentDirichletAllocation from version 0.20.1 when using version 0.20.3. This might lead to breaking code or invalid results. Use at your own risk.\n",
      "  UserWarning)\n"
     ]
    },
    {
     "name": "stdout",
     "output_type": "stream",
     "text": [
      "[[ 8.  0.  0.  0.  0. 67.  0.  0.  0. 19.  0.  0.]\n",
      " [ 0.  0.  0.  0.  0. 42.  0. 19.  0. 29.  0.  7.]]\n",
      "Submission #10: F\n",
      "Learning evidence: [0.00034119 0.00019695 0.00019695 0.00019695 0.00019695 0.03600512\n",
      " 0.00019695 0.01443903 0.00019695 0.02199713 0.00019695 0.00592759]\n",
      "Learning state: [0. 0. 0. 0. 0. 7. 0. 3. 0. 5. 0. 1.]\n"
     ]
    },
    {
     "name": "stderr",
     "output_type": "stream",
     "text": [
      "/home/lmoraes/miniconda3/envs/machineteaching/lib/python3.7/site-packages/sklearn/base.py:253: UserWarning: Trying to unpickle estimator LatentDirichletAllocation from version 0.20.1 when using version 0.20.3. This might lead to breaking code or invalid results. Use at your own risk.\n",
      "  UserWarning)\n"
     ]
    },
    {
     "name": "stdout",
     "output_type": "stream",
     "text": [
      "[[ 9.  0.  0.  0.  0. 83.  0.  0.  0.  0.  0.  0.]\n",
      " [43.  0.  0.  0.  0. 44.  0.  0.  0.  0.  0.  9.]]\n",
      "Submission #11: F\n",
      "Learning evidence: [0.00025132 0.00018948 0.00018948 0.00018948 0.00018948 0.03433499\n",
      " 0.00018948 0.01457615 0.00018948 0.02229886 0.00018948 0.00579979]\n",
      "Learning state: [4. 0. 0. 0. 0. 7. 0. 1. 0. 2. 0. 1.]\n"
     ]
    },
    {
     "name": "stderr",
     "output_type": "stream",
     "text": [
      "/home/lmoraes/miniconda3/envs/machineteaching/lib/python3.7/site-packages/sklearn/base.py:253: UserWarning: Trying to unpickle estimator LatentDirichletAllocation from version 0.20.1 when using version 0.20.3. This might lead to breaking code or invalid results. Use at your own risk.\n",
      "  UserWarning)\n"
     ]
    },
    {
     "name": "stdout",
     "output_type": "stream",
     "text": [
      "[[ 0.  0.  0.  0.  0. 36.  0. 47.  0.  0.  0. 11.]\n",
      " [ 6.  0.  0.  0.  0. 25.  0. 60.  0.  0.  0.  6.]]\n",
      "Submission #12: F\n",
      "Learning evidence: [0.01921648 0.00018946 0.00018946 0.00018946 0.00018946 0.03457918\n",
      " 0.00018946 0.00640786 0.00018946 0.00978858 0.00018946 0.00677911]\n",
      "Learning state: [2. 0. 0. 0. 0. 5. 0. 6. 0. 0. 0. 1.]\n"
     ]
    },
    {
     "name": "stderr",
     "output_type": "stream",
     "text": [
      "/home/lmoraes/miniconda3/envs/machineteaching/lib/python3.7/site-packages/sklearn/base.py:253: UserWarning: Trying to unpickle estimator LatentDirichletAllocation from version 0.20.1 when using version 0.20.3. This might lead to breaking code or invalid results. Use at your own risk.\n",
      "  UserWarning)\n"
     ]
    },
    {
     "name": "stdout",
     "output_type": "stream",
     "text": [
      "[[ 0.  0.  0.  0.  0. 24.  0. 43.  0.  0.  0. 26.]\n",
      " [ 6.  0.  0.  0.  0. 25.  0. 60.  0.  0.  0.  6.]]\n",
      "Submission #13: F\n",
      "Learning evidence: [0.01107579 0.00016427 0.00016428 0.00016427 0.00016428 0.02610244\n",
      " 0.00016427 0.02952504 0.00016427 0.00430189 0.00016427 0.00578791]\n",
      "Learning state: [1. 0. 0. 0. 0. 5. 0. 8. 0. 0. 0. 1.]\n"
     ]
    },
    {
     "name": "stderr",
     "output_type": "stream",
     "text": [
      "/home/lmoraes/miniconda3/envs/machineteaching/lib/python3.7/site-packages/sklearn/base.py:253: UserWarning: Trying to unpickle estimator LatentDirichletAllocation from version 0.20.1 when using version 0.20.3. This might lead to breaking code or invalid results. Use at your own risk.\n",
      "  UserWarning)\n"
     ]
    },
    {
     "name": "stdout",
     "output_type": "stream",
     "text": [
      "[[ 0. 27.  0.  0.  0. 64.  0.  0.  0.  0.  0.  0.]\n",
      " [ 0. 27.  0.  0.  0. 64.  0.  0.  0.  0.  0.  0.]]\n",
      "Submission #14: P\n",
      "Learning evidence: [0.03963173 0.00083504 0.00083504 0.00083504 0.00083504 0.11059166\n",
      " 0.00083504 0.18378314 0.00083503 0.01042552 0.00083503 0.02850139]\n",
      "# Complete your function using this header\n",
      "def find(ordered_list, element_to_find):\n",
      "    list.sort(ordered_list)\n",
      "    return element_to_find in ordered_list\n",
      "# Complete your function using this header\n",
      "def find(ordered_list, element_to_find):\n",
      "    list.sort(ordered_list)\n",
      "    return element_to_find in ordered_list\n",
      "Learning state: [ 4.  2.  0.  0.  0. 16.  0. 18.  0.  1.  0.  2.]\n"
     ]
    },
    {
     "name": "stderr",
     "output_type": "stream",
     "text": [
      "/home/lmoraes/miniconda3/envs/machineteaching/lib/python3.7/site-packages/sklearn/base.py:253: UserWarning: Trying to unpickle estimator LatentDirichletAllocation from version 0.20.1 when using version 0.20.3. This might lead to breaking code or invalid results. Use at your own risk.\n",
      "  UserWarning)\n"
     ]
    },
    {
     "name": "stdout",
     "output_type": "stream",
     "text": [
      "[[ 0.  0.  0.  0.  0. 49.  0.  0.  0.  0.  0. 45.]\n",
      " [ 0.  0.  0.  0.  0.  0.  0. 17.  0. 19.  0. 61.]]\n",
      "Submission #15: F\n",
      "Learning evidence: [0.01770517 0.0124269  0.0006829  0.00068291 0.0006829  0.07972338\n",
      " 0.0006829  0.08833754 0.00068289 0.00482016 0.00068289 0.01274321]\n",
      "Learning state: [ 1.  1.  0.  0.  0.  7.  0. 10.  0.  2.  0.  7.]\n"
     ]
    },
    {
     "name": "stderr",
     "output_type": "stream",
     "text": [
      "/home/lmoraes/miniconda3/envs/machineteaching/lib/python3.7/site-packages/sklearn/base.py:253: UserWarning: Trying to unpickle estimator LatentDirichletAllocation from version 0.20.1 when using version 0.20.3. This might lead to breaking code or invalid results. Use at your own risk.\n",
      "  UserWarning)\n"
     ]
    },
    {
     "name": "stdout",
     "output_type": "stream",
     "text": [
      "[[ 0.  0.  0.  0.  0. 27. 11. 57.  0.  0.  0.  0.]\n",
      " [ 0.  0.  0.  0.  0. 23.  0. 51.  0.  0.  0. 22.]]\n",
      "Submission #16: F\n",
      "Learning evidence: [0.00774506 0.00544342 0.00037217 0.00037217 0.00037217 0.03587817\n",
      " 0.00037217 0.04745178 0.00037216 0.01034864 0.00037216 0.03305478]\n",
      "Learning state: [0. 0. 0. 0. 0. 5. 0. 9. 0. 1. 0. 5.]\n"
     ]
    },
    {
     "name": "stderr",
     "output_type": "stream",
     "text": [
      "/home/lmoraes/miniconda3/envs/machineteaching/lib/python3.7/site-packages/sklearn/base.py:253: UserWarning: Trying to unpickle estimator LatentDirichletAllocation from version 0.20.1 when using version 0.20.3. This might lead to breaking code or invalid results. Use at your own risk.\n",
      "  UserWarning)\n"
     ]
    },
    {
     "name": "stdout",
     "output_type": "stream",
     "text": [
      "[[ 0.  0.  0.  0.  0. 44.  0.  0.  0.  0.  0. 50.]\n",
      " [ 0.  0.  0.  0.  0.  0.  0. 33.  0.  0.  0. 64.]]\n",
      "Submission #17: F\n",
      "Learning evidence: [0.0034334  0.00243947 0.00025876 0.00025877 0.00025876 0.02609568\n",
      " 0.00025876 0.04363918 0.00025876 0.00456088 0.00025876 0.02442399]\n",
      "Learning state: [0. 0. 0. 0. 0. 2. 0. 7. 0. 0. 0. 8.]\n"
     ]
    },
    {
     "name": "stderr",
     "output_type": "stream",
     "text": [
      "/home/lmoraes/miniconda3/envs/machineteaching/lib/python3.7/site-packages/sklearn/base.py:253: UserWarning: Trying to unpickle estimator LatentDirichletAllocation from version 0.20.1 when using version 0.20.3. This might lead to breaking code or invalid results. Use at your own risk.\n",
      "  UserWarning)\n"
     ]
    },
    {
     "name": "stdout",
     "output_type": "stream",
     "text": [
      "[[ 0.  0.  0.  0.  0. 44.  0.  0.  0.  0.  0. 50.]\n",
      " [ 0.  0.  0.  0.  0.  0.  0. 33.  0.  0.  0. 64.]]\n",
      "Submission #18: F\n",
      "Learning evidence: [0.00155944 0.00113202 0.00019596 0.00019597 0.00019596 0.01143851\n",
      " 0.00019596 0.03380916 0.00019596 0.00204487 0.00019596 0.03950216]\n",
      "Learning state: [ 0.  0.  0.  0.  0.  1.  0.  6.  0.  0.  0. 10.]\n"
     ]
    },
    {
     "name": "stderr",
     "output_type": "stream",
     "text": [
      "/home/lmoraes/miniconda3/envs/machineteaching/lib/python3.7/site-packages/sklearn/base.py:253: UserWarning: Trying to unpickle estimator LatentDirichletAllocation from version 0.20.1 when using version 0.20.3. This might lead to breaking code or invalid results. Use at your own risk.\n",
      "  UserWarning)\n"
     ]
    },
    {
     "name": "stdout",
     "output_type": "stream",
     "text": [
      "[[ 0.  0.  0.  0.  0. 19.  0. 77.  0.  0.  0.  0.]\n",
      " [ 0.  0.  0.  0.  0. 23.  0. 51.  0.  0.  0. 22.]]\n",
      "Submission #19: F\n",
      "Learning evidence: [0.00075399 0.00057052 0.00016904 0.00016904 0.00016904 0.00501966\n",
      " 0.00016904 0.02938622 0.00016904 0.00096247 0.00016904 0.04625675]\n",
      "Learning state: [0. 0. 0. 0. 0. 2. 0. 7. 0. 0. 0. 6.]\n"
     ]
    },
    {
     "name": "stderr",
     "output_type": "stream",
     "text": [
      "/home/lmoraes/miniconda3/envs/machineteaching/lib/python3.7/site-packages/sklearn/base.py:253: UserWarning: Trying to unpickle estimator LatentDirichletAllocation from version 0.20.1 when using version 0.20.3. This might lead to breaking code or invalid results. Use at your own risk.\n",
      "  UserWarning)\n"
     ]
    },
    {
     "name": "stdout",
     "output_type": "stream",
     "text": [
      "[[ 0.  0.  0.  0.  0. 27. 11. 57.  0.  0.  0.  0.]\n",
      " [ 0.  0.  0.  0.  0. 23.  0. 51.  0.  0.  0. 22.]]\n",
      "Submission #20: F\n",
      "Learning evidence: [0.00042252 0.00034382 0.00017168 0.00017168 0.00017168 0.01251352\n",
      " 0.00017168 0.03549789 0.00017167 0.00051195 0.00017167 0.03036359]\n",
      "Learning state: [0. 0. 0. 0. 0. 3. 0. 8. 0. 0. 0. 5.]\n"
     ]
    }
   ],
   "source": [
    "for idx, exercise in enumerate(exercises):\n",
    "    student_solution = exercise.solution\n",
    "    solutions_problem = Solution.objects.filter(problem=exercise.problem, ignore=False).values_list('content', flat=True)\n",
    "    solutions_students = UserLog.objects.filter(problem=exercise.problem, outcome='P').values_list('solution', flat=True)\n",
    "    \n",
    "    # Hyp 1: use the closest correct answer\n",
    "    possible_solutions = list(solutions_problem) + list(solutions_students)\n",
    "    document_topic = get_proportions(student_solution, possible_solutions)\n",
    "    idx_model_answer = np.argmin(euclidean_distances(document_topic, document_topic)[0,1:])+1\n",
    "    print(np.array([xi * 100//1 for xi in document_topic[[0,idx_model_answer],:]]))\n",
    "    \n",
    "    print(\"Submission #%d: %s\" %(idx+1, exercise.outcome))\n",
    "    distribution = document_topic[idx_model_answer,:]\n",
    "    if exercise.outcome == 'P':\n",
    "        l = update(l, distribution, True)\n",
    "        print(exercise.solution)\n",
    "        print(possible_solutions[idx_model_answer-1])\n",
    "    else:\n",
    "        l = update(l, distribution, False)\n",
    "    print(\"Learning state: %s\" % (l*100//1))"
   ]
  }
 ],
 "metadata": {
  "kernelspec": {
   "display_name": "Django Shell-Plus",
   "language": "python",
   "name": "django_extensions"
  },
  "language_info": {
   "codemirror_mode": {
    "name": "ipython",
    "version": 3
   },
   "file_extension": ".py",
   "mimetype": "text/x-python",
   "name": "python",
   "nbconvert_exporter": "python",
   "pygments_lexer": "ipython3",
   "version": "3.7.2"
  }
 },
 "nbformat": 4,
 "nbformat_minor": 2
}
