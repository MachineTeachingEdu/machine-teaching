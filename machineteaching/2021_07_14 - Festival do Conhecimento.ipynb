{
 "cells": [
  {
   "cell_type": "code",
   "execution_count": 1,
   "metadata": {},
   "outputs": [],
   "source": [
    "import seaborn as sns\n",
    "import matplotlib.pyplot as plt\n",
    "\n",
    "import numpy as np\n",
    "import pandas as pd\n",
    "\n",
    "import rpy2"
   ]
  },
  {
   "cell_type": "code",
   "execution_count": 2,
   "metadata": {},
   "outputs": [],
   "source": [
    "%load_ext rpy2.ipython"
   ]
  },
  {
   "cell_type": "code",
   "execution_count": 3,
   "metadata": {},
   "outputs": [],
   "source": [
    "def get_total_normalized(set1, set2):\n",
    "    total = set1 + set2\n",
    "    return total/total.sum(), total.sum()\n",
    "\n",
    "def create_dataframe(sets, labels):\n",
    "    dfs = []\n",
    "    for idx, single_set in enumerate(sets):\n",
    "        df =  pd.DataFrame({\"Id\": [1,2,3],\n",
    "                   \"Público\": [labels[idx]]*3,\n",
    "                   \"Porcentagem\": [round(single_set[:2].sum(),2), \n",
    "                                   round(single_set[2],2), \n",
    "                                   round(single_set[3:].sum(),2)],\n",
    "                   \"Percepção\": [\"Discordam\", \"Neutro\", \"Concordam\"]})\n",
    "        dfs.append(df)\n",
    "    df_total = pd.concat(dfs, axis=0)\n",
    "    return df_total"
   ]
  },
  {
   "cell_type": "code",
   "execution_count": 172,
   "metadata": {},
   "outputs": [],
   "source": [
    "%%R\n",
    "\n",
    "plot_likert <- function(df, fig_name, height=1.4){ \n",
    "    \n",
    "    df$Percepção <- reorder(df$Percepção, -df$Id)\n",
    "\n",
    "    p<-ggplot(df, aes(fill=Percepção, y=Porcentagem, x=Público)) + \n",
    "        geom_bar(position='stack', stat='identity') + coord_flip() +\n",
    "        geom_text(aes(label = paste0(Porcentagem*100,\"%\")), \n",
    "                  position = position_stack(vjust = 0.5), color='white', size=8) +\n",
    "        theme_minimal() + scale_fill_manual(values = c(\"#00BA38\",\"#619CFF\", \"#F8766D\")) +\n",
    "        theme(axis.text=element_text(size=11),\n",
    "              axis.title=element_text(size=11,face=\"bold\"))\n",
    "    # ggplot_build(p)$data\n",
    "    ggsave(file=fig_name, width=8, height=height, dpi=300)\n",
    "    p\n",
    "}"
   ]
  },
  {
   "cell_type": "markdown",
   "metadata": {},
   "source": [
    "## Alunos\n",
    "### Pergunta: A interface do dashboard me ajudou a organizar o tempo de estudo"
   ]
  },
  {
   "cell_type": "code",
   "execution_count": 153,
   "metadata": {},
   "outputs": [
    {
     "data": {
      "text/plain": [
       "array([0.27819549, 0.18796992, 0.31954887, 0.11654135, 0.09774436])"
      ]
     },
     "execution_count": 153,
     "metadata": {},
     "output_type": "execute_result"
    }
   ],
   "source": [
    "alunos_2020_1 = np.array([46, 32, 61, 19, 19])\n",
    "alunos_2020_2 = np.array([28, 18, 24, 12, 7])\n",
    "\n",
    "alunos_total_norm, alunos_total = get_total_normalized(alunos_2020_1, alunos_2020_2)\n",
    "alunos_total_norm"
   ]
  },
  {
   "cell_type": "code",
   "execution_count": 154,
   "metadata": {},
   "outputs": [
    {
     "data": {
      "text/plain": [
       "266"
      ]
     },
     "execution_count": 154,
     "metadata": {},
     "output_type": "execute_result"
    }
   ],
   "source": [
    "alunos_total"
   ]
  },
  {
   "cell_type": "markdown",
   "metadata": {},
   "source": [
    "## Professores\n",
    "\n",
    "### Pergunta: O uso do sistema me ajudou a ter uma visão melhor do esforço e/ou tempo que os alunos gastam para fazer os exercícios"
   ]
  },
  {
   "cell_type": "code",
   "execution_count": 155,
   "metadata": {},
   "outputs": [
    {
     "data": {
      "text/plain": [
       "array([0. , 0.2, 0.3, 0.4, 0.1])"
      ]
     },
     "execution_count": 155,
     "metadata": {},
     "output_type": "execute_result"
    }
   ],
   "source": [
    "professores_2020_1 = np.array([0, 1, 2, 2, 1])\n",
    "professores_2020_2 = np.array([0, 1, 1, 2, 0])\n",
    "\n",
    "professores_total_norm, professores_total = get_total_normalized(professores_2020_1, professores_2020_2)\n",
    "professores_total_norm"
   ]
  },
  {
   "cell_type": "code",
   "execution_count": 157,
   "metadata": {},
   "outputs": [
    {
     "data": {
      "text/html": [
       "<div>\n",
       "<style scoped>\n",
       "    .dataframe tbody tr th:only-of-type {\n",
       "        vertical-align: middle;\n",
       "    }\n",
       "\n",
       "    .dataframe tbody tr th {\n",
       "        vertical-align: top;\n",
       "    }\n",
       "\n",
       "    .dataframe thead th {\n",
       "        text-align: right;\n",
       "    }\n",
       "</style>\n",
       "<table border=\"1\" class=\"dataframe\">\n",
       "  <thead>\n",
       "    <tr style=\"text-align: right;\">\n",
       "      <th></th>\n",
       "      <th>Id</th>\n",
       "      <th>Público</th>\n",
       "      <th>Porcentagem</th>\n",
       "      <th>Percepção</th>\n",
       "    </tr>\n",
       "  </thead>\n",
       "  <tbody>\n",
       "    <tr>\n",
       "      <th>0</th>\n",
       "      <td>1</td>\n",
       "      <td>Aluno</td>\n",
       "      <td>0.47</td>\n",
       "      <td>Discordam</td>\n",
       "    </tr>\n",
       "    <tr>\n",
       "      <th>1</th>\n",
       "      <td>2</td>\n",
       "      <td>Aluno</td>\n",
       "      <td>0.32</td>\n",
       "      <td>Neutro</td>\n",
       "    </tr>\n",
       "    <tr>\n",
       "      <th>2</th>\n",
       "      <td>3</td>\n",
       "      <td>Aluno</td>\n",
       "      <td>0.21</td>\n",
       "      <td>Concordam</td>\n",
       "    </tr>\n",
       "    <tr>\n",
       "      <th>0</th>\n",
       "      <td>1</td>\n",
       "      <td>Professor</td>\n",
       "      <td>0.20</td>\n",
       "      <td>Discordam</td>\n",
       "    </tr>\n",
       "    <tr>\n",
       "      <th>1</th>\n",
       "      <td>2</td>\n",
       "      <td>Professor</td>\n",
       "      <td>0.30</td>\n",
       "      <td>Neutro</td>\n",
       "    </tr>\n",
       "    <tr>\n",
       "      <th>2</th>\n",
       "      <td>3</td>\n",
       "      <td>Professor</td>\n",
       "      <td>0.50</td>\n",
       "      <td>Concordam</td>\n",
       "    </tr>\n",
       "  </tbody>\n",
       "</table>\n",
       "</div>"
      ],
      "text/plain": [
       "   Id    Público  Porcentagem  Percepção\n",
       "0   1      Aluno         0.47  Discordam\n",
       "1   2      Aluno         0.32     Neutro\n",
       "2   3      Aluno         0.21  Concordam\n",
       "0   1  Professor         0.20  Discordam\n",
       "1   2  Professor         0.30     Neutro\n",
       "2   3  Professor         0.50  Concordam"
      ]
     },
     "execution_count": 157,
     "metadata": {},
     "output_type": "execute_result"
    }
   ],
   "source": [
    "df = create_dataframe([alunos_total_norm, professores_total_norm], [\"Aluno\", \"Professor\"])\n",
    "df"
   ]
  },
  {
   "cell_type": "code",
   "execution_count": 158,
   "metadata": {},
   "outputs": [
    {
     "data": {
      "image/png": "[encoded data removed]"
     },
     "metadata": {},
     "output_type": "display_data"
    }
   ],
   "source": [
    "%%R -i df\n",
    "plot_likert(df, \"percepcao_alunos_e_prof_tempo.png\")"
   ]
  },
  {
   "cell_type": "markdown",
   "metadata": {},
   "source": [
    "## Alunos\n",
    "### Pergunta: A indicação dos principais erros no dashboard me ajudou a direcionar o estudo"
   ]
  },
  {
   "cell_type": "code",
   "execution_count": 199,
   "metadata": {},
   "outputs": [
    {
     "data": {
      "text/plain": [
       "array([0.18726592, 0.11985019, 0.27340824, 0.2247191 , 0.19475655])"
      ]
     },
     "execution_count": 199,
     "metadata": {},
     "output_type": "execute_result"
    }
   ],
   "source": [
    "alunos_2020_1 = np.array([32, 19, 47, 39, 40])\n",
    "alunos_2020_2 = np.array([18, 13, 26, 21, 12])\n",
    "\n",
    "alunos_total_norm, alunos_total = get_total_normalized(alunos_2020_1, alunos_2020_2)\n",
    "alunos_total_norm"
   ]
  },
  {
   "cell_type": "code",
   "execution_count": 179,
   "metadata": {},
   "outputs": [
    {
     "data": {
      "text/plain": [
       "267"
      ]
     },
     "execution_count": 179,
     "metadata": {},
     "output_type": "execute_result"
    }
   ],
   "source": [
    "alunos_total"
   ]
  },
  {
   "cell_type": "markdown",
   "metadata": {},
   "source": [
    "## Professores\n",
    "\n",
    "### Pergunta: O uso do sistema me ajudou a identificar conteúdos que são mais difíceis para os alunos"
   ]
  },
  {
   "cell_type": "code",
   "execution_count": 180,
   "metadata": {},
   "outputs": [
    {
     "data": {
      "text/plain": [
       "array([0. , 0.2, 0.4, 0.3, 0.1])"
      ]
     },
     "execution_count": 180,
     "metadata": {},
     "output_type": "execute_result"
    }
   ],
   "source": [
    "professores_2020_1 = np.array([0, 2, 3, 1, 0])\n",
    "professores_2020_2 = np.array([0, 0, 1, 2, 1])\n",
    "\n",
    "professores_total_norm, professores_total = get_total_normalized(professores_2020_1, professores_2020_2)\n",
    "professores_total_norm"
   ]
  },
  {
   "cell_type": "code",
   "execution_count": 181,
   "metadata": {},
   "outputs": [
    {
     "data": {
      "text/plain": [
       "10"
      ]
     },
     "execution_count": 181,
     "metadata": {},
     "output_type": "execute_result"
    }
   ],
   "source": [
    "professores_total"
   ]
  },
  {
   "cell_type": "code",
   "execution_count": 182,
   "metadata": {},
   "outputs": [
    {
     "data": {
      "text/html": [
       "<div>\n",
       "<style scoped>\n",
       "    .dataframe tbody tr th:only-of-type {\n",
       "        vertical-align: middle;\n",
       "    }\n",
       "\n",
       "    .dataframe tbody tr th {\n",
       "        vertical-align: top;\n",
       "    }\n",
       "\n",
       "    .dataframe thead th {\n",
       "        text-align: right;\n",
       "    }\n",
       "</style>\n",
       "<table border=\"1\" class=\"dataframe\">\n",
       "  <thead>\n",
       "    <tr style=\"text-align: right;\">\n",
       "      <th></th>\n",
       "      <th>Id</th>\n",
       "      <th>Público</th>\n",
       "      <th>Porcentagem</th>\n",
       "      <th>Percepção</th>\n",
       "    </tr>\n",
       "  </thead>\n",
       "  <tbody>\n",
       "    <tr>\n",
       "      <th>0</th>\n",
       "      <td>1</td>\n",
       "      <td>Aluno</td>\n",
       "      <td>0.31</td>\n",
       "      <td>Discordam</td>\n",
       "    </tr>\n",
       "    <tr>\n",
       "      <th>1</th>\n",
       "      <td>2</td>\n",
       "      <td>Aluno</td>\n",
       "      <td>0.27</td>\n",
       "      <td>Neutro</td>\n",
       "    </tr>\n",
       "    <tr>\n",
       "      <th>2</th>\n",
       "      <td>3</td>\n",
       "      <td>Aluno</td>\n",
       "      <td>0.42</td>\n",
       "      <td>Concordam</td>\n",
       "    </tr>\n",
       "    <tr>\n",
       "      <th>0</th>\n",
       "      <td>1</td>\n",
       "      <td>Professor</td>\n",
       "      <td>0.20</td>\n",
       "      <td>Discordam</td>\n",
       "    </tr>\n",
       "    <tr>\n",
       "      <th>1</th>\n",
       "      <td>2</td>\n",
       "      <td>Professor</td>\n",
       "      <td>0.40</td>\n",
       "      <td>Neutro</td>\n",
       "    </tr>\n",
       "    <tr>\n",
       "      <th>2</th>\n",
       "      <td>3</td>\n",
       "      <td>Professor</td>\n",
       "      <td>0.40</td>\n",
       "      <td>Concordam</td>\n",
       "    </tr>\n",
       "  </tbody>\n",
       "</table>\n",
       "</div>"
      ],
      "text/plain": [
       "   Id    Público  Porcentagem  Percepção\n",
       "0   1      Aluno         0.31  Discordam\n",
       "1   2      Aluno         0.27     Neutro\n",
       "2   3      Aluno         0.42  Concordam\n",
       "0   1  Professor         0.20  Discordam\n",
       "1   2  Professor         0.40     Neutro\n",
       "2   3  Professor         0.40  Concordam"
      ]
     },
     "execution_count": 182,
     "metadata": {},
     "output_type": "execute_result"
    }
   ],
   "source": [
    "df = create_dataframe([alunos_total_norm, professores_total_norm], [\"Aluno\", \"Professor\"])\n",
    "df"
   ]
  },
  {
   "cell_type": "code",
   "execution_count": 184,
   "metadata": {},
   "outputs": [
    {
     "data": {
      "image/png": "[encoded data removed]"
     },
     "metadata": {},
     "output_type": "display_data"
    }
   ],
   "source": [
    "%%R -i df\n",
    "plot_likert(df, \"percepcao_alunos_e_prof_conteudo.png\")"
   ]
  },
  {
   "cell_type": "code",
   "execution_count": 185,
   "metadata": {},
   "outputs": [],
   "source": [
    "professores_2020_1_norm, professores_2020_1_norm_total = get_total_normalized(professores_2020_1, np.zeros(5))\n",
    "professores_2020_2_norm, professores_2020_2_norm_total = get_total_normalized(professores_2020_2, np.zeros(5))"
   ]
  },
  {
   "cell_type": "code",
   "execution_count": 186,
   "metadata": {},
   "outputs": [
    {
     "data": {
      "text/plain": [
       "array([0.        , 0.33333333, 0.5       , 0.16666667, 0.        ])"
      ]
     },
     "execution_count": 186,
     "metadata": {},
     "output_type": "execute_result"
    }
   ],
   "source": [
    "professores_2020_1_norm"
   ]
  },
  {
   "cell_type": "code",
   "execution_count": 187,
   "metadata": {},
   "outputs": [
    {
     "data": {
      "text/plain": [
       "array([0.  , 0.  , 0.25, 0.5 , 0.25])"
      ]
     },
     "execution_count": 187,
     "metadata": {},
     "output_type": "execute_result"
    }
   ],
   "source": [
    "professores_2020_2_norm"
   ]
  },
  {
   "cell_type": "code",
   "execution_count": 188,
   "metadata": {},
   "outputs": [
    {
     "data": {
      "text/html": [
       "<div>\n",
       "<style scoped>\n",
       "    .dataframe tbody tr th:only-of-type {\n",
       "        vertical-align: middle;\n",
       "    }\n",
       "\n",
       "    .dataframe tbody tr th {\n",
       "        vertical-align: top;\n",
       "    }\n",
       "\n",
       "    .dataframe thead th {\n",
       "        text-align: right;\n",
       "    }\n",
       "</style>\n",
       "<table border=\"1\" class=\"dataframe\">\n",
       "  <thead>\n",
       "    <tr style=\"text-align: right;\">\n",
       "      <th></th>\n",
       "      <th>Id</th>\n",
       "      <th>Público</th>\n",
       "      <th>Porcentagem</th>\n",
       "      <th>Percepção</th>\n",
       "    </tr>\n",
       "  </thead>\n",
       "  <tbody>\n",
       "    <tr>\n",
       "      <th>0</th>\n",
       "      <td>1</td>\n",
       "      <td>Aluno</td>\n",
       "      <td>0.31</td>\n",
       "      <td>Discordam</td>\n",
       "    </tr>\n",
       "    <tr>\n",
       "      <th>1</th>\n",
       "      <td>2</td>\n",
       "      <td>Aluno</td>\n",
       "      <td>0.27</td>\n",
       "      <td>Neutro</td>\n",
       "    </tr>\n",
       "    <tr>\n",
       "      <th>2</th>\n",
       "      <td>3</td>\n",
       "      <td>Aluno</td>\n",
       "      <td>0.42</td>\n",
       "      <td>Concordam</td>\n",
       "    </tr>\n",
       "    <tr>\n",
       "      <th>0</th>\n",
       "      <td>1</td>\n",
       "      <td>Professor 2020/1</td>\n",
       "      <td>0.33</td>\n",
       "      <td>Discordam</td>\n",
       "    </tr>\n",
       "    <tr>\n",
       "      <th>1</th>\n",
       "      <td>2</td>\n",
       "      <td>Professor 2020/1</td>\n",
       "      <td>0.50</td>\n",
       "      <td>Neutro</td>\n",
       "    </tr>\n",
       "    <tr>\n",
       "      <th>2</th>\n",
       "      <td>3</td>\n",
       "      <td>Professor 2020/1</td>\n",
       "      <td>0.17</td>\n",
       "      <td>Concordam</td>\n",
       "    </tr>\n",
       "    <tr>\n",
       "      <th>0</th>\n",
       "      <td>1</td>\n",
       "      <td>Professor 2020/2</td>\n",
       "      <td>NaN</td>\n",
       "      <td>Discordam</td>\n",
       "    </tr>\n",
       "    <tr>\n",
       "      <th>1</th>\n",
       "      <td>2</td>\n",
       "      <td>Professor 2020/2</td>\n",
       "      <td>0.25</td>\n",
       "      <td>Neutro</td>\n",
       "    </tr>\n",
       "    <tr>\n",
       "      <th>2</th>\n",
       "      <td>3</td>\n",
       "      <td>Professor 2020/2</td>\n",
       "      <td>0.75</td>\n",
       "      <td>Concordam</td>\n",
       "    </tr>\n",
       "  </tbody>\n",
       "</table>\n",
       "</div>"
      ],
      "text/plain": [
       "   Id           Público  Porcentagem  Percepção\n",
       "0   1             Aluno         0.31  Discordam\n",
       "1   2             Aluno         0.27     Neutro\n",
       "2   3             Aluno         0.42  Concordam\n",
       "0   1  Professor 2020/1         0.33  Discordam\n",
       "1   2  Professor 2020/1         0.50     Neutro\n",
       "2   3  Professor 2020/1         0.17  Concordam\n",
       "0   1  Professor 2020/2          NaN  Discordam\n",
       "1   2  Professor 2020/2         0.25     Neutro\n",
       "2   3  Professor 2020/2         0.75  Concordam"
      ]
     },
     "execution_count": 188,
     "metadata": {},
     "output_type": "execute_result"
    }
   ],
   "source": [
    "df = create_dataframe([alunos_total_norm, professores_2020_1_norm, professores_2020_2_norm], [\"Aluno\", \n",
    "                                                                                              \"Professor 2020/1\",\n",
    "                                                                                              \"Professor 2020/2\"])\n",
    "df.replace(0, np.nan, inplace=True)\n",
    "df"
   ]
  },
  {
   "cell_type": "code",
   "execution_count": 189,
   "metadata": {},
   "outputs": [
    {
     "data": {
      "image/png": "[encoded data removed]"
     },
     "metadata": {},
     "output_type": "display_data"
    }
   ],
   "source": [
    "%%R -i df\n",
    "plot_likert(df, \"percepcao_alunos_e_prof_conteudo2.png\", height=1.6)"
   ]
  },
  {
   "cell_type": "markdown",
   "metadata": {},
   "source": [
    "## Professores\n",
    "\n",
    "### Pergunta: O uso do sistema me motivou a ajustar o plano de aula ou as atividades didáticas"
   ]
  },
  {
   "cell_type": "code",
   "execution_count": 190,
   "metadata": {},
   "outputs": [
    {
     "data": {
      "text/plain": [
       "array([0.1, 0.1, 0.6, 0.2, 0. ])"
      ]
     },
     "execution_count": 190,
     "metadata": {},
     "output_type": "execute_result"
    }
   ],
   "source": [
    "professores_2020_1 = np.array([0, 1, 4, 1, 0])\n",
    "professores_2020_2 = np.array([1, 0, 2, 1, 0])\n",
    "\n",
    "professores_total_norm, professores_total = get_total_normalized(professores_2020_1, professores_2020_2)\n",
    "professores_total_norm"
   ]
  },
  {
   "cell_type": "code",
   "execution_count": 192,
   "metadata": {},
   "outputs": [
    {
     "data": {
      "text/html": [
       "<div>\n",
       "<style scoped>\n",
       "    .dataframe tbody tr th:only-of-type {\n",
       "        vertical-align: middle;\n",
       "    }\n",
       "\n",
       "    .dataframe tbody tr th {\n",
       "        vertical-align: top;\n",
       "    }\n",
       "\n",
       "    .dataframe thead th {\n",
       "        text-align: right;\n",
       "    }\n",
       "</style>\n",
       "<table border=\"1\" class=\"dataframe\">\n",
       "  <thead>\n",
       "    <tr style=\"text-align: right;\">\n",
       "      <th></th>\n",
       "      <th>Id</th>\n",
       "      <th>Público</th>\n",
       "      <th>Porcentagem</th>\n",
       "      <th>Percepção</th>\n",
       "    </tr>\n",
       "  </thead>\n",
       "  <tbody>\n",
       "    <tr>\n",
       "      <th>0</th>\n",
       "      <td>1</td>\n",
       "      <td>Aluno</td>\n",
       "      <td>0.31</td>\n",
       "      <td>Discordam</td>\n",
       "    </tr>\n",
       "    <tr>\n",
       "      <th>1</th>\n",
       "      <td>2</td>\n",
       "      <td>Aluno</td>\n",
       "      <td>0.27</td>\n",
       "      <td>Neutro</td>\n",
       "    </tr>\n",
       "    <tr>\n",
       "      <th>2</th>\n",
       "      <td>3</td>\n",
       "      <td>Aluno</td>\n",
       "      <td>0.42</td>\n",
       "      <td>Concordam</td>\n",
       "    </tr>\n",
       "    <tr>\n",
       "      <th>0</th>\n",
       "      <td>1</td>\n",
       "      <td>Professor</td>\n",
       "      <td>0.20</td>\n",
       "      <td>Discordam</td>\n",
       "    </tr>\n",
       "    <tr>\n",
       "      <th>1</th>\n",
       "      <td>2</td>\n",
       "      <td>Professor</td>\n",
       "      <td>0.60</td>\n",
       "      <td>Neutro</td>\n",
       "    </tr>\n",
       "    <tr>\n",
       "      <th>2</th>\n",
       "      <td>3</td>\n",
       "      <td>Professor</td>\n",
       "      <td>0.20</td>\n",
       "      <td>Concordam</td>\n",
       "    </tr>\n",
       "  </tbody>\n",
       "</table>\n",
       "</div>"
      ],
      "text/plain": [
       "   Id    Público  Porcentagem  Percepção\n",
       "0   1      Aluno         0.31  Discordam\n",
       "1   2      Aluno         0.27     Neutro\n",
       "2   3      Aluno         0.42  Concordam\n",
       "0   1  Professor         0.20  Discordam\n",
       "1   2  Professor         0.60     Neutro\n",
       "2   3  Professor         0.20  Concordam"
      ]
     },
     "execution_count": 192,
     "metadata": {},
     "output_type": "execute_result"
    }
   ],
   "source": [
    "df = create_dataframe([alunos_total_norm, professores_total_norm], [\"Aluno\", \"Professor\"])\n",
    "df"
   ]
  },
  {
   "cell_type": "code",
   "execution_count": 193,
   "metadata": {},
   "outputs": [
    {
     "data": {
      "image/png": "[encoded data removed]"
     },
     "metadata": {},
     "output_type": "display_data"
    }
   ],
   "source": [
    "%%R -i df\n",
    "plot_likert(df, \"percepcao_alunos_e_prof_plano_de_aula.png\")"
   ]
  },
  {
   "cell_type": "markdown",
   "metadata": {},
   "source": [
    "### Total de Alunos"
   ]
  },
  {
   "cell_type": "code",
   "execution_count": 8,
   "metadata": {},
   "outputs": [
    {
     "data": {
      "text/plain": [
       "30"
      ]
     },
     "execution_count": 8,
     "metadata": {},
     "output_type": "execute_result"
    }
   ],
   "source": [
    "professores = Professor.objects.filter(assistant=False).values_list('user')\n",
    "professores.count()"
   ]
  },
  {
   "cell_type": "code",
   "execution_count": 10,
   "metadata": {},
   "outputs": [
    {
     "data": {
      "text/plain": [
       "1609"
      ]
     },
     "execution_count": 10,
     "metadata": {},
     "output_type": "execute_result"
    }
   ],
   "source": [
    "users = UserProfile.objects.exclude(user__in=professores)\n",
    "users.count()"
   ]
  },
  {
   "cell_type": "code",
   "execution_count": 19,
   "metadata": {},
   "outputs": [
    {
     "data": {
      "text/plain": [
       "datetime.datetime(2018, 10, 22, 22, 19, 8, 483432, tzinfo=<UTC>)"
      ]
     },
     "execution_count": 19,
     "metadata": {},
     "output_type": "execute_result"
    }
   ],
   "source": [
    "users.order_by('user__date_joined')[4].user.date_joined"
   ]
  },
  {
   "cell_type": "code",
   "execution_count": 20,
   "metadata": {},
   "outputs": [
    {
     "data": {
      "text/plain": [
       "284420"
      ]
     },
     "execution_count": 20,
     "metadata": {},
     "output_type": "execute_result"
    }
   ],
   "source": [
    "UserLog.objects.count()"
   ]
  }
 ],
 "metadata": {
  "kernelspec": {
   "display_name": "Django Shell-Plus",
   "language": "python",
   "name": "django_extensions"
  },
  "language_info": {
   "codemirror_mode": {
    "name": "ipython",
    "version": 3
   },
   "file_extension": ".py",
   "mimetype": "text/x-python",
   "name": "python",
   "nbconvert_exporter": "python",
   "pygments_lexer": "ipython3",
   "version": "3.8.5"
  }
 },
 "nbformat": 4,
 "nbformat_minor": 4
}
