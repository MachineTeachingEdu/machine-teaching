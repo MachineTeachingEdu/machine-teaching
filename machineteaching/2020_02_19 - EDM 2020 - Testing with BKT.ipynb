{
 "cells": [
  {
   "cell_type": "code",
   "execution_count": 38,
   "metadata": {},
   "outputs": [],
   "source": [
    "# Helpers\n",
    "import pickle\n",
    "import numpy as np\n",
    "import time\n",
    "import pandas as pd\n",
    "\n",
    "# DB \n",
    "import psycopg2\n",
    "from django.conf import settings\n",
    "\n",
    "# Learning\n",
    "from spkit import bkt\n",
    "\n",
    "# Evaluation\n",
    "from sklearn.metrics import roc_curve, auc, f1_score"
   ]
  },
  {
   "cell_type": "code",
   "execution_count": 3,
   "metadata": {},
   "outputs": [],
   "source": [
    "folder = \"data/edm2020\"\n",
    "N_RUNS = 5"
   ]
  },
  {
   "cell_type": "markdown",
   "metadata": {},
   "source": [
    "### Organizing data"
   ]
  },
  {
   "cell_type": "code",
   "execution_count": 26,
   "metadata": {},
   "outputs": [],
   "source": [
    "def add_to_list(data):\n",
    "    cleaned_data = []\n",
    "    for item in data:\n",
    "        s_idx, q_idx, a_idx, outcome = item\n",
    "        cleaned_data.append([outcome, s_idx, q_idx])\n",
    "    return cleaned_data\n",
    "    \n",
    "def transform_data(data):\n",
    "    student_performance = add_to_list(data['train_set'])\n",
    "    student_performance_test = add_to_list(data['test_set'])\n",
    "    return student_performance, student_performance_test"
   ]
  },
  {
   "cell_type": "code",
   "execution_count": 87,
   "metadata": {},
   "outputs": [],
   "source": [
    "def run(*args):\n",
    "    dataset, student_performance, student_performance_test, q_matrix, students = args\n",
    "    \n",
    "    # Run BKT\n",
    "    start = time.time()\n",
    "    model = bkt.BKT()\n",
    "    model.fit(student_performance, q_matrix)\n",
    "    end = time.time()\n",
    "    \n",
    "    data_arr = np.asarray(student_performance)\n",
    "    rmse = 0\n",
    "    n = 0\n",
    "    score_df = []\n",
    "    learning_state = {}\n",
    "    y = []\n",
    "    y_pred = []\n",
    "    \n",
    "    # Predict for each training student\n",
    "    for student in range(len(students)):\n",
    "        student_idx = np.where(data_arr[:,1] == student)\n",
    "        outcome = data_arr[student_idx, 0].astype('int64')\n",
    "        y += outcome.tolist()[0]\n",
    "        question_id = data_arr[student_idx, 2].astype('int64')\n",
    "        data_student = np.vstack((outcome, question_id)).T.astype('int64').tolist()\n",
    "        predicted = model.predict_proba(data_student, q_matrix)\n",
    "        y_pred += predicted[:,1].tolist()\n",
    "        s_ll, s_aic, s_bic, s_rmse, s_acc = model.score()\n",
    "        fpr, tpr, _ = roc_curve(outcome.flatten(), predicted[:,1], pos_label=1)\n",
    "        auc_score = auc(fpr, tpr)\n",
    "        score_df.append({\"student\": student,\n",
    "                         \"AIC\": s_aic,\n",
    "                         \"BIC\": s_bic,\n",
    "                         \"RMSE\": s_rmse,\n",
    "                         \"Acc\": s_acc,\n",
    "                         \"n questions\": model.n_questions,\n",
    "                         \"LL\": s_ll,\n",
    "                         \"correct_outcome\": np.where(outcome == 1)[1].shape[0],\n",
    "                         \"incorrect_outcome\": np.where(outcome == 0)[1].shape[0],\n",
    "                         \"AUC\": auc_score})\n",
    "        learning_state[student] = model.get_learning_state()\n",
    "    # Calculate train metrics\n",
    "    score = pd.DataFrame.from_dict(score_df)\n",
    "    rmse_train = np.sqrt((score['RMSE']**2*score['n questions']).sum()/score['n questions'].sum())\n",
    "    acc_train = (score['Acc']*score['n questions']).sum()/score['n questions'].sum()\n",
    "    fpr, tpr, thresholds = roc_curve(y, y_pred, pos_label=1)\n",
    "    auc_score = auc(fpr, tpr)\n",
    "    J_stats = tpr - fpr\n",
    "    J_opt_thresholds = thresholds[np.argmax(J_stats)]\n",
    "    y = np.asarray(y)\n",
    "    y_pred = np.asarray(y_pred)\n",
    "    y_pred_binary = np.where(y_pred > J_opt_thresholds, 1, 0)\n",
    "    acc = (y_pred_binary == y).sum()/score['n questions'].sum()\n",
    "    f1 = f1_score(y, y_pred_binary)\n",
    "    \n",
    "    print('Youden\\'s optimum threshold: %.2f' % J_opt_thresholds)\n",
    "    plt.figure()\n",
    "    lw = 2\n",
    "    plt.plot(fpr, tpr, color='darkorange',\n",
    "             lw=lw, label='ROC curve (area = %0.2f)' % auc_score)\n",
    "    plt.plot([0, 1], [0, 1], color='navy', lw=lw, linestyle='--')\n",
    "    plt.xlim([0.0, 1.0])\n",
    "    plt.ylim([0.0, 1.05])\n",
    "    plt.xlabel('False Positive Rate')\n",
    "    plt.ylabel('True Positive Rate')\n",
    "    plt.title('Receiver operating characteristic example')\n",
    "    plt.legend(loc=\"lower right\")\n",
    "    plt.show()\n",
    "    print(print(confusion_matrix(y,y_pred_binary)))\n",
    "\n",
    "    row = {\n",
    "        \"dataset\": \"run_%d\" % dataset,\n",
    "        \"q_matrix\": q_matrix,\n",
    "        \"sp\": student_performance,\n",
    "        \"sp_test\": student_performance_test,\n",
    "        \"sp_hat\": y_pred,\n",
    "        \"sk_hat\": learning_state,\n",
    "        \"q_matrix_hat\": q_matrix,\n",
    "        \"concepts\": 14,\n",
    "        \"method\": \"bkt\",\n",
    "        \"q_matrix_error\": 0,\n",
    "        \"seconds\": end-start,\n",
    "        \"train_auc\": auc_score,\n",
    "        \"train_acc\": acc,\n",
    "        \"train_rmse\": rmse_train,\n",
    "        \"auc_threshold\": J_opt_thresholds,\n",
    "        \"train_1\":  np.where(y == 1)[0].shape[0],\n",
    "        \"train_0\":  np.where(y == 0)[0].shape[0],\n",
    "        \"train_pred_1\": np.where(y_pred_binary == 1)[0].shape[0],\n",
    "        \"train_pred_0\": np.where(y_pred_binary == 0)[0].shape[0],\n",
    "        \"train_f1\": f1,\n",
    "#         \"train_nll\": nll,\n",
    "#         \"train_nll_special\": nll_special,\n",
    "#         \"train_nll_masked\": idx[0].shape[0],\n",
    "#         \"train_rmse_1\": rmse_1,\n",
    "#         \"train_rmse_0\": rmse_0\n",
    "    }\n",
    "    return row\n",
    "\n",
    "    # Write PSQL query\n",
    "#     insert_query_base = \"INSERT INTO EDM2020_2020_02_19 \"\n",
    "#     column_value = []\n",
    "#     insert_format = []\n",
    "#     query_values = []\n",
    "#     for col in row.keys():\n",
    "#         if isinstance(row[col], np.ndarray):\n",
    "#             query_values.append(row[col].tolist())\n",
    "#         else:\n",
    "#             query_values.append(row[col])\n",
    "#         column_value.append(col)\n",
    "#         insert_format.append(\"%s\")\n",
    "\n",
    "#     insert_query = insert_query_base + \"(\" + \", \".join(column_value) + \") VALUES \"\n",
    "#     insert_query += \"(\" + \", \".join(insert_format) + \")\"\n",
    "#     query_values = tuple(query_values)\n",
    "#     query = cursor.mogrify(insert_query, query_values)\n",
    "#     cursor.execute(query)"
   ]
  },
  {
   "cell_type": "code",
   "execution_count": 93,
   "metadata": {},
   "outputs": [],
   "source": [
    "args = []\n",
    "for restart in range(1):\n",
    "    for dataset in range(N_RUNS):\n",
    "        with open(\"%s/run_%d.pkl\" % (folder, dataset), \"rb\") as pklfile:\n",
    "            data = pickle.load(pklfile)\n",
    "            train_set, test_set = transform_data(data)\n",
    "            args.append([dataset, \n",
    "                        train_set, \n",
    "                        test_set,\n",
    "                        data['q_matrix'].T,\n",
    "                        data['users_idx']])\n",
    "        break"
   ]
  },
  {
   "cell_type": "code",
   "execution_count": 94,
   "metadata": {},
   "outputs": [],
   "source": [
    "next_id = 0"
   ]
  },
  {
   "cell_type": "code",
   "execution_count": 95,
   "metadata": {},
   "outputs": [
    {
     "name": "stdout",
     "output_type": "stream",
     "text": [
      "Youden's optimum threshold: 0.14\n"
     ]
    },
    {
     "data": {
      "image/png": "[encoded data removed]",
      "text/plain": [
       "<Figure size 432x288 with 1 Axes>"
      ]
     },
     "metadata": {
      "needs_background": "light"
     },
     "output_type": "display_data"
    },
    {
     "name": "stdout",
     "output_type": "stream",
     "text": [
      "[[2194  523]\n",
      " [ 348  328]]\n",
      "None\n",
      "CPU times: user 577 ms, sys: 7.38 ms, total: 584 ms\n",
      "Wall time: 1.84 s\n"
     ]
    }
   ],
   "source": [
    "%%time\n",
    "connection = psycopg2.connect(user = settings.DATABASES[\"default\"][\"USER\"],\n",
    "                                  password = settings.DATABASES[\"default\"][\"PASSWORD\"],\n",
    "                                  host = settings.DATABASES[\"default\"][\"HOST\"],\n",
    "                                  port = settings.DATABASES[\"default\"][\"PORT\"],\n",
    "                                  database = settings.DATABASES[\"default\"][\"NAME\"])\n",
    "connection.autocommit=True\n",
    "cursor = connection.cursor()\n",
    "\n",
    "for item in args[next_id:]:\n",
    "    row = run(*item)"
   ]
  },
  {
   "cell_type": "code",
   "execution_count": 91,
   "metadata": {},
   "outputs": [],
   "source": [
    "import matplotlib.pyplot as plt\n",
    "from sklearn.metrics import roc_curve, auc, f1_score, confusion_matrix"
   ]
  },
  {
   "cell_type": "code",
   "execution_count": 96,
   "metadata": {},
   "outputs": [
    {
     "name": "stdout",
     "output_type": "stream",
     "text": [
      "train_auc: 0.64\n",
      "train_acc: 0.74\n",
      "train_rmse: 0.39\n",
      "train_1: 676.00\n",
      "train_0: 2717.00\n",
      "train_pred_1: 851.00\n",
      "train_pred_0: 2542.00\n",
      "train_f1: 0.43\n"
     ]
    }
   ],
   "source": [
    "for key in row.keys():\n",
    "    if 'train' in key:\n",
    "        print(\"%s: %.2f\" % (key, row[key]))"
   ]
  }
 ],
 "metadata": {
  "kernelspec": {
   "display_name": "Django Shell-Plus",
   "language": "python",
   "name": "django_extensions"
  },
  "language_info": {
   "codemirror_mode": {
    "name": "ipython",
    "version": 3
   },
   "file_extension": ".py",
   "mimetype": "text/x-python",
   "name": "python",
   "nbconvert_exporter": "python",
   "pygments_lexer": "ipython3",
   "version": "3.6.10"
  }
 },
 "nbformat": 4,
 "nbformat_minor": 4
}
