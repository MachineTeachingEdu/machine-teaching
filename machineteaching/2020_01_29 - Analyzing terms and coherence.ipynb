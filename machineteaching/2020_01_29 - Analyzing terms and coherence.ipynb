{
 "cells": [
  {
   "cell_type": "code",
   "execution_count": 11,
   "metadata": {},
   "outputs": [],
   "source": [
    "# Helpers\n",
    "import numpy as np\n",
    "import pandas as pd\n",
    "import pickle\n",
    "import base64\n",
    "\n",
    "# Preprocessing\n",
    "from sklearn.feature_extraction.text import CountVectorizer\n",
    "import analyzer\n",
    "\n",
    "# Plots\n",
    "import matplotlib.pyplot as plt\n",
    "#import seaborn as sns\n",
    "\n",
    "#DB\n",
    "import psycopg2"
   ]
  },
  {
   "cell_type": "markdown",
   "metadata": {},
   "source": [
    "## Data"
   ]
  },
  {
   "cell_type": "code",
   "execution_count": 2,
   "metadata": {},
   "outputs": [
    {
     "name": "stdout",
     "output_type": "stream",
     "text": [
      "Problems to be used: 132\n",
      "Solutions to be used: 54\n",
      "Got 54 documents\n"
     ]
    }
   ],
   "source": [
    "## Cleaning database\n",
    "last_id = 132\n",
    "# problems = Problem.objects.filter(id__gt=last_id)\n",
    "# # solutions_obj = Solution.objects.filter(problem__in=problems).update(ignore=True)\n",
    "# print(\"Problems to be ignored: %d\" % problems.count())\n",
    "\n",
    "problems = Problem.objects.filter(id__lte=last_id)\n",
    "# problems = Problem.objects.all()\n",
    "print(\"Problems to be used: %d\" % problems.count())\n",
    "\n",
    "solutions_obj = Solution.objects.filter(problem__in=problems, ignore=False).order_by('id')\n",
    "# solutions_obj = Solution.objects.all().order_by('id')\n",
    "print(\"Solutions to be used: %d\" % solutions_obj.count())\n",
    "\n",
    "docs_id = []\n",
    "questions = []\n",
    "solutions = []\n",
    "\n",
    "# Fill separated structures\n",
    "for sol in solutions_obj:\n",
    "    docs_id.append(sol.id)\n",
    "    questions.append(sol.problem.content)\n",
    "    solutions.append(sol.content)\n",
    "\n",
    "print(\"Got %d documents\" %(solutions_obj.count()))"
   ]
  },
  {
   "cell_type": "markdown",
   "metadata": {},
   "source": [
    "### Average terms/document"
   ]
  },
  {
   "cell_type": "code",
   "execution_count": 5,
   "metadata": {},
   "outputs": [],
   "source": [
    "def get_avg_terms(ngrams):\n",
    "    print(ng)\n",
    "    analyzer.vectorizer_params = {'ngram_range': ngrams}\n",
    "    vectorizer = CountVectorizer(analyzer=analyzer.python_analyzer)\n",
    "    train_data_features = vectorizer.fit_transform(solutions)\n",
    "    tokens = np.asarray(train_data_features.sum(axis=1)).reshape(-1)\n",
    "    total = tokens.sum()\n",
    "    vocab = train_data_features.shape[1]\n",
    "    summary = {\"max\": tokens.max(),\n",
    "               \"argmax\": tokens.argmax(),\n",
    "               \"min\": tokens.min(),\n",
    "               \"argmin\": tokens.argmin(),\n",
    "               \"avg\": tokens.mean(),\n",
    "               \"total\": total,\n",
    "               \"vocab\": vocab,\n",
    "               \"sparsity\": 100 * total / (vocab * train_data_features.shape[0])}\n",
    "    plt.figure()\n",
    "    n, bins, patches = plt.hist(tokens, alpha=0.7)\n",
    "    plt.show()\n",
    "    return summary"
   ]
  },
  {
   "cell_type": "code",
   "execution_count": 6,
   "metadata": {},
   "outputs": [
    {
     "name": "stdout",
     "output_type": "stream",
     "text": [
      "(1, 1)\n"
     ]
    },
    {
     "data": {
      "image/png": "[encoded data removed]",
      "text/plain": [
       "<Figure size 432x288 with 1 Axes>"
      ]
     },
     "metadata": {
      "needs_background": "light"
     },
     "output_type": "display_data"
    },
    {
     "name": "stdout",
     "output_type": "stream",
     "text": [
      "(1, 2)\n"
     ]
    },
    {
     "data": {
      "image/png": "[encoded data removed]",
      "text/plain": [
       "<Figure size 432x288 with 1 Axes>"
      ]
     },
     "metadata": {
      "needs_background": "light"
     },
     "output_type": "display_data"
    },
    {
     "name": "stdout",
     "output_type": "stream",
     "text": [
      "(1, 3)\n"
     ]
    },
    {
     "data": {
      "image/png": "[encoded data removed]",
      "text/plain": [
       "<Figure size 432x288 with 1 Axes>"
      ]
     },
     "metadata": {
      "needs_background": "light"
     },
     "output_type": "display_data"
    },
    {
     "name": "stdout",
     "output_type": "stream",
     "text": [
      "(2, 2)\n"
     ]
    },
    {
     "data": {
      "image/png": "[encoded data removed]",
      "text/plain": [
       "<Figure size 432x288 with 1 Axes>"
      ]
     },
     "metadata": {
      "needs_background": "light"
     },
     "output_type": "display_data"
    },
    {
     "name": "stdout",
     "output_type": "stream",
     "text": [
      "(2, 3)\n"
     ]
    },
    {
     "data": {
      "image/png": "[encoded data removed]",
      "text/plain": [
       "<Figure size 432x288 with 1 Axes>"
      ]
     },
     "metadata": {
      "needs_background": "light"
     },
     "output_type": "display_data"
    },
    {
     "name": "stdout",
     "output_type": "stream",
     "text": [
      "(3, 3)\n"
     ]
    },
    {
     "data": {
      "image/png": "[encoded data removed]",
      "text/plain": [
       "<Figure size 432x288 with 1 Axes>"
      ]
     },
     "metadata": {
      "needs_background": "light"
     },
     "output_type": "display_data"
    }
   ],
   "source": [
    "ngrams = [\n",
    "    (1,1), # unigrams\n",
    "    (1,2), # unigrams + bigrams\n",
    "    (1,3), # unigrams + bigrams + trigrams\n",
    "    (2,2), # bigrams\n",
    "    (2,3), # bigrams + trigrams\n",
    "    (3,3), # trigrams\n",
    "]\n",
    "summary = {}\n",
    "\n",
    "for ng in ngrams:\n",
    "    summary[ng] = get_avg_terms(ng)"
   ]
  },
  {
   "cell_type": "code",
   "execution_count": 7,
   "metadata": {},
   "outputs": [
    {
     "data": {
      "text/plain": [
       "{(1, 1): {'max': 126,\n",
       "  'argmax': 30,\n",
       "  'min': 9,\n",
       "  'argmin': 4,\n",
       "  'avg': 46.77777777777778,\n",
       "  'total': 2526,\n",
       "  'vocab': 215,\n",
       "  'sparsity': 21.757105943152453},\n",
       " (1, 2): {'max': 251,\n",
       "  'argmax': 30,\n",
       "  'min': 17,\n",
       "  'argmin': 4,\n",
       "  'avg': 92.55555555555556,\n",
       "  'total': 4998,\n",
       "  'vocab': 1112,\n",
       "  'sparsity': 8.323341326938449},\n",
       " (1, 3): {'max': 375,\n",
       "  'argmax': 30,\n",
       "  'min': 24,\n",
       "  'argmin': 4,\n",
       "  'avg': 137.33333333333334,\n",
       "  'total': 7416,\n",
       "  'vocab': 2388,\n",
       "  'sparsity': 5.750977107761027},\n",
       " (2, 2): {'max': 125,\n",
       "  'argmax': 30,\n",
       "  'min': 8,\n",
       "  'argmin': 4,\n",
       "  'avg': 45.77777777777778,\n",
       "  'total': 2472,\n",
       "  'vocab': 897,\n",
       "  'sparsity': 5.103431190387712},\n",
       " (2, 3): {'max': 249,\n",
       "  'argmax': 30,\n",
       "  'min': 15,\n",
       "  'argmin': 4,\n",
       "  'avg': 90.55555555555556,\n",
       "  'total': 4890,\n",
       "  'vocab': 2173,\n",
       "  'sparsity': 4.1673058240016365},\n",
       " (3, 3): {'max': 124,\n",
       "  'argmax': 30,\n",
       "  'min': 7,\n",
       "  'argmin': 4,\n",
       "  'avg': 44.77777777777778,\n",
       "  'total': 2418,\n",
       "  'vocab': 1276,\n",
       "  'sparsity': 3.5092302333681644}}"
      ]
     },
     "execution_count": 7,
     "metadata": {},
     "output_type": "execute_result"
    }
   ],
   "source": [
    "summary"
   ]
  },
  {
   "cell_type": "markdown",
   "metadata": {},
   "source": [
    "## Get coherence from DB"
   ]
  },
  {
   "cell_type": "code",
   "execution_count": 8,
   "metadata": {},
   "outputs": [
    {
     "name": "stdout",
     "output_type": "stream",
     "text": [
      "CPU times: user 3.72 ms, sys: 461 µs, total: 4.19 ms\n",
      "Wall time: 5.36 s\n"
     ]
    }
   ],
   "source": [
    "%%time \n",
    "# Insert to DB\n",
    "connection = psycopg2.connect(user = settings.DATABASES[\"default\"][\"USER\"],\n",
    "                          password = settings.DATABASES[\"default\"][\"PASSWORD\"],\n",
    "                          host = settings.DATABASES[\"default\"][\"HOST\"],\n",
    "                          port = settings.DATABASES[\"default\"][\"PORT\"],\n",
    "                          database = settings.DATABASES[\"default\"][\"NAME\"])\n",
    "connection.autocommit=True\n",
    "cursor = connection.cursor()"
   ]
  },
  {
   "cell_type": "code",
   "execution_count": 9,
   "metadata": {},
   "outputs": [
    {
     "name": "stdout",
     "output_type": "stream",
     "text": [
      "CPU times: user 4.47 ms, sys: 59 µs, total: 4.53 ms\n",
      "Wall time: 657 ms\n"
     ]
    }
   ],
   "source": [
    "%%time\n",
    "select = \"SELECT model FROM EXPERIMENTS_2020_01_27 limit 10;\"\n",
    "cursor.execute(select)\n",
    "row = cursor.fetchone()"
   ]
  },
  {
   "cell_type": "code",
   "execution_count": 16,
   "metadata": {},
   "outputs": [
    {
     "data": {
      "text/plain": [
       "b'\\x80\\x03csklearn.decomposition._nmf\\nNMF\\nq\\x00)\\x81q\\x01}q\\x02(X\\x0c\\x00\\x00\\x00n_componentsq\\x03K\\x0bX\\x04\\x00\\x00\\x00initq\\x04NX\\x06\\x00\\x00\\x00solverq\\x05X\\x02\\x00\\x00\\x00cdq\\x06X\\t\\x00\\x00\\x00beta_lossq\\x07X\\t\\x00\\x00\\x00frobeniusq\\x08X\\x03\\x00\\x00\\x00tolq\\tG?\\x1a6\\xe2\\xeb\\x1cC-X\\x08\\x00\\x00\\x00max_iterq\\nK\\xc8X\\x0c\\x00\\x00\\x00random_stateq\\x0b\\x8a\\x05\\xf2vJ\\xd9\\x00X\\x05\\x00\\x00\\x00alphaq\\x0cG\\x00\\x00\\x00\\x00\\x00\\x00\\x00\\x00X\\x08\\x00\\x00\\x00l1_ratioq\\rG\\x00\\x00\\x00\\x00\\x00\\x00\\x00\\x00X\\x07\\x00\\x00\\x00verboseq\\x0eK\\x00X\\x07\\x00\\x00\\x00shuffleq\\x0f\\x89X\\x13\\x00\\x00\\x00reconstruction_err_q\\x10cnumpy.core.multiarray\\nscalar\\nq\\x11cnumpy\\ndtype\\nq\\x12X\\x02\\x00\\x00\\x00f8q\\x13K\\x00K\\x01\\x87q\\x14Rq\\x15(K\\x03X\\x01\\x00\\x00\\x00<q\\x16NNNJ\\xff\\xff\\xff\\xffJ\\xff\\xff\\xff\\xffK\\x00tq\\x17bC\\x08\\x9b\\xe8i\\xad\\x86\\xdc\\x13@q\\x18\\x86q\\x19Rq\\x1aX\\r\\x00\\x00\\x00n_components_q\\x1bK\\x0bX\\x0b\\x00\\x00\\x00components_q\\x1ccnumpy.core.multiarray\\n_reconstruct\\nq\\x1dcnumpy\\nndarray\\nq\\x1eK\\x00\\x85q\\x1fC\\x01bq \\x87q!Rq\"(K\\x01K\\x0bK[\\x86q#h\\x15\\x88BH\\x1f\\x00\\x005\\x95\\x0c`A\\xae&?\\x00\\x00\\x00\\x00\\x00\\x00\\x00\\x00\\x00\\x00\\x00\\x00\\x00\\x00\\x00\\x00\\x00\\x00\\x00\\x00\\x00\\x00\\x00\\x00\\x8f\\x90\\x05N\\x9f\\xc7Y?\\x00\\x00\\x00\\x00\\x00\\x00\\x00\\x00\\xfa\\x0b\\xa1A\"w\\xb1?\\x00\\x00\\x00\\x00\\x00\\x00\\x00\\x00\\x00\\x00\\x00\\x00\\x00\\x00\\x00\\x00\\x1eV\\xbe\\x0c\\xe1\\xb6\\xd2?\\x00\\x00\\x00\\x00\\x00\\x00\\x00\\x00\\xf5\\xc6\\xcb\\xbf@\\x9dI?\\x00\\x00\\x00\\x00\\x00\\x00\\x00\\x00\\x00\\x00\\x00\\x00\\x00\\x00\\x00\\x00\\x00\\x00\\x00\\x00\\x00\\x00\\x00\\x00\\x00\\x00\\x00\\x00\\x00\\x00\\x00\\x00\\xe2_\\xa3\\xd8\\xe7\\xf5\\xb0?d\\xe3\\x7f\\xe3\\xcc\\x12\\x80?\\x84\\xb4\\x0e$\\xbfOc?5\\xaa\\xb0N\\xe3\\x95\\xb3?\\xea\\xf9>j9+K?\\x00\\x00\\x00\\x00\\x00\\x00\\x00\\x00\\x00\\x00\\x00\\x00\\x00\\x00\\x00\\x00\\xb4\\xb6\\x85\\x19fz\\x98?\\xe2\\xb3M\\xb7\\x0bU\\xc3?\\xfcX\\xb3\\x1e#\\xac\\xa4?\\xea9{}\"<\\xc1?\\xd9\\xb9\\xfaO\\xc1*P?iPmx \\xf7\\xb1?\\x10\\x0f\\x0e\\xf0\\xad\\x15\\xd0?\\x00\\x00\\x00\\x00\\x00\\x00\\x00\\x00\\xa6\\x11\\x14\\x1b)\\xbf\\xe3?\\x00\\x00\\x00\\x00\\x00\\x00\\x00\\x00\\xbc\\xd4\\xfc\\x9b_W*?\\x00\\x00\\x00\\x00\\x00\\x00\\x00\\x00\\xb9\\xce\\xb5\\x9a9\\xa5\\xc6?\\x00\\x00\\x00\\x00\\x00\\x00\\x00\\x00\\x00\\x00\\x00\\x00\\x00\\x00\\x00\\x00\\x00\\x00\\x00\\x00\\x00\\x00\\x00\\x00\\x98C\\xa6B\\xc2\\xd0\\x91?\\x00\\x00\\x00\\x00\\x00\\x00\\x00\\x00\\xa6\\x89z\\xfc\\n\\xb0\\xa5?\\x02$\\x0e\\x01i\\x00\\xb0?\\x00\\x00\\x00\\x00\\x00\\x00\\x00\\x00\\x9e\\xd7\\xcc\\xeb\\xaa\\xdc6?\\x00\\x00\\x00\\x00\\x00\\x00\\x00\\x00\\x00\\x00\\x00\\x00\\x00\\x00\\x00\\x00\\x00\\x00\\x00\\x00\\x00\\x00\\x00\\x00\\x00\\x00\\x00\\x00\\x00\\x00\\x00\\x00\\xed\\x16Gf\\xe0^\\xc9?\\x00\\x00\\x00\\x00\\x00\\x00\\x00\\x00J\\x80\\xcf2h\\xf1\\x9a?\\xc7\\xca0L\\xda6\\xb4?\\x91k\\x99G\\xbc\\xe0\\x81?\\xa4}\"\\xc1\\xfb\\xa3\\xd3?\\xff\\x1b\\xc2\\x9f\\x8b?O?\\x00\\x00\\x00\\x00\\x00\\x00\\x00\\x00\\xf5\\x80Z\\xd8\\\\\\xe9\\x9e?\\x9dT\\x14\\xc3\\xd5=Q?\\xe1\\xbfE\\xcf\\xad\\x04n?\\xed\\x81\\xdc\\xbb \\xa1f?\\xf3\\x15t\\xbcB\\x0f\\x85?\\xb5\\x07QhM\\xe2\\xa2?\\x00\\x00\\x00\\x00\\x00\\x00\\x00\\x00\\xdeJ}H\\xfc\\x9bN?\\x17\\x0e\\x11\\xb2\\xd7\\xae\\xca?\\x82\"H\\x9a[\\x80<?\\x00\\x00\\x00\\x00\\x00\\x00\\x00\\x00\\x00\\x00\\x00\\x00\\x00\\x00\\x00\\x00\\x00\\x00\\x00\\x00\\x00\\x00\\x00\\x00\\x00\\x00\\x00\\x00\\x00\\x00\\x00\\x00\\xe3\\x8f\\x1a\\xd8\"\\x9a\\xc8?\\xbc\\xf58\\xb1\\xec\\x0fW?2\\x94 D=\\xbd\\x98?\\xdf(\\xe8\\xf9\\xf6\\xe7\\xad?h\\xf3\\x1b\\xdekIf?!\\xebq\\'\\xb0*\\xd4?\\xf5\\xc6\\xcb\\xbf@\\x9dI?\\x00\\x00\\x00\\x00\\x00\\x00\\x00\\x00\\x00\\x00\\x00\\x00\\x00\\x00\\x00\\x00\\x00\\x00\\x00\\x00\\x00\\x00\\x00\\x00\\x00\\x00\\x00\\x00\\x00\\x00\\x00\\x00\\xe2_\\xa3\\xd8\\xe7\\xf5\\xb0?d\\xe3\\x7f\\xe3\\xcc\\x12\\x80?\\x84\\xb4\\x0e$\\xbfOc?5\\xaa\\xb0N\\xe3\\x95\\xb3?\\xea\\xf9>j9+K?\\x00\\x00\\x00\\x00\\x00\\x00\\x00\\x00\\x00\\x00\\x00\\x00\\x00\\x00\\x00\\x00_\\xb6\\x81\\x861)7?\\x00\\x00\\x00\\x00\\x00\\x00\\x00\\x00\\x00\\x00\\x00\\x00\\x00\\x00\\x00\\x00\\x00\\x00\\x00\\x00\\x00\\x00\\x00\\x00\\x00\\x00\\x00\\x00\\x00\\x00\\x00\\x00v\\x08D\\x0b\\xdb\\xdfz?\\x80\\x88\\xe6\\xa5\\\\\\xe6\\xa2?\\x00\\x00\\x00\\x00\\x00\\x00\\x00\\x00\\x00\\x00\\x00\\x00\\x00\\x00\\x00\\x00\\x90\\x17\\xde\\xbd\\xfd\\x95\\xd0?\\xb8\\xe5\\xdf\\xc5\\xbca\\xc6?\\x00\\x00\\x00\\x00\\x00\\x00\\x00\\x00\\x00\\x00\\x00\\x00\\x00\\x00\\x00\\x00\\x9a:\\xd3\\xbdhG\\xc7?\\x00\\x00\\x00\\x00\\x00\\x00\\x00\\x00\\x00\\x00\\x00\\x00\\x00\\x00\\x00\\x00\\x00\\x00\\x00\\x00\\x00\\x00\\x00\\x00\\x00\\x00\\x00\\x00\\x00\\x00\\x00\\x00\\x00\\x00\\x00\\x00\\x00\\x00\\x00\\x00\\x00\\x00\\x00\\x00\\x00\\x00\\x00\\x00\\x00\\x00\\x00\\x00\\x00\\x00\\x00\\x00\\x00\\x00\\x00\\x00\\x00\\x00\\x00\\x00\\xeb:G\\x9c\\xf2\\xa9\\x94?\\x00\\x00\\x00\\x00\\x00\\x00\\x00\\x00\\x00\\x00\\x00\\x00\\x00\\x00\\x00\\x00\\x00\\x00\\x00\\x00\\x00\\x00\\x00\\x00\\xb5Z+\\xf3\\x99q\\xb1?\\x00\\x00\\x00\\x00\\x00\\x00\\x00\\x00`\\xee\\x99\\t\\xf2\\xc7\\x8d?[\\x92\\x11\\xdc W\\x89?hw\\x17\\x98\\x96#\\xb5?\\x00\\x00\\x00\\x00\\x00\\x00\\x00\\x00\\x00\\x00\\x00\\x00\\x00\\x00\\x00\\x00\\x00\\x00\\x00\\x00\\x00\\x00\\x00\\x00\\x00\\x00\\x00\\x00\\x00\\x00\\x00\\x00\\x00\\x00\\x00\\x00\\x00\\x00\\x00\\x00\\x00\\x00\\x00\\x00\\x00\\x00\\x00\\x00U\\x1a\\x04\\x0c\\xe3\\x1e\\xc3?j\\x9e\\xc67K\\xbe\\xac?\\x1a\\x94\\x9c\\xc8]\\x10\\x94?\\x95 \\x90\\xa3\"\\xbf\\xe4?\\x00\\x00\\x00\\x00\\x00\\x00\\x00\\x007\\xe0\\xd5\\xe6\\xf3]\\xb5?\\x00\\x00\\x00\\x00\\x00\\x00\\x00\\x00\\x00\\x00\\x00\\x00\\x00\\x00\\x00\\x00\\x00\\x00\\x00\\x00\\x00\\x00\\x00\\x00\\x00\\x00\\x00\\x00\\x00\\x00\\x00\\x00\\xdb\\x1bg\\xa8x{z?\\x00\\x00\\x00\\x00\\x00\\x00\\x00\\x00\\xa8\\xf9 \\x92\\xbb\\x8d\\xb2?\\x00\\x00\\x00\\x00\\x00\\x00\\x00\\x00\\x00\\x00\\x00\\x00\\x00\\x00\\x00\\x00S;nd\\x13\\xe4\\xca?\\x00\\x00\\x00\\x00\\x00\\x00\\x00\\x00\\x00\\x00\\x00\\x00\\x00\\x00\\x00\\x00\\x00\\x00\\x00\\x00\\x00\\x00\\x00\\x00\\x00\\x00\\x00\\x00\\x00\\x00\\x00\\x00\\x00\\x00\\x00\\x00\\x00\\x00\\x00\\x00\\x00\\x00\\x00\\x00\\x00\\x00\\x00\\x00$\\x94\\xf6M&\\xd2a?\\x00\\x00\\x00\\x00\\x00\\x00\\x00\\x00\\x8b\\xfb\\x07\\xce\\r%\\xd1?\\x00\\x00\\x00\\x00\\x00\\x00\\x00\\x00\\x00\\x00\\x00\\x00\\x00\\x00\\x00\\x00\\x00\\x00\\x00\\x00\\x00\\x00\\x00\\x00/\\x0e\\xa6\\xfa\\r\\xb8M?\\x00\\x00\\x00\\x00\\x00\\x00\\x00\\x00\\x00\\x00\\x00\\x00\\x00\\x00\\x00\\x00\\x00\\x00\\x00\\x00\\x00\\x00\\x00\\x00\\x00\\x00\\x00\\x00\\x00\\x00\\x00\\x00?\\xffX\\xda\\x99\\'\\xcc?\\x14\\xfa\\x91\\xdf\\x83N\\x9e?\\x00\\x00\\x00\\x00\\x00\\x00\\x00\\x00}\\xf6\\xaf\\xca\\xc6\\x13\\xd4?\\x00\\x00\\x00\\x00\\x00\\x00\\x00\\x00\\x00\\x00\\x00\\x00\\x00\\x00\\x00\\x00\\x00\\x00\\x00\\x00\\x00\\x00\\x00\\x00\\x00\\x00\\x00\\x00\\x00\\x00\\x00\\x00\\x84m\\xfdn\\x95\\xce`?\\x00\\x00\\x00\\x00\\x00\\x00\\x00\\x00\\x00\\x00\\x00\\x00\\x00\\x00\\x00\\x00\\x00\\x00\\x00\\x00\\x00\\x00\\x00\\x00\\x00\\x00\\x00\\x00\\x00\\x00\\x00\\x00\\x00\\x00\\x00\\x00\\x00\\x00\\x00\\x00\\xe3Xs\\xe4#\\x01k?\\x00\\x00\\x00\\x00\\x00\\x00\\x00\\x00\\xfe_\\x07\\xe8\\\\\\x07\\xdd?\\x00\\x00\\x00\\x00\\x00\\x00\\x00\\x00\\xf1\\xdc\\xca\\xa9b8\\x86?\\x00\\x00\\x00\\x00\\x00\\x00\\x00\\x00\\x00\\x00\\x00\\x00\\x00\\x00\\x00\\x00\\x00\\x00\\x00\\x00\\x00\\x00\\x00\\x00\\x00\\x00\\x00\\x00\\x00\\x00\\x00\\x00 \\x170\\x1a\\x80A\\xd0?\\xa0\\xabR\\xfe@Z\\x8c?\\x00\\x00\\x00\\x00\\x00\\x00\\x00\\x00`N\\x85\\x1b\\xa2\\xb4\\xb1?\\x00\\x00\\x00\\x00\\x00\\x00\\x00\\x00\\x00\\x00\\x00\\x00\\x00\\x00\\x00\\x00N\\x1a\\xb0\\x89\\x89Y\\xb6?,\\x9d\\x19\\xfe\\xc9\\xea\\xc8?\\x00\\x00\\x00\\x00\\x00\\x00\\x00\\x00\\x00\\x00\\x00\\x00\\x00\\x00\\x00\\x00\\x00\\x00\\x00\\x00\\x00\\x00\\x00\\x00\\xa9\\xe7\\xb4\\xb3\\xfe\\xfd\\xbf?\\x00\\x00\\x00\\x00\\x00\\x00\\x00\\x00\\x00\\x00\\x00\\x00\\x00\\x00\\x00\\x00\\x11\\xbdIRg\\x8f\\xab?\\x00\\x00\\x00\\x00\\x00\\x00\\x00\\x00\\x00\\x00\\x00\\x00\\x00\\x00\\x00\\x001\\xb9A\\x04\\xb5\\xa0\\xcf?\\x00\\x00\\x00\\x00\\x00\\x00\\x00\\x00\\x00\\x00\\x00\\x00\\x00\\x00\\x00\\x00\\xa1\\xf5\\xbbt8\\xdf\\x85?.\\xb25\\xa5\\xd5\\xf2l?\\x00\\x00\\x00\\x00\\x00\\x00\\x00\\x00\\x00\\x00\\x00\\x00\\x00\\x00\\x00\\x00\\x00\\x00\\x00\\x00\\x00\\x00\\x00\\x00<|\\x06\\x8ek\\x8c\\xbb?\\x1d\\xa6\\xcf\\xb3\\xcd1\\xb0?\\x00\\x00\\x00\\x00\\x00\\x00\\x00\\x00\\xc5\\xbe\\xe3\\x97\\xf8\\xf2\\xfb?\\x00\\x00\\x00\\x00\\x00\\x00\\x00\\x00\\x00\\x00\\x00\\x00\\x00\\x00\\x00\\x00\\x00\\x00\\x00\\x00\\x00\\x00\\x00\\x00\\x00\\x00\\x00\\x00\\x00\\x00\\x00\\x00\\x00\\x00\\x00\\x00\\x00\\x00\\x00\\x00\\x00\\x00\\x00\\x00\\x00\\x00\\x00\\x00\\x00\\x00\\x00\\x00\\x00\\x00\\x00\\x00\\x00\\x00\\x00\\x00\\x00\\x00\\x00\\x00\\x00\\x00\\x00\\x00\\x00\\x00\\x00\\x00\\x00\\x00\\x00\\x00\\x00\\x00\\x00\\x00\\x00\\x00\\x00\\x00\\x00\\x00\\x00\\x00\\x00\\x00\\x00\\x00\\x00\\x00\\x00\\x00\\x00\\x00\\x00\\x00\\x00\\x00\\x00\\x00\\x00\\x00\\x00\\x00\\x00\\x00\\x00\\x00\\x00\\x00\\x00\\x00\\x00\\x00\\x00\\x00\\x00\\x00\\x00\\x00\\x00\\x00\\x00\\x00\\x95\\x89Hs\\xd1\\xe9\\xe8?z\\xb7\\xc3\\x19*\\xa5`?\\x00\\x00\\x00\\x00\\x00\\x00\\x00\\x00\\xcc\\x80?\\x8d7\\xb2\\x9d?\\x00\\x00\\x00\\x00\\x00\\x00\\x00\\x00\\x00\\x00\\x00\\x00\\x00\\x00\\x00\\x00\\x00\\x00\\x00\\x00\\x00\\x00\\x00\\x00\\x00\\x00\\x00\\x00\\x00\\x00\\x00\\x00\\x00\\x00\\x00\\x00\\x00\\x00\\x00\\x00\\x00\\x00\\x00\\x00\\x00\\x00\\x00\\x00\\x00\\x00\\x00\\x00\\x00\\x00\\x00\\x00\\x00\\x00\\x00\\x00\\x00\\x00\\x00\\x00\\xaf9Z\\xd6M\\x83\\xe2?\\xeeLH\\n\\x0f~\\xa0?\\x00\\x00\\x00\\x00\\x00\\x00\\x00\\x00<\\x19\\xc8C\\x87\\xd4\\xbf?\\x00\\x00\\x00\\x00\\x00\\x00\\x00\\x00\\x00\\x00\\x00\\x00\\x00\\x00\\x00\\x00Tv]I\\xd0\\x99\\xc5?\\'\\xf2\\xf9\\xf2\\xe7\\xb4\\xbd?\\xbcZK\\x86\\xa5\\xea\\xa4?r\\x11\\xd8\\xdc^e\\xb5?\\xe3\\x95fO\\xd6\\xdd\\xcb?\\x18\\xce\\x95\\xc3.\\x99\\xb2?p\\x9fy\\x98E=\\xd8?\\x07\\x9c!$\\ri\\x87?\\x00\\x00\\x00\\x00\\x00\\x00\\x00\\x00\\xff:4\\xae\\xa5r\\x80?UT\\xf3\\xe8\\xa8\\xd0\\xb7?\\x00\\x00\\x00\\x00\\x00\\x00\\x00\\x00\\x00\\x00\\x00\\x00\\x00\\x00\\x00\\x00&:\\xab\\xd8\\xfd4\\xa4?\\x00\\x00\\x00\\x00\\x00\\x00\\x00\\x00n\\xc9w\\xeb\\x8a\\xd7\\x98?A\\xfc\\xa0\\xff(\\xb9e?GRww\\xeb\\x96\\xb3?\\x00\\x00\\x00\\x00\\x00\\x00\\x00\\x00\\x00\\x00\\x00\\x00\\x00\\x00\\x00\\x00\\xd7b\\'*}*q?\\x85\\x9d#t\\x9cs\\xaf?\\x00\\x00\\x00\\x00\\x00\\x00\\x00\\x00\\x00\\x00\\x00\\x00\\x00\\x00\\x00\\x00l\\x8d\\x8b\\xd3\\xd2\\xa8\\x99?\\x00\\x00\\x00\\x00\\x00\\x00\\x00\\x00\\xe1KO:<\\xb4\\xd1?\\xb1\\xcb\\x97\\x82W/g?\\xc62\\x9c\\x173\\xb8\\xb6?\\x00\\x00\\x00\\x00\\x00\\x00\\x00\\x005A/\\xe3qo\\xe3?\\x00\\x00\\x00\\x00\\x00\\x00\\x00\\x00\\x00\\x00\\x00\\x00\\x00\\x00\\x00\\x00Jh\\xe3*\\xf3\\xc0\\xe6?\\xa1F\\x80\\x1a89\\xe7?\\x00\\x00\\x00\\x00\\x00\\x00\\x00\\x00\\x00\\x00\\x00\\x00\\x00\\x00\\x00\\x00\\x00\\x00\\x00\\x00\\x00\\x00\\x00\\x00\\x00\\x00\\x00\\x00\\x00\\x00\\x00\\x00\\x14\\xa6\\x1b\\x1b>\\x05\\xe3?\\x00\\x00\\x00\\x00\\x00\\x00\\x00\\x00\\x00\\x00\\x00\\x00\\x00\\x00\\x00\\x00\\x00\\x00\\x00\\x00\\x00\\x00\\x00\\x00\\x81.\\xb3\\x9b9\\xb6\\xa4?\\x00\\x00\\x00\\x00\\x00\\x00\\x00\\x00\\x00\\x00\\x00\\x00\\x00\\x00\\x00\\x00\\x00\\x00\\x00\\x00\\x00\\x00\\x00\\x00\\x00\\x00\\x00\\x00\\x00\\x00\\x00\\x00\\x00\\x00\\x00\\x00\\x00\\x00\\x00\\x00\\x00\\x00\\x00\\x00\\x00\\x00\\x00\\x00\\x00\\x00\\x00\\x00\\x00\\x00\\x00\\x00\\xcb\\xf7\\x92)\\xb6^\\xef?\\x00\\x00\\x00\\x00\\x00\\x00\\x00\\x00\\x00\\x00\\x00\\x00\\x00\\x00\\x00\\x00\\x00\\x00\\x00\\x00\\x00\\x00\\x00\\x00\\x00\\x00\\x00\\x00\\x00\\x00\\x00\\x00\\x00\\x00\\x00\\x00\\x00\\x00\\x00\\x00$\\x94\\xf6M&\\xd2a?\\x00\\x00\\x00\\x00\\x00\\x00\\x00\\x00\\x8b\\xfb\\x07\\xce\\r%\\xd1?\\x00\\x00\\x00\\x00\\x00\\x00\\x00\\x00\\x00\\x00\\x00\\x00\\x00\\x00\\x00\\x00\\x00\\x00\\x00\\x00\\x00\\x00\\x00\\x00\\x00\\x00\\x00\\x00\\x00\\x00\\x00\\x00\\x00\\x00\\x00\\x00\\x00\\x00\\x00\\x00\\x00\\x00\\x00\\x00\\x00\\x00\\x00\\x00\\x00\\x00\\x00\\x00\\x00\\x00\\x00\\x00\\x92\\xf8\\xfd\\xe7\\xb8t|?-\\xf9&`\\xd8|\\x7f?\\x00\\x00\\x00\\x00\\x00\\x00\\x00\\x00\\x82\\xde\\xd1\\xdb\\xbeH\\xa0?\\x00\\x00\\x00\\x00\\x00\\x00\\x00\\x00\\x13G\\x9c\\xdeC\\x9f\\xbf?\\x00\\x00\\x00\\x00\\x00\\x00\\x00\\x00\\xa5\\x05Y\\xa9\\xbc\\x80H?\\x00\\x00\\x00\\x00\\x00\\x00\\x00\\x00\\x00\\x00\\x00\\x00\\x00\\x00\\x00\\x00\\x00\\x00\\x00\\x00\\x00\\x00\\x00\\x00\\x00\\x00\\x00\\x00\\x00\\x00\\x00\\x00\\xa2\\xa6\\xef1\\xbeR\\xb3?Q\\x97\\xaf\\xf9\\xe4\\x00z?5\\xb6iz\\xae\\xf5\\\\?\\x9f\\x9d|C\\xe9\\xf5\\xb6?\\x00\\x00\\x00\\x00\\x00\\x00\\x00\\x00d\\xa3\\x03\\xf5\\xdbE{?\\x00\\x00\\x00\\x00\\x00\\x00\\x00\\x00\\x00\\x00\\x00\\x00\\x00\\x00\\x00\\x00\\x00\\x00\\x00\\x00\\x00\\x00\\x00\\x00\\x00\\x00\\x00\\x00\\x00\\x00\\x00\\x00\\x00\\x00\\x00\\x00\\x00\\x00\\x00\\x00>\\xb2\\xce\\xceI\\xe7\\x95?\\x00\\x00\\x00\\x00\\x00\\x00\\x00\\x00\\x00\\x00\\x00\\x00\\x00\\x00\\x00\\x00\\r\\x81\\x08\\xc8\\x17,\\xa6?\\x1cv\\xebC<e\\x9c?\\x00\\x00\\x00\\x00\\x00\\x00\\x00\\x00\\x00\\x00\\x00\\x00\\x00\\x00\\x00\\x00{:0\\xf0\\xd5x\\x94?\\x00\\x00\\x00\\x00\\x00\\x00\\x00\\x00\\x00\\x00\\x00\\x00\\x00\\x00\\x00\\x00\\x00\\x00\\x00\\x00\\x00\\x00\\x00\\x00\\xbcl\\x96\\xc3\\xdb\\x97\\xb2?\\x00\\x00\\x00\\x00\\x00\\x00\\x00\\x00\\xfa\\x16)K\\xf13\\x8d?\\xc0\\x94(\\xf4\\xff{\\x94?\\xb4\\xb6\\xfb\\xc6G\\x90\\xb6?\\x00\\x00\\x00\\x00\\x00\\x00\\x00\\x00*dc=G\\xf2\\xe0?\\x00\\x00\\x00\\x00\\x00\\x00\\x00\\x00\\x00\\x00\\x00\\x00\\x00\\x00\\x00\\x00h\\xdb\\xc0\\xe6\\x00\\x7f\\xd7?\\x00\\x00\\x00\\x00\\x00\\x00\\x00\\x00\\x00\\x00\\x00\\x00\\x00\\x00\\x00\\x00\\x00\\x00\\x00\\x00\\x00\\x00\\x00\\x00\\x00\\x00\\x00\\x00\\x00\\x00\\x00\\x00\\x00\\x00\\x00\\x00\\x00\\x00\\x00\\x00\\x00\\x00\\x00\\x00\\x00\\x00\\x00\\x00\\x00\\x00\\x00\\x00\\x00\\x00\\x00\\x00\\x00\\x00\\x00\\x00\\x00\\x00\\x00\\x00\\xb4\\xb6\\x85\\x19fz\\x98?\\xe2\\xb3M\\xb7\\x0bU\\xc3?\\xfcX\\xb3\\x1e#\\xac\\xa4?\\xea9{}\"<\\xc1?\\xd9\\xb9\\xfaO\\xc1*P?iPmx \\xf7\\xb1?\\x10\\x0f\\x0e\\xf0\\xad\\x15\\xd0?\\x00\\x00\\x00\\x00\\x00\\x00\\x00\\x00\\xa6\\x11\\x14\\x1b)\\xbf\\xe3?\\x00\\x00\\x00\\x00\\x00\\x00\\x00\\x00\\x00\\x00\\x00\\x00\\x00\\x00\\x00\\x00\\x00\\x00\\x00\\x00\\x00\\x00\\x00\\x00\\x00\\x00\\x00\\x00\\x00\\x00\\x00\\x00\\x00\\x00\\x00\\x00\\x00\\x00\\x00\\x00\\x84p\\x1cO\\x9d\\xb4\\x81?\\x00\\x00\\x00\\x00\\x00\\x00\\x00\\x00\\x00\\x00\\x00\\x00\\x00\\x00\\x00\\x00\\x8bU%\\xdbm[{?\\x00\\x00\\x00\\x00\\x00\\x00\\x00\\x00\\xc1d\\x0c\\xb2\\xff\\xea\\xcf?\\x00\\x00\\x00\\x00\\x00\\x00\\x00\\x00\\x00\\x00\\x00\\x00\\x00\\x00\\x00\\x00\\x00\\x00\\x00\\x00\\x00\\x00\\x00\\x00\\x00\\x00\\x00\\x00\\x00\\x00\\x00\\x00\\x00\\x00\\x00\\x00\\x00\\x00\\x00\\x00\\x00\\x00\\x00\\x00\\x00\\x00\\x00\\x00\\x00\\x00\\x00\\x00\\x00\\x00\\x00\\x00\\xaa\\x9b\\x0c8\\xb2Y\\xbc?\\x00\\x00\\x00\\x00\\x00\\x00\\x00\\x00\\xf6\\xf0\\xda\\x0b\"Z\\xd1??\\x8e\\x19|?\\xb5q?\\x00\\x00\\x00\\x00\\x00\\x00\\x00\\x00\\x1e\\x996dS4\\'?0\\xdb\\xadMb\\xe6r?E\\x0c\\xf6\\xbb\\xa1\\xb6\\xaa?\\x00\\x00\\x00\\x00\\x00\\x00\\x00\\x00\\x00\\x00\\x00\\x00\\x00\\x00\\x00\\x00%#+\\xe6\\x1f\\xa9\\xc9?^\\xe0\\xe1\\x90\\x92\\xfb\\xc8?G\\xfcV\\x17$7\\xcb?\\x95\\xb9\\nX\\'\\xed\\xcb?\\x0c\\xc6\\xfeY^\\xb5\\xb2?*J_\\xadg\\xe6\\xb7?\\x00\\x00\\x00\\x00\\x00\\x00\\x00\\x00\\x00\\x00\\x00\\x00\\x00\\x00\\x00\\x00\\x00\\x00\\x00\\x00\\x00\\x00\\x00\\x00\\x00\\x00\\x00\\x00\\x00\\x00\\x00\\x00\\x00\\x00\\x00\\x00\\x00\\x00\\x00\\x00\\x00\\x00\\x00\\x00\\x00\\x00\\x00\\x00N{6\\xac\\'\\xf9P?\\xe13OE\\x06|\\xd1?K=\\x97`v\\x1bj?\\x00\\x00\\x00\\x00\\x00\\x00\\x00\\x00\\xf6\\xf41\\xcdr\\xc8\\x93?\\x00\\x00\\x00\\x00\\x00\\x00\\x00\\x00\\xe7\\x94\\xe6\\xdad\\xed\\x81?\\x00\\x00\\x00\\x00\\x00\\x00\\x00\\x00\\x00\\x00\\x00\\x00\\x00\\x00\\x00\\x00\\x00\\x00\\x00\\x00\\x00\\x00\\x00\\x00\\xd7\\xd4\\n\\xf7l`\\xc7?\\x00\\x00\\x00\\x00\\x00\\x00\\x00\\x00\\xcb$\\x0e \\x95\\xcfz?Odo\\xdf\\xa7\\xdb\\xc7?\\xcc\\xfex>Q\\x96\\xa3?\\x00\\x00\\x00\\x00\\x00\\x00\\x00\\x00\\x00\\x00\\x00\\x00\\x00\\x00\\x00\\x00\\x00\\x00\\x00\\x00\\x00\\x00\\x00\\x00\\x84m\\xfdn\\x95\\xce`?\\x00\\x00\\x00\\x00\\x00\\x00\\x00\\x00\\x00\\x00\\x00\\x00\\x00\\x00\\x00\\x00\\x00\\x00\\x00\\x00\\x00\\x00\\x00\\x00\\x00\\x00\\x00\\x00\\x00\\x00\\x00\\x00\\x00\\x00\\x00\\x00\\x00\\x00\\x00\\x00\\xe3Xs\\xe4#\\x01k?\\x00\\x00\\x00\\x00\\x00\\x00\\x00\\x00\\xfe_\\x07\\xe8\\\\\\x07\\xdd?\\x00\\x00\\x00\\x00\\x00\\x00\\x00\\x00\\x00\\x00\\x00\\x00\\x00\\x00\\x00\\x00\\x00\\x00\\x00\\x00\\x00\\x00\\x00\\x00\\x00\\x00\\x00\\x00\\x00\\x00\\x00\\x00\\x00\\x00\\x00\\x00\\x00\\x00\\x00\\x00$\\x94\\xf6M&\\xd2a?\\x00\\x00\\x00\\x00\\x00\\x00\\x00\\x00\\x8b\\xfb\\x07\\xce\\r%\\xd1?\\x00\\x00\\x00\\x00\\x00\\x00\\x00\\x00\\x00\\x00\\x00\\x00\\x00\\x00\\x00\\x00\\x00\\x00\\x00\\x00\\x00\\x00\\x00\\x00\\x00\\x00\\x00\\x00\\x00\\x00\\x00\\x00\\x00\\x00\\x00\\x00\\x00\\x00\\x00\\x00\\x00\\x00\\x00\\x00\\x00\\x00\\x00\\x00\\x00\\x00\\x00\\x00\\x00\\x00\\x00\\x00\\x00\\x00\\x00\\x00\\x00\\x00\\x00\\x00\\x00\\x00\\x00\\x00\\x00\\x00\\x00\\x00N{6\\xac\\'\\xf9P?\\xe13OE\\x06|\\xd1?K=\\x97`v\\x1bj?\\x00\\x00\\x00\\x00\\x00\\x00\\x00\\x00\\xf6\\xf41\\xcdr\\xc8\\x93?\\x00\\x00\\x00\\x00\\x00\\x00\\x00\\x00\\x00\\x00\\x00\\x00\\x00\\x00\\x00\\x00\\x00\\x00\\x00\\x00\\x00\\x00\\x00\\x00\\x00\\x00\\x00\\x00\\x00\\x00\\x00\\x00\\x00\\x00\\x00\\x00\\x00\\x00\\x00\\x00\\x00\\x00\\x00\\x00\\x00\\x00\\x00\\x00\\x00\\x00\\x00\\x00\\x00\\x00\\x00\\x00\\x1c5\\x7fErF\\xe0?\\x00\\x00\\x00\\x00\\x00\\x00\\x00\\x00\\x00\\x00\\x00\\x00\\x00\\x00\\x00\\x00\\r\\xe8\\xad\\xcd\\xc5\\xec\\x83?\\xf5\\xc6\\xcb\\xbf@\\x9dI?\\x00\\x00\\x00\\x00\\x00\\x00\\x00\\x00\\x00\\x00\\x00\\x00\\x00\\x00\\x00\\x00\\x00\\x00\\x00\\x00\\x00\\x00\\x00\\x00\\x00\\x00\\x00\\x00\\x00\\x00\\x00\\x00\\xe2_\\xa3\\xd8\\xe7\\xf5\\xb0?d\\xe3\\x7f\\xe3\\xcc\\x12\\x80?\\x84\\xb4\\x0e$\\xbfOc?5\\xaa\\xb0N\\xe3\\x95\\xb3?\\xea\\xf9>j9+K?\\x00\\x00\\x00\\x00\\x00\\x00\\x00\\x00\\xb8\\xe5\\xdf\\xc5\\xbca\\xc6?\\x00\\x00\\x00\\x00\\x00\\x00\\x00\\x00\\x00\\x00\\x00\\x00\\x00\\x00\\x00\\x00\\x9a:\\xd3\\xbdhG\\xc7?\\x00\\x00\\x00\\x00\\x00\\x00\\x00\\x00\\x00\\x00\\x00\\x00\\x00\\x00\\x00\\x00\\x00\\x00\\x00\\x00\\x00\\x00\\x00\\x00\\x00\\x00\\x00\\x00\\x00\\x00\\x00\\x00\\x00\\x00\\x00\\x00\\x00\\x00\\x00\\x00\\x00\\x00\\x00\\x00\\x00\\x00\\x00\\x00\\x00\\x00\\x00\\x00\\x00\\x00\\x00\\x00\\x00\\x00\\x00\\x00\\x00\\x00\\x00\\x00\\xd7b\\'*}*q?\\x85\\x9d#t\\x9cs\\xaf?\\x00\\x00\\x00\\x00\\x00\\x00\\x00\\x00\\x00\\x00\\x00\\x00\\x00\\x00\\x00\\x00l\\x8d\\x8b\\xd3\\xd2\\xa8\\x99?\\x00\\x00\\x00\\x00\\x00\\x00\\x00\\x00\\xe1KO:<\\xb4\\xd1?\\xb1\\xcb\\x97\\x82W/g?\\xc62\\x9c\\x173\\xb8\\xb6?\\x00\\x00\\x00\\x00\\x00\\x00\\x00\\x00\\xc2\\xb5\\x13\\xd7M\\x12H?\\x00\\x00\\x00\\x00\\x00\\x00\\x00\\x00\\x00\\x00\\x00\\x00\\x00\\x00\\x00\\x00\\x00\\x00\\x00\\x00\\x00\\x00\\x00\\x00\\x00\\x00\\x00\\x00\\x00\\x00\\x00\\x00\\x00\\x00\\x00\\x00\\x00\\x00\\x00\\x00\\x00\\x00\\x00\\x00\\x00\\x00\\x00\\x00\\x00\\x00\\x00\\x00\\x00\\x00\\x00\\x00\\x00\\x00\\x00\\x00\\x00\\x00\\x00\\x002#%\\xafD\\xb3\\xd5?\\x00\\x00\\x00\\x00\\x00\\x00\\x00\\x00SN\\xfdp\\x04\\xdcH?\\x00\\x00\\x00\\x00\\x00\\x00\\x00\\x00\\x00\\x00\\x00\\x00\\x00\\x00\\x00\\x00\\x00\\x00\\x00\\x00\\x00\\x00\\x00\\x00\\x00\\x00\\x00\\x00\\x00\\x00\\x00\\x00\\x00\\x00\\x00\\x00\\x00\\x00\\x00\\x00\\x00\\x00\\x00\\x00\\x00\\x00\\x00\\x00\\x00\\x00\\x00\\x00\\x00\\x00\\x00\\x00\\x00\\x00\\x00\\x00\\x00\\x00\\x00\\x00k\\x16<\\xeczt\\xd8?\\x00\\x00\\x00\\x00\\x00\\x00\\x00\\x00\\xef\\x9cl\\x88C\\xe7\\xe8?\\x00\\x00\\x00\\x00\\x00\\x00\\x00\\x00\\x00\\x00\\x00\\x00\\x00\\x00\\x00\\x00\\x00\\x00\\x00\\x00\\x00\\x00\\x00\\x00\\xb1\\xc64\\xfex\\xd9\\xed?\\x00\\x00\\x00\\x00\\x00\\x00\\x00\\x00\\x00\\x00\\x00\\x00\\x00\\x00\\x00\\x00q\\x93\\x85\\x98q\\xa5I?\\x00\\x00\\x00\\x00\\x00\\x00\\x00\\x00\\x00\\x00\\x00\\x00\\x00\\x00\\x00\\x00\\x00\\x00\\x00\\x00\\x00\\x00\\x00\\x00\\x00\\x00\\x00\\x00\\x00\\x00\\x00\\x00\\x00\\x00\\x00\\x00\\x00\\x00\\x00\\x00\\x00\\x00\\x00\\x00\\x00\\x00\\x00\\x00\\x00\\x00\\x00\\x00\\x00\\x00\\x00\\x00\\x00\\x00\\x00\\x00\\x00\\x00\\x00\\x00\\x00\\x00\\x00\\x00\\x00\\x00\\x00\\x00\\x00\\x00\\x00\\x00\\x00\\x00\\x00\\x00\\x00\\x00\\x00\\x00\\x00\\x00\\x00\\x00\\x00\\x00\\x00\\x00\\x00\\x00\\x00\\x00\\x00\\x00\\x00\\x00\\x00\\x00\\x00\\x00+\\xf9\\xed\\xc1\\xbay\\xe4?Z\\xf0+\\x81\\xc2T@?\\x00\\x00\\x00\\x00\\x00\\x00\\x00\\x00\\x00\\x00\\x00\\x00\\x00\\x00\\x00\\x00\\x00\\x00\\x00\\x00\\x00\\x00\\x00\\x00\\x00\\x00\\x00\\x00\\x00\\x00\\x00\\x00\\xba\\x15\\x9a\\xcdt\\xab\\xcc?\\x00\\x00\\x00\\x00\\x00\\x00\\x00\\x00\\x00\\x00\\x00\\x00\\x00\\x00\\x00\\x00\\xa8\\x04\\xe9\\xf8\\x1b\\xdd\\xb0?\\x00\\x00\\x00\\x00\\x00\\x00\\x00\\x00\\x00\\x00\\x00\\x00\\x00\\x00\\x00\\x00\\x00\\x00\\x00\\x00\\x00\\x00\\x00\\x00d\\xbf\\x0e\\xa7\\xb8V\\xea?\\x18{\\xca\\xe9B/\\xc9?\\x00\\x00\\x00\\x00\\x00\\x00\\x00\\x00\\x00\\x00\\x00\\x00\\x00\\x00\\x00\\x00\\xc6\\x95L\\xcc\\xbaW\\xeb?\\x00\\x00\\x00\\x00\\x00\\x00\\x00\\x00s`\\xf5I\\x9f\\xc3\\x89?\\x00\\x00\\x00\\x00\\x00\\x00\\x00\\x00\\x00\\x00\\x00\\x00\\x00\\x00\\x00\\x00\\x00\\x00\\x00\\x00\\x00\\x00\\x00\\x00a\\\\N{\\x95H\\xe0?\\x04a\\xbf)\\x1f\\x8e\\xee?\\x00\\x00\\x00\\x00\\x00\\x00\\x00\\x00\\x90\\xf3\\xfa\\xf3p\\xf4\\xe0?X\\x9f@R\\xafm\\xcd?\\xa9\\x9e\\xe6.\\x97\\xf2\\xcd?*\\xbd\\xac\\xa7\\xdf\\xb9\\xef?\\x00\\x00\\x00\\x00\\x00\\x00\\x00\\x00|\\x9f\\xf2\\x9d\\xe2\\xc6\\xe0?\\x00\\x00\\x00\\x00\\x00\\x00\\x00\\x00 \\xc1\\xea\\xb5\\xce\\x11\\xc4?\\x00\\x00\\x00\\x00\\x00\\x00\\x00\\x00\\x00\\x00\\x00\\x00\\x00\\x00\\x00\\x00\\xe4\\x06\\xa4\\xae\\xf5\\x95\\xe2?S\\t\\xdd^\\xbb\\xba\\xda?\\x00\\x00\\x00\\x00\\x00\\x00\\x00\\x00\\x00\\x00\\x00\\x00\\x00\\x00\\x00\\x00*N\\x92|\\xcc\\xe4\\xd0?\\x19\\x83\\x9c\\x92}4\\xce?\\x00\\x00\\x00\\x00\\x00\\x00\\x00\\x00\\x00\\x00\\x00\\x00\\x00\\x00\\x00\\x00\\x00\\x00\\x00\\x00\\x00\\x00\\x00\\x00\\x00\\x00\\x00\\x00\\x00\\x00\\x00\\x00\\x00\\x00\\x00\\x00\\x00\\x00\\x00\\x00,$\\xff\\xa4\\x1d\\x90\\xb9?\\xcal\\xbc\\n+\\xd6\\xb5?\\x00\\x00\\x00\\x00\\x00\\x00\\x00\\x00\\x00\\x00\\x00\\x00\\x00\\x00\\x00\\x00\\x00\\x00\\x00\\x00\\x00\\x00\\x00\\x00\\xb8\\xf8\\'\\xceyX\\xcd?\\x00\\x00\\x00\\x00\\x00\\x00\\x00\\x00\\x00\\x00\\x00\\x00\\x00\\x00\\x00\\x00\\x00\\x00\\x00\\x00\\x00\\x00\\x00\\x00\\x00\\x00\\x00\\x00\\x00\\x00\\x00\\x00\\xa7V\\xe6\\xef\\t\\xfb\\x82?\\x00\\x00\\x00\\x00\\x00\\x00\\x00\\x00\\xf0|\\xbe\\x182\\xa3\\xd1?\\x00\\x00\\x00\\x00\\x00\\x00\\x00\\x00\\x00\\x00\\x00\\x00\\x00\\x00\\x00\\x00\\xaf\\xd5\\xaa\\x0f\\x1d5\\xc9?\\x00\\x00\\x00\\x00\\x00\\x00\\x00\\x00\\x00\\x00\\x00\\x00\\x00\\x00\\x00\\x00\\x00\\x00\\x00\\x00\\x00\\x00\\x00\\x00\\x00\\x00\\x00\\x00\\x00\\x00\\x00\\x00\\x00\\x00\\x00\\x00\\x00\\x00\\x00\\x00\\x00\\x00\\x00\\x00\\x00\\x00\\x00\\x00\\x00\\x00\\x00\\x00\\x00\\x00\\x00\\x004M\\xfeO\\x1d\\xb5\\xd2?\\x00\\x00\\x00\\x00\\x00\\x00\\x00\\x00I\\xafV\\x90\\xee\\xa6\\xc0?\\x00\\x00\\x00\\x00\\x00\\x00\\x00\\x00\\x00\\x00\\x00\\x00\\x00\\x00\\x00\\x00\\x9a\\x18\\x9a\\xc3\\xa2\\xf7\\xe3?\\x00\\x00\\x00\\x00\\x00\\x00\\x00\\x00#\\xf9\\rK\\xd2G\\x96?\\x00\\x00\\x00\\x00\\x00\\x00\\x00\\x00\\x00\\x00\\x00\\x00\\x00\\x00\\x00\\x00\\x00\\x00\\x00\\x00\\x00\\x00\\x00\\x00\\xc1\\xa5\\x9f\\xda\\x0e\\x89\\xf4?\\x00\\x00\\x00\\x00\\x00\\x00\\x00\\x00\\x00\\x00\\x00\\x00\\x00\\x00\\x00\\x00\\x00\\x00\\x00\\x00\\x00\\x00\\x00\\x00\\x00\\x00\\x00\\x00\\x00\\x00\\x00\\x00|\\x08I)\\xe3\\x7f\\xe4?\\x00\\x00\\x00\\x00\\x00\\x00\\x00\\x00\\x00\\x00\\x00\\x00\\x00\\x00\\x00\\x00\\x00\\x00\\x00\\x00\\x00\\x00\\x00\\x00\\xbcQ~R\\x131\\xe9?\\x89`\\x9c\\xbet\\xd9\\xa0?\\x00\\x00\\x00\\x00\\x00\\x00\\x00\\x00\\x00\\x00\\x00\\x00\\x00\\x00\\x00\\x00#\\xcb\\x10\\x86:\\xf9\\xe8?\\x00\\x00\\x00\\x00\\x00\\x00\\x00\\x00;\\xfd\\xf6\\xec\\xb5\\xdf\\x1e?\\x00\\x00\\x00\\x00\\x00\\x00\\x00\\x00\\x94\\xbc/;\\xd6\\xed|?!\\xaa\\x8f_\\xbd\\x10\\xc6?\\xe1\\xfa\\x9a\\x14\\x97\\xa5E?\\x00\\x00\\x00\\x00\\x00\\x00\\x00\\x00\\x00\\x00\\x00\\x00\\x00\\x00\\x00\\x00\\xdbt\\xff\\x1f\\xab\\x83\\xcf?\\xdb\\x98%\\tZ\\xd3H?\\xda\\xdbR\\xcc\\xff\\xf5\\xe5?\\xde2w\\xde\\xcd$\\x91?\\x00\\x00\\x00\\x00\\x00\\x00\\x00\\x00\\x00\\x00\\x00\\x00\\x00\\x00\\x00\\x00\\x00\\x00\\x00\\x00\\x00\\x00\\x00\\x00\\x00\\x00\\x00\\x00\\x00\\x00\\x00\\x00\\x00\\x00\\x00\\x00\\x00\\x00\\x00\\x00\\x00\\x00\\x00\\x00\\x00\\x00\\x00\\x00\\x00\\x00\\x00\\x00\\x00\\x00\\x00\\x00\\x00\\x00\\x00\\x00\\x00\\x00\\x00\\x00\\x00\\x00\\x00\\x00\\x00\\x00\\x00\\x00$\\x94\\xf6M&\\xd2a?\\x00\\x00\\x00\\x00\\x00\\x00\\x00\\x00\\x8b\\xfb\\x07\\xce\\r%\\xd1?\\x00\\x00\\x00\\x00\\x00\\x00\\x00\\x00\\x00\\x00\\x00\\x00\\x00\\x00\\x00\\x00\\x00\\x00\\x00\\x00\\x00\\x00\\x00\\x00\\x00\\x00\\x00\\x00\\x00\\x00\\x00\\x00\\xdaB\\x96./\\xdd\\x88?\\x00\\x00\\x00\\x00\\x00\\x00\\x00\\x00\\x00\\x00\\x00\\x00\\x00\\x00\\x00\\x00\\x00\\x00\\x00\\x00\\x00\\x00\\x00\\x00\\x8ee\\xfcV\\xb1\\xca\\x8c?\\x94\\xfeF\\xfeh|K?\\x17\\xc6\\xff\\x11\\x02_\\xa3?\\x00\\x00\\x00\\x00\\x00\\x00\\x00\\x00>\\x83C.ih\\x99?\\xc6S.;\\x83\\xf8\\xd1?\\x00\\x00\\x00\\x00\\x00\\x00\\x00\\x00h\\xe1\\xb6\\x0b\\xb60\\x8d?\\x00\\x00\\x00\\x00\\x00\\x00\\x00\\x00\\x00\\x00\\x00\\x00\\x00\\x00\\x00\\x00\\x00\\x00\\x00\\x00\\x00\\x00\\x00\\x00\\xb5H\\xf2U&\\xf8\\xa9?\\x97OsD\\xa7-\\xd1?Q\\x8c\\x9e\\x97\\xf2S\\x9d?\\x95]\\\\G\\x14\\'\\x94?\\xd89\\xd8\\x99\\xb93\\x89??\\xbd\\xca\\x1e\\x7f`\\xcf?\\x00\\x00\\x00\\x00\\x00\\x00\\x00\\x00\\x979os8\\xb3\\x8c?\\xc6\\xf0\\xbf\\xccQ\\xae\\xad?\\x00\\x00\\x00\\x00\\x00\\x00\\x00\\x00\"<\\x83\\xa7\\xd9\\x1fh?\\x1b@3\\xc0\\xf3\\x8b\\x8a??\\x9b(\\xf8\\x8e\\n\\xc3?J\\xf9\\xb8\\xcdg\\x0b\\xe1?\\x00\\x00\\x00\\x00\\x00\\x00\\x00\\x00\\x00\\x00\\x00\\x00\\x00\\x00\\x00\\x00\\x00\\x00\\x00\\x00\\x00\\x00\\x00\\x00\\x00\\x00\\x00\\x00\\x00\\x00\\x00\\x00h\\x92N\\x06+G\\xe7?YD\\r\\xdf\\xbd\\x03\\xa3?\\x00\\x00\\x00\\x00\\x00\\x00\\x00\\x00\\x00\\x00\\x00\\x00\\x00\\x00\\x00\\x00\\x8b\\xe5+\\x10\\x14\\xbc\\xca?\\xd8v1\\xd5\\x82\\x08\\x94?\\x00\\x00\\x00\\x00\\x00\\x00\\x00\\x00\\x00\\x00\\x00\\x00\\x00\\x00\\x00\\x00\\xa8\\x8d\\xf5\\xc4P\\xe2\\xb0?*\\x85\\x8f\\xe7[\\xa9\\xb7?\\xe1\\xfa\\x9a\\x14\\x97\\xa5E?\\x00\\x00\\x00\\x00\\x00\\x00\\x00\\x00\\x00\\x00\\x00\\x00\\x00\\x00\\x00\\x00\\xdbt\\xff\\x1f\\xab\\x83\\xcf?\\xdb\\x98%\\tZ\\xd3H?\\xda\\xdbR\\xcc\\xff\\xf5\\xe5?\\xde2w\\xde\\xcd$\\x91?\\x00\\x00\\x00\\x00\\x00\\x00\\x00\\x00\\x00\\x00\\x00\\x00\\x00\\x00\\x00\\x00\\x00\\x00\\x00\\x00\\x00\\x00\\x00\\x00\\x00\\x00\\x00\\x00\\x00\\x00\\x00\\x00\\xc7\\x13\\xb5}\\xae\\xbcR?\\x00\\x00\\x00\\x00\\x00\\x00\\x00\\x00\\x00\\x00\\x00\\x00\\x00\\x00\\x00\\x00\\x00\\x00\\x00\\x00\\x00\\x00\\x00\\x00\\x00\\x00\\x00\\x00\\x00\\x00\\x00\\x00<$\\x16\\xb9]\\x00\\xe1?\\x00\\x00\\x00\\x00\\x00\\x00\\x00\\x00\\x00\\x00\\x00\\x00\\x00\\x00\\x00\\x00\\x00\\x00\\x00\\x00\\x00\\x00\\x00\\x00\\x83\\x0e\\xcd\\x8a^\\x00\\xa9?\\x00\\x00\\x00\\x00\\x00\\x00\\x00\\x000oe\\x11\\xb6/\\xe2?pq9\\xb4\\x07\\xfc\\xf0?\\x00\\x00\\x00\\x00\\x00\\x00\\x00\\x00\\x85\\xea\\x8e\\xbd\\xd0f\\xd5?o\\xa0\\x96\\xd6\\x98\\xed\\xd1?\\xe8a\\x91\\r\"\\xb1\\xb6?}\\xf0,\\x89}\\xa9\\xec?\\x00\\x00\\x00\\x00\\x00\\x00\\x00\\x00\\x00\\x00\\x00\\x00\\x00\\x00\\x00\\x00\\xd7\\xd0\\x00\\xbeG\\x97\\x90?\\x00\\x00\\x00\\x00\\x00\\x00\\x00\\x00\\x00\\x00\\x00\\x00\\x00\\x00\\x00\\x00\\x00\\x00\\x00\\x00\\x00\\x00\\x00\\x00\\x16\\xa5C\\xfdVN\\xf6?\\x00\\x00\\x00\\x00\\x00\\x00\\x00\\x00\\x00\\x00\\x00\\x00\\x00\\x00\\x00\\x00\\xa6\\x9e-\\xa5\\xd0\"v?\\x00\\x00\\x00\\x00\\x00\\x00\\x00\\x00\\x00\\x00\\x00\\x00\\x00\\x00\\x00\\x00\\x00\\x00\\x00\\x00\\x00\\x00\\x00\\x00\\x00\\x00\\x00\\x00\\x00\\x00\\x00\\x00\\x80b\\r\\xf0\\x10B\\xab?\\x00\\x00\\x00\\x00\\x00\\x00\\x00\\x00\\x00\\x00\\x00\\x00\\x00\\x00\\x00\\x00\\x16\\xa5C\\xfdVN\\xf6?\\x00\\x00\\x00\\x00\\x00\\x00\\x00\\x00\\x00\\x00\\x00\\x00\\x00\\x00\\x00\\x00\\xa6\\x9e-\\xa5\\xd0\"v?\\x00\\x00\\x00\\x00\\x00\\x00\\x00\\x00\\x00\\x00\\x00\\x00\\x00\\x00\\x00\\x00\\x00\\x00\\x00\\x00\\x00\\x00\\x00\\x00\\x00\\x00\\x00\\x00\\x00\\x00\\x00\\x00\\x80b\\r\\xf0\\x10B\\xab?\\x00\\x00\\x00\\x00\\x00\\x00\\x00\\x00\\x00\\x00\\x00\\x00\\x00\\x00\\x00\\x00\\x00\\x00\\x00\\x00\\x00\\x00\\x00\\x00\\x00\\x00\\x00\\x00\\x00\\x00\\x00\\x00\\x00\\x00\\x00\\x00\\x00\\x00\\x00\\x00\\x00\\x00\\x00\\x00\\x00\\x00\\x00\\x00\\x00\\x00\\x00\\x00\\x00\\x00\\x00\\x00f\\xda\\xea\\xfa\\\\\\x1d\\xe0?\\x00\\x00\\x00\\x00\\x00\\x00\\x00\\x00\\x00\\x00\\x00\\x00\\x00\\x00\\x00\\x00\\x00\\x00\\x00\\x00\\x00\\x00\\x00\\x00\\x00\\x00\\x00\\x00\\x00\\x00\\x00\\x00\\xc6\\xd4y3\\x87S|?\\x00\\x00\\x00\\x00\\x00\\x00\\x00\\x00\\x00\\x00\\x00\\x00\\x00\\x00\\x00\\x00\\x9b\\x14k\\xf1\\xe4zm?\\x81c\\x83\\x0f\\xbc\\x0b\\xc9?\\x00\\x00\\x00\\x00\\x00\\x00\\x00\\x00\\xa2\\xac\\x9c\\xc9\\xcc\\x8c\\x86?\\xda\\xc7\\x07\\x05\\xbf\\xe8\\xca?\\xdbV\\xa3\\xe6\\xa8\\xfb\\xad?\\x00\\x00\\x00\\x00\\x00\\x00\\x00\\x00]\\x9b\\xac[uI\\xe2?\\xecm*R\\x07\\xf9\\xf1?\\x00\\x00\\x00\\x00\\x00\\x00\\x00\\x00\\x00\\x00\\x00\\x00\\x00\\x00\\x00\\x00\\x8f8[\\xd9\\xaf!\\xdb?\\x00\\x00\\x00\\x00\\x00\\x00\\x00\\x00\\x00\\x00\\x00\\x00\\x00\\x00\\x00\\x00\\x00\\x00\\x00\\x00\\x00\\x00\\x00\\x00\\x00\\x00\\x00\\x00\\x00\\x00\\x00\\x00\\x00\\x00\\x00\\x00\\x00\\x00\\x00\\x00\\x00\\x00\\x00\\x00\\x00\\x00\\x00\\x00\\x00\\x00\\x00\\x00\\x00\\x00\\x00\\x00-\\xfd\\xfa&}%\\xa7?\\x00\\x00\\x00\\x00\\x00\\x00\\x00\\x00\\x00\\x00\\x00\\x00\\x00\\x00\\x00\\x00DSF\\xeb]\\x9f\\xce?\\x00\\x00\\x00\\x00\\x00\\x00\\x00\\x004\\xb2\\x05\\xde\\x1b\\xdf\\xac?\\x00\\x00\\x00\\x00\\x00\\x00\\x00\\x00\\x00\\x00\\x00\\x00\\x00\\x00\\x00\\x00g W\\x8c\\x15\\xc8\\xb8?\\x00\\x00\\x00\\x00\\x00\\x00\\x00\\x00?\"T\\x0c\\x11\\x07\\xc7?Nk\\x8a&\\xc0ar?\\x00\\x00\\x00\\x00\\x00\\x00\\x00\\x00\\x00\\x00\\x00\\x00\\x00\\x00\\x00\\x00\\x8b\\xed\\xa4U\\xa4\"\\xcb?\\xb5\\xc3\\xfb+\\x98\\x84\\x85?\\x00\\x00\\x00\\x00\\x00\\x00\\x00\\x00\\x00\\x00\\x00\\x00\\x00\\x00\\x00\\x00\\x00\\x00\\x00\\x00\\x00\\x00\\x00\\x00\\x1f\\xce\"\\xf5\\x01\\xd6\\xb5?` \\xb8)E\\x80\\xa0?\\x00\\x00\\x00\\x00\\x00\\x00\\x00\\x00\\xeb:G\\x9c\\xf2\\xa9\\x94?\\x00\\x00\\x00\\x00\\x00\\x00\\x00\\x00\\x00\\x00\\x00\\x00\\x00\\x00\\x00\\x00\\x00\\x00\\x00\\x00\\x00\\x00\\x00\\x00\\xb5Z+\\xf3\\x99q\\xb1?\\x00\\x00\\x00\\x00\\x00\\x00\\x00\\x00`\\xee\\x99\\t\\xf2\\xc7\\x8d?[\\x92\\x11\\xdc W\\x89?hw\\x17\\x98\\x96#\\xb5?\\x00\\x00\\x00\\x00\\x00\\x00\\x00\\x00\\x1b\\xd9?`)m\\x04@\\x00\\x00\\x00\\x00\\x00\\x00\\x00\\x00\\x00\\x00\\x00\\x00\\x00\\x00\\x00\\x00\\x1e\\xcc\\x13\\xe58C\\xcc?\\x00\\x00\\x00\\x00\\x00\\x00\\x00\\x00\\x00\\x00\\x00\\x00\\x00\\x00\\x00\\x00\\x00\\x00\\x00\\x00\\x00\\x00\\x00\\x00\\x00\\x00\\x00\\x00\\x00\\x00\\x00\\x00\\x00\\x00\\x00\\x00\\x00\\x00\\x00\\x00\\x00\\x00\\x00\\x00\\x00\\x00\\x00\\x00\\x00\\x00\\x00\\x00\\x00\\x00\\x00\\x00\\x00\\x00\\x00\\x00\\x00\\x00\\x00\\x00\\x00\\x00\\x00\\x00\\x00\\x00\\x00\\x00\\x00\\x00\\x00\\x00\\x00\\x00\\x00\\x00\\x00\\x00\\x00\\x00\\x00\\x00\\x00\\x00\\x00\\x00\\x00\\x00\\x00\\x00\\x00\\x00\\x00\\x00\\x00\\x00\\x00\\x00\\x00\\x00`A\\xa3\\x80;o\\xce?\\x81a\\x1c\\x87\\xd1\\xd6\\x9a?\\x00\\x00\\x00\\x00\\x00\\x00\\x00\\x00\\x00\\x00\\x00\\x00\\x00\\x00\\x00\\x00Z\\xa1S\\xe8\\x95\\xa3\\xc8?\\x00\\x00\\x00\\x00\\x00\\x00\\x00\\x00\\x00\\x00\\x00\\x00\\x00\\x00\\x00\\x00\\x00\\x00\\x00\\x00\\x00\\x00\\x00\\x00\\x00\\x00\\x00\\x00\\x00\\x00\\x00\\x00\\x00\\x00\\x00\\x00\\x00\\x00\\x00\\x00\\x00\\x00\\x00\\x00\\x00\\x00\\x00\\x00\\x8b\\xd8\\x8e;\\xa1\\xce\\xd0?to\\x89X\\x97E\\xa1?\\xf5.N\\xcfz\\xe4l?\\x00\\x00\\x00\\x00\\x00\\x00\\x00\\x00\\xd4\\x9d\\x8c_\\xffE\\x9e?\\x00\\x00\\x00\\x00\\x00\\x00\\x00\\x00\\x00\\x00\\x00\\x00\\x00\\x00\\x00\\x00\\x00\\x00\\x00\\x00\\x00\\x00\\x00\\x00\\x00\\x00\\x00\\x00\\x00\\x00\\x00\\x00\\x00\\x00\\x00\\x00\\x00\\x00\\x00\\x00\\x00\\x00\\x00\\x00\\x00\\x00\\x00\\x00y\\xb6\\xa1b\\x01\\r\\xf0?\\x00\\x00\\x00\\x00\\x00\\x00\\x00\\x00\\x00\\x00\\x00\\x00\\x00\\x00\\x00\\x00\\x00\\x00\\x00\\x00\\x00\\x00\\x00\\x00\\x00\\x00\\x00\\x00\\x00\\x00\\x00\\x00\\x00\\x00\\x00\\x00\\x00\\x00\\x00\\x00\\xa3\\xad\\xd8d\\xc0\\xd6p?\\xc4p$gj\\xc0\\xaf?\\x00\\x00\\x00\\x00\\x00\\x00\\x00\\x00\\x00\\x00\\x00\\x00\\x00\\x00\\x00\\x00d\\xcb\\x9e8\\x05\\xc2\\x95?\\x00\\x00\\x00\\x00\\x00\\x00\\x00\\x00\\xd23\\xe9\\x0e<\\xfa\\xcf?\\x00\\x00\\x00\\x00\\x00\\x00\\x00\\x00\\x00\\x00\\x00\\x00\\x00\\x00\\x00\\x00\\x00\\x00\\x00\\x00\\x00\\x00\\x00\\x00\\x00\\x00\\x00\\x00\\x00\\x00\\x00\\x00\\x00\\x00\\x00\\x00\\x00\\x00\\x00\\x00\\x00\\x00\\x00\\x00\\x00\\x00\\x00\\x00\\x00\\x00\\x00\\x00\\x00\\x00\\x00\\x00\\x00\\x00\\x00\\x00\\x00\\x00\\x00\\x00\\xde\\xc7\\x81\\x16\\x8by\\xc3?\\x00\\x00\\x00\\x00\\x00\\x00\\x00\\x00\\x00\\x00\\x00\\x00\\x00\\x00\\x00\\x00DU\\xbb\\xcb\\x8e\\x8e\\xe6?\\x00\\x00\\x00\\x00\\x00\\x00\\x00\\x00I\\xfb\\xd1*\\x14p\\x98?SN\\xfdp\\x04\\xdcH?\\x00\\x00\\x00\\x00\\x00\\x00\\x00\\x00\\x00\\x00\\x00\\x00\\x00\\x00\\x00\\x00\\x00\\x00\\x00\\x00\\x00\\x00\\x00\\x00\\x00\\x00\\x00\\x00\\x00\\x00\\x00\\x00\\x00\\x00\\x00\\x00\\x00\\x00\\x00\\x00\\x00\\x00\\x00\\x00\\x00\\x00\\x00\\x00\\x00\\x00\\x00\\x00\\x00\\x00\\x00\\x00\\x00\\x00\\x00\\x00\\x00\\x00\\x00\\x00k\\x16<\\xeczt\\xd8?\\x00\\x00\\x00\\x00\\x00\\x00\\x00\\x00SN\\xfdp\\x04\\xdcH?\\x00\\x00\\x00\\x00\\x00\\x00\\x00\\x00\\x00\\x00\\x00\\x00\\x00\\x00\\x00\\x00\\x00\\x00\\x00\\x00\\x00\\x00\\x00\\x00\\x00\\x00\\x00\\x00\\x00\\x00\\x00\\x00\\x00\\x00\\x00\\x00\\x00\\x00\\x00\\x00\\x00\\x00\\x00\\x00\\x00\\x00\\x00\\x00\\x00\\x00\\x00\\x00\\x00\\x00\\x00\\x00\\x00\\x00\\x00\\x00\\x00\\x00\\x00\\x00k\\x16<\\xeczt\\xd8?\\x00\\x00\\x00\\x00\\x00\\x00\\x00\\x00\\x00\\x00\\x00\\x00\\x00\\x00\\x00\\x00\\x00\\x00\\x00\\x00\\x00\\x00\\x00\\x00\\x00\\x00\\x00\\x00\\x00\\x00\\x00\\x00\\x00\\x00\\x00\\x00\\x00\\x00\\x00\\x00\\x00\\x00\\x00\\x00\\x00\\x00\\x00\\x00\\x00\\x00\\x00\\x00\\x00\\x00\\x00\\x00N{6\\xac\\'\\xf9P?\\xe13OE\\x06|\\xd1?K=\\x97`v\\x1bj?\\x00\\x00\\x00\\x00\\x00\\x00\\x00\\x00\\xf6\\xf41\\xcdr\\xc8\\x93?\\x00\\x00\\x00\\x00\\x00\\x00\\x00\\x00\\xc6\\xd4y3\\x87S|?\\x00\\x00\\x00\\x00\\x00\\x00\\x00\\x00\\x00\\x00\\x00\\x00\\x00\\x00\\x00\\x00\\x9b\\x14k\\xf1\\xe4zm?\\x81c\\x83\\x0f\\xbc\\x0b\\xc9?\\x00\\x00\\x00\\x00\\x00\\x00\\x00\\x00\\xa2\\xac\\x9c\\xc9\\xcc\\x8c\\x86?\\xda\\xc7\\x07\\x05\\xbf\\xe8\\xca?\\xdbV\\xa3\\xe6\\xa8\\xfb\\xad?\\x00\\x00\\x00\\x00\\x00\\x00\\x00\\x00\\x12\\xa4\\xe3IJ*\\xe9?\\x00\\x00\\x00\\x00\\x00\\x00\\x00\\x00\\x00\\x00\\x00\\x00\\x00\\x00\\x00\\x00\\x00\\x00\\x00\\x00\\x00\\x00\\x00\\x00\\x98\\x18^\\xe9\\x96\\xbe\\xed?\\x00\\x00\\x00\\x00\\x00\\x00\\x00\\x00\\x00\\x00\\x00\\x00\\x00\\x00\\x00\\x00\\x00\\x00\\x00\\x00\\x00\\x00\\x00\\x00\\x00\\x00\\x00\\x00\\x00\\x00\\x00\\x00\\x00\\x00\\x00\\x00\\x00\\x00\\x00\\x00\\x00\\x00\\x00\\x00\\x00\\x00\\x00\\x00\\x00\\x00\\x00\\x00\\x00\\x00\\x00\\x00\\x00\\x00\\x00\\x00\\x00\\x00\\x00\\x00\\x11\\xe2\\xa7m#\\xbbN?\\x00\\x00\\x00\\x00\\x00\\x00\\x00\\x00\\x00\\x00\\x00\\x00\\x00\\x00\\x00\\x00\\x00\\x00\\x00\\x00\\x00\\x00\\x00\\x00\\x00\\x00\\x00\\x00\\x00\\x00\\x00\\x00\\x00\\x00\\x00\\x00\\x00\\x00\\x00\\x00\\xe9=\\x15\\x85\\xc4/b?\\x00\\x00\\x00\\x00\\x00\\x00\\x00\\x00\\xf22:\\xca\\x85\\xab\\xdf?\\x00\\x00\\x00\\x00\\x00\\x00\\x00\\x00\\x00\\x00\\x00\\x00\\x00\\x00\\x00\\x00\\x00\\x00\\x00\\x00\\x00\\x00\\x00\\x00\\x00\\x00\\x00\\x00\\x00\\x00\\x00\\x00\\x00\\x00\\x00\\x00\\x00\\x00\\x00\\x00\\x00\\x00\\x00\\x00\\x00\\x00\\x00\\x00\\x00\\x00\\x00\\x00\\x00\\x00\\x00\\x00i\\x88\\x02 q\\x95\\xe0?\\x00\\x00\\x00\\x00\\x00\\x00\\x00\\x00\\x00\\x00\\x00\\x00\\x00\\x00\\x00\\x00\\x00\\x00\\x00\\x00\\x00\\x00\\x00\\x00\\x00\\x00\\x00\\x00\\x00\\x00\\x00\\x00\\x00\\x00\\x00\\x00\\x00\\x00\\x00\\x00\\x84m\\xfdn\\x95\\xce`?\\x00\\x00\\x00\\x00\\x00\\x00\\x00\\x00\\x00\\x00\\x00\\x00\\x00\\x00\\x00\\x00\\x00\\x00\\x00\\x00\\x00\\x00\\x00\\x00\\x00\\x00\\x00\\x00\\x00\\x00\\x00\\x00\\x00\\x00\\x00\\x00\\x00\\x00\\x00\\x00\\xe3Xs\\xe4#\\x01k?\\x00\\x00\\x00\\x00\\x00\\x00\\x00\\x00\\xfe_\\x07\\xe8\\\\\\x07\\xdd?\\x00\\x00\\x00\\x00\\x00\\x00\\x00\\x00\\x00\\x00\\x00\\x00\\x00\\x00\\x00\\x00\\x00\\x00\\x00\\x00\\x00\\x00\\x00\\x00\\x00\\x00\\x00\\x00\\x00\\x00\\x00\\x00\\x00\\x00\\x00\\x00\\x00\\x00\\x00\\x00\\x81\\x15\\x9d\\xda\\xf2M\\xc3?\\x00\\x00\\x00\\x00\\x00\\x00\\x00\\x00\\xb5\\x86A\\x06j\\x80\\x8e?ay\\x9d()\\xc8\\xc9?\\x00\\x00\\x00\\x00\\x00\\x00\\x00\\x00\\x00\\x00\\x00\\x00\\x00\\x00\\x00\\x00q$tq%bX\\x07\\x00\\x00\\x00n_iter_q&K!X\\x10\\x00\\x00\\x00_sklearn_versionq\\'X\\x06\\x00\\x00\\x000.22.1q(ub.'"
      ]
     },
     "execution_count": 16,
     "metadata": {},
     "output_type": "execute_result"
    }
   ],
   "source": [
    "base64.b64decode(row[0])"
   ]
  },
  {
   "cell_type": "code",
   "execution_count": 15,
   "metadata": {},
   "outputs": [
    {
     "ename": "ModuleNotFoundError",
     "evalue": "No module named 'sklearn.decomposition._nmf'",
     "output_type": "error",
     "traceback": [
      "\u001b[0;31m---------------------------------------------------------------------------\u001b[0m",
      "\u001b[0;31mModuleNotFoundError\u001b[0m                       Traceback (most recent call last)",
      "\u001b[0;32m<ipython-input-15-fa195167cfc1>\u001b[0m in \u001b[0;36m<module>\u001b[0;34m\u001b[0m\n\u001b[1;32m      1\u001b[0m \u001b[0;32mwhile\u001b[0m \u001b[0mrow\u001b[0m\u001b[0;34m:\u001b[0m\u001b[0;34m\u001b[0m\u001b[0;34m\u001b[0m\u001b[0m\n\u001b[0;32m----> 2\u001b[0;31m     \u001b[0mmodel\u001b[0m \u001b[0;34m=\u001b[0m \u001b[0mpickle\u001b[0m\u001b[0;34m.\u001b[0m\u001b[0mloads\u001b[0m\u001b[0;34m(\u001b[0m\u001b[0mbase64\u001b[0m\u001b[0;34m.\u001b[0m\u001b[0mb64decode\u001b[0m\u001b[0;34m(\u001b[0m\u001b[0mrow\u001b[0m\u001b[0;34m[\u001b[0m\u001b[0;36m0\u001b[0m\u001b[0;34m]\u001b[0m\u001b[0;34m)\u001b[0m\u001b[0;34m)\u001b[0m\u001b[0;34m\u001b[0m\u001b[0;34m\u001b[0m\u001b[0m\n\u001b[0m\u001b[1;32m      3\u001b[0m     \u001b[0mprint\u001b[0m\u001b[0;34m(\u001b[0m\u001b[0mmodel\u001b[0m\u001b[0;34m)\u001b[0m\u001b[0;34m\u001b[0m\u001b[0;34m\u001b[0m\u001b[0m\n",
      "\u001b[0;31mModuleNotFoundError\u001b[0m: No module named 'sklearn.decomposition._nmf'"
     ]
    }
   ],
   "source": [
    "while row:\n",
    "    model = pickle.loads(base64.b64decode(row[0]))\n",
    "    print(model)"
   ]
  },
  {
   "cell_type": "code",
   "execution_count": 86,
   "metadata": {},
   "outputs": [
    {
     "ename": "KeyboardInterrupt",
     "evalue": "",
     "output_type": "error",
     "traceback": [
      "\u001b[0;31m---------------------------------------------------------------------------\u001b[0m",
      "\u001b[0;31mKeyboardInterrupt\u001b[0m                         Traceback (most recent call last)",
      "\u001b[0;32m<ipython-input-86-c86a70973b46>\u001b[0m in \u001b[0;36m<module>\u001b[0;34m\u001b[0m\n\u001b[1;32m      4\u001b[0m \u001b[0mselect_query\u001b[0m \u001b[0;34m=\u001b[0m \u001b[0;34m'''SELECT %s FROM EXPERIMENTS_2020_01_27 where dataset like 'solution%%' order by coherence_med5 desc, coherence_med15 desc, coherence_med10 desc  '''\u001b[0m  \u001b[0;34m%\u001b[0m \u001b[0;34m\", \"\u001b[0m\u001b[0;34m.\u001b[0m\u001b[0mjoin\u001b[0m\u001b[0;34m(\u001b[0m\u001b[0mcols_experiment_sql\u001b[0m\u001b[0;34m)\u001b[0m\u001b[0;34m\u001b[0m\u001b[0;34m\u001b[0m\u001b[0m\n\u001b[1;32m      5\u001b[0m \u001b[0;34m\u001b[0m\u001b[0m\n\u001b[0;32m----> 6\u001b[0;31m \u001b[0mcursor\u001b[0m\u001b[0;34m.\u001b[0m\u001b[0mexecute\u001b[0m\u001b[0;34m(\u001b[0m\u001b[0mselect_query\u001b[0m\u001b[0;34m)\u001b[0m\u001b[0;34m\u001b[0m\u001b[0;34m\u001b[0m\u001b[0m\n\u001b[0m\u001b[1;32m      7\u001b[0m \u001b[0mr\u001b[0m \u001b[0;34m=\u001b[0m \u001b[0mcursor\u001b[0m\u001b[0;34m.\u001b[0m\u001b[0mfetchall\u001b[0m\u001b[0;34m(\u001b[0m\u001b[0;34m)\u001b[0m\u001b[0;34m\u001b[0m\u001b[0;34m\u001b[0m\u001b[0m\n",
      "\u001b[0;32m~/miniconda3/envs/machineteaching/lib/python3.7/encodings/utf_8.py\u001b[0m in \u001b[0;36mdecode\u001b[0;34m(input, errors)\u001b[0m\n\u001b[1;32m     13\u001b[0m \u001b[0mencode\u001b[0m \u001b[0;34m=\u001b[0m \u001b[0mcodecs\u001b[0m\u001b[0;34m.\u001b[0m\u001b[0mutf_8_encode\u001b[0m\u001b[0;34m\u001b[0m\u001b[0;34m\u001b[0m\u001b[0m\n\u001b[1;32m     14\u001b[0m \u001b[0;34m\u001b[0m\u001b[0m\n\u001b[0;32m---> 15\u001b[0;31m \u001b[0;32mdef\u001b[0m \u001b[0mdecode\u001b[0m\u001b[0;34m(\u001b[0m\u001b[0minput\u001b[0m\u001b[0;34m,\u001b[0m \u001b[0merrors\u001b[0m\u001b[0;34m=\u001b[0m\u001b[0;34m'strict'\u001b[0m\u001b[0;34m)\u001b[0m\u001b[0;34m:\u001b[0m\u001b[0;34m\u001b[0m\u001b[0;34m\u001b[0m\u001b[0m\n\u001b[0m\u001b[1;32m     16\u001b[0m     \u001b[0;32mreturn\u001b[0m \u001b[0mcodecs\u001b[0m\u001b[0;34m.\u001b[0m\u001b[0mutf_8_decode\u001b[0m\u001b[0;34m(\u001b[0m\u001b[0minput\u001b[0m\u001b[0;34m,\u001b[0m \u001b[0merrors\u001b[0m\u001b[0;34m,\u001b[0m \u001b[0;32mTrue\u001b[0m\u001b[0;34m)\u001b[0m\u001b[0;34m\u001b[0m\u001b[0;34m\u001b[0m\u001b[0m\n\u001b[1;32m     17\u001b[0m \u001b[0;34m\u001b[0m\u001b[0m\n",
      "\u001b[0;31mKeyboardInterrupt\u001b[0m: "
     ]
    }
   ],
   "source": [
    "cols_experiment = ['experiment_id', 'k', 'dataset', 'min_df', 'is_binary', 'vectorizer', 'ngrams', 'token', 'method', 'coherence_med5', 'coherence_med10','coherence_med15']\n",
    "cols_experiment_sql = [\"EXPERIMENTS_2020_01_27.%s\" % item for item in cols_experiment]\n",
    "\n",
    "select_query = '''SELECT %s FROM EXPERIMENTS_2020_01_27 where dataset like 'solution%%' order by coherence_med5 desc, coherence_med15 desc, coherence_med10 desc  '''  % \", \".join(cols_experiment_sql)\n",
    "\n",
    "cursor.execute(select_query)\n",
    "r = cursor.fetchall()"
   ]
  },
  {
   "cell_type": "code",
   "execution_count": null,
   "metadata": {},
   "outputs": [],
   "source": [
    "df = pd.DataFrame(r, columns=cols_experiment)"
   ]
  },
  {
   "cell_type": "code",
   "execution_count": null,
   "metadata": {},
   "outputs": [],
   "source": [
    "df"
   ]
  }
 ],
 "metadata": {
  "kernelspec": {
   "display_name": "Django Shell-Plus",
   "language": "python",
   "name": "django_extensions"
  },
  "language_info": {
   "codemirror_mode": {
    "name": "ipython",
    "version": 3
   },
   "file_extension": ".py",
   "mimetype": "text/x-python",
   "name": "python",
   "nbconvert_exporter": "python",
   "pygments_lexer": "ipython3",
   "version": "3.7.3"
  }
 },
 "nbformat": 4,
 "nbformat_minor": 2
}
