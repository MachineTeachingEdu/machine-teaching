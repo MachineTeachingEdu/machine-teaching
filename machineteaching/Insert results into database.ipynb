{
 "cells": [
  {
   "cell_type": "code",
   "execution_count": 6,
   "metadata": {},
   "outputs": [],
   "source": [
    "import psycopg2\n",
    "import pickle\n",
    "import qgrid\n"
   ]
  },
  {
   "cell_type": "code",
   "execution_count": 7,
   "metadata": {},
   "outputs": [],
   "source": [
    "import pickle\n",
    "\n",
    "with open(\"clustering_bcc.pkl\", \"rb\") as pklfile:\n",
    "    df = pickle.load(pklfile)"
   ]
  },
  {
   "cell_type": "code",
   "execution_count": 9,
   "metadata": {},
   "outputs": [
    {
     "data": {
      "application/vnd.jupyter.widget-view+json": {
       "model_id": "a0097396b2e349cdb0801f2b64fb4ab7",
       "version_major": 2,
       "version_minor": 0
      },
      "text/plain": [
       "QgridWidget(grid_options={'fullWidthRows': True, 'syncColumnCellResize': True, 'forceFitColumns': True, 'defau…"
      ]
     },
     "metadata": {},
     "output_type": "display_data"
    }
   ],
   "source": [
    "qgrid.show_grid(df)"
   ]
  },
  {
   "cell_type": "code",
   "execution_count": 19,
   "metadata": {},
   "outputs": [],
   "source": [
    "connection = psycopg2.connect(user = \"machineteaching\",\n",
    "                                  password = \"***REMOVED***\",\n",
    "                                  host = \"localhost\",\n",
    "#                                   port = \"5432\",\n",
    "                                  database = \"machineteaching\")\n",
    "connection.autocommit=True\n",
    "cursor = connection.cursor()"
   ]
  },
  {
   "cell_type": "code",
   "execution_count": 22,
   "metadata": {},
   "outputs": [],
   "source": [
    "create_table_query = '''CREATE TABLE EXPERIMENTS\n",
    "    (EXPERIMENT_ID SERIAL PRIMARY KEY,\n",
    "    DATASET TEXT NOT NULL,\n",
    "    X REAL ARRAY NOT NULL,\n",
    "    Y REAL ARRAY NOT NULL,\n",
    "    VECTORIZER TEXT NOT NULL,\n",
    "    IS_BINARY BOOLEAN NOT NULL,\n",
    "    MIN_DF REAL NOT NULL,\n",
    "    DISTANCE TEXT NOT NULL,\n",
    "    K INTEGER NOT NULL,\n",
    "    METHOD TEXT NOT NULL,\n",
    "    MODEL TEXT NOT NULL,\n",
    "    GAP REAL NOT NULL,\n",
    "    GAP_STD REAL NOT NULL,\n",
    "    GAP_TIME REAL NOT NULL,\n",
    "    SILHOUETTE REAL NOT NULL,\n",
    "    SILHOUETTE_SAMPLES REAL ARRAY NOT NULL,\n",
    "    SILHOUETTE_TIME REAL NOT NULL,\n",
    "    COHERENCE_SAMPLES REAL ARRAY NOT NULL,\n",
    "    COHERENCE_MED REAL NOT NULL,\n",
    "    COHERENCE_STD REAL NOT NULL,\n",
    "    COHERENCE_TIME REAL NOT NULL,\n",
    "    COHERENCE_K INTEGER NOT NULL)\n",
    "    '''\n",
    "\n",
    "cursor.execute(create_table_query)\n",
    "connection.commit()"
   ]
  }
 ],
 "metadata": {
  "kernelspec": {
   "display_name": "Python 3",
   "language": "python",
   "name": "python3"
  },
  "language_info": {
   "codemirror_mode": {
    "name": "ipython",
    "version": 3
   },
   "file_extension": ".py",
   "mimetype": "text/x-python",
   "name": "python",
   "nbconvert_exporter": "python",
   "pygments_lexer": "ipython3",
   "version": "3.6.2"
  }
 },
 "nbformat": 4,
 "nbformat_minor": 2
}
