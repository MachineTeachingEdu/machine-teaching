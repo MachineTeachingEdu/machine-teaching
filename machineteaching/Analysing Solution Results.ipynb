{
 "cells": [
  {
   "cell_type": "code",
   "execution_count": 1,
   "metadata": {},
   "outputs": [],
   "source": [
    "#DB\n",
    "import os\n",
    "import psycopg2\n",
    "\n",
    "# Helpers\n",
    "import numpy as np\n",
    "import qgrid\n",
    "from tqdm import tqdm_notebook\n",
    "import time\n",
    "import pandas as pd\n",
    "\n",
    "# Evaluation\n",
    "from gap import define_k\n",
    "\n",
    "# Plots\n",
    "import matplotlib.pyplot as plt"
   ]
  },
  {
   "cell_type": "markdown",
   "metadata": {},
   "source": [
    "## Connect to DB"
   ]
  },
  {
   "cell_type": "code",
   "execution_count": 2,
   "metadata": {},
   "outputs": [],
   "source": [
    "connection = psycopg2.connect(user = \"machineteaching\",\n",
    "                                  password = \"***REMOVED***\",\n",
    "                                  host = \"localhost\",\n",
    "#                                   port = \"5432\",\n",
    "                                  database = \"machineteaching\")\n",
    "connection.autocommit=True\n",
    "cursor = connection.cursor()"
   ]
  },
  {
   "cell_type": "code",
   "execution_count": 4,
   "metadata": {
    "scrolled": false
   },
   "outputs": [
    {
     "data": {
      "application/vnd.jupyter.widget-view+json": {
       "model_id": "",
       "version_major": 2,
       "version_minor": 0
      },
      "text/plain": [
       "HBox(children=(IntProgress(value=0, description='vectorizer', max=3, style=ProgressStyle(description_width='in…"
      ]
     },
     "metadata": {},
     "output_type": "display_data"
    },
    {
     "data": {
      "application/vnd.jupyter.widget-view+json": {
       "model_id": "",
       "version_major": 2,
       "version_minor": 0
      },
      "text/plain": [
       "HBox(children=(IntProgress(value=0, description='min_df', max=9, style=ProgressStyle(description_width='initia…"
      ]
     },
     "metadata": {},
     "output_type": "display_data"
    },
    {
     "data": {
      "application/vnd.jupyter.widget-view+json": {
       "model_id": "",
       "version_major": 2,
       "version_minor": 0
      },
      "text/plain": [
       "HBox(children=(IntProgress(value=0, description='binary', max=2, style=ProgressStyle(description_width='initia…"
      ]
     },
     "metadata": {},
     "output_type": "display_data"
    },
    {
     "data": {
      "application/vnd.jupyter.widget-view+json": {
       "model_id": "",
       "version_major": 2,
       "version_minor": 0
      },
      "text/plain": [
       "HBox(children=(IntProgress(value=0, description='metric', max=3, style=ProgressStyle(description_width='initia…"
      ]
     },
     "metadata": {},
     "output_type": "display_data"
    },
    {
     "data": {
      "application/vnd.jupyter.widget-view+json": {
       "model_id": "",
       "version_major": 2,
       "version_minor": 0
      },
      "text/plain": [
       "HBox(children=(IntProgress(value=0, description='method', max=1, style=ProgressStyle(description_width='initia…"
      ]
     },
     "metadata": {},
     "output_type": "display_data"
    },
    {
     "data": {
      "application/vnd.jupyter.widget-view+json": {
       "model_id": "",
       "version_major": 2,
       "version_minor": 0
      },
      "text/plain": [
       "HBox(children=(IntProgress(value=0, description='method', max=1, style=ProgressStyle(description_width='initia…"
      ]
     },
     "metadata": {},
     "output_type": "display_data"
    },
    {
     "data": {
      "application/vnd.jupyter.widget-view+json": {
       "model_id": "",
       "version_major": 2,
       "version_minor": 0
      },
      "text/plain": [
       "HBox(children=(IntProgress(value=0, description='method', max=1, style=ProgressStyle(description_width='initia…"
      ]
     },
     "metadata": {},
     "output_type": "display_data"
    },
    {
     "data": {
      "application/vnd.jupyter.widget-view+json": {
       "model_id": "",
       "version_major": 2,
       "version_minor": 0
      },
      "text/plain": [
       "HBox(children=(IntProgress(value=0, description='metric', max=3, style=ProgressStyle(description_width='initia…"
      ]
     },
     "metadata": {},
     "output_type": "display_data"
    },
    {
     "data": {
      "application/vnd.jupyter.widget-view+json": {
       "model_id": "",
       "version_major": 2,
       "version_minor": 0
      },
      "text/plain": [
       "HBox(children=(IntProgress(value=0, description='method', max=1, style=ProgressStyle(description_width='initia…"
      ]
     },
     "metadata": {},
     "output_type": "display_data"
    },
    {
     "data": {
      "application/vnd.jupyter.widget-view+json": {
       "model_id": "",
       "version_major": 2,
       "version_minor": 0
      },
      "text/plain": [
       "HBox(children=(IntProgress(value=0, description='method', max=1, style=ProgressStyle(description_width='initia…"
      ]
     },
     "metadata": {},
     "output_type": "display_data"
    },
    {
     "name": "stderr",
     "output_type": "stream",
     "text": [
      "/home/lmoraes/machine-teaching/machineteaching/gap.py:97: RuntimeWarning: invalid value encountered in greater\n",
      "  gap_diff = np.array(gaps) > diff\n"
     ]
    },
    {
     "data": {
      "application/vnd.jupyter.widget-view+json": {
       "model_id": "",
       "version_major": 2,
       "version_minor": 0
      },
      "text/plain": [
       "HBox(children=(IntProgress(value=0, description='method', max=1, style=ProgressStyle(description_width='initia…"
      ]
     },
     "metadata": {},
     "output_type": "display_data"
    },
    {
     "data": {
      "application/vnd.jupyter.widget-view+json": {
       "model_id": "",
       "version_major": 2,
       "version_minor": 0
      },
      "text/plain": [
       "HBox(children=(IntProgress(value=0, description='binary', max=2, style=ProgressStyle(description_width='initia…"
      ]
     },
     "metadata": {},
     "output_type": "display_data"
    },
    {
     "data": {
      "application/vnd.jupyter.widget-view+json": {
       "model_id": "",
       "version_major": 2,
       "version_minor": 0
      },
      "text/plain": [
       "HBox(children=(IntProgress(value=0, description='metric', max=3, style=ProgressStyle(description_width='initia…"
      ]
     },
     "metadata": {},
     "output_type": "display_data"
    },
    {
     "data": {
      "application/vnd.jupyter.widget-view+json": {
       "model_id": "",
       "version_major": 2,
       "version_minor": 0
      },
      "text/plain": [
       "HBox(children=(IntProgress(value=0, description='method', max=1, style=ProgressStyle(description_width='initia…"
      ]
     },
     "metadata": {},
     "output_type": "display_data"
    },
    {
     "data": {
      "application/vnd.jupyter.widget-view+json": {
       "model_id": "",
       "version_major": 2,
       "version_minor": 0
      },
      "text/plain": [
       "HBox(children=(IntProgress(value=0, description='method', max=1, style=ProgressStyle(description_width='initia…"
      ]
     },
     "metadata": {},
     "output_type": "display_data"
    },
    {
     "data": {
      "application/vnd.jupyter.widget-view+json": {
       "model_id": "",
       "version_major": 2,
       "version_minor": 0
      },
      "text/plain": [
       "HBox(children=(IntProgress(value=0, description='method', max=1, style=ProgressStyle(description_width='initia…"
      ]
     },
     "metadata": {},
     "output_type": "display_data"
    },
    {
     "data": {
      "application/vnd.jupyter.widget-view+json": {
       "model_id": "",
       "version_major": 2,
       "version_minor": 0
      },
      "text/plain": [
       "HBox(children=(IntProgress(value=0, description='metric', max=3, style=ProgressStyle(description_width='initia…"
      ]
     },
     "metadata": {},
     "output_type": "display_data"
    },
    {
     "data": {
      "application/vnd.jupyter.widget-view+json": {
       "model_id": "",
       "version_major": 2,
       "version_minor": 0
      },
      "text/plain": [
       "HBox(children=(IntProgress(value=0, description='method', max=1, style=ProgressStyle(description_width='initia…"
      ]
     },
     "metadata": {},
     "output_type": "display_data"
    },
    {
     "data": {
      "application/vnd.jupyter.widget-view+json": {
       "model_id": "",
       "version_major": 2,
       "version_minor": 0
      },
      "text/plain": [
       "HBox(children=(IntProgress(value=0, description='method', max=1, style=ProgressStyle(description_width='initia…"
      ]
     },
     "metadata": {},
     "output_type": "display_data"
    },
    {
     "data": {
      "application/vnd.jupyter.widget-view+json": {
       "model_id": "",
       "version_major": 2,
       "version_minor": 0
      },
      "text/plain": [
       "HBox(children=(IntProgress(value=0, description='method', max=1, style=ProgressStyle(description_width='initia…"
      ]
     },
     "metadata": {},
     "output_type": "display_data"
    },
    {
     "data": {
      "application/vnd.jupyter.widget-view+json": {
       "model_id": "",
       "version_major": 2,
       "version_minor": 0
      },
      "text/plain": [
       "HBox(children=(IntProgress(value=0, description='binary', max=2, style=ProgressStyle(description_width='initia…"
      ]
     },
     "metadata": {},
     "output_type": "display_data"
    },
    {
     "data": {
      "application/vnd.jupyter.widget-view+json": {
       "model_id": "",
       "version_major": 2,
       "version_minor": 0
      },
      "text/plain": [
       "HBox(children=(IntProgress(value=0, description='metric', max=3, style=ProgressStyle(description_width='initia…"
      ]
     },
     "metadata": {},
     "output_type": "display_data"
    },
    {
     "data": {
      "application/vnd.jupyter.widget-view+json": {
       "model_id": "",
       "version_major": 2,
       "version_minor": 0
      },
      "text/plain": [
       "HBox(children=(IntProgress(value=0, description='method', max=1, style=ProgressStyle(description_width='initia…"
      ]
     },
     "metadata": {},
     "output_type": "display_data"
    },
    {
     "data": {
      "application/vnd.jupyter.widget-view+json": {
       "model_id": "",
       "version_major": 2,
       "version_minor": 0
      },
      "text/plain": [
       "HBox(children=(IntProgress(value=0, description='method', max=1, style=ProgressStyle(description_width='initia…"
      ]
     },
     "metadata": {},
     "output_type": "display_data"
    },
    {
     "data": {
      "application/vnd.jupyter.widget-view+json": {
       "model_id": "",
       "version_major": 2,
       "version_minor": 0
      },
      "text/plain": [
       "HBox(children=(IntProgress(value=0, description='method', max=1, style=ProgressStyle(description_width='initia…"
      ]
     },
     "metadata": {},
     "output_type": "display_data"
    },
    {
     "data": {
      "application/vnd.jupyter.widget-view+json": {
       "model_id": "",
       "version_major": 2,
       "version_minor": 0
      },
      "text/plain": [
       "HBox(children=(IntProgress(value=0, description='metric', max=3, style=ProgressStyle(description_width='initia…"
      ]
     },
     "metadata": {},
     "output_type": "display_data"
    },
    {
     "data": {
      "application/vnd.jupyter.widget-view+json": {
       "model_id": "",
       "version_major": 2,
       "version_minor": 0
      },
      "text/plain": [
       "HBox(children=(IntProgress(value=0, description='method', max=1, style=ProgressStyle(description_width='initia…"
      ]
     },
     "metadata": {},
     "output_type": "display_data"
    },
    {
     "data": {
      "application/vnd.jupyter.widget-view+json": {
       "model_id": "",
       "version_major": 2,
       "version_minor": 0
      },
      "text/plain": [
       "HBox(children=(IntProgress(value=0, description='method', max=1, style=ProgressStyle(description_width='initia…"
      ]
     },
     "metadata": {},
     "output_type": "display_data"
    },
    {
     "data": {
      "application/vnd.jupyter.widget-view+json": {
       "model_id": "",
       "version_major": 2,
       "version_minor": 0
      },
      "text/plain": [
       "HBox(children=(IntProgress(value=0, description='method', max=1, style=ProgressStyle(description_width='initia…"
      ]
     },
     "metadata": {},
     "output_type": "display_data"
    },
    {
     "data": {
      "application/vnd.jupyter.widget-view+json": {
       "model_id": "",
       "version_major": 2,
       "version_minor": 0
      },
      "text/plain": [
       "HBox(children=(IntProgress(value=0, description='binary', max=2, style=ProgressStyle(description_width='initia…"
      ]
     },
     "metadata": {},
     "output_type": "display_data"
    },
    {
     "data": {
      "application/vnd.jupyter.widget-view+json": {
       "model_id": "",
       "version_major": 2,
       "version_minor": 0
      },
      "text/plain": [
       "HBox(children=(IntProgress(value=0, description='metric', max=3, style=ProgressStyle(description_width='initia…"
      ]
     },
     "metadata": {},
     "output_type": "display_data"
    },
    {
     "data": {
      "application/vnd.jupyter.widget-view+json": {
       "model_id": "",
       "version_major": 2,
       "version_minor": 0
      },
      "text/plain": [
       "HBox(children=(IntProgress(value=0, description='method', max=1, style=ProgressStyle(description_width='initia…"
      ]
     },
     "metadata": {},
     "output_type": "display_data"
    },
    {
     "data": {
      "application/vnd.jupyter.widget-view+json": {
       "model_id": "",
       "version_major": 2,
       "version_minor": 0
      },
      "text/plain": [
       "HBox(children=(IntProgress(value=0, description='method', max=1, style=ProgressStyle(description_width='initia…"
      ]
     },
     "metadata": {},
     "output_type": "display_data"
    },
    {
     "data": {
      "application/vnd.jupyter.widget-view+json": {
       "model_id": "",
       "version_major": 2,
       "version_minor": 0
      },
      "text/plain": [
       "HBox(children=(IntProgress(value=0, description='method', max=1, style=ProgressStyle(description_width='initia…"
      ]
     },
     "metadata": {},
     "output_type": "display_data"
    },
    {
     "data": {
      "application/vnd.jupyter.widget-view+json": {
       "model_id": "",
       "version_major": 2,
       "version_minor": 0
      },
      "text/plain": [
       "HBox(children=(IntProgress(value=0, description='metric', max=3, style=ProgressStyle(description_width='initia…"
      ]
     },
     "metadata": {},
     "output_type": "display_data"
    },
    {
     "data": {
      "application/vnd.jupyter.widget-view+json": {
       "model_id": "",
       "version_major": 2,
       "version_minor": 0
      },
      "text/plain": [
       "HBox(children=(IntProgress(value=0, description='method', max=1, style=ProgressStyle(description_width='initia…"
      ]
     },
     "metadata": {},
     "output_type": "display_data"
    },
    {
     "data": {
      "application/vnd.jupyter.widget-view+json": {
       "model_id": "",
       "version_major": 2,
       "version_minor": 0
      },
      "text/plain": [
       "HBox(children=(IntProgress(value=0, description='method', max=1, style=ProgressStyle(description_width='initia…"
      ]
     },
     "metadata": {},
     "output_type": "display_data"
    },
    {
     "data": {
      "application/vnd.jupyter.widget-view+json": {
       "model_id": "",
       "version_major": 2,
       "version_minor": 0
      },
      "text/plain": [
       "HBox(children=(IntProgress(value=0, description='method', max=1, style=ProgressStyle(description_width='initia…"
      ]
     },
     "metadata": {},
     "output_type": "display_data"
    },
    {
     "data": {
      "application/vnd.jupyter.widget-view+json": {
       "model_id": "",
       "version_major": 2,
       "version_minor": 0
      },
      "text/plain": [
       "HBox(children=(IntProgress(value=0, description='binary', max=2, style=ProgressStyle(description_width='initia…"
      ]
     },
     "metadata": {},
     "output_type": "display_data"
    },
    {
     "data": {
      "application/vnd.jupyter.widget-view+json": {
       "model_id": "",
       "version_major": 2,
       "version_minor": 0
      },
      "text/plain": [
       "HBox(children=(IntProgress(value=0, description='metric', max=3, style=ProgressStyle(description_width='initia…"
      ]
     },
     "metadata": {},
     "output_type": "display_data"
    },
    {
     "data": {
      "application/vnd.jupyter.widget-view+json": {
       "model_id": "",
       "version_major": 2,
       "version_minor": 0
      },
      "text/plain": [
       "HBox(children=(IntProgress(value=0, description='method', max=1, style=ProgressStyle(description_width='initia…"
      ]
     },
     "metadata": {},
     "output_type": "display_data"
    },
    {
     "data": {
      "application/vnd.jupyter.widget-view+json": {
       "model_id": "",
       "version_major": 2,
       "version_minor": 0
      },
      "text/plain": [
       "HBox(children=(IntProgress(value=0, description='method', max=1, style=ProgressStyle(description_width='initia…"
      ]
     },
     "metadata": {},
     "output_type": "display_data"
    },
    {
     "data": {
      "application/vnd.jupyter.widget-view+json": {
       "model_id": "",
       "version_major": 2,
       "version_minor": 0
      },
      "text/plain": [
       "HBox(children=(IntProgress(value=0, description='method', max=1, style=ProgressStyle(description_width='initia…"
      ]
     },
     "metadata": {},
     "output_type": "display_data"
    },
    {
     "data": {
      "application/vnd.jupyter.widget-view+json": {
       "model_id": "",
       "version_major": 2,
       "version_minor": 0
      },
      "text/plain": [
       "HBox(children=(IntProgress(value=0, description='metric', max=3, style=ProgressStyle(description_width='initia…"
      ]
     },
     "metadata": {},
     "output_type": "display_data"
    },
    {
     "data": {
      "application/vnd.jupyter.widget-view+json": {
       "model_id": "",
       "version_major": 2,
       "version_minor": 0
      },
      "text/plain": [
       "HBox(children=(IntProgress(value=0, description='method', max=1, style=ProgressStyle(description_width='initia…"
      ]
     },
     "metadata": {},
     "output_type": "display_data"
    },
    {
     "data": {
      "application/vnd.jupyter.widget-view+json": {
       "model_id": "",
       "version_major": 2,
       "version_minor": 0
      },
      "text/plain": [
       "HBox(children=(IntProgress(value=0, description='method', max=1, style=ProgressStyle(description_width='initia…"
      ]
     },
     "metadata": {},
     "output_type": "display_data"
    },
    {
     "data": {
      "application/vnd.jupyter.widget-view+json": {
       "model_id": "",
       "version_major": 2,
       "version_minor": 0
      },
      "text/plain": [
       "HBox(children=(IntProgress(value=0, description='method', max=1, style=ProgressStyle(description_width='initia…"
      ]
     },
     "metadata": {},
     "output_type": "display_data"
    },
    {
     "data": {
      "application/vnd.jupyter.widget-view+json": {
       "model_id": "",
       "version_major": 2,
       "version_minor": 0
      },
      "text/plain": [
       "HBox(children=(IntProgress(value=0, description='binary', max=2, style=ProgressStyle(description_width='initia…"
      ]
     },
     "metadata": {},
     "output_type": "display_data"
    },
    {
     "data": {
      "application/vnd.jupyter.widget-view+json": {
       "model_id": "",
       "version_major": 2,
       "version_minor": 0
      },
      "text/plain": [
       "HBox(children=(IntProgress(value=0, description='metric', max=3, style=ProgressStyle(description_width='initia…"
      ]
     },
     "metadata": {},
     "output_type": "display_data"
    },
    {
     "data": {
      "application/vnd.jupyter.widget-view+json": {
       "model_id": "",
       "version_major": 2,
       "version_minor": 0
      },
      "text/plain": [
       "HBox(children=(IntProgress(value=0, description='method', max=1, style=ProgressStyle(description_width='initia…"
      ]
     },
     "metadata": {},
     "output_type": "display_data"
    },
    {
     "data": {
      "application/vnd.jupyter.widget-view+json": {
       "model_id": "",
       "version_major": 2,
       "version_minor": 0
      },
      "text/plain": [
       "HBox(children=(IntProgress(value=0, description='method', max=1, style=ProgressStyle(description_width='initia…"
      ]
     },
     "metadata": {},
     "output_type": "display_data"
    },
    {
     "data": {
      "application/vnd.jupyter.widget-view+json": {
       "model_id": "",
       "version_major": 2,
       "version_minor": 0
      },
      "text/plain": [
       "HBox(children=(IntProgress(value=0, description='method', max=1, style=ProgressStyle(description_width='initia…"
      ]
     },
     "metadata": {},
     "output_type": "display_data"
    },
    {
     "data": {
      "application/vnd.jupyter.widget-view+json": {
       "model_id": "",
       "version_major": 2,
       "version_minor": 0
      },
      "text/plain": [
       "HBox(children=(IntProgress(value=0, description='metric', max=3, style=ProgressStyle(description_width='initia…"
      ]
     },
     "metadata": {},
     "output_type": "display_data"
    },
    {
     "data": {
      "application/vnd.jupyter.widget-view+json": {
       "model_id": "",
       "version_major": 2,
       "version_minor": 0
      },
      "text/plain": [
       "HBox(children=(IntProgress(value=0, description='method', max=1, style=ProgressStyle(description_width='initia…"
      ]
     },
     "metadata": {},
     "output_type": "display_data"
    },
    {
     "data": {
      "application/vnd.jupyter.widget-view+json": {
       "model_id": "",
       "version_major": 2,
       "version_minor": 0
      },
      "text/plain": [
       "HBox(children=(IntProgress(value=0, description='method', max=1, style=ProgressStyle(description_width='initia…"
      ]
     },
     "metadata": {},
     "output_type": "display_data"
    },
    {
     "data": {
      "application/vnd.jupyter.widget-view+json": {
       "model_id": "",
       "version_major": 2,
       "version_minor": 0
      },
      "text/plain": [
       "HBox(children=(IntProgress(value=0, description='method', max=1, style=ProgressStyle(description_width='initia…"
      ]
     },
     "metadata": {},
     "output_type": "display_data"
    },
    {
     "data": {
      "application/vnd.jupyter.widget-view+json": {
       "model_id": "",
       "version_major": 2,
       "version_minor": 0
      },
      "text/plain": [
       "HBox(children=(IntProgress(value=0, description='binary', max=2, style=ProgressStyle(description_width='initia…"
      ]
     },
     "metadata": {},
     "output_type": "display_data"
    },
    {
     "data": {
      "application/vnd.jupyter.widget-view+json": {
       "model_id": "",
       "version_major": 2,
       "version_minor": 0
      },
      "text/plain": [
       "HBox(children=(IntProgress(value=0, description='metric', max=3, style=ProgressStyle(description_width='initia…"
      ]
     },
     "metadata": {},
     "output_type": "display_data"
    },
    {
     "data": {
      "application/vnd.jupyter.widget-view+json": {
       "model_id": "",
       "version_major": 2,
       "version_minor": 0
      },
      "text/plain": [
       "HBox(children=(IntProgress(value=0, description='method', max=1, style=ProgressStyle(description_width='initia…"
      ]
     },
     "metadata": {},
     "output_type": "display_data"
    },
    {
     "data": {
      "application/vnd.jupyter.widget-view+json": {
       "model_id": "",
       "version_major": 2,
       "version_minor": 0
      },
      "text/plain": [
       "HBox(children=(IntProgress(value=0, description='method', max=1, style=ProgressStyle(description_width='initia…"
      ]
     },
     "metadata": {},
     "output_type": "display_data"
    },
    {
     "data": {
      "application/vnd.jupyter.widget-view+json": {
       "model_id": "",
       "version_major": 2,
       "version_minor": 0
      },
      "text/plain": [
       "HBox(children=(IntProgress(value=0, description='method', max=1, style=ProgressStyle(description_width='initia…"
      ]
     },
     "metadata": {},
     "output_type": "display_data"
    },
    {
     "data": {
      "application/vnd.jupyter.widget-view+json": {
       "model_id": "",
       "version_major": 2,
       "version_minor": 0
      },
      "text/plain": [
       "HBox(children=(IntProgress(value=0, description='metric', max=3, style=ProgressStyle(description_width='initia…"
      ]
     },
     "metadata": {},
     "output_type": "display_data"
    },
    {
     "data": {
      "application/vnd.jupyter.widget-view+json": {
       "model_id": "",
       "version_major": 2,
       "version_minor": 0
      },
      "text/plain": [
       "HBox(children=(IntProgress(value=0, description='method', max=1, style=ProgressStyle(description_width='initia…"
      ]
     },
     "metadata": {},
     "output_type": "display_data"
    },
    {
     "data": {
      "application/vnd.jupyter.widget-view+json": {
       "model_id": "",
       "version_major": 2,
       "version_minor": 0
      },
      "text/plain": [
       "HBox(children=(IntProgress(value=0, description='method', max=1, style=ProgressStyle(description_width='initia…"
      ]
     },
     "metadata": {},
     "output_type": "display_data"
    },
    {
     "data": {
      "application/vnd.jupyter.widget-view+json": {
       "model_id": "",
       "version_major": 2,
       "version_minor": 0
      },
      "text/plain": [
       "HBox(children=(IntProgress(value=0, description='method', max=1, style=ProgressStyle(description_width='initia…"
      ]
     },
     "metadata": {},
     "output_type": "display_data"
    },
    {
     "data": {
      "application/vnd.jupyter.widget-view+json": {
       "model_id": "",
       "version_major": 2,
       "version_minor": 0
      },
      "text/plain": [
       "HBox(children=(IntProgress(value=0, description='binary', max=2, style=ProgressStyle(description_width='initia…"
      ]
     },
     "metadata": {},
     "output_type": "display_data"
    },
    {
     "data": {
      "application/vnd.jupyter.widget-view+json": {
       "model_id": "",
       "version_major": 2,
       "version_minor": 0
      },
      "text/plain": [
       "HBox(children=(IntProgress(value=0, description='metric', max=3, style=ProgressStyle(description_width='initia…"
      ]
     },
     "metadata": {},
     "output_type": "display_data"
    },
    {
     "data": {
      "application/vnd.jupyter.widget-view+json": {
       "model_id": "",
       "version_major": 2,
       "version_minor": 0
      },
      "text/plain": [
       "HBox(children=(IntProgress(value=0, description='method', max=1, style=ProgressStyle(description_width='initia…"
      ]
     },
     "metadata": {},
     "output_type": "display_data"
    },
    {
     "data": {
      "application/vnd.jupyter.widget-view+json": {
       "model_id": "",
       "version_major": 2,
       "version_minor": 0
      },
      "text/plain": [
       "HBox(children=(IntProgress(value=0, description='method', max=1, style=ProgressStyle(description_width='initia…"
      ]
     },
     "metadata": {},
     "output_type": "display_data"
    },
    {
     "data": {
      "application/vnd.jupyter.widget-view+json": {
       "model_id": "",
       "version_major": 2,
       "version_minor": 0
      },
      "text/plain": [
       "HBox(children=(IntProgress(value=0, description='method', max=1, style=ProgressStyle(description_width='initia…"
      ]
     },
     "metadata": {},
     "output_type": "display_data"
    },
    {
     "data": {
      "application/vnd.jupyter.widget-view+json": {
       "model_id": "",
       "version_major": 2,
       "version_minor": 0
      },
      "text/plain": [
       "HBox(children=(IntProgress(value=0, description='metric', max=3, style=ProgressStyle(description_width='initia…"
      ]
     },
     "metadata": {},
     "output_type": "display_data"
    },
    {
     "data": {
      "application/vnd.jupyter.widget-view+json": {
       "model_id": "",
       "version_major": 2,
       "version_minor": 0
      },
      "text/plain": [
       "HBox(children=(IntProgress(value=0, description='method', max=1, style=ProgressStyle(description_width='initia…"
      ]
     },
     "metadata": {},
     "output_type": "display_data"
    },
    {
     "data": {
      "application/vnd.jupyter.widget-view+json": {
       "model_id": "",
       "version_major": 2,
       "version_minor": 0
      },
      "text/plain": [
       "HBox(children=(IntProgress(value=0, description='method', max=1, style=ProgressStyle(description_width='initia…"
      ]
     },
     "metadata": {},
     "output_type": "display_data"
    },
    {
     "data": {
      "application/vnd.jupyter.widget-view+json": {
       "model_id": "",
       "version_major": 2,
       "version_minor": 0
      },
      "text/plain": [
       "HBox(children=(IntProgress(value=0, description='method', max=1, style=ProgressStyle(description_width='initia…"
      ]
     },
     "metadata": {},
     "output_type": "display_data"
    },
    {
     "data": {
      "application/vnd.jupyter.widget-view+json": {
       "model_id": "",
       "version_major": 2,
       "version_minor": 0
      },
      "text/plain": [
       "HBox(children=(IntProgress(value=0, description='binary', max=2, style=ProgressStyle(description_width='initia…"
      ]
     },
     "metadata": {},
     "output_type": "display_data"
    },
    {
     "data": {
      "application/vnd.jupyter.widget-view+json": {
       "model_id": "",
       "version_major": 2,
       "version_minor": 0
      },
      "text/plain": [
       "HBox(children=(IntProgress(value=0, description='metric', max=3, style=ProgressStyle(description_width='initia…"
      ]
     },
     "metadata": {},
     "output_type": "display_data"
    },
    {
     "data": {
      "application/vnd.jupyter.widget-view+json": {
       "model_id": "",
       "version_major": 2,
       "version_minor": 0
      },
      "text/plain": [
       "HBox(children=(IntProgress(value=0, description='method', max=1, style=ProgressStyle(description_width='initia…"
      ]
     },
     "metadata": {},
     "output_type": "display_data"
    },
    {
     "data": {
      "application/vnd.jupyter.widget-view+json": {
       "model_id": "",
       "version_major": 2,
       "version_minor": 0
      },
      "text/plain": [
       "HBox(children=(IntProgress(value=0, description='method', max=1, style=ProgressStyle(description_width='initia…"
      ]
     },
     "metadata": {},
     "output_type": "display_data"
    },
    {
     "data": {
      "application/vnd.jupyter.widget-view+json": {
       "model_id": "",
       "version_major": 2,
       "version_minor": 0
      },
      "text/plain": [
       "HBox(children=(IntProgress(value=0, description='method', max=1, style=ProgressStyle(description_width='initia…"
      ]
     },
     "metadata": {},
     "output_type": "display_data"
    },
    {
     "data": {
      "application/vnd.jupyter.widget-view+json": {
       "model_id": "",
       "version_major": 2,
       "version_minor": 0
      },
      "text/plain": [
       "HBox(children=(IntProgress(value=0, description='metric', max=3, style=ProgressStyle(description_width='initia…"
      ]
     },
     "metadata": {},
     "output_type": "display_data"
    },
    {
     "data": {
      "application/vnd.jupyter.widget-view+json": {
       "model_id": "",
       "version_major": 2,
       "version_minor": 0
      },
      "text/plain": [
       "HBox(children=(IntProgress(value=0, description='method', max=1, style=ProgressStyle(description_width='initia…"
      ]
     },
     "metadata": {},
     "output_type": "display_data"
    },
    {
     "data": {
      "application/vnd.jupyter.widget-view+json": {
       "model_id": "",
       "version_major": 2,
       "version_minor": 0
      },
      "text/plain": [
       "HBox(children=(IntProgress(value=0, description='method', max=1, style=ProgressStyle(description_width='initia…"
      ]
     },
     "metadata": {},
     "output_type": "display_data"
    },
    {
     "data": {
      "application/vnd.jupyter.widget-view+json": {
       "model_id": "",
       "version_major": 2,
       "version_minor": 0
      },
      "text/plain": [
       "HBox(children=(IntProgress(value=0, description='method', max=1, style=ProgressStyle(description_width='initia…"
      ]
     },
     "metadata": {},
     "output_type": "display_data"
    },
    {
     "data": {
      "application/vnd.jupyter.widget-view+json": {
       "model_id": "",
       "version_major": 2,
       "version_minor": 0
      },
      "text/plain": [
       "HBox(children=(IntProgress(value=0, description='min_df', max=9, style=ProgressStyle(description_width='initia…"
      ]
     },
     "metadata": {},
     "output_type": "display_data"
    },
    {
     "data": {
      "application/vnd.jupyter.widget-view+json": {
       "model_id": "",
       "version_major": 2,
       "version_minor": 0
      },
      "text/plain": [
       "HBox(children=(IntProgress(value=0, description='binary', max=2, style=ProgressStyle(description_width='initia…"
      ]
     },
     "metadata": {},
     "output_type": "display_data"
    },
    {
     "data": {
      "application/vnd.jupyter.widget-view+json": {
       "model_id": "",
       "version_major": 2,
       "version_minor": 0
      },
      "text/plain": [
       "HBox(children=(IntProgress(value=0, description='metric', max=3, style=ProgressStyle(description_width='initia…"
      ]
     },
     "metadata": {},
     "output_type": "display_data"
    },
    {
     "data": {
      "application/vnd.jupyter.widget-view+json": {
       "model_id": "",
       "version_major": 2,
       "version_minor": 0
      },
      "text/plain": [
       "HBox(children=(IntProgress(value=0, description='method', max=1, style=ProgressStyle(description_width='initia…"
      ]
     },
     "metadata": {},
     "output_type": "display_data"
    },
    {
     "data": {
      "application/vnd.jupyter.widget-view+json": {
       "model_id": "",
       "version_major": 2,
       "version_minor": 0
      },
      "text/plain": [
       "HBox(children=(IntProgress(value=0, description='method', max=1, style=ProgressStyle(description_width='initia…"
      ]
     },
     "metadata": {},
     "output_type": "display_data"
    },
    {
     "data": {
      "application/vnd.jupyter.widget-view+json": {
       "model_id": "",
       "version_major": 2,
       "version_minor": 0
      },
      "text/plain": [
       "HBox(children=(IntProgress(value=0, description='method', max=1, style=ProgressStyle(description_width='initia…"
      ]
     },
     "metadata": {},
     "output_type": "display_data"
    },
    {
     "data": {
      "application/vnd.jupyter.widget-view+json": {
       "model_id": "",
       "version_major": 2,
       "version_minor": 0
      },
      "text/plain": [
       "HBox(children=(IntProgress(value=0, description='metric', max=3, style=ProgressStyle(description_width='initia…"
      ]
     },
     "metadata": {},
     "output_type": "display_data"
    },
    {
     "data": {
      "application/vnd.jupyter.widget-view+json": {
       "model_id": "",
       "version_major": 2,
       "version_minor": 0
      },
      "text/plain": [
       "HBox(children=(IntProgress(value=0, description='method', max=1, style=ProgressStyle(description_width='initia…"
      ]
     },
     "metadata": {},
     "output_type": "display_data"
    },
    {
     "data": {
      "application/vnd.jupyter.widget-view+json": {
       "model_id": "",
       "version_major": 2,
       "version_minor": 0
      },
      "text/plain": [
       "HBox(children=(IntProgress(value=0, description='method', max=1, style=ProgressStyle(description_width='initia…"
      ]
     },
     "metadata": {},
     "output_type": "display_data"
    },
    {
     "data": {
      "application/vnd.jupyter.widget-view+json": {
       "model_id": "",
       "version_major": 2,
       "version_minor": 0
      },
      "text/plain": [
       "HBox(children=(IntProgress(value=0, description='method', max=1, style=ProgressStyle(description_width='initia…"
      ]
     },
     "metadata": {},
     "output_type": "display_data"
    },
    {
     "data": {
      "application/vnd.jupyter.widget-view+json": {
       "model_id": "",
       "version_major": 2,
       "version_minor": 0
      },
      "text/plain": [
       "HBox(children=(IntProgress(value=0, description='binary', max=2, style=ProgressStyle(description_width='initia…"
      ]
     },
     "metadata": {},
     "output_type": "display_data"
    },
    {
     "data": {
      "application/vnd.jupyter.widget-view+json": {
       "model_id": "",
       "version_major": 2,
       "version_minor": 0
      },
      "text/plain": [
       "HBox(children=(IntProgress(value=0, description='metric', max=3, style=ProgressStyle(description_width='initia…"
      ]
     },
     "metadata": {},
     "output_type": "display_data"
    },
    {
     "data": {
      "application/vnd.jupyter.widget-view+json": {
       "model_id": "",
       "version_major": 2,
       "version_minor": 0
      },
      "text/plain": [
       "HBox(children=(IntProgress(value=0, description='method', max=1, style=ProgressStyle(description_width='initia…"
      ]
     },
     "metadata": {},
     "output_type": "display_data"
    },
    {
     "data": {
      "application/vnd.jupyter.widget-view+json": {
       "model_id": "",
       "version_major": 2,
       "version_minor": 0
      },
      "text/plain": [
       "HBox(children=(IntProgress(value=0, description='method', max=1, style=ProgressStyle(description_width='initia…"
      ]
     },
     "metadata": {},
     "output_type": "display_data"
    },
    {
     "data": {
      "application/vnd.jupyter.widget-view+json": {
       "model_id": "",
       "version_major": 2,
       "version_minor": 0
      },
      "text/plain": [
       "HBox(children=(IntProgress(value=0, description='method', max=1, style=ProgressStyle(description_width='initia…"
      ]
     },
     "metadata": {},
     "output_type": "display_data"
    },
    {
     "data": {
      "application/vnd.jupyter.widget-view+json": {
       "model_id": "",
       "version_major": 2,
       "version_minor": 0
      },
      "text/plain": [
       "HBox(children=(IntProgress(value=0, description='metric', max=3, style=ProgressStyle(description_width='initia…"
      ]
     },
     "metadata": {},
     "output_type": "display_data"
    },
    {
     "data": {
      "application/vnd.jupyter.widget-view+json": {
       "model_id": "",
       "version_major": 2,
       "version_minor": 0
      },
      "text/plain": [
       "HBox(children=(IntProgress(value=0, description='method', max=1, style=ProgressStyle(description_width='initia…"
      ]
     },
     "metadata": {},
     "output_type": "display_data"
    },
    {
     "data": {
      "application/vnd.jupyter.widget-view+json": {
       "model_id": "",
       "version_major": 2,
       "version_minor": 0
      },
      "text/plain": [
       "HBox(children=(IntProgress(value=0, description='method', max=1, style=ProgressStyle(description_width='initia…"
      ]
     },
     "metadata": {},
     "output_type": "display_data"
    },
    {
     "data": {
      "application/vnd.jupyter.widget-view+json": {
       "model_id": "",
       "version_major": 2,
       "version_minor": 0
      },
      "text/plain": [
       "HBox(children=(IntProgress(value=0, description='method', max=1, style=ProgressStyle(description_width='initia…"
      ]
     },
     "metadata": {},
     "output_type": "display_data"
    },
    {
     "data": {
      "application/vnd.jupyter.widget-view+json": {
       "model_id": "",
       "version_major": 2,
       "version_minor": 0
      },
      "text/plain": [
       "HBox(children=(IntProgress(value=0, description='binary', max=2, style=ProgressStyle(description_width='initia…"
      ]
     },
     "metadata": {},
     "output_type": "display_data"
    },
    {
     "data": {
      "application/vnd.jupyter.widget-view+json": {
       "model_id": "",
       "version_major": 2,
       "version_minor": 0
      },
      "text/plain": [
       "HBox(children=(IntProgress(value=0, description='metric', max=3, style=ProgressStyle(description_width='initia…"
      ]
     },
     "metadata": {},
     "output_type": "display_data"
    },
    {
     "data": {
      "application/vnd.jupyter.widget-view+json": {
       "model_id": "",
       "version_major": 2,
       "version_minor": 0
      },
      "text/plain": [
       "HBox(children=(IntProgress(value=0, description='method', max=1, style=ProgressStyle(description_width='initia…"
      ]
     },
     "metadata": {},
     "output_type": "display_data"
    },
    {
     "data": {
      "application/vnd.jupyter.widget-view+json": {
       "model_id": "",
       "version_major": 2,
       "version_minor": 0
      },
      "text/plain": [
       "HBox(children=(IntProgress(value=0, description='method', max=1, style=ProgressStyle(description_width='initia…"
      ]
     },
     "metadata": {},
     "output_type": "display_data"
    },
    {
     "data": {
      "application/vnd.jupyter.widget-view+json": {
       "model_id": "",
       "version_major": 2,
       "version_minor": 0
      },
      "text/plain": [
       "HBox(children=(IntProgress(value=0, description='method', max=1, style=ProgressStyle(description_width='initia…"
      ]
     },
     "metadata": {},
     "output_type": "display_data"
    },
    {
     "data": {
      "application/vnd.jupyter.widget-view+json": {
       "model_id": "",
       "version_major": 2,
       "version_minor": 0
      },
      "text/plain": [
       "HBox(children=(IntProgress(value=0, description='metric', max=3, style=ProgressStyle(description_width='initia…"
      ]
     },
     "metadata": {},
     "output_type": "display_data"
    },
    {
     "data": {
      "application/vnd.jupyter.widget-view+json": {
       "model_id": "",
       "version_major": 2,
       "version_minor": 0
      },
      "text/plain": [
       "HBox(children=(IntProgress(value=0, description='method', max=1, style=ProgressStyle(description_width='initia…"
      ]
     },
     "metadata": {},
     "output_type": "display_data"
    },
    {
     "data": {
      "application/vnd.jupyter.widget-view+json": {
       "model_id": "",
       "version_major": 2,
       "version_minor": 0
      },
      "text/plain": [
       "HBox(children=(IntProgress(value=0, description='method', max=1, style=ProgressStyle(description_width='initia…"
      ]
     },
     "metadata": {},
     "output_type": "display_data"
    },
    {
     "data": {
      "application/vnd.jupyter.widget-view+json": {
       "model_id": "",
       "version_major": 2,
       "version_minor": 0
      },
      "text/plain": [
       "HBox(children=(IntProgress(value=0, description='method', max=1, style=ProgressStyle(description_width='initia…"
      ]
     },
     "metadata": {},
     "output_type": "display_data"
    },
    {
     "data": {
      "application/vnd.jupyter.widget-view+json": {
       "model_id": "",
       "version_major": 2,
       "version_minor": 0
      },
      "text/plain": [
       "HBox(children=(IntProgress(value=0, description='binary', max=2, style=ProgressStyle(description_width='initia…"
      ]
     },
     "metadata": {},
     "output_type": "display_data"
    },
    {
     "data": {
      "application/vnd.jupyter.widget-view+json": {
       "model_id": "",
       "version_major": 2,
       "version_minor": 0
      },
      "text/plain": [
       "HBox(children=(IntProgress(value=0, description='metric', max=3, style=ProgressStyle(description_width='initia…"
      ]
     },
     "metadata": {},
     "output_type": "display_data"
    },
    {
     "data": {
      "application/vnd.jupyter.widget-view+json": {
       "model_id": "",
       "version_major": 2,
       "version_minor": 0
      },
      "text/plain": [
       "HBox(children=(IntProgress(value=0, description='method', max=1, style=ProgressStyle(description_width='initia…"
      ]
     },
     "metadata": {},
     "output_type": "display_data"
    },
    {
     "data": {
      "application/vnd.jupyter.widget-view+json": {
       "model_id": "",
       "version_major": 2,
       "version_minor": 0
      },
      "text/plain": [
       "HBox(children=(IntProgress(value=0, description='method', max=1, style=ProgressStyle(description_width='initia…"
      ]
     },
     "metadata": {},
     "output_type": "display_data"
    },
    {
     "data": {
      "application/vnd.jupyter.widget-view+json": {
       "model_id": "",
       "version_major": 2,
       "version_minor": 0
      },
      "text/plain": [
       "HBox(children=(IntProgress(value=0, description='method', max=1, style=ProgressStyle(description_width='initia…"
      ]
     },
     "metadata": {},
     "output_type": "display_data"
    },
    {
     "data": {
      "application/vnd.jupyter.widget-view+json": {
       "model_id": "",
       "version_major": 2,
       "version_minor": 0
      },
      "text/plain": [
       "HBox(children=(IntProgress(value=0, description='metric', max=3, style=ProgressStyle(description_width='initia…"
      ]
     },
     "metadata": {},
     "output_type": "display_data"
    },
    {
     "data": {
      "application/vnd.jupyter.widget-view+json": {
       "model_id": "",
       "version_major": 2,
       "version_minor": 0
      },
      "text/plain": [
       "HBox(children=(IntProgress(value=0, description='method', max=1, style=ProgressStyle(description_width='initia…"
      ]
     },
     "metadata": {},
     "output_type": "display_data"
    },
    {
     "data": {
      "application/vnd.jupyter.widget-view+json": {
       "model_id": "",
       "version_major": 2,
       "version_minor": 0
      },
      "text/plain": [
       "HBox(children=(IntProgress(value=0, description='method', max=1, style=ProgressStyle(description_width='initia…"
      ]
     },
     "metadata": {},
     "output_type": "display_data"
    },
    {
     "data": {
      "application/vnd.jupyter.widget-view+json": {
       "model_id": "",
       "version_major": 2,
       "version_minor": 0
      },
      "text/plain": [
       "HBox(children=(IntProgress(value=0, description='method', max=1, style=ProgressStyle(description_width='initia…"
      ]
     },
     "metadata": {},
     "output_type": "display_data"
    },
    {
     "data": {
      "application/vnd.jupyter.widget-view+json": {
       "model_id": "",
       "version_major": 2,
       "version_minor": 0
      },
      "text/plain": [
       "HBox(children=(IntProgress(value=0, description='binary', max=2, style=ProgressStyle(description_width='initia…"
      ]
     },
     "metadata": {},
     "output_type": "display_data"
    },
    {
     "data": {
      "application/vnd.jupyter.widget-view+json": {
       "model_id": "",
       "version_major": 2,
       "version_minor": 0
      },
      "text/plain": [
       "HBox(children=(IntProgress(value=0, description='metric', max=3, style=ProgressStyle(description_width='initia…"
      ]
     },
     "metadata": {},
     "output_type": "display_data"
    },
    {
     "data": {
      "application/vnd.jupyter.widget-view+json": {
       "model_id": "",
       "version_major": 2,
       "version_minor": 0
      },
      "text/plain": [
       "HBox(children=(IntProgress(value=0, description='method', max=1, style=ProgressStyle(description_width='initia…"
      ]
     },
     "metadata": {},
     "output_type": "display_data"
    },
    {
     "data": {
      "application/vnd.jupyter.widget-view+json": {
       "model_id": "",
       "version_major": 2,
       "version_minor": 0
      },
      "text/plain": [
       "HBox(children=(IntProgress(value=0, description='method', max=1, style=ProgressStyle(description_width='initia…"
      ]
     },
     "metadata": {},
     "output_type": "display_data"
    },
    {
     "data": {
      "application/vnd.jupyter.widget-view+json": {
       "model_id": "",
       "version_major": 2,
       "version_minor": 0
      },
      "text/plain": [
       "HBox(children=(IntProgress(value=0, description='method', max=1, style=ProgressStyle(description_width='initia…"
      ]
     },
     "metadata": {},
     "output_type": "display_data"
    },
    {
     "data": {
      "application/vnd.jupyter.widget-view+json": {
       "model_id": "",
       "version_major": 2,
       "version_minor": 0
      },
      "text/plain": [
       "HBox(children=(IntProgress(value=0, description='metric', max=3, style=ProgressStyle(description_width='initia…"
      ]
     },
     "metadata": {},
     "output_type": "display_data"
    },
    {
     "data": {
      "application/vnd.jupyter.widget-view+json": {
       "model_id": "",
       "version_major": 2,
       "version_minor": 0
      },
      "text/plain": [
       "HBox(children=(IntProgress(value=0, description='method', max=1, style=ProgressStyle(description_width='initia…"
      ]
     },
     "metadata": {},
     "output_type": "display_data"
    },
    {
     "data": {
      "application/vnd.jupyter.widget-view+json": {
       "model_id": "",
       "version_major": 2,
       "version_minor": 0
      },
      "text/plain": [
       "HBox(children=(IntProgress(value=0, description='method', max=1, style=ProgressStyle(description_width='initia…"
      ]
     },
     "metadata": {},
     "output_type": "display_data"
    },
    {
     "data": {
      "application/vnd.jupyter.widget-view+json": {
       "model_id": "",
       "version_major": 2,
       "version_minor": 0
      },
      "text/plain": [
       "HBox(children=(IntProgress(value=0, description='method', max=1, style=ProgressStyle(description_width='initia…"
      ]
     },
     "metadata": {},
     "output_type": "display_data"
    },
    {
     "data": {
      "application/vnd.jupyter.widget-view+json": {
       "model_id": "",
       "version_major": 2,
       "version_minor": 0
      },
      "text/plain": [
       "HBox(children=(IntProgress(value=0, description='binary', max=2, style=ProgressStyle(description_width='initia…"
      ]
     },
     "metadata": {},
     "output_type": "display_data"
    },
    {
     "data": {
      "application/vnd.jupyter.widget-view+json": {
       "model_id": "",
       "version_major": 2,
       "version_minor": 0
      },
      "text/plain": [
       "HBox(children=(IntProgress(value=0, description='metric', max=3, style=ProgressStyle(description_width='initia…"
      ]
     },
     "metadata": {},
     "output_type": "display_data"
    },
    {
     "data": {
      "application/vnd.jupyter.widget-view+json": {
       "model_id": "",
       "version_major": 2,
       "version_minor": 0
      },
      "text/plain": [
       "HBox(children=(IntProgress(value=0, description='method', max=1, style=ProgressStyle(description_width='initia…"
      ]
     },
     "metadata": {},
     "output_type": "display_data"
    },
    {
     "data": {
      "application/vnd.jupyter.widget-view+json": {
       "model_id": "",
       "version_major": 2,
       "version_minor": 0
      },
      "text/plain": [
       "HBox(children=(IntProgress(value=0, description='method', max=1, style=ProgressStyle(description_width='initia…"
      ]
     },
     "metadata": {},
     "output_type": "display_data"
    },
    {
     "data": {
      "application/vnd.jupyter.widget-view+json": {
       "model_id": "",
       "version_major": 2,
       "version_minor": 0
      },
      "text/plain": [
       "HBox(children=(IntProgress(value=0, description='method', max=1, style=ProgressStyle(description_width='initia…"
      ]
     },
     "metadata": {},
     "output_type": "display_data"
    },
    {
     "data": {
      "application/vnd.jupyter.widget-view+json": {
       "model_id": "",
       "version_major": 2,
       "version_minor": 0
      },
      "text/plain": [
       "HBox(children=(IntProgress(value=0, description='metric', max=3, style=ProgressStyle(description_width='initia…"
      ]
     },
     "metadata": {},
     "output_type": "display_data"
    },
    {
     "data": {
      "application/vnd.jupyter.widget-view+json": {
       "model_id": "",
       "version_major": 2,
       "version_minor": 0
      },
      "text/plain": [
       "HBox(children=(IntProgress(value=0, description='method', max=1, style=ProgressStyle(description_width='initia…"
      ]
     },
     "metadata": {},
     "output_type": "display_data"
    },
    {
     "data": {
      "application/vnd.jupyter.widget-view+json": {
       "model_id": "",
       "version_major": 2,
       "version_minor": 0
      },
      "text/plain": [
       "HBox(children=(IntProgress(value=0, description='method', max=1, style=ProgressStyle(description_width='initia…"
      ]
     },
     "metadata": {},
     "output_type": "display_data"
    },
    {
     "data": {
      "application/vnd.jupyter.widget-view+json": {
       "model_id": "",
       "version_major": 2,
       "version_minor": 0
      },
      "text/plain": [
       "HBox(children=(IntProgress(value=0, description='method', max=1, style=ProgressStyle(description_width='initia…"
      ]
     },
     "metadata": {},
     "output_type": "display_data"
    },
    {
     "data": {
      "application/vnd.jupyter.widget-view+json": {
       "model_id": "",
       "version_major": 2,
       "version_minor": 0
      },
      "text/plain": [
       "HBox(children=(IntProgress(value=0, description='binary', max=2, style=ProgressStyle(description_width='initia…"
      ]
     },
     "metadata": {},
     "output_type": "display_data"
    },
    {
     "data": {
      "application/vnd.jupyter.widget-view+json": {
       "model_id": "",
       "version_major": 2,
       "version_minor": 0
      },
      "text/plain": [
       "HBox(children=(IntProgress(value=0, description='metric', max=3, style=ProgressStyle(description_width='initia…"
      ]
     },
     "metadata": {},
     "output_type": "display_data"
    },
    {
     "data": {
      "application/vnd.jupyter.widget-view+json": {
       "model_id": "",
       "version_major": 2,
       "version_minor": 0
      },
      "text/plain": [
       "HBox(children=(IntProgress(value=0, description='method', max=1, style=ProgressStyle(description_width='initia…"
      ]
     },
     "metadata": {},
     "output_type": "display_data"
    },
    {
     "data": {
      "application/vnd.jupyter.widget-view+json": {
       "model_id": "",
       "version_major": 2,
       "version_minor": 0
      },
      "text/plain": [
       "HBox(children=(IntProgress(value=0, description='method', max=1, style=ProgressStyle(description_width='initia…"
      ]
     },
     "metadata": {},
     "output_type": "display_data"
    },
    {
     "data": {
      "application/vnd.jupyter.widget-view+json": {
       "model_id": "",
       "version_major": 2,
       "version_minor": 0
      },
      "text/plain": [
       "HBox(children=(IntProgress(value=0, description='method', max=1, style=ProgressStyle(description_width='initia…"
      ]
     },
     "metadata": {},
     "output_type": "display_data"
    },
    {
     "data": {
      "application/vnd.jupyter.widget-view+json": {
       "model_id": "",
       "version_major": 2,
       "version_minor": 0
      },
      "text/plain": [
       "HBox(children=(IntProgress(value=0, description='metric', max=3, style=ProgressStyle(description_width='initia…"
      ]
     },
     "metadata": {},
     "output_type": "display_data"
    },
    {
     "data": {
      "application/vnd.jupyter.widget-view+json": {
       "model_id": "",
       "version_major": 2,
       "version_minor": 0
      },
      "text/plain": [
       "HBox(children=(IntProgress(value=0, description='method', max=1, style=ProgressStyle(description_width='initia…"
      ]
     },
     "metadata": {},
     "output_type": "display_data"
    },
    {
     "data": {
      "application/vnd.jupyter.widget-view+json": {
       "model_id": "",
       "version_major": 2,
       "version_minor": 0
      },
      "text/plain": [
       "HBox(children=(IntProgress(value=0, description='method', max=1, style=ProgressStyle(description_width='initia…"
      ]
     },
     "metadata": {},
     "output_type": "display_data"
    },
    {
     "data": {
      "application/vnd.jupyter.widget-view+json": {
       "model_id": "",
       "version_major": 2,
       "version_minor": 0
      },
      "text/plain": [
       "HBox(children=(IntProgress(value=0, description='method', max=1, style=ProgressStyle(description_width='initia…"
      ]
     },
     "metadata": {},
     "output_type": "display_data"
    },
    {
     "data": {
      "application/vnd.jupyter.widget-view+json": {
       "model_id": "",
       "version_major": 2,
       "version_minor": 0
      },
      "text/plain": [
       "HBox(children=(IntProgress(value=0, description='binary', max=2, style=ProgressStyle(description_width='initia…"
      ]
     },
     "metadata": {},
     "output_type": "display_data"
    },
    {
     "data": {
      "application/vnd.jupyter.widget-view+json": {
       "model_id": "",
       "version_major": 2,
       "version_minor": 0
      },
      "text/plain": [
       "HBox(children=(IntProgress(value=0, description='metric', max=3, style=ProgressStyle(description_width='initia…"
      ]
     },
     "metadata": {},
     "output_type": "display_data"
    },
    {
     "data": {
      "application/vnd.jupyter.widget-view+json": {
       "model_id": "",
       "version_major": 2,
       "version_minor": 0
      },
      "text/plain": [
       "HBox(children=(IntProgress(value=0, description='method', max=1, style=ProgressStyle(description_width='initia…"
      ]
     },
     "metadata": {},
     "output_type": "display_data"
    },
    {
     "data": {
      "application/vnd.jupyter.widget-view+json": {
       "model_id": "",
       "version_major": 2,
       "version_minor": 0
      },
      "text/plain": [
       "HBox(children=(IntProgress(value=0, description='method', max=1, style=ProgressStyle(description_width='initia…"
      ]
     },
     "metadata": {},
     "output_type": "display_data"
    },
    {
     "data": {
      "application/vnd.jupyter.widget-view+json": {
       "model_id": "",
       "version_major": 2,
       "version_minor": 0
      },
      "text/plain": [
       "HBox(children=(IntProgress(value=0, description='method', max=1, style=ProgressStyle(description_width='initia…"
      ]
     },
     "metadata": {},
     "output_type": "display_data"
    },
    {
     "data": {
      "application/vnd.jupyter.widget-view+json": {
       "model_id": "",
       "version_major": 2,
       "version_minor": 0
      },
      "text/plain": [
       "HBox(children=(IntProgress(value=0, description='metric', max=3, style=ProgressStyle(description_width='initia…"
      ]
     },
     "metadata": {},
     "output_type": "display_data"
    },
    {
     "data": {
      "application/vnd.jupyter.widget-view+json": {
       "model_id": "",
       "version_major": 2,
       "version_minor": 0
      },
      "text/plain": [
       "HBox(children=(IntProgress(value=0, description='method', max=1, style=ProgressStyle(description_width='initia…"
      ]
     },
     "metadata": {},
     "output_type": "display_data"
    },
    {
     "data": {
      "application/vnd.jupyter.widget-view+json": {
       "model_id": "",
       "version_major": 2,
       "version_minor": 0
      },
      "text/plain": [
       "HBox(children=(IntProgress(value=0, description='method', max=1, style=ProgressStyle(description_width='initia…"
      ]
     },
     "metadata": {},
     "output_type": "display_data"
    },
    {
     "data": {
      "application/vnd.jupyter.widget-view+json": {
       "model_id": "",
       "version_major": 2,
       "version_minor": 0
      },
      "text/plain": [
       "HBox(children=(IntProgress(value=0, description='method', max=1, style=ProgressStyle(description_width='initia…"
      ]
     },
     "metadata": {},
     "output_type": "display_data"
    },
    {
     "data": {
      "application/vnd.jupyter.widget-view+json": {
       "model_id": "",
       "version_major": 2,
       "version_minor": 0
      },
      "text/plain": [
       "HBox(children=(IntProgress(value=0, description='binary', max=2, style=ProgressStyle(description_width='initia…"
      ]
     },
     "metadata": {},
     "output_type": "display_data"
    },
    {
     "data": {
      "application/vnd.jupyter.widget-view+json": {
       "model_id": "",
       "version_major": 2,
       "version_minor": 0
      },
      "text/plain": [
       "HBox(children=(IntProgress(value=0, description='metric', max=3, style=ProgressStyle(description_width='initia…"
      ]
     },
     "metadata": {},
     "output_type": "display_data"
    },
    {
     "data": {
      "application/vnd.jupyter.widget-view+json": {
       "model_id": "",
       "version_major": 2,
       "version_minor": 0
      },
      "text/plain": [
       "HBox(children=(IntProgress(value=0, description='method', max=1, style=ProgressStyle(description_width='initia…"
      ]
     },
     "metadata": {},
     "output_type": "display_data"
    },
    {
     "data": {
      "application/vnd.jupyter.widget-view+json": {
       "model_id": "",
       "version_major": 2,
       "version_minor": 0
      },
      "text/plain": [
       "HBox(children=(IntProgress(value=0, description='method', max=1, style=ProgressStyle(description_width='initia…"
      ]
     },
     "metadata": {},
     "output_type": "display_data"
    },
    {
     "data": {
      "application/vnd.jupyter.widget-view+json": {
       "model_id": "",
       "version_major": 2,
       "version_minor": 0
      },
      "text/plain": [
       "HBox(children=(IntProgress(value=0, description='method', max=1, style=ProgressStyle(description_width='initia…"
      ]
     },
     "metadata": {},
     "output_type": "display_data"
    },
    {
     "data": {
      "application/vnd.jupyter.widget-view+json": {
       "model_id": "",
       "version_major": 2,
       "version_minor": 0
      },
      "text/plain": [
       "HBox(children=(IntProgress(value=0, description='metric', max=3, style=ProgressStyle(description_width='initia…"
      ]
     },
     "metadata": {},
     "output_type": "display_data"
    },
    {
     "data": {
      "application/vnd.jupyter.widget-view+json": {
       "model_id": "",
       "version_major": 2,
       "version_minor": 0
      },
      "text/plain": [
       "HBox(children=(IntProgress(value=0, description='method', max=1, style=ProgressStyle(description_width='initia…"
      ]
     },
     "metadata": {},
     "output_type": "display_data"
    },
    {
     "data": {
      "application/vnd.jupyter.widget-view+json": {
       "model_id": "",
       "version_major": 2,
       "version_minor": 0
      },
      "text/plain": [
       "HBox(children=(IntProgress(value=0, description='method', max=1, style=ProgressStyle(description_width='initia…"
      ]
     },
     "metadata": {},
     "output_type": "display_data"
    },
    {
     "data": {
      "application/vnd.jupyter.widget-view+json": {
       "model_id": "",
       "version_major": 2,
       "version_minor": 0
      },
      "text/plain": [
       "HBox(children=(IntProgress(value=0, description='method', max=1, style=ProgressStyle(description_width='initia…"
      ]
     },
     "metadata": {},
     "output_type": "display_data"
    },
    {
     "data": {
      "application/vnd.jupyter.widget-view+json": {
       "model_id": "",
       "version_major": 2,
       "version_minor": 0
      },
      "text/plain": [
       "HBox(children=(IntProgress(value=0, description='min_df', max=9, style=ProgressStyle(description_width='initia…"
      ]
     },
     "metadata": {},
     "output_type": "display_data"
    },
    {
     "data": {
      "application/vnd.jupyter.widget-view+json": {
       "model_id": "",
       "version_major": 2,
       "version_minor": 0
      },
      "text/plain": [
       "HBox(children=(IntProgress(value=0, description='binary', max=2, style=ProgressStyle(description_width='initia…"
      ]
     },
     "metadata": {},
     "output_type": "display_data"
    },
    {
     "data": {
      "application/vnd.jupyter.widget-view+json": {
       "model_id": "",
       "version_major": 2,
       "version_minor": 0
      },
      "text/plain": [
       "HBox(children=(IntProgress(value=0, description='metric', max=3, style=ProgressStyle(description_width='initia…"
      ]
     },
     "metadata": {},
     "output_type": "display_data"
    },
    {
     "data": {
      "application/vnd.jupyter.widget-view+json": {
       "model_id": "",
       "version_major": 2,
       "version_minor": 0
      },
      "text/plain": [
       "HBox(children=(IntProgress(value=0, description='method', max=1, style=ProgressStyle(description_width='initia…"
      ]
     },
     "metadata": {},
     "output_type": "display_data"
    },
    {
     "data": {
      "application/vnd.jupyter.widget-view+json": {
       "model_id": "",
       "version_major": 2,
       "version_minor": 0
      },
      "text/plain": [
       "HBox(children=(IntProgress(value=0, description='method', max=1, style=ProgressStyle(description_width='initia…"
      ]
     },
     "metadata": {},
     "output_type": "display_data"
    },
    {
     "data": {
      "application/vnd.jupyter.widget-view+json": {
       "model_id": "",
       "version_major": 2,
       "version_minor": 0
      },
      "text/plain": [
       "HBox(children=(IntProgress(value=0, description='method', max=1, style=ProgressStyle(description_width='initia…"
      ]
     },
     "metadata": {},
     "output_type": "display_data"
    },
    {
     "data": {
      "application/vnd.jupyter.widget-view+json": {
       "model_id": "",
       "version_major": 2,
       "version_minor": 0
      },
      "text/plain": [
       "HBox(children=(IntProgress(value=0, description='metric', max=3, style=ProgressStyle(description_width='initia…"
      ]
     },
     "metadata": {},
     "output_type": "display_data"
    },
    {
     "data": {
      "application/vnd.jupyter.widget-view+json": {
       "model_id": "",
       "version_major": 2,
       "version_minor": 0
      },
      "text/plain": [
       "HBox(children=(IntProgress(value=0, description='method', max=1, style=ProgressStyle(description_width='initia…"
      ]
     },
     "metadata": {},
     "output_type": "display_data"
    },
    {
     "data": {
      "application/vnd.jupyter.widget-view+json": {
       "model_id": "",
       "version_major": 2,
       "version_minor": 0
      },
      "text/plain": [
       "HBox(children=(IntProgress(value=0, description='method', max=1, style=ProgressStyle(description_width='initia…"
      ]
     },
     "metadata": {},
     "output_type": "display_data"
    },
    {
     "data": {
      "application/vnd.jupyter.widget-view+json": {
       "model_id": "",
       "version_major": 2,
       "version_minor": 0
      },
      "text/plain": [
       "HBox(children=(IntProgress(value=0, description='method', max=1, style=ProgressStyle(description_width='initia…"
      ]
     },
     "metadata": {},
     "output_type": "display_data"
    },
    {
     "data": {
      "application/vnd.jupyter.widget-view+json": {
       "model_id": "",
       "version_major": 2,
       "version_minor": 0
      },
      "text/plain": [
       "HBox(children=(IntProgress(value=0, description='binary', max=2, style=ProgressStyle(description_width='initia…"
      ]
     },
     "metadata": {},
     "output_type": "display_data"
    },
    {
     "data": {
      "application/vnd.jupyter.widget-view+json": {
       "model_id": "",
       "version_major": 2,
       "version_minor": 0
      },
      "text/plain": [
       "HBox(children=(IntProgress(value=0, description='metric', max=3, style=ProgressStyle(description_width='initia…"
      ]
     },
     "metadata": {},
     "output_type": "display_data"
    },
    {
     "data": {
      "application/vnd.jupyter.widget-view+json": {
       "model_id": "",
       "version_major": 2,
       "version_minor": 0
      },
      "text/plain": [
       "HBox(children=(IntProgress(value=0, description='method', max=1, style=ProgressStyle(description_width='initia…"
      ]
     },
     "metadata": {},
     "output_type": "display_data"
    },
    {
     "data": {
      "application/vnd.jupyter.widget-view+json": {
       "model_id": "",
       "version_major": 2,
       "version_minor": 0
      },
      "text/plain": [
       "HBox(children=(IntProgress(value=0, description='method', max=1, style=ProgressStyle(description_width='initia…"
      ]
     },
     "metadata": {},
     "output_type": "display_data"
    },
    {
     "data": {
      "application/vnd.jupyter.widget-view+json": {
       "model_id": "",
       "version_major": 2,
       "version_minor": 0
      },
      "text/plain": [
       "HBox(children=(IntProgress(value=0, description='method', max=1, style=ProgressStyle(description_width='initia…"
      ]
     },
     "metadata": {},
     "output_type": "display_data"
    },
    {
     "data": {
      "application/vnd.jupyter.widget-view+json": {
       "model_id": "",
       "version_major": 2,
       "version_minor": 0
      },
      "text/plain": [
       "HBox(children=(IntProgress(value=0, description='metric', max=3, style=ProgressStyle(description_width='initia…"
      ]
     },
     "metadata": {},
     "output_type": "display_data"
    },
    {
     "data": {
      "application/vnd.jupyter.widget-view+json": {
       "model_id": "",
       "version_major": 2,
       "version_minor": 0
      },
      "text/plain": [
       "HBox(children=(IntProgress(value=0, description='method', max=1, style=ProgressStyle(description_width='initia…"
      ]
     },
     "metadata": {},
     "output_type": "display_data"
    },
    {
     "data": {
      "application/vnd.jupyter.widget-view+json": {
       "model_id": "",
       "version_major": 2,
       "version_minor": 0
      },
      "text/plain": [
       "HBox(children=(IntProgress(value=0, description='method', max=1, style=ProgressStyle(description_width='initia…"
      ]
     },
     "metadata": {},
     "output_type": "display_data"
    },
    {
     "data": {
      "application/vnd.jupyter.widget-view+json": {
       "model_id": "",
       "version_major": 2,
       "version_minor": 0
      },
      "text/plain": [
       "HBox(children=(IntProgress(value=0, description='method', max=1, style=ProgressStyle(description_width='initia…"
      ]
     },
     "metadata": {},
     "output_type": "display_data"
    },
    {
     "data": {
      "application/vnd.jupyter.widget-view+json": {
       "model_id": "",
       "version_major": 2,
       "version_minor": 0
      },
      "text/plain": [
       "HBox(children=(IntProgress(value=0, description='binary', max=2, style=ProgressStyle(description_width='initia…"
      ]
     },
     "metadata": {},
     "output_type": "display_data"
    },
    {
     "data": {
      "application/vnd.jupyter.widget-view+json": {
       "model_id": "",
       "version_major": 2,
       "version_minor": 0
      },
      "text/plain": [
       "HBox(children=(IntProgress(value=0, description='metric', max=3, style=ProgressStyle(description_width='initia…"
      ]
     },
     "metadata": {},
     "output_type": "display_data"
    },
    {
     "data": {
      "application/vnd.jupyter.widget-view+json": {
       "model_id": "",
       "version_major": 2,
       "version_minor": 0
      },
      "text/plain": [
       "HBox(children=(IntProgress(value=0, description='method', max=1, style=ProgressStyle(description_width='initia…"
      ]
     },
     "metadata": {},
     "output_type": "display_data"
    },
    {
     "data": {
      "application/vnd.jupyter.widget-view+json": {
       "model_id": "",
       "version_major": 2,
       "version_minor": 0
      },
      "text/plain": [
       "HBox(children=(IntProgress(value=0, description='method', max=1, style=ProgressStyle(description_width='initia…"
      ]
     },
     "metadata": {},
     "output_type": "display_data"
    },
    {
     "data": {
      "application/vnd.jupyter.widget-view+json": {
       "model_id": "",
       "version_major": 2,
       "version_minor": 0
      },
      "text/plain": [
       "HBox(children=(IntProgress(value=0, description='method', max=1, style=ProgressStyle(description_width='initia…"
      ]
     },
     "metadata": {},
     "output_type": "display_data"
    },
    {
     "data": {
      "application/vnd.jupyter.widget-view+json": {
       "model_id": "",
       "version_major": 2,
       "version_minor": 0
      },
      "text/plain": [
       "HBox(children=(IntProgress(value=0, description='metric', max=3, style=ProgressStyle(description_width='initia…"
      ]
     },
     "metadata": {},
     "output_type": "display_data"
    },
    {
     "data": {
      "application/vnd.jupyter.widget-view+json": {
       "model_id": "",
       "version_major": 2,
       "version_minor": 0
      },
      "text/plain": [
       "HBox(children=(IntProgress(value=0, description='method', max=1, style=ProgressStyle(description_width='initia…"
      ]
     },
     "metadata": {},
     "output_type": "display_data"
    },
    {
     "data": {
      "application/vnd.jupyter.widget-view+json": {
       "model_id": "",
       "version_major": 2,
       "version_minor": 0
      },
      "text/plain": [
       "HBox(children=(IntProgress(value=0, description='method', max=1, style=ProgressStyle(description_width='initia…"
      ]
     },
     "metadata": {},
     "output_type": "display_data"
    },
    {
     "data": {
      "application/vnd.jupyter.widget-view+json": {
       "model_id": "",
       "version_major": 2,
       "version_minor": 0
      },
      "text/plain": [
       "HBox(children=(IntProgress(value=0, description='method', max=1, style=ProgressStyle(description_width='initia…"
      ]
     },
     "metadata": {},
     "output_type": "display_data"
    },
    {
     "data": {
      "application/vnd.jupyter.widget-view+json": {
       "model_id": "",
       "version_major": 2,
       "version_minor": 0
      },
      "text/plain": [
       "HBox(children=(IntProgress(value=0, description='binary', max=2, style=ProgressStyle(description_width='initia…"
      ]
     },
     "metadata": {},
     "output_type": "display_data"
    },
    {
     "data": {
      "application/vnd.jupyter.widget-view+json": {
       "model_id": "",
       "version_major": 2,
       "version_minor": 0
      },
      "text/plain": [
       "HBox(children=(IntProgress(value=0, description='metric', max=3, style=ProgressStyle(description_width='initia…"
      ]
     },
     "metadata": {},
     "output_type": "display_data"
    },
    {
     "data": {
      "application/vnd.jupyter.widget-view+json": {
       "model_id": "",
       "version_major": 2,
       "version_minor": 0
      },
      "text/plain": [
       "HBox(children=(IntProgress(value=0, description='method', max=1, style=ProgressStyle(description_width='initia…"
      ]
     },
     "metadata": {},
     "output_type": "display_data"
    },
    {
     "data": {
      "application/vnd.jupyter.widget-view+json": {
       "model_id": "",
       "version_major": 2,
       "version_minor": 0
      },
      "text/plain": [
       "HBox(children=(IntProgress(value=0, description='method', max=1, style=ProgressStyle(description_width='initia…"
      ]
     },
     "metadata": {},
     "output_type": "display_data"
    },
    {
     "data": {
      "application/vnd.jupyter.widget-view+json": {
       "model_id": "",
       "version_major": 2,
       "version_minor": 0
      },
      "text/plain": [
       "HBox(children=(IntProgress(value=0, description='method', max=1, style=ProgressStyle(description_width='initia…"
      ]
     },
     "metadata": {},
     "output_type": "display_data"
    },
    {
     "data": {
      "application/vnd.jupyter.widget-view+json": {
       "model_id": "",
       "version_major": 2,
       "version_minor": 0
      },
      "text/plain": [
       "HBox(children=(IntProgress(value=0, description='metric', max=3, style=ProgressStyle(description_width='initia…"
      ]
     },
     "metadata": {},
     "output_type": "display_data"
    },
    {
     "data": {
      "application/vnd.jupyter.widget-view+json": {
       "model_id": "",
       "version_major": 2,
       "version_minor": 0
      },
      "text/plain": [
       "HBox(children=(IntProgress(value=0, description='method', max=1, style=ProgressStyle(description_width='initia…"
      ]
     },
     "metadata": {},
     "output_type": "display_data"
    },
    {
     "data": {
      "application/vnd.jupyter.widget-view+json": {
       "model_id": "",
       "version_major": 2,
       "version_minor": 0
      },
      "text/plain": [
       "HBox(children=(IntProgress(value=0, description='method', max=1, style=ProgressStyle(description_width='initia…"
      ]
     },
     "metadata": {},
     "output_type": "display_data"
    },
    {
     "data": {
      "application/vnd.jupyter.widget-view+json": {
       "model_id": "",
       "version_major": 2,
       "version_minor": 0
      },
      "text/plain": [
       "HBox(children=(IntProgress(value=0, description='method', max=1, style=ProgressStyle(description_width='initia…"
      ]
     },
     "metadata": {},
     "output_type": "display_data"
    },
    {
     "data": {
      "application/vnd.jupyter.widget-view+json": {
       "model_id": "",
       "version_major": 2,
       "version_minor": 0
      },
      "text/plain": [
       "HBox(children=(IntProgress(value=0, description='binary', max=2, style=ProgressStyle(description_width='initia…"
      ]
     },
     "metadata": {},
     "output_type": "display_data"
    },
    {
     "data": {
      "application/vnd.jupyter.widget-view+json": {
       "model_id": "",
       "version_major": 2,
       "version_minor": 0
      },
      "text/plain": [
       "HBox(children=(IntProgress(value=0, description='metric', max=3, style=ProgressStyle(description_width='initia…"
      ]
     },
     "metadata": {},
     "output_type": "display_data"
    },
    {
     "data": {
      "application/vnd.jupyter.widget-view+json": {
       "model_id": "",
       "version_major": 2,
       "version_minor": 0
      },
      "text/plain": [
       "HBox(children=(IntProgress(value=0, description='method', max=1, style=ProgressStyle(description_width='initia…"
      ]
     },
     "metadata": {},
     "output_type": "display_data"
    },
    {
     "data": {
      "application/vnd.jupyter.widget-view+json": {
       "model_id": "",
       "version_major": 2,
       "version_minor": 0
      },
      "text/plain": [
       "HBox(children=(IntProgress(value=0, description='method', max=1, style=ProgressStyle(description_width='initia…"
      ]
     },
     "metadata": {},
     "output_type": "display_data"
    },
    {
     "data": {
      "application/vnd.jupyter.widget-view+json": {
       "model_id": "",
       "version_major": 2,
       "version_minor": 0
      },
      "text/plain": [
       "HBox(children=(IntProgress(value=0, description='method', max=1, style=ProgressStyle(description_width='initia…"
      ]
     },
     "metadata": {},
     "output_type": "display_data"
    },
    {
     "data": {
      "application/vnd.jupyter.widget-view+json": {
       "model_id": "",
       "version_major": 2,
       "version_minor": 0
      },
      "text/plain": [
       "HBox(children=(IntProgress(value=0, description='metric', max=3, style=ProgressStyle(description_width='initia…"
      ]
     },
     "metadata": {},
     "output_type": "display_data"
    },
    {
     "data": {
      "application/vnd.jupyter.widget-view+json": {
       "model_id": "",
       "version_major": 2,
       "version_minor": 0
      },
      "text/plain": [
       "HBox(children=(IntProgress(value=0, description='method', max=1, style=ProgressStyle(description_width='initia…"
      ]
     },
     "metadata": {},
     "output_type": "display_data"
    },
    {
     "data": {
      "application/vnd.jupyter.widget-view+json": {
       "model_id": "",
       "version_major": 2,
       "version_minor": 0
      },
      "text/plain": [
       "HBox(children=(IntProgress(value=0, description='method', max=1, style=ProgressStyle(description_width='initia…"
      ]
     },
     "metadata": {},
     "output_type": "display_data"
    },
    {
     "data": {
      "application/vnd.jupyter.widget-view+json": {
       "model_id": "",
       "version_major": 2,
       "version_minor": 0
      },
      "text/plain": [
       "HBox(children=(IntProgress(value=0, description='method', max=1, style=ProgressStyle(description_width='initia…"
      ]
     },
     "metadata": {},
     "output_type": "display_data"
    },
    {
     "data": {
      "application/vnd.jupyter.widget-view+json": {
       "model_id": "",
       "version_major": 2,
       "version_minor": 0
      },
      "text/plain": [
       "HBox(children=(IntProgress(value=0, description='binary', max=2, style=ProgressStyle(description_width='initia…"
      ]
     },
     "metadata": {},
     "output_type": "display_data"
    },
    {
     "data": {
      "application/vnd.jupyter.widget-view+json": {
       "model_id": "",
       "version_major": 2,
       "version_minor": 0
      },
      "text/plain": [
       "HBox(children=(IntProgress(value=0, description='metric', max=3, style=ProgressStyle(description_width='initia…"
      ]
     },
     "metadata": {},
     "output_type": "display_data"
    },
    {
     "data": {
      "application/vnd.jupyter.widget-view+json": {
       "model_id": "",
       "version_major": 2,
       "version_minor": 0
      },
      "text/plain": [
       "HBox(children=(IntProgress(value=0, description='method', max=1, style=ProgressStyle(description_width='initia…"
      ]
     },
     "metadata": {},
     "output_type": "display_data"
    },
    {
     "data": {
      "application/vnd.jupyter.widget-view+json": {
       "model_id": "",
       "version_major": 2,
       "version_minor": 0
      },
      "text/plain": [
       "HBox(children=(IntProgress(value=0, description='method', max=1, style=ProgressStyle(description_width='initia…"
      ]
     },
     "metadata": {},
     "output_type": "display_data"
    },
    {
     "data": {
      "application/vnd.jupyter.widget-view+json": {
       "model_id": "",
       "version_major": 2,
       "version_minor": 0
      },
      "text/plain": [
       "HBox(children=(IntProgress(value=0, description='method', max=1, style=ProgressStyle(description_width='initia…"
      ]
     },
     "metadata": {},
     "output_type": "display_data"
    },
    {
     "data": {
      "application/vnd.jupyter.widget-view+json": {
       "model_id": "",
       "version_major": 2,
       "version_minor": 0
      },
      "text/plain": [
       "HBox(children=(IntProgress(value=0, description='metric', max=3, style=ProgressStyle(description_width='initia…"
      ]
     },
     "metadata": {},
     "output_type": "display_data"
    },
    {
     "data": {
      "application/vnd.jupyter.widget-view+json": {
       "model_id": "",
       "version_major": 2,
       "version_minor": 0
      },
      "text/plain": [
       "HBox(children=(IntProgress(value=0, description='method', max=1, style=ProgressStyle(description_width='initia…"
      ]
     },
     "metadata": {},
     "output_type": "display_data"
    },
    {
     "data": {
      "application/vnd.jupyter.widget-view+json": {
       "model_id": "",
       "version_major": 2,
       "version_minor": 0
      },
      "text/plain": [
       "HBox(children=(IntProgress(value=0, description='method', max=1, style=ProgressStyle(description_width='initia…"
      ]
     },
     "metadata": {},
     "output_type": "display_data"
    },
    {
     "data": {
      "application/vnd.jupyter.widget-view+json": {
       "model_id": "",
       "version_major": 2,
       "version_minor": 0
      },
      "text/plain": [
       "HBox(children=(IntProgress(value=0, description='method', max=1, style=ProgressStyle(description_width='initia…"
      ]
     },
     "metadata": {},
     "output_type": "display_data"
    },
    {
     "data": {
      "application/vnd.jupyter.widget-view+json": {
       "model_id": "",
       "version_major": 2,
       "version_minor": 0
      },
      "text/plain": [
       "HBox(children=(IntProgress(value=0, description='binary', max=2, style=ProgressStyle(description_width='initia…"
      ]
     },
     "metadata": {},
     "output_type": "display_data"
    },
    {
     "data": {
      "application/vnd.jupyter.widget-view+json": {
       "model_id": "",
       "version_major": 2,
       "version_minor": 0
      },
      "text/plain": [
       "HBox(children=(IntProgress(value=0, description='metric', max=3, style=ProgressStyle(description_width='initia…"
      ]
     },
     "metadata": {},
     "output_type": "display_data"
    },
    {
     "data": {
      "application/vnd.jupyter.widget-view+json": {
       "model_id": "",
       "version_major": 2,
       "version_minor": 0
      },
      "text/plain": [
       "HBox(children=(IntProgress(value=0, description='method', max=1, style=ProgressStyle(description_width='initia…"
      ]
     },
     "metadata": {},
     "output_type": "display_data"
    },
    {
     "data": {
      "application/vnd.jupyter.widget-view+json": {
       "model_id": "",
       "version_major": 2,
       "version_minor": 0
      },
      "text/plain": [
       "HBox(children=(IntProgress(value=0, description='method', max=1, style=ProgressStyle(description_width='initia…"
      ]
     },
     "metadata": {},
     "output_type": "display_data"
    },
    {
     "data": {
      "application/vnd.jupyter.widget-view+json": {
       "model_id": "",
       "version_major": 2,
       "version_minor": 0
      },
      "text/plain": [
       "HBox(children=(IntProgress(value=0, description='method', max=1, style=ProgressStyle(description_width='initia…"
      ]
     },
     "metadata": {},
     "output_type": "display_data"
    },
    {
     "data": {
      "application/vnd.jupyter.widget-view+json": {
       "model_id": "",
       "version_major": 2,
       "version_minor": 0
      },
      "text/plain": [
       "HBox(children=(IntProgress(value=0, description='metric', max=3, style=ProgressStyle(description_width='initia…"
      ]
     },
     "metadata": {},
     "output_type": "display_data"
    },
    {
     "data": {
      "application/vnd.jupyter.widget-view+json": {
       "model_id": "",
       "version_major": 2,
       "version_minor": 0
      },
      "text/plain": [
       "HBox(children=(IntProgress(value=0, description='method', max=1, style=ProgressStyle(description_width='initia…"
      ]
     },
     "metadata": {},
     "output_type": "display_data"
    },
    {
     "data": {
      "application/vnd.jupyter.widget-view+json": {
       "model_id": "",
       "version_major": 2,
       "version_minor": 0
      },
      "text/plain": [
       "HBox(children=(IntProgress(value=0, description='method', max=1, style=ProgressStyle(description_width='initia…"
      ]
     },
     "metadata": {},
     "output_type": "display_data"
    },
    {
     "data": {
      "application/vnd.jupyter.widget-view+json": {
       "model_id": "",
       "version_major": 2,
       "version_minor": 0
      },
      "text/plain": [
       "HBox(children=(IntProgress(value=0, description='method', max=1, style=ProgressStyle(description_width='initia…"
      ]
     },
     "metadata": {},
     "output_type": "display_data"
    },
    {
     "data": {
      "application/vnd.jupyter.widget-view+json": {
       "model_id": "",
       "version_major": 2,
       "version_minor": 0
      },
      "text/plain": [
       "HBox(children=(IntProgress(value=0, description='binary', max=2, style=ProgressStyle(description_width='initia…"
      ]
     },
     "metadata": {},
     "output_type": "display_data"
    },
    {
     "data": {
      "application/vnd.jupyter.widget-view+json": {
       "model_id": "",
       "version_major": 2,
       "version_minor": 0
      },
      "text/plain": [
       "HBox(children=(IntProgress(value=0, description='metric', max=3, style=ProgressStyle(description_width='initia…"
      ]
     },
     "metadata": {},
     "output_type": "display_data"
    },
    {
     "data": {
      "application/vnd.jupyter.widget-view+json": {
       "model_id": "",
       "version_major": 2,
       "version_minor": 0
      },
      "text/plain": [
       "HBox(children=(IntProgress(value=0, description='method', max=1, style=ProgressStyle(description_width='initia…"
      ]
     },
     "metadata": {},
     "output_type": "display_data"
    },
    {
     "data": {
      "application/vnd.jupyter.widget-view+json": {
       "model_id": "",
       "version_major": 2,
       "version_minor": 0
      },
      "text/plain": [
       "HBox(children=(IntProgress(value=0, description='method', max=1, style=ProgressStyle(description_width='initia…"
      ]
     },
     "metadata": {},
     "output_type": "display_data"
    },
    {
     "data": {
      "application/vnd.jupyter.widget-view+json": {
       "model_id": "",
       "version_major": 2,
       "version_minor": 0
      },
      "text/plain": [
       "HBox(children=(IntProgress(value=0, description='method', max=1, style=ProgressStyle(description_width='initia…"
      ]
     },
     "metadata": {},
     "output_type": "display_data"
    },
    {
     "data": {
      "application/vnd.jupyter.widget-view+json": {
       "model_id": "",
       "version_major": 2,
       "version_minor": 0
      },
      "text/plain": [
       "HBox(children=(IntProgress(value=0, description='metric', max=3, style=ProgressStyle(description_width='initia…"
      ]
     },
     "metadata": {},
     "output_type": "display_data"
    },
    {
     "data": {
      "application/vnd.jupyter.widget-view+json": {
       "model_id": "",
       "version_major": 2,
       "version_minor": 0
      },
      "text/plain": [
       "HBox(children=(IntProgress(value=0, description='method', max=1, style=ProgressStyle(description_width='initia…"
      ]
     },
     "metadata": {},
     "output_type": "display_data"
    },
    {
     "data": {
      "application/vnd.jupyter.widget-view+json": {
       "model_id": "",
       "version_major": 2,
       "version_minor": 0
      },
      "text/plain": [
       "HBox(children=(IntProgress(value=0, description='method', max=1, style=ProgressStyle(description_width='initia…"
      ]
     },
     "metadata": {},
     "output_type": "display_data"
    },
    {
     "data": {
      "application/vnd.jupyter.widget-view+json": {
       "model_id": "",
       "version_major": 2,
       "version_minor": 0
      },
      "text/plain": [
       "HBox(children=(IntProgress(value=0, description='method', max=1, style=ProgressStyle(description_width='initia…"
      ]
     },
     "metadata": {},
     "output_type": "display_data"
    },
    {
     "data": {
      "application/vnd.jupyter.widget-view+json": {
       "model_id": "",
       "version_major": 2,
       "version_minor": 0
      },
      "text/plain": [
       "HBox(children=(IntProgress(value=0, description='binary', max=2, style=ProgressStyle(description_width='initia…"
      ]
     },
     "metadata": {},
     "output_type": "display_data"
    },
    {
     "data": {
      "application/vnd.jupyter.widget-view+json": {
       "model_id": "",
       "version_major": 2,
       "version_minor": 0
      },
      "text/plain": [
       "HBox(children=(IntProgress(value=0, description='metric', max=3, style=ProgressStyle(description_width='initia…"
      ]
     },
     "metadata": {},
     "output_type": "display_data"
    },
    {
     "data": {
      "application/vnd.jupyter.widget-view+json": {
       "model_id": "",
       "version_major": 2,
       "version_minor": 0
      },
      "text/plain": [
       "HBox(children=(IntProgress(value=0, description='method', max=1, style=ProgressStyle(description_width='initia…"
      ]
     },
     "metadata": {},
     "output_type": "display_data"
    },
    {
     "data": {
      "application/vnd.jupyter.widget-view+json": {
       "model_id": "",
       "version_major": 2,
       "version_minor": 0
      },
      "text/plain": [
       "HBox(children=(IntProgress(value=0, description='method', max=1, style=ProgressStyle(description_width='initia…"
      ]
     },
     "metadata": {},
     "output_type": "display_data"
    },
    {
     "data": {
      "application/vnd.jupyter.widget-view+json": {
       "model_id": "",
       "version_major": 2,
       "version_minor": 0
      },
      "text/plain": [
       "HBox(children=(IntProgress(value=0, description='method', max=1, style=ProgressStyle(description_width='initia…"
      ]
     },
     "metadata": {},
     "output_type": "display_data"
    },
    {
     "data": {
      "application/vnd.jupyter.widget-view+json": {
       "model_id": "",
       "version_major": 2,
       "version_minor": 0
      },
      "text/plain": [
       "HBox(children=(IntProgress(value=0, description='metric', max=3, style=ProgressStyle(description_width='initia…"
      ]
     },
     "metadata": {},
     "output_type": "display_data"
    },
    {
     "data": {
      "application/vnd.jupyter.widget-view+json": {
       "model_id": "",
       "version_major": 2,
       "version_minor": 0
      },
      "text/plain": [
       "HBox(children=(IntProgress(value=0, description='method', max=1, style=ProgressStyle(description_width='initia…"
      ]
     },
     "metadata": {},
     "output_type": "display_data"
    },
    {
     "data": {
      "application/vnd.jupyter.widget-view+json": {
       "model_id": "",
       "version_major": 2,
       "version_minor": 0
      },
      "text/plain": [
       "HBox(children=(IntProgress(value=0, description='method', max=1, style=ProgressStyle(description_width='initia…"
      ]
     },
     "metadata": {},
     "output_type": "display_data"
    },
    {
     "data": {
      "application/vnd.jupyter.widget-view+json": {
       "model_id": "",
       "version_major": 2,
       "version_minor": 0
      },
      "text/plain": [
       "HBox(children=(IntProgress(value=0, description='method', max=1, style=ProgressStyle(description_width='initia…"
      ]
     },
     "metadata": {},
     "output_type": "display_data"
    },
    {
     "name": "stdout",
     "output_type": "stream",
     "text": [
      "\r",
      "CPU times: user 5.33 s, sys: 184 ms, total: 5.52 s\n",
      "Wall time: 50.9 s\n"
     ]
    }
   ],
   "source": [
    "%%time\n",
    "\n",
    "vectorizers = ['CountVectorizer',\n",
    "               'TfidfVectorizer', \n",
    "               'NCutVectorizer'\n",
    "              ]\n",
    "min_df = np.arange(0.05, 0.5, 0.05)\n",
    "binary = [\n",
    "    True, \n",
    "    False\n",
    "]\n",
    "cluster_methods = ['nmf']#, 'lda']\n",
    "#, 'hierarchical', 'gaussian_mixture', 'spectral_clustering']\n",
    "metric = [\n",
    "    'euclidean', \n",
    "    'cosine',\n",
    "    'correlation'\n",
    "         ]\n",
    "\n",
    "total = 0\n",
    "total_rows = 0\n",
    "\n",
    "# Grid search\n",
    "for v in tqdm_notebook(vectorizers, desc=\"vectorizer\", leave=False):\n",
    "    for m in tqdm_notebook(min_df, desc=\"min_df\", leave=False):\n",
    "        for b in tqdm_notebook(binary, desc=\"binary\", leave=False):\n",
    "            for dist in tqdm_notebook(metric, desc=\"metric\", leave=False):\n",
    "                for method in tqdm_notebook(cluster_methods, desc=\"method\", leave=False):\n",
    "#                         total += 1\n",
    "                    # Get results for each combination and get best k value\n",
    "                    cols = [\"experiment_id\", \"dataset\", \"k\", \"gap\", \"gap_std\", \"silhouette\", \"silhouette_samples\", \n",
    "                            \"coherence_samples\", \"coherence_med\", \"coherence_std\", \"coherence_k\"]\n",
    "#                         cols = ['dataset', 'k', 'min_df', 'is_binary', 'vectorizer', 'method', 'distance', 'gap', 'clustering_time', 'gap_time', 'silhouette_time', 'coherence_time']\n",
    "\n",
    "                    query = \"SELECT %s from experiments where \" % \", \".join(cols)\n",
    "                    where_clause = [(\"vectorizer\", v), (\"min_df\", m), (\"is_binary\", b), \n",
    "                                    (\"distance\", dist), (\"method\", method), (\"dataset\", 'solution_cleaned')]\n",
    "                    query += \" AND \".join([\"%s = '%s'\" % item for item in where_clause])\n",
    "#                         print(query)\n",
    "                    cursor.execute(query)\n",
    "                    r = cursor.fetchall()\n",
    "                    df = pd.DataFrame(r, columns=cols)\n",
    "                    total += df.shape[0]\n",
    "                    total_rows += 1\n",
    "\n",
    "                    if df.shape[0]:\n",
    "                        experiment_id = df['experiment_id'].values.tolist()[0]\n",
    "\n",
    "                        # Get measure values\n",
    "                        gaps_original = df['gap'].values.tolist()\n",
    "                        gaps = gaps_original[:]\n",
    "                        error = df['gap_std'].values.tolist()\n",
    "                        sils = df['silhouette'].values.tolist()\n",
    "                        coherence = df['coherence_med'].values.tolist()\n",
    "                        coherence_std = df['coherence_std'].values.tolist()\n",
    "                        coherence_array = df['coherence_samples'].values.tolist()\n",
    "\n",
    "                        # Gap\n",
    "                        gap_k, gap_k2 = define_k(gaps, error)\n",
    "                        # Silhouette\n",
    "                        silhouette_k = np.argsort(np.asarray(sils))[::-1][0]+2\n",
    "                        silhouette_k2 = np.argsort(np.asarray(sils))[::-1][1]+2\n",
    "                        # Coherence\n",
    "                        coherence_med = []\n",
    "#                         coherence_std = []\n",
    "                        for c in coherence_array:\n",
    "                            coherence_med.append(np.median(np.asarray([i for i in c if str(i) != 'nan'])))\n",
    "#                             coherence_std.append(np.std(np.asarray([i for i in c if str(i) != 'nan'])))\n",
    "                        coherence_k = np.argsort(np.asarray(coherence_med))[::-1][0]+2\n",
    "                        coherence_k2 = np.argsort(np.asarray(coherence_med))[::-1][1]+2\n",
    "\n",
    "                        cols = [\"experiment_id\", \"gap_k\", \"gap_k2\", \"silhouette_k\", \"silhouette_k2\", \"coherence_k\", \"coherence_k2\"]\n",
    "                        insert_query = \"INSERT INTO EXPERIMENTS_RESULT (%s) VALUES \" % \", \".join(cols)\n",
    "                        values = [experiment_id, gap_k, gap_k2, silhouette_k, silhouette_k2, coherence_k, coherence_k2]\n",
    "                        values = [int(i) for i in values]\n",
    "                        insert_query += \"(\" + \", \".join([\"%s\"]*len(values)) + \")\"\n",
    "                        query = cursor.mogrify(insert_query, values)\n",
    "                        try:\n",
    "                            cursor.execute(query)\n",
    "                        except psycopg2.IntegrityError:\n",
    "                            print(\"error on exp id %d\" % experiment_id)\n",
    "                            pass\n",
    "#                         break\n",
    "#                     break\n",
    "#                 break\n",
    "#             break\n",
    "#         break\n",
    "#     break"
   ]
  },
  {
   "cell_type": "code",
   "execution_count": 6,
   "metadata": {
    "scrolled": false
   },
   "outputs": [
    {
     "data": {
      "text/plain": [
       "162"
      ]
     },
     "execution_count": 6,
     "metadata": {},
     "output_type": "execute_result"
    }
   ],
   "source": [
    "total_rows"
   ]
  },
  {
   "cell_type": "code",
   "execution_count": 7,
   "metadata": {},
   "outputs": [
    {
     "data": {
      "text/html": [
       "<div>\n",
       "<style scoped>\n",
       "    .dataframe tbody tr th:only-of-type {\n",
       "        vertical-align: middle;\n",
       "    }\n",
       "\n",
       "    .dataframe tbody tr th {\n",
       "        vertical-align: top;\n",
       "    }\n",
       "\n",
       "    .dataframe thead th {\n",
       "        text-align: right;\n",
       "    }\n",
       "</style>\n",
       "<table border=\"1\" class=\"dataframe\">\n",
       "  <thead>\n",
       "    <tr style=\"text-align: right;\">\n",
       "      <th></th>\n",
       "      <th>experiment_id</th>\n",
       "      <th>dataset</th>\n",
       "      <th>k</th>\n",
       "      <th>gap</th>\n",
       "      <th>gap_std</th>\n",
       "      <th>silhouette</th>\n",
       "      <th>silhouette_samples</th>\n",
       "      <th>coherence_samples</th>\n",
       "      <th>coherence_med</th>\n",
       "      <th>coherence_std</th>\n",
       "      <th>coherence_k</th>\n",
       "    </tr>\n",
       "  </thead>\n",
       "  <tbody>\n",
       "    <tr>\n",
       "      <th>0</th>\n",
       "      <td>3343</td>\n",
       "      <td>solution_cleaned</td>\n",
       "      <td>2</td>\n",
       "      <td>-0.379455</td>\n",
       "      <td>0.042938</td>\n",
       "      <td>0.231953</td>\n",
       "      <td>[0.363933, -0.121124, 0.393696, 0.229898, 0.33...</td>\n",
       "      <td>[-0.367618, -0.320221]</td>\n",
       "      <td>-0.343919</td>\n",
       "      <td>0.023699</td>\n",
       "      <td>2</td>\n",
       "    </tr>\n",
       "    <tr>\n",
       "      <th>1</th>\n",
       "      <td>3346</td>\n",
       "      <td>solution_cleaned</td>\n",
       "      <td>3</td>\n",
       "      <td>-0.416307</td>\n",
       "      <td>0.050053</td>\n",
       "      <td>0.159546</td>\n",
       "      <td>[0.172255, -0.137655, 0.17968, 0.192183, 0.244...</td>\n",
       "      <td>[-0.42455, -0.285958, -0.793357]</td>\n",
       "      <td>-0.424550</td>\n",
       "      <td>0.214134</td>\n",
       "      <td>3</td>\n",
       "    </tr>\n",
       "    <tr>\n",
       "      <th>2</th>\n",
       "      <td>3349</td>\n",
       "      <td>solution_cleaned</td>\n",
       "      <td>4</td>\n",
       "      <td>-0.325083</td>\n",
       "      <td>0.057242</td>\n",
       "      <td>0.165351</td>\n",
       "      <td>[0.176855, 0.121285, -0.194166, 0.135314, 0.17...</td>\n",
       "      <td>[-0.450998, -0.239854, -0.546252, -0.219151]</td>\n",
       "      <td>-0.345426</td>\n",
       "      <td>0.138905</td>\n",
       "      <td>4</td>\n",
       "    </tr>\n",
       "  </tbody>\n",
       "</table>\n",
       "</div>"
      ],
      "text/plain": [
       "   experiment_id           dataset  k       gap   gap_std  silhouette  \\\n",
       "0           3343  solution_cleaned  2 -0.379455  0.042938    0.231953   \n",
       "1           3346  solution_cleaned  3 -0.416307  0.050053    0.159546   \n",
       "2           3349  solution_cleaned  4 -0.325083  0.057242    0.165351   \n",
       "\n",
       "                                  silhouette_samples  \\\n",
       "0  [0.363933, -0.121124, 0.393696, 0.229898, 0.33...   \n",
       "1  [0.172255, -0.137655, 0.17968, 0.192183, 0.244...   \n",
       "2  [0.176855, 0.121285, -0.194166, 0.135314, 0.17...   \n",
       "\n",
       "                              coherence_samples  coherence_med  coherence_std  \\\n",
       "0                        [-0.367618, -0.320221]      -0.343919       0.023699   \n",
       "1              [-0.42455, -0.285958, -0.793357]      -0.424550       0.214134   \n",
       "2  [-0.450998, -0.239854, -0.546252, -0.219151]      -0.345426       0.138905   \n",
       "\n",
       "   coherence_k  \n",
       "0            2  \n",
       "1            3  \n",
       "2            4  "
      ]
     },
     "execution_count": 7,
     "metadata": {},
     "output_type": "execute_result"
    }
   ],
   "source": [
    "df.sort_values('k')"
   ]
  },
  {
   "cell_type": "code",
   "execution_count": 20,
   "metadata": {},
   "outputs": [
    {
     "name": "stdout",
     "output_type": "stream",
     "text": [
      "SELECT experiment_id, dataset, k, gap, gap_std, silhouette, silhouette_samples, coherence_samples, coherence_med, coherence_std, coherence_k, model from experiments where vectorizer = 'TfidfVectorizer' AND min_df = '0.05' AND is_binary = 'False' AND distance = 'cosine' AND method = 'nmf' AND dataset = 'solution_cleaned'\n"
     ]
    }
   ],
   "source": [
    "# Get experiment conditions\n",
    "exp_id = 2877\n",
    "# exp_id = 1618\n",
    "# exp_id = 1616\n",
    "# exp_id = 558\n",
    "cols = [\"vectorizer\", \"min_df\", \"is_binary\", \"distance\", \"method\", \"dataset\"]\n",
    "query = \"SELECT %s from experiments where experiment_id = %s\" % (\", \".join(cols), exp_id) \n",
    "cursor.execute(query)\n",
    "r = cursor.fetchall()\n",
    "# print(r[0])\n",
    "where_clause = zip(*[cols, r[0]])\n",
    "\n",
    "# Get all k\n",
    "cols = [\"experiment_id\", \"dataset\", \"k\", \"gap\", \"gap_std\", \"silhouette\", \"silhouette_samples\", \n",
    "        \"coherence_samples\", \"coherence_med\", \"coherence_std\", \"coherence_k\", \"model\"]\n",
    "\n",
    "query = \"SELECT %s from experiments where \" % \", \".join(cols)\n",
    "query += \" AND \".join([\"%s = '%s'\" % item for item in where_clause])\n",
    "cursor.execute(query)\n",
    "print(query)\n",
    "r = cursor.fetchall()\n",
    "df = pd.DataFrame(r, columns=cols)\n",
    "\n",
    "gaps_original = df['gap'].values.tolist()\n",
    "gaps = gaps_original[:]\n",
    "error = df['gap_std'].values.tolist()\n",
    "sils = df['silhouette'].values.tolist()\n",
    "coherence = df['coherence_med'].values.tolist()\n",
    "coherence_std = df['coherence_std'].values.tolist()\n",
    "coherence_array = df['coherence_samples'].values.tolist()\n",
    "\n",
    "# Get measure values\n",
    "gaps_original = df['gap'].values.tolist()\n",
    "gaps = gaps_original[:]\n",
    "error = df['gap_std'].values.tolist()\n",
    "sils = df['silhouette'].values.tolist()\n",
    "coherence = df['coherence_med'].values.tolist()\n",
    "coherence_std = df['coherence_std'].values.tolist()\n",
    "coherence_array = df['coherence_samples'].values.tolist()\n",
    "# print(coherence)\n",
    "# print(coherence_array)\n",
    "\n",
    "# Gap\n",
    "gap_k, gap_k2 = define_k(gaps, error)\n",
    "# Silhouette\n",
    "silhouette_k = np.argsort(np.asarray(sils))[::-1][0]+2\n",
    "silhouette_k2 = np.argsort(np.asarray(sils))[::-1][1]+2\n",
    "# Coherence\n",
    "coherence_med = []\n",
    "#                         coherence_std = []\n",
    "for c in coherence_array:\n",
    "    coherence_med.append(np.median(np.asarray([i for i in c if str(i) != 'nan'])))\n",
    "#                             coherence_std.append(np.std(np.asarray([i for i in c if str(i) != 'nan'])))\n",
    "coherence_k = np.argsort(np.asarray(coherence_med))[::-1][0]+2\n",
    "coherence_k2 = np.argsort(np.asarray(coherence_med))[::-1][1]+2"
   ]
  },
  {
   "cell_type": "code",
   "execution_count": 21,
   "metadata": {},
   "outputs": [
    {
     "data": {
      "text/html": [
       "<div>\n",
       "<style scoped>\n",
       "    .dataframe tbody tr th:only-of-type {\n",
       "        vertical-align: middle;\n",
       "    }\n",
       "\n",
       "    .dataframe tbody tr th {\n",
       "        vertical-align: top;\n",
       "    }\n",
       "\n",
       "    .dataframe thead th {\n",
       "        text-align: right;\n",
       "    }\n",
       "</style>\n",
       "<table border=\"1\" class=\"dataframe\">\n",
       "  <thead>\n",
       "    <tr style=\"text-align: right;\">\n",
       "      <th></th>\n",
       "      <th>experiment_id</th>\n",
       "      <th>dataset</th>\n",
       "      <th>k</th>\n",
       "      <th>gap</th>\n",
       "      <th>gap_std</th>\n",
       "      <th>silhouette</th>\n",
       "      <th>silhouette_samples</th>\n",
       "      <th>coherence_samples</th>\n",
       "      <th>coherence_med</th>\n",
       "      <th>coherence_std</th>\n",
       "      <th>coherence_k</th>\n",
       "      <th>model</th>\n",
       "    </tr>\n",
       "  </thead>\n",
       "  <tbody>\n",
       "    <tr>\n",
       "      <th>0</th>\n",
       "      <td>2877</td>\n",
       "      <td>solution_cleaned</td>\n",
       "      <td>2</td>\n",
       "      <td>-1.101690</td>\n",
       "      <td>0.016318</td>\n",
       "      <td>0.113856</td>\n",
       "      <td>[0.0910362, 0.0899089, 0.0650297, 0.347683, 0....</td>\n",
       "      <td>[0.169276, -0.018794]</td>\n",
       "      <td>0.075241</td>\n",
       "      <td>0.094035</td>\n",
       "      <td>2</td>\n",
       "      <td>[b'g', b'A', b'N', b'j', b'c', b'2', b't', b's...</td>\n",
       "    </tr>\n",
       "    <tr>\n",
       "      <th>1</th>\n",
       "      <td>2880</td>\n",
       "      <td>solution_cleaned</td>\n",
       "      <td>3</td>\n",
       "      <td>-1.083370</td>\n",
       "      <td>0.015344</td>\n",
       "      <td>0.110495</td>\n",
       "      <td>[0.0427183, 0.0797941, 0.0583066, 0.348751, 0....</td>\n",
       "      <td>[0.247658, 0.00702558, nan]</td>\n",
       "      <td>NaN</td>\n",
       "      <td>NaN</td>\n",
       "      <td>3</td>\n",
       "      <td>[b'g', b'A', b'N', b'j', b'c', b'2', b't', b's...</td>\n",
       "    </tr>\n",
       "    <tr>\n",
       "      <th>2</th>\n",
       "      <td>2883</td>\n",
       "      <td>solution_cleaned</td>\n",
       "      <td>4</td>\n",
       "      <td>-1.051180</td>\n",
       "      <td>0.016759</td>\n",
       "      <td>0.131671</td>\n",
       "      <td>[0.0209995, 0.0175666, 0.0851467, 0.381323, 0....</td>\n",
       "      <td>[0.364865, 0.0185718, nan, nan]</td>\n",
       "      <td>NaN</td>\n",
       "      <td>NaN</td>\n",
       "      <td>4</td>\n",
       "      <td>[b'g', b'A', b'N', b'j', b'c', b'2', b't', b's...</td>\n",
       "    </tr>\n",
       "    <tr>\n",
       "      <th>3</th>\n",
       "      <td>2886</td>\n",
       "      <td>solution_cleaned</td>\n",
       "      <td>5</td>\n",
       "      <td>-1.032390</td>\n",
       "      <td>0.014738</td>\n",
       "      <td>0.128372</td>\n",
       "      <td>[-0.0299044, 0.0595839, 0.0839842, 0.376996, 0...</td>\n",
       "      <td>[-0.0878919, -0.129132, nan, nan, 0.582378]</td>\n",
       "      <td>NaN</td>\n",
       "      <td>NaN</td>\n",
       "      <td>5</td>\n",
       "      <td>[b'g', b'A', b'N', b'j', b'c', b'2', b't', b's...</td>\n",
       "    </tr>\n",
       "    <tr>\n",
       "      <th>4</th>\n",
       "      <td>2889</td>\n",
       "      <td>solution_cleaned</td>\n",
       "      <td>6</td>\n",
       "      <td>-1.005820</td>\n",
       "      <td>0.017520</td>\n",
       "      <td>0.131839</td>\n",
       "      <td>[0.125599, -0.0499577, 0.208344, 0.362252, 0.2...</td>\n",
       "      <td>[-0.831837, nan, nan, nan, -0.763933, -1.83684]</td>\n",
       "      <td>NaN</td>\n",
       "      <td>NaN</td>\n",
       "      <td>6</td>\n",
       "      <td>[b'g', b'A', b'N', b'j', b'c', b'2', b't', b's...</td>\n",
       "    </tr>\n",
       "    <tr>\n",
       "      <th>5</th>\n",
       "      <td>2892</td>\n",
       "      <td>solution_cleaned</td>\n",
       "      <td>7</td>\n",
       "      <td>-0.977292</td>\n",
       "      <td>0.016899</td>\n",
       "      <td>0.171261</td>\n",
       "      <td>[0.066834, 0.0404079, -0.0614916, 0.42232, 0.3...</td>\n",
       "      <td>[-0.0661229, -0.787303, -1.4218, nan, -1.67933...</td>\n",
       "      <td>NaN</td>\n",
       "      <td>NaN</td>\n",
       "      <td>7</td>\n",
       "      <td>[b'g', b'A', b'N', b'j', b'c', b'2', b't', b's...</td>\n",
       "    </tr>\n",
       "  </tbody>\n",
       "</table>\n",
       "</div>"
      ],
      "text/plain": [
       "   experiment_id           dataset  k       gap   gap_std  silhouette  \\\n",
       "0           2877  solution_cleaned  2 -1.101690  0.016318    0.113856   \n",
       "1           2880  solution_cleaned  3 -1.083370  0.015344    0.110495   \n",
       "2           2883  solution_cleaned  4 -1.051180  0.016759    0.131671   \n",
       "3           2886  solution_cleaned  5 -1.032390  0.014738    0.128372   \n",
       "4           2889  solution_cleaned  6 -1.005820  0.017520    0.131839   \n",
       "5           2892  solution_cleaned  7 -0.977292  0.016899    0.171261   \n",
       "\n",
       "                                  silhouette_samples  \\\n",
       "0  [0.0910362, 0.0899089, 0.0650297, 0.347683, 0....   \n",
       "1  [0.0427183, 0.0797941, 0.0583066, 0.348751, 0....   \n",
       "2  [0.0209995, 0.0175666, 0.0851467, 0.381323, 0....   \n",
       "3  [-0.0299044, 0.0595839, 0.0839842, 0.376996, 0...   \n",
       "4  [0.125599, -0.0499577, 0.208344, 0.362252, 0.2...   \n",
       "5  [0.066834, 0.0404079, -0.0614916, 0.42232, 0.3...   \n",
       "\n",
       "                                   coherence_samples  coherence_med  \\\n",
       "0                              [0.169276, -0.018794]       0.075241   \n",
       "1                        [0.247658, 0.00702558, nan]            NaN   \n",
       "2                    [0.364865, 0.0185718, nan, nan]            NaN   \n",
       "3        [-0.0878919, -0.129132, nan, nan, 0.582378]            NaN   \n",
       "4    [-0.831837, nan, nan, nan, -0.763933, -1.83684]            NaN   \n",
       "5  [-0.0661229, -0.787303, -1.4218, nan, -1.67933...            NaN   \n",
       "\n",
       "   coherence_std  coherence_k  \\\n",
       "0       0.094035            2   \n",
       "1            NaN            3   \n",
       "2            NaN            4   \n",
       "3            NaN            5   \n",
       "4            NaN            6   \n",
       "5            NaN            7   \n",
       "\n",
       "                                               model  \n",
       "0  [b'g', b'A', b'N', b'j', b'c', b'2', b't', b's...  \n",
       "1  [b'g', b'A', b'N', b'j', b'c', b'2', b't', b's...  \n",
       "2  [b'g', b'A', b'N', b'j', b'c', b'2', b't', b's...  \n",
       "3  [b'g', b'A', b'N', b'j', b'c', b'2', b't', b's...  \n",
       "4  [b'g', b'A', b'N', b'j', b'c', b'2', b't', b's...  \n",
       "5  [b'g', b'A', b'N', b'j', b'c', b'2', b't', b's...  "
      ]
     },
     "execution_count": 21,
     "metadata": {},
     "output_type": "execute_result"
    }
   ],
   "source": [
    "df"
   ]
  },
  {
   "cell_type": "code",
   "execution_count": 22,
   "metadata": {},
   "outputs": [],
   "source": [
    "%matplotlib notebook"
   ]
  },
  {
   "cell_type": "code",
   "execution_count": 23,
   "metadata": {},
   "outputs": [
    {
     "data": {
      "application/javascript": [
       "/* Put everything inside the global mpl namespace */\n",
       "window.mpl = {};\n",
       "\n",
       "\n",
       "mpl.get_websocket_type = function() {\n",
       "    if (typeof(WebSocket) !== 'undefined') {\n",
       "        return WebSocket;\n",
       "    } else if (typeof(MozWebSocket) !== 'undefined') {\n",
       "        return MozWebSocket;\n",
       "    } else {\n",
       "        alert('Your browser does not have WebSocket support.' +\n",
       "              'Please try Chrome, Safari or Firefox ≥ 6. ' +\n",
       "              'Firefox 4 and 5 are also supported but you ' +\n",
       "              'have to enable WebSockets in about:config.');\n",
       "    };\n",
       "}\n",
       "\n",
       "mpl.figure = function(figure_id, websocket, ondownload, parent_element) {\n",
       "    this.id = figure_id;\n",
       "\n",
       "    this.ws = websocket;\n",
       "\n",
       "    this.supports_binary = (this.ws.binaryType != undefined);\n",
       "\n",
       "    if (!this.supports_binary) {\n",
       "        var warnings = document.getElementById(\"mpl-warnings\");\n",
       "        if (warnings) {\n",
       "            warnings.style.display = 'block';\n",
       "            warnings.textContent = (\n",
       "                \"This browser does not support binary websocket messages. \" +\n",
       "                    \"Performance may be slow.\");\n",
       "        }\n",
       "    }\n",
       "\n",
       "    this.imageObj = new Image();\n",
       "\n",
       "    this.context = undefined;\n",
       "    this.message = undefined;\n",
       "    this.canvas = undefined;\n",
       "    this.rubberband_canvas = undefined;\n",
       "    this.rubberband_context = undefined;\n",
       "    this.format_dropdown = undefined;\n",
       "\n",
       "    this.image_mode = 'full';\n",
       "\n",
       "    this.root = $('<div/>');\n",
       "    this._root_extra_style(this.root)\n",
       "    this.root.attr('style', 'display: inline-block');\n",
       "\n",
       "    $(parent_element).append(this.root);\n",
       "\n",
       "    this._init_header(this);\n",
       "    this._init_canvas(this);\n",
       "    this._init_toolbar(this);\n",
       "\n",
       "    var fig = this;\n",
       "\n",
       "    this.waiting = false;\n",
       "\n",
       "    this.ws.onopen =  function () {\n",
       "            fig.send_message(\"supports_binary\", {value: fig.supports_binary});\n",
       "            fig.send_message(\"send_image_mode\", {});\n",
       "            if (mpl.ratio != 1) {\n",
       "                fig.send_message(\"set_dpi_ratio\", {'dpi_ratio': mpl.ratio});\n",
       "            }\n",
       "            fig.send_message(\"refresh\", {});\n",
       "        }\n",
       "\n",
       "    this.imageObj.onload = function() {\n",
       "            if (fig.image_mode == 'full') {\n",
       "                // Full images could contain transparency (where diff images\n",
       "                // almost always do), so we need to clear the canvas so that\n",
       "                // there is no ghosting.\n",
       "                fig.context.clearRect(0, 0, fig.canvas.width, fig.canvas.height);\n",
       "            }\n",
       "            fig.context.drawImage(fig.imageObj, 0, 0);\n",
       "        };\n",
       "\n",
       "    this.imageObj.onunload = function() {\n",
       "        fig.ws.close();\n",
       "    }\n",
       "\n",
       "    this.ws.onmessage = this._make_on_message_function(this);\n",
       "\n",
       "    this.ondownload = ondownload;\n",
       "}\n",
       "\n",
       "mpl.figure.prototype._init_header = function() {\n",
       "    var titlebar = $(\n",
       "        '<div class=\"ui-dialog-titlebar ui-widget-header ui-corner-all ' +\n",
       "        'ui-helper-clearfix\"/>');\n",
       "    var titletext = $(\n",
       "        '<div class=\"ui-dialog-title\" style=\"width: 100%; ' +\n",
       "        'text-align: center; padding: 3px;\"/>');\n",
       "    titlebar.append(titletext)\n",
       "    this.root.append(titlebar);\n",
       "    this.header = titletext[0];\n",
       "}\n",
       "\n",
       "\n",
       "\n",
       "mpl.figure.prototype._canvas_extra_style = function(canvas_div) {\n",
       "\n",
       "}\n",
       "\n",
       "\n",
       "mpl.figure.prototype._root_extra_style = function(canvas_div) {\n",
       "\n",
       "}\n",
       "\n",
       "mpl.figure.prototype._init_canvas = function() {\n",
       "    var fig = this;\n",
       "\n",
       "    var canvas_div = $('<div/>');\n",
       "\n",
       "    canvas_div.attr('style', 'position: relative; clear: both; outline: 0');\n",
       "\n",
       "    function canvas_keyboard_event(event) {\n",
       "        return fig.key_event(event, event['data']);\n",
       "    }\n",
       "\n",
       "    canvas_div.keydown('key_press', canvas_keyboard_event);\n",
       "    canvas_div.keyup('key_release', canvas_keyboard_event);\n",
       "    this.canvas_div = canvas_div\n",
       "    this._canvas_extra_style(canvas_div)\n",
       "    this.root.append(canvas_div);\n",
       "\n",
       "    var canvas = $('<canvas/>');\n",
       "    canvas.addClass('mpl-canvas');\n",
       "    canvas.attr('style', \"left: 0; top: 0; z-index: 0; outline: 0\")\n",
       "\n",
       "    this.canvas = canvas[0];\n",
       "    this.context = canvas[0].getContext(\"2d\");\n",
       "\n",
       "    var backingStore = this.context.backingStorePixelRatio ||\n",
       "\tthis.context.webkitBackingStorePixelRatio ||\n",
       "\tthis.context.mozBackingStorePixelRatio ||\n",
       "\tthis.context.msBackingStorePixelRatio ||\n",
       "\tthis.context.oBackingStorePixelRatio ||\n",
       "\tthis.context.backingStorePixelRatio || 1;\n",
       "\n",
       "    mpl.ratio = (window.devicePixelRatio || 1) / backingStore;\n",
       "\n",
       "    var rubberband = $('<canvas/>');\n",
       "    rubberband.attr('style', \"position: absolute; left: 0; top: 0; z-index: 1;\")\n",
       "\n",
       "    var pass_mouse_events = true;\n",
       "\n",
       "    canvas_div.resizable({\n",
       "        start: function(event, ui) {\n",
       "            pass_mouse_events = false;\n",
       "        },\n",
       "        resize: function(event, ui) {\n",
       "            fig.request_resize(ui.size.width, ui.size.height);\n",
       "        },\n",
       "        stop: function(event, ui) {\n",
       "            pass_mouse_events = true;\n",
       "            fig.request_resize(ui.size.width, ui.size.height);\n",
       "        },\n",
       "    });\n",
       "\n",
       "    function mouse_event_fn(event) {\n",
       "        if (pass_mouse_events)\n",
       "            return fig.mouse_event(event, event['data']);\n",
       "    }\n",
       "\n",
       "    rubberband.mousedown('button_press', mouse_event_fn);\n",
       "    rubberband.mouseup('button_release', mouse_event_fn);\n",
       "    // Throttle sequential mouse events to 1 every 20ms.\n",
       "    rubberband.mousemove('motion_notify', mouse_event_fn);\n",
       "\n",
       "    rubberband.mouseenter('figure_enter', mouse_event_fn);\n",
       "    rubberband.mouseleave('figure_leave', mouse_event_fn);\n",
       "\n",
       "    canvas_div.on(\"wheel\", function (event) {\n",
       "        event = event.originalEvent;\n",
       "        event['data'] = 'scroll'\n",
       "        if (event.deltaY < 0) {\n",
       "            event.step = 1;\n",
       "        } else {\n",
       "            event.step = -1;\n",
       "        }\n",
       "        mouse_event_fn(event);\n",
       "    });\n",
       "\n",
       "    canvas_div.append(canvas);\n",
       "    canvas_div.append(rubberband);\n",
       "\n",
       "    this.rubberband = rubberband;\n",
       "    this.rubberband_canvas = rubberband[0];\n",
       "    this.rubberband_context = rubberband[0].getContext(\"2d\");\n",
       "    this.rubberband_context.strokeStyle = \"#000000\";\n",
       "\n",
       "    this._resize_canvas = function(width, height) {\n",
       "        // Keep the size of the canvas, canvas container, and rubber band\n",
       "        // canvas in synch.\n",
       "        canvas_div.css('width', width)\n",
       "        canvas_div.css('height', height)\n",
       "\n",
       "        canvas.attr('width', width * mpl.ratio);\n",
       "        canvas.attr('height', height * mpl.ratio);\n",
       "        canvas.attr('style', 'width: ' + width + 'px; height: ' + height + 'px;');\n",
       "\n",
       "        rubberband.attr('width', width);\n",
       "        rubberband.attr('height', height);\n",
       "    }\n",
       "\n",
       "    // Set the figure to an initial 600x600px, this will subsequently be updated\n",
       "    // upon first draw.\n",
       "    this._resize_canvas(600, 600);\n",
       "\n",
       "    // Disable right mouse context menu.\n",
       "    $(this.rubberband_canvas).bind(\"contextmenu\",function(e){\n",
       "        return false;\n",
       "    });\n",
       "\n",
       "    function set_focus () {\n",
       "        canvas.focus();\n",
       "        canvas_div.focus();\n",
       "    }\n",
       "\n",
       "    window.setTimeout(set_focus, 100);\n",
       "}\n",
       "\n",
       "mpl.figure.prototype._init_toolbar = function() {\n",
       "    var fig = this;\n",
       "\n",
       "    var nav_element = $('<div/>')\n",
       "    nav_element.attr('style', 'width: 100%');\n",
       "    this.root.append(nav_element);\n",
       "\n",
       "    // Define a callback function for later on.\n",
       "    function toolbar_event(event) {\n",
       "        return fig.toolbar_button_onclick(event['data']);\n",
       "    }\n",
       "    function toolbar_mouse_event(event) {\n",
       "        return fig.toolbar_button_onmouseover(event['data']);\n",
       "    }\n",
       "\n",
       "    for(var toolbar_ind in mpl.toolbar_items) {\n",
       "        var name = mpl.toolbar_items[toolbar_ind][0];\n",
       "        var tooltip = mpl.toolbar_items[toolbar_ind][1];\n",
       "        var image = mpl.toolbar_items[toolbar_ind][2];\n",
       "        var method_name = mpl.toolbar_items[toolbar_ind][3];\n",
       "\n",
       "        if (!name) {\n",
       "            // put a spacer in here.\n",
       "            continue;\n",
       "        }\n",
       "        var button = $('<button/>');\n",
       "        button.addClass('ui-button ui-widget ui-state-default ui-corner-all ' +\n",
       "                        'ui-button-icon-only');\n",
       "        button.attr('role', 'button');\n",
       "        button.attr('aria-disabled', 'false');\n",
       "        button.click(method_name, toolbar_event);\n",
       "        button.mouseover(tooltip, toolbar_mouse_event);\n",
       "\n",
       "        var icon_img = $('<span/>');\n",
       "        icon_img.addClass('ui-button-icon-primary ui-icon');\n",
       "        icon_img.addClass(image);\n",
       "        icon_img.addClass('ui-corner-all');\n",
       "\n",
       "        var tooltip_span = $('<span/>');\n",
       "        tooltip_span.addClass('ui-button-text');\n",
       "        tooltip_span.html(tooltip);\n",
       "\n",
       "        button.append(icon_img);\n",
       "        button.append(tooltip_span);\n",
       "\n",
       "        nav_element.append(button);\n",
       "    }\n",
       "\n",
       "    var fmt_picker_span = $('<span/>');\n",
       "\n",
       "    var fmt_picker = $('<select/>');\n",
       "    fmt_picker.addClass('mpl-toolbar-option ui-widget ui-widget-content');\n",
       "    fmt_picker_span.append(fmt_picker);\n",
       "    nav_element.append(fmt_picker_span);\n",
       "    this.format_dropdown = fmt_picker[0];\n",
       "\n",
       "    for (var ind in mpl.extensions) {\n",
       "        var fmt = mpl.extensions[ind];\n",
       "        var option = $(\n",
       "            '<option/>', {selected: fmt === mpl.default_extension}).html(fmt);\n",
       "        fmt_picker.append(option)\n",
       "    }\n",
       "\n",
       "    // Add hover states to the ui-buttons\n",
       "    $( \".ui-button\" ).hover(\n",
       "        function() { $(this).addClass(\"ui-state-hover\");},\n",
       "        function() { $(this).removeClass(\"ui-state-hover\");}\n",
       "    );\n",
       "\n",
       "    var status_bar = $('<span class=\"mpl-message\"/>');\n",
       "    nav_element.append(status_bar);\n",
       "    this.message = status_bar[0];\n",
       "}\n",
       "\n",
       "mpl.figure.prototype.request_resize = function(x_pixels, y_pixels) {\n",
       "    // Request matplotlib to resize the figure. Matplotlib will then trigger a resize in the client,\n",
       "    // which will in turn request a refresh of the image.\n",
       "    this.send_message('resize', {'width': x_pixels, 'height': y_pixels});\n",
       "}\n",
       "\n",
       "mpl.figure.prototype.send_message = function(type, properties) {\n",
       "    properties['type'] = type;\n",
       "    properties['figure_id'] = this.id;\n",
       "    this.ws.send(JSON.stringify(properties));\n",
       "}\n",
       "\n",
       "mpl.figure.prototype.send_draw_message = function() {\n",
       "    if (!this.waiting) {\n",
       "        this.waiting = true;\n",
       "        this.ws.send(JSON.stringify({type: \"draw\", figure_id: this.id}));\n",
       "    }\n",
       "}\n",
       "\n",
       "\n",
       "mpl.figure.prototype.handle_save = function(fig, msg) {\n",
       "    var format_dropdown = fig.format_dropdown;\n",
       "    var format = format_dropdown.options[format_dropdown.selectedIndex].value;\n",
       "    fig.ondownload(fig, format);\n",
       "}\n",
       "\n",
       "\n",
       "mpl.figure.prototype.handle_resize = function(fig, msg) {\n",
       "    var size = msg['size'];\n",
       "    if (size[0] != fig.canvas.width || size[1] != fig.canvas.height) {\n",
       "        fig._resize_canvas(size[0], size[1]);\n",
       "        fig.send_message(\"refresh\", {});\n",
       "    };\n",
       "}\n",
       "\n",
       "mpl.figure.prototype.handle_rubberband = function(fig, msg) {\n",
       "    var x0 = msg['x0'] / mpl.ratio;\n",
       "    var y0 = (fig.canvas.height - msg['y0']) / mpl.ratio;\n",
       "    var x1 = msg['x1'] / mpl.ratio;\n",
       "    var y1 = (fig.canvas.height - msg['y1']) / mpl.ratio;\n",
       "    x0 = Math.floor(x0) + 0.5;\n",
       "    y0 = Math.floor(y0) + 0.5;\n",
       "    x1 = Math.floor(x1) + 0.5;\n",
       "    y1 = Math.floor(y1) + 0.5;\n",
       "    var min_x = Math.min(x0, x1);\n",
       "    var min_y = Math.min(y0, y1);\n",
       "    var width = Math.abs(x1 - x0);\n",
       "    var height = Math.abs(y1 - y0);\n",
       "\n",
       "    fig.rubberband_context.clearRect(\n",
       "        0, 0, fig.canvas.width, fig.canvas.height);\n",
       "\n",
       "    fig.rubberband_context.strokeRect(min_x, min_y, width, height);\n",
       "}\n",
       "\n",
       "mpl.figure.prototype.handle_figure_label = function(fig, msg) {\n",
       "    // Updates the figure title.\n",
       "    fig.header.textContent = msg['label'];\n",
       "}\n",
       "\n",
       "mpl.figure.prototype.handle_cursor = function(fig, msg) {\n",
       "    var cursor = msg['cursor'];\n",
       "    switch(cursor)\n",
       "    {\n",
       "    case 0:\n",
       "        cursor = 'pointer';\n",
       "        break;\n",
       "    case 1:\n",
       "        cursor = 'default';\n",
       "        break;\n",
       "    case 2:\n",
       "        cursor = 'crosshair';\n",
       "        break;\n",
       "    case 3:\n",
       "        cursor = 'move';\n",
       "        break;\n",
       "    }\n",
       "    fig.rubberband_canvas.style.cursor = cursor;\n",
       "}\n",
       "\n",
       "mpl.figure.prototype.handle_message = function(fig, msg) {\n",
       "    fig.message.textContent = msg['message'];\n",
       "}\n",
       "\n",
       "mpl.figure.prototype.handle_draw = function(fig, msg) {\n",
       "    // Request the server to send over a new figure.\n",
       "    fig.send_draw_message();\n",
       "}\n",
       "\n",
       "mpl.figure.prototype.handle_image_mode = function(fig, msg) {\n",
       "    fig.image_mode = msg['mode'];\n",
       "}\n",
       "\n",
       "mpl.figure.prototype.updated_canvas_event = function() {\n",
       "    // Called whenever the canvas gets updated.\n",
       "    this.send_message(\"ack\", {});\n",
       "}\n",
       "\n",
       "// A function to construct a web socket function for onmessage handling.\n",
       "// Called in the figure constructor.\n",
       "mpl.figure.prototype._make_on_message_function = function(fig) {\n",
       "    return function socket_on_message(evt) {\n",
       "        if (evt.data instanceof Blob) {\n",
       "            /* FIXME: We get \"Resource interpreted as Image but\n",
       "             * transferred with MIME type text/plain:\" errors on\n",
       "             * Chrome.  But how to set the MIME type?  It doesn't seem\n",
       "             * to be part of the websocket stream */\n",
       "            evt.data.type = \"image/png\";\n",
       "\n",
       "            /* Free the memory for the previous frames */\n",
       "            if (fig.imageObj.src) {\n",
       "                (window.URL || window.webkitURL).revokeObjectURL(\n",
       "                    fig.imageObj.src);\n",
       "            }\n",
       "\n",
       "            fig.imageObj.src = (window.URL || window.webkitURL).createObjectURL(\n",
       "                evt.data);\n",
       "            fig.updated_canvas_event();\n",
       "            fig.waiting = false;\n",
       "            return;\n",
       "        }\n",
       "        else if (typeof evt.data === 'string' && evt.data.slice(0, 21) == \"data:image/png;base64\") {\n",
       "            fig.imageObj.src = evt.data;\n",
       "            fig.updated_canvas_event();\n",
       "            fig.waiting = false;\n",
       "            return;\n",
       "        }\n",
       "\n",
       "        var msg = JSON.parse(evt.data);\n",
       "        var msg_type = msg['type'];\n",
       "\n",
       "        // Call the  \"handle_{type}\" callback, which takes\n",
       "        // the figure and JSON message as its only arguments.\n",
       "        try {\n",
       "            var callback = fig[\"handle_\" + msg_type];\n",
       "        } catch (e) {\n",
       "            console.log(\"No handler for the '\" + msg_type + \"' message type: \", msg);\n",
       "            return;\n",
       "        }\n",
       "\n",
       "        if (callback) {\n",
       "            try {\n",
       "                // console.log(\"Handling '\" + msg_type + \"' message: \", msg);\n",
       "                callback(fig, msg);\n",
       "            } catch (e) {\n",
       "                console.log(\"Exception inside the 'handler_\" + msg_type + \"' callback:\", e, e.stack, msg);\n",
       "            }\n",
       "        }\n",
       "    };\n",
       "}\n",
       "\n",
       "// from http://stackoverflow.com/questions/1114465/getting-mouse-location-in-canvas\n",
       "mpl.findpos = function(e) {\n",
       "    //this section is from http://www.quirksmode.org/js/events_properties.html\n",
       "    var targ;\n",
       "    if (!e)\n",
       "        e = window.event;\n",
       "    if (e.target)\n",
       "        targ = e.target;\n",
       "    else if (e.srcElement)\n",
       "        targ = e.srcElement;\n",
       "    if (targ.nodeType == 3) // defeat Safari bug\n",
       "        targ = targ.parentNode;\n",
       "\n",
       "    // jQuery normalizes the pageX and pageY\n",
       "    // pageX,Y are the mouse positions relative to the document\n",
       "    // offset() returns the position of the element relative to the document\n",
       "    var x = e.pageX - $(targ).offset().left;\n",
       "    var y = e.pageY - $(targ).offset().top;\n",
       "\n",
       "    return {\"x\": x, \"y\": y};\n",
       "};\n",
       "\n",
       "/*\n",
       " * return a copy of an object with only non-object keys\n",
       " * we need this to avoid circular references\n",
       " * http://stackoverflow.com/a/24161582/3208463\n",
       " */\n",
       "function simpleKeys (original) {\n",
       "  return Object.keys(original).reduce(function (obj, key) {\n",
       "    if (typeof original[key] !== 'object')\n",
       "        obj[key] = original[key]\n",
       "    return obj;\n",
       "  }, {});\n",
       "}\n",
       "\n",
       "mpl.figure.prototype.mouse_event = function(event, name) {\n",
       "    var canvas_pos = mpl.findpos(event)\n",
       "\n",
       "    if (name === 'button_press')\n",
       "    {\n",
       "        this.canvas.focus();\n",
       "        this.canvas_div.focus();\n",
       "    }\n",
       "\n",
       "    var x = canvas_pos.x * mpl.ratio;\n",
       "    var y = canvas_pos.y * mpl.ratio;\n",
       "\n",
       "    this.send_message(name, {x: x, y: y, button: event.button,\n",
       "                             step: event.step,\n",
       "                             guiEvent: simpleKeys(event)});\n",
       "\n",
       "    /* This prevents the web browser from automatically changing to\n",
       "     * the text insertion cursor when the button is pressed.  We want\n",
       "     * to control all of the cursor setting manually through the\n",
       "     * 'cursor' event from matplotlib */\n",
       "    event.preventDefault();\n",
       "    return false;\n",
       "}\n",
       "\n",
       "mpl.figure.prototype._key_event_extra = function(event, name) {\n",
       "    // Handle any extra behaviour associated with a key event\n",
       "}\n",
       "\n",
       "mpl.figure.prototype.key_event = function(event, name) {\n",
       "\n",
       "    // Prevent repeat events\n",
       "    if (name == 'key_press')\n",
       "    {\n",
       "        if (event.which === this._key)\n",
       "            return;\n",
       "        else\n",
       "            this._key = event.which;\n",
       "    }\n",
       "    if (name == 'key_release')\n",
       "        this._key = null;\n",
       "\n",
       "    var value = '';\n",
       "    if (event.ctrlKey && event.which != 17)\n",
       "        value += \"ctrl+\";\n",
       "    if (event.altKey && event.which != 18)\n",
       "        value += \"alt+\";\n",
       "    if (event.shiftKey && event.which != 16)\n",
       "        value += \"shift+\";\n",
       "\n",
       "    value += 'k';\n",
       "    value += event.which.toString();\n",
       "\n",
       "    this._key_event_extra(event, name);\n",
       "\n",
       "    this.send_message(name, {key: value,\n",
       "                             guiEvent: simpleKeys(event)});\n",
       "    return false;\n",
       "}\n",
       "\n",
       "mpl.figure.prototype.toolbar_button_onclick = function(name) {\n",
       "    if (name == 'download') {\n",
       "        this.handle_save(this, null);\n",
       "    } else {\n",
       "        this.send_message(\"toolbar_button\", {name: name});\n",
       "    }\n",
       "};\n",
       "\n",
       "mpl.figure.prototype.toolbar_button_onmouseover = function(tooltip) {\n",
       "    this.message.textContent = tooltip;\n",
       "};\n",
       "mpl.toolbar_items = [[\"Home\", \"Reset original view\", \"fa fa-home icon-home\", \"home\"], [\"Back\", \"Back to previous view\", \"fa fa-arrow-left icon-arrow-left\", \"back\"], [\"Forward\", \"Forward to next view\", \"fa fa-arrow-right icon-arrow-right\", \"forward\"], [\"\", \"\", \"\", \"\"], [\"Pan\", \"Pan axes with left mouse, zoom with right\", \"fa fa-arrows icon-move\", \"pan\"], [\"Zoom\", \"Zoom to rectangle\", \"fa fa-square-o icon-check-empty\", \"zoom\"], [\"\", \"\", \"\", \"\"], [\"Download\", \"Download plot\", \"fa fa-floppy-o icon-save\", \"download\"]];\n",
       "\n",
       "mpl.extensions = [\"eps\", \"pdf\", \"png\", \"ps\", \"raw\", \"svg\"];\n",
       "\n",
       "mpl.default_extension = \"png\";var comm_websocket_adapter = function(comm) {\n",
       "    // Create a \"websocket\"-like object which calls the given IPython comm\n",
       "    // object with the appropriate methods. Currently this is a non binary\n",
       "    // socket, so there is still some room for performance tuning.\n",
       "    var ws = {};\n",
       "\n",
       "    ws.close = function() {\n",
       "        comm.close()\n",
       "    };\n",
       "    ws.send = function(m) {\n",
       "        //console.log('sending', m);\n",
       "        comm.send(m);\n",
       "    };\n",
       "    // Register the callback with on_msg.\n",
       "    comm.on_msg(function(msg) {\n",
       "        //console.log('receiving', msg['content']['data'], msg);\n",
       "        // Pass the mpl event to the overridden (by mpl) onmessage function.\n",
       "        ws.onmessage(msg['content']['data'])\n",
       "    });\n",
       "    return ws;\n",
       "}\n",
       "\n",
       "mpl.mpl_figure_comm = function(comm, msg) {\n",
       "    // This is the function which gets called when the mpl process\n",
       "    // starts-up an IPython Comm through the \"matplotlib\" channel.\n",
       "\n",
       "    var id = msg.content.data.id;\n",
       "    // Get hold of the div created by the display call when the Comm\n",
       "    // socket was opened in Python.\n",
       "    var element = $(\"#\" + id);\n",
       "    var ws_proxy = comm_websocket_adapter(comm)\n",
       "\n",
       "    function ondownload(figure, format) {\n",
       "        window.open(figure.imageObj.src);\n",
       "    }\n",
       "\n",
       "    var fig = new mpl.figure(id, ws_proxy,\n",
       "                           ondownload,\n",
       "                           element.get(0));\n",
       "\n",
       "    // Call onopen now - mpl needs it, as it is assuming we've passed it a real\n",
       "    // web socket which is closed, not our websocket->open comm proxy.\n",
       "    ws_proxy.onopen();\n",
       "\n",
       "    fig.parent_element = element.get(0);\n",
       "    fig.cell_info = mpl.find_output_cell(\"<div id='\" + id + \"'></div>\");\n",
       "    if (!fig.cell_info) {\n",
       "        console.error(\"Failed to find cell for figure\", id, fig);\n",
       "        return;\n",
       "    }\n",
       "\n",
       "    var output_index = fig.cell_info[2]\n",
       "    var cell = fig.cell_info[0];\n",
       "\n",
       "};\n",
       "\n",
       "mpl.figure.prototype.handle_close = function(fig, msg) {\n",
       "    var width = fig.canvas.width/mpl.ratio\n",
       "    fig.root.unbind('remove')\n",
       "\n",
       "    // Update the output cell to use the data from the current canvas.\n",
       "    fig.push_to_output();\n",
       "    var dataURL = fig.canvas.toDataURL();\n",
       "    // Re-enable the keyboard manager in IPython - without this line, in FF,\n",
       "    // the notebook keyboard shortcuts fail.\n",
       "    IPython.keyboard_manager.enable()\n",
       "    $(fig.parent_element).html('<img src=\"' + dataURL + '\" width=\"' + width + '\">');\n",
       "    fig.close_ws(fig, msg);\n",
       "}\n",
       "\n",
       "mpl.figure.prototype.close_ws = function(fig, msg){\n",
       "    fig.send_message('closing', msg);\n",
       "    // fig.ws.close()\n",
       "}\n",
       "\n",
       "mpl.figure.prototype.push_to_output = function(remove_interactive) {\n",
       "    // Turn the data on the canvas into data in the output cell.\n",
       "    var width = this.canvas.width/mpl.ratio\n",
       "    var dataURL = this.canvas.toDataURL();\n",
       "    this.cell_info[1]['text/html'] = '<img src=\"' + dataURL + '\" width=\"' + width + '\">';\n",
       "}\n",
       "\n",
       "mpl.figure.prototype.updated_canvas_event = function() {\n",
       "    // Tell IPython that the notebook contents must change.\n",
       "    IPython.notebook.set_dirty(true);\n",
       "    this.send_message(\"ack\", {});\n",
       "    var fig = this;\n",
       "    // Wait a second, then push the new image to the DOM so\n",
       "    // that it is saved nicely (might be nice to debounce this).\n",
       "    setTimeout(function () { fig.push_to_output() }, 1000);\n",
       "}\n",
       "\n",
       "mpl.figure.prototype._init_toolbar = function() {\n",
       "    var fig = this;\n",
       "\n",
       "    var nav_element = $('<div/>')\n",
       "    nav_element.attr('style', 'width: 100%');\n",
       "    this.root.append(nav_element);\n",
       "\n",
       "    // Define a callback function for later on.\n",
       "    function toolbar_event(event) {\n",
       "        return fig.toolbar_button_onclick(event['data']);\n",
       "    }\n",
       "    function toolbar_mouse_event(event) {\n",
       "        return fig.toolbar_button_onmouseover(event['data']);\n",
       "    }\n",
       "\n",
       "    for(var toolbar_ind in mpl.toolbar_items){\n",
       "        var name = mpl.toolbar_items[toolbar_ind][0];\n",
       "        var tooltip = mpl.toolbar_items[toolbar_ind][1];\n",
       "        var image = mpl.toolbar_items[toolbar_ind][2];\n",
       "        var method_name = mpl.toolbar_items[toolbar_ind][3];\n",
       "\n",
       "        if (!name) { continue; };\n",
       "\n",
       "        var button = $('<button class=\"btn btn-default\" href=\"#\" title=\"' + name + '\"><i class=\"fa ' + image + ' fa-lg\"></i></button>');\n",
       "        button.click(method_name, toolbar_event);\n",
       "        button.mouseover(tooltip, toolbar_mouse_event);\n",
       "        nav_element.append(button);\n",
       "    }\n",
       "\n",
       "    // Add the status bar.\n",
       "    var status_bar = $('<span class=\"mpl-message\" style=\"text-align:right; float: right;\"/>');\n",
       "    nav_element.append(status_bar);\n",
       "    this.message = status_bar[0];\n",
       "\n",
       "    // Add the close button to the window.\n",
       "    var buttongrp = $('<div class=\"btn-group inline pull-right\"></div>');\n",
       "    var button = $('<button class=\"btn btn-mini btn-primary\" href=\"#\" title=\"Stop Interaction\"><i class=\"fa fa-power-off icon-remove icon-large\"></i></button>');\n",
       "    button.click(function (evt) { fig.handle_close(fig, {}); } );\n",
       "    button.mouseover('Stop Interaction', toolbar_mouse_event);\n",
       "    buttongrp.append(button);\n",
       "    var titlebar = this.root.find($('.ui-dialog-titlebar'));\n",
       "    titlebar.prepend(buttongrp);\n",
       "}\n",
       "\n",
       "mpl.figure.prototype._root_extra_style = function(el){\n",
       "    var fig = this\n",
       "    el.on(\"remove\", function(){\n",
       "\tfig.close_ws(fig, {});\n",
       "    });\n",
       "}\n",
       "\n",
       "mpl.figure.prototype._canvas_extra_style = function(el){\n",
       "    // this is important to make the div 'focusable\n",
       "    el.attr('tabindex', 0)\n",
       "    // reach out to IPython and tell the keyboard manager to turn it's self\n",
       "    // off when our div gets focus\n",
       "\n",
       "    // location in version 3\n",
       "    if (IPython.notebook.keyboard_manager) {\n",
       "        IPython.notebook.keyboard_manager.register_events(el);\n",
       "    }\n",
       "    else {\n",
       "        // location in version 2\n",
       "        IPython.keyboard_manager.register_events(el);\n",
       "    }\n",
       "\n",
       "}\n",
       "\n",
       "mpl.figure.prototype._key_event_extra = function(event, name) {\n",
       "    var manager = IPython.notebook.keyboard_manager;\n",
       "    if (!manager)\n",
       "        manager = IPython.keyboard_manager;\n",
       "\n",
       "    // Check for shift+enter\n",
       "    if (event.shiftKey && event.which == 13) {\n",
       "        this.canvas_div.blur();\n",
       "        event.shiftKey = false;\n",
       "        // Send a \"J\" for go to next cell\n",
       "        event.which = 74;\n",
       "        event.keyCode = 74;\n",
       "        manager.command_mode();\n",
       "        manager.handle_keydown(event);\n",
       "    }\n",
       "}\n",
       "\n",
       "mpl.figure.prototype.handle_save = function(fig, msg) {\n",
       "    fig.ondownload(fig, null);\n",
       "}\n",
       "\n",
       "\n",
       "mpl.find_output_cell = function(html_output) {\n",
       "    // Return the cell and output element which can be found *uniquely* in the notebook.\n",
       "    // Note - this is a bit hacky, but it is done because the \"notebook_saving.Notebook\"\n",
       "    // IPython event is triggered only after the cells have been serialised, which for\n",
       "    // our purposes (turning an active figure into a static one), is too late.\n",
       "    var cells = IPython.notebook.get_cells();\n",
       "    var ncells = cells.length;\n",
       "    for (var i=0; i<ncells; i++) {\n",
       "        var cell = cells[i];\n",
       "        if (cell.cell_type === 'code'){\n",
       "            for (var j=0; j<cell.output_area.outputs.length; j++) {\n",
       "                var data = cell.output_area.outputs[j];\n",
       "                if (data.data) {\n",
       "                    // IPython >= 3 moved mimebundle to data attribute of output\n",
       "                    data = data.data;\n",
       "                }\n",
       "                if (data['text/html'] == html_output) {\n",
       "                    return [cell, data, j];\n",
       "                }\n",
       "            }\n",
       "        }\n",
       "    }\n",
       "}\n",
       "\n",
       "// Register the function which deals with the matplotlib target/channel.\n",
       "// The kernel may be null if the page has been refreshed.\n",
       "if (IPython.notebook.kernel != null) {\n",
       "    IPython.notebook.kernel.comm_manager.register_target('matplotlib', mpl.mpl_figure_comm);\n",
       "}\n"
      ],
      "text/plain": [
       "<IPython.core.display.Javascript object>"
      ]
     },
     "metadata": {},
     "output_type": "display_data"
    },
    {
     "data": {
      "text/html": [
       "<img src=\"data:image/png;base64,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\" width=\"640\">"
      ],
      "text/plain": [
       "<IPython.core.display.HTML object>"
      ]
     },
     "metadata": {},
     "output_type": "display_data"
    },
    {
     "name": "stdout",
     "output_type": "stream",
     "text": [
      "k = 2\n",
      "2nd k = 2\n"
     ]
    }
   ],
   "source": [
    "# Plot data\n",
    "plt.figure()\n",
    "plt.errorbar(range(2,len(gaps)+2), gaps_original, yerr=error)\n",
    "plt.show()\n",
    "\n",
    "# Get best k\n",
    "print(\"k = %d\" % gap_k)\n",
    "print(\"2nd k = %d\" % gap_k2)"
   ]
  },
  {
   "cell_type": "code",
   "execution_count": 81,
   "metadata": {},
   "outputs": [
    {
     "data": {
      "application/javascript": [
       "/* Put everything inside the global mpl namespace */\n",
       "window.mpl = {};\n",
       "\n",
       "\n",
       "mpl.get_websocket_type = function() {\n",
       "    if (typeof(WebSocket) !== 'undefined') {\n",
       "        return WebSocket;\n",
       "    } else if (typeof(MozWebSocket) !== 'undefined') {\n",
       "        return MozWebSocket;\n",
       "    } else {\n",
       "        alert('Your browser does not have WebSocket support.' +\n",
       "              'Please try Chrome, Safari or Firefox ≥ 6. ' +\n",
       "              'Firefox 4 and 5 are also supported but you ' +\n",
       "              'have to enable WebSockets in about:config.');\n",
       "    };\n",
       "}\n",
       "\n",
       "mpl.figure = function(figure_id, websocket, ondownload, parent_element) {\n",
       "    this.id = figure_id;\n",
       "\n",
       "    this.ws = websocket;\n",
       "\n",
       "    this.supports_binary = (this.ws.binaryType != undefined);\n",
       "\n",
       "    if (!this.supports_binary) {\n",
       "        var warnings = document.getElementById(\"mpl-warnings\");\n",
       "        if (warnings) {\n",
       "            warnings.style.display = 'block';\n",
       "            warnings.textContent = (\n",
       "                \"This browser does not support binary websocket messages. \" +\n",
       "                    \"Performance may be slow.\");\n",
       "        }\n",
       "    }\n",
       "\n",
       "    this.imageObj = new Image();\n",
       "\n",
       "    this.context = undefined;\n",
       "    this.message = undefined;\n",
       "    this.canvas = undefined;\n",
       "    this.rubberband_canvas = undefined;\n",
       "    this.rubberband_context = undefined;\n",
       "    this.format_dropdown = undefined;\n",
       "\n",
       "    this.image_mode = 'full';\n",
       "\n",
       "    this.root = $('<div/>');\n",
       "    this._root_extra_style(this.root)\n",
       "    this.root.attr('style', 'display: inline-block');\n",
       "\n",
       "    $(parent_element).append(this.root);\n",
       "\n",
       "    this._init_header(this);\n",
       "    this._init_canvas(this);\n",
       "    this._init_toolbar(this);\n",
       "\n",
       "    var fig = this;\n",
       "\n",
       "    this.waiting = false;\n",
       "\n",
       "    this.ws.onopen =  function () {\n",
       "            fig.send_message(\"supports_binary\", {value: fig.supports_binary});\n",
       "            fig.send_message(\"send_image_mode\", {});\n",
       "            if (mpl.ratio != 1) {\n",
       "                fig.send_message(\"set_dpi_ratio\", {'dpi_ratio': mpl.ratio});\n",
       "            }\n",
       "            fig.send_message(\"refresh\", {});\n",
       "        }\n",
       "\n",
       "    this.imageObj.onload = function() {\n",
       "            if (fig.image_mode == 'full') {\n",
       "                // Full images could contain transparency (where diff images\n",
       "                // almost always do), so we need to clear the canvas so that\n",
       "                // there is no ghosting.\n",
       "                fig.context.clearRect(0, 0, fig.canvas.width, fig.canvas.height);\n",
       "            }\n",
       "            fig.context.drawImage(fig.imageObj, 0, 0);\n",
       "        };\n",
       "\n",
       "    this.imageObj.onunload = function() {\n",
       "        fig.ws.close();\n",
       "    }\n",
       "\n",
       "    this.ws.onmessage = this._make_on_message_function(this);\n",
       "\n",
       "    this.ondownload = ondownload;\n",
       "}\n",
       "\n",
       "mpl.figure.prototype._init_header = function() {\n",
       "    var titlebar = $(\n",
       "        '<div class=\"ui-dialog-titlebar ui-widget-header ui-corner-all ' +\n",
       "        'ui-helper-clearfix\"/>');\n",
       "    var titletext = $(\n",
       "        '<div class=\"ui-dialog-title\" style=\"width: 100%; ' +\n",
       "        'text-align: center; padding: 3px;\"/>');\n",
       "    titlebar.append(titletext)\n",
       "    this.root.append(titlebar);\n",
       "    this.header = titletext[0];\n",
       "}\n",
       "\n",
       "\n",
       "\n",
       "mpl.figure.prototype._canvas_extra_style = function(canvas_div) {\n",
       "\n",
       "}\n",
       "\n",
       "\n",
       "mpl.figure.prototype._root_extra_style = function(canvas_div) {\n",
       "\n",
       "}\n",
       "\n",
       "mpl.figure.prototype._init_canvas = function() {\n",
       "    var fig = this;\n",
       "\n",
       "    var canvas_div = $('<div/>');\n",
       "\n",
       "    canvas_div.attr('style', 'position: relative; clear: both; outline: 0');\n",
       "\n",
       "    function canvas_keyboard_event(event) {\n",
       "        return fig.key_event(event, event['data']);\n",
       "    }\n",
       "\n",
       "    canvas_div.keydown('key_press', canvas_keyboard_event);\n",
       "    canvas_div.keyup('key_release', canvas_keyboard_event);\n",
       "    this.canvas_div = canvas_div\n",
       "    this._canvas_extra_style(canvas_div)\n",
       "    this.root.append(canvas_div);\n",
       "\n",
       "    var canvas = $('<canvas/>');\n",
       "    canvas.addClass('mpl-canvas');\n",
       "    canvas.attr('style', \"left: 0; top: 0; z-index: 0; outline: 0\")\n",
       "\n",
       "    this.canvas = canvas[0];\n",
       "    this.context = canvas[0].getContext(\"2d\");\n",
       "\n",
       "    var backingStore = this.context.backingStorePixelRatio ||\n",
       "\tthis.context.webkitBackingStorePixelRatio ||\n",
       "\tthis.context.mozBackingStorePixelRatio ||\n",
       "\tthis.context.msBackingStorePixelRatio ||\n",
       "\tthis.context.oBackingStorePixelRatio ||\n",
       "\tthis.context.backingStorePixelRatio || 1;\n",
       "\n",
       "    mpl.ratio = (window.devicePixelRatio || 1) / backingStore;\n",
       "\n",
       "    var rubberband = $('<canvas/>');\n",
       "    rubberband.attr('style', \"position: absolute; left: 0; top: 0; z-index: 1;\")\n",
       "\n",
       "    var pass_mouse_events = true;\n",
       "\n",
       "    canvas_div.resizable({\n",
       "        start: function(event, ui) {\n",
       "            pass_mouse_events = false;\n",
       "        },\n",
       "        resize: function(event, ui) {\n",
       "            fig.request_resize(ui.size.width, ui.size.height);\n",
       "        },\n",
       "        stop: function(event, ui) {\n",
       "            pass_mouse_events = true;\n",
       "            fig.request_resize(ui.size.width, ui.size.height);\n",
       "        },\n",
       "    });\n",
       "\n",
       "    function mouse_event_fn(event) {\n",
       "        if (pass_mouse_events)\n",
       "            return fig.mouse_event(event, event['data']);\n",
       "    }\n",
       "\n",
       "    rubberband.mousedown('button_press', mouse_event_fn);\n",
       "    rubberband.mouseup('button_release', mouse_event_fn);\n",
       "    // Throttle sequential mouse events to 1 every 20ms.\n",
       "    rubberband.mousemove('motion_notify', mouse_event_fn);\n",
       "\n",
       "    rubberband.mouseenter('figure_enter', mouse_event_fn);\n",
       "    rubberband.mouseleave('figure_leave', mouse_event_fn);\n",
       "\n",
       "    canvas_div.on(\"wheel\", function (event) {\n",
       "        event = event.originalEvent;\n",
       "        event['data'] = 'scroll'\n",
       "        if (event.deltaY < 0) {\n",
       "            event.step = 1;\n",
       "        } else {\n",
       "            event.step = -1;\n",
       "        }\n",
       "        mouse_event_fn(event);\n",
       "    });\n",
       "\n",
       "    canvas_div.append(canvas);\n",
       "    canvas_div.append(rubberband);\n",
       "\n",
       "    this.rubberband = rubberband;\n",
       "    this.rubberband_canvas = rubberband[0];\n",
       "    this.rubberband_context = rubberband[0].getContext(\"2d\");\n",
       "    this.rubberband_context.strokeStyle = \"#000000\";\n",
       "\n",
       "    this._resize_canvas = function(width, height) {\n",
       "        // Keep the size of the canvas, canvas container, and rubber band\n",
       "        // canvas in synch.\n",
       "        canvas_div.css('width', width)\n",
       "        canvas_div.css('height', height)\n",
       "\n",
       "        canvas.attr('width', width * mpl.ratio);\n",
       "        canvas.attr('height', height * mpl.ratio);\n",
       "        canvas.attr('style', 'width: ' + width + 'px; height: ' + height + 'px;');\n",
       "\n",
       "        rubberband.attr('width', width);\n",
       "        rubberband.attr('height', height);\n",
       "    }\n",
       "\n",
       "    // Set the figure to an initial 600x600px, this will subsequently be updated\n",
       "    // upon first draw.\n",
       "    this._resize_canvas(600, 600);\n",
       "\n",
       "    // Disable right mouse context menu.\n",
       "    $(this.rubberband_canvas).bind(\"contextmenu\",function(e){\n",
       "        return false;\n",
       "    });\n",
       "\n",
       "    function set_focus () {\n",
       "        canvas.focus();\n",
       "        canvas_div.focus();\n",
       "    }\n",
       "\n",
       "    window.setTimeout(set_focus, 100);\n",
       "}\n",
       "\n",
       "mpl.figure.prototype._init_toolbar = function() {\n",
       "    var fig = this;\n",
       "\n",
       "    var nav_element = $('<div/>')\n",
       "    nav_element.attr('style', 'width: 100%');\n",
       "    this.root.append(nav_element);\n",
       "\n",
       "    // Define a callback function for later on.\n",
       "    function toolbar_event(event) {\n",
       "        return fig.toolbar_button_onclick(event['data']);\n",
       "    }\n",
       "    function toolbar_mouse_event(event) {\n",
       "        return fig.toolbar_button_onmouseover(event['data']);\n",
       "    }\n",
       "\n",
       "    for(var toolbar_ind in mpl.toolbar_items) {\n",
       "        var name = mpl.toolbar_items[toolbar_ind][0];\n",
       "        var tooltip = mpl.toolbar_items[toolbar_ind][1];\n",
       "        var image = mpl.toolbar_items[toolbar_ind][2];\n",
       "        var method_name = mpl.toolbar_items[toolbar_ind][3];\n",
       "\n",
       "        if (!name) {\n",
       "            // put a spacer in here.\n",
       "            continue;\n",
       "        }\n",
       "        var button = $('<button/>');\n",
       "        button.addClass('ui-button ui-widget ui-state-default ui-corner-all ' +\n",
       "                        'ui-button-icon-only');\n",
       "        button.attr('role', 'button');\n",
       "        button.attr('aria-disabled', 'false');\n",
       "        button.click(method_name, toolbar_event);\n",
       "        button.mouseover(tooltip, toolbar_mouse_event);\n",
       "\n",
       "        var icon_img = $('<span/>');\n",
       "        icon_img.addClass('ui-button-icon-primary ui-icon');\n",
       "        icon_img.addClass(image);\n",
       "        icon_img.addClass('ui-corner-all');\n",
       "\n",
       "        var tooltip_span = $('<span/>');\n",
       "        tooltip_span.addClass('ui-button-text');\n",
       "        tooltip_span.html(tooltip);\n",
       "\n",
       "        button.append(icon_img);\n",
       "        button.append(tooltip_span);\n",
       "\n",
       "        nav_element.append(button);\n",
       "    }\n",
       "\n",
       "    var fmt_picker_span = $('<span/>');\n",
       "\n",
       "    var fmt_picker = $('<select/>');\n",
       "    fmt_picker.addClass('mpl-toolbar-option ui-widget ui-widget-content');\n",
       "    fmt_picker_span.append(fmt_picker);\n",
       "    nav_element.append(fmt_picker_span);\n",
       "    this.format_dropdown = fmt_picker[0];\n",
       "\n",
       "    for (var ind in mpl.extensions) {\n",
       "        var fmt = mpl.extensions[ind];\n",
       "        var option = $(\n",
       "            '<option/>', {selected: fmt === mpl.default_extension}).html(fmt);\n",
       "        fmt_picker.append(option)\n",
       "    }\n",
       "\n",
       "    // Add hover states to the ui-buttons\n",
       "    $( \".ui-button\" ).hover(\n",
       "        function() { $(this).addClass(\"ui-state-hover\");},\n",
       "        function() { $(this).removeClass(\"ui-state-hover\");}\n",
       "    );\n",
       "\n",
       "    var status_bar = $('<span class=\"mpl-message\"/>');\n",
       "    nav_element.append(status_bar);\n",
       "    this.message = status_bar[0];\n",
       "}\n",
       "\n",
       "mpl.figure.prototype.request_resize = function(x_pixels, y_pixels) {\n",
       "    // Request matplotlib to resize the figure. Matplotlib will then trigger a resize in the client,\n",
       "    // which will in turn request a refresh of the image.\n",
       "    this.send_message('resize', {'width': x_pixels, 'height': y_pixels});\n",
       "}\n",
       "\n",
       "mpl.figure.prototype.send_message = function(type, properties) {\n",
       "    properties['type'] = type;\n",
       "    properties['figure_id'] = this.id;\n",
       "    this.ws.send(JSON.stringify(properties));\n",
       "}\n",
       "\n",
       "mpl.figure.prototype.send_draw_message = function() {\n",
       "    if (!this.waiting) {\n",
       "        this.waiting = true;\n",
       "        this.ws.send(JSON.stringify({type: \"draw\", figure_id: this.id}));\n",
       "    }\n",
       "}\n",
       "\n",
       "\n",
       "mpl.figure.prototype.handle_save = function(fig, msg) {\n",
       "    var format_dropdown = fig.format_dropdown;\n",
       "    var format = format_dropdown.options[format_dropdown.selectedIndex].value;\n",
       "    fig.ondownload(fig, format);\n",
       "}\n",
       "\n",
       "\n",
       "mpl.figure.prototype.handle_resize = function(fig, msg) {\n",
       "    var size = msg['size'];\n",
       "    if (size[0] != fig.canvas.width || size[1] != fig.canvas.height) {\n",
       "        fig._resize_canvas(size[0], size[1]);\n",
       "        fig.send_message(\"refresh\", {});\n",
       "    };\n",
       "}\n",
       "\n",
       "mpl.figure.prototype.handle_rubberband = function(fig, msg) {\n",
       "    var x0 = msg['x0'] / mpl.ratio;\n",
       "    var y0 = (fig.canvas.height - msg['y0']) / mpl.ratio;\n",
       "    var x1 = msg['x1'] / mpl.ratio;\n",
       "    var y1 = (fig.canvas.height - msg['y1']) / mpl.ratio;\n",
       "    x0 = Math.floor(x0) + 0.5;\n",
       "    y0 = Math.floor(y0) + 0.5;\n",
       "    x1 = Math.floor(x1) + 0.5;\n",
       "    y1 = Math.floor(y1) + 0.5;\n",
       "    var min_x = Math.min(x0, x1);\n",
       "    var min_y = Math.min(y0, y1);\n",
       "    var width = Math.abs(x1 - x0);\n",
       "    var height = Math.abs(y1 - y0);\n",
       "\n",
       "    fig.rubberband_context.clearRect(\n",
       "        0, 0, fig.canvas.width, fig.canvas.height);\n",
       "\n",
       "    fig.rubberband_context.strokeRect(min_x, min_y, width, height);\n",
       "}\n",
       "\n",
       "mpl.figure.prototype.handle_figure_label = function(fig, msg) {\n",
       "    // Updates the figure title.\n",
       "    fig.header.textContent = msg['label'];\n",
       "}\n",
       "\n",
       "mpl.figure.prototype.handle_cursor = function(fig, msg) {\n",
       "    var cursor = msg['cursor'];\n",
       "    switch(cursor)\n",
       "    {\n",
       "    case 0:\n",
       "        cursor = 'pointer';\n",
       "        break;\n",
       "    case 1:\n",
       "        cursor = 'default';\n",
       "        break;\n",
       "    case 2:\n",
       "        cursor = 'crosshair';\n",
       "        break;\n",
       "    case 3:\n",
       "        cursor = 'move';\n",
       "        break;\n",
       "    }\n",
       "    fig.rubberband_canvas.style.cursor = cursor;\n",
       "}\n",
       "\n",
       "mpl.figure.prototype.handle_message = function(fig, msg) {\n",
       "    fig.message.textContent = msg['message'];\n",
       "}\n",
       "\n",
       "mpl.figure.prototype.handle_draw = function(fig, msg) {\n",
       "    // Request the server to send over a new figure.\n",
       "    fig.send_draw_message();\n",
       "}\n",
       "\n",
       "mpl.figure.prototype.handle_image_mode = function(fig, msg) {\n",
       "    fig.image_mode = msg['mode'];\n",
       "}\n",
       "\n",
       "mpl.figure.prototype.updated_canvas_event = function() {\n",
       "    // Called whenever the canvas gets updated.\n",
       "    this.send_message(\"ack\", {});\n",
       "}\n",
       "\n",
       "// A function to construct a web socket function for onmessage handling.\n",
       "// Called in the figure constructor.\n",
       "mpl.figure.prototype._make_on_message_function = function(fig) {\n",
       "    return function socket_on_message(evt) {\n",
       "        if (evt.data instanceof Blob) {\n",
       "            /* FIXME: We get \"Resource interpreted as Image but\n",
       "             * transferred with MIME type text/plain:\" errors on\n",
       "             * Chrome.  But how to set the MIME type?  It doesn't seem\n",
       "             * to be part of the websocket stream */\n",
       "            evt.data.type = \"image/png\";\n",
       "\n",
       "            /* Free the memory for the previous frames */\n",
       "            if (fig.imageObj.src) {\n",
       "                (window.URL || window.webkitURL).revokeObjectURL(\n",
       "                    fig.imageObj.src);\n",
       "            }\n",
       "\n",
       "            fig.imageObj.src = (window.URL || window.webkitURL).createObjectURL(\n",
       "                evt.data);\n",
       "            fig.updated_canvas_event();\n",
       "            fig.waiting = false;\n",
       "            return;\n",
       "        }\n",
       "        else if (typeof evt.data === 'string' && evt.data.slice(0, 21) == \"data:image/png;base64\") {\n",
       "            fig.imageObj.src = evt.data;\n",
       "            fig.updated_canvas_event();\n",
       "            fig.waiting = false;\n",
       "            return;\n",
       "        }\n",
       "\n",
       "        var msg = JSON.parse(evt.data);\n",
       "        var msg_type = msg['type'];\n",
       "\n",
       "        // Call the  \"handle_{type}\" callback, which takes\n",
       "        // the figure and JSON message as its only arguments.\n",
       "        try {\n",
       "            var callback = fig[\"handle_\" + msg_type];\n",
       "        } catch (e) {\n",
       "            console.log(\"No handler for the '\" + msg_type + \"' message type: \", msg);\n",
       "            return;\n",
       "        }\n",
       "\n",
       "        if (callback) {\n",
       "            try {\n",
       "                // console.log(\"Handling '\" + msg_type + \"' message: \", msg);\n",
       "                callback(fig, msg);\n",
       "            } catch (e) {\n",
       "                console.log(\"Exception inside the 'handler_\" + msg_type + \"' callback:\", e, e.stack, msg);\n",
       "            }\n",
       "        }\n",
       "    };\n",
       "}\n",
       "\n",
       "// from http://stackoverflow.com/questions/1114465/getting-mouse-location-in-canvas\n",
       "mpl.findpos = function(e) {\n",
       "    //this section is from http://www.quirksmode.org/js/events_properties.html\n",
       "    var targ;\n",
       "    if (!e)\n",
       "        e = window.event;\n",
       "    if (e.target)\n",
       "        targ = e.target;\n",
       "    else if (e.srcElement)\n",
       "        targ = e.srcElement;\n",
       "    if (targ.nodeType == 3) // defeat Safari bug\n",
       "        targ = targ.parentNode;\n",
       "\n",
       "    // jQuery normalizes the pageX and pageY\n",
       "    // pageX,Y are the mouse positions relative to the document\n",
       "    // offset() returns the position of the element relative to the document\n",
       "    var x = e.pageX - $(targ).offset().left;\n",
       "    var y = e.pageY - $(targ).offset().top;\n",
       "\n",
       "    return {\"x\": x, \"y\": y};\n",
       "};\n",
       "\n",
       "/*\n",
       " * return a copy of an object with only non-object keys\n",
       " * we need this to avoid circular references\n",
       " * http://stackoverflow.com/a/24161582/3208463\n",
       " */\n",
       "function simpleKeys (original) {\n",
       "  return Object.keys(original).reduce(function (obj, key) {\n",
       "    if (typeof original[key] !== 'object')\n",
       "        obj[key] = original[key]\n",
       "    return obj;\n",
       "  }, {});\n",
       "}\n",
       "\n",
       "mpl.figure.prototype.mouse_event = function(event, name) {\n",
       "    var canvas_pos = mpl.findpos(event)\n",
       "\n",
       "    if (name === 'button_press')\n",
       "    {\n",
       "        this.canvas.focus();\n",
       "        this.canvas_div.focus();\n",
       "    }\n",
       "\n",
       "    var x = canvas_pos.x * mpl.ratio;\n",
       "    var y = canvas_pos.y * mpl.ratio;\n",
       "\n",
       "    this.send_message(name, {x: x, y: y, button: event.button,\n",
       "                             step: event.step,\n",
       "                             guiEvent: simpleKeys(event)});\n",
       "\n",
       "    /* This prevents the web browser from automatically changing to\n",
       "     * the text insertion cursor when the button is pressed.  We want\n",
       "     * to control all of the cursor setting manually through the\n",
       "     * 'cursor' event from matplotlib */\n",
       "    event.preventDefault();\n",
       "    return false;\n",
       "}\n",
       "\n",
       "mpl.figure.prototype._key_event_extra = function(event, name) {\n",
       "    // Handle any extra behaviour associated with a key event\n",
       "}\n",
       "\n",
       "mpl.figure.prototype.key_event = function(event, name) {\n",
       "\n",
       "    // Prevent repeat events\n",
       "    if (name == 'key_press')\n",
       "    {\n",
       "        if (event.which === this._key)\n",
       "            return;\n",
       "        else\n",
       "            this._key = event.which;\n",
       "    }\n",
       "    if (name == 'key_release')\n",
       "        this._key = null;\n",
       "\n",
       "    var value = '';\n",
       "    if (event.ctrlKey && event.which != 17)\n",
       "        value += \"ctrl+\";\n",
       "    if (event.altKey && event.which != 18)\n",
       "        value += \"alt+\";\n",
       "    if (event.shiftKey && event.which != 16)\n",
       "        value += \"shift+\";\n",
       "\n",
       "    value += 'k';\n",
       "    value += event.which.toString();\n",
       "\n",
       "    this._key_event_extra(event, name);\n",
       "\n",
       "    this.send_message(name, {key: value,\n",
       "                             guiEvent: simpleKeys(event)});\n",
       "    return false;\n",
       "}\n",
       "\n",
       "mpl.figure.prototype.toolbar_button_onclick = function(name) {\n",
       "    if (name == 'download') {\n",
       "        this.handle_save(this, null);\n",
       "    } else {\n",
       "        this.send_message(\"toolbar_button\", {name: name});\n",
       "    }\n",
       "};\n",
       "\n",
       "mpl.figure.prototype.toolbar_button_onmouseover = function(tooltip) {\n",
       "    this.message.textContent = tooltip;\n",
       "};\n",
       "mpl.toolbar_items = [[\"Home\", \"Reset original view\", \"fa fa-home icon-home\", \"home\"], [\"Back\", \"Back to previous view\", \"fa fa-arrow-left icon-arrow-left\", \"back\"], [\"Forward\", \"Forward to next view\", \"fa fa-arrow-right icon-arrow-right\", \"forward\"], [\"\", \"\", \"\", \"\"], [\"Pan\", \"Pan axes with left mouse, zoom with right\", \"fa fa-arrows icon-move\", \"pan\"], [\"Zoom\", \"Zoom to rectangle\", \"fa fa-square-o icon-check-empty\", \"zoom\"], [\"\", \"\", \"\", \"\"], [\"Download\", \"Download plot\", \"fa fa-floppy-o icon-save\", \"download\"]];\n",
       "\n",
       "mpl.extensions = [\"eps\", \"pdf\", \"png\", \"ps\", \"raw\", \"svg\"];\n",
       "\n",
       "mpl.default_extension = \"png\";var comm_websocket_adapter = function(comm) {\n",
       "    // Create a \"websocket\"-like object which calls the given IPython comm\n",
       "    // object with the appropriate methods. Currently this is a non binary\n",
       "    // socket, so there is still some room for performance tuning.\n",
       "    var ws = {};\n",
       "\n",
       "    ws.close = function() {\n",
       "        comm.close()\n",
       "    };\n",
       "    ws.send = function(m) {\n",
       "        //console.log('sending', m);\n",
       "        comm.send(m);\n",
       "    };\n",
       "    // Register the callback with on_msg.\n",
       "    comm.on_msg(function(msg) {\n",
       "        //console.log('receiving', msg['content']['data'], msg);\n",
       "        // Pass the mpl event to the overridden (by mpl) onmessage function.\n",
       "        ws.onmessage(msg['content']['data'])\n",
       "    });\n",
       "    return ws;\n",
       "}\n",
       "\n",
       "mpl.mpl_figure_comm = function(comm, msg) {\n",
       "    // This is the function which gets called when the mpl process\n",
       "    // starts-up an IPython Comm through the \"matplotlib\" channel.\n",
       "\n",
       "    var id = msg.content.data.id;\n",
       "    // Get hold of the div created by the display call when the Comm\n",
       "    // socket was opened in Python.\n",
       "    var element = $(\"#\" + id);\n",
       "    var ws_proxy = comm_websocket_adapter(comm)\n",
       "\n",
       "    function ondownload(figure, format) {\n",
       "        window.open(figure.imageObj.src);\n",
       "    }\n",
       "\n",
       "    var fig = new mpl.figure(id, ws_proxy,\n",
       "                           ondownload,\n",
       "                           element.get(0));\n",
       "\n",
       "    // Call onopen now - mpl needs it, as it is assuming we've passed it a real\n",
       "    // web socket which is closed, not our websocket->open comm proxy.\n",
       "    ws_proxy.onopen();\n",
       "\n",
       "    fig.parent_element = element.get(0);\n",
       "    fig.cell_info = mpl.find_output_cell(\"<div id='\" + id + \"'></div>\");\n",
       "    if (!fig.cell_info) {\n",
       "        console.error(\"Failed to find cell for figure\", id, fig);\n",
       "        return;\n",
       "    }\n",
       "\n",
       "    var output_index = fig.cell_info[2]\n",
       "    var cell = fig.cell_info[0];\n",
       "\n",
       "};\n",
       "\n",
       "mpl.figure.prototype.handle_close = function(fig, msg) {\n",
       "    var width = fig.canvas.width/mpl.ratio\n",
       "    fig.root.unbind('remove')\n",
       "\n",
       "    // Update the output cell to use the data from the current canvas.\n",
       "    fig.push_to_output();\n",
       "    var dataURL = fig.canvas.toDataURL();\n",
       "    // Re-enable the keyboard manager in IPython - without this line, in FF,\n",
       "    // the notebook keyboard shortcuts fail.\n",
       "    IPython.keyboard_manager.enable()\n",
       "    $(fig.parent_element).html('<img src=\"' + dataURL + '\" width=\"' + width + '\">');\n",
       "    fig.close_ws(fig, msg);\n",
       "}\n",
       "\n",
       "mpl.figure.prototype.close_ws = function(fig, msg){\n",
       "    fig.send_message('closing', msg);\n",
       "    // fig.ws.close()\n",
       "}\n",
       "\n",
       "mpl.figure.prototype.push_to_output = function(remove_interactive) {\n",
       "    // Turn the data on the canvas into data in the output cell.\n",
       "    var width = this.canvas.width/mpl.ratio\n",
       "    var dataURL = this.canvas.toDataURL();\n",
       "    this.cell_info[1]['text/html'] = '<img src=\"' + dataURL + '\" width=\"' + width + '\">';\n",
       "}\n",
       "\n",
       "mpl.figure.prototype.updated_canvas_event = function() {\n",
       "    // Tell IPython that the notebook contents must change.\n",
       "    IPython.notebook.set_dirty(true);\n",
       "    this.send_message(\"ack\", {});\n",
       "    var fig = this;\n",
       "    // Wait a second, then push the new image to the DOM so\n",
       "    // that it is saved nicely (might be nice to debounce this).\n",
       "    setTimeout(function () { fig.push_to_output() }, 1000);\n",
       "}\n",
       "\n",
       "mpl.figure.prototype._init_toolbar = function() {\n",
       "    var fig = this;\n",
       "\n",
       "    var nav_element = $('<div/>')\n",
       "    nav_element.attr('style', 'width: 100%');\n",
       "    this.root.append(nav_element);\n",
       "\n",
       "    // Define a callback function for later on.\n",
       "    function toolbar_event(event) {\n",
       "        return fig.toolbar_button_onclick(event['data']);\n",
       "    }\n",
       "    function toolbar_mouse_event(event) {\n",
       "        return fig.toolbar_button_onmouseover(event['data']);\n",
       "    }\n",
       "\n",
       "    for(var toolbar_ind in mpl.toolbar_items){\n",
       "        var name = mpl.toolbar_items[toolbar_ind][0];\n",
       "        var tooltip = mpl.toolbar_items[toolbar_ind][1];\n",
       "        var image = mpl.toolbar_items[toolbar_ind][2];\n",
       "        var method_name = mpl.toolbar_items[toolbar_ind][3];\n",
       "\n",
       "        if (!name) { continue; };\n",
       "\n",
       "        var button = $('<button class=\"btn btn-default\" href=\"#\" title=\"' + name + '\"><i class=\"fa ' + image + ' fa-lg\"></i></button>');\n",
       "        button.click(method_name, toolbar_event);\n",
       "        button.mouseover(tooltip, toolbar_mouse_event);\n",
       "        nav_element.append(button);\n",
       "    }\n",
       "\n",
       "    // Add the status bar.\n",
       "    var status_bar = $('<span class=\"mpl-message\" style=\"text-align:right; float: right;\"/>');\n",
       "    nav_element.append(status_bar);\n",
       "    this.message = status_bar[0];\n",
       "\n",
       "    // Add the close button to the window.\n",
       "    var buttongrp = $('<div class=\"btn-group inline pull-right\"></div>');\n",
       "    var button = $('<button class=\"btn btn-mini btn-primary\" href=\"#\" title=\"Stop Interaction\"><i class=\"fa fa-power-off icon-remove icon-large\"></i></button>');\n",
       "    button.click(function (evt) { fig.handle_close(fig, {}); } );\n",
       "    button.mouseover('Stop Interaction', toolbar_mouse_event);\n",
       "    buttongrp.append(button);\n",
       "    var titlebar = this.root.find($('.ui-dialog-titlebar'));\n",
       "    titlebar.prepend(buttongrp);\n",
       "}\n",
       "\n",
       "mpl.figure.prototype._root_extra_style = function(el){\n",
       "    var fig = this\n",
       "    el.on(\"remove\", function(){\n",
       "\tfig.close_ws(fig, {});\n",
       "    });\n",
       "}\n",
       "\n",
       "mpl.figure.prototype._canvas_extra_style = function(el){\n",
       "    // this is important to make the div 'focusable\n",
       "    el.attr('tabindex', 0)\n",
       "    // reach out to IPython and tell the keyboard manager to turn it's self\n",
       "    // off when our div gets focus\n",
       "\n",
       "    // location in version 3\n",
       "    if (IPython.notebook.keyboard_manager) {\n",
       "        IPython.notebook.keyboard_manager.register_events(el);\n",
       "    }\n",
       "    else {\n",
       "        // location in version 2\n",
       "        IPython.keyboard_manager.register_events(el);\n",
       "    }\n",
       "\n",
       "}\n",
       "\n",
       "mpl.figure.prototype._key_event_extra = function(event, name) {\n",
       "    var manager = IPython.notebook.keyboard_manager;\n",
       "    if (!manager)\n",
       "        manager = IPython.keyboard_manager;\n",
       "\n",
       "    // Check for shift+enter\n",
       "    if (event.shiftKey && event.which == 13) {\n",
       "        this.canvas_div.blur();\n",
       "        event.shiftKey = false;\n",
       "        // Send a \"J\" for go to next cell\n",
       "        event.which = 74;\n",
       "        event.keyCode = 74;\n",
       "        manager.command_mode();\n",
       "        manager.handle_keydown(event);\n",
       "    }\n",
       "}\n",
       "\n",
       "mpl.figure.prototype.handle_save = function(fig, msg) {\n",
       "    fig.ondownload(fig, null);\n",
       "}\n",
       "\n",
       "\n",
       "mpl.find_output_cell = function(html_output) {\n",
       "    // Return the cell and output element which can be found *uniquely* in the notebook.\n",
       "    // Note - this is a bit hacky, but it is done because the \"notebook_saving.Notebook\"\n",
       "    // IPython event is triggered only after the cells have been serialised, which for\n",
       "    // our purposes (turning an active figure into a static one), is too late.\n",
       "    var cells = IPython.notebook.get_cells();\n",
       "    var ncells = cells.length;\n",
       "    for (var i=0; i<ncells; i++) {\n",
       "        var cell = cells[i];\n",
       "        if (cell.cell_type === 'code'){\n",
       "            for (var j=0; j<cell.output_area.outputs.length; j++) {\n",
       "                var data = cell.output_area.outputs[j];\n",
       "                if (data.data) {\n",
       "                    // IPython >= 3 moved mimebundle to data attribute of output\n",
       "                    data = data.data;\n",
       "                }\n",
       "                if (data['text/html'] == html_output) {\n",
       "                    return [cell, data, j];\n",
       "                }\n",
       "            }\n",
       "        }\n",
       "    }\n",
       "}\n",
       "\n",
       "// Register the function which deals with the matplotlib target/channel.\n",
       "// The kernel may be null if the page has been refreshed.\n",
       "if (IPython.notebook.kernel != null) {\n",
       "    IPython.notebook.kernel.comm_manager.register_target('matplotlib', mpl.mpl_figure_comm);\n",
       "}\n"
      ],
      "text/plain": [
       "<IPython.core.display.Javascript object>"
      ]
     },
     "metadata": {},
     "output_type": "display_data"
    },
    {
     "data": {
      "text/html": [
       "<img src=\"data:image/png;base64,iVBORw0KGgoAAAANSUhEUgAAAoAAAAHgCAYAAAA10dzkAAAgAElEQVR4nO3deXhV1b3/8fgg4GNbh/6qbbWynAAt1KFVFGvL9drWVr3ayamt0smh2nr1Vt0BgTgBiigOgCgKOII4ILoSwjwmEGYIJECAAGFIGDMAGc/5/P4IpAYDJOzkrLPPfr+eZ/+Rk3OS7+7+2u+Hk7PWThIAAABCJcl1AQAAAIgtAiAAAEDIEAABAABChgAIAAAQMgRAAACAkCEAAgAAhAwBEAAAIGQIgAAAACFDAAQAAAgZAiAAAEDIEAABAABChgAIAAAQMgRAAACAkCEAAgAAhAwBEAAAIGQIgAAAACFDAAQAAAgZAiAAAEDIEAABAABChgAIAAAQMgRAAACAkCEAAgAAhAwBEAAAIGQIgAAAACFDAAQAAAgZAiAAAEDIEAABAABChgAIAAAQMgRAAACAkCEAAgAAhAwBEAAAIGQIgAAAACFDAAQAAAgZAiAAAEDIEAABAABChgAIAAAQMgRAAACAkCEAAgAAhAwBEAAAIGQIgAAAACFDAAQAAAgZAiAAAEDIEAABAABChgAIAAAQMgRAAACAkCEAAgAAhAwBEAAAIGQIgAAAACFDAAQAAAgZAiAAAEDIEAABAABChgAIAAAQMgRAAACAkCEAAgAAhAwBEAAAIGQIgAAAACFDAPQhEomooKBAxcXFKikp4eDg4ODg4AjAUVxcrIKCAkUiEddRwhkCoA8FBQVKSkri4ODg4ODgCOBRUFDgOko4QwD0obi4uK6BXP9rhoODg4ODg6Nxx8E3cIqLi11HCWcIgD6UlJQoKSlJJSUlrksBAACNxPwmAPpCAwEAEDzMbwKgLzQQAADBw/wmAPpCAwEAEDzMbwKgLzQQAADBw/wmAPpCAwEAEDzMbwKgLzQQAADBw/wmAPpCAwEAEDzMbwKgLzQQAADBw/wmAPpCAwEAEDzMbwKgLzQQAADBw/wmAPpCAwEAEDzMbwKgLzQQAADBw/wmAPpCA+Fwstbv0oD0XFVU17guBQBwCOY3AdAXGggNKauo1g+fmiTjWY2cs951OQCAQzC/CYC+0EBoyCtT1sh4VsazuvGV2a7LAQAcgvlNAPSFBsKhdu+tVOc+6XUB0HhWq7aVui4LAPAlzG8CoC80EA7VLy1HxrO6btBM/W3UAhnPqm9qjuuyAABfwvwmAPpCA+HLCkvK1eHxNBnPakpOoSau2CbjWV32zGRV10RclwcAOID5TQD0hQbClz0+brmMZ/XboRmKRqOqrI7o0gOLQablFrkuDwBwAPObAOgLDYSDNuzcq/N6pMp4VvPW7ax7/InPV8h4Vve/t8hhdQCAL2N+EwB9oYFw0ENjlsh4Vne+lVXv8RVbimU8q/Y901S8r8pRdQCAL2N+EwB9oYEgSbnbSnR2cu2K3+UFxV/5/nWDZsp4Vu/M3eCgOgDAoZjfBEBfaCBIqlvt+4/3Fjb4/eGz1sl4VjcPnhPjygAADWF+EwB9oYGwaONuGc/qnGSrvKKyBp+zvbRC5x74fODhngMAiB3mNwHQFxoo3KLRqG5/fa6MZ/XI2KVHfO7fRs2X8ayenZAbo+oAAIfD/CYA+kIDhdvsNTvqFngU7N53xOemLd8q41l16TtZNZFojCoEADSE+U0A9IUGCq9oNKqbXp0t41mljF9x1OdXVNfo4icnynhWM1Zvj0GFAIDDYX4TAH2hgcJrQnbtXT4u7D1BO8oqGvWaPp9ly3hW//pgcQtXBwA4EuY3AdAXGiicaiJR/eyFGTKe1cCJqxr9umUFe2Q8qw6Pp6mknD0BAcAV5jcB0BcaKJw+Xlgg41ld9MREFe9vfJCLRqP6+Yu1wfGDrI0tWCEA4EiY3wRAX2ig8KmsjujHz06V8axem7G2ya8fNmNt3f2CAQBuML8JgL7QQOEzKiNfxrO6/JnJ2l9Z0+TXF5WU65wDdw1Zv2NvC1QIADga5jcB0BcaKFz2VVbrR09P9n1bt+4jsmQ8q+fTG//5QQBA82F+EwB9oYHCZfC0PBnP6urnpqqyOnLMP+eLZVtkPKuu/aYowp6AABBzzG8CoC80UHgU76vSD1LSZTyrTxcX+PpZ5VU1dT9rTt6OZqoQANBYzG8CoC80UHg8NyFXxrP6+YszmuVOHj0/XS7jWT00ZkkzVAcAaArmNwHQFxooHIpKy3VBrwkyntXEFdua5Wcu3rhbxrPq2CtNpewJCAAxxfwmAPpCA4XDwTt43Dx4jqLR5vnMXjQa1TUDp8t4Vh/O39QsPxMA0DjMbwKgLzRQ4tu0a5/O75kq41llNPPn9YZMr11UcsuwzGb9uQCAI2N+EwB9oYES3/99uFTGs/rj8HnN/rO3Fu/X2Qf2BNywkz0BASBWmN8EQF9ooMS2prC0btPmJZv2tMjv+NOb82Q8qxcmrW6Rnw8A+CrmNwHQFxoosd37zkIZz+qedxa02O/4bMlmGc/qx89OZU9AAIgR5jcB0BcaKHEt3bRHxrM6O9lqdWFpi/2e8qoade5Tuydg5tqdLfZ7AAD/wfwmAPpCAyWug3+affjDlt+nL/mTZTKe1b/HLm3x3wUAYH5LBEBfaKDElLF2h4xndX7PVG3ata/Ff9+C/F0yntWFvSdob0V1i/8+AAg75jcB0BcaKPFEo1H9esgcGc+q92fZMfud3QZMk/GsPl7o7zZzAICjY34TAH2hgRLPpJWFdXfoKCotj9nvfWXKGhnP6vbX58bsdwJAWDG/CYC+0ECJJRKJ6hcvzpTxrJ6dkBvT3715z3/2BIzFn50BIMyY3wRAX2igxDJuce2WLJ1T0lW8L/b35/3D8LkyntXLU9bE/HcDQJgwvwmAvtBAiaOyOqKfPFf7ObzB0/Kc1PDJogIZz+qnA6Y12z2HAQBfxfwmAPpCAyWOd+dukPGsfvT0JO2rdLMSd19ltb7fe4KMZzU/f5eTGgAgDJjfBEBfaKDEsL+yRpc/M1nGsxo5Z73TWh4ZW3vv4cc+Wua0DgBIZMzvAAXAwYMHyxijtm3bqkuXLsrKyjrsc1esWKHf/va3MsYoKSlJgwYN8v0zG0IDJYZhM9bKeFZX9Z+qiuoap7XMW7dTxrPq1Cdd+yvd1gIAiYr5HZAAOGbMGLVp00YjRozQypUrdffdd+uUU05RUVFRg8+fP3++HnnkEY0ePVrf+c53GgyATf2ZDaGBgq+kvEoXPzlRxrMau2CT63IUiUR19XNTZTyrcYs3uy4HABIS8zsgAbBLly564IEH6r6ORCI644wz1L9//6O+1hjTYAD08zMPooGC74WJq2Q8q2tfmKGaSHwsvBg0ebWMZ/XH4fNclwIACYn5HYAAWFlZqVatWmncuHH1Hr/rrrt00003HfX1DQVAvz/zIBoo2HaUVejCA4suJmRvdV1OnU279sl4VmcnW23Zs991OQCQcJjfAQiAW7ZsUVJSkjIzM+s9/uijj6pLly5HfX1DAfBYf2ZFRYVKSkrqjoKCgtA3UJA9+flKGc/qf16dHXfbrtw6LNPpljQAkMgIgATAJv3MlJQUJSUlfeUIcwMF1eY9+9W+Z5qMZzVrzXbX5XzF2AWbZDyra56fHnfhFACCjgAYgAAYT38C5h3AxPHoR7Xbrdz2emZcBqyyimpd0Kv2z9MLN+x2XQ4AJBQCYAACoFS7YOOf//xn3deRSERnnnmm70Ugx/ozD6KBgmnt9jKdc+C+u/Ecrh7+cImMZ5X8yXLXpQBAQmF+ByQAjhkzRm3bttWoUaOUk5Oje+65R6eccooKCwslSXfeeaeSk5Prnl9ZWaklS5ZoyZIl+u53v6tHHnlES5YsUV5eXqN/ZmPQQMF0/3uLZDyrv42a77qUI8rI21F3b+LyKvYEBIDmwvwOSACUpFdffVXt2rVTmzZt1KVLF82b958tMrp166bu3bvXfZ2fn9/gZ/W6devW6J/ZGDRQ8GRvLq5bYZuzNb6vWyQS1VX9a/cEHL90i+tyACBhML8DFADjEQ0UPHe9lSXjWT04erHrUhrl4D6Fd73VtLvUAAAOj/lNAPSFBgqWg7dZO69Hqjbs3Ou6nEbJ37FXxrM6J9mqsKTcdTkAkBCY3wRAX2ig4IhGo/rd0AwZz6rnp8FaVPH712rrfm3GWtelAEBCYH4TAH2hgYJjWm6RjGfV4fE0bSsO1jtpo7M21t2uLh63rAGAoGF+EwB9oYGCIRKJ6pcvzZLxrPql5rgup8lKyqvUsVftptVLNu1xXQ4ABB7zmwDoCw0UDJ8v3VK7nUqfdO3eW+m6nGPy4OjFMp5Vr3HZrksBgMBjfhMAfaGB4l9VTUT/9fx0Gc/q5SlrXJdzzGat2S7jWV30xERVVLMnIAD4wfwmAPpCA8W/Dw58fu6HT01SWUW163KOWU0kqiv7TZHxrFKXb3VdDgAEGvObAOgLDRTfyqtqdEXf2tD05uz1rsvx7bkJuTKe1V9GxvcdTAAg3jG/CYC+0EDxbfisdTKeVdd+UxLiVmprt5fJeFbn9khVUWmwVjIDQDxhfhMAfaGB4ldpeZUueXKijGc1Zv5G1+U0m18PmSPjWb0xc53rUgAgsJjfBEBfaKD4NWjyahnP6prnp6u6JuK6nGbz3rwNMp7VL16cyZ6AAHCMmN8EQF9ooPi0a2+lOvVJl/Gsvli2xXU5zap4f5XaP167J2D25mLX5QBAIDG/CYC+0EDx6Rm7Usazuv7lWYpEEu9dsgfeXyTjWaWMX+G6FAAIJOY3AdAXGij+bC3eX/cO2bRVRa7LaRHTV9Xe1u6SJyeqsjpx/rwNALHC/CYA+kIDxZ/kT5bLeFa3vJaZsJ+Rq4lEdfkzk2U8qwnZ21yXAwCBw/wmAPpCA8WX9Tv26tweqTKe1fz8Xa7LaVH90nJkPKu/v73AdSkAEDjMbwKgLzRQfPnXB7X3y/3ziCzXpbS4NYWlMp7VeT1StaOswnU5ABAozG8CoC80UPxYuaVExrOhWh1706uzE+YuJwAQS8xvAqAvNFD8+OvI+TKe1QPvL3JdSsy8nZkv41n96qVZrksBgEBhfhMAfaGB4sOC/F11t0hbt73MdTkxs3tvpdr3rF3xvHILPQgAjcX8JgD6QgO5F41GdcuwTBnPyvt4metyYu6+dxfKeFZPfbHSdSkAEBjMbwKgLzSQezNWb5fxrNo/nqYte/a7LifmpuQUynhWP3xqkqoS6JZ3ANCSmN8EQF9oILei0ahueGVWqN8Bq6qJ6EdP1+4JOHlloetyACAQmN8EQF9oILdSl2+V8ay+33uCdoZ4K5Snv6i99d297yx0XQoABALzmwDoCw3kTnVNRNcMnC7jWb0wabXrcpzK2Vq7Bc75PVO1e2+l63IAIO4xvwmAvtBA7ny4YJOMZ3XxkxNVWl7luhznrn+59k/hozLyXZcCAHGP+U0A9IUGcqOiukZX9Z8q41m9PnOt63Liwog562U8qxtfme26FACIe8xvAqAvNJAbB8POFX2nqLyqxnU5cWFnWYXOO3Af5FXbSl2XAwBxjflNAPSFBoq9vRXV+uFTk2Q8q/fnbXRdTly5++0FMp5V39Qc16UAQFxjfhMAfaGBYu/VqWtkPKtuA6ax790hJq7YJuNZXfbMZFXzvw0AHBbzmwDoCw0UW3v2VapzSrqMZ/XZks2uy4k7ldURXXrg3dFpuUWuywGAuMX8JgD6QgPFVv+0XBnP6rpBMxWJRF2XE5ee+HyFjGd1/3uLXJcCAHGL+U0A9IUGip2iknJ17JUm41lNyeGOF4eTvbm49tZ4PdNUvI/tcQCgIcxvAqAvNFDsPD5uuYxn9ZshcxSN8u7f4USjUV03aKaMZ/XO3A2uywGAuMT8JgD6QgPFxsad++q2OJm7bqfrcuLe8FnrZDyrmwfPcV0KAMQl5jcB0BcaKDYeGrNExrP605vzXJcSCNtLK3TugcCcV1TmuhwAiDvMbwKgLzRQy1u1rVRnJ1sZz2p5QbHrcgLjb6Pmy3hWz07IdV0KAMQd5jcB0BcaqOX9/cDmxv94b6HrUgIlbflWGc+qS9/JqmHFNADUw/wmAPpCA7WsxRt3y3hW5yRb5RVxe7OmqKiu0cVPTpTxrGas3u66HACIK8xvAqAvNFDLuuONuTKe1SNjl7ouJZB6f5Yt41n964PFrksBgLjC/CYA+kIDtZw5eTvq9rMr2L3PdTmBtKxgj4xn1eHxNJWUsycgABzE/CYA+kIDtYxoNKqbBs+R8axSxq9wXU5gRaNR/eyFGTKe1QdZG12XAwBxg/lNAPSFBmoZE7K3yXhWF/aeoO2lFa7LCbRhM9bKeFa/HZrhuhQAiBvMbwKgLzRQ86uJ/Oddq+fTV7kuJ/CKSsp1zoFtdNbv2Ou6HACIC8xvAqAvNFDz+3hhgYxnddETE1W8n8+tNYfuI7II1ADwJcxvAqAvNFDzqqyO6MfPTpXxrIZOX+u6nITxxbItMp5V135TFGFPQABgfosA6AsN1LzezsyX8awue2ay9lfWuC4nYZRX1egHKekyntWcvB2uywEA55jfBEBfaKDms6+yWj96erKMZ/VOZr7rchJOz0+Xy3hWD41Z4roUAHCO+U0A9IUGaj5DpufJeFZXPzdVldUR1+UknEUH7qrSsVeaStkTEEDIMb8JgL7QQM2jeH9V3Z8oP1lU4LqchBSNRnXNwOkyntWH8ze5LgcAnGJ+EwB9oYGax4D0XBnP6ucvzlANixRazMF3WW8Zlum6FABwivlNAPSFBvJve2mFLug1QcazSl+xzXU5CW1r8X6dfWBPwA072RMQQHgxvwmAvtBA/qWMXyHjWd00eI6iUd79a2l/enOejGf1wqTVrksBAGeY3wRAX2ggfzbt2qfze6ayPUkMfbZks4xn9eNnp7InIIDQYn4TAH2hgfz599ilMp7VH4bPdV1KaOyvrFHnPrULbjLX7nRdDgA4wfwmAPpCAx27NYWldfeoXbJpj+tyQsX7eJmMZ/XvsUtdlwIATjC/CYC+0EDH7r53F8p4Vne/vcB1KaGzIH+XjGd1Ye8J2ltR7bocAIg55jcB0Bca6NgsK9gj41mdnWy1urDUdTmhE41G1W3ANBnP6uOF7LsIIHyY3wRAX2igY3NwJerD3JbMmVemrJHxrG5/nc9fAggf5jcB0BcaqOky1+6U8azO75mqTbv2uS4ntDbv+c+egFwHAGHD/CYA+kIDNU00GtVvhsyR8ax6jct2XU7o3fHGXBnP6uUpa1yXAgAxxfwmAPpCAzXN5JWFMp5Vx15pKiopd11O6H2yqEDGs/rpgGlswg0gVJjfBEBfaKDGi0Sium7QTBnPqn9arutyIGlfZbW+37v2Nnzz83e5LgcAYob5TQD0hQZqvIN3oOickq7ifVWuy8EBjxzYjPuxj5a5LgUAYob5TQD0hQZqnKqaiH56YNuRwdPyXJeDL5m3rnZRTqc+6dpfWeO6HACICeY3AdAXGqhx3pu3Qcaz+tHTk9h4OM5EIlFd/dxUGc9q3OLNrssBgJhgfhMAfaGBjq68qkZd+k6W8axGzlnvuhw0YNDk1TKe1R+Hz3NdCgDEBPObAOgLDXR0r89cK+NZXdV/qiqq+RNjPNq0a1/dnVm27NnvuhwAaHHMbwKgLzTQkZWUV+niJyfKeFZjF2xyXQ6O4NZhmXxGE0BoML8DFgAHDx4sY4zatm2rLl26KCsr64jPHzt2rDp27Ki2bduqc+fOSk1Nrff97t27Kykpqd5x3XXXNboeGujIXphU+6fF/x44XdU1Edfl4Ag+XLBJxrO65vnp7AkIIOExvwMUAMeMGaM2bdpoxIgRWrlype6++26dcsopKioqavD5GRkZatWqlQYMGKCcnBz16tVLrVu3Vnb2f+5A0b17d/3yl7/Utm3b6o7du3c3uiYa6PB2llXU7TGXtnyr63JwFGUV1bqgV+31Wrih8f8NAEAQMb8DFAC7dOmiBx54oO7rSCSiM844Q/3792/w+bfeeqtuuOGGeo9dccUVuvfee+u+7t69u26++eZjrokGOrwnP18p41nd+Mps3lEKiIc/XCLjWSV/stx1KQDQopjfAQmAlZWVatWqlcaNG1fv8bvuuks33XRTg68566yzNGjQoHqP9enTRxdddFHd1927d9fJJ5+s0047TR06dNB9992nnTt3NrouGqhhm/fsV/ueaTKe1czV212Xg0bKyNtRt1l3eRULdgAkLuZ3QALgli1blJSUpMzMzHqPP/roo+rSpUuDr2ndurU++OCDeo8NGTJEp59+et3Xo0eP1vjx47V8+XKNGzdOF154oS6//HLV1DQ8/CoqKlRSUlJ3FBQUhL6BGvLYR8tkPKvbXs/k3b8AiUSiuqp/7Z6A45ducV0OALQYAmDIA+Ch1q1bp6SkJE2ZMqXB76ekpHxl0UjYG+hQa7eX6dweqXyWLKAGTlwl41nd9daRF1gBQJARAAMSAFvqT8AN+da3vqVhw4Y1+D3eATy6+99fJONZ/W3UfNel4Bjk79gr41mdk2xVWFLuuhwAaBEEwIAEQKl2Ecg///nPuq8jkYjOPPPMIy4CufHGG+s91rVr13qLQA5VUFCg4447TuPHj29UTTRQfdmbi+s2FM7Zyv8mQfW7oRkyntVrM9a6LgUAWgTzO0ABcMyYMWrbtq1GjRqlnJwc3XPPPTrllFNUWFgoSbrzzjuVnJxc9/yMjAwdf/zxGjhwoHJzc5WSklJvG5iysjI98sgjmjt3rvLz8zVlyhT98Ic/VPv27VVRUdGommig+rqPyJLxrB4cvdh1KfBhdNZGGc/q2hdm8BlOAAmJ+R2gAChJr776qtq1a6c2bdqoS5cumjfvP/cu7datm7p3717v+WPHjlWHDh3Upk0bderUqd5G0Pv379cvfvELnXbaaWrdurWMMbr77rvrAmVj0ED/kbV+l4xndV6PVOXv2Ou6HPhQUl6ljr1qV3Ev2bTHdTkA0OyY3wELgPGGBqoVjUb1+9dq/2zY41P2kEsED45eLONZ9RqXffQnA0DAML8JgL7QQLWm5RbJeFYdHk/TtmIWDiSCWWu2y3hWFz0xURXV7AkIILEwvwmAvtBAtXvH/eqlWTKeVd/UHNfloJnURKK6ou8UGc8qlVv5AUgwzG8CoC80kPT50i0ynlWnPunavbfSdTloRs9NyJXxrP4yki19ACQW5jcB0JewN1B1TUT/9fx0Gc/qpclrXJeDZrZ2e5mMZ3Vuj1QVlfKnfQCJI+zzWyIA+hL2Bjq4XcilT01SWUW163LQAn49ZI6MZ/XGzHWuSwGAZhP2+S0RAH0JcwOVV9Xoyn61nxEbPotwkKjem7dBxrP6xYsz2RMQQMII8/w+iADoQ5gbaPisdTKe1ZX9pqi8ilWiiap4f5XaP167J2D25mLX5QBAswjz/D6IAOhDWBuorKJalz41ScazGp210XU5aGEPHLi/c8r4Fa5LAYBmEdb5/WUEQB/C2kAvTV4j41n91/PTVV0TcV0OWti0VbX7PF7y5ERVVnO9AQRfWOf3lxEAfQhjA+3eW6lOfdJlPKvPl25xXQ5ioLomosufmSzjWU3I3ua6HADwLYzz+1AEQB/C2EB9U3NkPKtfvTRLkQiLAsKi34Hr/ve3F7guBQB8C+P8PhQB0IewNdC24nJ1OLAgYNqqItflIIZWF5bKeFbn9UjVjrIK1+UAgC9hm98NIQD6ELYG6vHpchnP6vevZbAlSAjd9OpsGc/qzdnrXZcCAL6EbX43hADoQ5gaKH/HXp3XI1XGs8pav8t1OXDg7cz8uj//A0CQhWl+Hw4B0IcwNdCDoxfLeFbdR2S5LgWO7N5bqfY9az8CsHJL4vc8gMQVpvl9OARAH8LSQDlbS3R2smUzYOi+dxfKeFZPfbHSdSkAcMzCMr+PhADoQ1ga6G+j5st4Vve/v8h1KXBsSk6hjGf1w6cmqYo9IAEEVFjm95EQAH0IQwMt3LBLxrM6t0eq1m0vc10OHKuqiehHT9feBWbyykLX5QDAMQnD/D4aAqAPid5A0WhUtw7LlPGsHvtometyECee/mKljGd17zsLXZcCAMck0ed3YxAAfUj0Bpq5eruMZ9X+8TRt2bPfdTmIEzlbS2Q8q/N7pmr33krX5QBAkyX6/G4MAqAPidxA0WhUN74ymw/8o0HXvzxLxrMalZHvuhQAaLJEnt+NRQD0IZEbKG35VhnP6vu9J2gnd37AIUbMWS/jWd34ymzXpQBAkyXy/G4sAqAPidpA1TUR/ffA6TKe1QuTVrsuB3FoZ1lF3cbgq7aVui4HAJokUed3UxAAfUjUBhq7YJOMZ3XxkxNVUl7luhzEqbvfXiDjWfVNzXFdCgA0SaLO76YgAPqQiA1UUV2jq/pPlfGsXp+51nU5iGPpK7bJeFaXPTNZ1ewJCCBAEnF+NxUB0IdEbKCRBz7b1aXvZJVX1bguB3GssjqiS5+q3RNwWm6R63IAoNEScX43FQHQh0RroL0V1XWb/L43b4PrchAAT3y+ovYuMe9xlxgAwZFo8/tYEAB9SLQGGjwtT8az+umAadzmC42Svbm4dq/Inmkq3sfnRQEEQ6LN72NBAPQhkRpoz75KdU5Jl/GsPluy2XU5CIhoNKrrBs2U8azemcu7xgCCIZHm97EiAPqQSA3UPy1XxrO6btBMRSJR1+UgQIbPWifjWd08eI7rUgCgURJpfh8rAqAPidJARSXl6tgrTcazmryy0HU5CJjtpRU698CegHlFZa7LAYCjSpT57QcB0IdEaaBe47JlPKvfDJmjaJR3/9B0fx05X8azenZCrutSAOCoEmV++0EA9CERGmjjzn11d3TIXLvTdTkIqIO3DuzSd7Jq+AgBgDiXCPPbLwKgD4nQQA+PWSLjWf3pzXmuS0GAVVTX6OInJ8p4VjNWb3ddDgAcUSLMb78IgD4EvYFWF5bq7GQr41ktK9jjuhwEXO/Paj9K8K8PFrsuBQCOKOjzuzkQAH0IegMdvJfrfe8udLM5U/MAACAASURBVF0KEsCygj0ynlWHx9O4hzSAuBb0+d0cCIA+BLmBlmyqHdbnJFvlFZW6LgcJIBqN6mcvzJDxrD7I2ui6HAA4rCDP7+ZCAPQhyA30h+FzZTyrf49d6roUJJBhM9bKeFa/HZrhuhQAOKwgz+/mQgD0IagNNCdvh4xndX7PVBXs3ue6HCSQopJynXPgc6Xrd+x1XQ4ANCio87s5EQB9CGIDRaNR3TR4joxnlTJ+hetykIC6j8iS8ayeT1/luhQAaFAQ53dzIwD6EMQGSl+xTcazuqDXBG0vrXBdDhLQF8u2yHhWXftN4baCAOJSEOd3cyMA+hC0BqqJRPXzF2s/pD8gnTs2oGWUV9XoBynpMp7VnLwdrssBgK8I2vxuCQRAH4LWQJ8sKpDxrH6Qkq7i/WzTgZbT89PlMp7VQ2OWuC4FAL4iaPO7JRAAfQhSA1VWR3T1c1NlPKsh0/Ncl4MEt2jjbhnPqmOvNJWyJyCAOBOk+d1SCIA+BKmB3snMl/GsLntmsvZVVrsuBwkuGo3qmoHTZTyrD+dvcl0OANQTpPndUgiAPgSlgfZX1uiyZybLeFZvZ+a7LgchMXhanoxndcuwTNelAEA9QZnfLYkA6ENQGmjo9NrNea9+bqoqqyOuy0FIbC3eX3ev6Q072RMQQPwIyvxuSQRAH4LQQMX7q3TRExNlPKtPFhW4Lgch86c358l4Vi9MWu26FACoE4T53dIIgD4EoYGeT18l41n9/MUZqmFPNsTYZ0s2y3hWP352KnsCAogbQZjfLY0A6EO8N9D20gpd2HuCjGeVvmKb63IQQvsra9S5T+2egJlrd7ouBwAkxf/8jgUCoA/x3kAp41fIeFY3DZ6jaJR3X+CG9/EyGc/q32OXui4FACTF//yOBQKgD/HcQAW796l9zzTuxgDnFuTvkvGsLuw9QXsr2IIIgHvxPL9jhQDoQzw30CNjl8p4Vne8Mdd1KQi5aDSqbgOmyXhWHy9kIRIA9+J5fscKAdCHeG2gvKJSnXNg+43FG3e7LgfQK1PWyHhWt7/OP0gAuBev8zuWCIA+xGsD/eO9hTKe1d/fXuC6FEBS7UcSjFf7j5JNu/a5LgdAyMXr/I4lAqAP8dhAywuKZTyrs5OtVm0rdV0OUOeON+bKeFYvT1njuhQAIReP8zvWCIA+xGMD3flWloxn9fCYJa5LAer5ZFGBjGf10wHTWJUOwKl4nN+xRgD0Id4aaO66nTKe1Xk9UrVxJ39mQ3zZV1mt7x/Yl3J+/i7X5QAIsXib3y4QAH2IpwaKRqP6zZA5Mp5Vr3HZrssBGnRwdfpjHy1zXQqAEIun+e0KAdCHeGqgKTmFMp5Vx15pKiopd10O0KCD71J36pOu/ZU1rssBEFLxNL9dIQD6EC8NFIlEdd2gmTKeVf+0XKe1AEcSiUR19XNTZTyrcYs3uy4HQEjFy/x2iQDoQ7w00GdLNst4Vp1T0rVnX6XTWoCjeXHSahnP6o/D57kuBUBIxcv8dokA6EM8NFBVTUQ/PXCXhVensr0G4t/Gnfvqtirasme/63IAhFA8zG/XCIA+xEMDvT9vo4xn9aOnJ3GfVQTGrcMyZTyrwdPyXJcCIITiYX67RgD0wXUDlVfVqEvfyTKe1Yg5653UAByLDxdskvGsrnl+OnsCAog51/M7HhAAfXDdQG/MXCfjWV3Vf6oqqllRieAoq6jWBb1q9wRcuIH7VQOILdfzOx4QAH1w2UCl5VW65MmJMp7Vhws2xfz3A349PGaJjGfV49PlrksBEDIEQAKgLy4b6IUDKyn/e+B0VddEYv77Ab8y8nbUrV4vr+IdbACxQwAkAPriqoF2llXU3VIrdfnWmP5uoLlEIlFd1b92T8DxS7e4LgdAiBAACYC+uGqgp75YKeNZ3fjKbD5Aj0AbOHGVjGd111tZrksBECIEwIAFwMGDB8sYo7Zt26pLly7Kyjry0Bg7dqw6duyotm3bqnPnzkpNTa33/Wg0qt69e+s73/mOTjjhBF177bVas6bxe+m5aKAte/ar/eNpMp7VjNXbY/Z7gZaQv2OvjGd1TrJVIbcwBBAjBMAABcAxY8aoTZs2GjFihFauXKm7775bp5xyioqKihp8fkZGhlq1aqUBAwYoJydHvXr1UuvWrZWdnV33nGeffVYnn3yyPvvsMy1btkw33XSTzjnnHJWXN24QuWgg7+NlMp7VrcMyefcPCeF3QzNkPKvXZqx1XQqAkCAABigAdunSRQ888EDd15FIRGeccYb69+/f4PNvvfVW3XDDDfUeu+KKK3TvvfdKqn337zvf+Y6ef/75uu8XFxerbdu2Gj16dKNqinUDrdtepnN7pB7YOmNXTH4n0NJGZ9VuZn7tCzP4Rw2AmCAABiQAVlZWqlWrVho3bly9x++66y7ddNNNDb7mrLPO0qBBg+o91qdPH1100UWSpHXr1ikpKUlLliyp95yf/vSnevDBBxv8mRUVFSopKak7CgoKYtpAD7y/SMaz+uvI+TH5fUAslJRXqcOBjzUs2bTHdTkAQoAAGJAAuGXLFiUlJSkzM7Pe448++qi6dOnS4Gtat26tDz74oN5jQ4YM0emnny6p9k/ESUlJ2rq1/iraW265RbfeemuDPzMlJUVJSUlfOWLRQCu2FMt4Vsazytka3oZFYnpw9GIZz6rXuOyjPxkAfCIAEgCbFABdvgP45xFZMp7Vvz5Y3OK/C4i1mau3y3hWFz0xkbvaAGhxBMCABMB4+RPwoWLVQPPzd8l4Vuf2SFX+jr0t+rsAF2oiUV3Rdwp7WwKICQJgQAKgVLsI5J///Gfd15FIRGeeeeYRF4HceOON9R7r2rXrVxaBDBw4sO77JSUlcbcIJBqN6vev1a6STP6EW2YhcT03IVfGs/oLn3EF0MIIgAEKgGPGjFHbtm01atQo5eTk6J577tEpp5yiwsJCSdKdd96p5OTkuudnZGTo+OOP18CBA5Wbm6uUlJQGt4E55ZRTNH78eC1fvlw333xz3G0DM21VkYxn1f7xNG0rZp80JK6128vq3ukuKqXXAbQcAmCAAqAkvfrqq2rXrp3atGmjLl26aN68eXXf69atm7p3717v+WPHjlWHDh3Upk0bderU6bAbQX/7299W27Ztde2112r16tWNrqelGygSier6l2fJeFbP2JUt8juAePLrIXNkPKs3Zq5zXQqABEYADFgAjDct3UBfLNsi41l16pOuXXsrW+R3APHk3bkbZDyrX7w4kz0BAbQYAiAB0JeWbKDqmoiueX66jGc1aHLj35UEgqx4X1XdrQ6zNxe7LgdAgiIAEgB9ackGGjO/9u4Ilz41SWUV1c3+84F4df+BDc9Txq9wXQqABEUAJAD60lINVF5Vo679arfEGD6Lz0IhXA4ufLrkyYmqrI64LgdAAiIAEgB9aakGenP2ehnP6sp+U1Rexaa4CJfqmoguf2ayjGc1IXub63IAJCACIAHQl5ZqoLdmr1enPukanbWxWX8uEBT9UnNkPKu/v73AdSkAEhABkADoS0s20K69laqq4c9fCKfVhaUyntV5PVK1o6zCdTkAEgwBkADoCw0EtJz/eXW2jGf15uz1rksBkGCY3wRAX2ggoOW8nZkv41n96qVZrksBkGCY3wRAX2ggoOXs3lup83umynhWK7fw3xiA5sP8JgD6QgMBLeu+dxfKeFZPfcGtEAE0H+Y3AdAXGghoWVNyCmU8qx8+NYlFUQCaDfObAOgLDQS0rKqaiH709CQZz2ryykLX5QBIEMxvAqAvNBDQ8p7+YqWMZ3XvOwtdlwIgQTC/CYC+0EBAy8vZWiLjWZ3fM1W791a6LgdAAmB+EwB9oYGA2Lj+5VkyntWojHzXpQBIAMxvAqAvNBAQG28duD/2ja/Mdl0KgATA/CYA+kIDAbGxs6xC5/Wo3RNw1bZS1+UACDjmNwHQFxoIiJ27314g41n1Tc1xXQqAgGN+EwB9oYGA2ElfsU3Gs7rsmcmqZk9AAD4wvwmAvtBAQOxUVkd06VO1ewJOyy1yXQ6AAGN+EwB9oYGA2EoZv0LGs7r/vUWuSwEQYMxvAqAvNBAQW9mbi2U8q/Y901S8r8p1OQACivlNAPSFBgJiKxqN6rpBM2U8q3fmbnBdDoCAYn4TAH2hgYDYGz5rnYxndfPgOa5LARBQzG8CoC80EBB720srdO6BPQHzispclwMggJjfBEBfaCDAjb+OnC/jWT07Idd1KQACiPlNAPSFBgLcSFu+Vcaz6tJ3smoiUdflAAgY5jcB0BcaCHCjorpGFz0xUcazmrF6u+tyAAQM85sA6AsNBLjT+7NsGc/qXx8sdl0KgIBhfhMAfaGBAHeWbtoj41l1eDxNJeXsCQig8ZjfBEBfaCDAnWg0qp+9MEPGs/oga6PrcgAECPObAOgLDQS4NWzGWhnP6rdDM1yXAiBAmN8EQF9oIMCtopJynZNsZTyr9Tv2ui4HQEAwvwmAvtBAgHvdR2TJeFbPp69yXQqAgGB+EwB9oYEA9z5fukXGs+rab4oi7AkIoBGY3wRAX2ggwL3yqhp1TkmX8azm5O1wXQ6AAGB+EwB9oYGA+NDj0+UyntVDY5a4LgVAADC/CYC+0EBAfFi0cbeMZ9WxV5pK2RMQwFEwvwmAvtBAQHyIRqO6ZuB0Gc/qw/mbXJcDIM4xvwmAvtBAQPwYPC1PxrO6ZVim61IAxDnmNwHQFxoIiB9bi/fr7AN7Am7YyZ6AAA6P+U0A9IUGAuLLn96cJ+NZvTBptetSAMQx5jcB0BcaCIgvny3ZLONZ/fjZqewJCOCwmN8EQF9oICC+7K+sUac+tXsCZq7d6bocAHGK+U0A9IUGAuKP9/EyGc/q32OXui4FQJxifhMAfaGBgPizIH+XjGd1Ye8J2ltR7bocAHGI+U0A9IUGAuJPNBpVtwHTZDyrjxcWuC4HQBxifhMAfaGBgPj0ypQ1Mp7V7a/PdV0KgDjE/CYA+kIDAfGpYPc+Ga92T8BNu/a5LgdAnGF+EwB9oYGA+HXHG3NlPKuXp6xxXQqAOMP8JgD6QgMB8evjhQUyntVPB0xTNMqegAD+g/lNAPSFBgLi177Kan2/9wQZz2p+/i7X5QCII8xvAqAvNBAQ3x4Zu1TGs3rso2WuSwEQR5jfBEBfaCAgvs1dt1PGs+rUJ137K2tclwMgTjC/CYC+0EBAfItEorr6uakyntW4xZtdlwMgTjC/CYC+0EBA/Htx0moZz+qPw+e5LgVAnGB+EwB9oYGA+LdxZ+2egGcnW23Zs991OQDiAPObAOgLDQQEwy3DMmU8q8HT8lyXAiAOML8JgL7QQEAwfLhgk4xndc3z09kTEADzWwRAX2ggIBjKKqp1Qa/aPQEXbtjtuhwAjjG/CYC+0EBAcDw8ZomMZ9Xj0+WuSwHgGPObAOgLDQQER0beDhnPqnNKusqr2BMQCDPmNwHQFxoICI5IJKqr+tfuCTh+6RbX5QBwiPlNAPSFBgKCZeDEVTKe1V1vZbkuBYBDzG8CoC80EBAs63fslfGszkm2Kiwpd10OAEeY3wRAX2ggIHh+NzRDxrN6bcZa16UAcIT5TQD0hQYCgmd01kYZz+raF2awJyAQUsxvAqAvNBAQPCXlVerweJqMZ7Vk0x7X5QBwgPlNAPSFBgKC6cHRi2U8q17jsl2XAsAB5ncAAuCuXbv0hz/8Qd/4xjd08skn669//avKysqO+Jry8nLdf//9+uY3v6mvfe1r+u1vf6vCwsJ6z0lKSvrKMXr06CbVRgMBwTRz9XYZz+qiJyaqopo9AYGwYX4HIAD+8pe/1MUXX6x58+Zp9uzZOv/883XHHXcc8TX33XefzjrrLE2dOlULFy7UlVdeqauuuqrec5KSkjRy5Eht27at7igvb9qqQBoICKaaSFRX9J0i41mlLt/quhwAMcb8jvMAmJOTo6SkJC1YsKDusQkTJui4447Tli0Nb+RaXFys1q1b66OPPqp7LDc3V0lJSZo7d27dY0lJSRo3bpyv+mggILienZAr41n9ZeR816UAiDHmd5wHwLfeekunnHJKvceqq6vVqlUrffrppw2+ZurUqUpKStKePfU/3N2uXTu9+OKLdV8nJSXpjDPO0P/7f/9Pl19+ud56662jrgisqKhQSUlJ3VFQUBD6BgKCKq+oTMazOrdHqopK2RMQCBMCYJwHwL59+6pDhw5fefy0007T0KFDG3zN+++/rzZt2nzl8csvv1yPPfZY3ddPPfWU5syZo8WLF+vZZ59V27Zt9fLLLx+xnpSUlAY/OxjmBgKC7ObBc2Q8qzdmrnNdCoAYIgA6CoCe5zUYpL585ObmtmgAPFTv3r31ve9974h18w4gkFjenbtBxrP6xYsz2RMQCBECoKMAuH37duXm5h7xqKysbNE/AR/KWqukpCRVVFQ0+jxoICDYivdVqf2BPQGzNxe7LgdAjDC/4/xPwAcXgSxcuLDusYkTJzZqEcjHH39c99iqVau+sgjkUM8884xOPfXUJtVHAwHBd//7i2Q8q5TxK1yXAiBGmN9xHgCl2m1gLr30UmVlZWnOnDlq3759vW1gNm/erI4dOyorK6vusfvuu0/t2rXTtGnTtHDhQnXt2lVdu3at+/7nn3+u4cOHKzs7W3l5eRo6dKhOPPFE9enTp0m10UBA8E1bVSTjWV3y5ERVVkdclwMgBpjfAQiAu3bt0h133KGvf/3rOumkk/SXv/yl3kbQ+fn5SkpK0vTp0+seO7gR9KmnnqoTTzxRv/nNb7Rt27a670+YMEGXXHKJvv71r+trX/uaLr74Yg0bNkyRSNP+z58GAoKvuiaiy56ZLONZTcjedvQXAAg85ncAAmA8o4GAxNAvNUfGs/r72wuO/mQAgcf8JgD6QgMBiWF1YamMZ3Vej1TtKGv8QjAAwcT8JgD6QgMBieN/Xp0t41m9OXu961IAtDDmNwHQFxoISBxvZ+bLeFa/emmW61IAtDDmNwHQFxoISBy791bq/J6pMp7Vyi38Nw0kMuY3AdAXGghILPe9u1DGs3rqi5WuSwHQgpjfBEBfaCAgsUxeWSjjWf3wqUmqqmFPQCBRMb8JgL7QQEBiqaqJ6EdPT5LxrCavLHRdDoAWwvwmAPpCAwGJ56kvVsp4Vve+s/DoTwYQSMxvAqAvNBCQeHK2lsh4Vuf3TNXuvZWuywHQApjfBEBfaCAgMV3/8iwZz2pURr7rUgC0AOY3AdAXGghITG/NXi/jWf3kuWkaOWe9FuTv0t6KatdlAWgmzG8CoC80EJCYdpZVqMPjaTKerTvOTra6ZuB0/euDxRo2Y63m5O3Qnn38iRgIIuY3AdAXGghIXEs37dELk1brryPnq0vfyfXC4JePq/pP1d1vL9DLU9Zoam6hCkvKFY1GXZcP4AiY3wRAX2ggIDy2l1Zo+qoiDZ6Wp3+8t1A/HTDtsKHwR09P1l1vZWlAeq5Sl2/Vxp37CIVAHGF+EwB9oYGAcCveX6XMtTs1fNY6PTRmiX7+4gydk9xwKOyckq7bXs/U01+s1KeLC7SmsFQ1EUIh4ALzmwDoCw0E4FD7K2u0eONuvTN3g5I/WaYbX5mt9j3TGgyFHXul6ddD5ujxccs1OmujsjcXq6K6xvUpAAmP+U0A9IUGAtAYldURrdxSog8XbFLK+BX63dAMXdh7QoOh8LweqfrVS7P0yNilGpWRzwpkoAUwvwmAvtBAAI5VTSSqtdvL9NmSzeqXmqM/DJ+ri5+c2GAoZAUy0LyY3wRAX2ggAM0pGo2qYPc+pa/YphcmrmrUCuR73vnPCuSiknLXpwAEAvObAOgLDQQgFg5dgfyT5468Arn7iNoVyGmsQAYaxPwmAPpCAwFw5dAVyD974fArkH/ACmSgHuY3AdAXGghAPNlfWaNFB1Ygex8feQXyBb0m6NdD5qjXuGxWICN0mN8EQF9oIADxrrI6ohVbivXhgk3q81n2EVcgn9+z/grkhRt2aV8lK5CReJjfBEBfaCAAQdTQCuSLnjj8CuT/PrAC+fWZrEBGYmB+EwB9oYEAJIqDK5AnZNeuQP7LUVYg//jZ2hXIr7ACGQHE/CYA+kIDAUh0RaXlmnZgBfJ97zZtBfKmXaxARnxifhMAfaGBAIRRU1cg3/76XD39xUqNW7yZFciIC8xvAqAvNBAA1KpbgZyZL+/jZbrhlVmNWoE8Zj4rkBF7zG8CoC80EAAcXt0K5Pm1K5B/24gVyI9+xApktDzmNwHQFxoIAJqmJhJVXlHtCuS+jVyB/ODo2hXIGXk7VLyvyvUpIAEwvwmAvtBAAODfl1cgDzywAvnyZxq3AnlabhErkNFkzG8CoC80EAC0nENXIF/93NTDhsLLnqldgfx8+ipWIOOomN8EQF9oIACIreJ9VcpYu0PDZ63T/45efNQVyP/z6mz9/e0F6v1ZtoZMz9OniwuUsXaH1u/Yq/2VLDwJK+Y3AdAXGggA3PvyCuTHPqpdgXx+z9TDvlv45ePiJyfqukEz1X1ElpI/WaaXJq/Rh/M3acbq7VpdWKqS8ireSUxAzG8CoC80EADEp8rqiFZuKdHklYV6Z+4GDUjP1cMfLtEdb8zVNQOn64JeDa9Gbuj4fu8JumbgdP1h+Fz934dL9Xz6Kr07d4MmryxU9uZi7SyrICQGDPObAOgLDQQAwRSNRlW8v0qrtpVqxurtGjN/owZNXi3v42XqPiJL1w2aedjVyQ0d7Xum6ernpuqW1zL1rw8Wq19qjkbMWa+05Vu1eONubSsuZwPsOML8JgD6QgMBQGLbX1mj9Tv2KmPtDn2yqECDp+Wp17hs/f3tBbrxldn60dOHX6186HFuj1Rd0XeKbh48R/e9u1BPfL5Cw2as1WdLNitr/S5t2rWPDbFjhPlNAPSFBgIAVFZHVLB7nxbk79LnS7fojZnr9NQXK3X/e4v0myFz1LXfFJ3bo3GfSTSe1Q+fmqTrX56lv42ar8fHLderU9foo4UFmpO3Q2u3l2lvBRtk+8X8JgD6QgMBABqjJhJVUUm5lm7aownZ2zRyznr1T8vV/45erFuHZeqnA6apw+MN3zqvoaNzSrp+/uIM3flWlh77aJlemLRaH2Rt1LRVRcrdVqI9+yr5XOIRML8JgL7QQACA5hKNRrV7b6VWbinR1NxCvT9vo16YuEqPjF2qP705T9e+MEOd+6Q3OiR27JWm/3p+um5/fa4eGrNEz07I1duZ+Zq4YpuWFxSrqLRckZB+LpH5TQD0hQYCAMRaaXmV8opKNWvNdo1dsEmvTFmjHp8u119GztevXpqlS5+a1OiQeH7PVF3Vf6p+NzRD97+/SE9/sVLDZ62TXbZVCzfs0uY9+1VVE3F9ys2O+U0A9IUGAgDEo/KqGm3YuVdz1+3UZ0s267UZa5UyfoXueWeBbho8R136TtbZh9lAu6F7Ml/+zGTd9Ops3f32AvX5LFtDp6/VuMWblbl2p/J37FV5VbAWrzC/CYC+0EAAgKCqqoloy579WrRxt1KXb9Wbs9frGbtS//xgsX7/WoZ+/OzURm+obTyrSw5sqv3nEVlK/mS5Xp6yRh8u2KSZq7drTWGpSsurXJ9yHeY3AdAXGggAkMgikai2l1Yoe3OxJq0s1DuZ+Xpuwpc21X6+aZtqd+qTrv8eOF1/HD5P/x67VAMn1m6qPSWnUCu2FGvX3tgsXmF+EwB9oYEAAGH35U21p68q0uisjXpxUu2m2ne9laVfvDhTP0hp/OKV9o+n6SfPTdMtwzL14OjFmpC9tdlrZn4TAH2hgQAAaJx9ldVat71MGXk79PHC/2yq/bdRC3TDK7MOu6n2S5PXNHstzG8CoC80EAAAzaeyOqJNu/Zp/pc21V60cXez/x7mNwHQFxoIAIDgYX4TAH2hgQAACB7mNwHQFxoIAIDgYX4TAH2hgQAACB7mNwHQFxoIAIDgYX4TAH2hgQAACB7mNwHQFxoIAIDgYX4TAH2hgQAACB7mNwHQFxoIAIDgYX4TAH2hgQAACB7mNwHQFxoIAIDgYX4TAH2hgQAACB7mNwHQFxoIAIDgYX4TAH2hgQAACB7mNwHQl+LiYiUlJamgoEAlJSUcHBwcHBwcATgKCgqUlJSk4uJi11HCGQKgDwcbiIODg4ODgyN4R0FBgeso4QwB0IdIJKKCggIVFxe32L9OEvXdRc4v+EeinyPnF/wj0c+R8zv2o7i4WAUFBYpEIq6jhDMEwDhVUpLYn0/g/IIv0c+R8wu+RD9Hzg9+EADjVKI3PucXfIl+jpxf8CX6OXJ+8IMAGKcSvfE5v+BL9HPk/IIv0c+R84MfBMA4VVFRoZSUFFVUVLgupUVwfsGX6OfI+QVfop8j5wc/CIAAAAAhQwAEAAAIGQIgAABAyBAAAQAAQoYACAAAEDIEQAf69eunyy67TF//+td12mmn6eabb9aqVauO+rqxY8eqY8eOatu2rTp37qzU1NQYVNt0x3J+I0eO/Motetq2bRujiptm6NCh+sEPfqBvfOMb+sY3vqErr7xSaWlpR3xNUK7dQU09xyBdv4b0799fSUlJ+t///d8jPi9o1/Ggxpxf0K5hSkrKV+rt2LHjEV8TpOvX1PML2vWTpM2bN+uPf/yjvvnNb+qEE05Q586dtWDBgiO+Zvr06br00kvVpk0bnXfeeRo5cmRsik1ABEAHrrvuOo0cOVIrVqzQ0qVLdf3116tdu3bau3fvYV+TkZGhVq1aacCAAcrJyVGvXr3UunVrZWdnx7DyxjmW8xs5cqROOukkbdu2re4oLCyMYdWN9/nnnys1NVVr1qzR6tWr1bNnT7Vu3VorVqxo8PlBunYHNfUcg3T9DjV//nydffbZuuiii44YkIJ4HaXGn1/QrmFKSoo6depUr94dO3Yc9vlBu35NPb+gXb/du3fLGKM///nPysrK0vr16zVx4kStXbv2sK9Zv369TjzxRP3frCtAuQAABohJREFU//2fcnJy9Oqrr6pVq1ZKT0+PYeWJgwAYB7Zv366kpCTNnDnzsM+59dZbdcMNN9R77IorrtC9997b0uX51pjzGzlypE4++eQYVtW8Tj31VL355psNfi/I1+7LjnSOQb1+ZWVlat++vSZPnqxu3bodMSAF8To25fyCdg1TUlJ08cUXN/r5Qbt+TT2/oF0/z/N09dVXN+k1jz32mDp16lTvsdtuu03XXXddc5YWGgTAOJCXl6ekpKQj/kv0rLPO0qBBg+o91qdPH1100UUtXZ5vjTm/kSNHqlWrVmrXrp2+973v6aabbjrsu03xpKamRqNHj1abNm20cuXKBp8T5GsnNe4cg3r97rrrLj300EOSdNSAFMTr2JTzC9o1TElJ0Yknnqjvfve7Ouecc/SHP/xBGzduPOzzg3b9mnp+Qbt+F154oR566CH9/ve/12mnnaZLLrlEb7zxxhFf85Of/OQrPTxixAiddNJJLVlqwiIAOhaJRHTDDTfoxz/+8RGf17p1a33wwQf1HhsyZIhOP/30lizPt8aeX2Zmpt5++20tWbJEM2bM0I033qiTTjpJBQUFMaq0aZYvX66vfe1ratWqlU4++eQjfpYoqNeuKecYtOsnSaNHj1bnzp1VXl4u6egBKWjXsannF7RrmJaWprFjx2rZsmVKT09X165d1a5dO5WWljb4/KBdv6aeX9CuX9u2bdW2bVv16NFDixcv1uuvv64TTjhBo0aNOuxr2rdvr379+tV7LDU1VUlJSdq/f39Ll5xwCICO3XfffTLGHPU/0qD9n9dBjT2/Q1VVVem8885Tr169WqgyfyorK5WXl6eFCxcqOTlZ3/rWtw777lhQr11TzvFQ8X79Nm3apNNPP13Lli2reyyRAuCxnN+h4v0aHmrPnj066aSTDvsxhSBdv4Yc7fwOFe/Xr3Xr1uratWu9x/71r3/pyiuvPOxrCIDNiwDo0AMPPKDvfe97Wr9+/VGfG7Q/X0hNO7+G/P73v9ftt9/ezFW1jGuvvVb33HNPg98L4rVryJHOsSHxfP3GjRunpKQktWrVqu5ISkrScccdp1atWqmmpuYrrwnSdTyW82tIPF/Dhlx22WVKTk5u8HtBun6Hc6Tza0g8X7927drpb3/7W73Hhg4dqjPOOOOwr+FPwM2LAOhANBrVAw88oDPOOENr1qxp1GtuvfVW3XjjjfUe69q1a1x+gPlYzu9QNTU16tixox5++OFmrq5lXHPNNerevXuD3wvStTuSI53joeL9+pWWlio7O7vecdlll+lPf/rTYT+rGqTreCznd6h4v4aHKisr06mnnqqXX365we8H6fo15Gjnd6h4v3533HHHVxaBPPTQQ195V/DLHnvsMXXu3PkrP4dFIMeGAOjAP/7xD5188smaMWNGvSX7X34L+84776z3L72MjAwdf/zxGjhwoHJzc5WSkhK3Wxgcy/k9+eSTmjhxotatW6dFixbp9ttv1wknnNDoPznGUnJysmbOnKn8/HwtX75cycnJOu644zRp0iRJwb52BzX1HIN0/Q7n0D+RJsJ1/LKjnV/QruG///1vzZgxQ/n5+crIyNDPfvYzfetb39L27dslBf/6NfX8gnb95s+fr+OPP159+/ZVXl6e3n//fZ144ol677336p6TnJysO++8s+7rg9vAPProo8rNzdWQIUPYBsYHAqADh27WefD48oaW3bp1+8q7LWPHjlWHDh3Upk0bderUKW43MT2W83vooYfUrl07tWnTRt/+9rd1/fXXa/HixbEvvhH++te/yhijNm3a6LTTTtO1115bF4ykYF+7g5p6jkG6fodzaEBKhOv4ZUc7v6Bdw9tuu03f/e531aZNG5155pm67bbb6u0hF/Tr19TzC9r1k6QvvvhCnTt3Vtu2bXXBBRd8ZRVw9+7d1a1bt3qPTZ8+XZdcconatGmjc889l42gfSAAAgAAhAwBEAAAIGQIgAAAACFDAAQAAAgZAiAAAEDIEAABAABChgAIAAAQMgRAAACAkCEAAgAAhAwBEAAAIGQIgAAAACFDAAQAAAgZAiAAAEDIEAABAABChgAIAAAQMgRAAACAkCEAAgAAhAwBEAAAIGQIgAAAACFDAAQAAAgZAiAAAEDIEAABAABChgAIAAAQMgRAAACAkCEAAgAAhAwBEAAAIGQIgAAAACFDAAQAAAgZAiAAAEDIEAABAABChgAIAAAQMgRAAACAkPn/VeroIByDtAkAAAAASUVORK5CYII=\" width=\"640\">"
      ],
      "text/plain": [
       "<IPython.core.display.HTML object>"
      ]
     },
     "metadata": {},
     "output_type": "display_data"
    },
    {
     "name": "stdout",
     "output_type": "stream",
     "text": [
      "k = 3\n",
      "2nd k = 2\n"
     ]
    }
   ],
   "source": [
    "# Plot data\n",
    "plt.figure()\n",
    "plt.plot(range(2,len(sils)+2), sils)\n",
    "plt.show()\n",
    "\n",
    "# Get best k\n",
    "print(\"k = %d\" % silhouette_k)\n",
    "print(\"2nd k = %d\" % silhouette_k2)"
   ]
  },
  {
   "cell_type": "code",
   "execution_count": 24,
   "metadata": {},
   "outputs": [
    {
     "data": {
      "application/javascript": [
       "/* Put everything inside the global mpl namespace */\n",
       "window.mpl = {};\n",
       "\n",
       "\n",
       "mpl.get_websocket_type = function() {\n",
       "    if (typeof(WebSocket) !== 'undefined') {\n",
       "        return WebSocket;\n",
       "    } else if (typeof(MozWebSocket) !== 'undefined') {\n",
       "        return MozWebSocket;\n",
       "    } else {\n",
       "        alert('Your browser does not have WebSocket support.' +\n",
       "              'Please try Chrome, Safari or Firefox ≥ 6. ' +\n",
       "              'Firefox 4 and 5 are also supported but you ' +\n",
       "              'have to enable WebSockets in about:config.');\n",
       "    };\n",
       "}\n",
       "\n",
       "mpl.figure = function(figure_id, websocket, ondownload, parent_element) {\n",
       "    this.id = figure_id;\n",
       "\n",
       "    this.ws = websocket;\n",
       "\n",
       "    this.supports_binary = (this.ws.binaryType != undefined);\n",
       "\n",
       "    if (!this.supports_binary) {\n",
       "        var warnings = document.getElementById(\"mpl-warnings\");\n",
       "        if (warnings) {\n",
       "            warnings.style.display = 'block';\n",
       "            warnings.textContent = (\n",
       "                \"This browser does not support binary websocket messages. \" +\n",
       "                    \"Performance may be slow.\");\n",
       "        }\n",
       "    }\n",
       "\n",
       "    this.imageObj = new Image();\n",
       "\n",
       "    this.context = undefined;\n",
       "    this.message = undefined;\n",
       "    this.canvas = undefined;\n",
       "    this.rubberband_canvas = undefined;\n",
       "    this.rubberband_context = undefined;\n",
       "    this.format_dropdown = undefined;\n",
       "\n",
       "    this.image_mode = 'full';\n",
       "\n",
       "    this.root = $('<div/>');\n",
       "    this._root_extra_style(this.root)\n",
       "    this.root.attr('style', 'display: inline-block');\n",
       "\n",
       "    $(parent_element).append(this.root);\n",
       "\n",
       "    this._init_header(this);\n",
       "    this._init_canvas(this);\n",
       "    this._init_toolbar(this);\n",
       "\n",
       "    var fig = this;\n",
       "\n",
       "    this.waiting = false;\n",
       "\n",
       "    this.ws.onopen =  function () {\n",
       "            fig.send_message(\"supports_binary\", {value: fig.supports_binary});\n",
       "            fig.send_message(\"send_image_mode\", {});\n",
       "            if (mpl.ratio != 1) {\n",
       "                fig.send_message(\"set_dpi_ratio\", {'dpi_ratio': mpl.ratio});\n",
       "            }\n",
       "            fig.send_message(\"refresh\", {});\n",
       "        }\n",
       "\n",
       "    this.imageObj.onload = function() {\n",
       "            if (fig.image_mode == 'full') {\n",
       "                // Full images could contain transparency (where diff images\n",
       "                // almost always do), so we need to clear the canvas so that\n",
       "                // there is no ghosting.\n",
       "                fig.context.clearRect(0, 0, fig.canvas.width, fig.canvas.height);\n",
       "            }\n",
       "            fig.context.drawImage(fig.imageObj, 0, 0);\n",
       "        };\n",
       "\n",
       "    this.imageObj.onunload = function() {\n",
       "        fig.ws.close();\n",
       "    }\n",
       "\n",
       "    this.ws.onmessage = this._make_on_message_function(this);\n",
       "\n",
       "    this.ondownload = ondownload;\n",
       "}\n",
       "\n",
       "mpl.figure.prototype._init_header = function() {\n",
       "    var titlebar = $(\n",
       "        '<div class=\"ui-dialog-titlebar ui-widget-header ui-corner-all ' +\n",
       "        'ui-helper-clearfix\"/>');\n",
       "    var titletext = $(\n",
       "        '<div class=\"ui-dialog-title\" style=\"width: 100%; ' +\n",
       "        'text-align: center; padding: 3px;\"/>');\n",
       "    titlebar.append(titletext)\n",
       "    this.root.append(titlebar);\n",
       "    this.header = titletext[0];\n",
       "}\n",
       "\n",
       "\n",
       "\n",
       "mpl.figure.prototype._canvas_extra_style = function(canvas_div) {\n",
       "\n",
       "}\n",
       "\n",
       "\n",
       "mpl.figure.prototype._root_extra_style = function(canvas_div) {\n",
       "\n",
       "}\n",
       "\n",
       "mpl.figure.prototype._init_canvas = function() {\n",
       "    var fig = this;\n",
       "\n",
       "    var canvas_div = $('<div/>');\n",
       "\n",
       "    canvas_div.attr('style', 'position: relative; clear: both; outline: 0');\n",
       "\n",
       "    function canvas_keyboard_event(event) {\n",
       "        return fig.key_event(event, event['data']);\n",
       "    }\n",
       "\n",
       "    canvas_div.keydown('key_press', canvas_keyboard_event);\n",
       "    canvas_div.keyup('key_release', canvas_keyboard_event);\n",
       "    this.canvas_div = canvas_div\n",
       "    this._canvas_extra_style(canvas_div)\n",
       "    this.root.append(canvas_div);\n",
       "\n",
       "    var canvas = $('<canvas/>');\n",
       "    canvas.addClass('mpl-canvas');\n",
       "    canvas.attr('style', \"left: 0; top: 0; z-index: 0; outline: 0\")\n",
       "\n",
       "    this.canvas = canvas[0];\n",
       "    this.context = canvas[0].getContext(\"2d\");\n",
       "\n",
       "    var backingStore = this.context.backingStorePixelRatio ||\n",
       "\tthis.context.webkitBackingStorePixelRatio ||\n",
       "\tthis.context.mozBackingStorePixelRatio ||\n",
       "\tthis.context.msBackingStorePixelRatio ||\n",
       "\tthis.context.oBackingStorePixelRatio ||\n",
       "\tthis.context.backingStorePixelRatio || 1;\n",
       "\n",
       "    mpl.ratio = (window.devicePixelRatio || 1) / backingStore;\n",
       "\n",
       "    var rubberband = $('<canvas/>');\n",
       "    rubberband.attr('style', \"position: absolute; left: 0; top: 0; z-index: 1;\")\n",
       "\n",
       "    var pass_mouse_events = true;\n",
       "\n",
       "    canvas_div.resizable({\n",
       "        start: function(event, ui) {\n",
       "            pass_mouse_events = false;\n",
       "        },\n",
       "        resize: function(event, ui) {\n",
       "            fig.request_resize(ui.size.width, ui.size.height);\n",
       "        },\n",
       "        stop: function(event, ui) {\n",
       "            pass_mouse_events = true;\n",
       "            fig.request_resize(ui.size.width, ui.size.height);\n",
       "        },\n",
       "    });\n",
       "\n",
       "    function mouse_event_fn(event) {\n",
       "        if (pass_mouse_events)\n",
       "            return fig.mouse_event(event, event['data']);\n",
       "    }\n",
       "\n",
       "    rubberband.mousedown('button_press', mouse_event_fn);\n",
       "    rubberband.mouseup('button_release', mouse_event_fn);\n",
       "    // Throttle sequential mouse events to 1 every 20ms.\n",
       "    rubberband.mousemove('motion_notify', mouse_event_fn);\n",
       "\n",
       "    rubberband.mouseenter('figure_enter', mouse_event_fn);\n",
       "    rubberband.mouseleave('figure_leave', mouse_event_fn);\n",
       "\n",
       "    canvas_div.on(\"wheel\", function (event) {\n",
       "        event = event.originalEvent;\n",
       "        event['data'] = 'scroll'\n",
       "        if (event.deltaY < 0) {\n",
       "            event.step = 1;\n",
       "        } else {\n",
       "            event.step = -1;\n",
       "        }\n",
       "        mouse_event_fn(event);\n",
       "    });\n",
       "\n",
       "    canvas_div.append(canvas);\n",
       "    canvas_div.append(rubberband);\n",
       "\n",
       "    this.rubberband = rubberband;\n",
       "    this.rubberband_canvas = rubberband[0];\n",
       "    this.rubberband_context = rubberband[0].getContext(\"2d\");\n",
       "    this.rubberband_context.strokeStyle = \"#000000\";\n",
       "\n",
       "    this._resize_canvas = function(width, height) {\n",
       "        // Keep the size of the canvas, canvas container, and rubber band\n",
       "        // canvas in synch.\n",
       "        canvas_div.css('width', width)\n",
       "        canvas_div.css('height', height)\n",
       "\n",
       "        canvas.attr('width', width * mpl.ratio);\n",
       "        canvas.attr('height', height * mpl.ratio);\n",
       "        canvas.attr('style', 'width: ' + width + 'px; height: ' + height + 'px;');\n",
       "\n",
       "        rubberband.attr('width', width);\n",
       "        rubberband.attr('height', height);\n",
       "    }\n",
       "\n",
       "    // Set the figure to an initial 600x600px, this will subsequently be updated\n",
       "    // upon first draw.\n",
       "    this._resize_canvas(600, 600);\n",
       "\n",
       "    // Disable right mouse context menu.\n",
       "    $(this.rubberband_canvas).bind(\"contextmenu\",function(e){\n",
       "        return false;\n",
       "    });\n",
       "\n",
       "    function set_focus () {\n",
       "        canvas.focus();\n",
       "        canvas_div.focus();\n",
       "    }\n",
       "\n",
       "    window.setTimeout(set_focus, 100);\n",
       "}\n",
       "\n",
       "mpl.figure.prototype._init_toolbar = function() {\n",
       "    var fig = this;\n",
       "\n",
       "    var nav_element = $('<div/>')\n",
       "    nav_element.attr('style', 'width: 100%');\n",
       "    this.root.append(nav_element);\n",
       "\n",
       "    // Define a callback function for later on.\n",
       "    function toolbar_event(event) {\n",
       "        return fig.toolbar_button_onclick(event['data']);\n",
       "    }\n",
       "    function toolbar_mouse_event(event) {\n",
       "        return fig.toolbar_button_onmouseover(event['data']);\n",
       "    }\n",
       "\n",
       "    for(var toolbar_ind in mpl.toolbar_items) {\n",
       "        var name = mpl.toolbar_items[toolbar_ind][0];\n",
       "        var tooltip = mpl.toolbar_items[toolbar_ind][1];\n",
       "        var image = mpl.toolbar_items[toolbar_ind][2];\n",
       "        var method_name = mpl.toolbar_items[toolbar_ind][3];\n",
       "\n",
       "        if (!name) {\n",
       "            // put a spacer in here.\n",
       "            continue;\n",
       "        }\n",
       "        var button = $('<button/>');\n",
       "        button.addClass('ui-button ui-widget ui-state-default ui-corner-all ' +\n",
       "                        'ui-button-icon-only');\n",
       "        button.attr('role', 'button');\n",
       "        button.attr('aria-disabled', 'false');\n",
       "        button.click(method_name, toolbar_event);\n",
       "        button.mouseover(tooltip, toolbar_mouse_event);\n",
       "\n",
       "        var icon_img = $('<span/>');\n",
       "        icon_img.addClass('ui-button-icon-primary ui-icon');\n",
       "        icon_img.addClass(image);\n",
       "        icon_img.addClass('ui-corner-all');\n",
       "\n",
       "        var tooltip_span = $('<span/>');\n",
       "        tooltip_span.addClass('ui-button-text');\n",
       "        tooltip_span.html(tooltip);\n",
       "\n",
       "        button.append(icon_img);\n",
       "        button.append(tooltip_span);\n",
       "\n",
       "        nav_element.append(button);\n",
       "    }\n",
       "\n",
       "    var fmt_picker_span = $('<span/>');\n",
       "\n",
       "    var fmt_picker = $('<select/>');\n",
       "    fmt_picker.addClass('mpl-toolbar-option ui-widget ui-widget-content');\n",
       "    fmt_picker_span.append(fmt_picker);\n",
       "    nav_element.append(fmt_picker_span);\n",
       "    this.format_dropdown = fmt_picker[0];\n",
       "\n",
       "    for (var ind in mpl.extensions) {\n",
       "        var fmt = mpl.extensions[ind];\n",
       "        var option = $(\n",
       "            '<option/>', {selected: fmt === mpl.default_extension}).html(fmt);\n",
       "        fmt_picker.append(option)\n",
       "    }\n",
       "\n",
       "    // Add hover states to the ui-buttons\n",
       "    $( \".ui-button\" ).hover(\n",
       "        function() { $(this).addClass(\"ui-state-hover\");},\n",
       "        function() { $(this).removeClass(\"ui-state-hover\");}\n",
       "    );\n",
       "\n",
       "    var status_bar = $('<span class=\"mpl-message\"/>');\n",
       "    nav_element.append(status_bar);\n",
       "    this.message = status_bar[0];\n",
       "}\n",
       "\n",
       "mpl.figure.prototype.request_resize = function(x_pixels, y_pixels) {\n",
       "    // Request matplotlib to resize the figure. Matplotlib will then trigger a resize in the client,\n",
       "    // which will in turn request a refresh of the image.\n",
       "    this.send_message('resize', {'width': x_pixels, 'height': y_pixels});\n",
       "}\n",
       "\n",
       "mpl.figure.prototype.send_message = function(type, properties) {\n",
       "    properties['type'] = type;\n",
       "    properties['figure_id'] = this.id;\n",
       "    this.ws.send(JSON.stringify(properties));\n",
       "}\n",
       "\n",
       "mpl.figure.prototype.send_draw_message = function() {\n",
       "    if (!this.waiting) {\n",
       "        this.waiting = true;\n",
       "        this.ws.send(JSON.stringify({type: \"draw\", figure_id: this.id}));\n",
       "    }\n",
       "}\n",
       "\n",
       "\n",
       "mpl.figure.prototype.handle_save = function(fig, msg) {\n",
       "    var format_dropdown = fig.format_dropdown;\n",
       "    var format = format_dropdown.options[format_dropdown.selectedIndex].value;\n",
       "    fig.ondownload(fig, format);\n",
       "}\n",
       "\n",
       "\n",
       "mpl.figure.prototype.handle_resize = function(fig, msg) {\n",
       "    var size = msg['size'];\n",
       "    if (size[0] != fig.canvas.width || size[1] != fig.canvas.height) {\n",
       "        fig._resize_canvas(size[0], size[1]);\n",
       "        fig.send_message(\"refresh\", {});\n",
       "    };\n",
       "}\n",
       "\n",
       "mpl.figure.prototype.handle_rubberband = function(fig, msg) {\n",
       "    var x0 = msg['x0'] / mpl.ratio;\n",
       "    var y0 = (fig.canvas.height - msg['y0']) / mpl.ratio;\n",
       "    var x1 = msg['x1'] / mpl.ratio;\n",
       "    var y1 = (fig.canvas.height - msg['y1']) / mpl.ratio;\n",
       "    x0 = Math.floor(x0) + 0.5;\n",
       "    y0 = Math.floor(y0) + 0.5;\n",
       "    x1 = Math.floor(x1) + 0.5;\n",
       "    y1 = Math.floor(y1) + 0.5;\n",
       "    var min_x = Math.min(x0, x1);\n",
       "    var min_y = Math.min(y0, y1);\n",
       "    var width = Math.abs(x1 - x0);\n",
       "    var height = Math.abs(y1 - y0);\n",
       "\n",
       "    fig.rubberband_context.clearRect(\n",
       "        0, 0, fig.canvas.width, fig.canvas.height);\n",
       "\n",
       "    fig.rubberband_context.strokeRect(min_x, min_y, width, height);\n",
       "}\n",
       "\n",
       "mpl.figure.prototype.handle_figure_label = function(fig, msg) {\n",
       "    // Updates the figure title.\n",
       "    fig.header.textContent = msg['label'];\n",
       "}\n",
       "\n",
       "mpl.figure.prototype.handle_cursor = function(fig, msg) {\n",
       "    var cursor = msg['cursor'];\n",
       "    switch(cursor)\n",
       "    {\n",
       "    case 0:\n",
       "        cursor = 'pointer';\n",
       "        break;\n",
       "    case 1:\n",
       "        cursor = 'default';\n",
       "        break;\n",
       "    case 2:\n",
       "        cursor = 'crosshair';\n",
       "        break;\n",
       "    case 3:\n",
       "        cursor = 'move';\n",
       "        break;\n",
       "    }\n",
       "    fig.rubberband_canvas.style.cursor = cursor;\n",
       "}\n",
       "\n",
       "mpl.figure.prototype.handle_message = function(fig, msg) {\n",
       "    fig.message.textContent = msg['message'];\n",
       "}\n",
       "\n",
       "mpl.figure.prototype.handle_draw = function(fig, msg) {\n",
       "    // Request the server to send over a new figure.\n",
       "    fig.send_draw_message();\n",
       "}\n",
       "\n",
       "mpl.figure.prototype.handle_image_mode = function(fig, msg) {\n",
       "    fig.image_mode = msg['mode'];\n",
       "}\n",
       "\n",
       "mpl.figure.prototype.updated_canvas_event = function() {\n",
       "    // Called whenever the canvas gets updated.\n",
       "    this.send_message(\"ack\", {});\n",
       "}\n",
       "\n",
       "// A function to construct a web socket function for onmessage handling.\n",
       "// Called in the figure constructor.\n",
       "mpl.figure.prototype._make_on_message_function = function(fig) {\n",
       "    return function socket_on_message(evt) {\n",
       "        if (evt.data instanceof Blob) {\n",
       "            /* FIXME: We get \"Resource interpreted as Image but\n",
       "             * transferred with MIME type text/plain:\" errors on\n",
       "             * Chrome.  But how to set the MIME type?  It doesn't seem\n",
       "             * to be part of the websocket stream */\n",
       "            evt.data.type = \"image/png\";\n",
       "\n",
       "            /* Free the memory for the previous frames */\n",
       "            if (fig.imageObj.src) {\n",
       "                (window.URL || window.webkitURL).revokeObjectURL(\n",
       "                    fig.imageObj.src);\n",
       "            }\n",
       "\n",
       "            fig.imageObj.src = (window.URL || window.webkitURL).createObjectURL(\n",
       "                evt.data);\n",
       "            fig.updated_canvas_event();\n",
       "            fig.waiting = false;\n",
       "            return;\n",
       "        }\n",
       "        else if (typeof evt.data === 'string' && evt.data.slice(0, 21) == \"data:image/png;base64\") {\n",
       "            fig.imageObj.src = evt.data;\n",
       "            fig.updated_canvas_event();\n",
       "            fig.waiting = false;\n",
       "            return;\n",
       "        }\n",
       "\n",
       "        var msg = JSON.parse(evt.data);\n",
       "        var msg_type = msg['type'];\n",
       "\n",
       "        // Call the  \"handle_{type}\" callback, which takes\n",
       "        // the figure and JSON message as its only arguments.\n",
       "        try {\n",
       "            var callback = fig[\"handle_\" + msg_type];\n",
       "        } catch (e) {\n",
       "            console.log(\"No handler for the '\" + msg_type + \"' message type: \", msg);\n",
       "            return;\n",
       "        }\n",
       "\n",
       "        if (callback) {\n",
       "            try {\n",
       "                // console.log(\"Handling '\" + msg_type + \"' message: \", msg);\n",
       "                callback(fig, msg);\n",
       "            } catch (e) {\n",
       "                console.log(\"Exception inside the 'handler_\" + msg_type + \"' callback:\", e, e.stack, msg);\n",
       "            }\n",
       "        }\n",
       "    };\n",
       "}\n",
       "\n",
       "// from http://stackoverflow.com/questions/1114465/getting-mouse-location-in-canvas\n",
       "mpl.findpos = function(e) {\n",
       "    //this section is from http://www.quirksmode.org/js/events_properties.html\n",
       "    var targ;\n",
       "    if (!e)\n",
       "        e = window.event;\n",
       "    if (e.target)\n",
       "        targ = e.target;\n",
       "    else if (e.srcElement)\n",
       "        targ = e.srcElement;\n",
       "    if (targ.nodeType == 3) // defeat Safari bug\n",
       "        targ = targ.parentNode;\n",
       "\n",
       "    // jQuery normalizes the pageX and pageY\n",
       "    // pageX,Y are the mouse positions relative to the document\n",
       "    // offset() returns the position of the element relative to the document\n",
       "    var x = e.pageX - $(targ).offset().left;\n",
       "    var y = e.pageY - $(targ).offset().top;\n",
       "\n",
       "    return {\"x\": x, \"y\": y};\n",
       "};\n",
       "\n",
       "/*\n",
       " * return a copy of an object with only non-object keys\n",
       " * we need this to avoid circular references\n",
       " * http://stackoverflow.com/a/24161582/3208463\n",
       " */\n",
       "function simpleKeys (original) {\n",
       "  return Object.keys(original).reduce(function (obj, key) {\n",
       "    if (typeof original[key] !== 'object')\n",
       "        obj[key] = original[key]\n",
       "    return obj;\n",
       "  }, {});\n",
       "}\n",
       "\n",
       "mpl.figure.prototype.mouse_event = function(event, name) {\n",
       "    var canvas_pos = mpl.findpos(event)\n",
       "\n",
       "    if (name === 'button_press')\n",
       "    {\n",
       "        this.canvas.focus();\n",
       "        this.canvas_div.focus();\n",
       "    }\n",
       "\n",
       "    var x = canvas_pos.x * mpl.ratio;\n",
       "    var y = canvas_pos.y * mpl.ratio;\n",
       "\n",
       "    this.send_message(name, {x: x, y: y, button: event.button,\n",
       "                             step: event.step,\n",
       "                             guiEvent: simpleKeys(event)});\n",
       "\n",
       "    /* This prevents the web browser from automatically changing to\n",
       "     * the text insertion cursor when the button is pressed.  We want\n",
       "     * to control all of the cursor setting manually through the\n",
       "     * 'cursor' event from matplotlib */\n",
       "    event.preventDefault();\n",
       "    return false;\n",
       "}\n",
       "\n",
       "mpl.figure.prototype._key_event_extra = function(event, name) {\n",
       "    // Handle any extra behaviour associated with a key event\n",
       "}\n",
       "\n",
       "mpl.figure.prototype.key_event = function(event, name) {\n",
       "\n",
       "    // Prevent repeat events\n",
       "    if (name == 'key_press')\n",
       "    {\n",
       "        if (event.which === this._key)\n",
       "            return;\n",
       "        else\n",
       "            this._key = event.which;\n",
       "    }\n",
       "    if (name == 'key_release')\n",
       "        this._key = null;\n",
       "\n",
       "    var value = '';\n",
       "    if (event.ctrlKey && event.which != 17)\n",
       "        value += \"ctrl+\";\n",
       "    if (event.altKey && event.which != 18)\n",
       "        value += \"alt+\";\n",
       "    if (event.shiftKey && event.which != 16)\n",
       "        value += \"shift+\";\n",
       "\n",
       "    value += 'k';\n",
       "    value += event.which.toString();\n",
       "\n",
       "    this._key_event_extra(event, name);\n",
       "\n",
       "    this.send_message(name, {key: value,\n",
       "                             guiEvent: simpleKeys(event)});\n",
       "    return false;\n",
       "}\n",
       "\n",
       "mpl.figure.prototype.toolbar_button_onclick = function(name) {\n",
       "    if (name == 'download') {\n",
       "        this.handle_save(this, null);\n",
       "    } else {\n",
       "        this.send_message(\"toolbar_button\", {name: name});\n",
       "    }\n",
       "};\n",
       "\n",
       "mpl.figure.prototype.toolbar_button_onmouseover = function(tooltip) {\n",
       "    this.message.textContent = tooltip;\n",
       "};\n",
       "mpl.toolbar_items = [[\"Home\", \"Reset original view\", \"fa fa-home icon-home\", \"home\"], [\"Back\", \"Back to previous view\", \"fa fa-arrow-left icon-arrow-left\", \"back\"], [\"Forward\", \"Forward to next view\", \"fa fa-arrow-right icon-arrow-right\", \"forward\"], [\"\", \"\", \"\", \"\"], [\"Pan\", \"Pan axes with left mouse, zoom with right\", \"fa fa-arrows icon-move\", \"pan\"], [\"Zoom\", \"Zoom to rectangle\", \"fa fa-square-o icon-check-empty\", \"zoom\"], [\"\", \"\", \"\", \"\"], [\"Download\", \"Download plot\", \"fa fa-floppy-o icon-save\", \"download\"]];\n",
       "\n",
       "mpl.extensions = [\"eps\", \"pdf\", \"png\", \"ps\", \"raw\", \"svg\"];\n",
       "\n",
       "mpl.default_extension = \"png\";var comm_websocket_adapter = function(comm) {\n",
       "    // Create a \"websocket\"-like object which calls the given IPython comm\n",
       "    // object with the appropriate methods. Currently this is a non binary\n",
       "    // socket, so there is still some room for performance tuning.\n",
       "    var ws = {};\n",
       "\n",
       "    ws.close = function() {\n",
       "        comm.close()\n",
       "    };\n",
       "    ws.send = function(m) {\n",
       "        //console.log('sending', m);\n",
       "        comm.send(m);\n",
       "    };\n",
       "    // Register the callback with on_msg.\n",
       "    comm.on_msg(function(msg) {\n",
       "        //console.log('receiving', msg['content']['data'], msg);\n",
       "        // Pass the mpl event to the overridden (by mpl) onmessage function.\n",
       "        ws.onmessage(msg['content']['data'])\n",
       "    });\n",
       "    return ws;\n",
       "}\n",
       "\n",
       "mpl.mpl_figure_comm = function(comm, msg) {\n",
       "    // This is the function which gets called when the mpl process\n",
       "    // starts-up an IPython Comm through the \"matplotlib\" channel.\n",
       "\n",
       "    var id = msg.content.data.id;\n",
       "    // Get hold of the div created by the display call when the Comm\n",
       "    // socket was opened in Python.\n",
       "    var element = $(\"#\" + id);\n",
       "    var ws_proxy = comm_websocket_adapter(comm)\n",
       "\n",
       "    function ondownload(figure, format) {\n",
       "        window.open(figure.imageObj.src);\n",
       "    }\n",
       "\n",
       "    var fig = new mpl.figure(id, ws_proxy,\n",
       "                           ondownload,\n",
       "                           element.get(0));\n",
       "\n",
       "    // Call onopen now - mpl needs it, as it is assuming we've passed it a real\n",
       "    // web socket which is closed, not our websocket->open comm proxy.\n",
       "    ws_proxy.onopen();\n",
       "\n",
       "    fig.parent_element = element.get(0);\n",
       "    fig.cell_info = mpl.find_output_cell(\"<div id='\" + id + \"'></div>\");\n",
       "    if (!fig.cell_info) {\n",
       "        console.error(\"Failed to find cell for figure\", id, fig);\n",
       "        return;\n",
       "    }\n",
       "\n",
       "    var output_index = fig.cell_info[2]\n",
       "    var cell = fig.cell_info[0];\n",
       "\n",
       "};\n",
       "\n",
       "mpl.figure.prototype.handle_close = function(fig, msg) {\n",
       "    var width = fig.canvas.width/mpl.ratio\n",
       "    fig.root.unbind('remove')\n",
       "\n",
       "    // Update the output cell to use the data from the current canvas.\n",
       "    fig.push_to_output();\n",
       "    var dataURL = fig.canvas.toDataURL();\n",
       "    // Re-enable the keyboard manager in IPython - without this line, in FF,\n",
       "    // the notebook keyboard shortcuts fail.\n",
       "    IPython.keyboard_manager.enable()\n",
       "    $(fig.parent_element).html('<img src=\"' + dataURL + '\" width=\"' + width + '\">');\n",
       "    fig.close_ws(fig, msg);\n",
       "}\n",
       "\n",
       "mpl.figure.prototype.close_ws = function(fig, msg){\n",
       "    fig.send_message('closing', msg);\n",
       "    // fig.ws.close()\n",
       "}\n",
       "\n",
       "mpl.figure.prototype.push_to_output = function(remove_interactive) {\n",
       "    // Turn the data on the canvas into data in the output cell.\n",
       "    var width = this.canvas.width/mpl.ratio\n",
       "    var dataURL = this.canvas.toDataURL();\n",
       "    this.cell_info[1]['text/html'] = '<img src=\"' + dataURL + '\" width=\"' + width + '\">';\n",
       "}\n",
       "\n",
       "mpl.figure.prototype.updated_canvas_event = function() {\n",
       "    // Tell IPython that the notebook contents must change.\n",
       "    IPython.notebook.set_dirty(true);\n",
       "    this.send_message(\"ack\", {});\n",
       "    var fig = this;\n",
       "    // Wait a second, then push the new image to the DOM so\n",
       "    // that it is saved nicely (might be nice to debounce this).\n",
       "    setTimeout(function () { fig.push_to_output() }, 1000);\n",
       "}\n",
       "\n",
       "mpl.figure.prototype._init_toolbar = function() {\n",
       "    var fig = this;\n",
       "\n",
       "    var nav_element = $('<div/>')\n",
       "    nav_element.attr('style', 'width: 100%');\n",
       "    this.root.append(nav_element);\n",
       "\n",
       "    // Define a callback function for later on.\n",
       "    function toolbar_event(event) {\n",
       "        return fig.toolbar_button_onclick(event['data']);\n",
       "    }\n",
       "    function toolbar_mouse_event(event) {\n",
       "        return fig.toolbar_button_onmouseover(event['data']);\n",
       "    }\n",
       "\n",
       "    for(var toolbar_ind in mpl.toolbar_items){\n",
       "        var name = mpl.toolbar_items[toolbar_ind][0];\n",
       "        var tooltip = mpl.toolbar_items[toolbar_ind][1];\n",
       "        var image = mpl.toolbar_items[toolbar_ind][2];\n",
       "        var method_name = mpl.toolbar_items[toolbar_ind][3];\n",
       "\n",
       "        if (!name) { continue; };\n",
       "\n",
       "        var button = $('<button class=\"btn btn-default\" href=\"#\" title=\"' + name + '\"><i class=\"fa ' + image + ' fa-lg\"></i></button>');\n",
       "        button.click(method_name, toolbar_event);\n",
       "        button.mouseover(tooltip, toolbar_mouse_event);\n",
       "        nav_element.append(button);\n",
       "    }\n",
       "\n",
       "    // Add the status bar.\n",
       "    var status_bar = $('<span class=\"mpl-message\" style=\"text-align:right; float: right;\"/>');\n",
       "    nav_element.append(status_bar);\n",
       "    this.message = status_bar[0];\n",
       "\n",
       "    // Add the close button to the window.\n",
       "    var buttongrp = $('<div class=\"btn-group inline pull-right\"></div>');\n",
       "    var button = $('<button class=\"btn btn-mini btn-primary\" href=\"#\" title=\"Stop Interaction\"><i class=\"fa fa-power-off icon-remove icon-large\"></i></button>');\n",
       "    button.click(function (evt) { fig.handle_close(fig, {}); } );\n",
       "    button.mouseover('Stop Interaction', toolbar_mouse_event);\n",
       "    buttongrp.append(button);\n",
       "    var titlebar = this.root.find($('.ui-dialog-titlebar'));\n",
       "    titlebar.prepend(buttongrp);\n",
       "}\n",
       "\n",
       "mpl.figure.prototype._root_extra_style = function(el){\n",
       "    var fig = this\n",
       "    el.on(\"remove\", function(){\n",
       "\tfig.close_ws(fig, {});\n",
       "    });\n",
       "}\n",
       "\n",
       "mpl.figure.prototype._canvas_extra_style = function(el){\n",
       "    // this is important to make the div 'focusable\n",
       "    el.attr('tabindex', 0)\n",
       "    // reach out to IPython and tell the keyboard manager to turn it's self\n",
       "    // off when our div gets focus\n",
       "\n",
       "    // location in version 3\n",
       "    if (IPython.notebook.keyboard_manager) {\n",
       "        IPython.notebook.keyboard_manager.register_events(el);\n",
       "    }\n",
       "    else {\n",
       "        // location in version 2\n",
       "        IPython.keyboard_manager.register_events(el);\n",
       "    }\n",
       "\n",
       "}\n",
       "\n",
       "mpl.figure.prototype._key_event_extra = function(event, name) {\n",
       "    var manager = IPython.notebook.keyboard_manager;\n",
       "    if (!manager)\n",
       "        manager = IPython.keyboard_manager;\n",
       "\n",
       "    // Check for shift+enter\n",
       "    if (event.shiftKey && event.which == 13) {\n",
       "        this.canvas_div.blur();\n",
       "        event.shiftKey = false;\n",
       "        // Send a \"J\" for go to next cell\n",
       "        event.which = 74;\n",
       "        event.keyCode = 74;\n",
       "        manager.command_mode();\n",
       "        manager.handle_keydown(event);\n",
       "    }\n",
       "}\n",
       "\n",
       "mpl.figure.prototype.handle_save = function(fig, msg) {\n",
       "    fig.ondownload(fig, null);\n",
       "}\n",
       "\n",
       "\n",
       "mpl.find_output_cell = function(html_output) {\n",
       "    // Return the cell and output element which can be found *uniquely* in the notebook.\n",
       "    // Note - this is a bit hacky, but it is done because the \"notebook_saving.Notebook\"\n",
       "    // IPython event is triggered only after the cells have been serialised, which for\n",
       "    // our purposes (turning an active figure into a static one), is too late.\n",
       "    var cells = IPython.notebook.get_cells();\n",
       "    var ncells = cells.length;\n",
       "    for (var i=0; i<ncells; i++) {\n",
       "        var cell = cells[i];\n",
       "        if (cell.cell_type === 'code'){\n",
       "            for (var j=0; j<cell.output_area.outputs.length; j++) {\n",
       "                var data = cell.output_area.outputs[j];\n",
       "                if (data.data) {\n",
       "                    // IPython >= 3 moved mimebundle to data attribute of output\n",
       "                    data = data.data;\n",
       "                }\n",
       "                if (data['text/html'] == html_output) {\n",
       "                    return [cell, data, j];\n",
       "                }\n",
       "            }\n",
       "        }\n",
       "    }\n",
       "}\n",
       "\n",
       "// Register the function which deals with the matplotlib target/channel.\n",
       "// The kernel may be null if the page has been refreshed.\n",
       "if (IPython.notebook.kernel != null) {\n",
       "    IPython.notebook.kernel.comm_manager.register_target('matplotlib', mpl.mpl_figure_comm);\n",
       "}\n"
      ],
      "text/plain": [
       "<IPython.core.display.Javascript object>"
      ]
     },
     "metadata": {},
     "output_type": "display_data"
    },
    {
     "data": {
      "text/html": [
       "<img src=\"data:image/png;base64,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\" width=\"640\">"
      ],
      "text/plain": [
       "<IPython.core.display.HTML object>"
      ]
     },
     "metadata": {},
     "output_type": "display_data"
    },
    {
     "name": "stdout",
     "output_type": "stream",
     "text": [
      "k = 4\n",
      "2nd k = 3\n",
      "CPU times: user 12 ms, sys: 4 ms, total: 16 ms\n",
      "Wall time: 16.2 ms\n"
     ]
    }
   ],
   "source": [
    "%%time\n",
    "\n",
    "# Plot data\n",
    "plt.figure()\n",
    "plt.errorbar(range(2,len(coherence)+2), coherence_med, yerr=coherence_std)\n",
    "plt.show()\n",
    "\n",
    "# Get best k\n",
    "# Get best k\n",
    "print(\"k = %d\" % coherence_k)\n",
    "print(\"2nd k = %d\" % coherence_k2)"
   ]
  },
  {
   "cell_type": "code",
   "execution_count": 25,
   "metadata": {},
   "outputs": [
    {
     "data": {
      "application/javascript": [
       "/* Put everything inside the global mpl namespace */\n",
       "window.mpl = {};\n",
       "\n",
       "\n",
       "mpl.get_websocket_type = function() {\n",
       "    if (typeof(WebSocket) !== 'undefined') {\n",
       "        return WebSocket;\n",
       "    } else if (typeof(MozWebSocket) !== 'undefined') {\n",
       "        return MozWebSocket;\n",
       "    } else {\n",
       "        alert('Your browser does not have WebSocket support.' +\n",
       "              'Please try Chrome, Safari or Firefox ≥ 6. ' +\n",
       "              'Firefox 4 and 5 are also supported but you ' +\n",
       "              'have to enable WebSockets in about:config.');\n",
       "    };\n",
       "}\n",
       "\n",
       "mpl.figure = function(figure_id, websocket, ondownload, parent_element) {\n",
       "    this.id = figure_id;\n",
       "\n",
       "    this.ws = websocket;\n",
       "\n",
       "    this.supports_binary = (this.ws.binaryType != undefined);\n",
       "\n",
       "    if (!this.supports_binary) {\n",
       "        var warnings = document.getElementById(\"mpl-warnings\");\n",
       "        if (warnings) {\n",
       "            warnings.style.display = 'block';\n",
       "            warnings.textContent = (\n",
       "                \"This browser does not support binary websocket messages. \" +\n",
       "                    \"Performance may be slow.\");\n",
       "        }\n",
       "    }\n",
       "\n",
       "    this.imageObj = new Image();\n",
       "\n",
       "    this.context = undefined;\n",
       "    this.message = undefined;\n",
       "    this.canvas = undefined;\n",
       "    this.rubberband_canvas = undefined;\n",
       "    this.rubberband_context = undefined;\n",
       "    this.format_dropdown = undefined;\n",
       "\n",
       "    this.image_mode = 'full';\n",
       "\n",
       "    this.root = $('<div/>');\n",
       "    this._root_extra_style(this.root)\n",
       "    this.root.attr('style', 'display: inline-block');\n",
       "\n",
       "    $(parent_element).append(this.root);\n",
       "\n",
       "    this._init_header(this);\n",
       "    this._init_canvas(this);\n",
       "    this._init_toolbar(this);\n",
       "\n",
       "    var fig = this;\n",
       "\n",
       "    this.waiting = false;\n",
       "\n",
       "    this.ws.onopen =  function () {\n",
       "            fig.send_message(\"supports_binary\", {value: fig.supports_binary});\n",
       "            fig.send_message(\"send_image_mode\", {});\n",
       "            if (mpl.ratio != 1) {\n",
       "                fig.send_message(\"set_dpi_ratio\", {'dpi_ratio': mpl.ratio});\n",
       "            }\n",
       "            fig.send_message(\"refresh\", {});\n",
       "        }\n",
       "\n",
       "    this.imageObj.onload = function() {\n",
       "            if (fig.image_mode == 'full') {\n",
       "                // Full images could contain transparency (where diff images\n",
       "                // almost always do), so we need to clear the canvas so that\n",
       "                // there is no ghosting.\n",
       "                fig.context.clearRect(0, 0, fig.canvas.width, fig.canvas.height);\n",
       "            }\n",
       "            fig.context.drawImage(fig.imageObj, 0, 0);\n",
       "        };\n",
       "\n",
       "    this.imageObj.onunload = function() {\n",
       "        fig.ws.close();\n",
       "    }\n",
       "\n",
       "    this.ws.onmessage = this._make_on_message_function(this);\n",
       "\n",
       "    this.ondownload = ondownload;\n",
       "}\n",
       "\n",
       "mpl.figure.prototype._init_header = function() {\n",
       "    var titlebar = $(\n",
       "        '<div class=\"ui-dialog-titlebar ui-widget-header ui-corner-all ' +\n",
       "        'ui-helper-clearfix\"/>');\n",
       "    var titletext = $(\n",
       "        '<div class=\"ui-dialog-title\" style=\"width: 100%; ' +\n",
       "        'text-align: center; padding: 3px;\"/>');\n",
       "    titlebar.append(titletext)\n",
       "    this.root.append(titlebar);\n",
       "    this.header = titletext[0];\n",
       "}\n",
       "\n",
       "\n",
       "\n",
       "mpl.figure.prototype._canvas_extra_style = function(canvas_div) {\n",
       "\n",
       "}\n",
       "\n",
       "\n",
       "mpl.figure.prototype._root_extra_style = function(canvas_div) {\n",
       "\n",
       "}\n",
       "\n",
       "mpl.figure.prototype._init_canvas = function() {\n",
       "    var fig = this;\n",
       "\n",
       "    var canvas_div = $('<div/>');\n",
       "\n",
       "    canvas_div.attr('style', 'position: relative; clear: both; outline: 0');\n",
       "\n",
       "    function canvas_keyboard_event(event) {\n",
       "        return fig.key_event(event, event['data']);\n",
       "    }\n",
       "\n",
       "    canvas_div.keydown('key_press', canvas_keyboard_event);\n",
       "    canvas_div.keyup('key_release', canvas_keyboard_event);\n",
       "    this.canvas_div = canvas_div\n",
       "    this._canvas_extra_style(canvas_div)\n",
       "    this.root.append(canvas_div);\n",
       "\n",
       "    var canvas = $('<canvas/>');\n",
       "    canvas.addClass('mpl-canvas');\n",
       "    canvas.attr('style', \"left: 0; top: 0; z-index: 0; outline: 0\")\n",
       "\n",
       "    this.canvas = canvas[0];\n",
       "    this.context = canvas[0].getContext(\"2d\");\n",
       "\n",
       "    var backingStore = this.context.backingStorePixelRatio ||\n",
       "\tthis.context.webkitBackingStorePixelRatio ||\n",
       "\tthis.context.mozBackingStorePixelRatio ||\n",
       "\tthis.context.msBackingStorePixelRatio ||\n",
       "\tthis.context.oBackingStorePixelRatio ||\n",
       "\tthis.context.backingStorePixelRatio || 1;\n",
       "\n",
       "    mpl.ratio = (window.devicePixelRatio || 1) / backingStore;\n",
       "\n",
       "    var rubberband = $('<canvas/>');\n",
       "    rubberband.attr('style', \"position: absolute; left: 0; top: 0; z-index: 1;\")\n",
       "\n",
       "    var pass_mouse_events = true;\n",
       "\n",
       "    canvas_div.resizable({\n",
       "        start: function(event, ui) {\n",
       "            pass_mouse_events = false;\n",
       "        },\n",
       "        resize: function(event, ui) {\n",
       "            fig.request_resize(ui.size.width, ui.size.height);\n",
       "        },\n",
       "        stop: function(event, ui) {\n",
       "            pass_mouse_events = true;\n",
       "            fig.request_resize(ui.size.width, ui.size.height);\n",
       "        },\n",
       "    });\n",
       "\n",
       "    function mouse_event_fn(event) {\n",
       "        if (pass_mouse_events)\n",
       "            return fig.mouse_event(event, event['data']);\n",
       "    }\n",
       "\n",
       "    rubberband.mousedown('button_press', mouse_event_fn);\n",
       "    rubberband.mouseup('button_release', mouse_event_fn);\n",
       "    // Throttle sequential mouse events to 1 every 20ms.\n",
       "    rubberband.mousemove('motion_notify', mouse_event_fn);\n",
       "\n",
       "    rubberband.mouseenter('figure_enter', mouse_event_fn);\n",
       "    rubberband.mouseleave('figure_leave', mouse_event_fn);\n",
       "\n",
       "    canvas_div.on(\"wheel\", function (event) {\n",
       "        event = event.originalEvent;\n",
       "        event['data'] = 'scroll'\n",
       "        if (event.deltaY < 0) {\n",
       "            event.step = 1;\n",
       "        } else {\n",
       "            event.step = -1;\n",
       "        }\n",
       "        mouse_event_fn(event);\n",
       "    });\n",
       "\n",
       "    canvas_div.append(canvas);\n",
       "    canvas_div.append(rubberband);\n",
       "\n",
       "    this.rubberband = rubberband;\n",
       "    this.rubberband_canvas = rubberband[0];\n",
       "    this.rubberband_context = rubberband[0].getContext(\"2d\");\n",
       "    this.rubberband_context.strokeStyle = \"#000000\";\n",
       "\n",
       "    this._resize_canvas = function(width, height) {\n",
       "        // Keep the size of the canvas, canvas container, and rubber band\n",
       "        // canvas in synch.\n",
       "        canvas_div.css('width', width)\n",
       "        canvas_div.css('height', height)\n",
       "\n",
       "        canvas.attr('width', width * mpl.ratio);\n",
       "        canvas.attr('height', height * mpl.ratio);\n",
       "        canvas.attr('style', 'width: ' + width + 'px; height: ' + height + 'px;');\n",
       "\n",
       "        rubberband.attr('width', width);\n",
       "        rubberband.attr('height', height);\n",
       "    }\n",
       "\n",
       "    // Set the figure to an initial 600x600px, this will subsequently be updated\n",
       "    // upon first draw.\n",
       "    this._resize_canvas(600, 600);\n",
       "\n",
       "    // Disable right mouse context menu.\n",
       "    $(this.rubberband_canvas).bind(\"contextmenu\",function(e){\n",
       "        return false;\n",
       "    });\n",
       "\n",
       "    function set_focus () {\n",
       "        canvas.focus();\n",
       "        canvas_div.focus();\n",
       "    }\n",
       "\n",
       "    window.setTimeout(set_focus, 100);\n",
       "}\n",
       "\n",
       "mpl.figure.prototype._init_toolbar = function() {\n",
       "    var fig = this;\n",
       "\n",
       "    var nav_element = $('<div/>')\n",
       "    nav_element.attr('style', 'width: 100%');\n",
       "    this.root.append(nav_element);\n",
       "\n",
       "    // Define a callback function for later on.\n",
       "    function toolbar_event(event) {\n",
       "        return fig.toolbar_button_onclick(event['data']);\n",
       "    }\n",
       "    function toolbar_mouse_event(event) {\n",
       "        return fig.toolbar_button_onmouseover(event['data']);\n",
       "    }\n",
       "\n",
       "    for(var toolbar_ind in mpl.toolbar_items) {\n",
       "        var name = mpl.toolbar_items[toolbar_ind][0];\n",
       "        var tooltip = mpl.toolbar_items[toolbar_ind][1];\n",
       "        var image = mpl.toolbar_items[toolbar_ind][2];\n",
       "        var method_name = mpl.toolbar_items[toolbar_ind][3];\n",
       "\n",
       "        if (!name) {\n",
       "            // put a spacer in here.\n",
       "            continue;\n",
       "        }\n",
       "        var button = $('<button/>');\n",
       "        button.addClass('ui-button ui-widget ui-state-default ui-corner-all ' +\n",
       "                        'ui-button-icon-only');\n",
       "        button.attr('role', 'button');\n",
       "        button.attr('aria-disabled', 'false');\n",
       "        button.click(method_name, toolbar_event);\n",
       "        button.mouseover(tooltip, toolbar_mouse_event);\n",
       "\n",
       "        var icon_img = $('<span/>');\n",
       "        icon_img.addClass('ui-button-icon-primary ui-icon');\n",
       "        icon_img.addClass(image);\n",
       "        icon_img.addClass('ui-corner-all');\n",
       "\n",
       "        var tooltip_span = $('<span/>');\n",
       "        tooltip_span.addClass('ui-button-text');\n",
       "        tooltip_span.html(tooltip);\n",
       "\n",
       "        button.append(icon_img);\n",
       "        button.append(tooltip_span);\n",
       "\n",
       "        nav_element.append(button);\n",
       "    }\n",
       "\n",
       "    var fmt_picker_span = $('<span/>');\n",
       "\n",
       "    var fmt_picker = $('<select/>');\n",
       "    fmt_picker.addClass('mpl-toolbar-option ui-widget ui-widget-content');\n",
       "    fmt_picker_span.append(fmt_picker);\n",
       "    nav_element.append(fmt_picker_span);\n",
       "    this.format_dropdown = fmt_picker[0];\n",
       "\n",
       "    for (var ind in mpl.extensions) {\n",
       "        var fmt = mpl.extensions[ind];\n",
       "        var option = $(\n",
       "            '<option/>', {selected: fmt === mpl.default_extension}).html(fmt);\n",
       "        fmt_picker.append(option)\n",
       "    }\n",
       "\n",
       "    // Add hover states to the ui-buttons\n",
       "    $( \".ui-button\" ).hover(\n",
       "        function() { $(this).addClass(\"ui-state-hover\");},\n",
       "        function() { $(this).removeClass(\"ui-state-hover\");}\n",
       "    );\n",
       "\n",
       "    var status_bar = $('<span class=\"mpl-message\"/>');\n",
       "    nav_element.append(status_bar);\n",
       "    this.message = status_bar[0];\n",
       "}\n",
       "\n",
       "mpl.figure.prototype.request_resize = function(x_pixels, y_pixels) {\n",
       "    // Request matplotlib to resize the figure. Matplotlib will then trigger a resize in the client,\n",
       "    // which will in turn request a refresh of the image.\n",
       "    this.send_message('resize', {'width': x_pixels, 'height': y_pixels});\n",
       "}\n",
       "\n",
       "mpl.figure.prototype.send_message = function(type, properties) {\n",
       "    properties['type'] = type;\n",
       "    properties['figure_id'] = this.id;\n",
       "    this.ws.send(JSON.stringify(properties));\n",
       "}\n",
       "\n",
       "mpl.figure.prototype.send_draw_message = function() {\n",
       "    if (!this.waiting) {\n",
       "        this.waiting = true;\n",
       "        this.ws.send(JSON.stringify({type: \"draw\", figure_id: this.id}));\n",
       "    }\n",
       "}\n",
       "\n",
       "\n",
       "mpl.figure.prototype.handle_save = function(fig, msg) {\n",
       "    var format_dropdown = fig.format_dropdown;\n",
       "    var format = format_dropdown.options[format_dropdown.selectedIndex].value;\n",
       "    fig.ondownload(fig, format);\n",
       "}\n",
       "\n",
       "\n",
       "mpl.figure.prototype.handle_resize = function(fig, msg) {\n",
       "    var size = msg['size'];\n",
       "    if (size[0] != fig.canvas.width || size[1] != fig.canvas.height) {\n",
       "        fig._resize_canvas(size[0], size[1]);\n",
       "        fig.send_message(\"refresh\", {});\n",
       "    };\n",
       "}\n",
       "\n",
       "mpl.figure.prototype.handle_rubberband = function(fig, msg) {\n",
       "    var x0 = msg['x0'] / mpl.ratio;\n",
       "    var y0 = (fig.canvas.height - msg['y0']) / mpl.ratio;\n",
       "    var x1 = msg['x1'] / mpl.ratio;\n",
       "    var y1 = (fig.canvas.height - msg['y1']) / mpl.ratio;\n",
       "    x0 = Math.floor(x0) + 0.5;\n",
       "    y0 = Math.floor(y0) + 0.5;\n",
       "    x1 = Math.floor(x1) + 0.5;\n",
       "    y1 = Math.floor(y1) + 0.5;\n",
       "    var min_x = Math.min(x0, x1);\n",
       "    var min_y = Math.min(y0, y1);\n",
       "    var width = Math.abs(x1 - x0);\n",
       "    var height = Math.abs(y1 - y0);\n",
       "\n",
       "    fig.rubberband_context.clearRect(\n",
       "        0, 0, fig.canvas.width, fig.canvas.height);\n",
       "\n",
       "    fig.rubberband_context.strokeRect(min_x, min_y, width, height);\n",
       "}\n",
       "\n",
       "mpl.figure.prototype.handle_figure_label = function(fig, msg) {\n",
       "    // Updates the figure title.\n",
       "    fig.header.textContent = msg['label'];\n",
       "}\n",
       "\n",
       "mpl.figure.prototype.handle_cursor = function(fig, msg) {\n",
       "    var cursor = msg['cursor'];\n",
       "    switch(cursor)\n",
       "    {\n",
       "    case 0:\n",
       "        cursor = 'pointer';\n",
       "        break;\n",
       "    case 1:\n",
       "        cursor = 'default';\n",
       "        break;\n",
       "    case 2:\n",
       "        cursor = 'crosshair';\n",
       "        break;\n",
       "    case 3:\n",
       "        cursor = 'move';\n",
       "        break;\n",
       "    }\n",
       "    fig.rubberband_canvas.style.cursor = cursor;\n",
       "}\n",
       "\n",
       "mpl.figure.prototype.handle_message = function(fig, msg) {\n",
       "    fig.message.textContent = msg['message'];\n",
       "}\n",
       "\n",
       "mpl.figure.prototype.handle_draw = function(fig, msg) {\n",
       "    // Request the server to send over a new figure.\n",
       "    fig.send_draw_message();\n",
       "}\n",
       "\n",
       "mpl.figure.prototype.handle_image_mode = function(fig, msg) {\n",
       "    fig.image_mode = msg['mode'];\n",
       "}\n",
       "\n",
       "mpl.figure.prototype.updated_canvas_event = function() {\n",
       "    // Called whenever the canvas gets updated.\n",
       "    this.send_message(\"ack\", {});\n",
       "}\n",
       "\n",
       "// A function to construct a web socket function for onmessage handling.\n",
       "// Called in the figure constructor.\n",
       "mpl.figure.prototype._make_on_message_function = function(fig) {\n",
       "    return function socket_on_message(evt) {\n",
       "        if (evt.data instanceof Blob) {\n",
       "            /* FIXME: We get \"Resource interpreted as Image but\n",
       "             * transferred with MIME type text/plain:\" errors on\n",
       "             * Chrome.  But how to set the MIME type?  It doesn't seem\n",
       "             * to be part of the websocket stream */\n",
       "            evt.data.type = \"image/png\";\n",
       "\n",
       "            /* Free the memory for the previous frames */\n",
       "            if (fig.imageObj.src) {\n",
       "                (window.URL || window.webkitURL).revokeObjectURL(\n",
       "                    fig.imageObj.src);\n",
       "            }\n",
       "\n",
       "            fig.imageObj.src = (window.URL || window.webkitURL).createObjectURL(\n",
       "                evt.data);\n",
       "            fig.updated_canvas_event();\n",
       "            fig.waiting = false;\n",
       "            return;\n",
       "        }\n",
       "        else if (typeof evt.data === 'string' && evt.data.slice(0, 21) == \"data:image/png;base64\") {\n",
       "            fig.imageObj.src = evt.data;\n",
       "            fig.updated_canvas_event();\n",
       "            fig.waiting = false;\n",
       "            return;\n",
       "        }\n",
       "\n",
       "        var msg = JSON.parse(evt.data);\n",
       "        var msg_type = msg['type'];\n",
       "\n",
       "        // Call the  \"handle_{type}\" callback, which takes\n",
       "        // the figure and JSON message as its only arguments.\n",
       "        try {\n",
       "            var callback = fig[\"handle_\" + msg_type];\n",
       "        } catch (e) {\n",
       "            console.log(\"No handler for the '\" + msg_type + \"' message type: \", msg);\n",
       "            return;\n",
       "        }\n",
       "\n",
       "        if (callback) {\n",
       "            try {\n",
       "                // console.log(\"Handling '\" + msg_type + \"' message: \", msg);\n",
       "                callback(fig, msg);\n",
       "            } catch (e) {\n",
       "                console.log(\"Exception inside the 'handler_\" + msg_type + \"' callback:\", e, e.stack, msg);\n",
       "            }\n",
       "        }\n",
       "    };\n",
       "}\n",
       "\n",
       "// from http://stackoverflow.com/questions/1114465/getting-mouse-location-in-canvas\n",
       "mpl.findpos = function(e) {\n",
       "    //this section is from http://www.quirksmode.org/js/events_properties.html\n",
       "    var targ;\n",
       "    if (!e)\n",
       "        e = window.event;\n",
       "    if (e.target)\n",
       "        targ = e.target;\n",
       "    else if (e.srcElement)\n",
       "        targ = e.srcElement;\n",
       "    if (targ.nodeType == 3) // defeat Safari bug\n",
       "        targ = targ.parentNode;\n",
       "\n",
       "    // jQuery normalizes the pageX and pageY\n",
       "    // pageX,Y are the mouse positions relative to the document\n",
       "    // offset() returns the position of the element relative to the document\n",
       "    var x = e.pageX - $(targ).offset().left;\n",
       "    var y = e.pageY - $(targ).offset().top;\n",
       "\n",
       "    return {\"x\": x, \"y\": y};\n",
       "};\n",
       "\n",
       "/*\n",
       " * return a copy of an object with only non-object keys\n",
       " * we need this to avoid circular references\n",
       " * http://stackoverflow.com/a/24161582/3208463\n",
       " */\n",
       "function simpleKeys (original) {\n",
       "  return Object.keys(original).reduce(function (obj, key) {\n",
       "    if (typeof original[key] !== 'object')\n",
       "        obj[key] = original[key]\n",
       "    return obj;\n",
       "  }, {});\n",
       "}\n",
       "\n",
       "mpl.figure.prototype.mouse_event = function(event, name) {\n",
       "    var canvas_pos = mpl.findpos(event)\n",
       "\n",
       "    if (name === 'button_press')\n",
       "    {\n",
       "        this.canvas.focus();\n",
       "        this.canvas_div.focus();\n",
       "    }\n",
       "\n",
       "    var x = canvas_pos.x * mpl.ratio;\n",
       "    var y = canvas_pos.y * mpl.ratio;\n",
       "\n",
       "    this.send_message(name, {x: x, y: y, button: event.button,\n",
       "                             step: event.step,\n",
       "                             guiEvent: simpleKeys(event)});\n",
       "\n",
       "    /* This prevents the web browser from automatically changing to\n",
       "     * the text insertion cursor when the button is pressed.  We want\n",
       "     * to control all of the cursor setting manually through the\n",
       "     * 'cursor' event from matplotlib */\n",
       "    event.preventDefault();\n",
       "    return false;\n",
       "}\n",
       "\n",
       "mpl.figure.prototype._key_event_extra = function(event, name) {\n",
       "    // Handle any extra behaviour associated with a key event\n",
       "}\n",
       "\n",
       "mpl.figure.prototype.key_event = function(event, name) {\n",
       "\n",
       "    // Prevent repeat events\n",
       "    if (name == 'key_press')\n",
       "    {\n",
       "        if (event.which === this._key)\n",
       "            return;\n",
       "        else\n",
       "            this._key = event.which;\n",
       "    }\n",
       "    if (name == 'key_release')\n",
       "        this._key = null;\n",
       "\n",
       "    var value = '';\n",
       "    if (event.ctrlKey && event.which != 17)\n",
       "        value += \"ctrl+\";\n",
       "    if (event.altKey && event.which != 18)\n",
       "        value += \"alt+\";\n",
       "    if (event.shiftKey && event.which != 16)\n",
       "        value += \"shift+\";\n",
       "\n",
       "    value += 'k';\n",
       "    value += event.which.toString();\n",
       "\n",
       "    this._key_event_extra(event, name);\n",
       "\n",
       "    this.send_message(name, {key: value,\n",
       "                             guiEvent: simpleKeys(event)});\n",
       "    return false;\n",
       "}\n",
       "\n",
       "mpl.figure.prototype.toolbar_button_onclick = function(name) {\n",
       "    if (name == 'download') {\n",
       "        this.handle_save(this, null);\n",
       "    } else {\n",
       "        this.send_message(\"toolbar_button\", {name: name});\n",
       "    }\n",
       "};\n",
       "\n",
       "mpl.figure.prototype.toolbar_button_onmouseover = function(tooltip) {\n",
       "    this.message.textContent = tooltip;\n",
       "};\n",
       "mpl.toolbar_items = [[\"Home\", \"Reset original view\", \"fa fa-home icon-home\", \"home\"], [\"Back\", \"Back to previous view\", \"fa fa-arrow-left icon-arrow-left\", \"back\"], [\"Forward\", \"Forward to next view\", \"fa fa-arrow-right icon-arrow-right\", \"forward\"], [\"\", \"\", \"\", \"\"], [\"Pan\", \"Pan axes with left mouse, zoom with right\", \"fa fa-arrows icon-move\", \"pan\"], [\"Zoom\", \"Zoom to rectangle\", \"fa fa-square-o icon-check-empty\", \"zoom\"], [\"\", \"\", \"\", \"\"], [\"Download\", \"Download plot\", \"fa fa-floppy-o icon-save\", \"download\"]];\n",
       "\n",
       "mpl.extensions = [\"eps\", \"pdf\", \"png\", \"ps\", \"raw\", \"svg\"];\n",
       "\n",
       "mpl.default_extension = \"png\";var comm_websocket_adapter = function(comm) {\n",
       "    // Create a \"websocket\"-like object which calls the given IPython comm\n",
       "    // object with the appropriate methods. Currently this is a non binary\n",
       "    // socket, so there is still some room for performance tuning.\n",
       "    var ws = {};\n",
       "\n",
       "    ws.close = function() {\n",
       "        comm.close()\n",
       "    };\n",
       "    ws.send = function(m) {\n",
       "        //console.log('sending', m);\n",
       "        comm.send(m);\n",
       "    };\n",
       "    // Register the callback with on_msg.\n",
       "    comm.on_msg(function(msg) {\n",
       "        //console.log('receiving', msg['content']['data'], msg);\n",
       "        // Pass the mpl event to the overridden (by mpl) onmessage function.\n",
       "        ws.onmessage(msg['content']['data'])\n",
       "    });\n",
       "    return ws;\n",
       "}\n",
       "\n",
       "mpl.mpl_figure_comm = function(comm, msg) {\n",
       "    // This is the function which gets called when the mpl process\n",
       "    // starts-up an IPython Comm through the \"matplotlib\" channel.\n",
       "\n",
       "    var id = msg.content.data.id;\n",
       "    // Get hold of the div created by the display call when the Comm\n",
       "    // socket was opened in Python.\n",
       "    var element = $(\"#\" + id);\n",
       "    var ws_proxy = comm_websocket_adapter(comm)\n",
       "\n",
       "    function ondownload(figure, format) {\n",
       "        window.open(figure.imageObj.src);\n",
       "    }\n",
       "\n",
       "    var fig = new mpl.figure(id, ws_proxy,\n",
       "                           ondownload,\n",
       "                           element.get(0));\n",
       "\n",
       "    // Call onopen now - mpl needs it, as it is assuming we've passed it a real\n",
       "    // web socket which is closed, not our websocket->open comm proxy.\n",
       "    ws_proxy.onopen();\n",
       "\n",
       "    fig.parent_element = element.get(0);\n",
       "    fig.cell_info = mpl.find_output_cell(\"<div id='\" + id + \"'></div>\");\n",
       "    if (!fig.cell_info) {\n",
       "        console.error(\"Failed to find cell for figure\", id, fig);\n",
       "        return;\n",
       "    }\n",
       "\n",
       "    var output_index = fig.cell_info[2]\n",
       "    var cell = fig.cell_info[0];\n",
       "\n",
       "};\n",
       "\n",
       "mpl.figure.prototype.handle_close = function(fig, msg) {\n",
       "    var width = fig.canvas.width/mpl.ratio\n",
       "    fig.root.unbind('remove')\n",
       "\n",
       "    // Update the output cell to use the data from the current canvas.\n",
       "    fig.push_to_output();\n",
       "    var dataURL = fig.canvas.toDataURL();\n",
       "    // Re-enable the keyboard manager in IPython - without this line, in FF,\n",
       "    // the notebook keyboard shortcuts fail.\n",
       "    IPython.keyboard_manager.enable()\n",
       "    $(fig.parent_element).html('<img src=\"' + dataURL + '\" width=\"' + width + '\">');\n",
       "    fig.close_ws(fig, msg);\n",
       "}\n",
       "\n",
       "mpl.figure.prototype.close_ws = function(fig, msg){\n",
       "    fig.send_message('closing', msg);\n",
       "    // fig.ws.close()\n",
       "}\n",
       "\n",
       "mpl.figure.prototype.push_to_output = function(remove_interactive) {\n",
       "    // Turn the data on the canvas into data in the output cell.\n",
       "    var width = this.canvas.width/mpl.ratio\n",
       "    var dataURL = this.canvas.toDataURL();\n",
       "    this.cell_info[1]['text/html'] = '<img src=\"' + dataURL + '\" width=\"' + width + '\">';\n",
       "}\n",
       "\n",
       "mpl.figure.prototype.updated_canvas_event = function() {\n",
       "    // Tell IPython that the notebook contents must change.\n",
       "    IPython.notebook.set_dirty(true);\n",
       "    this.send_message(\"ack\", {});\n",
       "    var fig = this;\n",
       "    // Wait a second, then push the new image to the DOM so\n",
       "    // that it is saved nicely (might be nice to debounce this).\n",
       "    setTimeout(function () { fig.push_to_output() }, 1000);\n",
       "}\n",
       "\n",
       "mpl.figure.prototype._init_toolbar = function() {\n",
       "    var fig = this;\n",
       "\n",
       "    var nav_element = $('<div/>')\n",
       "    nav_element.attr('style', 'width: 100%');\n",
       "    this.root.append(nav_element);\n",
       "\n",
       "    // Define a callback function for later on.\n",
       "    function toolbar_event(event) {\n",
       "        return fig.toolbar_button_onclick(event['data']);\n",
       "    }\n",
       "    function toolbar_mouse_event(event) {\n",
       "        return fig.toolbar_button_onmouseover(event['data']);\n",
       "    }\n",
       "\n",
       "    for(var toolbar_ind in mpl.toolbar_items){\n",
       "        var name = mpl.toolbar_items[toolbar_ind][0];\n",
       "        var tooltip = mpl.toolbar_items[toolbar_ind][1];\n",
       "        var image = mpl.toolbar_items[toolbar_ind][2];\n",
       "        var method_name = mpl.toolbar_items[toolbar_ind][3];\n",
       "\n",
       "        if (!name) { continue; };\n",
       "\n",
       "        var button = $('<button class=\"btn btn-default\" href=\"#\" title=\"' + name + '\"><i class=\"fa ' + image + ' fa-lg\"></i></button>');\n",
       "        button.click(method_name, toolbar_event);\n",
       "        button.mouseover(tooltip, toolbar_mouse_event);\n",
       "        nav_element.append(button);\n",
       "    }\n",
       "\n",
       "    // Add the status bar.\n",
       "    var status_bar = $('<span class=\"mpl-message\" style=\"text-align:right; float: right;\"/>');\n",
       "    nav_element.append(status_bar);\n",
       "    this.message = status_bar[0];\n",
       "\n",
       "    // Add the close button to the window.\n",
       "    var buttongrp = $('<div class=\"btn-group inline pull-right\"></div>');\n",
       "    var button = $('<button class=\"btn btn-mini btn-primary\" href=\"#\" title=\"Stop Interaction\"><i class=\"fa fa-power-off icon-remove icon-large\"></i></button>');\n",
       "    button.click(function (evt) { fig.handle_close(fig, {}); } );\n",
       "    button.mouseover('Stop Interaction', toolbar_mouse_event);\n",
       "    buttongrp.append(button);\n",
       "    var titlebar = this.root.find($('.ui-dialog-titlebar'));\n",
       "    titlebar.prepend(buttongrp);\n",
       "}\n",
       "\n",
       "mpl.figure.prototype._root_extra_style = function(el){\n",
       "    var fig = this\n",
       "    el.on(\"remove\", function(){\n",
       "\tfig.close_ws(fig, {});\n",
       "    });\n",
       "}\n",
       "\n",
       "mpl.figure.prototype._canvas_extra_style = function(el){\n",
       "    // this is important to make the div 'focusable\n",
       "    el.attr('tabindex', 0)\n",
       "    // reach out to IPython and tell the keyboard manager to turn it's self\n",
       "    // off when our div gets focus\n",
       "\n",
       "    // location in version 3\n",
       "    if (IPython.notebook.keyboard_manager) {\n",
       "        IPython.notebook.keyboard_manager.register_events(el);\n",
       "    }\n",
       "    else {\n",
       "        // location in version 2\n",
       "        IPython.keyboard_manager.register_events(el);\n",
       "    }\n",
       "\n",
       "}\n",
       "\n",
       "mpl.figure.prototype._key_event_extra = function(event, name) {\n",
       "    var manager = IPython.notebook.keyboard_manager;\n",
       "    if (!manager)\n",
       "        manager = IPython.keyboard_manager;\n",
       "\n",
       "    // Check for shift+enter\n",
       "    if (event.shiftKey && event.which == 13) {\n",
       "        this.canvas_div.blur();\n",
       "        event.shiftKey = false;\n",
       "        // Send a \"J\" for go to next cell\n",
       "        event.which = 74;\n",
       "        event.keyCode = 74;\n",
       "        manager.command_mode();\n",
       "        manager.handle_keydown(event);\n",
       "    }\n",
       "}\n",
       "\n",
       "mpl.figure.prototype.handle_save = function(fig, msg) {\n",
       "    fig.ondownload(fig, null);\n",
       "}\n",
       "\n",
       "\n",
       "mpl.find_output_cell = function(html_output) {\n",
       "    // Return the cell and output element which can be found *uniquely* in the notebook.\n",
       "    // Note - this is a bit hacky, but it is done because the \"notebook_saving.Notebook\"\n",
       "    // IPython event is triggered only after the cells have been serialised, which for\n",
       "    // our purposes (turning an active figure into a static one), is too late.\n",
       "    var cells = IPython.notebook.get_cells();\n",
       "    var ncells = cells.length;\n",
       "    for (var i=0; i<ncells; i++) {\n",
       "        var cell = cells[i];\n",
       "        if (cell.cell_type === 'code'){\n",
       "            for (var j=0; j<cell.output_area.outputs.length; j++) {\n",
       "                var data = cell.output_area.outputs[j];\n",
       "                if (data.data) {\n",
       "                    // IPython >= 3 moved mimebundle to data attribute of output\n",
       "                    data = data.data;\n",
       "                }\n",
       "                if (data['text/html'] == html_output) {\n",
       "                    return [cell, data, j];\n",
       "                }\n",
       "            }\n",
       "        }\n",
       "    }\n",
       "}\n",
       "\n",
       "// Register the function which deals with the matplotlib target/channel.\n",
       "// The kernel may be null if the page has been refreshed.\n",
       "if (IPython.notebook.kernel != null) {\n",
       "    IPython.notebook.kernel.comm_manager.register_target('matplotlib', mpl.mpl_figure_comm);\n",
       "}\n"
      ],
      "text/plain": [
       "<IPython.core.display.Javascript object>"
      ]
     },
     "metadata": {},
     "output_type": "display_data"
    },
    {
     "data": {
      "text/html": [
       "<img src=\"data:image/png;base64,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\" width=\"640\">"
      ],
      "text/plain": [
       "<IPython.core.display.HTML object>"
      ]
     },
     "metadata": {},
     "output_type": "display_data"
    }
   ],
   "source": [
    "plt.figure()\n",
    "for idx, i in enumerate(coherence_array):\n",
    "    median = np.median([item for item in i if str(item) != 'nan'])\n",
    "    plt.scatter(i, [idx+2]*len(i))\n",
    "    plt.scatter(median, idx+2, marker=\"*\")"
   ]
  },
  {
   "cell_type": "code",
   "execution_count": 208,
   "metadata": {},
   "outputs": [],
   "source": [
    "import pickle\n",
    "import base64\n",
    "from clustering import Clustering"
   ]
  },
  {
   "cell_type": "code",
   "execution_count": 242,
   "metadata": {},
   "outputs": [],
   "source": [
    "query = \"select model, X from experiments where experiment_id = 1623\"\n",
    "cursor.execute(query)\n",
    "r = cursor.fetchall()"
   ]
  },
  {
   "cell_type": "code",
   "execution_count": 243,
   "metadata": {},
   "outputs": [
    {
     "data": {
      "text/plain": [
       "NMF(alpha=0.0, beta_loss='frobenius', init=None, l1_ratio=0.0, max_iter=200,\n",
       "  n_components=8, random_state=4036125560, shuffle=False, solver='cd',\n",
       "  tol=0.0001, verbose=0)"
      ]
     },
     "execution_count": 243,
     "metadata": {},
     "output_type": "execute_result"
    }
   ],
   "source": [
    "model_db = pickle.loads(base64.b64decode(r[0][0]))\n",
    "model_db"
   ]
  },
  {
   "cell_type": "code",
   "execution_count": 248,
   "metadata": {},
   "outputs": [
    {
     "data": {
      "text/plain": [
       "(2224, 64)"
      ]
     },
     "execution_count": 248,
     "metadata": {},
     "output_type": "execute_result"
    }
   ],
   "source": [
    "X = np.asarray(r[0][1])\n",
    "X.shape"
   ]
  },
  {
   "cell_type": "code",
   "execution_count": 201,
   "metadata": {},
   "outputs": [],
   "source": [
    "def get_docs(topics):\n",
    "    docs = []\n",
    "    base_path = \"bbc\"\n",
    "    for t in topics:\n",
    "        docs_title = os.listdir(\"%s/%s\" % (base_path,t))\n",
    "        for item in docs_title:\n",
    "            with open('%s/%s/%s' %(base_path, t, item), 'r') as txtfile:\n",
    "                try:\n",
    "                    docs.append(txtfile.read())\n",
    "                except UnicodeDecodeError:\n",
    "                    print(\"Error on doc %s/%s\" % (t,item))\n",
    "    return docs"
   ]
  },
  {
   "cell_type": "code",
   "execution_count": 215,
   "metadata": {},
   "outputs": [],
   "source": [
    "# %load vectorizer.py\n",
    "from sklearn.feature_extraction.text import CountVectorizer\n",
    "from sklearn.preprocessing import normalize\n",
    "from analyzer import python_analyzer\n",
    "import numpy as np\n",
    "\n",
    "\n",
    "class NCutVectorizer(object):\n",
    "    def __init__(self, analyzer, binary, min_df):\n",
    "        self.vectorizer = CountVectorizer(analyzer = 'word',\n",
    "                                          binary=binary,\n",
    "                                          min_df=min_df,\n",
    "                                         )\n",
    "\n",
    "    def fit_transform(self, docs):\n",
    "        train_data_features = self.vectorizer.fit_transform(docs)\n",
    "        train_data_features = train_data_features.toarray()\n",
    "\n",
    "        # Calculate NCut-weight\n",
    "        doc_mat_norm = normalize(train_data_features)\n",
    "        S = np.dot(doc_mat_norm.T, doc_mat_norm) + 0.001\n",
    "        D = np.power(np.sum(S, axis=1), -0.5) * np.eye(S.shape[0])\n",
    "        Y = np.dot(D, train_data_features.T)\n",
    "        return Y.T\n",
    "    \n",
    "    def get_feature_names(self):\n",
    "        return self.vectorizer.get_feature_names()\n"
   ]
  },
  {
   "cell_type": "code",
   "execution_count": 217,
   "metadata": {},
   "outputs": [],
   "source": [
    "def create_bag_of_words(docs, vectorizer_method, binary=False, min_df=0.2):\n",
    "#     vectorizer = vectorizer_method(analyzer = python_analyzer,\n",
    "    vectorizer = vectorizer_method(analyzer = 'word',\n",
    "                                   binary=binary,\n",
    "                                   min_df=min_df) \n",
    "    train_data_features = vectorizer.fit_transform(docs)\n",
    "    try:\n",
    "        train_data_features = train_data_features.toarray()\n",
    "    # It's already an array\n",
    "    except AttributeError:\n",
    "        pass\n",
    "    return train_data_features, vectorizer.get_feature_names()"
   ]
  },
  {
   "cell_type": "code",
   "execution_count": 249,
   "metadata": {
    "scrolled": false
   },
   "outputs": [
    {
     "name": "stdout",
     "output_type": "stream",
     "text": [
      "Error on doc sport/199.txt\n"
     ]
    }
   ],
   "source": [
    "topic_list = [\"business\", \"entertainment\", \"politics\", \"sport\", \"tech\"]\n",
    "docs = get_docs(topic_list)\n",
    "v = NCutVectorizer\n",
    "b = True\n",
    "m = 0.35\n",
    "k = 8\n",
    "dist = 'correlation'\n",
    "\n",
    "train_data_features, feature_names = create_bag_of_words(docs, v, binary=b, min_df=m)\n",
    "clustering = Clustering(train_data_features, k, metric=dist)"
   ]
  },
  {
   "cell_type": "code",
   "execution_count": 250,
   "metadata": {},
   "outputs": [],
   "source": [
    "model, document_topic, word_topic = getattr(clustering, method)()"
   ]
  },
  {
   "cell_type": "code",
   "execution_count": 251,
   "metadata": {},
   "outputs": [
    {
     "data": {
      "text/plain": [
       "(8, 64)"
      ]
     },
     "execution_count": 251,
     "metadata": {},
     "output_type": "execute_result"
    }
   ],
   "source": [
    "word_topic.shape"
   ]
  },
  {
   "cell_type": "code",
   "execution_count": 241,
   "metadata": {},
   "outputs": [
    {
     "data": {
      "text/plain": [
       "(8, 64)"
      ]
     },
     "execution_count": 241,
     "metadata": {},
     "output_type": "execute_result"
    }
   ],
   "source": [
    "model_db.components_.shape"
   ]
  },
  {
   "cell_type": "code",
   "execution_count": 279,
   "metadata": {},
   "outputs": [],
   "source": [
    "def print_top_words(model, feature_names, n_top_words):\n",
    "    top_words = []\n",
    "    for topic_idx, topic in enumerate(model.components_):\n",
    "        message = \"Topic #%d: \" % topic_idx\n",
    "        names = [feature_names[i] for i in topic.argsort()[:-n_top_words - 1:-1]]\n",
    "        top_words.append(names)\n",
    "        message += \", \".join(names)\n",
    "        print(message)\n",
    "    print()\n",
    "    return top_words"
   ]
  },
  {
   "cell_type": "code",
   "execution_count": 280,
   "metadata": {},
   "outputs": [
    {
     "name": "stdout",
     "output_type": "stream",
     "text": [
      "\n",
      "Topics in NMF model (Frobenius norm):\n",
      "Topic #0: his, who, after, he, was, the, in, to, of, and\n",
      "Topic #1: people, or, other, more, their, than, one, who, they, are\n",
      "Topic #2: its, us, has, the, also, and, of, in, to, said\n",
      "Topic #3: first, time, there, new, when, us, out, but, all, about\n",
      "Topic #4: two, over, were, one, after, their, when, had, up, they\n",
      "Topic #5: if, we, can, could, there, all, not, would, out, they\n",
      "Topic #6: last, year, up, in, the, to, new, of, will, and\n",
      "Topic #7: mr, would, were, had, could, he, not, over, which, an\n",
      "\n"
     ]
    }
   ],
   "source": [
    "print(\"\\nTopics in NMF model (Frobenius norm):\")\n",
    "# print(len(feature_names))\n",
    "top_words = print_top_words(model, feature_names, 10)"
   ]
  },
  {
   "cell_type": "code",
   "execution_count": 262,
   "metadata": {},
   "outputs": [],
   "source": [
    "df = pd.DataFrame(word_topic)"
   ]
  },
  {
   "cell_type": "code",
   "execution_count": 315,
   "metadata": {},
   "outputs": [],
   "source": [
    "def normalize_per_row(matrix):\n",
    "    row_sums = matrix.sum(axis=1)\n",
    "    matrix_norm = matrix / row_sums[:, np.newaxis]\n",
    "    return matrix_norm\n",
    "\n",
    "def sort_distribution(df, columns, MIN_PROB=0.3):\n",
    "    ids = []\n",
    "\n",
    "    for col in columns:\n",
    "        ids = ids + df[df[col] > MIN_PROB].sort_values([col], ascending=False).index.tolist()\n",
    "    \n",
    "    for col in columns:\n",
    "        ids = ids + df.sort_values([col], ascending=False).index.tolist()\n",
    "\n",
    "    index = df.loc[ids].index.drop_duplicates()\n",
    "    df_sorted = df.loc[index]\n",
    "    return df_sorted"
   ]
  },
  {
   "cell_type": "code",
   "execution_count": 355,
   "metadata": {},
   "outputs": [],
   "source": [
    "# word_topic_norm = normalize_per_row(word_topic)\n",
    "x = [\"Topic %d\" % (idx+1) for idx in range(model.components_.shape[0])]\n",
    "y = feature_names\n",
    "# word_topic_df = pd.DataFrame(word_topic_norm.T, index=y, columns=x)\n",
    "word_topic_df = pd.DataFrame(word_topic.T, index=y, columns=x)\n",
    "word_topic_df = sort_distribution(word_topic_df, x, MIN_PROB=0.3)"
   ]
  },
  {
   "cell_type": "code",
   "execution_count": 358,
   "metadata": {
    "scrolled": false
   },
   "outputs": [
    {
     "data": {
      "application/javascript": [
       "/* Put everything inside the global mpl namespace */\n",
       "window.mpl = {};\n",
       "\n",
       "\n",
       "mpl.get_websocket_type = function() {\n",
       "    if (typeof(WebSocket) !== 'undefined') {\n",
       "        return WebSocket;\n",
       "    } else if (typeof(MozWebSocket) !== 'undefined') {\n",
       "        return MozWebSocket;\n",
       "    } else {\n",
       "        alert('Your browser does not have WebSocket support.' +\n",
       "              'Please try Chrome, Safari or Firefox ≥ 6. ' +\n",
       "              'Firefox 4 and 5 are also supported but you ' +\n",
       "              'have to enable WebSockets in about:config.');\n",
       "    };\n",
       "}\n",
       "\n",
       "mpl.figure = function(figure_id, websocket, ondownload, parent_element) {\n",
       "    this.id = figure_id;\n",
       "\n",
       "    this.ws = websocket;\n",
       "\n",
       "    this.supports_binary = (this.ws.binaryType != undefined);\n",
       "\n",
       "    if (!this.supports_binary) {\n",
       "        var warnings = document.getElementById(\"mpl-warnings\");\n",
       "        if (warnings) {\n",
       "            warnings.style.display = 'block';\n",
       "            warnings.textContent = (\n",
       "                \"This browser does not support binary websocket messages. \" +\n",
       "                    \"Performance may be slow.\");\n",
       "        }\n",
       "    }\n",
       "\n",
       "    this.imageObj = new Image();\n",
       "\n",
       "    this.context = undefined;\n",
       "    this.message = undefined;\n",
       "    this.canvas = undefined;\n",
       "    this.rubberband_canvas = undefined;\n",
       "    this.rubberband_context = undefined;\n",
       "    this.format_dropdown = undefined;\n",
       "\n",
       "    this.image_mode = 'full';\n",
       "\n",
       "    this.root = $('<div/>');\n",
       "    this._root_extra_style(this.root)\n",
       "    this.root.attr('style', 'display: inline-block');\n",
       "\n",
       "    $(parent_element).append(this.root);\n",
       "\n",
       "    this._init_header(this);\n",
       "    this._init_canvas(this);\n",
       "    this._init_toolbar(this);\n",
       "\n",
       "    var fig = this;\n",
       "\n",
       "    this.waiting = false;\n",
       "\n",
       "    this.ws.onopen =  function () {\n",
       "            fig.send_message(\"supports_binary\", {value: fig.supports_binary});\n",
       "            fig.send_message(\"send_image_mode\", {});\n",
       "            if (mpl.ratio != 1) {\n",
       "                fig.send_message(\"set_dpi_ratio\", {'dpi_ratio': mpl.ratio});\n",
       "            }\n",
       "            fig.send_message(\"refresh\", {});\n",
       "        }\n",
       "\n",
       "    this.imageObj.onload = function() {\n",
       "            if (fig.image_mode == 'full') {\n",
       "                // Full images could contain transparency (where diff images\n",
       "                // almost always do), so we need to clear the canvas so that\n",
       "                // there is no ghosting.\n",
       "                fig.context.clearRect(0, 0, fig.canvas.width, fig.canvas.height);\n",
       "            }\n",
       "            fig.context.drawImage(fig.imageObj, 0, 0);\n",
       "        };\n",
       "\n",
       "    this.imageObj.onunload = function() {\n",
       "        fig.ws.close();\n",
       "    }\n",
       "\n",
       "    this.ws.onmessage = this._make_on_message_function(this);\n",
       "\n",
       "    this.ondownload = ondownload;\n",
       "}\n",
       "\n",
       "mpl.figure.prototype._init_header = function() {\n",
       "    var titlebar = $(\n",
       "        '<div class=\"ui-dialog-titlebar ui-widget-header ui-corner-all ' +\n",
       "        'ui-helper-clearfix\"/>');\n",
       "    var titletext = $(\n",
       "        '<div class=\"ui-dialog-title\" style=\"width: 100%; ' +\n",
       "        'text-align: center; padding: 3px;\"/>');\n",
       "    titlebar.append(titletext)\n",
       "    this.root.append(titlebar);\n",
       "    this.header = titletext[0];\n",
       "}\n",
       "\n",
       "\n",
       "\n",
       "mpl.figure.prototype._canvas_extra_style = function(canvas_div) {\n",
       "\n",
       "}\n",
       "\n",
       "\n",
       "mpl.figure.prototype._root_extra_style = function(canvas_div) {\n",
       "\n",
       "}\n",
       "\n",
       "mpl.figure.prototype._init_canvas = function() {\n",
       "    var fig = this;\n",
       "\n",
       "    var canvas_div = $('<div/>');\n",
       "\n",
       "    canvas_div.attr('style', 'position: relative; clear: both; outline: 0');\n",
       "\n",
       "    function canvas_keyboard_event(event) {\n",
       "        return fig.key_event(event, event['data']);\n",
       "    }\n",
       "\n",
       "    canvas_div.keydown('key_press', canvas_keyboard_event);\n",
       "    canvas_div.keyup('key_release', canvas_keyboard_event);\n",
       "    this.canvas_div = canvas_div\n",
       "    this._canvas_extra_style(canvas_div)\n",
       "    this.root.append(canvas_div);\n",
       "\n",
       "    var canvas = $('<canvas/>');\n",
       "    canvas.addClass('mpl-canvas');\n",
       "    canvas.attr('style', \"left: 0; top: 0; z-index: 0; outline: 0\")\n",
       "\n",
       "    this.canvas = canvas[0];\n",
       "    this.context = canvas[0].getContext(\"2d\");\n",
       "\n",
       "    var backingStore = this.context.backingStorePixelRatio ||\n",
       "\tthis.context.webkitBackingStorePixelRatio ||\n",
       "\tthis.context.mozBackingStorePixelRatio ||\n",
       "\tthis.context.msBackingStorePixelRatio ||\n",
       "\tthis.context.oBackingStorePixelRatio ||\n",
       "\tthis.context.backingStorePixelRatio || 1;\n",
       "\n",
       "    mpl.ratio = (window.devicePixelRatio || 1) / backingStore;\n",
       "\n",
       "    var rubberband = $('<canvas/>');\n",
       "    rubberband.attr('style', \"position: absolute; left: 0; top: 0; z-index: 1;\")\n",
       "\n",
       "    var pass_mouse_events = true;\n",
       "\n",
       "    canvas_div.resizable({\n",
       "        start: function(event, ui) {\n",
       "            pass_mouse_events = false;\n",
       "        },\n",
       "        resize: function(event, ui) {\n",
       "            fig.request_resize(ui.size.width, ui.size.height);\n",
       "        },\n",
       "        stop: function(event, ui) {\n",
       "            pass_mouse_events = true;\n",
       "            fig.request_resize(ui.size.width, ui.size.height);\n",
       "        },\n",
       "    });\n",
       "\n",
       "    function mouse_event_fn(event) {\n",
       "        if (pass_mouse_events)\n",
       "            return fig.mouse_event(event, event['data']);\n",
       "    }\n",
       "\n",
       "    rubberband.mousedown('button_press', mouse_event_fn);\n",
       "    rubberband.mouseup('button_release', mouse_event_fn);\n",
       "    // Throttle sequential mouse events to 1 every 20ms.\n",
       "    rubberband.mousemove('motion_notify', mouse_event_fn);\n",
       "\n",
       "    rubberband.mouseenter('figure_enter', mouse_event_fn);\n",
       "    rubberband.mouseleave('figure_leave', mouse_event_fn);\n",
       "\n",
       "    canvas_div.on(\"wheel\", function (event) {\n",
       "        event = event.originalEvent;\n",
       "        event['data'] = 'scroll'\n",
       "        if (event.deltaY < 0) {\n",
       "            event.step = 1;\n",
       "        } else {\n",
       "            event.step = -1;\n",
       "        }\n",
       "        mouse_event_fn(event);\n",
       "    });\n",
       "\n",
       "    canvas_div.append(canvas);\n",
       "    canvas_div.append(rubberband);\n",
       "\n",
       "    this.rubberband = rubberband;\n",
       "    this.rubberband_canvas = rubberband[0];\n",
       "    this.rubberband_context = rubberband[0].getContext(\"2d\");\n",
       "    this.rubberband_context.strokeStyle = \"#000000\";\n",
       "\n",
       "    this._resize_canvas = function(width, height) {\n",
       "        // Keep the size of the canvas, canvas container, and rubber band\n",
       "        // canvas in synch.\n",
       "        canvas_div.css('width', width)\n",
       "        canvas_div.css('height', height)\n",
       "\n",
       "        canvas.attr('width', width * mpl.ratio);\n",
       "        canvas.attr('height', height * mpl.ratio);\n",
       "        canvas.attr('style', 'width: ' + width + 'px; height: ' + height + 'px;');\n",
       "\n",
       "        rubberband.attr('width', width);\n",
       "        rubberband.attr('height', height);\n",
       "    }\n",
       "\n",
       "    // Set the figure to an initial 600x600px, this will subsequently be updated\n",
       "    // upon first draw.\n",
       "    this._resize_canvas(600, 600);\n",
       "\n",
       "    // Disable right mouse context menu.\n",
       "    $(this.rubberband_canvas).bind(\"contextmenu\",function(e){\n",
       "        return false;\n",
       "    });\n",
       "\n",
       "    function set_focus () {\n",
       "        canvas.focus();\n",
       "        canvas_div.focus();\n",
       "    }\n",
       "\n",
       "    window.setTimeout(set_focus, 100);\n",
       "}\n",
       "\n",
       "mpl.figure.prototype._init_toolbar = function() {\n",
       "    var fig = this;\n",
       "\n",
       "    var nav_element = $('<div/>')\n",
       "    nav_element.attr('style', 'width: 100%');\n",
       "    this.root.append(nav_element);\n",
       "\n",
       "    // Define a callback function for later on.\n",
       "    function toolbar_event(event) {\n",
       "        return fig.toolbar_button_onclick(event['data']);\n",
       "    }\n",
       "    function toolbar_mouse_event(event) {\n",
       "        return fig.toolbar_button_onmouseover(event['data']);\n",
       "    }\n",
       "\n",
       "    for(var toolbar_ind in mpl.toolbar_items) {\n",
       "        var name = mpl.toolbar_items[toolbar_ind][0];\n",
       "        var tooltip = mpl.toolbar_items[toolbar_ind][1];\n",
       "        var image = mpl.toolbar_items[toolbar_ind][2];\n",
       "        var method_name = mpl.toolbar_items[toolbar_ind][3];\n",
       "\n",
       "        if (!name) {\n",
       "            // put a spacer in here.\n",
       "            continue;\n",
       "        }\n",
       "        var button = $('<button/>');\n",
       "        button.addClass('ui-button ui-widget ui-state-default ui-corner-all ' +\n",
       "                        'ui-button-icon-only');\n",
       "        button.attr('role', 'button');\n",
       "        button.attr('aria-disabled', 'false');\n",
       "        button.click(method_name, toolbar_event);\n",
       "        button.mouseover(tooltip, toolbar_mouse_event);\n",
       "\n",
       "        var icon_img = $('<span/>');\n",
       "        icon_img.addClass('ui-button-icon-primary ui-icon');\n",
       "        icon_img.addClass(image);\n",
       "        icon_img.addClass('ui-corner-all');\n",
       "\n",
       "        var tooltip_span = $('<span/>');\n",
       "        tooltip_span.addClass('ui-button-text');\n",
       "        tooltip_span.html(tooltip);\n",
       "\n",
       "        button.append(icon_img);\n",
       "        button.append(tooltip_span);\n",
       "\n",
       "        nav_element.append(button);\n",
       "    }\n",
       "\n",
       "    var fmt_picker_span = $('<span/>');\n",
       "\n",
       "    var fmt_picker = $('<select/>');\n",
       "    fmt_picker.addClass('mpl-toolbar-option ui-widget ui-widget-content');\n",
       "    fmt_picker_span.append(fmt_picker);\n",
       "    nav_element.append(fmt_picker_span);\n",
       "    this.format_dropdown = fmt_picker[0];\n",
       "\n",
       "    for (var ind in mpl.extensions) {\n",
       "        var fmt = mpl.extensions[ind];\n",
       "        var option = $(\n",
       "            '<option/>', {selected: fmt === mpl.default_extension}).html(fmt);\n",
       "        fmt_picker.append(option)\n",
       "    }\n",
       "\n",
       "    // Add hover states to the ui-buttons\n",
       "    $( \".ui-button\" ).hover(\n",
       "        function() { $(this).addClass(\"ui-state-hover\");},\n",
       "        function() { $(this).removeClass(\"ui-state-hover\");}\n",
       "    );\n",
       "\n",
       "    var status_bar = $('<span class=\"mpl-message\"/>');\n",
       "    nav_element.append(status_bar);\n",
       "    this.message = status_bar[0];\n",
       "}\n",
       "\n",
       "mpl.figure.prototype.request_resize = function(x_pixels, y_pixels) {\n",
       "    // Request matplotlib to resize the figure. Matplotlib will then trigger a resize in the client,\n",
       "    // which will in turn request a refresh of the image.\n",
       "    this.send_message('resize', {'width': x_pixels, 'height': y_pixels});\n",
       "}\n",
       "\n",
       "mpl.figure.prototype.send_message = function(type, properties) {\n",
       "    properties['type'] = type;\n",
       "    properties['figure_id'] = this.id;\n",
       "    this.ws.send(JSON.stringify(properties));\n",
       "}\n",
       "\n",
       "mpl.figure.prototype.send_draw_message = function() {\n",
       "    if (!this.waiting) {\n",
       "        this.waiting = true;\n",
       "        this.ws.send(JSON.stringify({type: \"draw\", figure_id: this.id}));\n",
       "    }\n",
       "}\n",
       "\n",
       "\n",
       "mpl.figure.prototype.handle_save = function(fig, msg) {\n",
       "    var format_dropdown = fig.format_dropdown;\n",
       "    var format = format_dropdown.options[format_dropdown.selectedIndex].value;\n",
       "    fig.ondownload(fig, format);\n",
       "}\n",
       "\n",
       "\n",
       "mpl.figure.prototype.handle_resize = function(fig, msg) {\n",
       "    var size = msg['size'];\n",
       "    if (size[0] != fig.canvas.width || size[1] != fig.canvas.height) {\n",
       "        fig._resize_canvas(size[0], size[1]);\n",
       "        fig.send_message(\"refresh\", {});\n",
       "    };\n",
       "}\n",
       "\n",
       "mpl.figure.prototype.handle_rubberband = function(fig, msg) {\n",
       "    var x0 = msg['x0'] / mpl.ratio;\n",
       "    var y0 = (fig.canvas.height - msg['y0']) / mpl.ratio;\n",
       "    var x1 = msg['x1'] / mpl.ratio;\n",
       "    var y1 = (fig.canvas.height - msg['y1']) / mpl.ratio;\n",
       "    x0 = Math.floor(x0) + 0.5;\n",
       "    y0 = Math.floor(y0) + 0.5;\n",
       "    x1 = Math.floor(x1) + 0.5;\n",
       "    y1 = Math.floor(y1) + 0.5;\n",
       "    var min_x = Math.min(x0, x1);\n",
       "    var min_y = Math.min(y0, y1);\n",
       "    var width = Math.abs(x1 - x0);\n",
       "    var height = Math.abs(y1 - y0);\n",
       "\n",
       "    fig.rubberband_context.clearRect(\n",
       "        0, 0, fig.canvas.width, fig.canvas.height);\n",
       "\n",
       "    fig.rubberband_context.strokeRect(min_x, min_y, width, height);\n",
       "}\n",
       "\n",
       "mpl.figure.prototype.handle_figure_label = function(fig, msg) {\n",
       "    // Updates the figure title.\n",
       "    fig.header.textContent = msg['label'];\n",
       "}\n",
       "\n",
       "mpl.figure.prototype.handle_cursor = function(fig, msg) {\n",
       "    var cursor = msg['cursor'];\n",
       "    switch(cursor)\n",
       "    {\n",
       "    case 0:\n",
       "        cursor = 'pointer';\n",
       "        break;\n",
       "    case 1:\n",
       "        cursor = 'default';\n",
       "        break;\n",
       "    case 2:\n",
       "        cursor = 'crosshair';\n",
       "        break;\n",
       "    case 3:\n",
       "        cursor = 'move';\n",
       "        break;\n",
       "    }\n",
       "    fig.rubberband_canvas.style.cursor = cursor;\n",
       "}\n",
       "\n",
       "mpl.figure.prototype.handle_message = function(fig, msg) {\n",
       "    fig.message.textContent = msg['message'];\n",
       "}\n",
       "\n",
       "mpl.figure.prototype.handle_draw = function(fig, msg) {\n",
       "    // Request the server to send over a new figure.\n",
       "    fig.send_draw_message();\n",
       "}\n",
       "\n",
       "mpl.figure.prototype.handle_image_mode = function(fig, msg) {\n",
       "    fig.image_mode = msg['mode'];\n",
       "}\n",
       "\n",
       "mpl.figure.prototype.updated_canvas_event = function() {\n",
       "    // Called whenever the canvas gets updated.\n",
       "    this.send_message(\"ack\", {});\n",
       "}\n",
       "\n",
       "// A function to construct a web socket function for onmessage handling.\n",
       "// Called in the figure constructor.\n",
       "mpl.figure.prototype._make_on_message_function = function(fig) {\n",
       "    return function socket_on_message(evt) {\n",
       "        if (evt.data instanceof Blob) {\n",
       "            /* FIXME: We get \"Resource interpreted as Image but\n",
       "             * transferred with MIME type text/plain:\" errors on\n",
       "             * Chrome.  But how to set the MIME type?  It doesn't seem\n",
       "             * to be part of the websocket stream */\n",
       "            evt.data.type = \"image/png\";\n",
       "\n",
       "            /* Free the memory for the previous frames */\n",
       "            if (fig.imageObj.src) {\n",
       "                (window.URL || window.webkitURL).revokeObjectURL(\n",
       "                    fig.imageObj.src);\n",
       "            }\n",
       "\n",
       "            fig.imageObj.src = (window.URL || window.webkitURL).createObjectURL(\n",
       "                evt.data);\n",
       "            fig.updated_canvas_event();\n",
       "            fig.waiting = false;\n",
       "            return;\n",
       "        }\n",
       "        else if (typeof evt.data === 'string' && evt.data.slice(0, 21) == \"data:image/png;base64\") {\n",
       "            fig.imageObj.src = evt.data;\n",
       "            fig.updated_canvas_event();\n",
       "            fig.waiting = false;\n",
       "            return;\n",
       "        }\n",
       "\n",
       "        var msg = JSON.parse(evt.data);\n",
       "        var msg_type = msg['type'];\n",
       "\n",
       "        // Call the  \"handle_{type}\" callback, which takes\n",
       "        // the figure and JSON message as its only arguments.\n",
       "        try {\n",
       "            var callback = fig[\"handle_\" + msg_type];\n",
       "        } catch (e) {\n",
       "            console.log(\"No handler for the '\" + msg_type + \"' message type: \", msg);\n",
       "            return;\n",
       "        }\n",
       "\n",
       "        if (callback) {\n",
       "            try {\n",
       "                // console.log(\"Handling '\" + msg_type + \"' message: \", msg);\n",
       "                callback(fig, msg);\n",
       "            } catch (e) {\n",
       "                console.log(\"Exception inside the 'handler_\" + msg_type + \"' callback:\", e, e.stack, msg);\n",
       "            }\n",
       "        }\n",
       "    };\n",
       "}\n",
       "\n",
       "// from http://stackoverflow.com/questions/1114465/getting-mouse-location-in-canvas\n",
       "mpl.findpos = function(e) {\n",
       "    //this section is from http://www.quirksmode.org/js/events_properties.html\n",
       "    var targ;\n",
       "    if (!e)\n",
       "        e = window.event;\n",
       "    if (e.target)\n",
       "        targ = e.target;\n",
       "    else if (e.srcElement)\n",
       "        targ = e.srcElement;\n",
       "    if (targ.nodeType == 3) // defeat Safari bug\n",
       "        targ = targ.parentNode;\n",
       "\n",
       "    // jQuery normalizes the pageX and pageY\n",
       "    // pageX,Y are the mouse positions relative to the document\n",
       "    // offset() returns the position of the element relative to the document\n",
       "    var x = e.pageX - $(targ).offset().left;\n",
       "    var y = e.pageY - $(targ).offset().top;\n",
       "\n",
       "    return {\"x\": x, \"y\": y};\n",
       "};\n",
       "\n",
       "/*\n",
       " * return a copy of an object with only non-object keys\n",
       " * we need this to avoid circular references\n",
       " * http://stackoverflow.com/a/24161582/3208463\n",
       " */\n",
       "function simpleKeys (original) {\n",
       "  return Object.keys(original).reduce(function (obj, key) {\n",
       "    if (typeof original[key] !== 'object')\n",
       "        obj[key] = original[key]\n",
       "    return obj;\n",
       "  }, {});\n",
       "}\n",
       "\n",
       "mpl.figure.prototype.mouse_event = function(event, name) {\n",
       "    var canvas_pos = mpl.findpos(event)\n",
       "\n",
       "    if (name === 'button_press')\n",
       "    {\n",
       "        this.canvas.focus();\n",
       "        this.canvas_div.focus();\n",
       "    }\n",
       "\n",
       "    var x = canvas_pos.x * mpl.ratio;\n",
       "    var y = canvas_pos.y * mpl.ratio;\n",
       "\n",
       "    this.send_message(name, {x: x, y: y, button: event.button,\n",
       "                             step: event.step,\n",
       "                             guiEvent: simpleKeys(event)});\n",
       "\n",
       "    /* This prevents the web browser from automatically changing to\n",
       "     * the text insertion cursor when the button is pressed.  We want\n",
       "     * to control all of the cursor setting manually through the\n",
       "     * 'cursor' event from matplotlib */\n",
       "    event.preventDefault();\n",
       "    return false;\n",
       "}\n",
       "\n",
       "mpl.figure.prototype._key_event_extra = function(event, name) {\n",
       "    // Handle any extra behaviour associated with a key event\n",
       "}\n",
       "\n",
       "mpl.figure.prototype.key_event = function(event, name) {\n",
       "\n",
       "    // Prevent repeat events\n",
       "    if (name == 'key_press')\n",
       "    {\n",
       "        if (event.which === this._key)\n",
       "            return;\n",
       "        else\n",
       "            this._key = event.which;\n",
       "    }\n",
       "    if (name == 'key_release')\n",
       "        this._key = null;\n",
       "\n",
       "    var value = '';\n",
       "    if (event.ctrlKey && event.which != 17)\n",
       "        value += \"ctrl+\";\n",
       "    if (event.altKey && event.which != 18)\n",
       "        value += \"alt+\";\n",
       "    if (event.shiftKey && event.which != 16)\n",
       "        value += \"shift+\";\n",
       "\n",
       "    value += 'k';\n",
       "    value += event.which.toString();\n",
       "\n",
       "    this._key_event_extra(event, name);\n",
       "\n",
       "    this.send_message(name, {key: value,\n",
       "                             guiEvent: simpleKeys(event)});\n",
       "    return false;\n",
       "}\n",
       "\n",
       "mpl.figure.prototype.toolbar_button_onclick = function(name) {\n",
       "    if (name == 'download') {\n",
       "        this.handle_save(this, null);\n",
       "    } else {\n",
       "        this.send_message(\"toolbar_button\", {name: name});\n",
       "    }\n",
       "};\n",
       "\n",
       "mpl.figure.prototype.toolbar_button_onmouseover = function(tooltip) {\n",
       "    this.message.textContent = tooltip;\n",
       "};\n",
       "mpl.toolbar_items = [[\"Home\", \"Reset original view\", \"fa fa-home icon-home\", \"home\"], [\"Back\", \"Back to previous view\", \"fa fa-arrow-left icon-arrow-left\", \"back\"], [\"Forward\", \"Forward to next view\", \"fa fa-arrow-right icon-arrow-right\", \"forward\"], [\"\", \"\", \"\", \"\"], [\"Pan\", \"Pan axes with left mouse, zoom with right\", \"fa fa-arrows icon-move\", \"pan\"], [\"Zoom\", \"Zoom to rectangle\", \"fa fa-square-o icon-check-empty\", \"zoom\"], [\"\", \"\", \"\", \"\"], [\"Download\", \"Download plot\", \"fa fa-floppy-o icon-save\", \"download\"]];\n",
       "\n",
       "mpl.extensions = [\"eps\", \"pdf\", \"png\", \"ps\", \"raw\", \"svg\"];\n",
       "\n",
       "mpl.default_extension = \"png\";var comm_websocket_adapter = function(comm) {\n",
       "    // Create a \"websocket\"-like object which calls the given IPython comm\n",
       "    // object with the appropriate methods. Currently this is a non binary\n",
       "    // socket, so there is still some room for performance tuning.\n",
       "    var ws = {};\n",
       "\n",
       "    ws.close = function() {\n",
       "        comm.close()\n",
       "    };\n",
       "    ws.send = function(m) {\n",
       "        //console.log('sending', m);\n",
       "        comm.send(m);\n",
       "    };\n",
       "    // Register the callback with on_msg.\n",
       "    comm.on_msg(function(msg) {\n",
       "        //console.log('receiving', msg['content']['data'], msg);\n",
       "        // Pass the mpl event to the overridden (by mpl) onmessage function.\n",
       "        ws.onmessage(msg['content']['data'])\n",
       "    });\n",
       "    return ws;\n",
       "}\n",
       "\n",
       "mpl.mpl_figure_comm = function(comm, msg) {\n",
       "    // This is the function which gets called when the mpl process\n",
       "    // starts-up an IPython Comm through the \"matplotlib\" channel.\n",
       "\n",
       "    var id = msg.content.data.id;\n",
       "    // Get hold of the div created by the display call when the Comm\n",
       "    // socket was opened in Python.\n",
       "    var element = $(\"#\" + id);\n",
       "    var ws_proxy = comm_websocket_adapter(comm)\n",
       "\n",
       "    function ondownload(figure, format) {\n",
       "        window.open(figure.imageObj.src);\n",
       "    }\n",
       "\n",
       "    var fig = new mpl.figure(id, ws_proxy,\n",
       "                           ondownload,\n",
       "                           element.get(0));\n",
       "\n",
       "    // Call onopen now - mpl needs it, as it is assuming we've passed it a real\n",
       "    // web socket which is closed, not our websocket->open comm proxy.\n",
       "    ws_proxy.onopen();\n",
       "\n",
       "    fig.parent_element = element.get(0);\n",
       "    fig.cell_info = mpl.find_output_cell(\"<div id='\" + id + \"'></div>\");\n",
       "    if (!fig.cell_info) {\n",
       "        console.error(\"Failed to find cell for figure\", id, fig);\n",
       "        return;\n",
       "    }\n",
       "\n",
       "    var output_index = fig.cell_info[2]\n",
       "    var cell = fig.cell_info[0];\n",
       "\n",
       "};\n",
       "\n",
       "mpl.figure.prototype.handle_close = function(fig, msg) {\n",
       "    var width = fig.canvas.width/mpl.ratio\n",
       "    fig.root.unbind('remove')\n",
       "\n",
       "    // Update the output cell to use the data from the current canvas.\n",
       "    fig.push_to_output();\n",
       "    var dataURL = fig.canvas.toDataURL();\n",
       "    // Re-enable the keyboard manager in IPython - without this line, in FF,\n",
       "    // the notebook keyboard shortcuts fail.\n",
       "    IPython.keyboard_manager.enable()\n",
       "    $(fig.parent_element).html('<img src=\"' + dataURL + '\" width=\"' + width + '\">');\n",
       "    fig.close_ws(fig, msg);\n",
       "}\n",
       "\n",
       "mpl.figure.prototype.close_ws = function(fig, msg){\n",
       "    fig.send_message('closing', msg);\n",
       "    // fig.ws.close()\n",
       "}\n",
       "\n",
       "mpl.figure.prototype.push_to_output = function(remove_interactive) {\n",
       "    // Turn the data on the canvas into data in the output cell.\n",
       "    var width = this.canvas.width/mpl.ratio\n",
       "    var dataURL = this.canvas.toDataURL();\n",
       "    this.cell_info[1]['text/html'] = '<img src=\"' + dataURL + '\" width=\"' + width + '\">';\n",
       "}\n",
       "\n",
       "mpl.figure.prototype.updated_canvas_event = function() {\n",
       "    // Tell IPython that the notebook contents must change.\n",
       "    IPython.notebook.set_dirty(true);\n",
       "    this.send_message(\"ack\", {});\n",
       "    var fig = this;\n",
       "    // Wait a second, then push the new image to the DOM so\n",
       "    // that it is saved nicely (might be nice to debounce this).\n",
       "    setTimeout(function () { fig.push_to_output() }, 1000);\n",
       "}\n",
       "\n",
       "mpl.figure.prototype._init_toolbar = function() {\n",
       "    var fig = this;\n",
       "\n",
       "    var nav_element = $('<div/>')\n",
       "    nav_element.attr('style', 'width: 100%');\n",
       "    this.root.append(nav_element);\n",
       "\n",
       "    // Define a callback function for later on.\n",
       "    function toolbar_event(event) {\n",
       "        return fig.toolbar_button_onclick(event['data']);\n",
       "    }\n",
       "    function toolbar_mouse_event(event) {\n",
       "        return fig.toolbar_button_onmouseover(event['data']);\n",
       "    }\n",
       "\n",
       "    for(var toolbar_ind in mpl.toolbar_items){\n",
       "        var name = mpl.toolbar_items[toolbar_ind][0];\n",
       "        var tooltip = mpl.toolbar_items[toolbar_ind][1];\n",
       "        var image = mpl.toolbar_items[toolbar_ind][2];\n",
       "        var method_name = mpl.toolbar_items[toolbar_ind][3];\n",
       "\n",
       "        if (!name) { continue; };\n",
       "\n",
       "        var button = $('<button class=\"btn btn-default\" href=\"#\" title=\"' + name + '\"><i class=\"fa ' + image + ' fa-lg\"></i></button>');\n",
       "        button.click(method_name, toolbar_event);\n",
       "        button.mouseover(tooltip, toolbar_mouse_event);\n",
       "        nav_element.append(button);\n",
       "    }\n",
       "\n",
       "    // Add the status bar.\n",
       "    var status_bar = $('<span class=\"mpl-message\" style=\"text-align:right; float: right;\"/>');\n",
       "    nav_element.append(status_bar);\n",
       "    this.message = status_bar[0];\n",
       "\n",
       "    // Add the close button to the window.\n",
       "    var buttongrp = $('<div class=\"btn-group inline pull-right\"></div>');\n",
       "    var button = $('<button class=\"btn btn-mini btn-primary\" href=\"#\" title=\"Stop Interaction\"><i class=\"fa fa-power-off icon-remove icon-large\"></i></button>');\n",
       "    button.click(function (evt) { fig.handle_close(fig, {}); } );\n",
       "    button.mouseover('Stop Interaction', toolbar_mouse_event);\n",
       "    buttongrp.append(button);\n",
       "    var titlebar = this.root.find($('.ui-dialog-titlebar'));\n",
       "    titlebar.prepend(buttongrp);\n",
       "}\n",
       "\n",
       "mpl.figure.prototype._root_extra_style = function(el){\n",
       "    var fig = this\n",
       "    el.on(\"remove\", function(){\n",
       "\tfig.close_ws(fig, {});\n",
       "    });\n",
       "}\n",
       "\n",
       "mpl.figure.prototype._canvas_extra_style = function(el){\n",
       "    // this is important to make the div 'focusable\n",
       "    el.attr('tabindex', 0)\n",
       "    // reach out to IPython and tell the keyboard manager to turn it's self\n",
       "    // off when our div gets focus\n",
       "\n",
       "    // location in version 3\n",
       "    if (IPython.notebook.keyboard_manager) {\n",
       "        IPython.notebook.keyboard_manager.register_events(el);\n",
       "    }\n",
       "    else {\n",
       "        // location in version 2\n",
       "        IPython.keyboard_manager.register_events(el);\n",
       "    }\n",
       "\n",
       "}\n",
       "\n",
       "mpl.figure.prototype._key_event_extra = function(event, name) {\n",
       "    var manager = IPython.notebook.keyboard_manager;\n",
       "    if (!manager)\n",
       "        manager = IPython.keyboard_manager;\n",
       "\n",
       "    // Check for shift+enter\n",
       "    if (event.shiftKey && event.which == 13) {\n",
       "        this.canvas_div.blur();\n",
       "        event.shiftKey = false;\n",
       "        // Send a \"J\" for go to next cell\n",
       "        event.which = 74;\n",
       "        event.keyCode = 74;\n",
       "        manager.command_mode();\n",
       "        manager.handle_keydown(event);\n",
       "    }\n",
       "}\n",
       "\n",
       "mpl.figure.prototype.handle_save = function(fig, msg) {\n",
       "    fig.ondownload(fig, null);\n",
       "}\n",
       "\n",
       "\n",
       "mpl.find_output_cell = function(html_output) {\n",
       "    // Return the cell and output element which can be found *uniquely* in the notebook.\n",
       "    // Note - this is a bit hacky, but it is done because the \"notebook_saving.Notebook\"\n",
       "    // IPython event is triggered only after the cells have been serialised, which for\n",
       "    // our purposes (turning an active figure into a static one), is too late.\n",
       "    var cells = IPython.notebook.get_cells();\n",
       "    var ncells = cells.length;\n",
       "    for (var i=0; i<ncells; i++) {\n",
       "        var cell = cells[i];\n",
       "        if (cell.cell_type === 'code'){\n",
       "            for (var j=0; j<cell.output_area.outputs.length; j++) {\n",
       "                var data = cell.output_area.outputs[j];\n",
       "                if (data.data) {\n",
       "                    // IPython >= 3 moved mimebundle to data attribute of output\n",
       "                    data = data.data;\n",
       "                }\n",
       "                if (data['text/html'] == html_output) {\n",
       "                    return [cell, data, j];\n",
       "                }\n",
       "            }\n",
       "        }\n",
       "    }\n",
       "}\n",
       "\n",
       "// Register the function which deals with the matplotlib target/channel.\n",
       "// The kernel may be null if the page has been refreshed.\n",
       "if (IPython.notebook.kernel != null) {\n",
       "    IPython.notebook.kernel.comm_manager.register_target('matplotlib', mpl.mpl_figure_comm);\n",
       "}\n"
      ],
      "text/plain": [
       "<IPython.core.display.Javascript object>"
      ]
     },
     "metadata": {},
     "output_type": "display_data"
    },
    {
     "data": {
      "text/html": [
       "<img src=\"data:image/png;base64,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\" width=\"799.3333333333334\">"
      ],
      "text/plain": [
       "<IPython.core.display.HTML object>"
      ]
     },
     "metadata": {},
     "output_type": "display_data"
    }
   ],
   "source": [
    "plt.figure(figsize=(8,18))\n",
    "\n",
    "points = word_topic_df.values\n",
    "cols = word_topic_df.columns\n",
    "rows = word_topic_df.index\n",
    "\n",
    "plt.xticks(range(0,len(cols)), cols)\n",
    "plt.yticks(range(0,len(rows)), rows)\n",
    "plt.tick_params(\n",
    "    axis='x',          # changes apply to the x-axis\n",
    "    bottom=False,      # ticks along the bottom edge are off\n",
    "    top=True,         # ticks along the top edge are off\n",
    "    labelbottom=False,\n",
    "    labeltop=True)\n",
    "plt.grid(alpha=0.3)\n",
    "\n",
    "for x_item in range(len(cols)):\n",
    "    for y_item in range(len(rows)):\n",
    "\n",
    "        if rows[y_item] in top_words[x_item]:\n",
    "            c = 'r'\n",
    "        else:\n",
    "            c = 'b'\n",
    "        plt.scatter(x_item, y_item, s=points[y_item, x_item]*100, c=c)\n",
    "\n",
    "plt.gca().invert_yaxis()\n",
    "plt.show()"
   ]
  }
 ],
 "metadata": {
  "kernelspec": {
   "display_name": "Django Shell-Plus",
   "language": "python",
   "name": "django_extensions"
  },
  "language_info": {
   "codemirror_mode": {
    "name": "ipython",
    "version": 3
   },
   "file_extension": ".py",
   "mimetype": "text/x-python",
   "name": "python",
   "nbconvert_exporter": "python",
   "pygments_lexer": "ipython3",
   "version": "3.6.2"
  }
 },
 "nbformat": 4,
 "nbformat_minor": 2
}
