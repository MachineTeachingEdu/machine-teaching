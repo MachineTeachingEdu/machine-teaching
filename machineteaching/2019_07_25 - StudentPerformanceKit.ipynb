{
 "cells": [
  {
   "cell_type": "code",
   "execution_count": 14,
   "metadata": {
    "collapsed": true
   },
   "outputs": [],
   "source": [
    "import requests\n",
    "import zipfile\n",
    "import os\n",
    "\n",
    "class BKT(object):\n",
    "    def __init__(self, \n",
    "                 hmm_folder='./hmm-scalable-818d905234a8600a8e3a65bb0f7aa4cf06423f1a', \n",
    "                 git_commit='818d905234a8600a8e3a65bb0f7aa4cf06423f1a'):\n",
    "        \n",
    "        # Git commit to download hmm-scalable\n",
    "        self.git_commit = git_commit\n",
    "        # Set HMM-scalable folder.\n",
    "        self.hmm_folder = hmm_folder\n",
    "    \n",
    "    def download(self):\n",
    "        \"\"\"  This implementation is a wrapper around the \n",
    "        HMM-scalable tool ( http://yudelson.info/hmm-scalable).\n",
    "        This function will download the original implementation.\"\"\"\n",
    "        \n",
    "        # Download zipfile from GitHub\n",
    "#         results = requests.get('https://github.com/myudelson/hmm-scalable/archive/master.zip')\n",
    "        results = requests.get('https://github.com/myudelson/hmm-scalable/archive/%s.zip' % self.git_commit)\n",
    "        with open('/tmp/hmm-scalable.zip', 'wb') as f:\n",
    "            f.write(results.content)\n",
    "            \n",
    "        # Extract zipfile\n",
    "        file = zipfile.ZipFile('/tmp/hmm-scalable.zip')\n",
    "        file.extractall(path='.')\n",
    "        \n",
    "    \n",
    "    def fit(self, data, q_matrix, solver='bw', iterations=200):\n",
    "        \"\"\" Fit BKT model to data. \n",
    "        As of July 2019, just default parameters are allowed.\n",
    "        \n",
    "        Parameters\n",
    "        ----------\n",
    "        data : {array-like}, shape (n_steps, 3)\n",
    "            Sequence of students steps. Each of the three dimensions are:\n",
    "            Observed outcome: 0 for fail and 1 for success\n",
    "            Student id: student unique identifier\n",
    "            Question id: question id in q_matrix\n",
    "            \n",
    "        q_matrix: matrix, shape (n_questions, n_concepts)\n",
    "            Each row is a question and each column a concept.\n",
    "            If the concept is present in the question, the \n",
    "            correspondent cell should contain 1, otherwise, 0.\n",
    "            \n",
    "        solver: string, optional\n",
    "            Algorithm used to fit the BKT model. Available solvers are:\n",
    "            'bw': Baum-Welch (default)\n",
    "            'gd': Gradient Descent\n",
    "            'cgd_pr': Conjugate Gradient Descent (Polak-Ribiere)\n",
    "            'cgd_fr': Conjugate Gradient Descent (Fletcher–Reeves)\n",
    "            'cgd_hs': Conjugate Gradient Descent (Hestenes-Stiefel)\n",
    "            \n",
    "        iterations: integer, optional\n",
    "            Maximum number of iterations\n",
    "        \n",
    "        Returns\n",
    "        -------\n",
    "        self : object\n",
    "        \n",
    "        Notes\n",
    "        -----\n",
    "        This is a wrapper around the HMM-scalable tool (http://yudelson.info/hmm-scalable)\n",
    "        \"\"\"\n",
    "        os.system()"
   ]
  },
  {
   "cell_type": "markdown",
   "metadata": {},
   "source": [
    "### Unit tests"
   ]
  },
  {
   "cell_type": "code",
   "execution_count": 37,
   "metadata": {
    "collapsed": true
   },
   "outputs": [],
   "source": [
    "import unittest\n",
    "import os\n",
    "\n",
    "class TestBKT(unittest.TestCase):\n",
    "    def test_download(self):\n",
    "        \"\"\" Testing HMM-scalable download \"\"\"\n",
    "        model = BKT()\n",
    "        model.download()\n",
    "        \n",
    "        # Check if directory exists and it contains items\n",
    "        self.assertGreater(len(os.listdir(model.hmm_folder)), 1)"
   ]
  },
  {
   "cell_type": "code",
   "execution_count": 36,
   "metadata": {},
   "outputs": [
    {
     "name": "stdout",
     "output_type": "stream",
     "text": [
      "67\n"
     ]
    }
   ],
   "source": [
    "TestBKT().test_download()"
   ]
  },
  {
   "cell_type": "markdown",
   "metadata": {},
   "source": [
    "### Generate sample data"
   ]
  },
  {
   "cell_type": "code",
   "execution_count": 38,
   "metadata": {
    "collapsed": true
   },
   "outputs": [],
   "source": [
    "# p(L0)\n",
    "pi = [0.26, 0.74]\n",
    "\n",
    "# p(T)\n",
    "A = [[1, 0], [0.17, 0.83]]\n",
    "\n",
    "# p(S) and p(G)\n",
    "B = [[0.7, 0.3], [0.13, 0.87]]"
   ]
  },
  {
   "cell_type": "code",
   "execution_count": 78,
   "metadata": {
    "collapsed": true
   },
   "outputs": [],
   "source": [
    "import numpy as np\n",
    "class GS(object):\n",
    "    def __init__(self):\n",
    "        self.priors = pi\n",
    "        self.transition = A\n",
    "        self.emission = B\n",
    "        \n",
    "    def random_MN_draw(self, n, probs):\n",
    "        \"\"\" get X random draws from the multinomial distribution whose probability is given by 'probs' \"\"\"\n",
    "        mn_draw = np.random.multinomial(n,probs) # do 1 multinomial experiment with the given probs with probs= [0.5,0.5], this is a coin-flip\n",
    "        print(mn_draw)\n",
    "        return np.where(mn_draw == 1)[0][0] # get the index of the state drawn e.g. 0, 1, etc.\n",
    "\n",
    "    def simulate(self, nSteps):\n",
    "        \"\"\" given an HMM = (A, B1, B2 pi), simulate state and observation sequences \"\"\"\n",
    "        lenB = len(self.emission)\n",
    "        observations = np.zeros((lenB, nSteps), dtype=np.int) # array of zeros\n",
    "        states = np.zeros(nSteps)\n",
    "        states[0] = self.random_MN_draw(1, self.priors) # appoint the first state from the prior dist\n",
    "        \n",
    "        for i in range(0,lenB): # initialise observations[i,0] for all observerd variables\n",
    "            print(self.emission[i])\n",
    "#             observations[i,0] = self.random_MN_draw(1, self.emission[i][states[0],:]) #ith variable array, states[0]th row\n",
    "\n",
    "#         for t in range(1,nSteps): # loop through t\n",
    "#             states[t] = self.random_MN_draw(1, self.transition[states[t-1],:]) # given prev state (t-1) pick what row of the A matrix to use\n",
    "\n",
    "#             for i in range(0,lenB): # loop through the observed variable for each t\n",
    "#                 observations[i,t] = self.random_MN_draw(1, self.emission[i][states[t],:]) # given current state t, pick what row of the B matrix to use\n",
    "\n",
    "#         return observations,states"
   ]
  },
  {
   "cell_type": "code",
   "execution_count": 79,
   "metadata": {},
   "outputs": [
    {
     "name": "stdout",
     "output_type": "stream",
     "text": [
      "[0 1]\n",
      "[0.7, 0.3]\n",
      "[0.13, 0.87]\n"
     ]
    }
   ],
   "source": [
    "GS().simulate(5)"
   ]
  }
 ],
 "metadata": {
  "kernelspec": {
   "display_name": "Python 3",
   "language": "python",
   "name": "python3"
  },
  "language_info": {
   "codemirror_mode": {
    "name": "ipython",
    "version": 3
   },
   "file_extension": ".py",
   "mimetype": "text/x-python",
   "name": "python",
   "nbconvert_exporter": "python",
   "pygments_lexer": "ipython3",
   "version": "3.6.2"
  }
 },
 "nbformat": 4,
 "nbformat_minor": 2
}
