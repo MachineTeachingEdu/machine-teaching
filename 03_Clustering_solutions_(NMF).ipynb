{
 "cells": [
  {
   "cell_type": "markdown",
   "metadata": {
    "colab_type": "text",
    "id": "MvHT4iHHNEhr"
   },
   "source": [
    "# Clustering solutions using NMF #"
   ]
  },
  {
   "cell_type": "code",
   "execution_count": 1,
   "metadata": {
    "colab": {
     "autoexec": {
      "startup": false,
      "wait_interval": 0
     },
     "base_uri": "https://localhost:8080/",
     "height": 388,
     "output_extras": [
      {
       "item_id": 1
      }
     ]
    },
    "colab_type": "code",
    "collapsed": true,
    "executionInfo": {
     "elapsed": 1077,
     "status": "error",
     "timestamp": 1522791660026,
     "user": {
      "displayName": "Laura Moraes",
      "photoUrl": "//lh6.googleusercontent.com/-NtEJsWrqtds/AAAAAAAAAAI/AAAAAAAAeH4/7f6cdoC52S0/s50-c-k-no/photo.jpg",
      "userId": "113150701401294787712"
     },
     "user_tz": 180
    },
    "id": "9fwAOMMaXfot",
    "outputId": "a8b9fbdc-a622-4cc2-c462-ebad4052fcc3"
   },
   "outputs": [],
   "source": [
    "# Input\n",
    "from db import PythonProblems\n",
    "import io\n",
    "\n",
    "# Helpers\n",
    "import numpy as np\n",
    "from collections import Counter\n",
    "from tqdm import tqdm\n",
    "import random\n",
    "\n",
    "# Preprocessing\n",
    "import tokenize\n",
    "from sklearn.feature_extraction.text import CountVectorizer, TfidfVectorizer\n",
    "\n",
    "# Learning\n",
    "from sklearn.decomposition import NMF\n",
    "\n",
    "# Plots\n",
    "import matplotlib.pyplot as plt\n",
    "import seaborn as sns\n",
    "from bokeh.models import ColumnDataSource, HoverTool\n",
    "from bokeh.io import show, output_notebook\n",
    "from bokeh.plotting import figure"
   ]
  },
  {
   "cell_type": "markdown",
   "metadata": {
    "colab_type": "text",
    "id": "WXwv4ONSXfo_"
   },
   "source": [
    "### Connecting to database"
   ]
  },
  {
   "cell_type": "code",
   "execution_count": 2,
   "metadata": {
    "colab": {
     "autoexec": {
      "startup": false,
      "wait_interval": 0
     }
    },
    "colab_type": "code",
    "collapsed": true,
    "id": "7-aiPKdWXfpB"
   },
   "outputs": [],
   "source": [
    "db = PythonProblems('python.sqlite')"
   ]
  },
  {
   "cell_type": "code",
   "execution_count": 3,
   "metadata": {
    "colab": {
     "autoexec": {
      "startup": false,
      "wait_interval": 0
     },
     "base_uri": "https://localhost:8080/",
     "height": 73,
     "output_extras": [
      {
       "item_id": 1
      }
     ]
    },
    "colab_type": "code",
    "executionInfo": {
     "elapsed": 1596,
     "status": "ok",
     "timestamp": 1522791238633,
     "user": {
      "displayName": "Laura Moraes",
      "photoUrl": "//lh6.googleusercontent.com/-NtEJsWrqtds/AAAAAAAAAAI/AAAAAAAAeH4/7f6cdoC52S0/s50-c-k-no/photo.jpg",
      "userId": "113150701401294787712"
     },
     "user_tz": 180
    },
    "id": "C5gJLr5kXfpK",
    "outputId": "20694076-a619-4a36-8bc1-d4d682d8ec3c"
   },
   "outputs": [
    {
     "name": "stdout",
     "output_type": "stream",
     "text": [
      "Got 758 documents\n",
      "Success in parsing all documents! You may go on!\n"
     ]
    }
   ],
   "source": [
    "removed_itens = ['NEWLINE', 'STRING', 'ENDMARKER', 'NUMBER', 'INDENT', 'DEDENT', \"NL\", 'COMMENT', 'ERRORTOKEN']\n",
    "allowed_itens = ['NAME', 'OP']\n",
    "cursor = db.conn.cursor()\n",
    "docs = []\n",
    "errors = []\n",
    "\n",
    "# lendo os dados\n",
    "cursor.execute(\"\"\"\n",
    "SELECT * FROM solution;\n",
    "\"\"\")\n",
    "\n",
    "\n",
    "for idx, linha in enumerate(cursor.fetchall()):\n",
    "    file = io.StringIO(linha[1])\n",
    "    doc = []\n",
    "    try:\n",
    "        for item in tokenize.generate_tokens(file.readline):\n",
    "            if tokenize.tok_name[item[0]] not in removed_itens:\n",
    "                if tokenize.tok_name[item[0]] in allowed_itens:\n",
    "                    doc.append(item[1])\n",
    "                else:\n",
    "                    print(\"%s %s\" % (tokenize.tok_name[item[0]], item[1]))\n",
    "    except (IndentationError, tokenize.TokenError):\n",
    "        errors.append(\"Please, fix solution %d before continuing\" % (idx+1))\n",
    "        \n",
    "    docs.append(' '.join(doc))\n",
    "\n",
    "print(\"Got %d documents\" %(idx+1))\n",
    "\n",
    "if not errors:\n",
    "    print(\"Success in parsing all documents! You may go on!\")\n",
    "else:\n",
    "    for item in errors:\n",
    "        print(item)"
   ]
  },
  {
   "cell_type": "markdown",
   "metadata": {
    "colab_type": "text",
    "id": "ioCc81sgNTuk"
   },
   "source": [
    "### Preprocessing solutions into bag of words ###"
   ]
  },
  {
   "cell_type": "code",
   "execution_count": 4,
   "metadata": {
    "colab": {
     "autoexec": {
      "startup": false,
      "wait_interval": 0
     }
    },
    "colab_type": "code",
    "collapsed": true,
    "id": "vO1rRT3FXfpR"
   },
   "outputs": [],
   "source": [
    "# Initialize the \"CountVectorizer\" object, which is scikit-learn's\n",
    "# bag of words tool.  \n",
    "#vectorizer = CountVectorizer(analyzer = \"word\",   \\\n",
    "vectorizer = TfidfVectorizer(analyzer = \"word\",   \\\n",
    "                             tokenizer = None,    \\\n",
    "                             preprocessor = None, \\\n",
    "                             stop_words = None,   \\\n",
    "                             #max_features = 26d,\n",
    "                             binary=False,\n",
    "                             min_df=2\n",
    "                            ) \n",
    "\n",
    "# fit_transform() does two functions: First, it fits the model\n",
    "# and learns the vocabulary; second, it transforms our training data\n",
    "# into feature vectors. The input to fit_transform should be a list of \n",
    "# strings.\n",
    "\n",
    "train_data_features = vectorizer.fit_transform(docs)\n",
    "\n",
    "# Numpy arrays are easy to work with, so convert the result to an \n",
    "# array\n",
    "# Document-term matrix\n",
    "#train_data_features = train_data_features.toarray()"
   ]
  },
  {
   "cell_type": "markdown",
   "metadata": {
    "colab_type": "text",
    "id": "RbPTrmIQXfpz"
   },
   "source": [
    "# Cálculo do NMF #"
   ]
  },
  {
   "cell_type": "markdown",
   "metadata": {
    "colab_type": "text",
    "id": "o9SmaGv-NzWm"
   },
   "source": [
    "### Cálculo dos modelos e da métrica *perplexity* ###"
   ]
  },
  {
   "cell_type": "code",
   "execution_count": 5,
   "metadata": {
    "colab": {
     "autoexec": {
      "startup": false,
      "wait_interval": 0
     }
    },
    "colab_type": "code",
    "collapsed": true,
    "id": "wcH4By5hXfp9"
   },
   "outputs": [],
   "source": [
    "num_topics = list(range(2, 100))"
   ]
  },
  {
   "cell_type": "code",
   "execution_count": 6,
   "metadata": {
    "colab": {
     "autoexec": {
      "startup": false,
      "wait_interval": 0
     },
     "base_uri": "https://localhost:8080/",
     "height": 565,
     "output_extras": [
      {
       "item_id": 1
      },
      {
       "item_id": 2
      },
      {
       "item_id": 101
      },
      {
       "item_id": 102
      },
      {
       "item_id": 103
      }
     ]
    },
    "colab_type": "code",
    "executionInfo": {
     "elapsed": 232597,
     "status": "ok",
     "timestamp": 1522791472538,
     "user": {
      "displayName": "Laura Moraes",
      "photoUrl": "//lh6.googleusercontent.com/-NtEJsWrqtds/AAAAAAAAAAI/AAAAAAAAeH4/7f6cdoC52S0/s50-c-k-no/photo.jpg",
      "userId": "113150701401294787712"
     },
     "user_tz": 180
    },
    "id": "xPcE06vV-w08",
    "outputId": "4cc59239-c390-40c0-8954-5ea2ca82c098"
   },
   "outputs": [
    {
     "data": {
      "text/html": [
       "\n",
       "    <div class=\"bk-root\">\n",
       "        <a href=\"https://bokeh.pydata.org\" target=\"_blank\" class=\"bk-logo bk-logo-small bk-logo-notebook\"></a>\n",
       "        <span id=\"0b6d4c62-5393-4631-9535-167a8057e2b2\">Loading BokehJS ...</span>\n",
       "    </div>"
      ]
     },
     "metadata": {},
     "output_type": "display_data"
    },
    {
     "data": {
      "application/javascript": [
       "\n",
       "(function(root) {\n",
       "  function now() {\n",
       "    return new Date();\n",
       "  }\n",
       "\n",
       "  var force = true;\n",
       "\n",
       "  if (typeof (root._bokeh_onload_callbacks) === \"undefined\" || force === true) {\n",
       "    root._bokeh_onload_callbacks = [];\n",
       "    root._bokeh_is_loading = undefined;\n",
       "  }\n",
       "\n",
       "  var JS_MIME_TYPE = 'application/javascript';\n",
       "  var HTML_MIME_TYPE = 'text/html';\n",
       "  var EXEC_MIME_TYPE = 'application/vnd.bokehjs_exec.v0+json';\n",
       "  var CLASS_NAME = 'output_bokeh rendered_html';\n",
       "\n",
       "  /**\n",
       "   * Render data to the DOM node\n",
       "   */\n",
       "  function render(props, node) {\n",
       "    var script = document.createElement(\"script\");\n",
       "    node.appendChild(script);\n",
       "  }\n",
       "\n",
       "  /**\n",
       "   * Handle when an output is cleared or removed\n",
       "   */\n",
       "  function handleClearOutput(event, handle) {\n",
       "    var cell = handle.cell;\n",
       "\n",
       "    var id = cell.output_area._bokeh_element_id;\n",
       "    var server_id = cell.output_area._bokeh_server_id;\n",
       "    // Clean up Bokeh references\n",
       "    if (id !== undefined) {\n",
       "      Bokeh.index[id].model.document.clear();\n",
       "      delete Bokeh.index[id];\n",
       "    }\n",
       "\n",
       "    if (server_id !== undefined) {\n",
       "      // Clean up Bokeh references\n",
       "      var cmd = \"from bokeh.io.state import curstate; print(curstate().uuid_to_server['\" + server_id + \"'].get_sessions()[0].document.roots[0]._id)\";\n",
       "      cell.notebook.kernel.execute(cmd, {\n",
       "        iopub: {\n",
       "          output: function(msg) {\n",
       "            var element_id = msg.content.text.trim();\n",
       "            Bokeh.index[element_id].model.document.clear();\n",
       "            delete Bokeh.index[element_id];\n",
       "          }\n",
       "        }\n",
       "      });\n",
       "      // Destroy server and session\n",
       "      var cmd = \"import bokeh.io.notebook as ion; ion.destroy_server('\" + server_id + \"')\";\n",
       "      cell.notebook.kernel.execute(cmd);\n",
       "    }\n",
       "  }\n",
       "\n",
       "  /**\n",
       "   * Handle when a new output is added\n",
       "   */\n",
       "  function handleAddOutput(event, handle) {\n",
       "    var output_area = handle.output_area;\n",
       "    var output = handle.output;\n",
       "\n",
       "    // limit handleAddOutput to display_data with EXEC_MIME_TYPE content only\n",
       "    if ((output.output_type != \"display_data\") || (!output.data.hasOwnProperty(EXEC_MIME_TYPE))) {\n",
       "      return\n",
       "    }\n",
       "\n",
       "    var toinsert = output_area.element.find(\".\" + CLASS_NAME.split(' ')[0]);\n",
       "\n",
       "    if (output.metadata[EXEC_MIME_TYPE][\"id\"] !== undefined) {\n",
       "      toinsert[0].firstChild.textContent = output.data[JS_MIME_TYPE];\n",
       "      // store reference to embed id on output_area\n",
       "      output_area._bokeh_element_id = output.metadata[EXEC_MIME_TYPE][\"id\"];\n",
       "    }\n",
       "    if (output.metadata[EXEC_MIME_TYPE][\"server_id\"] !== undefined) {\n",
       "      var bk_div = document.createElement(\"div\");\n",
       "      bk_div.innerHTML = output.data[HTML_MIME_TYPE];\n",
       "      var script_attrs = bk_div.children[0].attributes;\n",
       "      for (var i = 0; i < script_attrs.length; i++) {\n",
       "        toinsert[0].firstChild.setAttribute(script_attrs[i].name, script_attrs[i].value);\n",
       "      }\n",
       "      // store reference to server id on output_area\n",
       "      output_area._bokeh_server_id = output.metadata[EXEC_MIME_TYPE][\"server_id\"];\n",
       "    }\n",
       "  }\n",
       "\n",
       "  function register_renderer(events, OutputArea) {\n",
       "\n",
       "    function append_mime(data, metadata, element) {\n",
       "      // create a DOM node to render to\n",
       "      var toinsert = this.create_output_subarea(\n",
       "        metadata,\n",
       "        CLASS_NAME,\n",
       "        EXEC_MIME_TYPE\n",
       "      );\n",
       "      this.keyboard_manager.register_events(toinsert);\n",
       "      // Render to node\n",
       "      var props = {data: data, metadata: metadata[EXEC_MIME_TYPE]};\n",
       "      render(props, toinsert[0]);\n",
       "      element.append(toinsert);\n",
       "      return toinsert\n",
       "    }\n",
       "\n",
       "    /* Handle when an output is cleared or removed */\n",
       "    events.on('clear_output.CodeCell', handleClearOutput);\n",
       "    events.on('delete.Cell', handleClearOutput);\n",
       "\n",
       "    /* Handle when a new output is added */\n",
       "    events.on('output_added.OutputArea', handleAddOutput);\n",
       "\n",
       "    /**\n",
       "     * Register the mime type and append_mime function with output_area\n",
       "     */\n",
       "    OutputArea.prototype.register_mime_type(EXEC_MIME_TYPE, append_mime, {\n",
       "      /* Is output safe? */\n",
       "      safe: true,\n",
       "      /* Index of renderer in `output_area.display_order` */\n",
       "      index: 0\n",
       "    });\n",
       "  }\n",
       "\n",
       "  // register the mime type if in Jupyter Notebook environment and previously unregistered\n",
       "  if (root.Jupyter !== undefined) {\n",
       "    var events = require('base/js/events');\n",
       "    var OutputArea = require('notebook/js/outputarea').OutputArea;\n",
       "\n",
       "    if (OutputArea.prototype.mime_types().indexOf(EXEC_MIME_TYPE) == -1) {\n",
       "      register_renderer(events, OutputArea);\n",
       "    }\n",
       "  }\n",
       "\n",
       "  \n",
       "  if (typeof (root._bokeh_timeout) === \"undefined\" || force === true) {\n",
       "    root._bokeh_timeout = Date.now() + 5000;\n",
       "    root._bokeh_failed_load = false;\n",
       "  }\n",
       "\n",
       "  var NB_LOAD_WARNING = {'data': {'text/html':\n",
       "     \"<div style='background-color: #fdd'>\\n\"+\n",
       "     \"<p>\\n\"+\n",
       "     \"BokehJS does not appear to have successfully loaded. If loading BokehJS from CDN, this \\n\"+\n",
       "     \"may be due to a slow or bad network connection. Possible fixes:\\n\"+\n",
       "     \"</p>\\n\"+\n",
       "     \"<ul>\\n\"+\n",
       "     \"<li>re-rerun `output_notebook()` to attempt to load from CDN again, or</li>\\n\"+\n",
       "     \"<li>use INLINE resources instead, as so:</li>\\n\"+\n",
       "     \"</ul>\\n\"+\n",
       "     \"<code>\\n\"+\n",
       "     \"from bokeh.resources import INLINE\\n\"+\n",
       "     \"output_notebook(resources=INLINE)\\n\"+\n",
       "     \"</code>\\n\"+\n",
       "     \"</div>\"}};\n",
       "\n",
       "  function display_loaded() {\n",
       "    var el = document.getElementById(\"0b6d4c62-5393-4631-9535-167a8057e2b2\");\n",
       "    if (el != null) {\n",
       "      el.textContent = \"BokehJS is loading...\";\n",
       "    }\n",
       "    if (root.Bokeh !== undefined) {\n",
       "      if (el != null) {\n",
       "        el.textContent = \"BokehJS \" + root.Bokeh.version + \" successfully loaded.\";\n",
       "      }\n",
       "    } else if (Date.now() < root._bokeh_timeout) {\n",
       "      setTimeout(display_loaded, 100)\n",
       "    }\n",
       "  }\n",
       "\n",
       "\n",
       "  function run_callbacks() {\n",
       "    try {\n",
       "      root._bokeh_onload_callbacks.forEach(function(callback) { callback() });\n",
       "    }\n",
       "    finally {\n",
       "      delete root._bokeh_onload_callbacks\n",
       "    }\n",
       "    console.info(\"Bokeh: all callbacks have finished\");\n",
       "  }\n",
       "\n",
       "  function load_libs(js_urls, callback) {\n",
       "    root._bokeh_onload_callbacks.push(callback);\n",
       "    if (root._bokeh_is_loading > 0) {\n",
       "      console.log(\"Bokeh: BokehJS is being loaded, scheduling callback at\", now());\n",
       "      return null;\n",
       "    }\n",
       "    if (js_urls == null || js_urls.length === 0) {\n",
       "      run_callbacks();\n",
       "      return null;\n",
       "    }\n",
       "    console.log(\"Bokeh: BokehJS not loaded, scheduling load and callback at\", now());\n",
       "    root._bokeh_is_loading = js_urls.length;\n",
       "    for (var i = 0; i < js_urls.length; i++) {\n",
       "      var url = js_urls[i];\n",
       "      var s = document.createElement('script');\n",
       "      s.src = url;\n",
       "      s.async = false;\n",
       "      s.onreadystatechange = s.onload = function() {\n",
       "        root._bokeh_is_loading--;\n",
       "        if (root._bokeh_is_loading === 0) {\n",
       "          console.log(\"Bokeh: all BokehJS libraries loaded\");\n",
       "          run_callbacks()\n",
       "        }\n",
       "      };\n",
       "      s.onerror = function() {\n",
       "        console.warn(\"failed to load library \" + url);\n",
       "      };\n",
       "      console.log(\"Bokeh: injecting script tag for BokehJS library: \", url);\n",
       "      document.getElementsByTagName(\"head\")[0].appendChild(s);\n",
       "    }\n",
       "  };var element = document.getElementById(\"0b6d4c62-5393-4631-9535-167a8057e2b2\");\n",
       "  if (element == null) {\n",
       "    console.log(\"Bokeh: ERROR: autoload.js configured with elementid '0b6d4c62-5393-4631-9535-167a8057e2b2' but no matching script tag was found. \")\n",
       "    return false;\n",
       "  }\n",
       "\n",
       "  var js_urls = [\"https://cdn.pydata.org/bokeh/release/bokeh-0.12.14.min.js\", \"https://cdn.pydata.org/bokeh/release/bokeh-widgets-0.12.14.min.js\", \"https://cdn.pydata.org/bokeh/release/bokeh-tables-0.12.14.min.js\", \"https://cdn.pydata.org/bokeh/release/bokeh-gl-0.12.14.min.js\"];\n",
       "\n",
       "  var inline_js = [\n",
       "    function(Bokeh) {\n",
       "      Bokeh.set_log_level(\"info\");\n",
       "    },\n",
       "    \n",
       "    function(Bokeh) {\n",
       "      \n",
       "    },\n",
       "    function(Bokeh) {\n",
       "      console.log(\"Bokeh: injecting CSS: https://cdn.pydata.org/bokeh/release/bokeh-0.12.14.min.css\");\n",
       "      Bokeh.embed.inject_css(\"https://cdn.pydata.org/bokeh/release/bokeh-0.12.14.min.css\");\n",
       "      console.log(\"Bokeh: injecting CSS: https://cdn.pydata.org/bokeh/release/bokeh-widgets-0.12.14.min.css\");\n",
       "      Bokeh.embed.inject_css(\"https://cdn.pydata.org/bokeh/release/bokeh-widgets-0.12.14.min.css\");\n",
       "      console.log(\"Bokeh: injecting CSS: https://cdn.pydata.org/bokeh/release/bokeh-tables-0.12.14.min.css\");\n",
       "      Bokeh.embed.inject_css(\"https://cdn.pydata.org/bokeh/release/bokeh-tables-0.12.14.min.css\");\n",
       "    }\n",
       "  ];\n",
       "\n",
       "  function run_inline_js() {\n",
       "    \n",
       "    if ((root.Bokeh !== undefined) || (force === true)) {\n",
       "      for (var i = 0; i < inline_js.length; i++) {\n",
       "        inline_js[i].call(root, root.Bokeh);\n",
       "      }if (force === true) {\n",
       "        display_loaded();\n",
       "      }} else if (Date.now() < root._bokeh_timeout) {\n",
       "      setTimeout(run_inline_js, 100);\n",
       "    } else if (!root._bokeh_failed_load) {\n",
       "      console.log(\"Bokeh: BokehJS failed to load within specified timeout.\");\n",
       "      root._bokeh_failed_load = true;\n",
       "    } else if (force !== true) {\n",
       "      var cell = $(document.getElementById(\"0b6d4c62-5393-4631-9535-167a8057e2b2\")).parents('.cell').data().cell;\n",
       "      cell.output_area.append_execute_result(NB_LOAD_WARNING)\n",
       "    }\n",
       "\n",
       "  }\n",
       "\n",
       "  if (root._bokeh_is_loading === 0) {\n",
       "    console.log(\"Bokeh: BokehJS loaded, going straight to plotting\");\n",
       "    run_inline_js();\n",
       "  } else {\n",
       "    load_libs(js_urls, function() {\n",
       "      console.log(\"Bokeh: BokehJS plotting callback run at\", now());\n",
       "      run_inline_js();\n",
       "    });\n",
       "  }\n",
       "}(window));"
      ],
      "application/vnd.bokehjs_load.v0+json": "\n(function(root) {\n  function now() {\n    return new Date();\n  }\n\n  var force = true;\n\n  if (typeof (root._bokeh_onload_callbacks) === \"undefined\" || force === true) {\n    root._bokeh_onload_callbacks = [];\n    root._bokeh_is_loading = undefined;\n  }\n\n  \n\n  \n  if (typeof (root._bokeh_timeout) === \"undefined\" || force === true) {\n    root._bokeh_timeout = Date.now() + 5000;\n    root._bokeh_failed_load = false;\n  }\n\n  var NB_LOAD_WARNING = {'data': {'text/html':\n     \"<div style='background-color: #fdd'>\\n\"+\n     \"<p>\\n\"+\n     \"BokehJS does not appear to have successfully loaded. If loading BokehJS from CDN, this \\n\"+\n     \"may be due to a slow or bad network connection. Possible fixes:\\n\"+\n     \"</p>\\n\"+\n     \"<ul>\\n\"+\n     \"<li>re-rerun `output_notebook()` to attempt to load from CDN again, or</li>\\n\"+\n     \"<li>use INLINE resources instead, as so:</li>\\n\"+\n     \"</ul>\\n\"+\n     \"<code>\\n\"+\n     \"from bokeh.resources import INLINE\\n\"+\n     \"output_notebook(resources=INLINE)\\n\"+\n     \"</code>\\n\"+\n     \"</div>\"}};\n\n  function display_loaded() {\n    var el = document.getElementById(\"0b6d4c62-5393-4631-9535-167a8057e2b2\");\n    if (el != null) {\n      el.textContent = \"BokehJS is loading...\";\n    }\n    if (root.Bokeh !== undefined) {\n      if (el != null) {\n        el.textContent = \"BokehJS \" + root.Bokeh.version + \" successfully loaded.\";\n      }\n    } else if (Date.now() < root._bokeh_timeout) {\n      setTimeout(display_loaded, 100)\n    }\n  }\n\n\n  function run_callbacks() {\n    try {\n      root._bokeh_onload_callbacks.forEach(function(callback) { callback() });\n    }\n    finally {\n      delete root._bokeh_onload_callbacks\n    }\n    console.info(\"Bokeh: all callbacks have finished\");\n  }\n\n  function load_libs(js_urls, callback) {\n    root._bokeh_onload_callbacks.push(callback);\n    if (root._bokeh_is_loading > 0) {\n      console.log(\"Bokeh: BokehJS is being loaded, scheduling callback at\", now());\n      return null;\n    }\n    if (js_urls == null || js_urls.length === 0) {\n      run_callbacks();\n      return null;\n    }\n    console.log(\"Bokeh: BokehJS not loaded, scheduling load and callback at\", now());\n    root._bokeh_is_loading = js_urls.length;\n    for (var i = 0; i < js_urls.length; i++) {\n      var url = js_urls[i];\n      var s = document.createElement('script');\n      s.src = url;\n      s.async = false;\n      s.onreadystatechange = s.onload = function() {\n        root._bokeh_is_loading--;\n        if (root._bokeh_is_loading === 0) {\n          console.log(\"Bokeh: all BokehJS libraries loaded\");\n          run_callbacks()\n        }\n      };\n      s.onerror = function() {\n        console.warn(\"failed to load library \" + url);\n      };\n      console.log(\"Bokeh: injecting script tag for BokehJS library: \", url);\n      document.getElementsByTagName(\"head\")[0].appendChild(s);\n    }\n  };var element = document.getElementById(\"0b6d4c62-5393-4631-9535-167a8057e2b2\");\n  if (element == null) {\n    console.log(\"Bokeh: ERROR: autoload.js configured with elementid '0b6d4c62-5393-4631-9535-167a8057e2b2' but no matching script tag was found. \")\n    return false;\n  }\n\n  var js_urls = [\"https://cdn.pydata.org/bokeh/release/bokeh-0.12.14.min.js\", \"https://cdn.pydata.org/bokeh/release/bokeh-widgets-0.12.14.min.js\", \"https://cdn.pydata.org/bokeh/release/bokeh-tables-0.12.14.min.js\", \"https://cdn.pydata.org/bokeh/release/bokeh-gl-0.12.14.min.js\"];\n\n  var inline_js = [\n    function(Bokeh) {\n      Bokeh.set_log_level(\"info\");\n    },\n    \n    function(Bokeh) {\n      \n    },\n    function(Bokeh) {\n      console.log(\"Bokeh: injecting CSS: https://cdn.pydata.org/bokeh/release/bokeh-0.12.14.min.css\");\n      Bokeh.embed.inject_css(\"https://cdn.pydata.org/bokeh/release/bokeh-0.12.14.min.css\");\n      console.log(\"Bokeh: injecting CSS: https://cdn.pydata.org/bokeh/release/bokeh-widgets-0.12.14.min.css\");\n      Bokeh.embed.inject_css(\"https://cdn.pydata.org/bokeh/release/bokeh-widgets-0.12.14.min.css\");\n      console.log(\"Bokeh: injecting CSS: https://cdn.pydata.org/bokeh/release/bokeh-tables-0.12.14.min.css\");\n      Bokeh.embed.inject_css(\"https://cdn.pydata.org/bokeh/release/bokeh-tables-0.12.14.min.css\");\n    }\n  ];\n\n  function run_inline_js() {\n    \n    if ((root.Bokeh !== undefined) || (force === true)) {\n      for (var i = 0; i < inline_js.length; i++) {\n        inline_js[i].call(root, root.Bokeh);\n      }if (force === true) {\n        display_loaded();\n      }} else if (Date.now() < root._bokeh_timeout) {\n      setTimeout(run_inline_js, 100);\n    } else if (!root._bokeh_failed_load) {\n      console.log(\"Bokeh: BokehJS failed to load within specified timeout.\");\n      root._bokeh_failed_load = true;\n    } else if (force !== true) {\n      var cell = $(document.getElementById(\"0b6d4c62-5393-4631-9535-167a8057e2b2\")).parents('.cell').data().cell;\n      cell.output_area.append_execute_result(NB_LOAD_WARNING)\n    }\n\n  }\n\n  if (root._bokeh_is_loading === 0) {\n    console.log(\"Bokeh: BokehJS loaded, going straight to plotting\");\n    run_inline_js();\n  } else {\n    load_libs(js_urls, function() {\n      console.log(\"Bokeh: BokehJS plotting callback run at\", now());\n      run_inline_js();\n    });\n  }\n}(window));"
     },
     "metadata": {},
     "output_type": "display_data"
    },
    {
     "name": "stderr",
     "output_type": "stream",
     "text": [
      "100%|██████████| 98/98 [00:50<00:00,  1.59s/it]\n"
     ]
    },
    {
     "data": {
      "text/html": [
       "\n",
       "<div class=\"bk-root\">\n",
       "    <div class=\"bk-plotdiv\" id=\"ff5bd298-c360-44e4-a6a1-2d05d6014560\"></div>\n",
       "</div>"
      ]
     },
     "metadata": {},
     "output_type": "display_data"
    },
    {
     "data": {
      "application/javascript": [
       "(function(root) {\n",
       "  function embed_document(root) {\n",
       "    \n",
       "  var docs_json = {\"71ecc72b-aa9b-4aef-a3f8-6e22bef427d4\":{\"roots\":{\"references\":[{\"attributes\":{\"dimension\":1,\"plot\":{\"id\":\"15c447e8-52bc-4cd4-9e45-b477836a9e4d\",\"subtype\":\"Figure\",\"type\":\"Plot\"},\"ticker\":{\"id\":\"313aa1cd-3bb9-4aca-a309-3641f6228731\",\"type\":\"BasicTicker\"}},\"id\":\"b0a0b9a8-15b0-4b4f-9173-e4908a7fd445\",\"type\":\"Grid\"},{\"attributes\":{\"active_drag\":\"auto\",\"active_inspect\":\"auto\",\"active_scroll\":\"auto\",\"active_tap\":\"auto\",\"tools\":[{\"id\":\"1af20609-de68-4e6c-9608-7fdcb89ea392\",\"type\":\"PanTool\"},{\"id\":\"2f77c4e2-a90e-4c30-b963-db9414bef837\",\"type\":\"WheelZoomTool\"},{\"id\":\"21448f8d-1b07-4b14-b8a0-d7f9f8e31032\",\"type\":\"BoxZoomTool\"},{\"id\":\"f85907fa-9f7d-4cfb-99ed-a24cb06ac269\",\"type\":\"SaveTool\"},{\"id\":\"e9f3bbcf-8c63-4c5b-8dc1-4991d1965368\",\"type\":\"ResetTool\"},{\"id\":\"85f40139-283b-4740-8c37-61759a1f8180\",\"type\":\"HelpTool\"},{\"id\":\"2c0b8c95-ce99-405f-ae2e-23d0fc2194ab\",\"type\":\"HoverTool\"}]},\"id\":\"c32629c8-4990-4b02-9010-823f6ee23078\",\"type\":\"Toolbar\"},{\"attributes\":{\"bottom_units\":\"screen\",\"fill_alpha\":{\"value\":0.5},\"fill_color\":{\"value\":\"lightgrey\"},\"left_units\":\"screen\",\"level\":\"overlay\",\"line_alpha\":{\"value\":1.0},\"line_color\":{\"value\":\"black\"},\"line_dash\":[4,4],\"line_width\":{\"value\":2},\"plot\":null,\"render_mode\":\"css\",\"right_units\":\"screen\",\"top_units\":\"screen\"},\"id\":\"76172bb4-06b1-4bd5-859e-d76add66dd53\",\"type\":\"BoxAnnotation\"},{\"attributes\":{\"line_alpha\":0.1,\"line_color\":\"#1f77b4\",\"line_width\":2,\"x\":{\"field\":\"x_values\"},\"y\":{\"field\":\"y_values\"}},\"id\":\"bc3facd2-3627-45c4-a585-eb4c6a6e9ce1\",\"type\":\"Line\"},{\"attributes\":{},\"id\":\"1af20609-de68-4e6c-9608-7fdcb89ea392\",\"type\":\"PanTool\"},{\"attributes\":{\"source\":{\"id\":\"d9410560-99f7-4cc9-81f2-a7fe0040f6e0\",\"type\":\"ColumnDataSource\"}},\"id\":\"5b1bc877-99f3-4866-9d3d-1aadcfcb9b56\",\"type\":\"CDSView\"},{\"attributes\":{},\"id\":\"2f77c4e2-a90e-4c30-b963-db9414bef837\",\"type\":\"WheelZoomTool\"},{\"attributes\":{\"overlay\":{\"id\":\"76172bb4-06b1-4bd5-859e-d76add66dd53\",\"type\":\"BoxAnnotation\"}},\"id\":\"21448f8d-1b07-4b14-b8a0-d7f9f8e31032\",\"type\":\"BoxZoomTool\"},{\"attributes\":{},\"id\":\"f85907fa-9f7d-4cfb-99ed-a24cb06ac269\",\"type\":\"SaveTool\"},{\"attributes\":{},\"id\":\"e9f3bbcf-8c63-4c5b-8dc1-4991d1965368\",\"type\":\"ResetTool\"},{\"attributes\":{},\"id\":\"5eebe54c-f960-4a54-8e74-3e2fba37aee0\",\"type\":\"BasicTickFormatter\"},{\"attributes\":{},\"id\":\"85f40139-283b-4740-8c37-61759a1f8180\",\"type\":\"HelpTool\"},{\"attributes\":{},\"id\":\"3c41e0fa-5876-424e-9b8c-71d3eb964735\",\"type\":\"BasicTickFormatter\"},{\"attributes\":{\"fill_alpha\":{\"value\":0.1},\"fill_color\":{\"value\":\"#1f77b4\"},\"line_alpha\":{\"value\":0.1},\"line_color\":{\"value\":\"#1f77b4\"},\"size\":{\"units\":\"screen\",\"value\":8},\"x\":{\"field\":\"x_values\"},\"y\":{\"field\":\"y_values\"}},\"id\":\"d4450a26-6ab9-475f-a33b-038a5e0fa01e\",\"type\":\"Circle\"},{\"attributes\":{\"below\":[{\"id\":\"6cfa0de8-dbd2-4164-89a8-17d4d175defa\",\"type\":\"LinearAxis\"}],\"left\":[{\"id\":\"acd710dc-0230-4a0d-8428-6e52970eee1e\",\"type\":\"LinearAxis\"}],\"min_border\":0,\"plot_height\":500,\"plot_width\":900,\"renderers\":[{\"id\":\"6cfa0de8-dbd2-4164-89a8-17d4d175defa\",\"type\":\"LinearAxis\"},{\"id\":\"6a0d34dc-6906-4ecd-9da5-b0918b086f72\",\"type\":\"Grid\"},{\"id\":\"acd710dc-0230-4a0d-8428-6e52970eee1e\",\"type\":\"LinearAxis\"},{\"id\":\"b0a0b9a8-15b0-4b4f-9173-e4908a7fd445\",\"type\":\"Grid\"},{\"id\":\"76172bb4-06b1-4bd5-859e-d76add66dd53\",\"type\":\"BoxAnnotation\"},{\"id\":\"4cc09b66-d221-49fd-a577-08e84ba9becc\",\"type\":\"GlyphRenderer\"},{\"id\":\"9586474c-5e1a-4344-b6f4-ccdbd0ca9102\",\"type\":\"GlyphRenderer\"}],\"title\":{\"id\":\"c737bc89-6ea6-4247-bb55-ede9729092a5\",\"type\":\"Title\"},\"toolbar\":{\"id\":\"c32629c8-4990-4b02-9010-823f6ee23078\",\"type\":\"Toolbar\"},\"x_range\":{\"id\":\"69937bcf-975d-4138-9e45-0a6b2b2621c2\",\"type\":\"DataRange1d\"},\"x_scale\":{\"id\":\"1c2ef284-0b90-4d3f-8510-77d5fb300677\",\"type\":\"LinearScale\"},\"y_range\":{\"id\":\"a5f1caf8-4243-43c0-b7b9-dd366f9d0821\",\"type\":\"DataRange1d\"},\"y_scale\":{\"id\":\"452e3cb0-f55e-4de2-b1b1-f67081b9fe28\",\"type\":\"LinearScale\"}},\"id\":\"15c447e8-52bc-4cd4-9e45-b477836a9e4d\",\"subtype\":\"Figure\",\"type\":\"Plot\"},{\"attributes\":{\"fill_color\":{\"value\":\"white\"},\"line_color\":{\"value\":\"#2222aa\"},\"size\":{\"units\":\"screen\",\"value\":8},\"x\":{\"field\":\"x_values\"},\"y\":{\"field\":\"y_values\"}},\"id\":\"711b29a3-4842-4f39-90fd-c442a61b3ecc\",\"type\":\"Circle\"},{\"attributes\":{\"data_source\":{\"id\":\"ff9c16d6-cc49-4705-a787-7ea2ea61b21c\",\"type\":\"ColumnDataSource\"},\"glyph\":{\"id\":\"711b29a3-4842-4f39-90fd-c442a61b3ecc\",\"type\":\"Circle\"},\"hover_glyph\":null,\"muted_glyph\":null,\"nonselection_glyph\":{\"id\":\"d4450a26-6ab9-475f-a33b-038a5e0fa01e\",\"type\":\"Circle\"},\"selection_glyph\":null,\"view\":{\"id\":\"d08e727d-eb7b-4746-b5b7-025de6a53c17\",\"type\":\"CDSView\"}},\"id\":\"9586474c-5e1a-4344-b6f4-ccdbd0ca9102\",\"type\":\"GlyphRenderer\"},{\"attributes\":{},\"id\":\"1c2ef284-0b90-4d3f-8510-77d5fb300677\",\"type\":\"LinearScale\"},{\"attributes\":{\"source\":{\"id\":\"ff9c16d6-cc49-4705-a787-7ea2ea61b21c\",\"type\":\"ColumnDataSource\"}},\"id\":\"d08e727d-eb7b-4746-b5b7-025de6a53c17\",\"type\":\"CDSView\"},{\"attributes\":{\"callback\":null,\"column_names\":[\"x_values\",\"y_values\"],\"data\":{\"x_values\":[2,3,4,5,6,7,8,9,10,11,12,13,14,15,16,17,18,19,20,21,22,23,24,25,26,27,28,29,30,31,32,33,34,35,36,37,38,39,40,41,42,43,44,45,46,47,48,49,50,51,52,53,54,55,56,57,58,59,60,61,62,63,64,65,66,67,68,69,70,71,72,73,74,75,76,77,78,79,80,81,82,83,84,85,86,87,88,89,90,91,92,93,94,95,96,97,98,99],\"y_values\":[26.058350027831075,25.799530905899754,25.520819151034296,25.250265932851224,24.995165619769725,24.75042196653206,24.510978955014206,24.28730427954275,24.043309005240868,23.819034291512807,23.60923344718782,23.389837624374668,23.21317479063968,23.05278394960687,22.890993218797217,22.74718357500291,22.597203375595534,22.44572798140716,22.318848824227178,22.14597039458226,22.016583333385984,21.87241680899662,21.744682113291656,21.62959364823175,21.528805963775962,21.416145857728456,21.257398691371648,21.15673636429199,21.065377453312113,20.95558294707957,20.86571938752893,20.766314651019236,20.663918633020447,20.578679493896363,20.488325711761927,20.41558806849162,20.31812984677099,20.24855909117716,20.156562860991436,20.129387443959565,20.018151239065226,19.987712463890087,19.87632772133836,19.851412056049924,19.755612498410116,19.67487557534241,19.591202245313983,19.545339732579137,19.538434753875613,19.40809324607237,19.38749962451977,19.326537152667328,19.267395589109828,19.200069944621795,19.149629042858358,19.070624829030862,19.03030461745132,18.96851211828972,18.855207454311657,18.84630503401259,18.861341023034303,18.769491402368775,18.67644561753891,18.66063273505346,18.602527428626,18.513500660411175,18.48475220634336,18.421109713120543,18.38374044302881,18.35694495788098,18.30893401655202,18.271548050810445,18.220213969538708,18.203555534350382,18.116297921719188,18.096206279065914,18.033187439912236,18.00285498969237,17.955421103957747,17.93467178621923,17.929427392326726,17.908613789919208,17.797743752363342,17.80049255236437,17.791784885474645,17.745724909256744,17.680125190256874,17.65614212058337,17.630825189002024,17.599645654179017,17.583380057266737,17.564467524904178,17.509143572000443,17.445375093890984,17.44911517563709,17.390363372659067,17.391609841010165,17.370403279053743]}},\"id\":\"ff9c16d6-cc49-4705-a787-7ea2ea61b21c\",\"type\":\"ColumnDataSource\"},{\"attributes\":{\"data_source\":{\"id\":\"d9410560-99f7-4cc9-81f2-a7fe0040f6e0\",\"type\":\"ColumnDataSource\"},\"glyph\":{\"id\":\"1451e080-620f-4c7a-8e09-68816bf98ed3\",\"type\":\"Line\"},\"hover_glyph\":null,\"muted_glyph\":null,\"nonselection_glyph\":{\"id\":\"bc3facd2-3627-45c4-a585-eb4c6a6e9ce1\",\"type\":\"Line\"},\"selection_glyph\":null,\"view\":{\"id\":\"5b1bc877-99f3-4866-9d3d-1aadcfcb9b56\",\"type\":\"CDSView\"}},\"id\":\"4cc09b66-d221-49fd-a577-08e84ba9becc\",\"type\":\"GlyphRenderer\"},{\"attributes\":{\"line_color\":\"#2222aa\",\"line_width\":2,\"x\":{\"field\":\"x_values\"},\"y\":{\"field\":\"y_values\"}},\"id\":\"1451e080-620f-4c7a-8e09-68816bf98ed3\",\"type\":\"Line\"},{\"attributes\":{\"plot\":null,\"text\":\"Reconstruction Error\"},\"id\":\"c737bc89-6ea6-4247-bb55-ede9729092a5\",\"type\":\"Title\"},{\"attributes\":{\"callback\":null,\"tooltips\":[[\"Model\",\"$x{0}\"],[\"Reconstruction Error\",\"$y\"]]},\"id\":\"2c0b8c95-ce99-405f-ae2e-23d0fc2194ab\",\"type\":\"HoverTool\"},{\"attributes\":{\"callback\":null},\"id\":\"a5f1caf8-4243-43c0-b7b9-dd366f9d0821\",\"type\":\"DataRange1d\"},{\"attributes\":{\"callback\":null,\"column_names\":[\"x_values\",\"y_values\"],\"data\":{\"x_values\":[2,3,4,5,6,7,8,9,10,11,12,13,14,15,16,17,18,19,20,21,22,23,24,25,26,27,28,29,30,31,32,33,34,35,36,37,38,39,40,41,42,43,44,45,46,47,48,49,50,51,52,53,54,55,56,57,58,59,60,61,62,63,64,65,66,67,68,69,70,71,72,73,74,75,76,77,78,79,80,81,82,83,84,85,86,87,88,89,90,91,92,93,94,95,96,97,98,99],\"y_values\":[26.058350027831075,25.799530905899754,25.520819151034296,25.250265932851224,24.995165619769725,24.75042196653206,24.510978955014206,24.28730427954275,24.043309005240868,23.819034291512807,23.60923344718782,23.389837624374668,23.21317479063968,23.05278394960687,22.890993218797217,22.74718357500291,22.597203375595534,22.44572798140716,22.318848824227178,22.14597039458226,22.016583333385984,21.87241680899662,21.744682113291656,21.62959364823175,21.528805963775962,21.416145857728456,21.257398691371648,21.15673636429199,21.065377453312113,20.95558294707957,20.86571938752893,20.766314651019236,20.663918633020447,20.578679493896363,20.488325711761927,20.41558806849162,20.31812984677099,20.24855909117716,20.156562860991436,20.129387443959565,20.018151239065226,19.987712463890087,19.87632772133836,19.851412056049924,19.755612498410116,19.67487557534241,19.591202245313983,19.545339732579137,19.538434753875613,19.40809324607237,19.38749962451977,19.326537152667328,19.267395589109828,19.200069944621795,19.149629042858358,19.070624829030862,19.03030461745132,18.96851211828972,18.855207454311657,18.84630503401259,18.861341023034303,18.769491402368775,18.67644561753891,18.66063273505346,18.602527428626,18.513500660411175,18.48475220634336,18.421109713120543,18.38374044302881,18.35694495788098,18.30893401655202,18.271548050810445,18.220213969538708,18.203555534350382,18.116297921719188,18.096206279065914,18.033187439912236,18.00285498969237,17.955421103957747,17.93467178621923,17.929427392326726,17.908613789919208,17.797743752363342,17.80049255236437,17.791784885474645,17.745724909256744,17.680125190256874,17.65614212058337,17.630825189002024,17.599645654179017,17.583380057266737,17.564467524904178,17.509143572000443,17.445375093890984,17.44911517563709,17.390363372659067,17.391609841010165,17.370403279053743]}},\"id\":\"d9410560-99f7-4cc9-81f2-a7fe0040f6e0\",\"type\":\"ColumnDataSource\"},{\"attributes\":{},\"id\":\"452e3cb0-f55e-4de2-b1b1-f67081b9fe28\",\"type\":\"LinearScale\"},{\"attributes\":{},\"id\":\"313aa1cd-3bb9-4aca-a309-3641f6228731\",\"type\":\"BasicTicker\"},{\"attributes\":{\"formatter\":{\"id\":\"5eebe54c-f960-4a54-8e74-3e2fba37aee0\",\"type\":\"BasicTickFormatter\"},\"plot\":{\"id\":\"15c447e8-52bc-4cd4-9e45-b477836a9e4d\",\"subtype\":\"Figure\",\"type\":\"Plot\"},\"ticker\":{\"id\":\"ab4f26dd-78ff-4f93-885a-6c570d2e7734\",\"type\":\"BasicTicker\"}},\"id\":\"6cfa0de8-dbd2-4164-89a8-17d4d175defa\",\"type\":\"LinearAxis\"},{\"attributes\":{\"callback\":null},\"id\":\"69937bcf-975d-4138-9e45-0a6b2b2621c2\",\"type\":\"DataRange1d\"},{\"attributes\":{},\"id\":\"ab4f26dd-78ff-4f93-885a-6c570d2e7734\",\"type\":\"BasicTicker\"},{\"attributes\":{\"plot\":{\"id\":\"15c447e8-52bc-4cd4-9e45-b477836a9e4d\",\"subtype\":\"Figure\",\"type\":\"Plot\"},\"ticker\":{\"id\":\"ab4f26dd-78ff-4f93-885a-6c570d2e7734\",\"type\":\"BasicTicker\"}},\"id\":\"6a0d34dc-6906-4ecd-9da5-b0918b086f72\",\"type\":\"Grid\"},{\"attributes\":{\"formatter\":{\"id\":\"3c41e0fa-5876-424e-9b8c-71d3eb964735\",\"type\":\"BasicTickFormatter\"},\"plot\":{\"id\":\"15c447e8-52bc-4cd4-9e45-b477836a9e4d\",\"subtype\":\"Figure\",\"type\":\"Plot\"},\"ticker\":{\"id\":\"313aa1cd-3bb9-4aca-a309-3641f6228731\",\"type\":\"BasicTicker\"}},\"id\":\"acd710dc-0230-4a0d-8428-6e52970eee1e\",\"type\":\"LinearAxis\"}],\"root_ids\":[\"15c447e8-52bc-4cd4-9e45-b477836a9e4d\"]},\"title\":\"Bokeh Application\",\"version\":\"0.12.14\"}};\n",
       "  var render_items = [{\"docid\":\"71ecc72b-aa9b-4aef-a3f8-6e22bef427d4\",\"elementid\":\"ff5bd298-c360-44e4-a6a1-2d05d6014560\",\"modelid\":\"15c447e8-52bc-4cd4-9e45-b477836a9e4d\",\"notebook_comms_target\":\"14cbcadd-29a1-4dfb-bf8a-a039b7d5ba28\"}];\n",
       "  root.Bokeh.embed.embed_items_notebook(docs_json, render_items);\n",
       "\n",
       "  }\n",
       "  if (root.Bokeh !== undefined) {\n",
       "    embed_document(root);\n",
       "  } else {\n",
       "    var attempts = 0;\n",
       "    var timer = setInterval(function(root) {\n",
       "      if (root.Bokeh !== undefined) {\n",
       "        embed_document(root);\n",
       "        clearInterval(timer);\n",
       "      }\n",
       "      attempts++;\n",
       "      if (attempts > 100) {\n",
       "        console.log(\"Bokeh: ERROR: Unable to run BokehJS code because BokehJS library is missing\")\n",
       "        clearInterval(timer);\n",
       "      }\n",
       "    }, 10, root)\n",
       "  }\n",
       "})(window);"
      ],
      "application/vnd.bokehjs_exec.v0+json": ""
     },
     "metadata": {
      "application/vnd.bokehjs_exec.v0+json": {
       "id": "15c447e8-52bc-4cd4-9e45-b477836a9e4d"
      }
     },
     "output_type": "display_data"
    }
   ],
   "source": [
    "output_notebook()\n",
    "\n",
    "hover = HoverTool(tooltips=[\n",
    "    (\"Model\", \"$x{0}\"),\n",
    "    (\"Reconstruction Error\", \"$y\"),\n",
    "])\n",
    "\n",
    "\n",
    "models = {}\n",
    "x_values = []\n",
    "y_values = []\n",
    "\n",
    "for k in tqdm(num_topics):\n",
    "    # Build a NMF Model\n",
    "    model = NMF(n_components=k, init=\"nndsvda\", max_iter=1000, l1_ratio=0, alpha=1)\n",
    "    document_topic = model.fit_transform(train_data_features)\n",
    "    models[k] = {\n",
    "      'model': model,\n",
    "      'topic_word': model.components_,\n",
    "      'document_topic': document_topic,\n",
    "      'reconstruction': model.reconstruction_err_\n",
    "    }\n",
    "\n",
    "    x_values.append(k)\n",
    "    y_values.append(models[k][\"reconstruction\"])\n",
    "\n",
    "source = {'x_values': x_values, 'y_values': y_values}\n",
    "\n",
    "opts = dict(plot_width=900, plot_height=500, min_border=0, title=\"Reconstruction Error\")\n",
    "plot = figure(**opts)\n",
    "plot.add_tools(hover)\n",
    "\n",
    "l = plot.line(x='x_values', y='y_values', color=\"#2222aa\", line_width=2, source=source)\n",
    "c = plot.circle(x='x_values', y='y_values', color=\"#2222aa\", fill_color=\"white\", size=8, source=source)\n",
    "h = show(plot, notebook_handle=True)"
   ]
  },
  {
   "cell_type": "markdown",
   "metadata": {
    "colab_type": "text",
    "id": "qH2JBcrfN8Ln"
   },
   "source": [
    "### Verificando em * random sample solutions* ###"
   ]
  },
  {
   "cell_type": "code",
   "execution_count": 14,
   "metadata": {
    "colab": {
     "autoexec": {
      "startup": false,
      "wait_interval": 0
     }
    },
    "colab_type": "code",
    "collapsed": true,
    "id": "y8oa_7ZGRQI6"
   },
   "outputs": [],
   "source": [
    "# Escolhido tópico k\n",
    "k = 12\n",
    "lda_model = models[k]['model']\n",
    "document_topic = models[k]['document_topic']\n",
    "topic_word = models[k]['topic_word']"
   ]
  },
  {
   "cell_type": "code",
   "execution_count": 15,
   "metadata": {
    "colab": {
     "autoexec": {
      "startup": false,
      "wait_interval": 0
     },
     "base_uri": "https://localhost:8080/",
     "height": 1367,
     "output_extras": [
      {
       "item_id": 1
      }
     ]
    },
    "colab_type": "code",
    "executionInfo": {
     "elapsed": 1487,
     "status": "ok",
     "timestamp": 1522791474926,
     "user": {
      "displayName": "Laura Moraes",
      "photoUrl": "//lh6.googleusercontent.com/-NtEJsWrqtds/AAAAAAAAAAI/AAAAAAAAeH4/7f6cdoC52S0/s50-c-k-no/photo.jpg",
      "userId": "113150701401294787712"
     },
     "user_tz": 180
    },
    "id": "eggqqcIdXfqD",
    "outputId": "b93cb6bf-50fb-4df5-d043-4ad5eea73107"
   },
   "outputs": [
    {
     "name": "stdout",
     "output_type": "stream",
     "text": [
      "name = input(\"What is your name: \")\n",
      "age = int(input(\"How old are you: \"))\n",
      "year = str((2014 - age)+100)\n",
      "print(name + \" will be 100 years old in the year \" + year)\n",
      "\n",
      "Belong to topics with probabilities:\n",
      "t: [ 7  5  2 12 11]\n",
      "P(t|d): [0.09039742 0.04329776 0.01487857 0.         0.        ]\n",
      "\n",
      "\n",
      "num = input(\"Enter a number: \")\n",
      "mod = num % 2\n",
      "if mod > 0:\n",
      "    print(\"You picked an odd number.\")\n",
      "else:\n",
      "    print(\"You picked an even number.\")\n",
      "Belong to topics with probabilities:\n",
      "t: [4 7 6 3 1]\n",
      "P(t|d): [0.179813   0.05296557 0.0490166  0.01630528 0.01591886]\n",
      "\n",
      "\n",
      "num = int(input(\"give me a number to check: \"))\n",
      "check = int(input(\"give me a number to divide by: \"))\n",
      "\n",
      "if num % 4 == 0:\n",
      "    print(num, \"is a multiple of 4\")\n",
      "elif num % 2 == 0:\n",
      "    print(num, \"is an even number\")\n",
      "else:\n",
      "    print(num, \"is an odd number\")\n",
      "\n",
      "if num % check == 0:\n",
      "    print(num, \"divides evenly by\", check)\n",
      "else:\n",
      "    print(num, \"does not divide evenly by\", check)\n",
      "\n",
      "Belong to topics with probabilities:\n",
      "t: [4 7 6 1 3]\n",
      "P(t|d): [0.33891751 0.0778948  0.03393035 0.01581215 0.00697947]\n",
      "\n",
      "\n",
      "a = [1, 1, 2, 3, 5, 8, 13, 21, 34, 55, 89]\n",
      "\n",
      "num = int(raw_input(\"Choose a number: \"))\n",
      "\n",
      "new_list = []\n",
      "\n",
      "for i in a:\n",
      "\tif i < num:\n",
      "\t\tnew_list.append(i)\n",
      "\n",
      "print new_list\n",
      "Belong to topics with probabilities:\n",
      "t: [ 4  2  7  6 11]\n",
      "P(t|d): [0.16931591 0.05504854 0.03326262 0.02284888 0.00270045]\n",
      "\n",
      "\n",
      "__author__ = 'jeffreyhunt'\n",
      "\n",
      "num = int(input(\"Please choose a number to divide: \"))\n",
      "\n",
      "listRange = list(range(1,num+1))\n",
      "\n",
      "divisorList = []\n",
      "\n",
      "for number in listRange:\n",
      "    if num % number == 0:\n",
      "        divisorList.append(number)\n",
      "\n",
      "print(divisorList)\n",
      "Belong to topics with probabilities:\n",
      "t: [4 7 2 6 3]\n",
      "P(t|d): [0.21923893 0.06036478 0.0518007  0.03667567 0.02158826]\n",
      "\n",
      "\n"
     ]
    }
   ],
   "source": [
    "# Verificando 5 soluções de maneira aleatória\n",
    "N = 5\n",
    "\n",
    "cursor.execute(\"\"\"\n",
    "SELECT * FROM solution;\n",
    "\"\"\")\n",
    "\n",
    "solutions = list(cursor.fetchall())\n",
    "random.shuffle(list(range(len(solutions))))\n",
    "\n",
    "for i in range(N):\n",
    "    text = solutions[i][1]\n",
    "    x = lda_model.transform(vectorizer.transform([text]))[0]\n",
    "    print(text)\n",
    "    #print(x)\n",
    "    print(\"Belong to topics with probabilities:\")\n",
    "    topics = np.argsort(x)[:-6:-1]\n",
    "    probs = x[topics]\n",
    "    print(\"t: %s\" %(topics+1))\n",
    "    print(\"P(t|d): %s\" %probs)\n",
    "\n",
    "    print('\\n')"
   ]
  },
  {
   "cell_type": "markdown",
   "metadata": {
    "colab_type": "text",
    "id": "gI5bmxcEUkYd"
   },
   "source": [
    "#### Verificando distribuição de documentos por tópico ####"
   ]
  },
  {
   "cell_type": "code",
   "execution_count": 16,
   "metadata": {
    "colab": {
     "autoexec": {
      "startup": false,
      "wait_interval": 0
     },
     "base_uri": "https://localhost:8080/",
     "height": 35,
     "output_extras": [
      {
       "item_id": 1
      }
     ]
    },
    "colab_type": "code",
    "executionInfo": {
     "elapsed": 586,
     "status": "ok",
     "timestamp": 1522790340427,
     "user": {
      "displayName": "Laura Moraes",
      "photoUrl": "//lh6.googleusercontent.com/-NtEJsWrqtds/AAAAAAAAAAI/AAAAAAAAeH4/7f6cdoC52S0/s50-c-k-no/photo.jpg",
      "userId": "113150701401294787712"
     },
     "user_tz": 180
    },
    "id": "EqDioGBvUja9",
    "outputId": "0eb5570a-fed1-4129-e218-841502d90331"
   },
   "outputs": [
    {
     "name": "stderr",
     "output_type": "stream",
     "text": [
      "/home/lmoraes/miniconda3/envs/machine_teaching/lib/python3.6/site-packages/ipykernel_launcher.py:2: RuntimeWarning: invalid value encountered in true_divide\n",
      "  \n"
     ]
    },
    {
     "data": {
      "text/plain": [
       "(758, 12)"
      ]
     },
     "execution_count": 16,
     "metadata": {},
     "output_type": "execute_result"
    }
   ],
   "source": [
    "row_sums = document_topic.sum(axis=1)\n",
    "document_topic_norm = document_topic / row_sums[:, np.newaxis]\n",
    "document_topic_norm.shape"
   ]
  },
  {
   "cell_type": "markdown",
   "metadata": {
    "colab_type": "text",
    "id": "cAw-bMPCY8QN"
   },
   "source": [
    "Considerando somente pertinência máxima"
   ]
  },
  {
   "cell_type": "code",
   "execution_count": 17,
   "metadata": {
    "colab": {
     "autoexec": {
      "startup": false,
      "wait_interval": 0
     }
    },
    "colab_type": "code",
    "id": "62-MHZJJY4q1"
   },
   "outputs": [
    {
     "data": {
      "text/plain": [
       "Counter({0: 170,\n",
       "         1: 123,\n",
       "         2: 42,\n",
       "         3: 35,\n",
       "         4: 52,\n",
       "         5: 123,\n",
       "         6: 88,\n",
       "         7: 19,\n",
       "         8: 41,\n",
       "         9: 26,\n",
       "         10: 24,\n",
       "         11: 15})"
      ]
     },
     "execution_count": 17,
     "metadata": {},
     "output_type": "execute_result"
    }
   ],
   "source": [
    "Counter(np.argmax(document_topic, axis=1))"
   ]
  },
  {
   "cell_type": "markdown",
   "metadata": {
    "colab_type": "text",
    "id": "SY_eLsSDZBbU"
   },
   "source": [
    "Considerando probabilidade"
   ]
  },
  {
   "cell_type": "code",
   "execution_count": 18,
   "metadata": {
    "colab": {
     "autoexec": {
      "startup": false,
      "wait_interval": 0
     }
    },
    "colab_type": "code",
    "id": "cTvyuEuLYroD"
   },
   "outputs": [
    {
     "data": {
      "image/png": "[encoded data removed]",
      "text/plain": [
       "<matplotlib.figure.Figure at 0x7f3a2c7532e8>"
      ]
     },
     "metadata": {},
     "output_type": "display_data"
    }
   ],
   "source": [
    "fig = plt.figure(figsize=(12,8))\n",
    "ax = sns.heatmap(document_topic_norm)\n",
    "plt.show()"
   ]
  },
  {
   "cell_type": "code",
   "execution_count": 19,
   "metadata": {
    "colab": {
     "autoexec": {
      "startup": false,
      "wait_interval": 0
     }
    },
    "colab_type": "code",
    "collapsed": true,
    "id": "uIDjSpcRXfqw"
   },
   "outputs": [],
   "source": [
    "def print_top_words(topic_word, feature_names, n_top_words):\n",
    "    for topic_idx, topic in enumerate(topic_word):\n",
    "        message = \"Topic #%d: \" % (topic_idx+1)\n",
    "        message += \" \".join([feature_names[i]\n",
    "                             for i in topic.argsort()[:-n_top_words - 1:-1]])\n",
    "        print(message)\n",
    "    print()"
   ]
  },
  {
   "cell_type": "code",
   "execution_count": 20,
   "metadata": {
    "colab": {
     "autoexec": {
      "startup": false,
      "wait_interval": 0
     },
     "output_extras": [
      {}
     ]
    },
    "colab_type": "code",
    "id": "_PR0VIo9Xfqy",
    "outputId": "10bb1c8f-c3e3-419a-8e95-16db0ff86cdb",
    "scrolled": false
   },
   "outputs": [
    {
     "name": "stdout",
     "output_type": "stream",
     "text": [
      "\n",
      "Topics in NMF model:\n",
      "Topic #1: print format import if sys set math raw_input else input\n",
      "Topic #2: in for range items append print value if dict join\n",
      "Topic #3: random import sample choice range randrange color result shuffle number\n",
      "Topic #4: num mod for print list in if color sum data\n",
      "Topic #5: str array_num array print join result from len import word\n",
      "Topic #6: return def if else print sum true elif number false\n",
      "Topic #7: input int float print elif else math if month round\n",
      "Topic #8: result_str column row or and range else if for in\n",
      "Topic #9: os path import sys print time isfile __file__ from environ\n",
      "Topic #10: str1 print count rsplit char index reverse_string join letter str2\n",
      "Topic #11: li printlist list set append evennumbers lambda in for item\n",
      "Topic #12: tuplex print tuple listx count index item dict false n2\n",
      "\n"
     ]
    }
   ],
   "source": [
    "print(\"\\nTopics in NMF model:\")\n",
    "feature_names = vectorizer.get_feature_names()\n",
    "print_top_words(topic_word, feature_names, 10)"
   ]
  }
 ],
 "metadata": {
  "colab": {
   "default_view": {},
   "name": "02 - Clustering solutions (LDA).ipynb",
   "provenance": [],
   "version": "0.3.2",
   "views": {}
  },
  "kernelspec": {
   "display_name": "Python 3",
   "language": "python",
   "name": "python3"
  },
  "language_info": {
   "codemirror_mode": {
    "name": "ipython",
    "version": 3
   },
   "file_extension": ".py",
   "mimetype": "text/x-python",
   "name": "python",
   "nbconvert_exporter": "python",
   "pygments_lexer": "ipython3",
   "version": "3.6.2"
  }
 },
 "nbformat": 4,
 "nbformat_minor": 1
}
