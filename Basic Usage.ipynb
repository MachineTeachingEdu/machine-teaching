{
 "cells": [
  {
   "cell_type": "code",
   "execution_count": 14,
   "metadata": {},
   "outputs": [
    {
     "data": {
      "text/html": [
       "\n",
       "    <div class=\"bk-root\">\n",
       "        <a href=\"https://bokeh.pydata.org\" target=\"_blank\" class=\"bk-logo bk-logo-small bk-logo-notebook\"></a>\n",
       "        <span id=\"4f0132c9-d178-432f-833f-d4bfdc03e41b\">Loading BokehJS ...</span>\n",
       "    </div>"
      ]
     },
     "metadata": {},
     "output_type": "display_data"
    },
    {
     "data": {
      "application/javascript": [
       "\n",
       "(function(root) {\n",
       "  function now() {\n",
       "    return new Date();\n",
       "  }\n",
       "\n",
       "  var force = true;\n",
       "\n",
       "  if (typeof (root._bokeh_onload_callbacks) === \"undefined\" || force === true) {\n",
       "    root._bokeh_onload_callbacks = [];\n",
       "    root._bokeh_is_loading = undefined;\n",
       "  }\n",
       "\n",
       "  var JS_MIME_TYPE = 'application/javascript';\n",
       "  var HTML_MIME_TYPE = 'text/html';\n",
       "  var EXEC_MIME_TYPE = 'application/vnd.bokehjs_exec.v0+json';\n",
       "  var CLASS_NAME = 'output_bokeh rendered_html';\n",
       "\n",
       "  /**\n",
       "   * Render data to the DOM node\n",
       "   */\n",
       "  function render(props, node) {\n",
       "    var script = document.createElement(\"script\");\n",
       "    node.appendChild(script);\n",
       "  }\n",
       "\n",
       "  /**\n",
       "   * Handle when an output is cleared or removed\n",
       "   */\n",
       "  function handleClearOutput(event, handle) {\n",
       "    var cell = handle.cell;\n",
       "\n",
       "    var id = cell.output_area._bokeh_element_id;\n",
       "    var server_id = cell.output_area._bokeh_server_id;\n",
       "    // Clean up Bokeh references\n",
       "    if (id !== undefined) {\n",
       "      Bokeh.index[id].model.document.clear();\n",
       "      delete Bokeh.index[id];\n",
       "    }\n",
       "\n",
       "    if (server_id !== undefined) {\n",
       "      // Clean up Bokeh references\n",
       "      var cmd = \"from bokeh.io.state import curstate; print(curstate().uuid_to_server['\" + server_id + \"'].get_sessions()[0].document.roots[0]._id)\";\n",
       "      cell.notebook.kernel.execute(cmd, {\n",
       "        iopub: {\n",
       "          output: function(msg) {\n",
       "            var element_id = msg.content.text.trim();\n",
       "            Bokeh.index[element_id].model.document.clear();\n",
       "            delete Bokeh.index[element_id];\n",
       "          }\n",
       "        }\n",
       "      });\n",
       "      // Destroy server and session\n",
       "      var cmd = \"import bokeh.io.notebook as ion; ion.destroy_server('\" + server_id + \"')\";\n",
       "      cell.notebook.kernel.execute(cmd);\n",
       "    }\n",
       "  }\n",
       "\n",
       "  /**\n",
       "   * Handle when a new output is added\n",
       "   */\n",
       "  function handleAddOutput(event, handle) {\n",
       "    var output_area = handle.output_area;\n",
       "    var output = handle.output;\n",
       "\n",
       "    // limit handleAddOutput to display_data with EXEC_MIME_TYPE content only\n",
       "    if ((output.output_type != \"display_data\") || (!output.data.hasOwnProperty(EXEC_MIME_TYPE))) {\n",
       "      return\n",
       "    }\n",
       "\n",
       "    var toinsert = output_area.element.find(\".\" + CLASS_NAME.split(' ')[0]);\n",
       "\n",
       "    if (output.metadata[EXEC_MIME_TYPE][\"id\"] !== undefined) {\n",
       "      toinsert[0].firstChild.textContent = output.data[JS_MIME_TYPE];\n",
       "      // store reference to embed id on output_area\n",
       "      output_area._bokeh_element_id = output.metadata[EXEC_MIME_TYPE][\"id\"];\n",
       "    }\n",
       "    if (output.metadata[EXEC_MIME_TYPE][\"server_id\"] !== undefined) {\n",
       "      var bk_div = document.createElement(\"div\");\n",
       "      bk_div.innerHTML = output.data[HTML_MIME_TYPE];\n",
       "      var script_attrs = bk_div.children[0].attributes;\n",
       "      for (var i = 0; i < script_attrs.length; i++) {\n",
       "        toinsert[0].firstChild.setAttribute(script_attrs[i].name, script_attrs[i].value);\n",
       "      }\n",
       "      // store reference to server id on output_area\n",
       "      output_area._bokeh_server_id = output.metadata[EXEC_MIME_TYPE][\"server_id\"];\n",
       "    }\n",
       "  }\n",
       "\n",
       "  function register_renderer(events, OutputArea) {\n",
       "\n",
       "    function append_mime(data, metadata, element) {\n",
       "      // create a DOM node to render to\n",
       "      var toinsert = this.create_output_subarea(\n",
       "        metadata,\n",
       "        CLASS_NAME,\n",
       "        EXEC_MIME_TYPE\n",
       "      );\n",
       "      this.keyboard_manager.register_events(toinsert);\n",
       "      // Render to node\n",
       "      var props = {data: data, metadata: metadata[EXEC_MIME_TYPE]};\n",
       "      render(props, toinsert[0]);\n",
       "      element.append(toinsert);\n",
       "      return toinsert\n",
       "    }\n",
       "\n",
       "    /* Handle when an output is cleared or removed */\n",
       "    events.on('clear_output.CodeCell', handleClearOutput);\n",
       "    events.on('delete.Cell', handleClearOutput);\n",
       "\n",
       "    /* Handle when a new output is added */\n",
       "    events.on('output_added.OutputArea', handleAddOutput);\n",
       "\n",
       "    /**\n",
       "     * Register the mime type and append_mime function with output_area\n",
       "     */\n",
       "    OutputArea.prototype.register_mime_type(EXEC_MIME_TYPE, append_mime, {\n",
       "      /* Is output safe? */\n",
       "      safe: true,\n",
       "      /* Index of renderer in `output_area.display_order` */\n",
       "      index: 0\n",
       "    });\n",
       "  }\n",
       "\n",
       "  // register the mime type if in Jupyter Notebook environment and previously unregistered\n",
       "  if (root.Jupyter !== undefined) {\n",
       "    var events = require('base/js/events');\n",
       "    var OutputArea = require('notebook/js/outputarea').OutputArea;\n",
       "\n",
       "    if (OutputArea.prototype.mime_types().indexOf(EXEC_MIME_TYPE) == -1) {\n",
       "      register_renderer(events, OutputArea);\n",
       "    }\n",
       "  }\n",
       "\n",
       "  \n",
       "  if (typeof (root._bokeh_timeout) === \"undefined\" || force === true) {\n",
       "    root._bokeh_timeout = Date.now() + 5000;\n",
       "    root._bokeh_failed_load = false;\n",
       "  }\n",
       "\n",
       "  var NB_LOAD_WARNING = {'data': {'text/html':\n",
       "     \"<div style='background-color: #fdd'>\\n\"+\n",
       "     \"<p>\\n\"+\n",
       "     \"BokehJS does not appear to have successfully loaded. If loading BokehJS from CDN, this \\n\"+\n",
       "     \"may be due to a slow or bad network connection. Possible fixes:\\n\"+\n",
       "     \"</p>\\n\"+\n",
       "     \"<ul>\\n\"+\n",
       "     \"<li>re-rerun `output_notebook()` to attempt to load from CDN again, or</li>\\n\"+\n",
       "     \"<li>use INLINE resources instead, as so:</li>\\n\"+\n",
       "     \"</ul>\\n\"+\n",
       "     \"<code>\\n\"+\n",
       "     \"from bokeh.resources import INLINE\\n\"+\n",
       "     \"output_notebook(resources=INLINE)\\n\"+\n",
       "     \"</code>\\n\"+\n",
       "     \"</div>\"}};\n",
       "\n",
       "  function display_loaded() {\n",
       "    var el = document.getElementById(\"4f0132c9-d178-432f-833f-d4bfdc03e41b\");\n",
       "    if (el != null) {\n",
       "      el.textContent = \"BokehJS is loading...\";\n",
       "    }\n",
       "    if (root.Bokeh !== undefined) {\n",
       "      if (el != null) {\n",
       "        el.textContent = \"BokehJS \" + root.Bokeh.version + \" successfully loaded.\";\n",
       "      }\n",
       "    } else if (Date.now() < root._bokeh_timeout) {\n",
       "      setTimeout(display_loaded, 100)\n",
       "    }\n",
       "  }\n",
       "\n",
       "\n",
       "  function run_callbacks() {\n",
       "    try {\n",
       "      root._bokeh_onload_callbacks.forEach(function(callback) { callback() });\n",
       "    }\n",
       "    finally {\n",
       "      delete root._bokeh_onload_callbacks\n",
       "    }\n",
       "    console.info(\"Bokeh: all callbacks have finished\");\n",
       "  }\n",
       "\n",
       "  function load_libs(js_urls, callback) {\n",
       "    root._bokeh_onload_callbacks.push(callback);\n",
       "    if (root._bokeh_is_loading > 0) {\n",
       "      console.log(\"Bokeh: BokehJS is being loaded, scheduling callback at\", now());\n",
       "      return null;\n",
       "    }\n",
       "    if (js_urls == null || js_urls.length === 0) {\n",
       "      run_callbacks();\n",
       "      return null;\n",
       "    }\n",
       "    console.log(\"Bokeh: BokehJS not loaded, scheduling load and callback at\", now());\n",
       "    root._bokeh_is_loading = js_urls.length;\n",
       "    for (var i = 0; i < js_urls.length; i++) {\n",
       "      var url = js_urls[i];\n",
       "      var s = document.createElement('script');\n",
       "      s.src = url;\n",
       "      s.async = false;\n",
       "      s.onreadystatechange = s.onload = function() {\n",
       "        root._bokeh_is_loading--;\n",
       "        if (root._bokeh_is_loading === 0) {\n",
       "          console.log(\"Bokeh: all BokehJS libraries loaded\");\n",
       "          run_callbacks()\n",
       "        }\n",
       "      };\n",
       "      s.onerror = function() {\n",
       "        console.warn(\"failed to load library \" + url);\n",
       "      };\n",
       "      console.log(\"Bokeh: injecting script tag for BokehJS library: \", url);\n",
       "      document.getElementsByTagName(\"head\")[0].appendChild(s);\n",
       "    }\n",
       "  };var element = document.getElementById(\"4f0132c9-d178-432f-833f-d4bfdc03e41b\");\n",
       "  if (element == null) {\n",
       "    console.log(\"Bokeh: ERROR: autoload.js configured with elementid '4f0132c9-d178-432f-833f-d4bfdc03e41b' but no matching script tag was found. \")\n",
       "    return false;\n",
       "  }\n",
       "\n",
       "  var js_urls = [\"https://cdn.pydata.org/bokeh/release/bokeh-0.12.14.min.js\", \"https://cdn.pydata.org/bokeh/release/bokeh-widgets-0.12.14.min.js\", \"https://cdn.pydata.org/bokeh/release/bokeh-tables-0.12.14.min.js\", \"https://cdn.pydata.org/bokeh/release/bokeh-gl-0.12.14.min.js\"];\n",
       "\n",
       "  var inline_js = [\n",
       "    function(Bokeh) {\n",
       "      Bokeh.set_log_level(\"info\");\n",
       "    },\n",
       "    \n",
       "    function(Bokeh) {\n",
       "      \n",
       "    },\n",
       "    function(Bokeh) {\n",
       "      console.log(\"Bokeh: injecting CSS: https://cdn.pydata.org/bokeh/release/bokeh-0.12.14.min.css\");\n",
       "      Bokeh.embed.inject_css(\"https://cdn.pydata.org/bokeh/release/bokeh-0.12.14.min.css\");\n",
       "      console.log(\"Bokeh: injecting CSS: https://cdn.pydata.org/bokeh/release/bokeh-widgets-0.12.14.min.css\");\n",
       "      Bokeh.embed.inject_css(\"https://cdn.pydata.org/bokeh/release/bokeh-widgets-0.12.14.min.css\");\n",
       "      console.log(\"Bokeh: injecting CSS: https://cdn.pydata.org/bokeh/release/bokeh-tables-0.12.14.min.css\");\n",
       "      Bokeh.embed.inject_css(\"https://cdn.pydata.org/bokeh/release/bokeh-tables-0.12.14.min.css\");\n",
       "    }\n",
       "  ];\n",
       "\n",
       "  function run_inline_js() {\n",
       "    \n",
       "    if ((root.Bokeh !== undefined) || (force === true)) {\n",
       "      for (var i = 0; i < inline_js.length; i++) {\n",
       "        inline_js[i].call(root, root.Bokeh);\n",
       "      }if (force === true) {\n",
       "        display_loaded();\n",
       "      }} else if (Date.now() < root._bokeh_timeout) {\n",
       "      setTimeout(run_inline_js, 100);\n",
       "    } else if (!root._bokeh_failed_load) {\n",
       "      console.log(\"Bokeh: BokehJS failed to load within specified timeout.\");\n",
       "      root._bokeh_failed_load = true;\n",
       "    } else if (force !== true) {\n",
       "      var cell = $(document.getElementById(\"4f0132c9-d178-432f-833f-d4bfdc03e41b\")).parents('.cell').data().cell;\n",
       "      cell.output_area.append_execute_result(NB_LOAD_WARNING)\n",
       "    }\n",
       "\n",
       "  }\n",
       "\n",
       "  if (root._bokeh_is_loading === 0) {\n",
       "    console.log(\"Bokeh: BokehJS loaded, going straight to plotting\");\n",
       "    run_inline_js();\n",
       "  } else {\n",
       "    load_libs(js_urls, function() {\n",
       "      console.log(\"Bokeh: BokehJS plotting callback run at\", now());\n",
       "      run_inline_js();\n",
       "    });\n",
       "  }\n",
       "}(window));"
      ],
      "application/vnd.bokehjs_load.v0+json": "\n(function(root) {\n  function now() {\n    return new Date();\n  }\n\n  var force = true;\n\n  if (typeof (root._bokeh_onload_callbacks) === \"undefined\" || force === true) {\n    root._bokeh_onload_callbacks = [];\n    root._bokeh_is_loading = undefined;\n  }\n\n  \n\n  \n  if (typeof (root._bokeh_timeout) === \"undefined\" || force === true) {\n    root._bokeh_timeout = Date.now() + 5000;\n    root._bokeh_failed_load = false;\n  }\n\n  var NB_LOAD_WARNING = {'data': {'text/html':\n     \"<div style='background-color: #fdd'>\\n\"+\n     \"<p>\\n\"+\n     \"BokehJS does not appear to have successfully loaded. If loading BokehJS from CDN, this \\n\"+\n     \"may be due to a slow or bad network connection. Possible fixes:\\n\"+\n     \"</p>\\n\"+\n     \"<ul>\\n\"+\n     \"<li>re-rerun `output_notebook()` to attempt to load from CDN again, or</li>\\n\"+\n     \"<li>use INLINE resources instead, as so:</li>\\n\"+\n     \"</ul>\\n\"+\n     \"<code>\\n\"+\n     \"from bokeh.resources import INLINE\\n\"+\n     \"output_notebook(resources=INLINE)\\n\"+\n     \"</code>\\n\"+\n     \"</div>\"}};\n\n  function display_loaded() {\n    var el = document.getElementById(\"4f0132c9-d178-432f-833f-d4bfdc03e41b\");\n    if (el != null) {\n      el.textContent = \"BokehJS is loading...\";\n    }\n    if (root.Bokeh !== undefined) {\n      if (el != null) {\n        el.textContent = \"BokehJS \" + root.Bokeh.version + \" successfully loaded.\";\n      }\n    } else if (Date.now() < root._bokeh_timeout) {\n      setTimeout(display_loaded, 100)\n    }\n  }\n\n\n  function run_callbacks() {\n    try {\n      root._bokeh_onload_callbacks.forEach(function(callback) { callback() });\n    }\n    finally {\n      delete root._bokeh_onload_callbacks\n    }\n    console.info(\"Bokeh: all callbacks have finished\");\n  }\n\n  function load_libs(js_urls, callback) {\n    root._bokeh_onload_callbacks.push(callback);\n    if (root._bokeh_is_loading > 0) {\n      console.log(\"Bokeh: BokehJS is being loaded, scheduling callback at\", now());\n      return null;\n    }\n    if (js_urls == null || js_urls.length === 0) {\n      run_callbacks();\n      return null;\n    }\n    console.log(\"Bokeh: BokehJS not loaded, scheduling load and callback at\", now());\n    root._bokeh_is_loading = js_urls.length;\n    for (var i = 0; i < js_urls.length; i++) {\n      var url = js_urls[i];\n      var s = document.createElement('script');\n      s.src = url;\n      s.async = false;\n      s.onreadystatechange = s.onload = function() {\n        root._bokeh_is_loading--;\n        if (root._bokeh_is_loading === 0) {\n          console.log(\"Bokeh: all BokehJS libraries loaded\");\n          run_callbacks()\n        }\n      };\n      s.onerror = function() {\n        console.warn(\"failed to load library \" + url);\n      };\n      console.log(\"Bokeh: injecting script tag for BokehJS library: \", url);\n      document.getElementsByTagName(\"head\")[0].appendChild(s);\n    }\n  };var element = document.getElementById(\"4f0132c9-d178-432f-833f-d4bfdc03e41b\");\n  if (element == null) {\n    console.log(\"Bokeh: ERROR: autoload.js configured with elementid '4f0132c9-d178-432f-833f-d4bfdc03e41b' but no matching script tag was found. \")\n    return false;\n  }\n\n  var js_urls = [\"https://cdn.pydata.org/bokeh/release/bokeh-0.12.14.min.js\", \"https://cdn.pydata.org/bokeh/release/bokeh-widgets-0.12.14.min.js\", \"https://cdn.pydata.org/bokeh/release/bokeh-tables-0.12.14.min.js\", \"https://cdn.pydata.org/bokeh/release/bokeh-gl-0.12.14.min.js\"];\n\n  var inline_js = [\n    function(Bokeh) {\n      Bokeh.set_log_level(\"info\");\n    },\n    \n    function(Bokeh) {\n      \n    },\n    function(Bokeh) {\n      console.log(\"Bokeh: injecting CSS: https://cdn.pydata.org/bokeh/release/bokeh-0.12.14.min.css\");\n      Bokeh.embed.inject_css(\"https://cdn.pydata.org/bokeh/release/bokeh-0.12.14.min.css\");\n      console.log(\"Bokeh: injecting CSS: https://cdn.pydata.org/bokeh/release/bokeh-widgets-0.12.14.min.css\");\n      Bokeh.embed.inject_css(\"https://cdn.pydata.org/bokeh/release/bokeh-widgets-0.12.14.min.css\");\n      console.log(\"Bokeh: injecting CSS: https://cdn.pydata.org/bokeh/release/bokeh-tables-0.12.14.min.css\");\n      Bokeh.embed.inject_css(\"https://cdn.pydata.org/bokeh/release/bokeh-tables-0.12.14.min.css\");\n    }\n  ];\n\n  function run_inline_js() {\n    \n    if ((root.Bokeh !== undefined) || (force === true)) {\n      for (var i = 0; i < inline_js.length; i++) {\n        inline_js[i].call(root, root.Bokeh);\n      }if (force === true) {\n        display_loaded();\n      }} else if (Date.now() < root._bokeh_timeout) {\n      setTimeout(run_inline_js, 100);\n    } else if (!root._bokeh_failed_load) {\n      console.log(\"Bokeh: BokehJS failed to load within specified timeout.\");\n      root._bokeh_failed_load = true;\n    } else if (force !== true) {\n      var cell = $(document.getElementById(\"4f0132c9-d178-432f-833f-d4bfdc03e41b\")).parents('.cell').data().cell;\n      cell.output_area.append_execute_result(NB_LOAD_WARNING)\n    }\n\n  }\n\n  if (root._bokeh_is_loading === 0) {\n    console.log(\"Bokeh: BokehJS loaded, going straight to plotting\");\n    run_inline_js();\n  } else {\n    load_libs(js_urls, function() {\n      console.log(\"Bokeh: BokehJS plotting callback run at\", now());\n      run_inline_js();\n    });\n  }\n}(window));"
     },
     "metadata": {},
     "output_type": "display_data"
    }
   ],
   "source": [
    "from bokeh.io import push_notebook, show, output_notebook\n",
    "from bokeh.layouts import row\n",
    "from bokeh.plotting import figure\n",
    "from bokeh.models import HoverTool\n",
    "\n",
    "output_notebook()"
   ]
  },
  {
   "cell_type": "code",
   "execution_count": 16,
   "metadata": {
    "collapsed": true
   },
   "outputs": [],
   "source": [
    "hover = HoverTool(tooltips=[\n",
    "    (\"index\", \"$index\"),\n",
    "    (\"(x,y)\", \"($x, $y)\"),\n",
    "    (\"desc\", \"@desc\"),\n",
    "])\n",
    "opts = dict(plot_width=250, plot_height=250, min_border=0, tools=[hover])"
   ]
  },
  {
   "cell_type": "code",
   "execution_count": 19,
   "metadata": {},
   "outputs": [
    {
     "data": {
      "text/html": [
       "\n",
       "<div class=\"bk-root\">\n",
       "    <div class=\"bk-plotdiv\" id=\"bc3da20c-224a-425e-9507-e783e26fb0b4\"></div>\n",
       "</div>"
      ]
     },
     "metadata": {},
     "output_type": "display_data"
    },
    {
     "data": {
      "application/javascript": [
       "(function(root) {\n",
       "  function embed_document(root) {\n",
       "    \n",
       "  var docs_json = {\"8af549ab-398a-4922-ae80-93b1aec5b73d\":{\"roots\":{\"references\":[{\"attributes\":{\"fill_color\":{\"value\":\"#1f77b4\"},\"line_color\":{\"value\":\"#1f77b4\"},\"size\":{\"units\":\"screen\",\"value\":20},\"x\":{\"field\":\"x\"},\"y\":{\"field\":\"y\"}},\"id\":\"c4d4d8be-264a-4abb-8711-eb60785c8b17\",\"type\":\"Circle\"},{\"attributes\":{\"fill_alpha\":{\"value\":0.5},\"fill_color\":{\"value\":\"lightgrey\"},\"level\":\"overlay\",\"line_alpha\":{\"value\":1.0},\"line_color\":{\"value\":\"black\"},\"line_dash\":[4,4],\"line_width\":{\"value\":2},\"plot\":null,\"xs_units\":\"screen\",\"ys_units\":\"screen\"},\"id\":\"6fe78ed8-bde1-4eff-9fc9-a60d767fcf6c\",\"type\":\"PolyAnnotation\"},{\"attributes\":{},\"id\":\"6de6a7de-5840-43fe-8827-b9f72a57dc5f\",\"type\":\"BasicTickFormatter\"},{\"attributes\":{\"callback\":null},\"id\":\"0d4542b2-49e4-4d0c-8b41-151b7caeaa16\",\"type\":\"HoverTool\"},{\"attributes\":{\"fill_alpha\":{\"value\":0.1},\"fill_color\":{\"value\":\"#1f77b4\"},\"line_alpha\":{\"value\":0.1},\"line_color\":{\"value\":\"#1f77b4\"},\"size\":{\"units\":\"screen\",\"value\":20},\"x\":{\"field\":\"x\"},\"y\":{\"field\":\"y\"}},\"id\":\"a8f7b5da-829a-4965-91d7-bec67e41bdb6\",\"type\":\"Circle\"},{\"attributes\":{\"data_source\":{\"id\":\"ff79dff8-85c0-4702-9a13-a30210fcf4f3\",\"type\":\"ColumnDataSource\"},\"glyph\":{\"id\":\"162140ef-65b9-4122-9e88-8d7e4646bd44\",\"type\":\"Circle\"},\"hover_glyph\":null,\"muted_glyph\":null,\"nonselection_glyph\":{\"id\":\"a8f7b5da-829a-4965-91d7-bec67e41bdb6\",\"type\":\"Circle\"},\"selection_glyph\":null,\"view\":{\"id\":\"680ce2a9-3faf-4616-8932-e0852f8c91f3\",\"type\":\"CDSView\"}},\"id\":\"1e9556b6-3c66-44dd-b213-7b43bb59a6e8\",\"type\":\"GlyphRenderer\"},{\"attributes\":{},\"id\":\"0a778290-f2a4-4bf3-9dcb-7850ed22a863\",\"type\":\"BasicTickFormatter\"},{\"attributes\":{\"callback\":null,\"overlay\":{\"id\":\"6fe78ed8-bde1-4eff-9fc9-a60d767fcf6c\",\"type\":\"PolyAnnotation\"}},\"id\":\"2887f723-0b01-4379-ba59-3f864f435517\",\"type\":\"LassoSelectTool\"},{\"attributes\":{\"source\":{\"id\":\"ff79dff8-85c0-4702-9a13-a30210fcf4f3\",\"type\":\"ColumnDataSource\"}},\"id\":\"680ce2a9-3faf-4616-8932-e0852f8c91f3\",\"type\":\"CDSView\"},{\"attributes\":{\"callback\":null,\"overlay\":{\"id\":\"be4ba650-2de5-44fa-8b1a-2e75dc8e8f33\",\"type\":\"BoxAnnotation\"},\"renderers\":[{\"id\":\"a831deda-4432-4691-b3ae-a1b261daedca\",\"type\":\"GlyphRenderer\"}]},\"id\":\"0f9613bf-1589-4617-aa17-d378bf86ea8a\",\"type\":\"BoxSelectTool\"},{\"attributes\":{\"plot\":null,\"text\":\"\"},\"id\":\"2ddab8da-2246-43ea-a470-92219e0ed1fb\",\"type\":\"Title\"},{\"attributes\":{},\"id\":\"89d09be3-5306-4e67-a83a-17907ebde1dc\",\"type\":\"PanTool\"},{\"attributes\":{\"bottom_units\":\"screen\",\"fill_alpha\":{\"value\":0.5},\"fill_color\":{\"value\":\"lightgrey\"},\"left_units\":\"screen\",\"level\":\"overlay\",\"line_alpha\":{\"value\":1.0},\"line_color\":{\"value\":\"black\"},\"line_dash\":[4,4],\"line_width\":{\"value\":2},\"plot\":null,\"render_mode\":\"css\",\"right_units\":\"screen\",\"top_units\":\"screen\"},\"id\":\"be4ba650-2de5-44fa-8b1a-2e75dc8e8f33\",\"type\":\"BoxAnnotation\"},{\"attributes\":{},\"id\":\"1d9065a6-99f5-46b2-8b1b-cd7c7f7f0892\",\"type\":\"BasicTickFormatter\"},{\"attributes\":{\"dimension\":1,\"plot\":{\"id\":\"58242e37-3334-4bdd-92ac-10fc698a2fba\",\"subtype\":\"Figure\",\"type\":\"Plot\"},\"ticker\":{\"id\":\"0506be42-e86e-4da0-884e-ee30db0070a5\",\"type\":\"BasicTicker\"}},\"id\":\"cdde7778-c92c-4a5b-b631-056450877e99\",\"type\":\"Grid\"},{\"attributes\":{\"plot\":null,\"text\":\"\"},\"id\":\"6302d1da-adef-4b2c-835b-3be37a35101c\",\"type\":\"Title\"},{\"attributes\":{\"callback\":null},\"id\":\"25ec52ee-23eb-4e7c-9835-bf58682a89fb\",\"type\":\"DataRange1d\"},{\"attributes\":{},\"id\":\"11f7f4ff-6c17-4100-b7d4-cc4386620219\",\"type\":\"LinearScale\"},{\"attributes\":{},\"id\":\"0506be42-e86e-4da0-884e-ee30db0070a5\",\"type\":\"BasicTicker\"},{\"attributes\":{\"plot\":{\"id\":\"58242e37-3334-4bdd-92ac-10fc698a2fba\",\"subtype\":\"Figure\",\"type\":\"Plot\"},\"ticker\":{\"id\":\"752fb32f-41b6-4a2f-a2fc-3b10173ceb3b\",\"type\":\"BasicTicker\"}},\"id\":\"73cf2f80-fa6f-4dcd-aa48-d927bdc953c2\",\"type\":\"Grid\"},{\"attributes\":{\"fill_alpha\":{\"value\":0.1},\"fill_color\":{\"value\":\"#1f77b4\"},\"line_alpha\":{\"value\":0.1},\"line_color\":{\"value\":\"#1f77b4\"},\"size\":{\"units\":\"screen\",\"value\":20},\"x\":{\"field\":\"x\"},\"y\":{\"field\":\"y\"}},\"id\":\"9e064ce1-2e87-4f52-a3d5-eb15dc418939\",\"type\":\"Circle\"},{\"attributes\":{\"below\":[{\"id\":\"0d08482a-9498-47b2-baf5-5de44b63aa26\",\"type\":\"LinearAxis\"}],\"left\":[{\"id\":\"fd1b0fe2-35be-4dfb-9513-7237c229f193\",\"type\":\"LinearAxis\"}],\"renderers\":[{\"id\":\"0d08482a-9498-47b2-baf5-5de44b63aa26\",\"type\":\"LinearAxis\"},{\"id\":\"4d53e22b-ae9b-4453-ae2f-712d10330a14\",\"type\":\"Grid\"},{\"id\":\"fd1b0fe2-35be-4dfb-9513-7237c229f193\",\"type\":\"LinearAxis\"},{\"id\":\"87a774c1-f3ad-4449-a0e6-31bad6d35203\",\"type\":\"Grid\"},{\"id\":\"6fe78ed8-bde1-4eff-9fc9-a60d767fcf6c\",\"type\":\"PolyAnnotation\"},{\"id\":\"be4ba650-2de5-44fa-8b1a-2e75dc8e8f33\",\"type\":\"BoxAnnotation\"},{\"id\":\"a831deda-4432-4691-b3ae-a1b261daedca\",\"type\":\"GlyphRenderer\"}],\"title\":{\"id\":\"6302d1da-adef-4b2c-835b-3be37a35101c\",\"type\":\"Title\"},\"toolbar\":{\"id\":\"b2dbec88-b371-40eb-9559-547c552ec314\",\"type\":\"Toolbar\"},\"x_range\":{\"id\":\"87c6d4ef-477a-4ec6-9c13-e48714ec666b\",\"type\":\"DataRange1d\"},\"x_scale\":{\"id\":\"5b3c6b55-e69d-4c24-a22a-c289c7390bad\",\"type\":\"LinearScale\"},\"y_range\":{\"id\":\"25ec52ee-23eb-4e7c-9835-bf58682a89fb\",\"type\":\"DataRange1d\"},\"y_scale\":{\"id\":\"5ecc6e9c-c083-4033-b6c4-f34fbd541247\",\"type\":\"LinearScale\"}},\"id\":\"2ea40c96-8e05-48b9-a0ae-33f6eb498b2a\",\"subtype\":\"Figure\",\"type\":\"Plot\"},{\"attributes\":{\"callback\":null,\"column_names\":[\"x\",\"y\"],\"data\":{\"x\":[1,2,3],\"y\":[4,5,6]}},\"id\":\"ff79dff8-85c0-4702-9a13-a30210fcf4f3\",\"type\":\"ColumnDataSource\"},{\"attributes\":{\"source\":{\"id\":\"77c15310-56c6-4d44-afa9-d9adede0292e\",\"type\":\"ColumnDataSource\"}},\"id\":\"dc2a54c3-1bba-4c1f-b9b3-3026250b57fd\",\"type\":\"CDSView\"},{\"attributes\":{},\"id\":\"b1cedbb0-26a7-49cb-909a-516763e56ca0\",\"type\":\"BasicTickFormatter\"},{\"attributes\":{\"callback\":null,\"column_names\":[\"x\",\"y\"],\"data\":{\"x\":[1,2,3],\"y\":[4,5,6]}},\"id\":\"77c15310-56c6-4d44-afa9-d9adede0292e\",\"type\":\"ColumnDataSource\"},{\"attributes\":{\"fill_color\":{\"value\":\"#1f77b4\"},\"line_color\":{\"value\":\"#1f77b4\"},\"size\":{\"units\":\"screen\",\"value\":20},\"x\":{\"field\":\"x\"},\"y\":{\"field\":\"y\"}},\"id\":\"162140ef-65b9-4122-9e88-8d7e4646bd44\",\"type\":\"Circle\"},{\"attributes\":{},\"id\":\"5b3c6b55-e69d-4c24-a22a-c289c7390bad\",\"type\":\"LinearScale\"},{\"attributes\":{\"callback\":null},\"id\":\"f88a5ee2-57d5-4860-adf5-d2ef49cbc3c5\",\"type\":\"DataRange1d\"},{\"attributes\":{\"plot\":{\"id\":\"2ea40c96-8e05-48b9-a0ae-33f6eb498b2a\",\"subtype\":\"Figure\",\"type\":\"Plot\"},\"ticker\":{\"id\":\"9c972c0c-4469-4d40-8545-9c0c5a26d292\",\"type\":\"BasicTicker\"}},\"id\":\"4d53e22b-ae9b-4453-ae2f-712d10330a14\",\"type\":\"Grid\"},{\"attributes\":{\"formatter\":{\"id\":\"1d9065a6-99f5-46b2-8b1b-cd7c7f7f0892\",\"type\":\"BasicTickFormatter\"},\"plot\":{\"id\":\"58242e37-3334-4bdd-92ac-10fc698a2fba\",\"subtype\":\"Figure\",\"type\":\"Plot\"},\"ticker\":{\"id\":\"0506be42-e86e-4da0-884e-ee30db0070a5\",\"type\":\"BasicTicker\"}},\"id\":\"d4c60a4f-e600-45e4-a3f8-c67fa9d0b4d7\",\"type\":\"LinearAxis\"},{\"attributes\":{\"children\":[{\"id\":\"2ea40c96-8e05-48b9-a0ae-33f6eb498b2a\",\"subtype\":\"Figure\",\"type\":\"Plot\"},{\"id\":\"58242e37-3334-4bdd-92ac-10fc698a2fba\",\"subtype\":\"Figure\",\"type\":\"Plot\"}]},\"id\":\"5ef28dbd-e009-4fda-a7bd-4af15fe5172d\",\"type\":\"Row\"},{\"attributes\":{},\"id\":\"5ecc6e9c-c083-4033-b6c4-f34fbd541247\",\"type\":\"LinearScale\"},{\"attributes\":{\"below\":[{\"id\":\"e0585c9f-9d14-4767-9839-d122f5cd8e8b\",\"type\":\"LinearAxis\"}],\"left\":[{\"id\":\"d4c60a4f-e600-45e4-a3f8-c67fa9d0b4d7\",\"type\":\"LinearAxis\"}],\"min_border\":0,\"plot_height\":250,\"plot_width\":250,\"renderers\":[{\"id\":\"e0585c9f-9d14-4767-9839-d122f5cd8e8b\",\"type\":\"LinearAxis\"},{\"id\":\"73cf2f80-fa6f-4dcd-aa48-d927bdc953c2\",\"type\":\"Grid\"},{\"id\":\"d4c60a4f-e600-45e4-a3f8-c67fa9d0b4d7\",\"type\":\"LinearAxis\"},{\"id\":\"cdde7778-c92c-4a5b-b631-056450877e99\",\"type\":\"Grid\"},{\"id\":\"1e9556b6-3c66-44dd-b213-7b43bb59a6e8\",\"type\":\"GlyphRenderer\"}],\"title\":{\"id\":\"2ddab8da-2246-43ea-a470-92219e0ed1fb\",\"type\":\"Title\"},\"toolbar\":{\"id\":\"39e2314f-2cda-4409-9094-999132a4fb3a\",\"type\":\"Toolbar\"},\"x_range\":{\"id\":\"f88a5ee2-57d5-4860-adf5-d2ef49cbc3c5\",\"type\":\"DataRange1d\"},\"x_scale\":{\"id\":\"a25a9dd2-6251-4ee2-89c8-b0994f490d23\",\"type\":\"LinearScale\"},\"y_range\":{\"id\":\"200e527b-1ed1-45a9-bad4-63623266cd48\",\"type\":\"DataRange1d\"},\"y_scale\":{\"id\":\"11f7f4ff-6c17-4100-b7d4-cc4386620219\",\"type\":\"LinearScale\"}},\"id\":\"58242e37-3334-4bdd-92ac-10fc698a2fba\",\"subtype\":\"Figure\",\"type\":\"Plot\"},{\"attributes\":{},\"id\":\"a25a9dd2-6251-4ee2-89c8-b0994f490d23\",\"type\":\"LinearScale\"},{\"attributes\":{\"formatter\":{\"id\":\"0a778290-f2a4-4bf3-9dcb-7850ed22a863\",\"type\":\"BasicTickFormatter\"},\"plot\":{\"id\":\"2ea40c96-8e05-48b9-a0ae-33f6eb498b2a\",\"subtype\":\"Figure\",\"type\":\"Plot\"},\"ticker\":{\"id\":\"9c972c0c-4469-4d40-8545-9c0c5a26d292\",\"type\":\"BasicTicker\"}},\"id\":\"0d08482a-9498-47b2-baf5-5de44b63aa26\",\"type\":\"LinearAxis\"},{\"attributes\":{\"callback\":null},\"id\":\"87c6d4ef-477a-4ec6-9c13-e48714ec666b\",\"type\":\"DataRange1d\"},{\"attributes\":{\"callback\":null,\"tooltips\":[[\"index\",\"$index\"],[\"(x,y)\",\"($x, $y)\"],[\"desc\",\"@desc\"]]},\"id\":\"3e044eba-5356-44fc-8095-bacf6f813a4d\",\"type\":\"HoverTool\"},{\"attributes\":{\"active_drag\":{\"id\":\"2887f723-0b01-4379-ba59-3f864f435517\",\"type\":\"LassoSelectTool\"},\"active_inspect\":\"auto\",\"active_scroll\":\"auto\",\"active_tap\":\"auto\",\"tools\":[{\"id\":\"89d09be3-5306-4e67-a83a-17907ebde1dc\",\"type\":\"PanTool\"},{\"id\":\"2887f723-0b01-4379-ba59-3f864f435517\",\"type\":\"LassoSelectTool\"},{\"id\":\"0f9613bf-1589-4617-aa17-d378bf86ea8a\",\"type\":\"BoxSelectTool\"},{\"id\":\"0d4542b2-49e4-4d0c-8b41-151b7caeaa16\",\"type\":\"HoverTool\"}]},\"id\":\"b2dbec88-b371-40eb-9559-547c552ec314\",\"type\":\"Toolbar\"},{\"attributes\":{\"active_drag\":\"auto\",\"active_inspect\":\"auto\",\"active_scroll\":\"auto\",\"active_tap\":\"auto\",\"tools\":[{\"id\":\"3e044eba-5356-44fc-8095-bacf6f813a4d\",\"type\":\"HoverTool\"}]},\"id\":\"39e2314f-2cda-4409-9094-999132a4fb3a\",\"type\":\"Toolbar\"},{\"attributes\":{},\"id\":\"2c9c74c8-d134-4b71-899f-89f38b35691d\",\"type\":\"BasicTicker\"},{\"attributes\":{\"data_source\":{\"id\":\"77c15310-56c6-4d44-afa9-d9adede0292e\",\"type\":\"ColumnDataSource\"},\"glyph\":{\"id\":\"c4d4d8be-264a-4abb-8711-eb60785c8b17\",\"type\":\"Circle\"},\"hover_glyph\":null,\"muted_glyph\":null,\"nonselection_glyph\":{\"id\":\"9e064ce1-2e87-4f52-a3d5-eb15dc418939\",\"type\":\"Circle\"},\"selection_glyph\":null,\"view\":{\"id\":\"dc2a54c3-1bba-4c1f-b9b3-3026250b57fd\",\"type\":\"CDSView\"}},\"id\":\"a831deda-4432-4691-b3ae-a1b261daedca\",\"type\":\"GlyphRenderer\"},{\"attributes\":{},\"id\":\"9c972c0c-4469-4d40-8545-9c0c5a26d292\",\"type\":\"BasicTicker\"},{\"attributes\":{\"formatter\":{\"id\":\"b1cedbb0-26a7-49cb-909a-516763e56ca0\",\"type\":\"BasicTickFormatter\"},\"plot\":{\"id\":\"2ea40c96-8e05-48b9-a0ae-33f6eb498b2a\",\"subtype\":\"Figure\",\"type\":\"Plot\"},\"ticker\":{\"id\":\"2c9c74c8-d134-4b71-899f-89f38b35691d\",\"type\":\"BasicTicker\"}},\"id\":\"fd1b0fe2-35be-4dfb-9513-7237c229f193\",\"type\":\"LinearAxis\"},{\"attributes\":{},\"id\":\"752fb32f-41b6-4a2f-a2fc-3b10173ceb3b\",\"type\":\"BasicTicker\"},{\"attributes\":{\"callback\":null},\"id\":\"200e527b-1ed1-45a9-bad4-63623266cd48\",\"type\":\"DataRange1d\"},{\"attributes\":{\"dimension\":1,\"plot\":{\"id\":\"2ea40c96-8e05-48b9-a0ae-33f6eb498b2a\",\"subtype\":\"Figure\",\"type\":\"Plot\"},\"ticker\":{\"id\":\"2c9c74c8-d134-4b71-899f-89f38b35691d\",\"type\":\"BasicTicker\"}},\"id\":\"87a774c1-f3ad-4449-a0e6-31bad6d35203\",\"type\":\"Grid\"},{\"attributes\":{\"formatter\":{\"id\":\"6de6a7de-5840-43fe-8827-b9f72a57dc5f\",\"type\":\"BasicTickFormatter\"},\"plot\":{\"id\":\"58242e37-3334-4bdd-92ac-10fc698a2fba\",\"subtype\":\"Figure\",\"type\":\"Plot\"},\"ticker\":{\"id\":\"752fb32f-41b6-4a2f-a2fc-3b10173ceb3b\",\"type\":\"BasicTicker\"}},\"id\":\"e0585c9f-9d14-4767-9839-d122f5cd8e8b\",\"type\":\"LinearAxis\"}],\"root_ids\":[\"5ef28dbd-e009-4fda-a7bd-4af15fe5172d\"]},\"title\":\"Bokeh Application\",\"version\":\"0.12.14\"}};\n",
       "  var render_items = [{\"docid\":\"8af549ab-398a-4922-ae80-93b1aec5b73d\",\"elementid\":\"bc3da20c-224a-425e-9507-e783e26fb0b4\",\"modelid\":\"5ef28dbd-e009-4fda-a7bd-4af15fe5172d\",\"notebook_comms_target\":\"2aceaca0-2dc2-40e8-81d1-cf5146283318\"}];\n",
       "  root.Bokeh.embed.embed_items_notebook(docs_json, render_items);\n",
       "\n",
       "  }\n",
       "  if (root.Bokeh !== undefined) {\n",
       "    embed_document(root);\n",
       "  } else {\n",
       "    var attempts = 0;\n",
       "    var timer = setInterval(function(root) {\n",
       "      if (root.Bokeh !== undefined) {\n",
       "        embed_document(root);\n",
       "        clearInterval(timer);\n",
       "      }\n",
       "      attempts++;\n",
       "      if (attempts > 100) {\n",
       "        console.log(\"Bokeh: ERROR: Unable to run BokehJS code because BokehJS library is missing\")\n",
       "        clearInterval(timer);\n",
       "      }\n",
       "    }, 10, root)\n",
       "  }\n",
       "})(window);"
      ],
      "application/vnd.bokehjs_exec.v0+json": ""
     },
     "metadata": {
      "application/vnd.bokehjs_exec.v0+json": {
       "id": "5ef28dbd-e009-4fda-a7bd-4af15fe5172d"
      }
     },
     "output_type": "display_data"
    }
   ],
   "source": [
    "p1 = figure(tools=\"pan,lasso_select,box_select, hover\", active_drag=\"lasso_select\")\n",
    "#p1 = figure(**opts)\n",
    "r1 = p1.circle([1,2,3], [4,5,6], size=20)\n",
    "\n",
    "p2 = figure(**opts)\n",
    "r2 = p2.circle([1,2,3], [4,5,6], size=20)\n",
    "\n",
    "# get a handle to update the shown cell with\n",
    "t = show(row(p1, p2), notebook_handle=True)"
   ]
  },
  {
   "cell_type": "code",
   "execution_count": 4,
   "metadata": {},
   "outputs": [
    {
     "data": {
      "text/html": [
       "<p><code>&lt;Bokeh Notebook handle for <strong>In[3]</strong>&gt;</code></p>"
      ],
      "text/plain": [
       "<bokeh.io.notebook.CommsHandle at 0x7f6c8de05e48>"
      ]
     },
     "execution_count": 4,
     "metadata": {},
     "output_type": "execute_result"
    }
   ],
   "source": [
    "# the comms handle repr show what cell it can be used to update\n",
    "t"
   ]
  },
  {
   "cell_type": "code",
   "execution_count": 5,
   "metadata": {
    "collapsed": true
   },
   "outputs": [],
   "source": [
    "# this will update the left plot circle color with an explicit handle\n",
    "r1.glyph.fill_color = \"white\"\n",
    "push_notebook(handle=t)"
   ]
  },
  {
   "cell_type": "code",
   "execution_count": 6,
   "metadata": {
    "collapsed": true
   },
   "outputs": [],
   "source": [
    "# and this will update the right plot circle color because it was in the last shown cell\n",
    "r2.glyph.fill_color = \"pink\"\n",
    "push_notebook()"
   ]
  },
  {
   "cell_type": "code",
   "execution_count": 7,
   "metadata": {},
   "outputs": [
    {
     "data": {
      "text/html": [
       "\n",
       "<div class=\"bk-root\">\n",
       "    <div class=\"bk-plotdiv\" id=\"e4b27d25-0c29-4c78-b427-573aefec6a54\"></div>\n",
       "</div>"
      ]
     },
     "metadata": {},
     "output_type": "display_data"
    },
    {
     "data": {
      "application/javascript": [
       "(function(root) {\n",
       "  function embed_document(root) {\n",
       "    \n",
       "  var docs_json = {\"0d6f3b90-fa76-4289-9bf9-beac4eaa9c1f\":{\"roots\":{\"references\":[{\"attributes\":{\"plot\":null,\"text\":\"\"},\"id\":\"09f0c870-e01e-4355-9a74-b4e82435bf5d\",\"type\":\"Title\"},{\"attributes\":{},\"id\":\"d8950e7d-29cf-44a7-98f2-f7a45fc59257\",\"type\":\"WheelZoomTool\"},{\"attributes\":{\"data_source\":{\"id\":\"bbc0c0be-c747-4507-a4a5-e322d903874e\",\"type\":\"ColumnDataSource\"},\"glyph\":{\"id\":\"491f9b6b-fb7f-4741-a5a7-a30e43954825\",\"type\":\"Circle\"},\"hover_glyph\":null,\"muted_glyph\":null,\"nonselection_glyph\":{\"id\":\"11de8bae-f644-4d83-a213-3abe4789ed88\",\"type\":\"Circle\"},\"selection_glyph\":null,\"view\":{\"id\":\"ae61f376-6c88-4aa4-bc8b-eae34860c0c8\",\"type\":\"CDSView\"}},\"id\":\"43e3554b-a055-4481-8ae0-cf400d584cd0\",\"type\":\"GlyphRenderer\"},{\"attributes\":{\"plot\":{\"id\":\"810cb02f-1e56-4772-ac2e-0edf84ac915d\",\"subtype\":\"Figure\",\"type\":\"Plot\"},\"ticker\":{\"id\":\"13166785-1eb2-4473-a942-de6c6512098d\",\"type\":\"BasicTicker\"}},\"id\":\"218a8356-b050-4d4c-bcb3-96bd0151c272\",\"type\":\"Grid\"},{\"attributes\":{\"overlay\":{\"id\":\"ffc54dbc-d951-4b4d-9566-9cbceeaa57ad\",\"type\":\"BoxAnnotation\"}},\"id\":\"a468b7ae-c0cc-4386-a930-9d81be8e7cf3\",\"type\":\"BoxZoomTool\"},{\"attributes\":{\"active_drag\":\"auto\",\"active_inspect\":\"auto\",\"active_scroll\":\"auto\",\"active_tap\":\"auto\",\"tools\":[{\"id\":\"f437e930-6ac2-4d43-aaf4-51986a4874b5\",\"type\":\"PanTool\"},{\"id\":\"d8950e7d-29cf-44a7-98f2-f7a45fc59257\",\"type\":\"WheelZoomTool\"},{\"id\":\"a468b7ae-c0cc-4386-a930-9d81be8e7cf3\",\"type\":\"BoxZoomTool\"},{\"id\":\"ff390281-1871-470c-b0da-e92cf35d037b\",\"type\":\"SaveTool\"},{\"id\":\"af407a47-a6e7-415e-bbe8-235812d14907\",\"type\":\"ResetTool\"},{\"id\":\"c57502bb-8fc3-4571-ace9-3c54be059663\",\"type\":\"HelpTool\"}]},\"id\":\"6de5bae2-f917-468c-a896-0c75ccbc8280\",\"type\":\"Toolbar\"},{\"attributes\":{\"dimension\":1,\"plot\":{\"id\":\"810cb02f-1e56-4772-ac2e-0edf84ac915d\",\"subtype\":\"Figure\",\"type\":\"Plot\"},\"ticker\":{\"id\":\"d41e085f-91d6-4c86-92cf-ab042404744f\",\"type\":\"BasicTicker\"}},\"id\":\"068f7e58-6479-4ff3-95b1-e6d05d0c506b\",\"type\":\"Grid\"},{\"attributes\":{},\"id\":\"ff390281-1871-470c-b0da-e92cf35d037b\",\"type\":\"SaveTool\"},{\"attributes\":{\"callback\":null},\"id\":\"3ce2e534-f688-4b05-b596-3a0e046a36bb\",\"type\":\"DataRange1d\"},{\"attributes\":{},\"id\":\"af407a47-a6e7-415e-bbe8-235812d14907\",\"type\":\"ResetTool\"},{\"attributes\":{\"source\":{\"id\":\"bbc0c0be-c747-4507-a4a5-e322d903874e\",\"type\":\"ColumnDataSource\"}},\"id\":\"ae61f376-6c88-4aa4-bc8b-eae34860c0c8\",\"type\":\"CDSView\"},{\"attributes\":{},\"id\":\"c57502bb-8fc3-4571-ace9-3c54be059663\",\"type\":\"HelpTool\"},{\"attributes\":{\"callback\":null},\"id\":\"e8a7aa83-386c-46be-950c-a38959c29cc0\",\"type\":\"DataRange1d\"},{\"attributes\":{},\"id\":\"9755a4dd-9097-41af-b651-c3bd8adc2e5e\",\"type\":\"LinearScale\"},{\"attributes\":{\"below\":[{\"id\":\"da930986-88a5-41f3-8a04-45e52c746572\",\"type\":\"LinearAxis\"}],\"left\":[{\"id\":\"dfaeb84f-c72c-485f-89b2-3d573cf8f40a\",\"type\":\"LinearAxis\"}],\"min_border\":0,\"plot_height\":250,\"plot_width\":250,\"renderers\":[{\"id\":\"da930986-88a5-41f3-8a04-45e52c746572\",\"type\":\"LinearAxis\"},{\"id\":\"218a8356-b050-4d4c-bcb3-96bd0151c272\",\"type\":\"Grid\"},{\"id\":\"dfaeb84f-c72c-485f-89b2-3d573cf8f40a\",\"type\":\"LinearAxis\"},{\"id\":\"068f7e58-6479-4ff3-95b1-e6d05d0c506b\",\"type\":\"Grid\"},{\"id\":\"ffc54dbc-d951-4b4d-9566-9cbceeaa57ad\",\"type\":\"BoxAnnotation\"},{\"id\":\"43e3554b-a055-4481-8ae0-cf400d584cd0\",\"type\":\"GlyphRenderer\"}],\"title\":{\"id\":\"09f0c870-e01e-4355-9a74-b4e82435bf5d\",\"type\":\"Title\"},\"toolbar\":{\"id\":\"6de5bae2-f917-468c-a896-0c75ccbc8280\",\"type\":\"Toolbar\"},\"x_range\":{\"id\":\"3ce2e534-f688-4b05-b596-3a0e046a36bb\",\"type\":\"DataRange1d\"},\"x_scale\":{\"id\":\"9755a4dd-9097-41af-b651-c3bd8adc2e5e\",\"type\":\"LinearScale\"},\"y_range\":{\"id\":\"e8a7aa83-386c-46be-950c-a38959c29cc0\",\"type\":\"DataRange1d\"},\"y_scale\":{\"id\":\"fe3ef374-7a53-4e11-aa26-dde6901391bc\",\"type\":\"LinearScale\"}},\"id\":\"810cb02f-1e56-4772-ac2e-0edf84ac915d\",\"subtype\":\"Figure\",\"type\":\"Plot\"},{\"attributes\":{},\"id\":\"fe3ef374-7a53-4e11-aa26-dde6901391bc\",\"type\":\"LinearScale\"},{\"attributes\":{},\"id\":\"6ddf9da4-28b1-449b-967f-e6a57946db23\",\"type\":\"BasicTickFormatter\"},{\"attributes\":{},\"id\":\"6234a8cf-1e58-4835-9049-e603c9539911\",\"type\":\"BasicTickFormatter\"},{\"attributes\":{\"formatter\":{\"id\":\"6234a8cf-1e58-4835-9049-e603c9539911\",\"type\":\"BasicTickFormatter\"},\"plot\":{\"id\":\"810cb02f-1e56-4772-ac2e-0edf84ac915d\",\"subtype\":\"Figure\",\"type\":\"Plot\"},\"ticker\":{\"id\":\"13166785-1eb2-4473-a942-de6c6512098d\",\"type\":\"BasicTicker\"}},\"id\":\"da930986-88a5-41f3-8a04-45e52c746572\",\"type\":\"LinearAxis\"},{\"attributes\":{\"callback\":null,\"column_names\":[\"x\",\"y\"],\"data\":{\"x\":[1,2,3],\"y\":[4,5,6]}},\"id\":\"bbc0c0be-c747-4507-a4a5-e322d903874e\",\"type\":\"ColumnDataSource\"},{\"attributes\":{},\"id\":\"13166785-1eb2-4473-a942-de6c6512098d\",\"type\":\"BasicTicker\"},{\"attributes\":{\"bottom_units\":\"screen\",\"fill_alpha\":{\"value\":0.5},\"fill_color\":{\"value\":\"lightgrey\"},\"left_units\":\"screen\",\"level\":\"overlay\",\"line_alpha\":{\"value\":1.0},\"line_color\":{\"value\":\"black\"},\"line_dash\":[4,4],\"line_width\":{\"value\":2},\"plot\":null,\"render_mode\":\"css\",\"right_units\":\"screen\",\"top_units\":\"screen\"},\"id\":\"ffc54dbc-d951-4b4d-9566-9cbceeaa57ad\",\"type\":\"BoxAnnotation\"},{\"attributes\":{},\"id\":\"d41e085f-91d6-4c86-92cf-ab042404744f\",\"type\":\"BasicTicker\"},{\"attributes\":{\"fill_color\":{\"value\":\"#1f77b4\"},\"line_color\":{\"value\":\"#1f77b4\"},\"size\":{\"units\":\"screen\",\"value\":20},\"x\":{\"field\":\"x\"},\"y\":{\"field\":\"y\"}},\"id\":\"491f9b6b-fb7f-4741-a5a7-a30e43954825\",\"type\":\"Circle\"},{\"attributes\":{\"formatter\":{\"id\":\"6ddf9da4-28b1-449b-967f-e6a57946db23\",\"type\":\"BasicTickFormatter\"},\"plot\":{\"id\":\"810cb02f-1e56-4772-ac2e-0edf84ac915d\",\"subtype\":\"Figure\",\"type\":\"Plot\"},\"ticker\":{\"id\":\"d41e085f-91d6-4c86-92cf-ab042404744f\",\"type\":\"BasicTicker\"}},\"id\":\"dfaeb84f-c72c-485f-89b2-3d573cf8f40a\",\"type\":\"LinearAxis\"},{\"attributes\":{\"fill_alpha\":{\"value\":0.1},\"fill_color\":{\"value\":\"#1f77b4\"},\"line_alpha\":{\"value\":0.1},\"line_color\":{\"value\":\"#1f77b4\"},\"size\":{\"units\":\"screen\",\"value\":20},\"x\":{\"field\":\"x\"},\"y\":{\"field\":\"y\"}},\"id\":\"11de8bae-f644-4d83-a213-3abe4789ed88\",\"type\":\"Circle\"},{\"attributes\":{},\"id\":\"f437e930-6ac2-4d43-aaf4-51986a4874b5\",\"type\":\"PanTool\"}],\"root_ids\":[\"810cb02f-1e56-4772-ac2e-0edf84ac915d\"]},\"title\":\"Bokeh Application\",\"version\":\"0.12.14\"}};\n",
       "  var render_items = [{\"docid\":\"0d6f3b90-fa76-4289-9bf9-beac4eaa9c1f\",\"elementid\":\"e4b27d25-0c29-4c78-b427-573aefec6a54\",\"modelid\":\"810cb02f-1e56-4772-ac2e-0edf84ac915d\",\"notebook_comms_target\":\"422fc363-92fe-467d-a3cb-c24f2d27f3a2\"}];\n",
       "  root.Bokeh.embed.embed_items_notebook(docs_json, render_items);\n",
       "\n",
       "  }\n",
       "  if (root.Bokeh !== undefined) {\n",
       "    embed_document(root);\n",
       "  } else {\n",
       "    var attempts = 0;\n",
       "    var timer = setInterval(function(root) {\n",
       "      if (root.Bokeh !== undefined) {\n",
       "        embed_document(root);\n",
       "        clearInterval(timer);\n",
       "      }\n",
       "      attempts++;\n",
       "      if (attempts > 100) {\n",
       "        console.log(\"Bokeh: ERROR: Unable to run BokehJS code because BokehJS library is missing\")\n",
       "        clearInterval(timer);\n",
       "      }\n",
       "    }, 10, root)\n",
       "  }\n",
       "})(window);"
      ],
      "application/vnd.bokehjs_exec.v0+json": ""
     },
     "metadata": {
      "application/vnd.bokehjs_exec.v0+json": {
       "id": "810cb02f-1e56-4772-ac2e-0edf84ac915d"
      }
     },
     "output_type": "display_data"
    }
   ],
   "source": [
    "p3 = figure(**opts)\n",
    "r3 = p3.circle([1,2,3], [4,5,6], size=20)\n",
    "\n",
    "# get a handle to update the shown cell with\n",
    "t2 = show(p3, notebook_handle=True) "
   ]
  },
  {
   "cell_type": "code",
   "execution_count": 8,
   "metadata": {},
   "outputs": [
    {
     "data": {
      "text/html": [
       "<p><code>&lt;Bokeh Notebook handle for <strong>In[7]</strong>&gt;</code></p>"
      ],
      "text/plain": [
       "<bokeh.io.notebook.CommsHandle at 0x7f6c8dddcda0>"
      ]
     },
     "execution_count": 8,
     "metadata": {},
     "output_type": "execute_result"
    }
   ],
   "source": [
    "# show which cell t2 handles\n",
    "t2"
   ]
  },
  {
   "cell_type": "code",
   "execution_count": 9,
   "metadata": {
    "collapsed": true
   },
   "outputs": [],
   "source": [
    "# this updates the immediately previous cell with an explicit handle\n",
    "r3.glyph.fill_color = \"orange\"\n",
    "push_notebook(handle=t2)"
   ]
  },
  {
   "cell_type": "code",
   "execution_count": 10,
   "metadata": {
    "collapsed": true
   },
   "outputs": [],
   "source": [
    "# this updates the left plot at the top with an explicit handle\n",
    "r1.glyph.fill_color = \"orange\"\n",
    "push_notebook(handle=t)"
   ]
  },
  {
   "cell_type": "code",
   "execution_count": 11,
   "metadata": {},
   "outputs": [
    {
     "data": {
      "text/html": [
       "\n",
       "<div class=\"bk-root\">\n",
       "    <div class=\"bk-plotdiv\" id=\"359e2c33-6e29-4a5b-bb10-aeadd966b0b0\"></div>\n",
       "</div>"
      ]
     },
     "metadata": {},
     "output_type": "display_data"
    },
    {
     "data": {
      "application/javascript": [
       "(function(root) {\n",
       "  function embed_document(root) {\n",
       "    \n",
       "  var docs_json = {\"8d168209-8a22-49a8-9f55-1cfc0916e2df\":{\"roots\":{\"references\":[{\"attributes\":{\"fill_alpha\":{\"value\":0.1},\"fill_color\":{\"value\":\"#1f77b4\"},\"line_alpha\":{\"value\":0.1},\"line_color\":{\"value\":\"#1f77b4\"},\"size\":{\"units\":\"screen\",\"value\":20},\"x\":{\"field\":\"x\"},\"y\":{\"field\":\"y\"}},\"id\":\"6a423550-6eef-4efb-8d13-1cdb7b11c666\",\"type\":\"Circle\"},{\"attributes\":{},\"id\":\"110377c9-9797-4b9b-839f-d3d304bbc12b\",\"type\":\"BasicTickFormatter\"},{\"attributes\":{\"bottom_units\":\"screen\",\"fill_alpha\":{\"value\":0.5},\"fill_color\":{\"value\":\"lightgrey\"},\"left_units\":\"screen\",\"level\":\"overlay\",\"line_alpha\":{\"value\":1.0},\"line_color\":{\"value\":\"black\"},\"line_dash\":[4,4],\"line_width\":{\"value\":2},\"plot\":null,\"render_mode\":\"css\",\"right_units\":\"screen\",\"top_units\":\"screen\"},\"id\":\"33666c73-de3f-4816-9af3-c8f3a9e0bced\",\"type\":\"BoxAnnotation\"},{\"attributes\":{},\"id\":\"5b28afb8-cc61-42f6-a51d-67aea8364f8f\",\"type\":\"PanTool\"},{\"attributes\":{\"source\":{\"id\":\"1b8ea100-e7be-4181-8c9c-feb68969b66e\",\"type\":\"ColumnDataSource\"}},\"id\":\"be7a89d1-e59f-4caf-b60a-eb2bdea516e3\",\"type\":\"CDSView\"},{\"attributes\":{},\"id\":\"6c606da7-2ae7-4412-acbb-07648524277b\",\"type\":\"LinearScale\"},{\"attributes\":{},\"id\":\"6792732b-d367-40bc-89a7-d8a1111c12af\",\"type\":\"WheelZoomTool\"},{\"attributes\":{\"callback\":null,\"column_names\":[\"x\",\"y\"],\"data\":{\"x\":[1,2,3],\"y\":[4,5,6]}},\"id\":\"1b8ea100-e7be-4181-8c9c-feb68969b66e\",\"type\":\"ColumnDataSource\"},{\"attributes\":{\"plot\":{\"id\":\"509a871a-10a7-4711-bc8f-b9fbd52f9177\",\"subtype\":\"Figure\",\"type\":\"Plot\"},\"ticker\":{\"id\":\"3c954638-975e-4702-876a-cd8b599c6fbc\",\"type\":\"BasicTicker\"}},\"id\":\"da981645-2806-44d2-b4cb-31e4e81ace5d\",\"type\":\"Grid\"},{\"attributes\":{\"overlay\":{\"id\":\"33666c73-de3f-4816-9af3-c8f3a9e0bced\",\"type\":\"BoxAnnotation\"}},\"id\":\"b0d810bb-c280-4150-a6e4-2dcd189392ae\",\"type\":\"BoxZoomTool\"},{\"attributes\":{},\"id\":\"3c954638-975e-4702-876a-cd8b599c6fbc\",\"type\":\"BasicTicker\"},{\"attributes\":{},\"id\":\"c2e58ab7-02bd-4864-b1d0-d9966f0bd30a\",\"type\":\"SaveTool\"},{\"attributes\":{\"data_source\":{\"id\":\"1b8ea100-e7be-4181-8c9c-feb68969b66e\",\"type\":\"ColumnDataSource\"},\"glyph\":{\"id\":\"7e033bf3-dc05-4f77-85ff-c257ffdb0b5c\",\"type\":\"Circle\"},\"hover_glyph\":null,\"muted_glyph\":null,\"nonselection_glyph\":{\"id\":\"6a423550-6eef-4efb-8d13-1cdb7b11c666\",\"type\":\"Circle\"},\"selection_glyph\":null,\"view\":{\"id\":\"be7a89d1-e59f-4caf-b60a-eb2bdea516e3\",\"type\":\"CDSView\"}},\"id\":\"513fc887-9a3a-4da1-9668-b15323b5d24f\",\"type\":\"GlyphRenderer\"},{\"attributes\":{},\"id\":\"407c42e2-7e3e-40a7-a1c4-bc4026e10156\",\"type\":\"ResetTool\"},{\"attributes\":{\"formatter\":{\"id\":\"110377c9-9797-4b9b-839f-d3d304bbc12b\",\"type\":\"BasicTickFormatter\"},\"plot\":{\"id\":\"509a871a-10a7-4711-bc8f-b9fbd52f9177\",\"subtype\":\"Figure\",\"type\":\"Plot\"},\"ticker\":{\"id\":\"3c954638-975e-4702-876a-cd8b599c6fbc\",\"type\":\"BasicTicker\"}},\"id\":\"058e9e83-8515-41aa-af80-6cab461d6b1b\",\"type\":\"LinearAxis\"},{\"attributes\":{},\"id\":\"cb80ef15-f7e8-43bd-b4d4-7e0d21f95df5\",\"type\":\"HelpTool\"},{\"attributes\":{\"callback\":null},\"id\":\"1c5a945e-94cb-4e1e-a7f7-74b27a8e48f6\",\"type\":\"DataRange1d\"},{\"attributes\":{\"active_drag\":\"auto\",\"active_inspect\":\"auto\",\"active_scroll\":\"auto\",\"active_tap\":\"auto\",\"tools\":[{\"id\":\"5b28afb8-cc61-42f6-a51d-67aea8364f8f\",\"type\":\"PanTool\"},{\"id\":\"6792732b-d367-40bc-89a7-d8a1111c12af\",\"type\":\"WheelZoomTool\"},{\"id\":\"b0d810bb-c280-4150-a6e4-2dcd189392ae\",\"type\":\"BoxZoomTool\"},{\"id\":\"c2e58ab7-02bd-4864-b1d0-d9966f0bd30a\",\"type\":\"SaveTool\"},{\"id\":\"407c42e2-7e3e-40a7-a1c4-bc4026e10156\",\"type\":\"ResetTool\"},{\"id\":\"cb80ef15-f7e8-43bd-b4d4-7e0d21f95df5\",\"type\":\"HelpTool\"}]},\"id\":\"a0251802-6d72-4c9f-b18a-da1d3616c218\",\"type\":\"Toolbar\"},{\"attributes\":{\"fill_color\":{\"value\":\"pink\"},\"line_color\":{\"value\":\"#1f77b4\"},\"size\":{\"units\":\"screen\",\"value\":20},\"x\":{\"field\":\"x\"},\"y\":{\"field\":\"y\"}},\"id\":\"7e033bf3-dc05-4f77-85ff-c257ffdb0b5c\",\"type\":\"Circle\"},{\"attributes\":{\"plot\":null,\"text\":\"\"},\"id\":\"d3b2ebf6-9db3-4338-bbdc-ab84a62c2684\",\"type\":\"Title\"},{\"attributes\":{\"callback\":null},\"id\":\"dda38971-279a-4585-b343-fbb774ca475f\",\"type\":\"DataRange1d\"},{\"attributes\":{\"below\":[{\"id\":\"058e9e83-8515-41aa-af80-6cab461d6b1b\",\"type\":\"LinearAxis\"}],\"left\":[{\"id\":\"80d12526-7fe1-4809-8b22-e828f1f416d7\",\"type\":\"LinearAxis\"}],\"min_border\":0,\"plot_height\":250,\"plot_width\":250,\"renderers\":[{\"id\":\"058e9e83-8515-41aa-af80-6cab461d6b1b\",\"type\":\"LinearAxis\"},{\"id\":\"da981645-2806-44d2-b4cb-31e4e81ace5d\",\"type\":\"Grid\"},{\"id\":\"80d12526-7fe1-4809-8b22-e828f1f416d7\",\"type\":\"LinearAxis\"},{\"id\":\"58283f84-130a-4579-b18a-73030cad9571\",\"type\":\"Grid\"},{\"id\":\"33666c73-de3f-4816-9af3-c8f3a9e0bced\",\"type\":\"BoxAnnotation\"},{\"id\":\"513fc887-9a3a-4da1-9668-b15323b5d24f\",\"type\":\"GlyphRenderer\"}],\"title\":{\"id\":\"d3b2ebf6-9db3-4338-bbdc-ab84a62c2684\",\"type\":\"Title\"},\"toolbar\":{\"id\":\"a0251802-6d72-4c9f-b18a-da1d3616c218\",\"type\":\"Toolbar\"},\"x_range\":{\"id\":\"1c5a945e-94cb-4e1e-a7f7-74b27a8e48f6\",\"type\":\"DataRange1d\"},\"x_scale\":{\"id\":\"b4500de4-bdf9-47ce-a4ae-37241faba21a\",\"type\":\"LinearScale\"},\"y_range\":{\"id\":\"dda38971-279a-4585-b343-fbb774ca475f\",\"type\":\"DataRange1d\"},\"y_scale\":{\"id\":\"6c606da7-2ae7-4412-acbb-07648524277b\",\"type\":\"LinearScale\"}},\"id\":\"509a871a-10a7-4711-bc8f-b9fbd52f9177\",\"subtype\":\"Figure\",\"type\":\"Plot\"},{\"attributes\":{},\"id\":\"d9ef08ab-7a63-4ce9-97d0-866a532b0427\",\"type\":\"BasicTickFormatter\"},{\"attributes\":{},\"id\":\"b4500de4-bdf9-47ce-a4ae-37241faba21a\",\"type\":\"LinearScale\"},{\"attributes\":{\"formatter\":{\"id\":\"d9ef08ab-7a63-4ce9-97d0-866a532b0427\",\"type\":\"BasicTickFormatter\"},\"plot\":{\"id\":\"509a871a-10a7-4711-bc8f-b9fbd52f9177\",\"subtype\":\"Figure\",\"type\":\"Plot\"},\"ticker\":{\"id\":\"913431f8-213d-491f-8e05-709fe5fae6bf\",\"type\":\"BasicTicker\"}},\"id\":\"80d12526-7fe1-4809-8b22-e828f1f416d7\",\"type\":\"LinearAxis\"},{\"attributes\":{},\"id\":\"913431f8-213d-491f-8e05-709fe5fae6bf\",\"type\":\"BasicTicker\"},{\"attributes\":{\"dimension\":1,\"plot\":{\"id\":\"509a871a-10a7-4711-bc8f-b9fbd52f9177\",\"subtype\":\"Figure\",\"type\":\"Plot\"},\"ticker\":{\"id\":\"913431f8-213d-491f-8e05-709fe5fae6bf\",\"type\":\"BasicTicker\"}},\"id\":\"58283f84-130a-4579-b18a-73030cad9571\",\"type\":\"Grid\"}],\"root_ids\":[\"509a871a-10a7-4711-bc8f-b9fbd52f9177\"]},\"title\":\"Bokeh Application\",\"version\":\"0.12.14\"}};\n",
       "  var render_items = [{\"docid\":\"8d168209-8a22-49a8-9f55-1cfc0916e2df\",\"elementid\":\"359e2c33-6e29-4a5b-bb10-aeadd966b0b0\",\"modelid\":\"509a871a-10a7-4711-bc8f-b9fbd52f9177\",\"notebook_comms_target\":\"9b69ae85-89ed-46c3-a446-14db6c4e0dec\"}];\n",
       "  root.Bokeh.embed.embed_items_notebook(docs_json, render_items);\n",
       "\n",
       "  }\n",
       "  if (root.Bokeh !== undefined) {\n",
       "    embed_document(root);\n",
       "  } else {\n",
       "    var attempts = 0;\n",
       "    var timer = setInterval(function(root) {\n",
       "      if (root.Bokeh !== undefined) {\n",
       "        embed_document(root);\n",
       "        clearInterval(timer);\n",
       "      }\n",
       "      attempts++;\n",
       "      if (attempts > 100) {\n",
       "        console.log(\"Bokeh: ERROR: Unable to run BokehJS code because BokehJS library is missing\")\n",
       "        clearInterval(timer);\n",
       "      }\n",
       "    }, 10, root)\n",
       "  }\n",
       "})(window);"
      ],
      "application/vnd.bokehjs_exec.v0+json": ""
     },
     "metadata": {
      "application/vnd.bokehjs_exec.v0+json": {
       "id": "509a871a-10a7-4711-bc8f-b9fbd52f9177"
      }
     },
     "output_type": "display_data"
    }
   ],
   "source": [
    "# get a handle to update the shown cell with\n",
    "t3 = show(p2, notebook_handle=True)"
   ]
  },
  {
   "cell_type": "code",
   "execution_count": 12,
   "metadata": {
    "collapsed": true
   },
   "outputs": [],
   "source": [
    "# this will update the immediately previous plot circle color because it was in the last shown cell\n",
    "r2.glyph.fill_color = \"red\"\n",
    "push_notebook()"
   ]
  },
  {
   "cell_type": "code",
   "execution_count": 13,
   "metadata": {
    "collapsed": true
   },
   "outputs": [],
   "source": [
    "# this will update the immediately previous plot circle color with an explicit handle\n",
    "r2.glyph.fill_color = \"blue\"\n",
    "push_notebook(handle=t3)"
   ]
  },
  {
   "cell_type": "code",
   "execution_count": null,
   "metadata": {
    "collapsed": true
   },
   "outputs": [],
   "source": []
  },
  {
   "cell_type": "code",
   "execution_count": null,
   "metadata": {
    "collapsed": true
   },
   "outputs": [],
   "source": []
  }
 ],
 "metadata": {
  "kernelspec": {
   "display_name": "Python 3",
   "language": "python",
   "name": "python3"
  },
  "language_info": {
   "codemirror_mode": {
    "name": "ipython",
    "version": 3
   },
   "file_extension": ".py",
   "mimetype": "text/x-python",
   "name": "python",
   "nbconvert_exporter": "python",
   "pygments_lexer": "ipython3",
   "version": "3.6.2"
  }
 },
 "nbformat": 4,
 "nbformat_minor": 1
}
