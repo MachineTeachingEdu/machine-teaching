{
 "cells": [
  {
   "cell_type": "markdown",
   "metadata": {
    "colab_type": "text",
    "id": "MvHT4iHHNEhr"
   },
   "source": [
    "# Clustering solutions using LDA #"
   ]
  },
  {
   "cell_type": "code",
   "execution_count": 89,
   "metadata": {
    "colab": {
     "autoexec": {
      "startup": false,
      "wait_interval": 0
     },
     "base_uri": "https://localhost:8080/",
     "height": 388,
     "output_extras": [
      {
       "item_id": 1
      }
     ]
    },
    "colab_type": "code",
    "executionInfo": {
     "elapsed": 1077,
     "status": "error",
     "timestamp": 1522791660026,
     "user": {
      "displayName": "Laura Moraes",
      "photoUrl": "//lh6.googleusercontent.com/-NtEJsWrqtds/AAAAAAAAAAI/AAAAAAAAeH4/7f6cdoC52S0/s50-c-k-no/photo.jpg",
      "userId": "113150701401294787712"
     },
     "user_tz": 180
    },
    "id": "9fwAOMMaXfot",
    "outputId": "a8b9fbdc-a622-4cc2-c462-ebad4052fcc3"
   },
   "outputs": [],
   "source": [
    "# Input\n",
    "from db import PythonProblems\n",
    "import io\n",
    "\n",
    "# Helpers\n",
    "import numpy as np\n",
    "from collections import Counter\n",
    "from tqdm import tqdm\n",
    "import random\n",
    "\n",
    "# Preprocessing\n",
    "import tokenize\n",
    "from sklearn.feature_extraction.text import CountVectorizer, TfidfVectorizer\n",
    "\n",
    "# Learning\n",
    "from sklearn.decomposition import LatentDirichletAllocation\n",
    "\n",
    "# Plots\n",
    "import matplotlib.pyplot as plt\n",
    "import seaborn as sns\n",
    "from bokeh.models import ColumnDataSource, HoverTool\n",
    "from bokeh.io import show, output_notebook\n",
    "from bokeh.plotting import figure"
   ]
  },
  {
   "cell_type": "markdown",
   "metadata": {
    "colab_type": "text",
    "id": "WXwv4ONSXfo_"
   },
   "source": [
    "### Connecting to database"
   ]
  },
  {
   "cell_type": "code",
   "execution_count": 90,
   "metadata": {
    "colab": {
     "autoexec": {
      "startup": false,
      "wait_interval": 0
     }
    },
    "colab_type": "code",
    "collapsed": true,
    "id": "7-aiPKdWXfpB"
   },
   "outputs": [],
   "source": [
    "db = PythonProblems('python.sqlite')"
   ]
  },
  {
   "cell_type": "code",
   "execution_count": 91,
   "metadata": {
    "colab": {
     "autoexec": {
      "startup": false,
      "wait_interval": 0
     },
     "base_uri": "https://localhost:8080/",
     "height": 73,
     "output_extras": [
      {
       "item_id": 1
      }
     ]
    },
    "colab_type": "code",
    "executionInfo": {
     "elapsed": 1596,
     "status": "ok",
     "timestamp": 1522791238633,
     "user": {
      "displayName": "Laura Moraes",
      "photoUrl": "//lh6.googleusercontent.com/-NtEJsWrqtds/AAAAAAAAAAI/AAAAAAAAeH4/7f6cdoC52S0/s50-c-k-no/photo.jpg",
      "userId": "113150701401294787712"
     },
     "user_tz": 180
    },
    "id": "C5gJLr5kXfpK",
    "outputId": "20694076-a619-4a36-8bc1-d4d682d8ec3c"
   },
   "outputs": [
    {
     "name": "stdout",
     "output_type": "stream",
     "text": [
      "Got 758 documents\n",
      "Success in parsing all documents! You may go on!\n"
     ]
    }
   ],
   "source": [
    "removed_itens = ['NEWLINE', 'STRING', 'ENDMARKER', 'NUMBER', 'INDENT', 'DEDENT', \"NL\", 'COMMENT', 'ERRORTOKEN']\n",
    "allowed_itens = ['NAME', 'OP']\n",
    "cursor = db.conn.cursor()\n",
    "docs = []\n",
    "errors = []\n",
    "\n",
    "# lendo os dados\n",
    "cursor.execute(\"\"\"\n",
    "SELECT * FROM solution;\n",
    "\"\"\")\n",
    "\n",
    "\n",
    "for idx, linha in enumerate(cursor.fetchall()):\n",
    "    file = io.StringIO(linha[1])\n",
    "    doc = []\n",
    "    try:\n",
    "        for item in tokenize.generate_tokens(file.readline):\n",
    "            if tokenize.tok_name[item[0]] not in removed_itens:\n",
    "                if tokenize.tok_name[item[0]] in allowed_itens:\n",
    "                    doc.append(item[1])\n",
    "                else:\n",
    "                    print(\"%s %s\" % (tokenize.tok_name[item[0]], item[1]))\n",
    "    except (IndentationError, tokenize.TokenError):\n",
    "        errors.append(\"Please, fix solution %d before continuing\" % (idx+1))\n",
    "        \n",
    "    docs.append(' '.join(doc))\n",
    "\n",
    "print(\"Got %d documents\" %(idx+1))\n",
    "\n",
    "if not errors:\n",
    "    print(\"Success in parsing all documents! You may go on!\")\n",
    "else:\n",
    "    for item in errors:\n",
    "        print(item)"
   ]
  },
  {
   "cell_type": "markdown",
   "metadata": {
    "colab_type": "text",
    "id": "ioCc81sgNTuk"
   },
   "source": [
    "### Preprocessing solutions into bag of words ###"
   ]
  },
  {
   "cell_type": "code",
   "execution_count": 103,
   "metadata": {
    "colab": {
     "autoexec": {
      "startup": false,
      "wait_interval": 0
     }
    },
    "colab_type": "code",
    "id": "vO1rRT3FXfpR"
   },
   "outputs": [
    {
     "data": {
      "text/plain": [
       "(758, 15)"
      ]
     },
     "execution_count": 103,
     "metadata": {},
     "output_type": "execute_result"
    }
   ],
   "source": [
    "# Initialize the \"CountVectorizer\" object, which is scikit-learn's\n",
    "# bag of words tool.  \n",
    "vectorizer = CountVectorizer(analyzer = \"word\",   \\\n",
    "# vectorizer = TfidfVectorizer(analyzer = \"word\",   \\\n",
    "                             tokenizer = None,    \\\n",
    "                             preprocessor = None, \\\n",
    "                             stop_words = ['print'],   \\\n",
    "                             #max_features = 26d,\n",
    "                             binary=False,\n",
    "                             min_df=0.1\n",
    "                            ) \n",
    "\n",
    "# fit_transform() does two functions: First, it fits the model\n",
    "# and learns the vocabulary; second, it transforms our training data\n",
    "# into feature vectors. The input to fit_transform should be a list of \n",
    "# strings.\n",
    "\n",
    "train_data_features = vectorizer.fit_transform(docs)\n",
    "\n",
    "# Numpy arrays are easy to work with, so convert the result to an \n",
    "# array\n",
    "# Document-term matrix\n",
    "#train_data_features = train_data_features.toarray()\n",
    "train_data_features.shape"
   ]
  },
  {
   "cell_type": "markdown",
   "metadata": {
    "colab_type": "text",
    "id": "RbPTrmIQXfpz"
   },
   "source": [
    "# Cálculo da LDA #"
   ]
  },
  {
   "cell_type": "markdown",
   "metadata": {
    "colab_type": "text",
    "id": "o9SmaGv-NzWm"
   },
   "source": [
    "### Cálculo dos modelos e da métrica *perplexity* ###"
   ]
  },
  {
   "cell_type": "code",
   "execution_count": 93,
   "metadata": {
    "colab": {
     "autoexec": {
      "startup": false,
      "wait_interval": 0
     }
    },
    "colab_type": "code",
    "collapsed": true,
    "id": "wcH4By5hXfp9"
   },
   "outputs": [],
   "source": [
    "num_topics = list(range(2, 100))"
   ]
  },
  {
   "cell_type": "code",
   "execution_count": 94,
   "metadata": {
    "colab": {
     "autoexec": {
      "startup": false,
      "wait_interval": 0
     },
     "base_uri": "https://localhost:8080/",
     "height": 565,
     "output_extras": [
      {
       "item_id": 1
      },
      {
       "item_id": 2
      },
      {
       "item_id": 101
      },
      {
       "item_id": 102
      },
      {
       "item_id": 103
      }
     ]
    },
    "colab_type": "code",
    "executionInfo": {
     "elapsed": 232597,
     "status": "ok",
     "timestamp": 1522791472538,
     "user": {
      "displayName": "Laura Moraes",
      "photoUrl": "//lh6.googleusercontent.com/-NtEJsWrqtds/AAAAAAAAAAI/AAAAAAAAeH4/7f6cdoC52S0/s50-c-k-no/photo.jpg",
      "userId": "113150701401294787712"
     },
     "user_tz": 180
    },
    "id": "xPcE06vV-w08",
    "outputId": "4cc59239-c390-40c0-8954-5ea2ca82c098"
   },
   "outputs": [
    {
     "data": {
      "text/html": [
       "\n",
       "    <div class=\"bk-root\">\n",
       "        <a href=\"https://bokeh.pydata.org\" target=\"_blank\" class=\"bk-logo bk-logo-small bk-logo-notebook\"></a>\n",
       "        <span id=\"d39223e7-6890-437e-a922-4e845113f6b8\">Loading BokehJS ...</span>\n",
       "    </div>"
      ]
     },
     "metadata": {},
     "output_type": "display_data"
    },
    {
     "data": {
      "application/javascript": [
       "\n",
       "(function(root) {\n",
       "  function now() {\n",
       "    return new Date();\n",
       "  }\n",
       "\n",
       "  var force = true;\n",
       "\n",
       "  if (typeof (root._bokeh_onload_callbacks) === \"undefined\" || force === true) {\n",
       "    root._bokeh_onload_callbacks = [];\n",
       "    root._bokeh_is_loading = undefined;\n",
       "  }\n",
       "\n",
       "  var JS_MIME_TYPE = 'application/javascript';\n",
       "  var HTML_MIME_TYPE = 'text/html';\n",
       "  var EXEC_MIME_TYPE = 'application/vnd.bokehjs_exec.v0+json';\n",
       "  var CLASS_NAME = 'output_bokeh rendered_html';\n",
       "\n",
       "  /**\n",
       "   * Render data to the DOM node\n",
       "   */\n",
       "  function render(props, node) {\n",
       "    var script = document.createElement(\"script\");\n",
       "    node.appendChild(script);\n",
       "  }\n",
       "\n",
       "  /**\n",
       "   * Handle when an output is cleared or removed\n",
       "   */\n",
       "  function handleClearOutput(event, handle) {\n",
       "    var cell = handle.cell;\n",
       "\n",
       "    var id = cell.output_area._bokeh_element_id;\n",
       "    var server_id = cell.output_area._bokeh_server_id;\n",
       "    // Clean up Bokeh references\n",
       "    if (id !== undefined) {\n",
       "      Bokeh.index[id].model.document.clear();\n",
       "      delete Bokeh.index[id];\n",
       "    }\n",
       "\n",
       "    if (server_id !== undefined) {\n",
       "      // Clean up Bokeh references\n",
       "      var cmd = \"from bokeh.io.state import curstate; print(curstate().uuid_to_server['\" + server_id + \"'].get_sessions()[0].document.roots[0]._id)\";\n",
       "      cell.notebook.kernel.execute(cmd, {\n",
       "        iopub: {\n",
       "          output: function(msg) {\n",
       "            var element_id = msg.content.text.trim();\n",
       "            Bokeh.index[element_id].model.document.clear();\n",
       "            delete Bokeh.index[element_id];\n",
       "          }\n",
       "        }\n",
       "      });\n",
       "      // Destroy server and session\n",
       "      var cmd = \"import bokeh.io.notebook as ion; ion.destroy_server('\" + server_id + \"')\";\n",
       "      cell.notebook.kernel.execute(cmd);\n",
       "    }\n",
       "  }\n",
       "\n",
       "  /**\n",
       "   * Handle when a new output is added\n",
       "   */\n",
       "  function handleAddOutput(event, handle) {\n",
       "    var output_area = handle.output_area;\n",
       "    var output = handle.output;\n",
       "\n",
       "    // limit handleAddOutput to display_data with EXEC_MIME_TYPE content only\n",
       "    if ((output.output_type != \"display_data\") || (!output.data.hasOwnProperty(EXEC_MIME_TYPE))) {\n",
       "      return\n",
       "    }\n",
       "\n",
       "    var toinsert = output_area.element.find(\".\" + CLASS_NAME.split(' ')[0]);\n",
       "\n",
       "    if (output.metadata[EXEC_MIME_TYPE][\"id\"] !== undefined) {\n",
       "      toinsert[0].firstChild.textContent = output.data[JS_MIME_TYPE];\n",
       "      // store reference to embed id on output_area\n",
       "      output_area._bokeh_element_id = output.metadata[EXEC_MIME_TYPE][\"id\"];\n",
       "    }\n",
       "    if (output.metadata[EXEC_MIME_TYPE][\"server_id\"] !== undefined) {\n",
       "      var bk_div = document.createElement(\"div\");\n",
       "      bk_div.innerHTML = output.data[HTML_MIME_TYPE];\n",
       "      var script_attrs = bk_div.children[0].attributes;\n",
       "      for (var i = 0; i < script_attrs.length; i++) {\n",
       "        toinsert[0].firstChild.setAttribute(script_attrs[i].name, script_attrs[i].value);\n",
       "      }\n",
       "      // store reference to server id on output_area\n",
       "      output_area._bokeh_server_id = output.metadata[EXEC_MIME_TYPE][\"server_id\"];\n",
       "    }\n",
       "  }\n",
       "\n",
       "  function register_renderer(events, OutputArea) {\n",
       "\n",
       "    function append_mime(data, metadata, element) {\n",
       "      // create a DOM node to render to\n",
       "      var toinsert = this.create_output_subarea(\n",
       "        metadata,\n",
       "        CLASS_NAME,\n",
       "        EXEC_MIME_TYPE\n",
       "      );\n",
       "      this.keyboard_manager.register_events(toinsert);\n",
       "      // Render to node\n",
       "      var props = {data: data, metadata: metadata[EXEC_MIME_TYPE]};\n",
       "      render(props, toinsert[0]);\n",
       "      element.append(toinsert);\n",
       "      return toinsert\n",
       "    }\n",
       "\n",
       "    /* Handle when an output is cleared or removed */\n",
       "    events.on('clear_output.CodeCell', handleClearOutput);\n",
       "    events.on('delete.Cell', handleClearOutput);\n",
       "\n",
       "    /* Handle when a new output is added */\n",
       "    events.on('output_added.OutputArea', handleAddOutput);\n",
       "\n",
       "    /**\n",
       "     * Register the mime type and append_mime function with output_area\n",
       "     */\n",
       "    OutputArea.prototype.register_mime_type(EXEC_MIME_TYPE, append_mime, {\n",
       "      /* Is output safe? */\n",
       "      safe: true,\n",
       "      /* Index of renderer in `output_area.display_order` */\n",
       "      index: 0\n",
       "    });\n",
       "  }\n",
       "\n",
       "  // register the mime type if in Jupyter Notebook environment and previously unregistered\n",
       "  if (root.Jupyter !== undefined) {\n",
       "    var events = require('base/js/events');\n",
       "    var OutputArea = require('notebook/js/outputarea').OutputArea;\n",
       "\n",
       "    if (OutputArea.prototype.mime_types().indexOf(EXEC_MIME_TYPE) == -1) {\n",
       "      register_renderer(events, OutputArea);\n",
       "    }\n",
       "  }\n",
       "\n",
       "  \n",
       "  if (typeof (root._bokeh_timeout) === \"undefined\" || force === true) {\n",
       "    root._bokeh_timeout = Date.now() + 5000;\n",
       "    root._bokeh_failed_load = false;\n",
       "  }\n",
       "\n",
       "  var NB_LOAD_WARNING = {'data': {'text/html':\n",
       "     \"<div style='background-color: #fdd'>\\n\"+\n",
       "     \"<p>\\n\"+\n",
       "     \"BokehJS does not appear to have successfully loaded. If loading BokehJS from CDN, this \\n\"+\n",
       "     \"may be due to a slow or bad network connection. Possible fixes:\\n\"+\n",
       "     \"</p>\\n\"+\n",
       "     \"<ul>\\n\"+\n",
       "     \"<li>re-rerun `output_notebook()` to attempt to load from CDN again, or</li>\\n\"+\n",
       "     \"<li>use INLINE resources instead, as so:</li>\\n\"+\n",
       "     \"</ul>\\n\"+\n",
       "     \"<code>\\n\"+\n",
       "     \"from bokeh.resources import INLINE\\n\"+\n",
       "     \"output_notebook(resources=INLINE)\\n\"+\n",
       "     \"</code>\\n\"+\n",
       "     \"</div>\"}};\n",
       "\n",
       "  function display_loaded() {\n",
       "    var el = document.getElementById(\"d39223e7-6890-437e-a922-4e845113f6b8\");\n",
       "    if (el != null) {\n",
       "      el.textContent = \"BokehJS is loading...\";\n",
       "    }\n",
       "    if (root.Bokeh !== undefined) {\n",
       "      if (el != null) {\n",
       "        el.textContent = \"BokehJS \" + root.Bokeh.version + \" successfully loaded.\";\n",
       "      }\n",
       "    } else if (Date.now() < root._bokeh_timeout) {\n",
       "      setTimeout(display_loaded, 100)\n",
       "    }\n",
       "  }\n",
       "\n",
       "\n",
       "  function run_callbacks() {\n",
       "    try {\n",
       "      root._bokeh_onload_callbacks.forEach(function(callback) { callback() });\n",
       "    }\n",
       "    finally {\n",
       "      delete root._bokeh_onload_callbacks\n",
       "    }\n",
       "    console.info(\"Bokeh: all callbacks have finished\");\n",
       "  }\n",
       "\n",
       "  function load_libs(js_urls, callback) {\n",
       "    root._bokeh_onload_callbacks.push(callback);\n",
       "    if (root._bokeh_is_loading > 0) {\n",
       "      console.log(\"Bokeh: BokehJS is being loaded, scheduling callback at\", now());\n",
       "      return null;\n",
       "    }\n",
       "    if (js_urls == null || js_urls.length === 0) {\n",
       "      run_callbacks();\n",
       "      return null;\n",
       "    }\n",
       "    console.log(\"Bokeh: BokehJS not loaded, scheduling load and callback at\", now());\n",
       "    root._bokeh_is_loading = js_urls.length;\n",
       "    for (var i = 0; i < js_urls.length; i++) {\n",
       "      var url = js_urls[i];\n",
       "      var s = document.createElement('script');\n",
       "      s.src = url;\n",
       "      s.async = false;\n",
       "      s.onreadystatechange = s.onload = function() {\n",
       "        root._bokeh_is_loading--;\n",
       "        if (root._bokeh_is_loading === 0) {\n",
       "          console.log(\"Bokeh: all BokehJS libraries loaded\");\n",
       "          run_callbacks()\n",
       "        }\n",
       "      };\n",
       "      s.onerror = function() {\n",
       "        console.warn(\"failed to load library \" + url);\n",
       "      };\n",
       "      console.log(\"Bokeh: injecting script tag for BokehJS library: \", url);\n",
       "      document.getElementsByTagName(\"head\")[0].appendChild(s);\n",
       "    }\n",
       "  };var element = document.getElementById(\"d39223e7-6890-437e-a922-4e845113f6b8\");\n",
       "  if (element == null) {\n",
       "    console.log(\"Bokeh: ERROR: autoload.js configured with elementid 'd39223e7-6890-437e-a922-4e845113f6b8' but no matching script tag was found. \")\n",
       "    return false;\n",
       "  }\n",
       "\n",
       "  var js_urls = [\"https://cdn.pydata.org/bokeh/release/bokeh-0.12.14.min.js\", \"https://cdn.pydata.org/bokeh/release/bokeh-widgets-0.12.14.min.js\", \"https://cdn.pydata.org/bokeh/release/bokeh-tables-0.12.14.min.js\", \"https://cdn.pydata.org/bokeh/release/bokeh-gl-0.12.14.min.js\"];\n",
       "\n",
       "  var inline_js = [\n",
       "    function(Bokeh) {\n",
       "      Bokeh.set_log_level(\"info\");\n",
       "    },\n",
       "    \n",
       "    function(Bokeh) {\n",
       "      \n",
       "    },\n",
       "    function(Bokeh) {\n",
       "      console.log(\"Bokeh: injecting CSS: https://cdn.pydata.org/bokeh/release/bokeh-0.12.14.min.css\");\n",
       "      Bokeh.embed.inject_css(\"https://cdn.pydata.org/bokeh/release/bokeh-0.12.14.min.css\");\n",
       "      console.log(\"Bokeh: injecting CSS: https://cdn.pydata.org/bokeh/release/bokeh-widgets-0.12.14.min.css\");\n",
       "      Bokeh.embed.inject_css(\"https://cdn.pydata.org/bokeh/release/bokeh-widgets-0.12.14.min.css\");\n",
       "      console.log(\"Bokeh: injecting CSS: https://cdn.pydata.org/bokeh/release/bokeh-tables-0.12.14.min.css\");\n",
       "      Bokeh.embed.inject_css(\"https://cdn.pydata.org/bokeh/release/bokeh-tables-0.12.14.min.css\");\n",
       "    }\n",
       "  ];\n",
       "\n",
       "  function run_inline_js() {\n",
       "    \n",
       "    if ((root.Bokeh !== undefined) || (force === true)) {\n",
       "      for (var i = 0; i < inline_js.length; i++) {\n",
       "        inline_js[i].call(root, root.Bokeh);\n",
       "      }if (force === true) {\n",
       "        display_loaded();\n",
       "      }} else if (Date.now() < root._bokeh_timeout) {\n",
       "      setTimeout(run_inline_js, 100);\n",
       "    } else if (!root._bokeh_failed_load) {\n",
       "      console.log(\"Bokeh: BokehJS failed to load within specified timeout.\");\n",
       "      root._bokeh_failed_load = true;\n",
       "    } else if (force !== true) {\n",
       "      var cell = $(document.getElementById(\"d39223e7-6890-437e-a922-4e845113f6b8\")).parents('.cell').data().cell;\n",
       "      cell.output_area.append_execute_result(NB_LOAD_WARNING)\n",
       "    }\n",
       "\n",
       "  }\n",
       "\n",
       "  if (root._bokeh_is_loading === 0) {\n",
       "    console.log(\"Bokeh: BokehJS loaded, going straight to plotting\");\n",
       "    run_inline_js();\n",
       "  } else {\n",
       "    load_libs(js_urls, function() {\n",
       "      console.log(\"Bokeh: BokehJS plotting callback run at\", now());\n",
       "      run_inline_js();\n",
       "    });\n",
       "  }\n",
       "}(window));"
      ],
      "application/vnd.bokehjs_load.v0+json": "\n(function(root) {\n  function now() {\n    return new Date();\n  }\n\n  var force = true;\n\n  if (typeof (root._bokeh_onload_callbacks) === \"undefined\" || force === true) {\n    root._bokeh_onload_callbacks = [];\n    root._bokeh_is_loading = undefined;\n  }\n\n  \n\n  \n  if (typeof (root._bokeh_timeout) === \"undefined\" || force === true) {\n    root._bokeh_timeout = Date.now() + 5000;\n    root._bokeh_failed_load = false;\n  }\n\n  var NB_LOAD_WARNING = {'data': {'text/html':\n     \"<div style='background-color: #fdd'>\\n\"+\n     \"<p>\\n\"+\n     \"BokehJS does not appear to have successfully loaded. If loading BokehJS from CDN, this \\n\"+\n     \"may be due to a slow or bad network connection. Possible fixes:\\n\"+\n     \"</p>\\n\"+\n     \"<ul>\\n\"+\n     \"<li>re-rerun `output_notebook()` to attempt to load from CDN again, or</li>\\n\"+\n     \"<li>use INLINE resources instead, as so:</li>\\n\"+\n     \"</ul>\\n\"+\n     \"<code>\\n\"+\n     \"from bokeh.resources import INLINE\\n\"+\n     \"output_notebook(resources=INLINE)\\n\"+\n     \"</code>\\n\"+\n     \"</div>\"}};\n\n  function display_loaded() {\n    var el = document.getElementById(\"d39223e7-6890-437e-a922-4e845113f6b8\");\n    if (el != null) {\n      el.textContent = \"BokehJS is loading...\";\n    }\n    if (root.Bokeh !== undefined) {\n      if (el != null) {\n        el.textContent = \"BokehJS \" + root.Bokeh.version + \" successfully loaded.\";\n      }\n    } else if (Date.now() < root._bokeh_timeout) {\n      setTimeout(display_loaded, 100)\n    }\n  }\n\n\n  function run_callbacks() {\n    try {\n      root._bokeh_onload_callbacks.forEach(function(callback) { callback() });\n    }\n    finally {\n      delete root._bokeh_onload_callbacks\n    }\n    console.info(\"Bokeh: all callbacks have finished\");\n  }\n\n  function load_libs(js_urls, callback) {\n    root._bokeh_onload_callbacks.push(callback);\n    if (root._bokeh_is_loading > 0) {\n      console.log(\"Bokeh: BokehJS is being loaded, scheduling callback at\", now());\n      return null;\n    }\n    if (js_urls == null || js_urls.length === 0) {\n      run_callbacks();\n      return null;\n    }\n    console.log(\"Bokeh: BokehJS not loaded, scheduling load and callback at\", now());\n    root._bokeh_is_loading = js_urls.length;\n    for (var i = 0; i < js_urls.length; i++) {\n      var url = js_urls[i];\n      var s = document.createElement('script');\n      s.src = url;\n      s.async = false;\n      s.onreadystatechange = s.onload = function() {\n        root._bokeh_is_loading--;\n        if (root._bokeh_is_loading === 0) {\n          console.log(\"Bokeh: all BokehJS libraries loaded\");\n          run_callbacks()\n        }\n      };\n      s.onerror = function() {\n        console.warn(\"failed to load library \" + url);\n      };\n      console.log(\"Bokeh: injecting script tag for BokehJS library: \", url);\n      document.getElementsByTagName(\"head\")[0].appendChild(s);\n    }\n  };var element = document.getElementById(\"d39223e7-6890-437e-a922-4e845113f6b8\");\n  if (element == null) {\n    console.log(\"Bokeh: ERROR: autoload.js configured with elementid 'd39223e7-6890-437e-a922-4e845113f6b8' but no matching script tag was found. \")\n    return false;\n  }\n\n  var js_urls = [\"https://cdn.pydata.org/bokeh/release/bokeh-0.12.14.min.js\", \"https://cdn.pydata.org/bokeh/release/bokeh-widgets-0.12.14.min.js\", \"https://cdn.pydata.org/bokeh/release/bokeh-tables-0.12.14.min.js\", \"https://cdn.pydata.org/bokeh/release/bokeh-gl-0.12.14.min.js\"];\n\n  var inline_js = [\n    function(Bokeh) {\n      Bokeh.set_log_level(\"info\");\n    },\n    \n    function(Bokeh) {\n      \n    },\n    function(Bokeh) {\n      console.log(\"Bokeh: injecting CSS: https://cdn.pydata.org/bokeh/release/bokeh-0.12.14.min.css\");\n      Bokeh.embed.inject_css(\"https://cdn.pydata.org/bokeh/release/bokeh-0.12.14.min.css\");\n      console.log(\"Bokeh: injecting CSS: https://cdn.pydata.org/bokeh/release/bokeh-widgets-0.12.14.min.css\");\n      Bokeh.embed.inject_css(\"https://cdn.pydata.org/bokeh/release/bokeh-widgets-0.12.14.min.css\");\n      console.log(\"Bokeh: injecting CSS: https://cdn.pydata.org/bokeh/release/bokeh-tables-0.12.14.min.css\");\n      Bokeh.embed.inject_css(\"https://cdn.pydata.org/bokeh/release/bokeh-tables-0.12.14.min.css\");\n    }\n  ];\n\n  function run_inline_js() {\n    \n    if ((root.Bokeh !== undefined) || (force === true)) {\n      for (var i = 0; i < inline_js.length; i++) {\n        inline_js[i].call(root, root.Bokeh);\n      }if (force === true) {\n        display_loaded();\n      }} else if (Date.now() < root._bokeh_timeout) {\n      setTimeout(run_inline_js, 100);\n    } else if (!root._bokeh_failed_load) {\n      console.log(\"Bokeh: BokehJS failed to load within specified timeout.\");\n      root._bokeh_failed_load = true;\n    } else if (force !== true) {\n      var cell = $(document.getElementById(\"d39223e7-6890-437e-a922-4e845113f6b8\")).parents('.cell').data().cell;\n      cell.output_area.append_execute_result(NB_LOAD_WARNING)\n    }\n\n  }\n\n  if (root._bokeh_is_loading === 0) {\n    console.log(\"Bokeh: BokehJS loaded, going straight to plotting\");\n    run_inline_js();\n  } else {\n    load_libs(js_urls, function() {\n      console.log(\"Bokeh: BokehJS plotting callback run at\", now());\n      run_inline_js();\n    });\n  }\n}(window));"
     },
     "metadata": {},
     "output_type": "display_data"
    },
    {
     "name": "stderr",
     "output_type": "stream",
     "text": [
      "100%|██████████| 98/98 [04:00<00:00,  2.73s/it]\n"
     ]
    },
    {
     "data": {
      "text/html": [
       "\n",
       "<div class=\"bk-root\">\n",
       "    <div class=\"bk-plotdiv\" id=\"20206e55-2f19-4ea4-a754-7b6e50273eb9\"></div>\n",
       "</div>"
      ]
     },
     "metadata": {},
     "output_type": "display_data"
    },
    {
     "data": {
      "application/javascript": [
       "(function(root) {\n",
       "  function embed_document(root) {\n",
       "    \n",
       "  var docs_json = {\"ba3895fb-7d79-436b-a9dc-df2d9688186d\":{\"roots\":{\"references\":[{\"attributes\":{},\"id\":\"895337b2-9fec-4c7a-861e-bcdd71813038\",\"type\":\"WheelZoomTool\"},{\"attributes\":{\"source\":{\"id\":\"9c4a2b76-f10a-41ce-bb48-8a3039891483\",\"type\":\"ColumnDataSource\"}},\"id\":\"decd47e1-7854-4b0e-821f-8ba2b5d62b3a\",\"type\":\"CDSView\"},{\"attributes\":{\"overlay\":{\"id\":\"ddff0180-a194-4c86-98e9-e02c69f853b1\",\"type\":\"BoxAnnotation\"}},\"id\":\"5fdf17cb-f3cf-4423-9b0d-358e6e8eff30\",\"type\":\"BoxZoomTool\"},{\"attributes\":{\"source\":{\"id\":\"e8c1efd2-5283-4c86-a78a-129e1df2a418\",\"type\":\"ColumnDataSource\"}},\"id\":\"6fe83892-7873-4b9e-ab99-51a8c8052511\",\"type\":\"CDSView\"},{\"attributes\":{\"line_alpha\":0.1,\"line_color\":\"#1f77b4\",\"line_width\":2,\"x\":{\"field\":\"x_values\"},\"y\":{\"field\":\"y_values\"}},\"id\":\"1cfdce55-5926-4577-bad5-30e2663de05e\",\"type\":\"Line\"},{\"attributes\":{\"formatter\":{\"id\":\"2508e0ef-16d7-4988-8175-223d9218c806\",\"type\":\"BasicTickFormatter\"},\"plot\":{\"id\":\"8bde706c-6151-40d0-9842-db04106abc02\",\"subtype\":\"Figure\",\"type\":\"Plot\"},\"ticker\":{\"id\":\"423d2597-1def-410f-a85f-aaa3d89030fe\",\"type\":\"BasicTicker\"}},\"id\":\"d9e8b76a-051e-47c8-babf-1c1051b196a4\",\"type\":\"LinearAxis\"},{\"attributes\":{},\"id\":\"06988010-b5ce-470c-9c25-ac174479969a\",\"type\":\"HelpTool\"},{\"attributes\":{\"plot\":{\"id\":\"8bde706c-6151-40d0-9842-db04106abc02\",\"subtype\":\"Figure\",\"type\":\"Plot\"},\"ticker\":{\"id\":\"423d2597-1def-410f-a85f-aaa3d89030fe\",\"type\":\"BasicTicker\"}},\"id\":\"aef8a30c-3de1-4ae0-bba8-4b013e9a702f\",\"type\":\"Grid\"},{\"attributes\":{\"callback\":null,\"column_names\":[\"x_values\",\"y_values\"],\"data\":{\"x_values\":[2,3,4,5,6,7,8,9,10,11,12,13,14,15,16,17,18,19,20,21,22,23,24,25,26,27,28,29,30,31,32,33,34,35,36,37,38,39,40,41,42,43,44,45,46,47,48,49,50,51,52,53,54,55,56,57,58,59,60,61,62,63,64,65,66,67,68,69,70,71,72,73,74,75,76,77,78,79,80,81,82,83,84,85,86,87,88,89,90,91,92,93,94,95,96,97,98,99],\"y_values\":[13.520882790901192,13.178618639704029,12.101802225083867,12.25458530907064,12.209095260276802,13.773527565762237,12.925896477585688,13.24023226961591,13.374446995548032,13.802612734086342,14.014054237246352,14.173953777929952,14.441459318167198,14.823192086688232,14.903113250491337,15.06598711179513,15.41456774322469,15.411332695563042,16.22408790710984,15.8987099105185,16.420366653583873,16.072299177571402,16.86478569090023,17.018090267819204,16.816210765451856,17.119445678483494,17.190313079337457,17.193855270407877,17.827353389607072,18.43285616433441,17.889912886201277,18.0076722965664,18.213257122109322,18.320617641261673,19.85119008184529,19.448354762785815,18.51902279878472,19.480558032660905,18.907674689939242,20.03368396680203,19.134656254587515,18.841639394329718,19.254689485880718,19.81725189760902,21.055729180228017,20.1402939276593,20.54275824702115,21.307796667241668,20.58376751471702,21.444503337898706,20.475360797363482,21.070971318512424,20.748272775165983,22.828853255185045,24.217403433996783,22.625148042236905,23.193084558134384,22.9175227698648,21.596998452692045,24.048739089958488,23.871827949419174,21.78065347108232,22.381508507662723,22.82107544354822,22.649979670421644,23.07307420694443,22.935924581639334,22.926027603904583,23.46788533598143,24.245858982527714,24.55766312321009,23.518930002435145,25.54093352981191,23.001082112202905,24.54232827393879,24.68553755649985,25.41042660684767,24.94654057378803,25.002523101093338,23.387932444387516,24.423072933717638,24.885593633553693,27.512585700434855,27.26765854542583,24.418165332556974,25.66461321480095,26.074766859171543,28.617391395122773,26.840468488598336,29.111208384216148,27.920801909825588,24.47194549647485,26.249132542461993,25.38476528621144,27.54896002763232,24.372486927609604,28.292831500355987,26.061207345520206]}},\"id\":\"e8c1efd2-5283-4c86-a78a-129e1df2a418\",\"type\":\"ColumnDataSource\"},{\"attributes\":{\"callback\":null},\"id\":\"eb0d9c2d-15d6-4a29-8eb7-743741d0c7cf\",\"type\":\"DataRange1d\"},{\"attributes\":{},\"id\":\"829682e2-066f-4b1c-8d1b-108a9142fe48\",\"type\":\"BasicTicker\"},{\"attributes\":{},\"id\":\"6259d514-f7f8-4f49-b4ac-3a49576894f1\",\"type\":\"PanTool\"},{\"attributes\":{\"bottom_units\":\"screen\",\"fill_alpha\":{\"value\":0.5},\"fill_color\":{\"value\":\"lightgrey\"},\"left_units\":\"screen\",\"level\":\"overlay\",\"line_alpha\":{\"value\":1.0},\"line_color\":{\"value\":\"black\"},\"line_dash\":[4,4],\"line_width\":{\"value\":2},\"plot\":null,\"render_mode\":\"css\",\"right_units\":\"screen\",\"top_units\":\"screen\"},\"id\":\"ddff0180-a194-4c86-98e9-e02c69f853b1\",\"type\":\"BoxAnnotation\"},{\"attributes\":{\"fill_color\":{\"value\":\"white\"},\"line_color\":{\"value\":\"#2222aa\"},\"size\":{\"units\":\"screen\",\"value\":8},\"x\":{\"field\":\"x_values\"},\"y\":{\"field\":\"y_values\"}},\"id\":\"f0c1e6f3-0670-49a8-b551-97ea9d2a6dc1\",\"type\":\"Circle\"},{\"attributes\":{},\"id\":\"423d2597-1def-410f-a85f-aaa3d89030fe\",\"type\":\"BasicTicker\"},{\"attributes\":{},\"id\":\"94e3895f-b8eb-4b00-b561-43c519819d10\",\"type\":\"BasicTickFormatter\"},{\"attributes\":{},\"id\":\"f6d7d970-9568-4a2f-aa68-67927fafc1a7\",\"type\":\"LinearScale\"},{\"attributes\":{\"below\":[{\"id\":\"d9e8b76a-051e-47c8-babf-1c1051b196a4\",\"type\":\"LinearAxis\"}],\"left\":[{\"id\":\"8d660f2b-90d4-48c0-a536-a89740904e7f\",\"type\":\"LinearAxis\"}],\"min_border\":0,\"plot_height\":500,\"plot_width\":900,\"renderers\":[{\"id\":\"d9e8b76a-051e-47c8-babf-1c1051b196a4\",\"type\":\"LinearAxis\"},{\"id\":\"aef8a30c-3de1-4ae0-bba8-4b013e9a702f\",\"type\":\"Grid\"},{\"id\":\"8d660f2b-90d4-48c0-a536-a89740904e7f\",\"type\":\"LinearAxis\"},{\"id\":\"c2ad34c9-a378-451b-86c3-7acada3e08d3\",\"type\":\"Grid\"},{\"id\":\"ddff0180-a194-4c86-98e9-e02c69f853b1\",\"type\":\"BoxAnnotation\"},{\"id\":\"68cebb1b-db57-41a8-bf92-bd7fe45301e3\",\"type\":\"GlyphRenderer\"},{\"id\":\"06ab3d15-895f-4e04-a595-d4c85b5ba5cd\",\"type\":\"GlyphRenderer\"}],\"title\":{\"id\":\"06951f3a-d362-4ab7-8468-44201e3c6890\",\"type\":\"Title\"},\"toolbar\":{\"id\":\"e1c45594-49c0-4b00-ad0f-fcadd1f6280c\",\"type\":\"Toolbar\"},\"x_range\":{\"id\":\"66439203-8ebb-4b3e-ad53-1843795296db\",\"type\":\"DataRange1d\"},\"x_scale\":{\"id\":\"dc15889d-56f2-46fe-80ec-b1e563cf2a1c\",\"type\":\"LinearScale\"},\"y_range\":{\"id\":\"eb0d9c2d-15d6-4a29-8eb7-743741d0c7cf\",\"type\":\"DataRange1d\"},\"y_scale\":{\"id\":\"f6d7d970-9568-4a2f-aa68-67927fafc1a7\",\"type\":\"LinearScale\"}},\"id\":\"8bde706c-6151-40d0-9842-db04106abc02\",\"subtype\":\"Figure\",\"type\":\"Plot\"},{\"attributes\":{\"callback\":null},\"id\":\"66439203-8ebb-4b3e-ad53-1843795296db\",\"type\":\"DataRange1d\"},{\"attributes\":{\"formatter\":{\"id\":\"94e3895f-b8eb-4b00-b561-43c519819d10\",\"type\":\"BasicTickFormatter\"},\"plot\":{\"id\":\"8bde706c-6151-40d0-9842-db04106abc02\",\"subtype\":\"Figure\",\"type\":\"Plot\"},\"ticker\":{\"id\":\"829682e2-066f-4b1c-8d1b-108a9142fe48\",\"type\":\"BasicTicker\"}},\"id\":\"8d660f2b-90d4-48c0-a536-a89740904e7f\",\"type\":\"LinearAxis\"},{\"attributes\":{\"callback\":null,\"tooltips\":[[\"Model\",\"$x{0}\"],[\"Perplexity\",\"$y\"]]},\"id\":\"9656e7b7-7248-4236-ab8f-d28a731c1b90\",\"type\":\"HoverTool\"},{\"attributes\":{\"data_source\":{\"id\":\"e8c1efd2-5283-4c86-a78a-129e1df2a418\",\"type\":\"ColumnDataSource\"},\"glyph\":{\"id\":\"f0c1e6f3-0670-49a8-b551-97ea9d2a6dc1\",\"type\":\"Circle\"},\"hover_glyph\":null,\"muted_glyph\":null,\"nonselection_glyph\":{\"id\":\"218f64c4-2ef4-49b9-b284-a895de034632\",\"type\":\"Circle\"},\"selection_glyph\":null,\"view\":{\"id\":\"6fe83892-7873-4b9e-ab99-51a8c8052511\",\"type\":\"CDSView\"}},\"id\":\"06ab3d15-895f-4e04-a595-d4c85b5ba5cd\",\"type\":\"GlyphRenderer\"},{\"attributes\":{},\"id\":\"49d3648a-94ae-41b3-a3cf-809c1774ae1b\",\"type\":\"SaveTool\"},{\"attributes\":{\"line_color\":\"#2222aa\",\"line_width\":2,\"x\":{\"field\":\"x_values\"},\"y\":{\"field\":\"y_values\"}},\"id\":\"6ef4629e-98ed-42b9-9e1c-1cc01be82454\",\"type\":\"Line\"},{\"attributes\":{},\"id\":\"cc09de16-1086-4a10-84e9-22e705d0c6f3\",\"type\":\"ResetTool\"},{\"attributes\":{\"active_drag\":\"auto\",\"active_inspect\":\"auto\",\"active_scroll\":\"auto\",\"active_tap\":\"auto\",\"tools\":[{\"id\":\"6259d514-f7f8-4f49-b4ac-3a49576894f1\",\"type\":\"PanTool\"},{\"id\":\"895337b2-9fec-4c7a-861e-bcdd71813038\",\"type\":\"WheelZoomTool\"},{\"id\":\"5fdf17cb-f3cf-4423-9b0d-358e6e8eff30\",\"type\":\"BoxZoomTool\"},{\"id\":\"49d3648a-94ae-41b3-a3cf-809c1774ae1b\",\"type\":\"SaveTool\"},{\"id\":\"cc09de16-1086-4a10-84e9-22e705d0c6f3\",\"type\":\"ResetTool\"},{\"id\":\"06988010-b5ce-470c-9c25-ac174479969a\",\"type\":\"HelpTool\"},{\"id\":\"9656e7b7-7248-4236-ab8f-d28a731c1b90\",\"type\":\"HoverTool\"}]},\"id\":\"e1c45594-49c0-4b00-ad0f-fcadd1f6280c\",\"type\":\"Toolbar\"},{\"attributes\":{},\"id\":\"dc15889d-56f2-46fe-80ec-b1e563cf2a1c\",\"type\":\"LinearScale\"},{\"attributes\":{\"callback\":null,\"column_names\":[\"x_values\",\"y_values\"],\"data\":{\"x_values\":[2,3,4,5,6,7,8,9,10,11,12,13,14,15,16,17,18,19,20,21,22,23,24,25,26,27,28,29,30,31,32,33,34,35,36,37,38,39,40,41,42,43,44,45,46,47,48,49,50,51,52,53,54,55,56,57,58,59,60,61,62,63,64,65,66,67,68,69,70,71,72,73,74,75,76,77,78,79,80,81,82,83,84,85,86,87,88,89,90,91,92,93,94,95,96,97,98,99],\"y_values\":[13.520882790901192,13.178618639704029,12.101802225083867,12.25458530907064,12.209095260276802,13.773527565762237,12.925896477585688,13.24023226961591,13.374446995548032,13.802612734086342,14.014054237246352,14.173953777929952,14.441459318167198,14.823192086688232,14.903113250491337,15.06598711179513,15.41456774322469,15.411332695563042,16.22408790710984,15.8987099105185,16.420366653583873,16.072299177571402,16.86478569090023,17.018090267819204,16.816210765451856,17.119445678483494,17.190313079337457,17.193855270407877,17.827353389607072,18.43285616433441,17.889912886201277,18.0076722965664,18.213257122109322,18.320617641261673,19.85119008184529,19.448354762785815,18.51902279878472,19.480558032660905,18.907674689939242,20.03368396680203,19.134656254587515,18.841639394329718,19.254689485880718,19.81725189760902,21.055729180228017,20.1402939276593,20.54275824702115,21.307796667241668,20.58376751471702,21.444503337898706,20.475360797363482,21.070971318512424,20.748272775165983,22.828853255185045,24.217403433996783,22.625148042236905,23.193084558134384,22.9175227698648,21.596998452692045,24.048739089958488,23.871827949419174,21.78065347108232,22.381508507662723,22.82107544354822,22.649979670421644,23.07307420694443,22.935924581639334,22.926027603904583,23.46788533598143,24.245858982527714,24.55766312321009,23.518930002435145,25.54093352981191,23.001082112202905,24.54232827393879,24.68553755649985,25.41042660684767,24.94654057378803,25.002523101093338,23.387932444387516,24.423072933717638,24.885593633553693,27.512585700434855,27.26765854542583,24.418165332556974,25.66461321480095,26.074766859171543,28.617391395122773,26.840468488598336,29.111208384216148,27.920801909825588,24.47194549647485,26.249132542461993,25.38476528621144,27.54896002763232,24.372486927609604,28.292831500355987,26.061207345520206]}},\"id\":\"9c4a2b76-f10a-41ce-bb48-8a3039891483\",\"type\":\"ColumnDataSource\"},{\"attributes\":{},\"id\":\"2508e0ef-16d7-4988-8175-223d9218c806\",\"type\":\"BasicTickFormatter\"},{\"attributes\":{\"plot\":null,\"text\":\"Perplexity\"},\"id\":\"06951f3a-d362-4ab7-8468-44201e3c6890\",\"type\":\"Title\"},{\"attributes\":{\"fill_alpha\":{\"value\":0.1},\"fill_color\":{\"value\":\"#1f77b4\"},\"line_alpha\":{\"value\":0.1},\"line_color\":{\"value\":\"#1f77b4\"},\"size\":{\"units\":\"screen\",\"value\":8},\"x\":{\"field\":\"x_values\"},\"y\":{\"field\":\"y_values\"}},\"id\":\"218f64c4-2ef4-49b9-b284-a895de034632\",\"type\":\"Circle\"},{\"attributes\":{\"data_source\":{\"id\":\"9c4a2b76-f10a-41ce-bb48-8a3039891483\",\"type\":\"ColumnDataSource\"},\"glyph\":{\"id\":\"6ef4629e-98ed-42b9-9e1c-1cc01be82454\",\"type\":\"Line\"},\"hover_glyph\":null,\"muted_glyph\":null,\"nonselection_glyph\":{\"id\":\"1cfdce55-5926-4577-bad5-30e2663de05e\",\"type\":\"Line\"},\"selection_glyph\":null,\"view\":{\"id\":\"decd47e1-7854-4b0e-821f-8ba2b5d62b3a\",\"type\":\"CDSView\"}},\"id\":\"68cebb1b-db57-41a8-bf92-bd7fe45301e3\",\"type\":\"GlyphRenderer\"},{\"attributes\":{\"dimension\":1,\"plot\":{\"id\":\"8bde706c-6151-40d0-9842-db04106abc02\",\"subtype\":\"Figure\",\"type\":\"Plot\"},\"ticker\":{\"id\":\"829682e2-066f-4b1c-8d1b-108a9142fe48\",\"type\":\"BasicTicker\"}},\"id\":\"c2ad34c9-a378-451b-86c3-7acada3e08d3\",\"type\":\"Grid\"}],\"root_ids\":[\"8bde706c-6151-40d0-9842-db04106abc02\"]},\"title\":\"Bokeh Application\",\"version\":\"0.12.14\"}};\n",
       "  var render_items = [{\"docid\":\"ba3895fb-7d79-436b-a9dc-df2d9688186d\",\"elementid\":\"20206e55-2f19-4ea4-a754-7b6e50273eb9\",\"modelid\":\"8bde706c-6151-40d0-9842-db04106abc02\",\"notebook_comms_target\":\"f349f21c-4dcc-4b10-87ff-5ac2aed7c201\"}];\n",
       "  root.Bokeh.embed.embed_items_notebook(docs_json, render_items);\n",
       "\n",
       "  }\n",
       "  if (root.Bokeh !== undefined) {\n",
       "    embed_document(root);\n",
       "  } else {\n",
       "    var attempts = 0;\n",
       "    var timer = setInterval(function(root) {\n",
       "      if (root.Bokeh !== undefined) {\n",
       "        embed_document(root);\n",
       "        clearInterval(timer);\n",
       "      }\n",
       "      attempts++;\n",
       "      if (attempts > 100) {\n",
       "        console.log(\"Bokeh: ERROR: Unable to run BokehJS code because BokehJS library is missing\")\n",
       "        clearInterval(timer);\n",
       "      }\n",
       "    }, 10, root)\n",
       "  }\n",
       "})(window);"
      ],
      "application/vnd.bokehjs_exec.v0+json": ""
     },
     "metadata": {
      "application/vnd.bokehjs_exec.v0+json": {
       "id": "8bde706c-6151-40d0-9842-db04106abc02"
      }
     },
     "output_type": "display_data"
    }
   ],
   "source": [
    "output_notebook()\n",
    "\n",
    "hover = HoverTool(tooltips=[\n",
    "    (\"Model\", \"$x{0}\"),\n",
    "    (\"Perplexity\", \"$y\"),\n",
    "])\n",
    "\n",
    "\n",
    "models = {}\n",
    "x_values = []\n",
    "y_values = []\n",
    "\n",
    "for k in tqdm(num_topics):\n",
    "    # Build a Latent Dirichlet Allocation Model\n",
    "    model = LatentDirichletAllocation(n_components=k, max_iter=10, learning_method='batch')\n",
    "    document_topic = model.fit_transform(train_data_features)\n",
    "    models[k] = {\n",
    "      'model': model,\n",
    "      'topic_word': model.components_,\n",
    "      'document_topic': document_topic,\n",
    "      'perplexity': model.perplexity(train_data_features)\n",
    "    }\n",
    "\n",
    "    x_values.append(k)\n",
    "    y_values.append(models[k][\"perplexity\"])\n",
    "\n",
    "source = {'x_values': x_values, 'y_values': y_values}\n",
    "\n",
    "opts = dict(plot_width=900, plot_height=500, min_border=0, title=\"Perplexity\")\n",
    "plot = figure(**opts)\n",
    "plot.add_tools(hover)\n",
    "\n",
    "l = plot.line(x='x_values', y='y_values', color=\"#2222aa\", line_width=2, source=source)\n",
    "c = plot.circle(x='x_values', y='y_values', color=\"#2222aa\", fill_color=\"white\", size=8, source=source)\n",
    "h = show(plot, notebook_handle=True)"
   ]
  },
  {
   "cell_type": "markdown",
   "metadata": {
    "colab_type": "text",
    "id": "qH2JBcrfN8Ln"
   },
   "source": [
    "### Verificando em * random sample solutions* ###"
   ]
  },
  {
   "cell_type": "code",
   "execution_count": 104,
   "metadata": {
    "colab": {
     "autoexec": {
      "startup": false,
      "wait_interval": 0
     }
    },
    "colab_type": "code",
    "collapsed": true,
    "id": "y8oa_7ZGRQI6"
   },
   "outputs": [],
   "source": [
    "# Escolhido tópico k\n",
    "k = 4\n",
    "lda_model = models[k]['model']\n",
    "document_topic = models[k]['document_topic']\n",
    "topic_word = models[k]['topic_word']"
   ]
  },
  {
   "cell_type": "code",
   "execution_count": 105,
   "metadata": {
    "colab": {
     "autoexec": {
      "startup": false,
      "wait_interval": 0
     },
     "base_uri": "https://localhost:8080/",
     "height": 1367,
     "output_extras": [
      {
       "item_id": 1
      }
     ]
    },
    "colab_type": "code",
    "executionInfo": {
     "elapsed": 1487,
     "status": "ok",
     "timestamp": 1522791474926,
     "user": {
      "displayName": "Laura Moraes",
      "photoUrl": "//lh6.googleusercontent.com/-NtEJsWrqtds/AAAAAAAAAAI/AAAAAAAAeH4/7f6cdoC52S0/s50-c-k-no/photo.jpg",
      "userId": "113150701401294787712"
     },
     "user_tz": 180
    },
    "id": "eggqqcIdXfqD",
    "outputId": "b93cb6bf-50fb-4df5-d043-4ad5eea73107"
   },
   "outputs": [
    {
     "name": "stdout",
     "output_type": "stream",
     "text": [
      "name = input(\"What is your name: \")\n",
      "age = int(input(\"How old are you: \"))\n",
      "year = str((2014 - age)+100)\n",
      "print(name + \" will be 100 years old in the year \" + year)\n",
      "\n",
      "Belong to topics with probabilities:\n",
      "t: [3 4 1 2]\n",
      "P(t|d): [0.65295951 0.24703457 0.05000422 0.05000171]\n",
      "\n",
      "\n",
      "num = input(\"Enter a number: \")\n",
      "mod = num % 2\n",
      "if mod > 0:\n",
      "    print(\"You picked an odd number.\")\n",
      "else:\n",
      "    print(\"You picked an even number.\")\n",
      "Belong to topics with probabilities:\n",
      "t: [3 1 4 2]\n",
      "P(t|d): [0.80859196 0.06519802 0.06370337 0.06250665]\n",
      "\n",
      "\n",
      "num = int(input(\"give me a number to check: \"))\n",
      "check = int(input(\"give me a number to divide by: \"))\n",
      "\n",
      "if num % 4 == 0:\n",
      "    print(num, \"is a multiple of 4\")\n",
      "elif num % 2 == 0:\n",
      "    print(num, \"is an even number\")\n",
      "else:\n",
      "    print(num, \"is an odd number\")\n",
      "\n",
      "if num % check == 0:\n",
      "    print(num, \"divides evenly by\", check)\n",
      "else:\n",
      "    print(num, \"does not divide evenly by\", check)\n",
      "\n",
      "Belong to topics with probabilities:\n",
      "t: [3 1 4 2]\n",
      "P(t|d): [0.92405559 0.02564561 0.02529692 0.02500188]\n",
      "\n",
      "\n",
      "a = [1, 1, 2, 3, 5, 8, 13, 21, 34, 55, 89]\n",
      "\n",
      "num = int(raw_input(\"Choose a number: \"))\n",
      "\n",
      "new_list = []\n",
      "\n",
      "for i in a:\n",
      "\tif i < num:\n",
      "\t\tnew_list.append(i)\n",
      "\n",
      "print new_list\n",
      "Belong to topics with probabilities:\n",
      "t: [4 3 1 2]\n",
      "P(t|d): [0.65274713 0.26290519 0.04267657 0.04167112]\n",
      "\n",
      "\n",
      "__author__ = 'jeffreyhunt'\n",
      "\n",
      "num = int(input(\"Please choose a number to divide: \"))\n",
      "\n",
      "listRange = list(range(1,num+1))\n",
      "\n",
      "divisorList = []\n",
      "\n",
      "for number in listRange:\n",
      "    if num % number == 0:\n",
      "        divisorList.append(number)\n",
      "\n",
      "print(divisorList)\n",
      "Belong to topics with probabilities:\n",
      "t: [4 3 1 2]\n",
      "P(t|d): [0.5997596  0.33724167 0.03174612 0.03125261]\n",
      "\n",
      "\n"
     ]
    }
   ],
   "source": [
    "# Verificando 5 soluções de maneira aleatória\n",
    "N = 5\n",
    "\n",
    "cursor.execute(\"\"\"\n",
    "SELECT * FROM solution;\n",
    "\"\"\")\n",
    "\n",
    "solutions = list(cursor.fetchall())\n",
    "random.shuffle(list(range(len(solutions))))\n",
    "\n",
    "for i in range(N):\n",
    "    text = solutions[i][1]\n",
    "    x = lda_model.transform(vectorizer.transform([text]))[0]\n",
    "    print(text)\n",
    "    #print(x)\n",
    "    print(\"Belong to topics with probabilities:\")\n",
    "    topics = np.argsort(x)[:-6:-1]\n",
    "    probs = x[topics]\n",
    "    print(\"t: %s\" %(topics+1))\n",
    "    print(\"P(t|d): %s\" %probs)\n",
    "\n",
    "    print('\\n')"
   ]
  },
  {
   "cell_type": "code",
   "execution_count": 106,
   "metadata": {
    "colab": {
     "autoexec": {
      "startup": false,
      "wait_interval": 0
     },
     "base_uri": "https://localhost:8080/",
     "height": 161,
     "output_extras": [
      {
       "item_id": 1
      }
     ]
    },
    "colab_type": "code",
    "id": "GC9nfRHIXfqR",
    "outputId": "a1904f36-e3ec-458f-d1e6-7aa50135be7b"
   },
   "outputs": [
    {
     "name": "stderr",
     "output_type": "stream",
     "text": [
      "/home/lmoraes/miniconda3/envs/machine_teaching/lib/python3.6/site-packages/pyLDAvis/_prepare.py:387: DeprecationWarning: \n",
      ".ix is deprecated. Please use\n",
      ".loc for label based indexing or\n",
      ".iloc for positional indexing\n",
      "\n",
      "See the documentation here:\n",
      "http://pandas.pydata.org/pandas-docs/stable/indexing.html#ix-indexer-is-deprecated\n",
      "  topic_term_dists = topic_term_dists.ix[topic_order]\n"
     ]
    },
    {
     "data": {
      "text/html": [
       "\n",
       "<link rel=\"stylesheet\" type=\"text/css\" href=\"https://cdn.rawgit.com/bmabey/pyLDAvis/files/ldavis.v1.0.0.css\">\n",
       "\n",
       "\n",
       "<div id=\"ldavis_el14379140100692679440798627163\"></div>\n",
       "<script type=\"text/javascript\">\n",
       "\n",
       "var ldavis_el14379140100692679440798627163_data = {\"mdsDat\": {\"Freq\": [24.673650415759255, 7.111126894755186, 31.078899905991648, 37.136322783493924], \"cluster\": [1, 1, 1, 1], \"topics\": [1, 2, 3, 4], \"x\": [81.1556625366211, 9.373425483703613, 46.94595718383789, -24.836101531982422], \"y\": [-172.46453857421875, -138.25607299804688, -244.2461395263672, -210.03770446777344]}, \"tinfo\": {\"Category\": [\"Default\", \"Default\", \"Default\", \"Default\", \"Default\", \"Default\", \"Default\", \"Default\", \"Default\", \"Default\", \"Default\", \"Default\", \"Default\", \"Default\", \"Default\", \"Topic1\", \"Topic1\", \"Topic1\", \"Topic1\", \"Topic1\", \"Topic1\", \"Topic1\", \"Topic1\", \"Topic1\", \"Topic1\", \"Topic1\", \"Topic1\", \"Topic1\", \"Topic1\", \"Topic1\", \"Topic2\", \"Topic2\", \"Topic2\", \"Topic2\", \"Topic2\", \"Topic2\", \"Topic2\", \"Topic2\", \"Topic2\", \"Topic2\", \"Topic2\", \"Topic2\", \"Topic2\", \"Topic2\", \"Topic2\", \"Topic3\", \"Topic3\", \"Topic3\", \"Topic3\", \"Topic3\", \"Topic3\", \"Topic3\", \"Topic3\", \"Topic3\", \"Topic3\", \"Topic3\", \"Topic3\", \"Topic3\", \"Topic3\", \"Topic3\", \"Topic4\", \"Topic4\", \"Topic4\", \"Topic4\", \"Topic4\", \"Topic4\", \"Topic4\", \"Topic4\", \"Topic4\", \"Topic4\", \"Topic4\", \"Topic4\", \"Topic4\", \"Topic4\", \"Topic4\"], \"Freq\": [298.0, 368.0, 526.0, 335.0, 450.0, 310.0, 232.0, 202.0, 187.0, 226.0, 120.0, 490.0, 233.0, 110.0, 152.0, 334.3338192110127, 366.1662721719878, 50.642480164318556, 168.07906025921824, 45.33336448455541, 58.29427569887595, 15.551146086820234, 6.563547962656341, 0.9566320166237857, 0.2568073747866549, 0.3793353764475478, 0.2738025783023618, 0.25691332514168763, 0.28235258789881634, 0.27338735449267243, 297.38573955996446, 0.30486813722932293, 0.30195161913135143, 0.30149705363771967, 0.30616060905157905, 0.3576852814902944, 0.3012697410820011, 0.29880258987247393, 0.3013722638648609, 0.5691867067384317, 0.30285393532957783, 0.29857587514419426, 0.29964820531799496, 0.30479692925700835, 0.3040394441941471, 309.38109244749626, 186.79696416055825, 199.72531002724068, 210.55428863853734, 142.31480850851213, 49.98658534428136, 180.93168849850113, 32.855267351982135, 3.2845887216976206, 2.50075573000959, 0.25679303671071363, 0.2549619475477376, 0.25233780979566084, 0.2551317798892713, 0.2595160056467185, 449.4599607026218, 231.56023635836718, 523.1502782478151, 110.33198880477369, 73.70775321560129, 141.31177860589307, 32.779025163017565, 9.91989686418933, 1.5430740532254361, 1.6834411555024864, 0.2464733887386116, 0.24742332508452716, 0.3634960846969074, 0.2590521897690999, 0.24438722785721503], \"Term\": [\"import\", \"def\", \"in\", \"return\", \"for\", \"input\", \"range\", \"int\", \"format\", \"elif\", \"append\", \"if\", \"else\", \"while\", \"len\", \"return\", \"def\", \"while\", \"if\", \"len\", \"else\", \"elif\", \"append\", \"int\", \"format\", \"input\", \"range\", \"import\", \"for\", \"in\", \"import\", \"while\", \"append\", \"len\", \"format\", \"else\", \"int\", \"elif\", \"range\", \"if\", \"input\", \"return\", \"def\", \"for\", \"in\", \"input\", \"format\", \"int\", \"elif\", \"else\", \"while\", \"if\", \"len\", \"append\", \"in\", \"range\", \"import\", \"return\", \"def\", \"for\", \"for\", \"range\", \"in\", \"append\", \"len\", \"if\", \"else\", \"while\", \"int\", \"def\", \"format\", \"elif\", \"return\", \"input\", \"import\"], \"Total\": [298.0, 368.0, 526.0, 335.0, 450.0, 310.0, 232.0, 202.0, 187.0, 226.0, 120.0, 490.0, 233.0, 110.0, 152.0, 335.2482289806495, 368.4044933126976, 110.85383051001855, 490.8917140703509, 152.19788210577656, 233.74579465189595, 226.6516606403146, 120.482077108259, 202.5262858381719, 187.6064055331351, 310.32233394904245, 232.39220423724512, 298.14200206051106, 450.30662622542434, 526.2284607765115, 298.14200206051106, 110.85383051001855, 120.482077108259, 152.19788210577656, 187.6064055331351, 233.74579465189595, 202.5262858381719, 226.6516606403146, 232.39220423724512, 490.8917140703509, 310.32233394904245, 335.2482289806495, 368.4044933126976, 450.30662622542434, 526.2284607765115, 310.32233394904245, 187.6064055331351, 202.5262858381719, 226.6516606403146, 233.74579465189595, 110.85383051001855, 490.8917140703509, 152.19788210577656, 120.482077108259, 526.2284607765115, 232.39220423724512, 298.14200206051106, 335.2482289806495, 368.4044933126976, 450.30662622542434, 450.30662622542434, 232.39220423724512, 526.2284607765115, 120.482077108259, 152.19788210577656, 490.8917140703509, 233.74579465189595, 110.85383051001855, 202.5262858381719, 368.4044933126976, 187.6064055331351, 226.6516606403146, 335.2482289806495, 310.32233394904245, 298.14200206051106], \"loglift\": [15.0, 14.0, 13.0, 12.0, 11.0, 10.0, 9.0, 8.0, 7.0, 6.0, 5.0, 4.0, 3.0, 2.0, 1.0, 1.3967, 1.3933, 0.616, 0.3276, 0.1883, 0.0107, -1.2798, -1.5105, -3.9558, -5.1943, -5.3075, -5.3443, -5.6572, -5.9751, -6.1632, 2.641, -3.2526, -3.3455, -3.5807, -3.7745, -3.8388, -3.8671, -3.9879, -4.0043, -4.1163, -4.2886, -4.3801, -4.4708, -4.6545, -4.8128, 1.1656, 1.1643, 1.1547, 1.095, 0.6724, 0.3722, 0.1705, -0.3644, -2.4336, -4.1805, -5.6393, -5.8956, -6.0232, -6.1065, -6.2902, 0.9887, 0.987, 0.9847, 0.9026, 0.2655, -0.2547, -0.9739, -1.4231, -3.8865, -4.3978, -5.6443, -5.8295, -5.8363, -6.0978, -6.116], \"logprob\": [15.0, 14.0, 13.0, 12.0, 11.0, 10.0, 9.0, 8.0, 7.0, 6.0, 5.0, 4.0, 3.0, 2.0, 1.0, -1.1422, -1.0512, -3.0295, -1.8299, -3.1403, -2.8888, -4.2102, -5.0728, -6.9986, -8.3137, -7.9236, -8.2496, -8.3133, -8.2189, -8.2512, -0.0152, -6.8981, -6.9077, -6.9092, -6.8939, -6.7383, -6.91, -6.9182, -6.9096, -6.2738, -6.9047, -6.919, -6.9154, -6.8983, -6.9008, -1.4505, -1.9551, -1.8881, -1.8353, -2.2271, -3.2733, -1.987, -3.693, -5.9959, -6.2685, -8.5446, -8.5517, -8.5621, -8.5511, -8.534, -1.2551, -1.9183, -1.1033, -2.6597, -3.0631, -2.4122, -3.8734, -5.0686, -6.9294, -6.8423, -8.7637, -8.7598, -8.3751, -8.7139, -8.7722]}, \"token.table\": {\"Topic\": [1, 3, 4, 1, 4, 1, 3, 1, 3, 4, 4, 3, 1, 2, 3, 4, 2, 3, 4, 3, 1, 3, 4, 1, 3, 4, 4, 1, 1, 3, 4], \"Freq\": [0.058099927956173594, 0.024899969124074398, 0.9129988678827279, 0.9934732247940943, 0.005428815436033302, 0.07059290876051087, 0.9309439842792371, 0.24813280635219997, 0.6074975603795241, 0.14117901051073448, 0.9970983633166209, 0.9967676714906837, 0.3422343363814112, 0.002037109145127448, 0.3687167552680681, 0.28723238946297014, 0.9961696035693781, 0.0057009459267428255, 0.993864906562166, 0.9957388373172664, 0.0049376306678484555, 0.9875261335696912, 0.009875261335696911, 0.2956677148025311, 0.2168229908551895, 0.48620913100860674, 0.998312317581683, 0.9962767022380853, 0.46006529287583625, 0.4510444047802316, 0.09020888095604633], \"Term\": [\"append\", \"append\", \"append\", \"def\", \"def\", \"elif\", \"elif\", \"else\", \"else\", \"else\", \"for\", \"format\", \"if\", \"if\", \"if\", \"if\", \"import\", \"in\", \"in\", \"input\", \"int\", \"int\", \"int\", \"len\", \"len\", \"len\", \"range\", \"return\", \"while\", \"while\", \"while\"]}, \"R\": 15, \"lambda.step\": 0.01, \"plot.opts\": {\"xlab\": \"PC1\", \"ylab\": \"PC2\"}, \"topic.order\": [1, 2, 3, 4]};\n",
       "\n",
       "function LDAvis_load_lib(url, callback){\n",
       "  var s = document.createElement('script');\n",
       "  s.src = url;\n",
       "  s.async = true;\n",
       "  s.onreadystatechange = s.onload = callback;\n",
       "  s.onerror = function(){console.warn(\"failed to load library \" + url);};\n",
       "  document.getElementsByTagName(\"head\")[0].appendChild(s);\n",
       "}\n",
       "\n",
       "if(typeof(LDAvis) !== \"undefined\"){\n",
       "   // already loaded: just create the visualization\n",
       "   !function(LDAvis){\n",
       "       new LDAvis(\"#\" + \"ldavis_el14379140100692679440798627163\", ldavis_el14379140100692679440798627163_data);\n",
       "   }(LDAvis);\n",
       "}else if(typeof define === \"function\" && define.amd){\n",
       "   // require.js is available: use it to load d3/LDAvis\n",
       "   require.config({paths: {d3: \"https://cdnjs.cloudflare.com/ajax/libs/d3/3.5.5/d3.min\"}});\n",
       "   require([\"d3\"], function(d3){\n",
       "      window.d3 = d3;\n",
       "      LDAvis_load_lib(\"https://cdn.rawgit.com/bmabey/pyLDAvis/files/ldavis.v1.0.0.js\", function(){\n",
       "        new LDAvis(\"#\" + \"ldavis_el14379140100692679440798627163\", ldavis_el14379140100692679440798627163_data);\n",
       "      });\n",
       "    });\n",
       "}else{\n",
       "    // require.js not available: dynamically load d3 & LDAvis\n",
       "    LDAvis_load_lib(\"https://cdnjs.cloudflare.com/ajax/libs/d3/3.5.5/d3.min.js\", function(){\n",
       "         LDAvis_load_lib(\"https://cdn.rawgit.com/bmabey/pyLDAvis/files/ldavis.v1.0.0.js\", function(){\n",
       "                 new LDAvis(\"#\" + \"ldavis_el14379140100692679440798627163\", ldavis_el14379140100692679440798627163_data);\n",
       "            })\n",
       "         });\n",
       "}\n",
       "</script>"
      ],
      "text/plain": [
       "PreparedData(topic_coordinates=            Freq  cluster  topics          x           y\n",
       "topic                                                   \n",
       "0      24.673650        1       1  81.155663 -172.464539\n",
       "1       7.111127        1       2   9.373425 -138.256073\n",
       "2      31.078900        1       3  46.945957 -244.246140\n",
       "3      37.136323        1       4 -24.836102 -210.037704, topic_info=     Category        Freq    Term       Total  loglift  logprob\n",
       "term                                                           \n",
       "7     Default  298.000000  import  298.000000  15.0000  15.0000\n",
       "1     Default  368.000000     def  368.000000  14.0000  14.0000\n",
       "8     Default  526.000000      in  526.000000  13.0000  13.0000\n",
       "13    Default  335.000000  return  335.000000  12.0000  12.0000\n",
       "4     Default  450.000000     for  450.000000  11.0000  11.0000\n",
       "9     Default  310.000000   input  310.000000  10.0000  10.0000\n",
       "12    Default  232.000000   range  232.000000   9.0000   9.0000\n",
       "10    Default  202.000000     int  202.000000   8.0000   8.0000\n",
       "5     Default  187.000000  format  187.000000   7.0000   7.0000\n",
       "2     Default  226.000000    elif  226.000000   6.0000   6.0000\n",
       "0     Default  120.000000  append  120.000000   5.0000   5.0000\n",
       "6     Default  490.000000      if  490.000000   4.0000   4.0000\n",
       "3     Default  233.000000    else  233.000000   3.0000   3.0000\n",
       "14    Default  110.000000   while  110.000000   2.0000   2.0000\n",
       "11    Default  152.000000     len  152.000000   1.0000   1.0000\n",
       "13     Topic1  334.333819  return  335.248229   1.3967  -1.1422\n",
       "1      Topic1  366.166272     def  368.404493   1.3933  -1.0512\n",
       "14     Topic1   50.642480   while  110.853831   0.6160  -3.0295\n",
       "6      Topic1  168.079060      if  490.891714   0.3276  -1.8299\n",
       "11     Topic1   45.333364     len  152.197882   0.1883  -3.1403\n",
       "3      Topic1   58.294276    else  233.745795   0.0107  -2.8888\n",
       "2      Topic1   15.551146    elif  226.651661  -1.2798  -4.2102\n",
       "0      Topic1    6.563548  append  120.482077  -1.5105  -5.0728\n",
       "10     Topic1    0.956632     int  202.526286  -3.9558  -6.9986\n",
       "5      Topic1    0.256807  format  187.606406  -5.1943  -8.3137\n",
       "9      Topic1    0.379335   input  310.322334  -5.3075  -7.9236\n",
       "12     Topic1    0.273803   range  232.392204  -5.3443  -8.2496\n",
       "7      Topic1    0.256913  import  298.142002  -5.6572  -8.3133\n",
       "4      Topic1    0.282353     for  450.306626  -5.9751  -8.2189\n",
       "8      Topic1    0.273387      in  526.228461  -6.1632  -8.2512\n",
       "...       ...         ...     ...         ...      ...      ...\n",
       "9      Topic3  309.381092   input  310.322334   1.1656  -1.4505\n",
       "5      Topic3  186.796964  format  187.606406   1.1643  -1.9551\n",
       "10     Topic3  199.725310     int  202.526286   1.1547  -1.8881\n",
       "2      Topic3  210.554289    elif  226.651661   1.0950  -1.8353\n",
       "3      Topic3  142.314809    else  233.745795   0.6724  -2.2271\n",
       "14     Topic3   49.986585   while  110.853831   0.3722  -3.2733\n",
       "6      Topic3  180.931688      if  490.891714   0.1705  -1.9870\n",
       "11     Topic3   32.855267     len  152.197882  -0.3644  -3.6930\n",
       "0      Topic3    3.284589  append  120.482077  -2.4336  -5.9959\n",
       "8      Topic3    2.500756      in  526.228461  -4.1805  -6.2685\n",
       "12     Topic3    0.256793   range  232.392204  -5.6393  -8.5446\n",
       "7      Topic3    0.254962  import  298.142002  -5.8956  -8.5517\n",
       "13     Topic3    0.252338  return  335.248229  -6.0232  -8.5621\n",
       "1      Topic3    0.255132     def  368.404493  -6.1065  -8.5511\n",
       "4      Topic3    0.259516     for  450.306626  -6.2902  -8.5340\n",
       "4      Topic4  449.459961     for  450.306626   0.9887  -1.2551\n",
       "12     Topic4  231.560236   range  232.392204   0.9870  -1.9183\n",
       "8      Topic4  523.150278      in  526.228461   0.9847  -1.1033\n",
       "0      Topic4  110.331989  append  120.482077   0.9026  -2.6597\n",
       "11     Topic4   73.707753     len  152.197882   0.2655  -3.0631\n",
       "6      Topic4  141.311779      if  490.891714  -0.2547  -2.4122\n",
       "3      Topic4   32.779025    else  233.745795  -0.9739  -3.8734\n",
       "14     Topic4    9.919897   while  110.853831  -1.4231  -5.0686\n",
       "10     Topic4    1.543074     int  202.526286  -3.8865  -6.9294\n",
       "1      Topic4    1.683441     def  368.404493  -4.3978  -6.8423\n",
       "5      Topic4    0.246473  format  187.606406  -5.6443  -8.7637\n",
       "2      Topic4    0.247423    elif  226.651661  -5.8295  -8.7598\n",
       "13     Topic4    0.363496  return  335.248229  -5.8363  -8.3751\n",
       "9      Topic4    0.259052   input  310.322334  -6.0978  -8.7139\n",
       "7      Topic4    0.244387  import  298.142002  -6.1160  -8.7722\n",
       "\n",
       "[75 rows x 6 columns], token_table=      Topic      Freq    Term\n",
       "term                         \n",
       "0         1  0.058100  append\n",
       "0         3  0.024900  append\n",
       "0         4  0.912999  append\n",
       "1         1  0.993473     def\n",
       "1         4  0.005429     def\n",
       "2         1  0.070593    elif\n",
       "2         3  0.930944    elif\n",
       "3         1  0.248133    else\n",
       "3         3  0.607498    else\n",
       "3         4  0.141179    else\n",
       "4         4  0.997098     for\n",
       "5         3  0.996768  format\n",
       "6         1  0.342234      if\n",
       "6         2  0.002037      if\n",
       "6         3  0.368717      if\n",
       "6         4  0.287232      if\n",
       "7         2  0.996170  import\n",
       "8         3  0.005701      in\n",
       "8         4  0.993865      in\n",
       "9         3  0.995739   input\n",
       "10        1  0.004938     int\n",
       "10        3  0.987526     int\n",
       "10        4  0.009875     int\n",
       "11        1  0.295668     len\n",
       "11        3  0.216823     len\n",
       "11        4  0.486209     len\n",
       "12        4  0.998312   range\n",
       "13        1  0.996277  return\n",
       "14        1  0.460065   while\n",
       "14        3  0.451044   while\n",
       "14        4  0.090209   while, R=15, lambda_step=0.01, plot_opts={'xlab': 'PC1', 'ylab': 'PC2'}, topic_order=[1, 2, 3, 4])"
      ]
     },
     "execution_count": 106,
     "metadata": {},
     "output_type": "execute_result"
    }
   ],
   "source": [
    "import pyLDAvis.sklearn\n",
    " \n",
    "pyLDAvis.enable_notebook()\n",
    "panel = pyLDAvis.sklearn.prepare(lda_model, train_data_features, vectorizer, mds='tsne', sort_topics=False)\n",
    "panel"
   ]
  },
  {
   "cell_type": "markdown",
   "metadata": {
    "colab_type": "text",
    "id": "gI5bmxcEUkYd"
   },
   "source": [
    "#### Verificando distribuição de documentos por tópico ####"
   ]
  },
  {
   "cell_type": "code",
   "execution_count": 107,
   "metadata": {
    "colab": {
     "autoexec": {
      "startup": false,
      "wait_interval": 0
     },
     "base_uri": "https://localhost:8080/",
     "height": 35,
     "output_extras": [
      {
       "item_id": 1
      }
     ]
    },
    "colab_type": "code",
    "executionInfo": {
     "elapsed": 586,
     "status": "ok",
     "timestamp": 1522790340427,
     "user": {
      "displayName": "Laura Moraes",
      "photoUrl": "//lh6.googleusercontent.com/-NtEJsWrqtds/AAAAAAAAAAI/AAAAAAAAeH4/7f6cdoC52S0/s50-c-k-no/photo.jpg",
      "userId": "113150701401294787712"
     },
     "user_tz": 180
    },
    "id": "EqDioGBvUja9",
    "outputId": "0eb5570a-fed1-4129-e218-841502d90331"
   },
   "outputs": [
    {
     "data": {
      "text/plain": [
       "(758, 4)"
      ]
     },
     "execution_count": 107,
     "metadata": {},
     "output_type": "execute_result"
    }
   ],
   "source": [
    "row_sums = document_topic.sum(axis=1)\n",
    "document_topic_norm = document_topic / row_sums[:, np.newaxis]\n",
    "document_topic_norm.shape"
   ]
  },
  {
   "cell_type": "markdown",
   "metadata": {
    "colab_type": "text",
    "id": "cAw-bMPCY8QN"
   },
   "source": [
    "Considerando somente pertinência máxima"
   ]
  },
  {
   "cell_type": "code",
   "execution_count": 108,
   "metadata": {
    "colab": {
     "autoexec": {
      "startup": false,
      "wait_interval": 0
     }
    },
    "colab_type": "code",
    "id": "62-MHZJJY4q1"
   },
   "outputs": [
    {
     "data": {
      "text/plain": [
       "Counter({0: 244, 1: 111, 2: 152, 3: 251})"
      ]
     },
     "execution_count": 108,
     "metadata": {},
     "output_type": "execute_result"
    }
   ],
   "source": [
    "Counter(np.argmax(document_topic, axis=1))"
   ]
  },
  {
   "cell_type": "markdown",
   "metadata": {
    "colab_type": "text",
    "id": "SY_eLsSDZBbU"
   },
   "source": [
    "Considerando probabilidade"
   ]
  },
  {
   "cell_type": "code",
   "execution_count": 109,
   "metadata": {
    "colab": {
     "autoexec": {
      "startup": false,
      "wait_interval": 0
     }
    },
    "colab_type": "code",
    "id": "cTvyuEuLYroD"
   },
   "outputs": [
    {
     "data": {
      "image/png": "[encoded data removed]",
      "text/plain": [
       "<matplotlib.figure.Figure at 0x7f6bb4cac940>"
      ]
     },
     "metadata": {},
     "output_type": "display_data"
    }
   ],
   "source": [
    "fig = plt.figure(figsize=(12,8))\n",
    "ax = sns.heatmap(document_topic_norm)\n",
    "plt.show()"
   ]
  },
  {
   "cell_type": "code",
   "execution_count": 110,
   "metadata": {
    "colab": {
     "autoexec": {
      "startup": false,
      "wait_interval": 0
     }
    },
    "colab_type": "code",
    "collapsed": true,
    "id": "uIDjSpcRXfqw"
   },
   "outputs": [],
   "source": [
    "def print_top_words(topic_word, feature_names, n_top_words):\n",
    "    for topic_idx, topic in enumerate(topic_word):\n",
    "        message = \"Topic #%d: \" % (topic_idx+1)\n",
    "        message += \" \".join([feature_names[i]\n",
    "                             for i in topic.argsort()[:-n_top_words - 1:-1]])\n",
    "        print(message)\n",
    "    print()"
   ]
  },
  {
   "cell_type": "code",
   "execution_count": 112,
   "metadata": {
    "colab": {
     "autoexec": {
      "startup": false,
      "wait_interval": 0
     },
     "output_extras": [
      {}
     ]
    },
    "colab_type": "code",
    "id": "_PR0VIo9Xfqy",
    "outputId": "10bb1c8f-c3e3-419a-8e95-16db0ff86cdb",
    "scrolled": false
   },
   "outputs": [
    {
     "name": "stdout",
     "output_type": "stream",
     "text": [
      "\n",
      "Topics in LDA model:\n",
      "Topic #1: def return if else while\n",
      "Topic #2: import if else format while\n",
      "Topic #3: input elif int format if\n",
      "Topic #4: in for range if append\n",
      "\n"
     ]
    }
   ],
   "source": [
    "print(\"\\nTopics in LDA model:\")\n",
    "feature_names = vectorizer.get_feature_names()\n",
    "print_top_words(topic_word, feature_names, 5)"
   ]
  }
 ],
 "metadata": {
  "colab": {
   "default_view": {},
   "name": "02 - Clustering solutions (LDA).ipynb",
   "provenance": [],
   "version": "0.3.2",
   "views": {}
  },
  "kernelspec": {
   "display_name": "Python 3",
   "language": "python",
   "name": "python3"
  },
  "language_info": {
   "codemirror_mode": {
    "name": "ipython",
    "version": 3
   },
   "file_extension": ".py",
   "mimetype": "text/x-python",
   "name": "python",
   "nbconvert_exporter": "python",
   "pygments_lexer": "ipython3",
   "version": "3.6.2"
  }
 },
 "nbformat": 4,
 "nbformat_minor": 1
}
