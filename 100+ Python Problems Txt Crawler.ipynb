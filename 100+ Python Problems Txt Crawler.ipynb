{
 "cells": [
  {
   "cell_type": "code",
   "execution_count": 1,
   "metadata": {
    "collapsed": true
   },
   "outputs": [],
   "source": [
    "from datetime import datetime\n",
    "from db import PythonProblems"
   ]
  },
  {
   "cell_type": "code",
   "execution_count": 23,
   "metadata": {
    "scrolled": false
   },
   "outputs": [
    {
     "name": "stdout",
     "output_type": "stream",
     "text": [
      "\n",
      "Question:\n",
      "Define a function that can convert a integer into a string and print it in console.\n",
      "\n",
      "Hints:\n",
      "\n",
      "Use str() to convert a number to string.\n",
      "\n",
      "Solution\n",
      "def printValue(n):\n",
      "\tprint str(n)\n",
      "\n",
      "printValue(3)\n",
      "\t\n",
      "\n",
      "\n"
     ]
    }
   ],
   "source": [
    "with open('100+ Python challenging programming exercises.txt', 'r', encoding='latin1') as python_file:\n",
    "    content = python_file.read()\n",
    "    \n",
    "content = content.split('#----------------------------------------#')\n",
    "print(content[52])"
   ]
  },
  {
   "cell_type": "code",
   "execution_count": 18,
   "metadata": {},
   "outputs": [
    {
     "data": {
      "text/plain": [
       "128"
      ]
     },
     "execution_count": 18,
     "metadata": {},
     "output_type": "execute_result"
    }
   ],
   "source": [
    "len(content)"
   ]
  }
 ],
 "metadata": {
  "kernelspec": {
   "display_name": "Python 3",
   "language": "python",
   "name": "python3"
  },
  "language_info": {
   "codemirror_mode": {
    "name": "ipython",
    "version": 3
   },
   "file_extension": ".py",
   "mimetype": "text/x-python",
   "name": "python",
   "nbconvert_exporter": "python",
   "pygments_lexer": "ipython3",
   "version": "3.6.2"
  }
 },
 "nbformat": 4,
 "nbformat_minor": 2
}
