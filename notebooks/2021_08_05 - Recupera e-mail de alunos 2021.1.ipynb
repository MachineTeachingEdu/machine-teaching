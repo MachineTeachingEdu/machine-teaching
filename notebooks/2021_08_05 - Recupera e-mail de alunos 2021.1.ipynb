{
 "cells": [
  {
   "cell_type": "code",
   "execution_count": 1,
   "metadata": {},
   "outputs": [
    {
     "data": {
      "text/plain": [
       "20"
      ]
     },
     "execution_count": 1,
     "metadata": {},
     "output_type": "execute_result"
    }
   ],
   "source": [
    "from datetime import datetime\n",
    "not_valid = ['Vídeo', 'Sem turma', 'Turma aberta', 'EP1 - Natanael - COMP 2', 'Daniel-Bastos-Teste']\n",
    "# onlineclasses = OnlineClass.objects.exclude(name__in=not_valid)\n",
    "data_inicio = datetime.strptime('12/07/2021 00:00:00', '%d/%m/%Y %H:%M:%S')\n",
    "\n",
    "onlineclasses = OnlineClass.objects.filter(active=True, start_date__gte=data_inicio).exclude(name__in=not_valid)\n",
    "onlineclasses.count()"
   ]
  },
  {
   "cell_type": "code",
   "execution_count": 2,
   "metadata": {},
   "outputs": [
    {
     "name": "stdout",
     "output_type": "stream",
     "text": [
      "Comp1_2021_1_EP1(Carla)\n",
      "CompI_2021.1_EC2(Jéssica)\n",
      "CompI_2021.1_IGA/IG1(Jéssica)\n",
      "Comp1 EE1 - 2021-1 - Anamaria\n",
      "CompI.2021.1 - ER1 (Luiz Fernando)\n",
      "Comp1_2021_1_EM1(Carla)\n",
      "CompI.2021.1 - CMT3 (Luiz Fernando)\n",
      "CompI.2021.1 - CMT2 (Luiz Fernando)\n",
      "EE1 - 2021-1 - Anamaria\n",
      "MAA Computação I MAB121\n",
      "IQT Computação I MAB121\n",
      "IFN-IQQ-IQN Computação I MAB121, MAW112\n",
      "EM2 - Natanael\n",
      "MAB121 - CMT1 (2021.1) - Eduardo Mangeli\n",
      "MAB114 - EM2 (2021.1) - Eduardo Mangeli\n",
      "MAW112 - MAN (2021.1) - Eduardo Mangeli\n",
      "Comp 1 ET1 - 2021.1 - Daniel Alfaro\n",
      "Computação 1 (MAE) 2021.1 Ter e Qui - 8 h às 10 h\n",
      "Computação 1 (EP1) 2021.1 Seg de 13 h às 15 h e Sex de 10 h às 12 h\n",
      "Computação 1 (CMT4) 2021.1 Ter e Qui 15 h às 17 h\n"
     ]
    }
   ],
   "source": [
    "for item in onlineclasses:\n",
    "    print(item.name)"
   ]
  },
  {
   "cell_type": "code",
   "execution_count": 4,
   "metadata": {},
   "outputs": [
    {
     "data": {
      "text/plain": [
       "93"
      ]
     },
     "execution_count": 4,
     "metadata": {},
     "output_type": "execute_result"
    }
   ],
   "source": [
    "professors = Professor.objects.all().values_list('user')\n",
    "professors.count()"
   ]
  },
  {
   "cell_type": "code",
   "execution_count": 5,
   "metadata": {},
   "outputs": [
    {
     "data": {
      "text/plain": [
       "668"
      ]
     },
     "execution_count": 5,
     "metadata": {},
     "output_type": "execute_result"
    }
   ],
   "source": [
    "userprofile = UserProfile.objects.filter(user_class__in=onlineclasses).exclude(user__in=professors).values_list(\n",
    "    'user__email', 'user__first_name', 'user__last_name')\n",
    "userprofile.count()"
   ]
  },
  {
   "cell_type": "code",
   "execution_count": 6,
   "metadata": {},
   "outputs": [],
   "source": [
    "import csv"
   ]
  },
  {
   "cell_type": "code",
   "execution_count": 7,
   "metadata": {},
   "outputs": [],
   "source": [
    "with open('contacts.csv', 'w') as csvfile:\n",
    "    writer = csv.writer(csvfile, delimiter=',',)\n",
    "    writer.writerow(['email', 'first_name', 'last_name', 'address_line_1', \n",
    "                     'address_line_2', 'city', 'state_province_region', \n",
    "                     'postal_code', 'country'])\n",
    "    for row in userprofile:\n",
    "        writer.writerow(list(row) + ['']*6)"
   ]
  }
 ],
 "metadata": {
  "kernelspec": {
   "display_name": "Django Shell-Plus",
   "language": "python",
   "name": "django_extensions"
  },
  "language_info": {
   "codemirror_mode": {
    "name": "ipython",
    "version": 3
   },
   "file_extension": ".py",
   "mimetype": "text/x-python",
   "name": "python",
   "nbconvert_exporter": "python",
   "pygments_lexer": "ipython3",
   "version": "3.8.5"
  }
 },
 "nbformat": 4,
 "nbformat_minor": 4
}
