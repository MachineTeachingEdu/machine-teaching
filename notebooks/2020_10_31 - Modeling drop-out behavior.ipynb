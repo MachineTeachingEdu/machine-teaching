{
 "cells": [
  {
   "cell_type": "code",
   "execution_count": 1,
   "metadata": {},
   "outputs": [],
   "source": [
    "import pickle\n",
    "import datetime\n",
    "from collections import defaultdict\n",
    "import rpy2\n",
    "import pandas as pd\n",
    "import matplotlib.pyplot as plt\n",
    "from django.db.models.functions import TruncDay"
   ]
  },
  {
   "cell_type": "code",
   "execution_count": 2,
   "metadata": {},
   "outputs": [],
   "source": [
    "%load_ext rpy2.ipython"
   ]
  },
  {
   "cell_type": "code",
   "execution_count": 3,
   "metadata": {},
   "outputs": [],
   "source": [
    "folder = \"data/comp1_2019_2/\""
   ]
  },
  {
   "cell_type": "code",
   "execution_count": 4,
   "metadata": {},
   "outputs": [],
   "source": [
    "with open('%s/questions_per_student.pkl' % folder, 'rb') as pklfile:\n",
    "    questions_per_student = pickle.load(pklfile)"
   ]
  },
  {
   "cell_type": "markdown",
   "metadata": {},
   "source": [
    "### Calculate drop-out rate and students submission per week"
   ]
  },
  {
   "cell_type": "code",
   "execution_count": 5,
   "metadata": {},
   "outputs": [
    {
     "name": "stdout",
     "output_type": "stream",
     "text": [
      "Students that submitted in the last 2 weeks: 108\n",
      "Students that submitted in the last 3 weeks: 125\n"
     ]
    }
   ],
   "source": [
    "# d = datetime.date(2020, 1, 1)\n",
    "students_list = list(questions_per_student.keys())\n",
    "students_count = []\n",
    "for c in range(3,11):\n",
    "    problems = Problem.objects.filter(chapter=c)\n",
    "    students = UserLog.objects.filter(problem__in=problems, \n",
    "#                                       timestamp__lte=d,\n",
    "                                     user_id__in=students_list).order_by('timestamp').values_list('user_id', \n",
    "                                                                                             flat=True,\n",
    "                                                                        ).order_by('user_id').distinct()\n",
    "    students_count.append(students.count())\n",
    "    \n",
    "    \n",
    "# Get students that finished  the last exercises\n",
    "problems = Problem.objects.filter(chapter__in=[9,10])\n",
    "students = UserLog.objects.filter(problem__in=problems, \n",
    "#                                       timestamp__lte=d,\n",
    "                                     user_id__in=students_list).order_by('timestamp'\n",
    "                                                                        ).values_list('user_id', \n",
    "                                                                                      flat=True,\n",
    "                                                                            ).order_by('user_id').distinct()\n",
    "print(\"Students that submitted in the last 2 weeks: %d\" % students.count())\n",
    "\n",
    "# Get students that finished  the last exercises\n",
    "problems = Problem.objects.filter(chapter__in=[8, 9,10])\n",
    "students = UserLog.objects.filter(problem__in=problems, \n",
    "#                                       timestamp__lte=d,\n",
    "                                     user_id__in=students_list).order_by('timestamp'\n",
    "                                                                        ).values_list('user_id', \n",
    "                                                                                      flat=True,\n",
    "                                                                            ).order_by('user_id').distinct()\n",
    "print(\"Students that submitted in the last 3 weeks: %d\" % students.count())"
   ]
  },
  {
   "cell_type": "code",
   "execution_count": 6,
   "metadata": {},
   "outputs": [
    {
     "data": {
      "image/png": "[encoded data removed]",
      "text/plain": [
       "<Figure size 432x288 with 1 Axes>"
      ]
     },
     "metadata": {
      "needs_background": "light"
     },
     "output_type": "display_data"
    }
   ],
   "source": [
    "# plt.figure(figsize=(5,4))\n",
    "plt.plot(range(3,11), students_count)\n",
    "plt.title(\"Quantity of students submitting exercises per week\")\n",
    "plt.xlabel(\"Course Week\")\n",
    "plt.ylabel(\"Number of different students\")\n",
    "plt.fill_between(range(3,11), students_count, alpha=0.3)\n",
    "plt.savefig(\"%s/dropout_rate.png\" % folder)\n",
    "plt.show()"
   ]
  },
  {
   "cell_type": "code",
   "execution_count": 14,
   "metadata": {},
   "outputs": [
    {
     "data": {
      "text/plain": [
       "[162, 155, 143, 129, 119, 112, 103, 75]"
      ]
     },
     "execution_count": 14,
     "metadata": {},
     "output_type": "execute_result"
    }
   ],
   "source": [
    "x = list(range(3,11))\n",
    "students_count"
   ]
  },
  {
   "cell_type": "code",
   "execution_count": 17,
   "metadata": {},
   "outputs": [
    {
     "name": "stdout",
     "output_type": "stream",
     "text": [
      "\n",
      "\tPearson's product-moment correlation\n",
      "\n",
      "data:  c(3:10) and c(162, 155, 143, 129, 119, 112, 103, 75)\n",
      "t = -13.934, df = 6, p-value = 8.514e-06\n",
      "alternative hypothesis: true correlation is not equal to 0\n",
      "95 percent confidence interval:\n",
      " -0.9973672 -0.9158607\n",
      "sample estimates:\n",
      "      cor \n",
      "-0.984898 \n",
      "\n"
     ]
    }
   ],
   "source": [
    "%%R\n",
    "cor.test(c(3:10), c(162,155,143,129,119,112,103,75))"
   ]
  },
  {
   "cell_type": "code",
   "execution_count": 20,
   "metadata": {},
   "outputs": [
    {
     "name": "stdout",
     "output_type": "stream",
     "text": [
      "[1] -0.2842083\n"
     ]
    }
   ],
   "source": [
    "%%R\n",
    "cor(c(5, 10, 15, 20, 25, 30, 35, 40, 45, 50, 55, 60, 65), \n",
    "         c(16., 15., 13., 15., 14., 13., 14., 12., 14., 15., 14., 10., 16.))"
   ]
  },
  {
   "cell_type": "markdown",
   "metadata": {},
   "source": [
    "### Features per week"
   ]
  },
  {
   "cell_type": "code",
   "execution_count": 7,
   "metadata": {
    "scrolled": true
   },
   "outputs": [
    {
     "name": "stdout",
     "output_type": "stream",
     "text": [
      "CPU times: user 7.89 s, sys: 208 ms, total: 8.1 s\n",
      "Wall time: 6min 8s\n"
     ]
    }
   ],
   "source": [
    "%%time\n",
    "data_per_week = defaultdict(dict)\n",
    "chapters = [3, 4]\n",
    "for key in questions_per_student.keys():\n",
    "    for c in chapters:\n",
    "        problems = Problem.objects.filter(chapter=c)\n",
    "        outcomes = UserLog.objects.filter(user_id=key, problem__in=problems).order_by('timestamp')\n",
    "        if outcomes.count():\n",
    "            outcomes = outcomes.filter(timestamp__lte=outcomes[0].timestamp+datetime.timedelta(weeks=2))\n",
    "            frequency = outcomes.annotate(day=TruncDay('timestamp')).values('day').order_by('day'\n",
    "                                                                                           ).distinct().count()\n",
    "            data_per_week[key].update({\"attempts_%s\" % c: outcomes.count(),\n",
    "                              \"success_rate_%s\" % c: outcomes.filter(outcome='P').count()/outcomes.count(),\n",
    "                              \"s_page_%s\"% c: sum(outcomes.values_list('seconds_in_page', flat=True)),\n",
    "                              \"s_code_%s\"% c: sum(outcomes.values_list('seconds_in_code', flat=True)),\n",
    "                              \"s_begin_%s\"% c: sum(outcomes.values_list('seconds_to_begin', flat=True)),\n",
    "                              \"frequency_%s\"% c: frequency\n",
    "                             })"
   ]
  },
  {
   "cell_type": "markdown",
   "metadata": {},
   "source": [
    "### Total features"
   ]
  },
  {
   "cell_type": "code",
   "execution_count": 20,
   "metadata": {},
   "outputs": [
    {
     "name": "stdout",
     "output_type": "stream",
     "text": [
      "CPU times: user 3.7 s, sys: 96.9 ms, total: 3.79 s\n",
      "Wall time: 3min 31s\n"
     ]
    }
   ],
   "source": [
    "%%time\n",
    "data_total = defaultdict(dict)\n",
    "chapters = [3, 4]\n",
    "for key in questions_per_student.keys():\n",
    "    problems = Problem.objects.filter(chapter__in=chapters)\n",
    "    outcomes = UserLog.objects.filter(user_id=key, problem__in=problems).order_by('timestamp')\n",
    "    if outcomes.count():\n",
    "        outcomes = outcomes.filter(timestamp__lte=outcomes[0].timestamp+datetime.timedelta(weeks=2))\n",
    "        frequency = outcomes.annotate(day=TruncDay('timestamp')).values('day').order_by('day'\n",
    "                                                                                       ).distinct().count()\n",
    "        data_total[key].update({\"atts\": outcomes.count(),\n",
    "                          \"success_rate\": outcomes.filter(outcome='P').count()/outcomes.count(),\n",
    "                          \"s_page\": sum(outcomes.values_list('seconds_in_page', flat=True)),\n",
    "                          \"s_code\": sum(outcomes.values_list('seconds_in_code', flat=True)),\n",
    "                          \"s_begin\": sum(outcomes.values_list('seconds_to_begin', flat=True)),\n",
    "                          \"unique_days\": frequency\n",
    "                         })"
   ]
  },
  {
   "cell_type": "code",
   "execution_count": 10,
   "metadata": {
    "scrolled": true
   },
   "outputs": [],
   "source": [
    "chapters = [9, 10]\n",
    "for key in questions_per_student.keys():\n",
    "    for c in chapters:\n",
    "        problems = Problem.objects.filter(chapter=c)\n",
    "        outcomes = UserLog.objects.filter(user_id=key, problem__in=problems).order_by('timestamp')\n",
    "        if outcomes.count():\n",
    "            outcomes = outcomes.filter(timestamp__lte=outcomes[0].timestamp+datetime.timedelta(weeks=2))\n",
    "            data_per_week[key].update({\"label\": True})\n",
    "#             data_total[key].update({\"label\": True})\n",
    "        else:\n",
    "            data_per_week[key].update({\"label\": False})\n",
    "#             data_total[key].update({\"label\": False})"
   ]
  },
  {
   "cell_type": "code",
   "execution_count": 11,
   "metadata": {},
   "outputs": [],
   "source": [
    "df_per_week = pd.DataFrame.from_dict(data_per_week, orient='index')\n",
    "# df_total = pd.DataFrame.from_dict(data_total, orient='index')"
   ]
  },
  {
   "cell_type": "code",
   "execution_count": 12,
   "metadata": {},
   "outputs": [
    {
     "data": {
      "text/plain": [
       "count       181\n",
       "unique        2\n",
       "top       False\n",
       "freq        106\n",
       "Name: label, dtype: object"
      ]
     },
     "execution_count": 12,
     "metadata": {},
     "output_type": "execute_result"
    }
   ],
   "source": [
    "df_per_week['label'].describe()"
   ]
  },
  {
   "cell_type": "code",
   "execution_count": 23,
   "metadata": {},
   "outputs": [],
   "source": [
    "df_per_week.to_csv('%s/dropout_data_per_week.csv' % folder, index=False)\n",
    "df_total.to_csv('%s/dropout_data_total.csv' % folder, index=False)"
   ]
  },
  {
   "cell_type": "code",
   "execution_count": 13,
   "metadata": {
    "scrolled": true
   },
   "outputs": [
    {
     "name": "stderr",
     "output_type": "stream",
     "text": [
      "R[write to console]: gdata: read.xls support for 'XLS' (Excel 97-2004) files ENABLED.\n",
      "\n",
      "R[write to console]: \n",
      "\n",
      "R[write to console]: gdata: read.xls support for 'XLSX' (Excel 2007+) files ENABLED.\n",
      "\n",
      "R[write to console]: \n",
      "Attaching package: ‘gdata’\n",
      "\n",
      "\n",
      "R[write to console]: The following object is masked from ‘package:stats’:\n",
      "\n",
      "    nobs\n",
      "\n",
      "\n",
      "R[write to console]: The following object is masked from ‘package:utils’:\n",
      "\n",
      "    object.size\n",
      "\n",
      "\n",
      "R[write to console]: The following object is masked from ‘package:base’:\n",
      "\n",
      "    startsWith\n",
      "\n",
      "\n",
      "R[write to console]: Loading required package: tibble\n",
      "\n",
      "R[write to console]: Loading required package: bitops\n",
      "\n",
      "R[write to console]: Rattle: A free graphical interface for data science with R.\n",
      "Version 5.4.0 Copyright (c) 2006-2020 Togaware Pty Ltd.\n",
      "Type 'rattle()' to shake, rattle, and roll your data.\n",
      "\n",
      "R[write to console]: ── \u001b[1mAttaching packages\u001b[22m ─────────────────────────────────────── tidyverse 1.3.0 ──\n",
      "\n",
      "R[write to console]: \u001b[32m✔\u001b[39m \u001b[34mggplot2\u001b[39m 3.3.1     \u001b[32m✔\u001b[39m \u001b[34mdplyr  \u001b[39m 1.0.0\n",
      "\u001b[32m✔\u001b[39m \u001b[34mtidyr  \u001b[39m 1.1.0     \u001b[32m✔\u001b[39m \u001b[34mstringr\u001b[39m 1.4.0\n",
      "\u001b[32m✔\u001b[39m \u001b[34mreadr  \u001b[39m 1.3.1     \u001b[32m✔\u001b[39m \u001b[34mforcats\u001b[39m 0.4.0\n",
      "\u001b[32m✔\u001b[39m \u001b[34mpurrr  \u001b[39m 0.3.4     \n",
      "\n",
      "R[write to console]: ── \u001b[1mConflicts\u001b[22m ────────────────────────────────────────── tidyverse_conflicts() ──\n",
      "\u001b[31m✖\u001b[39m \u001b[34mdplyr\u001b[39m::\u001b[32mcombine()\u001b[39m masks \u001b[34mgdata\u001b[39m::combine()\n",
      "\u001b[31m✖\u001b[39m \u001b[34mdplyr\u001b[39m::\u001b[32mfilter()\u001b[39m  masks \u001b[34mstats\u001b[39m::filter()\n",
      "\u001b[31m✖\u001b[39m \u001b[34mdplyr\u001b[39m::\u001b[32mfirst()\u001b[39m   masks \u001b[34mgdata\u001b[39m::first()\n",
      "\u001b[31m✖\u001b[39m \u001b[34mpurrr\u001b[39m::\u001b[32mkeep()\u001b[39m    masks \u001b[34mgdata\u001b[39m::keep()\n",
      "\u001b[31m✖\u001b[39m \u001b[34mdplyr\u001b[39m::\u001b[32mlag()\u001b[39m     masks \u001b[34mstats\u001b[39m::lag()\n",
      "\u001b[31m✖\u001b[39m \u001b[34mdplyr\u001b[39m::\u001b[32mlast()\u001b[39m    masks \u001b[34mgdata\u001b[39m::last()\n",
      "\n",
      "R[write to console]: Loading required package: lattice\n",
      "\n",
      "R[write to console]: \n",
      "Attaching package: ‘caret’\n",
      "\n",
      "\n",
      "R[write to console]: The following object is masked from ‘package:purrr’:\n",
      "\n",
      "    lift\n",
      "\n",
      "\n"
     ]
    }
   ],
   "source": [
    "%%R\n",
    "library(gdata)\n",
    "library(rattle)\n",
    "library(rpart)\n",
    "library(e1071)\n",
    "library(tidyverse)\n",
    "library(caret)"
   ]
  },
  {
   "cell_type": "code",
   "execution_count": 14,
   "metadata": {},
   "outputs": [],
   "source": [
    "df = df_per_week"
   ]
  },
  {
   "cell_type": "code",
   "execution_count": 15,
   "metadata": {},
   "outputs": [
    {
     "name": "stdout",
     "output_type": "stream",
     "text": [
      "   Recall    Recall    Recall    Recall    Recall    Recall    Recall    Recall \n",
      "0.9878049 0.9268293 0.3658537 0.9268293 0.8658537 0.2804878 0.9268293 0.5365854 \n",
      "   Recall    Recall    Recall    Recall    Recall    Recall    Recall \n",
      "0.4512195 0.8780488 0.8170732 0.4512195 0.8780488 0.8170732 0.5243902 \n",
      "       F1        F1        F1        F1        F1        F1        F1        F1 \n",
      "0.7714286 0.7600000 0.5042017 0.7875648 0.7759563 0.4339623 0.7875648 0.6518519 \n",
      "       F1        F1        F1        F1        F1        F1        F1 \n",
      "0.6065574 0.7955801 0.7836257 0.6065574 0.7955801 0.7836257 0.6666667 \n",
      " Accuracy  Accuracy  Accuracy  Accuracy  Accuracy  Accuracy  Accuracy  Accuracy \n",
      "0.6689655 0.6689655 0.5931034 0.7172414 0.7172414 0.5862069 0.7172414 0.6758621 \n",
      " Accuracy  Accuracy  Accuracy  Accuracy  Accuracy  Accuracy  Accuracy \n",
      "0.6689655 0.7448276 0.7448276 0.6689655 0.7448276 0.7448276 0.7034483 \n",
      " [1] 0.6 0.5 0.4 0.6 0.5 0.4 0.6 0.5 0.4 0.6 0.5 0.4 0.6 0.5 0.4\n",
      " [1] 2 2 2 3 3 3 4 4 4 5 5 5 6 6 6\n"
     ]
    }
   ],
   "source": [
    "%%R -i df\n",
    "\n",
    "set.seed(84)\n",
    "nrows <- nrow(df)\n",
    "ntrain <- sample(nrows, round(nrows*0.8))\n",
    "train <- df[ntrain,]\n",
    "test_all <- df[-ntrain,]\n",
    "test <- test_all %>% select(-label)\n",
    "test_true <- test_all %>% select(label)\n",
    "train_s <- train %>% select(-label)\n",
    "train_true <- train %>% select(label)\n",
    "\n",
    "priors_false = c(0.6, 0.5, 0.4)\n",
    "max_depth = c(2,3,4,5,6)\n",
    "recall = c()\n",
    "f1 = c()\n",
    "acc = c()\n",
    "params_prior = c()\n",
    "params_maxdepth = c()\n",
    "for (md in max_depth){\n",
    "  for (p in priors_false) {\n",
    "    params_prior = c(params_prior, p)\n",
    "    params_maxdepth = c(params_maxdepth, md)\n",
    "    p_true <- 1 - p\n",
    "    control <- rpart.control(maxdepth=md)\n",
    "    model = rpart(formula = label ~ ., data = train, method='class', control=control, \n",
    "                  parms = list(prior = c(p, p_true), split = \"gini\"), xval=10)\n",
    "    # # Prevendo no treino\n",
    "    train_prediction <- predict(model, newdata=train_s, type='class')\n",
    "    train_prediction <- as.factor(as.logical(train_prediction))\n",
    "    train_true <- as.factor(as.logical(unlist(train_true)))\n",
    "    cm <- caret::confusionMatrix(train_prediction, train_true)\n",
    "    recall <- c(recall, cm$byClass[6])\n",
    "    acc <- c(acc, cm$overall[1])\n",
    "    f1 <- c(f1, cm$byClass[7])\n",
    "  }\n",
    "};\n",
    "\n",
    "print(recall)\n",
    "print(f1)\n",
    "print(acc)\n",
    "print(params_prior)\n",
    "print(params_maxdepth)"
   ]
  },
  {
   "cell_type": "markdown",
   "metadata": {},
   "source": [
    "### Best models:\n",
    "1. Prior = 0.6 (NOT COMPLETED) and 0.4 (COMPLETED)\n",
    "2. Max depth = 3, 4 and 2"
   ]
  },
  {
   "cell_type": "code",
   "execution_count": 16,
   "metadata": {},
   "outputs": [
    {
     "name": "stdout",
     "output_type": "stream",
     "text": [
      "Confusion Matrix and Statistics\n",
      "\n",
      "          Reference\n",
      "Prediction FALSE TRUE\n",
      "     FALSE    16    4\n",
      "     TRUE      8    8\n",
      "                                          \n",
      "               Accuracy : 0,6667          \n",
      "                 95% CI : (0,4903, 0,8144)\n",
      "    No Information Rate : 0,6667          \n",
      "    P-Value [Acc > NIR] : 0,5775          \n",
      "                                          \n",
      "                  Kappa : 0,3077          \n",
      "                                          \n",
      " Mcnemar's Test P-Value : 0,3865          \n",
      "                                          \n",
      "            Sensitivity : 0,6667          \n",
      "            Specificity : 0,6667          \n",
      "         Pos Pred Value : 0,8000          \n",
      "         Neg Pred Value : 0,5000          \n",
      "             Prevalence : 0,6667          \n",
      "         Detection Rate : 0,4444          \n",
      "   Detection Prevalence : 0,5556          \n",
      "      Balanced Accuracy : 0,6667          \n",
      "                                          \n",
      "       'Positive' Class : FALSE           \n",
      "                                          \n",
      "         Sensitivity          Specificity       Pos Pred Value \n",
      "           0,6666667            0,6666667            0,8000000 \n",
      "      Neg Pred Value            Precision               Recall \n",
      "           0,5000000            0,8000000            0,6666667 \n",
      "                  F1           Prevalence       Detection Rate \n",
      "           0,7272727            0,6666667            0,4444444 \n",
      "Detection Prevalence    Balanced Accuracy \n",
      "           0,5555556            0,6666667 \n",
      "   Recall \n",
      "0,6666667 \n",
      " Accuracy \n",
      "0,6666667 \n",
      "       F1 \n",
      "0,7272727 \n"
     ]
    },
    {
     "data": {
      "image/png": "[encoded data removed]"
     },
     "metadata": {},
     "output_type": "display_data"
    }
   ],
   "source": [
    "%%R -o cm\n",
    "\n",
    "set.seed(84)\n",
    "nrows <- nrow(df)\n",
    "ntrain <- sample(nrows, round(nrows*0.8))\n",
    "train <- df[ntrain,]\n",
    "test_all <- df[-ntrain,]\n",
    "test <- test_all %>% select(-label)\n",
    "test_true <- test_all %>% select(label)\n",
    "train_s <- train %>% select(-label)\n",
    "train_true <- train %>% select(label)\n",
    "\n",
    "control <- rpart.control(maxdepth=3)\n",
    "model = rpart(formula = label ~ ., data = train, method='class', control=control, \n",
    "              parms = list(split = \"gini\"), xval=10)\n",
    "\n",
    "fancyRpartPlot(model,sub=\"Decision Tree\")\n",
    "\n",
    "# # Prevendo no teste\n",
    "test_prediction <- predict(model, newdata=test, type='class')\n",
    "test_prediction <- as.factor(as.logical(test_prediction))\n",
    "test_true <- as.factor(as.logical(unlist(test_true)))\n",
    "cm <- caret::confusionMatrix(test_prediction, test_true)\n",
    "print(cm)\n",
    "print(cm$byClass)\n",
    "print(cm$byClass[6])\n",
    "print(cm$overall[1])\n",
    "print(cm$byClass[7])"
   ]
  },
  {
   "cell_type": "code",
   "execution_count": null,
   "metadata": {},
   "outputs": [],
   "source": [
    "from sklearn import metrics"
   ]
  },
  {
   "cell_type": "code",
   "execution_count": 162,
   "metadata": {},
   "outputs": [
    {
     "name": "stdout",
     "output_type": "stream",
     "text": [
      "[[19  5]\n",
      " [ 5  7]]\n",
      "F1: 0.58\n",
      "Acc: 0.72\n",
      "Recall: 0.58\n"
     ]
    }
   ],
   "source": [
    "avg_suc = df.mean()['success_rate_3']\n",
    "def pred(row):\n",
    "    if row['success_rate_3'] >= avg_suc:\n",
    "        return True\n",
    "    return False\n",
    "pred_value = test_all.apply(pred, axis=1)\n",
    "\n",
    "print(metrics.confusion_matrix(test_all['label'], pred_value))\n",
    "print(\"F1: %.2f\" % metrics.f1_score(test_all['label'], pred_value))\n",
    "print(\"Acc: %.2f\" % metrics.accuracy_score(test_all['label'], pred_value))\n",
    "print(\"Recall: %.2f\" %  metrics.recall_score(test_all['label'], pred_value))"
   ]
  },
  {
   "cell_type": "code",
   "execution_count": 163,
   "metadata": {},
   "outputs": [
    {
     "name": "stdout",
     "output_type": "stream",
     "text": [
      "[[22  2]\n",
      " [ 5  7]]\n",
      "F1: 0.67\n",
      "Acc: 0.81\n",
      "Recall: 0.58\n"
     ]
    }
   ],
   "source": [
    "def pred(row):\n",
    "    if row['success_rate_3'] >= 0.39:\n",
    "        return True\n",
    "    return False\n",
    "pred_value = test_all.apply(pred, axis=1)\n",
    "\n",
    "print(metrics.confusion_matrix(test_all['label'], pred_value))\n",
    "print(\"F1: %.2f\" % metrics.f1_score(test_all['label'], pred_value))\n",
    "print(\"Acc: %.2f\" % metrics.accuracy_score(test_all['label'], pred_value))\n",
    "print(\"Recall: %.2f\" %  metrics.recall_score(test_all['label'], pred_value))"
   ]
  }
 ],
 "metadata": {
  "kernelspec": {
   "display_name": "Python 3",
   "language": "python",
   "name": "python3"
  },
  "language_info": {
   "codemirror_mode": {
    "name": "ipython",
    "version": 3
   },
   "file_extension": ".py",
   "mimetype": "text/x-python",
   "name": "python",
   "nbconvert_exporter": "python",
   "pygments_lexer": "ipython3",
   "version": "3.8.5"
  }
 },
 "nbformat": 4,
 "nbformat_minor": 4
}
