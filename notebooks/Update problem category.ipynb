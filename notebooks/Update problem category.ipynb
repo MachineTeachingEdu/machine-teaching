{
 "cells": [
  {
   "cell_type": "code",
   "execution_count": 2,
   "metadata": {
    "collapsed": true
   },
   "outputs": [],
   "source": [
    "from db import PythonProblems"
   ]
  },
  {
   "cell_type": "code",
   "execution_count": 5,
   "metadata": {},
   "outputs": [],
   "source": [
    "db = PythonProblems('python.sqlite')\n",
    "conn = db.create_connection()"
   ]
  },
  {
   "cell_type": "code",
   "execution_count": 8,
   "metadata": {},
   "outputs": [
    {
     "data": {
      "text/plain": [
       "<sqlite3.Cursor at 0x7f4e983c63b0>"
      ]
     },
     "execution_count": 8,
     "metadata": {},
     "output_type": "execute_result"
    }
   ],
   "source": [
    "sql = \"ALTER TABLE problem ADD COLUMN category text;\"\n",
    "c = conn.cursor()\n",
    "c.execute(sql)\n",
    "conn.commit()"
   ]
  },
  {
   "cell_type": "code",
   "execution_count": 14,
   "metadata": {},
   "outputs": [],
   "source": [
    "sql = 'SELECT id from problem where link=\"https://pythonschool.net/basics/selection-exercises/\";'\n",
    "c = conn.cursor()\n",
    "c.execute(sql)\n",
    "results = c.fetchall()"
   ]
  },
  {
   "cell_type": "code",
   "execution_count": 21,
   "metadata": {},
   "outputs": [
    {
     "data": {
      "text/plain": [
       "<sqlite3.Cursor at 0x7f4e983bd570>"
      ]
     },
     "execution_count": 21,
     "metadata": {},
     "output_type": "execute_result"
    }
   ],
   "source": [
    "sql = 'UPDATE problem SET category = \"conditional\" where id in (%s);'\n",
    "ids = []\n",
    "for p_id in results:\n",
    "    ids.append(str(p_id[0]))\n",
    "    \n",
    "c.execute(sql % ','.join(ids))"
   ]
  },
  {
   "cell_type": "code",
   "execution_count": 24,
   "metadata": {
    "collapsed": true
   },
   "outputs": [],
   "source": [
    "links = [(\"https://pythonschool.net/basics/selection-exercises/\", \"conditional\"),\n",
    "         (\"https://pythonschool.net/basics/iteration-exercises/\", \"loop\"),\n",
    "         (\"https://pythonschool.net/basics/lists-exercises/\", \"list\"),\n",
    "         (\"https://pythonschool.net/basics/functions-exercises/\", \"function\"),\n",
    "         (\"https://pythonschool.net/basics/reading-from-a-file-part-2/\", \"file\"),\n",
    "         (\"https://pythonschool.net/basics/writing-to-a-file/\", \"file\"),\n",
    "         (\"https://www.w3resource.com/python-exercises/string/\", \"string\"),\n",
    "         (\"https://www.w3resource.com/python-exercises/list/\", \"string\"),\n",
    "         (\"https://www.w3resource.com/python-exercises/dictionary/\", \"dict\"),\n",
    "         (\"https://www.w3resource.com/python-exercises/tuple/\", \"list\"),\n",
    "         (\"https://www.w3resource.com/python-exercises/sets/\", \"list\"),\n",
    "         (\"https://www.w3resource.com/python-exercises/python-functions-exercises.php\", \"function\"),\n",
    "         (\"https://www.w3resource.com/python-exercises/math/index.php\", \"math\")\n",
    "        ]"
   ]
  },
  {
   "cell_type": "code",
   "execution_count": 31,
   "metadata": {},
   "outputs": [],
   "source": [
    "for item in links:\n",
    "    # Get problems ids\n",
    "    sql = 'SELECT id from problem where link=\"%s\";' % item[0]\n",
    "    c = conn.cursor()\n",
    "    c.execute(sql)\n",
    "    results = c.fetchall()\n",
    "    \n",
    "    # Update column category\n",
    "    sql = 'UPDATE problem SET category = \"%s\" where id in (%s);'\n",
    "    ids = []\n",
    "    for p_id in results:\n",
    "        ids.append(str(p_id[0]))\n",
    "\n",
    "        c.execute(sql % (item[1], ','.join(ids)))"
   ]
  },
  {
   "cell_type": "code",
   "execution_count": 32,
   "metadata": {
    "collapsed": true
   },
   "outputs": [],
   "source": [
    "conn.commit()"
   ]
  },
  {
   "cell_type": "code",
   "execution_count": 36,
   "metadata": {},
   "outputs": [
    {
     "data": {
      "text/plain": [
       "9"
      ]
     },
     "execution_count": 36,
     "metadata": {},
     "output_type": "execute_result"
    }
   ],
   "source": [
    "sql = 'SELECT distinct(category) from problem;'\n",
    "c = conn.cursor()\n",
    "c.execute(sql)\n",
    "r = c.fetchall()\n",
    "len(r)"
   ]
  }
 ],
 "metadata": {
  "kernelspec": {
   "display_name": "Python 3",
   "language": "python",
   "name": "python3"
  },
  "language_info": {
   "codemirror_mode": {
    "name": "ipython",
    "version": 3
   },
   "file_extension": ".py",
   "mimetype": "text/x-python",
   "name": "python",
   "nbconvert_exporter": "python",
   "pygments_lexer": "ipython3",
   "version": "3.6.2"
  }
 },
 "nbformat": 4,
 "nbformat_minor": 2
}
