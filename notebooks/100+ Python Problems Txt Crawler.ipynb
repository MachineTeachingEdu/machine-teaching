{
 "cells": [
  {
   "cell_type": "code",
   "execution_count": 1,
   "metadata": {
    "collapsed": true
   },
   "outputs": [],
   "source": [
    "from datetime import datetime\n",
    "from db import PythonProblems\n",
    "import re"
   ]
  },
  {
   "cell_type": "markdown",
   "metadata": {},
   "source": [
    "### Creating and connecting to database"
   ]
  },
  {
   "cell_type": "code",
   "execution_count": 4,
   "metadata": {},
   "outputs": [],
   "source": [
    "db = PythonProblems('python.sqlite', 'init_tables.sql')"
   ]
  },
  {
   "cell_type": "code",
   "execution_count": 6,
   "metadata": {
    "scrolled": false
   },
   "outputs": [],
   "source": [
    "with open('100+ Python challenging programming exercises.txt', 'r', encoding='latin1') as python_file:\n",
    "    content = python_file.read()\n",
    "    \n",
    "content = content.split('#----------------------------------------#')\n",
    "problem_list = []\n",
    "hs_list = []\n",
    "\n",
    "# Remove introduction\n",
    "del content[0]\n",
    "del content[0]\n",
    "\n",
    "# Get problem main area\n",
    "for problem in content:\n",
    "    # Replace typos:\n",
    "    problem = problem.replace('Hint:', 'Hints:')\n",
    "    problem = re.sub('Hints\\n', 'Hints:', problem)\n",
    "    \n",
    "    # Remove empty lines\n",
    "    if problem.strip() == \"\":\n",
    "        continue\n",
    "        \n",
    "    problem_list.append(problem.split(\"Hints:\")[0])\n",
    "    hs_list.append(problem.split(\"Hints:\")[1])\n",
    "\n",
    "question_list = []\n",
    "question_error = []\n",
    "difficulty = []\n",
    "# Separate question from level\n",
    "for problem in problem_list:\n",
    "    # Get level\n",
    "    level = re.search('level (\\d+)', problem.lower())\n",
    "    try:\n",
    "        difficulty.append(int(level.group(1)))\n",
    "    except AttributeError:\n",
    "        difficulty.append(level)\n",
    "    \n",
    "    # Remove extra questions and level\n",
    "    problem = re.sub('Level \\d+', '', problem)\n",
    "    problem = re.sub('level \\d+', '', problem)\n",
    "    problem = re.sub('Question \\d+', '', problem)\n",
    "    problem = re.sub('Question£º', '', problem)\n",
    "    problem = re.sub('^\\d.\\d', '', problem.strip())\n",
    "    \n",
    "    try:\n",
    "        question_list.append(problem.split(\"Question:\")[1])\n",
    "    except IndexError:\n",
    "        question_list.append(problem)\n",
    "        \n",
    "hint_list = []\n",
    "solution_list = []\n",
    "# Separate solution from hint\n",
    "for solution in hs_list:\n",
    "    # Replace typos:\n",
    "    solution = solution.replace('Solutions:', 'Solution:')\n",
    "    solution = re.sub('Solution\\n', 'Solution:', solution)\n",
    "    \n",
    "    hint_list.append(solution.split('Solution:')[0])\n",
    "    solution_list.append(solution.split('Solution:')[1])\n",
    "\n",
    "problems = []\n",
    "solutions = []\n",
    "link = (\"https://github.com/zhiwehu/Python-programming-exercises/blob/\"\n",
    "       \"master/100%2B%20Python%20challenging%20programming%20exercises.txt\")\n",
    "# Create DB structure\n",
    "for idx in range(len(problem_list)):\n",
    "    problems.append({\"title\": \"\", \"difficulty\": difficulty[idx], \"link\": link,\n",
    "                     \"content\": question_list[idx].strip(), \"retrieved_date\": datetime.now(),\n",
    "                     \"hint\": hint_list[idx].strip(), \"crawler\": \"100+PythonProblems\"})\n",
    "    if not difficulty[idx]:\n",
    "        del problems[idx][\"difficulty\"]\n",
    "    \n",
    "    solutions.append({\"content\": solution_list[idx].strip(), \"link\": link,\n",
    "                      \"retrieved_date\": datetime.now(), \"ignore\": False,\n",
    "                      \"idx\": idx})"
   ]
  },
  {
   "cell_type": "code",
   "execution_count": 7,
   "metadata": {},
   "outputs": [
    {
     "name": "stdout",
     "output_type": "stream",
     "text": [
      "Got 97 problems inserted, 97 solutions inserted, 3 problems repeated and 0 solutions repeated\n"
     ]
    }
   ],
   "source": [
    "db.insert_rows(problems, solutions)\n",
    "tp, ts, rp, rs = db.populate()\n",
    "db.close_connection()\n",
    "print(\"Got %d problems inserted, %d solutions inserted, %d problems repeated and %d solutions repeated\" % (\n",
    "      tp, ts, rp, rs))"
   ]
  }
 ],
 "metadata": {
  "kernelspec": {
   "display_name": "Python 3",
   "language": "python",
   "name": "python3"
  },
  "language_info": {
   "codemirror_mode": {
    "name": "ipython",
    "version": 3
   },
   "file_extension": ".py",
   "mimetype": "text/x-python",
   "name": "python",
   "nbconvert_exporter": "python",
   "pygments_lexer": "ipython3",
   "version": "3.6.2"
  }
 },
 "nbformat": 4,
 "nbformat_minor": 2
}
