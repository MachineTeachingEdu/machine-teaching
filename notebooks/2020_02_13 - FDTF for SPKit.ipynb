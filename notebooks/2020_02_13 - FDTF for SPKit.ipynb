{
 "cells": [
  {
   "cell_type": "code",
   "execution_count": 195,
   "metadata": {},
   "outputs": [],
   "source": [
    "import numpy as np\n",
    "from scipy import sparse\n",
    "import matplotlib.pyplot as plt\n",
    "from spkit.simulate_student import SimulateStudent\n",
    "from spkit import bkt, pfa\n",
    "from sklearn.metrics import roc_curve, auc\n",
    "import pandas as pd\n",
    "import seaborn as sns\n",
    "from tqdm import notebook as tqdm"
   ]
  },
  {
   "cell_type": "markdown",
   "metadata": {},
   "source": [
    "### Simulate students"
   ]
  },
  {
   "cell_type": "markdown",
   "metadata": {},
   "source": [
    "Create data"
   ]
  },
  {
   "cell_type": "code",
   "execution_count": 292,
   "metadata": {},
   "outputs": [],
   "source": [
    "N_CONCEPTS = 3\n",
    "N_QUESTIONS = 20\n",
    "N_STUDENTS = 25\n",
    "N_ATTEMPTS = 3\n",
    "\n",
    "# Save original params: P_L0 P_T, P_S, P_G\n",
    "bkt_params = np.zeros((N_CONCEPTS, 4))\n",
    "\n",
    "# Create and fill Q Matrix (more than one concept per question)\n",
    "q_matrix = np.random.rand(N_QUESTIONS, N_CONCEPTS)\n",
    "q_matrix[q_matrix >= 0.5] = 1\n",
    "q_matrix[q_matrix < 0.5] = 0\n",
    "# If there is any zeroed column in the q matrix (question not belonging to concept), substitute it per 1\n",
    "q_matrix[np.where(q_matrix.sum(axis=1) == 0)] = 1\n",
    "\n",
    "# # Create and fill Q Matrix (just one concept per question)\n",
    "# q_matrix = np.zeros((N_QUESTIONS, N_CONCEPTS))\n",
    "# q_matrix[:,0] = np.random.rand(N_QUESTIONS)\n",
    "# q_matrix[q_matrix >= 0.5] = 1\n",
    "# q_matrix[q_matrix < 0.5] = 0\n",
    "# q_matrix[:,1] = 1-q_matrix[:,0]\n",
    "\n",
    "# Create and fill Q Matrix (just one concept)\n",
    "# q_matrix = np.ones((N_QUESTIONS, N_CONCEPTS))\n",
    "data = []\n",
    "\n",
    "# Generate a BKT model for each concept\n",
    "for concept in range(N_CONCEPTS):\n",
    "    p_L0 = np.random.uniform(0.1, 0.3)\n",
    "    p_T = np.random.uniform(0.1, 0.2)\n",
    "    p_S = np.random.uniform(0.1, 0.3)\n",
    "    p_G = np.random.uniform(0, 0.15)\n",
    "    bkt_params[concept,:] = (p_L0, p_T, p_S, p_G)\n",
    "\n",
    "#     data_time = []\n",
    "#     students = SimulateStudent(p_L0, p_T, p_S, p_G, timestamp_prior)\n",
    "    students = SimulateStudent(p_L0, p_T, p_S, p_G)\n",
    "    for i in range(N_STUDENTS):\n",
    "#         last_time = datetime(2019,12,17)\n",
    "        answered_questions = []\n",
    "        for question_id in range(N_QUESTIONS):\n",
    "            # Check if question belongs to concept\n",
    "            if q_matrix[question_id, concept] == 1:\n",
    "                # Draw result\n",
    "                new_attempt = True\n",
    "                while new_attempt:\n",
    "                    answered_questions.append(question_id)\n",
    "                    new_attempt = np.random.binomial(1, 0.5)\n",
    "        observations = students.simulate(len(answered_questions))\n",
    "        for idx, question_id in enumerate(answered_questions):\n",
    "            data.append([observations[idx], i, question_id])\n",
    "\n",
    "        else:\n",
    "            continue\n",
    "data = np.asarray(data)\n",
    "students = list(range(N_STUDENTS))"
   ]
  },
  {
   "cell_type": "markdown",
   "metadata": {},
   "source": [
    "Separate in train and test"
   ]
  },
  {
   "cell_type": "code",
   "execution_count": 293,
   "metadata": {},
   "outputs": [],
   "source": [
    "np.random.seed(1)\n",
    "np.random.shuffle(students)"
   ]
  },
  {
   "cell_type": "code",
   "execution_count": 294,
   "metadata": {},
   "outputs": [],
   "source": [
    "TRAIN_PROPORTION = 0.8\n",
    "idx = int(np.ceil(TRAIN_PROPORTION*len(students)))\n",
    "train_students = students[:idx]\n",
    "test_students = students[idx:]"
   ]
  },
  {
   "cell_type": "code",
   "execution_count": 295,
   "metadata": {},
   "outputs": [],
   "source": [
    "train_set = data[np.where(np.isin(data[:,1], train_students))]\n",
    "test_set = data[np.where(np.isin(data[:,1], test_students))]"
   ]
  },
  {
   "cell_type": "markdown",
   "metadata": {},
   "source": [
    "Some users will be used in training up to a certain number of attempts"
   ]
  },
  {
   "cell_type": "code",
   "execution_count": 296,
   "metadata": {},
   "outputs": [],
   "source": [
    "# %%time\n",
    "test_set = np.empty((0,3), int)\n",
    "np.random.seed(1)\n",
    "train_attempts = np.random.uniform(size=len(test_students))\n",
    "for idx, student in enumerate(test_students):\n",
    "    student_attempts = data[np.where(data[:,1] == student)]\n",
    "    ta = int(np.floor(0.2*len(student_attempts)))\n",
    "    train_set = np.vstack((train_set, data[np.where(data[:,1] == student)][:ta]))\n",
    "    test_set  = np.vstack((test_set,  data[np.where(data[:,1] == student)][ta:]))"
   ]
  },
  {
   "cell_type": "code",
   "execution_count": 297,
   "metadata": {},
   "outputs": [],
   "source": [
    "train_students = list(set(train_set[:,1]))\n",
    "n_students = len(train_students)\n",
    "n_questions = len(list(set(train_set[:,2])))\n",
    "\n",
    "attempt_distribution = []\n",
    "max_attempt = 0\n",
    "for student in train_students:\n",
    "    student_attempts = len(data[np.where(data[:,1] == student)])\n",
    "    attempt_distribution.append(student_attempts)\n",
    "    if student_attempts > max_attempt:\n",
    "        max_attempt = student_attempts\n",
    "        \n",
    "median_attempt = int(np.median(np.asarray(attempt_distribution)))\n",
    "student_performance = np.zeros((n_students, N_QUESTIONS, median_attempt))\n",
    "X = np.zeros(student_performance.shape)"
   ]
  },
  {
   "cell_type": "code",
   "execution_count": 298,
   "metadata": {},
   "outputs": [],
   "source": [
    "from collections import defaultdict"
   ]
  },
  {
   "cell_type": "code",
   "execution_count": 299,
   "metadata": {},
   "outputs": [],
   "source": [
    "student_attempts = defaultdict(int)\n",
    "for item in train_set:\n",
    "    outcome, s_idx, q_idx = item\n",
    "#     a_idx = student_attempts[(s_idx, q_idx)]\n",
    "    a_idx = student_attempts[s_idx]\n",
    "    if a_idx >= median_attempt:\n",
    "        continue\n",
    "    student_performance[s_idx, q_idx, a_idx] = outcome\n",
    "    X[s_idx, q_idx, a_idx] = 1\n",
    "#     student_attempts[(s_idx, q_idx)] += 1\n",
    "    student_attempts[s_idx] += 1\n",
    "    \n",
    "student_performance[np.where(X[:,:] == 0)] = None"
   ]
  },
  {
   "cell_type": "code",
   "execution_count": 300,
   "metadata": {},
   "outputs": [],
   "source": [
    "test_X = np.zeros((n_students, N_QUESTIONS, max_attempt))\n",
    "for item in test_set:\n",
    "    outcome, s_idx, q_idx = item\n",
    "    a_idx = student_attempts[s_idx]\n",
    "    test_X[s_idx, q_idx, a_idx] = 1\n",
    "    student_attempts[s_idx] += 1"
   ]
  },
  {
   "cell_type": "code",
   "execution_count": 301,
   "metadata": {},
   "outputs": [],
   "source": [
    "original_student_performance = student_performance.copy()"
   ]
  },
  {
   "cell_type": "code",
   "execution_count": 302,
   "metadata": {
    "scrolled": true
   },
   "outputs": [
    {
     "name": "stdout",
     "output_type": "stream",
     "text": [
      "Run: 0\n",
      "Run: 1\n",
      "Run: 2\n",
      "Run: 0\n",
      "Run: 1\n",
      "Run: 2\n",
      "Run: 0\n",
      "Run: 1\n",
      "Run: 2\n",
      "Run: 0\n",
      "Run: 1\n",
      "Run: 2\n",
      "Run: 0\n",
      "Run: 1\n",
      "Run: 2\n",
      "Run: 0\n",
      "Run: 1\n",
      "Run: 2\n",
      "Run: 0\n",
      "Run: 1\n",
      "Run: 2\n",
      "Run: 0\n",
      "Run: 1\n",
      "Run: 2\n",
      "Run: 0\n",
      "Run: 1\n",
      "Run: 2\n",
      "Run: 0\n",
      "Run: 1\n",
      "Run: 2\n",
      "Run: 0\n",
      "Run: 1\n",
      "Run: 2\n",
      "Run: 0\n",
      "Run: 1\n",
      "Run: 2\n",
      "Run: 0\n",
      "Run: 1\n",
      "Run: 2\n",
      "Run: 0\n",
      "Run: 1\n",
      "Run: 2\n",
      "Run: 0\n",
      "Run: 1\n",
      "Run: 2\n",
      "Run: 0\n",
      "Run: 1\n",
      "Run: 2\n",
      "Run: 0\n",
      "Run: 1\n",
      "Run: 2\n",
      "Run: 0\n",
      "Run: 1\n",
      "Run: 2\n",
      "Run: 0\n",
      "Run: 1\n",
      "Run: 2\n",
      "Run: 0\n",
      "Run: 1\n",
      "Run: 2\n",
      "Run: 0\n",
      "Run: 1\n",
      "Run: 2\n",
      "Run: 0\n",
      "Run: 1\n",
      "Run: 2\n",
      "Run: 0\n",
      "Run: 1\n",
      "Run: 2\n",
      "Run: 0\n",
      "Run: 1\n",
      "Run: 2\n",
      "Run: 0\n",
      "Run: 1\n",
      "Run: 2\n",
      "Run: 0\n",
      "Run: 1\n",
      "Run: 2\n",
      "Run: 0\n",
      "Run: 1\n",
      "Run: 2\n",
      "Run: 0\n",
      "Run: 1\n",
      "Run: 2\n",
      "CPU times: user 1min 11s, sys: 99.9 ms, total: 1min 12s\n",
      "Wall time: 1min 14s\n"
     ]
    }
   ],
   "source": [
    "%%time\n",
    "acc_list = []\n",
    "rmse_list = []\n",
    "y = student_performance[np.where(X == 1)]\n",
    "\n",
    "for mu in np.arange(0.01, 1, 0.1):\n",
    "    student_performance = original_student_performance.copy()\n",
    "    best_student_performance_pred, best_student_knowledge, best_q_matrix, best_error = feedback_driven_tensor_factorization(\n",
    "        student_performance, n_concepts=3, init=3, max_iter=100, mu=mu)\n",
    "    \n",
    "    bspp_binary = best_student_performance_pred.copy()\n",
    "    bspp_binary[bspp_binary > 0.5] = 1\n",
    "    bspp_binary[bspp_binary <= 0.5] = 0\n",
    "    \n",
    "    y_pred = best_student_performance_pred[np.where(X == 1)]\n",
    "    y_pred_binary = bspp_binary[np.where(X == 1)]\n",
    "    \n",
    "    acc = 100*(np.logical_not(np.logical_xor(y, y_pred_binary)).sum())/len(y)\n",
    "    acc_list.append(acc)\n",
    "    \n",
    "    rmse = np.sqrt(np.power((y-y_pred), 2)).mean()\n",
    "    rmse_list.append(rmse)\n",
    "    \n",
    "for mu in np.arange(1, 10, 1):\n",
    "    student_performance = original_student_performance.copy()\n",
    "    best_student_performance_pred, best_student_knowledge, best_q_matrix, best_error = feedback_driven_tensor_factorization(\n",
    "        student_performance, n_concepts=3, init=3, max_iter=100, mu=mu)\n",
    "    \n",
    "    bspp_binary = best_student_performance_pred.copy()\n",
    "    bspp_binary[bspp_binary > 0.5] = 1\n",
    "    bspp_binary[bspp_binary <= 0.5] = 0\n",
    "    \n",
    "    y_pred = best_student_performance_pred[np.where(X == 1)]\n",
    "    y_pred_binary = bspp_binary[np.where(X == 1)]\n",
    "    \n",
    "    acc = 100*(np.logical_not(np.logical_xor(y, y_pred_binary)).sum())/len(y)\n",
    "    acc_list.append(acc)\n",
    "    \n",
    "    rmse = np.sqrt(np.power((y-y_pred), 2)).mean()\n",
    "    rmse_list.append(rmse)\n",
    "    \n",
    "for mu in np.arange(10, 100, 10):\n",
    "    student_performance = original_student_performance.copy()\n",
    "    best_student_performance_pred, best_student_knowledge, best_q_matrix, best_error = feedback_driven_tensor_factorization(\n",
    "        student_performance, n_concepts=3, init=3, max_iter=100, mu=mu)\n",
    "    \n",
    "    bspp_binary = best_student_performance_pred.copy()\n",
    "    bspp_binary[bspp_binary > 0.5] = 1\n",
    "    bspp_binary[bspp_binary <= 0.5] = 0\n",
    "    \n",
    "    y_pred = best_student_performance_pred[np.where(X == 1)]\n",
    "    y_pred_binary = bspp_binary[np.where(X == 1)]\n",
    "    \n",
    "    acc = 100*(np.logical_not(np.logical_xor(y, y_pred_binary)).sum())/len(y)\n",
    "    acc_list.append(acc)\n",
    "    \n",
    "    rmse = np.sqrt(np.power((y-y_pred), 2)).mean()\n",
    "    rmse_list.append(rmse)"
   ]
  },
  {
   "cell_type": "code",
   "execution_count": 303,
   "metadata": {},
   "outputs": [
    {
     "data": {
      "text/plain": [
       "[42.61119081779053,\n",
       " 51.64992826398852,\n",
       " 59.46915351506456,\n",
       " 59.75609756097561,\n",
       " 60.9038737446198,\n",
       " 60.47345767575323,\n",
       " 61.11908177905308,\n",
       " 61.33428981348637,\n",
       " 61.11908177905308,\n",
       " 59.75609756097561,\n",
       " 59.68436154949785,\n",
       " 57.38880918220947,\n",
       " 57.38880918220947,\n",
       " 57.38880918220947,\n",
       " 58.75179340028694,\n",
       " 60.97560975609756,\n",
       " 61.19081779053084,\n",
       " 60.97560975609756,\n",
       " 58.60832137733142,\n",
       " 56.45624103299856,\n",
       " 47.70444763271162,\n",
       " 47.70444763271162,\n",
       " 49.92826398852224,\n",
       " 49.92826398852224,\n",
       " 57.38880918220947,\n",
       " 57.38880918220947,\n",
       " 57.38880918220947,\n",
       " 57.38880918220947]"
      ]
     },
     "execution_count": 303,
     "metadata": {},
     "output_type": "execute_result"
    }
   ],
   "source": [
    "acc_list"
   ]
  },
  {
   "cell_type": "code",
   "execution_count": 304,
   "metadata": {},
   "outputs": [
    {
     "data": {
      "text/plain": [
       "[0.5615431070605507,\n",
       " 0.49278654507204644,\n",
       " 0.4430351691758301,\n",
       " 0.4446469743133646,\n",
       " 0.4161063373808494,\n",
       " 0.4160314777089221,\n",
       " 0.4304525735757272,\n",
       " 0.41032718226787057,\n",
       " 0.41027783809308127,\n",
       " 0.4123848442531995,\n",
       " 0.4138776071924322,\n",
       " 0.4168162019403391,\n",
       " 0.4184995043701832,\n",
       " 0.4177255259460886,\n",
       " 0.4215911559328191,\n",
       " 0.40744892938589766,\n",
       " 0.4063959625264214,\n",
       " 0.42439135531165,\n",
       " 0.4135770071758971,\n",
       " 0.45540577504149554,\n",
       " 0.5168313361760095,\n",
       " 0.5116592009428582,\n",
       " 0.5091627530434373,\n",
       " 0.49994823328781096,\n",
       " 0.4261119081778981,\n",
       " 0.4261119081779053,\n",
       " 0.4261119081779053,\n",
       " 0.4261119081779053]"
      ]
     },
     "execution_count": 304,
     "metadata": {},
     "output_type": "execute_result"
    }
   ],
   "source": [
    "rmse_list"
   ]
  },
  {
   "cell_type": "code",
   "execution_count": 247,
   "metadata": {},
   "outputs": [
    {
     "data": {
      "text/plain": [
       "array([0.99975321, 0.99965855, 0.99999988, 1.        , 1.        ,\n",
       "       1.        , 1.        , 0.99334889, 0.85680087, 0.86179589,\n",
       "       0.86661403, 0.87125858, 0.87574683, 0.88007861, 0.88425937,\n",
       "       0.88829405, 0.8921884 , 0.89594699, 0.89957674, 0.90307775,\n",
       "       0.9064535 , 0.87613114, 0.8098276 , 0.81644866, 0.82284773,\n",
       "       0.82902372, 0.90971317, 0.91286086, 0.91589902, 0.83498036,\n",
       "       0.91882997, 0.84072604, 0.84627873, 0.85163784, 0.99975321,\n",
       "       0.99965855, 0.99999987, 1.        , 1.        , 1.        ,\n",
       "       1.        , 0.99168901, 0.83337398, 0.83918616, 0.84479253,\n",
       "       0.85020346, 0.85542574, 0.86046596, 0.86532459, 0.87001933,\n",
       "       0.87455079, 0.87892692, 0.88314383, 0.845218  , 0.85065577,\n",
       "       0.77071598, 0.77871272, 0.78643056, 0.79386621, 0.80105256,\n",
       "       0.88721573, 0.89114776, 0.89494262, 0.89860551, 0.80798369,\n",
       "       0.81467787, 0.90213915, 0.90555082, 0.90884356, 0.82113044,\n",
       "       0.82736629, 0.99975321, 0.99999994, 1.        , 1.        ,\n",
       "       1.        , 0.99965856, 0.99999988, 1.        , 1.        ,\n",
       "       1.        , 1.        , 0.99141337, 0.99175588, 0.82878936,\n",
       "       0.83476146, 0.84052209, 0.84607517, 0.85144095, 0.85662009,\n",
       "       0.86161867, 0.86644299, 0.87110195, 0.87559566, 0.8799286 ,\n",
       "       0.84646328, 0.85185731, 0.85706183, 0.78055103, 0.78820475,\n",
       "       0.79557863, 0.80270528, 0.88411254, 0.88815275, 0.89205238,\n",
       "       0.8958157 , 0.80957883, 0.8162174 , 0.82261637, 0.99975321,\n",
       "       0.99965855, 0.99999988, 1.        , 1.        , 1.        ,\n",
       "       1.        , 1.        , 0.99636716, 0.91603188, 0.91895922,\n",
       "       0.92178605, 0.92450949, 0.92714106, 0.92968265, 0.93213177,\n",
       "       0.93234272, 0.89612766, 0.89974409, 0.90323927, 0.93449667,\n",
       "       0.93678033, 0.93898452, 0.90661032, 0.94111093, 0.90986197,\n",
       "       0.91300441, 0.99975321, 0.99965855, 0.99999988, 1.        ,\n",
       "       1.        , 1.        , 1.        , 0.9918235 , 0.81765106,\n",
       "       0.8240082 , 0.83014372, 0.83606534, 0.84178364, 0.84729946,\n",
       "       0.85261655, 0.85775429, 0.86271334, 0.8675024 , 0.8721216 ,\n",
       "       0.87657976, 0.8808825 , 0.88503524, 0.8890394 , 0.84772262,\n",
       "       0.8530724 , 0.77442616, 0.78227976, 0.78987005, 0.79719572,\n",
       "       0.89290587, 0.89663952, 0.90024292, 0.90372102, 0.90707755,\n",
       "       0.91031706, 0.80426122, 0.91344254, 0.81107648, 0.99975321,\n",
       "       0.99965855, 0.99999987, 0.99999999, 1.        , 1.        ,\n",
       "       1.        , 1.        , 0.99538587, 0.9140674 , 0.99975321,\n",
       "       0.99965855, 0.99999988, 1.        , 1.        , 1.        ,\n",
       "       1.        , 0.99334889, 0.88848563, 0.8923733 , 0.89612543,\n",
       "       0.89974676, 0.90324376, 0.90661284, 0.90986855, 0.91301076,\n",
       "       0.91604318, 0.91897191, 0.92179407, 0.92452053, 0.87613114,\n",
       "       0.88048288, 0.88468174, 0.88873308, 0.89264209, 0.89641378,\n",
       "       0.90005295, 0.84655409, 0.85190582, 0.85706188, 0.86204507,\n",
       "       0.86685453, 0.92715064, 0.92969036, 0.87149319, 0.87597326,\n",
       "       0.88029715, 0.88446498, 0.99975321, 0.99999994, 0.99965856,\n",
       "       0.99999988, 1.        , 1.        , 0.98800032, 0.71262551,\n",
       "       0.72264411, 0.73231873, 0.74163948, 0.75064658, 0.75933897,\n",
       "       0.76772902, 0.77583148, 0.78364656, 0.79118919, 0.79846886,\n",
       "       0.80549474, 0.81227568, 0.81881402, 0.82513062, 0.77652061,\n",
       "       0.65689833, 0.66884378, 0.83122402, 0.83710798, 0.84278692,\n",
       "       0.84826776, 0.853558  , 0.85866334, 0.68038093, 0.69152367,\n",
       "       0.86358898, 0.70226425, 0.99975321, 0.99999994, 0.99965856,\n",
       "       0.99999988, 1.        , 1.        , 0.99975321, 0.99965855,\n",
       "       0.99999988, 1.        , 1.        , 1.        , 1.        ,\n",
       "       0.99975321, 0.99999994, 0.99965856, 0.99999988, 1.        ,\n",
       "       1.        , 0.98800032, 0.98847897, 0.72416543, 0.73378699,\n",
       "       0.74306785, 0.75202515, 0.76067017, 0.76901381, 0.77705683,\n",
       "       0.78482919, 0.79233058, 0.79957046, 0.80655794, 0.81330181,\n",
       "       0.81981006, 0.82609194, 0.83215481, 0.83800986, 0.84365725,\n",
       "       0.84910259, 0.78543486, 0.79297293, 0.68215713, 0.69322317,\n",
       "       0.85436067, 0.85943803, 0.86433847, 0.8690684 , 0.873633  ,\n",
       "       0.70391096, 0.87803694, 0.71422024, 0.99975321, 0.99999994,\n",
       "       1.        , 0.99965856, 0.99999988, 1.        , 1.        ,\n",
       "       1.        , 1.        , 1.        , 0.99975321, 0.99999994,\n",
       "       0.99965856, 0.99999988, 1.        , 1.        , 1.        ,\n",
       "       0.99975321, 0.99965855, 0.99999987, 0.99999999, 0.99999999,\n",
       "       1.        , 1.        , 0.99141337, 0.99175588, 0.99208472,\n",
       "       0.99240045, 0.99270359, 0.99299463, 0.86444861, 0.86917428,\n",
       "       0.87373769, 0.87813419, 0.88238239, 0.88648284, 0.89044033,\n",
       "       0.89426218, 0.89794846, 0.90150287, 0.86953352, 0.87411704,\n",
       "       0.80673541, 0.8134759 , 0.8199813 , 0.82625982, 0.83230877,\n",
       "       0.83815492, 0.84379725, 0.90493504, 0.90824931, 0.91144826,\n",
       "       0.8492392 , 0.85449511, 0.85956132, 0.99975321, 0.99999994,\n",
       "       1.        , 0.99965856, 0.99999988, 1.        , 1.        ,\n",
       "       1.        , 1.        , 1.        , 1.        , 1.        ,\n",
       "       1.        , 0.99594768, 0.99610932, 0.91007508, 0.91321181,\n",
       "       0.91623746, 0.91915764, 0.921976  , 0.92469283, 0.92731822,\n",
       "       0.92985189, 0.93229743, 0.93465771, 0.93693709, 0.93913562,\n",
       "       0.9412555 , 0.94330348, 0.92754086, 0.88875551, 0.89263538,\n",
       "       0.89637994, 0.89998758, 0.94527909, 0.9471868 , 0.90347191,\n",
       "       0.90683285, 0.99975321, 0.99999994, 0.99965856, 0.99999988,\n",
       "       1.        , 0.98546314, 0.98604299, 0.98659971, 0.7312683 ,\n",
       "       0.74063696, 0.74968396, 0.75840005, 0.76682216, 0.77495626,\n",
       "       0.78280185, 0.79037392, 0.79768201, 0.80473533, 0.81154274,\n",
       "       0.81811284, 0.82445388, 0.83056806, 0.83647489, 0.84217578,\n",
       "       0.84767793, 0.85298826, 0.85811346, 0.75043604, 0.61685142,\n",
       "       0.6302145 , 0.64311151, 0.65555871, 0.6675508 , 0.67914084,\n",
       "       0.69032682, 0.70111552, 0.71152213, 0.72157919, 0.99975321,\n",
       "       0.99999994, 0.99965856, 0.99999988, 1.        , 1.        ,\n",
       "       1.        , 1.        , 1.        , 0.99450974, 0.99472873,\n",
       "       0.88654417, 0.89050169, 0.89431446, 0.89799863, 0.90155465,\n",
       "       0.90498879, 0.90829798, 0.9018291 , 0.90527802, 0.854576  ,\n",
       "       0.85964795, 0.86454301, 0.86925909, 0.91149338, 0.91457901,\n",
       "       0.91755726, 0.87381397, 0.92043042, 0.87820754, 0.88245353,\n",
       "       0.99975321, 0.99965855, 0.99999987, 1.        , 1.        ,\n",
       "       1.        , 1.        , 0.99323949, 0.99350916, 0.85520571,\n",
       "       0.8602536 , 0.86512818, 0.86982447, 0.87436235, 0.87874505,\n",
       "       0.8829683 , 0.87911599, 0.81441015, 0.82088297, 0.82711912,\n",
       "       0.88704632, 0.89098417, 0.89478481, 0.89845321, 0.90199338,\n",
       "       0.83314212, 0.83895921, 0.8445735 , 0.90540895, 0.90870663,\n",
       "       0.91188935, 0.84998516, 0.99975321, 0.99965855, 0.99999987,\n",
       "       1.        , 1.        , 1.        , 1.        , 1.        ,\n",
       "       0.99441943, 0.99464203, 0.99485575, 0.99506095, 0.99525796,\n",
       "       0.90146574, 0.9049009 , 0.90821629, 0.9114161 , 0.91450605,\n",
       "       0.91748298, 0.92035973, 0.92313597, 0.92581564, 0.92840346,\n",
       "       0.93089713, 0.93330623, 0.91168533, 0.86441295, 0.86914182,\n",
       "       0.87370576, 0.87810283, 0.88235248, 0.93563021, 0.9378743 ,\n",
       "       0.94004016, 0.8864512 , 0.8904098 , 0.89423039, 0.8979131 ,\n",
       "       0.99975321, 0.99965855, 0.99999987, 0.99999999, 1.        ,\n",
       "       1.        , 1.        , 0.99155232, 0.99188928, 0.83165128,\n",
       "       0.83752034, 0.84318479, 0.84865176, 0.85393103, 0.8590172 ,\n",
       "       0.86393182, 0.8686755 , 0.8732538 , 0.87767518, 0.88193973,\n",
       "       0.88605171, 0.84894775, 0.85425449, 0.8593748 , 0.86431522,\n",
       "       0.86908208, 0.79900537, 0.80600322, 0.89002229, 0.89385638,\n",
       "       0.89755689, 0.90112864, 0.90457554, 0.81276187, 0.81928947,\n",
       "       0.90790112, 0.82558148, 0.99975321, 0.99965855, 0.99999987,\n",
       "       0.99999999, 0.99999999, 1.        , 1.        , 0.99141337,\n",
       "       0.99175588, 0.99208472, 0.99240045, 0.86298336, 0.86776011,\n",
       "       0.87237032, 0.87682225, 0.88111134, 0.8852561 , 0.88925636,\n",
       "       0.89311685, 0.89684533, 0.90044156, 0.90391242, 0.90726227,\n",
       "       0.91049534, 0.85846769, 0.78270939, 0.79028784, 0.79758919,\n",
       "       0.80464098, 0.81144302, 0.81801659, 0.82436099, 0.83048421,\n",
       "       0.83639396, 0.84209767, 0.84760254, 0.8529155 , 0.85804324,\n",
       "       0.99975321, 0.99965855, 0.99999988, 1.        , 1.        ,\n",
       "       1.        , 1.        , 0.9945897 , 0.99480551, 0.87994025,\n",
       "       0.88412813, 0.88816283, 0.89206144, 0.89582674, 0.89945504,\n",
       "       0.90325901, 0.85147626, 0.85665632, 0.86165572, 0.86647232,\n",
       "       0.90295857, 0.90634175, 0.90960691, 0.91275824, 0.91579971,\n",
       "       0.9187354 , 0.92156849, 0.92430281, 0.87112429, 0.92694089,\n",
       "       0.92948791, 0.87561151, 0.99975321, 0.99965855, 0.99999988,\n",
       "       1.        , 1.        , 1.        , 0.99344576, 0.86870289,\n",
       "       0.87328024, 0.87770043, 0.88195894, 0.88607415, 0.89004589,\n",
       "       0.89387917, 0.89757851, 0.90115135, 0.9045942 , 0.87793535,\n",
       "       0.88222371, 0.88636141, 0.89035374, 0.89420582, 0.83757714,\n",
       "       0.84324197, 0.84869966, 0.85397438, 0.90791865, 0.91112891,\n",
       "       0.91422745, 0.9172177 , 0.9201037 , 0.85906177, 0.92288811,\n",
       "       0.86396898, 0.99975321, 0.99999994, 0.99965856, 0.99999988,\n",
       "       1.        , 1.        , 0.98780295, 0.98828947, 0.98875659,\n",
       "       0.98920507, 0.81871142, 0.82503159, 0.83113477, 0.83702184,\n",
       "       0.8426968 , 0.84818078, 0.85347316, 0.85858455, 0.86351465,\n",
       "       0.86827287, 0.87286086, 0.87729325, 0.79895764, 0.69134528,\n",
       "       0.70211024, 0.71249974, 0.72252689, 0.73218741, 0.74152405,\n",
       "       0.75053519, 0.75923218, 0.76762596, 0.77572164, 0.78354056,\n",
       "       0.79107728, 0.79836085, 0.80539049, 0.81217507, 0.99975321,\n",
       "       0.99965855, 0.99999987, 0.99999999, 0.99999999, 1.        ,\n",
       "       1.        , 1.        , 0.99291203, 0.99319476, 0.99346621,\n",
       "       0.83787333, 0.84352857, 0.84898356, 0.85424837, 0.85932964,\n",
       "       0.86422783, 0.86896081, 0.87352917, 0.87794093, 0.88219219,\n",
       "       0.87831616, 0.8131822 , 0.81968647, 0.88629726, 0.89026122,\n",
       "       0.89408707, 0.89777946, 0.90134344, 0.90478286, 0.90810237,\n",
       "       0.82596841, 0.91130503, 0.83202787])"
      ]
     },
     "execution_count": 247,
     "metadata": {},
     "output_type": "execute_result"
    }
   ],
   "source": [
    "y_pred"
   ]
  },
  {
   "cell_type": "code",
   "execution_count": 305,
   "metadata": {},
   "outputs": [
    {
     "data": {
      "image/png": "[encoded data removed]",
      "text/plain": [
       "<Figure size 432x288 with 1 Axes>"
      ]
     },
     "metadata": {
      "needs_background": "light"
     },
     "output_type": "display_data"
    }
   ],
   "source": [
    "# plt.hist(original_student_performance[np.where(X == 1)])\n",
    "plt.hist(student_performance[np.where(X == 1)])\n",
    "plt.show()"
   ]
  },
  {
   "cell_type": "code",
   "execution_count": 307,
   "metadata": {},
   "outputs": [
    {
     "data": {
      "image/png": "[encoded data removed]",
      "text/plain": [
       "<Figure size 432x288 with 1 Axes>"
      ]
     },
     "metadata": {
      "needs_background": "light"
     },
     "output_type": "display_data"
    }
   ],
   "source": [
    "bspp_binary = best_student_performance_pred.copy()\n",
    "# bspp_binary[bspp_binary > 0.8] = 1\n",
    "# bspp_binary[bspp_binary < 0.8] = 0\n",
    "\n",
    "bins = np.arange(0,1.1,0.1)\n",
    "sns.distplot(y, kde=False, bins=bins)\n",
    "sns.distplot(y_pred, kde=False, bins=bins)\n",
    "sns.distplot(y_pred_binary, kde=False, bins=bins)\n",
    "plt.show()"
   ]
  },
  {
   "cell_type": "code",
   "execution_count": 308,
   "metadata": {},
   "outputs": [],
   "source": [
    "y_pred = best_student_performance_pred[np.where(X == 1)]\n",
    "y_pred_binary = bspp_binary[np.where(X == 1)]\n",
    "\n",
    "acc = 100*(np.logical_not(np.logical_xor(y, y_pred_binary)).sum())/len(y)\n",
    "rmse = np.sqrt(np.power((y-y_pred), 2)).mean()"
   ]
  },
  {
   "cell_type": "code",
   "execution_count": 309,
   "metadata": {},
   "outputs": [
    {
     "data": {
      "text/plain": [
       "0.4261119081779053"
      ]
     },
     "execution_count": 309,
     "metadata": {},
     "output_type": "execute_result"
    }
   ],
   "source": [
    "rmse"
   ]
  },
  {
   "cell_type": "code",
   "execution_count": 310,
   "metadata": {},
   "outputs": [
    {
     "data": {
      "image/png": "[encoded data removed]",
      "text/plain": [
       "<Figure size 432x288 with 1 Axes>"
      ]
     },
     "metadata": {
      "needs_background": "light"
     },
     "output_type": "display_data"
    }
   ],
   "source": [
    "plt.hist(y)\n",
    "plt.hist(y_pred)\n",
    "plt.hist(y_pred_binary)\n",
    "plt.show()"
   ]
  },
  {
   "cell_type": "code",
   "execution_count": 311,
   "metadata": {},
   "outputs": [
    {
     "name": "stdout",
     "output_type": "stream",
     "text": [
      "Accuracy: 57.39%\n",
      "RMSE: 0.43\n"
     ]
    }
   ],
   "source": [
    "y = student_performance[np.where(X == 1)]\n",
    "y_pred = best_student_performance_pred[np.where(X == 1)]\n",
    "y_pred_binary = bspp_binary[np.where(X == 1)]\n",
    "\n",
    "# best_student_performance_pred[best_student_performance_pred > 0.5] = 1\n",
    "# best_student_performance_pred[best_student_performance_pred < 0.5] = 0\n",
    "\n",
    "acc = 100*(np.logical_not(np.logical_xor(\n",
    "    y, y_pred_binary)).sum())/len(y)\n",
    "rmse = np.sqrt(np.power((y-y_pred), 2)).mean()\n",
    "\n",
    "print(\"Accuracy: %.2f%%\" % acc)\n",
    "print(\"RMSE: %.2f\" % rmse)"
   ]
  },
  {
   "cell_type": "code",
   "execution_count": 126,
   "metadata": {},
   "outputs": [
    {
     "data": {
      "text/plain": [
       "(805, 3)"
      ]
     },
     "execution_count": 126,
     "metadata": {},
     "output_type": "execute_result"
    }
   ],
   "source": [
    "train_set.shape"
   ]
  },
  {
   "cell_type": "code",
   "execution_count": 27,
   "metadata": {},
   "outputs": [
    {
     "data": {
      "text/plain": [
       "(171, 3)"
      ]
     },
     "execution_count": 27,
     "metadata": {},
     "output_type": "execute_result"
    }
   ],
   "source": [
    "test_set.shape"
   ]
  },
  {
   "cell_type": "code",
   "execution_count": 312,
   "metadata": {},
   "outputs": [
    {
     "name": "stdout",
     "output_type": "stream",
     "text": [
      "CPU times: user 54 µs, sys: 0 ns, total: 54 µs\n",
      "Wall time: 58.7 µs\n"
     ]
    }
   ],
   "source": [
    "%%time\n",
    "# Instantiate model\n",
    "model_bkt = bkt.BKT()\n",
    "model_pfa = pfa.PFA()\n",
    "#model_tpfa = tpfa.TPFA()"
   ]
  },
  {
   "cell_type": "code",
   "execution_count": 313,
   "metadata": {},
   "outputs": [
    {
     "name": "stderr",
     "output_type": "stream",
     "text": [
      "/data2/miniconda3/envs/machineteaching/lib/python3.6/site-packages/sklearn/linear_model/_logistic.py:940: ConvergenceWarning: lbfgs failed to converge (status=1):\n",
      "STOP: TOTAL NO. of ITERATIONS REACHED LIMIT.\n",
      "\n",
      "Increase the number of iterations (max_iter) or scale the data as shown in:\n",
      "    https://scikit-learn.org/stable/modules/preprocessing.html\n",
      "Please also refer to the documentation for alternative solver options:\n",
      "    https://scikit-learn.org/stable/modules/linear_model.html#logistic-regression\n",
      "  extra_warning_msg=_LOGISTIC_SOLVER_CONVERGENCE_MSG)\n"
     ]
    },
    {
     "data": {
      "text/plain": [
       "<spkit.pfa.PFA at 0x7f7c78e3db38>"
      ]
     },
     "execution_count": 313,
     "metadata": {},
     "output_type": "execute_result"
    }
   ],
   "source": [
    "model_bkt.fit(train_set, q_matrix)\n",
    "model_pfa.fit(train_set, q_matrix)"
   ]
  },
  {
   "cell_type": "code",
   "execution_count": 314,
   "metadata": {},
   "outputs": [],
   "source": [
    "import copy"
   ]
  },
  {
   "cell_type": "code",
   "execution_count": 315,
   "metadata": {},
   "outputs": [],
   "source": [
    "def get_results(model, data, learning_state=None):\n",
    "    print(\"Results for model %s\" % model)\n",
    "#     data_arr = np.asarray(data)\n",
    "    students = set(list(data[:,1]))\n",
    "    rmse = 0\n",
    "    n = 0\n",
    "    score_df = []\n",
    "    outcome_all = []\n",
    "    predicted_proba = []\n",
    "    \n",
    "    if learning_state is None:\n",
    "        learning_state = {}\n",
    "    else:\n",
    "        learning_state = copy.deepcopy(learning_state)\n",
    "        \n",
    "    for student in students:\n",
    "        student_idx = np.where(data[:,1] == student)\n",
    "        outcome = data[student_idx, 0].astype('int64')\n",
    "        outcome_all += outcome.tolist()[0]\n",
    "        question_id = data[student_idx, 2].astype('int64')\n",
    "        try:\n",
    "            timestamp = data[student_idx, 3]\n",
    "            data_student = np.vstack((outcome, question_id, timestamp)).T.tolist()\n",
    "        except IndexError:\n",
    "            data_student = np.vstack((outcome, question_id)).T.astype('int64').tolist()\n",
    "        # Already seen the student, get last learning state\n",
    "        if student in learning_state.keys():\n",
    "            predicted = model.predict_proba(data_student, q_matrix, learning_state[student])\n",
    "        else:\n",
    "            predicted = model.predict_proba(data_student, q_matrix)\n",
    "        predicted_proba += predicted[:,1].tolist()\n",
    "        s_ll, s_aic, s_bic, s_rmse, s_acc = model.score()\n",
    "        fpr, tpr, _ = roc_curve(model.outcomes, predicted[:,1], pos_label=1)\n",
    "        auc_score = auc(fpr, tpr)\n",
    "        score_df.append({\"student\": student,\n",
    "                         \"AIC\": s_aic,\n",
    "                         \"BIC\": s_bic,\n",
    "                         \"RMSE\": s_rmse,\n",
    "                         \"Acc\": s_acc,\n",
    "                         \"n questions\": model.n_questions,\n",
    "                         \"LL\": s_ll,\n",
    "                         \"correct_outcome\": np.where(outcome == 1)[1].shape[0],\n",
    "                         \"incorrect_outcome\": np.where(outcome == 0)[1].shape[0],\n",
    "                         \"AUC\": auc_score})\n",
    "#         learning_state[student] = copy.deepcopy(model.get_learning_state())\n",
    "        learning_state[student] = model.get_learning_state()\n",
    "        \n",
    "    return pd.DataFrame.from_dict(score_df), outcome_all, predicted_proba, learning_state\n",
    "\n",
    "def print_scores(score, outcome, predicted):\n",
    "    \n",
    "    # RMSE\n",
    "    rmse_train = np.sqrt((score['RMSE']**2*score['n questions']).sum()/score['n questions'].sum())\n",
    "    rmse_avg = score['RMSE'].mean()\n",
    "    rmse_std = score['RMSE'].std()\n",
    "    print(\"RMSE de treino: %.2f\" % rmse_train)\n",
    "    print(\"RMSE médio: %.2f +- %.2f\" % (rmse_avg, rmse_std))\n",
    "    \n",
    "    # Accuracy\n",
    "    acc_train = (score['Acc']*score['n questions']).sum()/score['n questions'].sum()\n",
    "    acc_avg = score['Acc'].mean()\n",
    "    acc_std = score['Acc'].std()\n",
    "    print(\"Acc de treino: %.2f\" % acc_train)\n",
    "    print(\"Acc médio: %.2f +- %.2f\" % (acc_avg, acc_std))\n",
    "    \n",
    "    # AUC\n",
    "    fpr, tpr, thresholds = roc_curve(outcome, predicted, pos_label=1)\n",
    "    auc_score = auc(fpr, tpr)\n",
    "    auc_avg = score['AUC'].mean()\n",
    "    auc_std = score['AUC'].std()\n",
    "    # Sensitivity = tpr = TP/(TP+FN)\n",
    "    # Specificity = 1-fpr = TN/(TN+FP)\n",
    "    # Youden's index = Sensitivity + Specificity - 1 = tpr + (1-fpr) - 1 = tpr - fpr\n",
    "    J_stats = tpr - fpr\n",
    "    J_opt_thresholds = thresholds[np.argmax(J_stats)]\n",
    "    print('Youden\\'s optimum threshold: %.2f' % J_opt_thresholds)\n",
    "    print(\"AUC de treino: %.2f\" % auc_score)\n",
    "    print(\"AUC médio: %.2f +- %.2f\" % (auc_avg, auc_std))\n",
    "    estimated_outcome = np.where(np.asarray(predicted) > J_opt_thresholds, 1, 0)\n",
    "    adjusted_acc = (estimated_outcome == np.asarray(outcome)).sum()/score['n questions'].sum()\n",
    "    print(\"Adjusted Acc: %.2f\" % adjusted_acc)\n",
    "    plt.figure()\n",
    "    lw = 2\n",
    "    plt.plot(fpr, tpr, color='darkorange',\n",
    "             lw=lw, label='ROC curve (area = %0.2f)' % auc_score)\n",
    "    plt.plot([0, 1], [0, 1], color='navy', lw=lw, linestyle='--')\n",
    "    plt.xlim([0.0, 1.0])\n",
    "    plt.ylim([0.0, 1.05])\n",
    "    plt.xlabel('False Positive Rate')\n",
    "    plt.ylabel('True Positive Rate')\n",
    "    plt.title('Receiver operating characteristic example')\n",
    "    plt.legend(loc=\"lower right\")\n",
    "    plt.show()"
   ]
  },
  {
   "cell_type": "code",
   "execution_count": 316,
   "metadata": {},
   "outputs": [
    {
     "name": "stdout",
     "output_type": "stream",
     "text": [
      "Results for model <spkit.bkt.BKT object at 0x7f7c78e3def0>\n",
      "Results for model <spkit.pfa.PFA object at 0x7f7c78e3db38>\n",
      "RMSE de treino: 0.46\n",
      "RMSE médio: 0.45 +- 0.04\n",
      "Acc de treino: 0.68\n",
      "Acc médio: 0.69 +- 0.09\n",
      "Youden's optimum threshold: 0.60\n",
      "AUC de treino: 0.68\n",
      "AUC médio: 0.65 +- 0.16\n",
      "Adjusted Acc: 0.68\n"
     ]
    },
    {
     "data": {
      "image/png": "[encoded data removed]",
      "text/plain": [
       "<Figure size 432x288 with 1 Axes>"
      ]
     },
     "metadata": {
      "needs_background": "light"
     },
     "output_type": "display_data"
    },
    {
     "name": "stdout",
     "output_type": "stream",
     "text": [
      "RMSE de treino: 0.48\n",
      "RMSE médio: 0.48 +- 0.02\n",
      "Acc de treino: 0.62\n",
      "Acc médio: 0.62 +- 0.09\n",
      "Youden's optimum threshold: 0.61\n",
      "AUC de treino: 0.64\n",
      "AUC médio: 0.58 +- 0.16\n",
      "Adjusted Acc: 0.60\n"
     ]
    },
    {
     "data": {
      "image/png": "[encoded data removed]",
      "text/plain": [
       "<Figure size 432x288 with 1 Axes>"
      ]
     },
     "metadata": {
      "needs_background": "light"
     },
     "output_type": "display_data"
    }
   ],
   "source": [
    "# Run model with train data to get students' updated learning state\n",
    "score_bkt, outcome_bkt, predicted_bkt, learning_state_bkt = get_results(model_bkt, train_set)\n",
    "score_pfa, outcome_pfa, predicted_pfa, learning_state_pfa = get_results(model_pfa, train_set)\n",
    "#score_tpfa, outcome_tpfa, predicted_tpfa = get_results(model_tpfa, data_time)\n",
    "\n",
    "print_scores(score_bkt, outcome_bkt, predicted_bkt)\n",
    "print_scores(score_pfa, outcome_pfa, predicted_pfa)"
   ]
  },
  {
   "cell_type": "code",
   "execution_count": 317,
   "metadata": {},
   "outputs": [
    {
     "name": "stdout",
     "output_type": "stream",
     "text": [
      "Results for model <spkit.bkt.BKT object at 0x7f7c78e3def0>\n",
      "RMSE de treino: 0.46\n",
      "RMSE médio: 0.46 +- 0.06\n",
      "Acc de treino: 0.68\n",
      "Acc médio: 0.68 +- 0.16\n",
      "Youden's optimum threshold: 0.70\n",
      "AUC de treino: 0.58\n",
      "AUC médio: 0.45 +- 0.05\n",
      "Adjusted Acc: 0.49\n"
     ]
    },
    {
     "data": {
      "image/png": "[encoded data removed]",
      "text/plain": [
       "<Figure size 432x288 with 1 Axes>"
      ]
     },
     "metadata": {
      "needs_background": "light"
     },
     "output_type": "display_data"
    }
   ],
   "source": [
    "score_bkt, outcome_bkt, predicted_bkt, _ = get_results(model_bkt, test_set, learning_state_bkt)\n",
    "print_scores(score_bkt, outcome_bkt, predicted_bkt)"
   ]
  },
  {
   "cell_type": "code",
   "execution_count": 67,
   "metadata": {},
   "outputs": [
    {
     "name": "stdout",
     "output_type": "stream",
     "text": [
      "Results for model <spkit.pfa.PFA object at 0x7f4bc3903fd0>\n",
      "RMSE de treino: 0.42\n",
      "RMSE médio: 0.42 +- 0.04\n",
      "Acc de treino: 0.72\n",
      "Acc médio: 0.73 +- 0.16\n",
      "Youden's optimum threshold: 0.68\n",
      "AUC de treino: 0.86\n",
      "AUC médio: 0.79 +- 0.09\n",
      "Adjusted Acc: 0.80\n"
     ]
    },
    {
     "name": "stderr",
     "output_type": "stream",
     "text": [
      "/data2/miniconda3/envs/machineteaching/lib/python3.6/site-packages/sklearn/metrics/_ranking.py:808: UndefinedMetricWarning: No positive samples in y_true, true positive value should be meaningless\n",
      "  UndefinedMetricWarning)\n"
     ]
    },
    {
     "data": {
      "image/png": "[encoded data removed]",
      "text/plain": [
       "<Figure size 432x288 with 1 Axes>"
      ]
     },
     "metadata": {
      "needs_background": "light"
     },
     "output_type": "display_data"
    }
   ],
   "source": [
    "score_pfa, outcome_pfa, predicted_pfa, _ = get_results(model_pfa, test_set, learning_state_pfa)\n",
    "print_scores(score_pfa, outcome_pfa, predicted_pfa)"
   ]
  },
  {
   "cell_type": "code",
   "execution_count": 195,
   "metadata": {},
   "outputs": [],
   "source": [
    "# %load Create_simulation.py\n",
    "import numpy as np\n",
    "import pandas as pd\n",
    "import pickle as pk\n",
    "import matplotlib.pyplot as plt\n",
    "\n",
    "def simulated_data(n, a, q, e, c, num_view, datatype = None):\n",
    "    ''' create simulated data\n",
    "        n as number of student,\n",
    "        a as number of attempt,\n",
    "        p as number of problem,\n",
    "        q as number of question,\n",
    "        c as number of concept'''\n",
    "\n",
    "    # create matrix for q and e\n",
    "    quiz_concept = np.random.uniform(0,1, [c, q])\n",
    "#     example_concept = np.random.uniform(0,1, [c, e])\n",
    "\n",
    "    sumq = sum(quiz_concept)\n",
    "#     sume = sum(example_concept)\n",
    "\n",
    "    quiz_concept = quiz_concept/sumq # normalized q and e\n",
    "#     example_concept = example_concept/sume\n",
    "\n",
    "    # random create student activity sequence\n",
    "    sequence_matrix = np.zeros([n,q])\n",
    "    # For each student and question, draw the number of attempts\n",
    "    for i in range(0, n):\n",
    "        for j in range(0, q):\n",
    "            tried_question = np.random.binomial(1,0.5,1)\n",
    "            if tried_question:\n",
    "                sequence_matrix[i, j] = np.random.randint(0, a+5)\n",
    "            else:\n",
    "                sequence_matrix[i, j] = 0\n",
    "#     sequence_matrix = np.zeros([n,a])\n",
    "#     if num_view == 1:\n",
    "#         for i in range(0, n):\n",
    "#             sequence_matrix[i, :] = np.random.choice(range(0, q), a)\n",
    "\n",
    "    # create tensor t\n",
    "    t = np.random.normal(0,1, [n, a, c]) # randomly create a tensor\n",
    "    t1 = np.random.uniform(0,0.3, [n,c])   # create first slice of tensor as the student ability\n",
    "    t[:, 0, :] = np.copy(t1)\n",
    "\n",
    "    \n",
    "    for i in range(1, a): #according to\n",
    "        temp = np.copy(t1)\n",
    "        for s in range(0,n):\n",
    "            for q in range(q):\n",
    "                q_attempts = sequence_matrix[s,q]\n",
    "                if q_attempts == a:\n",
    "                    forgetornot = np.random.uniform(0,0.5) # probability for random forget\n",
    "                    if forgetornot >= 0.5: # if probability >= 0.5, then forget the knowledge instead of learning knowledge\n",
    "                        random_forget = np.random.uniform(0,0.05,c)\n",
    "                        temp[s, :] =  temp[s,:] - random_forget\n",
    "                        temp[s, :][temp[s,:] < 0] = 0\n",
    "                    else: # if not forget, then random increase the knowledge based on the question\n",
    "                        temp[s,:] = t1[s,:] + np.multiply(quiz_concept[:,q], np.random.uniform(0, 0.8, c))\n",
    "        t[:,i,:] = np.copy(temp)\n",
    "        t1 = np.copy(temp)\n",
    "\n",
    "    # quiz transpose, so that the shape of quiz and example be the [student, quiz, score]\n",
    "    quiz = np.transpose(np.dot(t, quiz_concept), (0, 2, 1))\n",
    "#     example = np.transpose(np.dot(t, example_concept), (0, 2, 1))\n",
    "    \n",
    "    return quiz, t, quiz_concept, sequence_matrix\n",
    "\n",
    "#     final_q = np.zeros([n,q,a])\n",
    "#     final_e = np.zeros([n,e,a])\n",
    "#     for i in range(0,n):\n",
    "#         for j in range(0,a):\n",
    "#             activty = int(sequence_matrix[i,j])\n",
    "#             if activty < q:\n",
    "#                 final_q[i,activty,j] = np.copy(quiz[i,activty,j])\n",
    "\n",
    "#     for i in range(0,n):\n",
    "#         for j in range(0,a):\n",
    "#             activty = int(sequence_matrix[i,j])\n",
    "#             if activty >= q:\n",
    "#                 activty = activty - q\n",
    "#                 if datatype == 'Quiz_Discussion': # if the learning resource want to create is binary, then make example to be binary\n",
    "#                     final_e[i, activty, j] = 1\n",
    "#                 else:\n",
    "#                     final_e[i,activty,j] = np.copy(example[i,activty,j])\n",
    "#     return final_q, final_e, t, quiz_concept, example_concept"
   ]
  },
  {
   "cell_type": "code",
   "execution_count": 196,
   "metadata": {},
   "outputs": [
    {
     "data": {
      "image/png": "[encoded data removed]",
      "text/plain": [
       "<Figure size 432x288 with 1 Axes>"
      ]
     },
     "metadata": {
      "needs_background": "light"
     },
     "output_type": "display_data"
    }
   ],
   "source": [
    "n = 100      # n as number of student\n",
    "a = 20        # a as number of attempt\n",
    "q = 10        # p as number of problem\n",
    "e = 15        # q as number of question\n",
    "c = 3         # c as number of concept\n",
    "# k = 3         # k as number of latent student feature\n",
    "# data_type = 'Quiz_Assignment' #simulation data type, assignment(continous) or discussion(binary)\n",
    "# data_type = 'Quiz_Discussion'\n",
    "# data_type = 'Quiz_Discussion_STQ'\n",
    "# data_type = 'Quiz_Discussion_STQ_Thresholded'\n",
    "data_type = 'Quiz_Only'\n",
    "# data_type = 'Quiz_Only_Discussion_STQ'\n",
    "# num_view = 1\n",
    "num_view = 1\n",
    "\n",
    "\n",
    "# quiz, example, t, quiz_concept, example_concept = simulated_data(n, a, q, e, c,num_view, data_type)\n",
    "quiz, t, quiz_concept, sequence_matrix = simulated_data(n, a, q, e, c, num_view, data_type)\n",
    "\n",
    "quiz_score_bf = []\n",
    "for i in range(0, n):\n",
    "    for j in range(0, q):\n",
    "        for k in range(0, a):\n",
    "            # print i, j, k\n",
    "            # print quiz[i,j,k]\n",
    "            if quiz[i, j, k] != 0:\n",
    "                quiz_score_bf.append(quiz[i, j, k])\n",
    "\n",
    "plt.hist(quiz_score_bf)\n",
    "plt.show()\n",
    "\n",
    "quiz[quiz > 0.15] = 1\n",
    "quiz[quiz < 0.15] = 0\n",
    "\n",
    "\n",
    "# quiz_score = []\n",
    "# for i in range(0, n):\n",
    "#     for j in range(0, q):\n",
    "#         for k in range(0, a):\n",
    "#             # print i, j, k\n",
    "#             # print quiz[i,j,k]\n",
    "#             if quiz[i, j, k] != 0:\n",
    "#                 quiz_score.append(quiz[i,j,k])\n",
    "\n",
    "# plt.hist(quiz_score)\n",
    "# plt.show()"
   ]
  },
  {
   "cell_type": "code",
   "execution_count": 197,
   "metadata": {},
   "outputs": [
    {
     "data": {
      "text/plain": [
       "20000"
      ]
     },
     "execution_count": 197,
     "metadata": {},
     "output_type": "execute_result"
    }
   ],
   "source": [
    "total = np.prod(quiz.shape)\n",
    "total"
   ]
  },
  {
   "cell_type": "code",
   "execution_count": 198,
   "metadata": {},
   "outputs": [
    {
     "data": {
      "text/plain": [
       "10320.0"
      ]
     },
     "execution_count": 198,
     "metadata": {},
     "output_type": "execute_result"
    }
   ],
   "source": [
    "quiz.sum()"
   ]
  },
  {
   "cell_type": "code",
   "execution_count": 199,
   "metadata": {},
   "outputs": [
    {
     "data": {
      "text/plain": [
       "array([[ 0., 15., 17., 14.,  5., 12.,  3.,  1.,  0.,  0.],\n",
       "       [14.,  0.,  0.,  5., 14., 12.,  0.,  0.,  1., 19.],\n",
       "       [13., 12., 24.,  0.,  0., 15., 16.,  0.,  0.,  0.],\n",
       "       [ 0., 13.,  0.,  0.,  0., 13.,  0.,  0.,  0.,  0.],\n",
       "       [ 8.,  0., 12.,  0., 12., 13.,  0.,  0.,  0.,  0.],\n",
       "       [ 0.,  0., 11., 22., 12.,  0.,  0., 10.,  0.,  4.],\n",
       "       [ 0., 24.,  0., 17., 11., 22., 15.,  6.,  0.,  0.],\n",
       "       [ 5., 16.,  0., 13.,  0.,  0.,  7., 21.,  0.,  0.],\n",
       "       [11.,  0., 20., 16., 23.,  0., 11., 24., 14.,  0.],\n",
       "       [ 9.,  0.,  0., 17.,  9.,  4.,  0.,  0.,  0., 20.],\n",
       "       [ 0.,  0.,  0., 11.,  0.,  0.,  0.,  0., 12.,  0.],\n",
       "       [15.,  0.,  0., 20.,  0.,  4.,  0., 16.,  0.,  2.],\n",
       "       [ 7.,  3., 16., 15.,  0.,  0.,  0.,  0., 15.,  2.],\n",
       "       [15.,  0., 17.,  0.,  4.,  0.,  0., 13.,  0., 19.],\n",
       "       [13.,  0.,  0.,  0.,  5., 23., 12.,  0.,  0.,  0.],\n",
       "       [ 0., 23.,  0., 21.,  1.,  0.,  0., 20.,  0.,  0.],\n",
       "       [15.,  6., 19.,  0.,  6.,  0.,  0., 19., 18., 20.],\n",
       "       [ 0.,  0., 18.,  0.,  6., 23.,  0., 20.,  9.,  9.],\n",
       "       [ 0.,  3., 12., 12.,  4.,  0.,  0.,  0.,  0.,  0.],\n",
       "       [ 0.,  0.,  0.,  2.,  0., 23., 11.,  1.,  0.,  0.],\n",
       "       [ 0., 18.,  0., 23.,  6., 17.,  0.,  8., 19.,  0.],\n",
       "       [ 0.,  3.,  0., 23., 11.,  7.,  6.,  0., 19.,  0.],\n",
       "       [21.,  6.,  0.,  0.,  0.,  0.,  0., 19.,  0.,  4.],\n",
       "       [21., 20., 11.,  0.,  0.,  0.,  0.,  0., 21.,  9.],\n",
       "       [14.,  0.,  0.,  0.,  0., 14.,  0.,  0.,  0.,  0.],\n",
       "       [ 0.,  1., 24., 13.,  0.,  0.,  0., 19., 22., 20.],\n",
       "       [23.,  0.,  0.,  0., 17.,  0.,  0.,  3.,  0.,  0.],\n",
       "       [13.,  0.,  0.,  0.,  0.,  0.,  0.,  0., 24.,  0.],\n",
       "       [19.,  0.,  7.,  0.,  0.,  4.,  0.,  0.,  0.,  0.],\n",
       "       [23., 13., 15.,  0.,  0., 18., 20.,  6.,  0., 13.],\n",
       "       [ 0.,  0., 10., 21., 13.,  1.,  0.,  6.,  0., 16.],\n",
       "       [ 0.,  5.,  0.,  0.,  0.,  0.,  0., 10., 18.,  3.],\n",
       "       [21., 11.,  0., 10.,  0.,  0.,  0.,  8.,  0., 24.],\n",
       "       [ 0.,  0.,  0.,  3., 24.,  0.,  3.,  0., 22.,  0.],\n",
       "       [ 0., 23.,  0.,  0.,  4.,  0.,  0.,  0., 14.,  3.],\n",
       "       [ 6., 13.,  0.,  0.,  0.,  0.,  9.,  0., 21.,  0.],\n",
       "       [24.,  8.,  6.,  9.,  1.,  0.,  0.,  0.,  5.,  0.],\n",
       "       [ 0.,  0.,  0., 23.,  0.,  0.,  0.,  0.,  0.,  0.],\n",
       "       [11.,  0., 16.,  0.,  5.,  3., 19.,  0.,  0.,  0.],\n",
       "       [ 0., 14.,  5.,  0., 16.,  0.,  4.,  0., 19., 12.],\n",
       "       [22.,  0., 14.,  0.,  0., 17.,  0.,  8.,  1.,  0.],\n",
       "       [ 0.,  0.,  0., 14.,  0.,  0.,  0.,  0., 17.,  0.],\n",
       "       [11.,  0.,  0.,  3., 17.,  8.,  0.,  0.,  0., 21.],\n",
       "       [19., 16.,  6.,  0., 14.,  0.,  8.,  0., 24.,  0.],\n",
       "       [ 0., 14.,  0.,  3., 14.,  0., 16.,  0.,  0., 20.],\n",
       "       [13.,  1., 24.,  4.,  0.,  0.,  0.,  0., 24.,  5.],\n",
       "       [24., 22.,  5.,  0.,  6.,  0.,  0., 19.,  0., 16.],\n",
       "       [ 0.,  2., 16.,  0.,  0., 16.,  0., 13.,  6.,  7.],\n",
       "       [ 3.,  1., 13.,  0.,  5.,  0., 24.,  0.,  9.,  0.],\n",
       "       [10.,  0., 17.,  0.,  0., 16., 23.,  0.,  0.,  8.],\n",
       "       [ 6.,  0.,  0.,  0.,  0., 17.,  0., 12., 12., 15.],\n",
       "       [ 0., 13.,  5.,  0., 12.,  0.,  0.,  3., 21.,  0.],\n",
       "       [10.,  2.,  5.,  0., 19.,  0., 20., 24.,  3.,  0.],\n",
       "       [ 1.,  0.,  0.,  0., 22.,  0., 14.,  0.,  0., 12.],\n",
       "       [18., 17.,  8.,  0., 13.,  0.,  0.,  0.,  2.,  0.],\n",
       "       [ 0.,  0.,  0., 13.,  0., 11., 14.,  0.,  0., 15.],\n",
       "       [ 0.,  0., 11.,  0., 22., 22.,  0.,  0.,  0.,  0.],\n",
       "       [ 0.,  3.,  0.,  3., 12.,  0.,  3.,  0.,  0.,  2.],\n",
       "       [ 0., 10.,  0.,  0.,  8.,  0., 10.,  0., 20.,  0.],\n",
       "       [ 0.,  8.,  0.,  0.,  4., 16.,  0., 17., 12.,  0.],\n",
       "       [24., 14.,  0.,  0., 12.,  7.,  0.,  4.,  0.,  0.],\n",
       "       [10., 13.,  0.,  7.,  4.,  0.,  4.,  0.,  0., 21.],\n",
       "       [ 0.,  0., 22., 11., 12.,  0.,  0.,  0.,  5.,  0.],\n",
       "       [ 6.,  0.,  0.,  0.,  0., 10.,  0.,  0., 20.,  0.],\n",
       "       [ 0., 15.,  7., 10.,  0.,  0.,  0.,  0.,  0.,  0.],\n",
       "       [ 0.,  0.,  0.,  0.,  6.,  0.,  0.,  0.,  0.,  0.],\n",
       "       [ 0., 10., 24., 20., 18.,  0., 14., 16.,  5., 23.],\n",
       "       [20., 21.,  7.,  0.,  0.,  0.,  0.,  0.,  0.,  0.],\n",
       "       [ 0.,  0.,  0.,  3.,  0.,  0., 24.,  5., 24.,  0.],\n",
       "       [ 3., 21.,  0.,  4.,  8.,  1.,  0.,  0.,  0., 23.],\n",
       "       [ 0.,  0.,  3.,  3.,  0.,  0.,  0.,  8.,  0.,  0.],\n",
       "       [16.,  5.,  9.,  0.,  0., 14.,  0.,  7.,  2.,  5.],\n",
       "       [ 0.,  9.,  8., 14.,  2., 18.,  4.,  0., 19.,  0.],\n",
       "       [ 0.,  0.,  0.,  0., 23.,  0.,  0.,  9.,  0.,  0.],\n",
       "       [11.,  0., 23.,  0.,  0.,  0., 18.,  4.,  0., 12.],\n",
       "       [ 0., 13.,  0.,  0.,  0.,  2.,  1., 17.,  0.,  0.],\n",
       "       [23.,  4., 19.,  0., 18.,  0.,  0.,  0., 17.,  0.],\n",
       "       [20., 20.,  4.,  0., 24.,  0., 21.,  0.,  0.,  0.],\n",
       "       [10.,  0.,  1.,  0.,  0.,  0.,  0.,  0.,  0.,  0.],\n",
       "       [ 0., 18.,  0.,  0.,  0.,  0.,  0.,  0.,  2.,  3.],\n",
       "       [12., 23., 22.,  0.,  0.,  0.,  4.,  0.,  0.,  0.],\n",
       "       [ 0.,  0.,  0.,  0., 10.,  5., 23.,  9.,  9.,  1.],\n",
       "       [ 0.,  0.,  0.,  6., 16., 21.,  4.,  0.,  0.,  0.],\n",
       "       [ 0., 19.,  0., 17.,  0., 12.,  6.,  0.,  0.,  0.],\n",
       "       [ 4.,  0.,  0.,  0., 12.,  6.,  0., 21.,  0.,  0.],\n",
       "       [ 6.,  9., 12., 19., 19., 23., 20.,  0.,  0., 10.],\n",
       "       [ 0.,  0.,  0., 10.,  0.,  0.,  0.,  0.,  8.,  0.],\n",
       "       [17.,  0.,  0.,  2., 11.,  3.,  0.,  0., 16.,  0.],\n",
       "       [15.,  8., 21.,  0.,  1.,  0., 22.,  0.,  0.,  7.],\n",
       "       [ 0.,  7., 22., 14., 22.,  0.,  0.,  0.,  0.,  0.],\n",
       "       [ 0.,  0.,  0.,  0.,  0., 10., 17., 22.,  3.,  0.],\n",
       "       [20.,  4.,  9.,  0., 24.,  0.,  0.,  0.,  0.,  2.],\n",
       "       [ 3.,  6.,  5., 11.,  0.,  0.,  0.,  0.,  8.,  0.],\n",
       "       [22.,  0.,  6.,  0.,  0., 16.,  0.,  0., 15.,  0.],\n",
       "       [ 0., 14.,  0.,  1.,  0.,  7., 17.,  4.,  0.,  8.],\n",
       "       [ 3., 17.,  0.,  0.,  0.,  0.,  7., 16., 17.,  0.],\n",
       "       [ 0.,  0.,  0., 24.,  0.,  6., 16.,  0.,  0.,  0.],\n",
       "       [ 5.,  0.,  0.,  0.,  0.,  0., 10., 23.,  8.,  0.],\n",
       "       [ 0.,  2.,  0.,  0., 23.,  0.,  0.,  0.,  0., 18.],\n",
       "       [24., 19.,  0., 12.,  0.,  0.,  4., 10., 15.,  1.]])"
      ]
     },
     "execution_count": 199,
     "metadata": {},
     "output_type": "execute_result"
    }
   ],
   "source": [
    "sequence_matrix"
   ]
  },
  {
   "cell_type": "code",
   "execution_count": 200,
   "metadata": {},
   "outputs": [],
   "source": [
    "X = np.zeros(quiz.shape)\n",
    "# Substitute not observed items per None\n",
    "for (student, question_id), attempt in np.ndenumerate(sequence_matrix):\n",
    "    X[student, question_id, 0:min(20,int(attempt))] = 1\n",
    "    \n",
    "quiz[np.where(X == 0)] = None\n",
    "quiz_original = quiz.copy()"
   ]
  },
  {
   "cell_type": "markdown",
   "metadata": {},
   "source": [
    "### FDTF Tensor Factorization"
   ]
  },
  {
   "cell_type": "code",
   "execution_count": 227,
   "metadata": {},
   "outputs": [],
   "source": [
    "def feedback_driven_tensor_factorization(student_performance, n_concepts=2, mu=0.1, init=3, max_iter=100):\n",
    "    \"\"\" Student performance: 0 if incorrect, 1 if correct or None if not observed \"\"\"\n",
    "    \n",
    "    # Get values from student performance tensor shape\n",
    "    n_students, n_questions, n_attempts = student_performance.shape\n",
    "    \n",
    "    # Construct tensor X denoting when a student has or has not chosen to work on a problem\n",
    "    X = np.ones(student_performance.shape)\n",
    "    X[np.where(np.isnan(student_performance))] = 0\n",
    "    # Complete student knowledge tensor with zero where is NaN\n",
    "    student_performance[np.where(np.isnan(student_performance))] = 0\n",
    "    \n",
    "    # Create student knowledge tensor\n",
    "    student_knowledge = np.zeros((n_students, n_concepts, n_attempts))\n",
    "\n",
    "#     error_run = []\n",
    "#     error_total_run = []\n",
    "#     student_performance_pred_run = []\n",
    "    best_error = 9999\n",
    "    lambda1 = 0.0001\n",
    "    \n",
    "    # Several starts\n",
    "    for run in range(init):\n",
    "        print(\"Run: %d\" % run)\n",
    "#         error = []\n",
    "        student_performance_pred_list = []\n",
    "\n",
    "#         for attempt in range(n_attempts):\n",
    "#             student_knowledge[:, :, attempt] = np.random.rand(n_students, n_concepts)\n",
    "        q_matrix = np.random.rand(n_concepts, n_questions)\n",
    "         # Impose non-negativity constraint\n",
    "        q_matrix[q_matrix <= 0] = 0.01\n",
    "        # Normalize rows to sum one\n",
    "        row_sums = q_matrix.sum(axis=0, keepdims=True)\n",
    "        if not (np.any(q_matrix.sum(axis=0))):\n",
    "            raise RuntimeError(\"Q Matrix with empty row\")\n",
    "        q_matrix = q_matrix / row_sums\n",
    "\n",
    "        student_performance_pred = np.zeros(student_performance.shape)\n",
    "        for i in range(max_iter):\n",
    "            # Phase 2: learning\n",
    "            # Update T: T = 2*(T_{t-1}) + 2*((1-T_{t-1})/(1+exp(-mu*X_{t}*Q'))) - 1\n",
    "            # For T0 user T-1 as 0\n",
    "            student_knowledge[:, :, 0] = (2/(1+np.exp(-mu*np.dot(X[:,:,0], q_matrix.T)))-1)\n",
    "#             print(student_knowledge[0,:,0])\n",
    "#             break\n",
    "#         break\n",
    "            for attempt in range(1, n_attempts):\n",
    "                student_knowledge[:, :, attempt] = (2*student_knowledge[:, :, attempt-1]) + \\\n",
    "                2*(1-student_knowledge[:, :, attempt-1])/(1+np.exp(-mu*np.dot(X[:,:,attempt], q_matrix.T))) - 1\n",
    "#                 print(student_knowledge[0,:,attempt])\n",
    "                \n",
    "            \n",
    "            # Phase 1: prediction\n",
    "            # Update Q: Q = (T'T)^(-1)T'Y = T^(-1)Y\n",
    "            # (T'T)^(-1)\n",
    "            student_knowledge_transposed = np.zeros((n_concepts, n_concepts, n_attempts))\n",
    "            for attempt in range(n_attempts):\n",
    "                student_knowledge_transposed[:, :, attempt] = np.dot(student_knowledge[:, :, attempt].T, \n",
    "                                                                     student_knowledge[:, :, attempt])\n",
    "                \n",
    "            student_knowledge_transposed = student_knowledge_transposed.sum(axis=2)\n",
    "#             try:\n",
    "            student_knowledge_transposed_inv = np.linalg.pinv(student_knowledge_transposed+lambda1)\n",
    "#             except np.linalg.LinAlgError:\n",
    "#                 return student_knowledge, X, q_matrix, student_knowledge_transposed_inv, TY\n",
    "            \n",
    "            # T'Y\n",
    "            TY = np.zeros((n_concepts, n_questions, n_attempts))\n",
    "            for attempt in range(n_attempts):\n",
    "                TY[:, :, attempt] = np.dot(student_knowledge[:, :, attempt].T, \n",
    "                                           student_performance[:, :, attempt])\n",
    "            TY = TY.sum(axis=2)\n",
    "            \n",
    "            ## TODO: add regularization parameters (lambda)\n",
    "            # Q = (T'T)^(-1)T'Y\n",
    "            q_matrix = np.dot(student_knowledge_transposed_inv, TY)\n",
    "            # Impose non-negativity constraint\n",
    "            q_matrix[q_matrix < 0] = 0\n",
    "            # Normalize rows to sum one\n",
    "            row_sums = q_matrix.sum(axis=0, keepdims=True)\n",
    "            if not (np.all(row_sums)):\n",
    "                raise RuntimeError(\"Q Matrix with empty row\")\n",
    "#                 print(\"Q Matrix with empty row\")\n",
    "#                 return q_matrix\n",
    "            q_matrix = q_matrix / row_sums\n",
    "            \n",
    "            # Y = TQ\n",
    "            for attempt in range(n_attempts):\n",
    "                student_performance_pred[:, :, attempt] = np.dot(student_knowledge[:, :, attempt], q_matrix)\n",
    "                \n",
    "            \n",
    "            diff = np.zeros((n_students, n_questions, n_attempts))\n",
    "            for attempt in range(n_attempts):\n",
    "                diff[:, :, attempt] = student_performance[:, :, attempt] - student_performance_pred[:, :, attempt]\n",
    "            # Frobenius norm (norm-2)\n",
    "            error = np.sqrt(np.sum(np.power(diff, 2)))\n",
    "#             error.append(np.sqrt(np.sum(np.power(diff, 2))))\n",
    "            if error < best_error:\n",
    "                best_student_performance_pred = student_performance_pred.copy()\n",
    "                best_student_knowledge = student_knowledge.copy()\n",
    "                best_q_matrix = q_matrix.copy()\n",
    "                best_error = error\n",
    "            \n",
    "#             student_performance_pred_iter = student_performance_pred.copy()\n",
    "#             student_performance_pred_list.append(student_performance_pred_iter)\n",
    "#         student_performance_pred_run.append(student_performance_pred_list)\n",
    "#         error_run.append(error)\n",
    "#         error_total_run.append(error[-1])\n",
    "                \n",
    "#     return np.asarray(student_performance_pred_run), np.asarray(error_run), error_total_run\n",
    "    if best_error == 9999:\n",
    "        raise RuntimeError(\"Could not converge\")\n",
    "    return best_student_performance_pred, best_student_knowledge, best_q_matrix, best_error\n",
    "#     return (np.asarray(student_performance_pred_run), np.asarray(error_run), error_total_run, \n",
    "#             best_student_performance_pred, best_student_knowledge, best_q_matrix, best_error)"
   ]
  },
  {
   "cell_type": "code",
   "execution_count": 31,
   "metadata": {},
   "outputs": [],
   "source": [
    "def predict(previous_student_knowledge, q_matrix, X):\n",
    "    # Get values from student performance tensor shape\n",
    "    current_student_knowledge = np.zeros(previous_student_knowledge.shape)\n",
    "    current_student_knowledge = (2*previous_student_knowledge) + \\\n",
    "                2*(1-previous_student_knowledge)/(1+np.exp(-mu*np.dot(X, q_matrix.T))) - 1\n",
    "    next_student_performance = np.dot(current_student_knowledge, q_matrix)\n",
    "    return next_student_performance"
   ]
  },
  {
   "cell_type": "code",
   "execution_count": 178,
   "metadata": {},
   "outputs": [
    {
     "data": {
      "text/plain": [
       "(25, 3, 36)"
      ]
     },
     "execution_count": 178,
     "metadata": {},
     "output_type": "execute_result"
    }
   ],
   "source": [
    "best_student_knowledge.shape"
   ]
  },
  {
   "cell_type": "code",
   "execution_count": 183,
   "metadata": {},
   "outputs": [],
   "source": [
    "for student in test_set:\n",
    "    outcome, s_idx, q_idx = item\n",
    "    psk = best_student_knowledge[s_idx, :, -1]\n",
    "    this_X = test_X[s_idx, :, -1]\n",
    "    break"
   ]
  },
  {
   "cell_type": "code",
   "execution_count": 192,
   "metadata": {},
   "outputs": [
    {
     "data": {
      "text/plain": [
       "(25, 20, 49)"
      ]
     },
     "execution_count": 192,
     "metadata": {},
     "output_type": "execute_result"
    }
   ],
   "source": [
    "test_X.shape"
   ]
  },
  {
   "cell_type": "code",
   "execution_count": 177,
   "metadata": {},
   "outputs": [
    {
     "data": {
      "text/plain": [
       "array([[ 1,  9,  7],\n",
       "       [ 1,  9,  7],\n",
       "       [ 1,  9,  9],\n",
       "       [ 0,  9, 10],\n",
       "       [ 1,  9, 11],\n",
       "       [ 1,  9, 11],\n",
       "       [ 1,  9, 13],\n",
       "       [ 1,  9, 15],\n",
       "       [ 0,  9,  0],\n",
       "       [ 0,  9,  1],\n",
       "       [ 0,  9,  5],\n",
       "       [ 0,  9,  6],\n",
       "       [ 0,  9,  8],\n",
       "       [ 0,  9,  8],\n",
       "       [ 0,  9, 12],\n",
       "       [ 0,  9, 14],\n",
       "       [ 0,  9, 16],\n",
       "       [ 0,  9, 16],\n",
       "       [ 0,  9, 17],\n",
       "       [ 0,  9, 18],\n",
       "       [ 0,  9, 19],\n",
       "       [ 0,  9, 19],\n",
       "       [ 1,  8, 10],\n",
       "       [ 1,  8, 10],\n",
       "       [ 1,  8, 11],\n",
       "       [ 1,  8, 13],\n",
       "       [ 0,  8, 13],\n",
       "       [ 0,  8, 15],\n",
       "       [ 1,  8,  0],\n",
       "       [ 1,  8,  0],\n",
       "       [ 1,  8,  1],\n",
       "       [ 0,  8,  1],\n",
       "       [ 1,  8,  5],\n",
       "       [ 0,  8,  6],\n",
       "       [ 1,  8,  6],\n",
       "       [ 1,  8,  8],\n",
       "       [ 1,  8,  8],\n",
       "       [ 1,  8, 12],\n",
       "       [ 0,  8, 14],\n",
       "       [ 1,  8, 16],\n",
       "       [ 1,  8, 16],\n",
       "       [ 1,  8, 17],\n",
       "       [ 1,  8, 18],\n",
       "       [ 0,  8, 18],\n",
       "       [ 1,  8, 19],\n",
       "       [ 1, 12,  4],\n",
       "       [ 1, 12,  7],\n",
       "       [ 1, 12,  9],\n",
       "       [ 0, 12, 10],\n",
       "       [ 1, 12, 10],\n",
       "       [ 1, 12, 10],\n",
       "       [ 1, 12, 11],\n",
       "       [ 1, 12, 13],\n",
       "       [ 0, 12, 15],\n",
       "       [ 0, 12,  0],\n",
       "       [ 1, 12,  1],\n",
       "       [ 1, 12,  1],\n",
       "       [ 0, 12,  5],\n",
       "       [ 1, 12,  6],\n",
       "       [ 1, 12,  6],\n",
       "       [ 0, 12,  6],\n",
       "       [ 1, 12,  6],\n",
       "       [ 1, 12,  8],\n",
       "       [ 0, 12, 12],\n",
       "       [ 0, 12, 14],\n",
       "       [ 1, 12, 16],\n",
       "       [ 0, 12, 16],\n",
       "       [ 1, 12, 16],\n",
       "       [ 1, 12, 16],\n",
       "       [ 1, 12, 16],\n",
       "       [ 1, 12, 16],\n",
       "       [ 1, 12, 17],\n",
       "       [ 1, 12, 18],\n",
       "       [ 0, 12, 19],\n",
       "       [ 1, 11,  7],\n",
       "       [ 1, 11,  9],\n",
       "       [ 0, 11, 10],\n",
       "       [ 1, 11, 10],\n",
       "       [ 1, 11, 11],\n",
       "       [ 1, 11, 11],\n",
       "       [ 0, 11, 11],\n",
       "       [ 1, 11, 13],\n",
       "       [ 1, 11, 15],\n",
       "       [ 0, 11,  0],\n",
       "       [ 1, 11,  1],\n",
       "       [ 1, 11,  5],\n",
       "       [ 1, 11,  5],\n",
       "       [ 1, 11,  6],\n",
       "       [ 0, 11,  8],\n",
       "       [ 1, 11,  8],\n",
       "       [ 1, 11, 12],\n",
       "       [ 0, 11, 12],\n",
       "       [ 1, 11, 14],\n",
       "       [ 1, 11, 16],\n",
       "       [ 1, 11, 16],\n",
       "       [ 1, 11, 17],\n",
       "       [ 1, 11, 17],\n",
       "       [ 0, 11, 18],\n",
       "       [ 1, 11, 18],\n",
       "       [ 1, 11, 19],\n",
       "       [ 0,  5,  7],\n",
       "       [ 0,  5,  9],\n",
       "       [ 0,  5,  9],\n",
       "       [ 0,  5, 10],\n",
       "       [ 0,  5, 11],\n",
       "       [ 0,  5, 13],\n",
       "       [ 0,  5, 13],\n",
       "       [ 1,  5, 15],\n",
       "       [ 1,  5, 15],\n",
       "       [ 0,  5, 15],\n",
       "       [ 0,  5, 15],\n",
       "       [ 1,  5, 15],\n",
       "       [ 1,  5, 15],\n",
       "       [ 1,  5, 15],\n",
       "       [ 1,  5,  0],\n",
       "       [ 1,  5,  1],\n",
       "       [ 1,  5,  1],\n",
       "       [ 1,  5,  5],\n",
       "       [ 1,  5,  6],\n",
       "       [ 1,  5,  8],\n",
       "       [ 1,  5, 12],\n",
       "       [ 1,  5, 14],\n",
       "       [ 1,  5, 14],\n",
       "       [ 1,  5, 16],\n",
       "       [ 0,  5, 16],\n",
       "       [ 1,  5, 17],\n",
       "       [ 1,  5, 17],\n",
       "       [ 1,  5, 17],\n",
       "       [ 1,  5, 18],\n",
       "       [ 1,  5, 18],\n",
       "       [ 1,  5, 19],\n",
       "       [ 1,  5, 19],\n",
       "       [ 1,  5, 19],\n",
       "       [ 1,  5, 19]])"
      ]
     },
     "execution_count": 177,
     "metadata": {},
     "output_type": "execute_result"
    }
   ],
   "source": [
    "test_set"
   ]
  },
  {
   "cell_type": "code",
   "execution_count": 201,
   "metadata": {},
   "outputs": [
    {
     "name": "stdout",
     "output_type": "stream",
     "text": [
      "CPU times: user 4min 18s, sys: 51 ms, total: 4min 18s\n",
      "Wall time: 4min 18s\n"
     ]
    },
    {
     "data": {
      "text/plain": [
       "125.53504195397154"
      ]
     },
     "execution_count": 201,
     "metadata": {},
     "output_type": "execute_result"
    }
   ],
   "source": [
    "%%time\n",
    "best_student_performance_pred, best_student_knowledge, best_q_matrix, best_error = feedback_driven_tensor_factorization(\n",
    "    quiz, n_concepts=3, init=100, max_iter=1000)\n",
    "best_error"
   ]
  },
  {
   "cell_type": "markdown",
   "metadata": {},
   "source": [
    "### Simulation 1 - Student Performance is the exact multiplication of  Q Matrix and Student Knowledge"
   ]
  },
  {
   "cell_type": "code",
   "execution_count": 75,
   "metadata": {},
   "outputs": [],
   "source": [
    "N_CONCEPTS = 2\n",
    "N_QUESTIONS = 5\n",
    "N_STUDENTS = 10\n",
    "N_ATTEMPTS = 3"
   ]
  },
  {
   "cell_type": "code",
   "execution_count": 76,
   "metadata": {},
   "outputs": [],
   "source": [
    "def generate_sample(noise=0):\n",
    "    DENSITY = 0.8\n",
    "\n",
    "    # Create sparse q_matrix and normalize it to sum 1\n",
    "    q_matrix = sparse.rand(N_CONCEPTS, N_QUESTIONS, DENSITY).todense()\n",
    "    row_sums = q_matrix.sum(axis=0)\n",
    "    while not(np.all(row_sums)):\n",
    "        q_matrix = sparse.rand(N_CONCEPTS, N_QUESTIONS, DENSITY).todense()\n",
    "        row_sums = q_matrix.sum(axis=0)\n",
    "    q_matrix = q_matrix / row_sums\n",
    "\n",
    "    student_knowledge = np.zeros((N_STUDENTS, N_CONCEPTS, N_ATTEMPTS))\n",
    "    for attempt in range(N_ATTEMPTS):\n",
    "        student_knowledge[:, :, attempt] = sparse.rand(N_STUDENTS, N_CONCEPTS, DENSITY).todense()\n",
    "\n",
    "    student_performance = np.zeros((N_STUDENTS, N_QUESTIONS, N_ATTEMPTS))\n",
    "    for attempt in range(N_ATTEMPTS):\n",
    "        student_performance[:, :, attempt] = np.dot(student_knowledge[:, :, attempt], q_matrix)\n",
    "        \n",
    "    if noise:\n",
    "        noise = np.random.normal(0, noise, (N_STUDENTS, N_QUESTIONS, N_ATTEMPTS))\n",
    "        student_performance = student_performance + noise\n",
    "        \n",
    "    return student_performance"
   ]
  },
  {
   "cell_type": "code",
   "execution_count": 109,
   "metadata": {},
   "outputs": [],
   "source": [
    "student_performance = generate_sample()"
   ]
  },
  {
   "cell_type": "code",
   "execution_count": 128,
   "metadata": {},
   "outputs": [
    {
     "data": {
      "text/plain": [
       "7.179852801172138"
      ]
     },
     "execution_count": 128,
     "metadata": {},
     "output_type": "execute_result"
    }
   ],
   "source": [
    "# student_performance_pred_run, error_run, error_total_run = feedback_driven_tensor_factorization(\n",
    "#     student_performance, n_concepts=2, init=1, max_iter=4)\n",
    "best_student_performance_pred, best_student_knowledge, best_q_matrix, best_error = feedback_driven_tensor_factorization(\n",
    "    student_performance, n_concepts=2, init=1, max_iter=4)\n",
    "best_error"
   ]
  },
  {
   "cell_type": "markdown",
   "metadata": {},
   "source": [
    "### Simulation 2 - Student Performance is the multiplication of Q Matrix and Student Knowledge plus noise"
   ]
  },
  {
   "cell_type": "code",
   "execution_count": 129,
   "metadata": {},
   "outputs": [],
   "source": [
    "student_performance = generate_sample(0.5)\n",
    "# Add random None\n",
    "random_questions = np.random.randint(0, N_QUESTIONS, int(0.2*total))\n",
    "random_students = np.random.randint(0, N_QUESTIONS, int(0.2*total))\n",
    "random_attempts = np.random.randint(0, N_ATTEMPTS, int(0.2*total))\n",
    "\n",
    "student_performance[random_questions, random_students, random_attempts] = None"
   ]
  },
  {
   "cell_type": "code",
   "execution_count": 130,
   "metadata": {},
   "outputs": [
    {
     "data": {
      "text/plain": [
       "7.773789328315481"
      ]
     },
     "execution_count": 130,
     "metadata": {},
     "output_type": "execute_result"
    }
   ],
   "source": [
    "# student_performance_pred_run, error_run, error_total_run = feedback_driven_tensor_factorization(\n",
    "#     student_performance, n_concepts=2, init=3, max_iter=5)\n",
    "best_student_performance_pred, best_student_knowledge, best_q_matrix, best_error = feedback_driven_tensor_factorization(\n",
    "    student_performance, n_concepts=2, init=3, max_iter=5)\n",
    "best_error"
   ]
  },
  {
   "cell_type": "markdown",
   "metadata": {},
   "source": [
    "### Simulation 3 - Student Performance contains only zeros and ones"
   ]
  },
  {
   "cell_type": "code",
   "execution_count": 131,
   "metadata": {},
   "outputs": [],
   "source": [
    "student_performance = generate_sample(0.5)"
   ]
  },
  {
   "cell_type": "code",
   "execution_count": 132,
   "metadata": {},
   "outputs": [],
   "source": [
    "student_performance[student_performance > 0.5] = 1\n",
    "student_performance[student_performance < 0.5] = 0"
   ]
  },
  {
   "cell_type": "code",
   "execution_count": 133,
   "metadata": {},
   "outputs": [],
   "source": [
    "# Add random None\n",
    "random_questions = np.random.randint(0, N_QUESTIONS, int(0.2*total))\n",
    "random_students = np.random.randint(0, N_QUESTIONS, int(0.2*total))\n",
    "random_attempts = np.random.randint(0, N_ATTEMPTS, int(0.2*total))\n",
    "\n",
    "student_performance[random_questions, random_students, random_attempts] = None"
   ]
  },
  {
   "cell_type": "code",
   "execution_count": 135,
   "metadata": {},
   "outputs": [
    {
     "data": {
      "text/plain": [
       "9.969006306135684"
      ]
     },
     "execution_count": 135,
     "metadata": {},
     "output_type": "execute_result"
    }
   ],
   "source": [
    "best_student_performance_pred, best_student_knowledge, best_q_matrix, best_error = feedback_driven_tensor_factorization(\n",
    "    student_performance, n_concepts=2, init=3, max_iter=100)\n",
    "best_error"
   ]
  },
  {
   "cell_type": "code",
   "execution_count": 136,
   "metadata": {},
   "outputs": [],
   "source": [
    "best_student_performance_pred[best_student_performance_pred > 0.5] = 1\n",
    "best_student_performance_pred[best_student_performance_pred < 0.5] = 0"
   ]
  },
  {
   "cell_type": "code",
   "execution_count": 137,
   "metadata": {},
   "outputs": [
    {
     "name": "stdout",
     "output_type": "stream",
     "text": [
      "Accuracy: 28.67%\n"
     ]
    }
   ],
   "source": [
    "acc = 100*(np.logical_not(np.logical_xor(\n",
    "    student_performance, best_student_performance_pred)).sum())/(\n",
    "    student_performance.shape[0]*student_performance.shape[1]*student_performance.shape[2])\n",
    "print(\"Accuracy: %.2f%%\" % acc)"
   ]
  },
  {
   "cell_type": "code",
   "execution_count": 147,
   "metadata": {},
   "outputs": [
    {
     "name": "stderr",
     "output_type": "stream",
     "text": [
      "/data2/miniconda3/envs/machineteaching/lib/python3.6/site-packages/ipykernel_launcher.py:56: RuntimeWarning: invalid value encountered in true_divide\n",
      "/data2/miniconda3/envs/machineteaching/lib/python3.6/site-packages/numpy/linalg/linalg.py:1974: RuntimeWarning: invalid value encountered in greater\n",
      "  large = s > cutoff\n",
      "/data2/miniconda3/envs/machineteaching/lib/python3.6/site-packages/ipykernel_launcher.py:53: RuntimeWarning: invalid value encountered in less\n"
     ]
    },
    {
     "name": "stdout",
     "output_type": "stream",
     "text": [
      "Error in 44 for noise 0.35\n"
     ]
    },
    {
     "data": {
      "image/png": "[encoded data removed]",
      "text/plain": [
       "<Figure size 432x288 with 1 Axes>"
      ]
     },
     "metadata": {
      "needs_background": "light"
     },
     "output_type": "display_data"
    },
    {
     "name": "stdout",
     "output_type": "stream",
     "text": [
      "CPU times: user 1min 5s, sys: 16.7 ms, total: 1min 5s\n",
      "Wall time: 1min 5s\n"
     ]
    }
   ],
   "source": [
    "%%time\n",
    "accs = []\n",
    "accs_std = []\n",
    "\n",
    "for noise in np.arange(0, 1, 0.05):\n",
    "    accs_run = []\n",
    "    for run in range(50):\n",
    "        # Generate sample and approximate values to 0 and 1\n",
    "        student_performance = generate_sample(noise)\n",
    "        student_performance[student_performance > 0.5] = 1\n",
    "        student_performance[student_performance < 0.5] = 0\n",
    "        \n",
    "        # Add random None\n",
    "        random_questions = np.random.randint(0, N_QUESTIONS, int(0.1*total))\n",
    "        random_students = np.random.randint(0, N_QUESTIONS, int(0.1*total))\n",
    "        random_attempts = np.random.randint(0, N_ATTEMPTS, int(0.1*total))\n",
    "\n",
    "        student_performance[random_questions, random_students, random_attempts] = None\n",
    "        \n",
    "\n",
    "#         Run tensor factorization\n",
    "        try:\n",
    "            best_student_performance_pred, best_student_knowledge, best_q_matrix, best_error = feedback_driven_tensor_factorization(\n",
    "            student_performance, n_concepts=2, init=3, max_iter=50)\n",
    "        except RuntimeError:\n",
    "            print(\"Error in run %d for noise %.2f\" % (run, noise))\n",
    "            continue\n",
    "        \n",
    "\n",
    "#         Get best run results\n",
    "        best_student_performance_pred[best_student_performance_pred > 0.5] = 1\n",
    "        best_student_performance_pred[best_student_performance_pred < 0.5] = 0\n",
    "        \n",
    "\n",
    "#         Calculate accuracy\n",
    "        acc = 100*(np.logical_not(np.logical_xor(\n",
    "            student_performance, best_student_performance_pred)).sum())/(\n",
    "            student_performance.shape[0]*student_performance.shape[1]*student_performance.shape[2])\n",
    "        accs_run.append(acc)\n",
    "\n",
    "    accs.append(np.asarray(accs_run).mean())\n",
    "    accs_std.append(np.asarray(accs_run).std())\n",
    "    \n",
    "plt.errorbar(np.arange(0, 1, 0.05), accs, yerr=accs_std)\n",
    "plt.show()"
   ]
  },
  {
   "cell_type": "code",
   "execution_count": 485,
   "metadata": {},
   "outputs": [],
   "source": [
    "diff = np.zeros((N_QUESTIONS, N_STUDENTS, N_ATTEMPTS))\n",
    "for attempt in range(N_ATTEMPTS):\n",
    "    diff[:, :, attempt] = student_performance[:, :, attempt] - best_student_performance_pred[:, :, attempt]"
   ]
  },
  {
   "cell_type": "code",
   "execution_count": 486,
   "metadata": {},
   "outputs": [
    {
     "data": {
      "text/plain": [
       "4.898979485566356"
      ]
     },
     "execution_count": 486,
     "metadata": {},
     "output_type": "execute_result"
    }
   ],
   "source": [
    "np.sqrt(np.sum(np.power(diff, 2)))"
   ]
  }
 ],
 "metadata": {
  "kernelspec": {
   "display_name": "Python 3",
   "language": "python",
   "name": "python3"
  },
  "language_info": {
   "codemirror_mode": {
    "name": "ipython",
    "version": 3
   },
   "file_extension": ".py",
   "mimetype": "text/x-python",
   "name": "python",
   "nbconvert_exporter": "python",
   "pygments_lexer": "ipython3",
   "version": "3.6.10"
  }
 },
 "nbformat": 4,
 "nbformat_minor": 4
}
