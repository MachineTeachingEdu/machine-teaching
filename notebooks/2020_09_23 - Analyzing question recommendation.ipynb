{
 "cells": [
  {
   "cell_type": "code",
   "execution_count": 7,
   "metadata": {},
   "outputs": [],
   "source": [
    "import pickle\n",
    "from collections import defaultdict\n",
    "import rankaggregation as ra\n",
    "import matplotlib.pyplot as plt"
   ]
  },
  {
   "cell_type": "code",
   "execution_count": 8,
   "metadata": {},
   "outputs": [],
   "source": [
    "folder_main = 'data/recommendation'\n",
    "folder = folder_main + '/lak2'"
   ]
  },
  {
   "cell_type": "markdown",
   "metadata": {},
   "source": [
    "### Open logs"
   ]
  },
  {
   "cell_type": "code",
   "execution_count": 9,
   "metadata": {},
   "outputs": [],
   "source": [
    "folds = 5\n",
    "fquestions = []\n",
    "f_avg_questions = []\n",
    "f_students = []\n",
    "\n",
    "q_dict = defaultdict(int)\n",
    "q_dict_avg = defaultdict(int)\n",
    "\n",
    "for i in range(1, folds+1):\n",
    "    count_questions = defaultdict(int)\n",
    "    count_avg_questions = defaultdict(int)\n",
    "    student_questions = defaultdict(int)\n",
    "    with open('%s/fold_%i/skill_7_concept_5_ls_0.1_lt_0.1_lq_0_lbias_0.01_pw_0.1_markov_1_lr_0.1_max_iter_10_topk_3_user_rec_dict.pkl' % (folder, i), 'rb') as pklfile:\n",
    "        data = pickle.load(pklfile)\n",
    "        for user_id, recommendations in data.items():\n",
    "            for question_id, count in recommendations.items():\n",
    "                count_questions[question_id] += count\n",
    "                q_dict[question_id] += count\n",
    "                student_questions[question_id] += 1\n",
    "    fquestions.append(count_questions)\n",
    "    # Average values per student\n",
    "    for key, value in count_questions.items():\n",
    "        count_avg_questions[key] += value/student_questions[key]\n",
    "    f_avg_questions.append(count_avg_questions)\n",
    "    f_students.append(student_questions)\n",
    "    \n",
    "\n",
    "cq_total = defaultdict(int)\n",
    "student_total = defaultdict(int)\n",
    "avg_total = defaultdict(float)\n",
    "for fold, count_questions in enumerate(fquestions):\n",
    "    for key, value in count_questions.items():\n",
    "        cq_total[key] += value\n",
    "        student_total[key] += f_students[fold][key]\n",
    "        \n",
    "\n",
    "for key, value in cq_total.items():\n",
    "    avg_total[key] = value/student_total[key]"
   ]
  },
  {
   "cell_type": "code",
   "execution_count": 10,
   "metadata": {
    "scrolled": false
   },
   "outputs": [],
   "source": [
    "sorted_fquestions = []\n",
    "for count_questions in fquestions:\n",
    "    sorted_count_questions = {k: v for k, v in sorted(count_questions.items(), reverse=True, key=lambda item: item[1])}\n",
    "    sorted_fquestions.append(list(sorted_count_questions.keys()))\n",
    "    \n",
    "sorted_f_avg_questions = []\n",
    "for count_avg_questions in f_avg_questions:\n",
    "    sorted_count_avg_questions = {k: v for k, v in sorted(count_avg_questions.items(), reverse=True, key=lambda item: item[1])}\n",
    "    sorted_f_avg_questions.append(list(sorted_count_avg_questions.keys()))\n",
    "    \n",
    "sorted_avg_total = {k: v for k, v in sorted(avg_total.items(), reverse=True, key=lambda item: item[1])}"
   ]
  },
  {
   "cell_type": "code",
   "execution_count": 11,
   "metadata": {},
   "outputs": [
    {
     "data": {
      "text/plain": [
       "<matplotlib.collections.PathCollection at 0x7f2dc4f2a470>"
      ]
     },
     "execution_count": 11,
     "metadata": {},
     "output_type": "execute_result"
    },
    {
     "data": {
      "image/png": "[encoded data removed]",
      "text/plain": [
       "<Figure size 432x288 with 1 Axes>"
      ]
     },
     "metadata": {
      "needs_background": "light"
     },
     "output_type": "display_data"
    }
   ],
   "source": [
    "plt.scatter(range(len(sorted_avg_total)), list(sorted_avg_total.values()))\n",
    "# plt.yscale('log')"
   ]
  },
  {
   "cell_type": "code",
   "execution_count": 12,
   "metadata": {},
   "outputs": [
    {
     "name": "stdout",
     "output_type": "stream",
     "text": [
      "Top recommended questions:\n",
      "[9, 34, 29]\n",
      "[9, 34, 4]\n",
      "[9, 34, 4]\n",
      "[9, 34, 4]\n",
      "[9, 34, 40]\n",
      "Least recommended questions:\n",
      "[47, 16, 11, 3, 13, 21, 43, 12, 24, 31]\n",
      "[1, 44, 31, 23, 30, 21, 42, 24, 12, 33]\n",
      "[42, 3, 43, 12, 46, 35, 31, 16, 30, 15]\n",
      "[46, 16, 42, 35, 19, 21, 45, 41, 47, 32]\n",
      "[24, 11, 23, 14, 21, 3, 45, 31, 33, 44]\n",
      "Top recommended questions (averaged by students):\n",
      "[9, 29, 10]\n",
      "[9, 34, 10]\n",
      "[28, 9, 4]\n",
      "[29, 9, 40]\n",
      "[9, 5, 34]\n",
      "Least recommended questions (averaged by students):\n",
      "[32, 13, 47, 16, 21, 43, 12, 3, 24, 31]\n",
      "[31, 39, 32, 23, 30, 21, 42, 24, 12, 33]\n",
      "[32, 12, 42, 3, 46, 35, 31, 16, 30, 15]\n",
      "[19, 21, 45, 38, 46, 16, 42, 41, 47, 32]\n",
      "[18, 16, 3, 46, 23, 32, 21, 31, 33, 44]\n"
     ]
    }
   ],
   "source": [
    "print(\"Top recommended questions:\")\n",
    "for fold in sorted_fquestions:\n",
    "#     print(list(fold.keys())[:3])\n",
    "    print(fold[:3])\n",
    "    \n",
    "print(\"Least recommended questions:\")\n",
    "for fold in sorted_fquestions:\n",
    "    print(fold[-10:])\n",
    "\n",
    "print(\"Top recommended questions (averaged by students):\")\n",
    "for fold in sorted_f_avg_questions:\n",
    "#     print(list(fold.keys())[:3])\n",
    "    print(fold[:3])\n",
    "    \n",
    "print(\"Least recommended questions (averaged by students):\")\n",
    "for fold in sorted_f_avg_questions:\n",
    "#     print(list(fold.keys())[-10:])\n",
    "    print(fold[-10:])"
   ]
  },
  {
   "cell_type": "code",
   "execution_count": 13,
   "metadata": {
    "scrolled": true
   },
   "outputs": [
    {
     "name": "stdout",
     "output_type": "stream",
     "text": [
      "Top recommended questions\n",
      "[9, 34, 40, 0, 29]\n",
      "Least recommended questions\n",
      "[44, 3, 30, 31, 11, 12, 21, 24, 45, 33]\n",
      "Avg recommended questions\n",
      "[22, 19, 15, 18, 36, 2, 1, 38, 46, 35]\n"
     ]
    }
   ],
   "source": [
    "agg = ra.RankAggregator()\n",
    "agg_result = agg.average_rank(sorted_fquestions)#, unranked='split')\n",
    "rank_list = list(zip(*agg_result))\n",
    "rank = [int(i) for i in rank_list[0]]\n",
    "weight_list = rank_list[1]\n",
    "print(\"Top recommended questions\")\n",
    "print(rank[:5])\n",
    "print(\"Least recommended questions\")\n",
    "print(rank[-10:])\n",
    "print(\"Avg recommended questions\")\n",
    "print(rank[len(rank)//2-5:len(rank)//2+5])"
   ]
  },
  {
   "cell_type": "code",
   "execution_count": 14,
   "metadata": {},
   "outputs": [
    {
     "name": "stdout",
     "output_type": "stream",
     "text": [
      "Top recommended questions\n",
      "[9, 34, 29, 40, 5]\n",
      "Least recommended questions\n",
      "[16, 42, 31, 32, 30, 12, 3, 21, 24, 33]\n",
      "Avg recommended questions\n",
      "[22, 25, 13, 19, 38, 15, 14, 1, 35, 27]\n"
     ]
    }
   ],
   "source": [
    "agg = ra.RankAggregator()\n",
    "agg_result = agg.average_rank(sorted_f_avg_questions)#, unranked='split')\n",
    "rank_list = list(zip(*agg_result))\n",
    "rank = [int(i) for i in rank_list[0]]\n",
    "weight_list = rank_list[1]\n",
    "print(\"Top recommended questions\")\n",
    "print(rank[:5])\n",
    "print(\"Least recommended questions\")\n",
    "print(rank[-10:])\n",
    "print(\"Avg recommended questions\")\n",
    "print(rank[len(rank)//2-5:len(rank)//2+5])"
   ]
  },
  {
   "cell_type": "markdown",
   "metadata": {},
   "source": [
    "### Open reference pickle"
   ]
  },
  {
   "cell_type": "code",
   "execution_count": 15,
   "metadata": {
    "scrolled": true
   },
   "outputs": [],
   "source": [
    "with open('%s/single_resource_indexed_filtered_data.pkl' % folder, 'rb') as pklfile:\n",
    "    data = pickle.load(pklfile)\n",
    "    q_ids_ref = data['learning_material_id_mapping']"
   ]
  },
  {
   "cell_type": "code",
   "execution_count": 16,
   "metadata": {},
   "outputs": [
    {
     "name": "stdout",
     "output_type": "stream",
     "text": [
      "Top recommended questions\n",
      "[129, 130]\n",
      "Least recommended questions\n",
      "[124, 69]\n",
      "Avg recommeded questions\n",
      "[125, 104]\n"
     ]
    }
   ],
   "source": [
    "original_idx = [q_ids_ref[(0, int(question))][1] for question in rank]\n",
    "print(\"Top recommended questions\")\n",
    "print(original_idx[:2])\n",
    "print(\"Least recommended questions\")\n",
    "print(original_idx[-2:])\n",
    "print(\"Avg recommeded questions\")\n",
    "print(original_idx[len(original_idx)//2-1:len(original_idx)//2+1])"
   ]
  },
  {
   "cell_type": "code",
   "execution_count": 17,
   "metadata": {},
   "outputs": [],
   "source": [
    "with open('%s/questions_idx.pkl' % folder, 'rb') as pklfile:\n",
    "    questions_idx = pickle.load(pklfile)\n",
    "    \n",
    "with open('%s/q_matrix.pkl' % folder, 'rb') as pklfile:\n",
    "    q_matrix = pickle.load(pklfile)\n",
    "    \n",
    "with open('%s/concept_idx.pkl' % folder, 'rb') as pklfile:\n",
    "    concept_idx = pickle.load(pklfile)"
   ]
  },
  {
   "cell_type": "code",
   "execution_count": 43,
   "metadata": {},
   "outputs": [],
   "source": [
    "import pandas as pd\n",
    "import numpy as np\n",
    "import matplotlib.pyplot as plt\n",
    "import seaborn as sns\n",
    "\n",
    "def sort_distribution(df, columns, min_score=0.3):\n",
    "    \"\"\" Sort topic assignment distribution \"\"\"\n",
    "    ids = []\n",
    "    for col in columns:\n",
    "        ids_col = np.where(df.idxmax(axis=1) == col)\n",
    "        ids_col = df.loc[ids_col].sort_values([col], ascending=False).index.tolist()\n",
    "        ids += ids_col\n",
    "\n",
    "    df_sorted = df.loc[ids]\n",
    "    return df_sorted\n",
    "\n",
    "def normalize(matrix):\n",
    "    \"\"\" Normalize sum per row \"\"\"\n",
    "    row_sums = matrix.sum()\n",
    "    matrix_norm = matrix / row_sums\n",
    "    return matrix_norm\n",
    "\n",
    "\n",
    "def plot_distribution(df, cmap=sns.cm.rocket,\n",
    "                       ylabel=None, title=None, savefig=None):\n",
    "\n",
    "    # Create a figure instance, and the two subplots\n",
    "#     fig = plt.figure(figsize=(8,10))\n",
    "    fig = plt.figure()\n",
    "    ax = fig.add_subplot(111)\n",
    "\n",
    "    sns.heatmap(df, ax=ax, cmap=cmap, cbar_kws={'label': 'Concept probability'},\n",
    "                robust=True, square=True, vmin=0, vmax=0.5)\n",
    "    # use matplotlib.colorbar.Colorbar object\n",
    "    cbar = ax.collections[0].colorbar\n",
    "    # here set the labelsize by 20\n",
    "#     cbar.ax.tick_params(labelsize=14)\n",
    "#     cbar.ax.set_ylabel(\"Topic weight\", fontsize=14)\n",
    "    ax.tick_params(labelsize=12)\n",
    "    ax.xaxis.tick_top()\n",
    "    ax.tick_params('x', labelrotation=90)\n",
    "    ax.set_yticks([])\n",
    "\n",
    "    if ylabel:\n",
    "        ax.set_ylabel(ylabel, fontsize=14)\n",
    "\n",
    "    if title:\n",
    "        ax.set_title(title, fontsize=18, y=100)\n",
    "    \n",
    "    plt.tight_layout()\n",
    "    \n",
    "    if savefig:\n",
    "        plt.savefig(savefig + '.eps', format='eps')\n",
    "        plt.savefig(savefig + '.png', format='png')\n",
    "    plt.show()\n",
    "    return None"
   ]
  },
  {
   "cell_type": "code",
   "execution_count": 53,
   "metadata": {},
   "outputs": [],
   "source": [
    "concepts = Concept.objects.filter(pk__in=concept_idx).order_by('pk').values_list('label', flat=True)"
   ]
  },
  {
   "cell_type": "code",
   "execution_count": 55,
   "metadata": {},
   "outputs": [
    {
     "data": {
      "text/plain": [
       "['Syntax',\n",
       " 'Assignment',\n",
       " 'Data type: number',\n",
       " 'Data type: boolean',\n",
       " 'Math',\n",
       " 'Logic',\n",
       " 'Data type: string',\n",
       " 'Data type: list (or array)',\n",
       " 'Data type: tuple',\n",
       " 'Conditional',\n",
       " 'Loop',\n",
       " 'Nested loop',\n",
       " 'Function']"
      ]
     },
     "execution_count": 55,
     "metadata": {},
     "output_type": "execute_result"
    }
   ],
   "source": [
    "list(concepts)"
   ]
  },
  {
   "cell_type": "code",
   "execution_count": 58,
   "metadata": {},
   "outputs": [],
   "source": [
    "with open('%s/concepts.pkl' % folder, 'wb') as pklfile:\n",
    "    pickle.dump(list(concepts), pklfile)"
   ]
  },
  {
   "cell_type": "code",
   "execution_count": 59,
   "metadata": {},
   "outputs": [
    {
     "data": {
      "image/png": "[encoded data removed]",
      "text/plain": [
       "<Figure size 432x288 with 2 Axes>"
      ]
     },
     "metadata": {
      "needs_background": "light"
     },
     "output_type": "display_data"
    }
   ],
   "source": [
    "df = pd.Series(q_matrix.sum(axis=1)/q_matrix.shape[1], index=concepts).sort_values()\n",
    "plot_distribution(df.to_frame().T, cmap='Blues', savefig=\"%s/regular\" % folder, \n",
    "                  title=\"Aggregated concepts in all questions\")"
   ]
  },
  {
   "cell_type": "markdown",
   "metadata": {},
   "source": [
    "### Distribution considering all questions"
   ]
  },
  {
   "cell_type": "code",
   "execution_count": 60,
   "metadata": {
    "scrolled": false
   },
   "outputs": [],
   "source": [
    "weighted_qmatrix = q_matrix.copy()\n",
    "# for question, weight in q_dict.items():\n",
    "for question, weight in avg_total.items():\n",
    "# for question in q_dict.keys():\n",
    "    original_id = q_ids_ref[(0, question)][1]\n",
    "    q_matrix_id = questions_idx.index(original_id)\n",
    "#     weight_idx = rank.index(str(question))\n",
    "#     weight = 1/(weight_idx+1)\n",
    "    weighted_qmatrix[:, q_matrix_id] += q_matrix[:, q_matrix_id] * weight"
   ]
  },
  {
   "cell_type": "code",
   "execution_count": 61,
   "metadata": {},
   "outputs": [],
   "source": [
    "# weighted_df = pd.Series(weighted_qmatrix.sum(axis=1)/sum(q_dict.values()), index=concepts).sort_values()\n",
    "weighted_df = pd.Series(weighted_qmatrix.sum(axis=1)/sum(avg_total.values()), index=concepts).sort_values()\n",
    "weighted_df = weighted_df.reindex(df.index)"
   ]
  },
  {
   "cell_type": "code",
   "execution_count": 62,
   "metadata": {},
   "outputs": [
    {
     "data": {
      "image/png": "[encoded data removed]",
      "text/plain": [
       "<Figure size 432x288 with 2 Axes>"
      ]
     },
     "metadata": {
      "needs_background": "light"
     },
     "output_type": "display_data"
    }
   ],
   "source": [
    "plot_distribution(weighted_df.to_frame().T, cmap='Blues', savefig=\"%s/all\" % folder,\n",
    "                 title=\"Most recommended concepts\")"
   ]
  },
  {
   "cell_type": "markdown",
   "metadata": {},
   "source": [
    "### Distribution considering top recommended questions"
   ]
  },
  {
   "cell_type": "code",
   "execution_count": 63,
   "metadata": {},
   "outputs": [
    {
     "data": {
      "text/plain": [
       "6342"
      ]
     },
     "execution_count": 63,
     "metadata": {},
     "output_type": "execute_result"
    }
   ],
   "source": [
    "sum(q_dict.values())"
   ]
  },
  {
   "cell_type": "code",
   "execution_count": 68,
   "metadata": {},
   "outputs": [
    {
     "data": {
      "image/png": "[encoded data removed]",
      "text/plain": [
       "<Figure size 432x288 with 2 Axes>"
      ]
     },
     "metadata": {
      "needs_background": "light"
     },
     "output_type": "display_data"
    }
   ],
   "source": [
    "weighted_qmatrix = q_matrix.copy()\n",
    "# for question, weight in q_dict.items():\n",
    "# for question in rank[:len(rank)//3]:\n",
    "for question, weight in list(avg_total.items())[:len(rank)//3]:\n",
    "    original_id = q_ids_ref[(0, question)][1]\n",
    "    q_matrix_id = questions_idx.index(original_id)\n",
    "#     weight_idx = rank.index(str(question))\n",
    "#     weight = 1/(weight_idx+1)\n",
    "    weight = q_dict[question]\n",
    "    weighted_qmatrix[:, q_matrix_id] += q_matrix[:, q_matrix_id] * weight\n",
    "# weighted_df = pd.Series(weighted_qmatrix.sum(axis=1)/sum(q_dict.values()), index=concepts).sort_values()\n",
    "weighted_df = pd.Series(weighted_qmatrix.sum(axis=1)/sum(avg_total.values()), index=concepts).sort_values()\n",
    "weighted_df = weighted_df.reindex(df.index)\n",
    "plot_distribution(weighted_df.to_frame().T, cmap='Blues', savefig=\"%s/top\" % folder)"
   ]
  },
  {
   "cell_type": "code",
   "execution_count": 69,
   "metadata": {},
   "outputs": [
    {
     "name": "stdout",
     "output_type": "stream",
     "text": [
      "Define a function which can compute the sum of two numbers.\n",
      "Define a function that can convert a integer into a string and return the string.\n",
      "Create a function that will output the grade according to the exam score. Use the following rules:\n",
      "1) If the user got 80 points or more, the function should return the grade A.\n",
      "2) If the user got between 60 and 79, they got a B.\n",
      "3) If the user got between 40 and 59, they got a C.\n",
      "4) If the user got between 20 and 39, they got a D.\n",
      "5) If the user got less then 20 points, they get an E.\n",
      "\n",
      "Write a function that takes as argument a list (for example: numlist = [1, 1, 2, 3, 5, 8, 13, 21, 34, 55, 89]) and returns only the elements of the list that are less than 5.\n",
      "Write a program that computes the value of a+aa+aaa+aaaa with a given digit as the value of a.\n",
      "Suppose the following input is supplied to the program:\n",
      "9\n",
      "Then, the output should be:\n",
      "11106\n",
      "Write a function that receives as argument how many goals Team One scored and how many goals Team Two scored. Your function should return \"Team One scores 3 points and Team Two scores 0 points.\" if Team One scored more goals than Team Two and vice-versa. If the number of goals is the same, the returned sentence should be \"Both Team One and Team Two score 1 point.\".\n",
      "\n",
      "Write a program that takes a list of numbers (for example, a = [5, 10, 15, 20, 25]) and makes a new list of only the first and last elements of the given list. For practice, write this code inside a function.\n",
      "\n",
      "A website requires the users to input username and password to register. Write a program to check the validity of password input by users.\n",
      "Following are the criteria for checking the password:\n",
      "1. At least 1 letter between [a-z]\n",
      "2. At least 1 number between [0-9]\n",
      "1. At least 1 letter between [A-Z]\n",
      "3. At least 1 character from [$#@]\n",
      "4. Minimum length of transaction password: 6\n",
      "5. Maximum length of transaction password: 12\n",
      "Your program should accept a sequence of comma separated passwords and will check them according to the above criteria. Passwords that match the criteria are to be printed, each separated by a comma.\n",
      "Example\n",
      "If the following passwords are given as input to the program:\n",
      "ABd1234@1,a F1#,2w3E*,2We3345\n",
      "Then, the output of the program should be:\n",
      "ABd1234@1\n",
      "Write a function that receives a comma separated sequence of words as argument and returns the words in a comma-separated sequence after sorting them alphabetically.\n",
      "Suppose the following input is supplied to the program:\n",
      "without, hello, bag, world\n",
      "Then, the output should be:\n",
      "bag, hello, without, world\n",
      "\n",
      "Pay attention to the spaces after the commas!\n",
      "\n",
      "Write a function that takes as argument a word and returns (boolean type True or False) whether this string is a palindrome or not. (A palindrome is a string that reads the same forwards and backwards.)\n",
      "\n",
      "Write a function which will find all such numbers which are divisible by 7 but are not a multiple of 5,\n",
      "between 2000 and 3200 (both included).\n",
      "The numbers obtained should be returned in a list\n",
      "\n",
      "Create a function that receives as argument a decimal number up to 255 and convert it into its 8-bit binary equivalent.\n",
      "Your function should return the 8-bit binary as a string, so you can add leading zeros. Make sure your binary number has 8 bits.\n",
      "\n",
      "Write a function that receives as an argument a list of numbers and returns the average (mean) of a these numbers.\n",
      "\n",
      "Write a function that receives as an argument the number of how many Fibonnaci numbers to generate and then generates them. Take this opportunity to think about how you can use functions. (Hint: The Fibonnaci seqence is a sequence of numbers where the next number in the sequence is the sum of the previous two numbers in the sequence. The sequence looks like this: 1, 1, 2, 3, 5, 8, 13, …)\n",
      "\n",
      "Write a function, which will find all such numbers between 1000 and 3000 (both included) such that each digit of the number is an even number.\n",
      "The numbers obtained should be returned in a comma-separated sequence on a single line.\n",
      "\n",
      "Given a number as an argument, create a function that determines whether the number is prime or not. (For those who have forgotten, a prime number is a number that has no divisors.).\n",
      "\n"
     ]
    }
   ],
   "source": [
    "# for question in rank[:len(rank)//3]:\n",
    "for question, weight in list(avg_total.items())[:len(rank)//3]:\n",
    "    original_id = q_ids_ref[(0, question)][1]\n",
    "    p = Problem.objects.get(pk=original_id)\n",
    "    print(p.content)"
   ]
  },
  {
   "cell_type": "markdown",
   "metadata": {},
   "source": [
    "### Distribution considering avg recommended questions"
   ]
  },
  {
   "cell_type": "code",
   "execution_count": null,
   "metadata": {},
   "outputs": [],
   "source": [
    "weighted_qmatrix = q_matrix.copy()\n",
    "# for question, weight in q_dict.items():\n",
    "for question in rank[len(rank)//3:2*len(rank)//3]:\n",
    "    original_id = q_ids_ref[(0, question)][1]\n",
    "    q_matrix_id = questions_idx.index(original_id)\n",
    "#     weight_idx = rank.index(str(question))\n",
    "#     weight = 1/(weight_idx+1)\n",
    "    weight = q_dict[question]\n",
    "    weighted_qmatrix[:, q_matrix_id] += q_matrix[:, q_matrix_id] * weight\n",
    "weighted_df = pd.Series(weighted_qmatrix[:,len(rank)//3:2*len(rank)//3].sum(axis=1)/sum(q_dict.values()), index=concepts).sort_values()\n",
    "weighted_df = weighted_df.reindex(df.index)\n",
    "plot_distribution(weighted_df.to_frame().T, cmap='Blues', savefig=\"%s/avg\" % folder)"
   ]
  },
  {
   "cell_type": "code",
   "execution_count": null,
   "metadata": {
    "scrolled": false
   },
   "outputs": [],
   "source": [
    "for question in rank[len(rank)//3:2*len(rank)//3]:\n",
    "    original_id = q_ids_ref[(0, question)][1]\n",
    "    p = Problem.objects.get(pk=original_id)\n",
    "    print(p.content)"
   ]
  },
  {
   "cell_type": "markdown",
   "metadata": {},
   "source": [
    "### Distribution considering less recommended questions"
   ]
  },
  {
   "cell_type": "code",
   "execution_count": null,
   "metadata": {},
   "outputs": [],
   "source": [
    "weighted_qmatrix = q_matrix.copy()\n",
    "less_rec_qmatrix = []\n",
    "for question in rank[2*len(rank)//3:]:\n",
    "    original_id = q_ids_ref[(0, question)][1]\n",
    "    q_matrix_id = questions_idx.index(original_id)\n",
    "    less_rec_qmatrix.append(q_matrix[:, q_matrix_id])\n",
    "    weight = q_dict[question]\n",
    "    weighted_qmatrix[:, q_matrix_id] += q_matrix[:, q_matrix_id] * weight\n",
    "weighted_df = pd.Series(weighted_qmatrix[:,2*len(rank)//3:].sum(axis=1), index=concepts)\n",
    "# .sort_values()\n",
    "weighted_df = weighted_df.reindex(df.index)\n",
    "weighted_qmatrix[:,2*len(rank)//3:].sum(axis=1)\n",
    "plot_distribution(weighted_df.to_frame().T, cmap='Blues', savefig=\"%s/least\" % folder)"
   ]
  },
  {
   "cell_type": "code",
   "execution_count": null,
   "metadata": {},
   "outputs": [],
   "source": [
    "for question in rank[2*len(rank)//3:]:\n",
    "    original_id = q_ids_ref[(0, question)][1]\n",
    "    p = Problem.objects.get(pk=original_id)\n",
    "    print(p.content)"
   ]
  },
  {
   "cell_type": "code",
   "execution_count": null,
   "metadata": {},
   "outputs": [],
   "source": [
    "concepts"
   ]
  },
  {
   "cell_type": "code",
   "execution_count": null,
   "metadata": {},
   "outputs": [],
   "source": [
    "less_rec_qmatrix"
   ]
  },
  {
   "cell_type": "code",
   "execution_count": null,
   "metadata": {},
   "outputs": [],
   "source": [
    "import imageio\n",
    "images = []\n",
    "filenames = [\"top\", \"avg\", \"least\"]\n",
    "for filename in filenames:\n",
    "    images.append(imageio.imread(\"%s/%s.eps\" % (folder, filename)))\n",
    "imageio.mimsave('%s/movie.gif' % folder, images, duration=1)"
   ]
  },
  {
   "cell_type": "code",
   "execution_count": null,
   "metadata": {},
   "outputs": [],
   "source": [
    "from IPython.display import Image\n",
    "Image(filename=\"%s/movie.gif\" % folder)"
   ]
  }
 ],
 "metadata": {
  "kernelspec": {
   "display_name": "Django Shell-Plus",
   "language": "python",
   "name": "django_extensions"
  },
  "language_info": {
   "codemirror_mode": {
    "name": "ipython",
    "version": 3
   },
   "file_extension": ".py",
   "mimetype": "text/x-python",
   "name": "python",
   "nbconvert_exporter": "python",
   "pygments_lexer": "ipython3",
   "version": "3.6.10"
  }
 },
 "nbformat": 4,
 "nbformat_minor": 4
}
