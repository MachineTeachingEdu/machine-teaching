{
 "cells": [
  {
   "cell_type": "code",
   "execution_count": 2,
   "metadata": {},
   "outputs": [],
   "source": [
    "import pickle"
   ]
  },
  {
   "cell_type": "code",
   "execution_count": 3,
   "metadata": {},
   "outputs": [],
   "source": [
    "folder = \"data/ufrj/\""
   ]
  },
  {
   "cell_type": "code",
   "execution_count": 5,
   "metadata": {},
   "outputs": [
    {
     "name": "stdout",
     "output_type": "stream",
     "text": [
      "['/data2/miniconda3/envs/machineteaching/lib/python36.zip', '/data2/miniconda3/envs/machineteaching/lib/python3.6', '/data2/miniconda3/envs/machineteaching/lib/python3.6/lib-dynload', '', '/data2/miniconda3/envs/machineteaching/lib/python3.6/site-packages', '/home/lmoraes/StudentPerformanceKit', '/data2/miniconda3/envs/machineteaching/lib/python3.6/site-packages/IPython/extensions', '/home/lmoraes/.ipython']\n"
     ]
    }
   ],
   "source": [
    "with open(\"%s/ufrj_rank_obs_fold_1_model.pkl\" % folder, \"rb\") as pklfile:\n",
    "    model = pickle.load(pklfile)"
   ]
  },
  {
   "cell_type": "code",
   "execution_count": 6,
   "metadata": {},
   "outputs": [
    {
     "data": {
      "text/plain": [
       "<models.rank_obs.RankObsModel at 0x7f7e12db4e48>"
      ]
     },
     "execution_count": 6,
     "metadata": {},
     "output_type": "execute_result"
    }
   ],
   "source": [
    "model"
   ]
  },
  {
   "cell_type": "code",
   "execution_count": 8,
   "metadata": {},
   "outputs": [
    {
     "data": {
      "text/plain": [
       "(5, 65)"
      ]
     },
     "execution_count": 8,
     "metadata": {},
     "output_type": "execute_result"
    }
   ],
   "source": [
    "model.Q.shape"
   ]
  }
 ],
 "metadata": {
  "kernelspec": {
   "display_name": "Django Shell-Plus",
   "language": "python",
   "name": "django_extensions"
  },
  "language_info": {
   "codemirror_mode": {
    "name": "ipython",
    "version": 3
   },
   "file_extension": ".py",
   "mimetype": "text/x-python",
   "name": "python",
   "nbconvert_exporter": "python",
   "pygments_lexer": "ipython3",
   "version": "3.6.10"
  }
 },
 "nbformat": 4,
 "nbformat_minor": 4
}
