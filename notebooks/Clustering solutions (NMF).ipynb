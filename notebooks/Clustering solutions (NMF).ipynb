{
 "cells": [
  {
   "cell_type": "code",
   "execution_count": 1,
   "metadata": {
    "collapsed": true
   },
   "outputs": [],
   "source": [
    "from db import PythonProblems\n",
    "import io\n",
    "import tokenize\n",
    "from sklearn.feature_extraction.text import CountVectorizer\n",
    "import numpy as np\n",
    "from sklearn.decomposition import NMF\n",
    "from sklearn.preprocessing import normalize\n",
    "import random\n",
    "import time\n",
    "from itertools import product\n",
    "from collections import Counter"
   ]
  },
  {
   "cell_type": "code",
   "execution_count": 2,
   "metadata": {},
   "outputs": [
    {
     "data": {
      "text/html": [
       "\n",
       "    <div class=\"bk-root\">\n",
       "        <a href=\"https://bokeh.pydata.org\" target=\"_blank\" class=\"bk-logo bk-logo-small bk-logo-notebook\"></a>\n",
       "        <span id=\"a3cad76e-2608-4cac-b447-b6a4115c76b0\">Loading BokehJS ...</span>\n",
       "    </div>"
      ]
     },
     "metadata": {},
     "output_type": "display_data"
    },
    {
     "data": {
      "application/javascript": [
       "\n",
       "(function(root) {\n",
       "  function now() {\n",
       "    return new Date();\n",
       "  }\n",
       "\n",
       "  var force = true;\n",
       "\n",
       "  if (typeof (root._bokeh_onload_callbacks) === \"undefined\" || force === true) {\n",
       "    root._bokeh_onload_callbacks = [];\n",
       "    root._bokeh_is_loading = undefined;\n",
       "  }\n",
       "\n",
       "  var JS_MIME_TYPE = 'application/javascript';\n",
       "  var HTML_MIME_TYPE = 'text/html';\n",
       "  var EXEC_MIME_TYPE = 'application/vnd.bokehjs_exec.v0+json';\n",
       "  var CLASS_NAME = 'output_bokeh rendered_html';\n",
       "\n",
       "  /**\n",
       "   * Render data to the DOM node\n",
       "   */\n",
       "  function render(props, node) {\n",
       "    var script = document.createElement(\"script\");\n",
       "    node.appendChild(script);\n",
       "  }\n",
       "\n",
       "  /**\n",
       "   * Handle when an output is cleared or removed\n",
       "   */\n",
       "  function handleClearOutput(event, handle) {\n",
       "    var cell = handle.cell;\n",
       "\n",
       "    var id = cell.output_area._bokeh_element_id;\n",
       "    var server_id = cell.output_area._bokeh_server_id;\n",
       "    // Clean up Bokeh references\n",
       "    if (id !== undefined) {\n",
       "      Bokeh.index[id].model.document.clear();\n",
       "      delete Bokeh.index[id];\n",
       "    }\n",
       "\n",
       "    if (server_id !== undefined) {\n",
       "      // Clean up Bokeh references\n",
       "      var cmd = \"from bokeh.io.state import curstate; print(curstate().uuid_to_server['\" + server_id + \"'].get_sessions()[0].document.roots[0]._id)\";\n",
       "      cell.notebook.kernel.execute(cmd, {\n",
       "        iopub: {\n",
       "          output: function(msg) {\n",
       "            var element_id = msg.content.text.trim();\n",
       "            Bokeh.index[element_id].model.document.clear();\n",
       "            delete Bokeh.index[element_id];\n",
       "          }\n",
       "        }\n",
       "      });\n",
       "      // Destroy server and session\n",
       "      var cmd = \"import bokeh.io.notebook as ion; ion.destroy_server('\" + server_id + \"')\";\n",
       "      cell.notebook.kernel.execute(cmd);\n",
       "    }\n",
       "  }\n",
       "\n",
       "  /**\n",
       "   * Handle when a new output is added\n",
       "   */\n",
       "  function handleAddOutput(event, handle) {\n",
       "    var output_area = handle.output_area;\n",
       "    var output = handle.output;\n",
       "\n",
       "    // limit handleAddOutput to display_data with EXEC_MIME_TYPE content only\n",
       "    if ((output.output_type != \"display_data\") || (!output.data.hasOwnProperty(EXEC_MIME_TYPE))) {\n",
       "      return\n",
       "    }\n",
       "\n",
       "    var toinsert = output_area.element.find(\".\" + CLASS_NAME.split(' ')[0]);\n",
       "\n",
       "    if (output.metadata[EXEC_MIME_TYPE][\"id\"] !== undefined) {\n",
       "      toinsert[0].firstChild.textContent = output.data[JS_MIME_TYPE];\n",
       "      // store reference to embed id on output_area\n",
       "      output_area._bokeh_element_id = output.metadata[EXEC_MIME_TYPE][\"id\"];\n",
       "    }\n",
       "    if (output.metadata[EXEC_MIME_TYPE][\"server_id\"] !== undefined) {\n",
       "      var bk_div = document.createElement(\"div\");\n",
       "      bk_div.innerHTML = output.data[HTML_MIME_TYPE];\n",
       "      var script_attrs = bk_div.children[0].attributes;\n",
       "      for (var i = 0; i < script_attrs.length; i++) {\n",
       "        toinsert[0].firstChild.setAttribute(script_attrs[i].name, script_attrs[i].value);\n",
       "      }\n",
       "      // store reference to server id on output_area\n",
       "      output_area._bokeh_server_id = output.metadata[EXEC_MIME_TYPE][\"server_id\"];\n",
       "    }\n",
       "  }\n",
       "\n",
       "  function register_renderer(events, OutputArea) {\n",
       "\n",
       "    function append_mime(data, metadata, element) {\n",
       "      // create a DOM node to render to\n",
       "      var toinsert = this.create_output_subarea(\n",
       "        metadata,\n",
       "        CLASS_NAME,\n",
       "        EXEC_MIME_TYPE\n",
       "      );\n",
       "      this.keyboard_manager.register_events(toinsert);\n",
       "      // Render to node\n",
       "      var props = {data: data, metadata: metadata[EXEC_MIME_TYPE]};\n",
       "      render(props, toinsert[0]);\n",
       "      element.append(toinsert);\n",
       "      return toinsert\n",
       "    }\n",
       "\n",
       "    /* Handle when an output is cleared or removed */\n",
       "    events.on('clear_output.CodeCell', handleClearOutput);\n",
       "    events.on('delete.Cell', handleClearOutput);\n",
       "\n",
       "    /* Handle when a new output is added */\n",
       "    events.on('output_added.OutputArea', handleAddOutput);\n",
       "\n",
       "    /**\n",
       "     * Register the mime type and append_mime function with output_area\n",
       "     */\n",
       "    OutputArea.prototype.register_mime_type(EXEC_MIME_TYPE, append_mime, {\n",
       "      /* Is output safe? */\n",
       "      safe: true,\n",
       "      /* Index of renderer in `output_area.display_order` */\n",
       "      index: 0\n",
       "    });\n",
       "  }\n",
       "\n",
       "  // register the mime type if in Jupyter Notebook environment and previously unregistered\n",
       "  if (root.Jupyter !== undefined) {\n",
       "    var events = require('base/js/events');\n",
       "    var OutputArea = require('notebook/js/outputarea').OutputArea;\n",
       "\n",
       "    if (OutputArea.prototype.mime_types().indexOf(EXEC_MIME_TYPE) == -1) {\n",
       "      register_renderer(events, OutputArea);\n",
       "    }\n",
       "  }\n",
       "\n",
       "  \n",
       "  if (typeof (root._bokeh_timeout) === \"undefined\" || force === true) {\n",
       "    root._bokeh_timeout = Date.now() + 5000;\n",
       "    root._bokeh_failed_load = false;\n",
       "  }\n",
       "\n",
       "  var NB_LOAD_WARNING = {'data': {'text/html':\n",
       "     \"<div style='background-color: #fdd'>\\n\"+\n",
       "     \"<p>\\n\"+\n",
       "     \"BokehJS does not appear to have successfully loaded. If loading BokehJS from CDN, this \\n\"+\n",
       "     \"may be due to a slow or bad network connection. Possible fixes:\\n\"+\n",
       "     \"</p>\\n\"+\n",
       "     \"<ul>\\n\"+\n",
       "     \"<li>re-rerun `output_notebook()` to attempt to load from CDN again, or</li>\\n\"+\n",
       "     \"<li>use INLINE resources instead, as so:</li>\\n\"+\n",
       "     \"</ul>\\n\"+\n",
       "     \"<code>\\n\"+\n",
       "     \"from bokeh.resources import INLINE\\n\"+\n",
       "     \"output_notebook(resources=INLINE)\\n\"+\n",
       "     \"</code>\\n\"+\n",
       "     \"</div>\"}};\n",
       "\n",
       "  function display_loaded() {\n",
       "    var el = document.getElementById(\"a3cad76e-2608-4cac-b447-b6a4115c76b0\");\n",
       "    if (el != null) {\n",
       "      el.textContent = \"BokehJS is loading...\";\n",
       "    }\n",
       "    if (root.Bokeh !== undefined) {\n",
       "      if (el != null) {\n",
       "        el.textContent = \"BokehJS \" + root.Bokeh.version + \" successfully loaded.\";\n",
       "      }\n",
       "    } else if (Date.now() < root._bokeh_timeout) {\n",
       "      setTimeout(display_loaded, 100)\n",
       "    }\n",
       "  }\n",
       "\n",
       "\n",
       "  function run_callbacks() {\n",
       "    try {\n",
       "      root._bokeh_onload_callbacks.forEach(function(callback) { callback() });\n",
       "    }\n",
       "    finally {\n",
       "      delete root._bokeh_onload_callbacks\n",
       "    }\n",
       "    console.info(\"Bokeh: all callbacks have finished\");\n",
       "  }\n",
       "\n",
       "  function load_libs(js_urls, callback) {\n",
       "    root._bokeh_onload_callbacks.push(callback);\n",
       "    if (root._bokeh_is_loading > 0) {\n",
       "      console.log(\"Bokeh: BokehJS is being loaded, scheduling callback at\", now());\n",
       "      return null;\n",
       "    }\n",
       "    if (js_urls == null || js_urls.length === 0) {\n",
       "      run_callbacks();\n",
       "      return null;\n",
       "    }\n",
       "    console.log(\"Bokeh: BokehJS not loaded, scheduling load and callback at\", now());\n",
       "    root._bokeh_is_loading = js_urls.length;\n",
       "    for (var i = 0; i < js_urls.length; i++) {\n",
       "      var url = js_urls[i];\n",
       "      var s = document.createElement('script');\n",
       "      s.src = url;\n",
       "      s.async = false;\n",
       "      s.onreadystatechange = s.onload = function() {\n",
       "        root._bokeh_is_loading--;\n",
       "        if (root._bokeh_is_loading === 0) {\n",
       "          console.log(\"Bokeh: all BokehJS libraries loaded\");\n",
       "          run_callbacks()\n",
       "        }\n",
       "      };\n",
       "      s.onerror = function() {\n",
       "        console.warn(\"failed to load library \" + url);\n",
       "      };\n",
       "      console.log(\"Bokeh: injecting script tag for BokehJS library: \", url);\n",
       "      document.getElementsByTagName(\"head\")[0].appendChild(s);\n",
       "    }\n",
       "  };var element = document.getElementById(\"a3cad76e-2608-4cac-b447-b6a4115c76b0\");\n",
       "  if (element == null) {\n",
       "    console.log(\"Bokeh: ERROR: autoload.js configured with elementid 'a3cad76e-2608-4cac-b447-b6a4115c76b0' but no matching script tag was found. \")\n",
       "    return false;\n",
       "  }\n",
       "\n",
       "  var js_urls = [\"https://cdn.pydata.org/bokeh/release/bokeh-0.12.14.min.js\", \"https://cdn.pydata.org/bokeh/release/bokeh-widgets-0.12.14.min.js\", \"https://cdn.pydata.org/bokeh/release/bokeh-tables-0.12.14.min.js\", \"https://cdn.pydata.org/bokeh/release/bokeh-gl-0.12.14.min.js\"];\n",
       "\n",
       "  var inline_js = [\n",
       "    function(Bokeh) {\n",
       "      Bokeh.set_log_level(\"info\");\n",
       "    },\n",
       "    \n",
       "    function(Bokeh) {\n",
       "      \n",
       "    },\n",
       "    function(Bokeh) {\n",
       "      console.log(\"Bokeh: injecting CSS: https://cdn.pydata.org/bokeh/release/bokeh-0.12.14.min.css\");\n",
       "      Bokeh.embed.inject_css(\"https://cdn.pydata.org/bokeh/release/bokeh-0.12.14.min.css\");\n",
       "      console.log(\"Bokeh: injecting CSS: https://cdn.pydata.org/bokeh/release/bokeh-widgets-0.12.14.min.css\");\n",
       "      Bokeh.embed.inject_css(\"https://cdn.pydata.org/bokeh/release/bokeh-widgets-0.12.14.min.css\");\n",
       "      console.log(\"Bokeh: injecting CSS: https://cdn.pydata.org/bokeh/release/bokeh-tables-0.12.14.min.css\");\n",
       "      Bokeh.embed.inject_css(\"https://cdn.pydata.org/bokeh/release/bokeh-tables-0.12.14.min.css\");\n",
       "    }\n",
       "  ];\n",
       "\n",
       "  function run_inline_js() {\n",
       "    \n",
       "    if ((root.Bokeh !== undefined) || (force === true)) {\n",
       "      for (var i = 0; i < inline_js.length; i++) {\n",
       "        inline_js[i].call(root, root.Bokeh);\n",
       "      }if (force === true) {\n",
       "        display_loaded();\n",
       "      }} else if (Date.now() < root._bokeh_timeout) {\n",
       "      setTimeout(run_inline_js, 100);\n",
       "    } else if (!root._bokeh_failed_load) {\n",
       "      console.log(\"Bokeh: BokehJS failed to load within specified timeout.\");\n",
       "      root._bokeh_failed_load = true;\n",
       "    } else if (force !== true) {\n",
       "      var cell = $(document.getElementById(\"a3cad76e-2608-4cac-b447-b6a4115c76b0\")).parents('.cell').data().cell;\n",
       "      cell.output_area.append_execute_result(NB_LOAD_WARNING)\n",
       "    }\n",
       "\n",
       "  }\n",
       "\n",
       "  if (root._bokeh_is_loading === 0) {\n",
       "    console.log(\"Bokeh: BokehJS loaded, going straight to plotting\");\n",
       "    run_inline_js();\n",
       "  } else {\n",
       "    load_libs(js_urls, function() {\n",
       "      console.log(\"Bokeh: BokehJS plotting callback run at\", now());\n",
       "      run_inline_js();\n",
       "    });\n",
       "  }\n",
       "}(window));"
      ],
      "application/vnd.bokehjs_load.v0+json": "\n(function(root) {\n  function now() {\n    return new Date();\n  }\n\n  var force = true;\n\n  if (typeof (root._bokeh_onload_callbacks) === \"undefined\" || force === true) {\n    root._bokeh_onload_callbacks = [];\n    root._bokeh_is_loading = undefined;\n  }\n\n  \n\n  \n  if (typeof (root._bokeh_timeout) === \"undefined\" || force === true) {\n    root._bokeh_timeout = Date.now() + 5000;\n    root._bokeh_failed_load = false;\n  }\n\n  var NB_LOAD_WARNING = {'data': {'text/html':\n     \"<div style='background-color: #fdd'>\\n\"+\n     \"<p>\\n\"+\n     \"BokehJS does not appear to have successfully loaded. If loading BokehJS from CDN, this \\n\"+\n     \"may be due to a slow or bad network connection. Possible fixes:\\n\"+\n     \"</p>\\n\"+\n     \"<ul>\\n\"+\n     \"<li>re-rerun `output_notebook()` to attempt to load from CDN again, or</li>\\n\"+\n     \"<li>use INLINE resources instead, as so:</li>\\n\"+\n     \"</ul>\\n\"+\n     \"<code>\\n\"+\n     \"from bokeh.resources import INLINE\\n\"+\n     \"output_notebook(resources=INLINE)\\n\"+\n     \"</code>\\n\"+\n     \"</div>\"}};\n\n  function display_loaded() {\n    var el = document.getElementById(\"a3cad76e-2608-4cac-b447-b6a4115c76b0\");\n    if (el != null) {\n      el.textContent = \"BokehJS is loading...\";\n    }\n    if (root.Bokeh !== undefined) {\n      if (el != null) {\n        el.textContent = \"BokehJS \" + root.Bokeh.version + \" successfully loaded.\";\n      }\n    } else if (Date.now() < root._bokeh_timeout) {\n      setTimeout(display_loaded, 100)\n    }\n  }\n\n\n  function run_callbacks() {\n    try {\n      root._bokeh_onload_callbacks.forEach(function(callback) { callback() });\n    }\n    finally {\n      delete root._bokeh_onload_callbacks\n    }\n    console.info(\"Bokeh: all callbacks have finished\");\n  }\n\n  function load_libs(js_urls, callback) {\n    root._bokeh_onload_callbacks.push(callback);\n    if (root._bokeh_is_loading > 0) {\n      console.log(\"Bokeh: BokehJS is being loaded, scheduling callback at\", now());\n      return null;\n    }\n    if (js_urls == null || js_urls.length === 0) {\n      run_callbacks();\n      return null;\n    }\n    console.log(\"Bokeh: BokehJS not loaded, scheduling load and callback at\", now());\n    root._bokeh_is_loading = js_urls.length;\n    for (var i = 0; i < js_urls.length; i++) {\n      var url = js_urls[i];\n      var s = document.createElement('script');\n      s.src = url;\n      s.async = false;\n      s.onreadystatechange = s.onload = function() {\n        root._bokeh_is_loading--;\n        if (root._bokeh_is_loading === 0) {\n          console.log(\"Bokeh: all BokehJS libraries loaded\");\n          run_callbacks()\n        }\n      };\n      s.onerror = function() {\n        console.warn(\"failed to load library \" + url);\n      };\n      console.log(\"Bokeh: injecting script tag for BokehJS library: \", url);\n      document.getElementsByTagName(\"head\")[0].appendChild(s);\n    }\n  };var element = document.getElementById(\"a3cad76e-2608-4cac-b447-b6a4115c76b0\");\n  if (element == null) {\n    console.log(\"Bokeh: ERROR: autoload.js configured with elementid 'a3cad76e-2608-4cac-b447-b6a4115c76b0' but no matching script tag was found. \")\n    return false;\n  }\n\n  var js_urls = [\"https://cdn.pydata.org/bokeh/release/bokeh-0.12.14.min.js\", \"https://cdn.pydata.org/bokeh/release/bokeh-widgets-0.12.14.min.js\", \"https://cdn.pydata.org/bokeh/release/bokeh-tables-0.12.14.min.js\", \"https://cdn.pydata.org/bokeh/release/bokeh-gl-0.12.14.min.js\"];\n\n  var inline_js = [\n    function(Bokeh) {\n      Bokeh.set_log_level(\"info\");\n    },\n    \n    function(Bokeh) {\n      \n    },\n    function(Bokeh) {\n      console.log(\"Bokeh: injecting CSS: https://cdn.pydata.org/bokeh/release/bokeh-0.12.14.min.css\");\n      Bokeh.embed.inject_css(\"https://cdn.pydata.org/bokeh/release/bokeh-0.12.14.min.css\");\n      console.log(\"Bokeh: injecting CSS: https://cdn.pydata.org/bokeh/release/bokeh-widgets-0.12.14.min.css\");\n      Bokeh.embed.inject_css(\"https://cdn.pydata.org/bokeh/release/bokeh-widgets-0.12.14.min.css\");\n      console.log(\"Bokeh: injecting CSS: https://cdn.pydata.org/bokeh/release/bokeh-tables-0.12.14.min.css\");\n      Bokeh.embed.inject_css(\"https://cdn.pydata.org/bokeh/release/bokeh-tables-0.12.14.min.css\");\n    }\n  ];\n\n  function run_inline_js() {\n    \n    if ((root.Bokeh !== undefined) || (force === true)) {\n      for (var i = 0; i < inline_js.length; i++) {\n        inline_js[i].call(root, root.Bokeh);\n      }if (force === true) {\n        display_loaded();\n      }} else if (Date.now() < root._bokeh_timeout) {\n      setTimeout(run_inline_js, 100);\n    } else if (!root._bokeh_failed_load) {\n      console.log(\"Bokeh: BokehJS failed to load within specified timeout.\");\n      root._bokeh_failed_load = true;\n    } else if (force !== true) {\n      var cell = $(document.getElementById(\"a3cad76e-2608-4cac-b447-b6a4115c76b0\")).parents('.cell').data().cell;\n      cell.output_area.append_execute_result(NB_LOAD_WARNING)\n    }\n\n  }\n\n  if (root._bokeh_is_loading === 0) {\n    console.log(\"Bokeh: BokehJS loaded, going straight to plotting\");\n    run_inline_js();\n  } else {\n    load_libs(js_urls, function() {\n      console.log(\"Bokeh: BokehJS plotting callback run at\", now());\n      run_inline_js();\n    });\n  }\n}(window));"
     },
     "metadata": {},
     "output_type": "display_data"
    }
   ],
   "source": [
    "from bokeh.models import ColumnDataSource, HoverTool, TapTool, PanTool, WheelZoomTool, Range1d, LinearAxis\n",
    "from bokeh.io import push_notebook, show, output_notebook\n",
    "from bokeh.layouts import row\n",
    "from bokeh.plotting import figure\n",
    "output_notebook()"
   ]
  },
  {
   "cell_type": "markdown",
   "metadata": {},
   "source": [
    "### Connecting to database"
   ]
  },
  {
   "cell_type": "code",
   "execution_count": 3,
   "metadata": {
    "collapsed": true
   },
   "outputs": [],
   "source": [
    "db = PythonProblems('python.sqlite')"
   ]
  },
  {
   "cell_type": "code",
   "execution_count": 4,
   "metadata": {
    "scrolled": false
   },
   "outputs": [
    {
     "name": "stdout",
     "output_type": "stream",
     "text": [
      "Success in parsing all documents! You may go on!\n"
     ]
    }
   ],
   "source": [
    "removed_itens = ['NEWLINE', 'STRING', 'ENDMARKER', 'NUMBER', 'INDENT', 'DEDENT', \"NL\", 'COMMENT', 'ERRORTOKEN']\n",
    "allowed_itens = ['NAME', 'OP']\n",
    "cursor = db.conn.cursor()\n",
    "docs = []\n",
    "errors = []\n",
    "\n",
    "# lendo os dados\n",
    "cursor.execute(\"\"\"\n",
    "SELECT * FROM solution;\n",
    "\"\"\")\n",
    "\n",
    "for idx, linha in enumerate(cursor.fetchall()):\n",
    "    file = io.StringIO(linha[1])\n",
    "    doc = []\n",
    "    try:\n",
    "        for item in tokenize.generate_tokens(file.readline):\n",
    "            if tokenize.tok_name[item[0]] not in removed_itens:\n",
    "                if tokenize.tok_name[item[0]] in allowed_itens:\n",
    "                    doc.append(item[1])\n",
    "                else:\n",
    "                    print(\"%s %s\" % (tokenize.tok_name[item[0]], item[1]))\n",
    "    except (IndentationError, tokenize.TokenError):\n",
    "        errors.append(\"Please, fix solution %d before continuing\" % (idx+1))\n",
    "        \n",
    "    docs.append(' '.join(doc))\n",
    "\n",
    "if not errors:\n",
    "    print(\"Success in parsing all documents! You may go on!\")\n",
    "else:\n",
    "    for item in errors:\n",
    "        print(item)"
   ]
  },
  {
   "cell_type": "code",
   "execution_count": 5,
   "metadata": {
    "collapsed": true
   },
   "outputs": [],
   "source": [
    "# Initialize the \"CountVectorizer\" object, which is scikit-learn's\n",
    "# bag of words tool.  \n",
    "vectorizer = CountVectorizer(analyzer = \"word\",   \\\n",
    "                             tokenizer = None,    \\\n",
    "                             preprocessor = None, \\\n",
    "                             stop_words = None,   \\\n",
    "                             #max_features = 26d,\n",
    "                             binary=False,\n",
    "                             min_df=2\n",
    "                            ) \n",
    "\n",
    "# fit_transform() does two functions: First, it fits the model\n",
    "# and learns the vocabulary; second, it transforms our training data\n",
    "# into feature vectors. The input to fit_transform should be a list of \n",
    "# strings.\n",
    "\n",
    "train_data_features = vectorizer.fit_transform(docs)\n",
    "\n",
    "# Numpy arrays are easy to work with, so convert the result to an \n",
    "# array\n",
    "# Document-term matrix\n",
    "train_data_features = train_data_features.toarray()"
   ]
  },
  {
   "cell_type": "markdown",
   "metadata": {},
   "source": [
    "### NCut weights"
   ]
  },
  {
   "cell_type": "code",
   "execution_count": 7,
   "metadata": {
    "collapsed": true
   },
   "outputs": [],
   "source": [
    "doc_mat_norm = normalize(train_data_features)"
   ]
  },
  {
   "cell_type": "code",
   "execution_count": 8,
   "metadata": {
    "collapsed": true
   },
   "outputs": [],
   "source": [
    "S = np.dot(doc_mat_norm.T, doc_mat_norm) + 0.001"
   ]
  },
  {
   "cell_type": "code",
   "execution_count": 9,
   "metadata": {},
   "outputs": [
    {
     "data": {
      "text/plain": [
       "(499, 499)"
      ]
     },
     "execution_count": 9,
     "metadata": {},
     "output_type": "execute_result"
    }
   ],
   "source": [
    "S.shape"
   ]
  },
  {
   "cell_type": "code",
   "execution_count": 10,
   "metadata": {
    "collapsed": true
   },
   "outputs": [],
   "source": [
    "D = np.power(np.sum(S, axis=1), -0.5) * np.eye(S.shape[0])"
   ]
  },
  {
   "cell_type": "code",
   "execution_count": 11,
   "metadata": {},
   "outputs": [
    {
     "data": {
      "text/plain": [
       "(499, 499)"
      ]
     },
     "execution_count": 11,
     "metadata": {},
     "output_type": "execute_result"
    }
   ],
   "source": [
    "D.shape"
   ]
  },
  {
   "cell_type": "code",
   "execution_count": 12,
   "metadata": {
    "collapsed": true
   },
   "outputs": [],
   "source": [
    "Y = np.dot(D, train_data_features.T)"
   ]
  },
  {
   "cell_type": "code",
   "execution_count": 13,
   "metadata": {},
   "outputs": [
    {
     "data": {
      "text/plain": [
       "(499, 758)"
      ]
     },
     "execution_count": 13,
     "metadata": {},
     "output_type": "execute_result"
    }
   ],
   "source": [
    "Y.shape"
   ]
  },
  {
   "cell_type": "markdown",
   "metadata": {},
   "source": [
    "# Cálculo da NMF"
   ]
  },
  {
   "cell_type": "code",
   "execution_count": 6,
   "metadata": {},
   "outputs": [
    {
     "data": {
      "text/html": [
       "\n",
       "<div class=\"bk-root\">\n",
       "    <div class=\"bk-plotdiv\" id=\"909c5e41-09c3-42ff-b6f5-1b1cfc4f36d1\"></div>\n",
       "</div>"
      ]
     },
     "metadata": {},
     "output_type": "display_data"
    },
    {
     "data": {
      "application/javascript": [
       "(function(root) {\n",
       "  function embed_document(root) {\n",
       "    \n",
       "  var docs_json = {\"2b8b7296-aafb-4d12-b211-4da152dc46dd\":{\"roots\":{\"references\":[{\"attributes\":{\"bottom_units\":\"screen\",\"fill_alpha\":{\"value\":0.5},\"fill_color\":{\"value\":\"lightgrey\"},\"left_units\":\"screen\",\"level\":\"overlay\",\"line_alpha\":{\"value\":1.0},\"line_color\":{\"value\":\"black\"},\"line_dash\":[4,4],\"line_width\":{\"value\":2},\"plot\":null,\"render_mode\":\"css\",\"right_units\":\"screen\",\"top_units\":\"screen\"},\"id\":\"d165db77-8943-4aba-af20-d999bbce7d11\",\"type\":\"BoxAnnotation\"},{\"attributes\":{},\"id\":\"9b60a236-9f61-41fb-b932-dfe91b64721b\",\"type\":\"PanTool\"},{\"attributes\":{},\"id\":\"5ee7c51c-17c0-4d92-bdc2-b3bc10f1e5da\",\"type\":\"WheelZoomTool\"},{\"attributes\":{\"data_source\":{\"id\":\"28cd55b3-97d7-43d2-ad24-6f39fa2fa633\",\"type\":\"ColumnDataSource\"},\"glyph\":{\"id\":\"1f6f8e4f-998c-4558-b700-36b70e4c5014\",\"type\":\"Line\"},\"hover_glyph\":null,\"muted_glyph\":null,\"nonselection_glyph\":{\"id\":\"cbc4a5bb-9d0a-4e44-8854-e61533cb5fda\",\"type\":\"Line\"},\"selection_glyph\":null,\"view\":{\"id\":\"79fbb830-94de-4730-a1d5-aa6856085044\",\"type\":\"CDSView\"}},\"id\":\"64109c84-95cb-4994-bd6b-d0da4d8bc3aa\",\"type\":\"GlyphRenderer\"},{\"attributes\":{\"overlay\":{\"id\":\"d165db77-8943-4aba-af20-d999bbce7d11\",\"type\":\"BoxAnnotation\"}},\"id\":\"8ad88de1-bdfb-4468-a8a8-388044274f7f\",\"type\":\"BoxZoomTool\"},{\"attributes\":{},\"id\":\"71c767fc-3585-4aa3-b035-62a98ed98fbe\",\"type\":\"SaveTool\"},{\"attributes\":{\"line_color\":\"#2222aa\",\"line_width\":2,\"x\":{\"field\":\"x_values\"},\"y\":{\"field\":\"y_values\"}},\"id\":\"1f6f8e4f-998c-4558-b700-36b70e4c5014\",\"type\":\"Line\"},{\"attributes\":{},\"id\":\"8bf3b6a3-5be9-47b5-80bc-be0a32ffd25c\",\"type\":\"ResetTool\"},{\"attributes\":{\"source\":{\"id\":\"28cd55b3-97d7-43d2-ad24-6f39fa2fa633\",\"type\":\"ColumnDataSource\"}},\"id\":\"79fbb830-94de-4730-a1d5-aa6856085044\",\"type\":\"CDSView\"},{\"attributes\":{},\"id\":\"e237deec-36e5-4d7d-82fb-6a0252a5468a\",\"type\":\"HelpTool\"},{\"attributes\":{},\"id\":\"f295c405-901c-4b4d-9f1f-9f2b3d4576df\",\"type\":\"LinearScale\"},{\"attributes\":{\"line_alpha\":0.1,\"line_color\":\"#1f77b4\",\"line_width\":2,\"x\":{\"field\":\"x_values\"},\"y\":{\"field\":\"y_values\"}},\"id\":\"cbc4a5bb-9d0a-4e44-8854-e61533cb5fda\",\"type\":\"Line\"},{\"attributes\":{\"callback\":null,\"tooltips\":[[\"(x,y)\",\"($x{0}, $y)\"],[\"reconst\",\"@recons\"]]},\"id\":\"37cf937d-a9dc-42ef-b179-7b271dfae71d\",\"type\":\"HoverTool\"},{\"attributes\":{\"below\":[{\"id\":\"fefe2bc2-f19f-4ca3-a2a2-8a9df3d9d609\",\"type\":\"LinearAxis\"}],\"left\":[{\"id\":\"7ec67630-b7cf-45ea-8f3f-9c2b254d535b\",\"type\":\"LinearAxis\"}],\"min_border\":0,\"plot_height\":500,\"plot_width\":900,\"renderers\":[{\"id\":\"fefe2bc2-f19f-4ca3-a2a2-8a9df3d9d609\",\"type\":\"LinearAxis\"},{\"id\":\"71152656-0433-43fd-96fe-80adee420d8c\",\"type\":\"Grid\"},{\"id\":\"7ec67630-b7cf-45ea-8f3f-9c2b254d535b\",\"type\":\"LinearAxis\"},{\"id\":\"f1c746d9-c54f-46f3-bb8d-30eb9a121052\",\"type\":\"Grid\"},{\"id\":\"d165db77-8943-4aba-af20-d999bbce7d11\",\"type\":\"BoxAnnotation\"},{\"id\":\"64109c84-95cb-4994-bd6b-d0da4d8bc3aa\",\"type\":\"GlyphRenderer\"},{\"id\":\"89222fbb-1015-49c5-95c9-3e9baa2e27a2\",\"type\":\"GlyphRenderer\"}],\"title\":{\"id\":\"d5a7e34f-3184-4ca8-bf05-8bc868e0c597\",\"type\":\"Title\"},\"toolbar\":{\"id\":\"a18df7c8-cfa2-47e9-ab03-1022002ffc8e\",\"type\":\"Toolbar\"},\"x_range\":{\"id\":\"ab84fa18-3b51-46b6-b6e2-834ab39aeb75\",\"type\":\"DataRange1d\"},\"x_scale\":{\"id\":\"1f367d44-36b3-45ff-9ff2-8a6e3c98bcd1\",\"type\":\"LinearScale\"},\"y_range\":{\"id\":\"49fea047-c1d1-401c-b2a7-1dceee7eabfc\",\"type\":\"DataRange1d\"},\"y_scale\":{\"id\":\"f295c405-901c-4b4d-9f1f-9f2b3d4576df\",\"type\":\"LinearScale\"}},\"id\":\"c895312b-50a0-4876-8cbd-fec2b20b1dfe\",\"subtype\":\"Figure\",\"type\":\"Plot\"},{\"attributes\":{\"fill_color\":{\"value\":\"white\"},\"line_color\":{\"value\":\"#2222aa\"},\"size\":{\"units\":\"screen\",\"value\":8},\"x\":{\"field\":\"x_values\"},\"y\":{\"field\":\"y_values\"}},\"id\":\"5bdce733-2c57-4b31-9caa-71d5f1c086fa\",\"type\":\"Circle\"},{\"attributes\":{\"plot\":null,\"text\":\"Ncut\"},\"id\":\"d5a7e34f-3184-4ca8-bf05-8bc868e0c597\",\"type\":\"Title\"},{\"attributes\":{\"data_source\":{\"id\":\"28cd55b3-97d7-43d2-ad24-6f39fa2fa633\",\"type\":\"ColumnDataSource\"},\"glyph\":{\"id\":\"5bdce733-2c57-4b31-9caa-71d5f1c086fa\",\"type\":\"Circle\"},\"hover_glyph\":null,\"muted_glyph\":null,\"nonselection_glyph\":{\"id\":\"d481abf4-c718-448f-b3fb-06cf889c725e\",\"type\":\"Circle\"},\"selection_glyph\":null,\"view\":{\"id\":\"2b980f16-bb54-4b60-9c7a-27e7498f653c\",\"type\":\"CDSView\"}},\"id\":\"89222fbb-1015-49c5-95c9-3e9baa2e27a2\",\"type\":\"GlyphRenderer\"},{\"attributes\":{\"callback\":null},\"id\":\"ab84fa18-3b51-46b6-b6e2-834ab39aeb75\",\"type\":\"DataRange1d\"},{\"attributes\":{\"fill_alpha\":{\"value\":0.1},\"fill_color\":{\"value\":\"#1f77b4\"},\"line_alpha\":{\"value\":0.1},\"line_color\":{\"value\":\"#1f77b4\"},\"size\":{\"units\":\"screen\",\"value\":8},\"x\":{\"field\":\"x_values\"},\"y\":{\"field\":\"y_values\"}},\"id\":\"d481abf4-c718-448f-b3fb-06cf889c725e\",\"type\":\"Circle\"},{\"attributes\":{\"source\":{\"id\":\"28cd55b3-97d7-43d2-ad24-6f39fa2fa633\",\"type\":\"ColumnDataSource\"}},\"id\":\"2b980f16-bb54-4b60-9c7a-27e7498f653c\",\"type\":\"CDSView\"},{\"attributes\":{},\"id\":\"1f367d44-36b3-45ff-9ff2-8a6e3c98bcd1\",\"type\":\"LinearScale\"},{\"attributes\":{\"active_drag\":\"auto\",\"active_inspect\":\"auto\",\"active_scroll\":\"auto\",\"active_tap\":\"auto\",\"tools\":[{\"id\":\"9b60a236-9f61-41fb-b932-dfe91b64721b\",\"type\":\"PanTool\"},{\"id\":\"5ee7c51c-17c0-4d92-bdc2-b3bc10f1e5da\",\"type\":\"WheelZoomTool\"},{\"id\":\"8ad88de1-bdfb-4468-a8a8-388044274f7f\",\"type\":\"BoxZoomTool\"},{\"id\":\"71c767fc-3585-4aa3-b035-62a98ed98fbe\",\"type\":\"SaveTool\"},{\"id\":\"8bf3b6a3-5be9-47b5-80bc-be0a32ffd25c\",\"type\":\"ResetTool\"},{\"id\":\"e237deec-36e5-4d7d-82fb-6a0252a5468a\",\"type\":\"HelpTool\"},{\"id\":\"37cf937d-a9dc-42ef-b179-7b271dfae71d\",\"type\":\"HoverTool\"}]},\"id\":\"a18df7c8-cfa2-47e9-ab03-1022002ffc8e\",\"type\":\"Toolbar\"},{\"attributes\":{},\"id\":\"b9a36ae2-6a6d-455e-9918-51d412058e3d\",\"type\":\"BasicTickFormatter\"},{\"attributes\":{\"callback\":null},\"id\":\"49fea047-c1d1-401c-b2a7-1dceee7eabfc\",\"type\":\"DataRange1d\"},{\"attributes\":{\"formatter\":{\"id\":\"d290a06b-de94-4356-b18f-b6605f6e5bbe\",\"type\":\"BasicTickFormatter\"},\"plot\":{\"id\":\"c895312b-50a0-4876-8cbd-fec2b20b1dfe\",\"subtype\":\"Figure\",\"type\":\"Plot\"},\"ticker\":{\"id\":\"885b501d-361f-424a-9ae9-15c7cd95f847\",\"type\":\"BasicTicker\"}},\"id\":\"fefe2bc2-f19f-4ca3-a2a2-8a9df3d9d609\",\"type\":\"LinearAxis\"},{\"attributes\":{},\"id\":\"885b501d-361f-424a-9ae9-15c7cd95f847\",\"type\":\"BasicTicker\"},{\"attributes\":{\"plot\":{\"id\":\"c895312b-50a0-4876-8cbd-fec2b20b1dfe\",\"subtype\":\"Figure\",\"type\":\"Plot\"},\"ticker\":{\"id\":\"885b501d-361f-424a-9ae9-15c7cd95f847\",\"type\":\"BasicTicker\"}},\"id\":\"71152656-0433-43fd-96fe-80adee420d8c\",\"type\":\"Grid\"},{\"attributes\":{\"formatter\":{\"id\":\"b9a36ae2-6a6d-455e-9918-51d412058e3d\",\"type\":\"BasicTickFormatter\"},\"plot\":{\"id\":\"c895312b-50a0-4876-8cbd-fec2b20b1dfe\",\"subtype\":\"Figure\",\"type\":\"Plot\"},\"ticker\":{\"id\":\"dca49a77-3fbd-4c8c-bde7-63b98496f5c8\",\"type\":\"BasicTicker\"}},\"id\":\"7ec67630-b7cf-45ea-8f3f-9c2b254d535b\",\"type\":\"LinearAxis\"},{\"attributes\":{\"callback\":null,\"column_names\":[\"x_values\",\"y_values\",\"recons\"],\"data\":{\"recons\":[],\"x_values\":[],\"y_values\":[]}},\"id\":\"28cd55b3-97d7-43d2-ad24-6f39fa2fa633\",\"type\":\"ColumnDataSource\"},{\"attributes\":{},\"id\":\"dca49a77-3fbd-4c8c-bde7-63b98496f5c8\",\"type\":\"BasicTicker\"},{\"attributes\":{\"dimension\":1,\"plot\":{\"id\":\"c895312b-50a0-4876-8cbd-fec2b20b1dfe\",\"subtype\":\"Figure\",\"type\":\"Plot\"},\"ticker\":{\"id\":\"dca49a77-3fbd-4c8c-bde7-63b98496f5c8\",\"type\":\"BasicTicker\"}},\"id\":\"f1c746d9-c54f-46f3-bb8d-30eb9a121052\",\"type\":\"Grid\"},{\"attributes\":{},\"id\":\"d290a06b-de94-4356-b18f-b6605f6e5bbe\",\"type\":\"BasicTickFormatter\"}],\"root_ids\":[\"c895312b-50a0-4876-8cbd-fec2b20b1dfe\"]},\"title\":\"Bokeh Application\",\"version\":\"0.12.14\"}};\n",
       "  var render_items = [{\"docid\":\"2b8b7296-aafb-4d12-b211-4da152dc46dd\",\"elementid\":\"909c5e41-09c3-42ff-b6f5-1b1cfc4f36d1\",\"modelid\":\"c895312b-50a0-4876-8cbd-fec2b20b1dfe\",\"notebook_comms_target\":\"4696ac73-d481-4165-9701-6646b1f28d27\"}];\n",
       "  root.Bokeh.embed.embed_items_notebook(docs_json, render_items);\n",
       "\n",
       "  }\n",
       "  if (root.Bokeh !== undefined) {\n",
       "    embed_document(root);\n",
       "  } else {\n",
       "    var attempts = 0;\n",
       "    var timer = setInterval(function(root) {\n",
       "      if (root.Bokeh !== undefined) {\n",
       "        embed_document(root);\n",
       "        clearInterval(timer);\n",
       "      }\n",
       "      attempts++;\n",
       "      if (attempts > 100) {\n",
       "        console.log(\"Bokeh: ERROR: Unable to run BokehJS code because BokehJS library is missing\")\n",
       "        clearInterval(timer);\n",
       "      }\n",
       "    }, 10, root)\n",
       "  }\n",
       "})(window);"
      ],
      "application/vnd.bokehjs_exec.v0+json": ""
     },
     "metadata": {
      "application/vnd.bokehjs_exec.v0+json": {
       "id": "c895312b-50a0-4876-8cbd-fec2b20b1dfe"
      }
     },
     "output_type": "display_data"
    }
   ],
   "source": [
    "hover = HoverTool(tooltips=[\n",
    "#    (\"index\", \"$index\"),\n",
    "    (\"(x,y)\", \"($x{0}, $y)\"),\n",
    "    (\"reconst\", \"@recons\"),\n",
    "])\n",
    "opts = dict(plot_width=250, plot_height=250, min_border=0)\n",
    "models = {}\n",
    "\n",
    "data = {'x_values': [],\n",
    "        'y_values': [],\n",
    "        'recons': []}\n",
    "\n",
    "source = ColumnDataSource(data=data)\n",
    "\n",
    "opts = dict(plot_width=900, plot_height=500, min_border=0, title=\"Ncut\")\n",
    "plot = figure(**opts)\n",
    "plot.add_tools(hover)\n",
    "l = plot.line(x='x_values', y='y_values', color=\"#2222aa\", line_width=2, source=source)\n",
    "c = plot.circle(x='x_values', y='y_values', color=\"#2222aa\", fill_color=\"white\", size=8, source=source)\n",
    "h = show(plot, notebook_handle=True)"
   ]
  },
  {
   "cell_type": "code",
   "execution_count": 15,
   "metadata": {
    "collapsed": true
   },
   "outputs": [],
   "source": [
    "def edges_sum(cond_1, cond_2, S):\n",
    "    nodes_1 = np.where(cond_1)[0]\n",
    "    nodes_2 = np.where(cond_2)[0]\n",
    "    \n",
    "    # Every (x, y) index that I should get cooccurence value from S matrix\n",
    "    indices = product(nodes_1, nodes_2)\n",
    "    return np.sum(S[idx] for idx in indices)\n",
    "\n",
    "\n",
    "def n_cut(mat_U, mat_S):\n",
    "    \n",
    "    # Each term belongs to which topic?\n",
    "    # I can't make this assumption!!! \n",
    "    term_clusters = mat_U.argmax(axis=1)\n",
    "    \n",
    "    # Number of clusters\n",
    "    n_k = mat_U.shape[1]\n",
    "    \n",
    "    result = 0.0\n",
    "    for idx_k in range(n_k):\n",
    "        \n",
    "        # Check in which cluster the terms come from\n",
    "        cond_g_k = term_clusters == idx_k\n",
    "        \n",
    "        # Sum edges between terms inside cluster and terms outside\n",
    "        num = edges_sum(cond_g_k, ~cond_g_k, mat_S)\n",
    "        \n",
    "        # Sum all edges\n",
    "        den = edges_sum(cond_g_k,  cond_g_k, mat_S) + num\n",
    "        \n",
    "        try:\n",
    "            result += num/den\n",
    "        except ZeroDivisionError:\n",
    "            return 0\n",
    "        \n",
    "    return 0.5 * result"
   ]
  },
  {
   "cell_type": "code",
   "execution_count": 8,
   "metadata": {
    "collapsed": true
   },
   "outputs": [],
   "source": [
    "num_topics = list(range(2, 100))\n"
   ]
  },
  {
   "cell_type": "code",
   "execution_count": 7,
   "metadata": {},
   "outputs": [
    {
     "ename": "NameError",
     "evalue": "name 'num_topics' is not defined",
     "output_type": "error",
     "traceback": [
      "\u001b[0;31m---------------------------------------------------------------------------\u001b[0m",
      "\u001b[0;31mNameError\u001b[0m                                 Traceback (most recent call last)",
      "\u001b[0;32m<ipython-input-7-38dbb394bc52>\u001b[0m in \u001b[0;36m<module>\u001b[0;34m()\u001b[0m\n\u001b[1;32m      1\u001b[0m \u001b[0;31m#nt = sorted(num_topics[:50])\u001b[0m\u001b[0;34m\u001b[0m\u001b[0;34m\u001b[0m\u001b[0m\n\u001b[1;32m      2\u001b[0m \u001b[0;34m\u001b[0m\u001b[0m\n\u001b[0;32m----> 3\u001b[0;31m \u001b[0;32mfor\u001b[0m \u001b[0mk\u001b[0m \u001b[0;32min\u001b[0m \u001b[0mnum_topics\u001b[0m\u001b[0;34m:\u001b[0m\u001b[0;34m\u001b[0m\u001b[0m\n\u001b[0m\u001b[1;32m      4\u001b[0m     \u001b[0mstart_time\u001b[0m \u001b[0;34m=\u001b[0m \u001b[0mtime\u001b[0m\u001b[0;34m.\u001b[0m\u001b[0mtime\u001b[0m\u001b[0;34m(\u001b[0m\u001b[0;34m)\u001b[0m\u001b[0;34m\u001b[0m\u001b[0m\n\u001b[1;32m      5\u001b[0m     \u001b[0mmodel\u001b[0m \u001b[0;34m=\u001b[0m \u001b[0mNMF\u001b[0m\u001b[0;34m(\u001b[0m\u001b[0mn_components\u001b[0m\u001b[0;34m=\u001b[0m\u001b[0mk\u001b[0m\u001b[0;34m,\u001b[0m \u001b[0minit\u001b[0m\u001b[0;34m=\u001b[0m\u001b[0;34m\"nndsvda\"\u001b[0m\u001b[0;34m,\u001b[0m \u001b[0mmax_iter\u001b[0m\u001b[0;34m=\u001b[0m\u001b[0;36m1000\u001b[0m\u001b[0;34m,\u001b[0m \u001b[0ml1_ratio\u001b[0m\u001b[0;34m=\u001b[0m\u001b[0;36m0\u001b[0m\u001b[0;34m,\u001b[0m \u001b[0malpha\u001b[0m\u001b[0;34m=\u001b[0m\u001b[0;36m1\u001b[0m\u001b[0;34m)\u001b[0m\u001b[0;34m\u001b[0m\u001b[0m\n",
      "\u001b[0;31mNameError\u001b[0m: name 'num_topics' is not defined"
     ]
    }
   ],
   "source": [
    "#nt = sorted(num_topics[:50])\n",
    "\n",
    "for k in num_topics:\n",
    "    start_time = time.time()\n",
    "    model = NMF(n_components=k, init=\"nndsvda\", max_iter=1000, l1_ratio=0, alpha=1)\n",
    "    V_T = model.fit_transform(Y.T)\n",
    "    U_T = model.components_\n",
    "    \n",
    "    models[k] = {\n",
    "            \"model\": model,\n",
    "            \"V_T\": V_T,\n",
    "#             \"n_cut\": n_cut_val,\n",
    "            \"recons\": [model.reconstruction_err_]\n",
    "        }\n",
    "\n",
    "#     n_cut_val = n_cut(U_T.T, S)\n",
    "\n",
    "#     if n_cut_val:\n",
    "\n",
    "#         end_time = time.time()\n",
    "\n",
    "#         x_values = [k]\n",
    "#         y_values = [models[k][\"n_cut\"]/k]\n",
    "#         #print(\"%d: %f\" %(k, end_time - start_time))\n",
    "\n",
    "#         new_data = {'x_values': x_values,\n",
    "#                     'y_values': y_values,\n",
    "#                     'recons': models[k]['recons']}\n",
    "#         source.stream(new_data)\n",
    "#         push_notebook(h)"
   ]
  },
  {
   "cell_type": "code",
   "execution_count": 10,
   "metadata": {},
   "outputs": [],
   "source": [
    "model = NMF(n_components=12, init=\"nndsvda\", max_iter=1000, l1_ratio=0, alpha=1)\n",
    "V_T = model.fit_transform(train_data_features)\n",
    "U_T = model.components_"
   ]
  },
  {
   "cell_type": "code",
   "execution_count": 18,
   "metadata": {
    "collapsed": true
   },
   "outputs": [],
   "source": [
    "def coherence_norm(data, tf_idf_norm):\n",
    "    clusters = np.argmax(data['V_T'], axis=1)\n",
    "    n_clusters = data['V_T'].shape[1]\n",
    "    \n",
    "    clusters_norm = []\n",
    "    clusters_size = []\n",
    "    coherence_cluster = []\n",
    "    \n",
    "    for idx_cluster in range(n_clusters):\n",
    "        \n",
    "        cluster_data = tf_idf_norm[clusters == idx_cluster]\n",
    "        avg_vector = np.average(cluster_data, axis=0)\n",
    "        cluster_norm = np.sqrt(np.power(avg_vector, 2).sum())\n",
    "        clusters_norm.append(cluster_norm)\n",
    "        clusters_size.append(cluster_data.shape[0])\n",
    "        \n",
    "        if cluster_data.shape[0] > 3:\n",
    "            coherence_cluster.append(cluster_norm)\n",
    "    \n",
    "    \n",
    "    data['avg_clusters_norm'] = clusters_norm\n",
    "    data['clusters_size'] = clusters_size\n",
    "    data['coherence_norm'] = np.average(clusters_norm)\n",
    "    return np.average(coherence_cluster), np.std(clusters_norm)"
   ]
  },
  {
   "cell_type": "code",
   "execution_count": 19,
   "metadata": {
    "collapsed": true
   },
   "outputs": [],
   "source": [
    "for key in sorted(models.keys()):\n",
    "    coherence_norm(models[key], doc_mat_norm)"
   ]
  },
  {
   "cell_type": "code",
   "execution_count": 23,
   "metadata": {},
   "outputs": [
    {
     "data": {
      "text/html": [
       "\n",
       "<div class=\"bk-root\">\n",
       "    <div class=\"bk-plotdiv\" id=\"e0fbf4ec-6ac6-42cd-b9b1-777d3aa6d902\"></div>\n",
       "</div>"
      ]
     },
     "metadata": {},
     "output_type": "display_data"
    },
    {
     "data": {
      "application/javascript": [
       "(function(root) {\n",
       "  function embed_document(root) {\n",
       "    \n",
       "  var docs_json = {\"6f39911d-1501-4b6f-bec2-48b96469ba06\":{\"roots\":{\"references\":[{\"attributes\":{\"source\":{\"id\":\"900ead62-ca03-4e4f-b662-9f61a1d29efb\",\"type\":\"ColumnDataSource\"}},\"id\":\"89198b7c-a399-4f1c-8d08-2290bff66fb1\",\"type\":\"CDSView\"},{\"attributes\":{},\"id\":\"422b5bb1-8c93-4815-ad8b-7185fa8a1431\",\"type\":\"BasicTicker\"},{\"attributes\":{\"dimension\":1,\"plot\":{\"id\":\"cfa347eb-b788-42aa-ae99-639fc2ae86af\",\"subtype\":\"Figure\",\"type\":\"Plot\"},\"ticker\":{\"id\":\"422b5bb1-8c93-4815-ad8b-7185fa8a1431\",\"type\":\"BasicTicker\"}},\"id\":\"4f52ffa5-3832-4307-9d8e-f66f05781dc9\",\"type\":\"Grid\"},{\"attributes\":{\"line_color\":\"red\",\"line_width\":2,\"x\":{\"field\":\"x\"},\"y\":{\"field\":\"y\"}},\"id\":\"7b247f97-9de4-42d3-b669-033d28808814\",\"type\":\"Line\"},{\"attributes\":{\"line_color\":\"#2222aa\",\"line_width\":2,\"x\":{\"field\":\"x\"},\"y\":{\"field\":\"y\"}},\"id\":\"e5aff942-7c4b-4ec2-8b13-4c726c24e7db\",\"type\":\"Line\"},{\"attributes\":{\"plot\":{\"id\":\"cfa347eb-b788-42aa-ae99-639fc2ae86af\",\"subtype\":\"Figure\",\"type\":\"Plot\"},\"ticker\":{\"id\":\"4b816c45-bd72-4d41-a0a8-3405f8a9c504\",\"type\":\"BasicTicker\"}},\"id\":\"4d3bfd54-f6e0-4a63-a39b-23f1d576cc57\",\"type\":\"Grid\"},{\"attributes\":{\"line_alpha\":0.1,\"line_color\":\"#1f77b4\",\"line_width\":2,\"x\":{\"field\":\"x\"},\"y\":{\"field\":\"y\"}},\"id\":\"3a853fd5-efb9-46f4-bbac-c75b6c50c923\",\"type\":\"Line\"},{\"attributes\":{\"data_source\":{\"id\":\"ea80e015-62c5-4839-bf22-b2ee8a7be0d4\",\"type\":\"ColumnDataSource\"},\"glyph\":{\"id\":\"e5aff942-7c4b-4ec2-8b13-4c726c24e7db\",\"type\":\"Line\"},\"hover_glyph\":null,\"muted_glyph\":null,\"nonselection_glyph\":{\"id\":\"3a853fd5-efb9-46f4-bbac-c75b6c50c923\",\"type\":\"Line\"},\"selection_glyph\":null,\"view\":{\"id\":\"c2167eac-b1c8-45c5-a306-bce7a4365fe8\",\"type\":\"CDSView\"}},\"id\":\"29a60b81-e9b4-40c8-bc73-c0cd2989ad9f\",\"type\":\"GlyphRenderer\"},{\"attributes\":{\"source\":{\"id\":\"ea80e015-62c5-4839-bf22-b2ee8a7be0d4\",\"type\":\"ColumnDataSource\"}},\"id\":\"c2167eac-b1c8-45c5-a306-bce7a4365fe8\",\"type\":\"CDSView\"},{\"attributes\":{},\"id\":\"a1e3b7b2-c8c4-4c29-b361-07d05363b2b1\",\"type\":\"BasicTickFormatter\"},{\"attributes\":{\"callback\":null},\"id\":\"d54f9501-500a-4e66-b8a9-7f3226db8088\",\"type\":\"Range1d\"},{\"attributes\":{},\"id\":\"622a3bd9-2eb9-487b-aafe-9845250c8ada\",\"type\":\"BasicTicker\"},{\"attributes\":{},\"id\":\"51973242-dff0-4299-8e19-601bd3acde99\",\"type\":\"PanTool\"},{\"attributes\":{\"line_alpha\":0.1,\"line_color\":\"#1f77b4\",\"line_width\":2,\"x\":{\"field\":\"x\"},\"y\":{\"field\":\"y\"}},\"id\":\"b8094709-dc77-4de5-b590-d0c103189b27\",\"type\":\"Line\"},{\"attributes\":{\"formatter\":{\"id\":\"4cbe3235-32e2-4628-ad53-85d0f1acdce9\",\"type\":\"BasicTickFormatter\"},\"plot\":{\"id\":\"cfa347eb-b788-42aa-ae99-639fc2ae86af\",\"subtype\":\"Figure\",\"type\":\"Plot\"},\"ticker\":{\"id\":\"622a3bd9-2eb9-487b-aafe-9845250c8ada\",\"type\":\"BasicTicker\"},\"y_range_name\":\"coherence\"},\"id\":\"5a4a318d-bb73-45f8-96c4-91681d18875f\",\"type\":\"LinearAxis\"},{\"attributes\":{\"callback\":null,\"column_names\":[\"x\",\"y\"],\"data\":{\"x\":[2,3,4,5,6,7,8,9,10,11,12,13,14,15,16,17,18,19,20,21,22,23,24,25,26,27,28,29,30,31,32,33,34,35,36,37,38,39,40,41,42,43,44,45,46,47,48,49,50,51,52,53,54,55,56,57,58,59,60,61,62,63,64,65,66,67,68,69,70,71,72,73,74,75,76,77,78,79,80,81,82,83,84,85,86,87,88,89,90,91,92,93,94,95,96,97,98,99],\"y\":[0.4975640548023119,0.4765338141864242,0.5012544847570305,0.5564085317799222,0.55442341069048,0.5490511393839389,0.585394998393087,0.6614261175909201,0.6576128852750913,0.6406785796080463,0.6748815435563947,0.6668449017729189,0.6567349034681303,0.650099191037731,0.6929366084624796,0.6858795321034719,0.6795508630172364,0.6802104611468125,0.708312133440949,0.6854508244446939,0.6809992998895852,0.6754708332458911,0.6805666968563443,0.680283178327023,0.6798261708039909,0.6739548245164713,0.681317596393866,0.6772849941754442,0.6775941387577896,0.6743385713443487,0.6761258786923124,0.6751890096462607,0.6920117648318085,0.6898921715377535,0.6908167809083667,0.6907426151331943,0.6911236760715126,0.6933158650679102,0.6914824930181036,0.694510322693088,0.6968780062409135,0.7202225017754702,0.72419974938924,0.7234472006679872,0.7044469720372843,0.7297380261250395,0.7368209193456744,0.7322024303749803,0.7322263761787379,0.7322632203489928,0.7484909444788314,0.7609195416178116,0.7549860655382115,0.7628748688450634,0.7562369824916539,0.7625293163699569,0.7588400827778744,0.7604106135590413,0.7597561393376034,0.7618965803554631,0.7659171652637399,0.7678752105585523,0.7631295035125469,0.7601436498019442,0.7697264587989425,0.771304262798798,0.7844600419082406,0.7718248315952757,0.779678721353303,0.790022331922853,0.7806465664302453,0.7823419575544709,0.7815382316186252,0.7854845539720281,0.7846871766580991,0.7920461182066683,0.786030139606764,0.7946942718831888,0.7973477463982925,0.7913414198446856,0.7896167077030911,0.7961481431226045,0.8003221094953167,0.7962587673039598,0.8011417427636478,0.7934672819131573,0.7983390945540113,0.7960378452067393,0.7983574061166209,0.7940414537296565,0.7985970124649715,0.8062437543759232,0.8014225903315234,0.8015976786723435,0.7999102020379348,0.8026583553130898,0.8063669814120152,0.8053047512032061]}},\"id\":\"900ead62-ca03-4e4f-b662-9f61a1d29efb\",\"type\":\"ColumnDataSource\"},{\"attributes\":{\"data_source\":{\"id\":\"900ead62-ca03-4e4f-b662-9f61a1d29efb\",\"type\":\"ColumnDataSource\"},\"glyph\":{\"id\":\"7b247f97-9de4-42d3-b669-033d28808814\",\"type\":\"Line\"},\"hover_glyph\":null,\"muted_glyph\":null,\"nonselection_glyph\":{\"id\":\"b8094709-dc77-4de5-b590-d0c103189b27\",\"type\":\"Line\"},\"selection_glyph\":null,\"view\":{\"id\":\"89198b7c-a399-4f1c-8d08-2290bff66fb1\",\"type\":\"CDSView\"},\"y_range_name\":\"coherence\"},\"id\":\"ba7653db-7e0c-4eb9-8328-67dcedb04015\",\"type\":\"GlyphRenderer\"},{\"attributes\":{},\"id\":\"8632cbec-448f-4e0d-b1f8-fac8b220b085\",\"type\":\"BasicTickFormatter\"},{\"attributes\":{},\"id\":\"4cbe3235-32e2-4628-ad53-85d0f1acdce9\",\"type\":\"BasicTickFormatter\"},{\"attributes\":{},\"id\":\"4b816c45-bd72-4d41-a0a8-3405f8a9c504\",\"type\":\"BasicTicker\"},{\"attributes\":{\"formatter\":{\"id\":\"a1e3b7b2-c8c4-4c29-b361-07d05363b2b1\",\"type\":\"BasicTickFormatter\"},\"plot\":{\"id\":\"cfa347eb-b788-42aa-ae99-639fc2ae86af\",\"subtype\":\"Figure\",\"type\":\"Plot\"},\"ticker\":{\"id\":\"422b5bb1-8c93-4815-ad8b-7185fa8a1431\",\"type\":\"BasicTicker\"}},\"id\":\"5e9d60ab-a98b-4746-9dff-568faaf0de64\",\"type\":\"LinearAxis\"},{\"attributes\":{\"active_drag\":\"auto\",\"active_inspect\":\"auto\",\"active_scroll\":\"auto\",\"active_tap\":\"auto\",\"tools\":[{\"id\":\"3386836b-bcdc-4a79-80b0-c4cdc24c8564\",\"type\":\"HoverTool\"},{\"id\":\"51973242-dff0-4299-8e19-601bd3acde99\",\"type\":\"PanTool\"},{\"id\":\"fddf5021-39bb-4c13-be13-871d832a2c01\",\"type\":\"WheelZoomTool\"}]},\"id\":\"21d0238e-9609-4ff3-9790-bf245c8b10c1\",\"type\":\"Toolbar\"},{\"attributes\":{},\"id\":\"57bc25f9-8e3a-436c-91ab-96ec9d537a32\",\"type\":\"LinearScale\"},{\"attributes\":{\"below\":[{\"id\":\"dee63d63-b810-4228-bcbd-9988540b7287\",\"type\":\"LinearAxis\"}],\"extra_y_ranges\":{\"coherence\":{\"id\":\"d54f9501-500a-4e66-b8a9-7f3226db8088\",\"type\":\"Range1d\"}},\"left\":[{\"id\":\"5e9d60ab-a98b-4746-9dff-568faaf0de64\",\"type\":\"LinearAxis\"}],\"plot_height\":500,\"plot_width\":900,\"renderers\":[{\"id\":\"dee63d63-b810-4228-bcbd-9988540b7287\",\"type\":\"LinearAxis\"},{\"id\":\"4d3bfd54-f6e0-4a63-a39b-23f1d576cc57\",\"type\":\"Grid\"},{\"id\":\"5e9d60ab-a98b-4746-9dff-568faaf0de64\",\"type\":\"LinearAxis\"},{\"id\":\"4f52ffa5-3832-4307-9d8e-f66f05781dc9\",\"type\":\"Grid\"},{\"id\":\"29a60b81-e9b4-40c8-bc73-c0cd2989ad9f\",\"type\":\"GlyphRenderer\"},{\"id\":\"ba7653db-7e0c-4eb9-8328-67dcedb04015\",\"type\":\"GlyphRenderer\"},{\"id\":\"5a4a318d-bb73-45f8-96c4-91681d18875f\",\"type\":\"LinearAxis\"}],\"right\":[{\"id\":\"5a4a318d-bb73-45f8-96c4-91681d18875f\",\"type\":\"LinearAxis\"}],\"title\":{\"id\":\"35391e76-2a74-453d-a3ff-9280a5ae5ade\",\"type\":\"Title\"},\"toolbar\":{\"id\":\"21d0238e-9609-4ff3-9790-bf245c8b10c1\",\"type\":\"Toolbar\"},\"x_range\":{\"id\":\"5101afa4-3249-45ed-b5fe-9b1cac9795dc\",\"type\":\"DataRange1d\"},\"x_scale\":{\"id\":\"3440c4f0-99f9-4f01-b63e-5a54020abda5\",\"type\":\"LinearScale\"},\"y_range\":{\"id\":\"1fd4c5d5-ba00-4bdd-a0a7-b6678eb1fae3\",\"type\":\"DataRange1d\"},\"y_scale\":{\"id\":\"57bc25f9-8e3a-436c-91ab-96ec9d537a32\",\"type\":\"LinearScale\"}},\"id\":\"cfa347eb-b788-42aa-ae99-639fc2ae86af\",\"subtype\":\"Figure\",\"type\":\"Plot\"},{\"attributes\":{\"formatter\":{\"id\":\"8632cbec-448f-4e0d-b1f8-fac8b220b085\",\"type\":\"BasicTickFormatter\"},\"plot\":{\"id\":\"cfa347eb-b788-42aa-ae99-639fc2ae86af\",\"subtype\":\"Figure\",\"type\":\"Plot\"},\"ticker\":{\"id\":\"4b816c45-bd72-4d41-a0a8-3405f8a9c504\",\"type\":\"BasicTicker\"}},\"id\":\"dee63d63-b810-4228-bcbd-9988540b7287\",\"type\":\"LinearAxis\"},{\"attributes\":{\"plot\":null,\"text\":\"Ncut vs Coherence\"},\"id\":\"35391e76-2a74-453d-a3ff-9280a5ae5ade\",\"type\":\"Title\"},{\"attributes\":{\"callback\":null},\"id\":\"1fd4c5d5-ba00-4bdd-a0a7-b6678eb1fae3\",\"type\":\"DataRange1d\"},{\"attributes\":{\"callback\":null},\"id\":\"5101afa4-3249-45ed-b5fe-9b1cac9795dc\",\"type\":\"DataRange1d\"},{\"attributes\":{},\"id\":\"fddf5021-39bb-4c13-be13-871d832a2c01\",\"type\":\"WheelZoomTool\"},{\"attributes\":{},\"id\":\"3440c4f0-99f9-4f01-b63e-5a54020abda5\",\"type\":\"LinearScale\"},{\"attributes\":{\"callback\":null,\"column_names\":[\"x\",\"y\"],\"data\":{\"x\":[2,3,4,5,6,7,8,9,10,11,12,13,14,15,16,17,18,19,20,21,22,23,24,25,26,27,28,29,30,31,32,33,34,35,36,37,38,39,40,41,42,43,44,45,46,47,48,49,50,51,52,53,54,55,56,57,58,59,60,61,62,63,64,65,66,67,68,69,70,71,72,73,74,75,76,77,78,79,80,81,82,83,84,85,86,87,88,89,90,91,92,93,94,95,96,97,98,99],\"y\":[0.2045250299173345,0.2622922324000359,0.289114906996033,0.3052565237851538,0.3216307181432011,0.3341961166783934,0.33119484900115126,0.3296982030402599,0.3299514586724571,0.33287999996143725,0.3350362781842331,0.337190266800128,0.3395572746381899,0.3371745383507518,0.35044857094294435,0.35024257292749755,0.35007411935815724,0.34994844654651525,0.35192703423848415,0.3532680058351338,0.35029394754300713,0.3491925313398436,0.3483559885792264,0.35007464557742446,0.3473919254339774,0.3493372890163658,0.35503663223124443,0.3561573853824535,0.35530037521038926,0.3591810026039536,0.35909620838734896,0.35847908765227815,0.3608614007580533,0.3603533686710862,0.3581364515561481,0.3561877236319691,0.35635849630431676,0.3561320757365522,0.35564799645012896,0.3567343201179664,0.35575120897444035,0.3562525426397603,0.3587425440804869,0.358786221899638,0.35711423520431906,0.3569789824578929,0.35908357660674195,0.3593820149252786,0.3620416327708737,0.3626983867388468,0.3605431249585582,0.3636710618689197,0.3609980087474999,0.3628121778041553,0.3591399990967134,0.36174246046182285,0.3620097069854621,0.36126641503452117,0.36128639248557326,0.36316001957886673,0.3638172111764389,0.36427630745470047,0.3650497744655634,0.36412707018787444,0.3620336539757992,0.3648906436479903,0.363616354510826,0.3640399065944504,0.36417019588171745,0.3634587241479753,0.3680925685590268,0.36500961575753516,0.3672637830918614,0.3673807538122504,0.3686885409329724,0.3660734092631268,0.36788054261625003,0.36737668695417336,0.3676509628181755,0.36715445919264517,0.36585211443925536,0.36841741916457016,0.36679682747870457,0.3668616928267475,0.3677355434698005,0.36735258620283234,0.3670651649380383,0.3698671929452527,0.36727223150979743,0.3688630548189422,0.36826622108729806,0.36887057626821224,0.3693681116522784,0.36968488211360573,0.36797027868370175,0.36880584784167514,0.37180061880734927,0.3700789938178295]}},\"id\":\"ea80e015-62c5-4839-bf22-b2ee8a7be0d4\",\"type\":\"ColumnDataSource\"},{\"attributes\":{\"callback\":null,\"tooltips\":[[\"index\",\"$index\"],[\"(x, y)\",\"($x{0}, $y)\"]]},\"id\":\"3386836b-bcdc-4a79-80b0-c4cdc24c8564\",\"type\":\"HoverTool\"}],\"root_ids\":[\"cfa347eb-b788-42aa-ae99-639fc2ae86af\"]},\"title\":\"Bokeh Application\",\"version\":\"0.12.14\"}};\n",
       "  var render_items = [{\"docid\":\"6f39911d-1501-4b6f-bec2-48b96469ba06\",\"elementid\":\"e0fbf4ec-6ac6-42cd-b9b1-777d3aa6d902\",\"modelid\":\"cfa347eb-b788-42aa-ae99-639fc2ae86af\"}];\n",
       "  root.Bokeh.embed.embed_items_notebook(docs_json, render_items);\n",
       "\n",
       "  }\n",
       "  if (root.Bokeh !== undefined) {\n",
       "    embed_document(root);\n",
       "  } else {\n",
       "    var attempts = 0;\n",
       "    var timer = setInterval(function(root) {\n",
       "      if (root.Bokeh !== undefined) {\n",
       "        embed_document(root);\n",
       "        clearInterval(timer);\n",
       "      }\n",
       "      attempts++;\n",
       "      if (attempts > 100) {\n",
       "        console.log(\"Bokeh: ERROR: Unable to run BokehJS code because BokehJS library is missing\")\n",
       "        clearInterval(timer);\n",
       "      }\n",
       "    }, 10, root)\n",
       "  }\n",
       "})(window);"
      ],
      "application/vnd.bokehjs_exec.v0+json": ""
     },
     "metadata": {
      "application/vnd.bokehjs_exec.v0+json": {
       "id": "cfa347eb-b788-42aa-ae99-639fc2ae86af"
      }
     },
     "output_type": "display_data"
    }
   ],
   "source": [
    "data_x = sorted(models.keys())\n",
    "data_ncut = [models[x][\"n_cut\"]/x for x in data_x]\n",
    "data_coh = [models[x][\"coherence_norm\"] for x in data_x]\n",
    "\n",
    "hover = HoverTool(\n",
    "        tooltips=[\n",
    "            (\"index\", \"$index\"),\n",
    "            (\"(x, y)\", \"($x{0}, $y)\"),        ]\n",
    "    )\n",
    "\n",
    "\n",
    "plot = figure(title=\"Ncut vs Coherence\", plot_height=500, plot_width=900,\n",
    "    tools=[hover, PanTool(), WheelZoomTool()])\n",
    "\n",
    "plot.line(data_x, data_ncut, color=\"#2222aa\", line_width=2)\n",
    "#plot.circle(data_x, data_ncut, color=\"#2222aa\", fill_color=\"white\", size=8)\n",
    "\n",
    "plot.extra_y_ranges = {\"coherence\": Range1d(start=0.0, end=1.0)}\n",
    "plot.line(data_x, data_coh, line_width=2, color=\"red\", y_range_name=\"coherence\")\n",
    "plot.add_layout(LinearAxis(y_range_name=\"coherence\"), 'right')\n",
    "\n",
    "show(plot)"
   ]
  },
  {
   "cell_type": "code",
   "execution_count": 25,
   "metadata": {
    "collapsed": true
   },
   "outputs": [],
   "source": [
    "# Take a look at the words in the vocabulary\n",
    "vocab = vectorizer.get_feature_names()\n",
    "vocab_cell = np.asarray(vocab).astype(object)"
   ]
  },
  {
   "cell_type": "code",
   "execution_count": 14,
   "metadata": {
    "collapsed": true
   },
   "outputs": [],
   "source": [
    "import matplotlib.pyplot as plt\n",
    "import numpy as np\n",
    "import seaborn as sns"
   ]
  },
  {
   "cell_type": "code",
   "execution_count": 38,
   "metadata": {},
   "outputs": [
    {
     "data": {
      "text/plain": [
       "(758, 10)"
      ]
     },
     "execution_count": 38,
     "metadata": {},
     "output_type": "execute_result"
    }
   ],
   "source": [
    "V_T = models[10]['V_T']\n",
    "V_T.shape"
   ]
  },
  {
   "cell_type": "code",
   "execution_count": 12,
   "metadata": {},
   "outputs": [
    {
     "name": "stderr",
     "output_type": "stream",
     "text": [
      "/home/lmoraes/miniconda3/envs/machine_teaching/lib/python3.6/site-packages/ipykernel_launcher.py:2: RuntimeWarning: invalid value encountered in true_divide\n",
      "  \n"
     ]
    },
    {
     "data": {
      "text/plain": [
       "(758, 12)"
      ]
     },
     "execution_count": 12,
     "metadata": {},
     "output_type": "execute_result"
    }
   ],
   "source": [
    "row_sums = V_T.sum(axis=1)\n",
    "new_matrix = V_T / row_sums[:, np.newaxis]\n",
    "new_matrix.shape"
   ]
  },
  {
   "cell_type": "code",
   "execution_count": 15,
   "metadata": {},
   "outputs": [
    {
     "data": {
      "image/png": "[encoded data removed]",
      "text/plain": [
       "<matplotlib.figure.Figure at 0x7fb698a7fb70>"
      ]
     },
     "metadata": {},
     "output_type": "display_data"
    }
   ],
   "source": [
    "fig = plt.figure(figsize=(12,8))\n",
    "ax = sns.heatmap(new_matrix)\n",
    "plt.show()"
   ]
  },
  {
   "cell_type": "code",
   "execution_count": 18,
   "metadata": {},
   "outputs": [
    {
     "data": {
      "text/plain": [
       "Counter({0: 337,\n",
       "         1: 4,\n",
       "         2: 4,\n",
       "         3: 14,\n",
       "         4: 20,\n",
       "         5: 7,\n",
       "         6: 9,\n",
       "         7: 202,\n",
       "         8: 6,\n",
       "         9: 93,\n",
       "         10: 3,\n",
       "         11: 59})"
      ]
     },
     "execution_count": 18,
     "metadata": {},
     "output_type": "execute_result"
    }
   ],
   "source": [
    "Counter(np.argmax(V_T, axis=1))"
   ]
  },
  {
   "cell_type": "code",
   "execution_count": 19,
   "metadata": {
    "collapsed": true
   },
   "outputs": [],
   "source": [
    "def print_top_words(model, feature_names, n_top_words):\n",
    "    for topic_idx, topic in enumerate(model.components_):\n",
    "        message = \"Topic #%d: \" % topic_idx\n",
    "        message += \" \".join([feature_names[i]\n",
    "                             for i in topic.argsort()[:-n_top_words - 1:-1]])\n",
    "        print(message)\n",
    "    print()"
   ]
  },
  {
   "cell_type": "code",
   "execution_count": 21,
   "metadata": {
    "scrolled": false
   },
   "outputs": [
    {
     "name": "stdout",
     "output_type": "stream",
     "text": [
      "\n",
      "Topics in NMF model (Frobenius norm):\n",
      "Topic #0: print format elif import tuplex os if time random math decimal quote setupvalues in array_num randint sys binarystring and menuchoice context str1 path from or try\n",
      "Topic #1: startplayer counter board if def else return false print and connect true not while for column elif in format range row win input append item setupgame\n",
      "Topic #2: game return def row player if winner for in game_slices range column print append and true width row_num col_num new_row convert_input_to_coordinate display_game index draw_line display_winner str\n",
      "Topic #3: result_str row column and or range for in else if print col elif win true step square start sys int main nums timer try lower find\n",
      "Topic #4: elif month if else day input year int in and true or false number ast try print isinstance guess break re answer not win lower continue\n",
      "Topic #5: shoppinglist print element menuchoice false nomoreswaps finished item tempitem true def not while temp len if else input exitlist for in elif displaylist append bubblesort newitem\n",
      "Topic #6: hangman word guessedcharacters def chances return print guessed currentguess each setupvalues result in if for input append format else playgame false displayresult setupgame letter len not\n",
      "Topic #7: in for range if append len num import matrix letter print str list text data set current names col line items row join random not li\n",
      "Topic #8: outputstr print character format targetstr if found len else eachchar true input false guesses none while random and for randint startplayer range in letter element def\n",
      "Topic #9: return def count str if print len total result else random while number index elif user_input int title is self values sum str1 randint setupvalues main\n",
      "Topic #10: hexseg denary elif hexnumber print lengthhex element def binarystring placepower int decimalnumber displayinfo len range for input in positionvalue else return addzeros if decimalnumbercopy eachzero year\n",
      "Topic #11: input print each int format float len tempquestionlist append score finished quizquestions questionno question ans else givenanswer if channelschedule answers tempanswer correctanswer while not item quote\n",
      "\n"
     ]
    }
   ],
   "source": [
    "print(\"\\nTopics in NMF model (Frobenius norm):\")\n",
    "tfidf_feature_names = vectorizer.get_feature_names()\n",
    "print_top_words(model, tfidf_feature_names, 26)"
   ]
  }
 ],
 "metadata": {
  "kernelspec": {
   "display_name": "Python 3",
   "language": "python",
   "name": "python3"
  },
  "language_info": {
   "codemirror_mode": {
    "name": "ipython",
    "version": 3
   },
   "file_extension": ".py",
   "mimetype": "text/x-python",
   "name": "python",
   "nbconvert_exporter": "python",
   "pygments_lexer": "ipython3",
   "version": "3.6.2"
  }
 },
 "nbformat": 4,
 "nbformat_minor": 2
}
