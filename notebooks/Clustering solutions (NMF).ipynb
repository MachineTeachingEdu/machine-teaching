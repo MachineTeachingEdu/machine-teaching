{
 "cells": [
  {
   "cell_type": "code",
   "execution_count": 118,
   "metadata": {},
   "outputs": [],
   "source": [
    "# Input\n",
    "# from db import PythonProblems\n",
    "import io\n",
    "\n",
    "#DB\n",
    "from questions.models import Solution, Cluster\n",
    "\n",
    "# Helpers\n",
    "import numpy as np\n",
    "import time\n",
    "from itertools import product\n",
    "from collections import Counter\n",
    "import pandas as pd\n",
    "\n",
    "# Preprocessing\n",
    "import tokenize\n",
    "from sklearn.feature_extraction.text import CountVectorizer, TfidfVectorizer\n",
    "from sklearn.preprocessing import normalize\n",
    "\n",
    "# Learning\n",
    "from sklearn.decomposition import NMF"
   ]
  },
  {
   "cell_type": "code",
   "execution_count": 2,
   "metadata": {},
   "outputs": [
    {
     "data": {
      "text/html": [
       "\n",
       "    <div class=\"bk-root\">\n",
       "        <a href=\"https://bokeh.pydata.org\" target=\"_blank\" class=\"bk-logo bk-logo-small bk-logo-notebook\"></a>\n",
       "        <span id=\"1001\">Loading BokehJS ...</span>\n",
       "    </div>"
      ]
     },
     "metadata": {},
     "output_type": "display_data"
    },
    {
     "data": {
      "application/javascript": [
       "\n",
       "(function(root) {\n",
       "  function now() {\n",
       "    return new Date();\n",
       "  }\n",
       "\n",
       "  var force = true;\n",
       "\n",
       "  if (typeof (root._bokeh_onload_callbacks) === \"undefined\" || force === true) {\n",
       "    root._bokeh_onload_callbacks = [];\n",
       "    root._bokeh_is_loading = undefined;\n",
       "  }\n",
       "\n",
       "  var JS_MIME_TYPE = 'application/javascript';\n",
       "  var HTML_MIME_TYPE = 'text/html';\n",
       "  var EXEC_MIME_TYPE = 'application/vnd.bokehjs_exec.v0+json';\n",
       "  var CLASS_NAME = 'output_bokeh rendered_html';\n",
       "\n",
       "  /**\n",
       "   * Render data to the DOM node\n",
       "   */\n",
       "  function render(props, node) {\n",
       "    var script = document.createElement(\"script\");\n",
       "    node.appendChild(script);\n",
       "  }\n",
       "\n",
       "  /**\n",
       "   * Handle when an output is cleared or removed\n",
       "   */\n",
       "  function handleClearOutput(event, handle) {\n",
       "    var cell = handle.cell;\n",
       "\n",
       "    var id = cell.output_area._bokeh_element_id;\n",
       "    var server_id = cell.output_area._bokeh_server_id;\n",
       "    // Clean up Bokeh references\n",
       "    if (id != null && id in Bokeh.index) {\n",
       "      Bokeh.index[id].model.document.clear();\n",
       "      delete Bokeh.index[id];\n",
       "    }\n",
       "\n",
       "    if (server_id !== undefined) {\n",
       "      // Clean up Bokeh references\n",
       "      var cmd = \"from bokeh.io.state import curstate; print(curstate().uuid_to_server['\" + server_id + \"'].get_sessions()[0].document.roots[0]._id)\";\n",
       "      cell.notebook.kernel.execute(cmd, {\n",
       "        iopub: {\n",
       "          output: function(msg) {\n",
       "            var id = msg.content.text.trim();\n",
       "            if (id in Bokeh.index) {\n",
       "              Bokeh.index[id].model.document.clear();\n",
       "              delete Bokeh.index[id];\n",
       "            }\n",
       "          }\n",
       "        }\n",
       "      });\n",
       "      // Destroy server and session\n",
       "      var cmd = \"import bokeh.io.notebook as ion; ion.destroy_server('\" + server_id + \"')\";\n",
       "      cell.notebook.kernel.execute(cmd);\n",
       "    }\n",
       "  }\n",
       "\n",
       "  /**\n",
       "   * Handle when a new output is added\n",
       "   */\n",
       "  function handleAddOutput(event, handle) {\n",
       "    var output_area = handle.output_area;\n",
       "    var output = handle.output;\n",
       "\n",
       "    // limit handleAddOutput to display_data with EXEC_MIME_TYPE content only\n",
       "    if ((output.output_type != \"display_data\") || (!output.data.hasOwnProperty(EXEC_MIME_TYPE))) {\n",
       "      return\n",
       "    }\n",
       "\n",
       "    var toinsert = output_area.element.find(\".\" + CLASS_NAME.split(' ')[0]);\n",
       "\n",
       "    if (output.metadata[EXEC_MIME_TYPE][\"id\"] !== undefined) {\n",
       "      toinsert[toinsert.length - 1].firstChild.textContent = output.data[JS_MIME_TYPE];\n",
       "      // store reference to embed id on output_area\n",
       "      output_area._bokeh_element_id = output.metadata[EXEC_MIME_TYPE][\"id\"];\n",
       "    }\n",
       "    if (output.metadata[EXEC_MIME_TYPE][\"server_id\"] !== undefined) {\n",
       "      var bk_div = document.createElement(\"div\");\n",
       "      bk_div.innerHTML = output.data[HTML_MIME_TYPE];\n",
       "      var script_attrs = bk_div.children[0].attributes;\n",
       "      for (var i = 0; i < script_attrs.length; i++) {\n",
       "        toinsert[toinsert.length - 1].firstChild.setAttribute(script_attrs[i].name, script_attrs[i].value);\n",
       "      }\n",
       "      // store reference to server id on output_area\n",
       "      output_area._bokeh_server_id = output.metadata[EXEC_MIME_TYPE][\"server_id\"];\n",
       "    }\n",
       "  }\n",
       "\n",
       "  function register_renderer(events, OutputArea) {\n",
       "\n",
       "    function append_mime(data, metadata, element) {\n",
       "      // create a DOM node to render to\n",
       "      var toinsert = this.create_output_subarea(\n",
       "        metadata,\n",
       "        CLASS_NAME,\n",
       "        EXEC_MIME_TYPE\n",
       "      );\n",
       "      this.keyboard_manager.register_events(toinsert);\n",
       "      // Render to node\n",
       "      var props = {data: data, metadata: metadata[EXEC_MIME_TYPE]};\n",
       "      render(props, toinsert[toinsert.length - 1]);\n",
       "      element.append(toinsert);\n",
       "      return toinsert\n",
       "    }\n",
       "\n",
       "    /* Handle when an output is cleared or removed */\n",
       "    events.on('clear_output.CodeCell', handleClearOutput);\n",
       "    events.on('delete.Cell', handleClearOutput);\n",
       "\n",
       "    /* Handle when a new output is added */\n",
       "    events.on('output_added.OutputArea', handleAddOutput);\n",
       "\n",
       "    /**\n",
       "     * Register the mime type and append_mime function with output_area\n",
       "     */\n",
       "    OutputArea.prototype.register_mime_type(EXEC_MIME_TYPE, append_mime, {\n",
       "      /* Is output safe? */\n",
       "      safe: true,\n",
       "      /* Index of renderer in `output_area.display_order` */\n",
       "      index: 0\n",
       "    });\n",
       "  }\n",
       "\n",
       "  // register the mime type if in Jupyter Notebook environment and previously unregistered\n",
       "  if (root.Jupyter !== undefined) {\n",
       "    var events = require('base/js/events');\n",
       "    var OutputArea = require('notebook/js/outputarea').OutputArea;\n",
       "\n",
       "    if (OutputArea.prototype.mime_types().indexOf(EXEC_MIME_TYPE) == -1) {\n",
       "      register_renderer(events, OutputArea);\n",
       "    }\n",
       "  }\n",
       "\n",
       "  \n",
       "  if (typeof (root._bokeh_timeout) === \"undefined\" || force === true) {\n",
       "    root._bokeh_timeout = Date.now() + 5000;\n",
       "    root._bokeh_failed_load = false;\n",
       "  }\n",
       "\n",
       "  var NB_LOAD_WARNING = {'data': {'text/html':\n",
       "     \"<div style='background-color: #fdd'>\\n\"+\n",
       "     \"<p>\\n\"+\n",
       "     \"BokehJS does not appear to have successfully loaded. If loading BokehJS from CDN, this \\n\"+\n",
       "     \"may be due to a slow or bad network connection. Possible fixes:\\n\"+\n",
       "     \"</p>\\n\"+\n",
       "     \"<ul>\\n\"+\n",
       "     \"<li>re-rerun `output_notebook()` to attempt to load from CDN again, or</li>\\n\"+\n",
       "     \"<li>use INLINE resources instead, as so:</li>\\n\"+\n",
       "     \"</ul>\\n\"+\n",
       "     \"<code>\\n\"+\n",
       "     \"from bokeh.resources import INLINE\\n\"+\n",
       "     \"output_notebook(resources=INLINE)\\n\"+\n",
       "     \"</code>\\n\"+\n",
       "     \"</div>\"}};\n",
       "\n",
       "  function display_loaded() {\n",
       "    var el = document.getElementById(\"1001\");\n",
       "    if (el != null) {\n",
       "      el.textContent = \"BokehJS is loading...\";\n",
       "    }\n",
       "    if (root.Bokeh !== undefined) {\n",
       "      if (el != null) {\n",
       "        el.textContent = \"BokehJS \" + root.Bokeh.version + \" successfully loaded.\";\n",
       "      }\n",
       "    } else if (Date.now() < root._bokeh_timeout) {\n",
       "      setTimeout(display_loaded, 100)\n",
       "    }\n",
       "  }\n",
       "\n",
       "\n",
       "  function run_callbacks() {\n",
       "    try {\n",
       "      root._bokeh_onload_callbacks.forEach(function(callback) { callback() });\n",
       "    }\n",
       "    finally {\n",
       "      delete root._bokeh_onload_callbacks\n",
       "    }\n",
       "    console.info(\"Bokeh: all callbacks have finished\");\n",
       "  }\n",
       "\n",
       "  function load_libs(js_urls, callback) {\n",
       "    root._bokeh_onload_callbacks.push(callback);\n",
       "    if (root._bokeh_is_loading > 0) {\n",
       "      console.log(\"Bokeh: BokehJS is being loaded, scheduling callback at\", now());\n",
       "      return null;\n",
       "    }\n",
       "    if (js_urls == null || js_urls.length === 0) {\n",
       "      run_callbacks();\n",
       "      return null;\n",
       "    }\n",
       "    console.log(\"Bokeh: BokehJS not loaded, scheduling load and callback at\", now());\n",
       "    root._bokeh_is_loading = js_urls.length;\n",
       "    for (var i = 0; i < js_urls.length; i++) {\n",
       "      var url = js_urls[i];\n",
       "      var s = document.createElement('script');\n",
       "      s.src = url;\n",
       "      s.async = false;\n",
       "      s.onreadystatechange = s.onload = function() {\n",
       "        root._bokeh_is_loading--;\n",
       "        if (root._bokeh_is_loading === 0) {\n",
       "          console.log(\"Bokeh: all BokehJS libraries loaded\");\n",
       "          run_callbacks()\n",
       "        }\n",
       "      };\n",
       "      s.onerror = function() {\n",
       "        console.warn(\"failed to load library \" + url);\n",
       "      };\n",
       "      console.log(\"Bokeh: injecting script tag for BokehJS library: \", url);\n",
       "      document.getElementsByTagName(\"head\")[0].appendChild(s);\n",
       "    }\n",
       "  };var element = document.getElementById(\"1001\");\n",
       "  if (element == null) {\n",
       "    console.log(\"Bokeh: ERROR: autoload.js configured with elementid '1001' but no matching script tag was found. \")\n",
       "    return false;\n",
       "  }\n",
       "\n",
       "  var js_urls = [\"https://cdn.pydata.org/bokeh/release/bokeh-1.0.1.min.js\", \"https://cdn.pydata.org/bokeh/release/bokeh-widgets-1.0.1.min.js\", \"https://cdn.pydata.org/bokeh/release/bokeh-tables-1.0.1.min.js\", \"https://cdn.pydata.org/bokeh/release/bokeh-gl-1.0.1.min.js\"];\n",
       "\n",
       "  var inline_js = [\n",
       "    function(Bokeh) {\n",
       "      Bokeh.set_log_level(\"info\");\n",
       "    },\n",
       "    \n",
       "    function(Bokeh) {\n",
       "      \n",
       "    },\n",
       "    function(Bokeh) {\n",
       "      console.log(\"Bokeh: injecting CSS: https://cdn.pydata.org/bokeh/release/bokeh-1.0.1.min.css\");\n",
       "      Bokeh.embed.inject_css(\"https://cdn.pydata.org/bokeh/release/bokeh-1.0.1.min.css\");\n",
       "      console.log(\"Bokeh: injecting CSS: https://cdn.pydata.org/bokeh/release/bokeh-widgets-1.0.1.min.css\");\n",
       "      Bokeh.embed.inject_css(\"https://cdn.pydata.org/bokeh/release/bokeh-widgets-1.0.1.min.css\");\n",
       "      console.log(\"Bokeh: injecting CSS: https://cdn.pydata.org/bokeh/release/bokeh-tables-1.0.1.min.css\");\n",
       "      Bokeh.embed.inject_css(\"https://cdn.pydata.org/bokeh/release/bokeh-tables-1.0.1.min.css\");\n",
       "    }\n",
       "  ];\n",
       "\n",
       "  function run_inline_js() {\n",
       "    \n",
       "    if ((root.Bokeh !== undefined) || (force === true)) {\n",
       "      for (var i = 0; i < inline_js.length; i++) {\n",
       "        inline_js[i].call(root, root.Bokeh);\n",
       "      }if (force === true) {\n",
       "        display_loaded();\n",
       "      }} else if (Date.now() < root._bokeh_timeout) {\n",
       "      setTimeout(run_inline_js, 100);\n",
       "    } else if (!root._bokeh_failed_load) {\n",
       "      console.log(\"Bokeh: BokehJS failed to load within specified timeout.\");\n",
       "      root._bokeh_failed_load = true;\n",
       "    } else if (force !== true) {\n",
       "      var cell = $(document.getElementById(\"1001\")).parents('.cell').data().cell;\n",
       "      cell.output_area.append_execute_result(NB_LOAD_WARNING)\n",
       "    }\n",
       "\n",
       "  }\n",
       "\n",
       "  if (root._bokeh_is_loading === 0) {\n",
       "    console.log(\"Bokeh: BokehJS loaded, going straight to plotting\");\n",
       "    run_inline_js();\n",
       "  } else {\n",
       "    load_libs(js_urls, function() {\n",
       "      console.log(\"Bokeh: BokehJS plotting callback run at\", now());\n",
       "      run_inline_js();\n",
       "    });\n",
       "  }\n",
       "}(window));"
      ],
      "application/vnd.bokehjs_load.v0+json": "\n(function(root) {\n  function now() {\n    return new Date();\n  }\n\n  var force = true;\n\n  if (typeof (root._bokeh_onload_callbacks) === \"undefined\" || force === true) {\n    root._bokeh_onload_callbacks = [];\n    root._bokeh_is_loading = undefined;\n  }\n\n  \n\n  \n  if (typeof (root._bokeh_timeout) === \"undefined\" || force === true) {\n    root._bokeh_timeout = Date.now() + 5000;\n    root._bokeh_failed_load = false;\n  }\n\n  var NB_LOAD_WARNING = {'data': {'text/html':\n     \"<div style='background-color: #fdd'>\\n\"+\n     \"<p>\\n\"+\n     \"BokehJS does not appear to have successfully loaded. If loading BokehJS from CDN, this \\n\"+\n     \"may be due to a slow or bad network connection. Possible fixes:\\n\"+\n     \"</p>\\n\"+\n     \"<ul>\\n\"+\n     \"<li>re-rerun `output_notebook()` to attempt to load from CDN again, or</li>\\n\"+\n     \"<li>use INLINE resources instead, as so:</li>\\n\"+\n     \"</ul>\\n\"+\n     \"<code>\\n\"+\n     \"from bokeh.resources import INLINE\\n\"+\n     \"output_notebook(resources=INLINE)\\n\"+\n     \"</code>\\n\"+\n     \"</div>\"}};\n\n  function display_loaded() {\n    var el = document.getElementById(\"1001\");\n    if (el != null) {\n      el.textContent = \"BokehJS is loading...\";\n    }\n    if (root.Bokeh !== undefined) {\n      if (el != null) {\n        el.textContent = \"BokehJS \" + root.Bokeh.version + \" successfully loaded.\";\n      }\n    } else if (Date.now() < root._bokeh_timeout) {\n      setTimeout(display_loaded, 100)\n    }\n  }\n\n\n  function run_callbacks() {\n    try {\n      root._bokeh_onload_callbacks.forEach(function(callback) { callback() });\n    }\n    finally {\n      delete root._bokeh_onload_callbacks\n    }\n    console.info(\"Bokeh: all callbacks have finished\");\n  }\n\n  function load_libs(js_urls, callback) {\n    root._bokeh_onload_callbacks.push(callback);\n    if (root._bokeh_is_loading > 0) {\n      console.log(\"Bokeh: BokehJS is being loaded, scheduling callback at\", now());\n      return null;\n    }\n    if (js_urls == null || js_urls.length === 0) {\n      run_callbacks();\n      return null;\n    }\n    console.log(\"Bokeh: BokehJS not loaded, scheduling load and callback at\", now());\n    root._bokeh_is_loading = js_urls.length;\n    for (var i = 0; i < js_urls.length; i++) {\n      var url = js_urls[i];\n      var s = document.createElement('script');\n      s.src = url;\n      s.async = false;\n      s.onreadystatechange = s.onload = function() {\n        root._bokeh_is_loading--;\n        if (root._bokeh_is_loading === 0) {\n          console.log(\"Bokeh: all BokehJS libraries loaded\");\n          run_callbacks()\n        }\n      };\n      s.onerror = function() {\n        console.warn(\"failed to load library \" + url);\n      };\n      console.log(\"Bokeh: injecting script tag for BokehJS library: \", url);\n      document.getElementsByTagName(\"head\")[0].appendChild(s);\n    }\n  };var element = document.getElementById(\"1001\");\n  if (element == null) {\n    console.log(\"Bokeh: ERROR: autoload.js configured with elementid '1001' but no matching script tag was found. \")\n    return false;\n  }\n\n  var js_urls = [\"https://cdn.pydata.org/bokeh/release/bokeh-1.0.1.min.js\", \"https://cdn.pydata.org/bokeh/release/bokeh-widgets-1.0.1.min.js\", \"https://cdn.pydata.org/bokeh/release/bokeh-tables-1.0.1.min.js\", \"https://cdn.pydata.org/bokeh/release/bokeh-gl-1.0.1.min.js\"];\n\n  var inline_js = [\n    function(Bokeh) {\n      Bokeh.set_log_level(\"info\");\n    },\n    \n    function(Bokeh) {\n      \n    },\n    function(Bokeh) {\n      console.log(\"Bokeh: injecting CSS: https://cdn.pydata.org/bokeh/release/bokeh-1.0.1.min.css\");\n      Bokeh.embed.inject_css(\"https://cdn.pydata.org/bokeh/release/bokeh-1.0.1.min.css\");\n      console.log(\"Bokeh: injecting CSS: https://cdn.pydata.org/bokeh/release/bokeh-widgets-1.0.1.min.css\");\n      Bokeh.embed.inject_css(\"https://cdn.pydata.org/bokeh/release/bokeh-widgets-1.0.1.min.css\");\n      console.log(\"Bokeh: injecting CSS: https://cdn.pydata.org/bokeh/release/bokeh-tables-1.0.1.min.css\");\n      Bokeh.embed.inject_css(\"https://cdn.pydata.org/bokeh/release/bokeh-tables-1.0.1.min.css\");\n    }\n  ];\n\n  function run_inline_js() {\n    \n    if ((root.Bokeh !== undefined) || (force === true)) {\n      for (var i = 0; i < inline_js.length; i++) {\n        inline_js[i].call(root, root.Bokeh);\n      }if (force === true) {\n        display_loaded();\n      }} else if (Date.now() < root._bokeh_timeout) {\n      setTimeout(run_inline_js, 100);\n    } else if (!root._bokeh_failed_load) {\n      console.log(\"Bokeh: BokehJS failed to load within specified timeout.\");\n      root._bokeh_failed_load = true;\n    } else if (force !== true) {\n      var cell = $(document.getElementById(\"1001\")).parents('.cell').data().cell;\n      cell.output_area.append_execute_result(NB_LOAD_WARNING)\n    }\n\n  }\n\n  if (root._bokeh_is_loading === 0) {\n    console.log(\"Bokeh: BokehJS loaded, going straight to plotting\");\n    run_inline_js();\n  } else {\n    load_libs(js_urls, function() {\n      console.log(\"Bokeh: BokehJS plotting callback run at\", now());\n      run_inline_js();\n    });\n  }\n}(window));"
     },
     "metadata": {},
     "output_type": "display_data"
    }
   ],
   "source": [
    "from bokeh.models import ColumnDataSource, HoverTool, TapTool, PanTool, WheelZoomTool, Range1d, LinearAxis\n",
    "from bokeh.io import push_notebook, show, output_notebook\n",
    "from bokeh.layouts import row\n",
    "from bokeh.plotting import figure\n",
    "output_notebook()"
   ]
  },
  {
   "cell_type": "markdown",
   "metadata": {},
   "source": [
    "### Connecting to database"
   ]
  },
  {
   "cell_type": "code",
   "execution_count": 3,
   "metadata": {},
   "outputs": [
    {
     "name": "stdout",
     "output_type": "stream",
     "text": [
      "591\n"
     ]
    },
    {
     "data": {
      "text/plain": [
       "132"
      ]
     },
     "execution_count": 3,
     "metadata": {},
     "output_type": "execute_result"
    }
   ],
   "source": [
    "## Cleaning database\n",
    "last_id = 132\n",
    "problems = Problem.objects.filter(id__gt=132)\n",
    "solutions_obj = Solution.objects.filter(problem__in=problems).update(ignore=True)\n",
    "print(problems.count())\n",
    "problems = Problem.objects.filter(id__lte=132)\n",
    "problems.count()"
   ]
  },
  {
   "cell_type": "code",
   "execution_count": 4,
   "metadata": {},
   "outputs": [
    {
     "data": {
      "text/plain": [
       "54"
      ]
     },
     "execution_count": 4,
     "metadata": {},
     "output_type": "execute_result"
    }
   ],
   "source": [
    "solutions_obj = Solution.objects.filter(problem__in=problems, ignore=False).order_by('id')\n",
    "solutions_obj.count()"
   ]
  },
  {
   "cell_type": "code",
   "execution_count": 5,
   "metadata": {},
   "outputs": [
    {
     "name": "stdout",
     "output_type": "stream",
     "text": [
      "Got 54 documents\n"
     ]
    }
   ],
   "source": [
    "docs_id = []\n",
    "questions = []\n",
    "solutions = []\n",
    "\n",
    "for sol in solutions_obj:\n",
    "    docs_id.append(sol.id)\n",
    "    questions.append(sol.problem.content)\n",
    "    solutions.append(sol.content)\n",
    "\n",
    "print(\"Got %d documents\" %(solutions_obj.count()))"
   ]
  },
  {
   "cell_type": "markdown",
   "metadata": {},
   "source": [
    "***Limitações do parser:***\n",
    "\n",
    "***1. Variável e nome reservado são do mesmo tipo. Não consigo separar sem fazer uma pré-lista. Mas pode ser o critério para ajustar o CountVectorizer***\n",
    "\n",
    "***2. Não é possível processar solução sintaticamente errada. Talvez uma tokenização básica possa ajudar quando esse for o caso e já é uma indicação de que está errado.***"
   ]
  },
  {
   "cell_type": "markdown",
   "metadata": {},
   "source": [
    "### Preprocessing solutions into bag of words ###"
   ]
  },
  {
   "cell_type": "code",
   "execution_count": 6,
   "metadata": {},
   "outputs": [],
   "source": [
    "vectorizer_params = {\n",
    "    \"ngram_range\": (1,3)\n",
    "}\n",
    "\n",
    "removed_itens = ['NEWLINE', 'ENDMARKER', \"NL\", 'COMMENT', 'ERRORTOKEN']\n",
    "allowed_itens = ['NAME', 'OP', 'INDENT', 'DEDENT', 'STRING', 'NUMBER']\n",
    "\n",
    "def python_analyzer(doc):\n",
    "    words = []\n",
    "    not_found = []\n",
    "    vectorizer = CountVectorizer(**vectorizer_params)\n",
    "    file = io.StringIO(doc)\n",
    "    for token in tokenize.generate_tokens(file.readline):\n",
    "        token_type = tokenize.tok_name[token[0]]\n",
    "        \n",
    "        # Redundant conditional to make sure we're getting all the token types\n",
    "        if token_type not in removed_itens:\n",
    "            if token_type in allowed_itens:\n",
    "                # If it's a variable or reserved name, keep it\n",
    "                if token_type == \"NAME\":\n",
    "                    words.append(token[1])\n",
    "                elif token_type == \"INDENT\":\n",
    "                    # Adding indent for all indentations\n",
    "                    words.append(\"is_indent\")\n",
    "                elif token_type == \"DEDENT\":\n",
    "                    # Adding dedent for all indentations\n",
    "                    words.append(\"is_dedent\")\n",
    "                elif token_type == \"STRING\":\n",
    "                    # Adding is_string for every string\n",
    "                    words.append(\"is_string\")\n",
    "                elif token_type == \"NUMBER\":\n",
    "                    # Adding is_number for every number:\n",
    "                    words.append(\"is_number\")\n",
    "                elif token_type == \"OP\":\n",
    "                    # If it's operator, then we'll divide in several types\n",
    "                    lookup = {\n",
    "                        \"+\": \"is_op_arit\",\n",
    "                        \"+=\": \"is_op_arit\",\n",
    "                        \"-\": \"is_op_arit\",\n",
    "                        \"*\": \"is_op_arit\",\n",
    "                        \"**\": \"is_op_arit\",\n",
    "                        \"/\": \"is_op_arit\",\n",
    "                        \"//\": \"is_op_arit\",\n",
    "                        \"%\": \"is_op_arit\",\n",
    "                        \">\": \"is_op_logic\",\n",
    "                        \"<\": \"is_op_logic\",\n",
    "                        \">=\": \"is_op_logic\",\n",
    "                        \"<=\": \"is_op_logic\",\n",
    "                        \"==\": \"is_op_logic\",\n",
    "                        \"-=\": \"is_op_logic\",\n",
    "                        \"!=\": \"is_op_logic\",\n",
    "                        \"[\": \"is_list\",\n",
    "#                         \"]\": \"is_list\",\n",
    "                        \"{\": \"is_dict\",\n",
    "#                         \"}\": \"is_dict\",\n",
    "                        \".\": \"is_class\",\n",
    "                        \"=\": \"is_attribution\",\n",
    "                        \":\": \"is_block\"\n",
    "                    }\n",
    "                    try:\n",
    "                        words.append(lookup[token[1]])\n",
    "                    except KeyError:\n",
    "                        not_found.append(token[1])\n",
    "#     print(\"not found: %s\" % set(not_found))\n",
    "    return vectorizer._word_ngrams(words)"
   ]
  },
  {
   "cell_type": "code",
   "execution_count": 8,
   "metadata": {},
   "outputs": [
    {
     "data": {
      "text/plain": [
       "(54, 44)"
      ]
     },
     "execution_count": 8,
     "metadata": {},
     "output_type": "execute_result"
    }
   ],
   "source": [
    "# Initialize the \"CountVectorizer\" object, which is scikit-learn's\n",
    "# bag of words tool.  \n",
    "vectorizer = TfidfVectorizer(analyzer = python_analyzer,\n",
    "#                              tokenizer = None, \n",
    "#                              preprocessor = None,\n",
    "#                              stop_words = None,\n",
    "#                              stop_words = ['def'],   \\\n",
    "                             #max_features = 26d,\n",
    "                             binary=False,\n",
    "                             min_df=0.2) \n",
    "analyzer = vectorizer.build_analyzer()\n",
    "    \n",
    "# fit_transform() does two functions: First, it fits the model\n",
    "# and learns the vocabulary; second, it transforms our training data\n",
    "# into feature vectors. The input to fit_transform should be a list of \n",
    "# strings.\n",
    "\n",
    "train_data_features = vectorizer.fit_transform(solutions)\n",
    "\n",
    "# Numpy arrays are easy to work with, so convert the result to an \n",
    "# array\n",
    "# Document-term matrix\n",
    "train_data_features = train_data_features.toarray()\n",
    "train_data_features.shape"
   ]
  },
  {
   "cell_type": "markdown",
   "metadata": {},
   "source": [
    "### NCut weights"
   ]
  },
  {
   "cell_type": "code",
   "execution_count": 9,
   "metadata": {},
   "outputs": [],
   "source": [
    "doc_mat_norm = normalize(train_data_features)"
   ]
  },
  {
   "cell_type": "code",
   "execution_count": 10,
   "metadata": {},
   "outputs": [],
   "source": [
    "S = np.dot(doc_mat_norm.T, doc_mat_norm) + 0.001"
   ]
  },
  {
   "cell_type": "code",
   "execution_count": 11,
   "metadata": {},
   "outputs": [
    {
     "data": {
      "text/plain": [
       "(44, 44)"
      ]
     },
     "execution_count": 11,
     "metadata": {},
     "output_type": "execute_result"
    }
   ],
   "source": [
    "S.shape"
   ]
  },
  {
   "cell_type": "code",
   "execution_count": 12,
   "metadata": {},
   "outputs": [],
   "source": [
    "D = np.power(np.sum(S, axis=1), -0.5) * np.eye(S.shape[0])"
   ]
  },
  {
   "cell_type": "code",
   "execution_count": 13,
   "metadata": {},
   "outputs": [
    {
     "data": {
      "text/plain": [
       "(44, 44)"
      ]
     },
     "execution_count": 13,
     "metadata": {},
     "output_type": "execute_result"
    }
   ],
   "source": [
    "D.shape"
   ]
  },
  {
   "cell_type": "code",
   "execution_count": 14,
   "metadata": {},
   "outputs": [],
   "source": [
    "Y = np.dot(D, train_data_features.T)"
   ]
  },
  {
   "cell_type": "code",
   "execution_count": 15,
   "metadata": {},
   "outputs": [
    {
     "data": {
      "text/plain": [
       "(44, 54)"
      ]
     },
     "execution_count": 15,
     "metadata": {},
     "output_type": "execute_result"
    }
   ],
   "source": [
    "Y.shape"
   ]
  },
  {
   "cell_type": "markdown",
   "metadata": {},
   "source": [
    "# Cálculo da NMF"
   ]
  },
  {
   "cell_type": "code",
   "execution_count": 99,
   "metadata": {},
   "outputs": [
    {
     "data": {
      "text/html": [
       "\n",
       "\n",
       "\n",
       "\n",
       "\n",
       "\n",
       "  <div class=\"bk-root\" id=\"529cb332-4147-4f7e-9dc0-884f683f3e51\"></div>\n"
      ]
     },
     "metadata": {},
     "output_type": "display_data"
    },
    {
     "data": {
      "application/javascript": [
       "(function(root) {\n",
       "  function embed_document(root) {\n",
       "    \n",
       "  var docs_json = {\"88a01e3c-e76b-4307-909b-380c5f56c73c\":{\"roots\":{\"references\":[{\"attributes\":{\"below\":[{\"id\":\"1790\",\"type\":\"LinearAxis\"}],\"left\":[{\"id\":\"1795\",\"type\":\"LinearAxis\"}],\"min_border\":0,\"plot_height\":500,\"plot_width\":900,\"renderers\":[{\"id\":\"1790\",\"type\":\"LinearAxis\"},{\"id\":\"1794\",\"type\":\"Grid\"},{\"id\":\"1795\",\"type\":\"LinearAxis\"},{\"id\":\"1799\",\"type\":\"Grid\"},{\"id\":\"1808\",\"type\":\"BoxAnnotation\"},{\"id\":\"1819\",\"type\":\"GlyphRenderer\"},{\"id\":\"1824\",\"type\":\"GlyphRenderer\"}],\"title\":{\"id\":\"1779\",\"type\":\"Title\"},\"toolbar\":{\"id\":\"1806\",\"type\":\"Toolbar\"},\"x_range\":{\"id\":\"1782\",\"type\":\"DataRange1d\"},\"x_scale\":{\"id\":\"1786\",\"type\":\"LinearScale\"},\"y_range\":{\"id\":\"1784\",\"type\":\"DataRange1d\"},\"y_scale\":{\"id\":\"1788\",\"type\":\"LinearScale\"}},\"id\":\"1780\",\"subtype\":\"Figure\",\"type\":\"Plot\"},{\"attributes\":{\"formatter\":{\"id\":\"1878\",\"type\":\"BasicTickFormatter\"},\"plot\":{\"id\":\"1780\",\"subtype\":\"Figure\",\"type\":\"Plot\"},\"ticker\":{\"id\":\"1791\",\"type\":\"BasicTicker\"}},\"id\":\"1790\",\"type\":\"LinearAxis\"},{\"attributes\":{},\"id\":\"1882\",\"type\":\"Selection\"},{\"attributes\":{\"fill_color\":{\"value\":\"white\"},\"line_color\":{\"value\":\"#2222aa\"},\"size\":{\"units\":\"screen\",\"value\":8},\"x\":{\"field\":\"x_values\"},\"y\":{\"field\":\"y_values\"}},\"id\":\"1822\",\"type\":\"Circle\"},{\"attributes\":{},\"id\":\"1791\",\"type\":\"BasicTicker\"},{\"attributes\":{\"fill_alpha\":{\"value\":0.1},\"fill_color\":{\"value\":\"#1f77b4\"},\"line_alpha\":{\"value\":0.1},\"line_color\":{\"value\":\"#1f77b4\"},\"size\":{\"units\":\"screen\",\"value\":8},\"x\":{\"field\":\"x_values\"},\"y\":{\"field\":\"y_values\"}},\"id\":\"1823\",\"type\":\"Circle\"},{\"attributes\":{\"plot\":{\"id\":\"1780\",\"subtype\":\"Figure\",\"type\":\"Plot\"},\"ticker\":{\"id\":\"1791\",\"type\":\"BasicTicker\"}},\"id\":\"1794\",\"type\":\"Grid\"},{\"attributes\":{\"data_source\":{\"id\":\"1778\",\"type\":\"ColumnDataSource\"},\"glyph\":{\"id\":\"1822\",\"type\":\"Circle\"},\"hover_glyph\":null,\"muted_glyph\":null,\"nonselection_glyph\":{\"id\":\"1823\",\"type\":\"Circle\"},\"selection_glyph\":null,\"view\":{\"id\":\"1825\",\"type\":\"CDSView\"}},\"id\":\"1824\",\"type\":\"GlyphRenderer\"},{\"attributes\":{\"formatter\":{\"id\":\"1876\",\"type\":\"BasicTickFormatter\"},\"plot\":{\"id\":\"1780\",\"subtype\":\"Figure\",\"type\":\"Plot\"},\"ticker\":{\"id\":\"1796\",\"type\":\"BasicTicker\"}},\"id\":\"1795\",\"type\":\"LinearAxis\"},{\"attributes\":{\"callback\":null,\"data\":{\"recons\":[],\"x_values\":[],\"y_values\":[]},\"selected\":{\"id\":\"1882\",\"type\":\"Selection\"},\"selection_policy\":{\"id\":\"1881\",\"type\":\"UnionRenderers\"}},\"id\":\"1778\",\"type\":\"ColumnDataSource\"},{\"attributes\":{\"source\":{\"id\":\"1778\",\"type\":\"ColumnDataSource\"}},\"id\":\"1825\",\"type\":\"CDSView\"},{\"attributes\":{},\"id\":\"1796\",\"type\":\"BasicTicker\"},{\"attributes\":{\"dimension\":1,\"plot\":{\"id\":\"1780\",\"subtype\":\"Figure\",\"type\":\"Plot\"},\"ticker\":{\"id\":\"1796\",\"type\":\"BasicTicker\"}},\"id\":\"1799\",\"type\":\"Grid\"},{\"attributes\":{},\"id\":\"1876\",\"type\":\"BasicTickFormatter\"},{\"attributes\":{\"line_alpha\":0.1,\"line_color\":\"#1f77b4\",\"line_width\":2,\"x\":{\"field\":\"x_values\"},\"y\":{\"field\":\"y_values\"}},\"id\":\"1818\",\"type\":\"Line\"},{\"attributes\":{},\"id\":\"1878\",\"type\":\"BasicTickFormatter\"},{\"attributes\":{\"line_color\":\"#2222aa\",\"line_width\":2,\"x\":{\"field\":\"x_values\"},\"y\":{\"field\":\"y_values\"}},\"id\":\"1817\",\"type\":\"Line\"},{\"attributes\":{\"active_drag\":\"auto\",\"active_inspect\":\"auto\",\"active_multi\":null,\"active_scroll\":\"auto\",\"active_tap\":\"auto\",\"tools\":[{\"id\":\"1800\",\"type\":\"PanTool\"},{\"id\":\"1801\",\"type\":\"WheelZoomTool\"},{\"id\":\"1802\",\"type\":\"BoxZoomTool\"},{\"id\":\"1803\",\"type\":\"SaveTool\"},{\"id\":\"1804\",\"type\":\"ResetTool\"},{\"id\":\"1805\",\"type\":\"HelpTool\"},{\"id\":\"1777\",\"type\":\"HoverTool\"}]},\"id\":\"1806\",\"type\":\"Toolbar\"},{\"attributes\":{},\"id\":\"1800\",\"type\":\"PanTool\"},{\"attributes\":{},\"id\":\"1801\",\"type\":\"WheelZoomTool\"},{\"attributes\":{\"plot\":null,\"text\":\"Ncut\"},\"id\":\"1779\",\"type\":\"Title\"},{\"attributes\":{},\"id\":\"1881\",\"type\":\"UnionRenderers\"},{\"attributes\":{\"overlay\":{\"id\":\"1808\",\"type\":\"BoxAnnotation\"}},\"id\":\"1802\",\"type\":\"BoxZoomTool\"},{\"attributes\":{},\"id\":\"1803\",\"type\":\"SaveTool\"},{\"attributes\":{\"callback\":null},\"id\":\"1782\",\"type\":\"DataRange1d\"},{\"attributes\":{},\"id\":\"1804\",\"type\":\"ResetTool\"},{\"attributes\":{},\"id\":\"1805\",\"type\":\"HelpTool\"},{\"attributes\":{},\"id\":\"1786\",\"type\":\"LinearScale\"},{\"attributes\":{\"callback\":null,\"renderers\":\"auto\",\"tooltips\":[[\"(x,y)\",\"($x{0}, $y)\"],[\"reconst\",\"@recons\"]]},\"id\":\"1777\",\"type\":\"HoverTool\"},{\"attributes\":{\"data_source\":{\"id\":\"1778\",\"type\":\"ColumnDataSource\"},\"glyph\":{\"id\":\"1817\",\"type\":\"Line\"},\"hover_glyph\":null,\"muted_glyph\":null,\"nonselection_glyph\":{\"id\":\"1818\",\"type\":\"Line\"},\"selection_glyph\":null,\"view\":{\"id\":\"1820\",\"type\":\"CDSView\"}},\"id\":\"1819\",\"type\":\"GlyphRenderer\"},{\"attributes\":{\"bottom_units\":\"screen\",\"fill_alpha\":{\"value\":0.5},\"fill_color\":{\"value\":\"lightgrey\"},\"left_units\":\"screen\",\"level\":\"overlay\",\"line_alpha\":{\"value\":1.0},\"line_color\":{\"value\":\"black\"},\"line_dash\":[4,4],\"line_width\":{\"value\":2},\"plot\":null,\"render_mode\":\"css\",\"right_units\":\"screen\",\"top_units\":\"screen\"},\"id\":\"1808\",\"type\":\"BoxAnnotation\"},{\"attributes\":{\"callback\":null},\"id\":\"1784\",\"type\":\"DataRange1d\"},{\"attributes\":{\"source\":{\"id\":\"1778\",\"type\":\"ColumnDataSource\"}},\"id\":\"1820\",\"type\":\"CDSView\"},{\"attributes\":{},\"id\":\"1788\",\"type\":\"LinearScale\"}],\"root_ids\":[\"1780\"]},\"title\":\"Bokeh Application\",\"version\":\"1.0.1\"}};\n",
       "  var render_items = [{\"docid\":\"88a01e3c-e76b-4307-909b-380c5f56c73c\",\"notebook_comms_target\":\"1883\",\"roots\":{\"1780\":\"529cb332-4147-4f7e-9dc0-884f683f3e51\"}}];\n",
       "  root.Bokeh.embed.embed_items_notebook(docs_json, render_items);\n",
       "\n",
       "  }\n",
       "  if (root.Bokeh !== undefined) {\n",
       "    embed_document(root);\n",
       "  } else {\n",
       "    var attempts = 0;\n",
       "    var timer = setInterval(function(root) {\n",
       "      if (root.Bokeh !== undefined) {\n",
       "        embed_document(root);\n",
       "        clearInterval(timer);\n",
       "      }\n",
       "      attempts++;\n",
       "      if (attempts > 100) {\n",
       "        console.log(\"Bokeh: ERROR: Unable to run BokehJS code because BokehJS library is missing\");\n",
       "        clearInterval(timer);\n",
       "      }\n",
       "    }, 10, root)\n",
       "  }\n",
       "})(window);"
      ],
      "application/vnd.bokehjs_exec.v0+json": ""
     },
     "metadata": {
      "application/vnd.bokehjs_exec.v0+json": {
       "id": "1780"
      }
     },
     "output_type": "display_data"
    }
   ],
   "source": [
    "hover = HoverTool(tooltips=[\n",
    "#    (\"index\", \"$index\"),\n",
    "    (\"(x,y)\", \"($x{0}, $y)\"),\n",
    "    (\"reconst\", \"@recons\"),\n",
    "])\n",
    "opts = dict(plot_width=250, plot_height=250, min_border=0)\n",
    "models = {}\n",
    "\n",
    "data = {'x_values': [],\n",
    "        'y_values': [],\n",
    "        'recons': []}\n",
    "\n",
    "source = ColumnDataSource(data=data)\n",
    "\n",
    "opts = dict(plot_width=900, plot_height=500, min_border=0, title=\"Ncut\")\n",
    "plot = figure(**opts)\n",
    "plot.add_tools(hover)\n",
    "l = plot.line(x='x_values', y='y_values', color=\"#2222aa\", line_width=2, source=source)\n",
    "c = plot.circle(x='x_values', y='y_values', color=\"#2222aa\", fill_color=\"white\", size=8, source=source)\n",
    "h = show(plot, notebook_handle=True)"
   ]
  },
  {
   "cell_type": "code",
   "execution_count": 77,
   "metadata": {},
   "outputs": [],
   "source": [
    "def edges_sum(cond_1, cond_2, S):\n",
    "    nodes_1 = np.where(cond_1)[0]\n",
    "    nodes_2 = np.where(cond_2)[0]\n",
    "    \n",
    "    # Every (x, y) index that I should get cooccurence value from S matrix\n",
    "    indices = product(nodes_1, nodes_2)\n",
    "    return np.sum(S[idx] for idx in indices)\n",
    "\n",
    "\n",
    "def n_cut(mat_U, mat_S):\n",
    "    \n",
    "    # Each term belongs to which topic?\n",
    "    # I can't make this assumption!!! \n",
    "    term_clusters = mat_U.argmax(axis=1)\n",
    "    \n",
    "    # Number of clusters\n",
    "    n_k = mat_U.shape[1]\n",
    "    \n",
    "    result = 0.0\n",
    "    for idx_k in range(n_k):\n",
    "        \n",
    "        # Check in which cluster the terms come from\n",
    "        cond_g_k = term_clusters == idx_k\n",
    "#         print(cond_g_k)\n",
    "        \n",
    "        # Sum edges between terms inside cluster and terms outside\n",
    "        num = edges_sum(cond_g_k, ~cond_g_k, mat_S)\n",
    "        \n",
    "        # Sum all edges\n",
    "        den = edges_sum(cond_g_k,  cond_g_k, mat_S) + num\n",
    "#         print(\"%s/%s\" % (num,den))\n",
    "        \n",
    "        try:\n",
    "            result += num/den\n",
    "        except ZeroDivisionError:\n",
    "            return 0\n",
    "        \n",
    "    return 0.5 * result"
   ]
  },
  {
   "cell_type": "code",
   "execution_count": 78,
   "metadata": {},
   "outputs": [],
   "source": [
    "num_topics = list(range(2, 14))"
   ]
  },
  {
   "cell_type": "code",
   "execution_count": 114,
   "metadata": {},
   "outputs": [
    {
     "name": "stdout",
     "output_type": "stream",
     "text": [
      "2: 0.006985\n",
      "3: 0.006459\n",
      "4: 0.008505\n",
      "5: 0.008927\n",
      "6: 0.007153\n",
      "7: 0.012867\n",
      "8: 0.007832\n",
      "9: 0.016655\n",
      "10: 0.007513\n",
      "11: 0.007898\n",
      "12: 0.012269\n",
      "13: 0.007729\n"
     ]
    }
   ],
   "source": [
    "#nt = sorted(num_topics[:50])\n",
    "\n",
    "for k in num_topics:\n",
    "    start_time = time.time()\n",
    "    model = NMF(n_components=k)\n",
    "                #, init=\"nndsvda\", max_iter=1000, l1_ratio=0, alpha=1)\n",
    "    document_topic = model.fit_transform(Y.T)\n",
    "    topic_word = model.components_\n",
    "#     print(U_T.T)\n",
    "    n_cut_val = n_cut(topic_word.T, S)\n",
    "#     print(n_cut_val)\n",
    "    \n",
    "    models[k] = {\n",
    "            \"model\": model,\n",
    "            \"topic_word\": topic_word,\n",
    "            \"document_topic\": document_topic,\n",
    "            \"n_cut\": n_cut_val,\n",
    "            \"recons\": [model.reconstruction_err_]\n",
    "        }\n",
    "    \n",
    "    if n_cut_val:\n",
    "\n",
    "        end_time = time.time()\n",
    "\n",
    "        x_values = [k]\n",
    "        y_values = [models[k][\"n_cut\"]/k]\n",
    "        print(\"%d: %f\" %(k, end_time - start_time))\n",
    "\n",
    "        new_data = {'x_values': x_values,\n",
    "                    'y_values': y_values,\n",
    "                    'recons': models[k]['recons']}\n",
    "        source.stream(new_data)\n",
    "        push_notebook(h)"
   ]
  },
  {
   "cell_type": "code",
   "execution_count": 108,
   "metadata": {},
   "outputs": [],
   "source": [
    "model = NMF(n_components=12)#, init=\"nndsvda\", max_iter=1000, l1_ratio=0, alpha=1)\n",
    "V_T = model.fit_transform(train_data_features)\n",
    "U_T = model.components_"
   ]
  },
  {
   "cell_type": "code",
   "execution_count": 109,
   "metadata": {},
   "outputs": [],
   "source": [
    "def coherence_norm(data, tf_idf_norm):\n",
    "    clusters = np.argmax(data['V_T'], axis=1)\n",
    "    n_clusters = data['V_T'].shape[1]\n",
    "    \n",
    "    clusters_norm = []\n",
    "    clusters_size = []\n",
    "    coherence_cluster = []\n",
    "    \n",
    "    for idx_cluster in range(n_clusters):\n",
    "        \n",
    "        cluster_data = tf_idf_norm[clusters == idx_cluster]\n",
    "        avg_vector = np.average(cluster_data, axis=0)\n",
    "        cluster_norm = np.sqrt(np.power(avg_vector, 2).sum())\n",
    "        clusters_norm.append(cluster_norm)\n",
    "        clusters_size.append(cluster_data.shape[0])\n",
    "        \n",
    "        if cluster_data.shape[0] > 3:\n",
    "            coherence_cluster.append(cluster_norm)\n",
    "    \n",
    "    \n",
    "    data['avg_clusters_norm'] = clusters_norm\n",
    "    data['clusters_size'] = clusters_size\n",
    "    data['coherence_norm'] = np.average(clusters_norm)\n",
    "    return np.average(coherence_cluster), np.std(clusters_norm)"
   ]
  },
  {
   "cell_type": "code",
   "execution_count": 110,
   "metadata": {},
   "outputs": [],
   "source": [
    "for key in sorted(models.keys()):\n",
    "    coherence_norm(models[key], doc_mat_norm)"
   ]
  },
  {
   "cell_type": "code",
   "execution_count": 111,
   "metadata": {},
   "outputs": [
    {
     "data": {
      "text/html": [
       "\n",
       "\n",
       "\n",
       "\n",
       "\n",
       "\n",
       "  <div class=\"bk-root\" id=\"2aa129ae-4c02-40b5-88f4-92dd1aad74ca\"></div>\n"
      ]
     },
     "metadata": {},
     "output_type": "display_data"
    },
    {
     "data": {
      "application/javascript": [
       "(function(root) {\n",
       "  function embed_document(root) {\n",
       "    \n",
       "  var docs_json = {\"00586a70-3c2a-46cf-be02-976dd86d4df4\":{\"roots\":{\"references\":[{\"attributes\":{\"below\":[{\"id\":\"2797\",\"type\":\"LinearAxis\"}],\"left\":[{\"id\":\"2802\",\"type\":\"LinearAxis\"}],\"plot_height\":500,\"plot_width\":900,\"renderers\":[{\"id\":\"2797\",\"type\":\"LinearAxis\"},{\"id\":\"2801\",\"type\":\"Grid\"},{\"id\":\"2802\",\"type\":\"LinearAxis\"},{\"id\":\"2806\",\"type\":\"Grid\"},{\"id\":\"2814\",\"type\":\"GlyphRenderer\"}],\"title\":{\"id\":\"2786\",\"type\":\"Title\"},\"toolbar\":{\"id\":\"2807\",\"type\":\"Toolbar\"},\"x_range\":{\"id\":\"2789\",\"type\":\"DataRange1d\"},\"x_scale\":{\"id\":\"2793\",\"type\":\"LinearScale\"},\"y_range\":{\"id\":\"2791\",\"type\":\"DataRange1d\"},\"y_scale\":{\"id\":\"2795\",\"type\":\"LinearScale\"}},\"id\":\"2787\",\"subtype\":\"Figure\",\"type\":\"Plot\"},{\"attributes\":{\"callback\":null,\"renderers\":\"auto\",\"tooltips\":[[\"index\",\"$index\"],[\"(x, y)\",\"($x{0}, $y)\"]]},\"id\":\"2783\",\"type\":\"HoverTool\"},{\"attributes\":{\"line_alpha\":0.1,\"line_color\":\"#1f77b4\",\"line_width\":2,\"x\":{\"field\":\"x\"},\"y\":{\"field\":\"y\"}},\"id\":\"2813\",\"type\":\"Line\"},{\"attributes\":{\"data_source\":{\"id\":\"2811\",\"type\":\"ColumnDataSource\"},\"glyph\":{\"id\":\"2812\",\"type\":\"Line\"},\"hover_glyph\":null,\"muted_glyph\":null,\"nonselection_glyph\":{\"id\":\"2813\",\"type\":\"Line\"},\"selection_glyph\":null,\"view\":{\"id\":\"2815\",\"type\":\"CDSView\"}},\"id\":\"2814\",\"type\":\"GlyphRenderer\"},{\"attributes\":{},\"id\":\"2917\",\"type\":\"BasicTickFormatter\"},{\"attributes\":{\"source\":{\"id\":\"2811\",\"type\":\"ColumnDataSource\"}},\"id\":\"2815\",\"type\":\"CDSView\"},{\"attributes\":{},\"id\":\"2919\",\"type\":\"UnionRenderers\"},{\"attributes\":{\"callback\":null},\"id\":\"2791\",\"type\":\"DataRange1d\"},{\"attributes\":{},\"id\":\"2920\",\"type\":\"Selection\"},{\"attributes\":{},\"id\":\"2803\",\"type\":\"BasicTicker\"},{\"attributes\":{},\"id\":\"2915\",\"type\":\"BasicTickFormatter\"},{\"attributes\":{},\"id\":\"2795\",\"type\":\"LinearScale\"},{\"attributes\":{},\"id\":\"2798\",\"type\":\"BasicTicker\"},{\"attributes\":{},\"id\":\"2784\",\"type\":\"PanTool\"},{\"attributes\":{\"formatter\":{\"id\":\"2915\",\"type\":\"BasicTickFormatter\"},\"plot\":{\"id\":\"2787\",\"subtype\":\"Figure\",\"type\":\"Plot\"},\"ticker\":{\"id\":\"2803\",\"type\":\"BasicTicker\"}},\"id\":\"2802\",\"type\":\"LinearAxis\"},{\"attributes\":{\"callback\":null},\"id\":\"2789\",\"type\":\"DataRange1d\"},{\"attributes\":{},\"id\":\"2793\",\"type\":\"LinearScale\"},{\"attributes\":{\"formatter\":{\"id\":\"2917\",\"type\":\"BasicTickFormatter\"},\"plot\":{\"id\":\"2787\",\"subtype\":\"Figure\",\"type\":\"Plot\"},\"ticker\":{\"id\":\"2798\",\"type\":\"BasicTicker\"}},\"id\":\"2797\",\"type\":\"LinearAxis\"},{\"attributes\":{},\"id\":\"2785\",\"type\":\"WheelZoomTool\"},{\"attributes\":{\"plot\":{\"id\":\"2787\",\"subtype\":\"Figure\",\"type\":\"Plot\"},\"ticker\":{\"id\":\"2798\",\"type\":\"BasicTicker\"}},\"id\":\"2801\",\"type\":\"Grid\"},{\"attributes\":{\"plot\":null,\"text\":\"Ncut vs Coherence\"},\"id\":\"2786\",\"type\":\"Title\"},{\"attributes\":{\"dimension\":1,\"plot\":{\"id\":\"2787\",\"subtype\":\"Figure\",\"type\":\"Plot\"},\"ticker\":{\"id\":\"2803\",\"type\":\"BasicTicker\"}},\"id\":\"2806\",\"type\":\"Grid\"},{\"attributes\":{\"active_drag\":\"auto\",\"active_inspect\":\"auto\",\"active_multi\":null,\"active_scroll\":\"auto\",\"active_tap\":\"auto\",\"tools\":[{\"id\":\"2783\",\"type\":\"HoverTool\"},{\"id\":\"2784\",\"type\":\"PanTool\"},{\"id\":\"2785\",\"type\":\"WheelZoomTool\"}]},\"id\":\"2807\",\"type\":\"Toolbar\"},{\"attributes\":{\"callback\":null,\"data\":{\"x\":[2,3,4,5,6,7,8,9,10,11,12,13],\"y\":[0.747103719470382,0.7863824985946275,0.8073161632585419,0.830371899107675,0.8477462736023389,0.853790168321218,0.867419829667936,0.8686039160891197,0.8780906885852859,0.8920218628474729,0.8919362431081411,0.9058047910829361]},\"selected\":{\"id\":\"2920\",\"type\":\"Selection\"},\"selection_policy\":{\"id\":\"2919\",\"type\":\"UnionRenderers\"}},\"id\":\"2811\",\"type\":\"ColumnDataSource\"},{\"attributes\":{\"line_color\":\"red\",\"line_width\":2,\"x\":{\"field\":\"x\"},\"y\":{\"field\":\"y\"}},\"id\":\"2812\",\"type\":\"Line\"}],\"root_ids\":[\"2787\"]},\"title\":\"Bokeh Application\",\"version\":\"1.0.1\"}};\n",
       "  var render_items = [{\"docid\":\"00586a70-3c2a-46cf-be02-976dd86d4df4\",\"roots\":{\"2787\":\"2aa129ae-4c02-40b5-88f4-92dd1aad74ca\"}}];\n",
       "  root.Bokeh.embed.embed_items_notebook(docs_json, render_items);\n",
       "\n",
       "  }\n",
       "  if (root.Bokeh !== undefined) {\n",
       "    embed_document(root);\n",
       "  } else {\n",
       "    var attempts = 0;\n",
       "    var timer = setInterval(function(root) {\n",
       "      if (root.Bokeh !== undefined) {\n",
       "        embed_document(root);\n",
       "        clearInterval(timer);\n",
       "      }\n",
       "      attempts++;\n",
       "      if (attempts > 100) {\n",
       "        console.log(\"Bokeh: ERROR: Unable to run BokehJS code because BokehJS library is missing\");\n",
       "        clearInterval(timer);\n",
       "      }\n",
       "    }, 10, root)\n",
       "  }\n",
       "})(window);"
      ],
      "application/vnd.bokehjs_exec.v0+json": ""
     },
     "metadata": {
      "application/vnd.bokehjs_exec.v0+json": {
       "id": "2787"
      }
     },
     "output_type": "display_data"
    }
   ],
   "source": [
    "data_x = sorted(models.keys())\n",
    "data_ncut = [models[x][\"n_cut\"]/x for x in data_x]\n",
    "data_coh = [models[x][\"coherence_norm\"] if models[x][\"coherence_norm\"] != np.nan else 0 for x in data_x]\n",
    "\n",
    "hover = HoverTool(\n",
    "        tooltips=[\n",
    "            (\"index\", \"$index\"),\n",
    "            (\"(x, y)\", \"($x{0}, $y)\"),        ]\n",
    "    )\n",
    "\n",
    "\n",
    "plot = figure(title=\"Ncut vs Coherence\", plot_height=500, plot_width=900,\n",
    "    tools=[hover, PanTool(), WheelZoomTool()])\n",
    "\n",
    "# plot.line(data_x, data_ncut, color=\"#2222aa\", line_width=2)\n",
    "#plot.circle(data_x, data_ncut, color=\"#2222aa\", fill_color=\"white\", size=8)\n",
    "\n",
    "# plot.extra_y_ranges = {\"coherence\": Range1d(start=0.0, end=1.0)}\n",
    "# plot.line(data_x, data_coh, line_width=2, color=\"red\", y_range_name=\"coherence\")\n",
    "plot.line(data_x, data_coh, line_width=2, color=\"red\")\n",
    "# plot.add_layout(LinearAxis(y_range_name=\"coherence\"), 'right')\n",
    "\n",
    "show(plot)"
   ]
  },
  {
   "cell_type": "code",
   "execution_count": 83,
   "metadata": {},
   "outputs": [],
   "source": [
    "# Take a look at the words in the vocabulary\n",
    "vocab = vectorizer.get_feature_names()\n",
    "vocab_cell = np.asarray(vocab).astype(object)"
   ]
  },
  {
   "cell_type": "code",
   "execution_count": 84,
   "metadata": {},
   "outputs": [],
   "source": [
    "import matplotlib.pyplot as plt\n",
    "import numpy as np\n",
    "import seaborn as sns"
   ]
  },
  {
   "cell_type": "code",
   "execution_count": 131,
   "metadata": {},
   "outputs": [],
   "source": [
    "# Escolhido tópico k\n",
    "k = 11\n",
    "lda_model = models[k]['model']\n",
    "document_topic = models[k]['document_topic']\n",
    "topic_word = models[k]['topic_word']"
   ]
  },
  {
   "cell_type": "code",
   "execution_count": 132,
   "metadata": {},
   "outputs": [],
   "source": [
    "def normalize_per_row(matrix):\n",
    "    row_sums = matrix.sum(axis=1)\n",
    "    matrix_norm = matrix / row_sums[:, np.newaxis]\n",
    "    return matrix_norm\n",
    "\n",
    "def sort_distribution(df, columns, MIN_PROB=0.3):\n",
    "    ids = []\n",
    "\n",
    "    for col in columns:\n",
    "        ids = ids + df[df[col] > MIN_PROB].sort_values([col], ascending=False).index.tolist()\n",
    "    \n",
    "    for col in columns:\n",
    "        ids = ids + df.sort_values([col], ascending=False).index.tolist()\n",
    "\n",
    "    index = df.loc[ids].index.drop_duplicates()\n",
    "    df_sorted = df.loc[index]\n",
    "    return df_sorted"
   ]
  },
  {
   "cell_type": "code",
   "execution_count": 133,
   "metadata": {},
   "outputs": [],
   "source": [
    "docs_names = docs_id\n",
    "topics = [\"Topic %d\" %d for d in range(1, document_topic.shape[1]+1)]\n",
    "words = vectorizer.get_feature_names()"
   ]
  },
  {
   "cell_type": "code",
   "execution_count": 134,
   "metadata": {},
   "outputs": [],
   "source": [
    "document_topic_norm = normalize_per_row(document_topic)\n",
    "word_topic = topic_word.T\n",
    "word_topic_norm = normalize_per_row(word_topic)"
   ]
  },
  {
   "cell_type": "code",
   "execution_count": 136,
   "metadata": {},
   "outputs": [],
   "source": [
    "document_topic_df = pd.DataFrame(document_topic_norm, index=docs_names, columns=topics)\n",
    "document_topic_df = sort_distribution(document_topic_df, topics, MIN_PROB=0.3)\n",
    "\n",
    "word_topic_df = pd.DataFrame(word_topic_norm, index=words, columns=topics)\n",
    "word_topic_df = sort_distribution(word_topic_df, topics, MIN_PROB=0.3)"
   ]
  },
  {
   "cell_type": "code",
   "execution_count": 137,
   "metadata": {},
   "outputs": [
    {
     "data": {
      "image/png": "[encoded data removed]",
      "text/plain": [
       "<Figure size 864x864 with 4 Axes>"
      ]
     },
     "metadata": {
      "needs_background": "light"
     },
     "output_type": "display_data"
    }
   ],
   "source": [
    "# Create a figure instance, and the two subplots\n",
    "fig = plt.figure(figsize=(12,12))\n",
    "ax1 = fig.add_subplot(211)\n",
    "ax2 = fig.add_subplot(212)\n",
    "# fig, (ax1, ax2) = plt.subplots(2, 1, sharex='col', figsize=(12,12))\n",
    "\n",
    "\n",
    "sns.heatmap(document_topic_df, ax=ax1)\n",
    "ax1.xaxis.tick_top()\n",
    "sns.heatmap(word_topic_df, ax=ax2)\n",
    "\n",
    "plt.show()"
   ]
  },
  {
   "cell_type": "code",
   "execution_count": 138,
   "metadata": {},
   "outputs": [
    {
     "data": {
      "text/plain": [
       "Counter({8: 1, 1: 4, 5: 8, 2: 7, 3: 6, 7: 7, 0: 2, 10: 8, 9: 6, 6: 2, 4: 3})"
      ]
     },
     "execution_count": 138,
     "metadata": {},
     "output_type": "execute_result"
    }
   ],
   "source": [
    "Counter(np.argmax(document_topic, axis=1))"
   ]
  },
  {
   "cell_type": "code",
   "execution_count": 96,
   "metadata": {},
   "outputs": [],
   "source": [
    "def print_top_words(model, feature_names, n_top_words):\n",
    "    for topic_idx, topic in enumerate(model.components_):\n",
    "        message = \"Topic #%d: \" % topic_idx\n",
    "        message += \", \".join([feature_names[i]\n",
    "                             for i in topic.argsort()[:-n_top_words - 1:-1]])\n",
    "        print(message)\n",
    "    print()"
   ]
  },
  {
   "cell_type": "code",
   "execution_count": 97,
   "metadata": {
    "scrolled": false
   },
   "outputs": [
    {
     "name": "stdout",
     "output_type": "stream",
     "text": [
      "\n",
      "Topics in NMF model (Frobenius norm):\n",
      "Topic #0: is_op_logic is_number, is_op_logic is_number is_block, is_number is_block, is_number is_block is_indent, is_number, is_op_logic, if, is_dedent is_dedent, is_indent if, is_block is_indent if, is_number is_op_arit, range, elif, is_dedent elif, is_dedent is_dedent return, is_block is_indent return, is_indent return, is_dedent return, is_op_arit is_number, in range, is_indent, is_dedent, is_block is_indent, else is_block is_indent, for, is_attribution\n",
      "Topic #1: return is_string, is_string, is_indent return, is_block is_indent return, is_block is_indent if, is_indent if, return, is_dedent is_dedent, is_op_logic is_number, is_class, is_op_logic, is_op_arit is_number, elif, is_attribution, is_block is_indent, is_block, is_attribution is_list, def, in range, in, i, for, else is_block is_indent, else is_block, else, if\n",
      "Topic #2: is_block is_indent return, is_indent return, return, def, is_indent, is_dedent, is_block is_indent, is_block, is_op_arit, if, is_dedent is_dedent, in, is_op_logic, for, is_block is_indent if, is_indent if, is_attribution is_list, return is_string, is_attribution, is_class, i, else is_block is_indent, else is_block, else, elif, in range\n",
      "Topic #3: append, is_class append, is_attribution is_list, is_class, is_list, in, is_block is_indent, is_indent, is_dedent, is_block, for, is_attribution, range, is_block is_indent if, is_indent if, def, if, i, is_dedent is_dedent, return is_string, is_dedent is_dedent return, is_dedent else is_block, is_string, elif, else, else is_block\n",
      "Topic #4: is_class, is_string, is_attribution, is_block, def, is_dedent, is_block is_indent, is_indent, return, in, is_op_arit, return is_string, for, is_dedent return, is_number is_op_arit, i, in range, is_attribution is_list, else is_block is_indent, else is_block, else, is_block is_indent if, elif, is_block is_indent return, if, is_dedent else\n",
      "Topic #5: is_dedent else, else, is_dedent else is_block, else is_block is_indent, else is_block, if, is_block, is_dedent is_dedent, is_indent, is_block is_indent, is_dedent, is_block is_indent if, is_indent if, is_op_logic, is_string, is_attribution, is_indent return, is_block is_indent return, is_op_logic is_number is_block, is_op_logic is_number, is_number is_op_arit, i, for, elif, in, in range\n",
      "Topic #6: i, is_dedent return, is_op_arit, in, is_op_arit is_number, is_number is_block is_indent, def, is_number is_block, is_indent, is_block is_indent, is_dedent, return, is_block, in range, is_number, is_block is_indent if, is_indent if, range, is_number is_op_arit, is_attribution is_list, is_attribution, return is_string, if, else is_block is_indent, else is_block, else\n",
      "Topic #7: in range, range, for, in, is_attribution, is_dedent return, is_list, is_dedent, is_indent, is_block is_indent, is_block, is_dedent is_dedent return, is_number, is_dedent is_dedent, is_number is_block is_indent, is_op_arit, is_number is_block, def, return, is_string, is_attribution is_list, i, if, else is_block, else is_block is_indent, else\n",
      "Topic #8: is_number is_dedent, is_op_arit is_number, is_list, is_number, is_op_arit, in, for, is_block, if, is_number is_block is_indent, is_number is_block, is_dedent elif, elif, is_dedent else is_block, is_dedent else, else is_block is_indent, else is_block, else, i, is_block is_indent return, in range, is_attribution, is_attribution is_list, def, is_block is_indent, is_block is_indent if\n",
      "Topic #9: is_number is_op_arit, is_list, is_number, is_op_arit, is_op_arit is_number, is_string, is_dedent return, for, is_attribution is_list, is_dedent is_dedent return, is_block, is_op_logic, in, is_block is_indent, is_indent, is_dedent, def, return, if, is_dedent is_dedent, is_number is_block, is_attribution, in range, else is_block is_indent, elif, else\n",
      "Topic #10: elif, is_dedent elif, is_string, is_op_logic, is_block is_indent, is_indent, is_dedent, is_block, is_number is_dedent, is_number, is_dedent return, is_attribution is_list, is_attribution, is_dedent is_dedent return, is_dedent else is_block, is_dedent else, else is_block is_indent, else is_block, else, is_op_logic is_number is_block, in, return, in range, is_block is_indent if, i, for\n",
      "Topic #11: is_dedent is_dedent return, is_indent if, is_block is_indent if, is_dedent is_dedent, if, is_dedent return, for, is_block is_indent, is_dedent, is_indent, in, is_block, is_op_logic, return, def, is_attribution, is_op_arit is_number, is_class append, append, is_list, i, is_attribution is_list, else is_block is_indent, else is_block, else, elif\n",
      "Topic #12: is_attribution, is_op_arit, is_op_arit is_number, is_number, def, is_block is_indent, is_indent, is_dedent, return, is_block, is_number is_block, is_number is_block is_indent, is_string, is_number is_op_arit, is_dedent return, range, in, is_attribution is_list, in range, return is_string, if, i, for, is_block is_indent if, else is_block, else\n",
      "\n"
     ]
    }
   ],
   "source": [
    "print(\"\\nTopics in NMF model (Frobenius norm):\")\n",
    "tfidf_feature_names = vectorizer.get_feature_names()\n",
    "print_top_words(model, tfidf_feature_names, 26)"
   ]
  }
 ],
 "metadata": {
  "kernelspec": {
   "display_name": "Django Shell-Plus",
   "language": "python",
   "name": "django_extensions"
  },
  "language_info": {
   "codemirror_mode": {
    "name": "ipython",
    "version": 3
   },
   "file_extension": ".py",
   "mimetype": "text/x-python",
   "name": "python",
   "nbconvert_exporter": "python",
   "pygments_lexer": "ipython3",
   "version": "3.6.2"
  }
 },
 "nbformat": 4,
 "nbformat_minor": 2
}
