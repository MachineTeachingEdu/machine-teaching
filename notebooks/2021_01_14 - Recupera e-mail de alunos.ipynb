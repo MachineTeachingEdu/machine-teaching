{
 "cells": [
  {
   "cell_type": "code",
   "execution_count": 6,
   "metadata": {},
   "outputs": [
    {
     "data": {
      "text/plain": [
       "14"
      ]
     },
     "execution_count": 6,
     "metadata": {},
     "output_type": "execute_result"
    }
   ],
   "source": [
    "from datetime import datetime\n",
    "not_valid = ['Vídeo', 'Sem turma', 'Turma aberta']\n",
    "# onlineclasses = OnlineClass.objects.exclude(name__in=not_valid)\n",
    "data_inicio = datetime.strptime('22/03/2021 00:00:00', '%d/%m/%Y %H:%M:%S')\n",
    "\n",
    "onlineclasses = OnlineClass.objects.filter(active=True, start_date__gte=data_inicio).exclude(name__in=not_valid)\n",
    "onlineclasses.count()"
   ]
  },
  {
   "cell_type": "code",
   "execution_count": 7,
   "metadata": {},
   "outputs": [
    {
     "data": {
      "text/plain": [
       "<QuerySet [(360,), (658,), (655,), (600,), (373,), (367,), (366,), (365,), (364,), (363,), (362,), (361,), (696,), (1349,), (701,), (709,), (522,), (694,), (704,), (702,), '...(remaining elements truncated)...']>"
      ]
     },
     "execution_count": 7,
     "metadata": {},
     "output_type": "execute_result"
    }
   ],
   "source": [
    "professors = Professor.objects.all().values_list('user')\n",
    "professors"
   ]
  },
  {
   "cell_type": "code",
   "execution_count": 8,
   "metadata": {},
   "outputs": [
    {
     "data": {
      "text/plain": [
       "<QuerySet [('pcpaulino17@gmail.com', 'Paulo Cezar Da', 'Paulino'), ('danielbizarro@poli.ufrj.br', 'DANIEL', 'BIZARRO DE OLIVEIRA'), ('luisa.vitorino@poli.ufrj.br', 'Luisa', 'Vitorino'), ('matheus_giraldez@poli.ufrj.br', 'Matheus', 'Miranda'), ('francisco2fferreira@poli.ufrj.br', 'Francisco', 'Oliveira'), ('pietrobaldo@poli.ufrj.br', 'Pietro', 'Baldo Albuquerque'), ('larissahignez@poli.ufrj.br', 'Larissa', 'da Silva Ignez'), ('pedro_santos@poli.ufrj.br', 'Pedro', 'Santos'), ('carlosnascx@poli.ufrj.br', 'Carlos', 'Nascimento'), ('mmzeferino@poli.ufrj.br', 'Marcelo', 'Zeferino'), ('victorhugo.m.moura@poli.ufrj.br', 'Victor Hugo', 'Moura'), ('th_zinho07@poli.ufrj.br', 'Thiago', 'Coutinho'), ('dalmeidamat@poli.ufrj.br', 'Mateus', \"d'Almeida\"), ('phguedes@poli.ufrj.br', 'Pedro Henrique', 'Guedes'), ('leylqndylima@poli.ufrj.br', 'leylandy', 'lima'), ('lucas.ferreira.melick@poli.ufrj.br', 'Lucas', 'Melick'), ('fellipe-santana@hotmail.com', 'Felipe', 'Santana'), ('victor.quintanilha@poli.ufrj.br', 'Victor', 'Quintanilha'), ('joaoaugustodejesussarno@poli.ufrj.br', 'João Augusto', 'de Jesus Sarno'), ('gabrieldszavoli@poli.ufrj.br', 'Gabriel', 'Zavoli'), '...(remaining elements truncated)...']>"
      ]
     },
     "execution_count": 8,
     "metadata": {},
     "output_type": "execute_result"
    }
   ],
   "source": [
    "userprofile = UserProfile.objects.filter(user_class__in=onlineclasses).exclude(user__in=professors).values_list(\n",
    "    'user__email', 'user__first_name', 'user__last_name')\n",
    "userprofile"
   ]
  },
  {
   "cell_type": "code",
   "execution_count": 9,
   "metadata": {},
   "outputs": [],
   "source": [
    "import csv"
   ]
  },
  {
   "cell_type": "code",
   "execution_count": 10,
   "metadata": {},
   "outputs": [],
   "source": [
    "with open('contacts.csv', 'w') as csvfile:\n",
    "    writer = csv.writer(csvfile, delimiter=',',)\n",
    "    writer.writerow(['email', 'first_name', 'last_name', 'address_line_1', \n",
    "                     'address_line_2', 'city', 'state_province_region', \n",
    "                     'postal_code', 'country'])\n",
    "    for row in userprofile:\n",
    "        writer.writerow(list(row) + ['']*6)"
   ]
  }
 ],
 "metadata": {
  "kernelspec": {
   "display_name": "Django Shell-Plus",
   "language": "python",
   "name": "django_extensions"
  },
  "language_info": {
   "codemirror_mode": {
    "name": "ipython",
    "version": 3
   },
   "file_extension": ".py",
   "mimetype": "text/x-python",
   "name": "python",
   "nbconvert_exporter": "python",
   "pygments_lexer": "ipython3",
   "version": "3.8.5"
  }
 },
 "nbformat": 4,
 "nbformat_minor": 4
}
