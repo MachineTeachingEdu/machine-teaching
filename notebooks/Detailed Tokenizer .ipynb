{
 "cells": [
  {
   "cell_type": "code",
   "execution_count": 36,
   "metadata": {
    "collapsed": true
   },
   "outputs": [],
   "source": [
    "#DB\n",
    "from questions.models import Solution, Cluster\n",
    "\n",
    "# Helpers\n",
    "import numpy as np\n",
    "import pandas as pd\n",
    "\n",
    "# Preprocessing\n",
    "from analyzer import python_analyzer\n",
    "from sklearn.feature_extraction.text import CountVectorizer"
   ]
  },
  {
   "cell_type": "code",
   "execution_count": 2,
   "metadata": {},
   "outputs": [
    {
     "name": "stdout",
     "output_type": "stream",
     "text": [
      "Problems to be ignored: 591\n",
      "Problems to be used: 132\n",
      "Solutions to be used: 54\n",
      "Got 54 documents\n"
     ]
    }
   ],
   "source": [
    "## Cleaning database\n",
    "last_id = 132\n",
    "problems = Problem.objects.filter(id__gt=last_id)\n",
    "solutions_obj = Solution.objects.filter(problem__in=problems).update(ignore=True)\n",
    "print(\"Problems to be ignored: %d\" % problems.count())\n",
    "\n",
    "problems = Problem.objects.filter(id__lte=last_id)\n",
    "# problems = Problem.objects.all()\n",
    "print(\"Problems to be used: %d\" % problems.count())\n",
    "\n",
    "solutions_obj = Solution.objects.filter(problem__in=problems, ignore=False).order_by('id')\n",
    "# solutions_obj = Solution.objects.all().order_by('id')\n",
    "print(\"Solutions to be used: %d\" % solutions_obj.count())\n",
    "\n",
    "docs_id = []\n",
    "questions = []\n",
    "solutions = []\n",
    "\n",
    "# Fill separated structures\n",
    "for sol in solutions_obj:\n",
    "    docs_id.append(sol.id)\n",
    "    questions.append(sol.problem.content)\n",
    "    solutions.append(sol.content)\n",
    "\n",
    "print(\"Got %d documents\" %(solutions_obj.count()))"
   ]
  },
  {
   "cell_type": "code",
   "execution_count": 5,
   "metadata": {},
   "outputs": [],
   "source": [
    "vectorizer = CountVectorizer(analyzer = python_analyzer)\n",
    "analyzer = vectorizer.build_analyzer()"
   ]
  },
  {
   "cell_type": "code",
   "execution_count": 6,
   "metadata": {
    "collapsed": true
   },
   "outputs": [],
   "source": [
    "tokens = []\n",
    "len_tokens = []\n",
    "for doc in solutions:\n",
    "    doc_tokens = analyzer(doc)\n",
    "    tokens.append(doc_tokens)\n",
    "    len_tokens.append(len(doc_tokens))"
   ]
  },
  {
   "cell_type": "code",
   "execution_count": 7,
   "metadata": {},
   "outputs": [
    {
     "name": "stderr",
     "output_type": "stream",
     "text": [
      "/home/lmoraes/miniconda3/envs/machine_teaching/lib/python3.6/site-packages/matplotlib/font_manager.py:232: UserWarning: Matplotlib is building the font cache using fc-list. This may take a moment.\n",
      "  'Matplotlib is building the font cache using fc-list. '\n"
     ]
    },
    {
     "data": {
      "image/png": "[encoded data removed]",
      "text/plain": [
       "<Figure size 432x288 with 1 Axes>"
      ]
     },
     "metadata": {},
     "output_type": "display_data"
    }
   ],
   "source": [
    "import matplotlib.pyplot as plt\n",
    "plt.hist(len_tokens)\n",
    "plt.show()"
   ]
  },
  {
   "cell_type": "code",
   "execution_count": 10,
   "metadata": {
    "scrolled": true
   },
   "outputs": [
    {
     "name": "stdout",
     "output_type": "stream",
     "text": [
      "7\n",
      "def lessthan5(num_list):\r\n",
      "    new_list = []\r\n",
      "    for item in num_list:\r\n",
      "        if item < 5:\r\n",
      "            new_list.append(item)\r\n",
      "\r\n",
      "    return new_list\n",
      "8\n",
      "def divisors(num):\r\n",
      "    listRange = list(range(1,num+1))\r\n",
      "    divisorList = []\r\n",
      "\r\n",
      "    for number in listRange:\r\n",
      "        if num % number == 0:\r\n",
      "            divisorList.append(number)\r\n",
      "\r\n",
      "    return divisorList\n",
      "9\n",
      "def common(list1, list2):\r\n",
      "    common_list = []\r\n",
      "    for i in list1:\r\n",
      "        if i in list2 and i not in common_list:\r\n",
      "            common_list.append(i)\r\n",
      "\r\n",
      "    common_list.sort()\r\n",
      "    return common_list\n",
      "10\n",
      "def palindrome(word):\r\n",
      "    rvs = word[::-1]\r\n",
      "    if word == rvs:\r\n",
      "        return True\r\n",
      "    else:\r\n",
      "        return False\n",
      "11\n",
      "def reverse(word):\r\n",
      "    x = ''\r\n",
      "    for i in range(len(word)):\r\n",
      "        x += word[len(word)-1-i]\r\n",
      "    return x == word\n",
      "15\n",
      "def dedupe(dup_list):\r\n",
      "    nodup_list = []\r\n",
      "    for i in dup_list:\r\n",
      "        if i not in nodup_list:\r\n",
      "            nodup_list.append(i)\r\n",
      "    return nodup_list\n",
      "18\n",
      "def score(team_one, team_two):\r\n",
      "    if team_one > team_two:\r\n",
      "        return \"Team One scores 3 points and Team Two scores 0 points.\"\r\n",
      "    elif team_one < team_two:\r\n",
      "        return \"Team Two scores 3 points and Team One scores 0 points.\"\r\n",
      "    else:   #Game must be a draw if the previous two if statements are false\r\n",
      "        return \"Both Team One and Team Two score 1 point.\"\n",
      "19\n",
      "def averaging(number_list):\n",
      "    runningTotal = 0\n",
      "    numberOfnumbers = len(number_list)\n",
      "    # don't forget to initialise the running total before you start\n",
      "    for count in range(numberOfnumbers):\n",
      "        nextNumber = number_list[count]\n",
      "        runningTotal = runningTotal + nextNumber\n",
      "    average = runningTotal/numberOfnumbers\n",
      "    return average\n",
      "\n",
      "22\n",
      "def days_in_month(month):\n",
      "    if month == 2:\n",
      "        return 28\n",
      "    elif month in (4,6,9,11):\n",
      "        return 30\n",
      "    elif month in (1,3,5,7,8,10, 12):\n",
      "        return 31\n",
      "\n",
      "23\n",
      "def light(switchA, switchB):\r\n",
      "    if switchA == 1 and switchB == 1:\r\n",
      "        return True\r\n",
      "    else:\r\n",
      "        return False\n",
      "26\n",
      "def search(targetStr, character):\r\n",
      "    found = False\r\n",
      "    for eachChar in targetStr:\r\n",
      "        if eachChar == character:\r\n",
      "            found = True\r\n",
      "    if not found:\r\n",
      "        return False\r\n",
      "    else:\r\n",
      "        return True\n",
      "33\n",
      "def divisible():\n",
      "    l=[]\n",
      "    for i in range(2000, 3201):\n",
      "        if (i%7==0) and (i%5!=0):\n",
      "            l.append(i)\n",
      "    return l\n",
      "\n",
      "\n",
      "34\n",
      "def fatorial(number):\n",
      "    total = 1\n",
      "\n",
      "    for i in range(number, 1, -1):\n",
      "        total = total * i\n",
      "    \n",
      "    return total        \n",
      "\n",
      "35\n",
      "def square(number):\r\n",
      "    d=dict()\r\n",
      "    for i in range(1,number+1):\r\n",
      "        d[i]=i*i\r\n",
      "    return d\n",
      "36\n",
      "def formula(D):\r\n",
      "    # So it works using eval\r\n",
      "    import math\r\n",
      "    C = 50\r\n",
      "    H = 30\r\n",
      "    Q = round(math.sqrt(2*C*D/float(H)))\r\n",
      "    return Q\n",
      "38\n",
      "# Complete your function using this header\r\n",
      "def create_matrix(X, Y):\r\n",
      "    matrix = []\r\n",
      "    for i in range(X):\r\n",
      "        row = []\r\n",
      "        for j in range(Y):\r\n",
      "            row.append(i*j)\r\n",
      "        matrix.append(row)\r\n",
      "    return matrix\n",
      "40\n",
      "def sort_dedupe(words):\n",
      "    items = words.split(' ')\n",
      "    items_dedupe = []\n",
      "    for word in items:\n",
      "        if word not in items_dedupe:\n",
      "            items_dedupe.append(word)\n",
      "    items_dedupe.sort()\n",
      "    return \" \".join(items_dedupe)\n",
      "\n",
      "47\n",
      "# Complete your function using this header\r\n",
      "def digit_sum(digit):\r\n",
      "    total = 0\r\n",
      "    for i in range(1,5):\r\n",
      "        number = \"%s\" % digit\r\n",
      "        number = int(number * i)\r\n",
      "        total = total + number\r\n",
      "    return total\n",
      "48\n",
      "def amount(transaction_list):\n",
      "    total = 0\n",
      "    for item in transaction_list:\n",
      "        op, value = item\n",
      "        if op == 'D':\n",
      "            total += value\n",
      "        elif op == 'W':\n",
      "            total -= value\n",
      "    return total\n",
      "\n",
      "49\n",
      "# Complete your function using this header\r\n",
      "def amount(transaction_list):\r\n",
      "    op = {\"D\": 1, \"W\": -1}\r\n",
      "    values = [op[item[0]]*item[1] for item in transaction_list]\r\n",
      "    return sum(values)\n",
      "52\n",
      "def word_freq(sentence):\r\n",
      "    freq = {}   # frequency of words in text\r\n",
      "    for word in sentence.split():\r\n",
      "        freq[word] = freq.get(word,0)+1\r\n",
      "\r\n",
      "    return freq\n"
     ]
    }
   ],
   "source": [
    "idx = [i for i, doc_tokens_len in enumerate(len_tokens) if doc_tokens_len >=75 and doc_tokens_len <= 125]\n",
    "for i in idx:\n",
    "    print(i)\n",
    "    print(solutions[i])"
   ]
  },
  {
   "cell_type": "code",
   "execution_count": 16,
   "metadata": {},
   "outputs": [
    {
     "name": "stdout",
     "output_type": "stream",
     "text": [
      "def light(switchA, switchB):\r\n",
      "    if switchA == 1 and switchB == 1:\r\n",
      "        return True\r\n",
      "    else:\r\n",
      "        return False\n",
      "75\n",
      "['def', 'light', 'switchA', 'switchB', 'is_block', 'is_indent', 'if', 'switchA', 'is_op_logic', 'is_number', 'and', 'switchB', 'is_op_logic', 'is_number', 'is_block', 'is_indent', 'return', 'True', 'is_dedent', 'else', 'is_block', 'is_indent', 'return', 'False', 'is_dedent', 'is_dedent', 'def light', 'light switchA', 'switchA switchB', 'switchB is_block', 'is_block is_indent', 'is_indent if', 'if switchA', 'switchA is_op_logic', 'is_op_logic is_number', 'is_number and', 'and switchB', 'switchB is_op_logic', 'is_op_logic is_number', 'is_number is_block', 'is_block is_indent', 'is_indent return', 'return True', 'True is_dedent', 'is_dedent else', 'else is_block', 'is_block is_indent', 'is_indent return', 'return False', 'False is_dedent', 'is_dedent is_dedent', 'def light switchA', 'light switchA switchB', 'switchA switchB is_block', 'switchB is_block is_indent', 'is_block is_indent if', 'is_indent if switchA', 'if switchA is_op_logic', 'switchA is_op_logic is_number', 'is_op_logic is_number and', 'is_number and switchB', 'and switchB is_op_logic', 'switchB is_op_logic is_number', 'is_op_logic is_number is_block', 'is_number is_block is_indent', 'is_block is_indent return', 'is_indent return True', 'return True is_dedent', 'True is_dedent else', 'is_dedent else is_block', 'else is_block is_indent', 'is_block is_indent return', 'is_indent return False', 'return False is_dedent', 'False is_dedent is_dedent']\n"
     ]
    }
   ],
   "source": [
    "N = 23\n",
    "print(solutions[N])\n",
    "print(len_tokens[N])\n",
    "print(tokens[N])"
   ]
  },
  {
   "cell_type": "code",
   "execution_count": 17,
   "metadata": {},
   "outputs": [
    {
     "name": "stdout",
     "output_type": "stream",
     "text": [
      "def fatorial(number):\n",
      "    total = 1\n",
      "\n",
      "    for i in range(number, 1, -1):\n",
      "        total = total * i\n",
      "    \n",
      "    return total        \n",
      "\n",
      "78\n",
      "['def', 'fatorial', 'number', 'is_block', 'is_indent', 'total', 'is_attribution', 'is_number', 'for', 'i', 'in', 'range', 'number', 'is_number', 'is_op_arit', 'is_number', 'is_block', 'is_indent', 'total', 'is_attribution', 'total', 'is_op_arit', 'i', 'is_dedent', 'return', 'total', 'is_dedent', 'def fatorial', 'fatorial number', 'number is_block', 'is_block is_indent', 'is_indent total', 'total is_attribution', 'is_attribution is_number', 'is_number for', 'for i', 'i in', 'in range', 'range number', 'number is_number', 'is_number is_op_arit', 'is_op_arit is_number', 'is_number is_block', 'is_block is_indent', 'is_indent total', 'total is_attribution', 'is_attribution total', 'total is_op_arit', 'is_op_arit i', 'i is_dedent', 'is_dedent return', 'return total', 'total is_dedent', 'def fatorial number', 'fatorial number is_block', 'number is_block is_indent', 'is_block is_indent total', 'is_indent total is_attribution', 'total is_attribution is_number', 'is_attribution is_number for', 'is_number for i', 'for i in', 'i in range', 'in range number', 'range number is_number', 'number is_number is_op_arit', 'is_number is_op_arit is_number', 'is_op_arit is_number is_block', 'is_number is_block is_indent', 'is_block is_indent total', 'is_indent total is_attribution', 'total is_attribution total', 'is_attribution total is_op_arit', 'total is_op_arit i', 'is_op_arit i is_dedent', 'i is_dedent return', 'is_dedent return total', 'return total is_dedent']\n"
     ]
    }
   ],
   "source": [
    "N = 34\n",
    "print(solutions[N])\n",
    "print(len_tokens[N])\n",
    "print(tokens[N])"
   ]
  },
  {
   "cell_type": "code",
   "execution_count": 18,
   "metadata": {},
   "outputs": [
    {
     "name": "stdout",
     "output_type": "stream",
     "text": [
      "def lessthan5(num_list):\r\n",
      "    new_list = []\r\n",
      "    for item in num_list:\r\n",
      "        if item < 5:\r\n",
      "            new_list.append(item)\r\n",
      "\r\n",
      "    return new_list\n",
      "84\n",
      "['def', 'lessthan5', 'num_list', 'is_block', 'is_indent', 'new_list', 'is_attribution', 'is_list', 'for', 'item', 'in', 'num_list', 'is_block', 'is_indent', 'if', 'item', 'is_op_logic', 'is_number', 'is_block', 'is_indent', 'new_list', 'is_class', 'append', 'item', 'is_dedent', 'is_dedent', 'return', 'new_list', 'is_dedent', 'def lessthan5', 'lessthan5 num_list', 'num_list is_block', 'is_block is_indent', 'is_indent new_list', 'new_list is_attribution', 'is_attribution is_list', 'is_list for', 'for item', 'item in', 'in num_list', 'num_list is_block', 'is_block is_indent', 'is_indent if', 'if item', 'item is_op_logic', 'is_op_logic is_number', 'is_number is_block', 'is_block is_indent', 'is_indent new_list', 'new_list is_class', 'is_class append', 'append item', 'item is_dedent', 'is_dedent is_dedent', 'is_dedent return', 'return new_list', 'new_list is_dedent', 'def lessthan5 num_list', 'lessthan5 num_list is_block', 'num_list is_block is_indent', 'is_block is_indent new_list', 'is_indent new_list is_attribution', 'new_list is_attribution is_list', 'is_attribution is_list for', 'is_list for item', 'for item in', 'item in num_list', 'in num_list is_block', 'num_list is_block is_indent', 'is_block is_indent if', 'is_indent if item', 'if item is_op_logic', 'item is_op_logic is_number', 'is_op_logic is_number is_block', 'is_number is_block is_indent', 'is_block is_indent new_list', 'is_indent new_list is_class', 'new_list is_class append', 'is_class append item', 'append item is_dedent', 'item is_dedent is_dedent', 'is_dedent is_dedent return', 'is_dedent return new_list', 'return new_list is_dedent']\n"
     ]
    }
   ],
   "source": [
    "N = 7\n",
    "print(solutions[N])\n",
    "print(len_tokens[N])\n",
    "print(tokens[N])"
   ]
  },
  {
   "cell_type": "code",
   "execution_count": 46,
   "metadata": {},
   "outputs": [],
   "source": [
    "solutions_idx = [23,7]\n",
    "docs = [solutions[i] for i in solutions_idx]\n",
    "train_data_features = vectorizer.fit_transform(docs)\n",
    "train_data_features = train_data_features.toarray()\n",
    "b = np.sum(train_data_features, axis=0)\n",
    "idx = b.argsort()[::-1]\n",
    "train_data_features = train_data_features[:,idx]\n",
    "columns = np.asarray(vectorizer.get_feature_names())[idx]"
   ]
  },
  {
   "cell_type": "code",
   "execution_count": 67,
   "metadata": {},
   "outputs": [
    {
     "name": "stdout",
     "output_type": "stream",
     "text": [
      "10\n",
      "(2, 10)\n"
     ]
    }
   ],
   "source": [
    "n_terms_begin = 0\n",
    "n_terms_end = n_terms_begin+100\n",
    "df = pd.DataFrame(train_data_features[:,n_terms_begin:n_terms_end], columns=columns[n_terms_begin:n_terms_end])\n",
    "cols = [\"is_number\", \"is_op_logic\", \"if\", \"append\", \"is_attribution\",\"for\", \"is_list\", \n",
    "        \"is_op_logic is_number\", \"is_attribution is_list\", \"is_attribution is_list for\"]\n",
    "print(len(cols))\n",
    "print(df.filter(items=cols).shape)\n",
    "df.filter(items=cols).T.to_csv(\"tokenizer_example.csv\")\n",
    "# df"
   ]
  }
 ],
 "metadata": {
  "kernelspec": {
   "display_name": "Django Shell-Plus",
   "language": "python",
   "name": "django_extensions"
  },
  "language_info": {
   "codemirror_mode": {
    "name": "ipython",
    "version": 3
   },
   "file_extension": ".py",
   "mimetype": "text/x-python",
   "name": "python",
   "nbconvert_exporter": "python",
   "pygments_lexer": "ipython3",
   "version": "3.6.2"
  }
 },
 "nbformat": 4,
 "nbformat_minor": 2
}
