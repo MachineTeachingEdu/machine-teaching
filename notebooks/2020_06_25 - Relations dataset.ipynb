{
 "cells": [
  {
   "cell_type": "code",
   "execution_count": 1,
   "metadata": {},
   "outputs": [],
   "source": [
    "import pickle\n",
    "import json\n",
    "import numpy as np\n",
    "from collections import defaultdict\n",
    "import warnings\n",
    "\n",
    "#DB\n",
    "from django.db.models import Case, IntegerField, Value"
   ]
  },
  {
   "cell_type": "code",
   "execution_count": 2,
   "metadata": {},
   "outputs": [],
   "source": [
    "folder = \"data/relations/\""
   ]
  },
  {
   "cell_type": "markdown",
   "metadata": {},
   "source": [
    "### Dataset 1: Students x Questions (Avg(attempts))\n",
    "Students from the random/EER experiment with 48 different problems\n",
    "\n",
    "#### Escolhas de modelagem\n",
    "- Skip não está contando nem como tentativa\n",
    "- Número de tentativas em uma questão para tirar a média: todas, 1, 2, 3?"
   ]
  },
  {
   "cell_type": "code",
   "execution_count": 3,
   "metadata": {},
   "outputs": [
    {
     "name": "stdout",
     "output_type": "stream",
     "text": [
      "Total number of questions: 48\n"
     ]
    }
   ],
   "source": [
    "# Filter used problems and solutions\n",
    "last_id = 132\n",
    "problems = Problem.objects.filter(id__lte=last_id)\n",
    "solutions = Solution.objects.filter(problem__in=problems, ignore=False).values_list('problem', flat=True)\n",
    "problems = solutions.order_by('problem').values_list(\n",
    "    'problem', flat=True).distinct('problem')\n",
    "print(\"Total number of questions: %d\" % problems.count())\n",
    "questions_idx = list(problems.order_by('problem_id'))\n",
    "N_QUESTIONS = problems.count()"
   ]
  },
  {
   "cell_type": "code",
   "execution_count": 4,
   "metadata": {},
   "outputs": [
    {
     "data": {
      "text/plain": [
       "3632"
      ]
     },
     "execution_count": 4,
     "metadata": {},
     "output_type": "execute_result"
    }
   ],
   "source": [
    "# Get all students\n",
    "user_blacklist = UserProfile.objects.filter(professor__user__username='sem_professor')\n",
    "\n",
    "attempts = UserLog.objects.exclude(outcome='S').filter(\n",
    "    timestamp__lt=OuterRef('timestamp'), user__id=OuterRef('user__id')).annotate(\n",
    "    attempt=Count('*')).values('attempt')\n",
    "\n",
    "# Remove group by values\n",
    "attempts.query.set_group_by()\n",
    "\n",
    "# Get users\n",
    "users = UserLog.objects.filter(problem__in=problems).exclude(outcome='S').exclude(\n",
    "    user__userprofile__in=user_blacklist).annotate(\n",
    "    attempt=Subquery(attempts, output_field=IntegerField())).annotate(\n",
    "    score=Case(\n",
    "        When(outcome='F', then=Value(0.1)),\n",
    "        When(outcome='P', then=Value(1)),\n",
    "        output_field=IntegerField())).values_list(\n",
    "    \"user__id\", \"problem_id\", \"attempt\", \"score\"#\"outcome\", \"timestamp\"\n",
    ").order_by(\"timestamp\").filter(attempt=1).values_list('user_id', flat=True)\n",
    "\n",
    "data = UserLog.objects.filter(problem__in=problems).exclude(outcome='S').annotate(\n",
    "    attempt=Subquery(attempts, output_field=IntegerField())).annotate(\n",
    "    score=Case(\n",
    "        When(outcome='F', then=Value(0)),\n",
    "        When(outcome='P', then=Value(1)),\n",
    "        output_field=IntegerField())).values_list(\n",
    "    \"user__id\", \"problem_id\", \"attempt\", \"score\", #\"outcome\", #\"timestamp\"\n",
    ").order_by(\"timestamp\").filter(user__in=users)\n",
    "\n",
    "users_idx = data.values('user__id').distinct().order_by()\n",
    "N_STUDENTS = users_idx.count()\n",
    "users_idx = list(users_idx.values_list('user__id', flat=True))\n",
    "data.count()"
   ]
  },
  {
   "cell_type": "code",
   "execution_count": 5,
   "metadata": {},
   "outputs": [],
   "source": [
    "def get_user_idx(user_id):\n",
    "    return users_idx.index(user_id)\n",
    "\n",
    "def get_question_idx(question_id):\n",
    "    return questions_idx.index(question_id)\n",
    "\n",
    "def separate_users_train_and_test(users_idx):\n",
    "    np.random.shuffle(users_idx)\n",
    "    idx = int(np.ceil(TRAIN_PROPORTION*len(users)))\n",
    "    train_users = users_idx[:idx]\n",
    "    test_users = users_idx[idx:]\n",
    "    return train_users, test_users\n",
    "\n",
    "map_user_id = np.vectorize(get_user_idx)    \n",
    "map_question_id = np.vectorize(get_question_idx)"
   ]
  },
  {
   "cell_type": "code",
   "execution_count": 6,
   "metadata": {},
   "outputs": [],
   "source": [
    "data = np.array(data)\n",
    "data[:,0] = map_user_id(data[:,0])\n",
    "data[:,1] = map_question_id(data[:,1])"
   ]
  },
  {
   "cell_type": "code",
   "execution_count": 7,
   "metadata": {},
   "outputs": [],
   "source": [
    "dataset = {}\n",
    "dataset['data'] = np.array(data)\n",
    "dataset['users_idx'] = np.array(users_idx)\n",
    "dataset['questions_idx'] = np.array(questions_idx)"
   ]
  },
  {
   "cell_type": "code",
   "execution_count": 10,
   "metadata": {},
   "outputs": [],
   "source": [
    "def add_to_matrix(data, tensor, X, attempt_agg='avg', filter_attempt=False):\n",
    "    attempts_count = defaultdict(int)\n",
    "    for item in data:\n",
    "        s_idx, q_idx, a_idx, outcome = item\n",
    "        \n",
    "        # If attempt filter is provided\n",
    "        if filter_attempt and attempts_count[(s_idx, q_idx)] >= filter_attempt:\n",
    "            continue\n",
    "        else:\n",
    "            attempts_count[(s_idx, q_idx)] += 1\n",
    "        \n",
    "        tensor[s_idx, q_idx, a_idx] = outcome\n",
    "        X[s_idx, q_idx, a_idx] = 1\n",
    "    tensor[np.where(X[:,:] == 0)] = None\n",
    "\n",
    "    # # Average over all attempts for one question\n",
    "    if attempt_agg == 'avg':\n",
    "        # Used to ignore NaN warnings\n",
    "        with warnings.catch_warnings():\n",
    "            warnings.simplefilter(\"ignore\", category=RuntimeWarning)\n",
    "            matrix = np.nanmean(tensor, axis=2)\n",
    "            # 0.1 means the student at least tried opposing to 0, which is the he/she did not attempt the question\n",
    "            matrix[np.where(matrix < 0.1)] = 0.1\n",
    "        matrix[np.where(np.isnan(matrix) == True)] = 0\n",
    "    return X, tensor, matrix\n",
    "\n",
    "def transform_data(data, n_attempts):\n",
    "    max_attempt = np.max(data[:,2])+1\n",
    "    student_performance_tensor = np.zeros((N_STUDENTS, N_QUESTIONS, max_attempt))\n",
    "    X = np.zeros(student_performance_tensor.shape)\n",
    "\n",
    "    X, t, student_performance = add_to_matrix(data, \n",
    "                                        student_performance_tensor, \n",
    "                                        X, filter_attempt=n_attempts)\n",
    "    \n",
    "    return X, t, student_performance"
   ]
  },
  {
   "cell_type": "markdown",
   "metadata": {},
   "source": [
    "#### Utilizando todas as tentativas"
   ]
  },
  {
   "cell_type": "code",
   "execution_count": 11,
   "metadata": {},
   "outputs": [],
   "source": [
    "# Modifique esse valor para calcular a média entre as n primeiras tentativas\n",
    "n_attempts = False"
   ]
  },
  {
   "cell_type": "code",
   "execution_count": 12,
   "metadata": {},
   "outputs": [
    {
     "data": {
      "text/plain": [
       "(197, 48)"
      ]
     },
     "execution_count": 12,
     "metadata": {},
     "output_type": "execute_result"
    }
   ],
   "source": [
    "X, t, student_performance = transform_data(dataset['data'], n_attempts)\n",
    "# Check if questions have minimum number of attempts\n",
    "attempts_per_question = student_performance.sum(axis=0)           \n",
    "del_questions = [idx for idx,value in enumerate(attempts_per_question) if value == 0]\n",
    "#             print(del_questions)\n",
    "student_performance = np.delete(student_performance, del_questions, axis=1)\n",
    "student_performance.shape"
   ]
  },
  {
   "cell_type": "code",
   "execution_count": 13,
   "metadata": {},
   "outputs": [
    {
     "data": {
      "text/plain": [
       "array([0.90778342])"
      ]
     },
     "execution_count": 13,
     "metadata": {},
     "output_type": "execute_result"
    }
   ],
   "source": [
    "dataset['student_performance'] = student_performance\n",
    "sparsity = 1 - np.where(student_performance > 0)[0].shape/np.prod(student_performance.shape)\n",
    "sparsity"
   ]
  },
  {
   "cell_type": "code",
   "execution_count": 15,
   "metadata": {},
   "outputs": [
    {
     "data": {
      "text/plain": [
       "array([[0.        , 0.        , 0.        , 0.        , 0.        ,\n",
       "        0.        , 0.        , 0.33333333, 0.        , 0.        ,\n",
       "        1.        , 0.        , 0.        , 0.        , 0.        ,\n",
       "        0.25      , 0.        , 0.        , 0.        , 0.        ,\n",
       "        0.        , 0.        , 0.        , 0.1       , 0.        ,\n",
       "        0.        , 0.        , 0.        , 0.        , 0.        ,\n",
       "        0.        , 0.        , 0.        , 0.        , 0.        ,\n",
       "        0.        , 0.33333333, 1.        , 0.33333333, 0.33333333,\n",
       "        0.        , 0.        , 0.        , 0.        , 0.        ,\n",
       "        0.        , 0.        , 0.        ],\n",
       "       [0.        , 0.        , 0.        , 0.        , 0.        ,\n",
       "        0.        , 0.        , 0.        , 0.        , 0.        ,\n",
       "        1.        , 0.        , 0.        , 0.        , 0.        ,\n",
       "        0.        , 0.        , 0.        , 0.        , 0.        ,\n",
       "        0.        , 0.        , 0.        , 0.        , 0.        ,\n",
       "        0.        , 0.        , 0.        , 0.        , 0.        ,\n",
       "        0.        , 0.        , 0.        , 0.        , 0.        ,\n",
       "        0.        , 0.1       , 0.        , 0.5       , 0.125     ,\n",
       "        0.        , 0.        , 0.        , 0.        , 0.        ,\n",
       "        0.        , 0.        , 0.        ],\n",
       "       [0.        , 0.        , 0.        , 0.        , 0.1       ,\n",
       "        0.        , 0.        , 0.        , 0.        , 0.        ,\n",
       "        1.        , 0.        , 0.        , 0.        , 0.        ,\n",
       "        0.        , 0.        , 0.        , 0.        , 0.        ,\n",
       "        0.        , 0.        , 0.        , 0.        , 0.        ,\n",
       "        0.        , 0.        , 0.16666667, 0.        , 0.        ,\n",
       "        0.        , 0.        , 0.        , 0.        , 0.        ,\n",
       "        0.        , 0.1       , 0.1       , 0.1       , 0.1       ,\n",
       "        0.        , 0.        , 0.        , 0.        , 0.        ,\n",
       "        0.        , 0.        , 0.        ],\n",
       "       [1.        , 0.        , 0.        , 0.        , 0.        ,\n",
       "        0.        , 0.        , 0.        , 0.        , 0.        ,\n",
       "        1.        , 0.        , 0.        , 0.        , 0.        ,\n",
       "        0.        , 0.        , 0.        , 0.        , 0.        ,\n",
       "        0.        , 0.        , 0.        , 0.25      , 0.        ,\n",
       "        0.        , 0.        , 0.        , 0.        , 0.        ,\n",
       "        0.        , 0.        , 0.        , 0.        , 0.        ,\n",
       "        0.        , 0.1       , 0.1       , 1.        , 0.1       ,\n",
       "        0.        , 0.        , 0.        , 0.        , 0.        ,\n",
       "        0.        , 0.        , 0.        ],\n",
       "       [0.        , 0.        , 0.        , 0.        , 1.        ,\n",
       "        0.        , 0.        , 0.        , 0.        , 0.        ,\n",
       "        0.        , 0.        , 0.        , 0.        , 0.        ,\n",
       "        1.        , 0.        , 0.        , 0.        , 0.        ,\n",
       "        0.        , 0.        , 0.        , 0.        , 0.        ,\n",
       "        0.        , 0.        , 0.        , 0.        , 0.        ,\n",
       "        0.        , 0.        , 0.        , 0.        , 0.        ,\n",
       "        0.        , 0.        , 0.        , 0.        , 0.        ,\n",
       "        0.        , 0.        , 0.1       , 0.        , 0.        ,\n",
       "        0.        , 0.        , 0.        ],\n",
       "       [0.        , 0.        , 0.        , 0.        , 0.        ,\n",
       "        0.1       , 0.        , 0.        , 0.        , 0.        ,\n",
       "        0.        , 0.        , 0.1       , 0.        , 0.        ,\n",
       "        0.        , 0.        , 0.        , 0.        , 0.        ,\n",
       "        0.        , 0.        , 0.        , 0.        , 0.        ,\n",
       "        0.        , 0.        , 0.        , 0.        , 0.        ,\n",
       "        0.125     , 0.        , 0.        , 0.        , 0.        ,\n",
       "        0.1       , 0.        , 0.        , 0.        , 0.        ,\n",
       "        0.        , 0.        , 0.        , 0.        , 1.        ,\n",
       "        0.        , 0.        , 0.        ],\n",
       "       [0.33333333, 0.5       , 0.33333333, 1.        , 1.        ,\n",
       "        1.        , 1.        , 0.2       , 0.1       , 0.5       ,\n",
       "        1.        , 0.5       , 0.2       , 0.5       , 1.        ,\n",
       "        0.1       , 0.33333333, 1.        , 0.5       , 1.        ,\n",
       "        1.        , 0.5       , 0.14285714, 0.1       , 0.        ,\n",
       "        0.        , 0.5       , 1.        , 0.25      , 1.        ,\n",
       "        1.        , 1.        , 0.1       , 0.2       , 0.        ,\n",
       "        0.1       , 0.1       , 0.1       , 0.        , 0.2       ,\n",
       "        0.1       , 0.1       , 1.        , 0.5       , 1.        ,\n",
       "        1.        , 1.        , 1.        ],\n",
       "       [0.        , 0.        , 0.        , 0.        , 0.        ,\n",
       "        0.1       , 0.        , 0.        , 0.        , 0.        ,\n",
       "        0.        , 1.        , 0.        , 1.        , 0.5       ,\n",
       "        0.        , 0.5       , 0.        , 0.5       , 0.        ,\n",
       "        0.        , 0.        , 0.        , 0.        , 0.        ,\n",
       "        0.        , 0.        , 0.        , 0.        , 0.        ,\n",
       "        0.        , 0.1       , 0.        , 0.        , 0.        ,\n",
       "        0.2       , 0.        , 0.        , 0.        , 1.        ,\n",
       "        0.        , 0.        , 0.        , 1.        , 0.        ,\n",
       "        0.        , 0.        , 0.        ],\n",
       "       [0.        , 0.        , 0.        , 0.        , 0.        ,\n",
       "        0.        , 0.        , 0.        , 0.        , 0.1       ,\n",
       "        0.        , 0.        , 0.        , 0.        , 0.        ,\n",
       "        0.        , 0.        , 0.        , 0.        , 0.        ,\n",
       "        0.        , 0.        , 0.        , 0.        , 0.        ,\n",
       "        0.        , 0.        , 0.        , 0.        , 0.        ,\n",
       "        0.        , 0.        , 0.        , 0.        , 0.        ,\n",
       "        0.        , 0.        , 0.        , 0.        , 0.        ,\n",
       "        0.        , 0.        , 0.        , 0.        , 0.        ,\n",
       "        0.        , 0.        , 0.        ],\n",
       "       [0.        , 0.        , 0.        , 0.        , 0.        ,\n",
       "        0.        , 0.        , 0.        , 0.        , 0.        ,\n",
       "        0.        , 0.        , 0.        , 1.        , 0.        ,\n",
       "        0.        , 0.        , 0.        , 0.        , 0.        ,\n",
       "        0.        , 0.        , 0.        , 0.        , 0.        ,\n",
       "        0.        , 0.        , 0.        , 0.        , 0.        ,\n",
       "        0.        , 0.        , 0.        , 0.        , 0.        ,\n",
       "        0.        , 0.1       , 0.        , 0.        , 0.        ,\n",
       "        0.        , 0.        , 0.        , 0.        , 0.        ,\n",
       "        0.        , 0.        , 0.        ],\n",
       "       [1.        , 0.        , 0.        , 1.        , 0.        ,\n",
       "        1.        , 0.25      , 0.1       , 0.        , 1.        ,\n",
       "        1.        , 0.        , 0.        , 0.        , 0.        ,\n",
       "        0.1       , 0.5       , 0.        , 0.        , 0.        ,\n",
       "        0.        , 0.        , 0.        , 0.33333333, 0.1       ,\n",
       "        1.        , 0.        , 0.1       , 0.        , 0.        ,\n",
       "        0.        , 0.        , 0.1       , 0.        , 0.        ,\n",
       "        0.        , 0.5       , 1.        , 1.        , 1.        ,\n",
       "        0.        , 0.        , 1.        , 0.        , 0.        ,\n",
       "        0.        , 1.        , 0.        ],\n",
       "       [0.        , 0.        , 0.        , 0.        , 0.        ,\n",
       "        0.        , 0.        , 0.        , 0.        , 0.        ,\n",
       "        0.        , 0.        , 0.        , 0.        , 0.        ,\n",
       "        0.        , 0.        , 0.        , 0.        , 0.        ,\n",
       "        0.        , 0.        , 0.        , 0.        , 0.        ,\n",
       "        0.        , 0.        , 0.        , 0.        , 0.        ,\n",
       "        0.        , 0.        , 0.        , 0.        , 0.        ,\n",
       "        0.        , 0.        , 0.        , 0.33333333, 0.1       ,\n",
       "        0.        , 0.        , 0.        , 0.        , 0.        ,\n",
       "        0.        , 0.        , 0.        ],\n",
       "       [0.        , 0.        , 0.        , 0.        , 0.        ,\n",
       "        0.        , 0.        , 0.        , 0.        , 0.        ,\n",
       "        0.        , 0.        , 0.        , 0.        , 0.        ,\n",
       "        0.        , 0.        , 0.        , 0.        , 0.        ,\n",
       "        0.        , 0.        , 0.        , 0.        , 0.        ,\n",
       "        0.        , 0.        , 0.        , 0.        , 0.        ,\n",
       "        0.        , 0.        , 0.        , 0.        , 0.        ,\n",
       "        0.        , 0.5       , 0.        , 0.        , 0.        ,\n",
       "        0.        , 0.        , 0.        , 0.        , 0.        ,\n",
       "        0.        , 0.        , 0.        ],\n",
       "       [1.        , 0.        , 0.        , 0.5       , 1.        ,\n",
       "        0.        , 1.        , 0.1       , 0.        , 0.1       ,\n",
       "        1.        , 0.        , 0.33333333, 0.25      , 1.        ,\n",
       "        0.1       , 1.        , 1.        , 0.5       , 1.        ,\n",
       "        1.        , 0.        , 0.5       , 0.        , 0.33333333,\n",
       "        0.1       , 0.        , 0.11764706, 0.11111111, 0.        ,\n",
       "        0.        , 0.        , 0.        , 0.        , 0.        ,\n",
       "        0.1       , 0.5       , 0.1       , 0.25      , 0.25      ,\n",
       "        0.1       , 0.1       , 1.        , 1.        , 1.        ,\n",
       "        1.        , 1.        , 1.        ],\n",
       "       [0.        , 0.        , 0.        , 0.        , 0.        ,\n",
       "        0.        , 0.        , 0.        , 0.        , 0.        ,\n",
       "        0.        , 0.        , 0.        , 0.        , 0.        ,\n",
       "        0.        , 0.        , 0.        , 0.        , 0.        ,\n",
       "        0.        , 0.        , 0.        , 0.        , 0.        ,\n",
       "        0.        , 0.        , 0.        , 0.        , 0.5       ,\n",
       "        0.        , 0.        , 0.        , 0.        , 0.        ,\n",
       "        0.        , 0.        , 1.        , 0.        , 0.        ,\n",
       "        0.        , 0.        , 0.        , 0.        , 0.        ,\n",
       "        1.        , 0.        , 0.        ],\n",
       "       [0.        , 0.        , 0.        , 0.        , 0.        ,\n",
       "        0.        , 0.        , 0.        , 0.        , 0.        ,\n",
       "        1.        , 0.        , 0.        , 0.        , 0.        ,\n",
       "        0.        , 0.        , 0.        , 0.        , 0.        ,\n",
       "        0.        , 0.        , 0.        , 0.        , 0.        ,\n",
       "        0.        , 0.        , 1.        , 0.        , 0.        ,\n",
       "        0.        , 0.        , 0.        , 0.        , 0.        ,\n",
       "        0.        , 1.        , 0.16666667, 1.        , 1.        ,\n",
       "        0.        , 0.        , 0.        , 0.        , 0.        ,\n",
       "        0.        , 0.        , 0.        ],\n",
       "       [0.        , 0.        , 0.        , 0.        , 0.        ,\n",
       "        0.        , 0.        , 0.        , 0.        , 0.        ,\n",
       "        1.        , 0.        , 0.        , 0.        , 0.        ,\n",
       "        0.        , 0.        , 0.        , 0.        , 0.        ,\n",
       "        0.        , 0.        , 0.        , 0.        , 0.        ,\n",
       "        0.        , 0.        , 0.        , 0.        , 0.        ,\n",
       "        0.        , 0.        , 0.        , 0.        , 0.        ,\n",
       "        0.        , 0.5       , 1.        , 0.        , 0.        ,\n",
       "        0.        , 0.        , 0.        , 0.        , 0.        ,\n",
       "        0.        , 0.        , 0.        ],\n",
       "       [0.        , 0.        , 0.        , 0.        , 1.        ,\n",
       "        0.        , 0.        , 0.        , 0.33333333, 0.33333333,\n",
       "        0.        , 0.        , 0.        , 0.        , 0.        ,\n",
       "        0.        , 0.        , 0.        , 0.        , 0.        ,\n",
       "        0.        , 0.        , 0.        , 0.        , 0.        ,\n",
       "        0.        , 0.        , 0.        , 0.        , 0.        ,\n",
       "        0.        , 0.        , 0.        , 0.        , 0.        ,\n",
       "        0.        , 0.        , 0.        , 0.        , 0.16666667,\n",
       "        0.        , 0.        , 0.        , 0.5       , 0.        ,\n",
       "        1.        , 0.        , 0.        ],\n",
       "       [0.        , 0.        , 0.        , 0.        , 0.        ,\n",
       "        0.        , 0.        , 0.        , 0.        , 0.        ,\n",
       "        0.        , 0.        , 0.        , 0.        , 0.        ,\n",
       "        0.        , 0.        , 0.        , 0.        , 0.        ,\n",
       "        0.        , 0.        , 0.5       , 0.        , 0.        ,\n",
       "        0.        , 0.        , 0.        , 0.        , 0.        ,\n",
       "        0.        , 0.        , 0.        , 0.        , 0.        ,\n",
       "        0.        , 0.        , 0.        , 0.        , 0.        ,\n",
       "        0.        , 0.        , 0.        , 0.        , 0.        ,\n",
       "        0.        , 0.        , 0.        ],\n",
       "       [0.        , 0.        , 0.        , 0.        , 0.        ,\n",
       "        0.        , 0.        , 0.        , 0.        , 0.        ,\n",
       "        0.        , 0.        , 0.        , 0.        , 0.        ,\n",
       "        0.        , 0.        , 0.        , 0.        , 0.        ,\n",
       "        0.        , 0.        , 0.        , 0.        , 0.        ,\n",
       "        0.        , 0.        , 0.        , 0.        , 0.        ,\n",
       "        0.        , 0.        , 0.        , 0.        , 0.        ,\n",
       "        0.        , 0.        , 0.        , 0.33333333, 0.        ,\n",
       "        0.        , 0.        , 0.        , 0.        , 0.        ,\n",
       "        0.        , 0.        , 0.        ]])"
      ]
     },
     "execution_count": 15,
     "metadata": {},
     "output_type": "execute_result"
    }
   ],
   "source": [
    "student_performance[:20,:]"
   ]
  },
  {
   "cell_type": "markdown",
   "metadata": {},
   "source": [
    "### Dataset 2: Terms x Question\n",
    "Terms from each solution for the experiment with 48 different problems"
   ]
  },
  {
   "cell_type": "code",
   "execution_count": 16,
   "metadata": {},
   "outputs": [],
   "source": [
    "# Load data\n",
    "with open('data/tese/train_data_features.pkl', 'rb') as pklfile:\n",
    "    train_data_features = pickle.load(pklfile)\n",
    "    \n",
    "# Load questions ids\n",
    "with open('data/tese/questions_idx.pkl', 'rb') as pklfile:\n",
    "    terms_questions_idx = pickle.load(pklfile)"
   ]
  },
  {
   "cell_type": "code",
   "execution_count": 17,
   "metadata": {},
   "outputs": [],
   "source": [
    "not_dup =[]\n",
    "dup_idx = []\n",
    "for idx, item in enumerate(terms_questions_idx):\n",
    "    if item not in not_dup:\n",
    "        not_dup.append(item)\n",
    "    else:\n",
    "        dup_idx.append(idx)"
   ]
  },
  {
   "cell_type": "code",
   "execution_count": 18,
   "metadata": {},
   "outputs": [
    {
     "data": {
      "text/plain": [
       "(48, 236)"
      ]
     },
     "execution_count": 18,
     "metadata": {},
     "output_type": "execute_result"
    }
   ],
   "source": [
    "terms = np.delete(train_data_features, [dup_idx], axis=0)\n",
    "terms.shape"
   ]
  },
  {
   "cell_type": "markdown",
   "metadata": {},
   "source": [
    "Make sure questions_idx is the same for both"
   ]
  },
  {
   "cell_type": "code",
   "execution_count": 25,
   "metadata": {},
   "outputs": [
    {
     "data": {
      "text/plain": [
       "True"
      ]
     },
     "execution_count": 25,
     "metadata": {},
     "output_type": "execute_result"
    }
   ],
   "source": [
    "a = np.array(terms_questions_idx)\n",
    "np.all(np.delete(a, [dup_idx]) == questions_idx)"
   ]
  },
  {
   "cell_type": "code",
   "execution_count": 36,
   "metadata": {},
   "outputs": [
    {
     "data": {
      "text/plain": [
       "array([0.84860523])"
      ]
     },
     "execution_count": 36,
     "metadata": {},
     "output_type": "execute_result"
    }
   ],
   "source": [
    "dataset['terms'] = terms.T\n",
    "sparsity = 1 - np.where(terms > 0)[0].shape/np.prod(terms.shape)\n",
    "sparsity"
   ]
  },
  {
   "cell_type": "code",
   "execution_count": 33,
   "metadata": {},
   "outputs": [],
   "source": [
    "# Save data\n",
    "with open(\"%s/dataset_relations.pkl\" % (folder), \"wb\") as pklfile:\n",
    "    pickle.dump(dataset, pklfile)"
   ]
  },
  {
   "cell_type": "code",
   "execution_count": 34,
   "metadata": {},
   "outputs": [],
   "source": [
    "# Load data\n",
    "with open(\"%s/dataset_relations.pkl\" % (folder), \"rb\") as pklfile:\n",
    "    d = pickle.load(pklfile)"
   ]
  },
  {
   "cell_type": "code",
   "execution_count": 35,
   "metadata": {},
   "outputs": [
    {
     "data": {
      "text/plain": [
       "(236, 48)"
      ]
     },
     "execution_count": 35,
     "metadata": {},
     "output_type": "execute_result"
    }
   ],
   "source": [
    "d['terms'].shape"
   ]
  }
 ],
 "metadata": {
  "kernelspec": {
   "display_name": "Django Shell-Plus",
   "language": "python",
   "name": "django_extensions"
  },
  "language_info": {
   "codemirror_mode": {
    "name": "ipython",
    "version": 3
   },
   "file_extension": ".py",
   "mimetype": "text/x-python",
   "name": "python",
   "nbconvert_exporter": "python",
   "pygments_lexer": "ipython3",
   "version": "3.6.10"
  }
 },
 "nbformat": 4,
 "nbformat_minor": 4
}
