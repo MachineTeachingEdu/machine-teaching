{
 "cells": [
  {
   "cell_type": "code",
   "execution_count": 1,
   "metadata": {},
   "outputs": [],
   "source": [
    "import pickle\n",
    "from datetime import datetime\n",
    "import json"
   ]
  },
  {
   "cell_type": "code",
   "execution_count": 2,
   "metadata": {},
   "outputs": [],
   "source": [
    "folder = 'data/ple'"
   ]
  },
  {
   "cell_type": "code",
   "execution_count": 3,
   "metadata": {},
   "outputs": [
    {
     "name": "stderr",
     "output_type": "stream",
     "text": [
      "/home/lmoraes/.pyenv/versions/machineteaching/lib/python3.8/site-packages/django/db/models/fields/__init__.py:1420: RuntimeWarning: DateTimeField UserLog.timestamp received a naive datetime (2020-08-24 00:00:00) while time zone support is active.\n",
      "  warnings.warn(\"DateTimeField %s received a naive datetime (%s)\"\n"
     ]
    }
   ],
   "source": [
    "data_inicio = datetime.strptime('24/08/2020 00:00:00', '%d/%m/%Y %H:%M:%S')\n",
    "turmas_validas = [12, 13, 14, 16, 17, 18, 20, 22, 23]\n",
    "\n",
    "# Remove professores e usuarios que já tenham utilizado o sistema em outra turma\n",
    "professores = Professor.objects.all().values_list('user')\n",
    "usuarios_tentativa_anterior = UserLog.objects.filter(user__userprofile__user_class__in=turmas_validas,\n",
    "                                                     timestamp__lt=data_inicio).values_list('user').distinct()"
   ]
  },
  {
   "cell_type": "code",
   "execution_count": 4,
   "metadata": {},
   "outputs": [],
   "source": [
    "# O que fazer com alunos repetentes?\n",
    "# Vou separá-los por enquanto"
   ]
  },
  {
   "cell_type": "code",
   "execution_count": 16,
   "metadata": {},
   "outputs": [
    {
     "name": "stdout",
     "output_type": "stream",
     "text": [
      "45295\n",
      "1207\n",
      "CPU times: user 13.4 ms, sys: 1.65 ms, total: 15.1 ms\n",
      "Wall time: 534 ms\n"
     ]
    }
   ],
   "source": [
    "%%time\n",
    "userlog = UserLog.objects.filter(user__userprofile__user_class__in=turmas_validas\n",
    "                                ).exclude(user__in=usuarios_tentativa_anterior\n",
    "                                ).exclude(user__in=professores).order_by('timestamp'\n",
    "                                ).values('user__id', 'problem__id', 'outcome', \n",
    "                                         'timestamp', 'user__userprofile__user_class')\n",
    "print(userlog.count())\n",
    "\n",
    "userlog_extra = UserLog.objects.filter(user__userprofile__id__in=u_final,\n",
    "                                ).exclude(user__in=usuarios_tentativa_anterior\n",
    "                                ).exclude(user__in=professores).order_by('timestamp'\n",
    "                                ).values('user__id', 'problem__id', 'outcome', \n",
    "                                         'timestamp', 'user__userprofile__user_class')\n",
    "\n",
    "print(userlog_extra.count())"
   ]
  },
  {
   "cell_type": "code",
   "execution_count": 17,
   "metadata": {},
   "outputs": [
    {
     "data": {
      "text/plain": [
       "46502"
      ]
     },
     "execution_count": 17,
     "metadata": {},
     "output_type": "execute_result"
    }
   ],
   "source": [
    "userlog = list(userlog) + list(userlog_extra)\n",
    "len(userlog)"
   ]
  },
  {
   "cell_type": "code",
   "execution_count": 18,
   "metadata": {},
   "outputs": [],
   "source": [
    "with open(\"%s/userlogs.pkl\" % folder, \"wb\") as pklfile:\n",
    "    pickle.dump(list(userlog), pklfile)"
   ]
  },
  {
   "cell_type": "code",
   "execution_count": 20,
   "metadata": {},
   "outputs": [
    {
     "name": "stdout",
     "output_type": "stream",
     "text": [
      "45295\n",
      "1207\n",
      "CPU times: user 467 ms, sys: 42.7 ms, total: 510 ms\n",
      "Wall time: 51.1 s\n"
     ]
    }
   ],
   "source": [
    "%%time\n",
    "userlog_complete = UserLog.objects.filter(user__userprofile__user_class__in=turmas_validas\n",
    "                                ).exclude(user__in=usuarios_tentativa_anterior\n",
    "                                ).exclude(user__in=professores).order_by('timestamp'\n",
    "                                ).values('user__id', 'problem__id', 'outcome', \n",
    "                                         'timestamp', 'user__userprofile__user_class',\n",
    "                                         'solution', 'seconds_in_page', 'seconds_in_code', \n",
    "                                         'seconds_to_begin')\n",
    "print(userlog_complete.count())\n",
    "\n",
    "userlog_complete_extra = UserLog.objects.filter(user__userprofile__id__in=u_final,\n",
    "                                ).exclude(user__in=usuarios_tentativa_anterior\n",
    "                                ).exclude(user__in=professores).order_by('timestamp'\n",
    "                                ).values('user__id', 'problem__id', 'outcome', \n",
    "                                         'timestamp', 'user__userprofile__user_class',\n",
    "                                         'solution', 'seconds_in_page', 'seconds_in_code', \n",
    "                                         'seconds_to_begin')\n",
    "print(userlog_complete_extra.count())\n",
    "\n",
    "with open(\"%s/userlogs_complete.pkl\" % folder, \"wb\") as pklfile:\n",
    "    pickle.dump(list(userlog_complete) + list(userlog_complete_extra), pklfile)"
   ]
  },
  {
   "cell_type": "code",
   "execution_count": 8,
   "metadata": {},
   "outputs": [
    {
     "name": "stderr",
     "output_type": "stream",
     "text": [
      "/home/lmoraes/.pyenv/versions/machineteaching/lib/python3.8/site-packages/django/db/models/fields/__init__.py:1420: RuntimeWarning: DateTimeField HistoricalUserProfile.history_date received a naive datetime (2020-12-01 00:00:00) while time zone support is active.\n",
      "  warnings.warn(\"DateTimeField %s received a naive datetime (%s)\"\n",
      "/home/lmoraes/.pyenv/versions/machineteaching/lib/python3.8/site-packages/django/db/models/fields/__init__.py:1420: RuntimeWarning: DateTimeField User.date_joined received a naive datetime (2020-12-01 00:00:00) while time zone support is active.\n",
      "  warnings.warn(\"DateTimeField %s received a naive datetime (%s)\"\n"
     ]
    },
    {
     "name": "stdout",
     "output_type": "stream",
     "text": [
      "0\n",
      "EP1-EPT - João Vitor\n",
      "Comp1 EB1 - PLE\n",
      "EP1-EPT - João Vitor\n",
      "Comp1 EB1 - PLE\n",
      "EP1-EPT - João Vitor\n",
      "Comp1 EB1 - PLE\n",
      "EP1-EPT - João Vitor\n",
      "Comp1 EB1 - PLE\n",
      "EP1-EPT - João Vitor\n",
      "Comp1 EB1 - PLE\n",
      "EP1-EPT - João Vitor\n",
      "Comp I EP - EB2 - 2893 - PLE120\n",
      "100\n",
      "MAB121_CMT_23765_REM2020_1\n",
      "Comp I EP - EB2 - 2893 - PLE120\n",
      "200\n",
      "EE1 - Anamaria\n",
      "Comp1 EB1 - PLE\n",
      "EE1 - Anamaria\n",
      "Comp1 EB1 - PLE\n"
     ]
    }
   ],
   "source": [
    "data_inicio = datetime.strptime('01/12/2020 00:00:00', '%d/%m/%Y %H:%M:%S')\n",
    "userprofile_h = HistoricalUserProfile.objects.filter(history_date__gte=data_inicio, user__date_joined__lte=data_inicio)\n",
    "u_to_consider = []\n",
    "for idx, u in enumerate(userprofile_h):\n",
    "    u_atual = UserProfile.objects.get(pk=u.id)\n",
    "    if (u_atual.user_class != u.user_class) and u.user_class is not None and u.user_class.id in turmas_validas:\n",
    "#         print(u_atual.user_class)\n",
    "#         print(u.user_class)\n",
    "        u_to_consider.append(u.id)\n",
    "    if not (idx % 100):\n",
    "        print(idx)"
   ]
  },
  {
   "cell_type": "code",
   "execution_count": 14,
   "metadata": {},
   "outputs": [
    {
     "name": "stdout",
     "output_type": "stream",
     "text": [
      "686 Henrique.ipa@poli.ufrj.br\n",
      "2020-09-10 12:06:13.659747+00:00\n",
      "2020-10-06 16:20:05.080377+00:00\n",
      "\n",
      "686 Henrique.ipa@poli.ufrj.br\n",
      "2020-09-10 12:06:13.659747+00:00\n",
      "2020-10-06 16:20:05.080377+00:00\n",
      "\n",
      "685 kaducosme@poli.ufrj.br\n",
      "2020-09-10 12:08:08.178087+00:00\n",
      "2020-10-04 01:46:26.470441+00:00\n",
      "\n",
      "686 Henrique.ipa@poli.ufrj.br\n",
      "2020-09-10 12:06:13.659747+00:00\n",
      "2020-10-06 16:20:05.080377+00:00\n",
      "\n",
      "686 Henrique.ipa@poli.ufrj.br\n",
      "2020-09-10 12:06:13.659747+00:00\n",
      "2020-10-06 16:20:05.080377+00:00\n",
      "\n",
      "656 thaisbittencourt@poli.ufrj.br\n",
      "2020-09-11 02:29:44.097080+00:00\n",
      "2020-10-28 17:29:42.904666+00:00\n",
      "\n",
      "606 bfcosta@dcc.ufrj.br\n",
      "2020-08-04 18:40:46.293306+00:00\n",
      "2020-11-27 19:10:47.389793+00:00\n",
      "\n",
      "626 anamaria@dcc.ufrj.br\n",
      "2020-08-04 18:48:22.429432+00:00\n",
      "2020-10-07 20:10:24.053860+00:00\n",
      "\n",
      "626 anamaria@dcc.ufrj.br\n",
      "2020-08-04 18:48:22.429432+00:00\n",
      "2020-10-07 20:10:24.053860+00:00\n",
      "\n"
     ]
    }
   ],
   "source": [
    "for u in u_to_consider:\n",
    "    up = UserProfile.objects.get(pk=u)\n",
    "    print(up.id, up.user)\n",
    "    logs = UserLog.objects.filter(user=up.user, timestamp__lte=data_inicio).order_by('timestamp')\n",
    "    print(logs[0].timestamp)\n",
    "    print(logs[logs.count()-1].timestamp)\n",
    "    print()"
   ]
  },
  {
   "cell_type": "code",
   "execution_count": 15,
   "metadata": {},
   "outputs": [],
   "source": [
    "u_final = [686, 685, 656]"
   ]
  },
  {
   "cell_type": "code",
   "execution_count": 8,
   "metadata": {
    "scrolled": true
   },
   "outputs": [
    {
     "name": "stdout",
     "output_type": "stream",
     "text": [
      "CPU times: user 54.2 ms, sys: 8.79 ms, total: 63 ms\n",
      "Wall time: 2.05 s\n"
     ]
    }
   ],
   "source": [
    "%%time\n",
    "problems = set(list(userlog.values_list(\"problem__id\", flat=True).order_by(\"id\").distinct()))"
   ]
  },
  {
   "cell_type": "code",
   "execution_count": 9,
   "metadata": {},
   "outputs": [],
   "source": [
    "# One row per test case\n",
    "solutions = Solution.objects.filter(problem__in=problems, ignore=False).values(\n",
    "    \"problem_id\", \"content\", \"header\", \"problem__testcase__content\").order_by(\"content\")"
   ]
  },
  {
   "cell_type": "code",
   "execution_count": 10,
   "metadata": {},
   "outputs": [
    {
     "name": "stdout",
     "output_type": "stream",
     "text": [
      "CPU times: user 13.4 ms, sys: 2.08 ms, total: 15.5 ms\n",
      "Wall time: 1.14 s\n"
     ]
    }
   ],
   "source": [
    "%%time\n",
    "data = []\n",
    "old_content = \"\"\n",
    "for item in solutions:\n",
    "    # If it is the same problem, keep adding test cases\n",
    "    if item[\"content\"] == old_content:\n",
    "        data[-1][\"test_case\"].append(json.loads(item[\"problem__testcase__content\"]))\n",
    "    # Otherwise, start new row\n",
    "    else:\n",
    "        item_data = {\n",
    "            \"problem_id\": item[\"problem_id\"],\n",
    "            \"solution\": item[\"content\"],\n",
    "            \"function_call\": item[\"header\"],\n",
    "            \"test_case\": [json.loads(item[\"problem__testcase__content\"])]\n",
    "        }\n",
    "        data.append(item_data)\n",
    "    old_content = item[\"content\"]"
   ]
  },
  {
   "cell_type": "code",
   "execution_count": 11,
   "metadata": {},
   "outputs": [
    {
     "name": "stdout",
     "output_type": "stream",
     "text": [
      "CPU times: user 28 µs, sys: 19 µs, total: 47 µs\n",
      "Wall time: 49.6 µs\n"
     ]
    }
   ],
   "source": [
    "%%time\n",
    "# Transform it into dict to lookup for problem\n",
    "data_dict = {}\n",
    "for item in data:\n",
    "    data_dict[item[\"problem_id\"]] = item"
   ]
  },
  {
   "cell_type": "code",
   "execution_count": null,
   "metadata": {},
   "outputs": [],
   "source": [
    "# Calculate test case percentage for each userlog\n",
    "userlog_testcase = []\n",
    "for item in userlog:\n",
    "    tcs = data[userlog.problem_id][\"test_case\"]\n",
    "    correct = 0\n",
    "    # Calculate student response and solution for each test case for each log\n",
    "    for tc in tcs:\n",
    "        # Transform solution into Python function\n",
    "        function_obj = compile(data[userlog.problem_id][\"solution\"], 'solution', 'exec')\n",
    "        exec(function_obj)\n",
    "        answer_solution = eval(item[\"function_call\"])(*tc)\n",
    "        \n",
    "        # Transform student solution into Python function\n",
    "        \n",
    "        function_obj = compile(userlog.solution, 'solution', 'exec')\n",
    "        exec(function_obj)\n",
    "        answer_student = eval(item[\"function_call\"])(*tc)"
   ]
  },
  {
   "cell_type": "code",
   "execution_count": null,
   "metadata": {},
   "outputs": [],
   "source": [
    "for item in data:\n",
    "    for tc in item[\"test_case\"]:\n",
    "        print(tc)\n",
    "        # Transform solution into python function\n",
    "        function_obj = compile(item[\"solution\"], 'solution', 'exec')\n",
    "        exec(function_obj)\n",
    "        answer = eval(item[\"function_call\"])(*tc)\n",
    "        "
   ]
  }
 ],
 "metadata": {
  "kernelspec": {
   "display_name": "Django Shell-Plus",
   "language": "python",
   "name": "django_extensions"
  },
  "language_info": {
   "codemirror_mode": {
    "name": "ipython",
    "version": 3
   },
   "file_extension": ".py",
   "mimetype": "text/x-python",
   "name": "python",
   "nbconvert_exporter": "python",
   "pygments_lexer": "ipython3",
   "version": "3.8.5"
  }
 },
 "nbformat": 4,
 "nbformat_minor": 4
}
