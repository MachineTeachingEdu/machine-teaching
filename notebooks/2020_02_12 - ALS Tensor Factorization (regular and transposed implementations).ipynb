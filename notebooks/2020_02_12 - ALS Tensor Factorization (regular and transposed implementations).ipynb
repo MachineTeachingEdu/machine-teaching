{
 "cells": [
  {
   "cell_type": "code",
   "execution_count": 4,
   "metadata": {},
   "outputs": [],
   "source": [
    "import numpy as np\n",
    "from scipy import sparse\n",
    "import matplotlib.pyplot as plt"
   ]
  },
  {
   "cell_type": "code",
   "execution_count": 5,
   "metadata": {},
   "outputs": [],
   "source": [
    "N_CONCEPTS = 2\n",
    "N_STUDENTS = 10\n",
    "N_ATTEMPTS = 3\n",
    "N_QUESTIONS = 5\n",
    "\n",
    "# Algorithm parameters\n",
    "INIT = 3\n",
    "MAX_ITER = 100"
   ]
  },
  {
   "cell_type": "markdown",
   "metadata": {},
   "source": [
    "### ALS Tensor Factorization"
   ]
  },
  {
   "cell_type": "code",
   "execution_count": 353,
   "metadata": {},
   "outputs": [],
   "source": [
    "def als_tensor_factorization(student_performance, n_concepts=2, init=3, max_iter=100):\n",
    "    \n",
    "    # Get values from student performance tensor shape\n",
    "    n_students, n_questions, n_attempts = student_performance.shape\n",
    "    \n",
    "    student_knowledge = np.zeros((n_students, n_concepts, n_attempts))\n",
    "\n",
    "    error_run = []\n",
    "    error_total_run = []\n",
    "    student_performance_pred_run = []\n",
    "    \n",
    "    # Several starts\n",
    "    for run in range(init):\n",
    "        error = []\n",
    "        student_performance_pred_list = []\n",
    "    #     q_matrix = np.random.rand(N_QUESTIONS, N_CONCEPTS)\n",
    "\n",
    "        for attempt in range(N_ATTEMPTS):\n",
    "            student_knowledge[:, :, attempt] = np.random.rand(n_students, n_concepts)\n",
    "\n",
    "        # Phase 1: prediction\n",
    "        student_performance_pred = np.zeros((n_students, n_questions, n_attempts))\n",
    "        for i in range(max_iter):\n",
    "\n",
    "            # Update Q: Q = (T'T)^(-1)T'Y = T^(-1)Y\n",
    "            # (T'T)^(-1)\n",
    "            student_knowledge_transposed = np.zeros((n_concepts, n_concepts, n_attempts))\n",
    "            for attempt in range(n_attempts):\n",
    "                student_knowledge_transposed[:, :, attempt] = np.dot(student_knowledge[:, :, attempt].T, \n",
    "                                                                     student_knowledge[:, :, attempt])\n",
    "            student_knowledge_transposed = student_knowledge_transposed.sum(axis=2)\n",
    "            student_knowledge_transposed_inv = np.linalg.pinv(student_knowledge_transposed)\n",
    "            \n",
    "            # T'Y\n",
    "            TY = np.zeros((n_concepts, n_questions, n_attempts))\n",
    "            for attempt in range(n_attempts):\n",
    "                TY[:, :, attempt] = np.dot(student_knowledge[:, :, attempt].T, \n",
    "                                           student_performance[:, :, attempt])\n",
    "            TY = TY.sum(axis=2)\n",
    "            \n",
    "            ## TODO: add regularization parameters (lambda)\n",
    "            # Q = (T'T)^(-1)T'Y\n",
    "            q_matrix = np.dot(student_knowledge_transposed_inv, TY)\n",
    "            # Impose non-negativity constraint\n",
    "            q_matrix[q_matrix < 0] = 0\n",
    "            # Normalize rows to sum one\n",
    "            row_sums = q_matrix.sum(axis=0, keepdims=True)\n",
    "            q_matrix = q_matrix / row_sums\n",
    "            \n",
    "            # Update T: T = YQ'(QQ')^(-1) = YQ^(-1)\n",
    "            # (QQ')^(-1)\n",
    "            q_matrix_transpose_inv = np.linalg.pinv(np.dot(q_matrix, q_matrix.T))\n",
    "            \n",
    "            # YQ'\n",
    "            YQ = np.zeros((n_students, n_concepts, n_attempts))\n",
    "            for attempt in range(n_attempts):\n",
    "                YQ[:, :, attempt] = np.dot(student_performance[:, :, attempt], q_matrix.T)\n",
    "                \n",
    "            # T = YQ'(QQ')^(-1)\n",
    "            for attempt in range(n_attempts):\n",
    "                student_knowledge[:, :, attempt] = np.dot(YQ[:, :, attempt], q_matrix_transpose_inv)\n",
    "                \n",
    "            # Y = TQ\n",
    "            for attempt in range(n_attempts):\n",
    "                student_performance_pred[:, :, attempt] = np.dot(student_knowledge[:, :, attempt], q_matrix)\n",
    "                \n",
    "            \n",
    "            diff = np.zeros((n_students, n_questions, n_attempts))\n",
    "            for attempt in range(n_attempts):\n",
    "                diff[:, :, attempt] = student_performance[:, :, attempt] - student_performance_pred[:, :, attempt]\n",
    "            # Frobenius norm (norm-2)\n",
    "            error.append(np.sqrt(np.sum(np.power(diff, 2))))\n",
    "            \n",
    "            student_performance_pred_iter = student_performance_pred.copy()\n",
    "            student_performance_pred_list.append(student_performance_pred_iter)\n",
    "        student_performance_pred_run.append(student_performance_pred_list)\n",
    "        error_run.append(error)\n",
    "        error_total_run.append(error[-1])\n",
    "                \n",
    "            \n",
    "    return np.asarray(student_performance_pred_run), np.asarray(error_run), error_total_run"
   ]
  },
  {
   "cell_type": "code",
   "execution_count": 94,
   "metadata": {},
   "outputs": [],
   "source": [
    "def als_tensor_factorization_t(student_performance, n_concepts=2, init=3, max_iter=100):\n",
    "    \n",
    "    # Get values from student performance tensor shape\n",
    "    n_questions, n_students, n_attempts = student_performance.shape\n",
    "    \n",
    "    student_knowledge = np.zeros((n_concepts, n_students, n_attempts))\n",
    "\n",
    "    error_run = []\n",
    "    error_total_run = []\n",
    "    student_performance_pred_run = []\n",
    "    \n",
    "    # Several starts\n",
    "    for run in range(init):\n",
    "        error = []\n",
    "        student_performance_pred_list = []\n",
    "    #     q_matrix = np.random.rand(N_QUESTIONS, N_CONCEPTS)\n",
    "\n",
    "        for attempt in range(N_ATTEMPTS):\n",
    "            student_knowledge[:, :, attempt] = np.random.rand(n_concepts, n_students)\n",
    "\n",
    "        # Phase 1: prediction\n",
    "        student_performance_pred = np.zeros((n_questions, n_students, n_attempts))\n",
    "        for i in range(max_iter):\n",
    "\n",
    "            # Update Q: Q = YT'(TT')^(-1) = YT^(-1)\n",
    "            # (TT')^(-1)\n",
    "            student_knowledge_transposed = np.zeros((n_concepts, n_concepts, n_attempts))\n",
    "            for attempt in range(n_attempts):\n",
    "                student_knowledge_transposed[:, :, attempt] = np.dot(student_knowledge[:, :, attempt], \n",
    "                                                                     student_knowledge[:, :, attempt].T)\n",
    "            student_knowledge_transposed = student_knowledge_transposed.sum(axis=2)\n",
    "            student_knowledge_transposed_inv = np.linalg.pinv(student_knowledge_transposed)\n",
    "            \n",
    "            # YT'\n",
    "            YT = np.zeros((n_questions, n_concepts, n_attempts))\n",
    "            for attempt in range(n_attempts):\n",
    "                YT[:, :, attempt] = np.dot(student_performance[:, :, attempt],\n",
    "                                                      student_knowledge[:, :, attempt].T)\n",
    "            YT = YT.sum(axis=2) \n",
    "            \n",
    "            ## TODO: add regularization parameters (lambda)\n",
    "            # Q = YT'(TT')^(-1)\n",
    "            q_matrix = np.dot(YT, student_knowledge_transposed_inv)\n",
    "            # Impose non-negativity constraint\n",
    "            q_matrix[q_matrix < 0] = 0\n",
    "            # Normalize rows to sum one\n",
    "            row_sums = q_matrix.sum(axis=1, keepdims=True)\n",
    "            q_matrix = q_matrix / row_sums\n",
    "            \n",
    "            # Update T: T = (Q'Q)^(-1)Q'Y = Q^(-1)Y\n",
    "            # (Q'Q)^(-1)\n",
    "            q_matrix_transpose_inv = np.linalg.pinv(np.dot(q_matrix.T, q_matrix))\n",
    "            \n",
    "            # Q'Y\n",
    "            QY = np.zeros((n_concepts, n_students, n_attempts))\n",
    "            for attempt in range(n_attempts):\n",
    "                QY[:, :, attempt] = np.dot(q_matrix.T, student_performance[:, :, attempt])\n",
    "                \n",
    "            # T = (Q'Q)^(-1)Q'Y    \n",
    "            for attempt in range(n_attempts):\n",
    "                student_knowledge[:, :, attempt] = np.dot(q_matrix_transpose_inv, QY[:, :, attempt])\n",
    "                \n",
    "            # Y = QT\n",
    "            for attempt in range(n_attempts):\n",
    "                student_performance_pred[:, :, attempt] = np.dot(q_matrix, student_knowledge[:, :, attempt])\n",
    "                \n",
    "            \n",
    "            diff = np.zeros((n_questions, n_students, n_attempts))\n",
    "            for attempt in range(n_attempts):\n",
    "                diff[:, :, attempt] = student_performance[:, :, attempt] - student_performance_pred[:, :, attempt]\n",
    "            # Frobenius norm (norm-2)\n",
    "            error.append(np.sqrt(np.sum(np.power(diff, 2))))\n",
    "            \n",
    "            student_performance_pred_iter = student_performance_pred.copy()\n",
    "            student_performance_pred_list.append(student_performance_pred_iter)\n",
    "        student_performance_pred_run.append(student_performance_pred_list)\n",
    "        error_run.append(error)\n",
    "        error_total_run.append(error[-1])\n",
    "                \n",
    "            \n",
    "    return np.asarray(student_performance_pred_run), np.asarray(error_run), error_total_run"
   ]
  },
  {
   "cell_type": "markdown",
   "metadata": {},
   "source": [
    "### Simulation 1 - Student Performance is the exact multiplication of  Q Matrix and Student Knowledge"
   ]
  },
  {
   "cell_type": "code",
   "execution_count": 72,
   "metadata": {},
   "outputs": [],
   "source": [
    "def generate_sample(noise=0):\n",
    "    DENSITY = 0.8\n",
    "\n",
    "    # Create sparse q_matrix and normalize it to sum 1\n",
    "    q_matrix = sparse.rand(N_CONCEPTS, N_QUESTIONS, DENSITY).todense()\n",
    "    row_sums = q_matrix.sum(axis=0)\n",
    "    while not(np.all(row_sums)):\n",
    "        q_matrix = sparse.rand(N_CONCEPTS, N_QUESTIONS, DENSITY).todense()\n",
    "        row_sums = q_matrix.sum(axis=0)\n",
    "    q_matrix = q_matrix / row_sums\n",
    "\n",
    "    student_knowledge = np.zeros((N_STUDENTS, N_CONCEPTS, N_ATTEMPTS))\n",
    "    for attempt in range(N_ATTEMPTS):\n",
    "        student_knowledge[:, :, attempt] = sparse.rand(N_STUDENTS, N_CONCEPTS, DENSITY).todense()\n",
    "\n",
    "    student_performance = np.zeros((N_STUDENTS, N_QUESTIONS, N_ATTEMPTS))\n",
    "    for attempt in range(N_ATTEMPTS):\n",
    "        student_performance[:, :, attempt] = np.dot(student_knowledge[:, :, attempt], q_matrix)\n",
    "        \n",
    "    if noise:\n",
    "        noise = np.random.normal(0, noise, (N_STUDENTS, N_QUESTIONS, N_ATTEMPTS))\n",
    "        student_performance = student_performance + noise\n",
    "        \n",
    "    return student_performance"
   ]
  },
  {
   "cell_type": "code",
   "execution_count": 245,
   "metadata": {},
   "outputs": [],
   "source": [
    "def generate_sample(noise=0):\n",
    "    DENSITY = 0.8\n",
    "\n",
    "    # Create sparse q_matrix and normalize it to sum 1\n",
    "    q_matrix = sparse.rand(N_CONCEPTS, N_QUESTIONS, DENSITY).todense()\n",
    "    row_sums = q_matrix.sum(axis=0)\n",
    "    while not(np.all(row_sums)):\n",
    "        q_matrix = sparse.rand(N_CONCEPTS, N_QUESTIONS, DENSITY).todense()\n",
    "        row_sums = q_matrix.sum(axis=0)\n",
    "    q_matrix = q_matrix / row_sums\n",
    "    q_matrix_t = q_matrix.copy().T\n",
    "\n",
    "    student_knowledge = np.zeros((N_STUDENTS, N_CONCEPTS, N_ATTEMPTS))\n",
    "    student_knowledge_t = np.zeros((N_CONCEPTS, N_STUDENTS, N_ATTEMPTS))\n",
    "    for attempt in range(N_ATTEMPTS):\n",
    "        student_knowledge[:, :, attempt] = sparse.rand(N_STUDENTS, N_CONCEPTS, DENSITY).todense()\n",
    "        student_knowledge_t[:, :, attempt] = student_knowledge[:, :, attempt].copy().T\n",
    "\n",
    "    student_performance = np.zeros((N_STUDENTS, N_QUESTIONS, N_ATTEMPTS))\n",
    "    student_performance_t = np.zeros((N_QUESTIONS, N_STUDENTS, N_ATTEMPTS))\n",
    "    for attempt in range(N_ATTEMPTS):\n",
    "        student_performance[:, :, attempt] = np.dot(student_knowledge[:, :, attempt], q_matrix)\n",
    "        student_performance_t[:, :, attempt] = student_performance[:, :, attempt].copy().T\n",
    "        \n",
    "    if noise:\n",
    "        noise = np.random.normal(0, noise, (N_STUDENTS, N_QUESTIONS, N_ATTEMPTS))\n",
    "        student_performance = student_performance + noise\n",
    "        for attempt in range(N_ATTEMPTS):\n",
    "            student_performance_t[:, :, attempt] = student_performance_t[:, :, attempt] + noise[:,:,attempt].T\n",
    "        \n",
    "    return student_performance, student_performance_t"
   ]
  },
  {
   "cell_type": "code",
   "execution_count": 363,
   "metadata": {},
   "outputs": [],
   "source": [
    "student_performance, student_performance_t = generate_sample()"
   ]
  },
  {
   "cell_type": "code",
   "execution_count": 364,
   "metadata": {},
   "outputs": [],
   "source": [
    "student_performance_pred_run, error_run, error_total_run = als_tensor_factorization(\n",
    "    student_performance, n_concepts=2, init=1, max_iter=4)"
   ]
  },
  {
   "cell_type": "code",
   "execution_count": 365,
   "metadata": {},
   "outputs": [],
   "source": [
    "_, error_run_t, error_total_run_t = als_tensor_factorization_t(\n",
    "    student_performance_t, n_concepts=2, init=1, max_iter=4)"
   ]
  },
  {
   "cell_type": "code",
   "execution_count": 366,
   "metadata": {},
   "outputs": [
    {
     "data": {
      "text/plain": [
       "array([[1.66094257e-01, 8.22915003e-13, 1.03785189e-12, 1.16584694e-12]])"
      ]
     },
     "execution_count": 366,
     "metadata": {},
     "output_type": "execute_result"
    }
   ],
   "source": [
    "error_run"
   ]
  },
  {
   "cell_type": "code",
   "execution_count": 367,
   "metadata": {},
   "outputs": [
    {
     "data": {
      "text/plain": [
       "array([[1.77085128e-01, 4.97722607e-13, 1.36754112e-12, 8.68726308e-13]])"
      ]
     },
     "execution_count": 367,
     "metadata": {},
     "output_type": "execute_result"
    }
   ],
   "source": [
    "error_run_t"
   ]
  },
  {
   "cell_type": "markdown",
   "metadata": {},
   "source": [
    "### Simulation 2 - Student Performance is the multiplication of Q Matrix and Student Knowledge plus noise"
   ]
  },
  {
   "cell_type": "code",
   "execution_count": 368,
   "metadata": {},
   "outputs": [],
   "source": [
    "student_performance, student_performance_t = generate_sample(0.5)"
   ]
  },
  {
   "cell_type": "code",
   "execution_count": 369,
   "metadata": {},
   "outputs": [],
   "source": [
    "student_performance_pred_run, error_run, error_total_run = als_tensor_factorization(\n",
    "    student_performance, n_concepts=2, init=3, max_iter=50)"
   ]
  },
  {
   "cell_type": "code",
   "execution_count": 370,
   "metadata": {},
   "outputs": [],
   "source": [
    "_, error_run_t, error_total_run = als_tensor_factorization_t(\n",
    "    student_performance_t, n_concepts=2, init=3, max_iter=50)"
   ]
  },
  {
   "cell_type": "code",
   "execution_count": 371,
   "metadata": {},
   "outputs": [
    {
     "data": {
      "text/plain": [
       "array([[4.64250126, 4.40180233, 4.3158876 , 4.29768878, 4.29301625,\n",
       "        4.29318463, 4.29466717, 4.29520412, 4.29539269, 4.29545828,\n",
       "        4.29548102, 4.29548891, 4.29549164, 4.29549259, 4.29549292,\n",
       "        4.29549304, 4.29549308, 4.29549309, 4.2954931 , 4.2954931 ,\n",
       "        4.2954931 , 4.29525944, 4.29323412, 4.29209833, 4.29143434,\n",
       "        4.29103473, 4.29078947, 4.29063699, 4.2905414 , 4.29048115,\n",
       "        4.29044306, 4.29041892, 4.2904036 , 4.29039387, 4.2903877 ,\n",
       "        4.29038377, 4.29038127, 4.29037969, 4.29037868, 4.29037804,\n",
       "        4.29037763, 4.29037737, 4.2903772 , 4.2903771 , 4.29037703,\n",
       "        4.29037699, 4.29037696, 4.29037695, 4.29037693, 4.29037693],\n",
       "       [5.00771677, 4.9834224 , 4.92193845, 4.7762323 , 4.57115861,\n",
       "        4.40143683, 4.31397023, 4.28679614, 4.28238134, 4.28308779,\n",
       "        4.28415287, 4.28482076, 4.28516327, 4.28532238, 4.28539059,\n",
       "        4.28541693, 4.28542519, 4.28542629, 4.28542497, 4.28542315,\n",
       "        4.28542153, 4.28542027, 4.28541935, 4.28541871, 4.28541828,\n",
       "        4.28541799, 4.2854178 , 4.28541768, 4.28541759, 4.28541754,\n",
       "        4.28541751, 4.28541748, 4.28541747, 4.28554423, 4.28686329,\n",
       "        4.28796163, 4.28886466, 4.28960253, 4.29020358, 4.29033218,\n",
       "        4.29032329, 4.29033211, 4.29034381, 4.29035386, 4.29036139,\n",
       "        4.29036666, 4.29037023, 4.29037259, 4.29037414, 4.29037513],\n",
       "       [4.63401783, 4.39497579, 4.32108143, 4.29813708, 4.28993999,\n",
       "        4.28686184, 4.28574838, 4.28539001, 4.28530574, 4.28530981,\n",
       "        4.28533502, 4.28535974, 4.28537875, 4.28539206, 4.28540099,\n",
       "        4.28540683, 4.28541062, 4.28541306, 4.28541463, 4.28541564,\n",
       "        4.28541628, 4.2854167 , 4.28541696, 4.28541713, 4.28635857,\n",
       "        4.28754376, 4.28852227, 4.28932338, 4.28997652, 4.29034648,\n",
       "        4.29032219, 4.29032722, 4.29033892, 4.29034999, 4.29035859,\n",
       "        4.29036474, 4.29036894, 4.29037175, 4.29037359, 4.29037478,\n",
       "        4.29037555, 4.29037604, 4.29037636, 4.29037656, 4.29037669,\n",
       "        4.29037677, 4.29037682, 4.29037686, 4.29037688, 4.29037689]])"
      ]
     },
     "execution_count": 371,
     "metadata": {},
     "output_type": "execute_result"
    }
   ],
   "source": [
    "error_run"
   ]
  },
  {
   "cell_type": "code",
   "execution_count": 372,
   "metadata": {},
   "outputs": [
    {
     "data": {
      "text/plain": [
       "array([[4.5620421 , 4.34323147, 4.29935185, 4.28921054, 4.28662935,\n",
       "        4.28584803, 4.28558467, 4.28548925, 4.28545204, 4.28543607,\n",
       "        4.28542837, 4.28542422, 4.28542176, 4.28542024, 4.28541926,\n",
       "        4.28541862, 4.28541821, 4.28541794, 4.28541777, 4.28541765,\n",
       "        4.28541758, 4.28541753, 4.2854175 , 4.28541748, 4.28541747,\n",
       "        4.28541746, 4.28541745, 4.28541745, 4.28541745, 4.28541745,\n",
       "        4.28541745, 4.28541745, 4.28541744, 4.28541744, 4.28541744,\n",
       "        4.28541744, 4.28541744, 4.28541744, 4.28541744, 4.28541744,\n",
       "        4.28541744, 4.28541744, 4.28541744, 4.28541744, 4.28541744,\n",
       "        4.28541744, 4.28541744, 4.28541744, 4.28541744, 4.28541744],\n",
       "       [4.73391114, 4.41950516, 4.31775128, 4.2939333 , 4.28894734,\n",
       "        4.28829739, 4.28852691, 4.28882667, 4.28904389, 4.28917908,\n",
       "        4.28828282, 4.28674708, 4.28605781, 4.28573606, 4.28558122,\n",
       "        4.28550449, 4.28546528, 4.28544457, 4.28543327, 4.2854269 ,\n",
       "        4.2854232 , 4.285421  , 4.28541967, 4.28541885, 4.28541834,\n",
       "        4.28541801, 4.28541781, 4.28541768, 4.28541759, 4.28541754,\n",
       "        4.28671344, 4.28783764, 4.28876298, 4.28951952, 4.29013598,\n",
       "        4.29033688, 4.29032325, 4.29033084, 4.29034247, 4.29035278,\n",
       "        4.2903606 , 4.29036612, 4.29036986, 4.29037235, 4.29037398,\n",
       "        4.29037503, 4.29037571, 4.29037615, 4.29037643, 4.2903766 ],\n",
       "       [4.96013685, 4.58762411, 4.37545043, 4.30416768, 4.28754933,\n",
       "        4.28567092, 4.28665308, 4.28771552, 4.28842646, 4.28884451,\n",
       "        4.2890783 , 4.28920629, 4.28927573, 4.28931328, 4.28933357,\n",
       "        4.28934452, 4.29048563, 4.29230627, 4.2937243 , 4.29487331,\n",
       "        4.29550121, 4.29550798, 4.29550398, 4.29549944, 4.29549643,\n",
       "        4.29549475, 4.29549389, 4.29549347, 4.29549327, 4.2938081 ,\n",
       "        4.29242562, 4.29162791, 4.29115214, 4.2908619 , 4.29068217,\n",
       "        4.29056978, 4.29049906, 4.29045439, 4.2904261 , 4.29040816,\n",
       "        4.29039677, 4.29038954, 4.29038494, 4.29038202, 4.29038016,\n",
       "        4.29037898, 4.29037823, 4.29037775, 4.29037745, 4.29037725]])"
      ]
     },
     "execution_count": 372,
     "metadata": {},
     "output_type": "execute_result"
    }
   ],
   "source": [
    "error_run_t"
   ]
  },
  {
   "cell_type": "markdown",
   "metadata": {},
   "source": [
    "### Simulation 3 - Student Performance contains only zeros and ones"
   ]
  },
  {
   "cell_type": "code",
   "execution_count": 384,
   "metadata": {},
   "outputs": [],
   "source": [
    "student_performance, student_performance_t = generate_sample(0.5)"
   ]
  },
  {
   "cell_type": "code",
   "execution_count": 385,
   "metadata": {},
   "outputs": [],
   "source": [
    "student_performance[student_performance > 0.5] = 1\n",
    "student_performance[student_performance < 0.5] = 0"
   ]
  },
  {
   "cell_type": "code",
   "execution_count": 386,
   "metadata": {},
   "outputs": [],
   "source": [
    "student_performance_t[student_performance_t > 0.5] = 1\n",
    "student_performance_t[student_performance_t < 0.5] = 0"
   ]
  },
  {
   "cell_type": "code",
   "execution_count": 387,
   "metadata": {},
   "outputs": [],
   "source": [
    "student_performance_pred_run, error_run, error_total_run = als_tensor_factorization(\n",
    "    student_performance, n_concepts=2, init=3, max_iter=100)"
   ]
  },
  {
   "cell_type": "code",
   "execution_count": 388,
   "metadata": {},
   "outputs": [],
   "source": [
    "student_performance_pred_run_t, error_run_t, error_total_run = als_tensor_factorization_t(\n",
    "    student_performance_t, n_concepts=2, init=3, max_iter=100)"
   ]
  },
  {
   "cell_type": "code",
   "execution_count": 389,
   "metadata": {},
   "outputs": [],
   "source": [
    "best_run = np.unravel_index(error_run.argmin(), error_run.shape)\n",
    "best_student_performance_pred = student_performance_pred_run[best_run]"
   ]
  },
  {
   "cell_type": "code",
   "execution_count": 390,
   "metadata": {},
   "outputs": [],
   "source": [
    "best_run_t = np.unravel_index(error_run_t.argmin(), error_run_t.shape)\n",
    "best_student_performance_pred_t = student_performance_pred_run_t[best_run_t]"
   ]
  },
  {
   "cell_type": "code",
   "execution_count": 391,
   "metadata": {},
   "outputs": [],
   "source": [
    "best_student_performance_pred[best_student_performance_pred > 0.5] = 1\n",
    "best_student_performance_pred[best_student_performance_pred < 0.5] = 0"
   ]
  },
  {
   "cell_type": "code",
   "execution_count": 392,
   "metadata": {},
   "outputs": [],
   "source": [
    "best_student_performance_pred_t[best_student_performance_pred_t > 0.5] = 1\n",
    "best_student_performance_pred_t[best_student_performance_pred_t < 0.5] = 0"
   ]
  },
  {
   "cell_type": "code",
   "execution_count": 393,
   "metadata": {},
   "outputs": [
    {
     "name": "stdout",
     "output_type": "stream",
     "text": [
      "Accuracy: 78.67%\n"
     ]
    }
   ],
   "source": [
    "acc = 100*(np.logical_not(np.logical_xor(\n",
    "    student_performance, best_student_performance_pred)).sum())/(\n",
    "    student_performance.shape[0]*student_performance.shape[1]*student_performance.shape[2])\n",
    "print(\"Accuracy: %.2f%%\" % acc)"
   ]
  },
  {
   "cell_type": "code",
   "execution_count": 394,
   "metadata": {},
   "outputs": [
    {
     "name": "stdout",
     "output_type": "stream",
     "text": [
      "Accuracy: 78.67%\n"
     ]
    }
   ],
   "source": [
    "acc = 100*(np.logical_not(np.logical_xor(\n",
    "    student_performance_t, best_student_performance_pred_t)).sum())/(\n",
    "    student_performance_t.shape[0]*student_performance_t.shape[1]*student_performance_t.shape[2])\n",
    "print(\"Accuracy: %.2f%%\" % acc)"
   ]
  },
  {
   "cell_type": "code",
   "execution_count": 360,
   "metadata": {},
   "outputs": [
    {
     "data": {
      "image/png": "[encoded data removed]",
      "text/plain": [
       "<Figure size 432x288 with 1 Axes>"
      ]
     },
     "metadata": {
      "needs_background": "light"
     },
     "output_type": "display_data"
    },
    {
     "name": "stdout",
     "output_type": "stream",
     "text": [
      "CPU times: user 1min 16s, sys: 11.9 ms, total: 1min 16s\n",
      "Wall time: 1min 16s\n"
     ]
    }
   ],
   "source": [
    "%%time\n",
    "accs = []\n",
    "accs_std = []\n",
    "accs_t = []\n",
    "accs_std_t = []\n",
    "for noise in np.arange(0, 1, 0.05):\n",
    "    accs_run = []\n",
    "    accs_run_t = []\n",
    "    for run in range(50):\n",
    "        # Generate sample and approximate values to 0 and 1\n",
    "        student_performance, student_performance_t = generate_sample(noise)\n",
    "        student_performance[student_performance > 0.5] = 1\n",
    "        student_performance[student_performance < 0.5] = 0\n",
    "        \n",
    "\n",
    "#         Run tensor factorization\n",
    "        student_performance_pred_run, error_run, error_total_run = als_tensor_factorization(\n",
    "            student_performance, n_concepts=2, init=3, max_iter=50)\n",
    "        \n",
    "\n",
    "#         Get best run results\n",
    "        best_run = np.unravel_index(error_run.argmin(), error_run.shape)\n",
    "        best_student_performance_pred = student_performance_pred_run[best_run]\n",
    "        best_student_performance_pred[best_student_performance_pred > 0.5] = 1\n",
    "        best_student_performance_pred[best_student_performance_pred < 0.5] = 0\n",
    "        \n",
    "\n",
    "#         Calculate accuracy\n",
    "        acc = 100*(np.logical_not(np.logical_xor(\n",
    "            student_performance, best_student_performance_pred)).sum())/(\n",
    "            student_performance.shape[0]*student_performance.shape[1]*student_performance.shape[2])\n",
    "        accs_run.append(acc)\n",
    "\n",
    "        student_performance_t[student_performance_t > 0.5] = 1\n",
    "        student_performance_t[student_performance_t < 0.5] = 0\n",
    "        student_performance_pred_run_t, error_run_t, error_total_run = als_tensor_factorization_t(\n",
    "            student_performance_t, n_concepts=2, init=3, max_iter=50)\n",
    "        best_run_t = np.unravel_index(error_run_t.argmin(), error_run_t.shape)\n",
    "        best_student_performance_pred_t = student_performance_pred_run_t[best_run_t]\n",
    "        best_student_performance_pred_t[best_student_performance_pred_t > 0.5] = 1\n",
    "        best_student_performance_pred_t[best_student_performance_pred_t < 0.5] = 0\n",
    "        acc_t = 100*(np.logical_not(np.logical_xor(\n",
    "            student_performance_t, best_student_performance_pred_t)).sum())/(\n",
    "            student_performance_t.shape[0]*student_performance_t.shape[1]*student_performance_t.shape[2])\n",
    "        accs_run_t.append(acc_t)\n",
    "        \n",
    "    accs_t.append(np.asarray(accs_run_t).mean())\n",
    "    accs_std_t.append(np.asarray(accs_run_t).std())\n",
    "    accs.append(np.asarray(accs_run).mean())\n",
    "    accs_std.append(np.asarray(accs_run).std())\n",
    "    \n",
    "plt.errorbar(np.arange(0, 1, 0.05), accs, yerr=accs_std)\n",
    "plt.show()\n",
    "# plt.errorbar(np.arange(0, 0.05, 0.05), accs_t, yerr=accs_std_t)\n",
    "# plt.show()"
   ]
  },
  {
   "cell_type": "code",
   "execution_count": 362,
   "metadata": {},
   "outputs": [
    {
     "data": {
      "text/plain": [
       "[98.32,\n",
       " 97.57333333333332,\n",
       " 96.02666666666666,\n",
       " 94.43999999999998,\n",
       " 90.97333333333331,\n",
       " 90.06666666666666,\n",
       " 87.82666666666668,\n",
       " 86.29333333333334,\n",
       " 85.49333333333333,\n",
       " 84.89333333333335,\n",
       " 83.90666666666667,\n",
       " 83.89333333333335,\n",
       " 83.61333333333332,\n",
       " 83.32,\n",
       " 82.46666666666665,\n",
       " 82.38666666666666,\n",
       " 81.8,\n",
       " 81.81333333333333,\n",
       " 81.94666666666666,\n",
       " 82.02666666666669]"
      ]
     },
     "execution_count": 362,
     "metadata": {},
     "output_type": "execute_result"
    }
   ],
   "source": [
    "accs"
   ]
  },
  {
   "cell_type": "code",
   "execution_count": 361,
   "metadata": {},
   "outputs": [
    {
     "data": {
      "image/png": "[encoded data removed]",
      "text/plain": [
       "<Figure size 432x288 with 1 Axes>"
      ]
     },
     "metadata": {
      "needs_background": "light"
     },
     "output_type": "display_data"
    },
    {
     "name": "stdout",
     "output_type": "stream",
     "text": [
      "CPU times: user 1min 16s, sys: 28 ms, total: 1min 16s\n",
      "Wall time: 1min 16s\n"
     ]
    }
   ],
   "source": [
    "%%time\n",
    "accs = []\n",
    "accs_std = []\n",
    "for noise in np.arange(0, 1, 0.05):\n",
    "    accs_run = []\n",
    "    for run in range(50):\n",
    "        # Generate sample and approximate values to 0 and 1\n",
    "        student_performance, student_performance_t = generate_sample(noise)\n",
    "        student_performance[student_performance > 0.5] = 1\n",
    "        student_performance[student_performance < 0.5] = 0\n",
    "\n",
    "        # Run tensor factorization\n",
    "        student_performance_pred_run, error_run, error_total_run = als_tensor_factorization(\n",
    "            student_performance, n_concepts=2, init=3, max_iter=50)\n",
    "\n",
    "        # Get best run results\n",
    "        best_run = np.unravel_index(error_run.argmin(), error_run.shape)\n",
    "        best_student_performance_pred = student_performance_pred_run[best_run]\n",
    "        best_student_performance_pred[best_student_performance_pred > 0.5] = 1\n",
    "        best_student_performance_pred[best_student_performance_pred < 0.5] = 0\n",
    "\n",
    "        # Calculate accuracy\n",
    "        acc = 100*(np.logical_not(np.logical_xor(\n",
    "            student_performance, best_student_performance_pred)).sum())/(\n",
    "            student_performance.shape[0]*student_performance.shape[1]*student_performance.shape[2])\n",
    "        accs_run.append(acc)\n",
    "    accs.append(np.asarray(accs_run).mean())\n",
    "    accs_std.append(np.asarray(accs_run).std())\n",
    "    \n",
    "plt.errorbar(np.arange(0, 1, 0.05), accs, yerr=accs_std)\n",
    "plt.show()"
   ]
  },
  {
   "cell_type": "code",
   "execution_count": 485,
   "metadata": {},
   "outputs": [],
   "source": [
    "diff = np.zeros((N_QUESTIONS, N_STUDENTS, N_ATTEMPTS))\n",
    "for attempt in range(N_ATTEMPTS):\n",
    "    diff[:, :, attempt] = student_performance[:, :, attempt] - best_student_performance_pred[:, :, attempt]"
   ]
  },
  {
   "cell_type": "code",
   "execution_count": 486,
   "metadata": {},
   "outputs": [
    {
     "data": {
      "text/plain": [
       "4.898979485566356"
      ]
     },
     "execution_count": 486,
     "metadata": {},
     "output_type": "execute_result"
    }
   ],
   "source": [
    "np.sqrt(np.sum(np.power(diff, 2)))"
   ]
  }
 ],
 "metadata": {
  "kernelspec": {
   "display_name": "Python 3",
   "language": "python",
   "name": "python3"
  },
  "language_info": {
   "codemirror_mode": {
    "name": "ipython",
    "version": 3
   },
   "file_extension": ".py",
   "mimetype": "text/x-python",
   "name": "python",
   "nbconvert_exporter": "python",
   "pygments_lexer": "ipython3",
   "version": "3.6.10"
  }
 },
 "nbformat": 4,
 "nbformat_minor": 4
}
