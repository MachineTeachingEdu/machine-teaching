{
 "cells": [
  {
   "cell_type": "code",
   "execution_count": 3,
   "metadata": {},
   "outputs": [
    {
     "data": {
      "text/plain": [
       "14"
      ]
     },
     "execution_count": 3,
     "metadata": {},
     "output_type": "execute_result"
    }
   ],
   "source": [
    "from datetime import datetime\n",
    "not_valid = ['Vídeo', 'Sem turma', 'Turma aberta', 'Teste']\n",
    "# onlineclasses = OnlineClass.objects.exclude(name__in=not_valid)\n",
    "data_inicio = datetime.strptime('11/04/2022 00:00:00', '%d/%m/%Y %H:%M:%S')\n",
    "\n",
    "onlineclasses = OnlineClass.objects.filter(active=True, start_date__gte=data_inicio).exclude(name__in=not_valid)\n",
    "onlineclasses.count()"
   ]
  },
  {
   "cell_type": "code",
   "execution_count": 4,
   "metadata": {},
   "outputs": [
    {
     "name": "stdout",
     "output_type": "stream",
     "text": [
      "2022.1-EM2\n",
      "2022.1-MAE-BIO\n",
      "2022.1-EN1\n",
      "Comp1_2022_1_Ep(Carla)\n",
      "CompI.2022.1 - CMT2 (Luiz F.)\n",
      "CompI.2022.1 - EM1 (Luiz F.)\n",
      "Computação 1  (EC1) - 2022.1\n",
      "Computação 1 (ENU) -2022.1\n",
      "Computação 1 (CMT3) - 2022.1\n",
      "11324 - Comp1_EC2\n",
      "11528 - Comp1_IFN_IQQ\n",
      "Comp1_2022.1_TQ_13-15\n",
      "CompI.2022.1 - CMT4/IQT1 (Luiz F.)\n",
      "Comp1_2022.1_TQ_08-10\n"
     ]
    }
   ],
   "source": [
    "for item in onlineclasses:\n",
    "    print(item.name)"
   ]
  },
  {
   "cell_type": "code",
   "execution_count": 5,
   "metadata": {},
   "outputs": [
    {
     "data": {
      "text/plain": [
       "109"
      ]
     },
     "execution_count": 5,
     "metadata": {},
     "output_type": "execute_result"
    }
   ],
   "source": [
    "professors = Professor.objects.all().values_list('user')\n",
    "professors.count()"
   ]
  },
  {
   "cell_type": "code",
   "execution_count": 6,
   "metadata": {},
   "outputs": [
    {
     "data": {
      "text/plain": [
       "487"
      ]
     },
     "execution_count": 6,
     "metadata": {},
     "output_type": "execute_result"
    }
   ],
   "source": [
    "userprofile = UserProfile.objects.filter(user_class__in=onlineclasses).exclude(user__in=professors).values_list(\n",
    "    'user__email', 'user__first_name', 'user__last_name')\n",
    "userprofile.count()"
   ]
  },
  {
   "cell_type": "code",
   "execution_count": 7,
   "metadata": {},
   "outputs": [],
   "source": [
    "import csv"
   ]
  },
  {
   "cell_type": "code",
   "execution_count": 8,
   "metadata": {},
   "outputs": [],
   "source": [
    "with open('contacts.csv', 'w') as csvfile:\n",
    "    writer = csv.writer(csvfile, delimiter=',',)\n",
    "    writer.writerow(['email', 'first_name', 'last_name', 'address_line_1', \n",
    "                     'address_line_2', 'city', 'state_province_region', \n",
    "                     'postal_code', 'country'])\n",
    "    for row in userprofile:\n",
    "        writer.writerow(list(row) + ['']*6)"
   ]
  }
 ],
 "metadata": {
  "kernelspec": {
   "display_name": "Django Shell-Plus",
   "language": "python",
   "name": "django_extensions"
  },
  "language_info": {
   "codemirror_mode": {
    "name": "ipython",
    "version": 3
   },
   "file_extension": ".py",
   "mimetype": "text/x-python",
   "name": "python",
   "nbconvert_exporter": "python",
   "pygments_lexer": "ipython3",
   "version": "3.8.10"
  }
 },
 "nbformat": 4,
 "nbformat_minor": 4
}
