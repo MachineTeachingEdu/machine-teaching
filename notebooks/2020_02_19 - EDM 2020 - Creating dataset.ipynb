{
 "cells": [
  {
   "cell_type": "code",
   "execution_count": 3,
   "metadata": {},
   "outputs": [],
   "source": [
    "# Helpers\n",
    "from collections import Counter, defaultdict\n",
    "import numpy as np\n",
    "from itertools import chain\n",
    "import pickle\n",
    "\n",
    "#DB\n",
    "from django.db.models import Case, IntegerField, Value\n",
    "\n",
    "# Plot\n",
    "import matplotlib.pyplot as plt\n",
    "import seaborn as sns"
   ]
  },
  {
   "cell_type": "code",
   "execution_count": 4,
   "metadata": {},
   "outputs": [],
   "source": [
    "folder = \"data/edm2020/\"\n",
    "folder_main = 'data/recommendation'\n",
    "folder = folder_main + '/lak'"
   ]
  },
  {
   "cell_type": "markdown",
   "metadata": {},
   "source": [
    "### Creating train and test sets\n",
    "We have Q-Matrix for the first 54 solutions that were validated by the professors. So, we can only use that students that replied to these problems in the dataset.\n",
    "\n",
    "#### Descriptive statistics"
   ]
  },
  {
   "cell_type": "code",
   "execution_count": 5,
   "metadata": {},
   "outputs": [
    {
     "name": "stdout",
     "output_type": "stream",
     "text": [
      "Total number of questions: 48\n",
      "Total number of solutions: 54\n",
      "42 problems with 1 solution\n",
      "6 problems with 2 solutions\n"
     ]
    }
   ],
   "source": [
    "# Filter used problems and solutions\n",
    "last_id = 132\n",
    "problems = Problem.objects.filter(id__lte=last_id)\n",
    "solutions = Solution.objects.filter(problem__in=problems, ignore=False).values_list('problem', flat=True)\n",
    "problems = solutions.order_by('problem').values_list(\n",
    "    'problem', flat=True).distinct('problem')\n",
    "print(\"Total number of questions: %d\" % problems.count())\n",
    "print(\"Total number of solutions: %d\" % solutions.count())\n",
    "\n",
    "print(\"%d problems with 1 solution\" % Counter(Counter(solutions).values())[1])\n",
    "print(\"%d problems with 2 solutions\" % Counter(Counter(solutions).values())[2])"
   ]
  },
  {
   "cell_type": "code",
   "execution_count": 6,
   "metadata": {},
   "outputs": [
    {
     "name": "stdout",
     "output_type": "stream",
     "text": [
      "Mean number of evaluations: 4.04\n",
      "Max number of evaluations: 5\n",
      "Min number of evaluations: 3\n"
     ]
    },
    {
     "data": {
      "image/png": "[encoded data removed]",
      "text/plain": [
       "<Figure size 864x288 with 2 Axes>"
      ]
     },
     "metadata": {
      "needs_background": "light"
     },
     "output_type": "display_data"
    }
   ],
   "source": [
    "# Get voted concepts per solution\n",
    "concepts = SolutionConcept.objects.all()\n",
    "count = concepts.values_list('solution').annotate(count=Count('user', distinct=True))\n",
    "sol_id, eval_count = zip(*list(count))\n",
    "# plt.figure(figsize=(10,8))\n",
    "\n",
    "print(\"Mean number of evaluations: %.2f\" % np.mean(eval_count))\n",
    "print(\"Max number of evaluations: %d\" % np.max(eval_count))\n",
    "print(\"Min number of evaluations: %d\" % np.min(eval_count))\n",
    "\n",
    "f, (ax1, ax2) = plt.subplots(1, 2, figsize=(12,4))\n",
    "ax1.bar(range(len(sol_id)), eval_count)\n",
    "ax1.set_title(\"Number of evaluations per solution\")\n",
    "ax2.bar(Counter(eval_count).keys(), Counter(eval_count).values())\n",
    "ax2.set_title(\"Histogram: quantity of solution per number of evaluation\")\n",
    "plt.tight_layout()\n",
    "plt.show()"
   ]
  },
  {
   "cell_type": "code",
   "execution_count": 7,
   "metadata": {},
   "outputs": [
    {
     "name": "stdout",
     "output_type": "stream",
     "text": [
      "Mean number of evaluations: 4.42\n",
      "Max number of evaluations: 8\n",
      "Min number of evaluations: 3\n"
     ]
    },
    {
     "data": {
      "image/png": "[encoded data removed]",
      "text/plain": [
       "<Figure size 864x288 with 2 Axes>"
      ]
     },
     "metadata": {
      "needs_background": "light"
     },
     "output_type": "display_data"
    }
   ],
   "source": [
    "# Get voted concepts per problem\n",
    "concepts = SolutionConcept.objects.all()\n",
    "count = concepts.values_list('solution__problem').annotate(count=Count('user', distinct=True))\n",
    "sol_id, eval_count = zip(*list(count))\n",
    "# plt.figure(figsize=(10,8))\n",
    "\n",
    "print(\"Mean number of evaluations: %.2f\" % np.mean(eval_count))\n",
    "print(\"Max number of evaluations: %d\" % np.max(eval_count))\n",
    "print(\"Min number of evaluations: %d\" % np.min(eval_count))\n",
    "\n",
    "f, (ax1, ax2) = plt.subplots(1, 2, figsize=(12,4))\n",
    "ax1.bar(range(len(sol_id)), eval_count)\n",
    "ax1.set_title(\"Number of evaluations per problem\")\n",
    "ax2.bar(Counter(eval_count).keys(), Counter(eval_count).values())\n",
    "ax2.set_title(\"Histogram: quantity of problems per number of evaluation\")\n",
    "plt.tight_layout()\n",
    "plt.show()"
   ]
  },
  {
   "cell_type": "markdown",
   "metadata": {},
   "source": [
    "#### Concept agreement"
   ]
  },
  {
   "cell_type": "code",
   "execution_count": 8,
   "metadata": {},
   "outputs": [
    {
     "name": "stdout",
     "output_type": "stream",
     "text": [
      "Total number of valid concepts: 13\n",
      "1 - Syntax\n",
      "2 - Assignment\n",
      "3 - Data type: number\n",
      "4 - Data type: boolean\n",
      "5 - Math\n",
      "6 - Logic\n",
      "7 - Data type: string\n",
      "8 - Data type: list (or array)\n",
      "9 - Data type: tuple\n",
      "11 - Conditional\n",
      "12 - Loop\n",
      "13 - Nested loop\n",
      "14 - Function\n",
      "\n",
      "Most used concept(s): 'Loop' present in 20 problems.\n",
      "Least used concept(s): 'Assignment; Data type: boolean; Data type: tuple' present in 1 problem(s).\n",
      "\n",
      "One concept is present in average in 6.69 problems.\n",
      "One problem has an average of 1.81 concepts.\n"
     ]
    },
    {
     "data": {
      "image/png": "[encoded data removed]",
      "text/plain": [
       "<Figure size 864x288 with 2 Axes>"
      ]
     },
     "metadata": {
      "needs_background": "light"
     },
     "output_type": "display_data"
    }
   ],
   "source": [
    "# Count concept agreement per problem\n",
    "count_per_problem = dict(concepts.values_list('solution__problem').annotate(\n",
    "    count=Count('user', distinct=True)))\n",
    "\n",
    "MIN_THRESHOLD = 0.75\n",
    "agreed_concepts = defaultdict(list)\n",
    "agreed_concepts_len = {}\n",
    "\n",
    "# Filter out the concepts that didn't have agreement (50% of evaluators voted for it)\n",
    "for problem in problems:\n",
    "    max_votes = count_per_problem[problem]\n",
    "    concepts_per_problem = dict(concepts.filter(solution__problem=problem).values_list('concept').annotate(\n",
    "        count=Count(\"concept\")))\n",
    "    for concept, value in concepts_per_problem.items():\n",
    "        if value >= (max_votes * MIN_THRESHOLD):\n",
    "            agreed_concepts[problem].append(concept)\n",
    "    agreed_concepts_len[problem] = len(agreed_concepts[problem])\n",
    "            \n",
    "agreed_concepts_all = list(chain.from_iterable(agreed_concepts.values()))\n",
    "agreed_concepts_set = set(agreed_concepts_all)\n",
    "print(\"Total number of valid concepts: %d\" % len(agreed_concepts_set))\n",
    "for concept in agreed_concepts_set:\n",
    "    print(Concept.objects.get(pk=concept))\n",
    "\n",
    "# Get most used concept\n",
    "concepts_counter = Counter(agreed_concepts_all)\n",
    "most_common = concepts_counter.most_common()[0]\n",
    "count_most_common  = list(concepts_counter.values()).count(most_common[1])\n",
    "most_common = concepts_counter.most_common()[:count_most_common]\n",
    "most_concepts, values = zip(*most_common)\n",
    "most_concepts = '; '.join(list(Concept.objects.filter(\n",
    "    pk__in=most_concepts).values_list('label', flat=True)))\n",
    "\n",
    "# Get least used concept\n",
    "least_common = concepts_counter.most_common()[-1]\n",
    "count_least_common  = list(concepts_counter.values()).count(least_common[1])\n",
    "least_common = concepts_counter.most_common()[-count_least_common:]\n",
    "least_concepts, values = zip(*least_common)\n",
    "least_concepts = '; '.join(list(Concept.objects.filter(\n",
    "    pk__in=least_concepts).values_list('label', flat=True)))\n",
    "\n",
    "\n",
    "print()\n",
    "print(\"Most used concept(s): '%s' present in %d problems.\" % (most_concepts, most_common[0][1]))\n",
    "print(\"Least used concept(s): '%s' present in %d problem(s).\" % (least_concepts, least_common[-1][1]))\n",
    "print()\n",
    "print(\"One concept is present in average in %.2f problems.\" % np.mean(list(concepts_counter.values())))\n",
    "print(\"One problem has an average of %.2f concepts.\" % (np.mean(list(agreed_concepts_len.values()))))\n",
    "\n",
    "f, (ax1, ax2) = plt.subplots(1, 2, figsize=(12,4))\n",
    "ax1.hist(concepts_counter.values(), bins=range(0,30,5))\n",
    "ax1.set_title(\"Histogram: quantity of problems per number of concepts\")\n",
    "ax2.hist(agreed_concepts_len.values())\n",
    "ax2.set_title(\"Histogram: quantity of concepts per number of problems\")\n",
    "plt.tight_layout()\n",
    "plt.show()"
   ]
  },
  {
   "cell_type": "markdown",
   "metadata": {},
   "source": [
    "### Build Q-Matrix\n",
    "Total number of concepts: 14\n",
    "\n",
    "Total number of problems: 48"
   ]
  },
  {
   "cell_type": "code",
   "execution_count": 11,
   "metadata": {},
   "outputs": [],
   "source": [
    "concept_idx = np.asarray(list(agreed_concepts_set))\n",
    "questions_idx = list(problems)\n",
    "\n",
    "q_matrix = np.zeros((len(concept_idx), len(questions_idx)))\n",
    "\n",
    "for q_idx, question_id in enumerate(questions_idx):\n",
    "    used_concepts = agreed_concepts[question_id]\n",
    "    q_matrix[np.where(np.isin(concept_idx, used_concepts)), q_idx] = 1"
   ]
  },
  {
   "cell_type": "code",
   "execution_count": 12,
   "metadata": {},
   "outputs": [],
   "source": [
    "with open(\"%s/q_matrix.pkl\" % folder, \"wb\") as pklfile:\n",
    "    pickle.dump(q_matrix, pklfile)    "
   ]
  },
  {
   "cell_type": "code",
   "execution_count": 13,
   "metadata": {},
   "outputs": [],
   "source": [
    "with open(\"%s/questions_idx.pkl\" % folder, \"wb\") as pklfile:\n",
    "    pickle.dump(questions_idx, pklfile)    "
   ]
  },
  {
   "cell_type": "code",
   "execution_count": 14,
   "metadata": {},
   "outputs": [],
   "source": [
    "with open(\"%s/concept_idx.pkl\" % folder, \"wb\") as pklfile:\n",
    "    pickle.dump(concept_idx, pklfile)  "
   ]
  },
  {
   "cell_type": "markdown",
   "metadata": {},
   "source": [
    "### Create train and test sets"
   ]
  },
  {
   "cell_type": "code",
   "execution_count": null,
   "metadata": {},
   "outputs": [],
   "source": [
    "# Get all students\n",
    "user_blacklist = UserProfile.objects.filter(professor__user__username='sem_professor')\n",
    "\n",
    "attempts = UserLog.objects.exclude(outcome='S').filter(\n",
    "    timestamp__lt=OuterRef('timestamp'), user__id=OuterRef('user__id')).annotate(\n",
    "    attempt=Count('*')).values('attempt')\n",
    "\n",
    "# Remove group by values\n",
    "attempts.query.set_group_by()\n",
    "\n",
    "# Get users\n",
    "users = UserLog.objects.filter(problem__in=problems).exclude(outcome='S').exclude(\n",
    "    user__userprofile__in=user_blacklist).annotate(\n",
    "    attempt=Subquery(attempts, output_field=IntegerField())).annotate(\n",
    "    score=Case(\n",
    "        When(outcome='F', then=Value(0.1)),\n",
    "        When(outcome='P', then=Value(1)),\n",
    "        output_field=IntegerField())).values_list(\n",
    "    \"user__id\", \"problem_id\", \"attempt\", \"score\"#\"outcome\", \"timestamp\"\n",
    ").order_by(\"timestamp\").filter(attempt=1).values_list('user_id', flat=True)\n",
    "\n",
    "data = UserLog.objects.filter(problem__in=problems).exclude(outcome='S').annotate(\n",
    "    attempt=Subquery(attempts, output_field=IntegerField())).annotate(\n",
    "    score=Case(\n",
    "        When(outcome='F', then=Value(0)),\n",
    "        When(outcome='P', then=Value(1)),\n",
    "        output_field=IntegerField())).values_list(\n",
    "    \"user__id\", \"problem_id\", \"attempt\", \"score\", #\"outcome\", #\"timestamp\"\n",
    ").order_by(\"timestamp\").filter(user__in=users)"
   ]
  },
  {
   "cell_type": "markdown",
   "metadata": {},
   "source": [
    "Attempts statistics"
   ]
  },
  {
   "cell_type": "code",
   "execution_count": 13,
   "metadata": {},
   "outputs": [
    {
     "name": "stdout",
     "output_type": "stream",
     "text": [
      "Total of 3632 attempts\n",
      "Total of 197 students\n",
      "Average of attempt per student: 18.44\n",
      "Success attempts: 764 (21.04%)\n",
      "Failed attempts: 2868 (78.96%)\n"
     ]
    }
   ],
   "source": [
    "%%time\n",
    "attempts_total = data.count()\n",
    "users_total = users.count()\n",
    "success_attempts = data.filter(score=1)\n",
    "fail_attempts = data.filter(score=0)\n",
    "\n",
    "print(\"Total of %d attempts\" % attempts_total)\n",
    "print(\"Total of %d students\" % users_total)\n",
    "print(\"Average of attempt per student: %.2f\" % (attempts_total/users_total))\n",
    "print(\"Success attempts: %d (%.2f%%)\" % (success_attempts.count(),100*success_attempts.count()/attempts_total))\n",
    "print(\"Failed attempts: %d (%.2f%%)\" % (fail_attempts.count(), 100*fail_attempts.count()/attempts_total))"
   ]
  },
  {
   "cell_type": "code",
   "execution_count": 14,
   "metadata": {},
   "outputs": [],
   "source": [
    "def print_stats(title, values):\n",
    "    op = {\n",
    "        \"3. Min: %d\": min,\n",
    "        \"4. Max: %d\": max,\n",
    "        \"1. Avg: %.2f:\": np.mean,\n",
    "        \"2. Median: %d\": np.median\n",
    "    }\n",
    "    \n",
    "    stats = title + \"\\n\"\n",
    "    results = []\n",
    "    for key, value in op.items():\n",
    "        results.append(key % value(list(values)))\n",
    "        \n",
    "    results.sort()\n",
    "    stats += \"\\n\".join(results) + \"\\n\"\n",
    "    return stats"
   ]
  },
  {
   "cell_type": "code",
   "execution_count": 15,
   "metadata": {},
   "outputs": [
    {
     "name": "stdout",
     "output_type": "stream",
     "text": [
      "Attempts x Question\n",
      "1. Avg: 75.67:\n",
      "2. Median: 55\n",
      "3. Min: 10\n",
      "4. Max: 304\n",
      "\n",
      "Attempts x Student\n",
      "1. Avg: 18.44:\n",
      "2. Median: 11\n",
      "3. Min: 2\n",
      "4. Max: 266\n",
      "\n",
      "Student x Question\n",
      "1. Avg: 18.17:\n",
      "2. Median: 14\n",
      "3. Min: 4\n",
      "4. Max: 71\n",
      "\n",
      "Question x Student\n",
      "1. Avg: 4.43:\n",
      "2. Median: 3\n",
      "3. Min: 1\n",
      "4. Max: 44\n",
      "\n"
     ]
    },
    {
     "data": {
      "image/png": "[encoded data removed]",
      "text/plain": [
       "<Figure size 432x288 with 1 Axes>"
      ]
     },
     "metadata": {
      "needs_background": "light"
     },
     "output_type": "display_data"
    },
    {
     "data": {
      "image/png": "[encoded data removed]",
      "text/plain": [
       "<Figure size 432x288 with 1 Axes>"
      ]
     },
     "metadata": {
      "needs_background": "light"
     },
     "output_type": "display_data"
    },
    {
     "data": {
      "image/png": "[encoded data removed]",
      "text/plain": [
       "<Figure size 432x288 with 1 Axes>"
      ]
     },
     "metadata": {
      "needs_background": "light"
     },
     "output_type": "display_data"
    }
   ],
   "source": [
    "attempts_per_question = defaultdict(int)\n",
    "attempts_per_student = defaultdict(int)\n",
    "questions_per_student = defaultdict(set)\n",
    "students_per_question = defaultdict(set)\n",
    "total_questions_per_student = defaultdict(int)\n",
    "total_students_per_question = defaultdict(int)\n",
    "\n",
    "for row in data:\n",
    "    s_idx, q_idx, a_idx, outcome = row\n",
    "    attempts_per_question[q_idx] += 1\n",
    "    attempts_per_student[s_idx] += 1\n",
    "    questions_per_student[s_idx].add(q_idx)\n",
    "    students_per_question[q_idx].add(s_idx)\n",
    "    total_questions_per_student[s_idx] = len(questions_per_student[s_idx])\n",
    "    total_students_per_question[q_idx] = len(students_per_question[q_idx])\n",
    "    \n",
    "# Attempts x question\n",
    "print(print_stats(\"Attempts x Question\", attempts_per_question.values()))\n",
    "\n",
    "# Attempts x student\n",
    "print(print_stats(\"Attempts x Student\", attempts_per_student.values()))\n",
    "\n",
    "# Question x student\n",
    "print(print_stats(\"Student x Question\", total_students_per_question.values()))\n",
    "\n",
    "# Student x question\n",
    "print(print_stats(\"Question x Student\", total_questions_per_student.values()))\n",
    "\n",
    "# f, subs = plt.subplots(1, 2, figsize=(12,4))\n",
    "fig = plt.figure(figsize=(6,4))\n",
    "# bins_question = subs[0].hist(attempts_per_question.values(), bins=list(range(0,160, 20)))\n",
    "# subs[0].set_title(\"Quantity of problems per number of attempts (limited at 160)\")\n",
    "# subs[0].set_xlabel(\"Number of attempts\")\n",
    "# subs[0].set_ylabel(\"Quantity of problems\")\n",
    "plt.hist(attempts_per_question.values(), bins=list(range(0,160, 20)))\n",
    "plt.title(\"Quantity of problems per number of attempts (limited at 160)\")\n",
    "plt.xlabel(\"Number of attempts\")\n",
    "plt.ylabel(\"Quantity of problems\")\n",
    "plt.savefig('%s/attempts_problems.eps' % folder, format='eps')\n",
    "plt.savefig('%s/attempts_problems.png' % folder, format='png')\n",
    "plt.show()\n",
    "\n",
    "fig = plt.figure(figsize=(6,4))\n",
    "plt.hist(attempts_per_student.values(), bins=list(range(0,60,5)))\n",
    "plt.title(\"Quantity of students per number of attempts (limited at 60)\")\n",
    "plt.xlabel(\"Number of attempts\")\n",
    "plt.ylabel(\"Quantity of students\")\n",
    "plt.savefig('%s/attempts_students.eps' % folder, format='eps')\n",
    "plt.savefig('%s/attempts_students.png' % folder, format='png')\n",
    "plt.show()\n",
    "\n",
    "# bins_students = subs[1].hist(attempts_per_student.values(), bins=list(range(0,60,5)))\n",
    "# subs[1].set_title(\"Quantity of students per number of attempts (limited at 60)\")\n",
    "# subs[1].set_xlabel(\"Number of attempts\")\n",
    "# subs[1].set_ylabel(\"Quantity of students\")\n",
    "# # subs[1][1].hist(attempts_per_student.values(), bins=list(range(60,400,5)))\n",
    "# plt.tight_layout()\n",
    "\n",
    "fig = plt.figure(figsize=(6,4))\n",
    "bins = plt.hist(total_questions_per_student.values(), bins=list(range(0,50,1)))\n",
    "plt.title(\"Quantity of students per number of questions\")\n",
    "plt.xlabel(\"Number of questions\")\n",
    "plt.ylabel(\"Quantity of students\")\n",
    "# plt.savefig('edm2020/attempts_students.eps', format='eps')\n",
    "# plt.savefig('edm2020/attempts_students.png', format='png')\n",
    "plt.show()"
   ]
  },
  {
   "cell_type": "code",
   "execution_count": 12,
   "metadata": {
    "scrolled": false
   },
   "outputs": [
    {
     "name": "stderr",
     "output_type": "stream",
     "text": [
      "The PostScript backend does not support transparency; partially transparent artists will be rendered opaque.\n",
      "The PostScript backend does not support transparency; partially transparent artists will be rendered opaque.\n",
      "The PostScript backend does not support transparency; partially transparent artists will be rendered opaque.\n",
      "The PostScript backend does not support transparency; partially transparent artists will be rendered opaque.\n",
      "The PostScript backend does not support transparency; partially transparent artists will be rendered opaque.\n",
      "The PostScript backend does not support transparency; partially transparent artists will be rendered opaque.\n",
      "The PostScript backend does not support transparency; partially transparent artists will be rendered opaque.\n",
      "The PostScript backend does not support transparency; partially transparent artists will be rendered opaque.\n",
      "The PostScript backend does not support transparency; partially transparent artists will be rendered opaque.\n",
      "The PostScript backend does not support transparency; partially transparent artists will be rendered opaque.\n",
      "The PostScript backend does not support transparency; partially transparent artists will be rendered opaque.\n",
      "The PostScript backend does not support transparency; partially transparent artists will be rendered opaque.\n",
      "The PostScript backend does not support transparency; partially transparent artists will be rendered opaque.\n",
      "The PostScript backend does not support transparency; partially transparent artists will be rendered opaque.\n",
      "The PostScript backend does not support transparency; partially transparent artists will be rendered opaque.\n",
      "The PostScript backend does not support transparency; partially transparent artists will be rendered opaque.\n",
      "The PostScript backend does not support transparency; partially transparent artists will be rendered opaque.\n",
      "The PostScript backend does not support transparency; partially transparent artists will be rendered opaque.\n"
     ]
    },
    {
     "name": "stdout",
     "output_type": "stream",
     "text": [
      "Success attempts x Student\n",
      "1. Avg: 4.34:\n",
      "2. Median: 3\n",
      "3. Min: 1\n",
      "4. Max: 36\n",
      "\n",
      "Failed attempts x Student\n",
      "1. Avg: 15.26:\n",
      "2. Median: 9\n",
      "3. Min: 1\n",
      "4. Max: 258\n",
      "\n",
      "Success attempts x Question\n",
      "1. Avg: 15.92:\n",
      "2. Median: 12\n",
      "3. Min: 1\n",
      "4. Max: 88\n",
      "\n",
      "Failed attempts x Question\n",
      "1. Avg: 62.35:\n",
      "2. Median: 39\n",
      "3. Min: 3\n",
      "4. Max: 252\n",
      "\n"
     ]
    },
    {
     "data": {
      "image/png": "[encoded data removed]",
      "text/plain": [
       "<Figure size 432x288 with 1 Axes>"
      ]
     },
     "metadata": {
      "needs_background": "light"
     },
     "output_type": "display_data"
    },
    {
     "name": "stderr",
     "output_type": "stream",
     "text": [
      "The PostScript backend does not support transparency; partially transparent artists will be rendered opaque.\n",
      "The PostScript backend does not support transparency; partially transparent artists will be rendered opaque.\n"
     ]
    },
    {
     "data": {
      "image/png": "[encoded data removed]",
      "text/plain": [
       "<Figure size 432x288 with 1 Axes>"
      ]
     },
     "metadata": {
      "needs_background": "light"
     },
     "output_type": "display_data"
    },
    {
     "name": "stderr",
     "output_type": "stream",
     "text": [
      "The PostScript backend does not support transparency; partially transparent artists will be rendered opaque.\n",
      "The PostScript backend does not support transparency; partially transparent artists will be rendered opaque.\n",
      "The PostScript backend does not support transparency; partially transparent artists will be rendered opaque.\n",
      "The PostScript backend does not support transparency; partially transparent artists will be rendered opaque.\n",
      "The PostScript backend does not support transparency; partially transparent artists will be rendered opaque.\n",
      "The PostScript backend does not support transparency; partially transparent artists will be rendered opaque.\n",
      "The PostScript backend does not support transparency; partially transparent artists will be rendered opaque.\n",
      "The PostScript backend does not support transparency; partially transparent artists will be rendered opaque.\n",
      "The PostScript backend does not support transparency; partially transparent artists will be rendered opaque.\n",
      "The PostScript backend does not support transparency; partially transparent artists will be rendered opaque.\n",
      "The PostScript backend does not support transparency; partially transparent artists will be rendered opaque.\n",
      "The PostScript backend does not support transparency; partially transparent artists will be rendered opaque.\n",
      "The PostScript backend does not support transparency; partially transparent artists will be rendered opaque.\n",
      "The PostScript backend does not support transparency; partially transparent artists will be rendered opaque.\n",
      "The PostScript backend does not support transparency; partially transparent artists will be rendered opaque.\n",
      "The PostScript backend does not support transparency; partially transparent artists will be rendered opaque.\n",
      "The PostScript backend does not support transparency; partially transparent artists will be rendered opaque.\n",
      "The PostScript backend does not support transparency; partially transparent artists will be rendered opaque.\n",
      "The PostScript backend does not support transparency; partially transparent artists will be rendered opaque.\n",
      "The PostScript backend does not support transparency; partially transparent artists will be rendered opaque.\n",
      "The PostScript backend does not support transparency; partially transparent artists will be rendered opaque.\n",
      "The PostScript backend does not support transparency; partially transparent artists will be rendered opaque.\n",
      "The PostScript backend does not support transparency; partially transparent artists will be rendered opaque.\n",
      "The PostScript backend does not support transparency; partially transparent artists will be rendered opaque.\n",
      "The PostScript backend does not support transparency; partially transparent artists will be rendered opaque.\n",
      "The PostScript backend does not support transparency; partially transparent artists will be rendered opaque.\n"
     ]
    },
    {
     "data": {
      "image/png": "[encoded data removed]",
      "text/plain": [
       "<Figure size 432x288 with 1 Axes>"
      ]
     },
     "metadata": {
      "needs_background": "light"
     },
     "output_type": "display_data"
    },
    {
     "name": "stderr",
     "output_type": "stream",
     "text": [
      "The PostScript backend does not support transparency; partially transparent artists will be rendered opaque.\n",
      "The PostScript backend does not support transparency; partially transparent artists will be rendered opaque.\n"
     ]
    },
    {
     "data": {
      "image/png": "[encoded data removed]",
      "text/plain": [
       "<Figure size 432x288 with 1 Axes>"
      ]
     },
     "metadata": {
      "needs_background": "light"
     },
     "output_type": "display_data"
    },
    {
     "name": "stderr",
     "output_type": "stream",
     "text": [
      "The PostScript backend does not support transparency; partially transparent artists will be rendered opaque.\n",
      "The PostScript backend does not support transparency; partially transparent artists will be rendered opaque.\n"
     ]
    },
    {
     "data": {
      "image/png": "[encoded data removed]",
      "text/plain": [
       "<Figure size 432x288 with 1 Axes>"
      ]
     },
     "metadata": {
      "needs_background": "light"
     },
     "output_type": "display_data"
    }
   ],
   "source": [
    "success_per_student = defaultdict(int)\n",
    "fail_per_student = defaultdict(int)\n",
    "success_per_question = defaultdict(int)\n",
    "fail_per_question = defaultdict(int)\n",
    "\n",
    "for row in success_attempts:\n",
    "    s_idx, q_idx, a_idx, outcome = row\n",
    "    success_per_student[s_idx] += 1\n",
    "    success_per_question[q_idx] += 1\n",
    "\n",
    "    \n",
    "for row in fail_attempts:\n",
    "    s_idx, q_idx, a_idx, outcome = row\n",
    "    fail_per_student[s_idx] += 1\n",
    "    fail_per_question[q_idx] += 1\n",
    "    \n",
    "# Success attempt x Student\n",
    "print(print_stats(\"Success attempts x Student\", success_per_student.values()))\n",
    "\n",
    "# Failed attempt x Student\n",
    "print(print_stats(\"Failed attempts x Student\", fail_per_student.values()))\n",
    "\n",
    "# Success attempt x Question\n",
    "print(print_stats(\"Success attempts x Question\", success_per_question.values()))\n",
    "\n",
    "# Fail attempt x Question\n",
    "print(print_stats(\"Failed attempts x Question\", fail_per_question.values()))\n",
    "\n",
    "fig = plt.figure(figsize=(6,4))\n",
    "# plt.hist([list(success_per_question.values()), list(fail_per_question.values())], \n",
    "#          bins=list(range(0,160, 20)), label=[\"Success\", \"Fail\"], histtype='bar')\n",
    "sns.distplot(list(success_per_question.values()), bins=list(range(0,160, 20)), label=\"Success\",\n",
    "             kde_kws={\"bw\": 8})\n",
    "sns.distplot(list(fail_per_question.values()), bins=list(range(0,160, 20)), label=\"Fail\")\n",
    "plt.title(\"Proportion of questions per number of attempts\")\n",
    "plt.xlabel(\"Number of attempts\")\n",
    "plt.ylabel(\"Proportion of questions\")\n",
    "plt.legend()\n",
    "# plt.xlim(-20,160)\n",
    "plt.savefig('%s/attempts_questions_sep_kde.eps' % folder, format='eps')\n",
    "plt.savefig('%s/attempts_questions_sep_kde.png' % folder, format='png')\n",
    "plt.show()\n",
    "\n",
    "fig = plt.figure(figsize=(6,4))\n",
    "plt.hist([list(success_per_question.values()), list(fail_per_question.values())], \n",
    "#          bins=list(range(0,160, 20)), \n",
    "         label=[\"Success\", \"Fail\"], histtype='bar')\n",
    "plt.title(\"Quantity of questions per number of attempts (limited at 160)\")\n",
    "plt.xlabel(\"Number of attempts\")\n",
    "plt.ylabel(\"Quantity of questions\")\n",
    "plt.legend()\n",
    "plt.savefig('%s/attempts_questions_sep.eps' % folder, format='eps')\n",
    "plt.savefig('%s/attempts_questions_sep.png' % folder, format='png')\n",
    "plt.show()\n",
    "\n",
    "fig = plt.figure(figsize=(6,4))\n",
    "sns.distplot(list(success_per_student.values()), bins=list(range(0,60,5)), label=\"Success\",\n",
    "            kde_kws={\"bw\": 2})\n",
    "sns.distplot(list(fail_per_student.values()), bins=list(range(0,60,5)), label=\"Fail\",\n",
    "            kde_kws={\"bw\": 6})\n",
    "plt.xlim(-20,80)\n",
    "plt.title(\"Proportion of students per number of attempts (limited at 80)\")\n",
    "plt.xlabel(\"Number of attempts\")\n",
    "plt.ylabel(\"Proportion of students\")\n",
    "plt.legend()\n",
    "plt.savefig('%s/attempts_students_sep_kde.eps' % folder, format='eps')\n",
    "plt.savefig('%s/attempts_students_sep_kde.png' % folder, format='png')\n",
    "plt.show()\n",
    "\n",
    "fig = plt.figure(figsize=(6,4))\n",
    "plt.hist([list(success_per_student.values()), list(fail_per_student.values())], \n",
    "         bins=list(range(0,80,5)), \n",
    "         label=[\"Success\", \"Fail\"], histtype='bar')\n",
    "plt.title(\"Quantity of students per number of attempts (limited at 80)\")\n",
    "plt.xlabel(\"Number of attempts\")\n",
    "plt.ylabel(\"Quantity of students\")\n",
    "plt.legend()\n",
    "plt.savefig('%s/attempts_students_sep.eps' % folder, format='eps')\n",
    "plt.savefig('%s/attempts_students_sep.png' % folder, format='png')\n",
    "plt.show()\n",
    "\n",
    "\n",
    "fig = plt.figure(figsize=(6,4))\n",
    "plt.hist([list(success_per_student.values()), list(fail_per_student.values())], \n",
    "         bins=list(range(0,60,5)), label=[\"Success\", \"Fail\"], histtype='barstacked')\n",
    "plt.title(\"Quantity of students per number of attempts (limited at 60)\")\n",
    "plt.xlabel(\"Number of attempts\")\n",
    "plt.ylabel(\"Quantity of students\")\n",
    "plt.legend()\n",
    "plt.savefig('%s/attempts_students_sep_stacked.eps' % folder, format='eps')\n",
    "plt.savefig('%s/attempts_students_sep_stacked.png' % folder, format='png')\n",
    "plt.show()"
   ]
  },
  {
   "cell_type": "markdown",
   "metadata": {},
   "source": [
    "Delete student that do not meet minimum number of attempts"
   ]
  },
  {
   "cell_type": "code",
   "execution_count": 13,
   "metadata": {},
   "outputs": [],
   "source": [
    "MIN_STUDENT_ATTEMPT = 3\n",
    "MIN_QUESTION_ATTEMPT = 10"
   ]
  },
  {
   "cell_type": "code",
   "execution_count": 14,
   "metadata": {},
   "outputs": [],
   "source": [
    "del_students = [item[0] for item in attempts_per_student.items() if item[1] < MIN_STUDENT_ATTEMPT]\n",
    "del_questions = [item[0] for item in attempts_per_question.items() if item[1] < MIN_QUESTION_ATTEMPT]"
   ]
  },
  {
   "cell_type": "markdown",
   "metadata": {},
   "source": [
    "Splitting in train and test"
   ]
  },
  {
   "cell_type": "code",
   "execution_count": 15,
   "metadata": {},
   "outputs": [],
   "source": [
    "N_RUNS = 10\n",
    "TRAIN_PROPORTION = 0.7\n",
    "TRAIN_ATTEMPTS_TEST = 0.2"
   ]
  },
  {
   "cell_type": "code",
   "execution_count": 16,
   "metadata": {},
   "outputs": [],
   "source": [
    "def get_user_idx(user_id):\n",
    "    return users_idx.index(user_id)\n",
    "\n",
    "def get_question_idx(question_id):\n",
    "    return questions_idx.index(question_id)\n",
    "\n",
    "def separate_users_train_and_test(users_idx):\n",
    "    np.random.shuffle(users_idx)\n",
    "    idx = int(np.ceil(TRAIN_PROPORTION*len(users)))\n",
    "    train_users = users_idx[:idx]\n",
    "    test_users = users_idx[idx:]\n",
    "    return train_users, test_users\n",
    "\n",
    "map_user_id = np.vectorize(get_user_idx)    \n",
    "map_question_id = np.vectorize(get_question_idx)"
   ]
  },
  {
   "cell_type": "markdown",
   "metadata": {},
   "source": [
    "Split in train and test"
   ]
  },
  {
   "cell_type": "code",
   "execution_count": 17,
   "metadata": {},
   "outputs": [
    {
     "name": "stdout",
     "output_type": "stream",
     "text": [
      "CPU times: user 6.88 s, sys: 219 ms, total: 7.09 s\n",
      "Wall time: 2min 39s\n"
     ]
    }
   ],
   "source": [
    "%%time\n",
    "users_filtered = users.exclude(user_id__in=del_students)\n",
    "users_idx = list(users_filtered)\n",
    "\n",
    "for i in range(N_RUNS):\n",
    "    train_users, test_users = separate_users_train_and_test(users_idx)\n",
    "    \n",
    "    # These users will be uniquely used for train\n",
    "    train_set = list(data.filter(user_id__in=train_users))\n",
    "    \n",
    "    # Some users will be used in training up to a 20% of their attempts\n",
    "    test_set = []\n",
    "    # train_attempts = np.random.uniform(size=len(test_users))\n",
    "    for idx, user in enumerate(test_users):\n",
    "        user_attempts = data.filter(user_id=user)\n",
    "        train_attempts = int(np.ceil(TRAIN_ATTEMPTS_TEST*user_attempts.count()))\n",
    "        train_set.extend(list(user_attempts.filter(attempt__lte=train_attempts).order_by('attempt')))\n",
    "        test_set.extend(list(user_attempts.filter(attempt__gt=train_attempts).order_by('attempt')))\n",
    "        \n",
    "    # Mapping users and questions to be in 0-len index\n",
    "    train_set = np.asarray(train_set)\n",
    "    test_set = np.asarray(test_set)\n",
    "    \n",
    "    train_set[:,0] = map_user_id(train_set[:,0])\n",
    "    test_set[:,0] = map_user_id(test_set[:,0])\n",
    "    \n",
    "    train_set[:,1] = map_question_id(train_set[:,1])\n",
    "    test_set[:,1] = map_question_id(test_set[:,1])\n",
    "    \n",
    "    dataset = {\n",
    "        \"train_set\": train_set,\n",
    "        \"test_set\": test_set,\n",
    "        \"concept_idx\": concept_idx,\n",
    "        \"questions_idx\": questions_idx,\n",
    "        \"users_idx\": users_idx,\n",
    "        \"q_matrix\": q_matrix,\n",
    "    }\n",
    "    \n",
    "    # Save data\n",
    "    with open(\"%s/2020_06_08_run_%d.pkl\" % (folder, i), \"wb\") as pklfile:\n",
    "        pickle.dump(dataset, pklfile)"
   ]
  },
  {
   "cell_type": "markdown",
   "metadata": {},
   "source": [
    "All data"
   ]
  },
  {
   "cell_type": "code",
   "execution_count": 18,
   "metadata": {},
   "outputs": [],
   "source": [
    "users_filtered = users.exclude(user_id__in=del_students)\n",
    "users_idx = list(users_filtered)\n",
    "\n",
    "# These users will be uniquely used for train\n",
    "train_set = list(data.filter(user_id__in=users_idx))\n",
    "test_set = []\n",
    "\n",
    "# Mapping users and questions to be in 0-len index\n",
    "train_set = np.asarray(train_set)\n",
    "test_set = np.asarray(test_set)\n",
    "\n",
    "train_set[:,0] = map_user_id(train_set[:,0])\n",
    "# test_set[:,0] = map_user_id(test_set[:,0])\n",
    "\n",
    "train_set[:,1] = map_question_id(train_set[:,1])\n",
    "# test_set[:,1] = map_question_id(test_set[:,1])\n",
    "\n",
    "dataset = {\n",
    "    \"train_set\": train_set,\n",
    "    \"test_set\": test_set,\n",
    "    \"concept_idx\": concept_idx,\n",
    "    \"questions_idx\": questions_idx,\n",
    "    \"users_idx\": users_idx,\n",
    "    \"q_matrix\": q_matrix,\n",
    "}\n",
    "\n",
    "# Save data\n",
    "with open(\"%s/2020_06_08_all_data.pkl\" % (folder), \"wb\") as pklfile:\n",
    "    pickle.dump(dataset, pklfile)"
   ]
  },
  {
   "cell_type": "code",
   "execution_count": 52,
   "metadata": {},
   "outputs": [],
   "source": [
    "import itertools"
   ]
  },
  {
   "cell_type": "code",
   "execution_count": 57,
   "metadata": {},
   "outputs": [
    {
     "name": "stdout",
     "output_type": "stream",
     "text": [
      "same users in 0 and 1\n",
      "{217}\n",
      "same users in 0 and 2\n",
      "{222, 182, 71}\n",
      "same users in 0 and 3\n",
      "set()\n",
      "same users in 0 and 4\n",
      "{209, 107, 140}\n",
      "same users in 1 and 2\n",
      "{266, 183}\n",
      "same users in 1 and 3\n",
      "{268}\n",
      "same users in 1 and 4\n",
      "{281, 266}\n",
      "same users in 2 and 3\n",
      "{94, 108, 150, 92}\n",
      "same users in 2 and 4\n",
      "{266}\n",
      "same users in 3 and 4\n",
      "{54}\n"
     ]
    }
   ],
   "source": [
    "users = []\n",
    "for i in range(5):\n",
    "# Open data\n",
    "    with open(\"%s/run_%d.pkl\" % (folder, i), \"rb\") as pklfile:\n",
    "        dataset = pickle.load(pklfile)\n",
    "    users.append(dataset['users_idx'][158:])\n",
    "    \n",
    "for a, b in itertools.combinations(range(5), 2):\n",
    "    print(\"same users in %d and %d\" % (a,b))\n",
    "    print(set(users[a]) & set(users[b]))"
   ]
  }
 ],
 "metadata": {
  "kernelspec": {
   "display_name": "Django Shell-Plus",
   "language": "python",
   "name": "django_extensions"
  },
  "language_info": {
   "codemirror_mode": {
    "name": "ipython",
    "version": 3
   },
   "file_extension": ".py",
   "mimetype": "text/x-python",
   "name": "python",
   "nbconvert_exporter": "python",
   "pygments_lexer": "ipython3",
   "version": "3.6.10"
  }
 },
 "nbformat": 4,
 "nbformat_minor": 4
}
