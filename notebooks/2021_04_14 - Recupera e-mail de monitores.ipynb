{
 "cells": [
  {
   "cell_type": "code",
   "execution_count": 4,
   "metadata": {},
   "outputs": [
    {
     "data": {
      "text/plain": [
       "<QuerySet [('joaopedrofreire@ufrj.br', 'João Pedro', 'Freire'), ('j.p.perin@poli.ufrj.br', 'João Pedro', 'Perin Nunes'), ('jonesmvc@gmail.com', 'Jones', 'Martins'), ('marcelleguarisco@poli.ufrj.br', 'Marcelle', 'Guarisco'), ('marcelleguarisco@poli.ufrj.br', 'Marcelle', 'Guarisco'), ('luisotaviodesimone@gmail.com', 'Luís Otávio', 'De Simone'), ('thiagobaldini@poli.ufrj.br', 'Thiago', 'Moreira'), ('jorgeberlanga1997@gmail.com', 'Jorge', 'Berlanga'), ('jorgeberlanga1997@gmail.com', 'Jorge', 'Berlanga'), ('hugoaraujo@poli.ufrj.br', 'Hugo', 'Araujo'), ('gabrielufrj95@outlook.com', 'gabriel', 'luna'), ('luanmf@dcc.ufrj.br', 'Luan', 'Martins'), ('luiz.zulmar@poli.ufrj.br', 'Luiz Zulmar', 'Lopes'), ('luiz.zulmar@poli.ufrj.br', 'Luiz Zulmar', 'Lopes'), ('marcoz.araujoz@gmail.com', 'Marcos Felipe', 'Simões de Araújo'), ('rodrigo.guerchon@poli.ufrj.br', 'Rodrigo', 'Guerchon Borges'), ('camaelmancuso@poli.ufrj.br', 'Camael', 'Mancuso Garcia'), ('rodrigoperrella@poli.ufrj.br', 'Rodrigo', 'Perrella'), ('vinicius.coelho17@poli.ufrj.br', 'Vinicius', 'Mota'), ('nathanmv5@gmail.com', 'Nathan', 'Vasconcelos'), '...(remaining elements truncated)...']>"
      ]
     },
     "execution_count": 4,
     "metadata": {},
     "output_type": "execute_result"
    }
   ],
   "source": [
    "assistants = Professor.objects.filter(assistant=True, active=True).values_list(\n",
    "    'user__email', 'user__first_name', 'user__last_name')\n",
    "assistants"
   ]
  },
  {
   "cell_type": "code",
   "execution_count": 5,
   "metadata": {},
   "outputs": [],
   "source": [
    "import csv"
   ]
  },
  {
   "cell_type": "code",
   "execution_count": 7,
   "metadata": {},
   "outputs": [],
   "source": [
    "with open('contacts.csv', 'w') as csvfile:\n",
    "    writer = csv.writer(csvfile, delimiter=',',)\n",
    "    writer.writerow(['email', 'first_name', 'last_name', 'address_line_1', \n",
    "                     'address_line_2', 'city', 'state_province_region', \n",
    "                     'postal_code', 'country'])\n",
    "    for row in assistants:\n",
    "        writer.writerow(list(row) + ['']*6)"
   ]
  }
 ],
 "metadata": {
  "kernelspec": {
   "display_name": "Django Shell-Plus",
   "language": "python",
   "name": "django_extensions"
  },
  "language_info": {
   "codemirror_mode": {
    "name": "ipython",
    "version": 3
   },
   "file_extension": ".py",
   "mimetype": "text/x-python",
   "name": "python",
   "nbconvert_exporter": "python",
   "pygments_lexer": "ipython3",
   "version": "3.8.5"
  }
 },
 "nbformat": 4,
 "nbformat_minor": 4
}
