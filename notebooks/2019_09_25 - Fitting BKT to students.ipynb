{
 "cells": [
  {
   "cell_type": "markdown",
   "metadata": {},
   "source": [
    "# Fitting BKT to students"
   ]
  },
  {
   "cell_type": "markdown",
   "metadata": {},
   "source": [
    "Criar a seguinte estrutura de dados:\n",
    "1. ID do aluno\n",
    "2. ID do problema\n",
    "3. Lista com soluções 1 a N\n",
    "6. Lista com conceito mais predominante nas soluções 1 a N\n",
    "5. Lista indicando se resolveu em 1 a N soluções\n"
   ]
  },
  {
   "cell_type": "markdown",
   "metadata": {},
   "source": [
    "### Import libraries"
   ]
  },
  {
   "cell_type": "code",
   "execution_count": 8,
   "metadata": {},
   "outputs": [],
   "source": [
    "#DB\n",
    "# from questions.models import UserLog, Problem\n",
    "from retrieve_model_and_vectorizer import RetrieveModelAndVectorizer\n",
    "import psycopg2\n",
    "from spkit import bkt\n",
    "\n",
    "# Helpers\n",
    "from sklearn.metrics import roc_curve, auc\n",
    "import numpy as np\n",
    "import pickle\n",
    "import base64\n",
    "from tqdm.notebook import tqdm\n",
    "import pandas as pd\n",
    "from collections import defaultdict\n",
    "import matplotlib.pyplot as plt"
   ]
  },
  {
   "cell_type": "code",
   "execution_count": 133,
   "metadata": {},
   "outputs": [],
   "source": [
    "%load_ext autoreload"
   ]
  },
  {
   "cell_type": "code",
   "execution_count": 175,
   "metadata": {},
   "outputs": [],
   "source": [
    "%autoreload 1"
   ]
  },
  {
   "cell_type": "code",
   "execution_count": 176,
   "metadata": {},
   "outputs": [],
   "source": [
    "%aimport spkit.bkt"
   ]
  },
  {
   "cell_type": "code",
   "execution_count": 177,
   "metadata": {},
   "outputs": [
    {
     "name": "stdout",
     "output_type": "stream",
     "text": [
      "Modules to reload:\n",
      "spkit.bkt\n",
      "\n",
      "Modules to skip:\n",
      "\n"
     ]
    }
   ],
   "source": [
    "%aimport"
   ]
  },
  {
   "cell_type": "markdown",
   "metadata": {},
   "source": [
    "### Recreate model and vectorizer"
   ]
  },
  {
   "cell_type": "code",
   "execution_count": 2,
   "metadata": {
    "scrolled": true
   },
   "outputs": [
    {
     "name": "stdout",
     "output_type": "stream",
     "text": [
      "Problems to be ignored: 656\n",
      "Problems to be used: 132\n",
      "Solutions to be used: 54\n",
      "Got 54 documents\n"
     ]
    },
    {
     "name": "stderr",
     "output_type": "stream",
     "text": [
      "/data2/miniconda3/envs/machineteaching/lib/python3.6/site-packages/sklearn/utils/deprecation.py:144: FutureWarning: The sklearn.decomposition.online_lda module is  deprecated in version 0.22 and will be removed in version 0.24. The corresponding classes / functions should instead be imported from sklearn.decomposition. Anything that cannot be imported from sklearn.decomposition is now part of the private API.\n",
      "  warnings.warn(message, FutureWarning)\n",
      "/data2/miniconda3/envs/machineteaching/lib/python3.6/site-packages/sklearn/base.py:318: UserWarning: Trying to unpickle estimator LatentDirichletAllocation from version 0.20.1 when using version 0.22.1. This might lead to breaking code or invalid results. Use at your own risk.\n",
      "  UserWarning)\n"
     ]
    }
   ],
   "source": [
    "exp_id = 26\n",
    "vectorizer, model = RetrieveModelAndVectorizer().get_model_and_vectorizer(exp_id)"
   ]
  },
  {
   "cell_type": "markdown",
   "metadata": {},
   "source": [
    "### Retrieve users' solutions and practiced skills"
   ]
  },
  {
   "cell_type": "code",
   "execution_count": 3,
   "metadata": {},
   "outputs": [],
   "source": [
    "def transform(student, model_db, vectorize):\n",
    "    \"\"\" Transform a new observation using the given vectorizer and model \"\"\"\n",
    "    train_data_features_student = vectorizer.transform(student).toarray()\n",
    "    y_student = model_db.transform(train_data_features_student)\n",
    "    return y_student\n",
    "\n",
    "def get_skill(student_solution, vectorizer, model_db):\n",
    "    \"\"\" Get argmax topic after transforming a new observation \"\"\"\n",
    "    y_student = transform(student_solution, model_db, vectorizer)\n",
    "    top_skill = np.argmax(y_student, axis=1)\n",
    "    return top_skill"
   ]
  },
  {
   "cell_type": "code",
   "execution_count": 4,
   "metadata": {},
   "outputs": [],
   "source": [
    "folder = \"data/comp1_2019_2\""
   ]
  },
  {
   "cell_type": "code",
   "execution_count": 5,
   "metadata": {},
   "outputs": [
    {
     "name": "stdout",
     "output_type": "stream",
     "text": [
      "CPU times: user 29.3 s, sys: 95.9 ms, total: 29.4 s\n",
      "Wall time: 33.1 s\n"
     ]
    }
   ],
   "source": [
    "%%time\n",
    "problems = Problem.objects.filter(chapter__isnull=False)\n",
    "# problems = Problem.objects.filter(chapter__pk=3)\n",
    "user_blacklist = UserProfile.objects.filter(professor__user__username='sem_professor')\n",
    "# user_blacklist = ['lmoraes', 'matos.gabriel26@gmail.com', 'angeloacrdaumas@outlook.com', 'giuliaelvira23@poli.ufrj.br',\n",
    "#                   'hugo', 'gracepassosfreitas@gmail.com', 'carla']\n",
    "user_blacklist = UserProfile.objects.filter(user__username__in=user_blacklist)\n",
    "logs_list = UserLog.objects.filter(problem__in=problems).exclude(outcome='S').exclude(user__userprofile__in=user_blacklist).order_by(\"timestamp\")\n",
    "solution_list = logs_list.values_list('solution', flat=True)\n",
    "skills = get_skill(solution_list, vectorizer, model)"
   ]
  },
  {
   "cell_type": "code",
   "execution_count": 6,
   "metadata": {},
   "outputs": [
    {
     "data": {
      "text/plain": [
       "27281"
      ]
     },
     "execution_count": 6,
     "metadata": {},
     "output_type": "execute_result"
    }
   ],
   "source": [
    "logs_list.count()"
   ]
  },
  {
   "cell_type": "markdown",
   "metadata": {
    "scrolled": true
   },
   "source": [
    "### Put data in proper format"
   ]
  },
  {
   "cell_type": "code",
   "execution_count": 7,
   "metadata": {
    "scrolled": false
   },
   "outputs": [
    {
     "name": "stderr",
     "output_type": "stream",
     "text": [
      "/data2/miniconda3/envs/machineteaching/lib/python3.6/site-packages/ipykernel_launcher.py:2: TqdmDeprecationWarning: This function will be removed in tqdm==5.0.0\n",
      "Please use `tqdm.notebook.tqdm` instead of `tqdm.tqdm_notebook`\n",
      "  \n"
     ]
    },
    {
     "data": {
      "application/vnd.jupyter.widget-view+json": {
       "model_id": "50f00848904941eba4b89cc1bcfcde66",
       "version_major": 2,
       "version_minor": 0
      },
      "text/plain": [
       "HBox(children=(FloatProgress(value=0.0, max=27281.0), HTML(value='')))"
      ]
     },
     "metadata": {},
     "output_type": "display_data"
    },
    {
     "name": "stdout",
     "output_type": "stream",
     "text": [
      "\n",
      "CPU times: user 2min 2s, sys: 5.67 s, total: 2min 8s\n",
      "Wall time: 16min 5s\n"
     ]
    }
   ],
   "source": [
    "%%time\n",
    "data = {}\n",
    "for idx, log in enumerate(tqdm(logs_list)):\n",
    "    # Data identification is a tuple containing student id and problem id\n",
    "    student_id = log.user.pk\n",
    "    problem_id = log.problem.pk\n",
    "    data_id = (student_id, problem_id)\n",
    "    \n",
    "    # If there isn't anything concerning this id, add it to dict\n",
    "    if not data_id in data.keys():\n",
    "        data[data_id] = {\n",
    "            \"identifier\": \"%d-%d\" % (student_id, problem_id),\n",
    "            \"student_id\": student_id,\n",
    "            \"problem_id\": problem_id,\n",
    "            \"solutions\": [log.solution],\n",
    "            \"outcomes\": [log.outcome],\n",
    "            \"skills\": [skills[idx]]\n",
    "        }\n",
    "    # If basic information is already there, just complete with solution info\n",
    "    else:\n",
    "        data[data_id][\"solutions\"].append(log.solution)\n",
    "        data[data_id][\"outcomes\"].append(log.outcome)\n",
    "        data[data_id][\"skills\"].append(skills[idx])"
   ]
  },
  {
   "cell_type": "code",
   "execution_count": 9,
   "metadata": {},
   "outputs": [],
   "source": [
    "df = pd.DataFrame(data.values())"
   ]
  },
  {
   "cell_type": "code",
   "execution_count": 10,
   "metadata": {
    "scrolled": false
   },
   "outputs": [
    {
     "data": {
      "text/html": [
       "<div>\n",
       "<style scoped>\n",
       "    .dataframe tbody tr th:only-of-type {\n",
       "        vertical-align: middle;\n",
       "    }\n",
       "\n",
       "    .dataframe tbody tr th {\n",
       "        vertical-align: top;\n",
       "    }\n",
       "\n",
       "    .dataframe thead th {\n",
       "        text-align: right;\n",
       "    }\n",
       "</style>\n",
       "<table border=\"1\" class=\"dataframe\">\n",
       "  <thead>\n",
       "    <tr style=\"text-align: right;\">\n",
       "      <th></th>\n",
       "      <th>identifier</th>\n",
       "      <th>student_id</th>\n",
       "      <th>problem_id</th>\n",
       "      <th>solutions</th>\n",
       "      <th>outcomes</th>\n",
       "      <th>skills</th>\n",
       "    </tr>\n",
       "  </thead>\n",
       "  <tbody>\n",
       "    <tr>\n",
       "      <th>0</th>\n",
       "      <td>378-727</td>\n",
       "      <td>378</td>\n",
       "      <td>727</td>\n",
       "      <td>[# Coloque um comentário dizendo o que a funçã...</td>\n",
       "      <td>[P]</td>\n",
       "      <td>[5]</td>\n",
       "    </tr>\n",
       "    <tr>\n",
       "      <th>1</th>\n",
       "      <td>393-727</td>\n",
       "      <td>393</td>\n",
       "      <td>727</td>\n",
       "      <td>[# Coloque um comentário dizendo o que a funçã...</td>\n",
       "      <td>[P, P]</td>\n",
       "      <td>[5, 5]</td>\n",
       "    </tr>\n",
       "    <tr>\n",
       "      <th>2</th>\n",
       "      <td>426-727</td>\n",
       "      <td>426</td>\n",
       "      <td>727</td>\n",
       "      <td>[# Coloque um comentário dizendo o que a funçã...</td>\n",
       "      <td>[P, P]</td>\n",
       "      <td>[7, 7]</td>\n",
       "    </tr>\n",
       "    <tr>\n",
       "      <th>3</th>\n",
       "      <td>439-727</td>\n",
       "      <td>439</td>\n",
       "      <td>727</td>\n",
       "      <td>[# Coloque um comentário dizendo o que a funçã...</td>\n",
       "      <td>[F, P, P, F, P, P, P]</td>\n",
       "      <td>[7, 7, 7, 7, 7, 7, 7]</td>\n",
       "    </tr>\n",
       "    <tr>\n",
       "      <th>4</th>\n",
       "      <td>443-727</td>\n",
       "      <td>443</td>\n",
       "      <td>727</td>\n",
       "      <td>[# Coloque um comentário dizendo o que a funçã...</td>\n",
       "      <td>[P]</td>\n",
       "      <td>[7]</td>\n",
       "    </tr>\n",
       "    <tr>\n",
       "      <th>...</th>\n",
       "      <td>...</td>\n",
       "      <td>...</td>\n",
       "      <td>...</td>\n",
       "      <td>...</td>\n",
       "      <td>...</td>\n",
       "      <td>...</td>\n",
       "    </tr>\n",
       "    <tr>\n",
       "      <th>5706</th>\n",
       "      <td>605-769</td>\n",
       "      <td>605</td>\n",
       "      <td>769</td>\n",
       "      <td>[# Coloque um comentário dizendo o que a funçã...</td>\n",
       "      <td>[F, F, F, F, F, F, F, F, F, F]</td>\n",
       "      <td>[5, 5, 5, 5, 5, 5, 5, 5, 7, 9]</td>\n",
       "    </tr>\n",
       "    <tr>\n",
       "      <th>5707</th>\n",
       "      <td>605-771</td>\n",
       "      <td>605</td>\n",
       "      <td>771</td>\n",
       "      <td>[# Coloque um comentário dizendo o que a funçã...</td>\n",
       "      <td>[F, F, F, F, F, F, F, F, F, F, P]</td>\n",
       "      <td>[5, 5, 5, 5, 5, 5, 5, 5, 5, 5, 5]</td>\n",
       "    </tr>\n",
       "    <tr>\n",
       "      <th>5708</th>\n",
       "      <td>605-772</td>\n",
       "      <td>605</td>\n",
       "      <td>772</td>\n",
       "      <td>[# Coloque um comentário dizendo o que a funçã...</td>\n",
       "      <td>[F, P]</td>\n",
       "      <td>[5, 5]</td>\n",
       "    </tr>\n",
       "    <tr>\n",
       "      <th>5709</th>\n",
       "      <td>605-773</td>\n",
       "      <td>605</td>\n",
       "      <td>773</td>\n",
       "      <td>[# Coloque um comentário dizendo o que a funçã...</td>\n",
       "      <td>[F, F]</td>\n",
       "      <td>[7, 7]</td>\n",
       "    </tr>\n",
       "    <tr>\n",
       "      <th>5710</th>\n",
       "      <td>605-774</td>\n",
       "      <td>605</td>\n",
       "      <td>774</td>\n",
       "      <td>[# Coloque um comentário dizendo o que a funçã...</td>\n",
       "      <td>[F, F, F, F]</td>\n",
       "      <td>[7, 7, 7, 7]</td>\n",
       "    </tr>\n",
       "  </tbody>\n",
       "</table>\n",
       "<p>5711 rows × 6 columns</p>\n",
       "</div>"
      ],
      "text/plain": [
       "     identifier  student_id  problem_id  \\\n",
       "0       378-727         378         727   \n",
       "1       393-727         393         727   \n",
       "2       426-727         426         727   \n",
       "3       439-727         439         727   \n",
       "4       443-727         443         727   \n",
       "...         ...         ...         ...   \n",
       "5706    605-769         605         769   \n",
       "5707    605-771         605         771   \n",
       "5708    605-772         605         772   \n",
       "5709    605-773         605         773   \n",
       "5710    605-774         605         774   \n",
       "\n",
       "                                              solutions  \\\n",
       "0     [# Coloque um comentário dizendo o que a funçã...   \n",
       "1     [# Coloque um comentário dizendo o que a funçã...   \n",
       "2     [# Coloque um comentário dizendo o que a funçã...   \n",
       "3     [# Coloque um comentário dizendo o que a funçã...   \n",
       "4     [# Coloque um comentário dizendo o que a funçã...   \n",
       "...                                                 ...   \n",
       "5706  [# Coloque um comentário dizendo o que a funçã...   \n",
       "5707  [# Coloque um comentário dizendo o que a funçã...   \n",
       "5708  [# Coloque um comentário dizendo o que a funçã...   \n",
       "5709  [# Coloque um comentário dizendo o que a funçã...   \n",
       "5710  [# Coloque um comentário dizendo o que a funçã...   \n",
       "\n",
       "                               outcomes                             skills  \n",
       "0                                   [P]                                [5]  \n",
       "1                                [P, P]                             [5, 5]  \n",
       "2                                [P, P]                             [7, 7]  \n",
       "3                 [F, P, P, F, P, P, P]              [7, 7, 7, 7, 7, 7, 7]  \n",
       "4                                   [P]                                [7]  \n",
       "...                                 ...                                ...  \n",
       "5706     [F, F, F, F, F, F, F, F, F, F]     [5, 5, 5, 5, 5, 5, 5, 5, 7, 9]  \n",
       "5707  [F, F, F, F, F, F, F, F, F, F, P]  [5, 5, 5, 5, 5, 5, 5, 5, 5, 5, 5]  \n",
       "5708                             [F, P]                             [5, 5]  \n",
       "5709                             [F, F]                             [7, 7]  \n",
       "5710                       [F, F, F, F]                       [7, 7, 7, 7]  \n",
       "\n",
       "[5711 rows x 6 columns]"
      ]
     },
     "execution_count": 10,
     "metadata": {},
     "output_type": "execute_result"
    }
   ],
   "source": [
    "df"
   ]
  },
  {
   "cell_type": "code",
   "execution_count": 17,
   "metadata": {},
   "outputs": [],
   "source": [
    "with open(\"%s/data_2020_02_18_raw_data.pkl\" % folder, \"wb\") as pkl_file:\n",
    "    pickle.dump(data, pkl_file)"
   ]
  },
  {
   "cell_type": "code",
   "execution_count": 18,
   "metadata": {},
   "outputs": [],
   "source": [
    "with open(\"%s/data_2020_02_18_raw_df.pkl\" % folder, \"wb\") as pklfile:\n",
    "    pickle.dump(df, pklfile)"
   ]
  },
  {
   "cell_type": "code",
   "execution_count": 19,
   "metadata": {},
   "outputs": [],
   "source": [
    "# Calculate if student learned in the N prediction\n",
    "def success(row, N):\n",
    "    if \"P\" in row[\"outcomes\"][:N]:\n",
    "        row[\"solved_in_%d\" % N] = 1 # For correct\n",
    "    else:\n",
    "        row[\"solved_in_%d\" % N] = 0 # For incorrect\n",
    "#     skill_str = [str(s) for s in set(row[\"skills\"][:N])]\n",
    "    row[\"skill_in_%d\" % N] = list(set(row[\"skills\"][:N]))\n",
    "    return row"
   ]
  },
  {
   "cell_type": "code",
   "execution_count": 20,
   "metadata": {},
   "outputs": [
    {
     "name": "stdout",
     "output_type": "stream",
     "text": [
      "CPU times: user 43.9 s, sys: 44.1 ms, total: 44 s\n",
      "Wall time: 44 s\n"
     ]
    }
   ],
   "source": [
    "%%time\n",
    "df = df.apply(success, args=(1,), axis=1).apply(success, args=(2,), axis=1).apply(success, args=(3,), axis=1)"
   ]
  },
  {
   "cell_type": "code",
   "execution_count": 21,
   "metadata": {},
   "outputs": [],
   "source": [
    "with open(\"%s/data_2020_02_18_augmented_df.pkl\" % folder, \"wb\") as pkl_file:\n",
    "    pickle.dump(df, pkl_file)"
   ]
  },
  {
   "cell_type": "code",
   "execution_count": 22,
   "metadata": {
    "scrolled": true
   },
   "outputs": [
    {
     "data": {
      "text/html": [
       "<div>\n",
       "<style scoped>\n",
       "    .dataframe tbody tr th:only-of-type {\n",
       "        vertical-align: middle;\n",
       "    }\n",
       "\n",
       "    .dataframe tbody tr th {\n",
       "        vertical-align: top;\n",
       "    }\n",
       "\n",
       "    .dataframe thead th {\n",
       "        text-align: right;\n",
       "    }\n",
       "</style>\n",
       "<table border=\"1\" class=\"dataframe\">\n",
       "  <thead>\n",
       "    <tr style=\"text-align: right;\">\n",
       "      <th></th>\n",
       "      <th>identifier</th>\n",
       "      <th>student_id</th>\n",
       "      <th>problem_id</th>\n",
       "      <th>solutions</th>\n",
       "      <th>outcomes</th>\n",
       "      <th>skills</th>\n",
       "      <th>solved_in_1</th>\n",
       "      <th>skill_in_1</th>\n",
       "      <th>solved_in_2</th>\n",
       "      <th>skill_in_2</th>\n",
       "      <th>solved_in_3</th>\n",
       "      <th>skill_in_3</th>\n",
       "    </tr>\n",
       "  </thead>\n",
       "  <tbody>\n",
       "    <tr>\n",
       "      <th>0</th>\n",
       "      <td>378-727</td>\n",
       "      <td>378</td>\n",
       "      <td>727</td>\n",
       "      <td>[# Coloque um comentário dizendo o que a funçã...</td>\n",
       "      <td>[P]</td>\n",
       "      <td>[5]</td>\n",
       "      <td>1</td>\n",
       "      <td>[5]</td>\n",
       "      <td>1</td>\n",
       "      <td>[5]</td>\n",
       "      <td>1</td>\n",
       "      <td>[5]</td>\n",
       "    </tr>\n",
       "    <tr>\n",
       "      <th>1</th>\n",
       "      <td>393-727</td>\n",
       "      <td>393</td>\n",
       "      <td>727</td>\n",
       "      <td>[# Coloque um comentário dizendo o que a funçã...</td>\n",
       "      <td>[P, P]</td>\n",
       "      <td>[5, 5]</td>\n",
       "      <td>1</td>\n",
       "      <td>[5]</td>\n",
       "      <td>1</td>\n",
       "      <td>[5]</td>\n",
       "      <td>1</td>\n",
       "      <td>[5]</td>\n",
       "    </tr>\n",
       "    <tr>\n",
       "      <th>2</th>\n",
       "      <td>426-727</td>\n",
       "      <td>426</td>\n",
       "      <td>727</td>\n",
       "      <td>[# Coloque um comentário dizendo o que a funçã...</td>\n",
       "      <td>[P, P]</td>\n",
       "      <td>[7, 7]</td>\n",
       "      <td>1</td>\n",
       "      <td>[7]</td>\n",
       "      <td>1</td>\n",
       "      <td>[7]</td>\n",
       "      <td>1</td>\n",
       "      <td>[7]</td>\n",
       "    </tr>\n",
       "    <tr>\n",
       "      <th>3</th>\n",
       "      <td>439-727</td>\n",
       "      <td>439</td>\n",
       "      <td>727</td>\n",
       "      <td>[# Coloque um comentário dizendo o que a funçã...</td>\n",
       "      <td>[F, P, P, F, P, P, P]</td>\n",
       "      <td>[7, 7, 7, 7, 7, 7, 7]</td>\n",
       "      <td>0</td>\n",
       "      <td>[7]</td>\n",
       "      <td>1</td>\n",
       "      <td>[7]</td>\n",
       "      <td>1</td>\n",
       "      <td>[7]</td>\n",
       "    </tr>\n",
       "    <tr>\n",
       "      <th>4</th>\n",
       "      <td>443-727</td>\n",
       "      <td>443</td>\n",
       "      <td>727</td>\n",
       "      <td>[# Coloque um comentário dizendo o que a funçã...</td>\n",
       "      <td>[P]</td>\n",
       "      <td>[7]</td>\n",
       "      <td>1</td>\n",
       "      <td>[7]</td>\n",
       "      <td>1</td>\n",
       "      <td>[7]</td>\n",
       "      <td>1</td>\n",
       "      <td>[7]</td>\n",
       "    </tr>\n",
       "    <tr>\n",
       "      <th>...</th>\n",
       "      <td>...</td>\n",
       "      <td>...</td>\n",
       "      <td>...</td>\n",
       "      <td>...</td>\n",
       "      <td>...</td>\n",
       "      <td>...</td>\n",
       "      <td>...</td>\n",
       "      <td>...</td>\n",
       "      <td>...</td>\n",
       "      <td>...</td>\n",
       "      <td>...</td>\n",
       "      <td>...</td>\n",
       "    </tr>\n",
       "    <tr>\n",
       "      <th>5706</th>\n",
       "      <td>605-769</td>\n",
       "      <td>605</td>\n",
       "      <td>769</td>\n",
       "      <td>[# Coloque um comentário dizendo o que a funçã...</td>\n",
       "      <td>[F, F, F, F, F, F, F, F, F, F]</td>\n",
       "      <td>[5, 5, 5, 5, 5, 5, 5, 5, 7, 9]</td>\n",
       "      <td>0</td>\n",
       "      <td>[5]</td>\n",
       "      <td>0</td>\n",
       "      <td>[5]</td>\n",
       "      <td>0</td>\n",
       "      <td>[5]</td>\n",
       "    </tr>\n",
       "    <tr>\n",
       "      <th>5707</th>\n",
       "      <td>605-771</td>\n",
       "      <td>605</td>\n",
       "      <td>771</td>\n",
       "      <td>[# Coloque um comentário dizendo o que a funçã...</td>\n",
       "      <td>[F, F, F, F, F, F, F, F, F, F, P]</td>\n",
       "      <td>[5, 5, 5, 5, 5, 5, 5, 5, 5, 5, 5]</td>\n",
       "      <td>0</td>\n",
       "      <td>[5]</td>\n",
       "      <td>0</td>\n",
       "      <td>[5]</td>\n",
       "      <td>0</td>\n",
       "      <td>[5]</td>\n",
       "    </tr>\n",
       "    <tr>\n",
       "      <th>5708</th>\n",
       "      <td>605-772</td>\n",
       "      <td>605</td>\n",
       "      <td>772</td>\n",
       "      <td>[# Coloque um comentário dizendo o que a funçã...</td>\n",
       "      <td>[F, P]</td>\n",
       "      <td>[5, 5]</td>\n",
       "      <td>0</td>\n",
       "      <td>[5]</td>\n",
       "      <td>1</td>\n",
       "      <td>[5]</td>\n",
       "      <td>1</td>\n",
       "      <td>[5]</td>\n",
       "    </tr>\n",
       "    <tr>\n",
       "      <th>5709</th>\n",
       "      <td>605-773</td>\n",
       "      <td>605</td>\n",
       "      <td>773</td>\n",
       "      <td>[# Coloque um comentário dizendo o que a funçã...</td>\n",
       "      <td>[F, F]</td>\n",
       "      <td>[7, 7]</td>\n",
       "      <td>0</td>\n",
       "      <td>[7]</td>\n",
       "      <td>0</td>\n",
       "      <td>[7]</td>\n",
       "      <td>0</td>\n",
       "      <td>[7]</td>\n",
       "    </tr>\n",
       "    <tr>\n",
       "      <th>5710</th>\n",
       "      <td>605-774</td>\n",
       "      <td>605</td>\n",
       "      <td>774</td>\n",
       "      <td>[# Coloque um comentário dizendo o que a funçã...</td>\n",
       "      <td>[F, F, F, F]</td>\n",
       "      <td>[7, 7, 7, 7]</td>\n",
       "      <td>0</td>\n",
       "      <td>[7]</td>\n",
       "      <td>0</td>\n",
       "      <td>[7]</td>\n",
       "      <td>0</td>\n",
       "      <td>[7]</td>\n",
       "    </tr>\n",
       "  </tbody>\n",
       "</table>\n",
       "<p>5711 rows × 12 columns</p>\n",
       "</div>"
      ],
      "text/plain": [
       "     identifier  student_id  problem_id  \\\n",
       "0       378-727         378         727   \n",
       "1       393-727         393         727   \n",
       "2       426-727         426         727   \n",
       "3       439-727         439         727   \n",
       "4       443-727         443         727   \n",
       "...         ...         ...         ...   \n",
       "5706    605-769         605         769   \n",
       "5707    605-771         605         771   \n",
       "5708    605-772         605         772   \n",
       "5709    605-773         605         773   \n",
       "5710    605-774         605         774   \n",
       "\n",
       "                                              solutions  \\\n",
       "0     [# Coloque um comentário dizendo o que a funçã...   \n",
       "1     [# Coloque um comentário dizendo o que a funçã...   \n",
       "2     [# Coloque um comentário dizendo o que a funçã...   \n",
       "3     [# Coloque um comentário dizendo o que a funçã...   \n",
       "4     [# Coloque um comentário dizendo o que a funçã...   \n",
       "...                                                 ...   \n",
       "5706  [# Coloque um comentário dizendo o que a funçã...   \n",
       "5707  [# Coloque um comentário dizendo o que a funçã...   \n",
       "5708  [# Coloque um comentário dizendo o que a funçã...   \n",
       "5709  [# Coloque um comentário dizendo o que a funçã...   \n",
       "5710  [# Coloque um comentário dizendo o que a funçã...   \n",
       "\n",
       "                               outcomes                             skills  \\\n",
       "0                                   [P]                                [5]   \n",
       "1                                [P, P]                             [5, 5]   \n",
       "2                                [P, P]                             [7, 7]   \n",
       "3                 [F, P, P, F, P, P, P]              [7, 7, 7, 7, 7, 7, 7]   \n",
       "4                                   [P]                                [7]   \n",
       "...                                 ...                                ...   \n",
       "5706     [F, F, F, F, F, F, F, F, F, F]     [5, 5, 5, 5, 5, 5, 5, 5, 7, 9]   \n",
       "5707  [F, F, F, F, F, F, F, F, F, F, P]  [5, 5, 5, 5, 5, 5, 5, 5, 5, 5, 5]   \n",
       "5708                             [F, P]                             [5, 5]   \n",
       "5709                             [F, F]                             [7, 7]   \n",
       "5710                       [F, F, F, F]                       [7, 7, 7, 7]   \n",
       "\n",
       "      solved_in_1 skill_in_1  solved_in_2 skill_in_2  solved_in_3 skill_in_3  \n",
       "0               1        [5]            1        [5]            1        [5]  \n",
       "1               1        [5]            1        [5]            1        [5]  \n",
       "2               1        [7]            1        [7]            1        [7]  \n",
       "3               0        [7]            1        [7]            1        [7]  \n",
       "4               1        [7]            1        [7]            1        [7]  \n",
       "...           ...        ...          ...        ...          ...        ...  \n",
       "5706            0        [5]            0        [5]            0        [5]  \n",
       "5707            0        [5]            0        [5]            0        [5]  \n",
       "5708            0        [5]            1        [5]            1        [5]  \n",
       "5709            0        [7]            0        [7]            0        [7]  \n",
       "5710            0        [7]            0        [7]            0        [7]  \n",
       "\n",
       "[5711 rows x 12 columns]"
      ]
     },
     "execution_count": 22,
     "metadata": {},
     "output_type": "execute_result"
    }
   ],
   "source": [
    "df"
   ]
  },
  {
   "cell_type": "markdown",
   "metadata": {},
   "source": [
    "Solved in 1 attempt"
   ]
  },
  {
   "cell_type": "code",
   "execution_count": 63,
   "metadata": {},
   "outputs": [
    {
     "name": "stdout",
     "output_type": "stream",
     "text": [
      "CPU times: user 550 ms, sys: 51 µs, total: 550 ms\n",
      "Wall time: 550 ms\n"
     ]
    }
   ],
   "source": [
    "%%time\n",
    "kcs = []\n",
    "for row in df['skill_in_3'].iteritems():\n",
    "    kcs.extend(row[1])\n",
    "kcs = list(set(kcs))\n",
    "steps = df['identifier'].unique().tolist()\n",
    "\n",
    "def create_data(row):\n",
    "    question_id = steps.index(row['identifier'])\n",
    "    return question_id\n",
    "\n",
    "df['question_id'] = df.apply(create_data, axis=1)"
   ]
  },
  {
   "cell_type": "code",
   "execution_count": 64,
   "metadata": {},
   "outputs": [
    {
     "name": "stdout",
     "output_type": "stream",
     "text": [
      "(5711, 8)\n",
      "CPU times: user 830 ms, sys: 0 ns, total: 830 ms\n",
      "Wall time: 837 ms\n"
     ]
    }
   ],
   "source": [
    "%%time\n",
    "q_matrix = np.zeros((len(steps), len(kcs)))\n",
    "\n",
    "for idx, item in df.iterrows():\n",
    "    for kc in item['skill_in_3']:\n",
    "        kc_col = kcs.index(kc)\n",
    "        q_matrix[item['question_id'], kc_col] = 1\n",
    "    \n",
    "print(q_matrix.shape)"
   ]
  },
  {
   "cell_type": "code",
   "execution_count": 48,
   "metadata": {},
   "outputs": [],
   "source": [
    "with open('%s/data_2020_02_18_q_matrix.pkl' % folder, 'wb') as pklfile:\n",
    "    pickle.dump(q_matrix, pklfile)"
   ]
  },
  {
   "cell_type": "code",
   "execution_count": 65,
   "metadata": {},
   "outputs": [
    {
     "name": "stdout",
     "output_type": "stream",
     "text": [
      "CPU times: user 61.9 ms, sys: 11.9 ms, total: 73.8 ms\n",
      "Wall time: 111 ms\n"
     ]
    },
    {
     "data": {
      "text/plain": [
       "<spkit.bkt.BKT at 0x7fa04293a5f8>"
      ]
     },
     "execution_count": 65,
     "metadata": {},
     "output_type": "execute_result"
    }
   ],
   "source": [
    "%%time\n",
    "# Data matrix\n",
    "data = df[['solved_in_3', 'student_id', 'question_id']].values.tolist()\n",
    "\n",
    "# Instantiate model\n",
    "model = bkt.BKT()\n",
    "model.fit(data, q_matrix)"
   ]
  },
  {
   "cell_type": "code",
   "execution_count": 66,
   "metadata": {},
   "outputs": [
    {
     "data": {
      "text/plain": [
       "193"
      ]
     },
     "execution_count": 66,
     "metadata": {},
     "output_type": "execute_result"
    }
   ],
   "source": [
    "students = df['student_id'].unique().tolist()\n",
    "len(students)"
   ]
  },
  {
   "cell_type": "code",
   "execution_count": 51,
   "metadata": {},
   "outputs": [],
   "source": [
    "with open('%s/data_2020_02_18_students.pkl' % folder, 'wb') as pklfile:\n",
    "    pickle.dump(students, pklfile)\n",
    "with open('%s/data_2020_02_18_model.pkl' % folder, 'wb') as pklfile:\n",
    "    pickle.dump(model, pklfile)"
   ]
  },
  {
   "cell_type": "code",
   "execution_count": 67,
   "metadata": {},
   "outputs": [
    {
     "data": {
      "text/plain": [
       "solved_in_3\n",
       "0    0.311854\n",
       "1    0.688146\n",
       "Name: student_id, dtype: float64"
      ]
     },
     "execution_count": 67,
     "metadata": {},
     "output_type": "execute_result"
    }
   ],
   "source": [
    "df.groupby(\"solved_in_3\").count()['student_id']/df.groupby(\"solved_in_3\").count()['student_id'].sum()"
   ]
  },
  {
   "cell_type": "code",
   "execution_count": 68,
   "metadata": {},
   "outputs": [
    {
     "name": "stdout",
     "output_type": "stream",
     "text": [
      "CPU times: user 500 ms, sys: 3.99 ms, total: 504 ms\n",
      "Wall time: 504 ms\n"
     ]
    }
   ],
   "source": [
    "%%time\n",
    "data_arr = np.asarray(data)\n",
    "rmse = 0\n",
    "n = 0\n",
    "score_df = []\n",
    "learning_state = {}\n",
    "outcome_all = []\n",
    "predicted_proba = []\n",
    "for student in students:\n",
    "    student_idx = np.where(data_arr[:,1] == student)\n",
    "    outcome = data_arr[student_idx, 0].astype('int64')\n",
    "    outcome_all += outcome.tolist()[0]\n",
    "    question_id = data_arr[student_idx, 2].astype('int64')\n",
    "    data_student = np.vstack((outcome, question_id)).T.astype('int64').tolist()\n",
    "    predicted = model.predict_proba(data_student, q_matrix)\n",
    "    predicted_proba += predicted[:,1].tolist()\n",
    "    s_ll, s_aic, s_bic, s_rmse, s_acc = model.score()\n",
    "    fpr, tpr, _ = roc_curve(outcome.flatten(), predicted[:,1], pos_label=1)\n",
    "    auc_score = auc(fpr, tpr)\n",
    "    score_df.append({\"student\": student,\n",
    "                     \"AIC\": s_aic,\n",
    "                     \"BIC\": s_bic,\n",
    "                     \"RMSE\": s_rmse,\n",
    "                     \"Acc\": s_acc,\n",
    "                     \"n questions\": model.n_questions,\n",
    "#                      \"LL\": s_ll,\n",
    "                     \"LL\": model.loglikelihood,\n",
    "                     \"correct_outcome\": np.where(outcome == 1)[1].shape[0],\n",
    "                     \"incorrect_outcome\": np.where(outcome == 0)[1].shape[0],\n",
    "                     \"AUC\": auc_score})\n",
    "#     learning_state[student] = model.learning_state"
   ]
  },
  {
   "cell_type": "code",
   "execution_count": 69,
   "metadata": {},
   "outputs": [],
   "source": [
    "score = pd.DataFrame.from_dict(score_df)"
   ]
  },
  {
   "cell_type": "code",
   "execution_count": 54,
   "metadata": {},
   "outputs": [],
   "source": [
    "with open('%s/score_chapter_8_2019_10_14.pkl' % folder, 'wb') as pklfile:\n",
    "    pickle.dump(score, pklfile)\n",
    "# with open('%s/kdd_2005_2005_learning_state.pkl' % folder, 'wb') as pklfile:\n",
    "#     pickle.dump(learning_state, pklfile)"
   ]
  },
  {
   "cell_type": "code",
   "execution_count": 70,
   "metadata": {},
   "outputs": [],
   "source": [
    "rmse_train = np.sqrt((score['RMSE']**2*score['n questions']).sum()/score['n questions'].sum())\n",
    "rmse_avg = score['RMSE'].mean()\n",
    "rmse_std = score['RMSE'].std()"
   ]
  },
  {
   "cell_type": "code",
   "execution_count": 71,
   "metadata": {},
   "outputs": [
    {
     "name": "stdout",
     "output_type": "stream",
     "text": [
      "RMSE de treino: 0.51\n",
      "RMSE médio: 0.52 +- 0.07\n"
     ]
    }
   ],
   "source": [
    "print(\"RMSE de treino: %.2f\" % rmse_train)\n",
    "print(\"RMSE médio: %.2f +- %.2f\" % (rmse_avg, rmse_std))"
   ]
  },
  {
   "cell_type": "code",
   "execution_count": 57,
   "metadata": {},
   "outputs": [],
   "source": [
    "acc_train = (score['Acc']*score['n questions']).sum()/score['n questions'].sum()\n",
    "acc_avg = score['Acc'].mean()\n",
    "acc_std = score['Acc'].std()"
   ]
  },
  {
   "cell_type": "code",
   "execution_count": 72,
   "metadata": {},
   "outputs": [
    {
     "name": "stdout",
     "output_type": "stream",
     "text": [
      "Acc de treino: 0.52\n",
      "Acc médio: 0.51 +- 0.21\n"
     ]
    }
   ],
   "source": [
    "print(\"Acc de treino: %.2f\" % acc_train)\n",
    "print(\"Acc médio: %.2f +- %.2f\" % (acc_avg, acc_std))"
   ]
  },
  {
   "cell_type": "code",
   "execution_count": 74,
   "metadata": {},
   "outputs": [
    {
     "name": "stdout",
     "output_type": "stream",
     "text": [
      "Youden's optimum threshold: 0.62\n"
     ]
    }
   ],
   "source": [
    "fpr, tpr, thresholds = roc_curve(outcome_all, predicted_proba, pos_label=1)\n",
    "auc_score = auc(fpr, tpr)\n",
    "auc_avg = score['AUC'].mean()\n",
    "auc_std = score['AUC'].std()\n",
    "\n",
    "# Sensitivity = tpr = TP/(TP+FN)\n",
    "# Specificity = 1-fpr = TN/(TN+FP)\n",
    "# Youden's index = Sensitivity + Specificity - 1 = tpr + (1-fpr) - 1 = tpr - fpr\n",
    "J_stats = tpr - fpr\n",
    "J_opt_thresholds = thresholds[np.argmax(J_stats)]\n",
    "print('Youden\\'s optimum threshold: %.2f' % J_opt_thresholds)"
   ]
  },
  {
   "cell_type": "code",
   "execution_count": 75,
   "metadata": {},
   "outputs": [
    {
     "name": "stdout",
     "output_type": "stream",
     "text": [
      "AUC de treino: 0.56\n",
      "AUC médio: 0.48 +- 0.19\n"
     ]
    }
   ],
   "source": [
    "print(\"AUC de treino: %.2f\" % auc_score)\n",
    "print(\"AUC médio: %.2f +- %.2f\" % (auc_avg, auc_std))"
   ]
  },
  {
   "cell_type": "code",
   "execution_count": 60,
   "metadata": {},
   "outputs": [
    {
     "data": {
      "text/plain": [
       "0.5431623183330415"
      ]
     },
     "execution_count": 60,
     "metadata": {},
     "output_type": "execute_result"
    }
   ],
   "source": [
    "estimated_outcome = np.where(np.asarray(predicted_proba) > J_opt_thresholds, 1, 0)\n",
    "acc = (estimated_outcome == np.asarray(outcome_all)).sum()/score['n questions'].sum()\n",
    "acc"
   ]
  },
  {
   "cell_type": "code",
   "execution_count": 61,
   "metadata": {},
   "outputs": [],
   "source": [
    "# Save threshold\n",
    "with open('%s/threshold_chapter_8_2019_10_14.pkl' % folder, 'wb') as pklfile:\n",
    "    pickle.dump(J_opt_thresholds, pklfile)"
   ]
  },
  {
   "cell_type": "code",
   "execution_count": 76,
   "metadata": {},
   "outputs": [
    {
     "data": {
      "image/png": "[encoded data removed]",
      "text/plain": [
       "<Figure size 432x288 with 1 Axes>"
      ]
     },
     "metadata": {
      "needs_background": "light"
     },
     "output_type": "display_data"
    }
   ],
   "source": [
    "plt.figure()\n",
    "lw = 2\n",
    "plt.plot(fpr, tpr, color='darkorange',\n",
    "         lw=lw, label='ROC curve (area = %0.2f)' % auc_score)\n",
    "plt.plot([0, 1], [0, 1], color='navy', lw=lw, linestyle='--')\n",
    "plt.xlim([0.0, 1.0])\n",
    "plt.ylim([0.0, 1.05])\n",
    "plt.xlabel('False Positive Rate')\n",
    "plt.ylabel('True Positive Rate')\n",
    "plt.title('Receiver operating characteristic example')\n",
    "plt.legend(loc=\"lower right\")\n",
    "plt.show()"
   ]
  },
  {
   "cell_type": "code",
   "execution_count": 64,
   "metadata": {},
   "outputs": [
    {
     "data": {
      "text/plain": [
       "0.5017236807212941"
      ]
     },
     "execution_count": 64,
     "metadata": {},
     "output_type": "execute_result"
    }
   ],
   "source": [
    "n_questions = score['n questions'].sum()\n",
    "p = score['correct_outcome'].sum()/n_questions\n",
    "# Save p\n",
    "with open('%s/p_chapter_8_2019_10_14.pkl' % folder, 'wb') as pklfile:\n",
    "    pickle.dump(p, pklfile)\n",
    "\n",
    "estimated_outcome = np.random.binomial(1, p, n_questions)\n",
    "acc = (estimated_outcome == np.asarray(outcome_all)).sum()/score['n questions'].sum()\n",
    "acc"
   ]
  }
 ],
 "metadata": {
  "kernelspec": {
   "display_name": "Django Shell-Plus",
   "language": "python",
   "name": "django_extensions"
  },
  "language_info": {
   "codemirror_mode": {
    "name": "ipython",
    "version": 3
   },
   "file_extension": ".py",
   "mimetype": "text/x-python",
   "name": "python",
   "nbconvert_exporter": "python",
   "pygments_lexer": "ipython3",
   "version": "3.6.10"
  }
 },
 "nbformat": 4,
 "nbformat_minor": 2
}
