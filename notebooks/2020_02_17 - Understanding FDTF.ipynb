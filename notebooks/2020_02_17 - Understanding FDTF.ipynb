{
 "cells": [
  {
   "cell_type": "code",
   "execution_count": 127,
   "metadata": {},
   "outputs": [],
   "source": [
    "# Helpers\n",
    "import numpy as np\n",
    "from collections import defaultdict\n",
    "import matplotlib.pyplot as plt\n",
    "import pickle\n",
    "import seaborn as sns\n",
    "from sklearn.metrics import roc_curve, auc\n",
    "\n",
    "# Preprocessing\n",
    "from sklearn.feature_extraction.text import CountVectorizer\n",
    "from tokenizer import create_bag_of_words\n",
    "\n",
    "# DB\n",
    "from django.db.models import Case, IntegerField, Value\n",
    "from spkit import bkt, pfa"
   ]
  },
  {
   "cell_type": "code",
   "execution_count": 2,
   "metadata": {},
   "outputs": [],
   "source": [
    "folder = \"data/ufrj/\"\n",
    "with open(\"%s/ufrj_dataset_2020_02_17.pkl\" % folder, \"rb\") as pklfile:\n",
    "    data = pickle.load(pklfile)"
   ]
  },
  {
   "cell_type": "code",
   "execution_count": 3,
   "metadata": {},
   "outputs": [
    {
     "data": {
      "text/plain": [
       "50"
      ]
     },
     "execution_count": 3,
     "metadata": {},
     "output_type": "execute_result"
    }
   ],
   "source": [
    "data[\"num_attempts\"]"
   ]
  },
  {
   "cell_type": "code",
   "execution_count": 10,
   "metadata": {},
   "outputs": [],
   "source": [
    "student_performance = np.zeros((data[\"num_users\"], data[\"num_quizs\"], data[\"num_attempts\"]))\n",
    "X = np.zeros(student_performance.shape)\n",
    "\n",
    "train_set = data[\"train\"]\n",
    "for item in train_set:\n",
    "    s_idx, q_idx, a_idx, outcome, _ = item\n",
    "    if outcome == 0:\n",
    "        student_performance[s_idx, q_idx, a_idx] = 0.1\n",
    "    else:\n",
    "        student_performance[s_idx, q_idx, a_idx] = 1\n",
    "    X[s_idx, q_idx, a_idx] = 1\n",
    "    \n",
    "student_performance[np.where(X[:,:] == 0)] = None\n",
    "original_student_performance = student_performance.copy()"
   ]
  },
  {
   "cell_type": "code",
   "execution_count": 5,
   "metadata": {},
   "outputs": [
    {
     "data": {
      "text/plain": [
       "array([[ 97,  33,   0,   1,   0],\n",
       "       [ 97,  33,   1,   1,   0],\n",
       "       [145,  33,   0,   1,   0],\n",
       "       ...,\n",
       "       [186,  47,  33,   0,   0],\n",
       "       [186,  47,  34,   0,   0],\n",
       "       [186,  47,  35,   0,   0]])"
      ]
     },
     "execution_count": 5,
     "metadata": {},
     "output_type": "execute_result"
    }
   ],
   "source": [
    "train_set"
   ]
  },
  {
   "cell_type": "code",
   "execution_count": 7,
   "metadata": {},
   "outputs": [
    {
     "data": {
      "text/plain": [
       "1.1619909502262442"
      ]
     },
     "execution_count": 7,
     "metadata": {},
     "output_type": "execute_result"
    }
   ],
   "source": [
    "np.where(X == 1)[2].shape[0]/np.prod(X.shape)*100"
   ]
  },
  {
   "cell_type": "code",
   "execution_count": 8,
   "metadata": {},
   "outputs": [
    {
     "ename": "NameError",
     "evalue": "name 'feedback_driven_tensor_factorization' is not defined",
     "output_type": "error",
     "traceback": [
      "\u001b[0;31m---------------------------------------------------------------------------\u001b[0m",
      "\u001b[0;31mNameError\u001b[0m                                 Traceback (most recent call last)",
      "\u001b[0;32m<timed exec>\u001b[0m in \u001b[0;36m<module>\u001b[0;34m\u001b[0m\n",
      "\u001b[0;31mNameError\u001b[0m: name 'feedback_driven_tensor_factorization' is not defined"
     ]
    }
   ],
   "source": [
    "%%time\n",
    "X, student_knowledge, q_matrix = feedback_driven_tensor_factorization(\n",
    "    student_performance, n_concepts=12, init=3, max_iter=100, mu=10)"
   ]
  },
  {
   "cell_type": "code",
   "execution_count": 87,
   "metadata": {},
   "outputs": [
    {
     "name": "stdout",
     "output_type": "stream",
     "text": [
      "Run: 0\n",
      "Run: 1\n",
      "Run: 2\n",
      "CPU times: user 28.6 s, sys: 936 ms, total: 29.5 s\n",
      "Wall time: 14.8 s\n"
     ]
    },
    {
     "data": {
      "text/plain": [
       "403.60660573646373"
      ]
     },
     "execution_count": 87,
     "metadata": {},
     "output_type": "execute_result"
    }
   ],
   "source": [
    "%%time\n",
    "student_performance = original_student_performance.copy()\n",
    "best_student_performance_pred, best_student_knowledge, best_q_matrix, best_error = feedback_driven_tensor_factorization(\n",
    "    student_performance, n_concepts=30, init=3, max_iter=100, mu=3)\n",
    "best_error"
   ]
  },
  {
   "cell_type": "code",
   "execution_count": 117,
   "metadata": {},
   "outputs": [
    {
     "name": "stdout",
     "output_type": "stream",
     "text": [
      "Accuracy: 67.81%\n",
      "RMSE: 0.57\n"
     ]
    }
   ],
   "source": [
    "bspp_binary = best_student_performance_pred.copy()\n",
    "bspp_binary[bspp_binary > 0.96] = 1\n",
    "bspp_binary[bspp_binary < 0.96] = 0\n",
    "\n",
    "y = student_performance[np.where(X == 1)]\n",
    "y[y==0.1] = 0\n",
    "y_pred = best_student_performance_pred[np.where(X == 1)]\n",
    "y_pred_binary = bspp_binary[np.where(X == 1)]\n",
    "\n",
    "# best_student_performance_pred[best_student_performance_pred > 0.5] = 1\n",
    "# best_student_performance_pred[best_student_performance_pred < 0.5] = 0\n",
    "\n",
    "acc = 100*(np.logical_not(np.logical_xor(\n",
    "    y, y_pred_binary)).sum())/len(y)\n",
    "rmse = np.sqrt(np.power((y-y_pred), 2)).mean()\n",
    "\n",
    "print(\"Accuracy: %.2f%%\" % acc)\n",
    "print(\"RMSE: %.2f\" % rmse)"
   ]
  },
  {
   "cell_type": "code",
   "execution_count": 118,
   "metadata": {},
   "outputs": [
    {
     "data": {
      "text/plain": [
       "array([0., 0., 0., ..., 0., 0., 0.])"
      ]
     },
     "execution_count": 118,
     "metadata": {},
     "output_type": "execute_result"
    }
   ],
   "source": [
    "y"
   ]
  },
  {
   "cell_type": "code",
   "execution_count": 119,
   "metadata": {},
   "outputs": [
    {
     "data": {
      "text/plain": [
       "array([0., 0., 0., ..., 0., 0., 0.])"
      ]
     },
     "execution_count": 119,
     "metadata": {},
     "output_type": "execute_result"
    }
   ],
   "source": [
    "y_pred_binary"
   ]
  },
  {
   "cell_type": "code",
   "execution_count": 120,
   "metadata": {},
   "outputs": [
    {
     "data": {
      "text/plain": [
       "array([0.13830483, 0.23520094, 0.30440606, ..., 0.7705305 , 0.78263196,\n",
       "       0.79235208])"
      ]
     },
     "execution_count": 120,
     "metadata": {},
     "output_type": "execute_result"
    }
   ],
   "source": [
    "y_pred"
   ]
  },
  {
   "cell_type": "code",
   "execution_count": 121,
   "metadata": {},
   "outputs": [
    {
     "data": {
      "image/png": "[encoded data removed]",
      "text/plain": [
       "<Figure size 432x288 with 1 Axes>"
      ]
     },
     "metadata": {
      "needs_background": "light"
     },
     "output_type": "display_data"
    }
   ],
   "source": [
    "sns.distplot(y, kde=False, bins=np.arange(0, 1.1, 0.1))\n",
    "sns.distplot(y_pred, kde=False, bins=np.arange(0, 1.1, 0.1))\n",
    "# sns.distplot(y_pred, kde=False)\n",
    "sns.distplot(y_pred_binary, kde=False, bins=np.arange(0, 1.1, 0.1))\n",
    "plt.show()"
   ]
  },
  {
   "cell_type": "code",
   "execution_count": 123,
   "metadata": {},
   "outputs": [
    {
     "data": {
      "image/png": "[encoded data removed]",
      "text/plain": [
       "<Figure size 432x288 with 1 Axes>"
      ]
     },
     "metadata": {
      "needs_background": "light"
     },
     "output_type": "display_data"
    }
   ],
   "source": [
    "plt.hist(y)\n",
    "plt.hist(y_pred)\n",
    "plt.hist(y_pred_binary)\n",
    "# plt.hist(y)\n",
    "plt.show()"
   ]
  },
  {
   "cell_type": "code",
   "execution_count": 102,
   "metadata": {},
   "outputs": [
    {
     "name": "stdout",
     "output_type": "stream",
     "text": [
      "Youden's optimum threshold: 0.96\n"
     ]
    },
    {
     "data": {
      "image/png": "[encoded data removed]",
      "text/plain": [
       "<Figure size 432x288 with 1 Axes>"
      ]
     },
     "metadata": {
      "needs_background": "light"
     },
     "output_type": "display_data"
    }
   ],
   "source": [
    "# AUC\n",
    "fpr, tpr, thresholds = roc_curve(y, y_pred, pos_label=1)\n",
    "auc_score = auc(fpr, tpr)\n",
    "# auc_avg = score['AUC'].mean()\n",
    "# auc_std = score['AUC'].std()\n",
    "# Sensitivity = tpr = TP/(TP+FN)\n",
    "# Specificity = 1-fpr = TN/(TN+FP)\n",
    "# Youden's index = Sensitivity + Specificity - 1 = tpr + (1-fpr) - 1 = tpr - fpr\n",
    "J_stats = tpr - fpr\n",
    "J_opt_thresholds = thresholds[np.argmax(J_stats)]\n",
    "print('Youden\\'s optimum threshold: %.2f' % J_opt_thresholds)\n",
    "# print(\"AUC de treino: %.2f\" % auc_score)\n",
    "# print(\"AUC médio: %.2f +- %.2f\" % (auc_avg, auc_std))\n",
    "estimated_outcome = np.where(np.asarray(y_pred) > J_opt_thresholds, 1, 0)\n",
    "# adjusted_acc = (estimated_outcome == np.asarray(outcome)).sum()/score['n questions'].sum()\n",
    "# print(\"Adjusted Acc: %.2f\" % adjusted_acc)\n",
    "plt.figure()\n",
    "lw = 2\n",
    "plt.plot(fpr, tpr, color='darkorange',\n",
    "         lw=lw, label='ROC curve (area = %0.2f)' % auc_score)\n",
    "plt.plot([0, 1], [0, 1], color='navy', lw=lw, linestyle='--')\n",
    "plt.xlim([0.0, 1.0])\n",
    "plt.ylim([0.0, 1.05])\n",
    "plt.xlabel('False Positive Rate')\n",
    "plt.ylabel('True Positive Rate')\n",
    "plt.title('Receiver operating characteristic example')\n",
    "plt.legend(loc=\"lower right\")\n",
    "plt.show()"
   ]
  },
  {
   "cell_type": "code",
   "execution_count": 62,
   "metadata": {},
   "outputs": [],
   "source": [
    "def feedback_driven_tensor_factorization(student_performance, n_concepts=2, mu=0.1, init=3, max_iter=100):\n",
    "    \"\"\" Student performance: 0 if incorrect, 1 if correct or None if not observed \"\"\"\n",
    "    \n",
    "    # Get values from student performance tensor shape\n",
    "    n_students, n_questions, n_attempts = student_performance.shape\n",
    "    \n",
    "    # Construct tensor X denoting when a student has or has not chosen to work on a problem\n",
    "    X = np.ones(student_performance.shape)\n",
    "    X[np.where(np.isnan(student_performance))] = 0\n",
    "    # Complete student knowledge tensor with zero where is NaN\n",
    "    student_performance[np.where(np.isnan(student_performance))] = 0\n",
    "    \n",
    "    # Create student knowledge tensor\n",
    "    student_knowledge = np.zeros((n_students, n_concepts, n_attempts))\n",
    "\n",
    "#     error_run = []\n",
    "#     error_total_run = []\n",
    "#     student_performance_pred_run = []\n",
    "    best_error = 9999\n",
    "    lambda1 = 0.0001\n",
    "    \n",
    "    # Several starts\n",
    "    for run in range(init):\n",
    "        print(\"Run: %d\" % run)\n",
    "#         error = []\n",
    "        student_performance_pred_list = []\n",
    "\n",
    "#         for attempt in range(n_attempts):\n",
    "#             student_knowledge[:, :, attempt] = np.random.rand(n_students, n_concepts)\n",
    "        q_matrix = np.random.rand(n_concepts, n_questions)\n",
    "         # Impose non-negativity constraint\n",
    "        q_matrix[q_matrix <= 0] = 0.01\n",
    "        # Normalize rows to sum one\n",
    "        row_sums = q_matrix.sum(axis=0, keepdims=True)\n",
    "        if not (np.any(q_matrix.sum(axis=0))):\n",
    "            raise RuntimeError(\"Q Matrix with empty row\")\n",
    "        q_matrix = q_matrix / row_sums\n",
    "\n",
    "        student_performance_pred = np.zeros(student_performance.shape)\n",
    "        for i in range(max_iter):\n",
    "            # Phase 2: learning\n",
    "            # Update T: T = 2*(T_{t-1}) + 2*((1-T_{t-1})/(1+exp(-mu*X_{t}*Q'))) - 1\n",
    "            # For T0 user T-1 as 0\n",
    "            student_knowledge[:, :, 0] = (2/(1+np.exp(-mu*np.dot(X[:,:,0], q_matrix.T)))-1)\n",
    "#             print(student_knowledge[0,:,0])\n",
    "#             break\n",
    "#         break\n",
    "            for attempt in range(1, n_attempts):\n",
    "                student_knowledge[:, :, attempt] = (2*student_knowledge[:, :, attempt-1]) + \\\n",
    "                2*(1-student_knowledge[:, :, attempt-1])/(1+np.exp(-mu*np.dot(X[:,:,attempt], q_matrix.T))) - 1\n",
    "#                 print(student_knowledge[0,:,attempt])\n",
    "                \n",
    "            \n",
    "            # Phase 1: prediction\n",
    "            # Update Q: Q = (T'T)^(-1)T'Y = T^(-1)Y\n",
    "            # (T'T)^(-1)\n",
    "            student_knowledge_transposed = np.zeros((n_concepts, n_concepts, n_attempts))\n",
    "            for attempt in range(n_attempts):\n",
    "                student_knowledge_transposed[:, :, attempt] = np.dot(student_knowledge[:, :, attempt].T, \n",
    "                                                                     student_knowledge[:, :, attempt])\n",
    "                \n",
    "            student_knowledge_transposed = student_knowledge_transposed.sum(axis=2)\n",
    "#             try:\n",
    "            student_knowledge_transposed_inv = np.linalg.pinv(student_knowledge_transposed+lambda1)\n",
    "#             except np.linalg.LinAlgError:\n",
    "#                 return student_knowledge, X, q_matrix, student_knowledge_transposed_inv, TY\n",
    "            \n",
    "            # T'Y\n",
    "            TY = np.zeros((n_concepts, n_questions, n_attempts))\n",
    "            for attempt in range(n_attempts):\n",
    "                TY[:, :, attempt] = np.dot(student_knowledge[:, :, attempt].T, \n",
    "                                           student_performance[:, :, attempt])\n",
    "            TY = TY.sum(axis=2)\n",
    "            \n",
    "            ## TODO: add regularization parameters (lambda)\n",
    "            # Q = (T'T)^(-1)T'Y\n",
    "            q_matrix = np.dot(student_knowledge_transposed_inv, TY)\n",
    "            # Impose non-negativity constraint\n",
    "            q_matrix[q_matrix < 0] = 0\n",
    "            # Normalize rows to sum one\n",
    "            row_sums = q_matrix.sum(axis=0, keepdims=True)\n",
    "            if not (np.all(row_sums)):\n",
    "                raise RuntimeError(\"Q Matrix with empty row\")\n",
    "#                 print(\"Q Matrix with empty row\")\n",
    "#                 return q_matrix\n",
    "            q_matrix = q_matrix / row_sums\n",
    "            \n",
    "            # Y = TQ\n",
    "            for attempt in range(n_attempts):\n",
    "                student_performance_pred[:, :, attempt] = np.dot(student_knowledge[:, :, attempt], q_matrix)\n",
    "                \n",
    "            \n",
    "            diff = np.zeros((n_students, n_questions, n_attempts))\n",
    "            for attempt in range(n_attempts):\n",
    "                diff[:, :, attempt] = student_performance[:, :, attempt] - student_performance_pred[:, :, attempt]\n",
    "            # Frobenius norm (norm-2)\n",
    "            error = np.sqrt(np.sum(np.power(diff, 2)))\n",
    "#             error.append(np.sqrt(np.sum(np.power(diff, 2))))\n",
    "            if error < best_error:\n",
    "                best_student_performance_pred = student_performance_pred.copy()\n",
    "                best_student_knowledge = student_knowledge.copy()\n",
    "                best_q_matrix = q_matrix.copy()\n",
    "                best_error = error\n",
    "            \n",
    "#             student_performance_pred_iter = student_performance_pred.copy()\n",
    "#             student_performance_pred_list.append(student_performance_pred_iter)\n",
    "#         student_performance_pred_run.append(student_performance_pred_list)\n",
    "#         error_run.append(error)\n",
    "#         error_total_run.append(error[-1])\n",
    "                \n",
    "#     return np.asarray(student_performance_pred_run), np.asarray(error_run), error_total_run\n",
    "    if best_error == 9999:\n",
    "        raise RuntimeError(\"Could not converge\")\n",
    "    return best_student_performance_pred, best_student_knowledge, best_q_matrix, best_error\n",
    "#     return (np.asarray(student_performance_pred_run), np.asarray(error_run), error_total_run, \n",
    "#             best_student_performance_pred, best_student_knowledge, best_q_matrix, best_error)"
   ]
  },
  {
   "cell_type": "code",
   "execution_count": 125,
   "metadata": {},
   "outputs": [],
   "source": [
    "train_set = data[\"train\"]\n",
    "train_set_bkt = []\n",
    "for item in train_set:\n",
    "    train_set_bkt.append([outcome, s_idx, q_idx])"
   ]
  },
  {
   "cell_type": "code",
   "execution_count": 128,
   "metadata": {},
   "outputs": [
    {
     "name": "stdout",
     "output_type": "stream",
     "text": [
      "CPU times: user 37 µs, sys: 1 µs, total: 38 µs\n",
      "Wall time: 44.1 µs\n"
     ]
    }
   ],
   "source": [
    "%%time\n",
    "# Instantiate model\n",
    "model_bkt = bkt.BKT()\n",
    "model_pfa = pfa.PFA()"
   ]
  },
  {
   "cell_type": "code",
   "execution_count": null,
   "metadata": {},
   "outputs": [],
   "source": [
    "model_bkt.fit(train_set_bkt, q_matrix)\n",
    "model_pfa.fit(train_set_bkt, q_matrix)"
   ]
  }
 ],
 "metadata": {
  "kernelspec": {
   "display_name": "Django Shell-Plus",
   "language": "python",
   "name": "django_extensions"
  },
  "language_info": {
   "codemirror_mode": {
    "name": "ipython",
    "version": 3
   },
   "file_extension": ".py",
   "mimetype": "text/x-python",
   "name": "python",
   "nbconvert_exporter": "python",
   "pygments_lexer": "ipython3",
   "version": "3.6.10"
  }
 },
 "nbformat": 4,
 "nbformat_minor": 4
}
