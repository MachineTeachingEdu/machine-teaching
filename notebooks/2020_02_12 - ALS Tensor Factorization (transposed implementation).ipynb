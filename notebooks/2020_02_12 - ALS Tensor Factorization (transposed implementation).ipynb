{
 "cells": [
  {
   "cell_type": "code",
   "execution_count": 705,
   "metadata": {},
   "outputs": [],
   "source": [
    "import numpy as np\n",
    "from scipy import sparse\n",
    "import matplotlib.pyplot as plt"
   ]
  },
  {
   "cell_type": "code",
   "execution_count": 706,
   "metadata": {},
   "outputs": [],
   "source": [
    "N_CONCEPTS = 2\n",
    "N_STUDENTS = 10\n",
    "N_ATTEMPTS = 3\n",
    "N_QUESTIONS = 5\n",
    "\n",
    "# Algorithm parameters\n",
    "INIT = 3\n",
    "MAX_ITER = 100"
   ]
  },
  {
   "cell_type": "markdown",
   "metadata": {},
   "source": [
    "### ALS Tensor Factorization"
   ]
  },
  {
   "cell_type": "code",
   "execution_count": 722,
   "metadata": {},
   "outputs": [],
   "source": [
    "def als_tensor_factorization(student_performance, n_concepts=2, init=3, max_iter=100):\n",
    "    \n",
    "    # Get values from student performance tensor shape\n",
    "    n_questions, n_students, n_attempts = student_performance.shape\n",
    "    \n",
    "    student_knowledge = np.zeros((n_concepts, n_students, n_attempts))\n",
    "\n",
    "    error_run = []\n",
    "    error_total_run = []\n",
    "    student_performance_pred_run = []\n",
    "    \n",
    "    # Several starts\n",
    "    for run in range(init):\n",
    "        error = []\n",
    "        student_performance_pred_list = []\n",
    "    #     q_matrix = np.random.rand(N_QUESTIONS, N_CONCEPTS)\n",
    "\n",
    "        for attempt in range(N_ATTEMPTS):\n",
    "            student_knowledge[:, :, attempt] = np.random.rand(n_concepts, n_students)\n",
    "\n",
    "        # Phase 1: prediction\n",
    "        student_performance_pred = np.zeros((n_questions, n_students, n_attempts))\n",
    "        for i in range(max_iter):\n",
    "\n",
    "            # Update Q: Q = YT'(TT')^(-1) = YT^(-1)\n",
    "            # (TT')^(-1)\n",
    "            student_knowledge_transposed = np.zeros((n_concepts, n_concepts, n_attempts))\n",
    "            for attempt in range(n_attempts):\n",
    "                student_knowledge_transposed[:, :, attempt] = np.dot(student_knowledge[:, :, attempt], \n",
    "                                                                     student_knowledge[:, :, attempt].T)\n",
    "            student_knowledge_transposed = student_knowledge_transposed.sum(axis=2)\n",
    "            student_knowledge_transposed_inv = np.linalg.pinv(student_knowledge_transposed)\n",
    "            \n",
    "            # YT'\n",
    "            YT = np.zeros((n_questions, n_concepts, n_attempts))\n",
    "            for attempt in range(n_attempts):\n",
    "                YT[:, :, attempt] = np.dot(student_performance[:, :, attempt],\n",
    "                                                      student_knowledge[:, :, attempt].T)\n",
    "            YT = YT.sum(axis=2) \n",
    "            \n",
    "            ## TODO: add regularization parameters (lambda)\n",
    "            # Q = YT'(TT')^(-1)\n",
    "            q_matrix = np.dot(YT, student_knowledge_transposed_inv)\n",
    "            # Impose non-negativity constraint\n",
    "            q_matrix[q_matrix < 0] = 0\n",
    "            # Normalize rows to sum one\n",
    "            row_sums = q_matrix.sum(axis=1, keepdims=True)\n",
    "            q_matrix = q_matrix / row_sums\n",
    "            \n",
    "            # Update T: T = (Q'Q)^(-1)Q'Y = Q^(-1)Y\n",
    "            # (Q'Q)^(-1)\n",
    "            q_matrix_transpose_inv = np.linalg.pinv(np.dot(q_matrix.T, q_matrix))\n",
    "            \n",
    "            # Q'Y\n",
    "            QY = np.zeros((n_concepts, n_students, n_attempts))\n",
    "            for attempt in range(n_attempts):\n",
    "                QY[:, :, attempt] = np.dot(q_matrix.T, student_performance[:, :, attempt])\n",
    "                \n",
    "            # T = (Q'Q)^(-1)Q'Y    \n",
    "            for attempt in range(n_attempts):\n",
    "                student_knowledge[:, :, attempt] = np.dot(q_matrix_transpose_inv, QY[:, :, attempt])\n",
    "                \n",
    "            # Y = QT\n",
    "            for attempt in range(n_attempts):\n",
    "                student_performance_pred[:, :, attempt] = np.dot(q_matrix, student_knowledge[:, :, attempt])\n",
    "                \n",
    "            \n",
    "            diff = np.zeros((n_questions, n_students, n_attempts))\n",
    "            for attempt in range(n_attempts):\n",
    "                diff[:, :, attempt] = student_performance[:, :, attempt] - student_performance_pred[:, :, attempt]\n",
    "            # Frobenius norm (norm-2)\n",
    "            error.append(np.sqrt(np.sum(np.power(diff, 2))))\n",
    "            \n",
    "            student_performance_pred_iter = student_performance_pred.copy()\n",
    "            student_performance_pred_list.append(student_performance_pred_iter)\n",
    "        student_performance_pred_run.append(student_performance_pred_list)\n",
    "        error_run.append(error)\n",
    "        error_total_run.append(error[-1])\n",
    "                \n",
    "            \n",
    "    return np.asarray(student_performance_pred_run), np.asarray(error_run), error_total_run"
   ]
  },
  {
   "cell_type": "markdown",
   "metadata": {},
   "source": [
    "### Simulation 1 - Student Performance is the exact multiplication of  Q Matrix and Student Knowledge"
   ]
  },
  {
   "cell_type": "code",
   "execution_count": 708,
   "metadata": {},
   "outputs": [],
   "source": [
    "def generate_sample(noise=0):\n",
    "    DENSITY = 0.8\n",
    "\n",
    "    # Create sparse q_matrix and normalize it to sum 1\n",
    "    q_matrix = sparse.rand(N_QUESTIONS, N_CONCEPTS, DENSITY).todense()\n",
    "    row_sums = q_matrix.sum(axis=1)\n",
    "    while not(np.all(row_sums)):\n",
    "        q_matrix = sparse.rand(N_QUESTIONS, N_CONCEPTS, DENSITY).todense()\n",
    "        row_sums = q_matrix.sum(axis=1)\n",
    "    q_matrix = q_matrix / row_sums\n",
    "\n",
    "    student_knowledge = np.zeros((N_CONCEPTS, N_STUDENTS, N_ATTEMPTS))\n",
    "    for attempt in range(N_ATTEMPTS):\n",
    "        student_knowledge[:, :, attempt] = sparse.rand(N_CONCEPTS, N_STUDENTS, DENSITY).todense()\n",
    "\n",
    "    student_performance = np.zeros((N_QUESTIONS, N_STUDENTS, N_ATTEMPTS))\n",
    "    for attempt in range(N_ATTEMPTS):\n",
    "        student_performance[:, :, attempt] = np.dot(q_matrix, student_knowledge[:, :, attempt])\n",
    "        \n",
    "    if noise:\n",
    "        noise = np.random.normal(0, noise, (N_QUESTIONS, N_STUDENTS, N_ATTEMPTS))\n",
    "        student_performance = student_performance + noise\n",
    "        \n",
    "    return student_performance"
   ]
  },
  {
   "cell_type": "code",
   "execution_count": 709,
   "metadata": {},
   "outputs": [],
   "source": [
    "student_performance = generate_sample()"
   ]
  },
  {
   "cell_type": "code",
   "execution_count": 710,
   "metadata": {},
   "outputs": [],
   "source": [
    "student_performance_pred_run, error_run, error_total_run = als_tensor_factorization(\n",
    "    student_performance, n_concepts=2, init=1, max_iter=10)"
   ]
  },
  {
   "cell_type": "code",
   "execution_count": 711,
   "metadata": {},
   "outputs": [
    {
     "data": {
      "text/plain": [
       "array([[8.00304491e-03, 3.72369373e-15, 5.10288706e-15, 2.50820126e-15,\n",
       "        4.99354133e-15, 3.78308481e-15, 2.11334646e-15, 4.62617256e-15,\n",
       "        3.33463801e-15, 4.51419710e-15]])"
      ]
     },
     "execution_count": 711,
     "metadata": {},
     "output_type": "execute_result"
    }
   ],
   "source": [
    "error_run"
   ]
  },
  {
   "cell_type": "markdown",
   "metadata": {},
   "source": [
    "### Simulation 2 - Student Performance is the multiplication of Q Matrix and Student Knowledge plus noise"
   ]
  },
  {
   "cell_type": "code",
   "execution_count": 712,
   "metadata": {},
   "outputs": [],
   "source": [
    "student_performance = generate_sample(0.5)"
   ]
  },
  {
   "cell_type": "code",
   "execution_count": 713,
   "metadata": {},
   "outputs": [],
   "source": [
    "student_performance_pred_run, error_run, error_total_run = als_tensor_factorization(\n",
    "    student_performance, n_concepts=2, init=3, max_iter=50)"
   ]
  },
  {
   "cell_type": "code",
   "execution_count": 714,
   "metadata": {},
   "outputs": [
    {
     "data": {
      "text/plain": [
       "array([[4.75827561, 4.40077378, 4.20804919, 4.15858542, 4.14618965,\n",
       "        4.14220546, 4.14060011, 4.13305479, 4.12843784, 4.12642167,\n",
       "        4.1254945 , 4.12505682, 4.12484696, 4.12316266, 4.12214109,\n",
       "        4.12182187, 4.12178603, 4.12185565, 4.12195543, 4.12205471,\n",
       "        4.12214233, 4.12221549, 4.12227477, 4.122322  , 4.1223592 ,\n",
       "        4.12238832, 4.12241099, 4.12242859, 4.12244223, 4.12245278,\n",
       "        4.12246093, 4.12246722, 4.12247207, 4.12247582, 4.1224787 ,\n",
       "        4.12248093, 4.12248264, 4.12248396, 4.12248498, 4.12248577,\n",
       "        4.12248637, 4.12248684, 4.12248719, 4.12248747, 4.12248768,\n",
       "        4.12248785, 4.12248797, 4.12248807, 4.12248815, 4.1224882 ],\n",
       "       [4.10162914, 4.11504662, 4.12895235, 4.1332719 , 4.13397264,\n",
       "        4.12787495, 4.12526642, 4.12404529, 4.1234295 , 4.12309571,\n",
       "        4.12290131, 4.12278025, 4.12270041, 4.12264531, 4.122606  ,\n",
       "        4.12257729, 4.12255597, 4.12253996, 4.12252785, 4.12251864,\n",
       "        4.12251162, 4.12250624, 4.12250211, 4.12249895, 4.12249652,\n",
       "        4.12249465, 4.12249321, 4.1224921 , 4.12249125, 4.12249059,\n",
       "        4.12249009, 4.1224897 , 4.1224894 , 4.12248917, 4.12248899,\n",
       "        4.12248886, 4.12248875, 4.12248867, 4.12248861, 4.12248856,\n",
       "        4.12248852, 4.12248849, 4.12248847, 4.12248845, 4.12248844,\n",
       "        4.12248843, 4.12248842, 4.12248842, 4.12248841, 4.12248841],\n",
       "       [4.87484976, 4.43088223, 4.13706222, 4.10762345, 4.11576543,\n",
       "        4.12078167, 4.12292323, 4.12383106, 4.12423872, 4.12443384,\n",
       "        4.12453221, 4.12458366, 4.12461125, 4.12462628, 4.12463456,\n",
       "        4.12463914, 4.1246417 , 4.12464313, 4.12464393, 4.12464438,\n",
       "        4.12464463, 4.12464478, 4.12464486, 4.1246449 , 4.12464493,\n",
       "        4.12464494, 4.12464495, 4.12464495, 4.12464496, 4.12464496,\n",
       "        4.12464496, 4.12464496, 4.12464496, 4.12464496, 4.12464496,\n",
       "        4.12464496, 4.12464496, 4.12310582, 4.12210881, 4.12180183,\n",
       "        4.12177275, 4.12184642, 4.12194879, 4.12204982, 4.12213867,\n",
       "        4.12221272, 4.12227268, 4.12232039, 4.12235798, 4.12238737]])"
      ]
     },
     "execution_count": 714,
     "metadata": {},
     "output_type": "execute_result"
    }
   ],
   "source": [
    "error_run"
   ]
  },
  {
   "cell_type": "markdown",
   "metadata": {},
   "source": [
    "### Simulation 3 - Student Performance contains only zeros and ones"
   ]
  },
  {
   "cell_type": "code",
   "execution_count": 715,
   "metadata": {},
   "outputs": [],
   "source": [
    "student_performance[student_performance > 0.5] = 1\n",
    "student_performance[student_performance < 0.5] = 0"
   ]
  },
  {
   "cell_type": "code",
   "execution_count": 716,
   "metadata": {},
   "outputs": [],
   "source": [
    "student_performance_pred_run, error_run, error_total_run = als_tensor_factorization(\n",
    "    student_performance, n_concepts=2, init=3, max_iter=100)"
   ]
  },
  {
   "cell_type": "code",
   "execution_count": 717,
   "metadata": {},
   "outputs": [],
   "source": [
    "error_run = np.asarray(error_run)"
   ]
  },
  {
   "cell_type": "code",
   "execution_count": 718,
   "metadata": {},
   "outputs": [],
   "source": [
    "best_run = np.unravel_index(error_run.argmin(), error_run.shape)\n",
    "best_student_performance_pred = student_performance_pred_run[best_run]"
   ]
  },
  {
   "cell_type": "code",
   "execution_count": 719,
   "metadata": {},
   "outputs": [],
   "source": [
    "best_student_performance_pred[best_student_performance_pred > 0.5] = 1\n",
    "best_student_performance_pred[best_student_performance_pred < 0.5] = 0"
   ]
  },
  {
   "cell_type": "code",
   "execution_count": 720,
   "metadata": {},
   "outputs": [
    {
     "name": "stdout",
     "output_type": "stream",
     "text": [
      "Accuracy: 86.00%\n"
     ]
    }
   ],
   "source": [
    "acc = 100*(np.logical_not(np.logical_xor(\n",
    "    student_performance, best_student_performance_pred)).sum())/(\n",
    "    student_performance.shape[0]*student_performance.shape[1]*student_performance.shape[2])\n",
    "print(\"Accuracy: %.2f%%\" % acc)"
   ]
  },
  {
   "cell_type": "code",
   "execution_count": 676,
   "metadata": {},
   "outputs": [
    {
     "data": {
      "image/png": "[encoded data removed]",
      "text/plain": [
       "<Figure size 432x288 with 1 Axes>"
      ]
     },
     "metadata": {
      "needs_background": "light"
     },
     "output_type": "display_data"
    },
    {
     "name": "stdout",
     "output_type": "stream",
     "text": [
      "CPU times: user 1min 16s, sys: 7.85 ms, total: 1min 16s\n",
      "Wall time: 1min 16s\n"
     ]
    }
   ],
   "source": [
    "%%time\n",
    "accs = []\n",
    "accs_std = []\n",
    "for noise in np.arange(0, 1, 0.05):\n",
    "    accs_run = []\n",
    "    for run in range(50):\n",
    "        # Generate sample and approximate values to 0 and 1\n",
    "        student_performance = generate_sample(noise)\n",
    "        student_performance[student_performance > 0.5] = 1\n",
    "        student_performance[student_performance < 0.5] = 0\n",
    "\n",
    "        # Run tensor factorization\n",
    "        student_performance_pred_run, error_run, error_total_run = als_tensor_factorization(\n",
    "            student_performance, n_concepts=2, init=3, max_iter=50)\n",
    "\n",
    "        # Get best run results\n",
    "        best_run = np.unravel_index(error_run.argmin(), error_run.shape)\n",
    "        best_student_performance_pred = student_performance_pred_run[best_run]\n",
    "        best_student_performance_pred[best_student_performance_pred > 0.5] = 1\n",
    "        best_student_performance_pred[best_student_performance_pred < 0.5] = 0\n",
    "\n",
    "        # Calculate accuracy\n",
    "        acc = 100*(np.logical_not(np.logical_xor(\n",
    "            student_performance, best_student_performance_pred)).sum())/(\n",
    "            student_performance.shape[0]*student_performance.shape[1]*student_performance.shape[2])\n",
    "        accs_run.append(acc)\n",
    "    accs.append(np.asarray(accs_run).mean())\n",
    "    accs_std.append(np.asarray(accs_run).std())\n",
    "    \n",
    "plt.errorbar(np.arange(0, 1, 0.05), accs, yerr=accs_std)\n",
    "plt.show()"
   ]
  },
  {
   "cell_type": "code",
   "execution_count": 485,
   "metadata": {},
   "outputs": [],
   "source": [
    "diff = np.zeros((N_QUESTIONS, N_STUDENTS, N_ATTEMPTS))\n",
    "for attempt in range(N_ATTEMPTS):\n",
    "    diff[:, :, attempt] = student_performance[:, :, attempt] - best_student_performance_pred[:, :, attempt]"
   ]
  },
  {
   "cell_type": "code",
   "execution_count": 486,
   "metadata": {},
   "outputs": [
    {
     "data": {
      "text/plain": [
       "4.898979485566356"
      ]
     },
     "execution_count": 486,
     "metadata": {},
     "output_type": "execute_result"
    }
   ],
   "source": [
    "np.sqrt(np.sum(np.power(diff, 2)))"
   ]
  }
 ],
 "metadata": {
  "kernelspec": {
   "display_name": "Python 3",
   "language": "python",
   "name": "python3"
  },
  "language_info": {
   "codemirror_mode": {
    "name": "ipython",
    "version": 3
   },
   "file_extension": ".py",
   "mimetype": "text/x-python",
   "name": "python",
   "nbconvert_exporter": "python",
   "pygments_lexer": "ipython3",
   "version": "3.6.10"
  }
 },
 "nbformat": 4,
 "nbformat_minor": 4
}
