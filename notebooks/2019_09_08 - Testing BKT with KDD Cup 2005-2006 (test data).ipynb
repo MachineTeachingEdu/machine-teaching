{
 "cells": [
  {
   "cell_type": "code",
   "execution_count": 1,
   "metadata": {},
   "outputs": [],
   "source": [
    "from spkit import bkt\n",
    "import pandas as pd\n",
    "import re\n",
    "import numpy as np\n",
    "from sklearn.metrics import roc_curve, auc\n",
    "import matplotlib.pyplot as plt\n",
    "import pickle"
   ]
  },
  {
   "cell_type": "markdown",
   "metadata": {},
   "source": [
    "### Reading created files"
   ]
  },
  {
   "cell_type": "code",
   "execution_count": 2,
   "metadata": {},
   "outputs": [],
   "source": [
    "folder = 'data/kdd/2005-2006'"
   ]
  },
  {
   "cell_type": "code",
   "execution_count": 46,
   "metadata": {},
   "outputs": [],
   "source": [
    "with open('%s/kdd_2005_2006_test_df.pkl' % folder, 'rb') as pklfile:\n",
    "    df = pickle.load(pklfile)\n",
    "with open('%s/kdd_2005_2006_test_data.pkl' % folder, 'rb') as pklfile:\n",
    "    data = pickle.load(pklfile)\n",
    "with open('%s/kdd_2005_2006_test_q_matrix.pkl' % folder, 'rb') as pklfile:\n",
    "    q_matrix = pickle.load(pklfile)\n",
    "with open('%s/kdd_2005_2006_test_students.pkl' % folder, 'rb') as pklfile:\n",
    "    students = pickle.load(pklfile)\n",
    "with open('%s/kdd_2005_2006_kcs.pkl' % folder, 'rb') as pklfile:\n",
    "    kcs = pickle.load(pklfile)\n",
    "# Load module\n",
    "with open('%s/kdd_2005_2006_bkt_model.pkl' % folder, 'rb') as pklfile:\n",
    "    model = pickle.load(pklfile)\n",
    "# Load learning states\n",
    "with open('%s/kdd_2005_2006_bkt_learning_state.pkl' % folder, 'rb') as pklfile:\n",
    "    learning_state = pickle.load(pklfile)"
   ]
  },
  {
   "cell_type": "code",
   "execution_count": 52,
   "metadata": {},
   "outputs": [
    {
     "data": {
      "text/plain": [
       "set()"
      ]
     },
     "execution_count": 52,
     "metadata": {},
     "output_type": "execute_result"
    }
   ],
   "source": [
    "set(students) - set(learning_state.keys())"
   ]
  },
  {
   "cell_type": "code",
   "execution_count": 33,
   "metadata": {},
   "outputs": [
    {
     "data": {
      "text/plain": [
       "551"
      ]
     },
     "execution_count": 33,
     "metadata": {},
     "output_type": "execute_result"
    }
   ],
   "source": [
    "len(students)"
   ]
  },
  {
   "cell_type": "markdown",
   "metadata": {},
   "source": [
    "### Calculate score"
   ]
  },
  {
   "cell_type": "code",
   "execution_count": 34,
   "metadata": {},
   "outputs": [
    {
     "name": "stdout",
     "output_type": "stream",
     "text": [
      "CPU times: user 812 ms, sys: 0 ns, total: 812 ms\n",
      "Wall time: 807 ms\n"
     ]
    }
   ],
   "source": [
    "%%time\n",
    "data_arr = np.asarray(data)\n",
    "rmse = 0\n",
    "n = 0\n",
    "score_df = []\n",
    "outcome_all = []\n",
    "predicted_proba = []\n",
    "old_students = []\n",
    "for student in students:\n",
    "    student_idx = np.where(data_arr[:,1] == student)\n",
    "    outcome = data_arr[student_idx, 0].astype('int64')\n",
    "    outcome_all += outcome.tolist()[0]\n",
    "    question_id = data_arr[student_idx, 2].astype('int64')\n",
    "    data_student = np.vstack((outcome, question_id)).T.astype('int64').tolist()\n",
    "    \n",
    "    # Already seen the student, get last learning state\n",
    "    if student in learning_state.keys():\n",
    "        predicted = model.predict_proba(data_student, q_matrix, learning_state[student])\n",
    "        old_students.append(student)\n",
    "    # New student, use default learning state\n",
    "    else:\n",
    "        predicted = model.predict_proba(data_student, q_matrix)\n",
    "    \n",
    "    # Predict student probability of getting incorrect and correct outcome\n",
    "    predicted_proba += predicted[:,1].tolist()\n",
    "    # Calculate model score for given student\n",
    "    ll_aic, s_aic, s_bic, s_rmse, s_acc = model.score()\n",
    "    fpr, tpr, _ = roc_curve(outcome.flatten(), predicted[:,1], pos_label=1)\n",
    "    auc_score = auc(fpr, tpr)\n",
    "    \n",
    "    # Save score data\n",
    "    score_df.append({\"student\": student,\n",
    "                     \"AIC\": s_aic,\n",
    "                     \"BIC\": s_bic,\n",
    "                     \"RMSE\": s_rmse,\n",
    "                     \"Acc\": s_acc,\n",
    "                     \"n questions\": model.n_questions,\n",
    "                     \"LL\": ll_aic,\n",
    "                     \"correct_outcome\": np.where(outcome == 1)[1].shape[0],\n",
    "                     \"incorrect_outcome\": np.where(outcome == 0)[1].shape[0],\n",
    "                     \"AUC\": auc_score})\n",
    "    learning_state[student] = model.learning_state"
   ]
  },
  {
   "cell_type": "code",
   "execution_count": 35,
   "metadata": {},
   "outputs": [],
   "source": [
    "score = pd.DataFrame.from_dict(score_df)"
   ]
  },
  {
   "cell_type": "code",
   "execution_count": 36,
   "metadata": {},
   "outputs": [],
   "source": [
    "rmse_train = np.sqrt((score['RMSE']**2*score['n questions']).sum()/score['n questions'].sum())\n",
    "rmse_avg = score['RMSE'].mean()\n",
    "rmse_std = score['RMSE'].std()"
   ]
  },
  {
   "cell_type": "code",
   "execution_count": 37,
   "metadata": {},
   "outputs": [
    {
     "name": "stdout",
     "output_type": "stream",
     "text": [
      "RMSE de treino: 0.39\n",
      "RMSE médio: 0.37 +- 0.16\n"
     ]
    }
   ],
   "source": [
    "print(\"RMSE de treino: %.2f\" % rmse_train)\n",
    "print(\"RMSE médio: %.2f +- %.2f\" % (rmse_avg, rmse_std))"
   ]
  },
  {
   "cell_type": "code",
   "execution_count": 38,
   "metadata": {},
   "outputs": [],
   "source": [
    "acc_train = (score['Acc']*score['n questions']).sum()/score['n questions'].sum()\n",
    "acc_avg = score['Acc'].mean()\n",
    "acc_std = score['Acc'].std()"
   ]
  },
  {
   "cell_type": "code",
   "execution_count": 39,
   "metadata": {},
   "outputs": [
    {
     "name": "stdout",
     "output_type": "stream",
     "text": [
      "Acc de treino: 0.78\n",
      "Acc médio: 0.75 +- 0.28\n"
     ]
    }
   ],
   "source": [
    "print(\"Acc de treino: %.2f\" % acc_train)\n",
    "print(\"Acc médio: %.2f +- %.2f\" % (acc_avg, acc_std))"
   ]
  },
  {
   "cell_type": "code",
   "execution_count": 40,
   "metadata": {},
   "outputs": [
    {
     "name": "stdout",
     "output_type": "stream",
     "text": [
      "Youden's optimum threshold: 0.75\n"
     ]
    }
   ],
   "source": [
    "fpr, tpr, thresholds = roc_curve(outcome_all, predicted_proba, pos_label=1)\n",
    "auc_score = auc(fpr, tpr)\n",
    "auc_avg = score['AUC'].mean()\n",
    "auc_std = score['AUC'].std()\n",
    "\n",
    "# Sensitivity = tpr = TP/(TP+FN)\n",
    "# Specificity = 1-fpr = TN/(TN+FP)\n",
    "# Youden's index = Sensitivity + Specificity - 1 = tpr + (1-fpr) - 1 = tpr - fpr\n",
    "J_stats = tpr - fpr\n",
    "J_opt_thresholds = thresholds[np.argmax(J_stats)]\n",
    "print('Youden\\'s optimum threshold: %.2f' % J_opt_thresholds)"
   ]
  },
  {
   "cell_type": "code",
   "execution_count": 41,
   "metadata": {},
   "outputs": [
    {
     "name": "stdout",
     "output_type": "stream",
     "text": [
      "AUC de treino: 0.71\n",
      "AUC médio: 0.70 +- 0.32\n"
     ]
    }
   ],
   "source": [
    "print(\"AUC de treino: %.2f\" % auc_score)\n",
    "print(\"AUC médio: %.2f +- %.2f\" % (auc_avg, auc_std))"
   ]
  },
  {
   "cell_type": "markdown",
   "metadata": {},
   "source": [
    "Recalculating accuracy after adjusting cutoff point with Youden's Index"
   ]
  },
  {
   "cell_type": "code",
   "execution_count": 42,
   "metadata": {},
   "outputs": [
    {
     "data": {
      "text/plain": [
       "0.7176709546377793"
      ]
     },
     "execution_count": 42,
     "metadata": {},
     "output_type": "execute_result"
    }
   ],
   "source": [
    "estimated_outcome = np.where(np.asarray(predicted_proba) > J_opt_thresholds, 1, 0)\n",
    "acc = (estimated_outcome == np.asarray(outcome_all)).sum()/score['n questions'].sum()\n",
    "acc"
   ]
  },
  {
   "cell_type": "code",
   "execution_count": 13,
   "metadata": {},
   "outputs": [],
   "source": [
    "# Save threshold\n",
    "with open('%s/kdd_2005_2006_bkt_test_threshold.pkl' % folder, 'wb') as pklfile:\n",
    "    pickle.dump(J_opt_thresholds, pklfile)"
   ]
  },
  {
   "cell_type": "code",
   "execution_count": 43,
   "metadata": {},
   "outputs": [
    {
     "data": {
      "image/png": "[encoded data removed]",
      "text/plain": [
       "<Figure size 432x288 with 1 Axes>"
      ]
     },
     "metadata": {
      "needs_background": "light"
     },
     "output_type": "display_data"
    }
   ],
   "source": [
    "plt.figure()\n",
    "lw = 2\n",
    "plt.plot(fpr, tpr, color='darkorange',\n",
    "         lw=lw, label='ROC curve (area = %0.2f)' % auc_score)\n",
    "plt.plot([0, 1], [0, 1], color='navy', lw=lw, linestyle='--')\n",
    "plt.xlim([0.0, 1.0])\n",
    "plt.ylim([0.0, 1.05])\n",
    "plt.xlabel('False Positive Rate')\n",
    "plt.ylabel('True Positive Rate')\n",
    "plt.title('Receiver operating characteristic example')\n",
    "plt.legend(loc=\"lower right\")\n",
    "plt.show()"
   ]
  },
  {
   "cell_type": "markdown",
   "metadata": {},
   "source": [
    "### Comparing accuracy to random baseline"
   ]
  },
  {
   "cell_type": "code",
   "execution_count": 44,
   "metadata": {},
   "outputs": [
    {
     "data": {
      "text/plain": [
       "0.6509817197020988"
      ]
     },
     "execution_count": 44,
     "metadata": {},
     "output_type": "execute_result"
    }
   ],
   "source": [
    "n_questions = score['n questions'].sum()\n",
    "p = score['correct_outcome'].sum()/n_questions\n",
    "# Save p\n",
    "with open('%s/kdd_2005_2005_p.pkl' % folder, 'wb') as pklfile:\n",
    "    pickle.dump(p, pklfile)\n",
    "\n",
    "estimated_outcome = np.random.binomial(1, p, n_questions)\n",
    "acc = (estimated_outcome == np.asarray(outcome_all)).sum()/score['n questions'].sum()\n",
    "acc"
   ]
  },
  {
   "cell_type": "code",
   "execution_count": 45,
   "metadata": {},
   "outputs": [
    {
     "data": {
      "text/plain": [
       "551"
      ]
     },
     "execution_count": 45,
     "metadata": {},
     "output_type": "execute_result"
    }
   ],
   "source": [
    "len(old_students)"
   ]
  },
  {
   "cell_type": "code",
   "execution_count": 33,
   "metadata": {},
   "outputs": [
    {
     "data": {
      "text/html": [
       "<div>\n",
       "<style scoped>\n",
       "    .dataframe tbody tr th:only-of-type {\n",
       "        vertical-align: middle;\n",
       "    }\n",
       "\n",
       "    .dataframe tbody tr th {\n",
       "        vertical-align: top;\n",
       "    }\n",
       "\n",
       "    .dataframe thead th {\n",
       "        text-align: right;\n",
       "    }\n",
       "</style>\n",
       "<table border=\"1\" class=\"dataframe\">\n",
       "  <thead>\n",
       "    <tr style=\"text-align: right;\">\n",
       "      <th></th>\n",
       "      <th>student</th>\n",
       "      <th>AIC</th>\n",
       "      <th>BIC</th>\n",
       "      <th>RMSE</th>\n",
       "      <th>Acc</th>\n",
       "      <th>n questions</th>\n",
       "      <th>LL</th>\n",
       "      <th>correct_outcome</th>\n",
       "      <th>incorrect_outcome</th>\n",
       "      <th>AUC</th>\n",
       "    </tr>\n",
       "  </thead>\n",
       "  <tbody>\n",
       "    <tr>\n",
       "      <td>151</td>\n",
       "      <td>s19Mo891H5</td>\n",
       "      <td>887.215425</td>\n",
       "      <td>1100.574351</td>\n",
       "      <td>0.296885</td>\n",
       "      <td>0.833333</td>\n",
       "      <td>12</td>\n",
       "      <td>-3.607713</td>\n",
       "      <td>10</td>\n",
       "      <td>2</td>\n",
       "      <td>1.0</td>\n",
       "    </tr>\n",
       "    <tr>\n",
       "      <td>461</td>\n",
       "      <td>2kb387yOiG</td>\n",
       "      <td>882.661769</td>\n",
       "      <td>710.814450</td>\n",
       "      <td>0.251301</td>\n",
       "      <td>1.000000</td>\n",
       "      <td>5</td>\n",
       "      <td>-1.330884</td>\n",
       "      <td>4</td>\n",
       "      <td>1</td>\n",
       "      <td>1.0</td>\n",
       "    </tr>\n",
       "    <tr>\n",
       "      <td>202</td>\n",
       "      <td>qN6WN7C097</td>\n",
       "      <td>883.574054</td>\n",
       "      <td>486.963461</td>\n",
       "      <td>0.454984</td>\n",
       "      <td>0.666667</td>\n",
       "      <td>3</td>\n",
       "      <td>-1.787027</td>\n",
       "      <td>1</td>\n",
       "      <td>2</td>\n",
       "      <td>1.0</td>\n",
       "    </tr>\n",
       "    <tr>\n",
       "      <td>477</td>\n",
       "      <td>Y5XkapASsg</td>\n",
       "      <td>882.344485</td>\n",
       "      <td>307.329245</td>\n",
       "      <td>0.463593</td>\n",
       "      <td>0.500000</td>\n",
       "      <td>2</td>\n",
       "      <td>-1.172243</td>\n",
       "      <td>1</td>\n",
       "      <td>1</td>\n",
       "      <td>1.0</td>\n",
       "    </tr>\n",
       "    <tr>\n",
       "      <td>219</td>\n",
       "      <td>12ss7J5ug6</td>\n",
       "      <td>881.261546</td>\n",
       "      <td>306.246306</td>\n",
       "      <td>0.275377</td>\n",
       "      <td>1.000000</td>\n",
       "      <td>2</td>\n",
       "      <td>-0.630773</td>\n",
       "      <td>1</td>\n",
       "      <td>1</td>\n",
       "      <td>1.0</td>\n",
       "    </tr>\n",
       "    <tr>\n",
       "      <td>...</td>\n",
       "      <td>...</td>\n",
       "      <td>...</td>\n",
       "      <td>...</td>\n",
       "      <td>...</td>\n",
       "      <td>...</td>\n",
       "      <td>...</td>\n",
       "      <td>...</td>\n",
       "      <td>...</td>\n",
       "      <td>...</td>\n",
       "      <td>...</td>\n",
       "    </tr>\n",
       "    <tr>\n",
       "      <td>545</td>\n",
       "      <td>nA15DeLBE1</td>\n",
       "      <td>881.595226</td>\n",
       "      <td>306.579986</td>\n",
       "      <td>0.343119</td>\n",
       "      <td>1.000000</td>\n",
       "      <td>2</td>\n",
       "      <td>-0.797613</td>\n",
       "      <td>2</td>\n",
       "      <td>0</td>\n",
       "      <td>NaN</td>\n",
       "    </tr>\n",
       "    <tr>\n",
       "      <td>547</td>\n",
       "      <td>w0FMzJORlK</td>\n",
       "      <td>880.713350</td>\n",
       "      <td>0.713350</td>\n",
       "      <td>0.300000</td>\n",
       "      <td>1.000000</td>\n",
       "      <td>1</td>\n",
       "      <td>-0.356675</td>\n",
       "      <td>1</td>\n",
       "      <td>0</td>\n",
       "      <td>NaN</td>\n",
       "    </tr>\n",
       "    <tr>\n",
       "      <td>548</td>\n",
       "      <td>1iPV6aca5w</td>\n",
       "      <td>880.846308</td>\n",
       "      <td>0.846308</td>\n",
       "      <td>0.345022</td>\n",
       "      <td>1.000000</td>\n",
       "      <td>1</td>\n",
       "      <td>-0.423154</td>\n",
       "      <td>1</td>\n",
       "      <td>0</td>\n",
       "      <td>NaN</td>\n",
       "    </tr>\n",
       "    <tr>\n",
       "      <td>549</td>\n",
       "      <td>66l1WHbu0M</td>\n",
       "      <td>880.775907</td>\n",
       "      <td>0.775907</td>\n",
       "      <td>0.321556</td>\n",
       "      <td>1.000000</td>\n",
       "      <td>1</td>\n",
       "      <td>-0.387953</td>\n",
       "      <td>0</td>\n",
       "      <td>1</td>\n",
       "      <td>NaN</td>\n",
       "    </tr>\n",
       "    <tr>\n",
       "      <td>550</td>\n",
       "      <td>IQQo3367x0</td>\n",
       "      <td>880.494993</td>\n",
       "      <td>0.494993</td>\n",
       "      <td>0.219247</td>\n",
       "      <td>1.000000</td>\n",
       "      <td>1</td>\n",
       "      <td>-0.247497</td>\n",
       "      <td>1</td>\n",
       "      <td>0</td>\n",
       "      <td>NaN</td>\n",
       "    </tr>\n",
       "  </tbody>\n",
       "</table>\n",
       "<p>551 rows × 10 columns</p>\n",
       "</div>"
      ],
      "text/plain": [
       "        student         AIC          BIC      RMSE       Acc  n questions  \\\n",
       "151  s19Mo891H5  887.215425  1100.574351  0.296885  0.833333           12   \n",
       "461  2kb387yOiG  882.661769   710.814450  0.251301  1.000000            5   \n",
       "202  qN6WN7C097  883.574054   486.963461  0.454984  0.666667            3   \n",
       "477  Y5XkapASsg  882.344485   307.329245  0.463593  0.500000            2   \n",
       "219  12ss7J5ug6  881.261546   306.246306  0.275377  1.000000            2   \n",
       "..          ...         ...          ...       ...       ...          ...   \n",
       "545  nA15DeLBE1  881.595226   306.579986  0.343119  1.000000            2   \n",
       "547  w0FMzJORlK  880.713350     0.713350  0.300000  1.000000            1   \n",
       "548  1iPV6aca5w  880.846308     0.846308  0.345022  1.000000            1   \n",
       "549  66l1WHbu0M  880.775907     0.775907  0.321556  1.000000            1   \n",
       "550  IQQo3367x0  880.494993     0.494993  0.219247  1.000000            1   \n",
       "\n",
       "           LL  correct_outcome  incorrect_outcome  AUC  \n",
       "151 -3.607713               10                  2  1.0  \n",
       "461 -1.330884                4                  1  1.0  \n",
       "202 -1.787027                1                  2  1.0  \n",
       "477 -1.172243                1                  1  1.0  \n",
       "219 -0.630773                1                  1  1.0  \n",
       "..        ...              ...                ...  ...  \n",
       "545 -0.797613                2                  0  NaN  \n",
       "547 -0.356675                1                  0  NaN  \n",
       "548 -0.423154                1                  0  NaN  \n",
       "549 -0.387953                0                  1  NaN  \n",
       "550 -0.247497                1                  0  NaN  \n",
       "\n",
       "[551 rows x 10 columns]"
      ]
     },
     "execution_count": 33,
     "metadata": {},
     "output_type": "execute_result"
    }
   ],
   "source": [
    "score.sort_values([\"AUC\"], ascending=False)"
   ]
  },
  {
   "cell_type": "code",
   "execution_count": 34,
   "metadata": {},
   "outputs": [
    {
     "data": {
      "text/html": [
       "<div>\n",
       "<style scoped>\n",
       "    .dataframe tbody tr th:only-of-type {\n",
       "        vertical-align: middle;\n",
       "    }\n",
       "\n",
       "    .dataframe tbody tr th {\n",
       "        vertical-align: top;\n",
       "    }\n",
       "\n",
       "    .dataframe thead th {\n",
       "        text-align: right;\n",
       "    }\n",
       "</style>\n",
       "<table border=\"1\" class=\"dataframe\">\n",
       "  <thead>\n",
       "    <tr style=\"text-align: right;\">\n",
       "      <th></th>\n",
       "      <th>student</th>\n",
       "      <th>AIC</th>\n",
       "      <th>BIC</th>\n",
       "      <th>RMSE</th>\n",
       "      <th>Acc</th>\n",
       "      <th>n questions</th>\n",
       "      <th>LL</th>\n",
       "      <th>correct_outcome</th>\n",
       "      <th>incorrect_outcome</th>\n",
       "      <th>AUC</th>\n",
       "    </tr>\n",
       "  </thead>\n",
       "  <tbody>\n",
       "    <tr>\n",
       "      <td>275</td>\n",
       "      <td>LQDsuDw2tX</td>\n",
       "      <td>881.920806</td>\n",
       "      <td>485.310213</td>\n",
       "      <td>0.278994</td>\n",
       "      <td>1.0</td>\n",
       "      <td>3</td>\n",
       "      <td>-0.960403</td>\n",
       "      <td>1</td>\n",
       "      <td>2</td>\n",
       "      <td>1.0</td>\n",
       "    </tr>\n",
       "    <tr>\n",
       "      <td>291</td>\n",
       "      <td>b4NIYojEYn</td>\n",
       "      <td>883.798329</td>\n",
       "      <td>792.172495</td>\n",
       "      <td>0.281548</td>\n",
       "      <td>1.0</td>\n",
       "      <td>6</td>\n",
       "      <td>-1.899164</td>\n",
       "      <td>5</td>\n",
       "      <td>1</td>\n",
       "      <td>1.0</td>\n",
       "    </tr>\n",
       "    <tr>\n",
       "      <td>327</td>\n",
       "      <td>oqL48822V2</td>\n",
       "      <td>881.639218</td>\n",
       "      <td>306.623978</td>\n",
       "      <td>0.344642</td>\n",
       "      <td>1.0</td>\n",
       "      <td>2</td>\n",
       "      <td>-0.819609</td>\n",
       "      <td>2</td>\n",
       "      <td>0</td>\n",
       "      <td>NaN</td>\n",
       "    </tr>\n",
       "    <tr>\n",
       "      <td>326</td>\n",
       "      <td>N4Ab8Bvj98</td>\n",
       "      <td>880.000000</td>\n",
       "      <td>0.000000</td>\n",
       "      <td>0.000000</td>\n",
       "      <td>1.0</td>\n",
       "      <td>1</td>\n",
       "      <td>0.000000</td>\n",
       "      <td>1</td>\n",
       "      <td>0</td>\n",
       "      <td>NaN</td>\n",
       "    </tr>\n",
       "    <tr>\n",
       "      <td>324</td>\n",
       "      <td>c6LS9kDJe1</td>\n",
       "      <td>881.070175</td>\n",
       "      <td>1.070175</td>\n",
       "      <td>0.414382</td>\n",
       "      <td>1.0</td>\n",
       "      <td>1</td>\n",
       "      <td>-0.535087</td>\n",
       "      <td>1</td>\n",
       "      <td>0</td>\n",
       "      <td>NaN</td>\n",
       "    </tr>\n",
       "    <tr>\n",
       "      <td>...</td>\n",
       "      <td>...</td>\n",
       "      <td>...</td>\n",
       "      <td>...</td>\n",
       "      <td>...</td>\n",
       "      <td>...</td>\n",
       "      <td>...</td>\n",
       "      <td>...</td>\n",
       "      <td>...</td>\n",
       "      <td>...</td>\n",
       "      <td>...</td>\n",
       "    </tr>\n",
       "    <tr>\n",
       "      <td>58</td>\n",
       "      <td>jbw83hRJZQ</td>\n",
       "      <td>883.192517</td>\n",
       "      <td>3.192517</td>\n",
       "      <td>0.797347</td>\n",
       "      <td>0.0</td>\n",
       "      <td>1</td>\n",
       "      <td>-1.596259</td>\n",
       "      <td>0</td>\n",
       "      <td>1</td>\n",
       "      <td>NaN</td>\n",
       "    </tr>\n",
       "    <tr>\n",
       "      <td>357</td>\n",
       "      <td>h31E235Th5</td>\n",
       "      <td>885.972086</td>\n",
       "      <td>489.361493</td>\n",
       "      <td>0.628372</td>\n",
       "      <td>0.0</td>\n",
       "      <td>3</td>\n",
       "      <td>-2.986043</td>\n",
       "      <td>2</td>\n",
       "      <td>1</td>\n",
       "      <td>0.0</td>\n",
       "    </tr>\n",
       "    <tr>\n",
       "      <td>311</td>\n",
       "      <td>dVqVsN8nD8</td>\n",
       "      <td>885.237698</td>\n",
       "      <td>310.222458</td>\n",
       "      <td>0.726579</td>\n",
       "      <td>0.0</td>\n",
       "      <td>2</td>\n",
       "      <td>-2.618849</td>\n",
       "      <td>1</td>\n",
       "      <td>1</td>\n",
       "      <td>0.0</td>\n",
       "    </tr>\n",
       "    <tr>\n",
       "      <td>1</td>\n",
       "      <td>19UbXBlPPK</td>\n",
       "      <td>881.518107</td>\n",
       "      <td>1.518107</td>\n",
       "      <td>0.531891</td>\n",
       "      <td>0.0</td>\n",
       "      <td>1</td>\n",
       "      <td>-0.759053</td>\n",
       "      <td>1</td>\n",
       "      <td>0</td>\n",
       "      <td>NaN</td>\n",
       "    </tr>\n",
       "    <tr>\n",
       "      <td>475</td>\n",
       "      <td>wz0V4oY4Z2</td>\n",
       "      <td>883.265328</td>\n",
       "      <td>3.265328</td>\n",
       "      <td>0.804592</td>\n",
       "      <td>0.0</td>\n",
       "      <td>1</td>\n",
       "      <td>-1.632664</td>\n",
       "      <td>0</td>\n",
       "      <td>1</td>\n",
       "      <td>NaN</td>\n",
       "    </tr>\n",
       "  </tbody>\n",
       "</table>\n",
       "<p>551 rows × 10 columns</p>\n",
       "</div>"
      ],
      "text/plain": [
       "        student         AIC         BIC      RMSE  Acc  n questions        LL  \\\n",
       "275  LQDsuDw2tX  881.920806  485.310213  0.278994  1.0            3 -0.960403   \n",
       "291  b4NIYojEYn  883.798329  792.172495  0.281548  1.0            6 -1.899164   \n",
       "327  oqL48822V2  881.639218  306.623978  0.344642  1.0            2 -0.819609   \n",
       "326  N4Ab8Bvj98  880.000000    0.000000  0.000000  1.0            1  0.000000   \n",
       "324  c6LS9kDJe1  881.070175    1.070175  0.414382  1.0            1 -0.535087   \n",
       "..          ...         ...         ...       ...  ...          ...       ...   \n",
       "58   jbw83hRJZQ  883.192517    3.192517  0.797347  0.0            1 -1.596259   \n",
       "357  h31E235Th5  885.972086  489.361493  0.628372  0.0            3 -2.986043   \n",
       "311  dVqVsN8nD8  885.237698  310.222458  0.726579  0.0            2 -2.618849   \n",
       "1    19UbXBlPPK  881.518107    1.518107  0.531891  0.0            1 -0.759053   \n",
       "475  wz0V4oY4Z2  883.265328    3.265328  0.804592  0.0            1 -1.632664   \n",
       "\n",
       "     correct_outcome  incorrect_outcome  AUC  \n",
       "275                1                  2  1.0  \n",
       "291                5                  1  1.0  \n",
       "327                2                  0  NaN  \n",
       "326                1                  0  NaN  \n",
       "324                1                  0  NaN  \n",
       "..               ...                ...  ...  \n",
       "58                 0                  1  NaN  \n",
       "357                2                  1  0.0  \n",
       "311                1                  1  0.0  \n",
       "1                  1                  0  NaN  \n",
       "475                0                  1  NaN  \n",
       "\n",
       "[551 rows x 10 columns]"
      ]
     },
     "execution_count": 34,
     "metadata": {},
     "output_type": "execute_result"
    }
   ],
   "source": [
    "score.sort_values([\"Acc\"], ascending=False)"
   ]
  },
  {
   "cell_type": "markdown",
   "metadata": {},
   "source": [
    "### Save to file"
   ]
  },
  {
   "cell_type": "code",
   "execution_count": 18,
   "metadata": {},
   "outputs": [
    {
     "data": {
      "text/plain": [
       "3968"
      ]
     },
     "execution_count": 18,
     "metadata": {},
     "output_type": "execute_result"
    }
   ],
   "source": [
    "with open('%s/algebra_2005_2006.txt' % folder, 'r') as test_file:\n",
    "    rows = test_file.read().split('\\n')\n",
    "rows = rows[:-1]\n",
    "len(rows)"
   ]
  },
  {
   "cell_type": "code",
   "execution_count": 19,
   "metadata": {},
   "outputs": [],
   "source": [
    "for idx, row in enumerate(rows):\n",
    "    if idx == 0:\n",
    "        outcome_prob = \"%s\\n\" % row\n",
    "    else:\n",
    "        try:\n",
    "            idx_df = df[df[\"Row\"] == int(row)].index.values.astype(int)[0]\n",
    "            outcome_prob += \"%s%s\\n\" % (row, predicted_proba[idx_df])\n",
    "        except (IndexError):\n",
    "#             print(row)\n",
    "#             random_outcome = np.random.normal(loc=p)\n",
    "#             if random_outcome > 1:\n",
    "#                 random_outcome = 1\n",
    "#             elif random_outcome < 0:\n",
    "#                 random_outcome = 0\n",
    "            outcome_prob += \"%s1.0\\n\" % (row)\n",
    "\n",
    "# predicted_proba_str = [\"%s%s\" % (rows[idx+1], str(item)) for idx,item in enumerate(predicted_proba)]\n",
    "# outcome_prob = \"Row\\tCorrect First Attempt\\n\"\n",
    "# outcome_prob += \"\\n\".join(predicted_proba_str)\n",
    "with open('%s/algebra_2005_2006_test_probabilities.txt' % folder, 'w') as results_file:\n",
    "    results_file.write(outcome_prob)"
   ]
  }
 ],
 "metadata": {
  "kernelspec": {
   "display_name": "Python 3",
   "language": "python",
   "name": "python3"
  },
  "language_info": {
   "codemirror_mode": {
    "name": "ipython",
    "version": 3
   },
   "file_extension": ".py",
   "mimetype": "text/x-python",
   "name": "python",
   "nbconvert_exporter": "python",
   "pygments_lexer": "ipython3",
   "version": "3.7.6"
  }
 },
 "nbformat": 4,
 "nbformat_minor": 2
}
