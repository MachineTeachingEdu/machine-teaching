{
 "cells": [
  {
   "cell_type": "code",
   "execution_count": 3,
   "metadata": {
    "collapsed": true
   },
   "outputs": [],
   "source": [
    "import numpy as np\n",
    "import pickle\n",
    "from questions.models import Solution, Cluster\n",
    "from questions.sampling import get_next_sample\n",
    "import matplotlib.pyplot as plt\n",
    "import networkx as nx\n",
    "from IPython.display import Image"
   ]
  },
  {
   "cell_type": "code",
   "execution_count": 4,
   "metadata": {},
   "outputs": [
    {
     "name": "stdout",
     "output_type": "stream",
     "text": [
      "<QuerySet [<Cluster: 0 - Math/String>, <Cluster: 1 - Conditional>, <Cluster: 2 - Loop>]>\n"
     ]
    }
   ],
   "source": [
    "all_clusters = Cluster.objects.all()\n",
    "print(all_clusters)"
   ]
  },
  {
   "cell_type": "code",
   "execution_count": 5,
   "metadata": {},
   "outputs": [
    {
     "data": {
      "text/plain": [
       "<QuerySet [{'cluster': 1, 'count': 10}, {'cluster': 2, 'count': 31}, {'cluster': 0, 'count': 13}]>"
      ]
     },
     "execution_count": 5,
     "metadata": {},
     "output_type": "execute_result"
    }
   ],
   "source": [
    "all_solutions = Solution.objects.filter(ignore=False)\n",
    "clusters = all_solutions.values('cluster').annotate(count=Count('cluster'))\n",
    "clusters"
   ]
  },
  {
   "cell_type": "markdown",
   "metadata": {},
   "source": [
    "### Calculate next problems"
   ]
  },
  {
   "cell_type": "markdown",
   "metadata": {},
   "source": [
    "Initial conditions"
   ]
  },
  {
   "cell_type": "code",
   "execution_count": 6,
   "metadata": {
    "collapsed": true
   },
   "outputs": [],
   "source": [
    "def clear_belief_state():\n",
    "    # Create X as an empty belief state (X is the machine's model of the student's distribution)\n",
    "    X = np.zeros(settings.DOC_TOPIC_SHAPE)\n",
    "\n",
    "    # Get Solution ids in a list, to serve as an index reference to X\n",
    "    all_solutions = Solution.objects.filter(ignore=False)\n",
    "    all_solutions_idx = list(all_solutions.values_list('id', flat=True).order_by('id'))\n",
    "\n",
    "    # Create Y as a document_topic matrix. For the first version, each document belongs to one topic\n",
    "    Y = np.zeros(settings.DOC_TOPIC_SHAPE)\n",
    "    clusters = all_solutions.values_list('cluster', flat=True).order_by('id')\n",
    "    for idx, cluster_value in enumerate(clusters):\n",
    "        Y[idx, cluster_value] = 1\n",
    "\n",
    "    # Unpickle similarity matrix (W)\n",
    "    with open('similarity.pkl', 'rb') as pklfile:\n",
    "        W = pickle.load(pklfile)\n",
    "\n",
    "    # Set L as an unlabelled set\n",
    "    L = []\n",
    "    \n",
    "    return X, Y, W, L, all_solutions_idx"
   ]
  },
  {
   "cell_type": "code",
   "execution_count": 7,
   "metadata": {
    "collapsed": true
   },
   "outputs": [],
   "source": [
    "def update_belief_state(X, Y, W, L, all_solutions_idx, success_rate, clusters):\n",
    "    # Get next sample\n",
    "    solution_idx = get_next_sample(X, Y, W, L)\n",
    "    solution_cluster = Solution.objects.get(pk=all_solutions_idx[solution_idx]).cluster.pk\n",
    "\n",
    "    # Draw if user gets it correctly or not\n",
    "    success = np.random.binomial(1, success_rate)\n",
    "    print(solution_cluster)\n",
    "#     print(success)\n",
    "\n",
    "    if solution_cluster in clusters and success:\n",
    "        # Got it correcly\n",
    "        X[solution_idx, solution_cluster] = 1\n",
    "\n",
    "    # Add it as labeled sample\n",
    "    L.append(solution_idx)\n",
    "    return X, Y, L, solution_cluster"
   ]
  },
  {
   "cell_type": "code",
   "execution_count": 13,
   "metadata": {},
   "outputs": [
    {
     "name": "stdout",
     "output_type": "stream",
     "text": [
      "2\n",
      "2\n",
      "2\n",
      "2\n",
      "2\n",
      "2\n",
      "0\n",
      "0\n",
      "2\n",
      "2\n",
      "0\n",
      "1\n",
      "2\n",
      "1\n",
      "0\n",
      "2\n",
      "0\n",
      "1\n",
      "2\n",
      "0\n",
      "1\n",
      "0\n",
      "2\n",
      "1\n",
      "0\n",
      "0\n",
      "1\n",
      "2\n",
      "0\n",
      "1\n"
     ]
    }
   ],
   "source": [
    "# Student A: gets only conditional questions (1) with X% of correctness\n",
    "success_rate = 1\n",
    "correct_clusters = [2]\n",
    "X, Y, W, L, all_solutions_idx = clear_belief_state()\n",
    "states_transition = []\n",
    "\n",
    "for i in range(30):\n",
    "    X, Y, L, solution_cluster = update_belief_state(X, Y, W, L, all_solutions_idx, success_rate, correct_clusters)\n",
    "    states_transition.append(solution_cluster)"
   ]
  },
  {
   "cell_type": "code",
   "execution_count": 14,
   "metadata": {
    "collapsed": true
   },
   "outputs": [],
   "source": [
    "states = list(all_clusters.values_list('pk', flat=True))\n",
    "\n",
    "# Create transition matrix\n",
    "Q = np.zeros((len(states), len(states)))\n",
    "i = 0\n",
    "while i < len(states_transition)-1:\n",
    "    Q[states_transition[i], states_transition[i+1]] +=1\n",
    "    i+=1\n",
    "    \n",
    "G = nx.MultiDiGraph()\n",
    "labels={}\n",
    "edge_labels={}\n",
    "\n",
    "for i, origin_state in enumerate(states):\n",
    "    for j, destination_state in enumerate(states):\n",
    "        rate = Q[i][j]\n",
    "        if rate > 0:\n",
    "            G.add_edge(origin_state,\n",
    "                       destination_state,\n",
    "                       weight=rate,\n",
    "                       label=\"%d\" % rate)\n",
    "            edge_labels[(origin_state, destination_state)] = label=\"%d\" %rate\n",
    "            \n",
    "plt.figure(figsize=(14,7))\n",
    "node_size = 200\n",
    "# pos = {state:list(state) for state in states}\n",
    "pos = nx.circular_layout(G)\n",
    "# nx.draw_networkx_edges(G,pos,width=1.0,alpha=0.5)\n",
    "nx.draw_networkx_edges(G,pos)\n",
    "nx.draw_networkx_labels(G, pos, font_weight=2)\n",
    "nx.draw_networkx_edge_labels(G, pos, edge_labels)\n",
    "# nx.draw(G, pos=pos, with_labels=True)\n",
    "plt.axis('off');\n",
    "\n",
    "nx.nx_pydot.write_dot(G, 'mc.dot')"
   ]
  },
  {
   "cell_type": "code",
   "execution_count": 15,
   "metadata": {
    "collapsed": true
   },
   "outputs": [],
   "source": [
    "!neato -Tps -Kcirco -Goverlap=scale mc.dot -o mc.ps; convert mc.ps mc.png"
   ]
  },
  {
   "cell_type": "code",
   "execution_count": 11,
   "metadata": {},
   "outputs": [
    {
     "data": {
      "image/png": "[encoded data removed]",
      "text/plain": [
       "<IPython.core.display.Image object>"
      ]
     },
     "execution_count": 11,
     "metadata": {
      "image/png": {
       "width": "50%"
      }
     },
     "output_type": "execute_result"
    }
   ],
   "source": [
    "Image(\"mc.png\", width=\"50%\")"
   ]
  },
  {
   "cell_type": "code",
   "execution_count": 16,
   "metadata": {},
   "outputs": [
    {
     "data": {
      "image/png": "[encoded data removed]",
      "text/plain": [
       "<IPython.core.display.Image object>"
      ]
     },
     "execution_count": 16,
     "metadata": {
      "image/png": {
       "width": "50%"
      }
     },
     "output_type": "execute_result"
    }
   ],
   "source": [
    "Image(\"mc.png\", width=\"50%\")"
   ]
  }
 ],
 "metadata": {
  "kernelspec": {
   "display_name": "Django Shell-Plus",
   "language": "python",
   "name": "django_extensions"
  },
  "language_info": {
   "codemirror_mode": {
    "name": "ipython",
    "version": 3
   },
   "file_extension": ".py",
   "mimetype": "text/x-python",
   "name": "python",
   "nbconvert_exporter": "python",
   "pygments_lexer": "ipython3",
   "version": "3.6.2"
  }
 },
 "nbformat": 4,
 "nbformat_minor": 2
}
