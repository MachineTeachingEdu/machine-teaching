{
 "cells": [
  {
   "cell_type": "code",
   "execution_count": 1,
   "metadata": {},
   "outputs": [],
   "source": [
    "# Preprocessing\n",
    "from sklearn.feature_extraction.text import CountVectorizer\n",
    "from tokenizer import create_bag_of_words\n",
    "\n",
    "#DB\n",
    "import psycopg2\n",
    "from clustering import Clustering\n",
    "\n",
    "# Helpers\n",
    "import pickle\n",
    "import base64\n",
    "from collections import Counter\n",
    "import numpy as np"
   ]
  },
  {
   "cell_type": "code",
   "execution_count": 2,
   "metadata": {},
   "outputs": [
    {
     "name": "stdout",
     "output_type": "stream",
     "text": [
      "CPU times: user 1.38 ms, sys: 4.24 ms, total: 5.62 ms\n",
      "Wall time: 742 ms\n"
     ]
    }
   ],
   "source": [
    "%%time \n",
    "# Insert to DB\n",
    "connection = psycopg2.connect(user = settings.DATABASES[\"default\"][\"USER\"],\n",
    "                          password = settings.DATABASES[\"default\"][\"PASSWORD\"],\n",
    "                          host = settings.DATABASES[\"default\"][\"HOST\"],\n",
    "                          port = settings.DATABASES[\"default\"][\"PORT\"],\n",
    "                          database = settings.DATABASES[\"default\"][\"NAME\"])\n",
    "connection.autocommit=True\n",
    "cursor = connection.cursor()"
   ]
  },
  {
   "cell_type": "code",
   "execution_count": 3,
   "metadata": {},
   "outputs": [],
   "source": [
    "def get_where_items(exp_id, cols, table):\n",
    "    query = \"SELECT %s from %s where experiment_id = %s\" % (\", \".join(cols), table, exp_id) \n",
    "    cursor.execute(query)\n",
    "    where_items = cursor.fetchall()\n",
    "    return where_items\n",
    "\n",
    "def get_model_properties(model_pickle, data_features):\n",
    "    model_db = pickle.loads(base64.b64decode(model_pickle))\n",
    "    document_topic = model_db.transform(data_features)\n",
    "    document_clusters = document_topic.argmax(axis=1)\n",
    "    return document_clusters, model_db.components_.T, document_topic"
   ]
  },
  {
   "cell_type": "code",
   "execution_count": 4,
   "metadata": {},
   "outputs": [
    {
     "name": "stdout",
     "output_type": "stream",
     "text": [
      "Problems to be used: 132\n",
      "Solutions to be used: 54\n",
      "Got 54 documents\n"
     ]
    }
   ],
   "source": [
    "## Cleaning database\n",
    "last_id = 132\n",
    "problems = Problem.objects.filter(id__lte=last_id)\n",
    "print(\"Problems to be used: %d\" % problems.count())\n",
    "\n",
    "solutions_obj = Solution.objects.filter(problem__in=problems, ignore=False).order_by('id')\n",
    "print(\"Solutions to be used: %d\" % solutions_obj.count())\n",
    "\n",
    "docs_id = []\n",
    "questions = []\n",
    "solutions = []\n",
    "\n",
    "# Fill separated structures\n",
    "for sol in solutions_obj:\n",
    "    docs_id.append(sol.id)\n",
    "    questions.append(sol.problem.content)\n",
    "    solutions.append(sol.content)\n",
    "\n",
    "print(\"Got %d documents\" %(solutions_obj.count()))"
   ]
  },
  {
   "cell_type": "code",
   "execution_count": 5,
   "metadata": {},
   "outputs": [],
   "source": [
    "exp_id = 26\n",
    "cols = [\"vectorizer\", \"min_df\", \"is_binary\", \"model\", \"k\", \"distance\"]\n",
    "table = \"experiments_solution\"\n",
    "where_items = get_where_items(exp_id, cols, table)[0]\n",
    "v = eval(where_items[0])\n",
    "m = where_items[1]\n",
    "b = where_items[2]\n",
    "model_pickle = where_items[3]\n",
    "k = where_items[4]\n",
    "dist = where_items[5]\n",
    "vectorizer_params={'ngram_range': (1,3)}\n",
    "train_data_features, vectorizer, _ = create_bag_of_words(solutions, v, binary=b, min_df=m, \n",
    "                                                         vectorizer_params=vectorizer_params)"
   ]
  },
  {
   "cell_type": "code",
   "execution_count": 6,
   "metadata": {},
   "outputs": [],
   "source": [
    "document_clusters, word_topic, document_topic = get_model_properties(model_pickle, train_data_features)"
   ]
  },
  {
   "cell_type": "code",
   "execution_count": 7,
   "metadata": {
    "scrolled": false
   },
   "outputs": [
    {
     "name": "stdout",
     "output_type": "stream",
     "text": [
      "def divisors(num):\r\n",
      "    listRange = list(range(1,num+1))\r\n",
      "    divisorList = []\r\n",
      "\r\n",
      "    for number in listRange:\r\n",
      "        if num % number == 0:\r\n",
      "            divisorList.append(number)\r\n",
      "\r\n",
      "    return divisorList\n",
      "def reverse(word):\r\n",
      "    x = ''\r\n",
      "    for i in range(len(word)):\r\n",
      "        x += word[len(word)-1-i]\r\n",
      "    return x == word\n",
      "def dec2bin(decimalNumber):\r\n",
      "    binary = \"\"\r\n",
      "    for i in range(7,-1,-1):\r\n",
      "        if decimalNumber >= 2**i:\r\n",
      "            binary = binary + \"1\"\r\n",
      "            decimalNumber = decimalNumber - 2**i\r\n",
      "        else:\r\n",
      "            binary = binary + \"0\" \r\n",
      "    return binary\n",
      "def fatorial(number):\n",
      "    total = 1\n",
      "\n",
      "    for i in range(number, 1, -1):\n",
      "        total = total * i\n",
      "    \n",
      "    return total        \n",
      "\n",
      "def square(number):\r\n",
      "    d=dict()\r\n",
      "    for i in range(1,number+1):\r\n",
      "        d[i]=i*i\r\n",
      "    return d\n",
      "def create_matrix(X, Y):\n",
      "    rowNum = X\n",
      "    colNum = Y\n",
      "    multilist = [[0 for col in range(colNum)] for row in range(rowNum)]\n",
      "\n",
      "    for row in range(rowNum):\n",
      "        for col in range(colNum):\n",
      "            multilist[row][col]= row*col\n",
      "\n",
      "    return multilist\n",
      "\n",
      "def binby5(number_csv):\r\n",
      "    value = []\r\n",
      "    items=[x for x in number_csv.split(',')]\r\n",
      "    for p in items:\r\n",
      "        intp = int(p, 2)\r\n",
      "        intp = int(p[0])*8 + int(p[1])*4 + int(p[2])*2 + int(p[3])\r\n",
      "        if not intp%5:\r\n",
      "            value.append(p)\r\n",
      "    return \", \".join(value)\n",
      "def all_even():\r\n",
      "    values = []\r\n",
      "    for i in range(1000, 3001):\r\n",
      "        s = str(i)\r\n",
      "        if (int(s[0])%2==0) and (int(s[1])%2==0) and (int(s[2])%2==0) and (int(s[3])%2==0):\r\n",
      "            values.append(s)\r\n",
      "    return \", \".join(values)\n",
      "# Complete your function using this header\r\n",
      "def all_even():\r\n",
      "    values = []\r\n",
      "    for a in range(0,9,2):\r\n",
      "        for b in range(0,9,2):\r\n",
      "            for c in range(0,9,2):\r\n",
      "                values.append('2'+str(a)+str(b)+str(c))\r\n",
      "\t\r\n",
      "    return \", \".join(values)\n",
      "def digit_sum(digit):\r\n",
      "    n1 = int(\"{0}\".format(digit))\r\n",
      "    n2 = int(\"{0}{1}\".format(digit,digit))\r\n",
      "    n3 = int(\"{0}{1}{2}\".format(digit,digit,digit))\r\n",
      "    n4 = int(\"{0}{1}{2}{3}\".format(digit,digit,digit,digit))\r\n",
      "    total = n1+n2+n3+n4\r\n",
      "    return total\n",
      "# Complete your function using this header\r\n",
      "def digit_sum(digit):\r\n",
      "    total = 0\r\n",
      "    for i in range(1,5):\r\n",
      "        number = \"%s\" % digit\r\n",
      "        number = int(number * i)\r\n",
      "        total = total + number\r\n",
      "    return total\n",
      "def amount(transaction_list):\n",
      "    total = 0\n",
      "    for item in transaction_list:\n",
      "        op, value = item\n",
      "        if op == 'D':\n",
      "            total += value\n",
      "        elif op == 'W':\n",
      "            total -= value\n",
      "    return total\n",
      "\n"
     ]
    }
   ],
   "source": [
    "topic = 11\n",
    "idx = np.where(document_clusters == topic)[0]\n",
    "for i in idx:\n",
    "    print(solutions[i])"
   ]
  },
  {
   "cell_type": "code",
   "execution_count": 14,
   "metadata": {},
   "outputs": [
    {
     "data": {
      "text/plain": [
       "(array([ 2, 10, 13, 17, 18, 21, 22, 23, 24, 25, 26, 27, 28, 32]),)"
      ]
     },
     "execution_count": 14,
     "metadata": {},
     "output_type": "execute_result"
    }
   ],
   "source": [
    "idx"
   ]
  },
  {
   "cell_type": "code",
   "execution_count": 6,
   "metadata": {},
   "outputs": [
    {
     "data": {
      "text/plain": [
       "(65, 236)"
      ]
     },
     "execution_count": 6,
     "metadata": {},
     "output_type": "execute_result"
    }
   ],
   "source": [
    "# Get new solutions\n",
    "problems = Problem.objects.exclude(chapter=None)\n",
    "new_solutions = list(Solution.objects.filter(problem__in=problems, ignore=False\n",
    "                                            ).order_by('id').values_list('content', flat=True))\n",
    "\n",
    "test_data_features_lda = vectorizer.transform(new_solutions).toarray()\n",
    "test_data_features_lda.shape"
   ]
  },
  {
   "cell_type": "code",
   "execution_count": 7,
   "metadata": {},
   "outputs": [],
   "source": [
    "document_clusters, word_topic, document_topic = get_model_properties(model_pickle, test_data_features_lda)\n",
    "model_db = pickle.loads(base64.b64decode(model_pickle))\n",
    "clustering = Clustering(train_data_features, k, metric=dist)\n",
    "clustering.seed = model_db.random_state\n",
    "_ = getattr(clustering, 'lda')()\n",
    "clustering.X = test_data_features_lda\n",
    "clustering.document_topic = document_topic"
   ]
  },
  {
   "cell_type": "code",
   "execution_count": 8,
   "metadata": {},
   "outputs": [
    {
     "data": {
      "image/png": "[encoded data removed]",
      "text/plain": [
       "<Figure size 576x720 with 2 Axes>"
      ]
     },
     "metadata": {
      "needs_background": "light"
     },
     "output_type": "display_data"
    }
   ],
   "source": [
    "clustering.plot_topic_distribution(title=\"Topic distribution per document\", \n",
    "                                   ylabel=\"Document ID\", cmap='Blues')"
   ]
  },
  {
   "cell_type": "code",
   "execution_count": 9,
   "metadata": {},
   "outputs": [
    {
     "data": {
      "text/plain": [
       "[(0, 2), (1, 4), (3, 1), (5, 23), (7, 17), (9, 3), (11, 15)]"
      ]
     },
     "execution_count": 9,
     "metadata": {},
     "output_type": "execute_result"
    }
   ],
   "source": [
    "sorted(Counter(document_clusters).items())"
   ]
  }
 ],
 "metadata": {
  "kernelspec": {
   "display_name": "Django Shell-Plus",
   "language": "python",
   "name": "django_extensions"
  },
  "language_info": {
   "codemirror_mode": {
    "name": "ipython",
    "version": 3
   },
   "file_extension": ".py",
   "mimetype": "text/x-python",
   "name": "python",
   "nbconvert_exporter": "python",
   "pygments_lexer": "ipython3",
   "version": "3.6.10"
  }
 },
 "nbformat": 4,
 "nbformat_minor": 4
}
