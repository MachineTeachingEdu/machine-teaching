{
 "cells": [
  {
   "cell_type": "code",
   "execution_count": 11,
   "metadata": {},
   "outputs": [],
   "source": [
    "import pickle\n",
    "from datetime import datetime\n",
    "import json\n",
    "from pathlib import Path"
   ]
  },
  {
   "cell_type": "code",
   "execution_count": 12,
   "metadata": {},
   "outputs": [],
   "source": [
    "folder = 'data/comp1_2020_1_v2'\n",
    "Path(folder).mkdir(parents=True, exist_ok=True)"
   ]
  },
  {
   "cell_type": "code",
   "execution_count": 3,
   "metadata": {},
   "outputs": [],
   "source": [
    "data_inicio = datetime.strptime('30/11/2020 00:00:00', '%d/%m/%Y %H:%M:%S')\n",
    "data_fim = datetime.strptime('06/03/2021 23:59:59', '%d/%m/%Y %H:%M:%S')"
   ]
  },
  {
   "cell_type": "code",
   "execution_count": 4,
   "metadata": {},
   "outputs": [
    {
     "data": {
      "text/plain": [
       "<QuerySet [36, 38, 37, 54, 33, 34, 27, 28, 29, 25, 39, 26, 32, 31, 30]>"
      ]
     },
     "execution_count": 4,
     "metadata": {},
     "output_type": "execute_result"
    }
   ],
   "source": [
    "turmas_validas = OnlineClass.objects.filter(start_date__gte=data_inicio, \n",
    "                                            start_date__lte=data_fim).values_list('pk', flat=True)\n",
    "turmas_validas"
   ]
  },
  {
   "cell_type": "code",
   "execution_count": 5,
   "metadata": {},
   "outputs": [
    {
     "data": {
      "text/plain": [
       "9"
      ]
     },
     "execution_count": 5,
     "metadata": {},
     "output_type": "execute_result"
    }
   ],
   "source": [
    "# Separando chapters PLE\n",
    "valid_chapters = Chapter.objects.filter(label__contains='REMOTO')# | Chapter.objects.filter(label__contains='10')\n",
    "valid_chapters.count()"
   ]
  },
  {
   "cell_type": "code",
   "execution_count": 6,
   "metadata": {},
   "outputs": [
    {
     "name": "stderr",
     "output_type": "stream",
     "text": [
      "/home/lmoraes/.pyenv/versions/machineteaching/lib/python3.8/site-packages/django/db/models/fields/__init__.py:1420: RuntimeWarning: DateTimeField UserLog.timestamp received a naive datetime (2020-11-30 00:00:00) while time zone support is active.\n",
      "  warnings.warn(\"DateTimeField %s received a naive datetime (%s)\"\n"
     ]
    }
   ],
   "source": [
    "# Remove professores e usuarios que já tenham utilizado o sistema em outra turma\n",
    "professores = Professor.objects.all().values_list('user')\n",
    "usuarios_tentativa_anterior = UserLog.objects.filter(user__userprofile__user_class__in=turmas_validas,\n",
    "                                                     timestamp__lt=data_inicio).values_list('user').distinct()"
   ]
  },
  {
   "cell_type": "code",
   "execution_count": 7,
   "metadata": {},
   "outputs": [],
   "source": [
    "# O que fazer com alunos repetentes?\n",
    "# Vou separá-los por enquanto"
   ]
  },
  {
   "cell_type": "markdown",
   "metadata": {},
   "source": [
    "### Get logs from classes with corrected assigned chapters"
   ]
  },
  {
   "cell_type": "code",
   "execution_count": 8,
   "metadata": {},
   "outputs": [
    {
     "name": "stdout",
     "output_type": "stream",
     "text": [
      "106185\n",
      "CPU times: user 0 ns, sys: 6.16 ms, total: 6.16 ms\n",
      "Wall time: 947 ms\n"
     ]
    }
   ],
   "source": [
    "%%time\n",
    "userlog = UserLog.objects.filter(user__userprofile__user_class__in=turmas_validas,\n",
    "                                 problem__chapter__in=valid_chapters\n",
    "                                ).exclude(user__in=usuarios_tentativa_anterior\n",
    "                                ).exclude(user__in=professores).order_by('timestamp'\n",
    "                                ).values('user__id', 'problem__id', 'outcome', \n",
    "                                         'timestamp', 'user__userprofile__user_class',\n",
    "                                         'problem__chapter')\n",
    "print(userlog.count())"
   ]
  },
  {
   "cell_type": "code",
   "execution_count": 9,
   "metadata": {},
   "outputs": [
    {
     "name": "stdout",
     "output_type": "stream",
     "text": [
      "Total de alunos: 421\n",
      "Total de problemas: 50\n",
      "Total de turmas: 15\n",
      "Total de listas: 9\n"
     ]
    }
   ],
   "source": [
    "students = list(set([log['user__id'] for log in userlog]))\n",
    "problems = list(set([log['problem__id'] for log in userlog]))\n",
    "classes = list(set([log['user__userprofile__user_class'] for log in userlog]))\n",
    "chapters = list(set([log['problem__chapter'] for log in userlog]))\n",
    "\n",
    "print(f\"Total de alunos: {len(students)}\")\n",
    "print(f\"Total de problemas: {len(problems)}\")\n",
    "print(f\"Total de turmas: {len(classes)}\")\n",
    "print(f\"Total de listas: {len(chapters)}\")"
   ]
  },
  {
   "cell_type": "code",
   "execution_count": 13,
   "metadata": {},
   "outputs": [],
   "source": [
    "with open(\"%s/userlogs.pkl\" % folder, \"wb\") as pklfile:\n",
    "    pickle.dump(list(userlog), pklfile)"
   ]
  },
  {
   "cell_type": "code",
   "execution_count": 14,
   "metadata": {},
   "outputs": [
    {
     "name": "stdout",
     "output_type": "stream",
     "text": [
      "106185\n",
      "CPU times: user 1.53 s, sys: 427 ms, total: 1.96 s\n",
      "Wall time: 31.9 s\n"
     ]
    }
   ],
   "source": [
    "%%time\n",
    "userlog_complete = UserLog.objects.filter(user__userprofile__user_class__in=turmas_validas, \n",
    "                                          problem__chapter__in=valid_chapters\n",
    "                                ).exclude(user__in=usuarios_tentativa_anterior\n",
    "                                ).exclude(user__in=professores).order_by('timestamp'\n",
    "                                ).values('user__id', 'problem__id', 'outcome', \n",
    "                                         'timestamp', 'user__userprofile__user_class',\n",
    "                                         'solution', 'seconds_in_page', 'seconds_in_code', \n",
    "                                         'seconds_to_begin', 'problem__chapter')\n",
    "print(userlog_complete.count())\n",
    "\n",
    "with open(\"%s/userlogs_complete.pkl\" % folder, \"wb\") as pklfile:\n",
    "    pickle.dump(list(userlog_complete), pklfile)"
   ]
  },
  {
   "cell_type": "code",
   "execution_count": 61,
   "metadata": {},
   "outputs": [],
   "source": [
    "# One row per test case\n",
    "solutions = Solution.objects.filter(problem__in=problems, ignore=False).values(\n",
    "    \"problem_id\", \"content\", \"header\", \"problem__testcase__content\").order_by(\"content\")"
   ]
  },
  {
   "cell_type": "code",
   "execution_count": 62,
   "metadata": {},
   "outputs": [
    {
     "name": "stdout",
     "output_type": "stream",
     "text": [
      "CPU times: user 3.96 ms, sys: 1.33 ms, total: 5.29 ms\n",
      "Wall time: 167 ms\n"
     ]
    }
   ],
   "source": [
    "%%time\n",
    "data = []\n",
    "old_content = \"\"\n",
    "for item in solutions:\n",
    "    # If it is the same problem, keep adding test cases\n",
    "    if item[\"content\"] == old_content:\n",
    "        data[-1][\"test_case\"].append(json.loads(item[\"problem__testcase__content\"]))\n",
    "    # Otherwise, start new row\n",
    "    else:\n",
    "        item_data = {\n",
    "            \"problem_id\": item[\"problem_id\"],\n",
    "            \"solution\": item[\"content\"],\n",
    "            \"function_call\": item[\"header\"],\n",
    "            \"test_case\": [json.loads(item[\"problem__testcase__content\"])]\n",
    "        }\n",
    "        data.append(item_data)\n",
    "    old_content = item[\"content\"]"
   ]
  },
  {
   "cell_type": "code",
   "execution_count": 11,
   "metadata": {},
   "outputs": [
    {
     "name": "stdout",
     "output_type": "stream",
     "text": [
      "CPU times: user 28 µs, sys: 19 µs, total: 47 µs\n",
      "Wall time: 49.6 µs\n"
     ]
    }
   ],
   "source": [
    "%%time\n",
    "# Transform it into dict to lookup for problem\n",
    "data_dict = {}\n",
    "for item in data:\n",
    "    data_dict[item[\"problem_id\"]] = item"
   ]
  },
  {
   "cell_type": "code",
   "execution_count": null,
   "metadata": {},
   "outputs": [],
   "source": [
    "# Calculate test case percentage for each userlog\n",
    "userlog_testcase = []\n",
    "for item in userlog:\n",
    "    tcs = data[userlog.problem_id][\"test_case\"]\n",
    "    correct = 0\n",
    "    # Calculate student response and solution for each test case for each log\n",
    "    for tc in tcs:\n",
    "        # Transform solution into Python function\n",
    "        function_obj = compile(data[userlog.problem_id][\"solution\"], 'solution', 'exec')\n",
    "        exec(function_obj)\n",
    "        answer_solution = eval(item[\"function_call\"])(*tc)\n",
    "        \n",
    "        # Transform student solution into Python function\n",
    "        \n",
    "        function_obj = compile(userlog.solution, 'solution', 'exec')\n",
    "        exec(function_obj)\n",
    "        answer_student = eval(item[\"function_call\"])(*tc)"
   ]
  },
  {
   "cell_type": "code",
   "execution_count": null,
   "metadata": {},
   "outputs": [],
   "source": [
    "for item in data:\n",
    "    for tc in item[\"test_case\"]:\n",
    "        print(tc)\n",
    "        # Transform solution into python function\n",
    "        function_obj = compile(item[\"solution\"], 'solution', 'exec')\n",
    "        exec(function_obj)\n",
    "        answer = eval(item[\"function_call\"])(*tc)\n",
    "        "
   ]
  }
 ],
 "metadata": {
  "kernelspec": {
   "display_name": "Python 3.10.1 ('venv': venv)",
   "language": "python",
   "name": "python3"
  },
  "language_info": {
   "codemirror_mode": {
    "name": "ipython",
    "version": 3
   },
   "file_extension": ".py",
   "mimetype": "text/x-python",
   "name": "python",
   "nbconvert_exporter": "python",
   "pygments_lexer": "ipython3",
   "version": "3.10.1"
  },
  "vscode": {
   "interpreter": {
    "hash": "8b8eb5c783dfe42c7058f1added318ee357524744990c492ddc5504479440802"
   }
  }
 },
 "nbformat": 4,
 "nbformat_minor": 4
}
