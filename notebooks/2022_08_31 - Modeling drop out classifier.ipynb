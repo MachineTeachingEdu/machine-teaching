{
 "cells": [
  {
   "cell_type": "code",
   "execution_count": 93,
   "metadata": {},
   "outputs": [],
   "source": [
    "import pickle\n",
    "from sklearn.model_selection import train_test_split\n",
    "from sklearn.metrics import (mean_squared_error, plot_confusion_matrix, plot_roc_curve, \n",
    "                             classification_report, precision_recall_curve, confusion_matrix)\n",
    "from sklearn.linear_model import LogisticRegression\n",
    "from sklearn.ensemble import RandomForestClassifier\n",
    "from pathlib import Path\n",
    "import numpy as np\n",
    "import seaborn as sns"
   ]
  },
  {
   "cell_type": "code",
   "execution_count": 22,
   "metadata": {},
   "outputs": [],
   "source": [
    "folder = \"data/comp1_2020_1/\"\n",
    "Path(folder).mkdir(parents=True, exist_ok=True)"
   ]
  },
  {
   "cell_type": "code",
   "execution_count": 23,
   "metadata": {},
   "outputs": [],
   "source": [
    "with open(f'{folder}/dropout_df_total_and_per_week_dict_3_6.pkl', 'rb') as pklfile:\n",
    "    df_total_and_per_week = pickle.load(pklfile)"
   ]
  },
  {
   "cell_type": "code",
   "execution_count": 24,
   "metadata": {},
   "outputs": [
    {
     "data": {
      "text/html": [
       "<div>\n",
       "<style scoped>\n",
       "    .dataframe tbody tr th:only-of-type {\n",
       "        vertical-align: middle;\n",
       "    }\n",
       "\n",
       "    .dataframe tbody tr th {\n",
       "        vertical-align: top;\n",
       "    }\n",
       "\n",
       "    .dataframe thead th {\n",
       "        text-align: right;\n",
       "    }\n",
       "</style>\n",
       "<table border=\"1\" class=\"dataframe\">\n",
       "  <thead>\n",
       "    <tr style=\"text-align: right;\">\n",
       "      <th></th>\n",
       "      <th>attempts_12</th>\n",
       "      <th>success_rate_12</th>\n",
       "      <th>avg_timedelta_to_solution_12</th>\n",
       "      <th>avg_timedelta_from_beginning_12</th>\n",
       "      <th>on_time_exercises_12</th>\n",
       "      <th>frequency_12</th>\n",
       "      <th>success_count_12</th>\n",
       "      <th>attempts_13</th>\n",
       "      <th>success_rate_13</th>\n",
       "      <th>avg_timedelta_to_solution_13</th>\n",
       "      <th>...</th>\n",
       "      <th>on_time_exercises_19</th>\n",
       "      <th>frequency_19</th>\n",
       "      <th>success_count_19</th>\n",
       "      <th>attempts</th>\n",
       "      <th>success_rate</th>\n",
       "      <th>avg_timedelta_to_solution</th>\n",
       "      <th>avg_timedelta_from_beginning</th>\n",
       "      <th>on_time_exercises</th>\n",
       "      <th>frequency</th>\n",
       "      <th>success_count</th>\n",
       "    </tr>\n",
       "  </thead>\n",
       "  <tbody>\n",
       "    <tr>\n",
       "      <th>910</th>\n",
       "      <td>8</td>\n",
       "      <td>0.375000</td>\n",
       "      <td>65.386857</td>\n",
       "      <td>328.720191</td>\n",
       "      <td>3</td>\n",
       "      <td>1</td>\n",
       "      <td>3</td>\n",
       "      <td>24</td>\n",
       "      <td>0.291667</td>\n",
       "      <td>291.476823</td>\n",
       "      <td>...</td>\n",
       "      <td>6</td>\n",
       "      <td>1</td>\n",
       "      <td>6</td>\n",
       "      <td>32</td>\n",
       "      <td>0.312500</td>\n",
       "      <td>223.649833</td>\n",
       "      <td>519.849833</td>\n",
       "      <td>10</td>\n",
       "      <td>2</td>\n",
       "      <td>10</td>\n",
       "    </tr>\n",
       "    <tr>\n",
       "      <th>911</th>\n",
       "      <td>4</td>\n",
       "      <td>0.750000</td>\n",
       "      <td>132.823499</td>\n",
       "      <td>684.156833</td>\n",
       "      <td>3</td>\n",
       "      <td>1</td>\n",
       "      <td>3</td>\n",
       "      <td>36</td>\n",
       "      <td>0.194444</td>\n",
       "      <td>23916.274449</td>\n",
       "      <td>...</td>\n",
       "      <td>6</td>\n",
       "      <td>2</td>\n",
       "      <td>6</td>\n",
       "      <td>40</td>\n",
       "      <td>0.250000</td>\n",
       "      <td>16781.239164</td>\n",
       "      <td>17381.439164</td>\n",
       "      <td>10</td>\n",
       "      <td>3</td>\n",
       "      <td>10</td>\n",
       "    </tr>\n",
       "    <tr>\n",
       "      <th>912</th>\n",
       "      <td>6</td>\n",
       "      <td>0.500000</td>\n",
       "      <td>24.270101</td>\n",
       "      <td>207.270101</td>\n",
       "      <td>3</td>\n",
       "      <td>1</td>\n",
       "      <td>3</td>\n",
       "      <td>7</td>\n",
       "      <td>1.000000</td>\n",
       "      <td>0.000000</td>\n",
       "      <td>...</td>\n",
       "      <td>6</td>\n",
       "      <td>1</td>\n",
       "      <td>6</td>\n",
       "      <td>13</td>\n",
       "      <td>0.769231</td>\n",
       "      <td>7.281030</td>\n",
       "      <td>141.581030</td>\n",
       "      <td>10</td>\n",
       "      <td>2</td>\n",
       "      <td>10</td>\n",
       "    </tr>\n",
       "    <tr>\n",
       "      <th>914</th>\n",
       "      <td>9</td>\n",
       "      <td>0.333333</td>\n",
       "      <td>430.621847</td>\n",
       "      <td>918.621847</td>\n",
       "      <td>3</td>\n",
       "      <td>1</td>\n",
       "      <td>3</td>\n",
       "      <td>91</td>\n",
       "      <td>0.076923</td>\n",
       "      <td>40044.526822</td>\n",
       "      <td>...</td>\n",
       "      <td>6</td>\n",
       "      <td>2</td>\n",
       "      <td>6</td>\n",
       "      <td>100</td>\n",
       "      <td>0.100000</td>\n",
       "      <td>28160.355329</td>\n",
       "      <td>28983.855329</td>\n",
       "      <td>10</td>\n",
       "      <td>4</td>\n",
       "      <td>10</td>\n",
       "    </tr>\n",
       "    <tr>\n",
       "      <th>915</th>\n",
       "      <td>8</td>\n",
       "      <td>0.375000</td>\n",
       "      <td>124.739469</td>\n",
       "      <td>243.072802</td>\n",
       "      <td>3</td>\n",
       "      <td>1</td>\n",
       "      <td>3</td>\n",
       "      <td>12</td>\n",
       "      <td>0.416667</td>\n",
       "      <td>18.759911</td>\n",
       "      <td>...</td>\n",
       "      <td>5</td>\n",
       "      <td>1</td>\n",
       "      <td>5</td>\n",
       "      <td>20</td>\n",
       "      <td>0.400000</td>\n",
       "      <td>58.502245</td>\n",
       "      <td>167.252245</td>\n",
       "      <td>8</td>\n",
       "      <td>2</td>\n",
       "      <td>8</td>\n",
       "    </tr>\n",
       "    <tr>\n",
       "      <th>...</th>\n",
       "      <td>...</td>\n",
       "      <td>...</td>\n",
       "      <td>...</td>\n",
       "      <td>...</td>\n",
       "      <td>...</td>\n",
       "      <td>...</td>\n",
       "      <td>...</td>\n",
       "      <td>...</td>\n",
       "      <td>...</td>\n",
       "      <td>...</td>\n",
       "      <td>...</td>\n",
       "      <td>...</td>\n",
       "      <td>...</td>\n",
       "      <td>...</td>\n",
       "      <td>...</td>\n",
       "      <td>...</td>\n",
       "      <td>...</td>\n",
       "      <td>...</td>\n",
       "      <td>...</td>\n",
       "      <td>...</td>\n",
       "      <td>...</td>\n",
       "    </tr>\n",
       "    <tr>\n",
       "      <th>1400</th>\n",
       "      <td>0</td>\n",
       "      <td>NaN</td>\n",
       "      <td>NaN</td>\n",
       "      <td>NaN</td>\n",
       "      <td>0</td>\n",
       "      <td>3</td>\n",
       "      <td>0</td>\n",
       "      <td>0</td>\n",
       "      <td>NaN</td>\n",
       "      <td>NaN</td>\n",
       "      <td>...</td>\n",
       "      <td>0</td>\n",
       "      <td>0</td>\n",
       "      <td>0</td>\n",
       "      <td>0</td>\n",
       "      <td>NaN</td>\n",
       "      <td>NaN</td>\n",
       "      <td>NaN</td>\n",
       "      <td>0</td>\n",
       "      <td>3</td>\n",
       "      <td>0</td>\n",
       "    </tr>\n",
       "    <tr>\n",
       "      <th>1403</th>\n",
       "      <td>0</td>\n",
       "      <td>NaN</td>\n",
       "      <td>NaN</td>\n",
       "      <td>NaN</td>\n",
       "      <td>0</td>\n",
       "      <td>0</td>\n",
       "      <td>0</td>\n",
       "      <td>0</td>\n",
       "      <td>NaN</td>\n",
       "      <td>NaN</td>\n",
       "      <td>...</td>\n",
       "      <td>5</td>\n",
       "      <td>1</td>\n",
       "      <td>5</td>\n",
       "      <td>0</td>\n",
       "      <td>NaN</td>\n",
       "      <td>NaN</td>\n",
       "      <td>NaN</td>\n",
       "      <td>0</td>\n",
       "      <td>0</td>\n",
       "      <td>0</td>\n",
       "    </tr>\n",
       "    <tr>\n",
       "      <th>1405</th>\n",
       "      <td>6</td>\n",
       "      <td>0.500000</td>\n",
       "      <td>32.428669</td>\n",
       "      <td>655.095336</td>\n",
       "      <td>0</td>\n",
       "      <td>2</td>\n",
       "      <td>3</td>\n",
       "      <td>22</td>\n",
       "      <td>0.181818</td>\n",
       "      <td>26859.988079</td>\n",
       "      <td>...</td>\n",
       "      <td>0</td>\n",
       "      <td>0</td>\n",
       "      <td>0</td>\n",
       "      <td>28</td>\n",
       "      <td>0.250000</td>\n",
       "      <td>15362.462618</td>\n",
       "      <td>15919.319761</td>\n",
       "      <td>0</td>\n",
       "      <td>7</td>\n",
       "      <td>7</td>\n",
       "    </tr>\n",
       "    <tr>\n",
       "      <th>1407</th>\n",
       "      <td>56</td>\n",
       "      <td>0.053571</td>\n",
       "      <td>2124.487458</td>\n",
       "      <td>3170.154125</td>\n",
       "      <td>0</td>\n",
       "      <td>1</td>\n",
       "      <td>3</td>\n",
       "      <td>0</td>\n",
       "      <td>NaN</td>\n",
       "      <td>NaN</td>\n",
       "      <td>...</td>\n",
       "      <td>0</td>\n",
       "      <td>0</td>\n",
       "      <td>0</td>\n",
       "      <td>56</td>\n",
       "      <td>0.053571</td>\n",
       "      <td>NaN</td>\n",
       "      <td>NaN</td>\n",
       "      <td>0</td>\n",
       "      <td>3</td>\n",
       "      <td>3</td>\n",
       "    </tr>\n",
       "    <tr>\n",
       "      <th>1409</th>\n",
       "      <td>0</td>\n",
       "      <td>NaN</td>\n",
       "      <td>NaN</td>\n",
       "      <td>NaN</td>\n",
       "      <td>0</td>\n",
       "      <td>0</td>\n",
       "      <td>0</td>\n",
       "      <td>1</td>\n",
       "      <td>1.000000</td>\n",
       "      <td>0.000000</td>\n",
       "      <td>...</td>\n",
       "      <td>0</td>\n",
       "      <td>0</td>\n",
       "      <td>0</td>\n",
       "      <td>1</td>\n",
       "      <td>1.000000</td>\n",
       "      <td>NaN</td>\n",
       "      <td>NaN</td>\n",
       "      <td>0</td>\n",
       "      <td>1</td>\n",
       "      <td>1</td>\n",
       "    </tr>\n",
       "  </tbody>\n",
       "</table>\n",
       "<p>410 rows × 49 columns</p>\n",
       "</div>"
      ],
      "text/plain": [
       "      attempts_12  success_rate_12  avg_timedelta_to_solution_12  \\\n",
       "910             8         0.375000                     65.386857   \n",
       "911             4         0.750000                    132.823499   \n",
       "912             6         0.500000                     24.270101   \n",
       "914             9         0.333333                    430.621847   \n",
       "915             8         0.375000                    124.739469   \n",
       "...           ...              ...                           ...   \n",
       "1400            0              NaN                           NaN   \n",
       "1403            0              NaN                           NaN   \n",
       "1405            6         0.500000                     32.428669   \n",
       "1407           56         0.053571                   2124.487458   \n",
       "1409            0              NaN                           NaN   \n",
       "\n",
       "      avg_timedelta_from_beginning_12  on_time_exercises_12  frequency_12  \\\n",
       "910                        328.720191                     3             1   \n",
       "911                        684.156833                     3             1   \n",
       "912                        207.270101                     3             1   \n",
       "914                        918.621847                     3             1   \n",
       "915                        243.072802                     3             1   \n",
       "...                               ...                   ...           ...   \n",
       "1400                              NaN                     0             3   \n",
       "1403                              NaN                     0             0   \n",
       "1405                       655.095336                     0             2   \n",
       "1407                      3170.154125                     0             1   \n",
       "1409                              NaN                     0             0   \n",
       "\n",
       "      success_count_12  attempts_13  success_rate_13  \\\n",
       "910                  3           24         0.291667   \n",
       "911                  3           36         0.194444   \n",
       "912                  3            7         1.000000   \n",
       "914                  3           91         0.076923   \n",
       "915                  3           12         0.416667   \n",
       "...                ...          ...              ...   \n",
       "1400                 0            0              NaN   \n",
       "1403                 0            0              NaN   \n",
       "1405                 3           22         0.181818   \n",
       "1407                 3            0              NaN   \n",
       "1409                 0            1         1.000000   \n",
       "\n",
       "      avg_timedelta_to_solution_13  ...  on_time_exercises_19  frequency_19  \\\n",
       "910                     291.476823  ...                     6             1   \n",
       "911                   23916.274449  ...                     6             2   \n",
       "912                       0.000000  ...                     6             1   \n",
       "914                   40044.526822  ...                     6             2   \n",
       "915                      18.759911  ...                     5             1   \n",
       "...                            ...  ...                   ...           ...   \n",
       "1400                           NaN  ...                     0             0   \n",
       "1403                           NaN  ...                     5             1   \n",
       "1405                  26859.988079  ...                     0             0   \n",
       "1407                           NaN  ...                     0             0   \n",
       "1409                      0.000000  ...                     0             0   \n",
       "\n",
       "      success_count_19  attempts  success_rate  avg_timedelta_to_solution  \\\n",
       "910                  6        32      0.312500                 223.649833   \n",
       "911                  6        40      0.250000               16781.239164   \n",
       "912                  6        13      0.769231                   7.281030   \n",
       "914                  6       100      0.100000               28160.355329   \n",
       "915                  5        20      0.400000                  58.502245   \n",
       "...                ...       ...           ...                        ...   \n",
       "1400                 0         0           NaN                        NaN   \n",
       "1403                 5         0           NaN                        NaN   \n",
       "1405                 0        28      0.250000               15362.462618   \n",
       "1407                 0        56      0.053571                        NaN   \n",
       "1409                 0         1      1.000000                        NaN   \n",
       "\n",
       "      avg_timedelta_from_beginning  on_time_exercises  frequency  \\\n",
       "910                     519.849833                 10          2   \n",
       "911                   17381.439164                 10          3   \n",
       "912                     141.581030                 10          2   \n",
       "914                   28983.855329                 10          4   \n",
       "915                     167.252245                  8          2   \n",
       "...                            ...                ...        ...   \n",
       "1400                           NaN                  0          3   \n",
       "1403                           NaN                  0          0   \n",
       "1405                  15919.319761                  0          7   \n",
       "1407                           NaN                  0          3   \n",
       "1409                           NaN                  0          1   \n",
       "\n",
       "      success_count  \n",
       "910              10  \n",
       "911              10  \n",
       "912              10  \n",
       "914              10  \n",
       "915               8  \n",
       "...             ...  \n",
       "1400              0  \n",
       "1403              0  \n",
       "1405              7  \n",
       "1407              3  \n",
       "1409              1  \n",
       "\n",
       "[410 rows x 49 columns]"
      ]
     },
     "execution_count": 24,
     "metadata": {},
     "output_type": "execute_result"
    }
   ],
   "source": [
    "exclude = df_total_and_per_week[(df_total_and_per_week['attempts_12'] == 0) & \\\n",
    "                                (df_total_and_per_week['attempts_13'] == 0) & \\\n",
    "                                (df_total_and_per_week['attempts_14'] == 0) & \\\n",
    "                                (df_total_and_per_week['attempts_15'] == 0)]\n",
    "dtw2 = df_total_and_per_week.drop(index=exclude.index)\n",
    "dtw2"
   ]
  },
  {
   "cell_type": "code",
   "execution_count": 25,
   "metadata": {},
   "outputs": [],
   "source": [
    "dtw2['success_count_label'] = dtw2['success_count_17'] + dtw2['success_count_19']"
   ]
  },
  {
   "cell_type": "code",
   "execution_count": 26,
   "metadata": {},
   "outputs": [],
   "source": [
    "# Features and fill missing data\n",
    "features_week6 = dtw2[['on_time_exercises_12',\n",
    "                       'on_time_exercises_13',\n",
    "                       'on_time_exercises_14',\n",
    "                      ]].reset_index(drop=True)\n"
   ]
  },
  {
   "cell_type": "code",
   "execution_count": 27,
   "id": "9e978389",
   "metadata": {},
   "outputs": [
    {
     "data": {
      "text/html": [
       "<div>\n",
       "<style scoped>\n",
       "    .dataframe tbody tr th:only-of-type {\n",
       "        vertical-align: middle;\n",
       "    }\n",
       "\n",
       "    .dataframe tbody tr th {\n",
       "        vertical-align: top;\n",
       "    }\n",
       "\n",
       "    .dataframe thead th {\n",
       "        text-align: right;\n",
       "    }\n",
       "</style>\n",
       "<table border=\"1\" class=\"dataframe\">\n",
       "  <thead>\n",
       "    <tr style=\"text-align: right;\">\n",
       "      <th></th>\n",
       "      <th>on_time_exercises_12</th>\n",
       "      <th>on_time_exercises_13</th>\n",
       "      <th>on_time_exercises_14</th>\n",
       "    </tr>\n",
       "  </thead>\n",
       "  <tbody>\n",
       "    <tr>\n",
       "      <th>0</th>\n",
       "      <td>3</td>\n",
       "      <td>7</td>\n",
       "      <td>7</td>\n",
       "    </tr>\n",
       "    <tr>\n",
       "      <th>1</th>\n",
       "      <td>3</td>\n",
       "      <td>7</td>\n",
       "      <td>7</td>\n",
       "    </tr>\n",
       "    <tr>\n",
       "      <th>2</th>\n",
       "      <td>3</td>\n",
       "      <td>7</td>\n",
       "      <td>7</td>\n",
       "    </tr>\n",
       "    <tr>\n",
       "      <th>3</th>\n",
       "      <td>3</td>\n",
       "      <td>7</td>\n",
       "      <td>7</td>\n",
       "    </tr>\n",
       "    <tr>\n",
       "      <th>4</th>\n",
       "      <td>3</td>\n",
       "      <td>5</td>\n",
       "      <td>6</td>\n",
       "    </tr>\n",
       "  </tbody>\n",
       "</table>\n",
       "</div>"
      ],
      "text/plain": [
       "   on_time_exercises_12  on_time_exercises_13  on_time_exercises_14\n",
       "0                     3                     7                     7\n",
       "1                     3                     7                     7\n",
       "2                     3                     7                     7\n",
       "3                     3                     7                     7\n",
       "4                     3                     5                     6"
      ]
     },
     "execution_count": 27,
     "metadata": {},
     "output_type": "execute_result"
    }
   ],
   "source": [
    "features_week6.head()"
   ]
  },
  {
   "cell_type": "code",
   "execution_count": 29,
   "id": "3b9dbbe4",
   "metadata": {},
   "outputs": [],
   "source": [
    "dtw2['dropped'] = np.where(dtw2['success_count_label'] >= 6, 0, 1)\n",
    "dtw2['dropped']\n",
    "\n",
    "# Target\n",
    "outcome_week6 = dtw2['dropped'].reset_index(drop=True)"
   ]
  },
  {
   "cell_type": "code",
   "execution_count": 30,
   "metadata": {},
   "outputs": [],
   "source": [
    "X_train, X_test, y_train, y_test = train_test_split(features_week6, outcome_week6, test_size=0.2, random_state=0)\n",
    "idx = np.array(X_train.index.tolist())"
   ]
  },
  {
   "cell_type": "code",
   "execution_count": 47,
   "metadata": {},
   "outputs": [],
   "source": [
    "clf_LR = LogisticRegression(random_state=0).fit(X_train, y_train)"
   ]
  },
  {
   "cell_type": "code",
   "execution_count": 59,
   "metadata": {},
   "outputs": [],
   "source": [
    "y_pred_LR = clf_LR.predict(X_test)"
   ]
  },
  {
   "cell_type": "code",
   "execution_count": 60,
   "id": "ac5daee5",
   "metadata": {},
   "outputs": [
    {
     "name": "stdout",
     "output_type": "stream",
     "text": [
      "              precision    recall  f1-score   support\n",
      "\n",
      "           0       0.87      0.91      0.89        64\n",
      "           1       0.60      0.50      0.55        18\n",
      "\n",
      "    accuracy                           0.82        82\n",
      "   macro avg       0.73      0.70      0.72        82\n",
      "weighted avg       0.81      0.82      0.81        82\n",
      "\n"
     ]
    },
    {
     "name": "stderr",
     "output_type": "stream",
     "text": [
      "c:\\Users\\joaop\\machine-teaching\\venv\\lib\\site-packages\\sklearn\\utils\\deprecation.py:87: FutureWarning: Function plot_confusion_matrix is deprecated; Function `plot_confusion_matrix` is deprecated in 1.0 and will be removed in 1.2. Use one of the class methods: ConfusionMatrixDisplay.from_predictions or ConfusionMatrixDisplay.from_estimator.\n",
      "  warnings.warn(msg, category=FutureWarning)\n"
     ]
    },
    {
     "data": {
      "text/plain": [
       "<sklearn.metrics._plot.confusion_matrix.ConfusionMatrixDisplay at 0x2204c5ebf70>"
      ]
     },
     "execution_count": 60,
     "metadata": {},
     "output_type": "execute_result"
    },
    {
     "data": {
      "image/png": "[encoded data removed]",
      "text/plain": [
       "<Figure size 640x480 with 2 Axes>"
      ]
     },
     "metadata": {},
     "output_type": "display_data"
    }
   ],
   "source": [
    "print(classification_report(y_test, y_pred_LR))\n",
    "plot_confusion_matrix(clf_LR, X_test, y_test) "
   ]
  },
  {
   "cell_type": "code",
   "execution_count": 52,
   "id": "13dffc73",
   "metadata": {},
   "outputs": [
    {
     "name": "stderr",
     "output_type": "stream",
     "text": [
      "c:\\Users\\joaop\\machine-teaching\\venv\\lib\\site-packages\\sklearn\\utils\\deprecation.py:87: FutureWarning: Function plot_roc_curve is deprecated; Function :func:`plot_roc_curve` is deprecated in 1.0 and will be removed in 1.2. Use one of the class methods: :meth:`sklearn.metrics.RocCurveDisplay.from_predictions` or :meth:`sklearn.metrics.RocCurveDisplay.from_estimator`.\n",
      "  warnings.warn(msg, category=FutureWarning)\n"
     ]
    },
    {
     "data": {
      "text/plain": [
       "<sklearn.metrics._plot.roc_curve.RocCurveDisplay at 0x2204ab72f20>"
      ]
     },
     "execution_count": 52,
     "metadata": {},
     "output_type": "execute_result"
    },
    {
     "data": {
      "image/png": "[encoded data removed]",
      "text/plain": [
       "<Figure size 640x480 with 1 Axes>"
      ]
     },
     "metadata": {},
     "output_type": "display_data"
    }
   ],
   "source": [
    "plot_roc_curve(clf_LR, X_test, y_test)"
   ]
  },
  {
   "cell_type": "code",
   "execution_count": 86,
   "id": "9c482f35",
   "metadata": {},
   "outputs": [],
   "source": [
    "y_test_predicted_probas = clf_LR.predict_proba(X_test)[:,1]"
   ]
  },
  {
   "cell_type": "code",
   "execution_count": 87,
   "id": "902b5c6d",
   "metadata": {},
   "outputs": [],
   "source": [
    "precision, recall, thresholds = precision_recall_curve(y_test, y_test_predicted_probas)\n",
    "numerator = 2 * recall * precision\n",
    "denom = recall + precision\n",
    "f1_scores = np.divide(numerator, denom, out=np.zeros_like(denom), where=(denom!=0))\n",
    "max_f1 = np.max(f1_scores)\n",
    "max_f1_thresh = thresholds[np.argmax(f1_scores)]"
   ]
  },
  {
   "cell_type": "code",
   "execution_count": 88,
   "id": "24fa3242",
   "metadata": {},
   "outputs": [
    {
     "data": {
      "text/plain": [
       "0.5957446808510638"
      ]
     },
     "execution_count": 88,
     "metadata": {},
     "output_type": "execute_result"
    }
   ],
   "source": [
    "max_f1"
   ]
  },
  {
   "cell_type": "code",
   "execution_count": 89,
   "id": "6dca6a98",
   "metadata": {},
   "outputs": [
    {
     "data": {
      "text/plain": [
       "0.3283894583842727"
      ]
     },
     "execution_count": 89,
     "metadata": {},
     "output_type": "execute_result"
    }
   ],
   "source": [
    "max_f1_thresh"
   ]
  },
  {
   "cell_type": "code",
   "execution_count": 104,
   "id": "168ab38b",
   "metadata": {},
   "outputs": [
    {
     "name": "stdout",
     "output_type": "stream",
     "text": [
      "              precision    recall  f1-score   support\n",
      "\n",
      "           0       0.92      0.77      0.84        64\n",
      "           1       0.48      0.78      0.60        18\n",
      "\n",
      "    accuracy                           0.77        82\n",
      "   macro avg       0.70      0.77      0.72        82\n",
      "weighted avg       0.83      0.77      0.78        82\n",
      "\n"
     ]
    }
   ],
   "source": [
    "y_test_pred_LR_p0 = 1*(y_test_predicted_probas >= max_f1_thresh)\n",
    "\n",
    "print(classification_report(y_test, y_test_pred_LR_p0))\n"
   ]
  },
  {
   "cell_type": "code",
   "execution_count": 27,
   "id": "ddf9bc7b",
   "metadata": {},
   "outputs": [],
   "source": [
    "with open(\"%s/*.pkl\" % folder, \"wb\") as pklfile:\n",
    "    pickle.dump(model, pklfile)"
   ]
  }
 ],
 "metadata": {
  "kernelspec": {
   "display_name": "Python 3.10.1 ('venv': venv)",
   "language": "python",
   "name": "python3"
  },
  "language_info": {
   "codemirror_mode": {
    "name": "ipython",
    "version": 3
   },
   "file_extension": ".py",
   "mimetype": "text/x-python",
   "name": "python",
   "nbconvert_exporter": "python",
   "pygments_lexer": "ipython3",
   "version": "3.10.1"
  },
  "vscode": {
   "interpreter": {
    "hash": "8b8eb5c783dfe42c7058f1added318ee357524744990c492ddc5504479440802"
   }
  }
 },
 "nbformat": 4,
 "nbformat_minor": 5
}
