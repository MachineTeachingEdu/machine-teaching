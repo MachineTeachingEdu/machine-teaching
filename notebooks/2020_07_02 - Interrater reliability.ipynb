{
 "cells": [
  {
   "cell_type": "code",
   "execution_count": 106,
   "metadata": {},
   "outputs": [],
   "source": [
    "import numpy as np\n",
    "import numpy.ma as ma\n",
    "# import krippendorff\n",
    "import rpy2\n",
    "%load_ext rpy2.ipython"
   ]
  },
  {
   "cell_type": "code",
   "execution_count": 109,
   "metadata": {},
   "outputs": [],
   "source": [
    "folder = \"data/tese\""
   ]
  },
  {
   "cell_type": "code",
   "execution_count": 1,
   "metadata": {},
   "outputs": [
    {
     "name": "stdout",
     "output_type": "stream",
     "text": [
      "Problems to be ignored: 656\n",
      "Problems to be used: 132\n",
      "Solutions to be used: 54\n",
      "Got 54 documents\n"
     ]
    }
   ],
   "source": [
    "## Cleaning database\n",
    "last_id = 132\n",
    "problems = Problem.objects.filter(id__gt=last_id)\n",
    "# solutions_obj = Solution.objects.filter(problem__in=problems).update(ignore=True)\n",
    "print(\"Problems to be ignored: %d\" % problems.count())\n",
    "\n",
    "problems = Problem.objects.filter(id__lte=last_id)\n",
    "# problems = Problem.objects.all()\n",
    "print(\"Problems to be used: %d\" % problems.count())\n",
    "\n",
    "solutions_obj = Solution.objects.filter(problem__in=problems, ignore=False).order_by('id')\n",
    "# solutions_obj = Solution.objects.all().order_by('id')\n",
    "print(\"Solutions to be used: %d\" % solutions_obj.count())\n",
    "\n",
    "docs_id = []\n",
    "questions = []\n",
    "solutions = []\n",
    "\n",
    "# Fill separated structures\n",
    "for sol in solutions_obj:\n",
    "    docs_id.append(sol.id)\n",
    "    questions.append(sol.problem.content)\n",
    "    solutions.append(sol.content)\n",
    "\n",
    "print(\"Got %d documents\" %(solutions_obj.count()))"
   ]
  },
  {
   "cell_type": "code",
   "execution_count": 147,
   "metadata": {},
   "outputs": [],
   "source": [
    "concepts = SolutionConcept.objects.all()\n",
    "concepts_idx = list(Concept.objects.all().values_list('pk', flat=True).order_by('pk'))\n",
    "users_idx = list(concepts.values_list('user__pk', flat=True).distinct())"
   ]
  },
  {
   "cell_type": "code",
   "execution_count": 114,
   "metadata": {},
   "outputs": [],
   "source": [
    "import statsmodels.stats.inter_rater as irr"
   ]
  },
  {
   "cell_type": "code",
   "execution_count": 149,
   "metadata": {},
   "outputs": [
    {
     "name": "stdout",
     "output_type": "stream",
     "text": [
      "0 - 0.59\n",
      "1 - 0.53\n",
      "2 - 0.32\n",
      "3 - 0.45\n",
      "4 - 0.66\n",
      "5 - 0.52\n",
      "6 - 0.52\n",
      "7 - 0.39\n",
      "8 - 0.36\n",
      "9 - 0.52\n",
      "10 - 0.45\n",
      "11 - 0.23\n",
      "12 - 0.31\n",
      "13 - 0.59\n",
      "14 - 0.52\n",
      "15 - 0.63\n",
      "16 - 0.52\n",
      "17 - 0.32\n",
      "18 - 0.58\n",
      "19 - 0.25\n",
      "20 - 0.59\n",
      "21 - 0.45\n",
      "22 - 0.32\n",
      "23 - 0.73\n",
      "24 - 0.40\n",
      "25 - 0.21\n",
      "26 - 0.66\n",
      "27 - 0.45\n",
      "28 - 0.19\n",
      "29 - 0.52\n",
      "30 - 0.52\n",
      "31 - 0.39\n",
      "32 - 0.32\n",
      "33 - 0.39\n",
      "34 - 0.45\n",
      "35 - 0.59\n",
      "36 - 0.68\n",
      "37 - 0.39\n",
      "38 - 0.38\n",
      "39 - 0.31\n",
      "40 - 0.18\n",
      "41 - 0.32\n",
      "42 - 0.16\n",
      "43 - 0.20\n",
      "44 - 0.31\n",
      "45 - 0.44\n",
      "46 - 0.31\n",
      "47 - 0.39\n",
      "48 - 0.37\n",
      "49 - -0.02\n",
      "50 - 0.19\n",
      "51 - 0.39\n",
      "52 - 0.33\n",
      "53 - 0.45\n"
     ]
    },
    {
     "data": {
      "text/plain": [
       "0.1532194502158611"
      ]
     },
     "execution_count": 149,
     "metadata": {},
     "output_type": "execute_result"
    }
   ],
   "source": [
    "# rater_matrix = np.zeros((len(users_idx), len(concepts_idx)*len(solutions_obj)))\n",
    "# rater_matrix = np.zeros((len(users_idx), len(concepts_idx)))\n",
    "\n",
    "k_alpha_py = []\n",
    "for idx_solution, sol in enumerate(solutions_obj): \n",
    "    concept_solution = concepts.filter(solution=sol).values('user__pk', 'concept__pk')\n",
    "    users_idx = list(concept_solution.values_list('user__pk', flat=True).distinct())\n",
    "#     concepts_idx = list(concept_solution.values_list('concept__pk', flat=True).distinct().order_by('concept__pk'))\n",
    "    rater_matrix = np.zeros((len(users_idx), len(concepts_idx)))\n",
    "    \n",
    "    for pair in concept_solution:\n",
    "        i = users_idx.index(pair['user__pk'])\n",
    "#         j = idx_solution * len(concepts_idx) + concepts_idx.index(pair['concept__pk'])\n",
    "        j = concepts_idx.index(pair['concept__pk'])\n",
    "        rater_matrix[i, j] = 1\n",
    "\n",
    "#     rater_masked = ma.masked_values(rater_matrix, 0)\n",
    "    # Saving to use in R\n",
    "    np.savetxt(\"%s/rater_matrix_%d.csv\" % (folder, idx_solution), rater_matrix, delimiter=\",\")\n",
    "    # Calculate it in Python\n",
    "    k_alpha = krippendorff_alpha(rater_matrix, nominal_metric)\n",
    "    k_alpha_py.append(k_alpha)\n",
    "    print(\"%d - %.2f\" % (idx_solution, k_alpha))\n",
    "    \n",
    "np.mean(k_alpha_py)\n",
    "np.std(k_alpha_py)"
   ]
  },
  {
   "cell_type": "code",
   "execution_count": 152,
   "metadata": {},
   "outputs": [
    {
     "data": {
      "text/plain": [
       "0.1532194502158611"
      ]
     },
     "execution_count": 152,
     "metadata": {},
     "output_type": "execute_result"
    }
   ],
   "source": [
    "np.median(k_alpha_py)\n",
    "np.std(k_alpha_py)"
   ]
  },
  {
   "cell_type": "code",
   "execution_count": null,
   "metadata": {},
   "outputs": [],
   "source": [
    "irr.fleiss_kappa"
   ]
  },
  {
   "cell_type": "code",
   "execution_count": null,
   "metadata": {},
   "outputs": [],
   "source": [
    "%%R\n",
    "library(irr)"
   ]
  },
  {
   "cell_type": "code",
   "execution_count": 151,
   "metadata": {},
   "outputs": [
    {
     "name": "stdout",
     "output_type": "stream",
     "text": [
      " Krippendorff's alpha\n",
      "\n",
      " Subjects = 15 \n",
      "   Raters = 4 \n",
      "    alpha = -0.0359 \n"
     ]
    }
   ],
   "source": [
    "%%R\n",
    "\n",
    "data <- read.csv('data/tese/rater_matrix_49.csv', header=FALSE)\n",
    "# data <- replace(data, data == 0, NA)\n",
    "nmm <- as.matrix(data)\n",
    "\n",
    "# first assume the default nominal classification\n",
    "kripp.alpha(nmm)"
   ]
  },
  {
   "cell_type": "code",
   "execution_count": 123,
   "metadata": {},
   "outputs": [
    {
     "data": {
      "text/plain": [
       "array([4., 0., 0., 0., 0., 1., 0., 3., 0., 0., 0., 0., 0., 3., 1.])"
      ]
     },
     "execution_count": 123,
     "metadata": {},
     "output_type": "execute_result"
    }
   ],
   "source": [
    "rater_matrix.sum(axis=0)"
   ]
  },
  {
   "cell_type": "code",
   "execution_count": 115,
   "metadata": {},
   "outputs": [
    {
     "data": {
      "text/plain": [
       "array([[0., 0., 0., ..., 0., 0., 0.],\n",
       "       [0., 0., 0., ..., 0., 0., 0.],\n",
       "       [0., 0., 0., ..., 0., 0., 0.],\n",
       "       ...,\n",
       "       [0., 0., 0., ..., 0., 0., 0.],\n",
       "       [0., 0., 0., ..., 0., 0., 0.],\n",
       "       [0., 0., 0., ..., 0., 0., 0.]])"
      ]
     },
     "execution_count": 115,
     "metadata": {},
     "output_type": "execute_result"
    }
   ],
   "source": [
    "rater_matrix"
   ]
  },
  {
   "cell_type": "code",
   "execution_count": 87,
   "metadata": {},
   "outputs": [],
   "source": [
    "#! /usr/bin/env python\n",
    "# -*- coding: utf-8\n",
    "'''\n",
    "Python implementation of Krippendorff's alpha -- inter-rater reliability\n",
    "(c)2011-17 Thomas Grill (http://grrrr.org)\n",
    "Python version >= 2.4 required\n",
    "'''\n",
    "\n",
    "from __future__ import print_function\n",
    "try:\n",
    "    import numpy as np\n",
    "except ImportError:\n",
    "    np = None\n",
    "\n",
    "\n",
    "def nominal_metric(a, b):\n",
    "    return a != b\n",
    "\n",
    "\n",
    "def interval_metric(a, b):\n",
    "    return (a-b)**2\n",
    "\n",
    "\n",
    "def ratio_metric(a, b):\n",
    "    return ((a-b)/(a+b))**2\n",
    "\n",
    "\n",
    "def krippendorff_alpha(data, metric=interval_metric, force_vecmath=False, convert_items=float, missing_items=None):\n",
    "    '''\n",
    "    Calculate Krippendorff's alpha (inter-rater reliability):\n",
    "    \n",
    "    data is in the format\n",
    "    [\n",
    "        {unit1:value, unit2:value, ...},  # coder 1\n",
    "        {unit1:value, unit3:value, ...},   # coder 2\n",
    "        ...                            # more coders\n",
    "    ]\n",
    "    or \n",
    "    it is a sequence of (masked) sequences (list, numpy.array, numpy.ma.array, e.g.) with rows corresponding to coders and columns to items\n",
    "    \n",
    "    metric: function calculating the pairwise distance\n",
    "    force_vecmath: force vector math for custom metrics (numpy required)\n",
    "    convert_items: function for the type conversion of items (default: float)\n",
    "    missing_items: indicator for missing items (default: None)\n",
    "    '''\n",
    "    \n",
    "    # number of coders\n",
    "    m = len(data)\n",
    "    \n",
    "    # set of constants identifying missing values\n",
    "    if missing_items is None:\n",
    "        maskitems = []\n",
    "    else:\n",
    "        maskitems = list(missing_items)\n",
    "    if np is not None:\n",
    "        maskitems.append(np.ma.masked_singleton)\n",
    "    \n",
    "    # convert input data to a dict of items\n",
    "    units = {}\n",
    "    for d in data:\n",
    "        try:\n",
    "            # try if d behaves as a dict\n",
    "            diter = d.items()\n",
    "        except AttributeError:\n",
    "            # sequence assumed for d\n",
    "            diter = enumerate(d)\n",
    "            \n",
    "        for it, g in diter:\n",
    "            if g not in maskitems:\n",
    "                try:\n",
    "                    its = units[it]\n",
    "                except KeyError:\n",
    "                    its = []\n",
    "                    units[it] = its\n",
    "                its.append(convert_items(g))\n",
    "\n",
    "\n",
    "    units = dict((it, d) for it, d in units.items() if len(d) > 1)  # units with pairable values\n",
    "    n = sum(len(pv) for pv in units.values())  # number of pairable values\n",
    "    \n",
    "    if n == 0:\n",
    "        raise ValueError(\"No items to compare.\")\n",
    "    \n",
    "    np_metric = (np is not None) and ((metric in (interval_metric, nominal_metric, ratio_metric)) or force_vecmath)\n",
    "    \n",
    "    Do = 0.\n",
    "    for grades in units.values():\n",
    "        if np_metric:\n",
    "            gr = np.asarray(grades)\n",
    "            Du = sum(np.sum(metric(gr, gri)) for gri in gr)\n",
    "        else:\n",
    "            Du = sum(metric(gi, gj) for gi in grades for gj in grades)\n",
    "        Do += Du/float(len(grades)-1)\n",
    "    Do /= float(n)\n",
    "\n",
    "    if Do == 0:\n",
    "        return 1.\n",
    "\n",
    "    De = 0.\n",
    "    for g1 in units.values():\n",
    "        if np_metric:\n",
    "            d1 = np.asarray(g1)\n",
    "            for g2 in units.values():\n",
    "                De += sum(np.sum(metric(d1, gj)) for gj in g2)\n",
    "        else:\n",
    "            for g2 in units.values():\n",
    "                De += sum(metric(gi, gj) for gi in g1 for gj in g2)\n",
    "    De /= float(n*(n-1))\n",
    "\n",
    "    return 1.-Do/De if (Do and De) else 1."
   ]
  },
  {
   "cell_type": "code",
   "execution_count": 104,
   "metadata": {},
   "outputs": [
    {
     "name": "stdout",
     "output_type": "stream",
     "text": [
      "nominal metric: 1.000\n",
      "interval metric: 1.000\n"
     ]
    }
   ],
   "source": [
    "array = rater_masked\n",
    "\n",
    "print(\"nominal metric: %.3f\" % krippendorff_alpha(array, nominal_metric, missing_items=missing))\n",
    "print(\"interval metric: %.3f\" % krippendorff_alpha(array, interval_metric, missing_items=missing))"
   ]
  }
 ],
 "metadata": {
  "kernelspec": {
   "display_name": "Django Shell-Plus",
   "language": "python",
   "name": "django_extensions"
  },
  "language_info": {
   "codemirror_mode": {
    "name": "ipython",
    "version": 3
   },
   "file_extension": ".py",
   "mimetype": "text/x-python",
   "name": "python",
   "nbconvert_exporter": "python",
   "pygments_lexer": "ipython3",
   "version": "3.6.10"
  }
 },
 "nbformat": 4,
 "nbformat_minor": 4
}
