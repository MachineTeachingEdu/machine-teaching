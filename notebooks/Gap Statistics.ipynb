{
 "cells": [
  {
   "cell_type": "code",
   "execution_count": 1,
   "metadata": {},
   "outputs": [],
   "source": [
    "from sklearn import datasets\n",
    "from scipy.cluster import hierarchy\n",
    "from sklearn.cluster import KMeans\n",
    "from scipy.spatial.distance import pdist\n",
    "import scipy\n",
    "import numpy as np\n",
    "from gap_statistic import OptimalK"
   ]
  },
  {
   "cell_type": "code",
   "execution_count": 2,
   "metadata": {},
   "outputs": [],
   "source": [
    "import matplotlib.pyplot as plt\n",
    "%matplotlib inline"
   ]
  },
  {
   "cell_type": "code",
   "execution_count": 24,
   "metadata": {},
   "outputs": [
    {
     "data": {
      "text/plain": [
       "(6000, 2)"
      ]
     },
     "execution_count": 24,
     "metadata": {},
     "output_type": "execute_result"
    },
    {
     "data": {
      "image/png": "[encoded data removed]",
      "text/plain": [
       "<Figure size 432x288 with 1 Axes>"
      ]
     },
     "metadata": {
      "needs_background": "light"
     },
     "output_type": "display_data"
    }
   ],
   "source": [
    "blob1 = np.random.multivariate_normal([0,0], [[1,0],[0,1]], 1000)\n",
    "blob2 = np.random.multivariate_normal([5,5], [[0.5,0],[0,0.5]], 1000)\n",
    "blob3 = np.random.multivariate_normal([6,0], [[0.5,0],[0,0.5]], 1000)\n",
    "blob4 = np.random.multivariate_normal([0,6], [[0.5,0],[0,0.5]], 1000)\n",
    "blob5 = np.random.multivariate_normal([11,6], [[0.5,0],[0,0.5]], 1000)\n",
    "blob6 = np.random.multivariate_normal([12,0], [[0.5,0],[0,0.5]], 1000)\n",
    "plt.scatter(blob1[:,0], blob1[:,1])\n",
    "plt.scatter(blob2[:,0], blob2[:,1])\n",
    "plt.scatter(blob3[:,0], blob3[:,1])\n",
    "plt.scatter(blob4[:,0], blob4[:,1])\n",
    "plt.scatter(blob5[:,0], blob5[:,1])\n",
    "plt.scatter(blob6[:,0], blob6[:,1])\n",
    "# data_X = np.vstack((blob1,blob2))\n",
    "# data_X = np.vstack((blob1,blob2,blob3))\n",
    "# data_X = np.vstack((blob1,blob2,blob3,blob4))\n",
    "# data_X = np.vstack((blob1,blob2,blob3,blob4,blob5))\n",
    "data_X = np.vstack((blob1,blob2,blob3,blob4,blob5,blob6))\n",
    "data_X.shape"
   ]
  },
  {
   "cell_type": "markdown",
   "metadata": {},
   "source": [
    "### Gap Statistics\n",
    "$n_r = |C_r|$ (cardinalidade do cluster r)\n",
    "\n",
    "$D_r = \\sum_{i,i'\\epsilon C_r}{d_{i,i'}}$ (pairwise-distance entre todos os elementos de um cluster)\n",
    "\n",
    "$W_k = \\sum_{r=1}^{k}{\\frac{1}{2n_r}D_r}$ (média ponderada da soma das distâncias dentro de cada cluster - pooled within-cluster sum around the cluster means)\n",
    "\n",
    "A ideia não é escolher a quantidade de clusters que minimiza a distância interna, pois esse sempre diminui conforme aumentamos o número de clusters. A estatística busca encontrar o valor que minimiza essa distância quando comparado a uma distribuição de referência dos dados. (Ou seja, a quantidade de clusters que mais faz diferença pela clusterização e não pelo fato de estamos aumentando o número de clusters)\n",
    "\n",
    "$Gap_n(k) = E^*\\{log(W_k)\\} - log(W_k)$ (onde $E^*$ é o valor esperado de uma amostra de tamanho $n$ da distribuição de referência. O valor estimado $\\widehat{k}$ é o valor que maximiza o $Gap_n(k)$ depois de levar em consideração a distribuição."
   ]
  },
  {
   "cell_type": "code",
   "execution_count": 25,
   "metadata": {},
   "outputs": [],
   "source": [
    "def calculate_wk(X, y, distance='euclidean'):\n",
    "    \"\"\" Calculate nr, dr and wk \"\"\"\n",
    "    min_k = np.array(y).min()\n",
    "    max_k = np.array(y).max()\n",
    "    wk = []\n",
    "    \n",
    "    for i in range(min_k, max_k+1):\n",
    "        # Calculate Dr for each cluster\n",
    "        obs_idx = np.where(y == i)[0]\n",
    "        nr = obs_idx.shape[0]\n",
    "        \n",
    "#         if nr == 0:\n",
    "#             raise TypeError(\"There are empty clusters.\")\n",
    "        \n",
    "        # Get pairwise distance\n",
    "        dist = pdist(X[obs_idx], distance).sum()\n",
    "        \n",
    "        # Calculate Wk\n",
    "        wki = dist/(2*nr)\n",
    "        wk.append(wki)\n",
    "    \n",
    "    return np.array(wk).sum()\n",
    "\n",
    "def get_clusters(X, k, mode='hierarquical', **kwargs):\n",
    "    \"\"\" Different clustering modes. \"\"\"\n",
    "    if mode == 'hierarquical':\n",
    "        # Create linkage matrix for original data\n",
    "        Z = hierarchy.linkage(X, **kwargs)\n",
    "        clusters = hierarchy.fcluster(Z, k, criterion='maxclust')    \n",
    "    elif mode == 'kmeans':\n",
    "        clusters = KMeans(n_clusters=k).fit_predict(X)\n",
    "    return clusters"
   ]
  },
  {
   "cell_type": "markdown",
   "metadata": {},
   "source": [
    "### Prepare reference dataset"
   ]
  },
  {
   "cell_type": "code",
   "execution_count": 26,
   "metadata": {},
   "outputs": [],
   "source": [
    "def prepare_ref_dataset(data, nrefs=20):\n",
    "    shape = data.shape\n",
    "    # Set bounding box\n",
    "    tops = data.max(axis=0)\n",
    "    bots = data.min(axis=0)\n",
    "\n",
    "    # Generate distribution\n",
    "    rands = scipy.random.random_sample(size=(shape[0],shape[1],nrefs))\n",
    "\n",
    "    # Set offset for random uniform samples to be inside bounding boxes\n",
    "    dists = scipy.matrix(scipy.diag(tops-bots))\n",
    "    for i in range(nrefs):\n",
    "        rands[:,:,i] = rands[:,:,i]*dists+bots\n",
    "        \n",
    "    return rands"
   ]
  },
  {
   "cell_type": "markdown",
   "metadata": {},
   "source": [
    "### Cluster"
   ]
  },
  {
   "cell_type": "code",
   "execution_count": 27,
   "metadata": {},
   "outputs": [
    {
     "data": {
      "text/html": [
       "<p>OptimalK(n_jobs=4, parallel_backend=\"rust\")</p>"
      ],
      "text/plain": [
       "OptimalK(n_jobs=4, parallel_backend=\"rust\")"
      ]
     },
     "execution_count": 27,
     "metadata": {},
     "output_type": "execute_result"
    }
   ],
   "source": [
    "optimalK = OptimalK(parallel_backend='rust')\n",
    "optimalK"
   ]
  },
  {
   "cell_type": "code",
   "execution_count": 28,
   "metadata": {
    "scrolled": false
   },
   "outputs": [],
   "source": [
    "def calculate_gap(X, refs, k_max, mode='hierarquical'):\n",
    "    gaps = []\n",
    "    gaps2 = []\n",
    "    error = []\n",
    "    wks = []\n",
    "    wkbs = []\n",
    "    \n",
    "    for k in range(1,k_max+1):\n",
    "        # Calculate Wk for original data\n",
    "        clusters = get_clusters(X, k, mode, method='ward')\n",
    "        wk = calculate_wk(X, clusters)\n",
    "        wks.append(wk)\n",
    "        log_wk = np.log(wk)\n",
    "\n",
    "        # Calculate Wk for reference distribution\n",
    "        wk_refs = []\n",
    "        for ref in range(refs.shape[2]):\n",
    "            clusters = get_clusters(refs[:,:,ref], k, mode, method='ward')\n",
    "            wk_ref = calculate_wk(refs[:,:,ref], clusters)\n",
    "            log_wk_ref = np.log(wk_ref)\n",
    "            wk_refs.append(log_wk_ref)\n",
    "        wkb = np.array(wk_refs)\n",
    "        wkb_sum = wkb.sum()\n",
    "        wkb_std = wkb.std()\n",
    "        B = wkb.shape[0]\n",
    "\n",
    "        # Calculate Gap\n",
    "        wkbs.append(1/B*wkb_sum)\n",
    "        gap_k = (1/B*wkb_sum) - log_wk\n",
    "        gaps.append(gap_k)\n",
    "        error.append(wkb_std*np.sqrt(1+(1/B)))\n",
    "#         error2.append(wkb_std*np.sqrt(1+(1/B)))\n",
    "    \n",
    "    return gaps, error, wks, wkbs, gaps2\n",
    "\n",
    "def define_k(gaps, error):\n",
    "    for i in range(1,k_max):\n",
    "        k = i-1\n",
    "        gapi = gaps[k]\n",
    "        gapi1 = gaps[k+1]\n",
    "        std = error[k+1]\n",
    "        \n",
    "        if gapi >= (gapi1-std):\n",
    "            print(\"k = %d\" % i)\n",
    "            break\n",
    "            \n",
    "    diff = np.array(gaps) - np.array(error)\n",
    "    gaps[1:] = gaps[:-1]\n",
    "    gap_diff = np.array(gaps) > diff\n",
    "    k = np.argmax(gap_diff[1:] == True)\n",
    "    print(\"k = %d\" % (k+1))\n",
    "    \n"
   ]
  },
  {
   "cell_type": "code",
   "execution_count": 29,
   "metadata": {},
   "outputs": [
    {
     "data": {
      "image/png": "[encoded data removed]",
      "text/plain": [
       "<Figure size 432x288 with 1 Axes>"
      ]
     },
     "metadata": {
      "needs_background": "light"
     },
     "output_type": "display_data"
    },
    {
     "name": "stdout",
     "output_type": "stream",
     "text": [
      "k = 6\n",
      "k = 6\n",
      "Optimal K: 9\n",
      "CPU times: user 7min 16s, sys: 7min 28s, total: 14min 44s\n",
      "Wall time: 6min 43s\n"
     ]
    }
   ],
   "source": [
    "%%time\n",
    "refs = prepare_ref_dataset(data_X, nrefs=100)\n",
    "k_max = 10\n",
    "\n",
    "# Calculate gaps and error\n",
    "gaps, error, wks, wkbs, gaps2 = calculate_gap(data_X, refs, k_max, 'kmeans')\n",
    "\n",
    "# Plot data\n",
    "plt.errorbar(range(1,len(gaps)+1), gaps, yerr=error)\n",
    "plt.show()\n",
    "\n",
    "# Get best k\n",
    "k = define_k(gaps, error)\n",
    "k2 = optimalK(data_X, cluster_array=np.arange(1, 11))\n",
    "print(\"Optimal K: %d\" % k2)"
   ]
  },
  {
   "cell_type": "code",
   "execution_count": 90,
   "metadata": {},
   "outputs": [
    {
     "data": {
      "text/html": [
       "<div>\n",
       "<style scoped>\n",
       "    .dataframe tbody tr th:only-of-type {\n",
       "        vertical-align: middle;\n",
       "    }\n",
       "\n",
       "    .dataframe tbody tr th {\n",
       "        vertical-align: top;\n",
       "    }\n",
       "\n",
       "    .dataframe thead th {\n",
       "        text-align: right;\n",
       "    }\n",
       "</style>\n",
       "<table border=\"1\" class=\"dataframe\">\n",
       "  <thead>\n",
       "    <tr style=\"text-align: right;\">\n",
       "      <th></th>\n",
       "      <th>n_clusters</th>\n",
       "      <th>gap_value</th>\n",
       "    </tr>\n",
       "  </thead>\n",
       "  <tbody>\n",
       "    <tr>\n",
       "      <th>0</th>\n",
       "      <td>1.0</td>\n",
       "      <td>-4.637896</td>\n",
       "    </tr>\n",
       "    <tr>\n",
       "      <th>1</th>\n",
       "      <td>2.0</td>\n",
       "      <td>-4.610715</td>\n",
       "    </tr>\n",
       "    <tr>\n",
       "      <th>2</th>\n",
       "      <td>3.0</td>\n",
       "      <td>-4.043241</td>\n",
       "    </tr>\n",
       "    <tr>\n",
       "      <th>3</th>\n",
       "      <td>4.0</td>\n",
       "      <td>-2.701449</td>\n",
       "    </tr>\n",
       "    <tr>\n",
       "      <th>4</th>\n",
       "      <td>5.0</td>\n",
       "      <td>-2.881190</td>\n",
       "    </tr>\n",
       "    <tr>\n",
       "      <th>5</th>\n",
       "      <td>6.0</td>\n",
       "      <td>-2.807741</td>\n",
       "    </tr>\n",
       "    <tr>\n",
       "      <th>6</th>\n",
       "      <td>7.0</td>\n",
       "      <td>-2.953758</td>\n",
       "    </tr>\n",
       "    <tr>\n",
       "      <th>7</th>\n",
       "      <td>8.0</td>\n",
       "      <td>-3.718136</td>\n",
       "    </tr>\n",
       "    <tr>\n",
       "      <th>8</th>\n",
       "      <td>9.0</td>\n",
       "      <td>-3.361590</td>\n",
       "    </tr>\n",
       "    <tr>\n",
       "      <th>9</th>\n",
       "      <td>10.0</td>\n",
       "      <td>-3.282791</td>\n",
       "    </tr>\n",
       "  </tbody>\n",
       "</table>\n",
       "</div>"
      ],
      "text/plain": [
       "   n_clusters  gap_value\n",
       "0         1.0  -4.637896\n",
       "1         2.0  -4.610715\n",
       "2         3.0  -4.043241\n",
       "3         4.0  -2.701449\n",
       "4         5.0  -2.881190\n",
       "5         6.0  -2.807741\n",
       "6         7.0  -2.953758\n",
       "7         8.0  -3.718136\n",
       "8         9.0  -3.361590\n",
       "9        10.0  -3.282791"
      ]
     },
     "execution_count": 90,
     "metadata": {},
     "output_type": "execute_result"
    }
   ],
   "source": [
    "optimalK.gap_df"
   ]
  },
  {
   "cell_type": "code",
   "execution_count": 101,
   "metadata": {},
   "outputs": [
    {
     "data": {
      "text/plain": [
       "[-0.0005351355070555286,\n",
       " -0.0005351355070555286,\n",
       " 0.008249984237356678,\n",
       " -0.19399035701360656,\n",
       " -0.003398691214432148,\n",
       " 0.40541379978306136,\n",
       " 0.2229231220653327,\n",
       " 0.04666713786249588,\n",
       " 0.014829163328476724,\n",
       " -0.0977635099045635]"
      ]
     },
     "execution_count": 101,
     "metadata": {},
     "output_type": "execute_result"
    }
   ],
   "source": [
    "gaps"
   ]
  },
  {
   "cell_type": "code",
   "execution_count": 102,
   "metadata": {},
   "outputs": [
    {
     "data": {
      "text/plain": [
       "[0.025661121540529935,\n",
       " 0.25663902962358087,\n",
       " 0.33784323973853914,\n",
       " 0.17322539220326344,\n",
       " 0.35175046000413523,\n",
       " 0.3450580047822025,\n",
       " 0.37709004957911507,\n",
       " 0.3883478312366023,\n",
       " 0.26480028832925706,\n",
       " 0.36884281780531647]"
      ]
     },
     "execution_count": 102,
     "metadata": {},
     "output_type": "execute_result"
    }
   ],
   "source": [
    "error"
   ]
  },
  {
   "cell_type": "code",
   "execution_count": 61,
   "metadata": {},
   "outputs": [
    {
     "data": {
      "text/plain": [
       "[<matplotlib.lines.Line2D at 0x7fd369aa87b8>]"
      ]
     },
     "execution_count": 61,
     "metadata": {},
     "output_type": "execute_result"
    },
    {
     "data": {
      "image/png": "[encoded data removed]",
      "text/plain": [
       "<Figure size 432x288 with 1 Axes>"
      ]
     },
     "metadata": {
      "needs_background": "light"
     },
     "output_type": "display_data"
    }
   ],
   "source": [
    "plt.plot(list(range(1,k_max+1)), wks)"
   ]
  },
  {
   "cell_type": "code",
   "execution_count": 62,
   "metadata": {},
   "outputs": [
    {
     "data": {
      "text/plain": [
       "[<matplotlib.lines.Line2D at 0x7fd369aaf208>]"
      ]
     },
     "execution_count": 62,
     "metadata": {},
     "output_type": "execute_result"
    },
    {
     "data": {
      "image/png": "[encoded data removed]",
      "text/plain": [
       "<Figure size 432x288 with 1 Axes>"
      ]
     },
     "metadata": {
      "needs_background": "light"
     },
     "output_type": "display_data"
    }
   ],
   "source": [
    "plt.plot(list(range(1,k_max+1)), np.log(wks))\n",
    "plt.plot(list(range(1,k_max+1)), wkbs)"
   ]
  }
 ],
 "metadata": {
  "kernelspec": {
   "display_name": "Python 3",
   "language": "python",
   "name": "python3"
  },
  "language_info": {
   "codemirror_mode": {
    "name": "ipython",
    "version": 3
   },
   "file_extension": ".py",
   "mimetype": "text/x-python",
   "name": "python",
   "nbconvert_exporter": "python",
   "pygments_lexer": "ipython3",
   "version": "3.6.2"
  }
 },
 "nbformat": 4,
 "nbformat_minor": 2
}
