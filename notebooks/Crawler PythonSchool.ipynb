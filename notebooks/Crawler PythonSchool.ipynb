{
 "cells": [
  {
   "cell_type": "code",
   "execution_count": 1,
   "metadata": {
    "collapsed": true
   },
   "outputs": [],
   "source": [
    "import os\n",
    "from urllib.parse import quote\n",
    "from datetime import datetime\n",
    "from db import PythonProblems\n",
    "from bs4 import BeautifulSoup\n",
    "import requests"
   ]
  },
  {
   "cell_type": "markdown",
   "metadata": {},
   "source": [
    "### Creating and connecting to database"
   ]
  },
  {
   "cell_type": "code",
   "execution_count": 23,
   "metadata": {
    "collapsed": true
   },
   "outputs": [],
   "source": [
    "db = PythonProblems('python.sqlite', 'init_tables.sql')"
   ]
  },
  {
   "cell_type": "markdown",
   "metadata": {},
   "source": [
    "#### 1. First crawler is for basic exercises, title, problem and solution come directly from the code"
   ]
  },
  {
   "cell_type": "code",
   "execution_count": 3,
   "metadata": {
    "collapsed": true
   },
   "outputs": [],
   "source": [
    "path = 'Basics-master'\n",
    "folders = os.listdir(path)"
   ]
  },
  {
   "cell_type": "code",
   "execution_count": 4,
   "metadata": {},
   "outputs": [
    {
     "name": "stdout",
     "output_type": "stream",
     "text": [
      "CPU times: user 771 µs, sys: 0 ns, total: 771 µs\n",
      "Wall time: 803 µs\n"
     ]
    }
   ],
   "source": [
    "%%time\n",
    "folders.sort()\n",
    "additional = []\n",
    "problems = []\n",
    "solutions = []\n",
    "idx = 0\n",
    "for folder in folders:\n",
    "    if folder[0] in ['1', '2', '3']:\n",
    "        folder_path = os.path.join(path+'/'+folder)\n",
    "        files = os.listdir(folder_path)\n",
    "        for file in files:\n",
    "            file_path = os.path.join(folder_path+'/'+file)\n",
    "            if os.path.isfile(file_path) and file[-2:] == 'py':\n",
    "                with open(file_path) as f:\n",
    "                    content = f.readlines()\n",
    "                for line, text in enumerate(content):\n",
    "                    # Line is comment and the problem is written\n",
    "                    if text.strip() and text.strip()[0] != '#':\n",
    "                        problem = content[:line]\n",
    "                        solution = content[line:]\n",
    "                        break\n",
    "                problem_text = ' '.join(problem).replace('#','').strip()\n",
    "                link = quote(\"https://github.com/pythonschool/Basics/tree/master/%s/%s\" % (folder, file),\n",
    "                             safe=\"%/:=&?~#+!$,;'@()*[]\")\n",
    "                problems.append({\"title\": problem[0].replace('#','').strip(), \"difficulty\": 1, \"link\": link,\n",
    "                     \"content\": problem_text, \"retrieved_date\": datetime.now(),\n",
    "                     \"crawler\": \"PythonSchool\"})\n",
    "                solution_text = ' '.join(solution)\n",
    "                solutions.append({\"content\": solution_text, \"link\": link,\n",
    "                                  \"retrieved_date\": datetime.now(), \"ignore\": False,\n",
    "                                 \"idx\": idx})\n",
    "                idx +=1"
   ]
  },
  {
   "cell_type": "code",
   "execution_count": 5,
   "metadata": {},
   "outputs": [
    {
     "name": "stdout",
     "output_type": "stream",
     "text": [
      "Got 7 problems inserted, 7 solutions inserted, 0 problems repeated and 0 solutions repeated\n"
     ]
    }
   ],
   "source": [
    "db.insert_rows(problems, solutions)\n",
    "tp, ts, rp, rs = db.populate()\n",
    "#db.close_connection()\n",
    "print(\"Got %d problems inserted, %d solutions inserted, %d problems repeated and %d solutions repeated\" % (\n",
    "    tp, ts, rp, rs))"
   ]
  },
  {
   "cell_type": "markdown",
   "metadata": {},
   "source": [
    "### 2. Additional Exercises "
   ]
  },
  {
   "cell_type": "code",
   "execution_count": 69,
   "metadata": {
    "collapsed": true
   },
   "outputs": [],
   "source": [
    "def get_page(url):\n",
    "    response = requests.get(url, verify=False)\n",
    "    data = response.text\n",
    "    soup = BeautifulSoup(data, 'html5lib')\n",
    "    return soup\n",
    "\n",
    "def get_problems(soup, url, allowed_titles = ['exercises'], allowed_tags=['li']):\n",
    "    problems = []\n",
    "    listas = soup.find_all(\"h2\")\n",
    "\n",
    "    for nextNode in listas:\n",
    "        for element in allowed_titles:\n",
    "            if element in nextNode.text.lower():\n",
    "                title = nextNode.text\n",
    "                nextNode = nextNode.findNext()\n",
    "                while nextNode.name != 'h2' and nextNode.name != 'div':\n",
    "                    try:\n",
    "                        tag_name = nextNode.name\n",
    "                    except AttributeError:\n",
    "                        tag_name = \"\"\n",
    "                    if tag_name in allowed_tags:\n",
    "                        problem_text = nextNode.text\n",
    "                        problems.append({\"title\": title, \"link\": url,\n",
    "                             \"content\": problem_text, \"retrieved_date\": datetime.now(),\n",
    "                             \"crawler\": \"PythonSchool\"})\n",
    "                    nextNode = nextNode.findNext()\n",
    "    \n",
    "    return problems\n",
    "\n",
    "def get_solutions(problems, folder_partial):\n",
    "    solutions = []\n",
    "    folder = os.path.join(path, folder_partial)\n",
    "    for idx in range(1, len(problems)+1):\n",
    "        filename_partial = 'additional_exercise%d.py'%idx\n",
    "        filename = os.path.join(folder, filename_partial)\n",
    "        with open(filename) as f:\n",
    "            content = f.readlines()\n",
    "            for line, text in enumerate(content):\n",
    "                # Line is comment. Skip it.\n",
    "                if text.strip() and text.strip()[0] != '#':\n",
    "                    solution = content[line:]\n",
    "                    break\n",
    "            link = quote(\"https://github.com/pythonschool/Basics/tree/master/%s/%s\" % (folder_partial, \n",
    "                                                                                       filename_partial),\n",
    "                                 safe=\"%/:=&?~#+!$,;'@()*[]\")\n",
    "            solution_text = ' '.join(solution)\n",
    "            solutions.append({\"content\": solution_text, \"link\": link, \"retrieved_date\": datetime.now(), \"ignore\": False,\n",
    "                              \"idx\": idx-1})\n",
    "            \n",
    "    return solutions\n",
    "\n",
    "def insert(db, problems, solutions):\n",
    "    db.insert_rows(problems, solutions)\n",
    "    tp, ts, rp, rs = db.populate()\n",
    "    print(\"Got %d problems inserted, %d solutions inserted, %d problems repeated and %d solutions repeated\" % (\n",
    "          tp, ts, rp, rs))"
   ]
  },
  {
   "cell_type": "code",
   "execution_count": 70,
   "metadata": {},
   "outputs": [
    {
     "name": "stderr",
     "output_type": "stream",
     "text": [
      "/home/lmoraes/miniconda/envs/machine_teaching/lib/python3.6/site-packages/requests/packages/urllib3/connectionpool.py:852: InsecureRequestWarning: Unverified HTTPS request is being made. Adding certificate verification is strongly advised. See: https://urllib3.readthedocs.io/en/latest/advanced-usage.html#ssl-warnings\n",
      "  InsecureRequestWarning)\n"
     ]
    },
    {
     "name": "stdout",
     "output_type": "stream",
     "text": [
      "Got 0 problems inserted, 0 solutions inserted, 17 problems repeated and 0 solutions repeated\n"
     ]
    }
   ],
   "source": [
    "### Additional Exercises 1\n",
    "url = \"https://pythonschool.net/basics/string-operation-and-math-unit-exercises/\"\n",
    "soup = get_page(url)\n",
    "problems = get_problems(soup, url)\n",
    "folder_partial = '1 - Variables/Additional Exercises'\n",
    "solutions = get_solutions(problems, folder_partial)\n",
    "insert(db, problems, solutions)\n",
    "\n",
    "### Had to fix some problem-solution correspondence by hand"
   ]
  },
  {
   "cell_type": "code",
   "execution_count": 71,
   "metadata": {},
   "outputs": [
    {
     "name": "stdout",
     "output_type": "stream",
     "text": [
      "Got 0 problems inserted, 0 solutions inserted, 10 problems repeated and 0 solutions repeated\n"
     ]
    },
    {
     "name": "stderr",
     "output_type": "stream",
     "text": [
      "/home/lmoraes/miniconda/envs/machine_teaching/lib/python3.6/site-packages/requests/packages/urllib3/connectionpool.py:852: InsecureRequestWarning: Unverified HTTPS request is being made. Adding certificate verification is strongly advised. See: https://urllib3.readthedocs.io/en/latest/advanced-usage.html#ssl-warnings\n",
      "  InsecureRequestWarning)\n"
     ]
    }
   ],
   "source": [
    "### Additional Exercises 2\n",
    "url = \"https://pythonschool.net/basics/selection-exercises/\"\n",
    "soup = get_page(url)\n",
    "problems = get_problems(soup, url)\n",
    "folder_partial = '2 - Selection/Additional Exercises 2'\n",
    "solutions = get_solutions(problems, folder_partial)\n",
    "insert(db, problems, solutions)"
   ]
  },
  {
   "cell_type": "code",
   "execution_count": 72,
   "metadata": {},
   "outputs": [
    {
     "name": "stderr",
     "output_type": "stream",
     "text": [
      "/home/lmoraes/miniconda/envs/machine_teaching/lib/python3.6/site-packages/requests/packages/urllib3/connectionpool.py:852: InsecureRequestWarning: Unverified HTTPS request is being made. Adding certificate verification is strongly advised. See: https://urllib3.readthedocs.io/en/latest/advanced-usage.html#ssl-warnings\n",
      "  InsecureRequestWarning)\n"
     ]
    },
    {
     "name": "stdout",
     "output_type": "stream",
     "text": [
      "Got 0 problems inserted, 0 solutions inserted, 11 problems repeated and 0 solutions repeated\n"
     ]
    }
   ],
   "source": [
    "### Additional Exercises 3\n",
    "url = \"https://pythonschool.net/basics/iteration-exercises/\"\n",
    "soup = get_page(url)\n",
    "problems = get_problems(soup, url)\n",
    "folder_partial = '3 - Iteration/Additional Exercises 3'\n",
    "del problems[1]\n",
    "del problems[1]\n",
    "del problems[1]\n",
    "solutions = get_solutions(problems, folder_partial)\n",
    "insert(db, problems, solutions)"
   ]
  },
  {
   "cell_type": "code",
   "execution_count": 73,
   "metadata": {},
   "outputs": [
    {
     "name": "stderr",
     "output_type": "stream",
     "text": [
      "/home/lmoraes/miniconda/envs/machine_teaching/lib/python3.6/site-packages/requests/packages/urllib3/connectionpool.py:852: InsecureRequestWarning: Unverified HTTPS request is being made. Adding certificate verification is strongly advised. See: https://urllib3.readthedocs.io/en/latest/advanced-usage.html#ssl-warnings\n",
      "  InsecureRequestWarning)\n"
     ]
    },
    {
     "name": "stdout",
     "output_type": "stream",
     "text": [
      "Got 0 problems inserted, 0 solutions inserted, 9 problems repeated and 0 solutions repeated\n"
     ]
    }
   ],
   "source": [
    "### Additional Exercises 4\n",
    "url = \"https://pythonschool.net/basics/lists-exercises/\"\n",
    "soup = get_page(url)\n",
    "problems = get_problems(soup, url, ['exercises', 'quiz', 'menu'])\n",
    "folder_partial = '4 - Lists/Additional exercises 4'\n",
    "solutions = get_solutions(problems, folder_partial)\n",
    "insert(db, problems, solutions)"
   ]
  },
  {
   "cell_type": "code",
   "execution_count": 74,
   "metadata": {},
   "outputs": [
    {
     "name": "stdout",
     "output_type": "stream",
     "text": [
      "Got 0 problems inserted, 0 solutions inserted, 9 problems repeated and 0 solutions repeated\n"
     ]
    },
    {
     "name": "stderr",
     "output_type": "stream",
     "text": [
      "/home/lmoraes/miniconda/envs/machine_teaching/lib/python3.6/site-packages/requests/packages/urllib3/connectionpool.py:852: InsecureRequestWarning: Unverified HTTPS request is being made. Adding certificate verification is strongly advised. See: https://urllib3.readthedocs.io/en/latest/advanced-usage.html#ssl-warnings\n",
      "  InsecureRequestWarning)\n"
     ]
    }
   ],
   "source": [
    "### Additional Exercises 5\n",
    "url = \"https://pythonschool.net/basics/functions-exercises/\"\n",
    "soup = get_page(url)\n",
    "#problems = get_problems(soup, url, ['task'])\n",
    "folder_partial = '5 - Functions/Additional Exercises 5'\n",
    "solutions = get_solutions(problems, folder_partial)\n",
    "insert(db, problems, solutions)"
   ]
  },
  {
   "cell_type": "code",
   "execution_count": 104,
   "metadata": {},
   "outputs": [
    {
     "name": "stderr",
     "output_type": "stream",
     "text": [
      "/home/lmoraes/miniconda/envs/machine_teaching/lib/python3.6/site-packages/requests/packages/urllib3/connectionpool.py:852: InsecureRequestWarning: Unverified HTTPS request is being made. Adding certificate verification is strongly advised. See: https://urllib3.readthedocs.io/en/latest/advanced-usage.html#ssl-warnings\n",
      "  InsecureRequestWarning)\n",
      "/home/lmoraes/miniconda/envs/machine_teaching/lib/python3.6/site-packages/requests/packages/urllib3/connectionpool.py:852: InsecureRequestWarning: Unverified HTTPS request is being made. Adding certificate verification is strongly advised. See: https://urllib3.readthedocs.io/en/latest/advanced-usage.html#ssl-warnings\n",
      "  InsecureRequestWarning)\n",
      "/home/lmoraes/miniconda/envs/machine_teaching/lib/python3.6/site-packages/requests/packages/urllib3/connectionpool.py:852: InsecureRequestWarning: Unverified HTTPS request is being made. Adding certificate verification is strongly advised. See: https://urllib3.readthedocs.io/en/latest/advanced-usage.html#ssl-warnings\n",
      "  InsecureRequestWarning)\n"
     ]
    },
    {
     "name": "stdout",
     "output_type": "stream",
     "text": [
      "Got 5 problems inserted, 5 solutions inserted, 0 problems repeated and 0 solutions repeated\n"
     ]
    }
   ],
   "source": [
    "### Additional Exercises 6\n",
    "urls = [\"https://pythonschool.net/basics/reading-from-a-file-part-2/\",\n",
    "        \"https://pythonschool.net/basics/writing-to-a-file/\",\n",
    "        \"https://pythonschool.net/basics/extending-the-quiz/\"]\n",
    "problems = []\n",
    "for url in urls:\n",
    "    soup = get_page(url)\n",
    "    problems_temp = get_problems(soup, url, ['exercise', 'extension'], ['li', 'p'])\n",
    "    problems.extend(problems_temp)\n",
    "\n",
    "del problems[2]\n",
    "del problems[2]\n",
    "del problems[2]\n",
    "del problems[2]\n",
    "\n",
    "problem_temp = ''\n",
    "for p in problems[4:]:\n",
    "    problem_temp += p['content'] + '. '\n",
    "    \n",
    "problems[4]['content'] = problem_temp\n",
    "\n",
    "problems = problems[:5]\n",
    "folder_partial = '6 - Files/Exercise Solutions'\n",
    "solutions = get_solutions(problems, folder_partial)\n",
    "insert(db, problems, solutions)"
   ]
  },
  {
   "cell_type": "code",
   "execution_count": 105,
   "metadata": {
    "collapsed": true
   },
   "outputs": [],
   "source": [
    "db.close_connection()"
   ]
  }
 ],
 "metadata": {
  "kernelspec": {
   "display_name": "Python 3",
   "language": "python",
   "name": "python3"
  },
  "language_info": {
   "codemirror_mode": {
    "name": "ipython",
    "version": 3
   },
   "file_extension": ".py",
   "mimetype": "text/x-python",
   "name": "python",
   "nbconvert_exporter": "python",
   "pygments_lexer": "ipython3",
   "version": "3.6.2"
  }
 },
 "nbformat": 4,
 "nbformat_minor": 2
}
