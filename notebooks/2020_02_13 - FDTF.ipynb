{
 "cells": [
  {
   "cell_type": "code",
   "execution_count": 1,
   "metadata": {},
   "outputs": [],
   "source": [
    "import numpy as np\n",
    "from scipy import sparse\n",
    "import matplotlib.pyplot as plt"
   ]
  },
  {
   "cell_type": "code",
   "execution_count": 2,
   "metadata": {},
   "outputs": [],
   "source": [
    "N_CONCEPTS = 2\n",
    "N_STUDENTS = 10\n",
    "N_ATTEMPTS = 3\n",
    "N_QUESTIONS = 5\n",
    "\n",
    "# Algorithm parameters\n",
    "INIT = 3\n",
    "MAX_ITER = 100"
   ]
  },
  {
   "cell_type": "markdown",
   "metadata": {},
   "source": [
    "### FDTF Tensor Factorization"
   ]
  },
  {
   "cell_type": "code",
   "execution_count": 3,
   "metadata": {},
   "outputs": [],
   "source": [
    "def feedback_driven_tensor_factorization(student_performance, n_concepts=2, mu=1, init=3, max_iter=100):\n",
    "    \"\"\" Student performance: 0 if incorrect, 1 if correct or None if not observed \"\"\"\n",
    "    \n",
    "    # Get values from student performance tensor shape\n",
    "    n_students, n_questions, n_attempts = student_performance.shape\n",
    "    \n",
    "    # Construct tensor X denoting when a student has or has not chosen to work on a problem\n",
    "    X = np.ones(student_performance.shape)\n",
    "    X[np.where(np.isnan(student_performance))] = 0\n",
    "    # Complete student knowledge tensor with zero where is NaN\n",
    "    student_performance[np.where(np.isnan(student_performance))] = 0\n",
    "    \n",
    "    # Create student knowledge tensor\n",
    "    student_knowledge = np.zeros((n_students, n_concepts, n_attempts))\n",
    "\n",
    "    error_run = []\n",
    "    error_total_run = []\n",
    "    student_performance_pred_run = []\n",
    "    \n",
    "    # Several starts\n",
    "    for run in range(init):\n",
    "        error = []\n",
    "        student_performance_pred_list = []\n",
    "\n",
    "        for attempt in range(N_ATTEMPTS):\n",
    "            student_knowledge[:, :, attempt] = np.random.rand(n_students, n_concepts)\n",
    "\n",
    "        student_performance_pred = np.zeros(student_performance.shape)\n",
    "        for i in range(max_iter):\n",
    "            # Phase 1: prediction\n",
    "            # Update Q: Q = (T'T)^(-1)T'Y = T^(-1)Y\n",
    "            # (T'T)^(-1)\n",
    "            student_knowledge_transposed = np.zeros((n_concepts, n_concepts, n_attempts))\n",
    "            for attempt in range(n_attempts):\n",
    "                student_knowledge_transposed[:, :, attempt] = np.dot(student_knowledge[:, :, attempt].T, \n",
    "                                                                     student_knowledge[:, :, attempt])\n",
    "            student_knowledge_transposed = student_knowledge_transposed.sum(axis=2)\n",
    "            student_knowledge_transposed_inv = np.linalg.pinv(student_knowledge_transposed)\n",
    "            \n",
    "            # T'Y\n",
    "            TY = np.zeros((n_concepts, n_questions, n_attempts))\n",
    "            for attempt in range(n_attempts):\n",
    "                TY[:, :, attempt] = np.dot(student_knowledge[:, :, attempt].T, \n",
    "                                           student_performance[:, :, attempt])\n",
    "            TY = TY.sum(axis=2)\n",
    "            \n",
    "            ## TODO: add regularization parameters (lambda)\n",
    "            # Q = (T'T)^(-1)T'Y\n",
    "            q_matrix = np.dot(student_knowledge_transposed_inv, TY)\n",
    "            # Impose non-negativity constraint\n",
    "            q_matrix[q_matrix < 0] = 0\n",
    "            # Normalize rows to sum one\n",
    "            row_sums = q_matrix.sum(axis=0, keepdims=True)\n",
    "            q_matrix = q_matrix / row_sums\n",
    "            \n",
    "            # Phase 2: learning\n",
    "            # Update T: T = 2*(T_{t-1}) + 2*((1-T_{t-1})/(1+exp(-mu*X_{t}*Q'))) - 1\n",
    "            # For T0 user T-1 as 0\n",
    "            student_knowledge[:, :, 0] = 2/(1+np.exp(-mu*np.dot(X[:,:,0], q_matrix.T)))\n",
    "            for attempt in range(n_attempts):\n",
    "                student_knowledge[:, :, attempt] = (2*student_knowledge[:, :, attempt-1]) + \\\n",
    "                2*(1-student_knowledge[:, :, attempt-1])/(1+np.exp(-mu*np.dot(X[:,:,attempt], q_matrix.T))) - 1\n",
    "                \n",
    "            # Y = TQ\n",
    "            for attempt in range(n_attempts):\n",
    "                student_performance_pred[:, :, attempt] = np.dot(student_knowledge[:, :, attempt], q_matrix)\n",
    "                \n",
    "            \n",
    "            diff = np.zeros((n_students, n_questions, n_attempts))\n",
    "            for attempt in range(n_attempts):\n",
    "                diff[:, :, attempt] = student_performance[:, :, attempt] - student_performance_pred[:, :, attempt]\n",
    "            # Frobenius norm (norm-2)\n",
    "            error.append(np.sqrt(np.sum(np.power(diff, 2))))\n",
    "            \n",
    "            student_performance_pred_iter = student_performance_pred.copy()\n",
    "            student_performance_pred_list.append(student_performance_pred_iter)\n",
    "        student_performance_pred_run.append(student_performance_pred_list)\n",
    "        error_run.append(error)\n",
    "        error_total_run.append(error[-1])\n",
    "                \n",
    "    return np.asarray(student_performance_pred_run), np.asarray(error_run), error_total_run"
   ]
  },
  {
   "cell_type": "markdown",
   "metadata": {},
   "source": [
    "### Simulation 1 - Student Performance is the exact multiplication of  Q Matrix and Student Knowledge"
   ]
  },
  {
   "cell_type": "code",
   "execution_count": 6,
   "metadata": {},
   "outputs": [],
   "source": [
    "def generate_sample(noise=0):\n",
    "    DENSITY = 0.8\n",
    "\n",
    "    # Create sparse q_matrix and normalize it to sum 1\n",
    "    q_matrix = sparse.rand(N_CONCEPTS, N_QUESTIONS, DENSITY).todense()\n",
    "    row_sums = q_matrix.sum(axis=0)\n",
    "    while not(np.all(row_sums)):\n",
    "        q_matrix = sparse.rand(N_CONCEPTS, N_QUESTIONS, DENSITY).todense()\n",
    "        row_sums = q_matrix.sum(axis=0)\n",
    "    q_matrix = q_matrix / row_sums\n",
    "\n",
    "    student_knowledge = np.zeros((N_STUDENTS, N_CONCEPTS, N_ATTEMPTS))\n",
    "    for attempt in range(N_ATTEMPTS):\n",
    "        student_knowledge[:, :, attempt] = sparse.rand(N_STUDENTS, N_CONCEPTS, DENSITY).todense()\n",
    "\n",
    "    student_performance = np.zeros((N_STUDENTS, N_QUESTIONS, N_ATTEMPTS))\n",
    "    for attempt in range(N_ATTEMPTS):\n",
    "        student_performance[:, :, attempt] = np.dot(student_knowledge[:, :, attempt], q_matrix)\n",
    "        \n",
    "    if noise:\n",
    "        noise = np.random.normal(0, noise, (N_STUDENTS, N_QUESTIONS, N_ATTEMPTS))\n",
    "        student_performance = student_performance + noise\n",
    "        \n",
    "    return student_performance"
   ]
  },
  {
   "cell_type": "code",
   "execution_count": 7,
   "metadata": {},
   "outputs": [],
   "source": [
    "student_performance = generate_sample()"
   ]
  },
  {
   "cell_type": "code",
   "execution_count": 8,
   "metadata": {},
   "outputs": [],
   "source": [
    "student_performance_pred_run, error_run, error_total_run = feedback_driven_tensor_factorization(\n",
    "    student_performance, n_concepts=2, init=1, max_iter=4)"
   ]
  },
  {
   "cell_type": "code",
   "execution_count": 9,
   "metadata": {},
   "outputs": [
    {
     "data": {
      "text/plain": [
       "array([[7.77602461, 8.12932797, 8.13013743, 8.13013743]])"
      ]
     },
     "execution_count": 9,
     "metadata": {},
     "output_type": "execute_result"
    }
   ],
   "source": [
    "error_run"
   ]
  },
  {
   "cell_type": "markdown",
   "metadata": {},
   "source": [
    "### Simulation 2 - Student Performance is the multiplication of Q Matrix and Student Knowledge plus noise"
   ]
  },
  {
   "cell_type": "code",
   "execution_count": 12,
   "metadata": {},
   "outputs": [],
   "source": [
    "student_performance_pred_run, error_run, error_total_run = feedback_driven_tensor_factorization(\n",
    "    student_performance, n_concepts=2, init=3, max_iter=5)"
   ]
  },
  {
   "cell_type": "code",
   "execution_count": 13,
   "metadata": {},
   "outputs": [
    {
     "data": {
      "text/plain": [
       "array([[10.71384301, 10.93622723, 10.93728775, 10.93729026, 10.93729026],\n",
       "       [10.68083926, 10.92919072, 10.93692399, 10.93728529, 10.93729019],\n",
       "       [10.61797541, 10.92099033, 10.93725507, 10.93729023, 10.93729026]])"
      ]
     },
     "execution_count": 13,
     "metadata": {},
     "output_type": "execute_result"
    }
   ],
   "source": [
    "error_run"
   ]
  },
  {
   "cell_type": "markdown",
   "metadata": {},
   "source": [
    "### Simulation 3 - Student Performance contains only zeros and ones"
   ]
  },
  {
   "cell_type": "code",
   "execution_count": 14,
   "metadata": {},
   "outputs": [],
   "source": [
    "student_performance = generate_sample(0.5)"
   ]
  },
  {
   "cell_type": "code",
   "execution_count": 15,
   "metadata": {},
   "outputs": [],
   "source": [
    "student_performance[student_performance > 0.5] = 1\n",
    "student_performance[student_performance < 0.5] = 0"
   ]
  },
  {
   "cell_type": "code",
   "execution_count": 18,
   "metadata": {},
   "outputs": [],
   "source": [
    "# Add random None\n",
    "total = np.prod(student_performance.shape)\n",
    "random_questions = np.random.randint(0, N_QUESTIONS, int(0.2*total))\n",
    "random_students = np.random.randint(0, N_QUESTIONS, int(0.2*total))\n",
    "random_attempts = np.random.randint(0, N_ATTEMPTS, int(0.2*total))\n",
    "\n",
    "student_performance[random_questions, random_students, random_attempts] = None"
   ]
  },
  {
   "cell_type": "code",
   "execution_count": 19,
   "metadata": {},
   "outputs": [],
   "source": [
    "student_performance_pred_run, error_run, error_total_run = feedback_driven_tensor_factorization(\n",
    "    student_performance, n_concepts=2, init=3, max_iter=100)"
   ]
  },
  {
   "cell_type": "code",
   "execution_count": 20,
   "metadata": {},
   "outputs": [],
   "source": [
    "error_run = np.asarray(error_run)"
   ]
  },
  {
   "cell_type": "code",
   "execution_count": 21,
   "metadata": {},
   "outputs": [],
   "source": [
    "best_run = np.unravel_index(error_run.argmin(), error_run.shape)\n",
    "best_student_performance_pred = student_performance_pred_run[best_run]"
   ]
  },
  {
   "cell_type": "code",
   "execution_count": 22,
   "metadata": {},
   "outputs": [],
   "source": [
    "best_student_performance_pred[best_student_performance_pred > 0.5] = 1\n",
    "best_student_performance_pred[best_student_performance_pred < 0.5] = 0"
   ]
  },
  {
   "cell_type": "code",
   "execution_count": 23,
   "metadata": {},
   "outputs": [
    {
     "name": "stdout",
     "output_type": "stream",
     "text": [
      "Accuracy: 40.67%\n"
     ]
    }
   ],
   "source": [
    "acc = 100*(np.logical_not(np.logical_xor(\n",
    "    student_performance, best_student_performance_pred)).sum())/(\n",
    "    student_performance.shape[0]*student_performance.shape[1]*student_performance.shape[2])\n",
    "print(\"Accuracy: %.2f%%\" % acc)"
   ]
  },
  {
   "cell_type": "code",
   "execution_count": 211,
   "metadata": {},
   "outputs": [
    {
     "data": {
      "image/png": "[encoded data removed]",
      "text/plain": [
       "<Figure size 432x288 with 1 Axes>"
      ]
     },
     "metadata": {
      "needs_background": "light"
     },
     "output_type": "display_data"
    },
    {
     "name": "stdout",
     "output_type": "stream",
     "text": [
      "CPU times: user 1min 5s, sys: 19.2 ms, total: 1min 5s\n",
      "Wall time: 1min 5s\n"
     ]
    }
   ],
   "source": [
    "%%time\n",
    "accs = []\n",
    "accs_std = []\n",
    "\n",
    "for noise in np.arange(0, 1, 0.05):\n",
    "    accs_run = []\n",
    "    for run in range(50):\n",
    "        # Generate sample and approximate values to 0 and 1\n",
    "        student_performance = generate_sample(noise)\n",
    "        student_performance[student_performance > 0.5] = 1\n",
    "        student_performance[student_performance < 0.5] = 0\n",
    "        \n",
    "        # Add random None\n",
    "        random_questions = np.random.randint(0, N_QUESTIONS, int(0.1*total))\n",
    "        random_students = np.random.randint(0, N_QUESTIONS, int(0.1*total))\n",
    "        random_attempts = np.random.randint(0, N_ATTEMPTS, int(0.1*total))\n",
    "\n",
    "        student_performance[random_questions, random_students, random_attempts] = None\n",
    "        \n",
    "\n",
    "#         Run tensor factorization\n",
    "        student_performance_pred_run, error_run, error_total_run = feedback_driven_tensor_factorization(\n",
    "            student_performance, n_concepts=2, init=3, max_iter=50)\n",
    "        \n",
    "\n",
    "#         Get best run results\n",
    "        best_run = np.unravel_index(error_run.argmin(), error_run.shape)\n",
    "        best_student_performance_pred = student_performance_pred_run[best_run]\n",
    "        best_student_performance_pred[best_student_performance_pred > 0.5] = 1\n",
    "        best_student_performance_pred[best_student_performance_pred < 0.5] = 0\n",
    "        \n",
    "\n",
    "#         Calculate accuracy\n",
    "        acc = 100*(np.logical_not(np.logical_xor(\n",
    "            student_performance, best_student_performance_pred)).sum())/(\n",
    "            student_performance.shape[0]*student_performance.shape[1]*student_performance.shape[2])\n",
    "        accs_run.append(acc)\n",
    "\n",
    "    accs.append(np.asarray(accs_run).mean())\n",
    "    accs_std.append(np.asarray(accs_run).std())\n",
    "    \n",
    "plt.errorbar(np.arange(0, 1, 0.05), accs, yerr=accs_std)\n",
    "plt.show()"
   ]
  },
  {
   "cell_type": "code",
   "execution_count": 485,
   "metadata": {},
   "outputs": [],
   "source": [
    "diff = np.zeros((N_QUESTIONS, N_STUDENTS, N_ATTEMPTS))\n",
    "for attempt in range(N_ATTEMPTS):\n",
    "    diff[:, :, attempt] = student_performance[:, :, attempt] - best_student_performance_pred[:, :, attempt]"
   ]
  },
  {
   "cell_type": "code",
   "execution_count": 486,
   "metadata": {},
   "outputs": [
    {
     "data": {
      "text/plain": [
       "4.898979485566356"
      ]
     },
     "execution_count": 486,
     "metadata": {},
     "output_type": "execute_result"
    }
   ],
   "source": [
    "np.sqrt(np.sum(np.power(diff, 2)))"
   ]
  }
 ],
 "metadata": {
  "kernelspec": {
   "display_name": "Python 3",
   "language": "python",
   "name": "python3"
  },
  "language_info": {
   "codemirror_mode": {
    "name": "ipython",
    "version": 3
   },
   "file_extension": ".py",
   "mimetype": "text/x-python",
   "name": "python",
   "nbconvert_exporter": "python",
   "pygments_lexer": "ipython3",
   "version": "3.6.10"
  }
 },
 "nbformat": 4,
 "nbformat_minor": 4
}
