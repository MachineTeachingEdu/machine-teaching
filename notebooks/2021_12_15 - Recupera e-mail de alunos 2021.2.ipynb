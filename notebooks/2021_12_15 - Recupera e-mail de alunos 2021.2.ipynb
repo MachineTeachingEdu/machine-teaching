{
 "cells": [
  {
   "cell_type": "code",
   "execution_count": 2,
   "metadata": {},
   "outputs": [
    {
     "data": {
      "text/plain": [
       "15"
      ]
     },
     "execution_count": 2,
     "metadata": {},
     "output_type": "execute_result"
    }
   ],
   "source": [
    "from datetime import datetime\n",
    "not_valid = ['Vídeo', 'Sem turma', 'Turma aberta', 'EP1 - Natanael - COMP 2', 'Daniel-Bastos-Teste']\n",
    "# onlineclasses = OnlineClass.objects.exclude(name__in=not_valid)\n",
    "data_inicio = datetime.strptime('16/11/2021 00:00:00', '%d/%m/%Y %H:%M:%S')\n",
    "\n",
    "onlineclasses = OnlineClass.objects.filter(active=True, start_date__gte=data_inicio).exclude(name__in=not_valid)\n",
    "onlineclasses.count()"
   ]
  },
  {
   "cell_type": "code",
   "execution_count": 3,
   "metadata": {},
   "outputs": [
    {
     "name": "stdout",
     "output_type": "stream",
     "text": [
      "CompI_2021.2_ITQ1/MEM/IQQ(Jéssica)\n",
      "CompI_2021.2_EC1(Raffaela)\n",
      "CMT2\n",
      "ICP114 - EP1 (COMP I) 2021.2\n",
      "ICP121 - IGA/IG1 (COMP I) 2021.2\n",
      "CompI_2021.2_CMT1(Jéssica)\n",
      "Comp1_2021_2_Ep-EM1(Carla)\n",
      "EE1 Computação 1 2021.2 (Thais)\n",
      "CMT3 Computação 1 2021.2 (Thais)\n",
      "CMT3 Computação 1 2021.2 (Thais)\n",
      "CMT4\n",
      "2021.2-IFN-IQQ\n",
      "2021.2-MAN-IQN\n",
      "Computação I (EP/SV) - 2021.2\n",
      "Comp1 EM2 - 2021.2\n"
     ]
    }
   ],
   "source": [
    "for item in onlineclasses:\n",
    "    print(item.name)"
   ]
  },
  {
   "cell_type": "code",
   "execution_count": 4,
   "metadata": {},
   "outputs": [
    {
     "data": {
      "text/plain": [
       "92"
      ]
     },
     "execution_count": 4,
     "metadata": {},
     "output_type": "execute_result"
    }
   ],
   "source": [
    "professors = Professor.objects.all().values_list('user')\n",
    "professors.count()"
   ]
  },
  {
   "cell_type": "code",
   "execution_count": 5,
   "metadata": {},
   "outputs": [
    {
     "data": {
      "text/plain": [
       "345"
      ]
     },
     "execution_count": 5,
     "metadata": {},
     "output_type": "execute_result"
    }
   ],
   "source": [
    "userprofile = UserProfile.objects.filter(user_class__in=onlineclasses).exclude(user__in=professors).values_list(\n",
    "    'user__email', 'user__first_name', 'user__last_name')\n",
    "userprofile.count()"
   ]
  },
  {
   "cell_type": "code",
   "execution_count": 6,
   "metadata": {},
   "outputs": [],
   "source": [
    "import csv"
   ]
  },
  {
   "cell_type": "code",
   "execution_count": 7,
   "metadata": {},
   "outputs": [],
   "source": [
    "with open('contacts.csv', 'w') as csvfile:\n",
    "    writer = csv.writer(csvfile, delimiter=',',)\n",
    "    writer.writerow(['email', 'first_name', 'last_name', 'address_line_1', \n",
    "                     'address_line_2', 'city', 'state_province_region', \n",
    "                     'postal_code', 'country'])\n",
    "    for row in userprofile:\n",
    "        writer.writerow(list(row) + ['']*6)"
   ]
  }
 ],
 "metadata": {
  "kernelspec": {
   "display_name": "Django Shell-Plus",
   "language": "python",
   "name": "django_extensions"
  },
  "language_info": {
   "codemirror_mode": {
    "name": "ipython",
    "version": 3
   },
   "file_extension": ".py",
   "mimetype": "text/x-python",
   "name": "python",
   "nbconvert_exporter": "python",
   "pygments_lexer": "ipython3",
   "version": "3.8.5"
  }
 },
 "nbformat": 4,
 "nbformat_minor": 4
}
