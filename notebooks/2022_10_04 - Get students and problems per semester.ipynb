{
 "cells": [
  {
   "cell_type": "code",
   "execution_count": 6,
   "id": "3e8fcf2f",
   "metadata": {},
   "outputs": [],
   "source": [
    "import os\n",
    "import django\n",
    "os.environ.setdefault('DJANGO_SETTINGS_MODULE', 'rest.settings')\n",
    "os.environ[\"DJANGO_ALLOW_ASYNC_UNSAFE\"] = \"true\"\n",
    "django.setup()"
   ]
  },
  {
   "cell_type": "code",
   "execution_count": 57,
   "id": "42388678",
   "metadata": {},
   "outputs": [],
   "source": [
    "from datetime import datetime\n",
    "import pandas as pd"
   ]
  },
  {
   "cell_type": "code",
   "execution_count": 54,
   "id": "1f495be1",
   "metadata": {},
   "outputs": [],
   "source": [
    "data_inicio = datetime.strptime('28/08/2022 00:00:00', '%d/%m/%Y %H:%M:%S')\n",
    "classes = OnlineClass.objects.filter(start_date__gte=data_inicio)\n",
    "students = UserProfile.objects.filter(user_class__in = classes)\n",
    "\n",
    "data_2022_2 = {\"Alunos\":students.count(),\n",
    "               \"Problemas resolvidos\": UserLog.objects.filter(user__userprofile__in=students).count(), \n",
    "               \"Passou\": UserLog.objects.filter(user__userprofile__in=students, outcome=\"P\").count(), \n",
    "               \"Falhou\": UserLog.objects.filter(user__userprofile__in=students, outcome=\"F\").count(), \n",
    "               \"Pulou\": UserLog.objects.filter(user__userprofile__in=students, outcome=\"S\").count()}"
   ]
  },
  {
   "cell_type": "code",
   "execution_count": 53,
   "id": "d6467d2b",
   "metadata": {},
   "outputs": [],
   "source": [
    "data_inicio = datetime.strptime('30/03/2022 00:00:00', '%d/%m/%Y %H:%M:%S')\n",
    "data_fim = datetime.strptime('28/08/2022 00:00:00', '%d/%m/%Y %H:%M:%S')\n",
    "classes = OnlineClass.objects.filter(start_date__gte=data_inicio, start_date__lte=data_fim)\n",
    "students = UserProfile.objects.filter(user_class__in = classes)\n",
    "\n",
    "data_2022_1 = {\"Alunos\":students.count(),\n",
    "               \"Problemas resolvidos\": UserLog.objects.filter(user__userprofile__in=students).count(), \n",
    "               \"Passou\": UserLog.objects.filter(user__userprofile__in=students, outcome=\"P\").count(), \n",
    "               \"Falhou\": UserLog.objects.filter(user__userprofile__in=students, outcome=\"F\").count(), \n",
    "               \"Pulou\": UserLog.objects.filter(user__userprofile__in=students, outcome=\"S\").count()}"
   ]
  },
  {
   "cell_type": "code",
   "execution_count": 47,
   "id": "aebdfe9e",
   "metadata": {},
   "outputs": [],
   "source": [
    "#2021_2\n",
    "data_inicio = datetime.strptime('20/11/2021 00:00:00', '%d/%m/%Y %H:%M:%S')\n",
    "data_fim = datetime.strptime('30/03/2022 00:00:00', '%d/%m/%Y %H:%M:%S')\n",
    "classes = OnlineClass.objects.filter(start_date__gte=data_inicio, start_date__lte=data_fim)\n",
    "students = UserProfile.objects.filter(user_class__in = classes)\n",
    "\n",
    "data_2021_2 = {\"Alunos\":students.count(),\n",
    "               \"Problemas resolvidos\": UserLog.objects.filter(user__userprofile__in=students).count(), \n",
    "               \"Passou\": UserLog.objects.filter(user__userprofile__in=students, outcome=\"P\").count(), \n",
    "               \"Falhou\": UserLog.objects.filter(user__userprofile__in=students, outcome=\"F\").count(), \n",
    "               \"Pulou\": UserLog.objects.filter(user__userprofile__in=students, outcome=\"S\").count()}"
   ]
  },
  {
   "cell_type": "code",
   "execution_count": 48,
   "id": "8d80979a",
   "metadata": {},
   "outputs": [],
   "source": [
    "#2021_1\n",
    "data_inicio = datetime.strptime('16/07/2021 00:00:00', '%d/%m/%Y %H:%M:%S')\n",
    "data_fim = datetime.strptime('20/11/2021 00:00:00', '%d/%m/%Y %H:%M:%S')\n",
    "classes = OnlineClass.objects.filter(start_date__gte=data_inicio, start_date__lte=data_fim)\n",
    "students = UserProfile.objects.filter(user_class__in = classes)\n",
    "\n",
    "data_2021_1 = {\"Alunos\":students.count(),\n",
    "               \"Problemas resolvidos\": UserLog.objects.filter(user__userprofile__in=students).count(), \n",
    "               \"Passou\": UserLog.objects.filter(user__userprofile__in=students, outcome=\"P\").count(), \n",
    "               \"Falhou\": UserLog.objects.filter(user__userprofile__in=students, outcome=\"F\").count(), \n",
    "               \"Pulou\": UserLog.objects.filter(user__userprofile__in=students, outcome=\"S\").count()}"
   ]
  },
  {
   "cell_type": "code",
   "execution_count": 49,
   "id": "4e27801c",
   "metadata": {},
   "outputs": [],
   "source": [
    "#2020_2\n",
    "data_inicio = datetime.strptime('24/03/2021 00:00:00', '%d/%m/%Y %H:%M:%S')\n",
    "data_fim = datetime.strptime('16/07/2021 00:00:00', '%d/%m/%Y %H:%M:%S')\n",
    "classes = OnlineClass.objects.filter(start_date__gte=data_inicio, start_date__lte=data_fim)\n",
    "students = UserProfile.objects.filter(user_class__in = classes)\n",
    "\n",
    "data_2020_2 = {\"Alunos\":students.count(),\n",
    "               \"Problemas resolvidos\": UserLog.objects.filter(user__userprofile__in=students_2020_2).count(), \n",
    "               \"Passou\": UserLog.objects.filter(user__userprofile__in=students, outcome=\"P\").count(), \n",
    "               \"Falhou\": UserLog.objects.filter(user__userprofile__in=students, outcome=\"F\").count(), \n",
    "               \"Pulou\": UserLog.objects.filter(user__userprofile__in=students, outcome=\"S\").count()}"
   ]
  },
  {
   "cell_type": "code",
   "execution_count": 56,
   "id": "dfdc7d37",
   "metadata": {},
   "outputs": [
    {
     "data": {
      "text/plain": [
       "{'Alunos': 231,\n",
       " 'Problemas resolvidos': 16255,\n",
       " 'Passou': 2349,\n",
       " 'Falhou': 13616,\n",
       " 'Pulou': 290}"
      ]
     },
     "execution_count": 56,
     "metadata": {},
     "output_type": "execute_result"
    }
   ],
   "source": [
    "data_2022_2"
   ]
  },
  {
   "cell_type": "code",
   "execution_count": 55,
   "id": "0763ed42",
   "metadata": {},
   "outputs": [
    {
     "data": {
      "text/plain": [
       "{'Alunos': 596,\n",
       " 'Problemas resolvidos': 79856,\n",
       " 'Passou': 13775,\n",
       " 'Falhou': 64516,\n",
       " 'Pulou': 1565}"
      ]
     },
     "execution_count": 55,
     "metadata": {},
     "output_type": "execute_result"
    }
   ],
   "source": [
    "data_2022_1"
   ]
  },
  {
   "cell_type": "code",
   "execution_count": 52,
   "id": "7f6c1438",
   "metadata": {},
   "outputs": [
    {
     "data": {
      "text/plain": [
       "{'Alunos': 381,\n",
       " 'Problemas resolvidos': 77376,\n",
       " 'Passou': 10382,\n",
       " 'Falhou': 65610,\n",
       " 'Pulou': 1384}"
      ]
     },
     "execution_count": 52,
     "metadata": {},
     "output_type": "execute_result"
    }
   ],
   "source": [
    "data_2021_2"
   ]
  },
  {
   "cell_type": "code",
   "execution_count": 50,
   "id": "93f8dfa8",
   "metadata": {},
   "outputs": [
    {
     "data": {
      "text/plain": [
       "{'Alunos': 671,\n",
       " 'Problemas resolvidos': 138942,\n",
       " 'Passou': 20394,\n",
       " 'Falhou': 116051,\n",
       " 'Pulou': 2497}"
      ]
     },
     "execution_count": 50,
     "metadata": {},
     "output_type": "execute_result"
    }
   ],
   "source": [
    "data_2021_1"
   ]
  },
  {
   "cell_type": "code",
   "execution_count": 51,
   "id": "360f3c71",
   "metadata": {},
   "outputs": [
    {
     "data": {
      "text/plain": [
       "{'Alunos': 322,\n",
       " 'Problemas resolvidos': 66386,\n",
       " 'Passou': 10519,\n",
       " 'Falhou': 54768,\n",
       " 'Pulou': 1099}"
      ]
     },
     "execution_count": 51,
     "metadata": {},
     "output_type": "execute_result"
    }
   ],
   "source": [
    "data_2020_2"
   ]
  },
  {
   "cell_type": "code",
   "execution_count": 62,
   "id": "e8d484ac",
   "metadata": {},
   "outputs": [
    {
     "data": {
      "text/html": [
       "<div>\n",
       "<style scoped>\n",
       "    .dataframe tbody tr th:only-of-type {\n",
       "        vertical-align: middle;\n",
       "    }\n",
       "\n",
       "    .dataframe tbody tr th {\n",
       "        vertical-align: top;\n",
       "    }\n",
       "\n",
       "    .dataframe thead th {\n",
       "        text-align: right;\n",
       "    }\n",
       "</style>\n",
       "<table border=\"1\" class=\"dataframe\">\n",
       "  <thead>\n",
       "    <tr style=\"text-align: right;\">\n",
       "      <th></th>\n",
       "      <th>2020.2</th>\n",
       "      <th>2021.1</th>\n",
       "      <th>2021.2</th>\n",
       "      <th>2022.1</th>\n",
       "      <th>2022.2</th>\n",
       "    </tr>\n",
       "  </thead>\n",
       "  <tbody>\n",
       "    <tr>\n",
       "      <th>Alunos</th>\n",
       "      <td>322</td>\n",
       "      <td>671</td>\n",
       "      <td>381</td>\n",
       "      <td>596</td>\n",
       "      <td>596</td>\n",
       "    </tr>\n",
       "    <tr>\n",
       "      <th>Problemas resolvidos</th>\n",
       "      <td>66386</td>\n",
       "      <td>138942</td>\n",
       "      <td>77376</td>\n",
       "      <td>79856</td>\n",
       "      <td>79856</td>\n",
       "    </tr>\n",
       "    <tr>\n",
       "      <th>Passou</th>\n",
       "      <td>10519</td>\n",
       "      <td>20394</td>\n",
       "      <td>10382</td>\n",
       "      <td>13775</td>\n",
       "      <td>13775</td>\n",
       "    </tr>\n",
       "    <tr>\n",
       "      <th>Falhou</th>\n",
       "      <td>54768</td>\n",
       "      <td>116051</td>\n",
       "      <td>65610</td>\n",
       "      <td>64516</td>\n",
       "      <td>64516</td>\n",
       "    </tr>\n",
       "    <tr>\n",
       "      <th>Pulou</th>\n",
       "      <td>1099</td>\n",
       "      <td>2497</td>\n",
       "      <td>1384</td>\n",
       "      <td>1565</td>\n",
       "      <td>1565</td>\n",
       "    </tr>\n",
       "  </tbody>\n",
       "</table>\n",
       "</div>"
      ],
      "text/plain": [
       "                      2020.2  2021.1  2021.2  2022.1  2022.2\n",
       "Alunos                   322     671     381     596     596\n",
       "Problemas resolvidos   66386  138942   77376   79856   79856\n",
       "Passou                 10519   20394   10382   13775   13775\n",
       "Falhou                 54768  116051   65610   64516   64516\n",
       "Pulou                   1099    2497    1384    1565    1565"
      ]
     },
     "execution_count": 62,
     "metadata": {},
     "output_type": "execute_result"
    }
   ],
   "source": [
    "table = pd.DataFrame({\"2020.2\": data_2020_2, \n",
    "                      \"2021.1\": data_2021_1, \n",
    "                      \"2021.2\": data_2021_2, \n",
    "                      \"2022.1\": data_2022_1, \n",
    "                      \"2022.2\": data_2022_1})\n",
    "table"
   ]
  },
  {
   "cell_type": "code",
   "execution_count": 63,
   "id": "e5e4a37b",
   "metadata": {},
   "outputs": [],
   "source": [
    "table.to_csv(\"dados_periodos_reditus.csv\")"
   ]
  }
 ],
 "metadata": {
  "kernelspec": {
   "display_name": "Django Shell-Plus",
   "language": "python",
   "name": "django_extensions"
  },
  "language_info": {
   "codemirror_mode": {
    "name": "ipython",
    "version": 3
   },
   "file_extension": ".py",
   "mimetype": "text/x-python",
   "name": "python",
   "nbconvert_exporter": "python",
   "pygments_lexer": "ipython3",
   "version": "3.10.1"
  }
 },
 "nbformat": 4,
 "nbformat_minor": 5
}
