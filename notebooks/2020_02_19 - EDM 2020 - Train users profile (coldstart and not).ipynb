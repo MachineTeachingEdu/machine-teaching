{
 "cells": [
  {
   "cell_type": "code",
   "execution_count": 1,
   "metadata": {},
   "outputs": [],
   "source": [
    "# Helpers\n",
    "from collections import Counter, defaultdict\n",
    "import numpy as np\n",
    "from itertools import chain\n",
    "import pickle\n",
    "\n",
    "#DB\n",
    "from django.db.models import Case, IntegerField, Value\n",
    "\n",
    "# Plot\n",
    "import matplotlib.pyplot as plt\n",
    "import seaborn as sns\n",
    "\n",
    "# DB \n",
    "import psycopg2\n",
    "from django.conf import settings"
   ]
  },
  {
   "cell_type": "code",
   "execution_count": 2,
   "metadata": {},
   "outputs": [],
   "source": [
    "folder = \"data/edm2020/\""
   ]
  },
  {
   "cell_type": "markdown",
   "metadata": {},
   "source": [
    "### Get student data"
   ]
  },
  {
   "cell_type": "code",
   "execution_count": 3,
   "metadata": {},
   "outputs": [],
   "source": [
    "# Filter used problems and solutions\n",
    "last_id = 132\n",
    "problems = Problem.objects.filter(id__lte=last_id)\n",
    "\n",
    "# Get all students\n",
    "user_blacklist = UserProfile.objects.filter(professor__user__username='sem_professor')\n",
    "\n",
    "attempts = UserLog.objects.exclude(outcome='S').filter(\n",
    "    timestamp__lt=OuterRef('timestamp'), user__id=OuterRef('user__id')).annotate(\n",
    "    attempt=Count('*')).values('attempt')\n",
    "\n",
    "# Remove group by values\n",
    "attempts.query.set_group_by()\n",
    "\n",
    "# Get users\n",
    "users = UserLog.objects.filter(problem__in=problems).exclude(outcome='S').exclude(\n",
    "    user__userprofile__in=user_blacklist).annotate(\n",
    "    attempt=Subquery(attempts, output_field=IntegerField())).annotate(\n",
    "    score=Case(\n",
    "        When(outcome='F', then=Value(0.1)),\n",
    "        When(outcome='P', then=Value(1)),\n",
    "        output_field=IntegerField())).values_list(\n",
    "    \"user__id\", \"problem_id\", \"attempt\", \"score\"#\"outcome\", \"timestamp\"\n",
    ").order_by(\"timestamp\").filter(attempt=1).values_list('user_id', flat=True)\n",
    "\n",
    "data = UserLog.objects.filter(problem__in=problems).exclude(outcome='S').annotate(\n",
    "    attempt=Subquery(attempts, output_field=IntegerField())).annotate(\n",
    "    score=Case(\n",
    "        When(outcome='F', then=Value(0)),\n",
    "        When(outcome='P', then=Value(1)),\n",
    "        output_field=IntegerField())).values_list(\n",
    "    \"user__id\", \"problem_id\", \"attempt\", \"score\", #\"outcome\", #\"timestamp\"\n",
    ").order_by(\"timestamp\").filter(user__in=users)"
   ]
  },
  {
   "cell_type": "markdown",
   "metadata": {},
   "source": [
    "Create train set after 20% of students attempts to compare cold-start problem"
   ]
  },
  {
   "cell_type": "code",
   "execution_count": 4,
   "metadata": {},
   "outputs": [],
   "source": [
    "N_RUNS = 5\n",
    "TRAIN_PROPORTION = 0.8\n",
    "TRAIN_ATTEMPTS_TEST = 0.2"
   ]
  },
  {
   "cell_type": "code",
   "execution_count": 5,
   "metadata": {},
   "outputs": [],
   "source": [
    "def get_user_idx(user_id):\n",
    "    return users_idx.index(user_id)\n",
    "\n",
    "def get_question_idx(question_id):\n",
    "    return questions_idx.index(question_id)\n",
    "\n",
    "map_user_id = np.vectorize(get_user_idx)    \n",
    "map_question_id = np.vectorize(get_question_idx)"
   ]
  },
  {
   "cell_type": "code",
   "execution_count": null,
   "metadata": {},
   "outputs": [],
   "source": [
    "data_coldstart = []\n",
    "for i in range(N_RUNS):\n",
    "    # Save data\n",
    "    with open(\"%s/run_%d.pkl\" % (folder, i), \"rb\") as pklfile:\n",
    "        dataset = pickle.load(pklfile)\n",
    "    test_users = []\n",
    "    # Remove test users\n",
    "    for row in dataset['test_set']:\n",
    "        test_users.append(row[0])\n",
    "    train_users = set(range(len(dataset['users_idx']))) - set(test_users)\n",
    "    \n",
    "    # Create \"train set\" to test with students only after up to 20% of their attempts\n",
    "    # In the same way the test users were chosen\n",
    "    train_set = []\n",
    "    for idx, user in enumerate(train_users):\n",
    "        user_attempts = data.filter(user_id=dataset['users_idx'][user])\n",
    "        train_attempts = int(np.ceil(TRAIN_ATTEMPTS_TEST*user_attempts.count()))\n",
    "        train_set.extend(list(user_attempts.filter(attempt__gt=train_attempts).order_by('attempt')))\n",
    "        \n",
    "    # Mapping users and questions to be in 0-len index\n",
    "    users_idx = dataset['users_idx']\n",
    "    questions_idx = dataset['questions_idx']\n",
    "    train_set = np.asarray(train_set)\n",
    "    train_set[:,0] = map_user_id(train_set[:,0])\n",
    "    train_set[:,1] = map_question_id(train_set[:,1])\n",
    "    data_coldstart.append({'train_set': train_set, \n",
    "                 'users_idx': dataset['users_idx'], \n",
    "                 'questions_idx': dataset['questions_idx']\n",
    "                })"
   ]
  },
  {
   "cell_type": "code",
   "execution_count": null,
   "metadata": {},
   "outputs": [],
   "source": [
    "len(data_coldstart)"
   ]
  },
  {
   "cell_type": "markdown",
   "metadata": {},
   "source": [
    "### Organizing data"
   ]
  },
  {
   "cell_type": "code",
   "execution_count": null,
   "metadata": {},
   "outputs": [],
   "source": [
    "def add_to_tensor(data, tensor, X, filter_attempt=False):\n",
    "    for item in data:\n",
    "        s_idx, q_idx, a_idx, outcome = item\n",
    "\n",
    "        # If attempt is over max value, ignore it\n",
    "        if filter_attempt and a_idx >= filter_attempt:\n",
    "            continue\n",
    "\n",
    "        tensor[s_idx, q_idx, a_idx] = outcome\n",
    "        X[s_idx, q_idx, a_idx] = 1\n",
    "        \n",
    "    tensor[np.where(X[:,:] == 0)] = None\n",
    "    return tensor, X\n",
    "    \n",
    "def transform_data(data):\n",
    "    N_STUDENTS = len(data['users_idx'])\n",
    "    N_QUESTIONS = len(data['questions_idx'])\n",
    "    train_set = data['train_set']\n",
    "    \n",
    "    max_attempt = np.max(train_set[:,2])+1\n",
    "#     max_attempt = 20\n",
    "    student_performance_coldstart = np.zeros((N_STUDENTS, N_QUESTIONS, max_attempt))\n",
    "    X_coldstart = np.zeros(student_performance_coldstart.shape)\n",
    "\n",
    "    student_performance_coldstart, X_coldstart = add_to_tensor(train_set, \n",
    "                                                               student_performance_coldstart, \n",
    "                                                               X_coldstart, \n",
    "#                                                                filter_attempt=max_attempt\n",
    "                                                              )\n",
    "    \n",
    "    return student_performance_coldstart, X_coldstart"
   ]
  },
  {
   "cell_type": "code",
   "execution_count": null,
   "metadata": {},
   "outputs": [],
   "source": [
    "connection = psycopg2.connect(user = settings.DATABASES[\"default\"][\"USER\"],\n",
    "                                  password = settings.DATABASES[\"default\"][\"PASSWORD\"],\n",
    "                                  host = settings.DATABASES[\"default\"][\"HOST\"],\n",
    "                                  port = settings.DATABASES[\"default\"][\"PORT\"],\n",
    "                                  database = settings.DATABASES[\"default\"][\"NAME\"])\n",
    "connection.autocommit=True\n",
    "cursor = connection.cursor()"
   ]
  },
  {
   "cell_type": "code",
   "execution_count": null,
   "metadata": {},
   "outputs": [],
   "source": [
    "%%time\n",
    "query = \"\"\"select dataset, experiment_id, sp, x, sp_hat, sk_hat, q_matrix_hat, mu \n",
    "from EDM2020_2020_02_19 where experiment_id = 86677\"\"\"\n",
    "cursor.execute(query)\n",
    "row = cursor.fetchone()"
   ]
  },
  {
   "cell_type": "code",
   "execution_count": null,
   "metadata": {},
   "outputs": [],
   "source": [
    "total = 0\n",
    "update_queries = []\n",
    "\n",
    "while row:\n",
    "    dataset, exp_id, sp, X, sp_hat, sk_hat, q_matrix_hat, mu = row\n",
    "    \n",
    "    dataset_id = int(dataset.split('_')[1])\n",
    "        \n",
    "    sp_coldstart, X_coldstart = transform_data(data_coldstart[dataset_id])\n",
    "    \n",
    "    X = np.asarray(X)\n",
    "    attempts = X.shape[2]\n",
    "    \n",
    "    students_train_len = []\n",
    "    students_train_cs_len = []\n",
    "    for attempt in range(1, attempts):\n",
    "        students_train = np.where(X[:,:, attempt] == 1)[0]\n",
    "        students_train_cs = np.where(X_coldstart[:,:, attempt] == 1)[0]\n",
    "        students_train_len.append(len(students_train))\n",
    "        students_train_cs_len.append(len(students_train_cs))\n",
    "    \n",
    "    update = {\n",
    "        ''\n",
    "    }\n",
    "    \n",
    "    update_queries.append(query)\n",
    "        \n",
    "    try:\n",
    "        row = cursor.fetchone()\n",
    "    except psycopg2.ProgrammingError:\n",
    "        row = False"
   ]
  },
  {
   "cell_type": "code",
   "execution_count": null,
   "metadata": {},
   "outputs": [],
   "source": [
    "total"
   ]
  },
  {
   "cell_type": "code",
   "execution_count": null,
   "metadata": {},
   "outputs": [],
   "source": [
    "%%time\n",
    "for query in update_queries:\n",
    "    cursor.execute(query)"
   ]
  }
 ],
 "metadata": {
  "kernelspec": {
   "display_name": "Django Shell-Plus",
   "language": "python",
   "name": "django_extensions"
  },
  "language_info": {
   "codemirror_mode": {
    "name": "ipython",
    "version": 3
   },
   "file_extension": ".py",
   "mimetype": "text/x-python",
   "name": "python",
   "nbconvert_exporter": "python",
   "pygments_lexer": "ipython3",
   "version": "3.6.10"
  }
 },
 "nbformat": 4,
 "nbformat_minor": 4
}
