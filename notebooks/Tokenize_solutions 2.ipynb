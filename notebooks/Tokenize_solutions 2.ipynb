{
 "cells": [
  {
   "cell_type": "code",
   "execution_count": 0,
   "metadata": {
    "colab": {
     "autoexec": {
      "startup": false,
      "wait_interval": 0
     }
    },
    "colab_type": "code",
    "collapsed": true,
    "id": "3Eb32mkO8ZuP"
   },
   "outputs": [],
   "source": [
    "!mkdir -p local_modules/db"
   ]
  },
  {
   "cell_type": "code",
   "execution_count": 43,
   "metadata": {
    "colab": {
     "autoexec": {
      "startup": false,
      "wait_interval": 0
     },
     "base_uri": "https://localhost:8080/",
     "height": 35,
     "output_extras": [
      {
       "item_id": 1
      }
     ]
    },
    "colab_type": "code",
    "executionInfo": {
     "elapsed": 534,
     "status": "ok",
     "timestamp": 1521762208364,
     "user": {
      "displayName": "",
      "photoUrl": "",
      "userId": ""
     },
     "user_tz": 180
    },
    "id": "qX7D5z61AdxO",
    "outputId": "da1ff884-3aa8-4500-f332-b0b7aaa3287f"
   },
   "outputs": [
    {
     "name": "stdout",
     "output_type": "stream",
     "text": [
      "Overwriting local_modules/db/__init__.py\n"
     ]
    }
   ],
   "source": [
    "%%writefile local_modules/db/__init__.py\n",
    "# Save a module init file that contains a custom function that we'll use\n",
    "# to verify that import works.\n",
    "\n",
    "\"\"\" Class to create database with problems and solutions in Python \"\"\"\n",
    "import sqlite3\n",
    "from sqlite3 import Error\n",
    "\n",
    "\n",
    "class PythonProblems(object):\n",
    "    def __init__(self, db_file, sql_file=None):\n",
    "        \"\"\" initialize with database filename \"\"\"\n",
    "        self.db_file = db_file\n",
    "        self.create_connection()\n",
    "        if sql_file:\n",
    "            self.create_tables(sql_file)\n",
    "\n",
    "    def create_connection(self):\n",
    "        \"\"\" create a database connection to the SQLite database\n",
    "            specified by db_file\n",
    "        \"\"\"\n",
    "        try:\n",
    "            self.conn = sqlite3.connect(self.db_file)\n",
    "            return self.conn\n",
    "        except Error as e:\n",
    "            print(e)\n",
    "\n",
    "        return None\n",
    "    def close_connection(self):\n",
    "        self.conn.close()\n",
    "\n",
    "    def create_tables(self, create_table_sql):\n",
    "        \"\"\" create a table from the create_table_sql statement\n",
    "        :param create_table_sql: a file containing SQL statements\n",
    "        return\n",
    "        \"\"\"\n",
    "        try:\n",
    "            c = self.conn.cursor()\n",
    "            with open(create_table_sql, 'r') as sql_file:\n",
    "                sql_command = sql_file.read()\n",
    "            statements = sql_command.split(';')\n",
    "            for statement in statements:\n",
    "                c.execute(statement)\n",
    "            self.conn.commit()\n",
    "        except Error as e:\n",
    "            print(e)\n",
    "\n",
    "\n",
    "    def insert_rows(self, problems, solutions, mode='i'):\n",
    "        \"\"\" Append rows to be inserted into row list \"\"\"\n",
    "\n",
    "        # Two modes: i (insert) or a (append). When in mode i, reset list. With\n",
    "        # mode is a, then just append to existing list\n",
    "        if mode == 'i':\n",
    "            self.rows = []\n",
    "\n",
    "        for item in solutions:\n",
    "            row_dict = {}\n",
    "            idx = item[\"idx\"]\n",
    "            row_dict[\"problem\"] = problems[idx]\n",
    "            row_dict[\"solution\"] = item\n",
    "            self.rows.append(row_dict)\n",
    "\n",
    "    def populate(self):\n",
    "        \"\"\"\n",
    "        Create a new project into the projects table\n",
    "        :param rows: dict list containing table and column names in keys and respective values\n",
    "        :return: list with ids\n",
    "        \"\"\"\n",
    "        sql_template = ''' INSERT INTO %s(%s) VALUES(%s) '''\n",
    "        total_problems = 0\n",
    "        total_solutions = 0\n",
    "        repeated_problems = []\n",
    "        repeated_solutions = 0\n",
    "        idx_old = -1\n",
    "        problem_ids = []\n",
    "        for item in self.rows:\n",
    "            # Get problem and solution\n",
    "            problem = item[\"problem\"]\n",
    "            solution = item[\"solution\"]\n",
    "\n",
    "            # If problem has not already been inserted (same problem,\n",
    "            # different solutions), add problem\n",
    "            ### TODO: this solutions only avoids repetitions if they are in a\n",
    "            # sequence. Make it generic.\n",
    "            idx_current = solution[\"idx\"]\n",
    "            if idx_current > idx_old:\n",
    "                problem_sql = sql_template % (\"problem\", ','.join(problem.keys()),\n",
    "                    ','.join(list('?'*len(problem.keys()))))\n",
    "                cur = self.conn.cursor()\n",
    "                # If it is a repeated problem from another crawler run. skip it\n",
    "                try:\n",
    "                    cur.execute(problem_sql, list(problem.values()))\n",
    "                    total_problems += 1\n",
    "                except sqlite3.IntegrityError:\n",
    "                    repeated_problems.append(item)\n",
    "                    continue\n",
    "            # We are keeping problem_ids in order. If it is repeated we add\n",
    "            # null value to maintain order and idx difference.\n",
    "                problem_ids.append(cur.lastrowid)\n",
    "            else:\n",
    "                problem_ids.append(None)\n",
    "\n",
    "            # Add problem\n",
    "            print(repeated_problems)\n",
    "            problem_id = problem_ids[idx_current]\n",
    "            solution[\"problem_id\"] = problem_id\n",
    "            del solution[\"idx\"]\n",
    "            solution_sql = sql_template % (\"solution\", ','.join(solution.keys()),\n",
    "                    ','.join(list('?'*len(solution.keys()))))\n",
    "            cur = self.conn.cursor()\n",
    "            try:\n",
    "                cur.execute(solution_sql, list(solution.values()))\n",
    "                total_solutions += 1\n",
    "            except sqlite3.IntegrityError:\n",
    "                repeated_solutions += 1\n",
    "\n",
    "            # Update control\n",
    "            idx_old = idx_current\n",
    "        # gravando no bd\n",
    "        self.conn.commit()\n",
    "        self.repeated_problems = repeated_problems\n",
    "        return total_problems, total_solutions, len(repeated_problems), repeated_solutions"
   ]
  },
  {
   "cell_type": "code",
   "execution_count": 1,
   "metadata": {
    "colab": {
     "autoexec": {
      "startup": false,
      "wait_interval": 0
     }
    },
    "colab_type": "code",
    "collapsed": true,
    "id": "3Zq-4ACEAXVl"
   },
   "outputs": [],
   "source": [
    "#import sys\n",
    "#sys.path.append('local_modules')\n",
    "\n",
    "from db import PythonProblems\n",
    "import io\n",
    "import tokenize\n",
    "from sklearn.feature_extraction.text import CountVectorizer\n",
    "import numpy as np\n",
    "from sklearn.decomposition import NMF\n",
    "#from sklearn.decomposition import ProjectedGradientNMF\n",
    "from sklearn.preprocessing import normalize\n",
    "import time\n",
    "from itertools import product"
   ]
  },
  {
   "cell_type": "code",
   "execution_count": 45,
   "metadata": {
    "colab": {
     "autoexec": {
      "startup": false,
      "wait_interval": 0
     },
     "base_uri": "https://localhost:8080/",
     "height": 197,
     "output_extras": [
      {
       "item_id": 1
      }
     ]
    },
    "colab_type": "code",
    "executionInfo": {
     "elapsed": 3033,
     "status": "ok",
     "timestamp": 1521762212179,
     "user": {
      "displayName": "",
      "photoUrl": "",
      "userId": ""
     },
     "user_tz": 180
    },
    "id": "sARJ4LFWA3Pn",
    "outputId": "381fe2a7-5627-4035-a46c-e9f9b6c66da7"
   },
   "outputs": [
    {
     "name": "stdout",
     "output_type": "stream",
     "text": [
      "Requirement already satisfied: bokeh in /usr/local/lib/python3.6/dist-packages\r\n",
      "Requirement already satisfied: tornado>=4.3 in /usr/local/lib/python3.6/dist-packages (from bokeh)\r\n",
      "Requirement already satisfied: numpy>=1.7.1 in /usr/local/lib/python3.6/dist-packages (from bokeh)\r\n",
      "Requirement already satisfied: six>=1.5.2 in /usr/local/lib/python3.6/dist-packages (from bokeh)\r\n",
      "Requirement already satisfied: python-dateutil>=2.1 in /usr/local/lib/python3.6/dist-packages (from bokeh)\r\n",
      "Requirement already satisfied: packaging>=16.8 in /usr/local/lib/python3.6/dist-packages (from bokeh)\r\n",
      "Requirement already satisfied: PyYAML>=3.10 in /usr/local/lib/python3.6/dist-packages (from bokeh)\r\n",
      "Requirement already satisfied: Jinja2>=2.7 in /usr/local/lib/python3.6/dist-packages (from bokeh)\r\n",
      "Requirement already satisfied: pyparsing>=2.0.2 in /usr/local/lib/python3.6/dist-packages (from packaging>=16.8->bokeh)\r\n",
      "Requirement already satisfied: MarkupSafe in /usr/local/lib/python3.6/dist-packages (from Jinja2>=2.7->bokeh)\r\n"
     ]
    }
   ],
   "source": [
    "!pip install bokeh"
   ]
  },
  {
   "cell_type": "code",
   "execution_count": 2,
   "metadata": {
    "colab": {
     "autoexec": {
      "startup": false,
      "wait_interval": 0
     }
    },
    "colab_type": "code",
    "collapsed": true,
    "id": "BeKyxHN88ZuT"
   },
   "outputs": [],
   "source": [
    "from bokeh.models import ColumnDataSource\n",
    "import bokeh.plotting"
   ]
  },
  {
   "cell_type": "code",
   "execution_count": 0,
   "metadata": {
    "colab": {
     "autoexec": {
      "startup": false,
      "wait_interval": 0
     }
    },
    "colab_type": "code",
    "collapsed": true,
    "id": "08j0sOKpBw4s"
   },
   "outputs": [],
   "source": [
    "# Install a Drive FUSE wrapper.\n",
    "# https://github.com/astrada/google-drive-ocamlfuse\n",
    "#!apt-get install -y -qq software-properties-common python-software-properties module-init-tools\n",
    "#!add-apt-repository -y ppa:alessandro-strada/ppa 2>&1 > /dev/null\n",
    "!apt-get update -qq 2>&1 > /dev/null\n",
    "!apt-get -y install -qq google-drive-ocamlfuse fuse"
   ]
  },
  {
   "cell_type": "code",
   "execution_count": 0,
   "metadata": {
    "colab": {
     "autoexec": {
      "startup": false,
      "wait_interval": 0
     }
    },
    "colab_type": "code",
    "collapsed": true,
    "id": "-SCpMJLYB0bb"
   },
   "outputs": [],
   "source": [
    "# Generate auth tokens for Colab\n",
    "from google.colab import auth\n",
    "auth.authenticate_user()"
   ]
  },
  {
   "cell_type": "code",
   "execution_count": 49,
   "metadata": {
    "colab": {
     "autoexec": {
      "startup": false,
      "wait_interval": 0
     },
     "base_uri": "https://localhost:8080/",
     "height": 35,
     "output_extras": [
      {
       "item_id": 1
      }
     ]
    },
    "colab_type": "code",
    "executionInfo": {
     "elapsed": 4860,
     "status": "ok",
     "timestamp": 1521762224723,
     "user": {
      "displayName": "",
      "photoUrl": "",
      "userId": ""
     },
     "user_tz": 180
    },
    "id": "VVby01n1B3Rr",
    "outputId": "9dede0df-64df-463e-9bec-f0d3ef0fcafd"
   },
   "outputs": [
    {
     "name": "stdout",
     "output_type": "stream",
     "text": [
      "··········\n"
     ]
    }
   ],
   "source": [
    "# Generate creds for the Drive FUSE library.\n",
    "from oauth2client.client import GoogleCredentials\n",
    "creds = GoogleCredentials.get_application_default()\n",
    "import getpass\n",
    "!google-drive-ocamlfuse -headless -id={creds.client_id} -secret={creds.client_secret} < /dev/null 2>&1 | grep URL\n",
    "vcode = getpass.getpass()\n",
    "!echo {vcode} | google-drive-ocamlfuse -headless -id={creds.client_id} -secret={creds.client_secret}"
   ]
  },
  {
   "cell_type": "code",
   "execution_count": 50,
   "metadata": {
    "colab": {
     "autoexec": {
      "startup": false,
      "wait_interval": 0
     },
     "base_uri": "https://localhost:8080/",
     "height": 53,
     "output_extras": [
      {
       "item_id": 1
      }
     ]
    },
    "colab_type": "code",
    "executionInfo": {
     "elapsed": 4388,
     "status": "ok",
     "timestamp": 1521762229127,
     "user": {
      "displayName": "",
      "photoUrl": "",
      "userId": ""
     },
     "user_tz": 180
    },
    "id": "AevPOYibB9T6",
    "outputId": "dee9a630-8c9a-4735-f4bc-957ea1f023cd"
   },
   "outputs": [
    {
     "name": "stdout",
     "output_type": "stream",
     "text": [
      "fuse: mountpoint is not empty\r\n",
      "fuse: if you are sure this is safe, use the 'nonempty' mount option\r\n"
     ]
    }
   ],
   "source": [
    "# Create a directory and mount Google Drive using that directory.\n",
    "!mkdir -p drive\n",
    "!google-drive-ocamlfuse drive"
   ]
  },
  {
   "cell_type": "markdown",
   "metadata": {
    "colab_type": "text",
    "id": "zKYUFUM98ZuW"
   },
   "source": [
    "### Connecting to database"
   ]
  },
  {
   "cell_type": "code",
   "execution_count": 3,
   "metadata": {
    "colab": {
     "autoexec": {
      "startup": false,
      "wait_interval": 0
     }
    },
    "colab_type": "code",
    "collapsed": true,
    "id": "WRnFC4SU8ZuX"
   },
   "outputs": [],
   "source": [
    "db = PythonProblems('python.sqlite')"
   ]
  },
  {
   "cell_type": "code",
   "execution_count": 4,
   "metadata": {
    "colab": {
     "autoexec": {
      "startup": false,
      "wait_interval": 0
     },
     "base_uri": "https://localhost:8080/",
     "height": 35,
     "output_extras": [
      {
       "item_id": 1
      }
     ]
    },
    "colab_type": "code",
    "executionInfo": {
     "elapsed": 963,
     "status": "ok",
     "timestamp": 1521762230928,
     "user": {
      "displayName": "",
      "photoUrl": "",
      "userId": ""
     },
     "user_tz": 180
    },
    "id": "_ADYtQrh8Zub",
    "outputId": "51c04470-834d-4873-d520-b41660b20f31"
   },
   "outputs": [
    {
     "name": "stdout",
     "output_type": "stream",
     "text": [
      "Success in parsing all documents! You may go on!\n"
     ]
    }
   ],
   "source": [
    "removed_itens = ['NEWLINE', 'STRING', 'ENDMARKER', 'NUMBER', 'INDENT', 'DEDENT', \"NL\", 'COMMENT', 'ERRORTOKEN']\n",
    "allowed_itens = ['NAME', 'OP']\n",
    "cursor = db.conn.cursor()\n",
    "docs = []\n",
    "errors = []\n",
    "\n",
    "# lendo os dados\n",
    "cursor.execute(\"\"\"\n",
    "SELECT * FROM solution;\n",
    "\"\"\")\n",
    "\n",
    "for idx, linha in enumerate(cursor.fetchall()):\n",
    "    file = io.StringIO(linha[1])\n",
    "    doc = []\n",
    "    try:\n",
    "        for item in tokenize.generate_tokens(file.readline):\n",
    "            if tokenize.tok_name[item[0]] not in removed_itens:\n",
    "                if tokenize.tok_name[item[0]] in allowed_itens:\n",
    "                    doc.append(item[1])\n",
    "                else:\n",
    "                    print(\"%s %s\" % (tokenize.tok_name[item[0]], item[1]))\n",
    "    except (IndentationError, tokenize.TokenError):\n",
    "        errors.append(\"Please, fix solution %d before continuing\" % (idx+1))\n",
    "        \n",
    "    docs.append(' '.join(doc))\n",
    "\n",
    "if not errors:\n",
    "    print(\"Success in parsing all documents! You may go on!\")\n",
    "else:\n",
    "    for item in errors:\n",
    "        print(item)"
   ]
  },
  {
   "cell_type": "code",
   "execution_count": 5,
   "metadata": {
    "colab": {
     "autoexec": {
      "startup": false,
      "wait_interval": 0
     }
    },
    "colab_type": "code",
    "collapsed": true,
    "id": "48kPotuW8Zuh"
   },
   "outputs": [],
   "source": [
    "# Initialize the \"CountVectorizer\" object, which is scikit-learn's\n",
    "# bag of words tool.  \n",
    "vectorizer = CountVectorizer(analyzer = \"word\",   \\\n",
    "                             tokenizer = None,    \\\n",
    "                             preprocessor = None, \\\n",
    "                             stop_words = None,   \\\n",
    "                             #max_features = 26\n",
    "                            ) \n",
    "\n",
    "# fit_transform() does two functions: First, it fits the model\n",
    "# and learns the vocabulary; second, it transforms our training data\n",
    "# into feature vectors. The input to fit_transform should be a list of \n",
    "# strings.\n",
    "train_data_features = vectorizer.fit_transform(docs)\n",
    "\n",
    "# Numpy arrays are easy to work with, so convert the result to an \n",
    "# array\n",
    "train_data_features = train_data_features.toarray()"
   ]
  },
  {
   "cell_type": "markdown",
   "metadata": {
    "colab_type": "text",
    "id": "j6GNkcHu8Zuj"
   },
   "source": [
    "### NCut weights"
   ]
  },
  {
   "cell_type": "code",
   "execution_count": 6,
   "metadata": {
    "colab": {
     "autoexec": {
      "startup": false,
      "wait_interval": 0
     }
    },
    "colab_type": "code",
    "collapsed": true,
    "id": "oVDxEJ9j8Zuk"
   },
   "outputs": [],
   "source": [
    "doc_mat_norm = normalize(train_data_features)"
   ]
  },
  {
   "cell_type": "code",
   "execution_count": 7,
   "metadata": {
    "colab": {
     "autoexec": {
      "startup": false,
      "wait_interval": 0
     }
    },
    "colab_type": "code",
    "collapsed": true,
    "id": "I5qAWY_38Zum"
   },
   "outputs": [],
   "source": [
    "S = np.dot(doc_mat_norm.T, doc_mat_norm) + 0.001"
   ]
  },
  {
   "cell_type": "code",
   "execution_count": 8,
   "metadata": {
    "colab": {
     "autoexec": {
      "startup": false,
      "wait_interval": 0
     },
     "base_uri": "https://localhost:8080/",
     "height": 35,
     "output_extras": [
      {
       "item_id": 1
      }
     ]
    },
    "colab_type": "code",
    "executionInfo": {
     "elapsed": 533,
     "status": "ok",
     "timestamp": 1521762233506,
     "user": {
      "displayName": "",
      "photoUrl": "",
      "userId": ""
     },
     "user_tz": 180
    },
    "id": "JWxbcKxQ8Zuq",
    "outputId": "773c1b2d-0c41-4fc4-fb1f-85062b647977"
   },
   "outputs": [
    {
     "data": {
      "text/plain": [
       "(1508, 1508)"
      ]
     },
     "execution_count": 8,
     "metadata": {},
     "output_type": "execute_result"
    }
   ],
   "source": [
    "S.shape"
   ]
  },
  {
   "cell_type": "code",
   "execution_count": 9,
   "metadata": {
    "colab": {
     "autoexec": {
      "startup": false,
      "wait_interval": 0
     }
    },
    "colab_type": "code",
    "collapsed": true,
    "id": "oKeoagmF8Zuu"
   },
   "outputs": [],
   "source": [
    "D = np.power(np.sum(S, axis=1), -0.5) * np.eye(S.shape[0])"
   ]
  },
  {
   "cell_type": "code",
   "execution_count": 10,
   "metadata": {
    "colab": {
     "autoexec": {
      "startup": false,
      "wait_interval": 0
     }
    },
    "colab_type": "code",
    "collapsed": true,
    "id": "eSDy0zGy8Zux"
   },
   "outputs": [],
   "source": [
    "Y = np.dot(D, train_data_features.T)"
   ]
  },
  {
   "cell_type": "code",
   "execution_count": 11,
   "metadata": {
    "colab": {
     "autoexec": {
      "startup": false,
      "wait_interval": 0
     },
     "base_uri": "https://localhost:8080/",
     "height": 35,
     "output_extras": [
      {
       "item_id": 1
      }
     ]
    },
    "colab_type": "code",
    "executionInfo": {
     "elapsed": 523,
     "status": "ok",
     "timestamp": 1521762235226,
     "user": {
      "displayName": "",
      "photoUrl": "",
      "userId": ""
     },
     "user_tz": 180
    },
    "id": "Ag6tBadQ8Zuz",
    "outputId": "a72884eb-11a4-4c78-baf7-1273e344a70d"
   },
   "outputs": [
    {
     "data": {
      "text/plain": [
       "(1508, 758)"
      ]
     },
     "execution_count": 11,
     "metadata": {},
     "output_type": "execute_result"
    }
   ],
   "source": [
    "Y.shape"
   ]
  },
  {
   "cell_type": "markdown",
   "metadata": {
    "colab_type": "text",
    "id": "PBCLzrIH8Zu2"
   },
   "source": [
    "# Cálculo da NMF"
   ]
  },
  {
   "cell_type": "code",
   "execution_count": 12,
   "metadata": {
    "colab": {
     "autoexec": {
      "startup": false,
      "wait_interval": 0
     }
    },
    "colab_type": "code",
    "collapsed": true,
    "id": "FjYkMhEa8Zu3"
   },
   "outputs": [],
   "source": [
    "models = {}\n",
    "\n",
    "source = ColumnDataSource(data={\"x\": [0], \"y\": [0]})\n",
    "\n",
    "plot = bokeh.plotting.figure(title=\"Ncut\", plot_height=500, plot_width=900)\n",
    "plot.line(x='x', y='y', color=\"#2222aa\", line_width=2, source=source)\n",
    "plot.circle(x='x', y='y', color=\"#2222aa\", fill_color=\"white\", size=8, source=source)\n",
    "bokeh.plotting.show(plot)"
   ]
  },
  {
   "cell_type": "code",
   "execution_count": 13,
   "metadata": {
    "colab": {
     "autoexec": {
      "startup": false,
      "wait_interval": 0
     }
    },
    "colab_type": "code",
    "collapsed": true,
    "id": "kilsmJuLF88z"
   },
   "outputs": [],
   "source": [
    "def edges_sum(cond_1, cond_2, S):\n",
    "    nodes_1 = np.where(cond_1)[0]\n",
    "    nodes_2 = np.where(cond_2)[0]\n",
    "    \n",
    "    indices = product(nodes_1, nodes_2)\n",
    "    return np.sum(S[idx] for idx in indices)\n",
    "\n",
    "\n",
    "def n_cut(mat_U, mat_S):\n",
    "    \n",
    "    term_clusters = mat_U.argmax(axis=1)\n",
    "    \n",
    "    n_k = mat_U.shape[1]\n",
    "    \n",
    "    result = 0.0\n",
    "    for idx_k in range(n_k):\n",
    "        \n",
    "        cond_g_k = term_clusters == idx_k\n",
    "        num = edges_sum(cond_g_k, ~cond_g_k, mat_S)\n",
    "        den = edges_sum(cond_g_k,  cond_g_k, mat_S) + num\n",
    "        \n",
    "        result += num/den\n",
    "        \n",
    "    return 0.5 * result"
   ]
  },
  {
   "cell_type": "code",
   "execution_count": 14,
   "metadata": {
    "colab": {
     "autoexec": {
      "startup": false,
      "wait_interval": 0
     }
    },
    "colab_type": "code",
    "collapsed": true,
    "id": "3YXjimIuGBAD"
   },
   "outputs": [],
   "source": [
    "import random"
   ]
  },
  {
   "cell_type": "code",
   "execution_count": 15,
   "metadata": {
    "colab": {
     "autoexec": {
      "startup": false,
      "wait_interval": 0
     }
    },
    "colab_type": "code",
    "collapsed": true,
    "id": "iFPVNxKdGC5s"
   },
   "outputs": [],
   "source": [
    "num_topics = list(range(5, 50))\n",
    "random.shuffle(num_topics)\n",
    "random.shuffle(num_topics)\n",
    "random.shuffle(num_topics)"
   ]
  },
  {
   "cell_type": "code",
   "execution_count": 16,
   "metadata": {
    "colab": {
     "autoexec": {
      "startup": false,
      "wait_interval": 0
     }
    },
    "colab_type": "code",
    "collapsed": true,
    "id": "G6xgLbgEGDRl"
   },
   "outputs": [],
   "source": [
    "for k in [10,]:\n",
    "    \n",
    "    start_time = time.time()\n",
    "    #model = ProjectedGradientNMF(n_components=k, init=\"nndsvda\", max_iter=1000)\n",
    "    model = NMF(n_components=k, init=\"nndsvda\", max_iter=1000)\n",
    "    V_T = model.fit_transform(Y.T)\n",
    "    U_T = model.components_\n",
    "    n_cut_val = n_cut(U_T.T, S)\n",
    "    \n",
    "    models[k] = {\n",
    "        \"model\": model,\n",
    "        \"V_T\": V_T,\n",
    "        \"n_cut\": n_cut_val,\n",
    "    }\n",
    "    \n",
    "    end_time = time.time()\n",
    "    \n",
    "    #print(\"%d: %f\" %(k, end_time - start_time))\n",
    "    \n",
    "    source.data['x'] = sorted(models.keys())\n",
    "    source.data['y'] = [models[x][\"n_cut\"]/x for x in source.data['x']]\n",
    "    source.stream(source.data)"
   ]
  },
  {
   "cell_type": "code",
   "execution_count": 0,
   "metadata": {
    "colab": {
     "autoexec": {
      "startup": false,
      "wait_interval": 0
     }
    },
    "colab_type": "code",
    "collapsed": true,
    "id": "BiOqDiUP8Zu5"
   },
   "outputs": [],
   "source": [
    "# Take a look at the words in the vocabulary\n",
    "vocab = vectorizer.get_feature_names()\n",
    "vocab_cell = np.asarray(vocab).astype(object)"
   ]
  },
  {
   "cell_type": "code",
   "execution_count": 0,
   "metadata": {
    "colab": {
     "autoexec": {
      "startup": false,
      "wait_interval": 0
     }
    },
    "colab_type": "code",
    "collapsed": true,
    "id": "_J4QblMR8Zu8"
   },
   "outputs": [],
   "source": [
    "model = NMF()\n",
    "W = model.fit_transform(train_data_features)\n",
    "H = model.components_"
   ]
  },
  {
   "cell_type": "code",
   "execution_count": 0,
   "metadata": {
    "colab": {
     "autoexec": {
      "startup": false,
      "wait_interval": 0
     }
    },
    "colab_type": "code",
    "collapsed": true,
    "id": "8mrBwYpq8Zu-"
   },
   "outputs": [],
   "source": [
    "def print_top_words(model, feature_names, n_top_words):\n",
    "    for topic_idx, topic in enumerate(model.components_):\n",
    "        message = \"Topic #%d: \" % topic_idx\n",
    "        message += \" \".join([feature_names[i]\n",
    "                             for i in topic.argsort()[:-n_top_words - 1:-1]])\n",
    "        print(message)\n",
    "    print()"
   ]
  },
  {
   "cell_type": "code",
   "execution_count": 0,
   "metadata": {
    "colab": {
     "autoexec": {
      "startup": false,
      "wait_interval": 0
     },
     "output_extras": [
      {}
     ]
    },
    "colab_type": "code",
    "id": "4WL0JJIB8ZvA",
    "outputId": "9a164929-187e-4370-8b2a-2c8e2b59c7b9"
   },
   "outputs": [
    {
     "name": "stdout",
     "output_type": "stream",
     "text": [
      "\n",
      "Topics in NMF model (Frobenius norm):\n",
      "Topic #0: true false while if format append column def elif else float for import in input int len num print random range result_str return row str and\n",
      "Topic #1: format print while and input import if str append column def elif else false float for return result_str true int len num row random range in\n",
      "Topic #2: if while true append column def elif else false float for format import in input int len num print random range result_str return row str and\n",
      "Topic #3: print append else def random float len while if column elif false for format in import true input int num range result_str return row str and\n",
      "Topic #4: result_str column and else row range for elif input if append def false float format while import true int len num print random return str in\n",
      "Topic #5: column row for range and in false else while format import str return len int input true if random float num print elif def append result_str\n",
      "Topic #6: print input format true while if append column def elif else false float for in import int len num random range result_str return row str and\n",
      "Topic #7: range for import row and result_str if append column def elif else false float format while true input int len num print random return str in\n",
      "Topic #8: float while input and import for str int return len append column def elif else false if format result_str true row num print random range in\n",
      "Topic #9: print while false and return len format append column def elif else str float for if result_str import true input int num row random range in\n",
      "Topic #10: else if import while true append column def elif false float for format in input int len num print random range result_str return row str and\n",
      "Topic #11: int print input for elif while if append column def else false float format in import true len num random range result_str return row str and\n",
      "Topic #12: len if for input while import append column def elif else false float format in true int num print random range result_str return row str and\n",
      "Topic #13: and if true while in result_str append column def elif else false float for format return import row input int len num print random range str\n",
      "Topic #14: num int input in and return result_str format append column def elif else false float for if range import true str row len print random while\n",
      "Topic #15: import print true in append column def elif else false float for format if while input int len num random range result_str return row str and\n",
      "Topic #16: elif if else while true append column def false float for format import in input int len num print random range result_str return row str and\n",
      "Topic #17: def while false return import append column elif else float for format if in true input int len num print random range result_str row str and\n",
      "Topic #18: in if for true append column def elif else false float format import while input int len num print random range result_str return row str and\n",
      "Topic #19: append while for if false int str format import column def elif else float in true input len num print random range result_str return row and\n",
      "Topic #20: str print input def random while if append column elif else false float for format in import true int len num range result_str return row and\n",
      "Topic #21: random import and if while input row result_str for append column def elif else false float str format range true int len num print return in\n",
      "Topic #22: for in true append column def elif else false float format if import while input int len num print random range result_str return row str and\n",
      "Topic #23: row true for def str int while if append column elif else false float format in import input len num print random range result_str return and\n",
      "Topic #24: input false if while import append column def elif else float for format in true int len num print random range result_str return row str and\n",
      "Topic #25: return def if while import append column elif else false float for format in true input int len num print random range result_str row str and\n",
      "\n"
     ]
    }
   ],
   "source": [
    "print(\"\\nTopics in NMF model (Frobenius norm):\")\n",
    "tfidf_feature_names = vectorizer.get_feature_names()\n",
    "print_top_words(model, tfidf_feature_names, 26)"
   ]
  },
  {
   "cell_type": "code",
   "execution_count": 0,
   "metadata": {
    "colab": {
     "autoexec": {
      "startup": false,
      "wait_interval": 0
     }
    },
    "colab_type": "code",
    "collapsed": true,
    "id": "nw5StLwQ-GhE"
   },
   "outputs": [],
   "source": []
  }
 ],
 "metadata": {
  "colab": {
   "default_view": {},
   "name": "Tokenize solutions.ipynb",
   "provenance": [],
   "version": "0.3.2",
   "views": {}
  },
  "kernelspec": {
   "display_name": "Python 3",
   "language": "python",
   "name": "python3"
  },
  "language_info": {
   "codemirror_mode": {
    "name": "ipython",
    "version": 3
   },
   "file_extension": ".py",
   "mimetype": "text/x-python",
   "name": "python",
   "nbconvert_exporter": "python",
   "pygments_lexer": "ipython3",
   "version": "3.6.2"
  }
 },
 "nbformat": 4,
 "nbformat_minor": 1
}
