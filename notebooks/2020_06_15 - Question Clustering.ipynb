{
 "cells": [
  {
   "cell_type": "code",
   "execution_count": 1,
   "metadata": {},
   "outputs": [],
   "source": [
    "# DB \n",
    "import psycopg2\n",
    "from django.conf import settings\n",
    "from django.db.models import Case, IntegerField, Value\n",
    "\n",
    "# Helpers\n",
    "import numpy as np\n",
    "from collections import Counter, defaultdict\n",
    "import pickle\n",
    "import rpy2\n",
    "\n",
    "# Learning\n",
    "from sklearn.cluster import AgglomerativeClustering\n",
    "\n",
    "# Evaluation\n",
    "from sklearn.metrics.pairwise import cosine_similarity, cosine_distances\n",
    "\n",
    "# Plot\n",
    "import matplotlib.pyplot as plt\n",
    "import seaborn as sns\n",
    "\n",
    "%load_ext rpy2.ipython"
   ]
  },
  {
   "cell_type": "code",
   "execution_count": 2,
   "metadata": {},
   "outputs": [],
   "source": [
    "folder = \"data/tese/\""
   ]
  },
  {
   "cell_type": "code",
   "execution_count": 3,
   "metadata": {},
   "outputs": [
    {
     "name": "stdout",
     "output_type": "stream",
     "text": [
      "(12, 54)\n",
      "(5, 54)\n"
     ]
    }
   ],
   "source": [
    "# Open automated and refined Q-matrices\n",
    "with open('%s/q_matrix_automated.pkl' % folder, 'rb') as pklfile:\n",
    "    q_matrix_automated = pickle.load(pklfile)\n",
    "    \n",
    "with open('%s/q_matrix_refined.pkl' % folder, 'rb') as pklfile:\n",
    "    q_matrix_analysis = pickle.load(pklfile)\n",
    "    \n",
    "print(q_matrix_automated.T.shape)\n",
    "print(q_matrix_analysis.T.shape)"
   ]
  },
  {
   "cell_type": "code",
   "execution_count": 4,
   "metadata": {},
   "outputs": [],
   "source": [
    "np.savetxt(\"%s/q_matrix_automated.csv\" % folder, q_matrix_automated, delimiter=\",\")\n",
    "np.savetxt(\"%s/q_matrix_refined.csv\" % folder, q_matrix_analysis, delimiter=\",\")"
   ]
  },
  {
   "cell_type": "code",
   "execution_count": 5,
   "metadata": {},
   "outputs": [
    {
     "data": {
      "text/plain": [
       "(54,)"
      ]
     },
     "execution_count": 5,
     "metadata": {},
     "output_type": "execute_result"
    }
   ],
   "source": [
    "with open(\"%s/questions_idx.pkl\" % folder, 'rb') as pklfile:\n",
    "    questions_idx = pickle.load(pklfile)\n",
    "\n",
    "questions_idx = np.asarray(questions_idx)\n",
    "questions_idx.shape"
   ]
  },
  {
   "cell_type": "code",
   "execution_count": 6,
   "metadata": {},
   "outputs": [],
   "source": [
    "connection = psycopg2.connect(user = settings.DATABASES[\"default\"][\"USER\"],\n",
    "                                  password = settings.DATABASES[\"default\"][\"PASSWORD\"],\n",
    "                                  host = settings.DATABASES[\"default\"][\"HOST\"],\n",
    "                                  port = settings.DATABASES[\"default\"][\"PORT\"],\n",
    "                                  database = settings.DATABASES[\"default\"][\"NAME\"])\n",
    "connection.autocommit=True\n",
    "cursor = connection.cursor()"
   ]
  },
  {
   "cell_type": "code",
   "execution_count": 7,
   "metadata": {},
   "outputs": [
    {
     "name": "stdout",
     "output_type": "stream",
     "text": [
      "Total number of questions: 48\n",
      "Total number of attempts: 3632\n"
     ]
    }
   ],
   "source": [
    "# Filter used problems and solutions\n",
    "last_id = 132\n",
    "problems = Problem.objects.filter(id__lte=last_id)\n",
    "solutions = Solution.objects.filter(problem__in=problems, ignore=False).values_list('problem', flat=True)\n",
    "problems = solutions.order_by('problem').values_list(\n",
    "    'problem', flat=True).distinct('problem')\n",
    "print(\"Total number of questions: %d\" % problems.count())\n",
    "\n",
    "# Get all students\n",
    "user_blacklist = UserProfile.objects.filter(professor__user__username='sem_professor')\n",
    "\n",
    "attempts = UserLog.objects.exclude(outcome='S').filter(\n",
    "    timestamp__lt=OuterRef('timestamp'), user__id=OuterRef('user__id')).annotate(\n",
    "    attempt=Count('*')).values('attempt')\n",
    "\n",
    "# Remove group by values\n",
    "attempts.query.set_group_by()\n",
    "\n",
    "# Get users\n",
    "users = UserLog.objects.filter(problem__in=problems).exclude(outcome='S').exclude(\n",
    "    user__userprofile__in=user_blacklist).annotate(\n",
    "    attempt=Subquery(attempts, output_field=IntegerField())).annotate(\n",
    "    score=Case(\n",
    "        When(outcome='F', then=Value(0.1)),\n",
    "        When(outcome='P', then=Value(1)),\n",
    "        output_field=IntegerField())).values_list(\n",
    "    \"user__id\", \"problem_id\", \"attempt\", \"score\"#\"outcome\", \"timestamp\"\n",
    ").order_by(\"timestamp\").filter(attempt=1).values_list('user_id', flat=True)\n",
    "\n",
    "cluster_data = UserLog.objects.filter(problem__in=problems).exclude(outcome='S').annotate(\n",
    "    attempt=Subquery(attempts, output_field=IntegerField())).annotate(\n",
    "    score=Case(\n",
    "        When(outcome='F', then=Value(0)),\n",
    "        When(outcome='P', then=Value(1)),\n",
    "        output_field=IntegerField())).order_by(\"timestamp\").filter(user__in=users)\n",
    "\n",
    "attempts_total = cluster_data.count()\n",
    "print(\"Total number of attempts: %d\" % attempts_total)"
   ]
  },
  {
   "cell_type": "code",
   "execution_count": 8,
   "metadata": {},
   "outputs": [],
   "source": [
    "# Get voted concepts per solution\n",
    "concepts = SolutionConcept.objects.all()\n",
    "count = concepts.values_list('solution').annotate(count=Count('user', distinct=True))\n",
    "sol_id, eval_count = zip(*list(count))\n",
    "\n",
    "# Get voted concepts per problem\n",
    "concepts = SolutionConcept.objects.all()\n",
    "count = concepts.values_list('solution__problem').annotate(count=Count('user', distinct=True))\n",
    "sol_id, eval_count = zip(*list(count))\n",
    "\n",
    "# Count concept agreement per problem\n",
    "count_per_problem = dict(concepts.values_list('solution__problem').annotate(\n",
    "    count=Count('user', distinct=True)))\n",
    "\n",
    "MIN_THRESHOLD = 0.5\n",
    "agreed_concepts = defaultdict(list)\n",
    "agreed_concepts_len = {}\n",
    "\n",
    "# Filter out the concepts that didn't have agreement (50% of evaluators voted for it)\n",
    "for problem in problems:\n",
    "    max_votes = count_per_problem[problem]\n",
    "    concepts_per_problem = dict(concepts.filter(solution__problem=problem).values_list('concept').annotate(\n",
    "        count=Count(\"concept\")))\n",
    "    for concept, value in concepts_per_problem.items():\n",
    "        if value >= (max_votes * MIN_THRESHOLD):\n",
    "            agreed_concepts[problem].append(concept)\n",
    "    agreed_concepts_len[problem] = len(agreed_concepts[problem])"
   ]
  },
  {
   "cell_type": "code",
   "execution_count": 9,
   "metadata": {},
   "outputs": [
    {
     "name": "stderr",
     "output_type": "stream",
     "text": [
      "R[write to console]: Loading required package: ggplot2\n",
      "\n",
      "R[write to console]: Welcome! Want to learn more? See two factoextra-related books at https://goo.gl/ve3WBa\n",
      "\n",
      "R[write to console]: \n",
      "Attaching package: ‘proxy’\n",
      "\n",
      "\n",
      "R[write to console]: The following objects are masked from ‘package:stats’:\n",
      "\n",
      "    as.dist, dist\n",
      "\n",
      "\n",
      "R[write to console]: The following object is masked from ‘package:base’:\n",
      "\n",
      "    as.matrix\n",
      "\n",
      "\n"
     ]
    }
   ],
   "source": [
    "%%R\n",
    "library(factoextra)\n",
    "library(proxy)"
   ]
  },
  {
   "cell_type": "code",
   "execution_count": 10,
   "metadata": {},
   "outputs": [
    {
     "name": "stdout",
     "output_type": "stream",
     "text": [
      "[1] \"/home/lmoraes/machine-teaching/machineteaching\"\n"
     ]
    }
   ],
   "source": [
    "%%R\n",
    "getwd()"
   ]
  },
  {
   "cell_type": "code",
   "execution_count": 192,
   "metadata": {},
   "outputs": [],
   "source": [
    "%%R -o clusters\n",
    "data <- read.csv('data/tese/q_matrix_automated.csv', header=FALSE)\n",
    "# data <- read.csv('data/tese/q_matrix_automated.csv', header=FALSE)\n",
    "# data <- read.csv('data/tese/q_matrix_refined.csv', header=FALSE)\n",
    "# data <- as.data.frame(t(as.matrix(data)))\n",
    "\n",
    "# res.dist <- dist(data, method = \"jaccard\")\n",
    "res.dist <- dist(data, method = \"euclidean\")\n",
    "res.hc <- hclust(d=res.dist, method = \"ward.D2\")\n",
    "\n",
    "options(repr.plot.width=4, repr.plot.height=3)\n",
    "k <- 14\n",
    "clusters <- cutree(res.hc, k)"
   ]
  },
  {
   "cell_type": "code",
   "execution_count": 193,
   "metadata": {},
   "outputs": [
    {
     "data": {
      "image/png": "[encoded data removed]"
     },
     "metadata": {},
     "output_type": "display_data"
    }
   ],
   "source": [
    "%%R\n",
    "fviz_dend(res.hc, \n",
    "          k = k,\n",
    "          cex = 0.5, \n",
    "          color_labels_by_k = TRUE,\n",
    "          rect = TRUE)"
   ]
  },
  {
   "cell_type": "code",
   "execution_count": 194,
   "metadata": {},
   "outputs": [
    {
     "data": {
      "text/plain": [
       "array([ 1,  1,  2,  1,  1,  1,  1,  3,  4,  5,  6,  7,  1,  4,  8,  5,  9,\n",
       "        6,  2,  1,  1,  2,  2,  2,  2,  2,  2,  2,  6,  4,  8,  1,  6, 10,\n",
       "        7, 10,  1,  7, 10, 11, 12,  4,  4,  7,  5,  5,  7,  7,  4, 13,  4,\n",
       "       14,  1,  1], dtype=int32)"
      ]
     },
     "execution_count": 194,
     "metadata": {},
     "output_type": "execute_result"
    }
   ],
   "source": [
    "clusters"
   ]
  },
  {
   "cell_type": "code",
   "execution_count": 195,
   "metadata": {},
   "outputs": [
    {
     "data": {
      "text/plain": [
       "{1, 2, 3, 4, 5, 6, 7, 8, 9, 10, 11, 12, 13, 14}"
      ]
     },
     "execution_count": 195,
     "metadata": {},
     "output_type": "execute_result"
    }
   ],
   "source": [
    "unique_clusters = set(clusters)\n",
    "unique_clusters"
   ]
  },
  {
   "cell_type": "markdown",
   "metadata": {},
   "source": [
    "Redoing attempts statistics"
   ]
  },
  {
   "cell_type": "code",
   "execution_count": 230,
   "metadata": {
    "scrolled": false
   },
   "outputs": [
    {
     "name": "stdout",
     "output_type": "stream",
     "text": [
      "Total number of questions: 13\n",
      "[11, 12, 5]\n",
      "[14, 1, 8]\n",
      "[14, 7, 8]\n",
      "[14, 12, 2]\n",
      "[9, 3, 5]\n",
      "[6, 11, 7, 12]\n",
      "[14, 3, 5]\n",
      "[14, 12, 7, 10]\n",
      "[14, 1, 3, 5]\n",
      "[14, 1, 3, 5]\n",
      "[14, 1, 3, 7]\n",
      "[14, 1, 3, 5]\n",
      "[14, 7]\n",
      "Concepts: [14]\n",
      "defaultdict(<class 'int'>, {11: 2, 12: 4, 5: 6, 14: 10, 1: 5, 8: 2, 7: 5, 2: 1, 9: 1, 3: 6, 6: 1, 10: 1})\n",
      "Total of 589 attempts\n",
      "Total percentage of attempts: 16.22\n",
      "Success attempts: 185 (31.41%)\n",
      "Number of students: 88\n",
      "\n",
      "Total number of questions: 9\n",
      "[6, 11, 14, 5]\n",
      "[6, 11, 14, 7]\n",
      "[11, 14]\n",
      "[6, 11, 14, 3, 9]\n",
      "[6, 11, 14, 4]\n",
      "[11, 14]\n",
      "[6, 11, 14, 5]\n",
      "[11, 7, 12]\n",
      "[11, 7, 12]\n",
      "Concepts: [11 14]\n",
      "defaultdict(<class 'int'>, {6: 5, 11: 9, 14: 7, 5: 2, 7: 3, 3: 1, 9: 1, 4: 1, 12: 2})\n",
      "Total of 481 attempts\n",
      "Total percentage of attempts: 13.24\n",
      "Success attempts: 137 (28.48%)\n",
      "Number of students: 84\n",
      "\n",
      "Total number of questions: 1\n",
      "[11, 8, 12]\n",
      "Concepts: [11  8 12]\n",
      "defaultdict(<class 'int'>, {11: 1, 8: 1, 12: 1})\n",
      "Total of 60 attempts\n",
      "Total percentage of attempts: 1.65\n",
      "Success attempts: 25 (41.67%)\n",
      "Number of students: 27\n",
      "\n",
      "Total number of questions: 7\n",
      "[11, 14, 12]\n",
      "[11, 5, 12]\n",
      "[12, 5]\n",
      "[3, 7, 12, 5]\n",
      "[13, 7]\n",
      "[12]\n",
      "[14, 8, 7, 11]\n",
      "Concepts: [12]\n",
      "defaultdict(<class 'int'>, {11: 3, 14: 2, 12: 5, 5: 3, 3: 1, 7: 3, 13: 1, 8: 1})\n",
      "Total of 599 attempts\n",
      "Total percentage of attempts: 16.49\n",
      "Success attempts: 94 (15.69%)\n",
      "Number of students: 95\n",
      "\n",
      "Total number of questions: 4\n",
      "[6, 11, 8, 12]\n",
      "[11, 8, 12]\n",
      "[11, 7, 12]\n",
      "[7, 10, 12]\n",
      "Concepts: [11 12]\n",
      "defaultdict(<class 'int'>, {6: 1, 11: 3, 8: 2, 12: 4, 7: 2, 10: 1})\n",
      "Total of 434 attempts\n",
      "Total percentage of attempts: 11.95\n",
      "Success attempts: 67 (15.44%)\n",
      "Number of students: 73\n",
      "\n",
      "Total number of questions: 4\n",
      "[7, 11]\n",
      "[6, 11, 5]\n",
      "[12, 5]\n",
      "[6, 13, 8]\n",
      "Concepts: []\n",
      "defaultdict(<class 'int'>, {7: 1, 11: 2, 6: 2, 5: 2, 12: 1, 13: 1, 8: 1})\n",
      "Total of 312 attempts\n",
      "Total percentage of attempts: 8.59\n",
      "Success attempts: 53 (16.99%)\n",
      "Number of students: 58\n",
      "\n",
      "Total number of questions: 5\n",
      "[7, 11]\n",
      "[14, 5, 12]\n",
      "[8, 13, 12, 5]\n",
      "[13, 7]\n",
      "[5, 3, 7]\n",
      "Concepts: [7 5]\n",
      "defaultdict(<class 'int'>, {7: 3, 11: 1, 14: 1, 5: 3, 12: 2, 8: 1, 13: 2, 3: 1})\n",
      "Total of 629 attempts\n",
      "Total percentage of attempts: 17.32\n",
      "Success attempts: 156 (24.80%)\n",
      "Number of students: 117\n",
      "\n",
      "Total number of questions: 2\n",
      "[11, 8, 12, 5]\n",
      "[6, 11, 7, 12]\n",
      "Concepts: [11 12]\n",
      "defaultdict(<class 'int'>, {11: 2, 8: 1, 12: 2, 5: 1, 6: 1, 7: 1})\n",
      "Total of 157 attempts\n",
      "Total percentage of attempts: 4.32\n",
      "Success attempts: 16 (10.19%)\n",
      "Number of students: 16\n",
      "\n",
      "Total number of questions: 1\n",
      "[6, 11, 12, 8]\n",
      "Concepts: [ 6 11 12  8]\n",
      "defaultdict(<class 'int'>, {6: 1, 11: 1, 12: 1, 8: 1})\n",
      "Total of 73 attempts\n",
      "Total percentage of attempts: 2.01\n",
      "Success attempts: 28 (38.36%)\n",
      "Number of students: 32\n",
      "\n",
      "Total number of questions: 3\n",
      "[11, 14, 12, 5]\n",
      "[6, 14, 10, 12]\n",
      "[8, 13, 12, 5]\n",
      "Concepts: [14 12  5]\n",
      "defaultdict(<class 'int'>, {11: 1, 14: 2, 12: 3, 5: 2, 6: 1, 10: 1, 8: 1, 13: 1})\n",
      "Total of 214 attempts\n",
      "Total percentage of attempts: 5.89\n",
      "Success attempts: 34 (15.89%)\n",
      "Number of students: 35\n",
      "\n",
      "Total number of questions: 1\n",
      "[14, 7, 8]\n",
      "Concepts: [14  7  8]\n",
      "defaultdict(<class 'int'>, {14: 1, 7: 1, 8: 1})\n",
      "Total of 71 attempts\n",
      "Total percentage of attempts: 1.95\n",
      "Success attempts: 8 (11.27%)\n",
      "Number of students: 12\n",
      "\n",
      "Total number of questions: 1\n",
      "[12]\n",
      "Concepts: [12]\n",
      "defaultdict(<class 'int'>, {12: 1})\n",
      "Total of 256 attempts\n",
      "Total percentage of attempts: 7.05\n",
      "Success attempts: 4 (1.56%)\n",
      "Number of students: 4\n",
      "\n",
      "Total number of questions: 1\n",
      "[12]\n",
      "Concepts: [12]\n",
      "defaultdict(<class 'int'>, {12: 1})\n",
      "Total of 284 attempts\n",
      "Total percentage of attempts: 7.82\n",
      "Success attempts: 58 (20.42%)\n",
      "Number of students: 69\n",
      "\n",
      "Total number of questions: 1\n",
      "[12, 5]\n",
      "Concepts: [12  5]\n",
      "defaultdict(<class 'int'>, {12: 1, 5: 1})\n",
      "Total of 65 attempts\n",
      "Total percentage of attempts: 1.79\n",
      "Success attempts: 7 (10.77%)\n",
      "Number of students: 12\n",
      "\n",
      "CPU times: user 538 ms, sys: 16.8 ms, total: 554 ms\n",
      "Wall time: 57 s\n"
     ]
    }
   ],
   "source": [
    "%%time\n",
    "points = []\n",
    "\n",
    "success_per_question_cluster = defaultdict(dict)\n",
    "for i, cluster in enumerate(unique_clusters):\n",
    "    q_idx = questions_idx[np.where(clusters == cluster)]\n",
    "\n",
    "    # Filter cluster problems\n",
    "    problems = Problem.objects.filter(id__in=q_idx)\n",
    "    print(\"Total number of questions: %d\" % problems.count())\n",
    "    \n",
    "    # Get concepts\n",
    "    concept_c = defaultdict(int)\n",
    "    for problem in problems:\n",
    "        print(agreed_concepts[problem.id])\n",
    "        conc = agreed_concepts[problem.id]\n",
    "        for c in conc:\n",
    "            concept_c[c] += 1\n",
    "    cs, votes = zip(*list(concept_c.items()))\n",
    "    best_c = np.asarray(cs)[np.where(np.asarray(votes) >= 0.6*problems.count())]\n",
    "    print(\"Concepts: %s\" % best_c)\n",
    "    print(concept_c)\n",
    "\n",
    "    # Get attempts\n",
    "    attempts = cluster_data.filter(problem__in=problems).values_list(\n",
    "        \"user__id\", \"problem_id\", \"attempt\", \"score\")\n",
    "    \n",
    "    # Get students\n",
    "    user = set(cluster_data.filter(problem__in=problems).values_list('user__id', flat=True))\n",
    "    \n",
    "    attempts_count = attempts.count()\n",
    "    attempts_avg = attempts_count/len(user)/problems.count()\n",
    "#     users_total = users.count()\n",
    "    success_attempts = attempts.filter(score=1)\n",
    "    fail_attempts = attempts.filter(score=0)\n",
    "\n",
    "    print(\"Total of %d attempts\" % attempts_count)\n",
    "    print(\"Total percentage of attempts: %.2f\" % (attempts_count/attempts_total*100))\n",
    "#     print(\"Total of %d students\" % users_total)\n",
    "#     print(\"Average of attempt per student: %.2f\" % (attempts_total/users_total))\n",
    "    success_perc = success_attempts.count()/attempts_count\n",
    "    print(\"Success attempts: %d (%.2f%%)\" % (success_attempts.count(), 100*success_perc))\n",
    "#     print(\"Failed attempts: %d (%.2f%%)\" % (fail_attempts.count(), 100*fail_attempts.count()/attempts_count))\n",
    "#     print()\n",
    "    \n",
    "#     success_per_student = defaultdict(int)\n",
    "#     fail_per_student = defaultdict(int)\n",
    "#     success_per_question = defaultdict(int)\n",
    "#     fail_per_question = defaultdict(int)\n",
    "\n",
    "#     for row in success_attempts:\n",
    "#         s_idx, q_idx, a_idx, outcome = row\n",
    "#         success_per_student[s_idx] += 1\n",
    "#         success_per_question[q_idx] += 1\n",
    "\n",
    "\n",
    "#     for row in fail_attempts:\n",
    "#         s_idx, q_idx, a_idx, outcome = row\n",
    "#         fail_per_student[s_idx] += 1\n",
    "#         fail_per_question[q_idx] += 1\n",
    "        \n",
    "#     success_per_question_cluster[i] = success_per_question\n",
    "\n",
    "#     min_student_success_attempt = min(success_per_student.values())\n",
    "#     max_student_success_attempt = max(success_per_student.values())\n",
    "#     avg_student_success_attempt = np.mean(list(success_per_student.values()))\n",
    "#     min_student_fail_attempt = min(fail_per_student.values())\n",
    "#     max_student_fail_attempt = max(fail_per_student.values())\n",
    "#     avg_student_fail_attempt = np.mean(list(fail_per_student.values()))\n",
    "\n",
    "#     min_question_success_attempt = min(success_per_question.values())\n",
    "#     max_question_success_attempt = max(success_per_question.values())\n",
    "#     avg_question_success_attempt = np.mean(list(success_per_question.values()))\n",
    "#     median_question_success_attempt = np.median(list(success_per_question.values()))\n",
    "#     min_question_fail_attempt = min(fail_per_question.values())\n",
    "#     max_question_fail_attempt = max(fail_per_question.values())\n",
    "#     avg_question_fail_attempt = np.mean(list(fail_per_question.values()))\n",
    "#     median_question_fail_attempt = np.median(list(fail_per_question.values()))\n",
    "\n",
    "#     print(\"Min student success attempt: %d\" % min_student_success_attempt)\n",
    "#     print(\"Max student success attempt: %d\" % max_student_success_attempt)\n",
    "#     print(\"Avg student success attempt: %.2f\" % avg_student_success_attempt)\n",
    "\n",
    "#     print(\"Min student fail attempt: %d\" % min_student_fail_attempt)\n",
    "#     print(\"Max student fail attempt: %d\" % max_student_fail_attempt)\n",
    "#     print(\"Avg student fail attempt: %.2f\" % avg_student_fail_attempt)\n",
    "\n",
    "#     print(\"Min question success attempt: %d\" % min_question_success_attempt)\n",
    "#     print(\"Max question success attempt: %d\" % max_question_success_attempt)\n",
    "#     print(\"Avg question success attempt: %.2f\" % avg_question_success_attempt)\n",
    "#     print(\"Median question success attempt: %.2f\" % median_question_success_attempt)\n",
    "\n",
    "#     print(\"Min question fail attempt: %d\" % min_question_fail_attempt)\n",
    "#     print(\"Max question fail attempt: %d\" % max_question_fail_attempt)\n",
    "#     print(\"Avg question fail attempt: %.2f\" % avg_question_fail_attempt)\n",
    "#     print(\"Median question fail attempt: %.2f\" % median_question_fail_attempt)\n",
    "    print(\"Number of students: %d\" % len(user))\n",
    "    print()\n",
    "#     c_str = [str(c) for c in best_c.tolist()]\n",
    "#     print(c_str)\n",
    "    points.append([attempts_avg, success_perc, len(user), best_c.tolist()])\n",
    "#     points.append([attempts_avg, success_perc, len(user), \", \".join(c_str)])"
   ]
  },
  {
   "cell_type": "code",
   "execution_count": 220,
   "metadata": {},
   "outputs": [
    {
     "data": {
      "text/html": [
       "        <script type=\"text/javascript\">\n",
       "        window.PlotlyConfig = {MathJaxConfig: 'local'};\n",
       "        if (window.MathJax) {MathJax.Hub.Config({SVG: {font: \"STIX-Web\"}});}\n",
       "        if (typeof require !== 'undefined') {\n",
       "        require.undef(\"plotly\");\n",
       "        requirejs.config({\n",
       "            paths: {\n",
       "                'plotly': ['https://cdn.plot.ly/plotly-latest.min']\n",
       "            }\n",
       "        });\n",
       "        require(['plotly'], function(Plotly) {\n",
       "            window._Plotly = Plotly;\n",
       "        });\n",
       "        }\n",
       "        </script>\n",
       "        "
      ]
     },
     "metadata": {},
     "output_type": "display_data"
    }
   ],
   "source": [
    "import pandas as pd\n",
    "import plotly.offline as py\n",
    "py.init_notebook_mode(connected=True)\n",
    "import plotly.express as px\n",
    "import math\n",
    "import plotly.graph_objects as go"
   ]
  },
  {
   "cell_type": "code",
   "execution_count": 231,
   "metadata": {},
   "outputs": [
    {
     "data": {
      "text/html": [
       "<div>\n",
       "<style scoped>\n",
       "    .dataframe tbody tr th:only-of-type {\n",
       "        vertical-align: middle;\n",
       "    }\n",
       "\n",
       "    .dataframe tbody tr th {\n",
       "        vertical-align: top;\n",
       "    }\n",
       "\n",
       "    .dataframe thead th {\n",
       "        text-align: right;\n",
       "    }\n",
       "</style>\n",
       "<table border=\"1\" class=\"dataframe\">\n",
       "  <thead>\n",
       "    <tr style=\"text-align: right;\">\n",
       "      <th></th>\n",
       "      <th>Attempts</th>\n",
       "      <th>Success rate</th>\n",
       "      <th>Students</th>\n",
       "      <th>Concepts</th>\n",
       "    </tr>\n",
       "  </thead>\n",
       "  <tbody>\n",
       "    <tr>\n",
       "      <th>0</th>\n",
       "      <td>0.514860</td>\n",
       "      <td>0.314092</td>\n",
       "      <td>88</td>\n",
       "      <td>[14]</td>\n",
       "    </tr>\n",
       "    <tr>\n",
       "      <th>1</th>\n",
       "      <td>0.636243</td>\n",
       "      <td>0.284823</td>\n",
       "      <td>84</td>\n",
       "      <td>[11, 14]</td>\n",
       "    </tr>\n",
       "    <tr>\n",
       "      <th>2</th>\n",
       "      <td>2.222222</td>\n",
       "      <td>0.416667</td>\n",
       "      <td>27</td>\n",
       "      <td>[11, 8, 12]</td>\n",
       "    </tr>\n",
       "    <tr>\n",
       "      <th>3</th>\n",
       "      <td>0.900752</td>\n",
       "      <td>0.156928</td>\n",
       "      <td>95</td>\n",
       "      <td>[12]</td>\n",
       "    </tr>\n",
       "    <tr>\n",
       "      <th>4</th>\n",
       "      <td>1.486301</td>\n",
       "      <td>0.154378</td>\n",
       "      <td>73</td>\n",
       "      <td>[11, 12]</td>\n",
       "    </tr>\n",
       "    <tr>\n",
       "      <th>5</th>\n",
       "      <td>1.344828</td>\n",
       "      <td>0.169872</td>\n",
       "      <td>58</td>\n",
       "      <td>[]</td>\n",
       "    </tr>\n",
       "    <tr>\n",
       "      <th>6</th>\n",
       "      <td>1.075214</td>\n",
       "      <td>0.248013</td>\n",
       "      <td>117</td>\n",
       "      <td>[7, 5]</td>\n",
       "    </tr>\n",
       "    <tr>\n",
       "      <th>7</th>\n",
       "      <td>4.906250</td>\n",
       "      <td>0.101911</td>\n",
       "      <td>16</td>\n",
       "      <td>[11, 12]</td>\n",
       "    </tr>\n",
       "    <tr>\n",
       "      <th>8</th>\n",
       "      <td>2.281250</td>\n",
       "      <td>0.383562</td>\n",
       "      <td>32</td>\n",
       "      <td>[6, 11, 12, 8]</td>\n",
       "    </tr>\n",
       "    <tr>\n",
       "      <th>9</th>\n",
       "      <td>2.038095</td>\n",
       "      <td>0.158879</td>\n",
       "      <td>35</td>\n",
       "      <td>[14, 12, 5]</td>\n",
       "    </tr>\n",
       "    <tr>\n",
       "      <th>10</th>\n",
       "      <td>5.916667</td>\n",
       "      <td>0.112676</td>\n",
       "      <td>12</td>\n",
       "      <td>[14, 7, 8]</td>\n",
       "    </tr>\n",
       "    <tr>\n",
       "      <th>11</th>\n",
       "      <td>64.000000</td>\n",
       "      <td>0.015625</td>\n",
       "      <td>4</td>\n",
       "      <td>[12]</td>\n",
       "    </tr>\n",
       "    <tr>\n",
       "      <th>12</th>\n",
       "      <td>4.115942</td>\n",
       "      <td>0.204225</td>\n",
       "      <td>69</td>\n",
       "      <td>[12]</td>\n",
       "    </tr>\n",
       "    <tr>\n",
       "      <th>13</th>\n",
       "      <td>5.416667</td>\n",
       "      <td>0.107692</td>\n",
       "      <td>12</td>\n",
       "      <td>[12, 5]</td>\n",
       "    </tr>\n",
       "  </tbody>\n",
       "</table>\n",
       "</div>"
      ],
      "text/plain": [
       "     Attempts  Success rate  Students        Concepts\n",
       "0    0.514860      0.314092        88            [14]\n",
       "1    0.636243      0.284823        84        [11, 14]\n",
       "2    2.222222      0.416667        27     [11, 8, 12]\n",
       "3    0.900752      0.156928        95            [12]\n",
       "4    1.486301      0.154378        73        [11, 12]\n",
       "5    1.344828      0.169872        58              []\n",
       "6    1.075214      0.248013       117          [7, 5]\n",
       "7    4.906250      0.101911        16        [11, 12]\n",
       "8    2.281250      0.383562        32  [6, 11, 12, 8]\n",
       "9    2.038095      0.158879        35     [14, 12, 5]\n",
       "10   5.916667      0.112676        12      [14, 7, 8]\n",
       "11  64.000000      0.015625         4            [12]\n",
       "12   4.115942      0.204225        69            [12]\n",
       "13   5.416667      0.107692        12         [12, 5]"
      ]
     },
     "execution_count": 231,
     "metadata": {},
     "output_type": "execute_result"
    }
   ],
   "source": [
    "df = pd.DataFrame(points, columns=[\"Attempts\", \"Success rate\", \n",
    "                                   \"Students\", \"Concepts\"])\n",
    "df"
   ]
  },
  {
   "cell_type": "code",
   "execution_count": 198,
   "metadata": {},
   "outputs": [],
   "source": [
    "hover_text = []\n",
    "bubble_size = []\n",
    "\n",
    "for index, row in df.iterrows():\n",
    "    hover_text.append(('Concepts: {Concepts}<br>'+\n",
    "                      'Students: {Students}<br>'+\n",
    "                      'Success Rate: {success_rate}%<br>'+\n",
    "                      'Avg. attempts: {Attempts}').format(Concepts=row['Concepts'],\n",
    "                                                          Students=row['Students'],\n",
    "                                                          success_rate=round(row['Success rate']*100,2),\n",
    "                                                          Attempts=round(row['Attempts'],2)\n",
    "                                                         ))\n",
    "    bubble_size.append(row['Students']*20)\n",
    "    \n",
    "df['text'] = hover_text\n",
    "df['size'] = bubble_size"
   ]
  },
  {
   "cell_type": "code",
   "execution_count": 199,
   "metadata": {},
   "outputs": [],
   "source": [
    "label_lookup = {(11,14): \"Conditional\",\n",
    "                (12,): \"Loop\",\n",
    "                (12, 5): \"Loop in math problems\",\n",
    "                (11, 8, 12): \"Conditional and Loop in lists\",\n",
    "                (6, 11, 8, 12): \"Conditional and Loop in lists\",\n",
    "                (11, 12): \"Conditional and Loop\",\n",
    "                (7, 11): \"Conditional in strings\",\n",
    "                (0,): \"No agreement\",\n",
    "                (14, 3): \"Functions using numbers\",\n",
    "                (14, ): \"Functions\",\n",
    "                (14, 7, 8): \"Functions for string and lists\",\n",
    "                (3, 5): \"Math\",\n",
    "                (13,): \"Nested loops\",\n",
    "               }\n",
    "\n",
    "# # Dictionary with dataframes for each continent\n",
    "# concept_data = {key: df.query(\"Concept == '%s'\" %continent)\n",
    "#                               for key in label_lookup.keys()}"
   ]
  },
  {
   "cell_type": "code",
   "execution_count": 200,
   "metadata": {},
   "outputs": [],
   "source": [
    "# df.query(\"Concept == '%s'\" %continent)"
   ]
  },
  {
   "cell_type": "code",
   "execution_count": 201,
   "metadata": {},
   "outputs": [
    {
     "data": {
      "application/vnd.plotly.v1+json": {
       "config": {
        "plotlyServerURL": "https://plot.ly"
       },
       "data": [
        {
         "marker": {
          "line": {
           "width": 2
          },
          "size": [
           1760,
           1680,
           540,
           1900,
           1460,
           1160,
           2340,
           320,
           640,
           700,
           240,
           80,
           1380,
           240
          ],
          "sizemode": "area"
         },
         "mode": "markers",
         "text": [
          "Concepts: [14]<br>Students: 88<br>Success Rate: 31.41%<br>Avg. attempts: 6.69",
          "Concepts: [11, 14]<br>Students: 84<br>Success Rate: 28.48%<br>Avg. attempts: 5.73",
          "Concepts: [11, 8, 12]<br>Students: 27<br>Success Rate: 41.67%<br>Avg. attempts: 2.22",
          "Concepts: [12]<br>Students: 95<br>Success Rate: 15.69%<br>Avg. attempts: 6.31",
          "Concepts: [11, 12]<br>Students: 73<br>Success Rate: 15.44%<br>Avg. attempts: 5.95",
          "Concepts: []<br>Students: 58<br>Success Rate: 16.99%<br>Avg. attempts: 5.38",
          "Concepts: [7, 5]<br>Students: 117<br>Success Rate: 24.8%<br>Avg. attempts: 5.38",
          "Concepts: [11, 12]<br>Students: 16<br>Success Rate: 10.19%<br>Avg. attempts: 9.81",
          "Concepts: [6, 11, 12, 8]<br>Students: 32<br>Success Rate: 38.36%<br>Avg. attempts: 2.28",
          "Concepts: [14, 12, 5]<br>Students: 35<br>Success Rate: 15.89%<br>Avg. attempts: 6.11",
          "Concepts: [14, 7, 8]<br>Students: 12<br>Success Rate: 11.27%<br>Avg. attempts: 5.92",
          "Concepts: [12]<br>Students: 4<br>Success Rate: 1.56%<br>Avg. attempts: 64.0",
          "Concepts: [12]<br>Students: 69<br>Success Rate: 20.42%<br>Avg. attempts: 4.12",
          "Concepts: [12, 5]<br>Students: 12<br>Success Rate: 10.77%<br>Avg. attempts: 5.42"
         ],
         "type": "scatter",
         "x": [
          6.693181818181818,
          5.726190476190476,
          2.2222222222222223,
          6.3052631578947365,
          5.945205479452055,
          5.379310344827586,
          5.3760683760683765,
          9.8125,
          2.28125,
          6.114285714285714,
          5.916666666666667,
          64,
          4.115942028985507,
          5.416666666666667
         ],
         "y": [
          0.3140916808149406,
          0.28482328482328484,
          0.4166666666666667,
          0.15692821368948248,
          0.1543778801843318,
          0.16987179487179488,
          0.2480127186009539,
          0.10191082802547771,
          0.3835616438356164,
          0.1588785046728972,
          0.11267605633802817,
          0.015625,
          0.20422535211267606,
          0.1076923076923077
         ]
        }
       ],
       "layout": {
        "template": {
         "data": {
          "bar": [
           {
            "error_x": {
             "color": "#2a3f5f"
            },
            "error_y": {
             "color": "#2a3f5f"
            },
            "marker": {
             "line": {
              "color": "#E5ECF6",
              "width": 0.5
             }
            },
            "type": "bar"
           }
          ],
          "barpolar": [
           {
            "marker": {
             "line": {
              "color": "#E5ECF6",
              "width": 0.5
             }
            },
            "type": "barpolar"
           }
          ],
          "carpet": [
           {
            "aaxis": {
             "endlinecolor": "#2a3f5f",
             "gridcolor": "white",
             "linecolor": "white",
             "minorgridcolor": "white",
             "startlinecolor": "#2a3f5f"
            },
            "baxis": {
             "endlinecolor": "#2a3f5f",
             "gridcolor": "white",
             "linecolor": "white",
             "minorgridcolor": "white",
             "startlinecolor": "#2a3f5f"
            },
            "type": "carpet"
           }
          ],
          "choropleth": [
           {
            "colorbar": {
             "outlinewidth": 0,
             "ticks": ""
            },
            "type": "choropleth"
           }
          ],
          "contour": [
           {
            "colorbar": {
             "outlinewidth": 0,
             "ticks": ""
            },
            "colorscale": [
             [
              0,
              "#0d0887"
             ],
             [
              0.1111111111111111,
              "#46039f"
             ],
             [
              0.2222222222222222,
              "#7201a8"
             ],
             [
              0.3333333333333333,
              "#9c179e"
             ],
             [
              0.4444444444444444,
              "#bd3786"
             ],
             [
              0.5555555555555556,
              "#d8576b"
             ],
             [
              0.6666666666666666,
              "#ed7953"
             ],
             [
              0.7777777777777778,
              "#fb9f3a"
             ],
             [
              0.8888888888888888,
              "#fdca26"
             ],
             [
              1,
              "#f0f921"
             ]
            ],
            "type": "contour"
           }
          ],
          "contourcarpet": [
           {
            "colorbar": {
             "outlinewidth": 0,
             "ticks": ""
            },
            "type": "contourcarpet"
           }
          ],
          "heatmap": [
           {
            "colorbar": {
             "outlinewidth": 0,
             "ticks": ""
            },
            "colorscale": [
             [
              0,
              "#0d0887"
             ],
             [
              0.1111111111111111,
              "#46039f"
             ],
             [
              0.2222222222222222,
              "#7201a8"
             ],
             [
              0.3333333333333333,
              "#9c179e"
             ],
             [
              0.4444444444444444,
              "#bd3786"
             ],
             [
              0.5555555555555556,
              "#d8576b"
             ],
             [
              0.6666666666666666,
              "#ed7953"
             ],
             [
              0.7777777777777778,
              "#fb9f3a"
             ],
             [
              0.8888888888888888,
              "#fdca26"
             ],
             [
              1,
              "#f0f921"
             ]
            ],
            "type": "heatmap"
           }
          ],
          "heatmapgl": [
           {
            "colorbar": {
             "outlinewidth": 0,
             "ticks": ""
            },
            "colorscale": [
             [
              0,
              "#0d0887"
             ],
             [
              0.1111111111111111,
              "#46039f"
             ],
             [
              0.2222222222222222,
              "#7201a8"
             ],
             [
              0.3333333333333333,
              "#9c179e"
             ],
             [
              0.4444444444444444,
              "#bd3786"
             ],
             [
              0.5555555555555556,
              "#d8576b"
             ],
             [
              0.6666666666666666,
              "#ed7953"
             ],
             [
              0.7777777777777778,
              "#fb9f3a"
             ],
             [
              0.8888888888888888,
              "#fdca26"
             ],
             [
              1,
              "#f0f921"
             ]
            ],
            "type": "heatmapgl"
           }
          ],
          "histogram": [
           {
            "marker": {
             "colorbar": {
              "outlinewidth": 0,
              "ticks": ""
             }
            },
            "type": "histogram"
           }
          ],
          "histogram2d": [
           {
            "colorbar": {
             "outlinewidth": 0,
             "ticks": ""
            },
            "colorscale": [
             [
              0,
              "#0d0887"
             ],
             [
              0.1111111111111111,
              "#46039f"
             ],
             [
              0.2222222222222222,
              "#7201a8"
             ],
             [
              0.3333333333333333,
              "#9c179e"
             ],
             [
              0.4444444444444444,
              "#bd3786"
             ],
             [
              0.5555555555555556,
              "#d8576b"
             ],
             [
              0.6666666666666666,
              "#ed7953"
             ],
             [
              0.7777777777777778,
              "#fb9f3a"
             ],
             [
              0.8888888888888888,
              "#fdca26"
             ],
             [
              1,
              "#f0f921"
             ]
            ],
            "type": "histogram2d"
           }
          ],
          "histogram2dcontour": [
           {
            "colorbar": {
             "outlinewidth": 0,
             "ticks": ""
            },
            "colorscale": [
             [
              0,
              "#0d0887"
             ],
             [
              0.1111111111111111,
              "#46039f"
             ],
             [
              0.2222222222222222,
              "#7201a8"
             ],
             [
              0.3333333333333333,
              "#9c179e"
             ],
             [
              0.4444444444444444,
              "#bd3786"
             ],
             [
              0.5555555555555556,
              "#d8576b"
             ],
             [
              0.6666666666666666,
              "#ed7953"
             ],
             [
              0.7777777777777778,
              "#fb9f3a"
             ],
             [
              0.8888888888888888,
              "#fdca26"
             ],
             [
              1,
              "#f0f921"
             ]
            ],
            "type": "histogram2dcontour"
           }
          ],
          "mesh3d": [
           {
            "colorbar": {
             "outlinewidth": 0,
             "ticks": ""
            },
            "type": "mesh3d"
           }
          ],
          "parcoords": [
           {
            "line": {
             "colorbar": {
              "outlinewidth": 0,
              "ticks": ""
             }
            },
            "type": "parcoords"
           }
          ],
          "pie": [
           {
            "automargin": true,
            "type": "pie"
           }
          ],
          "scatter": [
           {
            "marker": {
             "colorbar": {
              "outlinewidth": 0,
              "ticks": ""
             }
            },
            "type": "scatter"
           }
          ],
          "scatter3d": [
           {
            "line": {
             "colorbar": {
              "outlinewidth": 0,
              "ticks": ""
             }
            },
            "marker": {
             "colorbar": {
              "outlinewidth": 0,
              "ticks": ""
             }
            },
            "type": "scatter3d"
           }
          ],
          "scattercarpet": [
           {
            "marker": {
             "colorbar": {
              "outlinewidth": 0,
              "ticks": ""
             }
            },
            "type": "scattercarpet"
           }
          ],
          "scattergeo": [
           {
            "marker": {
             "colorbar": {
              "outlinewidth": 0,
              "ticks": ""
             }
            },
            "type": "scattergeo"
           }
          ],
          "scattergl": [
           {
            "marker": {
             "colorbar": {
              "outlinewidth": 0,
              "ticks": ""
             }
            },
            "type": "scattergl"
           }
          ],
          "scattermapbox": [
           {
            "marker": {
             "colorbar": {
              "outlinewidth": 0,
              "ticks": ""
             }
            },
            "type": "scattermapbox"
           }
          ],
          "scatterpolar": [
           {
            "marker": {
             "colorbar": {
              "outlinewidth": 0,
              "ticks": ""
             }
            },
            "type": "scatterpolar"
           }
          ],
          "scatterpolargl": [
           {
            "marker": {
             "colorbar": {
              "outlinewidth": 0,
              "ticks": ""
             }
            },
            "type": "scatterpolargl"
           }
          ],
          "scatterternary": [
           {
            "marker": {
             "colorbar": {
              "outlinewidth": 0,
              "ticks": ""
             }
            },
            "type": "scatterternary"
           }
          ],
          "surface": [
           {
            "colorbar": {
             "outlinewidth": 0,
             "ticks": ""
            },
            "colorscale": [
             [
              0,
              "#0d0887"
             ],
             [
              0.1111111111111111,
              "#46039f"
             ],
             [
              0.2222222222222222,
              "#7201a8"
             ],
             [
              0.3333333333333333,
              "#9c179e"
             ],
             [
              0.4444444444444444,
              "#bd3786"
             ],
             [
              0.5555555555555556,
              "#d8576b"
             ],
             [
              0.6666666666666666,
              "#ed7953"
             ],
             [
              0.7777777777777778,
              "#fb9f3a"
             ],
             [
              0.8888888888888888,
              "#fdca26"
             ],
             [
              1,
              "#f0f921"
             ]
            ],
            "type": "surface"
           }
          ],
          "table": [
           {
            "cells": {
             "fill": {
              "color": "#EBF0F8"
             },
             "line": {
              "color": "white"
             }
            },
            "header": {
             "fill": {
              "color": "#C8D4E3"
             },
             "line": {
              "color": "white"
             }
            },
            "type": "table"
           }
          ]
         },
         "layout": {
          "annotationdefaults": {
           "arrowcolor": "#2a3f5f",
           "arrowhead": 0,
           "arrowwidth": 1
          },
          "coloraxis": {
           "colorbar": {
            "outlinewidth": 0,
            "ticks": ""
           }
          },
          "colorscale": {
           "diverging": [
            [
             0,
             "#8e0152"
            ],
            [
             0.1,
             "#c51b7d"
            ],
            [
             0.2,
             "#de77ae"
            ],
            [
             0.3,
             "#f1b6da"
            ],
            [
             0.4,
             "#fde0ef"
            ],
            [
             0.5,
             "#f7f7f7"
            ],
            [
             0.6,
             "#e6f5d0"
            ],
            [
             0.7,
             "#b8e186"
            ],
            [
             0.8,
             "#7fbc41"
            ],
            [
             0.9,
             "#4d9221"
            ],
            [
             1,
             "#276419"
            ]
           ],
           "sequential": [
            [
             0,
             "#0d0887"
            ],
            [
             0.1111111111111111,
             "#46039f"
            ],
            [
             0.2222222222222222,
             "#7201a8"
            ],
            [
             0.3333333333333333,
             "#9c179e"
            ],
            [
             0.4444444444444444,
             "#bd3786"
            ],
            [
             0.5555555555555556,
             "#d8576b"
            ],
            [
             0.6666666666666666,
             "#ed7953"
            ],
            [
             0.7777777777777778,
             "#fb9f3a"
            ],
            [
             0.8888888888888888,
             "#fdca26"
            ],
            [
             1,
             "#f0f921"
            ]
           ],
           "sequentialminus": [
            [
             0,
             "#0d0887"
            ],
            [
             0.1111111111111111,
             "#46039f"
            ],
            [
             0.2222222222222222,
             "#7201a8"
            ],
            [
             0.3333333333333333,
             "#9c179e"
            ],
            [
             0.4444444444444444,
             "#bd3786"
            ],
            [
             0.5555555555555556,
             "#d8576b"
            ],
            [
             0.6666666666666666,
             "#ed7953"
            ],
            [
             0.7777777777777778,
             "#fb9f3a"
            ],
            [
             0.8888888888888888,
             "#fdca26"
            ],
            [
             1,
             "#f0f921"
            ]
           ]
          },
          "colorway": [
           "#636efa",
           "#EF553B",
           "#00cc96",
           "#ab63fa",
           "#FFA15A",
           "#19d3f3",
           "#FF6692",
           "#B6E880",
           "#FF97FF",
           "#FECB52"
          ],
          "font": {
           "color": "#2a3f5f"
          },
          "geo": {
           "bgcolor": "white",
           "lakecolor": "white",
           "landcolor": "#E5ECF6",
           "showlakes": true,
           "showland": true,
           "subunitcolor": "white"
          },
          "hoverlabel": {
           "align": "left"
          },
          "hovermode": "closest",
          "mapbox": {
           "style": "light"
          },
          "paper_bgcolor": "white",
          "plot_bgcolor": "#E5ECF6",
          "polar": {
           "angularaxis": {
            "gridcolor": "white",
            "linecolor": "white",
            "ticks": ""
           },
           "bgcolor": "#E5ECF6",
           "radialaxis": {
            "gridcolor": "white",
            "linecolor": "white",
            "ticks": ""
           }
          },
          "scene": {
           "xaxis": {
            "backgroundcolor": "#E5ECF6",
            "gridcolor": "white",
            "gridwidth": 2,
            "linecolor": "white",
            "showbackground": true,
            "ticks": "",
            "zerolinecolor": "white"
           },
           "yaxis": {
            "backgroundcolor": "#E5ECF6",
            "gridcolor": "white",
            "gridwidth": 2,
            "linecolor": "white",
            "showbackground": true,
            "ticks": "",
            "zerolinecolor": "white"
           },
           "zaxis": {
            "backgroundcolor": "#E5ECF6",
            "gridcolor": "white",
            "gridwidth": 2,
            "linecolor": "white",
            "showbackground": true,
            "ticks": "",
            "zerolinecolor": "white"
           }
          },
          "shapedefaults": {
           "line": {
            "color": "#2a3f5f"
           }
          },
          "ternary": {
           "aaxis": {
            "gridcolor": "white",
            "linecolor": "white",
            "ticks": ""
           },
           "baxis": {
            "gridcolor": "white",
            "linecolor": "white",
            "ticks": ""
           },
           "bgcolor": "#E5ECF6",
           "caxis": {
            "gridcolor": "white",
            "linecolor": "white",
            "ticks": ""
           }
          },
          "title": {
           "x": 0.05
          },
          "xaxis": {
           "automargin": true,
           "gridcolor": "white",
           "linecolor": "white",
           "ticks": "",
           "title": {
            "standoff": 15
           },
           "zerolinecolor": "white",
           "zerolinewidth": 2
          },
          "yaxis": {
           "automargin": true,
           "gridcolor": "white",
           "linecolor": "white",
           "ticks": "",
           "title": {
            "standoff": 15
           },
           "zerolinecolor": "white",
           "zerolinewidth": 2
          }
         }
        }
       }
      },
      "text/html": [
       "<div>\n",
       "        \n",
       "        \n",
       "            <div id=\"e8826b7c-65c8-42d8-98da-5ca82fe9d365\" class=\"plotly-graph-div\" style=\"height:525px; width:100%;\"></div>\n",
       "            <script type=\"text/javascript\">\n",
       "                require([\"plotly\"], function(Plotly) {\n",
       "                    window.PLOTLYENV=window.PLOTLYENV || {};\n",
       "                    \n",
       "                if (document.getElementById(\"e8826b7c-65c8-42d8-98da-5ca82fe9d365\")) {\n",
       "                    Plotly.newPlot(\n",
       "                        'e8826b7c-65c8-42d8-98da-5ca82fe9d365',\n",
       "                        [{\"marker\": {\"line\": {\"width\": 2}, \"size\": [1760, 1680, 540, 1900, 1460, 1160, 2340, 320, 640, 700, 240, 80, 1380, 240], \"sizemode\": \"area\"}, \"mode\": \"markers\", \"text\": [\"Concepts: [14]<br>Students: 88<br>Success Rate: 31.41%<br>Avg. attempts: 6.69\", \"Concepts: [11, 14]<br>Students: 84<br>Success Rate: 28.48%<br>Avg. attempts: 5.73\", \"Concepts: [11, 8, 12]<br>Students: 27<br>Success Rate: 41.67%<br>Avg. attempts: 2.22\", \"Concepts: [12]<br>Students: 95<br>Success Rate: 15.69%<br>Avg. attempts: 6.31\", \"Concepts: [11, 12]<br>Students: 73<br>Success Rate: 15.44%<br>Avg. attempts: 5.95\", \"Concepts: []<br>Students: 58<br>Success Rate: 16.99%<br>Avg. attempts: 5.38\", \"Concepts: [7, 5]<br>Students: 117<br>Success Rate: 24.8%<br>Avg. attempts: 5.38\", \"Concepts: [11, 12]<br>Students: 16<br>Success Rate: 10.19%<br>Avg. attempts: 9.81\", \"Concepts: [6, 11, 12, 8]<br>Students: 32<br>Success Rate: 38.36%<br>Avg. attempts: 2.28\", \"Concepts: [14, 12, 5]<br>Students: 35<br>Success Rate: 15.89%<br>Avg. attempts: 6.11\", \"Concepts: [14, 7, 8]<br>Students: 12<br>Success Rate: 11.27%<br>Avg. attempts: 5.92\", \"Concepts: [12]<br>Students: 4<br>Success Rate: 1.56%<br>Avg. attempts: 64.0\", \"Concepts: [12]<br>Students: 69<br>Success Rate: 20.42%<br>Avg. attempts: 4.12\", \"Concepts: [12, 5]<br>Students: 12<br>Success Rate: 10.77%<br>Avg. attempts: 5.42\"], \"type\": \"scatter\", \"x\": [6.693181818181818, 5.726190476190476, 2.2222222222222223, 6.3052631578947365, 5.945205479452055, 5.379310344827586, 5.3760683760683765, 9.8125, 2.28125, 6.114285714285714, 5.916666666666667, 64.0, 4.115942028985507, 5.416666666666667], \"y\": [0.3140916808149406, 0.28482328482328484, 0.4166666666666667, 0.15692821368948248, 0.1543778801843318, 0.16987179487179488, 0.2480127186009539, 0.10191082802547771, 0.3835616438356164, 0.1588785046728972, 0.11267605633802817, 0.015625, 0.20422535211267606, 0.1076923076923077]}],\n",
       "                        {\"template\": {\"data\": {\"bar\": [{\"error_x\": {\"color\": \"#2a3f5f\"}, \"error_y\": {\"color\": \"#2a3f5f\"}, \"marker\": {\"line\": {\"color\": \"#E5ECF6\", \"width\": 0.5}}, \"type\": \"bar\"}], \"barpolar\": [{\"marker\": {\"line\": {\"color\": \"#E5ECF6\", \"width\": 0.5}}, \"type\": \"barpolar\"}], \"carpet\": [{\"aaxis\": {\"endlinecolor\": \"#2a3f5f\", \"gridcolor\": \"white\", \"linecolor\": \"white\", \"minorgridcolor\": \"white\", \"startlinecolor\": \"#2a3f5f\"}, \"baxis\": {\"endlinecolor\": \"#2a3f5f\", \"gridcolor\": \"white\", \"linecolor\": \"white\", \"minorgridcolor\": \"white\", \"startlinecolor\": \"#2a3f5f\"}, \"type\": \"carpet\"}], \"choropleth\": [{\"colorbar\": {\"outlinewidth\": 0, \"ticks\": \"\"}, \"type\": \"choropleth\"}], \"contour\": [{\"colorbar\": {\"outlinewidth\": 0, \"ticks\": \"\"}, \"colorscale\": [[0.0, \"#0d0887\"], [0.1111111111111111, \"#46039f\"], [0.2222222222222222, \"#7201a8\"], [0.3333333333333333, \"#9c179e\"], [0.4444444444444444, \"#bd3786\"], [0.5555555555555556, \"#d8576b\"], [0.6666666666666666, \"#ed7953\"], [0.7777777777777778, \"#fb9f3a\"], [0.8888888888888888, \"#fdca26\"], [1.0, \"#f0f921\"]], \"type\": \"contour\"}], \"contourcarpet\": [{\"colorbar\": {\"outlinewidth\": 0, \"ticks\": \"\"}, \"type\": \"contourcarpet\"}], \"heatmap\": [{\"colorbar\": {\"outlinewidth\": 0, \"ticks\": \"\"}, \"colorscale\": [[0.0, \"#0d0887\"], [0.1111111111111111, \"#46039f\"], [0.2222222222222222, \"#7201a8\"], [0.3333333333333333, \"#9c179e\"], [0.4444444444444444, \"#bd3786\"], [0.5555555555555556, \"#d8576b\"], [0.6666666666666666, \"#ed7953\"], [0.7777777777777778, \"#fb9f3a\"], [0.8888888888888888, \"#fdca26\"], [1.0, \"#f0f921\"]], \"type\": \"heatmap\"}], \"heatmapgl\": [{\"colorbar\": {\"outlinewidth\": 0, \"ticks\": \"\"}, \"colorscale\": [[0.0, \"#0d0887\"], [0.1111111111111111, \"#46039f\"], [0.2222222222222222, \"#7201a8\"], [0.3333333333333333, \"#9c179e\"], [0.4444444444444444, \"#bd3786\"], [0.5555555555555556, \"#d8576b\"], [0.6666666666666666, \"#ed7953\"], [0.7777777777777778, \"#fb9f3a\"], [0.8888888888888888, \"#fdca26\"], [1.0, \"#f0f921\"]], \"type\": \"heatmapgl\"}], \"histogram\": [{\"marker\": {\"colorbar\": {\"outlinewidth\": 0, \"ticks\": \"\"}}, \"type\": \"histogram\"}], \"histogram2d\": [{\"colorbar\": {\"outlinewidth\": 0, \"ticks\": \"\"}, \"colorscale\": [[0.0, \"#0d0887\"], [0.1111111111111111, \"#46039f\"], [0.2222222222222222, \"#7201a8\"], [0.3333333333333333, \"#9c179e\"], [0.4444444444444444, \"#bd3786\"], [0.5555555555555556, \"#d8576b\"], [0.6666666666666666, \"#ed7953\"], [0.7777777777777778, \"#fb9f3a\"], [0.8888888888888888, \"#fdca26\"], [1.0, \"#f0f921\"]], \"type\": \"histogram2d\"}], \"histogram2dcontour\": [{\"colorbar\": {\"outlinewidth\": 0, \"ticks\": \"\"}, \"colorscale\": [[0.0, \"#0d0887\"], [0.1111111111111111, \"#46039f\"], [0.2222222222222222, \"#7201a8\"], [0.3333333333333333, \"#9c179e\"], [0.4444444444444444, \"#bd3786\"], [0.5555555555555556, \"#d8576b\"], [0.6666666666666666, \"#ed7953\"], [0.7777777777777778, \"#fb9f3a\"], [0.8888888888888888, \"#fdca26\"], [1.0, \"#f0f921\"]], \"type\": \"histogram2dcontour\"}], \"mesh3d\": [{\"colorbar\": {\"outlinewidth\": 0, \"ticks\": \"\"}, \"type\": \"mesh3d\"}], \"parcoords\": [{\"line\": {\"colorbar\": {\"outlinewidth\": 0, \"ticks\": \"\"}}, \"type\": \"parcoords\"}], \"pie\": [{\"automargin\": true, \"type\": \"pie\"}], \"scatter\": [{\"marker\": {\"colorbar\": {\"outlinewidth\": 0, \"ticks\": \"\"}}, \"type\": \"scatter\"}], \"scatter3d\": [{\"line\": {\"colorbar\": {\"outlinewidth\": 0, \"ticks\": \"\"}}, \"marker\": {\"colorbar\": {\"outlinewidth\": 0, \"ticks\": \"\"}}, \"type\": \"scatter3d\"}], \"scattercarpet\": [{\"marker\": {\"colorbar\": {\"outlinewidth\": 0, \"ticks\": \"\"}}, \"type\": \"scattercarpet\"}], \"scattergeo\": [{\"marker\": {\"colorbar\": {\"outlinewidth\": 0, \"ticks\": \"\"}}, \"type\": \"scattergeo\"}], \"scattergl\": [{\"marker\": {\"colorbar\": {\"outlinewidth\": 0, \"ticks\": \"\"}}, \"type\": \"scattergl\"}], \"scattermapbox\": [{\"marker\": {\"colorbar\": {\"outlinewidth\": 0, \"ticks\": \"\"}}, \"type\": \"scattermapbox\"}], \"scatterpolar\": [{\"marker\": {\"colorbar\": {\"outlinewidth\": 0, \"ticks\": \"\"}}, \"type\": \"scatterpolar\"}], \"scatterpolargl\": [{\"marker\": {\"colorbar\": {\"outlinewidth\": 0, \"ticks\": \"\"}}, \"type\": \"scatterpolargl\"}], \"scatterternary\": [{\"marker\": {\"colorbar\": {\"outlinewidth\": 0, \"ticks\": \"\"}}, \"type\": \"scatterternary\"}], \"surface\": [{\"colorbar\": {\"outlinewidth\": 0, \"ticks\": \"\"}, \"colorscale\": [[0.0, \"#0d0887\"], [0.1111111111111111, \"#46039f\"], [0.2222222222222222, \"#7201a8\"], [0.3333333333333333, \"#9c179e\"], [0.4444444444444444, \"#bd3786\"], [0.5555555555555556, \"#d8576b\"], [0.6666666666666666, \"#ed7953\"], [0.7777777777777778, \"#fb9f3a\"], [0.8888888888888888, \"#fdca26\"], [1.0, \"#f0f921\"]], \"type\": \"surface\"}], \"table\": [{\"cells\": {\"fill\": {\"color\": \"#EBF0F8\"}, \"line\": {\"color\": \"white\"}}, \"header\": {\"fill\": {\"color\": \"#C8D4E3\"}, \"line\": {\"color\": \"white\"}}, \"type\": \"table\"}]}, \"layout\": {\"annotationdefaults\": {\"arrowcolor\": \"#2a3f5f\", \"arrowhead\": 0, \"arrowwidth\": 1}, \"coloraxis\": {\"colorbar\": {\"outlinewidth\": 0, \"ticks\": \"\"}}, \"colorscale\": {\"diverging\": [[0, \"#8e0152\"], [0.1, \"#c51b7d\"], [0.2, \"#de77ae\"], [0.3, \"#f1b6da\"], [0.4, \"#fde0ef\"], [0.5, \"#f7f7f7\"], [0.6, \"#e6f5d0\"], [0.7, \"#b8e186\"], [0.8, \"#7fbc41\"], [0.9, \"#4d9221\"], [1, \"#276419\"]], \"sequential\": [[0.0, \"#0d0887\"], [0.1111111111111111, \"#46039f\"], [0.2222222222222222, \"#7201a8\"], [0.3333333333333333, \"#9c179e\"], [0.4444444444444444, \"#bd3786\"], [0.5555555555555556, \"#d8576b\"], [0.6666666666666666, \"#ed7953\"], [0.7777777777777778, \"#fb9f3a\"], [0.8888888888888888, \"#fdca26\"], [1.0, \"#f0f921\"]], \"sequentialminus\": [[0.0, \"#0d0887\"], [0.1111111111111111, \"#46039f\"], [0.2222222222222222, \"#7201a8\"], [0.3333333333333333, \"#9c179e\"], [0.4444444444444444, \"#bd3786\"], [0.5555555555555556, \"#d8576b\"], [0.6666666666666666, \"#ed7953\"], [0.7777777777777778, \"#fb9f3a\"], [0.8888888888888888, \"#fdca26\"], [1.0, \"#f0f921\"]]}, \"colorway\": [\"#636efa\", \"#EF553B\", \"#00cc96\", \"#ab63fa\", \"#FFA15A\", \"#19d3f3\", \"#FF6692\", \"#B6E880\", \"#FF97FF\", \"#FECB52\"], \"font\": {\"color\": \"#2a3f5f\"}, \"geo\": {\"bgcolor\": \"white\", \"lakecolor\": \"white\", \"landcolor\": \"#E5ECF6\", \"showlakes\": true, \"showland\": true, \"subunitcolor\": \"white\"}, \"hoverlabel\": {\"align\": \"left\"}, \"hovermode\": \"closest\", \"mapbox\": {\"style\": \"light\"}, \"paper_bgcolor\": \"white\", \"plot_bgcolor\": \"#E5ECF6\", \"polar\": {\"angularaxis\": {\"gridcolor\": \"white\", \"linecolor\": \"white\", \"ticks\": \"\"}, \"bgcolor\": \"#E5ECF6\", \"radialaxis\": {\"gridcolor\": \"white\", \"linecolor\": \"white\", \"ticks\": \"\"}}, \"scene\": {\"xaxis\": {\"backgroundcolor\": \"#E5ECF6\", \"gridcolor\": \"white\", \"gridwidth\": 2, \"linecolor\": \"white\", \"showbackground\": true, \"ticks\": \"\", \"zerolinecolor\": \"white\"}, \"yaxis\": {\"backgroundcolor\": \"#E5ECF6\", \"gridcolor\": \"white\", \"gridwidth\": 2, \"linecolor\": \"white\", \"showbackground\": true, \"ticks\": \"\", \"zerolinecolor\": \"white\"}, \"zaxis\": {\"backgroundcolor\": \"#E5ECF6\", \"gridcolor\": \"white\", \"gridwidth\": 2, \"linecolor\": \"white\", \"showbackground\": true, \"ticks\": \"\", \"zerolinecolor\": \"white\"}}, \"shapedefaults\": {\"line\": {\"color\": \"#2a3f5f\"}}, \"ternary\": {\"aaxis\": {\"gridcolor\": \"white\", \"linecolor\": \"white\", \"ticks\": \"\"}, \"baxis\": {\"gridcolor\": \"white\", \"linecolor\": \"white\", \"ticks\": \"\"}, \"bgcolor\": \"#E5ECF6\", \"caxis\": {\"gridcolor\": \"white\", \"linecolor\": \"white\", \"ticks\": \"\"}}, \"title\": {\"x\": 0.05}, \"xaxis\": {\"automargin\": true, \"gridcolor\": \"white\", \"linecolor\": \"white\", \"ticks\": \"\", \"title\": {\"standoff\": 15}, \"zerolinecolor\": \"white\", \"zerolinewidth\": 2}, \"yaxis\": {\"automargin\": true, \"gridcolor\": \"white\", \"linecolor\": \"white\", \"ticks\": \"\", \"title\": {\"standoff\": 15}, \"zerolinecolor\": \"white\", \"zerolinewidth\": 2}}}},\n",
       "                        {\"responsive\": true}\n",
       "                    ).then(function(){\n",
       "                            \n",
       "var gd = document.getElementById('e8826b7c-65c8-42d8-98da-5ca82fe9d365');\n",
       "var x = new MutationObserver(function (mutations, observer) {{\n",
       "        var display = window.getComputedStyle(gd).display;\n",
       "        if (!display || display === 'none') {{\n",
       "            console.log([gd, 'removed!']);\n",
       "            Plotly.purge(gd);\n",
       "            observer.disconnect();\n",
       "        }}\n",
       "}});\n",
       "\n",
       "// Listen for the removal of the full notebook cells\n",
       "var notebookContainer = gd.closest('#notebook-container');\n",
       "if (notebookContainer) {{\n",
       "    x.observe(notebookContainer, {childList: true});\n",
       "}}\n",
       "\n",
       "// Listen for the clearing of the current output cell\n",
       "var outputEl = gd.closest('.output');\n",
       "if (outputEl) {{\n",
       "    x.observe(outputEl, {childList: true});\n",
       "}}\n",
       "\n",
       "                        })\n",
       "                };\n",
       "                });\n",
       "            </script>\n",
       "        </div>"
      ]
     },
     "metadata": {},
     "output_type": "display_data"
    }
   ],
   "source": [
    "# Create figure\n",
    "fig = go.Figure()\n",
    "fig.add_trace(go.Scatter(\n",
    "        x=df['Attempts'], y=df['Success rate'],\n",
    "        text=df['text'],\n",
    "        marker_size=df['size'],\n",
    "        ))\n",
    "# Tune marker appearance and layout\n",
    "fig.update_traces(mode='markers', marker=dict(sizemode='area',\n",
    "#                                               sizeref=sizeref, \n",
    "                                              line_width=2))"
   ]
  },
  {
   "cell_type": "code",
   "execution_count": 232,
   "metadata": {},
   "outputs": [
    {
     "data": {
      "text/plain": [
       "[[0.5148601398601399, 0.3140916808149406, 88, [14]],\n",
       " [0.6362433862433863, 0.28482328482328484, 84, [11, 14]],\n",
       " [2.2222222222222223, 0.4166666666666667, 27, [11, 8, 12]],\n",
       " [0.9007518796992481, 0.15692821368948248, 95, [12]],\n",
       " [1.4863013698630136, 0.1543778801843318, 73, [11, 12]],\n",
       " [1.3448275862068966, 0.16987179487179488, 58, []],\n",
       " [1.0752136752136754, 0.2480127186009539, 117, [7, 5]],\n",
       " [4.90625, 0.10191082802547771, 16, [11, 12]],\n",
       " [2.28125, 0.3835616438356164, 32, [6, 11, 12, 8]],\n",
       " [2.038095238095238, 0.1588785046728972, 35, [14, 12, 5]],\n",
       " [5.916666666666667, 0.11267605633802817, 12, [14, 7, 8]],\n",
       " [64.0, 0.015625, 4, [12]],\n",
       " [4.115942028985507, 0.20422535211267606, 69, [12]],\n",
       " [5.416666666666667, 0.1076923076923077, 12, [12, 5]]]"
      ]
     },
     "execution_count": 232,
     "metadata": {},
     "output_type": "execute_result"
    }
   ],
   "source": [
    "points"
   ]
  },
  {
   "cell_type": "code",
   "execution_count": 246,
   "metadata": {},
   "outputs": [
    {
     "data": {
      "text/plain": [
       "['Conditional',\n",
       " 'Conditional and Loop',\n",
       " 'Conditional and Loop in lists',\n",
       " 'Functions',\n",
       " 'Functions for string and lists',\n",
       " 'Loop',\n",
       " 'Loop in math problems',\n",
       " 'Math and string',\n",
       " 'No agreement']"
      ]
     },
     "execution_count": 246,
     "metadata": {},
     "output_type": "execute_result"
    }
   ],
   "source": [
    "label_lookup = {(11,14): \"Conditional\",\n",
    "                (12,): \"Loop\",\n",
    "                (12, 5): \"Loop in math problems\",\n",
    "                (11, 8, 12): \"Conditional and Loop in lists\",\n",
    "                (6, 11, 12, 8): \"Conditional and Loop in lists\",\n",
    "                (11, 12): \"Conditional and Loop\",\n",
    "                (7, 11): \"Conditional in strings\",\n",
    "                (0,): \"No agreement\",\n",
    "                (14, 3): \"Functions using numbers\",\n",
    "                (14, ): \"Functions\",\n",
    "                (14, 7, 8): \"Functions for string and lists\",\n",
    "                (14, 12, 5): \"Loop in math problems\",\n",
    "                (5, ): \"Math\",\n",
    "                (7, 5): \"Math and string\",\n",
    "                (13,): \"Nested loops\",\n",
    "                (8, ): \"Lists\"\n",
    "               }\n",
    "\n",
    "labels = []\n",
    "for i in points:\n",
    "    try:\n",
    "        labels.append(label_lookup[tuple(i[3],)])\n",
    "    except KeyError:\n",
    "        labels.append(\"No agreement\")\n",
    "        \n",
    "unique_labels = list(set(labels))\n",
    "unique_labels.sort()\n",
    "unique_labels"
   ]
  },
  {
   "cell_type": "code",
   "execution_count": 278,
   "metadata": {},
   "outputs": [],
   "source": [
    "ccolors = plt.get_cmap('tab10')(np.linspace(0,1,9))\n",
    "# Swap so gray is in the end\n",
    "a, b = ccolors[8].copy(), ccolors[6].copy()\n",
    "ccolors[6], ccolors[8] = a, b"
   ]
  },
  {
   "cell_type": "code",
   "execution_count": 281,
   "metadata": {
    "scrolled": false
   },
   "outputs": [
    {
     "name": "stderr",
     "output_type": "stream",
     "text": [
      "The PostScript backend does not support transparency; partially transparent artists will be rendered opaque.\n",
      "The PostScript backend does not support transparency; partially transparent artists will be rendered opaque.\n",
      "The PostScript backend does not support transparency; partially transparent artists will be rendered opaque.\n",
      "The PostScript backend does not support transparency; partially transparent artists will be rendered opaque.\n",
      "The PostScript backend does not support transparency; partially transparent artists will be rendered opaque.\n",
      "The PostScript backend does not support transparency; partially transparent artists will be rendered opaque.\n",
      "The PostScript backend does not support transparency; partially transparent artists will be rendered opaque.\n",
      "The PostScript backend does not support transparency; partially transparent artists will be rendered opaque.\n",
      "The PostScript backend does not support transparency; partially transparent artists will be rendered opaque.\n",
      "The PostScript backend does not support transparency; partially transparent artists will be rendered opaque.\n",
      "The PostScript backend does not support transparency; partially transparent artists will be rendered opaque.\n",
      "The PostScript backend does not support transparency; partially transparent artists will be rendered opaque.\n",
      "The PostScript backend does not support transparency; partially transparent artists will be rendered opaque.\n",
      "The PostScript backend does not support transparency; partially transparent artists will be rendered opaque.\n",
      "The PostScript backend does not support transparency; partially transparent artists will be rendered opaque.\n",
      "The PostScript backend does not support transparency; partially transparent artists will be rendered opaque.\n",
      "The PostScript backend does not support transparency; partially transparent artists will be rendered opaque.\n",
      "The PostScript backend does not support transparency; partially transparent artists will be rendered opaque.\n",
      "The PostScript backend does not support transparency; partially transparent artists will be rendered opaque.\n",
      "The PostScript backend does not support transparency; partially transparent artists will be rendered opaque.\n",
      "The PostScript backend does not support transparency; partially transparent artists will be rendered opaque.\n",
      "The PostScript backend does not support transparency; partially transparent artists will be rendered opaque.\n",
      "The PostScript backend does not support transparency; partially transparent artists will be rendered opaque.\n",
      "The PostScript backend does not support transparency; partially transparent artists will be rendered opaque.\n",
      "The PostScript backend does not support transparency; partially transparent artists will be rendered opaque.\n",
      "The PostScript backend does not support transparency; partially transparent artists will be rendered opaque.\n",
      "The PostScript backend does not support transparency; partially transparent artists will be rendered opaque.\n",
      "The PostScript backend does not support transparency; partially transparent artists will be rendered opaque.\n",
      "The PostScript backend does not support transparency; partially transparent artists will be rendered opaque.\n",
      "The PostScript backend does not support transparency; partially transparent artists will be rendered opaque.\n",
      "The PostScript backend does not support transparency; partially transparent artists will be rendered opaque.\n",
      "The PostScript backend does not support transparency; partially transparent artists will be rendered opaque.\n",
      "The PostScript backend does not support transparency; partially transparent artists will be rendered opaque.\n",
      "The PostScript backend does not support transparency; partially transparent artists will be rendered opaque.\n",
      "The PostScript backend does not support transparency; partially transparent artists will be rendered opaque.\n",
      "The PostScript backend does not support transparency; partially transparent artists will be rendered opaque.\n",
      "The PostScript backend does not support transparency; partially transparent artists will be rendered opaque.\n",
      "The PostScript backend does not support transparency; partially transparent artists will be rendered opaque.\n",
      "The PostScript backend does not support transparency; partially transparent artists will be rendered opaque.\n",
      "The PostScript backend does not support transparency; partially transparent artists will be rendered opaque.\n",
      "The PostScript backend does not support transparency; partially transparent artists will be rendered opaque.\n",
      "The PostScript backend does not support transparency; partially transparent artists will be rendered opaque.\n",
      "The PostScript backend does not support transparency; partially transparent artists will be rendered opaque.\n",
      "The PostScript backend does not support transparency; partially transparent artists will be rendered opaque.\n",
      "The PostScript backend does not support transparency; partially transparent artists will be rendered opaque.\n",
      "The PostScript backend does not support transparency; partially transparent artists will be rendered opaque.\n",
      "The PostScript backend does not support transparency; partially transparent artists will be rendered opaque.\n",
      "The PostScript backend does not support transparency; partially transparent artists will be rendered opaque.\n",
      "The PostScript backend does not support transparency; partially transparent artists will be rendered opaque.\n",
      "The PostScript backend does not support transparency; partially transparent artists will be rendered opaque.\n",
      "The PostScript backend does not support transparency; partially transparent artists will be rendered opaque.\n",
      "The PostScript backend does not support transparency; partially transparent artists will be rendered opaque.\n",
      "The PostScript backend does not support transparency; partially transparent artists will be rendered opaque.\n",
      "The PostScript backend does not support transparency; partially transparent artists will be rendered opaque.\n",
      "The PostScript backend does not support transparency; partially transparent artists will be rendered opaque.\n",
      "The PostScript backend does not support transparency; partially transparent artists will be rendered opaque.\n",
      "The PostScript backend does not support transparency; partially transparent artists will be rendered opaque.\n",
      "The PostScript backend does not support transparency; partially transparent artists will be rendered opaque.\n",
      "The PostScript backend does not support transparency; partially transparent artists will be rendered opaque.\n",
      "The PostScript backend does not support transparency; partially transparent artists will be rendered opaque.\n"
     ]
    },
    {
     "data": {
      "image/png": "[encoded data removed]",
      "text/plain": [
       "<Figure size 576x576 with 1 Axes>"
      ]
     },
     "metadata": {
      "needs_background": "light"
     },
     "output_type": "display_data"
    }
   ],
   "source": [
    "x = np.asarray([item[0] for item in points])\n",
    "y = np.asarray([item[1] for item in points])\n",
    "s = np.asarray([item[2] for item in points])\n",
    "\n",
    "fig, ax = plt.subplots(figsize=(8,8))\n",
    "\n",
    "for k, l in enumerate(unique_labels):\n",
    "    idx = []\n",
    "    for i, item in enumerate(points):\n",
    "        # Remove outlier\n",
    "        if item[2] == 4:\n",
    "            continue\n",
    "        if labels[i] == l:\n",
    "            idx.append(i)\n",
    "    #   Hack to pretty print\n",
    "#     x[np.where(s == 62)] = 6.2\n",
    "#     y[np.where(x == 462)] = 0.24\n",
    "#     if l == \"No agreement\":\n",
    "#             ax.scatter(x[idx], y[idx], s[idx]*20, alpha=0.7, label=l, color='gray')\n",
    "#     else:\n",
    "    ax.scatter(x[idx], y[idx], s[idx]*20, alpha=0.7, label=l, color=ccolors[k])\n",
    "            \n",
    "for idx in range(len(x)):\n",
    "    # Remove outlier\n",
    "    if s[idx] == 4:\n",
    "        continue\n",
    "    text = ax.text(x[idx], y[idx], s[idx], ha=\"center\", va=\"center\", color=\"w\")\n",
    "\n",
    "ax.set_title(\"Clusters' success rate and popularity\")\n",
    "ax.set_xlabel(\"Average attempts per student per problem\")\n",
    "ax.set_ylabel(\"Percentage of successful attempts\")\n",
    "plt.set_cmap('tab10')\n",
    "# Put a legend below current axis\n",
    "lgnd = ax.legend(loc='upper center', bbox_to_anchor=(0.5, -0.2),\n",
    "          fancybox=True, shadow=True, ncol=2)\n",
    "# lgnd = plt.legend()\n",
    "for handle in lgnd.legendHandles:\n",
    "    handle._sizes = [50]\n",
    "    \n",
    "plt.tight_layout()\n",
    "plt.savefig('data/tese/cluster_success.eps', format='eps')\n",
    "plt.savefig('data/tese/cluster_success.png', format='png')\n",
    "plt.show()"
   ]
  },
  {
   "cell_type": "markdown",
   "metadata": {},
   "source": [
    "So it is possible to think of it as four quadrants: on the top left are the easy questions (high successfully attempts percentage and attempts on average); on the bottom left are the medium questions (questions with low success rate but also a low attempts average); on the top right there are not any questions (it would be questions with high success rate but also a high number of tries, which in unlikely) and finally, on the bottom right are the questions where students have more difficulties. Analyzing by the quadrants, the gray cluster (top left) require the use of the ``Function'' concept, which are introductory CS1 exercises where the student is suppose to write a function with simple math operations directly in the return statement. The exercises belonging to this cluster are solved in smaller number of attempts and have a high success rate when compared to the other clusters. The clusters around 5 to 6.5 attempts on average are the very popular among students. They involve more advanced concepts such as strings, loops and conditionals and, on average, a student submits a correct response to them after 4 to 5 attempts. Finally, there are two clusters with more than 7 attempts on average per student and very low success rate. These clusters work on the ``Loop''  and ``Nested Loop'' concepts and have more complex problems than the other orange cluster."
   ]
  }
 ],
 "metadata": {
  "kernelspec": {
   "display_name": "Django Shell-Plus",
   "language": "python",
   "name": "django_extensions"
  },
  "language_info": {
   "codemirror_mode": {
    "name": "ipython",
    "version": 3
   },
   "file_extension": ".py",
   "mimetype": "text/x-python",
   "name": "python",
   "nbconvert_exporter": "python",
   "pygments_lexer": "ipython3",
   "version": "3.6.10"
  }
 },
 "nbformat": 4,
 "nbformat_minor": 4
}
