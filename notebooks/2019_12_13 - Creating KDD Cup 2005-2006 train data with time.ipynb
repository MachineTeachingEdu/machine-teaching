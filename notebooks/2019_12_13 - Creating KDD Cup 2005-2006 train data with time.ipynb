{
 "cells": [
  {
   "cell_type": "code",
   "execution_count": 1,
   "metadata": {},
   "outputs": [],
   "source": [
    "import pandas as pd\n",
    "import re\n",
    "import numpy as np\n",
    "from sklearn.metrics import roc_curve, auc\n",
    "import matplotlib.pyplot as plt\n",
    "import pickle\n",
    "from datetime import datetime"
   ]
  },
  {
   "cell_type": "markdown",
   "metadata": {},
   "source": [
    "### Reading KDD train file\n",
    "Drop rows with null in any of the important columns"
   ]
  },
  {
   "cell_type": "code",
   "execution_count": 2,
   "metadata": {},
   "outputs": [],
   "source": [
    "folder = 'data/kdd/2005-2006'"
   ]
  },
  {
   "cell_type": "code",
   "execution_count": 3,
   "metadata": {},
   "outputs": [
    {
     "name": "stdout",
     "output_type": "stream",
     "text": [
      "(809694, 19)\n",
      "CPU times: user 7.59 s, sys: 1.75 s, total: 9.34 s\n",
      "Wall time: 4.69 s\n"
     ]
    }
   ],
   "source": [
    "%%time\n",
    "df_all = pd.read_csv('%s/algebra_2005_2006_train.txt' % folder, delimiter='\\t')\n",
    "print(df_all.shape)"
   ]
  },
  {
   "cell_type": "code",
   "execution_count": 4,
   "metadata": {},
   "outputs": [
    {
     "data": {
      "text/html": [
       "<div>\n",
       "<style scoped>\n",
       "    .dataframe tbody tr th:only-of-type {\n",
       "        vertical-align: middle;\n",
       "    }\n",
       "\n",
       "    .dataframe tbody tr th {\n",
       "        vertical-align: top;\n",
       "    }\n",
       "\n",
       "    .dataframe thead th {\n",
       "        text-align: right;\n",
       "    }\n",
       "</style>\n",
       "<table border=\"1\" class=\"dataframe\">\n",
       "  <thead>\n",
       "    <tr style=\"text-align: right;\">\n",
       "      <th></th>\n",
       "      <th>Row</th>\n",
       "      <th>Anon Student Id</th>\n",
       "      <th>Problem Hierarchy</th>\n",
       "      <th>Problem Name</th>\n",
       "      <th>Problem View</th>\n",
       "      <th>Step Name</th>\n",
       "      <th>Step Start Time</th>\n",
       "      <th>First Transaction Time</th>\n",
       "      <th>Correct Transaction Time</th>\n",
       "      <th>Step End Time</th>\n",
       "      <th>Step Duration (sec)</th>\n",
       "      <th>Correct Step Duration (sec)</th>\n",
       "      <th>Error Step Duration (sec)</th>\n",
       "      <th>Correct First Attempt</th>\n",
       "      <th>Incorrects</th>\n",
       "      <th>Hints</th>\n",
       "      <th>Corrects</th>\n",
       "      <th>KC(Default)</th>\n",
       "      <th>Opportunity(Default)</th>\n",
       "    </tr>\n",
       "  </thead>\n",
       "  <tbody>\n",
       "    <tr>\n",
       "      <th>0</th>\n",
       "      <td>1</td>\n",
       "      <td>0BrbPbwCMz</td>\n",
       "      <td>Unit ES_04, Section ES_04-1</td>\n",
       "      <td>EG4-FIXED</td>\n",
       "      <td>1</td>\n",
       "      <td>3(x+2) = 15</td>\n",
       "      <td>2005-09-09 12:24:35.0</td>\n",
       "      <td>2005-09-09 12:24:49.0</td>\n",
       "      <td>2005-09-09 12:25:15.0</td>\n",
       "      <td>2005-09-09 12:25:15.0</td>\n",
       "      <td>40.0</td>\n",
       "      <td>NaN</td>\n",
       "      <td>40.0</td>\n",
       "      <td>0</td>\n",
       "      <td>2</td>\n",
       "      <td>3</td>\n",
       "      <td>1</td>\n",
       "      <td>[SkillRule: Eliminate Parens; {CLT nested; CLT...</td>\n",
       "      <td>1</td>\n",
       "    </tr>\n",
       "    <tr>\n",
       "      <th>1</th>\n",
       "      <td>2</td>\n",
       "      <td>0BrbPbwCMz</td>\n",
       "      <td>Unit ES_04, Section ES_04-1</td>\n",
       "      <td>EG4-FIXED</td>\n",
       "      <td>1</td>\n",
       "      <td>x+2 = 5</td>\n",
       "      <td>2005-09-09 12:25:15.0</td>\n",
       "      <td>2005-09-09 12:25:31.0</td>\n",
       "      <td>2005-09-09 12:25:31.0</td>\n",
       "      <td>2005-09-09 12:25:31.0</td>\n",
       "      <td>16.0</td>\n",
       "      <td>16.0</td>\n",
       "      <td>NaN</td>\n",
       "      <td>1</td>\n",
       "      <td>0</td>\n",
       "      <td>0</td>\n",
       "      <td>1</td>\n",
       "      <td>[SkillRule: Remove constant; {ax+b=c, positive...</td>\n",
       "      <td>1~~1</td>\n",
       "    </tr>\n",
       "    <tr>\n",
       "      <th>2</th>\n",
       "      <td>3</td>\n",
       "      <td>0BrbPbwCMz</td>\n",
       "      <td>Unit ES_04, Section ES_04-1</td>\n",
       "      <td>EG40</td>\n",
       "      <td>1</td>\n",
       "      <td>2-8y = -4</td>\n",
       "      <td>2005-09-09 12:25:36.0</td>\n",
       "      <td>2005-09-09 12:25:43.0</td>\n",
       "      <td>2005-09-09 12:26:12.0</td>\n",
       "      <td>2005-09-09 12:26:12.0</td>\n",
       "      <td>36.0</td>\n",
       "      <td>NaN</td>\n",
       "      <td>36.0</td>\n",
       "      <td>0</td>\n",
       "      <td>2</td>\n",
       "      <td>3</td>\n",
       "      <td>1</td>\n",
       "      <td>[SkillRule: Remove constant; {ax+b=c, positive...</td>\n",
       "      <td>2</td>\n",
       "    </tr>\n",
       "    <tr>\n",
       "      <th>3</th>\n",
       "      <td>4</td>\n",
       "      <td>0BrbPbwCMz</td>\n",
       "      <td>Unit ES_04, Section ES_04-1</td>\n",
       "      <td>EG40</td>\n",
       "      <td>1</td>\n",
       "      <td>-8y = -6</td>\n",
       "      <td>2005-09-09 12:26:12.0</td>\n",
       "      <td>2005-09-09 12:26:34.0</td>\n",
       "      <td>2005-09-09 12:26:34.0</td>\n",
       "      <td>2005-09-09 12:26:34.0</td>\n",
       "      <td>22.0</td>\n",
       "      <td>22.0</td>\n",
       "      <td>NaN</td>\n",
       "      <td>1</td>\n",
       "      <td>0</td>\n",
       "      <td>0</td>\n",
       "      <td>1</td>\n",
       "      <td>[SkillRule: Remove coefficient; {ax+b=c, divid...</td>\n",
       "      <td>1~~1</td>\n",
       "    </tr>\n",
       "    <tr>\n",
       "      <th>4</th>\n",
       "      <td>5</td>\n",
       "      <td>0BrbPbwCMz</td>\n",
       "      <td>Unit ES_04, Section ES_04-1</td>\n",
       "      <td>EG40</td>\n",
       "      <td>2</td>\n",
       "      <td>-7y-5 = -4</td>\n",
       "      <td>2005-09-09 12:26:38.0</td>\n",
       "      <td>2005-09-09 12:28:36.0</td>\n",
       "      <td>2005-09-09 12:28:36.0</td>\n",
       "      <td>2005-09-09 12:28:36.0</td>\n",
       "      <td>118.0</td>\n",
       "      <td>118.0</td>\n",
       "      <td>NaN</td>\n",
       "      <td>1</td>\n",
       "      <td>0</td>\n",
       "      <td>0</td>\n",
       "      <td>1</td>\n",
       "      <td>[SkillRule: Remove constant; {ax+b=c, positive...</td>\n",
       "      <td>3~~1</td>\n",
       "    </tr>\n",
       "    <tr>\n",
       "      <th>...</th>\n",
       "      <td>...</td>\n",
       "      <td>...</td>\n",
       "      <td>...</td>\n",
       "      <td>...</td>\n",
       "      <td>...</td>\n",
       "      <td>...</td>\n",
       "      <td>...</td>\n",
       "      <td>...</td>\n",
       "      <td>...</td>\n",
       "      <td>...</td>\n",
       "      <td>...</td>\n",
       "      <td>...</td>\n",
       "      <td>...</td>\n",
       "      <td>...</td>\n",
       "      <td>...</td>\n",
       "      <td>...</td>\n",
       "      <td>...</td>\n",
       "      <td>...</td>\n",
       "      <td>...</td>\n",
       "    </tr>\n",
       "    <tr>\n",
       "      <th>809689</th>\n",
       "      <td>1080612</td>\n",
       "      <td>IQQo3367x0</td>\n",
       "      <td>Unit ES_02, Section ES_02-5</td>\n",
       "      <td>EG40</td>\n",
       "      <td>4</td>\n",
       "      <td>-7+2x+7 = 4+7</td>\n",
       "      <td>2006-03-09 10:58:05.0</td>\n",
       "      <td>2006-03-09 10:58:13.0</td>\n",
       "      <td>2006-03-09 10:58:13.0</td>\n",
       "      <td>2006-03-09 10:58:13.0</td>\n",
       "      <td>8.0</td>\n",
       "      <td>8.0</td>\n",
       "      <td>NaN</td>\n",
       "      <td>1</td>\n",
       "      <td>0</td>\n",
       "      <td>0</td>\n",
       "      <td>1</td>\n",
       "      <td>[SkillRule: Consolidate vars with coeff; CLT]</td>\n",
       "      <td>5</td>\n",
       "    </tr>\n",
       "    <tr>\n",
       "      <th>809690</th>\n",
       "      <td>1080613</td>\n",
       "      <td>IQQo3367x0</td>\n",
       "      <td>Unit ES_02, Section ES_02-5</td>\n",
       "      <td>EG40</td>\n",
       "      <td>4</td>\n",
       "      <td>2x = 4+7</td>\n",
       "      <td>2006-03-09 10:58:13.0</td>\n",
       "      <td>2006-03-09 10:58:18.0</td>\n",
       "      <td>2006-03-09 10:58:18.0</td>\n",
       "      <td>2006-03-09 10:58:18.0</td>\n",
       "      <td>5.0</td>\n",
       "      <td>5.0</td>\n",
       "      <td>NaN</td>\n",
       "      <td>1</td>\n",
       "      <td>0</td>\n",
       "      <td>0</td>\n",
       "      <td>1</td>\n",
       "      <td>[SkillRule: Consolidate vars with coeff; CLT]</td>\n",
       "      <td>6</td>\n",
       "    </tr>\n",
       "    <tr>\n",
       "      <th>809691</th>\n",
       "      <td>1080614</td>\n",
       "      <td>IQQo3367x0</td>\n",
       "      <td>Unit ES_02, Section ES_02-5</td>\n",
       "      <td>EG40</td>\n",
       "      <td>4</td>\n",
       "      <td>2x = 11</td>\n",
       "      <td>2006-03-09 10:58:18.0</td>\n",
       "      <td>2006-03-09 10:58:22.0</td>\n",
       "      <td>2006-03-09 10:58:39.0</td>\n",
       "      <td>2006-03-09 10:58:39.0</td>\n",
       "      <td>21.0</td>\n",
       "      <td>NaN</td>\n",
       "      <td>21.0</td>\n",
       "      <td>0</td>\n",
       "      <td>1</td>\n",
       "      <td>3</td>\n",
       "      <td>1</td>\n",
       "      <td>[SkillRule: Remove positive coefficient; {ax/b...</td>\n",
       "      <td>1~~4</td>\n",
       "    </tr>\n",
       "    <tr>\n",
       "      <th>809692</th>\n",
       "      <td>1080615</td>\n",
       "      <td>IQQo3367x0</td>\n",
       "      <td>Unit ES_02, Section ES_02-5</td>\n",
       "      <td>EG40</td>\n",
       "      <td>4</td>\n",
       "      <td>2x/2 = 11/2</td>\n",
       "      <td>2006-03-09 10:58:39.0</td>\n",
       "      <td>2006-03-09 10:58:44.0</td>\n",
       "      <td>2006-03-09 10:58:44.0</td>\n",
       "      <td>2006-03-09 10:58:44.0</td>\n",
       "      <td>5.0</td>\n",
       "      <td>5.0</td>\n",
       "      <td>NaN</td>\n",
       "      <td>1</td>\n",
       "      <td>0</td>\n",
       "      <td>0</td>\n",
       "      <td>1</td>\n",
       "      <td>NaN</td>\n",
       "      <td>NaN</td>\n",
       "    </tr>\n",
       "    <tr>\n",
       "      <th>809693</th>\n",
       "      <td>1080616</td>\n",
       "      <td>IQQo3367x0</td>\n",
       "      <td>Unit ES_02, Section ES_02-5</td>\n",
       "      <td>EG40</td>\n",
       "      <td>5</td>\n",
       "      <td>-2+5x = 8</td>\n",
       "      <td>2006-03-09 10:58:52.0</td>\n",
       "      <td>2006-03-09 10:59:03.0</td>\n",
       "      <td>2006-03-09 10:59:18.0</td>\n",
       "      <td>2006-03-09 10:59:18.0</td>\n",
       "      <td>26.0</td>\n",
       "      <td>NaN</td>\n",
       "      <td>26.0</td>\n",
       "      <td>0</td>\n",
       "      <td>0</td>\n",
       "      <td>3</td>\n",
       "      <td>1</td>\n",
       "      <td>[SkillRule: Remove constant; {ax+b=c, positive...</td>\n",
       "      <td>5~~3</td>\n",
       "    </tr>\n",
       "  </tbody>\n",
       "</table>\n",
       "<p>809694 rows × 19 columns</p>\n",
       "</div>"
      ],
      "text/plain": [
       "            Row Anon Student Id            Problem Hierarchy Problem Name  \\\n",
       "0             1      0BrbPbwCMz  Unit ES_04, Section ES_04-1    EG4-FIXED   \n",
       "1             2      0BrbPbwCMz  Unit ES_04, Section ES_04-1    EG4-FIXED   \n",
       "2             3      0BrbPbwCMz  Unit ES_04, Section ES_04-1         EG40   \n",
       "3             4      0BrbPbwCMz  Unit ES_04, Section ES_04-1         EG40   \n",
       "4             5      0BrbPbwCMz  Unit ES_04, Section ES_04-1         EG40   \n",
       "...         ...             ...                          ...          ...   \n",
       "809689  1080612      IQQo3367x0  Unit ES_02, Section ES_02-5         EG40   \n",
       "809690  1080613      IQQo3367x0  Unit ES_02, Section ES_02-5         EG40   \n",
       "809691  1080614      IQQo3367x0  Unit ES_02, Section ES_02-5         EG40   \n",
       "809692  1080615      IQQo3367x0  Unit ES_02, Section ES_02-5         EG40   \n",
       "809693  1080616      IQQo3367x0  Unit ES_02, Section ES_02-5         EG40   \n",
       "\n",
       "        Problem View      Step Name        Step Start Time  \\\n",
       "0                  1    3(x+2) = 15  2005-09-09 12:24:35.0   \n",
       "1                  1        x+2 = 5  2005-09-09 12:25:15.0   \n",
       "2                  1      2-8y = -4  2005-09-09 12:25:36.0   \n",
       "3                  1       -8y = -6  2005-09-09 12:26:12.0   \n",
       "4                  2     -7y-5 = -4  2005-09-09 12:26:38.0   \n",
       "...              ...            ...                    ...   \n",
       "809689             4  -7+2x+7 = 4+7  2006-03-09 10:58:05.0   \n",
       "809690             4       2x = 4+7  2006-03-09 10:58:13.0   \n",
       "809691             4        2x = 11  2006-03-09 10:58:18.0   \n",
       "809692             4    2x/2 = 11/2  2006-03-09 10:58:39.0   \n",
       "809693             5      -2+5x = 8  2006-03-09 10:58:52.0   \n",
       "\n",
       "       First Transaction Time Correct Transaction Time          Step End Time  \\\n",
       "0       2005-09-09 12:24:49.0    2005-09-09 12:25:15.0  2005-09-09 12:25:15.0   \n",
       "1       2005-09-09 12:25:31.0    2005-09-09 12:25:31.0  2005-09-09 12:25:31.0   \n",
       "2       2005-09-09 12:25:43.0    2005-09-09 12:26:12.0  2005-09-09 12:26:12.0   \n",
       "3       2005-09-09 12:26:34.0    2005-09-09 12:26:34.0  2005-09-09 12:26:34.0   \n",
       "4       2005-09-09 12:28:36.0    2005-09-09 12:28:36.0  2005-09-09 12:28:36.0   \n",
       "...                       ...                      ...                    ...   \n",
       "809689  2006-03-09 10:58:13.0    2006-03-09 10:58:13.0  2006-03-09 10:58:13.0   \n",
       "809690  2006-03-09 10:58:18.0    2006-03-09 10:58:18.0  2006-03-09 10:58:18.0   \n",
       "809691  2006-03-09 10:58:22.0    2006-03-09 10:58:39.0  2006-03-09 10:58:39.0   \n",
       "809692  2006-03-09 10:58:44.0    2006-03-09 10:58:44.0  2006-03-09 10:58:44.0   \n",
       "809693  2006-03-09 10:59:03.0    2006-03-09 10:59:18.0  2006-03-09 10:59:18.0   \n",
       "\n",
       "        Step Duration (sec)  Correct Step Duration (sec)  \\\n",
       "0                      40.0                          NaN   \n",
       "1                      16.0                         16.0   \n",
       "2                      36.0                          NaN   \n",
       "3                      22.0                         22.0   \n",
       "4                     118.0                        118.0   \n",
       "...                     ...                          ...   \n",
       "809689                  8.0                          8.0   \n",
       "809690                  5.0                          5.0   \n",
       "809691                 21.0                          NaN   \n",
       "809692                  5.0                          5.0   \n",
       "809693                 26.0                          NaN   \n",
       "\n",
       "        Error Step Duration (sec)  Correct First Attempt  Incorrects  Hints  \\\n",
       "0                            40.0                      0           2      3   \n",
       "1                             NaN                      1           0      0   \n",
       "2                            36.0                      0           2      3   \n",
       "3                             NaN                      1           0      0   \n",
       "4                             NaN                      1           0      0   \n",
       "...                           ...                    ...         ...    ...   \n",
       "809689                        NaN                      1           0      0   \n",
       "809690                        NaN                      1           0      0   \n",
       "809691                       21.0                      0           1      3   \n",
       "809692                        NaN                      1           0      0   \n",
       "809693                       26.0                      0           0      3   \n",
       "\n",
       "        Corrects                                        KC(Default)  \\\n",
       "0              1  [SkillRule: Eliminate Parens; {CLT nested; CLT...   \n",
       "1              1  [SkillRule: Remove constant; {ax+b=c, positive...   \n",
       "2              1  [SkillRule: Remove constant; {ax+b=c, positive...   \n",
       "3              1  [SkillRule: Remove coefficient; {ax+b=c, divid...   \n",
       "4              1  [SkillRule: Remove constant; {ax+b=c, positive...   \n",
       "...          ...                                                ...   \n",
       "809689         1      [SkillRule: Consolidate vars with coeff; CLT]   \n",
       "809690         1      [SkillRule: Consolidate vars with coeff; CLT]   \n",
       "809691         1  [SkillRule: Remove positive coefficient; {ax/b...   \n",
       "809692         1                                                NaN   \n",
       "809693         1  [SkillRule: Remove constant; {ax+b=c, positive...   \n",
       "\n",
       "       Opportunity(Default)  \n",
       "0                         1  \n",
       "1                      1~~1  \n",
       "2                         2  \n",
       "3                      1~~1  \n",
       "4                      3~~1  \n",
       "...                     ...  \n",
       "809689                    5  \n",
       "809690                    6  \n",
       "809691                 1~~4  \n",
       "809692                  NaN  \n",
       "809693                 5~~3  \n",
       "\n",
       "[809694 rows x 19 columns]"
      ]
     },
     "execution_count": 4,
     "metadata": {},
     "output_type": "execute_result"
    }
   ],
   "source": [
    "df_all"
   ]
  },
  {
   "cell_type": "code",
   "execution_count": 5,
   "metadata": {},
   "outputs": [],
   "source": [
    "df = df_all[['Anon Student Id', 'Correct First Attempt', 'Problem Hierarchy', 'Problem Name', 'Problem View', \n",
    "             'Step Name', 'KC(Default)', 'First Transaction Time',\n",
    "             # 'Correct Transaction Time'\n",
    "            ]]"
   ]
  },
  {
   "cell_type": "code",
   "execution_count": 6,
   "metadata": {},
   "outputs": [],
   "source": [
    "df = df.dropna()"
   ]
  },
  {
   "cell_type": "code",
   "execution_count": 7,
   "metadata": {},
   "outputs": [
    {
     "data": {
      "text/plain": [
       "(607025, 8)"
      ]
     },
     "execution_count": 7,
     "metadata": {},
     "output_type": "execute_result"
    }
   ],
   "source": [
    "df.shape"
   ]
  },
  {
   "cell_type": "markdown",
   "metadata": {},
   "source": [
    "### Preprocessing\n",
    "Transform dataframe in a format understood by the BKT module"
   ]
  },
  {
   "cell_type": "code",
   "execution_count": 8,
   "metadata": {},
   "outputs": [],
   "source": [
    "skipped = []\n",
    "def get_kcs(row):\n",
    "    text = row['KC(Default)'].replace(',','')\n",
    "    kc_list = text.split('~~')\n",
    "    kc = []\n",
    "    for item in kc_list:\n",
    "        # Option 1: with SkillRule prefix\n",
    "        found_opt1 = re.findall(r'^\\[SkillRule: ([\\w ]+[ ,/?-]*[\\w ]*);.*', item, flags=re.M)\n",
    "        # Option 2: regular words (hyphenized or spaced)\n",
    "        found_opt2 = re.findall(r'^([\\w -]+).*', item, flags=re.M)\n",
    "        # Option 3: get what couldn't be extracted from previous patterns\n",
    "        found_opt3 = re.findall(r'^\\[SkillRule: (.*);.*', item, flags=re.M)\n",
    "        if found_opt1:\n",
    "            kc.append(found_opt1[0])\n",
    "        elif found_opt2:\n",
    "            kc.append(found_opt2[0])\n",
    "        elif found_opt3:\n",
    "            kc.append(found_opt3[0])\n",
    "        else:\n",
    "            skipped.append(item)\n",
    "    return kc\n",
    "\n",
    "def get_steps(row):\n",
    "    step = row['Problem Hierarchy'] + '_' + row[\"Problem Name\"] + '_' + row['Step Name']\n",
    "    return step"
   ]
  },
  {
   "cell_type": "markdown",
   "metadata": {},
   "source": [
    "Separate KCs in a list and create an identifier name for the step"
   ]
  },
  {
   "cell_type": "code",
   "execution_count": 9,
   "metadata": {},
   "outputs": [
    {
     "name": "stdout",
     "output_type": "stream",
     "text": [
      "CPU times: user 32.6 s, sys: 1.02 s, total: 33.6 s\n",
      "Wall time: 33.6 s\n"
     ]
    }
   ],
   "source": [
    "%%time\n",
    "df['KC'] = df.apply(get_kcs, axis=1)\n",
    "df['step'] = df.apply(get_steps, axis=1)"
   ]
  },
  {
   "cell_type": "code",
   "execution_count": 10,
   "metadata": {},
   "outputs": [
    {
     "name": "stdout",
     "output_type": "stream",
     "text": [
      "CPU times: user 5min 11s, sys: 250 ms, total: 5min 11s\n",
      "Wall time: 5min 11s\n"
     ]
    }
   ],
   "source": [
    "%%time\n",
    "kcs = []\n",
    "for row in df['KC'].iteritems():\n",
    "    kcs.extend(row[1])\n",
    "kcs = list(set(kcs))\n",
    "steps = df['step'].unique().tolist()\n",
    "\n",
    "def create_data(row):\n",
    "    question_id = steps.index(row['step'])\n",
    "    return question_id\n",
    "\n",
    "df['question_id'] = df.apply(create_data, axis=1)"
   ]
  },
  {
   "cell_type": "markdown",
   "metadata": {},
   "source": [
    "Save KCs"
   ]
  },
  {
   "cell_type": "code",
   "execution_count": 11,
   "metadata": {},
   "outputs": [
    {
     "data": {
      "text/plain": [
       "110"
      ]
     },
     "execution_count": 11,
     "metadata": {},
     "output_type": "execute_result"
    }
   ],
   "source": [
    "with open('%s/kdd_2005_2006_kcs_time.pkl' % folder, 'wb') as pklfile:\n",
    "    pickle.dump(kcs, pklfile)\n",
    "len(kcs)"
   ]
  },
  {
   "cell_type": "markdown",
   "metadata": {},
   "source": [
    "Construct Q-Matrix"
   ]
  },
  {
   "cell_type": "code",
   "execution_count": 12,
   "metadata": {},
   "outputs": [
    {
     "name": "stdout",
     "output_type": "stream",
     "text": [
      "(176630, 110)\n",
      "CPU times: user 1min 15s, sys: 656 ms, total: 1min 16s\n",
      "Wall time: 1min 12s\n"
     ]
    }
   ],
   "source": [
    "%%time\n",
    "q_matrix = np.zeros((len(steps), len(kcs)))\n",
    "\n",
    "for idx, item in df.iterrows():\n",
    "    for kc in item['KC']:\n",
    "        kc_col = kcs.index(kc)\n",
    "        q_matrix[item['question_id'], kc_col] = 1\n",
    "    \n",
    "print(q_matrix.shape)"
   ]
  },
  {
   "cell_type": "markdown",
   "metadata": {},
   "source": [
    "Save data"
   ]
  },
  {
   "cell_type": "code",
   "execution_count": 13,
   "metadata": {},
   "outputs": [
    {
     "name": "stdout",
     "output_type": "stream",
     "text": [
      "CPU times: user 1 s, sys: 859 ms, total: 1.86 s\n",
      "Wall time: 2.32 s\n"
     ]
    }
   ],
   "source": [
    "%%time\n",
    "with open('%s/kdd_2005_2006_df_time.pkl' % folder, 'wb') as pklfile:\n",
    "    pickle.dump(df, pklfile)\n",
    "with open('%s/kdd_2005_2006_q_matrix_time.pkl' % folder, 'wb') as pklfile:\n",
    "    pickle.dump(q_matrix, pklfile)"
   ]
  },
  {
   "cell_type": "code",
   "execution_count": 14,
   "metadata": {},
   "outputs": [
    {
     "name": "stdout",
     "output_type": "stream",
     "text": [
      "CPU times: user 906 ms, sys: 93.8 ms, total: 1 s\n",
      "Wall time: 1 s\n"
     ]
    },
    {
     "data": {
      "text/plain": [
       "574"
      ]
     },
     "execution_count": 14,
     "metadata": {},
     "output_type": "execute_result"
    }
   ],
   "source": [
    "%%time\n",
    "# Data matrix\n",
    "data = df[['Correct First Attempt', 'Anon Student Id', 'question_id', 'First Transaction Time']].values.tolist()\n",
    "students = df['Anon Student Id'].unique().tolist()\n",
    "len(students)"
   ]
  },
  {
   "cell_type": "markdown",
   "metadata": {},
   "source": [
    "Transform time to datetime object"
   ]
  },
  {
   "cell_type": "code",
   "execution_count": 15,
   "metadata": {},
   "outputs": [
    {
     "name": "stdout",
     "output_type": "stream",
     "text": [
      "CPU times: user 6.44 s, sys: 125 ms, total: 6.56 s\n",
      "Wall time: 6.53 s\n"
     ]
    }
   ],
   "source": [
    "%%time\n",
    "def create_time_object(x):\n",
    "    x[3] = datetime.strptime(x[3], \"%Y-%m-%d %H:%M:%S.0\")\n",
    "    \n",
    "_ = list(map(create_time_object, data))"
   ]
  },
  {
   "cell_type": "code",
   "execution_count": 16,
   "metadata": {},
   "outputs": [],
   "source": [
    "with open('%s/kdd_2005_2006_train_data_time.pkl' % folder, 'wb') as pklfile:\n",
    "    pickle.dump(data, pklfile)\n",
    "with open('%s/kdd_2005_2006_students_time.pkl' % folder, 'wb') as pklfile:\n",
    "    pickle.dump(students, pklfile)"
   ]
  }
 ],
 "metadata": {
  "kernelspec": {
   "display_name": "Python 3",
   "language": "python",
   "name": "python3"
  },
  "language_info": {
   "codemirror_mode": {
    "name": "ipython",
    "version": 3
   },
   "file_extension": ".py",
   "mimetype": "text/x-python",
   "name": "python",
   "nbconvert_exporter": "python",
   "pygments_lexer": "ipython3",
   "version": "3.7.6"
  }
 },
 "nbformat": 4,
 "nbformat_minor": 2
}
