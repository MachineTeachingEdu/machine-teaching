{
 "cells": [
  {
   "cell_type": "code",
   "execution_count": 3,
   "metadata": {},
   "outputs": [],
   "source": [
    "import pickle\n",
    "from datetime import datetime\n",
    "import json\n",
    "from pathlib import Path"
   ]
  },
  {
   "cell_type": "code",
   "execution_count": 4,
   "metadata": {},
   "outputs": [],
   "source": [
    "folder = 'data/comp1_2020_2'\n",
    "Path(folder).mkdir(parents=True, exist_ok=True)"
   ]
  },
  {
   "cell_type": "code",
   "execution_count": 5,
   "metadata": {},
   "outputs": [],
   "source": [
    "data_inicio = datetime.strptime('22/03/2021 00:00:00', '%d/%m/%Y %H:%M:%S')\n",
    "data_fim = datetime.strptime('12/06/2021 23:59:59', '%d/%m/%Y %H:%M:%S')"
   ]
  },
  {
   "cell_type": "code",
   "execution_count": 6,
   "metadata": {},
   "outputs": [
    {
     "data": {
      "text/plain": [
       "<QuerySet [<OnlineClass: EM2 - Natanael>, <OnlineClass: EP1 - Natanael - COMP 2>, <OnlineClass: MAB114_EE1_11452_REM2020_2>, <OnlineClass: MAB121_CMT1_11474_REM2020_2>, <OnlineClass: Comp1_2020_2_EM_(Carla)>, <OnlineClass: EC1 - Anamaria (2020-2)>, <OnlineClass: Computação I - CMT2 - 11475 (Rafael / Bernardo)>, <OnlineClass: Computação I - CMT3 - 11477 (Rafael / Danilo)>, <OnlineClass: Comp1_2020-2_EP_EC2 [Danilo]>, <OnlineClass: Comp1_2020-2_SV_IQT1-IQQ [Danilo]>, <OnlineClass: CompI_2020.2_EP_ENU/ET1/ER1  [Jéssica]>, <OnlineClass: CompI_2020.2_NTA+MAA [Jéssica]>, <OnlineClass: Comp 1 IGA/IG1- 2020.2 - Daniel Alfaro>, <OnlineClass: Comp I - IFN/IQQ  (2020.2 - João Vitor)>]>"
      ]
     },
     "execution_count": 6,
     "metadata": {},
     "output_type": "execute_result"
    }
   ],
   "source": [
    "turmas_validas = OnlineClass.objects.filter(start_date__gte=data_inicio, \n",
    "                                            start_date__lte=data_fim).order_by('pk')\n",
    "turmas_validas"
   ]
  },
  {
   "cell_type": "code",
   "execution_count": 7,
   "metadata": {},
   "outputs": [
    {
     "name": "stdout",
     "output_type": "stream",
     "text": [
      "55 EM2 - Natanael\n",
      "56 EP1 - Natanael - COMP 2\n",
      "57 MAB114_EE1_11452_REM2020_2\n",
      "58 MAB121_CMT1_11474_REM2020_2\n",
      "59 Comp1_2020_2_EM_(Carla)\n",
      "60 EC1 - Anamaria (2020-2)\n",
      "62 Computação I - CMT2 - 11475 (Rafael / Bernardo)\n",
      "63 Computação I - CMT3 - 11477 (Rafael / Danilo)\n",
      "64 Comp1_2020-2_EP_EC2 [Danilo]\n",
      "65 Comp1_2020-2_SV_IQT1-IQQ [Danilo]\n",
      "67 CompI_2020.2_EP_ENU/ET1/ER1  [Jéssica]\n",
      "68 CompI_2020.2_NTA+MAA [Jéssica]\n",
      "69 Comp 1 IGA/IG1- 2020.2 - Daniel Alfaro\n",
      "70 Comp I - IFN/IQQ  (2020.2 - João Vitor)\n"
     ]
    }
   ],
   "source": [
    "for item in turmas_validas:\n",
    "    print(item.pk, item.name)"
   ]
  },
  {
   "cell_type": "code",
   "execution_count": 8,
   "metadata": {},
   "outputs": [],
   "source": [
    "turmas_validas = [55, 57, 58, 59, 60, 62, 63, 64, 65, 67, 68, 69, 70]"
   ]
  },
  {
   "cell_type": "code",
   "execution_count": 9,
   "metadata": {},
   "outputs": [],
   "source": [
    "def get_chapters(chapters, weeks):\n",
    "    result = []\n",
    "    for item in weeks:\n",
    "        result.append(chapters[item])\n",
    "    return result"
   ]
  },
  {
   "cell_type": "code",
   "execution_count": 10,
   "metadata": {},
   "outputs": [
    {
     "name": "stdout",
     "output_type": "stream",
     "text": [
      "20 - (REMOTO) 02 - Funcoes e Tipos de dados\n",
      "12 - (REMOTO) 03 - Tipos de dados, Strings, Estrutura Condicional\n",
      "13 - (REMOTO) 04 - Variáveis e atribuição, strings e tuplas\n",
      "14 - (REMOTO) 05 - Manipulação de strings, tuplas e listas\n",
      "15 - (REMOTO) 06 - Fatiamento e manipulação de listas\n",
      "16 - (REMOTO) 07 - Estrutura de repetição com teste de parada: While\n",
      "17 - (REMOTO) 08 - Estrutura de repetição iteradora: for\n",
      "19 - (REMOTO) 09 - Laços aninhados e matrizes\n",
      "10 - (REMOTO) 10 - Dicionário\n"
     ]
    }
   ],
   "source": [
    "from django.db.models import Case, When\n",
    "\n",
    "chapter_order = [20, 12, 13, 14, 15, 16, 17, 19, 10]\n",
    "preserved = Case(*[When(pk=pk, then=pos) for pos, pk in enumerate(chapter_order)])\n",
    "chapters = Chapter.objects.filter(pk__in=chapter_order).order_by(preserved)\n",
    "\n",
    "chapter_dict = {}\n",
    "chapter_start = 2\n",
    "for idx, item in enumerate(chapters):\n",
    "    chapter_dict[idx+chapter_start] = item.pk\n",
    "    print(f\"{item.pk} - {item.label}\")"
   ]
  },
  {
   "cell_type": "code",
   "execution_count": 11,
   "metadata": {},
   "outputs": [
    {
     "name": "stderr",
     "output_type": "stream",
     "text": [
      "/home/lmoraes/.pyenv/versions/machineteaching/lib/python3.8/site-packages/django/db/models/fields/__init__.py:1420: RuntimeWarning: DateTimeField UserLog.timestamp received a naive datetime (2021-03-22 00:00:00) while time zone support is active.\n",
      "  warnings.warn(\"DateTimeField %s received a naive datetime (%s)\"\n"
     ]
    }
   ],
   "source": [
    "# Remove professores e usuarios que já tenham utilizado o sistema em outra turma\n",
    "professores = Professor.objects.all().values_list('user')\n",
    "usuarios_tentativa_anterior = UserLog.objects.filter(user__userprofile__user_class__in=turmas_validas,\n",
    "                                                     timestamp__lt=data_inicio).values_list('user').distinct()"
   ]
  },
  {
   "cell_type": "code",
   "execution_count": 12,
   "metadata": {},
   "outputs": [],
   "source": [
    "# O que fazer com alunos repetentes?\n",
    "# Vou separá-los por enquanto"
   ]
  },
  {
   "cell_type": "markdown",
   "metadata": {},
   "source": [
    "### Get logs from classes with corrected assigned chapters"
   ]
  },
  {
   "cell_type": "code",
   "execution_count": 13,
   "metadata": {},
   "outputs": [
    {
     "name": "stdout",
     "output_type": "stream",
     "text": [
      "68837\n",
      "CPU times: user 2.93 ms, sys: 2 ms, total: 4.93 ms\n",
      "Wall time: 427 ms\n"
     ]
    }
   ],
   "source": [
    "%%time\n",
    "CHAPTERS = [2, 3, 4, 5, 6, 7, 8, 9, 10]\n",
    "chapter_filter = get_chapters(chapter_dict, CHAPTERS)\n",
    "userlog = UserLog.objects.filter(user__userprofile__user_class__in=turmas_validas,\n",
    "                                 problem__chapter__in=chapter_filter\n",
    "                                ).exclude(user__in=usuarios_tentativa_anterior\n",
    "                                ).exclude(user__in=professores).order_by('timestamp'\n",
    "                                ).values('user__id', 'problem__id', 'outcome', \n",
    "                                         'timestamp', 'user__userprofile__user_class',\n",
    "                                         'problem__chapter')\n",
    "print(userlog.count())"
   ]
  },
  {
   "cell_type": "code",
   "execution_count": 14,
   "metadata": {},
   "outputs": [
    {
     "name": "stdout",
     "output_type": "stream",
     "text": [
      "Total de alunos: 294\n",
      "Total de problemas: 45\n",
      "Total de turmas: 12\n",
      "Total de listas: 9\n"
     ]
    }
   ],
   "source": [
    "students = list(set([log['user__id'] for log in userlog]))\n",
    "problems = list(set([log['problem__id'] for log in userlog]))\n",
    "classes = list(set([log['user__userprofile__user_class'] for log in userlog]))\n",
    "chapters = list(set([log['problem__chapter'] for log in userlog]))\n",
    "\n",
    "print(f\"Total de alunos: {len(students)}\")\n",
    "print(f\"Total de problemas: {len(problems)}\")\n",
    "print(f\"Total de turmas: {len(classes)}\")\n",
    "print(f\"Total de listas: {len(chapters)}\")"
   ]
  },
  {
   "cell_type": "code",
   "execution_count": 15,
   "metadata": {},
   "outputs": [],
   "source": [
    "with open(\"%s/userlogs.pkl\" % folder, \"wb\") as pklfile:\n",
    "    pickle.dump(list(userlog), pklfile)"
   ]
  },
  {
   "cell_type": "code",
   "execution_count": 16,
   "metadata": {},
   "outputs": [
    {
     "name": "stdout",
     "output_type": "stream",
     "text": [
      "68837\n",
      "CPU times: user 410 ms, sys: 207 ms, total: 617 ms\n",
      "Wall time: 14.7 s\n"
     ]
    }
   ],
   "source": [
    "%%time\n",
    "userlog_complete = UserLog.objects.filter(user__userprofile__user_class__in=turmas_validas, \n",
    "                                          problem__chapter__in=chapter_filter\n",
    "                                ).exclude(user__in=usuarios_tentativa_anterior\n",
    "                                ).exclude(user__in=professores).order_by('timestamp'\n",
    "                                ).values('user__id', 'problem__id', 'outcome', \n",
    "                                         'timestamp', 'user__userprofile__user_class',\n",
    "                                         'solution', 'seconds_in_page', 'seconds_in_code', \n",
    "                                         'seconds_to_begin', 'problem__chapter')\n",
    "print(userlog_complete.count())\n",
    "\n",
    "with open(\"%s/userlogs_complete.pkl\" % folder, \"wb\") as pklfile:\n",
    "    pickle.dump(list(userlog_complete), pklfile)"
   ]
  },
  {
   "cell_type": "code",
   "execution_count": 61,
   "metadata": {},
   "outputs": [],
   "source": [
    "# One row per test case\n",
    "solutions = Solution.objects.filter(problem__in=problems, ignore=False).values(\n",
    "    \"problem_id\", \"content\", \"header\", \"problem__testcase__content\").order_by(\"content\")"
   ]
  },
  {
   "cell_type": "code",
   "execution_count": 62,
   "metadata": {},
   "outputs": [
    {
     "name": "stdout",
     "output_type": "stream",
     "text": [
      "CPU times: user 3.96 ms, sys: 1.33 ms, total: 5.29 ms\n",
      "Wall time: 167 ms\n"
     ]
    }
   ],
   "source": [
    "%%time\n",
    "data = []\n",
    "old_content = \"\"\n",
    "for item in solutions:\n",
    "    # If it is the same problem, keep adding test cases\n",
    "    if item[\"content\"] == old_content:\n",
    "        data[-1][\"test_case\"].append(json.loads(item[\"problem__testcase__content\"]))\n",
    "    # Otherwise, start new row\n",
    "    else:\n",
    "        item_data = {\n",
    "            \"problem_id\": item[\"problem_id\"],\n",
    "            \"solution\": item[\"content\"],\n",
    "            \"function_call\": item[\"header\"],\n",
    "            \"test_case\": [json.loads(item[\"problem__testcase__content\"])]\n",
    "        }\n",
    "        data.append(item_data)\n",
    "    old_content = item[\"content\"]"
   ]
  },
  {
   "cell_type": "code",
   "execution_count": 11,
   "metadata": {},
   "outputs": [
    {
     "name": "stdout",
     "output_type": "stream",
     "text": [
      "CPU times: user 28 µs, sys: 19 µs, total: 47 µs\n",
      "Wall time: 49.6 µs\n"
     ]
    }
   ],
   "source": [
    "%%time\n",
    "# Transform it into dict to lookup for problem\n",
    "data_dict = {}\n",
    "for item in data:\n",
    "    data_dict[item[\"problem_id\"]] = item"
   ]
  },
  {
   "cell_type": "code",
   "execution_count": null,
   "metadata": {},
   "outputs": [],
   "source": [
    "# Calculate test case percentage for each userlog\n",
    "userlog_testcase = []\n",
    "for item in userlog:\n",
    "    tcs = data[userlog.problem_id][\"test_case\"]\n",
    "    correct = 0\n",
    "    # Calculate student response and solution for each test case for each log\n",
    "    for tc in tcs:\n",
    "        # Transform solution into Python function\n",
    "        function_obj = compile(data[userlog.problem_id][\"solution\"], 'solution', 'exec')\n",
    "        exec(function_obj)\n",
    "        answer_solution = eval(item[\"function_call\"])(*tc)\n",
    "        \n",
    "        # Transform student solution into Python function\n",
    "        \n",
    "        function_obj = compile(userlog.solution, 'solution', 'exec')\n",
    "        exec(function_obj)\n",
    "        answer_student = eval(item[\"function_call\"])(*tc)"
   ]
  },
  {
   "cell_type": "code",
   "execution_count": null,
   "metadata": {},
   "outputs": [],
   "source": [
    "for item in data:\n",
    "    for tc in item[\"test_case\"]:\n",
    "        print(tc)\n",
    "        # Transform solution into python function\n",
    "        function_obj = compile(item[\"solution\"], 'solution', 'exec')\n",
    "        exec(function_obj)\n",
    "        answer = eval(item[\"function_call\"])(*tc)\n",
    "        "
   ]
  }
 ],
 "metadata": {
  "kernelspec": {
   "display_name": "Django Shell-Plus",
   "language": "python",
   "name": "django_extensions"
  },
  "language_info": {
   "codemirror_mode": {
    "name": "ipython",
    "version": 3
   },
   "file_extension": ".py",
   "mimetype": "text/x-python",
   "name": "python",
   "nbconvert_exporter": "python",
   "pygments_lexer": "ipython3",
   "version": "3.8.5"
  }
 },
 "nbformat": 4,
 "nbformat_minor": 4
}
