{
 "cells": [
  {
   "cell_type": "code",
   "execution_count": 2,
   "metadata": {},
   "outputs": [],
   "source": [
    "import pandas as pd\n",
    "import re\n",
    "import numpy as np\n",
    "from sklearn.metrics import roc_curve, auc\n",
    "import matplotlib.pyplot as plt\n",
    "import pickle"
   ]
  },
  {
   "cell_type": "markdown",
   "metadata": {},
   "source": [
    "### Reading KDD train file\n",
    "Drop rows with null in any of the important columns"
   ]
  },
  {
   "cell_type": "code",
   "execution_count": 3,
   "metadata": {},
   "outputs": [],
   "source": [
    "folder = 'data/kdd/2008-2009'"
   ]
  },
  {
   "cell_type": "code",
   "execution_count": 19,
   "metadata": {},
   "outputs": [
    {
     "name": "stdout",
     "output_type": "stream",
     "text": [
      "(508912, 23)\n",
      "Wall time: 1.9 s\n"
     ]
    }
   ],
   "source": [
    "%%time\n",
    "df_all = pd.read_csv('%s/algebra_2008_2009_test.txt' % folder, delimiter='\\t')\n",
    "print(df_all.shape)"
   ]
  },
  {
   "cell_type": "code",
   "execution_count": 20,
   "metadata": {},
   "outputs": [],
   "source": [
    "df = df_all[['Anon Student Id', 'Correct First Attempt', 'Problem Hierarchy', 'Problem Name', 'Problem View', 'Step Name', 'KC(SubSkills)']]"
   ]
  },
  {
   "cell_type": "code",
   "execution_count": 22,
   "metadata": {},
   "outputs": [],
   "source": [
    "df = df.dropna(axis=0, subset=['KC(SubSkills)'])"
   ]
  },
  {
   "cell_type": "code",
   "execution_count": 23,
   "metadata": {},
   "outputs": [
    {
     "data": {
      "text/html": [
       "<div>\n",
       "<style scoped>\n",
       "    .dataframe tbody tr th:only-of-type {\n",
       "        vertical-align: middle;\n",
       "    }\n",
       "\n",
       "    .dataframe tbody tr th {\n",
       "        vertical-align: top;\n",
       "    }\n",
       "\n",
       "    .dataframe thead th {\n",
       "        text-align: right;\n",
       "    }\n",
       "</style>\n",
       "<table border=\"1\" class=\"dataframe\">\n",
       "  <thead>\n",
       "    <tr style=\"text-align: right;\">\n",
       "      <th></th>\n",
       "      <th>Anon Student Id</th>\n",
       "      <th>Correct First Attempt</th>\n",
       "      <th>Problem Hierarchy</th>\n",
       "      <th>Problem Name</th>\n",
       "      <th>Problem View</th>\n",
       "      <th>Step Name</th>\n",
       "      <th>KC(SubSkills)</th>\n",
       "    </tr>\n",
       "  </thead>\n",
       "  <tbody>\n",
       "    <tr>\n",
       "      <td>3</td>\n",
       "      <td>stu_de2777346f</td>\n",
       "      <td>NaN</td>\n",
       "      <td>Unit CTA1_01, Section CTA1_01-4</td>\n",
       "      <td>L1FB12</td>\n",
       "      <td>1</td>\n",
       "      <td>R2C2</td>\n",
       "      <td>Identifying units</td>\n",
       "    </tr>\n",
       "    <tr>\n",
       "      <td>4</td>\n",
       "      <td>stu_de2777346f</td>\n",
       "      <td>NaN</td>\n",
       "      <td>Unit CTA1_01, Section CTA1_01-4</td>\n",
       "      <td>L1FB12</td>\n",
       "      <td>1</td>\n",
       "      <td>R3C1</td>\n",
       "      <td>Define Variable</td>\n",
       "    </tr>\n",
       "    <tr>\n",
       "      <td>5</td>\n",
       "      <td>stu_de2777346f</td>\n",
       "      <td>NaN</td>\n",
       "      <td>Unit CTA1_01, Section CTA1_01-4</td>\n",
       "      <td>L1FB12</td>\n",
       "      <td>1</td>\n",
       "      <td>R3C2</td>\n",
       "      <td>Write expression, any form~~Write expression, ...</td>\n",
       "    </tr>\n",
       "    <tr>\n",
       "      <td>6</td>\n",
       "      <td>stu_de2777346f</td>\n",
       "      <td>NaN</td>\n",
       "      <td>Unit CTA1_01, Section CTA1_01-4</td>\n",
       "      <td>L1FB12</td>\n",
       "      <td>1</td>\n",
       "      <td>R4C1</td>\n",
       "      <td>Entering a given~~Enter given, reading numerals</td>\n",
       "    </tr>\n",
       "    <tr>\n",
       "      <td>7</td>\n",
       "      <td>stu_de2777346f</td>\n",
       "      <td>NaN</td>\n",
       "      <td>Unit CTA1_01, Section CTA1_01-4</td>\n",
       "      <td>L1FB12</td>\n",
       "      <td>1</td>\n",
       "      <td>R4C2</td>\n",
       "      <td>Using simple numbers~~Find Y, any form~~Find Y...</td>\n",
       "    </tr>\n",
       "    <tr>\n",
       "      <td>...</td>\n",
       "      <td>...</td>\n",
       "      <td>...</td>\n",
       "      <td>...</td>\n",
       "      <td>...</td>\n",
       "      <td>...</td>\n",
       "      <td>...</td>\n",
       "      <td>...</td>\n",
       "    </tr>\n",
       "    <tr>\n",
       "      <td>508906</td>\n",
       "      <td>stu_6af5d5e304</td>\n",
       "      <td>NaN</td>\n",
       "      <td>Unit LINEAR-INEQUALITY-GRAPHING, Section LINEA...</td>\n",
       "      <td>2X+3YGT9</td>\n",
       "      <td>1</td>\n",
       "      <td>XIntercept1</td>\n",
       "      <td>Positive Constants, GLF~~Entering x-intercept,...</td>\n",
       "    </tr>\n",
       "    <tr>\n",
       "      <td>508907</td>\n",
       "      <td>stu_6af5d5e304</td>\n",
       "      <td>NaN</td>\n",
       "      <td>Unit LINEAR-INEQUALITY-GRAPHING, Section LINEA...</td>\n",
       "      <td>2X+3YGT9</td>\n",
       "      <td>1</td>\n",
       "      <td>YIntercept1</td>\n",
       "      <td>Positive Constants, GLF~~Entering y-intercept,...</td>\n",
       "    </tr>\n",
       "    <tr>\n",
       "      <td>508909</td>\n",
       "      <td>stu_6af5d5e304</td>\n",
       "      <td>NaN</td>\n",
       "      <td>Unit LINEAR-INEQUALITY-GRAPHING, Section LINEA...</td>\n",
       "      <td>2X+3YGT9</td>\n",
       "      <td>1</td>\n",
       "      <td>ShadeButton1</td>\n",
       "      <td>Shading greater than~~Excluding the line when ...</td>\n",
       "    </tr>\n",
       "    <tr>\n",
       "      <td>508910</td>\n",
       "      <td>stu_6af5d5e304</td>\n",
       "      <td>NaN</td>\n",
       "      <td>Unit LINEAR-INEQUALITY-GRAPHING, Section LINEA...</td>\n",
       "      <td>2X+3YGT9</td>\n",
       "      <td>1</td>\n",
       "      <td>Formula 1 XIntercept</td>\n",
       "      <td>Placing coordinate point</td>\n",
       "    </tr>\n",
       "    <tr>\n",
       "      <td>508911</td>\n",
       "      <td>stu_6af5d5e304</td>\n",
       "      <td>NaN</td>\n",
       "      <td>Unit LINEAR-INEQUALITY-GRAPHING, Section LINEA...</td>\n",
       "      <td>2X+3YGT9</td>\n",
       "      <td>1</td>\n",
       "      <td>Formula 1 YIntercept</td>\n",
       "      <td>Placing coordinate point</td>\n",
       "    </tr>\n",
       "  </tbody>\n",
       "</table>\n",
       "<p>353798 rows × 7 columns</p>\n",
       "</div>"
      ],
      "text/plain": [
       "       Anon Student Id  Correct First Attempt  \\\n",
       "3       stu_de2777346f                    NaN   \n",
       "4       stu_de2777346f                    NaN   \n",
       "5       stu_de2777346f                    NaN   \n",
       "6       stu_de2777346f                    NaN   \n",
       "7       stu_de2777346f                    NaN   \n",
       "...                ...                    ...   \n",
       "508906  stu_6af5d5e304                    NaN   \n",
       "508907  stu_6af5d5e304                    NaN   \n",
       "508909  stu_6af5d5e304                    NaN   \n",
       "508910  stu_6af5d5e304                    NaN   \n",
       "508911  stu_6af5d5e304                    NaN   \n",
       "\n",
       "                                        Problem Hierarchy Problem Name  \\\n",
       "3                         Unit CTA1_01, Section CTA1_01-4       L1FB12   \n",
       "4                         Unit CTA1_01, Section CTA1_01-4       L1FB12   \n",
       "5                         Unit CTA1_01, Section CTA1_01-4       L1FB12   \n",
       "6                         Unit CTA1_01, Section CTA1_01-4       L1FB12   \n",
       "7                         Unit CTA1_01, Section CTA1_01-4       L1FB12   \n",
       "...                                                   ...          ...   \n",
       "508906  Unit LINEAR-INEQUALITY-GRAPHING, Section LINEA...     2X+3YGT9   \n",
       "508907  Unit LINEAR-INEQUALITY-GRAPHING, Section LINEA...     2X+3YGT9   \n",
       "508909  Unit LINEAR-INEQUALITY-GRAPHING, Section LINEA...     2X+3YGT9   \n",
       "508910  Unit LINEAR-INEQUALITY-GRAPHING, Section LINEA...     2X+3YGT9   \n",
       "508911  Unit LINEAR-INEQUALITY-GRAPHING, Section LINEA...     2X+3YGT9   \n",
       "\n",
       "        Problem View             Step Name  \\\n",
       "3                  1                  R2C2   \n",
       "4                  1                  R3C1   \n",
       "5                  1                  R3C2   \n",
       "6                  1                  R4C1   \n",
       "7                  1                  R4C2   \n",
       "...              ...                   ...   \n",
       "508906             1           XIntercept1   \n",
       "508907             1           YIntercept1   \n",
       "508909             1          ShadeButton1   \n",
       "508910             1  Formula 1 XIntercept   \n",
       "508911             1  Formula 1 YIntercept   \n",
       "\n",
       "                                            KC(SubSkills)  \n",
       "3                                       Identifying units  \n",
       "4                                         Define Variable  \n",
       "5       Write expression, any form~~Write expression, ...  \n",
       "6         Entering a given~~Enter given, reading numerals  \n",
       "7       Using simple numbers~~Find Y, any form~~Find Y...  \n",
       "...                                                   ...  \n",
       "508906  Positive Constants, GLF~~Entering x-intercept,...  \n",
       "508907  Positive Constants, GLF~~Entering y-intercept,...  \n",
       "508909  Shading greater than~~Excluding the line when ...  \n",
       "508910                           Placing coordinate point  \n",
       "508911                           Placing coordinate point  \n",
       "\n",
       "[353798 rows x 7 columns]"
      ]
     },
     "execution_count": 23,
     "metadata": {},
     "output_type": "execute_result"
    }
   ],
   "source": [
    "df"
   ]
  },
  {
   "cell_type": "code",
   "execution_count": 13,
   "metadata": {},
   "outputs": [
    {
     "data": {
      "text/plain": [
       "(353798, 7)"
      ]
     },
     "execution_count": 13,
     "metadata": {},
     "output_type": "execute_result"
    }
   ],
   "source": [
    "df.shape"
   ]
  },
  {
   "cell_type": "markdown",
   "metadata": {},
   "source": [
    "### Preprocessing\n",
    "Transform dataframe in a format understood by the BKT module"
   ]
  },
  {
   "cell_type": "code",
   "execution_count": 14,
   "metadata": {},
   "outputs": [],
   "source": [
    "skipped = []\n",
    "def get_kcs(row):\n",
    "    text = row['KC(SubSkills)'].replace(',','')\n",
    "    kc_list = text.split('~~')\n",
    "    kc = []\n",
    "    for item in kc_list:\n",
    "        # Option 1: with SkillRule prefix\n",
    "        found_opt1 = re.findall(r'^\\[SkillRule: ([\\w ]+[ ,/?-]*[\\w ]*);.*', item, flags=re.M)\n",
    "        # Option 2: regular words (hyphenized or spaced)\n",
    "        found_opt2 = re.findall(r'^([\\w -]+).*', item, flags=re.M)\n",
    "        # Option 3: get what couldn't be extracted from previous patterns\n",
    "        found_opt3 = re.findall(r'^\\[SkillRule: (.*);.*', item, flags=re.M)\n",
    "        if found_opt1:\n",
    "            kc.append(found_opt1[0])\n",
    "        elif found_opt2:\n",
    "            kc.append(found_opt2[0])\n",
    "        elif found_opt3:\n",
    "            kc.append(found_opt3[0])\n",
    "        else:\n",
    "            skipped.append(item)\n",
    "    return kc\n",
    "\n",
    "def get_steps(row):\n",
    "    step = row['Problem Hierarchy'] + '_' + row[\"Problem Name\"] + '_' + row['Step Name']\n",
    "    return step"
   ]
  },
  {
   "cell_type": "markdown",
   "metadata": {},
   "source": [
    "Separate KCs in a list and create an identifier name for the step"
   ]
  },
  {
   "cell_type": "code",
   "execution_count": 32,
   "metadata": {},
   "outputs": [
    {
     "name": "stderr",
     "output_type": "stream",
     "text": [
      "C:\\Users\\lmoraes\\Miniconda3\\envs\\py3\\lib\\site-packages\\ipykernel_launcher.py:1: SettingWithCopyWarning: \n",
      "A value is trying to be set on a copy of a slice from a DataFrame.\n",
      "Try using .loc[row_indexer,col_indexer] = value instead\n",
      "\n",
      "See the caveats in the documentation: http://pandas.pydata.org/pandas-docs/stable/user_guide/indexing.html#returning-a-view-versus-a-copy\n",
      "  \"\"\"Entry point for launching an IPython kernel.\n"
     ]
    },
    {
     "name": "stdout",
     "output_type": "stream",
     "text": [
      "Wall time: 32 s\n"
     ]
    },
    {
     "name": "stderr",
     "output_type": "stream",
     "text": [
      "C:\\Users\\lmoraes\\Miniconda3\\envs\\py3\\lib\\site-packages\\ipykernel_launcher.py:2: SettingWithCopyWarning: \n",
      "A value is trying to be set on a copy of a slice from a DataFrame.\n",
      "Try using .loc[row_indexer,col_indexer] = value instead\n",
      "\n",
      "See the caveats in the documentation: http://pandas.pydata.org/pandas-docs/stable/user_guide/indexing.html#returning-a-view-versus-a-copy\n",
      "  \n"
     ]
    }
   ],
   "source": [
    "%%time\n",
    "df['KC'] = df.apply(get_kcs, axis=1)\n",
    "df['step'] = df.apply(get_steps, axis=1)"
   ]
  },
  {
   "cell_type": "code",
   "execution_count": 30,
   "metadata": {},
   "outputs": [],
   "source": [
    "with open('%s/kdd_2008_2009_kcs.pkl' % folder, 'rb') as pklfile:\n",
    "    kcs_train = pickle.load(pklfile)"
   ]
  },
  {
   "cell_type": "code",
   "execution_count": 33,
   "metadata": {},
   "outputs": [
    {
     "name": "stdout",
     "output_type": "stream",
     "text": [
      "Wall time: 2min 2s\n"
     ]
    },
    {
     "name": "stderr",
     "output_type": "stream",
     "text": [
      "C:\\Users\\lmoraes\\Miniconda3\\envs\\py3\\lib\\site-packages\\ipykernel_launcher.py:7: SettingWithCopyWarning: \n",
      "A value is trying to be set on a copy of a slice from a DataFrame.\n",
      "Try using .loc[row_indexer,col_indexer] = value instead\n",
      "\n",
      "See the caveats in the documentation: http://pandas.pydata.org/pandas-docs/stable/user_guide/indexing.html#returning-a-view-versus-a-copy\n",
      "  import sys\n"
     ]
    }
   ],
   "source": [
    "%%time\n",
    "steps = df['step'].unique().tolist()\n",
    "\n",
    "def create_data(row):\n",
    "    question_id = steps.index(row['step'])\n",
    "    return question_id\n",
    "\n",
    "df['question_id'] = df.apply(create_data, axis=1)"
   ]
  },
  {
   "cell_type": "markdown",
   "metadata": {},
   "source": [
    "Construct Q-Matrix"
   ]
  },
  {
   "cell_type": "code",
   "execution_count": 36,
   "metadata": {},
   "outputs": [
    {
     "name": "stdout",
     "output_type": "stream",
     "text": [
      "(75153, 536)\n",
      "Wall time: 1min 5s\n"
     ]
    }
   ],
   "source": [
    "%%time\n",
    "q_matrix = np.zeros((len(steps), len(kcs_train)))\n",
    "\n",
    "for idx, item in df.iterrows():\n",
    "    for kc in item['KC']:\n",
    "        kc_col = kcs_train.index(kc)\n",
    "        q_matrix[item['question_id'], kc_col] = 1\n",
    "    \n",
    "print(q_matrix.shape)"
   ]
  },
  {
   "cell_type": "markdown",
   "metadata": {},
   "source": [
    "Save data"
   ]
  },
  {
   "cell_type": "code",
   "execution_count": 37,
   "metadata": {},
   "outputs": [
    {
     "name": "stdout",
     "output_type": "stream",
     "text": [
      "Wall time: 52.8 s\n"
     ]
    }
   ],
   "source": [
    "%%time\n",
    "with open('%s/kdd_2008_2009_test_df.pkl' % folder, 'wb') as pklfile:\n",
    "    pickle.dump(df, pklfile)\n",
    "with open('%s/kdd_2008_2009_test_q_matrix.pkl' % folder, 'wb') as pklfile:\n",
    "    pickle.dump(q_matrix, pklfile)"
   ]
  },
  {
   "cell_type": "code",
   "execution_count": 5,
   "metadata": {},
   "outputs": [
    {
     "name": "stdout",
     "output_type": "stream",
     "text": [
      "Wall time: 333 ms\n"
     ]
    },
    {
     "data": {
      "text/plain": [
       "3232"
      ]
     },
     "execution_count": 5,
     "metadata": {},
     "output_type": "execute_result"
    }
   ],
   "source": [
    "%%time\n",
    "# Data matrix\n",
    "data = df[['Correct First Attempt', 'Anon Student Id', 'question_id']].values.tolist()\n",
    "students = df['Anon Student Id'].unique().tolist()\n",
    "len(students)"
   ]
  },
  {
   "cell_type": "code",
   "execution_count": 6,
   "metadata": {},
   "outputs": [
    {
     "name": "stdout",
     "output_type": "stream",
     "text": [
      "Wall time: 170 ms\n"
     ]
    }
   ],
   "source": [
    "%%time\n",
    "with open('%s/kdd_2008_2009_test_data.pkl' % folder, 'wb') as pklfile:\n",
    "    pickle.dump(data, pklfile)\n",
    "with open('%s/kdd_2008_2009_test_students.pkl' % folder, 'wb') as pklfile:\n",
    "    pickle.dump(students, pklfile)"
   ]
  }
 ],
 "metadata": {
  "kernelspec": {
   "display_name": "Python 3",
   "language": "python",
   "name": "python3"
  },
  "language_info": {
   "codemirror_mode": {
    "name": "ipython",
    "version": 3
   },
   "file_extension": ".py",
   "mimetype": "text/x-python",
   "name": "python",
   "nbconvert_exporter": "python",
   "pygments_lexer": "ipython3",
   "version": "3.7.4"
  }
 },
 "nbformat": 4,
 "nbformat_minor": 2
}
