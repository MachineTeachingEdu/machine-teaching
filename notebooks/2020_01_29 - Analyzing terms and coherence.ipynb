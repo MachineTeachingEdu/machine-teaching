{
 "cells": [
  {
   "cell_type": "code",
   "execution_count": 1,
   "metadata": {},
   "outputs": [],
   "source": [
    "# Helpers\n",
    "import numpy as np\n",
    "import pandas as pd\n",
    "import pickle\n",
    "import base64\n",
    "\n",
    "# Preprocessing\n",
    "from sklearn.feature_extraction.text import CountVectorizer\n",
    "import analyzer\n",
    "from tokenizer import create_bag_of_words\n",
    "from coherence import calculate_uci_coherence\n",
    "\n",
    "# Plots\n",
    "import matplotlib.pyplot as plt\n",
    "#import seaborn as sns\n",
    "\n",
    "#DB\n",
    "import psycopg2\n",
    "\n",
    "# Learning\n",
    "from sklearn.cluster import KMeans\n",
    "from sklearn.linear_model import LogisticRegression"
   ]
  },
  {
   "cell_type": "markdown",
   "metadata": {},
   "source": [
    "## Data"
   ]
  },
  {
   "cell_type": "code",
   "execution_count": 2,
   "metadata": {},
   "outputs": [
    {
     "name": "stdout",
     "output_type": "stream",
     "text": [
      "Problems to be used: 132\n",
      "Solutions to be used: 54\n",
      "Got 54 documents\n"
     ]
    }
   ],
   "source": [
    "## Cleaning database\n",
    "last_id = 132\n",
    "# problems = Problem.objects.filter(id__gt=last_id)\n",
    "# # solutions_obj = Solution.objects.filter(problem__in=problems).update(ignore=True)\n",
    "# print(\"Problems to be ignored: %d\" % problems.count())\n",
    "\n",
    "problems = Problem.objects.filter(id__lte=last_id)\n",
    "# problems = Problem.objects.all()\n",
    "print(\"Problems to be used: %d\" % problems.count())\n",
    "\n",
    "solutions_obj = Solution.objects.filter(problem__in=problems, ignore=False).order_by('id')\n",
    "# solutions_obj = Solution.objects.all().order_by('id')\n",
    "print(\"Solutions to be used: %d\" % solutions_obj.count())\n",
    "\n",
    "docs_id = []\n",
    "questions = []\n",
    "solutions = []\n",
    "\n",
    "# Fill separated structures\n",
    "for sol in solutions_obj:\n",
    "    docs_id.append(sol.id)\n",
    "    questions.append(sol.problem.content)\n",
    "    solutions.append(sol.content)\n",
    "\n",
    "print(\"Got %d documents\" %(solutions_obj.count()))"
   ]
  },
  {
   "cell_type": "markdown",
   "metadata": {},
   "source": [
    "### Average terms/document"
   ]
  },
  {
   "cell_type": "code",
   "execution_count": 3,
   "metadata": {},
   "outputs": [],
   "source": [
    "def get_avg_terms(ngrams):\n",
    "    print(ng)\n",
    "    analyzer.vectorizer_params = {'ngram_range': ngrams}\n",
    "    vectorizer = CountVectorizer(analyzer=analyzer.python_analyzer)\n",
    "    train_data_features = vectorizer.fit_transform(solutions)\n",
    "    tokens = np.asarray(train_data_features.sum(axis=1)).reshape(-1)\n",
    "    total = tokens.sum()\n",
    "    vocab = train_data_features.shape[1]\n",
    "    summary = {\"max\": tokens.max(),\n",
    "               \"argmax\": tokens.argmax(),\n",
    "               \"min\": tokens.min(),\n",
    "               \"argmin\": tokens.argmin(),\n",
    "               \"avg\": tokens.mean(),\n",
    "               \"total\": total,\n",
    "               \"vocab\": vocab,\n",
    "               \"sparsity\": 100 * total / (vocab * train_data_features.shape[0])}\n",
    "    plt.figure()\n",
    "    n, bins, patches = plt.hist(tokens, alpha=0.7)\n",
    "    plt.show()\n",
    "    return summary\n",
    "\n",
    "def get_avg_regular_terms(ngrams):\n",
    "    print(ng)\n",
    "    analyzer.vectorizer_params = {'ngram_range': ngrams}\n",
    "    vectorizer = CountVectorizer()\n",
    "    train_data_features = vectorizer.fit_transform(solutions)\n",
    "    tokens = np.asarray(train_data_features.sum(axis=1)).reshape(-1)\n",
    "    total = tokens.sum()\n",
    "    vocab = train_data_features.shape[1]\n",
    "    summary = {\"max\": tokens.max(),\n",
    "               \"argmax\": tokens.argmax(),\n",
    "               \"min\": tokens.min(),\n",
    "               \"argmin\": tokens.argmin(),\n",
    "               \"avg\": tokens.mean(),\n",
    "               \"total\": total,\n",
    "               \"vocab\": vocab,\n",
    "               \"sparsity\": 100 * total / (vocab * train_data_features.shape[0])}\n",
    "    plt.figure()\n",
    "    n, bins, patches = plt.hist(tokens, alpha=0.7)\n",
    "    plt.show()\n",
    "    return summary"
   ]
  },
  {
   "cell_type": "code",
   "execution_count": 6,
   "metadata": {
    "scrolled": false
   },
   "outputs": [
    {
     "name": "stdout",
     "output_type": "stream",
     "text": [
      "(1, 1)\n"
     ]
    },
    {
     "data": {
      "image/png": "[encoded data removed]",
      "text/plain": [
       "<Figure size 432x288 with 1 Axes>"
      ]
     },
     "metadata": {
      "needs_background": "light"
     },
     "output_type": "display_data"
    },
    {
     "name": "stdout",
     "output_type": "stream",
     "text": [
      "(1, 2)\n"
     ]
    },
    {
     "data": {
      "image/png": "[encoded data removed]",
      "text/plain": [
       "<Figure size 432x288 with 1 Axes>"
      ]
     },
     "metadata": {
      "needs_background": "light"
     },
     "output_type": "display_data"
    },
    {
     "name": "stdout",
     "output_type": "stream",
     "text": [
      "(1, 3)\n"
     ]
    },
    {
     "data": {
      "image/png": "[encoded data removed]",
      "text/plain": [
       "<Figure size 432x288 with 1 Axes>"
      ]
     },
     "metadata": {
      "needs_background": "light"
     },
     "output_type": "display_data"
    },
    {
     "name": "stdout",
     "output_type": "stream",
     "text": [
      "(2, 2)\n"
     ]
    },
    {
     "data": {
      "image/png": "[encoded data removed]",
      "text/plain": [
       "<Figure size 432x288 with 1 Axes>"
      ]
     },
     "metadata": {
      "needs_background": "light"
     },
     "output_type": "display_data"
    },
    {
     "name": "stdout",
     "output_type": "stream",
     "text": [
      "(2, 3)\n"
     ]
    },
    {
     "data": {
      "image/png": "[encoded data removed]",
      "text/plain": [
       "<Figure size 432x288 with 1 Axes>"
      ]
     },
     "metadata": {
      "needs_background": "light"
     },
     "output_type": "display_data"
    },
    {
     "name": "stdout",
     "output_type": "stream",
     "text": [
      "(3, 3)\n"
     ]
    },
    {
     "data": {
      "image/png": "[encoded data removed]",
      "text/plain": [
       "<Figure size 432x288 with 1 Axes>"
      ]
     },
     "metadata": {
      "needs_background": "light"
     },
     "output_type": "display_data"
    },
    {
     "name": "stdout",
     "output_type": "stream",
     "text": [
      "(1, 1)\n"
     ]
    },
    {
     "data": {
      "image/png": "[encoded data removed]",
      "text/plain": [
       "<Figure size 432x288 with 1 Axes>"
      ]
     },
     "metadata": {
      "needs_background": "light"
     },
     "output_type": "display_data"
    },
    {
     "name": "stdout",
     "output_type": "stream",
     "text": [
      "(1, 2)\n"
     ]
    },
    {
     "data": {
      "image/png": "[encoded data removed]",
      "text/plain": [
       "<Figure size 432x288 with 1 Axes>"
      ]
     },
     "metadata": {
      "needs_background": "light"
     },
     "output_type": "display_data"
    },
    {
     "name": "stdout",
     "output_type": "stream",
     "text": [
      "(1, 3)\n"
     ]
    },
    {
     "data": {
      "image/png": "[encoded data removed]",
      "text/plain": [
       "<Figure size 432x288 with 1 Axes>"
      ]
     },
     "metadata": {
      "needs_background": "light"
     },
     "output_type": "display_data"
    },
    {
     "name": "stdout",
     "output_type": "stream",
     "text": [
      "(2, 2)\n"
     ]
    },
    {
     "data": {
      "image/png": "[encoded data removed]",
      "text/plain": [
       "<Figure size 432x288 with 1 Axes>"
      ]
     },
     "metadata": {
      "needs_background": "light"
     },
     "output_type": "display_data"
    },
    {
     "name": "stdout",
     "output_type": "stream",
     "text": [
      "(2, 3)\n"
     ]
    },
    {
     "data": {
      "image/png": "[encoded data removed]",
      "text/plain": [
       "<Figure size 432x288 with 1 Axes>"
      ]
     },
     "metadata": {
      "needs_background": "light"
     },
     "output_type": "display_data"
    },
    {
     "name": "stdout",
     "output_type": "stream",
     "text": [
      "(3, 3)\n"
     ]
    },
    {
     "data": {
      "image/png": "[encoded data removed]",
      "text/plain": [
       "<Figure size 432x288 with 1 Axes>"
      ]
     },
     "metadata": {
      "needs_background": "light"
     },
     "output_type": "display_data"
    }
   ],
   "source": [
    "ngrams = [\n",
    "    (1,1), # unigrams\n",
    "    (1,2), # unigrams + bigrams\n",
    "    (1,3), # unigrams + bigrams + trigrams\n",
    "    (2,2), # bigrams\n",
    "    (2,3), # bigrams + trigrams\n",
    "    (3,3), # trigrams\n",
    "]\n",
    "summary = {}\n",
    "\n",
    "for ng in ngrams:\n",
    "    summary[ng] = get_avg_terms(ng)\n",
    "    \n",
    "for ng in ngrams:\n",
    "    summary[\"regular_%s_%s\" % ng] = get_avg_regular_terms(ng)"
   ]
  },
  {
   "cell_type": "code",
   "execution_count": 7,
   "metadata": {},
   "outputs": [
    {
     "data": {
      "text/plain": [
       "{(1, 1): {'max': 126,\n",
       "  'argmax': 30,\n",
       "  'min': 9,\n",
       "  'argmin': 4,\n",
       "  'avg': 46.77777777777778,\n",
       "  'total': 2526,\n",
       "  'vocab': 215,\n",
       "  'sparsity': 21.757105943152453},\n",
       " (1, 2): {'max': 251,\n",
       "  'argmax': 30,\n",
       "  'min': 17,\n",
       "  'argmin': 4,\n",
       "  'avg': 92.55555555555556,\n",
       "  'total': 4998,\n",
       "  'vocab': 1112,\n",
       "  'sparsity': 8.323341326938449},\n",
       " (1, 3): {'max': 375,\n",
       "  'argmax': 30,\n",
       "  'min': 24,\n",
       "  'argmin': 4,\n",
       "  'avg': 137.33333333333334,\n",
       "  'total': 7416,\n",
       "  'vocab': 2388,\n",
       "  'sparsity': 5.750977107761027},\n",
       " (2, 2): {'max': 125,\n",
       "  'argmax': 30,\n",
       "  'min': 8,\n",
       "  'argmin': 4,\n",
       "  'avg': 45.77777777777778,\n",
       "  'total': 2472,\n",
       "  'vocab': 897,\n",
       "  'sparsity': 5.103431190387712},\n",
       " (2, 3): {'max': 249,\n",
       "  'argmax': 30,\n",
       "  'min': 15,\n",
       "  'argmin': 4,\n",
       "  'avg': 90.55555555555556,\n",
       "  'total': 4890,\n",
       "  'vocab': 2173,\n",
       "  'sparsity': 4.1673058240016365},\n",
       " (3, 3): {'max': 124,\n",
       "  'argmax': 30,\n",
       "  'min': 7,\n",
       "  'argmin': 4,\n",
       "  'avg': 44.77777777777778,\n",
       "  'total': 2418,\n",
       "  'vocab': 1276,\n",
       "  'sparsity': 3.5092302333681644},\n",
       " 'regular_1_1': {'max': 63,\n",
       "  'argmax': 31,\n",
       "  'min': 4,\n",
       "  'argmin': 4,\n",
       "  'avg': 23.88888888888889,\n",
       "  'total': 1290,\n",
       "  'vocab': 287,\n",
       "  'sparsity': 8.32365466511808},\n",
       " 'regular_1_2': {'max': 63,\n",
       "  'argmax': 31,\n",
       "  'min': 4,\n",
       "  'argmin': 4,\n",
       "  'avg': 23.88888888888889,\n",
       "  'total': 1290,\n",
       "  'vocab': 287,\n",
       "  'sparsity': 8.32365466511808},\n",
       " 'regular_1_3': {'max': 63,\n",
       "  'argmax': 31,\n",
       "  'min': 4,\n",
       "  'argmin': 4,\n",
       "  'avg': 23.88888888888889,\n",
       "  'total': 1290,\n",
       "  'vocab': 287,\n",
       "  'sparsity': 8.32365466511808},\n",
       " 'regular_2_2': {'max': 63,\n",
       "  'argmax': 31,\n",
       "  'min': 4,\n",
       "  'argmin': 4,\n",
       "  'avg': 23.88888888888889,\n",
       "  'total': 1290,\n",
       "  'vocab': 287,\n",
       "  'sparsity': 8.32365466511808},\n",
       " 'regular_2_3': {'max': 63,\n",
       "  'argmax': 31,\n",
       "  'min': 4,\n",
       "  'argmin': 4,\n",
       "  'avg': 23.88888888888889,\n",
       "  'total': 1290,\n",
       "  'vocab': 287,\n",
       "  'sparsity': 8.32365466511808},\n",
       " 'regular_3_3': {'max': 63,\n",
       "  'argmax': 31,\n",
       "  'min': 4,\n",
       "  'argmin': 4,\n",
       "  'avg': 23.88888888888889,\n",
       "  'total': 1290,\n",
       "  'vocab': 287,\n",
       "  'sparsity': 8.32365466511808}}"
      ]
     },
     "execution_count": 7,
     "metadata": {},
     "output_type": "execute_result"
    }
   ],
   "source": [
    "summary"
   ]
  },
  {
   "cell_type": "code",
   "execution_count": 9,
   "metadata": {},
   "outputs": [
    {
     "name": "stdout",
     "output_type": "stream",
     "text": [
      "min lines: 2\n",
      "max lines: 26\n",
      "median lines: 8\n",
      "avg lines: 9\n"
     ]
    },
    {
     "data": {
      "image/png": "[encoded data removed]",
      "text/plain": [
       "<Figure size 432x288 with 1 Axes>"
      ]
     },
     "metadata": {
      "needs_background": "light"
     },
     "output_type": "display_data"
    }
   ],
   "source": [
    "linebreaks = []\n",
    "for sol in solutions:\n",
    "    linebreaks.append(sol.count('\\n')+1)\n",
    "linebreaks = np.asarray(linebreaks)\n",
    "print('min lines: %d' % linebreaks.min())\n",
    "print('max lines: %d' % linebreaks.max())\n",
    "print('median lines: %d' % np.median(linebreaks))\n",
    "print('avg lines: %d' % np.mean(linebreaks))\n",
    "\n",
    "#a = plt.boxplot(linebreaks)\n",
    "a = plt.hist(linebreaks)\n",
    "plt.show()"
   ]
  },
  {
   "cell_type": "markdown",
   "metadata": {},
   "source": [
    "## Calculate PMI/UCI Coherence"
   ]
  },
  {
   "cell_type": "code",
   "execution_count": 10,
   "metadata": {},
   "outputs": [
    {
     "name": "stdout",
     "output_type": "stream",
     "text": [
      "CPU times: user 3.6 ms, sys: 0 ns, total: 3.6 ms\n",
      "Wall time: 91.3 ms\n"
     ]
    }
   ],
   "source": [
    "%%time \n",
    "# Insert to DB\n",
    "connection = psycopg2.connect(user = settings.DATABASES[\"default\"][\"USER\"],\n",
    "                          password = settings.DATABASES[\"default\"][\"PASSWORD\"],\n",
    "                          host = settings.DATABASES[\"default\"][\"HOST\"],\n",
    "                          port = settings.DATABASES[\"default\"][\"PORT\"],\n",
    "                          database = settings.DATABASES[\"default\"][\"NAME\"])\n",
    "connection.autocommit=True\n",
    "cursor = connection.cursor()"
   ]
  },
  {
   "cell_type": "markdown",
   "metadata": {},
   "source": [
    "### Comparing paper reported result with top-15 coherence reruns\n",
    "\n",
    "| Experiment ID | Min DF | Binary | Vectorizer | Method | Best k | NGrams | Table|\n",
    "|---------------|--------|--------|------------|--------|--------|--------|------|\n",
    "| 26            | 0.05   | True   | Count      | LDA    | 12     | 1 - 3  | experiments_solution (original)\n",
    "| 79            | 0.05   | True   | Count      | NMF    | 13     | 1 - 3  | experiments_2020_01_27 (overall best)\n",
    "| 78030         | 0.05   | True   | Count      | LDA    | 12     | 1 - 3  | experiments_2020_01_27 (closest in coherence) \n",
    "| 29310         | 0.05   | True   | Count      | LDA    | 12     | 1 - 3  | experiments_2020_01_27 (best in same configuration)"
   ]
  },
  {
   "cell_type": "code",
   "execution_count": 11,
   "metadata": {},
   "outputs": [],
   "source": [
    "def get_where_items(exp_id, cols, table):\n",
    "    query = \"SELECT %s from %s where experiment_id = %s\" % (\", \".join(cols), table, exp_id) \n",
    "    cursor.execute(query)\n",
    "    where_items = cursor.fetchall()\n",
    "    return where_items\n",
    "\n",
    "def assign_to_cluster(exp_id, cols, table, solutions, exercise_sol):\n",
    "    where_items = get_where_items(exp_id, cols, table)\n",
    "    v = eval(where_items[0][0])\n",
    "    m = where_items[0][1]\n",
    "    b = where_items[0][2]\n",
    "    if len(where_items[0]) == 5:\n",
    "        ng = where_items[0][4]\n",
    "        vectorizer_params={'ngram_range': ng}\n",
    "    else:\n",
    "        vectorizer_params={'ngram_range': (1,3)}\n",
    "    model_db = pickle.loads(base64.b64decode(where_items[0][3]))\n",
    "    _, vectorizer, _ = create_bag_of_words(solutions, v, binary=b, min_df=m, vectorizer_params=vectorizer_params)\n",
    "    train_data_features = vectorizer.transform(exercise_sol)\n",
    "    document_topic = model_db.transform(train_data_features)\n",
    "    document_clusters = document_topic.argmax(axis=1)\n",
    "    return vectorizer, document_clusters, train_data_features.toarray()\n",
    "\n",
    "def get_cluster_sets(clusters1, clusters2):\n",
    "    heatmap = np.zeros((clusters1.shape[0], clusters2.shape[0]))\n",
    "    idx_sorted = np.argsort(clusters1)\n",
    "    c1_old = 0\n",
    "    c2_clusters = []\n",
    "    fig, ax = plt.subplots(figsize=(18,18))\n",
    "    for i, idx  in enumerate(idx_sorted):\n",
    "        # Get element cluster\n",
    "        c1 = clusters1[idx]\n",
    "        # Get in which cluster from clusters 2 the same element is\n",
    "        c2_ref = clusters2[idx]\n",
    "        c2_clusters.append(c2_ref)\n",
    "        for j, jdx in enumerate(idx_sorted):\n",
    "            # Now, compare to another element in cluster 2\n",
    "            c2 = clusters2[jdx]\n",
    "            if c2 == c2_ref:\n",
    "                heatmap[i,j] += 1\n",
    "        if c1 != c1_old:\n",
    "            plt.axhline(y=i-0.5, color='r', linestyle='-')\n",
    "        c1_old = c1\n",
    "    print(c2_clusters)\n",
    "    im = ax.imshow(heatmap)\n",
    "    ax.set_xticks(range(idx_sorted.shape[0]))\n",
    "    ax.set_xticklabels(idx_sorted)\n",
    "    ax.set_yticks(range(idx_sorted.shape[0]))\n",
    "    ax.set_yticklabels(idx_sorted)\n",
    "    fig.tight_layout()\n",
    "    plt.show()\n",
    "    return heatmap  "
   ]
  },
  {
   "cell_type": "code",
   "execution_count": 9,
   "metadata": {
    "scrolled": true
   },
   "outputs": [
    {
     "name": "stdout",
     "output_type": "stream",
     "text": [
      "('CountVectorizer', 0.05, True, <memory at 0x7f462bff4d08>)\n"
     ]
    },
    {
     "name": "stderr",
     "output_type": "stream",
     "text": [
      "/data2/miniconda3/envs/machineteaching/lib/python3.6/site-packages/sklearn/utils/deprecation.py:144: FutureWarning: The sklearn.decomposition.online_lda module is  deprecated in version 0.22 and will be removed in version 0.24. The corresponding classes / functions should instead be imported from sklearn.decomposition. Anything that cannot be imported from sklearn.decomposition is now part of the private API.\n",
      "  warnings.warn(message, FutureWarning)\n",
      "/data2/miniconda3/envs/machineteaching/lib/python3.6/site-packages/sklearn/base.py:318: UserWarning: Trying to unpickle estimator LatentDirichletAllocation from version 0.20.1 when using version 0.22.1. This might lead to breaking code or invalid results. Use at your own risk.\n",
      "  UserWarning)\n"
     ]
    },
    {
     "name": "stdout",
     "output_type": "stream",
     "text": [
      "('CountVectorizer', 0.05, True, <memory at 0x7f462aca7348>, [1, 3])\n",
      "[11, 9, 3, 12, 3, 3, 11, 0, 0, 12, 11, 0, 0, 0, 11, 0, 0, 0, 0, 0, 1, 5, 9, 1, 5, 5, 1, 6, 5, 5, 5, 1, 6, 6, 1, 4, 2, 2, 4, 4, 4, 4, 11, 3, 10, 10, 7, 8, 8, 8, 8, 9, 7, 7]\n"
     ]
    },
    {
     "data": {
      "image/png": "[encoded data removed]",
      "text/plain": [
       "<Figure size 1296x1296 with 1 Axes>"
      ]
     },
     "metadata": {
      "needs_background": "light"
     },
     "output_type": "display_data"
    },
    {
     "data": {
      "text/plain": [
       "282.0"
      ]
     },
     "execution_count": 9,
     "metadata": {},
     "output_type": "execute_result"
    }
   ],
   "source": [
    "exp_id = 26\n",
    "cols = [\"vectorizer\", \"min_df\", \"is_binary\", \"model\"]\n",
    "table = \"experiments_solution\"\n",
    "print(get_where_items(exp_id, cols, table)[0])\n",
    "_, clusters1, train_data_features = assign_to_cluster(exp_id, cols, table, solutions, solutions)\n",
    "\n",
    "exp_id = 79\n",
    "cols = [\"vectorizer\", \"min_df\", \"is_binary\", \"model\", \"ngrams\"]\n",
    "table = \"experiments_2020_01_27\"\n",
    "get_where_items(exp_id, cols, table)\n",
    "print(get_where_items(exp_id, cols, table)[0])\n",
    "_, clusters2, _ = assign_to_cluster(exp_id, cols, table, solutions, solutions)\n",
    "\n",
    "heatmap = get_cluster_sets(clusters1, clusters2)\n",
    "heatmap.sum()"
   ]
  },
  {
   "cell_type": "code",
   "execution_count": 10,
   "metadata": {
    "scrolled": true
   },
   "outputs": [
    {
     "name": "stdout",
     "output_type": "stream",
     "text": [
      "('CountVectorizer', 0.05, True, <memory at 0x7f462bff4d08>)\n"
     ]
    },
    {
     "name": "stderr",
     "output_type": "stream",
     "text": [
      "/data2/miniconda3/envs/machineteaching/lib/python3.6/site-packages/sklearn/base.py:318: UserWarning: Trying to unpickle estimator LatentDirichletAllocation from version 0.20.1 when using version 0.22.1. This might lead to breaking code or invalid results. Use at your own risk.\n",
      "  UserWarning)\n"
     ]
    },
    {
     "name": "stdout",
     "output_type": "stream",
     "text": [
      "('CountVectorizer', 0.05, True, <memory at 0x7f462aca7348>, [1, 3])\n",
      "[9, 4, 9, 6, 9, 9, 3, 9, 9, 10, 9, 9, 10, 9, 9, 9, 9, 9, 9, 9, 2, 4, 4, 4, 4, 4, 0, 8, 4, 4, 4, 0, 8, 4, 0, 1, 6, 6, 1, 1, 1, 1, 10, 9, 1, 9, 11, 11, 9, 11, 11, 1, 4, 11]\n"
     ]
    },
    {
     "data": {
      "image/png": "[encoded data removed]",
      "text/plain": [
       "<Figure size 1296x1296 with 1 Axes>"
      ]
     },
     "metadata": {
      "needs_background": "light"
     },
     "output_type": "display_data"
    },
    {
     "data": {
      "text/plain": [
       "552.0"
      ]
     },
     "execution_count": 10,
     "metadata": {},
     "output_type": "execute_result"
    }
   ],
   "source": [
    "exp_id = 26\n",
    "cols = [\"vectorizer\", \"min_df\", \"is_binary\", \"model\"]\n",
    "table = \"experiments_solution\"\n",
    "print(get_where_items(exp_id, cols, table)[0])\n",
    "_, clusters1, _ = assign_to_cluster(exp_id, cols, table, solutions, solutions)\n",
    "\n",
    "exp_id = 78030\n",
    "cols = [\"vectorizer\", \"min_df\", \"is_binary\", \"model\", \"ngrams\"]\n",
    "table = \"experiments_2020_01_27\"\n",
    "get_where_items(exp_id, cols, table)\n",
    "print(get_where_items(exp_id, cols, table)[0])\n",
    "_, clusters2, _ = assign_to_cluster(exp_id, cols, table, solutions, solutions)\n",
    "\n",
    "heatmap = get_cluster_sets(clusters1, clusters2)\n",
    "heatmap.sum()"
   ]
  },
  {
   "cell_type": "code",
   "execution_count": 11,
   "metadata": {
    "scrolled": true
   },
   "outputs": [
    {
     "name": "stdout",
     "output_type": "stream",
     "text": [
      "('CountVectorizer', 0.05, True, <memory at 0x7f462bff4d08>)\n",
      "('CountVectorizer', 0.05, True, <memory at 0x7f462aca7348>, [1, 3])\n",
      "[10, 5, 5, 10, 5, 5, 10, 10, 10, 10, 10, 10, 10, 10, 10, 10, 10, 10, 10, 10, 3, 3, 3, 3, 4, 3, 3, 11, 11, 4, 11, 3, 11, 11, 3, 8, 0, 0, 8, 8, 5, 8, 10, 5, 5, 5, 1, 1, 10, 9, 10, 5, 1, 1]\n"
     ]
    },
    {
     "data": {
      "image/png": "[encoded data removed]",
      "text/plain": [
       "<Figure size 1296x1296 with 1 Axes>"
      ]
     },
     "metadata": {
      "needs_background": "light"
     },
     "output_type": "display_data"
    },
    {
     "data": {
      "text/plain": [
       "572.0"
      ]
     },
     "execution_count": 11,
     "metadata": {},
     "output_type": "execute_result"
    }
   ],
   "source": [
    "exp_id = 26\n",
    "cols = [\"vectorizer\", \"min_df\", \"is_binary\", \"model\"]\n",
    "table = \"experiments_solution\"\n",
    "print(get_where_items(exp_id, cols, table)[0])\n",
    "_, clusters1, _ = assign_to_cluster(exp_id, cols, table, solutions, solutions)\n",
    "\n",
    "exp_id = 29310\n",
    "cols = [\"vectorizer\", \"min_df\", \"is_binary\", \"model\", \"ngrams\"]\n",
    "table = \"experiments_2020_01_27\"\n",
    "get_where_items(exp_id, cols, table)\n",
    "print(get_where_items(exp_id, cols, table)[0])\n",
    "_, clusters2, _ = assign_to_cluster(exp_id, cols, table, solutions, solutions)\n",
    "\n",
    "heatmap = get_cluster_sets(clusters1, clusters2)\n",
    "heatmap.sum()"
   ]
  },
  {
   "cell_type": "code",
   "execution_count": 12,
   "metadata": {
    "scrolled": true
   },
   "outputs": [
    {
     "name": "stdout",
     "output_type": "stream",
     "text": [
      "('CountVectorizer', 0.05, True, <memory at 0x7f462aca7348>, [1, 3])\n",
      "('CountVectorizer', 0.05, True, <memory at 0x7f462aca7348>, [1, 3])\n",
      "[3, 3, 3, 8, 5, 8, 5, 5, 8, 8, 3, 10, 4, 11, 1, 11, 3, 3, 4, 5, 3, 3, 11, 0, 0, 10, 11, 11, 5, 5, 5, 10, 5, 5, 10, 10, 10, 10, 10, 10, 10, 10, 10, 10, 10, 10, 10, 10, 10, 1, 9, 1, 10, 1]\n"
     ]
    },
    {
     "data": {
      "image/png": "[encoded data removed]",
      "text/plain": [
       "<Figure size 1296x1296 with 1 Axes>"
      ]
     },
     "metadata": {
      "needs_background": "light"
     },
     "output_type": "display_data"
    },
    {
     "data": {
      "text/plain": [
       "572.0"
      ]
     },
     "execution_count": 12,
     "metadata": {},
     "output_type": "execute_result"
    }
   ],
   "source": [
    "exp_id = 78030\n",
    "cols = [\"vectorizer\", \"min_df\", \"is_binary\", \"model\", \"ngrams\"]\n",
    "table = \"experiments_2020_01_27\"\n",
    "get_where_items(exp_id, cols, table)\n",
    "print(get_where_items(exp_id, cols, table)[0])\n",
    "_, clusters1, _ = assign_to_cluster(exp_id, cols, table, solutions, solutions)\n",
    "\n",
    "exp_id = 29310\n",
    "cols = [\"vectorizer\", \"min_df\", \"is_binary\", \"model\", \"ngrams\"]\n",
    "table = \"experiments_2020_01_27\"\n",
    "get_where_items(exp_id, cols, table)\n",
    "print(get_where_items(exp_id, cols, table)[0])\n",
    "_, clusters2, _ = assign_to_cluster(exp_id, cols, table, solutions, solutions)\n",
    "\n",
    "heatmap = get_cluster_sets(clusters1, clusters2)\n",
    "heatmap.sum()"
   ]
  },
  {
   "cell_type": "code",
   "execution_count": 5,
   "metadata": {},
   "outputs": [
    {
     "data": {
      "text/plain": [
       "65"
      ]
     },
     "execution_count": 5,
     "metadata": {},
     "output_type": "execute_result"
    }
   ],
   "source": [
    "problems = Problem.objects.exclude(chapter=None)\n",
    "new_solutions = list(Solution.objects.filter(problem__in=problems, ignore=False\n",
    "                                            ).order_by('id').values_list('content', flat=True))\n",
    "len(new_solutions)"
   ]
  },
  {
   "cell_type": "markdown",
   "metadata": {},
   "source": [
    "### Calculate PMI (UCI Coherence) - just docs from cluster"
   ]
  },
  {
   "cell_type": "code",
   "execution_count": 55,
   "metadata": {},
   "outputs": [
    {
     "name": "stderr",
     "output_type": "stream",
     "text": [
      "/data2/miniconda3/envs/machineteaching/lib/python3.6/site-packages/sklearn/base.py:318: UserWarning: Trying to unpickle estimator LatentDirichletAllocation from version 0.20.1 when using version 0.22.1. This might lead to breaking code or invalid results. Use at your own risk.\n",
      "  UserWarning)\n"
     ]
    },
    {
     "name": "stdout",
     "output_type": "stream",
     "text": [
      "Top-5 PMI coherence: -2.21\n",
      "Top-10 PMI coherence: -2.24\n",
      "Top-15 PMI coherence: -2.23\n",
      "Top-5 NPMI coherence: 0.85\n",
      "Top-10 NPMI coherence: 0.93\n",
      "Top-15 NPMI coherence: 0.90\n",
      "Top-5 NPMI coherence (train): 0.98\n",
      "Top-10 NPMI coherence (train): 0.97\n",
      "Top-15 NPMI coherence (train): 0.96\n",
      "Top-5 NPMI coherence: 0.71\n",
      "Top-10 NPMI coherence: 0.79\n",
      "Top-15 NPMI coherence: 0.77\n",
      "Top-5 NPMI coherence (train): 0.74\n",
      "Top-10 NPMI coherence (train): 0.75\n",
      "Top-15 NPMI coherence (train): 0.74\n"
     ]
    }
   ],
   "source": [
    "exp_id = 26\n",
    "cols = [\"vectorizer\", \"min_df\", \"is_binary\", \"model\"]\n",
    "table = \"experiments_solution\"\n",
    "where_items = get_where_items(exp_id, cols, table)\n",
    "model_db = pickle.loads(base64.b64decode(where_items[0][3]))\n",
    "\n",
    "# Get train solutions clusters\n",
    "vectorizer, clusters_train, train_data_features = assign_to_cluster(exp_id, cols, table, solutions, solutions)\n",
    "\n",
    "# Get new solutions\n",
    "problems = Problem.objects.exclude(chapter=None)\n",
    "new_solutions = list(Solution.objects.filter(problem__in=problems, ignore=False\n",
    "                                            ).order_by('id').values_list('content', flat=True))\n",
    "\n",
    "# Get test solutions clusters\n",
    "vectorizer, clusters, test_data_features = assign_to_cluster(exp_id, cols, table, solutions, new_solutions)\n",
    "# Adjust clusters\n",
    "clusters[30] = 5\n",
    "clusters[20] = 5\n",
    "clusters[29] = 5\n",
    "\n",
    "k_pmi5 = calculate_uci_coherence(test_data_features, model_db.components_.T, clusters, 12, 5)\n",
    "k_pmi10 = calculate_uci_coherence(test_data_features, model_db.components_.T, clusters, 12, 10)\n",
    "k_pmi15 = calculate_uci_coherence(test_data_features, model_db.components_.T, clusters, 12, 15)\n",
    "\n",
    "print(\"Top-5 PMI coherence: %.2f\" % k_pmi5[1])\n",
    "print(\"Top-10 PMI coherence: %.2f\" % k_pmi10[1])\n",
    "print(\"Top-15 PMI coherence: %.2f\" % k_pmi15[1])\n",
    "\n",
    "k_npmi5 = calculate_uci_npmi_coherence(test_data_features, model_db.components_.T, clusters, 12, 5)\n",
    "k_npmi10 = calculate_uci_npmi_coherence(test_data_features, model_db.components_.T, clusters, 12, 10)\n",
    "k_npmi15 = calculate_uci_npmi_coherence(test_data_features, model_db.components_.T, clusters, 12, 15)\n",
    "\n",
    "print(\"Top-5 NPMI coherence: %.2f\" % k_npmi5[1])\n",
    "print(\"Top-10 NPMI coherence: %.2f\" % k_npmi10[1])\n",
    "print(\"Top-15 NPMI coherence: %.2f\" % k_npmi15[1])\n",
    "\n",
    "k_npmi5 = calculate_uci_npmi_coherence(train_data_features, model_db.components_.T, clusters_train, 12, 5)\n",
    "k_npmi10 = calculate_uci_npmi_coherence(train_data_features, model_db.components_.T, clusters_train, 12, 10)\n",
    "k_npmi15 = calculate_uci_npmi_coherence(train_data_features, model_db.components_.T, clusters_train, 12, 15)\n",
    "\n",
    "print(\"Top-5 NPMI coherence (train): %.2f\" % k_npmi5[1])\n",
    "print(\"Top-10 NPMI coherence (train): %.2f\" % k_npmi10[1])\n",
    "print(\"Top-15 NPMI coherence (train): %.2f\" % k_npmi15[1])\n",
    "\n",
    "k_npmi5 = calculate_uci_npmi_coherence_all_docs(test_data_features, model_db.components_.T, clusters, 12, 5)\n",
    "k_npmi10 = calculate_uci_npmi_coherence_all_docs(test_data_features, model_db.components_.T, clusters, 12, 10)\n",
    "k_npmi15 = calculate_uci_npmi_coherence_all_docs(test_data_features, model_db.components_.T, clusters, 12, 15)\n",
    "\n",
    "print(\"Top-5 NPMI coherence: %.2f\" % k_npmi5[1])\n",
    "print(\"Top-10 NPMI coherence: %.2f\" % k_npmi10[1])\n",
    "print(\"Top-15 NPMI coherence: %.2f\" % k_npmi15[1])\n",
    "\n",
    "k_npmi5 = calculate_uci_npmi_coherence_all_docs(train_data_features, model_db.components_.T, clusters_train, 12, 5)\n",
    "k_npmi10 = calculate_uci_npmi_coherence_all_docs(train_data_features, model_db.components_.T, clusters_train, 12, 10)\n",
    "k_npmi15 = calculate_uci_npmi_coherence_all_docs(train_data_features, model_db.components_.T, clusters_train, 12, 15)\n",
    "\n",
    "print(\"Top-5 NPMI coherence (train): %.2f\" % k_npmi5[1])\n",
    "print(\"Top-10 NPMI coherence (train): %.2f\" % k_npmi10[1])\n",
    "print(\"Top-15 NPMI coherence (train): %.2f\" % k_npmi15[1])"
   ]
  },
  {
   "cell_type": "code",
   "execution_count": 24,
   "metadata": {},
   "outputs": [],
   "source": [
    "from itertools import permutations, combinations\n",
    "import numpy as np\n",
    "\n",
    "def calculate_uci_npmi_coherence_all_docs(X, word_topic, clusters, k, N=5):\n",
    "    \"\"\" Calculates NPMI for the top-N words using an external dataset.  \"\"\"\n",
    "    k_pmi = []\n",
    "    count_data = X.copy()\n",
    "    # Transform to binary count\n",
    "    count_data[np.where(count_data != 0)] = 1\n",
    "\n",
    "    # For each cluster, calculate PMI\n",
    "    for idx_cluster in range(0, k):\n",
    "\n",
    "        cluster_data = count_data[clusters == idx_cluster]\n",
    "\n",
    "        # If there aren't any documents assigned to the cluster, skip it\n",
    "        if cluster_data.shape[0] == 0:\n",
    "            continue\n",
    "\n",
    "        # Calculate cooccurence matrix\n",
    "        cooccurence = np.dot(count_data.T, count_data)\n",
    "\n",
    "        # For each topic, get N top words\n",
    "        idx = word_topic[:,idx_cluster].argsort()[::-1][:N]\n",
    "        total = cooccurence[idx,:][:,idx].diagonal().sum()\n",
    "        combs = combinations(idx, 2)\n",
    "        k_score = []\n",
    "        for i,j in combs:\n",
    "            if cooccurence[i,i] == 0 or cooccurence[j,j] == 0:\n",
    "#                 continue\n",
    "                print(np.where(clusters == idx_cluster))\n",
    "                print(cooccurence[idx,:][:,idx])\n",
    "                raise RuntimeError(\"Some words do not occur in topic %d. Choose a smaller number of N.\" %\n",
    "                                   idx_cluster)\n",
    "            p_i = cooccurence[i,i]/total\n",
    "            p_j = cooccurence[j,j]/total\n",
    "            p_i_j = cooccurence[i,j]/total\n",
    "            score = np.log((p_i_j+0.001)/(p_i * p_j))/-np.log(p_i_j+0.001)\n",
    "            k_score.append(score)\n",
    "        k_topic = np.mean(np.asarray(k_score))\n",
    "        k_pmi.append(k_topic)\n",
    "    return k_pmi, np.mean(k_pmi), np.std(k_pmi)"
   ]
  },
  {
   "cell_type": "code",
   "execution_count": 51,
   "metadata": {},
   "outputs": [],
   "source": [
    "from itertools import permutations, combinations\n",
    "import numpy as np\n",
    "\n",
    "def calculate_uci_npmi_coherence(X, word_topic, clusters, k, N=5):\n",
    "    \"\"\" Calculates NPMI for the top-N words using an external dataset.  \"\"\"\n",
    "    k_pmi = []\n",
    "    count_data = X.copy()\n",
    "    # Transform to binary count\n",
    "    count_data[np.where(count_data != 0)] = 1\n",
    "\n",
    "    # For each cluster, calculate PMI\n",
    "    for idx_cluster in range(0, k):\n",
    "\n",
    "        cluster_data = count_data[clusters == idx_cluster]\n",
    "\n",
    "        # If there aren't any documents assigned to the cluster, skip it\n",
    "        if cluster_data.shape[0] == 0:\n",
    "            continue\n",
    "\n",
    "        # Calculate cooccurence matrix\n",
    "        cooccurence = np.dot(cluster_data.T, cluster_data)\n",
    "\n",
    "        # For each topic, get N top words\n",
    "        idx = word_topic[:,idx_cluster].argsort()[::-1][:N]\n",
    "        total = cooccurence[idx,:][:,idx].diagonal().sum()\n",
    "        combs = combinations(idx, 2)\n",
    "        k_score = []\n",
    "        for i,j in combs:\n",
    "            if cooccurence[i,i] == 0 or cooccurence[j,j] == 0:\n",
    "                print(np.where(clusters == idx_cluster))\n",
    "                print(cooccurence[idx,:][:,idx])\n",
    "                raise RuntimeError(\"Some words do not occur in topic %d. Choose a smaller number of N.\" %\n",
    "                                   idx_cluster)\n",
    "            p_i = cooccurence[i,i]/total\n",
    "            p_j = cooccurence[j,j]/total\n",
    "            p_i_j = cooccurence[i,j]/total\n",
    "            score = np.log((p_i_j+0.001)/(p_i * p_j))/-np.log(p_i_j+0.001)\n",
    "            k_score.append(score)\n",
    "        k_topic = np.mean(np.asarray(k_score))\n",
    "        k_pmi.append(k_topic)\n",
    "    return k_pmi, np.mean(k_pmi), np.std(k_pmi)"
   ]
  },
  {
   "cell_type": "code",
   "execution_count": 28,
   "metadata": {},
   "outputs": [
    {
     "name": "stdout",
     "output_type": "stream",
     "text": [
      "Top-5 PMI coherence: -1.56\n",
      "Top-5 NPMI coherence: 0.92\n",
      "Top-5 NPMI coherence (train): 0.98\n",
      "Top-5 NPMI coherence: 0.74\n",
      "Top-5 NPMI coherence (train): 0.75\n"
     ]
    }
   ],
   "source": [
    "exp_id = 79\n",
    "cols = [\"vectorizer\", \"min_df\", \"is_binary\", \"model\", \"ngrams\"]\n",
    "table = \"experiments_2020_01_27\"\n",
    "where_items = get_where_items(exp_id, cols, table)\n",
    "model_db = pickle.loads(base64.b64decode(where_items[0][3]))\n",
    "\n",
    "# Get train solutions clusters\n",
    "vectorizer, clusters_train, train_data_features = assign_to_cluster(exp_id, cols, table, solutions, solutions)\n",
    "\n",
    "# Get new solutions\n",
    "problems = Problem.objects.exclude(chapter=None)\n",
    "new_solutions = list(Solution.objects.filter(problem__in=problems, ignore=False\n",
    "                                            ).order_by('id').values_list('content', flat=True))\n",
    "\n",
    "# Get test solutions clusters\n",
    "vectorizer, clusters, test_data_features = assign_to_cluster(exp_id, cols, table, solutions, new_solutions)\n",
    "clusters[61] = -1\n",
    "clusters[20] = 0\n",
    "clusters[41] = 0\n",
    "\n",
    "k_pmi5 = calculate_uci_coherence(test_data_features, model_db.components_.T, clusters, 12, 5)\n",
    "# k_pmi10 = calculate_uci_coherence(test_data_features, model_db.components_.T, clusters, 12, 10)\n",
    "# k_pmi15 = calculate_uci_coherence(test_data_features, model_db.components_.T, clusters, 12, 15)\n",
    "\n",
    "print(\"Top-5 PMI coherence: %.2f\" % k_pmi5[1])\n",
    "# print(\"Top-10 PMI coherence: %.2f\" % k_pmi10[1])\n",
    "# print(\"Top-15 PMI coherence: %.2f\" % k_pmi15[1])\n",
    "\n",
    "k_npmi5 = calculate_uci_npmi_coherence(test_data_features, model_db.components_.T, clusters, 12, 5)\n",
    "# k_npmi10 = calculate_uci_npmi_coherence(test_data_features, model_db.components_.T, clusters, 12, 10)\n",
    "# k_npmi15 = calculate_uci_npmi_coherence(test_data_features, model_db.components_.T, clusters, 12, 15)\n",
    "\n",
    "print(\"Top-5 NPMI coherence: %.2f\" % k_npmi5[1])\n",
    "# print(\"Top-10 NPMI coherence: %.2f\" % k_npmi10[1])\n",
    "# print(\"Top-15 NPMI coherence: %.2f\" % k_npmi15[1])\n",
    "\n",
    "k_npmi5 = calculate_uci_npmi_coherence(train_data_features, model_db.components_.T, clusters_train, 12, 5)\n",
    "# k_npmi10 = calculate_uci_npmi_coherence(train_data_features, model_db.components_.T, clusters_train, 12, 10)\n",
    "# k_npmi15 = calculate_uci_npmi_coherence(train_data_features, model_db.components_.T, clusters_train, 12, 15)\n",
    "\n",
    "print(\"Top-5 NPMI coherence (train): %.2f\" % k_npmi5[1])\n",
    "# print(\"Top-10 NPMI coherence (train): %.2f\" % k_npmi10[1])\n",
    "# print(\"Top-15 NPMI coherence (train): %.2f\" % k_npmi15[1])\n",
    "\n",
    "k_npmi5 = calculate_uci_npmi_coherence_all_docs(test_data_features, model_db.components_.T, clusters, 12, 5)\n",
    "# k_npmi10 = calculate_uci_npmi_coherence_all_docs(test_data_features, model_db.components_.T, clusters, 12, 10)\n",
    "# k_npmi15 = calculate_uci_npmi_coherence_all_docs(test_data_features, model_db.components_.T, clusters, 12, 15)\n",
    "\n",
    "print(\"Top-5 NPMI coherence: %.2f\" % k_npmi5[1])\n",
    "# print(\"Top-10 NPMI coherence: %.2f\" % k_npmi10[1])\n",
    "# print(\"Top-15 NPMI coherence: %.2f\" % k_npmi15[1])\n",
    "\n",
    "k_npmi5 = calculate_uci_npmi_coherence_all_docs(train_data_features, model_db.components_.T, clusters_train, 12, 5)\n",
    "# k_npmi10 = calculate_uci_npmi_coherence_all_docs(train_data_features, model_db.components_.T, clusters_train, 12, 10)\n",
    "# k_npmi15 = calculate_uci_npmi_coherence_all_docs(train_data_features, model_db.components_.T, clusters_train, 12, 15)\n",
    "\n",
    "print(\"Top-5 NPMI coherence (train): %.2f\" % k_npmi5[1])\n",
    "# print(\"Top-10 NPMI coherence (train): %.2f\" % k_npmi10[1])\n",
    "# print(\"Top-15 NPMI coherence (train): %.2f\" % k_npmi15[1])"
   ]
  },
  {
   "cell_type": "code",
   "execution_count": 52,
   "metadata": {},
   "outputs": [
    {
     "name": "stdout",
     "output_type": "stream",
     "text": [
      "Top-5 PMI coherence: -2.32\n",
      "Top-10 PMI coherence: -2.36\n",
      "Top-15 PMI coherence: -2.40\n",
      "Top-5 NPMI coherence: 0.98\n",
      "Top-10 NPMI coherence: 0.94\n",
      "Top-15 NPMI coherence: 0.89\n",
      "Top-5 NPMI coherence (train): 1.01\n",
      "Top-10 NPMI coherence (train): 0.99\n",
      "Top-15 NPMI coherence (train): 0.97\n",
      "Top-5 NPMI coherence: 0.85\n",
      "Top-10 NPMI coherence: 0.81\n",
      "Top-15 NPMI coherence: 0.76\n",
      "Top-5 NPMI coherence (train): 0.79\n",
      "Top-10 NPMI coherence (train): 0.75\n",
      "Top-15 NPMI coherence (train): 0.75\n"
     ]
    }
   ],
   "source": [
    "exp_id = 78030\n",
    "cols = [\"vectorizer\", \"min_df\", \"is_binary\", \"model\", \"ngrams\"]\n",
    "table = \"experiments_2020_01_27\"\n",
    "where_items = get_where_items(exp_id, cols, table)\n",
    "model_db = pickle.loads(base64.b64decode(where_items[0][3]))\n",
    "\n",
    "# Get train solutions clusters\n",
    "vectorizer, clusters_train, train_data_features = assign_to_cluster(exp_id, cols, table, solutions, solutions)\n",
    "\n",
    "# Get new solutions\n",
    "problems = Problem.objects.exclude(chapter=None)\n",
    "new_solutions = list(Solution.objects.filter(problem__in=problems, ignore=False\n",
    "                                            ).order_by('id').values_list('content', flat=True))\n",
    "\n",
    "# Get test solutions clusters\n",
    "vectorizer, clusters, test_data_features = assign_to_cluster(exp_id, cols, table, solutions, new_solutions)\n",
    "\n",
    "k_pmi5 = calculate_uci_coherence(test_data_features, model_db.components_.T, clusters, 12, 5)\n",
    "k_pmi10 = calculate_uci_coherence(test_data_features, model_db.components_.T, clusters, 12, 10)\n",
    "k_pmi15 = calculate_uci_coherence(test_data_features, model_db.components_.T, clusters, 12, 15)\n",
    "\n",
    "print(\"Top-5 PMI coherence: %.2f\" % k_pmi5[1])\n",
    "print(\"Top-10 PMI coherence: %.2f\" % k_pmi10[1])\n",
    "print(\"Top-15 PMI coherence: %.2f\" % k_pmi15[1])\n",
    "\n",
    "k_npmi5 = calculate_uci_npmi_coherence(test_data_features, model_db.components_.T, clusters, 12, 5)\n",
    "k_npmi10 = calculate_uci_npmi_coherence(test_data_features, model_db.components_.T, clusters, 12, 10)\n",
    "k_npmi15 = calculate_uci_npmi_coherence(test_data_features, model_db.components_.T, clusters, 12, 15)\n",
    "\n",
    "print(\"Top-5 NPMI coherence: %.2f\" % k_npmi5[1])\n",
    "print(\"Top-10 NPMI coherence: %.2f\" % k_npmi10[1])\n",
    "print(\"Top-15 NPMI coherence: %.2f\" % k_npmi15[1])\n",
    "\n",
    "k_npmi5 = calculate_uci_npmi_coherence(train_data_features, model_db.components_.T, clusters_train, 12, 5)\n",
    "k_npmi10 = calculate_uci_npmi_coherence(train_data_features, model_db.components_.T, clusters_train, 12, 10)\n",
    "k_npmi15 = calculate_uci_npmi_coherence(train_data_features, model_db.components_.T, clusters_train, 12, 15)\n",
    "\n",
    "print(\"Top-5 NPMI coherence (train): %.2f\" % k_npmi5[1])\n",
    "print(\"Top-10 NPMI coherence (train): %.2f\" % k_npmi10[1])\n",
    "print(\"Top-15 NPMI coherence (train): %.2f\" % k_npmi15[1])\n",
    "\n",
    "k_npmi5 = calculate_uci_npmi_coherence_all_docs(test_data_features, model_db.components_.T, clusters, 12, 5)\n",
    "k_npmi10 = calculate_uci_npmi_coherence_all_docs(test_data_features, model_db.components_.T, clusters, 12, 10)\n",
    "k_npmi15 = calculate_uci_npmi_coherence_all_docs(test_data_features, model_db.components_.T, clusters, 12, 15)\n",
    "\n",
    "print(\"Top-5 NPMI coherence: %.2f\" % k_npmi5[1])\n",
    "print(\"Top-10 NPMI coherence: %.2f\" % k_npmi10[1])\n",
    "print(\"Top-15 NPMI coherence: %.2f\" % k_npmi15[1])\n",
    "\n",
    "k_npmi5 = calculate_uci_npmi_coherence_all_docs(train_data_features, model_db.components_.T, clusters_train, 12, 5)\n",
    "k_npmi10 = calculate_uci_npmi_coherence_all_docs(train_data_features, model_db.components_.T, clusters_train, 12, 10)\n",
    "k_npmi15 = calculate_uci_npmi_coherence_all_docs(train_data_features, model_db.components_.T, clusters_train, 12, 15)\n",
    "\n",
    "print(\"Top-5 NPMI coherence (train): %.2f\" % k_npmi5[1])\n",
    "print(\"Top-10 NPMI coherence (train): %.2f\" % k_npmi10[1])\n",
    "print(\"Top-15 NPMI coherence (train): %.2f\" % k_npmi15[1])"
   ]
  },
  {
   "cell_type": "code",
   "execution_count": 30,
   "metadata": {},
   "outputs": [
    {
     "name": "stdout",
     "output_type": "stream",
     "text": [
      "Top-5 PMI coherence: -2.10\n",
      "Top-10 PMI coherence: -2.12\n",
      "Top-15 PMI coherence: -2.13\n",
      "Top-5 NPMI coherence: 0.87\n",
      "Top-10 NPMI coherence: 0.93\n",
      "Top-15 NPMI coherence: 0.90\n",
      "Top-5 NPMI coherence (train): 0.99\n",
      "Top-10 NPMI coherence (train): 0.99\n",
      "Top-15 NPMI coherence (train): 0.97\n",
      "Top-5 NPMI coherence: 0.65\n",
      "Top-10 NPMI coherence: 0.77\n",
      "Top-15 NPMI coherence: 0.76\n",
      "Top-5 NPMI coherence (train): 0.66\n",
      "Top-10 NPMI coherence (train): 0.76\n",
      "Top-15 NPMI coherence (train): 0.76\n"
     ]
    }
   ],
   "source": [
    "exp_id = 29310\n",
    "cols = [\"vectorizer\", \"min_df\", \"is_binary\", \"model\", \"ngrams\"]\n",
    "table = \"experiments_2020_01_27\"\n",
    "where_items = get_where_items(exp_id, cols, table)\n",
    "model_db = pickle.loads(base64.b64decode(where_items[0][3]))\n",
    "\n",
    "# Get train solutions clusters\n",
    "vectorizer, clusters_train, train_data_features = assign_to_cluster(exp_id, cols, table, solutions, solutions)\n",
    "\n",
    "# Get new solutions\n",
    "problems = Problem.objects.exclude(chapter=None)\n",
    "new_solutions = list(Solution.objects.filter(problem__in=problems, ignore=False\n",
    "                                            ).order_by('id').values_list('content', flat=True))\n",
    "\n",
    "# Get test solutions clusters\n",
    "vectorizer, clusters, test_data_features = assign_to_cluster(exp_id, cols, table, solutions, new_solutions)\n",
    "clusters[20] = 10\n",
    "\n",
    "k_pmi5 = calculate_uci_coherence(test_data_features, model_db.components_.T, clusters, 12, 5)\n",
    "k_pmi10 = calculate_uci_coherence(test_data_features, model_db.components_.T, clusters, 12, 10)\n",
    "k_pmi15 = calculate_uci_coherence(test_data_features, model_db.components_.T, clusters, 12, 15)\n",
    "\n",
    "print(\"Top-5 PMI coherence: %.2f\" % k_pmi5[1])\n",
    "print(\"Top-10 PMI coherence: %.2f\" % k_pmi10[1])\n",
    "print(\"Top-15 PMI coherence: %.2f\" % k_pmi15[1])\n",
    "\n",
    "k_npmi5 = calculate_uci_npmi_coherence(test_data_features, model_db.components_.T, clusters, 12, 5)\n",
    "k_npmi10 = calculate_uci_npmi_coherence(test_data_features, model_db.components_.T, clusters, 12, 10)\n",
    "k_npmi15 = calculate_uci_npmi_coherence(test_data_features, model_db.components_.T, clusters, 12, 15)\n",
    "\n",
    "print(\"Top-5 NPMI coherence: %.2f\" % k_npmi5[1])\n",
    "print(\"Top-10 NPMI coherence: %.2f\" % k_npmi10[1])\n",
    "print(\"Top-15 NPMI coherence: %.2f\" % k_npmi15[1])\n",
    "\n",
    "k_npmi5 = calculate_uci_npmi_coherence(train_data_features, model_db.components_.T, clusters_train, 12, 5)\n",
    "k_npmi10 = calculate_uci_npmi_coherence(train_data_features, model_db.components_.T, clusters_train, 12, 10)\n",
    "k_npmi15 = calculate_uci_npmi_coherence(train_data_features, model_db.components_.T, clusters_train, 12, 15)\n",
    "\n",
    "print(\"Top-5 NPMI coherence (train): %.2f\" % k_npmi5[1])\n",
    "print(\"Top-10 NPMI coherence (train): %.2f\" % k_npmi10[1])\n",
    "print(\"Top-15 NPMI coherence (train): %.2f\" % k_npmi15[1])\n",
    "\n",
    "k_npmi5 = calculate_uci_npmi_coherence_all_docs(test_data_features, model_db.components_.T, clusters, 12, 5)\n",
    "k_npmi10 = calculate_uci_npmi_coherence_all_docs(test_data_features, model_db.components_.T, clusters, 12, 10)\n",
    "k_npmi15 = calculate_uci_npmi_coherence_all_docs(test_data_features, model_db.components_.T, clusters, 12, 15)\n",
    "\n",
    "print(\"Top-5 NPMI coherence: %.2f\" % k_npmi5[1])\n",
    "print(\"Top-10 NPMI coherence: %.2f\" % k_npmi10[1])\n",
    "print(\"Top-15 NPMI coherence: %.2f\" % k_npmi15[1])\n",
    "\n",
    "k_npmi5 = calculate_uci_npmi_coherence_all_docs(train_data_features, model_db.components_.T, clusters_train, 12, 5)\n",
    "k_npmi10 = calculate_uci_npmi_coherence_all_docs(train_data_features, model_db.components_.T, clusters_train, 12, 10)\n",
    "k_npmi15 = calculate_uci_npmi_coherence_all_docs(train_data_features, model_db.components_.T, clusters_train, 12, 15)\n",
    "\n",
    "print(\"Top-5 NPMI coherence (train): %.2f\" % k_npmi5[1])\n",
    "print(\"Top-10 NPMI coherence (train): %.2f\" % k_npmi10[1])\n",
    "print(\"Top-15 NPMI coherence (train): %.2f\" % k_npmi15[1])"
   ]
  },
  {
   "cell_type": "code",
   "execution_count": 57,
   "metadata": {},
   "outputs": [
    {
     "name": "stderr",
     "output_type": "stream",
     "text": [
      "/data2/miniconda3/envs/machineteaching/lib/python3.6/site-packages/sklearn/base.py:318: UserWarning: Trying to unpickle estimator LatentDirichletAllocation from version 0.20.1 when using version 0.22.1. This might lead to breaking code or invalid results. Use at your own risk.\n",
      "  UserWarning)\n",
      "/data2/miniconda3/envs/machineteaching/lib/python3.6/site-packages/sklearn/base.py:318: UserWarning: Trying to unpickle estimator LatentDirichletAllocation from version 0.20.1 when using version 0.22.1. This might lead to breaking code or invalid results. Use at your own risk.\n",
      "  UserWarning)\n"
     ]
    },
    {
     "name": "stdout",
     "output_type": "stream",
     "text": [
      "Top-5 PMI coherence: -2.38\n",
      "Top-10 PMI coherence: -2.59\n",
      "Top-5 NPMI coherence: 0.78\n",
      "Top-10 NPMI coherence: 0.69\n",
      "Top-5 NPMI coherence (train): 0.87\n",
      "Top-10 NPMI coherence (train): 0.83\n",
      "Top-15 NPMI coherence (train): 0.80\n",
      "Top-5 NPMI coherence: 0.72\n",
      "Top-10 NPMI coherence: 0.53\n",
      "Top-5 NPMI coherence (train): 0.76\n",
      "Top-10 NPMI coherence (train): 0.66\n",
      "Top-15 NPMI coherence (train): 0.68\n"
     ]
    }
   ],
   "source": [
    "exp_id = 26\n",
    "cols = [\"vectorizer\", \"min_df\", \"is_binary\", \"model\"]\n",
    "table = \"experiments_solution\"\n",
    "where_items = get_where_items(exp_id, cols, table)\n",
    "# model_db = pickle.loads(base64.b64decode(where_items[0][3]))\n",
    "\n",
    "# Get train solutions clusters\n",
    "vectorizer, _, train_data_features = assign_to_cluster(exp_id, cols, table, solutions, solutions)\n",
    "model = KMeans(n_clusters=5, random_state=0)\n",
    "clusters_train = model.fit_predict(train_data_features)\n",
    "clf = LogisticRegression(random_state=0, multi_class='ovr').fit(train_data_features, clusters_train)\n",
    "word_topic = clf.coef_.T\n",
    "\n",
    "# Get new solutions\n",
    "problems = Problem.objects.exclude(chapter=None)\n",
    "new_solutions = list(Solution.objects.filter(problem__in=problems, ignore=False\n",
    "                                            ).order_by('id').values_list('content', flat=True))\n",
    "\n",
    "# Get test solutions clusters\n",
    "vectorizer, _, test_data_features = assign_to_cluster(exp_id, cols, table, solutions, new_solutions)\n",
    "clusters = model.predict(test_data_features)\n",
    "# # Adjust clusters\n",
    "# clusters[42] = -1\n",
    "# clusters[30] = 5\n",
    "# clusters[20] = 5\n",
    "# clusters[29] = 5\n",
    "\n",
    "k_pmi5 = calculate_uci_coherence(test_data_features, word_topic, clusters, 5, 5)\n",
    "k_pmi10 = calculate_uci_coherence(test_data_features, word_topic, clusters, 5, 10)\n",
    "# k_pmi15 = calculate_uci_coherence(test_data_features, word_topic, clusters, 5, 15)\n",
    "\n",
    "print(\"Top-5 PMI coherence: %.2f\" % k_pmi5[1])\n",
    "print(\"Top-10 PMI coherence: %.2f\" % k_pmi10[1])\n",
    "# print(\"Top-15 PMI coherence: %.2f\" % k_pmi15[1])\n",
    "\n",
    "k_npmi5 = calculate_uci_npmi_coherence(test_data_features, word_topic, clusters, 5, 5)\n",
    "k_npmi10 = calculate_uci_npmi_coherence(test_data_features, word_topic, clusters, 5, 10)\n",
    "# k_npmi15 = calculate_uci_npmi_coherence(test_data_features, word_topic, clusters, 5, 15)\n",
    "\n",
    "print(\"Top-5 NPMI coherence: %.2f\" % k_npmi5[1])\n",
    "print(\"Top-10 NPMI coherence: %.2f\" % k_npmi10[1])\n",
    "# print(\"Top-15 NPMI coherence: %.2f\" % k_npmi15[1])\n",
    "\n",
    "k_npmi5 = calculate_uci_npmi_coherence(train_data_features, word_topic, clusters_train, 5, 5)\n",
    "k_npmi10 = calculate_uci_npmi_coherence(train_data_features, word_topic, clusters_train, 5, 10)\n",
    "k_npmi15 = calculate_uci_npmi_coherence(train_data_features, word_topic, clusters_train, 5, 15)\n",
    "\n",
    "print(\"Top-5 NPMI coherence (train): %.2f\" % k_npmi5[1])\n",
    "print(\"Top-10 NPMI coherence (train): %.2f\" % k_npmi10[1])\n",
    "print(\"Top-15 NPMI coherence (train): %.2f\" % k_npmi15[1])\n",
    "\n",
    "k_npmi5 = calculate_uci_npmi_coherence_all_docs(test_data_features, word_topic, clusters, 5, 5)\n",
    "k_npmi10 = calculate_uci_npmi_coherence_all_docs(test_data_features, word_topic, clusters, 5, 10)\n",
    "# k_npmi15 = calculate_uci_npmi_coherence_all_docs(test_data_features, word_topic, clusters, 5, 15)\n",
    "\n",
    "print(\"Top-5 NPMI coherence: %.2f\" % k_npmi5[1])\n",
    "print(\"Top-10 NPMI coherence: %.2f\" % k_npmi10[1])\n",
    "# print(\"Top-15 NPMI coherence: %.2f\" % k_npmi15[1])\n",
    "\n",
    "k_npmi5 = calculate_uci_npmi_coherence_all_docs(train_data_features, word_topic, clusters_train, 5, 5)\n",
    "k_npmi10 = calculate_uci_npmi_coherence_all_docs(train_data_features, word_topic, clusters_train, 5, 10)\n",
    "k_npmi15 = calculate_uci_npmi_coherence_all_docs(train_data_features, word_topic, clusters_train, 5, 15)\n",
    "\n",
    "print(\"Top-5 NPMI coherence (train): %.2f\" % k_npmi5[1])\n",
    "print(\"Top-10 NPMI coherence (train): %.2f\" % k_npmi10[1])\n",
    "print(\"Top-15 NPMI coherence (train): %.2f\" % k_npmi15[1])"
   ]
  },
  {
   "cell_type": "raw",
   "metadata": {},
   "source": [
    "Top-5 PMI coherence: -2.21\n",
    "Top-10 PMI coherence: -2.24\n",
    "Top-15 PMI coherence: -2.23\n",
    "Top-5 NPMI coherence: 0.85\n",
    "Top-10 NPMI coherence: 0.93\n",
    "Top-15 NPMI coherence: 0.90\n",
    "Top-5 NPMI coherence (train): 0.98\n",
    "Top-10 NPMI coherence (train): 0.97\n",
    "Top-15 NPMI coherence (train): 0.96\n",
    "Top-5 NPMI coherence: 0.71\n",
    "Top-10 NPMI coherence: 0.79\n",
    "Top-15 NPMI coherence: 0.77\n",
    "Top-5 NPMI coherence (train): 0.74\n",
    "Top-10 NPMI coherence (train): 0.75\n",
    "Top-15 NPMI coherence (train): 0.74"
   ]
  }
 ],
 "metadata": {
  "kernelspec": {
   "display_name": "Django Shell-Plus",
   "language": "python",
   "name": "django_extensions"
  },
  "language_info": {
   "codemirror_mode": {
    "name": "ipython",
    "version": 3
   },
   "file_extension": ".py",
   "mimetype": "text/x-python",
   "name": "python",
   "nbconvert_exporter": "python",
   "pygments_lexer": "ipython3",
   "version": "3.6.10"
  }
 },
 "nbformat": 4,
 "nbformat_minor": 2
}
