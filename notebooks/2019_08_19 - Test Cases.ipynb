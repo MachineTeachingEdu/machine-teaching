{
 "cells": [
  {
   "cell_type": "code",
   "execution_count": 9,
   "metadata": {
    "collapsed": true
   },
   "outputs": [],
   "source": [
    "# %load questions/get_problem.py\n",
    "import logging\n",
    "from questions.models import Problem, Solution, TestCase\n",
    "import json\n",
    "\n",
    "LOGGER = logging.getLogger(__name__)\n",
    "\n",
    "def get_problem(problem_id):\n",
    "    #try:\n",
    "    # Get problem, test cases and solution\n",
    "    problem = Problem.objects.get(pk=problem_id)\n",
    "    LOGGER.debug(\"Got problem %d\", problem.id)\n",
    "    test_case = TestCase.objects.filter(problem=problem)\n",
    "    test_case = [json.loads(test.content) for test in test_case]\n",
    "    LOGGER.debug(\"Got test cases %s for problem %d\", test_case, problem.id)\n",
    "    solution = Solution.objects.filter(problem=problem, ignore=False).order_by('?')[0]\n",
    "\n",
    "    # Transform solution into python function\n",
    "    function_obj = compile(solution.content, 'solution', 'exec')\n",
    "    exec(function_obj)\n",
    "\n",
    "    # For each test case, get expected output\n",
    "    expected_results = []\n",
    "    for args in test_case:\n",
    "        expected_results.append(str(eval(solution.header)(*args)))\n",
    "    #print(expected_results)\n",
    "    #except Problem.DoesNotExist:\n",
    "        #raise Problem.DoesNotExist\n",
    "\n",
    "    context = {\n",
    "        \"problem\": problem,\n",
    "        \"test_case\": test_case,\n",
    "        \"expected_results\": expected_results,\n",
    "        \"tip\": solution.tip,\n",
    "        \"header\": solution.header\n",
    "    }\n",
    "    return context\n"
   ]
  },
  {
   "cell_type": "code",
   "execution_count": 10,
   "metadata": {},
   "outputs": [],
   "source": [
    "context = get_problem(730)\n",
    "# test_case, solution = get_problem(728)"
   ]
  },
  {
   "cell_type": "code",
   "execution_count": 20,
   "metadata": {},
   "outputs": [
    {
     "data": {
      "text/plain": [
       "'def calculate_determinante(a,b,c):\\r\\n    det = b**2 - 4*a*c\\r\\n    return det\\r\\n\\r\\ndef calcular_raiz(a,b,c):\\r\\n    det = calculate_determinante(a,b,c)\\r\\n    if det > 0:\\r\\n        raiz1 = (-b + det**(1.0/2))/(2*a)\\r\\n        raiz2 = (-b - det**(1.0/2))/(2*a)\\r\\n        return 2\\r\\n    elif det == 0:\\r\\n        raiz1 = (-b + det**(1/2))/(2*a)\\r\\n        return 1\\r\\n    else:\\r\\n        return 0'"
      ]
     },
     "execution_count": 20,
     "metadata": {},
     "output_type": "execute_result"
    }
   ],
   "source": [
    "solution.content"
   ]
  },
  {
   "cell_type": "code",
   "execution_count": 21,
   "metadata": {},
   "outputs": [],
   "source": [
    "function_obj = compile(solution.content, 'solution', 'exec')\n",
    "exec(function_obj)"
   ]
  },
  {
   "cell_type": "code",
   "execution_count": 23,
   "metadata": {},
   "outputs": [
    {
     "name": "stdout",
     "output_type": "stream",
     "text": [
      "[8, 8, 5]\n",
      "[4, 8, 4]\n",
      "[2, 3, 1]\n"
     ]
    }
   ],
   "source": [
    "for args in test_case:\n",
    "    print(args)\n",
    "    eval(solution.header)(*args)"
   ]
  },
  {
   "cell_type": "code",
   "execution_count": 11,
   "metadata": {},
   "outputs": [
    {
     "data": {
      "text/plain": [
       "724"
      ]
     },
     "execution_count": 11,
     "metadata": {},
     "output_type": "execute_result"
    }
   ],
   "source": [
    "user_passed = UserLog.objects.filter(user__username='lmoraes@cos.ufrj.br', outcome__in=[\"P\", \"S\"]).values_list('problem', flat=True)\n",
    "problem_id = Problem.objects.filter(chapter__isnull=False).exclude(id__in=user_passed).order_by('id')[0].pk\n",
    "problem_id\n"
   ]
  }
 ],
 "metadata": {
  "kernelspec": {
   "display_name": "Django Shell-Plus",
   "language": "python",
   "name": "django_extensions"
  },
  "language_info": {
   "codemirror_mode": {
    "name": "ipython",
    "version": 3
   },
   "file_extension": ".py",
   "mimetype": "text/x-python",
   "name": "python",
   "nbconvert_exporter": "python",
   "pygments_lexer": "ipython3",
   "version": "3.7.3"
  }
 },
 "nbformat": 4,
 "nbformat_minor": 2
}
