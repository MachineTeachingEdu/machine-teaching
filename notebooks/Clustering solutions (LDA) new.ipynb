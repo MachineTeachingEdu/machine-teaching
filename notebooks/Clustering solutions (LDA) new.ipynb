{
 "cells": [
  {
   "cell_type": "code",
   "execution_count": 1,
   "metadata": {
    "collapsed": true
   },
   "outputs": [],
   "source": [
    "from db import PythonProblemsKohonen\n",
    "import io\n",
    "import tokenize\n",
    "from sklearn.feature_extraction.text import CountVectorizer\n",
    "import numpy as np\n",
    "from sklearn.decomposition import NMF\n",
    "from sklearn.preprocessing import normalize\n",
    "import random\n",
    "import time\n",
    "from itertools import product\n",
    "from collections import Counter\n",
    "from sklearn.decomposition import LatentDirichletAllocation\n",
    "from sklearn.feature_extraction.text import CountVectorizer"
   ]
  },
  {
   "cell_type": "code",
   "execution_count": 22,
   "metadata": {},
   "outputs": [],
   "source": [
    "# Input\n",
    "# from db import PythonProblems\n",
    "import io\n",
    "\n",
    "#DB\n",
    "from questions.models import Solution, Cluster\n",
    "\n",
    "# Helpers\n",
    "import numpy as np\n",
    "\n",
    "# Preprocessing\n",
    "import tokenize\n",
    "from sklearn.feature_extraction.text import CountVectorizer, TfidfVectorizer\n",
    "from sklearn.preprocessing import normalize"
   ]
  },
  {
   "cell_type": "code",
   "execution_count": 23,
   "metadata": {},
   "outputs": [
    {
     "data": {
      "text/html": [
       "\n",
       "    <div class=\"bk-root\">\n",
       "        <a href=\"https://bokeh.pydata.org\" target=\"_blank\" class=\"bk-logo bk-logo-small bk-logo-notebook\"></a>\n",
       "        <span id=\"1002\">Loading BokehJS ...</span>\n",
       "    </div>"
      ]
     },
     "metadata": {},
     "output_type": "display_data"
    },
    {
     "data": {
      "application/javascript": [
       "\n",
       "(function(root) {\n",
       "  function now() {\n",
       "    return new Date();\n",
       "  }\n",
       "\n",
       "  var force = true;\n",
       "\n",
       "  if (typeof (root._bokeh_onload_callbacks) === \"undefined\" || force === true) {\n",
       "    root._bokeh_onload_callbacks = [];\n",
       "    root._bokeh_is_loading = undefined;\n",
       "  }\n",
       "\n",
       "  var JS_MIME_TYPE = 'application/javascript';\n",
       "  var HTML_MIME_TYPE = 'text/html';\n",
       "  var EXEC_MIME_TYPE = 'application/vnd.bokehjs_exec.v0+json';\n",
       "  var CLASS_NAME = 'output_bokeh rendered_html';\n",
       "\n",
       "  /**\n",
       "   * Render data to the DOM node\n",
       "   */\n",
       "  function render(props, node) {\n",
       "    var script = document.createElement(\"script\");\n",
       "    node.appendChild(script);\n",
       "  }\n",
       "\n",
       "  /**\n",
       "   * Handle when an output is cleared or removed\n",
       "   */\n",
       "  function handleClearOutput(event, handle) {\n",
       "    var cell = handle.cell;\n",
       "\n",
       "    var id = cell.output_area._bokeh_element_id;\n",
       "    var server_id = cell.output_area._bokeh_server_id;\n",
       "    // Clean up Bokeh references\n",
       "    if (id != null && id in Bokeh.index) {\n",
       "      Bokeh.index[id].model.document.clear();\n",
       "      delete Bokeh.index[id];\n",
       "    }\n",
       "\n",
       "    if (server_id !== undefined) {\n",
       "      // Clean up Bokeh references\n",
       "      var cmd = \"from bokeh.io.state import curstate; print(curstate().uuid_to_server['\" + server_id + \"'].get_sessions()[0].document.roots[0]._id)\";\n",
       "      cell.notebook.kernel.execute(cmd, {\n",
       "        iopub: {\n",
       "          output: function(msg) {\n",
       "            var id = msg.content.text.trim();\n",
       "            if (id in Bokeh.index) {\n",
       "              Bokeh.index[id].model.document.clear();\n",
       "              delete Bokeh.index[id];\n",
       "            }\n",
       "          }\n",
       "        }\n",
       "      });\n",
       "      // Destroy server and session\n",
       "      var cmd = \"import bokeh.io.notebook as ion; ion.destroy_server('\" + server_id + \"')\";\n",
       "      cell.notebook.kernel.execute(cmd);\n",
       "    }\n",
       "  }\n",
       "\n",
       "  /**\n",
       "   * Handle when a new output is added\n",
       "   */\n",
       "  function handleAddOutput(event, handle) {\n",
       "    var output_area = handle.output_area;\n",
       "    var output = handle.output;\n",
       "\n",
       "    // limit handleAddOutput to display_data with EXEC_MIME_TYPE content only\n",
       "    if ((output.output_type != \"display_data\") || (!output.data.hasOwnProperty(EXEC_MIME_TYPE))) {\n",
       "      return\n",
       "    }\n",
       "\n",
       "    var toinsert = output_area.element.find(\".\" + CLASS_NAME.split(' ')[0]);\n",
       "\n",
       "    if (output.metadata[EXEC_MIME_TYPE][\"id\"] !== undefined) {\n",
       "      toinsert[toinsert.length - 1].firstChild.textContent = output.data[JS_MIME_TYPE];\n",
       "      // store reference to embed id on output_area\n",
       "      output_area._bokeh_element_id = output.metadata[EXEC_MIME_TYPE][\"id\"];\n",
       "    }\n",
       "    if (output.metadata[EXEC_MIME_TYPE][\"server_id\"] !== undefined) {\n",
       "      var bk_div = document.createElement(\"div\");\n",
       "      bk_div.innerHTML = output.data[HTML_MIME_TYPE];\n",
       "      var script_attrs = bk_div.children[0].attributes;\n",
       "      for (var i = 0; i < script_attrs.length; i++) {\n",
       "        toinsert[toinsert.length - 1].firstChild.setAttribute(script_attrs[i].name, script_attrs[i].value);\n",
       "      }\n",
       "      // store reference to server id on output_area\n",
       "      output_area._bokeh_server_id = output.metadata[EXEC_MIME_TYPE][\"server_id\"];\n",
       "    }\n",
       "  }\n",
       "\n",
       "  function register_renderer(events, OutputArea) {\n",
       "\n",
       "    function append_mime(data, metadata, element) {\n",
       "      // create a DOM node to render to\n",
       "      var toinsert = this.create_output_subarea(\n",
       "        metadata,\n",
       "        CLASS_NAME,\n",
       "        EXEC_MIME_TYPE\n",
       "      );\n",
       "      this.keyboard_manager.register_events(toinsert);\n",
       "      // Render to node\n",
       "      var props = {data: data, metadata: metadata[EXEC_MIME_TYPE]};\n",
       "      render(props, toinsert[toinsert.length - 1]);\n",
       "      element.append(toinsert);\n",
       "      return toinsert\n",
       "    }\n",
       "\n",
       "    /* Handle when an output is cleared or removed */\n",
       "    events.on('clear_output.CodeCell', handleClearOutput);\n",
       "    events.on('delete.Cell', handleClearOutput);\n",
       "\n",
       "    /* Handle when a new output is added */\n",
       "    events.on('output_added.OutputArea', handleAddOutput);\n",
       "\n",
       "    /**\n",
       "     * Register the mime type and append_mime function with output_area\n",
       "     */\n",
       "    OutputArea.prototype.register_mime_type(EXEC_MIME_TYPE, append_mime, {\n",
       "      /* Is output safe? */\n",
       "      safe: true,\n",
       "      /* Index of renderer in `output_area.display_order` */\n",
       "      index: 0\n",
       "    });\n",
       "  }\n",
       "\n",
       "  // register the mime type if in Jupyter Notebook environment and previously unregistered\n",
       "  if (root.Jupyter !== undefined) {\n",
       "    var events = require('base/js/events');\n",
       "    var OutputArea = require('notebook/js/outputarea').OutputArea;\n",
       "\n",
       "    if (OutputArea.prototype.mime_types().indexOf(EXEC_MIME_TYPE) == -1) {\n",
       "      register_renderer(events, OutputArea);\n",
       "    }\n",
       "  }\n",
       "\n",
       "  \n",
       "  if (typeof (root._bokeh_timeout) === \"undefined\" || force === true) {\n",
       "    root._bokeh_timeout = Date.now() + 5000;\n",
       "    root._bokeh_failed_load = false;\n",
       "  }\n",
       "\n",
       "  var NB_LOAD_WARNING = {'data': {'text/html':\n",
       "     \"<div style='background-color: #fdd'>\\n\"+\n",
       "     \"<p>\\n\"+\n",
       "     \"BokehJS does not appear to have successfully loaded. If loading BokehJS from CDN, this \\n\"+\n",
       "     \"may be due to a slow or bad network connection. Possible fixes:\\n\"+\n",
       "     \"</p>\\n\"+\n",
       "     \"<ul>\\n\"+\n",
       "     \"<li>re-rerun `output_notebook()` to attempt to load from CDN again, or</li>\\n\"+\n",
       "     \"<li>use INLINE resources instead, as so:</li>\\n\"+\n",
       "     \"</ul>\\n\"+\n",
       "     \"<code>\\n\"+\n",
       "     \"from bokeh.resources import INLINE\\n\"+\n",
       "     \"output_notebook(resources=INLINE)\\n\"+\n",
       "     \"</code>\\n\"+\n",
       "     \"</div>\"}};\n",
       "\n",
       "  function display_loaded() {\n",
       "    var el = document.getElementById(\"1002\");\n",
       "    if (el != null) {\n",
       "      el.textContent = \"BokehJS is loading...\";\n",
       "    }\n",
       "    if (root.Bokeh !== undefined) {\n",
       "      if (el != null) {\n",
       "        el.textContent = \"BokehJS \" + root.Bokeh.version + \" successfully loaded.\";\n",
       "      }\n",
       "    } else if (Date.now() < root._bokeh_timeout) {\n",
       "      setTimeout(display_loaded, 100)\n",
       "    }\n",
       "  }\n",
       "\n",
       "\n",
       "  function run_callbacks() {\n",
       "    try {\n",
       "      root._bokeh_onload_callbacks.forEach(function(callback) { callback() });\n",
       "    }\n",
       "    finally {\n",
       "      delete root._bokeh_onload_callbacks\n",
       "    }\n",
       "    console.info(\"Bokeh: all callbacks have finished\");\n",
       "  }\n",
       "\n",
       "  function load_libs(js_urls, callback) {\n",
       "    root._bokeh_onload_callbacks.push(callback);\n",
       "    if (root._bokeh_is_loading > 0) {\n",
       "      console.log(\"Bokeh: BokehJS is being loaded, scheduling callback at\", now());\n",
       "      return null;\n",
       "    }\n",
       "    if (js_urls == null || js_urls.length === 0) {\n",
       "      run_callbacks();\n",
       "      return null;\n",
       "    }\n",
       "    console.log(\"Bokeh: BokehJS not loaded, scheduling load and callback at\", now());\n",
       "    root._bokeh_is_loading = js_urls.length;\n",
       "    for (var i = 0; i < js_urls.length; i++) {\n",
       "      var url = js_urls[i];\n",
       "      var s = document.createElement('script');\n",
       "      s.src = url;\n",
       "      s.async = false;\n",
       "      s.onreadystatechange = s.onload = function() {\n",
       "        root._bokeh_is_loading--;\n",
       "        if (root._bokeh_is_loading === 0) {\n",
       "          console.log(\"Bokeh: all BokehJS libraries loaded\");\n",
       "          run_callbacks()\n",
       "        }\n",
       "      };\n",
       "      s.onerror = function() {\n",
       "        console.warn(\"failed to load library \" + url);\n",
       "      };\n",
       "      console.log(\"Bokeh: injecting script tag for BokehJS library: \", url);\n",
       "      document.getElementsByTagName(\"head\")[0].appendChild(s);\n",
       "    }\n",
       "  };var element = document.getElementById(\"1002\");\n",
       "  if (element == null) {\n",
       "    console.log(\"Bokeh: ERROR: autoload.js configured with elementid '1002' but no matching script tag was found. \")\n",
       "    return false;\n",
       "  }\n",
       "\n",
       "  var js_urls = [\"https://cdn.pydata.org/bokeh/release/bokeh-1.0.1.min.js\", \"https://cdn.pydata.org/bokeh/release/bokeh-widgets-1.0.1.min.js\", \"https://cdn.pydata.org/bokeh/release/bokeh-tables-1.0.1.min.js\", \"https://cdn.pydata.org/bokeh/release/bokeh-gl-1.0.1.min.js\"];\n",
       "\n",
       "  var inline_js = [\n",
       "    function(Bokeh) {\n",
       "      Bokeh.set_log_level(\"info\");\n",
       "    },\n",
       "    \n",
       "    function(Bokeh) {\n",
       "      \n",
       "    },\n",
       "    function(Bokeh) {\n",
       "      console.log(\"Bokeh: injecting CSS: https://cdn.pydata.org/bokeh/release/bokeh-1.0.1.min.css\");\n",
       "      Bokeh.embed.inject_css(\"https://cdn.pydata.org/bokeh/release/bokeh-1.0.1.min.css\");\n",
       "      console.log(\"Bokeh: injecting CSS: https://cdn.pydata.org/bokeh/release/bokeh-widgets-1.0.1.min.css\");\n",
       "      Bokeh.embed.inject_css(\"https://cdn.pydata.org/bokeh/release/bokeh-widgets-1.0.1.min.css\");\n",
       "      console.log(\"Bokeh: injecting CSS: https://cdn.pydata.org/bokeh/release/bokeh-tables-1.0.1.min.css\");\n",
       "      Bokeh.embed.inject_css(\"https://cdn.pydata.org/bokeh/release/bokeh-tables-1.0.1.min.css\");\n",
       "    }\n",
       "  ];\n",
       "\n",
       "  function run_inline_js() {\n",
       "    \n",
       "    if ((root.Bokeh !== undefined) || (force === true)) {\n",
       "      for (var i = 0; i < inline_js.length; i++) {\n",
       "        inline_js[i].call(root, root.Bokeh);\n",
       "      }if (force === true) {\n",
       "        display_loaded();\n",
       "      }} else if (Date.now() < root._bokeh_timeout) {\n",
       "      setTimeout(run_inline_js, 100);\n",
       "    } else if (!root._bokeh_failed_load) {\n",
       "      console.log(\"Bokeh: BokehJS failed to load within specified timeout.\");\n",
       "      root._bokeh_failed_load = true;\n",
       "    } else if (force !== true) {\n",
       "      var cell = $(document.getElementById(\"1002\")).parents('.cell').data().cell;\n",
       "      cell.output_area.append_execute_result(NB_LOAD_WARNING)\n",
       "    }\n",
       "\n",
       "  }\n",
       "\n",
       "  if (root._bokeh_is_loading === 0) {\n",
       "    console.log(\"Bokeh: BokehJS loaded, going straight to plotting\");\n",
       "    run_inline_js();\n",
       "  } else {\n",
       "    load_libs(js_urls, function() {\n",
       "      console.log(\"Bokeh: BokehJS plotting callback run at\", now());\n",
       "      run_inline_js();\n",
       "    });\n",
       "  }\n",
       "}(window));"
      ],
      "application/vnd.bokehjs_load.v0+json": "\n(function(root) {\n  function now() {\n    return new Date();\n  }\n\n  var force = true;\n\n  if (typeof (root._bokeh_onload_callbacks) === \"undefined\" || force === true) {\n    root._bokeh_onload_callbacks = [];\n    root._bokeh_is_loading = undefined;\n  }\n\n  \n\n  \n  if (typeof (root._bokeh_timeout) === \"undefined\" || force === true) {\n    root._bokeh_timeout = Date.now() + 5000;\n    root._bokeh_failed_load = false;\n  }\n\n  var NB_LOAD_WARNING = {'data': {'text/html':\n     \"<div style='background-color: #fdd'>\\n\"+\n     \"<p>\\n\"+\n     \"BokehJS does not appear to have successfully loaded. If loading BokehJS from CDN, this \\n\"+\n     \"may be due to a slow or bad network connection. Possible fixes:\\n\"+\n     \"</p>\\n\"+\n     \"<ul>\\n\"+\n     \"<li>re-rerun `output_notebook()` to attempt to load from CDN again, or</li>\\n\"+\n     \"<li>use INLINE resources instead, as so:</li>\\n\"+\n     \"</ul>\\n\"+\n     \"<code>\\n\"+\n     \"from bokeh.resources import INLINE\\n\"+\n     \"output_notebook(resources=INLINE)\\n\"+\n     \"</code>\\n\"+\n     \"</div>\"}};\n\n  function display_loaded() {\n    var el = document.getElementById(\"1002\");\n    if (el != null) {\n      el.textContent = \"BokehJS is loading...\";\n    }\n    if (root.Bokeh !== undefined) {\n      if (el != null) {\n        el.textContent = \"BokehJS \" + root.Bokeh.version + \" successfully loaded.\";\n      }\n    } else if (Date.now() < root._bokeh_timeout) {\n      setTimeout(display_loaded, 100)\n    }\n  }\n\n\n  function run_callbacks() {\n    try {\n      root._bokeh_onload_callbacks.forEach(function(callback) { callback() });\n    }\n    finally {\n      delete root._bokeh_onload_callbacks\n    }\n    console.info(\"Bokeh: all callbacks have finished\");\n  }\n\n  function load_libs(js_urls, callback) {\n    root._bokeh_onload_callbacks.push(callback);\n    if (root._bokeh_is_loading > 0) {\n      console.log(\"Bokeh: BokehJS is being loaded, scheduling callback at\", now());\n      return null;\n    }\n    if (js_urls == null || js_urls.length === 0) {\n      run_callbacks();\n      return null;\n    }\n    console.log(\"Bokeh: BokehJS not loaded, scheduling load and callback at\", now());\n    root._bokeh_is_loading = js_urls.length;\n    for (var i = 0; i < js_urls.length; i++) {\n      var url = js_urls[i];\n      var s = document.createElement('script');\n      s.src = url;\n      s.async = false;\n      s.onreadystatechange = s.onload = function() {\n        root._bokeh_is_loading--;\n        if (root._bokeh_is_loading === 0) {\n          console.log(\"Bokeh: all BokehJS libraries loaded\");\n          run_callbacks()\n        }\n      };\n      s.onerror = function() {\n        console.warn(\"failed to load library \" + url);\n      };\n      console.log(\"Bokeh: injecting script tag for BokehJS library: \", url);\n      document.getElementsByTagName(\"head\")[0].appendChild(s);\n    }\n  };var element = document.getElementById(\"1002\");\n  if (element == null) {\n    console.log(\"Bokeh: ERROR: autoload.js configured with elementid '1002' but no matching script tag was found. \")\n    return false;\n  }\n\n  var js_urls = [\"https://cdn.pydata.org/bokeh/release/bokeh-1.0.1.min.js\", \"https://cdn.pydata.org/bokeh/release/bokeh-widgets-1.0.1.min.js\", \"https://cdn.pydata.org/bokeh/release/bokeh-tables-1.0.1.min.js\", \"https://cdn.pydata.org/bokeh/release/bokeh-gl-1.0.1.min.js\"];\n\n  var inline_js = [\n    function(Bokeh) {\n      Bokeh.set_log_level(\"info\");\n    },\n    \n    function(Bokeh) {\n      \n    },\n    function(Bokeh) {\n      console.log(\"Bokeh: injecting CSS: https://cdn.pydata.org/bokeh/release/bokeh-1.0.1.min.css\");\n      Bokeh.embed.inject_css(\"https://cdn.pydata.org/bokeh/release/bokeh-1.0.1.min.css\");\n      console.log(\"Bokeh: injecting CSS: https://cdn.pydata.org/bokeh/release/bokeh-widgets-1.0.1.min.css\");\n      Bokeh.embed.inject_css(\"https://cdn.pydata.org/bokeh/release/bokeh-widgets-1.0.1.min.css\");\n      console.log(\"Bokeh: injecting CSS: https://cdn.pydata.org/bokeh/release/bokeh-tables-1.0.1.min.css\");\n      Bokeh.embed.inject_css(\"https://cdn.pydata.org/bokeh/release/bokeh-tables-1.0.1.min.css\");\n    }\n  ];\n\n  function run_inline_js() {\n    \n    if ((root.Bokeh !== undefined) || (force === true)) {\n      for (var i = 0; i < inline_js.length; i++) {\n        inline_js[i].call(root, root.Bokeh);\n      }if (force === true) {\n        display_loaded();\n      }} else if (Date.now() < root._bokeh_timeout) {\n      setTimeout(run_inline_js, 100);\n    } else if (!root._bokeh_failed_load) {\n      console.log(\"Bokeh: BokehJS failed to load within specified timeout.\");\n      root._bokeh_failed_load = true;\n    } else if (force !== true) {\n      var cell = $(document.getElementById(\"1002\")).parents('.cell').data().cell;\n      cell.output_area.append_execute_result(NB_LOAD_WARNING)\n    }\n\n  }\n\n  if (root._bokeh_is_loading === 0) {\n    console.log(\"Bokeh: BokehJS loaded, going straight to plotting\");\n    run_inline_js();\n  } else {\n    load_libs(js_urls, function() {\n      console.log(\"Bokeh: BokehJS plotting callback run at\", now());\n      run_inline_js();\n    });\n  }\n}(window));"
     },
     "metadata": {},
     "output_type": "display_data"
    }
   ],
   "source": [
    "from bokeh.models import ColumnDataSource, HoverTool, TapTool, PanTool, WheelZoomTool, Range1d, LinearAxis\n",
    "from bokeh.io import push_notebook, show, output_notebook\n",
    "from bokeh.layouts import row\n",
    "from bokeh.plotting import figure\n",
    "output_notebook()"
   ]
  },
  {
   "cell_type": "markdown",
   "metadata": {},
   "source": [
    "### Connecting to database"
   ]
  },
  {
   "cell_type": "code",
   "execution_count": 24,
   "metadata": {},
   "outputs": [
    {
     "name": "stdout",
     "output_type": "stream",
     "text": [
      "591\n"
     ]
    },
    {
     "data": {
      "text/plain": [
       "132"
      ]
     },
     "execution_count": 24,
     "metadata": {},
     "output_type": "execute_result"
    }
   ],
   "source": [
    "## Cleaning database\n",
    "last_id = 132\n",
    "problems = Problem.objects.filter(id__gt=132)\n",
    "solutions_obj = Solution.objects.filter(problem__in=problems).update(ignore=True)\n",
    "print(problems.count())\n",
    "problems = Problem.objects.filter(id__lte=132)\n",
    "problems.count()"
   ]
  },
  {
   "cell_type": "code",
   "execution_count": 25,
   "metadata": {},
   "outputs": [],
   "source": [
    "solutions_obj = Solution.objects.filter(problem__in=problems, ignore=False).order_by('id')"
   ]
  },
  {
   "cell_type": "code",
   "execution_count": 26,
   "metadata": {},
   "outputs": [
    {
     "data": {
      "text/plain": [
       "54"
      ]
     },
     "execution_count": 26,
     "metadata": {},
     "output_type": "execute_result"
    }
   ],
   "source": [
    "solutions_obj.count()"
   ]
  },
  {
   "cell_type": "code",
   "execution_count": 27,
   "metadata": {},
   "outputs": [
    {
     "name": "stdout",
     "output_type": "stream",
     "text": [
      "Got 54 documents\n"
     ]
    }
   ],
   "source": [
    "docs_id = []\n",
    "questions = []\n",
    "solutions = []\n",
    "\n",
    "for sol in solutions_obj:\n",
    "    docs_id.append(sol.id)\n",
    "    questions.append(sol.problem.content)\n",
    "    solutions.append(sol.content)\n",
    "\n",
    "print(\"Got %d documents\" %(solutions_obj.count()))"
   ]
  },
  {
   "cell_type": "markdown",
   "metadata": {},
   "source": [
    "***Limitações do parser:***\n",
    "\n",
    "***1. Variável e nome reservado são do mesmo tipo. Não consigo separar sem fazer uma pré-lista. Mas pode ser o critério para ajustar o CountVectorizer***\n",
    "\n",
    "***2. Não é possível processar solução sintaticamente errada. Talvez uma tokenização básica possa ajudar quando esse for o caso e já é uma indicação de que está errado.***"
   ]
  },
  {
   "cell_type": "markdown",
   "metadata": {},
   "source": [
    "### Preprocessing solutions into bag of words ###"
   ]
  },
  {
   "cell_type": "code",
   "execution_count": 28,
   "metadata": {},
   "outputs": [],
   "source": [
    "vectorizer_params = {\n",
    "    \"ngram_range\": (1,3)\n",
    "}\n",
    "\n",
    "removed_itens = ['NEWLINE', 'ENDMARKER', \"NL\", 'COMMENT', 'ERRORTOKEN']\n",
    "allowed_itens = ['NAME', 'OP', 'INDENT', 'DEDENT', 'STRING', 'NUMBER']\n",
    "\n",
    "def python_analyzer(doc):\n",
    "    words = []\n",
    "    not_found = []\n",
    "    vectorizer = CountVectorizer(**vectorizer_params)\n",
    "    file = io.StringIO(doc)\n",
    "    for token in tokenize.generate_tokens(file.readline):\n",
    "        token_type = tokenize.tok_name[token[0]]\n",
    "        \n",
    "        # Redundant conditional to make sure we're getting all the token types\n",
    "        if token_type not in removed_itens:\n",
    "            if token_type in allowed_itens:\n",
    "                # If it's a variable or reserved name, keep it\n",
    "                if token_type == \"NAME\":\n",
    "                    words.append(token[1])\n",
    "                elif token_type == \"INDENT\":\n",
    "                    # Adding indent for all indentations\n",
    "                    words.append(\"is_indent\")\n",
    "                elif token_type == \"DEDENT\":\n",
    "                    # Adding dedent for all indentations\n",
    "                    words.append(\"is_dedent\")\n",
    "                elif token_type == \"STRING\":\n",
    "                    # Adding is_string for every string\n",
    "                    words.append(\"is_string\")\n",
    "                elif token_type == \"NUMBER\":\n",
    "                    # Adding is_number for every number:\n",
    "                    words.append(\"is_number\")\n",
    "                elif token_type == \"OP\":\n",
    "                    # If it's operator, then we'll divide in several types\n",
    "                    lookup = {\n",
    "                        \"+\": \"is_op_arit\",\n",
    "                        \"+=\": \"is_op_arit\",\n",
    "                        \"-\": \"is_op_arit\",\n",
    "                        \"*\": \"is_op_arit\",\n",
    "                        \"**\": \"is_op_arit\",\n",
    "                        \"/\": \"is_op_arit\",\n",
    "                        \"//\": \"is_op_arit\",\n",
    "                        \"%\": \"is_op_arit\",\n",
    "                        \">\": \"is_op_logic\",\n",
    "                        \"<\": \"is_op_logic\",\n",
    "                        \">=\": \"is_op_logic\",\n",
    "                        \"<=\": \"is_op_logic\",\n",
    "                        \"==\": \"is_op_logic\",\n",
    "                        \"-=\": \"is_op_logic\",\n",
    "                        \"!=\": \"is_op_logic\",\n",
    "                        \"[\": \"is_list\",\n",
    "#                         \"]\": \"is_list\",\n",
    "                        \"{\": \"is_dict\",\n",
    "#                         \"}\": \"is_dict\",\n",
    "                        \".\": \"is_class\",\n",
    "                        \"=\": \"is_attribution\",\n",
    "                        \":\": \"is_block\"\n",
    "                    }\n",
    "                    try:\n",
    "                        words.append(lookup[token[1]])\n",
    "                    except KeyError:\n",
    "                        not_found.append(token[1])\n",
    "#     print(\"not found: %s\" % set(not_found))\n",
    "    return vectorizer._word_ngrams(words)"
   ]
  },
  {
   "cell_type": "code",
   "execution_count": 29,
   "metadata": {},
   "outputs": [
    {
     "data": {
      "text/plain": [
       "(54, 44)"
      ]
     },
     "execution_count": 29,
     "metadata": {},
     "output_type": "execute_result"
    }
   ],
   "source": [
    "# Initialize the \"CountVectorizer\" object, which is scikit-learn's\n",
    "# bag of words tool.  \n",
    "vectorizer = TfidfVectorizer(analyzer = python_analyzer,\n",
    "#                              tokenizer = None, \n",
    "#                              preprocessor = None,\n",
    "#                              stop_words = None,\n",
    "#                              stop_words = ['def'],   \\\n",
    "                             #max_features = 26d,\n",
    "                             binary=False,\n",
    "                             min_df=0.2) \n",
    "analyzer = vectorizer.build_analyzer()\n",
    "    \n",
    "# fit_transform() does two functions: First, it fits the model\n",
    "# and learns the vocabulary; second, it transforms our training data\n",
    "# into feature vectors. The input to fit_transform should be a list of \n",
    "# strings.\n",
    "\n",
    "train_data_features = vectorizer.fit_transform(solutions)\n",
    "\n",
    "# Numpy arrays are easy to work with, so convert the result to an \n",
    "# array\n",
    "# Document-term matrix\n",
    "train_data_features = train_data_features.toarray()\n",
    "train_data_features.shape"
   ]
  },
  {
   "cell_type": "markdown",
   "metadata": {},
   "source": [
    "### NCut weights"
   ]
  },
  {
   "cell_type": "code",
   "execution_count": 30,
   "metadata": {},
   "outputs": [],
   "source": [
    "doc_mat_norm = normalize(train_data_features)"
   ]
  },
  {
   "cell_type": "code",
   "execution_count": 31,
   "metadata": {},
   "outputs": [],
   "source": [
    "S = np.dot(doc_mat_norm.T, doc_mat_norm) + 0.001"
   ]
  },
  {
   "cell_type": "code",
   "execution_count": 32,
   "metadata": {},
   "outputs": [
    {
     "data": {
      "text/plain": [
       "(44, 44)"
      ]
     },
     "execution_count": 32,
     "metadata": {},
     "output_type": "execute_result"
    }
   ],
   "source": [
    "S.shape"
   ]
  },
  {
   "cell_type": "code",
   "execution_count": 33,
   "metadata": {},
   "outputs": [],
   "source": [
    "D = np.power(np.sum(S, axis=1), -0.5) * np.eye(S.shape[0])"
   ]
  },
  {
   "cell_type": "code",
   "execution_count": 34,
   "metadata": {},
   "outputs": [
    {
     "data": {
      "text/plain": [
       "(44, 44)"
      ]
     },
     "execution_count": 34,
     "metadata": {},
     "output_type": "execute_result"
    }
   ],
   "source": [
    "D.shape"
   ]
  },
  {
   "cell_type": "code",
   "execution_count": 35,
   "metadata": {},
   "outputs": [],
   "source": [
    "Y = np.dot(D, train_data_features.T)"
   ]
  },
  {
   "cell_type": "code",
   "execution_count": 36,
   "metadata": {},
   "outputs": [
    {
     "data": {
      "text/plain": [
       "(44, 54)"
      ]
     },
     "execution_count": 36,
     "metadata": {},
     "output_type": "execute_result"
    }
   ],
   "source": [
    "Y.shape"
   ]
  },
  {
   "cell_type": "markdown",
   "metadata": {},
   "source": [
    "# Cálculo da LDA"
   ]
  },
  {
   "cell_type": "code",
   "execution_count": 37,
   "metadata": {},
   "outputs": [
    {
     "data": {
      "text/html": [
       "\n",
       "\n",
       "\n",
       "\n",
       "\n",
       "\n",
       "  <div class=\"bk-root\" id=\"c481ce40-8e8e-4568-991b-bf975186c38b\"></div>\n"
      ]
     },
     "metadata": {},
     "output_type": "display_data"
    },
    {
     "data": {
      "application/javascript": [
       "(function(root) {\n",
       "  function embed_document(root) {\n",
       "    \n",
       "  var docs_json = {\"3be43aa8-71a2-49c8-a4f1-d6fd20469cda\":{\"roots\":{\"references\":[{\"attributes\":{\"below\":[{\"id\":\"1016\",\"type\":\"LinearAxis\"}],\"left\":[{\"id\":\"1021\",\"type\":\"LinearAxis\"}],\"min_border\":0,\"plot_height\":500,\"plot_width\":900,\"renderers\":[{\"id\":\"1016\",\"type\":\"LinearAxis\"},{\"id\":\"1020\",\"type\":\"Grid\"},{\"id\":\"1021\",\"type\":\"LinearAxis\"},{\"id\":\"1025\",\"type\":\"Grid\"},{\"id\":\"1034\",\"type\":\"BoxAnnotation\"},{\"id\":\"1045\",\"type\":\"GlyphRenderer\"},{\"id\":\"1050\",\"type\":\"GlyphRenderer\"}],\"title\":{\"id\":\"1005\",\"type\":\"Title\"},\"toolbar\":{\"id\":\"1032\",\"type\":\"Toolbar\"},\"x_range\":{\"id\":\"1008\",\"type\":\"DataRange1d\"},\"x_scale\":{\"id\":\"1012\",\"type\":\"LinearScale\"},\"y_range\":{\"id\":\"1010\",\"type\":\"DataRange1d\"},\"y_scale\":{\"id\":\"1014\",\"type\":\"LinearScale\"}},\"id\":\"1006\",\"subtype\":\"Figure\",\"type\":\"Plot\"},{\"attributes\":{\"dimension\":1,\"plot\":{\"id\":\"1006\",\"subtype\":\"Figure\",\"type\":\"Plot\"},\"ticker\":{\"id\":\"1022\",\"type\":\"BasicTicker\"}},\"id\":\"1025\",\"type\":\"Grid\"},{\"attributes\":{},\"id\":\"1053\",\"type\":\"BasicTickFormatter\"},{\"attributes\":{\"line_color\":\"#2222aa\",\"line_width\":2,\"x\":{\"field\":\"x_values\"},\"y\":{\"field\":\"y_values\"}},\"id\":\"1043\",\"type\":\"Line\"},{\"attributes\":{},\"id\":\"1055\",\"type\":\"BasicTickFormatter\"},{\"attributes\":{\"source\":{\"id\":\"1004\",\"type\":\"ColumnDataSource\"}},\"id\":\"1046\",\"type\":\"CDSView\"},{\"attributes\":{\"line_alpha\":0.1,\"line_color\":\"#1f77b4\",\"line_width\":2,\"x\":{\"field\":\"x_values\"},\"y\":{\"field\":\"y_values\"}},\"id\":\"1044\",\"type\":\"Line\"},{\"attributes\":{\"active_drag\":\"auto\",\"active_inspect\":\"auto\",\"active_multi\":null,\"active_scroll\":\"auto\",\"active_tap\":\"auto\",\"tools\":[{\"id\":\"1026\",\"type\":\"PanTool\"},{\"id\":\"1027\",\"type\":\"WheelZoomTool\"},{\"id\":\"1028\",\"type\":\"BoxZoomTool\"},{\"id\":\"1029\",\"type\":\"SaveTool\"},{\"id\":\"1030\",\"type\":\"ResetTool\"},{\"id\":\"1031\",\"type\":\"HelpTool\"},{\"id\":\"1003\",\"type\":\"HoverTool\"}]},\"id\":\"1032\",\"type\":\"Toolbar\"},{\"attributes\":{},\"id\":\"1057\",\"type\":\"UnionRenderers\"},{\"attributes\":{},\"id\":\"1026\",\"type\":\"PanTool\"},{\"attributes\":{},\"id\":\"1058\",\"type\":\"Selection\"},{\"attributes\":{},\"id\":\"1027\",\"type\":\"WheelZoomTool\"},{\"attributes\":{\"callback\":null,\"renderers\":\"auto\",\"tooltips\":[[\"(x,y)\",\"($x{0}, $y)\"],[\"reconst\",\"@recons\"]]},\"id\":\"1003\",\"type\":\"HoverTool\"},{\"attributes\":{\"overlay\":{\"id\":\"1034\",\"type\":\"BoxAnnotation\"}},\"id\":\"1028\",\"type\":\"BoxZoomTool\"},{\"attributes\":{\"callback\":null,\"data\":{\"recons\":[],\"x_values\":[],\"y_values\":[]},\"selected\":{\"id\":\"1058\",\"type\":\"Selection\"},\"selection_policy\":{\"id\":\"1057\",\"type\":\"UnionRenderers\"}},\"id\":\"1004\",\"type\":\"ColumnDataSource\"},{\"attributes\":{},\"id\":\"1029\",\"type\":\"SaveTool\"},{\"attributes\":{},\"id\":\"1030\",\"type\":\"ResetTool\"},{\"attributes\":{\"plot\":null,\"text\":\"Ncut\"},\"id\":\"1005\",\"type\":\"Title\"},{\"attributes\":{\"data_source\":{\"id\":\"1004\",\"type\":\"ColumnDataSource\"},\"glyph\":{\"id\":\"1043\",\"type\":\"Line\"},\"hover_glyph\":null,\"muted_glyph\":null,\"nonselection_glyph\":{\"id\":\"1044\",\"type\":\"Line\"},\"selection_glyph\":null,\"view\":{\"id\":\"1046\",\"type\":\"CDSView\"}},\"id\":\"1045\",\"type\":\"GlyphRenderer\"},{\"attributes\":{},\"id\":\"1031\",\"type\":\"HelpTool\"},{\"attributes\":{\"callback\":null},\"id\":\"1008\",\"type\":\"DataRange1d\"},{\"attributes\":{\"callback\":null},\"id\":\"1010\",\"type\":\"DataRange1d\"},{\"attributes\":{\"bottom_units\":\"screen\",\"fill_alpha\":{\"value\":0.5},\"fill_color\":{\"value\":\"lightgrey\"},\"left_units\":\"screen\",\"level\":\"overlay\",\"line_alpha\":{\"value\":1.0},\"line_color\":{\"value\":\"black\"},\"line_dash\":[4,4],\"line_width\":{\"value\":2},\"plot\":null,\"render_mode\":\"css\",\"right_units\":\"screen\",\"top_units\":\"screen\"},\"id\":\"1034\",\"type\":\"BoxAnnotation\"},{\"attributes\":{},\"id\":\"1012\",\"type\":\"LinearScale\"},{\"attributes\":{},\"id\":\"1014\",\"type\":\"LinearScale\"},{\"attributes\":{\"formatter\":{\"id\":\"1053\",\"type\":\"BasicTickFormatter\"},\"plot\":{\"id\":\"1006\",\"subtype\":\"Figure\",\"type\":\"Plot\"},\"ticker\":{\"id\":\"1017\",\"type\":\"BasicTicker\"}},\"id\":\"1016\",\"type\":\"LinearAxis\"},{\"attributes\":{},\"id\":\"1017\",\"type\":\"BasicTicker\"},{\"attributes\":{\"fill_color\":{\"value\":\"white\"},\"line_color\":{\"value\":\"#2222aa\"},\"size\":{\"units\":\"screen\",\"value\":8},\"x\":{\"field\":\"x_values\"},\"y\":{\"field\":\"y_values\"}},\"id\":\"1048\",\"type\":\"Circle\"},{\"attributes\":{\"fill_alpha\":{\"value\":0.1},\"fill_color\":{\"value\":\"#1f77b4\"},\"line_alpha\":{\"value\":0.1},\"line_color\":{\"value\":\"#1f77b4\"},\"size\":{\"units\":\"screen\",\"value\":8},\"x\":{\"field\":\"x_values\"},\"y\":{\"field\":\"y_values\"}},\"id\":\"1049\",\"type\":\"Circle\"},{\"attributes\":{\"plot\":{\"id\":\"1006\",\"subtype\":\"Figure\",\"type\":\"Plot\"},\"ticker\":{\"id\":\"1017\",\"type\":\"BasicTicker\"}},\"id\":\"1020\",\"type\":\"Grid\"},{\"attributes\":{\"data_source\":{\"id\":\"1004\",\"type\":\"ColumnDataSource\"},\"glyph\":{\"id\":\"1048\",\"type\":\"Circle\"},\"hover_glyph\":null,\"muted_glyph\":null,\"nonselection_glyph\":{\"id\":\"1049\",\"type\":\"Circle\"},\"selection_glyph\":null,\"view\":{\"id\":\"1051\",\"type\":\"CDSView\"}},\"id\":\"1050\",\"type\":\"GlyphRenderer\"},{\"attributes\":{\"formatter\":{\"id\":\"1055\",\"type\":\"BasicTickFormatter\"},\"plot\":{\"id\":\"1006\",\"subtype\":\"Figure\",\"type\":\"Plot\"},\"ticker\":{\"id\":\"1022\",\"type\":\"BasicTicker\"}},\"id\":\"1021\",\"type\":\"LinearAxis\"},{\"attributes\":{\"source\":{\"id\":\"1004\",\"type\":\"ColumnDataSource\"}},\"id\":\"1051\",\"type\":\"CDSView\"},{\"attributes\":{},\"id\":\"1022\",\"type\":\"BasicTicker\"}],\"root_ids\":[\"1006\"]},\"title\":\"Bokeh Application\",\"version\":\"1.0.1\"}};\n",
       "  var render_items = [{\"docid\":\"3be43aa8-71a2-49c8-a4f1-d6fd20469cda\",\"notebook_comms_target\":\"1060\",\"roots\":{\"1006\":\"c481ce40-8e8e-4568-991b-bf975186c38b\"}}];\n",
       "  root.Bokeh.embed.embed_items_notebook(docs_json, render_items);\n",
       "\n",
       "  }\n",
       "  if (root.Bokeh !== undefined) {\n",
       "    embed_document(root);\n",
       "  } else {\n",
       "    var attempts = 0;\n",
       "    var timer = setInterval(function(root) {\n",
       "      if (root.Bokeh !== undefined) {\n",
       "        embed_document(root);\n",
       "        clearInterval(timer);\n",
       "      }\n",
       "      attempts++;\n",
       "      if (attempts > 100) {\n",
       "        console.log(\"Bokeh: ERROR: Unable to run BokehJS code because BokehJS library is missing\");\n",
       "        clearInterval(timer);\n",
       "      }\n",
       "    }, 10, root)\n",
       "  }\n",
       "})(window);"
      ],
      "application/vnd.bokehjs_exec.v0+json": ""
     },
     "metadata": {
      "application/vnd.bokehjs_exec.v0+json": {
       "id": "1006"
      }
     },
     "output_type": "display_data"
    }
   ],
   "source": [
    "hover = HoverTool(tooltips=[\n",
    "#    (\"index\", \"$index\"),\n",
    "    (\"(x,y)\", \"($x{0}, $y)\"),\n",
    "    (\"reconst\", \"@recons\"),\n",
    "])\n",
    "opts = dict(plot_width=250, plot_height=250, min_border=0)\n",
    "models = {}\n",
    "\n",
    "data = {'x_values': [],\n",
    "        'y_values': [],\n",
    "        'recons': []}\n",
    "\n",
    "source = ColumnDataSource(data=data)\n",
    "\n",
    "opts = dict(plot_width=900, plot_height=500, min_border=0, title=\"Ncut\")\n",
    "plot = figure(**opts)\n",
    "plot.add_tools(hover)\n",
    "l = plot.line(x='x_values', y='y_values', color=\"#2222aa\", line_width=2, source=source)\n",
    "c = plot.circle(x='x_values', y='y_values', color=\"#2222aa\", fill_color=\"white\", size=8, source=source)\n",
    "h = show(plot, notebook_handle=True)"
   ]
  },
  {
   "cell_type": "code",
   "execution_count": 38,
   "metadata": {},
   "outputs": [],
   "source": [
    "def edges_sum(cond_1, cond_2, S):\n",
    "    nodes_1 = np.where(cond_1)[0]\n",
    "    nodes_2 = np.where(cond_2)[0]\n",
    "    \n",
    "    # Every (x, y) index that I should get cooccurence value from S matrix\n",
    "    indices = product(nodes_1, nodes_2)\n",
    "    return np.sum(S[idx] for idx in indices)\n",
    "\n",
    "\n",
    "def n_cut(mat_U, mat_S):\n",
    "    \n",
    "    # Each term belongs to which topic?\n",
    "    # I can't make this assumption!!! \n",
    "    term_clusters = mat_U.argmax(axis=1)\n",
    "    \n",
    "    # Number of clusters\n",
    "    n_k = mat_U.shape[1]\n",
    "    \n",
    "    result = 0.0\n",
    "    for idx_k in range(n_k):\n",
    "        \n",
    "        # Check in which cluster the terms come from\n",
    "        cond_g_k = term_clusters == idx_k\n",
    "        \n",
    "        # Sum edges between terms inside cluster and terms outside\n",
    "        num = edges_sum(cond_g_k, ~cond_g_k, mat_S)\n",
    "        \n",
    "        # Sum all edges\n",
    "        den = edges_sum(cond_g_k,  cond_g_k, mat_S) + num\n",
    "        \n",
    "        try:\n",
    "            result += num/den\n",
    "        except ZeroDivisionError:\n",
    "            return 0\n",
    "        \n",
    "    return 0.5 * result"
   ]
  },
  {
   "cell_type": "code",
   "execution_count": 39,
   "metadata": {},
   "outputs": [],
   "source": [
    "num_topics = list(range(2, 44))\n",
    "#random.shuffle(num_topics)\n",
    "#random.shuffle(num_topics)\n",
    "#random.shuffle(num_topics)"
   ]
  },
  {
   "cell_type": "code",
   "execution_count": 7,
   "metadata": {},
   "outputs": [
    {
     "name": "stderr",
     "output_type": "stream",
     "text": [
      "/home/lmoraes/miniconda3/envs/machine_teaching/lib/python3.6/site-packages/sklearn/decomposition/online_lda.py:294: DeprecationWarning: n_topics has been renamed to n_components in version 0.19 and will be removed in 0.21\n",
      "  DeprecationWarning)\n"
     ]
    },
    {
     "name": "stdout",
     "output_type": "stream",
     "text": [
      "[0.04166667 0.04166667 0.04166667 0.04166667 0.04166667 0.5416638\n",
      " 0.04166667 0.04166667 0.04166953 0.04166667 0.04166667 0.04166667] 1.0\n"
     ]
    }
   ],
   "source": [
    "NUM_TOPICS = 12\n",
    "# Build a Latent Dirichlet Allocation Model\n",
    "lda_model = LatentDirichletAllocation(n_topics=NUM_TOPICS, max_iter=10, learning_method='online')\n",
    "lda_Z = lda_model.fit_transform(train_data_features)\n",
    " \n",
    "text = \"The economy is working better than ever\"\n",
    "x = lda_model.transform(vectorizer.transform([text]))[0]\n",
    "print(x, x.sum())"
   ]
  },
  {
   "cell_type": "code",
   "execution_count": 14,
   "metadata": {},
   "outputs": [
    {
     "data": {
      "text/plain": [
       "array([0.00520857, 0.00520835, 0.00520845, 0.00520838, 0.00520851,\n",
       "       0.00520863, 0.0052085 , 0.00520837, 0.09953174, 0.42653743,\n",
       "       0.08676354, 0.34549954])"
      ]
     },
     "execution_count": 14,
     "metadata": {},
     "output_type": "execute_result"
    }
   ],
   "source": [
    "x = lda_model.transform(vectorizer.transform([text[1]]))[0]\n",
    "x"
   ]
  },
  {
   "cell_type": "code",
   "execution_count": 20,
   "metadata": {},
   "outputs": [
    {
     "data": {
      "text/plain": [
       "array([1.79004090e+00, 8.75450341e-02, 8.69800650e-02, 8.75652640e-02,\n",
       "       8.77472373e-02, 1.01813544e-01, 6.97304621e+00, 7.02313620e+00,\n",
       "       8.69707805e-02, 2.63903993e-01, 8.75874401e-02, 8.70791181e-02,\n",
       "       8.73624675e-02, 8.76308797e-02, 8.73521756e-02, 8.66365971e-02,\n",
       "       8.73801062e-02, 8.73658760e-02, 8.67598581e-02, 8.76904411e-02,\n",
       "       1.07837391e+00, 8.66239785e-02, 5.24234950e+00, 3.47038399e-01,\n",
       "       3.52423121e+00, 9.27043824e+00, 8.66303431e-02, 8.84547556e-02,\n",
       "       8.67390892e-02, 8.72710013e-02, 3.49419361e-01, 8.75916082e-02,\n",
       "       1.24187052e-01, 8.70372423e-02, 9.93375067e-02, 8.69654287e-02,\n",
       "       9.82833082e-02, 8.63839884e-02, 8.88689111e-02, 8.71076337e-02,\n",
       "       8.79424076e-02, 9.28551489e-02, 8.69951821e-02, 8.68863124e-02,\n",
       "       8.66433957e-02, 8.68141477e-02, 1.32530088e-01, 8.71209664e-02,\n",
       "       8.76626909e-02, 8.69358304e-02, 8.68388378e-02, 8.73678791e-02,\n",
       "       2.56349002e+01, 8.66760088e-02, 8.65516666e-02, 8.67257250e-02,\n",
       "       9.54141623e-02, 8.85146857e-02, 8.71558716e-02, 8.74177185e-02,\n",
       "       8.68580624e-02, 8.70063669e-02, 8.69062878e-02, 8.71369074e-02,\n",
       "       8.76968940e-02, 8.70093959e-02, 8.72784591e-02, 8.77537108e-02,\n",
       "       8.64416465e-02, 8.68606982e-02, 8.69331331e-02, 8.67522607e-02,\n",
       "       8.70620882e-02, 8.87299298e-02, 8.66876845e-02, 8.74266276e-02,\n",
       "       8.71964816e-02, 8.71068766e-02, 9.46904372e-01, 8.69562468e-02,\n",
       "       8.66328707e-02, 3.52515858e+00, 8.69673707e-02, 8.80707622e-02,\n",
       "       8.72081730e-02, 8.66985997e-02, 8.70690443e-02, 9.68454697e-02,\n",
       "       8.68063197e-02, 8.69728966e-02, 8.75646343e-02, 8.67095320e-02,\n",
       "       8.68586460e-02, 5.17704005e-01, 8.88486025e-02, 3.60995131e+01,\n",
       "       8.75477595e-02, 1.05332254e-01, 8.63253779e-02, 8.73184724e-02,\n",
       "       8.72152923e-02, 4.60172832e+00, 8.67981690e-02, 8.73323159e-02,\n",
       "       8.66757755e-02, 8.61234662e-02, 8.71346574e-02, 8.70933076e-02,\n",
       "       8.74348399e-02, 8.73550434e-02, 8.69893067e-02, 8.75462419e-02,\n",
       "       8.65908725e-02, 8.70771346e-02, 8.66881752e-02, 8.72275421e-02,\n",
       "       8.67689570e-02, 2.31950797e+00, 8.65371745e-02, 1.77654788e-01,\n",
       "       8.70603524e-02, 8.72627272e-02, 8.63313946e-02, 8.73071888e-02,\n",
       "       8.62932068e-02, 8.70554809e-02, 8.71480671e-02, 8.65796642e-02,\n",
       "       8.69555395e-02, 2.07072514e+01, 1.03033728e+01, 8.68528634e+00,\n",
       "       8.75851220e-02, 8.69453017e-02, 1.59549182e-01, 1.38848320e-01,\n",
       "       8.72908545e-02, 8.96601076e+01, 6.02296208e+01, 8.73138202e-02,\n",
       "       1.38873993e-01, 1.15346256e-01, 8.99947075e-02, 8.62969285e-02,\n",
       "       8.72548127e-02, 8.63194261e-02, 9.06672309e-02, 1.39918840e-01,\n",
       "       8.64507967e-02, 8.75173303e-02, 7.53630080e+00, 8.73360542e-02,\n",
       "       8.78430499e-02, 8.75714519e-02, 8.65589441e-02, 8.69164179e-02,\n",
       "       8.74024249e-02, 9.20898506e+00, 8.71611835e-02, 8.73267468e-02,\n",
       "       8.76393396e-02, 8.68038286e-02, 8.79785905e-02, 9.01194555e-02,\n",
       "       8.73051344e-02, 8.68825970e-02, 8.72737911e-02, 5.24293223e+00,\n",
       "       8.76770943e-02, 8.76245549e-02, 8.72877856e-02, 1.75351754e+01,\n",
       "       3.05435962e+01, 1.61373158e-01, 1.71166991e+01, 8.71103462e-02,\n",
       "       8.96803654e-02, 8.70968485e-02, 8.67791195e-02, 8.70403321e-02,\n",
       "       8.73594335e-02, 9.32571335e-02, 8.73389590e-02, 8.77834425e-02,\n",
       "       8.69384746e-02, 8.64638509e-02, 8.70151002e-02, 9.32734559e-02,\n",
       "       8.72598391e-02, 8.70395583e-02, 8.66944621e-02, 8.72671328e-02,\n",
       "       8.65769656e-02, 8.74529578e-02, 8.71883143e-02, 8.77084447e-02,\n",
       "       8.73859474e-02, 1.80110579e+00, 5.24206151e+00, 8.68265101e-02,\n",
       "       8.70019472e-02, 8.73610152e-02, 8.69914117e-02, 8.70286925e-02,\n",
       "       8.66594494e-02, 1.09965520e-01, 8.66651254e-02, 1.24897240e-01,\n",
       "       8.72465154e-02, 8.70941947e-02, 8.69456495e-02, 8.68940899e-02,\n",
       "       8.71198235e-02, 8.72288474e-02, 7.92297541e+01, 6.75889215e-01,\n",
       "       3.75127569e+01, 8.78443176e-02, 5.99313079e+01, 8.70818695e-02,\n",
       "       3.50221338e+01, 8.67682514e-02, 8.82243683e-02, 8.77343088e-02,\n",
       "       8.69098844e-02, 8.62879807e-02, 8.68101786e-02, 8.77321127e-02,\n",
       "       2.11842635e+01, 8.79165141e-02, 8.76528358e-02, 8.72019921e-02,\n",
       "       8.72920262e-02, 8.72980561e-02, 8.72323397e-02, 8.69687628e-02,\n",
       "       8.70310643e-02, 6.27670943e+00, 1.43922139e+00, 8.71095206e-02,\n",
       "       9.03410888e-02, 2.09663066e+01, 8.67877124e-02, 8.74908894e-02,\n",
       "       8.69803557e-02, 9.47885920e-02, 8.74834705e-02, 8.76582311e-02,\n",
       "       8.75224488e-02, 8.71498065e-02, 8.64149648e-02, 8.72524670e-02,\n",
       "       8.64992396e-02, 1.52122382e-01, 8.68410795e-02, 8.78907705e-02,\n",
       "       9.18716988e-02, 9.22692098e-02, 8.70818099e-02, 8.73926878e-02,\n",
       "       9.44331647e-01, 1.79352199e+00, 9.77138040e-02, 8.67589911e-02,\n",
       "       2.65604208e+00, 8.65211661e-02, 8.69134369e-02, 8.67962737e-02,\n",
       "       8.66393066e-02, 2.34935415e+00, 8.77799328e-02, 9.13430634e-02,\n",
       "       8.74983441e-02, 8.68844998e-02, 2.31600524e+00, 9.05755910e-02,\n",
       "       8.73747490e-02, 3.69582540e+00, 8.63559855e-02, 1.37700061e-01,\n",
       "       7.46097491e+01, 8.75931437e-02, 8.74254572e-02, 2.13182748e-01,\n",
       "       9.05206534e-02, 8.74236792e-02, 8.69732795e-02, 8.71670796e-02,\n",
       "       8.69371471e-02, 3.75409540e-01, 9.40851263e-02, 8.73565139e-02,\n",
       "       8.69313095e-02, 8.69574207e-02, 8.77204362e-02, 8.77536592e-02,\n",
       "       8.71612256e-02, 5.94347930e+00, 4.80850443e+00, 8.70553334e-02,\n",
       "       8.73547807e-02, 8.73572370e-02, 8.74109638e-02, 8.76566137e-02,\n",
       "       8.66964027e-02, 2.06614452e+01, 8.74209939e-02, 8.62990345e-02,\n",
       "       9.31622573e-02, 8.80857396e-02, 8.71301027e-02, 3.70604332e-01,\n",
       "       8.68091044e-02, 1.34646814e+01, 8.73376818e-02, 8.71102908e-02,\n",
       "       8.70341180e-02, 8.71023553e-02, 8.74329276e-02, 3.15976441e+01,\n",
       "       1.24519732e-01, 8.69834904e-02, 8.64670248e-02, 8.69716077e-02,\n",
       "       8.72599137e-02, 8.77686300e-02, 8.71841250e-02, 9.24954236e-02,\n",
       "       8.71806628e-02, 8.74647455e-02, 8.73233300e-02, 8.61439423e-02,\n",
       "       8.75492621e-02, 8.68191789e-02, 8.73511415e-02, 8.75516497e-02,\n",
       "       8.69165694e-02, 3.34842480e-01, 1.26343223e-01, 1.68819918e+02,\n",
       "       8.75537491e-02, 8.71633534e-02, 8.75622241e-02, 8.67479649e-02,\n",
       "       8.65488924e-02, 1.24934611e+01, 6.96105327e+00, 6.96347800e+00,\n",
       "       8.67957910e-02, 8.72737353e-02, 8.68620905e-02, 8.71684354e-02,\n",
       "       8.69244473e-02, 8.80075259e-02, 2.78493779e+00, 9.82725149e-02,\n",
       "       1.48569106e-01, 8.74045330e-02, 1.02316739e+01, 9.96769751e-02,\n",
       "       8.67019561e-02, 8.72155990e-02, 1.27811520e-01, 8.71729848e-02,\n",
       "       8.81692363e-02, 8.65851771e-02, 1.20648678e-01, 8.68430654e-02,\n",
       "       8.73880559e-02, 8.71848010e-02, 8.69431501e-02, 9.93751861e-02,\n",
       "       1.17392280e-01, 1.98502937e-01, 8.67673219e-02, 1.60677305e+00,\n",
       "       8.69891760e-02, 8.64374580e-02, 8.71401742e-02, 8.72758413e-02,\n",
       "       8.67583901e-02, 8.98897705e-02, 8.66209138e-02, 8.80323210e-02,\n",
       "       8.73939373e-02, 8.71084815e-02, 9.07232516e-02, 8.65814094e-02,\n",
       "       8.63926487e-02, 8.72275696e-02, 8.71018186e-02, 8.70650948e-02,\n",
       "       1.33060474e+01, 8.77420949e-02, 8.90131037e-02, 9.03484095e-02,\n",
       "       1.00502290e-01, 8.76017553e-02, 8.80869303e-02, 1.55722920e-01,\n",
       "       8.79918586e-02, 8.68240439e-02, 8.77475350e-02, 8.76887862e-02,\n",
       "       8.74814402e-02, 8.70692260e-02, 8.66762570e-02, 8.71441310e-02,\n",
       "       8.74222413e-02, 8.75630839e-02, 8.73698608e-02, 8.70568692e-02,\n",
       "       8.74993116e-02, 8.71206289e-02, 8.70335674e-02, 8.65913250e-02,\n",
       "       8.80217710e-02, 8.75736088e-02, 9.88535337e-02, 8.75376857e-02,\n",
       "       8.71508846e-02, 8.73822961e-02, 8.63869193e-02, 8.75258727e-02,\n",
       "       8.69248601e-02, 8.69250770e-02, 8.76822602e-02, 8.76837235e-02,\n",
       "       8.69598022e-02, 8.67063392e-02, 8.72375408e-02, 8.61427243e-02,\n",
       "       9.65525635e-02, 8.65292507e-02, 8.61688952e-02, 8.72999928e-02,\n",
       "       8.68610436e-02, 8.70257218e-02, 8.71729070e-02, 8.72976728e-02,\n",
       "       8.86296184e-02, 8.72553521e-02, 8.92454960e-02, 8.69852200e-02,\n",
       "       8.70137817e-02, 8.69768944e-02, 8.72567979e-02, 8.72274067e-02,\n",
       "       5.71154660e-01, 8.74318432e-02, 8.72604261e-02, 2.12614162e+01,\n",
       "       8.74255946e-02, 3.52429310e+00, 8.77585903e-02, 1.21175240e+01,\n",
       "       8.72578142e-02, 9.85272691e-02, 8.74929874e-02, 8.73158637e-02,\n",
       "       8.71099700e-02, 8.74343052e-02, 8.73481801e-02, 1.89751584e-01,\n",
       "       8.70287450e-02, 8.68830160e-02, 8.71666325e-02, 8.73365248e-02,\n",
       "       1.11680891e+01, 1.51053940e-01, 8.65882350e-02, 1.15375128e-01,\n",
       "       8.67835682e-02, 8.79055533e-02, 8.72314770e-02, 8.69759068e-02,\n",
       "       8.67232922e-02, 8.72839996e-02, 8.72021815e-02, 8.73021569e-02,\n",
       "       8.81548313e-02, 8.72923777e-02, 8.66790322e-02, 3.39742119e+00,\n",
       "       8.64919789e-02, 8.68530661e-02, 8.70980840e-02, 3.73841833e-01,\n",
       "       8.72184103e-02, 8.74733329e-02, 8.73652962e-02, 8.65919295e-02,\n",
       "       8.66168192e-02, 8.85422933e-02, 8.74515622e-02, 8.76983328e-02,\n",
       "       2.72180851e+01, 8.76441836e-02, 8.80494827e-02])"
      ]
     },
     "execution_count": 20,
     "metadata": {},
     "output_type": "execute_result"
    }
   ],
   "source": [
    "lda_model.components_[9,:]"
   ]
  },
  {
   "cell_type": "code",
   "execution_count": 8,
   "metadata": {},
   "outputs": [
    {
     "name": "stderr",
     "output_type": "stream",
     "text": [
      "/home/lmoraes/miniconda3/envs/machine_teaching/lib/python3.6/site-packages/pyLDAvis/_prepare.py:387: DeprecationWarning: \n",
      ".ix is deprecated. Please use\n",
      ".loc for label based indexing or\n",
      ".iloc for positional indexing\n",
      "\n",
      "See the documentation here:\n",
      "http://pandas.pydata.org/pandas-docs/stable/indexing.html#ix-indexer-is-deprecated\n",
      "  topic_term_dists = topic_term_dists.ix[topic_order]\n"
     ]
    },
    {
     "data": {
      "text/html": [
       "\n",
       "<link rel=\"stylesheet\" type=\"text/css\" href=\"https://cdn.rawgit.com/bmabey/pyLDAvis/files/ldavis.v1.0.0.css\">\n",
       "\n",
       "\n",
       "<div id=\"ldavis_el52641399801464321846908245662\"></div>\n",
       "<script type=\"text/javascript\">\n",
       "\n",
       "var ldavis_el52641399801464321846908245662_data = {\"mdsDat\": {\"Freq\": [17.116978504070357, 15.906250519788543, 12.613571533387555, 10.315522242503297, 9.074933544631099, 7.558301749374471, 7.179157615901811, 6.343241835380104, 4.97682981105022, 4.030520704720467, 2.8750028098470324, 2.009689129345044], \"cluster\": [1, 1, 1, 1, 1, 1, 1, 1, 1, 1, 1, 1], \"topics\": [1, 2, 3, 4, 5, 6, 7, 8, 9, 10, 11, 12], \"x\": [91.95911407470703, 242.52296447753906, 65.7746353149414, -67.46986389160156, -94.25418853759766, 79.38172149658203, 214.25228881835938, 48.313961029052734, 235.62692260742188, -63.687381744384766, -213.14407348632812, -228.52145385742188], \"y\": [246.73895263671875, 142.05825805664062, -93.67974853515625, -1.0395885705947876, -181.70697021484375, 68.0345687866211, -193.921875, -271.9721984863281, -26.541154861450195, 181.5636444091797, 103.22994232177734, -79.50138854980469]}, \"tinfo\": {\"Category\": [\"Default\", \"Default\", \"Default\", \"Default\", \"Default\", \"Default\", \"Default\", \"Default\", \"Default\", \"Default\", \"Default\", \"Default\", \"Default\", \"Default\", \"Default\", \"Default\", \"Default\", \"Default\", \"Default\", \"Default\", \"Default\", \"Default\", \"Default\", \"Default\", \"Default\", \"Default\", \"Default\", \"Default\", \"Default\", \"Default\", \"Topic1\", \"Topic1\", \"Topic1\", \"Topic1\", \"Topic1\", \"Topic1\", \"Topic1\", \"Topic1\", \"Topic1\", \"Topic1\", \"Topic1\", \"Topic1\", \"Topic1\", \"Topic1\", \"Topic1\", \"Topic1\", \"Topic1\", \"Topic1\", \"Topic1\", \"Topic1\", \"Topic1\", \"Topic1\", \"Topic1\", \"Topic1\", \"Topic1\", \"Topic1\", \"Topic1\", \"Topic1\", \"Topic1\", \"Topic1\", \"Topic1\", \"Topic1\", \"Topic1\", \"Topic1\", \"Topic1\", \"Topic1\", \"Topic1\", \"Topic1\", \"Topic1\", \"Topic1\", \"Topic1\", \"Topic1\", \"Topic1\", \"Topic1\", \"Topic1\", \"Topic2\", \"Topic2\", \"Topic2\", \"Topic2\", \"Topic2\", \"Topic2\", \"Topic2\", \"Topic2\", \"Topic2\", \"Topic2\", \"Topic2\", \"Topic2\", \"Topic2\", \"Topic2\", \"Topic2\", \"Topic2\", \"Topic2\", \"Topic2\", \"Topic2\", \"Topic2\", \"Topic2\", \"Topic2\", \"Topic2\", \"Topic2\", \"Topic2\", \"Topic2\", \"Topic2\", \"Topic2\", \"Topic2\", \"Topic2\", \"Topic2\", \"Topic2\", \"Topic2\", \"Topic2\", \"Topic2\", \"Topic2\", \"Topic2\", \"Topic2\", \"Topic2\", \"Topic2\", \"Topic2\", \"Topic2\", \"Topic2\", \"Topic2\", \"Topic2\", \"Topic2\", \"Topic2\", \"Topic3\", \"Topic3\", \"Topic3\", \"Topic3\", \"Topic3\", \"Topic3\", \"Topic3\", \"Topic3\", \"Topic3\", \"Topic3\", \"Topic3\", \"Topic3\", \"Topic3\", \"Topic3\", \"Topic3\", \"Topic3\", \"Topic3\", \"Topic3\", \"Topic3\", \"Topic3\", \"Topic3\", \"Topic3\", \"Topic3\", \"Topic3\", \"Topic3\", \"Topic3\", \"Topic3\", \"Topic3\", \"Topic3\", \"Topic3\", \"Topic3\", \"Topic3\", \"Topic3\", \"Topic3\", \"Topic3\", \"Topic3\", \"Topic3\", \"Topic3\", \"Topic3\", \"Topic3\", \"Topic3\", \"Topic3\", \"Topic3\", \"Topic3\", \"Topic3\", \"Topic3\", \"Topic3\", \"Topic3\", \"Topic3\", \"Topic3\", \"Topic3\", \"Topic3\", \"Topic3\", \"Topic4\", \"Topic4\", \"Topic4\", \"Topic4\", \"Topic4\", \"Topic4\", \"Topic4\", \"Topic4\", \"Topic4\", \"Topic4\", \"Topic4\", \"Topic4\", \"Topic4\", \"Topic4\", \"Topic4\", \"Topic4\", \"Topic4\", \"Topic4\", \"Topic4\", \"Topic4\", \"Topic4\", \"Topic4\", \"Topic4\", \"Topic4\", \"Topic4\", \"Topic4\", \"Topic4\", \"Topic4\", \"Topic4\", \"Topic4\", \"Topic4\", \"Topic4\", \"Topic4\", \"Topic4\", \"Topic4\", \"Topic4\", \"Topic4\", \"Topic4\", \"Topic4\", \"Topic4\", \"Topic5\", \"Topic5\", \"Topic5\", \"Topic5\", \"Topic5\", \"Topic5\", \"Topic5\", \"Topic5\", \"Topic5\", \"Topic5\", \"Topic5\", \"Topic5\", \"Topic5\", \"Topic5\", \"Topic5\", \"Topic5\", \"Topic5\", \"Topic5\", \"Topic5\", \"Topic5\", \"Topic5\", \"Topic5\", \"Topic5\", \"Topic5\", \"Topic5\", \"Topic5\", \"Topic5\", \"Topic5\", \"Topic5\", \"Topic5\", \"Topic5\", \"Topic5\", \"Topic5\", \"Topic5\", \"Topic5\", \"Topic5\", \"Topic5\", \"Topic5\", \"Topic5\", \"Topic5\", \"Topic5\", \"Topic5\", \"Topic5\", \"Topic5\", \"Topic5\", \"Topic5\", \"Topic6\", \"Topic6\", \"Topic6\", \"Topic6\", \"Topic6\", \"Topic6\", \"Topic6\", \"Topic6\", \"Topic6\", \"Topic6\", \"Topic6\", \"Topic6\", \"Topic6\", \"Topic6\", \"Topic6\", \"Topic6\", \"Topic6\", \"Topic6\", \"Topic6\", \"Topic6\", \"Topic6\", \"Topic6\", \"Topic6\", \"Topic6\", \"Topic6\", \"Topic6\", \"Topic6\", \"Topic6\", \"Topic6\", \"Topic6\", \"Topic6\", \"Topic6\", \"Topic6\", \"Topic6\", \"Topic6\", \"Topic6\", \"Topic6\", \"Topic6\", \"Topic6\", \"Topic6\", \"Topic6\", \"Topic6\", \"Topic6\", \"Topic6\", \"Topic7\", \"Topic7\", \"Topic7\", \"Topic7\", \"Topic7\", \"Topic7\", \"Topic7\", \"Topic7\", \"Topic7\", \"Topic7\", \"Topic7\", \"Topic7\", \"Topic7\", \"Topic7\", \"Topic7\", \"Topic7\", \"Topic7\", \"Topic7\", \"Topic7\", \"Topic7\", \"Topic7\", \"Topic7\", \"Topic7\", \"Topic7\", \"Topic7\", \"Topic7\", \"Topic7\", \"Topic7\", \"Topic7\", \"Topic7\", \"Topic7\", \"Topic7\", \"Topic7\", \"Topic7\", \"Topic7\", \"Topic7\", \"Topic7\", \"Topic7\", \"Topic7\", \"Topic7\", \"Topic7\", \"Topic7\", \"Topic7\", \"Topic7\", \"Topic8\", \"Topic8\", \"Topic8\", \"Topic8\", \"Topic8\", \"Topic8\", \"Topic8\", \"Topic8\", \"Topic8\", \"Topic8\", \"Topic8\", \"Topic8\", \"Topic8\", \"Topic8\", \"Topic8\", \"Topic8\", \"Topic8\", \"Topic8\", \"Topic8\", \"Topic8\", \"Topic8\", \"Topic8\", \"Topic8\", \"Topic8\", \"Topic8\", \"Topic8\", \"Topic8\", \"Topic8\", \"Topic8\", \"Topic8\", \"Topic8\", \"Topic8\", \"Topic8\", \"Topic8\", \"Topic8\", \"Topic8\", \"Topic8\", \"Topic8\", \"Topic8\", \"Topic8\", \"Topic8\", \"Topic8\", \"Topic8\", \"Topic9\", \"Topic9\", \"Topic9\", \"Topic9\", \"Topic9\", \"Topic9\", \"Topic9\", \"Topic9\", \"Topic9\", \"Topic9\", \"Topic9\", \"Topic9\", \"Topic9\", \"Topic9\", \"Topic9\", \"Topic9\", \"Topic9\", \"Topic9\", \"Topic9\", \"Topic9\", \"Topic9\", \"Topic9\", \"Topic9\", \"Topic9\", \"Topic9\", \"Topic9\", \"Topic9\", \"Topic9\", \"Topic9\", \"Topic9\", \"Topic9\", \"Topic9\", \"Topic9\", \"Topic9\", \"Topic9\", \"Topic9\", \"Topic9\", \"Topic9\", \"Topic9\", \"Topic9\", \"Topic9\", \"Topic9\", \"Topic9\", \"Topic9\", \"Topic9\", \"Topic10\", \"Topic10\", \"Topic10\", \"Topic10\", \"Topic10\", \"Topic10\", \"Topic10\", \"Topic10\", \"Topic10\", \"Topic10\", \"Topic10\", \"Topic10\", \"Topic10\", \"Topic10\", \"Topic10\", \"Topic10\", \"Topic10\", \"Topic10\", \"Topic10\", \"Topic10\", \"Topic10\", \"Topic10\", \"Topic10\", \"Topic10\", \"Topic10\", \"Topic10\", \"Topic10\", \"Topic10\", \"Topic10\", \"Topic10\", \"Topic10\", \"Topic10\", \"Topic10\", \"Topic10\", \"Topic10\", \"Topic10\", \"Topic10\", \"Topic11\", \"Topic11\", \"Topic11\", \"Topic11\", \"Topic11\", \"Topic11\", \"Topic11\", \"Topic11\", \"Topic11\", \"Topic11\", \"Topic11\", \"Topic11\", \"Topic11\", \"Topic11\", \"Topic11\", \"Topic11\", \"Topic11\", \"Topic11\", \"Topic11\", \"Topic11\", \"Topic11\", \"Topic11\", \"Topic11\", \"Topic11\", \"Topic11\", \"Topic11\", \"Topic11\", \"Topic11\", \"Topic11\", \"Topic11\", \"Topic11\", \"Topic11\", \"Topic11\", \"Topic12\", \"Topic12\", \"Topic12\", \"Topic12\", \"Topic12\", \"Topic12\", \"Topic12\", \"Topic12\", \"Topic12\", \"Topic12\", \"Topic12\", \"Topic12\", \"Topic12\", \"Topic12\", \"Topic12\", \"Topic12\", \"Topic12\", \"Topic12\", \"Topic12\", \"Topic12\", \"Topic12\", \"Topic12\", \"Topic12\", \"Topic12\", \"Topic12\", \"Topic12\", \"Topic12\", \"Topic12\", \"Topic12\", \"Topic12\", \"Topic12\", \"Topic12\", \"Topic12\", \"Topic12\", \"Topic12\", \"Topic12\"], \"Freq\": [1905.0, 242.0, 328.0, 82.0, 100.0, 128.0, 521.0, 126.0, 445.0, 80.0, 82.0, 229.0, 353.0, 61.0, 178.0, 228.0, 80.0, 94.0, 302.0, 60.0, 81.0, 109.0, 55.0, 81.0, 179.0, 81.0, 39.0, 93.0, 71.0, 43.0, 125.54010664097423, 127.01867039165899, 92.80860928489659, 70.54153453506666, 56.30616962068431, 31.771717920293106, 24.524035779597074, 16.636154221813438, 15.023791606082204, 11.166703619823638, 9.584554494426813, 9.709376364210183, 8.607711252261051, 7.759323158283707, 7.759558038026764, 7.374687291992538, 6.978897619561965, 6.754347603989088, 6.4193301224368335, 6.525608565200251, 6.012773193926477, 5.6255681254336745, 4.83183103320172, 4.832260086498754, 4.831168364023439, 4.040858971008595, 4.038088889059507, 15.993529975112352, 3.5187214998965337, 176.87118106008973, 101.3303322941077, 60.96571731788372, 188.03399714867402, 84.70292831985851, 197.5577229368513, 118.39583111572301, 104.4790062023632, 39.784117109144525, 101.44928117346984, 144.57888927073265, 38.6260940941532, 30.40444873849507, 9.28468514956079, 13.513735842566401, 15.370970015048677, 74.38163125297302, 52.65824893338423, 23.3097101327042, 21.3176484489641, 45.14461224803486, 18.16268695611443, 18.162313495297383, 17.779530845382965, 17.131981810577432, 15.575421582235325, 14.54146666344898, 12.472748508732336, 10.990771882447222, 9.818966620961268, 8.193516156094777, 8.049143451529112, 20.86299731379748, 5.585564459384736, 5.538045702685388, 5.396504627171727, 5.396771853865997, 5.396754561218527, 5.396626960783248, 5.25135529621649, 5.252117910825132, 4.608704974134909, 4.6080793643881615, 4.51277644711312, 4.512170825698378, 4.434516660725143, 27.792732374151498, 123.08450871930066, 57.984928994165294, 54.105777457881885, 127.05548314142291, 562.9239965391822, 38.469521102979954, 63.15777147609651, 68.20570904693277, 99.46001650836067, 58.7281751533081, 35.28088790262685, 37.19563323457916, 42.322150911713884, 31.660604000952848, 27.134756885066597, 11.87071547342796, 37.01756187190319, 43.47827686444802, 30.79632641835173, 17.5324295886007, 13.950849373096391, 9.994648577073669, 9.295509492396311, 16.357068999496462, 7.873224937570709, 8.132111563638196, 7.453505667817074, 7.57759330846817, 6.847548473594684, 5.824545821434783, 18.89743141661931, 92.39959917425351, 4.885511416255388, 4.2327250195838255, 3.997014753010533, 3.469773274075676, 14.221351730075327, 3.0847178142415648, 2.9579915245731945, 52.25206233769296, 2.948286760882042, 44.80620874890516, 28.50172639736977, 24.987812422906533, 12.742584060661828, 2.0624096150921587, 30.126427917758292, 24.778686426150664, 25.938148511242236, 16.118725535900754, 10.380330856016167, 8.972786635588218, 150.56602154286065, 126.25729537182525, 15.124638747381491, 14.999538585480316, 197.72332857666254, 84.6934203378107, 27.08397469588638, 21.987320606721205, 27.451704949477165, 30.263381722902814, 32.05989904073294, 26.215935907371005, 29.66421691498533, 22.429392899595957, 21.138445141542302, 20.35349570789959, 16.421976416611546, 47.224056264878506, 59.536169571472996, 45.74223195167508, 44.14565781278449, 88.69703759168382, 13.43665367410089, 12.281937789768827, 11.839350724340227, 13.751735737292696, 11.695090072970961, 9.939322025391615, 9.92882102592829, 9.918101248214247, 11.048945392911534, 8.922497022373006, 8.825742207404009, 9.23203170424804, 8.30641063105613, 10.600966563882103, 7.931312701130039, 7.769277818988904, 13.03773718960258, 6.998863953874211, 33.14006513111136, 6.465758284680228, 6.459437935850056, 7.22754341117725, 6.578628793360936, 6.105811313103011, 56.03424194538508, 25.71242965236379, 173.76443838160313, 13.306129291340127, 224.02657957689044, 11.148117623433501, 36.57383133215201, 12.799678180318223, 31.743167303325496, 26.59020124816222, 12.690101229419161, 79.57749176543247, 38.50312777857004, 33.70151073705613, 29.030347521815898, 27.34174940103566, 22.677065621064386, 18.256380722536086, 14.192004292968686, 13.325313550380015, 12.924345331220893, 10.98940250404357, 9.263578958889257, 7.490757840704159, 7.437332704957331, 7.427127413639904, 7.424541236177065, 6.694631720017896, 5.591093816626691, 22.594775825964913, 8.038090485983048, 3.759874299147198, 3.7588851763112574, 3.7589511892072776, 2.9703673706184186, 1.9129401091702674, 1.9092272306088, 22.086002824605583, 5.591400975389194, 3.941904625559147, 1.9210288586829383, 95.62994859221672, 64.2398910425974, 63.92171554867003, 84.50511062894485, 180.0604587433632, 22.03714667861606, 37.35401331563651, 32.57728121148453, 22.362306726210402, 40.0104697145823, 14.361200619708253, 18.702720392367702, 11.911694222723515, 9.82214712773794, 10.91292966259838, 9.887692045562101, 79.7619979388976, 29.934593406519557, 31.27889881875003, 21.94337173638648, 18.329417547688237, 17.61544741312561, 93.5591231105109, 13.763229928529274, 11.805082547863334, 10.464240949753373, 10.43381374066775, 10.346955337609185, 9.824509016803644, 9.218993764391959, 7.358792332091076, 6.935172751191505, 6.9324824558831795, 6.934576060388708, 7.7795255848463185, 6.584435430861081, 5.9490032264449315, 5.783971911660879, 4.9583873858785505, 4.954362953674987, 4.695462400573766, 4.556904342873498, 4.627456993122535, 5.385549182117615, 4.5016790579266, 4.358555610015666, 13.956841758569508, 17.50399146483627, 7.357591148638227, 8.208598401545192, 8.974634426214163, 176.6912104014442, 55.80279411009737, 40.96792540357619, 10.430957580791087, 22.281186421167856, 16.438827586899084, 11.769086203619434, 9.17853352587998, 8.934527318186978, 44.97089775517371, 21.60682680436102, 18.019626205540096, 77.55352769526836, 14.442749220408025, 14.433851847110756, 12.984719150643148, 9.052577776277275, 73.14236407076802, 10.78374847911276, 8.370032564505102, 33.30105086226166, 4.695444278205194, 4.2028063063099435, 3.506160088766495, 3.5807301636582216, 2.1194665310578156, 10.015835434786904, 9.051131357889783, 3.7687597304432154, 4.076329401220299, 1.8848327137313676, 3.079224049934582, 14.58873409374475, 3.7807917292443847, 103.26714214924495, 2.0796423868978446, 3.751714369456925, 4.4741771821715215, 16.760701584558, 93.68309724869012, 23.256144736836106, 16.51266795506393, 38.707755435434656, 70.1555245474516, 28.271187576327296, 13.67591737975291, 28.457450402845712, 12.678535711622597, 16.531331125880946, 10.93207937715371, 7.27438834764023, 6.555362347157169, 7.1943932286123085, 23.756210218846, 24.6372932669386, 15.810462297241305, 14.678260421105511, 30.24227093797489, 10.329654308668484, 8.275470252601549, 7.708081159180818, 7.76307305007542, 7.588598170007268, 5.7837284322541045, 3.912002229357219, 4.018687927309505, 3.3262267689238634, 3.3714444883965475, 2.4584833079098694, 57.57538768757072, 2.2276455863468967, 2.190697547945094, 2.136887205457355, 11.145075171817695, 3.890498077378128, 2.126846817661904, 42.303659518377046, 2.040799934244993, 7.8944172796965635, 2.065088007671134, 2.0610512639287544, 11.143170700317235, 46.741547619870396, 44.367519484273025, 53.808160826053545, 18.852572548851988, 130.10913487964459, 39.4205961014115, 45.634946071350626, 27.9619848032974, 24.92235145997687, 8.904129303919007, 11.565525970796624, 7.002531833467345, 12.91291977957114, 8.760452975402318, 58.605759200608865, 23.810308003785895, 9.787953009062981, 9.566290266161692, 8.555123530519586, 8.412194247199142, 10.891556277862042, 7.179039233439131, 7.225388751887943, 23.224141377470414, 13.707990650133402, 6.999826319418685, 5.631801204137921, 5.62470747628544, 5.521892388666702, 5.522204629248633, 4.8031557024581195, 4.435714061571029, 4.435596721391005, 4.4339143153351, 3.7849229917574236, 12.914226195157708, 10.589592946066835, 3.1330391094099936, 2.1774687897460163, 1.9370555014981257, 13.910976496726041, 4.1842559093910054, 42.6833982019185, 3.6925114993354073, 13.64683283500184, 12.364019170651355, 35.52382045564406, 8.472057725034064, 8.806035239383998, 6.0382011633762005, 68.21537986536194, 33.44228274809809, 29.648070676248434, 13.075073526964921, 7.9006570364019, 7.184035662124428, 7.976447259287107, 6.068004817786217, 6.518360830691897, 60.130468608408925, 53.641356406595385, 18.46735086907039, 41.002269818434016, 14.079601336786599, 13.019014012010874, 40.93654591526174, 10.230308018783276, 8.699986731527868, 7.409518251860009, 7.38618829468742, 7.366541285033751, 7.361968585971884, 6.476505478706571, 7.398919394013549, 4.978315228609597, 10.396583990937696, 3.773654631594656, 3.766233935429724, 3.7643492745449283, 3.764139035694639, 3.6817389087784793, 13.03792758936919, 1.927687552138548, 1.9268770604094194, 1.9351724491380835, 4.4655945616897235, 4.459358061106014, 2.542890292340854, 2.2425015254223806, 15.287527984772495, 8.81912084942604, 60.44766078120551, 16.320628884896394, 4.686679525680703, 5.47029439555293, 4.176847846976775, 81.4059380324463, 27.70979093682304, 19.76500803310116, 14.807291705503625, 13.86055243308318, 10.391929774278276, 10.737760704019944, 6.856272746289638, 5.650063118642894, 4.73211939173878, 4.643655914068912, 3.7055253204093224, 3.4219736706405275, 7.352520769168588, 1.8471193482507058, 8.290115879213186, 18.17024730617192, 2.235880802054274, 1.9368437721547915, 2.817293406403353, 1.011281258294685, 0.962567536689549, 2.396776288021279, 2.2528717959536326, 2.8246941337136153, 0.3221399111874361, 1.0434862704846397, 1.0680161211580714, 81.1373900754539, 0.16963578303351798, 2.565658979994613, 2.5404085058899644, 1.9455741339139139, 38.51147256549878, 17.490616658944816, 19.116684537167068, 11.991989342161133, 9.27603791307286, 7.989516707912972, 5.738454244548052, 4.609001570429941, 3.968244224495798, 27.976185274030005, 6.735356083080431, 8.984465890684023, 2.038419284773753, 3.478415842909352, 3.839634656764027, 2.303806968846664, 2.3536833581599574, 2.3527413587250545, 1.909842588795017, 4.801058245179514, 4.617041390063569, 4.623849958699775, 2.249712022703117, 1.1675266701034186, 0.41949828716179155, 7.629552878635063, 1.370581287350996, 0.33981540241338, 0.19243787372143933, 0.10996635955632929, 0.2563718076770407, 6.239749444888754, 8.94427830090464, 3.265653520806104, 2.2051722583566518, 1.1746266611318241], \"Term\": [\"print\", \"import\", \"return\", \"str1\", \"float\", \"result_str\", \"in\", \"row\", \"for\", \"math\", \"result\", \"elif\", \"def\", \"counter\", \"str\", \"range\", \"month\", \"random\", \"input\", \"li\", \"count\", \"num\", \"decimal\", \"number\", \"format\", \"tuplex\", \"name\", \"column\", \"list\", \"startplayer\", \"row\", \"result_str\", \"column\", \"game\", \"sum\", \"hexseg\", \"player\", \"dict\", \"col\", \"winner\", \"game_slices\", \"win\", \"sum_list\", \"row_num\", \"col_num\", \"start\", \"digits\", \"printdict\", \"hexnumber\", \"word_len\", \"printvalues\", \"lengthhex\", \"new_row\", \"display_game\", \"convert_input_to_coordinate\", \"display_winner\", \"draw_line\", \"step\", \"chars\", \"range\", \"and\", \"or\", \"for\", \"str\", \"in\", \"return\", \"def\", \"append\", \"if\", \"print\", \"else\", \"len\", \"end\", \"true\", \"int\", \"shoppinglist\", \"element\", \"temp\", \"quote\", \"item\", \"menuchoice\", \"nomoreswaps\", \"binarystring\", \"tempitem\", \"num1\", \"num2\", \"decimalnumber\", \"find\", \"channelschedule\", \"exitlist\", \"runningtotal\", \"denary\", \"displaylist\", \"newitem\", \"num3\", \"showname\", \"euroholidaymoney\", \"positionvalue\", \"liftv\", \"fridgev\", \"number1\", \"number2\", \"element_to_find\", \"ordered_list\", \"fridgeh\", \"finished\", \"format\", \"false\", \"true\", \"input\", \"print\", \"not\", \"int\", \"elif\", \"if\", \"else\", \"while\", \"len\", \"def\", \"in\", \"for\", \"append\", \"values\", \"items\", \"letter\", \"amount\", \"fact\", \"all\", \"search\", \"continue\", \"lines\", \"reverse\", \"dic\", \"itemgetter\", \"limit\", \"operator\", \"sorted\", \"num\", \"yield\", \"code\", \"defaultdict\", \"sentence\", \"my_list\", \"sub\", \"islower\", \"set\", \"groupby\", \"word\", \"value\", \"split\", \"re\", \"isupper\", \"index\", \"key\", \"raw_input\", \"upper\", \"add\", \"ctr\", \"in\", \"for\", \"break\", \"text\", \"print\", \"if\", \"not\", \"join\", \"append\", \"len\", \"return\", \"else\", \"def\", \"range\", \"elif\", \"int\", \"while\", \"array_num\", \"os\", \"sys\", \"path\", \"random\", \"textwrap\", \"f1\", \"soup\", \"fractions\", \"beautifulsoup\", \"story_heading\", \"base_url\", \"requests\", \"sample\", \"wrapped\", \"fn\", \"fraction\", \"new_list\", \"answer\", \"argv\", \"sample_text\", \"choice\", \"shuffle\", \"time\", \"struct\", \"ctime\", \"__file__\", \"sleep\", \"bs4\", \"from\", \"array\", \"import\", \"randint\", \"print\", \"lower\", \"str\", \"text\", \"in\", \"for\", \"if\", \"month\", \"day\", \"outputstr\", \"year\", \"character\", \"targetstr\", \"found\", \"score\", \"question\", \"tempquestionlist\", \"eachchar\", \"eachnumber\", \"a2\", \"a1\", \"quizquestions\", \"questionno\", \"json\", \"givenanswer\", \"isinstance\", \"exit\", \"correctanswer\", \"answers\", \"tempanswer\", \"raise\", \"load\", \"__author__\", \"each\", \"ans\", \"mn\", \"getstring\", \"elif\", \"else\", \"input\", \"if\", \"print\", \"number\", \"int\", \"format\", \"len\", \"in\", \"or\", \"for\", \"true\", \"false\", \"range\", \"append\", \"math\", \"pi\", \"self\", \"sqrt\", \"radians\", \"area\", \"float\", \"radian\", \"sin\", \"volume\", \"radius\", \"cos\", \"sine\", \"cn\", \"p2\", \"cmath\", \"angle\", \"sur_area\", \"__init__\", \"sineradians\", \"tan\", \"fabs\", \"distanceinstraightline\", \"degreesfromnorth\", \"id\", \"color_list\", \"dist\", \"abs\", \"timer\", \"test\", \"height\", \"round\", \"p1\", \"distance\", \"class\", \"print\", \"input\", \"import\", \"itertools\", \"def\", \"format\", \"int\", \"from\", \"return\", \"nums\", \"hangman\", \"guessedcharacters\", \"result\", \"fib\", \"chances\", \"setupvalues\", \"currentguess\", \"count\", \"num_set\", \"degree\", \"data\", \"func\", \"product\", \"max_of_three\", \"displayresult\", \"functools\", \"pop\", \"guessed\", \"playgame\", \"x1\", \"setupgame\", \"x2\", \"each\", \"is\", \"return\", \"randrange\", \"user_input\", \"add\", \"word\", \"def\", \"len\", \"num\", \"if\", \"print\", \"for\", \"append\", \"in\", \"while\", \"input\", \"elif\", \"and\", \"false\", \"else\", \"total\", \"try\", \"n2\", \"n1\", \"guess\", \"except\", \"multiply\", \"difference\", \"n3\", \"prime\", \"running\", \"maximum\", \"valueerror\", \"n4\", \"sep\", \"floor\", \"number\", \"typeerror\", \"error\", \"exception\", \"none\", \"minimum\", \"days\", \"tuplex\", \"is_prime\", \"numbers\", \"minutes\", \"seconds\", \"break\", \"str\", \"int\", \"return\", \"while\", \"print\", \"def\", \"if\", \"else\", \"elif\", \"index\", \"true\", \"raw_input\", \"input\", \"and\", \"li\", \"my_dict\", \"listx\", \"num_list\", \"printlist\", \"student\", \"my_file\", \"students\", \"word_list\", \"words\", \"lambda\", \"elem\", \"american\", \"evennumbers\", \"encoding\", \"mode\", \"filter\", \"overlaplist\", \"happieslist\", \"primeslist\", \"anamerican\", \"max\", \"min\", \"chain\", \"readlines\", \"splitlines\", \"with\", \"lst\", \"list\", \"filename\", \"as\", \"open\", \"tuplex\", \"keys\", \"tuple\", \"results\", \"print\", \"in\", \"for\", \"append\", \"key\", \"line\", \"def\", \"itertools\", \"if\", \"counter\", \"decimal\", \"context\", \"startplayer\", \"sety\", \"setx\", \"board\", \"connect\", \"setz\", \"prec\", \"printvalue\", \"s1\", \"s2\", \"output\", \"seta\", \"getcontext\", \"socket\", \"rounding\", \"emailaddress\", \"r2\", \"pat2\", \"mod\", \"collections\", \"match\", \"group\", \"gethostname\", \"color1\", \"color2\", \"getattr\", \"d2\", \"set\", \"value\", \"print\", \"import\", \"re\", \"def\", \"while\", \"str1\", \"color\", \"ast\", \"list1\", \"list2\", \"file\", \"char\", \"next\", \"reverse_string\", \"rsplit\", \"reversed\", \"colors\", \"squarednumbers\", \"map\", \"ljust\", \"end\", \"join\", \"formula\", \"lst\", \"length\", \"rstrip\", \"del\", \"replace\", \"guesses\", \"tuple\", \"isdir\", \"lambda\", \"lower\", \"print\", \"liftspace\", \"tuplex\", \"count\", \"len\", \"name\", \"current\", \"matrix\", \"names\", \"counter_dict\", \"type\", \"setq\", \"setp\", \"age\", \"line\", \"person\", \"readline\", \"release\", \"copy\", \"platform\", \"update\", \"d2\", \"d1\", \"minimum\", \"open\", \"with\", \"as\", \"pop\", \"strip\", \"write\", \"while\", \"break\", \"remove\", \"nlargest\", \"heapq\", \"__init__\", \"in\", \"print\", \"if\", \"else\", \"input\"], \"Total\": [1905.0, 242.0, 328.0, 82.0, 100.0, 128.0, 521.0, 126.0, 445.0, 80.0, 82.0, 229.0, 353.0, 61.0, 178.0, 228.0, 80.0, 94.0, 302.0, 60.0, 81.0, 109.0, 55.0, 81.0, 179.0, 81.0, 39.0, 93.0, 71.0, 43.0, 126.60660652313885, 128.10899478878665, 93.81551976554825, 71.59650893133404, 57.29773130524554, 32.75428848838235, 25.66974088310588, 17.61580182213848, 15.994974240879268, 12.148370508735535, 10.562616102043792, 10.734520197461311, 9.581252193355146, 8.731639588212975, 8.734888363535557, 8.37387855881954, 7.963670780800441, 7.736052361062973, 7.391246536810276, 7.545131044934507, 6.983719611540845, 6.599054012155036, 5.804766314258341, 5.806868552242057, 5.807807019047693, 5.013600319283187, 5.012931538090701, 20.01858067280156, 4.4902364812511655, 228.54898530352423, 132.39708204376691, 83.14830023057844, 445.590377965405, 178.78855165386992, 521.5599742462396, 328.99536939807547, 353.2015659983747, 116.56825737926745, 481.0625421636692, 1905.0138315582974, 231.3866458044822, 147.89145751744763, 20.002435751686942, 107.1503843167339, 198.70209841923335, 75.35222930888123, 54.209779030402906, 24.28784540830228, 22.276914732647253, 47.481741314844804, 19.12466860619064, 19.125491105586363, 18.738907510481148, 18.09534924629096, 16.534802837222102, 15.50234777966088, 13.431703170122672, 11.963244304504515, 10.783643189128746, 9.156578330285216, 9.007099550407935, 23.817022830901976, 6.546750696373, 6.499884587476841, 6.3570612847449075, 6.3580878705732, 6.358435573633226, 6.358581255049036, 6.341201466727152, 6.34306013849048, 5.570239207865581, 5.570662665749079, 5.473622536013391, 5.473342026731133, 5.46620356936926, 34.26135926553222, 179.25819667325422, 87.62645849939405, 107.1503843167339, 302.67869108545455, 1905.0138315582974, 77.76935374994983, 198.70209841923335, 229.4107039708499, 481.0625421636692, 231.3866458044822, 108.25407449456448, 147.89145751744763, 353.2015659983747, 521.5599742462396, 445.590377965405, 116.56825737926745, 38.02910429094123, 45.19642601301686, 32.15670564855568, 18.510923913055635, 14.92723371481192, 10.961598946335359, 10.26586029081987, 18.28593558464027, 8.842963564311447, 9.18878020796025, 8.42368855678165, 8.609653754091998, 7.8458106195364605, 6.81449415021903, 22.24221844919845, 109.82182145102989, 5.865896856571629, 5.201077646885038, 4.970186584972921, 4.455653378128059, 18.372779675399443, 4.068993468804229, 3.9308915206084234, 69.58143052057588, 3.9302495856087467, 62.71024341140234, 40.158365014842055, 35.47643945299055, 18.523276309968686, 3.0334286887473825, 45.13520973400298, 37.28291667768849, 39.33344878762303, 24.049112869749784, 15.755193377824742, 13.877881271370256, 521.5599742462396, 445.590377965405, 28.872044156161813, 28.700195356009385, 1905.0138315582974, 481.0625421636692, 77.76935374994983, 54.93263826107867, 116.56825737926745, 147.89145751744763, 328.99536939807547, 231.3866458044822, 353.2015659983747, 228.54898530352423, 229.4107039708499, 198.70209841923335, 108.25407449456448, 48.5732159494789, 61.266943074793595, 47.295819640130034, 45.75299582783491, 94.15593149580367, 14.405023620605823, 13.254993207709516, 12.830669153122107, 14.907437611316391, 12.691987372801778, 10.909039149070926, 10.90818523450946, 10.911636550613148, 12.193979202546208, 9.889845787774659, 9.793813750876481, 10.28548822236958, 9.279384221651018, 11.848421049275952, 8.900694335229804, 8.736430800456896, 14.684425257735917, 7.972157068105581, 38.0719296089566, 7.439020801464063, 7.438497575523449, 8.349905176671248, 7.604496619215644, 7.077299923080334, 66.13752301770302, 30.841325849676277, 242.5270426491565, 20.92419343180265, 1905.0138315582974, 18.2994526863569, 178.78855165386992, 28.700195356009385, 521.5599742462396, 445.590377965405, 481.0625421636692, 80.61344900061684, 39.486819430834835, 34.970074039552564, 30.26438272224211, 28.550032008439818, 23.9655519354405, 19.385973168169038, 15.154716511114774, 14.283747986363036, 13.886771914725259, 12.050472356437842, 10.220914070367998, 8.451289399257266, 8.395513793617779, 8.38863918946641, 8.386027039126756, 7.6724864378013, 6.5516159920089345, 27.632310846978495, 9.907088595085721, 4.717460188512147, 4.718328266733964, 4.719986857668703, 3.9494907553309866, 2.884713133012942, 2.8842529732287794, 39.44791775250079, 10.09072607437263, 8.344760668300058, 4.596031221360055, 229.4107039708499, 231.3866458044822, 302.67869108545455, 481.0625421636692, 1905.0138315582974, 81.05539173870964, 198.70209841923335, 179.25819667325422, 147.89145751744763, 521.5599742462396, 83.14830023057844, 445.590377965405, 107.1503843167339, 87.62645849939405, 228.54898530352423, 116.56825737926745, 80.78031330284315, 30.90441182551261, 32.68925719869399, 22.94552560232653, 19.31083695509605, 18.586715404722653, 100.16931369134363, 14.757827091261845, 12.785528358032598, 11.432649317743524, 11.403293607221771, 11.32856534058242, 10.814423557289848, 10.185073760101163, 8.32980004914811, 7.902409368469356, 7.901349971205952, 7.903919474605761, 8.931312117737937, 7.559800771024994, 6.918035917118347, 6.7604279674127294, 5.933373910529154, 5.93090439277808, 5.663937897044867, 5.525902923672274, 5.623593701784419, 6.546233109889438, 5.476675277370184, 5.340123062578161, 17.487443059159066, 23.340811801329828, 9.944486753617356, 11.69783865692669, 13.525659670002295, 1905.0138315582974, 302.67869108545455, 242.5270426491565, 21.410839453594125, 353.2015659983747, 179.25819667325422, 198.70209841923335, 66.13752301770302, 328.99536939807547, 45.94270542703147, 22.575344122597752, 18.989979791546254, 82.26025704716768, 15.401908532095408, 15.40217160535006, 13.950469355308304, 10.019553742021731, 81.1019682348098, 12.058431204870065, 9.396812225915243, 39.685166634759426, 5.667372256532343, 5.193041783561589, 4.466415338710931, 4.641732547918643, 3.095462057964667, 14.755166719111923, 14.858414428743291, 6.584147602337346, 9.127437789167793, 4.693764350531172, 8.13057226419396, 39.44791775250079, 10.596486056784691, 328.99536939807547, 6.70722266720129, 13.031902666901562, 15.755193377824742, 62.71024341140234, 353.2015659983747, 147.89145751744763, 109.82182145102989, 481.0625421636692, 1905.0138315582974, 445.590377965405, 116.56825737926745, 521.5599742462396, 108.25407449456448, 302.67869108545455, 229.4107039708499, 132.39708204376691, 87.62645849939405, 231.3866458044822, 24.733917195530605, 25.87625290015987, 16.794476934767136, 15.657262894722166, 32.85702016736084, 11.391928804657551, 9.232161051214797, 8.66497086969773, 8.728844659780698, 8.806486825482454, 6.8557882689027165, 4.9236437300215155, 5.1201698727321405, 4.291241087645257, 4.443005728704352, 3.4325784124453214, 81.05539173870964, 3.2050110415332864, 3.15279281272501, 3.0984600531097835, 19.31899036090494, 7.410653868784351, 4.055679110290265, 81.5072272209567, 4.60780116306587, 18.039730524778268, 5.005389178850701, 5.003108553982744, 28.872044156161813, 178.78855165386992, 198.70209841923335, 328.99536939807547, 108.25407449456448, 1905.0138315582974, 353.2015659983747, 481.0625421636692, 231.3866458044822, 229.4107039708499, 45.13520973400298, 107.1503843167339, 39.33344878762303, 302.67869108545455, 132.39708204376691, 60.409228817467024, 25.8102300299619, 10.76719148806765, 10.556973813900463, 9.529101345097263, 9.379622621772123, 12.160805013236079, 8.142706533802997, 8.229408966853965, 26.50121042422012, 15.686034538150823, 8.0728615838757, 6.598259334625775, 6.60296074395816, 6.6031259286688835, 6.605393210738237, 5.777919510360692, 5.438683735562625, 5.438601076730921, 5.439879367181393, 4.74945030949767, 16.296693703051574, 13.932697323698436, 4.126620468462994, 3.1608621683548486, 2.89930560087518, 21.584175243941008, 7.016001032094875, 71.76976136540574, 6.298664799491789, 23.485383435774835, 21.261842562606333, 81.5072272209567, 17.054068089271325, 18.48687980433462, 11.752305829562534, 1905.0138315582974, 521.5599742462396, 445.590377965405, 116.56825737926745, 37.28291667768849, 36.12212762948789, 353.2015659983747, 21.410839453594125, 481.0625421636692, 61.386313511225644, 55.173510438054855, 19.500860059351012, 43.438615147926136, 15.067039367550413, 13.990685036710488, 44.699850165183875, 11.257860436756935, 9.674557570239106, 8.42865368364712, 8.444545286137517, 8.445524002063035, 8.44474270278943, 7.474579020536148, 8.587730127142553, 5.971727497990695, 12.796297734922263, 4.7406553318247395, 4.743002429644142, 4.7433554309758215, 4.746535300933027, 4.649118962800678, 17.188455260795678, 2.8970030296774674, 2.8962662176752807, 2.9915755101970243, 7.059369419177194, 7.06113341844982, 4.472945180890553, 5.467761432748888, 69.58143052057588, 40.158365014842055, 1905.0138315582974, 242.5270426491565, 18.523276309968686, 353.2015659983747, 108.25407449456448, 82.50131433039373, 28.687635593949327, 20.784571933945774, 16.04262983158545, 15.113663564997658, 11.389628100809375, 12.21868312361534, 7.939555879314002, 6.634741034930224, 5.705149113350687, 5.664304377302915, 4.676755040572227, 4.409065787016907, 13.627487936063819, 3.7347669601836673, 20.002435751686942, 54.93263826107867, 7.884306160217573, 7.016001032094875, 10.97663789872014, 4.137121083025288, 3.9572261388148244, 9.93229514870736, 9.631481427702395, 18.48687980433462, 2.8690457954487885, 15.686034538150823, 18.2994526863569, 1905.0138315582974, 4.581618905242145, 81.5072272209567, 81.1019682348098, 147.89145751744763, 39.89148407371481, 18.463857348107855, 20.35086560152648, 12.977783502176834, 10.23301251777647, 9.282727148795253, 6.69972695775554, 5.572216515791766, 4.927394798976629, 36.12212762948789, 8.858852344316633, 11.974950873787861, 3.0820492831177084, 5.634954913797376, 7.884200826964015, 5.292638385059913, 5.467761432748888, 5.465719970467479, 7.410653868784351, 21.261842562606333, 21.584175243941008, 23.485383435774835, 14.755166719111923, 12.285736948207973, 5.380806288756142, 108.25407449456448, 28.872044156161813, 7.201535713327935, 5.106926900418788, 3.077542973472767, 8.931312117737937, 521.5599742462396, 1905.0138315582974, 481.0625421636692, 231.3866458044822, 302.67869108545455], \"loglift\": [30.0, 29.0, 28.0, 27.0, 26.0, 25.0, 24.0, 23.0, 22.0, 21.0, 20.0, 19.0, 18.0, 17.0, 16.0, 15.0, 14.0, 13.0, 12.0, 11.0, 10.0, 9.0, 8.0, 7.0, 6.0, 5.0, 4.0, 3.0, 2.0, 1.0, 1.7566, 1.7566, 1.7543, 1.7503, 1.7476, 1.7346, 1.7194, 1.7079, 1.7025, 1.6808, 1.6679, 1.6647, 1.6579, 1.647, 1.6467, 1.638, 1.6331, 1.6294, 1.6241, 1.6199, 1.6154, 1.6055, 1.5816, 1.5814, 1.581, 1.5494, 1.5488, 1.5406, 1.5213, 1.5088, 1.4977, 1.4548, 0.9023, 1.018, 0.7943, 0.7431, 0.547, 0.6901, 0.2087, -0.8133, -0.0251, 0.1832, 0.9976, -0.3054, -0.7942, 1.8255, 1.8094, 1.7974, 1.7944, 1.788, 1.7868, 1.7868, 1.7859, 1.7838, 1.7787, 1.7745, 1.7644, 1.7537, 1.7447, 1.7273, 1.726, 1.706, 1.6797, 1.6783, 1.6746, 1.6745, 1.6745, 1.6744, 1.6499, 1.6497, 1.649, 1.6488, 1.6454, 1.6453, 1.6293, 1.6292, 1.4625, 1.4256, 1.1552, 0.9704, 0.6194, 1.1346, 0.6923, 0.6255, 0.2622, 0.4673, 0.7173, 0.4582, -0.2833, -0.9633, -0.9601, -0.4459, 2.0434, 2.0316, 2.0272, 2.0161, 2.0027, 1.978, 1.9711, 1.9589, 1.9542, 1.9482, 1.948, 1.9427, 1.9343, 1.9134, 1.9074, 1.8977, 1.8875, 1.8644, 1.8525, 1.8203, 1.8143, 1.7935, 1.786, 1.784, 1.7829, 1.7342, 1.7275, 1.7199, 1.6963, 1.6846, 1.6661, 1.6618, 1.654, 1.6703, 1.6531, 1.6343, 0.828, 0.8093, 1.4238, 1.4215, -0.195, 0.3334, 1.0156, 1.1548, 0.6243, 0.4839, -0.258, -0.1073, -0.4067, -0.251, -0.314, -0.2082, 0.1845, 2.2434, 2.2429, 2.2381, 2.2358, 2.2118, 2.2019, 2.1953, 2.1911, 2.1908, 2.1897, 2.1784, 2.1774, 2.1761, 2.1729, 2.1686, 2.1674, 2.1635, 2.1608, 2.1603, 2.1562, 2.1542, 2.1526, 2.1413, 2.1328, 2.1313, 2.1304, 2.1272, 2.1266, 2.1239, 2.1057, 2.0896, 1.9381, 1.8188, 0.131, 1.7759, 0.6846, 1.464, -0.5276, -0.5473, -1.3637, 2.3867, 2.3744, 2.3627, 2.358, 2.3564, 2.3444, 2.3396, 2.334, 2.3302, 2.3278, 2.3075, 2.3013, 2.279, 2.2785, 2.2779, 2.2779, 2.2633, 2.2411, 2.1984, 2.1906, 2.1728, 2.1723, 2.172, 2.1148, 1.9889, 1.9871, 1.8196, 1.8093, 1.6497, 1.5273, 1.5246, 1.1182, 0.8446, 0.6605, 0.0407, 1.0973, 0.7283, 0.6944, 0.5106, -0.168, 0.6436, -0.7711, 0.2029, 0.2112, -0.6421, -0.0675, 2.5698, 2.5506, 2.5384, 2.5379, 2.5304, 2.5289, 2.5143, 2.5128, 2.5027, 2.494, 2.4937, 2.4919, 2.4865, 2.4829, 2.4586, 2.452, 2.4517, 2.4517, 2.4445, 2.4444, 2.4316, 2.4265, 2.403, 2.4026, 2.395, 2.3897, 2.3876, 2.3874, 2.3865, 2.3794, 2.357, 2.2947, 2.2812, 2.2283, 2.1723, 0.2047, 0.8917, 0.8042, 1.8634, -0.1808, 0.1933, -0.2438, 0.6077, -1.0236, 2.6126, 2.5901, 2.5815, 2.5751, 2.5697, 2.5691, 2.5622, 2.5325, 2.5307, 2.5223, 2.5183, 2.4586, 2.4459, 2.4224, 2.3919, 2.3745, 2.2552, 2.2466, 2.1383, 2.0761, 1.8279, 1.7216, 1.663, 1.6393, 1.6034, 1.4753, 1.463, 1.3888, 1.3751, 1.3145, 1.3069, 0.7841, 0.7393, 0.114, -0.6675, -0.1236, 0.4911, -0.2744, 0.4894, -0.2734, -0.4098, -0.2675, 0.0412, -0.8368, 2.7174, 2.7087, 2.6974, 2.6932, 2.6749, 2.6599, 2.6484, 2.6408, 2.6405, 2.6089, 2.5877, 2.5278, 2.5155, 2.503, 2.4818, 2.424, 2.4157, 2.394, 2.3937, 2.3862, 2.2077, 2.1134, 2.1123, 2.102, 1.9434, 1.9314, 1.8724, 1.8709, 1.8057, 1.4162, 1.2585, 0.9472, 1.0099, 0.0739, 0.565, 0.4025, 0.6445, 0.538, 1.1346, 0.5316, 1.032, -0.3967, 0.0422, 2.9701, 2.9197, 2.905, 2.9018, 2.8926, 2.8915, 2.8901, 2.8744, 2.8703, 2.8684, 2.8656, 2.8578, 2.842, 2.84, 2.8216, 2.8213, 2.8156, 2.7965, 2.7965, 2.7959, 2.7734, 2.7677, 2.726, 2.7249, 2.6277, 2.5971, 2.5611, 2.4835, 2.4807, 2.4663, 2.4575, 2.4583, 2.1699, 2.3008, 2.2588, 2.3344, -0.3292, 0.2534, 0.2904, 0.8126, 1.4488, 1.3853, -0.7902, 1.7395, -1.301, 3.1906, 3.1831, 3.1568, 3.1536, 3.1435, 3.1393, 3.1233, 3.1156, 3.1051, 3.0824, 3.0774, 3.0746, 3.0741, 3.0679, 3.0623, 3.0293, 3.0036, 2.9831, 2.9807, 2.9801, 2.9794, 2.978, 2.9349, 2.8039, 2.8038, 2.7757, 2.7533, 2.7517, 2.6465, 2.32, 1.6958, 1.6954, -0.2392, 0.5126, 1.837, -0.9564, -0.0436, 3.5358, 3.5144, 3.4988, 3.469, 3.4626, 3.4574, 3.4199, 3.4024, 3.3885, 3.3621, 3.3504, 3.3163, 3.2957, 2.9321, 2.8451, 2.6683, 2.4428, 2.2889, 2.262, 2.1891, 2.1403, 2.1354, 2.1274, 2.0963, 1.6705, 1.3624, 0.8389, 0.708, 0.393, 0.253, 0.0906, 0.0857, -0.7818, 3.872, 3.853, 3.8446, 3.8282, 3.809, 3.7572, 3.7523, 3.7174, 3.6907, 3.6516, 3.6331, 3.6199, 3.4938, 3.4248, 3.1877, 3.0754, 3.0643, 3.0643, 2.5513, 2.4191, 2.365, 2.282, 2.0264, 1.5536, 1.3557, 1.2547, 0.8596, 0.8535, 0.6286, 0.5755, 0.3565, -0.5187, -1.454, -1.0853, -0.7461, -1.6445], \"logprob\": [30.0, 29.0, 28.0, 27.0, 26.0, 25.0, 24.0, 23.0, 22.0, 21.0, 20.0, 19.0, 18.0, 17.0, 16.0, 15.0, 14.0, 13.0, 12.0, 11.0, 10.0, 9.0, 8.0, 7.0, 6.0, 5.0, 4.0, 3.0, 2.0, 1.0, -2.9255, -2.9137, -3.2275, -3.5019, -3.7273, -4.2995, -4.5584, -4.9465, -5.0484, -5.3451, -5.4979, -5.485, -5.6054, -5.7092, -5.7092, -5.76, -5.8152, -5.8479, -5.8988, -5.8823, -5.9642, -6.0308, -6.1829, -6.1828, -6.183, -6.3616, -6.3623, -4.9859, -6.5, -2.5827, -3.1397, -3.6478, -2.5215, -3.3189, -2.472, -2.984, -3.1091, -4.0746, -3.1385, -2.7843, -4.1042, -4.3435, -5.5297, -5.1544, -5.0256, -3.3755, -3.7209, -4.5359, -4.6252, -3.8748, -4.7854, -4.7854, -4.8067, -4.8438, -4.939, -5.0077, -5.1612, -5.2877, -5.4004, -5.5814, -5.5992, -4.6467, -5.9645, -5.9731, -5.999, -5.9989, -5.9989, -5.9989, -6.0262, -6.0261, -6.1568, -6.1569, -6.1778, -6.1779, -6.1953, -4.3599, -2.8718, -3.6245, -3.6938, -2.8401, -1.3516, -4.0349, -3.5391, -3.4622, -3.085, -3.6118, -4.1214, -4.0685, -3.9394, -4.2296, -4.3839, -5.2106, -3.8414, -3.6805, -4.0254, -4.5887, -4.8172, -5.1507, -5.2233, -4.6581, -5.3893, -5.357, -5.4441, -5.4276, -5.5289, -5.6907, -4.5138, -2.9267, -5.8665, -6.0099, -6.0672, -6.2087, -4.798, -6.3263, -6.3683, -3.4967, -6.3716, -3.6504, -4.1028, -4.2344, -4.9078, -6.7289, -4.0474, -4.2428, -4.1971, -4.6728, -5.1129, -5.2586, -2.4384, -2.6145, -4.7365, -4.7448, -2.1659, -3.0137, -4.1538, -4.3623, -4.1404, -4.0428, -3.9852, -4.1864, -4.0628, -4.3424, -4.4017, -4.4395, -4.6542, -3.3968, -3.1651, -3.4286, -3.4642, -2.7664, -4.6537, -4.7435, -4.7802, -4.6305, -4.7925, -4.9552, -4.9562, -4.9573, -4.8493, -5.0631, -5.074, -5.029, -5.1346, -4.8907, -5.1808, -5.2015, -4.6838, -5.3059, -3.7509, -5.3851, -5.3861, -5.2738, -5.3678, -5.4424, -3.2257, -4.0047, -2.094, -4.6634, -1.8399, -4.8404, -3.6523, -4.7022, -3.794, -3.9711, -4.7108, -2.7468, -3.4728, -3.606, -3.7552, -3.8151, -4.0022, -4.219, -4.4708, -4.5339, -4.5644, -4.7266, -4.8974, -5.1099, -5.117, -5.1184, -5.1187, -5.2222, -5.4023, -4.0058, -5.0393, -5.7991, -5.7994, -5.7994, -6.0348, -6.4749, -6.4768, -4.0286, -5.4023, -5.7519, -6.4707, -2.563, -2.9609, -2.9659, -2.6867, -1.9302, -4.0308, -3.5031, -3.6399, -4.0161, -3.4344, -4.459, -4.1949, -4.646, -4.8389, -4.7336, -4.8322, -2.5616, -3.5416, -3.4977, -3.8522, -4.0321, -4.0719, -2.4021, -4.3187, -4.4721, -4.5927, -4.5956, -4.604, -4.6558, -4.7194, -4.9448, -5.004, -5.0044, -5.0041, -4.8892, -5.0559, -5.1574, -5.1856, -5.3396, -5.3404, -5.3941, -5.424, -5.4086, -5.2569, -5.4362, -5.4685, -4.3047, -4.0782, -4.9449, -4.8355, -4.7463, -1.7663, -2.9188, -3.2279, -4.5959, -3.8369, -4.141, -4.4752, -4.7238, -4.7507, -3.0832, -3.8162, -3.9977, -2.5382, -4.219, -4.2196, -4.3254, -4.6861, -2.5968, -4.5112, -4.7645, -3.3836, -5.3426, -5.4534, -5.6347, -5.6136, -6.138, -4.585, -4.6863, -5.5624, -5.484, -6.2554, -5.7645, -4.2089, -5.5593, -2.2519, -6.157, -5.567, -5.3909, -4.0702, -2.3493, -3.7426, -4.0851, -3.2332, -2.6385, -3.5473, -4.2736, -3.5408, -4.3493, -4.0839, -4.4975, -4.9048, -5.0089, -4.9159, -3.5976, -3.5611, -4.0047, -4.079, -3.3562, -4.4304, -4.6521, -4.7231, -4.716, -4.7388, -5.0103, -5.4013, -5.3744, -5.5636, -5.5501, -5.8659, -2.7123, -5.9645, -5.9812, -6.006, -4.3544, -5.4069, -6.0108, -3.0205, -6.0521, -4.6992, -6.0402, -6.0422, -4.3546, -2.9208, -2.9729, -2.78, -3.8287, -1.897, -3.0911, -2.9447, -3.4346, -3.5496, -4.5789, -4.3174, -4.8191, -4.2072, -4.5952, -2.452, -3.3527, -4.2416, -4.2646, -4.3763, -4.3931, -4.1348, -4.5516, -4.5452, -3.3776, -3.9048, -4.5769, -4.7944, -4.7956, -4.8141, -4.814, -4.9535, -5.0331, -5.0331, -5.0335, -5.1918, -3.9645, -4.1629, -5.3808, -5.7446, -5.8616, -3.8901, -5.0915, -2.769, -5.2165, -3.9093, -4.008, -2.9526, -4.386, -4.3474, -4.7247, -2.3001, -3.013, -3.1334, -3.9521, -4.4559, -4.5509, -4.4463, -4.7198, -4.6482, -2.2154, -2.3296, -3.3959, -2.5983, -3.6672, -3.7455, -2.5999, -3.9865, -4.1486, -4.3091, -4.3123, -4.315, -4.3156, -4.4437, -4.3106, -4.7068, -3.9704, -4.9839, -4.9858, -4.9863, -4.9864, -5.0085, -3.744, -5.6556, -5.656, -5.6517, -4.8155, -4.8169, -5.3786, -5.5043, -3.5849, -4.135, -2.2101, -3.5195, -4.7672, -4.6126, -4.8823, -1.5746, -2.6523, -2.9901, -3.2789, -3.345, -3.633, -3.6003, -4.0489, -4.2424, -4.4197, -4.4386, -4.6642, -4.7438, -3.979, -5.3604, -3.859, -3.0743, -5.1694, -5.313, -4.9383, -5.9628, -6.0122, -5.0999, -5.1619, -4.9357, -7.1068, -5.9315, -5.9083, -1.5779, -7.7482, -5.0318, -5.0417, -5.3085, -1.965, -2.7543, -2.6654, -3.1317, -3.3886, -3.5379, -3.8688, -4.088, -4.2377, -2.2846, -3.7086, -3.4205, -4.9038, -4.3694, -4.2706, -4.7814, -4.76, -4.7604, -4.969, -4.0472, -4.0862, -4.0848, -4.8052, -5.4611, -6.4847, -3.584, -5.3008, -6.6953, -7.264, -7.8236, -6.9771, -3.785, -3.425, -4.4325, -4.8252, -5.455]}, \"token.table\": {\"Topic\": [5, 4, 6, 5, 5, 6, 3, 7, 12, 3, 9, 3, 9, 1, 2, 3, 4, 5, 7, 8, 6, 2, 5, 4, 5, 1, 2, 3, 5, 7, 9, 6, 4, 1, 4, 4, 4, 9, 12, 11, 4, 4, 2, 6, 10, 3, 8, 12, 4, 9, 7, 2, 1, 11, 5, 1, 4, 9, 6, 8, 9, 6, 6, 3, 1, 1, 3, 10, 11, 3, 10, 3, 10, 6, 11, 1, 10, 10, 3, 5, 1, 8, 12, 5, 6, 7, 9, 11, 10, 12, 4, 3, 9, 10, 12, 7, 10, 12, 10, 12, 4, 7, 5, 4, 8, 10, 2, 1, 2, 3, 4, 5, 6, 7, 8, 9, 10, 3, 7, 6, 2, 11, 1, 2, 3, 1, 8, 1, 1, 1, 2, 7, 6, 2, 6, 6, 1, 5, 7, 10, 5, 5, 9, 2, 2, 1, 2, 3, 5, 7, 8, 1, 2, 3, 4, 5, 7, 8, 10, 12, 10, 9, 1, 8, 11, 8, 2, 9, 8, 8, 1, 5, 2, 4, 6, 3, 1, 2, 5, 7, 8, 7, 11, 4, 9, 9, 2, 2, 5, 2, 6, 8, 4, 1, 2, 3, 4, 5, 7, 9, 2, 5, 6, 7, 10, 6, 11, 5, 4, 4, 2, 2, 4, 6, 7, 7, 1, 1, 4, 10, 10, 10, 5, 6, 5, 10, 3, 4, 8, 10, 3, 7, 7, 2, 11, 7, 9, 4, 1, 2, 6, 1, 1, 6, 1, 2, 3, 4, 5, 6, 7, 8, 9, 10, 12, 1, 3, 4, 5, 6, 10, 1, 2, 3, 4, 5, 7, 8, 9, 11, 12, 1, 3, 8, 1, 2, 3, 4, 5, 6, 7, 8, 12, 1, 2, 3, 5, 6, 7, 8, 3, 7, 3, 8, 4, 3, 5, 3, 3, 2, 9, 3, 1, 3, 3, 6, 7, 9, 1, 3, 4, 11, 5, 3, 4, 5, 9, 1, 3, 9, 9, 11, 1, 2, 3, 4, 5, 7, 11, 6, 11, 1, 3, 3, 9, 2, 2, 3, 9, 12, 3, 1, 3, 6, 9, 11, 11, 9, 5, 11, 5, 2, 4, 8, 11, 9, 11, 3, 9, 11, 10, 6, 12, 5, 9, 7, 8, 2, 5, 9, 6, 8, 12, 4, 8, 5, 6, 10, 9, 5, 8, 3, 9, 9, 3, 10, 8, 8, 8, 8, 12, 12, 4, 1, 2, 11, 4, 2, 2, 5, 8, 1, 2, 3, 5, 7, 3, 7, 2, 2, 2, 9, 7, 4, 5, 8, 2, 2, 3, 8, 7, 4, 9, 12, 3, 1, 2, 3, 5, 2, 4, 11, 10, 5, 9, 3, 6, 6, 10, 4, 11, 8, 12, 6, 4, 12, 1, 7, 10, 4, 7, 12, 2, 10, 8, 9, 1, 2, 3, 4, 5, 6, 7, 8, 9, 10, 11, 12, 1, 9, 10, 1, 7, 5, 5, 5, 2, 10, 6, 6, 6, 5, 2, 4, 8, 2, 4, 8, 10, 4, 7, 1, 2, 3, 5, 7, 1, 3, 4, 8, 10, 3, 10, 9, 12, 9, 12, 1, 4, 6, 9, 2, 4, 11, 4, 1, 7, 1, 3, 9, 1, 2, 3, 5, 6, 7, 8, 9, 11, 3, 11, 11, 2, 6, 10, 1, 1, 11, 9, 11, 8, 2, 10, 10, 4, 4, 5, 3, 4, 8, 6, 3, 8, 1, 3, 10, 10, 12, 12, 7, 10, 7, 10, 10, 10, 2, 2, 4, 6, 6, 6, 4, 8, 10, 3, 4, 4, 1, 3, 9, 9, 6, 11, 1, 2, 10, 1, 3, 4, 1, 2, 3, 4, 8, 11, 3, 4, 12, 4, 9, 9, 3, 1, 1, 6, 4, 5, 6, 5, 2, 5, 2, 5, 6, 3, 4, 4, 2, 4, 6, 8, 1, 2, 3, 5, 7, 8, 8, 3, 9, 11, 8, 9, 11, 12, 8, 3, 12, 2, 3, 1, 7, 1, 3, 10, 8, 3, 6, 1, 2, 3, 5, 6, 7, 8, 9, 10, 12, 1, 1, 4, 9, 12, 3, 7, 1, 9, 3, 9, 4, 4, 9, 6, 7, 6, 7, 5, 3], \"Freq\": [0.6934204518687203, 0.8383328734746904, 0.8957250507584082, 0.8337786313115654, 0.8282759788837888, 0.7637980371408508, 0.6347113462964464, 0.25388453851857856, 0.8117880062768179, 0.912275667898173, 0.9093307334123287, 0.9723987891984536, 0.8422027264925873, 0.7628566917102608, 0.045318219309520444, 0.052871255861107185, 0.007553036551586741, 0.007553036551586741, 0.052871255861107185, 0.06797732896428066, 0.8859245604244027, 0.3964035858786001, 0.5946053788179001, 0.9283937458208579, 0.8477578866653989, 0.3431465898118016, 0.10294397694354047, 0.23162394812296605, 0.0857866474529504, 0.12010130643413056, 0.11152264168883551, 0.968433615518018, 0.8988062839474478, 0.12969611032600875, 0.8430247171190569, 0.9676114517285574, 0.17031870103116462, 0.5961154536090761, 0.21289837628895578, 0.9622521966562902, 0.9167427748076464, 0.9454784067714511, 0.9605682716525572, 0.06711431892755337, 0.9172290253432295, 0.5195337025279081, 0.3809913818537993, 0.03463558016852721, 0.8477809426209185, 0.7269871370354987, 0.908962733225034, 0.9273303859016073, 0.08184188016687953, 0.9002606818356749, 0.9457082216937058, 0.8908216787026403, 0.8852917136236882, 0.06809936258643756, 0.6654019263814933, 0.07393354737572148, 0.22180064212716444, 0.8858057933482955, 0.8836460306508971, 0.7690713870414199, 0.9377945706010357, 0.9158674578368508, 0.1745357540559538, 0.7563216009091333, 0.9760302450964499, 0.28331142361906747, 0.5666228472381349, 0.2832406472839419, 0.5664812945678838, 0.9048295037143392, 0.8552938875991627, 0.9913071977047477, 0.8882682509857718, 0.9230362120038227, 0.8749894106287677, 0.05468683816429798, 0.8609101479442496, 0.17746370916854481, 0.5323911275056344, 0.8479138858957856, 0.8827243079206959, 0.9001014597900676, 0.049320627933702336, 0.03699047095027675, 0.9774165700474564, 0.8795063999350613, 0.8066144996461572, 0.6485139787560216, 0.14411421750133813, 0.14411421750133813, 0.9207176853401183, 0.8982435976419039, 0.36591702663262154, 0.36591702663262154, 0.3657804065885352, 0.3657804065885352, 0.12599165945344934, 0.8315449523927657, 0.9876713435558528, 0.24656783064092808, 0.49313566128185615, 0.9787305460765924, 0.8934086651566767, 0.29444943061344914, 0.11891227005543138, 0.08493733575387956, 0.005662489050258637, 0.014156222625646593, 0.06228737955284501, 0.26613698536215596, 0.11041853648004342, 0.02264995620103455, 0.014156222625646593, 0.8047987598883661, 0.8513525446360407, 0.8430417469026107, 0.5054045257567699, 0.25270226287838493, 0.0839735517826792, 0.8817222937181317, 0.8309898867716943, 0.9650426458950863, 0.923257575853694, 0.8789916349726877, 0.8610492824173673, 0.7978298518562196, 0.9164851814693497, 0.8617471943301868, 0.8891111743036225, 0.2564576318740383, 0.6838870183307689, 0.8426908661743326, 0.7979362912910435, 0.5576973704424567, 0.38024820711985685, 0.05069976094931425, 0.9128272879795756, 0.8805474674806615, 0.8671026905727486, 0.9776833801568455, 0.9134718309680256, 0.03487195610984447, 0.29641162693367795, 0.09153888478834173, 0.4184634733181336, 0.047948939651036145, 0.10897486284326396, 0.16854905288248284, 0.25498446461708946, 0.11236603525498856, 0.017287082346921317, 0.27659331755074107, 0.030252394107112307, 0.12100957642844923, 0.008643541173460658, 0.008643541173460658, 0.8433476599125656, 0.9086605442355289, 0.4499452022607281, 0.09998782272460624, 0.39995129089842496, 0.6343582083566625, 0.7863569492995566, 0.9086832759819325, 0.8778144747456229, 0.6454819380332791, 0.10093782753654153, 0.8075026202923322, 0.8736888072633143, 0.9053192115572286, 0.8875177768214945, 0.9378830845334827, 0.07988454765689756, 0.6619005377285798, 0.11412078236699652, 0.07988454765689756, 0.06847246942019791, 0.9089782588194165, 0.8779917931902776, 0.31752761317944256, 0.6350552263588851, 0.8653633874674502, 0.9194830198241605, 0.8172472021029444, 0.17512440045063096, 0.05989858349721831, 0.9384111414564202, 0.5826523853755835, 0.918947432423305, 0.42191216259745185, 0.060593768032612766, 0.28277091748552624, 0.060593768032612766, 0.042640058985912686, 0.06283798166345028, 0.0673264089251253, 0.6861610921156384, 0.18409200032370784, 0.08925672742967652, 0.01673563639306435, 0.01673563639306435, 0.5073369702692542, 0.2536684851346271, 0.9285063919079003, 0.8750192315058207, 0.9391285320136074, 0.7317693073881543, 0.7882630608622763, 0.8467205520383715, 0.13608008872045257, 0.8822430879208412, 0.6461070956608795, 0.9916684634455273, 0.9467351557030526, 0.22356634377551263, 0.6706990313265379, 0.8372786604349157, 0.6685440475036782, 0.4351580534755726, 0.2175790267377863, 0.9158045903969729, 0.6905442558403079, 0.7633103024767159, 0.03043489625371961, 0.9130468876115883, 0.03043489625371961, 0.33650966083753897, 0.6057173895075701, 0.9478683072644994, 0.6229571271084628, 0.20765237570282094, 0.9745144915854533, 0.735483250851771, 0.6498690732312199, 0.11436777768105429, 0.05718388884052714, 0.8005744437673801, 0.811771055141847, 0.9769713059512836, 0.8827780408059782, 0.20995191092146462, 0.20579444733886137, 0.17669220226063856, 0.02702351328692119, 0.17669220226063856, 0.00623619537390489, 0.08107053986076357, 0.09562166239987498, 0.01455112253911141, 0.00207873179130163, 0.00623619537390489, 0.004123251531362694, 0.03710926378226425, 0.7174457664571088, 0.004123251531362694, 0.16905331278587046, 0.0659720245018031, 0.379630358495493, 0.06135440137300896, 0.289516081478886, 0.06135440137300896, 0.0766930017162612, 0.05368510120138284, 0.00191732504290653, 0.0632717264159155, 0.00191732504290653, 0.01150395025743918, 0.110778260020651, 0.664669560123906, 0.1994008680371718, 0.02312683451516482, 0.41958685477513313, 0.05286133603466244, 0.0033038335021664026, 0.21144534413864977, 0.18501467612131856, 0.056165169536828846, 0.042949835528163234, 0.0033038335021664026, 0.07548989225243168, 0.31705754746021303, 0.1006531896699089, 0.18620840088933147, 0.06039191380194534, 0.03019595690097267, 0.22143701727379958, 0.5662254418914971, 0.37748362792766477, 0.4340465070479017, 0.4340465070479017, 0.6970958787666027, 0.1447580704397507, 0.8323589050285665, 0.76318564994021, 0.6593199330576239, 0.9477327232295731, 0.021060727182879404, 0.9291895154549925, 0.022125643291175136, 0.9514026615205309, 0.0467053149488791, 0.46705314948879095, 0.1868212597955164, 0.28023188969327456, 0.10922468299235447, 0.4004905043052997, 0.14563291065647263, 0.3276740489770634, 0.9123509121517569, 0.6705483966323093, 0.05364387173058474, 0.05364387173058474, 0.21457548692233896, 0.23454814294522436, 0.23454814294522436, 0.4690962858904487, 0.8925136538460291, 0.06375097527471636, 0.20285147298964662, 0.2501834833538975, 0.20285147298964662, 0.013523431532643109, 0.1487577468590742, 0.15551946262539573, 0.013523431532643109, 0.637718039402228, 0.27330773117238344, 0.9092212291259297, 0.9640290998338745, 0.016553762058800773, 0.9766719614692457, 0.8730538446624894, 0.7884941089216996, 0.8921958914697291, 0.19378703468966288, 0.7751481387586515, 0.904674088253231, 0.1114675574754821, 0.1950682255820937, 0.08360066810661158, 0.5991381214307163, 0.9350087957815573, 0.9263141223034211, 0.9287472978521963, 0.2677543232713032, 0.5355086465426064, 0.6933098397590396, 0.21858577240302862, 0.6011108741083286, 0.054646443100757155, 0.054646443100757155, 0.5701253437252786, 0.2850626718626393, 0.14676219193026727, 0.2201432878954009, 0.5136676717559354, 0.6903686256146809, 0.9903403035846398, 0.9336212214273012, 0.1840864198998995, 0.7977078195662312, 0.895572779658789, 0.8124064654821239, 0.9411927793704836, 0.14354722230261582, 0.789509722664387, 0.1349408591611958, 0.5397634366447832, 0.2698817183223916, 0.39956932988360055, 0.39956932988360055, 0.47934268686639936, 0.3595070151497995, 0.8603780699107683, 0.9083486491380918, 0.9923902399882165, 0.8665360098919997, 0.03874432730119593, 0.9298638552287024, 0.9045453806740069, 0.7619968370243696, 0.16328503650522205, 0.9580218522776596, 0.9526941542833973, 0.9165015889056949, 0.699098451643088, 0.9776522710444302, 0.9246571263873508, 0.8621261722662685, 0.8613611176247388, 0.9230933133120616, 0.881661406053964, 0.7832499031211871, 0.9411523029985035, 0.05176253941425736, 0.31057523648554414, 0.5693879335568309, 0.06429267775679859, 0.48862435095166923, 0.34718045988671237, 0.06429267775679859, 0.025717071102719435, 0.8377205803404314, 0.1547961941933406, 0.9676559289828247, 0.9675953741458464, 0.7865269463421002, 0.9472411484845127, 0.9122248004829522, 0.012337242206213775, 0.27141932853670303, 0.715560047960399, 0.8976275189294632, 0.8975592851353631, 0.49889880492605765, 0.4434656043787179, 0.9794808464527905, 0.14109783717786367, 0.5643913487114547, 0.23516306196310613, 0.8804762125750962, 0.7336289476855327, 0.048106816241674275, 0.03608011218125571, 0.16837385684585995, 0.9135186464833756, 0.9793209353819574, 0.016322015589699288, 0.8027207931731282, 0.9722598803063622, 0.7354720727452274, 0.20111646277496323, 0.7039076197123713, 0.840356306117563, 0.8427199517959384, 0.9616856602258068, 0.021856492277859248, 0.11288143894186775, 0.7901700725930743, 0.970735187240613, 0.3805078112343335, 0.5073437483124448, 0.9739093243614835, 0.6075197947536923, 0.30375989737684617, 0.06777287027904132, 0.6777287027904132, 0.13554574055808263, 0.7863389330803544, 0.8305003696594004, 0.908421276104246, 0.7353104232663437, 0.07611493291961575, 0.2955359119568529, 0.10393625322816497, 0.11758444809650986, 0.09448750293469542, 0.09291271121911716, 0.03674514003015933, 0.06824097434172448, 0.035695278886440494, 0.03149583431156514, 0.042519376320612944, 0.004724375146734771, 0.9048542684680283, 0.9444752106273393, 0.8289374694326208, 0.8591410213670071, 0.7702614703894497, 0.9101252705110273, 0.8347218494932156, 0.8344619242641739, 0.9426799111110342, 0.8432848978338324, 0.9486491414640197, 0.9321191019247809, 0.8769396232740112, 0.7595915994867509, 0.14337470210155412, 0.6212903757734012, 0.14337470210155412, 0.0318620394099516, 0.945240502495231, 0.010620679803317202, 0.010620679803317202, 0.5963720303427875, 0.29818601517139376, 0.7744510428035168, 0.04812972582394738, 0.09625945164789476, 0.04812972582394738, 0.026252577722153114, 0.07627096256415744, 0.6610150088893645, 0.025423654188052484, 0.1779655793163674, 0.05084730837610497, 0.7018196879676075, 0.2699306492183106, 0.16701529894187944, 0.7515688452384575, 0.6327387571729998, 0.6489188900888893, 0.27771854221295955, 0.13885927110647978, 0.13885927110647978, 0.4165778133194393, 0.2013633274138345, 0.5034083185345862, 0.2013633274138345, 0.9164528119696288, 0.04862615488432545, 0.9482100202443463, 0.9913433495390777, 0.34035873963883184, 0.5105381094582477, 0.3586676621494426, 0.02431645167114865, 0.0972658066845946, 0.0060791129177871625, 0.02735600813004223, 0.3130743152660389, 0.1641360487802534, 0.0060791129177871625, 0.0030395564588935812, 0.8706269840984543, 0.9043306993312212, 0.8827209251033882, 0.21421705648280528, 0.771181403338099, 0.8437652012259554, 0.9952087293088613, 0.9162082240315289, 0.8764012825360588, 0.4834279586850988, 0.2417139793425494, 0.8751728852560251, 0.8881882514152603, 0.8288414073881113, 0.8289180909784014, 0.9020845301838062, 0.9157057593338481, 0.9238048095279194, 0.8766922347509589, 0.3997514701950435, 0.3997514701950435, 0.9483237814666075, 0.673301925757156, 0.6752185757083967, 0.01437165048948355, 0.7473258254531446, 0.21557475734225326, 0.8151164389616365, 0.897308994693567, 0.8955588843892298, 0.4260972325493224, 0.4260972325493224, 0.9318682883635998, 0.9291896691183451, 0.9291805548840288, 0.9302750988516332, 0.9820545547054988, 0.7863999525928597, 0.8780559565246255, 0.9385611344298427, 0.9246909876448425, 0.9259503275310397, 0.9205080034241643, 0.07814760337053653, 0.7814760337053653, 0.8542313368334312, 0.08991908808772961, 0.935259093410574, 0.11275088655106884, 0.7046930409441803, 0.14093860818883605, 0.6898203484987174, 0.9587925934357041, 0.6804162480029007, 0.8359328297909763, 0.02302099172808787, 0.9438606608516027, 0.7992574629298548, 0.14986077429934777, 0.9166710159667596, 0.4754219395689151, 0.02237279715618424, 0.03355919573427636, 0.20694837369470423, 0.26288036658516484, 0.98180254044946, 0.24418559608160806, 0.5697663908570855, 0.08139519869386935, 0.806557766153732, 0.8529127793937336, 0.8596650230412635, 0.7372830708626381, 0.9773510874569874, 0.9393344229308295, 0.8856365531670795, 0.972601814494604, 0.021143517706404436, 0.8672981857687799, 0.959710840875205, 0.9469757244147289, 0.8474599867796414, 0.9394679134742051, 0.9361426888717785, 0.7490464083179458, 0.5226445260714655, 0.4529585892619368, 0.9024629422616155, 0.1050642833469355, 0.866780337612218, 0.9129626546711975, 0.9703274984819945, 0.130657487504817, 0.5039645946614371, 0.093326776789155, 0.111992132146986, 0.055996066073493, 0.111992132146986, 0.9661367933162203, 0.32455449829847327, 0.48683174744770985, 0.16227724914923664, 0.5152917285008708, 0.4416786244293178, 0.036806552035776485, 0.8618157004688294, 0.6240228111798312, 0.3778833644946555, 0.3778833644946555, 0.2910710277718793, 0.6653052063357242, 0.6138781269690118, 0.3069390634845059, 0.04980282437446903, 0.7221409534298009, 0.2241127096851106, 0.7812240803380974, 0.9729390341916003, 0.8746878979730407, 0.06466269313818276, 0.3233134656909138, 0.14780044145870347, 0.03695011036467587, 0.009237527591168967, 0.12008785868519656, 0.17551302423221035, 0.009237527591168967, 0.03695011036467587, 0.07390022072935173, 0.9315740075988657, 0.9054712310667693, 0.09266047821592947, 0.6486233475115063, 0.2316511955398237, 0.7175861159521164, 0.2710880882485773, 0.9277506193480249, 0.8506078660319688, 0.0754682509962696, 0.8678848864571003, 0.9100243009982377, 0.5575372609619621, 0.37169150730797473, 0.4382390866303243, 0.4382390866303243, 0.49197029065414105, 0.36897771799060575, 0.958222087863273, 0.852384575156388], \"Term\": [\"__author__\", \"__file__\", \"__init__\", \"a1\", \"a2\", \"abs\", \"add\", \"add\", \"age\", \"all\", \"american\", \"amount\", \"anamerican\", \"and\", \"and\", \"and\", \"and\", \"and\", \"and\", \"and\", \"angle\", \"ans\", \"ans\", \"answer\", \"answers\", \"append\", \"append\", \"append\", \"append\", \"append\", \"append\", \"area\", \"argv\", \"array\", \"array\", \"array_num\", \"as\", \"as\", \"as\", \"ast\", \"base_url\", \"beautifulsoup\", \"binarystring\", \"board\", \"board\", \"break\", \"break\", \"break\", \"bs4\", \"chain\", \"chances\", \"channelschedule\", \"char\", \"char\", \"character\", \"chars\", \"choice\", \"choice\", \"class\", \"class\", \"class\", \"cmath\", \"cn\", \"code\", \"col\", \"col_num\", \"collections\", \"collections\", \"color\", \"color1\", \"color1\", \"color2\", \"color2\", \"color_list\", \"colors\", \"column\", \"connect\", \"context\", \"continue\", \"continue\", \"convert_input_to_coordinate\", \"copy\", \"copy\", \"correctanswer\", \"cos\", \"count\", \"count\", \"count\", \"counter\", \"counter_dict\", \"ctime\", \"ctr\", \"ctr\", \"ctr\", \"current\", \"currentguess\", \"d1\", \"d1\", \"d2\", \"d2\", \"data\", \"data\", \"day\", \"days\", \"days\", \"decimal\", \"decimalnumber\", \"def\", \"def\", \"def\", \"def\", \"def\", \"def\", \"def\", \"def\", \"def\", \"def\", \"defaultdict\", \"degree\", \"degreesfromnorth\", \"del\", \"del\", \"denary\", \"denary\", \"dic\", \"dict\", \"difference\", \"digits\", \"display_game\", \"display_winner\", \"displaylist\", \"displayresult\", \"dist\", \"distance\", \"distance\", \"distanceinstraightline\", \"draw_line\", \"each\", \"each\", \"each\", \"eachchar\", \"eachnumber\", \"elem\", \"element\", \"element_to_find\", \"elif\", \"elif\", \"elif\", \"elif\", \"elif\", \"elif\", \"else\", \"else\", \"else\", \"else\", \"else\", \"else\", \"else\", \"else\", \"else\", \"emailaddress\", \"encoding\", \"end\", \"end\", \"end\", \"error\", \"euroholidaymoney\", \"evennumbers\", \"except\", \"exception\", \"exit\", \"exit\", \"exitlist\", \"f1\", \"fabs\", \"fact\", \"false\", \"false\", \"false\", \"false\", \"false\", \"fib\", \"file\", \"filename\", \"filename\", \"filter\", \"find\", \"finished\", \"finished\", \"float\", \"float\", \"floor\", \"fn\", \"for\", \"for\", \"for\", \"for\", \"for\", \"for\", \"for\", \"format\", \"format\", \"format\", \"format\", \"format\", \"formula\", \"formula\", \"found\", \"fraction\", \"fractions\", \"fridgeh\", \"fridgev\", \"from\", \"from\", \"func\", \"functools\", \"game\", \"game_slices\", \"getattr\", \"getattr\", \"getcontext\", \"gethostname\", \"getstring\", \"getstring\", \"givenanswer\", \"group\", \"groupby\", \"guess\", \"guess\", \"guess\", \"guessed\", \"guessed\", \"guessedcharacters\", \"guesses\", \"guesses\", \"hangman\", \"happieslist\", \"heapq\", \"height\", \"height\", \"height\", \"hexnumber\", \"hexseg\", \"id\", \"if\", \"if\", \"if\", \"if\", \"if\", \"if\", \"if\", \"if\", \"if\", \"if\", \"if\", \"import\", \"import\", \"import\", \"import\", \"import\", \"import\", \"in\", \"in\", \"in\", \"in\", \"in\", \"in\", \"in\", \"in\", \"in\", \"in\", \"index\", \"index\", \"index\", \"input\", \"input\", \"input\", \"input\", \"input\", \"input\", \"input\", \"input\", \"input\", \"int\", \"int\", \"int\", \"int\", \"int\", \"int\", \"int\", \"is\", \"is\", \"is_prime\", \"is_prime\", \"isdir\", \"isinstance\", \"isinstance\", \"islower\", \"isupper\", \"item\", \"item\", \"itemgetter\", \"items\", \"items\", \"itertools\", \"itertools\", \"itertools\", \"itertools\", \"join\", \"join\", \"join\", \"join\", \"json\", \"key\", \"key\", \"key\", \"key\", \"keys\", \"keys\", \"keys\", \"lambda\", \"lambda\", \"len\", \"len\", \"len\", \"len\", \"len\", \"len\", \"len\", \"length\", \"length\", \"lengthhex\", \"letter\", \"li\", \"li\", \"liftspace\", \"liftv\", \"limit\", \"line\", \"line\", \"lines\", \"list\", \"list\", \"list\", \"list\", \"list1\", \"list2\", \"listx\", \"ljust\", \"ljust\", \"load\", \"lower\", \"lower\", \"lower\", \"lower\", \"lst\", \"lst\", \"map\", \"map\", \"map\", \"match\", \"math\", \"matrix\", \"max\", \"max\", \"max_of_three\", \"maximum\", \"menuchoice\", \"min\", \"min\", \"minimum\", \"minimum\", \"minimum\", \"minutes\", \"minutes\", \"mn\", \"mn\", \"mod\", \"mode\", \"month\", \"multiply\", \"my_dict\", \"my_dict\", \"my_file\", \"my_list\", \"my_list\", \"n1\", \"n2\", \"n3\", \"n4\", \"name\", \"names\", \"new_list\", \"new_row\", \"newitem\", \"next\", \"nlargest\", \"nomoreswaps\", \"none\", \"none\", \"none\", \"not\", \"not\", \"not\", \"not\", \"not\", \"num\", \"num\", \"num1\", \"num2\", \"num3\", \"num_list\", \"num_set\", \"number\", \"number\", \"number\", \"number1\", \"number2\", \"numbers\", \"numbers\", \"nums\", \"open\", \"open\", \"open\", \"operator\", \"or\", \"or\", \"or\", \"or\", \"ordered_list\", \"os\", \"os\", \"output\", \"outputstr\", \"overlaplist\", \"p1\", \"p1\", \"p2\", \"pat2\", \"path\", \"path\", \"person\", \"person\", \"pi\", \"platform\", \"platform\", \"player\", \"playgame\", \"playgame\", \"pop\", \"pop\", \"pop\", \"positionvalue\", \"prec\", \"prime\", \"primeslist\", \"print\", \"print\", \"print\", \"print\", \"print\", \"print\", \"print\", \"print\", \"print\", \"print\", \"print\", \"print\", \"printdict\", \"printlist\", \"printvalue\", \"printvalues\", \"product\", \"question\", \"questionno\", \"quizquestions\", \"quote\", \"r2\", \"radian\", \"radians\", \"radius\", \"raise\", \"randint\", \"randint\", \"randint\", \"random\", \"random\", \"random\", \"random\", \"randrange\", \"randrange\", \"range\", \"range\", \"range\", \"range\", \"range\", \"raw_input\", \"raw_input\", \"raw_input\", \"raw_input\", \"raw_input\", \"re\", \"re\", \"readline\", \"readline\", \"readlines\", \"release\", \"remove\", \"remove\", \"remove\", \"remove\", \"replace\", \"replace\", \"replace\", \"requests\", \"result\", \"result\", \"result_str\", \"results\", \"results\", \"return\", \"return\", \"return\", \"return\", \"return\", \"return\", \"return\", \"return\", \"return\", \"reverse\", \"reverse_string\", \"reversed\", \"round\", \"round\", \"rounding\", \"row\", \"row_num\", \"rsplit\", \"rstrip\", \"rstrip\", \"running\", \"runningtotal\", \"s1\", \"s2\", \"sample\", \"sample_text\", \"score\", \"search\", \"seconds\", \"seconds\", \"self\", \"sentence\", \"sep\", \"set\", \"set\", \"set\", \"seta\", \"setp\", \"setq\", \"setupgame\", \"setupgame\", \"setupvalues\", \"setx\", \"sety\", \"setz\", \"shoppinglist\", \"showname\", \"shuffle\", \"sin\", \"sine\", \"sineradians\", \"sleep\", \"socket\", \"socket\", \"sorted\", \"sorted\", \"soup\", \"split\", \"split\", \"split\", \"splitlines\", \"sqrt\", \"squarednumbers\", \"start\", \"startplayer\", \"startplayer\", \"step\", \"step\", \"story_heading\", \"str\", \"str\", \"str\", \"str\", \"str\", \"str1\", \"strip\", \"strip\", \"strip\", \"struct\", \"student\", \"students\", \"sub\", \"sum\", \"sum_list\", \"sur_area\", \"sys\", \"sys\", \"tan\", \"targetstr\", \"temp\", \"tempanswer\", \"tempitem\", \"tempquestionlist\", \"test\", \"text\", \"text\", \"textwrap\", \"time\", \"time\", \"timer\", \"total\", \"true\", \"true\", \"true\", \"true\", \"true\", \"true\", \"try\", \"tuple\", \"tuple\", \"tuple\", \"tuplex\", \"tuplex\", \"tuplex\", \"type\", \"typeerror\", \"update\", \"update\", \"upper\", \"upper\", \"user_input\", \"user_input\", \"value\", \"value\", \"value\", \"valueerror\", \"values\", \"volume\", \"while\", \"while\", \"while\", \"while\", \"while\", \"while\", \"while\", \"while\", \"while\", \"while\", \"win\", \"winner\", \"with\", \"with\", \"with\", \"word\", \"word\", \"word_len\", \"word_list\", \"words\", \"words\", \"wrapped\", \"write\", \"write\", \"x1\", \"x1\", \"x2\", \"x2\", \"year\", \"yield\"]}, \"R\": 30, \"lambda.step\": 0.01, \"plot.opts\": {\"xlab\": \"PC1\", \"ylab\": \"PC2\"}, \"topic.order\": [1, 5, 9, 7, 10, 3, 6, 11, 4, 2, 8, 12]};\n",
       "\n",
       "function LDAvis_load_lib(url, callback){\n",
       "  var s = document.createElement('script');\n",
       "  s.src = url;\n",
       "  s.async = true;\n",
       "  s.onreadystatechange = s.onload = callback;\n",
       "  s.onerror = function(){console.warn(\"failed to load library \" + url);};\n",
       "  document.getElementsByTagName(\"head\")[0].appendChild(s);\n",
       "}\n",
       "\n",
       "if(typeof(LDAvis) !== \"undefined\"){\n",
       "   // already loaded: just create the visualization\n",
       "   !function(LDAvis){\n",
       "       new LDAvis(\"#\" + \"ldavis_el52641399801464321846908245662\", ldavis_el52641399801464321846908245662_data);\n",
       "   }(LDAvis);\n",
       "}else if(typeof define === \"function\" && define.amd){\n",
       "   // require.js is available: use it to load d3/LDAvis\n",
       "   require.config({paths: {d3: \"https://cdnjs.cloudflare.com/ajax/libs/d3/3.5.5/d3.min\"}});\n",
       "   require([\"d3\"], function(d3){\n",
       "      window.d3 = d3;\n",
       "      LDAvis_load_lib(\"https://cdn.rawgit.com/bmabey/pyLDAvis/files/ldavis.v1.0.0.js\", function(){\n",
       "        new LDAvis(\"#\" + \"ldavis_el52641399801464321846908245662\", ldavis_el52641399801464321846908245662_data);\n",
       "      });\n",
       "    });\n",
       "}else{\n",
       "    // require.js not available: dynamically load d3 & LDAvis\n",
       "    LDAvis_load_lib(\"https://cdnjs.cloudflare.com/ajax/libs/d3/3.5.5/d3.min.js\", function(){\n",
       "         LDAvis_load_lib(\"https://cdn.rawgit.com/bmabey/pyLDAvis/files/ldavis.v1.0.0.js\", function(){\n",
       "                 new LDAvis(\"#\" + \"ldavis_el52641399801464321846908245662\", ldavis_el52641399801464321846908245662_data);\n",
       "            })\n",
       "         });\n",
       "}\n",
       "</script>"
      ],
      "text/plain": [
       "PreparedData(topic_coordinates=            Freq  cluster  topics           x           y\n",
       "topic                                                    \n",
       "0      17.116979        1       1   91.959114  246.738953\n",
       "4      15.906251        1       2  242.522964  142.058258\n",
       "8      12.613572        1       3   65.774635  -93.679749\n",
       "6      10.315522        1       4  -67.469864   -1.039589\n",
       "9       9.074934        1       5  -94.254189 -181.706970\n",
       "2       7.558302        1       6   79.381721   68.034569\n",
       "5       7.179158        1       7  214.252289 -193.921875\n",
       "10      6.343242        1       8   48.313961 -271.972198\n",
       "3       4.976830        1       9  235.626923  -26.541155\n",
       "1       4.030521        1      10  -63.687382  181.563644\n",
       "7       2.875003        1      11 -213.144073  103.229942\n",
       "11      2.009689        1      12 -228.521454  -79.501389, topic_info=     Category         Freq         Term        Total  loglift  logprob\n",
       "term                                                                  \n",
       "339   Default  1905.000000        print  1905.000000  30.0000  30.0000\n",
       "215   Default   242.000000       import   242.000000  29.0000  29.0000\n",
       "375   Default   328.000000       return   328.000000  28.0000  28.0000\n",
       "433   Default    82.000000         str1    82.000000  27.0000  27.0000\n",
       "168   Default   100.000000        float   100.000000  26.0000  26.0000\n",
       "373   Default   128.000000   result_str   128.000000  25.0000  25.0000\n",
       "216   Default   521.000000           in   521.000000  24.0000  24.0000\n",
       "381   Default   126.000000          row   126.000000  23.0000  23.0000\n",
       "171   Default   445.000000          for   445.000000  22.0000  22.0000\n",
       "267   Default    80.000000         math    80.000000  21.0000  21.0000\n",
       "372   Default    82.000000       result    82.000000  20.0000  20.0000\n",
       "137   Default   229.000000         elif   229.000000  19.0000  19.0000\n",
       "101   Default   353.000000          def   353.000000  18.0000  18.0000\n",
       "84    Default    61.000000      counter    61.000000  17.0000  17.0000\n",
       "432   Default   178.000000          str   178.000000  16.0000  16.0000\n",
       "358   Default   228.000000        range   228.000000  15.0000  15.0000\n",
       "280   Default    80.000000        month    80.000000  14.0000  14.0000\n",
       "356   Default    94.000000       random    94.000000  13.0000  13.0000\n",
       "218   Default   302.000000        input   302.000000  12.0000  12.0000\n",
       "245   Default    60.000000           li    60.000000  11.0000  11.0000\n",
       "83    Default    81.000000        count    81.000000  10.0000  10.0000\n",
       "299   Default   109.000000          num   109.000000   9.0000   9.0000\n",
       "97    Default    55.000000      decimal    55.000000   8.0000   8.0000\n",
       "305   Default    81.000000       number    81.000000   7.0000   7.0000\n",
       "172   Default   179.000000       format   179.000000   6.0000   6.0000\n",
       "471   Default    81.000000       tuplex    81.000000   5.0000   5.0000\n",
       "289   Default    39.000000         name    39.000000   4.0000   4.0000\n",
       "73    Default    93.000000       column    93.000000   3.0000   3.0000\n",
       "255   Default    71.000000         list    71.000000   2.0000   2.0000\n",
       "426   Default    43.000000  startplayer    43.000000   1.0000   1.0000\n",
       "...       ...          ...          ...          ...      ...      ...\n",
       "401   Topic12     5.738454         setq     6.699727   3.7523  -3.8688\n",
       "400   Topic12     4.609002         setp     5.572217   3.7174  -4.0880\n",
       "14    Topic12     3.968244          age     4.927395   3.6907  -4.2377\n",
       "253   Topic12    27.976185         line    36.122128   3.6516  -2.2846\n",
       "327   Topic12     6.735356       person     8.858852   3.6331  -3.7086\n",
       "362   Topic12     8.984466     readline    11.974951   3.6199  -3.4205\n",
       "364   Topic12     2.038419      release     3.082049   3.4938  -4.9038\n",
       "80    Topic12     3.478416         copy     5.634955   3.4248  -4.3694\n",
       "330   Topic12     3.839635     platform     7.884201   3.1877  -4.2706\n",
       "475   Topic12     2.303807       update     5.292638   3.0754  -4.7814\n",
       "91    Topic12     2.353683           d2     5.467761   3.0643  -4.7600\n",
       "90    Topic12     2.352741           d1     5.465720   3.0643  -4.7604\n",
       "275   Topic12     1.909843      minimum     7.410654   2.5513  -4.9690\n",
       "311   Topic12     4.801058         open    21.261843   2.4191  -4.0472\n",
       "487   Topic12     4.617041         with    21.584175   2.3650  -4.0862\n",
       "30    Topic12     4.623850           as    23.485383   2.2820  -4.0848\n",
       "333   Topic12     2.249712          pop    14.755167   2.0264  -4.8052\n",
       "436   Topic12     1.167527        strip    12.285737   1.5536  -5.4611\n",
       "493   Topic12     0.419498        write     5.380806   1.3557  -6.4847\n",
       "483   Topic12     7.629553        while   108.254074   1.2547  -3.5840\n",
       "40    Topic12     1.370581        break    28.872044   0.8596  -5.3008\n",
       "366   Topic12     0.339815       remove     7.201536   0.8535  -6.6953\n",
       "295   Topic12     0.192438     nlargest     5.106927   0.6286  -7.2640\n",
       "208   Topic12     0.109966        heapq     3.077543   0.5755  -7.8236\n",
       "4     Topic12     0.256372     __init__     8.931312   0.3565  -6.9771\n",
       "216   Topic12     6.239749           in   521.559974  -0.5187  -3.7850\n",
       "339   Topic12     8.944278        print  1905.013832  -1.4540  -3.4250\n",
       "214   Topic12     3.265654           if   481.062542  -1.0853  -4.4325\n",
       "138   Topic12     2.205172         else   231.386646  -0.7461  -4.8252\n",
       "218   Topic12     1.174627        input   302.678691  -1.6445  -5.4550\n",
       "\n",
       "[543 rows x 6 columns], token_table=      Topic      Freq        Term\n",
       "term                             \n",
       "0         5  0.693420  __author__\n",
       "3         4  0.838333    __file__\n",
       "4         6  0.895725    __init__\n",
       "6         5  0.833779          a1\n",
       "7         5  0.828276          a2\n",
       "9         6  0.763798         abs\n",
       "10        3  0.634711         add\n",
       "10        7  0.253885         add\n",
       "14       12  0.811788         age\n",
       "15        3  0.912276         all\n",
       "17        9  0.909331    american\n",
       "18        3  0.972399      amount\n",
       "19        9  0.842203  anamerican\n",
       "20        1  0.762857         and\n",
       "20        2  0.045318         and\n",
       "20        3  0.052871         and\n",
       "20        4  0.007553         and\n",
       "20        5  0.007553         and\n",
       "20        7  0.052871         and\n",
       "20        8  0.067977         and\n",
       "21        6  0.885925       angle\n",
       "22        2  0.396404         ans\n",
       "22        5  0.594605         ans\n",
       "23        4  0.928394      answer\n",
       "24        5  0.847758     answers\n",
       "25        1  0.343147      append\n",
       "25        2  0.102944      append\n",
       "25        3  0.231624      append\n",
       "25        5  0.085787      append\n",
       "25        7  0.120101      append\n",
       "...     ...       ...         ...\n",
       "483       1  0.064663       while\n",
       "483       2  0.323313       while\n",
       "483       3  0.147800       while\n",
       "483       5  0.036950       while\n",
       "483       6  0.009238       while\n",
       "483       7  0.120088       while\n",
       "483       8  0.175513       while\n",
       "483       9  0.009238       while\n",
       "483      10  0.036950       while\n",
       "483      12  0.073900       while\n",
       "485       1  0.931574         win\n",
       "486       1  0.905471      winner\n",
       "487       4  0.092660        with\n",
       "487       9  0.648623        with\n",
       "487      12  0.231651        with\n",
       "488       3  0.717586        word\n",
       "488       7  0.271088        word\n",
       "489       1  0.927751    word_len\n",
       "490       9  0.850608   word_list\n",
       "491       3  0.075468       words\n",
       "491       9  0.867885       words\n",
       "492       4  0.910024     wrapped\n",
       "493       4  0.557537       write\n",
       "493       9  0.371692       write\n",
       "494       6  0.438239          x1\n",
       "494       7  0.438239          x1\n",
       "495       6  0.491970          x2\n",
       "495       7  0.368978          x2\n",
       "496       5  0.958222        year\n",
       "497       3  0.852385       yield\n",
       "\n",
       "[678 rows x 3 columns], R=30, lambda_step=0.01, plot_opts={'xlab': 'PC1', 'ylab': 'PC2'}, topic_order=[1, 5, 9, 7, 10, 3, 6, 11, 4, 2, 8, 12])"
      ]
     },
     "execution_count": 8,
     "metadata": {},
     "output_type": "execute_result"
    }
   ],
   "source": [
    "import pyLDAvis.sklearn\n",
    " \n",
    "pyLDAvis.enable_notebook()\n",
    "panel = pyLDAvis.sklearn.prepare(lda_model, train_data_features, vectorizer, mds='tsne')\n",
    "panel\n",
    " "
   ]
  },
  {
   "cell_type": "code",
   "execution_count": 40,
   "metadata": {},
   "outputs": [],
   "source": [
    "def coherence_norm(data, tf_idf_norm):\n",
    "    clusters = np.argmax(data['V_T'], axis=1)\n",
    "    n_clusters = data['V_T'].shape[1]\n",
    "    \n",
    "    clusters_norm = []\n",
    "    clusters_size = []\n",
    "    coherence_cluster = []\n",
    "    \n",
    "    for idx_cluster in range(n_clusters):\n",
    "        \n",
    "        cluster_data = tf_idf_norm[clusters == idx_cluster]\n",
    "        avg_vector = np.average(cluster_data, axis=0)\n",
    "        cluster_norm = np.sqrt(np.power(avg_vector, 2).sum())\n",
    "        clusters_norm.append(cluster_norm)\n",
    "        clusters_size.append(cluster_data.shape[0])\n",
    "        \n",
    "        if cluster_data.shape[0] > 3:\n",
    "            coherence_cluster.append(cluster_norm)\n",
    "    \n",
    "    \n",
    "    data['avg_clusters_norm'] = clusters_norm\n",
    "    data['clusters_size'] = clusters_size\n",
    "    data['coherence_norm'] = np.average(clusters_norm)\n",
    "    return np.average(coherence_cluster), np.std(clusters_norm)"
   ]
  },
  {
   "cell_type": "code",
   "execution_count": 41,
   "metadata": {},
   "outputs": [],
   "source": [
    "for key in sorted(models.keys()):\n",
    "    coherence_norm(models[key], doc_mat_norm)"
   ]
  },
  {
   "cell_type": "code",
   "execution_count": 23,
   "metadata": {},
   "outputs": [
    {
     "data": {
      "text/html": [
       "\n",
       "<div class=\"bk-root\">\n",
       "    <div class=\"bk-plotdiv\" id=\"e0fbf4ec-6ac6-42cd-b9b1-777d3aa6d902\"></div>\n",
       "</div>"
      ]
     },
     "metadata": {},
     "output_type": "display_data"
    },
    {
     "data": {
      "application/javascript": [
       "(function(root) {\n",
       "  function embed_document(root) {\n",
       "    \n",
       "  var docs_json = {\"6f39911d-1501-4b6f-bec2-48b96469ba06\":{\"roots\":{\"references\":[{\"attributes\":{\"source\":{\"id\":\"900ead62-ca03-4e4f-b662-9f61a1d29efb\",\"type\":\"ColumnDataSource\"}},\"id\":\"89198b7c-a399-4f1c-8d08-2290bff66fb1\",\"type\":\"CDSView\"},{\"attributes\":{},\"id\":\"422b5bb1-8c93-4815-ad8b-7185fa8a1431\",\"type\":\"BasicTicker\"},{\"attributes\":{\"dimension\":1,\"plot\":{\"id\":\"cfa347eb-b788-42aa-ae99-639fc2ae86af\",\"subtype\":\"Figure\",\"type\":\"Plot\"},\"ticker\":{\"id\":\"422b5bb1-8c93-4815-ad8b-7185fa8a1431\",\"type\":\"BasicTicker\"}},\"id\":\"4f52ffa5-3832-4307-9d8e-f66f05781dc9\",\"type\":\"Grid\"},{\"attributes\":{\"line_color\":\"red\",\"line_width\":2,\"x\":{\"field\":\"x\"},\"y\":{\"field\":\"y\"}},\"id\":\"7b247f97-9de4-42d3-b669-033d28808814\",\"type\":\"Line\"},{\"attributes\":{\"line_color\":\"#2222aa\",\"line_width\":2,\"x\":{\"field\":\"x\"},\"y\":{\"field\":\"y\"}},\"id\":\"e5aff942-7c4b-4ec2-8b13-4c726c24e7db\",\"type\":\"Line\"},{\"attributes\":{\"plot\":{\"id\":\"cfa347eb-b788-42aa-ae99-639fc2ae86af\",\"subtype\":\"Figure\",\"type\":\"Plot\"},\"ticker\":{\"id\":\"4b816c45-bd72-4d41-a0a8-3405f8a9c504\",\"type\":\"BasicTicker\"}},\"id\":\"4d3bfd54-f6e0-4a63-a39b-23f1d576cc57\",\"type\":\"Grid\"},{\"attributes\":{\"line_alpha\":0.1,\"line_color\":\"#1f77b4\",\"line_width\":2,\"x\":{\"field\":\"x\"},\"y\":{\"field\":\"y\"}},\"id\":\"3a853fd5-efb9-46f4-bbac-c75b6c50c923\",\"type\":\"Line\"},{\"attributes\":{\"data_source\":{\"id\":\"ea80e015-62c5-4839-bf22-b2ee8a7be0d4\",\"type\":\"ColumnDataSource\"},\"glyph\":{\"id\":\"e5aff942-7c4b-4ec2-8b13-4c726c24e7db\",\"type\":\"Line\"},\"hover_glyph\":null,\"muted_glyph\":null,\"nonselection_glyph\":{\"id\":\"3a853fd5-efb9-46f4-bbac-c75b6c50c923\",\"type\":\"Line\"},\"selection_glyph\":null,\"view\":{\"id\":\"c2167eac-b1c8-45c5-a306-bce7a4365fe8\",\"type\":\"CDSView\"}},\"id\":\"29a60b81-e9b4-40c8-bc73-c0cd2989ad9f\",\"type\":\"GlyphRenderer\"},{\"attributes\":{\"source\":{\"id\":\"ea80e015-62c5-4839-bf22-b2ee8a7be0d4\",\"type\":\"ColumnDataSource\"}},\"id\":\"c2167eac-b1c8-45c5-a306-bce7a4365fe8\",\"type\":\"CDSView\"},{\"attributes\":{},\"id\":\"a1e3b7b2-c8c4-4c29-b361-07d05363b2b1\",\"type\":\"BasicTickFormatter\"},{\"attributes\":{\"callback\":null},\"id\":\"d54f9501-500a-4e66-b8a9-7f3226db8088\",\"type\":\"Range1d\"},{\"attributes\":{},\"id\":\"622a3bd9-2eb9-487b-aafe-9845250c8ada\",\"type\":\"BasicTicker\"},{\"attributes\":{},\"id\":\"51973242-dff0-4299-8e19-601bd3acde99\",\"type\":\"PanTool\"},{\"attributes\":{\"line_alpha\":0.1,\"line_color\":\"#1f77b4\",\"line_width\":2,\"x\":{\"field\":\"x\"},\"y\":{\"field\":\"y\"}},\"id\":\"b8094709-dc77-4de5-b590-d0c103189b27\",\"type\":\"Line\"},{\"attributes\":{\"formatter\":{\"id\":\"4cbe3235-32e2-4628-ad53-85d0f1acdce9\",\"type\":\"BasicTickFormatter\"},\"plot\":{\"id\":\"cfa347eb-b788-42aa-ae99-639fc2ae86af\",\"subtype\":\"Figure\",\"type\":\"Plot\"},\"ticker\":{\"id\":\"622a3bd9-2eb9-487b-aafe-9845250c8ada\",\"type\":\"BasicTicker\"},\"y_range_name\":\"coherence\"},\"id\":\"5a4a318d-bb73-45f8-96c4-91681d18875f\",\"type\":\"LinearAxis\"},{\"attributes\":{\"callback\":null,\"column_names\":[\"x\",\"y\"],\"data\":{\"x\":[2,3,4,5,6,7,8,9,10,11,12,13,14,15,16,17,18,19,20,21,22,23,24,25,26,27,28,29,30,31,32,33,34,35,36,37,38,39,40,41,42,43,44,45,46,47,48,49,50,51,52,53,54,55,56,57,58,59,60,61,62,63,64,65,66,67,68,69,70,71,72,73,74,75,76,77,78,79,80,81,82,83,84,85,86,87,88,89,90,91,92,93,94,95,96,97,98,99],\"y\":[0.4975640548023119,0.4765338141864242,0.5012544847570305,0.5564085317799222,0.55442341069048,0.5490511393839389,0.585394998393087,0.6614261175909201,0.6576128852750913,0.6406785796080463,0.6748815435563947,0.6668449017729189,0.6567349034681303,0.650099191037731,0.6929366084624796,0.6858795321034719,0.6795508630172364,0.6802104611468125,0.708312133440949,0.6854508244446939,0.6809992998895852,0.6754708332458911,0.6805666968563443,0.680283178327023,0.6798261708039909,0.6739548245164713,0.681317596393866,0.6772849941754442,0.6775941387577896,0.6743385713443487,0.6761258786923124,0.6751890096462607,0.6920117648318085,0.6898921715377535,0.6908167809083667,0.6907426151331943,0.6911236760715126,0.6933158650679102,0.6914824930181036,0.694510322693088,0.6968780062409135,0.7202225017754702,0.72419974938924,0.7234472006679872,0.7044469720372843,0.7297380261250395,0.7368209193456744,0.7322024303749803,0.7322263761787379,0.7322632203489928,0.7484909444788314,0.7609195416178116,0.7549860655382115,0.7628748688450634,0.7562369824916539,0.7625293163699569,0.7588400827778744,0.7604106135590413,0.7597561393376034,0.7618965803554631,0.7659171652637399,0.7678752105585523,0.7631295035125469,0.7601436498019442,0.7697264587989425,0.771304262798798,0.7844600419082406,0.7718248315952757,0.779678721353303,0.790022331922853,0.7806465664302453,0.7823419575544709,0.7815382316186252,0.7854845539720281,0.7846871766580991,0.7920461182066683,0.786030139606764,0.7946942718831888,0.7973477463982925,0.7913414198446856,0.7896167077030911,0.7961481431226045,0.8003221094953167,0.7962587673039598,0.8011417427636478,0.7934672819131573,0.7983390945540113,0.7960378452067393,0.7983574061166209,0.7940414537296565,0.7985970124649715,0.8062437543759232,0.8014225903315234,0.8015976786723435,0.7999102020379348,0.8026583553130898,0.8063669814120152,0.8053047512032061]}},\"id\":\"900ead62-ca03-4e4f-b662-9f61a1d29efb\",\"type\":\"ColumnDataSource\"},{\"attributes\":{\"data_source\":{\"id\":\"900ead62-ca03-4e4f-b662-9f61a1d29efb\",\"type\":\"ColumnDataSource\"},\"glyph\":{\"id\":\"7b247f97-9de4-42d3-b669-033d28808814\",\"type\":\"Line\"},\"hover_glyph\":null,\"muted_glyph\":null,\"nonselection_glyph\":{\"id\":\"b8094709-dc77-4de5-b590-d0c103189b27\",\"type\":\"Line\"},\"selection_glyph\":null,\"view\":{\"id\":\"89198b7c-a399-4f1c-8d08-2290bff66fb1\",\"type\":\"CDSView\"},\"y_range_name\":\"coherence\"},\"id\":\"ba7653db-7e0c-4eb9-8328-67dcedb04015\",\"type\":\"GlyphRenderer\"},{\"attributes\":{},\"id\":\"8632cbec-448f-4e0d-b1f8-fac8b220b085\",\"type\":\"BasicTickFormatter\"},{\"attributes\":{},\"id\":\"4cbe3235-32e2-4628-ad53-85d0f1acdce9\",\"type\":\"BasicTickFormatter\"},{\"attributes\":{},\"id\":\"4b816c45-bd72-4d41-a0a8-3405f8a9c504\",\"type\":\"BasicTicker\"},{\"attributes\":{\"formatter\":{\"id\":\"a1e3b7b2-c8c4-4c29-b361-07d05363b2b1\",\"type\":\"BasicTickFormatter\"},\"plot\":{\"id\":\"cfa347eb-b788-42aa-ae99-639fc2ae86af\",\"subtype\":\"Figure\",\"type\":\"Plot\"},\"ticker\":{\"id\":\"422b5bb1-8c93-4815-ad8b-7185fa8a1431\",\"type\":\"BasicTicker\"}},\"id\":\"5e9d60ab-a98b-4746-9dff-568faaf0de64\",\"type\":\"LinearAxis\"},{\"attributes\":{\"active_drag\":\"auto\",\"active_inspect\":\"auto\",\"active_scroll\":\"auto\",\"active_tap\":\"auto\",\"tools\":[{\"id\":\"3386836b-bcdc-4a79-80b0-c4cdc24c8564\",\"type\":\"HoverTool\"},{\"id\":\"51973242-dff0-4299-8e19-601bd3acde99\",\"type\":\"PanTool\"},{\"id\":\"fddf5021-39bb-4c13-be13-871d832a2c01\",\"type\":\"WheelZoomTool\"}]},\"id\":\"21d0238e-9609-4ff3-9790-bf245c8b10c1\",\"type\":\"Toolbar\"},{\"attributes\":{},\"id\":\"57bc25f9-8e3a-436c-91ab-96ec9d537a32\",\"type\":\"LinearScale\"},{\"attributes\":{\"below\":[{\"id\":\"dee63d63-b810-4228-bcbd-9988540b7287\",\"type\":\"LinearAxis\"}],\"extra_y_ranges\":{\"coherence\":{\"id\":\"d54f9501-500a-4e66-b8a9-7f3226db8088\",\"type\":\"Range1d\"}},\"left\":[{\"id\":\"5e9d60ab-a98b-4746-9dff-568faaf0de64\",\"type\":\"LinearAxis\"}],\"plot_height\":500,\"plot_width\":900,\"renderers\":[{\"id\":\"dee63d63-b810-4228-bcbd-9988540b7287\",\"type\":\"LinearAxis\"},{\"id\":\"4d3bfd54-f6e0-4a63-a39b-23f1d576cc57\",\"type\":\"Grid\"},{\"id\":\"5e9d60ab-a98b-4746-9dff-568faaf0de64\",\"type\":\"LinearAxis\"},{\"id\":\"4f52ffa5-3832-4307-9d8e-f66f05781dc9\",\"type\":\"Grid\"},{\"id\":\"29a60b81-e9b4-40c8-bc73-c0cd2989ad9f\",\"type\":\"GlyphRenderer\"},{\"id\":\"ba7653db-7e0c-4eb9-8328-67dcedb04015\",\"type\":\"GlyphRenderer\"},{\"id\":\"5a4a318d-bb73-45f8-96c4-91681d18875f\",\"type\":\"LinearAxis\"}],\"right\":[{\"id\":\"5a4a318d-bb73-45f8-96c4-91681d18875f\",\"type\":\"LinearAxis\"}],\"title\":{\"id\":\"35391e76-2a74-453d-a3ff-9280a5ae5ade\",\"type\":\"Title\"},\"toolbar\":{\"id\":\"21d0238e-9609-4ff3-9790-bf245c8b10c1\",\"type\":\"Toolbar\"},\"x_range\":{\"id\":\"5101afa4-3249-45ed-b5fe-9b1cac9795dc\",\"type\":\"DataRange1d\"},\"x_scale\":{\"id\":\"3440c4f0-99f9-4f01-b63e-5a54020abda5\",\"type\":\"LinearScale\"},\"y_range\":{\"id\":\"1fd4c5d5-ba00-4bdd-a0a7-b6678eb1fae3\",\"type\":\"DataRange1d\"},\"y_scale\":{\"id\":\"57bc25f9-8e3a-436c-91ab-96ec9d537a32\",\"type\":\"LinearScale\"}},\"id\":\"cfa347eb-b788-42aa-ae99-639fc2ae86af\",\"subtype\":\"Figure\",\"type\":\"Plot\"},{\"attributes\":{\"formatter\":{\"id\":\"8632cbec-448f-4e0d-b1f8-fac8b220b085\",\"type\":\"BasicTickFormatter\"},\"plot\":{\"id\":\"cfa347eb-b788-42aa-ae99-639fc2ae86af\",\"subtype\":\"Figure\",\"type\":\"Plot\"},\"ticker\":{\"id\":\"4b816c45-bd72-4d41-a0a8-3405f8a9c504\",\"type\":\"BasicTicker\"}},\"id\":\"dee63d63-b810-4228-bcbd-9988540b7287\",\"type\":\"LinearAxis\"},{\"attributes\":{\"plot\":null,\"text\":\"Ncut vs Coherence\"},\"id\":\"35391e76-2a74-453d-a3ff-9280a5ae5ade\",\"type\":\"Title\"},{\"attributes\":{\"callback\":null},\"id\":\"1fd4c5d5-ba00-4bdd-a0a7-b6678eb1fae3\",\"type\":\"DataRange1d\"},{\"attributes\":{\"callback\":null},\"id\":\"5101afa4-3249-45ed-b5fe-9b1cac9795dc\",\"type\":\"DataRange1d\"},{\"attributes\":{},\"id\":\"fddf5021-39bb-4c13-be13-871d832a2c01\",\"type\":\"WheelZoomTool\"},{\"attributes\":{},\"id\":\"3440c4f0-99f9-4f01-b63e-5a54020abda5\",\"type\":\"LinearScale\"},{\"attributes\":{\"callback\":null,\"column_names\":[\"x\",\"y\"],\"data\":{\"x\":[2,3,4,5,6,7,8,9,10,11,12,13,14,15,16,17,18,19,20,21,22,23,24,25,26,27,28,29,30,31,32,33,34,35,36,37,38,39,40,41,42,43,44,45,46,47,48,49,50,51,52,53,54,55,56,57,58,59,60,61,62,63,64,65,66,67,68,69,70,71,72,73,74,75,76,77,78,79,80,81,82,83,84,85,86,87,88,89,90,91,92,93,94,95,96,97,98,99],\"y\":[0.2045250299173345,0.2622922324000359,0.289114906996033,0.3052565237851538,0.3216307181432011,0.3341961166783934,0.33119484900115126,0.3296982030402599,0.3299514586724571,0.33287999996143725,0.3350362781842331,0.337190266800128,0.3395572746381899,0.3371745383507518,0.35044857094294435,0.35024257292749755,0.35007411935815724,0.34994844654651525,0.35192703423848415,0.3532680058351338,0.35029394754300713,0.3491925313398436,0.3483559885792264,0.35007464557742446,0.3473919254339774,0.3493372890163658,0.35503663223124443,0.3561573853824535,0.35530037521038926,0.3591810026039536,0.35909620838734896,0.35847908765227815,0.3608614007580533,0.3603533686710862,0.3581364515561481,0.3561877236319691,0.35635849630431676,0.3561320757365522,0.35564799645012896,0.3567343201179664,0.35575120897444035,0.3562525426397603,0.3587425440804869,0.358786221899638,0.35711423520431906,0.3569789824578929,0.35908357660674195,0.3593820149252786,0.3620416327708737,0.3626983867388468,0.3605431249585582,0.3636710618689197,0.3609980087474999,0.3628121778041553,0.3591399990967134,0.36174246046182285,0.3620097069854621,0.36126641503452117,0.36128639248557326,0.36316001957886673,0.3638172111764389,0.36427630745470047,0.3650497744655634,0.36412707018787444,0.3620336539757992,0.3648906436479903,0.363616354510826,0.3640399065944504,0.36417019588171745,0.3634587241479753,0.3680925685590268,0.36500961575753516,0.3672637830918614,0.3673807538122504,0.3686885409329724,0.3660734092631268,0.36788054261625003,0.36737668695417336,0.3676509628181755,0.36715445919264517,0.36585211443925536,0.36841741916457016,0.36679682747870457,0.3668616928267475,0.3677355434698005,0.36735258620283234,0.3670651649380383,0.3698671929452527,0.36727223150979743,0.3688630548189422,0.36826622108729806,0.36887057626821224,0.3693681116522784,0.36968488211360573,0.36797027868370175,0.36880584784167514,0.37180061880734927,0.3700789938178295]}},\"id\":\"ea80e015-62c5-4839-bf22-b2ee8a7be0d4\",\"type\":\"ColumnDataSource\"},{\"attributes\":{\"callback\":null,\"tooltips\":[[\"index\",\"$index\"],[\"(x, y)\",\"($x{0}, $y)\"]]},\"id\":\"3386836b-bcdc-4a79-80b0-c4cdc24c8564\",\"type\":\"HoverTool\"}],\"root_ids\":[\"cfa347eb-b788-42aa-ae99-639fc2ae86af\"]},\"title\":\"Bokeh Application\",\"version\":\"0.12.14\"}};\n",
       "  var render_items = [{\"docid\":\"6f39911d-1501-4b6f-bec2-48b96469ba06\",\"elementid\":\"e0fbf4ec-6ac6-42cd-b9b1-777d3aa6d902\",\"modelid\":\"cfa347eb-b788-42aa-ae99-639fc2ae86af\"}];\n",
       "  root.Bokeh.embed.embed_items_notebook(docs_json, render_items);\n",
       "\n",
       "  }\n",
       "  if (root.Bokeh !== undefined) {\n",
       "    embed_document(root);\n",
       "  } else {\n",
       "    var attempts = 0;\n",
       "    var timer = setInterval(function(root) {\n",
       "      if (root.Bokeh !== undefined) {\n",
       "        embed_document(root);\n",
       "        clearInterval(timer);\n",
       "      }\n",
       "      attempts++;\n",
       "      if (attempts > 100) {\n",
       "        console.log(\"Bokeh: ERROR: Unable to run BokehJS code because BokehJS library is missing\")\n",
       "        clearInterval(timer);\n",
       "      }\n",
       "    }, 10, root)\n",
       "  }\n",
       "})(window);"
      ],
      "application/vnd.bokehjs_exec.v0+json": ""
     },
     "metadata": {
      "application/vnd.bokehjs_exec.v0+json": {
       "id": "cfa347eb-b788-42aa-ae99-639fc2ae86af"
      }
     },
     "output_type": "display_data"
    }
   ],
   "source": [
    "data_x = sorted(models.keys())\n",
    "data_ncut = [models[x][\"n_cut\"]/x for x in data_x]\n",
    "data_coh = [models[x][\"coherence_norm\"] for x in data_x]\n",
    "\n",
    "hover = HoverTool(\n",
    "        tooltips=[\n",
    "            (\"index\", \"$index\"),\n",
    "            (\"(x, y)\", \"($x{0}, $y)\"),        ]\n",
    "    )\n",
    "\n",
    "\n",
    "plot = figure(title=\"Ncut vs Coherence\", plot_height=500, plot_width=900,\n",
    "    tools=[hover, PanTool(), WheelZoomTool()])\n",
    "\n",
    "plot.line(data_x, data_ncut, color=\"#2222aa\", line_width=2)\n",
    "#plot.circle(data_x, data_ncut, color=\"#2222aa\", fill_color=\"white\", size=8)\n",
    "\n",
    "plot.extra_y_ranges = {\"coherence\": Range1d(start=0.0, end=1.0)}\n",
    "plot.line(data_x, data_coh, line_width=2, color=\"red\", y_range_name=\"coherence\")\n",
    "plot.add_layout(LinearAxis(y_range_name=\"coherence\"), 'right')\n",
    "\n",
    "show(plot)"
   ]
  },
  {
   "cell_type": "code",
   "execution_count": 25,
   "metadata": {
    "collapsed": true
   },
   "outputs": [],
   "source": [
    "# Take a look at the words in the vocabulary\n",
    "vocab = vectorizer.get_feature_names()\n",
    "vocab_cell = np.asarray(vocab).astype(object)"
   ]
  },
  {
   "cell_type": "code",
   "execution_count": 28,
   "metadata": {
    "collapsed": true
   },
   "outputs": [],
   "source": [
    "import matplotlib.pyplot as plt\n",
    "import numpy as np\n",
    "import seaborn as sns"
   ]
  },
  {
   "cell_type": "code",
   "execution_count": 30,
   "metadata": {},
   "outputs": [
    {
     "data": {
      "text/plain": [
       "(758, 12)"
      ]
     },
     "execution_count": 30,
     "metadata": {},
     "output_type": "execute_result"
    }
   ],
   "source": [
    "V_T = lda_Z\n",
    "V_T.shape"
   ]
  },
  {
   "cell_type": "code",
   "execution_count": 31,
   "metadata": {},
   "outputs": [
    {
     "data": {
      "text/plain": [
       "(758, 12)"
      ]
     },
     "execution_count": 31,
     "metadata": {},
     "output_type": "execute_result"
    }
   ],
   "source": [
    "row_sums = V_T.sum(axis=1)\n",
    "new_matrix = V_T / row_sums[:, np.newaxis]\n",
    "new_matrix.shape"
   ]
  },
  {
   "cell_type": "code",
   "execution_count": 32,
   "metadata": {},
   "outputs": [
    {
     "data": {
      "image/png": "[encoded data removed]",
      "text/plain": [
       "<matplotlib.figure.Figure at 0x7f4fa4706a58>"
      ]
     },
     "metadata": {},
     "output_type": "display_data"
    }
   ],
   "source": [
    "fig = plt.figure(figsize=(12,8))\n",
    "ax = sns.heatmap(new_matrix)\n",
    "plt.show()"
   ]
  },
  {
   "cell_type": "code",
   "execution_count": 33,
   "metadata": {},
   "outputs": [
    {
     "data": {
      "text/plain": [
       "Counter({0: 87,\n",
       "         1: 30,\n",
       "         2: 69,\n",
       "         3: 52,\n",
       "         4: 98,\n",
       "         5: 37,\n",
       "         6: 117,\n",
       "         7: 32,\n",
       "         8: 135,\n",
       "         9: 38,\n",
       "         10: 54,\n",
       "         11: 9})"
      ]
     },
     "execution_count": 33,
     "metadata": {},
     "output_type": "execute_result"
    }
   ],
   "source": [
    "Counter(np.argmax(V_T, axis=1))"
   ]
  },
  {
   "cell_type": "code",
   "execution_count": 34,
   "metadata": {
    "collapsed": true
   },
   "outputs": [],
   "source": [
    "def print_top_words(model, feature_names, n_top_words):\n",
    "    for topic_idx, topic in enumerate(model.components_):\n",
    "        message = \"Topic #%d: \" % topic_idx\n",
    "        message += \" \".join([feature_names[i]\n",
    "                             for i in topic.argsort()[:-n_top_words - 1:-1]])\n",
    "        print(message)\n",
    "    print()"
   ]
  },
  {
   "cell_type": "code",
   "execution_count": 36,
   "metadata": {
    "scrolled": false
   },
   "outputs": [
    {
     "name": "stdout",
     "output_type": "stream",
     "text": [
      "\n",
      "Topics in LDA model:\n",
      "Topic #0: in for range print result_str row return def if and column str game or sum append else hexseg len player dict step int col true winner\n",
      "Topic #1: print counter decimal startplayer board context import set sety collections setx socket connect value setz prec seta printvalue s1 s2 output def getcontext re color1 color2\n",
      "Topic #2: print float math input import self pi def sqrt radians area round format height radian sin int volume radius itertools cos sine cn from class return\n",
      "Topic #3: print li list tuplex in for my_dict words with lambda as append max open my_file min listx num_list tuple printlist keys student def key word_list line\n",
      "Topic #4: print input format if shoppinglist elif int else false true element item def not len while in finished for temp quote denary menuchoice nomoreswaps binarystring tempitem\n",
      "Topic #5: return def result count print nums if data in for len hangman guessedcharacters word input num each fib chances append setupvalues while elif num_set pop currentguess\n",
      "Topic #6: print import random os from array_num sys path str time in for array fractions textwrap randint choice text if f1 soup beautifulsoup lower sample answer story_heading\n",
      "Topic #7: str1 print color ast join list1 list2 char file end map next reverse_string rsplit reversed colors squarednumbers tuple length tuplex count replace guesses formula len lst\n",
      "Topic #8: print in for num if set word items values return letter len index def value append not else raw_input split key range join elif int sorted\n",
      "Topic #9: print elif if month else input in day int outputstr format year character targetstr isinstance len each number for found or score question tempquestionlist true eachchar\n",
      "Topic #10: print number return str if int tuplex def guess else elif try total while n2 n1 input true none break except index and multiply numbers n3\n",
      "Topic #11: name line matrix current names counter_dict readline print type while person in setq open as with setp age platform copy if d2 d1 update pop else\n",
      "\n"
     ]
    }
   ],
   "source": [
    "print(\"\\nTopics in LDA model:\")\n",
    "tfidf_feature_names = vectorizer.get_feature_names()\n",
    "print_top_words(lda_model, tfidf_feature_names, 26)"
   ]
  }
 ],
 "metadata": {
  "kernelspec": {
   "display_name": "Django Shell-Plus",
   "language": "python",
   "name": "django_extensions"
  },
  "language_info": {
   "codemirror_mode": {
    "name": "ipython",
    "version": 3
   },
   "file_extension": ".py",
   "mimetype": "text/x-python",
   "name": "python",
   "nbconvert_exporter": "python",
   "pygments_lexer": "ipython3",
   "version": "3.6.2"
  }
 },
 "nbformat": 4,
 "nbformat_minor": 2
}
