{
 "cells": [
  {
   "cell_type": "markdown",
   "metadata": {},
   "source": [
    "### Next sample strategy\n",
    "\n",
    "Considered strategies used to propose the next problem:\n",
    "1. Randomly sample from the dataset D. Does not model the student and is therefore unable to adapt to their ability. May present redundant teaching examples of concepts that have already been learned by the student and not reinforce concepts that the student has shown to be uncertain about.\n",
    "2. ~~Worst predicted. Related to uncertainty sampling used in Active Learning. Selects the next teaching image whose prediction deviates most from the ground truth. Prone to proposing outliers. In the learning to program problem, maybe it presents the hardest exercises?~~\n",
    "3. Expected Error Reduction. Chooses the teaching image which, if labeled correctly, would have the greatest reduction on the future error over the images that are not in the teaching set. Student’s conditional distribution given the teaching set can be approximated using Gaussian Random Field."
   ]
  },
  {
   "cell_type": "markdown",
   "metadata": {},
   "source": [
    "#### Import libraries"
   ]
  },
  {
   "cell_type": "code",
   "execution_count": 62,
   "metadata": {},
   "outputs": [],
   "source": [
    "# Input\n",
    "# from db import PythonProblems\n",
    "# import io\n",
    "\n",
    "# Helpers\n",
    "import numpy as np\n",
    "\n",
    "# Preprocessing\n",
    "# import tokenize\n",
    "# from sklearn.feature_extraction.text import CountVectorizer\n",
    "\n",
    "# Distance\n",
    "# from scipy.spatial.distance import pdist, squareform\n",
    "from sklearn.metrics.pairwise import rbf_kernel\n",
    "\n",
    "# Learning\n",
    "from sampling import get_next_sample\n",
    "\n",
    "# Visualization\n",
    "import matplotlib.pyplot as plt\n",
    "import seaborn as sns\n",
    "from generate_pdf import PDFReport\n",
    "\n",
    "%matplotlib inline"
   ]
  },
  {
   "cell_type": "markdown",
   "metadata": {},
   "source": [
    "### Generate synthetic data"
   ]
  },
  {
   "cell_type": "code",
   "execution_count": 63,
   "metadata": {},
   "outputs": [
    {
     "data": {
      "text/plain": [
       "<matplotlib.collections.PathCollection at 0x7f75488c0860>"
      ]
     },
     "execution_count": 63,
     "metadata": {},
     "output_type": "execute_result"
    },
    {
     "data": {
      "image/png": "[encoded data removed]",
      "text/plain": [
       "<matplotlib.figure.Figure at 0x7f7548809d68>"
      ]
     },
     "metadata": {},
     "output_type": "display_data"
    }
   ],
   "source": [
    "# Generate data\n",
    "sample = np.zeros((4,2))\n",
    "sample[0] = [0,0]\n",
    "sample[1] = [0.4,0]\n",
    "# sample[2] = [0,0]\n",
    "sample[2] = [0.7,0]\n",
    "sample[3] = [1,0]\n",
    "\n",
    "fig = plt.figure(figsize=(10,5))\n",
    "# plt.scatter(x=sample[:,0], y=sample[:,1])\n",
    "ax = fig.add_subplot(111)\n",
    "\n",
    "ax.text(0.35, 0.005, r'$P_1(0) = 60%%$' + '\\n' + r'$P_1(1) = 40%%$', fontsize=12)\n",
    "ax.text(0.65, 0.005, r'$P_2(0) = 30%%$' + '\\n' + r'$P_2(1) = 70%%$', fontsize=12)\n",
    "\n",
    "Y = np.zeros((4,2))\n",
    "Y[0] = [0,1]\n",
    "Y[1] = [0,1]\n",
    "Y[2] = [1,0]\n",
    "Y[3] = [1,0]\n",
    "\n",
    "# Set L as a labelled set\n",
    "L = [0, 3]\n",
    "\n",
    "# Create the set of unlabelled samples (U)\n",
    "U = np.setdiff1d(np.arange(nS), L)\n",
    "# Plot unlabeled samples\n",
    "plt.scatter(x=sample[U,0], y=sample[U,1], s=300)\n",
    "\n",
    "# Color by class the ones already labeled\n",
    "plt.scatter(x=sample[L,0], y=sample[L,1], c=Y[L,0], s=300)"
   ]
  },
  {
   "cell_type": "code",
   "execution_count": 84,
   "metadata": {},
   "outputs": [
    {
     "name": "stdout",
     "output_type": "stream",
     "text": [
      "(4, 2)\n",
      "(4, 4)\n"
     ]
    }
   ],
   "source": [
    "X = np.zeros((4,2))\n",
    "X[0] = [0,1]\n",
    "X[3] = [1,0]\n",
    "print(X.shape)\n",
    "\n",
    "Y = np.zeros((4,2))\n",
    "Y[0] = [0,1]\n",
    "Y[1] = [0,1]\n",
    "Y[2] = [1,0]\n",
    "Y[3] = [1,0]\n",
    "\n",
    "# Create W as a similarity matrix\n",
    "# W = cosine_similarity(clustering.X) # nS x nS\n",
    "W = rbf_kernel(sample, gamma=1) # nS x nS\n",
    "print(W.shape)\n",
    "\n",
    "# Set L as a labelled set\n",
    "L = [0, 3]"
   ]
  },
  {
   "cell_type": "markdown",
   "metadata": {},
   "source": [
    "$d_i = \\sum_j w_{ij}$\n",
    "\n",
    "$D = diag(d_i)$\n",
    "\n",
    "The *combinatorial Laplacian* is the $n x n$ matrix:\n",
    "\n",
    "$\\Delta = D - W$\n",
    "\n",
    "We partition the Laplacian matrix $\\Delta$ into blocks for labeled and unlabeled nodes:\n",
    "\n",
    "$\\Delta = \\begin{bmatrix}\n",
    "\\Delta_{ll} & \\Delta_{lu} \\\\ \n",
    "\\Delta_{ul} & \\Delta_{uu} \\\\\n",
    "\\end{bmatrix}$\n",
    "\n",
    "The harmonic minimizing function $f$ is defined as:\n",
    "\n",
    "$f = \\begin{bmatrix}\n",
    "f_l \\\\\n",
    "f_u\n",
    "\\end{bmatrix}$ where $fl = y_L$ and **$f_u$ denotes the mean values on the unlabeled data points**. The solution is given by:\n",
    "\n",
    "$f_u = -\\Delta_{uu}^{-1}\\Delta_{ul}f_l$\n",
    "\n",
    "The *true* risk $R(f)$ of the Bayes classifier based on the harmonic function $f$ is\n",
    "\n",
    "$$R(f) = \\sum_{i=1}^{n} \\sum_{y_i=C_j}^{C_m} \\left [ y_i \\neq C_j \\right ] p^\\ast(y_i|L)$$\n",
    "\n",
    "**This is the probability (weighted sum) that the class DOES NOT belong to the ground truth.**\n",
    "\n",
    "Here, $p^\\ast(y_i|L)$ is the unknown true label distribution at node $i$ given the labeled data. In order to proceed, we estimate this unknown distribution with the mean of the Gaussian field model:\n",
    "\n",
    "$p^\\ast(y_i=C|L)\\approx f_{iC}$\n",
    "\n",
    "The risk can then be written as:\n",
    "\n",
    "$\\hat{R}(f) = \\sum_{i=1}^{n} 1 - \\left[ y_i = C\\right] p^{\\ast}(yi=C|L)$\n",
    "\n",
    "Performing active learning and querying an unlabeled node $k$, we will receive an answer $y_k$. Adding this point to the training set and retraining, the Gaussian field and its mean function will change. The new harmonic function is denoted by $f^{+(x_k,y_k)}$\n",
    "\n",
    "The active learning criterion here is the greedy procedure of choosing the next query $k$ that minimizes the expected estimated risk:\n",
    "\n",
    "$k = argmin_{k'}\\hat{R}(f^{+x_{k'}})$\n",
    "\n",
    "And  $f^{+(x_k,y_k)}$ can be calculated as:\n",
    "\n",
    "$f_{u}^{+(x_k,y_k)} = f_u + (y_k - f_k) \\frac{(\\Delta_{uu}^{-1})_k}{(\\Delta_{uu}^{-1})_{kk}}$\n",
    "\n",
    "where $(\\Delta_{uu}^{-1})_{k}$ of the $k$-th column of the inverse Laplacian on the unlabeled data, and $(\\Delta_{uu}^{-1})_{kk}$ is the $k$-th diagonal element of the same matrix."
   ]
  },
  {
   "cell_type": "code",
   "execution_count": 85,
   "metadata": {
    "scrolled": false
   },
   "outputs": [
    {
     "data": {
      "image/png": "[encoded data removed]",
      "text/plain": [
       "<matplotlib.figure.Figure at 0x7f75481500f0>"
      ]
     },
     "metadata": {},
     "output_type": "display_data"
    },
    {
     "data": {
      "image/png": "[encoded data removed]",
      "text/plain": [
       "<matplotlib.figure.Figure at 0x7f7548123b00>"
      ]
     },
     "metadata": {},
     "output_type": "display_data"
    }
   ],
   "source": [
    "doc = PDFReport()\n",
    "for i in range(2):\n",
    "    # Get next sample\n",
    "    sample_id = get_next_sample(X, Y, W, L)\n",
    "    \n",
    "    # Plot sample\n",
    "    fig = plt.figure(figsize=(10,5))\n",
    "    \n",
    "    # Get the total number of samples (nS) and total number of classes (nC). nC is not actually used.\n",
    "    [nS, nC] = X.shape\n",
    "    # Create the set of unlabelled samples (U)\n",
    "    U = np.setdiff1d(np.arange(nS), L)\n",
    "    # Plot unlabeled samples\n",
    "    plt.scatter(x=sample[U,0], y=sample[U,1], s=300)\n",
    "    \n",
    "    # Color by class the ones already labeled\n",
    "    plt.scatter(x=sample[L,0], y=sample[L,1], c=Y[L,0], s=300)\n",
    "    \n",
    "    # Star the queried sample\n",
    "    plt.scatter(x=sample[sample_id,0], y=sample[sample_id,1], color='r', marker=r'$\\star$', s=800)\n",
    "    \n",
    "    # Save figure\n",
    "    plt.savefig(\"images/solution_%d.png\" % sample_id)\n",
    "#     print(\"Question %d\" % sample_id)\n",
    "    \n",
    "    # Print question\n",
    "#     problem = questions[sample_id]\n",
    "#     solution = solutions[sample_id]\n",
    "    \n",
    "    # Suppose that the student gets it correctly\n",
    "    # Update X matrix\n",
    "    X[sample_id] = Y[sample_id]\n",
    "    L.append(sample_id)\n",
    "    doc.append_solution(sample_id, '', '')\n",
    "\n",
    "doc.generate_pdf(\"basic_example\")"
   ]
  },
  {
   "cell_type": "markdown",
   "metadata": {},
   "source": [
    "### References\n",
    "[1] Johns, E., Aodha, O. Mac & Brostow, G. J. Becoming the expert - Interactive multi-class machine teaching. in Proceedings of the IEEE Computer Society Conference on Computer Vision and Pattern Recognition (2015). doi:10.1109/CVPR.2015.7298877\n",
    "\n",
    "[2] Zhu, X., Lafferty, J. & Ghahramani, Z. Combining Active Learning and Semi-Supervised Learning Using Gaussian Fields and Harmonic Functions Xiaojin. … Data Mach. Learn. … (2003)."
   ]
  }
 ],
 "metadata": {
  "kernelspec": {
   "display_name": "Python 3",
   "language": "python",
   "name": "python3"
  },
  "language_info": {
   "codemirror_mode": {
    "name": "ipython",
    "version": 3
   },
   "file_extension": ".py",
   "mimetype": "text/x-python",
   "name": "python",
   "nbconvert_exporter": "python",
   "pygments_lexer": "ipython3",
   "version": "3.6.2"
  }
 },
 "nbformat": 4,
 "nbformat_minor": 2
}
